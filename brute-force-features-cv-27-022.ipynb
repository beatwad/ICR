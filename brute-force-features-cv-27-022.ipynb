{
 "cells": [
  {
   "cell_type": "code",
   "execution_count": 1,
   "metadata": {
    "_kg_hide-input": true,
    "_kg_hide-output": true,
    "execution": {
     "iopub.execute_input": "2023-06-07T14:05:23.388287Z",
     "iopub.status.busy": "2023-06-07T14:05:23.387870Z",
     "iopub.status.idle": "2023-06-07T14:05:27.879943Z",
     "shell.execute_reply": "2023-06-07T14:05:27.878665Z",
     "shell.execute_reply.started": "2023-06-07T14:05:23.388256Z"
    }
   },
   "outputs": [],
   "source": [
    "import numpy as np\n",
    "import pandas as pd\n",
    "\n",
    "import lightgbm as lgb\n",
    "\n",
    "from imblearn.under_sampling import RandomUnderSampler\n",
    "from sklearn.model_selection import StratifiedKFold\n",
    "from sklearn.preprocessing import StandardScaler\n",
    "from sklearn.metrics import log_loss\n",
    "\n",
    "import eli5\n",
    "from IPython.display import display\n",
    "from eli5.permutation_importance import get_score_importances\n",
    "from eli5.sklearn import PermutationImportance\n",
    "\n",
    "import matplotlib.pyplot as plt\n",
    "\n",
    "import itertools\n",
    "from tqdm.auto import tqdm\n",
    "\n",
    "import warnings\n",
    "warnings.filterwarnings('ignore')"
   ]
  },
  {
   "cell_type": "markdown",
   "metadata": {},
   "source": [
    "# Load Data"
   ]
  },
  {
   "cell_type": "code",
   "execution_count": 2,
   "metadata": {
    "execution": {
     "iopub.execute_input": "2023-06-07T14:05:27.886437Z",
     "iopub.status.busy": "2023-06-07T14:05:27.886105Z",
     "iopub.status.idle": "2023-06-07T14:05:27.929941Z",
     "shell.execute_reply": "2023-06-07T14:05:27.928860Z",
     "shell.execute_reply.started": "2023-06-07T14:05:27.886408Z"
    }
   },
   "outputs": [],
   "source": [
    "COMP_PATH = \"icr-identify-age-related-conditions\"\n",
    "\n",
    "train_df = pd.read_csv(f'{COMP_PATH}//train.csv')\n",
    "test_df = pd.read_csv(f'{COMP_PATH}/test.csv')\n",
    "greeks = pd.read_csv(f\"{COMP_PATH}/greeks.csv\")\n",
    "sample_submission = pd.read_csv(f\"{COMP_PATH}/sample_submission.csv\")\n",
    "\n",
    "train_df['EJ'] = train_df['EJ'].replace({'A': 0, 'B': 1})\n",
    "test_df['EJ'] = test_df['EJ'].replace({'A': 0, 'B': 1})\n",
    "\n",
    "train_df.columns = train_df.columns.str.replace(' ', '')\n",
    "test_df.columns = test_df.columns.str.replace(' ', '')\n",
    "\n",
    "# train_df.drop('Id',axis=1, inplace=True)\n",
    "# train_df.fillna(train_df.median(), inplace=True)"
   ]
  },
  {
   "cell_type": "markdown",
   "metadata": {},
   "source": [
    "# Standard Scaler"
   ]
  },
  {
   "cell_type": "code",
   "execution_count": 3,
   "metadata": {
    "execution": {
     "iopub.execute_input": "2023-06-07T14:05:27.932313Z",
     "iopub.status.busy": "2023-06-07T14:05:27.931151Z",
     "iopub.status.idle": "2023-06-07T14:05:27.936869Z",
     "shell.execute_reply": "2023-06-07T14:05:27.935789Z",
     "shell.execute_reply.started": "2023-06-07T14:05:27.932274Z"
    }
   },
   "outputs": [],
   "source": [
    "# scaler = StandardScaler()\n",
    "# new_num_cols = train_df.select_dtypes(include=['float64']).columns\n",
    "\n",
    "# train_df[new_num_cols] = scaler.fit_transform(train_df[new_num_cols])\n",
    "# test_df[new_num_cols] = scaler.transform(test_df[new_num_cols])"
   ]
  },
  {
   "cell_type": "markdown",
   "metadata": {},
   "source": [
    "# Brute Force Feature Generation"
   ]
  },
  {
   "cell_type": "markdown",
   "metadata": {},
   "source": [
    "Combine features in all possible ways."
   ]
  },
  {
   "cell_type": "code",
   "execution_count": 4,
   "metadata": {
    "execution": {
     "iopub.execute_input": "2023-06-07T14:05:27.940492Z",
     "iopub.status.busy": "2023-06-07T14:05:27.939840Z",
     "iopub.status.idle": "2023-06-07T14:05:27.953620Z",
     "shell.execute_reply": "2023-06-07T14:05:27.952676Z",
     "shell.execute_reply.started": "2023-06-07T14:05:27.940454Z"
    },
    "scrolled": true
   },
   "outputs": [
    {
     "data": {
      "application/vnd.jupyter.widget-view+json": {
       "model_id": "6602f0b371444164b5b4ed6bc0bce868",
       "version_major": 2,
       "version_minor": 0
      },
      "text/plain": [
       "HBox(children=(FloatProgress(value=1.0, bar_style='info', max=1.0), HTML(value='')))"
      ]
     },
     "metadata": {},
     "output_type": "display_data"
    },
    {
     "name": "stdout",
     "output_type": "stream",
     "text": [
      "\n",
      "         AB+AF        AB-AF        AB*AF     AB/AF      AB_2          AF_2  \\\n",
      "0  3109.242667 -3108.823913   650.960063  0.000067  0.043839  9.666088e+06   \n",
      "1   978.909442  -978.618878   142.196815  0.000148  0.021107  9.579793e+05   \n",
      "2  2635.576570 -2634.636510  1238.579127  0.000178  0.220928  6.943786e+06   \n",
      "3  3819.903877 -3819.399663   962.960949  0.000066  0.063558  1.458974e+07   \n",
      "4  3733.428737 -3732.668143  1419.667123  0.000102  0.144626  1.393565e+07   \n",
      "\n",
      "        AB*AF_2     AB_2*AF     AB_05      AF_05  ...      GI+GL      GI-GL  \\\n",
      "0  2.023857e+06  136.296065  0.457577  55.758706  ...  69.955287  69.714601   \n",
      "1  1.391771e+05   20.658638  0.381159  31.285207  ...  54.109996  10.153996   \n",
      "2  3.263788e+06  582.169347  0.685587  51.333289  ...  35.389617  34.995735   \n",
      "3  3.678175e+06  242.769196  0.502103  61.803331  ...  90.649077  90.337419   \n",
      "4  5.299686e+06  539.895148  0.616682  61.098678  ...  36.359242  36.166014   \n",
      "\n",
      "        GI*GL       GI/GL       GI*GL_2       GI_2*GL    GI*GL_05    GI_05*GL  \\\n",
      "0    8.404137  580.299868      1.011378    586.902414   24.226069    1.005673   \n",
      "1  706.197008    1.462007  15520.797844  22691.519439  150.637045  124.582494   \n",
      "2    6.930887  178.696384      1.364977    243.916461   15.617825    1.168322   \n",
      "3   14.101434  580.723082      2.197406   1276.084521   35.722325    1.482365   \n",
      "4    3.503494  375.333348      0.338488    127.045905   11.271464    0.581797   \n",
      "\n",
      "    GI*GL_log  GI_log*GL  \n",
      "0 -147.869241   0.510992  \n",
      "1   99.289216  76.260414  \n",
      "2  -57.182826   0.701276  \n",
      "3 -168.226838   0.702051  \n",
      "4  -84.746736   0.346922  \n",
      "\n",
      "[5 rows x 15568 columns]\n"
     ]
    },
    {
     "data": {
      "application/vnd.jupyter.widget-view+json": {
       "model_id": "2705642849db48d786927a479fb1be13",
       "version_major": 2,
       "version_minor": 0
      },
      "text/plain": [
       "HBox(children=(FloatProgress(value=1.0, bar_style='info', max=1.0), HTML(value='')))"
      ]
     },
     "metadata": {},
     "output_type": "display_data"
    },
    {
     "name": "stdout",
     "output_type": "stream",
     "text": [
      "\n",
      "   AB+AF  AB-AF  AB*AF  AB/AF  AB_2  AF_2  AB*AF_2  AB_2*AF  AB_05  AF_05  \\\n",
      "0    0.0    0.0    0.0    NaN   0.0   0.0      0.0      0.0    0.0    0.0   \n",
      "1    0.0    0.0    0.0    NaN   0.0   0.0      0.0      0.0    0.0    0.0   \n",
      "2    0.0    0.0    0.0    NaN   0.0   0.0      0.0      0.0    0.0    0.0   \n",
      "3    0.0    0.0    0.0    NaN   0.0   0.0      0.0      0.0    0.0    0.0   \n",
      "4    0.0    0.0    0.0    NaN   0.0   0.0      0.0      0.0    0.0    0.0   \n",
      "\n",
      "   ...  GI+GL  GI-GL  GI*GL  GI/GL  GI*GL_2  GI_2*GL  GI*GL_05  GI_05*GL  \\\n",
      "0  ...    0.0    0.0    0.0    NaN      0.0      0.0       0.0       0.0   \n",
      "1  ...    0.0    0.0    0.0    NaN      0.0      0.0       0.0       0.0   \n",
      "2  ...    0.0    0.0    0.0    NaN      0.0      0.0       0.0       0.0   \n",
      "3  ...    0.0    0.0    0.0    NaN      0.0      0.0       0.0       0.0   \n",
      "4  ...    0.0    0.0    0.0    NaN      0.0      0.0       0.0       0.0   \n",
      "\n",
      "   GI*GL_log  GI_log*GL  \n",
      "0        NaN        NaN  \n",
      "1        NaN        NaN  \n",
      "2        NaN        NaN  \n",
      "3        NaN        NaN  \n",
      "4        NaN        NaN  \n",
      "\n",
      "[5 rows x 15568 columns]\n"
     ]
    }
   ],
   "source": [
    "features = train_df.drop(['Class', 'Id'], axis=1).columns\n",
    "\n",
    "selected = ['AB+DU', 'DU-EH', 'EL-FI', 'BQ-CH', 'DU*EJ', 'CR*EH', 'AY*CC',\n",
    "            'CH/FR', 'BQ/FD', 'BQ*EJ_05', 'CR_05*DU', 'DL*EL_05', 'CD*GL_05',\n",
    "            'FC*FI_05', 'AB_05*FD', 'EJ_05*FR', 'FI_05*FL', 'EE_log*FL',\n",
    "            'AB*DL_log', 'CD*GL_log', 'GL_2', 'BQ*DU_2', 'DI_2*EL']\n",
    "\n",
    "best_orig = ['DU', 'BQ', 'AB', 'CR', 'CH', 'GL', 'DA', 'FI', 'DY', 'EL', 'DN', 'AM',\n",
    "             'DL', 'CC', 'EU', 'EB', 'AF', 'CD', 'EP', 'CB', 'FR', 'CS', 'GE', 'AX',\n",
    "             'DE', 'DI', 'FS', 'GI', 'CL', 'EJ']\n",
    "\n",
    "def gen_features(features, df):\n",
    "    generated_features = pd.DataFrame()\n",
    "\n",
    "    for fe_a, fe_b in tqdm(itertools.combinations(features, 2)):\n",
    "        generated_features[f'{fe_a}+{fe_b}']   = df[fe_a] + df[fe_b]\n",
    "        generated_features[f'{fe_a}-{fe_b}']   = df[fe_a] - df[fe_b] \n",
    "        generated_features[f'{fe_a}*{fe_b}']   = df[fe_a] * df[fe_b]\n",
    "        generated_features[f'{fe_a}/{fe_b}']   = df[fe_a] / df[fe_b]\n",
    "\n",
    "        generated_features[f'{fe_a}_2']        = df[fe_a].pow(2)\n",
    "        generated_features[f'{fe_b}_2']        = df[fe_b].pow(2)\n",
    "        generated_features[f'{fe_a}*{fe_b}_2'] = df[fe_a] * df[fe_b].pow(2)\n",
    "        generated_features[f'{fe_a}_2*{fe_b}'] = df[fe_a].pow(2) * df[fe_b]\n",
    "\n",
    "        generated_features[f'{fe_a}_05'] = df[fe_a].pow(0.5)\n",
    "        generated_features[f'{fe_b}_05'] = df[fe_b].pow(0.5)\n",
    "        generated_features[f'{fe_a}*{fe_b}_05'] = df[fe_a] * df[fe_b].pow(0.5)\n",
    "        generated_features[f'{fe_a}_05*{fe_b}'] = df[fe_a].pow(0.5) * df[fe_b]\n",
    "\n",
    "        generated_features[f'{fe_a}_log'] = np.log(df[fe_a])\n",
    "        generated_features[f'{fe_b}_log'] = np.log(df[fe_b])\n",
    "        generated_features[f'{fe_a}*{fe_b}_log'] = df[fe_a] * np.log(df[fe_b])\n",
    "        generated_features[f'{fe_a}_log*{fe_b}'] = np.log(df[fe_a]) * df[fe_b]\n",
    "        \n",
    "    print(generated_features.head())\n",
    "    generated_features = generated_features[selected]\n",
    "    generated_features = pd.concat([generated_features, df[best_orig]], axis=1)\n",
    "    \n",
    "    # prevent inf\n",
    "    for g in generated_features.columns:\n",
    "        generated_features[g] = np.minimum(np.maximum(generated_features[g], -1e9), 1e9)\n",
    "    \n",
    "    return generated_features\n",
    "\n",
    "generated_features_train = gen_features(features, train_df)\n",
    "generated_features_test = gen_features(features, test_df)"
   ]
  },
  {
   "cell_type": "markdown",
   "metadata": {},
   "source": [
    "# LGBM parameters"
   ]
  },
  {
   "cell_type": "code",
   "execution_count": 5,
   "metadata": {
    "execution": {
     "iopub.execute_input": "2023-06-07T14:05:27.956160Z",
     "iopub.status.busy": "2023-06-07T14:05:27.955354Z",
     "iopub.status.idle": "2023-06-07T14:05:27.973483Z",
     "shell.execute_reply": "2023-06-07T14:05:27.972132Z",
     "shell.execute_reply.started": "2023-06-07T14:05:27.956113Z"
    }
   },
   "outputs": [],
   "source": [
    "params = {\n",
    "        'boosting_type':'goss',\n",
    "        'learning_rate': 0.06733232950390658, \n",
    "        'n_estimators': 50000, \n",
    "        'early_stopping_round' : 100, \n",
    "        'random_state': 42,\n",
    "        'subsample' : 0.6970532011679706,\n",
    "        'colsample_bytree': 0.6055755840633003,\n",
    "        'class_weight': 'balanced',\n",
    "        'metric': 'none', \n",
    "        'is_unbalance': True, \n",
    "        'max_depth': 8}"
   ]
  },
  {
   "cell_type": "markdown",
   "metadata": {},
   "source": [
    "# Train / validate / count permutation importance"
   ]
  },
  {
   "cell_type": "code",
   "execution_count": 6,
   "metadata": {
    "execution": {
     "iopub.execute_input": "2023-06-07T14:13:22.534163Z",
     "iopub.status.busy": "2023-06-07T14:13:22.533721Z",
     "iopub.status.idle": "2023-06-07T14:14:13.240220Z",
     "shell.execute_reply": "2023-06-07T14:14:13.239107Z",
     "shell.execute_reply.started": "2023-06-07T14:13:22.534128Z"
    }
   },
   "outputs": [
    {
     "data": {
      "application/vnd.jupyter.widget-view+json": {
       "model_id": "7a354756bdf14d92a284aa0ce09925e8",
       "version_major": 2,
       "version_minor": 0
      },
      "text/plain": [
       "HBox(children=(FloatProgress(value=0.0, max=50.0), HTML(value='')))"
      ]
     },
     "metadata": {},
     "output_type": "display_data"
    },
    {
     "name": "stdout",
     "output_type": "stream",
     "text": [
      "\n"
     ]
    }
   ],
   "source": [
    "n_splits = 2\n",
    "n_rounds = 50\n",
    "\n",
    "final_valid_predictions = []\n",
    "final_test_predictions = []\n",
    "\n",
    "valid_weights = []\n",
    "test_weights = []\n",
    "\n",
    "def balanced_log_loss(y_true, y_pred):\n",
    "\n",
    "    # Nc is the number of observations\n",
    "    N_1 = np.sum(y_true == 1, axis=0)\n",
    "    N_0 = np.sum(y_true == 0, axis=0)\n",
    "\n",
    "    # In order to avoid the extremes of the log function, each predicted probability 𝑝 is replaced with max(min(𝑝,1−10−15),10−15)\n",
    "    y_pred = np.maximum(np.minimum(y_pred, 1 - 1e-15), 1e-15)\n",
    "\n",
    "    # balanced logarithmic loss\n",
    "    loss_numerator = - (1/N_0) * np.sum((1 - y_true) * np.log(1 - y_pred)) - (1/N_1) * np.sum(y_true * np.log(y_pred))\n",
    "\n",
    "    return loss_numerator / 2\n",
    "\n",
    "def bll_metric(y_true, y_pred):\n",
    "    return 'balanced_log_loss', balanced_log_loss(y_true, y_pred), False\n",
    "\n",
    "def get_metric(n_rounds, n_splits, permut):\n",
    "    # statistics dataframes\n",
    "    perm_df = pd.DataFrame()\n",
    "    oof_stats = list()\n",
    "\n",
    "    #Split Data\n",
    "    for i in tqdm(range(n_rounds)):\n",
    "#         x_train, y_train = train_df[best_features], train_df.Class\n",
    "        x_train, y_train = generated_features_train, train_df.Class\n",
    "\n",
    "        #Storage for oof scroe of current resampled dataset\n",
    "        oof_score = pd.DataFrame(index=x_train.index, columns=['preds'])\n",
    "\n",
    "        skf = StratifiedKFold(n_splits=n_splits, shuffle=True, random_state = 6062023 + i)\n",
    "        for fold, (train_index, val_index) in enumerate(skf.split(x_train, greeks['Alpha'])):\n",
    "            X_train, Y_train, X_val, Y_val = x_train.iloc[train_index], y_train[train_index], x_train.iloc[val_index], y_train[val_index]\n",
    "\n",
    "            clf = lgb.LGBMClassifier(**params)\n",
    "            clf.fit(X_train, Y_train, eval_set=[(X_train, Y_train), (X_val, Y_val)], \n",
    "                    eval_metric=bll_metric, verbose=-1)\n",
    "\n",
    "            preds = clf.predict_proba(X_val)[:,1]\n",
    "            \n",
    "            # collect data for the test predicton\n",
    "            preds_test = clf.predict_proba(generated_features_test)\n",
    "#             preds_test = clf.predict_proba(test_df[best_features])\n",
    "            \n",
    "            final_test_predictions.append(preds_test)\n",
    "\n",
    "            b_logloss = balanced_log_loss(Y_val, preds)\n",
    "            test_weights.append(1/b_logloss)\n",
    "            \n",
    "            # OOF score for statistics\n",
    "            oof_score.loc[val_index, 'preds'] = preds\n",
    "            \n",
    "            if permut:\n",
    "                perm = PermutationImportance(clf, scoring=None, n_iter=1, \n",
    "                                             random_state=42, cv=None, refit=False).fit(X_val, Y_val)\n",
    "\n",
    "\n",
    "                perm_importance_df = pd.DataFrame({'importance': perm.feature_importances_}, \n",
    "                                                   index=X_val.columns).sort_index()\n",
    "\n",
    "                if perm_df.shape[0] == 0:\n",
    "                    perm_df = perm_importance_df.copy()\n",
    "                else:\n",
    "                    perm_df += perm_importance_df\n",
    "\n",
    "        #Compute & store oof score of current dataset\n",
    "        logloss_folds = balanced_log_loss(y_train, oof_score.preds.astype('float'))\n",
    "        \n",
    "        # collect data for the validation predicton\n",
    "        valid_weights.append(1/logloss_folds)\n",
    "        final_valid_predictions.append(oof_score.preds.astype('float'))\n",
    "        \n",
    "        oof_stats.append(logloss_folds)\n",
    "\n",
    "    # collect all permutation importances into the dataset and then avearge them by number of rounds * folds\n",
    "    if permut:\n",
    "        perm_df /= n_splits * n_rounds\n",
    "\n",
    "        perm_df = perm_df.sort_values('importance', ascending=False)\n",
    "        perm_df.to_csv('perm_df_log.csv')\n",
    "        \n",
    "    return oof_stats, perm_df\n",
    "\n",
    "oof_stats, perm_df = get_metric(n_rounds=n_rounds, n_splits=n_splits, permut=False)"
   ]
  },
  {
   "cell_type": "code",
   "execution_count": 7,
   "metadata": {
    "execution": {
     "iopub.execute_input": "2023-06-07T14:13:14.936953Z",
     "iopub.status.busy": "2023-06-07T14:13:14.936384Z",
     "iopub.status.idle": "2023-06-07T14:13:14.945581Z",
     "shell.execute_reply": "2023-06-07T14:13:14.944515Z",
     "shell.execute_reply.started": "2023-06-07T14:13:14.936920Z"
    }
   },
   "outputs": [],
   "source": [
    "# perm_df = pd.read_csv('perm_df_log.csv', index_col='Unnamed: 0')\n",
    "# best_features = perm_df[perm_df.importance > 0.001].index"
   ]
  },
  {
   "cell_type": "code",
   "execution_count": 8,
   "metadata": {
    "execution": {
     "iopub.execute_input": "2023-06-07T14:06:27.052654Z",
     "iopub.status.busy": "2023-06-07T14:06:27.051896Z",
     "iopub.status.idle": "2023-06-07T14:06:27.290873Z",
     "shell.execute_reply": "2023-06-07T14:06:27.289724Z",
     "shell.execute_reply.started": "2023-06-07T14:06:27.052611Z"
    }
   },
   "outputs": [
    {
     "data": {
      "image/png": "[encoded data removed]",
      "text/plain": [
       "<Figure size 432x288 with 1 Axes>"
      ]
     },
     "metadata": {
      "needs_background": "light"
     },
     "output_type": "display_data"
    }
   ],
   "source": [
    "# My features + his features + best original features\n",
    "pd.Series(oof_stats).plot(kind='hist')\n",
    "median_value = pd.Series(oof_stats).median()\n",
    "plt.axvline(median_value, color='r', linestyle='dashed', linewidth=2, label=f'Median: {median_value:.4f}')\n",
    "plt.legend()\n",
    "plt.show()"
   ]
  },
  {
   "cell_type": "markdown",
   "metadata": {},
   "source": [
    "# Predict valid"
   ]
  },
  {
   "cell_type": "code",
   "execution_count": 9,
   "metadata": {
    "execution": {
     "iopub.execute_input": "2023-06-07T14:14:32.655084Z",
     "iopub.status.busy": "2023-06-07T14:14:32.654639Z",
     "iopub.status.idle": "2023-06-07T14:14:32.689667Z",
     "shell.execute_reply": "2023-06-07T14:14:32.688254Z",
     "shell.execute_reply.started": "2023-06-07T14:14:32.655047Z"
    }
   },
   "outputs": [
    {
     "data": {
      "text/plain": [
       "0.19845508556912062"
      ]
     },
     "execution_count": 9,
     "metadata": {},
     "output_type": "execute_result"
    }
   ],
   "source": [
    "valid_preds = np.zeros((train_df.shape[0],1))\n",
    "\n",
    "for i in range(len(final_valid_predictions)):\n",
    "    valid_preds[:,0] += valid_weights[i] * final_valid_predictions[i]\n",
    "\n",
    "valid_preds /= sum(valid_weights)\n",
    "\n",
    "balanced_log_loss(train_df['Class'], valid_preds[:,0])"
   ]
  },
  {
   "cell_type": "markdown",
   "metadata": {},
   "source": [
    "# Predict test"
   ]
  },
  {
   "cell_type": "code",
   "execution_count": 10,
   "metadata": {
    "execution": {
     "iopub.execute_input": "2023-06-07T14:06:27.331466Z",
     "iopub.status.busy": "2023-06-07T14:06:27.331002Z",
     "iopub.status.idle": "2023-06-07T14:06:27.353132Z",
     "shell.execute_reply": "2023-06-07T14:06:27.351797Z",
     "shell.execute_reply.started": "2023-06-07T14:06:27.331423Z"
    }
   },
   "outputs": [],
   "source": [
    "test_preds = np.zeros((test_df.shape[0],2))\n",
    "\n",
    "for i in range(len(final_test_predictions)):\n",
    "    test_preds[:, 0] += test_weights[i] * final_test_predictions[i][:, 0]\n",
    "    test_preds[:, 1] += test_weights[i] * final_test_predictions[i][:, 1]\n",
    "\n",
    "test_preds /= sum(test_weights)\n",
    "\n",
    "sample_submission[['class_0', 'class_1']] = test_preds\n",
    "sample_submission.to_csv(r\"submission.csv\", index=False)"
   ]
  },
  {
   "cell_type": "markdown",
   "metadata": {},
   "source": [
    "You have a lot of resulting features. I have already identified a few important once. "
   ]
  },
  {
   "cell_type": "markdown",
   "metadata": {},
   "source": [
    "# Further ideas:\n",
    "\n",
    "ID repeat?\n",
    "Encode Epsilon as ordinal\n",
    "Add A"
   ]
  }
 ],
 "metadata": {
  "kernelspec": {
   "display_name": "Python 3 (ipykernel)",
   "language": "python",
   "name": "python3"
  },
  "language_info": {
   "codemirror_mode": {
    "name": "ipython",
    "version": 3
   },
   "file_extension": ".py",
   "mimetype": "text/x-python",
   "name": "python",
   "nbconvert_exporter": "python",
   "pygments_lexer": "ipython3",
   "version": "3.10.6"
  }
 },
 "nbformat": 4,
 "nbformat_minor": 4
}
