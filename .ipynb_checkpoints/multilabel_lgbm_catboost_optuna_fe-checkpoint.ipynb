{
 "cells": [
  {
   "cell_type": "code",
   "execution_count": 1,
   "metadata": {
    "_kg_hide-input": true,
    "_kg_hide-output": true,
    "execution": {
     "iopub.execute_input": "2023-06-08T15:31:23.665663Z",
     "iopub.status.busy": "2023-06-08T15:31:23.665223Z",
     "iopub.status.idle": "2023-06-08T15:31:35.997437Z",
     "shell.execute_reply": "2023-06-08T15:31:35.996163Z",
     "shell.execute_reply.started": "2023-06-08T15:31:23.665630Z"
    }
   },
   "outputs": [
    {
     "name": "stderr",
     "output_type": "stream",
     "text": [
      "/home/alex/anaconda3/envs/ICR/lib/python3.11/site-packages/tqdm/auto.py:21: TqdmWarning: IProgress not found. Please update jupyter and ipywidgets. See https://ipywidgets.readthedocs.io/en/stable/user_install.html\n",
      "  from .autonotebook import tqdm as notebook_tqdm\n"
     ]
    }
   ],
   "source": [
    "import math\n",
    "\n",
    "import numpy as np\n",
    "import pandas as pd\n",
    "\n",
    "import lightgbm as lgb\n",
    "import catboost as cat\n",
    "from catboost import Pool\n",
    "import xgboost as xgb\n",
    "\n",
    "import itertools\n",
    "from imblearn.under_sampling import RandomUnderSampler\n",
    "from sklearn.model_selection import StratifiedKFold\n",
    "from sklearn.model_selection._split import _BaseKFold, _RepeatedSplits, BaseShuffleSplit, _validate_shuffle_split\n",
    "from sklearn.preprocessing import StandardScaler\n",
    "from sklearn.feature_selection import RFE\n",
    "from sklearn.metrics import log_loss\n",
    "\n",
    "from sklearn.utils import check_random_state\n",
    "from sklearn.utils.validation import _num_samples, check_array\n",
    "from sklearn.utils.multiclass import type_of_target\n",
    "\n",
    "from scipy import stats\n",
    "\n",
    "import eli5\n",
    "from IPython.display import display\n",
    "from eli5.permutation_importance import get_score_importances\n",
    "from eli5.sklearn import PermutationImportance\n",
    "\n",
    "import matplotlib.pyplot as plt\n",
    "from tqdm.auto import tqdm\n",
    "import seaborn as sns\n",
    "\n",
    "import optuna\n",
    "\n",
    "import warnings\n",
    "warnings.filterwarnings('ignore')\n",
    "\n",
    "pd.set_option('display.max_rows', 100)\n",
    "pd.set_option('display.max_columns', 100)\n",
    "\n",
    "\n",
    "from colorama import Style, Fore\n",
    "\n",
    "palette = ['#302c36', '#037d97', '#E4591E', '#C09741',\n",
    "           '#EC5B6D', '#90A6B1', '#6ca957', '#D8E3E2']\n",
    "\n",
    "blk = Style.BRIGHT + Fore.BLACK\n",
    "red = Style.BRIGHT + Fore.RED\n",
    "blu = Style.BRIGHT + Fore.BLUE\n",
    "res = Style.RESET_ALL\n",
    "\n",
    "\n",
    "class CFG:\n",
    "    kaggle = False\n",
    "    \n",
    "    undersample = False\n",
    "    \n",
    "    feature_sel = False\n",
    "    n_feature_sel_folds = 5\n",
    "    \n",
    "    n_estimators = 3000\n",
    "    early_stop_rounds = 100\n",
    "    \n",
    "    lgbm_optimize = True\n",
    "    cb_optimize = True\n",
    "    xgb_optimize = True\n",
    "    n_trials = 1000\n",
    "    n_optimize_folds = 5\n",
    "    n_optimize_repeats = 3\n",
    "    \n",
    "    stacking = True\n",
    "    n_stacking_folds = 10\n",
    "    "
   ]
  },
  {
   "cell_type": "markdown",
   "metadata": {},
   "source": [
    "# Load Data"
   ]
  },
  {
   "cell_type": "code",
   "execution_count": 2,
   "metadata": {
    "execution": {
     "iopub.execute_input": "2023-06-08T15:31:36.001085Z",
     "iopub.status.busy": "2023-06-08T15:31:35.999808Z",
     "iopub.status.idle": "2023-06-08T15:31:36.066222Z",
     "shell.execute_reply": "2023-06-08T15:31:36.064862Z",
     "shell.execute_reply.started": "2023-06-08T15:31:36.001050Z"
    }
   },
   "outputs": [],
   "source": [
    "if CFG.kaggle:\n",
    "    COMP_PATH = \"/kaggle/input/icr-identify-age-related-conditions\"\n",
    "else:\n",
    "    COMP_PATH = \"icr-identify-age-related-conditions\"\n",
    "\n",
    "train_df = pd.read_csv(f'{COMP_PATH}//train.csv')\n",
    "test_df = pd.read_csv(f'{COMP_PATH}/test.csv')\n",
    "greeks = pd.read_csv(f\"{COMP_PATH}/greeks.csv\")\n",
    "sample_submission = pd.read_csv(f\"{COMP_PATH}/sample_submission.csv\")\n",
    "\n",
    "train_df['EJ'] = train_df['EJ'].replace({'A': 0, 'B': 1})\n",
    "test_df['EJ'] = test_df['EJ'].replace({'A': 0, 'B': 1})\n",
    "\n",
    "train_df.columns = train_df.columns.str.replace(' ', '')\n",
    "test_df.columns = test_df.columns.str.replace(' ', '')\n",
    "\n",
    "class_imbalance = train_df[train_df['Class'] == 0].shape[0] / train_df[train_df['Class'] == 1].shape[0]\n",
    "\n",
    "# train_df.drop('Id',axis=1, inplace=True)\n",
    "# train_df.fillna(train_df.median(), inplace=True)"
   ]
  },
  {
   "cell_type": "markdown",
   "metadata": {},
   "source": [
    "# Standard Scaler"
   ]
  },
  {
   "cell_type": "code",
   "execution_count": 3,
   "metadata": {
    "execution": {
     "iopub.execute_input": "2023-06-08T15:31:36.069293Z",
     "iopub.status.busy": "2023-06-08T15:31:36.068506Z",
     "iopub.status.idle": "2023-06-08T15:31:36.075275Z",
     "shell.execute_reply": "2023-06-08T15:31:36.074052Z",
     "shell.execute_reply.started": "2023-06-08T15:31:36.069253Z"
    }
   },
   "outputs": [],
   "source": [
    "# scaler = StandardScaler()\n",
    "# new_num_cols = train_df.select_dtypes(include=['float64']).columns\n",
    "\n",
    "# train_df[new_num_cols] = scaler.fit_transform(train_df[new_num_cols])\n",
    "# test_df[new_num_cols] = scaler.transform(test_df[new_num_cols])"
   ]
  },
  {
   "cell_type": "markdown",
   "metadata": {},
   "source": [
    "# Brute Force Feature Generation"
   ]
  },
  {
   "cell_type": "markdown",
   "metadata": {},
   "source": [
    "Combine features in all possible ways."
   ]
  },
  {
   "cell_type": "code",
   "execution_count": 4,
   "metadata": {},
   "outputs": [],
   "source": [
    "# fi = pd.read_csv('feature_importances.csv', index_col = 'Unnamed: 0')\n",
    "# fi_cols = set(fi['Feature'].head(100).values)\n",
    "\n",
    "# perm = pd.read_csv('perm_df.csv', index_col = 'Unnamed: 0')\n",
    "# perm_cols = set(perm['importance'].head(100).index)\n",
    "\n",
    "# important_col = list(perm_cols.intersection(fi_cols))\n",
    "# print(important_col)"
   ]
  },
  {
   "cell_type": "markdown",
   "metadata": {},
   "source": [
    "# Denoising"
   ]
  },
  {
   "cell_type": "code",
   "execution_count": 5,
   "metadata": {},
   "outputs": [],
   "source": [
    "# features = [fe for fe in train_df.columns if fe not in ['Id','CF', 'CB', 'DV', 'BR', 'DF', 'AR', 'GI', 'AY', 'GB',\n",
    "#                                                         'AH', 'CW', 'CL', 'Class', 'BP']]\n",
    "\n",
    "# for f in features:\n",
    "#     train_df[f] = np.floor(train_df[f]*1000)/1000 # quality decreases no significant result for LGBM"
   ]
  },
  {
   "cell_type": "markdown",
   "metadata": {},
   "source": [
    "# Log features (preserve sign)"
   ]
  },
  {
   "cell_type": "code",
   "execution_count": 6,
   "metadata": {},
   "outputs": [],
   "source": [
    "# for f in features:\n",
    "#     train_df[f] = np.sign(train_df[f]) * np.log1p(np.abs(train_df[f])) # no significant result for LGBM"
   ]
  },
  {
   "cell_type": "markdown",
   "metadata": {},
   "source": [
    "# Remove outliers"
   ]
  },
  {
   "cell_type": "code",
   "execution_count": 7,
   "metadata": {},
   "outputs": [],
   "source": [
    "features_with_outliers = [fe for fe in train_df.columns if fe not in ['BN', 'BQ', 'CW', 'EL', 'GH', \n",
    "                                                                      'GI', 'GL', 'Id', 'Class', 'EJ']]\n",
    "\n",
    "for f in features_with_outliers:\n",
    "    train_df[f] = train_df[f].clip(upper=train_df[f].quantile(0.99))"
   ]
  },
  {
   "cell_type": "markdown",
   "metadata": {},
   "source": [
    "# NaN imputing"
   ]
  },
  {
   "cell_type": "code",
   "execution_count": 8,
   "metadata": {},
   "outputs": [],
   "source": [
    "# from sklearn.impute import KNNImputer\n",
    "# from sklearn.metrics import pairwise_distances\n",
    "\n",
    "\n",
    "# train_df['BQ'] = train_df['BQ'].fillna(train_df['BQ'].min())\n",
    "# train_df['EL'] = train_df['EL'].fillna(train_df['EL'].mode()[0])\n",
    "\n",
    "\n",
    "# features = [fe for fe in train_df.columns if fe not in ['Id','Class']]\n",
    "\n",
    "# def cosine_dist(X, Y, metric='cosine', missing_values=np.nan, **kwargs):\n",
    "#     X[np.isnan(X)]=0\n",
    "#     Y[np.isnan(Y)]=0\n",
    "#     return pairwise_distances(X=X.reshape(-1, 1), \n",
    "#                               Y=Y.reshape(-1, 1), \n",
    "#                               metric='cosine').sum()\n",
    "\n",
    "# imputer = KNNImputer(n_neighbors=5, metric=cosine_dist)\n",
    "# imputer.fit_transform(train_df[features])"
   ]
  },
  {
   "cell_type": "markdown",
   "metadata": {},
   "source": [
    "# Feature generation"
   ]
  },
  {
   "cell_type": "code",
   "execution_count": 9,
   "metadata": {
    "execution": {
     "iopub.execute_input": "2023-06-08T15:31:36.080972Z",
     "iopub.status.busy": "2023-06-08T15:31:36.079281Z",
     "iopub.status.idle": "2023-06-08T15:31:44.412385Z",
     "shell.execute_reply": "2023-06-08T15:31:44.411508Z",
     "shell.execute_reply.started": "2023-06-08T15:31:36.080912Z"
    }
   },
   "outputs": [],
   "source": [
    "# features = train_df.drop(['Class', 'Id'], axis=1).columns\n",
    "\n",
    "# features = [fe for fe in train_df.columns if fe not in ['CF', 'CB', 'DV', 'BR', 'DF', 'GB', 'AH', \n",
    "#                                                         'CW', 'CL', 'BP', 'BD', 'FC', 'GE', 'GF',\n",
    "#                                                         'AR', 'GI', 'Id', 'Class', 'AX']]\n",
    "\n",
    "# def gen_features(features, df):\n",
    "#     generated_features = pd.DataFrame()\n",
    "\n",
    "#     for fe_a, fe_b in tqdm(itertools.combinations(features, 2), total=sum([1 for i in itertools.combinations(features, 2)])):\n",
    "\n",
    "# #         generated_features[f'{fe_a}_2']        = df[fe_a].pow(2)\n",
    "# #         generated_features[f'{fe_b}_2']        = df[fe_b].pow(2)\n",
    "# #         generated_features[f'{fe_a}*{fe_b}_2'] = df[fe_a] * df[fe_b].pow(2)\n",
    "# #         generated_features[f'{fe_a}_2*{fe_b}'] = df[fe_a].pow(2) * df[fe_b]\n",
    "\n",
    "# #         generated_features[f'{fe_a}_05'] = df[fe_a].pow(0.5)\n",
    "# #         generated_features[f'{fe_b}_05'] = df[fe_b].pow(0.5)\n",
    "# #         generated_features[f'{fe_a}*{fe_b}_05'] = df[fe_a] * df[fe_b].pow(0.5)\n",
    "# #         generated_features[f'{fe_a}_05*{fe_b}'] = df[fe_a].pow(0.5) * df[fe_b]\n",
    "\n",
    "# #         generated_features[f'{fe_a}_log'] = np.log(df[fe_a])\n",
    "# #         generated_features[f'{fe_b}_log'] = np.log(df[fe_b])\n",
    "# #         generated_features[f'{fe_a}*{fe_b}_log'] = df[fe_a] * np.log(df[fe_b])\n",
    "# #         generated_features[f'{fe_a}_log*{fe_b}'] = np.log(df[fe_a]) * df[fe_b]\n",
    "        \n",
    "#     generated_features = generated_features[selected]\n",
    "#     generated_features = pd.concat([generated_features, df[features]], axis=1)\n",
    "    \n",
    "#     # prevent inf\n",
    "#     for g in generated_features.columns:\n",
    "#         generated_features[g] = np.minimum(np.maximum(generated_features[g], -1e9), 1e9)\n",
    "    \n",
    "#     return generated_features\n",
    "\n",
    "# generated_features_train = gen_features(features, train_df)\n",
    "# generated_features_test = gen_features(features, test_df)\n",
    "\n",
    "# features = generated_features_train.columns"
   ]
  },
  {
   "cell_type": "markdown",
   "metadata": {},
   "source": [
    "# Add distance features"
   ]
  },
  {
   "cell_type": "code",
   "execution_count": 10,
   "metadata": {},
   "outputs": [],
   "source": [
    "# from sklearn.neighbors import NearestNeighbors, KNeighborsClassifier\n",
    "\n",
    "# features = train_df.drop(['Class', 'Id'], axis=1).columns\n",
    "\n",
    "# # average label of 20 Nearest Neighbours (colsine distance)\n",
    "# knn = NearestNeighbors(n_neighbors=10, metric='cosine', n_jobs=-1)\n",
    "# knn.fit(train_df[features].fillna(0))\n",
    "\n",
    "# # train\n",
    "# dists, nears = knn.kneighbors(train_df[features].fillna(0), return_distance=True)\n",
    "# dists, nears = dists[:,1:], nears[:,1:]\n",
    "\n",
    "# classes = np.array([train_df.loc[n, 'Class'] for n in nears])\n",
    "# train_df['class_cos'] = np.array(classes[i].mean() for i in range(len(nears)))\n",
    "# train_df['class_cos'] = train_df['class_cos'].astype(float)\n",
    "\n",
    "# # test\n",
    "# dists, nears = knn.kneighbors(test_df[features].fillna(0), return_distance=True)\n",
    "# dists, nears = dists[:,1:], nears[:,1:]\n",
    "\n",
    "# classes = np.array([train_df.loc[n, 'Class'] for n in nears])\n",
    "# test_df['class_cos'] = np.array(classes[i].mean() for i in range(len(nears)))\n",
    "# test_df['class_cos'] = test_df['class_cos'].astype(float)\n",
    "\n",
    "\n",
    "features = [fe for fe in train_df.columns if fe not in ['CF', 'CB', 'DV', 'BR', 'DF', 'GB', 'AH', \n",
    "                                                        'CW', 'CL', 'BP', 'BD', 'FC', 'GE', 'GF',\n",
    "                                                        'AR', 'GI', 'Id', 'Class', 'AX']]"
   ]
  },
  {
   "cell_type": "markdown",
   "metadata": {},
   "source": [
    "# Add time features"
   ]
  },
  {
   "cell_type": "code",
   "execution_count": 11,
   "metadata": {},
   "outputs": [],
   "source": [
    "from datetime import datetime\n",
    "times = greeks.Epsilon.copy()\n",
    "times[greeks.Epsilon != 'Unknown'] = greeks.Epsilon[greeks.Epsilon != 'Unknown'].map(lambda x: datetime.strptime(x,'%m/%d/%Y').toordinal())\n",
    "times[greeks.Epsilon == 'Unknown'] = np.nan\n",
    "\n",
    "train_df = pd.concat((train_df, times), axis=1)\n",
    "test_df['Epsilon'] = times.max()+1"
   ]
  },
  {
   "cell_type": "markdown",
   "metadata": {},
   "source": [
    "# Multilabel Stratification"
   ]
  },
  {
   "cell_type": "code",
   "execution_count": 12,
   "metadata": {
    "execution": {
     "iopub.execute_input": "2023-06-08T15:31:44.414098Z",
     "iopub.status.busy": "2023-06-08T15:31:44.413784Z",
     "iopub.status.idle": "2023-06-08T15:31:44.461531Z",
     "shell.execute_reply": "2023-06-08T15:31:44.460184Z",
     "shell.execute_reply.started": "2023-06-08T15:31:44.414071Z"
    }
   },
   "outputs": [],
   "source": [
    "def IterativeStratification(labels, r, random_state):\n",
    "    \"\"\"This function implements the Iterative Stratification algorithm described\n",
    "    in the following paper:\n",
    "    Sechidis K., Tsoumakas G., Vlahavas I. (2011) On the Stratification of\n",
    "    Multi-Label Data. In: Gunopulos D., Hofmann T., Malerba D., Vazirgiannis M.\n",
    "    (eds) Machine Learning and Knowledge Discovery in Databases. ECML PKDD\n",
    "    2011. Lecture Notes in Computer Science, vol 6913. Springer, Berlin,\n",
    "    Heidelberg.\n",
    "    \"\"\"\n",
    "\n",
    "    n_samples = labels.shape[0]\n",
    "    test_folds = np.zeros(n_samples, dtype=int)\n",
    "\n",
    "    # Calculate the desired number of examples at each subset\n",
    "    c_folds = r * n_samples\n",
    "\n",
    "    # Calculate the desired number of examples of each label at each subset\n",
    "    c_folds_labels = np.outer(r, labels.sum(axis=0))\n",
    "\n",
    "    labels_not_processed_mask = np.ones(n_samples, dtype=bool)\n",
    "\n",
    "    while np.any(labels_not_processed_mask):\n",
    "        # Find the label with the fewest (but at least one) remaining examples,\n",
    "        # breaking ties randomly\n",
    "        num_labels = labels[labels_not_processed_mask].sum(axis=0)\n",
    "\n",
    "        # Handle case where only all-zero labels are left by distributing\n",
    "        # across all folds as evenly as possible (not in original algorithm but\n",
    "        # mentioned in the text). (By handling this case separately, some\n",
    "        # code redundancy is introduced; however, this approach allows for\n",
    "        # decreased execution time when there are a relatively large number\n",
    "        # of all-zero labels.)\n",
    "        if num_labels.sum() == 0:\n",
    "            sample_idxs = np.where(labels_not_processed_mask)[0]\n",
    "\n",
    "            for sample_idx in sample_idxs:\n",
    "                fold_idx = np.where(c_folds == c_folds.max())[0]\n",
    "\n",
    "                if fold_idx.shape[0] > 1:\n",
    "                    fold_idx = fold_idx[random_state.choice(fold_idx.shape[0])]\n",
    "\n",
    "                test_folds[sample_idx] = fold_idx\n",
    "                c_folds[fold_idx] -= 1\n",
    "\n",
    "            break\n",
    "\n",
    "        label_idx = np.where(num_labels == num_labels[np.nonzero(num_labels)].min())[0]\n",
    "        if label_idx.shape[0] > 1:\n",
    "            label_idx = label_idx[random_state.choice(label_idx.shape[0])]\n",
    "\n",
    "        sample_idxs = np.where(np.logical_and(labels[:, label_idx].flatten(), labels_not_processed_mask))[0]\n",
    "\n",
    "        for sample_idx in sample_idxs:\n",
    "            # Find the subset(s) with the largest number of desired examples\n",
    "            # for this label, breaking ties by considering the largest number\n",
    "            # of desired examples, breaking further ties randomly\n",
    "            label_folds = c_folds_labels[:, label_idx]\n",
    "            fold_idx = np.where(label_folds == label_folds.max())[0]\n",
    "\n",
    "            if fold_idx.shape[0] > 1:\n",
    "                temp_fold_idx = np.where(c_folds[fold_idx] ==\n",
    "                                         c_folds[fold_idx].max())[0]\n",
    "                fold_idx = fold_idx[temp_fold_idx]\n",
    "\n",
    "                if temp_fold_idx.shape[0] > 1:\n",
    "                    fold_idx = fold_idx[random_state.choice(temp_fold_idx.shape[0])]\n",
    "\n",
    "            test_folds[sample_idx] = fold_idx\n",
    "            labels_not_processed_mask[sample_idx] = False\n",
    "\n",
    "            # Update desired number of examples\n",
    "            c_folds_labels[fold_idx, labels[sample_idx]] -= 1\n",
    "            c_folds[fold_idx] -= 1\n",
    "\n",
    "    return test_folds\n",
    "\n",
    "\n",
    "class MultilabelStratifiedKFold(_BaseKFold):\n",
    "    \"\"\"Multilabel stratified K-Folds cross-validator\n",
    "    Provides train/test indices to split multilabel data into train/test sets.\n",
    "    This cross-validation object is a variation of KFold that returns\n",
    "    stratified folds for multilabel data. The folds are made by preserving\n",
    "    the percentage of samples for each label.\n",
    "    Parameters\n",
    "    ----------\n",
    "    n_splits : int, default=3\n",
    "        Number of folds. Must be at least 2.\n",
    "    shuffle : boolean, optional\n",
    "        Whether to shuffle each stratification of the data before splitting\n",
    "        into batches.\n",
    "    random_state : int, RandomState instance or None, optional, default=None\n",
    "        If int, random_state is the seed used by the random number generator;\n",
    "        If RandomState instance, random_state is the random number generator;\n",
    "        If None, the random number generator is the RandomState instance used\n",
    "        by `np.random`. Unlike StratifiedKFold that only uses random_state\n",
    "        when ``shuffle`` == True, this multilabel implementation\n",
    "        always uses the random_state since the iterative stratification\n",
    "        algorithm breaks ties randomly.\n",
    "    Examples\n",
    "    --------\n",
    "    >>> from iterstrat.ml_stratifiers import MultilabelStratifiedKFold\n",
    "    >>> import numpy as np\n",
    "    >>> X = np.array([[1,2], [3,4], [1,2], [3,4], [1,2], [3,4], [1,2], [3,4]])\n",
    "    >>> y = np.array([[0,0], [0,0], [0,1], [0,1], [1,1], [1,1], [1,0], [1,0]])\n",
    "    >>> mskf = MultilabelStratifiedKFold(n_splits=2, random_state=0)\n",
    "    >>> mskf.get_n_splits(X, y)\n",
    "    2\n",
    "    >>> print(mskf)  # doctest: +NORMALIZE_WHITESPACE\n",
    "    MultilabelStratifiedKFold(n_splits=2, random_state=0, shuffle=False)\n",
    "    >>> for train_index, test_index in mskf.split(X, y):\n",
    "    ...    print(\"TRAIN:\", train_index, \"TEST:\", test_index)\n",
    "    ...    X_train, X_test = X[train_index], X[test_index]\n",
    "    ...    y_train, y_test = y[train_index], y[test_index]\n",
    "    TRAIN: [0 3 4 6] TEST: [1 2 5 7]\n",
    "    TRAIN: [1 2 5 7] TEST: [0 3 4 6]\n",
    "    Notes\n",
    "    -----\n",
    "    Train and test sizes may be slightly different in each fold.\n",
    "    See also\n",
    "    --------\n",
    "    RepeatedMultilabelStratifiedKFold: Repeats Multilabel Stratified K-Fold\n",
    "    n times.\n",
    "    \"\"\"\n",
    "\n",
    "    def __init__(self, n_splits=3, *, shuffle=False, random_state=None):\n",
    "        super(MultilabelStratifiedKFold, self).__init__(n_splits=n_splits, shuffle=shuffle, random_state=random_state)\n",
    "\n",
    "    def _make_test_folds(self, X, y):\n",
    "        y = np.asarray(y, dtype=bool)\n",
    "        type_of_target_y = type_of_target(y)\n",
    "\n",
    "        if type_of_target_y != 'multilabel-indicator':\n",
    "            raise ValueError(\n",
    "                'Supported target type is: multilabel-indicator. Got {!r} instead.'.format(type_of_target_y))\n",
    "\n",
    "        num_samples = y.shape[0]\n",
    "\n",
    "        rng = check_random_state(self.random_state)\n",
    "        indices = np.arange(num_samples)\n",
    "\n",
    "        if self.shuffle:\n",
    "            rng.shuffle(indices)\n",
    "            y = y[indices]\n",
    "\n",
    "        r = np.asarray([1 / self.n_splits] * self.n_splits)\n",
    "\n",
    "        test_folds = IterativeStratification(labels=y, r=r, random_state=rng)\n",
    "\n",
    "        return test_folds[np.argsort(indices)]\n",
    "\n",
    "    def _iter_test_masks(self, X=None, y=None, groups=None):\n",
    "        test_folds = self._make_test_folds(X, y)\n",
    "        for i in range(self.n_splits):\n",
    "            yield test_folds == i\n",
    "\n",
    "    def split(self, X, y, groups=None):\n",
    "        \"\"\"Generate indices to split data into training and test set.\n",
    "        Parameters\n",
    "        ----------\n",
    "        X : array-like, shape (n_samples, n_features)\n",
    "            Training data, where n_samples is the number of samples\n",
    "            and n_features is the number of features.\n",
    "            Note that providing ``y`` is sufficient to generate the splits and\n",
    "            hence ``np.zeros(n_samples)`` may be used as a placeholder for\n",
    "            ``X`` instead of actual training data.\n",
    "        y : array-like, shape (n_samples, n_labels)\n",
    "            The target variable for supervised learning problems.\n",
    "            Multilabel stratification is done based on the y labels.\n",
    "        groups : object\n",
    "            Always ignored, exists for compatibility.\n",
    "        Returns\n",
    "        -------\n",
    "        train : ndarray\n",
    "            The training set indices for that split.\n",
    "        test : ndarray\n",
    "            The testing set indices for that split.\n",
    "        Notes\n",
    "        -----\n",
    "        Randomized CV splitters may return different results for each call of\n",
    "        split. You can make the results identical by setting ``random_state``\n",
    "        to an integer.\n",
    "        \"\"\"\n",
    "        y = check_array(y, ensure_2d=False, dtype=None)\n",
    "        return super(MultilabelStratifiedKFold, self).split(X, y, groups)\n",
    "\n",
    "\n",
    "class RepeatedMultilabelStratifiedKFold(_RepeatedSplits):\n",
    "    \"\"\"Repeated Multilabel Stratified K-Fold cross validator.\n",
    "    Repeats Mulilabel Stratified K-Fold n times with different randomization\n",
    "    in each repetition.\n",
    "    Parameters\n",
    "    ----------\n",
    "    n_splits : int, default=5\n",
    "        Number of folds. Must be at least 2.\n",
    "    n_repeats : int, default=10\n",
    "        Number of times cross-validator needs to be repeated.\n",
    "    random_state : None, int or RandomState, default=None\n",
    "        Random state to be used to generate random state for each\n",
    "        repetition as well as randomly breaking ties within the iterative\n",
    "        stratification algorithm.\n",
    "    Examples\n",
    "    --------\n",
    "    >>> from iterstrat.ml_stratifiers import RepeatedMultilabelStratifiedKFold\n",
    "    >>> import numpy as np\n",
    "    >>> X = np.array([[1,2], [3,4], [1,2], [3,4], [1,2], [3,4], [1,2], [3,4]])\n",
    "    >>> y = np.array([[0,0], [0,0], [0,1], [0,1], [1,1], [1,1], [1,0], [1,0]])\n",
    "    >>> rmskf = RepeatedMultilabelStratifiedKFold(n_splits=2, n_repeats=2,\n",
    "    ...     random_state=0)\n",
    "    >>> for train_index, test_index in rmskf.split(X, y):\n",
    "    ...     print(\"TRAIN:\", train_index, \"TEST:\", test_index)\n",
    "    ...     X_train, X_test = X[train_index], X[test_index]\n",
    "    ...     y_train, y_test = y[train_index], y[test_index]\n",
    "    ...\n",
    "    TRAIN: [0 3 4 6] TEST: [1 2 5 7]\n",
    "    TRAIN: [1 2 5 7] TEST: [0 3 4 6]\n",
    "    TRAIN: [0 1 4 5] TEST: [2 3 6 7]\n",
    "    TRAIN: [2 3 6 7] TEST: [0 1 4 5]\n",
    "    See also\n",
    "    --------\n",
    "    RepeatedStratifiedKFold: Repeats (Non-multilabel) Stratified K-Fold\n",
    "    n times.\n",
    "    \"\"\"\n",
    "    def __init__(self, n_splits=5, *, n_repeats=10, random_state=None):\n",
    "        super(RepeatedMultilabelStratifiedKFold, self).__init__(\n",
    "            MultilabelStratifiedKFold, n_repeats=n_repeats, random_state=random_state,\n",
    "            n_splits=n_splits)\n",
    "\n",
    "\n",
    "class MultilabelStratifiedShuffleSplit(BaseShuffleSplit):\n",
    "    \"\"\"Multilabel Stratified ShuffleSplit cross-validator\n",
    "    Provides train/test indices to split data into train/test sets.\n",
    "    This cross-validation object is a merge of MultilabelStratifiedKFold and\n",
    "    ShuffleSplit, which returns stratified randomized folds for multilabel\n",
    "    data. The folds are made by preserving the percentage of each label.\n",
    "    Note: like the ShuffleSplit strategy, multilabel stratified random splits\n",
    "    do not guarantee that all folds will be different, although this is\n",
    "    still very likely for sizeable datasets.\n",
    "    Parameters\n",
    "    ----------\n",
    "    n_splits : int, default 10\n",
    "        Number of re-shuffling & splitting iterations.\n",
    "    test_size : float, int, None, optional\n",
    "        If float, should be between 0.0 and 1.0 and represent the proportion\n",
    "        of the dataset to include in the test split. If int, represents the\n",
    "        absolute number of test samples. If None, the value is set to the\n",
    "        complement of the train size. By default, the value is set to 0.1.\n",
    "        The default will change in version 0.21. It will remain 0.1 only\n",
    "        if ``train_size`` is unspecified, otherwise it will complement\n",
    "        the specified ``train_size``.\n",
    "    train_size : float, int, or None, default is None\n",
    "        If float, should be between 0.0 and 1.0 and represent the\n",
    "        proportion of the dataset to include in the train split. If\n",
    "        int, represents the absolute number of train samples. If None,\n",
    "        the value is automatically set to the complement of the test size.\n",
    "    random_state : int, RandomState instance or None, optional (default=None)\n",
    "        If int, random_state is the seed used by the random number generator;\n",
    "        If RandomState instance, random_state is the random number generator;\n",
    "        If None, the random number generator is the RandomState instance used\n",
    "        by `np.random`. Unlike StratifiedShuffleSplit that only uses\n",
    "        random_state when ``shuffle`` == True, this multilabel implementation\n",
    "        always uses the random_state since the iterative stratification\n",
    "        algorithm breaks ties randomly.\n",
    "    Examples\n",
    "    --------\n",
    "    >>> from iterstrat.ml_stratifiers import MultilabelStratifiedShuffleSplit\n",
    "    >>> import numpy as np\n",
    "    >>> X = np.array([[1,2], [3,4], [1,2], [3,4], [1,2], [3,4], [1,2], [3,4]])\n",
    "    >>> y = np.array([[0,0], [0,0], [0,1], [0,1], [1,1], [1,1], [1,0], [1,0]])\n",
    "    >>> msss = MultilabelStratifiedShuffleSplit(n_splits=3, test_size=0.5,\n",
    "    ...    random_state=0)\n",
    "    >>> msss.get_n_splits(X, y)\n",
    "    3\n",
    "    >>> print(mss)       # doctest: +ELLIPSIS\n",
    "    MultilabelStratifiedShuffleSplit(n_splits=3, random_state=0, test_size=0.5,\n",
    "                                     train_size=None)\n",
    "    >>> for train_index, test_index in msss.split(X, y):\n",
    "    ...    print(\"TRAIN:\", train_index, \"TEST:\", test_index)\n",
    "    ...    X_train, X_test = X[train_index], X[test_index]\n",
    "    ...    y_train, y_test = y[train_index], y[test_index]\n",
    "    TRAIN: [1 2 5 7] TEST: [0 3 4 6]\n",
    "    TRAIN: [2 3 6 7] TEST: [0 1 4 5]\n",
    "    TRAIN: [1 2 5 6] TEST: [0 3 4 7]\n",
    "    Notes\n",
    "    -----\n",
    "    Train and test sizes may be slightly different from desired due to the\n",
    "    preference of stratification over perfectly sized folds.\n",
    "    \"\"\"\n",
    "\n",
    "    def __init__(self, n_splits=10, *, test_size=\"default\", train_size=None,\n",
    "                 random_state=None):\n",
    "        super(MultilabelStratifiedShuffleSplit, self).__init__(\n",
    "            n_splits=n_splits, test_size=test_size, train_size=train_size, random_state=random_state)\n",
    "\n",
    "    def _iter_indices(self, X, y, groups=None):\n",
    "        n_samples = _num_samples(X)\n",
    "        y = check_array(y, ensure_2d=False, dtype=None)\n",
    "        y = np.asarray(y, dtype=bool)\n",
    "        type_of_target_y = type_of_target(y)\n",
    "\n",
    "        if type_of_target_y != 'multilabel-indicator':\n",
    "            raise ValueError(\n",
    "                'Supported target type is: multilabel-indicator. Got {!r} instead.'.format(\n",
    "                    type_of_target_y))\n",
    "\n",
    "        n_train, n_test = _validate_shuffle_split(n_samples, self.test_size,\n",
    "                                                  self.train_size)\n",
    "\n",
    "        n_samples = y.shape[0]\n",
    "        rng = check_random_state(self.random_state)\n",
    "        y_orig = y.copy()\n",
    "\n",
    "        r = np.array([n_train, n_test]) / (n_train + n_test)\n",
    "\n",
    "        for _ in range(self.n_splits):\n",
    "            indices = np.arange(n_samples)\n",
    "            rng.shuffle(indices)\n",
    "            y = y_orig[indices]\n",
    "\n",
    "            test_folds = IterativeStratification(labels=y, r=r, random_state=rng)\n",
    "\n",
    "            test_idx = test_folds[np.argsort(indices)] == 1\n",
    "            test = np.where(test_idx)[0]\n",
    "            train = np.where(~test_idx)[0]\n",
    "\n",
    "            yield train, test\n",
    "\n",
    "    def split(self, X, y, groups=None):\n",
    "        \"\"\"Generate indices to split data into training and test set.\n",
    "        Parameters\n",
    "        ----------\n",
    "        X : array-like, shape (n_samples, n_features)\n",
    "            Training data, where n_samples is the number of samples\n",
    "            and n_features is the number of features.\n",
    "            Note that providing ``y`` is sufficient to generate the splits and\n",
    "            hence ``np.zeros(n_samples)`` may be used as a placeholder for\n",
    "            ``X`` instead of actual training data.\n",
    "        y : array-like, shape (n_samples, n_labels)\n",
    "            The target variable for supervised learning problems.\n",
    "            Multilabel stratification is done based on the y labels.\n",
    "        groups : object\n",
    "            Always ignored, exists for compatibility.\n",
    "        Returns\n",
    "        -------\n",
    "        train : ndarray\n",
    "            The training set indices for that split.\n",
    "        test : ndarray\n",
    "            The testing set indices for that split.\n",
    "        Notes\n",
    "        -----\n",
    "        Randomized CV splitters may return different results for each call of\n",
    "        split. You can make the results identical by setting ``random_state``\n",
    "        to an integer.\n",
    "        \"\"\"\n",
    "        y = check_array(y, ensure_2d=False, dtype=None)\n",
    "        return super(MultilabelStratifiedShuffleSplit, self).split(X, y, groups)"
   ]
  },
  {
   "cell_type": "markdown",
   "metadata": {},
   "source": [
    "# LGBM feature selection"
   ]
  },
  {
   "cell_type": "code",
   "execution_count": 13,
   "metadata": {
    "execution": {
     "iopub.execute_input": "2023-06-08T15:32:41.223344Z",
     "iopub.status.busy": "2023-06-08T15:32:41.222954Z"
    },
    "scrolled": true
   },
   "outputs": [],
   "source": [
    "if not CFG.kaggle:\n",
    "\n",
    "    from shaphypetune import BoostBoruta\n",
    "\n",
    "    params = {\n",
    "            'boosting_type':'goss',\n",
    "            'learning_rate': 0.06733232950390658, \n",
    "            'n_estimators': 5000, \n",
    "            'early_stopping_round' : 100, \n",
    "            'subsample' : 0.7, # bagging_fraction\n",
    "            'colsample_bytree': 0.6, # feature_fraction\n",
    "            'num_leaves': 33,\n",
    "            'class_weight': 'balanced',\n",
    "            'metric': 'none', \n",
    "            'is_unbalance': True, \n",
    "            'random_state': 8062023,\n",
    "            'feature_fraction_seed': 8062023,\n",
    "            'bagging_seed': 8062023,\n",
    "            'max_depth': 6,\n",
    "            'reg_alpha': 2.025436e-04,  \n",
    "            'reg_lambda': 2.290193e-07,\n",
    "    #         'bagging_freq': 6,\n",
    "            'max_bin': 198,\n",
    "            'min_child_samples': 32,\n",
    "            'importance_type': 'gain'\n",
    "            }\n",
    "\n",
    "    def balanced_log_loss(y_true, y_pred):\n",
    "\n",
    "        # Nc is the number of observations\n",
    "        N_1 = np.sum(y_true == 1, axis=0)\n",
    "        N_0 = np.sum(y_true == 0, axis=0)\n",
    "\n",
    "        # In order to avoid the extremes of the log function, each predicted probability 𝑝 is replaced with max(min(𝑝,1−10−15),10−15)\n",
    "        y_pred = np.clip(y_pred, 1e-15, 1 - 1e-15)\n",
    "\n",
    "        # balanced logarithmic loss\n",
    "        loss_numerator = - (1/N_0) * np.sum((1 - y_true) * np.log(1 - y_pred)) - (1/N_1) * np.sum(y_true * np.log(y_pred))\n",
    "\n",
    "        return loss_numerator / 2\n",
    "\n",
    "    def bll_metric(y_true, y_pred):\n",
    "        return 'balanced_log_loss', balanced_log_loss(y_true, y_pred), False\n",
    "\n",
    "    def calc_log_loss_weight(y_true): \n",
    "        '''w0, w1 assign different weights to individual data points during training.'''\n",
    "        nc = np.bincount(y_true)\n",
    "        w0, w1 = 1/(nc[0]/y_true.shape[0]), 1/(nc[1]/y_true.shape[0])\n",
    "        return w0, w1\n",
    "\n",
    "    def lgbm_tuning(features, permut=False, boruta=False):\n",
    "        metric = balanced_log_loss\n",
    "        eval_results_ = {}\n",
    "\n",
    "        cv_scores = [] # store all cv scores of outer loop inference\n",
    "\n",
    "        perm_df_ = pd.DataFrame()\n",
    "        feature_importances_ = pd.DataFrame()\n",
    "        boruta_df_ = pd.DataFrame()\n",
    "        \n",
    "        for i in range(CFG.n_optimize_repeats):\n",
    "            print(f'Repeat {blu}#{i+1}')\n",
    "            \n",
    "            # Make random under-sampling to balance classes\n",
    "            positive_count_train = train_df['Class'].value_counts()[1]\n",
    "            sampler = RandomUnderSampler(sampling_strategy={0: positive_count_train, \n",
    "                                                            1: positive_count_train}, \n",
    "                                        random_state=15062023+i, \n",
    "                                        replacement=True)\n",
    "\n",
    "            X_re, y_re = pd.concat([train_df[features], greeks.iloc[:,1:4]], axis=1), train_df['Class']\n",
    "            \n",
    "            if CFG.undersample:\n",
    "                X_re, y_re = sampler.fit_resample(X_re, y_re)\n",
    "            \n",
    "            # Create Stratified Multilabel k-Fold scheme\n",
    "            kf = MultilabelStratifiedKFold(n_splits=CFG.n_feature_sel_folds, shuffle=True, random_state=8062023+i)\n",
    "\n",
    "            # Create an oof array for inner loop\n",
    "            oof = np.zeros(X_re.shape[0])\n",
    "            \n",
    "            # Stratify based on Class and Alpha (3 types of conditions)\n",
    "            for fold, (train_idx, val_idx) in enumerate(kf.split(X=X_re[features], y=X_re.iloc[:,-3:]), start = 1): \n",
    "                X, y = X_re[features], y_re\n",
    "\n",
    "                # Split the dataset according to the fold indexes.\n",
    "                X_train = X.iloc[train_idx]\n",
    "                X_val = X.iloc[val_idx]\n",
    "                y_train = y.iloc[train_idx]\n",
    "                y_val = y.iloc[val_idx]\n",
    "\n",
    "\n",
    "                X_train = X_train.reset_index(drop=True)\n",
    "                y_train = y_train.reset_index(drop=True)\n",
    "\n",
    "                # Store models here\n",
    "                models_ = [] \n",
    "\n",
    "                eval_results_[fold]= {}\n",
    "\n",
    "                clf = lgb.LGBMClassifier(**params)\n",
    "                clf.fit(X_train, y_train, eval_set=[(X_val, y_val)], \n",
    "                        eval_metric=bll_metric, # eval_sample_weight=w_val, \n",
    "                        early_stopping_rounds=100, verbose=1)\n",
    "\n",
    "                models_.append(clf)\n",
    "\n",
    "                val_preds = clf.predict_proba(X_val)[:,1]\n",
    "                oof[val_idx] = val_preds\n",
    "\n",
    "                val_score = metric(y_val, val_preds)\n",
    "                best_iter = clf.best_iteration_\n",
    "\n",
    "                print(f'Fold: {blu}{fold:>3}{res}| {metric.__name__}: {blu}{val_score:.5f}{res}'\n",
    "                    f' | Best iteration: {blu}{best_iter:>4}{res}')\n",
    "\n",
    "                # permutation importance\n",
    "                if permut:\n",
    "                    perm = PermutationImportance(clf, scoring=None, n_iter=1, \n",
    "                                                random_state=42, cv=None, refit=False).fit(X_val, y_val)\n",
    "\n",
    "                    perm_importance_df = pd.DataFrame({'importance': perm.feature_importances_}, \n",
    "                                                    index=X_val.columns).sort_index()\n",
    "\n",
    "                    if perm_df_.shape[0] == 0:\n",
    "                        perm_df_ = perm_importance_df.copy()\n",
    "                    else:\n",
    "                        perm_df_ += perm_importance_df\n",
    "\n",
    "                # tree feature importance\n",
    "                f_i = pd.DataFrame(sorted(zip(clf.feature_importances_, X.columns), \n",
    "                                                reverse=True, key=lambda x: x[1]), \n",
    "                                columns=['Value','Feature'])\n",
    "\n",
    "                if feature_importances_.shape[0] == 0:\n",
    "                    feature_importances_ = f_i.copy()\n",
    "                else:\n",
    "\n",
    "                    feature_importances_['Value'] += f_i['Value']\n",
    "\n",
    "                # Boruta SHAP importance\n",
    "                if boruta:\n",
    "                    model = BoostBoruta(clf, importance_type='shap_importances', train_importance=False)\n",
    "                    model.fit(X_train, y_train, eval_set=[(X_val, y_val)], \n",
    "                            eval_metric=bll_metric, early_stopping_rounds=300, verbose=-1)\n",
    "\n",
    "                    boruta_importance_df = pd.DataFrame({'importance': model.ranking_}, \n",
    "                                                        index=X_train.columns).sort_index()\n",
    "                    if boruta_df_.shape[0] == 0:\n",
    "                        boruta_df_ = boruta_importance_df.copy()\n",
    "                    else:\n",
    "                        boruta_df_ += boruta_importance_df\n",
    "\n",
    "            fold_cv_score = metric(y_re, oof)\n",
    "            print(f'{red} CV score: {res} {metric.__name__}: {red}{fold_cv_score:.5f}{res}')\n",
    "            print(f'{\"*\" * 50}\\n')\n",
    "            cv_scores.append(fold_cv_score)\n",
    "\n",
    "\n",
    "        print(f'{red} Avg score {CFG.n_feature_sel_folds}-fold: {res} {metric.__name__}: {red}{np.mean(cv_scores):.5f}{res}')\n",
    "        print(f'{\"*\" * 50}\\n')\n",
    "        \n",
    "        if permut:\n",
    "            perm_df_ = perm_df_.sort_values('importance', ascending=False)\n",
    "            \n",
    "        if boruta:\n",
    "            boruta_df_ = boruta_df_.sort_values('importance')\n",
    "                                        \n",
    "        feature_importances_ = feature_importances_.sort_values('Value', ascending=False)\n",
    "        \n",
    "        return perm_df_, feature_importances_, boruta_df_, np.mean(cv_scores)\n",
    "\n",
    "    if CFG.feature_sel:\n",
    "        perm_df_, feature_importances_, boruta_df_, cv_scores = lgbm_tuning(features, permut=False, boruta=False)"
   ]
  },
  {
   "cell_type": "markdown",
   "metadata": {},
   "source": [
    "# Check features correlation"
   ]
  },
  {
   "cell_type": "code",
   "execution_count": 14,
   "metadata": {
    "scrolled": false
   },
   "outputs": [],
   "source": [
    "if CFG.feature_sel:\n",
    "    col = 'BZ'\n",
    "    x = train_df[train_df[col] <= train_df[col].quantile(0.99)]\n",
    "    cm = x[[c for c in train_df.columns if c not in ['Id', 'Class']]].corr()\n",
    "    display(np.abs(cm[col]).sort_values(ascending=False)[1:])"
   ]
  },
  {
   "cell_type": "markdown",
   "metadata": {},
   "source": [
    "# Analyze permutation feature importance"
   ]
  },
  {
   "cell_type": "code",
   "execution_count": 15,
   "metadata": {
    "execution": {
     "iopub.execute_input": "2023-06-08T15:32:11.619184Z",
     "iopub.status.busy": "2023-06-08T15:32:11.618864Z",
     "iopub.status.idle": "2023-06-08T15:32:11.652915Z",
     "shell.execute_reply": "2023-06-08T15:32:11.652069Z",
     "shell.execute_reply.started": "2023-06-08T15:32:11.619157Z"
    },
    "scrolled": false
   },
   "outputs": [],
   "source": [
    "if CFG.feature_sel:\n",
    "    perm_df_.to_csv('perm_df.csv')\n",
    "    perm_df_\n",
    "    perm_cols = set(perm_df_.index[-35:])\n",
    "    display(perm_cols)"
   ]
  },
  {
   "cell_type": "markdown",
   "metadata": {},
   "source": [
    "# Analyze tree gain feature importance"
   ]
  },
  {
   "cell_type": "code",
   "execution_count": 16,
   "metadata": {
    "execution": {
     "iopub.execute_input": "2023-06-08T15:32:11.654626Z",
     "iopub.status.busy": "2023-06-08T15:32:11.654102Z",
     "iopub.status.idle": "2023-06-08T15:32:11.669674Z",
     "shell.execute_reply": "2023-06-08T15:32:11.668840Z",
     "shell.execute_reply.started": "2023-06-08T15:32:11.654583Z"
    },
    "scrolled": false
   },
   "outputs": [],
   "source": [
    "if CFG.feature_sel:\n",
    "    feature_importances_.to_csv('feature_importances.csv')\n",
    "    feature_importances_\n",
    "    fi_cols = set(feature_importances_['Feature'].values[-23:])\n",
    "    display(fi_cols)"
   ]
  },
  {
   "cell_type": "markdown",
   "metadata": {},
   "source": [
    "# Analyze BORUTA importance"
   ]
  },
  {
   "cell_type": "code",
   "execution_count": 17,
   "metadata": {},
   "outputs": [],
   "source": [
    "if CFG.feature_sel:\n",
    "    boruta_df_.to_csv('boruta_df_.csv')\n",
    "    boruta_df_\n",
    "    boruta_cols = set(boruta_df_.index[-35:])\n",
    "    display(boruta_cols)"
   ]
  },
  {
   "cell_type": "markdown",
   "metadata": {},
   "source": [
    "# LGBM Optuna optimization"
   ]
  },
  {
   "cell_type": "code",
   "execution_count": 1,
   "metadata": {
    "scrolled": true
   },
   "outputs": [],
   "source": [
    "def balanced_log_loss(y_true, y_pred):\n",
    "    # Nc is the number of observations\n",
    "    N_1 = np.sum(y_true == 1, axis=0)\n",
    "    N_0 = np.sum(y_true == 0, axis=0)\n",
    "\n",
    "    # In order to avoid the extremes of the log function, each predicted probability 𝑝 is replaced with max(min(𝑝,1−10−15),10−15)\n",
    "    y_pred = np.clip(y_pred, 1e-15, 1 - 1e-15)\n",
    "\n",
    "    # balanced logarithmic loss\n",
    "    loss_numerator = - (1/N_0) * np.sum((1 - y_true) * np.log(1 - y_pred)) - (1/N_1) * np.sum(y_true * np.log(y_pred))\n",
    "\n",
    "    return loss_numerator / 2\n",
    "\n",
    "def bll_metric(y_pred, y_true):\n",
    "    y_true = y_true.get_label()\n",
    "    return 'balanced_log_loss', balanced_log_loss(y_true, y_pred), False\n",
    "\n",
    "def calc_log_loss_weight(y_true): \n",
    "    '''w0, w1 assign different weights to individual data points during training.'''\n",
    "    nc = np.bincount(y_true)\n",
    "    w0, w1 = 1/(nc[0]/y_true.shape[0]), 1/(nc[1]/y_true.shape[0])\n",
    "    return w0, w1\n",
    "\n",
    "X, y = train_df[features], train_df['Class'] \n",
    "    \n",
    "def objective(trial):\n",
    "    param = {\n",
    "        # Main parameters\n",
    "#                     'device': 'gpu',\n",
    "#                     'gpu_platform_id': 0,\n",
    "#                     'gpu_device_id': 0,\n",
    "        'objective': 'binary',\n",
    "        'metric': 'none',\n",
    "        'boosting_type': trial.suggest_categorical('boosting_type', ['goss', 'gbdt', 'dart']),   \n",
    "        # Hyperparamters (in order of importance decreasing)\n",
    "        'n_estimators': 3000, # trial.suggest_int('n_estimators', 500, 1500),  # max number of trees in model\n",
    "        'learning_rate': trial.suggest_loguniform('learning_rate', 1e-4, 3e-1),\n",
    "        'lambda_l1': trial.suggest_float('lambda_l1', 1e-8, 10.0, log=True), # L1,  alias: reg_alpha\n",
    "        'lambda_l2': trial.suggest_float('lambda_l2', 1e-8, 10.0, log=True), # L2, alias: reg_lambda\n",
    "         # decrease to deal with overfit\n",
    "        'max_depth': trial.suggest_int('max_depth', 4, 10),   # tree max depth \n",
    "         # decrease to deal with overfit\n",
    "        'num_leaves': trial.suggest_int('num_leaves', 4, 128),  # Max number of leaves in one tree\n",
    "                                                               # should be ~ 2**(max_depth-1)\n",
    "        'bagging_fraction': None, # Randomly select part of data without \n",
    "                                  # resampling if bagging_fraction < 1.0\n",
    "                                  # alias: subsample\n",
    "        'feature_fraction': trial.suggest_float('feature_fraction', 0.3, 0.7), # Randomly select a subset of features \n",
    "                                                                   # if feature_fraction < 1.0\n",
    "                                                                   # alias: colsample_bytree\n",
    "        # decrease to deal with overfit\n",
    "        'min_data_in_leaf': trial.suggest_int('min_data_in_leaf', 5, 100), # Minimal number of data in one leaf\n",
    "                                                                           # aliases: min_child_samples, \n",
    "        # increase for accuracy, decrease to deal with overfit\n",
    "        'max_bin': trial.suggest_int('max_bin', 32, 255), # Max number of bins that feature values will be bucketed in\n",
    "        # increase to deal with overfit\n",
    "        'bagging_freq': trial.suggest_int('bagging_freq', 1, 7), # Perform bagging at every k iteration\n",
    "        'early_stopping_round': 100, \n",
    "\n",
    "#           'subsample_for_bin': 200000, # Number of data that sampled to construct feature discrete bins; setting this \n",
    "                                     # to larger value will give better training result but may increase train time \n",
    "#           'cat_smooth': trial.suggest_float('cat_smooth', 10.0, 100.0),  # this can reduce the effect of noises in \n",
    "                                                                       # categorical features, especially for \n",
    "                                                                       # categories with few data\n",
    "        'verbose': -1\n",
    "    }\n",
    "\n",
    "    if not CFG.undersample:\n",
    "        param['is_unbalance'] = True\n",
    "    \n",
    "    if param['boosting_type'] != 'goss':\n",
    "        param['bagging_fraction'] = trial.suggest_float('bagging_fraction', 0.3, 0.7)\n",
    "\n",
    "    bll_list = list()\n",
    "    \n",
    "    for i in range(CFG.n_optimize_repeats):\n",
    "        print(f'Repeat {blu}#{i+1}')\n",
    "\n",
    "        # Make random under-sampling to balance classes\n",
    "        positive_count_train = train_df['Class'].value_counts()[1]\n",
    "        sampler = RandomUnderSampler(sampling_strategy={0: positive_count_train, \n",
    "                                                        1: positive_count_train}, \n",
    "                                     random_state=15062023+i, \n",
    "                                     replacement=True)\n",
    "\n",
    "        X_re, y_re = pd.concat([train_df[features], greeks.iloc[:,1:4]], axis=1), train_df['Class']\n",
    "        \n",
    "        if CFG.undersample:\n",
    "            X_re, y_re = sampler.fit_resample(X_re, y_re)\n",
    "        \n",
    "        # Create Stratified Multilabel k-Fold scheme\n",
    "        kf = MultilabelStratifiedKFold(n_splits=CFG.n_feature_sel_folds, shuffle=True, random_state=10062023+i)\n",
    "\n",
    "        # Create an oof array for inner loop\n",
    "        oof = np.zeros(X_re.shape[0])\n",
    "\n",
    "        # Stratify based on Class and Alpha (3 types of conditions)\n",
    "        for fold, (train_idx, val_idx) in enumerate(kf.split(X=X_re[features], y=X_re.iloc[:,-3:]), start=1): \n",
    "            X, y = X_re[features], y_re\n",
    "            \n",
    "            # Split the dataset according to the fold indexes.\n",
    "            X_train = X.iloc[train_idx]\n",
    "            X_val = X.iloc[val_idx]\n",
    "            y_train = y.iloc[train_idx]\n",
    "            y_val = y.iloc[val_idx]\n",
    "\n",
    "            dtrain = lgb.Dataset(X_train, label=y_train)\n",
    "            dvalid = lgb.Dataset(X_val, label=y_val)\n",
    "\n",
    "            # Add a callback for pruning\n",
    "#             pruning_callback = optuna.integration.LightGBMPruningCallback(trial, 'balanced_log_loss')\n",
    "\n",
    "            gbm = lgb.train(\n",
    "                param, dtrain, valid_sets=[dvalid], # callbacks=[pruning_callback], \n",
    "                feval=bll_metric, verbose_eval=0\n",
    "            )\n",
    "\n",
    "            val_preds = gbm.predict(X_val)\n",
    "            oof[val_idx] = val_preds\n",
    "        bll_list.append(balanced_log_loss(y_re, oof))\n",
    "\n",
    "    return np.mean(bll_list)\n",
    "            \n",
    "\n",
    "if CFG.lgbm_optimize:\n",
    "#     study = optuna.create_study(pruner=optuna.pruners.MedianPruner(n_warmup_steps=100), direction=\"minimize\")\n",
    "    study = optuna.create_study(direction=\"minimize\")\n",
    "    study.optimize(objective, n_trials=CFG.n_trials)\n",
    "\n",
    "    print(\"Number of finished trials: {}\".format(len(study.trials)))\n",
    "\n",
    "    print(\"Best trial:\")\n",
    "    trial = study.best_trial\n",
    "\n",
    "    print(\"  Value: {}\".format(trial.value))\n",
    "\n",
    "    print(\"  Params: \")\n",
    "    for key, value in trial.params.items():\n",
    "        print(\"    {}: {}\".format(key, value))\n",
    "\n",
    "    df = study.trials_dataframe().sort_values('value')\n",
    "    df.to_csv(f'optuna_lgbm.csv')"
   ]
  },
  {
   "cell_type": "markdown",
   "metadata": {},
   "source": [
    "# Load LGBM parameters"
   ]
  },
  {
   "cell_type": "code",
   "execution_count": 19,
   "metadata": {},
   "outputs": [],
   "source": [
    "import glob\n",
    "\n",
    "if CFG.kaggle:\n",
    "    param_list = glob.glob(\"/kaggle/input/icr-optuna-balanced/optuna_lgbm.csv\")\n",
    "else:\n",
    "    param_list = glob.glob(\"optuna_lgbm.csv\")\n",
    "\n",
    "models = list()\n",
    "best_lgbm_params = list()\n",
    "\n",
    "lgbm_params = pd.DataFrame()\n",
    "\n",
    "for f in param_list:\n",
    "    tmp = pd.read_csv(f, index_col='Unnamed: 0')\n",
    "    if lgbm_params.shape[0] == 0:\n",
    "        lgbm_params = tmp\n",
    "    else:\n",
    "        lgbm_params = pd.concat([lgbm_params, tmp])\n",
    "        \n",
    "lgbm_params = lgbm_params.sort_values('value').head(20)\n",
    "param_cols = [c for c in lgbm_params.columns if c.startswith('params_')]\n",
    "lgbm_params = lgbm_params[param_cols]\n",
    "\n",
    "for idx, row in lgbm_params.iterrows():\n",
    "    row_dict = {k[7:]: v for k, v in row.items()}\n",
    "    row_dict['objective'] = 'binary'\n",
    "    row_dict['metric'] = 'none'\n",
    "#     row_dict['subsample_for_bin'] = 300000\n",
    "    row_dict['force_col_wise'] = False\n",
    "    row_dict['early_stopping_rounds'] = 20\n",
    "    row_dict['verbose'] = -1\n",
    "    row_dict['max_bin'] = 255\n",
    "    row_dict['bagging_freq'] = int(row_dict['bagging_freq'])\n",
    "    row_dict['min_data_in_leaf'] = int(row_dict['min_data_in_leaf'])\n",
    "    row_dict['n_estimators'] = 1000 # int(row_dict['n_estimators'])\n",
    "    row_dict['learning_rate'] = float(row_dict['learning_rate'])\n",
    "    row_dict['num_leaves'] = int(row_dict['num_leaves'])\n",
    "    row_dict['max_depth'] = int(row_dict['max_depth'])\n",
    "    if not CFG.undersample:\n",
    "        row_dict['is_unbalance'] = True\n",
    "    row_dict['verbose'] = -1\n",
    "    \n",
    "    if row_dict['boosting_type'] == 'goss':\n",
    "        row_dict['bagging_fraction'] = None\n",
    "        \n",
    "    best_lgbm_params.append(row_dict)"
   ]
  },
  {
   "cell_type": "markdown",
   "metadata": {},
   "source": [
    "# LGBM train"
   ]
  },
  {
   "cell_type": "code",
   "execution_count": 20,
   "metadata": {
    "execution": {
     "iopub.execute_input": "2023-06-08T15:32:11.672883Z",
     "iopub.status.busy": "2023-06-08T15:32:11.672350Z",
     "iopub.status.idle": "2023-06-08T15:32:38.349383Z",
     "shell.execute_reply": "2023-06-08T15:32:38.347823Z",
     "shell.execute_reply.started": "2023-06-08T15:32:11.672854Z"
    },
    "scrolled": true
   },
   "outputs": [
    {
     "name": "stdout",
     "output_type": "stream",
     "text": [
      "Training with \u001b[1m\u001b[34m42\u001b[0m features\n"
     ]
    },
    {
     "name": "stderr",
     "output_type": "stream",
     "text": [
      "  0%|          | 0/5 [00:00<?, ?it/s]"
     ]
    },
    {
     "name": "stdout",
     "output_type": "stream",
     "text": [
      "[LightGBM] [Warning] early_stopping_round is set=100, early_stopping_rounds=100 will be ignored. Current value: early_stopping_round=100\n",
      "[LightGBM] [Warning] lambda_l1 is set=2.811253654801665e-07, reg_alpha=0.0 will be ignored. Current value: lambda_l1=2.811253654801665e-07\n",
      "[LightGBM] [Warning] lambda_l2 is set=4.924711244291618e-06, reg_lambda=0.0 will be ignored. Current value: lambda_l2=4.924711244291618e-06\n",
      "[LightGBM] [Warning] feature_fraction is set=0.5132067273860832, colsample_bytree=1.0 will be ignored. Current value: feature_fraction=0.5132067273860832\n",
      "[LightGBM] [Warning] min_data_in_leaf is set=17, min_child_samples=20 will be ignored. Current value: min_data_in_leaf=17\n",
      "[LightGBM] [Warning] bagging_freq is set=6, subsample_freq=0 will be ignored. Current value: bagging_freq=6\n",
      "57\n",
      "Fold: \u001b[1m\u001b[34m  1\u001b[0m| bll_metric: \u001b[1m\u001b[34m0.33748\u001b[0m | Best iteration: \u001b[1m\u001b[34m  57\u001b[0m\n",
      "[LightGBM] [Warning] early_stopping_round is set=100, early_stopping_rounds=100 will be ignored. Current value: early_stopping_round=100\n",
      "[LightGBM] [Warning] lambda_l1 is set=1.6973539952061037e-07, reg_alpha=0.0 will be ignored. Current value: lambda_l1=1.6973539952061037e-07\n",
      "[LightGBM] [Warning] lambda_l2 is set=1.0652843293917709e-07, reg_lambda=0.0 will be ignored. Current value: lambda_l2=1.0652843293917709e-07\n",
      "[LightGBM] [Warning] feature_fraction is set=0.6271150785596645, colsample_bytree=1.0 will be ignored. Current value: feature_fraction=0.6271150785596645\n",
      "[LightGBM] [Warning] min_data_in_leaf is set=29, min_child_samples=20 will be ignored. Current value: min_data_in_leaf=29\n",
      "[LightGBM] [Warning] bagging_freq is set=6, subsample_freq=0 will be ignored. Current value: bagging_freq=6\n",
      "95\n",
      "Fold: \u001b[1m\u001b[34m  1\u001b[0m| bll_metric: \u001b[1m\u001b[34m0.26583\u001b[0m | Best iteration: \u001b[1m\u001b[34m  95\u001b[0m\n",
      "[LightGBM] [Warning] early_stopping_round is set=100, early_stopping_rounds=100 will be ignored. Current value: early_stopping_round=100\n",
      "[LightGBM] [Warning] lambda_l1 is set=0.0001284782238694, reg_alpha=0.0 will be ignored. Current value: lambda_l1=0.0001284782238694\n",
      "[LightGBM] [Warning] lambda_l2 is set=0.2777858895761018, reg_lambda=0.0 will be ignored. Current value: lambda_l2=0.2777858895761018\n",
      "[LightGBM] [Warning] feature_fraction is set=0.5575808754463537, colsample_bytree=1.0 will be ignored. Current value: feature_fraction=0.5575808754463537\n",
      "[LightGBM] [Warning] min_data_in_leaf is set=18, min_child_samples=20 will be ignored. Current value: min_data_in_leaf=18\n",
      "[LightGBM] [Warning] bagging_freq is set=7, subsample_freq=0 will be ignored. Current value: bagging_freq=7\n",
      "93\n",
      "Fold: \u001b[1m\u001b[34m  1\u001b[0m| bll_metric: \u001b[1m\u001b[34m0.32122\u001b[0m | Best iteration: \u001b[1m\u001b[34m  93\u001b[0m\n",
      "[LightGBM] [Warning] early_stopping_round is set=100, early_stopping_rounds=100 will be ignored. Current value: early_stopping_round=100\n",
      "[LightGBM] [Warning] lambda_l1 is set=6.747672083007809e-07, reg_alpha=0.0 will be ignored. Current value: lambda_l1=6.747672083007809e-07\n",
      "[LightGBM] [Warning] lambda_l2 is set=0.0026591456078525, reg_lambda=0.0 will be ignored. Current value: lambda_l2=0.0026591456078525\n",
      "[LightGBM] [Warning] feature_fraction is set=0.5813704113161643, colsample_bytree=1.0 will be ignored. Current value: feature_fraction=0.5813704113161643\n",
      "[LightGBM] [Warning] min_data_in_leaf is set=24, min_child_samples=20 will be ignored. Current value: min_data_in_leaf=24\n",
      "[LightGBM] [Warning] bagging_freq is set=6, subsample_freq=0 will be ignored. Current value: bagging_freq=6\n",
      "280\n",
      "Fold: \u001b[1m\u001b[34m  1\u001b[0m| bll_metric: \u001b[1m\u001b[34m0.29342\u001b[0m | Best iteration: \u001b[1m\u001b[34m 280\u001b[0m\n",
      "[LightGBM] [Warning] early_stopping_round is set=100, early_stopping_rounds=100 will be ignored. Current value: early_stopping_round=100\n",
      "[LightGBM] [Warning] lambda_l1 is set=0.0260071209928558, reg_alpha=0.0 will be ignored. Current value: lambda_l1=0.0260071209928558\n",
      "[LightGBM] [Warning] lambda_l2 is set=0.2100407852940459, reg_lambda=0.0 will be ignored. Current value: lambda_l2=0.2100407852940459\n",
      "[LightGBM] [Warning] feature_fraction is set=0.5828332375901565, colsample_bytree=1.0 will be ignored. Current value: feature_fraction=0.5828332375901565\n",
      "[LightGBM] [Warning] min_data_in_leaf is set=23, min_child_samples=20 will be ignored. Current value: min_data_in_leaf=23\n",
      "[LightGBM] [Warning] bagging_freq is set=1, subsample_freq=0 will be ignored. Current value: bagging_freq=1\n",
      "122\n",
      "Fold: \u001b[1m\u001b[34m  1\u001b[0m| bll_metric: \u001b[1m\u001b[34m0.28436\u001b[0m | Best iteration: \u001b[1m\u001b[34m 122\u001b[0m\n",
      "[LightGBM] [Warning] early_stopping_round is set=100, early_stopping_rounds=100 will be ignored. Current value: early_stopping_round=100\n",
      "[LightGBM] [Warning] lambda_l1 is set=9.299903144779756e-08, reg_alpha=0.0 will be ignored. Current value: lambda_l1=9.299903144779756e-08\n",
      "[LightGBM] [Warning] lambda_l2 is set=1.1366481061597855, reg_lambda=0.0 will be ignored. Current value: lambda_l2=1.1366481061597855\n",
      "[LightGBM] [Warning] feature_fraction is set=0.3359043459618996, colsample_bytree=1.0 will be ignored. Current value: feature_fraction=0.3359043459618996\n",
      "[LightGBM] [Warning] min_data_in_leaf is set=27, min_child_samples=20 will be ignored. Current value: min_data_in_leaf=27\n",
      "[LightGBM] [Warning] bagging_freq is set=6, subsample_freq=0 will be ignored. Current value: bagging_freq=6\n",
      "94\n",
      "Fold: \u001b[1m\u001b[34m  1\u001b[0m| bll_metric: \u001b[1m\u001b[34m0.26999\u001b[0m | Best iteration: \u001b[1m\u001b[34m  94\u001b[0m\n",
      "[LightGBM] [Warning] early_stopping_round is set=100, early_stopping_rounds=100 will be ignored. Current value: early_stopping_round=100\n",
      "[LightGBM] [Warning] lambda_l1 is set=2.20957965984874e-06, reg_alpha=0.0 will be ignored. Current value: lambda_l1=2.20957965984874e-06\n",
      "[LightGBM] [Warning] lambda_l2 is set=0.0054542886250849, reg_lambda=0.0 will be ignored. Current value: lambda_l2=0.0054542886250849\n",
      "[LightGBM] [Warning] feature_fraction is set=0.5930869695550075, colsample_bytree=1.0 will be ignored. Current value: feature_fraction=0.5930869695550075\n",
      "[LightGBM] [Warning] min_data_in_leaf is set=21, min_child_samples=20 will be ignored. Current value: min_data_in_leaf=21\n",
      "[LightGBM] [Warning] bagging_freq is set=6, subsample_freq=0 will be ignored. Current value: bagging_freq=6\n",
      "97\n",
      "Fold: \u001b[1m\u001b[34m  1\u001b[0m| bll_metric: \u001b[1m\u001b[34m0.31154\u001b[0m | Best iteration: \u001b[1m\u001b[34m  97\u001b[0m\n",
      "[LightGBM] [Warning] early_stopping_round is set=100, early_stopping_rounds=100 will be ignored. Current value: early_stopping_round=100\n",
      "[LightGBM] [Warning] lambda_l1 is set=0.0545077457903194, reg_alpha=0.0 will be ignored. Current value: lambda_l1=0.0545077457903194\n",
      "[LightGBM] [Warning] lambda_l2 is set=0.1557779574271824, reg_lambda=0.0 will be ignored. Current value: lambda_l2=0.1557779574271824\n",
      "[LightGBM] [Warning] feature_fraction is set=0.4736641312423156, colsample_bytree=1.0 will be ignored. Current value: feature_fraction=0.4736641312423156\n",
      "[LightGBM] [Warning] min_data_in_leaf is set=19, min_child_samples=20 will be ignored. Current value: min_data_in_leaf=19\n",
      "[LightGBM] [Warning] bagging_freq is set=6, subsample_freq=0 will be ignored. Current value: bagging_freq=6\n",
      "144\n",
      "Fold: \u001b[1m\u001b[34m  1\u001b[0m| bll_metric: \u001b[1m\u001b[34m0.34592\u001b[0m | Best iteration: \u001b[1m\u001b[34m 144\u001b[0m\n",
      "[LightGBM] [Warning] early_stopping_round is set=100, early_stopping_rounds=100 will be ignored. Current value: early_stopping_round=100\n",
      "[LightGBM] [Warning] lambda_l1 is set=5.8423381442000727e-05, reg_alpha=0.0 will be ignored. Current value: lambda_l1=5.8423381442000727e-05\n",
      "[LightGBM] [Warning] lambda_l2 is set=4.548404191201233e-07, reg_lambda=0.0 will be ignored. Current value: lambda_l2=4.548404191201233e-07\n",
      "[LightGBM] [Warning] feature_fraction is set=0.5663538745268442, colsample_bytree=1.0 will be ignored. Current value: feature_fraction=0.5663538745268442\n",
      "[LightGBM] [Warning] min_data_in_leaf is set=26, min_child_samples=20 will be ignored. Current value: min_data_in_leaf=26\n",
      "[LightGBM] [Warning] bagging_freq is set=5, subsample_freq=0 will be ignored. Current value: bagging_freq=5\n",
      "135\n",
      "Fold: \u001b[1m\u001b[34m  1\u001b[0m| bll_metric: \u001b[1m\u001b[34m0.30522\u001b[0m | Best iteration: \u001b[1m\u001b[34m 135\u001b[0m\n",
      "[LightGBM] [Warning] early_stopping_round is set=100, early_stopping_rounds=100 will be ignored. Current value: early_stopping_round=100\n",
      "[LightGBM] [Warning] lambda_l1 is set=2.944065785368376e-07, reg_alpha=0.0 will be ignored. Current value: lambda_l1=2.944065785368376e-07\n",
      "[LightGBM] [Warning] lambda_l2 is set=0.003990472269227, reg_lambda=0.0 will be ignored. Current value: lambda_l2=0.003990472269227\n",
      "[LightGBM] [Warning] feature_fraction is set=0.5719172756855742, colsample_bytree=1.0 will be ignored. Current value: feature_fraction=0.5719172756855742\n",
      "[LightGBM] [Warning] min_data_in_leaf is set=27, min_child_samples=20 will be ignored. Current value: min_data_in_leaf=27\n",
      "[LightGBM] [Warning] bagging_freq is set=6, subsample_freq=0 will be ignored. Current value: bagging_freq=6\n",
      "186\n",
      "Fold: \u001b[1m\u001b[34m  1\u001b[0m| bll_metric: \u001b[1m\u001b[34m0.31286\u001b[0m | Best iteration: \u001b[1m\u001b[34m 186\u001b[0m\n",
      "[LightGBM] [Warning] early_stopping_round is set=100, early_stopping_rounds=100 will be ignored. Current value: early_stopping_round=100\n",
      "[LightGBM] [Warning] lambda_l1 is set=0.0053806276673069, reg_alpha=0.0 will be ignored. Current value: lambda_l1=0.0053806276673069\n",
      "[LightGBM] [Warning] lambda_l2 is set=0.0059759968102011, reg_lambda=0.0 will be ignored. Current value: lambda_l2=0.0059759968102011\n",
      "[LightGBM] [Warning] feature_fraction is set=0.6078717268452226, colsample_bytree=1.0 will be ignored. Current value: feature_fraction=0.6078717268452226\n",
      "[LightGBM] [Warning] min_data_in_leaf is set=24, min_child_samples=20 will be ignored. Current value: min_data_in_leaf=24\n",
      "[LightGBM] [Warning] bagging_freq is set=1, subsample_freq=0 will be ignored. Current value: bagging_freq=1\n",
      "94\n",
      "Fold: \u001b[1m\u001b[34m  1\u001b[0m| bll_metric: \u001b[1m\u001b[34m0.30670\u001b[0m | Best iteration: \u001b[1m\u001b[34m  94\u001b[0m\n",
      "[LightGBM] [Warning] early_stopping_round is set=100, early_stopping_rounds=100 will be ignored. Current value: early_stopping_round=100\n",
      "[LightGBM] [Warning] lambda_l1 is set=6.407034366341267e-08, reg_alpha=0.0 will be ignored. Current value: lambda_l1=6.407034366341267e-08\n",
      "[LightGBM] [Warning] lambda_l2 is set=4.8808516611403415e-06, reg_lambda=0.0 will be ignored. Current value: lambda_l2=4.8808516611403415e-06\n",
      "[LightGBM] [Warning] feature_fraction is set=0.6142618118399489, colsample_bytree=1.0 will be ignored. Current value: feature_fraction=0.6142618118399489\n",
      "[LightGBM] [Warning] min_data_in_leaf is set=25, min_child_samples=20 will be ignored. Current value: min_data_in_leaf=25\n",
      "[LightGBM] [Warning] bagging_freq is set=6, subsample_freq=0 will be ignored. Current value: bagging_freq=6\n",
      "35\n",
      "Fold: \u001b[1m\u001b[34m  1\u001b[0m| bll_metric: \u001b[1m\u001b[34m0.35438\u001b[0m | Best iteration: \u001b[1m\u001b[34m  35\u001b[0m\n",
      "[LightGBM] [Warning] early_stopping_round is set=100, early_stopping_rounds=100 will be ignored. Current value: early_stopping_round=100\n",
      "[LightGBM] [Warning] lambda_l1 is set=0.0017417374392891, reg_alpha=0.0 will be ignored. Current value: lambda_l1=0.0017417374392891\n",
      "[LightGBM] [Warning] lambda_l2 is set=0.0195987338731541, reg_lambda=0.0 will be ignored. Current value: lambda_l2=0.0195987338731541\n",
      "[LightGBM] [Warning] feature_fraction is set=0.5791444378727839, colsample_bytree=1.0 will be ignored. Current value: feature_fraction=0.5791444378727839\n",
      "[LightGBM] [Warning] min_data_in_leaf is set=14, min_child_samples=20 will be ignored. Current value: min_data_in_leaf=14\n",
      "[LightGBM] [Warning] bagging_freq is set=6, subsample_freq=0 will be ignored. Current value: bagging_freq=6\n",
      "77\n",
      "Fold: \u001b[1m\u001b[34m  1\u001b[0m| bll_metric: \u001b[1m\u001b[34m0.32497\u001b[0m | Best iteration: \u001b[1m\u001b[34m  77\u001b[0m\n",
      "[LightGBM] [Warning] early_stopping_round is set=100, early_stopping_rounds=100 will be ignored. Current value: early_stopping_round=100\n",
      "[LightGBM] [Warning] lambda_l1 is set=4.060753700363072e-08, reg_alpha=0.0 will be ignored. Current value: lambda_l1=4.060753700363072e-08\n",
      "[LightGBM] [Warning] lambda_l2 is set=0.0071307376847169, reg_lambda=0.0 will be ignored. Current value: lambda_l2=0.0071307376847169\n",
      "[LightGBM] [Warning] feature_fraction is set=0.5704153462628081, colsample_bytree=1.0 will be ignored. Current value: feature_fraction=0.5704153462628081\n",
      "[LightGBM] [Warning] min_data_in_leaf is set=21, min_child_samples=20 will be ignored. Current value: min_data_in_leaf=21\n",
      "[LightGBM] [Warning] bagging_freq is set=6, subsample_freq=0 will be ignored. Current value: bagging_freq=6\n",
      "111\n",
      "Fold: \u001b[1m\u001b[34m  1\u001b[0m| bll_metric: \u001b[1m\u001b[34m0.33126\u001b[0m | Best iteration: \u001b[1m\u001b[34m 111\u001b[0m\n",
      "[LightGBM] [Warning] early_stopping_round is set=100, early_stopping_rounds=100 will be ignored. Current value: early_stopping_round=100\n",
      "[LightGBM] [Warning] lambda_l1 is set=4.50926587355556e-07, reg_alpha=0.0 will be ignored. Current value: lambda_l1=4.50926587355556e-07\n",
      "[LightGBM] [Warning] lambda_l2 is set=0.0033385230391681, reg_lambda=0.0 will be ignored. Current value: lambda_l2=0.0033385230391681\n",
      "[LightGBM] [Warning] feature_fraction is set=0.5723491283575155, colsample_bytree=1.0 will be ignored. Current value: feature_fraction=0.5723491283575155\n",
      "[LightGBM] [Warning] min_data_in_leaf is set=27, min_child_samples=20 will be ignored. Current value: min_data_in_leaf=27\n",
      "[LightGBM] [Warning] bagging_freq is set=6, subsample_freq=0 will be ignored. Current value: bagging_freq=6\n",
      "363\n",
      "Fold: \u001b[1m\u001b[34m  1\u001b[0m| bll_metric: \u001b[1m\u001b[34m0.30344\u001b[0m | Best iteration: \u001b[1m\u001b[34m 363\u001b[0m\n",
      "[LightGBM] [Warning] early_stopping_round is set=100, early_stopping_rounds=100 will be ignored. Current value: early_stopping_round=100\n",
      "[LightGBM] [Warning] lambda_l1 is set=0.0022695548731446, reg_alpha=0.0 will be ignored. Current value: lambda_l1=0.0022695548731446\n",
      "[LightGBM] [Warning] lambda_l2 is set=1.9128476624358985e-07, reg_lambda=0.0 will be ignored. Current value: lambda_l2=1.9128476624358985e-07\n",
      "[LightGBM] [Warning] feature_fraction is set=0.5871710297107988, colsample_bytree=1.0 will be ignored. Current value: feature_fraction=0.5871710297107988\n",
      "[LightGBM] [Warning] min_data_in_leaf is set=23, min_child_samples=20 will be ignored. Current value: min_data_in_leaf=23\n",
      "[LightGBM] [Warning] bagging_freq is set=4, subsample_freq=0 will be ignored. Current value: bagging_freq=4\n",
      "43\n",
      "Fold: \u001b[1m\u001b[34m  1\u001b[0m| bll_metric: \u001b[1m\u001b[34m0.31974\u001b[0m | Best iteration: \u001b[1m\u001b[34m  43\u001b[0m\n",
      "[LightGBM] [Warning] early_stopping_round is set=100, early_stopping_rounds=100 will be ignored. Current value: early_stopping_round=100\n",
      "[LightGBM] [Warning] lambda_l1 is set=1.7415420055090436e-08, reg_alpha=0.0 will be ignored. Current value: lambda_l1=1.7415420055090436e-08\n",
      "[LightGBM] [Warning] lambda_l2 is set=1.0070647011222098, reg_lambda=0.0 will be ignored. Current value: lambda_l2=1.0070647011222098\n",
      "[LightGBM] [Warning] feature_fraction is set=0.3837390428306599, colsample_bytree=1.0 will be ignored. Current value: feature_fraction=0.3837390428306599\n",
      "[LightGBM] [Warning] min_data_in_leaf is set=20, min_child_samples=20 will be ignored. Current value: min_data_in_leaf=20\n",
      "[LightGBM] [Warning] bagging_freq is set=7, subsample_freq=0 will be ignored. Current value: bagging_freq=7\n",
      "53\n",
      "Fold: \u001b[1m\u001b[34m  1\u001b[0m| bll_metric: \u001b[1m\u001b[34m0.29670\u001b[0m | Best iteration: \u001b[1m\u001b[34m  53\u001b[0m\n",
      "[LightGBM] [Warning] early_stopping_round is set=100, early_stopping_rounds=100 will be ignored. Current value: early_stopping_round=100\n",
      "[LightGBM] [Warning] lambda_l1 is set=4.7354234368494895e-05, reg_alpha=0.0 will be ignored. Current value: lambda_l1=4.7354234368494895e-05\n",
      "[LightGBM] [Warning] lambda_l2 is set=0.8805820545093686, reg_lambda=0.0 will be ignored. Current value: lambda_l2=0.8805820545093686\n",
      "[LightGBM] [Warning] feature_fraction is set=0.5271180408273576, colsample_bytree=1.0 will be ignored. Current value: feature_fraction=0.5271180408273576\n",
      "[LightGBM] [Warning] min_data_in_leaf is set=18, min_child_samples=20 will be ignored. Current value: min_data_in_leaf=18\n",
      "[LightGBM] [Warning] bagging_freq is set=6, subsample_freq=0 will be ignored. Current value: bagging_freq=6\n",
      "58\n",
      "Fold: \u001b[1m\u001b[34m  1\u001b[0m| bll_metric: \u001b[1m\u001b[34m0.29632\u001b[0m | Best iteration: \u001b[1m\u001b[34m  58\u001b[0m\n",
      "[LightGBM] [Warning] early_stopping_round is set=100, early_stopping_rounds=100 will be ignored. Current value: early_stopping_round=100\n",
      "[LightGBM] [Warning] lambda_l1 is set=1.3482436811222014e-07, reg_alpha=0.0 will be ignored. Current value: lambda_l1=1.3482436811222014e-07\n",
      "[LightGBM] [Warning] lambda_l2 is set=0.7373887861960127, reg_lambda=0.0 will be ignored. Current value: lambda_l2=0.7373887861960127\n",
      "[LightGBM] [Warning] feature_fraction is set=0.4713034693259386, colsample_bytree=1.0 will be ignored. Current value: feature_fraction=0.4713034693259386\n",
      "[LightGBM] [Warning] min_data_in_leaf is set=15, min_child_samples=20 will be ignored. Current value: min_data_in_leaf=15\n",
      "[LightGBM] [Warning] bagging_freq is set=6, subsample_freq=0 will be ignored. Current value: bagging_freq=6\n",
      "74\n",
      "Fold: \u001b[1m\u001b[34m  1\u001b[0m| bll_metric: \u001b[1m\u001b[34m0.29257\u001b[0m | Best iteration: \u001b[1m\u001b[34m  74\u001b[0m\n",
      "[LightGBM] [Warning] early_stopping_round is set=100, early_stopping_rounds=100 will be ignored. Current value: early_stopping_round=100\n",
      "[LightGBM] [Warning] lambda_l1 is set=0.0495446920165007, reg_alpha=0.0 will be ignored. Current value: lambda_l1=0.0495446920165007\n",
      "[LightGBM] [Warning] lambda_l2 is set=0.0369262951845948, reg_lambda=0.0 will be ignored. Current value: lambda_l2=0.0369262951845948\n",
      "[LightGBM] [Warning] feature_fraction is set=0.5805145967989762, colsample_bytree=1.0 will be ignored. Current value: feature_fraction=0.5805145967989762\n",
      "[LightGBM] [Warning] min_data_in_leaf is set=27, min_child_samples=20 will be ignored. Current value: min_data_in_leaf=27\n",
      "[LightGBM] [Warning] bagging_freq is set=6, subsample_freq=0 will be ignored. Current value: bagging_freq=6\n"
     ]
    },
    {
     "name": "stderr",
     "output_type": "stream",
     "text": [
      " 20%|██        | 1/5 [00:01<00:05,  1.38s/it]"
     ]
    },
    {
     "name": "stdout",
     "output_type": "stream",
     "text": [
      "180\n",
      "Fold: \u001b[1m\u001b[34m  1\u001b[0m| bll_metric: \u001b[1m\u001b[34m0.27534\u001b[0m | Best iteration: \u001b[1m\u001b[34m 180\u001b[0m\n",
      "[LightGBM] [Warning] early_stopping_round is set=100, early_stopping_rounds=100 will be ignored. Current value: early_stopping_round=100\n",
      "[LightGBM] [Warning] lambda_l1 is set=2.811253654801665e-07, reg_alpha=0.0 will be ignored. Current value: lambda_l1=2.811253654801665e-07\n",
      "[LightGBM] [Warning] lambda_l2 is set=4.924711244291618e-06, reg_lambda=0.0 will be ignored. Current value: lambda_l2=4.924711244291618e-06\n",
      "[LightGBM] [Warning] feature_fraction is set=0.5132067273860832, colsample_bytree=1.0 will be ignored. Current value: feature_fraction=0.5132067273860832\n",
      "[LightGBM] [Warning] min_data_in_leaf is set=17, min_child_samples=20 will be ignored. Current value: min_data_in_leaf=17\n",
      "[LightGBM] [Warning] bagging_freq is set=6, subsample_freq=0 will be ignored. Current value: bagging_freq=6\n",
      "95\n",
      "Fold: \u001b[1m\u001b[34m  2\u001b[0m| bll_metric: \u001b[1m\u001b[34m0.16965\u001b[0m | Best iteration: \u001b[1m\u001b[34m  95\u001b[0m\n",
      "[LightGBM] [Warning] early_stopping_round is set=100, early_stopping_rounds=100 will be ignored. Current value: early_stopping_round=100\n",
      "[LightGBM] [Warning] lambda_l1 is set=1.6973539952061037e-07, reg_alpha=0.0 will be ignored. Current value: lambda_l1=1.6973539952061037e-07\n",
      "[LightGBM] [Warning] lambda_l2 is set=1.0652843293917709e-07, reg_lambda=0.0 will be ignored. Current value: lambda_l2=1.0652843293917709e-07\n",
      "[LightGBM] [Warning] feature_fraction is set=0.6271150785596645, colsample_bytree=1.0 will be ignored. Current value: feature_fraction=0.6271150785596645\n",
      "[LightGBM] [Warning] min_data_in_leaf is set=29, min_child_samples=20 will be ignored. Current value: min_data_in_leaf=29\n",
      "[LightGBM] [Warning] bagging_freq is set=6, subsample_freq=0 will be ignored. Current value: bagging_freq=6\n",
      "90\n",
      "Fold: \u001b[1m\u001b[34m  2\u001b[0m| bll_metric: \u001b[1m\u001b[34m0.20465\u001b[0m | Best iteration: \u001b[1m\u001b[34m  90\u001b[0m\n",
      "[LightGBM] [Warning] early_stopping_round is set=100, early_stopping_rounds=100 will be ignored. Current value: early_stopping_round=100\n",
      "[LightGBM] [Warning] lambda_l1 is set=0.0001284782238694, reg_alpha=0.0 will be ignored. Current value: lambda_l1=0.0001284782238694\n",
      "[LightGBM] [Warning] lambda_l2 is set=0.2777858895761018, reg_lambda=0.0 will be ignored. Current value: lambda_l2=0.2777858895761018\n",
      "[LightGBM] [Warning] feature_fraction is set=0.5575808754463537, colsample_bytree=1.0 will be ignored. Current value: feature_fraction=0.5575808754463537\n",
      "[LightGBM] [Warning] min_data_in_leaf is set=18, min_child_samples=20 will be ignored. Current value: min_data_in_leaf=18\n",
      "[LightGBM] [Warning] bagging_freq is set=7, subsample_freq=0 will be ignored. Current value: bagging_freq=7\n",
      "106\n",
      "Fold: \u001b[1m\u001b[34m  2\u001b[0m| bll_metric: \u001b[1m\u001b[34m0.13330\u001b[0m | Best iteration: \u001b[1m\u001b[34m 106\u001b[0m\n",
      "[LightGBM] [Warning] early_stopping_round is set=100, early_stopping_rounds=100 will be ignored. Current value: early_stopping_round=100\n",
      "[LightGBM] [Warning] lambda_l1 is set=6.747672083007809e-07, reg_alpha=0.0 will be ignored. Current value: lambda_l1=6.747672083007809e-07\n",
      "[LightGBM] [Warning] lambda_l2 is set=0.0026591456078525, reg_lambda=0.0 will be ignored. Current value: lambda_l2=0.0026591456078525\n",
      "[LightGBM] [Warning] feature_fraction is set=0.5813704113161643, colsample_bytree=1.0 will be ignored. Current value: feature_fraction=0.5813704113161643\n",
      "[LightGBM] [Warning] min_data_in_leaf is set=24, min_child_samples=20 will be ignored. Current value: min_data_in_leaf=24\n",
      "[LightGBM] [Warning] bagging_freq is set=6, subsample_freq=0 will be ignored. Current value: bagging_freq=6\n",
      "230\n",
      "Fold: \u001b[1m\u001b[34m  2\u001b[0m| bll_metric: \u001b[1m\u001b[34m0.17843\u001b[0m | Best iteration: \u001b[1m\u001b[34m 230\u001b[0m\n",
      "[LightGBM] [Warning] early_stopping_round is set=100, early_stopping_rounds=100 will be ignored. Current value: early_stopping_round=100\n",
      "[LightGBM] [Warning] lambda_l1 is set=0.0260071209928558, reg_alpha=0.0 will be ignored. Current value: lambda_l1=0.0260071209928558\n",
      "[LightGBM] [Warning] lambda_l2 is set=0.2100407852940459, reg_lambda=0.0 will be ignored. Current value: lambda_l2=0.2100407852940459\n",
      "[LightGBM] [Warning] feature_fraction is set=0.5828332375901565, colsample_bytree=1.0 will be ignored. Current value: feature_fraction=0.5828332375901565\n",
      "[LightGBM] [Warning] min_data_in_leaf is set=23, min_child_samples=20 will be ignored. Current value: min_data_in_leaf=23\n",
      "[LightGBM] [Warning] bagging_freq is set=1, subsample_freq=0 will be ignored. Current value: bagging_freq=1\n",
      "134\n",
      "Fold: \u001b[1m\u001b[34m  2\u001b[0m| bll_metric: \u001b[1m\u001b[34m0.16949\u001b[0m | Best iteration: \u001b[1m\u001b[34m 134\u001b[0m\n",
      "[LightGBM] [Warning] early_stopping_round is set=100, early_stopping_rounds=100 will be ignored. Current value: early_stopping_round=100\n",
      "[LightGBM] [Warning] lambda_l1 is set=9.299903144779756e-08, reg_alpha=0.0 will be ignored. Current value: lambda_l1=9.299903144779756e-08\n",
      "[LightGBM] [Warning] lambda_l2 is set=1.1366481061597855, reg_lambda=0.0 will be ignored. Current value: lambda_l2=1.1366481061597855\n",
      "[LightGBM] [Warning] feature_fraction is set=0.3359043459618996, colsample_bytree=1.0 will be ignored. Current value: feature_fraction=0.3359043459618996\n",
      "[LightGBM] [Warning] min_data_in_leaf is set=27, min_child_samples=20 will be ignored. Current value: min_data_in_leaf=27\n",
      "[LightGBM] [Warning] bagging_freq is set=6, subsample_freq=0 will be ignored. Current value: bagging_freq=6\n",
      "225\n",
      "Fold: \u001b[1m\u001b[34m  2\u001b[0m| bll_metric: \u001b[1m\u001b[34m0.17356\u001b[0m | Best iteration: \u001b[1m\u001b[34m 225\u001b[0m\n",
      "[LightGBM] [Warning] early_stopping_round is set=100, early_stopping_rounds=100 will be ignored. Current value: early_stopping_round=100\n",
      "[LightGBM] [Warning] lambda_l1 is set=2.20957965984874e-06, reg_alpha=0.0 will be ignored. Current value: lambda_l1=2.20957965984874e-06\n",
      "[LightGBM] [Warning] lambda_l2 is set=0.0054542886250849, reg_lambda=0.0 will be ignored. Current value: lambda_l2=0.0054542886250849\n",
      "[LightGBM] [Warning] feature_fraction is set=0.5930869695550075, colsample_bytree=1.0 will be ignored. Current value: feature_fraction=0.5930869695550075\n",
      "[LightGBM] [Warning] min_data_in_leaf is set=21, min_child_samples=20 will be ignored. Current value: min_data_in_leaf=21\n",
      "[LightGBM] [Warning] bagging_freq is set=6, subsample_freq=0 will be ignored. Current value: bagging_freq=6\n",
      "116\n",
      "Fold: \u001b[1m\u001b[34m  2\u001b[0m| bll_metric: \u001b[1m\u001b[34m0.16780\u001b[0m | Best iteration: \u001b[1m\u001b[34m 116\u001b[0m\n",
      "[LightGBM] [Warning] early_stopping_round is set=100, early_stopping_rounds=100 will be ignored. Current value: early_stopping_round=100\n",
      "[LightGBM] [Warning] lambda_l1 is set=0.0545077457903194, reg_alpha=0.0 will be ignored. Current value: lambda_l1=0.0545077457903194\n",
      "[LightGBM] [Warning] lambda_l2 is set=0.1557779574271824, reg_lambda=0.0 will be ignored. Current value: lambda_l2=0.1557779574271824\n",
      "[LightGBM] [Warning] feature_fraction is set=0.4736641312423156, colsample_bytree=1.0 will be ignored. Current value: feature_fraction=0.4736641312423156\n",
      "[LightGBM] [Warning] min_data_in_leaf is set=19, min_child_samples=20 will be ignored. Current value: min_data_in_leaf=19\n",
      "[LightGBM] [Warning] bagging_freq is set=6, subsample_freq=0 will be ignored. Current value: bagging_freq=6\n",
      "225\n",
      "Fold: \u001b[1m\u001b[34m  2\u001b[0m| bll_metric: \u001b[1m\u001b[34m0.16892\u001b[0m | Best iteration: \u001b[1m\u001b[34m 225\u001b[0m\n",
      "[LightGBM] [Warning] early_stopping_round is set=100, early_stopping_rounds=100 will be ignored. Current value: early_stopping_round=100\n",
      "[LightGBM] [Warning] lambda_l1 is set=5.8423381442000727e-05, reg_alpha=0.0 will be ignored. Current value: lambda_l1=5.8423381442000727e-05\n",
      "[LightGBM] [Warning] lambda_l2 is set=4.548404191201233e-07, reg_lambda=0.0 will be ignored. Current value: lambda_l2=4.548404191201233e-07\n",
      "[LightGBM] [Warning] feature_fraction is set=0.5663538745268442, colsample_bytree=1.0 will be ignored. Current value: feature_fraction=0.5663538745268442\n",
      "[LightGBM] [Warning] min_data_in_leaf is set=26, min_child_samples=20 will be ignored. Current value: min_data_in_leaf=26\n",
      "[LightGBM] [Warning] bagging_freq is set=5, subsample_freq=0 will be ignored. Current value: bagging_freq=5\n",
      "152\n",
      "Fold: \u001b[1m\u001b[34m  2\u001b[0m| bll_metric: \u001b[1m\u001b[34m0.16090\u001b[0m | Best iteration: \u001b[1m\u001b[34m 152\u001b[0m\n",
      "[LightGBM] [Warning] early_stopping_round is set=100, early_stopping_rounds=100 will be ignored. Current value: early_stopping_round=100\n",
      "[LightGBM] [Warning] lambda_l1 is set=2.944065785368376e-07, reg_alpha=0.0 will be ignored. Current value: lambda_l1=2.944065785368376e-07\n",
      "[LightGBM] [Warning] lambda_l2 is set=0.003990472269227, reg_lambda=0.0 will be ignored. Current value: lambda_l2=0.003990472269227\n",
      "[LightGBM] [Warning] feature_fraction is set=0.5719172756855742, colsample_bytree=1.0 will be ignored. Current value: feature_fraction=0.5719172756855742\n",
      "[LightGBM] [Warning] min_data_in_leaf is set=27, min_child_samples=20 will be ignored. Current value: min_data_in_leaf=27\n",
      "[LightGBM] [Warning] bagging_freq is set=6, subsample_freq=0 will be ignored. Current value: bagging_freq=6\n",
      "285\n",
      "Fold: \u001b[1m\u001b[34m  2\u001b[0m| bll_metric: \u001b[1m\u001b[34m0.17141\u001b[0m | Best iteration: \u001b[1m\u001b[34m 285\u001b[0m\n",
      "[LightGBM] [Warning] early_stopping_round is set=100, early_stopping_rounds=100 will be ignored. Current value: early_stopping_round=100\n",
      "[LightGBM] [Warning] lambda_l1 is set=0.0053806276673069, reg_alpha=0.0 will be ignored. Current value: lambda_l1=0.0053806276673069\n",
      "[LightGBM] [Warning] lambda_l2 is set=0.0059759968102011, reg_lambda=0.0 will be ignored. Current value: lambda_l2=0.0059759968102011\n",
      "[LightGBM] [Warning] feature_fraction is set=0.6078717268452226, colsample_bytree=1.0 will be ignored. Current value: feature_fraction=0.6078717268452226\n",
      "[LightGBM] [Warning] min_data_in_leaf is set=24, min_child_samples=20 will be ignored. Current value: min_data_in_leaf=24\n",
      "[LightGBM] [Warning] bagging_freq is set=1, subsample_freq=0 will be ignored. Current value: bagging_freq=1\n",
      "144\n",
      "Fold: \u001b[1m\u001b[34m  2\u001b[0m| bll_metric: \u001b[1m\u001b[34m0.15906\u001b[0m | Best iteration: \u001b[1m\u001b[34m 144\u001b[0m\n",
      "[LightGBM] [Warning] early_stopping_round is set=100, early_stopping_rounds=100 will be ignored. Current value: early_stopping_round=100\n",
      "[LightGBM] [Warning] lambda_l1 is set=6.407034366341267e-08, reg_alpha=0.0 will be ignored. Current value: lambda_l1=6.407034366341267e-08\n",
      "[LightGBM] [Warning] lambda_l2 is set=4.8808516611403415e-06, reg_lambda=0.0 will be ignored. Current value: lambda_l2=4.8808516611403415e-06\n",
      "[LightGBM] [Warning] feature_fraction is set=0.6142618118399489, colsample_bytree=1.0 will be ignored. Current value: feature_fraction=0.6142618118399489\n",
      "[LightGBM] [Warning] min_data_in_leaf is set=25, min_child_samples=20 will be ignored. Current value: min_data_in_leaf=25\n",
      "[LightGBM] [Warning] bagging_freq is set=6, subsample_freq=0 will be ignored. Current value: bagging_freq=6\n",
      "55\n",
      "Fold: \u001b[1m\u001b[34m  2\u001b[0m| bll_metric: \u001b[1m\u001b[34m0.17648\u001b[0m | Best iteration: \u001b[1m\u001b[34m  55\u001b[0m\n",
      "[LightGBM] [Warning] early_stopping_round is set=100, early_stopping_rounds=100 will be ignored. Current value: early_stopping_round=100\n",
      "[LightGBM] [Warning] lambda_l1 is set=0.0017417374392891, reg_alpha=0.0 will be ignored. Current value: lambda_l1=0.0017417374392891\n",
      "[LightGBM] [Warning] lambda_l2 is set=0.0195987338731541, reg_lambda=0.0 will be ignored. Current value: lambda_l2=0.0195987338731541\n",
      "[LightGBM] [Warning] feature_fraction is set=0.5791444378727839, colsample_bytree=1.0 will be ignored. Current value: feature_fraction=0.5791444378727839\n",
      "[LightGBM] [Warning] min_data_in_leaf is set=14, min_child_samples=20 will be ignored. Current value: min_data_in_leaf=14\n",
      "[LightGBM] [Warning] bagging_freq is set=6, subsample_freq=0 will be ignored. Current value: bagging_freq=6\n",
      "185\n",
      "Fold: \u001b[1m\u001b[34m  2\u001b[0m| bll_metric: \u001b[1m\u001b[34m0.15006\u001b[0m | Best iteration: \u001b[1m\u001b[34m 185\u001b[0m\n",
      "[LightGBM] [Warning] early_stopping_round is set=100, early_stopping_rounds=100 will be ignored. Current value: early_stopping_round=100\n",
      "[LightGBM] [Warning] lambda_l1 is set=4.060753700363072e-08, reg_alpha=0.0 will be ignored. Current value: lambda_l1=4.060753700363072e-08\n",
      "[LightGBM] [Warning] lambda_l2 is set=0.0071307376847169, reg_lambda=0.0 will be ignored. Current value: lambda_l2=0.0071307376847169\n",
      "[LightGBM] [Warning] feature_fraction is set=0.5704153462628081, colsample_bytree=1.0 will be ignored. Current value: feature_fraction=0.5704153462628081\n",
      "[LightGBM] [Warning] min_data_in_leaf is set=21, min_child_samples=20 will be ignored. Current value: min_data_in_leaf=21\n",
      "[LightGBM] [Warning] bagging_freq is set=6, subsample_freq=0 will be ignored. Current value: bagging_freq=6\n",
      "92\n",
      "Fold: \u001b[1m\u001b[34m  2\u001b[0m| bll_metric: \u001b[1m\u001b[34m0.16991\u001b[0m | Best iteration: \u001b[1m\u001b[34m  92\u001b[0m\n",
      "[LightGBM] [Warning] early_stopping_round is set=100, early_stopping_rounds=100 will be ignored. Current value: early_stopping_round=100\n",
      "[LightGBM] [Warning] lambda_l1 is set=4.50926587355556e-07, reg_alpha=0.0 will be ignored. Current value: lambda_l1=4.50926587355556e-07\n",
      "[LightGBM] [Warning] lambda_l2 is set=0.0033385230391681, reg_lambda=0.0 will be ignored. Current value: lambda_l2=0.0033385230391681\n",
      "[LightGBM] [Warning] feature_fraction is set=0.5723491283575155, colsample_bytree=1.0 will be ignored. Current value: feature_fraction=0.5723491283575155\n",
      "[LightGBM] [Warning] min_data_in_leaf is set=27, min_child_samples=20 will be ignored. Current value: min_data_in_leaf=27\n",
      "[LightGBM] [Warning] bagging_freq is set=6, subsample_freq=0 will be ignored. Current value: bagging_freq=6\n",
      "385\n",
      "Fold: \u001b[1m\u001b[34m  2\u001b[0m| bll_metric: \u001b[1m\u001b[34m0.17306\u001b[0m | Best iteration: \u001b[1m\u001b[34m 385\u001b[0m\n",
      "[LightGBM] [Warning] early_stopping_round is set=100, early_stopping_rounds=100 will be ignored. Current value: early_stopping_round=100\n",
      "[LightGBM] [Warning] lambda_l1 is set=0.0022695548731446, reg_alpha=0.0 will be ignored. Current value: lambda_l1=0.0022695548731446\n",
      "[LightGBM] [Warning] lambda_l2 is set=1.9128476624358985e-07, reg_lambda=0.0 will be ignored. Current value: lambda_l2=1.9128476624358985e-07\n",
      "[LightGBM] [Warning] feature_fraction is set=0.5871710297107988, colsample_bytree=1.0 will be ignored. Current value: feature_fraction=0.5871710297107988\n",
      "[LightGBM] [Warning] min_data_in_leaf is set=23, min_child_samples=20 will be ignored. Current value: min_data_in_leaf=23\n",
      "[LightGBM] [Warning] bagging_freq is set=4, subsample_freq=0 will be ignored. Current value: bagging_freq=4\n",
      "72\n",
      "Fold: \u001b[1m\u001b[34m  2\u001b[0m| bll_metric: \u001b[1m\u001b[34m0.19510\u001b[0m | Best iteration: \u001b[1m\u001b[34m  72\u001b[0m\n",
      "[LightGBM] [Warning] early_stopping_round is set=100, early_stopping_rounds=100 will be ignored. Current value: early_stopping_round=100\n",
      "[LightGBM] [Warning] lambda_l1 is set=1.7415420055090436e-08, reg_alpha=0.0 will be ignored. Current value: lambda_l1=1.7415420055090436e-08\n",
      "[LightGBM] [Warning] lambda_l2 is set=1.0070647011222098, reg_lambda=0.0 will be ignored. Current value: lambda_l2=1.0070647011222098\n",
      "[LightGBM] [Warning] feature_fraction is set=0.3837390428306599, colsample_bytree=1.0 will be ignored. Current value: feature_fraction=0.3837390428306599\n",
      "[LightGBM] [Warning] min_data_in_leaf is set=20, min_child_samples=20 will be ignored. Current value: min_data_in_leaf=20\n",
      "[LightGBM] [Warning] bagging_freq is set=7, subsample_freq=0 will be ignored. Current value: bagging_freq=7\n",
      "109\n",
      "Fold: \u001b[1m\u001b[34m  2\u001b[0m| bll_metric: \u001b[1m\u001b[34m0.18928\u001b[0m | Best iteration: \u001b[1m\u001b[34m 109\u001b[0m\n",
      "[LightGBM] [Warning] early_stopping_round is set=100, early_stopping_rounds=100 will be ignored. Current value: early_stopping_round=100\n",
      "[LightGBM] [Warning] lambda_l1 is set=4.7354234368494895e-05, reg_alpha=0.0 will be ignored. Current value: lambda_l1=4.7354234368494895e-05\n",
      "[LightGBM] [Warning] lambda_l2 is set=0.8805820545093686, reg_lambda=0.0 will be ignored. Current value: lambda_l2=0.8805820545093686\n",
      "[LightGBM] [Warning] feature_fraction is set=0.5271180408273576, colsample_bytree=1.0 will be ignored. Current value: feature_fraction=0.5271180408273576\n",
      "[LightGBM] [Warning] min_data_in_leaf is set=18, min_child_samples=20 will be ignored. Current value: min_data_in_leaf=18\n",
      "[LightGBM] [Warning] bagging_freq is set=6, subsample_freq=0 will be ignored. Current value: bagging_freq=6\n",
      "72\n",
      "Fold: \u001b[1m\u001b[34m  2\u001b[0m| bll_metric: \u001b[1m\u001b[34m0.16166\u001b[0m | Best iteration: \u001b[1m\u001b[34m  72\u001b[0m\n",
      "[LightGBM] [Warning] early_stopping_round is set=100, early_stopping_rounds=100 will be ignored. Current value: early_stopping_round=100\n",
      "[LightGBM] [Warning] lambda_l1 is set=1.3482436811222014e-07, reg_alpha=0.0 will be ignored. Current value: lambda_l1=1.3482436811222014e-07\n",
      "[LightGBM] [Warning] lambda_l2 is set=0.7373887861960127, reg_lambda=0.0 will be ignored. Current value: lambda_l2=0.7373887861960127\n",
      "[LightGBM] [Warning] feature_fraction is set=0.4713034693259386, colsample_bytree=1.0 will be ignored. Current value: feature_fraction=0.4713034693259386\n",
      "[LightGBM] [Warning] min_data_in_leaf is set=15, min_child_samples=20 will be ignored. Current value: min_data_in_leaf=15\n",
      "[LightGBM] [Warning] bagging_freq is set=6, subsample_freq=0 will be ignored. Current value: bagging_freq=6\n"
     ]
    },
    {
     "name": "stderr",
     "output_type": "stream",
     "text": [
      " 40%|████      | 2/5 [00:03<00:04,  1.57s/it]"
     ]
    },
    {
     "name": "stdout",
     "output_type": "stream",
     "text": [
      "192\n",
      "Fold: \u001b[1m\u001b[34m  2\u001b[0m| bll_metric: \u001b[1m\u001b[34m0.16275\u001b[0m | Best iteration: \u001b[1m\u001b[34m 192\u001b[0m\n",
      "[LightGBM] [Warning] early_stopping_round is set=100, early_stopping_rounds=100 will be ignored. Current value: early_stopping_round=100\n",
      "[LightGBM] [Warning] lambda_l1 is set=0.0495446920165007, reg_alpha=0.0 will be ignored. Current value: lambda_l1=0.0495446920165007\n",
      "[LightGBM] [Warning] lambda_l2 is set=0.0369262951845948, reg_lambda=0.0 will be ignored. Current value: lambda_l2=0.0369262951845948\n",
      "[LightGBM] [Warning] feature_fraction is set=0.5805145967989762, colsample_bytree=1.0 will be ignored. Current value: feature_fraction=0.5805145967989762\n",
      "[LightGBM] [Warning] min_data_in_leaf is set=27, min_child_samples=20 will be ignored. Current value: min_data_in_leaf=27\n",
      "[LightGBM] [Warning] bagging_freq is set=6, subsample_freq=0 will be ignored. Current value: bagging_freq=6\n",
      "64\n",
      "Fold: \u001b[1m\u001b[34m  2\u001b[0m| bll_metric: \u001b[1m\u001b[34m0.19065\u001b[0m | Best iteration: \u001b[1m\u001b[34m  64\u001b[0m\n",
      "[LightGBM] [Warning] early_stopping_round is set=100, early_stopping_rounds=100 will be ignored. Current value: early_stopping_round=100\n",
      "[LightGBM] [Warning] lambda_l1 is set=2.811253654801665e-07, reg_alpha=0.0 will be ignored. Current value: lambda_l1=2.811253654801665e-07\n",
      "[LightGBM] [Warning] lambda_l2 is set=4.924711244291618e-06, reg_lambda=0.0 will be ignored. Current value: lambda_l2=4.924711244291618e-06\n",
      "[LightGBM] [Warning] feature_fraction is set=0.5132067273860832, colsample_bytree=1.0 will be ignored. Current value: feature_fraction=0.5132067273860832\n",
      "[LightGBM] [Warning] min_data_in_leaf is set=17, min_child_samples=20 will be ignored. Current value: min_data_in_leaf=17\n",
      "[LightGBM] [Warning] bagging_freq is set=6, subsample_freq=0 will be ignored. Current value: bagging_freq=6\n",
      "184\n",
      "Fold: \u001b[1m\u001b[34m  3\u001b[0m| bll_metric: \u001b[1m\u001b[34m0.17009\u001b[0m | Best iteration: \u001b[1m\u001b[34m 184\u001b[0m\n",
      "[LightGBM] [Warning] early_stopping_round is set=100, early_stopping_rounds=100 will be ignored. Current value: early_stopping_round=100\n",
      "[LightGBM] [Warning] lambda_l1 is set=1.6973539952061037e-07, reg_alpha=0.0 will be ignored. Current value: lambda_l1=1.6973539952061037e-07\n",
      "[LightGBM] [Warning] lambda_l2 is set=1.0652843293917709e-07, reg_lambda=0.0 will be ignored. Current value: lambda_l2=1.0652843293917709e-07\n",
      "[LightGBM] [Warning] feature_fraction is set=0.6271150785596645, colsample_bytree=1.0 will be ignored. Current value: feature_fraction=0.6271150785596645\n",
      "[LightGBM] [Warning] min_data_in_leaf is set=29, min_child_samples=20 will be ignored. Current value: min_data_in_leaf=29\n",
      "[LightGBM] [Warning] bagging_freq is set=6, subsample_freq=0 will be ignored. Current value: bagging_freq=6\n",
      "112\n",
      "Fold: \u001b[1m\u001b[34m  3\u001b[0m| bll_metric: \u001b[1m\u001b[34m0.20735\u001b[0m | Best iteration: \u001b[1m\u001b[34m 112\u001b[0m\n",
      "[LightGBM] [Warning] early_stopping_round is set=100, early_stopping_rounds=100 will be ignored. Current value: early_stopping_round=100\n",
      "[LightGBM] [Warning] lambda_l1 is set=0.0001284782238694, reg_alpha=0.0 will be ignored. Current value: lambda_l1=0.0001284782238694\n",
      "[LightGBM] [Warning] lambda_l2 is set=0.2777858895761018, reg_lambda=0.0 will be ignored. Current value: lambda_l2=0.2777858895761018\n",
      "[LightGBM] [Warning] feature_fraction is set=0.5575808754463537, colsample_bytree=1.0 will be ignored. Current value: feature_fraction=0.5575808754463537\n",
      "[LightGBM] [Warning] min_data_in_leaf is set=18, min_child_samples=20 will be ignored. Current value: min_data_in_leaf=18\n",
      "[LightGBM] [Warning] bagging_freq is set=7, subsample_freq=0 will be ignored. Current value: bagging_freq=7\n",
      "108\n",
      "Fold: \u001b[1m\u001b[34m  3\u001b[0m| bll_metric: \u001b[1m\u001b[34m0.23917\u001b[0m | Best iteration: \u001b[1m\u001b[34m 108\u001b[0m\n",
      "[LightGBM] [Warning] early_stopping_round is set=100, early_stopping_rounds=100 will be ignored. Current value: early_stopping_round=100\n",
      "[LightGBM] [Warning] lambda_l1 is set=6.747672083007809e-07, reg_alpha=0.0 will be ignored. Current value: lambda_l1=6.747672083007809e-07\n",
      "[LightGBM] [Warning] lambda_l2 is set=0.0026591456078525, reg_lambda=0.0 will be ignored. Current value: lambda_l2=0.0026591456078525\n",
      "[LightGBM] [Warning] feature_fraction is set=0.5813704113161643, colsample_bytree=1.0 will be ignored. Current value: feature_fraction=0.5813704113161643\n",
      "[LightGBM] [Warning] min_data_in_leaf is set=24, min_child_samples=20 will be ignored. Current value: min_data_in_leaf=24\n",
      "[LightGBM] [Warning] bagging_freq is set=6, subsample_freq=0 will be ignored. Current value: bagging_freq=6\n",
      "285\n",
      "Fold: \u001b[1m\u001b[34m  3\u001b[0m| bll_metric: \u001b[1m\u001b[34m0.19193\u001b[0m | Best iteration: \u001b[1m\u001b[34m 285\u001b[0m\n",
      "[LightGBM] [Warning] early_stopping_round is set=100, early_stopping_rounds=100 will be ignored. Current value: early_stopping_round=100\n",
      "[LightGBM] [Warning] lambda_l1 is set=0.0260071209928558, reg_alpha=0.0 will be ignored. Current value: lambda_l1=0.0260071209928558\n",
      "[LightGBM] [Warning] lambda_l2 is set=0.2100407852940459, reg_lambda=0.0 will be ignored. Current value: lambda_l2=0.2100407852940459\n",
      "[LightGBM] [Warning] feature_fraction is set=0.5828332375901565, colsample_bytree=1.0 will be ignored. Current value: feature_fraction=0.5828332375901565\n",
      "[LightGBM] [Warning] min_data_in_leaf is set=23, min_child_samples=20 will be ignored. Current value: min_data_in_leaf=23\n",
      "[LightGBM] [Warning] bagging_freq is set=1, subsample_freq=0 will be ignored. Current value: bagging_freq=1\n",
      "206\n",
      "Fold: \u001b[1m\u001b[34m  3\u001b[0m| bll_metric: \u001b[1m\u001b[34m0.16801\u001b[0m | Best iteration: \u001b[1m\u001b[34m 206\u001b[0m\n",
      "[LightGBM] [Warning] early_stopping_round is set=100, early_stopping_rounds=100 will be ignored. Current value: early_stopping_round=100\n",
      "[LightGBM] [Warning] lambda_l1 is set=9.299903144779756e-08, reg_alpha=0.0 will be ignored. Current value: lambda_l1=9.299903144779756e-08\n",
      "[LightGBM] [Warning] lambda_l2 is set=1.1366481061597855, reg_lambda=0.0 will be ignored. Current value: lambda_l2=1.1366481061597855\n",
      "[LightGBM] [Warning] feature_fraction is set=0.3359043459618996, colsample_bytree=1.0 will be ignored. Current value: feature_fraction=0.3359043459618996\n",
      "[LightGBM] [Warning] min_data_in_leaf is set=27, min_child_samples=20 will be ignored. Current value: min_data_in_leaf=27\n",
      "[LightGBM] [Warning] bagging_freq is set=6, subsample_freq=0 will be ignored. Current value: bagging_freq=6\n",
      "152\n",
      "Fold: \u001b[1m\u001b[34m  3\u001b[0m| bll_metric: \u001b[1m\u001b[34m0.21372\u001b[0m | Best iteration: \u001b[1m\u001b[34m 152\u001b[0m\n",
      "[LightGBM] [Warning] early_stopping_round is set=100, early_stopping_rounds=100 will be ignored. Current value: early_stopping_round=100\n",
      "[LightGBM] [Warning] lambda_l1 is set=2.20957965984874e-06, reg_alpha=0.0 will be ignored. Current value: lambda_l1=2.20957965984874e-06\n",
      "[LightGBM] [Warning] lambda_l2 is set=0.0054542886250849, reg_lambda=0.0 will be ignored. Current value: lambda_l2=0.0054542886250849\n",
      "[LightGBM] [Warning] feature_fraction is set=0.5930869695550075, colsample_bytree=1.0 will be ignored. Current value: feature_fraction=0.5930869695550075\n",
      "[LightGBM] [Warning] min_data_in_leaf is set=21, min_child_samples=20 will be ignored. Current value: min_data_in_leaf=21\n",
      "[LightGBM] [Warning] bagging_freq is set=6, subsample_freq=0 will be ignored. Current value: bagging_freq=6\n",
      "128\n",
      "Fold: \u001b[1m\u001b[34m  3\u001b[0m| bll_metric: \u001b[1m\u001b[34m0.17454\u001b[0m | Best iteration: \u001b[1m\u001b[34m 128\u001b[0m\n",
      "[LightGBM] [Warning] early_stopping_round is set=100, early_stopping_rounds=100 will be ignored. Current value: early_stopping_round=100\n",
      "[LightGBM] [Warning] lambda_l1 is set=0.0545077457903194, reg_alpha=0.0 will be ignored. Current value: lambda_l1=0.0545077457903194\n",
      "[LightGBM] [Warning] lambda_l2 is set=0.1557779574271824, reg_lambda=0.0 will be ignored. Current value: lambda_l2=0.1557779574271824\n",
      "[LightGBM] [Warning] feature_fraction is set=0.4736641312423156, colsample_bytree=1.0 will be ignored. Current value: feature_fraction=0.4736641312423156\n",
      "[LightGBM] [Warning] min_data_in_leaf is set=19, min_child_samples=20 will be ignored. Current value: min_data_in_leaf=19\n",
      "[LightGBM] [Warning] bagging_freq is set=6, subsample_freq=0 will be ignored. Current value: bagging_freq=6\n",
      "400\n",
      "Fold: \u001b[1m\u001b[34m  3\u001b[0m| bll_metric: \u001b[1m\u001b[34m0.14817\u001b[0m | Best iteration: \u001b[1m\u001b[34m 400\u001b[0m\n",
      "[LightGBM] [Warning] early_stopping_round is set=100, early_stopping_rounds=100 will be ignored. Current value: early_stopping_round=100\n",
      "[LightGBM] [Warning] lambda_l1 is set=5.8423381442000727e-05, reg_alpha=0.0 will be ignored. Current value: lambda_l1=5.8423381442000727e-05\n",
      "[LightGBM] [Warning] lambda_l2 is set=4.548404191201233e-07, reg_lambda=0.0 will be ignored. Current value: lambda_l2=4.548404191201233e-07\n",
      "[LightGBM] [Warning] feature_fraction is set=0.5663538745268442, colsample_bytree=1.0 will be ignored. Current value: feature_fraction=0.5663538745268442\n",
      "[LightGBM] [Warning] min_data_in_leaf is set=26, min_child_samples=20 will be ignored. Current value: min_data_in_leaf=26\n",
      "[LightGBM] [Warning] bagging_freq is set=5, subsample_freq=0 will be ignored. Current value: bagging_freq=5\n",
      "319\n",
      "Fold: \u001b[1m\u001b[34m  3\u001b[0m| bll_metric: \u001b[1m\u001b[34m0.14374\u001b[0m | Best iteration: \u001b[1m\u001b[34m 319\u001b[0m\n",
      "[LightGBM] [Warning] early_stopping_round is set=100, early_stopping_rounds=100 will be ignored. Current value: early_stopping_round=100\n",
      "[LightGBM] [Warning] lambda_l1 is set=2.944065785368376e-07, reg_alpha=0.0 will be ignored. Current value: lambda_l1=2.944065785368376e-07\n",
      "[LightGBM] [Warning] lambda_l2 is set=0.003990472269227, reg_lambda=0.0 will be ignored. Current value: lambda_l2=0.003990472269227\n",
      "[LightGBM] [Warning] feature_fraction is set=0.5719172756855742, colsample_bytree=1.0 will be ignored. Current value: feature_fraction=0.5719172756855742\n",
      "[LightGBM] [Warning] min_data_in_leaf is set=27, min_child_samples=20 will be ignored. Current value: min_data_in_leaf=27\n",
      "[LightGBM] [Warning] bagging_freq is set=6, subsample_freq=0 will be ignored. Current value: bagging_freq=6\n",
      "569\n",
      "Fold: \u001b[1m\u001b[34m  3\u001b[0m| bll_metric: \u001b[1m\u001b[34m0.15466\u001b[0m | Best iteration: \u001b[1m\u001b[34m 569\u001b[0m\n",
      "[LightGBM] [Warning] early_stopping_round is set=100, early_stopping_rounds=100 will be ignored. Current value: early_stopping_round=100\n",
      "[LightGBM] [Warning] lambda_l1 is set=0.0053806276673069, reg_alpha=0.0 will be ignored. Current value: lambda_l1=0.0053806276673069\n",
      "[LightGBM] [Warning] lambda_l2 is set=0.0059759968102011, reg_lambda=0.0 will be ignored. Current value: lambda_l2=0.0059759968102011\n",
      "[LightGBM] [Warning] feature_fraction is set=0.6078717268452226, colsample_bytree=1.0 will be ignored. Current value: feature_fraction=0.6078717268452226\n",
      "[LightGBM] [Warning] min_data_in_leaf is set=24, min_child_samples=20 will be ignored. Current value: min_data_in_leaf=24\n",
      "[LightGBM] [Warning] bagging_freq is set=1, subsample_freq=0 will be ignored. Current value: bagging_freq=1\n",
      "207\n",
      "Fold: \u001b[1m\u001b[34m  3\u001b[0m| bll_metric: \u001b[1m\u001b[34m0.13856\u001b[0m | Best iteration: \u001b[1m\u001b[34m 207\u001b[0m\n",
      "[LightGBM] [Warning] early_stopping_round is set=100, early_stopping_rounds=100 will be ignored. Current value: early_stopping_round=100\n",
      "[LightGBM] [Warning] lambda_l1 is set=6.407034366341267e-08, reg_alpha=0.0 will be ignored. Current value: lambda_l1=6.407034366341267e-08\n",
      "[LightGBM] [Warning] lambda_l2 is set=4.8808516611403415e-06, reg_lambda=0.0 will be ignored. Current value: lambda_l2=4.8808516611403415e-06\n",
      "[LightGBM] [Warning] feature_fraction is set=0.6142618118399489, colsample_bytree=1.0 will be ignored. Current value: feature_fraction=0.6142618118399489\n",
      "[LightGBM] [Warning] min_data_in_leaf is set=25, min_child_samples=20 will be ignored. Current value: min_data_in_leaf=25\n",
      "[LightGBM] [Warning] bagging_freq is set=6, subsample_freq=0 will be ignored. Current value: bagging_freq=6\n",
      "60\n",
      "Fold: \u001b[1m\u001b[34m  3\u001b[0m| bll_metric: \u001b[1m\u001b[34m0.18961\u001b[0m | Best iteration: \u001b[1m\u001b[34m  60\u001b[0m\n",
      "[LightGBM] [Warning] early_stopping_round is set=100, early_stopping_rounds=100 will be ignored. Current value: early_stopping_round=100\n",
      "[LightGBM] [Warning] lambda_l1 is set=0.0017417374392891, reg_alpha=0.0 will be ignored. Current value: lambda_l1=0.0017417374392891\n",
      "[LightGBM] [Warning] lambda_l2 is set=0.0195987338731541, reg_lambda=0.0 will be ignored. Current value: lambda_l2=0.0195987338731541\n",
      "[LightGBM] [Warning] feature_fraction is set=0.5791444378727839, colsample_bytree=1.0 will be ignored. Current value: feature_fraction=0.5791444378727839\n",
      "[LightGBM] [Warning] min_data_in_leaf is set=14, min_child_samples=20 will be ignored. Current value: min_data_in_leaf=14\n",
      "[LightGBM] [Warning] bagging_freq is set=6, subsample_freq=0 will be ignored. Current value: bagging_freq=6\n",
      "277\n",
      "Fold: \u001b[1m\u001b[34m  3\u001b[0m| bll_metric: \u001b[1m\u001b[34m0.15115\u001b[0m | Best iteration: \u001b[1m\u001b[34m 277\u001b[0m\n",
      "[LightGBM] [Warning] early_stopping_round is set=100, early_stopping_rounds=100 will be ignored. Current value: early_stopping_round=100\n",
      "[LightGBM] [Warning] lambda_l1 is set=4.060753700363072e-08, reg_alpha=0.0 will be ignored. Current value: lambda_l1=4.060753700363072e-08\n",
      "[LightGBM] [Warning] lambda_l2 is set=0.0071307376847169, reg_lambda=0.0 will be ignored. Current value: lambda_l2=0.0071307376847169\n",
      "[LightGBM] [Warning] feature_fraction is set=0.5704153462628081, colsample_bytree=1.0 will be ignored. Current value: feature_fraction=0.5704153462628081\n",
      "[LightGBM] [Warning] min_data_in_leaf is set=21, min_child_samples=20 will be ignored. Current value: min_data_in_leaf=21\n",
      "[LightGBM] [Warning] bagging_freq is set=6, subsample_freq=0 will be ignored. Current value: bagging_freq=6\n",
      "136\n",
      "Fold: \u001b[1m\u001b[34m  3\u001b[0m| bll_metric: \u001b[1m\u001b[34m0.19580\u001b[0m | Best iteration: \u001b[1m\u001b[34m 136\u001b[0m\n",
      "[LightGBM] [Warning] early_stopping_round is set=100, early_stopping_rounds=100 will be ignored. Current value: early_stopping_round=100\n",
      "[LightGBM] [Warning] lambda_l1 is set=4.50926587355556e-07, reg_alpha=0.0 will be ignored. Current value: lambda_l1=4.50926587355556e-07\n",
      "[LightGBM] [Warning] lambda_l2 is set=0.0033385230391681, reg_lambda=0.0 will be ignored. Current value: lambda_l2=0.0033385230391681\n",
      "[LightGBM] [Warning] feature_fraction is set=0.5723491283575155, colsample_bytree=1.0 will be ignored. Current value: feature_fraction=0.5723491283575155\n",
      "[LightGBM] [Warning] min_data_in_leaf is set=27, min_child_samples=20 will be ignored. Current value: min_data_in_leaf=27\n",
      "[LightGBM] [Warning] bagging_freq is set=6, subsample_freq=0 will be ignored. Current value: bagging_freq=6\n",
      "390\n",
      "Fold: \u001b[1m\u001b[34m  3\u001b[0m| bll_metric: \u001b[1m\u001b[34m0.15139\u001b[0m | Best iteration: \u001b[1m\u001b[34m 390\u001b[0m\n",
      "[LightGBM] [Warning] early_stopping_round is set=100, early_stopping_rounds=100 will be ignored. Current value: early_stopping_round=100\n",
      "[LightGBM] [Warning] lambda_l1 is set=0.0022695548731446, reg_alpha=0.0 will be ignored. Current value: lambda_l1=0.0022695548731446\n",
      "[LightGBM] [Warning] lambda_l2 is set=1.9128476624358985e-07, reg_lambda=0.0 will be ignored. Current value: lambda_l2=1.9128476624358985e-07\n",
      "[LightGBM] [Warning] feature_fraction is set=0.5871710297107988, colsample_bytree=1.0 will be ignored. Current value: feature_fraction=0.5871710297107988\n",
      "[LightGBM] [Warning] min_data_in_leaf is set=23, min_child_samples=20 will be ignored. Current value: min_data_in_leaf=23\n",
      "[LightGBM] [Warning] bagging_freq is set=4, subsample_freq=0 will be ignored. Current value: bagging_freq=4\n",
      "140\n",
      "Fold: \u001b[1m\u001b[34m  3\u001b[0m| bll_metric: \u001b[1m\u001b[34m0.17288\u001b[0m | Best iteration: \u001b[1m\u001b[34m 140\u001b[0m\n",
      "[LightGBM] [Warning] early_stopping_round is set=100, early_stopping_rounds=100 will be ignored. Current value: early_stopping_round=100\n",
      "[LightGBM] [Warning] lambda_l1 is set=1.7415420055090436e-08, reg_alpha=0.0 will be ignored. Current value: lambda_l1=1.7415420055090436e-08\n",
      "[LightGBM] [Warning] lambda_l2 is set=1.0070647011222098, reg_lambda=0.0 will be ignored. Current value: lambda_l2=1.0070647011222098\n",
      "[LightGBM] [Warning] feature_fraction is set=0.3837390428306599, colsample_bytree=1.0 will be ignored. Current value: feature_fraction=0.3837390428306599\n",
      "[LightGBM] [Warning] min_data_in_leaf is set=20, min_child_samples=20 will be ignored. Current value: min_data_in_leaf=20\n",
      "[LightGBM] [Warning] bagging_freq is set=7, subsample_freq=0 will be ignored. Current value: bagging_freq=7\n",
      "67\n",
      "Fold: \u001b[1m\u001b[34m  3\u001b[0m| bll_metric: \u001b[1m\u001b[34m0.21578\u001b[0m | Best iteration: \u001b[1m\u001b[34m  67\u001b[0m\n",
      "[LightGBM] [Warning] early_stopping_round is set=100, early_stopping_rounds=100 will be ignored. Current value: early_stopping_round=100\n",
      "[LightGBM] [Warning] lambda_l1 is set=4.7354234368494895e-05, reg_alpha=0.0 will be ignored. Current value: lambda_l1=4.7354234368494895e-05\n",
      "[LightGBM] [Warning] lambda_l2 is set=0.8805820545093686, reg_lambda=0.0 will be ignored. Current value: lambda_l2=0.8805820545093686\n",
      "[LightGBM] [Warning] feature_fraction is set=0.5271180408273576, colsample_bytree=1.0 will be ignored. Current value: feature_fraction=0.5271180408273576\n",
      "[LightGBM] [Warning] min_data_in_leaf is set=18, min_child_samples=20 will be ignored. Current value: min_data_in_leaf=18\n",
      "[LightGBM] [Warning] bagging_freq is set=6, subsample_freq=0 will be ignored. Current value: bagging_freq=6\n",
      "193\n",
      "Fold: \u001b[1m\u001b[34m  3\u001b[0m| bll_metric: \u001b[1m\u001b[34m0.14401\u001b[0m | Best iteration: \u001b[1m\u001b[34m 193\u001b[0m\n",
      "[LightGBM] [Warning] early_stopping_round is set=100, early_stopping_rounds=100 will be ignored. Current value: early_stopping_round=100\n",
      "[LightGBM] [Warning] lambda_l1 is set=1.3482436811222014e-07, reg_alpha=0.0 will be ignored. Current value: lambda_l1=1.3482436811222014e-07\n",
      "[LightGBM] [Warning] lambda_l2 is set=0.7373887861960127, reg_lambda=0.0 will be ignored. Current value: lambda_l2=0.7373887861960127\n",
      "[LightGBM] [Warning] feature_fraction is set=0.4713034693259386, colsample_bytree=1.0 will be ignored. Current value: feature_fraction=0.4713034693259386\n",
      "[LightGBM] [Warning] min_data_in_leaf is set=15, min_child_samples=20 will be ignored. Current value: min_data_in_leaf=15\n",
      "[LightGBM] [Warning] bagging_freq is set=6, subsample_freq=0 will be ignored. Current value: bagging_freq=6\n"
     ]
    },
    {
     "name": "stderr",
     "output_type": "stream",
     "text": [
      " 60%|██████    | 3/5 [00:05<00:03,  1.95s/it]"
     ]
    },
    {
     "name": "stdout",
     "output_type": "stream",
     "text": [
      "463\n",
      "Fold: \u001b[1m\u001b[34m  3\u001b[0m| bll_metric: \u001b[1m\u001b[34m0.14834\u001b[0m | Best iteration: \u001b[1m\u001b[34m 463\u001b[0m\n",
      "[LightGBM] [Warning] early_stopping_round is set=100, early_stopping_rounds=100 will be ignored. Current value: early_stopping_round=100\n",
      "[LightGBM] [Warning] lambda_l1 is set=0.0495446920165007, reg_alpha=0.0 will be ignored. Current value: lambda_l1=0.0495446920165007\n",
      "[LightGBM] [Warning] lambda_l2 is set=0.0369262951845948, reg_lambda=0.0 will be ignored. Current value: lambda_l2=0.0369262951845948\n",
      "[LightGBM] [Warning] feature_fraction is set=0.5805145967989762, colsample_bytree=1.0 will be ignored. Current value: feature_fraction=0.5805145967989762\n",
      "[LightGBM] [Warning] min_data_in_leaf is set=27, min_child_samples=20 will be ignored. Current value: min_data_in_leaf=27\n",
      "[LightGBM] [Warning] bagging_freq is set=6, subsample_freq=0 will be ignored. Current value: bagging_freq=6\n",
      "161\n",
      "Fold: \u001b[1m\u001b[34m  3\u001b[0m| bll_metric: \u001b[1m\u001b[34m0.16432\u001b[0m | Best iteration: \u001b[1m\u001b[34m 161\u001b[0m\n",
      "[LightGBM] [Warning] early_stopping_round is set=100, early_stopping_rounds=100 will be ignored. Current value: early_stopping_round=100\n",
      "[LightGBM] [Warning] lambda_l1 is set=2.811253654801665e-07, reg_alpha=0.0 will be ignored. Current value: lambda_l1=2.811253654801665e-07\n",
      "[LightGBM] [Warning] lambda_l2 is set=4.924711244291618e-06, reg_lambda=0.0 will be ignored. Current value: lambda_l2=4.924711244291618e-06\n",
      "[LightGBM] [Warning] feature_fraction is set=0.5132067273860832, colsample_bytree=1.0 will be ignored. Current value: feature_fraction=0.5132067273860832\n",
      "[LightGBM] [Warning] min_data_in_leaf is set=17, min_child_samples=20 will be ignored. Current value: min_data_in_leaf=17\n",
      "[LightGBM] [Warning] bagging_freq is set=6, subsample_freq=0 will be ignored. Current value: bagging_freq=6\n",
      "142\n",
      "Fold: \u001b[1m\u001b[34m  4\u001b[0m| bll_metric: \u001b[1m\u001b[34m0.12122\u001b[0m | Best iteration: \u001b[1m\u001b[34m 142\u001b[0m\n",
      "[LightGBM] [Warning] early_stopping_round is set=100, early_stopping_rounds=100 will be ignored. Current value: early_stopping_round=100\n",
      "[LightGBM] [Warning] lambda_l1 is set=1.6973539952061037e-07, reg_alpha=0.0 will be ignored. Current value: lambda_l1=1.6973539952061037e-07\n",
      "[LightGBM] [Warning] lambda_l2 is set=1.0652843293917709e-07, reg_lambda=0.0 will be ignored. Current value: lambda_l2=1.0652843293917709e-07\n",
      "[LightGBM] [Warning] feature_fraction is set=0.6271150785596645, colsample_bytree=1.0 will be ignored. Current value: feature_fraction=0.6271150785596645\n",
      "[LightGBM] [Warning] min_data_in_leaf is set=29, min_child_samples=20 will be ignored. Current value: min_data_in_leaf=29\n",
      "[LightGBM] [Warning] bagging_freq is set=6, subsample_freq=0 will be ignored. Current value: bagging_freq=6\n",
      "177\n",
      "Fold: \u001b[1m\u001b[34m  4\u001b[0m| bll_metric: \u001b[1m\u001b[34m0.15878\u001b[0m | Best iteration: \u001b[1m\u001b[34m 177\u001b[0m\n",
      "[LightGBM] [Warning] early_stopping_round is set=100, early_stopping_rounds=100 will be ignored. Current value: early_stopping_round=100\n",
      "[LightGBM] [Warning] lambda_l1 is set=0.0001284782238694, reg_alpha=0.0 will be ignored. Current value: lambda_l1=0.0001284782238694\n",
      "[LightGBM] [Warning] lambda_l2 is set=0.2777858895761018, reg_lambda=0.0 will be ignored. Current value: lambda_l2=0.2777858895761018\n",
      "[LightGBM] [Warning] feature_fraction is set=0.5575808754463537, colsample_bytree=1.0 will be ignored. Current value: feature_fraction=0.5575808754463537\n",
      "[LightGBM] [Warning] min_data_in_leaf is set=18, min_child_samples=20 will be ignored. Current value: min_data_in_leaf=18\n",
      "[LightGBM] [Warning] bagging_freq is set=7, subsample_freq=0 will be ignored. Current value: bagging_freq=7\n",
      "167\n",
      "Fold: \u001b[1m\u001b[34m  4\u001b[0m| bll_metric: \u001b[1m\u001b[34m0.14495\u001b[0m | Best iteration: \u001b[1m\u001b[34m 167\u001b[0m\n",
      "[LightGBM] [Warning] early_stopping_round is set=100, early_stopping_rounds=100 will be ignored. Current value: early_stopping_round=100\n",
      "[LightGBM] [Warning] lambda_l1 is set=6.747672083007809e-07, reg_alpha=0.0 will be ignored. Current value: lambda_l1=6.747672083007809e-07\n",
      "[LightGBM] [Warning] lambda_l2 is set=0.0026591456078525, reg_lambda=0.0 will be ignored. Current value: lambda_l2=0.0026591456078525\n",
      "[LightGBM] [Warning] feature_fraction is set=0.5813704113161643, colsample_bytree=1.0 will be ignored. Current value: feature_fraction=0.5813704113161643\n",
      "[LightGBM] [Warning] min_data_in_leaf is set=24, min_child_samples=20 will be ignored. Current value: min_data_in_leaf=24\n",
      "[LightGBM] [Warning] bagging_freq is set=6, subsample_freq=0 will be ignored. Current value: bagging_freq=6\n",
      "457\n",
      "Fold: \u001b[1m\u001b[34m  4\u001b[0m| bll_metric: \u001b[1m\u001b[34m0.15619\u001b[0m | Best iteration: \u001b[1m\u001b[34m 457\u001b[0m\n",
      "[LightGBM] [Warning] early_stopping_round is set=100, early_stopping_rounds=100 will be ignored. Current value: early_stopping_round=100\n",
      "[LightGBM] [Warning] lambda_l1 is set=0.0260071209928558, reg_alpha=0.0 will be ignored. Current value: lambda_l1=0.0260071209928558\n",
      "[LightGBM] [Warning] lambda_l2 is set=0.2100407852940459, reg_lambda=0.0 will be ignored. Current value: lambda_l2=0.2100407852940459\n",
      "[LightGBM] [Warning] feature_fraction is set=0.5828332375901565, colsample_bytree=1.0 will be ignored. Current value: feature_fraction=0.5828332375901565\n",
      "[LightGBM] [Warning] min_data_in_leaf is set=23, min_child_samples=20 will be ignored. Current value: min_data_in_leaf=23\n",
      "[LightGBM] [Warning] bagging_freq is set=1, subsample_freq=0 will be ignored. Current value: bagging_freq=1\n",
      "147\n",
      "Fold: \u001b[1m\u001b[34m  4\u001b[0m| bll_metric: \u001b[1m\u001b[34m0.13675\u001b[0m | Best iteration: \u001b[1m\u001b[34m 147\u001b[0m\n",
      "[LightGBM] [Warning] early_stopping_round is set=100, early_stopping_rounds=100 will be ignored. Current value: early_stopping_round=100\n",
      "[LightGBM] [Warning] lambda_l1 is set=9.299903144779756e-08, reg_alpha=0.0 will be ignored. Current value: lambda_l1=9.299903144779756e-08\n",
      "[LightGBM] [Warning] lambda_l2 is set=1.1366481061597855, reg_lambda=0.0 will be ignored. Current value: lambda_l2=1.1366481061597855\n",
      "[LightGBM] [Warning] feature_fraction is set=0.3359043459618996, colsample_bytree=1.0 will be ignored. Current value: feature_fraction=0.3359043459618996\n",
      "[LightGBM] [Warning] min_data_in_leaf is set=27, min_child_samples=20 will be ignored. Current value: min_data_in_leaf=27\n",
      "[LightGBM] [Warning] bagging_freq is set=6, subsample_freq=0 will be ignored. Current value: bagging_freq=6\n",
      "311\n",
      "Fold: \u001b[1m\u001b[34m  4\u001b[0m| bll_metric: \u001b[1m\u001b[34m0.12445\u001b[0m | Best iteration: \u001b[1m\u001b[34m 311\u001b[0m\n",
      "[LightGBM] [Warning] early_stopping_round is set=100, early_stopping_rounds=100 will be ignored. Current value: early_stopping_round=100\n",
      "[LightGBM] [Warning] lambda_l1 is set=2.20957965984874e-06, reg_alpha=0.0 will be ignored. Current value: lambda_l1=2.20957965984874e-06\n",
      "[LightGBM] [Warning] lambda_l2 is set=0.0054542886250849, reg_lambda=0.0 will be ignored. Current value: lambda_l2=0.0054542886250849\n",
      "[LightGBM] [Warning] feature_fraction is set=0.5930869695550075, colsample_bytree=1.0 will be ignored. Current value: feature_fraction=0.5930869695550075\n",
      "[LightGBM] [Warning] min_data_in_leaf is set=21, min_child_samples=20 will be ignored. Current value: min_data_in_leaf=21\n",
      "[LightGBM] [Warning] bagging_freq is set=6, subsample_freq=0 will be ignored. Current value: bagging_freq=6\n",
      "219\n",
      "Fold: \u001b[1m\u001b[34m  4\u001b[0m| bll_metric: \u001b[1m\u001b[34m0.13145\u001b[0m | Best iteration: \u001b[1m\u001b[34m 219\u001b[0m\n",
      "[LightGBM] [Warning] early_stopping_round is set=100, early_stopping_rounds=100 will be ignored. Current value: early_stopping_round=100\n",
      "[LightGBM] [Warning] lambda_l1 is set=0.0545077457903194, reg_alpha=0.0 will be ignored. Current value: lambda_l1=0.0545077457903194\n",
      "[LightGBM] [Warning] lambda_l2 is set=0.1557779574271824, reg_lambda=0.0 will be ignored. Current value: lambda_l2=0.1557779574271824\n",
      "[LightGBM] [Warning] feature_fraction is set=0.4736641312423156, colsample_bytree=1.0 will be ignored. Current value: feature_fraction=0.4736641312423156\n",
      "[LightGBM] [Warning] min_data_in_leaf is set=19, min_child_samples=20 will be ignored. Current value: min_data_in_leaf=19\n",
      "[LightGBM] [Warning] bagging_freq is set=6, subsample_freq=0 will be ignored. Current value: bagging_freq=6\n",
      "312\n",
      "Fold: \u001b[1m\u001b[34m  4\u001b[0m| bll_metric: \u001b[1m\u001b[34m0.14062\u001b[0m | Best iteration: \u001b[1m\u001b[34m 312\u001b[0m\n",
      "[LightGBM] [Warning] early_stopping_round is set=100, early_stopping_rounds=100 will be ignored. Current value: early_stopping_round=100\n",
      "[LightGBM] [Warning] lambda_l1 is set=5.8423381442000727e-05, reg_alpha=0.0 will be ignored. Current value: lambda_l1=5.8423381442000727e-05\n",
      "[LightGBM] [Warning] lambda_l2 is set=4.548404191201233e-07, reg_lambda=0.0 will be ignored. Current value: lambda_l2=4.548404191201233e-07\n",
      "[LightGBM] [Warning] feature_fraction is set=0.5663538745268442, colsample_bytree=1.0 will be ignored. Current value: feature_fraction=0.5663538745268442\n",
      "[LightGBM] [Warning] min_data_in_leaf is set=26, min_child_samples=20 will be ignored. Current value: min_data_in_leaf=26\n",
      "[LightGBM] [Warning] bagging_freq is set=5, subsample_freq=0 will be ignored. Current value: bagging_freq=5\n",
      "510\n",
      "Fold: \u001b[1m\u001b[34m  4\u001b[0m| bll_metric: \u001b[1m\u001b[34m0.12986\u001b[0m | Best iteration: \u001b[1m\u001b[34m 510\u001b[0m\n",
      "[LightGBM] [Warning] early_stopping_round is set=100, early_stopping_rounds=100 will be ignored. Current value: early_stopping_round=100\n",
      "[LightGBM] [Warning] lambda_l1 is set=2.944065785368376e-07, reg_alpha=0.0 will be ignored. Current value: lambda_l1=2.944065785368376e-07\n",
      "[LightGBM] [Warning] lambda_l2 is set=0.003990472269227, reg_lambda=0.0 will be ignored. Current value: lambda_l2=0.003990472269227\n",
      "[LightGBM] [Warning] feature_fraction is set=0.5719172756855742, colsample_bytree=1.0 will be ignored. Current value: feature_fraction=0.5719172756855742\n",
      "[LightGBM] [Warning] min_data_in_leaf is set=27, min_child_samples=20 will be ignored. Current value: min_data_in_leaf=27\n",
      "[LightGBM] [Warning] bagging_freq is set=6, subsample_freq=0 will be ignored. Current value: bagging_freq=6\n",
      "369\n",
      "Fold: \u001b[1m\u001b[34m  4\u001b[0m| bll_metric: \u001b[1m\u001b[34m0.15837\u001b[0m | Best iteration: \u001b[1m\u001b[34m 369\u001b[0m\n",
      "[LightGBM] [Warning] early_stopping_round is set=100, early_stopping_rounds=100 will be ignored. Current value: early_stopping_round=100\n",
      "[LightGBM] [Warning] lambda_l1 is set=0.0053806276673069, reg_alpha=0.0 will be ignored. Current value: lambda_l1=0.0053806276673069\n",
      "[LightGBM] [Warning] lambda_l2 is set=0.0059759968102011, reg_lambda=0.0 will be ignored. Current value: lambda_l2=0.0059759968102011\n",
      "[LightGBM] [Warning] feature_fraction is set=0.6078717268452226, colsample_bytree=1.0 will be ignored. Current value: feature_fraction=0.6078717268452226\n",
      "[LightGBM] [Warning] min_data_in_leaf is set=24, min_child_samples=20 will be ignored. Current value: min_data_in_leaf=24\n",
      "[LightGBM] [Warning] bagging_freq is set=1, subsample_freq=0 will be ignored. Current value: bagging_freq=1\n",
      "258\n",
      "Fold: \u001b[1m\u001b[34m  4\u001b[0m| bll_metric: \u001b[1m\u001b[34m0.13697\u001b[0m | Best iteration: \u001b[1m\u001b[34m 258\u001b[0m\n",
      "[LightGBM] [Warning] early_stopping_round is set=100, early_stopping_rounds=100 will be ignored. Current value: early_stopping_round=100\n",
      "[LightGBM] [Warning] lambda_l1 is set=6.407034366341267e-08, reg_alpha=0.0 will be ignored. Current value: lambda_l1=6.407034366341267e-08\n",
      "[LightGBM] [Warning] lambda_l2 is set=4.8808516611403415e-06, reg_lambda=0.0 will be ignored. Current value: lambda_l2=4.8808516611403415e-06\n",
      "[LightGBM] [Warning] feature_fraction is set=0.6142618118399489, colsample_bytree=1.0 will be ignored. Current value: feature_fraction=0.6142618118399489\n",
      "[LightGBM] [Warning] min_data_in_leaf is set=25, min_child_samples=20 will be ignored. Current value: min_data_in_leaf=25\n",
      "[LightGBM] [Warning] bagging_freq is set=6, subsample_freq=0 will be ignored. Current value: bagging_freq=6\n",
      "78\n",
      "Fold: \u001b[1m\u001b[34m  4\u001b[0m| bll_metric: \u001b[1m\u001b[34m0.19256\u001b[0m | Best iteration: \u001b[1m\u001b[34m  78\u001b[0m\n",
      "[LightGBM] [Warning] early_stopping_round is set=100, early_stopping_rounds=100 will be ignored. Current value: early_stopping_round=100\n",
      "[LightGBM] [Warning] lambda_l1 is set=0.0017417374392891, reg_alpha=0.0 will be ignored. Current value: lambda_l1=0.0017417374392891\n",
      "[LightGBM] [Warning] lambda_l2 is set=0.0195987338731541, reg_lambda=0.0 will be ignored. Current value: lambda_l2=0.0195987338731541\n",
      "[LightGBM] [Warning] feature_fraction is set=0.5791444378727839, colsample_bytree=1.0 will be ignored. Current value: feature_fraction=0.5791444378727839\n",
      "[LightGBM] [Warning] min_data_in_leaf is set=14, min_child_samples=20 will be ignored. Current value: min_data_in_leaf=14\n",
      "[LightGBM] [Warning] bagging_freq is set=6, subsample_freq=0 will be ignored. Current value: bagging_freq=6\n",
      "203\n",
      "Fold: \u001b[1m\u001b[34m  4\u001b[0m| bll_metric: \u001b[1m\u001b[34m0.15607\u001b[0m | Best iteration: \u001b[1m\u001b[34m 203\u001b[0m\n",
      "[LightGBM] [Warning] early_stopping_round is set=100, early_stopping_rounds=100 will be ignored. Current value: early_stopping_round=100\n",
      "[LightGBM] [Warning] lambda_l1 is set=4.060753700363072e-08, reg_alpha=0.0 will be ignored. Current value: lambda_l1=4.060753700363072e-08\n",
      "[LightGBM] [Warning] lambda_l2 is set=0.0071307376847169, reg_lambda=0.0 will be ignored. Current value: lambda_l2=0.0071307376847169\n",
      "[LightGBM] [Warning] feature_fraction is set=0.5704153462628081, colsample_bytree=1.0 will be ignored. Current value: feature_fraction=0.5704153462628081\n",
      "[LightGBM] [Warning] min_data_in_leaf is set=21, min_child_samples=20 will be ignored. Current value: min_data_in_leaf=21\n",
      "[LightGBM] [Warning] bagging_freq is set=6, subsample_freq=0 will be ignored. Current value: bagging_freq=6\n",
      "206\n",
      "Fold: \u001b[1m\u001b[34m  4\u001b[0m| bll_metric: \u001b[1m\u001b[34m0.14756\u001b[0m | Best iteration: \u001b[1m\u001b[34m 206\u001b[0m\n",
      "[LightGBM] [Warning] early_stopping_round is set=100, early_stopping_rounds=100 will be ignored. Current value: early_stopping_round=100\n",
      "[LightGBM] [Warning] lambda_l1 is set=4.50926587355556e-07, reg_alpha=0.0 will be ignored. Current value: lambda_l1=4.50926587355556e-07\n",
      "[LightGBM] [Warning] lambda_l2 is set=0.0033385230391681, reg_lambda=0.0 will be ignored. Current value: lambda_l2=0.0033385230391681\n",
      "[LightGBM] [Warning] feature_fraction is set=0.5723491283575155, colsample_bytree=1.0 will be ignored. Current value: feature_fraction=0.5723491283575155\n",
      "[LightGBM] [Warning] min_data_in_leaf is set=27, min_child_samples=20 will be ignored. Current value: min_data_in_leaf=27\n",
      "[LightGBM] [Warning] bagging_freq is set=6, subsample_freq=0 will be ignored. Current value: bagging_freq=6\n",
      "309\n",
      "Fold: \u001b[1m\u001b[34m  4\u001b[0m| bll_metric: \u001b[1m\u001b[34m0.14055\u001b[0m | Best iteration: \u001b[1m\u001b[34m 309\u001b[0m\n",
      "[LightGBM] [Warning] early_stopping_round is set=100, early_stopping_rounds=100 will be ignored. Current value: early_stopping_round=100\n",
      "[LightGBM] [Warning] lambda_l1 is set=0.0022695548731446, reg_alpha=0.0 will be ignored. Current value: lambda_l1=0.0022695548731446\n",
      "[LightGBM] [Warning] lambda_l2 is set=1.9128476624358985e-07, reg_lambda=0.0 will be ignored. Current value: lambda_l2=1.9128476624358985e-07\n",
      "[LightGBM] [Warning] feature_fraction is set=0.5871710297107988, colsample_bytree=1.0 will be ignored. Current value: feature_fraction=0.5871710297107988\n",
      "[LightGBM] [Warning] min_data_in_leaf is set=23, min_child_samples=20 will be ignored. Current value: min_data_in_leaf=23\n",
      "[LightGBM] [Warning] bagging_freq is set=4, subsample_freq=0 will be ignored. Current value: bagging_freq=4\n",
      "95\n",
      "Fold: \u001b[1m\u001b[34m  4\u001b[0m| bll_metric: \u001b[1m\u001b[34m0.12926\u001b[0m | Best iteration: \u001b[1m\u001b[34m  95\u001b[0m\n",
      "[LightGBM] [Warning] early_stopping_round is set=100, early_stopping_rounds=100 will be ignored. Current value: early_stopping_round=100\n",
      "[LightGBM] [Warning] lambda_l1 is set=1.7415420055090436e-08, reg_alpha=0.0 will be ignored. Current value: lambda_l1=1.7415420055090436e-08\n",
      "[LightGBM] [Warning] lambda_l2 is set=1.0070647011222098, reg_lambda=0.0 will be ignored. Current value: lambda_l2=1.0070647011222098\n",
      "[LightGBM] [Warning] feature_fraction is set=0.3837390428306599, colsample_bytree=1.0 will be ignored. Current value: feature_fraction=0.3837390428306599\n",
      "[LightGBM] [Warning] min_data_in_leaf is set=20, min_child_samples=20 will be ignored. Current value: min_data_in_leaf=20\n",
      "[LightGBM] [Warning] bagging_freq is set=7, subsample_freq=0 will be ignored. Current value: bagging_freq=7\n",
      "191\n",
      "Fold: \u001b[1m\u001b[34m  4\u001b[0m| bll_metric: \u001b[1m\u001b[34m0.14470\u001b[0m | Best iteration: \u001b[1m\u001b[34m 191\u001b[0m\n",
      "[LightGBM] [Warning] early_stopping_round is set=100, early_stopping_rounds=100 will be ignored. Current value: early_stopping_round=100\n",
      "[LightGBM] [Warning] lambda_l1 is set=4.7354234368494895e-05, reg_alpha=0.0 will be ignored. Current value: lambda_l1=4.7354234368494895e-05\n",
      "[LightGBM] [Warning] lambda_l2 is set=0.8805820545093686, reg_lambda=0.0 will be ignored. Current value: lambda_l2=0.8805820545093686\n",
      "[LightGBM] [Warning] feature_fraction is set=0.5271180408273576, colsample_bytree=1.0 will be ignored. Current value: feature_fraction=0.5271180408273576\n",
      "[LightGBM] [Warning] min_data_in_leaf is set=18, min_child_samples=20 will be ignored. Current value: min_data_in_leaf=18\n",
      "[LightGBM] [Warning] bagging_freq is set=6, subsample_freq=0 will be ignored. Current value: bagging_freq=6\n"
     ]
    },
    {
     "name": "stderr",
     "output_type": "stream",
     "text": [
      " 80%|████████  | 4/5 [00:08<00:02,  2.29s/it]"
     ]
    },
    {
     "name": "stdout",
     "output_type": "stream",
     "text": [
      "363\n",
      "Fold: \u001b[1m\u001b[34m  4\u001b[0m| bll_metric: \u001b[1m\u001b[34m0.12754\u001b[0m | Best iteration: \u001b[1m\u001b[34m 363\u001b[0m\n",
      "[LightGBM] [Warning] early_stopping_round is set=100, early_stopping_rounds=100 will be ignored. Current value: early_stopping_round=100\n",
      "[LightGBM] [Warning] lambda_l1 is set=1.3482436811222014e-07, reg_alpha=0.0 will be ignored. Current value: lambda_l1=1.3482436811222014e-07\n",
      "[LightGBM] [Warning] lambda_l2 is set=0.7373887861960127, reg_lambda=0.0 will be ignored. Current value: lambda_l2=0.7373887861960127\n",
      "[LightGBM] [Warning] feature_fraction is set=0.4713034693259386, colsample_bytree=1.0 will be ignored. Current value: feature_fraction=0.4713034693259386\n",
      "[LightGBM] [Warning] min_data_in_leaf is set=15, min_child_samples=20 will be ignored. Current value: min_data_in_leaf=15\n",
      "[LightGBM] [Warning] bagging_freq is set=6, subsample_freq=0 will be ignored. Current value: bagging_freq=6\n",
      "271\n",
      "Fold: \u001b[1m\u001b[34m  4\u001b[0m| bll_metric: \u001b[1m\u001b[34m0.13001\u001b[0m | Best iteration: \u001b[1m\u001b[34m 271\u001b[0m\n",
      "[LightGBM] [Warning] early_stopping_round is set=100, early_stopping_rounds=100 will be ignored. Current value: early_stopping_round=100\n",
      "[LightGBM] [Warning] lambda_l1 is set=0.0495446920165007, reg_alpha=0.0 will be ignored. Current value: lambda_l1=0.0495446920165007\n",
      "[LightGBM] [Warning] lambda_l2 is set=0.0369262951845948, reg_lambda=0.0 will be ignored. Current value: lambda_l2=0.0369262951845948\n",
      "[LightGBM] [Warning] feature_fraction is set=0.5805145967989762, colsample_bytree=1.0 will be ignored. Current value: feature_fraction=0.5805145967989762\n",
      "[LightGBM] [Warning] min_data_in_leaf is set=27, min_child_samples=20 will be ignored. Current value: min_data_in_leaf=27\n",
      "[LightGBM] [Warning] bagging_freq is set=6, subsample_freq=0 will be ignored. Current value: bagging_freq=6\n",
      "153\n",
      "Fold: \u001b[1m\u001b[34m  4\u001b[0m| bll_metric: \u001b[1m\u001b[34m0.16339\u001b[0m | Best iteration: \u001b[1m\u001b[34m 153\u001b[0m\n",
      "[LightGBM] [Warning] early_stopping_round is set=100, early_stopping_rounds=100 will be ignored. Current value: early_stopping_round=100\n",
      "[LightGBM] [Warning] lambda_l1 is set=2.811253654801665e-07, reg_alpha=0.0 will be ignored. Current value: lambda_l1=2.811253654801665e-07\n",
      "[LightGBM] [Warning] lambda_l2 is set=4.924711244291618e-06, reg_lambda=0.0 will be ignored. Current value: lambda_l2=4.924711244291618e-06\n",
      "[LightGBM] [Warning] feature_fraction is set=0.5132067273860832, colsample_bytree=1.0 will be ignored. Current value: feature_fraction=0.5132067273860832\n",
      "[LightGBM] [Warning] min_data_in_leaf is set=17, min_child_samples=20 will be ignored. Current value: min_data_in_leaf=17\n",
      "[LightGBM] [Warning] bagging_freq is set=6, subsample_freq=0 will be ignored. Current value: bagging_freq=6\n",
      "75\n",
      "Fold: \u001b[1m\u001b[34m  5\u001b[0m| bll_metric: \u001b[1m\u001b[34m0.21822\u001b[0m | Best iteration: \u001b[1m\u001b[34m  75\u001b[0m\n",
      "[LightGBM] [Warning] early_stopping_round is set=100, early_stopping_rounds=100 will be ignored. Current value: early_stopping_round=100\n",
      "[LightGBM] [Warning] lambda_l1 is set=1.6973539952061037e-07, reg_alpha=0.0 will be ignored. Current value: lambda_l1=1.6973539952061037e-07\n",
      "[LightGBM] [Warning] lambda_l2 is set=1.0652843293917709e-07, reg_lambda=0.0 will be ignored. Current value: lambda_l2=1.0652843293917709e-07\n",
      "[LightGBM] [Warning] feature_fraction is set=0.6271150785596645, colsample_bytree=1.0 will be ignored. Current value: feature_fraction=0.6271150785596645\n",
      "[LightGBM] [Warning] min_data_in_leaf is set=29, min_child_samples=20 will be ignored. Current value: min_data_in_leaf=29\n",
      "[LightGBM] [Warning] bagging_freq is set=6, subsample_freq=0 will be ignored. Current value: bagging_freq=6\n",
      "61\n",
      "Fold: \u001b[1m\u001b[34m  5\u001b[0m| bll_metric: \u001b[1m\u001b[34m0.24780\u001b[0m | Best iteration: \u001b[1m\u001b[34m  61\u001b[0m\n",
      "[LightGBM] [Warning] early_stopping_round is set=100, early_stopping_rounds=100 will be ignored. Current value: early_stopping_round=100\n",
      "[LightGBM] [Warning] lambda_l1 is set=0.0001284782238694, reg_alpha=0.0 will be ignored. Current value: lambda_l1=0.0001284782238694\n",
      "[LightGBM] [Warning] lambda_l2 is set=0.2777858895761018, reg_lambda=0.0 will be ignored. Current value: lambda_l2=0.2777858895761018\n",
      "[LightGBM] [Warning] feature_fraction is set=0.5575808754463537, colsample_bytree=1.0 will be ignored. Current value: feature_fraction=0.5575808754463537\n",
      "[LightGBM] [Warning] min_data_in_leaf is set=18, min_child_samples=20 will be ignored. Current value: min_data_in_leaf=18\n",
      "[LightGBM] [Warning] bagging_freq is set=7, subsample_freq=0 will be ignored. Current value: bagging_freq=7\n",
      "81\n",
      "Fold: \u001b[1m\u001b[34m  5\u001b[0m| bll_metric: \u001b[1m\u001b[34m0.22446\u001b[0m | Best iteration: \u001b[1m\u001b[34m  81\u001b[0m\n",
      "[LightGBM] [Warning] early_stopping_round is set=100, early_stopping_rounds=100 will be ignored. Current value: early_stopping_round=100\n",
      "[LightGBM] [Warning] lambda_l1 is set=6.747672083007809e-07, reg_alpha=0.0 will be ignored. Current value: lambda_l1=6.747672083007809e-07\n",
      "[LightGBM] [Warning] lambda_l2 is set=0.0026591456078525, reg_lambda=0.0 will be ignored. Current value: lambda_l2=0.0026591456078525\n",
      "[LightGBM] [Warning] feature_fraction is set=0.5813704113161643, colsample_bytree=1.0 will be ignored. Current value: feature_fraction=0.5813704113161643\n",
      "[LightGBM] [Warning] min_data_in_leaf is set=24, min_child_samples=20 will be ignored. Current value: min_data_in_leaf=24\n",
      "[LightGBM] [Warning] bagging_freq is set=6, subsample_freq=0 will be ignored. Current value: bagging_freq=6\n",
      "257\n",
      "Fold: \u001b[1m\u001b[34m  5\u001b[0m| bll_metric: \u001b[1m\u001b[34m0.22182\u001b[0m | Best iteration: \u001b[1m\u001b[34m 257\u001b[0m\n",
      "[LightGBM] [Warning] early_stopping_round is set=100, early_stopping_rounds=100 will be ignored. Current value: early_stopping_round=100\n",
      "[LightGBM] [Warning] lambda_l1 is set=0.0260071209928558, reg_alpha=0.0 will be ignored. Current value: lambda_l1=0.0260071209928558\n",
      "[LightGBM] [Warning] lambda_l2 is set=0.2100407852940459, reg_lambda=0.0 will be ignored. Current value: lambda_l2=0.2100407852940459\n",
      "[LightGBM] [Warning] feature_fraction is set=0.5828332375901565, colsample_bytree=1.0 will be ignored. Current value: feature_fraction=0.5828332375901565\n",
      "[LightGBM] [Warning] min_data_in_leaf is set=23, min_child_samples=20 will be ignored. Current value: min_data_in_leaf=23\n",
      "[LightGBM] [Warning] bagging_freq is set=1, subsample_freq=0 will be ignored. Current value: bagging_freq=1\n",
      "111\n",
      "Fold: \u001b[1m\u001b[34m  5\u001b[0m| bll_metric: \u001b[1m\u001b[34m0.20379\u001b[0m | Best iteration: \u001b[1m\u001b[34m 111\u001b[0m\n",
      "[LightGBM] [Warning] early_stopping_round is set=100, early_stopping_rounds=100 will be ignored. Current value: early_stopping_round=100\n",
      "[LightGBM] [Warning] lambda_l1 is set=9.299903144779756e-08, reg_alpha=0.0 will be ignored. Current value: lambda_l1=9.299903144779756e-08\n",
      "[LightGBM] [Warning] lambda_l2 is set=1.1366481061597855, reg_lambda=0.0 will be ignored. Current value: lambda_l2=1.1366481061597855\n",
      "[LightGBM] [Warning] feature_fraction is set=0.3359043459618996, colsample_bytree=1.0 will be ignored. Current value: feature_fraction=0.3359043459618996\n",
      "[LightGBM] [Warning] min_data_in_leaf is set=27, min_child_samples=20 will be ignored. Current value: min_data_in_leaf=27\n",
      "[LightGBM] [Warning] bagging_freq is set=6, subsample_freq=0 will be ignored. Current value: bagging_freq=6\n",
      "143\n",
      "Fold: \u001b[1m\u001b[34m  5\u001b[0m| bll_metric: \u001b[1m\u001b[34m0.24225\u001b[0m | Best iteration: \u001b[1m\u001b[34m 143\u001b[0m\n",
      "[LightGBM] [Warning] early_stopping_round is set=100, early_stopping_rounds=100 will be ignored. Current value: early_stopping_round=100\n",
      "[LightGBM] [Warning] lambda_l1 is set=2.20957965984874e-06, reg_alpha=0.0 will be ignored. Current value: lambda_l1=2.20957965984874e-06\n",
      "[LightGBM] [Warning] lambda_l2 is set=0.0054542886250849, reg_lambda=0.0 will be ignored. Current value: lambda_l2=0.0054542886250849\n",
      "[LightGBM] [Warning] feature_fraction is set=0.5930869695550075, colsample_bytree=1.0 will be ignored. Current value: feature_fraction=0.5930869695550075\n",
      "[LightGBM] [Warning] min_data_in_leaf is set=21, min_child_samples=20 will be ignored. Current value: min_data_in_leaf=21\n",
      "[LightGBM] [Warning] bagging_freq is set=6, subsample_freq=0 will be ignored. Current value: bagging_freq=6\n",
      "86\n",
      "Fold: \u001b[1m\u001b[34m  5\u001b[0m| bll_metric: \u001b[1m\u001b[34m0.19941\u001b[0m | Best iteration: \u001b[1m\u001b[34m  86\u001b[0m\n",
      "[LightGBM] [Warning] early_stopping_round is set=100, early_stopping_rounds=100 will be ignored. Current value: early_stopping_round=100\n",
      "[LightGBM] [Warning] lambda_l1 is set=0.0545077457903194, reg_alpha=0.0 will be ignored. Current value: lambda_l1=0.0545077457903194\n",
      "[LightGBM] [Warning] lambda_l2 is set=0.1557779574271824, reg_lambda=0.0 will be ignored. Current value: lambda_l2=0.1557779574271824\n",
      "[LightGBM] [Warning] feature_fraction is set=0.4736641312423156, colsample_bytree=1.0 will be ignored. Current value: feature_fraction=0.4736641312423156\n",
      "[LightGBM] [Warning] min_data_in_leaf is set=19, min_child_samples=20 will be ignored. Current value: min_data_in_leaf=19\n",
      "[LightGBM] [Warning] bagging_freq is set=6, subsample_freq=0 will be ignored. Current value: bagging_freq=6\n",
      "134\n",
      "Fold: \u001b[1m\u001b[34m  5\u001b[0m| bll_metric: \u001b[1m\u001b[34m0.20106\u001b[0m | Best iteration: \u001b[1m\u001b[34m 134\u001b[0m\n",
      "[LightGBM] [Warning] early_stopping_round is set=100, early_stopping_rounds=100 will be ignored. Current value: early_stopping_round=100\n",
      "[LightGBM] [Warning] lambda_l1 is set=5.8423381442000727e-05, reg_alpha=0.0 will be ignored. Current value: lambda_l1=5.8423381442000727e-05\n",
      "[LightGBM] [Warning] lambda_l2 is set=4.548404191201233e-07, reg_lambda=0.0 will be ignored. Current value: lambda_l2=4.548404191201233e-07\n",
      "[LightGBM] [Warning] feature_fraction is set=0.5663538745268442, colsample_bytree=1.0 will be ignored. Current value: feature_fraction=0.5663538745268442\n",
      "[LightGBM] [Warning] min_data_in_leaf is set=26, min_child_samples=20 will be ignored. Current value: min_data_in_leaf=26\n",
      "[LightGBM] [Warning] bagging_freq is set=5, subsample_freq=0 will be ignored. Current value: bagging_freq=5\n",
      "187\n",
      "Fold: \u001b[1m\u001b[34m  5\u001b[0m| bll_metric: \u001b[1m\u001b[34m0.23484\u001b[0m | Best iteration: \u001b[1m\u001b[34m 187\u001b[0m\n",
      "[LightGBM] [Warning] early_stopping_round is set=100, early_stopping_rounds=100 will be ignored. Current value: early_stopping_round=100\n",
      "[LightGBM] [Warning] lambda_l1 is set=2.944065785368376e-07, reg_alpha=0.0 will be ignored. Current value: lambda_l1=2.944065785368376e-07\n",
      "[LightGBM] [Warning] lambda_l2 is set=0.003990472269227, reg_lambda=0.0 will be ignored. Current value: lambda_l2=0.003990472269227\n",
      "[LightGBM] [Warning] feature_fraction is set=0.5719172756855742, colsample_bytree=1.0 will be ignored. Current value: feature_fraction=0.5719172756855742\n",
      "[LightGBM] [Warning] min_data_in_leaf is set=27, min_child_samples=20 will be ignored. Current value: min_data_in_leaf=27\n",
      "[LightGBM] [Warning] bagging_freq is set=6, subsample_freq=0 will be ignored. Current value: bagging_freq=6\n",
      "196\n",
      "Fold: \u001b[1m\u001b[34m  5\u001b[0m| bll_metric: \u001b[1m\u001b[34m0.24408\u001b[0m | Best iteration: \u001b[1m\u001b[34m 196\u001b[0m\n",
      "[LightGBM] [Warning] early_stopping_round is set=100, early_stopping_rounds=100 will be ignored. Current value: early_stopping_round=100\n",
      "[LightGBM] [Warning] lambda_l1 is set=0.0053806276673069, reg_alpha=0.0 will be ignored. Current value: lambda_l1=0.0053806276673069\n",
      "[LightGBM] [Warning] lambda_l2 is set=0.0059759968102011, reg_lambda=0.0 will be ignored. Current value: lambda_l2=0.0059759968102011\n",
      "[LightGBM] [Warning] feature_fraction is set=0.6078717268452226, colsample_bytree=1.0 will be ignored. Current value: feature_fraction=0.6078717268452226\n",
      "[LightGBM] [Warning] min_data_in_leaf is set=24, min_child_samples=20 will be ignored. Current value: min_data_in_leaf=24\n",
      "[LightGBM] [Warning] bagging_freq is set=1, subsample_freq=0 will be ignored. Current value: bagging_freq=1\n",
      "135\n",
      "Fold: \u001b[1m\u001b[34m  5\u001b[0m| bll_metric: \u001b[1m\u001b[34m0.23064\u001b[0m | Best iteration: \u001b[1m\u001b[34m 135\u001b[0m\n",
      "[LightGBM] [Warning] early_stopping_round is set=100, early_stopping_rounds=100 will be ignored. Current value: early_stopping_round=100\n",
      "[LightGBM] [Warning] lambda_l1 is set=6.407034366341267e-08, reg_alpha=0.0 will be ignored. Current value: lambda_l1=6.407034366341267e-08\n",
      "[LightGBM] [Warning] lambda_l2 is set=4.8808516611403415e-06, reg_lambda=0.0 will be ignored. Current value: lambda_l2=4.8808516611403415e-06\n",
      "[LightGBM] [Warning] feature_fraction is set=0.6142618118399489, colsample_bytree=1.0 will be ignored. Current value: feature_fraction=0.6142618118399489\n",
      "[LightGBM] [Warning] min_data_in_leaf is set=25, min_child_samples=20 will be ignored. Current value: min_data_in_leaf=25\n",
      "[LightGBM] [Warning] bagging_freq is set=6, subsample_freq=0 will be ignored. Current value: bagging_freq=6\n",
      "33\n",
      "Fold: \u001b[1m\u001b[34m  5\u001b[0m| bll_metric: \u001b[1m\u001b[34m0.23997\u001b[0m | Best iteration: \u001b[1m\u001b[34m  33\u001b[0m\n",
      "[LightGBM] [Warning] early_stopping_round is set=100, early_stopping_rounds=100 will be ignored. Current value: early_stopping_round=100\n",
      "[LightGBM] [Warning] lambda_l1 is set=0.0017417374392891, reg_alpha=0.0 will be ignored. Current value: lambda_l1=0.0017417374392891\n",
      "[LightGBM] [Warning] lambda_l2 is set=0.0195987338731541, reg_lambda=0.0 will be ignored. Current value: lambda_l2=0.0195987338731541\n",
      "[LightGBM] [Warning] feature_fraction is set=0.5791444378727839, colsample_bytree=1.0 will be ignored. Current value: feature_fraction=0.5791444378727839\n",
      "[LightGBM] [Warning] min_data_in_leaf is set=14, min_child_samples=20 will be ignored. Current value: min_data_in_leaf=14\n",
      "[LightGBM] [Warning] bagging_freq is set=6, subsample_freq=0 will be ignored. Current value: bagging_freq=6\n",
      "175\n",
      "Fold: \u001b[1m\u001b[34m  5\u001b[0m| bll_metric: \u001b[1m\u001b[34m0.24921\u001b[0m | Best iteration: \u001b[1m\u001b[34m 175\u001b[0m\n",
      "[LightGBM] [Warning] early_stopping_round is set=100, early_stopping_rounds=100 will be ignored. Current value: early_stopping_round=100\n",
      "[LightGBM] [Warning] lambda_l1 is set=4.060753700363072e-08, reg_alpha=0.0 will be ignored. Current value: lambda_l1=4.060753700363072e-08\n",
      "[LightGBM] [Warning] lambda_l2 is set=0.0071307376847169, reg_lambda=0.0 will be ignored. Current value: lambda_l2=0.0071307376847169\n",
      "[LightGBM] [Warning] feature_fraction is set=0.5704153462628081, colsample_bytree=1.0 will be ignored. Current value: feature_fraction=0.5704153462628081\n",
      "[LightGBM] [Warning] min_data_in_leaf is set=21, min_child_samples=20 will be ignored. Current value: min_data_in_leaf=21\n",
      "[LightGBM] [Warning] bagging_freq is set=6, subsample_freq=0 will be ignored. Current value: bagging_freq=6\n",
      "148\n",
      "Fold: \u001b[1m\u001b[34m  5\u001b[0m| bll_metric: \u001b[1m\u001b[34m0.20028\u001b[0m | Best iteration: \u001b[1m\u001b[34m 148\u001b[0m\n",
      "[LightGBM] [Warning] early_stopping_round is set=100, early_stopping_rounds=100 will be ignored. Current value: early_stopping_round=100\n",
      "[LightGBM] [Warning] lambda_l1 is set=4.50926587355556e-07, reg_alpha=0.0 will be ignored. Current value: lambda_l1=4.50926587355556e-07\n",
      "[LightGBM] [Warning] lambda_l2 is set=0.0033385230391681, reg_lambda=0.0 will be ignored. Current value: lambda_l2=0.0033385230391681\n",
      "[LightGBM] [Warning] feature_fraction is set=0.5723491283575155, colsample_bytree=1.0 will be ignored. Current value: feature_fraction=0.5723491283575155\n",
      "[LightGBM] [Warning] min_data_in_leaf is set=27, min_child_samples=20 will be ignored. Current value: min_data_in_leaf=27\n",
      "[LightGBM] [Warning] bagging_freq is set=6, subsample_freq=0 will be ignored. Current value: bagging_freq=6\n",
      "405\n",
      "Fold: \u001b[1m\u001b[34m  5\u001b[0m| bll_metric: \u001b[1m\u001b[34m0.21935\u001b[0m | Best iteration: \u001b[1m\u001b[34m 405\u001b[0m\n",
      "[LightGBM] [Warning] early_stopping_round is set=100, early_stopping_rounds=100 will be ignored. Current value: early_stopping_round=100\n",
      "[LightGBM] [Warning] lambda_l1 is set=0.0022695548731446, reg_alpha=0.0 will be ignored. Current value: lambda_l1=0.0022695548731446\n",
      "[LightGBM] [Warning] lambda_l2 is set=1.9128476624358985e-07, reg_lambda=0.0 will be ignored. Current value: lambda_l2=1.9128476624358985e-07\n",
      "[LightGBM] [Warning] feature_fraction is set=0.5871710297107988, colsample_bytree=1.0 will be ignored. Current value: feature_fraction=0.5871710297107988\n",
      "[LightGBM] [Warning] min_data_in_leaf is set=23, min_child_samples=20 will be ignored. Current value: min_data_in_leaf=23\n",
      "[LightGBM] [Warning] bagging_freq is set=4, subsample_freq=0 will be ignored. Current value: bagging_freq=4\n",
      "116\n",
      "Fold: \u001b[1m\u001b[34m  5\u001b[0m| bll_metric: \u001b[1m\u001b[34m0.16582\u001b[0m | Best iteration: \u001b[1m\u001b[34m 116\u001b[0m\n",
      "[LightGBM] [Warning] early_stopping_round is set=100, early_stopping_rounds=100 will be ignored. Current value: early_stopping_round=100\n",
      "[LightGBM] [Warning] lambda_l1 is set=1.7415420055090436e-08, reg_alpha=0.0 will be ignored. Current value: lambda_l1=1.7415420055090436e-08\n",
      "[LightGBM] [Warning] lambda_l2 is set=1.0070647011222098, reg_lambda=0.0 will be ignored. Current value: lambda_l2=1.0070647011222098\n",
      "[LightGBM] [Warning] feature_fraction is set=0.3837390428306599, colsample_bytree=1.0 will be ignored. Current value: feature_fraction=0.3837390428306599\n",
      "[LightGBM] [Warning] min_data_in_leaf is set=20, min_child_samples=20 will be ignored. Current value: min_data_in_leaf=20\n",
      "[LightGBM] [Warning] bagging_freq is set=7, subsample_freq=0 will be ignored. Current value: bagging_freq=7\n"
     ]
    },
    {
     "name": "stderr",
     "output_type": "stream",
     "text": [
      "100%|██████████| 5/5 [00:09<00:00,  1.95s/it]"
     ]
    },
    {
     "name": "stdout",
     "output_type": "stream",
     "text": [
      "61\n",
      "Fold: \u001b[1m\u001b[34m  5\u001b[0m| bll_metric: \u001b[1m\u001b[34m0.28127\u001b[0m | Best iteration: \u001b[1m\u001b[34m  61\u001b[0m\n",
      "[LightGBM] [Warning] early_stopping_round is set=100, early_stopping_rounds=100 will be ignored. Current value: early_stopping_round=100\n",
      "[LightGBM] [Warning] lambda_l1 is set=4.7354234368494895e-05, reg_alpha=0.0 will be ignored. Current value: lambda_l1=4.7354234368494895e-05\n",
      "[LightGBM] [Warning] lambda_l2 is set=0.8805820545093686, reg_lambda=0.0 will be ignored. Current value: lambda_l2=0.8805820545093686\n",
      "[LightGBM] [Warning] feature_fraction is set=0.5271180408273576, colsample_bytree=1.0 will be ignored. Current value: feature_fraction=0.5271180408273576\n",
      "[LightGBM] [Warning] min_data_in_leaf is set=18, min_child_samples=20 will be ignored. Current value: min_data_in_leaf=18\n",
      "[LightGBM] [Warning] bagging_freq is set=6, subsample_freq=0 will be ignored. Current value: bagging_freq=6\n",
      "81\n",
      "Fold: \u001b[1m\u001b[34m  5\u001b[0m| bll_metric: \u001b[1m\u001b[34m0.25729\u001b[0m | Best iteration: \u001b[1m\u001b[34m  81\u001b[0m\n",
      "[LightGBM] [Warning] early_stopping_round is set=100, early_stopping_rounds=100 will be ignored. Current value: early_stopping_round=100\n",
      "[LightGBM] [Warning] lambda_l1 is set=1.3482436811222014e-07, reg_alpha=0.0 will be ignored. Current value: lambda_l1=1.3482436811222014e-07\n",
      "[LightGBM] [Warning] lambda_l2 is set=0.7373887861960127, reg_lambda=0.0 will be ignored. Current value: lambda_l2=0.7373887861960127\n",
      "[LightGBM] [Warning] feature_fraction is set=0.4713034693259386, colsample_bytree=1.0 will be ignored. Current value: feature_fraction=0.4713034693259386\n",
      "[LightGBM] [Warning] min_data_in_leaf is set=15, min_child_samples=20 will be ignored. Current value: min_data_in_leaf=15\n",
      "[LightGBM] [Warning] bagging_freq is set=6, subsample_freq=0 will be ignored. Current value: bagging_freq=6\n",
      "84\n",
      "Fold: \u001b[1m\u001b[34m  5\u001b[0m| bll_metric: \u001b[1m\u001b[34m0.25152\u001b[0m | Best iteration: \u001b[1m\u001b[34m  84\u001b[0m\n",
      "[LightGBM] [Warning] early_stopping_round is set=100, early_stopping_rounds=100 will be ignored. Current value: early_stopping_round=100\n",
      "[LightGBM] [Warning] lambda_l1 is set=0.0495446920165007, reg_alpha=0.0 will be ignored. Current value: lambda_l1=0.0495446920165007\n",
      "[LightGBM] [Warning] lambda_l2 is set=0.0369262951845948, reg_lambda=0.0 will be ignored. Current value: lambda_l2=0.0369262951845948\n",
      "[LightGBM] [Warning] feature_fraction is set=0.5805145967989762, colsample_bytree=1.0 will be ignored. Current value: feature_fraction=0.5805145967989762\n",
      "[LightGBM] [Warning] min_data_in_leaf is set=27, min_child_samples=20 will be ignored. Current value: min_data_in_leaf=27\n",
      "[LightGBM] [Warning] bagging_freq is set=6, subsample_freq=0 will be ignored. Current value: bagging_freq=6\n",
      "99\n",
      "Fold: \u001b[1m\u001b[34m  5\u001b[0m| bll_metric: \u001b[1m\u001b[34m0.20339\u001b[0m | Best iteration: \u001b[1m\u001b[34m  99\u001b[0m\n"
     ]
    },
    {
     "name": "stderr",
     "output_type": "stream",
     "text": [
      "\n"
     ]
    }
   ],
   "source": [
    "def bll_metric(y_true, y_pred):\n",
    "    return 'balanced_log_loss', balanced_log_loss(y_true, y_pred), False\n",
    "\n",
    "def lgbm_training():\n",
    "    # Make random under-sampling to balance classes\n",
    "    positive_count_train = train_df['Class'].value_counts()[1]\n",
    "    sampler = RandomUnderSampler(sampling_strategy={0: positive_count_train, \n",
    "                                                    1: positive_count_train}, \n",
    "                                 random_state=150620231, \n",
    "                                 replacement=True)\n",
    "\n",
    "    X_re, y_re = pd.concat([train_df[features], greeks.iloc[:,1:4]], axis=1), train_df['Class']\n",
    "\n",
    "    if CFG.undersample:\n",
    "        X_re, y_re = sampler.fit_resample(X_re, y_re)\n",
    "    \n",
    "    kf = MultilabelStratifiedKFold(n_splits=CFG.n_stacking_folds, shuffle=True, random_state=8062023+20)\n",
    "\n",
    "    oof_level2 = np.zeros([y_re.shape[0], len(best_lgbm_params) + 1])\n",
    "    oof_level2[:, len(best_lgbm_params)] = y_re\n",
    "    oof_level2_test = np.zeros([test_df.shape[0], len(best_lgbm_params)])\n",
    "\n",
    "    print(f\"Training with {blu}{X_re.shape[1]}{res} features\")\n",
    "\n",
    "    for fold, (fit_idx, val_idx) in tqdm(enumerate(kf.split(X=X_re, y=X_re.iloc[:,-3:]), start = 1),\n",
    "                                         total=CFG.n_stacking_folds):\n",
    "        X, y, test = X_re[features], y_re, test_df[features]\n",
    "        \n",
    "        # Split the dataset according to the fold indexes.\n",
    "        X_train = X.iloc[fit_idx]\n",
    "        X_val = X.iloc[val_idx]\n",
    "        y_train = y.iloc[fit_idx]\n",
    "        y_val = y.iloc[val_idx]\n",
    "\n",
    "        for i, params in enumerate(best_lgbm_params):\n",
    "            \n",
    "            clf = lgb.LGBMClassifier(**params)\n",
    "            clf.fit(X_train, y_train, eval_set=[(X_val, y_val)], \n",
    "                    eval_metric=bll_metric, verbose=-1)\n",
    "\n",
    "            val_preds = clf.predict_proba(X_val)[:,1]\n",
    "            oof_level2[val_idx, i] = val_preds\n",
    "\n",
    "            val_score = balanced_log_loss(y_val, val_preds)\n",
    "            best_iter = clf.best_iteration_\n",
    "\n",
    "            print(clf.best_iteration_)\n",
    "            \n",
    "            print(f'Fold: {blu}{fold:>3}{res}| bll_metric: {blu}{val_score:.5f}{res}'\n",
    "                  f' | Best iteration: {blu}{best_iter:>4}{res}')\n",
    "            \n",
    "            oof_level2_test[:, i] += clf.predict_proba(test)[:,1]\n",
    "        \n",
    "    return oof_level2, oof_level2_test / CFG.n_stacking_folds\n",
    "\n",
    "if CFG.stacking:\n",
    "    oof_level2_lgbm, oof_level2_test_lgbm = lgbm_training()"
   ]
  },
  {
   "cell_type": "markdown",
   "metadata": {},
   "source": [
    "# XGBoost Optuna optimization"
   ]
  },
  {
   "cell_type": "code",
   "execution_count": 2,
   "metadata": {
    "scrolled": true
   },
   "outputs": [],
   "source": [
    "X, y = train_df[features], train_df['Class']\n",
    "\n",
    "def objective(trial):\n",
    "    bll_list = list()\n",
    "\n",
    "    params = {\n",
    "        \"n_estimators\": 3000, # trial.suggest_int('n_estimators', 100, 1000, step=100),\n",
    "        \"random_state\": 14062023,\n",
    "        \"early_stopping_rounds\": 100,\n",
    "        \"verbosity\": 0,\n",
    "        \"objective\": \"binary:logistic\",\n",
    "        \"eval_metric\": \"logloss\",\n",
    "        # use exact for small dataset.\n",
    "        \"tree_method\": \"exact\",\n",
    "        # defines booster, gblinear for linear functions.\n",
    "        \"booster\": trial.suggest_categorical(\"booster\", [\"gbtree\"]),# \"dart\", \"gblinear\"]), \n",
    "        # L1 regularization weight.\n",
    "        \"alpha\": trial.suggest_float(\"alpha\", 1e-8, 1.0, log=True),\n",
    "        # L2 regularization weight.\n",
    "        \"lambda\": trial.suggest_float(\"lambda\", 1e-8, 1.0, log=True),\n",
    "        # sampling ratio for training data.\n",
    "        \"subsample\": trial.suggest_float(\"subsample\", 0.4, 1.0),\n",
    "        # sampling according to each tree.\n",
    "        \"colsample_bytree\": trial.suggest_float(\"colsample_bytree\", 0.4, 1.0),\n",
    "    }\n",
    "\n",
    "    if not CFG.undersample:\n",
    "        params[\"scale_pos_weight\"] = class_imbalance\n",
    "    \n",
    "    if params[\"booster\"] in [\"gbtree\", \"dart\"]:\n",
    "        params[\"learning_rate\"] = trial.suggest_float(\"learning_rate\", 1e-4, 0.1, log=True) # alias eta\n",
    "        # maximum depth of the tree, signifies complexity of the tree.\n",
    "        params[\"max_depth\"] = trial.suggest_int(\"max_depth\", 3, 10)\n",
    "        # minimum child weight, larger the term more conservative the tree.\n",
    "        params[\"min_child_weight\"] = trial.suggest_int(\"min_child_weight\", 2, 10)\n",
    "        # defines how selective algorithm is.\n",
    "        params[\"gamma\"] = trial.suggest_float(\"gamma\", 1e-8, 1.0, log=True)\n",
    "        params[\"grow_policy\"] = trial.suggest_categorical(\"grow_policy\", [\"depthwise\", \"lossguide\"])\n",
    "\n",
    "    if params[\"booster\"] == \"dart\":\n",
    "        params[\"sample_type\"] = trial.suggest_categorical(\"sample_type\", [\"uniform\", \"weighted\"])\n",
    "        params[\"normalize_type\"] = trial.suggest_categorical(\"normalize_type\", [\"tree\", \"forest\"])\n",
    "        params[\"rate_drop\"] = trial.suggest_float(\"rate_drop\", 1e-8, 1.0, log=True)\n",
    "        params[\"skip_drop\"] = trial.suggest_float(\"skip_drop\", 1e-8, 1.0, log=True)\n",
    "\n",
    "    for i in range(CFG.n_optimize_repeats):\n",
    "        print(f'Repeat {blu}#{i+1}')\n",
    "\n",
    "        # Make random under-sampling to balance classes\n",
    "        positive_count_train = train_df['Class'].value_counts()[1]\n",
    "        sampler = RandomUnderSampler(sampling_strategy={0: positive_count_train, \n",
    "                                                        1: positive_count_train}, \n",
    "                                     random_state=15062023+i, \n",
    "                                     replacement=True)\n",
    "\n",
    "        X_re, y_re = pd.concat([train_df[features], greeks.iloc[:,1:4]], axis=1), train_df['Class']\n",
    "        \n",
    "        if CFG.undersample:\n",
    "            X_re, y_re = sampler.fit_resample(X_re, y_re)\n",
    "        \n",
    "        # Create Stratified Multilabel k-Fold scheme\n",
    "        kf = MultilabelStratifiedKFold(n_splits=CFG.n_feature_sel_folds, shuffle=True, random_state=10062023+i)\n",
    "\n",
    "        # Create an oof array for inner loop\n",
    "        oof = np.zeros(X_re.shape[0])\n",
    "\n",
    "        # Stratify based on Class and Alpha (3 types of conditions)\n",
    "        for fold, (train_idx, val_idx) in enumerate(kf.split(X=X_re[features], y=X_re.iloc[:,-3:]), start=1): \n",
    "            X, y = X_re[features], y_re\n",
    "            \n",
    "            # Split the dataset according to the fold indexes.\n",
    "            X_train = X.iloc[train_idx]\n",
    "            X_val = X.iloc[val_idx]\n",
    "            y_train = y.iloc[train_idx]\n",
    "            y_val = y.iloc[val_idx]\n",
    "\n",
    "            # Learning\n",
    "            model = xgb.XGBClassifier(**params)\n",
    "            model.fit(X_train, y_train, eval_set=[(X_val, y_val)], verbose=-1)\n",
    "            # Predict\n",
    "            val_preds = model.predict_proba(X_val)[:,1]\n",
    "            oof[val_idx] = val_preds\n",
    "        \n",
    "        bll_list.append(balanced_log_loss(y_re, oof))    \n",
    "    \n",
    "    return np.mean(bll_list)\n",
    "\n",
    "if CFG.xgb_optimize:\n",
    "    study = optuna.create_study(direction=\"minimize\")\n",
    "    study.optimize(objective, n_trials=CFG.n_trials, )\n",
    "\n",
    "    print(\"Number of finished trials: {}\".format(len(study.trials)))\n",
    "\n",
    "    print(\"Best trial:\")\n",
    "    trial = study.best_trial\n",
    "\n",
    "    print(\"  Value: {}\".format(trial.value))\n",
    "\n",
    "    print(\"  Params: \")\n",
    "    for key, value in trial.params.items():\n",
    "        print(\"    {}: {}\".format(key, value))\n",
    "\n",
    "    df = study.trials_dataframe()\n",
    "    df.sort_values('value').iloc[:, [1] + list(range(5, 14))]\n",
    "    df.to_csv(f'optuna_xgb.csv')"
   ]
  },
  {
   "cell_type": "markdown",
   "metadata": {},
   "source": [
    "# Load XGBoost parameters"
   ]
  },
  {
   "cell_type": "code",
   "execution_count": 24,
   "metadata": {},
   "outputs": [],
   "source": [
    "import glob\n",
    "\n",
    "if CFG.kaggle:\n",
    "    param_list = glob.glob(\"/kaggle/input/icr-optuna-balanced/optuna_xgb.csv\")\n",
    "else:\n",
    "    param_list = glob.glob(\"optuna_xgb.csv\")\n",
    "\n",
    "models = list()\n",
    "best_xb_params = list()\n",
    "\n",
    "xb_params = pd.DataFrame()\n",
    "\n",
    "for f in param_list:\n",
    "    tmp = pd.read_csv(f, index_col='Unnamed: 0')\n",
    "    if xb_params.shape[0] == 0:\n",
    "        xb_params = tmp\n",
    "    else:\n",
    "        xb_params = pd.concat([xb_params, tmp])\n",
    "        \n",
    "xb_params = xb_params.sort_values('value').head(10)\n",
    "param_cols = [c for c in xb_params.columns if c.startswith('params_')]\n",
    "xb_params = xb_params[param_cols]\n",
    "\n",
    "for idx, row in xb_params.iterrows():\n",
    "    row_dict = {k[7:]: v for k, v in row.items()}\n",
    "    row_dict['n_estimators'] = 3000\n",
    "    row_dict['random_state'] = 14062023\n",
    "    row_dict['early_stopping_rounds'] = 100\n",
    "    row_dict['verbosity'] = 0\n",
    "    if not CFG.undersample:\n",
    "        row_dict['scale_pos_weight'] = class_imbalance\n",
    "    row_dict['objective'] = \"binary:logistic\"\n",
    "    row_dict['eval_metric'] = \"logloss\"\n",
    "    row_dict['tree_method'] = \"exact\"\n",
    "    row_dict['booster'] = \"gbtree\"\n",
    "\n",
    "    if row_dict[\"booster\"] in [\"gbtree\", \"dart\"]:\n",
    "        row_dict[\"learning_rate\"] = float(row_dict['learning_rate'])\n",
    "        row_dict[\"max_depth\"] = int(row_dict['max_depth'])\n",
    "        row_dict[\"min_child_weight\"] = float(row_dict['min_child_weight'])\n",
    "        row_dict[\"gamma\"] = float(row_dict['gamma'])\n",
    "    else:\n",
    "        row_dict[\"learning_rate\"] = None\n",
    "        row_dict[\"max_depth\"] = None\n",
    "        row_dict[\"min_child_weight\"] = None\n",
    "        row_dict[\"gamma\"] = None\n",
    "        row_dict[\"grow_policy\"] = None     \n",
    "\n",
    "    if row_dict[\"booster\"] == \"dart\":\n",
    "        row_dict[\"rate_drop\"] = float(row_dict['rate_drop'])\n",
    "        row_dict[\"skip_drop\"] = float(row_dict['skip_drop'])\n",
    "    else:\n",
    "        row_dict[\"sample_type\"] = None\n",
    "        row_dict[\"normalize_type\"] = None\n",
    "        row_dict[\"rate_drop\"] = None\n",
    "        row_dict[\"skip_drop\"] = None\n",
    "\n",
    "    best_xb_params.append(row_dict)"
   ]
  },
  {
   "cell_type": "markdown",
   "metadata": {},
   "source": [
    "# XGBoost train"
   ]
  },
  {
   "cell_type": "code",
   "execution_count": 25,
   "metadata": {
    "scrolled": true
   },
   "outputs": [
    {
     "name": "stdout",
     "output_type": "stream",
     "text": [
      "Training with \u001b[1m\u001b[34m42\u001b[0m features\n"
     ]
    },
    {
     "name": "stderr",
     "output_type": "stream",
     "text": [
      "  0%|          | 0/5 [00:00<?, ?it/s]"
     ]
    },
    {
     "name": "stdout",
     "output_type": "stream",
     "text": [
      "[0]\tvalidation_0-logloss:0.66219\n",
      "[364]\tvalidation_0-logloss:0.18208\n",
      "Fold: \u001b[1m\u001b[34m  1\u001b[0m| bll_metric: \u001b[1m\u001b[34m0.34908\u001b[0m | Best iteration: \u001b[1m\u001b[34m   0\u001b[0m\n",
      "[0]\tvalidation_0-logloss:0.67439\n",
      "[500]\tvalidation_0-logloss:0.18170\n",
      "[702]\tvalidation_0-logloss:0.18164\n",
      "Fold: \u001b[1m\u001b[34m  1\u001b[0m| bll_metric: \u001b[1m\u001b[34m0.33542\u001b[0m | Best iteration: \u001b[1m\u001b[34m   0\u001b[0m\n",
      "[0]\tvalidation_0-logloss:0.66365\n",
      "[370]\tvalidation_0-logloss:0.17372\n",
      "Fold: \u001b[1m\u001b[34m  1\u001b[0m| bll_metric: \u001b[1m\u001b[34m0.32965\u001b[0m | Best iteration: \u001b[1m\u001b[34m   0\u001b[0m\n",
      "[0]\tvalidation_0-logloss:0.66491\n",
      "[500]\tvalidation_0-logloss:0.17641\n",
      "[506]\tvalidation_0-logloss:0.17664\n",
      "Fold: \u001b[1m\u001b[34m  1\u001b[0m| bll_metric: \u001b[1m\u001b[34m0.33003\u001b[0m | Best iteration: \u001b[1m\u001b[34m   0\u001b[0m\n",
      "[0]\tvalidation_0-logloss:0.66888\n",
      "[422]\tvalidation_0-logloss:0.17531\n",
      "Fold: \u001b[1m\u001b[34m  1\u001b[0m| bll_metric: \u001b[1m\u001b[34m0.32483\u001b[0m | Best iteration: \u001b[1m\u001b[34m   0\u001b[0m\n",
      "[0]\tvalidation_0-logloss:0.68071\n",
      "[500]\tvalidation_0-logloss:0.17812\n",
      "[743]\tvalidation_0-logloss:0.17226\n",
      "Fold: \u001b[1m\u001b[34m  1\u001b[0m| bll_metric: \u001b[1m\u001b[34m0.32180\u001b[0m | Best iteration: \u001b[1m\u001b[34m   0\u001b[0m\n",
      "[0]\tvalidation_0-logloss:0.67537\n",
      "[500]\tvalidation_0-logloss:0.17695\n",
      "[701]\tvalidation_0-logloss:0.17612\n",
      "Fold: \u001b[1m\u001b[34m  1\u001b[0m| bll_metric: \u001b[1m\u001b[34m0.32553\u001b[0m | Best iteration: \u001b[1m\u001b[34m   0\u001b[0m\n",
      "[0]\tvalidation_0-logloss:0.67637\n",
      "[500]\tvalidation_0-logloss:0.17761\n",
      "[507]\tvalidation_0-logloss:0.17819\n",
      "Fold: \u001b[1m\u001b[34m  1\u001b[0m| bll_metric: \u001b[1m\u001b[34m0.33853\u001b[0m | Best iteration: \u001b[1m\u001b[34m   0\u001b[0m\n",
      "[0]\tvalidation_0-logloss:0.68095\n",
      "[500]\tvalidation_0-logloss:0.17564\n",
      "[722]\tvalidation_0-logloss:0.17080\n",
      "Fold: \u001b[1m\u001b[34m  1\u001b[0m| bll_metric: \u001b[1m\u001b[34m0.31448\u001b[0m | Best iteration: \u001b[1m\u001b[34m   0\u001b[0m\n",
      "[0]\tvalidation_0-logloss:0.67425\n",
      "[500]\tvalidation_0-logloss:0.18486\n",
      "[701]\tvalidation_0-logloss:0.18668\n"
     ]
    },
    {
     "name": "stderr",
     "output_type": "stream",
     "text": [
      " 20%|██        | 1/5 [00:02<00:11,  2.88s/it]"
     ]
    },
    {
     "name": "stdout",
     "output_type": "stream",
     "text": [
      "Fold: \u001b[1m\u001b[34m  1\u001b[0m| bll_metric: \u001b[1m\u001b[34m0.33909\u001b[0m | Best iteration: \u001b[1m\u001b[34m   0\u001b[0m\n",
      "[0]\tvalidation_0-logloss:0.65007\n",
      "[500]\tvalidation_0-logloss:0.12373\n",
      "[546]\tvalidation_0-logloss:0.12389\n",
      "Fold: \u001b[1m\u001b[34m  2\u001b[0m| bll_metric: \u001b[1m\u001b[34m0.19833\u001b[0m | Best iteration: \u001b[1m\u001b[34m   0\u001b[0m\n",
      "[0]\tvalidation_0-logloss:0.66945\n",
      "[500]\tvalidation_0-logloss:0.12953\n",
      "[842]\tvalidation_0-logloss:0.12402\n",
      "Fold: \u001b[1m\u001b[34m  2\u001b[0m| bll_metric: \u001b[1m\u001b[34m0.19146\u001b[0m | Best iteration: \u001b[1m\u001b[34m   0\u001b[0m\n",
      "[0]\tvalidation_0-logloss:0.65577\n",
      "[500]\tvalidation_0-logloss:0.12474\n",
      "[547]\tvalidation_0-logloss:0.12475\n",
      "Fold: \u001b[1m\u001b[34m  2\u001b[0m| bll_metric: \u001b[1m\u001b[34m0.20484\u001b[0m | Best iteration: \u001b[1m\u001b[34m   0\u001b[0m\n",
      "[0]\tvalidation_0-logloss:0.65411\n",
      "[500]\tvalidation_0-logloss:0.12176\n",
      "[717]\tvalidation_0-logloss:0.12381\n",
      "Fold: \u001b[1m\u001b[34m  2\u001b[0m| bll_metric: \u001b[1m\u001b[34m0.18334\u001b[0m | Best iteration: \u001b[1m\u001b[34m   0\u001b[0m\n",
      "[0]\tvalidation_0-logloss:0.66247\n",
      "[500]\tvalidation_0-logloss:0.12701\n",
      "[552]\tvalidation_0-logloss:0.12684\n",
      "Fold: \u001b[1m\u001b[34m  2\u001b[0m| bll_metric: \u001b[1m\u001b[34m0.20195\u001b[0m | Best iteration: \u001b[1m\u001b[34m   0\u001b[0m\n",
      "[0]\tvalidation_0-logloss:0.67845\n",
      "[500]\tvalidation_0-logloss:0.13795\n",
      "[843]\tvalidation_0-logloss:0.12800\n",
      "Fold: \u001b[1m\u001b[34m  2\u001b[0m| bll_metric: \u001b[1m\u001b[34m0.19045\u001b[0m | Best iteration: \u001b[1m\u001b[34m   0\u001b[0m\n",
      "[0]\tvalidation_0-logloss:0.67064\n",
      "[500]\tvalidation_0-logloss:0.12570\n",
      "[845]\tvalidation_0-logloss:0.12283\n",
      "Fold: \u001b[1m\u001b[34m  2\u001b[0m| bll_metric: \u001b[1m\u001b[34m0.19342\u001b[0m | Best iteration: \u001b[1m\u001b[34m   0\u001b[0m\n",
      "[0]\tvalidation_0-logloss:0.67191\n",
      "[500]\tvalidation_0-logloss:0.12675\n",
      "[814]\tvalidation_0-logloss:0.12359\n",
      "Fold: \u001b[1m\u001b[34m  2\u001b[0m| bll_metric: \u001b[1m\u001b[34m0.18987\u001b[0m | Best iteration: \u001b[1m\u001b[34m   0\u001b[0m\n",
      "[0]\tvalidation_0-logloss:0.67874\n",
      "[500]\tvalidation_0-logloss:0.13850\n",
      "[1000]\tvalidation_0-logloss:0.12612\n",
      "[1494]\tvalidation_0-logloss:0.12338\n",
      "Fold: \u001b[1m\u001b[34m  2\u001b[0m| bll_metric: \u001b[1m\u001b[34m0.18256\u001b[0m | Best iteration: \u001b[1m\u001b[34m   0\u001b[0m\n",
      "[0]\tvalidation_0-logloss:0.66923\n",
      "[500]\tvalidation_0-logloss:0.13333\n",
      "[804]\tvalidation_0-logloss:0.12691\n"
     ]
    },
    {
     "name": "stderr",
     "output_type": "stream",
     "text": [
      " 40%|████      | 2/5 [00:06<00:10,  3.36s/it]"
     ]
    },
    {
     "name": "stdout",
     "output_type": "stream",
     "text": [
      "Fold: \u001b[1m\u001b[34m  2\u001b[0m| bll_metric: \u001b[1m\u001b[34m0.20136\u001b[0m | Best iteration: \u001b[1m\u001b[34m   0\u001b[0m\n",
      "[0]\tvalidation_0-logloss:0.66233\n",
      "[499]\tvalidation_0-logloss:0.12365\n",
      "Fold: \u001b[1m\u001b[34m  3\u001b[0m| bll_metric: \u001b[1m\u001b[34m0.18122\u001b[0m | Best iteration: \u001b[1m\u001b[34m   0\u001b[0m\n",
      "[0]\tvalidation_0-logloss:0.67639\n",
      "[500]\tvalidation_0-logloss:0.13595\n",
      "[889]\tvalidation_0-logloss:0.12627\n",
      "Fold: \u001b[1m\u001b[34m  3\u001b[0m| bll_metric: \u001b[1m\u001b[34m0.18838\u001b[0m | Best iteration: \u001b[1m\u001b[34m   0\u001b[0m\n",
      "[0]\tvalidation_0-logloss:0.66651\n",
      "[500]\tvalidation_0-logloss:0.12722\n",
      "[697]\tvalidation_0-logloss:0.12704\n",
      "Fold: \u001b[1m\u001b[34m  3\u001b[0m| bll_metric: \u001b[1m\u001b[34m0.19741\u001b[0m | Best iteration: \u001b[1m\u001b[34m   0\u001b[0m\n",
      "[0]\tvalidation_0-logloss:0.66521\n",
      "[500]\tvalidation_0-logloss:0.12306\n",
      "[644]\tvalidation_0-logloss:0.12375\n",
      "Fold: \u001b[1m\u001b[34m  3\u001b[0m| bll_metric: \u001b[1m\u001b[34m0.19023\u001b[0m | Best iteration: \u001b[1m\u001b[34m   0\u001b[0m\n",
      "[0]\tvalidation_0-logloss:0.67116\n",
      "[500]\tvalidation_0-logloss:0.13142\n",
      "[595]\tvalidation_0-logloss:0.13227\n",
      "Fold: \u001b[1m\u001b[34m  3\u001b[0m| bll_metric: \u001b[1m\u001b[34m0.19903\u001b[0m | Best iteration: \u001b[1m\u001b[34m   0\u001b[0m\n",
      "[0]\tvalidation_0-logloss:0.68166\n",
      "[500]\tvalidation_0-logloss:0.14758\n",
      "[1000]\tvalidation_0-logloss:0.12672\n",
      "[1208]\tvalidation_0-logloss:0.12696\n",
      "Fold: \u001b[1m\u001b[34m  3\u001b[0m| bll_metric: \u001b[1m\u001b[34m0.18931\u001b[0m | Best iteration: \u001b[1m\u001b[34m   0\u001b[0m\n",
      "[0]\tvalidation_0-logloss:0.67698\n",
      "[500]\tvalidation_0-logloss:0.13854\n",
      "[1000]\tvalidation_0-logloss:0.12154\n",
      "[1099]\tvalidation_0-logloss:0.12151\n",
      "Fold: \u001b[1m\u001b[34m  3\u001b[0m| bll_metric: \u001b[1m\u001b[34m0.18183\u001b[0m | Best iteration: \u001b[1m\u001b[34m   0\u001b[0m\n",
      "[0]\tvalidation_0-logloss:0.67763\n",
      "[500]\tvalidation_0-logloss:0.13752\n",
      "[888]\tvalidation_0-logloss:0.13023\n",
      "Fold: \u001b[1m\u001b[34m  3\u001b[0m| bll_metric: \u001b[1m\u001b[34m0.19662\u001b[0m | Best iteration: \u001b[1m\u001b[34m   0\u001b[0m\n",
      "[0]\tvalidation_0-logloss:0.68188\n",
      "[500]\tvalidation_0-logloss:0.14816\n",
      "[1000]\tvalidation_0-logloss:0.12673\n",
      "[1208]\tvalidation_0-logloss:0.12610\n",
      "Fold: \u001b[1m\u001b[34m  3\u001b[0m| bll_metric: \u001b[1m\u001b[34m0.19139\u001b[0m | Best iteration: \u001b[1m\u001b[34m   0\u001b[0m\n",
      "[0]\tvalidation_0-logloss:0.67597\n",
      "[500]\tvalidation_0-logloss:0.13872\n",
      "[888]\tvalidation_0-logloss:0.12819\n"
     ]
    },
    {
     "name": "stderr",
     "output_type": "stream",
     "text": [
      " 60%|██████    | 3/5 [00:10<00:07,  3.55s/it]"
     ]
    },
    {
     "name": "stdout",
     "output_type": "stream",
     "text": [
      "Fold: \u001b[1m\u001b[34m  3\u001b[0m| bll_metric: \u001b[1m\u001b[34m0.19090\u001b[0m | Best iteration: \u001b[1m\u001b[34m   0\u001b[0m\n",
      "[0]\tvalidation_0-logloss:0.65867\n",
      "[500]\tvalidation_0-logloss:0.10497\n",
      "[693]\tvalidation_0-logloss:0.10328\n",
      "Fold: \u001b[1m\u001b[34m  4\u001b[0m| bll_metric: \u001b[1m\u001b[34m0.13913\u001b[0m | Best iteration: \u001b[1m\u001b[34m   0\u001b[0m\n",
      "[0]\tvalidation_0-logloss:0.67416\n",
      "[500]\tvalidation_0-logloss:0.12597\n",
      "[694]\tvalidation_0-logloss:0.12270\n",
      "Fold: \u001b[1m\u001b[34m  4\u001b[0m| bll_metric: \u001b[1m\u001b[34m0.16084\u001b[0m | Best iteration: \u001b[1m\u001b[34m   0\u001b[0m\n",
      "[0]\tvalidation_0-logloss:0.66371\n",
      "[500]\tvalidation_0-logloss:0.12332\n",
      "[685]\tvalidation_0-logloss:0.12081\n",
      "Fold: \u001b[1m\u001b[34m  4\u001b[0m| bll_metric: \u001b[1m\u001b[34m0.14992\u001b[0m | Best iteration: \u001b[1m\u001b[34m   0\u001b[0m\n",
      "[0]\tvalidation_0-logloss:0.66299\n",
      "[500]\tvalidation_0-logloss:0.11479\n",
      "[694]\tvalidation_0-logloss:0.11461\n",
      "Fold: \u001b[1m\u001b[34m  4\u001b[0m| bll_metric: \u001b[1m\u001b[34m0.16370\u001b[0m | Best iteration: \u001b[1m\u001b[34m   0\u001b[0m\n",
      "[0]\tvalidation_0-logloss:0.66858\n",
      "[500]\tvalidation_0-logloss:0.12069\n",
      "[695]\tvalidation_0-logloss:0.11951\n",
      "Fold: \u001b[1m\u001b[34m  4\u001b[0m| bll_metric: \u001b[1m\u001b[34m0.15670\u001b[0m | Best iteration: \u001b[1m\u001b[34m   0\u001b[0m\n",
      "[0]\tvalidation_0-logloss:0.68083\n",
      "[500]\tvalidation_0-logloss:0.14096\n",
      "[950]\tvalidation_0-logloss:0.12509\n",
      "Fold: \u001b[1m\u001b[34m  4\u001b[0m| bll_metric: \u001b[1m\u001b[34m0.16792\u001b[0m | Best iteration: \u001b[1m\u001b[34m   0\u001b[0m\n",
      "[0]\tvalidation_0-logloss:0.67541\n",
      "[500]\tvalidation_0-logloss:0.12711\n",
      "[695]\tvalidation_0-logloss:0.12395\n",
      "Fold: \u001b[1m\u001b[34m  4\u001b[0m| bll_metric: \u001b[1m\u001b[34m0.16966\u001b[0m | Best iteration: \u001b[1m\u001b[34m   0\u001b[0m\n",
      "[0]\tvalidation_0-logloss:0.67653\n",
      "[500]\tvalidation_0-logloss:0.13533\n",
      "[699]\tvalidation_0-logloss:0.13299\n",
      "Fold: \u001b[1m\u001b[34m  4\u001b[0m| bll_metric: \u001b[1m\u001b[34m0.18129\u001b[0m | Best iteration: \u001b[1m\u001b[34m   0\u001b[0m\n",
      "[0]\tvalidation_0-logloss:0.68107\n",
      "[500]\tvalidation_0-logloss:0.13586\n",
      "[940]\tvalidation_0-logloss:0.12001\n",
      "Fold: \u001b[1m\u001b[34m  4\u001b[0m| bll_metric: \u001b[1m\u001b[34m0.16392\u001b[0m | Best iteration: \u001b[1m\u001b[34m   0\u001b[0m\n",
      "[0]\tvalidation_0-logloss:0.67430\n",
      "[500]\tvalidation_0-logloss:0.12594\n",
      "[695]\tvalidation_0-logloss:0.12307\n"
     ]
    },
    {
     "name": "stderr",
     "output_type": "stream",
     "text": [
      " 80%|████████  | 4/5 [00:13<00:03,  3.47s/it]"
     ]
    },
    {
     "name": "stdout",
     "output_type": "stream",
     "text": [
      "Fold: \u001b[1m\u001b[34m  4\u001b[0m| bll_metric: \u001b[1m\u001b[34m0.16591\u001b[0m | Best iteration: \u001b[1m\u001b[34m   0\u001b[0m\n",
      "[0]\tvalidation_0-logloss:0.66041\n",
      "[237]\tvalidation_0-logloss:0.20339\n",
      "Fold: \u001b[1m\u001b[34m  5\u001b[0m| bll_metric: \u001b[1m\u001b[34m0.26082\u001b[0m | Best iteration: \u001b[1m\u001b[34m   0\u001b[0m\n",
      "[0]\tvalidation_0-logloss:0.67509\n",
      "[500]\tvalidation_0-logloss:0.19308\n",
      "[525]\tvalidation_0-logloss:0.19193\n",
      "Fold: \u001b[1m\u001b[34m  5\u001b[0m| bll_metric: \u001b[1m\u001b[34m0.25642\u001b[0m | Best iteration: \u001b[1m\u001b[34m   0\u001b[0m\n",
      "[0]\tvalidation_0-logloss:0.66742\n",
      "[454]\tvalidation_0-logloss:0.18719\n",
      "Fold: \u001b[1m\u001b[34m  5\u001b[0m| bll_metric: \u001b[1m\u001b[34m0.24489\u001b[0m | Best iteration: \u001b[1m\u001b[34m   0\u001b[0m\n",
      "[0]\tvalidation_0-logloss:0.66341\n",
      "[240]\tvalidation_0-logloss:0.19285\n",
      "Fold: \u001b[1m\u001b[34m  5\u001b[0m| bll_metric: \u001b[1m\u001b[34m0.24829\u001b[0m | Best iteration: \u001b[1m\u001b[34m   0\u001b[0m\n",
      "[0]\tvalidation_0-logloss:0.66979\n",
      "[362]\tvalidation_0-logloss:0.18405\n",
      "Fold: \u001b[1m\u001b[34m  5\u001b[0m| bll_metric: \u001b[1m\u001b[34m0.24012\u001b[0m | Best iteration: \u001b[1m\u001b[34m   0\u001b[0m\n",
      "[0]\tvalidation_0-logloss:0.68118\n",
      "[500]\tvalidation_0-logloss:0.18781\n",
      "[823]\tvalidation_0-logloss:0.18464\n",
      "Fold: \u001b[1m\u001b[34m  5\u001b[0m| bll_metric: \u001b[1m\u001b[34m0.25203\u001b[0m | Best iteration: \u001b[1m\u001b[34m   0\u001b[0m\n",
      "[0]\tvalidation_0-logloss:0.67763\n",
      "[500]\tvalidation_0-logloss:0.19335\n",
      "[566]\tvalidation_0-logloss:0.19333\n",
      "Fold: \u001b[1m\u001b[34m  5\u001b[0m| bll_metric: \u001b[1m\u001b[34m0.26747\u001b[0m | Best iteration: \u001b[1m\u001b[34m   0\u001b[0m\n",
      "[0]\tvalidation_0-logloss:0.67703\n",
      "[439]\tvalidation_0-logloss:0.18604\n",
      "Fold: \u001b[1m\u001b[34m  5\u001b[0m| bll_metric: \u001b[1m\u001b[34m0.25342\u001b[0m | Best iteration: \u001b[1m\u001b[34m   0\u001b[0m\n",
      "[0]\tvalidation_0-logloss:0.68141\n",
      "[500]\tvalidation_0-logloss:0.18781\n",
      "[768]\tvalidation_0-logloss:0.18690\n",
      "Fold: \u001b[1m\u001b[34m  5\u001b[0m| bll_metric: \u001b[1m\u001b[34m0.25835\u001b[0m | Best iteration: \u001b[1m\u001b[34m   0\u001b[0m\n",
      "[0]\tvalidation_0-logloss:0.67666\n",
      "[500]\tvalidation_0-logloss:0.19084\n",
      "[525]\tvalidation_0-logloss:0.19046\n"
     ]
    },
    {
     "name": "stderr",
     "output_type": "stream",
     "text": [
      "100%|██████████| 5/5 [00:16<00:00,  3.22s/it]"
     ]
    },
    {
     "name": "stdout",
     "output_type": "stream",
     "text": [
      "Fold: \u001b[1m\u001b[34m  5\u001b[0m| bll_metric: \u001b[1m\u001b[34m0.25916\u001b[0m | Best iteration: \u001b[1m\u001b[34m   0\u001b[0m\n"
     ]
    },
    {
     "name": "stderr",
     "output_type": "stream",
     "text": [
      "\n"
     ]
    }
   ],
   "source": [
    "def bll_metric(y_true, y_pred):\n",
    "    return 'balanced_log_loss', balanced_log_loss(y_true, y_pred), False\n",
    "\n",
    "def xgboost_training():\n",
    "    # Make random under-sampling to balance classes\n",
    "    positive_count_train = train_df['Class'].value_counts()[1]\n",
    "    sampler = RandomUnderSampler(sampling_strategy={0: positive_count_train, \n",
    "                                                    1: positive_count_train}, \n",
    "                                 random_state=150620232, \n",
    "                                 replacement=True)\n",
    "\n",
    "    X_re, y_re = pd.concat([train_df[features], greeks.iloc[:,1:4]], axis=1), train_df['Class']\n",
    "\n",
    "    if CFG.undersample:\n",
    "        X_re, y_re = sampler.fit_resample(X_re, y_re)\n",
    "    \n",
    "    kf = MultilabelStratifiedKFold(n_splits=CFG.n_stacking_folds, shuffle=True, random_state=8062023+20)\n",
    "\n",
    "    oof_level2 = np.zeros([y_re.shape[0], len(best_xb_params) + 1])\n",
    "    oof_level2[:, len(best_xb_params)] = y_re\n",
    "    oof_level2_test = np.zeros([test_df.shape[0], len(best_xb_params)])\n",
    "\n",
    "    print(f\"Training with {blu}{X_re.shape[1]}{res} features\")\n",
    "\n",
    "    for fold, (fit_idx, val_idx) in tqdm(enumerate(kf.split(X=X_re, y=X_re.iloc[:,-3:]), start = 1),\n",
    "                                         total=CFG.n_stacking_folds):\n",
    "        X, y, test = X_re[features], y_re, test_df[features]\n",
    "        \n",
    "        # Split the dataset according to the fold indexes.\n",
    "        X_train = X.iloc[fit_idx]\n",
    "        X_val = X.iloc[val_idx]\n",
    "        y_train = y.iloc[fit_idx]\n",
    "        y_val = y.iloc[val_idx]\n",
    "\n",
    "        for i, params in enumerate(best_xb_params):\n",
    "            clf = xgb.XGBClassifier(**params)\n",
    "            \n",
    "            clf.fit(X_train, y_train, eval_set=[(X_val, y_val)], verbose=500)\n",
    "\n",
    "            val_preds = clf.predict_proba(X_val)[:,1]\n",
    "            oof_level2[val_idx, i] = val_preds\n",
    "\n",
    "            val_score = balanced_log_loss(y_val, val_preds)\n",
    "            best_iter = 0\n",
    "\n",
    "#             print(clf.best_iteration_)\n",
    "            \n",
    "            print(f'Fold: {blu}{fold:>3}{res}| bll_metric: {blu}{val_score:.5f}{res}'\n",
    "                  f' | Best iteration: {blu}{best_iter:>4}{res}')\n",
    "        \n",
    "            oof_level2_test[:, i] += clf.predict_proba(test)[:,1]\n",
    "        \n",
    "    return oof_level2, oof_level2_test / CFG.n_stacking_folds\n",
    "\n",
    "if CFG.stacking:\n",
    "    oof_level2_xgb, oof_level2_test_xgb = xgboost_training()"
   ]
  },
  {
   "cell_type": "markdown",
   "metadata": {},
   "source": [
    "# CatBoost Optuna optimization"
   ]
  },
  {
   "cell_type": "code",
   "execution_count": 27,
   "metadata": {
    "scrolled": true
   },
   "outputs": [
    {
     "name": "stderr",
     "output_type": "stream",
     "text": [
      "[I 2023-06-17 13:10:58,822] A new study created in memory with name: no-name-c87b8252-e082-4e0b-b220-85b52f01ce05\n"
     ]
    },
    {
     "name": "stdout",
     "output_type": "stream",
     "text": [
      "Repeat \u001b[1m\u001b[34m#1\n",
      "Repeat \u001b[1m\u001b[34m#2\n",
      "Repeat \u001b[1m\u001b[34m#3\n"
     ]
    },
    {
     "name": "stderr",
     "output_type": "stream",
     "text": [
      "[I 2023-06-17 13:11:54,285] Trial 0 finished with value: 0.4586003831992383 and parameters: {'bootstrap_type': 'Bernoulli', 'grow_policy': 'Lossguide', 'learning_rate': 0.000576127126816254, 'l2_leaf_reg': 2.6217095180502676e-07, 'depth': 8, 'random_strength': 31.578155309357737, 'min_data_in_leaf': 70, 'subsample': 0.7365470338522784, 'max_leaves': 52}. Best is trial 0 with value: 0.4586003831992383.\n"
     ]
    },
    {
     "name": "stdout",
     "output_type": "stream",
     "text": [
      "Repeat \u001b[1m\u001b[34m#1\n",
      "Repeat \u001b[1m\u001b[34m#2\n",
      "Repeat \u001b[1m\u001b[34m#3\n"
     ]
    },
    {
     "name": "stderr",
     "output_type": "stream",
     "text": [
      "[I 2023-06-17 13:12:05,861] Trial 1 finished with value: 0.3127849283364377 and parameters: {'bootstrap_type': 'MVS', 'grow_policy': 'Lossguide', 'learning_rate': 0.020207029181566565, 'l2_leaf_reg': 1.042276767814722e-05, 'depth': 9, 'random_strength': 62.614500204487925, 'min_data_in_leaf': 58, 'max_leaves': 100}. Best is trial 1 with value: 0.3127849283364377.\n"
     ]
    },
    {
     "name": "stdout",
     "output_type": "stream",
     "text": [
      "Repeat \u001b[1m\u001b[34m#1\n",
      "Repeat \u001b[1m\u001b[34m#2\n",
      "Repeat \u001b[1m\u001b[34m#3\n"
     ]
    },
    {
     "name": "stderr",
     "output_type": "stream",
     "text": [
      "[I 2023-06-17 13:12:06,815] Trial 2 finished with value: 0.688197674860151 and parameters: {'bootstrap_type': 'Bayesian', 'grow_policy': 'SymmetricTree', 'learning_rate': 0.26443110662104086, 'l2_leaf_reg': 14.648595687089468, 'depth': 7, 'random_strength': 83.16118076157919, 'min_data_in_leaf': 50, 'bagging_temperature': 90.74763623025, 'boosting_type': 'Plain'}. Best is trial 1 with value: 0.3127849283364377.\n"
     ]
    },
    {
     "name": "stdout",
     "output_type": "stream",
     "text": [
      "Repeat \u001b[1m\u001b[34m#1\n",
      "Repeat \u001b[1m\u001b[34m#2\n",
      "Repeat \u001b[1m\u001b[34m#3\n"
     ]
    },
    {
     "name": "stderr",
     "output_type": "stream",
     "text": [
      "[I 2023-06-17 13:12:07,578] Trial 3 finished with value: 0.6946732653380163 and parameters: {'bootstrap_type': 'Bayesian', 'grow_policy': 'Depthwise', 'learning_rate': 0.28992691699985057, 'l2_leaf_reg': 0.00793473844732093, 'depth': 6, 'random_strength': 0.46470803217336654, 'min_data_in_leaf': 30, 'bagging_temperature': 79.23232829781848}. Best is trial 1 with value: 0.3127849283364377.\n"
     ]
    },
    {
     "name": "stdout",
     "output_type": "stream",
     "text": [
      "Repeat \u001b[1m\u001b[34m#1\n",
      "Repeat \u001b[1m\u001b[34m#2\n",
      "Repeat \u001b[1m\u001b[34m#3\n"
     ]
    },
    {
     "name": "stderr",
     "output_type": "stream",
     "text": [
      "[I 2023-06-17 13:27:29,592] Trial 4 finished with value: 0.5145143040702059 and parameters: {'bootstrap_type': 'Bernoulli', 'grow_policy': 'SymmetricTree', 'learning_rate': 0.004892316634502927, 'l2_leaf_reg': 8.336332448651598e-05, 'depth': 10, 'random_strength': 32.5182902055966, 'min_data_in_leaf': 20, 'subsample': 0.825003041634855, 'boosting_type': 'Ordered'}. Best is trial 1 with value: 0.3127849283364377.\n"
     ]
    },
    {
     "name": "stdout",
     "output_type": "stream",
     "text": [
      "Repeat \u001b[1m\u001b[34m#1\n",
      "Repeat \u001b[1m\u001b[34m#2\n",
      "Repeat \u001b[1m\u001b[34m#3\n"
     ]
    },
    {
     "name": "stderr",
     "output_type": "stream",
     "text": [
      "[I 2023-06-17 13:27:31,897] Trial 5 finished with value: 0.6929295381449663 and parameters: {'bootstrap_type': 'Bayesian', 'grow_policy': 'Depthwise', 'learning_rate': 0.00011153948001601048, 'l2_leaf_reg': 0.6180357051565283, 'depth': 4, 'random_strength': 46.39598165554628, 'min_data_in_leaf': 65, 'bagging_temperature': 55.08744096252958}. Best is trial 1 with value: 0.3127849283364377.\n"
     ]
    },
    {
     "name": "stdout",
     "output_type": "stream",
     "text": [
      "Repeat \u001b[1m\u001b[34m#1\n",
      "Repeat \u001b[1m\u001b[34m#2\n",
      "Repeat \u001b[1m\u001b[34m#3\n"
     ]
    },
    {
     "name": "stderr",
     "output_type": "stream",
     "text": [
      "[I 2023-06-17 13:27:48,982] Trial 6 finished with value: 0.2690358997075624 and parameters: {'bootstrap_type': 'MVS', 'grow_policy': 'Lossguide', 'learning_rate': 0.010382090867936566, 'l2_leaf_reg': 0.000313888825032345, 'depth': 9, 'random_strength': 39.710475786803414, 'min_data_in_leaf': 94, 'max_leaves': 45}. Best is trial 6 with value: 0.2690358997075624.\n"
     ]
    },
    {
     "name": "stdout",
     "output_type": "stream",
     "text": [
      "Repeat \u001b[1m\u001b[34m#1\n",
      "Repeat \u001b[1m\u001b[34m#2\n",
      "Repeat \u001b[1m\u001b[34m#3\n"
     ]
    },
    {
     "name": "stderr",
     "output_type": "stream",
     "text": [
      "[I 2023-06-17 13:28:00,488] Trial 7 finished with value: 0.250969124853793 and parameters: {'bootstrap_type': 'Bernoulli', 'grow_policy': 'Lossguide', 'learning_rate': 0.03792238372389452, 'l2_leaf_reg': 2.8851989132152167, 'depth': 6, 'random_strength': 66.66643591027142, 'min_data_in_leaf': 40, 'subsample': 0.5864368036996026, 'max_leaves': 127}. Best is trial 7 with value: 0.250969124853793.\n"
     ]
    },
    {
     "name": "stdout",
     "output_type": "stream",
     "text": [
      "Repeat \u001b[1m\u001b[34m#1\n",
      "Repeat \u001b[1m\u001b[34m#2\n",
      "Repeat \u001b[1m\u001b[34m#3\n"
     ]
    },
    {
     "name": "stderr",
     "output_type": "stream",
     "text": [
      "[I 2023-06-17 13:28:13,864] Trial 8 finished with value: 0.2877861486274849 and parameters: {'bootstrap_type': 'MVS', 'grow_policy': 'Depthwise', 'learning_rate': 0.01690937513041794, 'l2_leaf_reg': 7.148114187529895e-05, 'depth': 9, 'random_strength': 64.29803611154976, 'min_data_in_leaf': 56}. Best is trial 7 with value: 0.250969124853793.\n"
     ]
    },
    {
     "name": "stdout",
     "output_type": "stream",
     "text": [
      "Repeat \u001b[1m\u001b[34m#1\n",
      "Repeat \u001b[1m\u001b[34m#2\n",
      "Repeat \u001b[1m\u001b[34m#3\n"
     ]
    },
    {
     "name": "stderr",
     "output_type": "stream",
     "text": [
      "[I 2023-06-17 13:29:00,760] Trial 9 finished with value: 0.402279525214882 and parameters: {'bootstrap_type': 'Bernoulli', 'grow_policy': 'Lossguide', 'learning_rate': 0.0009389684155574891, 'l2_leaf_reg': 2.5819085290614177e-08, 'depth': 9, 'random_strength': 23.71827794666367, 'min_data_in_leaf': 76, 'subsample': 0.6914607638300148, 'max_leaves': 28}. Best is trial 7 with value: 0.250969124853793.\n"
     ]
    },
    {
     "name": "stdout",
     "output_type": "stream",
     "text": [
      "Repeat \u001b[1m\u001b[34m#1\n",
      "Repeat \u001b[1m\u001b[34m#2\n",
      "Repeat \u001b[1m\u001b[34m#3\n"
     ]
    },
    {
     "name": "stderr",
     "output_type": "stream",
     "text": [
      "[I 2023-06-17 13:29:06,664] Trial 10 finished with value: 0.24656415415736843 and parameters: {'bootstrap_type': 'Bernoulli', 'grow_policy': 'Lossguide', 'learning_rate': 0.09024294974178901, 'l2_leaf_reg': 15.746926484385773, 'depth': 5, 'random_strength': 94.5204213681874, 'min_data_in_leaf': 34, 'subsample': 0.36724761974810133, 'max_leaves': 115}. Best is trial 10 with value: 0.24656415415736843.\n"
     ]
    },
    {
     "name": "stdout",
     "output_type": "stream",
     "text": [
      "Repeat \u001b[1m\u001b[34m#1\n",
      "Repeat \u001b[1m\u001b[34m#2\n",
      "Repeat \u001b[1m\u001b[34m#3\n"
     ]
    },
    {
     "name": "stderr",
     "output_type": "stream",
     "text": [
      "[I 2023-06-17 13:29:17,666] Trial 11 finished with value: 0.2404809255370243 and parameters: {'bootstrap_type': 'Bernoulli', 'grow_policy': 'Lossguide', 'learning_rate': 0.06086218143704863, 'l2_leaf_reg': 42.62882005266067, 'depth': 5, 'random_strength': 98.90999236077535, 'min_data_in_leaf': 35, 'subsample': 0.36194946364262015, 'max_leaves': 122}. Best is trial 11 with value: 0.2404809255370243.\n"
     ]
    },
    {
     "name": "stdout",
     "output_type": "stream",
     "text": [
      "Repeat \u001b[1m\u001b[34m#1\n",
      "Repeat \u001b[1m\u001b[34m#2\n",
      "Repeat \u001b[1m\u001b[34m#3\n"
     ]
    },
    {
     "name": "stderr",
     "output_type": "stream",
     "text": [
      "[I 2023-06-17 13:29:32,704] Trial 12 finished with value: 0.2413769050130183 and parameters: {'bootstrap_type': 'Bernoulli', 'grow_policy': 'Lossguide', 'learning_rate': 0.07566300903355634, 'l2_leaf_reg': 98.65603427416072, 'depth': 4, 'random_strength': 98.360650186386, 'min_data_in_leaf': 15, 'subsample': 0.32064396496378145, 'max_leaves': 97}. Best is trial 11 with value: 0.2404809255370243.\n"
     ]
    },
    {
     "name": "stdout",
     "output_type": "stream",
     "text": [
      "Repeat \u001b[1m\u001b[34m#1\n",
      "Repeat \u001b[1m\u001b[34m#2\n",
      "Repeat \u001b[1m\u001b[34m#3\n"
     ]
    },
    {
     "name": "stderr",
     "output_type": "stream",
     "text": [
      "[I 2023-06-17 13:29:51,704] Trial 13 finished with value: 0.24579856367623124 and parameters: {'bootstrap_type': 'Bernoulli', 'grow_policy': 'Lossguide', 'learning_rate': 0.06834918585442311, 'l2_leaf_reg': 88.9466031378007, 'depth': 4, 'random_strength': 98.37043043903377, 'min_data_in_leaf': 8, 'subsample': 0.30858674449466117, 'max_leaves': 82}. Best is trial 11 with value: 0.2404809255370243.\n"
     ]
    },
    {
     "name": "stdout",
     "output_type": "stream",
     "text": [
      "Repeat \u001b[1m\u001b[34m#1\n",
      "Repeat \u001b[1m\u001b[34m#2\n",
      "Repeat \u001b[1m\u001b[34m#3\n"
     ]
    },
    {
     "name": "stderr",
     "output_type": "stream",
     "text": [
      "[I 2023-06-17 13:29:58,652] Trial 14 finished with value: 0.3072379891604804 and parameters: {'bootstrap_type': 'Bernoulli', 'grow_policy': 'Lossguide', 'learning_rate': 0.09163324885786257, 'l2_leaf_reg': 0.14404397505855757, 'depth': 5, 'random_strength': 84.86828802321074, 'min_data_in_leaf': 7, 'subsample': 0.4529278974397179, 'max_leaves': 89}. Best is trial 11 with value: 0.2404809255370243.\n"
     ]
    },
    {
     "name": "stdout",
     "output_type": "stream",
     "text": [
      "Repeat \u001b[1m\u001b[34m#1\n",
      "Repeat \u001b[1m\u001b[34m#2\n",
      "Repeat \u001b[1m\u001b[34m#3\n"
     ]
    },
    {
     "name": "stderr",
     "output_type": "stream",
     "text": [
      "[I 2023-06-17 13:30:04,428] Trial 15 finished with value: 0.3208605935230037 and parameters: {'bootstrap_type': 'Bernoulli', 'grow_policy': 'SymmetricTree', 'learning_rate': 0.04790286422785495, 'l2_leaf_reg': 0.08491834202839263, 'depth': 5, 'random_strength': 99.9586619990256, 'min_data_in_leaf': 22, 'subsample': 0.49354013803304925, 'boosting_type': 'Plain'}. Best is trial 11 with value: 0.2404809255370243.\n"
     ]
    },
    {
     "name": "stdout",
     "output_type": "stream",
     "text": [
      "Repeat \u001b[1m\u001b[34m#1\n",
      "Repeat \u001b[1m\u001b[34m#2\n",
      "Repeat \u001b[1m\u001b[34m#3\n"
     ]
    },
    {
     "name": "stderr",
     "output_type": "stream",
     "text": [
      "[I 2023-06-17 13:30:44,837] Trial 16 finished with value: 0.2520410247846104 and parameters: {'bootstrap_type': 'Bernoulli', 'grow_policy': 'Lossguide', 'learning_rate': 0.007396493323129685, 'l2_leaf_reg': 58.07087662261199, 'depth': 4, 'random_strength': 78.56646711209001, 'min_data_in_leaf': 20, 'subsample': 0.30458380912356503, 'max_leaves': 106}. Best is trial 11 with value: 0.2404809255370243.\n"
     ]
    },
    {
     "name": "stdout",
     "output_type": "stream",
     "text": [
      "Repeat \u001b[1m\u001b[34m#1\n",
      "Repeat \u001b[1m\u001b[34m#2\n",
      "Repeat \u001b[1m\u001b[34m#3\n"
     ]
    },
    {
     "name": "stderr",
     "output_type": "stream",
     "text": [
      "[I 2023-06-17 13:30:48,871] Trial 17 finished with value: 0.25058309573438414 and parameters: {'bootstrap_type': 'Bernoulli', 'grow_policy': 'Lossguide', 'learning_rate': 0.15887511525020434, 'l2_leaf_reg': 1.5441725502838006, 'depth': 6, 'random_strength': 89.7532176891838, 'min_data_in_leaf': 41, 'subsample': 0.4556521544260381, 'max_leaves': 70}. Best is trial 11 with value: 0.2404809255370243.\n"
     ]
    },
    {
     "name": "stdout",
     "output_type": "stream",
     "text": [
      "Repeat \u001b[1m\u001b[34m#1\n",
      "Repeat \u001b[1m\u001b[34m#2\n",
      "Repeat \u001b[1m\u001b[34m#3\n"
     ]
    },
    {
     "name": "stderr",
     "output_type": "stream",
     "text": [
      "[I 2023-06-17 13:32:38,287] Trial 18 finished with value: 0.3666526009145287 and parameters: {'bootstrap_type': 'Bayesian', 'grow_policy': 'SymmetricTree', 'learning_rate': 0.031895387895263784, 'l2_leaf_reg': 0.027061251462701264, 'depth': 7, 'random_strength': 76.0566534008982, 'min_data_in_leaf': 13, 'bagging_temperature': 1.725633387798375, 'boosting_type': 'Ordered'}. Best is trial 11 with value: 0.2404809255370243.\n"
     ]
    },
    {
     "name": "stdout",
     "output_type": "stream",
     "text": [
      "Repeat \u001b[1m\u001b[34m#1\n",
      "Repeat \u001b[1m\u001b[34m#2\n",
      "Repeat \u001b[1m\u001b[34m#3\n"
     ]
    },
    {
     "name": "stderr",
     "output_type": "stream",
     "text": [
      "[I 2023-06-17 13:32:42,707] Trial 19 finished with value: 0.33969842534951233 and parameters: {'bootstrap_type': 'MVS', 'grow_policy': 'Depthwise', 'learning_rate': 0.12805020382791646, 'l2_leaf_reg': 0.005267448550843904, 'depth': 5, 'random_strength': 90.32270550160199, 'min_data_in_leaf': 26}. Best is trial 11 with value: 0.2404809255370243.\n"
     ]
    },
    {
     "name": "stdout",
     "output_type": "stream",
     "text": [
      "Repeat \u001b[1m\u001b[34m#1\n",
      "Repeat \u001b[1m\u001b[34m#2\n",
      "Repeat \u001b[1m\u001b[34m#3\n"
     ]
    },
    {
     "name": "stderr",
     "output_type": "stream",
     "text": [
      "[I 2023-06-17 13:32:50,593] Trial 20 finished with value: 0.25295780730082557 and parameters: {'bootstrap_type': 'Bernoulli', 'grow_policy': 'Lossguide', 'learning_rate': 0.04031236631270253, 'l2_leaf_reg': 3.1781605606743146, 'depth': 4, 'random_strength': 73.54853559151894, 'min_data_in_leaf': 45, 'subsample': 0.9639346104278922, 'max_leaves': 126}. Best is trial 11 with value: 0.2404809255370243.\n"
     ]
    },
    {
     "name": "stdout",
     "output_type": "stream",
     "text": [
      "Repeat \u001b[1m\u001b[34m#1\n",
      "Repeat \u001b[1m\u001b[34m#2\n",
      "Repeat \u001b[1m\u001b[34m#3\n"
     ]
    },
    {
     "name": "stderr",
     "output_type": "stream",
     "text": [
      "[I 2023-06-17 13:33:11,048] Trial 21 finished with value: 0.23586164551636424 and parameters: {'bootstrap_type': 'Bernoulli', 'grow_policy': 'Lossguide', 'learning_rate': 0.06749779690354259, 'l2_leaf_reg': 82.07401403116845, 'depth': 4, 'random_strength': 97.9003784840951, 'min_data_in_leaf': 5, 'subsample': 0.306661906778121, 'max_leaves': 81}. Best is trial 21 with value: 0.23586164551636424.\n"
     ]
    },
    {
     "name": "stdout",
     "output_type": "stream",
     "text": [
      "Repeat \u001b[1m\u001b[34m#1\n",
      "Repeat \u001b[1m\u001b[34m#2\n",
      "Repeat \u001b[1m\u001b[34m#3\n"
     ]
    },
    {
     "name": "stderr",
     "output_type": "stream",
     "text": [
      "[I 2023-06-17 13:33:21,584] Trial 22 finished with value: 0.24427789349091034 and parameters: {'bootstrap_type': 'Bernoulli', 'grow_policy': 'Lossguide', 'learning_rate': 0.1340623890808117, 'l2_leaf_reg': 81.4969053213519, 'depth': 4, 'random_strength': 90.06180666258317, 'min_data_in_leaf': 14, 'subsample': 0.37663392262001827, 'max_leaves': 90}. Best is trial 21 with value: 0.23586164551636424.\n"
     ]
    },
    {
     "name": "stdout",
     "output_type": "stream",
     "text": [
      "Repeat \u001b[1m\u001b[34m#1\n",
      "Repeat \u001b[1m\u001b[34m#2\n",
      "Repeat \u001b[1m\u001b[34m#3\n"
     ]
    },
    {
     "name": "stderr",
     "output_type": "stream",
     "text": [
      "[I 2023-06-17 13:33:29,104] Trial 23 finished with value: 0.2377214078850319 and parameters: {'bootstrap_type': 'Bernoulli', 'grow_policy': 'Lossguide', 'learning_rate': 0.058476713727183424, 'l2_leaf_reg': 10.368298480592383, 'depth': 5, 'random_strength': 96.90881551739913, 'min_data_in_leaf': 34, 'subsample': 0.309981979449067, 'max_leaves': 70}. Best is trial 21 with value: 0.23586164551636424.\n"
     ]
    },
    {
     "name": "stdout",
     "output_type": "stream",
     "text": [
      "Repeat \u001b[1m\u001b[34m#1\n",
      "Repeat \u001b[1m\u001b[34m#2\n",
      "Repeat \u001b[1m\u001b[34m#3\n"
     ]
    },
    {
     "name": "stderr",
     "output_type": "stream",
     "text": [
      "[I 2023-06-17 13:33:44,407] Trial 24 finished with value: 0.24855912554082624 and parameters: {'bootstrap_type': 'Bernoulli', 'grow_policy': 'Lossguide', 'learning_rate': 0.02221936297364138, 'l2_leaf_reg': 8.155866161097311, 'depth': 5, 'random_strength': 85.72604053428877, 'min_data_in_leaf': 33, 'subsample': 0.4060878218558517, 'max_leaves': 4}. Best is trial 21 with value: 0.23586164551636424.\n"
     ]
    },
    {
     "name": "stdout",
     "output_type": "stream",
     "text": [
      "Repeat \u001b[1m\u001b[34m#1\n",
      "Repeat \u001b[1m\u001b[34m#2\n",
      "Repeat \u001b[1m\u001b[34m#3\n"
     ]
    },
    {
     "name": "stderr",
     "output_type": "stream",
     "text": [
      "[I 2023-06-17 13:33:47,442] Trial 25 finished with value: 0.2599414778622879 and parameters: {'bootstrap_type': 'Bernoulli', 'grow_policy': 'Lossguide', 'learning_rate': 0.1729573552047675, 'l2_leaf_reg': 0.5706706272452866, 'depth': 6, 'random_strength': 90.58601482567111, 'min_data_in_leaf': 80, 'subsample': 0.5496866022556268, 'max_leaves': 66}. Best is trial 21 with value: 0.23586164551636424.\n"
     ]
    },
    {
     "name": "stdout",
     "output_type": "stream",
     "text": [
      "Repeat \u001b[1m\u001b[34m#1\n",
      "Repeat \u001b[1m\u001b[34m#2\n",
      "Repeat \u001b[1m\u001b[34m#3\n"
     ]
    },
    {
     "name": "stderr",
     "output_type": "stream",
     "text": [
      "[I 2023-06-17 13:33:55,471] Trial 26 finished with value: 0.240637666866381 and parameters: {'bootstrap_type': 'Bernoulli', 'grow_policy': 'Lossguide', 'learning_rate': 0.07206308800972454, 'l2_leaf_reg': 11.00068113359638, 'depth': 7, 'random_strength': 81.24127958396306, 'min_data_in_leaf': 36, 'subsample': 0.3961373720975379, 'max_leaves': 71}. Best is trial 21 with value: 0.23586164551636424.\n"
     ]
    },
    {
     "name": "stdout",
     "output_type": "stream",
     "text": [
      "Repeat \u001b[1m\u001b[34m#1\n",
      "Repeat \u001b[1m\u001b[34m#2\n",
      "Repeat \u001b[1m\u001b[34m#3\n"
     ]
    },
    {
     "name": "stderr",
     "output_type": "stream",
     "text": [
      "[I 2023-06-17 13:34:02,108] Trial 27 finished with value: 0.24868787611950915 and parameters: {'bootstrap_type': 'Bernoulli', 'grow_policy': 'Lossguide', 'learning_rate': 0.053283866833908226, 'l2_leaf_reg': 0.46610085360182135, 'depth': 5, 'random_strength': 99.24590282922577, 'min_data_in_leaf': 50, 'subsample': 0.3036410195689196, 'max_leaves': 49}. Best is trial 21 with value: 0.23586164551636424.\n"
     ]
    },
    {
     "name": "stdout",
     "output_type": "stream",
     "text": [
      "Repeat \u001b[1m\u001b[34m#1\n",
      "Repeat \u001b[1m\u001b[34m#2\n",
      "Repeat \u001b[1m\u001b[34m#3\n"
     ]
    },
    {
     "name": "stderr",
     "output_type": "stream",
     "text": [
      "[I 2023-06-17 13:34:22,197] Trial 28 finished with value: 0.24432218785937174 and parameters: {'bootstrap_type': 'Bayesian', 'grow_policy': 'Depthwise', 'learning_rate': 0.02691009375742348, 'l2_leaf_reg': 3.8740421334570176, 'depth': 6, 'random_strength': 70.92073742133086, 'min_data_in_leaf': 27, 'bagging_temperature': 10.127962572056802}. Best is trial 21 with value: 0.23586164551636424.\n"
     ]
    },
    {
     "name": "stdout",
     "output_type": "stream",
     "text": [
      "Repeat \u001b[1m\u001b[34m#1\n",
      "Repeat \u001b[1m\u001b[34m#2\n",
      "Repeat \u001b[1m\u001b[34m#3\n"
     ]
    },
    {
     "name": "stderr",
     "output_type": "stream",
     "text": [
      "[I 2023-06-17 13:53:27,589] Trial 29 finished with value: 0.27350267169476367 and parameters: {'bootstrap_type': 'MVS', 'grow_policy': 'SymmetricTree', 'learning_rate': 0.013289271235610222, 'l2_leaf_reg': 31.22021906658209, 'depth': 8, 'random_strength': 57.54777865942525, 'min_data_in_leaf': 5, 'boosting_type': 'Ordered'}. Best is trial 21 with value: 0.23586164551636424.\n"
     ]
    },
    {
     "name": "stdout",
     "output_type": "stream",
     "text": [
      "Repeat \u001b[1m\u001b[34m#1\n",
      "Repeat \u001b[1m\u001b[34m#2\n",
      "Repeat \u001b[1m\u001b[34m#3\n"
     ]
    },
    {
     "name": "stderr",
     "output_type": "stream",
     "text": [
      "[I 2023-06-17 13:54:05,555] Trial 30 finished with value: 0.25911989014185205 and parameters: {'bootstrap_type': 'Bernoulli', 'grow_policy': 'Lossguide', 'learning_rate': 0.004622761631717229, 'l2_leaf_reg': 14.023929269519444, 'depth': 5, 'random_strength': 76.90338625135783, 'min_data_in_leaf': 62, 'subsample': 0.50081911544052, 'max_leaves': 79}. Best is trial 21 with value: 0.23586164551636424.\n"
     ]
    },
    {
     "name": "stdout",
     "output_type": "stream",
     "text": [
      "Repeat \u001b[1m\u001b[34m#1\n",
      "Repeat \u001b[1m\u001b[34m#2\n",
      "Repeat \u001b[1m\u001b[34m#3\n"
     ]
    },
    {
     "name": "stderr",
     "output_type": "stream",
     "text": [
      "[I 2023-06-17 13:54:13,737] Trial 31 finished with value: 0.24771284897806392 and parameters: {'bootstrap_type': 'Bernoulli', 'grow_policy': 'Lossguide', 'learning_rate': 0.06918008055965402, 'l2_leaf_reg': 8.437550559077472, 'depth': 8, 'random_strength': 80.8825348079466, 'min_data_in_leaf': 38, 'subsample': 0.39087515256655064, 'max_leaves': 61}. Best is trial 21 with value: 0.23586164551636424.\n"
     ]
    },
    {
     "name": "stdout",
     "output_type": "stream",
     "text": [
      "Repeat \u001b[1m\u001b[34m#1\n",
      "Repeat \u001b[1m\u001b[34m#2\n",
      "Repeat \u001b[1m\u001b[34m#3\n"
     ]
    },
    {
     "name": "stderr",
     "output_type": "stream",
     "text": [
      "[I 2023-06-17 13:54:23,287] Trial 32 finished with value: 0.24556602966401753 and parameters: {'bootstrap_type': 'Bernoulli', 'grow_policy': 'Lossguide', 'learning_rate': 0.03504010980649796, 'l2_leaf_reg': 1.2771864399488588, 'depth': 7, 'random_strength': 92.95463634758158, 'min_data_in_leaf': 46, 'subsample': 0.3909938492377564, 'max_leaves': 74}. Best is trial 21 with value: 0.23586164551636424.\n"
     ]
    },
    {
     "name": "stdout",
     "output_type": "stream",
     "text": [
      "Repeat \u001b[1m\u001b[34m#1\n",
      "Repeat \u001b[1m\u001b[34m#2\n",
      "Repeat \u001b[1m\u001b[34m#3\n"
     ]
    },
    {
     "name": "stderr",
     "output_type": "stream",
     "text": [
      "[I 2023-06-17 13:54:28,271] Trial 33 finished with value: 0.2611577634887557 and parameters: {'bootstrap_type': 'Bernoulli', 'grow_policy': 'Lossguide', 'learning_rate': 0.20478995985301243, 'l2_leaf_reg': 17.123176927496655, 'depth': 7, 'random_strength': 86.77993110700419, 'min_data_in_leaf': 36, 'subsample': 0.36286870041839586, 'max_leaves': 39}. Best is trial 21 with value: 0.23586164551636424.\n"
     ]
    },
    {
     "name": "stdout",
     "output_type": "stream",
     "text": [
      "Repeat \u001b[1m\u001b[34m#1\n",
      "Repeat \u001b[1m\u001b[34m#2\n",
      "Repeat \u001b[1m\u001b[34m#3\n"
     ]
    },
    {
     "name": "stderr",
     "output_type": "stream",
     "text": [
      "[I 2023-06-17 13:54:34,554] Trial 34 finished with value: 0.23881420296209263 and parameters: {'bootstrap_type': 'Bernoulli', 'grow_policy': 'Lossguide', 'learning_rate': 0.10345998701633581, 'l2_leaf_reg': 27.693993239287185, 'depth': 10, 'random_strength': 83.44582065897029, 'min_data_in_leaf': 55, 'subsample': 0.43073222479558937, 'max_leaves': 61}. Best is trial 21 with value: 0.23586164551636424.\n"
     ]
    },
    {
     "name": "stdout",
     "output_type": "stream",
     "text": [
      "Repeat \u001b[1m\u001b[34m#1\n",
      "Repeat \u001b[1m\u001b[34m#2\n",
      "Repeat \u001b[1m\u001b[34m#3\n"
     ]
    },
    {
     "name": "stderr",
     "output_type": "stream",
     "text": [
      "[I 2023-06-17 13:54:38,948] Trial 35 finished with value: 0.2463178943167592 and parameters: {'bootstrap_type': 'Bernoulli', 'grow_policy': 'Lossguide', 'learning_rate': 0.28686955619197646, 'l2_leaf_reg': 27.1282506842302, 'depth': 10, 'random_strength': 92.78305700966258, 'min_data_in_leaf': 53, 'subsample': 0.4455562504927633, 'max_leaves': 59}. Best is trial 21 with value: 0.23586164551636424.\n"
     ]
    },
    {
     "name": "stdout",
     "output_type": "stream",
     "text": [
      "Repeat \u001b[1m\u001b[34m#1\n",
      "Repeat \u001b[1m\u001b[34m#2\n",
      "Repeat \u001b[1m\u001b[34m#3\n"
     ]
    },
    {
     "name": "stderr",
     "output_type": "stream",
     "text": [
      "[I 2023-06-17 13:55:50,122] Trial 36 finished with value: 0.41059105427740844 and parameters: {'bootstrap_type': 'Bayesian', 'grow_policy': 'SymmetricTree', 'learning_rate': 0.10809265812112133, 'l2_leaf_reg': 4.184911758158791, 'depth': 10, 'random_strength': 84.83717932248324, 'min_data_in_leaf': 70, 'bagging_temperature': 38.79388773899531, 'boosting_type': 'Plain'}. Best is trial 21 with value: 0.23586164551636424.\n"
     ]
    },
    {
     "name": "stdout",
     "output_type": "stream",
     "text": [
      "Repeat \u001b[1m\u001b[34m#1\n",
      "Repeat \u001b[1m\u001b[34m#2\n",
      "Repeat \u001b[1m\u001b[34m#3\n"
     ]
    },
    {
     "name": "stderr",
     "output_type": "stream",
     "text": [
      "[I 2023-06-17 13:56:05,328] Trial 37 finished with value: 0.23725107274811053 and parameters: {'bootstrap_type': 'MVS', 'grow_policy': 'Lossguide', 'learning_rate': 0.022903100599559446, 'l2_leaf_reg': 33.89906435929787, 'depth': 4, 'random_strength': 95.82586977221747, 'min_data_in_leaf': 61, 'max_leaves': 111}. Best is trial 21 with value: 0.23586164551636424.\n"
     ]
    },
    {
     "name": "stdout",
     "output_type": "stream",
     "text": [
      "Repeat \u001b[1m\u001b[34m#1\n",
      "Repeat \u001b[1m\u001b[34m#2\n",
      "Repeat \u001b[1m\u001b[34m#3\n"
     ]
    },
    {
     "name": "stderr",
     "output_type": "stream",
     "text": [
      "[I 2023-06-17 13:56:15,852] Trial 38 finished with value: 0.24530091401457962 and parameters: {'bootstrap_type': 'MVS', 'grow_policy': 'Depthwise', 'learning_rate': 0.022934818423698766, 'l2_leaf_reg': 0.2497887684005933, 'depth': 4, 'random_strength': 81.96556157736921, 'min_data_in_leaf': 60}. Best is trial 21 with value: 0.23586164551636424.\n"
     ]
    },
    {
     "name": "stdout",
     "output_type": "stream",
     "text": [
      "Repeat \u001b[1m\u001b[34m#1\n",
      "Repeat \u001b[1m\u001b[34m#2\n",
      "Repeat \u001b[1m\u001b[34m#3\n"
     ]
    },
    {
     "name": "stderr",
     "output_type": "stream",
     "text": [
      "[I 2023-06-17 13:56:18,393] Trial 39 finished with value: 0.278984510415015 and parameters: {'bootstrap_type': 'MVS', 'grow_policy': 'Lossguide', 'learning_rate': 0.1857679633314389, 'l2_leaf_reg': 1.1000698807801639, 'depth': 4, 'random_strength': 70.45583926308635, 'min_data_in_leaf': 83, 'max_leaves': 111}. Best is trial 21 with value: 0.23586164551636424.\n"
     ]
    },
    {
     "name": "stdout",
     "output_type": "stream",
     "text": [
      "Repeat \u001b[1m\u001b[34m#1\n",
      "Repeat \u001b[1m\u001b[34m#2\n",
      "Repeat \u001b[1m\u001b[34m#3\n"
     ]
    },
    {
     "name": "stderr",
     "output_type": "stream",
     "text": [
      "[I 2023-06-17 13:56:34,314] Trial 40 finished with value: 0.24633047954678103 and parameters: {'bootstrap_type': 'MVS', 'grow_policy': 'Lossguide', 'learning_rate': 0.016027200983451846, 'l2_leaf_reg': 6.020149405748686, 'depth': 4, 'random_strength': 95.47588188054925, 'min_data_in_leaf': 68, 'max_leaves': 31}. Best is trial 21 with value: 0.23586164551636424.\n"
     ]
    },
    {
     "name": "stdout",
     "output_type": "stream",
     "text": [
      "Repeat \u001b[1m\u001b[34m#1\n",
      "Repeat \u001b[1m\u001b[34m#2\n",
      "Repeat \u001b[1m\u001b[34m#3\n"
     ]
    },
    {
     "name": "stderr",
     "output_type": "stream",
     "text": [
      "[I 2023-06-17 13:56:43,896] Trial 41 finished with value: 0.23457296089332114 and parameters: {'bootstrap_type': 'MVS', 'grow_policy': 'Lossguide', 'learning_rate': 0.05626000201018032, 'l2_leaf_reg': 39.42673568827626, 'depth': 5, 'random_strength': 95.03970714723353, 'min_data_in_leaf': 54, 'max_leaves': 118}. Best is trial 41 with value: 0.23457296089332114.\n"
     ]
    },
    {
     "name": "stdout",
     "output_type": "stream",
     "text": [
      "Repeat \u001b[1m\u001b[34m#1\n",
      "Repeat \u001b[1m\u001b[34m#2\n",
      "Repeat \u001b[1m\u001b[34m#3\n"
     ]
    },
    {
     "name": "stderr",
     "output_type": "stream",
     "text": [
      "[I 2023-06-17 13:56:54,222] Trial 42 finished with value: 0.24384206807783815 and parameters: {'bootstrap_type': 'MVS', 'grow_policy': 'Lossguide', 'learning_rate': 0.045958895875008336, 'l2_leaf_reg': 33.338417442557336, 'depth': 6, 'random_strength': 94.3296124272084, 'min_data_in_leaf': 57, 'max_leaves': 91}. Best is trial 41 with value: 0.23457296089332114.\n"
     ]
    },
    {
     "name": "stdout",
     "output_type": "stream",
     "text": [
      "Repeat \u001b[1m\u001b[34m#1\n",
      "Repeat \u001b[1m\u001b[34m#2\n",
      "Repeat \u001b[1m\u001b[34m#3\n"
     ]
    },
    {
     "name": "stderr",
     "output_type": "stream",
     "text": [
      "[I 2023-06-17 13:56:58,657] Trial 43 finished with value: 0.25276892570369824 and parameters: {'bootstrap_type': 'MVS', 'grow_policy': 'Lossguide', 'learning_rate': 0.10071941777972465, 'l2_leaf_reg': 2.012179772329005, 'depth': 5, 'random_strength': 87.63473081017585, 'min_data_in_leaf': 64, 'max_leaves': 57}. Best is trial 41 with value: 0.23457296089332114.\n"
     ]
    },
    {
     "name": "stdout",
     "output_type": "stream",
     "text": [
      "Repeat \u001b[1m\u001b[34m#1\n",
      "Repeat \u001b[1m\u001b[34m#2\n",
      "Repeat \u001b[1m\u001b[34m#3\n"
     ]
    },
    {
     "name": "stderr",
     "output_type": "stream",
     "text": [
      "[I 2023-06-17 13:57:07,734] Trial 44 finished with value: 0.23763716012375233 and parameters: {'bootstrap_type': 'MVS', 'grow_policy': 'Lossguide', 'learning_rate': 0.034971071870425655, 'l2_leaf_reg': 24.08130406566394, 'depth': 4, 'random_strength': 94.50745222669794, 'min_data_in_leaf': 74, 'max_leaves': 113}. Best is trial 41 with value: 0.23457296089332114.\n"
     ]
    },
    {
     "name": "stdout",
     "output_type": "stream",
     "text": [
      "Repeat \u001b[1m\u001b[34m#1\n",
      "Repeat \u001b[1m\u001b[34m#2\n",
      "Repeat \u001b[1m\u001b[34m#3\n"
     ]
    },
    {
     "name": "stderr",
     "output_type": "stream",
     "text": [
      "[I 2023-06-17 13:57:16,603] Trial 45 finished with value: 0.24100420170440096 and parameters: {'bootstrap_type': 'MVS', 'grow_policy': 'Lossguide', 'learning_rate': 0.03138427042362711, 'l2_leaf_reg': 7.434444452556757, 'depth': 4, 'random_strength': 95.92525429241091, 'min_data_in_leaf': 74, 'max_leaves': 105}. Best is trial 41 with value: 0.23457296089332114.\n"
     ]
    },
    {
     "name": "stdout",
     "output_type": "stream",
     "text": [
      "Repeat \u001b[1m\u001b[34m#1\n",
      "Repeat \u001b[1m\u001b[34m#2\n",
      "Repeat \u001b[1m\u001b[34m#3\n"
     ]
    },
    {
     "name": "stderr",
     "output_type": "stream",
     "text": [
      "[I 2023-06-17 13:57:34,373] Trial 46 finished with value: 0.24096457897238563 and parameters: {'bootstrap_type': 'MVS', 'grow_policy': 'Depthwise', 'learning_rate': 0.01995361859517803, 'l2_leaf_reg': 87.24950448776275, 'depth': 4, 'random_strength': 93.87253705969758, 'min_data_in_leaf': 90}. Best is trial 41 with value: 0.23457296089332114.\n"
     ]
    },
    {
     "name": "stdout",
     "output_type": "stream",
     "text": [
      "Repeat \u001b[1m\u001b[34m#1\n",
      "Repeat \u001b[1m\u001b[34m#2\n",
      "Repeat \u001b[1m\u001b[34m#3\n"
     ]
    },
    {
     "name": "stderr",
     "output_type": "stream",
     "text": [
      "[I 2023-06-17 13:57:44,064] Trial 47 finished with value: 0.24225853137059314 and parameters: {'bootstrap_type': 'MVS', 'grow_policy': 'Lossguide', 'learning_rate': 0.042512971360915676, 'l2_leaf_reg': 19.651900545794533, 'depth': 5, 'random_strength': 88.62150838488671, 'min_data_in_leaf': 45, 'max_leaves': 118}. Best is trial 41 with value: 0.23457296089332114.\n"
     ]
    },
    {
     "name": "stdout",
     "output_type": "stream",
     "text": [
      "Repeat \u001b[1m\u001b[34m#1\n",
      "Repeat \u001b[1m\u001b[34m#2\n",
      "Repeat \u001b[1m\u001b[34m#3\n"
     ]
    },
    {
     "name": "stderr",
     "output_type": "stream",
     "text": [
      "[I 2023-06-17 13:58:08,415] Trial 48 finished with value: 0.2511482107011989 and parameters: {'bootstrap_type': 'MVS', 'grow_policy': 'SymmetricTree', 'learning_rate': 0.058553209920632746, 'l2_leaf_reg': 2.8207034736060868, 'depth': 4, 'random_strength': 99.9539468876232, 'min_data_in_leaf': 75, 'boosting_type': 'Ordered'}. Best is trial 41 with value: 0.23457296089332114.\n"
     ]
    },
    {
     "name": "stdout",
     "output_type": "stream",
     "text": [
      "Repeat \u001b[1m\u001b[34m#1\n",
      "Repeat \u001b[1m\u001b[34m#2\n",
      "Repeat \u001b[1m\u001b[34m#3\n"
     ]
    },
    {
     "name": "stderr",
     "output_type": "stream",
     "text": [
      "[I 2023-06-17 13:58:33,255] Trial 49 finished with value: 0.24112375287736398 and parameters: {'bootstrap_type': 'MVS', 'grow_policy': 'Lossguide', 'learning_rate': 0.01182996307759044, 'l2_leaf_reg': 43.7951887714684, 'depth': 5, 'random_strength': 94.70283035987768, 'min_data_in_leaf': 67, 'max_leaves': 99}. Best is trial 41 with value: 0.23457296089332114.\n"
     ]
    },
    {
     "name": "stdout",
     "output_type": "stream",
     "text": [
      "Repeat \u001b[1m\u001b[34m#1\n",
      "Repeat \u001b[1m\u001b[34m#2\n",
      "Repeat \u001b[1m\u001b[34m#3\n"
     ]
    },
    {
     "name": "stderr",
     "output_type": "stream",
     "text": [
      "[I 2023-06-17 13:58:46,458] Trial 50 finished with value: 0.23907473971601423 and parameters: {'bootstrap_type': 'MVS', 'grow_policy': 'Lossguide', 'learning_rate': 0.02368647106817412, 'l2_leaf_reg': 87.25203460371225, 'depth': 4, 'random_strength': 80.28869393140826, 'min_data_in_leaf': 99, 'max_leaves': 112}. Best is trial 41 with value: 0.23457296089332114.\n"
     ]
    },
    {
     "name": "stdout",
     "output_type": "stream",
     "text": [
      "Repeat \u001b[1m\u001b[34m#1\n",
      "Repeat \u001b[1m\u001b[34m#2\n",
      "Repeat \u001b[1m\u001b[34m#3\n"
     ]
    },
    {
     "name": "stderr",
     "output_type": "stream",
     "text": [
      "[I 2023-06-17 13:58:55,346] Trial 51 finished with value: 0.24479116197613052 and parameters: {'bootstrap_type': 'MVS', 'grow_policy': 'Lossguide', 'learning_rate': 0.0903163363513022, 'l2_leaf_reg': 21.042586618723583, 'depth': 9, 'random_strength': 84.75341593591946, 'min_data_in_leaf': 54, 'max_leaves': 105}. Best is trial 41 with value: 0.23457296089332114.\n"
     ]
    },
    {
     "name": "stdout",
     "output_type": "stream",
     "text": [
      "Repeat \u001b[1m\u001b[34m#1\n",
      "Repeat \u001b[1m\u001b[34m#2\n",
      "Repeat \u001b[1m\u001b[34m#3\n"
     ]
    },
    {
     "name": "stderr",
     "output_type": "stream",
     "text": [
      "[I 2023-06-17 13:59:07,571] Trial 52 finished with value: 0.23705366101064293 and parameters: {'bootstrap_type': 'MVS', 'grow_policy': 'Lossguide', 'learning_rate': 0.05381945869144541, 'l2_leaf_reg': 35.04686378531488, 'depth': 6, 'random_strength': 91.38647617673382, 'min_data_in_leaf': 49, 'max_leaves': 128}. Best is trial 41 with value: 0.23457296089332114.\n"
     ]
    },
    {
     "name": "stdout",
     "output_type": "stream",
     "text": [
      "Repeat \u001b[1m\u001b[34m#1\n",
      "Repeat \u001b[1m\u001b[34m#2\n",
      "Repeat \u001b[1m\u001b[34m#3\n"
     ]
    },
    {
     "name": "stderr",
     "output_type": "stream",
     "text": [
      "[I 2023-06-17 13:59:14,932] Trial 53 finished with value: 0.24041576703640807 and parameters: {'bootstrap_type': 'MVS', 'grow_policy': 'Lossguide', 'learning_rate': 0.05441618666111843, 'l2_leaf_reg': 6.793696786161652, 'depth': 6, 'random_strength': 96.42569074753699, 'min_data_in_leaf': 71, 'max_leaves': 121}. Best is trial 41 with value: 0.23457296089332114.\n"
     ]
    },
    {
     "name": "stdout",
     "output_type": "stream",
     "text": [
      "Repeat \u001b[1m\u001b[34m#1\n",
      "Repeat \u001b[1m\u001b[34m#2\n",
      "Repeat \u001b[1m\u001b[34m#3\n"
     ]
    },
    {
     "name": "stderr",
     "output_type": "stream",
     "text": [
      "[I 2023-06-17 13:59:31,344] Trial 54 finished with value: 0.23451368923507068 and parameters: {'bootstrap_type': 'MVS', 'grow_policy': 'Lossguide', 'learning_rate': 0.028965669621144864, 'l2_leaf_reg': 41.15229186199753, 'depth': 5, 'random_strength': 91.47307240322462, 'min_data_in_leaf': 60, 'max_leaves': 127}. Best is trial 54 with value: 0.23451368923507068.\n"
     ]
    },
    {
     "name": "stdout",
     "output_type": "stream",
     "text": [
      "Repeat \u001b[1m\u001b[34m#1\n",
      "Repeat \u001b[1m\u001b[34m#2\n",
      "Repeat \u001b[1m\u001b[34m#3\n"
     ]
    },
    {
     "name": "stderr",
     "output_type": "stream",
     "text": [
      "[I 2023-06-17 13:59:52,658] Trial 55 finished with value: 0.23866659770153 and parameters: {'bootstrap_type': 'MVS', 'grow_policy': 'Lossguide', 'learning_rate': 0.02817386027760876, 'l2_leaf_reg': 86.10617807308287, 'depth': 6, 'random_strength': 90.93934434224396, 'min_data_in_leaf': 61, 'max_leaves': 128}. Best is trial 54 with value: 0.23451368923507068.\n"
     ]
    },
    {
     "name": "stdout",
     "output_type": "stream",
     "text": [
      "Repeat \u001b[1m\u001b[34m#1\n",
      "Repeat \u001b[1m\u001b[34m#2\n",
      "Repeat \u001b[1m\u001b[34m#3\n"
     ]
    },
    {
     "name": "stderr",
     "output_type": "stream",
     "text": [
      "[I 2023-06-17 14:00:16,622] Trial 56 finished with value: 0.23843333944456 and parameters: {'bootstrap_type': 'MVS', 'grow_policy': 'Lossguide', 'learning_rate': 0.01659899237893265, 'l2_leaf_reg': 40.52301854441432, 'depth': 5, 'random_strength': 87.7315443689698, 'min_data_in_leaf': 48, 'max_leaves': 116}. Best is trial 54 with value: 0.23451368923507068.\n"
     ]
    },
    {
     "name": "stdout",
     "output_type": "stream",
     "text": [
      "Repeat \u001b[1m\u001b[34m#1\n",
      "Repeat \u001b[1m\u001b[34m#2\n",
      "Repeat \u001b[1m\u001b[34m#3\n"
     ]
    },
    {
     "name": "stderr",
     "output_type": "stream",
     "text": [
      "[I 2023-06-17 14:00:23,285] Trial 57 finished with value: 0.24074297642416712 and parameters: {'bootstrap_type': 'MVS', 'grow_policy': 'Lossguide', 'learning_rate': 0.04169336656022983, 'l2_leaf_reg': 1.0355281332918354, 'depth': 4, 'random_strength': 99.8400677791349, 'min_data_in_leaf': 80, 'max_leaves': 123}. Best is trial 54 with value: 0.23451368923507068.\n"
     ]
    },
    {
     "name": "stdout",
     "output_type": "stream",
     "text": [
      "Repeat \u001b[1m\u001b[34m#1\n",
      "Repeat \u001b[1m\u001b[34m#2\n",
      "Repeat \u001b[1m\u001b[34m#3\n"
     ]
    },
    {
     "name": "stderr",
     "output_type": "stream",
     "text": [
      "[I 2023-06-17 14:00:32,226] Trial 58 finished with value: 0.23786653770853716 and parameters: {'bootstrap_type': 'MVS', 'grow_policy': 'Depthwise', 'learning_rate': 0.03581845634770119, 'l2_leaf_reg': 2.7744385193399026, 'depth': 5, 'random_strength': 91.73925870954587, 'min_data_in_leaf': 84}. Best is trial 54 with value: 0.23451368923507068.\n"
     ]
    },
    {
     "name": "stdout",
     "output_type": "stream",
     "text": [
      "Repeat \u001b[1m\u001b[34m#1\n",
      "Repeat \u001b[1m\u001b[34m#2\n",
      "Repeat \u001b[1m\u001b[34m#3\n"
     ]
    },
    {
     "name": "stderr",
     "output_type": "stream",
     "text": [
      "[I 2023-06-17 14:00:32,970] Trial 59 finished with value: 0.693565978035593 and parameters: {'bootstrap_type': 'Bayesian', 'grow_policy': 'Lossguide', 'learning_rate': 0.0818219163564062, 'l2_leaf_reg': 43.51181422510837, 'depth': 6, 'random_strength': 77.57116553742716, 'min_data_in_leaf': 41, 'bagging_temperature': 93.27681723324812, 'max_leaves': 110}. Best is trial 54 with value: 0.23451368923507068.\n"
     ]
    },
    {
     "name": "stdout",
     "output_type": "stream",
     "text": [
      "Repeat \u001b[1m\u001b[34m#1\n",
      "Repeat \u001b[1m\u001b[34m#2\n",
      "Repeat \u001b[1m\u001b[34m#3\n"
     ]
    },
    {
     "name": "stderr",
     "output_type": "stream",
     "text": [
      "[I 2023-06-17 14:00:57,934] Trial 60 finished with value: 0.2497432401440219 and parameters: {'bootstrap_type': 'MVS', 'grow_policy': 'SymmetricTree', 'learning_rate': 0.008578394082535598, 'l2_leaf_reg': 14.116788060398395, 'depth': 4, 'random_strength': 88.92767487530855, 'min_data_in_leaf': 58, 'boosting_type': 'Plain'}. Best is trial 54 with value: 0.23451368923507068.\n"
     ]
    },
    {
     "name": "stdout",
     "output_type": "stream",
     "text": [
      "Repeat \u001b[1m\u001b[34m#1\n",
      "Repeat \u001b[1m\u001b[34m#2\n",
      "Repeat \u001b[1m\u001b[34m#3\n"
     ]
    },
    {
     "name": "stderr",
     "output_type": "stream",
     "text": [
      "[I 2023-06-17 14:01:05,101] Trial 61 finished with value: 0.24231151528600345 and parameters: {'bootstrap_type': 'MVS', 'grow_policy': 'Lossguide', 'learning_rate': 0.059722573215975745, 'l2_leaf_reg': 11.148161138315176, 'depth': 5, 'random_strength': 96.68538211327336, 'min_data_in_leaf': 52, 'max_leaves': 119}. Best is trial 54 with value: 0.23451368923507068.\n"
     ]
    },
    {
     "name": "stdout",
     "output_type": "stream",
     "text": [
      "Repeat \u001b[1m\u001b[34m#1\n",
      "Repeat \u001b[1m\u001b[34m#2\n",
      "Repeat \u001b[1m\u001b[34m#3\n"
     ]
    },
    {
     "name": "stderr",
     "output_type": "stream",
     "text": [
      "[I 2023-06-17 14:01:16,510] Trial 62 finished with value: 0.24703716699382725 and parameters: {'bootstrap_type': 'MVS', 'grow_policy': 'Lossguide', 'learning_rate': 0.0492711525037303, 'l2_leaf_reg': 5.873884234961728, 'depth': 6, 'random_strength': 96.80382546505224, 'min_data_in_leaf': 30, 'max_leaves': 128}. Best is trial 54 with value: 0.23451368923507068.\n"
     ]
    },
    {
     "name": "stdout",
     "output_type": "stream",
     "text": [
      "Repeat \u001b[1m\u001b[34m#1\n",
      "Repeat \u001b[1m\u001b[34m#2\n",
      "Repeat \u001b[1m\u001b[34m#3\n"
     ]
    },
    {
     "name": "stderr",
     "output_type": "stream",
     "text": [
      "[I 2023-06-17 14:01:32,834] Trial 63 finished with value: 0.2424196088874171 and parameters: {'bootstrap_type': 'MVS', 'grow_policy': 'Lossguide', 'learning_rate': 0.030685598885697687, 'l2_leaf_reg': 94.55377748291119, 'depth': 5, 'random_strength': 92.90947237998759, 'min_data_in_leaf': 64, 'max_leaves': 82}. Best is trial 54 with value: 0.23451368923507068.\n"
     ]
    },
    {
     "name": "stdout",
     "output_type": "stream",
     "text": [
      "Repeat \u001b[1m\u001b[34m#1\n",
      "Repeat \u001b[1m\u001b[34m#2\n",
      "Repeat \u001b[1m\u001b[34m#3\n"
     ]
    },
    {
     "name": "stderr",
     "output_type": "stream",
     "text": [
      "[I 2023-06-17 14:01:52,103] Trial 64 finished with value: 0.24483962766029163 and parameters: {'bootstrap_type': 'MVS', 'grow_policy': 'Lossguide', 'learning_rate': 0.038071164638142856, 'l2_leaf_reg': 40.609145611008856, 'depth': 5, 'random_strength': 86.78928304945285, 'min_data_in_leaf': 17, 'max_leaves': 115}. Best is trial 54 with value: 0.23451368923507068.\n"
     ]
    },
    {
     "name": "stdout",
     "output_type": "stream",
     "text": [
      "Repeat \u001b[1m\u001b[34m#1\n",
      "Repeat \u001b[1m\u001b[34m#2\n",
      "Repeat \u001b[1m\u001b[34m#3\n"
     ]
    },
    {
     "name": "stderr",
     "output_type": "stream",
     "text": [
      "[I 2023-06-17 14:01:52,840] Trial 65 finished with value: 0.6908760804571598 and parameters: {'bootstrap_type': 'Bayesian', 'grow_policy': 'Lossguide', 'learning_rate': 0.07185796560843831, 'l2_leaf_reg': 17.493930305780797, 'depth': 4, 'random_strength': 91.5663260969766, 'min_data_in_leaf': 49, 'bagging_temperature': 62.48993637734225, 'max_leaves': 94}. Best is trial 54 with value: 0.23451368923507068.\n"
     ]
    },
    {
     "name": "stdout",
     "output_type": "stream",
     "text": [
      "Repeat \u001b[1m\u001b[34m#1\n",
      "Repeat \u001b[1m\u001b[34m#2\n",
      "Repeat \u001b[1m\u001b[34m#3\n"
     ]
    },
    {
     "name": "stderr",
     "output_type": "stream",
     "text": [
      "[I 2023-06-17 14:01:57,201] Trial 66 finished with value: 0.24045554959098348 and parameters: {'bootstrap_type': 'MVS', 'grow_policy': 'Lossguide', 'learning_rate': 0.11606959266692012, 'l2_leaf_reg': 3.9213110438164125, 'depth': 5, 'random_strength': 99.94262652992369, 'min_data_in_leaf': 58, 'max_leaves': 122}. Best is trial 54 with value: 0.23451368923507068.\n"
     ]
    },
    {
     "name": "stdout",
     "output_type": "stream",
     "text": [
      "Repeat \u001b[1m\u001b[34m#1\n",
      "Repeat \u001b[1m\u001b[34m#2\n",
      "Repeat \u001b[1m\u001b[34m#3\n"
     ]
    },
    {
     "name": "stderr",
     "output_type": "stream",
     "text": [
      "[I 2023-06-17 14:02:03,796] Trial 67 finished with value: 0.24779163364695334 and parameters: {'bootstrap_type': 'MVS', 'grow_policy': 'Lossguide', 'learning_rate': 0.058895268212879937, 'l2_leaf_reg': 12.328397359211124, 'depth': 4, 'random_strength': 83.05687403339704, 'min_data_in_leaf': 43, 'max_leaves': 108}. Best is trial 54 with value: 0.23451368923507068.\n"
     ]
    },
    {
     "name": "stdout",
     "output_type": "stream",
     "text": [
      "Repeat \u001b[1m\u001b[34m#1\n",
      "Repeat \u001b[1m\u001b[34m#2\n",
      "Repeat \u001b[1m\u001b[34m#3\n"
     ]
    },
    {
     "name": "stderr",
     "output_type": "stream",
     "text": [
      "[I 2023-06-17 14:02:14,356] Trial 68 finished with value: 0.24269694813760298 and parameters: {'bootstrap_type': 'Bernoulli', 'grow_policy': 'Lossguide', 'learning_rate': 0.08357604451328397, 'l2_leaf_reg': 42.72688160971715, 'depth': 5, 'random_strength': 96.80915324558852, 'min_data_in_leaf': 25, 'subsample': 0.593472734512416, 'max_leaves': 124}. Best is trial 54 with value: 0.23451368923507068.\n"
     ]
    },
    {
     "name": "stdout",
     "output_type": "stream",
     "text": [
      "Repeat \u001b[1m\u001b[34m#1\n",
      "Repeat \u001b[1m\u001b[34m#2\n",
      "Repeat \u001b[1m\u001b[34m#3\n"
     ]
    },
    {
     "name": "stderr",
     "output_type": "stream",
     "text": [
      "[I 2023-06-17 14:02:31,139] Trial 69 finished with value: 0.22930461194723062 and parameters: {'bootstrap_type': 'Bayesian', 'grow_policy': 'Lossguide', 'learning_rate': 0.025528691221443068, 'l2_leaf_reg': 0.7560330511900776, 'depth': 4, 'random_strength': 90.0026081965986, 'min_data_in_leaf': 66, 'bagging_temperature': 31.617413072869248, 'max_leaves': 103}. Best is trial 69 with value: 0.22930461194723062.\n"
     ]
    },
    {
     "name": "stdout",
     "output_type": "stream",
     "text": [
      "Repeat \u001b[1m\u001b[34m#1\n",
      "Repeat \u001b[1m\u001b[34m#2\n",
      "Repeat \u001b[1m\u001b[34m#3\n"
     ]
    },
    {
     "name": "stderr",
     "output_type": "stream",
     "text": [
      "[I 2023-06-17 14:02:47,539] Trial 70 finished with value: 0.2249854029658976 and parameters: {'bootstrap_type': 'Bayesian', 'grow_policy': 'Lossguide', 'learning_rate': 0.02635838419006859, 'l2_leaf_reg': 1.9697378749534862, 'depth': 4, 'random_strength': 89.30448373909779, 'min_data_in_leaf': 71, 'bagging_temperature': 28.855722316335097, 'max_leaves': 98}. Best is trial 70 with value: 0.2249854029658976.\n"
     ]
    },
    {
     "name": "stdout",
     "output_type": "stream",
     "text": [
      "Repeat \u001b[1m\u001b[34m#1\n",
      "Repeat \u001b[1m\u001b[34m#2\n",
      "Repeat \u001b[1m\u001b[34m#3\n"
     ]
    },
    {
     "name": "stderr",
     "output_type": "stream",
     "text": [
      "[I 2023-06-17 14:03:01,417] Trial 71 finished with value: 0.23927544884182197 and parameters: {'bootstrap_type': 'Bayesian', 'grow_policy': 'Lossguide', 'learning_rate': 0.025853279657273215, 'l2_leaf_reg': 0.5272114621009732, 'depth': 4, 'random_strength': 89.46722889811863, 'min_data_in_leaf': 68, 'bagging_temperature': 28.97437804781542, 'max_leaves': 99}. Best is trial 70 with value: 0.2249854029658976.\n"
     ]
    },
    {
     "name": "stdout",
     "output_type": "stream",
     "text": [
      "Repeat \u001b[1m\u001b[34m#1\n",
      "Repeat \u001b[1m\u001b[34m#2\n",
      "Repeat \u001b[1m\u001b[34m#3\n"
     ]
    },
    {
     "name": "stderr",
     "output_type": "stream",
     "text": [
      "[I 2023-06-17 14:03:20,284] Trial 72 finished with value: 0.23394057316065875 and parameters: {'bootstrap_type': 'Bayesian', 'grow_policy': 'Lossguide', 'learning_rate': 0.020089701347011737, 'l2_leaf_reg': 1.8167250730554414, 'depth': 4, 'random_strength': 85.36045068406028, 'min_data_in_leaf': 74, 'bagging_temperature': 26.636892827370577, 'max_leaves': 104}. Best is trial 70 with value: 0.2249854029658976.\n"
     ]
    },
    {
     "name": "stdout",
     "output_type": "stream",
     "text": [
      "Repeat \u001b[1m\u001b[34m#1\n",
      "Repeat \u001b[1m\u001b[34m#2\n",
      "Repeat \u001b[1m\u001b[34m#3\n"
     ]
    },
    {
     "name": "stderr",
     "output_type": "stream",
     "text": [
      "[I 2023-06-17 14:03:39,993] Trial 73 finished with value: 0.2382451559764022 and parameters: {'bootstrap_type': 'Bayesian', 'grow_policy': 'Lossguide', 'learning_rate': 0.018642309850374773, 'l2_leaf_reg': 1.8076064851448372, 'depth': 4, 'random_strength': 85.10557647629412, 'min_data_in_leaf': 61, 'bagging_temperature': 25.394848300840213, 'max_leaves': 103}. Best is trial 70 with value: 0.2249854029658976.\n"
     ]
    },
    {
     "name": "stdout",
     "output_type": "stream",
     "text": [
      "Repeat \u001b[1m\u001b[34m#1\n",
      "Repeat \u001b[1m\u001b[34m#2\n",
      "Repeat \u001b[1m\u001b[34m#3\n"
     ]
    },
    {
     "name": "stderr",
     "output_type": "stream",
     "text": [
      "[I 2023-06-17 14:03:59,041] Trial 74 finished with value: 0.24834843395990372 and parameters: {'bootstrap_type': 'Bayesian', 'grow_policy': 'Lossguide', 'learning_rate': 0.014423374911141672, 'l2_leaf_reg': 0.07889655705941533, 'depth': 4, 'random_strength': 91.14911970378904, 'min_data_in_leaf': 71, 'bagging_temperature': 23.7779245245873, 'max_leaves': 102}. Best is trial 70 with value: 0.2249854029658976.\n"
     ]
    },
    {
     "name": "stdout",
     "output_type": "stream",
     "text": [
      "Repeat \u001b[1m\u001b[34m#1\n",
      "Repeat \u001b[1m\u001b[34m#2\n",
      "Repeat \u001b[1m\u001b[34m#3\n"
     ]
    },
    {
     "name": "stderr",
     "output_type": "stream",
     "text": [
      "[I 2023-06-17 14:04:15,920] Trial 75 finished with value: 0.23331905231639638 and parameters: {'bootstrap_type': 'Bayesian', 'grow_policy': 'Depthwise', 'learning_rate': 0.022058465362377263, 'l2_leaf_reg': 0.2774501183111786, 'depth': 4, 'random_strength': 79.25467248009798, 'min_data_in_leaf': 78, 'bagging_temperature': 40.297242891605464}. Best is trial 70 with value: 0.2249854029658976.\n"
     ]
    },
    {
     "name": "stdout",
     "output_type": "stream",
     "text": [
      "Repeat \u001b[1m\u001b[34m#1\n",
      "Repeat \u001b[1m\u001b[34m#2\n",
      "Repeat \u001b[1m\u001b[34m#3\n"
     ]
    },
    {
     "name": "stderr",
     "output_type": "stream",
     "text": [
      "[I 2023-06-17 14:04:36,031] Trial 76 finished with value: 0.22918533631106688 and parameters: {'bootstrap_type': 'Bayesian', 'grow_policy': 'Depthwise', 'learning_rate': 0.018883546343530823, 'l2_leaf_reg': 0.8391843019578269, 'depth': 4, 'random_strength': 79.04250383366862, 'min_data_in_leaf': 88, 'bagging_temperature': 39.18359492686775}. Best is trial 70 with value: 0.2249854029658976.\n"
     ]
    },
    {
     "name": "stdout",
     "output_type": "stream",
     "text": [
      "Repeat \u001b[1m\u001b[34m#1\n",
      "Repeat \u001b[1m\u001b[34m#2\n",
      "Repeat \u001b[1m\u001b[34m#3\n"
     ]
    },
    {
     "name": "stderr",
     "output_type": "stream",
     "text": [
      "[I 2023-06-17 14:04:57,448] Trial 77 finished with value: 0.23079104309411178 and parameters: {'bootstrap_type': 'Bayesian', 'grow_policy': 'Depthwise', 'learning_rate': 0.015616999149257389, 'l2_leaf_reg': 0.3823000992320452, 'depth': 4, 'random_strength': 79.05713217497512, 'min_data_in_leaf': 89, 'bagging_temperature': 40.018601537227696}. Best is trial 70 with value: 0.2249854029658976.\n"
     ]
    },
    {
     "name": "stdout",
     "output_type": "stream",
     "text": [
      "Repeat \u001b[1m\u001b[34m#1\n",
      "Repeat \u001b[1m\u001b[34m#2\n",
      "Repeat \u001b[1m\u001b[34m#3\n"
     ]
    },
    {
     "name": "stderr",
     "output_type": "stream",
     "text": [
      "[I 2023-06-17 14:05:16,241] Trial 78 finished with value: 0.24074391012597807 and parameters: {'bootstrap_type': 'Bayesian', 'grow_policy': 'Depthwise', 'learning_rate': 0.0187749786199111, 'l2_leaf_reg': 0.22580971740617875, 'depth': 4, 'random_strength': 79.12346756922084, 'min_data_in_leaf': 89, 'bagging_temperature': 40.026969186707184}. Best is trial 70 with value: 0.2249854029658976.\n"
     ]
    },
    {
     "name": "stdout",
     "output_type": "stream",
     "text": [
      "Repeat \u001b[1m\u001b[34m#1\n",
      "Repeat \u001b[1m\u001b[34m#2\n",
      "Repeat \u001b[1m\u001b[34m#3\n"
     ]
    },
    {
     "name": "stderr",
     "output_type": "stream",
     "text": [
      "[I 2023-06-17 14:05:43,201] Trial 79 finished with value: 0.23833631485782783 and parameters: {'bootstrap_type': 'Bayesian', 'grow_policy': 'Depthwise', 'learning_rate': 0.010712570709899779, 'l2_leaf_reg': 0.4787909480394792, 'depth': 4, 'random_strength': 73.31565932031533, 'min_data_in_leaf': 89, 'bagging_temperature': 39.04121361634473}. Best is trial 70 with value: 0.2249854029658976.\n"
     ]
    },
    {
     "name": "stdout",
     "output_type": "stream",
     "text": [
      "Repeat \u001b[1m\u001b[34m#1\n",
      "Repeat \u001b[1m\u001b[34m#2\n",
      "Repeat \u001b[1m\u001b[34m#3\n"
     ]
    },
    {
     "name": "stderr",
     "output_type": "stream",
     "text": [
      "[I 2023-06-17 14:06:07,186] Trial 80 finished with value: 0.24019034517527663 and parameters: {'bootstrap_type': 'Bayesian', 'grow_policy': 'Depthwise', 'learning_rate': 0.012727696011673712, 'l2_leaf_reg': 0.7089010457478294, 'depth': 4, 'random_strength': 80.35377740839688, 'min_data_in_leaf': 78, 'bagging_temperature': 34.36884727397603}. Best is trial 70 with value: 0.2249854029658976.\n"
     ]
    },
    {
     "name": "stdout",
     "output_type": "stream",
     "text": [
      "Repeat \u001b[1m\u001b[34m#1\n",
      "Repeat \u001b[1m\u001b[34m#2\n",
      "Repeat \u001b[1m\u001b[34m#3\n"
     ]
    },
    {
     "name": "stderr",
     "output_type": "stream",
     "text": [
      "[I 2023-06-17 14:06:23,061] Trial 81 finished with value: 0.23866644455428787 and parameters: {'bootstrap_type': 'Bayesian', 'grow_policy': 'Depthwise', 'learning_rate': 0.027395727758291338, 'l2_leaf_reg': 1.0613897006428905, 'depth': 4, 'random_strength': 82.76274757137524, 'min_data_in_leaf': 86, 'bagging_temperature': 45.588492431663106}. Best is trial 70 with value: 0.2249854029658976.\n"
     ]
    },
    {
     "name": "stdout",
     "output_type": "stream",
     "text": [
      "Repeat \u001b[1m\u001b[34m#1\n",
      "Repeat \u001b[1m\u001b[34m#2\n",
      "Repeat \u001b[1m\u001b[34m#3\n"
     ]
    },
    {
     "name": "stderr",
     "output_type": "stream",
     "text": [
      "[I 2023-06-17 14:06:45,285] Trial 82 finished with value: 0.23103454418508115 and parameters: {'bootstrap_type': 'Bayesian', 'grow_policy': 'Depthwise', 'learning_rate': 0.015323000025964923, 'l2_leaf_reg': 1.6164492478984795, 'depth': 4, 'random_strength': 76.05898025080681, 'min_data_in_leaf': 94, 'bagging_temperature': 28.105387363703958}. Best is trial 70 with value: 0.2249854029658976.\n"
     ]
    },
    {
     "name": "stdout",
     "output_type": "stream",
     "text": [
      "Repeat \u001b[1m\u001b[34m#1\n",
      "Repeat \u001b[1m\u001b[34m#2\n",
      "Repeat \u001b[1m\u001b[34m#3\n"
     ]
    },
    {
     "name": "stderr",
     "output_type": "stream",
     "text": [
      "[I 2023-06-17 14:07:10,178] Trial 83 finished with value: 0.2341467268575462 and parameters: {'bootstrap_type': 'Bayesian', 'grow_policy': 'Depthwise', 'learning_rate': 0.013961095537602195, 'l2_leaf_reg': 2.2584774591766674, 'depth': 4, 'random_strength': 77.66166049486263, 'min_data_in_leaf': 86, 'bagging_temperature': 27.537377413759867}. Best is trial 70 with value: 0.2249854029658976.\n"
     ]
    },
    {
     "name": "stdout",
     "output_type": "stream",
     "text": [
      "Repeat \u001b[1m\u001b[34m#1\n",
      "Repeat \u001b[1m\u001b[34m#2\n",
      "Repeat \u001b[1m\u001b[34m#3\n"
     ]
    },
    {
     "name": "stderr",
     "output_type": "stream",
     "text": [
      "[I 2023-06-17 14:07:31,615] Trial 84 finished with value: 0.2358560566308305 and parameters: {'bootstrap_type': 'Bayesian', 'grow_policy': 'Depthwise', 'learning_rate': 0.014287760420426137, 'l2_leaf_reg': 0.3137432675463864, 'depth': 4, 'random_strength': 75.53754934540603, 'min_data_in_leaf': 93, 'bagging_temperature': 28.13525265283572}. Best is trial 70 with value: 0.2249854029658976.\n"
     ]
    },
    {
     "name": "stdout",
     "output_type": "stream",
     "text": [
      "Repeat \u001b[1m\u001b[34m#1\n",
      "Repeat \u001b[1m\u001b[34m#2\n",
      "Repeat \u001b[1m\u001b[34m#3\n"
     ]
    },
    {
     "name": "stderr",
     "output_type": "stream",
     "text": [
      "[I 2023-06-17 14:07:48,790] Trial 85 finished with value: 0.23893327666065764 and parameters: {'bootstrap_type': 'Bayesian', 'grow_policy': 'Depthwise', 'learning_rate': 0.01908197253956769, 'l2_leaf_reg': 0.0951226009363353, 'depth': 4, 'random_strength': 78.42638620590917, 'min_data_in_leaf': 94, 'bagging_temperature': 30.395438188370875}. Best is trial 70 with value: 0.2249854029658976.\n"
     ]
    },
    {
     "name": "stdout",
     "output_type": "stream",
     "text": [
      "Repeat \u001b[1m\u001b[34m#1\n",
      "Repeat \u001b[1m\u001b[34m#2\n",
      "Repeat \u001b[1m\u001b[34m#3\n"
     ]
    },
    {
     "name": "stderr",
     "output_type": "stream",
     "text": [
      "[I 2023-06-17 14:08:19,368] Trial 86 finished with value: 0.23684300995726457 and parameters: {'bootstrap_type': 'Bayesian', 'grow_policy': 'Depthwise', 'learning_rate': 0.009038800234892924, 'l2_leaf_reg': 1.9813864569826978, 'depth': 4, 'random_strength': 67.21449115753865, 'min_data_in_leaf': 83, 'bagging_temperature': 21.094563682344546}. Best is trial 70 with value: 0.2249854029658976.\n"
     ]
    },
    {
     "name": "stdout",
     "output_type": "stream",
     "text": [
      "Repeat \u001b[1m\u001b[34m#1\n",
      "Repeat \u001b[1m\u001b[34m#2\n",
      "Repeat \u001b[1m\u001b[34m#3\n"
     ]
    },
    {
     "name": "stderr",
     "output_type": "stream",
     "text": [
      "[I 2023-06-17 14:08:35,162] Trial 87 finished with value: 0.23276292383397856 and parameters: {'bootstrap_type': 'Bayesian', 'grow_policy': 'Depthwise', 'learning_rate': 0.02121456394598218, 'l2_leaf_reg': 0.18216835144465163, 'depth': 4, 'random_strength': 75.32895415784238, 'min_data_in_leaf': 100, 'bagging_temperature': 34.75902250315847}. Best is trial 70 with value: 0.2249854029658976.\n"
     ]
    },
    {
     "name": "stdout",
     "output_type": "stream",
     "text": [
      "Repeat \u001b[1m\u001b[34m#1\n",
      "Repeat \u001b[1m\u001b[34m#2\n",
      "Repeat \u001b[1m\u001b[34m#3\n"
     ]
    },
    {
     "name": "stderr",
     "output_type": "stream",
     "text": [
      "[I 2023-06-17 14:08:56,763] Trial 88 finished with value: 0.23035755957343704 and parameters: {'bootstrap_type': 'Bayesian', 'grow_policy': 'Depthwise', 'learning_rate': 0.015890487574549472, 'l2_leaf_reg': 0.8694887325415753, 'depth': 4, 'random_strength': 74.90778885616902, 'min_data_in_leaf': 98, 'bagging_temperature': 32.50608503629723}. Best is trial 70 with value: 0.2249854029658976.\n"
     ]
    },
    {
     "name": "stdout",
     "output_type": "stream",
     "text": [
      "Repeat \u001b[1m\u001b[34m#1\n",
      "Repeat \u001b[1m\u001b[34m#2\n",
      "Repeat \u001b[1m\u001b[34m#3\n"
     ]
    },
    {
     "name": "stderr",
     "output_type": "stream",
     "text": [
      "[I 2023-06-17 14:09:12,833] Trial 89 finished with value: 0.23733398102651515 and parameters: {'bootstrap_type': 'Bayesian', 'grow_policy': 'Depthwise', 'learning_rate': 0.022994198758220497, 'l2_leaf_reg': 0.7554007027887315, 'depth': 4, 'random_strength': 75.25166422162822, 'min_data_in_leaf': 99, 'bagging_temperature': 36.505500444033714}. Best is trial 70 with value: 0.2249854029658976.\n"
     ]
    },
    {
     "name": "stdout",
     "output_type": "stream",
     "text": [
      "Repeat \u001b[1m\u001b[34m#1\n",
      "Repeat \u001b[1m\u001b[34m#2\n",
      "Repeat \u001b[1m\u001b[34m#3\n"
     ]
    },
    {
     "name": "stderr",
     "output_type": "stream",
     "text": [
      "[I 2023-06-17 14:09:38,380] Trial 90 finished with value: 0.23522624336974288 and parameters: {'bootstrap_type': 'Bayesian', 'grow_policy': 'Depthwise', 'learning_rate': 0.011130392254808469, 'l2_leaf_reg': 0.15657162191372787, 'depth': 4, 'random_strength': 73.01987847318827, 'min_data_in_leaf': 95, 'bagging_temperature': 33.7411705040711}. Best is trial 70 with value: 0.2249854029658976.\n"
     ]
    },
    {
     "name": "stdout",
     "output_type": "stream",
     "text": [
      "Repeat \u001b[1m\u001b[34m#1\n",
      "Repeat \u001b[1m\u001b[34m#2\n",
      "Repeat \u001b[1m\u001b[34m#3\n"
     ]
    },
    {
     "name": "stderr",
     "output_type": "stream",
     "text": [
      "[I 2023-06-17 14:09:58,351] Trial 91 finished with value: 0.2388339690215089 and parameters: {'bootstrap_type': 'Bayesian', 'grow_policy': 'Depthwise', 'learning_rate': 0.01600600498160886, 'l2_leaf_reg': 0.3411912543568112, 'depth': 4, 'random_strength': 77.4026594828951, 'min_data_in_leaf': 97, 'bagging_temperature': 32.07649734933478}. Best is trial 70 with value: 0.2249854029658976.\n"
     ]
    },
    {
     "name": "stdout",
     "output_type": "stream",
     "text": [
      "Repeat \u001b[1m\u001b[34m#1\n",
      "Repeat \u001b[1m\u001b[34m#2\n",
      "Repeat \u001b[1m\u001b[34m#3\n"
     ]
    },
    {
     "name": "stderr",
     "output_type": "stream",
     "text": [
      "[I 2023-06-17 14:10:16,301] Trial 92 finished with value: 0.2261342227966796 and parameters: {'bootstrap_type': 'Bayesian', 'grow_policy': 'Depthwise', 'learning_rate': 0.020946585262801014, 'l2_leaf_reg': 1.5214871924818556, 'depth': 4, 'random_strength': 81.86796863300331, 'min_data_in_leaf': 92, 'bagging_temperature': 24.292002990370353}. Best is trial 70 with value: 0.2249854029658976.\n"
     ]
    },
    {
     "name": "stdout",
     "output_type": "stream",
     "text": [
      "Repeat \u001b[1m\u001b[34m#1\n",
      "Repeat \u001b[1m\u001b[34m#2\n",
      "Repeat \u001b[1m\u001b[34m#3\n"
     ]
    },
    {
     "name": "stderr",
     "output_type": "stream",
     "text": [
      "[I 2023-06-17 14:10:33,386] Trial 93 finished with value: 0.23503800771177627 and parameters: {'bootstrap_type': 'Bayesian', 'grow_policy': 'Depthwise', 'learning_rate': 0.021225027185647498, 'l2_leaf_reg': 1.2737181057430262, 'depth': 4, 'random_strength': 81.64446948272573, 'min_data_in_leaf': 91, 'bagging_temperature': 20.43828230028386}. Best is trial 70 with value: 0.2249854029658976.\n"
     ]
    },
    {
     "name": "stdout",
     "output_type": "stream",
     "text": [
      "Repeat \u001b[1m\u001b[34m#1\n",
      "Repeat \u001b[1m\u001b[34m#2\n",
      "Repeat \u001b[1m\u001b[34m#3\n"
     ]
    },
    {
     "name": "stderr",
     "output_type": "stream",
     "text": [
      "[I 2023-06-17 14:10:53,832] Trial 94 finished with value: 0.2336364947372865 and parameters: {'bootstrap_type': 'Bayesian', 'grow_policy': 'Depthwise', 'learning_rate': 0.01734765833832474, 'l2_leaf_reg': 0.616645627914344, 'depth': 4, 'random_strength': 83.92996732947114, 'min_data_in_leaf': 97, 'bagging_temperature': 42.343083190225165}. Best is trial 70 with value: 0.2249854029658976.\n"
     ]
    },
    {
     "name": "stdout",
     "output_type": "stream",
     "text": [
      "Repeat \u001b[1m\u001b[34m#1\n",
      "Repeat \u001b[1m\u001b[34m#2\n",
      "Repeat \u001b[1m\u001b[34m#3\n"
     ]
    },
    {
     "name": "stderr",
     "output_type": "stream",
     "text": [
      "[I 2023-06-17 14:11:14,298] Trial 95 finished with value: 0.23539188088740312 and parameters: {'bootstrap_type': 'Bayesian', 'grow_policy': 'Depthwise', 'learning_rate': 0.016408366467998196, 'l2_leaf_reg': 0.7204025672551472, 'depth': 4, 'random_strength': 79.64887381495544, 'min_data_in_leaf': 97, 'bagging_temperature': 44.355297675404074}. Best is trial 70 with value: 0.2249854029658976.\n"
     ]
    },
    {
     "name": "stdout",
     "output_type": "stream",
     "text": [
      "Repeat \u001b[1m\u001b[34m#1\n",
      "Repeat \u001b[1m\u001b[34m#2\n",
      "Repeat \u001b[1m\u001b[34m#3\n"
     ]
    },
    {
     "name": "stderr",
     "output_type": "stream",
     "text": [
      "[I 2023-06-17 14:11:28,891] Trial 96 finished with value: 0.2325628888268967 and parameters: {'bootstrap_type': 'Bayesian', 'grow_policy': 'Depthwise', 'learning_rate': 0.025270827025295622, 'l2_leaf_reg': 0.3649280436846803, 'depth': 4, 'random_strength': 82.8334333326982, 'min_data_in_leaf': 100, 'bagging_temperature': 42.79633214506601}. Best is trial 70 with value: 0.2249854029658976.\n"
     ]
    },
    {
     "name": "stdout",
     "output_type": "stream",
     "text": [
      "Repeat \u001b[1m\u001b[34m#1\n",
      "Repeat \u001b[1m\u001b[34m#2\n",
      "Repeat \u001b[1m\u001b[34m#3\n"
     ]
    },
    {
     "name": "stderr",
     "output_type": "stream",
     "text": [
      "[I 2023-06-17 14:11:41,691] Trial 97 finished with value: 0.2274765742220575 and parameters: {'bootstrap_type': 'Bayesian', 'grow_policy': 'Depthwise', 'learning_rate': 0.026878817979448584, 'l2_leaf_reg': 0.04240446403571226, 'depth': 4, 'random_strength': 70.2057777134535, 'min_data_in_leaf': 100, 'bagging_temperature': 35.500245511456896}. Best is trial 70 with value: 0.2249854029658976.\n"
     ]
    },
    {
     "name": "stdout",
     "output_type": "stream",
     "text": [
      "Repeat \u001b[1m\u001b[34m#1\n",
      "Repeat \u001b[1m\u001b[34m#2\n",
      "Repeat \u001b[1m\u001b[34m#3\n"
     ]
    },
    {
     "name": "stderr",
     "output_type": "stream",
     "text": [
      "[I 2023-06-17 14:11:55,099] Trial 98 finished with value: 0.23586918222564265 and parameters: {'bootstrap_type': 'Bayesian', 'grow_policy': 'Depthwise', 'learning_rate': 0.03089121822121511, 'l2_leaf_reg': 0.0630879308274765, 'depth': 4, 'random_strength': 70.29762149701973, 'min_data_in_leaf': 92, 'bagging_temperature': 32.85512395906653}. Best is trial 70 with value: 0.2249854029658976.\n"
     ]
    },
    {
     "name": "stdout",
     "output_type": "stream",
     "text": [
      "Repeat \u001b[1m\u001b[34m#1\n",
      "Repeat \u001b[1m\u001b[34m#2\n",
      "Repeat \u001b[1m\u001b[34m#3\n"
     ]
    },
    {
     "name": "stderr",
     "output_type": "stream",
     "text": [
      "[I 2023-06-17 14:12:18,297] Trial 99 finished with value: 0.23887907511105425 and parameters: {'bootstrap_type': 'Bayesian', 'grow_policy': 'Depthwise', 'learning_rate': 0.012345486266416544, 'l2_leaf_reg': 0.04022621582712001, 'depth': 4, 'random_strength': 74.9734357558426, 'min_data_in_leaf': 100, 'bagging_temperature': 34.748901457383255}. Best is trial 70 with value: 0.2249854029658976.\n"
     ]
    },
    {
     "name": "stdout",
     "output_type": "stream",
     "text": [
      "Repeat \u001b[1m\u001b[34m#1\n",
      "Repeat \u001b[1m\u001b[34m#2\n",
      "Repeat \u001b[1m\u001b[34m#3\n"
     ]
    },
    {
     "name": "stderr",
     "output_type": "stream",
     "text": [
      "[I 2023-06-17 14:12:41,809] Trial 100 finished with value: 0.32254163468273095 and parameters: {'bootstrap_type': 'Bayesian', 'grow_policy': 'Depthwise', 'learning_rate': 0.006965187872130648, 'l2_leaf_reg': 0.15778924567002076, 'depth': 8, 'random_strength': 81.77775736121255, 'min_data_in_leaf': 87, 'bagging_temperature': 50.573010226985254}. Best is trial 70 with value: 0.2249854029658976.\n"
     ]
    },
    {
     "name": "stdout",
     "output_type": "stream",
     "text": [
      "Repeat \u001b[1m\u001b[34m#1\n",
      "Repeat \u001b[1m\u001b[34m#2\n",
      "Repeat \u001b[1m\u001b[34m#3\n"
     ]
    },
    {
     "name": "stderr",
     "output_type": "stream",
     "text": [
      "[I 2023-06-17 14:12:58,828] Trial 101 finished with value: 0.23430126544592042 and parameters: {'bootstrap_type': 'Bayesian', 'grow_policy': 'Depthwise', 'learning_rate': 0.021510590754843222, 'l2_leaf_reg': 0.21883892136946417, 'depth': 4, 'random_strength': 71.96469654364017, 'min_data_in_leaf': 95, 'bagging_temperature': 38.63139601170003}. Best is trial 70 with value: 0.2249854029658976.\n"
     ]
    },
    {
     "name": "stdout",
     "output_type": "stream",
     "text": [
      "Repeat \u001b[1m\u001b[34m#1\n",
      "Repeat \u001b[1m\u001b[34m#2\n",
      "Repeat \u001b[1m\u001b[34m#3\n"
     ]
    },
    {
     "name": "stderr",
     "output_type": "stream",
     "text": [
      "[I 2023-06-17 14:13:11,107] Trial 102 finished with value: 0.2322572723583025 and parameters: {'bootstrap_type': 'Bayesian', 'grow_policy': 'Depthwise', 'learning_rate': 0.03783983801875811, 'l2_leaf_reg': 0.3760758248983142, 'depth': 4, 'random_strength': 75.91188811465881, 'min_data_in_leaf': 97, 'bagging_temperature': 43.64096445265708}. Best is trial 70 with value: 0.2249854029658976.\n"
     ]
    },
    {
     "name": "stdout",
     "output_type": "stream",
     "text": [
      "Repeat \u001b[1m\u001b[34m#1\n",
      "Repeat \u001b[1m\u001b[34m#2\n",
      "Repeat \u001b[1m\u001b[34m#3\n"
     ]
    },
    {
     "name": "stderr",
     "output_type": "stream",
     "text": [
      "[I 2023-06-17 14:13:25,355] Trial 103 finished with value: 0.24624267463900926 and parameters: {'bootstrap_type': 'Bayesian', 'grow_policy': 'Depthwise', 'learning_rate': 0.025000213538514914, 'l2_leaf_reg': 0.38711338777637505, 'depth': 4, 'random_strength': 75.38544347819223, 'min_data_in_leaf': 100, 'bagging_temperature': 45.11747886401365}. Best is trial 70 with value: 0.2249854029658976.\n"
     ]
    },
    {
     "name": "stdout",
     "output_type": "stream",
     "text": [
      "Repeat \u001b[1m\u001b[34m#1\n",
      "Repeat \u001b[1m\u001b[34m#2\n",
      "Repeat \u001b[1m\u001b[34m#3\n"
     ]
    },
    {
     "name": "stderr",
     "output_type": "stream",
     "text": [
      "[I 2023-06-17 14:13:37,382] Trial 104 finished with value: 0.2266256753699433 and parameters: {'bootstrap_type': 'Bayesian', 'grow_policy': 'Depthwise', 'learning_rate': 0.03412347691703237, 'l2_leaf_reg': 1.071126358359534, 'depth': 4, 'random_strength': 68.41242503309081, 'min_data_in_leaf': 96, 'bagging_temperature': 34.67388134259543}. Best is trial 70 with value: 0.2249854029658976.\n"
     ]
    },
    {
     "name": "stdout",
     "output_type": "stream",
     "text": [
      "Repeat \u001b[1m\u001b[34m#1\n",
      "Repeat \u001b[1m\u001b[34m#2\n",
      "Repeat \u001b[1m\u001b[34m#3\n"
     ]
    },
    {
     "name": "stderr",
     "output_type": "stream",
     "text": [
      "[I 2023-06-17 14:13:50,506] Trial 105 finished with value: 0.22513497442685346 and parameters: {'bootstrap_type': 'Bayesian', 'grow_policy': 'Depthwise', 'learning_rate': 0.034053905060309565, 'l2_leaf_reg': 1.119934772851717, 'depth': 4, 'random_strength': 67.7916830198765, 'min_data_in_leaf': 93, 'bagging_temperature': 31.13202827851402}. Best is trial 70 with value: 0.2249854029658976.\n"
     ]
    },
    {
     "name": "stdout",
     "output_type": "stream",
     "text": [
      "Repeat \u001b[1m\u001b[34m#1\n",
      "Repeat \u001b[1m\u001b[34m#2\n",
      "Repeat \u001b[1m\u001b[34m#3\n"
     ]
    },
    {
     "name": "stderr",
     "output_type": "stream",
     "text": [
      "[I 2023-06-17 14:14:03,190] Trial 106 finished with value: 0.2380571533221284 and parameters: {'bootstrap_type': 'Bayesian', 'grow_policy': 'Depthwise', 'learning_rate': 0.03654475865573752, 'l2_leaf_reg': 3.739398391889641, 'depth': 4, 'random_strength': 70.09319563884586, 'min_data_in_leaf': 96, 'bagging_temperature': 32.04702782145948}. Best is trial 70 with value: 0.2249854029658976.\n"
     ]
    },
    {
     "name": "stdout",
     "output_type": "stream",
     "text": [
      "Repeat \u001b[1m\u001b[34m#1\n",
      "Repeat \u001b[1m\u001b[34m#2\n",
      "Repeat \u001b[1m\u001b[34m#3\n"
     ]
    },
    {
     "name": "stderr",
     "output_type": "stream",
     "text": [
      "[I 2023-06-17 14:14:13,562] Trial 107 finished with value: 0.23466526787643338 and parameters: {'bootstrap_type': 'Bayesian', 'grow_policy': 'Depthwise', 'learning_rate': 0.04457198313808778, 'l2_leaf_reg': 1.1882668995292784, 'depth': 4, 'random_strength': 67.25301278685095, 'min_data_in_leaf': 92, 'bagging_temperature': 23.803793513663457}. Best is trial 70 with value: 0.2249854029658976.\n"
     ]
    },
    {
     "name": "stdout",
     "output_type": "stream",
     "text": [
      "Repeat \u001b[1m\u001b[34m#1\n",
      "Repeat \u001b[1m\u001b[34m#2\n",
      "Repeat \u001b[1m\u001b[34m#3\n"
     ]
    },
    {
     "name": "stderr",
     "output_type": "stream",
     "text": [
      "[I 2023-06-17 14:14:25,817] Trial 108 finished with value: 0.23648425596567937 and parameters: {'bootstrap_type': 'Bayesian', 'grow_policy': 'Depthwise', 'learning_rate': 0.03403659296247895, 'l2_leaf_reg': 0.9726626428107485, 'depth': 4, 'random_strength': 64.98180639580454, 'min_data_in_leaf': 88, 'bagging_temperature': 29.152467545613955}. Best is trial 70 with value: 0.2249854029658976.\n"
     ]
    },
    {
     "name": "stdout",
     "output_type": "stream",
     "text": [
      "Repeat \u001b[1m\u001b[34m#1\n",
      "Repeat \u001b[1m\u001b[34m#2\n",
      "Repeat \u001b[1m\u001b[34m#3\n"
     ]
    },
    {
     "name": "stderr",
     "output_type": "stream",
     "text": [
      "[I 2023-06-17 14:14:41,403] Trial 109 finished with value: 0.2272342872355467 and parameters: {'bootstrap_type': 'Bayesian', 'grow_policy': 'Depthwise', 'learning_rate': 0.030976388879039012, 'l2_leaf_reg': 1.59850472353422, 'depth': 5, 'random_strength': 60.2874623118227, 'min_data_in_leaf': 91, 'bagging_temperature': 36.49170116606865}. Best is trial 70 with value: 0.2249854029658976.\n"
     ]
    },
    {
     "name": "stdout",
     "output_type": "stream",
     "text": [
      "Repeat \u001b[1m\u001b[34m#1\n",
      "Repeat \u001b[1m\u001b[34m#2\n",
      "Repeat \u001b[1m\u001b[34m#3\n"
     ]
    },
    {
     "name": "stderr",
     "output_type": "stream",
     "text": [
      "[I 2023-06-17 14:14:53,567] Trial 110 finished with value: 0.23712483070033263 and parameters: {'bootstrap_type': 'Bayesian', 'grow_policy': 'Depthwise', 'learning_rate': 0.046942194783870225, 'l2_leaf_reg': 5.219821866356972, 'depth': 5, 'random_strength': 63.02206996161484, 'min_data_in_leaf': 85, 'bagging_temperature': 35.45336941039124}. Best is trial 70 with value: 0.2249854029658976.\n"
     ]
    },
    {
     "name": "stdout",
     "output_type": "stream",
     "text": [
      "Repeat \u001b[1m\u001b[34m#1\n",
      "Repeat \u001b[1m\u001b[34m#2\n",
      "Repeat \u001b[1m\u001b[34m#3\n"
     ]
    },
    {
     "name": "stderr",
     "output_type": "stream",
     "text": [
      "[I 2023-06-17 14:15:10,142] Trial 111 finished with value: 0.2271407377336839 and parameters: {'bootstrap_type': 'Bayesian', 'grow_policy': 'Depthwise', 'learning_rate': 0.028172512315109036, 'l2_leaf_reg': 2.9403319946686306, 'depth': 4, 'random_strength': 68.77846669389368, 'min_data_in_leaf': 93, 'bagging_temperature': 37.43875339688075}. Best is trial 70 with value: 0.2249854029658976.\n"
     ]
    },
    {
     "name": "stdout",
     "output_type": "stream",
     "text": [
      "Repeat \u001b[1m\u001b[34m#1\n",
      "Repeat \u001b[1m\u001b[34m#2\n",
      "Repeat \u001b[1m\u001b[34m#3\n"
     ]
    },
    {
     "name": "stderr",
     "output_type": "stream",
     "text": [
      "[I 2023-06-17 14:15:25,025] Trial 112 finished with value: 0.23629361060272847 and parameters: {'bootstrap_type': 'Bayesian', 'grow_policy': 'Depthwise', 'learning_rate': 0.029921986853401125, 'l2_leaf_reg': 2.6196724129757776, 'depth': 4, 'random_strength': 68.4495270647501, 'min_data_in_leaf': 91, 'bagging_temperature': 30.108309670600143}. Best is trial 70 with value: 0.2249854029658976.\n"
     ]
    },
    {
     "name": "stdout",
     "output_type": "stream",
     "text": [
      "Repeat \u001b[1m\u001b[34m#1\n",
      "Repeat \u001b[1m\u001b[34m#2\n",
      "Repeat \u001b[1m\u001b[34m#3\n"
     ]
    },
    {
     "name": "stderr",
     "output_type": "stream",
     "text": [
      "[I 2023-06-17 14:15:40,370] Trial 113 finished with value: 0.2275742584478866 and parameters: {'bootstrap_type': 'Bayesian', 'grow_policy': 'Depthwise', 'learning_rate': 0.028339891943541886, 'l2_leaf_reg': 3.5571446173254544, 'depth': 4, 'random_strength': 60.140391053283324, 'min_data_in_leaf': 94, 'bagging_temperature': 37.311002707648214}. Best is trial 70 with value: 0.2249854029658976.\n"
     ]
    },
    {
     "name": "stdout",
     "output_type": "stream",
     "text": [
      "Repeat \u001b[1m\u001b[34m#1\n",
      "Repeat \u001b[1m\u001b[34m#2\n",
      "Repeat \u001b[1m\u001b[34m#3\n"
     ]
    },
    {
     "name": "stderr",
     "output_type": "stream",
     "text": [
      "[I 2023-06-17 14:15:52,204] Trial 114 finished with value: 0.2512386944087775 and parameters: {'bootstrap_type': 'Bayesian', 'grow_policy': 'SymmetricTree', 'learning_rate': 0.026851702248073036, 'l2_leaf_reg': 4.0181956849279645, 'depth': 4, 'random_strength': 59.90093218713669, 'min_data_in_leaf': 90, 'bagging_temperature': 37.98299208066821, 'boosting_type': 'Plain'}. Best is trial 70 with value: 0.2249854029658976.\n"
     ]
    },
    {
     "name": "stdout",
     "output_type": "stream",
     "text": [
      "Repeat \u001b[1m\u001b[34m#1\n",
      "Repeat \u001b[1m\u001b[34m#2\n",
      "Repeat \u001b[1m\u001b[34m#3\n"
     ]
    },
    {
     "name": "stderr",
     "output_type": "stream",
     "text": [
      "[I 2023-06-17 14:16:06,115] Trial 115 finished with value: 0.2267848944940046 and parameters: {'bootstrap_type': 'Bayesian', 'grow_policy': 'Depthwise', 'learning_rate': 0.03242832348652486, 'l2_leaf_reg': 0.7927561298039327, 'depth': 5, 'random_strength': 64.79108483823956, 'min_data_in_leaf': 82, 'bagging_temperature': 37.49856059808426}. Best is trial 70 with value: 0.2249854029658976.\n"
     ]
    },
    {
     "name": "stdout",
     "output_type": "stream",
     "text": [
      "Repeat \u001b[1m\u001b[34m#1\n",
      "Repeat \u001b[1m\u001b[34m#2\n",
      "Repeat \u001b[1m\u001b[34m#3\n"
     ]
    },
    {
     "name": "stderr",
     "output_type": "stream",
     "text": [
      "[I 2023-06-17 14:16:18,724] Trial 116 finished with value: 0.23528986429711551 and parameters: {'bootstrap_type': 'Bayesian', 'grow_policy': 'Depthwise', 'learning_rate': 0.040032557223545345, 'l2_leaf_reg': 2.625539948079714, 'depth': 5, 'random_strength': 65.58120346990684, 'min_data_in_leaf': 82, 'bagging_temperature': 36.00180626089275}. Best is trial 70 with value: 0.2249854029658976.\n"
     ]
    },
    {
     "name": "stdout",
     "output_type": "stream",
     "text": [
      "Repeat \u001b[1m\u001b[34m#1\n",
      "Repeat \u001b[1m\u001b[34m#2\n",
      "Repeat \u001b[1m\u001b[34m#3\n"
     ]
    },
    {
     "name": "stderr",
     "output_type": "stream",
     "text": [
      "[I 2023-06-17 14:16:36,076] Trial 117 finished with value: 0.2270626944447609 and parameters: {'bootstrap_type': 'Bayesian', 'grow_policy': 'Depthwise', 'learning_rate': 0.03198829383023891, 'l2_leaf_reg': 8.205411556235289, 'depth': 5, 'random_strength': 60.56646736236255, 'min_data_in_leaf': 93, 'bagging_temperature': 31.341439787794428}. Best is trial 70 with value: 0.2249854029658976.\n"
     ]
    },
    {
     "name": "stdout",
     "output_type": "stream",
     "text": [
      "Repeat \u001b[1m\u001b[34m#1\n",
      "Repeat \u001b[1m\u001b[34m#2\n",
      "Repeat \u001b[1m\u001b[34m#3\n"
     ]
    },
    {
     "name": "stderr",
     "output_type": "stream",
     "text": [
      "[I 2023-06-17 14:16:51,250] Trial 118 finished with value: 0.23297772943089487 and parameters: {'bootstrap_type': 'Bayesian', 'grow_policy': 'Depthwise', 'learning_rate': 0.03265944960230731, 'l2_leaf_reg': 7.011202050530188, 'depth': 5, 'random_strength': 61.23398861062059, 'min_data_in_leaf': 93, 'bagging_temperature': 24.622414470133354}. Best is trial 70 with value: 0.2249854029658976.\n"
     ]
    },
    {
     "name": "stdout",
     "output_type": "stream",
     "text": [
      "Repeat \u001b[1m\u001b[34m#1\n",
      "Repeat \u001b[1m\u001b[34m#2\n",
      "Repeat \u001b[1m\u001b[34m#3\n"
     ]
    },
    {
     "name": "stderr",
     "output_type": "stream",
     "text": [
      "[I 2023-06-17 14:17:05,684] Trial 119 finished with value: 0.23314635469113099 and parameters: {'bootstrap_type': 'Bayesian', 'grow_policy': 'Depthwise', 'learning_rate': 0.04831310583569846, 'l2_leaf_reg': 8.955948495360003, 'depth': 5, 'random_strength': 57.15002401050565, 'min_data_in_leaf': 80, 'bagging_temperature': 38.08040980407797}. Best is trial 70 with value: 0.2249854029658976.\n"
     ]
    },
    {
     "name": "stdout",
     "output_type": "stream",
     "text": [
      "Repeat \u001b[1m\u001b[34m#1\n",
      "Repeat \u001b[1m\u001b[34m#2\n",
      "Repeat \u001b[1m\u001b[34m#3\n"
     ]
    },
    {
     "name": "stderr",
     "output_type": "stream",
     "text": [
      "[I 2023-06-17 14:17:16,804] Trial 120 finished with value: 0.23469140535176036 and parameters: {'bootstrap_type': 'Bayesian', 'grow_policy': 'Depthwise', 'learning_rate': 0.04340452694190733, 'l2_leaf_reg': 1.4779291936046353, 'depth': 5, 'random_strength': 63.660328973784615, 'min_data_in_leaf': 87, 'bagging_temperature': 30.81805552528862}. Best is trial 70 with value: 0.2249854029658976.\n"
     ]
    },
    {
     "name": "stdout",
     "output_type": "stream",
     "text": [
      "Repeat \u001b[1m\u001b[34m#1\n",
      "Repeat \u001b[1m\u001b[34m#2\n",
      "Repeat \u001b[1m\u001b[34m#3\n"
     ]
    },
    {
     "name": "stderr",
     "output_type": "stream",
     "text": [
      "[I 2023-06-17 14:17:31,484] Trial 121 finished with value: 0.2372275629818784 and parameters: {'bootstrap_type': 'Bayesian', 'grow_policy': 'Depthwise', 'learning_rate': 0.028249484776070966, 'l2_leaf_reg': 0.788673942290571, 'depth': 5, 'random_strength': 69.03212810664631, 'min_data_in_leaf': 98, 'bagging_temperature': 32.722288594059854}. Best is trial 70 with value: 0.2249854029658976.\n"
     ]
    },
    {
     "name": "stdout",
     "output_type": "stream",
     "text": [
      "Repeat \u001b[1m\u001b[34m#1\n",
      "Repeat \u001b[1m\u001b[34m#2\n",
      "Repeat \u001b[1m\u001b[34m#3\n"
     ]
    },
    {
     "name": "stderr",
     "output_type": "stream",
     "text": [
      "[I 2023-06-17 14:17:46,259] Trial 122 finished with value: 0.23100769910855648 and parameters: {'bootstrap_type': 'Bayesian', 'grow_policy': 'Depthwise', 'learning_rate': 0.032392115050348134, 'l2_leaf_reg': 4.056572683376505, 'depth': 5, 'random_strength': 65.63279880410389, 'min_data_in_leaf': 95, 'bagging_temperature': 35.72737892284392}. Best is trial 70 with value: 0.2249854029658976.\n"
     ]
    },
    {
     "name": "stdout",
     "output_type": "stream",
     "text": [
      "Repeat \u001b[1m\u001b[34m#1\n",
      "Repeat \u001b[1m\u001b[34m#2\n",
      "Repeat \u001b[1m\u001b[34m#3\n"
     ]
    },
    {
     "name": "stderr",
     "output_type": "stream",
     "text": [
      "[I 2023-06-17 14:18:02,299] Trial 123 finished with value: 0.23352023490188498 and parameters: {'bootstrap_type': 'Bayesian', 'grow_policy': 'Depthwise', 'learning_rate': 0.02443776012073279, 'l2_leaf_reg': 1.6351684325385658, 'depth': 4, 'random_strength': 72.18524202095588, 'min_data_in_leaf': 92, 'bagging_temperature': 39.567732170105074}. Best is trial 70 with value: 0.2249854029658976.\n"
     ]
    },
    {
     "name": "stdout",
     "output_type": "stream",
     "text": [
      "Repeat \u001b[1m\u001b[34m#1\n",
      "Repeat \u001b[1m\u001b[34m#2\n",
      "Repeat \u001b[1m\u001b[34m#3\n"
     ]
    },
    {
     "name": "stderr",
     "output_type": "stream",
     "text": [
      "[I 2023-06-17 14:18:15,794] Trial 124 finished with value: 0.2345506121540366 and parameters: {'bootstrap_type': 'Bayesian', 'grow_policy': 'Depthwise', 'learning_rate': 0.03784379212850326, 'l2_leaf_reg': 2.8132422800333674, 'depth': 7, 'random_strength': 68.10029862857809, 'min_data_in_leaf': 94, 'bagging_temperature': 27.56123137302261}. Best is trial 70 with value: 0.2249854029658976.\n"
     ]
    },
    {
     "name": "stdout",
     "output_type": "stream",
     "text": [
      "Repeat \u001b[1m\u001b[34m#1\n",
      "Repeat \u001b[1m\u001b[34m#2\n",
      "Repeat \u001b[1m\u001b[34m#3\n"
     ]
    },
    {
     "name": "stderr",
     "output_type": "stream",
     "text": [
      "[I 2023-06-17 14:18:31,664] Trial 125 finished with value: 0.2226666099510287 and parameters: {'bootstrap_type': 'Bayesian', 'grow_policy': 'Depthwise', 'learning_rate': 0.027347519411229912, 'l2_leaf_reg': 0.5572085654987665, 'depth': 4, 'random_strength': 61.75338287419879, 'min_data_in_leaf': 90, 'bagging_temperature': 31.26355842870209}. Best is trial 125 with value: 0.2226666099510287.\n"
     ]
    },
    {
     "name": "stdout",
     "output_type": "stream",
     "text": [
      "Repeat \u001b[1m\u001b[34m#1\n",
      "Repeat \u001b[1m\u001b[34m#2\n",
      "Repeat \u001b[1m\u001b[34m#3\n"
     ]
    },
    {
     "name": "stderr",
     "output_type": "stream",
     "text": [
      "[I 2023-06-17 14:19:16,030] Trial 126 finished with value: 0.2843273942051742 and parameters: {'bootstrap_type': 'Bayesian', 'grow_policy': 'SymmetricTree', 'learning_rate': 0.027985815653852417, 'l2_leaf_reg': 0.5516270228877008, 'depth': 4, 'random_strength': 58.55087799554263, 'min_data_in_leaf': 88, 'bagging_temperature': 27.230366532694763, 'boosting_type': 'Ordered'}. Best is trial 125 with value: 0.2226666099510287.\n"
     ]
    },
    {
     "name": "stdout",
     "output_type": "stream",
     "text": [
      "Repeat \u001b[1m\u001b[34m#1\n",
      "Repeat \u001b[1m\u001b[34m#2\n",
      "Repeat \u001b[1m\u001b[34m#3\n"
     ]
    },
    {
     "name": "stderr",
     "output_type": "stream",
     "text": [
      "[I 2023-06-17 14:19:31,933] Trial 127 finished with value: 0.22504677925867014 and parameters: {'bootstrap_type': 'Bayesian', 'grow_policy': 'Depthwise', 'learning_rate': 0.033131943917249655, 'l2_leaf_reg': 4.462470299141375, 'depth': 4, 'random_strength': 62.00505436120706, 'min_data_in_leaf': 85, 'bagging_temperature': 37.82494565518543}. Best is trial 125 with value: 0.2226666099510287.\n"
     ]
    },
    {
     "name": "stdout",
     "output_type": "stream",
     "text": [
      "Repeat \u001b[1m\u001b[34m#1\n",
      "Repeat \u001b[1m\u001b[34m#2\n",
      "Repeat \u001b[1m\u001b[34m#3\n"
     ]
    },
    {
     "name": "stderr",
     "output_type": "stream",
     "text": [
      "[I 2023-06-17 14:19:45,627] Trial 128 finished with value: 0.22837475559891984 and parameters: {'bootstrap_type': 'Bayesian', 'grow_policy': 'Depthwise', 'learning_rate': 0.04170353444128574, 'l2_leaf_reg': 7.449370570358033, 'depth': 4, 'random_strength': 61.26069871086635, 'min_data_in_leaf': 84, 'bagging_temperature': 40.73659660143703}. Best is trial 125 with value: 0.2226666099510287.\n"
     ]
    },
    {
     "name": "stdout",
     "output_type": "stream",
     "text": [
      "Repeat \u001b[1m\u001b[34m#1\n",
      "Repeat \u001b[1m\u001b[34m#2\n",
      "Repeat \u001b[1m\u001b[34m#3\n"
     ]
    },
    {
     "name": "stderr",
     "output_type": "stream",
     "text": [
      "[I 2023-06-17 14:19:56,000] Trial 129 finished with value: 0.23850347518747217 and parameters: {'bootstrap_type': 'Bayesian', 'grow_policy': 'Depthwise', 'learning_rate': 0.05371458125201682, 'l2_leaf_reg': 5.840528673037466, 'depth': 5, 'random_strength': 62.71986980645226, 'min_data_in_leaf': 84, 'bagging_temperature': 36.86660885222669}. Best is trial 125 with value: 0.2226666099510287.\n"
     ]
    },
    {
     "name": "stdout",
     "output_type": "stream",
     "text": [
      "Repeat \u001b[1m\u001b[34m#1\n",
      "Repeat \u001b[1m\u001b[34m#2\n",
      "Repeat \u001b[1m\u001b[34m#3\n"
     ]
    },
    {
     "name": "stderr",
     "output_type": "stream",
     "text": [
      "[I 2023-06-17 14:20:09,902] Trial 130 finished with value: 0.22708984074748118 and parameters: {'bootstrap_type': 'Bayesian', 'grow_policy': 'Depthwise', 'learning_rate': 0.04268411381382094, 'l2_leaf_reg': 9.768437470594268, 'depth': 4, 'random_strength': 56.54773848355001, 'min_data_in_leaf': 81, 'bagging_temperature': 40.6787169022454}. Best is trial 125 with value: 0.2226666099510287.\n"
     ]
    },
    {
     "name": "stdout",
     "output_type": "stream",
     "text": [
      "Repeat \u001b[1m\u001b[34m#1\n",
      "Repeat \u001b[1m\u001b[34m#2\n",
      "Repeat \u001b[1m\u001b[34m#3\n"
     ]
    },
    {
     "name": "stderr",
     "output_type": "stream",
     "text": [
      "[I 2023-06-17 14:20:24,433] Trial 131 finished with value: 0.23080637389203792 and parameters: {'bootstrap_type': 'Bayesian', 'grow_policy': 'Depthwise', 'learning_rate': 0.0404647614286827, 'l2_leaf_reg': 10.303677989064887, 'depth': 4, 'random_strength': 61.96429735061887, 'min_data_in_leaf': 82, 'bagging_temperature': 40.95620565359044}. Best is trial 125 with value: 0.2226666099510287.\n"
     ]
    },
    {
     "name": "stdout",
     "output_type": "stream",
     "text": [
      "Repeat \u001b[1m\u001b[34m#1\n",
      "Repeat \u001b[1m\u001b[34m#2\n",
      "Repeat \u001b[1m\u001b[34m#3\n"
     ]
    },
    {
     "name": "stderr",
     "output_type": "stream",
     "text": [
      "[I 2023-06-17 14:20:40,345] Trial 132 finished with value: 0.2291880562190193 and parameters: {'bootstrap_type': 'Bayesian', 'grow_policy': 'Depthwise', 'learning_rate': 0.03323720848112323, 'l2_leaf_reg': 6.151607198811039, 'depth': 4, 'random_strength': 55.47979581083679, 'min_data_in_leaf': 90, 'bagging_temperature': 36.63850956582858}. Best is trial 125 with value: 0.2226666099510287.\n"
     ]
    },
    {
     "name": "stdout",
     "output_type": "stream",
     "text": [
      "Repeat \u001b[1m\u001b[34m#1\n",
      "Repeat \u001b[1m\u001b[34m#2\n",
      "Repeat \u001b[1m\u001b[34m#3\n"
     ]
    },
    {
     "name": "stderr",
     "output_type": "stream",
     "text": [
      "[I 2023-06-17 14:20:49,503] Trial 133 finished with value: 0.24233165742544016 and parameters: {'bootstrap_type': 'Bayesian', 'grow_policy': 'Depthwise', 'learning_rate': 0.06739844607853174, 'l2_leaf_reg': 13.950335107310208, 'depth': 4, 'random_strength': 60.375036031999684, 'min_data_in_leaf': 79, 'bagging_temperature': 48.26718393876508}. Best is trial 125 with value: 0.2226666099510287.\n"
     ]
    },
    {
     "name": "stdout",
     "output_type": "stream",
     "text": [
      "Repeat \u001b[1m\u001b[34m#1\n",
      "Repeat \u001b[1m\u001b[34m#2\n",
      "Repeat \u001b[1m\u001b[34m#3\n"
     ]
    },
    {
     "name": "stderr",
     "output_type": "stream",
     "text": [
      "[I 2023-06-17 14:20:59,406] Trial 134 finished with value: 0.2359497672418156 and parameters: {'bootstrap_type': 'Bayesian', 'grow_policy': 'Depthwise', 'learning_rate': 0.05098923181935118, 'l2_leaf_reg': 3.657122278379415, 'depth': 4, 'random_strength': 64.19310928559187, 'min_data_in_leaf': 85, 'bagging_temperature': 39.98479073290541}. Best is trial 125 with value: 0.2226666099510287.\n"
     ]
    },
    {
     "name": "stdout",
     "output_type": "stream",
     "text": [
      "Repeat \u001b[1m\u001b[34m#1\n",
      "Repeat \u001b[1m\u001b[34m#2\n",
      "Repeat \u001b[1m\u001b[34m#3\n"
     ]
    },
    {
     "name": "stderr",
     "output_type": "stream",
     "text": [
      "[I 2023-06-17 14:21:10,308] Trial 135 finished with value: 0.23529930495515616 and parameters: {'bootstrap_type': 'Bayesian', 'grow_policy': 'Depthwise', 'learning_rate': 0.041379579491611425, 'l2_leaf_reg': 2.239341501741229, 'depth': 4, 'random_strength': 54.0968083458329, 'min_data_in_leaf': 77, 'bagging_temperature': 33.346778489186654}. Best is trial 125 with value: 0.2226666099510287.\n"
     ]
    },
    {
     "name": "stdout",
     "output_type": "stream",
     "text": [
      "Repeat \u001b[1m\u001b[34m#1\n",
      "Repeat \u001b[1m\u001b[34m#2\n",
      "Repeat \u001b[1m\u001b[34m#3\n"
     ]
    },
    {
     "name": "stderr",
     "output_type": "stream",
     "text": [
      "[I 2023-06-17 14:21:22,714] Trial 136 finished with value: 0.23252660360812447 and parameters: {'bootstrap_type': 'Bayesian', 'grow_policy': 'Depthwise', 'learning_rate': 0.03603689389081324, 'l2_leaf_reg': 8.780766240792683, 'depth': 4, 'random_strength': 59.27956116237026, 'min_data_in_leaf': 82, 'bagging_temperature': 30.181864193152776}. Best is trial 125 with value: 0.2226666099510287.\n"
     ]
    },
    {
     "name": "stdout",
     "output_type": "stream",
     "text": [
      "Repeat \u001b[1m\u001b[34m#1\n",
      "Repeat \u001b[1m\u001b[34m#2\n",
      "Repeat \u001b[1m\u001b[34m#3\n"
     ]
    },
    {
     "name": "stderr",
     "output_type": "stream",
     "text": [
      "[I 2023-06-17 14:21:34,565] Trial 137 finished with value: 0.22314069068371986 and parameters: {'bootstrap_type': 'Bayesian', 'grow_policy': 'Depthwise', 'learning_rate': 0.06355466944909395, 'l2_leaf_reg': 18.126682214874286, 'depth': 4, 'random_strength': 66.5142360477813, 'min_data_in_leaf': 90, 'bagging_temperature': 41.86783487237623}. Best is trial 125 with value: 0.2226666099510287.\n"
     ]
    },
    {
     "name": "stdout",
     "output_type": "stream",
     "text": [
      "Repeat \u001b[1m\u001b[34m#1\n",
      "Repeat \u001b[1m\u001b[34m#2\n",
      "Repeat \u001b[1m\u001b[34m#3\n"
     ]
    },
    {
     "name": "stderr",
     "output_type": "stream",
     "text": [
      "[I 2023-06-17 14:21:45,798] Trial 138 finished with value: 0.22649627353426538 and parameters: {'bootstrap_type': 'Bayesian', 'grow_policy': 'Depthwise', 'learning_rate': 0.06341256874101822, 'l2_leaf_reg': 17.75661268296833, 'depth': 4, 'random_strength': 64.88132719035069, 'min_data_in_leaf': 91, 'bagging_temperature': 34.81365308533026}. Best is trial 125 with value: 0.2226666099510287.\n"
     ]
    },
    {
     "name": "stdout",
     "output_type": "stream",
     "text": [
      "Repeat \u001b[1m\u001b[34m#1\n",
      "Repeat \u001b[1m\u001b[34m#2\n",
      "Repeat \u001b[1m\u001b[34m#3\n"
     ]
    },
    {
     "name": "stderr",
     "output_type": "stream",
     "text": [
      "[I 2023-06-17 14:21:58,260] Trial 139 finished with value: 0.23608095521286954 and parameters: {'bootstrap_type': 'Bayesian', 'grow_policy': 'Depthwise', 'learning_rate': 0.059893823959816656, 'l2_leaf_reg': 14.18321121989435, 'depth': 6, 'random_strength': 65.98367538273875, 'min_data_in_leaf': 90, 'bagging_temperature': 32.90242229326848}. Best is trial 125 with value: 0.2226666099510287.\n"
     ]
    },
    {
     "name": "stdout",
     "output_type": "stream",
     "text": [
      "Repeat \u001b[1m\u001b[34m#1\n",
      "Repeat \u001b[1m\u001b[34m#2\n",
      "Repeat \u001b[1m\u001b[34m#3\n"
     ]
    },
    {
     "name": "stderr",
     "output_type": "stream",
     "text": [
      "[I 2023-06-17 14:22:04,037] Trial 140 finished with value: 0.26479836038021415 and parameters: {'bootstrap_type': 'Bayesian', 'grow_policy': 'Depthwise', 'learning_rate': 0.0707598812457139, 'l2_leaf_reg': 0.013384736709349124, 'depth': 5, 'random_strength': 66.51936336571393, 'min_data_in_leaf': 92, 'bagging_temperature': 42.02665245226019}. Best is trial 125 with value: 0.2226666099510287.\n"
     ]
    },
    {
     "name": "stdout",
     "output_type": "stream",
     "text": [
      "Repeat \u001b[1m\u001b[34m#1\n",
      "Repeat \u001b[1m\u001b[34m#2\n",
      "Repeat \u001b[1m\u001b[34m#3\n"
     ]
    },
    {
     "name": "stderr",
     "output_type": "stream",
     "text": [
      "[I 2023-06-17 14:22:14,298] Trial 141 finished with value: 0.22704302599680062 and parameters: {'bootstrap_type': 'Bayesian', 'grow_policy': 'Depthwise', 'learning_rate': 0.04814083680535574, 'l2_leaf_reg': 1.6596568548365422, 'depth': 4, 'random_strength': 63.50692845939216, 'min_data_in_leaf': 95, 'bagging_temperature': 36.282019777864534}. Best is trial 125 with value: 0.2226666099510287.\n"
     ]
    },
    {
     "name": "stdout",
     "output_type": "stream",
     "text": [
      "Repeat \u001b[1m\u001b[34m#1\n",
      "Repeat \u001b[1m\u001b[34m#2\n",
      "Repeat \u001b[1m\u001b[34m#3\n"
     ]
    },
    {
     "name": "stderr",
     "output_type": "stream",
     "text": [
      "[I 2023-06-17 14:22:27,278] Trial 142 finished with value: 0.229706441214539 and parameters: {'bootstrap_type': 'Bayesian', 'grow_policy': 'Depthwise', 'learning_rate': 0.05168869311479757, 'l2_leaf_reg': 19.951171405107523, 'depth': 4, 'random_strength': 63.45687981782333, 'min_data_in_leaf': 96, 'bagging_temperature': 34.73934374684298}. Best is trial 125 with value: 0.2226666099510287.\n"
     ]
    },
    {
     "name": "stdout",
     "output_type": "stream",
     "text": [
      "Repeat \u001b[1m\u001b[34m#1\n",
      "Repeat \u001b[1m\u001b[34m#2\n",
      "Repeat \u001b[1m\u001b[34m#3\n"
     ]
    },
    {
     "name": "stderr",
     "output_type": "stream",
     "text": [
      "[I 2023-06-17 14:22:33,846] Trial 143 finished with value: 0.23299845391292848 and parameters: {'bootstrap_type': 'Bayesian', 'grow_policy': 'Depthwise', 'learning_rate': 0.09237485503806331, 'l2_leaf_reg': 1.6736182895480185, 'depth': 4, 'random_strength': 69.36915086274432, 'min_data_in_leaf': 86, 'bagging_temperature': 29.835298166773708}. Best is trial 125 with value: 0.2226666099510287.\n"
     ]
    },
    {
     "name": "stdout",
     "output_type": "stream",
     "text": [
      "Repeat \u001b[1m\u001b[34m#1\n",
      "Repeat \u001b[1m\u001b[34m#2\n",
      "Repeat \u001b[1m\u001b[34m#3\n"
     ]
    },
    {
     "name": "stderr",
     "output_type": "stream",
     "text": [
      "[I 2023-06-17 14:22:41,451] Trial 144 finished with value: 0.23059923327920914 and parameters: {'bootstrap_type': 'Bayesian', 'grow_policy': 'Depthwise', 'learning_rate': 0.07634189450568907, 'l2_leaf_reg': 1.2659274648921328, 'depth': 4, 'random_strength': 63.56264962221224, 'min_data_in_leaf': 91, 'bagging_temperature': 34.599918646980804}. Best is trial 125 with value: 0.2226666099510287.\n"
     ]
    },
    {
     "name": "stdout",
     "output_type": "stream",
     "text": [
      "Repeat \u001b[1m\u001b[34m#1\n",
      "Repeat \u001b[1m\u001b[34m#2\n",
      "Repeat \u001b[1m\u001b[34m#3\n"
     ]
    },
    {
     "name": "stderr",
     "output_type": "stream",
     "text": [
      "[I 2023-06-17 14:22:49,852] Trial 145 finished with value: 0.23611916640573175 and parameters: {'bootstrap_type': 'Bayesian', 'grow_policy': 'Depthwise', 'learning_rate': 0.0612224410517333, 'l2_leaf_reg': 4.746446937648108, 'depth': 4, 'random_strength': 67.43660260708674, 'min_data_in_leaf': 89, 'bagging_temperature': 25.483744591616098}. Best is trial 125 with value: 0.2226666099510287.\n"
     ]
    },
    {
     "name": "stdout",
     "output_type": "stream",
     "text": [
      "Repeat \u001b[1m\u001b[34m#1\n",
      "Repeat \u001b[1m\u001b[34m#2\n",
      "Repeat \u001b[1m\u001b[34m#3\n"
     ]
    },
    {
     "name": "stderr",
     "output_type": "stream",
     "text": [
      "[I 2023-06-17 14:23:01,469] Trial 146 finished with value: 0.22581853818429753 and parameters: {'bootstrap_type': 'Bayesian', 'grow_policy': 'Depthwise', 'learning_rate': 0.045623229337135945, 'l2_leaf_reg': 2.3704343966026813, 'depth': 4, 'random_strength': 64.65758147081787, 'min_data_in_leaf': 93, 'bagging_temperature': 37.50362824097246}. Best is trial 125 with value: 0.2226666099510287.\n"
     ]
    },
    {
     "name": "stdout",
     "output_type": "stream",
     "text": [
      "Repeat \u001b[1m\u001b[34m#1\n",
      "Repeat \u001b[1m\u001b[34m#2\n",
      "Repeat \u001b[1m\u001b[34m#3\n"
     ]
    },
    {
     "name": "stderr",
     "output_type": "stream",
     "text": [
      "[I 2023-06-17 14:23:15,903] Trial 147 finished with value: 0.23559353843245504 and parameters: {'bootstrap_type': 'Bayesian', 'grow_policy': 'Depthwise', 'learning_rate': 0.04855122413047025, 'l2_leaf_reg': 24.766934243568148, 'depth': 4, 'random_strength': 64.83444089050575, 'min_data_in_leaf': 93, 'bagging_temperature': 39.57524599661073}. Best is trial 125 with value: 0.2226666099510287.\n"
     ]
    },
    {
     "name": "stdout",
     "output_type": "stream",
     "text": [
      "Repeat \u001b[1m\u001b[34m#1\n",
      "Repeat \u001b[1m\u001b[34m#2\n",
      "Repeat \u001b[1m\u001b[34m#3\n"
     ]
    },
    {
     "name": "stderr",
     "output_type": "stream",
     "text": [
      "[I 2023-06-17 14:23:28,685] Trial 148 finished with value: 0.23171848033011874 and parameters: {'bootstrap_type': 'Bayesian', 'grow_policy': 'Depthwise', 'learning_rate': 0.03445525492258072, 'l2_leaf_reg': 2.3549999478032553, 'depth': 4, 'random_strength': 57.36226656713764, 'min_data_in_leaf': 87, 'bagging_temperature': 31.530347445703004}. Best is trial 125 with value: 0.2226666099510287.\n"
     ]
    },
    {
     "name": "stdout",
     "output_type": "stream",
     "text": [
      "Repeat \u001b[1m\u001b[34m#1\n",
      "Repeat \u001b[1m\u001b[34m#2\n",
      "Repeat \u001b[1m\u001b[34m#3\n"
     ]
    },
    {
     "name": "stderr",
     "output_type": "stream",
     "text": [
      "[I 2023-06-17 14:23:37,120] Trial 149 finished with value: 0.23908124668095007 and parameters: {'bootstrap_type': 'Bayesian', 'grow_policy': 'Depthwise', 'learning_rate': 0.06652432576973401, 'l2_leaf_reg': 5.448427930860486, 'depth': 4, 'random_strength': 55.287399121129006, 'min_data_in_leaf': 95, 'bagging_temperature': 38.45010577210549}. Best is trial 125 with value: 0.2226666099510287.\n"
     ]
    },
    {
     "name": "stdout",
     "output_type": "stream",
     "text": [
      "Repeat \u001b[1m\u001b[34m#1\n",
      "Repeat \u001b[1m\u001b[34m#2\n",
      "Repeat \u001b[1m\u001b[34m#3\n"
     ]
    },
    {
     "name": "stderr",
     "output_type": "stream",
     "text": [
      "[I 2023-06-17 14:23:49,936] Trial 150 finished with value: 0.23174038809665895 and parameters: {'bootstrap_type': 'Bayesian', 'grow_policy': 'Depthwise', 'learning_rate': 0.04535400913384095, 'l2_leaf_reg': 11.56960588592927, 'depth': 4, 'random_strength': 62.76894548156931, 'min_data_in_leaf': 91, 'bagging_temperature': 42.116903996069226}. Best is trial 125 with value: 0.2226666099510287.\n"
     ]
    },
    {
     "name": "stdout",
     "output_type": "stream",
     "text": [
      "Repeat \u001b[1m\u001b[34m#1\n",
      "Repeat \u001b[1m\u001b[34m#2\n",
      "Repeat \u001b[1m\u001b[34m#3\n"
     ]
    },
    {
     "name": "stderr",
     "output_type": "stream",
     "text": [
      "[I 2023-06-17 14:24:04,466] Trial 151 finished with value: 0.22293712000111868 and parameters: {'bootstrap_type': 'Bayesian', 'grow_policy': 'Depthwise', 'learning_rate': 0.031198589793969122, 'l2_leaf_reg': 1.3081752965905349, 'depth': 4, 'random_strength': 70.91986365437502, 'min_data_in_leaf': 98, 'bagging_temperature': 36.33266800953342}. Best is trial 125 with value: 0.2226666099510287.\n"
     ]
    },
    {
     "name": "stdout",
     "output_type": "stream",
     "text": [
      "Repeat \u001b[1m\u001b[34m#1\n",
      "Repeat \u001b[1m\u001b[34m#2\n",
      "Repeat \u001b[1m\u001b[34m#3\n"
     ]
    },
    {
     "name": "stderr",
     "output_type": "stream",
     "text": [
      "[I 2023-06-17 14:24:18,910] Trial 152 finished with value: 0.2226155384504637 and parameters: {'bootstrap_type': 'Bayesian', 'grow_policy': 'Depthwise', 'learning_rate': 0.031249222601809973, 'l2_leaf_reg': 1.3464722388280397, 'depth': 4, 'random_strength': 61.40490499944793, 'min_data_in_leaf': 93, 'bagging_temperature': 33.64779033217148}. Best is trial 152 with value: 0.2226155384504637.\n"
     ]
    },
    {
     "name": "stdout",
     "output_type": "stream",
     "text": [
      "Repeat \u001b[1m\u001b[34m#1\n",
      "Repeat \u001b[1m\u001b[34m#2\n",
      "Repeat \u001b[1m\u001b[34m#3\n"
     ]
    },
    {
     "name": "stderr",
     "output_type": "stream",
     "text": [
      "[I 2023-06-17 14:24:31,377] Trial 153 finished with value: 0.235469263307493 and parameters: {'bootstrap_type': 'Bayesian', 'grow_policy': 'Depthwise', 'learning_rate': 0.038428969403335234, 'l2_leaf_reg': 2.8244572464091373, 'depth': 4, 'random_strength': 66.69797759336967, 'min_data_in_leaf': 96, 'bagging_temperature': 33.31203688110558}. Best is trial 152 with value: 0.2226155384504637.\n"
     ]
    },
    {
     "name": "stdout",
     "output_type": "stream",
     "text": [
      "Repeat \u001b[1m\u001b[34m#1\n",
      "Repeat \u001b[1m\u001b[34m#2\n",
      "Repeat \u001b[1m\u001b[34m#3\n"
     ]
    },
    {
     "name": "stderr",
     "output_type": "stream",
     "text": [
      "[I 2023-06-17 14:24:39,358] Trial 154 finished with value: 0.24272384992811671 and parameters: {'bootstrap_type': 'Bayesian', 'grow_policy': 'Depthwise', 'learning_rate': 0.05324739223158061, 'l2_leaf_reg': 1.0788200383975168, 'depth': 4, 'random_strength': 61.90027819067948, 'min_data_in_leaf': 93, 'bagging_temperature': 29.57614153830717}. Best is trial 152 with value: 0.2226155384504637.\n"
     ]
    },
    {
     "name": "stdout",
     "output_type": "stream",
     "text": [
      "Repeat \u001b[1m\u001b[34m#1\n",
      "Repeat \u001b[1m\u001b[34m#2\n",
      "Repeat \u001b[1m\u001b[34m#3\n"
     ]
    },
    {
     "name": "stderr",
     "output_type": "stream",
     "text": [
      "[I 2023-06-17 14:24:47,144] Trial 155 finished with value: 0.23919444744551122 and parameters: {'bootstrap_type': 'Bayesian', 'grow_policy': 'Depthwise', 'learning_rate': 0.07848936992926242, 'l2_leaf_reg': 0.5874239610160504, 'depth': 4, 'random_strength': 64.89480042064551, 'min_data_in_leaf': 98, 'bagging_temperature': 27.64797247376108}. Best is trial 152 with value: 0.2226155384504637.\n"
     ]
    },
    {
     "name": "stdout",
     "output_type": "stream",
     "text": [
      "Repeat \u001b[1m\u001b[34m#1\n",
      "Repeat \u001b[1m\u001b[34m#2\n",
      "Repeat \u001b[1m\u001b[34m#3\n"
     ]
    },
    {
     "name": "stderr",
     "output_type": "stream",
     "text": [
      "[I 2023-06-17 14:26:07,511] Trial 156 finished with value: 0.2620320015680933 and parameters: {'bootstrap_type': 'Bayesian', 'grow_policy': 'SymmetricTree', 'learning_rate': 0.03151712227242403, 'l2_leaf_reg': 22.30604353293256, 'depth': 4, 'random_strength': 68.46173833596032, 'min_data_in_leaf': 88, 'bagging_temperature': 37.64401735062934, 'boosting_type': 'Ordered'}. Best is trial 152 with value: 0.2226155384504637.\n"
     ]
    },
    {
     "name": "stdout",
     "output_type": "stream",
     "text": [
      "Repeat \u001b[1m\u001b[34m#1\n",
      "Repeat \u001b[1m\u001b[34m#2\n",
      "Repeat \u001b[1m\u001b[34m#3\n"
     ]
    },
    {
     "name": "stderr",
     "output_type": "stream",
     "text": [
      "[I 2023-06-17 14:26:24,435] Trial 157 finished with value: 0.23223552755658985 and parameters: {'bootstrap_type': 'Bayesian', 'grow_policy': 'Depthwise', 'learning_rate': 0.023250420040020463, 'l2_leaf_reg': 1.889382992235207, 'depth': 4, 'random_strength': 71.43982995722787, 'min_data_in_leaf': 94, 'bagging_temperature': 32.20696372081605}. Best is trial 152 with value: 0.2226155384504637.\n"
     ]
    },
    {
     "name": "stdout",
     "output_type": "stream",
     "text": [
      "Repeat \u001b[1m\u001b[34m#1\n",
      "Repeat \u001b[1m\u001b[34m#2\n",
      "Repeat \u001b[1m\u001b[34m#3\n"
     ]
    },
    {
     "name": "stderr",
     "output_type": "stream",
     "text": [
      "[I 2023-06-17 14:26:35,504] Trial 158 finished with value: 0.22572326237273102 and parameters: {'bootstrap_type': 'Bayesian', 'grow_policy': 'Depthwise', 'learning_rate': 0.046585047133567786, 'l2_leaf_reg': 4.244596227791552, 'depth': 4, 'random_strength': 65.73122542343741, 'min_data_in_leaf': 97, 'bagging_temperature': 44.41306654680209}. Best is trial 152 with value: 0.2226155384504637.\n"
     ]
    },
    {
     "name": "stdout",
     "output_type": "stream",
     "text": [
      "Repeat \u001b[1m\u001b[34m#1\n",
      "Repeat \u001b[1m\u001b[34m#2\n",
      "Repeat \u001b[1m\u001b[34m#3\n"
     ]
    },
    {
     "name": "stderr",
     "output_type": "stream",
     "text": [
      "[I 2023-06-17 14:26:47,151] Trial 159 finished with value: 0.2335848412410838 and parameters: {'bootstrap_type': 'Bayesian', 'grow_policy': 'Depthwise', 'learning_rate': 0.04363896109416505, 'l2_leaf_reg': 1.1307414070283386, 'depth': 4, 'random_strength': 59.16769695493579, 'min_data_in_leaf': 97, 'bagging_temperature': 42.588743714905284}. Best is trial 152 with value: 0.2226155384504637.\n"
     ]
    },
    {
     "name": "stdout",
     "output_type": "stream",
     "text": [
      "Repeat \u001b[1m\u001b[34m#1\n",
      "Repeat \u001b[1m\u001b[34m#2\n",
      "Repeat \u001b[1m\u001b[34m#3\n"
     ]
    },
    {
     "name": "stderr",
     "output_type": "stream",
     "text": [
      "[I 2023-06-17 14:26:57,478] Trial 160 finished with value: 0.23134749868046586 and parameters: {'bootstrap_type': 'Bayesian', 'grow_policy': 'Depthwise', 'learning_rate': 0.06074824105672466, 'l2_leaf_reg': 8.475139381385707, 'depth': 4, 'random_strength': 65.11521935370338, 'min_data_in_leaf': 95, 'bagging_temperature': 45.750640875126386}. Best is trial 152 with value: 0.2226155384504637.\n"
     ]
    },
    {
     "name": "stdout",
     "output_type": "stream",
     "text": [
      "Repeat \u001b[1m\u001b[34m#1\n",
      "Repeat \u001b[1m\u001b[34m#2\n",
      "Repeat \u001b[1m\u001b[34m#3\n"
     ]
    },
    {
     "name": "stderr",
     "output_type": "stream",
     "text": [
      "[I 2023-06-17 14:27:12,309] Trial 161 finished with value: 0.22230243977001354 and parameters: {'bootstrap_type': 'Bayesian', 'grow_policy': 'Depthwise', 'learning_rate': 0.03455413472134873, 'l2_leaf_reg': 4.074757866972016, 'depth': 4, 'random_strength': 68.22816896719202, 'min_data_in_leaf': 93, 'bagging_temperature': 35.1964979416094}. Best is trial 161 with value: 0.22230243977001354.\n"
     ]
    },
    {
     "name": "stdout",
     "output_type": "stream",
     "text": [
      "Repeat \u001b[1m\u001b[34m#1\n",
      "Repeat \u001b[1m\u001b[34m#2\n",
      "Repeat \u001b[1m\u001b[34m#3\n"
     ]
    },
    {
     "name": "stderr",
     "output_type": "stream",
     "text": [
      "[I 2023-06-17 14:27:27,242] Trial 162 finished with value: 0.22402199682332583 and parameters: {'bootstrap_type': 'Bayesian', 'grow_policy': 'Depthwise', 'learning_rate': 0.03524932973778285, 'l2_leaf_reg': 4.950991674502729, 'depth': 4, 'random_strength': 61.92418906810333, 'min_data_in_leaf': 98, 'bagging_temperature': 34.35234264764061}. Best is trial 161 with value: 0.22230243977001354.\n"
     ]
    },
    {
     "name": "stdout",
     "output_type": "stream",
     "text": [
      "Repeat \u001b[1m\u001b[34m#1\n",
      "Repeat \u001b[1m\u001b[34m#2\n",
      "Repeat \u001b[1m\u001b[34m#3\n"
     ]
    },
    {
     "name": "stderr",
     "output_type": "stream",
     "text": [
      "[I 2023-06-17 14:27:40,500] Trial 163 finished with value: 0.2310156843135165 and parameters: {'bootstrap_type': 'Bayesian', 'grow_policy': 'Depthwise', 'learning_rate': 0.03525604844230504, 'l2_leaf_reg': 4.463920664958587, 'depth': 4, 'random_strength': 70.9533091562612, 'min_data_in_leaf': 97, 'bagging_temperature': 33.922290785480456}. Best is trial 161 with value: 0.22230243977001354.\n"
     ]
    },
    {
     "name": "stdout",
     "output_type": "stream",
     "text": [
      "Repeat \u001b[1m\u001b[34m#1\n",
      "Repeat \u001b[1m\u001b[34m#2\n",
      "Repeat \u001b[1m\u001b[34m#3\n"
     ]
    },
    {
     "name": "stderr",
     "output_type": "stream",
     "text": [
      "[I 2023-06-17 14:27:50,270] Trial 164 finished with value: 0.22938511554455665 and parameters: {'bootstrap_type': 'Bayesian', 'grow_policy': 'Depthwise', 'learning_rate': 0.04890015359880793, 'l2_leaf_reg': 2.0137777948425954, 'depth': 4, 'random_strength': 61.88018545714665, 'min_data_in_leaf': 98, 'bagging_temperature': 34.72648678385834}. Best is trial 161 with value: 0.22230243977001354.\n"
     ]
    },
    {
     "name": "stdout",
     "output_type": "stream",
     "text": [
      "Repeat \u001b[1m\u001b[34m#1\n",
      "Repeat \u001b[1m\u001b[34m#2\n",
      "Repeat \u001b[1m\u001b[34m#3\n"
     ]
    },
    {
     "name": "stderr",
     "output_type": "stream",
     "text": [
      "[I 2023-06-17 14:28:07,487] Trial 165 finished with value: 0.2252119305865601 and parameters: {'bootstrap_type': 'Bayesian', 'grow_policy': 'Depthwise', 'learning_rate': 0.023435027214616422, 'l2_leaf_reg': 0.9352509491649952, 'depth': 4, 'random_strength': 67.5570634201127, 'min_data_in_leaf': 95, 'bagging_temperature': 31.140746114822058}. Best is trial 161 with value: 0.22230243977001354.\n"
     ]
    },
    {
     "name": "stdout",
     "output_type": "stream",
     "text": [
      "Repeat \u001b[1m\u001b[34m#1\n",
      "Repeat \u001b[1m\u001b[34m#2\n",
      "Repeat \u001b[1m\u001b[34m#3\n"
     ]
    },
    {
     "name": "stderr",
     "output_type": "stream",
     "text": [
      "[I 2023-06-17 14:28:24,936] Trial 166 finished with value: 0.23131704633056913 and parameters: {'bootstrap_type': 'Bayesian', 'grow_policy': 'Depthwise', 'learning_rate': 0.020915535758406843, 'l2_leaf_reg': 0.5982157085333464, 'depth': 4, 'random_strength': 73.15564042522637, 'min_data_in_leaf': 95, 'bagging_temperature': 29.51492258177929}. Best is trial 161 with value: 0.22230243977001354.\n"
     ]
    },
    {
     "name": "stdout",
     "output_type": "stream",
     "text": [
      "Repeat \u001b[1m\u001b[34m#1\n",
      "Repeat \u001b[1m\u001b[34m#2\n",
      "Repeat \u001b[1m\u001b[34m#3\n"
     ]
    },
    {
     "name": "stderr",
     "output_type": "stream",
     "text": [
      "[I 2023-06-17 14:28:41,584] Trial 167 finished with value: 0.2312607461544827 and parameters: {'bootstrap_type': 'Bayesian', 'grow_policy': 'Depthwise', 'learning_rate': 0.02509744966792358, 'l2_leaf_reg': 0.9896816059066151, 'depth': 4, 'random_strength': 66.27061552198532, 'min_data_in_leaf': 90, 'bagging_temperature': 36.40184013708448}. Best is trial 161 with value: 0.22230243977001354.\n"
     ]
    },
    {
     "name": "stdout",
     "output_type": "stream",
     "text": [
      "Repeat \u001b[1m\u001b[34m#1\n",
      "Repeat \u001b[1m\u001b[34m#2\n",
      "Repeat \u001b[1m\u001b[34m#3\n"
     ]
    },
    {
     "name": "stderr",
     "output_type": "stream",
     "text": [
      "[I 2023-06-17 14:28:51,079] Trial 168 finished with value: 0.24507648348660993 and parameters: {'bootstrap_type': 'Bayesian', 'grow_policy': 'Depthwise', 'learning_rate': 0.038304081225175715, 'l2_leaf_reg': 0.0018782565675436094, 'depth': 4, 'random_strength': 67.82950479761054, 'min_data_in_leaf': 99, 'bagging_temperature': 31.40723429524887}. Best is trial 161 with value: 0.22230243977001354.\n"
     ]
    },
    {
     "name": "stdout",
     "output_type": "stream",
     "text": [
      "Repeat \u001b[1m\u001b[34m#1\n",
      "Repeat \u001b[1m\u001b[34m#2\n",
      "Repeat \u001b[1m\u001b[34m#3\n"
     ]
    },
    {
     "name": "stderr",
     "output_type": "stream",
     "text": [
      "[I 2023-06-17 14:29:09,331] Trial 169 finished with value: 0.22861592685368382 and parameters: {'bootstrap_type': 'Bayesian', 'grow_policy': 'Depthwise', 'learning_rate': 0.0182991771146683, 'l2_leaf_reg': 0.5051670895747953, 'depth': 4, 'random_strength': 69.59866477641725, 'min_data_in_leaf': 96, 'bagging_temperature': 22.245345905536247}. Best is trial 161 with value: 0.22230243977001354.\n"
     ]
    },
    {
     "name": "stdout",
     "output_type": "stream",
     "text": [
      "Repeat \u001b[1m\u001b[34m#1\n",
      "Repeat \u001b[1m\u001b[34m#2\n",
      "Repeat \u001b[1m\u001b[34m#3\n"
     ]
    },
    {
     "name": "stderr",
     "output_type": "stream",
     "text": [
      "[I 2023-06-17 14:29:27,066] Trial 170 finished with value: 0.23336978970132707 and parameters: {'bootstrap_type': 'Bayesian', 'grow_policy': 'Depthwise', 'learning_rate': 0.02276576332354002, 'l2_leaf_reg': 0.2601625942088448, 'depth': 4, 'random_strength': 71.80468883266903, 'min_data_in_leaf': 91, 'bagging_temperature': 26.28251626209765}. Best is trial 161 with value: 0.22230243977001354.\n"
     ]
    },
    {
     "name": "stdout",
     "output_type": "stream",
     "text": [
      "Repeat \u001b[1m\u001b[34m#1\n",
      "Repeat \u001b[1m\u001b[34m#2\n",
      "Repeat \u001b[1m\u001b[34m#3\n"
     ]
    },
    {
     "name": "stderr",
     "output_type": "stream",
     "text": [
      "[I 2023-06-17 14:29:40,474] Trial 171 finished with value: 0.2344160373286298 and parameters: {'bootstrap_type': 'Bayesian', 'grow_policy': 'Depthwise', 'learning_rate': 0.031092619255365987, 'l2_leaf_reg': 3.4480710815034987, 'depth': 4, 'random_strength': 64.26308017857953, 'min_data_in_leaf': 93, 'bagging_temperature': 31.749714099637828}. Best is trial 161 with value: 0.22230243977001354.\n"
     ]
    },
    {
     "name": "stdout",
     "output_type": "stream",
     "text": [
      "Repeat \u001b[1m\u001b[34m#1\n",
      "Repeat \u001b[1m\u001b[34m#2\n",
      "Repeat \u001b[1m\u001b[34m#3\n"
     ]
    },
    {
     "name": "stderr",
     "output_type": "stream",
     "text": [
      "[I 2023-06-17 14:29:54,538] Trial 172 finished with value: 0.22755086569676566 and parameters: {'bootstrap_type': 'Bayesian', 'grow_policy': 'Depthwise', 'learning_rate': 0.03068075215668161, 'l2_leaf_reg': 1.6495882796903918, 'depth': 4, 'random_strength': 66.81623485000304, 'min_data_in_leaf': 93, 'bagging_temperature': 35.154218323148285}. Best is trial 161 with value: 0.22230243977001354.\n"
     ]
    },
    {
     "name": "stdout",
     "output_type": "stream",
     "text": [
      "Repeat \u001b[1m\u001b[34m#1\n",
      "Repeat \u001b[1m\u001b[34m#2\n",
      "Repeat \u001b[1m\u001b[34m#3\n"
     ]
    },
    {
     "name": "stderr",
     "output_type": "stream",
     "text": [
      "[I 2023-06-17 14:30:09,755] Trial 173 finished with value: 0.22566338184590073 and parameters: {'bootstrap_type': 'Bayesian', 'grow_policy': 'Depthwise', 'learning_rate': 0.03473587028003813, 'l2_leaf_reg': 5.037543898306517, 'depth': 4, 'random_strength': 61.96964280340726, 'min_data_in_leaf': 89, 'bagging_temperature': 38.271098748128935}. Best is trial 161 with value: 0.22230243977001354.\n"
     ]
    },
    {
     "name": "stdout",
     "output_type": "stream",
     "text": [
      "Repeat \u001b[1m\u001b[34m#1\n",
      "Repeat \u001b[1m\u001b[34m#2\n",
      "Repeat \u001b[1m\u001b[34m#3\n"
     ]
    },
    {
     "name": "stderr",
     "output_type": "stream",
     "text": [
      "[I 2023-06-17 14:30:19,632] Trial 174 finished with value: 0.2311612776603206 and parameters: {'bootstrap_type': 'Bayesian', 'grow_policy': 'Depthwise', 'learning_rate': 0.055077537537514154, 'l2_leaf_reg': 4.915076695367644, 'depth': 4, 'random_strength': 63.26891837035532, 'min_data_in_leaf': 89, 'bagging_temperature': 38.172676645274876}. Best is trial 161 with value: 0.22230243977001354.\n"
     ]
    },
    {
     "name": "stdout",
     "output_type": "stream",
     "text": [
      "Repeat \u001b[1m\u001b[34m#1\n",
      "Repeat \u001b[1m\u001b[34m#2\n",
      "Repeat \u001b[1m\u001b[34m#3\n"
     ]
    },
    {
     "name": "stderr",
     "output_type": "stream",
     "text": [
      "[I 2023-06-17 14:30:32,679] Trial 175 finished with value: 0.22986845406957865 and parameters: {'bootstrap_type': 'Bayesian', 'grow_policy': 'Depthwise', 'learning_rate': 0.0370617745241028, 'l2_leaf_reg': 1.172151609383499, 'depth': 4, 'random_strength': 58.383055701876096, 'min_data_in_leaf': 87, 'bagging_temperature': 39.230197065531165}. Best is trial 161 with value: 0.22230243977001354.\n"
     ]
    },
    {
     "name": "stdout",
     "output_type": "stream",
     "text": [
      "Repeat \u001b[1m\u001b[34m#1\n",
      "Repeat \u001b[1m\u001b[34m#2\n",
      "Repeat \u001b[1m\u001b[34m#3\n"
     ]
    },
    {
     "name": "stderr",
     "output_type": "stream",
     "text": [
      "[I 2023-06-17 14:30:43,611] Trial 176 finished with value: 0.23729141354103042 and parameters: {'bootstrap_type': 'Bayesian', 'grow_policy': 'Depthwise', 'learning_rate': 0.044829424085880025, 'l2_leaf_reg': 2.996428187842447, 'depth': 4, 'random_strength': 65.26026391245551, 'min_data_in_leaf': 98, 'bagging_temperature': 36.548251674093876}. Best is trial 161 with value: 0.22230243977001354.\n"
     ]
    },
    {
     "name": "stdout",
     "output_type": "stream",
     "text": [
      "Repeat \u001b[1m\u001b[34m#1\n",
      "Repeat \u001b[1m\u001b[34m#2\n",
      "Repeat \u001b[1m\u001b[34m#3\n"
     ]
    },
    {
     "name": "stderr",
     "output_type": "stream",
     "text": [
      "[I 2023-06-17 14:30:59,555] Trial 177 finished with value: 0.23136157647503366 and parameters: {'bootstrap_type': 'Bayesian', 'grow_policy': 'Depthwise', 'learning_rate': 0.024592125961298433, 'l2_leaf_reg': 0.7242302412619337, 'depth': 4, 'random_strength': 61.90083453569387, 'min_data_in_leaf': 95, 'bagging_temperature': 33.22860983517894}. Best is trial 161 with value: 0.22230243977001354.\n"
     ]
    },
    {
     "name": "stdout",
     "output_type": "stream",
     "text": [
      "Repeat \u001b[1m\u001b[34m#1\n",
      "Repeat \u001b[1m\u001b[34m#2\n",
      "Repeat \u001b[1m\u001b[34m#3\n"
     ]
    },
    {
     "name": "stderr",
     "output_type": "stream",
     "text": [
      "[I 2023-06-17 14:31:18,223] Trial 178 finished with value: 0.22883904058342086 and parameters: {'bootstrap_type': 'Bayesian', 'grow_policy': 'Depthwise', 'learning_rate': 0.027309180198919793, 'l2_leaf_reg': 16.228362591359005, 'depth': 4, 'random_strength': 68.89489918292712, 'min_data_in_leaf': 91, 'bagging_temperature': 28.179065314929158}. Best is trial 161 with value: 0.22230243977001354.\n"
     ]
    },
    {
     "name": "stdout",
     "output_type": "stream",
     "text": [
      "Repeat \u001b[1m\u001b[34m#1\n",
      "Repeat \u001b[1m\u001b[34m#2\n",
      "Repeat \u001b[1m\u001b[34m#3\n"
     ]
    },
    {
     "name": "stderr",
     "output_type": "stream",
     "text": [
      "[I 2023-06-17 14:31:26,207] Trial 179 finished with value: 0.24174458200572632 and parameters: {'bootstrap_type': 'Bernoulli', 'grow_policy': 'Depthwise', 'learning_rate': 0.03538851516583169, 'l2_leaf_reg': 2.038075543103097, 'depth': 4, 'random_strength': 67.53248799392478, 'min_data_in_leaf': 89, 'subsample': 0.7857395719643153}. Best is trial 161 with value: 0.22230243977001354.\n"
     ]
    },
    {
     "name": "stdout",
     "output_type": "stream",
     "text": [
      "Repeat \u001b[1m\u001b[34m#1\n",
      "Repeat \u001b[1m\u001b[34m#2\n",
      "Repeat \u001b[1m\u001b[34m#3\n"
     ]
    },
    {
     "name": "stderr",
     "output_type": "stream",
     "text": [
      "[I 2023-06-17 14:31:33,419] Trial 180 finished with value: 0.24465009528088025 and parameters: {'bootstrap_type': 'Bayesian', 'grow_policy': 'SymmetricTree', 'learning_rate': 0.0637897817719771, 'l2_leaf_reg': 5.261110303358649, 'depth': 4, 'random_strength': 70.9056073428031, 'min_data_in_leaf': 96, 'bagging_temperature': 34.84611183204282, 'boosting_type': 'Plain'}. Best is trial 161 with value: 0.22230243977001354.\n"
     ]
    },
    {
     "name": "stdout",
     "output_type": "stream",
     "text": [
      "Repeat \u001b[1m\u001b[34m#1\n",
      "Repeat \u001b[1m\u001b[34m#2\n",
      "Repeat \u001b[1m\u001b[34m#3\n"
     ]
    },
    {
     "name": "stderr",
     "output_type": "stream",
     "text": [
      "[I 2023-06-17 14:31:47,079] Trial 181 finished with value: 0.23501244409259522 and parameters: {'bootstrap_type': 'Bayesian', 'grow_policy': 'Depthwise', 'learning_rate': 0.03158513764912645, 'l2_leaf_reg': 7.033882472845503, 'depth': 4, 'random_strength': 60.19325723896704, 'min_data_in_leaf': 93, 'bagging_temperature': 30.834580753346867}. Best is trial 161 with value: 0.22230243977001354.\n"
     ]
    },
    {
     "name": "stdout",
     "output_type": "stream",
     "text": [
      "Repeat \u001b[1m\u001b[34m#1\n",
      "Repeat \u001b[1m\u001b[34m#2\n",
      "Repeat \u001b[1m\u001b[34m#3\n"
     ]
    },
    {
     "name": "stderr",
     "output_type": "stream",
     "text": [
      "[I 2023-06-17 14:31:59,134] Trial 182 finished with value: 0.22945488068057718 and parameters: {'bootstrap_type': 'Bayesian', 'grow_policy': 'Depthwise', 'learning_rate': 0.039485331286263955, 'l2_leaf_reg': 1.4778025167728501, 'depth': 4, 'random_strength': 63.4347638689162, 'min_data_in_leaf': 92, 'bagging_temperature': 37.17564838698332}. Best is trial 161 with value: 0.22230243977001354.\n"
     ]
    },
    {
     "name": "stdout",
     "output_type": "stream",
     "text": [
      "Repeat \u001b[1m\u001b[34m#1\n",
      "Repeat \u001b[1m\u001b[34m#2\n",
      "Repeat \u001b[1m\u001b[34m#3\n"
     ]
    },
    {
     "name": "stderr",
     "output_type": "stream",
     "text": [
      "[I 2023-06-17 14:32:10,351] Trial 183 finished with value: 0.22791000820799492 and parameters: {'bootstrap_type': 'Bayesian', 'grow_policy': 'Depthwise', 'learning_rate': 0.04761202524724368, 'l2_leaf_reg': 3.2345434616285753, 'depth': 4, 'random_strength': 61.187551478956614, 'min_data_in_leaf': 100, 'bagging_temperature': 40.977800339227684}. Best is trial 161 with value: 0.22230243977001354.\n"
     ]
    },
    {
     "name": "stdout",
     "output_type": "stream",
     "text": [
      "Repeat \u001b[1m\u001b[34m#1\n",
      "Repeat \u001b[1m\u001b[34m#2\n",
      "Repeat \u001b[1m\u001b[34m#3\n"
     ]
    },
    {
     "name": "stderr",
     "output_type": "stream",
     "text": [
      "[I 2023-06-17 14:32:31,994] Trial 184 finished with value: 0.22688086217052197 and parameters: {'bootstrap_type': 'Bayesian', 'grow_policy': 'Depthwise', 'learning_rate': 0.02058660042925095, 'l2_leaf_reg': 13.199495612454994, 'depth': 4, 'random_strength': 53.07721939885828, 'min_data_in_leaf': 94, 'bagging_temperature': 33.32007035726929}. Best is trial 161 with value: 0.22230243977001354.\n"
     ]
    },
    {
     "name": "stdout",
     "output_type": "stream",
     "text": [
      "Repeat \u001b[1m\u001b[34m#1\n",
      "Repeat \u001b[1m\u001b[34m#2\n",
      "Repeat \u001b[1m\u001b[34m#3\n"
     ]
    },
    {
     "name": "stderr",
     "output_type": "stream",
     "text": [
      "[I 2023-06-17 14:32:52,721] Trial 185 finished with value: 0.23191337838716083 and parameters: {'bootstrap_type': 'Bayesian', 'grow_policy': 'Depthwise', 'learning_rate': 0.01918631743110664, 'l2_leaf_reg': 12.3614192718615, 'depth': 4, 'random_strength': 53.24910854859941, 'min_data_in_leaf': 85, 'bagging_temperature': 34.0857142211981}. Best is trial 161 with value: 0.22230243977001354.\n"
     ]
    },
    {
     "name": "stdout",
     "output_type": "stream",
     "text": [
      "Repeat \u001b[1m\u001b[34m#1\n",
      "Repeat \u001b[1m\u001b[34m#2\n",
      "Repeat \u001b[1m\u001b[34m#3\n"
     ]
    },
    {
     "name": "stderr",
     "output_type": "stream",
     "text": [
      "[I 2023-06-17 14:33:09,187] Trial 186 finished with value: 0.23372073058992573 and parameters: {'bootstrap_type': 'Bayesian', 'grow_policy': 'Depthwise', 'learning_rate': 0.02284975520587952, 'l2_leaf_reg': 0.9892244534723116, 'depth': 4, 'random_strength': 58.22285161081943, 'min_data_in_leaf': 95, 'bagging_temperature': 38.94689442329242}. Best is trial 161 with value: 0.22230243977001354.\n"
     ]
    },
    {
     "name": "stdout",
     "output_type": "stream",
     "text": [
      "Repeat \u001b[1m\u001b[34m#1\n",
      "Repeat \u001b[1m\u001b[34m#2\n",
      "Repeat \u001b[1m\u001b[34m#3\n"
     ]
    },
    {
     "name": "stderr",
     "output_type": "stream",
     "text": [
      "[I 2023-06-17 14:33:34,115] Trial 187 finished with value: 0.22894319781838768 and parameters: {'bootstrap_type': 'Bayesian', 'grow_policy': 'Depthwise', 'learning_rate': 0.02618514795905769, 'l2_leaf_reg': 50.556003392759116, 'depth': 4, 'random_strength': 49.930389343920936, 'min_data_in_leaf': 98, 'bagging_temperature': 44.156128722988306}. Best is trial 161 with value: 0.22230243977001354.\n"
     ]
    },
    {
     "name": "stdout",
     "output_type": "stream",
     "text": [
      "Repeat \u001b[1m\u001b[34m#1\n",
      "Repeat \u001b[1m\u001b[34m#2\n",
      "Repeat \u001b[1m\u001b[34m#3\n"
     ]
    },
    {
     "name": "stderr",
     "output_type": "stream",
     "text": [
      "[I 2023-06-17 14:33:40,811] Trial 188 finished with value: 0.23182820629604872 and parameters: {'bootstrap_type': 'Bayesian', 'grow_policy': 'Depthwise', 'learning_rate': 0.08306879090394596, 'l2_leaf_reg': 0.42118165074453234, 'depth': 4, 'random_strength': 65.00169568455246, 'min_data_in_leaf': 90, 'bagging_temperature': 35.45712151759217}. Best is trial 161 with value: 0.22230243977001354.\n"
     ]
    },
    {
     "name": "stdout",
     "output_type": "stream",
     "text": [
      "Repeat \u001b[1m\u001b[34m#1\n",
      "Repeat \u001b[1m\u001b[34m#2\n",
      "Repeat \u001b[1m\u001b[34m#3\n"
     ]
    },
    {
     "name": "stderr",
     "output_type": "stream",
     "text": [
      "[I 2023-06-17 14:33:54,114] Trial 189 finished with value: 0.23248388334738176 and parameters: {'bootstrap_type': 'Bayesian', 'grow_policy': 'Depthwise', 'learning_rate': 0.02909617139538922, 'l2_leaf_reg': 0.11798007137446753, 'depth': 4, 'random_strength': 73.42387012933462, 'min_data_in_leaf': 88, 'bagging_temperature': 28.325458390329807}. Best is trial 161 with value: 0.22230243977001354.\n"
     ]
    },
    {
     "name": "stdout",
     "output_type": "stream",
     "text": [
      "Repeat \u001b[1m\u001b[34m#1\n",
      "Repeat \u001b[1m\u001b[34m#2\n",
      "Repeat \u001b[1m\u001b[34m#3\n"
     ]
    },
    {
     "name": "stderr",
     "output_type": "stream",
     "text": [
      "[I 2023-06-17 14:34:03,584] Trial 190 finished with value: 0.23621953042117147 and parameters: {'bootstrap_type': 'Bayesian', 'grow_policy': 'Depthwise', 'learning_rate': 0.05321961787274858, 'l2_leaf_reg': 2.2244554391225257, 'depth': 4, 'random_strength': 66.9068775025315, 'min_data_in_leaf': 94, 'bagging_temperature': 33.056388994533734}. Best is trial 161 with value: 0.22230243977001354.\n"
     ]
    },
    {
     "name": "stdout",
     "output_type": "stream",
     "text": [
      "Repeat \u001b[1m\u001b[34m#1\n",
      "Repeat \u001b[1m\u001b[34m#2\n",
      "Repeat \u001b[1m\u001b[34m#3\n"
     ]
    },
    {
     "name": "stderr",
     "output_type": "stream",
     "text": [
      "[I 2023-06-17 14:34:18,029] Trial 191 finished with value: 0.22765589781616857 and parameters: {'bootstrap_type': 'Bayesian', 'grow_policy': 'Depthwise', 'learning_rate': 0.03498696578644049, 'l2_leaf_reg': 7.336696566088381, 'depth': 4, 'random_strength': 60.879978911026924, 'min_data_in_leaf': 92, 'bagging_temperature': 31.319483275634518}. Best is trial 161 with value: 0.22230243977001354.\n"
     ]
    },
    {
     "name": "stdout",
     "output_type": "stream",
     "text": [
      "Repeat \u001b[1m\u001b[34m#1\n",
      "Repeat \u001b[1m\u001b[34m#2\n",
      "Repeat \u001b[1m\u001b[34m#3\n"
     ]
    },
    {
     "name": "stderr",
     "output_type": "stream",
     "text": [
      "[I 2023-06-17 14:34:33,592] Trial 192 finished with value: 0.22767370262287567 and parameters: {'bootstrap_type': 'Bayesian', 'grow_policy': 'Depthwise', 'learning_rate': 0.04257266851419535, 'l2_leaf_reg': 28.20620212219681, 'depth': 4, 'random_strength': 63.18880103142811, 'min_data_in_leaf': 97, 'bagging_temperature': 36.682989899597956}. Best is trial 161 with value: 0.22230243977001354.\n"
     ]
    },
    {
     "name": "stdout",
     "output_type": "stream",
     "text": [
      "Repeat \u001b[1m\u001b[34m#1\n",
      "Repeat \u001b[1m\u001b[34m#2\n",
      "Repeat \u001b[1m\u001b[34m#3\n"
     ]
    },
    {
     "name": "stderr",
     "output_type": "stream",
     "text": [
      "[I 2023-06-17 14:34:47,677] Trial 193 finished with value: 0.22562910556126667 and parameters: {'bootstrap_type': 'Bayesian', 'grow_policy': 'Depthwise', 'learning_rate': 0.03213184682910533, 'l2_leaf_reg': 4.32845377528419, 'depth': 4, 'random_strength': 59.55245282736968, 'min_data_in_leaf': 94, 'bagging_temperature': 25.965517536150045}. Best is trial 161 with value: 0.22230243977001354.\n"
     ]
    },
    {
     "name": "stdout",
     "output_type": "stream",
     "text": [
      "Repeat \u001b[1m\u001b[34m#1\n",
      "Repeat \u001b[1m\u001b[34m#2\n",
      "Repeat \u001b[1m\u001b[34m#3\n"
     ]
    },
    {
     "name": "stderr",
     "output_type": "stream",
     "text": [
      "[I 2023-06-17 14:35:07,191] Trial 194 finished with value: 0.22652225117163458 and parameters: {'bootstrap_type': 'Bayesian', 'grow_policy': 'Depthwise', 'learning_rate': 0.021431623992959965, 'l2_leaf_reg': 3.925765912352802, 'depth': 4, 'random_strength': 65.28352573526627, 'min_data_in_leaf': 96, 'bagging_temperature': 24.018851296989922}. Best is trial 161 with value: 0.22230243977001354.\n"
     ]
    },
    {
     "name": "stdout",
     "output_type": "stream",
     "text": [
      "Repeat \u001b[1m\u001b[34m#1\n",
      "Repeat \u001b[1m\u001b[34m#2\n",
      "Repeat \u001b[1m\u001b[34m#3\n"
     ]
    },
    {
     "name": "stderr",
     "output_type": "stream",
     "text": [
      "[I 2023-06-17 14:35:27,914] Trial 195 finished with value: 0.23150439472306142 and parameters: {'bootstrap_type': 'Bayesian', 'grow_policy': 'Depthwise', 'learning_rate': 0.019259972134745246, 'l2_leaf_reg': 4.482867623236412, 'depth': 4, 'random_strength': 66.60739672365312, 'min_data_in_leaf': 96, 'bagging_temperature': 25.388294407000856}. Best is trial 161 with value: 0.22230243977001354.\n"
     ]
    },
    {
     "name": "stdout",
     "output_type": "stream",
     "text": [
      "Repeat \u001b[1m\u001b[34m#1\n",
      "Repeat \u001b[1m\u001b[34m#2\n",
      "Repeat \u001b[1m\u001b[34m#3\n"
     ]
    },
    {
     "name": "stderr",
     "output_type": "stream",
     "text": [
      "[I 2023-06-17 14:35:45,430] Trial 196 finished with value: 0.2306087753157562 and parameters: {'bootstrap_type': 'Bayesian', 'grow_policy': 'Depthwise', 'learning_rate': 0.021583708591938287, 'l2_leaf_reg': 3.188926769436144, 'depth': 4, 'random_strength': 69.23390871239977, 'min_data_in_leaf': 91, 'bagging_temperature': 22.758756646812024}. Best is trial 161 with value: 0.22230243977001354.\n"
     ]
    },
    {
     "name": "stdout",
     "output_type": "stream",
     "text": [
      "Repeat \u001b[1m\u001b[34m#1\n",
      "Repeat \u001b[1m\u001b[34m#2\n",
      "Repeat \u001b[1m\u001b[34m#3\n"
     ]
    },
    {
     "name": "stderr",
     "output_type": "stream",
     "text": [
      "[I 2023-06-17 14:36:03,733] Trial 197 finished with value: 0.2365681495609533 and parameters: {'bootstrap_type': 'Bayesian', 'grow_policy': 'Depthwise', 'learning_rate': 0.02597029422545401, 'l2_leaf_reg': 15.853481075287176, 'depth': 4, 'random_strength': 58.441863090821776, 'min_data_in_leaf': 99, 'bagging_temperature': 20.377862451569364}. Best is trial 161 with value: 0.22230243977001354.\n"
     ]
    },
    {
     "name": "stdout",
     "output_type": "stream",
     "text": [
      "Repeat \u001b[1m\u001b[34m#1\n",
      "Repeat \u001b[1m\u001b[34m#2\n",
      "Repeat \u001b[1m\u001b[34m#3\n"
     ]
    },
    {
     "name": "stderr",
     "output_type": "stream",
     "text": [
      "[I 2023-06-17 14:36:42,670] Trial 198 finished with value: 0.2830176946407579 and parameters: {'bootstrap_type': 'Bayesian', 'grow_policy': 'Depthwise', 'learning_rate': 0.0032067331749596924, 'l2_leaf_reg': 5.522612009386854, 'depth': 4, 'random_strength': 65.24267769182894, 'min_data_in_leaf': 94, 'bagging_temperature': 27.18253576073577}. Best is trial 161 with value: 0.22230243977001354.\n"
     ]
    },
    {
     "name": "stdout",
     "output_type": "stream",
     "text": [
      "Repeat \u001b[1m\u001b[34m#1\n",
      "Repeat \u001b[1m\u001b[34m#2\n",
      "Repeat \u001b[1m\u001b[34m#3\n"
     ]
    },
    {
     "name": "stderr",
     "output_type": "stream",
     "text": [
      "[I 2023-06-17 14:36:51,252] Trial 199 finished with value: 0.25987969588470666 and parameters: {'bootstrap_type': 'Bayesian', 'grow_policy': 'Depthwise', 'learning_rate': 0.030763833761800835, 'l2_leaf_reg': 6.1754823969566615e-06, 'depth': 4, 'random_strength': 62.28340562590981, 'min_data_in_leaf': 86, 'bagging_temperature': 24.44955944207824}. Best is trial 161 with value: 0.22230243977001354.\n"
     ]
    },
    {
     "name": "stdout",
     "output_type": "stream",
     "text": [
      "Repeat \u001b[1m\u001b[34m#1\n",
      "Repeat \u001b[1m\u001b[34m#2\n",
      "Repeat \u001b[1m\u001b[34m#3\n"
     ]
    },
    {
     "name": "stderr",
     "output_type": "stream",
     "text": [
      "[I 2023-06-17 14:37:16,297] Trial 200 finished with value: 0.2288386377213993 and parameters: {'bootstrap_type': 'Bayesian', 'grow_policy': 'Depthwise', 'learning_rate': 0.017910954376261307, 'l2_leaf_reg': 11.757130912247895, 'depth': 4, 'random_strength': 56.678018931365784, 'min_data_in_leaf': 89, 'bagging_temperature': 29.596420923566843}. Best is trial 161 with value: 0.22230243977001354.\n"
     ]
    },
    {
     "name": "stdout",
     "output_type": "stream",
     "text": [
      "Repeat \u001b[1m\u001b[34m#1\n",
      "Repeat \u001b[1m\u001b[34m#2\n",
      "Repeat \u001b[1m\u001b[34m#3\n"
     ]
    },
    {
     "name": "stderr",
     "output_type": "stream",
     "text": [
      "[I 2023-06-17 14:37:28,468] Trial 201 finished with value: 0.2319091008958467 and parameters: {'bootstrap_type': 'Bayesian', 'grow_policy': 'Depthwise', 'learning_rate': 0.03635446405265301, 'l2_leaf_reg': 1.3500932820323472, 'depth': 4, 'random_strength': 63.137410552264775, 'min_data_in_leaf': 96, 'bagging_temperature': 39.145903727328296}. Best is trial 161 with value: 0.22230243977001354.\n"
     ]
    },
    {
     "name": "stdout",
     "output_type": "stream",
     "text": [
      "Repeat \u001b[1m\u001b[34m#1\n",
      "Repeat \u001b[1m\u001b[34m#2\n",
      "Repeat \u001b[1m\u001b[34m#3\n"
     ]
    },
    {
     "name": "stderr",
     "output_type": "stream",
     "text": [
      "[I 2023-06-17 14:37:44,367] Trial 202 finished with value: 0.2265038742134008 and parameters: {'bootstrap_type': 'Bayesian', 'grow_policy': 'Depthwise', 'learning_rate': 0.027719161284556634, 'l2_leaf_reg': 2.2435034119932813, 'depth': 4, 'random_strength': 64.84094172924186, 'min_data_in_leaf': 94, 'bagging_temperature': 33.71049480945399}. Best is trial 161 with value: 0.22230243977001354.\n"
     ]
    },
    {
     "name": "stdout",
     "output_type": "stream",
     "text": [
      "Repeat \u001b[1m\u001b[34m#1\n",
      "Repeat \u001b[1m\u001b[34m#2\n",
      "Repeat \u001b[1m\u001b[34m#3\n"
     ]
    },
    {
     "name": "stderr",
     "output_type": "stream",
     "text": [
      "[I 2023-06-17 14:38:01,834] Trial 203 finished with value: 0.22521398550661428 and parameters: {'bootstrap_type': 'Bayesian', 'grow_policy': 'Depthwise', 'learning_rate': 0.02503431527223189, 'l2_leaf_reg': 2.6437692134158737, 'depth': 4, 'random_strength': 67.94121313029959, 'min_data_in_leaf': 92, 'bagging_temperature': 33.55025803239926}. Best is trial 161 with value: 0.22230243977001354.\n"
     ]
    },
    {
     "name": "stdout",
     "output_type": "stream",
     "text": [
      "Repeat \u001b[1m\u001b[34m#1\n",
      "Repeat \u001b[1m\u001b[34m#2\n",
      "Repeat \u001b[1m\u001b[34m#3\n"
     ]
    },
    {
     "name": "stderr",
     "output_type": "stream",
     "text": [
      "[I 2023-06-17 14:38:16,200] Trial 204 finished with value: 0.2313649103075722 and parameters: {'bootstrap_type': 'Bayesian', 'grow_policy': 'Depthwise', 'learning_rate': 0.02933804669631194, 'l2_leaf_reg': 2.42809691732935, 'depth': 4, 'random_strength': 68.71482972126691, 'min_data_in_leaf': 92, 'bagging_temperature': 29.42808622205132}. Best is trial 161 with value: 0.22230243977001354.\n"
     ]
    },
    {
     "name": "stdout",
     "output_type": "stream",
     "text": [
      "Repeat \u001b[1m\u001b[34m#1\n",
      "Repeat \u001b[1m\u001b[34m#2\n",
      "Repeat \u001b[1m\u001b[34m#3\n"
     ]
    },
    {
     "name": "stderr",
     "output_type": "stream",
     "text": [
      "[I 2023-06-17 14:38:38,106] Trial 205 finished with value: 0.2469969168495528 and parameters: {'bootstrap_type': 'Bayesian', 'grow_policy': 'Depthwise', 'learning_rate': 0.02356432671729181, 'l2_leaf_reg': 0.7858803994547293, 'depth': 4, 'random_strength': 65.82188419395776, 'min_data_in_leaf': 11, 'bagging_temperature': 34.55057732278731}. Best is trial 161 with value: 0.22230243977001354.\n"
     ]
    },
    {
     "name": "stdout",
     "output_type": "stream",
     "text": [
      "Repeat \u001b[1m\u001b[34m#1\n",
      "Repeat \u001b[1m\u001b[34m#2\n",
      "Repeat \u001b[1m\u001b[34m#3\n"
     ]
    },
    {
     "name": "stderr",
     "output_type": "stream",
     "text": [
      "[I 2023-06-17 14:38:54,381] Trial 206 finished with value: 0.23066416702267248 and parameters: {'bootstrap_type': 'Bayesian', 'grow_policy': 'Depthwise', 'learning_rate': 0.026946960372550288, 'l2_leaf_reg': 3.412384293008207, 'depth': 4, 'random_strength': 70.05388770304046, 'min_data_in_leaf': 90, 'bagging_temperature': 40.988179482021025}. Best is trial 161 with value: 0.22230243977001354.\n"
     ]
    },
    {
     "name": "stdout",
     "output_type": "stream",
     "text": [
      "Repeat \u001b[1m\u001b[34m#1\n",
      "Repeat \u001b[1m\u001b[34m#2\n",
      "Repeat \u001b[1m\u001b[34m#3\n"
     ]
    },
    {
     "name": "stderr",
     "output_type": "stream",
     "text": [
      "[I 2023-06-17 14:39:07,178] Trial 207 finished with value: 0.22660083555678956 and parameters: {'bootstrap_type': 'Bayesian', 'grow_policy': 'Depthwise', 'learning_rate': 0.03521186052078759, 'l2_leaf_reg': 1.274902217743986, 'depth': 4, 'random_strength': 67.75592262818179, 'min_data_in_leaf': 98, 'bagging_temperature': 32.24560332245487}. Best is trial 161 with value: 0.22230243977001354.\n"
     ]
    },
    {
     "name": "stdout",
     "output_type": "stream",
     "text": [
      "Repeat \u001b[1m\u001b[34m#1\n",
      "Repeat \u001b[1m\u001b[34m#2\n",
      "Repeat \u001b[1m\u001b[34m#3\n"
     ]
    },
    {
     "name": "stderr",
     "output_type": "stream",
     "text": [
      "[I 2023-06-17 14:39:20,497] Trial 208 finished with value: 0.2319300929583299 and parameters: {'bootstrap_type': 'Bayesian', 'grow_policy': 'Depthwise', 'learning_rate': 0.03577153249760642, 'l2_leaf_reg': 2.1250895076125675, 'depth': 4, 'random_strength': 67.64804498923705, 'min_data_in_leaf': 100, 'bagging_temperature': 32.76090394823659}. Best is trial 161 with value: 0.22230243977001354.\n"
     ]
    },
    {
     "name": "stdout",
     "output_type": "stream",
     "text": [
      "Repeat \u001b[1m\u001b[34m#1\n",
      "Repeat \u001b[1m\u001b[34m#2\n",
      "Repeat \u001b[1m\u001b[34m#3\n"
     ]
    },
    {
     "name": "stderr",
     "output_type": "stream",
     "text": [
      "[I 2023-06-17 14:39:32,631] Trial 209 finished with value: 0.22877344410479541 and parameters: {'bootstrap_type': 'Bayesian', 'grow_policy': 'Depthwise', 'learning_rate': 0.04073340830506433, 'l2_leaf_reg': 5.1912601195464525, 'depth': 4, 'random_strength': 73.28236545787232, 'min_data_in_leaf': 98, 'bagging_temperature': 26.207946170360014}. Best is trial 161 with value: 0.22230243977001354.\n"
     ]
    },
    {
     "name": "stdout",
     "output_type": "stream",
     "text": [
      "Repeat \u001b[1m\u001b[34m#1\n",
      "Repeat \u001b[1m\u001b[34m#2\n",
      "Repeat \u001b[1m\u001b[34m#3\n"
     ]
    },
    {
     "name": "stderr",
     "output_type": "stream",
     "text": [
      "[I 2023-06-17 14:40:05,643] Trial 210 finished with value: 0.2441705618089499 and parameters: {'bootstrap_type': 'Bernoulli', 'grow_policy': 'SymmetricTree', 'learning_rate': 0.026883679092087186, 'l2_leaf_reg': 1.358647407711506, 'depth': 4, 'random_strength': 71.39070614405821, 'min_data_in_leaf': 97, 'subsample': 0.9891666599773596, 'boosting_type': 'Ordered'}. Best is trial 161 with value: 0.22230243977001354.\n"
     ]
    },
    {
     "name": "stdout",
     "output_type": "stream",
     "text": [
      "Repeat \u001b[1m\u001b[34m#1\n",
      "Repeat \u001b[1m\u001b[34m#2\n",
      "Repeat \u001b[1m\u001b[34m#3\n"
     ]
    },
    {
     "name": "stderr",
     "output_type": "stream",
     "text": [
      "[I 2023-06-17 14:40:18,535] Trial 211 finished with value: 0.22985342694724756 and parameters: {'bootstrap_type': 'Bayesian', 'grow_policy': 'Depthwise', 'learning_rate': 0.033016925934098815, 'l2_leaf_reg': 0.6567202760104773, 'depth': 4, 'random_strength': 65.80212515571817, 'min_data_in_leaf': 93, 'bagging_temperature': 30.62685199845815}. Best is trial 161 with value: 0.22230243977001354.\n"
     ]
    },
    {
     "name": "stdout",
     "output_type": "stream",
     "text": [
      "Repeat \u001b[1m\u001b[34m#1\n",
      "Repeat \u001b[1m\u001b[34m#2\n",
      "Repeat \u001b[1m\u001b[34m#3\n"
     ]
    },
    {
     "name": "stderr",
     "output_type": "stream",
     "text": [
      "[I 2023-06-17 14:40:23,972] Trial 212 finished with value: 0.24298348235262882 and parameters: {'bootstrap_type': 'Bayesian', 'grow_policy': 'Depthwise', 'learning_rate': 0.1288871658726193, 'l2_leaf_reg': 0.9662220147005898, 'depth': 4, 'random_strength': 64.58257222981713, 'min_data_in_leaf': 96, 'bagging_temperature': 37.45156847433076}. Best is trial 161 with value: 0.22230243977001354.\n"
     ]
    },
    {
     "name": "stdout",
     "output_type": "stream",
     "text": [
      "Repeat \u001b[1m\u001b[34m#1\n",
      "Repeat \u001b[1m\u001b[34m#2\n",
      "Repeat \u001b[1m\u001b[34m#3\n"
     ]
    },
    {
     "name": "stderr",
     "output_type": "stream",
     "text": [
      "[I 2023-06-17 14:40:38,134] Trial 213 finished with value: 0.2338846188207554 and parameters: {'bootstrap_type': 'Bayesian', 'grow_policy': 'Depthwise', 'learning_rate': 0.03204341938413697, 'l2_leaf_reg': 2.562984535531126, 'depth': 4, 'random_strength': 68.27082423986997, 'min_data_in_leaf': 92, 'bagging_temperature': 35.08750726386454}. Best is trial 161 with value: 0.22230243977001354.\n"
     ]
    },
    {
     "name": "stdout",
     "output_type": "stream",
     "text": [
      "Repeat \u001b[1m\u001b[34m#1\n",
      "Repeat \u001b[1m\u001b[34m#2\n",
      "Repeat \u001b[1m\u001b[34m#3\n"
     ]
    },
    {
     "name": "stderr",
     "output_type": "stream",
     "text": [
      "[I 2023-06-17 14:40:54,822] Trial 214 finished with value: 0.2347094314509075 and parameters: {'bootstrap_type': 'Bayesian', 'grow_policy': 'Depthwise', 'learning_rate': 0.02365709547127055, 'l2_leaf_reg': 1.5217127992353003, 'depth': 4, 'random_strength': 86.28409021664393, 'min_data_in_leaf': 94, 'bagging_temperature': 31.45408963215567}. Best is trial 161 with value: 0.22230243977001354.\n"
     ]
    },
    {
     "name": "stdout",
     "output_type": "stream",
     "text": [
      "Repeat \u001b[1m\u001b[34m#1\n",
      "Repeat \u001b[1m\u001b[34m#2\n",
      "Repeat \u001b[1m\u001b[34m#3\n"
     ]
    },
    {
     "name": "stderr",
     "output_type": "stream",
     "text": [
      "[I 2023-06-17 14:41:05,762] Trial 215 finished with value: 0.2347458751268221 and parameters: {'bootstrap_type': 'Bayesian', 'grow_policy': 'Depthwise', 'learning_rate': 0.04289218863760658, 'l2_leaf_reg': 3.967845878550067, 'depth': 4, 'random_strength': 61.465931101300626, 'min_data_in_leaf': 88, 'bagging_temperature': 38.220067532636506}. Best is trial 161 with value: 0.22230243977001354.\n"
     ]
    },
    {
     "name": "stdout",
     "output_type": "stream",
     "text": [
      "Repeat \u001b[1m\u001b[34m#1\n",
      "Repeat \u001b[1m\u001b[34m#2\n",
      "Repeat \u001b[1m\u001b[34m#3\n"
     ]
    },
    {
     "name": "stderr",
     "output_type": "stream",
     "text": [
      "[I 2023-06-17 14:41:21,399] Trial 216 finished with value: 0.2309713686304813 and parameters: {'bootstrap_type': 'Bayesian', 'grow_policy': 'Depthwise', 'learning_rate': 0.029078500746069758, 'l2_leaf_reg': 0.49683906558370433, 'depth': 9, 'random_strength': 67.11187432168595, 'min_data_in_leaf': 98, 'bagging_temperature': 33.008960516313294}. Best is trial 161 with value: 0.22230243977001354.\n"
     ]
    },
    {
     "name": "stdout",
     "output_type": "stream",
     "text": [
      "Repeat \u001b[1m\u001b[34m#1\n",
      "Repeat \u001b[1m\u001b[34m#2\n",
      "Repeat \u001b[1m\u001b[34m#3\n"
     ]
    },
    {
     "name": "stderr",
     "output_type": "stream",
     "text": [
      "[I 2023-06-17 14:41:33,259] Trial 217 finished with value: 0.23487843758918284 and parameters: {'bootstrap_type': 'Bayesian', 'grow_policy': 'Depthwise', 'learning_rate': 0.03807242448861232, 'l2_leaf_reg': 2.3272578991279476, 'depth': 4, 'random_strength': 64.49498730766103, 'min_data_in_leaf': 95, 'bagging_temperature': 28.908108515713035}. Best is trial 161 with value: 0.22230243977001354.\n"
     ]
    },
    {
     "name": "stdout",
     "output_type": "stream",
     "text": [
      "Repeat \u001b[1m\u001b[34m#1\n",
      "Repeat \u001b[1m\u001b[34m#2\n",
      "Repeat \u001b[1m\u001b[34m#3\n"
     ]
    },
    {
     "name": "stderr",
     "output_type": "stream",
     "text": [
      "[I 2023-06-17 14:41:38,225] Trial 218 finished with value: 0.23771469846707807 and parameters: {'bootstrap_type': 'Bayesian', 'grow_policy': 'Depthwise', 'learning_rate': 0.15749676781972907, 'l2_leaf_reg': 0.8787326162803644, 'depth': 4, 'random_strength': 59.75639594601405, 'min_data_in_leaf': 91, 'bagging_temperature': 41.853839203443854}. Best is trial 161 with value: 0.22230243977001354.\n"
     ]
    },
    {
     "name": "stdout",
     "output_type": "stream",
     "text": [
      "Repeat \u001b[1m\u001b[34m#1\n",
      "Repeat \u001b[1m\u001b[34m#2\n",
      "Repeat \u001b[1m\u001b[34m#3\n"
     ]
    },
    {
     "name": "stderr",
     "output_type": "stream",
     "text": [
      "[I 2023-06-17 14:41:53,610] Trial 219 finished with value: 0.22285381598413265 and parameters: {'bootstrap_type': 'Bayesian', 'grow_policy': 'Depthwise', 'learning_rate': 0.03396892390020772, 'l2_leaf_reg': 7.2050950946095424, 'depth': 4, 'random_strength': 70.4786462702472, 'min_data_in_leaf': 93, 'bagging_temperature': 36.1816441472763}. Best is trial 161 with value: 0.22230243977001354.\n"
     ]
    },
    {
     "name": "stdout",
     "output_type": "stream",
     "text": [
      "Repeat \u001b[1m\u001b[34m#1\n",
      "Repeat \u001b[1m\u001b[34m#2\n",
      "Repeat \u001b[1m\u001b[34m#3\n"
     ]
    },
    {
     "name": "stderr",
     "output_type": "stream",
     "text": [
      "[I 2023-06-17 14:42:04,111] Trial 220 finished with value: 0.23103333678076501 and parameters: {'bootstrap_type': 'Bayesian', 'grow_policy': 'Depthwise', 'learning_rate': 0.05492838876168918, 'l2_leaf_reg': 8.29406511578624, 'depth': 4, 'random_strength': 70.66691709989836, 'min_data_in_leaf': 93, 'bagging_temperature': 35.882639167816}. Best is trial 161 with value: 0.22230243977001354.\n"
     ]
    },
    {
     "name": "stdout",
     "output_type": "stream",
     "text": [
      "Repeat \u001b[1m\u001b[34m#1\n",
      "Repeat \u001b[1m\u001b[34m#2\n",
      "Repeat \u001b[1m\u001b[34m#3\n"
     ]
    },
    {
     "name": "stderr",
     "output_type": "stream",
     "text": [
      "[I 2023-06-17 14:42:18,897] Trial 221 finished with value: 0.22793968549408986 and parameters: {'bootstrap_type': 'Bayesian', 'grow_policy': 'Depthwise', 'learning_rate': 0.03419882347389858, 'l2_leaf_reg': 3.9487807489639675, 'depth': 4, 'random_strength': 69.83594989284876, 'min_data_in_leaf': 72, 'bagging_temperature': 34.544907433334}. Best is trial 161 with value: 0.22230243977001354.\n"
     ]
    },
    {
     "name": "stdout",
     "output_type": "stream",
     "text": [
      "Repeat \u001b[1m\u001b[34m#1\n",
      "Repeat \u001b[1m\u001b[34m#2\n",
      "Repeat \u001b[1m\u001b[34m#3\n"
     ]
    },
    {
     "name": "stderr",
     "output_type": "stream",
     "text": [
      "[I 2023-06-17 14:42:34,913] Trial 222 finished with value: 0.22683042156685507 and parameters: {'bootstrap_type': 'Bayesian', 'grow_policy': 'Depthwise', 'learning_rate': 0.02650780405133101, 'l2_leaf_reg': 5.956140326812031, 'depth': 4, 'random_strength': 66.76766179266113, 'min_data_in_leaf': 90, 'bagging_temperature': 37.55745527542345}. Best is trial 161 with value: 0.22230243977001354.\n"
     ]
    },
    {
     "name": "stdout",
     "output_type": "stream",
     "text": [
      "Repeat \u001b[1m\u001b[34m#1\n",
      "Repeat \u001b[1m\u001b[34m#2\n",
      "Repeat \u001b[1m\u001b[34m#3\n"
     ]
    },
    {
     "name": "stderr",
     "output_type": "stream",
     "text": [
      "[I 2023-06-17 14:42:46,956] Trial 223 finished with value: 0.22973908094938467 and parameters: {'bootstrap_type': 'Bayesian', 'grow_policy': 'Depthwise', 'learning_rate': 0.04051536688879277, 'l2_leaf_reg': 1.5589871971317029, 'depth': 4, 'random_strength': 64.19756262299813, 'min_data_in_leaf': 96, 'bagging_temperature': 39.45888215085825}. Best is trial 161 with value: 0.22230243977001354.\n"
     ]
    },
    {
     "name": "stdout",
     "output_type": "stream",
     "text": [
      "Repeat \u001b[1m\u001b[34m#1\n",
      "Repeat \u001b[1m\u001b[34m#2\n",
      "Repeat \u001b[1m\u001b[34m#3\n"
     ]
    },
    {
     "name": "stderr",
     "output_type": "stream",
     "text": [
      "[I 2023-06-17 14:43:02,002] Trial 224 finished with value: 0.2323001880167521 and parameters: {'bootstrap_type': 'Bayesian', 'grow_policy': 'Depthwise', 'learning_rate': 0.03176794936408566, 'l2_leaf_reg': 2.956243061814419, 'depth': 4, 'random_strength': 87.55463298898306, 'min_data_in_leaf': 94, 'bagging_temperature': 32.24699605692801}. Best is trial 161 with value: 0.22230243977001354.\n"
     ]
    },
    {
     "name": "stdout",
     "output_type": "stream",
     "text": [
      "Repeat \u001b[1m\u001b[34m#1\n",
      "Repeat \u001b[1m\u001b[34m#2\n",
      "Repeat \u001b[1m\u001b[34m#3\n"
     ]
    },
    {
     "name": "stderr",
     "output_type": "stream",
     "text": [
      "[I 2023-06-17 14:43:16,434] Trial 225 finished with value: 0.23642911500028582 and parameters: {'bootstrap_type': 'Bayesian', 'grow_policy': 'Depthwise', 'learning_rate': 0.025107160397854177, 'l2_leaf_reg': 0.25851682058230113, 'depth': 4, 'random_strength': 68.94186163049959, 'min_data_in_leaf': 92, 'bagging_temperature': 35.83006622616926}. Best is trial 161 with value: 0.22230243977001354.\n"
     ]
    },
    {
     "name": "stdout",
     "output_type": "stream",
     "text": [
      "Repeat \u001b[1m\u001b[34m#1\n",
      "Repeat \u001b[1m\u001b[34m#2\n",
      "Repeat \u001b[1m\u001b[34m#3\n"
     ]
    },
    {
     "name": "stderr",
     "output_type": "stream",
     "text": [
      "[I 2023-06-17 14:43:28,642] Trial 226 finished with value: 0.23012500908110103 and parameters: {'bootstrap_type': 'Bayesian', 'grow_policy': 'Depthwise', 'learning_rate': 0.046467482740575244, 'l2_leaf_reg': 7.841341709127168, 'depth': 4, 'random_strength': 73.2762634885736, 'min_data_in_leaf': 98, 'bagging_temperature': 43.63032307423826}. Best is trial 161 with value: 0.22230243977001354.\n"
     ]
    },
    {
     "name": "stdout",
     "output_type": "stream",
     "text": [
      "Repeat \u001b[1m\u001b[34m#1\n",
      "Repeat \u001b[1m\u001b[34m#2\n",
      "Repeat \u001b[1m\u001b[34m#3\n"
     ]
    },
    {
     "name": "stderr",
     "output_type": "stream",
     "text": [
      "[I 2023-06-17 14:43:47,294] Trial 227 finished with value: 0.232603288843249 and parameters: {'bootstrap_type': 'Bayesian', 'grow_policy': 'Depthwise', 'learning_rate': 0.0214873967474172, 'l2_leaf_reg': 1.126663247124891, 'depth': 4, 'random_strength': 62.31753268240437, 'min_data_in_leaf': 87, 'bagging_temperature': 30.844250306245662}. Best is trial 161 with value: 0.22230243977001354.\n"
     ]
    },
    {
     "name": "stdout",
     "output_type": "stream",
     "text": [
      "Repeat \u001b[1m\u001b[34m#1\n",
      "Repeat \u001b[1m\u001b[34m#2\n",
      "Repeat \u001b[1m\u001b[34m#3\n"
     ]
    },
    {
     "name": "stderr",
     "output_type": "stream",
     "text": [
      "[I 2023-06-17 14:44:00,573] Trial 228 finished with value: 0.23351671487334144 and parameters: {'bootstrap_type': 'Bayesian', 'grow_policy': 'Depthwise', 'learning_rate': 0.03486039554785425, 'l2_leaf_reg': 2.3546584125751893, 'depth': 4, 'random_strength': 65.64650008111681, 'min_data_in_leaf': 100, 'bagging_temperature': 33.65329434809455}. Best is trial 161 with value: 0.22230243977001354.\n"
     ]
    },
    {
     "name": "stdout",
     "output_type": "stream",
     "text": [
      "Repeat \u001b[1m\u001b[34m#1\n",
      "Repeat \u001b[1m\u001b[34m#2\n",
      "Repeat \u001b[1m\u001b[34m#3\n"
     ]
    },
    {
     "name": "stderr",
     "output_type": "stream",
     "text": [
      "[I 2023-06-17 14:44:16,493] Trial 229 finished with value: 0.22533169484232354 and parameters: {'bootstrap_type': 'Bayesian', 'grow_policy': 'Depthwise', 'learning_rate': 0.030042141218981747, 'l2_leaf_reg': 4.230506019319542, 'depth': 4, 'random_strength': 67.62981547073801, 'min_data_in_leaf': 95, 'bagging_temperature': 27.890798433418603}. Best is trial 161 with value: 0.22230243977001354.\n"
     ]
    },
    {
     "name": "stdout",
     "output_type": "stream",
     "text": [
      "Repeat \u001b[1m\u001b[34m#1\n",
      "Repeat \u001b[1m\u001b[34m#2\n",
      "Repeat \u001b[1m\u001b[34m#3\n"
     ]
    },
    {
     "name": "stderr",
     "output_type": "stream",
     "text": [
      "[I 2023-06-17 14:44:32,429] Trial 230 finished with value: 0.22864008010768308 and parameters: {'bootstrap_type': 'Bayesian', 'grow_policy': 'Depthwise', 'learning_rate': 0.0287388643412633, 'l2_leaf_reg': 4.49248517286359, 'depth': 4, 'random_strength': 71.71769389527304, 'min_data_in_leaf': 96, 'bagging_temperature': 26.720874684592054}. Best is trial 161 with value: 0.22230243977001354.\n"
     ]
    },
    {
     "name": "stdout",
     "output_type": "stream",
     "text": [
      "Repeat \u001b[1m\u001b[34m#1\n",
      "Repeat \u001b[1m\u001b[34m#2\n",
      "Repeat \u001b[1m\u001b[34m#3\n"
     ]
    },
    {
     "name": "stderr",
     "output_type": "stream",
     "text": [
      "[I 2023-06-17 14:45:10,367] Trial 231 finished with value: 0.6089363649655587 and parameters: {'bootstrap_type': 'Bayesian', 'grow_policy': 'Depthwise', 'learning_rate': 0.00015502995861000596, 'l2_leaf_reg': 1.6830889573022298, 'depth': 4, 'random_strength': 67.79277679824344, 'min_data_in_leaf': 94, 'bagging_temperature': 24.74828739323261}. Best is trial 161 with value: 0.22230243977001354.\n"
     ]
    },
    {
     "name": "stdout",
     "output_type": "stream",
     "text": [
      "Repeat \u001b[1m\u001b[34m#1\n",
      "Repeat \u001b[1m\u001b[34m#2\n",
      "Repeat \u001b[1m\u001b[34m#3\n"
     ]
    },
    {
     "name": "stderr",
     "output_type": "stream",
     "text": [
      "[I 2023-06-17 14:45:22,504] Trial 232 finished with value: 0.2268726402701896 and parameters: {'bootstrap_type': 'Bayesian', 'grow_policy': 'Depthwise', 'learning_rate': 0.038758515229908384, 'l2_leaf_reg': 3.4115379137317894, 'depth': 4, 'random_strength': 65.86245082769169, 'min_data_in_leaf': 92, 'bagging_temperature': 29.09587528832445}. Best is trial 161 with value: 0.22230243977001354.\n"
     ]
    },
    {
     "name": "stdout",
     "output_type": "stream",
     "text": [
      "Repeat \u001b[1m\u001b[34m#1\n",
      "Repeat \u001b[1m\u001b[34m#2\n",
      "Repeat \u001b[1m\u001b[34m#3\n"
     ]
    },
    {
     "name": "stderr",
     "output_type": "stream",
     "text": [
      "[I 2023-06-17 14:45:36,726] Trial 233 finished with value: 0.2321782518583596 and parameters: {'bootstrap_type': 'Bayesian', 'grow_policy': 'Depthwise', 'learning_rate': 0.030532486529591042, 'l2_leaf_reg': 6.321338286723277, 'depth': 4, 'random_strength': 63.258875098663545, 'min_data_in_leaf': 90, 'bagging_temperature': 22.951208489283708}. Best is trial 161 with value: 0.22230243977001354.\n"
     ]
    },
    {
     "name": "stdout",
     "output_type": "stream",
     "text": [
      "Repeat \u001b[1m\u001b[34m#1\n",
      "Repeat \u001b[1m\u001b[34m#2\n",
      "Repeat \u001b[1m\u001b[34m#3\n"
     ]
    },
    {
     "name": "stderr",
     "output_type": "stream",
     "text": [
      "[I 2023-06-17 14:45:49,961] Trial 234 finished with value: 0.24551597668264957 and parameters: {'bootstrap_type': 'Bayesian', 'grow_policy': 'Depthwise', 'learning_rate': 0.023649527204343743, 'l2_leaf_reg': 0.017206039342425233, 'depth': 8, 'random_strength': 70.01387007134952, 'min_data_in_leaf': 95, 'bagging_temperature': 37.56101639084072}. Best is trial 161 with value: 0.22230243977001354.\n"
     ]
    },
    {
     "name": "stdout",
     "output_type": "stream",
     "text": [
      "Repeat \u001b[1m\u001b[34m#1\n",
      "Repeat \u001b[1m\u001b[34m#2\n",
      "Repeat \u001b[1m\u001b[34m#3\n"
     ]
    },
    {
     "name": "stderr",
     "output_type": "stream",
     "text": [
      "[I 2023-06-17 14:45:58,333] Trial 235 finished with value: 0.2353312513544155 and parameters: {'bootstrap_type': 'Bayesian', 'grow_policy': 'Depthwise', 'learning_rate': 0.07061230147645589, 'l2_leaf_reg': 0.8616605430472342, 'depth': 4, 'random_strength': 67.11376677361142, 'min_data_in_leaf': 97, 'bagging_temperature': 32.29900413516167}. Best is trial 161 with value: 0.22230243977001354.\n"
     ]
    },
    {
     "name": "stdout",
     "output_type": "stream",
     "text": [
      "Repeat \u001b[1m\u001b[34m#1\n",
      "Repeat \u001b[1m\u001b[34m#2\n",
      "Repeat \u001b[1m\u001b[34m#3\n"
     ]
    },
    {
     "name": "stderr",
     "output_type": "stream",
     "text": [
      "[I 2023-06-17 14:46:07,008] Trial 236 finished with value: 0.2204946060949904 and parameters: {'bootstrap_type': 'Bayesian', 'grow_policy': 'Depthwise', 'learning_rate': 0.10165458137073116, 'l2_leaf_reg': 10.997113865371967, 'depth': 4, 'random_strength': 61.17292817727494, 'min_data_in_leaf': 93, 'bagging_temperature': 40.10274445507417}. Best is trial 236 with value: 0.2204946060949904.\n"
     ]
    },
    {
     "name": "stdout",
     "output_type": "stream",
     "text": [
      "Repeat \u001b[1m\u001b[34m#1\n",
      "Repeat \u001b[1m\u001b[34m#2\n",
      "Repeat \u001b[1m\u001b[34m#3\n"
     ]
    },
    {
     "name": "stderr",
     "output_type": "stream",
     "text": [
      "[I 2023-06-17 14:46:15,708] Trial 237 finished with value: 0.23532813862889557 and parameters: {'bootstrap_type': 'Bayesian', 'grow_policy': 'Depthwise', 'learning_rate': 0.08168002892182348, 'l2_leaf_reg': 16.170580436269447, 'depth': 4, 'random_strength': 60.08439031798638, 'min_data_in_leaf': 93, 'bagging_temperature': 46.71418723449805}. Best is trial 236 with value: 0.2204946060949904.\n"
     ]
    },
    {
     "name": "stdout",
     "output_type": "stream",
     "text": [
      "Repeat \u001b[1m\u001b[34m#1\n",
      "Repeat \u001b[1m\u001b[34m#2\n",
      "Repeat \u001b[1m\u001b[34m#3\n"
     ]
    },
    {
     "name": "stderr",
     "output_type": "stream",
     "text": [
      "[I 2023-06-17 14:46:28,022] Trial 238 finished with value: 0.2295901616117272 and parameters: {'bootstrap_type': 'Bayesian', 'grow_policy': 'Depthwise', 'learning_rate': 0.049199044020544196, 'l2_leaf_reg': 24.39073299028122, 'depth': 4, 'random_strength': 62.3440944642692, 'min_data_in_leaf': 95, 'bagging_temperature': 40.789734527287834}. Best is trial 236 with value: 0.2204946060949904.\n"
     ]
    },
    {
     "name": "stdout",
     "output_type": "stream",
     "text": [
      "Repeat \u001b[1m\u001b[34m#1\n",
      "Repeat \u001b[1m\u001b[34m#2\n",
      "Repeat \u001b[1m\u001b[34m#3\n"
     ]
    },
    {
     "name": "stderr",
     "output_type": "stream",
     "text": [
      "[I 2023-06-17 14:46:33,845] Trial 239 finished with value: 0.2372835458101452 and parameters: {'bootstrap_type': 'Bayesian', 'grow_policy': 'Depthwise', 'learning_rate': 0.12440853667150639, 'l2_leaf_reg': 10.229587119037916, 'depth': 4, 'random_strength': 68.60400356834455, 'min_data_in_leaf': 91, 'bagging_temperature': 19.976560567874742}. Best is trial 236 with value: 0.2204946060949904.\n"
     ]
    },
    {
     "name": "stdout",
     "output_type": "stream",
     "text": [
      "Repeat \u001b[1m\u001b[34m#1\n",
      "Repeat \u001b[1m\u001b[34m#2\n",
      "Repeat \u001b[1m\u001b[34m#3\n"
     ]
    },
    {
     "name": "stderr",
     "output_type": "stream",
     "text": [
      "[I 2023-06-17 14:46:46,085] Trial 240 finished with value: 0.2302753190210242 and parameters: {'bootstrap_type': 'Bayesian', 'grow_policy': 'Depthwise', 'learning_rate': 0.04083160461796925, 'l2_leaf_reg': 4.768148161709667, 'depth': 4, 'random_strength': 84.07256539592674, 'min_data_in_leaf': 98, 'bagging_temperature': 27.82974366658158}. Best is trial 236 with value: 0.2204946060949904.\n"
     ]
    },
    {
     "name": "stdout",
     "output_type": "stream",
     "text": [
      "Repeat \u001b[1m\u001b[34m#1\n",
      "Repeat \u001b[1m\u001b[34m#2\n",
      "Repeat \u001b[1m\u001b[34m#3\n"
     ]
    },
    {
     "name": "stderr",
     "output_type": "stream",
     "text": [
      "[I 2023-06-17 14:46:58,585] Trial 241 finished with value: 0.2272296411587372 and parameters: {'bootstrap_type': 'Bayesian', 'grow_policy': 'Depthwise', 'learning_rate': 0.10174708935067757, 'l2_leaf_reg': 61.53338945672105, 'depth': 4, 'random_strength': 64.14107406974338, 'min_data_in_leaf': 89, 'bagging_temperature': 36.446120158829004}. Best is trial 236 with value: 0.2204946060949904.\n"
     ]
    },
    {
     "name": "stdout",
     "output_type": "stream",
     "text": [
      "Repeat \u001b[1m\u001b[34m#1\n",
      "Repeat \u001b[1m\u001b[34m#2\n",
      "Repeat \u001b[1m\u001b[34m#3\n"
     ]
    },
    {
     "name": "stderr",
     "output_type": "stream",
     "text": [
      "[I 2023-06-17 14:47:09,239] Trial 242 finished with value: 0.24482706265019857 and parameters: {'bootstrap_type': 'Bayesian', 'grow_policy': 'Depthwise', 'learning_rate': 0.03383938186196539, 'l2_leaf_reg': 0.00798142258155703, 'depth': 4, 'random_strength': 61.15481918217715, 'min_data_in_leaf': 93, 'bagging_temperature': 39.43389039901516}. Best is trial 236 with value: 0.2204946060949904.\n"
     ]
    },
    {
     "name": "stdout",
     "output_type": "stream",
     "text": [
      "Repeat \u001b[1m\u001b[34m#1\n",
      "Repeat \u001b[1m\u001b[34m#2\n",
      "Repeat \u001b[1m\u001b[34m#3\n"
     ]
    },
    {
     "name": "stderr",
     "output_type": "stream",
     "text": [
      "[I 2023-06-17 14:47:14,815] Trial 243 finished with value: 0.22843696723419452 and parameters: {'bootstrap_type': 'Bayesian', 'grow_policy': 'Depthwise', 'learning_rate': 0.11678971550813803, 'l2_leaf_reg': 2.237254584248063, 'depth': 4, 'random_strength': 65.00479376740398, 'min_data_in_leaf': 96, 'bagging_temperature': 34.20479477810666}. Best is trial 236 with value: 0.2204946060949904.\n"
     ]
    },
    {
     "name": "stdout",
     "output_type": "stream",
     "text": [
      "Repeat \u001b[1m\u001b[34m#1\n",
      "Repeat \u001b[1m\u001b[34m#2\n",
      "Repeat \u001b[1m\u001b[34m#3\n"
     ]
    },
    {
     "name": "stderr",
     "output_type": "stream",
     "text": [
      "[I 2023-06-17 14:47:25,077] Trial 244 finished with value: 0.25330925728733794 and parameters: {'bootstrap_type': 'Bayesian', 'grow_policy': 'Depthwise', 'learning_rate': 0.028737947322022665, 'l2_leaf_reg': 0.0003668973478020128, 'depth': 4, 'random_strength': 58.79675094826986, 'min_data_in_leaf': 94, 'bagging_temperature': 42.37793494380993}. Best is trial 236 with value: 0.2204946060949904.\n"
     ]
    },
    {
     "name": "stdout",
     "output_type": "stream",
     "text": [
      "Repeat \u001b[1m\u001b[34m#1\n",
      "Repeat \u001b[1m\u001b[34m#2\n",
      "Repeat \u001b[1m\u001b[34m#3\n"
     ]
    },
    {
     "name": "stderr",
     "output_type": "stream",
     "text": [
      "[I 2023-06-17 14:47:40,532] Trial 245 finished with value: 0.2287885324626616 and parameters: {'bootstrap_type': 'Bayesian', 'grow_policy': 'Depthwise', 'learning_rate': 0.03406907866579253, 'l2_leaf_reg': 9.679142706609777, 'depth': 4, 'random_strength': 66.88916197995898, 'min_data_in_leaf': 91, 'bagging_temperature': 35.23518143453668}. Best is trial 236 with value: 0.2204946060949904.\n"
     ]
    },
    {
     "name": "stdout",
     "output_type": "stream",
     "text": [
      "Repeat \u001b[1m\u001b[34m#1\n",
      "Repeat \u001b[1m\u001b[34m#2\n",
      "Repeat \u001b[1m\u001b[34m#3\n"
     ]
    },
    {
     "name": "stderr",
     "output_type": "stream",
     "text": [
      "[I 2023-06-17 14:47:45,241] Trial 246 finished with value: 0.23174620207565244 and parameters: {'bootstrap_type': 'Bayesian', 'grow_policy': 'Depthwise', 'learning_rate': 0.20040225834814143, 'l2_leaf_reg': 3.239143909475757, 'depth': 4, 'random_strength': 63.87091647320746, 'min_data_in_leaf': 92, 'bagging_temperature': 30.770439725648483}. Best is trial 236 with value: 0.2204946060949904.\n"
     ]
    },
    {
     "name": "stdout",
     "output_type": "stream",
     "text": [
      "Repeat \u001b[1m\u001b[34m#1\n",
      "Repeat \u001b[1m\u001b[34m#2\n",
      "Repeat \u001b[1m\u001b[34m#3\n"
     ]
    },
    {
     "name": "stderr",
     "output_type": "stream",
     "text": [
      "[I 2023-06-17 14:47:48,938] Trial 247 finished with value: 0.27190780914367907 and parameters: {'bootstrap_type': 'Bayesian', 'grow_policy': 'Depthwise', 'learning_rate': 0.28576787260420217, 'l2_leaf_reg': 1.3263940422095315, 'depth': 4, 'random_strength': 89.63959983703309, 'min_data_in_leaf': 97, 'bagging_temperature': 38.30885252536013}. Best is trial 236 with value: 0.2204946060949904.\n"
     ]
    },
    {
     "name": "stdout",
     "output_type": "stream",
     "text": [
      "Repeat \u001b[1m\u001b[34m#1\n",
      "Repeat \u001b[1m\u001b[34m#2\n",
      "Repeat \u001b[1m\u001b[34m#3\n"
     ]
    },
    {
     "name": "stderr",
     "output_type": "stream",
     "text": [
      "[I 2023-06-17 14:48:07,575] Trial 248 finished with value: 0.27896268073119207 and parameters: {'bootstrap_type': 'Bayesian', 'grow_policy': 'SymmetricTree', 'learning_rate': 0.025000201666673553, 'l2_leaf_reg': 5.730080700780666, 'depth': 4, 'random_strength': 71.30214877906818, 'min_data_in_leaf': 89, 'bagging_temperature': 50.94351063050762, 'boosting_type': 'Plain'}. Best is trial 236 with value: 0.2204946060949904.\n"
     ]
    },
    {
     "name": "stdout",
     "output_type": "stream",
     "text": [
      "Repeat \u001b[1m\u001b[34m#1\n",
      "Repeat \u001b[1m\u001b[34m#2\n",
      "Repeat \u001b[1m\u001b[34m#3\n"
     ]
    },
    {
     "name": "stderr",
     "output_type": "stream",
     "text": [
      "[I 2023-06-17 14:48:14,575] Trial 249 finished with value: 0.22441024306869803 and parameters: {'bootstrap_type': 'Bayesian', 'grow_policy': 'Depthwise', 'learning_rate': 0.09106064734489201, 'l2_leaf_reg': 1.9934079505478204, 'depth': 4, 'random_strength': 76.98897720243122, 'min_data_in_leaf': 94, 'bagging_temperature': 33.080529889512036}. Best is trial 236 with value: 0.2204946060949904.\n"
     ]
    },
    {
     "name": "stdout",
     "output_type": "stream",
     "text": [
      "Repeat \u001b[1m\u001b[34m#1\n",
      "Repeat \u001b[1m\u001b[34m#2\n",
      "Repeat \u001b[1m\u001b[34m#3\n"
     ]
    },
    {
     "name": "stderr",
     "output_type": "stream",
     "text": [
      "[I 2023-06-17 14:48:18,848] Trial 250 finished with value: 0.2511267682634018 and parameters: {'bootstrap_type': 'Bernoulli', 'grow_policy': 'Depthwise', 'learning_rate': 0.10206278907317387, 'l2_leaf_reg': 2.084015954202041, 'depth': 4, 'random_strength': 75.65340903726626, 'min_data_in_leaf': 94, 'subsample': 0.6792870906523214}. Best is trial 236 with value: 0.2204946060949904.\n"
     ]
    },
    {
     "name": "stdout",
     "output_type": "stream",
     "text": [
      "Repeat \u001b[1m\u001b[34m#1\n",
      "Repeat \u001b[1m\u001b[34m#2\n",
      "Repeat \u001b[1m\u001b[34m#3\n"
     ]
    },
    {
     "name": "stderr",
     "output_type": "stream",
     "text": [
      "[I 2023-06-17 14:48:27,514] Trial 251 finished with value: 0.2399260863257088 and parameters: {'bootstrap_type': 'Bayesian', 'grow_policy': 'Depthwise', 'learning_rate': 0.0680416940574556, 'l2_leaf_reg': 22.415827053012404, 'depth': 4, 'random_strength': 76.84438536223718, 'min_data_in_leaf': 95, 'bagging_temperature': 32.92488103325833}. Best is trial 236 with value: 0.2204946060949904.\n"
     ]
    },
    {
     "name": "stdout",
     "output_type": "stream",
     "text": [
      "Repeat \u001b[1m\u001b[34m#1\n",
      "Repeat \u001b[1m\u001b[34m#2\n",
      "Repeat \u001b[1m\u001b[34m#3\n"
     ]
    },
    {
     "name": "stderr",
     "output_type": "stream",
     "text": [
      "[I 2023-06-17 14:48:51,067] Trial 252 finished with value: 0.23082900004525578 and parameters: {'bootstrap_type': 'Bayesian', 'grow_policy': 'Depthwise', 'learning_rate': 0.017559297181498866, 'l2_leaf_reg': 3.6934802778661706, 'depth': 4, 'random_strength': 80.71946034917659, 'min_data_in_leaf': 99, 'bagging_temperature': 30.33149131388011}. Best is trial 236 with value: 0.2204946060949904.\n"
     ]
    },
    {
     "name": "stdout",
     "output_type": "stream",
     "text": [
      "Repeat \u001b[1m\u001b[34m#1\n",
      "Repeat \u001b[1m\u001b[34m#2\n",
      "Repeat \u001b[1m\u001b[34m#3\n"
     ]
    },
    {
     "name": "stderr",
     "output_type": "stream",
     "text": [
      "[I 2023-06-17 14:48:59,311] Trial 253 finished with value: 0.22207529864441203 and parameters: {'bootstrap_type': 'Bayesian', 'grow_policy': 'Depthwise', 'learning_rate': 0.08173667235105905, 'l2_leaf_reg': 8.50001584664909, 'depth': 4, 'random_strength': 74.22080677952673, 'min_data_in_leaf': 93, 'bagging_temperature': 34.239025189191345}. Best is trial 236 with value: 0.2204946060949904.\n"
     ]
    },
    {
     "name": "stdout",
     "output_type": "stream",
     "text": [
      "Repeat \u001b[1m\u001b[34m#1\n",
      "Repeat \u001b[1m\u001b[34m#2\n",
      "Repeat \u001b[1m\u001b[34m#3\n"
     ]
    },
    {
     "name": "stderr",
     "output_type": "stream",
     "text": [
      "[I 2023-06-17 14:49:06,558] Trial 254 finished with value: 0.23854956101908384 and parameters: {'bootstrap_type': 'Bayesian', 'grow_policy': 'Depthwise', 'learning_rate': 0.09018817743205754, 'l2_leaf_reg': 7.951739970985509, 'depth': 4, 'random_strength': 73.8744767377222, 'min_data_in_leaf': 91, 'bagging_temperature': 27.634848987333594}. Best is trial 236 with value: 0.2204946060949904.\n"
     ]
    },
    {
     "name": "stdout",
     "output_type": "stream",
     "text": [
      "Repeat \u001b[1m\u001b[34m#1\n",
      "Repeat \u001b[1m\u001b[34m#2\n",
      "Repeat \u001b[1m\u001b[34m#3\n"
     ]
    },
    {
     "name": "stderr",
     "output_type": "stream",
     "text": [
      "[I 2023-06-17 14:49:13,601] Trial 255 finished with value: 0.24208307458321565 and parameters: {'bootstrap_type': 'Bayesian', 'grow_policy': 'Depthwise', 'learning_rate': 0.09266717101203771, 'l2_leaf_reg': 13.662686962514629, 'depth': 4, 'random_strength': 72.67913357449376, 'min_data_in_leaf': 93, 'bagging_temperature': 32.15175012599263}. Best is trial 236 with value: 0.2204946060949904.\n"
     ]
    },
    {
     "name": "stdout",
     "output_type": "stream",
     "text": [
      "Repeat \u001b[1m\u001b[34m#1\n",
      "Repeat \u001b[1m\u001b[34m#2\n",
      "Repeat \u001b[1m\u001b[34m#3\n"
     ]
    },
    {
     "name": "stderr",
     "output_type": "stream",
     "text": [
      "[I 2023-06-17 14:49:22,369] Trial 256 finished with value: 0.2280052473681583 and parameters: {'bootstrap_type': 'Bayesian', 'grow_policy': 'Depthwise', 'learning_rate': 0.06879716748640621, 'l2_leaf_reg': 6.501443446748362, 'depth': 4, 'random_strength': 25.213988792229138, 'min_data_in_leaf': 92, 'bagging_temperature': 36.128673629108334}. Best is trial 236 with value: 0.2204946060949904.\n"
     ]
    },
    {
     "name": "stdout",
     "output_type": "stream",
     "text": [
      "Repeat \u001b[1m\u001b[34m#1\n",
      "Repeat \u001b[1m\u001b[34m#2\n",
      "Repeat \u001b[1m\u001b[34m#3\n"
     ]
    },
    {
     "name": "stderr",
     "output_type": "stream",
     "text": [
      "[I 2023-06-17 14:49:32,454] Trial 257 finished with value: 0.22373285850932886 and parameters: {'bootstrap_type': 'Bayesian', 'grow_policy': 'Depthwise', 'learning_rate': 0.07974447170406704, 'l2_leaf_reg': 33.80591328917765, 'depth': 4, 'random_strength': 70.13239331717668, 'min_data_in_leaf': 94, 'bagging_temperature': 33.482308529054606}. Best is trial 236 with value: 0.2204946060949904.\n"
     ]
    },
    {
     "name": "stdout",
     "output_type": "stream",
     "text": [
      "Repeat \u001b[1m\u001b[34m#1\n",
      "Repeat \u001b[1m\u001b[34m#2\n",
      "Repeat \u001b[1m\u001b[34m#3\n"
     ]
    },
    {
     "name": "stderr",
     "output_type": "stream",
     "text": [
      "[I 2023-06-17 14:49:43,076] Trial 258 finished with value: 0.22702211587707355 and parameters: {'bootstrap_type': 'Bayesian', 'grow_policy': 'Depthwise', 'learning_rate': 0.07785631936800452, 'l2_leaf_reg': 22.597035986031194, 'depth': 4, 'random_strength': 43.20067582036091, 'min_data_in_leaf': 89, 'bagging_temperature': 34.32510588315281}. Best is trial 236 with value: 0.2204946060949904.\n"
     ]
    },
    {
     "name": "stdout",
     "output_type": "stream",
     "text": [
      "Repeat \u001b[1m\u001b[34m#1\n",
      "Repeat \u001b[1m\u001b[34m#2\n",
      "Repeat \u001b[1m\u001b[34m#3\n"
     ]
    },
    {
     "name": "stderr",
     "output_type": "stream",
     "text": [
      "[I 2023-06-17 14:49:52,467] Trial 259 finished with value: 0.23488757705436636 and parameters: {'bootstrap_type': 'Bayesian', 'grow_policy': 'Depthwise', 'learning_rate': 0.09404671169850089, 'l2_leaf_reg': 35.08464657416957, 'depth': 4, 'random_strength': 74.58659348039792, 'min_data_in_leaf': 93, 'bagging_temperature': 40.15174321897023}. Best is trial 236 with value: 0.2204946060949904.\n"
     ]
    },
    {
     "name": "stdout",
     "output_type": "stream",
     "text": [
      "Repeat \u001b[1m\u001b[34m#1\n",
      "Repeat \u001b[1m\u001b[34m#2\n",
      "Repeat \u001b[1m\u001b[34m#3\n"
     ]
    },
    {
     "name": "stderr",
     "output_type": "stream",
     "text": [
      "[I 2023-06-17 14:49:59,323] Trial 260 finished with value: 0.23702434500487932 and parameters: {'bootstrap_type': 'Bayesian', 'grow_policy': 'Depthwise', 'learning_rate': 0.10677608839926157, 'l2_leaf_reg': 11.229717762275477, 'depth': 4, 'random_strength': 78.7226653124816, 'min_data_in_leaf': 95, 'bagging_temperature': 24.89271304498868}. Best is trial 236 with value: 0.2204946060949904.\n"
     ]
    },
    {
     "name": "stdout",
     "output_type": "stream",
     "text": [
      "Repeat \u001b[1m\u001b[34m#1\n",
      "Repeat \u001b[1m\u001b[34m#2\n",
      "Repeat \u001b[1m\u001b[34m#3\n"
     ]
    },
    {
     "name": "stderr",
     "output_type": "stream",
     "text": [
      "[I 2023-06-17 14:50:15,839] Trial 261 finished with value: 0.22878872457531207 and parameters: {'bootstrap_type': 'Bayesian', 'grow_policy': 'Depthwise', 'learning_rate': 0.05852964365776759, 'l2_leaf_reg': 63.85590058607691, 'depth': 4, 'random_strength': 69.55188400854931, 'min_data_in_leaf': 90, 'bagging_temperature': 36.36596785863623}. Best is trial 236 with value: 0.2204946060949904.\n"
     ]
    },
    {
     "name": "stdout",
     "output_type": "stream",
     "text": [
      "Repeat \u001b[1m\u001b[34m#1\n",
      "Repeat \u001b[1m\u001b[34m#2\n",
      "Repeat \u001b[1m\u001b[34m#3\n"
     ]
    },
    {
     "name": "stderr",
     "output_type": "stream",
     "text": [
      "[I 2023-06-17 14:50:22,362] Trial 262 finished with value: 0.2271951987587633 and parameters: {'bootstrap_type': 'Bayesian', 'grow_policy': 'Depthwise', 'learning_rate': 0.1395252377416992, 'l2_leaf_reg': 19.11993595162432, 'depth': 4, 'random_strength': 71.46503773709304, 'min_data_in_leaf': 91, 'bagging_temperature': 44.03809170738541}. Best is trial 236 with value: 0.2204946060949904.\n"
     ]
    },
    {
     "name": "stdout",
     "output_type": "stream",
     "text": [
      "Repeat \u001b[1m\u001b[34m#1\n",
      "Repeat \u001b[1m\u001b[34m#2\n",
      "Repeat \u001b[1m\u001b[34m#3\n"
     ]
    },
    {
     "name": "stderr",
     "output_type": "stream",
     "text": [
      "[I 2023-06-17 14:50:31,739] Trial 263 finished with value: 0.23183307354890834 and parameters: {'bootstrap_type': 'Bayesian', 'grow_policy': 'Depthwise', 'learning_rate': 0.08271869558573859, 'l2_leaf_reg': 4.6471657590381, 'depth': 9, 'random_strength': 61.24539486139832, 'min_data_in_leaf': 94, 'bagging_temperature': 29.54140848575524}. Best is trial 236 with value: 0.2204946060949904.\n"
     ]
    },
    {
     "name": "stdout",
     "output_type": "stream",
     "text": [
      "Repeat \u001b[1m\u001b[34m#1\n",
      "Repeat \u001b[1m\u001b[34m#2\n",
      "Repeat \u001b[1m\u001b[34m#3\n"
     ]
    },
    {
     "name": "stderr",
     "output_type": "stream",
     "text": [
      "[I 2023-06-17 14:50:44,852] Trial 264 finished with value: 0.23051925350832425 and parameters: {'bootstrap_type': 'Bayesian', 'grow_policy': 'Depthwise', 'learning_rate': 0.05967435911259205, 'l2_leaf_reg': 43.10215389330894, 'depth': 4, 'random_strength': 76.95219842106603, 'min_data_in_leaf': 87, 'bagging_temperature': 33.73004757218238}. Best is trial 236 with value: 0.2204946060949904.\n"
     ]
    },
    {
     "name": "stdout",
     "output_type": "stream",
     "text": [
      "Repeat \u001b[1m\u001b[34m#1\n",
      "Repeat \u001b[1m\u001b[34m#2\n",
      "Repeat \u001b[1m\u001b[34m#3\n"
     ]
    },
    {
     "name": "stderr",
     "output_type": "stream",
     "text": [
      "[I 2023-06-17 14:50:45,613] Trial 265 finished with value: 0.6935468179528895 and parameters: {'bootstrap_type': 'Bayesian', 'grow_policy': 'Depthwise', 'learning_rate': 0.07799546120840081, 'l2_leaf_reg': 8.504730797578693, 'depth': 4, 'random_strength': 73.19342955389531, 'min_data_in_leaf': 96, 'bagging_temperature': 74.01780258186098}. Best is trial 236 with value: 0.2204946060949904.\n"
     ]
    },
    {
     "name": "stdout",
     "output_type": "stream",
     "text": [
      "Repeat \u001b[1m\u001b[34m#1\n",
      "Repeat \u001b[1m\u001b[34m#2\n",
      "Repeat \u001b[1m\u001b[34m#3\n"
     ]
    },
    {
     "name": "stderr",
     "output_type": "stream",
     "text": [
      "[I 2023-06-17 14:50:51,658] Trial 266 finished with value: 0.23265463308443116 and parameters: {'bootstrap_type': 'Bayesian', 'grow_policy': 'Depthwise', 'learning_rate': 0.10771354452316245, 'l2_leaf_reg': 3.0514581701060526, 'depth': 4, 'random_strength': 81.82868063587878, 'min_data_in_leaf': 92, 'bagging_temperature': 38.10729947444413}. Best is trial 236 with value: 0.2204946060949904.\n"
     ]
    },
    {
     "name": "stdout",
     "output_type": "stream",
     "text": [
      "Repeat \u001b[1m\u001b[34m#1\n",
      "Repeat \u001b[1m\u001b[34m#2\n",
      "Repeat \u001b[1m\u001b[34m#3\n"
     ]
    },
    {
     "name": "stderr",
     "output_type": "stream",
     "text": [
      "[I 2023-06-17 14:51:01,927] Trial 267 finished with value: 0.26813429802937655 and parameters: {'bootstrap_type': 'Bayesian', 'grow_policy': 'Depthwise', 'learning_rate': 0.021324617853781775, 'l2_leaf_reg': 1.8445140759262145e-08, 'depth': 7, 'random_strength': 93.2877358473379, 'min_data_in_leaf': 94, 'bagging_temperature': 26.375646325986025}. Best is trial 236 with value: 0.2204946060949904.\n"
     ]
    },
    {
     "name": "stdout",
     "output_type": "stream",
     "text": [
      "Repeat \u001b[1m\u001b[34m#1\n",
      "Repeat \u001b[1m\u001b[34m#2\n",
      "Repeat \u001b[1m\u001b[34m#3\n"
     ]
    },
    {
     "name": "stderr",
     "output_type": "stream",
     "text": [
      "[I 2023-06-17 14:51:28,081] Trial 268 finished with value: 0.2334868017334304 and parameters: {'bootstrap_type': 'Bayesian', 'grow_policy': 'Depthwise', 'learning_rate': 0.014326989722178409, 'l2_leaf_reg': 5.678701810906753, 'depth': 4, 'random_strength': 69.87593625335829, 'min_data_in_leaf': 90, 'bagging_temperature': 30.954782414934648}. Best is trial 236 with value: 0.2204946060949904.\n"
     ]
    },
    {
     "name": "stdout",
     "output_type": "stream",
     "text": [
      "Repeat \u001b[1m\u001b[34m#1\n",
      "Repeat \u001b[1m\u001b[34m#2\n",
      "Repeat \u001b[1m\u001b[34m#3\n"
     ]
    },
    {
     "name": "stderr",
     "output_type": "stream",
     "text": [
      "[I 2023-06-17 14:51:37,939] Trial 269 finished with value: 0.2530268366029628 and parameters: {'bootstrap_type': 'Bayesian', 'grow_policy': 'SymmetricTree', 'learning_rate': 0.0636845871315379, 'l2_leaf_reg': 16.651686522069404, 'depth': 4, 'random_strength': 57.209963905426406, 'min_data_in_leaf': 96, 'bagging_temperature': 35.202931500766255, 'boosting_type': 'Plain'}. Best is trial 236 with value: 0.2204946060949904.\n"
     ]
    },
    {
     "name": "stdout",
     "output_type": "stream",
     "text": [
      "Repeat \u001b[1m\u001b[34m#1\n",
      "Repeat \u001b[1m\u001b[34m#2\n",
      "Repeat \u001b[1m\u001b[34m#3\n"
     ]
    },
    {
     "name": "stderr",
     "output_type": "stream",
     "text": [
      "[I 2023-06-17 14:51:43,972] Trial 270 finished with value: 0.24755221989227505 and parameters: {'bootstrap_type': 'Bernoulli', 'grow_policy': 'Depthwise', 'learning_rate': 0.04984141461514821, 'l2_leaf_reg': 2.430308394865125, 'depth': 4, 'random_strength': 59.07683841215474, 'min_data_in_leaf': 92, 'subsample': 0.8845358145118447}. Best is trial 236 with value: 0.2204946060949904.\n"
     ]
    },
    {
     "name": "stdout",
     "output_type": "stream",
     "text": [
      "Repeat \u001b[1m\u001b[34m#1\n",
      "Repeat \u001b[1m\u001b[34m#2\n",
      "Repeat \u001b[1m\u001b[34m#3\n"
     ]
    },
    {
     "name": "stderr",
     "output_type": "stream",
     "text": [
      "[I 2023-06-17 14:52:03,920] Trial 271 finished with value: 0.23213698057587492 and parameters: {'bootstrap_type': 'Bayesian', 'grow_policy': 'Depthwise', 'learning_rate': 0.01954439716340204, 'l2_leaf_reg': 3.9536423262736746, 'depth': 4, 'random_strength': 62.52943101019784, 'min_data_in_leaf': 88, 'bagging_temperature': 28.496065924328065}. Best is trial 236 with value: 0.2204946060949904.\n"
     ]
    },
    {
     "name": "stdout",
     "output_type": "stream",
     "text": [
      "Repeat \u001b[1m\u001b[34m#1\n",
      "Repeat \u001b[1m\u001b[34m#2\n",
      "Repeat \u001b[1m\u001b[34m#3\n"
     ]
    },
    {
     "name": "stderr",
     "output_type": "stream",
     "text": [
      "[I 2023-06-17 14:52:16,598] Trial 272 finished with value: 0.2336297626355761 and parameters: {'bootstrap_type': 'Bayesian', 'grow_policy': 'Depthwise', 'learning_rate': 0.026390413320514592, 'l2_leaf_reg': 0.12627198394471556, 'depth': 4, 'random_strength': 66.14556474317557, 'min_data_in_leaf': 94, 'bagging_temperature': 22.244232118325858}. Best is trial 236 with value: 0.2204946060949904.\n"
     ]
    },
    {
     "name": "stdout",
     "output_type": "stream",
     "text": [
      "Repeat \u001b[1m\u001b[34m#1\n",
      "Repeat \u001b[1m\u001b[34m#2\n",
      "Repeat \u001b[1m\u001b[34m#3\n"
     ]
    },
    {
     "name": "stderr",
     "output_type": "stream",
     "text": [
      "[I 2023-06-17 14:52:21,913] Trial 273 finished with value: 0.23623208029195317 and parameters: {'bootstrap_type': 'Bayesian', 'grow_policy': 'Depthwise', 'learning_rate': 0.09273558983780829, 'l2_leaf_reg': 0.06875072012846063, 'depth': 4, 'random_strength': 86.79755366958345, 'min_data_in_leaf': 97, 'bagging_temperature': 40.251384830453105}. Best is trial 236 with value: 0.2204946060949904.\n"
     ]
    },
    {
     "name": "stdout",
     "output_type": "stream",
     "text": [
      "Repeat \u001b[1m\u001b[34m#1\n",
      "Repeat \u001b[1m\u001b[34m#2\n",
      "Repeat \u001b[1m\u001b[34m#3\n"
     ]
    },
    {
     "name": "stderr",
     "output_type": "stream",
     "text": [
      "[I 2023-06-17 14:52:36,850] Trial 274 finished with value: 0.23509716901555047 and parameters: {'bootstrap_type': 'Bayesian', 'grow_policy': 'Depthwise', 'learning_rate': 0.0722305819502977, 'l2_leaf_reg': 98.94541572756373, 'depth': 4, 'random_strength': 77.50949295014833, 'min_data_in_leaf': 92, 'bagging_temperature': 33.51536976052011}. Best is trial 236 with value: 0.2204946060949904.\n"
     ]
    },
    {
     "name": "stdout",
     "output_type": "stream",
     "text": [
      "Repeat \u001b[1m\u001b[34m#1\n",
      "Repeat \u001b[1m\u001b[34m#2\n",
      "Repeat \u001b[1m\u001b[34m#3\n"
     ]
    },
    {
     "name": "stderr",
     "output_type": "stream",
     "text": [
      "[I 2023-06-17 14:52:37,635] Trial 275 finished with value: 0.6933674931888517 and parameters: {'bootstrap_type': 'Bayesian', 'grow_policy': 'Depthwise', 'learning_rate': 0.04318908537066493, 'l2_leaf_reg': 9.129196877456506, 'depth': 4, 'random_strength': 71.75612063324763, 'min_data_in_leaf': 100, 'bagging_temperature': 95.28010773322299}. Best is trial 236 with value: 0.2204946060949904.\n"
     ]
    },
    {
     "name": "stdout",
     "output_type": "stream",
     "text": [
      "Repeat \u001b[1m\u001b[34m#1\n",
      "Repeat \u001b[1m\u001b[34m#2\n",
      "Repeat \u001b[1m\u001b[34m#3\n"
     ]
    },
    {
     "name": "stderr",
     "output_type": "stream",
     "text": [
      "[I 2023-06-17 14:52:56,117] Trial 276 finished with value: 0.22412079445231545 and parameters: {'bootstrap_type': 'Bayesian', 'grow_policy': 'Lossguide', 'learning_rate': 0.022377726579342182, 'l2_leaf_reg': 2.0022134282579502, 'depth': 4, 'random_strength': 68.18041220914063, 'min_data_in_leaf': 95, 'bagging_temperature': 36.72014374103334, 'max_leaves': 41}. Best is trial 236 with value: 0.2204946060949904.\n"
     ]
    },
    {
     "name": "stdout",
     "output_type": "stream",
     "text": [
      "Repeat \u001b[1m\u001b[34m#1\n",
      "Repeat \u001b[1m\u001b[34m#2\n",
      "Repeat \u001b[1m\u001b[34m#3\n"
     ]
    },
    {
     "name": "stderr",
     "output_type": "stream",
     "text": [
      "[I 2023-06-17 14:53:34,890] Trial 277 finished with value: 0.2556580248355194 and parameters: {'bootstrap_type': 'Bayesian', 'grow_policy': 'Lossguide', 'learning_rate': 0.004912812792601447, 'l2_leaf_reg': 2.076452449210629, 'depth': 4, 'random_strength': 74.51193852816922, 'min_data_in_leaf': 90, 'bagging_temperature': 37.370899667441414, 'max_leaves': 13}. Best is trial 236 with value: 0.2204946060949904.\n"
     ]
    },
    {
     "name": "stdout",
     "output_type": "stream",
     "text": [
      "Repeat \u001b[1m\u001b[34m#1\n",
      "Repeat \u001b[1m\u001b[34m#2\n",
      "Repeat \u001b[1m\u001b[34m#3\n"
     ]
    },
    {
     "name": "stderr",
     "output_type": "stream",
     "text": [
      "[I 2023-06-17 14:54:05,250] Trial 278 finished with value: 0.23819769780799685 and parameters: {'bootstrap_type': 'Bayesian', 'grow_policy': 'Lossguide', 'learning_rate': 0.009341985891809313, 'l2_leaf_reg': 1.6157378390936572, 'depth': 4, 'random_strength': 69.31897990843623, 'min_data_in_leaf': 94, 'bagging_temperature': 42.6817335448324, 'max_leaves': 43}. Best is trial 236 with value: 0.2204946060949904.\n"
     ]
    },
    {
     "name": "stdout",
     "output_type": "stream",
     "text": [
      "Repeat \u001b[1m\u001b[34m#1\n",
      "Repeat \u001b[1m\u001b[34m#2\n",
      "Repeat \u001b[1m\u001b[34m#3\n"
     ]
    },
    {
     "name": "stderr",
     "output_type": "stream",
     "text": [
      "[I 2023-06-17 14:54:17,542] Trial 279 finished with value: 0.24109831654522088 and parameters: {'bootstrap_type': 'Bayesian', 'grow_policy': 'Lossguide', 'learning_rate': 0.05597354721391352, 'l2_leaf_reg': 31.485465818721828, 'depth': 4, 'random_strength': 68.1973213651359, 'min_data_in_leaf': 92, 'bagging_temperature': 35.58749552068191, 'max_leaves': 22}. Best is trial 236 with value: 0.2204946060949904.\n"
     ]
    },
    {
     "name": "stdout",
     "output_type": "stream",
     "text": [
      "Repeat \u001b[1m\u001b[34m#1\n",
      "Repeat \u001b[1m\u001b[34m#2\n",
      "Repeat \u001b[1m\u001b[34m#3\n"
     ]
    },
    {
     "name": "stderr",
     "output_type": "stream",
     "text": [
      "[I 2023-06-17 14:54:27,791] Trial 280 finished with value: 0.2600133214900739 and parameters: {'bootstrap_type': 'Bayesian', 'grow_policy': 'Lossguide', 'learning_rate': 0.028816997136367446, 'l2_leaf_reg': 0.0021263219597242333, 'depth': 4, 'random_strength': 16.113872293274923, 'min_data_in_leaf': 89, 'bagging_temperature': 38.965820243165, 'max_leaves': 33}. Best is trial 236 with value: 0.2204946060949904.\n"
     ]
    },
    {
     "name": "stdout",
     "output_type": "stream",
     "text": [
      "Repeat \u001b[1m\u001b[34m#1\n",
      "Repeat \u001b[1m\u001b[34m#2\n",
      "Repeat \u001b[1m\u001b[34m#3\n"
     ]
    },
    {
     "name": "stderr",
     "output_type": "stream",
     "text": [
      "[I 2023-06-17 14:54:38,759] Trial 281 finished with value: 0.2296535099765676 and parameters: {'bootstrap_type': 'Bayesian', 'grow_policy': 'Depthwise', 'learning_rate': 0.04009633450770015, 'l2_leaf_reg': 2.7017860161563063, 'depth': 4, 'random_strength': 70.88005875321139, 'min_data_in_leaf': 86, 'bagging_temperature': 32.08182992133142}. Best is trial 236 with value: 0.2204946060949904.\n"
     ]
    },
    {
     "name": "stdout",
     "output_type": "stream",
     "text": [
      "Repeat \u001b[1m\u001b[34m#1\n",
      "Repeat \u001b[1m\u001b[34m#2\n",
      "Repeat \u001b[1m\u001b[34m#3\n"
     ]
    },
    {
     "name": "stderr",
     "output_type": "stream",
     "text": [
      "[I 2023-06-17 14:54:43,271] Trial 282 finished with value: 0.2488060003802041 and parameters: {'bootstrap_type': 'Bayesian', 'grow_policy': 'Lossguide', 'learning_rate': 0.2207572233983363, 'l2_leaf_reg': 0.48638267733812574, 'depth': 4, 'random_strength': 63.54532985107222, 'min_data_in_leaf': 95, 'bagging_temperature': 36.435092166265896, 'max_leaves': 23}. Best is trial 236 with value: 0.2204946060949904.\n"
     ]
    },
    {
     "name": "stdout",
     "output_type": "stream",
     "text": [
      "Repeat \u001b[1m\u001b[34m#1\n",
      "Repeat \u001b[1m\u001b[34m#2\n",
      "Repeat \u001b[1m\u001b[34m#3\n"
     ]
    },
    {
     "name": "stderr",
     "output_type": "stream",
     "text": [
      "[I 2023-06-17 14:54:56,206] Trial 283 finished with value: 0.25148001583586554 and parameters: {'bootstrap_type': 'Bayesian', 'grow_policy': 'Lossguide', 'learning_rate': 0.02505136558018753, 'l2_leaf_reg': 2.032774413374468e-05, 'depth': 4, 'random_strength': 60.28044129818059, 'min_data_in_leaf': 97, 'bagging_temperature': 33.99406649087595, 'max_leaves': 51}. Best is trial 236 with value: 0.2204946060949904.\n"
     ]
    },
    {
     "name": "stdout",
     "output_type": "stream",
     "text": [
      "Repeat \u001b[1m\u001b[34m#1\n",
      "Repeat \u001b[1m\u001b[34m#2\n",
      "Repeat \u001b[1m\u001b[34m#3\n"
     ]
    },
    {
     "name": "stderr",
     "output_type": "stream",
     "text": [
      "[I 2023-06-17 14:55:12,130] Trial 284 finished with value: 0.23397623148381377 and parameters: {'bootstrap_type': 'Bayesian', 'grow_policy': 'Depthwise', 'learning_rate': 0.029949782727407507, 'l2_leaf_reg': 12.04824984388227, 'depth': 4, 'random_strength': 80.24684500963599, 'min_data_in_leaf': 93, 'bagging_temperature': 40.96362345225095}. Best is trial 236 with value: 0.2204946060949904.\n"
     ]
    },
    {
     "name": "stdout",
     "output_type": "stream",
     "text": [
      "Repeat \u001b[1m\u001b[34m#1\n",
      "Repeat \u001b[1m\u001b[34m#2\n",
      "Repeat \u001b[1m\u001b[34m#3\n"
     ]
    },
    {
     "name": "stderr",
     "output_type": "stream",
     "text": [
      "[I 2023-06-17 14:55:18,175] Trial 285 finished with value: 0.23431185772826454 and parameters: {'bootstrap_type': 'Bayesian', 'grow_policy': 'Depthwise', 'learning_rate': 0.11842435733920673, 'l2_leaf_reg': 6.2520938415340055, 'depth': 4, 'random_strength': 66.74047608951597, 'min_data_in_leaf': 98, 'bagging_temperature': 30.010874618688046}. Best is trial 236 with value: 0.2204946060949904.\n"
     ]
    },
    {
     "name": "stdout",
     "output_type": "stream",
     "text": [
      "Repeat \u001b[1m\u001b[34m#1\n",
      "Repeat \u001b[1m\u001b[34m#2\n",
      "Repeat \u001b[1m\u001b[34m#3\n"
     ]
    },
    {
     "name": "stderr",
     "output_type": "stream",
     "text": [
      "[I 2023-06-17 14:55:29,589] Trial 286 finished with value: 0.2408801376903309 and parameters: {'bootstrap_type': 'Bayesian', 'grow_policy': 'Depthwise', 'learning_rate': 0.04648404440166538, 'l2_leaf_reg': 1.5546526681940775, 'depth': 4, 'random_strength': 62.41901381819421, 'min_data_in_leaf': 64, 'bagging_temperature': 38.45510807265209}. Best is trial 236 with value: 0.2204946060949904.\n"
     ]
    },
    {
     "name": "stdout",
     "output_type": "stream",
     "text": [
      "Repeat \u001b[1m\u001b[34m#1\n",
      "Repeat \u001b[1m\u001b[34m#2\n",
      "Repeat \u001b[1m\u001b[34m#3\n"
     ]
    },
    {
     "name": "stderr",
     "output_type": "stream",
     "text": [
      "[I 2023-06-17 14:55:50,490] Trial 287 finished with value: 0.23780558288385859 and parameters: {'bootstrap_type': 'Bayesian', 'grow_policy': 'Depthwise', 'learning_rate': 0.016571924628639104, 'l2_leaf_reg': 0.7205294199159924, 'depth': 4, 'random_strength': 84.75329292036756, 'min_data_in_leaf': 91, 'bagging_temperature': 31.796556017780123}. Best is trial 236 with value: 0.2204946060949904.\n"
     ]
    },
    {
     "name": "stdout",
     "output_type": "stream",
     "text": [
      "Repeat \u001b[1m\u001b[34m#1\n",
      "Repeat \u001b[1m\u001b[34m#2\n",
      "Repeat \u001b[1m\u001b[34m#3\n"
     ]
    },
    {
     "name": "stderr",
     "output_type": "stream",
     "text": [
      "[I 2023-06-17 14:56:01,882] Trial 288 finished with value: 0.24782602969568193 and parameters: {'bootstrap_type': 'Bayesian', 'grow_policy': 'Lossguide', 'learning_rate': 0.023720466778919255, 'l2_leaf_reg': 4.2449883624968094e-07, 'depth': 4, 'random_strength': 55.07522393684471, 'min_data_in_leaf': 95, 'bagging_temperature': 34.75157432040928, 'max_leaves': 55}. Best is trial 236 with value: 0.2204946060949904.\n"
     ]
    },
    {
     "name": "stdout",
     "output_type": "stream",
     "text": [
      "Repeat \u001b[1m\u001b[34m#1\n",
      "Repeat \u001b[1m\u001b[34m#2\n",
      "Repeat \u001b[1m\u001b[34m#3\n"
     ]
    },
    {
     "name": "stderr",
     "output_type": "stream",
     "text": [
      "[I 2023-06-17 14:56:29,305] Trial 289 finished with value: 0.24734801400967946 and parameters: {'bootstrap_type': 'Bayesian', 'grow_policy': 'Depthwise', 'learning_rate': 0.013236325547937515, 'l2_leaf_reg': 27.818480759054673, 'depth': 4, 'random_strength': 65.73051184389665, 'min_data_in_leaf': 93, 'bagging_temperature': 46.12046068439186}. Best is trial 236 with value: 0.2204946060949904.\n"
     ]
    },
    {
     "name": "stdout",
     "output_type": "stream",
     "text": [
      "Repeat \u001b[1m\u001b[34m#1\n",
      "Repeat \u001b[1m\u001b[34m#2\n",
      "Repeat \u001b[1m\u001b[34m#3\n"
     ]
    },
    {
     "name": "stderr",
     "output_type": "stream",
     "text": [
      "[I 2023-06-17 14:56:38,550] Trial 290 finished with value: 0.24896495568933308 and parameters: {'bootstrap_type': 'Bayesian', 'grow_policy': 'Depthwise', 'learning_rate': 0.0369976588077219, 'l2_leaf_reg': 0.19258152715042273, 'depth': 4, 'random_strength': 72.36408043348875, 'min_data_in_leaf': 89, 'bagging_temperature': 3.4225474197359915}. Best is trial 236 with value: 0.2204946060949904.\n"
     ]
    },
    {
     "name": "stdout",
     "output_type": "stream",
     "text": [
      "Repeat \u001b[1m\u001b[34m#1\n",
      "Repeat \u001b[1m\u001b[34m#2\n",
      "Repeat \u001b[1m\u001b[34m#3\n"
     ]
    },
    {
     "name": "stderr",
     "output_type": "stream",
     "text": [
      "[I 2023-06-17 14:56:43,272] Trial 291 finished with value: 0.24636967687988717 and parameters: {'bootstrap_type': 'Bayesian', 'grow_policy': 'Depthwise', 'learning_rate': 0.15060453174926788, 'l2_leaf_reg': 3.755084019636996, 'depth': 4, 'random_strength': 68.50036671518417, 'min_data_in_leaf': 91, 'bagging_temperature': 36.30380751656826}. Best is trial 236 with value: 0.2204946060949904.\n"
     ]
    },
    {
     "name": "stdout",
     "output_type": "stream",
     "text": [
      "Repeat \u001b[1m\u001b[34m#1\n",
      "Repeat \u001b[1m\u001b[34m#2\n",
      "Repeat \u001b[1m\u001b[34m#3\n"
     ]
    },
    {
     "name": "stderr",
     "output_type": "stream",
     "text": [
      "[I 2023-06-17 14:56:58,364] Trial 292 finished with value: 0.2934671123027493 and parameters: {'bootstrap_type': 'Bernoulli', 'grow_policy': 'SymmetricTree', 'learning_rate': 0.07175631648434283, 'l2_leaf_reg': 0.03841008853425535, 'depth': 4, 'random_strength': 57.183842797269754, 'min_data_in_leaf': 96, 'subsample': 0.7556097604293394, 'boosting_type': 'Ordered'}. Best is trial 236 with value: 0.2204946060949904.\n"
     ]
    },
    {
     "name": "stdout",
     "output_type": "stream",
     "text": [
      "Repeat \u001b[1m\u001b[34m#1\n",
      "Repeat \u001b[1m\u001b[34m#2\n",
      "Repeat \u001b[1m\u001b[34m#3\n"
     ]
    },
    {
     "name": "stderr",
     "output_type": "stream",
     "text": [
      "[I 2023-06-17 14:57:12,965] Trial 293 finished with value: 0.22741166224599507 and parameters: {'bootstrap_type': 'Bayesian', 'grow_policy': 'Depthwise', 'learning_rate': 0.031143517368736367, 'l2_leaf_reg': 0.9811066411211226, 'depth': 4, 'random_strength': 83.15014599785731, 'min_data_in_leaf': 94, 'bagging_temperature': 33.114962266732554}. Best is trial 236 with value: 0.2204946060949904.\n"
     ]
    },
    {
     "name": "stdout",
     "output_type": "stream",
     "text": [
      "Repeat \u001b[1m\u001b[34m#1\n",
      "Repeat \u001b[1m\u001b[34m#2\n",
      "Repeat \u001b[1m\u001b[34m#3\n"
     ]
    },
    {
     "name": "stderr",
     "output_type": "stream",
     "text": [
      "[I 2023-06-17 14:57:19,820] Trial 294 finished with value: 0.24189944251332296 and parameters: {'bootstrap_type': 'Bayesian', 'grow_policy': 'Depthwise', 'learning_rate': 0.09128198674035967, 'l2_leaf_reg': 2.1391955631556914, 'depth': 4, 'random_strength': 92.09880687531512, 'min_data_in_leaf': 88, 'bagging_temperature': 28.715734241942474}. Best is trial 236 with value: 0.2204946060949904.\n"
     ]
    },
    {
     "name": "stdout",
     "output_type": "stream",
     "text": [
      "Repeat \u001b[1m\u001b[34m#1\n",
      "Repeat \u001b[1m\u001b[34m#2\n",
      "Repeat \u001b[1m\u001b[34m#3\n"
     ]
    },
    {
     "name": "stderr",
     "output_type": "stream",
     "text": [
      "[I 2023-06-17 14:57:40,700] Trial 295 finished with value: 0.23056461032636522 and parameters: {'bootstrap_type': 'Bayesian', 'grow_policy': 'Depthwise', 'learning_rate': 0.020483551119260025, 'l2_leaf_reg': 6.613233163450576, 'depth': 4, 'random_strength': 64.34054662963585, 'min_data_in_leaf': 98, 'bagging_temperature': 42.151423009587276}. Best is trial 236 with value: 0.2204946060949904.\n"
     ]
    },
    {
     "name": "stdout",
     "output_type": "stream",
     "text": [
      "Repeat \u001b[1m\u001b[34m#1\n",
      "Repeat \u001b[1m\u001b[34m#2\n",
      "Repeat \u001b[1m\u001b[34m#3\n"
     ]
    },
    {
     "name": "stderr",
     "output_type": "stream",
     "text": [
      "[I 2023-06-17 14:57:53,446] Trial 296 finished with value: 0.23557262282241462 and parameters: {'bootstrap_type': 'Bayesian', 'grow_policy': 'Depthwise', 'learning_rate': 0.06044863767270413, 'l2_leaf_reg': 15.203730203598498, 'depth': 10, 'random_strength': 88.74006124178324, 'min_data_in_leaf': 93, 'bagging_temperature': 38.121994691603966}. Best is trial 236 with value: 0.2204946060949904.\n"
     ]
    },
    {
     "name": "stdout",
     "output_type": "stream",
     "text": [
      "Repeat \u001b[1m\u001b[34m#1\n",
      "Repeat \u001b[1m\u001b[34m#2\n",
      "Repeat \u001b[1m\u001b[34m#3\n"
     ]
    },
    {
     "name": "stderr",
     "output_type": "stream",
     "text": [
      "[I 2023-06-17 14:58:21,867] Trial 297 finished with value: 0.2365353631272302 and parameters: {'bootstrap_type': 'Bayesian', 'grow_policy': 'Depthwise', 'learning_rate': 0.010959164147417377, 'l2_leaf_reg': 1.4484051160582008, 'depth': 4, 'random_strength': 70.02328791831859, 'min_data_in_leaf': 91, 'bagging_temperature': 31.33212269710002}. Best is trial 236 with value: 0.2204946060949904.\n"
     ]
    },
    {
     "name": "stdout",
     "output_type": "stream",
     "text": [
      "Repeat \u001b[1m\u001b[34m#1\n",
      "Repeat \u001b[1m\u001b[34m#2\n",
      "Repeat \u001b[1m\u001b[34m#3\n"
     ]
    },
    {
     "name": "stderr",
     "output_type": "stream",
     "text": [
      "[I 2023-06-17 14:58:37,669] Trial 298 finished with value: 0.23175578953266063 and parameters: {'bootstrap_type': 'Bayesian', 'grow_policy': 'Lossguide', 'learning_rate': 0.027838370463593446, 'l2_leaf_reg': 2.8755101959182534, 'depth': 4, 'random_strength': 74.54383789545585, 'min_data_in_leaf': 76, 'bagging_temperature': 40.05276392768348, 'max_leaves': 66}. Best is trial 236 with value: 0.2204946060949904.\n"
     ]
    },
    {
     "name": "stdout",
     "output_type": "stream",
     "text": [
      "Repeat \u001b[1m\u001b[34m#1\n",
      "Repeat \u001b[1m\u001b[34m#2\n",
      "Repeat \u001b[1m\u001b[34m#3\n"
     ]
    },
    {
     "name": "stderr",
     "output_type": "stream",
     "text": [
      "[I 2023-06-17 14:58:49,144] Trial 299 finished with value: 0.2311016873906729 and parameters: {'bootstrap_type': 'Bayesian', 'grow_policy': 'Depthwise', 'learning_rate': 0.0475562072753716, 'l2_leaf_reg': 4.906768887193585, 'depth': 4, 'random_strength': 61.450790545643514, 'min_data_in_leaf': 68, 'bagging_temperature': 34.912272253437585}. Best is trial 236 with value: 0.2204946060949904.\n"
     ]
    },
    {
     "name": "stdout",
     "output_type": "stream",
     "text": [
      "Repeat \u001b[1m\u001b[34m#1\n",
      "Repeat \u001b[1m\u001b[34m#2\n",
      "Repeat \u001b[1m\u001b[34m#3\n"
     ]
    },
    {
     "name": "stderr",
     "output_type": "stream",
     "text": [
      "[I 2023-06-17 14:59:01,430] Trial 300 finished with value: 0.23135764861497551 and parameters: {'bootstrap_type': 'Bayesian', 'grow_policy': 'Depthwise', 'learning_rate': 0.03908150543704176, 'l2_leaf_reg': 7.7415155657042245, 'depth': 4, 'random_strength': 67.80298133587361, 'min_data_in_leaf': 95, 'bagging_temperature': 26.62989401627905}. Best is trial 236 with value: 0.2204946060949904.\n"
     ]
    },
    {
     "name": "stdout",
     "output_type": "stream",
     "text": [
      "Repeat \u001b[1m\u001b[34m#1\n",
      "Repeat \u001b[1m\u001b[34m#2\n",
      "Repeat \u001b[1m\u001b[34m#3\n"
     ]
    },
    {
     "name": "stderr",
     "output_type": "stream",
     "text": [
      "[I 2023-06-17 14:59:18,915] Trial 301 finished with value: 0.23569948718929343 and parameters: {'bootstrap_type': 'Bayesian', 'grow_policy': 'Depthwise', 'learning_rate': 0.022883696607324054, 'l2_leaf_reg': 0.42110181534740937, 'depth': 4, 'random_strength': 59.56937220881938, 'min_data_in_leaf': 97, 'bagging_temperature': 36.52619450290647}. Best is trial 236 with value: 0.2204946060949904.\n"
     ]
    },
    {
     "name": "stdout",
     "output_type": "stream",
     "text": [
      "Repeat \u001b[1m\u001b[34m#1\n",
      "Repeat \u001b[1m\u001b[34m#2\n",
      "Repeat \u001b[1m\u001b[34m#3\n"
     ]
    },
    {
     "name": "stderr",
     "output_type": "stream",
     "text": [
      "[I 2023-06-17 14:59:30,135] Trial 302 finished with value: 0.22528429682770443 and parameters: {'bootstrap_type': 'Bayesian', 'grow_policy': 'Depthwise', 'learning_rate': 0.08234773097803848, 'l2_leaf_reg': 51.848753514302715, 'depth': 4, 'random_strength': 65.94944007939176, 'min_data_in_leaf': 84, 'bagging_temperature': 45.064249573844066}. Best is trial 236 with value: 0.2204946060949904.\n"
     ]
    },
    {
     "name": "stdout",
     "output_type": "stream",
     "text": [
      "Repeat \u001b[1m\u001b[34m#1\n",
      "Repeat \u001b[1m\u001b[34m#2\n",
      "Repeat \u001b[1m\u001b[34m#3\n"
     ]
    },
    {
     "name": "stderr",
     "output_type": "stream",
     "text": [
      "[I 2023-06-17 14:59:41,767] Trial 303 finished with value: 0.23517927936818706 and parameters: {'bootstrap_type': 'Bayesian', 'grow_policy': 'Depthwise', 'learning_rate': 0.08305444172415244, 'l2_leaf_reg': 43.00356378321349, 'depth': 4, 'random_strength': 67.03408875018214, 'min_data_in_leaf': 85, 'bagging_temperature': 41.834642909179514}. Best is trial 236 with value: 0.2204946060949904.\n"
     ]
    },
    {
     "name": "stdout",
     "output_type": "stream",
     "text": [
      "Repeat \u001b[1m\u001b[34m#1\n",
      "Repeat \u001b[1m\u001b[34m#2\n",
      "Repeat \u001b[1m\u001b[34m#3\n"
     ]
    },
    {
     "name": "stderr",
     "output_type": "stream",
     "text": [
      "[I 2023-06-17 14:59:51,916] Trial 304 finished with value: 0.2414099659627971 and parameters: {'bootstrap_type': 'Bayesian', 'grow_policy': 'Depthwise', 'learning_rate': 0.10282050010071525, 'l2_leaf_reg': 38.48714848442422, 'depth': 4, 'random_strength': 95.28895529848006, 'min_data_in_leaf': 84, 'bagging_temperature': 42.538900672647955}. Best is trial 236 with value: 0.2204946060949904.\n"
     ]
    },
    {
     "name": "stdout",
     "output_type": "stream",
     "text": [
      "Repeat \u001b[1m\u001b[34m#1\n",
      "Repeat \u001b[1m\u001b[34m#2\n",
      "Repeat \u001b[1m\u001b[34m#3\n"
     ]
    },
    {
     "name": "stderr",
     "output_type": "stream",
     "text": [
      "[I 2023-06-17 14:59:56,669] Trial 305 finished with value: 0.24114048078666575 and parameters: {'bootstrap_type': 'MVS', 'grow_policy': 'Depthwise', 'learning_rate': 0.13006985849905042, 'l2_leaf_reg': 52.94172906917481, 'depth': 4, 'random_strength': 78.35677404157245, 'min_data_in_leaf': 86}. Best is trial 236 with value: 0.2204946060949904.\n"
     ]
    },
    {
     "name": "stdout",
     "output_type": "stream",
     "text": [
      "Repeat \u001b[1m\u001b[34m#1\n",
      "Repeat \u001b[1m\u001b[34m#2\n",
      "Repeat \u001b[1m\u001b[34m#3\n"
     ]
    },
    {
     "name": "stderr",
     "output_type": "stream",
     "text": [
      "[I 2023-06-17 15:00:27,908] Trial 306 finished with value: 0.27169830439226544 and parameters: {'bootstrap_type': 'Bayesian', 'grow_policy': 'Depthwise', 'learning_rate': 0.006835477812112195, 'l2_leaf_reg': 19.92932576138696, 'depth': 4, 'random_strength': 51.53381870641046, 'min_data_in_leaf': 87, 'bagging_temperature': 45.53476598413156}. Best is trial 236 with value: 0.2204946060949904.\n"
     ]
    },
    {
     "name": "stdout",
     "output_type": "stream",
     "text": [
      "Repeat \u001b[1m\u001b[34m#1\n",
      "Repeat \u001b[1m\u001b[34m#2\n",
      "Repeat \u001b[1m\u001b[34m#3\n"
     ]
    },
    {
     "name": "stderr",
     "output_type": "stream",
     "text": [
      "[I 2023-06-17 15:00:36,898] Trial 307 finished with value: 0.2518328998468275 and parameters: {'bootstrap_type': 'Bayesian', 'grow_policy': 'Lossguide', 'learning_rate': 0.07708107364993962, 'l2_leaf_reg': 11.557358007345867, 'depth': 4, 'random_strength': 71.0534116405896, 'min_data_in_leaf': 89, 'bagging_temperature': 47.094568380004304, 'max_leaves': 4}. Best is trial 236 with value: 0.2204946060949904.\n"
     ]
    },
    {
     "name": "stdout",
     "output_type": "stream",
     "text": [
      "Repeat \u001b[1m\u001b[34m#1\n",
      "Repeat \u001b[1m\u001b[34m#2\n",
      "Repeat \u001b[1m\u001b[34m#3\n"
     ]
    },
    {
     "name": "stderr",
     "output_type": "stream",
     "text": [
      "[I 2023-06-17 15:00:52,883] Trial 308 finished with value: 0.22612764330336643 and parameters: {'bootstrap_type': 'Bayesian', 'grow_policy': 'Depthwise', 'learning_rate': 0.06326933297684603, 'l2_leaf_reg': 65.2886745711188, 'depth': 4, 'random_strength': 76.0516976636184, 'min_data_in_leaf': 100, 'bagging_temperature': 39.5094260099129}. Best is trial 236 with value: 0.2204946060949904.\n"
     ]
    },
    {
     "name": "stdout",
     "output_type": "stream",
     "text": [
      "Repeat \u001b[1m\u001b[34m#1\n",
      "Repeat \u001b[1m\u001b[34m#2\n",
      "Repeat \u001b[1m\u001b[34m#3\n"
     ]
    },
    {
     "name": "stderr",
     "output_type": "stream",
     "text": [
      "[I 2023-06-17 15:00:53,700] Trial 309 finished with value: 0.6934162890138803 and parameters: {'bootstrap_type': 'Bayesian', 'grow_policy': 'Depthwise', 'learning_rate': 0.05299781666580207, 'l2_leaf_reg': 89.4395351249429, 'depth': 4, 'random_strength': 72.18779146670511, 'min_data_in_leaf': 99, 'bagging_temperature': 99.84260674191162}. Best is trial 236 with value: 0.2204946060949904.\n"
     ]
    },
    {
     "name": "stdout",
     "output_type": "stream",
     "text": [
      "Repeat \u001b[1m\u001b[34m#1\n",
      "Repeat \u001b[1m\u001b[34m#2\n",
      "Repeat \u001b[1m\u001b[34m#3\n"
     ]
    },
    {
     "name": "stderr",
     "output_type": "stream",
     "text": [
      "[I 2023-06-17 15:01:08,280] Trial 310 finished with value: 0.2394808032471308 and parameters: {'bootstrap_type': 'Bayesian', 'grow_policy': 'Depthwise', 'learning_rate': 0.06921902255765601, 'l2_leaf_reg': 76.33554520296721, 'depth': 4, 'random_strength': 75.1730300287149, 'min_data_in_leaf': 99, 'bagging_temperature': 43.81046868190357}. Best is trial 236 with value: 0.2204946060949904.\n"
     ]
    },
    {
     "name": "stdout",
     "output_type": "stream",
     "text": [
      "Repeat \u001b[1m\u001b[34m#1\n",
      "Repeat \u001b[1m\u001b[34m#2\n",
      "Repeat \u001b[1m\u001b[34m#3\n"
     ]
    },
    {
     "name": "stderr",
     "output_type": "stream",
     "text": [
      "[I 2023-06-17 15:01:17,093] Trial 311 finished with value: 0.22372206803676364 and parameters: {'bootstrap_type': 'Bayesian', 'grow_policy': 'Depthwise', 'learning_rate': 0.1129004749401122, 'l2_leaf_reg': 32.34916498299334, 'depth': 4, 'random_strength': 76.06528145110332, 'min_data_in_leaf': 99, 'bagging_temperature': 39.876985833766774}. Best is trial 236 with value: 0.2204946060949904.\n"
     ]
    },
    {
     "name": "stdout",
     "output_type": "stream",
     "text": [
      "Repeat \u001b[1m\u001b[34m#1\n",
      "Repeat \u001b[1m\u001b[34m#2\n",
      "Repeat \u001b[1m\u001b[34m#3\n"
     ]
    },
    {
     "name": "stderr",
     "output_type": "stream",
     "text": [
      "[I 2023-06-17 15:01:26,352] Trial 312 finished with value: 0.23072937759653642 and parameters: {'bootstrap_type': 'Bayesian', 'grow_policy': 'Depthwise', 'learning_rate': 0.10307159367672841, 'l2_leaf_reg': 40.058338269785764, 'depth': 4, 'random_strength': 76.70854120783555, 'min_data_in_leaf': 99, 'bagging_temperature': 44.3819234107852}. Best is trial 236 with value: 0.2204946060949904.\n"
     ]
    },
    {
     "name": "stdout",
     "output_type": "stream",
     "text": [
      "Repeat \u001b[1m\u001b[34m#1\n",
      "Repeat \u001b[1m\u001b[34m#2\n",
      "Repeat \u001b[1m\u001b[34m#3\n"
     ]
    },
    {
     "name": "stderr",
     "output_type": "stream",
     "text": [
      "[I 2023-06-17 15:01:33,019] Trial 313 finished with value: 0.24008047451701642 and parameters: {'bootstrap_type': 'Bayesian', 'grow_policy': 'Depthwise', 'learning_rate': 0.16260288967763867, 'l2_leaf_reg': 29.529816647237972, 'depth': 4, 'random_strength': 74.25859437424145, 'min_data_in_leaf': 100, 'bagging_temperature': 49.18300501794975}. Best is trial 236 with value: 0.2204946060949904.\n"
     ]
    },
    {
     "name": "stdout",
     "output_type": "stream",
     "text": [
      "Repeat \u001b[1m\u001b[34m#1\n",
      "Repeat \u001b[1m\u001b[34m#2\n",
      "Repeat \u001b[1m\u001b[34m#3\n"
     ]
    },
    {
     "name": "stderr",
     "output_type": "stream",
     "text": [
      "[I 2023-06-17 15:01:48,906] Trial 314 finished with value: 0.23013626295251463 and parameters: {'bootstrap_type': 'Bayesian', 'grow_policy': 'Depthwise', 'learning_rate': 0.08763899119216353, 'l2_leaf_reg': 62.69308176006937, 'depth': 8, 'random_strength': 76.7484336890909, 'min_data_in_leaf': 97, 'bagging_temperature': 40.132501829758}. Best is trial 236 with value: 0.2204946060949904.\n"
     ]
    },
    {
     "name": "stdout",
     "output_type": "stream",
     "text": [
      "Repeat \u001b[1m\u001b[34m#1\n",
      "Repeat \u001b[1m\u001b[34m#2\n",
      "Repeat \u001b[1m\u001b[34m#3\n"
     ]
    },
    {
     "name": "stderr",
     "output_type": "stream",
     "text": [
      "[I 2023-06-17 15:01:56,686] Trial 315 finished with value: 0.24363786606399818 and parameters: {'bootstrap_type': 'Bayesian', 'grow_policy': 'SymmetricTree', 'learning_rate': 0.1193275713527551, 'l2_leaf_reg': 27.878860088102098, 'depth': 4, 'random_strength': 98.09870079455507, 'min_data_in_leaf': 100, 'bagging_temperature': 38.3770343537447, 'boosting_type': 'Plain'}. Best is trial 236 with value: 0.2204946060949904.\n"
     ]
    },
    {
     "name": "stdout",
     "output_type": "stream",
     "text": [
      "Repeat \u001b[1m\u001b[34m#1\n",
      "Repeat \u001b[1m\u001b[34m#2\n",
      "Repeat \u001b[1m\u001b[34m#3\n"
     ]
    },
    {
     "name": "stderr",
     "output_type": "stream",
     "text": [
      "[I 2023-06-17 15:02:01,949] Trial 316 finished with value: 0.24149588063493077 and parameters: {'bootstrap_type': 'Bernoulli', 'grow_policy': 'Depthwise', 'learning_rate': 0.11526626692756356, 'l2_leaf_reg': 54.811276369647224, 'depth': 4, 'random_strength': 80.38985905666543, 'min_data_in_leaf': 97, 'subsample': 0.6127912159025893}. Best is trial 236 with value: 0.2204946060949904.\n"
     ]
    },
    {
     "name": "stdout",
     "output_type": "stream",
     "text": [
      "Repeat \u001b[1m\u001b[34m#1\n",
      "Repeat \u001b[1m\u001b[34m#2\n",
      "Repeat \u001b[1m\u001b[34m#3\n"
     ]
    },
    {
     "name": "stderr",
     "output_type": "stream",
     "text": [
      "[I 2023-06-17 15:02:21,713] Trial 317 finished with value: 0.23429761602807395 and parameters: {'bootstrap_type': 'Bayesian', 'grow_policy': 'Lossguide', 'learning_rate': 0.06015495014098742, 'l2_leaf_reg': 57.600111541933046, 'depth': 4, 'random_strength': 56.11516279940453, 'min_data_in_leaf': 51, 'bagging_temperature': 40.47162826356999, 'max_leaves': 77}. Best is trial 236 with value: 0.2204946060949904.\n"
     ]
    },
    {
     "name": "stdout",
     "output_type": "stream",
     "text": [
      "Repeat \u001b[1m\u001b[34m#1\n",
      "Repeat \u001b[1m\u001b[34m#2\n",
      "Repeat \u001b[1m\u001b[34m#3\n"
     ]
    },
    {
     "name": "stderr",
     "output_type": "stream",
     "text": [
      "[I 2023-06-17 15:02:30,125] Trial 318 finished with value: 0.23178827468887322 and parameters: {'bootstrap_type': 'Bayesian', 'grow_policy': 'Depthwise', 'learning_rate': 0.08471322871106528, 'l2_leaf_reg': 22.15628849148438, 'depth': 4, 'random_strength': 71.69503701672586, 'min_data_in_leaf': 98, 'bagging_temperature': 45.054354018219634}. Best is trial 236 with value: 0.2204946060949904.\n"
     ]
    },
    {
     "name": "stdout",
     "output_type": "stream",
     "text": [
      "Repeat \u001b[1m\u001b[34m#1\n",
      "Repeat \u001b[1m\u001b[34m#2\n",
      "Repeat \u001b[1m\u001b[34m#3\n"
     ]
    },
    {
     "name": "stderr",
     "output_type": "stream",
     "text": [
      "[I 2023-06-17 15:02:38,281] Trial 319 finished with value: 0.2470996088004489 and parameters: {'bootstrap_type': 'Bayesian', 'grow_policy': 'Depthwise', 'learning_rate': 0.04355414299371354, 'l2_leaf_reg': 0.0067229580403660475, 'depth': 4, 'random_strength': 69.8936211242045, 'min_data_in_leaf': 100, 'bagging_temperature': 38.489079903128996}. Best is trial 236 with value: 0.2204946060949904.\n"
     ]
    },
    {
     "name": "stdout",
     "output_type": "stream",
     "text": [
      "Repeat \u001b[1m\u001b[34m#1\n",
      "Repeat \u001b[1m\u001b[34m#2\n",
      "Repeat \u001b[1m\u001b[34m#3\n"
     ]
    },
    {
     "name": "stderr",
     "output_type": "stream",
     "text": [
      "[I 2023-06-17 15:03:11,574] Trial 320 finished with value: 0.27880870825429177 and parameters: {'bootstrap_type': 'Bayesian', 'grow_policy': 'Depthwise', 'learning_rate': 0.0038373215751141836, 'l2_leaf_reg': 0.014178332545469796, 'depth': 4, 'random_strength': 72.78469978035854, 'min_data_in_leaf': 96, 'bagging_temperature': 42.57344511302408}. Best is trial 236 with value: 0.2204946060949904.\n"
     ]
    },
    {
     "name": "stdout",
     "output_type": "stream",
     "text": [
      "Repeat \u001b[1m\u001b[34m#1\n",
      "Repeat \u001b[1m\u001b[34m#2\n",
      "Repeat \u001b[1m\u001b[34m#3\n"
     ]
    },
    {
     "name": "stderr",
     "output_type": "stream",
     "text": [
      "[I 2023-06-17 15:03:36,252] Trial 321 finished with value: 0.23469589916382053 and parameters: {'bootstrap_type': 'Bayesian', 'grow_policy': 'Depthwise', 'learning_rate': 0.03492091322605976, 'l2_leaf_reg': 89.6751892211833, 'depth': 4, 'random_strength': 78.25938787534547, 'min_data_in_leaf': 95, 'bagging_temperature': 39.4963991953786}. Best is trial 236 with value: 0.2204946060949904.\n"
     ]
    },
    {
     "name": "stdout",
     "output_type": "stream",
     "text": [
      "Repeat \u001b[1m\u001b[34m#1\n",
      "Repeat \u001b[1m\u001b[34m#2\n",
      "Repeat \u001b[1m\u001b[34m#3\n"
     ]
    },
    {
     "name": "stderr",
     "output_type": "stream",
     "text": [
      "[I 2023-06-17 15:03:40,658] Trial 322 finished with value: 0.26918531804197243 and parameters: {'bootstrap_type': 'Bayesian', 'grow_policy': 'Depthwise', 'learning_rate': 0.13508198653710285, 'l2_leaf_reg': 0.0004503357622292894, 'depth': 4, 'random_strength': 49.40813271324413, 'min_data_in_leaf': 73, 'bagging_temperature': 37.06169539224799}. Best is trial 236 with value: 0.2204946060949904.\n"
     ]
    },
    {
     "name": "stdout",
     "output_type": "stream",
     "text": [
      "Repeat \u001b[1m\u001b[34m#1\n",
      "Repeat \u001b[1m\u001b[34m#2\n",
      "Repeat \u001b[1m\u001b[34m#3\n"
     ]
    },
    {
     "name": "stderr",
     "output_type": "stream",
     "text": [
      "[I 2023-06-17 15:03:49,378] Trial 323 finished with value: 0.2409462388736324 and parameters: {'bootstrap_type': 'Bayesian', 'grow_policy': 'Depthwise', 'learning_rate': 0.09915622472863202, 'l2_leaf_reg': 11.146459112044058, 'depth': 6, 'random_strength': 68.00904433308764, 'min_data_in_leaf': 98, 'bagging_temperature': 30.18799883386293}. Best is trial 236 with value: 0.2204946060949904.\n"
     ]
    },
    {
     "name": "stdout",
     "output_type": "stream",
     "text": [
      "Repeat \u001b[1m\u001b[34m#1\n",
      "Repeat \u001b[1m\u001b[34m#2\n",
      "Repeat \u001b[1m\u001b[34m#3\n"
     ]
    },
    {
     "name": "stderr",
     "output_type": "stream",
     "text": [
      "[I 2023-06-17 15:04:02,341] Trial 324 finished with value: 0.3197656944723693 and parameters: {'bootstrap_type': 'Bayesian', 'grow_policy': 'Depthwise', 'learning_rate': 0.05163575417834014, 'l2_leaf_reg': 4.8403923823525945, 'depth': 4, 'random_strength': 62.52501948930262, 'min_data_in_leaf': 96, 'bagging_temperature': 53.778386571060324}. Best is trial 236 with value: 0.2204946060949904.\n"
     ]
    },
    {
     "name": "stdout",
     "output_type": "stream",
     "text": [
      "Repeat \u001b[1m\u001b[34m#1\n",
      "Repeat \u001b[1m\u001b[34m#2\n",
      "Repeat \u001b[1m\u001b[34m#3\n"
     ]
    },
    {
     "name": "stderr",
     "output_type": "stream",
     "text": [
      "[I 2023-06-17 15:04:11,466] Trial 325 finished with value: 0.23826301021429722 and parameters: {'bootstrap_type': 'Bayesian', 'grow_policy': 'Depthwise', 'learning_rate': 0.0651037376416094, 'l2_leaf_reg': 3.239254272482113, 'depth': 4, 'random_strength': 74.95526570877107, 'min_data_in_leaf': 93, 'bagging_temperature': 47.56385058892222}. Best is trial 236 with value: 0.2204946060949904.\n"
     ]
    },
    {
     "name": "stdout",
     "output_type": "stream",
     "text": [
      "Repeat \u001b[1m\u001b[34m#1\n",
      "Repeat \u001b[1m\u001b[34m#2\n",
      "Repeat \u001b[1m\u001b[34m#3\n"
     ]
    },
    {
     "name": "stderr",
     "output_type": "stream",
     "text": [
      "[I 2023-06-17 15:04:50,962] Trial 326 finished with value: 0.2783474604573902 and parameters: {'bootstrap_type': 'Bayesian', 'grow_policy': 'Lossguide', 'learning_rate': 0.0030336841681463987, 'l2_leaf_reg': 0.019694093230018864, 'depth': 4, 'random_strength': 58.22331076536847, 'min_data_in_leaf': 82, 'bagging_temperature': 33.340035477667435, 'max_leaves': 45}. Best is trial 236 with value: 0.2204946060949904.\n"
     ]
    },
    {
     "name": "stdout",
     "output_type": "stream",
     "text": [
      "Repeat \u001b[1m\u001b[34m#1\n",
      "Repeat \u001b[1m\u001b[34m#2\n",
      "Repeat \u001b[1m\u001b[34m#3\n"
     ]
    },
    {
     "name": "stderr",
     "output_type": "stream",
     "text": [
      "[I 2023-06-17 15:04:58,184] Trial 327 finished with value: 0.24356993904180305 and parameters: {'bootstrap_type': 'MVS', 'grow_policy': 'Depthwise', 'learning_rate': 0.03731347985211554, 'l2_leaf_reg': 0.31189100696370525, 'depth': 4, 'random_strength': 66.43185022565842, 'min_data_in_leaf': 80}. Best is trial 236 with value: 0.2204946060949904.\n"
     ]
    },
    {
     "name": "stdout",
     "output_type": "stream",
     "text": [
      "Repeat \u001b[1m\u001b[34m#1\n",
      "Repeat \u001b[1m\u001b[34m#2\n",
      "Repeat \u001b[1m\u001b[34m#3\n"
     ]
    },
    {
     "name": "stderr",
     "output_type": "stream",
     "text": [
      "[I 2023-06-17 15:05:46,254] Trial 328 finished with value: 0.3382757952109366 and parameters: {'bootstrap_type': 'Bayesian', 'grow_policy': 'Depthwise', 'learning_rate': 0.0017802097388447645, 'l2_leaf_reg': 7.492461319165995, 'depth': 4, 'random_strength': 96.34310370852691, 'min_data_in_leaf': 38, 'bagging_temperature': 41.372521956652534}. Best is trial 236 with value: 0.2204946060949904.\n"
     ]
    },
    {
     "name": "stdout",
     "output_type": "stream",
     "text": [
      "Repeat \u001b[1m\u001b[34m#1\n",
      "Repeat \u001b[1m\u001b[34m#2\n",
      "Repeat \u001b[1m\u001b[34m#3\n"
     ]
    },
    {
     "name": "stderr",
     "output_type": "stream",
     "text": [
      "[I 2023-06-17 15:06:21,798] Trial 329 finished with value: 0.24099519284147977 and parameters: {'bootstrap_type': 'Bayesian', 'grow_policy': 'Depthwise', 'learning_rate': 0.008556720138855823, 'l2_leaf_reg': 17.499228391709753, 'depth': 4, 'random_strength': 69.3295117552058, 'min_data_in_leaf': 95, 'bagging_temperature': 36.49093007197812}. Best is trial 236 with value: 0.2204946060949904.\n"
     ]
    },
    {
     "name": "stdout",
     "output_type": "stream",
     "text": [
      "Repeat \u001b[1m\u001b[34m#1\n",
      "Repeat \u001b[1m\u001b[34m#2\n",
      "Repeat \u001b[1m\u001b[34m#3\n"
     ]
    },
    {
     "name": "stderr",
     "output_type": "stream",
     "text": [
      "[I 2023-06-17 15:06:34,990] Trial 330 finished with value: 0.235483461675596 and parameters: {'bootstrap_type': 'Bayesian', 'grow_policy': 'Depthwise', 'learning_rate': 0.0316455480471611, 'l2_leaf_reg': 1.064856048787614, 'depth': 4, 'random_strength': 60.31133607379174, 'min_data_in_leaf': 98, 'bagging_temperature': 28.803357892639035}. Best is trial 236 with value: 0.2204946060949904.\n"
     ]
    },
    {
     "name": "stdout",
     "output_type": "stream",
     "text": [
      "Repeat \u001b[1m\u001b[34m#1\n",
      "Repeat \u001b[1m\u001b[34m#2\n",
      "Repeat \u001b[1m\u001b[34m#3\n"
     ]
    },
    {
     "name": "stderr",
     "output_type": "stream",
     "text": [
      "[I 2023-06-17 15:06:45,989] Trial 331 finished with value: 0.236878487320724 and parameters: {'bootstrap_type': 'Bayesian', 'grow_policy': 'Depthwise', 'learning_rate': 0.07526895816453932, 'l2_leaf_reg': 31.447256246341933, 'depth': 4, 'random_strength': 65.16467014326491, 'min_data_in_leaf': 100, 'bagging_temperature': 43.51212010077469}. Best is trial 236 with value: 0.2204946060949904.\n"
     ]
    },
    {
     "name": "stdout",
     "output_type": "stream",
     "text": [
      "Repeat \u001b[1m\u001b[34m#1\n",
      "Repeat \u001b[1m\u001b[34m#2\n",
      "Repeat \u001b[1m\u001b[34m#3\n"
     ]
    },
    {
     "name": "stderr",
     "output_type": "stream",
     "text": [
      "[I 2023-06-17 15:06:58,117] Trial 332 finished with value: 0.22543904921121224 and parameters: {'bootstrap_type': 'Bayesian', 'grow_policy': 'Depthwise', 'learning_rate': 0.04288869662554542, 'l2_leaf_reg': 4.093887561394713, 'depth': 4, 'random_strength': 90.76010729490535, 'min_data_in_leaf': 93, 'bagging_temperature': 31.727820369779486}. Best is trial 236 with value: 0.2204946060949904.\n"
     ]
    },
    {
     "name": "stdout",
     "output_type": "stream",
     "text": [
      "Repeat \u001b[1m\u001b[34m#1\n",
      "Repeat \u001b[1m\u001b[34m#2\n",
      "Repeat \u001b[1m\u001b[34m#3\n"
     ]
    },
    {
     "name": "stderr",
     "output_type": "stream",
     "text": [
      "[I 2023-06-17 15:07:11,058] Trial 333 finished with value: 0.2288471455026616 and parameters: {'bootstrap_type': 'Bayesian', 'grow_policy': 'Depthwise', 'learning_rate': 0.043080396180045694, 'l2_leaf_reg': 3.4627656066863195, 'depth': 4, 'random_strength': 88.66844302701882, 'min_data_in_leaf': 92, 'bagging_temperature': 31.37902838893877}. Best is trial 236 with value: 0.2204946060949904.\n"
     ]
    },
    {
     "name": "stdout",
     "output_type": "stream",
     "text": [
      "Repeat \u001b[1m\u001b[34m#1\n",
      "Repeat \u001b[1m\u001b[34m#2\n",
      "Repeat \u001b[1m\u001b[34m#3\n"
     ]
    },
    {
     "name": "stderr",
     "output_type": "stream",
     "text": [
      "[I 2023-06-17 15:07:23,326] Trial 334 finished with value: 0.22830578786476555 and parameters: {'bootstrap_type': 'Bayesian', 'grow_policy': 'Lossguide', 'learning_rate': 0.03427609221986505, 'l2_leaf_reg': 0.06992044797688889, 'depth': 4, 'random_strength': 91.20661221580072, 'min_data_in_leaf': 90, 'bagging_temperature': 32.5312249387771, 'max_leaves': 9}. Best is trial 236 with value: 0.2204946060949904.\n"
     ]
    },
    {
     "name": "stdout",
     "output_type": "stream",
     "text": [
      "Repeat \u001b[1m\u001b[34m#1\n",
      "Repeat \u001b[1m\u001b[34m#2\n",
      "Repeat \u001b[1m\u001b[34m#3\n"
     ]
    },
    {
     "name": "stderr",
     "output_type": "stream",
     "text": [
      "[I 2023-06-17 15:07:33,688] Trial 335 finished with value: 0.23269496758647987 and parameters: {'bootstrap_type': 'Bayesian', 'grow_policy': 'Depthwise', 'learning_rate': 0.04438098774750864, 'l2_leaf_reg': 5.220040069715091, 'depth': 4, 'random_strength': 85.31460242444842, 'min_data_in_leaf': 93, 'bagging_temperature': 34.411470651524226}. Best is trial 236 with value: 0.2204946060949904.\n"
     ]
    },
    {
     "name": "stdout",
     "output_type": "stream",
     "text": [
      "Repeat \u001b[1m\u001b[34m#1\n",
      "Repeat \u001b[1m\u001b[34m#2\n",
      "Repeat \u001b[1m\u001b[34m#3\n"
     ]
    },
    {
     "name": "stderr",
     "output_type": "stream",
     "text": [
      "[I 2023-06-17 15:07:34,589] Trial 336 finished with value: 0.6913681320536978 and parameters: {'bootstrap_type': 'Bayesian', 'grow_policy': 'Depthwise', 'learning_rate': 0.02898885627117967, 'l2_leaf_reg': 0.00013974277021430614, 'depth': 4, 'random_strength': 63.30995494146573, 'min_data_in_leaf': 88, 'bagging_temperature': 58.70054537827944}. Best is trial 236 with value: 0.2204946060949904.\n"
     ]
    },
    {
     "name": "stdout",
     "output_type": "stream",
     "text": [
      "Repeat \u001b[1m\u001b[34m#1\n",
      "Repeat \u001b[1m\u001b[34m#2\n",
      "Repeat \u001b[1m\u001b[34m#3\n"
     ]
    },
    {
     "name": "stderr",
     "output_type": "stream",
     "text": [
      "[I 2023-06-17 15:07:45,959] Trial 337 finished with value: 0.23232120317910365 and parameters: {'bootstrap_type': 'Bayesian', 'grow_policy': 'Depthwise', 'learning_rate': 0.03912496736158086, 'l2_leaf_reg': 1.7295118652689285, 'depth': 4, 'random_strength': 67.95391155459437, 'min_data_in_leaf': 94, 'bagging_temperature': 29.481146235783182}. Best is trial 236 with value: 0.2204946060949904.\n"
     ]
    },
    {
     "name": "stdout",
     "output_type": "stream",
     "text": [
      "Repeat \u001b[1m\u001b[34m#1\n",
      "Repeat \u001b[1m\u001b[34m#2\n",
      "Repeat \u001b[1m\u001b[34m#3\n"
     ]
    },
    {
     "name": "stderr",
     "output_type": "stream",
     "text": [
      "[I 2023-06-17 15:07:58,454] Trial 338 finished with value: 0.25592815560584475 and parameters: {'bootstrap_type': 'Bernoulli', 'grow_policy': 'SymmetricTree', 'learning_rate': 0.149659080678405, 'l2_leaf_reg': 0.6646095152060201, 'depth': 4, 'random_strength': 99.9757054232395, 'min_data_in_leaf': 91, 'subsample': 0.7164682046768438, 'boosting_type': 'Ordered'}. Best is trial 236 with value: 0.2204946060949904.\n"
     ]
    },
    {
     "name": "stdout",
     "output_type": "stream",
     "text": [
      "Repeat \u001b[1m\u001b[34m#1\n",
      "Repeat \u001b[1m\u001b[34m#2\n",
      "Repeat \u001b[1m\u001b[34m#3\n"
     ]
    },
    {
     "name": "stderr",
     "output_type": "stream",
     "text": [
      "[I 2023-06-17 15:08:23,529] Trial 339 finished with value: 0.2326367596120821 and parameters: {'bootstrap_type': 'Bayesian', 'grow_policy': 'Depthwise', 'learning_rate': 0.014951435101122592, 'l2_leaf_reg': 8.627607294223578, 'depth': 4, 'random_strength': 92.16300421725514, 'min_data_in_leaf': 84, 'bagging_temperature': 26.892232865956366}. Best is trial 236 with value: 0.2204946060949904.\n"
     ]
    },
    {
     "name": "stdout",
     "output_type": "stream",
     "text": [
      "Repeat \u001b[1m\u001b[34m#1\n",
      "Repeat \u001b[1m\u001b[34m#2\n",
      "Repeat \u001b[1m\u001b[34m#3\n"
     ]
    },
    {
     "name": "stderr",
     "output_type": "stream",
     "text": [
      "[I 2023-06-17 15:08:40,894] Trial 340 finished with value: 0.22509930501620276 and parameters: {'bootstrap_type': 'Bayesian', 'grow_policy': 'Depthwise', 'learning_rate': 0.026412343163890534, 'l2_leaf_reg': 2.818158419576812, 'depth': 4, 'random_strength': 37.79002939648105, 'min_data_in_leaf': 95, 'bagging_temperature': 31.158915397748917}. Best is trial 236 with value: 0.2204946060949904.\n"
     ]
    },
    {
     "name": "stdout",
     "output_type": "stream",
     "text": [
      "Repeat \u001b[1m\u001b[34m#1\n",
      "Repeat \u001b[1m\u001b[34m#2\n",
      "Repeat \u001b[1m\u001b[34m#3\n"
     ]
    },
    {
     "name": "stderr",
     "output_type": "stream",
     "text": [
      "[I 2023-06-17 15:08:57,465] Trial 341 finished with value: 0.22734776244917765 and parameters: {'bootstrap_type': 'Bayesian', 'grow_policy': 'Depthwise', 'learning_rate': 0.027480397200330704, 'l2_leaf_reg': 5.0520674550870215, 'depth': 4, 'random_strength': 36.53313764272447, 'min_data_in_leaf': 96, 'bagging_temperature': 30.483004505005574}. Best is trial 236 with value: 0.2204946060949904.\n"
     ]
    },
    {
     "name": "stdout",
     "output_type": "stream",
     "text": [
      "Repeat \u001b[1m\u001b[34m#1\n",
      "Repeat \u001b[1m\u001b[34m#2\n",
      "Repeat \u001b[1m\u001b[34m#3\n"
     ]
    },
    {
     "name": "stderr",
     "output_type": "stream",
     "text": [
      "[I 2023-06-17 15:09:18,204] Trial 342 finished with value: 0.2316312538743923 and parameters: {'bootstrap_type': 'Bayesian', 'grow_policy': 'Depthwise', 'learning_rate': 0.01761888306911531, 'l2_leaf_reg': 3.3644694856877275, 'depth': 4, 'random_strength': 33.51994650786742, 'min_data_in_leaf': 95, 'bagging_temperature': 31.659086105629296}. Best is trial 236 with value: 0.2204946060949904.\n"
     ]
    },
    {
     "name": "stdout",
     "output_type": "stream",
     "text": [
      "Repeat \u001b[1m\u001b[34m#1\n",
      "Repeat \u001b[1m\u001b[34m#2\n",
      "Repeat \u001b[1m\u001b[34m#3\n"
     ]
    },
    {
     "name": "stderr",
     "output_type": "stream",
     "text": [
      "[I 2023-06-17 15:09:31,436] Trial 343 finished with value: 0.2721383787536817 and parameters: {'bootstrap_type': 'Bayesian', 'grow_policy': 'Depthwise', 'learning_rate': 0.024710613231106775, 'l2_leaf_reg': 0.004652511478297436, 'depth': 4, 'random_strength': 70.11232427357962, 'min_data_in_leaf': 24, 'bagging_temperature': 32.844363665892125}. Best is trial 236 with value: 0.2204946060949904.\n"
     ]
    },
    {
     "name": "stdout",
     "output_type": "stream",
     "text": [
      "Repeat \u001b[1m\u001b[34m#1\n",
      "Repeat \u001b[1m\u001b[34m#2\n",
      "Repeat \u001b[1m\u001b[34m#3\n"
     ]
    },
    {
     "name": "stderr",
     "output_type": "stream",
     "text": [
      "[I 2023-06-17 15:09:45,837] Trial 344 finished with value: 0.23442718540337093 and parameters: {'bootstrap_type': 'Bayesian', 'grow_policy': 'Lossguide', 'learning_rate': 0.031394936418643625, 'l2_leaf_reg': 11.109892796232025, 'depth': 4, 'random_strength': 93.02276322402598, 'min_data_in_leaf': 93, 'bagging_temperature': 27.531345613108126, 'max_leaves': 87}. Best is trial 236 with value: 0.2204946060949904.\n"
     ]
    },
    {
     "name": "stdout",
     "output_type": "stream",
     "text": [
      "Repeat \u001b[1m\u001b[34m#1\n",
      "Repeat \u001b[1m\u001b[34m#2\n",
      "Repeat \u001b[1m\u001b[34m#3\n"
     ]
    },
    {
     "name": "stderr",
     "output_type": "stream",
     "text": [
      "[I 2023-06-17 15:10:06,648] Trial 345 finished with value: 0.2319030305356828 and parameters: {'bootstrap_type': 'Bayesian', 'grow_policy': 'Depthwise', 'learning_rate': 0.0215787341402879, 'l2_leaf_reg': 2.258897034908058, 'depth': 4, 'random_strength': 40.60390256049915, 'min_data_in_leaf': 56, 'bagging_temperature': 35.059785430515355}. Best is trial 236 with value: 0.2204946060949904.\n"
     ]
    },
    {
     "name": "stdout",
     "output_type": "stream",
     "text": [
      "Repeat \u001b[1m\u001b[34m#1\n",
      "Repeat \u001b[1m\u001b[34m#2\n",
      "Repeat \u001b[1m\u001b[34m#3\n"
     ]
    },
    {
     "name": "stderr",
     "output_type": "stream",
     "text": [
      "[I 2023-06-17 15:10:23,468] Trial 346 finished with value: 0.22657674235652112 and parameters: {'bootstrap_type': 'Bayesian', 'grow_policy': 'Depthwise', 'learning_rate': 0.024749483228100604, 'l2_leaf_reg': 1.1470291239687642, 'depth': 4, 'random_strength': 90.13347090394389, 'min_data_in_leaf': 90, 'bagging_temperature': 29.29653600819786}. Best is trial 236 with value: 0.2204946060949904.\n"
     ]
    },
    {
     "name": "stdout",
     "output_type": "stream",
     "text": [
      "Repeat \u001b[1m\u001b[34m#1\n",
      "Repeat \u001b[1m\u001b[34m#2\n",
      "Repeat \u001b[1m\u001b[34m#3\n"
     ]
    },
    {
     "name": "stderr",
     "output_type": "stream",
     "text": [
      "[I 2023-06-17 15:10:37,681] Trial 347 finished with value: 0.22921134551189673 and parameters: {'bootstrap_type': 'Bayesian', 'grow_policy': 'Depthwise', 'learning_rate': 0.03457396117152563, 'l2_leaf_reg': 6.699867816714927, 'depth': 4, 'random_strength': 47.67581612931726, 'min_data_in_leaf': 95, 'bagging_temperature': 33.58997549077561}. Best is trial 236 with value: 0.2204946060949904.\n"
     ]
    },
    {
     "name": "stdout",
     "output_type": "stream",
     "text": [
      "Repeat \u001b[1m\u001b[34m#1\n",
      "Repeat \u001b[1m\u001b[34m#2\n",
      "Repeat \u001b[1m\u001b[34m#3\n"
     ]
    },
    {
     "name": "stderr",
     "output_type": "stream",
     "text": [
      "[I 2023-06-17 15:10:56,997] Trial 348 finished with value: 0.23661131126694998 and parameters: {'bootstrap_type': 'Bayesian', 'grow_policy': 'Depthwise', 'learning_rate': 0.019088696431567267, 'l2_leaf_reg': 4.224455512323843, 'depth': 4, 'random_strength': 53.90141626770996, 'min_data_in_leaf': 97, 'bagging_temperature': 31.302328408494475}. Best is trial 236 with value: 0.2204946060949904.\n"
     ]
    },
    {
     "name": "stdout",
     "output_type": "stream",
     "text": [
      "Repeat \u001b[1m\u001b[34m#1\n",
      "Repeat \u001b[1m\u001b[34m#2\n",
      "Repeat \u001b[1m\u001b[34m#3\n"
     ]
    },
    {
     "name": "stderr",
     "output_type": "stream",
     "text": [
      "[I 2023-06-17 15:10:59,815] Trial 349 finished with value: 0.2779513697795118 and parameters: {'bootstrap_type': 'MVS', 'grow_policy': 'Depthwise', 'learning_rate': 0.18857556640672107, 'l2_leaf_reg': 0.14919532452968656, 'depth': 4, 'random_strength': 48.01271662927252, 'min_data_in_leaf': 47}. Best is trial 236 with value: 0.2204946060949904.\n"
     ]
    },
    {
     "name": "stdout",
     "output_type": "stream",
     "text": [
      "Repeat \u001b[1m\u001b[34m#1\n",
      "Repeat \u001b[1m\u001b[34m#2\n",
      "Repeat \u001b[1m\u001b[34m#3\n"
     ]
    },
    {
     "name": "stderr",
     "output_type": "stream",
     "text": [
      "[I 2023-06-17 15:11:00,575] Trial 350 finished with value: 0.6937399928936762 and parameters: {'bootstrap_type': 'Bayesian', 'grow_policy': 'Depthwise', 'learning_rate': 0.1151336145987504, 'l2_leaf_reg': 0.0009677349886799244, 'depth': 4, 'random_strength': 52.54157248507467, 'min_data_in_leaf': 92, 'bagging_temperature': 81.71654524573631}. Best is trial 236 with value: 0.2204946060949904.\n"
     ]
    },
    {
     "name": "stdout",
     "output_type": "stream",
     "text": [
      "Repeat \u001b[1m\u001b[34m#1\n",
      "Repeat \u001b[1m\u001b[34m#2\n",
      "Repeat \u001b[1m\u001b[34m#3\n"
     ]
    },
    {
     "name": "stderr",
     "output_type": "stream",
     "text": [
      "[I 2023-06-17 15:11:16,413] Trial 351 finished with value: 0.2271604825001471 and parameters: {'bootstrap_type': 'Bayesian', 'grow_policy': 'Depthwise', 'learning_rate': 0.029047034029761082, 'l2_leaf_reg': 2.0014266999140182, 'depth': 4, 'random_strength': 86.73882727515453, 'min_data_in_leaf': 94, 'bagging_temperature': 35.58795304969475}. Best is trial 236 with value: 0.2204946060949904.\n"
     ]
    },
    {
     "name": "stdout",
     "output_type": "stream",
     "text": [
      "Repeat \u001b[1m\u001b[34m#1\n",
      "Repeat \u001b[1m\u001b[34m#2\n",
      "Repeat \u001b[1m\u001b[34m#3\n"
     ]
    },
    {
     "name": "stderr",
     "output_type": "stream",
     "text": [
      "[I 2023-06-17 15:11:37,290] Trial 352 finished with value: 0.22686415983216288 and parameters: {'bootstrap_type': 'Bayesian', 'grow_policy': 'Lossguide', 'learning_rate': 0.024737608496839737, 'l2_leaf_reg': 12.794609709743835, 'depth': 4, 'random_strength': 45.74664563088257, 'min_data_in_leaf': 88, 'bagging_temperature': 25.78192859757879, 'max_leaves': 37}. Best is trial 236 with value: 0.2204946060949904.\n"
     ]
    },
    {
     "name": "stdout",
     "output_type": "stream",
     "text": [
      "Repeat \u001b[1m\u001b[34m#1\n",
      "Repeat \u001b[1m\u001b[34m#2\n",
      "Repeat \u001b[1m\u001b[34m#3\n"
     ]
    },
    {
     "name": "stderr",
     "output_type": "stream",
     "text": [
      "[I 2023-06-17 15:11:43,379] Trial 353 finished with value: 0.23771656551655787 and parameters: {'bootstrap_type': 'Bayesian', 'grow_policy': 'Depthwise', 'learning_rate': 0.09810025081579996, 'l2_leaf_reg': 0.8421153890837126, 'depth': 4, 'random_strength': 57.0983747426241, 'min_data_in_leaf': 90, 'bagging_temperature': 28.295243504908264}. Best is trial 236 with value: 0.2204946060949904.\n"
     ]
    },
    {
     "name": "stdout",
     "output_type": "stream",
     "text": [
      "Repeat \u001b[1m\u001b[34m#1\n",
      "Repeat \u001b[1m\u001b[34m#2\n",
      "Repeat \u001b[1m\u001b[34m#3\n"
     ]
    },
    {
     "name": "stderr",
     "output_type": "stream",
     "text": [
      "[I 2023-06-17 15:12:20,255] Trial 354 finished with value: 0.24622582915007662 and parameters: {'bootstrap_type': 'Bayesian', 'grow_policy': 'Depthwise', 'learning_rate': 0.006102632103622623, 'l2_leaf_reg': 2.9563941599207766, 'depth': 4, 'random_strength': 55.30089913836933, 'min_data_in_leaf': 96, 'bagging_temperature': 37.23158726390091}. Best is trial 236 with value: 0.2204946060949904.\n"
     ]
    },
    {
     "name": "stdout",
     "output_type": "stream",
     "text": [
      "Repeat \u001b[1m\u001b[34m#1\n",
      "Repeat \u001b[1m\u001b[34m#2\n",
      "Repeat \u001b[1m\u001b[34m#3\n"
     ]
    },
    {
     "name": "stderr",
     "output_type": "stream",
     "text": [
      "[I 2023-06-17 15:12:34,213] Trial 355 finished with value: 0.22860928489826052 and parameters: {'bootstrap_type': 'Bayesian', 'grow_policy': 'Depthwise', 'learning_rate': 0.03902625149985571, 'l2_leaf_reg': 6.248875002112814, 'depth': 4, 'random_strength': 93.61413231862463, 'min_data_in_leaf': 93, 'bagging_temperature': 46.21423368255684}. Best is trial 236 with value: 0.2204946060949904.\n"
     ]
    },
    {
     "name": "stdout",
     "output_type": "stream",
     "text": [
      "Repeat \u001b[1m\u001b[34m#1\n",
      "Repeat \u001b[1m\u001b[34m#2\n",
      "Repeat \u001b[1m\u001b[34m#3\n"
     ]
    },
    {
     "name": "stderr",
     "output_type": "stream",
     "text": [
      "[I 2023-06-17 15:12:48,064] Trial 356 finished with value: 0.23264931064331087 and parameters: {'bootstrap_type': 'Bayesian', 'grow_policy': 'Depthwise', 'learning_rate': 0.032129673923844485, 'l2_leaf_reg': 0.5254846047012612, 'depth': 4, 'random_strength': 61.50795021704129, 'min_data_in_leaf': 87, 'bagging_temperature': 32.54524303558078}. Best is trial 236 with value: 0.2204946060949904.\n"
     ]
    },
    {
     "name": "stdout",
     "output_type": "stream",
     "text": [
      "Repeat \u001b[1m\u001b[34m#1\n",
      "Repeat \u001b[1m\u001b[34m#2\n",
      "Repeat \u001b[1m\u001b[34m#3\n"
     ]
    },
    {
     "name": "stderr",
     "output_type": "stream",
     "text": [
      "[I 2023-06-17 15:12:59,688] Trial 357 finished with value: 0.255382088301032 and parameters: {'bootstrap_type': 'Bayesian', 'grow_policy': 'Depthwise', 'learning_rate': 0.05089010605056435, 'l2_leaf_reg': 1.6358585415616926, 'depth': 4, 'random_strength': 95.14583981858117, 'min_data_in_leaf': 91, 'bagging_temperature': 50.71851607598473}. Best is trial 236 with value: 0.2204946060949904.\n"
     ]
    },
    {
     "name": "stdout",
     "output_type": "stream",
     "text": [
      "Repeat \u001b[1m\u001b[34m#1\n",
      "Repeat \u001b[1m\u001b[34m#2\n",
      "Repeat \u001b[1m\u001b[34m#3\n"
     ]
    },
    {
     "name": "stderr",
     "output_type": "stream",
     "text": [
      "[I 2023-06-17 15:13:53,556] Trial 358 finished with value: 0.4348506242287858 and parameters: {'bootstrap_type': 'Bayesian', 'grow_policy': 'Depthwise', 'learning_rate': 0.0007808343572750314, 'l2_leaf_reg': 15.258244070614165, 'depth': 4, 'random_strength': 72.98509672934661, 'min_data_in_leaf': 30, 'bagging_temperature': 34.86766204622979}. Best is trial 236 with value: 0.2204946060949904.\n"
     ]
    },
    {
     "name": "stdout",
     "output_type": "stream",
     "text": [
      "Repeat \u001b[1m\u001b[34m#1\n",
      "Repeat \u001b[1m\u001b[34m#2\n",
      "Repeat \u001b[1m\u001b[34m#3\n"
     ]
    },
    {
     "name": "stderr",
     "output_type": "stream",
     "text": [
      "[I 2023-06-17 15:14:01,255] Trial 359 finished with value: 0.22953245204885084 and parameters: {'bootstrap_type': 'Bayesian', 'grow_policy': 'Depthwise', 'learning_rate': 0.08189532245013668, 'l2_leaf_reg': 8.674258738589286, 'depth': 4, 'random_strength': 59.03924146224527, 'min_data_in_leaf': 97, 'bagging_temperature': 31.079159401770234}. Best is trial 236 with value: 0.2204946060949904.\n"
     ]
    },
    {
     "name": "stdout",
     "output_type": "stream",
     "text": [
      "Repeat \u001b[1m\u001b[34m#1\n",
      "Repeat \u001b[1m\u001b[34m#2\n",
      "Repeat \u001b[1m\u001b[34m#3\n"
     ]
    },
    {
     "name": "stderr",
     "output_type": "stream",
     "text": [
      "[I 2023-06-17 15:14:25,774] Trial 360 finished with value: 0.24820192251586515 and parameters: {'bootstrap_type': 'Bernoulli', 'grow_policy': 'Depthwise', 'learning_rate': 0.009385604863223282, 'l2_leaf_reg': 3.347887027478967, 'depth': 7, 'random_strength': 65.99027806585636, 'min_data_in_leaf': 94, 'subsample': 0.6404358558492638}. Best is trial 236 with value: 0.2204946060949904.\n"
     ]
    },
    {
     "name": "stdout",
     "output_type": "stream",
     "text": [
      "Repeat \u001b[1m\u001b[34m#1\n",
      "Repeat \u001b[1m\u001b[34m#2\n",
      "Repeat \u001b[1m\u001b[34m#3\n"
     ]
    },
    {
     "name": "stderr",
     "output_type": "stream",
     "text": [
      "[I 2023-06-17 15:16:35,185] Trial 361 finished with value: 0.5738416710438331 and parameters: {'bootstrap_type': 'Bayesian', 'grow_policy': 'SymmetricTree', 'learning_rate': 0.0002810328790109082, 'l2_leaf_reg': 6.442090472196545e-08, 'depth': 4, 'random_strength': 70.866077975152, 'min_data_in_leaf': 92, 'bagging_temperature': 37.308279323888996, 'boosting_type': 'Ordered'}. Best is trial 236 with value: 0.2204946060949904.\n"
     ]
    },
    {
     "name": "stdout",
     "output_type": "stream",
     "text": [
      "Repeat \u001b[1m\u001b[34m#1\n",
      "Repeat \u001b[1m\u001b[34m#2\n",
      "Repeat \u001b[1m\u001b[34m#3\n"
     ]
    },
    {
     "name": "stderr",
     "output_type": "stream",
     "text": [
      "[I 2023-06-17 15:16:47,819] Trial 362 finished with value: 0.23875306894315743 and parameters: {'bootstrap_type': 'Bayesian', 'grow_policy': 'Lossguide', 'learning_rate': 0.026774610829237717, 'l2_leaf_reg': 0.03728174887596587, 'depth': 4, 'random_strength': 97.74855755509228, 'min_data_in_leaf': 95, 'bagging_temperature': 16.12986913309019, 'max_leaves': 63}. Best is trial 236 with value: 0.2204946060949904.\n"
     ]
    },
    {
     "name": "stdout",
     "output_type": "stream",
     "text": [
      "Repeat \u001b[1m\u001b[34m#1\n",
      "Repeat \u001b[1m\u001b[34m#2\n",
      "Repeat \u001b[1m\u001b[34m#3\n"
     ]
    },
    {
     "name": "stderr",
     "output_type": "stream",
     "text": [
      "[I 2023-06-17 15:17:01,678] Trial 363 finished with value: 0.23430863303128954 and parameters: {'bootstrap_type': 'Bayesian', 'grow_policy': 'Depthwise', 'learning_rate': 0.03473540230830284, 'l2_leaf_reg': 1.0981505204305784, 'depth': 4, 'random_strength': 68.71638778349437, 'min_data_in_leaf': 98, 'bagging_temperature': 29.62640856437082}. Best is trial 236 with value: 0.2204946060949904.\n"
     ]
    },
    {
     "name": "stdout",
     "output_type": "stream",
     "text": [
      "Repeat \u001b[1m\u001b[34m#1\n",
      "Repeat \u001b[1m\u001b[34m#2\n",
      "Repeat \u001b[1m\u001b[34m#3\n"
     ]
    },
    {
     "name": "stderr",
     "output_type": "stream",
     "text": [
      "[I 2023-06-17 15:17:22,382] Trial 364 finished with value: 0.23524184596823203 and parameters: {'bootstrap_type': 'Bayesian', 'grow_policy': 'Depthwise', 'learning_rate': 0.020420121421041063, 'l2_leaf_reg': 2.1580994953284844, 'depth': 4, 'random_strength': 62.77539698499336, 'min_data_in_leaf': 59, 'bagging_temperature': 33.9902346696809}. Best is trial 236 with value: 0.2204946060949904.\n"
     ]
    },
    {
     "name": "stdout",
     "output_type": "stream",
     "text": [
      "Repeat \u001b[1m\u001b[34m#1\n",
      "Repeat \u001b[1m\u001b[34m#2\n",
      "Repeat \u001b[1m\u001b[34m#3\n"
     ]
    },
    {
     "name": "stderr",
     "output_type": "stream",
     "text": [
      "[I 2023-06-17 15:17:47,804] Trial 365 finished with value: 0.23732377572523947 and parameters: {'bootstrap_type': 'Bayesian', 'grow_policy': 'Depthwise', 'learning_rate': 0.01086823728181834, 'l2_leaf_reg': 0.09116512785471098, 'depth': 4, 'random_strength': 28.676289471126086, 'min_data_in_leaf': 96, 'bagging_temperature': 39.07398359500334}. Best is trial 236 with value: 0.2204946060949904.\n"
     ]
    },
    {
     "name": "stdout",
     "output_type": "stream",
     "text": [
      "Repeat \u001b[1m\u001b[34m#1\n",
      "Repeat \u001b[1m\u001b[34m#2\n",
      "Repeat \u001b[1m\u001b[34m#3\n"
     ]
    },
    {
     "name": "stderr",
     "output_type": "stream",
     "text": [
      "[I 2023-06-17 15:18:04,887] Trial 366 finished with value: 0.2288303316635468 and parameters: {'bootstrap_type': 'Bayesian', 'grow_policy': 'Depthwise', 'learning_rate': 0.030192487462814277, 'l2_leaf_reg': 5.357462908367249, 'depth': 4, 'random_strength': 50.70027269707779, 'min_data_in_leaf': 89, 'bagging_temperature': 44.5153500708627}. Best is trial 236 with value: 0.2204946060949904.\n"
     ]
    },
    {
     "name": "stdout",
     "output_type": "stream",
     "text": [
      "Repeat \u001b[1m\u001b[34m#1\n",
      "Repeat \u001b[1m\u001b[34m#2\n",
      "Repeat \u001b[1m\u001b[34m#3\n"
     ]
    },
    {
     "name": "stderr",
     "output_type": "stream",
     "text": [
      "[I 2023-06-17 15:18:10,965] Trial 367 finished with value: 0.24755975012028833 and parameters: {'bootstrap_type': 'Bayesian', 'grow_policy': 'Depthwise', 'learning_rate': 0.0942019432863183, 'l2_leaf_reg': 0.34695546141925276, 'depth': 4, 'random_strength': 67.49922627960646, 'min_data_in_leaf': 92, 'bagging_temperature': 47.947573050553906}. Best is trial 236 with value: 0.2204946060949904.\n"
     ]
    },
    {
     "name": "stdout",
     "output_type": "stream",
     "text": [
      "Repeat \u001b[1m\u001b[34m#1\n",
      "Repeat \u001b[1m\u001b[34m#2\n",
      "Repeat \u001b[1m\u001b[34m#3\n"
     ]
    },
    {
     "name": "stderr",
     "output_type": "stream",
     "text": [
      "[I 2023-06-17 15:18:19,998] Trial 368 finished with value: 0.24329518750730747 and parameters: {'bootstrap_type': 'Bayesian', 'grow_policy': 'Depthwise', 'learning_rate': 0.1395366977375454, 'l2_leaf_reg': 23.91161889092482, 'depth': 4, 'random_strength': 89.23988126299118, 'min_data_in_leaf': 17, 'bagging_temperature': 41.11639735229265}. Best is trial 236 with value: 0.2204946060949904.\n"
     ]
    },
    {
     "name": "stdout",
     "output_type": "stream",
     "text": [
      "Repeat \u001b[1m\u001b[34m#1\n",
      "Repeat \u001b[1m\u001b[34m#2\n",
      "Repeat \u001b[1m\u001b[34m#3\n"
     ]
    },
    {
     "name": "stderr",
     "output_type": "stream",
     "text": [
      "[I 2023-06-17 15:18:43,690] Trial 369 finished with value: 0.2318505338876046 and parameters: {'bootstrap_type': 'Bayesian', 'grow_policy': 'Depthwise', 'learning_rate': 0.015561236019498742, 'l2_leaf_reg': 3.701905734090365, 'depth': 4, 'random_strength': 64.47118466270742, 'min_data_in_leaf': 94, 'bagging_temperature': 24.905300903475496}. Best is trial 236 with value: 0.2204946060949904.\n"
     ]
    },
    {
     "name": "stdout",
     "output_type": "stream",
     "text": [
      "Repeat \u001b[1m\u001b[34m#1\n",
      "Repeat \u001b[1m\u001b[34m#2\n",
      "Repeat \u001b[1m\u001b[34m#3\n"
     ]
    },
    {
     "name": "stderr",
     "output_type": "stream",
     "text": [
      "[I 2023-06-17 15:18:59,591] Trial 370 finished with value: 0.23418376330262014 and parameters: {'bootstrap_type': 'Bayesian', 'grow_policy': 'Lossguide', 'learning_rate': 0.040257300085255694, 'l2_leaf_reg': 9.048098159820174, 'depth': 5, 'random_strength': 83.3734949933086, 'min_data_in_leaf': 85, 'bagging_temperature': 36.00869534127467, 'max_leaves': 84}. Best is trial 236 with value: 0.2204946060949904.\n"
     ]
    },
    {
     "name": "stdout",
     "output_type": "stream",
     "text": [
      "Repeat \u001b[1m\u001b[34m#1\n",
      "Repeat \u001b[1m\u001b[34m#2\n",
      "Repeat \u001b[1m\u001b[34m#3\n"
     ]
    },
    {
     "name": "stderr",
     "output_type": "stream",
     "text": [
      "[I 2023-06-17 15:19:09,700] Trial 371 finished with value: 0.2437233567034509 and parameters: {'bootstrap_type': 'MVS', 'grow_policy': 'Depthwise', 'learning_rate': 0.023737423741712387, 'l2_leaf_reg': 1.5730184924601494, 'depth': 4, 'random_strength': 73.0338130384999, 'min_data_in_leaf': 90}. Best is trial 236 with value: 0.2204946060949904.\n"
     ]
    },
    {
     "name": "stdout",
     "output_type": "stream",
     "text": [
      "Repeat \u001b[1m\u001b[34m#1\n",
      "Repeat \u001b[1m\u001b[34m#2\n",
      "Repeat \u001b[1m\u001b[34m#3\n"
     ]
    },
    {
     "name": "stderr",
     "output_type": "stream",
     "text": [
      "[I 2023-06-17 15:19:19,123] Trial 372 finished with value: 0.24668870417585934 and parameters: {'bootstrap_type': 'Bayesian', 'grow_policy': 'Depthwise', 'learning_rate': 0.05281044123430571, 'l2_leaf_reg': 0.723001103380207, 'depth': 4, 'random_strength': 13.942598413830744, 'min_data_in_leaf': 43, 'bagging_temperature': 32.44549716100831}. Best is trial 236 with value: 0.2204946060949904.\n"
     ]
    },
    {
     "name": "stdout",
     "output_type": "stream",
     "text": [
      "Repeat \u001b[1m\u001b[34m#1\n",
      "Repeat \u001b[1m\u001b[34m#2\n",
      "Repeat \u001b[1m\u001b[34m#3\n"
     ]
    },
    {
     "name": "stderr",
     "output_type": "stream",
     "text": [
      "[I 2023-06-17 15:19:27,633] Trial 373 finished with value: 0.2333496289924677 and parameters: {'bootstrap_type': 'Bayesian', 'grow_policy': 'Depthwise', 'learning_rate': 0.07275610014210321, 'l2_leaf_reg': 16.5847424553647, 'depth': 4, 'random_strength': 39.02813184018876, 'min_data_in_leaf': 97, 'bagging_temperature': 27.40161062191166}. Best is trial 236 with value: 0.2204946060949904.\n"
     ]
    },
    {
     "name": "stdout",
     "output_type": "stream",
     "text": [
      "Repeat \u001b[1m\u001b[34m#1\n",
      "Repeat \u001b[1m\u001b[34m#2\n",
      "Repeat \u001b[1m\u001b[34m#3\n"
     ]
    },
    {
     "name": "stderr",
     "output_type": "stream",
     "text": [
      "[I 2023-06-17 15:20:01,781] Trial 374 finished with value: 0.2397497961973063 and parameters: {'bootstrap_type': 'Bayesian', 'grow_policy': 'Depthwise', 'learning_rate': 0.007880583513710345, 'l2_leaf_reg': 2.563534889133472, 'depth': 4, 'random_strength': 60.53679541802833, 'min_data_in_leaf': 94, 'bagging_temperature': 30.267854220937508}. Best is trial 236 with value: 0.2204946060949904.\n"
     ]
    },
    {
     "name": "stdout",
     "output_type": "stream",
     "text": [
      "Repeat \u001b[1m\u001b[34m#1\n",
      "Repeat \u001b[1m\u001b[34m#2\n",
      "Repeat \u001b[1m\u001b[34m#3\n"
     ]
    },
    {
     "name": "stderr",
     "output_type": "stream",
     "text": [
      "[I 2023-06-17 15:20:05,637] Trial 375 finished with value: 0.2884750490801253 and parameters: {'bootstrap_type': 'Bayesian', 'grow_policy': 'Depthwise', 'learning_rate': 0.1666412264780804, 'l2_leaf_reg': 7.792601214332335e-05, 'depth': 4, 'random_strength': 81.93413714867098, 'min_data_in_leaf': 92, 'bagging_temperature': 34.13177488454483}. Best is trial 236 with value: 0.2204946060949904.\n"
     ]
    },
    {
     "name": "stdout",
     "output_type": "stream",
     "text": [
      "Repeat \u001b[1m\u001b[34m#1\n",
      "Repeat \u001b[1m\u001b[34m#2\n",
      "Repeat \u001b[1m\u001b[34m#3\n"
     ]
    },
    {
     "name": "stderr",
     "output_type": "stream",
     "text": [
      "[I 2023-06-17 15:20:11,369] Trial 376 finished with value: 0.23288638932747943 and parameters: {'bootstrap_type': 'Bayesian', 'grow_policy': 'Depthwise', 'learning_rate': 0.11605401291814707, 'l2_leaf_reg': 4.552360478359872, 'depth': 4, 'random_strength': 70.15366947859823, 'min_data_in_leaf': 98, 'bagging_temperature': 38.24307709989981}. Best is trial 236 with value: 0.2204946060949904.\n"
     ]
    },
    {
     "name": "stdout",
     "output_type": "stream",
     "text": [
      "Repeat \u001b[1m\u001b[34m#1\n",
      "Repeat \u001b[1m\u001b[34m#2\n",
      "Repeat \u001b[1m\u001b[34m#3\n"
     ]
    },
    {
     "name": "stderr",
     "output_type": "stream",
     "text": [
      "[I 2023-06-17 15:20:24,600] Trial 377 finished with value: 0.22954563547405418 and parameters: {'bootstrap_type': 'Bayesian', 'grow_policy': 'Depthwise', 'learning_rate': 0.03635418996702742, 'l2_leaf_reg': 1.2203162948184956, 'depth': 4, 'random_strength': 65.69677270446545, 'min_data_in_leaf': 95, 'bagging_temperature': 36.537130436681096}. Best is trial 236 with value: 0.2204946060949904.\n"
     ]
    },
    {
     "name": "stdout",
     "output_type": "stream",
     "text": [
      "Repeat \u001b[1m\u001b[34m#1\n",
      "Repeat \u001b[1m\u001b[34m#2\n",
      "Repeat \u001b[1m\u001b[34m#3\n"
     ]
    },
    {
     "name": "stderr",
     "output_type": "stream",
     "text": [
      "[I 2023-06-17 15:20:36,595] Trial 378 finished with value: 0.23244385064396603 and parameters: {'bootstrap_type': 'Bayesian', 'grow_policy': 'Depthwise', 'learning_rate': 0.04539709716209916, 'l2_leaf_reg': 7.218456063269899, 'depth': 4, 'random_strength': 59.10958242472498, 'min_data_in_leaf': 91, 'bagging_temperature': 28.52274347713407}. Best is trial 236 with value: 0.2204946060949904.\n"
     ]
    },
    {
     "name": "stdout",
     "output_type": "stream",
     "text": [
      "Repeat \u001b[1m\u001b[34m#1\n",
      "Repeat \u001b[1m\u001b[34m#2\n",
      "Repeat \u001b[1m\u001b[34m#3\n"
     ]
    },
    {
     "name": "stderr",
     "output_type": "stream",
     "text": [
      "[I 2023-06-17 15:21:00,293] Trial 379 finished with value: 0.23704195853763452 and parameters: {'bootstrap_type': 'Bayesian', 'grow_policy': 'Lossguide', 'learning_rate': 0.028334833074210804, 'l2_leaf_reg': 45.03978911689956, 'depth': 4, 'random_strength': 79.59102616440775, 'min_data_in_leaf': 87, 'bagging_temperature': 42.92347850130877, 'max_leaves': 73}. Best is trial 236 with value: 0.2204946060949904.\n"
     ]
    },
    {
     "name": "stdout",
     "output_type": "stream",
     "text": [
      "Repeat \u001b[1m\u001b[34m#1\n",
      "Repeat \u001b[1m\u001b[34m#2\n",
      "Repeat \u001b[1m\u001b[34m#3\n"
     ]
    },
    {
     "name": "stderr",
     "output_type": "stream",
     "text": [
      "[I 2023-06-17 15:21:39,013] Trial 380 finished with value: 0.3561505889145084 and parameters: {'bootstrap_type': 'Bayesian', 'grow_policy': 'Depthwise', 'learning_rate': 0.0013755563717104229, 'l2_leaf_reg': 0.0508279321557167, 'depth': 4, 'random_strength': 63.145726621994314, 'min_data_in_leaf': 96, 'bagging_temperature': 32.0394562276678}. Best is trial 236 with value: 0.2204946060949904.\n"
     ]
    },
    {
     "name": "stdout",
     "output_type": "stream",
     "text": [
      "Repeat \u001b[1m\u001b[34m#1\n",
      "Repeat \u001b[1m\u001b[34m#2\n",
      "Repeat \u001b[1m\u001b[34m#3\n"
     ]
    },
    {
     "name": "stderr",
     "output_type": "stream",
     "text": [
      "[I 2023-06-17 15:22:01,491] Trial 381 finished with value: 0.22921281482711664 and parameters: {'bootstrap_type': 'Bayesian', 'grow_policy': 'Depthwise', 'learning_rate': 0.01744861582331427, 'l2_leaf_reg': 2.4371708837168042, 'depth': 4, 'random_strength': 67.12969244579054, 'min_data_in_leaf': 94, 'bagging_temperature': 34.94404071768696}. Best is trial 236 with value: 0.2204946060949904.\n"
     ]
    },
    {
     "name": "stdout",
     "output_type": "stream",
     "text": [
      "Repeat \u001b[1m\u001b[34m#1\n",
      "Repeat \u001b[1m\u001b[34m#2\n",
      "Repeat \u001b[1m\u001b[34m#3\n"
     ]
    },
    {
     "name": "stderr",
     "output_type": "stream",
     "text": [
      "[I 2023-06-17 15:22:35,821] Trial 382 finished with value: 0.2504762632326418 and parameters: {'bootstrap_type': 'Bayesian', 'grow_policy': 'Depthwise', 'learning_rate': 0.005813046597755104, 'l2_leaf_reg': 0.03495654745199539, 'depth': 4, 'random_strength': 85.76829140308385, 'min_data_in_leaf': 78, 'bagging_temperature': 39.62497524450814}. Best is trial 236 with value: 0.2204946060949904.\n"
     ]
    },
    {
     "name": "stdout",
     "output_type": "stream",
     "text": [
      "Repeat \u001b[1m\u001b[34m#1\n",
      "Repeat \u001b[1m\u001b[34m#2\n",
      "Repeat \u001b[1m\u001b[34m#3\n"
     ]
    },
    {
     "name": "stderr",
     "output_type": "stream",
     "text": [
      "[I 2023-06-17 15:22:57,299] Trial 383 finished with value: 0.24644905137860362 and parameters: {'bootstrap_type': 'Bayesian', 'grow_policy': 'SymmetricTree', 'learning_rate': 0.012909270953696669, 'l2_leaf_reg': 4.973578529839067, 'depth': 4, 'random_strength': 54.86609130832585, 'min_data_in_leaf': 89, 'bagging_temperature': 30.57451287212802, 'boosting_type': 'Plain'}. Best is trial 236 with value: 0.2204946060949904.\n"
     ]
    },
    {
     "name": "stdout",
     "output_type": "stream",
     "text": [
      "Repeat \u001b[1m\u001b[34m#1\n",
      "Repeat \u001b[1m\u001b[34m#2\n",
      "Repeat \u001b[1m\u001b[34m#3\n"
     ]
    },
    {
     "name": "stderr",
     "output_type": "stream",
     "text": [
      "[I 2023-06-17 15:23:09,525] Trial 384 finished with value: 0.2413722069045262 and parameters: {'bootstrap_type': 'Bernoulli', 'grow_policy': 'Depthwise', 'learning_rate': 0.022161212468984733, 'l2_leaf_reg': 12.175686269648844, 'depth': 4, 'random_strength': 69.20978866325811, 'min_data_in_leaf': 98, 'subsample': 0.8076980204854904}. Best is trial 236 with value: 0.2204946060949904.\n"
     ]
    },
    {
     "name": "stdout",
     "output_type": "stream",
     "text": [
      "Repeat \u001b[1m\u001b[34m#1\n",
      "Repeat \u001b[1m\u001b[34m#2\n",
      "Repeat \u001b[1m\u001b[34m#3\n"
     ]
    },
    {
     "name": "stderr",
     "output_type": "stream",
     "text": [
      "[I 2023-06-17 15:23:28,402] Trial 385 finished with value: 0.23380182820648834 and parameters: {'bootstrap_type': 'Bayesian', 'grow_policy': 'Depthwise', 'learning_rate': 0.03315515113014893, 'l2_leaf_reg': 33.51482287571784, 'depth': 4, 'random_strength': 74.98516940979562, 'min_data_in_leaf': 92, 'bagging_temperature': 33.319103772844194}. Best is trial 236 with value: 0.2204946060949904.\n"
     ]
    },
    {
     "name": "stdout",
     "output_type": "stream",
     "text": [
      "Repeat \u001b[1m\u001b[34m#1\n",
      "Repeat \u001b[1m\u001b[34m#2\n",
      "Repeat \u001b[1m\u001b[34m#3\n"
     ]
    },
    {
     "name": "stderr",
     "output_type": "stream",
     "text": [
      "[I 2023-06-17 15:23:35,413] Trial 386 finished with value: 0.24657196212122198 and parameters: {'bootstrap_type': 'Bayesian', 'grow_policy': 'Depthwise', 'learning_rate': 0.08717368277713937, 'l2_leaf_reg': 0.23744719733751285, 'depth': 4, 'random_strength': 71.78841622996815, 'min_data_in_leaf': 93, 'bagging_temperature': 40.71960705468073}. Best is trial 236 with value: 0.2204946060949904.\n"
     ]
    },
    {
     "name": "stdout",
     "output_type": "stream",
     "text": [
      "Repeat \u001b[1m\u001b[34m#1\n",
      "Repeat \u001b[1m\u001b[34m#2\n",
      "Repeat \u001b[1m\u001b[34m#3\n"
     ]
    },
    {
     "name": "stderr",
     "output_type": "stream",
     "text": [
      "[I 2023-06-17 15:23:36,226] Trial 387 finished with value: 0.6932829224271274 and parameters: {'bootstrap_type': 'Bayesian', 'grow_policy': 'Depthwise', 'learning_rate': 0.026679648960799468, 'l2_leaf_reg': 0.5928651361054813, 'depth': 4, 'random_strength': 61.69393052641885, 'min_data_in_leaf': 96, 'bagging_temperature': 69.91619355998199}. Best is trial 236 with value: 0.2204946060949904.\n"
     ]
    },
    {
     "name": "stdout",
     "output_type": "stream",
     "text": [
      "Repeat \u001b[1m\u001b[34m#1\n",
      "Repeat \u001b[1m\u001b[34m#2\n",
      "Repeat \u001b[1m\u001b[34m#3\n"
     ]
    },
    {
     "name": "stderr",
     "output_type": "stream",
     "text": [
      "[I 2023-06-17 15:23:40,222] Trial 388 finished with value: 0.2677114271053675 and parameters: {'bootstrap_type': 'Bayesian', 'grow_policy': 'Depthwise', 'learning_rate': 0.23371278161810358, 'l2_leaf_reg': 1.395213441423031, 'depth': 4, 'random_strength': 65.04799879282797, 'min_data_in_leaf': 83, 'bagging_temperature': 26.573933261865285}. Best is trial 236 with value: 0.2204946060949904.\n"
     ]
    },
    {
     "name": "stdout",
     "output_type": "stream",
     "text": [
      "Repeat \u001b[1m\u001b[34m#1\n",
      "Repeat \u001b[1m\u001b[34m#2\n",
      "Repeat \u001b[1m\u001b[34m#3\n"
     ]
    },
    {
     "name": "stderr",
     "output_type": "stream",
     "text": [
      "[I 2023-06-17 15:23:49,549] Trial 389 finished with value: 0.2345878350282177 and parameters: {'bootstrap_type': 'Bayesian', 'grow_policy': 'Lossguide', 'learning_rate': 0.0550833755660436, 'l2_leaf_reg': 3.2389246785748247, 'depth': 4, 'random_strength': 77.44905937466015, 'min_data_in_leaf': 90, 'bagging_temperature': 36.22385776565164, 'max_leaves': 25}. Best is trial 236 with value: 0.2204946060949904.\n"
     ]
    },
    {
     "name": "stdout",
     "output_type": "stream",
     "text": [
      "Repeat \u001b[1m\u001b[34m#1\n",
      "Repeat \u001b[1m\u001b[34m#2\n",
      "Repeat \u001b[1m\u001b[34m#3\n"
     ]
    },
    {
     "name": "stderr",
     "output_type": "stream",
     "text": [
      "[I 2023-06-17 15:24:05,952] Trial 390 finished with value: 0.22492259323605582 and parameters: {'bootstrap_type': 'Bayesian', 'grow_policy': 'Depthwise', 'learning_rate': 0.039104723209952875, 'l2_leaf_reg': 22.874631610734507, 'depth': 5, 'random_strength': 67.06275284516376, 'min_data_in_leaf': 94, 'bagging_temperature': 23.547013646215955}. Best is trial 236 with value: 0.2204946060949904.\n"
     ]
    },
    {
     "name": "stdout",
     "output_type": "stream",
     "text": [
      "Repeat \u001b[1m\u001b[34m#1\n",
      "Repeat \u001b[1m\u001b[34m#2\n",
      "Repeat \u001b[1m\u001b[34m#3\n"
     ]
    },
    {
     "name": "stderr",
     "output_type": "stream",
     "text": [
      "[I 2023-06-17 15:24:23,026] Trial 391 finished with value: 0.2334755112765324 and parameters: {'bootstrap_type': 'Bayesian', 'grow_policy': 'Depthwise', 'learning_rate': 0.03247014588299907, 'l2_leaf_reg': 19.25464258535846, 'depth': 5, 'random_strength': 57.130621942943236, 'min_data_in_leaf': 93, 'bagging_temperature': 25.771286423326636}. Best is trial 236 with value: 0.2204946060949904.\n"
     ]
    },
    {
     "name": "stdout",
     "output_type": "stream",
     "text": [
      "Repeat \u001b[1m\u001b[34m#1\n",
      "Repeat \u001b[1m\u001b[34m#2\n",
      "Repeat \u001b[1m\u001b[34m#3\n"
     ]
    },
    {
     "name": "stderr",
     "output_type": "stream",
     "text": [
      "[I 2023-06-17 15:24:30,741] Trial 392 finished with value: 0.27104670659553526 and parameters: {'bootstrap_type': 'Bayesian', 'grow_policy': 'Depthwise', 'learning_rate': 0.03986462059396681, 'l2_leaf_reg': 2.321663613938866e-05, 'depth': 5, 'random_strength': 90.86725869354404, 'min_data_in_leaf': 88, 'bagging_temperature': 28.31216079941794}. Best is trial 236 with value: 0.2204946060949904.\n"
     ]
    },
    {
     "name": "stdout",
     "output_type": "stream",
     "text": [
      "Repeat \u001b[1m\u001b[34m#1\n",
      "Repeat \u001b[1m\u001b[34m#2\n",
      "Repeat \u001b[1m\u001b[34m#3\n"
     ]
    },
    {
     "name": "stderr",
     "output_type": "stream",
     "text": [
      "[I 2023-06-17 15:24:40,678] Trial 393 finished with value: 0.2410245035496161 and parameters: {'bootstrap_type': 'Bayesian', 'grow_policy': 'Depthwise', 'learning_rate': 0.10694608876703536, 'l2_leaf_reg': 27.278900081800614, 'depth': 5, 'random_strength': 67.97988459156838, 'min_data_in_leaf': 62, 'bagging_temperature': 24.634288094136497}. Best is trial 236 with value: 0.2204946060949904.\n"
     ]
    },
    {
     "name": "stdout",
     "output_type": "stream",
     "text": [
      "Repeat \u001b[1m\u001b[34m#1\n",
      "Repeat \u001b[1m\u001b[34m#2\n",
      "Repeat \u001b[1m\u001b[34m#3\n"
     ]
    },
    {
     "name": "stderr",
     "output_type": "stream",
     "text": [
      "[I 2023-06-17 15:25:17,444] Trial 394 finished with value: 0.5639965828137323 and parameters: {'bootstrap_type': 'MVS', 'grow_policy': 'Depthwise', 'learning_rate': 0.0004223677441160743, 'l2_leaf_reg': 0.1004839150112702, 'depth': 4, 'random_strength': 73.77361215349482, 'min_data_in_leaf': 91}. Best is trial 236 with value: 0.2204946060949904.\n"
     ]
    },
    {
     "name": "stdout",
     "output_type": "stream",
     "text": [
      "Repeat \u001b[1m\u001b[34m#1\n",
      "Repeat \u001b[1m\u001b[34m#2\n",
      "Repeat \u001b[1m\u001b[34m#3\n"
     ]
    },
    {
     "name": "stderr",
     "output_type": "stream",
     "text": [
      "[I 2023-06-17 15:25:41,353] Trial 395 finished with value: 0.2297957784837847 and parameters: {'bootstrap_type': 'Bayesian', 'grow_policy': 'Depthwise', 'learning_rate': 0.02476625331212388, 'l2_leaf_reg': 19.825062218012395, 'depth': 6, 'random_strength': 71.09331524727035, 'min_data_in_leaf': 94, 'bagging_temperature': 22.564643409216146}. Best is trial 236 with value: 0.2204946060949904.\n"
     ]
    },
    {
     "name": "stdout",
     "output_type": "stream",
     "text": [
      "Repeat \u001b[1m\u001b[34m#1\n",
      "Repeat \u001b[1m\u001b[34m#2\n",
      "Repeat \u001b[1m\u001b[34m#3\n"
     ]
    },
    {
     "name": "stderr",
     "output_type": "stream",
     "text": [
      "[I 2023-06-17 15:26:01,792] Trial 396 finished with value: 0.23606587108464203 and parameters: {'bootstrap_type': 'Bayesian', 'grow_policy': 'Lossguide', 'learning_rate': 0.02982441485025488, 'l2_leaf_reg': 39.883791949307266, 'depth': 4, 'random_strength': 46.760559541816605, 'min_data_in_leaf': 86, 'bagging_temperature': 23.0075081027557, 'max_leaves': 96}. Best is trial 236 with value: 0.2204946060949904.\n"
     ]
    },
    {
     "name": "stdout",
     "output_type": "stream",
     "text": [
      "Repeat \u001b[1m\u001b[34m#1\n",
      "Repeat \u001b[1m\u001b[34m#2\n",
      "Repeat \u001b[1m\u001b[34m#3\n"
     ]
    },
    {
     "name": "stderr",
     "output_type": "stream",
     "text": [
      "[I 2023-06-17 15:26:06,819] Trial 397 finished with value: 0.25436326261918923 and parameters: {'bootstrap_type': 'Bayesian', 'grow_policy': 'Depthwise', 'learning_rate': 0.12999744219892073, 'l2_leaf_reg': 0.019826014197150976, 'depth': 7, 'random_strength': 68.90757786746904, 'min_data_in_leaf': 91, 'bagging_temperature': 19.083207114158242}. Best is trial 236 with value: 0.2204946060949904.\n"
     ]
    },
    {
     "name": "stdout",
     "output_type": "stream",
     "text": [
      "Repeat \u001b[1m\u001b[34m#1\n",
      "Repeat \u001b[1m\u001b[34m#2\n",
      "Repeat \u001b[1m\u001b[34m#3\n"
     ]
    },
    {
     "name": "stderr",
     "output_type": "stream",
     "text": [
      "[I 2023-06-17 15:26:27,720] Trial 398 finished with value: 0.2255303357628863 and parameters: {'bootstrap_type': 'Bayesian', 'grow_policy': 'Depthwise', 'learning_rate': 0.02082182409138208, 'l2_leaf_reg': 8.838698671017529, 'depth': 4, 'random_strength': 88.49342592358478, 'min_data_in_leaf': 95, 'bagging_temperature': 31.363287573112387}. Best is trial 236 with value: 0.2204946060949904.\n"
     ]
    },
    {
     "name": "stdout",
     "output_type": "stream",
     "text": [
      "Repeat \u001b[1m\u001b[34m#1\n",
      "Repeat \u001b[1m\u001b[34m#2\n",
      "Repeat \u001b[1m\u001b[34m#3\n"
     ]
    },
    {
     "name": "stderr",
     "output_type": "stream",
     "text": [
      "[I 2023-06-17 15:26:52,861] Trial 399 finished with value: 0.23769131049215256 and parameters: {'bootstrap_type': 'Bayesian', 'grow_policy': 'Depthwise', 'learning_rate': 0.022429691937578655, 'l2_leaf_reg': 14.377803025803917, 'depth': 6, 'random_strength': 87.38151139298579, 'min_data_in_leaf': 75, 'bagging_temperature': 30.33816800989487}. Best is trial 236 with value: 0.2204946060949904.\n"
     ]
    },
    {
     "name": "stdout",
     "output_type": "stream",
     "text": [
      "Repeat \u001b[1m\u001b[34m#1\n",
      "Repeat \u001b[1m\u001b[34m#2\n",
      "Repeat \u001b[1m\u001b[34m#3\n"
     ]
    },
    {
     "name": "stderr",
     "output_type": "stream",
     "text": [
      "[I 2023-06-17 15:27:04,597] Trial 400 finished with value: 0.2604259432800136 and parameters: {'bootstrap_type': 'Bayesian', 'grow_policy': 'Depthwise', 'learning_rate': 0.019947000893779824, 'l2_leaf_reg': 0.0001642448001543071, 'depth': 7, 'random_strength': 43.8055521089085, 'min_data_in_leaf': 96, 'bagging_temperature': 32.24275817806404}. Best is trial 236 with value: 0.2204946060949904.\n"
     ]
    },
    {
     "name": "stdout",
     "output_type": "stream",
     "text": [
      "Repeat \u001b[1m\u001b[34m#1\n",
      "Repeat \u001b[1m\u001b[34m#2\n",
      "Repeat \u001b[1m\u001b[34m#3\n"
     ]
    },
    {
     "name": "stderr",
     "output_type": "stream",
     "text": [
      "[I 2023-06-17 15:27:27,442] Trial 401 finished with value: 0.23154441530892958 and parameters: {'bootstrap_type': 'Bayesian', 'grow_policy': 'Depthwise', 'learning_rate': 0.019309449102944177, 'l2_leaf_reg': 9.065605170795449, 'depth': 4, 'random_strength': 88.58669109438394, 'min_data_in_leaf': 66, 'bagging_temperature': 29.201664384505605}. Best is trial 236 with value: 0.2204946060949904.\n"
     ]
    },
    {
     "name": "stdout",
     "output_type": "stream",
     "text": [
      "Repeat \u001b[1m\u001b[34m#1\n",
      "Repeat \u001b[1m\u001b[34m#2\n",
      "Repeat \u001b[1m\u001b[34m#3\n"
     ]
    },
    {
     "name": "stderr",
     "output_type": "stream",
     "text": [
      "[I 2023-06-17 15:27:36,238] Trial 402 finished with value: 0.2417036716950891 and parameters: {'bootstrap_type': 'Bayesian', 'grow_policy': 'Depthwise', 'learning_rate': 0.07863569052944923, 'l2_leaf_reg': 9.540704450108473, 'depth': 5, 'random_strength': 90.81939456244763, 'min_data_in_leaf': 95, 'bagging_temperature': 33.429869363962865}. Best is trial 236 with value: 0.2204946060949904.\n"
     ]
    },
    {
     "name": "stdout",
     "output_type": "stream",
     "text": [
      "Repeat \u001b[1m\u001b[34m#1\n",
      "Repeat \u001b[1m\u001b[34m#2\n",
      "Repeat \u001b[1m\u001b[34m#3\n"
     ]
    },
    {
     "name": "stderr",
     "output_type": "stream",
     "text": [
      "[I 2023-06-17 15:27:49,342] Trial 403 finished with value: 0.23908125881815848 and parameters: {'bootstrap_type': 'Bayesian', 'grow_policy': 'Depthwise', 'learning_rate': 0.026873247769903557, 'l2_leaf_reg': 0.009381746084702245, 'depth': 4, 'random_strength': 93.54258854463586, 'min_data_in_leaf': 98, 'bagging_temperature': 27.073574724348457}. Best is trial 236 with value: 0.2204946060949904.\n"
     ]
    },
    {
     "name": "stdout",
     "output_type": "stream",
     "text": [
      "Repeat \u001b[1m\u001b[34m#1\n",
      "Repeat \u001b[1m\u001b[34m#2\n",
      "Repeat \u001b[1m\u001b[34m#3\n"
     ]
    },
    {
     "name": "stderr",
     "output_type": "stream",
     "text": [
      "[I 2023-06-17 15:28:00,422] Trial 404 finished with value: 0.2413112294467327 and parameters: {'bootstrap_type': 'Bayesian', 'grow_policy': 'Depthwise', 'learning_rate': 0.06351728041587133, 'l2_leaf_reg': 27.60318666493098, 'depth': 4, 'random_strength': 52.066906137117584, 'min_data_in_leaf': 93, 'bagging_temperature': 31.549390981811374}. Best is trial 236 with value: 0.2204946060949904.\n"
     ]
    },
    {
     "name": "stdout",
     "output_type": "stream",
     "text": [
      "Repeat \u001b[1m\u001b[34m#1\n",
      "Repeat \u001b[1m\u001b[34m#2\n",
      "Repeat \u001b[1m\u001b[34m#3\n"
     ]
    },
    {
     "name": "stderr",
     "output_type": "stream",
     "text": [
      "[I 2023-06-17 15:28:30,798] Trial 405 finished with value: 0.23711840722553937 and parameters: {'bootstrap_type': 'Bayesian', 'grow_policy': 'Lossguide', 'learning_rate': 0.016402115784564728, 'l2_leaf_reg': 60.68621697118221, 'depth': 4, 'random_strength': 72.74415138448238, 'min_data_in_leaf': 100, 'bagging_temperature': 34.9277410514701, 'max_leaves': 16}. Best is trial 236 with value: 0.2204946060949904.\n"
     ]
    },
    {
     "name": "stdout",
     "output_type": "stream",
     "text": [
      "Repeat \u001b[1m\u001b[34m#1\n",
      "Repeat \u001b[1m\u001b[34m#2\n",
      "Repeat \u001b[1m\u001b[34m#3\n"
     ]
    },
    {
     "name": "stderr",
     "output_type": "stream",
     "text": [
      "[I 2023-06-17 15:28:34,886] Trial 406 finished with value: 0.24035768765524626 and parameters: {'bootstrap_type': 'Bernoulli', 'grow_policy': 'Depthwise', 'learning_rate': 0.0941247874293885, 'l2_leaf_reg': 0.8838723576087246, 'depth': 4, 'random_strength': 87.65993017746787, 'min_data_in_leaf': 94, 'subsample': 0.8723988132846545}. Best is trial 236 with value: 0.2204946060949904.\n"
     ]
    },
    {
     "name": "stdout",
     "output_type": "stream",
     "text": [
      "Repeat \u001b[1m\u001b[34m#1\n",
      "Repeat \u001b[1m\u001b[34m#2\n",
      "Repeat \u001b[1m\u001b[34m#3\n"
     ]
    },
    {
     "name": "stderr",
     "output_type": "stream",
     "text": [
      "[I 2023-06-17 15:28:47,519] Trial 407 finished with value: 0.23893763732209883 and parameters: {'bootstrap_type': 'Bayesian', 'grow_policy': 'Depthwise', 'learning_rate': 0.02288843855397812, 'l2_leaf_reg': 1.5479657397657825e-06, 'depth': 4, 'random_strength': 67.05731823398881, 'min_data_in_leaf': 97, 'bagging_temperature': 30.050098690564862}. Best is trial 236 with value: 0.2204946060949904.\n"
     ]
    },
    {
     "name": "stdout",
     "output_type": "stream",
     "text": [
      "Repeat \u001b[1m\u001b[34m#1\n",
      "Repeat \u001b[1m\u001b[34m#2\n",
      "Repeat \u001b[1m\u001b[34m#3\n"
     ]
    },
    {
     "name": "stderr",
     "output_type": "stream",
     "text": [
      "[I 2023-06-17 15:28:57,412] Trial 408 finished with value: 0.31480849196769584 and parameters: {'bootstrap_type': 'Bayesian', 'grow_policy': 'SymmetricTree', 'learning_rate': 0.011249783355662605, 'l2_leaf_reg': 0.0008398784151148767, 'depth': 4, 'random_strength': 49.30804222611945, 'min_data_in_leaf': 95, 'bagging_temperature': 25.050644520878897, 'boosting_type': 'Plain'}. Best is trial 236 with value: 0.2204946060949904.\n"
     ]
    },
    {
     "name": "stdout",
     "output_type": "stream",
     "text": [
      "Repeat \u001b[1m\u001b[34m#1\n",
      "Repeat \u001b[1m\u001b[34m#2\n",
      "Repeat \u001b[1m\u001b[34m#3\n"
     ]
    },
    {
     "name": "stderr",
     "output_type": "stream",
     "text": [
      "[I 2023-06-17 15:29:14,612] Trial 409 finished with value: 0.2547041194279032 and parameters: {'bootstrap_type': 'Bayesian', 'grow_policy': 'Depthwise', 'learning_rate': 0.014062632297740185, 'l2_leaf_reg': 0.0026285038977792888, 'depth': 4, 'random_strength': 84.5063510273864, 'min_data_in_leaf': 93, 'bagging_temperature': 33.570123514808664}. Best is trial 236 with value: 0.2204946060949904.\n"
     ]
    },
    {
     "name": "stdout",
     "output_type": "stream",
     "text": [
      "Repeat \u001b[1m\u001b[34m#1\n",
      "Repeat \u001b[1m\u001b[34m#2\n",
      "Repeat \u001b[1m\u001b[34m#3\n"
     ]
    },
    {
     "name": "stderr",
     "output_type": "stream",
     "text": [
      "[I 2023-06-17 15:29:28,366] Trial 410 finished with value: 0.23206710767698024 and parameters: {'bootstrap_type': 'Bayesian', 'grow_policy': 'Depthwise', 'learning_rate': 0.03667131033672494, 'l2_leaf_reg': 13.118480270975173, 'depth': 4, 'random_strength': 69.46168613092085, 'min_data_in_leaf': 96, 'bagging_temperature': 20.68261428682692}. Best is trial 236 with value: 0.2204946060949904.\n"
     ]
    },
    {
     "name": "stdout",
     "output_type": "stream",
     "text": [
      "Repeat \u001b[1m\u001b[34m#1\n",
      "Repeat \u001b[1m\u001b[34m#2\n",
      "Repeat \u001b[1m\u001b[34m#3\n"
     ]
    },
    {
     "name": "stderr",
     "output_type": "stream",
     "text": [
      "[I 2023-06-17 15:29:43,008] Trial 411 finished with value: 0.2357453612912748 and parameters: {'bootstrap_type': 'Bayesian', 'grow_policy': 'Depthwise', 'learning_rate': 0.029956963303912093, 'l2_leaf_reg': 1.7395596970376772, 'depth': 4, 'random_strength': 75.58113053919689, 'min_data_in_leaf': 92, 'bagging_temperature': 27.57677957166491}. Best is trial 236 with value: 0.2204946060949904.\n"
     ]
    },
    {
     "name": "stdout",
     "output_type": "stream",
     "text": [
      "Repeat \u001b[1m\u001b[34m#1\n",
      "Repeat \u001b[1m\u001b[34m#2\n",
      "Repeat \u001b[1m\u001b[34m#3\n"
     ]
    },
    {
     "name": "stderr",
     "output_type": "stream",
     "text": [
      "[I 2023-06-17 15:30:17,091] Trial 412 finished with value: 0.27225007569542087 and parameters: {'bootstrap_type': 'Bayesian', 'grow_policy': 'Depthwise', 'learning_rate': 0.004343253177530868, 'l2_leaf_reg': 0.004432494971563497, 'depth': 4, 'random_strength': 71.30429362040987, 'min_data_in_leaf': 98, 'bagging_temperature': 37.137543670253024}. Best is trial 236 with value: 0.2204946060949904.\n"
     ]
    },
    {
     "name": "stdout",
     "output_type": "stream",
     "text": [
      "Repeat \u001b[1m\u001b[34m#1\n",
      "Repeat \u001b[1m\u001b[34m#2\n",
      "Repeat \u001b[1m\u001b[34m#3\n"
     ]
    },
    {
     "name": "stderr",
     "output_type": "stream",
     "text": [
      "[I 2023-06-17 15:30:29,188] Trial 413 finished with value: 0.2290552538810069 and parameters: {'bootstrap_type': 'Bayesian', 'grow_policy': 'Depthwise', 'learning_rate': 0.04339715524350688, 'l2_leaf_reg': 6.199686892530186, 'depth': 4, 'random_strength': 78.61715590531173, 'min_data_in_leaf': 95, 'bagging_temperature': 32.06390830715564}. Best is trial 236 with value: 0.2204946060949904.\n"
     ]
    },
    {
     "name": "stdout",
     "output_type": "stream",
     "text": [
      "Repeat \u001b[1m\u001b[34m#1\n",
      "Repeat \u001b[1m\u001b[34m#2\n",
      "Repeat \u001b[1m\u001b[34m#3\n"
     ]
    },
    {
     "name": "stderr",
     "output_type": "stream",
     "text": [
      "[I 2023-06-17 15:30:44,297] Trial 414 finished with value: 0.22946365255313586 and parameters: {'bootstrap_type': 'Bayesian', 'grow_policy': 'Depthwise', 'learning_rate': 0.026828402327413674, 'l2_leaf_reg': 0.3659725990828961, 'depth': 4, 'random_strength': 80.91212292633205, 'min_data_in_leaf': 93, 'bagging_temperature': 35.072565326321225}. Best is trial 236 with value: 0.2204946060949904.\n"
     ]
    },
    {
     "name": "stdout",
     "output_type": "stream",
     "text": [
      "Repeat \u001b[1m\u001b[34m#1\n",
      "Repeat \u001b[1m\u001b[34m#2\n",
      "Repeat \u001b[1m\u001b[34m#3\n"
     ]
    },
    {
     "name": "stderr",
     "output_type": "stream",
     "text": [
      "[I 2023-06-17 15:31:00,359] Trial 415 finished with value: 0.36125225591547067 and parameters: {'bootstrap_type': 'Bayesian', 'grow_policy': 'Lossguide', 'learning_rate': 0.018263515383325282, 'l2_leaf_reg': 19.97873164160055, 'depth': 4, 'random_strength': 63.554258797424154, 'min_data_in_leaf': 70, 'bagging_temperature': 52.93287308508419, 'max_leaves': 45}. Best is trial 236 with value: 0.2204946060949904.\n"
     ]
    },
    {
     "name": "stdout",
     "output_type": "stream",
     "text": [
      "Repeat \u001b[1m\u001b[34m#1\n",
      "Repeat \u001b[1m\u001b[34m#2\n",
      "Repeat \u001b[1m\u001b[34m#3\n"
     ]
    },
    {
     "name": "stderr",
     "output_type": "stream",
     "text": [
      "[I 2023-06-17 15:31:04,903] Trial 416 finished with value: 0.2526539131405629 and parameters: {'bootstrap_type': 'MVS', 'grow_policy': 'Depthwise', 'learning_rate': 0.07240204945176869, 'l2_leaf_reg': 2.571807274397613, 'depth': 4, 'random_strength': 66.39843718243087, 'min_data_in_leaf': 99}. Best is trial 236 with value: 0.2204946060949904.\n"
     ]
    },
    {
     "name": "stdout",
     "output_type": "stream",
     "text": [
      "Repeat \u001b[1m\u001b[34m#1\n",
      "Repeat \u001b[1m\u001b[34m#2\n",
      "Repeat \u001b[1m\u001b[34m#3\n"
     ]
    },
    {
     "name": "stderr",
     "output_type": "stream",
     "text": [
      "[I 2023-06-17 15:31:08,108] Trial 417 finished with value: 0.27713272303132425 and parameters: {'bootstrap_type': 'Bayesian', 'grow_policy': 'Depthwise', 'learning_rate': 0.16957623146943895, 'l2_leaf_reg': 0.0025736387471967156, 'depth': 4, 'random_strength': 45.00186867221221, 'min_data_in_leaf': 91, 'bagging_temperature': 29.804008178848346}. Best is trial 236 with value: 0.2204946060949904.\n"
     ]
    },
    {
     "name": "stdout",
     "output_type": "stream",
     "text": [
      "Repeat \u001b[1m\u001b[34m#1\n",
      "Repeat \u001b[1m\u001b[34m#2\n",
      "Repeat \u001b[1m\u001b[34m#3\n"
     ]
    },
    {
     "name": "stderr",
     "output_type": "stream",
     "text": [
      "[I 2023-06-17 15:31:23,900] Trial 418 finished with value: 0.23768273202395895 and parameters: {'bootstrap_type': 'Bayesian', 'grow_policy': 'Depthwise', 'learning_rate': 0.03404615942614077, 'l2_leaf_reg': 37.87312939698999, 'depth': 4, 'random_strength': 94.68518794436079, 'min_data_in_leaf': 96, 'bagging_temperature': 7.716258587928557}. Best is trial 236 with value: 0.2204946060949904.\n"
     ]
    },
    {
     "name": "stdout",
     "output_type": "stream",
     "text": [
      "Repeat \u001b[1m\u001b[34m#1\n",
      "Repeat \u001b[1m\u001b[34m#2\n",
      "Repeat \u001b[1m\u001b[34m#3\n"
     ]
    },
    {
     "name": "stderr",
     "output_type": "stream",
     "text": [
      "[I 2023-06-17 15:31:29,516] Trial 419 finished with value: 0.24070205157487845 and parameters: {'bootstrap_type': 'Bayesian', 'grow_policy': 'Depthwise', 'learning_rate': 0.11041395303437665, 'l2_leaf_reg': 0.5824467816369084, 'depth': 4, 'random_strength': 97.55860855979434, 'min_data_in_leaf': 94, 'bagging_temperature': 23.762040709423207}. Best is trial 236 with value: 0.2204946060949904.\n"
     ]
    },
    {
     "name": "stdout",
     "output_type": "stream",
     "text": [
      "Repeat \u001b[1m\u001b[34m#1\n",
      "Repeat \u001b[1m\u001b[34m#2\n",
      "Repeat \u001b[1m\u001b[34m#3\n"
     ]
    },
    {
     "name": "stderr",
     "output_type": "stream",
     "text": [
      "[I 2023-06-17 15:31:49,850] Trial 420 finished with value: 0.2302939303337963 and parameters: {'bootstrap_type': 'Bayesian', 'grow_policy': 'Depthwise', 'learning_rate': 0.02271024458307128, 'l2_leaf_reg': 7.252269379117339, 'depth': 5, 'random_strength': 70.17401243977311, 'min_data_in_leaf': 97, 'bagging_temperature': 31.9553724094022}. Best is trial 236 with value: 0.2204946060949904.\n"
     ]
    },
    {
     "name": "stdout",
     "output_type": "stream",
     "text": [
      "Repeat \u001b[1m\u001b[34m#1\n",
      "Repeat \u001b[1m\u001b[34m#2\n",
      "Repeat \u001b[1m\u001b[34m#3\n"
     ]
    },
    {
     "name": "stderr",
     "output_type": "stream",
     "text": [
      "[I 2023-06-17 15:31:59,318] Trial 421 finished with value: 0.24044266752885 and parameters: {'bootstrap_type': 'Bayesian', 'grow_policy': 'Depthwise', 'learning_rate': 0.0474443009519496, 'l2_leaf_reg': 0.0005348426066127676, 'depth': 4, 'random_strength': 91.66556971322592, 'min_data_in_leaf': 90, 'bagging_temperature': 38.00843346947394}. Best is trial 236 with value: 0.2204946060949904.\n"
     ]
    },
    {
     "name": "stdout",
     "output_type": "stream",
     "text": [
      "Repeat \u001b[1m\u001b[34m#1\n",
      "Repeat \u001b[1m\u001b[34m#2\n",
      "Repeat \u001b[1m\u001b[34m#3\n"
     ]
    },
    {
     "name": "stderr",
     "output_type": "stream",
     "text": [
      "[I 2023-06-17 15:32:24,430] Trial 422 finished with value: 0.2557593586470596 and parameters: {'bootstrap_type': 'Bayesian', 'grow_policy': 'Depthwise', 'learning_rate': 0.007753664332554189, 'l2_leaf_reg': 0.000302817042774512, 'depth': 4, 'random_strength': 39.5817436426786, 'min_data_in_leaf': 80, 'bagging_temperature': 28.43069755611679}. Best is trial 236 with value: 0.2204946060949904.\n"
     ]
    },
    {
     "name": "stdout",
     "output_type": "stream",
     "text": [
      "Repeat \u001b[1m\u001b[34m#1\n",
      "Repeat \u001b[1m\u001b[34m#2\n",
      "Repeat \u001b[1m\u001b[34m#3\n"
     ]
    },
    {
     "name": "stderr",
     "output_type": "stream",
     "text": [
      "[I 2023-06-17 15:32:36,738] Trial 423 finished with value: 0.24018207555456694 and parameters: {'bootstrap_type': 'Bayesian', 'grow_policy': 'Lossguide', 'learning_rate': 0.029322001066439996, 'l2_leaf_reg': 0.15150649186315338, 'depth': 4, 'random_strength': 42.97205064590919, 'min_data_in_leaf': 92, 'bagging_temperature': 35.18639032819093, 'max_leaves': 76}. Best is trial 236 with value: 0.2204946060949904.\n"
     ]
    },
    {
     "name": "stdout",
     "output_type": "stream",
     "text": [
      "Repeat \u001b[1m\u001b[34m#1\n",
      "Repeat \u001b[1m\u001b[34m#2\n",
      "Repeat \u001b[1m\u001b[34m#3\n"
     ]
    },
    {
     "name": "stderr",
     "output_type": "stream",
     "text": [
      "[I 2023-06-17 15:32:42,459] Trial 424 finished with value: 0.26509727768524244 and parameters: {'bootstrap_type': 'Bayesian', 'grow_policy': 'Depthwise', 'learning_rate': 0.09079271493209444, 'l2_leaf_reg': 0.025270398904369173, 'depth': 4, 'random_strength': 82.90887918762635, 'min_data_in_leaf': 100, 'bagging_temperature': 49.13332871577175}. Best is trial 236 with value: 0.2204946060949904.\n"
     ]
    },
    {
     "name": "stdout",
     "output_type": "stream",
     "text": [
      "Repeat \u001b[1m\u001b[34m#1\n",
      "Repeat \u001b[1m\u001b[34m#2\n",
      "Repeat \u001b[1m\u001b[34m#3\n"
     ]
    },
    {
     "name": "stderr",
     "output_type": "stream",
     "text": [
      "[I 2023-06-17 15:32:53,783] Trial 425 finished with value: 0.23563765091920855 and parameters: {'bootstrap_type': 'Bayesian', 'grow_policy': 'Depthwise', 'learning_rate': 0.038916998363733635, 'l2_leaf_reg': 1.1600228486458515, 'depth': 4, 'random_strength': 29.591758196056823, 'min_data_in_leaf': 95, 'bagging_temperature': 33.37220642193566}. Best is trial 236 with value: 0.2204946060949904.\n"
     ]
    },
    {
     "name": "stdout",
     "output_type": "stream",
     "text": [
      "Repeat \u001b[1m\u001b[34m#1\n",
      "Repeat \u001b[1m\u001b[34m#2\n",
      "Repeat \u001b[1m\u001b[34m#3\n"
     ]
    },
    {
     "name": "stderr",
     "output_type": "stream",
     "text": [
      "[I 2023-06-17 15:32:54,596] Trial 426 finished with value: 0.6934541515303088 and parameters: {'bootstrap_type': 'Bayesian', 'grow_policy': 'Depthwise', 'learning_rate': 0.060035944485037934, 'l2_leaf_reg': 6.122235418202272e-05, 'depth': 4, 'random_strength': 37.46875115634201, 'min_data_in_leaf': 93, 'bagging_temperature': 64.26075249382126}. Best is trial 236 with value: 0.2204946060949904.\n"
     ]
    },
    {
     "name": "stdout",
     "output_type": "stream",
     "text": [
      "Repeat \u001b[1m\u001b[34m#1\n",
      "Repeat \u001b[1m\u001b[34m#2\n",
      "Repeat \u001b[1m\u001b[34m#3\n"
     ]
    },
    {
     "name": "stderr",
     "output_type": "stream",
     "text": [
      "[I 2023-06-17 15:32:55,425] Trial 427 finished with value: 0.6931596743721578 and parameters: {'bootstrap_type': 'Bayesian', 'grow_policy': 'Depthwise', 'learning_rate': 0.0024932577558816308, 'l2_leaf_reg': 3.8520402936234186, 'depth': 4, 'random_strength': 32.73395916602093, 'min_data_in_leaf': 98, 'bagging_temperature': 84.926455780846}. Best is trial 236 with value: 0.2204946060949904.\n"
     ]
    },
    {
     "name": "stdout",
     "output_type": "stream",
     "text": [
      "Repeat \u001b[1m\u001b[34m#1\n",
      "Repeat \u001b[1m\u001b[34m#2\n",
      "Repeat \u001b[1m\u001b[34m#3\n"
     ]
    },
    {
     "name": "stderr",
     "output_type": "stream",
     "text": [
      "[I 2023-06-17 15:45:17,852] Trial 428 finished with value: 0.31927605669376924 and parameters: {'bootstrap_type': 'Bayesian', 'grow_policy': 'SymmetricTree', 'learning_rate': 0.020649801785285762, 'l2_leaf_reg': 1.8152599419089925, 'depth': 8, 'random_strength': 89.5773163458481, 'min_data_in_leaf': 95, 'bagging_temperature': 30.948651518441256, 'boosting_type': 'Ordered'}. Best is trial 236 with value: 0.2204946060949904.\n"
     ]
    },
    {
     "name": "stdout",
     "output_type": "stream",
     "text": [
      "Repeat \u001b[1m\u001b[34m#1\n",
      "Repeat \u001b[1m\u001b[34m#2\n",
      "Repeat \u001b[1m\u001b[34m#3\n"
     ]
    },
    {
     "name": "stderr",
     "output_type": "stream",
     "text": [
      "[I 2023-06-17 15:45:34,053] Trial 429 finished with value: 0.24151067722408662 and parameters: {'bootstrap_type': 'Bernoulli', 'grow_policy': 'Depthwise', 'learning_rate': 0.02600357179572394, 'l2_leaf_reg': 98.75317263397045, 'depth': 4, 'random_strength': 73.8008174755304, 'min_data_in_leaf': 90, 'subsample': 0.6603259116542771}. Best is trial 236 with value: 0.2204946060949904.\n"
     ]
    },
    {
     "name": "stdout",
     "output_type": "stream",
     "text": [
      "Repeat \u001b[1m\u001b[34m#1\n",
      "Repeat \u001b[1m\u001b[34m#2\n",
      "Repeat \u001b[1m\u001b[34m#3\n"
     ]
    },
    {
     "name": "stderr",
     "output_type": "stream",
     "text": [
      "[I 2023-06-17 15:45:51,002] Trial 430 finished with value: 0.2277180411718324 and parameters: {'bootstrap_type': 'Bayesian', 'grow_policy': 'Depthwise', 'learning_rate': 0.03218733636428576, 'l2_leaf_reg': 11.948575352265669, 'depth': 4, 'random_strength': 58.232527628736094, 'min_data_in_leaf': 97, 'bagging_temperature': 36.25409321684087}. Best is trial 236 with value: 0.2204946060949904.\n"
     ]
    },
    {
     "name": "stdout",
     "output_type": "stream",
     "text": [
      "Repeat \u001b[1m\u001b[34m#1\n",
      "Repeat \u001b[1m\u001b[34m#2\n",
      "Repeat \u001b[1m\u001b[34m#3\n"
     ]
    },
    {
     "name": "stderr",
     "output_type": "stream",
     "text": [
      "[I 2023-06-17 15:46:01,512] Trial 431 finished with value: 0.2296438163641035 and parameters: {'bootstrap_type': 'Bayesian', 'grow_policy': 'Depthwise', 'learning_rate': 0.08061533788676573, 'l2_leaf_reg': 22.08030531617591, 'depth': 4, 'random_strength': 67.68838444335866, 'min_data_in_leaf': 92, 'bagging_temperature': 39.26849754321472}. Best is trial 236 with value: 0.2204946060949904.\n"
     ]
    },
    {
     "name": "stdout",
     "output_type": "stream",
     "text": [
      "Repeat \u001b[1m\u001b[34m#1\n",
      "Repeat \u001b[1m\u001b[34m#2\n",
      "Repeat \u001b[1m\u001b[34m#3\n"
     ]
    },
    {
     "name": "stderr",
     "output_type": "stream",
     "text": [
      "[I 2023-06-17 15:46:10,766] Trial 432 finished with value: 0.2453312217131914 and parameters: {'bootstrap_type': 'Bayesian', 'grow_policy': 'Lossguide', 'learning_rate': 0.038166592427260296, 'l2_leaf_reg': 0.011243234712843869, 'depth': 4, 'random_strength': 64.34093588471767, 'min_data_in_leaf': 94, 'bagging_temperature': 26.694527127344145, 'max_leaves': 68}. Best is trial 236 with value: 0.2204946060949904.\n"
     ]
    },
    {
     "name": "stdout",
     "output_type": "stream",
     "text": [
      "Repeat \u001b[1m\u001b[34m#1\n",
      "Repeat \u001b[1m\u001b[34m#2\n",
      "Repeat \u001b[1m\u001b[34m#3\n"
     ]
    },
    {
     "name": "stderr",
     "output_type": "stream",
     "text": [
      "[I 2023-06-17 15:46:15,452] Trial 433 finished with value: 0.24721002566006914 and parameters: {'bootstrap_type': 'Bayesian', 'grow_policy': 'Depthwise', 'learning_rate': 0.1275016556657592, 'l2_leaf_reg': 5.940736351055751, 'depth': 4, 'random_strength': 86.64668462103674, 'min_data_in_leaf': 32, 'bagging_temperature': 0.6594515024207794}. Best is trial 236 with value: 0.2204946060949904.\n"
     ]
    },
    {
     "name": "stdout",
     "output_type": "stream",
     "text": [
      "Repeat \u001b[1m\u001b[34m#1\n",
      "Repeat \u001b[1m\u001b[34m#2\n",
      "Repeat \u001b[1m\u001b[34m#3\n"
     ]
    },
    {
     "name": "stderr",
     "output_type": "stream",
     "text": [
      "[I 2023-06-17 15:46:22,413] Trial 434 finished with value: 0.25731801976333585 and parameters: {'bootstrap_type': 'Bayesian', 'grow_policy': 'Depthwise', 'learning_rate': 0.04714825795966614, 'l2_leaf_reg': 0.0014286608528041153, 'depth': 4, 'random_strength': 66.50322904312351, 'min_data_in_leaf': 96, 'bagging_temperature': 16.282755339077916}. Best is trial 236 with value: 0.2204946060949904.\n"
     ]
    },
    {
     "name": "stdout",
     "output_type": "stream",
     "text": [
      "Repeat \u001b[1m\u001b[34m#1\n",
      "Repeat \u001b[1m\u001b[34m#2\n",
      "Repeat \u001b[1m\u001b[34m#3\n"
     ]
    },
    {
     "name": "stderr",
     "output_type": "stream",
     "text": [
      "[I 2023-06-17 15:46:36,187] Trial 435 finished with value: 0.2612353017241777 and parameters: {'bootstrap_type': 'Bayesian', 'grow_policy': 'Depthwise', 'learning_rate': 0.02418734062141028, 'l2_leaf_reg': 0.004506938192785299, 'depth': 9, 'random_strength': 60.012843343373625, 'min_data_in_leaf': 90, 'bagging_temperature': 33.61498526665367}. Best is trial 236 with value: 0.2204946060949904.\n"
     ]
    },
    {
     "name": "stdout",
     "output_type": "stream",
     "text": [
      "Repeat \u001b[1m\u001b[34m#1\n",
      "Repeat \u001b[1m\u001b[34m#2\n",
      "Repeat \u001b[1m\u001b[34m#3\n"
     ]
    },
    {
     "name": "stderr",
     "output_type": "stream",
     "text": [
      "[I 2023-06-17 15:46:37,511] Trial 436 finished with value: 0.6842492806842747 and parameters: {'bootstrap_type': 'Bayesian', 'grow_policy': 'Depthwise', 'learning_rate': 0.016825190610923003, 'l2_leaf_reg': 1.2920650174466782e-08, 'depth': 4, 'random_strength': 55.08002645066173, 'min_data_in_leaf': 88, 'bagging_temperature': 56.53038478406202}. Best is trial 236 with value: 0.2204946060949904.\n"
     ]
    },
    {
     "name": "stdout",
     "output_type": "stream",
     "text": [
      "Repeat \u001b[1m\u001b[34m#1\n",
      "Repeat \u001b[1m\u001b[34m#2\n",
      "Repeat \u001b[1m\u001b[34m#3\n"
     ]
    },
    {
     "name": "stderr",
     "output_type": "stream",
     "text": [
      "[I 2023-06-17 15:47:11,222] Trial 437 finished with value: 0.25056233081677154 and parameters: {'bootstrap_type': 'Bayesian', 'grow_policy': 'Depthwise', 'learning_rate': 0.005819166737096188, 'l2_leaf_reg': 0.2617458589359163, 'depth': 4, 'random_strength': 68.96069359096674, 'min_data_in_leaf': 93, 'bagging_temperature': 41.091179372404795}. Best is trial 236 with value: 0.2204946060949904.\n"
     ]
    },
    {
     "name": "stdout",
     "output_type": "stream",
     "text": [
      "Repeat \u001b[1m\u001b[34m#1\n",
      "Repeat \u001b[1m\u001b[34m#2\n",
      "Repeat \u001b[1m\u001b[34m#3\n"
     ]
    },
    {
     "name": "stderr",
     "output_type": "stream",
     "text": [
      "[I 2023-06-17 15:47:14,342] Trial 438 finished with value: 0.2417205860754624 and parameters: {'bootstrap_type': 'MVS', 'grow_policy': 'Depthwise', 'learning_rate': 0.10657629147939685, 'l2_leaf_reg': 0.9159850644563823, 'depth': 4, 'random_strength': 5.817224578402026, 'min_data_in_leaf': 98}. Best is trial 236 with value: 0.2204946060949904.\n"
     ]
    },
    {
     "name": "stdout",
     "output_type": "stream",
     "text": [
      "Repeat \u001b[1m\u001b[34m#1\n",
      "Repeat \u001b[1m\u001b[34m#2\n",
      "Repeat \u001b[1m\u001b[34m#3\n"
     ]
    },
    {
     "name": "stderr",
     "output_type": "stream",
     "text": [
      "[I 2023-06-17 15:47:54,203] Trial 439 finished with value: 0.27643191558662067 and parameters: {'bootstrap_type': 'Bayesian', 'grow_policy': 'Depthwise', 'learning_rate': 0.004817002097130748, 'l2_leaf_reg': 52.143269801071554, 'depth': 4, 'random_strength': 50.91963321872815, 'min_data_in_leaf': 95, 'bagging_temperature': 29.310222887838297}. Best is trial 236 with value: 0.2204946060949904.\n"
     ]
    },
    {
     "name": "stdout",
     "output_type": "stream",
     "text": [
      "Repeat \u001b[1m\u001b[34m#1\n",
      "Repeat \u001b[1m\u001b[34m#2\n",
      "Repeat \u001b[1m\u001b[34m#3\n"
     ]
    },
    {
     "name": "stderr",
     "output_type": "stream",
     "text": [
      "[I 2023-06-17 15:48:22,265] Trial 440 finished with value: 0.2334861744331829 and parameters: {'bootstrap_type': 'Bayesian', 'grow_policy': 'Depthwise', 'learning_rate': 0.011806948097220714, 'l2_leaf_reg': 2.9680186604350145, 'depth': 4, 'random_strength': 35.255581743673076, 'min_data_in_leaf': 91, 'bagging_temperature': 37.204092045676205}. Best is trial 236 with value: 0.2204946060949904.\n"
     ]
    },
    {
     "name": "stdout",
     "output_type": "stream",
     "text": [
      "Repeat \u001b[1m\u001b[34m#1\n",
      "Repeat \u001b[1m\u001b[34m#2\n",
      "Repeat \u001b[1m\u001b[34m#3\n"
     ]
    },
    {
     "name": "stderr",
     "output_type": "stream",
     "text": [
      "[I 2023-06-17 15:48:44,724] Trial 441 finished with value: 0.25664928072707527 and parameters: {'bootstrap_type': 'Bayesian', 'grow_policy': 'Depthwise', 'learning_rate': 0.009038429732943519, 'l2_leaf_reg': 4.282965771148722e-06, 'depth': 4, 'random_strength': 22.052766964561208, 'min_data_in_leaf': 100, 'bagging_temperature': 31.388034329960345}. Best is trial 236 with value: 0.2204946060949904.\n"
     ]
    },
    {
     "name": "stdout",
     "output_type": "stream",
     "text": [
      "Repeat \u001b[1m\u001b[34m#1\n",
      "Repeat \u001b[1m\u001b[34m#2\n",
      "Repeat \u001b[1m\u001b[34m#3\n"
     ]
    },
    {
     "name": "stderr",
     "output_type": "stream",
     "text": [
      "[I 2023-06-17 15:48:45,519] Trial 442 finished with value: 0.6935010975545257 and parameters: {'bootstrap_type': 'Bayesian', 'grow_policy': 'Lossguide', 'learning_rate': 0.06911947869865985, 'l2_leaf_reg': 10.013291030972503, 'depth': 5, 'random_strength': 71.94462119571732, 'min_data_in_leaf': 94, 'bagging_temperature': 90.64285810403791, 'max_leaves': 86}. Best is trial 236 with value: 0.2204946060949904.\n"
     ]
    },
    {
     "name": "stdout",
     "output_type": "stream",
     "text": [
      "Repeat \u001b[1m\u001b[34m#1\n",
      "Repeat \u001b[1m\u001b[34m#2\n",
      "Repeat \u001b[1m\u001b[34m#3\n"
     ]
    },
    {
     "name": "stderr",
     "output_type": "stream",
     "text": [
      "[I 2023-06-17 15:49:18,896] Trial 443 finished with value: 0.23937298298012788 and parameters: {'bootstrap_type': 'Bayesian', 'grow_policy': 'Depthwise', 'learning_rate': 0.0073174699378223, 'l2_leaf_reg': 1.5065260723806895, 'depth': 4, 'random_strength': 76.77532740433361, 'min_data_in_leaf': 97, 'bagging_temperature': 34.66074332225696}. Best is trial 236 with value: 0.2204946060949904.\n"
     ]
    },
    {
     "name": "stdout",
     "output_type": "stream",
     "text": [
      "Repeat \u001b[1m\u001b[34m#1\n",
      "Repeat \u001b[1m\u001b[34m#2\n",
      "Repeat \u001b[1m\u001b[34m#3\n"
     ]
    },
    {
     "name": "stderr",
     "output_type": "stream",
     "text": [
      "[I 2023-06-17 15:49:33,466] Trial 444 finished with value: 0.2515006120690218 and parameters: {'bootstrap_type': 'Bayesian', 'grow_policy': 'Depthwise', 'learning_rate': 0.054795885906252575, 'l2_leaf_reg': 4.163986622155645, 'depth': 10, 'random_strength': 61.923233787763564, 'min_data_in_leaf': 54, 'bagging_temperature': 28.32093251729667}. Best is trial 236 with value: 0.2204946060949904.\n"
     ]
    },
    {
     "name": "stdout",
     "output_type": "stream",
     "text": [
      "Repeat \u001b[1m\u001b[34m#1\n",
      "Repeat \u001b[1m\u001b[34m#2\n",
      "Repeat \u001b[1m\u001b[34m#3\n"
     ]
    },
    {
     "name": "stderr",
     "output_type": "stream",
     "text": [
      "[I 2023-06-17 15:49:50,297] Trial 445 finished with value: 0.23178255149085678 and parameters: {'bootstrap_type': 'Bayesian', 'grow_policy': 'Depthwise', 'learning_rate': 0.031130974463193347, 'l2_leaf_reg': 16.36288526760702, 'depth': 4, 'random_strength': 63.682568391035, 'min_data_in_leaf': 92, 'bagging_temperature': 44.93043196693273}. Best is trial 236 with value: 0.2204946060949904.\n"
     ]
    },
    {
     "name": "stdout",
     "output_type": "stream",
     "text": [
      "Repeat \u001b[1m\u001b[34m#1\n",
      "Repeat \u001b[1m\u001b[34m#2\n",
      "Repeat \u001b[1m\u001b[34m#3\n"
     ]
    },
    {
     "name": "stderr",
     "output_type": "stream",
     "text": [
      "[I 2023-06-17 15:49:54,189] Trial 446 finished with value: 0.2554977161231884 and parameters: {'bootstrap_type': 'Bayesian', 'grow_policy': 'Depthwise', 'learning_rate': 0.1984893007196555, 'l2_leaf_reg': 0.007679691484345636, 'depth': 4, 'random_strength': 70.44239505904542, 'min_data_in_leaf': 96, 'bagging_temperature': 24.992369652654137}. Best is trial 236 with value: 0.2204946060949904.\n"
     ]
    },
    {
     "name": "stdout",
     "output_type": "stream",
     "text": [
      "Repeat \u001b[1m\u001b[34m#1\n",
      "Repeat \u001b[1m\u001b[34m#2\n",
      "Repeat \u001b[1m\u001b[34m#3\n"
     ]
    },
    {
     "name": "stderr",
     "output_type": "stream",
     "text": [
      "[I 2023-06-17 15:49:58,376] Trial 447 finished with value: 0.25696353215996354 and parameters: {'bootstrap_type': 'Bayesian', 'grow_policy': 'Depthwise', 'learning_rate': 0.28220498489946344, 'l2_leaf_reg': 6.570143677316609, 'depth': 4, 'random_strength': 66.71217172621843, 'min_data_in_leaf': 89, 'bagging_temperature': 32.90459329418111}. Best is trial 236 with value: 0.2204946060949904.\n"
     ]
    },
    {
     "name": "stdout",
     "output_type": "stream",
     "text": [
      "Repeat \u001b[1m\u001b[34m#1\n",
      "Repeat \u001b[1m\u001b[34m#2\n",
      "Repeat \u001b[1m\u001b[34m#3\n"
     ]
    },
    {
     "name": "stderr",
     "output_type": "stream",
     "text": [
      "[I 2023-06-17 15:50:19,268] Trial 448 finished with value: 0.23207257533407546 and parameters: {'bootstrap_type': 'Bayesian', 'grow_policy': 'Depthwise', 'learning_rate': 0.026979321656297107, 'l2_leaf_reg': 29.575746166673827, 'depth': 4, 'random_strength': 73.80757587546466, 'min_data_in_leaf': 93, 'bagging_temperature': 38.473394326171594}. Best is trial 236 with value: 0.2204946060949904.\n"
     ]
    },
    {
     "name": "stdout",
     "output_type": "stream",
     "text": [
      "Repeat \u001b[1m\u001b[34m#1\n",
      "Repeat \u001b[1m\u001b[34m#2\n",
      "Repeat \u001b[1m\u001b[34m#3\n"
     ]
    },
    {
     "name": "stderr",
     "output_type": "stream",
     "text": [
      "[I 2023-06-17 15:50:31,850] Trial 449 finished with value: 0.23556122283824554 and parameters: {'bootstrap_type': 'Bayesian', 'grow_policy': 'Lossguide', 'learning_rate': 0.036337141405181614, 'l2_leaf_reg': 0.4840185117487501, 'depth': 4, 'random_strength': 60.63275637506462, 'min_data_in_leaf': 85, 'bagging_temperature': 42.02723152527299, 'max_leaves': 30}. Best is trial 236 with value: 0.2204946060949904.\n"
     ]
    },
    {
     "name": "stdout",
     "output_type": "stream",
     "text": [
      "Repeat \u001b[1m\u001b[34m#1\n",
      "Repeat \u001b[1m\u001b[34m#2\n",
      "Repeat \u001b[1m\u001b[34m#3\n"
     ]
    },
    {
     "name": "stderr",
     "output_type": "stream",
     "text": [
      "[I 2023-06-17 15:50:44,159] Trial 450 finished with value: 0.24391214496818472 and parameters: {'bootstrap_type': 'Bernoulli', 'grow_policy': 'Depthwise', 'learning_rate': 0.020018848061811773, 'l2_leaf_reg': 2.181534387331395, 'depth': 4, 'random_strength': 31.022140834714655, 'min_data_in_leaf': 95, 'subsample': 0.7115840459909958}. Best is trial 236 with value: 0.2204946060949904.\n"
     ]
    },
    {
     "name": "stdout",
     "output_type": "stream",
     "text": [
      "Repeat \u001b[1m\u001b[34m#1\n",
      "Repeat \u001b[1m\u001b[34m#2\n",
      "Repeat \u001b[1m\u001b[34m#3\n"
     ]
    },
    {
     "name": "stderr",
     "output_type": "stream",
     "text": [
      "[I 2023-06-17 15:50:55,863] Trial 451 finished with value: 0.23347370952817506 and parameters: {'bootstrap_type': 'Bayesian', 'grow_policy': 'Depthwise', 'learning_rate': 0.04345986152224458, 'l2_leaf_reg': 1.0913943562347184, 'depth': 4, 'random_strength': 64.99546136987276, 'min_data_in_leaf': 91, 'bagging_temperature': 35.59215647599377}. Best is trial 236 with value: 0.2204946060949904.\n"
     ]
    },
    {
     "name": "stdout",
     "output_type": "stream",
     "text": [
      "Repeat \u001b[1m\u001b[34m#1\n",
      "Repeat \u001b[1m\u001b[34m#2\n",
      "Repeat \u001b[1m\u001b[34m#3\n"
     ]
    },
    {
     "name": "stderr",
     "output_type": "stream",
     "text": [
      "[I 2023-06-17 15:51:34,741] Trial 452 finished with value: 0.6137298510736295 and parameters: {'bootstrap_type': 'Bayesian', 'grow_policy': 'Depthwise', 'learning_rate': 0.00014631243238016808, 'l2_leaf_reg': 3.0460137268728187, 'depth': 4, 'random_strength': 34.27567359393762, 'min_data_in_leaf': 98, 'bagging_temperature': 31.00628856804101}. Best is trial 236 with value: 0.2204946060949904.\n"
     ]
    },
    {
     "name": "stdout",
     "output_type": "stream",
     "text": [
      "Repeat \u001b[1m\u001b[34m#1\n",
      "Repeat \u001b[1m\u001b[34m#2\n",
      "Repeat \u001b[1m\u001b[34m#3\n"
     ]
    },
    {
     "name": "stderr",
     "output_type": "stream",
     "text": [
      "[I 2023-06-17 15:51:42,564] Trial 453 finished with value: 0.25197194622904834 and parameters: {'bootstrap_type': 'Bayesian', 'grow_policy': 'SymmetricTree', 'learning_rate': 0.08581300716283204, 'l2_leaf_reg': 9.31196859682732, 'depth': 4, 'random_strength': 85.21611022329698, 'min_data_in_leaf': 88, 'bagging_temperature': 22.51201786299025, 'boosting_type': 'Plain'}. Best is trial 236 with value: 0.2204946060949904.\n"
     ]
    },
    {
     "name": "stdout",
     "output_type": "stream",
     "text": [
      "Repeat \u001b[1m\u001b[34m#1\n",
      "Repeat \u001b[1m\u001b[34m#2\n",
      "Repeat \u001b[1m\u001b[34m#3\n"
     ]
    },
    {
     "name": "stderr",
     "output_type": "stream",
     "text": [
      "[I 2023-06-17 15:51:55,361] Trial 454 finished with value: 0.24858316354878696 and parameters: {'bootstrap_type': 'Bayesian', 'grow_policy': 'Depthwise', 'learning_rate': 0.031615173250201044, 'l2_leaf_reg': 0.014947850043348386, 'depth': 4, 'random_strength': 68.6168494536316, 'min_data_in_leaf': 82, 'bagging_temperature': 36.82024712606716}. Best is trial 236 with value: 0.2204946060949904.\n"
     ]
    },
    {
     "name": "stdout",
     "output_type": "stream",
     "text": [
      "Repeat \u001b[1m\u001b[34m#1\n",
      "Repeat \u001b[1m\u001b[34m#2\n",
      "Repeat \u001b[1m\u001b[34m#3\n"
     ]
    },
    {
     "name": "stderr",
     "output_type": "stream",
     "text": [
      "[I 2023-06-17 15:52:10,922] Trial 455 finished with value: 0.24997215450694257 and parameters: {'bootstrap_type': 'Bayesian', 'grow_policy': 'Depthwise', 'learning_rate': 0.023400489372476442, 'l2_leaf_reg': 1.41452750780015e-07, 'depth': 4, 'random_strength': 42.38490751118037, 'min_data_in_leaf': 94, 'bagging_temperature': 46.99469596149557}. Best is trial 236 with value: 0.2204946060949904.\n"
     ]
    },
    {
     "name": "stdout",
     "output_type": "stream",
     "text": [
      "Repeat \u001b[1m\u001b[34m#1\n",
      "Repeat \u001b[1m\u001b[34m#2\n",
      "Repeat \u001b[1m\u001b[34m#3\n"
     ]
    },
    {
     "name": "stderr",
     "output_type": "stream",
     "text": [
      "[I 2023-06-17 15:52:44,655] Trial 456 finished with value: 0.22820774989439221 and parameters: {'bootstrap_type': 'Bayesian', 'grow_policy': 'Depthwise', 'learning_rate': 0.01367436757395538, 'l2_leaf_reg': 4.5864243740333865, 'depth': 5, 'random_strength': 89.63302296992896, 'min_data_in_leaf': 92, 'bagging_temperature': 33.50149887369302}. Best is trial 236 with value: 0.2204946060949904.\n"
     ]
    },
    {
     "name": "stdout",
     "output_type": "stream",
     "text": [
      "Repeat \u001b[1m\u001b[34m#1\n",
      "Repeat \u001b[1m\u001b[34m#2\n",
      "Repeat \u001b[1m\u001b[34m#3\n"
     ]
    },
    {
     "name": "stderr",
     "output_type": "stream",
     "text": [
      "[I 2023-06-17 15:52:48,817] Trial 457 finished with value: 0.268096027695894 and parameters: {'bootstrap_type': 'Bayesian', 'grow_policy': 'Depthwise', 'learning_rate': 0.15513463043337214, 'l2_leaf_reg': 0.0014653467146559837, 'depth': 4, 'random_strength': 57.879672060210126, 'min_data_in_leaf': 96, 'bagging_temperature': 30.13089908763841}. Best is trial 236 with value: 0.2204946060949904.\n"
     ]
    },
    {
     "name": "stdout",
     "output_type": "stream",
     "text": [
      "Repeat \u001b[1m\u001b[34m#1\n",
      "Repeat \u001b[1m\u001b[34m#2\n",
      "Repeat \u001b[1m\u001b[34m#3\n"
     ]
    },
    {
     "name": "stderr",
     "output_type": "stream",
     "text": [
      "[I 2023-06-17 15:53:33,004] Trial 458 finished with value: 0.36770384883103197 and parameters: {'bootstrap_type': 'Bayesian', 'grow_policy': 'Lossguide', 'learning_rate': 0.0011322833210652447, 'l2_leaf_reg': 2.3216323235248904e-08, 'depth': 4, 'random_strength': 78.51871798744905, 'min_data_in_leaf': 69, 'bagging_temperature': 38.770738221037426, 'max_leaves': 37}. Best is trial 236 with value: 0.2204946060949904.\n"
     ]
    },
    {
     "name": "stdout",
     "output_type": "stream",
     "text": [
      "Repeat \u001b[1m\u001b[34m#1\n",
      "Repeat \u001b[1m\u001b[34m#2\n",
      "Repeat \u001b[1m\u001b[34m#3\n"
     ]
    },
    {
     "name": "stderr",
     "output_type": "stream",
     "text": [
      "[I 2023-06-17 15:53:38,966] Trial 459 finished with value: 0.2356880986733331 and parameters: {'bootstrap_type': 'Bayesian', 'grow_policy': 'Depthwise', 'learning_rate': 0.1018153491102276, 'l2_leaf_reg': 1.7547360780737415, 'depth': 4, 'random_strength': 53.75911633161571, 'min_data_in_leaf': 99, 'bagging_temperature': 26.05552907560857}. Best is trial 236 with value: 0.2204946060949904.\n"
     ]
    },
    {
     "name": "stdout",
     "output_type": "stream",
     "text": [
      "Repeat \u001b[1m\u001b[34m#1\n",
      "Repeat \u001b[1m\u001b[34m#2\n",
      "Repeat \u001b[1m\u001b[34m#3\n"
     ]
    },
    {
     "name": "stderr",
     "output_type": "stream",
     "text": [
      "[I 2023-06-17 15:54:18,566] Trial 460 finished with value: 0.4703790239466812 and parameters: {'bootstrap_type': 'Bayesian', 'grow_policy': 'Depthwise', 'learning_rate': 0.0005700601767409261, 'l2_leaf_reg': 0.6759585487510695, 'depth': 4, 'random_strength': 41.16766817864811, 'min_data_in_leaf': 94, 'bagging_temperature': 28.072464409777208}. Best is trial 236 with value: 0.2204946060949904.\n"
     ]
    },
    {
     "name": "stdout",
     "output_type": "stream",
     "text": [
      "Repeat \u001b[1m\u001b[34m#1\n",
      "Repeat \u001b[1m\u001b[34m#2\n",
      "Repeat \u001b[1m\u001b[34m#3\n"
     ]
    },
    {
     "name": "stderr",
     "output_type": "stream",
     "text": [
      "[I 2023-06-17 15:54:41,459] Trial 461 finished with value: 0.25628054002335915 and parameters: {'bootstrap_type': 'MVS', 'grow_policy': 'Depthwise', 'learning_rate': 0.04059974072479188, 'l2_leaf_reg': 16.182319520333262, 'depth': 5, 'random_strength': 48.868933638922016, 'min_data_in_leaf': 7}. Best is trial 236 with value: 0.2204946060949904.\n"
     ]
    },
    {
     "name": "stdout",
     "output_type": "stream",
     "text": [
      "Repeat \u001b[1m\u001b[34m#1\n",
      "Repeat \u001b[1m\u001b[34m#2\n",
      "Repeat \u001b[1m\u001b[34m#3\n"
     ]
    },
    {
     "name": "stderr",
     "output_type": "stream",
     "text": [
      "[I 2023-06-17 15:55:18,468] Trial 462 finished with value: 0.30044513777425824 and parameters: {'bootstrap_type': 'Bayesian', 'grow_policy': 'Depthwise', 'learning_rate': 0.0037441228377465595, 'l2_leaf_reg': 29.534518967639173, 'depth': 4, 'random_strength': 38.78906441127211, 'min_data_in_leaf': 90, 'bagging_temperature': 43.21882370040675}. Best is trial 236 with value: 0.2204946060949904.\n"
     ]
    },
    {
     "name": "stdout",
     "output_type": "stream",
     "text": [
      "Repeat \u001b[1m\u001b[34m#1\n",
      "Repeat \u001b[1m\u001b[34m#2\n",
      "Repeat \u001b[1m\u001b[34m#3\n"
     ]
    },
    {
     "name": "stderr",
     "output_type": "stream",
     "text": [
      "[I 2023-06-17 15:55:35,131] Trial 463 finished with value: 0.23058518618866183 and parameters: {'bootstrap_type': 'Bayesian', 'grow_policy': 'Depthwise', 'learning_rate': 0.05662804363727193, 'l2_leaf_reg': 50.649018323455486, 'depth': 6, 'random_strength': 70.6105166772696, 'min_data_in_leaf': 97, 'bagging_temperature': 32.47150046065321}. Best is trial 236 with value: 0.2204946060949904.\n"
     ]
    },
    {
     "name": "stdout",
     "output_type": "stream",
     "text": [
      "Repeat \u001b[1m\u001b[34m#1\n",
      "Repeat \u001b[1m\u001b[34m#2\n",
      "Repeat \u001b[1m\u001b[34m#3\n"
     ]
    },
    {
     "name": "stderr",
     "output_type": "stream",
     "text": [
      "[I 2023-06-17 15:55:53,019] Trial 464 finished with value: 0.22964079390378775 and parameters: {'bootstrap_type': 'Bayesian', 'grow_policy': 'Depthwise', 'learning_rate': 0.027644131775615734, 'l2_leaf_reg': 6.053343279750779, 'depth': 4, 'random_strength': 65.42786168715564, 'min_data_in_leaf': 92, 'bagging_temperature': 35.46697162741044}. Best is trial 236 with value: 0.2204946060949904.\n"
     ]
    },
    {
     "name": "stdout",
     "output_type": "stream",
     "text": [
      "Repeat \u001b[1m\u001b[34m#1\n",
      "Repeat \u001b[1m\u001b[34m#2\n",
      "Repeat \u001b[1m\u001b[34m#3\n"
     ]
    },
    {
     "name": "stderr",
     "output_type": "stream",
     "text": [
      "[I 2023-06-17 15:56:07,059] Trial 465 finished with value: 0.22979093743095247 and parameters: {'bootstrap_type': 'Bayesian', 'grow_policy': 'Depthwise', 'learning_rate': 0.03411204978252068, 'l2_leaf_reg': 2.631096158359916, 'depth': 4, 'random_strength': 92.36489301139868, 'min_data_in_leaf': 87, 'bagging_temperature': 40.60462884963673}. Best is trial 236 with value: 0.2204946060949904.\n"
     ]
    },
    {
     "name": "stdout",
     "output_type": "stream",
     "text": [
      "Repeat \u001b[1m\u001b[34m#1\n",
      "Repeat \u001b[1m\u001b[34m#2\n",
      "Repeat \u001b[1m\u001b[34m#3\n"
     ]
    },
    {
     "name": "stderr",
     "output_type": "stream",
     "text": [
      "[I 2023-06-17 15:56:15,086] Trial 466 finished with value: 0.2318168392097398 and parameters: {'bootstrap_type': 'Bayesian', 'grow_policy': 'Depthwise', 'learning_rate': 0.07453045949163575, 'l2_leaf_reg': 1.2170623811731618, 'depth': 4, 'random_strength': 76.14568494586584, 'min_data_in_leaf': 78, 'bagging_temperature': 30.75500708572934}. Best is trial 236 with value: 0.2204946060949904.\n"
     ]
    },
    {
     "name": "stdout",
     "output_type": "stream",
     "text": [
      "Repeat \u001b[1m\u001b[34m#1\n",
      "Repeat \u001b[1m\u001b[34m#2\n",
      "Repeat \u001b[1m\u001b[34m#3\n"
     ]
    },
    {
     "name": "stderr",
     "output_type": "stream",
     "text": [
      "[I 2023-06-17 15:56:29,882] Trial 467 finished with value: 0.24716117835126464 and parameters: {'bootstrap_type': 'Bayesian', 'grow_policy': 'Lossguide', 'learning_rate': 0.021028563426534495, 'l2_leaf_reg': 0.0032060967286575226, 'depth': 4, 'random_strength': 44.10292385932687, 'min_data_in_leaf': 95, 'bagging_temperature': 34.25142040524141, 'max_leaves': 91}. Best is trial 236 with value: 0.2204946060949904.\n"
     ]
    },
    {
     "name": "stdout",
     "output_type": "stream",
     "text": [
      "Repeat \u001b[1m\u001b[34m#1\n",
      "Repeat \u001b[1m\u001b[34m#2\n",
      "Repeat \u001b[1m\u001b[34m#3\n"
     ]
    },
    {
     "name": "stderr",
     "output_type": "stream",
     "text": [
      "[I 2023-06-17 15:56:40,837] Trial 468 finished with value: 0.2567359236909035 and parameters: {'bootstrap_type': 'Bayesian', 'grow_policy': 'Depthwise', 'learning_rate': 0.04816601895371648, 'l2_leaf_reg': 0.05253693088735108, 'depth': 4, 'random_strength': 35.415305329770206, 'min_data_in_leaf': 93, 'bagging_temperature': 50.23567396904734}. Best is trial 236 with value: 0.2204946060949904.\n"
     ]
    },
    {
     "name": "stdout",
     "output_type": "stream",
     "text": [
      "Repeat \u001b[1m\u001b[34m#1\n",
      "Repeat \u001b[1m\u001b[34m#2\n",
      "Repeat \u001b[1m\u001b[34m#3\n"
     ]
    },
    {
     "name": "stderr",
     "output_type": "stream",
     "text": [
      "[I 2023-06-17 15:56:45,922] Trial 469 finished with value: 0.2224823154220533 and parameters: {'bootstrap_type': 'Bayesian', 'grow_policy': 'Depthwise', 'learning_rate': 0.1314225913712031, 'l2_leaf_reg': 0.13335068653005566, 'depth': 4, 'random_strength': 62.79166291410153, 'min_data_in_leaf': 98, 'bagging_temperature': 36.419490360427424}. Best is trial 236 with value: 0.2204946060949904.\n"
     ]
    },
    {
     "name": "stdout",
     "output_type": "stream",
     "text": [
      "Repeat \u001b[1m\u001b[34m#1\n",
      "Repeat \u001b[1m\u001b[34m#2\n",
      "Repeat \u001b[1m\u001b[34m#3\n"
     ]
    },
    {
     "name": "stderr",
     "output_type": "stream",
     "text": [
      "[I 2023-06-17 15:56:51,153] Trial 470 finished with value: 0.26296005874513323 and parameters: {'bootstrap_type': 'Bayesian', 'grow_policy': 'Depthwise', 'learning_rate': 0.13071779023528712, 'l2_leaf_reg': 0.5037683035204874, 'depth': 8, 'random_strength': 80.10389151168674, 'min_data_in_leaf': 100, 'bagging_temperature': 38.344049754116234}. Best is trial 236 with value: 0.2204946060949904.\n"
     ]
    },
    {
     "name": "stdout",
     "output_type": "stream",
     "text": [
      "Repeat \u001b[1m\u001b[34m#1\n",
      "Repeat \u001b[1m\u001b[34m#2\n",
      "Repeat \u001b[1m\u001b[34m#3\n"
     ]
    },
    {
     "name": "stderr",
     "output_type": "stream",
     "text": [
      "[I 2023-06-17 15:56:57,263] Trial 471 finished with value: 0.24144876891453534 and parameters: {'bootstrap_type': 'Bayesian', 'grow_policy': 'Depthwise', 'learning_rate': 0.10036663111548176, 'l2_leaf_reg': 0.43219546389794017, 'depth': 4, 'random_strength': 67.8304303661132, 'min_data_in_leaf': 98, 'bagging_temperature': 36.3850310529942}. Best is trial 236 with value: 0.2204946060949904.\n"
     ]
    },
    {
     "name": "stdout",
     "output_type": "stream",
     "text": [
      "Repeat \u001b[1m\u001b[34m#1\n",
      "Repeat \u001b[1m\u001b[34m#2\n",
      "Repeat \u001b[1m\u001b[34m#3\n"
     ]
    },
    {
     "name": "stderr",
     "output_type": "stream",
     "text": [
      "[I 2023-06-17 15:57:01,006] Trial 472 finished with value: 0.2706983476369673 and parameters: {'bootstrap_type': 'Bayesian', 'grow_policy': 'Depthwise', 'learning_rate': 0.12964876115227414, 'l2_leaf_reg': 4.4815689390750194e-08, 'depth': 4, 'random_strength': 72.61161019946076, 'min_data_in_leaf': 99, 'bagging_temperature': 34.81092417702241}. Best is trial 236 with value: 0.2204946060949904.\n"
     ]
    },
    {
     "name": "stdout",
     "output_type": "stream",
     "text": [
      "Repeat \u001b[1m\u001b[34m#1\n",
      "Repeat \u001b[1m\u001b[34m#2\n",
      "Repeat \u001b[1m\u001b[34m#3\n"
     ]
    },
    {
     "name": "stderr",
     "output_type": "stream",
     "text": [
      "[I 2023-06-17 15:57:12,224] Trial 473 finished with value: 0.29089534423262875 and parameters: {'bootstrap_type': 'Bernoulli', 'grow_policy': 'SymmetricTree', 'learning_rate': 0.15285118202550804, 'l2_leaf_reg': 0.1878386359702208, 'depth': 4, 'random_strength': 64.16607096934877, 'min_data_in_leaf': 98, 'subsample': 0.5492995377519756, 'boosting_type': 'Ordered'}. Best is trial 236 with value: 0.2204946060949904.\n"
     ]
    },
    {
     "name": "stdout",
     "output_type": "stream",
     "text": [
      "Repeat \u001b[1m\u001b[34m#1\n",
      "Repeat \u001b[1m\u001b[34m#2\n",
      "Repeat \u001b[1m\u001b[34m#3\n"
     ]
    },
    {
     "name": "stderr",
     "output_type": "stream",
     "text": [
      "[I 2023-06-17 15:57:18,054] Trial 474 finished with value: 0.2540550770989492 and parameters: {'bootstrap_type': 'Bayesian', 'grow_policy': 'Depthwise', 'learning_rate': 0.11109099783473472, 'l2_leaf_reg': 0.18354435649789935, 'depth': 6, 'random_strength': 95.20266689474184, 'min_data_in_leaf': 96, 'bagging_temperature': 37.48558509982968}. Best is trial 236 with value: 0.2204946060949904.\n"
     ]
    },
    {
     "name": "stdout",
     "output_type": "stream",
     "text": [
      "Repeat \u001b[1m\u001b[34m#1\n",
      "Repeat \u001b[1m\u001b[34m#2\n",
      "Repeat \u001b[1m\u001b[34m#3\n"
     ]
    },
    {
     "name": "stderr",
     "output_type": "stream",
     "text": [
      "[I 2023-06-17 15:57:24,340] Trial 475 finished with value: 0.2503943945415927 and parameters: {'bootstrap_type': 'Bayesian', 'grow_policy': 'Depthwise', 'learning_rate': 0.08536808668752385, 'l2_leaf_reg': 0.10789263411319086, 'depth': 4, 'random_strength': 62.28246351531167, 'min_data_in_leaf': 100, 'bagging_temperature': 39.94631059362687}. Best is trial 236 with value: 0.2204946060949904.\n"
     ]
    },
    {
     "name": "stdout",
     "output_type": "stream",
     "text": [
      "Repeat \u001b[1m\u001b[34m#1\n",
      "Repeat \u001b[1m\u001b[34m#2\n",
      "Repeat \u001b[1m\u001b[34m#3\n"
     ]
    },
    {
     "name": "stderr",
     "output_type": "stream",
     "text": [
      "[I 2023-06-17 15:57:27,806] Trial 476 finished with value: 0.2509099130841449 and parameters: {'bootstrap_type': 'Bayesian', 'grow_policy': 'Depthwise', 'learning_rate': 0.23741648705330942, 'l2_leaf_reg': 0.7376416457746593, 'depth': 4, 'random_strength': 45.252896552258676, 'min_data_in_leaf': 97, 'bagging_temperature': 32.65876458874592}. Best is trial 236 with value: 0.2204946060949904.\n"
     ]
    },
    {
     "name": "stdout",
     "output_type": "stream",
     "text": [
      "Repeat \u001b[1m\u001b[34m#1\n",
      "Repeat \u001b[1m\u001b[34m#2\n",
      "Repeat \u001b[1m\u001b[34m#3\n"
     ]
    },
    {
     "name": "stderr",
     "output_type": "stream",
     "text": [
      "[I 2023-06-17 15:57:31,801] Trial 477 finished with value: 0.2560189837405606 and parameters: {'bootstrap_type': 'Bayesian', 'grow_policy': 'Depthwise', 'learning_rate': 0.1802815835345767, 'l2_leaf_reg': 0.29080887715419, 'depth': 4, 'random_strength': 69.08301819274244, 'min_data_in_leaf': 96, 'bagging_temperature': 35.74221303071991}. Best is trial 236 with value: 0.2204946060949904.\n"
     ]
    },
    {
     "name": "stdout",
     "output_type": "stream",
     "text": [
      "Repeat \u001b[1m\u001b[34m#1\n",
      "Repeat \u001b[1m\u001b[34m#2\n",
      "Repeat \u001b[1m\u001b[34m#3\n"
     ]
    },
    {
     "name": "stderr",
     "output_type": "stream",
     "text": [
      "[I 2023-06-17 15:57:41,054] Trial 478 finished with value: 0.23061992367308004 and parameters: {'bootstrap_type': 'Bayesian', 'grow_policy': 'Lossguide', 'learning_rate': 0.06499054173758581, 'l2_leaf_reg': 1.5461154740622793, 'depth': 4, 'random_strength': 66.20655666899201, 'min_data_in_leaf': 89, 'bagging_temperature': 32.28914698784203, 'max_leaves': 48}. Best is trial 236 with value: 0.2204946060949904.\n"
     ]
    },
    {
     "name": "stdout",
     "output_type": "stream",
     "text": [
      "Repeat \u001b[1m\u001b[34m#1\n",
      "Repeat \u001b[1m\u001b[34m#2\n",
      "Repeat \u001b[1m\u001b[34m#3\n"
     ]
    },
    {
     "name": "stderr",
     "output_type": "stream",
     "text": [
      "[I 2023-06-17 15:58:03,057] Trial 479 finished with value: 0.2385974691391968 and parameters: {'bootstrap_type': 'Bayesian', 'grow_policy': 'Depthwise', 'learning_rate': 0.016952380913711915, 'l2_leaf_reg': 0.7818868084772556, 'depth': 4, 'random_strength': 74.08622888721442, 'min_data_in_leaf': 94, 'bagging_temperature': 34.298299981107355}. Best is trial 236 with value: 0.2204946060949904.\n"
     ]
    },
    {
     "name": "stdout",
     "output_type": "stream",
     "text": [
      "Repeat \u001b[1m\u001b[34m#1\n",
      "Repeat \u001b[1m\u001b[34m#2\n",
      "Repeat \u001b[1m\u001b[34m#3\n"
     ]
    },
    {
     "name": "stderr",
     "output_type": "stream",
     "text": [
      "[I 2023-06-17 15:58:38,586] Trial 480 finished with value: 0.25539270923286944 and parameters: {'bootstrap_type': 'Bayesian', 'grow_policy': 'Depthwise', 'learning_rate': 0.005160551741490228, 'l2_leaf_reg': 1.991259206388151, 'depth': 4, 'random_strength': 0.2864570033463494, 'min_data_in_leaf': 91, 'bagging_temperature': 42.12237569630061}. Best is trial 236 with value: 0.2204946060949904.\n"
     ]
    },
    {
     "name": "stdout",
     "output_type": "stream",
     "text": [
      "Repeat \u001b[1m\u001b[34m#1\n",
      "Repeat \u001b[1m\u001b[34m#2\n",
      "Repeat \u001b[1m\u001b[34m#3\n"
     ]
    },
    {
     "name": "stderr",
     "output_type": "stream",
     "text": [
      "[I 2023-06-17 15:58:42,939] Trial 481 finished with value: 0.2549898389266994 and parameters: {'bootstrap_type': 'Bayesian', 'grow_policy': 'Depthwise', 'learning_rate': 0.14912391109996784, 'l2_leaf_reg': 12.270917850314984, 'depth': 4, 'random_strength': 82.69226136495409, 'min_data_in_leaf': 96, 'bagging_temperature': 2.5566654480327884}. Best is trial 236 with value: 0.2204946060949904.\n"
     ]
    },
    {
     "name": "stdout",
     "output_type": "stream",
     "text": [
      "Repeat \u001b[1m\u001b[34m#1\n",
      "Repeat \u001b[1m\u001b[34m#2\n",
      "Repeat \u001b[1m\u001b[34m#3\n"
     ]
    },
    {
     "name": "stderr",
     "output_type": "stream",
     "text": [
      "[I 2023-06-17 15:59:22,233] Trial 482 finished with value: 0.3144095832409188 and parameters: {'bootstrap_type': 'Bayesian', 'grow_policy': 'Depthwise', 'learning_rate': 0.002102714697289708, 'l2_leaf_reg': 1.2212617896414304, 'depth': 4, 'random_strength': 71.65990735117512, 'min_data_in_leaf': 92, 'bagging_temperature': 29.63778142540132}. Best is trial 236 with value: 0.2204946060949904.\n"
     ]
    },
    {
     "name": "stdout",
     "output_type": "stream",
     "text": [
      "Repeat \u001b[1m\u001b[34m#1\n",
      "Repeat \u001b[1m\u001b[34m#2\n",
      "Repeat \u001b[1m\u001b[34m#3\n"
     ]
    },
    {
     "name": "stderr",
     "output_type": "stream",
     "text": [
      "[I 2023-06-17 15:59:25,536] Trial 483 finished with value: 0.24805897453854353 and parameters: {'bootstrap_type': 'MVS', 'grow_policy': 'Depthwise', 'learning_rate': 0.11687275616525401, 'l2_leaf_reg': 0.07025587470281748, 'depth': 4, 'random_strength': 63.812904917099054, 'min_data_in_leaf': 84}. Best is trial 236 with value: 0.2204946060949904.\n"
     ]
    },
    {
     "name": "stdout",
     "output_type": "stream",
     "text": [
      "Repeat \u001b[1m\u001b[34m#1\n",
      "Repeat \u001b[1m\u001b[34m#2\n",
      "Repeat \u001b[1m\u001b[34m#3\n"
     ]
    },
    {
     "name": "stderr",
     "output_type": "stream",
     "text": [
      "[I 2023-06-17 15:59:35,432] Trial 484 finished with value: 0.26365750885167555 and parameters: {'bootstrap_type': 'Bayesian', 'grow_policy': 'Depthwise', 'learning_rate': 0.02388510246447864, 'l2_leaf_reg': 9.651413366375682e-07, 'depth': 4, 'random_strength': 99.34522946442928, 'min_data_in_leaf': 98, 'bagging_temperature': 37.29576962065895}. Best is trial 236 with value: 0.2204946060949904.\n"
     ]
    },
    {
     "name": "stdout",
     "output_type": "stream",
     "text": [
      "Repeat \u001b[1m\u001b[34m#1\n",
      "Repeat \u001b[1m\u001b[34m#2\n",
      "Repeat \u001b[1m\u001b[34m#3\n"
     ]
    },
    {
     "name": "stderr",
     "output_type": "stream",
     "text": [
      "[I 2023-06-17 15:59:41,336] Trial 485 finished with value: 0.24720106798117922 and parameters: {'bootstrap_type': 'Bayesian', 'grow_policy': 'Lossguide', 'learning_rate': 0.09730099904686418, 'l2_leaf_reg': 0.32820251659736094, 'depth': 4, 'random_strength': 67.97022130720778, 'min_data_in_leaf': 94, 'bagging_temperature': 39.36645394913947, 'max_leaves': 57}. Best is trial 236 with value: 0.2204946060949904.\n"
     ]
    },
    {
     "name": "stdout",
     "output_type": "stream",
     "text": [
      "Repeat \u001b[1m\u001b[34m#1\n",
      "Repeat \u001b[1m\u001b[34m#2\n",
      "Repeat \u001b[1m\u001b[34m#3\n"
     ]
    },
    {
     "name": "stderr",
     "output_type": "stream",
     "text": [
      "[I 2023-06-17 16:00:21,481] Trial 486 finished with value: 0.33905645696228026 and parameters: {'bootstrap_type': 'Bayesian', 'grow_policy': 'Depthwise', 'learning_rate': 0.0016788508853236622, 'l2_leaf_reg': 3.1292560853177482, 'depth': 4, 'random_strength': 38.200889151978245, 'min_data_in_leaf': 90, 'bagging_temperature': 31.52753112933275}. Best is trial 236 with value: 0.2204946060949904.\n"
     ]
    },
    {
     "name": "stdout",
     "output_type": "stream",
     "text": [
      "Repeat \u001b[1m\u001b[34m#1\n",
      "Repeat \u001b[1m\u001b[34m#2\n",
      "Repeat \u001b[1m\u001b[34m#3\n"
     ]
    },
    {
     "name": "stderr",
     "output_type": "stream",
     "text": [
      "[I 2023-06-17 16:00:30,167] Trial 487 finished with value: 0.22922398361690774 and parameters: {'bootstrap_type': 'Bayesian', 'grow_policy': 'Depthwise', 'learning_rate': 0.07561716241450528, 'l2_leaf_reg': 8.347307591410184, 'depth': 4, 'random_strength': 88.0185844672946, 'min_data_in_leaf': 95, 'bagging_temperature': 44.83027099086559}. Best is trial 236 with value: 0.2204946060949904.\n"
     ]
    },
    {
     "name": "stdout",
     "output_type": "stream",
     "text": [
      "Repeat \u001b[1m\u001b[34m#1\n",
      "Repeat \u001b[1m\u001b[34m#2\n",
      "Repeat \u001b[1m\u001b[34m#3\n"
     ]
    },
    {
     "name": "stderr",
     "output_type": "stream",
     "text": [
      "[I 2023-06-17 16:00:48,775] Trial 488 finished with value: 0.2334508452737776 and parameters: {'bootstrap_type': 'Bayesian', 'grow_policy': 'Depthwise', 'learning_rate': 0.027369341652100747, 'l2_leaf_reg': 21.41500047092219, 'depth': 4, 'random_strength': 61.19229580185068, 'min_data_in_leaf': 100, 'bagging_temperature': 33.7416917950701}. Best is trial 236 with value: 0.2204946060949904.\n"
     ]
    },
    {
     "name": "stdout",
     "output_type": "stream",
     "text": [
      "Repeat \u001b[1m\u001b[34m#1\n",
      "Repeat \u001b[1m\u001b[34m#2\n",
      "Repeat \u001b[1m\u001b[34m#3\n"
     ]
    },
    {
     "name": "stderr",
     "output_type": "stream",
     "text": [
      "[I 2023-06-17 16:01:19,254] Trial 489 finished with value: 0.23420589214944512 and parameters: {'bootstrap_type': 'Bayesian', 'grow_policy': 'Depthwise', 'learning_rate': 0.009935936766521925, 'l2_leaf_reg': 4.202245039352264, 'depth': 4, 'random_strength': 70.13596220713615, 'min_data_in_leaf': 86, 'bagging_temperature': 18.52655507745314}. Best is trial 236 with value: 0.2204946060949904.\n"
     ]
    },
    {
     "name": "stdout",
     "output_type": "stream",
     "text": [
      "Repeat \u001b[1m\u001b[34m#1\n",
      "Repeat \u001b[1m\u001b[34m#2\n",
      "Repeat \u001b[1m\u001b[34m#3\n"
     ]
    },
    {
     "name": "stderr",
     "output_type": "stream",
     "text": [
      "[I 2023-06-17 16:01:20,041] Trial 490 finished with value: 0.6933497615998098 and parameters: {'bootstrap_type': 'Bayesian', 'grow_policy': 'Depthwise', 'learning_rate': 0.03970649865844197, 'l2_leaf_reg': 0.0482689169565141, 'depth': 4, 'random_strength': 76.00058895177445, 'min_data_in_leaf': 93, 'bagging_temperature': 65.08868928695405}. Best is trial 236 with value: 0.2204946060949904.\n"
     ]
    },
    {
     "name": "stdout",
     "output_type": "stream",
     "text": [
      "Repeat \u001b[1m\u001b[34m#1\n",
      "Repeat \u001b[1m\u001b[34m#2\n",
      "Repeat \u001b[1m\u001b[34m#3\n"
     ]
    },
    {
     "name": "stderr",
     "output_type": "stream",
     "text": [
      "[I 2023-06-17 16:01:20,825] Trial 491 finished with value: 0.6927465095108576 and parameters: {'bootstrap_type': 'Bayesian', 'grow_policy': 'Depthwise', 'learning_rate': 0.0642840338632345, 'l2_leaf_reg': 34.647054079847834, 'depth': 4, 'random_strength': 40.510489864311964, 'min_data_in_leaf': 72, 'bagging_temperature': 58.14620855544888}. Best is trial 236 with value: 0.2204946060949904.\n"
     ]
    },
    {
     "name": "stdout",
     "output_type": "stream",
     "text": [
      "Repeat \u001b[1m\u001b[34m#1\n",
      "Repeat \u001b[1m\u001b[34m#2\n",
      "Repeat \u001b[1m\u001b[34m#3\n"
     ]
    },
    {
     "name": "stderr",
     "output_type": "stream",
     "text": [
      "[I 2023-06-17 16:01:34,509] Trial 492 finished with value: 0.2280053920356061 and parameters: {'bootstrap_type': 'Bayesian', 'grow_policy': 'Depthwise', 'learning_rate': 0.03405227439251733, 'l2_leaf_reg': 0.8338480695190267, 'depth': 4, 'random_strength': 66.02575935187723, 'min_data_in_leaf': 97, 'bagging_temperature': 36.22499658277982}. Best is trial 236 with value: 0.2204946060949904.\n"
     ]
    },
    {
     "name": "stdout",
     "output_type": "stream",
     "text": [
      "Repeat \u001b[1m\u001b[34m#1\n",
      "Repeat \u001b[1m\u001b[34m#2\n",
      "Repeat \u001b[1m\u001b[34m#3\n"
     ]
    },
    {
     "name": "stderr",
     "output_type": "stream",
     "text": [
      "[I 2023-06-17 16:01:47,360] Trial 493 finished with value: 0.2770078992268873 and parameters: {'bootstrap_type': 'Bayesian', 'grow_policy': 'Lossguide', 'learning_rate': 0.04999710561796575, 'l2_leaf_reg': 2.2876733021101523, 'depth': 4, 'random_strength': 56.49066294970677, 'min_data_in_leaf': 88, 'bagging_temperature': 52.80719333375725, 'max_leaves': 53}. Best is trial 236 with value: 0.2204946060949904.\n"
     ]
    },
    {
     "name": "stdout",
     "output_type": "stream",
     "text": [
      "Repeat \u001b[1m\u001b[34m#1\n",
      "Repeat \u001b[1m\u001b[34m#2\n",
      "Repeat \u001b[1m\u001b[34m#3\n"
     ]
    },
    {
     "name": "stderr",
     "output_type": "stream",
     "text": [
      "[I 2023-06-17 16:02:05,204] Trial 494 finished with value: 0.25127821743983186 and parameters: {'bootstrap_type': 'Bayesian', 'grow_policy': 'Depthwise', 'learning_rate': 0.013168243998872496, 'l2_leaf_reg': 1.1288237863021746e-08, 'depth': 4, 'random_strength': 51.663517971412276, 'min_data_in_leaf': 91, 'bagging_temperature': 40.74396058562758}. Best is trial 236 with value: 0.2204946060949904.\n"
     ]
    },
    {
     "name": "stdout",
     "output_type": "stream",
     "text": [
      "Repeat \u001b[1m\u001b[34m#1\n",
      "Repeat \u001b[1m\u001b[34m#2\n",
      "Repeat \u001b[1m\u001b[34m#3\n"
     ]
    },
    {
     "name": "stderr",
     "output_type": "stream",
     "text": [
      "[I 2023-06-17 16:02:13,841] Trial 495 finished with value: 0.3283785308682021 and parameters: {'bootstrap_type': 'Bernoulli', 'grow_policy': 'SymmetricTree', 'learning_rate': 0.015552524234317458, 'l2_leaf_reg': 0.0012235292623337273, 'depth': 4, 'random_strength': 26.56582479482808, 'min_data_in_leaf': 96, 'subsample': 0.7517447258070753, 'boosting_type': 'Plain'}. Best is trial 236 with value: 0.2204946060949904.\n"
     ]
    },
    {
     "name": "stdout",
     "output_type": "stream",
     "text": [
      "Repeat \u001b[1m\u001b[34m#1\n",
      "Repeat \u001b[1m\u001b[34m#2\n",
      "Repeat \u001b[1m\u001b[34m#3\n"
     ]
    },
    {
     "name": "stderr",
     "output_type": "stream",
     "text": [
      "[I 2023-06-17 16:02:16,792] Trial 496 finished with value: 0.27701124960701556 and parameters: {'bootstrap_type': 'Bayesian', 'grow_policy': 'Depthwise', 'learning_rate': 0.29413363589632047, 'l2_leaf_reg': 0.012967865599075921, 'depth': 4, 'random_strength': 62.65416280999769, 'min_data_in_leaf': 94, 'bagging_temperature': 29.097998809903885}. Best is trial 236 with value: 0.2204946060949904.\n"
     ]
    },
    {
     "name": "stdout",
     "output_type": "stream",
     "text": [
      "Repeat \u001b[1m\u001b[34m#1\n",
      "Repeat \u001b[1m\u001b[34m#2\n",
      "Repeat \u001b[1m\u001b[34m#3\n"
     ]
    },
    {
     "name": "stderr",
     "output_type": "stream",
     "text": [
      "[I 2023-06-17 16:02:55,902] Trial 497 finished with value: 0.3047804579726842 and parameters: {'bootstrap_type': 'Bayesian', 'grow_policy': 'Depthwise', 'learning_rate': 0.003901493669721599, 'l2_leaf_reg': 77.62289579054536, 'depth': 4, 'random_strength': 81.19357268180609, 'min_data_in_leaf': 98, 'bagging_temperature': 31.64737831868329}. Best is trial 236 with value: 0.2204946060949904.\n"
     ]
    },
    {
     "name": "stdout",
     "output_type": "stream",
     "text": [
      "Repeat \u001b[1m\u001b[34m#1\n",
      "Repeat \u001b[1m\u001b[34m#2\n",
      "Repeat \u001b[1m\u001b[34m#3\n"
     ]
    },
    {
     "name": "stderr",
     "output_type": "stream",
     "text": [
      "[I 2023-06-17 16:03:20,768] Trial 498 finished with value: 0.22762077653572957 and parameters: {'bootstrap_type': 'Bayesian', 'grow_policy': 'Depthwise', 'learning_rate': 0.019089912622257173, 'l2_leaf_reg': 12.152367529608512, 'depth': 4, 'random_strength': 90.8077663046024, 'min_data_in_leaf': 92, 'bagging_temperature': 34.163312136701485}. Best is trial 236 with value: 0.2204946060949904.\n"
     ]
    },
    {
     "name": "stdout",
     "output_type": "stream",
     "text": [
      "Repeat \u001b[1m\u001b[34m#1\n",
      "Repeat \u001b[1m\u001b[34m#2\n",
      "Repeat \u001b[1m\u001b[34m#3\n"
     ]
    },
    {
     "name": "stderr",
     "output_type": "stream",
     "text": [
      "[I 2023-06-17 16:04:05,698] Trial 499 finished with value: 0.24193971491948682 and parameters: {'bootstrap_type': 'Bayesian', 'grow_policy': 'Depthwise', 'learning_rate': 0.006663752710122092, 'l2_leaf_reg': 7.0467096070746384, 'depth': 5, 'random_strength': 72.14190856449693, 'min_data_in_leaf': 95, 'bagging_temperature': 37.365122507650746}. Best is trial 236 with value: 0.2204946060949904.\n"
     ]
    },
    {
     "name": "stdout",
     "output_type": "stream",
     "text": [
      "Repeat \u001b[1m\u001b[34m#1\n",
      "Repeat \u001b[1m\u001b[34m#2\n",
      "Repeat \u001b[1m\u001b[34m#3\n"
     ]
    },
    {
     "name": "stderr",
     "output_type": "stream",
     "text": [
      "[I 2023-06-17 16:04:19,904] Trial 500 finished with value: 0.2419170113004684 and parameters: {'bootstrap_type': 'Bayesian', 'grow_policy': 'Depthwise', 'learning_rate': 0.02964995542077653, 'l2_leaf_reg': 0.032464355568617015, 'depth': 4, 'random_strength': 85.09363438927105, 'min_data_in_leaf': 89, 'bagging_temperature': 47.2944086885468}. Best is trial 236 with value: 0.2204946060949904.\n"
     ]
    },
    {
     "name": "stdout",
     "output_type": "stream",
     "text": [
      "Repeat \u001b[1m\u001b[34m#1\n",
      "Repeat \u001b[1m\u001b[34m#2\n",
      "Repeat \u001b[1m\u001b[34m#3\n"
     ]
    },
    {
     "name": "stderr",
     "output_type": "stream",
     "text": [
      "[I 2023-06-17 16:04:25,977] Trial 501 finished with value: 0.24728842320590302 and parameters: {'bootstrap_type': 'Bayesian', 'grow_policy': 'Depthwise', 'learning_rate': 0.08877715815979903, 'l2_leaf_reg': 0.0038105326935629776, 'depth': 4, 'random_strength': 67.97410064371603, 'min_data_in_leaf': 93, 'bagging_temperature': 27.688440026696032}. Best is trial 236 with value: 0.2204946060949904.\n"
     ]
    },
    {
     "name": "stdout",
     "output_type": "stream",
     "text": [
      "Repeat \u001b[1m\u001b[34m#1\n",
      "Repeat \u001b[1m\u001b[34m#2\n",
      "Repeat \u001b[1m\u001b[34m#3\n"
     ]
    },
    {
     "name": "stderr",
     "output_type": "stream",
     "text": [
      "[I 2023-06-17 16:04:43,338] Trial 502 finished with value: 0.23315748942118045 and parameters: {'bootstrap_type': 'Bayesian', 'grow_policy': 'Depthwise', 'learning_rate': 0.024370229431074697, 'l2_leaf_reg': 1.41694318871694, 'depth': 4, 'random_strength': 65.44423110649771, 'min_data_in_leaf': 98, 'bagging_temperature': 8.9660754940626}. Best is trial 236 with value: 0.2204946060949904.\n"
     ]
    },
    {
     "name": "stdout",
     "output_type": "stream",
     "text": [
      "Repeat \u001b[1m\u001b[34m#1\n",
      "Repeat \u001b[1m\u001b[34m#2\n",
      "Repeat \u001b[1m\u001b[34m#3\n"
     ]
    },
    {
     "name": "stderr",
     "output_type": "stream",
     "text": [
      "[I 2023-06-17 16:04:51,517] Trial 503 finished with value: 0.24583710463592726 and parameters: {'bootstrap_type': 'Bayesian', 'grow_policy': 'Lossguide', 'learning_rate': 0.04137014604536626, 'l2_leaf_reg': 2.77195505563186e-05, 'depth': 4, 'random_strength': 59.297166117654996, 'min_data_in_leaf': 91, 'bagging_temperature': 20.900050265830043, 'max_leaves': 63}. Best is trial 236 with value: 0.2204946060949904.\n"
     ]
    },
    {
     "name": "stdout",
     "output_type": "stream",
     "text": [
      "Repeat \u001b[1m\u001b[34m#1\n",
      "Repeat \u001b[1m\u001b[34m#2\n",
      "Repeat \u001b[1m\u001b[34m#3\n"
     ]
    },
    {
     "name": "stderr",
     "output_type": "stream",
     "text": [
      "[I 2023-06-17 16:05:28,789] Trial 504 finished with value: 0.32232881282973586 and parameters: {'bootstrap_type': 'Bayesian', 'grow_policy': 'Depthwise', 'learning_rate': 0.0026406807068772176, 'l2_leaf_reg': 3.9489945423672603, 'depth': 4, 'random_strength': 30.572770422998527, 'min_data_in_leaf': 96, 'bagging_temperature': 43.77114709388078}. Best is trial 236 with value: 0.2204946060949904.\n"
     ]
    },
    {
     "name": "stdout",
     "output_type": "stream",
     "text": [
      "Repeat \u001b[1m\u001b[34m#1\n",
      "Repeat \u001b[1m\u001b[34m#2\n",
      "Repeat \u001b[1m\u001b[34m#3\n"
     ]
    },
    {
     "name": "stderr",
     "output_type": "stream",
     "text": [
      "[I 2023-06-17 16:05:34,300] Trial 505 finished with value: 0.25535543745290284 and parameters: {'bootstrap_type': 'MVS', 'grow_policy': 'Depthwise', 'learning_rate': 0.0572561866933203, 'l2_leaf_reg': 0.4745768650996871, 'depth': 4, 'random_strength': 77.95207989256896, 'min_data_in_leaf': 81}. Best is trial 236 with value: 0.2204946060949904.\n"
     ]
    },
    {
     "name": "stdout",
     "output_type": "stream",
     "text": [
      "Repeat \u001b[1m\u001b[34m#1\n",
      "Repeat \u001b[1m\u001b[34m#2\n",
      "Repeat \u001b[1m\u001b[34m#3\n"
     ]
    },
    {
     "name": "stderr",
     "output_type": "stream",
     "text": [
      "[I 2023-06-17 16:05:42,184] Trial 506 finished with value: 0.23973514322220524 and parameters: {'bootstrap_type': 'Bayesian', 'grow_policy': 'Depthwise', 'learning_rate': 0.12338531829581811, 'l2_leaf_reg': 16.66354049131703, 'depth': 4, 'random_strength': 74.1235738820288, 'min_data_in_leaf': 100, 'bagging_temperature': 38.966599605250835}. Best is trial 236 with value: 0.2204946060949904.\n"
     ]
    },
    {
     "name": "stdout",
     "output_type": "stream",
     "text": [
      "Repeat \u001b[1m\u001b[34m#1\n",
      "Repeat \u001b[1m\u001b[34m#2\n",
      "Repeat \u001b[1m\u001b[34m#3\n"
     ]
    },
    {
     "name": "stderr",
     "output_type": "stream",
     "text": [
      "[I 2023-06-17 16:05:56,965] Trial 507 finished with value: 0.2246242184362813 and parameters: {'bootstrap_type': 'Bayesian', 'grow_policy': 'Depthwise', 'learning_rate': 0.03616166499823386, 'l2_leaf_reg': 2.4502880968701466, 'depth': 4, 'random_strength': 41.91402819702098, 'min_data_in_leaf': 94, 'bagging_temperature': 35.40625123475054}. Best is trial 236 with value: 0.2204946060949904.\n"
     ]
    },
    {
     "name": "stdout",
     "output_type": "stream",
     "text": [
      "Repeat \u001b[1m\u001b[34m#1\n",
      "Repeat \u001b[1m\u001b[34m#2\n",
      "Repeat \u001b[1m\u001b[34m#3\n"
     ]
    },
    {
     "name": "stderr",
     "output_type": "stream",
     "text": [
      "[I 2023-06-17 16:05:57,779] Trial 508 finished with value: 0.6933262838908251 and parameters: {'bootstrap_type': 'Bayesian', 'grow_policy': 'Depthwise', 'learning_rate': 0.03520366819700048, 'l2_leaf_reg': 2.1001806971939376, 'depth': 4, 'random_strength': 69.81674378187867, 'min_data_in_leaf': 93, 'bagging_temperature': 71.68636185543917}. Best is trial 236 with value: 0.2204946060949904.\n"
     ]
    },
    {
     "name": "stdout",
     "output_type": "stream",
     "text": [
      "Repeat \u001b[1m\u001b[34m#1\n",
      "Repeat \u001b[1m\u001b[34m#2\n",
      "Repeat \u001b[1m\u001b[34m#3\n"
     ]
    },
    {
     "name": "stderr",
     "output_type": "stream",
     "text": [
      "[I 2023-06-17 16:06:09,433] Trial 509 finished with value: 0.23083842308103752 and parameters: {'bootstrap_type': 'Bayesian', 'grow_policy': 'Depthwise', 'learning_rate': 0.044107851838412315, 'l2_leaf_reg': 0.9424259825662827, 'depth': 4, 'random_strength': 41.414509368489625, 'min_data_in_leaf': 90, 'bagging_temperature': 35.39106865537232}. Best is trial 236 with value: 0.2204946060949904.\n"
     ]
    },
    {
     "name": "stdout",
     "output_type": "stream",
     "text": [
      "Repeat \u001b[1m\u001b[34m#1\n",
      "Repeat \u001b[1m\u001b[34m#2\n",
      "Repeat \u001b[1m\u001b[34m#3\n"
     ]
    },
    {
     "name": "stderr",
     "output_type": "stream",
     "text": [
      "[I 2023-06-17 16:06:21,570] Trial 510 finished with value: 0.22519477174372513 and parameters: {'bootstrap_type': 'Bayesian', 'grow_policy': 'Depthwise', 'learning_rate': 0.037999676245011035, 'l2_leaf_reg': 0.124601783051418, 'depth': 4, 'random_strength': 34.610660919432625, 'min_data_in_leaf': 87, 'bagging_temperature': 37.32174533414109}. Best is trial 236 with value: 0.2204946060949904.\n"
     ]
    },
    {
     "name": "stdout",
     "output_type": "stream",
     "text": [
      "Repeat \u001b[1m\u001b[34m#1\n",
      "Repeat \u001b[1m\u001b[34m#2\n",
      "Repeat \u001b[1m\u001b[34m#3\n"
     ]
    },
    {
     "name": "stderr",
     "output_type": "stream",
     "text": [
      "[I 2023-06-17 16:06:35,112] Trial 511 finished with value: 0.22882721449726187 and parameters: {'bootstrap_type': 'Bayesian', 'grow_policy': 'Lossguide', 'learning_rate': 0.02949097861993699, 'l2_leaf_reg': 0.13798304959822505, 'depth': 4, 'random_strength': 34.82611191030587, 'min_data_in_leaf': 86, 'bagging_temperature': 38.3077700609698, 'max_leaves': 41}. Best is trial 236 with value: 0.2204946060949904.\n"
     ]
    },
    {
     "name": "stdout",
     "output_type": "stream",
     "text": [
      "Repeat \u001b[1m\u001b[34m#1\n",
      "Repeat \u001b[1m\u001b[34m#2\n",
      "Repeat \u001b[1m\u001b[34m#3\n"
     ]
    },
    {
     "name": "stderr",
     "output_type": "stream",
     "text": [
      "[I 2023-06-17 16:06:35,895] Trial 512 finished with value: 0.6940494278320983 and parameters: {'bootstrap_type': 'Bayesian', 'grow_policy': 'Depthwise', 'learning_rate': 0.17402967452794618, 'l2_leaf_reg': 0.3059215086645918, 'depth': 5, 'random_strength': 38.69067580476243, 'min_data_in_leaf': 85, 'bagging_temperature': 79.67767148345018}. Best is trial 236 with value: 0.2204946060949904.\n"
     ]
    },
    {
     "name": "stdout",
     "output_type": "stream",
     "text": [
      "Repeat \u001b[1m\u001b[34m#1\n",
      "Repeat \u001b[1m\u001b[34m#2\n",
      "Repeat \u001b[1m\u001b[34m#3\n"
     ]
    },
    {
     "name": "stderr",
     "output_type": "stream",
     "text": [
      "[I 2023-06-17 16:06:49,282] Trial 513 finished with value: 0.23515986808322442 and parameters: {'bootstrap_type': 'Bayesian', 'grow_policy': 'Depthwise', 'learning_rate': 0.03524967695615526, 'l2_leaf_reg': 0.5753904671200304, 'depth': 4, 'random_strength': 38.22781358761943, 'min_data_in_leaf': 87, 'bagging_temperature': 41.833319182578876}. Best is trial 236 with value: 0.2204946060949904.\n"
     ]
    },
    {
     "name": "stdout",
     "output_type": "stream",
     "text": [
      "Repeat \u001b[1m\u001b[34m#1\n",
      "Repeat \u001b[1m\u001b[34m#2\n",
      "Repeat \u001b[1m\u001b[34m#3\n"
     ]
    },
    {
     "name": "stderr",
     "output_type": "stream",
     "text": [
      "[I 2023-06-17 16:06:53,697] Trial 514 finished with value: 0.25627081290382353 and parameters: {'bootstrap_type': 'Bayesian', 'grow_policy': 'Depthwise', 'learning_rate': 0.14281867343922058, 'l2_leaf_reg': 0.24015950220915466, 'depth': 4, 'random_strength': 34.28062438303153, 'min_data_in_leaf': 87, 'bagging_temperature': 35.98231310762598}. Best is trial 236 with value: 0.2204946060949904.\n"
     ]
    },
    {
     "name": "stdout",
     "output_type": "stream",
     "text": [
      "Repeat \u001b[1m\u001b[34m#1\n",
      "Repeat \u001b[1m\u001b[34m#2\n",
      "Repeat \u001b[1m\u001b[34m#3\n"
     ]
    },
    {
     "name": "stderr",
     "output_type": "stream",
     "text": [
      "[I 2023-06-17 16:06:57,205] Trial 515 finished with value: 0.26183533064157577 and parameters: {'bootstrap_type': 'Bayesian', 'grow_policy': 'Depthwise', 'learning_rate': 0.24030014164009875, 'l2_leaf_reg': 0.017914457053434335, 'depth': 4, 'random_strength': 42.87920987477713, 'min_data_in_leaf': 88, 'bagging_temperature': 40.4654641707738}. Best is trial 236 with value: 0.2204946060949904.\n"
     ]
    },
    {
     "name": "stdout",
     "output_type": "stream",
     "text": [
      "Repeat \u001b[1m\u001b[34m#1\n",
      "Repeat \u001b[1m\u001b[34m#2\n",
      "Repeat \u001b[1m\u001b[34m#3\n"
     ]
    },
    {
     "name": "stderr",
     "output_type": "stream",
     "text": [
      "[I 2023-06-17 16:07:05,169] Trial 516 finished with value: 0.22686857490876303 and parameters: {'bootstrap_type': 'Bayesian', 'grow_policy': 'Depthwise', 'learning_rate': 0.07766705949978754, 'l2_leaf_reg': 1.1407304653926713, 'depth': 4, 'random_strength': 39.90352722809982, 'min_data_in_leaf': 84, 'bagging_temperature': 37.318213944834575}. Best is trial 236 with value: 0.2204946060949904.\n"
     ]
    },
    {
     "name": "stdout",
     "output_type": "stream",
     "text": [
      "Repeat \u001b[1m\u001b[34m#1\n",
      "Repeat \u001b[1m\u001b[34m#2\n",
      "Repeat \u001b[1m\u001b[34m#3\n"
     ]
    },
    {
     "name": "stderr",
     "output_type": "stream",
     "text": [
      "[I 2023-06-17 16:07:19,111] Trial 517 finished with value: 0.3601468195523751 and parameters: {'bootstrap_type': 'Bernoulli', 'grow_policy': 'SymmetricTree', 'learning_rate': 0.05345735678561438, 'l2_leaf_reg': 0.0001979631340880047, 'depth': 4, 'random_strength': 32.004515571762795, 'min_data_in_leaf': 89, 'subsample': 0.34618512038928034, 'boosting_type': 'Ordered'}. Best is trial 236 with value: 0.2204946060949904.\n"
     ]
    },
    {
     "name": "stdout",
     "output_type": "stream",
     "text": [
      "Repeat \u001b[1m\u001b[34m#1\n",
      "Repeat \u001b[1m\u001b[34m#2\n",
      "Repeat \u001b[1m\u001b[34m#3\n"
     ]
    },
    {
     "name": "stderr",
     "output_type": "stream",
     "text": [
      "[I 2023-06-17 16:07:25,613] Trial 518 finished with value: 0.232095883786825 and parameters: {'bootstrap_type': 'Bayesian', 'grow_policy': 'Depthwise', 'learning_rate': 0.10683309033573433, 'l2_leaf_reg': 1.7163124279337962, 'depth': 4, 'random_strength': 36.632869957136734, 'min_data_in_leaf': 84, 'bagging_temperature': 39.813740955941256}. Best is trial 236 with value: 0.2204946060949904.\n"
     ]
    },
    {
     "name": "stdout",
     "output_type": "stream",
     "text": [
      "Repeat \u001b[1m\u001b[34m#1\n",
      "Repeat \u001b[1m\u001b[34m#2\n",
      "Repeat \u001b[1m\u001b[34m#3\n"
     ]
    },
    {
     "name": "stderr",
     "output_type": "stream",
     "text": [
      "[I 2023-06-17 16:07:35,086] Trial 519 finished with value: 0.23467776638255908 and parameters: {'bootstrap_type': 'Bayesian', 'grow_policy': 'Depthwise', 'learning_rate': 0.0379111327009932, 'l2_leaf_reg': 0.008313234323073406, 'depth': 4, 'random_strength': 31.93194307537462, 'min_data_in_leaf': 90, 'bagging_temperature': 34.50541203517409}. Best is trial 236 with value: 0.2204946060949904.\n"
     ]
    },
    {
     "name": "stdout",
     "output_type": "stream",
     "text": [
      "Repeat \u001b[1m\u001b[34m#1\n",
      "Repeat \u001b[1m\u001b[34m#2\n",
      "Repeat \u001b[1m\u001b[34m#3\n"
     ]
    },
    {
     "name": "stderr",
     "output_type": "stream",
     "text": [
      "[I 2023-06-17 16:07:49,395] Trial 520 finished with value: 0.2329532864296819 and parameters: {'bootstrap_type': 'Bayesian', 'grow_policy': 'Depthwise', 'learning_rate': 0.03059085199663566, 'l2_leaf_reg': 0.41691733884616505, 'depth': 4, 'random_strength': 37.8754090447397, 'min_data_in_leaf': 83, 'bagging_temperature': 37.72137967089386}. Best is trial 236 with value: 0.2204946060949904.\n"
     ]
    },
    {
     "name": "stdout",
     "output_type": "stream",
     "text": [
      "Repeat \u001b[1m\u001b[34m#1\n",
      "Repeat \u001b[1m\u001b[34m#2\n",
      "Repeat \u001b[1m\u001b[34m#3\n"
     ]
    },
    {
     "name": "stderr",
     "output_type": "stream",
     "text": [
      "[I 2023-06-17 16:08:03,170] Trial 521 finished with value: 0.23837628604788552 and parameters: {'bootstrap_type': 'Bayesian', 'grow_policy': 'Depthwise', 'learning_rate': 0.026916722627695778, 'l2_leaf_reg': 0.057201139683594776, 'depth': 4, 'random_strength': 35.56003718235605, 'min_data_in_leaf': 88, 'bagging_temperature': 43.254714795327395}. Best is trial 236 with value: 0.2204946060949904.\n"
     ]
    },
    {
     "name": "stdout",
     "output_type": "stream",
     "text": [
      "Repeat \u001b[1m\u001b[34m#1\n",
      "Repeat \u001b[1m\u001b[34m#2\n",
      "Repeat \u001b[1m\u001b[34m#3\n"
     ]
    },
    {
     "name": "stderr",
     "output_type": "stream",
     "text": [
      "[I 2023-06-17 16:08:44,537] Trial 522 finished with value: 0.26858309098762906 and parameters: {'bootstrap_type': 'Bayesian', 'grow_policy': 'Lossguide', 'learning_rate': 0.005228954208271162, 'l2_leaf_reg': 46.02515938867012, 'depth': 4, 'random_strength': 46.92377844310303, 'min_data_in_leaf': 91, 'bagging_temperature': 36.3726061092967, 'max_leaves': 20}. Best is trial 236 with value: 0.2204946060949904.\n"
     ]
    },
    {
     "name": "stdout",
     "output_type": "stream",
     "text": [
      "Repeat \u001b[1m\u001b[34m#1\n",
      "Repeat \u001b[1m\u001b[34m#2\n",
      "Repeat \u001b[1m\u001b[34m#3\n"
     ]
    },
    {
     "name": "stderr",
     "output_type": "stream",
     "text": [
      "[I 2023-06-17 16:08:52,768] Trial 523 finished with value: 0.2261420217747677 and parameters: {'bootstrap_type': 'Bayesian', 'grow_policy': 'Depthwise', 'learning_rate': 0.06663748674412874, 'l2_leaf_reg': 0.07123148223979435, 'depth': 4, 'random_strength': 63.73841213141103, 'min_data_in_leaf': 97, 'bagging_temperature': 33.9633634352383}. Best is trial 236 with value: 0.2204946060949904.\n"
     ]
    },
    {
     "name": "stdout",
     "output_type": "stream",
     "text": [
      "Repeat \u001b[1m\u001b[34m#1\n",
      "Repeat \u001b[1m\u001b[34m#2\n",
      "Repeat \u001b[1m\u001b[34m#3\n"
     ]
    },
    {
     "name": "stderr",
     "output_type": "stream",
     "text": [
      "[I 2023-06-17 16:08:59,097] Trial 524 finished with value: 0.2540009241698206 and parameters: {'bootstrap_type': 'Bayesian', 'grow_policy': 'Depthwise', 'learning_rate': 0.09032755353349341, 'l2_leaf_reg': 0.09448805529731999, 'depth': 4, 'random_strength': 36.14053398260731, 'min_data_in_leaf': 92, 'bagging_temperature': 41.48989242100902}. Best is trial 236 with value: 0.2204946060949904.\n"
     ]
    },
    {
     "name": "stdout",
     "output_type": "stream",
     "text": [
      "Repeat \u001b[1m\u001b[34m#1\n",
      "Repeat \u001b[1m\u001b[34m#2\n",
      "Repeat \u001b[1m\u001b[34m#3\n"
     ]
    },
    {
     "name": "stderr",
     "output_type": "stream",
     "text": [
      "[I 2023-06-17 16:09:13,116] Trial 525 finished with value: 0.2614741971679709 and parameters: {'bootstrap_type': 'Bayesian', 'grow_policy': 'Depthwise', 'learning_rate': 0.0500932371802182, 'l2_leaf_reg': 2.5748162513549824, 'depth': 4, 'random_strength': 67.27481324654059, 'min_data_in_leaf': 86, 'bagging_temperature': 51.8653457878573}. Best is trial 236 with value: 0.2204946060949904.\n"
     ]
    },
    {
     "name": "stdout",
     "output_type": "stream",
     "text": [
      "Repeat \u001b[1m\u001b[34m#1\n",
      "Repeat \u001b[1m\u001b[34m#2\n",
      "Repeat \u001b[1m\u001b[34m#3\n"
     ]
    },
    {
     "name": "stderr",
     "output_type": "stream",
     "text": [
      "[I 2023-06-17 16:09:24,712] Trial 526 finished with value: 0.23927099011765748 and parameters: {'bootstrap_type': 'Bayesian', 'grow_policy': 'Depthwise', 'learning_rate': 0.03702277007348111, 'l2_leaf_reg': 0.022340456578142834, 'depth': 4, 'random_strength': 47.6720127607119, 'min_data_in_leaf': 94, 'bagging_temperature': 39.073975516890776}. Best is trial 236 with value: 0.2204946060949904.\n"
     ]
    },
    {
     "name": "stdout",
     "output_type": "stream",
     "text": [
      "Repeat \u001b[1m\u001b[34m#1\n",
      "Repeat \u001b[1m\u001b[34m#2\n",
      "Repeat \u001b[1m\u001b[34m#3\n"
     ]
    },
    {
     "name": "stderr",
     "output_type": "stream",
     "text": [
      "[I 2023-06-17 16:10:05,998] Trial 527 finished with value: 0.2598985991002829 and parameters: {'bootstrap_type': 'MVS', 'grow_policy': 'Depthwise', 'learning_rate': 0.0062550921856097215, 'l2_leaf_reg': 0.7479819068004537, 'depth': 4, 'random_strength': 70.78031720582756, 'min_data_in_leaf': 10}. Best is trial 236 with value: 0.2204946060949904.\n"
     ]
    },
    {
     "name": "stdout",
     "output_type": "stream",
     "text": [
      "Repeat \u001b[1m\u001b[34m#1\n",
      "Repeat \u001b[1m\u001b[34m#2\n",
      "Repeat \u001b[1m\u001b[34m#3\n"
     ]
    },
    {
     "name": "stderr",
     "output_type": "stream",
     "text": [
      "[I 2023-06-17 16:10:41,877] Trial 528 finished with value: 0.2748680511562959 and parameters: {'bootstrap_type': 'Bayesian', 'grow_policy': 'Depthwise', 'learning_rate': 0.003186574332568834, 'l2_leaf_reg': 6.757250490491458e-06, 'depth': 4, 'random_strength': 60.78960158527996, 'min_data_in_leaf': 98, 'bagging_temperature': 14.230725509055297}. Best is trial 236 with value: 0.2204946060949904.\n"
     ]
    },
    {
     "name": "stdout",
     "output_type": "stream",
     "text": [
      "Repeat \u001b[1m\u001b[34m#1\n",
      "Repeat \u001b[1m\u001b[34m#2\n",
      "Repeat \u001b[1m\u001b[34m#3\n"
     ]
    },
    {
     "name": "stderr",
     "output_type": "stream",
     "text": [
      "[I 2023-06-17 16:10:45,878] Trial 529 finished with value: 0.26046235331206574 and parameters: {'bootstrap_type': 'Bayesian', 'grow_policy': 'Lossguide', 'learning_rate': 0.19813687936047214, 'l2_leaf_reg': 0.0948602390898205, 'depth': 4, 'random_strength': 75.00860294598354, 'min_data_in_leaf': 95, 'bagging_temperature': 33.23514236455368, 'max_leaves': 27}. Best is trial 236 with value: 0.2204946060949904.\n"
     ]
    },
    {
     "name": "stdout",
     "output_type": "stream",
     "text": [
      "Repeat \u001b[1m\u001b[34m#1\n",
      "Repeat \u001b[1m\u001b[34m#2\n",
      "Repeat \u001b[1m\u001b[34m#3\n"
     ]
    },
    {
     "name": "stderr",
     "output_type": "stream",
     "text": [
      "[I 2023-06-17 16:11:26,112] Trial 530 finished with value: 0.3842262101245284 and parameters: {'bootstrap_type': 'Bayesian', 'grow_policy': 'Depthwise', 'learning_rate': 0.0010791443732103873, 'l2_leaf_reg': 0.14104120174343154, 'depth': 4, 'random_strength': 33.99855569063732, 'min_data_in_leaf': 89, 'bagging_temperature': 36.09160034667132}. Best is trial 236 with value: 0.2204946060949904.\n"
     ]
    },
    {
     "name": "stdout",
     "output_type": "stream",
     "text": [
      "Repeat \u001b[1m\u001b[34m#1\n",
      "Repeat \u001b[1m\u001b[34m#2\n",
      "Repeat \u001b[1m\u001b[34m#3\n"
     ]
    },
    {
     "name": "stderr",
     "output_type": "stream",
     "text": [
      "[I 2023-06-17 16:11:39,346] Trial 531 finished with value: 0.22821857053082947 and parameters: {'bootstrap_type': 'Bayesian', 'grow_policy': 'Depthwise', 'learning_rate': 0.03275434004565037, 'l2_leaf_reg': 1.054877247628809, 'depth': 4, 'random_strength': 45.77815584794253, 'min_data_in_leaf': 92, 'bagging_temperature': 24.41517767413982}. Best is trial 236 with value: 0.2204946060949904.\n"
     ]
    },
    {
     "name": "stdout",
     "output_type": "stream",
     "text": [
      "Repeat \u001b[1m\u001b[34m#1\n",
      "Repeat \u001b[1m\u001b[34m#2\n",
      "Repeat \u001b[1m\u001b[34m#3\n"
     ]
    },
    {
     "name": "stderr",
     "output_type": "stream",
     "text": [
      "[I 2023-06-17 16:12:12,950] Trial 532 finished with value: 0.24021913497432554 and parameters: {'bootstrap_type': 'Bayesian', 'grow_policy': 'Depthwise', 'learning_rate': 0.008294788299917834, 'l2_leaf_reg': 1.5525501015553689, 'depth': 5, 'random_strength': 65.88829333064962, 'min_data_in_leaf': 100, 'bagging_temperature': 37.652206368462934}. Best is trial 236 with value: 0.2204946060949904.\n"
     ]
    },
    {
     "name": "stdout",
     "output_type": "stream",
     "text": [
      "Repeat \u001b[1m\u001b[34m#1\n",
      "Repeat \u001b[1m\u001b[34m#2\n",
      "Repeat \u001b[1m\u001b[34m#3\n"
     ]
    },
    {
     "name": "stderr",
     "output_type": "stream",
     "text": [
      "[I 2023-06-17 16:12:13,764] Trial 533 finished with value: 0.6931251577417058 and parameters: {'bootstrap_type': 'Bayesian', 'grow_policy': 'Depthwise', 'learning_rate': 0.0252945636962275, 'l2_leaf_reg': 3.167549716691495, 'depth': 4, 'random_strength': 68.2241948234276, 'min_data_in_leaf': 97, 'bagging_temperature': 61.111913805120295}. Best is trial 236 with value: 0.2204946060949904.\n"
     ]
    },
    {
     "name": "stdout",
     "output_type": "stream",
     "text": [
      "Repeat \u001b[1m\u001b[34m#1\n",
      "Repeat \u001b[1m\u001b[34m#2\n",
      "Repeat \u001b[1m\u001b[34m#3\n"
     ]
    },
    {
     "name": "stderr",
     "output_type": "stream",
     "text": [
      "[I 2023-06-17 16:12:52,040] Trial 534 finished with value: 0.5487715369632707 and parameters: {'bootstrap_type': 'Bayesian', 'grow_policy': 'Depthwise', 'learning_rate': 0.0002958794679534713, 'l2_leaf_reg': 0.042608610610378704, 'depth': 4, 'random_strength': 72.30754974088048, 'min_data_in_leaf': 94, 'bagging_temperature': 35.09722239497101}. Best is trial 236 with value: 0.2204946060949904.\n"
     ]
    },
    {
     "name": "stdout",
     "output_type": "stream",
     "text": [
      "Repeat \u001b[1m\u001b[34m#1\n",
      "Repeat \u001b[1m\u001b[34m#2\n",
      "Repeat \u001b[1m\u001b[34m#3\n"
     ]
    },
    {
     "name": "stderr",
     "output_type": "stream",
     "text": [
      "[I 2023-06-17 16:12:56,958] Trial 535 finished with value: 0.44694501214082294 and parameters: {'bootstrap_type': 'Bayesian', 'grow_policy': 'Depthwise', 'learning_rate': 0.11557614865982484, 'l2_leaf_reg': 2.944232761956996e-07, 'depth': 4, 'random_strength': 62.91941112082358, 'min_data_in_leaf': 91, 'bagging_temperature': 54.880393332087486}. Best is trial 236 with value: 0.2204946060949904.\n"
     ]
    },
    {
     "name": "stdout",
     "output_type": "stream",
     "text": [
      "Repeat \u001b[1m\u001b[34m#1\n",
      "Repeat \u001b[1m\u001b[34m#2\n",
      "Repeat \u001b[1m\u001b[34m#3\n"
     ]
    },
    {
     "name": "stderr",
     "output_type": "stream",
     "text": [
      "[I 2023-06-17 16:13:07,606] Trial 536 finished with value: 0.23628375139218152 and parameters: {'bootstrap_type': 'Bayesian', 'grow_policy': 'Depthwise', 'learning_rate': 0.04044944731711621, 'l2_leaf_reg': 0.1880932883965494, 'depth': 4, 'random_strength': 79.02573917126055, 'min_data_in_leaf': 96, 'bagging_temperature': 32.7409312573553}. Best is trial 236 with value: 0.2204946060949904.\n"
     ]
    },
    {
     "name": "stdout",
     "output_type": "stream",
     "text": [
      "Repeat \u001b[1m\u001b[34m#1\n",
      "Repeat \u001b[1m\u001b[34m#2\n",
      "Repeat \u001b[1m\u001b[34m#3\n"
     ]
    },
    {
     "name": "stderr",
     "output_type": "stream",
     "text": [
      "[I 2023-06-17 16:13:18,259] Trial 537 finished with value: 0.2622452168412321 and parameters: {'bootstrap_type': 'Bayesian', 'grow_policy': 'Depthwise', 'learning_rate': 0.031030656191853717, 'l2_leaf_reg': 0.0008456937324879048, 'depth': 4, 'random_strength': 69.61644788264321, 'min_data_in_leaf': 93, 'bagging_temperature': 47.83813746730076}. Best is trial 236 with value: 0.2204946060949904.\n"
     ]
    },
    {
     "name": "stdout",
     "output_type": "stream",
     "text": [
      "Repeat \u001b[1m\u001b[34m#1\n",
      "Repeat \u001b[1m\u001b[34m#2\n",
      "Repeat \u001b[1m\u001b[34m#3\n"
     ]
    },
    {
     "name": "stderr",
     "output_type": "stream",
     "text": [
      "[I 2023-06-17 16:13:33,277] Trial 538 finished with value: 0.2555220232285845 and parameters: {'bootstrap_type': 'Bayesian', 'grow_policy': 'Lossguide', 'learning_rate': 0.022248879233720237, 'l2_leaf_reg': 0.004823703361064329, 'depth': 4, 'random_strength': 64.62325531649935, 'min_data_in_leaf': 76, 'bagging_temperature': 45.44501879125728, 'max_leaves': 81}. Best is trial 236 with value: 0.2204946060949904.\n"
     ]
    },
    {
     "name": "stdout",
     "output_type": "stream",
     "text": [
      "Repeat \u001b[1m\u001b[34m#1\n",
      "Repeat \u001b[1m\u001b[34m#2\n",
      "Repeat \u001b[1m\u001b[34m#3\n"
     ]
    },
    {
     "name": "stderr",
     "output_type": "stream",
     "text": [
      "[I 2023-06-17 16:13:34,085] Trial 539 finished with value: 0.6935342855448631 and parameters: {'bootstrap_type': 'Bayesian', 'grow_policy': 'Depthwise', 'learning_rate': 0.07671751077308095, 'l2_leaf_reg': 71.6885659385382, 'depth': 4, 'random_strength': 2.903978456470149, 'min_data_in_leaf': 89, 'bagging_temperature': 87.46169462341336}. Best is trial 236 with value: 0.2204946060949904.\n"
     ]
    },
    {
     "name": "stdout",
     "output_type": "stream",
     "text": [
      "Repeat \u001b[1m\u001b[34m#1\n",
      "Repeat \u001b[1m\u001b[34m#2\n",
      "Repeat \u001b[1m\u001b[34m#3\n"
     ]
    },
    {
     "name": "stderr",
     "output_type": "stream",
     "text": [
      "[I 2023-06-17 16:13:37,861] Trial 540 finished with value: 0.35439605250187894 and parameters: {'bootstrap_type': 'Bernoulli', 'grow_policy': 'SymmetricTree', 'learning_rate': 0.04414263305821028, 'l2_leaf_reg': 0.0006619068038051804, 'depth': 4, 'random_strength': 58.93323328819599, 'min_data_in_leaf': 86, 'subsample': 0.9384436369646814, 'boosting_type': 'Plain'}. Best is trial 236 with value: 0.2204946060949904.\n"
     ]
    },
    {
     "name": "stdout",
     "output_type": "stream",
     "text": [
      "Repeat \u001b[1m\u001b[34m#1\n",
      "Repeat \u001b[1m\u001b[34m#2\n",
      "Repeat \u001b[1m\u001b[34m#3\n"
     ]
    },
    {
     "name": "stderr",
     "output_type": "stream",
     "text": [
      "[I 2023-06-17 16:13:46,987] Trial 541 finished with value: 0.23421413920922748 and parameters: {'bootstrap_type': 'Bayesian', 'grow_policy': 'Depthwise', 'learning_rate': 0.09129272362541137, 'l2_leaf_reg': 26.588843477862458, 'depth': 4, 'random_strength': 97.72904541677022, 'min_data_in_leaf': 95, 'bagging_temperature': 30.176945096863157}. Best is trial 236 with value: 0.2204946060949904.\n"
     ]
    },
    {
     "name": "stdout",
     "output_type": "stream",
     "text": [
      "Repeat \u001b[1m\u001b[34m#1\n",
      "Repeat \u001b[1m\u001b[34m#2\n",
      "Repeat \u001b[1m\u001b[34m#3\n"
     ]
    },
    {
     "name": "stderr",
     "output_type": "stream",
     "text": [
      "[I 2023-06-17 16:13:51,848] Trial 542 finished with value: 0.24754580371925927 and parameters: {'bootstrap_type': 'Bayesian', 'grow_policy': 'Depthwise', 'learning_rate': 0.1372253253742022, 'l2_leaf_reg': 0.2335077920841358, 'depth': 4, 'random_strength': 36.517095429942444, 'min_data_in_leaf': 98, 'bagging_temperature': 39.192700422797635}. Best is trial 236 with value: 0.2204946060949904.\n"
     ]
    },
    {
     "name": "stdout",
     "output_type": "stream",
     "text": [
      "Repeat \u001b[1m\u001b[34m#1\n",
      "Repeat \u001b[1m\u001b[34m#2\n",
      "Repeat \u001b[1m\u001b[34m#3\n"
     ]
    },
    {
     "name": "stderr",
     "output_type": "stream",
     "text": [
      "[I 2023-06-17 16:14:17,239] Trial 543 finished with value: 0.24018071195279753 and parameters: {'bootstrap_type': 'Bayesian', 'grow_policy': 'Depthwise', 'learning_rate': 0.011212239711732179, 'l2_leaf_reg': 0.030666831630671076, 'depth': 5, 'random_strength': 66.48183726924461, 'min_data_in_leaf': 91, 'bagging_temperature': 41.378047166119956}. Best is trial 236 with value: 0.2204946060949904.\n"
     ]
    },
    {
     "name": "stdout",
     "output_type": "stream",
     "text": [
      "Repeat \u001b[1m\u001b[34m#1\n",
      "Repeat \u001b[1m\u001b[34m#2\n",
      "Repeat \u001b[1m\u001b[34m#3\n"
     ]
    },
    {
     "name": "stderr",
     "output_type": "stream",
     "text": [
      "[I 2023-06-17 16:14:28,790] Trial 544 finished with value: 0.23860488179052597 and parameters: {'bootstrap_type': 'Bayesian', 'grow_policy': 'Depthwise', 'learning_rate': 0.02694833385867015, 'l2_leaf_reg': 0.0025076563033002816, 'depth': 4, 'random_strength': 61.81381443117744, 'min_data_in_leaf': 93, 'bagging_temperature': 21.404607897771115}. Best is trial 236 with value: 0.2204946060949904.\n"
     ]
    },
    {
     "name": "stdout",
     "output_type": "stream",
     "text": [
      "Repeat \u001b[1m\u001b[34m#1\n",
      "Repeat \u001b[1m\u001b[34m#2\n",
      "Repeat \u001b[1m\u001b[34m#3\n"
     ]
    },
    {
     "name": "stderr",
     "output_type": "stream",
     "text": [
      "[I 2023-06-17 16:14:37,960] Trial 545 finished with value: 0.23001827905646746 and parameters: {'bootstrap_type': 'Bayesian', 'grow_policy': 'Depthwise', 'learning_rate': 0.05898677245004542, 'l2_leaf_reg': 2.142064567125137, 'depth': 4, 'random_strength': 53.11970301926745, 'min_data_in_leaf': 96, 'bagging_temperature': 23.752606314691537}. Best is trial 236 with value: 0.2204946060949904.\n"
     ]
    },
    {
     "name": "stdout",
     "output_type": "stream",
     "text": [
      "Repeat \u001b[1m\u001b[34m#1\n",
      "Repeat \u001b[1m\u001b[34m#2\n",
      "Repeat \u001b[1m\u001b[34m#3\n"
     ]
    },
    {
     "name": "stderr",
     "output_type": "stream",
     "text": [
      "[I 2023-06-17 16:15:25,670] Trial 546 finished with value: 0.3041371250108532 and parameters: {'bootstrap_type': 'Bayesian', 'grow_policy': 'Depthwise', 'learning_rate': 0.002089347162169213, 'l2_leaf_reg': 0.7044402010302939, 'depth': 4, 'random_strength': 32.96702956550447, 'min_data_in_leaf': 49, 'bagging_temperature': 36.0515766636121}. Best is trial 236 with value: 0.2204946060949904.\n"
     ]
    },
    {
     "name": "stdout",
     "output_type": "stream",
     "text": [
      "Repeat \u001b[1m\u001b[34m#1\n",
      "Repeat \u001b[1m\u001b[34m#2\n",
      "Repeat \u001b[1m\u001b[34m#3\n"
     ]
    },
    {
     "name": "stderr",
     "output_type": "stream",
     "text": [
      "[I 2023-06-17 16:15:26,417] Trial 547 finished with value: 0.6933242752569301 and parameters: {'bootstrap_type': 'Bayesian', 'grow_policy': 'Lossguide', 'learning_rate': 0.034746986927072405, 'l2_leaf_reg': 0.00013023840083958643, 'depth': 4, 'random_strength': 71.80647344764651, 'min_data_in_leaf': 99, 'bagging_temperature': 75.55321076816006, 'max_leaves': 93}. Best is trial 236 with value: 0.2204946060949904.\n"
     ]
    },
    {
     "name": "stdout",
     "output_type": "stream",
     "text": [
      "Repeat \u001b[1m\u001b[34m#1\n",
      "Repeat \u001b[1m\u001b[34m#2\n",
      "Repeat \u001b[1m\u001b[34m#3\n"
     ]
    },
    {
     "name": "stderr",
     "output_type": "stream",
     "text": [
      "[I 2023-06-17 16:15:39,357] Trial 548 finished with value: 0.2558144028548636 and parameters: {'bootstrap_type': 'Bayesian', 'grow_policy': 'Depthwise', 'learning_rate': 0.01864656618334716, 'l2_leaf_reg': 3.2285644894165807e-06, 'depth': 4, 'random_strength': 42.296697690120254, 'min_data_in_leaf': 90, 'bagging_temperature': 33.37929522561746}. Best is trial 236 with value: 0.2204946060949904.\n"
     ]
    },
    {
     "name": "stdout",
     "output_type": "stream",
     "text": [
      "Repeat \u001b[1m\u001b[34m#1\n",
      "Repeat \u001b[1m\u001b[34m#2\n",
      "Repeat \u001b[1m\u001b[34m#3\n"
     ]
    },
    {
     "name": "stderr",
     "output_type": "stream",
     "text": [
      "[I 2023-06-17 16:15:49,504] Trial 549 finished with value: 0.2328364826755723 and parameters: {'bootstrap_type': 'MVS', 'grow_policy': 'Depthwise', 'learning_rate': 0.02860100715778086, 'l2_leaf_reg': 4.973171365715263, 'depth': 6, 'random_strength': 69.18430732320827, 'min_data_in_leaf': 94}. Best is trial 236 with value: 0.2204946060949904.\n"
     ]
    },
    {
     "name": "stdout",
     "output_type": "stream",
     "text": [
      "Repeat \u001b[1m\u001b[34m#1\n",
      "Repeat \u001b[1m\u001b[34m#2\n",
      "Repeat \u001b[1m\u001b[34m#3\n"
     ]
    },
    {
     "name": "stderr",
     "output_type": "stream",
     "text": [
      "[I 2023-06-17 16:16:10,353] Trial 550 finished with value: 0.6012877326561483 and parameters: {'bootstrap_type': 'Bayesian', 'grow_policy': 'Depthwise', 'learning_rate': 0.0007877080328625444, 'l2_leaf_reg': 0.43659918734177416, 'depth': 4, 'random_strength': 73.47649283039691, 'min_data_in_leaf': 88, 'bagging_temperature': 50.39640989079989}. Best is trial 236 with value: 0.2204946060949904.\n"
     ]
    },
    {
     "name": "stdout",
     "output_type": "stream",
     "text": [
      "Repeat \u001b[1m\u001b[34m#1\n",
      "Repeat \u001b[1m\u001b[34m#2\n",
      "Repeat \u001b[1m\u001b[34m#3\n"
     ]
    },
    {
     "name": "stderr",
     "output_type": "stream",
     "text": [
      "[I 2023-06-17 16:16:11,133] Trial 551 finished with value: 0.6936505061463917 and parameters: {'bootstrap_type': 'Bayesian', 'grow_policy': 'Depthwise', 'learning_rate': 0.09806540393834338, 'l2_leaf_reg': 1.4830569789227175, 'depth': 4, 'random_strength': 77.32381406436326, 'min_data_in_leaf': 82, 'bagging_temperature': 94.12355399055838}. Best is trial 236 with value: 0.2204946060949904.\n"
     ]
    },
    {
     "name": "stdout",
     "output_type": "stream",
     "text": [
      "Repeat \u001b[1m\u001b[34m#1\n",
      "Repeat \u001b[1m\u001b[34m#2\n",
      "Repeat \u001b[1m\u001b[34m#3\n"
     ]
    },
    {
     "name": "stderr",
     "output_type": "stream",
     "text": [
      "[I 2023-06-17 16:16:37,556] Trial 552 finished with value: 0.2323774537129363 and parameters: {'bootstrap_type': 'Bayesian', 'grow_policy': 'Depthwise', 'learning_rate': 0.02381021829200663, 'l2_leaf_reg': 46.48051718586343, 'depth': 4, 'random_strength': 64.68163015611462, 'min_data_in_leaf': 62, 'bagging_temperature': 26.80520152462019}. Best is trial 236 with value: 0.2204946060949904.\n"
     ]
    },
    {
     "name": "stdout",
     "output_type": "stream",
     "text": [
      "Repeat \u001b[1m\u001b[34m#1\n",
      "Repeat \u001b[1m\u001b[34m#2\n",
      "Repeat \u001b[1m\u001b[34m#3\n"
     ]
    },
    {
     "name": "stderr",
     "output_type": "stream",
     "text": [
      "[I 2023-06-17 16:16:48,695] Trial 553 finished with value: 0.22529360989789513 and parameters: {'bootstrap_type': 'Bayesian', 'grow_policy': 'Depthwise', 'learning_rate': 0.049855861841444436, 'l2_leaf_reg': 3.0125640553646984, 'depth': 4, 'random_strength': 49.763897777491295, 'min_data_in_leaf': 97, 'bagging_temperature': 29.68658708263791}. Best is trial 236 with value: 0.2204946060949904.\n"
     ]
    },
    {
     "name": "stdout",
     "output_type": "stream",
     "text": [
      "Repeat \u001b[1m\u001b[34m#1\n",
      "Repeat \u001b[1m\u001b[34m#2\n",
      "Repeat \u001b[1m\u001b[34m#3\n"
     ]
    },
    {
     "name": "stderr",
     "output_type": "stream",
     "text": [
      "[I 2023-06-17 16:17:24,346] Trial 554 finished with value: 0.6239659814257051 and parameters: {'bootstrap_type': 'Bayesian', 'grow_policy': 'Depthwise', 'learning_rate': 0.00012451263649253502, 'l2_leaf_reg': 0.028386087218968, 'depth': 4, 'random_strength': 48.715005187562724, 'min_data_in_leaf': 100, 'bagging_temperature': 13.41512080842466}. Best is trial 236 with value: 0.2204946060949904.\n"
     ]
    },
    {
     "name": "stdout",
     "output_type": "stream",
     "text": [
      "Repeat \u001b[1m\u001b[34m#1\n",
      "Repeat \u001b[1m\u001b[34m#2\n",
      "Repeat \u001b[1m\u001b[34m#3\n"
     ]
    },
    {
     "name": "stderr",
     "output_type": "stream",
     "text": [
      "[I 2023-06-17 16:17:29,874] Trial 555 finished with value: 0.24526261432202445 and parameters: {'bootstrap_type': 'Bayesian', 'grow_policy': 'Depthwise', 'learning_rate': 0.06138810388984627, 'l2_leaf_reg': 6.689075839309307e-05, 'depth': 4, 'random_strength': 41.15004675799649, 'min_data_in_leaf': 97, 'bagging_temperature': 30.52079504313823}. Best is trial 236 with value: 0.2204946060949904.\n"
     ]
    },
    {
     "name": "stdout",
     "output_type": "stream",
     "text": [
      "Repeat \u001b[1m\u001b[34m#1\n",
      "Repeat \u001b[1m\u001b[34m#2\n",
      "Repeat \u001b[1m\u001b[34m#3\n"
     ]
    },
    {
     "name": "stderr",
     "output_type": "stream",
     "text": [
      "[I 2023-06-17 16:17:39,837] Trial 556 finished with value: 0.23666106519927999 and parameters: {'bootstrap_type': 'Bayesian', 'grow_policy': 'Lossguide', 'learning_rate': 0.05063548681507927, 'l2_leaf_reg': 2.6136722791952827, 'depth': 4, 'random_strength': 44.58762163554253, 'min_data_in_leaf': 98, 'bagging_temperature': 34.79717211039588, 'max_leaves': 8}. Best is trial 236 with value: 0.2204946060949904.\n"
     ]
    },
    {
     "name": "stdout",
     "output_type": "stream",
     "text": [
      "Repeat \u001b[1m\u001b[34m#1\n",
      "Repeat \u001b[1m\u001b[34m#2\n",
      "Repeat \u001b[1m\u001b[34m#3\n"
     ]
    },
    {
     "name": "stderr",
     "output_type": "stream",
     "text": [
      "[I 2023-06-17 16:17:50,896] Trial 557 finished with value: 0.2306430605432397 and parameters: {'bootstrap_type': 'Bayesian', 'grow_policy': 'Depthwise', 'learning_rate': 0.043913655606935914, 'l2_leaf_reg': 0.9461901535957857, 'depth': 4, 'random_strength': 51.57706482463251, 'min_data_in_leaf': 96, 'bagging_temperature': 19.47097153481909}. Best is trial 236 with value: 0.2204946060949904.\n"
     ]
    },
    {
     "name": "stdout",
     "output_type": "stream",
     "text": [
      "Repeat \u001b[1m\u001b[34m#1\n",
      "Repeat \u001b[1m\u001b[34m#2\n",
      "Repeat \u001b[1m\u001b[34m#3\n"
     ]
    },
    {
     "name": "stderr",
     "output_type": "stream",
     "text": [
      "[I 2023-06-17 16:18:28,338] Trial 558 finished with value: 0.3530451046068965 and parameters: {'bootstrap_type': 'Bayesian', 'grow_policy': 'Depthwise', 'learning_rate': 0.0014188146538916969, 'l2_leaf_reg': 1.0117567083490861e-07, 'depth': 4, 'random_strength': 56.90130984643294, 'min_data_in_leaf': 92, 'bagging_temperature': 37.426784945570915}. Best is trial 236 with value: 0.2204946060949904.\n"
     ]
    },
    {
     "name": "stdout",
     "output_type": "stream",
     "text": [
      "Repeat \u001b[1m\u001b[34m#1\n",
      "Repeat \u001b[1m\u001b[34m#2\n",
      "Repeat \u001b[1m\u001b[34m#3\n"
     ]
    },
    {
     "name": "stderr",
     "output_type": "stream",
     "text": [
      "[I 2023-06-17 16:18:33,520] Trial 559 finished with value: 0.2697877690843113 and parameters: {'bootstrap_type': 'Bayesian', 'grow_policy': 'Depthwise', 'learning_rate': 0.07044190240302106, 'l2_leaf_reg': 1.149733204950913e-05, 'depth': 4, 'random_strength': 56.64555829279705, 'min_data_in_leaf': 100, 'bagging_temperature': 32.39646218163297}. Best is trial 236 with value: 0.2204946060949904.\n"
     ]
    },
    {
     "name": "stdout",
     "output_type": "stream",
     "text": [
      "Repeat \u001b[1m\u001b[34m#1\n",
      "Repeat \u001b[1m\u001b[34m#2\n",
      "Repeat \u001b[1m\u001b[34m#3\n"
     ]
    },
    {
     "name": "stderr",
     "output_type": "stream",
     "text": [
      "[I 2023-06-17 16:18:40,683] Trial 560 finished with value: 0.2532139526696458 and parameters: {'bootstrap_type': 'Bayesian', 'grow_policy': 'Depthwise', 'learning_rate': 0.052638139970761104, 'l2_leaf_reg': 0.006957976816225623, 'depth': 4, 'random_strength': 51.55973145966446, 'min_data_in_leaf': 95, 'bagging_temperature': 42.94945265945412}. Best is trial 236 with value: 0.2204946060949904.\n"
     ]
    },
    {
     "name": "stdout",
     "output_type": "stream",
     "text": [
      "Repeat \u001b[1m\u001b[34m#1\n",
      "Repeat \u001b[1m\u001b[34m#2\n",
      "Repeat \u001b[1m\u001b[34m#3\n"
     ]
    },
    {
     "name": "stderr",
     "output_type": "stream",
     "text": [
      "[I 2023-06-17 16:18:47,765] Trial 561 finished with value: 0.24879676320079425 and parameters: {'bootstrap_type': 'Bayesian', 'grow_policy': 'Depthwise', 'learning_rate': 0.046101875941450966, 'l2_leaf_reg': 0.0004150913672636261, 'depth': 4, 'random_strength': 47.4200257749566, 'min_data_in_leaf': 93, 'bagging_temperature': 39.521457450774946}. Best is trial 236 with value: 0.2204946060949904.\n"
     ]
    },
    {
     "name": "stdout",
     "output_type": "stream",
     "text": [
      "Repeat \u001b[1m\u001b[34m#1\n",
      "Repeat \u001b[1m\u001b[34m#2\n",
      "Repeat \u001b[1m\u001b[34m#3\n"
     ]
    },
    {
     "name": "stderr",
     "output_type": "stream",
     "text": [
      "[I 2023-06-17 16:20:55,040] Trial 562 finished with value: 0.6298684272319169 and parameters: {'bootstrap_type': 'Bernoulli', 'grow_policy': 'SymmetricTree', 'learning_rate': 0.00019008560614486387, 'l2_leaf_reg': 24.523218576982, 'depth': 4, 'random_strength': 54.37734397921628, 'min_data_in_leaf': 98, 'subsample': 0.6351893645772481, 'boosting_type': 'Ordered'}. Best is trial 236 with value: 0.2204946060949904.\n"
     ]
    },
    {
     "name": "stdout",
     "output_type": "stream",
     "text": [
      "Repeat \u001b[1m\u001b[34m#1\n",
      "Repeat \u001b[1m\u001b[34m#2\n",
      "Repeat \u001b[1m\u001b[34m#3\n"
     ]
    },
    {
     "name": "stderr",
     "output_type": "stream",
     "text": [
      "[I 2023-06-17 16:21:06,272] Trial 563 finished with value: 0.23298346126106792 and parameters: {'bootstrap_type': 'Bayesian', 'grow_policy': 'Depthwise', 'learning_rate': 0.03805521256473191, 'l2_leaf_reg': 1.8560357798648421, 'depth': 4, 'random_strength': 60.586961836204466, 'min_data_in_leaf': 90, 'bagging_temperature': 28.82511750902959}. Best is trial 236 with value: 0.2204946060949904.\n"
     ]
    },
    {
     "name": "stdout",
     "output_type": "stream",
     "text": [
      "Repeat \u001b[1m\u001b[34m#1\n",
      "Repeat \u001b[1m\u001b[34m#2\n",
      "Repeat \u001b[1m\u001b[34m#3\n"
     ]
    },
    {
     "name": "stderr",
     "output_type": "stream",
     "text": [
      "[I 2023-06-17 16:21:39,171] Trial 564 finished with value: 0.2743555596255148 and parameters: {'bootstrap_type': 'Bayesian', 'grow_policy': 'Depthwise', 'learning_rate': 0.004006502634472562, 'l2_leaf_reg': 5.554183386451378e-05, 'depth': 4, 'random_strength': 80.39872744464016, 'min_data_in_leaf': 87, 'bagging_temperature': 34.1721692303653}. Best is trial 236 with value: 0.2204946060949904.\n"
     ]
    },
    {
     "name": "stdout",
     "output_type": "stream",
     "text": [
      "Repeat \u001b[1m\u001b[34m#1\n",
      "Repeat \u001b[1m\u001b[34m#2\n",
      "Repeat \u001b[1m\u001b[34m#3\n"
     ]
    },
    {
     "name": "stderr",
     "output_type": "stream",
     "text": [
      "[I 2023-06-17 16:21:39,905] Trial 565 finished with value: 0.6935720494968497 and parameters: {'bootstrap_type': 'Bayesian', 'grow_policy': 'Lossguide', 'learning_rate': 0.08283608466801393, 'l2_leaf_reg': 0.0014294669763097003, 'depth': 4, 'random_strength': 44.21988186758523, 'min_data_in_leaf': 96, 'bagging_temperature': 97.83183512368288, 'max_leaves': 72}. Best is trial 236 with value: 0.2204946060949904.\n"
     ]
    },
    {
     "name": "stdout",
     "output_type": "stream",
     "text": [
      "Repeat \u001b[1m\u001b[34m#1\n",
      "Repeat \u001b[1m\u001b[34m#2\n",
      "Repeat \u001b[1m\u001b[34m#3\n"
     ]
    },
    {
     "name": "stderr",
     "output_type": "stream",
     "text": [
      "[I 2023-06-17 16:21:48,749] Trial 566 finished with value: 0.2280614561193377 and parameters: {'bootstrap_type': 'Bayesian', 'grow_policy': 'Depthwise', 'learning_rate': 0.06424318098743174, 'l2_leaf_reg': 6.047064669510758, 'depth': 4, 'random_strength': 40.88434812036839, 'min_data_in_leaf': 94, 'bagging_temperature': 31.60450487964998}. Best is trial 236 with value: 0.2204946060949904.\n"
     ]
    },
    {
     "name": "stdout",
     "output_type": "stream",
     "text": [
      "Repeat \u001b[1m\u001b[34m#1\n",
      "Repeat \u001b[1m\u001b[34m#2\n",
      "Repeat \u001b[1m\u001b[34m#3\n"
     ]
    },
    {
     "name": "stderr",
     "output_type": "stream",
     "text": [
      "[I 2023-06-17 16:22:12,753] Trial 567 finished with value: 0.23369007786920573 and parameters: {'bootstrap_type': 'Bayesian', 'grow_policy': 'Depthwise', 'learning_rate': 0.01503852085400565, 'l2_leaf_reg': 1.1437372391726297, 'depth': 5, 'random_strength': 55.5225645462691, 'min_data_in_leaf': 92, 'bagging_temperature': 36.61243287787409}. Best is trial 236 with value: 0.2204946060949904.\n"
     ]
    },
    {
     "name": "stdout",
     "output_type": "stream",
     "text": [
      "Repeat \u001b[1m\u001b[34m#1\n",
      "Repeat \u001b[1m\u001b[34m#2\n",
      "Repeat \u001b[1m\u001b[34m#3\n"
     ]
    },
    {
     "name": "stderr",
     "output_type": "stream",
     "text": [
      "[I 2023-06-17 16:22:13,530] Trial 568 finished with value: 0.6937492854527848 and parameters: {'bootstrap_type': 'Bayesian', 'grow_policy': 'Depthwise', 'learning_rate': 0.11691168110968471, 'l2_leaf_reg': 0.0007675226672269164, 'depth': 4, 'random_strength': 37.39030090920177, 'min_data_in_leaf': 64, 'bagging_temperature': 88.21601898423546}. Best is trial 236 with value: 0.2204946060949904.\n"
     ]
    },
    {
     "name": "stdout",
     "output_type": "stream",
     "text": [
      "Repeat \u001b[1m\u001b[34m#1\n",
      "Repeat \u001b[1m\u001b[34m#2\n",
      "Repeat \u001b[1m\u001b[34m#3\n"
     ]
    },
    {
     "name": "stderr",
     "output_type": "stream",
     "text": [
      "[I 2023-06-17 16:22:24,380] Trial 569 finished with value: 0.23361302254479166 and parameters: {'bootstrap_type': 'Bayesian', 'grow_policy': 'Depthwise', 'learning_rate': 0.037097969220501015, 'l2_leaf_reg': 0.6089276628906151, 'depth': 4, 'random_strength': 76.35496207181309, 'min_data_in_leaf': 98, 'bagging_temperature': 17.563884253276584}. Best is trial 236 with value: 0.2204946060949904.\n"
     ]
    },
    {
     "name": "stdout",
     "output_type": "stream",
     "text": [
      "Repeat \u001b[1m\u001b[34m#1\n",
      "Repeat \u001b[1m\u001b[34m#2\n",
      "Repeat \u001b[1m\u001b[34m#3\n"
     ]
    },
    {
     "name": "stderr",
     "output_type": "stream",
     "text": [
      "[I 2023-06-17 16:22:27,114] Trial 570 finished with value: 0.30819467889552743 and parameters: {'bootstrap_type': 'Bayesian', 'grow_policy': 'Depthwise', 'learning_rate': 0.20934211493029192, 'l2_leaf_reg': 3.759805880912428e-05, 'depth': 4, 'random_strength': 27.70158206495084, 'min_data_in_leaf': 85, 'bagging_temperature': 49.17483429202673}. Best is trial 236 with value: 0.2204946060949904.\n"
     ]
    },
    {
     "name": "stdout",
     "output_type": "stream",
     "text": [
      "Repeat \u001b[1m\u001b[34m#1\n",
      "Repeat \u001b[1m\u001b[34m#2\n",
      "Repeat \u001b[1m\u001b[34m#3\n"
     ]
    },
    {
     "name": "stderr",
     "output_type": "stream",
     "text": [
      "[I 2023-06-17 16:23:03,300] Trial 571 finished with value: 0.2447475385302501 and parameters: {'bootstrap_type': 'Bayesian', 'grow_policy': 'Depthwise', 'learning_rate': 0.006582768242427266, 'l2_leaf_reg': 3.5495884064654497, 'depth': 4, 'random_strength': 61.77593180945517, 'min_data_in_leaf': 95, 'bagging_temperature': 38.39549711492949}. Best is trial 236 with value: 0.2204946060949904.\n"
     ]
    },
    {
     "name": "stdout",
     "output_type": "stream",
     "text": [
      "Repeat \u001b[1m\u001b[34m#1\n",
      "Repeat \u001b[1m\u001b[34m#2\n",
      "Repeat \u001b[1m\u001b[34m#3\n"
     ]
    },
    {
     "name": "stderr",
     "output_type": "stream",
     "text": [
      "[I 2023-06-17 16:23:41,540] Trial 572 finished with value: 0.4568850617375517 and parameters: {'bootstrap_type': 'Bayesian', 'grow_policy': 'Depthwise', 'learning_rate': 0.0006136855333409398, 'l2_leaf_reg': 0.33355171172666837, 'depth': 4, 'random_strength': 58.23109328204976, 'min_data_in_leaf': 90, 'bagging_temperature': 20.801924803292064}. Best is trial 236 with value: 0.2204946060949904.\n"
     ]
    },
    {
     "name": "stdout",
     "output_type": "stream",
     "text": [
      "Repeat \u001b[1m\u001b[34m#1\n",
      "Repeat \u001b[1m\u001b[34m#2\n",
      "Repeat \u001b[1m\u001b[34m#3\n"
     ]
    },
    {
     "name": "stderr",
     "output_type": "stream",
     "text": [
      "[I 2023-06-17 16:24:17,734] Trial 573 finished with value: 0.652674582677819 and parameters: {'bootstrap_type': 'MVS', 'grow_policy': 'Depthwise', 'learning_rate': 0.000108950008109357, 'l2_leaf_reg': 0.07253450271605977, 'depth': 4, 'random_strength': 50.512349295358646, 'min_data_in_leaf': 92}. Best is trial 236 with value: 0.2204946060949904.\n"
     ]
    },
    {
     "name": "stdout",
     "output_type": "stream",
     "text": [
      "Repeat \u001b[1m\u001b[34m#1\n",
      "Repeat \u001b[1m\u001b[34m#2\n",
      "Repeat \u001b[1m\u001b[34m#3\n"
     ]
    },
    {
     "name": "stderr",
     "output_type": "stream",
     "text": [
      "[I 2023-06-17 16:24:46,551] Trial 574 finished with value: 0.2954194157645838 and parameters: {'bootstrap_type': 'Bayesian', 'grow_policy': 'Lossguide', 'learning_rate': 0.004934590094290708, 'l2_leaf_reg': 13.150730049631195, 'depth': 4, 'random_strength': 31.49557342512579, 'min_data_in_leaf': 96, 'bagging_temperature': 46.198613571499195, 'max_leaves': 33}. Best is trial 236 with value: 0.2204946060949904.\n"
     ]
    },
    {
     "name": "stdout",
     "output_type": "stream",
     "text": [
      "Repeat \u001b[1m\u001b[34m#1\n",
      "Repeat \u001b[1m\u001b[34m#2\n",
      "Repeat \u001b[1m\u001b[34m#3\n"
     ]
    },
    {
     "name": "stderr",
     "output_type": "stream",
     "text": [
      "[I 2023-06-17 16:24:51,064] Trial 575 finished with value: 0.23231564848325484 and parameters: {'bootstrap_type': 'Bayesian', 'grow_policy': 'Depthwise', 'learning_rate': 0.15937049637799336, 'l2_leaf_reg': 2.506133471365206, 'depth': 4, 'random_strength': 74.82015823105004, 'min_data_in_leaf': 94, 'bagging_temperature': 35.16058602143921}. Best is trial 236 with value: 0.2204946060949904.\n"
     ]
    },
    {
     "name": "stdout",
     "output_type": "stream",
     "text": [
      "Repeat \u001b[1m\u001b[34m#1\n",
      "Repeat \u001b[1m\u001b[34m#2\n",
      "Repeat \u001b[1m\u001b[34m#3\n"
     ]
    },
    {
     "name": "stderr",
     "output_type": "stream",
     "text": [
      "[I 2023-06-17 16:25:10,523] Trial 576 finished with value: 0.22920944499256565 and parameters: {'bootstrap_type': 'Bayesian', 'grow_policy': 'Depthwise', 'learning_rate': 0.054092315649209834, 'l2_leaf_reg': 41.80230513336472, 'depth': 7, 'random_strength': 63.92600317102438, 'min_data_in_leaf': 98, 'bagging_temperature': 29.752738825234665}. Best is trial 236 with value: 0.2204946060949904.\n"
     ]
    },
    {
     "name": "stdout",
     "output_type": "stream",
     "text": [
      "Repeat \u001b[1m\u001b[34m#1\n",
      "Repeat \u001b[1m\u001b[34m#2\n",
      "Repeat \u001b[1m\u001b[34m#3\n"
     ]
    },
    {
     "name": "stderr",
     "output_type": "stream",
     "text": [
      "[I 2023-06-17 16:25:49,512] Trial 577 finished with value: 0.3034308140018524 and parameters: {'bootstrap_type': 'Bayesian', 'grow_policy': 'Depthwise', 'learning_rate': 0.002893356648222498, 'l2_leaf_reg': 18.38401914377662, 'depth': 4, 'random_strength': 46.56091372343836, 'min_data_in_leaf': 88, 'bagging_temperature': 40.60183268890938}. Best is trial 236 with value: 0.2204946060949904.\n"
     ]
    },
    {
     "name": "stdout",
     "output_type": "stream",
     "text": [
      "Repeat \u001b[1m\u001b[34m#1\n",
      "Repeat \u001b[1m\u001b[34m#2\n",
      "Repeat \u001b[1m\u001b[34m#3\n"
     ]
    },
    {
     "name": "stderr",
     "output_type": "stream",
     "text": [
      "[I 2023-06-17 16:26:06,231] Trial 578 finished with value: 0.2315324958902694 and parameters: {'bootstrap_type': 'Bayesian', 'grow_policy': 'Depthwise', 'learning_rate': 0.031920532435946, 'l2_leaf_reg': 7.77499639142059, 'depth': 4, 'random_strength': 81.93759214601695, 'min_data_in_leaf': 57, 'bagging_temperature': 32.78789642761965}. Best is trial 236 with value: 0.2204946060949904.\n"
     ]
    },
    {
     "name": "stdout",
     "output_type": "stream",
     "text": [
      "Repeat \u001b[1m\u001b[34m#1\n",
      "Repeat \u001b[1m\u001b[34m#2\n",
      "Repeat \u001b[1m\u001b[34m#3\n"
     ]
    },
    {
     "name": "stderr",
     "output_type": "stream",
     "text": [
      "[I 2023-06-17 16:26:14,995] Trial 579 finished with value: 0.225627308982875 and parameters: {'bootstrap_type': 'Bayesian', 'grow_policy': 'Depthwise', 'learning_rate': 0.042946154275135685, 'l2_leaf_reg': 0.010615549951959983, 'depth': 4, 'random_strength': 83.66118807012833, 'min_data_in_leaf': 100, 'bagging_temperature': 36.473335388150545}. Best is trial 236 with value: 0.2204946060949904.\n"
     ]
    },
    {
     "name": "stdout",
     "output_type": "stream",
     "text": [
      "Repeat \u001b[1m\u001b[34m#1\n",
      "Repeat \u001b[1m\u001b[34m#2\n",
      "Repeat \u001b[1m\u001b[34m#3\n"
     ]
    },
    {
     "name": "stderr",
     "output_type": "stream",
     "text": [
      "[I 2023-06-17 16:27:09,389] Trial 580 finished with value: 0.26803917790057713 and parameters: {'bootstrap_type': 'Bayesian', 'grow_policy': 'Depthwise', 'learning_rate': 0.003286549249849426, 'l2_leaf_reg': 1.3728399488451295, 'depth': 4, 'random_strength': 49.080209936595466, 'min_data_in_leaf': 21, 'bagging_temperature': 33.568711034801716}. Best is trial 236 with value: 0.2204946060949904.\n"
     ]
    },
    {
     "name": "stdout",
     "output_type": "stream",
     "text": [
      "Repeat \u001b[1m\u001b[34m#1\n",
      "Repeat \u001b[1m\u001b[34m#2\n",
      "Repeat \u001b[1m\u001b[34m#3\n"
     ]
    },
    {
     "name": "stderr",
     "output_type": "stream",
     "text": [
      "[I 2023-06-17 16:27:38,116] Trial 581 finished with value: 0.2401653419647279 and parameters: {'bootstrap_type': 'Bayesian', 'grow_policy': 'Depthwise', 'learning_rate': 0.008389553464230117, 'l2_leaf_reg': 0.13707612725880522, 'depth': 4, 'random_strength': 67.15490980939562, 'min_data_in_leaf': 91, 'bagging_temperature': 31.180264936544265}. Best is trial 236 with value: 0.2204946060949904.\n"
     ]
    },
    {
     "name": "stdout",
     "output_type": "stream",
     "text": [
      "Repeat \u001b[1m\u001b[34m#1\n",
      "Repeat \u001b[1m\u001b[34m#2\n",
      "Repeat \u001b[1m\u001b[34m#3\n"
     ]
    },
    {
     "name": "stderr",
     "output_type": "stream",
     "text": [
      "[I 2023-06-17 16:27:44,703] Trial 582 finished with value: 0.24102820827684432 and parameters: {'bootstrap_type': 'Bayesian', 'grow_policy': 'Lossguide', 'learning_rate': 0.10167703650840085, 'l2_leaf_reg': 4.974884500951875, 'depth': 4, 'random_strength': 69.40417048049007, 'min_data_in_leaf': 93, 'bagging_temperature': 43.426643904611375, 'max_leaves': 79}. Best is trial 236 with value: 0.2204946060949904.\n"
     ]
    },
    {
     "name": "stdout",
     "output_type": "stream",
     "text": [
      "Repeat \u001b[1m\u001b[34m#1\n",
      "Repeat \u001b[1m\u001b[34m#2\n",
      "Repeat \u001b[1m\u001b[34m#3\n"
     ]
    },
    {
     "name": "stderr",
     "output_type": "stream",
     "text": [
      "[I 2023-06-17 16:27:52,678] Trial 583 finished with value: 0.24464352021219257 and parameters: {'bootstrap_type': 'Bayesian', 'grow_policy': 'Depthwise', 'learning_rate': 0.07592569604291538, 'l2_leaf_reg': 2.827831402667852, 'depth': 6, 'random_strength': 59.87802565337314, 'min_data_in_leaf': 97, 'bagging_temperature': 38.404131707461886}. Best is trial 236 with value: 0.2204946060949904.\n"
     ]
    },
    {
     "name": "stdout",
     "output_type": "stream",
     "text": [
      "Repeat \u001b[1m\u001b[34m#1\n",
      "Repeat \u001b[1m\u001b[34m#2\n",
      "Repeat \u001b[1m\u001b[34m#3\n"
     ]
    },
    {
     "name": "stderr",
     "output_type": "stream",
     "text": [
      "[I 2023-06-17 16:27:59,277] Trial 584 finished with value: 0.2362954893416823 and parameters: {'bootstrap_type': 'Bernoulli', 'grow_policy': 'SymmetricTree', 'learning_rate': 0.1307266073844439, 'l2_leaf_reg': 61.94933413555341, 'depth': 4, 'random_strength': 96.9622211387419, 'min_data_in_leaf': 94, 'subsample': 0.8413755630194867, 'boosting_type': 'Plain'}. Best is trial 236 with value: 0.2204946060949904.\n"
     ]
    },
    {
     "name": "stdout",
     "output_type": "stream",
     "text": [
      "Repeat \u001b[1m\u001b[34m#1\n",
      "Repeat \u001b[1m\u001b[34m#2\n",
      "Repeat \u001b[1m\u001b[34m#3\n"
     ]
    },
    {
     "name": "stderr",
     "output_type": "stream",
     "text": [
      "[I 2023-06-17 16:28:17,312] Trial 585 finished with value: 0.23667865779101518 and parameters: {'bootstrap_type': 'Bayesian', 'grow_policy': 'Depthwise', 'learning_rate': 0.02148448114406648, 'l2_leaf_reg': 0.8311175536891773, 'depth': 4, 'random_strength': 71.04548267690906, 'min_data_in_leaf': 79, 'bagging_temperature': 25.997019465785073}. Best is trial 236 with value: 0.2204946060949904.\n"
     ]
    },
    {
     "name": "stdout",
     "output_type": "stream",
     "text": [
      "Repeat \u001b[1m\u001b[34m#1\n",
      "Repeat \u001b[1m\u001b[34m#2\n",
      "Repeat \u001b[1m\u001b[34m#3\n"
     ]
    },
    {
     "name": "stderr",
     "output_type": "stream",
     "text": [
      "[I 2023-06-17 16:28:18,144] Trial 586 finished with value: 0.6932100124681204 and parameters: {'bootstrap_type': 'Bayesian', 'grow_policy': 'Depthwise', 'learning_rate': 0.012363297014577949, 'l2_leaf_reg': 0.00010386940584219284, 'depth': 4, 'random_strength': 65.96457886449191, 'min_data_in_leaf': 89, 'bagging_temperature': 65.48057811495536}. Best is trial 236 with value: 0.2204946060949904.\n"
     ]
    },
    {
     "name": "stdout",
     "output_type": "stream",
     "text": [
      "Repeat \u001b[1m\u001b[34m#1\n",
      "Repeat \u001b[1m\u001b[34m#2\n",
      "Repeat \u001b[1m\u001b[34m#3\n"
     ]
    },
    {
     "name": "stderr",
     "output_type": "stream",
     "text": [
      "[I 2023-06-17 16:28:26,868] Trial 587 finished with value: 0.23765988595033108 and parameters: {'bootstrap_type': 'Bayesian', 'grow_policy': 'Depthwise', 'learning_rate': 0.03671504138067962, 'l2_leaf_reg': 0.00017340597557783597, 'depth': 4, 'random_strength': 73.35737655543231, 'min_data_in_leaf': 96, 'bagging_temperature': 12.849584269502591}. Best is trial 236 with value: 0.2204946060949904.\n"
     ]
    },
    {
     "name": "stdout",
     "output_type": "stream",
     "text": [
      "Repeat \u001b[1m\u001b[34m#1\n",
      "Repeat \u001b[1m\u001b[34m#2\n",
      "Repeat \u001b[1m\u001b[34m#3\n"
     ]
    },
    {
     "name": "stderr",
     "output_type": "stream",
     "text": [
      "[I 2023-06-17 16:28:45,416] Trial 588 finished with value: 0.2341847480690874 and parameters: {'bootstrap_type': 'Bayesian', 'grow_policy': 'Depthwise', 'learning_rate': 0.025502863127721605, 'l2_leaf_reg': 10.720923649515324, 'depth': 5, 'random_strength': 40.05308791902224, 'min_data_in_leaf': 92, 'bagging_temperature': 22.60891668216223}. Best is trial 236 with value: 0.2204946060949904.\n"
     ]
    },
    {
     "name": "stdout",
     "output_type": "stream",
     "text": [
      "Repeat \u001b[1m\u001b[34m#1\n",
      "Repeat \u001b[1m\u001b[34m#2\n",
      "Repeat \u001b[1m\u001b[34m#3\n"
     ]
    },
    {
     "name": "stderr",
     "output_type": "stream",
     "text": [
      "[I 2023-06-17 16:29:02,229] Trial 589 finished with value: 0.23289192560701535 and parameters: {'bootstrap_type': 'Bayesian', 'grow_policy': 'Depthwise', 'learning_rate': 0.06664289024383913, 'l2_leaf_reg': 91.04294122564899, 'depth': 4, 'random_strength': 42.86625332342621, 'min_data_in_leaf': 83, 'bagging_temperature': 35.37016600062497}. Best is trial 236 with value: 0.2204946060949904.\n"
     ]
    },
    {
     "name": "stdout",
     "output_type": "stream",
     "text": [
      "Repeat \u001b[1m\u001b[34m#1\n",
      "Repeat \u001b[1m\u001b[34m#2\n",
      "Repeat \u001b[1m\u001b[34m#3\n"
     ]
    },
    {
     "name": "stderr",
     "output_type": "stream",
     "text": [
      "[I 2023-06-17 16:29:11,542] Trial 590 finished with value: 0.22960726107268672 and parameters: {'bootstrap_type': 'Bayesian', 'grow_policy': 'Depthwise', 'learning_rate': 0.04984304754092586, 'l2_leaf_reg': 1.6891967721788834, 'depth': 4, 'random_strength': 53.840532465164856, 'min_data_in_leaf': 86, 'bagging_temperature': 16.90721911637143}. Best is trial 236 with value: 0.2204946060949904.\n"
     ]
    },
    {
     "name": "stdout",
     "output_type": "stream",
     "text": [
      "Repeat \u001b[1m\u001b[34m#1\n",
      "Repeat \u001b[1m\u001b[34m#2\n",
      "Repeat \u001b[1m\u001b[34m#3\n"
     ]
    },
    {
     "name": "stderr",
     "output_type": "stream",
     "text": [
      "[I 2023-06-17 16:29:32,910] Trial 591 finished with value: 0.25347691862369603 and parameters: {'bootstrap_type': 'Bayesian', 'grow_policy': 'Lossguide', 'learning_rate': 0.009535059293859522, 'l2_leaf_reg': 0.0004955483929471573, 'depth': 4, 'random_strength': 33.49723113660584, 'min_data_in_leaf': 98, 'bagging_temperature': 28.203933991896314, 'max_leaves': 69}. Best is trial 236 with value: 0.2204946060949904.\n"
     ]
    },
    {
     "name": "stdout",
     "output_type": "stream",
     "text": [
      "Repeat \u001b[1m\u001b[34m#1\n",
      "Repeat \u001b[1m\u001b[34m#2\n",
      "Repeat \u001b[1m\u001b[34m#3\n"
     ]
    },
    {
     "name": "stderr",
     "output_type": "stream",
     "text": [
      "[I 2023-06-17 16:29:52,015] Trial 592 finished with value: 0.23558598908301565 and parameters: {'bootstrap_type': 'Bayesian', 'grow_policy': 'Depthwise', 'learning_rate': 0.028739776074453344, 'l2_leaf_reg': 33.11252778665541, 'depth': 4, 'random_strength': 62.322526019559525, 'min_data_in_leaf': 95, 'bagging_temperature': 33.233448892548324}. Best is trial 236 with value: 0.2204946060949904.\n"
     ]
    },
    {
     "name": "stdout",
     "output_type": "stream",
     "text": [
      "Repeat \u001b[1m\u001b[34m#1\n",
      "Repeat \u001b[1m\u001b[34m#2\n",
      "Repeat \u001b[1m\u001b[34m#3\n"
     ]
    },
    {
     "name": "stderr",
     "output_type": "stream",
     "text": [
      "[I 2023-06-17 16:29:57,088] Trial 593 finished with value: 0.2469026864657624 and parameters: {'bootstrap_type': 'Bayesian', 'grow_policy': 'Depthwise', 'learning_rate': 0.08572409921086474, 'l2_leaf_reg': 4.221999234428745, 'depth': 4, 'random_strength': 68.51198612757398, 'min_data_in_leaf': 74, 'bagging_temperature': 1.86295419247989}. Best is trial 236 with value: 0.2204946060949904.\n"
     ]
    },
    {
     "name": "stdout",
     "output_type": "stream",
     "text": [
      "Repeat \u001b[1m\u001b[34m#1\n",
      "Repeat \u001b[1m\u001b[34m#2\n",
      "Repeat \u001b[1m\u001b[34m#3\n"
     ]
    },
    {
     "name": "stderr",
     "output_type": "stream",
     "text": [
      "[I 2023-06-17 16:30:05,849] Trial 594 finished with value: 0.26434860724505155 and parameters: {'bootstrap_type': 'Bayesian', 'grow_policy': 'Depthwise', 'learning_rate': 0.032799827086677946, 'l2_leaf_reg': 4.0902713260132484e-05, 'depth': 4, 'random_strength': 50.119514483641915, 'min_data_in_leaf': 67, 'bagging_temperature': 40.24708742065873}. Best is trial 236 with value: 0.2204946060949904.\n"
     ]
    },
    {
     "name": "stdout",
     "output_type": "stream",
     "text": [
      "Repeat \u001b[1m\u001b[34m#1\n",
      "Repeat \u001b[1m\u001b[34m#2\n",
      "Repeat \u001b[1m\u001b[34m#3\n"
     ]
    },
    {
     "name": "stderr",
     "output_type": "stream",
     "text": [
      "[I 2023-06-17 16:30:16,273] Trial 595 finished with value: 0.22951132125816812 and parameters: {'bootstrap_type': 'Bayesian', 'grow_policy': 'Depthwise', 'learning_rate': 0.042341578181380166, 'l2_leaf_reg': 0.24426103642827487, 'depth': 4, 'random_strength': 63.667835725260105, 'min_data_in_leaf': 91, 'bagging_temperature': 29.78846199060301}. Best is trial 236 with value: 0.2204946060949904.\n"
     ]
    },
    {
     "name": "stdout",
     "output_type": "stream",
     "text": [
      "Repeat \u001b[1m\u001b[34m#1\n",
      "Repeat \u001b[1m\u001b[34m#2\n",
      "Repeat \u001b[1m\u001b[34m#3\n"
     ]
    },
    {
     "name": "stderr",
     "output_type": "stream",
     "text": [
      "[I 2023-06-17 16:30:19,848] Trial 596 finished with value: 0.3130739158203451 and parameters: {'bootstrap_type': 'MVS', 'grow_policy': 'Depthwise', 'learning_rate': 0.1042978353925215, 'l2_leaf_reg': 1.950673766917374e-05, 'depth': 7, 'random_strength': 36.45604307668489, 'min_data_in_leaf': 94}. Best is trial 236 with value: 0.2204946060949904.\n"
     ]
    },
    {
     "name": "stdout",
     "output_type": "stream",
     "text": [
      "Repeat \u001b[1m\u001b[34m#1\n",
      "Repeat \u001b[1m\u001b[34m#2\n",
      "Repeat \u001b[1m\u001b[34m#3\n"
     ]
    },
    {
     "name": "stderr",
     "output_type": "stream",
     "text": [
      "[I 2023-06-17 16:30:40,497] Trial 597 finished with value: 0.2340365994936515 and parameters: {'bootstrap_type': 'Bayesian', 'grow_policy': 'Depthwise', 'learning_rate': 0.01748872500990736, 'l2_leaf_reg': 0.5508819869064431, 'depth': 4, 'random_strength': 78.39939292510543, 'min_data_in_leaf': 100, 'bagging_temperature': 37.33838978348935}. Best is trial 236 with value: 0.2204946060949904.\n"
     ]
    },
    {
     "name": "stdout",
     "output_type": "stream",
     "text": [
      "Repeat \u001b[1m\u001b[34m#1\n",
      "Repeat \u001b[1m\u001b[34m#2\n",
      "Repeat \u001b[1m\u001b[34m#3\n"
     ]
    },
    {
     "name": "stderr",
     "output_type": "stream",
     "text": [
      "[I 2023-06-17 16:30:48,325] Trial 598 finished with value: 0.24468679928470682 and parameters: {'bootstrap_type': 'Bayesian', 'grow_policy': 'Depthwise', 'learning_rate': 0.058706494501268816, 'l2_leaf_reg': 0.024334817877579556, 'depth': 4, 'random_strength': 58.7436143945004, 'min_data_in_leaf': 97, 'bagging_temperature': 31.631896872069827}. Best is trial 236 with value: 0.2204946060949904.\n"
     ]
    },
    {
     "name": "stdout",
     "output_type": "stream",
     "text": [
      "Repeat \u001b[1m\u001b[34m#1\n",
      "Repeat \u001b[1m\u001b[34m#2\n",
      "Repeat \u001b[1m\u001b[34m#3\n"
     ]
    },
    {
     "name": "stderr",
     "output_type": "stream",
     "text": [
      "[I 2023-06-17 16:30:49,139] Trial 599 finished with value: 0.6931485281392481 and parameters: {'bootstrap_type': 'Bayesian', 'grow_policy': 'Depthwise', 'learning_rate': 0.0002655688593093386, 'l2_leaf_reg': 3.15375399864976e-07, 'depth': 4, 'random_strength': 93.89448582999609, 'min_data_in_leaf': 89, 'bagging_temperature': 68.40635859494819}. Best is trial 236 with value: 0.2204946060949904.\n"
     ]
    },
    {
     "name": "stdout",
     "output_type": "stream",
     "text": [
      "Repeat \u001b[1m\u001b[34m#1\n",
      "Repeat \u001b[1m\u001b[34m#2\n",
      "Repeat \u001b[1m\u001b[34m#3\n"
     ]
    },
    {
     "name": "stderr",
     "output_type": "stream",
     "text": [
      "[I 2023-06-17 16:30:52,159] Trial 600 finished with value: 0.29910703553965884 and parameters: {'bootstrap_type': 'Bayesian', 'grow_policy': 'Lossguide', 'learning_rate': 0.1847294621745339, 'l2_leaf_reg': 4.958942208945449e-07, 'depth': 4, 'random_strength': 30.30632081082377, 'min_data_in_leaf': 52, 'bagging_temperature': 41.989319534886796, 'max_leaves': 66}. Best is trial 236 with value: 0.2204946060949904.\n"
     ]
    },
    {
     "name": "stdout",
     "output_type": "stream",
     "text": [
      "Repeat \u001b[1m\u001b[34m#1\n",
      "Repeat \u001b[1m\u001b[34m#2\n",
      "Repeat \u001b[1m\u001b[34m#3\n"
     ]
    },
    {
     "name": "stderr",
     "output_type": "stream",
     "text": [
      "[I 2023-06-17 16:31:02,194] Trial 601 finished with value: 0.24509877927774934 and parameters: {'bootstrap_type': 'Bayesian', 'grow_policy': 'Depthwise', 'learning_rate': 0.038172275647690386, 'l2_leaf_reg': 0.0020142288509319073, 'depth': 4, 'random_strength': 71.35992298646046, 'min_data_in_leaf': 93, 'bagging_temperature': 35.3234965430704}. Best is trial 236 with value: 0.2204946060949904.\n"
     ]
    },
    {
     "name": "stdout",
     "output_type": "stream",
     "text": [
      "Repeat \u001b[1m\u001b[34m#1\n",
      "Repeat \u001b[1m\u001b[34m#2\n",
      "Repeat \u001b[1m\u001b[34m#3\n"
     ]
    },
    {
     "name": "stderr",
     "output_type": "stream",
     "text": [
      "[I 2023-06-17 16:31:20,164] Trial 602 finished with value: 0.2318173944621896 and parameters: {'bootstrap_type': 'Bayesian', 'grow_policy': 'Depthwise', 'learning_rate': 0.02264795401462823, 'l2_leaf_reg': 2.066642733884112, 'depth': 4, 'random_strength': 66.7345461444798, 'min_data_in_leaf': 96, 'bagging_temperature': 44.53609776666551}. Best is trial 236 with value: 0.2204946060949904.\n"
     ]
    },
    {
     "name": "stdout",
     "output_type": "stream",
     "text": [
      "Repeat \u001b[1m\u001b[34m#1\n",
      "Repeat \u001b[1m\u001b[34m#2\n",
      "Repeat \u001b[1m\u001b[34m#3\n"
     ]
    },
    {
     "name": "stderr",
     "output_type": "stream",
     "text": [
      "[I 2023-06-17 16:31:38,611] Trial 603 finished with value: 0.2279097012785423 and parameters: {'bootstrap_type': 'Bayesian', 'grow_policy': 'Depthwise', 'learning_rate': 0.03166244721395426, 'l2_leaf_reg': 19.20970840073387, 'depth': 4, 'random_strength': 65.00183068527197, 'min_data_in_leaf': 91, 'bagging_temperature': 38.54995687611093}. Best is trial 236 with value: 0.2204946060949904.\n"
     ]
    },
    {
     "name": "stdout",
     "output_type": "stream",
     "text": [
      "Repeat \u001b[1m\u001b[34m#1\n",
      "Repeat \u001b[1m\u001b[34m#2\n",
      "Repeat \u001b[1m\u001b[34m#3\n"
     ]
    },
    {
     "name": "stderr",
     "output_type": "stream",
     "text": [
      "[I 2023-06-17 16:31:39,380] Trial 604 finished with value: 0.6944934426035451 and parameters: {'bootstrap_type': 'Bayesian', 'grow_policy': 'Depthwise', 'learning_rate': 0.2568665171252392, 'l2_leaf_reg': 1.1468326154410182e-05, 'depth': 5, 'random_strength': 61.11318826912661, 'min_data_in_leaf': 28, 'bagging_temperature': 63.06587833742038}. Best is trial 236 with value: 0.2204946060949904.\n"
     ]
    },
    {
     "name": "stdout",
     "output_type": "stream",
     "text": [
      "Repeat \u001b[1m\u001b[34m#1\n",
      "Repeat \u001b[1m\u001b[34m#2\n",
      "Repeat \u001b[1m\u001b[34m#3\n"
     ]
    },
    {
     "name": "stderr",
     "output_type": "stream",
     "text": [
      "[I 2023-06-17 16:31:48,751] Trial 605 finished with value: 0.2394920643340678 and parameters: {'bootstrap_type': 'Bayesian', 'grow_policy': 'Depthwise', 'learning_rate': 0.046131024395854384, 'l2_leaf_reg': 1.0995440056234735, 'depth': 4, 'random_strength': 28.63119833206551, 'min_data_in_leaf': 93, 'bagging_temperature': 33.27983461535539}. Best is trial 236 with value: 0.2204946060949904.\n"
     ]
    },
    {
     "name": "stdout",
     "output_type": "stream",
     "text": [
      "Repeat \u001b[1m\u001b[34m#1\n",
      "Repeat \u001b[1m\u001b[34m#2\n",
      "Repeat \u001b[1m\u001b[34m#3\n"
     ]
    },
    {
     "name": "stderr",
     "output_type": "stream",
     "text": [
      "[I 2023-06-17 16:31:56,743] Trial 606 finished with value: 0.2508289899973981 and parameters: {'bootstrap_type': 'Bernoulli', 'grow_policy': 'Depthwise', 'learning_rate': 0.028112638067967745, 'l2_leaf_reg': 0.000328279569918806, 'depth': 4, 'random_strength': 45.283468355238455, 'min_data_in_leaf': 98, 'subsample': 0.6867643498093272}. Best is trial 236 with value: 0.2204946060949904.\n"
     ]
    },
    {
     "name": "stdout",
     "output_type": "stream",
     "text": [
      "Repeat \u001b[1m\u001b[34m#1\n",
      "Repeat \u001b[1m\u001b[34m#2\n",
      "Repeat \u001b[1m\u001b[34m#3\n"
     ]
    },
    {
     "name": "stderr",
     "output_type": "stream",
     "text": [
      "[I 2023-06-17 16:32:38,363] Trial 607 finished with value: 0.25989924494561273 and parameters: {'bootstrap_type': 'Bayesian', 'grow_policy': 'SymmetricTree', 'learning_rate': 0.07023600493189834, 'l2_leaf_reg': 6.381790506981685, 'depth': 4, 'random_strength': 75.2849138850038, 'min_data_in_leaf': 87, 'bagging_temperature': 35.565238984984134, 'boosting_type': 'Ordered'}. Best is trial 236 with value: 0.2204946060949904.\n"
     ]
    },
    {
     "name": "stdout",
     "output_type": "stream",
     "text": [
      "Repeat \u001b[1m\u001b[34m#1\n",
      "Repeat \u001b[1m\u001b[34m#2\n",
      "Repeat \u001b[1m\u001b[34m#3\n"
     ]
    },
    {
     "name": "stderr",
     "output_type": "stream",
     "text": [
      "[I 2023-06-17 16:33:16,432] Trial 608 finished with value: 0.48990937508598326 and parameters: {'bootstrap_type': 'Bayesian', 'grow_policy': 'Depthwise', 'learning_rate': 0.00048813846349552375, 'l2_leaf_reg': 0.11935283659145042, 'depth': 4, 'random_strength': 99.50607359196319, 'min_data_in_leaf': 95, 'bagging_temperature': 30.520980573325062}. Best is trial 236 with value: 0.2204946060949904.\n"
     ]
    },
    {
     "name": "stdout",
     "output_type": "stream",
     "text": [
      "Repeat \u001b[1m\u001b[34m#1\n",
      "Repeat \u001b[1m\u001b[34m#2\n",
      "Repeat \u001b[1m\u001b[34m#3\n"
     ]
    },
    {
     "name": "stderr",
     "output_type": "stream",
     "text": [
      "[I 2023-06-17 16:33:36,323] Trial 609 finished with value: 0.23130244509045553 and parameters: {'bootstrap_type': 'Bayesian', 'grow_policy': 'Lossguide', 'learning_rate': 0.019133780230996173, 'l2_leaf_reg': 3.4282374186799416, 'depth': 4, 'random_strength': 52.572295448121025, 'min_data_in_leaf': 90, 'bagging_temperature': 18.320315803314998, 'max_leaves': 18}. Best is trial 236 with value: 0.2204946060949904.\n"
     ]
    },
    {
     "name": "stdout",
     "output_type": "stream",
     "text": [
      "Repeat \u001b[1m\u001b[34m#1\n",
      "Repeat \u001b[1m\u001b[34m#2\n",
      "Repeat \u001b[1m\u001b[34m#3\n"
     ]
    },
    {
     "name": "stderr",
     "output_type": "stream",
     "text": [
      "[I 2023-06-17 16:33:44,076] Trial 610 finished with value: 0.24068765352370633 and parameters: {'bootstrap_type': 'Bayesian', 'grow_policy': 'Depthwise', 'learning_rate': 0.08637082891956017, 'l2_leaf_reg': 11.508438887683036, 'depth': 4, 'random_strength': 69.99377106170066, 'min_data_in_leaf': 92, 'bagging_temperature': 26.927255240843543}. Best is trial 236 with value: 0.2204946060949904.\n"
     ]
    },
    {
     "name": "stdout",
     "output_type": "stream",
     "text": [
      "Repeat \u001b[1m\u001b[34m#1\n",
      "Repeat \u001b[1m\u001b[34m#2\n",
      "Repeat \u001b[1m\u001b[34m#3\n"
     ]
    },
    {
     "name": "stderr",
     "output_type": "stream",
     "text": [
      "[I 2023-06-17 16:33:56,585] Trial 611 finished with value: 0.22737173050499215 and parameters: {'bootstrap_type': 'Bayesian', 'grow_policy': 'Depthwise', 'learning_rate': 0.03604266131866088, 'l2_leaf_reg': 2.0094339803121017, 'depth': 4, 'random_strength': 72.66588033869985, 'min_data_in_leaf': 96, 'bagging_temperature': 40.20245393641758}. Best is trial 236 with value: 0.2204946060949904.\n"
     ]
    },
    {
     "name": "stdout",
     "output_type": "stream",
     "text": [
      "Repeat \u001b[1m\u001b[34m#1\n",
      "Repeat \u001b[1m\u001b[34m#2\n",
      "Repeat \u001b[1m\u001b[34m#3\n"
     ]
    },
    {
     "name": "stderr",
     "output_type": "stream",
     "text": [
      "[I 2023-06-17 16:34:03,187] Trial 612 finished with value: 0.31310822362799307 and parameters: {'bootstrap_type': 'Bayesian', 'grow_policy': 'Depthwise', 'learning_rate': 0.13618676211982483, 'l2_leaf_reg': 0.3979346762858663, 'depth': 10, 'random_strength': 15.630077898632088, 'min_data_in_leaf': 99, 'bagging_temperature': 53.284335724476215}. Best is trial 236 with value: 0.2204946060949904.\n"
     ]
    },
    {
     "name": "stdout",
     "output_type": "stream",
     "text": [
      "Repeat \u001b[1m\u001b[34m#1\n",
      "Repeat \u001b[1m\u001b[34m#2\n",
      "Repeat \u001b[1m\u001b[34m#3\n"
     ]
    },
    {
     "name": "stderr",
     "output_type": "stream",
     "text": [
      "[I 2023-06-17 16:34:12,305] Trial 613 finished with value: 0.23203737767259533 and parameters: {'bootstrap_type': 'Bayesian', 'grow_policy': 'Depthwise', 'learning_rate': 0.055083906682181084, 'l2_leaf_reg': 0.04362139154725103, 'depth': 4, 'random_strength': 63.06296299256772, 'min_data_in_leaf': 94, 'bagging_temperature': 37.08159828273183}. Best is trial 236 with value: 0.2204946060949904.\n"
     ]
    },
    {
     "name": "stdout",
     "output_type": "stream",
     "text": [
      "Repeat \u001b[1m\u001b[34m#1\n",
      "Repeat \u001b[1m\u001b[34m#2\n",
      "Repeat \u001b[1m\u001b[34m#3\n"
     ]
    },
    {
     "name": "stderr",
     "output_type": "stream",
     "text": [
      "[I 2023-06-17 16:34:33,962] Trial 614 finished with value: 0.23449323011314302 and parameters: {'bootstrap_type': 'Bayesian', 'grow_policy': 'Depthwise', 'learning_rate': 0.026839958805588784, 'l2_leaf_reg': 28.25444610805695, 'depth': 4, 'random_strength': 19.85437793495851, 'min_data_in_leaf': 88, 'bagging_temperature': 33.446997891758116}. Best is trial 236 with value: 0.2204946060949904.\n"
     ]
    },
    {
     "name": "stdout",
     "output_type": "stream",
     "text": [
      "Repeat \u001b[1m\u001b[34m#1\n",
      "Repeat \u001b[1m\u001b[34m#2\n",
      "Repeat \u001b[1m\u001b[34m#3\n"
     ]
    },
    {
     "name": "stderr",
     "output_type": "stream",
     "text": [
      "[I 2023-06-17 16:34:34,734] Trial 615 finished with value: 0.6937402449044998 and parameters: {'bootstrap_type': 'Bayesian', 'grow_policy': 'Depthwise', 'learning_rate': 0.11511105562933863, 'l2_leaf_reg': 0.0029871669327987773, 'depth': 4, 'random_strength': 38.891030151961836, 'min_data_in_leaf': 97, 'bagging_temperature': 95.56936255887817}. Best is trial 236 with value: 0.2204946060949904.\n"
     ]
    },
    {
     "name": "stdout",
     "output_type": "stream",
     "text": [
      "Repeat \u001b[1m\u001b[34m#1\n",
      "Repeat \u001b[1m\u001b[34m#2\n",
      "Repeat \u001b[1m\u001b[34m#3\n"
     ]
    },
    {
     "name": "stderr",
     "output_type": "stream",
     "text": [
      "[I 2023-06-17 16:34:40,666] Trial 616 finished with value: 0.24917339316827983 and parameters: {'bootstrap_type': 'MVS', 'grow_policy': 'Depthwise', 'learning_rate': 0.04096744295579885, 'l2_leaf_reg': 0.005483190979047693, 'depth': 4, 'random_strength': 56.341282868822674, 'min_data_in_leaf': 84}. Best is trial 236 with value: 0.2204946060949904.\n"
     ]
    },
    {
     "name": "stdout",
     "output_type": "stream",
     "text": [
      "Repeat \u001b[1m\u001b[34m#1\n",
      "Repeat \u001b[1m\u001b[34m#2\n",
      "Repeat \u001b[1m\u001b[34m#3\n"
     ]
    },
    {
     "name": "stderr",
     "output_type": "stream",
     "text": [
      "[I 2023-06-17 16:34:41,428] Trial 617 finished with value: 0.6932702333528633 and parameters: {'bootstrap_type': 'Bayesian', 'grow_policy': 'Lossguide', 'learning_rate': 0.02428230237391452, 'l2_leaf_reg': 0.9411696407959446, 'depth': 4, 'random_strength': 68.28470779340626, 'min_data_in_leaf': 91, 'bagging_temperature': 81.88938108214431, 'max_leaves': 89}. Best is trial 236 with value: 0.2204946060949904.\n"
     ]
    },
    {
     "name": "stdout",
     "output_type": "stream",
     "text": [
      "Repeat \u001b[1m\u001b[34m#1\n",
      "Repeat \u001b[1m\u001b[34m#2\n",
      "Repeat \u001b[1m\u001b[34m#3\n"
     ]
    },
    {
     "name": "stderr",
     "output_type": "stream",
     "text": [
      "[I 2023-06-17 16:35:00,593] Trial 618 finished with value: 0.5349927434351048 and parameters: {'bootstrap_type': 'Bayesian', 'grow_policy': 'Depthwise', 'learning_rate': 0.002447254119045151, 'l2_leaf_reg': 2.885699417840557, 'depth': 4, 'random_strength': 66.22386632456694, 'min_data_in_leaf': 81, 'bagging_temperature': 51.6353437205484}. Best is trial 236 with value: 0.2204946060949904.\n"
     ]
    },
    {
     "name": "stdout",
     "output_type": "stream",
     "text": [
      "Repeat \u001b[1m\u001b[34m#1\n",
      "Repeat \u001b[1m\u001b[34m#2\n",
      "Repeat \u001b[1m\u001b[34m#3\n"
     ]
    },
    {
     "name": "stderr",
     "output_type": "stream",
     "text": [
      "[I 2023-06-17 16:35:08,062] Trial 619 finished with value: 0.23708600191205867 and parameters: {'bootstrap_type': 'Bayesian', 'grow_policy': 'Depthwise', 'learning_rate': 0.07715542056078145, 'l2_leaf_reg': 8.038229456360103, 'depth': 4, 'random_strength': 76.10536376423129, 'min_data_in_leaf': 95, 'bagging_temperature': 24.585959944843886}. Best is trial 236 with value: 0.2204946060949904.\n"
     ]
    },
    {
     "name": "stdout",
     "output_type": "stream",
     "text": [
      "Repeat \u001b[1m\u001b[34m#1\n",
      "Repeat \u001b[1m\u001b[34m#2\n",
      "Repeat \u001b[1m\u001b[34m#3\n"
     ]
    },
    {
     "name": "stderr",
     "output_type": "stream",
     "text": [
      "[I 2023-06-17 16:35:21,612] Trial 620 finished with value: 0.2709988783613548 and parameters: {'bootstrap_type': 'Bayesian', 'grow_policy': 'Depthwise', 'learning_rate': 0.014720893130961648, 'l2_leaf_reg': 1.529062225186635e-08, 'depth': 4, 'random_strength': 23.940586464255432, 'min_data_in_leaf': 45, 'bagging_temperature': 31.074789493901733}. Best is trial 236 with value: 0.2204946060949904.\n"
     ]
    },
    {
     "name": "stdout",
     "output_type": "stream",
     "text": [
      "Repeat \u001b[1m\u001b[34m#1\n",
      "Repeat \u001b[1m\u001b[34m#2\n",
      "Repeat \u001b[1m\u001b[34m#3\n"
     ]
    },
    {
     "name": "stderr",
     "output_type": "stream",
     "text": [
      "[I 2023-06-17 16:35:36,385] Trial 621 finished with value: 0.23089082969464814 and parameters: {'bootstrap_type': 'Bayesian', 'grow_policy': 'Depthwise', 'learning_rate': 0.03198444315504484, 'l2_leaf_reg': 5.804852161364929, 'depth': 4, 'random_strength': 58.60498656687227, 'min_data_in_leaf': 93, 'bagging_temperature': 28.62051149953172}. Best is trial 236 with value: 0.2204946060949904.\n"
     ]
    },
    {
     "name": "stdout",
     "output_type": "stream",
     "text": [
      "Repeat \u001b[1m\u001b[34m#1\n",
      "Repeat \u001b[1m\u001b[34m#2\n",
      "Repeat \u001b[1m\u001b[34m#3\n"
     ]
    },
    {
     "name": "stderr",
     "output_type": "stream",
     "text": [
      "[I 2023-06-17 16:35:53,813] Trial 622 finished with value: 0.23753371202941898 and parameters: {'bootstrap_type': 'Bayesian', 'grow_policy': 'Depthwise', 'learning_rate': 0.020862110325194992, 'l2_leaf_reg': 1.3940282507914408, 'depth': 4, 'random_strength': 95.5704655744212, 'min_data_in_leaf': 100, 'bagging_temperature': 34.633019621788215}. Best is trial 236 with value: 0.2204946060949904.\n"
     ]
    },
    {
     "name": "stdout",
     "output_type": "stream",
     "text": [
      "Repeat \u001b[1m\u001b[34m#1\n",
      "Repeat \u001b[1m\u001b[34m#2\n",
      "Repeat \u001b[1m\u001b[34m#3\n"
     ]
    },
    {
     "name": "stderr",
     "output_type": "stream",
     "text": [
      "[I 2023-06-17 16:35:54,651] Trial 623 finished with value: 0.6931753293831298 and parameters: {'bootstrap_type': 'Bayesian', 'grow_policy': 'Depthwise', 'learning_rate': 0.005560459423921033, 'l2_leaf_reg': 13.618823779380254, 'depth': 4, 'random_strength': 79.86153497287093, 'min_data_in_leaf': 89, 'bagging_temperature': 91.76553894016784}. Best is trial 236 with value: 0.2204946060949904.\n"
     ]
    },
    {
     "name": "stdout",
     "output_type": "stream",
     "text": [
      "Repeat \u001b[1m\u001b[34m#1\n",
      "Repeat \u001b[1m\u001b[34m#2\n",
      "Repeat \u001b[1m\u001b[34m#3\n"
     ]
    },
    {
     "name": "stderr",
     "output_type": "stream",
     "text": [
      "[I 2023-06-17 16:36:29,790] Trial 624 finished with value: 0.41838241438996354 and parameters: {'bootstrap_type': 'Bayesian', 'grow_policy': 'Depthwise', 'learning_rate': 0.0009927351272562856, 'l2_leaf_reg': 0.018417438223615544, 'depth': 4, 'random_strength': 83.90284849471574, 'min_data_in_leaf': 98, 'bagging_temperature': 42.31831131296054}. Best is trial 236 with value: 0.2204946060949904.\n"
     ]
    },
    {
     "name": "stdout",
     "output_type": "stream",
     "text": [
      "Repeat \u001b[1m\u001b[34m#1\n",
      "Repeat \u001b[1m\u001b[34m#2\n",
      "Repeat \u001b[1m\u001b[34m#3\n"
     ]
    },
    {
     "name": "stderr",
     "output_type": "stream",
     "text": [
      "[I 2023-06-17 16:36:35,432] Trial 625 finished with value: 0.24472538219879003 and parameters: {'bootstrap_type': 'Bayesian', 'grow_policy': 'Depthwise', 'learning_rate': 0.09778699245063396, 'l2_leaf_reg': 0.22611079955877744, 'depth': 4, 'random_strength': 64.37113120563488, 'min_data_in_leaf': 94, 'bagging_temperature': 38.18656977715537}. Best is trial 236 with value: 0.2204946060949904.\n"
     ]
    },
    {
     "name": "stdout",
     "output_type": "stream",
     "text": [
      "Repeat \u001b[1m\u001b[34m#1\n",
      "Repeat \u001b[1m\u001b[34m#2\n",
      "Repeat \u001b[1m\u001b[34m#3\n"
     ]
    },
    {
     "name": "stderr",
     "output_type": "stream",
     "text": [
      "[I 2023-06-17 16:36:36,194] Trial 626 finished with value: 0.6931657063933642 and parameters: {'bootstrap_type': 'Bayesian', 'grow_policy': 'Lossguide', 'learning_rate': 0.003648197347230165, 'l2_leaf_reg': 0.6292563521960725, 'depth': 4, 'random_strength': 70.11497070765243, 'min_data_in_leaf': 92, 'bagging_temperature': 78.62146122953334, 'max_leaves': 100}. Best is trial 236 with value: 0.2204946060949904.\n"
     ]
    },
    {
     "name": "stdout",
     "output_type": "stream",
     "text": [
      "Repeat \u001b[1m\u001b[34m#1\n",
      "Repeat \u001b[1m\u001b[34m#2\n",
      "Repeat \u001b[1m\u001b[34m#3\n"
     ]
    },
    {
     "name": "stderr",
     "output_type": "stream",
     "text": [
      "[I 2023-06-17 16:37:15,371] Trial 627 finished with value: 0.385254251826843 and parameters: {'bootstrap_type': 'Bayesian', 'grow_policy': 'Depthwise', 'learning_rate': 0.0013963142039416913, 'l2_leaf_reg': 3.7146448846177167, 'depth': 4, 'random_strength': 73.55960029552607, 'min_data_in_leaf': 96, 'bagging_temperature': 7.090338249124407}. Best is trial 236 with value: 0.2204946060949904.\n"
     ]
    },
    {
     "name": "stdout",
     "output_type": "stream",
     "text": [
      "Repeat \u001b[1m\u001b[34m#1\n",
      "Repeat \u001b[1m\u001b[34m#2\n",
      "Repeat \u001b[1m\u001b[34m#3\n"
     ]
    },
    {
     "name": "stderr",
     "output_type": "stream",
     "text": [
      "[I 2023-06-17 16:37:45,207] Trial 628 finished with value: 0.2527969465632869 and parameters: {'bootstrap_type': 'Bernoulli', 'grow_policy': 'SymmetricTree', 'learning_rate': 0.009711722477671134, 'l2_leaf_reg': 47.024319551952146, 'depth': 4, 'random_strength': 34.01410683759504, 'min_data_in_leaf': 86, 'subsample': 0.33970348474644296, 'boosting_type': 'Plain'}. Best is trial 236 with value: 0.2204946060949904.\n"
     ]
    },
    {
     "name": "stdout",
     "output_type": "stream",
     "text": [
      "Repeat \u001b[1m\u001b[34m#1\n",
      "Repeat \u001b[1m\u001b[34m#2\n",
      "Repeat \u001b[1m\u001b[34m#3\n"
     ]
    },
    {
     "name": "stderr",
     "output_type": "stream",
     "text": [
      "[I 2023-06-17 16:38:08,073] Trial 629 finished with value: 0.2342079483393258 and parameters: {'bootstrap_type': 'Bayesian', 'grow_policy': 'Depthwise', 'learning_rate': 0.05064067060466682, 'l2_leaf_reg': 97.72080249575906, 'depth': 5, 'random_strength': 60.13936394597985, 'min_data_in_leaf': 91, 'bagging_temperature': 45.95866610027015}. Best is trial 236 with value: 0.2204946060949904.\n"
     ]
    },
    {
     "name": "stdout",
     "output_type": "stream",
     "text": [
      "Repeat \u001b[1m\u001b[34m#1\n",
      "Repeat \u001b[1m\u001b[34m#2\n",
      "Repeat \u001b[1m\u001b[34m#3\n"
     ]
    },
    {
     "name": "stderr",
     "output_type": "stream",
     "text": [
      "[I 2023-06-17 16:38:28,643] Trial 630 finished with value: 0.23480528581388405 and parameters: {'bootstrap_type': 'Bayesian', 'grow_policy': 'Depthwise', 'learning_rate': 0.033362070382701066, 'l2_leaf_reg': 20.012645273250456, 'depth': 9, 'random_strength': 67.46391064618744, 'min_data_in_leaf': 94, 'bagging_temperature': 32.80277685888902}. Best is trial 236 with value: 0.2204946060949904.\n"
     ]
    },
    {
     "name": "stdout",
     "output_type": "stream",
     "text": [
      "Repeat \u001b[1m\u001b[34m#1\n",
      "Repeat \u001b[1m\u001b[34m#2\n",
      "Repeat \u001b[1m\u001b[34m#3\n"
     ]
    },
    {
     "name": "stderr",
     "output_type": "stream",
     "text": [
      "[I 2023-06-17 16:39:17,224] Trial 631 finished with value: 0.614814081305168 and parameters: {'bootstrap_type': 'Bayesian', 'grow_policy': 'Depthwise', 'learning_rate': 0.00012556227259153535, 'l2_leaf_reg': 1.9238989943576585, 'depth': 8, 'random_strength': 43.39068741953456, 'min_data_in_leaf': 97, 'bagging_temperature': 36.850031552271645}. Best is trial 236 with value: 0.2204946060949904.\n"
     ]
    },
    {
     "name": "stdout",
     "output_type": "stream",
     "text": [
      "Repeat \u001b[1m\u001b[34m#1\n",
      "Repeat \u001b[1m\u001b[34m#2\n",
      "Repeat \u001b[1m\u001b[34m#3\n"
     ]
    },
    {
     "name": "stderr",
     "output_type": "stream",
     "text": [
      "[I 2023-06-17 16:39:27,621] Trial 632 finished with value: 0.23550699335442338 and parameters: {'bootstrap_type': 'Bayesian', 'grow_policy': 'Depthwise', 'learning_rate': 0.06048416170222707, 'l2_leaf_reg': 5.302167914901014, 'depth': 4, 'random_strength': 86.83916564970548, 'min_data_in_leaf': 41, 'bagging_temperature': 14.607318680936567}. Best is trial 236 with value: 0.2204946060949904.\n"
     ]
    },
    {
     "name": "stdout",
     "output_type": "stream",
     "text": [
      "Repeat \u001b[1m\u001b[34m#1\n",
      "Repeat \u001b[1m\u001b[34m#2\n",
      "Repeat \u001b[1m\u001b[34m#3\n"
     ]
    },
    {
     "name": "stderr",
     "output_type": "stream",
     "text": [
      "[I 2023-06-17 16:39:37,518] Trial 633 finished with value: 0.23629968374226226 and parameters: {'bootstrap_type': 'Bayesian', 'grow_policy': 'Depthwise', 'learning_rate': 0.043730300311511275, 'l2_leaf_reg': 1.0558596241689469, 'depth': 4, 'random_strength': 71.20200492032596, 'min_data_in_leaf': 90, 'bagging_temperature': 19.968238533773654}. Best is trial 236 with value: 0.2204946060949904.\n"
     ]
    },
    {
     "name": "stdout",
     "output_type": "stream",
     "text": [
      "Repeat \u001b[1m\u001b[34m#1\n",
      "Repeat \u001b[1m\u001b[34m#2\n",
      "Repeat \u001b[1m\u001b[34m#3\n"
     ]
    },
    {
     "name": "stderr",
     "output_type": "stream",
     "text": [
      "[I 2023-06-17 16:39:41,244] Trial 634 finished with value: 0.2793089928467027 and parameters: {'bootstrap_type': 'Bayesian', 'grow_policy': 'Depthwise', 'learning_rate': 0.15868442036522407, 'l2_leaf_reg': 0.0687321691453031, 'depth': 4, 'random_strength': 77.24101017705875, 'min_data_in_leaf': 95, 'bagging_temperature': 39.5042266883348}. Best is trial 236 with value: 0.2204946060949904.\n"
     ]
    },
    {
     "name": "stdout",
     "output_type": "stream",
     "text": [
      "Repeat \u001b[1m\u001b[34m#1\n",
      "Repeat \u001b[1m\u001b[34m#2\n",
      "Repeat \u001b[1m\u001b[34m#3\n"
     ]
    },
    {
     "name": "stderr",
     "output_type": "stream",
     "text": [
      "[I 2023-06-17 16:39:57,653] Trial 635 finished with value: 0.22775487964444327 and parameters: {'bootstrap_type': 'Bayesian', 'grow_policy': 'Lossguide', 'learning_rate': 0.02873566676743567, 'l2_leaf_reg': 2.7477717004890483, 'depth': 4, 'random_strength': 46.525982553354645, 'min_data_in_leaf': 99, 'bagging_temperature': 35.02061317065007, 'max_leaves': 50}. Best is trial 236 with value: 0.2204946060949904.\n"
     ]
    },
    {
     "name": "stdout",
     "output_type": "stream",
     "text": [
      "Repeat \u001b[1m\u001b[34m#1\n",
      "Repeat \u001b[1m\u001b[34m#2\n",
      "Repeat \u001b[1m\u001b[34m#3\n"
     ]
    },
    {
     "name": "stderr",
     "output_type": "stream",
     "text": [
      "[I 2023-06-17 16:40:32,826] Trial 636 finished with value: 0.2425379346901786 and parameters: {'bootstrap_type': 'Bayesian', 'grow_policy': 'Depthwise', 'learning_rate': 0.007294441551739643, 'l2_leaf_reg': 8.986060515497671, 'depth': 4, 'random_strength': 62.67814332332048, 'min_data_in_leaf': 93, 'bagging_temperature': 29.322078897241795}. Best is trial 236 with value: 0.2204946060949904.\n"
     ]
    },
    {
     "name": "stdout",
     "output_type": "stream",
     "text": [
      "Repeat \u001b[1m\u001b[34m#1\n",
      "Repeat \u001b[1m\u001b[34m#2\n",
      "Repeat \u001b[1m\u001b[34m#3\n"
     ]
    },
    {
     "name": "stderr",
     "output_type": "stream",
     "text": [
      "[I 2023-06-17 16:40:42,301] Trial 637 finished with value: 0.23654316910820813 and parameters: {'bootstrap_type': 'Bayesian', 'grow_policy': 'Depthwise', 'learning_rate': 0.03851748817787038, 'l2_leaf_reg': 0.3668270695644286, 'depth': 4, 'random_strength': 55.14723330836671, 'min_data_in_leaf': 88, 'bagging_temperature': 7.271815498533371}. Best is trial 236 with value: 0.2204946060949904.\n"
     ]
    },
    {
     "name": "stdout",
     "output_type": "stream",
     "text": [
      "Repeat \u001b[1m\u001b[34m#1\n",
      "Repeat \u001b[1m\u001b[34m#2\n",
      "Repeat \u001b[1m\u001b[34m#3\n"
     ]
    },
    {
     "name": "stderr",
     "output_type": "stream",
     "text": [
      "[I 2023-06-17 16:40:53,669] Trial 638 finished with value: 0.24091163419834638 and parameters: {'bootstrap_type': 'MVS', 'grow_policy': 'Depthwise', 'learning_rate': 0.025298300954653886, 'l2_leaf_reg': 35.66879513094219, 'depth': 4, 'random_strength': 65.4919154480926, 'min_data_in_leaf': 97}. Best is trial 236 with value: 0.2204946060949904.\n"
     ]
    },
    {
     "name": "stdout",
     "output_type": "stream",
     "text": [
      "Repeat \u001b[1m\u001b[34m#1\n",
      "Repeat \u001b[1m\u001b[34m#2\n",
      "Repeat \u001b[1m\u001b[34m#3\n"
     ]
    },
    {
     "name": "stderr",
     "output_type": "stream",
     "text": [
      "[I 2023-06-17 16:40:59,719] Trial 639 finished with value: 0.23932315795282133 and parameters: {'bootstrap_type': 'Bayesian', 'grow_policy': 'Depthwise', 'learning_rate': 0.08787119182349196, 'l2_leaf_reg': 0.7273735061507304, 'depth': 4, 'random_strength': 12.619075736406849, 'min_data_in_leaf': 92, 'bagging_temperature': 31.86250962278909}. Best is trial 236 with value: 0.2204946060949904.\n"
     ]
    },
    {
     "name": "stdout",
     "output_type": "stream",
     "text": [
      "Repeat \u001b[1m\u001b[34m#1\n",
      "Repeat \u001b[1m\u001b[34m#2\n",
      "Repeat \u001b[1m\u001b[34m#3\n"
     ]
    },
    {
     "name": "stderr",
     "output_type": "stream",
     "text": [
      "[I 2023-06-17 16:41:23,122] Trial 640 finished with value: 0.5849346166353153 and parameters: {'bootstrap_type': 'Bayesian', 'grow_policy': 'Depthwise', 'learning_rate': 0.0006571405875837192, 'l2_leaf_reg': 1.507117966449475, 'depth': 4, 'random_strength': 68.37780304822523, 'min_data_in_leaf': 95, 'bagging_temperature': 48.90669148753034}. Best is trial 236 with value: 0.2204946060949904.\n"
     ]
    },
    {
     "name": "stdout",
     "output_type": "stream",
     "text": [
      "Repeat \u001b[1m\u001b[34m#1\n",
      "Repeat \u001b[1m\u001b[34m#2\n",
      "Repeat \u001b[1m\u001b[34m#3\n"
     ]
    },
    {
     "name": "stderr",
     "output_type": "stream",
     "text": [
      "[I 2023-06-17 16:41:23,943] Trial 641 finished with value: 0.6931534824432797 and parameters: {'bootstrap_type': 'Bayesian', 'grow_policy': 'Depthwise', 'learning_rate': 0.0012407517138838798, 'l2_leaf_reg': 0.00857346608517583, 'depth': 4, 'random_strength': 36.70372358610162, 'min_data_in_leaf': 35, 'bagging_temperature': 72.80796829762329}. Best is trial 236 with value: 0.2204946060949904.\n"
     ]
    },
    {
     "name": "stdout",
     "output_type": "stream",
     "text": [
      "Repeat \u001b[1m\u001b[34m#1\n",
      "Repeat \u001b[1m\u001b[34m#2\n",
      "Repeat \u001b[1m\u001b[34m#3\n"
     ]
    },
    {
     "name": "stderr",
     "output_type": "stream",
     "text": [
      "[I 2023-06-17 16:41:31,773] Trial 642 finished with value: 0.24686058677597508 and parameters: {'bootstrap_type': 'Bayesian', 'grow_policy': 'Depthwise', 'learning_rate': 0.06970687893648245, 'l2_leaf_reg': 3.6525220853418743, 'depth': 4, 'random_strength': 41.18100597027677, 'min_data_in_leaf': 71, 'bagging_temperature': 22.41191469288497}. Best is trial 236 with value: 0.2204946060949904.\n"
     ]
    },
    {
     "name": "stdout",
     "output_type": "stream",
     "text": [
      "Repeat \u001b[1m\u001b[34m#1\n",
      "Repeat \u001b[1m\u001b[34m#2\n",
      "Repeat \u001b[1m\u001b[34m#3\n"
     ]
    },
    {
     "name": "stderr",
     "output_type": "stream",
     "text": [
      "[I 2023-06-17 16:41:36,994] Trial 643 finished with value: 0.2367511449343267 and parameters: {'bootstrap_type': 'Bayesian', 'grow_policy': 'Lossguide', 'learning_rate': 0.21315293992762394, 'l2_leaf_reg': 18.493158575569936, 'depth': 4, 'random_strength': 81.50297478839403, 'min_data_in_leaf': 90, 'bagging_temperature': 41.10372307848548, 'max_leaves': 61}. Best is trial 236 with value: 0.2204946060949904.\n"
     ]
    },
    {
     "name": "stdout",
     "output_type": "stream",
     "text": [
      "Repeat \u001b[1m\u001b[34m#1\n",
      "Repeat \u001b[1m\u001b[34m#2\n",
      "Repeat \u001b[1m\u001b[34m#3\n"
     ]
    },
    {
     "name": "stderr",
     "output_type": "stream",
     "text": [
      "[I 2023-06-17 16:41:58,919] Trial 644 finished with value: 0.23665558317341548 and parameters: {'bootstrap_type': 'Bayesian', 'grow_policy': 'Depthwise', 'learning_rate': 0.011931226665538659, 'l2_leaf_reg': 0.10255754953093228, 'depth': 5, 'random_strength': 72.12251041906086, 'min_data_in_leaf': 100, 'bagging_temperature': 12.224325593414727}. Best is trial 236 with value: 0.2204946060949904.\n"
     ]
    },
    {
     "name": "stdout",
     "output_type": "stream",
     "text": [
      "Repeat \u001b[1m\u001b[34m#1\n",
      "Repeat \u001b[1m\u001b[34m#2\n",
      "Repeat \u001b[1m\u001b[34m#3\n"
     ]
    },
    {
     "name": "stderr",
     "output_type": "stream",
     "text": [
      "[I 2023-06-17 16:42:21,517] Trial 645 finished with value: 0.23106202986920166 and parameters: {'bootstrap_type': 'Bayesian', 'grow_policy': 'Depthwise', 'learning_rate': 0.017639164847699347, 'l2_leaf_reg': 6.541556914731766, 'depth': 4, 'random_strength': 50.1558442423292, 'min_data_in_leaf': 96, 'bagging_temperature': 36.22101678948535}. Best is trial 236 with value: 0.2204946060949904.\n"
     ]
    },
    {
     "name": "stdout",
     "output_type": "stream",
     "text": [
      "Repeat \u001b[1m\u001b[34m#1\n",
      "Repeat \u001b[1m\u001b[34m#2\n",
      "Repeat \u001b[1m\u001b[34m#3\n"
     ]
    },
    {
     "name": "stderr",
     "output_type": "stream",
     "text": [
      "[I 2023-06-17 16:42:32,555] Trial 646 finished with value: 0.23772789454254703 and parameters: {'bootstrap_type': 'Bayesian', 'grow_policy': 'Depthwise', 'learning_rate': 0.03366295489322902, 'l2_leaf_reg': 1.9923302891310046, 'depth': 4, 'random_strength': 27.6008753500264, 'min_data_in_leaf': 93, 'bagging_temperature': 9.968334037331374}. Best is trial 236 with value: 0.2204946060949904.\n"
     ]
    },
    {
     "name": "stdout",
     "output_type": "stream",
     "text": [
      "Repeat \u001b[1m\u001b[34m#1\n",
      "Repeat \u001b[1m\u001b[34m#2\n",
      "Repeat \u001b[1m\u001b[34m#3\n"
     ]
    },
    {
     "name": "stderr",
     "output_type": "stream",
     "text": [
      "[I 2023-06-17 16:43:11,407] Trial 647 finished with value: 0.575175189630242 and parameters: {'bootstrap_type': 'Bayesian', 'grow_policy': 'Depthwise', 'learning_rate': 0.0002119116844436056, 'l2_leaf_reg': 0.1730461666981295, 'depth': 4, 'random_strength': 10.937064270333906, 'min_data_in_leaf': 85, 'bagging_temperature': 26.417979409480708}. Best is trial 236 with value: 0.2204946060949904.\n"
     ]
    },
    {
     "name": "stdout",
     "output_type": "stream",
     "text": [
      "Repeat \u001b[1m\u001b[34m#1\n",
      "Repeat \u001b[1m\u001b[34m#2\n",
      "Repeat \u001b[1m\u001b[34m#3\n"
     ]
    },
    {
     "name": "stderr",
     "output_type": "stream",
     "text": [
      "[I 2023-06-17 16:43:18,543] Trial 648 finished with value: 0.261418365351705 and parameters: {'bootstrap_type': 'Bayesian', 'grow_policy': 'Depthwise', 'learning_rate': 0.04847043758788125, 'l2_leaf_reg': 0.00018163997280215745, 'depth': 4, 'random_strength': 21.540055425984328, 'min_data_in_leaf': 98, 'bagging_temperature': 34.133838616957995}. Best is trial 236 with value: 0.2204946060949904.\n"
     ]
    },
    {
     "name": "stdout",
     "output_type": "stream",
     "text": [
      "Repeat \u001b[1m\u001b[34m#1\n",
      "Repeat \u001b[1m\u001b[34m#2\n",
      "Repeat \u001b[1m\u001b[34m#3\n"
     ]
    },
    {
     "name": "stderr",
     "output_type": "stream",
     "text": [
      "[I 2023-06-17 16:43:24,949] Trial 649 finished with value: 0.23977499590846577 and parameters: {'bootstrap_type': 'Bayesian', 'grow_policy': 'Depthwise', 'learning_rate': 0.1176896600631035, 'l2_leaf_reg': 10.121647201349585, 'depth': 4, 'random_strength': 60.4803832165033, 'min_data_in_leaf': 87, 'bagging_temperature': 31.11796585794521}. Best is trial 236 with value: 0.2204946060949904.\n"
     ]
    },
    {
     "name": "stdout",
     "output_type": "stream",
     "text": [
      "Repeat \u001b[1m\u001b[34m#1\n",
      "Repeat \u001b[1m\u001b[34m#2\n",
      "Repeat \u001b[1m\u001b[34m#3\n"
     ]
    },
    {
     "name": "stderr",
     "output_type": "stream",
     "text": [
      "[I 2023-06-17 16:43:58,792] Trial 650 finished with value: 0.2554348909505677 and parameters: {'bootstrap_type': 'Bernoulli', 'grow_policy': 'Depthwise', 'learning_rate': 0.004937897438122747, 'l2_leaf_reg': 1.2757743507345807, 'depth': 4, 'random_strength': 67.50476823821566, 'min_data_in_leaf': 60, 'subsample': 0.4901911566899934}. Best is trial 236 with value: 0.2204946060949904.\n"
     ]
    },
    {
     "name": "stdout",
     "output_type": "stream",
     "text": [
      "Repeat \u001b[1m\u001b[34m#1\n",
      "Repeat \u001b[1m\u001b[34m#2\n",
      "Repeat \u001b[1m\u001b[34m#3\n"
     ]
    },
    {
     "name": "stderr",
     "output_type": "stream",
     "text": [
      "[I 2023-06-17 16:43:59,625] Trial 651 finished with value: 0.6931554213316306 and parameters: {'bootstrap_type': 'Bayesian', 'grow_policy': 'Depthwise', 'learning_rate': 0.0016245332613686431, 'l2_leaf_reg': 0.5970704231757841, 'depth': 4, 'random_strength': 64.28421467052674, 'min_data_in_leaf': 94, 'bagging_temperature': 74.82267253375402}. Best is trial 236 with value: 0.2204946060949904.\n"
     ]
    },
    {
     "name": "stdout",
     "output_type": "stream",
     "text": [
      "Repeat \u001b[1m\u001b[34m#1\n",
      "Repeat \u001b[1m\u001b[34m#2\n",
      "Repeat \u001b[1m\u001b[34m#3\n"
     ]
    },
    {
     "name": "stderr",
     "output_type": "stream",
     "text": [
      "[I 2023-06-17 16:44:21,381] Trial 652 finished with value: 0.38776343569927824 and parameters: {'bootstrap_type': 'Bayesian', 'grow_policy': 'SymmetricTree', 'learning_rate': 0.022929197952398138, 'l2_leaf_reg': 8.686255157243763e-06, 'depth': 4, 'random_strength': 31.599752947667174, 'min_data_in_leaf': 90, 'bagging_temperature': 37.270881697180954, 'boosting_type': 'Ordered'}. Best is trial 236 with value: 0.2204946060949904.\n"
     ]
    },
    {
     "name": "stdout",
     "output_type": "stream",
     "text": [
      "Repeat \u001b[1m\u001b[34m#1\n",
      "Repeat \u001b[1m\u001b[34m#2\n",
      "Repeat \u001b[1m\u001b[34m#3\n"
     ]
    },
    {
     "name": "stderr",
     "output_type": "stream",
     "text": [
      "[I 2023-06-17 16:44:55,934] Trial 653 finished with value: 0.5558449740535288 and parameters: {'bootstrap_type': 'Bayesian', 'grow_policy': 'Lossguide', 'learning_rate': 0.000428795440948909, 'l2_leaf_reg': 26.92434415560757, 'depth': 4, 'random_strength': 74.40503019805752, 'min_data_in_leaf': 92, 'bagging_temperature': 43.785009040321114, 'max_leaves': 115}. Best is trial 236 with value: 0.2204946060949904.\n"
     ]
    },
    {
     "name": "stdout",
     "output_type": "stream",
     "text": [
      "Repeat \u001b[1m\u001b[34m#1\n",
      "Repeat \u001b[1m\u001b[34m#2\n",
      "Repeat \u001b[1m\u001b[34m#3\n"
     ]
    },
    {
     "name": "stderr",
     "output_type": "stream",
     "text": [
      "[I 2023-06-17 16:45:34,484] Trial 654 finished with value: 0.3044222448258634 and parameters: {'bootstrap_type': 'Bayesian', 'grow_policy': 'Depthwise', 'learning_rate': 0.0025480062056881018, 'l2_leaf_reg': 2.884148273103194, 'depth': 4, 'random_strength': 62.1826802173457, 'min_data_in_leaf': 96, 'bagging_temperature': 39.346391074723414}. Best is trial 236 with value: 0.2204946060949904.\n"
     ]
    },
    {
     "name": "stdout",
     "output_type": "stream",
     "text": [
      "Repeat \u001b[1m\u001b[34m#1\n",
      "Repeat \u001b[1m\u001b[34m#2\n",
      "Repeat \u001b[1m\u001b[34m#3\n"
     ]
    },
    {
     "name": "stderr",
     "output_type": "stream",
     "text": [
      "[I 2023-06-17 16:45:50,839] Trial 655 finished with value: 0.23185976426032004 and parameters: {'bootstrap_type': 'Bayesian', 'grow_policy': 'Depthwise', 'learning_rate': 0.029917870928857532, 'l2_leaf_reg': 13.321435956168378, 'depth': 4, 'random_strength': 69.7919598610131, 'min_data_in_leaf': 98, 'bagging_temperature': 28.460670351766712}. Best is trial 236 with value: 0.2204946060949904.\n"
     ]
    },
    {
     "name": "stdout",
     "output_type": "stream",
     "text": [
      "Repeat \u001b[1m\u001b[34m#1\n",
      "Repeat \u001b[1m\u001b[34m#2\n",
      "Repeat \u001b[1m\u001b[34m#3\n"
     ]
    },
    {
     "name": "stderr",
     "output_type": "stream",
     "text": [
      "[I 2023-06-17 16:45:52,185] Trial 656 finished with value: 0.6787622923736168 and parameters: {'bootstrap_type': 'Bayesian', 'grow_policy': 'Depthwise', 'learning_rate': 0.038943783812782296, 'l2_leaf_reg': 0.010817967264437633, 'depth': 4, 'random_strength': 53.57269833608569, 'min_data_in_leaf': 94, 'bagging_temperature': 56.87650191428352}. Best is trial 236 with value: 0.2204946060949904.\n"
     ]
    },
    {
     "name": "stdout",
     "output_type": "stream",
     "text": [
      "Repeat \u001b[1m\u001b[34m#1\n",
      "Repeat \u001b[1m\u001b[34m#2\n",
      "Repeat \u001b[1m\u001b[34m#3\n"
     ]
    },
    {
     "name": "stderr",
     "output_type": "stream",
     "text": [
      "[I 2023-06-17 16:46:01,291] Trial 657 finished with value: 0.23280713521538599 and parameters: {'bootstrap_type': 'Bayesian', 'grow_policy': 'Depthwise', 'learning_rate': 0.13523504569100017, 'l2_leaf_reg': 61.74406157188882, 'depth': 4, 'random_strength': 48.38189359676582, 'min_data_in_leaf': 89, 'bagging_temperature': 32.390691295820595}. Best is trial 236 with value: 0.2204946060949904.\n"
     ]
    },
    {
     "name": "stdout",
     "output_type": "stream",
     "text": [
      "Repeat \u001b[1m\u001b[34m#1\n",
      "Repeat \u001b[1m\u001b[34m#2\n",
      "Repeat \u001b[1m\u001b[34m#3\n"
     ]
    },
    {
     "name": "stderr",
     "output_type": "stream",
     "text": [
      "[I 2023-06-17 16:46:08,300] Trial 658 finished with value: 0.24131918795517868 and parameters: {'bootstrap_type': 'Bayesian', 'grow_policy': 'Depthwise', 'learning_rate': 0.09977039904826658, 'l2_leaf_reg': 5.222762727135784, 'depth': 4, 'random_strength': 57.35542612208822, 'min_data_in_leaf': 92, 'bagging_temperature': 34.490828687397745}. Best is trial 236 with value: 0.2204946060949904.\n"
     ]
    },
    {
     "name": "stdout",
     "output_type": "stream",
     "text": [
      "Repeat \u001b[1m\u001b[34m#1\n",
      "Repeat \u001b[1m\u001b[34m#2\n",
      "Repeat \u001b[1m\u001b[34m#3\n"
     ]
    },
    {
     "name": "stderr",
     "output_type": "stream",
     "text": [
      "[I 2023-06-17 16:46:15,066] Trial 659 finished with value: 0.23756301758133444 and parameters: {'bootstrap_type': 'Bayesian', 'grow_policy': 'Depthwise', 'learning_rate': 0.07181188788311728, 'l2_leaf_reg': 0.9348288287587206, 'depth': 4, 'random_strength': 67.05005884940424, 'min_data_in_leaf': 96, 'bagging_temperature': 11.360772656527832}. Best is trial 236 with value: 0.2204946060949904.\n"
     ]
    },
    {
     "name": "stdout",
     "output_type": "stream",
     "text": [
      "Repeat \u001b[1m\u001b[34m#1\n",
      "Repeat \u001b[1m\u001b[34m#2\n",
      "Repeat \u001b[1m\u001b[34m#3\n"
     ]
    },
    {
     "name": "stderr",
     "output_type": "stream",
     "text": [
      "[I 2023-06-17 16:46:24,201] Trial 660 finished with value: 0.24696581033008105 and parameters: {'bootstrap_type': 'MVS', 'grow_policy': 'Depthwise', 'learning_rate': 0.027744992652271688, 'l2_leaf_reg': 2.0049110059695274, 'depth': 4, 'random_strength': 39.07584822071609, 'min_data_in_leaf': 83}. Best is trial 236 with value: 0.2204946060949904.\n"
     ]
    },
    {
     "name": "stdout",
     "output_type": "stream",
     "text": [
      "Repeat \u001b[1m\u001b[34m#1\n",
      "Repeat \u001b[1m\u001b[34m#2\n",
      "Repeat \u001b[1m\u001b[34m#3\n"
     ]
    },
    {
     "name": "stderr",
     "output_type": "stream",
     "text": [
      "[I 2023-06-17 16:46:24,977] Trial 661 finished with value: 0.6931476942362722 and parameters: {'bootstrap_type': 'Bayesian', 'grow_policy': 'Lossguide', 'learning_rate': 0.00010130068212256612, 'l2_leaf_reg': 0.36208512002191245, 'depth': 4, 'random_strength': 64.98406062015388, 'min_data_in_leaf': 100, 'bagging_temperature': 86.26292457811027, 'max_leaves': 108}. Best is trial 236 with value: 0.2204946060949904.\n"
     ]
    },
    {
     "name": "stdout",
     "output_type": "stream",
     "text": [
      "Repeat \u001b[1m\u001b[34m#1\n",
      "Repeat \u001b[1m\u001b[34m#2\n",
      "Repeat \u001b[1m\u001b[34m#3\n"
     ]
    },
    {
     "name": "stderr",
     "output_type": "stream",
     "text": [
      "[I 2023-06-17 16:46:34,266] Trial 662 finished with value: 0.2455980083774469 and parameters: {'bootstrap_type': 'Bayesian', 'grow_policy': 'Depthwise', 'learning_rate': 0.057312756342355206, 'l2_leaf_reg': 3.645401445428621, 'depth': 6, 'random_strength': 29.715987984314722, 'min_data_in_leaf': 94, 'bagging_temperature': 14.663137847444276}. Best is trial 236 with value: 0.2204946060949904.\n"
     ]
    },
    {
     "name": "stdout",
     "output_type": "stream",
     "text": [
      "Repeat \u001b[1m\u001b[34m#1\n",
      "Repeat \u001b[1m\u001b[34m#2\n",
      "Repeat \u001b[1m\u001b[34m#3\n"
     ]
    },
    {
     "name": "stderr",
     "output_type": "stream",
     "text": [
      "[I 2023-06-17 16:46:35,088] Trial 663 finished with value: 0.6933297428781543 and parameters: {'bootstrap_type': 'Bayesian', 'grow_policy': 'Depthwise', 'learning_rate': 0.03581641845152395, 'l2_leaf_reg': 0.000333256571734864, 'depth': 4, 'random_strength': 71.13183751688388, 'min_data_in_leaf': 91, 'bagging_temperature': 83.26252878925814}. Best is trial 236 with value: 0.2204946060949904.\n"
     ]
    },
    {
     "name": "stdout",
     "output_type": "stream",
     "text": [
      "Repeat \u001b[1m\u001b[34m#1\n",
      "Repeat \u001b[1m\u001b[34m#2\n",
      "Repeat \u001b[1m\u001b[34m#3\n"
     ]
    },
    {
     "name": "stderr",
     "output_type": "stream",
     "text": [
      "[I 2023-06-17 16:47:15,628] Trial 664 finished with value: 0.30872914972980076 and parameters: {'bootstrap_type': 'Bayesian', 'grow_policy': 'Depthwise', 'learning_rate': 0.0019409184227019759, 'l2_leaf_reg': 6.729091591100126e-07, 'depth': 5, 'random_strength': 85.23755022493054, 'min_data_in_leaf': 97, 'bagging_temperature': 36.119676861929804}. Best is trial 236 with value: 0.2204946060949904.\n"
     ]
    },
    {
     "name": "stdout",
     "output_type": "stream",
     "text": [
      "Repeat \u001b[1m\u001b[34m#1\n",
      "Repeat \u001b[1m\u001b[34m#2\n",
      "Repeat \u001b[1m\u001b[34m#3\n"
     ]
    },
    {
     "name": "stderr",
     "output_type": "stream",
     "text": [
      "[I 2023-06-17 16:47:16,430] Trial 665 finished with value: 0.693377446421166 and parameters: {'bootstrap_type': 'Bayesian', 'grow_policy': 'Depthwise', 'learning_rate': 0.04553144616597981, 'l2_leaf_reg': 7.666024395133287, 'depth': 4, 'random_strength': 69.34575587096337, 'min_data_in_leaf': 87, 'bagging_temperature': 69.88556586146788}. Best is trial 236 with value: 0.2204946060949904.\n"
     ]
    },
    {
     "name": "stdout",
     "output_type": "stream",
     "text": [
      "Repeat \u001b[1m\u001b[34m#1\n",
      "Repeat \u001b[1m\u001b[34m#2\n",
      "Repeat \u001b[1m\u001b[34m#3\n"
     ]
    },
    {
     "name": "stderr",
     "output_type": "stream",
     "text": [
      "[I 2023-06-17 16:47:55,887] Trial 666 finished with value: 0.27998106791224747 and parameters: {'bootstrap_type': 'Bayesian', 'grow_policy': 'Depthwise', 'learning_rate': 0.004444130332231768, 'l2_leaf_reg': 48.00705988970714, 'depth': 4, 'random_strength': 79.68529642738736, 'min_data_in_leaf': 95, 'bagging_temperature': 30.315398482343053}. Best is trial 236 with value: 0.2204946060949904.\n"
     ]
    },
    {
     "name": "stdout",
     "output_type": "stream",
     "text": [
      "Repeat \u001b[1m\u001b[34m#1\n",
      "Repeat \u001b[1m\u001b[34m#2\n",
      "Repeat \u001b[1m\u001b[34m#3\n"
     ]
    },
    {
     "name": "stderr",
     "output_type": "stream",
     "text": [
      "[I 2023-06-17 16:48:07,030] Trial 667 finished with value: 0.25470034671099523 and parameters: {'bootstrap_type': 'Bayesian', 'grow_policy': 'Depthwise', 'learning_rate': 0.02076109839262655, 'l2_leaf_reg': 7.876992697962375e-05, 'depth': 4, 'random_strength': 76.05377011525476, 'min_data_in_leaf': 93, 'bagging_temperature': 38.61349363410502}. Best is trial 236 with value: 0.2204946060949904.\n"
     ]
    },
    {
     "name": "stdout",
     "output_type": "stream",
     "text": [
      "Repeat \u001b[1m\u001b[34m#1\n",
      "Repeat \u001b[1m\u001b[34m#2\n",
      "Repeat \u001b[1m\u001b[34m#3\n"
     ]
    },
    {
     "name": "stderr",
     "output_type": "stream",
     "text": [
      "[I 2023-06-17 16:48:29,305] Trial 668 finished with value: 0.23062757534799738 and parameters: {'bootstrap_type': 'Bayesian', 'grow_policy': 'Depthwise', 'learning_rate': 0.01609471927871003, 'l2_leaf_reg': 1.3860057866841762, 'depth': 4, 'random_strength': 62.45216227382162, 'min_data_in_leaf': 98, 'bagging_temperature': 41.709984346654316}. Best is trial 236 with value: 0.2204946060949904.\n"
     ]
    },
    {
     "name": "stdout",
     "output_type": "stream",
     "text": [
      "Repeat \u001b[1m\u001b[34m#1\n",
      "Repeat \u001b[1m\u001b[34m#2\n",
      "Repeat \u001b[1m\u001b[34m#3\n"
     ]
    },
    {
     "name": "stderr",
     "output_type": "stream",
     "text": [
      "[I 2023-06-17 16:48:43,433] Trial 669 finished with value: 0.24754997469593465 and parameters: {'bootstrap_type': 'Bayesian', 'grow_policy': 'Lossguide', 'learning_rate': 0.025132180399487385, 'l2_leaf_reg': 18.944003757721948, 'depth': 4, 'random_strength': 35.20221098778195, 'min_data_in_leaf': 90, 'bagging_temperature': 4.62190032554264, 'max_leaves': 14}. Best is trial 236 with value: 0.2204946060949904.\n"
     ]
    },
    {
     "name": "stdout",
     "output_type": "stream",
     "text": [
      "Repeat \u001b[1m\u001b[34m#1\n",
      "Repeat \u001b[1m\u001b[34m#2\n",
      "Repeat \u001b[1m\u001b[34m#3\n"
     ]
    },
    {
     "name": "stderr",
     "output_type": "stream",
     "text": [
      "[I 2023-06-17 16:48:44,284] Trial 670 finished with value: 0.6933169199645318 and parameters: {'bootstrap_type': 'Bayesian', 'grow_policy': 'Depthwise', 'learning_rate': 0.0336680176936807, 'l2_leaf_reg': 4.752296436855865, 'depth': 4, 'random_strength': 4.413656776033989, 'min_data_in_leaf': 39, 'bagging_temperature': 89.2959992159148}. Best is trial 236 with value: 0.2204946060949904.\n"
     ]
    },
    {
     "name": "stdout",
     "output_type": "stream",
     "text": [
      "Repeat \u001b[1m\u001b[34m#1\n",
      "Repeat \u001b[1m\u001b[34m#2\n",
      "Repeat \u001b[1m\u001b[34m#3\n"
     ]
    },
    {
     "name": "stderr",
     "output_type": "stream",
     "text": [
      "[I 2023-06-17 16:48:49,186] Trial 671 finished with value: 0.2864910492013346 and parameters: {'bootstrap_type': 'Bayesian', 'grow_policy': 'Depthwise', 'learning_rate': 0.0777671537439428, 'l2_leaf_reg': 1.678148254339777e-07, 'depth': 4, 'random_strength': 73.58751614428465, 'min_data_in_leaf': 95, 'bagging_temperature': 33.50519072593759}. Best is trial 236 with value: 0.2204946060949904.\n"
     ]
    },
    {
     "name": "stdout",
     "output_type": "stream",
     "text": [
      "Repeat \u001b[1m\u001b[34m#1\n",
      "Repeat \u001b[1m\u001b[34m#2\n",
      "Repeat \u001b[1m\u001b[34m#3\n"
     ]
    },
    {
     "name": "stderr",
     "output_type": "stream",
     "text": [
      "[I 2023-06-17 16:48:51,571] Trial 672 finished with value: 0.3995975641980681 and parameters: {'bootstrap_type': 'Bayesian', 'grow_policy': 'SymmetricTree', 'learning_rate': 0.11186877177849999, 'l2_leaf_reg': 1.2025057853032946e-05, 'depth': 4, 'random_strength': 65.9294032652065, 'min_data_in_leaf': 92, 'bagging_temperature': 27.537279197477805, 'boosting_type': 'Plain'}. Best is trial 236 with value: 0.2204946060949904.\n"
     ]
    },
    {
     "name": "stdout",
     "output_type": "stream",
     "text": [
      "Repeat \u001b[1m\u001b[34m#1\n",
      "Repeat \u001b[1m\u001b[34m#2\n",
      "Repeat \u001b[1m\u001b[34m#3\n"
     ]
    },
    {
     "name": "stderr",
     "output_type": "stream",
     "text": [
      "[I 2023-06-17 16:49:00,949] Trial 673 finished with value: 0.24296053122692216 and parameters: {'bootstrap_type': 'Bayesian', 'grow_policy': 'Depthwise', 'learning_rate': 0.04305171479809903, 'l2_leaf_reg': 0.037474397775137454, 'depth': 4, 'random_strength': 58.39266520135252, 'min_data_in_leaf': 88, 'bagging_temperature': 32.263962975662444}. Best is trial 236 with value: 0.2204946060949904.\n"
     ]
    },
    {
     "name": "stdout",
     "output_type": "stream",
     "text": [
      "Repeat \u001b[1m\u001b[34m#1\n",
      "Repeat \u001b[1m\u001b[34m#2\n",
      "Repeat \u001b[1m\u001b[34m#3\n"
     ]
    },
    {
     "name": "stderr",
     "output_type": "stream",
     "text": [
      "[I 2023-06-17 16:49:01,796] Trial 674 finished with value: 0.6931682462482426 and parameters: {'bootstrap_type': 'Bayesian', 'grow_policy': 'Depthwise', 'learning_rate': 0.004175370919222536, 'l2_leaf_reg': 2.6862541477859305, 'depth': 4, 'random_strength': 68.33096802340211, 'min_data_in_leaf': 77, 'bagging_temperature': 94.21131989247394}. Best is trial 236 with value: 0.2204946060949904.\n"
     ]
    },
    {
     "name": "stdout",
     "output_type": "stream",
     "text": [
      "Repeat \u001b[1m\u001b[34m#1\n",
      "Repeat \u001b[1m\u001b[34m#2\n",
      "Repeat \u001b[1m\u001b[34m#3\n"
     ]
    },
    {
     "name": "stderr",
     "output_type": "stream",
     "text": [
      "[I 2023-06-17 16:49:32,421] Trial 675 finished with value: 0.35548397559787387 and parameters: {'bootstrap_type': 'Bayesian', 'grow_policy': 'Depthwise', 'learning_rate': 0.002149120749021118, 'l2_leaf_reg': 0.01432119902938792, 'depth': 4, 'random_strength': 60.82990408762499, 'min_data_in_leaf': 97, 'bagging_temperature': 45.398736427311476}. Best is trial 236 with value: 0.2204946060949904.\n"
     ]
    },
    {
     "name": "stdout",
     "output_type": "stream",
     "text": [
      "Repeat \u001b[1m\u001b[34m#1\n",
      "Repeat \u001b[1m\u001b[34m#2\n",
      "Repeat \u001b[1m\u001b[34m#3\n"
     ]
    },
    {
     "name": "stderr",
     "output_type": "stream",
     "text": [
      "[I 2023-06-17 16:50:10,410] Trial 676 finished with value: 0.3122274871698411 and parameters: {'bootstrap_type': 'Bernoulli', 'grow_policy': 'Depthwise', 'learning_rate': 0.003046612699945086, 'l2_leaf_reg': 0.06257218929028024, 'depth': 4, 'random_strength': 93.67626846984965, 'min_data_in_leaf': 93, 'subsample': 0.9342834997751066}. Best is trial 236 with value: 0.2204946060949904.\n"
     ]
    },
    {
     "name": "stdout",
     "output_type": "stream",
     "text": [
      "Repeat \u001b[1m\u001b[34m#1\n",
      "Repeat \u001b[1m\u001b[34m#2\n",
      "Repeat \u001b[1m\u001b[34m#3\n"
     ]
    },
    {
     "name": "stderr",
     "output_type": "stream",
     "text": [
      "[I 2023-06-17 16:50:47,988] Trial 677 finished with value: 0.38346133013139383 and parameters: {'bootstrap_type': 'Bayesian', 'grow_policy': 'Depthwise', 'learning_rate': 0.0010510574406835125, 'l2_leaf_reg': 0.005996624590218535, 'depth': 4, 'random_strength': 37.45255158017011, 'min_data_in_leaf': 99, 'bagging_temperature': 25.084465511395788}. Best is trial 236 with value: 0.2204946060949904.\n"
     ]
    },
    {
     "name": "stdout",
     "output_type": "stream",
     "text": [
      "Repeat \u001b[1m\u001b[34m#1\n",
      "Repeat \u001b[1m\u001b[34m#2\n",
      "Repeat \u001b[1m\u001b[34m#3\n"
     ]
    },
    {
     "name": "stderr",
     "output_type": "stream",
     "text": [
      "[I 2023-06-17 16:50:54,559] Trial 678 finished with value: 0.23785137323157265 and parameters: {'bootstrap_type': 'Bayesian', 'grow_policy': 'Depthwise', 'learning_rate': 0.09134102961511953, 'l2_leaf_reg': 0.8975744236863997, 'depth': 4, 'random_strength': 95.86477836179327, 'min_data_in_leaf': 95, 'bagging_temperature': 35.13807591464605}. Best is trial 236 with value: 0.2204946060949904.\n"
     ]
    },
    {
     "name": "stdout",
     "output_type": "stream",
     "text": [
      "Repeat \u001b[1m\u001b[34m#1\n",
      "Repeat \u001b[1m\u001b[34m#2\n",
      "Repeat \u001b[1m\u001b[34m#3\n"
     ]
    },
    {
     "name": "stderr",
     "output_type": "stream",
     "text": [
      "[I 2023-06-17 16:51:09,070] Trial 679 finished with value: 0.22890050540280651 and parameters: {'bootstrap_type': 'Bayesian', 'grow_policy': 'Lossguide', 'learning_rate': 0.030558909178324666, 'l2_leaf_reg': 0.15668791399389934, 'depth': 4, 'random_strength': 44.65472885767594, 'min_data_in_leaf': 91, 'bagging_temperature': 37.79684936832658, 'max_leaves': 96}. Best is trial 236 with value: 0.2204946060949904.\n"
     ]
    },
    {
     "name": "stdout",
     "output_type": "stream",
     "text": [
      "Repeat \u001b[1m\u001b[34m#1\n",
      "Repeat \u001b[1m\u001b[34m#2\n",
      "Repeat \u001b[1m\u001b[34m#3\n"
     ]
    },
    {
     "name": "stderr",
     "output_type": "stream",
     "text": [
      "[I 2023-06-17 16:52:00,692] Trial 680 finished with value: 0.31690908101451204 and parameters: {'bootstrap_type': 'Bayesian', 'grow_policy': 'Depthwise', 'learning_rate': 0.0015910505496991992, 'l2_leaf_reg': 0.5798685610393939, 'depth': 6, 'random_strength': 63.78909716821626, 'min_data_in_leaf': 80, 'bagging_temperature': 29.62093172895031}. Best is trial 236 with value: 0.2204946060949904.\n"
     ]
    },
    {
     "name": "stdout",
     "output_type": "stream",
     "text": [
      "Repeat \u001b[1m\u001b[34m#1\n",
      "Repeat \u001b[1m\u001b[34m#2\n",
      "Repeat \u001b[1m\u001b[34m#3\n"
     ]
    },
    {
     "name": "stderr",
     "output_type": "stream",
     "text": [
      "[I 2023-06-17 16:52:38,457] Trial 681 finished with value: 0.24885587628305342 and parameters: {'bootstrap_type': 'Bayesian', 'grow_policy': 'Depthwise', 'learning_rate': 0.0061628559732130345, 'l2_leaf_reg': 13.835296777125091, 'depth': 4, 'random_strength': 71.96272805358137, 'min_data_in_leaf': 85, 'bagging_temperature': 18.81150729292482}. Best is trial 236 with value: 0.2204946060949904.\n"
     ]
    },
    {
     "name": "stdout",
     "output_type": "stream",
     "text": [
      "Repeat \u001b[1m\u001b[34m#1\n",
      "Repeat \u001b[1m\u001b[34m#2\n",
      "Repeat \u001b[1m\u001b[34m#3\n"
     ]
    },
    {
     "name": "stderr",
     "output_type": "stream",
     "text": [
      "[I 2023-06-17 16:52:44,396] Trial 682 finished with value: 0.23716846779415612 and parameters: {'bootstrap_type': 'MVS', 'grow_policy': 'Depthwise', 'learning_rate': 0.06270526243364488, 'l2_leaf_reg': 27.07898698939034, 'depth': 4, 'random_strength': 78.01897238075034, 'min_data_in_leaf': 89}. Best is trial 236 with value: 0.2204946060949904.\n"
     ]
    },
    {
     "name": "stdout",
     "output_type": "stream",
     "text": [
      "Repeat \u001b[1m\u001b[34m#1\n",
      "Repeat \u001b[1m\u001b[34m#2\n",
      "Repeat \u001b[1m\u001b[34m#3\n"
     ]
    },
    {
     "name": "stderr",
     "output_type": "stream",
     "text": [
      "[I 2023-06-17 16:52:47,966] Trial 683 finished with value: 0.2468046719895043 and parameters: {'bootstrap_type': 'Bayesian', 'grow_policy': 'Depthwise', 'learning_rate': 0.25955836741328225, 'l2_leaf_reg': 1.8513098196974798, 'depth': 4, 'random_strength': 55.22344718980116, 'min_data_in_leaf': 96, 'bagging_temperature': 39.93403483138631}. Best is trial 236 with value: 0.2204946060949904.\n"
     ]
    },
    {
     "name": "stdout",
     "output_type": "stream",
     "text": [
      "Repeat \u001b[1m\u001b[34m#1\n",
      "Repeat \u001b[1m\u001b[34m#2\n",
      "Repeat \u001b[1m\u001b[34m#3\n"
     ]
    },
    {
     "name": "stderr",
     "output_type": "stream",
     "text": [
      "[I 2023-06-17 16:52:51,601] Trial 684 finished with value: 0.3049485167308607 and parameters: {'bootstrap_type': 'Bayesian', 'grow_policy': 'Depthwise', 'learning_rate': 0.1550235209344065, 'l2_leaf_reg': 0.00013050968860682722, 'depth': 5, 'random_strength': 66.78493119893804, 'min_data_in_leaf': 93, 'bagging_temperature': 36.21423613682876}. Best is trial 236 with value: 0.2204946060949904.\n"
     ]
    },
    {
     "name": "stdout",
     "output_type": "stream",
     "text": [
      "Repeat \u001b[1m\u001b[34m#1\n",
      "Repeat \u001b[1m\u001b[34m#2\n",
      "Repeat \u001b[1m\u001b[34m#3\n"
     ]
    },
    {
     "name": "stderr",
     "output_type": "stream",
     "text": [
      "[I 2023-06-17 16:53:00,767] Trial 685 finished with value: 0.23294296441418724 and parameters: {'bootstrap_type': 'Bayesian', 'grow_policy': 'Depthwise', 'learning_rate': 0.05065524948586713, 'l2_leaf_reg': 0.262887171267243, 'depth': 4, 'random_strength': 42.46868378330706, 'min_data_in_leaf': 100, 'bagging_temperature': 47.3367805018541}. Best is trial 236 with value: 0.2204946060949904.\n"
     ]
    },
    {
     "name": "stdout",
     "output_type": "stream",
     "text": [
      "Repeat \u001b[1m\u001b[34m#1\n",
      "Repeat \u001b[1m\u001b[34m#2\n",
      "Repeat \u001b[1m\u001b[34m#3\n"
     ]
    },
    {
     "name": "stderr",
     "output_type": "stream",
     "text": [
      "[I 2023-06-17 16:53:18,372] Trial 686 finished with value: 0.23395849780853925 and parameters: {'bootstrap_type': 'Bayesian', 'grow_policy': 'Depthwise', 'learning_rate': 0.024732428732672212, 'l2_leaf_reg': 4.095135400471198, 'depth': 4, 'random_strength': 1.7319179127450397, 'min_data_in_leaf': 97, 'bagging_temperature': 33.56244736287876}. Best is trial 236 with value: 0.2204946060949904.\n"
     ]
    },
    {
     "name": "stdout",
     "output_type": "stream",
     "text": [
      "Repeat \u001b[1m\u001b[34m#1\n",
      "Repeat \u001b[1m\u001b[34m#2\n",
      "Repeat \u001b[1m\u001b[34m#3\n"
     ]
    },
    {
     "name": "stderr",
     "output_type": "stream",
     "text": [
      "[I 2023-06-17 16:53:30,679] Trial 687 finished with value: 0.2577638722968208 and parameters: {'bootstrap_type': 'Bayesian', 'grow_policy': 'Lossguide', 'learning_rate': 0.020144988444019022, 'l2_leaf_reg': 4.461204939638738e-06, 'depth': 4, 'random_strength': 69.58401416573336, 'min_data_in_leaf': 94, 'bagging_temperature': 31.28193249887199, 'max_leaves': 36}. Best is trial 236 with value: 0.2204946060949904.\n"
     ]
    },
    {
     "name": "stdout",
     "output_type": "stream",
     "text": [
      "Repeat \u001b[1m\u001b[34m#1\n",
      "Repeat \u001b[1m\u001b[34m#2\n",
      "Repeat \u001b[1m\u001b[34m#3\n"
     ]
    },
    {
     "name": "stderr",
     "output_type": "stream",
     "text": [
      "[I 2023-06-17 16:53:38,215] Trial 688 finished with value: 0.2543891133330917 and parameters: {'bootstrap_type': 'Bayesian', 'grow_policy': 'Depthwise', 'learning_rate': 0.039821053699564284, 'l2_leaf_reg': 7.316539163809256e-07, 'depth': 4, 'random_strength': 32.894294721071695, 'min_data_in_leaf': 90, 'bagging_temperature': 41.65235324543409}. Best is trial 236 with value: 0.2204946060949904.\n"
     ]
    },
    {
     "name": "stdout",
     "output_type": "stream",
     "text": [
      "Repeat \u001b[1m\u001b[34m#1\n",
      "Repeat \u001b[1m\u001b[34m#2\n",
      "Repeat \u001b[1m\u001b[34m#3\n"
     ]
    },
    {
     "name": "stderr",
     "output_type": "stream",
     "text": [
      "[I 2023-06-17 16:54:09,325] Trial 689 finished with value: 0.23780141433447496 and parameters: {'bootstrap_type': 'Bayesian', 'grow_policy': 'Depthwise', 'learning_rate': 0.009784960376484932, 'l2_leaf_reg': 9.167986142542988, 'depth': 4, 'random_strength': 59.809910334707425, 'min_data_in_leaf': 92, 'bagging_temperature': 22.242381596571114}. Best is trial 236 with value: 0.2204946060949904.\n"
     ]
    },
    {
     "name": "stdout",
     "output_type": "stream",
     "text": [
      "Repeat \u001b[1m\u001b[34m#1\n",
      "Repeat \u001b[1m\u001b[34m#2\n",
      "Repeat \u001b[1m\u001b[34m#3\n"
     ]
    },
    {
     "name": "stderr",
     "output_type": "stream",
     "text": [
      "[I 2023-06-17 16:54:41,863] Trial 690 finished with value: 0.23675907316742395 and parameters: {'bootstrap_type': 'Bayesian', 'grow_policy': 'Depthwise', 'learning_rate': 0.008168088972991936, 'l2_leaf_reg': 1.2957553467776937, 'depth': 4, 'random_strength': 83.11337007365368, 'min_data_in_leaf': 96, 'bagging_temperature': 37.776102372688335}. Best is trial 236 with value: 0.2204946060949904.\n"
     ]
    },
    {
     "name": "stdout",
     "output_type": "stream",
     "text": [
      "Repeat \u001b[1m\u001b[34m#1\n",
      "Repeat \u001b[1m\u001b[34m#2\n",
      "Repeat \u001b[1m\u001b[34m#3\n"
     ]
    },
    {
     "name": "stderr",
     "output_type": "stream",
     "text": [
      "[I 2023-06-17 16:54:49,552] Trial 691 finished with value: 0.2386231852153408 and parameters: {'bootstrap_type': 'Bayesian', 'grow_policy': 'Depthwise', 'learning_rate': 0.08218156016713538, 'l2_leaf_reg': 2.6689003782853056, 'depth': 5, 'random_strength': 20.26128214026205, 'min_data_in_leaf': 98, 'bagging_temperature': 34.73953058811242}. Best is trial 236 with value: 0.2204946060949904.\n"
     ]
    },
    {
     "name": "stdout",
     "output_type": "stream",
     "text": [
      "Repeat \u001b[1m\u001b[34m#1\n",
      "Repeat \u001b[1m\u001b[34m#2\n",
      "Repeat \u001b[1m\u001b[34m#3\n"
     ]
    },
    {
     "name": "stderr",
     "output_type": "stream",
     "text": [
      "[I 2023-06-17 16:54:55,812] Trial 692 finished with value: 0.32569880500322795 and parameters: {'bootstrap_type': 'Bayesian', 'grow_policy': 'Depthwise', 'learning_rate': 0.183126579981131, 'l2_leaf_reg': 6.526205968985429, 'depth': 4, 'random_strength': 51.58767814747971, 'min_data_in_leaf': 87, 'bagging_temperature': 54.55807464798468}. Best is trial 236 with value: 0.2204946060949904.\n"
     ]
    },
    {
     "name": "stdout",
     "output_type": "stream",
     "text": [
      "Repeat \u001b[1m\u001b[34m#1\n",
      "Repeat \u001b[1m\u001b[34m#2\n",
      "Repeat \u001b[1m\u001b[34m#3\n"
     ]
    },
    {
     "name": "stderr",
     "output_type": "stream",
     "text": [
      "[I 2023-06-17 16:55:24,084] Trial 693 finished with value: 0.23986167211314058 and parameters: {'bootstrap_type': 'Bayesian', 'grow_policy': 'Depthwise', 'learning_rate': 0.014044908318088347, 'l2_leaf_reg': 33.51407892473599, 'depth': 4, 'random_strength': 10.763654807056447, 'min_data_in_leaf': 95, 'bagging_temperature': 28.779601882470597}. Best is trial 236 with value: 0.2204946060949904.\n"
     ]
    },
    {
     "name": "stdout",
     "output_type": "stream",
     "text": [
      "Repeat \u001b[1m\u001b[34m#1\n",
      "Repeat \u001b[1m\u001b[34m#2\n",
      "Repeat \u001b[1m\u001b[34m#3\n"
     ]
    },
    {
     "name": "stderr",
     "output_type": "stream",
     "text": [
      "[I 2023-06-17 16:55:40,211] Trial 694 finished with value: 0.3858023341808641 and parameters: {'bootstrap_type': 'Bernoulli', 'grow_policy': 'SymmetricTree', 'learning_rate': 0.02854620497190759, 'l2_leaf_reg': 1.300656356954854e-06, 'depth': 4, 'random_strength': 99.0414595845446, 'min_data_in_leaf': 91, 'subsample': 0.7701053496359194, 'boosting_type': 'Ordered'}. Best is trial 236 with value: 0.2204946060949904.\n"
     ]
    },
    {
     "name": "stdout",
     "output_type": "stream",
     "text": [
      "Repeat \u001b[1m\u001b[34m#1\n",
      "Repeat \u001b[1m\u001b[34m#2\n",
      "Repeat \u001b[1m\u001b[34m#3\n"
     ]
    },
    {
     "name": "stderr",
     "output_type": "stream",
     "text": [
      "[I 2023-06-17 16:56:23,591] Trial 695 finished with value: 0.3998500309212227 and parameters: {'bootstrap_type': 'Bayesian', 'grow_policy': 'Depthwise', 'learning_rate': 0.0008976230918602632, 'l2_leaf_reg': 2.4627371889450028e-05, 'depth': 4, 'random_strength': 8.647015456534469, 'min_data_in_leaf': 94, 'bagging_temperature': 32.62615533685614}. Best is trial 236 with value: 0.2204946060949904.\n"
     ]
    },
    {
     "name": "stdout",
     "output_type": "stream",
     "text": [
      "Repeat \u001b[1m\u001b[34m#1\n",
      "Repeat \u001b[1m\u001b[34m#2\n",
      "Repeat \u001b[1m\u001b[34m#3\n"
     ]
    },
    {
     "name": "stderr",
     "output_type": "stream",
     "text": [
      "[I 2023-06-17 16:57:06,236] Trial 696 finished with value: 0.44715669336973907 and parameters: {'bootstrap_type': 'Bayesian', 'grow_policy': 'Lossguide', 'learning_rate': 0.000675448558119595, 'l2_leaf_reg': 0.0006719939472019027, 'depth': 4, 'random_strength': 74.77415589430643, 'min_data_in_leaf': 98, 'bagging_temperature': 39.848171888267416, 'max_leaves': 58}. Best is trial 236 with value: 0.2204946060949904.\n"
     ]
    },
    {
     "name": "stdout",
     "output_type": "stream",
     "text": [
      "Repeat \u001b[1m\u001b[34m#1\n",
      "Repeat \u001b[1m\u001b[34m#2\n",
      "Repeat \u001b[1m\u001b[34m#3\n"
     ]
    },
    {
     "name": "stderr",
     "output_type": "stream",
     "text": [
      "[I 2023-06-17 16:57:32,177] Trial 697 finished with value: 0.23556405750862272 and parameters: {'bootstrap_type': 'Bayesian', 'grow_policy': 'Depthwise', 'learning_rate': 0.032909891772128434, 'l2_leaf_reg': 99.14781730612184, 'depth': 4, 'random_strength': 64.83855118320926, 'min_data_in_leaf': 89, 'bagging_temperature': 44.13674957811133}. Best is trial 236 with value: 0.2204946060949904.\n"
     ]
    },
    {
     "name": "stdout",
     "output_type": "stream",
     "text": [
      "Repeat \u001b[1m\u001b[34m#1\n",
      "Repeat \u001b[1m\u001b[34m#2\n",
      "Repeat \u001b[1m\u001b[34m#3\n"
     ]
    },
    {
     "name": "stderr",
     "output_type": "stream",
     "text": [
      "[I 2023-06-17 16:57:33,028] Trial 698 finished with value: 0.693460619177244 and parameters: {'bootstrap_type': 'Bayesian', 'grow_policy': 'Depthwise', 'learning_rate': 0.061316070987543186, 'l2_leaf_reg': 0.49889247128154607, 'depth': 4, 'random_strength': 47.72847708488833, 'min_data_in_leaf': 93, 'bagging_temperature': 84.16181162023163}. Best is trial 236 with value: 0.2204946060949904.\n"
     ]
    },
    {
     "name": "stdout",
     "output_type": "stream",
     "text": [
      "Repeat \u001b[1m\u001b[34m#1\n",
      "Repeat \u001b[1m\u001b[34m#2\n",
      "Repeat \u001b[1m\u001b[34m#3\n"
     ]
    },
    {
     "name": "stderr",
     "output_type": "stream",
     "text": [
      "[I 2023-06-17 16:58:08,060] Trial 699 finished with value: 0.24488164857311653 and parameters: {'bootstrap_type': 'Bayesian', 'grow_policy': 'Depthwise', 'learning_rate': 0.006926238321549971, 'l2_leaf_reg': 0.876359136734147, 'depth': 4, 'random_strength': 40.378294363771694, 'min_data_in_leaf': 96, 'bagging_temperature': 36.04778131803876}. Best is trial 236 with value: 0.2204946060949904.\n"
     ]
    },
    {
     "name": "stdout",
     "output_type": "stream",
     "text": [
      "Repeat \u001b[1m\u001b[34m#1\n",
      "Repeat \u001b[1m\u001b[34m#2\n",
      "Repeat \u001b[1m\u001b[34m#3\n"
     ]
    },
    {
     "name": "stderr",
     "output_type": "stream",
     "text": [
      "[I 2023-06-17 16:58:26,899] Trial 700 finished with value: 0.678279003280219 and parameters: {'bootstrap_type': 'Bayesian', 'grow_policy': 'Depthwise', 'learning_rate': 0.0001695909381469088, 'l2_leaf_reg': 2.1951895622982103, 'depth': 4, 'random_strength': 62.45619955090999, 'min_data_in_leaf': 83, 'bagging_temperature': 51.442851993611015}. Best is trial 236 with value: 0.2204946060949904.\n"
     ]
    },
    {
     "name": "stdout",
     "output_type": "stream",
     "text": [
      "Repeat \u001b[1m\u001b[34m#1\n",
      "Repeat \u001b[1m\u001b[34m#2\n",
      "Repeat \u001b[1m\u001b[34m#3\n"
     ]
    },
    {
     "name": "stderr",
     "output_type": "stream",
     "text": [
      "[I 2023-06-17 16:58:31,086] Trial 701 finished with value: 0.2665557104393799 and parameters: {'bootstrap_type': 'Bayesian', 'grow_policy': 'Depthwise', 'learning_rate': 0.1238596566750423, 'l2_leaf_reg': 0.0009337289192797012, 'depth': 4, 'random_strength': 70.8844052849748, 'min_data_in_leaf': 100, 'bagging_temperature': 16.6797609095737}. Best is trial 236 with value: 0.2204946060949904.\n"
     ]
    },
    {
     "name": "stdout",
     "output_type": "stream",
     "text": [
      "Repeat \u001b[1m\u001b[34m#1\n",
      "Repeat \u001b[1m\u001b[34m#2\n",
      "Repeat \u001b[1m\u001b[34m#3\n"
     ]
    },
    {
     "name": "stderr",
     "output_type": "stream",
     "text": [
      "[I 2023-06-17 16:58:51,591] Trial 702 finished with value: 0.23174460797902705 and parameters: {'bootstrap_type': 'Bayesian', 'grow_policy': 'Depthwise', 'learning_rate': 0.03755514775299601, 'l2_leaf_reg': 56.74997239246888, 'depth': 4, 'random_strength': 67.87751059096951, 'min_data_in_leaf': 91, 'bagging_temperature': 26.326730463860194}. Best is trial 236 with value: 0.2204946060949904.\n"
     ]
    },
    {
     "name": "stdout",
     "output_type": "stream",
     "text": [
      "Repeat \u001b[1m\u001b[34m#1\n",
      "Repeat \u001b[1m\u001b[34m#2\n",
      "Repeat \u001b[1m\u001b[34m#3\n"
     ]
    },
    {
     "name": "stderr",
     "output_type": "stream",
     "text": [
      "[I 2023-06-17 16:58:52,418] Trial 703 finished with value: 0.6932625514816256 and parameters: {'bootstrap_type': 'Bayesian', 'grow_policy': 'Depthwise', 'learning_rate': 0.022671387728996288, 'l2_leaf_reg': 5.41242930602692e-05, 'depth': 4, 'random_strength': 56.95094422979274, 'min_data_in_leaf': 94, 'bagging_temperature': 68.49263745659195}. Best is trial 236 with value: 0.2204946060949904.\n"
     ]
    },
    {
     "name": "stdout",
     "output_type": "stream",
     "text": [
      "Repeat \u001b[1m\u001b[34m#1\n",
      "Repeat \u001b[1m\u001b[34m#2\n",
      "Repeat \u001b[1m\u001b[34m#3\n"
     ]
    },
    {
     "name": "stderr",
     "output_type": "stream",
     "text": [
      "[I 2023-06-17 16:58:56,356] Trial 704 finished with value: 0.25301216297747425 and parameters: {'bootstrap_type': 'MVS', 'grow_policy': 'Depthwise', 'learning_rate': 0.10298679982213084, 'l2_leaf_reg': 4.616547775378305, 'depth': 4, 'random_strength': 88.99620389232612, 'min_data_in_leaf': 92}. Best is trial 236 with value: 0.2204946060949904.\n"
     ]
    },
    {
     "name": "stdout",
     "output_type": "stream",
     "text": [
      "Repeat \u001b[1m\u001b[34m#1\n",
      "Repeat \u001b[1m\u001b[34m#2\n",
      "Repeat \u001b[1m\u001b[34m#3\n"
     ]
    },
    {
     "name": "stderr",
     "output_type": "stream",
     "text": [
      "[I 2023-06-17 16:59:04,273] Trial 705 finished with value: 0.23467056080471407 and parameters: {'bootstrap_type': 'Bayesian', 'grow_policy': 'Lossguide', 'learning_rate': 0.04755360391039734, 'l2_leaf_reg': 0.0016432126604698347, 'depth': 4, 'random_strength': 65.89071573171894, 'min_data_in_leaf': 98, 'bagging_temperature': 30.655711162958603, 'max_leaves': 47}. Best is trial 236 with value: 0.2204946060949904.\n"
     ]
    },
    {
     "name": "stdout",
     "output_type": "stream",
     "text": [
      "Repeat \u001b[1m\u001b[34m#1\n",
      "Repeat \u001b[1m\u001b[34m#2\n",
      "Repeat \u001b[1m\u001b[34m#3\n"
     ]
    },
    {
     "name": "stderr",
     "output_type": "stream",
     "text": [
      "[I 2023-06-17 16:59:12,193] Trial 706 finished with value: 0.26949928884520863 and parameters: {'bootstrap_type': 'Bayesian', 'grow_policy': 'Depthwise', 'learning_rate': 0.028855253703248065, 'l2_leaf_reg': 0.00010557151485168059, 'depth': 4, 'random_strength': 82.31178741606249, 'min_data_in_leaf': 96, 'bagging_temperature': 0.3430627245309523}. Best is trial 236 with value: 0.2204946060949904.\n"
     ]
    },
    {
     "name": "stdout",
     "output_type": "stream",
     "text": [
      "Repeat \u001b[1m\u001b[34m#1\n",
      "Repeat \u001b[1m\u001b[34m#2\n",
      "Repeat \u001b[1m\u001b[34m#3\n"
     ]
    },
    {
     "name": "stderr",
     "output_type": "stream",
     "text": [
      "[I 2023-06-17 16:59:20,116] Trial 707 finished with value: 0.2427594574410238 and parameters: {'bootstrap_type': 'Bayesian', 'grow_policy': 'Depthwise', 'learning_rate': 0.054541364827002954, 'l2_leaf_reg': 0.08721177172059305, 'depth': 4, 'random_strength': 86.98422843848452, 'min_data_in_leaf': 86, 'bagging_temperature': 34.14563016322721}. Best is trial 236 with value: 0.2204946060949904.\n"
     ]
    },
    {
     "name": "stdout",
     "output_type": "stream",
     "text": [
      "Repeat \u001b[1m\u001b[34m#1\n",
      "Repeat \u001b[1m\u001b[34m#2\n",
      "Repeat \u001b[1m\u001b[34m#3\n"
     ]
    },
    {
     "name": "stderr",
     "output_type": "stream",
     "text": [
      "[I 2023-06-17 17:00:01,181] Trial 708 finished with value: 0.44351236199061467 and parameters: {'bootstrap_type': 'Bayesian', 'grow_policy': 'Depthwise', 'learning_rate': 0.0007944815017454918, 'l2_leaf_reg': 9.592269092331746, 'depth': 4, 'random_strength': 92.67571800643651, 'min_data_in_leaf': 89, 'bagging_temperature': 38.137591287186744}. Best is trial 236 with value: 0.2204946060949904.\n"
     ]
    },
    {
     "name": "stdout",
     "output_type": "stream",
     "text": [
      "Repeat \u001b[1m\u001b[34m#1\n",
      "Repeat \u001b[1m\u001b[34m#2\n",
      "Repeat \u001b[1m\u001b[34m#3\n"
     ]
    },
    {
     "name": "stderr",
     "output_type": "stream",
     "text": [
      "[I 2023-06-17 17:00:42,007] Trial 709 finished with value: 0.39690384169157406 and parameters: {'bootstrap_type': 'Bayesian', 'grow_policy': 'Depthwise', 'learning_rate': 0.0011477260591085095, 'l2_leaf_reg': 18.057700258105115, 'depth': 4, 'random_strength': 72.67970134365062, 'min_data_in_leaf': 94, 'bagging_temperature': 32.18954134318299}. Best is trial 236 with value: 0.2204946060949904.\n"
     ]
    },
    {
     "name": "stdout",
     "output_type": "stream",
     "text": [
      "Repeat \u001b[1m\u001b[34m#1\n",
      "Repeat \u001b[1m\u001b[34m#2\n",
      "Repeat \u001b[1m\u001b[34m#3\n"
     ]
    },
    {
     "name": "stderr",
     "output_type": "stream",
     "text": [
      "[I 2023-06-17 17:00:54,308] Trial 710 finished with value: 0.23454354427755772 and parameters: {'bootstrap_type': 'Bayesian', 'grow_policy': 'Depthwise', 'learning_rate': 0.034842623756459246, 'l2_leaf_reg': 1.4749558181538232, 'depth': 4, 'random_strength': 77.35618725228933, 'min_data_in_leaf': 92, 'bagging_temperature': 23.279206251059875}. Best is trial 236 with value: 0.2204946060949904.\n"
     ]
    },
    {
     "name": "stdout",
     "output_type": "stream",
     "text": [
      "Repeat \u001b[1m\u001b[34m#1\n",
      "Repeat \u001b[1m\u001b[34m#2\n",
      "Repeat \u001b[1m\u001b[34m#3\n"
     ]
    },
    {
     "name": "stderr",
     "output_type": "stream",
     "text": [
      "[I 2023-06-17 17:00:55,124] Trial 711 finished with value: 0.6926974155271167 and parameters: {'bootstrap_type': 'Bayesian', 'grow_policy': 'Depthwise', 'learning_rate': 0.06956031012849889, 'l2_leaf_reg': 0.03379470677536018, 'depth': 4, 'random_strength': 63.658592264663035, 'min_data_in_leaf': 97, 'bagging_temperature': 61.390579933099225}. Best is trial 236 with value: 0.2204946060949904.\n"
     ]
    },
    {
     "name": "stdout",
     "output_type": "stream",
     "text": [
      "Repeat \u001b[1m\u001b[34m#1\n",
      "Repeat \u001b[1m\u001b[34m#2\n",
      "Repeat \u001b[1m\u001b[34m#3\n"
     ]
    },
    {
     "name": "stderr",
     "output_type": "stream",
     "text": [
      "[I 2023-06-17 17:01:14,546] Trial 712 finished with value: 0.253207154770013 and parameters: {'bootstrap_type': 'Bayesian', 'grow_policy': 'Depthwise', 'learning_rate': 0.017819546757861442, 'l2_leaf_reg': 0.17651623148562723, 'depth': 5, 'random_strength': 35.4545994371149, 'min_data_in_leaf': 95, 'bagging_temperature': 49.011371673383145}. Best is trial 236 with value: 0.2204946060949904.\n"
     ]
    },
    {
     "name": "stdout",
     "output_type": "stream",
     "text": [
      "Repeat \u001b[1m\u001b[34m#1\n",
      "Repeat \u001b[1m\u001b[34m#2\n",
      "Repeat \u001b[1m\u001b[34m#3\n"
     ]
    },
    {
     "name": "stderr",
     "output_type": "stream",
     "text": [
      "[I 2023-06-17 17:01:23,973] Trial 713 finished with value: 0.27455069479488126 and parameters: {'bootstrap_type': 'Bayesian', 'grow_policy': 'Lossguide', 'learning_rate': 0.02493603671840843, 'l2_leaf_reg': 1.07498096826586e-06, 'depth': 9, 'random_strength': 69.56804080913697, 'min_data_in_leaf': 88, 'bagging_temperature': 36.043292250544795, 'max_leaves': 54}. Best is trial 236 with value: 0.2204946060949904.\n"
     ]
    },
    {
     "name": "stdout",
     "output_type": "stream",
     "text": [
      "Repeat \u001b[1m\u001b[34m#1\n",
      "Repeat \u001b[1m\u001b[34m#2\n",
      "Repeat \u001b[1m\u001b[34m#3\n"
     ]
    },
    {
     "name": "stderr",
     "output_type": "stream",
     "text": [
      "[I 2023-06-17 17:01:24,797] Trial 714 finished with value: 0.6933496682700038 and parameters: {'bootstrap_type': 'Bayesian', 'grow_policy': 'Depthwise', 'learning_rate': 0.039703885574665775, 'l2_leaf_reg': 5.318828285559521e-08, 'depth': 4, 'random_strength': 25.621736514685217, 'min_data_in_leaf': 99, 'bagging_temperature': 88.18210648615546}. Best is trial 236 with value: 0.2204946060949904.\n"
     ]
    },
    {
     "name": "stdout",
     "output_type": "stream",
     "text": [
      "Repeat \u001b[1m\u001b[34m#1\n",
      "Repeat \u001b[1m\u001b[34m#2\n",
      "Repeat \u001b[1m\u001b[34m#3\n"
     ]
    },
    {
     "name": "stderr",
     "output_type": "stream",
     "text": [
      "[I 2023-06-17 17:01:28,425] Trial 715 finished with value: 0.28142727430189124 and parameters: {'bootstrap_type': 'Bayesian', 'grow_policy': 'Depthwise', 'learning_rate': 0.14481436441416318, 'l2_leaf_reg': 1.228379793042339e-08, 'depth': 4, 'random_strength': 45.37896675847715, 'min_data_in_leaf': 91, 'bagging_temperature': 42.40076314123281}. Best is trial 236 with value: 0.2204946060949904.\n"
     ]
    },
    {
     "name": "stdout",
     "output_type": "stream",
     "text": [
      "Repeat \u001b[1m\u001b[34m#1\n",
      "Repeat \u001b[1m\u001b[34m#2\n",
      "Repeat \u001b[1m\u001b[34m#3\n"
     ]
    },
    {
     "name": "stderr",
     "output_type": "stream",
     "text": [
      "[I 2023-06-17 17:01:31,638] Trial 716 finished with value: 0.6878956841989817 and parameters: {'bootstrap_type': 'Bayesian', 'grow_policy': 'SymmetricTree', 'learning_rate': 0.03054052393971329, 'l2_leaf_reg': 3.35124272085604, 'depth': 4, 'random_strength': 52.751206155915945, 'min_data_in_leaf': 93, 'bagging_temperature': 97.16088587604298, 'boosting_type': 'Ordered'}. Best is trial 236 with value: 0.2204946060949904.\n"
     ]
    },
    {
     "name": "stdout",
     "output_type": "stream",
     "text": [
      "Repeat \u001b[1m\u001b[34m#1\n",
      "Repeat \u001b[1m\u001b[34m#2\n",
      "Repeat \u001b[1m\u001b[34m#3\n"
     ]
    },
    {
     "name": "stderr",
     "output_type": "stream",
     "text": [
      "[I 2023-06-17 17:01:47,213] Trial 717 finished with value: 0.24762581468291467 and parameters: {'bootstrap_type': 'Bernoulli', 'grow_policy': 'Depthwise', 'learning_rate': 0.01278963338611942, 'l2_leaf_reg': 0.0179329539394263, 'depth': 4, 'random_strength': 60.72716409613121, 'min_data_in_leaf': 96, 'subsample': 0.7133186720135054}. Best is trial 236 with value: 0.2204946060949904.\n"
     ]
    },
    {
     "name": "stdout",
     "output_type": "stream",
     "text": [
      "Repeat \u001b[1m\u001b[34m#1\n",
      "Repeat \u001b[1m\u001b[34m#2\n",
      "Repeat \u001b[1m\u001b[34m#3\n"
     ]
    },
    {
     "name": "stderr",
     "output_type": "stream",
     "text": [
      "[I 2023-06-17 17:01:48,481] Trial 718 finished with value: 0.6926743566463828 and parameters: {'bootstrap_type': 'Bayesian', 'grow_policy': 'Depthwise', 'learning_rate': 0.0009388004868621456, 'l2_leaf_reg': 6.28747852339029e-08, 'depth': 4, 'random_strength': 66.99437973949752, 'min_data_in_leaf': 90, 'bagging_temperature': 56.32991302518859}. Best is trial 236 with value: 0.2204946060949904.\n"
     ]
    },
    {
     "name": "stdout",
     "output_type": "stream",
     "text": [
      "Repeat \u001b[1m\u001b[34m#1\n",
      "Repeat \u001b[1m\u001b[34m#2\n",
      "Repeat \u001b[1m\u001b[34m#3\n"
     ]
    },
    {
     "name": "stderr",
     "output_type": "stream",
     "text": [
      "[I 2023-06-17 17:02:27,507] Trial 719 finished with value: 0.5373569330892809 and parameters: {'bootstrap_type': 'Bayesian', 'grow_policy': 'Depthwise', 'learning_rate': 0.0003778874434959013, 'l2_leaf_reg': 6.670049886105837, 'depth': 4, 'random_strength': 79.2783959343553, 'min_data_in_leaf': 94, 'bagging_temperature': 11.474052573844752}. Best is trial 236 with value: 0.2204946060949904.\n"
     ]
    },
    {
     "name": "stdout",
     "output_type": "stream",
     "text": [
      "Repeat \u001b[1m\u001b[34m#1\n",
      "Repeat \u001b[1m\u001b[34m#2\n",
      "Repeat \u001b[1m\u001b[34m#3\n"
     ]
    },
    {
     "name": "stderr",
     "output_type": "stream",
     "text": [
      "[I 2023-06-17 17:02:33,376] Trial 720 finished with value: 0.2364605827453806 and parameters: {'bootstrap_type': 'Bayesian', 'grow_policy': 'Depthwise', 'learning_rate': 0.09673832914754163, 'l2_leaf_reg': 0.0018155324067573562, 'depth': 4, 'random_strength': 49.99092398504828, 'min_data_in_leaf': 85, 'bagging_temperature': 27.591748775388506}. Best is trial 236 with value: 0.2204946060949904.\n"
     ]
    },
    {
     "name": "stdout",
     "output_type": "stream",
     "text": [
      "Repeat \u001b[1m\u001b[34m#1\n",
      "Repeat \u001b[1m\u001b[34m#2\n",
      "Repeat \u001b[1m\u001b[34m#3\n"
     ]
    },
    {
     "name": "stderr",
     "output_type": "stream",
     "text": [
      "[I 2023-06-17 17:02:40,650] Trial 721 finished with value: 0.23060895131145975 and parameters: {'bootstrap_type': 'Bayesian', 'grow_policy': 'Depthwise', 'learning_rate': 0.07945648022791563, 'l2_leaf_reg': 0.40134281267830196, 'depth': 4, 'random_strength': 74.67704692452446, 'min_data_in_leaf': 98, 'bagging_temperature': 30.531562521038573}. Best is trial 236 with value: 0.2204946060949904.\n"
     ]
    },
    {
     "name": "stdout",
     "output_type": "stream",
     "text": [
      "Repeat \u001b[1m\u001b[34m#1\n",
      "Repeat \u001b[1m\u001b[34m#2\n",
      "Repeat \u001b[1m\u001b[34m#3\n"
     ]
    },
    {
     "name": "stderr",
     "output_type": "stream",
     "text": [
      "[I 2023-06-17 17:02:48,541] Trial 722 finished with value: 0.24146012540418624 and parameters: {'bootstrap_type': 'Bayesian', 'grow_policy': 'Lossguide', 'learning_rate': 0.04553768302616217, 'l2_leaf_reg': 0.001191929970289381, 'depth': 4, 'random_strength': 70.88269891893194, 'min_data_in_leaf': 95, 'bagging_temperature': 34.15124816902825, 'max_leaves': 84}. Best is trial 236 with value: 0.2204946060949904.\n"
     ]
    },
    {
     "name": "stdout",
     "output_type": "stream",
     "text": [
      "Repeat \u001b[1m\u001b[34m#1\n",
      "Repeat \u001b[1m\u001b[34m#2\n",
      "Repeat \u001b[1m\u001b[34m#3\n"
     ]
    },
    {
     "name": "stderr",
     "output_type": "stream",
     "text": [
      "[I 2023-06-17 17:02:49,387] Trial 723 finished with value: 0.6923237159328902 and parameters: {'bootstrap_type': 'Bayesian', 'grow_policy': 'Depthwise', 'learning_rate': 0.02274223702793479, 'l2_leaf_reg': 2.2235150883935133, 'depth': 4, 'random_strength': 58.75008604593086, 'min_data_in_leaf': 92, 'bagging_temperature': 62.114938348754094}. Best is trial 236 with value: 0.2204946060949904.\n"
     ]
    },
    {
     "name": "stdout",
     "output_type": "stream",
     "text": [
      "Repeat \u001b[1m\u001b[34m#1\n",
      "Repeat \u001b[1m\u001b[34m#2\n",
      "Repeat \u001b[1m\u001b[34m#3\n"
     ]
    },
    {
     "name": "stderr",
     "output_type": "stream",
     "text": [
      "[I 2023-06-17 17:03:05,605] Trial 724 finished with value: 0.22184845055502123 and parameters: {'bootstrap_type': 'Bayesian', 'grow_policy': 'Depthwise', 'learning_rate': 0.03439600779007228, 'l2_leaf_reg': 13.55082146995046, 'depth': 4, 'random_strength': 38.06275107172046, 'min_data_in_leaf': 99, 'bagging_temperature': 40.174120479946254}. Best is trial 236 with value: 0.2204946060949904.\n"
     ]
    },
    {
     "name": "stdout",
     "output_type": "stream",
     "text": [
      "Repeat \u001b[1m\u001b[34m#1\n",
      "Repeat \u001b[1m\u001b[34m#2\n",
      "Repeat \u001b[1m\u001b[34m#3\n"
     ]
    },
    {
     "name": "stderr",
     "output_type": "stream",
     "text": [
      "[I 2023-06-17 17:03:23,333] Trial 725 finished with value: 0.22960455831334547 and parameters: {'bootstrap_type': 'Bayesian', 'grow_policy': 'Depthwise', 'learning_rate': 0.02677124856042028, 'l2_leaf_reg': 15.194277299673704, 'depth': 4, 'random_strength': 37.98477049642437, 'min_data_in_leaf': 100, 'bagging_temperature': 40.30466788884221}. Best is trial 236 with value: 0.2204946060949904.\n"
     ]
    },
    {
     "name": "stdout",
     "output_type": "stream",
     "text": [
      "Repeat \u001b[1m\u001b[34m#1\n",
      "Repeat \u001b[1m\u001b[34m#2\n",
      "Repeat \u001b[1m\u001b[34m#3\n"
     ]
    },
    {
     "name": "stderr",
     "output_type": "stream",
     "text": [
      "[I 2023-06-17 17:03:37,202] Trial 726 finished with value: 0.23974169530129988 and parameters: {'bootstrap_type': 'MVS', 'grow_policy': 'Depthwise', 'learning_rate': 0.020038588449760423, 'l2_leaf_reg': 31.512798883098153, 'depth': 4, 'random_strength': 31.406490424416532, 'min_data_in_leaf': 65}. Best is trial 236 with value: 0.2204946060949904.\n"
     ]
    },
    {
     "name": "stdout",
     "output_type": "stream",
     "text": [
      "Repeat \u001b[1m\u001b[34m#1\n",
      "Repeat \u001b[1m\u001b[34m#2\n",
      "Repeat \u001b[1m\u001b[34m#3\n"
     ]
    },
    {
     "name": "stderr",
     "output_type": "stream",
     "text": [
      "[I 2023-06-17 17:03:47,884] Trial 727 finished with value: 0.24153367399595158 and parameters: {'bootstrap_type': 'Bayesian', 'grow_policy': 'Depthwise', 'learning_rate': 0.03279978498307515, 'l2_leaf_reg': 0.0028698788671095805, 'depth': 4, 'random_strength': 33.302075196527554, 'min_data_in_leaf': 99, 'bagging_temperature': 39.282005859870814}. Best is trial 236 with value: 0.2204946060949904.\n"
     ]
    },
    {
     "name": "stdout",
     "output_type": "stream",
     "text": [
      "Repeat \u001b[1m\u001b[34m#1\n",
      "Repeat \u001b[1m\u001b[34m#2\n",
      "Repeat \u001b[1m\u001b[34m#3\n"
     ]
    },
    {
     "name": "stderr",
     "output_type": "stream",
     "text": [
      "[I 2023-06-17 17:04:07,204] Trial 728 finished with value: 0.23101147326533425 and parameters: {'bootstrap_type': 'Bayesian', 'grow_policy': 'Depthwise', 'learning_rate': 0.027478977699960893, 'l2_leaf_reg': 22.38980963840993, 'depth': 4, 'random_strength': 15.624177573670764, 'min_data_in_leaf': 87, 'bagging_temperature': 43.64735408764211}. Best is trial 236 with value: 0.2204946060949904.\n"
     ]
    },
    {
     "name": "stdout",
     "output_type": "stream",
     "text": [
      "Repeat \u001b[1m\u001b[34m#1\n",
      "Repeat \u001b[1m\u001b[34m#2\n",
      "Repeat \u001b[1m\u001b[34m#3\n"
     ]
    },
    {
     "name": "stderr",
     "output_type": "stream",
     "text": [
      "[I 2023-06-17 17:04:21,406] Trial 729 finished with value: 0.2278193679649925 and parameters: {'bootstrap_type': 'Bayesian', 'grow_policy': 'Depthwise', 'learning_rate': 0.03537311904732084, 'l2_leaf_reg': 11.228084211310465, 'depth': 4, 'random_strength': 25.202969226986905, 'min_data_in_leaf': 99, 'bagging_temperature': 41.41914035464269}. Best is trial 236 with value: 0.2204946060949904.\n"
     ]
    },
    {
     "name": "stdout",
     "output_type": "stream",
     "text": [
      "Repeat \u001b[1m\u001b[34m#1\n",
      "Repeat \u001b[1m\u001b[34m#2\n",
      "Repeat \u001b[1m\u001b[34m#3\n"
     ]
    },
    {
     "name": "stderr",
     "output_type": "stream",
     "text": [
      "[I 2023-06-17 17:04:36,647] Trial 730 finished with value: 0.238253708074873 and parameters: {'bootstrap_type': 'Bayesian', 'grow_policy': 'Depthwise', 'learning_rate': 0.11421825306602573, 'l2_leaf_reg': 45.83238622686335, 'depth': 7, 'random_strength': 35.088286080093205, 'min_data_in_leaf': 55, 'bagging_temperature': 38.03974278745524}. Best is trial 236 with value: 0.2204946060949904.\n"
     ]
    },
    {
     "name": "stdout",
     "output_type": "stream",
     "text": [
      "Repeat \u001b[1m\u001b[34m#1\n",
      "Repeat \u001b[1m\u001b[34m#2\n",
      "Repeat \u001b[1m\u001b[34m#3\n"
     ]
    },
    {
     "name": "stderr",
     "output_type": "stream",
     "text": [
      "[I 2023-06-17 17:04:37,402] Trial 731 finished with value: 0.6932283660533551 and parameters: {'bootstrap_type': 'Bayesian', 'grow_policy': 'Lossguide', 'learning_rate': 0.015967195318966912, 'l2_leaf_reg': 2.37565271768639e-06, 'depth': 4, 'random_strength': 38.07533078317078, 'min_data_in_leaf': 100, 'bagging_temperature': 79.98549010976518, 'max_leaves': 40}. Best is trial 236 with value: 0.2204946060949904.\n"
     ]
    },
    {
     "name": "stdout",
     "output_type": "stream",
     "text": [
      "Repeat \u001b[1m\u001b[34m#1\n",
      "Repeat \u001b[1m\u001b[34m#2\n",
      "Repeat \u001b[1m\u001b[34m#3\n"
     ]
    },
    {
     "name": "stderr",
     "output_type": "stream",
     "text": [
      "[I 2023-06-17 17:05:17,771] Trial 732 finished with value: 0.2872121124633169 and parameters: {'bootstrap_type': 'Bayesian', 'grow_policy': 'Depthwise', 'learning_rate': 0.003233936359258004, 'l2_leaf_reg': 15.139923253895972, 'depth': 4, 'random_strength': 68.68326842839426, 'min_data_in_leaf': 89, 'bagging_temperature': 37.02114068463994}. Best is trial 236 with value: 0.2204946060949904.\n"
     ]
    },
    {
     "name": "stdout",
     "output_type": "stream",
     "text": [
      "Repeat \u001b[1m\u001b[34m#1\n",
      "Repeat \u001b[1m\u001b[34m#2\n",
      "Repeat \u001b[1m\u001b[34m#3\n"
     ]
    },
    {
     "name": "stderr",
     "output_type": "stream",
     "text": [
      "[I 2023-06-17 17:05:18,580] Trial 733 finished with value: 0.6935977779773369 and parameters: {'bootstrap_type': 'Bayesian', 'grow_policy': 'Depthwise', 'learning_rate': 0.08787995364390745, 'l2_leaf_reg': 27.007228073499427, 'depth': 4, 'random_strength': 65.95379759789566, 'min_data_in_leaf': 97, 'bagging_temperature': 78.47666357392555}. Best is trial 236 with value: 0.2204946060949904.\n"
     ]
    },
    {
     "name": "stdout",
     "output_type": "stream",
     "text": [
      "Repeat \u001b[1m\u001b[34m#1\n",
      "Repeat \u001b[1m\u001b[34m#2\n",
      "Repeat \u001b[1m\u001b[34m#3\n"
     ]
    },
    {
     "name": "stderr",
     "output_type": "stream",
     "text": [
      "[I 2023-06-17 17:05:48,002] Trial 734 finished with value: 0.6520657069205168 and parameters: {'bootstrap_type': 'Bayesian', 'grow_policy': 'Depthwise', 'learning_rate': 0.0001318229763716661, 'l2_leaf_reg': 9.025335858403299, 'depth': 4, 'random_strength': 39.2406100477173, 'min_data_in_leaf': 93, 'bagging_temperature': 46.239445025764965}. Best is trial 236 with value: 0.2204946060949904.\n"
     ]
    },
    {
     "name": "stdout",
     "output_type": "stream",
     "text": [
      "Repeat \u001b[1m\u001b[34m#1\n",
      "Repeat \u001b[1m\u001b[34m#2\n",
      "Repeat \u001b[1m\u001b[34m#3\n"
     ]
    },
    {
     "name": "stderr",
     "output_type": "stream",
     "text": [
      "[I 2023-06-17 17:06:24,063] Trial 735 finished with value: 0.33656520285944885 and parameters: {'bootstrap_type': 'Bayesian', 'grow_policy': 'Depthwise', 'learning_rate': 0.001735998183583424, 'l2_leaf_reg': 0.00028823271189452865, 'depth': 4, 'random_strength': 72.6612864343447, 'min_data_in_leaf': 96, 'bagging_temperature': 40.470624352150715}. Best is trial 236 with value: 0.2204946060949904.\n"
     ]
    },
    {
     "name": "stdout",
     "output_type": "stream",
     "text": [
      "Repeat \u001b[1m\u001b[34m#1\n",
      "Repeat \u001b[1m\u001b[34m#2\n",
      "Repeat \u001b[1m\u001b[34m#3\n"
     ]
    },
    {
     "name": "stderr",
     "output_type": "stream",
     "text": [
      "[I 2023-06-17 17:06:38,803] Trial 736 finished with value: 0.23482195560014404 and parameters: {'bootstrap_type': 'Bayesian', 'grow_policy': 'Depthwise', 'learning_rate': 0.025329345409776428, 'l2_leaf_reg': 0.7593177219643098, 'depth': 4, 'random_strength': 36.48929594798864, 'min_data_in_leaf': 91, 'bagging_temperature': 36.318849061988296}. Best is trial 236 with value: 0.2204946060949904.\n"
     ]
    },
    {
     "name": "stdout",
     "output_type": "stream",
     "text": [
      "Repeat \u001b[1m\u001b[34m#1\n",
      "Repeat \u001b[1m\u001b[34m#2\n",
      "Repeat \u001b[1m\u001b[34m#3\n"
     ]
    },
    {
     "name": "stderr",
     "output_type": "stream",
     "text": [
      "[I 2023-06-17 17:07:00,939] Trial 737 finished with value: 0.23022745812515108 and parameters: {'bootstrap_type': 'Bayesian', 'grow_policy': 'Depthwise', 'learning_rate': 0.03231654605671726, 'l2_leaf_reg': 63.14205369753662, 'depth': 4, 'random_strength': 63.95940272870554, 'min_data_in_leaf': 94, 'bagging_temperature': 43.13217820397015}. Best is trial 236 with value: 0.2204946060949904.\n"
     ]
    },
    {
     "name": "stdout",
     "output_type": "stream",
     "text": [
      "Repeat \u001b[1m\u001b[34m#1\n",
      "Repeat \u001b[1m\u001b[34m#2\n",
      "Repeat \u001b[1m\u001b[34m#3\n"
     ]
    },
    {
     "name": "stderr",
     "output_type": "stream",
     "text": [
      "[I 2023-06-17 17:07:03,202] Trial 738 finished with value: 0.4770059410420284 and parameters: {'bootstrap_type': 'Bernoulli', 'grow_policy': 'SymmetricTree', 'learning_rate': 0.12931773291272564, 'l2_leaf_reg': 4.057574245742045e-08, 'depth': 5, 'random_strength': 68.20968016455605, 'min_data_in_leaf': 98, 'subsample': 0.9988513248276423, 'boosting_type': 'Plain'}. Best is trial 236 with value: 0.2204946060949904.\n"
     ]
    },
    {
     "name": "stdout",
     "output_type": "stream",
     "text": [
      "Repeat \u001b[1m\u001b[34m#1\n",
      "Repeat \u001b[1m\u001b[34m#2\n",
      "Repeat \u001b[1m\u001b[34m#3\n"
     ]
    },
    {
     "name": "stderr",
     "output_type": "stream",
     "text": [
      "[I 2023-06-17 17:07:25,937] Trial 739 finished with value: 0.23050440820558024 and parameters: {'bootstrap_type': 'Bayesian', 'grow_policy': 'Depthwise', 'learning_rate': 0.022110956889734846, 'l2_leaf_reg': 20.90036890093391, 'depth': 4, 'random_strength': 23.68014036737367, 'min_data_in_leaf': 82, 'bagging_temperature': 38.33396279139244}. Best is trial 236 with value: 0.2204946060949904.\n"
     ]
    },
    {
     "name": "stdout",
     "output_type": "stream",
     "text": [
      "Repeat \u001b[1m\u001b[34m#1\n",
      "Repeat \u001b[1m\u001b[34m#2\n",
      "Repeat \u001b[1m\u001b[34m#3\n"
     ]
    },
    {
     "name": "stderr",
     "output_type": "stream",
     "text": [
      "[I 2023-06-17 17:07:34,461] Trial 740 finished with value: 0.24764581600633817 and parameters: {'bootstrap_type': 'Bayesian', 'grow_policy': 'Lossguide', 'learning_rate': 0.04005531581311438, 'l2_leaf_reg': 0.004173478350512597, 'depth': 4, 'random_strength': 76.12255731042907, 'min_data_in_leaf': 89, 'bagging_temperature': 34.449732045381026, 'max_leaves': 107}. Best is trial 236 with value: 0.2204946060949904.\n"
     ]
    },
    {
     "name": "stdout",
     "output_type": "stream",
     "text": [
      "Repeat \u001b[1m\u001b[34m#1\n",
      "Repeat \u001b[1m\u001b[34m#2\n",
      "Repeat \u001b[1m\u001b[34m#3\n"
     ]
    },
    {
     "name": "stderr",
     "output_type": "stream",
     "text": [
      "[I 2023-06-17 17:07:51,276] Trial 741 finished with value: 0.22395518897506897 and parameters: {'bootstrap_type': 'Bayesian', 'grow_policy': 'Depthwise', 'learning_rate': 0.028733686824137777, 'l2_leaf_reg': 6.305102000047917, 'depth': 4, 'random_strength': 41.693813020543935, 'min_data_in_leaf': 92, 'bagging_temperature': 41.52787641124433}. Best is trial 236 with value: 0.2204946060949904.\n"
     ]
    },
    {
     "name": "stdout",
     "output_type": "stream",
     "text": [
      "Repeat \u001b[1m\u001b[34m#1\n",
      "Repeat \u001b[1m\u001b[34m#2\n",
      "Repeat \u001b[1m\u001b[34m#3\n"
     ]
    },
    {
     "name": "stderr",
     "output_type": "stream",
     "text": [
      "[I 2023-06-17 17:07:52,290] Trial 742 finished with value: 0.6932934644225565 and parameters: {'bootstrap_type': 'Bayesian', 'grow_policy': 'Depthwise', 'learning_rate': 0.028857635033794724, 'l2_leaf_reg': 5.460747083103922, 'depth': 4, 'random_strength': 39.85573914699751, 'min_data_in_leaf': 92, 'bagging_temperature': 65.41906433747432}. Best is trial 236 with value: 0.2204946060949904.\n"
     ]
    },
    {
     "name": "stdout",
     "output_type": "stream",
     "text": [
      "Repeat \u001b[1m\u001b[34m#1\n",
      "Repeat \u001b[1m\u001b[34m#2\n",
      "Repeat \u001b[1m\u001b[34m#3\n"
     ]
    },
    {
     "name": "stderr",
     "output_type": "stream",
     "text": [
      "[I 2023-06-17 17:08:09,387] Trial 743 finished with value: 0.23172580148992908 and parameters: {'bootstrap_type': 'Bayesian', 'grow_policy': 'Depthwise', 'learning_rate': 0.02506073038337117, 'l2_leaf_reg': 7.383180938017685, 'depth': 4, 'random_strength': 42.676916735036166, 'min_data_in_leaf': 94, 'bagging_temperature': 39.904464310563526}. Best is trial 236 with value: 0.2204946060949904.\n"
     ]
    },
    {
     "name": "stdout",
     "output_type": "stream",
     "text": [
      "Repeat \u001b[1m\u001b[34m#1\n",
      "Repeat \u001b[1m\u001b[34m#2\n",
      "Repeat \u001b[1m\u001b[34m#3\n"
     ]
    },
    {
     "name": "stderr",
     "output_type": "stream",
     "text": [
      "[I 2023-06-17 17:08:19,139] Trial 744 finished with value: 0.2652018790099749 and parameters: {'bootstrap_type': 'Bayesian', 'grow_policy': 'Depthwise', 'learning_rate': 0.030334079548257866, 'l2_leaf_reg': 2.1287085631274466e-06, 'depth': 4, 'random_strength': 41.4701774409672, 'min_data_in_leaf': 91, 'bagging_temperature': 36.22414529322765}. Best is trial 236 with value: 0.2204946060949904.\n"
     ]
    },
    {
     "name": "stdout",
     "output_type": "stream",
     "text": [
      "Repeat \u001b[1m\u001b[34m#1\n",
      "Repeat \u001b[1m\u001b[34m#2\n",
      "Repeat \u001b[1m\u001b[34m#3\n"
     ]
    },
    {
     "name": "stderr",
     "output_type": "stream",
     "text": [
      "[I 2023-06-17 17:08:57,713] Trial 745 finished with value: 0.5087543833700998 and parameters: {'bootstrap_type': 'Bayesian', 'grow_policy': 'Depthwise', 'learning_rate': 0.00036193693496539014, 'l2_leaf_reg': 5.165162653479391e-06, 'depth': 4, 'random_strength': 0.7077928784544625, 'min_data_in_leaf': 95, 'bagging_temperature': 33.12208062249835}. Best is trial 236 with value: 0.2204946060949904.\n"
     ]
    },
    {
     "name": "stdout",
     "output_type": "stream",
     "text": [
      "Repeat \u001b[1m\u001b[34m#1\n",
      "Repeat \u001b[1m\u001b[34m#2\n",
      "Repeat \u001b[1m\u001b[34m#3\n"
     ]
    },
    {
     "name": "stderr",
     "output_type": "stream",
     "text": [
      "[I 2023-06-17 17:09:36,897] Trial 746 finished with value: 0.580515581653367 and parameters: {'bootstrap_type': 'Bayesian', 'grow_policy': 'Depthwise', 'learning_rate': 0.0002449386557167004, 'l2_leaf_reg': 11.538782098915963, 'depth': 4, 'random_strength': 42.10187419863003, 'min_data_in_leaf': 93, 'bagging_temperature': 38.013411137547045}. Best is trial 236 with value: 0.2204946060949904.\n"
     ]
    },
    {
     "name": "stdout",
     "output_type": "stream",
     "text": [
      "Repeat \u001b[1m\u001b[34m#1\n",
      "Repeat \u001b[1m\u001b[34m#2\n",
      "Repeat \u001b[1m\u001b[34m#3\n"
     ]
    },
    {
     "name": "stderr",
     "output_type": "stream",
     "text": [
      "[I 2023-06-17 17:10:09,391] Trial 747 finished with value: 0.2631231688425551 and parameters: {'bootstrap_type': 'Bayesian', 'grow_policy': 'Depthwise', 'learning_rate': 0.038412831539047, 'l2_leaf_reg': 4.962728944320101, 'depth': 7, 'random_strength': 36.29012359790919, 'min_data_in_leaf': 18, 'bagging_temperature': 41.960749253770885}. Best is trial 236 with value: 0.2204946060949904.\n"
     ]
    },
    {
     "name": "stdout",
     "output_type": "stream",
     "text": [
      "Repeat \u001b[1m\u001b[34m#1\n",
      "Repeat \u001b[1m\u001b[34m#2\n",
      "Repeat \u001b[1m\u001b[34m#3\n"
     ]
    },
    {
     "name": "stderr",
     "output_type": "stream",
     "text": [
      "[I 2023-06-17 17:10:29,508] Trial 748 finished with value: 0.2266215130067398 and parameters: {'bootstrap_type': 'Bayesian', 'grow_policy': 'Depthwise', 'learning_rate': 0.020460243978316087, 'l2_leaf_reg': 1.3272600142507087, 'depth': 4, 'random_strength': 38.36715878673584, 'min_data_in_leaf': 96, 'bagging_temperature': 34.8779253175911}. Best is trial 236 with value: 0.2204946060949904.\n"
     ]
    },
    {
     "name": "stdout",
     "output_type": "stream",
     "text": [
      "Repeat \u001b[1m\u001b[34m#1\n",
      "Repeat \u001b[1m\u001b[34m#2\n",
      "Repeat \u001b[1m\u001b[34m#3\n"
     ]
    },
    {
     "name": "stderr",
     "output_type": "stream",
     "text": [
      "[I 2023-06-17 17:10:37,772] Trial 749 finished with value: 0.2500246422056133 and parameters: {'bootstrap_type': 'Bayesian', 'grow_policy': 'Lossguide', 'learning_rate': 0.033072570119052534, 'l2_leaf_reg': 2.582837079680948e-07, 'depth': 4, 'random_strength': 40.53632135253746, 'min_data_in_leaf': 92, 'bagging_temperature': 15.411954254566094, 'max_leaves': 78}. Best is trial 236 with value: 0.2204946060949904.\n"
     ]
    },
    {
     "name": "stdout",
     "output_type": "stream",
     "text": [
      "Repeat \u001b[1m\u001b[34m#1\n",
      "Repeat \u001b[1m\u001b[34m#2\n",
      "Repeat \u001b[1m\u001b[34m#3\n"
     ]
    },
    {
     "name": "stderr",
     "output_type": "stream",
     "text": [
      "[I 2023-06-17 17:10:56,781] Trial 750 finished with value: 0.2422271323934098 and parameters: {'bootstrap_type': 'MVS', 'grow_policy': 'Depthwise', 'learning_rate': 0.010568696968256098, 'l2_leaf_reg': 0.2519406200874778, 'depth': 4, 'random_strength': 84.17571113611714, 'min_data_in_leaf': 90}. Best is trial 236 with value: 0.2204946060949904.\n"
     ]
    },
    {
     "name": "stdout",
     "output_type": "stream",
     "text": [
      "Repeat \u001b[1m\u001b[34m#1\n",
      "Repeat \u001b[1m\u001b[34m#2\n",
      "Repeat \u001b[1m\u001b[34m#3\n"
     ]
    },
    {
     "name": "stderr",
     "output_type": "stream",
     "text": [
      "[I 2023-06-17 17:11:13,218] Trial 751 finished with value: 0.3457535092152735 and parameters: {'bootstrap_type': 'Bayesian', 'grow_policy': 'Depthwise', 'learning_rate': 0.018431791081739642, 'l2_leaf_reg': 0.058884142107062214, 'depth': 4, 'random_strength': 90.87552710905477, 'min_data_in_leaf': 97, 'bagging_temperature': 52.82343510867627}. Best is trial 236 with value: 0.2204946060949904.\n"
     ]
    },
    {
     "name": "stdout",
     "output_type": "stream",
     "text": [
      "Repeat \u001b[1m\u001b[34m#1\n",
      "Repeat \u001b[1m\u001b[34m#2\n",
      "Repeat \u001b[1m\u001b[34m#3\n"
     ]
    },
    {
     "name": "stderr",
     "output_type": "stream",
     "text": [
      "[I 2023-06-17 17:11:29,869] Trial 752 finished with value: 0.23017268424748139 and parameters: {'bootstrap_type': 'Bayesian', 'grow_policy': 'Depthwise', 'learning_rate': 0.026008227924527977, 'l2_leaf_reg': 3.9483409666022915, 'depth': 5, 'random_strength': 80.31525596642688, 'min_data_in_leaf': 100, 'bagging_temperature': 19.813737824197332}. Best is trial 236 with value: 0.2204946060949904.\n"
     ]
    },
    {
     "name": "stdout",
     "output_type": "stream",
     "text": [
      "Repeat \u001b[1m\u001b[34m#1\n",
      "Repeat \u001b[1m\u001b[34m#2\n",
      "Repeat \u001b[1m\u001b[34m#3\n"
     ]
    },
    {
     "name": "stderr",
     "output_type": "stream",
     "text": [
      "[I 2023-06-17 17:11:38,067] Trial 753 finished with value: 0.2460913888376792 and parameters: {'bootstrap_type': 'Bayesian', 'grow_policy': 'Depthwise', 'learning_rate': 0.036341304032006916, 'l2_leaf_reg': 2.018737999198019e-05, 'depth': 4, 'random_strength': 86.45299729130599, 'min_data_in_leaf': 95, 'bagging_temperature': 32.08792202204154}. Best is trial 236 with value: 0.2204946060949904.\n"
     ]
    },
    {
     "name": "stdout",
     "output_type": "stream",
     "text": [
      "Repeat \u001b[1m\u001b[34m#1\n",
      "Repeat \u001b[1m\u001b[34m#2\n",
      "Repeat \u001b[1m\u001b[34m#3\n"
     ]
    },
    {
     "name": "stderr",
     "output_type": "stream",
     "text": [
      "[I 2023-06-17 17:11:51,358] Trial 754 finished with value: 0.23681482058762882 and parameters: {'bootstrap_type': 'Bayesian', 'grow_policy': 'Depthwise', 'learning_rate': 0.02907478668125079, 'l2_leaf_reg': 0.11100216891357492, 'depth': 4, 'random_strength': 43.83896971468244, 'min_data_in_leaf': 93, 'bagging_temperature': 37.00303211703376}. Best is trial 236 with value: 0.2204946060949904.\n"
     ]
    },
    {
     "name": "stdout",
     "output_type": "stream",
     "text": [
      "Repeat \u001b[1m\u001b[34m#1\n",
      "Repeat \u001b[1m\u001b[34m#2\n",
      "Repeat \u001b[1m\u001b[34m#3\n"
     ]
    },
    {
     "name": "stderr",
     "output_type": "stream",
     "text": [
      "[I 2023-06-17 17:12:33,271] Trial 755 finished with value: 0.2745962463990077 and parameters: {'bootstrap_type': 'Bayesian', 'grow_policy': 'Depthwise', 'learning_rate': 0.0037332417318013114, 'l2_leaf_reg': 10.01039233222068, 'depth': 4, 'random_strength': 95.80133918644691, 'min_data_in_leaf': 73, 'bagging_temperature': 39.149020559678775}. Best is trial 236 with value: 0.2204946060949904.\n"
     ]
    },
    {
     "name": "stdout",
     "output_type": "stream",
     "text": [
      "Repeat \u001b[1m\u001b[34m#1\n",
      "Repeat \u001b[1m\u001b[34m#2\n",
      "Repeat \u001b[1m\u001b[34m#3\n"
     ]
    },
    {
     "name": "stderr",
     "output_type": "stream",
     "text": [
      "[I 2023-06-17 17:12:34,635] Trial 756 finished with value: 0.6812865754749362 and parameters: {'bootstrap_type': 'Bayesian', 'grow_policy': 'Depthwise', 'learning_rate': 0.02318137558115943, 'l2_leaf_reg': 1.353459164608304e-07, 'depth': 4, 'random_strength': 29.66282612859369, 'min_data_in_leaf': 13, 'bagging_temperature': 56.76842107054136}. Best is trial 236 with value: 0.2204946060949904.\n"
     ]
    },
    {
     "name": "stdout",
     "output_type": "stream",
     "text": [
      "Repeat \u001b[1m\u001b[34m#1\n",
      "Repeat \u001b[1m\u001b[34m#2\n",
      "Repeat \u001b[1m\u001b[34m#3\n"
     ]
    },
    {
     "name": "stderr",
     "output_type": "stream",
     "text": [
      "[I 2023-06-17 17:12:35,441] Trial 757 finished with value: 0.6931760580983314 and parameters: {'bootstrap_type': 'Bayesian', 'grow_policy': 'Lossguide', 'learning_rate': 0.005780372159133504, 'l2_leaf_reg': 7.402388738743424, 'depth': 4, 'random_strength': 73.5421396163065, 'min_data_in_leaf': 91, 'bagging_temperature': 72.7526765484439, 'max_leaves': 125}. Best is trial 236 with value: 0.2204946060949904.\n"
     ]
    },
    {
     "name": "stdout",
     "output_type": "stream",
     "text": [
      "Repeat \u001b[1m\u001b[34m#1\n",
      "Repeat \u001b[1m\u001b[34m#2\n",
      "Repeat \u001b[1m\u001b[34m#3\n"
     ]
    },
    {
     "name": "stderr",
     "output_type": "stream",
     "text": [
      "[I 2023-06-17 17:12:40,276] Trial 758 finished with value: 0.2577477294044394 and parameters: {'bootstrap_type': 'Bayesian', 'grow_policy': 'Depthwise', 'learning_rate': 0.17617132377606282, 'l2_leaf_reg': 0.6553117013040622, 'depth': 8, 'random_strength': 71.14616854241858, 'min_data_in_leaf': 98, 'bagging_temperature': 35.15611496485278}. Best is trial 236 with value: 0.2204946060949904.\n"
     ]
    },
    {
     "name": "stdout",
     "output_type": "stream",
     "text": [
      "Repeat \u001b[1m\u001b[34m#1\n",
      "Repeat \u001b[1m\u001b[34m#2\n",
      "Repeat \u001b[1m\u001b[34m#3\n"
     ]
    },
    {
     "name": "stderr",
     "output_type": "stream",
     "text": [
      "[I 2023-06-17 17:13:19,260] Trial 759 finished with value: 0.4726157863026512 and parameters: {'bootstrap_type': 'Bayesian', 'grow_policy': 'Depthwise', 'learning_rate': 0.0005892720540629831, 'l2_leaf_reg': 2.167764485673749, 'depth': 4, 'random_strength': 61.9097946770643, 'min_data_in_leaf': 94, 'bagging_temperature': 32.97306387353689}. Best is trial 236 with value: 0.2204946060949904.\n"
     ]
    },
    {
     "name": "stdout",
     "output_type": "stream",
     "text": [
      "Repeat \u001b[1m\u001b[34m#1\n",
      "Repeat \u001b[1m\u001b[34m#2\n",
      "Repeat \u001b[1m\u001b[34m#3\n"
     ]
    },
    {
     "name": "stderr",
     "output_type": "stream",
     "text": [
      "[I 2023-06-17 17:13:26,465] Trial 760 finished with value: 0.25971499461532604 and parameters: {'bootstrap_type': 'Bayesian', 'grow_policy': 'Depthwise', 'learning_rate': 0.042251216709592476, 'l2_leaf_reg': 7.473959033572542e-07, 'depth': 4, 'random_strength': 75.36604336463154, 'min_data_in_leaf': 96, 'bagging_temperature': 41.479528147539405}. Best is trial 236 with value: 0.2204946060949904.\n"
     ]
    },
    {
     "name": "stdout",
     "output_type": "stream",
     "text": [
      "Repeat \u001b[1m\u001b[34m#1\n",
      "Repeat \u001b[1m\u001b[34m#2\n",
      "Repeat \u001b[1m\u001b[34m#3\n"
     ]
    },
    {
     "name": "stderr",
     "output_type": "stream",
     "text": [
      "[I 2023-06-17 17:13:34,312] Trial 761 finished with value: 0.2515967465524546 and parameters: {'bootstrap_type': 'Bernoulli', 'grow_policy': 'SymmetricTree', 'learning_rate': 0.032432682233857174, 'l2_leaf_reg': 1.0554604645479932, 'depth': 4, 'random_strength': 33.093806863419715, 'min_data_in_leaf': 90, 'subsample': 0.5519510611995669, 'boosting_type': 'Plain'}. Best is trial 236 with value: 0.2204946060949904.\n"
     ]
    },
    {
     "name": "stdout",
     "output_type": "stream",
     "text": [
      "Repeat \u001b[1m\u001b[34m#1\n",
      "Repeat \u001b[1m\u001b[34m#2\n",
      "Repeat \u001b[1m\u001b[34m#3\n"
     ]
    },
    {
     "name": "stderr",
     "output_type": "stream",
     "text": [
      "[I 2023-06-17 17:13:35,146] Trial 762 finished with value: 0.6932366881530253 and parameters: {'bootstrap_type': 'Bayesian', 'grow_policy': 'Depthwise', 'learning_rate': 0.017767869383259423, 'l2_leaf_reg': 4.335641459683233, 'depth': 4, 'random_strength': 70.0368482946334, 'min_data_in_leaf': 92, 'bagging_temperature': 91.47285001519572}. Best is trial 236 with value: 0.2204946060949904.\n"
     ]
    },
    {
     "name": "stdout",
     "output_type": "stream",
     "text": [
      "Repeat \u001b[1m\u001b[34m#1\n",
      "Repeat \u001b[1m\u001b[34m#2\n",
      "Repeat \u001b[1m\u001b[34m#3\n"
     ]
    },
    {
     "name": "stderr",
     "output_type": "stream",
     "text": [
      "[I 2023-06-17 17:14:14,515] Trial 763 finished with value: 0.29921432581626556 and parameters: {'bootstrap_type': 'Bayesian', 'grow_policy': 'Depthwise', 'learning_rate': 0.00284211172175364, 'l2_leaf_reg': 15.483762785361089, 'depth': 4, 'random_strength': 77.53449184688698, 'min_data_in_leaf': 95, 'bagging_temperature': 37.45081807926613}. Best is trial 236 with value: 0.2204946060949904.\n"
     ]
    },
    {
     "name": "stdout",
     "output_type": "stream",
     "text": [
      "Repeat \u001b[1m\u001b[34m#1\n",
      "Repeat \u001b[1m\u001b[34m#2\n",
      "Repeat \u001b[1m\u001b[34m#3\n"
     ]
    },
    {
     "name": "stderr",
     "output_type": "stream",
     "text": [
      "[I 2023-06-17 17:14:56,919] Trial 764 finished with value: 0.5704778220653228 and parameters: {'bootstrap_type': 'Bayesian', 'grow_policy': 'Depthwise', 'learning_rate': 0.00023811210970086603, 'l2_leaf_reg': 1.7500405192355792, 'depth': 4, 'random_strength': 98.25035756512577, 'min_data_in_leaf': 69, 'bagging_temperature': 31.027647279882125}. Best is trial 236 with value: 0.2204946060949904.\n"
     ]
    },
    {
     "name": "stdout",
     "output_type": "stream",
     "text": [
      "Repeat \u001b[1m\u001b[34m#1\n",
      "Repeat \u001b[1m\u001b[34m#2\n",
      "Repeat \u001b[1m\u001b[34m#3\n"
     ]
    },
    {
     "name": "stderr",
     "output_type": "stream",
     "text": [
      "[I 2023-06-17 17:15:08,685] Trial 765 finished with value: 0.253848978763783 and parameters: {'bootstrap_type': 'Bayesian', 'grow_policy': 'Depthwise', 'learning_rate': 0.028326672913853112, 'l2_leaf_reg': 0.02500002947339185, 'depth': 10, 'random_strength': 92.35713653606574, 'min_data_in_leaf': 98, 'bagging_temperature': 35.27835798552452}. Best is trial 236 with value: 0.2204946060949904.\n"
     ]
    },
    {
     "name": "stdout",
     "output_type": "stream",
     "text": [
      "Repeat \u001b[1m\u001b[34m#1\n",
      "Repeat \u001b[1m\u001b[34m#2\n",
      "Repeat \u001b[1m\u001b[34m#3\n"
     ]
    },
    {
     "name": "stderr",
     "output_type": "stream",
     "text": [
      "[I 2023-06-17 17:15:17,627] Trial 766 finished with value: 0.252852867535934 and parameters: {'bootstrap_type': 'Bayesian', 'grow_policy': 'Depthwise', 'learning_rate': 0.03821468880080591, 'l2_leaf_reg': 0.0004990323164042535, 'depth': 4, 'random_strength': 17.213103061500412, 'min_data_in_leaf': 93, 'bagging_temperature': 39.37900461723615}. Best is trial 236 with value: 0.2204946060949904.\n"
     ]
    },
    {
     "name": "stdout",
     "output_type": "stream",
     "text": [
      "Repeat \u001b[1m\u001b[34m#1\n",
      "Repeat \u001b[1m\u001b[34m#2\n",
      "Repeat \u001b[1m\u001b[34m#3\n"
     ]
    },
    {
     "name": "stderr",
     "output_type": "stream",
     "text": [
      "[I 2023-06-17 17:15:35,250] Trial 767 finished with value: 0.22968122096537083 and parameters: {'bootstrap_type': 'Bayesian', 'grow_policy': 'Lossguide', 'learning_rate': 0.024600680366399313, 'l2_leaf_reg': 2.864358019693784, 'depth': 4, 'random_strength': 40.096732403856265, 'min_data_in_leaf': 100, 'bagging_temperature': 33.4592889666583, 'max_leaves': 75}. Best is trial 236 with value: 0.2204946060949904.\n"
     ]
    },
    {
     "name": "stdout",
     "output_type": "stream",
     "text": [
      "Repeat \u001b[1m\u001b[34m#1\n",
      "Repeat \u001b[1m\u001b[34m#2\n",
      "Repeat \u001b[1m\u001b[34m#3\n"
     ]
    },
    {
     "name": "stderr",
     "output_type": "stream",
     "text": [
      "[I 2023-06-17 17:15:58,516] Trial 768 finished with value: 0.2328640082168042 and parameters: {'bootstrap_type': 'Bayesian', 'grow_policy': 'Depthwise', 'learning_rate': 0.014396209471625421, 'l2_leaf_reg': 6.388229013943589, 'depth': 4, 'random_strength': 3.3789635092180816, 'min_data_in_leaf': 97, 'bagging_temperature': 17.424590514675366}. Best is trial 236 with value: 0.2204946060949904.\n"
     ]
    },
    {
     "name": "stdout",
     "output_type": "stream",
     "text": [
      "Repeat \u001b[1m\u001b[34m#1\n",
      "Repeat \u001b[1m\u001b[34m#2\n",
      "Repeat \u001b[1m\u001b[34m#3\n"
     ]
    },
    {
     "name": "stderr",
     "output_type": "stream",
     "text": [
      "[I 2023-06-17 17:16:23,110] Trial 769 finished with value: 0.25299622386784154 and parameters: {'bootstrap_type': 'Bayesian', 'grow_policy': 'Depthwise', 'learning_rate': 0.00768825283684805, 'l2_leaf_reg': 1.575498703601665e-08, 'depth': 5, 'random_strength': 72.20246816662976, 'min_data_in_leaf': 90, 'bagging_temperature': 24.45940847905475}. Best is trial 236 with value: 0.2204946060949904.\n"
     ]
    },
    {
     "name": "stdout",
     "output_type": "stream",
     "text": [
      "Repeat \u001b[1m\u001b[34m#1\n",
      "Repeat \u001b[1m\u001b[34m#2\n",
      "Repeat \u001b[1m\u001b[34m#3\n"
     ]
    },
    {
     "name": "stderr",
     "output_type": "stream",
     "text": [
      "[I 2023-06-17 17:16:25,894] Trial 770 finished with value: 0.26455729164044833 and parameters: {'bootstrap_type': 'Bayesian', 'grow_policy': 'Depthwise', 'learning_rate': 0.22820087617447193, 'l2_leaf_reg': 0.33587047937540554, 'depth': 4, 'random_strength': 60.39817833963743, 'min_data_in_leaf': 94, 'bagging_temperature': 4.856546811587201}. Best is trial 236 with value: 0.2204946060949904.\n"
     ]
    },
    {
     "name": "stdout",
     "output_type": "stream",
     "text": [
      "Repeat \u001b[1m\u001b[34m#1\n",
      "Repeat \u001b[1m\u001b[34m#2\n",
      "Repeat \u001b[1m\u001b[34m#3\n"
     ]
    },
    {
     "name": "stderr",
     "output_type": "stream",
     "text": [
      "[I 2023-06-17 17:17:03,340] Trial 771 finished with value: 0.553352838749339 and parameters: {'bootstrap_type': 'MVS', 'grow_policy': 'Depthwise', 'learning_rate': 0.00048718580694088966, 'l2_leaf_reg': 1.160335394812863, 'depth': 4, 'random_strength': 96.93463440028731, 'min_data_in_leaf': 88}. Best is trial 236 with value: 0.2204946060949904.\n"
     ]
    },
    {
     "name": "stdout",
     "output_type": "stream",
     "text": [
      "Repeat \u001b[1m\u001b[34m#1\n",
      "Repeat \u001b[1m\u001b[34m#2\n",
      "Repeat \u001b[1m\u001b[34m#3\n"
     ]
    },
    {
     "name": "stderr",
     "output_type": "stream",
     "text": [
      "[I 2023-06-17 17:17:22,853] Trial 772 finished with value: 0.23024197760659296 and parameters: {'bootstrap_type': 'Bayesian', 'grow_policy': 'Depthwise', 'learning_rate': 0.021120623110437435, 'l2_leaf_reg': 3.5499211168445775, 'depth': 4, 'random_strength': 37.12664316172632, 'min_data_in_leaf': 96, 'bagging_temperature': 44.252886075782676}. Best is trial 236 with value: 0.2204946060949904.\n"
     ]
    },
    {
     "name": "stdout",
     "output_type": "stream",
     "text": [
      "Repeat \u001b[1m\u001b[34m#1\n",
      "Repeat \u001b[1m\u001b[34m#2\n",
      "Repeat \u001b[1m\u001b[34m#3\n"
     ]
    },
    {
     "name": "stderr",
     "output_type": "stream",
     "text": [
      "[I 2023-06-17 17:17:33,501] Trial 773 finished with value: 0.24165314813025526 and parameters: {'bootstrap_type': 'Bayesian', 'grow_policy': 'Depthwise', 'learning_rate': 0.044660911115990826, 'l2_leaf_reg': 10.923246770319082, 'depth': 4, 'random_strength': 28.8220735667587, 'min_data_in_leaf': 92, 'bagging_temperature': 9.42040095860822}. Best is trial 236 with value: 0.2204946060949904.\n"
     ]
    },
    {
     "name": "stdout",
     "output_type": "stream",
     "text": [
      "Repeat \u001b[1m\u001b[34m#1\n",
      "Repeat \u001b[1m\u001b[34m#2\n",
      "Repeat \u001b[1m\u001b[34m#3\n"
     ]
    },
    {
     "name": "stderr",
     "output_type": "stream",
     "text": [
      "[I 2023-06-17 17:17:46,145] Trial 774 finished with value: 0.2309269151118283 and parameters: {'bootstrap_type': 'Bayesian', 'grow_policy': 'Depthwise', 'learning_rate': 0.032176882730724485, 'l2_leaf_reg': 0.5734003888281295, 'depth': 6, 'random_strength': 64.14902569164052, 'min_data_in_leaf': 95, 'bagging_temperature': 36.625396209413005}. Best is trial 236 with value: 0.2204946060949904.\n"
     ]
    },
    {
     "name": "stdout",
     "output_type": "stream",
     "text": [
      "Repeat \u001b[1m\u001b[34m#1\n",
      "Repeat \u001b[1m\u001b[34m#2\n",
      "Repeat \u001b[1m\u001b[34m#3\n"
     ]
    },
    {
     "name": "stderr",
     "output_type": "stream",
     "text": [
      "[I 2023-06-17 17:17:46,911] Trial 775 finished with value: 0.6931481183455867 and parameters: {'bootstrap_type': 'Bayesian', 'grow_policy': 'Lossguide', 'learning_rate': 0.00018481231413706837, 'l2_leaf_reg': 5.554308229802853e-06, 'depth': 4, 'random_strength': 81.50113295979688, 'min_data_in_leaf': 98, 'bagging_temperature': 99.44090533232658, 'max_leaves': 10}. Best is trial 236 with value: 0.2204946060949904.\n"
     ]
    },
    {
     "name": "stdout",
     "output_type": "stream",
     "text": [
      "Repeat \u001b[1m\u001b[34m#1\n",
      "Repeat \u001b[1m\u001b[34m#2\n",
      "Repeat \u001b[1m\u001b[34m#3\n"
     ]
    },
    {
     "name": "stderr",
     "output_type": "stream",
     "text": [
      "[I 2023-06-17 17:18:26,476] Trial 776 finished with value: 0.3631799458696508 and parameters: {'bootstrap_type': 'Bayesian', 'grow_policy': 'Depthwise', 'learning_rate': 0.0014165638184015798, 'l2_leaf_reg': 6.257022369510507, 'depth': 4, 'random_strength': 68.10636276268372, 'min_data_in_leaf': 93, 'bagging_temperature': 29.700154696691346}. Best is trial 236 with value: 0.2204946060949904.\n"
     ]
    },
    {
     "name": "stdout",
     "output_type": "stream",
     "text": [
      "Repeat \u001b[1m\u001b[34m#1\n",
      "Repeat \u001b[1m\u001b[34m#2\n",
      "Repeat \u001b[1m\u001b[34m#3\n"
     ]
    },
    {
     "name": "stderr",
     "output_type": "stream",
     "text": [
      "[I 2023-06-17 17:18:39,429] Trial 777 finished with value: 0.2356689990522615 and parameters: {'bootstrap_type': 'Bayesian', 'grow_policy': 'Depthwise', 'learning_rate': 0.03688928783266481, 'l2_leaf_reg': 1.8596879138255236, 'depth': 4, 'random_strength': 85.08509452850504, 'min_data_in_leaf': 90, 'bagging_temperature': 31.97963671152653}. Best is trial 236 with value: 0.2204946060949904.\n"
     ]
    },
    {
     "name": "stdout",
     "output_type": "stream",
     "text": [
      "Repeat \u001b[1m\u001b[34m#1\n",
      "Repeat \u001b[1m\u001b[34m#2\n",
      "Repeat \u001b[1m\u001b[34m#3\n"
     ]
    },
    {
     "name": "stderr",
     "output_type": "stream",
     "text": [
      "[I 2023-06-17 17:18:42,916] Trial 778 finished with value: 0.3057388396951641 and parameters: {'bootstrap_type': 'Bayesian', 'grow_policy': 'Depthwise', 'learning_rate': 0.1487897920538002, 'l2_leaf_reg': 2.9373616694762075e-08, 'depth': 4, 'random_strength': 7.886913076810323, 'min_data_in_leaf': 96, 'bagging_temperature': 40.9031539360915}. Best is trial 236 with value: 0.2204946060949904.\n"
     ]
    },
    {
     "name": "stdout",
     "output_type": "stream",
     "text": [
      "Repeat \u001b[1m\u001b[34m#1\n",
      "Repeat \u001b[1m\u001b[34m#2\n",
      "Repeat \u001b[1m\u001b[34m#3\n"
     ]
    },
    {
     "name": "stderr",
     "output_type": "stream",
     "text": [
      "[I 2023-06-17 17:19:00,978] Trial 779 finished with value: 0.2315385577329692 and parameters: {'bootstrap_type': 'Bayesian', 'grow_policy': 'Depthwise', 'learning_rate': 0.027431761201602237, 'l2_leaf_reg': 12.741333385371094, 'depth': 4, 'random_strength': 89.01875934811146, 'min_data_in_leaf': 92, 'bagging_temperature': 34.42244755073852}. Best is trial 236 with value: 0.2204946060949904.\n"
     ]
    },
    {
     "name": "stdout",
     "output_type": "stream",
     "text": [
      "Repeat \u001b[1m\u001b[34m#1\n",
      "Repeat \u001b[1m\u001b[34m#2\n",
      "Repeat \u001b[1m\u001b[34m#3\n"
     ]
    },
    {
     "name": "stderr",
     "output_type": "stream",
     "text": [
      "[I 2023-06-17 17:19:28,961] Trial 780 finished with value: 0.22757817409909922 and parameters: {'bootstrap_type': 'Bayesian', 'grow_policy': 'Depthwise', 'learning_rate': 0.01204857951495863, 'l2_leaf_reg': 3.0736035132598083, 'depth': 4, 'random_strength': 17.946215481108084, 'min_data_in_leaf': 100, 'bagging_temperature': 27.82771339708091}. Best is trial 236 with value: 0.2204946060949904.\n"
     ]
    },
    {
     "name": "stdout",
     "output_type": "stream",
     "text": [
      "Repeat \u001b[1m\u001b[34m#1\n",
      "Repeat \u001b[1m\u001b[34m#2\n",
      "Repeat \u001b[1m\u001b[34m#3\n"
     ]
    },
    {
     "name": "stderr",
     "output_type": "stream",
     "text": [
      "[I 2023-06-17 17:19:37,723] Trial 781 finished with value: 0.23224531276053298 and parameters: {'bootstrap_type': 'Bayesian', 'grow_policy': 'Depthwise', 'learning_rate': 0.05329480950995339, 'l2_leaf_reg': 0.8972958382589318, 'depth': 4, 'random_strength': 73.72648354270655, 'min_data_in_leaf': 94, 'bagging_temperature': 38.49009883853945}. Best is trial 236 with value: 0.2204946060949904.\n"
     ]
    },
    {
     "name": "stdout",
     "output_type": "stream",
     "text": [
      "Repeat \u001b[1m\u001b[34m#1\n",
      "Repeat \u001b[1m\u001b[34m#2\n",
      "Repeat \u001b[1m\u001b[34m#3\n"
     ]
    },
    {
     "name": "stderr",
     "output_type": "stream",
     "text": [
      "[I 2023-06-17 17:20:30,203] Trial 782 finished with value: 0.2927116090738638 and parameters: {'bootstrap_type': 'Bayesian', 'grow_policy': 'SymmetricTree', 'learning_rate': 0.022120486388021474, 'l2_leaf_reg': 0.4057945914974372, 'depth': 4, 'random_strength': 27.454456701460256, 'min_data_in_leaf': 88, 'bagging_temperature': 35.98396080048618, 'boosting_type': 'Ordered'}. Best is trial 236 with value: 0.2204946060949904.\n"
     ]
    },
    {
     "name": "stdout",
     "output_type": "stream",
     "text": [
      "Repeat \u001b[1m\u001b[34m#1\n",
      "Repeat \u001b[1m\u001b[34m#2\n",
      "Repeat \u001b[1m\u001b[34m#3\n"
     ]
    },
    {
     "name": "stderr",
     "output_type": "stream",
     "text": [
      "[I 2023-06-17 17:20:53,036] Trial 783 finished with value: 0.6481305345624314 and parameters: {'bootstrap_type': 'Bernoulli', 'grow_policy': 'Depthwise', 'learning_rate': 0.00022885631855230974, 'l2_leaf_reg': 4.899612038680006, 'depth': 4, 'random_strength': 34.55294773274789, 'min_data_in_leaf': 97, 'subsample': 0.3287486974680124}. Best is trial 236 with value: 0.2204946060949904.\n"
     ]
    },
    {
     "name": "stdout",
     "output_type": "stream",
     "text": [
      "Repeat \u001b[1m\u001b[34m#1\n",
      "Repeat \u001b[1m\u001b[34m#2\n",
      "Repeat \u001b[1m\u001b[34m#3\n"
     ]
    },
    {
     "name": "stderr",
     "output_type": "stream",
     "text": [
      "[I 2023-06-17 17:21:29,739] Trial 784 finished with value: 0.31013345542532017 and parameters: {'bootstrap_type': 'Bayesian', 'grow_policy': 'Lossguide', 'learning_rate': 0.0021200270168084375, 'l2_leaf_reg': 2.9677804755622554e-08, 'depth': 4, 'random_strength': 66.15691031328804, 'min_data_in_leaf': 91, 'bagging_temperature': 32.58987680492313, 'max_leaves': 63}. Best is trial 236 with value: 0.2204946060949904.\n"
     ]
    },
    {
     "name": "stdout",
     "output_type": "stream",
     "text": [
      "Repeat \u001b[1m\u001b[34m#1\n",
      "Repeat \u001b[1m\u001b[34m#2\n",
      "Repeat \u001b[1m\u001b[34m#3\n"
     ]
    },
    {
     "name": "stderr",
     "output_type": "stream",
     "text": [
      "[I 2023-06-17 17:21:30,570] Trial 785 finished with value: 0.6931711309474539 and parameters: {'bootstrap_type': 'Bayesian', 'grow_policy': 'Depthwise', 'learning_rate': 0.004713388425158316, 'l2_leaf_reg': 0.010189559594162009, 'depth': 4, 'random_strength': 62.581087496016515, 'min_data_in_leaf': 94, 'bagging_temperature': 93.36351414994752}. Best is trial 236 with value: 0.2204946060949904.\n"
     ]
    },
    {
     "name": "stdout",
     "output_type": "stream",
     "text": [
      "Repeat \u001b[1m\u001b[34m#1\n",
      "Repeat \u001b[1m\u001b[34m#2\n",
      "Repeat \u001b[1m\u001b[34m#3\n"
     ]
    },
    {
     "name": "stderr",
     "output_type": "stream",
     "text": [
      "[I 2023-06-17 17:21:55,355] Trial 786 finished with value: 0.5398018004622213 and parameters: {'bootstrap_type': 'Bayesian', 'grow_policy': 'Depthwise', 'learning_rate': 0.0008101512154715539, 'l2_leaf_reg': 0.10575127693603192, 'depth': 4, 'random_strength': 57.746920129280866, 'min_data_in_leaf': 98, 'bagging_temperature': 48.076029002333776}. Best is trial 236 with value: 0.2204946060949904.\n"
     ]
    },
    {
     "name": "stdout",
     "output_type": "stream",
     "text": [
      "Repeat \u001b[1m\u001b[34m#1\n",
      "Repeat \u001b[1m\u001b[34m#2\n",
      "Repeat \u001b[1m\u001b[34m#3\n"
     ]
    },
    {
     "name": "stderr",
     "output_type": "stream",
     "text": [
      "[I 2023-06-17 17:21:56,201] Trial 787 finished with value: 0.6931486898160054 and parameters: {'bootstrap_type': 'Bayesian', 'grow_policy': 'Depthwise', 'learning_rate': 0.0002983635047792374, 'l2_leaf_reg': 20.257423540741186, 'depth': 4, 'random_strength': 69.7931032093007, 'min_data_in_leaf': 95, 'bagging_temperature': 84.89342462089789}. Best is trial 236 with value: 0.2204946060949904.\n"
     ]
    },
    {
     "name": "stdout",
     "output_type": "stream",
     "text": [
      "Repeat \u001b[1m\u001b[34m#1\n",
      "Repeat \u001b[1m\u001b[34m#2\n",
      "Repeat \u001b[1m\u001b[34m#3\n"
     ]
    },
    {
     "name": "stderr",
     "output_type": "stream",
     "text": [
      "[I 2023-06-17 17:22:00,891] Trial 788 finished with value: 0.2628195811112042 and parameters: {'bootstrap_type': 'Bayesian', 'grow_policy': 'Depthwise', 'learning_rate': 0.10929083379122, 'l2_leaf_reg': 0.0029473670907499486, 'depth': 4, 'random_strength': 79.70463523411777, 'min_data_in_leaf': 90, 'bagging_temperature': 29.318592190533757}. Best is trial 236 with value: 0.2204946060949904.\n"
     ]
    },
    {
     "name": "stdout",
     "output_type": "stream",
     "text": [
      "Repeat \u001b[1m\u001b[34m#1\n",
      "Repeat \u001b[1m\u001b[34m#2\n",
      "Repeat \u001b[1m\u001b[34m#3\n"
     ]
    },
    {
     "name": "stderr",
     "output_type": "stream",
     "text": [
      "[I 2023-06-17 17:22:09,386] Trial 789 finished with value: 0.24425032621795606 and parameters: {'bootstrap_type': 'Bayesian', 'grow_policy': 'Depthwise', 'learning_rate': 0.04361693248723501, 'l2_leaf_reg': 0.0012248260900673009, 'depth': 4, 'random_strength': 23.415461086931245, 'min_data_in_leaf': 93, 'bagging_temperature': 42.74417451263769}. Best is trial 236 with value: 0.2204946060949904.\n"
     ]
    },
    {
     "name": "stdout",
     "output_type": "stream",
     "text": [
      "Repeat \u001b[1m\u001b[34m#1\n",
      "Repeat \u001b[1m\u001b[34m#2\n",
      "Repeat \u001b[1m\u001b[34m#3\n"
     ]
    },
    {
     "name": "stderr",
     "output_type": "stream",
     "text": [
      "[I 2023-06-17 17:22:21,312] Trial 790 finished with value: 0.23220843599210061 and parameters: {'bootstrap_type': 'Bayesian', 'grow_policy': 'Depthwise', 'learning_rate': 0.03226012857063725, 'l2_leaf_reg': 1.7106365434330915, 'depth': 4, 'random_strength': 43.820478955791884, 'min_data_in_leaf': 96, 'bagging_temperature': 25.889595913619704}. Best is trial 236 with value: 0.2204946060949904.\n"
     ]
    },
    {
     "name": "stdout",
     "output_type": "stream",
     "text": [
      "Repeat \u001b[1m\u001b[34m#1\n",
      "Repeat \u001b[1m\u001b[34m#2\n",
      "Repeat \u001b[1m\u001b[34m#3\n"
     ]
    },
    {
     "name": "stderr",
     "output_type": "stream",
     "text": [
      "[I 2023-06-17 17:22:38,656] Trial 791 finished with value: 0.2324751125709359 and parameters: {'bootstrap_type': 'Bayesian', 'grow_policy': 'Depthwise', 'learning_rate': 0.026159987014183102, 'l2_leaf_reg': 7.027971851551658, 'depth': 4, 'random_strength': 76.47868503621895, 'min_data_in_leaf': 92, 'bagging_temperature': 37.64375248158129}. Best is trial 236 with value: 0.2204946060949904.\n"
     ]
    },
    {
     "name": "stdout",
     "output_type": "stream",
     "text": [
      "Repeat \u001b[1m\u001b[34m#1\n",
      "Repeat \u001b[1m\u001b[34m#2\n",
      "Repeat \u001b[1m\u001b[34m#3\n"
     ]
    },
    {
     "name": "stderr",
     "output_type": "stream",
     "text": [
      "[I 2023-06-17 17:22:50,828] Trial 792 finished with value: 0.2284720295514421 and parameters: {'bootstrap_type': 'Bayesian', 'grow_policy': 'Depthwise', 'learning_rate': 0.03791420911370825, 'l2_leaf_reg': 0.2126427292427174, 'depth': 4, 'random_strength': 39.18817988323737, 'min_data_in_leaf': 98, 'bagging_temperature': 34.25793744643576}. Best is trial 236 with value: 0.2204946060949904.\n"
     ]
    },
    {
     "name": "stdout",
     "output_type": "stream",
     "text": [
      "Repeat \u001b[1m\u001b[34m#1\n",
      "Repeat \u001b[1m\u001b[34m#2\n",
      "Repeat \u001b[1m\u001b[34m#3\n"
     ]
    },
    {
     "name": "stderr",
     "output_type": "stream",
     "text": [
      "[I 2023-06-17 17:23:00,943] Trial 793 finished with value: 0.27120582950659505 and parameters: {'bootstrap_type': 'MVS', 'grow_policy': 'Lossguide', 'learning_rate': 0.018318760108263128, 'l2_leaf_reg': 1.857038138495708e-06, 'depth': 5, 'random_strength': 46.496346814836016, 'min_data_in_leaf': 89, 'max_leaves': 120}. Best is trial 236 with value: 0.2204946060949904.\n"
     ]
    },
    {
     "name": "stdout",
     "output_type": "stream",
     "text": [
      "Repeat \u001b[1m\u001b[34m#1\n",
      "Repeat \u001b[1m\u001b[34m#2\n",
      "Repeat \u001b[1m\u001b[34m#3\n"
     ]
    },
    {
     "name": "stderr",
     "output_type": "stream",
     "text": [
      "[I 2023-06-17 17:23:05,620] Trial 794 finished with value: 0.25601037395147186 and parameters: {'bootstrap_type': 'Bayesian', 'grow_policy': 'Depthwise', 'learning_rate': 0.13316306532460714, 'l2_leaf_reg': 0.06245554481274857, 'depth': 4, 'random_strength': 66.69819651591185, 'min_data_in_leaf': 100, 'bagging_temperature': 39.87121407583129}. Best is trial 236 with value: 0.2204946060949904.\n"
     ]
    },
    {
     "name": "stdout",
     "output_type": "stream",
     "text": [
      "Repeat \u001b[1m\u001b[34m#1\n",
      "Repeat \u001b[1m\u001b[34m#2\n",
      "Repeat \u001b[1m\u001b[34m#3\n"
     ]
    },
    {
     "name": "stderr",
     "output_type": "stream",
     "text": [
      "[I 2023-06-17 17:23:43,241] Trial 795 finished with value: 0.6092910161697893 and parameters: {'bootstrap_type': 'Bayesian', 'grow_policy': 'Depthwise', 'learning_rate': 0.0001545993563019448, 'l2_leaf_reg': 2.7916940028005355, 'depth': 4, 'random_strength': 70.8022881771697, 'min_data_in_leaf': 94, 'bagging_temperature': 20.50462101736319}. Best is trial 236 with value: 0.2204946060949904.\n"
     ]
    },
    {
     "name": "stdout",
     "output_type": "stream",
     "text": [
      "Repeat \u001b[1m\u001b[34m#1\n",
      "Repeat \u001b[1m\u001b[34m#2\n",
      "Repeat \u001b[1m\u001b[34m#3\n"
     ]
    },
    {
     "name": "stderr",
     "output_type": "stream",
     "text": [
      "[I 2023-06-17 17:23:55,647] Trial 796 finished with value: 0.23957501393603944 and parameters: {'bootstrap_type': 'Bayesian', 'grow_policy': 'Depthwise', 'learning_rate': 0.029757031435145853, 'l2_leaf_reg': 0.04215988464261768, 'depth': 4, 'random_strength': 61.590402891970385, 'min_data_in_leaf': 96, 'bagging_temperature': 31.140944465695384}. Best is trial 236 with value: 0.2204946060949904.\n"
     ]
    },
    {
     "name": "stdout",
     "output_type": "stream",
     "text": [
      "Repeat \u001b[1m\u001b[34m#1\n",
      "Repeat \u001b[1m\u001b[34m#2\n",
      "Repeat \u001b[1m\u001b[34m#3\n"
     ]
    },
    {
     "name": "stderr",
     "output_type": "stream",
     "text": [
      "[I 2023-06-17 17:24:35,193] Trial 797 finished with value: 0.5087368086928264 and parameters: {'bootstrap_type': 'Bayesian', 'grow_policy': 'Depthwise', 'learning_rate': 0.0006627488411114512, 'l2_leaf_reg': 0.857324103767798, 'depth': 4, 'random_strength': 64.32350252519862, 'min_data_in_leaf': 91, 'bagging_temperature': 1.5148751149681914}. Best is trial 236 with value: 0.2204946060949904.\n"
     ]
    },
    {
     "name": "stdout",
     "output_type": "stream",
     "text": [
      "Repeat \u001b[1m\u001b[34m#1\n",
      "Repeat \u001b[1m\u001b[34m#2\n",
      "Repeat \u001b[1m\u001b[34m#3\n"
     ]
    },
    {
     "name": "stderr",
     "output_type": "stream",
     "text": [
      "[I 2023-06-17 17:24:36,114] Trial 798 finished with value: 0.693158608789299 and parameters: {'bootstrap_type': 'Bayesian', 'grow_policy': 'Depthwise', 'learning_rate': 0.0022559492483325556, 'l2_leaf_reg': 1.4360583531532298, 'depth': 4, 'random_strength': 72.46485758656931, 'min_data_in_leaf': 93, 'bagging_temperature': 81.98637582308459}. Best is trial 236 with value: 0.2204946060949904.\n"
     ]
    },
    {
     "name": "stdout",
     "output_type": "stream",
     "text": [
      "Repeat \u001b[1m\u001b[34m#1\n",
      "Repeat \u001b[1m\u001b[34m#2\n",
      "Repeat \u001b[1m\u001b[34m#3\n"
     ]
    },
    {
     "name": "stderr",
     "output_type": "stream",
     "text": [
      "[I 2023-06-17 17:24:36,971] Trial 799 finished with value: 0.693478429274438 and parameters: {'bootstrap_type': 'Bayesian', 'grow_policy': 'Depthwise', 'learning_rate': 0.06491497713654071, 'l2_leaf_reg': 9.695629702987764, 'depth': 4, 'random_strength': 55.42971162027074, 'min_data_in_leaf': 97, 'bagging_temperature': 85.21980590176082}. Best is trial 236 with value: 0.2204946060949904.\n"
     ]
    },
    {
     "name": "stdout",
     "output_type": "stream",
     "text": [
      "Repeat \u001b[1m\u001b[34m#1\n",
      "Repeat \u001b[1m\u001b[34m#2\n",
      "Repeat \u001b[1m\u001b[34m#3\n"
     ]
    },
    {
     "name": "stderr",
     "output_type": "stream",
     "text": [
      "[I 2023-06-17 17:24:42,514] Trial 800 finished with value: 0.2849345723439783 and parameters: {'bootstrap_type': 'Bayesian', 'grow_policy': 'Depthwise', 'learning_rate': 0.09592760899179291, 'l2_leaf_reg': 5.8240829039360035e-05, 'depth': 4, 'random_strength': 69.17329678016563, 'min_data_in_leaf': 95, 'bagging_temperature': 50.81291147292924}. Best is trial 236 with value: 0.2204946060949904.\n"
     ]
    },
    {
     "name": "stdout",
     "output_type": "stream",
     "text": [
      "Repeat \u001b[1m\u001b[34m#1\n",
      "Repeat \u001b[1m\u001b[34m#2\n",
      "Repeat \u001b[1m\u001b[34m#3\n"
     ]
    },
    {
     "name": "stderr",
     "output_type": "stream",
     "text": [
      "[I 2023-06-17 17:24:55,032] Trial 801 finished with value: 0.22990424786817854 and parameters: {'bootstrap_type': 'Bayesian', 'grow_policy': 'Lossguide', 'learning_rate': 0.04734650221818701, 'l2_leaf_reg': 15.77067327484902, 'depth': 4, 'random_strength': 59.62808832840166, 'min_data_in_leaf': 88, 'bagging_temperature': 36.52559842630544, 'max_leaves': 43}. Best is trial 236 with value: 0.2204946060949904.\n"
     ]
    },
    {
     "name": "stdout",
     "output_type": "stream",
     "text": [
      "Repeat \u001b[1m\u001b[34m#1\n",
      "Repeat \u001b[1m\u001b[34m#2\n",
      "Repeat \u001b[1m\u001b[34m#3\n"
     ]
    },
    {
     "name": "stderr",
     "output_type": "stream",
     "text": [
      "[I 2023-06-17 17:24:55,812] Trial 802 finished with value: 0.694177195687845 and parameters: {'bootstrap_type': 'Bayesian', 'grow_policy': 'Depthwise', 'learning_rate': 0.1979738393784141, 'l2_leaf_reg': 0.00017653122130005178, 'depth': 4, 'random_strength': 3.9920374139883776, 'min_data_in_leaf': 91, 'bagging_temperature': 97.3346048734953}. Best is trial 236 with value: 0.2204946060949904.\n"
     ]
    },
    {
     "name": "stdout",
     "output_type": "stream",
     "text": [
      "Repeat \u001b[1m\u001b[34m#1\n",
      "Repeat \u001b[1m\u001b[34m#2\n",
      "Repeat \u001b[1m\u001b[34m#3\n"
     ]
    },
    {
     "name": "stderr",
     "output_type": "stream",
     "text": [
      "[I 2023-06-17 17:24:56,728] Trial 803 finished with value: 0.6920730633324262 and parameters: {'bootstrap_type': 'Bayesian', 'grow_policy': 'Depthwise', 'learning_rate': 0.03427629794526434, 'l2_leaf_reg': 0.014025109032790901, 'depth': 8, 'random_strength': 41.61924921092388, 'min_data_in_leaf': 98, 'bagging_temperature': 60.36777162931249}. Best is trial 236 with value: 0.2204946060949904.\n"
     ]
    },
    {
     "name": "stdout",
     "output_type": "stream",
     "text": [
      "Repeat \u001b[1m\u001b[34m#1\n",
      "Repeat \u001b[1m\u001b[34m#2\n",
      "Repeat \u001b[1m\u001b[34m#3\n"
     ]
    },
    {
     "name": "stderr",
     "output_type": "stream",
     "text": [
      "[I 2023-06-17 17:24:57,590] Trial 804 finished with value: 0.692871139699515 and parameters: {'bootstrap_type': 'Bayesian', 'grow_policy': 'Depthwise', 'learning_rate': 0.02325647691372336, 'l2_leaf_reg': 6.515064420781172e-08, 'depth': 4, 'random_strength': 75.22385907716088, 'min_data_in_leaf': 93, 'bagging_temperature': 62.61459200864975}. Best is trial 236 with value: 0.2204946060949904.\n"
     ]
    },
    {
     "name": "stdout",
     "output_type": "stream",
     "text": [
      "Repeat \u001b[1m\u001b[34m#1\n",
      "Repeat \u001b[1m\u001b[34m#2\n",
      "Repeat \u001b[1m\u001b[34m#3\n"
     ]
    },
    {
     "name": "stderr",
     "output_type": "stream",
     "text": [
      "[I 2023-06-17 17:25:22,693] Trial 805 finished with value: 0.3614993656813925 and parameters: {'bootstrap_type': 'Bernoulli', 'grow_policy': 'SymmetricTree', 'learning_rate': 0.01556244364533312, 'l2_leaf_reg': 4.967380679210462e-07, 'depth': 4, 'random_strength': 94.36278340704168, 'min_data_in_leaf': 95, 'subsample': 0.3556739452011414, 'boosting_type': 'Ordered'}. Best is trial 236 with value: 0.2204946060949904.\n"
     ]
    },
    {
     "name": "stdout",
     "output_type": "stream",
     "text": [
      "Repeat \u001b[1m\u001b[34m#1\n",
      "Repeat \u001b[1m\u001b[34m#2\n",
      "Repeat \u001b[1m\u001b[34m#3\n"
     ]
    },
    {
     "name": "stderr",
     "output_type": "stream",
     "text": [
      "[I 2023-06-17 17:25:23,510] Trial 806 finished with value: 0.6933553335213967 and parameters: {'bootstrap_type': 'Bayesian', 'grow_policy': 'Depthwise', 'learning_rate': 0.040809437222881356, 'l2_leaf_reg': 0.0005612818538696161, 'depth': 4, 'random_strength': 67.89671219933285, 'min_data_in_leaf': 90, 'bagging_temperature': 77.13446254817943}. Best is trial 236 with value: 0.2204946060949904.\n"
     ]
    },
    {
     "name": "stdout",
     "output_type": "stream",
     "text": [
      "Repeat \u001b[1m\u001b[34m#1\n",
      "Repeat \u001b[1m\u001b[34m#2\n",
      "Repeat \u001b[1m\u001b[34m#3\n"
     ]
    },
    {
     "name": "stderr",
     "output_type": "stream",
     "text": [
      "[I 2023-06-17 17:25:29,158] Trial 807 finished with value: 0.26238565759851246 and parameters: {'bootstrap_type': 'Bayesian', 'grow_policy': 'Depthwise', 'learning_rate': 0.05802681589248834, 'l2_leaf_reg': 1.9073561722746735e-05, 'depth': 4, 'random_strength': 65.65259098351252, 'min_data_in_leaf': 100, 'bagging_temperature': 33.44505130402502}. Best is trial 236 with value: 0.2204946060949904.\n"
     ]
    },
    {
     "name": "stdout",
     "output_type": "stream",
     "text": [
      "Repeat \u001b[1m\u001b[34m#1\n",
      "Repeat \u001b[1m\u001b[34m#2\n",
      "Repeat \u001b[1m\u001b[34m#3\n"
     ]
    },
    {
     "name": "stderr",
     "output_type": "stream",
     "text": [
      "[I 2023-06-17 17:26:06,886] Trial 808 finished with value: 0.4050247185662861 and parameters: {'bootstrap_type': 'Bayesian', 'grow_policy': 'Depthwise', 'learning_rate': 0.0011135839958802537, 'l2_leaf_reg': 4.2657508028881, 'depth': 4, 'random_strength': 62.57181569087064, 'min_data_in_leaf': 92, 'bagging_temperature': 41.256134903165616}. Best is trial 236 with value: 0.2204946060949904.\n"
     ]
    },
    {
     "name": "stdout",
     "output_type": "stream",
     "text": [
      "Repeat \u001b[1m\u001b[34m#1\n",
      "Repeat \u001b[1m\u001b[34m#2\n",
      "Repeat \u001b[1m\u001b[34m#3\n"
     ]
    },
    {
     "name": "stderr",
     "output_type": "stream",
     "text": [
      "[I 2023-06-17 17:26:24,980] Trial 809 finished with value: 0.23601630362968884 and parameters: {'bootstrap_type': 'Bayesian', 'grow_policy': 'Depthwise', 'learning_rate': 0.029300420315345417, 'l2_leaf_reg': 36.23837194417879, 'depth': 4, 'random_strength': 81.97183814796038, 'min_data_in_leaf': 63, 'bagging_temperature': 13.023278191609421}. Best is trial 236 with value: 0.2204946060949904.\n"
     ]
    },
    {
     "name": "stdout",
     "output_type": "stream",
     "text": [
      "Repeat \u001b[1m\u001b[34m#1\n",
      "Repeat \u001b[1m\u001b[34m#2\n",
      "Repeat \u001b[1m\u001b[34m#3\n"
     ]
    },
    {
     "name": "stderr",
     "output_type": "stream",
     "text": [
      "[I 2023-06-17 17:26:28,214] Trial 810 finished with value: 0.2884829214102524 and parameters: {'bootstrap_type': 'Bayesian', 'grow_policy': 'Lossguide', 'learning_rate': 0.29007764118409335, 'l2_leaf_reg': 0.007373767234197978, 'depth': 4, 'random_strength': 35.159918957949834, 'min_data_in_leaf': 96, 'bagging_temperature': 38.801178035155324, 'max_leaves': 27}. Best is trial 236 with value: 0.2204946060949904.\n"
     ]
    },
    {
     "name": "stdout",
     "output_type": "stream",
     "text": [
      "Repeat \u001b[1m\u001b[34m#1\n",
      "Repeat \u001b[1m\u001b[34m#2\n",
      "Repeat \u001b[1m\u001b[34m#3\n"
     ]
    },
    {
     "name": "stderr",
     "output_type": "stream",
     "text": [
      "[I 2023-06-17 17:26:32,101] Trial 811 finished with value: 0.28077948504626976 and parameters: {'bootstrap_type': 'Bayesian', 'grow_policy': 'Depthwise', 'learning_rate': 0.11684878023186557, 'l2_leaf_reg': 3.598971515216673e-05, 'depth': 5, 'random_strength': 77.40032703542208, 'min_data_in_leaf': 98, 'bagging_temperature': 35.730519242135244}. Best is trial 236 with value: 0.2204946060949904.\n"
     ]
    },
    {
     "name": "stdout",
     "output_type": "stream",
     "text": [
      "Repeat \u001b[1m\u001b[34m#1\n",
      "Repeat \u001b[1m\u001b[34m#2\n",
      "Repeat \u001b[1m\u001b[34m#3\n"
     ]
    },
    {
     "name": "stderr",
     "output_type": "stream",
     "text": [
      "[I 2023-06-17 17:26:35,612] Trial 812 finished with value: 0.2688500950781932 and parameters: {'bootstrap_type': 'Bayesian', 'grow_policy': 'Depthwise', 'learning_rate': 0.16454662422785943, 'l2_leaf_reg': 2.217889944910016e-07, 'depth': 4, 'random_strength': 71.59858448438143, 'min_data_in_leaf': 87, 'bagging_temperature': 45.55378887256597}. Best is trial 236 with value: 0.2204946060949904.\n"
     ]
    },
    {
     "name": "stdout",
     "output_type": "stream",
     "text": [
      "Repeat \u001b[1m\u001b[34m#1\n",
      "Repeat \u001b[1m\u001b[34m#2\n",
      "Repeat \u001b[1m\u001b[34m#3\n"
     ]
    },
    {
     "name": "stderr",
     "output_type": "stream",
     "text": [
      "[I 2023-06-17 17:27:00,109] Trial 813 finished with value: 0.23574262514278888 and parameters: {'bootstrap_type': 'Bayesian', 'grow_policy': 'Depthwise', 'learning_rate': 0.010147095982148921, 'l2_leaf_reg': 0.028742783132300186, 'depth': 4, 'random_strength': 37.31054555579936, 'min_data_in_leaf': 94, 'bagging_temperature': 21.672519151223003}. Best is trial 236 with value: 0.2204946060949904.\n"
     ]
    },
    {
     "name": "stdout",
     "output_type": "stream",
     "text": [
      "Repeat \u001b[1m\u001b[34m#1\n",
      "Repeat \u001b[1m\u001b[34m#2\n",
      "Repeat \u001b[1m\u001b[34m#3\n"
     ]
    },
    {
     "name": "stderr",
     "output_type": "stream",
     "text": [
      "[I 2023-06-17 17:27:39,708] Trial 814 finished with value: 0.5397723380089768 and parameters: {'bootstrap_type': 'Bayesian', 'grow_policy': 'Depthwise', 'learning_rate': 0.0003267741960159854, 'l2_leaf_reg': 2.5398743955331393, 'depth': 4, 'random_strength': 14.865712860971172, 'min_data_in_leaf': 89, 'bagging_temperature': 30.987606784540198}. Best is trial 236 with value: 0.2204946060949904.\n"
     ]
    },
    {
     "name": "stdout",
     "output_type": "stream",
     "text": [
      "Repeat \u001b[1m\u001b[34m#1\n",
      "Repeat \u001b[1m\u001b[34m#2\n",
      "Repeat \u001b[1m\u001b[34m#3\n"
     ]
    },
    {
     "name": "stderr",
     "output_type": "stream",
     "text": [
      "[I 2023-06-17 17:27:55,167] Trial 815 finished with value: 0.22867054296017572 and parameters: {'bootstrap_type': 'Bayesian', 'grow_policy': 'Depthwise', 'learning_rate': 0.026104499572282495, 'l2_leaf_reg': 0.4695472374579279, 'depth': 4, 'random_strength': 64.55837982630463, 'min_data_in_leaf': 92, 'bagging_temperature': 28.354048906321818}. Best is trial 236 with value: 0.2204946060949904.\n"
     ]
    },
    {
     "name": "stdout",
     "output_type": "stream",
     "text": [
      "Repeat \u001b[1m\u001b[34m#1\n",
      "Repeat \u001b[1m\u001b[34m#2\n",
      "Repeat \u001b[1m\u001b[34m#3\n"
     ]
    },
    {
     "name": "stderr",
     "output_type": "stream",
     "text": [
      "[I 2023-06-17 17:28:15,108] Trial 816 finished with value: 0.23104236144175194 and parameters: {'bootstrap_type': 'Bayesian', 'grow_policy': 'Depthwise', 'learning_rate': 0.01988220941590468, 'l2_leaf_reg': 5.744666309916682, 'depth': 4, 'random_strength': 73.48360781994741, 'min_data_in_leaf': 95, 'bagging_temperature': 34.20033567263284}. Best is trial 236 with value: 0.2204946060949904.\n"
     ]
    },
    {
     "name": "stdout",
     "output_type": "stream",
     "text": [
      "Repeat \u001b[1m\u001b[34m#1\n",
      "Repeat \u001b[1m\u001b[34m#2\n",
      "Repeat \u001b[1m\u001b[34m#3\n"
     ]
    },
    {
     "name": "stderr",
     "output_type": "stream",
     "text": [
      "[I 2023-06-17 17:28:19,658] Trial 817 finished with value: 0.24521596300286488 and parameters: {'bootstrap_type': 'MVS', 'grow_policy': 'Depthwise', 'learning_rate': 0.07393228964250298, 'l2_leaf_reg': 1.3376320203803607, 'depth': 4, 'random_strength': 86.0262312893841, 'min_data_in_leaf': 98}. Best is trial 236 with value: 0.2204946060949904.\n"
     ]
    },
    {
     "name": "stdout",
     "output_type": "stream",
     "text": [
      "Repeat \u001b[1m\u001b[34m#1\n",
      "Repeat \u001b[1m\u001b[34m#2\n",
      "Repeat \u001b[1m\u001b[34m#3\n"
     ]
    },
    {
     "name": "stderr",
     "output_type": "stream",
     "text": [
      "[I 2023-06-17 17:28:35,968] Trial 818 finished with value: 0.22565088343175269 and parameters: {'bootstrap_type': 'Bayesian', 'grow_policy': 'Depthwise', 'learning_rate': 0.03560997751356543, 'l2_leaf_reg': 25.326014528639192, 'depth': 4, 'random_strength': 59.12418591726214, 'min_data_in_leaf': 94, 'bagging_temperature': 37.739353876030115}. Best is trial 236 with value: 0.2204946060949904.\n"
     ]
    },
    {
     "name": "stdout",
     "output_type": "stream",
     "text": [
      "Repeat \u001b[1m\u001b[34m#1\n",
      "Repeat \u001b[1m\u001b[34m#2\n",
      "Repeat \u001b[1m\u001b[34m#3\n"
     ]
    },
    {
     "name": "stderr",
     "output_type": "stream",
     "text": [
      "[I 2023-06-17 17:28:36,825] Trial 819 finished with value: 0.6931478092085651 and parameters: {'bootstrap_type': 'Bayesian', 'grow_policy': 'Lossguide', 'learning_rate': 0.00012398293373747308, 'l2_leaf_reg': 0.1564391664378482, 'depth': 4, 'random_strength': 68.36647650638602, 'min_data_in_leaf': 43, 'bagging_temperature': 76.53606091265645, 'max_leaves': 34}. Best is trial 236 with value: 0.2204946060949904.\n"
     ]
    },
    {
     "name": "stdout",
     "output_type": "stream",
     "text": [
      "Repeat \u001b[1m\u001b[34m#1\n",
      "Repeat \u001b[1m\u001b[34m#2\n",
      "Repeat \u001b[1m\u001b[34m#3\n"
     ]
    },
    {
     "name": "stderr",
     "output_type": "stream",
     "text": [
      "[I 2023-06-17 17:28:46,542] Trial 820 finished with value: 0.28589304649086217 and parameters: {'bootstrap_type': 'Bayesian', 'grow_policy': 'Depthwise', 'learning_rate': 0.09182467624916192, 'l2_leaf_reg': 8.045993437527937, 'depth': 4, 'random_strength': 78.21280781943214, 'min_data_in_leaf': 91, 'bagging_temperature': 53.08601125924723}. Best is trial 236 with value: 0.2204946060949904.\n"
     ]
    },
    {
     "name": "stdout",
     "output_type": "stream",
     "text": [
      "Repeat \u001b[1m\u001b[34m#1\n",
      "Repeat \u001b[1m\u001b[34m#2\n",
      "Repeat \u001b[1m\u001b[34m#3\n"
     ]
    },
    {
     "name": "stderr",
     "output_type": "stream",
     "text": [
      "[I 2023-06-17 17:28:47,384] Trial 821 finished with value: 0.6931499508445466 and parameters: {'bootstrap_type': 'Bayesian', 'grow_policy': 'Depthwise', 'learning_rate': 0.0005459233148701248, 'l2_leaf_reg': 2.9146142169891743e-06, 'depth': 4, 'random_strength': 83.24603417897178, 'min_data_in_leaf': 97, 'bagging_temperature': 77.33468049500404}. Best is trial 236 with value: 0.2204946060949904.\n"
     ]
    },
    {
     "name": "stdout",
     "output_type": "stream",
     "text": [
      "Repeat \u001b[1m\u001b[34m#1\n",
      "Repeat \u001b[1m\u001b[34m#2\n",
      "Repeat \u001b[1m\u001b[34m#3\n"
     ]
    },
    {
     "name": "stderr",
     "output_type": "stream",
     "text": [
      "[I 2023-06-17 17:29:26,051] Trial 822 finished with value: 0.5075574884411851 and parameters: {'bootstrap_type': 'Bayesian', 'grow_policy': 'Depthwise', 'learning_rate': 0.0004419456413333845, 'l2_leaf_reg': 3.6849063033375584, 'depth': 4, 'random_strength': 66.73108397319822, 'min_data_in_leaf': 93, 'bagging_temperature': 24.80004333652061}. Best is trial 236 with value: 0.2204946060949904.\n"
     ]
    },
    {
     "name": "stdout",
     "output_type": "stream",
     "text": [
      "Repeat \u001b[1m\u001b[34m#1\n",
      "Repeat \u001b[1m\u001b[34m#2\n",
      "Repeat \u001b[1m\u001b[34m#3\n"
     ]
    },
    {
     "name": "stderr",
     "output_type": "stream",
     "text": [
      "[I 2023-06-17 17:30:07,814] Trial 823 finished with value: 0.30826841421732526 and parameters: {'bootstrap_type': 'Bayesian', 'grow_policy': 'Depthwise', 'learning_rate': 0.0018486239421012633, 'l2_leaf_reg': 4.3734120893050467e-07, 'depth': 6, 'random_strength': 89.39782381178867, 'min_data_in_leaf': 100, 'bagging_temperature': 32.23120860756942}. Best is trial 236 with value: 0.2204946060949904.\n"
     ]
    },
    {
     "name": "stdout",
     "output_type": "stream",
     "text": [
      "Repeat \u001b[1m\u001b[34m#1\n",
      "Repeat \u001b[1m\u001b[34m#2\n",
      "Repeat \u001b[1m\u001b[34m#3\n"
     ]
    },
    {
     "name": "stderr",
     "output_type": "stream",
     "text": [
      "[I 2023-06-17 17:30:18,311] Trial 824 finished with value: 0.23610274661191633 and parameters: {'bootstrap_type': 'Bayesian', 'grow_policy': 'Depthwise', 'learning_rate': 0.04604462051788866, 'l2_leaf_reg': 0.6597611742027684, 'depth': 4, 'random_strength': 61.305121010777064, 'min_data_in_leaf': 96, 'bagging_temperature': 42.80147174890985}. Best is trial 236 with value: 0.2204946060949904.\n"
     ]
    },
    {
     "name": "stdout",
     "output_type": "stream",
     "text": [
      "Repeat \u001b[1m\u001b[34m#1\n",
      "Repeat \u001b[1m\u001b[34m#2\n",
      "Repeat \u001b[1m\u001b[34m#3\n"
     ]
    },
    {
     "name": "stderr",
     "output_type": "stream",
     "text": [
      "[I 2023-06-17 17:30:19,134] Trial 825 finished with value: 0.6933081078547522 and parameters: {'bootstrap_type': 'Bayesian', 'grow_policy': 'Depthwise', 'learning_rate': 0.0315873789531424, 'l2_leaf_reg': 2.1634746115697135e-06, 'depth': 4, 'random_strength': 30.517603400133503, 'min_data_in_leaf': 89, 'bagging_temperature': 64.93287305523768}. Best is trial 236 with value: 0.2204946060949904.\n"
     ]
    },
    {
     "name": "stdout",
     "output_type": "stream",
     "text": [
      "Repeat \u001b[1m\u001b[34m#1\n",
      "Repeat \u001b[1m\u001b[34m#2\n",
      "Repeat \u001b[1m\u001b[34m#3\n"
     ]
    },
    {
     "name": "stderr",
     "output_type": "stream",
     "text": [
      "[I 2023-06-17 17:30:26,495] Trial 826 finished with value: 0.6879061066107816 and parameters: {'bootstrap_type': 'Bayesian', 'grow_policy': 'SymmetricTree', 'learning_rate': 0.00129782289495181, 'l2_leaf_reg': 3.080459335302816e-06, 'depth': 4, 'random_strength': 69.82951574830129, 'min_data_in_leaf': 92, 'bagging_temperature': 86.39222884502436, 'boosting_type': 'Plain'}. Best is trial 236 with value: 0.2204946060949904.\n"
     ]
    },
    {
     "name": "stdout",
     "output_type": "stream",
     "text": [
      "Repeat \u001b[1m\u001b[34m#1\n",
      "Repeat \u001b[1m\u001b[34m#2\n",
      "Repeat \u001b[1m\u001b[34m#3\n"
     ]
    },
    {
     "name": "stderr",
     "output_type": "stream",
     "text": [
      "[I 2023-06-17 17:30:39,131] Trial 827 finished with value: 0.23557908856550938 and parameters: {'bootstrap_type': 'Bernoulli', 'grow_policy': 'Depthwise', 'learning_rate': 0.024916221400658627, 'l2_leaf_reg': 13.913560114799084, 'depth': 4, 'random_strength': 88.01572160583856, 'min_data_in_leaf': 58, 'subsample': 0.8063993490445921}. Best is trial 236 with value: 0.2204946060949904.\n"
     ]
    },
    {
     "name": "stdout",
     "output_type": "stream",
     "text": [
      "Repeat \u001b[1m\u001b[34m#1\n",
      "Repeat \u001b[1m\u001b[34m#2\n",
      "Repeat \u001b[1m\u001b[34m#3\n"
     ]
    },
    {
     "name": "stderr",
     "output_type": "stream",
     "text": [
      "[I 2023-06-17 17:30:39,901] Trial 828 finished with value: 0.6933411787888822 and parameters: {'bootstrap_type': 'Bayesian', 'grow_policy': 'Lossguide', 'learning_rate': 0.03804730036941425, 'l2_leaf_reg': 1.2821713537073228e-06, 'depth': 4, 'random_strength': 32.40905012898486, 'min_data_in_leaf': 95, 'bagging_temperature': 88.40896010099607, 'max_leaves': 30}. Best is trial 236 with value: 0.2204946060949904.\n"
     ]
    },
    {
     "name": "stdout",
     "output_type": "stream",
     "text": [
      "Repeat \u001b[1m\u001b[34m#1\n",
      "Repeat \u001b[1m\u001b[34m#2\n",
      "Repeat \u001b[1m\u001b[34m#3\n"
     ]
    },
    {
     "name": "stderr",
     "output_type": "stream",
     "text": [
      "[I 2023-06-17 17:30:40,738] Trial 829 finished with value: 0.6932588421465744 and parameters: {'bootstrap_type': 'Bayesian', 'grow_policy': 'Depthwise', 'learning_rate': 0.022080756817633926, 'l2_leaf_reg': 2.082664237347826, 'depth': 4, 'random_strength': 57.29586842978088, 'min_data_in_leaf': 87, 'bagging_temperature': 92.61380837137688}. Best is trial 236 with value: 0.2204946060949904.\n"
     ]
    },
    {
     "name": "stdout",
     "output_type": "stream",
     "text": [
      "Repeat \u001b[1m\u001b[34m#1\n",
      "Repeat \u001b[1m\u001b[34m#2\n",
      "Repeat \u001b[1m\u001b[34m#3\n"
     ]
    },
    {
     "name": "stderr",
     "output_type": "stream",
     "text": [
      "[I 2023-06-17 17:30:49,947] Trial 830 finished with value: 0.2315229131831628 and parameters: {'bootstrap_type': 'Bayesian', 'grow_policy': 'Depthwise', 'learning_rate': 0.05480445022740142, 'l2_leaf_reg': 1.0407155888534856, 'depth': 4, 'random_strength': 43.08338683939527, 'min_data_in_leaf': 98, 'bagging_temperature': 35.52864160853842}. Best is trial 236 with value: 0.2204946060949904.\n"
     ]
    },
    {
     "name": "stdout",
     "output_type": "stream",
     "text": [
      "Repeat \u001b[1m\u001b[34m#1\n",
      "Repeat \u001b[1m\u001b[34m#2\n",
      "Repeat \u001b[1m\u001b[34m#3\n"
     ]
    },
    {
     "name": "stderr",
     "output_type": "stream",
     "text": [
      "[I 2023-06-17 17:31:24,742] Trial 831 finished with value: 0.2581235026442747 and parameters: {'bootstrap_type': 'Bayesian', 'grow_policy': 'Depthwise', 'learning_rate': 0.005257225638777706, 'l2_leaf_reg': 0.2662428906613762, 'depth': 4, 'random_strength': 39.01020819124646, 'min_data_in_leaf': 90, 'bagging_temperature': 40.315911964772546}. Best is trial 236 with value: 0.2204946060949904.\n"
     ]
    },
    {
     "name": "stdout",
     "output_type": "stream",
     "text": [
      "Repeat \u001b[1m\u001b[34m#1\n",
      "Repeat \u001b[1m\u001b[34m#2\n",
      "Repeat \u001b[1m\u001b[34m#3\n"
     ]
    },
    {
     "name": "stderr",
     "output_type": "stream",
     "text": [
      "[I 2023-06-17 17:31:52,932] Trial 832 finished with value: 0.261691408944942 and parameters: {'bootstrap_type': 'Bayesian', 'grow_policy': 'Depthwise', 'learning_rate': 0.006486576325162184, 'l2_leaf_reg': 9.92796012917121e-05, 'depth': 5, 'random_strength': 63.490010833183156, 'min_data_in_leaf': 75, 'bagging_temperature': 26.615111807856973}. Best is trial 236 with value: 0.2204946060949904.\n"
     ]
    },
    {
     "name": "stdout",
     "output_type": "stream",
     "text": [
      "Repeat \u001b[1m\u001b[34m#1\n",
      "Repeat \u001b[1m\u001b[34m#2\n",
      "Repeat \u001b[1m\u001b[34m#3\n"
     ]
    },
    {
     "name": "stderr",
     "output_type": "stream",
     "text": [
      "[I 2023-06-17 17:32:31,628] Trial 833 finished with value: 0.5964013348328275 and parameters: {'bootstrap_type': 'Bayesian', 'grow_policy': 'Depthwise', 'learning_rate': 0.00017970000113322598, 'l2_leaf_reg': 4.551867180711801, 'depth': 4, 'random_strength': 6.178038760326906, 'min_data_in_leaf': 94, 'bagging_temperature': 29.682685335299556}. Best is trial 236 with value: 0.2204946060949904.\n"
     ]
    },
    {
     "name": "stdout",
     "output_type": "stream",
     "text": [
      "Repeat \u001b[1m\u001b[34m#1\n",
      "Repeat \u001b[1m\u001b[34m#2\n",
      "Repeat \u001b[1m\u001b[34m#3\n"
     ]
    },
    {
     "name": "stderr",
     "output_type": "stream",
     "text": [
      "[I 2023-06-17 17:33:09,884] Trial 834 finished with value: 0.5873724299903029 and parameters: {'bootstrap_type': 'Bayesian', 'grow_policy': 'Depthwise', 'learning_rate': 0.0002152056125768717, 'l2_leaf_reg': 2.0711358350459386, 'depth': 4, 'random_strength': 92.57370071474097, 'min_data_in_leaf': 97, 'bagging_temperature': 37.183402578958386}. Best is trial 236 with value: 0.2204946060949904.\n"
     ]
    },
    {
     "name": "stdout",
     "output_type": "stream",
     "text": [
      "Repeat \u001b[1m\u001b[34m#1\n",
      "Repeat \u001b[1m\u001b[34m#2\n",
      "Repeat \u001b[1m\u001b[34m#3\n"
     ]
    },
    {
     "name": "stderr",
     "output_type": "stream",
     "text": [
      "[I 2023-06-17 17:33:10,661] Trial 835 finished with value: 0.6937017007294973 and parameters: {'bootstrap_type': 'Bayesian', 'grow_policy': 'Depthwise', 'learning_rate': 0.10825588904967723, 'l2_leaf_reg': 10.644064857855568, 'depth': 4, 'random_strength': 98.05057692089949, 'min_data_in_leaf': 67, 'bagging_temperature': 67.16552237167534}. Best is trial 236 with value: 0.2204946060949904.\n"
     ]
    },
    {
     "name": "stdout",
     "output_type": "stream",
     "text": [
      "Repeat \u001b[1m\u001b[34m#1\n",
      "Repeat \u001b[1m\u001b[34m#2\n",
      "Repeat \u001b[1m\u001b[34m#3\n"
     ]
    },
    {
     "name": "stderr",
     "output_type": "stream",
     "text": [
      "[I 2023-06-17 17:33:18,076] Trial 836 finished with value: 0.24925610535221687 and parameters: {'bootstrap_type': 'MVS', 'grow_policy': 'Lossguide', 'learning_rate': 0.029320776450321544, 'l2_leaf_reg': 0.004098655062674205, 'depth': 4, 'random_strength': 74.7613840937994, 'min_data_in_leaf': 93, 'max_leaves': 98}. Best is trial 236 with value: 0.2204946060949904.\n"
     ]
    },
    {
     "name": "stdout",
     "output_type": "stream",
     "text": [
      "Repeat \u001b[1m\u001b[34m#1\n",
      "Repeat \u001b[1m\u001b[34m#2\n",
      "Repeat \u001b[1m\u001b[34m#3\n"
     ]
    },
    {
     "name": "stderr",
     "output_type": "stream",
     "text": [
      "[I 2023-06-17 17:33:56,617] Trial 837 finished with value: 0.2953476981880737 and parameters: {'bootstrap_type': 'Bayesian', 'grow_policy': 'Depthwise', 'learning_rate': 0.002509279940471593, 'l2_leaf_reg': 0.08103860320266539, 'depth': 4, 'random_strength': 71.15721086539259, 'min_data_in_leaf': 91, 'bagging_temperature': 32.89754243574873}. Best is trial 236 with value: 0.2204946060949904.\n"
     ]
    },
    {
     "name": "stdout",
     "output_type": "stream",
     "text": [
      "Repeat \u001b[1m\u001b[34m#1\n",
      "Repeat \u001b[1m\u001b[34m#2\n",
      "Repeat \u001b[1m\u001b[34m#3\n"
     ]
    },
    {
     "name": "stderr",
     "output_type": "stream",
     "text": [
      "[I 2023-06-17 17:34:02,036] Trial 838 finished with value: 0.502975051762253 and parameters: {'bootstrap_type': 'Bayesian', 'grow_policy': 'Depthwise', 'learning_rate': 0.08084174855503862, 'l2_leaf_reg': 1.2752608471038351, 'depth': 4, 'random_strength': 66.9959965820381, 'min_data_in_leaf': 96, 'bagging_temperature': 55.46970585722099}. Best is trial 236 with value: 0.2204946060949904.\n"
     ]
    },
    {
     "name": "stdout",
     "output_type": "stream",
     "text": [
      "Repeat \u001b[1m\u001b[34m#1\n",
      "Repeat \u001b[1m\u001b[34m#2\n",
      "Repeat \u001b[1m\u001b[34m#3\n"
     ]
    },
    {
     "name": "stderr",
     "output_type": "stream",
     "text": [
      "[I 2023-06-17 17:34:40,431] Trial 839 finished with value: 0.3077608307445907 and parameters: {'bootstrap_type': 'Bayesian', 'grow_policy': 'Depthwise', 'learning_rate': 0.0027542578501121486, 'l2_leaf_reg': 23.12282432809811, 'depth': 4, 'random_strength': 44.6508853480559, 'min_data_in_leaf': 100, 'bagging_temperature': 39.163955334357354}. Best is trial 236 with value: 0.2204946060949904.\n"
     ]
    },
    {
     "name": "stdout",
     "output_type": "stream",
     "text": [
      "Repeat \u001b[1m\u001b[34m#1\n",
      "Repeat \u001b[1m\u001b[34m#2\n",
      "Repeat \u001b[1m\u001b[34m#3\n"
     ]
    },
    {
     "name": "stderr",
     "output_type": "stream",
     "text": [
      "[I 2023-06-17 17:34:51,140] Trial 840 finished with value: 0.24120964685419877 and parameters: {'bootstrap_type': 'Bayesian', 'grow_policy': 'Depthwise', 'learning_rate': 0.04185880027469697, 'l2_leaf_reg': 2.7854190571041975, 'depth': 4, 'random_strength': 64.6191715578131, 'min_data_in_leaf': 94, 'bagging_temperature': 6.668278703630648}. Best is trial 236 with value: 0.2204946060949904.\n"
     ]
    },
    {
     "name": "stdout",
     "output_type": "stream",
     "text": [
      "Repeat \u001b[1m\u001b[34m#1\n",
      "Repeat \u001b[1m\u001b[34m#2\n",
      "Repeat \u001b[1m\u001b[34m#3\n"
     ]
    },
    {
     "name": "stderr",
     "output_type": "stream",
     "text": [
      "[I 2023-06-17 17:35:03,258] Trial 841 finished with value: 0.2327388467211581 and parameters: {'bootstrap_type': 'Bayesian', 'grow_policy': 'Depthwise', 'learning_rate': 0.034482027426052435, 'l2_leaf_reg': 0.6189194702963663, 'depth': 4, 'random_strength': 21.31204903900944, 'min_data_in_leaf': 89, 'bagging_temperature': 35.1592836171874}. Best is trial 236 with value: 0.2204946060949904.\n"
     ]
    },
    {
     "name": "stdout",
     "output_type": "stream",
     "text": [
      "Repeat \u001b[1m\u001b[34m#1\n",
      "Repeat \u001b[1m\u001b[34m#2\n",
      "Repeat \u001b[1m\u001b[34m#3\n"
     ]
    },
    {
     "name": "stderr",
     "output_type": "stream",
     "text": [
      "[I 2023-06-17 17:35:43,198] Trial 842 finished with value: 0.2541343996973429 and parameters: {'bootstrap_type': 'Bayesian', 'grow_policy': 'Depthwise', 'learning_rate': 0.02622664259647424, 'l2_leaf_reg': 8.715487019095432, 'depth': 9, 'random_strength': 68.74737200399389, 'min_data_in_leaf': 25, 'bagging_temperature': 18.496245789451862}. Best is trial 236 with value: 0.2204946060949904.\n"
     ]
    },
    {
     "name": "stdout",
     "output_type": "stream",
     "text": [
      "Repeat \u001b[1m\u001b[34m#1\n",
      "Repeat \u001b[1m\u001b[34m#2\n",
      "Repeat \u001b[1m\u001b[34m#3\n"
     ]
    },
    {
     "name": "stderr",
     "output_type": "stream",
     "text": [
      "[I 2023-06-17 17:36:16,458] Trial 843 finished with value: 0.2610018855891461 and parameters: {'bootstrap_type': 'Bayesian', 'grow_policy': 'Depthwise', 'learning_rate': 0.007619541823282737, 'l2_leaf_reg': 35.617053328159216, 'depth': 4, 'random_strength': 41.469112515582076, 'min_data_in_leaf': 92, 'bagging_temperature': 44.493665786959}. Best is trial 236 with value: 0.2204946060949904.\n"
     ]
    },
    {
     "name": "stdout",
     "output_type": "stream",
     "text": [
      "Repeat \u001b[1m\u001b[34m#1\n",
      "Repeat \u001b[1m\u001b[34m#2\n",
      "Repeat \u001b[1m\u001b[34m#3\n"
     ]
    },
    {
     "name": "stderr",
     "output_type": "stream",
     "text": [
      "[I 2023-06-17 17:36:30,889] Trial 844 finished with value: 0.23842072956087765 and parameters: {'bootstrap_type': 'Bayesian', 'grow_policy': 'Depthwise', 'learning_rate': 0.01889010560665588, 'l2_leaf_reg': 0.019888027001357344, 'depth': 4, 'random_strength': 12.823685639534752, 'min_data_in_leaf': 96, 'bagging_temperature': 23.711317201134523}. Best is trial 236 with value: 0.2204946060949904.\n"
     ]
    },
    {
     "name": "stdout",
     "output_type": "stream",
     "text": [
      "Repeat \u001b[1m\u001b[34m#1\n",
      "Repeat \u001b[1m\u001b[34m#2\n",
      "Repeat \u001b[1m\u001b[34m#3\n"
     ]
    },
    {
     "name": "stderr",
     "output_type": "stream",
     "text": [
      "[I 2023-06-17 17:36:36,563] Trial 845 finished with value: 0.2337188173766114 and parameters: {'bootstrap_type': 'Bayesian', 'grow_policy': 'Lossguide', 'learning_rate': 0.14026173670788555, 'l2_leaf_reg': 5.4578246667906285, 'depth': 5, 'random_strength': 6.533930667021629, 'min_data_in_leaf': 98, 'bagging_temperature': 32.02110963383366, 'max_leaves': 113}. Best is trial 236 with value: 0.2204946060949904.\n"
     ]
    },
    {
     "name": "stdout",
     "output_type": "stream",
     "text": [
      "Repeat \u001b[1m\u001b[34m#1\n",
      "Repeat \u001b[1m\u001b[34m#2\n",
      "Repeat \u001b[1m\u001b[34m#3\n"
     ]
    },
    {
     "name": "stderr",
     "output_type": "stream",
     "text": [
      "[I 2023-06-17 17:36:43,875] Trial 846 finished with value: 0.2707880659373392 and parameters: {'bootstrap_type': 'Bayesian', 'grow_policy': 'Depthwise', 'learning_rate': 0.051120826582325835, 'l2_leaf_reg': 0.00029803155618365743, 'depth': 4, 'random_strength': 61.081766771049, 'min_data_in_leaf': 94, 'bagging_temperature': 47.44095033518641}. Best is trial 236 with value: 0.2204946060949904.\n"
     ]
    },
    {
     "name": "stdout",
     "output_type": "stream",
     "text": [
      "Repeat \u001b[1m\u001b[34m#1\n",
      "Repeat \u001b[1m\u001b[34m#2\n",
      "Repeat \u001b[1m\u001b[34m#3\n"
     ]
    },
    {
     "name": "stderr",
     "output_type": "stream",
     "text": [
      "[I 2023-06-17 17:36:45,565] Trial 847 finished with value: 0.6156113528020444 and parameters: {'bootstrap_type': 'Bayesian', 'grow_policy': 'Depthwise', 'learning_rate': 0.21889766630366236, 'l2_leaf_reg': 16.196596470879946, 'depth': 4, 'random_strength': 72.89705220285649, 'min_data_in_leaf': 86, 'bagging_temperature': 57.03239751183368}. Best is trial 236 with value: 0.2204946060949904.\n"
     ]
    },
    {
     "name": "stdout",
     "output_type": "stream",
     "text": [
      "Repeat \u001b[1m\u001b[34m#1\n",
      "Repeat \u001b[1m\u001b[34m#2\n",
      "Repeat \u001b[1m\u001b[34m#3\n"
     ]
    },
    {
     "name": "stderr",
     "output_type": "stream",
     "text": [
      "[I 2023-06-17 17:36:57,781] Trial 848 finished with value: 0.2416538243787428 and parameters: {'bootstrap_type': 'Bayesian', 'grow_policy': 'Depthwise', 'learning_rate': 0.03108031691051664, 'l2_leaf_reg': 0.13556786150320385, 'depth': 4, 'random_strength': 34.32571833220832, 'min_data_in_leaf': 91, 'bagging_temperature': 15.89604216208491}. Best is trial 236 with value: 0.2204946060949904.\n"
     ]
    },
    {
     "name": "stdout",
     "output_type": "stream",
     "text": [
      "Repeat \u001b[1m\u001b[34m#1\n",
      "Repeat \u001b[1m\u001b[34m#2\n",
      "Repeat \u001b[1m\u001b[34m#3\n"
     ]
    },
    {
     "name": "stderr",
     "output_type": "stream",
     "text": [
      "[I 2023-06-17 17:37:02,833] Trial 849 finished with value: 0.25099668897805166 and parameters: {'bootstrap_type': 'Bernoulli', 'grow_policy': 'Depthwise', 'learning_rate': 0.06544797197280529, 'l2_leaf_reg': 0.3482036851499985, 'depth': 4, 'random_strength': 99.84410743853567, 'min_data_in_leaf': 96, 'subsample': 0.7291417387545283}. Best is trial 236 with value: 0.2204946060949904.\n"
     ]
    },
    {
     "name": "stdout",
     "output_type": "stream",
     "text": [
      "Repeat \u001b[1m\u001b[34m#1\n",
      "Repeat \u001b[1m\u001b[34m#2\n",
      "Repeat \u001b[1m\u001b[34m#3\n"
     ]
    },
    {
     "name": "stderr",
     "output_type": "stream",
     "text": [
      "[I 2023-06-17 17:37:14,896] Trial 850 finished with value: 0.23168048924573928 and parameters: {'bootstrap_type': 'Bayesian', 'grow_policy': 'Depthwise', 'learning_rate': 0.04248829345675782, 'l2_leaf_reg': 3.2288686412667946, 'depth': 4, 'random_strength': 78.82420606335623, 'min_data_in_leaf': 99, 'bagging_temperature': 34.26598519933111}. Best is trial 236 with value: 0.2204946060949904.\n"
     ]
    },
    {
     "name": "stdout",
     "output_type": "stream",
     "text": [
      "Repeat \u001b[1m\u001b[34m#1\n",
      "Repeat \u001b[1m\u001b[34m#2\n",
      "Repeat \u001b[1m\u001b[34m#3\n"
     ]
    },
    {
     "name": "stderr",
     "output_type": "stream",
     "text": [
      "[I 2023-06-17 17:37:15,731] Trial 851 finished with value: 0.6932598751907086 and parameters: {'bootstrap_type': 'Bayesian', 'grow_policy': 'Depthwise', 'learning_rate': 0.02215378535087295, 'l2_leaf_reg': 1.6412747742039049, 'depth': 4, 'random_strength': 53.40152089107252, 'min_data_in_leaf': 93, 'bagging_temperature': 95.86787677848692}. Best is trial 236 with value: 0.2204946060949904.\n"
     ]
    },
    {
     "name": "stdout",
     "output_type": "stream",
     "text": [
      "Repeat \u001b[1m\u001b[34m#1\n",
      "Repeat \u001b[1m\u001b[34m#2\n",
      "Repeat \u001b[1m\u001b[34m#3\n"
     ]
    },
    {
     "name": "stderr",
     "output_type": "stream",
     "text": [
      "[I 2023-06-17 17:37:39,794] Trial 852 finished with value: 0.2450243031632 and parameters: {'bootstrap_type': 'Bayesian', 'grow_policy': 'Depthwise', 'learning_rate': 0.012616668711697943, 'l2_leaf_reg': 6.953141320859805, 'depth': 4, 'random_strength': 65.58699955075505, 'min_data_in_leaf': 48, 'bagging_temperature': 2.673210581833608}. Best is trial 236 with value: 0.2204946060949904.\n"
     ]
    },
    {
     "name": "stdout",
     "output_type": "stream",
     "text": [
      "Repeat \u001b[1m\u001b[34m#1\n",
      "Repeat \u001b[1m\u001b[34m#2\n",
      "Repeat \u001b[1m\u001b[34m#3\n"
     ]
    },
    {
     "name": "stderr",
     "output_type": "stream",
     "text": [
      "[I 2023-06-17 17:38:01,308] Trial 853 finished with value: 0.23720347042192658 and parameters: {'bootstrap_type': 'Bayesian', 'grow_policy': 'Lossguide', 'learning_rate': 0.016219672998247815, 'l2_leaf_reg': 0.7733944132719813, 'depth': 4, 'random_strength': 70.319270584608, 'min_data_in_leaf': 95, 'bagging_temperature': 30.179858592581873, 'max_leaves': 6}. Best is trial 236 with value: 0.2204946060949904.\n"
     ]
    },
    {
     "name": "stdout",
     "output_type": "stream",
     "text": [
      "Repeat \u001b[1m\u001b[34m#1\n",
      "Repeat \u001b[1m\u001b[34m#2\n",
      "Repeat \u001b[1m\u001b[34m#3\n"
     ]
    },
    {
     "name": "stderr",
     "output_type": "stream",
     "text": [
      "[I 2023-06-17 17:38:26,106] Trial 854 finished with value: 0.2754314353023147 and parameters: {'bootstrap_type': 'Bayesian', 'grow_policy': 'SymmetricTree', 'learning_rate': 0.10192004536254431, 'l2_leaf_reg': 4.157220515811211, 'depth': 4, 'random_strength': 94.69856512854503, 'min_data_in_leaf': 90, 'bagging_temperature': 36.6671033504229, 'boosting_type': 'Ordered'}. Best is trial 236 with value: 0.2204946060949904.\n"
     ]
    },
    {
     "name": "stdout",
     "output_type": "stream",
     "text": [
      "Repeat \u001b[1m\u001b[34m#1\n",
      "Repeat \u001b[1m\u001b[34m#2\n",
      "Repeat \u001b[1m\u001b[34m#3\n"
     ]
    },
    {
     "name": "stderr",
     "output_type": "stream",
     "text": [
      "[I 2023-06-17 17:38:35,319] Trial 855 finished with value: 0.24964989967623827 and parameters: {'bootstrap_type': 'Bayesian', 'grow_policy': 'Depthwise', 'learning_rate': 0.03570444081681893, 'l2_leaf_reg': 5.088830212611895e-05, 'depth': 5, 'random_strength': 37.239615131639155, 'min_data_in_leaf': 88, 'bagging_temperature': 41.06151775973544}. Best is trial 236 with value: 0.2204946060949904.\n"
     ]
    },
    {
     "name": "stdout",
     "output_type": "stream",
     "text": [
      "Repeat \u001b[1m\u001b[34m#1\n",
      "Repeat \u001b[1m\u001b[34m#2\n",
      "Repeat \u001b[1m\u001b[34m#3\n"
     ]
    },
    {
     "name": "stderr",
     "output_type": "stream",
     "text": [
      "[I 2023-06-17 17:38:38,848] Trial 856 finished with value: 0.28549526951560583 and parameters: {'bootstrap_type': 'Bayesian', 'grow_policy': 'Depthwise', 'learning_rate': 0.1245242417187664, 'l2_leaf_reg': 3.1616153004356184e-05, 'depth': 4, 'random_strength': 58.963614042589256, 'min_data_in_leaf': 97, 'bagging_temperature': 38.73181536237355}. Best is trial 236 with value: 0.2204946060949904.\n"
     ]
    },
    {
     "name": "stdout",
     "output_type": "stream",
     "text": [
      "Repeat \u001b[1m\u001b[34m#1\n",
      "Repeat \u001b[1m\u001b[34m#2\n",
      "Repeat \u001b[1m\u001b[34m#3\n"
     ]
    },
    {
     "name": "stderr",
     "output_type": "stream",
     "text": [
      "[I 2023-06-17 17:38:53,403] Trial 857 finished with value: 0.23012635206327925 and parameters: {'bootstrap_type': 'Bayesian', 'grow_policy': 'Depthwise', 'learning_rate': 0.028041496973707787, 'l2_leaf_reg': 1.0466933081547807, 'depth': 4, 'random_strength': 26.367482998069853, 'min_data_in_leaf': 92, 'bagging_temperature': 28.699949686126804}. Best is trial 236 with value: 0.2204946060949904.\n"
     ]
    },
    {
     "name": "stdout",
     "output_type": "stream",
     "text": [
      "Repeat \u001b[1m\u001b[34m#1\n",
      "Repeat \u001b[1m\u001b[34m#2\n",
      "Repeat \u001b[1m\u001b[34m#3\n"
     ]
    },
    {
     "name": "stderr",
     "output_type": "stream",
     "text": [
      "[I 2023-06-17 17:40:22,054] Trial 858 finished with value: 0.590207962408303 and parameters: {'bootstrap_type': 'Bayesian', 'grow_policy': 'Depthwise', 'learning_rate': 0.0001318990511139945, 'l2_leaf_reg': 2.1208940235374345, 'depth': 8, 'random_strength': 63.21184099321845, 'min_data_in_leaf': 37, 'bagging_temperature': 33.248737366058485}. Best is trial 236 with value: 0.2204946060949904.\n"
     ]
    },
    {
     "name": "stdout",
     "output_type": "stream",
     "text": [
      "Repeat \u001b[1m\u001b[34m#1\n",
      "Repeat \u001b[1m\u001b[34m#2\n",
      "Repeat \u001b[1m\u001b[34m#3\n"
     ]
    },
    {
     "name": "stderr",
     "output_type": "stream",
     "text": [
      "[I 2023-06-17 17:40:26,930] Trial 859 finished with value: 0.24818055178161447 and parameters: {'bootstrap_type': 'MVS', 'grow_policy': 'Depthwise', 'learning_rate': 0.08001617452209735, 'l2_leaf_reg': 13.64578770301409, 'depth': 4, 'random_strength': 56.31938336794487, 'min_data_in_leaf': 94}. Best is trial 236 with value: 0.2204946060949904.\n"
     ]
    },
    {
     "name": "stdout",
     "output_type": "stream",
     "text": [
      "Repeat \u001b[1m\u001b[34m#1\n",
      "Repeat \u001b[1m\u001b[34m#2\n",
      "Repeat \u001b[1m\u001b[34m#3\n"
     ]
    },
    {
     "name": "stderr",
     "output_type": "stream",
     "text": [
      "[I 2023-06-17 17:40:27,798] Trial 860 finished with value: 0.6931430384469506 and parameters: {'bootstrap_type': 'Bayesian', 'grow_policy': 'Depthwise', 'learning_rate': 0.0012553740541664366, 'l2_leaf_reg': 9.949364280991572e-05, 'depth': 4, 'random_strength': 75.45387017563961, 'min_data_in_leaf': 98, 'bagging_temperature': 60.720335040314254}. Best is trial 236 with value: 0.2204946060949904.\n"
     ]
    },
    {
     "name": "stdout",
     "output_type": "stream",
     "text": [
      "Repeat \u001b[1m\u001b[34m#1\n",
      "Repeat \u001b[1m\u001b[34m#2\n",
      "Repeat \u001b[1m\u001b[34m#3\n"
     ]
    },
    {
     "name": "stderr",
     "output_type": "stream",
     "text": [
      "[I 2023-06-17 17:40:28,682] Trial 861 finished with value: 0.6931571811506188 and parameters: {'bootstrap_type': 'Bayesian', 'grow_policy': 'Depthwise', 'learning_rate': 0.0019715817755127235, 'l2_leaf_reg': 21.729700276839807, 'depth': 7, 'random_strength': 90.92802425853263, 'min_data_in_leaf': 91, 'bagging_temperature': 89.37283686525879}. Best is trial 236 with value: 0.2204946060949904.\n"
     ]
    },
    {
     "name": "stdout",
     "output_type": "stream",
     "text": [
      "Repeat \u001b[1m\u001b[34m#1\n",
      "Repeat \u001b[1m\u001b[34m#2\n",
      "Repeat \u001b[1m\u001b[34m#3\n"
     ]
    },
    {
     "name": "stderr",
     "output_type": "stream",
     "text": [
      "[I 2023-06-17 17:40:29,456] Trial 862 finished with value: 0.6931521202446711 and parameters: {'bootstrap_type': 'Bayesian', 'grow_policy': 'Lossguide', 'learning_rate': 0.0009726694187542182, 'l2_leaf_reg': 0.046638672651744074, 'depth': 4, 'random_strength': 46.823124711298085, 'min_data_in_leaf': 100, 'bagging_temperature': 72.44994609812817, 'max_leaves': 86}. Best is trial 236 with value: 0.2204946060949904.\n"
     ]
    },
    {
     "name": "stdout",
     "output_type": "stream",
     "text": [
      "Repeat \u001b[1m\u001b[34m#1\n",
      "Repeat \u001b[1m\u001b[34m#2\n",
      "Repeat \u001b[1m\u001b[34m#3\n"
     ]
    },
    {
     "name": "stderr",
     "output_type": "stream",
     "text": [
      "[I 2023-06-17 17:40:30,268] Trial 863 finished with value: 0.6933961091602131 and parameters: {'bootstrap_type': 'Bayesian', 'grow_policy': 'Depthwise', 'learning_rate': 0.04946118534057064, 'l2_leaf_reg': 7.549982504215899, 'depth': 4, 'random_strength': 67.52022909949831, 'min_data_in_leaf': 95, 'bagging_temperature': 82.34875064918788}. Best is trial 236 with value: 0.2204946060949904.\n"
     ]
    },
    {
     "name": "stdout",
     "output_type": "stream",
     "text": [
      "Repeat \u001b[1m\u001b[34m#1\n",
      "Repeat \u001b[1m\u001b[34m#2\n",
      "Repeat \u001b[1m\u001b[34m#3\n"
     ]
    },
    {
     "name": "stderr",
     "output_type": "stream",
     "text": [
      "[I 2023-06-17 17:40:48,337] Trial 864 finished with value: 0.23420140015757562 and parameters: {'bootstrap_type': 'Bayesian', 'grow_policy': 'Depthwise', 'learning_rate': 0.03416734576784359, 'l2_leaf_reg': 39.29665818187978, 'depth': 4, 'random_strength': 39.60500603650982, 'min_data_in_leaf': 89, 'bagging_temperature': 35.56320331568228}. Best is trial 236 with value: 0.2204946060949904.\n"
     ]
    },
    {
     "name": "stdout",
     "output_type": "stream",
     "text": [
      "Repeat \u001b[1m\u001b[34m#1\n",
      "Repeat \u001b[1m\u001b[34m#2\n",
      "Repeat \u001b[1m\u001b[34m#3\n"
     ]
    },
    {
     "name": "stderr",
     "output_type": "stream",
     "text": [
      "[I 2023-06-17 17:40:51,283] Trial 865 finished with value: 0.2850601119874134 and parameters: {'bootstrap_type': 'Bayesian', 'grow_policy': 'Depthwise', 'learning_rate': 0.17522927308122963, 'l2_leaf_reg': 0.0022459612767339486, 'depth': 4, 'random_strength': 72.32198931092178, 'min_data_in_leaf': 93, 'bagging_temperature': 43.0875469494167}. Best is trial 236 with value: 0.2204946060949904.\n"
     ]
    },
    {
     "name": "stdout",
     "output_type": "stream",
     "text": [
      "Repeat \u001b[1m\u001b[34m#1\n",
      "Repeat \u001b[1m\u001b[34m#2\n",
      "Repeat \u001b[1m\u001b[34m#3\n"
     ]
    },
    {
     "name": "stderr",
     "output_type": "stream",
     "text": [
      "[I 2023-06-17 17:41:29,173] Trial 866 finished with value: 0.5534546901663565 and parameters: {'bootstrap_type': 'Bayesian', 'grow_policy': 'Depthwise', 'learning_rate': 0.0002661262249921122, 'l2_leaf_reg': 1.9045147115389742e-07, 'depth': 4, 'random_strength': 85.86136933482838, 'min_data_in_leaf': 96, 'bagging_temperature': 31.211276734261343}. Best is trial 236 with value: 0.2204946060949904.\n"
     ]
    },
    {
     "name": "stdout",
     "output_type": "stream",
     "text": [
      "Repeat \u001b[1m\u001b[34m#1\n",
      "Repeat \u001b[1m\u001b[34m#2\n",
      "Repeat \u001b[1m\u001b[34m#3\n"
     ]
    },
    {
     "name": "stderr",
     "output_type": "stream",
     "text": [
      "[I 2023-06-17 17:41:39,806] Trial 867 finished with value: 0.4356930725323395 and parameters: {'bootstrap_type': 'Bayesian', 'grow_policy': 'Depthwise', 'learning_rate': 0.02593290986046569, 'l2_leaf_reg': 1.6274200247064137e-06, 'depth': 4, 'random_strength': 68.74930381726003, 'min_data_in_leaf': 93, 'bagging_temperature': 54.12445364778343}. Best is trial 236 with value: 0.2204946060949904.\n"
     ]
    },
    {
     "name": "stdout",
     "output_type": "stream",
     "text": [
      "Repeat \u001b[1m\u001b[34m#1\n",
      "Repeat \u001b[1m\u001b[34m#2\n",
      "Repeat \u001b[1m\u001b[34m#3\n"
     ]
    },
    {
     "name": "stderr",
     "output_type": "stream",
     "text": [
      "[I 2023-06-17 17:42:14,734] Trial 868 finished with value: 0.2587935663790089 and parameters: {'bootstrap_type': 'Bayesian', 'grow_policy': 'Depthwise', 'learning_rate': 0.004211481910100169, 'l2_leaf_reg': 0.0009221468460610647, 'depth': 4, 'random_strength': 48.5693295504383, 'min_data_in_leaf': 86, 'bagging_temperature': 10.306382846820469}. Best is trial 236 with value: 0.2204946060949904.\n"
     ]
    },
    {
     "name": "stdout",
     "output_type": "stream",
     "text": [
      "Repeat \u001b[1m\u001b[34m#1\n",
      "Repeat \u001b[1m\u001b[34m#2\n",
      "Repeat \u001b[1m\u001b[34m#3\n"
     ]
    },
    {
     "name": "stderr",
     "output_type": "stream",
     "text": [
      "[I 2023-06-17 17:42:23,529] Trial 869 finished with value: 0.22768009457197266 and parameters: {'bootstrap_type': 'Bayesian', 'grow_policy': 'Depthwise', 'learning_rate': 0.06195328050927204, 'l2_leaf_reg': 2.82536150521051, 'depth': 4, 'random_strength': 81.58729350993775, 'min_data_in_leaf': 97, 'bagging_temperature': 37.94456997505098}. Best is trial 236 with value: 0.2204946060949904.\n"
     ]
    },
    {
     "name": "stdout",
     "output_type": "stream",
     "text": [
      "Repeat \u001b[1m\u001b[34m#1\n",
      "Repeat \u001b[1m\u001b[34m#2\n",
      "Repeat \u001b[1m\u001b[34m#3\n"
     ]
    },
    {
     "name": "stderr",
     "output_type": "stream",
     "text": [
      "[I 2023-06-17 17:42:56,831] Trial 870 finished with value: 0.6304640567584546 and parameters: {'bootstrap_type': 'Bernoulli', 'grow_policy': 'Depthwise', 'learning_rate': 0.00016606812493568342, 'l2_leaf_reg': 0.49147352893765667, 'depth': 4, 'random_strength': 13.513598432327036, 'min_data_in_leaf': 91, 'subsample': 0.661943449537895}. Best is trial 236 with value: 0.2204946060949904.\n"
     ]
    },
    {
     "name": "stdout",
     "output_type": "stream",
     "text": [
      "Repeat \u001b[1m\u001b[34m#1\n",
      "Repeat \u001b[1m\u001b[34m#2\n",
      "Repeat \u001b[1m\u001b[34m#3\n"
     ]
    },
    {
     "name": "stderr",
     "output_type": "stream",
     "text": [
      "[I 2023-06-17 17:43:03,655] Trial 871 finished with value: 0.27317775191585875 and parameters: {'bootstrap_type': 'Bayesian', 'grow_policy': 'SymmetricTree', 'learning_rate': 0.04113886553120476, 'l2_leaf_reg': 0.23695347216332613, 'depth': 4, 'random_strength': 62.20724281777093, 'min_data_in_leaf': 98, 'bagging_temperature': 33.441897491634805, 'boosting_type': 'Plain'}. Best is trial 236 with value: 0.2204946060949904.\n"
     ]
    },
    {
     "name": "stdout",
     "output_type": "stream",
     "text": [
      "Repeat \u001b[1m\u001b[34m#1\n",
      "Repeat \u001b[1m\u001b[34m#2\n",
      "Repeat \u001b[1m\u001b[34m#3\n"
     ]
    },
    {
     "name": "stderr",
     "output_type": "stream",
     "text": [
      "[I 2023-06-17 17:43:17,806] Trial 872 finished with value: 0.23917429238183963 and parameters: {'bootstrap_type': 'Bayesian', 'grow_policy': 'Lossguide', 'learning_rate': 0.02068459620805349, 'l2_leaf_reg': 0.009049519674351216, 'depth': 4, 'random_strength': 66.10401178410176, 'min_data_in_leaf': 95, 'bagging_temperature': 27.951356915255232, 'max_leaves': 93}. Best is trial 236 with value: 0.2204946060949904.\n"
     ]
    },
    {
     "name": "stdout",
     "output_type": "stream",
     "text": [
      "Repeat \u001b[1m\u001b[34m#1\n",
      "Repeat \u001b[1m\u001b[34m#2\n",
      "Repeat \u001b[1m\u001b[34m#3\n"
     ]
    },
    {
     "name": "stderr",
     "output_type": "stream",
     "text": [
      "[I 2023-06-17 17:43:24,399] Trial 873 finished with value: 0.23214615430655847 and parameters: {'bootstrap_type': 'Bayesian', 'grow_policy': 'Depthwise', 'learning_rate': 0.092248586306883, 'l2_leaf_reg': 1.5911109042444493, 'depth': 4, 'random_strength': 70.10478929630527, 'min_data_in_leaf': 88, 'bagging_temperature': 40.8558519435626}. Best is trial 236 with value: 0.2204946060949904.\n"
     ]
    },
    {
     "name": "stdout",
     "output_type": "stream",
     "text": [
      "Repeat \u001b[1m\u001b[34m#1\n",
      "Repeat \u001b[1m\u001b[34m#2\n",
      "Repeat \u001b[1m\u001b[34m#3\n"
     ]
    },
    {
     "name": "stderr",
     "output_type": "stream",
     "text": [
      "[I 2023-06-17 17:43:48,342] Trial 874 finished with value: 0.38598034251114194 and parameters: {'bootstrap_type': 'Bayesian', 'grow_policy': 'Depthwise', 'learning_rate': 0.0037719053918694578, 'l2_leaf_reg': 5.386949028121332, 'depth': 4, 'random_strength': 36.06869962946661, 'min_data_in_leaf': 71, 'bagging_temperature': 49.32580106599033}. Best is trial 236 with value: 0.2204946060949904.\n"
     ]
    },
    {
     "name": "stdout",
     "output_type": "stream",
     "text": [
      "Repeat \u001b[1m\u001b[34m#1\n",
      "Repeat \u001b[1m\u001b[34m#2\n",
      "Repeat \u001b[1m\u001b[34m#3\n"
     ]
    },
    {
     "name": "stderr",
     "output_type": "stream",
     "text": [
      "[I 2023-06-17 17:44:26,925] Trial 875 finished with value: 0.6143283315165166 and parameters: {'bootstrap_type': 'Bayesian', 'grow_policy': 'Depthwise', 'learning_rate': 0.0001469761195639586, 'l2_leaf_reg': 0.8653131677366203, 'depth': 4, 'random_strength': 79.77550215713869, 'min_data_in_leaf': 93, 'bagging_temperature': 35.95922223554706}. Best is trial 236 with value: 0.2204946060949904.\n"
     ]
    },
    {
     "name": "stdout",
     "output_type": "stream",
     "text": [
      "Repeat \u001b[1m\u001b[34m#1\n",
      "Repeat \u001b[1m\u001b[34m#2\n",
      "Repeat \u001b[1m\u001b[34m#3\n"
     ]
    },
    {
     "name": "stderr",
     "output_type": "stream",
     "text": [
      "[I 2023-06-17 17:44:27,794] Trial 876 finished with value: 0.6925011868035503 and parameters: {'bootstrap_type': 'Bayesian', 'grow_policy': 'Depthwise', 'learning_rate': 0.029896274587748586, 'l2_leaf_reg': 10.468309402386314, 'depth': 4, 'random_strength': 25.158597476950785, 'min_data_in_leaf': 100, 'bagging_temperature': 58.361152115766295}. Best is trial 236 with value: 0.2204946060949904.\n"
     ]
    },
    {
     "name": "stdout",
     "output_type": "stream",
     "text": [
      "Repeat \u001b[1m\u001b[34m#1\n",
      "Repeat \u001b[1m\u001b[34m#2\n",
      "Repeat \u001b[1m\u001b[34m#3\n"
     ]
    },
    {
     "name": "stderr",
     "output_type": "stream",
     "text": [
      "[I 2023-06-17 17:44:39,752] Trial 877 finished with value: 0.2534295304681637 and parameters: {'bootstrap_type': 'Bayesian', 'grow_policy': 'Depthwise', 'learning_rate': 0.023290217930560235, 'l2_leaf_reg': 0.0015342704290645874, 'depth': 4, 'random_strength': 73.8289278319673, 'min_data_in_leaf': 90, 'bagging_temperature': 38.93286938117359}. Best is trial 236 with value: 0.2204946060949904.\n"
     ]
    },
    {
     "name": "stdout",
     "output_type": "stream",
     "text": [
      "Repeat \u001b[1m\u001b[34m#1\n",
      "Repeat \u001b[1m\u001b[34m#2\n",
      "Repeat \u001b[1m\u001b[34m#3\n"
     ]
    },
    {
     "name": "stderr",
     "output_type": "stream",
     "text": [
      "[I 2023-06-17 17:44:46,440] Trial 878 finished with value: 0.2399955313770394 and parameters: {'bootstrap_type': 'Bayesian', 'grow_policy': 'Depthwise', 'learning_rate': 0.06825697566914783, 'l2_leaf_reg': 0.003997699097216533, 'depth': 4, 'random_strength': 76.71308552906493, 'min_data_in_leaf': 95, 'bagging_temperature': 30.90030847788746}. Best is trial 236 with value: 0.2204946060949904.\n"
     ]
    },
    {
     "name": "stdout",
     "output_type": "stream",
     "text": [
      "Repeat \u001b[1m\u001b[34m#1\n",
      "Repeat \u001b[1m\u001b[34m#2\n",
      "Repeat \u001b[1m\u001b[34m#3\n"
     ]
    },
    {
     "name": "stderr",
     "output_type": "stream",
     "text": [
      "[I 2023-06-17 17:44:56,687] Trial 879 finished with value: 0.2354174028705046 and parameters: {'bootstrap_type': 'Bayesian', 'grow_policy': 'Depthwise', 'learning_rate': 0.03631224589544827, 'l2_leaf_reg': 0.023924092359569663, 'depth': 4, 'random_strength': 60.680680083540764, 'min_data_in_leaf': 92, 'bagging_temperature': 26.3956441748185}. Best is trial 236 with value: 0.2204946060949904.\n"
     ]
    },
    {
     "name": "stdout",
     "output_type": "stream",
     "text": [
      "Repeat \u001b[1m\u001b[34m#1\n",
      "Repeat \u001b[1m\u001b[34m#2\n",
      "Repeat \u001b[1m\u001b[34m#3\n"
     ]
    },
    {
     "name": "stderr",
     "output_type": "stream",
     "text": [
      "[I 2023-06-17 17:45:26,817] Trial 880 finished with value: 0.24383352918173284 and parameters: {'bootstrap_type': 'MVS', 'grow_policy': 'Lossguide', 'learning_rate': 0.008574345284639209, 'l2_leaf_reg': 67.31492941083015, 'depth': 4, 'random_strength': 84.02171190695705, 'min_data_in_leaf': 78, 'max_leaves': 52}. Best is trial 236 with value: 0.2204946060949904.\n"
     ]
    },
    {
     "name": "stdout",
     "output_type": "stream",
     "text": [
      "Repeat \u001b[1m\u001b[34m#1\n",
      "Repeat \u001b[1m\u001b[34m#2\n",
      "Repeat \u001b[1m\u001b[34m#3\n"
     ]
    },
    {
     "name": "stderr",
     "output_type": "stream",
     "text": [
      "[I 2023-06-17 17:46:05,870] Trial 881 finished with value: 0.5183106362431892 and parameters: {'bootstrap_type': 'Bayesian', 'grow_policy': 'Depthwise', 'learning_rate': 0.0004191269037846626, 'l2_leaf_reg': 3.555071035999034, 'depth': 4, 'random_strength': 64.55513986076429, 'min_data_in_leaf': 96, 'bagging_temperature': 34.14797015669982}. Best is trial 236 with value: 0.2204946060949904.\n"
     ]
    },
    {
     "name": "stdout",
     "output_type": "stream",
     "text": [
      "Repeat \u001b[1m\u001b[34m#1\n",
      "Repeat \u001b[1m\u001b[34m#2\n",
      "Repeat \u001b[1m\u001b[34m#3\n"
     ]
    },
    {
     "name": "stderr",
     "output_type": "stream",
     "text": [
      "[I 2023-06-17 17:46:06,726] Trial 882 finished with value: 0.6931490205757109 and parameters: {'bootstrap_type': 'Bayesian', 'grow_policy': 'Depthwise', 'learning_rate': 0.00036538714085496463, 'l2_leaf_reg': 1.5225895607204787, 'depth': 6, 'random_strength': 67.48039902336188, 'min_data_in_leaf': 94, 'bagging_temperature': 64.20907076631428}. Best is trial 236 with value: 0.2204946060949904.\n"
     ]
    },
    {
     "name": "stdout",
     "output_type": "stream",
     "text": [
      "Repeat \u001b[1m\u001b[34m#1\n",
      "Repeat \u001b[1m\u001b[34m#2\n",
      "Repeat \u001b[1m\u001b[34m#3\n"
     ]
    },
    {
     "name": "stderr",
     "output_type": "stream",
     "text": [
      "[I 2023-06-17 17:46:37,487] Trial 883 finished with value: 0.3986277375714687 and parameters: {'bootstrap_type': 'Bayesian', 'grow_policy': 'Depthwise', 'learning_rate': 0.0014474479409527395, 'l2_leaf_reg': 3.7537174598901153e-08, 'depth': 4, 'random_strength': 54.92594104386846, 'min_data_in_leaf': 98, 'bagging_temperature': 45.16816256147999}. Best is trial 236 with value: 0.2204946060949904.\n"
     ]
    },
    {
     "name": "stdout",
     "output_type": "stream",
     "text": [
      "Repeat \u001b[1m\u001b[34m#1\n",
      "Repeat \u001b[1m\u001b[34m#2\n",
      "Repeat \u001b[1m\u001b[34m#3\n"
     ]
    },
    {
     "name": "stderr",
     "output_type": "stream",
     "text": [
      "[I 2023-06-17 17:46:53,871] Trial 884 finished with value: 0.23043573097715134 and parameters: {'bootstrap_type': 'Bayesian', 'grow_policy': 'Depthwise', 'learning_rate': 0.04589770337565917, 'l2_leaf_reg': 26.4973341862271, 'depth': 5, 'random_strength': 31.416818267714888, 'min_data_in_leaf': 90, 'bagging_temperature': 36.4076889532962}. Best is trial 236 with value: 0.2204946060949904.\n"
     ]
    },
    {
     "name": "stdout",
     "output_type": "stream",
     "text": [
      "Repeat \u001b[1m\u001b[34m#1\n",
      "Repeat \u001b[1m\u001b[34m#2\n",
      "Repeat \u001b[1m\u001b[34m#3\n"
     ]
    },
    {
     "name": "stderr",
     "output_type": "stream",
     "text": [
      "[I 2023-06-17 17:47:15,326] Trial 885 finished with value: 0.23439767522817845 and parameters: {'bootstrap_type': 'Bayesian', 'grow_policy': 'Depthwise', 'learning_rate': 0.014883332386920906, 'l2_leaf_reg': 0.37125210592946767, 'depth': 4, 'random_strength': 40.924094354911006, 'min_data_in_leaf': 92, 'bagging_temperature': 32.61052040451337}. Best is trial 236 with value: 0.2204946060949904.\n"
     ]
    },
    {
     "name": "stdout",
     "output_type": "stream",
     "text": [
      "Repeat \u001b[1m\u001b[34m#1\n",
      "Repeat \u001b[1m\u001b[34m#2\n",
      "Repeat \u001b[1m\u001b[34m#3\n"
     ]
    },
    {
     "name": "stderr",
     "output_type": "stream",
     "text": [
      "[I 2023-06-17 17:47:25,029] Trial 886 finished with value: 0.2619437043019741 and parameters: {'bootstrap_type': 'Bayesian', 'grow_policy': 'Depthwise', 'learning_rate': 0.030869582383911843, 'l2_leaf_reg': 0.0007276329712439964, 'depth': 4, 'random_strength': 87.87919027538592, 'min_data_in_leaf': 51, 'bagging_temperature': 39.94124575492671}. Best is trial 236 with value: 0.2204946060949904.\n"
     ]
    },
    {
     "name": "stdout",
     "output_type": "stream",
     "text": [
      "Repeat \u001b[1m\u001b[34m#1\n",
      "Repeat \u001b[1m\u001b[34m#2\n",
      "Repeat \u001b[1m\u001b[34m#3\n"
     ]
    },
    {
     "name": "stderr",
     "output_type": "stream",
     "text": [
      "[I 2023-06-17 17:47:55,948] Trial 887 finished with value: 0.23831967672769408 and parameters: {'bootstrap_type': 'Bayesian', 'grow_policy': 'Depthwise', 'learning_rate': 0.010830687044819366, 'l2_leaf_reg': 17.001336383460995, 'depth': 4, 'random_strength': 70.46044202239464, 'min_data_in_leaf': 97, 'bagging_temperature': 42.06181733414331}. Best is trial 236 with value: 0.2204946060949904.\n"
     ]
    },
    {
     "name": "stdout",
     "output_type": "stream",
     "text": [
      "Repeat \u001b[1m\u001b[34m#1\n",
      "Repeat \u001b[1m\u001b[34m#2\n",
      "Repeat \u001b[1m\u001b[34m#3\n"
     ]
    },
    {
     "name": "stderr",
     "output_type": "stream",
     "text": [
      "[I 2023-06-17 17:48:01,903] Trial 888 finished with value: 0.2394272325274193 and parameters: {'bootstrap_type': 'Bayesian', 'grow_policy': 'Lossguide', 'learning_rate': 0.11746768948226394, 'l2_leaf_reg': 2.1352195508238463, 'depth': 4, 'random_strength': 59.00041553939764, 'min_data_in_leaf': 88, 'bagging_temperature': 37.51881573326644, 'max_leaves': 102}. Best is trial 236 with value: 0.2204946060949904.\n"
     ]
    },
    {
     "name": "stdout",
     "output_type": "stream",
     "text": [
      "Repeat \u001b[1m\u001b[34m#1\n",
      "Repeat \u001b[1m\u001b[34m#2\n",
      "Repeat \u001b[1m\u001b[34m#3\n"
     ]
    },
    {
     "name": "stderr",
     "output_type": "stream",
     "text": [
      "[I 2023-06-17 17:48:13,686] Trial 889 finished with value: 0.23987633741937575 and parameters: {'bootstrap_type': 'Bayesian', 'grow_policy': 'Depthwise', 'learning_rate': 0.024484908740351145, 'l2_leaf_reg': 2.6555710439151547e-08, 'depth': 4, 'random_strength': 62.877803313372205, 'min_data_in_leaf': 94, 'bagging_temperature': 29.65078195919235}. Best is trial 236 with value: 0.2204946060949904.\n"
     ]
    },
    {
     "name": "stdout",
     "output_type": "stream",
     "text": [
      "Repeat \u001b[1m\u001b[34m#1\n",
      "Repeat \u001b[1m\u001b[34m#2\n",
      "Repeat \u001b[1m\u001b[34m#3\n"
     ]
    },
    {
     "name": "stderr",
     "output_type": "stream",
     "text": [
      "[I 2023-06-17 17:48:35,404] Trial 890 finished with value: 0.22927265736859836 and parameters: {'bootstrap_type': 'Bayesian', 'grow_policy': 'Depthwise', 'learning_rate': 0.018518232475158172, 'l2_leaf_reg': 4.84859230244398, 'depth': 4, 'random_strength': 34.15557001152113, 'min_data_in_leaf': 99, 'bagging_temperature': 34.78672367136371}. Best is trial 236 with value: 0.2204946060949904.\n"
     ]
    },
    {
     "name": "stdout",
     "output_type": "stream",
     "text": [
      "Repeat \u001b[1m\u001b[34m#1\n",
      "Repeat \u001b[1m\u001b[34m#2\n",
      "Repeat \u001b[1m\u001b[34m#3\n"
     ]
    },
    {
     "name": "stderr",
     "output_type": "stream",
     "text": [
      "[I 2023-06-17 17:48:40,825] Trial 891 finished with value: 0.2517257198425057 and parameters: {'bootstrap_type': 'Bayesian', 'grow_policy': 'Depthwise', 'learning_rate': 0.14898899148185488, 'l2_leaf_reg': 1.14492327166077, 'depth': 4, 'random_strength': 44.39169642793326, 'min_data_in_leaf': 96, 'bagging_temperature': 50.26339569930107}. Best is trial 236 with value: 0.2204946060949904.\n"
     ]
    },
    {
     "name": "stdout",
     "output_type": "stream",
     "text": [
      "Repeat \u001b[1m\u001b[34m#1\n",
      "Repeat \u001b[1m\u001b[34m#2\n",
      "Repeat \u001b[1m\u001b[34m#3\n"
     ]
    },
    {
     "name": "stderr",
     "output_type": "stream",
     "text": [
      "[I 2023-06-17 17:48:53,191] Trial 892 finished with value: 0.2352545666082423 and parameters: {'bootstrap_type': 'Bayesian', 'grow_policy': 'Depthwise', 'learning_rate': 0.03941146299355822, 'l2_leaf_reg': 9.072433294796715, 'depth': 4, 'random_strength': 72.62615884721217, 'min_data_in_leaf': 92, 'bagging_temperature': 31.72858856788465}. Best is trial 236 with value: 0.2204946060949904.\n"
     ]
    },
    {
     "name": "stdout",
     "output_type": "stream",
     "text": [
      "Repeat \u001b[1m\u001b[34m#1\n",
      "Repeat \u001b[1m\u001b[34m#2\n",
      "Repeat \u001b[1m\u001b[34m#3\n"
     ]
    },
    {
     "name": "stderr",
     "output_type": "stream",
     "text": [
      "[I 2023-06-17 17:49:21,467] Trial 893 finished with value: 0.28129284889298806 and parameters: {'bootstrap_type': 'Bayesian', 'grow_policy': 'SymmetricTree', 'learning_rate': 0.055999976717444916, 'l2_leaf_reg': 0.5976131246867994, 'depth': 4, 'random_strength': 65.72191403207133, 'min_data_in_leaf': 85, 'bagging_temperature': 22.12930289977775, 'boosting_type': 'Ordered'}. Best is trial 236 with value: 0.2204946060949904.\n"
     ]
    },
    {
     "name": "stdout",
     "output_type": "stream",
     "text": [
      "Repeat \u001b[1m\u001b[34m#1\n",
      "Repeat \u001b[1m\u001b[34m#2\n",
      "Repeat \u001b[1m\u001b[34m#3\n"
     ]
    },
    {
     "name": "stderr",
     "output_type": "stream",
     "text": [
      "[I 2023-06-17 17:49:46,135] Trial 894 finished with value: 0.26529653056757 and parameters: {'bootstrap_type': 'Bernoulli', 'grow_policy': 'Depthwise', 'learning_rate': 0.005562017512030353, 'l2_leaf_reg': 0.04640406641500821, 'depth': 4, 'random_strength': 28.384907075606886, 'min_data_in_leaf': 94, 'subsample': 0.43004844196451}. Best is trial 236 with value: 0.2204946060949904.\n"
     ]
    },
    {
     "name": "stdout",
     "output_type": "stream",
     "text": [
      "Repeat \u001b[1m\u001b[34m#1\n",
      "Repeat \u001b[1m\u001b[34m#2\n",
      "Repeat \u001b[1m\u001b[34m#3\n"
     ]
    },
    {
     "name": "stderr",
     "output_type": "stream",
     "text": [
      "[I 2023-06-17 17:49:52,657] Trial 895 finished with value: 0.24543834665367825 and parameters: {'bootstrap_type': 'Bayesian', 'grow_policy': 'Depthwise', 'learning_rate': 0.08878471144540047, 'l2_leaf_reg': 0.10095290794468371, 'depth': 4, 'random_strength': 68.5626471396243, 'min_data_in_leaf': 90, 'bagging_temperature': 36.996448194123595}. Best is trial 236 with value: 0.2204946060949904.\n"
     ]
    },
    {
     "name": "stdout",
     "output_type": "stream",
     "text": [
      "Repeat \u001b[1m\u001b[34m#1\n",
      "Repeat \u001b[1m\u001b[34m#2\n",
      "Repeat \u001b[1m\u001b[34m#3\n"
     ]
    },
    {
     "name": "stderr",
     "output_type": "stream",
     "text": [
      "[I 2023-06-17 17:50:41,472] Trial 896 finished with value: 0.46717621309904506 and parameters: {'bootstrap_type': 'Bayesian', 'grow_policy': 'Depthwise', 'learning_rate': 0.0005328130780257541, 'l2_leaf_reg': 2.739739661200417, 'depth': 9, 'random_strength': 37.368723316565955, 'min_data_in_leaf': 98, 'bagging_temperature': 34.51980148664719}. Best is trial 236 with value: 0.2204946060949904.\n"
     ]
    },
    {
     "name": "stdout",
     "output_type": "stream",
     "text": [
      "Repeat \u001b[1m\u001b[34m#1\n",
      "Repeat \u001b[1m\u001b[34m#2\n",
      "Repeat \u001b[1m\u001b[34m#3\n"
     ]
    },
    {
     "name": "stderr",
     "output_type": "stream",
     "text": [
      "[I 2023-06-17 17:50:42,308] Trial 897 finished with value: 0.6932910476790722 and parameters: {'bootstrap_type': 'Bayesian', 'grow_policy': 'Depthwise', 'learning_rate': 0.028282217736865622, 'l2_leaf_reg': 13.098321344859013, 'depth': 4, 'random_strength': 74.96476527782029, 'min_data_in_leaf': 96, 'bagging_temperature': 83.0901976141192}. Best is trial 236 with value: 0.2204946060949904.\n"
     ]
    },
    {
     "name": "stdout",
     "output_type": "stream",
     "text": [
      "Repeat \u001b[1m\u001b[34m#1\n",
      "Repeat \u001b[1m\u001b[34m#2\n",
      "Repeat \u001b[1m\u001b[34m#3\n"
     ]
    },
    {
     "name": "stderr",
     "output_type": "stream",
     "text": [
      "[I 2023-06-17 17:50:43,138] Trial 898 finished with value: 0.6931561319426995 and parameters: {'bootstrap_type': 'Bayesian', 'grow_policy': 'Lossguide', 'learning_rate': 0.001765235602390036, 'l2_leaf_reg': 43.37799837324898, 'depth': 4, 'random_strength': 97.42136950487001, 'min_data_in_leaf': 92, 'bagging_temperature': 91.20629108661976, 'max_leaves': 23}. Best is trial 236 with value: 0.2204946060949904.\n"
     ]
    },
    {
     "name": "stdout",
     "output_type": "stream",
     "text": [
      "Repeat \u001b[1m\u001b[34m#1\n",
      "Repeat \u001b[1m\u001b[34m#2\n",
      "Repeat \u001b[1m\u001b[34m#3\n"
     ]
    },
    {
     "name": "stderr",
     "output_type": "stream",
     "text": [
      "[I 2023-06-17 17:50:43,989] Trial 899 finished with value: 0.6930980320086005 and parameters: {'bootstrap_type': 'Bayesian', 'grow_policy': 'Depthwise', 'learning_rate': 0.0009220073485858073, 'l2_leaf_reg': 0.20645822118729967, 'depth': 4, 'random_strength': 57.32291594090842, 'min_data_in_leaf': 100, 'bagging_temperature': 59.03308376051625}. Best is trial 236 with value: 0.2204946060949904.\n"
     ]
    },
    {
     "name": "stdout",
     "output_type": "stream",
     "text": [
      "Repeat \u001b[1m\u001b[34m#1\n",
      "Repeat \u001b[1m\u001b[34m#2\n",
      "Repeat \u001b[1m\u001b[34m#3\n"
     ]
    },
    {
     "name": "stderr",
     "output_type": "stream",
     "text": [
      "[I 2023-06-17 17:50:44,834] Trial 900 finished with value: 0.6931488593098477 and parameters: {'bootstrap_type': 'Bayesian', 'grow_policy': 'Depthwise', 'learning_rate': 0.0003321826364275395, 'l2_leaf_reg': 4.161017913228273, 'depth': 4, 'random_strength': 71.32649140793974, 'min_data_in_leaf': 87, 'bagging_temperature': 73.97223333957503}. Best is trial 236 with value: 0.2204946060949904.\n"
     ]
    },
    {
     "name": "stdout",
     "output_type": "stream",
     "text": [
      "Repeat \u001b[1m\u001b[34m#1\n",
      "Repeat \u001b[1m\u001b[34m#2\n",
      "Repeat \u001b[1m\u001b[34m#3\n"
     ]
    },
    {
     "name": "stderr",
     "output_type": "stream",
     "text": [
      "[I 2023-06-17 17:50:48,079] Trial 901 finished with value: 0.25946592676752794 and parameters: {'bootstrap_type': 'Bayesian', 'grow_policy': 'Depthwise', 'learning_rate': 0.26147309850004247, 'l2_leaf_reg': 0.9721791366327442, 'depth': 4, 'random_strength': 64.793847130027, 'min_data_in_leaf': 94, 'bagging_temperature': 13.591134448617252}. Best is trial 236 with value: 0.2204946060949904.\n"
     ]
    },
    {
     "name": "stdout",
     "output_type": "stream",
     "text": [
      "Repeat \u001b[1m\u001b[34m#1\n",
      "Repeat \u001b[1m\u001b[34m#2\n",
      "Repeat \u001b[1m\u001b[34m#3\n"
     ]
    },
    {
     "name": "stderr",
     "output_type": "stream",
     "text": [
      "[I 2023-06-17 17:50:55,222] Trial 902 finished with value: 0.25302387920040476 and parameters: {'bootstrap_type': 'MVS', 'grow_policy': 'Depthwise', 'learning_rate': 0.03347204939086102, 'l2_leaf_reg': 0.007214784882152794, 'depth': 4, 'random_strength': 61.0841610650716, 'min_data_in_leaf': 90}. Best is trial 236 with value: 0.2204946060949904.\n"
     ]
    },
    {
     "name": "stdout",
     "output_type": "stream",
     "text": [
      "Repeat \u001b[1m\u001b[34m#1\n",
      "Repeat \u001b[1m\u001b[34m#2\n",
      "Repeat \u001b[1m\u001b[34m#3\n"
     ]
    },
    {
     "name": "stderr",
     "output_type": "stream",
     "text": [
      "[I 2023-06-17 17:50:59,722] Trial 903 finished with value: 0.2786033779617937 and parameters: {'bootstrap_type': 'Bayesian', 'grow_policy': 'Depthwise', 'learning_rate': 0.10579564773721609, 'l2_leaf_reg': 0.00047536145373250273, 'depth': 5, 'random_strength': 81.28861877087323, 'min_data_in_leaf': 96, 'bagging_temperature': 24.685713129248565}. Best is trial 236 with value: 0.2204946060949904.\n"
     ]
    },
    {
     "name": "stdout",
     "output_type": "stream",
     "text": [
      "Repeat \u001b[1m\u001b[34m#1\n",
      "Repeat \u001b[1m\u001b[34m#2\n",
      "Repeat \u001b[1m\u001b[34m#3\n"
     ]
    },
    {
     "name": "stderr",
     "output_type": "stream",
     "text": [
      "[I 2023-06-17 17:51:00,601] Trial 904 finished with value: 0.6931477655976069 and parameters: {'bootstrap_type': 'Bayesian', 'grow_policy': 'Depthwise', 'learning_rate': 0.00011530217375619028, 'l2_leaf_reg': 6.823028326146281, 'depth': 4, 'random_strength': 77.94478739711482, 'min_data_in_leaf': 93, 'bagging_temperature': 86.90771934215496}. Best is trial 236 with value: 0.2204946060949904.\n"
     ]
    },
    {
     "name": "stdout",
     "output_type": "stream",
     "text": [
      "Repeat \u001b[1m\u001b[34m#1\n",
      "Repeat \u001b[1m\u001b[34m#2\n",
      "Repeat \u001b[1m\u001b[34m#3\n"
     ]
    },
    {
     "name": "stderr",
     "output_type": "stream",
     "text": [
      "[I 2023-06-17 17:51:01,473] Trial 905 finished with value: 0.6931642409388501 and parameters: {'bootstrap_type': 'Bayesian', 'grow_policy': 'Depthwise', 'learning_rate': 0.0033761404093337476, 'l2_leaf_reg': 99.46408156951546, 'depth': 4, 'random_strength': 41.95943698340364, 'min_data_in_leaf': 98, 'bagging_temperature': 76.0264867309969}. Best is trial 236 with value: 0.2204946060949904.\n"
     ]
    },
    {
     "name": "stdout",
     "output_type": "stream",
     "text": [
      "Repeat \u001b[1m\u001b[34m#1\n",
      "Repeat \u001b[1m\u001b[34m#2\n",
      "Repeat \u001b[1m\u001b[34m#3\n"
     ]
    },
    {
     "name": "stderr",
     "output_type": "stream",
     "text": [
      "[I 2023-06-17 17:51:06,420] Trial 906 finished with value: 0.27965638981452773 and parameters: {'bootstrap_type': 'Bayesian', 'grow_policy': 'Lossguide', 'learning_rate': 0.0729864286582162, 'l2_leaf_reg': 3.6519220084164572e-06, 'depth': 4, 'random_strength': 67.22244843346964, 'min_data_in_leaf': 95, 'bagging_temperature': 38.920473506814645, 'max_leaves': 89}. Best is trial 236 with value: 0.2204946060949904.\n"
     ]
    },
    {
     "name": "stdout",
     "output_type": "stream",
     "text": [
      "Repeat \u001b[1m\u001b[34m#1\n",
      "Repeat \u001b[1m\u001b[34m#2\n",
      "Repeat \u001b[1m\u001b[34m#3\n"
     ]
    },
    {
     "name": "stderr",
     "output_type": "stream",
     "text": [
      "[I 2023-06-17 17:51:22,367] Trial 907 finished with value: 0.22678487704995434 and parameters: {'bootstrap_type': 'Bayesian', 'grow_policy': 'Depthwise', 'learning_rate': 0.025749745625359092, 'l2_leaf_reg': 2.046753104882303, 'depth': 4, 'random_strength': 63.11393311352689, 'min_data_in_leaf': 92, 'bagging_temperature': 27.914823919363855}. Best is trial 236 with value: 0.2204946060949904.\n"
     ]
    },
    {
     "name": "stdout",
     "output_type": "stream",
     "text": [
      "Repeat \u001b[1m\u001b[34m#1\n",
      "Repeat \u001b[1m\u001b[34m#2\n",
      "Repeat \u001b[1m\u001b[34m#3\n"
     ]
    },
    {
     "name": "stderr",
     "output_type": "stream",
     "text": [
      "[I 2023-06-17 17:51:23,307] Trial 908 finished with value: 0.6930511265819653 and parameters: {'bootstrap_type': 'Bayesian', 'grow_policy': 'Depthwise', 'learning_rate': 0.002299919864985592, 'l2_leaf_reg': 22.6688885395399, 'depth': 4, 'random_strength': 90.30550422738592, 'min_data_in_leaf': 90, 'bagging_temperature': 59.40632811567845}. Best is trial 236 with value: 0.2204946060949904.\n"
     ]
    },
    {
     "name": "stdout",
     "output_type": "stream",
     "text": [
      "Repeat \u001b[1m\u001b[34m#1\n",
      "Repeat \u001b[1m\u001b[34m#2\n",
      "Repeat \u001b[1m\u001b[34m#3\n"
     ]
    },
    {
     "name": "stderr",
     "output_type": "stream",
     "text": [
      "[I 2023-06-17 17:51:24,110] Trial 909 finished with value: 0.693403436598872 and parameters: {'bootstrap_type': 'Bayesian', 'grow_policy': 'Depthwise', 'learning_rate': 0.05016169051448001, 'l2_leaf_reg': 0.16223191357063488, 'depth': 4, 'random_strength': 39.52082372559384, 'min_data_in_leaf': 97, 'bagging_temperature': 66.79003338744094}. Best is trial 236 with value: 0.2204946060949904.\n"
     ]
    },
    {
     "name": "stdout",
     "output_type": "stream",
     "text": [
      "Repeat \u001b[1m\u001b[34m#1\n",
      "Repeat \u001b[1m\u001b[34m#2\n",
      "Repeat \u001b[1m\u001b[34m#3\n"
     ]
    },
    {
     "name": "stderr",
     "output_type": "stream",
     "text": [
      "[I 2023-06-17 17:51:50,155] Trial 910 finished with value: 0.2458175128868023 and parameters: {'bootstrap_type': 'Bayesian', 'grow_policy': 'Depthwise', 'learning_rate': 0.0089824150917681, 'l2_leaf_reg': 0.0173922970413732, 'depth': 4, 'random_strength': 0.3528680507189037, 'min_data_in_leaf': 88, 'bagging_temperature': 43.010870287544286}. Best is trial 236 with value: 0.2204946060949904.\n"
     ]
    },
    {
     "name": "stdout",
     "output_type": "stream",
     "text": [
      "Repeat \u001b[1m\u001b[34m#1\n",
      "Repeat \u001b[1m\u001b[34m#2\n",
      "Repeat \u001b[1m\u001b[34m#3\n"
     ]
    },
    {
     "name": "stderr",
     "output_type": "stream",
     "text": [
      "[I 2023-06-17 17:51:59,217] Trial 911 finished with value: 0.24204221750122348 and parameters: {'bootstrap_type': 'Bayesian', 'grow_policy': 'Depthwise', 'learning_rate': 0.0409645002716039, 'l2_leaf_reg': 0.07418318470753169, 'depth': 4, 'random_strength': 52.980032415868024, 'min_data_in_leaf': 94, 'bagging_temperature': 33.087256208165726}. Best is trial 236 with value: 0.2204946060949904.\n"
     ]
    },
    {
     "name": "stdout",
     "output_type": "stream",
     "text": [
      "Repeat \u001b[1m\u001b[34m#1\n",
      "Repeat \u001b[1m\u001b[34m#2\n",
      "Repeat \u001b[1m\u001b[34m#3\n"
     ]
    },
    {
     "name": "stderr",
     "output_type": "stream",
     "text": [
      "[I 2023-06-17 17:52:17,727] Trial 912 finished with value: 0.2376441472716333 and parameters: {'bootstrap_type': 'Bayesian', 'grow_policy': 'Depthwise', 'learning_rate': 0.021335650309963906, 'l2_leaf_reg': 3.2218803641928573, 'depth': 4, 'random_strength': 69.59412990795431, 'min_data_in_leaf': 100, 'bagging_temperature': 30.445839360424472}. Best is trial 236 with value: 0.2204946060949904.\n"
     ]
    },
    {
     "name": "stdout",
     "output_type": "stream",
     "text": [
      "Repeat \u001b[1m\u001b[34m#1\n",
      "Repeat \u001b[1m\u001b[34m#2\n",
      "Repeat \u001b[1m\u001b[34m#3\n"
     ]
    },
    {
     "name": "stderr",
     "output_type": "stream",
     "text": [
      "[I 2023-06-17 17:52:57,285] Trial 913 finished with value: 0.4418451430342382 and parameters: {'bootstrap_type': 'Bayesian', 'grow_policy': 'Depthwise', 'learning_rate': 0.0007412951331226099, 'l2_leaf_reg': 1.3960302684196848, 'depth': 4, 'random_strength': 96.13320273276688, 'min_data_in_leaf': 91, 'bagging_temperature': 35.699793563864084}. Best is trial 236 with value: 0.2204946060949904.\n"
     ]
    },
    {
     "name": "stdout",
     "output_type": "stream",
     "text": [
      "Repeat \u001b[1m\u001b[34m#1\n",
      "Repeat \u001b[1m\u001b[34m#2\n",
      "Repeat \u001b[1m\u001b[34m#3\n"
     ]
    },
    {
     "name": "stderr",
     "output_type": "stream",
     "text": [
      "[I 2023-06-17 17:53:30,897] Trial 914 finished with value: 0.5717466280016819 and parameters: {'bootstrap_type': 'Bernoulli', 'grow_policy': 'SymmetricTree', 'learning_rate': 0.00026371598171632215, 'l2_leaf_reg': 1.4615959707950723e-08, 'depth': 4, 'random_strength': 84.14017088010789, 'min_data_in_leaf': 95, 'subsample': 0.37539529527960486, 'boosting_type': 'Plain'}. Best is trial 236 with value: 0.2204946060949904.\n"
     ]
    },
    {
     "name": "stdout",
     "output_type": "stream",
     "text": [
      "Repeat \u001b[1m\u001b[34m#1\n",
      "Repeat \u001b[1m\u001b[34m#2\n",
      "Repeat \u001b[1m\u001b[34m#3\n"
     ]
    },
    {
     "name": "stderr",
     "output_type": "stream",
     "text": [
      "[I 2023-06-17 17:53:39,465] Trial 915 finished with value: 0.23944595946879135 and parameters: {'bootstrap_type': 'Bayesian', 'grow_policy': 'Lossguide', 'learning_rate': 0.0329723181599259, 'l2_leaf_reg': 0.6800722491521889, 'depth': 4, 'random_strength': 18.244361490473192, 'min_data_in_leaf': 98, 'bagging_temperature': 1.035379996459696, 'max_leaves': 56}. Best is trial 236 with value: 0.2204946060949904.\n"
     ]
    },
    {
     "name": "stdout",
     "output_type": "stream",
     "text": [
      "Repeat \u001b[1m\u001b[34m#1\n",
      "Repeat \u001b[1m\u001b[34m#2\n",
      "Repeat \u001b[1m\u001b[34m#3\n"
     ]
    },
    {
     "name": "stderr",
     "output_type": "stream",
     "text": [
      "[I 2023-06-17 17:54:04,310] Trial 916 finished with value: 0.2315859285333806 and parameters: {'bootstrap_type': 'Bayesian', 'grow_policy': 'Depthwise', 'learning_rate': 0.016959414126231788, 'l2_leaf_reg': 8.64984292649361, 'depth': 5, 'random_strength': 45.23146639572758, 'min_data_in_leaf': 92, 'bagging_temperature': 40.81304922819934}. Best is trial 236 with value: 0.2204946060949904.\n"
     ]
    },
    {
     "name": "stdout",
     "output_type": "stream",
     "text": [
      "Repeat \u001b[1m\u001b[34m#1\n",
      "Repeat \u001b[1m\u001b[34m#2\n",
      "Repeat \u001b[1m\u001b[34m#3\n"
     ]
    },
    {
     "name": "stderr",
     "output_type": "stream",
     "text": [
      "[I 2023-06-17 17:54:05,150] Trial 917 finished with value: 0.6932141402517414 and parameters: {'bootstrap_type': 'Bayesian', 'grow_policy': 'Depthwise', 'learning_rate': 0.013165407022798373, 'l2_leaf_reg': 0.3705232658671361, 'depth': 4, 'random_strength': 50.86888972547972, 'min_data_in_leaf': 93, 'bagging_temperature': 90.0943033297125}. Best is trial 236 with value: 0.2204946060949904.\n"
     ]
    },
    {
     "name": "stdout",
     "output_type": "stream",
     "text": [
      "Repeat \u001b[1m\u001b[34m#1\n",
      "Repeat \u001b[1m\u001b[34m#2\n",
      "Repeat \u001b[1m\u001b[34m#3\n"
     ]
    },
    {
     "name": "stderr",
     "output_type": "stream",
     "text": [
      "[I 2023-06-17 17:54:22,514] Trial 918 finished with value: 0.23475281500446146 and parameters: {'bootstrap_type': 'Bayesian', 'grow_policy': 'Depthwise', 'learning_rate': 0.028403595466107035, 'l2_leaf_reg': 5.097342534482659, 'depth': 4, 'random_strength': 92.2140710760697, 'min_data_in_leaf': 96, 'bagging_temperature': 46.24379828166636}. Best is trial 236 with value: 0.2204946060949904.\n"
     ]
    },
    {
     "name": "stdout",
     "output_type": "stream",
     "text": [
      "Repeat \u001b[1m\u001b[34m#1\n",
      "Repeat \u001b[1m\u001b[34m#2\n",
      "Repeat \u001b[1m\u001b[34m#3\n"
     ]
    },
    {
     "name": "stderr",
     "output_type": "stream",
     "text": [
      "[I 2023-06-17 17:54:28,554] Trial 919 finished with value: 0.2392164712124836 and parameters: {'bootstrap_type': 'Bayesian', 'grow_policy': 'Depthwise', 'learning_rate': 0.13231876396832315, 'l2_leaf_reg': 15.580525731736055, 'depth': 4, 'random_strength': 73.00156671208424, 'min_data_in_leaf': 89, 'bagging_temperature': 37.30337689568109}. Best is trial 236 with value: 0.2204946060949904.\n"
     ]
    },
    {
     "name": "stdout",
     "output_type": "stream",
     "text": [
      "Repeat \u001b[1m\u001b[34m#1\n",
      "Repeat \u001b[1m\u001b[34m#2\n",
      "Repeat \u001b[1m\u001b[34m#3\n"
     ]
    },
    {
     "name": "stderr",
     "output_type": "stream",
     "text": [
      "[I 2023-06-17 17:54:36,438] Trial 920 finished with value: 0.24891537251500107 and parameters: {'bootstrap_type': 'Bayesian', 'grow_policy': 'Depthwise', 'learning_rate': 0.03804329638082756, 'l2_leaf_reg': 1.8556632903488504e-08, 'depth': 4, 'random_strength': 66.09745678188543, 'min_data_in_leaf': 94, 'bagging_temperature': 32.509233545669176}. Best is trial 236 with value: 0.2204946060949904.\n"
     ]
    },
    {
     "name": "stdout",
     "output_type": "stream",
     "text": [
      "Repeat \u001b[1m\u001b[34m#1\n",
      "Repeat \u001b[1m\u001b[34m#2\n",
      "Repeat \u001b[1m\u001b[34m#3\n"
     ]
    },
    {
     "name": "stderr",
     "output_type": "stream",
     "text": [
      "[I 2023-06-17 17:55:15,159] Trial 921 finished with value: 0.49354631886240813 and parameters: {'bootstrap_type': 'Bayesian', 'grow_policy': 'Depthwise', 'learning_rate': 0.0006239323897961039, 'l2_leaf_reg': 38.29634174559228, 'depth': 4, 'random_strength': 33.33237295421958, 'min_data_in_leaf': 97, 'bagging_temperature': 39.19851907309082}. Best is trial 236 with value: 0.2204946060949904.\n"
     ]
    },
    {
     "name": "stdout",
     "output_type": "stream",
     "text": [
      "Repeat \u001b[1m\u001b[34m#1\n",
      "Repeat \u001b[1m\u001b[34m#2\n",
      "Repeat \u001b[1m\u001b[34m#3\n"
     ]
    },
    {
     "name": "stderr",
     "output_type": "stream",
     "text": [
      "[I 2023-06-17 17:55:22,306] Trial 922 finished with value: 0.22912515957484889 and parameters: {'bootstrap_type': 'Bayesian', 'grow_policy': 'Depthwise', 'learning_rate': 0.07913462549412714, 'l2_leaf_reg': 1.9580347969363068, 'depth': 4, 'random_strength': 60.23391159757628, 'min_data_in_leaf': 86, 'bagging_temperature': 26.43208897609761}. Best is trial 236 with value: 0.2204946060949904.\n"
     ]
    },
    {
     "name": "stdout",
     "output_type": "stream",
     "text": [
      "Repeat \u001b[1m\u001b[34m#1\n",
      "Repeat \u001b[1m\u001b[34m#2\n",
      "Repeat \u001b[1m\u001b[34m#3\n"
     ]
    },
    {
     "name": "stderr",
     "output_type": "stream",
     "text": [
      "[I 2023-06-17 17:55:23,067] Trial 923 finished with value: 0.6936539375333095 and parameters: {'bootstrap_type': 'Bayesian', 'grow_policy': 'Lossguide', 'learning_rate': 0.09859679789015881, 'l2_leaf_reg': 0.03175924327283772, 'depth': 4, 'random_strength': 67.88103471351168, 'min_data_in_leaf': 91, 'bagging_temperature': 73.25573161317524, 'max_leaves': 110}. Best is trial 236 with value: 0.2204946060949904.\n"
     ]
    },
    {
     "name": "stdout",
     "output_type": "stream",
     "text": [
      "Repeat \u001b[1m\u001b[34m#1\n",
      "Repeat \u001b[1m\u001b[34m#2\n",
      "Repeat \u001b[1m\u001b[34m#3\n"
     ]
    },
    {
     "name": "stderr",
     "output_type": "stream",
     "text": [
      "[I 2023-06-17 17:55:31,420] Trial 924 finished with value: 0.25280346149996014 and parameters: {'bootstrap_type': 'MVS', 'grow_policy': 'Depthwise', 'learning_rate': 0.02268605247561943, 'l2_leaf_reg': 0.00012861550218142836, 'depth': 4, 'random_strength': 47.208154492690426, 'min_data_in_leaf': 99}. Best is trial 236 with value: 0.2204946060949904.\n"
     ]
    },
    {
     "name": "stdout",
     "output_type": "stream",
     "text": [
      "Repeat \u001b[1m\u001b[34m#1\n",
      "Repeat \u001b[1m\u001b[34m#2\n",
      "Repeat \u001b[1m\u001b[34m#3\n"
     ]
    },
    {
     "name": "stderr",
     "output_type": "stream",
     "text": [
      "[I 2023-06-17 17:56:09,265] Trial 925 finished with value: 0.2624860970381592 and parameters: {'bootstrap_type': 'Bayesian', 'grow_policy': 'Depthwise', 'learning_rate': 0.004278574424687623, 'l2_leaf_reg': 2.8852294445806255, 'depth': 4, 'random_strength': 75.96157086659959, 'min_data_in_leaf': 95, 'bagging_temperature': 29.457087936737484}. Best is trial 236 with value: 0.2204946060949904.\n"
     ]
    },
    {
     "name": "stdout",
     "output_type": "stream",
     "text": [
      "Repeat \u001b[1m\u001b[34m#1\n",
      "Repeat \u001b[1m\u001b[34m#2\n",
      "Repeat \u001b[1m\u001b[34m#3\n"
     ]
    },
    {
     "name": "stderr",
     "output_type": "stream",
     "text": [
      "[I 2023-06-17 17:56:10,067] Trial 926 finished with value: 0.6934555336132586 and parameters: {'bootstrap_type': 'Bayesian', 'grow_policy': 'Depthwise', 'learning_rate': 0.06040988746508361, 'l2_leaf_reg': 1.2138888475421816, 'depth': 4, 'random_strength': 6.788167912050547, 'min_data_in_leaf': 93, 'bagging_temperature': 68.94965482303353}. Best is trial 236 with value: 0.2204946060949904.\n"
     ]
    },
    {
     "name": "stdout",
     "output_type": "stream",
     "text": [
      "Repeat \u001b[1m\u001b[34m#1\n",
      "Repeat \u001b[1m\u001b[34m#2\n",
      "Repeat \u001b[1m\u001b[34m#3\n"
     ]
    },
    {
     "name": "stderr",
     "output_type": "stream",
     "text": [
      "[I 2023-06-17 17:56:20,789] Trial 927 finished with value: 0.2437552452965344 and parameters: {'bootstrap_type': 'Bayesian', 'grow_policy': 'Depthwise', 'learning_rate': 0.03244530009777345, 'l2_leaf_reg': 0.01135847098586481, 'depth': 4, 'random_strength': 99.73542640637812, 'min_data_in_leaf': 89, 'bagging_temperature': 34.34334625765982}. Best is trial 236 with value: 0.2204946060949904.\n"
     ]
    },
    {
     "name": "stdout",
     "output_type": "stream",
     "text": [
      "Repeat \u001b[1m\u001b[34m#1\n",
      "Repeat \u001b[1m\u001b[34m#2\n",
      "Repeat \u001b[1m\u001b[34m#3\n"
     ]
    },
    {
     "name": "stderr",
     "output_type": "stream",
     "text": [
      "[I 2023-06-17 17:56:59,839] Trial 928 finished with value: 0.5557981354296135 and parameters: {'bootstrap_type': 'Bayesian', 'grow_policy': 'Depthwise', 'learning_rate': 0.00030538880244441823, 'l2_leaf_reg': 6.365841158744516, 'depth': 4, 'random_strength': 63.496520540203875, 'min_data_in_leaf': 96, 'bagging_temperature': 35.932797597417135}. Best is trial 236 with value: 0.2204946060949904.\n"
     ]
    },
    {
     "name": "stdout",
     "output_type": "stream",
     "text": [
      "Repeat \u001b[1m\u001b[34m#1\n",
      "Repeat \u001b[1m\u001b[34m#2\n",
      "Repeat \u001b[1m\u001b[34m#3\n"
     ]
    },
    {
     "name": "stderr",
     "output_type": "stream",
     "text": [
      "[I 2023-06-17 17:57:06,934] Trial 929 finished with value: 0.25495533452409813 and parameters: {'bootstrap_type': 'Bayesian', 'grow_policy': 'Depthwise', 'learning_rate': 0.046989136542819575, 'l2_leaf_reg': 6.444649657823562e-05, 'depth': 4, 'random_strength': 35.724212284548855, 'min_data_in_leaf': 100, 'bagging_temperature': 43.43404397123123}. Best is trial 236 with value: 0.2204946060949904.\n"
     ]
    },
    {
     "name": "stdout",
     "output_type": "stream",
     "text": [
      "Repeat \u001b[1m\u001b[34m#1\n",
      "Repeat \u001b[1m\u001b[34m#2\n",
      "Repeat \u001b[1m\u001b[34m#3\n"
     ]
    },
    {
     "name": "stderr",
     "output_type": "stream",
     "text": [
      "[I 2023-06-17 17:57:17,994] Trial 930 finished with value: 0.25568122924166214 and parameters: {'bootstrap_type': 'Bayesian', 'grow_policy': 'Depthwise', 'learning_rate': 0.027402148441557164, 'l2_leaf_reg': 0.0023382708860534914, 'depth': 4, 'random_strength': 71.34870870715402, 'min_data_in_leaf': 60, 'bagging_temperature': 3.4824863619114623}. Best is trial 236 with value: 0.2204946060949904.\n"
     ]
    },
    {
     "name": "stdout",
     "output_type": "stream",
     "text": [
      "Repeat \u001b[1m\u001b[34m#1\n",
      "Repeat \u001b[1m\u001b[34m#2\n",
      "Repeat \u001b[1m\u001b[34m#3\n"
     ]
    },
    {
     "name": "stderr",
     "output_type": "stream",
     "text": [
      "[I 2023-06-17 17:57:32,152] Trial 931 finished with value: 0.2260138336140788 and parameters: {'bootstrap_type': 'Bayesian', 'grow_policy': 'Depthwise', 'learning_rate': 0.03653415537818171, 'l2_leaf_reg': 12.34382150522319, 'depth': 4, 'random_strength': 38.005007039291534, 'min_data_in_leaf': 91, 'bagging_temperature': 31.713855019040444}. Best is trial 236 with value: 0.2204946060949904.\n"
     ]
    },
    {
     "name": "stdout",
     "output_type": "stream",
     "text": [
      "Repeat \u001b[1m\u001b[34m#1\n",
      "Repeat \u001b[1m\u001b[34m#2\n",
      "Repeat \u001b[1m\u001b[34m#3\n"
     ]
    },
    {
     "name": "stderr",
     "output_type": "stream",
     "text": [
      "[I 2023-06-17 17:57:55,079] Trial 932 finished with value: 0.2357030751647998 and parameters: {'bootstrap_type': 'Bayesian', 'grow_policy': 'Depthwise', 'learning_rate': 0.019282516418011153, 'l2_leaf_reg': 25.202294567826787, 'depth': 4, 'random_strength': 21.147176474606923, 'min_data_in_leaf': 98, 'bagging_temperature': 15.143620552659584}. Best is trial 236 with value: 0.2204946060949904.\n"
     ]
    },
    {
     "name": "stdout",
     "output_type": "stream",
     "text": [
      "Repeat \u001b[1m\u001b[34m#1\n",
      "Repeat \u001b[1m\u001b[34m#2\n",
      "Repeat \u001b[1m\u001b[34m#3\n"
     ]
    },
    {
     "name": "stderr",
     "output_type": "stream",
     "text": [
      "[I 2023-06-17 17:58:01,960] Trial 933 finished with value: 0.24901483051980955 and parameters: {'bootstrap_type': 'Bayesian', 'grow_policy': 'Lossguide', 'learning_rate': 0.043936184764381575, 'l2_leaf_reg': 3.0633216678743764e-05, 'depth': 4, 'random_strength': 55.497038067549504, 'min_data_in_leaf': 94, 'bagging_temperature': 18.75685528370604, 'max_leaves': 117}. Best is trial 236 with value: 0.2204946060949904.\n"
     ]
    },
    {
     "name": "stdout",
     "output_type": "stream",
     "text": [
      "Repeat \u001b[1m\u001b[34m#1\n",
      "Repeat \u001b[1m\u001b[34m#2\n",
      "Repeat \u001b[1m\u001b[34m#3\n"
     ]
    },
    {
     "name": "stderr",
     "output_type": "stream",
     "text": [
      "[I 2023-06-17 17:58:39,764] Trial 934 finished with value: 0.6388298030127605 and parameters: {'bootstrap_type': 'Bayesian', 'grow_policy': 'Depthwise', 'learning_rate': 0.00010527193010639186, 'l2_leaf_reg': 3.730811189983261, 'depth': 4, 'random_strength': 9.741232089243425, 'min_data_in_leaf': 88, 'bagging_temperature': 41.25333257180778}. Best is trial 236 with value: 0.2204946060949904.\n"
     ]
    },
    {
     "name": "stdout",
     "output_type": "stream",
     "text": [
      "Repeat \u001b[1m\u001b[34m#1\n",
      "Repeat \u001b[1m\u001b[34m#2\n",
      "Repeat \u001b[1m\u001b[34m#3\n"
     ]
    },
    {
     "name": "stderr",
     "output_type": "stream",
     "text": [
      "[I 2023-06-17 17:59:16,936] Trial 935 finished with value: 0.27273949006256243 and parameters: {'bootstrap_type': 'Bayesian', 'grow_policy': 'Depthwise', 'learning_rate': 0.0031322833517175687, 'l2_leaf_reg': 1.6752432877308685e-07, 'depth': 6, 'random_strength': 69.56341911369312, 'min_data_in_leaf': 96, 'bagging_temperature': 21.275469374145356}. Best is trial 236 with value: 0.2204946060949904.\n"
     ]
    },
    {
     "name": "stdout",
     "output_type": "stream",
     "text": [
      "Repeat \u001b[1m\u001b[34m#1\n",
      "Repeat \u001b[1m\u001b[34m#2\n",
      "Repeat \u001b[1m\u001b[34m#3\n"
     ]
    },
    {
     "name": "stderr",
     "output_type": "stream",
     "text": [
      "[I 2023-06-17 17:59:20,628] Trial 936 finished with value: 0.5446064735669438 and parameters: {'bootstrap_type': 'Bayesian', 'grow_policy': 'Depthwise', 'learning_rate': 0.12391932440177895, 'l2_leaf_reg': 59.172991371967925, 'depth': 4, 'random_strength': 74.16939156836754, 'min_data_in_leaf': 84, 'bagging_temperature': 55.65733717045364}. Best is trial 236 with value: 0.2204946060949904.\n"
     ]
    },
    {
     "name": "stdout",
     "output_type": "stream",
     "text": [
      "Repeat \u001b[1m\u001b[34m#1\n",
      "Repeat \u001b[1m\u001b[34m#2\n",
      "Repeat \u001b[1m\u001b[34m#3\n"
     ]
    },
    {
     "name": "stderr",
     "output_type": "stream",
     "text": [
      "[I 2023-06-17 17:59:31,856] Trial 937 finished with value: 0.2649189236847032 and parameters: {'bootstrap_type': 'Bayesian', 'grow_policy': 'SymmetricTree', 'learning_rate': 0.02456007926512099, 'l2_leaf_reg': 0.499190128912578, 'depth': 4, 'random_strength': 66.06873315121577, 'min_data_in_leaf': 93, 'bagging_temperature': 37.936054939432026, 'boosting_type': 'Plain'}. Best is trial 236 with value: 0.2204946060949904.\n"
     ]
    },
    {
     "name": "stdout",
     "output_type": "stream",
     "text": [
      "Repeat \u001b[1m\u001b[34m#1\n",
      "Repeat \u001b[1m\u001b[34m#2\n",
      "Repeat \u001b[1m\u001b[34m#3\n"
     ]
    },
    {
     "name": "stderr",
     "output_type": "stream",
     "text": [
      "[I 2023-06-17 17:59:34,630] Trial 938 finished with value: 0.25362928212755353 and parameters: {'bootstrap_type': 'Bernoulli', 'grow_policy': 'Depthwise', 'learning_rate': 0.2119247736263808, 'l2_leaf_reg': 0.9374220820191473, 'depth': 4, 'random_strength': 13.932300213814983, 'min_data_in_leaf': 91, 'subsample': 0.5771484786105763}. Best is trial 236 with value: 0.2204946060949904.\n"
     ]
    },
    {
     "name": "stdout",
     "output_type": "stream",
     "text": [
      "Repeat \u001b[1m\u001b[34m#1\n",
      "Repeat \u001b[1m\u001b[34m#2\n",
      "Repeat \u001b[1m\u001b[34m#3\n"
     ]
    },
    {
     "name": "stderr",
     "output_type": "stream",
     "text": [
      "[I 2023-06-17 17:59:43,344] Trial 939 finished with value: 0.23486604173378997 and parameters: {'bootstrap_type': 'Bayesian', 'grow_policy': 'Depthwise', 'learning_rate': 0.0678746121614012, 'l2_leaf_reg': 1.716975231491132, 'depth': 5, 'random_strength': 5.545063035051548, 'min_data_in_leaf': 98, 'bagging_temperature': 34.395693837381}. Best is trial 236 with value: 0.2204946060949904.\n"
     ]
    },
    {
     "name": "stdout",
     "output_type": "stream",
     "text": [
      "Repeat \u001b[1m\u001b[34m#1\n",
      "Repeat \u001b[1m\u001b[34m#2\n",
      "Repeat \u001b[1m\u001b[34m#3\n"
     ]
    },
    {
     "name": "stderr",
     "output_type": "stream",
     "text": [
      "[I 2023-06-17 17:59:56,161] Trial 940 finished with value: 0.242589198453772 and parameters: {'bootstrap_type': 'Bayesian', 'grow_policy': 'Depthwise', 'learning_rate': 0.031246461681460207, 'l2_leaf_reg': 8.171194391643086, 'depth': 4, 'random_strength': 61.5470279959083, 'min_data_in_leaf': 95, 'bagging_temperature': 7.348901201491472}. Best is trial 236 with value: 0.2204946060949904.\n"
     ]
    },
    {
     "name": "stdout",
     "output_type": "stream",
     "text": [
      "Repeat \u001b[1m\u001b[34m#1\n",
      "Repeat \u001b[1m\u001b[34m#2\n",
      "Repeat \u001b[1m\u001b[34m#3\n"
     ]
    },
    {
     "name": "stderr",
     "output_type": "stream",
     "text": [
      "[I 2023-06-17 17:59:56,939] Trial 941 finished with value: 0.6933335013734734 and parameters: {'bootstrap_type': 'Bayesian', 'grow_policy': 'Lossguide', 'learning_rate': 0.036526843435779006, 'l2_leaf_reg': 0.2755416151287925, 'depth': 4, 'random_strength': 79.83179426793774, 'min_data_in_leaf': 93, 'bagging_temperature': 79.33495653227556, 'max_leaves': 70}. Best is trial 236 with value: 0.2204946060949904.\n"
     ]
    },
    {
     "name": "stdout",
     "output_type": "stream",
     "text": [
      "Repeat \u001b[1m\u001b[34m#1\n",
      "Repeat \u001b[1m\u001b[34m#2\n",
      "Repeat \u001b[1m\u001b[34m#3\n"
     ]
    },
    {
     "name": "stderr",
     "output_type": "stream",
     "text": [
      "[I 2023-06-17 17:59:57,756] Trial 942 finished with value: 0.6934323321185207 and parameters: {'bootstrap_type': 'Bayesian', 'grow_policy': 'Depthwise', 'learning_rate': 0.05637413252779193, 'l2_leaf_reg': 2.6654385501256717, 'depth': 4, 'random_strength': 94.4901586745901, 'min_data_in_leaf': 97, 'bagging_temperature': 74.5293558613394}. Best is trial 236 with value: 0.2204946060949904.\n"
     ]
    },
    {
     "name": "stdout",
     "output_type": "stream",
     "text": [
      "Repeat \u001b[1m\u001b[34m#1\n",
      "Repeat \u001b[1m\u001b[34m#2\n",
      "Repeat \u001b[1m\u001b[34m#3\n"
     ]
    },
    {
     "name": "stderr",
     "output_type": "stream",
     "text": [
      "[I 2023-06-17 18:00:05,153] Trial 943 finished with value: 0.2248323944955247 and parameters: {'bootstrap_type': 'Bayesian', 'grow_policy': 'Depthwise', 'learning_rate': 0.0875780849591937, 'l2_leaf_reg': 4.811251678828219, 'depth': 4, 'random_strength': 57.56692852288932, 'min_data_in_leaf': 90, 'bagging_temperature': 30.83084207119435}. Best is trial 236 with value: 0.2204946060949904.\n"
     ]
    },
    {
     "name": "stdout",
     "output_type": "stream",
     "text": [
      "Repeat \u001b[1m\u001b[34m#1\n",
      "Repeat \u001b[1m\u001b[34m#2\n",
      "Repeat \u001b[1m\u001b[34m#3\n"
     ]
    },
    {
     "name": "stderr",
     "output_type": "stream",
     "text": [
      "[I 2023-06-17 18:00:12,892] Trial 944 finished with value: 0.23583845192341982 and parameters: {'bootstrap_type': 'Bayesian', 'grow_policy': 'Depthwise', 'learning_rate': 0.09640442104779748, 'l2_leaf_reg': 11.204423329592863, 'depth': 4, 'random_strength': 57.64835690974545, 'min_data_in_leaf': 87, 'bagging_temperature': 28.067014959942693}. Best is trial 236 with value: 0.2204946060949904.\n"
     ]
    },
    {
     "name": "stdout",
     "output_type": "stream",
     "text": [
      "Repeat \u001b[1m\u001b[34m#1\n",
      "Repeat \u001b[1m\u001b[34m#2\n",
      "Repeat \u001b[1m\u001b[34m#3\n"
     ]
    },
    {
     "name": "stderr",
     "output_type": "stream",
     "text": [
      "[I 2023-06-17 18:00:18,876] Trial 945 finished with value: 0.25051737944464453 and parameters: {'bootstrap_type': 'Bayesian', 'grow_policy': 'Depthwise', 'learning_rate': 0.08811715356714019, 'l2_leaf_reg': 0.09864172919560751, 'depth': 4, 'random_strength': 57.939339374150265, 'min_data_in_leaf': 89, 'bagging_temperature': 23.743803853175066}. Best is trial 236 with value: 0.2204946060949904.\n"
     ]
    },
    {
     "name": "stdout",
     "output_type": "stream",
     "text": [
      "Repeat \u001b[1m\u001b[34m#1\n",
      "Repeat \u001b[1m\u001b[34m#2\n",
      "Repeat \u001b[1m\u001b[34m#3\n"
     ]
    },
    {
     "name": "stderr",
     "output_type": "stream",
     "text": [
      "[I 2023-06-17 18:00:26,559] Trial 946 finished with value: 0.23664656109709192 and parameters: {'bootstrap_type': 'Bayesian', 'grow_policy': 'Depthwise', 'learning_rate': 0.07315721836856587, 'l2_leaf_reg': 6.157500528647606, 'depth': 4, 'random_strength': 58.82224678707836, 'min_data_in_leaf': 87, 'bagging_temperature': 29.47270973858399}. Best is trial 236 with value: 0.2204946060949904.\n"
     ]
    },
    {
     "name": "stdout",
     "output_type": "stream",
     "text": [
      "Repeat \u001b[1m\u001b[34m#1\n",
      "Repeat \u001b[1m\u001b[34m#2\n",
      "Repeat \u001b[1m\u001b[34m#3\n"
     ]
    },
    {
     "name": "stderr",
     "output_type": "stream",
     "text": [
      "[I 2023-06-17 18:00:32,493] Trial 947 finished with value: 0.2648690052463995 and parameters: {'bootstrap_type': 'Bayesian', 'grow_policy': 'Depthwise', 'learning_rate': 0.0785192793421633, 'l2_leaf_reg': 1.6607290166360004e-05, 'depth': 4, 'random_strength': 16.995301096987525, 'min_data_in_leaf': 86, 'bagging_temperature': 30.496201265955243}. Best is trial 236 with value: 0.2204946060949904.\n"
     ]
    },
    {
     "name": "stdout",
     "output_type": "stream",
     "text": [
      "Repeat \u001b[1m\u001b[34m#1\n",
      "Repeat \u001b[1m\u001b[34m#2\n",
      "Repeat \u001b[1m\u001b[34m#3\n"
     ]
    },
    {
     "name": "stderr",
     "output_type": "stream",
     "text": [
      "[I 2023-06-17 18:00:36,387] Trial 948 finished with value: 0.24124589789373108 and parameters: {'bootstrap_type': 'MVS', 'grow_policy': 'Depthwise', 'learning_rate': 0.11051737659566038, 'l2_leaf_reg': 17.45637060193552, 'depth': 4, 'random_strength': 59.41982538228098, 'min_data_in_leaf': 89}. Best is trial 236 with value: 0.2204946060949904.\n"
     ]
    },
    {
     "name": "stdout",
     "output_type": "stream",
     "text": [
      "Repeat \u001b[1m\u001b[34m#1\n",
      "Repeat \u001b[1m\u001b[34m#2\n",
      "Repeat \u001b[1m\u001b[34m#3\n"
     ]
    },
    {
     "name": "stderr",
     "output_type": "stream",
     "text": [
      "[I 2023-06-17 18:00:37,217] Trial 949 finished with value: 0.6939697126688461 and parameters: {'bootstrap_type': 'Bayesian', 'grow_policy': 'Depthwise', 'learning_rate': 0.1605573566821269, 'l2_leaf_reg': 6.041567841968089, 'depth': 4, 'random_strength': 62.16013277611302, 'min_data_in_leaf': 100, 'bagging_temperature': 99.90902328816642}. Best is trial 236 with value: 0.2204946060949904.\n"
     ]
    },
    {
     "name": "stdout",
     "output_type": "stream",
     "text": [
      "Repeat \u001b[1m\u001b[34m#1\n",
      "Repeat \u001b[1m\u001b[34m#2\n",
      "Repeat \u001b[1m\u001b[34m#3\n"
     ]
    },
    {
     "name": "stderr",
     "output_type": "stream",
     "text": [
      "[I 2023-06-17 18:00:43,334] Trial 950 finished with value: 0.2512274184462899 and parameters: {'bootstrap_type': 'Bayesian', 'grow_policy': 'Lossguide', 'learning_rate': 0.08455207460188904, 'l2_leaf_reg': 0.05562357555131946, 'depth': 7, 'random_strength': 60.61578270526965, 'min_data_in_leaf': 91, 'bagging_temperature': 47.59988350250995, 'max_leaves': 73}. Best is trial 236 with value: 0.2204946060949904.\n"
     ]
    },
    {
     "name": "stdout",
     "output_type": "stream",
     "text": [
      "Repeat \u001b[1m\u001b[34m#1\n",
      "Repeat \u001b[1m\u001b[34m#2\n",
      "Repeat \u001b[1m\u001b[34m#3\n"
     ]
    },
    {
     "name": "stderr",
     "output_type": "stream",
     "text": [
      "[I 2023-06-17 18:00:51,095] Trial 951 finished with value: 0.23270108477403997 and parameters: {'bootstrap_type': 'Bayesian', 'grow_policy': 'Depthwise', 'learning_rate': 0.11196571702405618, 'l2_leaf_reg': 26.019960305489832, 'depth': 4, 'random_strength': 55.79620718089629, 'min_data_in_leaf': 84, 'bagging_temperature': 26.166856821619554}. Best is trial 236 with value: 0.2204946060949904.\n"
     ]
    },
    {
     "name": "stdout",
     "output_type": "stream",
     "text": [
      "Repeat \u001b[1m\u001b[34m#1\n",
      "Repeat \u001b[1m\u001b[34m#2\n",
      "Repeat \u001b[1m\u001b[34m#3\n"
     ]
    },
    {
     "name": "stderr",
     "output_type": "stream",
     "text": [
      "[I 2023-06-17 18:01:01,165] Trial 952 finished with value: 0.2597762923938089 and parameters: {'bootstrap_type': 'Bayesian', 'grow_policy': 'Depthwise', 'learning_rate': 0.06547636688597651, 'l2_leaf_reg': 4.289344413398622, 'depth': 4, 'random_strength': 64.14117091191017, 'min_data_in_leaf': 92, 'bagging_temperature': 51.41839033238064}. Best is trial 236 with value: 0.2204946060949904.\n"
     ]
    },
    {
     "name": "stdout",
     "output_type": "stream",
     "text": [
      "Repeat \u001b[1m\u001b[34m#1\n",
      "Repeat \u001b[1m\u001b[34m#2\n",
      "Repeat \u001b[1m\u001b[34m#3\n"
     ]
    },
    {
     "name": "stderr",
     "output_type": "stream",
     "text": [
      "[I 2023-06-17 18:01:06,693] Trial 953 finished with value: 0.24764043030837124 and parameters: {'bootstrap_type': 'Bayesian', 'grow_policy': 'Depthwise', 'learning_rate': 0.14676706343424603, 'l2_leaf_reg': 12.051677533964124, 'depth': 4, 'random_strength': 30.113175683943325, 'min_data_in_leaf': 95, 'bagging_temperature': 31.65449532005565}. Best is trial 236 with value: 0.2204946060949904.\n"
     ]
    },
    {
     "name": "stdout",
     "output_type": "stream",
     "text": [
      "Repeat \u001b[1m\u001b[34m#1\n",
      "Repeat \u001b[1m\u001b[34m#2\n",
      "Repeat \u001b[1m\u001b[34m#3\n"
     ]
    },
    {
     "name": "stderr",
     "output_type": "stream",
     "text": [
      "[I 2023-06-17 18:01:17,077] Trial 954 finished with value: 0.23095302714880517 and parameters: {'bootstrap_type': 'Bayesian', 'grow_policy': 'Depthwise', 'learning_rate': 0.09463244363467636, 'l2_leaf_reg': 36.63680753005942, 'depth': 4, 'random_strength': 10.967932996720542, 'min_data_in_leaf': 90, 'bagging_temperature': 39.362068452176906}. Best is trial 236 with value: 0.2204946060949904.\n"
     ]
    },
    {
     "name": "stdout",
     "output_type": "stream",
     "text": [
      "Repeat \u001b[1m\u001b[34m#1\n",
      "Repeat \u001b[1m\u001b[34m#2\n",
      "Repeat \u001b[1m\u001b[34m#3\n"
     ]
    },
    {
     "name": "stderr",
     "output_type": "stream",
     "text": [
      "[I 2023-06-17 18:01:48,849] Trial 955 finished with value: 0.24772389728569585 and parameters: {'bootstrap_type': 'Bayesian', 'grow_policy': 'Depthwise', 'learning_rate': 0.007182280389014476, 'l2_leaf_reg': 0.742688852225318, 'depth': 4, 'random_strength': 88.48001073630141, 'min_data_in_leaf': 80, 'bagging_temperature': 8.644836928451321}. Best is trial 236 with value: 0.2204946060949904.\n"
     ]
    },
    {
     "name": "stdout",
     "output_type": "stream",
     "text": [
      "Repeat \u001b[1m\u001b[34m#1\n",
      "Repeat \u001b[1m\u001b[34m#2\n",
      "Repeat \u001b[1m\u001b[34m#3\n"
     ]
    },
    {
     "name": "stderr",
     "output_type": "stream",
     "text": [
      "[I 2023-06-17 18:01:49,695] Trial 956 finished with value: 0.6934110513229198 and parameters: {'bootstrap_type': 'Bayesian', 'grow_policy': 'Depthwise', 'learning_rate': 0.05168215154579365, 'l2_leaf_reg': 0.14861773716881274, 'depth': 7, 'random_strength': 53.50520155148885, 'min_data_in_leaf': 98, 'bagging_temperature': 68.40971155268332}. Best is trial 236 with value: 0.2204946060949904.\n"
     ]
    },
    {
     "name": "stdout",
     "output_type": "stream",
     "text": [
      "Repeat \u001b[1m\u001b[34m#1\n",
      "Repeat \u001b[1m\u001b[34m#2\n",
      "Repeat \u001b[1m\u001b[34m#3\n"
     ]
    },
    {
     "name": "stderr",
     "output_type": "stream",
     "text": [
      "[I 2023-06-17 18:02:10,910] Trial 957 finished with value: 0.2464686772571086 and parameters: {'bootstrap_type': 'Bayesian', 'grow_policy': 'Depthwise', 'learning_rate': 0.01087648247614823, 'l2_leaf_reg': 0.0008656716459564876, 'depth': 4, 'random_strength': 20.358059841383625, 'min_data_in_leaf': 94, 'bagging_temperature': 27.770964001124963}. Best is trial 236 with value: 0.2204946060949904.\n"
     ]
    },
    {
     "name": "stdout",
     "output_type": "stream",
     "text": [
      "Repeat \u001b[1m\u001b[34m#1\n",
      "Repeat \u001b[1m\u001b[34m#2\n",
      "Repeat \u001b[1m\u001b[34m#3\n"
     ]
    },
    {
     "name": "stderr",
     "output_type": "stream",
     "text": [
      "[I 2023-06-17 18:02:16,923] Trial 958 finished with value: 0.23347259953454036 and parameters: {'bootstrap_type': 'Bayesian', 'grow_policy': 'Depthwise', 'learning_rate': 0.12568453218897582, 'l2_leaf_reg': 7.8977354276353555, 'depth': 4, 'random_strength': 42.16435288070868, 'min_data_in_leaf': 88, 'bagging_temperature': 33.18774372034586}. Best is trial 236 with value: 0.2204946060949904.\n"
     ]
    },
    {
     "name": "stdout",
     "output_type": "stream",
     "text": [
      "Repeat \u001b[1m\u001b[34m#1\n",
      "Repeat \u001b[1m\u001b[34m#2\n",
      "Repeat \u001b[1m\u001b[34m#3\n"
     ]
    },
    {
     "name": "stderr",
     "output_type": "stream",
     "text": [
      "[I 2023-06-17 18:02:23,614] Trial 959 finished with value: 0.2417583427874838 and parameters: {'bootstrap_type': 'Bernoulli', 'grow_policy': 'Lossguide', 'learning_rate': 0.0793841705378666, 'l2_leaf_reg': 4.545838064131814, 'depth': 5, 'random_strength': 23.58096730884509, 'min_data_in_leaf': 32, 'subsample': 0.47406950838907025, 'max_leaves': 67}. Best is trial 236 with value: 0.2204946060949904.\n"
     ]
    },
    {
     "name": "stdout",
     "output_type": "stream",
     "text": [
      "Repeat \u001b[1m\u001b[34m#1\n",
      "Repeat \u001b[1m\u001b[34m#2\n",
      "Repeat \u001b[1m\u001b[34m#3\n"
     ]
    },
    {
     "name": "stderr",
     "output_type": "stream",
     "text": [
      "[I 2023-06-17 18:03:25,385] Trial 960 finished with value: 0.26401507760813553 and parameters: {'bootstrap_type': 'Bayesian', 'grow_policy': 'SymmetricTree', 'learning_rate': 0.0440008991459069, 'l2_leaf_reg': 17.471670201634478, 'depth': 4, 'random_strength': 49.83509404136191, 'min_data_in_leaf': 54, 'bagging_temperature': 44.88088652438317, 'boosting_type': 'Ordered'}. Best is trial 236 with value: 0.2204946060949904.\n"
     ]
    },
    {
     "name": "stdout",
     "output_type": "stream",
     "text": [
      "Repeat \u001b[1m\u001b[34m#1\n",
      "Repeat \u001b[1m\u001b[34m#2\n",
      "Repeat \u001b[1m\u001b[34m#3\n"
     ]
    },
    {
     "name": "stderr",
     "output_type": "stream",
     "text": [
      "[I 2023-06-17 18:03:26,222] Trial 961 finished with value: 0.6931547958149178 and parameters: {'bootstrap_type': 'Bayesian', 'grow_policy': 'Depthwise', 'learning_rate': 0.0015005246350046728, 'l2_leaf_reg': 0.000427433453141175, 'depth': 4, 'random_strength': 62.5723386941832, 'min_data_in_leaf': 46, 'bagging_temperature': 80.07755727755215}. Best is trial 236 with value: 0.2204946060949904.\n"
     ]
    },
    {
     "name": "stdout",
     "output_type": "stream",
     "text": [
      "Repeat \u001b[1m\u001b[34m#1\n",
      "Repeat \u001b[1m\u001b[34m#2\n",
      "Repeat \u001b[1m\u001b[34m#3\n"
     ]
    },
    {
     "name": "stderr",
     "output_type": "stream",
     "text": [
      "[I 2023-06-17 18:04:08,935] Trial 962 finished with value: 0.28279694203305716 and parameters: {'bootstrap_type': 'Bayesian', 'grow_policy': 'Depthwise', 'learning_rate': 0.002669027103186068, 'l2_leaf_reg': 0.00029893980194103335, 'depth': 10, 'random_strength': 39.688505904314354, 'min_data_in_leaf': 96, 'bagging_temperature': 37.2282027543772}. Best is trial 236 with value: 0.2204946060949904.\n"
     ]
    },
    {
     "name": "stdout",
     "output_type": "stream",
     "text": [
      "Repeat \u001b[1m\u001b[34m#1\n",
      "Repeat \u001b[1m\u001b[34m#2\n",
      "Repeat \u001b[1m\u001b[34m#3\n"
     ]
    },
    {
     "name": "stderr",
     "output_type": "stream",
     "text": [
      "[I 2023-06-17 18:04:15,743] Trial 963 finished with value: 0.24762725818586717 and parameters: {'bootstrap_type': 'Bayesian', 'grow_policy': 'Depthwise', 'learning_rate': 0.09837040790769226, 'l2_leaf_reg': 1.5165855738281462, 'depth': 4, 'random_strength': 35.27414026178606, 'min_data_in_leaf': 91, 'bagging_temperature': 35.514365059214825}. Best is trial 236 with value: 0.2204946060949904.\n"
     ]
    },
    {
     "name": "stdout",
     "output_type": "stream",
     "text": [
      "Repeat \u001b[1m\u001b[34m#1\n",
      "Repeat \u001b[1m\u001b[34m#2\n",
      "Repeat \u001b[1m\u001b[34m#3\n"
     ]
    },
    {
     "name": "stderr",
     "output_type": "stream",
     "text": [
      "[I 2023-06-17 18:04:19,044] Trial 964 finished with value: 0.3037745618387442 and parameters: {'bootstrap_type': 'Bayesian', 'grow_policy': 'Depthwise', 'learning_rate': 0.18720198988642597, 'l2_leaf_reg': 9.846197296700854e-07, 'depth': 4, 'random_strength': 32.75696677529718, 'min_data_in_leaf': 93, 'bagging_temperature': 41.22213749278474}. Best is trial 236 with value: 0.2204946060949904.\n"
     ]
    },
    {
     "name": "stdout",
     "output_type": "stream",
     "text": [
      "Repeat \u001b[1m\u001b[34m#1\n",
      "Repeat \u001b[1m\u001b[34m#2\n",
      "Repeat \u001b[1m\u001b[34m#3\n"
     ]
    },
    {
     "name": "stderr",
     "output_type": "stream",
     "text": [
      "[I 2023-06-17 18:04:57,053] Trial 965 finished with value: 0.5023973755336504 and parameters: {'bootstrap_type': 'Bayesian', 'grow_policy': 'Depthwise', 'learning_rate': 0.00041237317167727456, 'l2_leaf_reg': 1.1158780142615342e-06, 'depth': 4, 'random_strength': 59.358063112309395, 'min_data_in_leaf': 97, 'bagging_temperature': 31.585808190709503}. Best is trial 236 with value: 0.2204946060949904.\n"
     ]
    },
    {
     "name": "stdout",
     "output_type": "stream",
     "text": [
      "Repeat \u001b[1m\u001b[34m#1\n",
      "Repeat \u001b[1m\u001b[34m#2\n",
      "Repeat \u001b[1m\u001b[34m#3\n"
     ]
    },
    {
     "name": "stderr",
     "output_type": "stream",
     "text": [
      "[I 2023-06-17 18:05:02,967] Trial 966 finished with value: 0.25673445608890755 and parameters: {'bootstrap_type': 'Bayesian', 'grow_policy': 'Depthwise', 'learning_rate': 0.058565029154413514, 'l2_leaf_reg': 6.888127128500213e-08, 'depth': 4, 'random_strength': 61.40455227169997, 'min_data_in_leaf': 100, 'bagging_temperature': 20.487221204277848}. Best is trial 236 with value: 0.2204946060949904.\n"
     ]
    },
    {
     "name": "stdout",
     "output_type": "stream",
     "text": [
      "Repeat \u001b[1m\u001b[34m#1\n",
      "Repeat \u001b[1m\u001b[34m#2\n",
      "Repeat \u001b[1m\u001b[34m#3\n"
     ]
    },
    {
     "name": "stderr",
     "output_type": "stream",
     "text": [
      "[I 2023-06-17 18:05:03,781] Trial 967 finished with value: 0.6933539840484576 and parameters: {'bootstrap_type': 'Bayesian', 'grow_policy': 'Depthwise', 'learning_rate': 0.040817694313193764, 'l2_leaf_reg': 2.6310413836701896, 'depth': 4, 'random_strength': 64.25893933615616, 'min_data_in_leaf': 95, 'bagging_temperature': 70.78476101701648}. Best is trial 236 with value: 0.2204946060949904.\n"
     ]
    },
    {
     "name": "stdout",
     "output_type": "stream",
     "text": [
      "Repeat \u001b[1m\u001b[34m#1\n",
      "Repeat \u001b[1m\u001b[34m#2\n",
      "Repeat \u001b[1m\u001b[34m#3\n"
     ]
    },
    {
     "name": "stderr",
     "output_type": "stream",
     "text": [
      "[I 2023-06-17 18:05:11,344] Trial 968 finished with value: 0.23609321706038444 and parameters: {'bootstrap_type': 'Bayesian', 'grow_policy': 'Lossguide', 'learning_rate': 0.07483497995408481, 'l2_leaf_reg': 0.388782755399882, 'depth': 4, 'random_strength': 56.952710524186045, 'min_data_in_leaf': 89, 'bagging_temperature': 17.737587181975698, 'max_leaves': 59}. Best is trial 236 with value: 0.2204946060949904.\n"
     ]
    },
    {
     "name": "stdout",
     "output_type": "stream",
     "text": [
      "Repeat \u001b[1m\u001b[34m#1\n",
      "Repeat \u001b[1m\u001b[34m#2\n",
      "Repeat \u001b[1m\u001b[34m#3\n"
     ]
    },
    {
     "name": "stderr",
     "output_type": "stream",
     "text": [
      "[I 2023-06-17 18:05:20,610] Trial 969 finished with value: 0.24611819741354934 and parameters: {'bootstrap_type': 'Bayesian', 'grow_policy': 'Depthwise', 'learning_rate': 0.03498657562934666, 'l2_leaf_reg': 0.0001642905661199279, 'depth': 4, 'random_strength': 15.856177239122935, 'min_data_in_leaf': 92, 'bagging_temperature': 29.10094283599326}. Best is trial 236 with value: 0.2204946060949904.\n"
     ]
    },
    {
     "name": "stdout",
     "output_type": "stream",
     "text": [
      "Repeat \u001b[1m\u001b[34m#1\n",
      "Repeat \u001b[1m\u001b[34m#2\n",
      "Repeat \u001b[1m\u001b[34m#3\n"
     ]
    },
    {
     "name": "stderr",
     "output_type": "stream",
     "text": [
      "[I 2023-06-17 18:05:23,724] Trial 970 finished with value: 0.2786645335754147 and parameters: {'bootstrap_type': 'MVS', 'grow_policy': 'Depthwise', 'learning_rate': 0.24838319521488295, 'l2_leaf_reg': 0.03787693652407295, 'depth': 4, 'random_strength': 84.51425067220983, 'min_data_in_leaf': 98}. Best is trial 236 with value: 0.2204946060949904.\n"
     ]
    },
    {
     "name": "stdout",
     "output_type": "stream",
     "text": [
      "Repeat \u001b[1m\u001b[34m#1\n",
      "Repeat \u001b[1m\u001b[34m#2\n",
      "Repeat \u001b[1m\u001b[34m#3\n"
     ]
    },
    {
     "name": "stderr",
     "output_type": "stream",
     "text": [
      "[I 2023-06-17 18:05:24,587] Trial 971 finished with value: 0.6931568320481913 and parameters: {'bootstrap_type': 'Bayesian', 'grow_policy': 'Depthwise', 'learning_rate': 0.0019016304105152002, 'l2_leaf_reg': 3.258626131839251e-07, 'depth': 4, 'random_strength': 37.84093886400256, 'min_data_in_leaf': 86, 'bagging_temperature': 92.93682711024113}. Best is trial 236 with value: 0.2204946060949904.\n"
     ]
    },
    {
     "name": "stdout",
     "output_type": "stream",
     "text": [
      "Repeat \u001b[1m\u001b[34m#1\n",
      "Repeat \u001b[1m\u001b[34m#2\n",
      "Repeat \u001b[1m\u001b[34m#3\n"
     ]
    },
    {
     "name": "stderr",
     "output_type": "stream",
     "text": [
      "[I 2023-06-17 18:05:25,494] Trial 972 finished with value: 0.6916580451489778 and parameters: {'bootstrap_type': 'Bayesian', 'grow_policy': 'Depthwise', 'learning_rate': 0.029801257676927425, 'l2_leaf_reg': 4.05707175866887, 'depth': 4, 'random_strength': 92.29695920832597, 'min_data_in_leaf': 94, 'bagging_temperature': 61.78194078056005}. Best is trial 236 with value: 0.2204946060949904.\n"
     ]
    },
    {
     "name": "stdout",
     "output_type": "stream",
     "text": [
      "Repeat \u001b[1m\u001b[34m#1\n",
      "Repeat \u001b[1m\u001b[34m#2\n",
      "Repeat \u001b[1m\u001b[34m#3\n"
     ]
    },
    {
     "name": "stderr",
     "output_type": "stream",
     "text": [
      "[I 2023-06-17 18:06:03,353] Trial 973 finished with value: 0.5817671126004725 and parameters: {'bootstrap_type': 'Bayesian', 'grow_policy': 'Depthwise', 'learning_rate': 0.00020704510749620548, 'l2_leaf_reg': 0.015228271557078494, 'depth': 4, 'random_strength': 44.056353560853246, 'min_data_in_leaf': 96, 'bagging_temperature': 34.11439916774544}. Best is trial 236 with value: 0.2204946060949904.\n"
     ]
    },
    {
     "name": "stdout",
     "output_type": "stream",
     "text": [
      "Repeat \u001b[1m\u001b[34m#1\n",
      "Repeat \u001b[1m\u001b[34m#2\n",
      "Repeat \u001b[1m\u001b[34m#3\n"
     ]
    },
    {
     "name": "stderr",
     "output_type": "stream",
     "text": [
      "[I 2023-06-17 18:06:04,206] Trial 974 finished with value: 0.6931400794940407 and parameters: {'bootstrap_type': 'Bayesian', 'grow_policy': 'Depthwise', 'learning_rate': 0.0001952305724099199, 'l2_leaf_reg': 9.266670527549339, 'depth': 4, 'random_strength': 48.18298547233316, 'min_data_in_leaf': 92, 'bagging_temperature': 62.744827005483714}. Best is trial 236 with value: 0.2204946060949904.\n"
     ]
    },
    {
     "name": "stdout",
     "output_type": "stream",
     "text": [
      "Repeat \u001b[1m\u001b[34m#1\n",
      "Repeat \u001b[1m\u001b[34m#2\n",
      "Repeat \u001b[1m\u001b[34m#3\n"
     ]
    },
    {
     "name": "stderr",
     "output_type": "stream",
     "text": [
      "[I 2023-06-17 18:06:14,279] Trial 975 finished with value: 0.22399708234600257 and parameters: {'bootstrap_type': 'Bayesian', 'grow_policy': 'Depthwise', 'learning_rate': 0.051611554775076014, 'l2_leaf_reg': 0.5561369755432878, 'depth': 4, 'random_strength': 76.74436658635472, 'min_data_in_leaf': 90, 'bagging_temperature': 38.48531248316735}. Best is trial 236 with value: 0.2204946060949904.\n"
     ]
    },
    {
     "name": "stdout",
     "output_type": "stream",
     "text": [
      "Repeat \u001b[1m\u001b[34m#1\n",
      "Repeat \u001b[1m\u001b[34m#2\n",
      "Repeat \u001b[1m\u001b[34m#3\n"
     ]
    },
    {
     "name": "stderr",
     "output_type": "stream",
     "text": [
      "[I 2023-06-17 18:06:22,726] Trial 976 finished with value: 0.24420534451433476 and parameters: {'bootstrap_type': 'Bayesian', 'grow_policy': 'Depthwise', 'learning_rate': 0.05759039168430485, 'l2_leaf_reg': 0.23954161211948977, 'depth': 4, 'random_strength': 78.04240898006567, 'min_data_in_leaf': 87, 'bagging_temperature': 38.957632895046444}. Best is trial 236 with value: 0.2204946060949904.\n"
     ]
    },
    {
     "name": "stdout",
     "output_type": "stream",
     "text": [
      "Repeat \u001b[1m\u001b[34m#1\n",
      "Repeat \u001b[1m\u001b[34m#2\n",
      "Repeat \u001b[1m\u001b[34m#3\n"
     ]
    },
    {
     "name": "stderr",
     "output_type": "stream",
     "text": [
      "[I 2023-06-17 18:06:32,483] Trial 977 finished with value: 0.24082369893985134 and parameters: {'bootstrap_type': 'Bayesian', 'grow_policy': 'Lossguide', 'learning_rate': 0.05062610817560112, 'l2_leaf_reg': 0.5560561678380946, 'depth': 5, 'random_strength': 9.26572943372328, 'min_data_in_leaf': 89, 'bagging_temperature': 42.838034023132444, 'max_leaves': 13}. Best is trial 236 with value: 0.2204946060949904.\n"
     ]
    },
    {
     "name": "stdout",
     "output_type": "stream",
     "text": [
      "Repeat \u001b[1m\u001b[34m#1\n",
      "Repeat \u001b[1m\u001b[34m#2\n",
      "Repeat \u001b[1m\u001b[34m#3\n"
     ]
    },
    {
     "name": "stderr",
     "output_type": "stream",
     "text": [
      "[I 2023-06-17 18:06:41,491] Trial 978 finished with value: 0.24246026698844755 and parameters: {'bootstrap_type': 'Bayesian', 'grow_policy': 'Depthwise', 'learning_rate': 0.04941932309085773, 'l2_leaf_reg': 0.1865716352217704, 'depth': 4, 'random_strength': 76.41590370973842, 'min_data_in_leaf': 76, 'bagging_temperature': 40.2180273318218}. Best is trial 236 with value: 0.2204946060949904.\n"
     ]
    },
    {
     "name": "stdout",
     "output_type": "stream",
     "text": [
      "Repeat \u001b[1m\u001b[34m#1\n",
      "Repeat \u001b[1m\u001b[34m#2\n",
      "Repeat \u001b[1m\u001b[34m#3\n"
     ]
    },
    {
     "name": "stderr",
     "output_type": "stream",
     "text": [
      "[I 2023-06-17 18:06:47,733] Trial 979 finished with value: 0.24134764671033948 and parameters: {'bootstrap_type': 'Bayesian', 'grow_policy': 'Depthwise', 'learning_rate': 0.0662463828341989, 'l2_leaf_reg': 0.113048019970892, 'depth': 4, 'random_strength': 78.45717364874889, 'min_data_in_leaf': 85, 'bagging_temperature': 5.803144386960604}. Best is trial 236 with value: 0.2204946060949904.\n"
     ]
    },
    {
     "name": "stdout",
     "output_type": "stream",
     "text": [
      "Repeat \u001b[1m\u001b[34m#1\n",
      "Repeat \u001b[1m\u001b[34m#2\n",
      "Repeat \u001b[1m\u001b[34m#3\n"
     ]
    },
    {
     "name": "stderr",
     "output_type": "stream",
     "text": [
      "[I 2023-06-17 18:07:04,216] Trial 980 finished with value: 0.23473372059780626 and parameters: {'bootstrap_type': 'Bayesian', 'grow_policy': 'Depthwise', 'learning_rate': 0.039744388938911315, 'l2_leaf_reg': 33.18904840351467, 'depth': 4, 'random_strength': 74.99258730193802, 'min_data_in_leaf': 89, 'bagging_temperature': 38.63994075229335}. Best is trial 236 with value: 0.2204946060949904.\n"
     ]
    },
    {
     "name": "stdout",
     "output_type": "stream",
     "text": [
      "Repeat \u001b[1m\u001b[34m#1\n",
      "Repeat \u001b[1m\u001b[34m#2\n",
      "Repeat \u001b[1m\u001b[34m#3\n"
     ]
    },
    {
     "name": "stderr",
     "output_type": "stream",
     "text": [
      "[I 2023-06-17 18:07:12,537] Trial 981 finished with value: 0.23741737474459515 and parameters: {'bootstrap_type': 'Bayesian', 'grow_policy': 'Depthwise', 'learning_rate': 0.060123956234048856, 'l2_leaf_reg': 0.336007264147331, 'depth': 4, 'random_strength': 80.71536477731567, 'min_data_in_leaf': 82, 'bagging_temperature': 37.06051056403194}. Best is trial 236 with value: 0.2204946060949904.\n"
     ]
    },
    {
     "name": "stdout",
     "output_type": "stream",
     "text": [
      "Repeat \u001b[1m\u001b[34m#1\n",
      "Repeat \u001b[1m\u001b[34m#2\n",
      "Repeat \u001b[1m\u001b[34m#3\n"
     ]
    },
    {
     "name": "stderr",
     "output_type": "stream",
     "text": [
      "[I 2023-06-17 18:07:17,117] Trial 982 finished with value: 0.32846201226271127 and parameters: {'bootstrap_type': 'Bernoulli', 'grow_policy': 'SymmetricTree', 'learning_rate': 0.047583814574106424, 'l2_leaf_reg': 0.0011651223513029847, 'depth': 4, 'random_strength': 78.1626282372484, 'min_data_in_leaf': 90, 'subsample': 0.5059453975389168, 'boosting_type': 'Plain'}. Best is trial 236 with value: 0.2204946060949904.\n"
     ]
    },
    {
     "name": "stdout",
     "output_type": "stream",
     "text": [
      "Repeat \u001b[1m\u001b[34m#1\n",
      "Repeat \u001b[1m\u001b[34m#2\n",
      "Repeat \u001b[1m\u001b[34m#3\n"
     ]
    },
    {
     "name": "stderr",
     "output_type": "stream",
     "text": [
      "[I 2023-06-17 18:07:18,001] Trial 983 finished with value: 0.6933691241547629 and parameters: {'bootstrap_type': 'Bayesian', 'grow_policy': 'Depthwise', 'learning_rate': 0.04349810973789351, 'l2_leaf_reg': 3.1637402648550646e-05, 'depth': 6, 'random_strength': 27.690281860419795, 'min_data_in_leaf': 87, 'bagging_temperature': 66.87782561249566}. Best is trial 236 with value: 0.2204946060949904.\n"
     ]
    },
    {
     "name": "stdout",
     "output_type": "stream",
     "text": [
      "Repeat \u001b[1m\u001b[34m#1\n",
      "Repeat \u001b[1m\u001b[34m#2\n",
      "Repeat \u001b[1m\u001b[34m#3\n"
     ]
    },
    {
     "name": "stderr",
     "output_type": "stream",
     "text": [
      "[I 2023-06-17 18:07:18,833] Trial 984 finished with value: 0.6931944326208468 and parameters: {'bootstrap_type': 'Bayesian', 'grow_policy': 'Depthwise', 'learning_rate': 0.009301247831686794, 'l2_leaf_reg': 3.580117341187787e-06, 'depth': 4, 'random_strength': 76.61512979565308, 'min_data_in_leaf': 90, 'bagging_temperature': 72.16579145762998}. Best is trial 236 with value: 0.2204946060949904.\n"
     ]
    },
    {
     "name": "stdout",
     "output_type": "stream",
     "text": [
      "Repeat \u001b[1m\u001b[34m#1\n",
      "Repeat \u001b[1m\u001b[34m#2\n",
      "Repeat \u001b[1m\u001b[34m#3\n"
     ]
    },
    {
     "name": "stderr",
     "output_type": "stream",
     "text": [
      "[I 2023-06-17 18:07:56,073] Trial 985 finished with value: 0.2757013134606811 and parameters: {'bootstrap_type': 'Bayesian', 'grow_policy': 'Depthwise', 'learning_rate': 0.0060920350201508254, 'l2_leaf_reg': 58.881220900264964, 'depth': 4, 'random_strength': 11.213362448785148, 'min_data_in_leaf': 88, 'bagging_temperature': 42.33172128818144}. Best is trial 236 with value: 0.2204946060949904.\n"
     ]
    },
    {
     "name": "stdout",
     "output_type": "stream",
     "text": [
      "Repeat \u001b[1m\u001b[34m#1\n",
      "Repeat \u001b[1m\u001b[34m#2\n",
      "Repeat \u001b[1m\u001b[34m#3\n"
     ]
    },
    {
     "name": "stderr",
     "output_type": "stream",
     "text": [
      "[I 2023-06-17 18:08:34,638] Trial 986 finished with value: 0.3352422217836808 and parameters: {'bootstrap_type': 'Bayesian', 'grow_policy': 'Lossguide', 'learning_rate': 0.0016391963506897686, 'l2_leaf_reg': 1.2339253722851336e-05, 'depth': 4, 'random_strength': 51.78523541333681, 'min_data_in_leaf': 85, 'bagging_temperature': 36.08549971367641, 'max_leaves': 80}. Best is trial 236 with value: 0.2204946060949904.\n"
     ]
    },
    {
     "name": "stdout",
     "output_type": "stream",
     "text": [
      "Repeat \u001b[1m\u001b[34m#1\n",
      "Repeat \u001b[1m\u001b[34m#2\n",
      "Repeat \u001b[1m\u001b[34m#3\n"
     ]
    },
    {
     "name": "stderr",
     "output_type": "stream",
     "text": [
      "[I 2023-06-17 18:08:45,792] Trial 987 finished with value: 0.22173708169037046 and parameters: {'bootstrap_type': 'Bayesian', 'grow_policy': 'Depthwise', 'learning_rate': 0.06649237843685284, 'l2_leaf_reg': 17.700098844709, 'depth': 4, 'random_strength': 73.19722154731541, 'min_data_in_leaf': 91, 'bagging_temperature': 44.73607249894448}. Best is trial 236 with value: 0.2204946060949904.\n"
     ]
    },
    {
     "name": "stdout",
     "output_type": "stream",
     "text": [
      "Repeat \u001b[1m\u001b[34m#1\n",
      "Repeat \u001b[1m\u001b[34m#2\n",
      "Repeat \u001b[1m\u001b[34m#3\n"
     ]
    },
    {
     "name": "stderr",
     "output_type": "stream",
     "text": [
      "[I 2023-06-17 18:08:57,323] Trial 988 finished with value: 0.23136908597670583 and parameters: {'bootstrap_type': 'Bayesian', 'grow_policy': 'Depthwise', 'learning_rate': 0.07049552567282123, 'l2_leaf_reg': 18.144652491161814, 'depth': 4, 'random_strength': 73.93318471956762, 'min_data_in_leaf': 73, 'bagging_temperature': 42.9424923141209}. Best is trial 236 with value: 0.2204946060949904.\n"
     ]
    },
    {
     "name": "stdout",
     "output_type": "stream",
     "text": [
      "Repeat \u001b[1m\u001b[34m#1\n",
      "Repeat \u001b[1m\u001b[34m#2\n",
      "Repeat \u001b[1m\u001b[34m#3\n"
     ]
    },
    {
     "name": "stderr",
     "output_type": "stream",
     "text": [
      "[I 2023-06-17 18:09:07,264] Trial 989 finished with value: 0.23397351013393208 and parameters: {'bootstrap_type': 'Bayesian', 'grow_policy': 'Depthwise', 'learning_rate': 0.06723326601844119, 'l2_leaf_reg': 12.198099683567667, 'depth': 4, 'random_strength': 81.86232052498522, 'min_data_in_leaf': 91, 'bagging_temperature': 43.59564502354948}. Best is trial 236 with value: 0.2204946060949904.\n"
     ]
    },
    {
     "name": "stdout",
     "output_type": "stream",
     "text": [
      "Repeat \u001b[1m\u001b[34m#1\n",
      "Repeat \u001b[1m\u001b[34m#2\n",
      "Repeat \u001b[1m\u001b[34m#3\n"
     ]
    },
    {
     "name": "stderr",
     "output_type": "stream",
     "text": [
      "[I 2023-06-17 18:09:34,566] Trial 990 finished with value: 0.4547887177258285 and parameters: {'bootstrap_type': 'Bayesian', 'grow_policy': 'Depthwise', 'learning_rate': 0.0011995392650485561, 'l2_leaf_reg': 0.00020277898862184325, 'depth': 4, 'random_strength': 73.4176503787421, 'min_data_in_leaf': 92, 'bagging_temperature': 47.06544389953293}. Best is trial 236 with value: 0.2204946060949904.\n"
     ]
    },
    {
     "name": "stdout",
     "output_type": "stream",
     "text": [
      "Repeat \u001b[1m\u001b[34m#1\n",
      "Repeat \u001b[1m\u001b[34m#2\n",
      "Repeat \u001b[1m\u001b[34m#3\n"
     ]
    },
    {
     "name": "stderr",
     "output_type": "stream",
     "text": [
      "[I 2023-06-17 18:09:42,813] Trial 991 finished with value: 0.23591136377838673 and parameters: {'bootstrap_type': 'Bayesian', 'grow_policy': 'Depthwise', 'learning_rate': 0.08561382968571664, 'l2_leaf_reg': 25.84665548019063, 'depth': 4, 'random_strength': 74.98236694151981, 'min_data_in_leaf': 93, 'bagging_temperature': 12.18776795959595}. Best is trial 236 with value: 0.2204946060949904.\n"
     ]
    },
    {
     "name": "stdout",
     "output_type": "stream",
     "text": [
      "Repeat \u001b[1m\u001b[34m#1\n",
      "Repeat \u001b[1m\u001b[34m#2\n",
      "Repeat \u001b[1m\u001b[34m#3\n"
     ]
    },
    {
     "name": "stderr",
     "output_type": "stream",
     "text": [
      "[I 2023-06-17 18:09:46,482] Trial 992 finished with value: 0.28198022830892616 and parameters: {'bootstrap_type': 'MVS', 'grow_policy': 'Depthwise', 'learning_rate': 0.08056340541508518, 'l2_leaf_reg': 1.0848540871228424e-05, 'depth': 4, 'random_strength': 71.94667558705858, 'min_data_in_leaf': 91}. Best is trial 236 with value: 0.2204946060949904.\n"
     ]
    },
    {
     "name": "stdout",
     "output_type": "stream",
     "text": [
      "Repeat \u001b[1m\u001b[34m#1\n",
      "Repeat \u001b[1m\u001b[34m#2\n",
      "Repeat \u001b[1m\u001b[34m#3\n"
     ]
    },
    {
     "name": "stderr",
     "output_type": "stream",
     "text": [
      "[I 2023-06-17 18:09:58,097] Trial 993 finished with value: 0.23373135760662947 and parameters: {'bootstrap_type': 'Bayesian', 'grow_policy': 'Depthwise', 'learning_rate': 0.06243572152997286, 'l2_leaf_reg': 13.992548236534379, 'depth': 5, 'random_strength': 75.86922332837256, 'min_data_in_leaf': 93, 'bagging_temperature': 44.80885444613127}. Best is trial 236 with value: 0.2204946060949904.\n"
     ]
    },
    {
     "name": "stdout",
     "output_type": "stream",
     "text": [
      "Repeat \u001b[1m\u001b[34m#1\n",
      "Repeat \u001b[1m\u001b[34m#2\n",
      "Repeat \u001b[1m\u001b[34m#3\n"
     ]
    },
    {
     "name": "stderr",
     "output_type": "stream",
     "text": [
      "[I 2023-06-17 18:10:06,510] Trial 994 finished with value: 0.23306782488399078 and parameters: {'bootstrap_type': 'Bayesian', 'grow_policy': 'Depthwise', 'learning_rate': 0.1018406470025869, 'l2_leaf_reg': 37.046626009823086, 'depth': 4, 'random_strength': 79.15495807711552, 'min_data_in_leaf': 94, 'bagging_temperature': 40.54999359105138}. Best is trial 236 with value: 0.2204946060949904.\n"
     ]
    },
    {
     "name": "stdout",
     "output_type": "stream",
     "text": [
      "Repeat \u001b[1m\u001b[34m#1\n",
      "Repeat \u001b[1m\u001b[34m#2\n",
      "Repeat \u001b[1m\u001b[34m#3\n"
     ]
    },
    {
     "name": "stderr",
     "output_type": "stream",
     "text": [
      "[I 2023-06-17 18:10:07,331] Trial 995 finished with value: 0.6931479813958875 and parameters: {'bootstrap_type': 'Bayesian', 'grow_policy': 'Lossguide', 'learning_rate': 0.0001584221305072622, 'l2_leaf_reg': 8.388634078446474, 'depth': 4, 'random_strength': 72.64145227899876, 'min_data_in_leaf': 91, 'bagging_temperature': 96.35424858663905, 'max_leaves': 83}. Best is trial 236 with value: 0.2204946060949904.\n"
     ]
    },
    {
     "name": "stdout",
     "output_type": "stream",
     "text": [
      "Repeat \u001b[1m\u001b[34m#1\n",
      "Repeat \u001b[1m\u001b[34m#2\n",
      "Repeat \u001b[1m\u001b[34m#3\n"
     ]
    },
    {
     "name": "stderr",
     "output_type": "stream",
     "text": [
      "[I 2023-06-17 18:10:39,513] Trial 996 finished with value: 0.27524728172669777 and parameters: {'bootstrap_type': 'Bayesian', 'grow_policy': 'Depthwise', 'learning_rate': 0.004541231832685024, 'l2_leaf_reg': 8.269958087936342e-06, 'depth': 4, 'random_strength': 74.3593278375699, 'min_data_in_leaf': 95, 'bagging_temperature': 0.4911040966807363}. Best is trial 236 with value: 0.2204946060949904.\n"
     ]
    },
    {
     "name": "stdout",
     "output_type": "stream",
     "text": [
      "Repeat \u001b[1m\u001b[34m#1\n",
      "Repeat \u001b[1m\u001b[34m#2\n",
      "Repeat \u001b[1m\u001b[34m#3\n"
     ]
    },
    {
     "name": "stderr",
     "output_type": "stream",
     "text": [
      "[I 2023-06-17 18:10:51,525] Trial 997 finished with value: 0.2262975868565699 and parameters: {'bootstrap_type': 'Bayesian', 'grow_policy': 'Depthwise', 'learning_rate': 0.055484823672703, 'l2_leaf_reg': 7.042526272629492, 'depth': 4, 'random_strength': 77.25887375363196, 'min_data_in_leaf': 93, 'bagging_temperature': 45.90488031785635}. Best is trial 236 with value: 0.2204946060949904.\n"
     ]
    },
    {
     "name": "stdout",
     "output_type": "stream",
     "text": [
      "Repeat \u001b[1m\u001b[34m#1\n",
      "Repeat \u001b[1m\u001b[34m#2\n",
      "Repeat \u001b[1m\u001b[34m#3\n"
     ]
    },
    {
     "name": "stderr",
     "output_type": "stream",
     "text": [
      "[I 2023-06-17 18:11:01,151] Trial 998 finished with value: 0.23448264790941065 and parameters: {'bootstrap_type': 'Bayesian', 'grow_policy': 'Depthwise', 'learning_rate': 0.07566476234199819, 'l2_leaf_reg': 17.67734811917549, 'depth': 4, 'random_strength': 72.41393802431217, 'min_data_in_leaf': 90, 'bagging_temperature': 42.34228767627511}. Best is trial 236 with value: 0.2204946060949904.\n"
     ]
    },
    {
     "name": "stdout",
     "output_type": "stream",
     "text": [
      "Repeat \u001b[1m\u001b[34m#1\n",
      "Repeat \u001b[1m\u001b[34m#2\n",
      "Repeat \u001b[1m\u001b[34m#3\n"
     ]
    },
    {
     "name": "stderr",
     "output_type": "stream",
     "text": [
      "[I 2023-06-17 18:11:38,608] Trial 999 finished with value: 0.39479026071303513 and parameters: {'bootstrap_type': 'Bayesian', 'grow_policy': 'Depthwise', 'learning_rate': 0.0010148345305654365, 'l2_leaf_reg': 8.53454206415739e-08, 'depth': 4, 'random_strength': 58.96481411185451, 'min_data_in_leaf': 98, 'bagging_temperature': 39.60254314302713}. Best is trial 236 with value: 0.2204946060949904.\n"
     ]
    },
    {
     "name": "stdout",
     "output_type": "stream",
     "text": [
      "Number of finished trials: 1000\n",
      "Best trial:\n",
      "  Value: 0.2204946060949904\n",
      "  Params: \n",
      "    bootstrap_type: Bayesian\n",
      "    grow_policy: Depthwise\n",
      "    learning_rate: 0.10165458137073116\n",
      "    l2_leaf_reg: 10.997113865371967\n",
      "    depth: 4\n",
      "    random_strength: 61.17292817727494\n",
      "    min_data_in_leaf: 93\n",
      "    bagging_temperature: 40.10274445507417\n"
     ]
    }
   ],
   "source": [
    "from optuna.integration import CatBoostPruningCallback\n",
    "\n",
    "X, y = train_df[features], train_df['Class']\n",
    "\n",
    "def objective(trial):\n",
    "    \n",
    "    bll_list = list()\n",
    "\n",
    "    # Parameters\n",
    "    params = {\n",
    "        'task_type': 'CPU', # GPU\n",
    "        'eval_metric': 'Logloss',\n",
    "        'loss_function': 'Logloss', \n",
    "        'random_seed': 10062023,\n",
    "        'od_type': 'Iter', # Type of overfitting detector - stop after k iteraions\n",
    "        'od_wait': 100, # Overfitting detector - stop training after k iterations without metric improvement\n",
    "#             'metric_period': 100, # Show metric each k iterations\n",
    "        # Hyperparamters (in order of importance decreasing)\n",
    "        'bootstrap_type': trial.suggest_categorical('bootstrap_type', ['Bayesian', 'Bernoulli', 'MVS']),\n",
    "        'grow_policy': trial.suggest_categorical('grow_policy', ['SymmetricTree', 'Depthwise', 'Lossguide']),\n",
    "        'iterations' : 3000, # trial.suggest_int('iterations', 300, 1200),        \n",
    "        'learning_rate' : trial.suggest_loguniform('learning_rate', 1e-4, 3e-1),    \n",
    "        'l2_leaf_reg': trial.suggest_loguniform(\"l2_leaf_reg\", 1e-8, 100),\n",
    "        'depth' : trial.suggest_int('depth', 4, 10),  # Max tree depth                                                   \n",
    "         # increase to deal with overfit\n",
    "        'random_strength': trial.suggest_float('random_strength', 0, 100), # The amount of randomness to use \n",
    "                                                                           # for scoring splits when the tree structure\n",
    "                                                                           # is selected. Helps to avoid overfitting\n",
    "                                                                           # CPU only\n",
    "        # per_float_feature_quantization='0:border_count=1024'\n",
    "        'border_count': 254, # trial.suggest_categorical('border_count', [128, 254]), # The number of splits for numerical features\n",
    "                                                                                      # bigger is better but slowly\n",
    "                                                                                      # alias: max_bin\n",
    "        'min_data_in_leaf': trial.suggest_int('min_data_in_leaf', 5, 100), # Minimal number of data in one leaf\n",
    "                                                                           # aliases: min_child_samples, \n",
    "\n",
    "    }\n",
    "\n",
    "    if not CFG.undersample:\n",
    "        params['scale_pos_weight'] = class_imbalance\n",
    "    \n",
    "    if params[\"bootstrap_type\"] == \"Bayesian\":\n",
    "        params[\"bagging_temperature\"] = trial.suggest_float(\"bagging_temperature\", 0, 100) # Assigns random \n",
    "                                                                                           # weights to objects\n",
    "                                                                                           # works only with \n",
    "                                                                                           # Bayesian bootstrap\n",
    "    if params[\"bootstrap_type\"] == \"Bernoulli\":\n",
    "        params[\"subsample\"] = trial.suggest_float(\"subsample\", 0.3, 1) # Percentage of features to use \n",
    "                                                                        # at each split\n",
    "\n",
    "    if params['grow_policy'] == 'Lossguide': \n",
    "        params['max_leaves'] = trial.suggest_int('max_leaves', 4, 128) # Max number of leaves in one tree \n",
    "                                                                       # decrease to deal with the overfit\n",
    "\n",
    "    if params['grow_policy'] == 'SymmetricTree': \n",
    "        params['boosting_type'] = trial.suggest_categorical('boosting_type', ['Ordered', 'Plain'])\n",
    "    else:\n",
    "        params['boosting_type'] = 'Plain'\n",
    "    \n",
    "    for i in range(CFG.n_optimize_repeats):\n",
    "        print(f'Repeat {blu}#{i+1}')\n",
    "\n",
    "        # Make random under-sampling to balance classes\n",
    "        positive_count_train = train_df['Class'].value_counts()[1]\n",
    "        sampler = RandomUnderSampler(sampling_strategy={0: positive_count_train, \n",
    "                                                        1: positive_count_train}, \n",
    "                                     random_state=15062023+i, \n",
    "                                     replacement=True)\n",
    "\n",
    "        X_re, y_re = pd.concat([train_df[features], greeks.iloc[:,1:4]], axis=1), train_df['Class']\n",
    "        \n",
    "        if CFG.undersample:\n",
    "            X_re, y_re = sampler.fit_resample(X_re, y_re)\n",
    "        \n",
    "        # Create Stratified Multilabel k-Fold scheme\n",
    "        kf = MultilabelStratifiedKFold(n_splits=CFG.n_feature_sel_folds, shuffle=True, random_state=10062023+i)\n",
    "\n",
    "        # Create an oof array for inner loop\n",
    "        oof = np.zeros(X_re.shape[0])\n",
    "\n",
    "        # Stratify based on Class and Alpha (3 types of conditions)\n",
    "        for fold, (train_idx, val_idx) in enumerate(kf.split(X=X_re[features], y=X_re.iloc[:,-3:]), start=1): \n",
    "            X, y = X_re[features], y_re\n",
    "            \n",
    "            # Split the dataset according to the fold indexes.\n",
    "            X_train = X.iloc[train_idx]\n",
    "            X_val = X.iloc[val_idx]\n",
    "            y_train = y.iloc[train_idx]\n",
    "            y_val = y.iloc[val_idx]\n",
    "\n",
    "            train_pool = Pool(X_train, y_train, cat_features=['EJ'])\n",
    "            val_pool = Pool(X_val, y_val, cat_features=['EJ'])\n",
    "\n",
    "            # Learning\n",
    "            model = cat.CatBoostClassifier(**params)     \n",
    "            # Add a callback for pruning\n",
    "#             pruning_callback = optuna.integration.CatBoostPruningCallback(trial, \"Logloss\")\n",
    "            model.fit(train_pool, eval_set=val_pool, verbose=0)#, callbacks=[pruning_callback])\n",
    "            # Evoke pruning manually\n",
    "#                 pruning_callback.check_pruned()\n",
    "            # Predict\n",
    "            val_preds = model.predict_proba(val_pool)[:,1]\n",
    "            oof[val_idx] = val_preds\n",
    "        \n",
    "        bll_list.append(balanced_log_loss(y_re, oof))    \n",
    "    \n",
    "    return np.mean(bll_list)\n",
    "\n",
    "if CFG.cb_optimize:\n",
    "#     study = optuna.create_study(pruner=optuna.pruners.MedianPruner(n_warmup_steps=100), direction=\"minimize\")\n",
    "    study = optuna.create_study(direction=\"minimize\")\n",
    "    study.optimize(objective, n_trials=CFG.n_trials)\n",
    "\n",
    "    print(\"Number of finished trials: {}\".format(len(study.trials)))\n",
    "\n",
    "    print(\"Best trial:\")\n",
    "    trial = study.best_trial\n",
    "\n",
    "    print(\"  Value: {}\".format(trial.value))\n",
    "\n",
    "    print(\"  Params: \")\n",
    "    for key, value in trial.params.items():\n",
    "        print(\"    {}: {}\".format(key, value))\n",
    "\n",
    "    df = study.trials_dataframe()\n",
    "    df.sort_values('value').iloc[:, [1] + list(range(5, 14))]\n",
    "    df.to_csv(f'optuna_catboost.csv')"
   ]
  },
  {
   "cell_type": "markdown",
   "metadata": {},
   "source": [
    "# Load CatBoost parameters"
   ]
  },
  {
   "cell_type": "code",
   "execution_count": 28,
   "metadata": {},
   "outputs": [],
   "source": [
    "import glob\n",
    "\n",
    "if CFG.kaggle:\n",
    "    param_list = glob.glob(\"/kaggle/input/icr-optuna-balanced/optuna_catboost.csv\")\n",
    "else:\n",
    "    param_list = glob.glob(\"optuna_catboost.csv\")\n",
    "\n",
    "models = list()\n",
    "best_cb_params = list()\n",
    "\n",
    "cb_params = pd.DataFrame()\n",
    "\n",
    "for f in param_list:\n",
    "    tmp = pd.read_csv(f, index_col='Unnamed: 0')\n",
    "    if cb_params.shape[0] == 0:\n",
    "        cb_params = tmp\n",
    "    else:\n",
    "        cb_params = pd.concat([cb_params, tmp])\n",
    "        \n",
    "cb_params = cb_params.sort_values('value').head(10)\n",
    "param_cols = [c for c in cb_params.columns if c.startswith('params_')]\n",
    "cb_params = cb_params[param_cols]\n",
    "\n",
    "\n",
    "for idx, row in cb_params.iterrows():\n",
    "    row_dict = {k[7:]: v for k, v in row.items()}\n",
    "    row_dict['task_type'] = 'CPU'\n",
    "    row_dict['eval_metric'] = 'Logloss'\n",
    "    row_dict['loss_function'] = 'Logloss'\n",
    "    row_dict['random_seed'] = 13062023\n",
    "    row_dict['verbose'] = 0\n",
    "    row_dict['od_type'] = 'Iter'\n",
    "    row_dict['od_wait'] = 100\n",
    "    row_dict['border_count'] = 254\n",
    "    row_dict['iterations'] = 3000\n",
    "    row_dict['learning_rate'] = float(row_dict['learning_rate'])\n",
    "    row_dict['l2_leaf_reg'] = float(row_dict['l2_leaf_reg'])\n",
    "    row_dict['depth'] = int(row_dict['depth'])\n",
    "    row_dict['random_strength'] = float(row_dict['random_strength'])\n",
    "    row_dict['min_data_in_leaf'] = int(row_dict['min_data_in_leaf'])\n",
    "    \n",
    "    if not CFG.undersample:\n",
    "        row_dict['scale_pos_weight'] = class_imbalance\n",
    "    \n",
    "    if row_dict[\"bootstrap_type\"] == \"Bayesian\":\n",
    "        row_dict['bagging_temperature'] = float(row_dict['bagging_temperature'])\n",
    "    else:    \n",
    "        row_dict['bagging_temperature'] = None\n",
    "        \n",
    "    if row_dict[\"bootstrap_type\"] == \"Bernoulli\":\n",
    "        row_dict['subsample'] = float(row_dict['subsample'])\n",
    "    else:\n",
    "        row_dict['subsample'] = None\n",
    "    \n",
    "    if row_dict['grow_policy'] == 'Lossguide':\n",
    "        row_dict['max_leaves'] = int(row_dict['max_leaves'])\n",
    "    else:\n",
    "        row_dict['max_leaves'] = None\n",
    "    \n",
    "    if row_dict['grow_policy'] != 'SymmetricTree':\n",
    "        row_dict['boosting_type'] = 'Plain'\n",
    "    \n",
    "    best_cb_params.append(row_dict)"
   ]
  },
  {
   "cell_type": "markdown",
   "metadata": {},
   "source": [
    "# CatBoost train"
   ]
  },
  {
   "cell_type": "code",
   "execution_count": 29,
   "metadata": {
    "scrolled": true
   },
   "outputs": [
    {
     "name": "stdout",
     "output_type": "stream",
     "text": [
      "Training with \u001b[1m\u001b[34m42\u001b[0m features\n"
     ]
    },
    {
     "name": "stderr",
     "output_type": "stream",
     "text": [
      "  0%|          | 0/5 [00:00<?, ?it/s]"
     ]
    },
    {
     "name": "stdout",
     "output_type": "stream",
     "text": [
      "127\n",
      "Fold: \u001b[1m\u001b[34m  1\u001b[0m| bll_metric: \u001b[1m\u001b[34m0.33737\u001b[0m | Best iteration: \u001b[1m\u001b[34m 127\u001b[0m\n",
      "632\n",
      "Fold: \u001b[1m\u001b[34m  1\u001b[0m| bll_metric: \u001b[1m\u001b[34m0.28857\u001b[0m | Best iteration: \u001b[1m\u001b[34m 632\u001b[0m\n",
      "1207\n",
      "Fold: \u001b[1m\u001b[34m  1\u001b[0m| bll_metric: \u001b[1m\u001b[34m0.29083\u001b[0m | Best iteration: \u001b[1m\u001b[34m1207\u001b[0m\n",
      "175\n",
      "Fold: \u001b[1m\u001b[34m  1\u001b[0m| bll_metric: \u001b[1m\u001b[34m0.28546\u001b[0m | Best iteration: \u001b[1m\u001b[34m 175\u001b[0m\n",
      "345\n",
      "Fold: \u001b[1m\u001b[34m  1\u001b[0m| bll_metric: \u001b[1m\u001b[34m0.33481\u001b[0m | Best iteration: \u001b[1m\u001b[34m 345\u001b[0m\n",
      "112\n",
      "Fold: \u001b[1m\u001b[34m  1\u001b[0m| bll_metric: \u001b[1m\u001b[34m0.33807\u001b[0m | Best iteration: \u001b[1m\u001b[34m 112\u001b[0m\n",
      "474\n",
      "Fold: \u001b[1m\u001b[34m  1\u001b[0m| bll_metric: \u001b[1m\u001b[34m0.29927\u001b[0m | Best iteration: \u001b[1m\u001b[34m 474\u001b[0m\n",
      "614\n",
      "Fold: \u001b[1m\u001b[34m  1\u001b[0m| bll_metric: \u001b[1m\u001b[34m0.29255\u001b[0m | Best iteration: \u001b[1m\u001b[34m 614\u001b[0m\n",
      "804\n",
      "Fold: \u001b[1m\u001b[34m  1\u001b[0m| bll_metric: \u001b[1m\u001b[34m0.30248\u001b[0m | Best iteration: \u001b[1m\u001b[34m 804\u001b[0m\n"
     ]
    },
    {
     "name": "stderr",
     "output_type": "stream",
     "text": [
      " 20%|██        | 1/5 [00:05<00:21,  5.34s/it]"
     ]
    },
    {
     "name": "stdout",
     "output_type": "stream",
     "text": [
      "515\n",
      "Fold: \u001b[1m\u001b[34m  1\u001b[0m| bll_metric: \u001b[1m\u001b[34m0.29929\u001b[0m | Best iteration: \u001b[1m\u001b[34m 515\u001b[0m\n",
      "318\n",
      "Fold: \u001b[1m\u001b[34m  2\u001b[0m| bll_metric: \u001b[1m\u001b[34m0.17831\u001b[0m | Best iteration: \u001b[1m\u001b[34m 318\u001b[0m\n",
      "529\n",
      "Fold: \u001b[1m\u001b[34m  2\u001b[0m| bll_metric: \u001b[1m\u001b[34m0.18953\u001b[0m | Best iteration: \u001b[1m\u001b[34m 529\u001b[0m\n",
      "938\n",
      "Fold: \u001b[1m\u001b[34m  2\u001b[0m| bll_metric: \u001b[1m\u001b[34m0.19596\u001b[0m | Best iteration: \u001b[1m\u001b[34m 938\u001b[0m\n",
      "420\n",
      "Fold: \u001b[1m\u001b[34m  2\u001b[0m| bll_metric: \u001b[1m\u001b[34m0.19583\u001b[0m | Best iteration: \u001b[1m\u001b[34m 420\u001b[0m\n",
      "847\n",
      "Fold: \u001b[1m\u001b[34m  2\u001b[0m| bll_metric: \u001b[1m\u001b[34m0.18810\u001b[0m | Best iteration: \u001b[1m\u001b[34m 847\u001b[0m\n",
      "126\n",
      "Fold: \u001b[1m\u001b[34m  2\u001b[0m| bll_metric: \u001b[1m\u001b[34m0.23053\u001b[0m | Best iteration: \u001b[1m\u001b[34m 126\u001b[0m\n",
      "729\n",
      "Fold: \u001b[1m\u001b[34m  2\u001b[0m| bll_metric: \u001b[1m\u001b[34m0.18387\u001b[0m | Best iteration: \u001b[1m\u001b[34m 729\u001b[0m\n",
      "1042\n",
      "Fold: \u001b[1m\u001b[34m  2\u001b[0m| bll_metric: \u001b[1m\u001b[34m0.18299\u001b[0m | Best iteration: \u001b[1m\u001b[34m1042\u001b[0m\n",
      "682\n",
      "Fold: \u001b[1m\u001b[34m  2\u001b[0m| bll_metric: \u001b[1m\u001b[34m0.18961\u001b[0m | Best iteration: \u001b[1m\u001b[34m 682\u001b[0m\n"
     ]
    },
    {
     "name": "stderr",
     "output_type": "stream",
     "text": [
      " 40%|████      | 2/5 [00:11<00:18,  6.07s/it]"
     ]
    },
    {
     "name": "stdout",
     "output_type": "stream",
     "text": [
      "935\n",
      "Fold: \u001b[1m\u001b[34m  2\u001b[0m| bll_metric: \u001b[1m\u001b[34m0.18143\u001b[0m | Best iteration: \u001b[1m\u001b[34m 935\u001b[0m\n",
      "424\n",
      "Fold: \u001b[1m\u001b[34m  3\u001b[0m| bll_metric: \u001b[1m\u001b[34m0.16013\u001b[0m | Best iteration: \u001b[1m\u001b[34m 424\u001b[0m\n",
      "1544\n",
      "Fold: \u001b[1m\u001b[34m  3\u001b[0m| bll_metric: \u001b[1m\u001b[34m0.15577\u001b[0m | Best iteration: \u001b[1m\u001b[34m1544\u001b[0m\n",
      "1855\n",
      "Fold: \u001b[1m\u001b[34m  3\u001b[0m| bll_metric: \u001b[1m\u001b[34m0.16153\u001b[0m | Best iteration: \u001b[1m\u001b[34m1855\u001b[0m\n",
      "706\n",
      "Fold: \u001b[1m\u001b[34m  3\u001b[0m| bll_metric: \u001b[1m\u001b[34m0.16390\u001b[0m | Best iteration: \u001b[1m\u001b[34m 706\u001b[0m\n",
      "989\n",
      "Fold: \u001b[1m\u001b[34m  3\u001b[0m| bll_metric: \u001b[1m\u001b[34m0.18829\u001b[0m | Best iteration: \u001b[1m\u001b[34m 989\u001b[0m\n",
      "444\n",
      "Fold: \u001b[1m\u001b[34m  3\u001b[0m| bll_metric: \u001b[1m\u001b[34m0.15613\u001b[0m | Best iteration: \u001b[1m\u001b[34m 444\u001b[0m\n",
      "776\n",
      "Fold: \u001b[1m\u001b[34m  3\u001b[0m| bll_metric: \u001b[1m\u001b[34m0.18234\u001b[0m | Best iteration: \u001b[1m\u001b[34m 776\u001b[0m\n",
      "778\n",
      "Fold: \u001b[1m\u001b[34m  3\u001b[0m| bll_metric: \u001b[1m\u001b[34m0.19949\u001b[0m | Best iteration: \u001b[1m\u001b[34m 778\u001b[0m\n",
      "1347\n",
      "Fold: \u001b[1m\u001b[34m  3\u001b[0m| bll_metric: \u001b[1m\u001b[34m0.16573\u001b[0m | Best iteration: \u001b[1m\u001b[34m1347\u001b[0m\n"
     ]
    },
    {
     "name": "stderr",
     "output_type": "stream",
     "text": [
      " 60%|██████    | 3/5 [00:21<00:15,  7.89s/it]"
     ]
    },
    {
     "name": "stdout",
     "output_type": "stream",
     "text": [
      "1734\n",
      "Fold: \u001b[1m\u001b[34m  3\u001b[0m| bll_metric: \u001b[1m\u001b[34m0.13944\u001b[0m | Best iteration: \u001b[1m\u001b[34m1734\u001b[0m\n",
      "448\n",
      "Fold: \u001b[1m\u001b[34m  4\u001b[0m| bll_metric: \u001b[1m\u001b[34m0.18719\u001b[0m | Best iteration: \u001b[1m\u001b[34m 448\u001b[0m\n",
      "1250\n",
      "Fold: \u001b[1m\u001b[34m  4\u001b[0m| bll_metric: \u001b[1m\u001b[34m0.15466\u001b[0m | Best iteration: \u001b[1m\u001b[34m1250\u001b[0m\n",
      "942\n",
      "Fold: \u001b[1m\u001b[34m  4\u001b[0m| bll_metric: \u001b[1m\u001b[34m0.17906\u001b[0m | Best iteration: \u001b[1m\u001b[34m 942\u001b[0m\n",
      "627\n",
      "Fold: \u001b[1m\u001b[34m  4\u001b[0m| bll_metric: \u001b[1m\u001b[34m0.17813\u001b[0m | Best iteration: \u001b[1m\u001b[34m 627\u001b[0m\n",
      "1106\n",
      "Fold: \u001b[1m\u001b[34m  4\u001b[0m| bll_metric: \u001b[1m\u001b[34m0.16416\u001b[0m | Best iteration: \u001b[1m\u001b[34m1106\u001b[0m\n",
      "379\n",
      "Fold: \u001b[1m\u001b[34m  4\u001b[0m| bll_metric: \u001b[1m\u001b[34m0.18391\u001b[0m | Best iteration: \u001b[1m\u001b[34m 379\u001b[0m\n",
      "1381\n",
      "Fold: \u001b[1m\u001b[34m  4\u001b[0m| bll_metric: \u001b[1m\u001b[34m0.15281\u001b[0m | Best iteration: \u001b[1m\u001b[34m1381\u001b[0m\n",
      "878\n",
      "Fold: \u001b[1m\u001b[34m  4\u001b[0m| bll_metric: \u001b[1m\u001b[34m0.19634\u001b[0m | Best iteration: \u001b[1m\u001b[34m 878\u001b[0m\n",
      "1946\n",
      "Fold: \u001b[1m\u001b[34m  4\u001b[0m| bll_metric: \u001b[1m\u001b[34m0.14751\u001b[0m | Best iteration: \u001b[1m\u001b[34m1946\u001b[0m\n"
     ]
    },
    {
     "name": "stderr",
     "output_type": "stream",
     "text": [
      " 80%|████████  | 4/5 [00:31<00:08,  8.51s/it]"
     ]
    },
    {
     "name": "stdout",
     "output_type": "stream",
     "text": [
      "931\n",
      "Fold: \u001b[1m\u001b[34m  4\u001b[0m| bll_metric: \u001b[1m\u001b[34m0.17405\u001b[0m | Best iteration: \u001b[1m\u001b[34m 931\u001b[0m\n",
      "379\n",
      "Fold: \u001b[1m\u001b[34m  5\u001b[0m| bll_metric: \u001b[1m\u001b[34m0.22521\u001b[0m | Best iteration: \u001b[1m\u001b[34m 379\u001b[0m\n",
      "715\n",
      "Fold: \u001b[1m\u001b[34m  5\u001b[0m| bll_metric: \u001b[1m\u001b[34m0.20206\u001b[0m | Best iteration: \u001b[1m\u001b[34m 715\u001b[0m\n",
      "1016\n",
      "Fold: \u001b[1m\u001b[34m  5\u001b[0m| bll_metric: \u001b[1m\u001b[34m0.22454\u001b[0m | Best iteration: \u001b[1m\u001b[34m1016\u001b[0m\n",
      "309\n",
      "Fold: \u001b[1m\u001b[34m  5\u001b[0m| bll_metric: \u001b[1m\u001b[34m0.23803\u001b[0m | Best iteration: \u001b[1m\u001b[34m 309\u001b[0m\n",
      "1194\n",
      "Fold: \u001b[1m\u001b[34m  5\u001b[0m| bll_metric: \u001b[1m\u001b[34m0.20076\u001b[0m | Best iteration: \u001b[1m\u001b[34m1194\u001b[0m\n",
      "247\n",
      "Fold: \u001b[1m\u001b[34m  5\u001b[0m| bll_metric: \u001b[1m\u001b[34m0.18436\u001b[0m | Best iteration: \u001b[1m\u001b[34m 247\u001b[0m\n",
      "1146\n",
      "Fold: \u001b[1m\u001b[34m  5\u001b[0m| bll_metric: \u001b[1m\u001b[34m0.18972\u001b[0m | Best iteration: \u001b[1m\u001b[34m1146\u001b[0m\n",
      "1313\n",
      "Fold: \u001b[1m\u001b[34m  5\u001b[0m| bll_metric: \u001b[1m\u001b[34m0.20721\u001b[0m | Best iteration: \u001b[1m\u001b[34m1313\u001b[0m\n",
      "1182\n",
      "Fold: \u001b[1m\u001b[34m  5\u001b[0m| bll_metric: \u001b[1m\u001b[34m0.22010\u001b[0m | Best iteration: \u001b[1m\u001b[34m1182\u001b[0m\n"
     ]
    },
    {
     "name": "stderr",
     "output_type": "stream",
     "text": [
      "100%|██████████| 5/5 [00:39<00:00,  7.91s/it]"
     ]
    },
    {
     "name": "stdout",
     "output_type": "stream",
     "text": [
      "671\n",
      "Fold: \u001b[1m\u001b[34m  5\u001b[0m| bll_metric: \u001b[1m\u001b[34m0.24052\u001b[0m | Best iteration: \u001b[1m\u001b[34m 671\u001b[0m\n"
     ]
    },
    {
     "name": "stderr",
     "output_type": "stream",
     "text": [
      "\n"
     ]
    }
   ],
   "source": [
    "def bll_metric(y_true, y_pred):\n",
    "    return 'balanced_log_loss', balanced_log_loss(y_true, y_pred), False\n",
    "\n",
    "def cb_training():\n",
    "    # Make random under-sampling to balance classes\n",
    "    positive_count_train = train_df['Class'].value_counts()[1]\n",
    "    sampler = RandomUnderSampler(sampling_strategy={0: positive_count_train, \n",
    "                                                    1: positive_count_train}, \n",
    "                                 random_state=150620233, \n",
    "                                 replacement=True)\n",
    "\n",
    "    X_re, y_re = pd.concat([train_df[features], greeks.iloc[:,1:4]], axis=1), train_df['Class']\n",
    "\n",
    "    if CFG.undersample:\n",
    "        X_re, y_re = sampler.fit_resample(X_re, y_re)\n",
    "    \n",
    "    kf = MultilabelStratifiedKFold(n_splits=CFG.n_stacking_folds, shuffle=True, random_state=8062023+20)\n",
    "\n",
    "    oof_level2 = np.zeros([y_re.shape[0], len(best_cb_params) + 1])\n",
    "    oof_level2[:, len(best_cb_params)] = y_re\n",
    "    oof_level2_test = np.zeros([test_df.shape[0], len(best_cb_params)])\n",
    "\n",
    "    print(f\"Training with {blu}{X_re.shape[1]}{res} features\")\n",
    "\n",
    "    for fold, (fit_idx, val_idx) in tqdm(enumerate(kf.split(X=X_re, y=X_re.iloc[:,-3:]), start = 1),\n",
    "                                         total=CFG.n_stacking_folds):\n",
    "        X, y, test = X_re[features], y_re, test_df[features]\n",
    "        \n",
    "        # Split the dataset according to the fold indexes.\n",
    "        X_train = X.iloc[fit_idx]\n",
    "        X_val = X.iloc[val_idx]\n",
    "        y_train = y.iloc[fit_idx]\n",
    "        y_val = y.iloc[val_idx]\n",
    "\n",
    "        train_pool = Pool(X_train, y_train, cat_features=['EJ'])\n",
    "        val_pool = Pool(X_val, y_val, cat_features=['EJ'])\n",
    "        \n",
    "        for i, params in enumerate(best_cb_params):\n",
    "            \n",
    "            model = cat.CatBoostClassifier(**params)\n",
    "            model.fit(train_pool, eval_set=val_pool, verbose=0)\n",
    "\n",
    "            val_preds = model.predict_proba(val_pool)[:,1]\n",
    "            oof_level2[val_idx, i] = val_preds\n",
    "\n",
    "            val_score = balanced_log_loss(y_val, val_preds)\n",
    "            best_iter = model.best_iteration_\n",
    "\n",
    "            print(model.best_iteration_)\n",
    "            \n",
    "            print(f'Fold: {blu}{fold:>3}{res}| bll_metric: {blu}{val_score:.5f}{res}'\n",
    "                  f' | Best iteration: {blu}{best_iter:>4}{res}')\n",
    "        \n",
    "            oof_level2_test[:, i] += model.predict_proba(test)[:,1]\n",
    "        \n",
    "    return oof_level2, oof_level2_test / CFG.n_stacking_folds\n",
    "\n",
    "if CFG.stacking:\n",
    "    oof_level2_cb, oof_level2_test_cb = cb_training()"
   ]
  },
  {
   "cell_type": "markdown",
   "metadata": {},
   "source": [
    "# Stacking with Logistic Regression"
   ]
  },
  {
   "cell_type": "code",
   "execution_count": 30,
   "metadata": {
    "scrolled": true
   },
   "outputs": [
    {
     "name": "stdout",
     "output_type": "stream",
     "text": [
      "0.20237058328631966\n",
      "0.15596427072623092\n"
     ]
    }
   ],
   "source": [
    "from sklearn.linear_model import LogisticRegression\n",
    "\n",
    "oof_level2 = np.concatenate([oof_level2_lgbm[:,:-1] , oof_level2_cb[:,:-1], oof_level2_xgb[:,:-1]], axis=1)\n",
    "oof_level2_test = np.concatenate([oof_level2_test_lgbm , oof_level2_test_cb, oof_level2_test_xgb], axis=1)\n",
    "\n",
    "X = oof_level2\n",
    "y = oof_level2_lgbm[:,-1]\n",
    "\n",
    "# mean bll\n",
    "print(balanced_log_loss(y, np.mean(X, axis=1)))\n",
    "\n",
    "lr = LogisticRegression(class_weight='balanced')\n",
    "lr.fit(X, y)\n",
    "\n",
    "pred = lr.predict_proba(X)[:,1]\n",
    "\n",
    "# lr bll\n",
    "print(balanced_log_loss(y, pred))\n",
    "\n",
    "weights = lr.coef_[0]"
   ]
  },
  {
   "cell_type": "markdown",
   "metadata": {},
   "source": [
    "# Models evaluation"
   ]
  },
  {
   "cell_type": "code",
   "execution_count": null,
   "metadata": {
    "execution": {
     "iopub.status.busy": "2023-06-08T15:32:38.350522Z",
     "iopub.status.idle": "2023-06-08T15:32:38.351460Z",
     "shell.execute_reply": "2023-06-08T15:32:38.351239Z",
     "shell.execute_reply.started": "2023-06-08T15:32:38.351217Z"
    }
   },
   "outputs": [],
   "source": [
    "# ## Model Evaluation\n",
    "# metric_score_folds = pd.DataFrame.from_dict(all_eval_results_)\n",
    "# fit_logloss = []\n",
    "# val_logloss = []\n",
    "\n",
    "# for seed in CFG.seeds:\n",
    "#     for fold in range(1,CFG.n_folds+1):\n",
    "#         fit_logloss.append(metric_score_folds[seed][fold]['training']['balanced_log_loss'])\n",
    "#         val_logloss.append(metric_score_folds[seed][fold]['valid_1']['balanced_log_loss'])\n",
    "\n",
    "# fig, axes = plt.subplots(math.ceil(CFG.n_folds*len(CFG.seeds)/CFG.n_folds), CFG.n_folds, figsize=(20, 20), dpi=150)\n",
    "# ax = axes.flatten()\n",
    "# for i, (f, v, m) in enumerate(zip(fit_logloss, val_logloss, models_), start = 1): \n",
    "#     sns.lineplot(f, color='#B90000', ax=ax[i-1], label='fit')\n",
    "#     sns.lineplot(v, color='#048BA8', ax=ax[i-1], label='val')\n",
    "#     ax[i-1].legend()\n",
    "#     ax[i-1].spines['top'].set_visible(False);\n",
    "#     ax[i-1].spines['right'].set_visible(False)\n",
    "#     ax[i-1].set_title(f'Seed {CFG.seeds[(i-1)//CFG.n_folds]} Fold {CFG.n_folds if i%CFG.n_folds==0 else i%CFG.n_folds}', fontdict={'fontweight': 'bold'})\n",
    "\n",
    "#     color =  ['#048BA8', palette[-3]]\n",
    "#     best_iter = m.best_iteration_\n",
    "#     span_range = [[0, best_iter], [best_iter + 10, best_iter + CFG.num_boost_round]]\n",
    "\n",
    "#     for idx, sub_title in enumerate([f'Best\\nIteration: {best_iter}', f'Early\\n Stopping: 2000']):\n",
    "#         ax[i-1].annotate(sub_title,\n",
    "#                     xy=(sum(span_range[idx])/2 , 0.5),\n",
    "#                     xytext=(0,0), textcoords='offset points',\n",
    "#                     va=\"center\", ha=\"center\",\n",
    "#                     color=\"w\", fontsize=16, fontweight='bold',\n",
    "#                     bbox=dict(boxstyle='round4', pad=0.4, color=color[idx], alpha=0.6))\n",
    "#         ax[i-1].axvspan(span_range[idx][0]-0.4,span_range[idx][1]+0.4,  color=color[idx], alpha=0.07)\n",
    "\n",
    "#     ax[i-1].set_xlim(0, best_iter + 20 + 2000)\n",
    "#     ax[i-1].legend(bbox_to_anchor=(0.95, 1), loc='upper right', title='logloss')\n",
    "\n",
    "# plt.tight_layout();"
   ]
  },
  {
   "cell_type": "markdown",
   "metadata": {},
   "source": [
    "# Predict test"
   ]
  },
  {
   "cell_type": "code",
   "execution_count": null,
   "metadata": {
    "execution": {
     "iopub.status.busy": "2023-06-08T15:32:38.352845Z",
     "iopub.status.idle": "2023-06-08T15:32:38.353222Z",
     "shell.execute_reply": "2023-06-08T15:32:38.353059Z",
     "shell.execute_reply.started": "2023-06-08T15:32:38.353042Z"
    },
    "scrolled": false
   },
   "outputs": [
    {
     "data": {
      "text/html": [
       "<div>\n",
       "<style scoped>\n",
       "    .dataframe tbody tr th:only-of-type {\n",
       "        vertical-align: middle;\n",
       "    }\n",
       "\n",
       "    .dataframe tbody tr th {\n",
       "        vertical-align: top;\n",
       "    }\n",
       "\n",
       "    .dataframe thead th {\n",
       "        text-align: right;\n",
       "    }\n",
       "</style>\n",
       "<table border=\"1\" class=\"dataframe\">\n",
       "  <thead>\n",
       "    <tr style=\"text-align: right;\">\n",
       "      <th></th>\n",
       "      <th>Id</th>\n",
       "      <th>class_0</th>\n",
       "      <th>class_1</th>\n",
       "    </tr>\n",
       "  </thead>\n",
       "  <tbody>\n",
       "    <tr>\n",
       "      <th>0</th>\n",
       "      <td>00eed32682bb</td>\n",
       "      <td>0.596935</td>\n",
       "      <td>0.403065</td>\n",
       "    </tr>\n",
       "    <tr>\n",
       "      <th>1</th>\n",
       "      <td>010ebe33f668</td>\n",
       "      <td>0.596935</td>\n",
       "      <td>0.403065</td>\n",
       "    </tr>\n",
       "    <tr>\n",
       "      <th>2</th>\n",
       "      <td>02fa521e1838</td>\n",
       "      <td>0.596935</td>\n",
       "      <td>0.403065</td>\n",
       "    </tr>\n",
       "    <tr>\n",
       "      <th>3</th>\n",
       "      <td>040e15f562a2</td>\n",
       "      <td>0.596935</td>\n",
       "      <td>0.403065</td>\n",
       "    </tr>\n",
       "    <tr>\n",
       "      <th>4</th>\n",
       "      <td>046e85c7cc7f</td>\n",
       "      <td>0.596935</td>\n",
       "      <td>0.403065</td>\n",
       "    </tr>\n",
       "  </tbody>\n",
       "</table>\n",
       "</div>"
      ],
      "text/plain": [
       "             Id   class_0   class_1\n",
       "0  00eed32682bb  0.596935  0.403065\n",
       "1  010ebe33f668  0.596935  0.403065\n",
       "2  02fa521e1838  0.596935  0.403065\n",
       "3  040e15f562a2  0.596935  0.403065\n",
       "4  046e85c7cc7f  0.596935  0.403065"
      ]
     },
     "execution_count": 30,
     "metadata": {},
     "output_type": "execute_result"
    }
   ],
   "source": [
    "def predict(X):\n",
    "    y = np.zeros(len(X))\n",
    "    for i in range(oof_level2_test.shape[1]):\n",
    "        # y += weights[i] * oof_level2_test[:,i]\n",
    "        y += oof_level2_test[:,i]\n",
    "    # return y / sum(weights)\n",
    "    return y / oof_level2_test.shape[1]\n",
    "\n",
    "predictions = predict(test_df[features])\n",
    "# predictions = predict(generated_features_test)\n",
    "\n",
    "test_df['class_1'] = predictions\n",
    "test_df['class_0'] = 1 - predictions\n",
    "\n",
    "sample_submission[['class_0', 'class_1']] = test_df[['class_0', 'class_1']]\n",
    "sample_submission.to_csv(r\"submission.csv\", index=False)\n",
    "sample_submission"
   ]
  },
  {
   "cell_type": "markdown",
   "metadata": {},
   "source": [
    "You have a lot of resulting features. I have already identified a few important once. "
   ]
  }
 ],
 "metadata": {
  "kernelspec": {
   "display_name": "Python 3 (ipykernel)",
   "language": "python",
   "name": "python3"
  },
  "language_info": {
   "codemirror_mode": {
    "name": "ipython",
    "version": 3
   },
   "file_extension": ".py",
   "mimetype": "text/x-python",
   "name": "python",
   "nbconvert_exporter": "python",
   "pygments_lexer": "ipython3",
   "version": "3.10.6"
  }
 },
 "nbformat": 4,
 "nbformat_minor": 4
}
