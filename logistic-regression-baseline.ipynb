{
 "cells": [
  {
   "cell_type": "code",
   "execution_count": 1,
   "id": "a4054768",
   "metadata": {
    "_cell_guid": "b1076dfc-b9ad-4769-8c92-a6c4dae69d19",
    "_uuid": "8f2839f25d086af736a60e9eeb907d3b93b6e0e5",
    "execution": {
     "iopub.execute_input": "2023-07-27T16:51:34.964646Z",
     "iopub.status.busy": "2023-07-27T16:51:34.964226Z",
     "iopub.status.idle": "2023-07-27T16:51:36.350830Z",
     "shell.execute_reply": "2023-07-27T16:51:36.349527Z"
    },
    "papermill": {
     "duration": 1.400551,
     "end_time": "2023-07-27T16:51:36.353772",
     "exception": false,
     "start_time": "2023-07-27T16:51:34.953221",
     "status": "completed"
    },
    "tags": []
   },
   "outputs": [],
   "source": [
    "import pandas as pd \n",
    "import numpy as np \n",
    "from sklearn.model_selection import StratifiedKFold\n",
    "from sklearn.preprocessing import StandardScaler\n",
    "from sklearn.linear_model import LogisticRegression\n",
    "import copy "
   ]
  },
  {
   "attachments": {},
   "cell_type": "markdown",
   "id": "f75ed5fb",
   "metadata": {
    "papermill": {
     "duration": 0.008462,
     "end_time": "2023-07-27T16:51:36.371269",
     "exception": false,
     "start_time": "2023-07-27T16:51:36.362807",
     "status": "completed"
    },
    "tags": []
   },
   "source": [
    "This notebook uses IV to select the best variables and transform them with WoE for each feature. The data used to train a logist regression model with 2 order interactions variables (multiplication).\n",
    "\n",
    "Important\n",
    "*--- There is data leakage in the WoE which will be used to train the LR models ---*"
   ]
  },
  {
   "attachments": {},
   "cell_type": "markdown",
   "id": "99f969a5",
   "metadata": {
    "papermill": {
     "duration": 0.008315,
     "end_time": "2023-07-27T16:51:36.388142",
     "exception": false,
     "start_time": "2023-07-27T16:51:36.379827",
     "status": "completed"
    },
    "tags": []
   },
   "source": [
    "# Load data"
   ]
  },
  {
   "cell_type": "code",
   "execution_count": 2,
   "id": "be7be9aa",
   "metadata": {
    "execution": {
     "iopub.execute_input": "2023-07-27T16:51:36.407357Z",
     "iopub.status.busy": "2023-07-27T16:51:36.406958Z",
     "iopub.status.idle": "2023-07-27T16:51:36.465459Z",
     "shell.execute_reply": "2023-07-27T16:51:36.464376Z"
    },
    "papermill": {
     "duration": 0.071285,
     "end_time": "2023-07-27T16:51:36.468055",
     "exception": false,
     "start_time": "2023-07-27T16:51:36.396770",
     "status": "completed"
    },
    "tags": []
   },
   "outputs": [],
   "source": [
    "train = pd.read_csv('icr-identify-age-related-conditions/train.csv')\n",
    "test = pd.read_csv('icr-identify-age-related-conditions/test.csv')\n",
    "greeks = pd.read_csv('icr-identify-age-related-conditions/greeks.csv')\n",
    "\n",
    "train.columns = train.columns.str.replace(' ', '')\n",
    "test.columns = test.columns.str.replace(' ', '')"
   ]
  },
  {
   "attachments": {},
   "cell_type": "markdown",
   "id": "8e84d7d1",
   "metadata": {
    "papermill": {
     "duration": 0.008437,
     "end_time": "2023-07-27T16:51:36.485321",
     "exception": false,
     "start_time": "2023-07-27T16:51:36.476884",
     "status": "completed"
    },
    "tags": []
   },
   "source": [
    "# Greeks will be used in the stratified k-fold strategy"
   ]
  },
  {
   "cell_type": "code",
   "execution_count": 3,
   "id": "245a299d",
   "metadata": {
    "execution": {
     "iopub.execute_input": "2023-07-27T16:51:36.504806Z",
     "iopub.status.busy": "2023-07-27T16:51:36.504002Z",
     "iopub.status.idle": "2023-07-27T16:51:36.537375Z",
     "shell.execute_reply": "2023-07-27T16:51:36.536250Z"
    },
    "papermill": {
     "duration": 0.046232,
     "end_time": "2023-07-27T16:51:36.540055",
     "exception": false,
     "start_time": "2023-07-27T16:51:36.493823",
     "status": "completed"
    },
    "tags": []
   },
   "outputs": [],
   "source": [
    "greeks['k'] = greeks['Alpha'] + greeks['Beta'] + greeks['Gamma'] + greeks['Delta']\n",
    "train = pd.merge( greeks[['k', 'Id']],train,on='Id')\n",
    "\n",
    "names = ['AB', 'AF', 'AH', 'AM', 'AR', 'AX', 'AY', 'AZ', 'BC', 'BD', 'BN',\n",
    "         'BP', 'BQ', 'BR', 'BZ', 'CB', 'CC', 'CD', 'CF', 'CH', 'CL', 'CR', 'CS',\n",
    "         'CU', 'CW', 'DA', 'DE', 'DF', 'DH', 'DI', 'DL', 'DN', 'DU', 'DV', 'DY',\n",
    "         'EB', 'EE', 'EG', 'EH', 'EJ', 'EL', 'EP', 'EU', 'FC', 'FD', 'FE', 'FI',\n",
    "         'FL', 'FR', 'FS', 'GB', 'GE', 'GF', 'GH', 'GI', 'GL']\n",
    "target_name = 'Class'"
   ]
  },
  {
   "attachments": {},
   "cell_type": "markdown",
   "id": "4356944c",
   "metadata": {
    "papermill": {
     "duration": 0.008331,
     "end_time": "2023-07-27T16:51:36.557232",
     "exception": false,
     "start_time": "2023-07-27T16:51:36.548901",
     "status": "completed"
    },
    "tags": []
   },
   "source": [
    "# Data Cleaning"
   ]
  },
  {
   "cell_type": "code",
   "execution_count": 4,
   "id": "d369a636",
   "metadata": {
    "execution": {
     "iopub.execute_input": "2023-07-27T16:51:36.576106Z",
     "iopub.status.busy": "2023-07-27T16:51:36.575688Z",
     "iopub.status.idle": "2023-07-27T16:51:36.693741Z",
     "shell.execute_reply": "2023-07-27T16:51:36.692564Z"
    },
    "papermill": {
     "duration": 0.13091,
     "end_time": "2023-07-27T16:51:36.696698",
     "exception": false,
     "start_time": "2023-07-27T16:51:36.565788",
     "status": "completed"
    },
    "tags": []
   },
   "outputs": [],
   "source": [
    "train['EJ'] = pd.Series(np.where(train.EJ.values == 'A', 1, 0), train.index)\n",
    "test['EJ'] = pd.Series(np.where(test.EJ.values == 'A', 1, 0), test.index)\n",
    "\n",
    "# fill nan data with mean values \n",
    "train[names] = train[names].fillna(train[names].mean())\n",
    "test[names] = test[names].fillna(train[names].mean())\n",
    "# clip values to avoid different values in the test set from train\n",
    "test = test[names].clip(train[names].min(axis=0).values,train[names].max(axis=0).values, axis=1)\n",
    "\n",
    "# data scaled to allow the features interaction (by multiplication)\n",
    "scaler = StandardScaler()\n",
    "\n",
    "train2 = copy.copy(train)\n",
    "teste2 = copy.copy(test)\n",
    "\n",
    "vals = scaler.fit_transform(train[names])\n",
    "vals_test = scaler.transform(test[names])\n",
    "\n",
    "train2[names] = vals\n",
    "teste2[names] = vals_test"
   ]
  },
  {
   "attachments": {},
   "cell_type": "markdown",
   "id": "115a89a6",
   "metadata": {
    "papermill": {
     "duration": 0.008627,
     "end_time": "2023-07-27T16:51:36.714603",
     "exception": false,
     "start_time": "2023-07-27T16:51:36.705976",
     "status": "completed"
    },
    "tags": []
   },
   "source": [
    "# Defining 2 order interactions"
   ]
  },
  {
   "cell_type": "code",
   "execution_count": 5,
   "id": "fcf7af93",
   "metadata": {
    "execution": {
     "iopub.execute_input": "2023-07-27T16:51:36.734613Z",
     "iopub.status.busy": "2023-07-27T16:51:36.733839Z",
     "iopub.status.idle": "2023-07-27T16:51:38.031790Z",
     "shell.execute_reply": "2023-07-27T16:51:38.030285Z"
    },
    "papermill": {
     "duration": 1.31115,
     "end_time": "2023-07-27T16:51:38.034706",
     "exception": false,
     "start_time": "2023-07-27T16:51:36.723556",
     "status": "completed"
    },
    "tags": []
   },
   "outputs": [],
   "source": [
    "# def multiply and make a array of all interactions\n",
    "def mab(df,nome1,nome2):\n",
    "    a  = df[nome1]*df[nome2]\n",
    "    return(a/max(a))\n",
    "\n",
    "h = []\n",
    "ht = []\n",
    "\n",
    "n = 1\n",
    "for n1 in names:\n",
    "    for n2 in names[n:]:\n",
    "        h.append(mab(train2,n1,n2).rename(n1+'_mul_'+n2))\n",
    "        ht.append(mab(teste2,n1,n2).rename(n1+'_mul_'+n2))\n",
    "        \n",
    "    n+=1\n",
    "    \n",
    "newF = pd.DataFrame(h)\n",
    "newF_test = pd.DataFrame(ht)"
   ]
  },
  {
   "attachments": {},
   "cell_type": "markdown",
   "id": "b8abbdf9",
   "metadata": {
    "execution": {
     "iopub.execute_input": "2023-05-29T21:54:18.399851Z",
     "iopub.status.busy": "2023-05-29T21:54:18.399533Z",
     "iopub.status.idle": "2023-05-29T21:54:18.407924Z",
     "shell.execute_reply": "2023-05-29T21:54:18.405255Z",
     "shell.execute_reply.started": "2023-05-29T21:54:18.399826Z"
    },
    "papermill": {
     "duration": 0.008409,
     "end_time": "2023-07-27T16:51:38.052065",
     "exception": false,
     "start_time": "2023-07-27T16:51:38.043656",
     "status": "completed"
    },
    "tags": []
   },
   "source": [
    "Information Value (IV) and Weights of evidence (WoE) are widely used in credit score models with logistic regression. IV is a bivariate metric which ranks the predictive power of the the variables in relation to the target. WoE will transform the data to a monotonic pattern which is fundamental to the Logistic Regression model to perform well.\n"
   ]
  },
  {
   "cell_type": "code",
   "execution_count": 6,
   "id": "a7b45326",
   "metadata": {
    "execution": {
     "iopub.execute_input": "2023-07-27T16:51:38.071534Z",
     "iopub.status.busy": "2023-07-27T16:51:38.071124Z",
     "iopub.status.idle": "2023-07-27T16:51:38.085761Z",
     "shell.execute_reply": "2023-07-27T16:51:38.084434Z"
    },
    "papermill": {
     "duration": 0.027623,
     "end_time": "2023-07-27T16:51:38.088511",
     "exception": false,
     "start_time": "2023-07-27T16:51:38.060888",
     "status": "completed"
    },
    "tags": []
   },
   "outputs": [],
   "source": [
    "#https://lucastiagooliveira.github.io/datascience/iv/woe/python/2020/12/15/iv_woe.html\n",
    "def iv_woe(data, target, bins=10, show_woe=False):\n",
    "    \n",
    "    #Empty Dataframe\n",
    "    newDF,woeDF = pd.DataFrame(), pd.DataFrame()\n",
    "    \n",
    "    #Extract Column Names\n",
    "    cols = data.columns\n",
    "    \n",
    "    #Run WOE and IV on all the independent variables\n",
    "    for ivars in cols[~cols.isin([target])]:\n",
    "        if (data[ivars].dtype.kind in 'bifc') and (len(np.unique(data[ivars]))>10):\n",
    "            binned_x = pd.qcut(data[ivars], bins,  duplicates='drop')\n",
    "            d0 = pd.DataFrame({'x': binned_x, 'y': data[target]})\n",
    "        else:\n",
    "            d0 = pd.DataFrame({'x': data[ivars], 'y': data[target]})\n",
    "\n",
    "        \n",
    "        # Calculate the number of events in each group (bin)\n",
    "        d = d0.groupby(\"x\", as_index=False).agg({\"y\": [\"count\", \"sum\"]})\n",
    "        d.columns = ['Cutoff', 'N', 'Events']\n",
    "        \n",
    "        # Calculate % of events in each group.\n",
    "        d['% of Events'] = np.maximum(d['Events'], 0.5) / d['Events'].sum()\n",
    "\n",
    "        # Calculate the non events in each group.\n",
    "        d['Non-Events'] = d['N'] - d['Events']\n",
    "        # Calculate % of non events in each group.\n",
    "        d['% of Non-Events'] = np.maximum(d['Non-Events'], 0.5) / d['Non-Events'].sum()\n",
    "\n",
    "        # Calculate WOE by taking natural log of division of % of non-events and % of events\n",
    "        d['WoE'] = np.log(d['% of Events']/d['% of Non-Events'])\n",
    "        d['IV'] = d['WoE'] * (d['% of Events'] - d['% of Non-Events'])\n",
    "        d.insert(loc=0, column='Variable', value=ivars)\n",
    "        #print(\"Information value of \" + ivars + \" is \" + str(round(d['IV'].sum(),6)))\n",
    "        temp =pd.DataFrame({\"Variable\" : [ivars], \"IV\" : [d['IV'].sum()]}, columns = [\"Variable\", \"IV\"])\n",
    "        newDF=pd.concat([newDF,temp], axis=0)\n",
    "        woeDF=pd.concat([woeDF,d], axis=0)\n",
    "\n",
    "        #Show WOE Table\n",
    "        if show_woe == True:\n",
    "            print(d)\n",
    "    return newDF, woeDF"
   ]
  },
  {
   "cell_type": "code",
   "execution_count": 7,
   "id": "ca3d69ef",
   "metadata": {
    "execution": {
     "iopub.execute_input": "2023-07-27T16:51:38.108142Z",
     "iopub.status.busy": "2023-07-27T16:51:38.107509Z",
     "iopub.status.idle": "2023-07-27T16:51:38.881243Z",
     "shell.execute_reply": "2023-07-27T16:51:38.880209Z"
    },
    "papermill": {
     "duration": 0.786776,
     "end_time": "2023-07-27T16:51:38.884064",
     "exception": false,
     "start_time": "2023-07-27T16:51:38.097288",
     "status": "completed"
    },
    "tags": []
   },
   "outputs": [],
   "source": [
    "a,b = iv_woe(train2, target_name, bins=10, show_woe=False)"
   ]
  },
  {
   "cell_type": "code",
   "execution_count": 8,
   "id": "cc2bfc28",
   "metadata": {
    "execution": {
     "iopub.execute_input": "2023-07-27T16:51:38.904771Z",
     "iopub.status.busy": "2023-07-27T16:51:38.904370Z",
     "iopub.status.idle": "2023-07-27T16:51:38.913989Z",
     "shell.execute_reply": "2023-07-27T16:51:38.912885Z"
    },
    "papermill": {
     "duration": 0.022028,
     "end_time": "2023-07-27T16:51:38.916385",
     "exception": false,
     "start_time": "2023-07-27T16:51:38.894357",
     "status": "completed"
    },
    "tags": []
   },
   "outputs": [
    {
     "data": {
      "text/plain": [
       "array(['k', 'Id', 'DU', 'GL', 'FL', 'CR', 'DA', 'AF', 'AB', 'BQ', 'DI',\n",
       "       'EB', 'FD', 'EE', 'EH', 'FR', 'CD', 'DE', 'CC', 'BN', 'FI', 'FE',\n",
       "       'DH', 'EU', 'GF', 'DF', 'BC', 'DL', 'AM', 'BP', 'AH', 'AR', 'GH',\n",
       "       'DN', 'CS', 'GB', 'DY', 'CF', 'CB', 'GI', 'BD', 'FC', 'BR', 'CU',\n",
       "       'FS', 'AZ', 'EL', 'EJ', 'CW', 'AX', 'GE', 'AY', 'EG', 'EP', 'CH',\n",
       "       'CL', 'BZ', 'DV'], dtype=object)"
      ]
     },
     "execution_count": 8,
     "metadata": {},
     "output_type": "execute_result"
    }
   ],
   "source": [
    "# most important features based on IV\n",
    "a.sort_values(by='IV',ascending=False).Variable.values "
   ]
  },
  {
   "cell_type": "code",
   "execution_count": 9,
   "id": "7bc15425",
   "metadata": {
    "execution": {
     "iopub.execute_input": "2023-07-27T16:51:38.935654Z",
     "iopub.status.busy": "2023-07-27T16:51:38.935252Z",
     "iopub.status.idle": "2023-07-27T16:52:00.892618Z",
     "shell.execute_reply": "2023-07-27T16:52:00.891378Z"
    },
    "papermill": {
     "duration": 21.970213,
     "end_time": "2023-07-27T16:52:00.895461",
     "exception": false,
     "start_time": "2023-07-27T16:51:38.925248",
     "status": "completed"
    },
    "tags": []
   },
   "outputs": [],
   "source": [
    "# Reordering the dataframe to keep IV with higger values in front\n",
    "trainE = train[a.sort_values(by='IV',ascending=False).Variable.values]\n",
    "trainE[target_name] = train[target_name]\n",
    "testeE = test[a.sort_values(by='IV',ascending=False).Variable.values[2:]]\n",
    "\n",
    "# join the original vars and the interactions between them\n",
    "ff = pd.concat([trainE,newF.T],axis=1)\n",
    "ff_teste = pd.concat([testeE,newF_test.T],axis=1)\n",
    "\n",
    "a,b = iv_woe(ff, target_name, bins=10, show_woe=False)\n",
    "\n",
    "# deleting all IVs below 0.05\n",
    "a = a.loc[a['IV']> 0.05]\n",
    "\n",
    "allNames = a.sort_values(by='IV',ascending=False).Variable.values\n",
    "crossNames = [x for x in allNames if '_mul_' in x]\n",
    "\n",
    "nomes2 = list(trainE)+crossNames\n",
    "nomes2.remove('Class')"
   ]
  },
  {
   "cell_type": "code",
   "execution_count": 10,
   "id": "2e327542",
   "metadata": {
    "execution": {
     "iopub.execute_input": "2023-07-27T16:52:00.915434Z",
     "iopub.status.busy": "2023-07-27T16:52:00.915004Z",
     "iopub.status.idle": "2023-07-27T16:52:04.983886Z",
     "shell.execute_reply": "2023-07-27T16:52:04.982954Z"
    },
    "papermill": {
     "duration": 4.082049,
     "end_time": "2023-07-27T16:52:04.986819",
     "exception": false,
     "start_time": "2023-07-27T16:52:00.904770",
     "status": "completed"
    },
    "tags": []
   },
   "outputs": [],
   "source": [
    "# threshold to correlation features\n",
    "threshold = 0.3\n",
    "\n",
    "cc = ff[nomes2[2:]].corr()\n",
    "\n",
    "mat_x = abs(cc)>threshold\n",
    "mat_x = mat_x.to_numpy()"
   ]
  },
  {
   "cell_type": "code",
   "execution_count": 11,
   "id": "b99726ea",
   "metadata": {
    "execution": {
     "iopub.execute_input": "2023-07-27T16:52:05.007051Z",
     "iopub.status.busy": "2023-07-27T16:52:05.006226Z",
     "iopub.status.idle": "2023-07-27T16:52:05.021275Z",
     "shell.execute_reply": "2023-07-27T16:52:05.020444Z"
    },
    "papermill": {
     "duration": 0.027858,
     "end_time": "2023-07-27T16:52:05.023734",
     "exception": false,
     "start_time": "2023-07-27T16:52:04.995876",
     "status": "completed"
    },
    "tags": []
   },
   "outputs": [],
   "source": [
    "# select variables with low correlation, there are +- 70 features with low correlation\n",
    "var1 = []\n",
    "nomes = list(cc)\n",
    "var1.append(nomes[0])\n",
    "max_vars = 100\n",
    "\n",
    "count = 1\n",
    "for n in range(1,len(nomes)):\n",
    "    \n",
    "    if (mat_x[n,:n+1].sum() ) == 1:\n",
    "        \n",
    "        var1.append(nomes[n])        \n",
    "        count+=1\n",
    "        \n",
    "        if(count == max_vars):\n",
    "            break"
   ]
  },
  {
   "cell_type": "code",
   "execution_count": 12,
   "metadata": {},
   "outputs": [],
   "source": [
    "# 'CW', 'AZ', 'FS', 'BR', 'FE', 'BN', 'DE', 'AF', 'CR',\n",
    "\n",
    "features_to_drop = ['CR_mul_DE', 'BQ_mul_FE', 'CR_mul_GE', 'EE_mul_GF', \n",
    "                    'CR_mul_FE', 'BQ_mul_FC', 'DE_mul_DL', 'AZ_mul_GL', 'CW_mul_DL', \n",
    "                    'BN_mul_CR', 'DN_mul_FI', 'AZ_mul_FE', 'CW_mul_EL', 'AZ_mul_CU',\n",
    "                    'CW_mul_DY', 'DH_mul_DL', 'AX_mul_CU', 'BN_mul_DE', 'BN_mul_CW', \n",
    "                    'AZ_mul_EL', 'AZ_mul_DE']\n",
    "\n",
    "var1 = [v for v in var1 if v not in features_to_drop]"
   ]
  },
  {
   "cell_type": "code",
   "execution_count": 13,
   "id": "c78b0f11",
   "metadata": {
    "execution": {
     "iopub.execute_input": "2023-07-27T16:52:05.073580Z",
     "iopub.status.busy": "2023-07-27T16:52:05.072697Z",
     "iopub.status.idle": "2023-07-27T16:52:05.427660Z",
     "shell.execute_reply": "2023-07-27T16:52:05.426563Z"
    },
    "papermill": {
     "duration": 0.368069,
     "end_time": "2023-07-27T16:52:05.430462",
     "exception": false,
     "start_time": "2023-07-27T16:52:05.062393",
     "status": "completed"
    },
    "tags": []
   },
   "outputs": [],
   "source": [
    "# create dic with WoE transformation\n",
    "list_dics = []\n",
    "\n",
    "for var in var1:\n",
    "  df_temp = b.loc[b['Variable']==var].reset_index()\n",
    "  # crieate dict\n",
    "  dict_var = {}\n",
    "  for x in range(len(df_temp)):\n",
    "    line = df_temp.iloc[x]\n",
    "    dict_var[line['Cutoff']] = line['WoE']\n",
    "  list_dics.append(dict_var)"
   ]
  },
  {
   "cell_type": "code",
   "execution_count": 14,
   "id": "6b6436e6",
   "metadata": {
    "execution": {
     "iopub.execute_input": "2023-07-27T16:52:05.450861Z",
     "iopub.status.busy": "2023-07-27T16:52:05.450493Z",
     "iopub.status.idle": "2023-07-27T16:52:05.458803Z",
     "shell.execute_reply": "2023-07-27T16:52:05.457791Z"
    },
    "papermill": {
     "duration": 0.021328,
     "end_time": "2023-07-27T16:52:05.461355",
     "exception": false,
     "start_time": "2023-07-27T16:52:05.440027",
     "status": "completed"
    },
    "tags": []
   },
   "outputs": [],
   "source": [
    "# train and test data\n",
    "df_original = ff[var1+[target_name]+ ['k'] ]\n",
    "df_test2 = ff_teste[var1]\n",
    "names = var1"
   ]
  },
  {
   "cell_type": "code",
   "execution_count": 15,
   "id": "54140fb2",
   "metadata": {
    "execution": {
     "iopub.execute_input": "2023-07-27T16:52:05.481854Z",
     "iopub.status.busy": "2023-07-27T16:52:05.480731Z",
     "iopub.status.idle": "2023-07-27T16:52:05.485764Z",
     "shell.execute_reply": "2023-07-27T16:52:05.484966Z"
    },
    "papermill": {
     "duration": 0.017261,
     "end_time": "2023-07-27T16:52:05.487781",
     "exception": false,
     "start_time": "2023-07-27T16:52:05.470520",
     "status": "completed"
    },
    "tags": []
   },
   "outputs": [],
   "source": [
    "# pandas is giving multiple warnings and making the code \"dirty\"\n",
    "import warnings\n",
    "warnings.filterwarnings('ignore')\n"
   ]
  },
  {
   "cell_type": "code",
   "execution_count": 16,
   "id": "9ff4b24f",
   "metadata": {
    "execution": {
     "iopub.execute_input": "2023-07-27T16:52:05.508008Z",
     "iopub.status.busy": "2023-07-27T16:52:05.507121Z",
     "iopub.status.idle": "2023-07-27T16:52:05.882441Z",
     "shell.execute_reply": "2023-07-27T16:52:05.881384Z"
    },
    "papermill": {
     "duration": 0.388275,
     "end_time": "2023-07-27T16:52:05.885136",
     "exception": false,
     "start_time": "2023-07-27T16:52:05.496861",
     "status": "completed"
    },
    "tags": []
   },
   "outputs": [],
   "source": [
    "# In this part there is some data leakage as the map is using the full dataset\n",
    "n= 0\n",
    "\n",
    "for var in var1:\n",
    "  df_original.loc[:,var] = df_original[var].map(list_dics[n])\n",
    "  df_test2.loc[:,var] = df_test2[var].map(list_dics[n])\n",
    "  n=n+1"
   ]
  },
  {
   "cell_type": "code",
   "execution_count": 17,
   "id": "e7afe37b",
   "metadata": {
    "execution": {
     "iopub.execute_input": "2023-07-27T16:52:05.905285Z",
     "iopub.status.busy": "2023-07-27T16:52:05.904300Z",
     "iopub.status.idle": "2023-07-27T16:52:05.977427Z",
     "shell.execute_reply": "2023-07-27T16:52:05.976278Z"
    },
    "papermill": {
     "duration": 0.08598,
     "end_time": "2023-07-27T16:52:05.980031",
     "exception": false,
     "start_time": "2023-07-27T16:52:05.894051",
     "status": "completed"
    },
    "tags": []
   },
   "outputs": [],
   "source": [
    "df_original.loc[:,names] = df_original[names].fillna(df_original[names].mean())\n",
    "df_test2.loc[:,names] = df_test2[names].fillna(df_original[names].mean())"
   ]
  },
  {
   "cell_type": "code",
   "execution_count": 18,
   "id": "9e5008a3",
   "metadata": {
    "execution": {
     "iopub.execute_input": "2023-07-27T16:52:06.001299Z",
     "iopub.status.busy": "2023-07-27T16:52:06.000875Z",
     "iopub.status.idle": "2023-07-27T16:52:06.007315Z",
     "shell.execute_reply": "2023-07-27T16:52:06.006227Z"
    },
    "papermill": {
     "duration": 0.01932,
     "end_time": "2023-07-27T16:52:06.009778",
     "exception": false,
     "start_time": "2023-07-27T16:52:05.990458",
     "status": "completed"
    },
    "tags": []
   },
   "outputs": [],
   "source": [
    "#https://www.kaggle.com/competitions/icr-identify-age-related-conditions/discussion/409691\n",
    "from sklearn.utils import class_weight\n",
    "\n",
    "def balanced_log_loss(y_true, y_pred):\n",
    "    # Nc is the number of observations\n",
    "    N_1 = np.sum(y_true == 1, axis=0)\n",
    "    N_0 = np.sum(y_true == 0, axis=0)\n",
    "\n",
    "    N_inv_0 = 1/N_0 if N_0 > 0 else 0\n",
    "    N_inv_1 = 1/N_1 if N_1 > 0 else 0\n",
    "\n",
    "    # In order to avoid the extremes of the log function, each predicted probability 𝑝 is replaced with max(min(𝑝,1−10−15),10−15)\n",
    "    y_pred = np.clip(y_pred, 1e-15, 1 - 1e-15)\n",
    "\n",
    "    # balanced logarithmic loss\n",
    "    loss_numerator = - N_inv_0 * np.sum((1 - y_true) * np.log(1 - y_pred)) - N_inv_1 * np.sum(y_true * np.log(y_pred))\n",
    "\n",
    "    return loss_numerator / 2"
   ]
  },
  {
   "cell_type": "code",
   "execution_count": 22,
   "id": "e2295a8c",
   "metadata": {
    "execution": {
     "iopub.execute_input": "2023-07-27T16:52:06.029372Z",
     "iopub.status.busy": "2023-07-27T16:52:06.028983Z",
     "iopub.status.idle": "2023-07-27T16:52:10.772164Z",
     "shell.execute_reply": "2023-07-27T16:52:10.768645Z"
    },
    "papermill": {
     "duration": 4.757598,
     "end_time": "2023-07-27T16:52:10.776244",
     "exception": false,
     "start_time": "2023-07-27T16:52:06.018646",
     "status": "completed"
    },
    "tags": []
   },
   "outputs": [
    {
     "name": "stdout",
     "output_type": "stream",
     "text": [
      "42\n",
      "0.24280263471097113\n",
      "0.13642566102885578\n",
      "0.14156763496868685\n",
      "0.1793804218790115\n",
      "0.19496722447133227\n",
      "0.14730339957833405\n",
      "0.13584909662873615\n",
      "0.09828051839798833\n",
      "0.13543981745162145\n",
      "0.36578212067475663\n",
      "21\n",
      "0.2450706588681173\n",
      "0.09270907267188531\n",
      "0.12540697391728722\n",
      "0.1135619390823405\n",
      "0.1941062647471148\n",
      "0.22449607693783752\n",
      "0.12270661135463531\n",
      "0.22601885617284784\n",
      "0.2972048581555248\n",
      "0.1562382273409431\n",
      "100\n",
      "0.08929361224045272\n",
      "0.23580141316254477\n",
      "0.20375731451269444\n",
      "0.13245838063725\n",
      "0.2234422585489368\n",
      "0.14705897315903718\n",
      "0.27020893835493137\n",
      "0.10698643899002926\n",
      "0.16886928545583238\n",
      "0.12298801873969596\n",
      "45\n",
      "0.21032641066574131\n",
      "0.11078042447855894\n",
      "0.2991066403949558\n",
      "0.08749303785239407\n",
      "0.34922175774079733\n",
      "0.09496181589985117\n",
      "0.12321482215272472\n",
      "0.13246330764589648\n",
      "0.16087548618657038\n",
      "0.16424358955522916\n",
      "1\n",
      "0.1921066020326651\n",
      "0.15856892361524655\n",
      "0.14791719032398493\n",
      "0.13207819149880284\n",
      "0.18799761649311703\n",
      "0.2773032463536865\n",
      "0.15374101777027327\n",
      "0.08832960667135527\n",
      "0.26613424180760636\n",
      "0.14951729922673873\n",
      "228\n",
      "0.16032007549418814\n",
      "0.24270823335707803\n",
      "0.20850351433836645\n",
      "0.09680947414220478\n",
      "0.10412095671230037\n",
      "0.15372982736822333\n",
      "0.21983591041729203\n",
      "0.1496759113299748\n",
      "0.13401196442040297\n",
      "0.24374254673415235\n",
      "Train : 0.13761319055080726\n",
      "CV score:  0.1746003724253435\n"
     ]
    }
   ],
   "source": [
    "n_splits = 10\n",
    "\n",
    "predictions_LR = 0\n",
    "cv_score_LR = 0\n",
    "train_score_LR = 0\n",
    "\n",
    "rr = [42, 21, 100, 45, 1, 228]\n",
    "\n",
    "for v_fold in rr:\n",
    "    print(v_fold)\n",
    "    skf = StratifiedKFold(n_splits=n_splits, shuffle=True, random_state=v_fold)\n",
    "    for i, (train_index, test_index) in enumerate(skf.split(df_original[target_name], df_original['k'])):\n",
    "\n",
    "            model = LogisticRegression(random_state=0, C=0.1, n_jobs=-1, max_iter=2000, class_weight='balanced')\n",
    "\n",
    "            df_train = df_original.iloc[train_index]\n",
    "            df_test = df_original.iloc[test_index]\n",
    "            \n",
    "            df_train1 = df_train[names].to_numpy()\n",
    "            df_test1 = df_test[names].to_numpy()            \n",
    "            \n",
    "            model.fit( df_train1, df_train[target_name])\n",
    "            \n",
    "            y_hat_teste_LR = model.predict_proba(df_test1)[:,1]\n",
    "            val = balanced_log_loss(df_test[target_name], y_hat_teste_LR.reshape(-1, ))\n",
    "            print(val)\n",
    "            cv_score_LR += val\n",
    "\n",
    "            y_hat_train_LR = model.predict_proba(df_train1)[:,1]\n",
    "            train_score_LR += balanced_log_loss(df_train[target_name], y_hat_train_LR.reshape(-1, ))  \n",
    "            predictions_LR += model.predict_proba(df_test2[names])\n",
    "         \n",
    "print('Train :', train_score_LR/(n_splits*len(rr)) )\n",
    "print('CV score: ', cv_score_LR/(n_splits*len(rr)) )\n",
    "predictions_LR = predictions_LR/(n_splits*len(rr))\n"
   ]
  },
  {
   "cell_type": "code",
   "execution_count": 20,
   "id": "f635e213",
   "metadata": {
    "execution": {
     "iopub.execute_input": "2023-07-27T16:52:10.821623Z",
     "iopub.status.busy": "2023-07-27T16:52:10.820819Z",
     "iopub.status.idle": "2023-07-27T16:52:10.830780Z",
     "shell.execute_reply": "2023-07-27T16:52:10.826580Z"
    },
    "papermill": {
     "duration": 0.037115,
     "end_time": "2023-07-27T16:52:10.834889",
     "exception": false,
     "start_time": "2023-07-27T16:52:10.797774",
     "status": "completed"
    },
    "tags": []
   },
   "outputs": [],
   "source": [
    "# Train : 0.1403696989231827\n",
    "# CV score:  0.169496932984689"
   ]
  },
  {
   "attachments": {},
   "cell_type": "markdown",
   "id": "8c721dd6",
   "metadata": {},
   "source": [
    "Maybe number is 31\n",
    "\n",
    "011001    1.29\n",
    "\n",
    "001010    1.23"
   ]
  }
 ],
 "metadata": {
  "kernelspec": {
   "display_name": "Python 3",
   "language": "python",
   "name": "python3"
  },
  "language_info": {
   "codemirror_mode": {
    "name": "ipython",
    "version": 3
   },
   "file_extension": ".py",
   "mimetype": "text/x-python",
   "name": "python",
   "nbconvert_exporter": "python",
   "pygments_lexer": "ipython3",
   "version": "3.11.4"
  },
  "papermill": {
   "default_parameters": {},
   "duration": 51.754713,
   "end_time": "2023-07-27T16:52:13.548311",
   "environment_variables": {},
   "exception": null,
   "input_path": "__notebook__.ipynb",
   "output_path": "__notebook__.ipynb",
   "parameters": {},
   "start_time": "2023-07-27T16:51:21.793598",
   "version": "2.4.0"
  }
 },
 "nbformat": 4,
 "nbformat_minor": 5
}
