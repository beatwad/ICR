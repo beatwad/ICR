{
 "cells": [
  {
   "cell_type": "code",
   "execution_count": 1,
   "metadata": {
    "_kg_hide-input": true,
    "_kg_hide-output": true,
    "execution": {
     "iopub.execute_input": "2023-06-08T15:31:23.665663Z",
     "iopub.status.busy": "2023-06-08T15:31:23.665223Z",
     "iopub.status.idle": "2023-06-08T15:31:35.997437Z",
     "shell.execute_reply": "2023-06-08T15:31:35.996163Z",
     "shell.execute_reply.started": "2023-06-08T15:31:23.665630Z"
    }
   },
   "outputs": [],
   "source": [
    "import math\n",
    "\n",
    "import numpy as np\n",
    "import pandas as pd\n",
    "\n",
    "import lightgbm as lgb\n",
    "import catboost as cat\n",
    "from catboost import Pool\n",
    "import xgboost as xgb\n",
    "\n",
    "import itertools\n",
    "from imblearn.under_sampling import RandomUnderSampler\n",
    "from sklearn.model_selection import StratifiedKFold\n",
    "from sklearn.model_selection._split import _BaseKFold, _RepeatedSplits, BaseShuffleSplit, _validate_shuffle_split\n",
    "from sklearn.preprocessing import StandardScaler\n",
    "from sklearn.feature_selection import RFE\n",
    "from sklearn.metrics import log_loss\n",
    "\n",
    "from sklearn.utils import check_random_state\n",
    "from sklearn.utils.validation import _num_samples, check_array\n",
    "from sklearn.utils.multiclass import type_of_target\n",
    "\n",
    "from scipy import stats\n",
    "\n",
    "import eli5\n",
    "from IPython.display import display\n",
    "from eli5.permutation_importance import get_score_importances\n",
    "from eli5.sklearn import PermutationImportance\n",
    "\n",
    "import matplotlib.pyplot as plt\n",
    "from tqdm.auto import tqdm\n",
    "import seaborn as sns\n",
    "\n",
    "import optuna\n",
    "\n",
    "import warnings\n",
    "warnings.filterwarnings('ignore')\n",
    "\n",
    "pd.set_option('display.max_rows', 100)\n",
    "pd.set_option('display.max_columns', 100)\n",
    "\n",
    "\n",
    "from colorama import Style, Fore\n",
    "\n",
    "palette = ['#302c36', '#037d97', '#E4591E', '#C09741',\n",
    "           '#EC5B6D', '#90A6B1', '#6ca957', '#D8E3E2']\n",
    "\n",
    "blk = Style.BRIGHT + Fore.BLACK\n",
    "red = Style.BRIGHT + Fore.RED\n",
    "blu = Style.BRIGHT + Fore.BLUE\n",
    "res = Style.RESET_ALL\n",
    "\n",
    "\n",
    "class CFG:\n",
    "    undersample = True\n",
    "    \n",
    "    feature_sel = False\n",
    "    n_feature_sel_folds = 5\n",
    "    \n",
    "    lgbm_optimize = True\n",
    "    cb_optimize = True\n",
    "    xgb_optimize = True\n",
    "    n_trials = 500\n",
    "    n_optimize_folds = 5\n",
    "    n_optimize_repeats = 5\n",
    "    \n",
    "    stacking = False\n",
    "    n_stacking_folds = 5\n",
    "    "
   ]
  },
  {
   "cell_type": "markdown",
   "metadata": {},
   "source": [
    "# Load Data"
   ]
  },
  {
   "cell_type": "code",
   "execution_count": 2,
   "metadata": {
    "execution": {
     "iopub.execute_input": "2023-06-08T15:31:36.001085Z",
     "iopub.status.busy": "2023-06-08T15:31:35.999808Z",
     "iopub.status.idle": "2023-06-08T15:31:36.066222Z",
     "shell.execute_reply": "2023-06-08T15:31:36.064862Z",
     "shell.execute_reply.started": "2023-06-08T15:31:36.001050Z"
    }
   },
   "outputs": [],
   "source": [
    "# COMP_PATH = \"/kaggle/input/icr-identify-age-related-conditions\"\n",
    "COMP_PATH = \"icr-identify-age-related-conditions\"\n",
    "\n",
    "train_df = pd.read_csv(f'{COMP_PATH}//train.csv')\n",
    "test_df = pd.read_csv(f'{COMP_PATH}/test.csv')\n",
    "greeks = pd.read_csv(f\"{COMP_PATH}/greeks.csv\")\n",
    "sample_submission = pd.read_csv(f\"{COMP_PATH}/sample_submission.csv\")\n",
    "\n",
    "train_df['EJ'] = train_df['EJ'].replace({'A': 0, 'B': 1})\n",
    "test_df['EJ'] = test_df['EJ'].replace({'A': 0, 'B': 1})\n",
    "\n",
    "train_df.columns = train_df.columns.str.replace(' ', '')\n",
    "test_df.columns = test_df.columns.str.replace(' ', '')\n",
    "\n",
    "# train_df.drop('Id',axis=1, inplace=True)\n",
    "# train_df.fillna(train_df.median(), inplace=True)"
   ]
  },
  {
   "cell_type": "markdown",
   "metadata": {},
   "source": [
    "# Standard Scaler"
   ]
  },
  {
   "cell_type": "code",
   "execution_count": 3,
   "metadata": {
    "execution": {
     "iopub.execute_input": "2023-06-08T15:31:36.069293Z",
     "iopub.status.busy": "2023-06-08T15:31:36.068506Z",
     "iopub.status.idle": "2023-06-08T15:31:36.075275Z",
     "shell.execute_reply": "2023-06-08T15:31:36.074052Z",
     "shell.execute_reply.started": "2023-06-08T15:31:36.069253Z"
    }
   },
   "outputs": [],
   "source": [
    "# scaler = StandardScaler()\n",
    "# new_num_cols = train_df.select_dtypes(include=['float64']).columns\n",
    "\n",
    "# train_df[new_num_cols] = scaler.fit_transform(train_df[new_num_cols])\n",
    "# test_df[new_num_cols] = scaler.transform(test_df[new_num_cols])"
   ]
  },
  {
   "cell_type": "markdown",
   "metadata": {},
   "source": [
    "# Brute Force Feature Generation"
   ]
  },
  {
   "cell_type": "markdown",
   "metadata": {},
   "source": [
    "Combine features in all possible ways."
   ]
  },
  {
   "cell_type": "code",
   "execution_count": 4,
   "metadata": {},
   "outputs": [],
   "source": [
    "# fi = pd.read_csv('feature_importances.csv', index_col = 'Unnamed: 0')\n",
    "# fi_cols = set(fi['Feature'].head(100).values)\n",
    "\n",
    "# perm = pd.read_csv('perm_df.csv', index_col = 'Unnamed: 0')\n",
    "# perm_cols = set(perm['importance'].head(100).index)\n",
    "\n",
    "# important_col = list(perm_cols.intersection(fi_cols))\n",
    "# print(important_col)"
   ]
  },
  {
   "cell_type": "markdown",
   "metadata": {},
   "source": [
    "# Denoising"
   ]
  },
  {
   "cell_type": "code",
   "execution_count": 5,
   "metadata": {},
   "outputs": [],
   "source": [
    "# features = [fe for fe in train_df.columns if fe not in ['Id','CF', 'CB', 'DV', 'BR', 'DF', 'AR', 'GI', 'AY', 'GB',\n",
    "#                                                         'AH', 'CW', 'CL', 'Class', 'BP']]\n",
    "\n",
    "# for f in features:\n",
    "#     train_df[f] = np.floor(train_df[f]*1000)/1000 # quality decreases no significant result for LGBM"
   ]
  },
  {
   "cell_type": "markdown",
   "metadata": {},
   "source": [
    "# Log features (preserve sign)"
   ]
  },
  {
   "cell_type": "code",
   "execution_count": 6,
   "metadata": {},
   "outputs": [],
   "source": [
    "# for f in features:\n",
    "#     train_df[f] = np.sign(train_df[f]) * np.log1p(np.abs(train_df[f])) # no significant result for LGBM"
   ]
  },
  {
   "cell_type": "markdown",
   "metadata": {},
   "source": [
    "# Remove outliers"
   ]
  },
  {
   "cell_type": "code",
   "execution_count": 7,
   "metadata": {},
   "outputs": [],
   "source": [
    "features_with_outliers = [fe for fe in train_df.columns if fe not in ['BN', 'BQ', 'CW', 'EL', 'GH', \n",
    "                                                                      'GI', 'GL', 'Id', 'Class', 'EJ']]\n",
    "\n",
    "for f in features_with_outliers:\n",
    "    train_df[f] = train_df[f].clip(upper=train_df[f].quantile(0.99))"
   ]
  },
  {
   "cell_type": "markdown",
   "metadata": {},
   "source": [
    "# NaN imputing"
   ]
  },
  {
   "cell_type": "code",
   "execution_count": 8,
   "metadata": {},
   "outputs": [],
   "source": [
    "# from sklearn.impute import KNNImputer\n",
    "# from sklearn.metrics import pairwise_distances\n",
    "\n",
    "\n",
    "# train_df['BQ'] = train_df['BQ'].fillna(train_df['BQ'].min())\n",
    "# train_df['EL'] = train_df['EL'].fillna(train_df['EL'].mode()[0])\n",
    "\n",
    "\n",
    "# features = [fe for fe in train_df.columns if fe not in ['Id','Class']]\n",
    "\n",
    "# def cosine_dist(X, Y, metric='cosine', missing_values=np.nan, **kwargs):\n",
    "#     X[np.isnan(X)]=0\n",
    "#     Y[np.isnan(Y)]=0\n",
    "#     return pairwise_distances(X=X.reshape(-1, 1), \n",
    "#                               Y=Y.reshape(-1, 1), \n",
    "#                               metric='cosine').sum()\n",
    "\n",
    "# imputer = KNNImputer(n_neighbors=5, metric=cosine_dist)\n",
    "# imputer.fit_transform(train_df[features])"
   ]
  },
  {
   "cell_type": "markdown",
   "metadata": {},
   "source": [
    "# Feature generation"
   ]
  },
  {
   "cell_type": "code",
   "execution_count": 9,
   "metadata": {
    "execution": {
     "iopub.execute_input": "2023-06-08T15:31:36.080972Z",
     "iopub.status.busy": "2023-06-08T15:31:36.079281Z",
     "iopub.status.idle": "2023-06-08T15:31:44.412385Z",
     "shell.execute_reply": "2023-06-08T15:31:44.411508Z",
     "shell.execute_reply.started": "2023-06-08T15:31:36.080912Z"
    }
   },
   "outputs": [],
   "source": [
    "features = train_df.drop(['Class', 'Id'], axis=1).columns\n",
    "\n",
    "# features = [fe for fe in train_df.columns if fe not in ['CF', 'CB', 'DV', 'BR', 'DF', 'GB', 'AH', \n",
    "#                                                         'CW', 'CL', 'BP', 'BD', 'FC', 'GE', 'GF',\n",
    "#                                                         'AR', 'GI', 'Id', 'Class', 'AX']]\n",
    "\n",
    "# def gen_features(features, df):\n",
    "#     generated_features = pd.DataFrame()\n",
    "\n",
    "#     for fe_a, fe_b in tqdm(itertools.combinations(features, 2), total=sum([1 for i in itertools.combinations(features, 2)])):\n",
    "\n",
    "# #         generated_features[f'{fe_a}_2']        = df[fe_a].pow(2)\n",
    "# #         generated_features[f'{fe_b}_2']        = df[fe_b].pow(2)\n",
    "# #         generated_features[f'{fe_a}*{fe_b}_2'] = df[fe_a] * df[fe_b].pow(2)\n",
    "# #         generated_features[f'{fe_a}_2*{fe_b}'] = df[fe_a].pow(2) * df[fe_b]\n",
    "\n",
    "# #         generated_features[f'{fe_a}_05'] = df[fe_a].pow(0.5)\n",
    "# #         generated_features[f'{fe_b}_05'] = df[fe_b].pow(0.5)\n",
    "# #         generated_features[f'{fe_a}*{fe_b}_05'] = df[fe_a] * df[fe_b].pow(0.5)\n",
    "# #         generated_features[f'{fe_a}_05*{fe_b}'] = df[fe_a].pow(0.5) * df[fe_b]\n",
    "\n",
    "# #         generated_features[f'{fe_a}_log'] = np.log(df[fe_a])\n",
    "# #         generated_features[f'{fe_b}_log'] = np.log(df[fe_b])\n",
    "# #         generated_features[f'{fe_a}*{fe_b}_log'] = df[fe_a] * np.log(df[fe_b])\n",
    "# #         generated_features[f'{fe_a}_log*{fe_b}'] = np.log(df[fe_a]) * df[fe_b]\n",
    "        \n",
    "#     generated_features = generated_features[selected]\n",
    "#     generated_features = pd.concat([generated_features, df[features]], axis=1)\n",
    "    \n",
    "#     # prevent inf\n",
    "#     for g in generated_features.columns:\n",
    "#         generated_features[g] = np.minimum(np.maximum(generated_features[g], -1e9), 1e9)\n",
    "    \n",
    "#     return generated_features\n",
    "\n",
    "# generated_features_train = gen_features(features, train_df)\n",
    "# generated_features_test = gen_features(features, test_df)\n",
    "\n",
    "# features = generated_features_train.columns"
   ]
  },
  {
   "cell_type": "markdown",
   "metadata": {},
   "source": [
    "# Add distance features"
   ]
  },
  {
   "cell_type": "code",
   "execution_count": 10,
   "metadata": {},
   "outputs": [],
   "source": [
    "from sklearn.neighbors import NearestNeighbors, KNeighborsClassifier\n",
    "\n",
    "class_imbalance = train_df[train_df['Class'] == 0].shape[0] / train_df[train_df['Class'] == 1].shape[0]\n",
    "\n",
    "# average label of 20 Nearest Neighbours (colsine distance)\n",
    "knn = NearestNeighbors(n_neighbors=21, metric='cosine', n_jobs=-1)\n",
    "knn.fit(train_df[features].fillna(0))\n",
    "\n",
    "# train\n",
    "dists, nears = knn.kneighbors(train_df[features].fillna(0), return_distance=True)\n",
    "dists, nears = dists[:,1:], nears[:,1:]\n",
    "\n",
    "classes = np.array([train_df.loc[n, 'Class'] for n in nears])\n",
    "train_df['class_cos'] = np.array(classes[i].mean() * class_imbalance for i in range(len(nears)))\n",
    "train_df['class_cos'] = train_df['class_cos'].astype(float)\n",
    "\n",
    "# test\n",
    "dists, nears = knn.kneighbors(test_df[features].fillna(0), return_distance=True)\n",
    "dists, nears = dists[:,1:], nears[:,1:]\n",
    "\n",
    "classes = np.array([train_df.loc[n, 'Class'] for n in nears])\n",
    "test_df['class_cos'] = np.array(classes[i].mean()  * class_imbalance for i in range(len(nears)))\n",
    "test_df['class_cos'] = test_df['class_cos'].astype(float)\n",
    "\n",
    "\n",
    "# features = [fe for fe in train_df.columns if fe not in ['CF', 'CB', 'DV', 'BR', 'DF', 'GB', 'AH', \n",
    "#                                                         'CW', 'CL', 'BP', 'BD', 'FC', 'GE', 'GF',\n",
    "#                                                         'AR', 'GI', 'Id', 'Class', 'AX']]"
   ]
  },
  {
   "cell_type": "markdown",
   "metadata": {},
   "source": [
    "# Multilabel Stratification"
   ]
  },
  {
   "cell_type": "code",
   "execution_count": 11,
   "metadata": {
    "execution": {
     "iopub.execute_input": "2023-06-08T15:31:44.414098Z",
     "iopub.status.busy": "2023-06-08T15:31:44.413784Z",
     "iopub.status.idle": "2023-06-08T15:31:44.461531Z",
     "shell.execute_reply": "2023-06-08T15:31:44.460184Z",
     "shell.execute_reply.started": "2023-06-08T15:31:44.414071Z"
    }
   },
   "outputs": [],
   "source": [
    "def IterativeStratification(labels, r, random_state):\n",
    "    \"\"\"This function implements the Iterative Stratification algorithm described\n",
    "    in the following paper:\n",
    "    Sechidis K., Tsoumakas G., Vlahavas I. (2011) On the Stratification of\n",
    "    Multi-Label Data. In: Gunopulos D., Hofmann T., Malerba D., Vazirgiannis M.\n",
    "    (eds) Machine Learning and Knowledge Discovery in Databases. ECML PKDD\n",
    "    2011. Lecture Notes in Computer Science, vol 6913. Springer, Berlin,\n",
    "    Heidelberg.\n",
    "    \"\"\"\n",
    "\n",
    "    n_samples = labels.shape[0]\n",
    "    test_folds = np.zeros(n_samples, dtype=int)\n",
    "\n",
    "    # Calculate the desired number of examples at each subset\n",
    "    c_folds = r * n_samples\n",
    "\n",
    "    # Calculate the desired number of examples of each label at each subset\n",
    "    c_folds_labels = np.outer(r, labels.sum(axis=0))\n",
    "\n",
    "    labels_not_processed_mask = np.ones(n_samples, dtype=bool)\n",
    "\n",
    "    while np.any(labels_not_processed_mask):\n",
    "        # Find the label with the fewest (but at least one) remaining examples,\n",
    "        # breaking ties randomly\n",
    "        num_labels = labels[labels_not_processed_mask].sum(axis=0)\n",
    "\n",
    "        # Handle case where only all-zero labels are left by distributing\n",
    "        # across all folds as evenly as possible (not in original algorithm but\n",
    "        # mentioned in the text). (By handling this case separately, some\n",
    "        # code redundancy is introduced; however, this approach allows for\n",
    "        # decreased execution time when there are a relatively large number\n",
    "        # of all-zero labels.)\n",
    "        if num_labels.sum() == 0:\n",
    "            sample_idxs = np.where(labels_not_processed_mask)[0]\n",
    "\n",
    "            for sample_idx in sample_idxs:\n",
    "                fold_idx = np.where(c_folds == c_folds.max())[0]\n",
    "\n",
    "                if fold_idx.shape[0] > 1:\n",
    "                    fold_idx = fold_idx[random_state.choice(fold_idx.shape[0])]\n",
    "\n",
    "                test_folds[sample_idx] = fold_idx\n",
    "                c_folds[fold_idx] -= 1\n",
    "\n",
    "            break\n",
    "\n",
    "        label_idx = np.where(num_labels == num_labels[np.nonzero(num_labels)].min())[0]\n",
    "        if label_idx.shape[0] > 1:\n",
    "            label_idx = label_idx[random_state.choice(label_idx.shape[0])]\n",
    "\n",
    "        sample_idxs = np.where(np.logical_and(labels[:, label_idx].flatten(), labels_not_processed_mask))[0]\n",
    "\n",
    "        for sample_idx in sample_idxs:\n",
    "            # Find the subset(s) with the largest number of desired examples\n",
    "            # for this label, breaking ties by considering the largest number\n",
    "            # of desired examples, breaking further ties randomly\n",
    "            label_folds = c_folds_labels[:, label_idx]\n",
    "            fold_idx = np.where(label_folds == label_folds.max())[0]\n",
    "\n",
    "            if fold_idx.shape[0] > 1:\n",
    "                temp_fold_idx = np.where(c_folds[fold_idx] ==\n",
    "                                         c_folds[fold_idx].max())[0]\n",
    "                fold_idx = fold_idx[temp_fold_idx]\n",
    "\n",
    "                if temp_fold_idx.shape[0] > 1:\n",
    "                    fold_idx = fold_idx[random_state.choice(temp_fold_idx.shape[0])]\n",
    "\n",
    "            test_folds[sample_idx] = fold_idx\n",
    "            labels_not_processed_mask[sample_idx] = False\n",
    "\n",
    "            # Update desired number of examples\n",
    "            c_folds_labels[fold_idx, labels[sample_idx]] -= 1\n",
    "            c_folds[fold_idx] -= 1\n",
    "\n",
    "    return test_folds\n",
    "\n",
    "\n",
    "class MultilabelStratifiedKFold(_BaseKFold):\n",
    "    \"\"\"Multilabel stratified K-Folds cross-validator\n",
    "    Provides train/test indices to split multilabel data into train/test sets.\n",
    "    This cross-validation object is a variation of KFold that returns\n",
    "    stratified folds for multilabel data. The folds are made by preserving\n",
    "    the percentage of samples for each label.\n",
    "    Parameters\n",
    "    ----------\n",
    "    n_splits : int, default=3\n",
    "        Number of folds. Must be at least 2.\n",
    "    shuffle : boolean, optional\n",
    "        Whether to shuffle each stratification of the data before splitting\n",
    "        into batches.\n",
    "    random_state : int, RandomState instance or None, optional, default=None\n",
    "        If int, random_state is the seed used by the random number generator;\n",
    "        If RandomState instance, random_state is the random number generator;\n",
    "        If None, the random number generator is the RandomState instance used\n",
    "        by `np.random`. Unlike StratifiedKFold that only uses random_state\n",
    "        when ``shuffle`` == True, this multilabel implementation\n",
    "        always uses the random_state since the iterative stratification\n",
    "        algorithm breaks ties randomly.\n",
    "    Examples\n",
    "    --------\n",
    "    >>> from iterstrat.ml_stratifiers import MultilabelStratifiedKFold\n",
    "    >>> import numpy as np\n",
    "    >>> X = np.array([[1,2], [3,4], [1,2], [3,4], [1,2], [3,4], [1,2], [3,4]])\n",
    "    >>> y = np.array([[0,0], [0,0], [0,1], [0,1], [1,1], [1,1], [1,0], [1,0]])\n",
    "    >>> mskf = MultilabelStratifiedKFold(n_splits=2, random_state=0)\n",
    "    >>> mskf.get_n_splits(X, y)\n",
    "    2\n",
    "    >>> print(mskf)  # doctest: +NORMALIZE_WHITESPACE\n",
    "    MultilabelStratifiedKFold(n_splits=2, random_state=0, shuffle=False)\n",
    "    >>> for train_index, test_index in mskf.split(X, y):\n",
    "    ...    print(\"TRAIN:\", train_index, \"TEST:\", test_index)\n",
    "    ...    X_train, X_test = X[train_index], X[test_index]\n",
    "    ...    y_train, y_test = y[train_index], y[test_index]\n",
    "    TRAIN: [0 3 4 6] TEST: [1 2 5 7]\n",
    "    TRAIN: [1 2 5 7] TEST: [0 3 4 6]\n",
    "    Notes\n",
    "    -----\n",
    "    Train and test sizes may be slightly different in each fold.\n",
    "    See also\n",
    "    --------\n",
    "    RepeatedMultilabelStratifiedKFold: Repeats Multilabel Stratified K-Fold\n",
    "    n times.\n",
    "    \"\"\"\n",
    "\n",
    "    def __init__(self, n_splits=3, *, shuffle=False, random_state=None):\n",
    "        super(MultilabelStratifiedKFold, self).__init__(n_splits=n_splits, shuffle=shuffle, random_state=random_state)\n",
    "\n",
    "    def _make_test_folds(self, X, y):\n",
    "        y = np.asarray(y, dtype=bool)\n",
    "        type_of_target_y = type_of_target(y)\n",
    "\n",
    "        if type_of_target_y != 'multilabel-indicator':\n",
    "            raise ValueError(\n",
    "                'Supported target type is: multilabel-indicator. Got {!r} instead.'.format(type_of_target_y))\n",
    "\n",
    "        num_samples = y.shape[0]\n",
    "\n",
    "        rng = check_random_state(self.random_state)\n",
    "        indices = np.arange(num_samples)\n",
    "\n",
    "        if self.shuffle:\n",
    "            rng.shuffle(indices)\n",
    "            y = y[indices]\n",
    "\n",
    "        r = np.asarray([1 / self.n_splits] * self.n_splits)\n",
    "\n",
    "        test_folds = IterativeStratification(labels=y, r=r, random_state=rng)\n",
    "\n",
    "        return test_folds[np.argsort(indices)]\n",
    "\n",
    "    def _iter_test_masks(self, X=None, y=None, groups=None):\n",
    "        test_folds = self._make_test_folds(X, y)\n",
    "        for i in range(self.n_splits):\n",
    "            yield test_folds == i\n",
    "\n",
    "    def split(self, X, y, groups=None):\n",
    "        \"\"\"Generate indices to split data into training and test set.\n",
    "        Parameters\n",
    "        ----------\n",
    "        X : array-like, shape (n_samples, n_features)\n",
    "            Training data, where n_samples is the number of samples\n",
    "            and n_features is the number of features.\n",
    "            Note that providing ``y`` is sufficient to generate the splits and\n",
    "            hence ``np.zeros(n_samples)`` may be used as a placeholder for\n",
    "            ``X`` instead of actual training data.\n",
    "        y : array-like, shape (n_samples, n_labels)\n",
    "            The target variable for supervised learning problems.\n",
    "            Multilabel stratification is done based on the y labels.\n",
    "        groups : object\n",
    "            Always ignored, exists for compatibility.\n",
    "        Returns\n",
    "        -------\n",
    "        train : ndarray\n",
    "            The training set indices for that split.\n",
    "        test : ndarray\n",
    "            The testing set indices for that split.\n",
    "        Notes\n",
    "        -----\n",
    "        Randomized CV splitters may return different results for each call of\n",
    "        split. You can make the results identical by setting ``random_state``\n",
    "        to an integer.\n",
    "        \"\"\"\n",
    "        y = check_array(y, ensure_2d=False, dtype=None)\n",
    "        return super(MultilabelStratifiedKFold, self).split(X, y, groups)\n",
    "\n",
    "\n",
    "class RepeatedMultilabelStratifiedKFold(_RepeatedSplits):\n",
    "    \"\"\"Repeated Multilabel Stratified K-Fold cross validator.\n",
    "    Repeats Mulilabel Stratified K-Fold n times with different randomization\n",
    "    in each repetition.\n",
    "    Parameters\n",
    "    ----------\n",
    "    n_splits : int, default=5\n",
    "        Number of folds. Must be at least 2.\n",
    "    n_repeats : int, default=10\n",
    "        Number of times cross-validator needs to be repeated.\n",
    "    random_state : None, int or RandomState, default=None\n",
    "        Random state to be used to generate random state for each\n",
    "        repetition as well as randomly breaking ties within the iterative\n",
    "        stratification algorithm.\n",
    "    Examples\n",
    "    --------\n",
    "    >>> from iterstrat.ml_stratifiers import RepeatedMultilabelStratifiedKFold\n",
    "    >>> import numpy as np\n",
    "    >>> X = np.array([[1,2], [3,4], [1,2], [3,4], [1,2], [3,4], [1,2], [3,4]])\n",
    "    >>> y = np.array([[0,0], [0,0], [0,1], [0,1], [1,1], [1,1], [1,0], [1,0]])\n",
    "    >>> rmskf = RepeatedMultilabelStratifiedKFold(n_splits=2, n_repeats=2,\n",
    "    ...     random_state=0)\n",
    "    >>> for train_index, test_index in rmskf.split(X, y):\n",
    "    ...     print(\"TRAIN:\", train_index, \"TEST:\", test_index)\n",
    "    ...     X_train, X_test = X[train_index], X[test_index]\n",
    "    ...     y_train, y_test = y[train_index], y[test_index]\n",
    "    ...\n",
    "    TRAIN: [0 3 4 6] TEST: [1 2 5 7]\n",
    "    TRAIN: [1 2 5 7] TEST: [0 3 4 6]\n",
    "    TRAIN: [0 1 4 5] TEST: [2 3 6 7]\n",
    "    TRAIN: [2 3 6 7] TEST: [0 1 4 5]\n",
    "    See also\n",
    "    --------\n",
    "    RepeatedStratifiedKFold: Repeats (Non-multilabel) Stratified K-Fold\n",
    "    n times.\n",
    "    \"\"\"\n",
    "    def __init__(self, n_splits=5, *, n_repeats=10, random_state=None):\n",
    "        super(RepeatedMultilabelStratifiedKFold, self).__init__(\n",
    "            MultilabelStratifiedKFold, n_repeats=n_repeats, random_state=random_state,\n",
    "            n_splits=n_splits)\n",
    "\n",
    "\n",
    "class MultilabelStratifiedShuffleSplit(BaseShuffleSplit):\n",
    "    \"\"\"Multilabel Stratified ShuffleSplit cross-validator\n",
    "    Provides train/test indices to split data into train/test sets.\n",
    "    This cross-validation object is a merge of MultilabelStratifiedKFold and\n",
    "    ShuffleSplit, which returns stratified randomized folds for multilabel\n",
    "    data. The folds are made by preserving the percentage of each label.\n",
    "    Note: like the ShuffleSplit strategy, multilabel stratified random splits\n",
    "    do not guarantee that all folds will be different, although this is\n",
    "    still very likely for sizeable datasets.\n",
    "    Parameters\n",
    "    ----------\n",
    "    n_splits : int, default 10\n",
    "        Number of re-shuffling & splitting iterations.\n",
    "    test_size : float, int, None, optional\n",
    "        If float, should be between 0.0 and 1.0 and represent the proportion\n",
    "        of the dataset to include in the test split. If int, represents the\n",
    "        absolute number of test samples. If None, the value is set to the\n",
    "        complement of the train size. By default, the value is set to 0.1.\n",
    "        The default will change in version 0.21. It will remain 0.1 only\n",
    "        if ``train_size`` is unspecified, otherwise it will complement\n",
    "        the specified ``train_size``.\n",
    "    train_size : float, int, or None, default is None\n",
    "        If float, should be between 0.0 and 1.0 and represent the\n",
    "        proportion of the dataset to include in the train split. If\n",
    "        int, represents the absolute number of train samples. If None,\n",
    "        the value is automatically set to the complement of the test size.\n",
    "    random_state : int, RandomState instance or None, optional (default=None)\n",
    "        If int, random_state is the seed used by the random number generator;\n",
    "        If RandomState instance, random_state is the random number generator;\n",
    "        If None, the random number generator is the RandomState instance used\n",
    "        by `np.random`. Unlike StratifiedShuffleSplit that only uses\n",
    "        random_state when ``shuffle`` == True, this multilabel implementation\n",
    "        always uses the random_state since the iterative stratification\n",
    "        algorithm breaks ties randomly.\n",
    "    Examples\n",
    "    --------\n",
    "    >>> from iterstrat.ml_stratifiers import MultilabelStratifiedShuffleSplit\n",
    "    >>> import numpy as np\n",
    "    >>> X = np.array([[1,2], [3,4], [1,2], [3,4], [1,2], [3,4], [1,2], [3,4]])\n",
    "    >>> y = np.array([[0,0], [0,0], [0,1], [0,1], [1,1], [1,1], [1,0], [1,0]])\n",
    "    >>> msss = MultilabelStratifiedShuffleSplit(n_splits=3, test_size=0.5,\n",
    "    ...    random_state=0)\n",
    "    >>> msss.get_n_splits(X, y)\n",
    "    3\n",
    "    >>> print(mss)       # doctest: +ELLIPSIS\n",
    "    MultilabelStratifiedShuffleSplit(n_splits=3, random_state=0, test_size=0.5,\n",
    "                                     train_size=None)\n",
    "    >>> for train_index, test_index in msss.split(X, y):\n",
    "    ...    print(\"TRAIN:\", train_index, \"TEST:\", test_index)\n",
    "    ...    X_train, X_test = X[train_index], X[test_index]\n",
    "    ...    y_train, y_test = y[train_index], y[test_index]\n",
    "    TRAIN: [1 2 5 7] TEST: [0 3 4 6]\n",
    "    TRAIN: [2 3 6 7] TEST: [0 1 4 5]\n",
    "    TRAIN: [1 2 5 6] TEST: [0 3 4 7]\n",
    "    Notes\n",
    "    -----\n",
    "    Train and test sizes may be slightly different from desired due to the\n",
    "    preference of stratification over perfectly sized folds.\n",
    "    \"\"\"\n",
    "\n",
    "    def __init__(self, n_splits=10, *, test_size=\"default\", train_size=None,\n",
    "                 random_state=None):\n",
    "        super(MultilabelStratifiedShuffleSplit, self).__init__(\n",
    "            n_splits=n_splits, test_size=test_size, train_size=train_size, random_state=random_state)\n",
    "\n",
    "    def _iter_indices(self, X, y, groups=None):\n",
    "        n_samples = _num_samples(X)\n",
    "        y = check_array(y, ensure_2d=False, dtype=None)\n",
    "        y = np.asarray(y, dtype=bool)\n",
    "        type_of_target_y = type_of_target(y)\n",
    "\n",
    "        if type_of_target_y != 'multilabel-indicator':\n",
    "            raise ValueError(\n",
    "                'Supported target type is: multilabel-indicator. Got {!r} instead.'.format(\n",
    "                    type_of_target_y))\n",
    "\n",
    "        n_train, n_test = _validate_shuffle_split(n_samples, self.test_size,\n",
    "                                                  self.train_size)\n",
    "\n",
    "        n_samples = y.shape[0]\n",
    "        rng = check_random_state(self.random_state)\n",
    "        y_orig = y.copy()\n",
    "\n",
    "        r = np.array([n_train, n_test]) / (n_train + n_test)\n",
    "\n",
    "        for _ in range(self.n_splits):\n",
    "            indices = np.arange(n_samples)\n",
    "            rng.shuffle(indices)\n",
    "            y = y_orig[indices]\n",
    "\n",
    "            test_folds = IterativeStratification(labels=y, r=r, random_state=rng)\n",
    "\n",
    "            test_idx = test_folds[np.argsort(indices)] == 1\n",
    "            test = np.where(test_idx)[0]\n",
    "            train = np.where(~test_idx)[0]\n",
    "\n",
    "            yield train, test\n",
    "\n",
    "    def split(self, X, y, groups=None):\n",
    "        \"\"\"Generate indices to split data into training and test set.\n",
    "        Parameters\n",
    "        ----------\n",
    "        X : array-like, shape (n_samples, n_features)\n",
    "            Training data, where n_samples is the number of samples\n",
    "            and n_features is the number of features.\n",
    "            Note that providing ``y`` is sufficient to generate the splits and\n",
    "            hence ``np.zeros(n_samples)`` may be used as a placeholder for\n",
    "            ``X`` instead of actual training data.\n",
    "        y : array-like, shape (n_samples, n_labels)\n",
    "            The target variable for supervised learning problems.\n",
    "            Multilabel stratification is done based on the y labels.\n",
    "        groups : object\n",
    "            Always ignored, exists for compatibility.\n",
    "        Returns\n",
    "        -------\n",
    "        train : ndarray\n",
    "            The training set indices for that split.\n",
    "        test : ndarray\n",
    "            The testing set indices for that split.\n",
    "        Notes\n",
    "        -----\n",
    "        Randomized CV splitters may return different results for each call of\n",
    "        split. You can make the results identical by setting ``random_state``\n",
    "        to an integer.\n",
    "        \"\"\"\n",
    "        y = check_array(y, ensure_2d=False, dtype=None)\n",
    "        return super(MultilabelStratifiedShuffleSplit, self).split(X, y, groups)"
   ]
  },
  {
   "cell_type": "markdown",
   "metadata": {},
   "source": [
    "# LGBM feature selection"
   ]
  },
  {
   "cell_type": "code",
   "execution_count": 12,
   "metadata": {
    "execution": {
     "iopub.execute_input": "2023-06-08T15:32:41.223344Z",
     "iopub.status.busy": "2023-06-08T15:32:41.222954Z"
    },
    "scrolled": true
   },
   "outputs": [],
   "source": [
    "from shaphypetune import BoostBoruta\n",
    "\n",
    "params = {\n",
    "        'boosting_type':'goss',\n",
    "        'learning_rate': 0.06733232950390658, \n",
    "        'n_estimators': 5000, \n",
    "        'early_stopping_round' : 100, \n",
    "        'subsample' : 0.7, # bagging_fraction\n",
    "        'colsample_bytree': 0.6, # feature_fraction\n",
    "        'num_leaves': 33,\n",
    "        'class_weight': 'balanced',\n",
    "        'metric': 'none', \n",
    "        'is_unbalance': True, \n",
    "        'random_state': 8062023,\n",
    "        'feature_fraction_seed': 8062023,\n",
    "        'bagging_seed': 8062023,\n",
    "        'max_depth': 6,\n",
    "        'reg_alpha': 2.025436e-04,  \n",
    "        'reg_lambda': 2.290193e-07,\n",
    "#         'bagging_freq': 6,\n",
    "        'max_bin': 198,\n",
    "        'min_child_samples': 32,\n",
    "        'importance_type': 'gain'\n",
    "        }\n",
    "\n",
    "def balanced_log_loss(y_true, y_pred):\n",
    "\n",
    "    # Nc is the number of observations\n",
    "    N_1 = np.sum(y_true == 1, axis=0)\n",
    "    N_0 = np.sum(y_true == 0, axis=0)\n",
    "\n",
    "    # In order to avoid the extremes of the log function, each predicted probability 𝑝 is replaced with max(min(𝑝,1−10−15),10−15)\n",
    "    y_pred = np.clip(y_pred, 1e-15, 1 - 1e-15)\n",
    "\n",
    "    # balanced logarithmic loss\n",
    "    loss_numerator = - (1/N_0) * np.sum((1 - y_true) * np.log(1 - y_pred)) - (1/N_1) * np.sum(y_true * np.log(y_pred))\n",
    "\n",
    "    return loss_numerator / 2\n",
    "\n",
    "def bll_metric(y_true, y_pred):\n",
    "    return 'balanced_log_loss', balanced_log_loss(y_true, y_pred), False\n",
    "\n",
    "def calc_log_loss_weight(y_true): \n",
    "    '''w0, w1 assign different weights to individual data points during training.'''\n",
    "    nc = np.bincount(y_true)\n",
    "    w0, w1 = 1/(nc[0]/y_true.shape[0]), 1/(nc[1]/y_true.shape[0])\n",
    "    return w0, w1\n",
    "\n",
    "def lgbm_tuning(features, permut=False, boruta=False):\n",
    "    metric = balanced_log_loss\n",
    "    eval_results_ = {}\n",
    "\n",
    "    cv_scores = [] # store all cv scores of outer loop inference\n",
    "\n",
    "    perm_df_ = pd.DataFrame()\n",
    "    feature_importances_ = pd.DataFrame()\n",
    "    boruta_df_ = pd.DataFrame()\n",
    "    \n",
    "    for i in range(CFG.n_optimize_repeats):\n",
    "        print(f'Repeat {blu}#{i+1}')\n",
    "        \n",
    "        # Make random under-sampling to balance classes\n",
    "        positive_count_train = train_df['Class'].value_counts()[1]\n",
    "        sampler = RandomUnderSampler(sampling_strategy={0: positive_count_train, \n",
    "                                                        1: positive_count_train}, \n",
    "                                     random_state=15062023+i, \n",
    "                                     replacement=True)\n",
    "\n",
    "        X_re, y_re = pd.concat([train_df[features], greeks.iloc[:,1:4]], axis=1), train_df['Class']\n",
    "        \n",
    "        if CFG.undersample:\n",
    "            X_re, y_re = sampler.fit_resample(X_re, y_re)\n",
    "        \n",
    "        # Create Stratified Multilabel k-Fold scheme\n",
    "        kf = MultilabelStratifiedKFold(n_splits=CFG.n_feature_sel_folds, shuffle=True, random_state=8062023+i)\n",
    "\n",
    "        # Create an oof array for inner loop\n",
    "        oof = np.zeros(X_re.shape[0])\n",
    "        \n",
    "        # Stratify based on Class and Alpha (3 types of conditions)\n",
    "        for fold, (train_idx, val_idx) in enumerate(kf.split(X=X_re[features], y=X_re.iloc[:,-3:]), start = 1): \n",
    "            X, y = X_re[features], y_re\n",
    "\n",
    "            # Split the dataset according to the fold indexes.\n",
    "            X_train = X.iloc[train_idx]\n",
    "            X_val = X.iloc[val_idx]\n",
    "            y_train = y.iloc[train_idx]\n",
    "            y_val = y.iloc[val_idx]\n",
    "\n",
    "\n",
    "            X_train = X_train.reset_index(drop=True)\n",
    "            y_train = y_train.reset_index(drop=True)\n",
    "\n",
    "            # Store models here\n",
    "            models_ = [] \n",
    "\n",
    "            eval_results_[fold]= {}\n",
    "\n",
    "            clf = lgb.LGBMClassifier(**params)\n",
    "            clf.fit(X_train, y_train, eval_set=[(X_val, y_val)], \n",
    "                    eval_metric=bll_metric, # eval_sample_weight=w_val, \n",
    "                    early_stopping_rounds=100, verbose=1)\n",
    "\n",
    "            models_.append(clf)\n",
    "\n",
    "            val_preds = clf.predict_proba(X_val)[:,1]\n",
    "            oof[val_idx] = val_preds\n",
    "\n",
    "            val_score = metric(y_val, val_preds)\n",
    "            best_iter = clf.best_iteration_\n",
    "\n",
    "            print(f'Fold: {blu}{fold:>3}{res}| {metric.__name__}: {blu}{val_score:.5f}{res}'\n",
    "                  f' | Best iteration: {blu}{best_iter:>4}{res}')\n",
    "\n",
    "            # permutation importance\n",
    "            if permut:\n",
    "                perm = PermutationImportance(clf, scoring=None, n_iter=1, \n",
    "                                             random_state=42, cv=None, refit=False).fit(X_val, y_val)\n",
    "\n",
    "                perm_importance_df = pd.DataFrame({'importance': perm.feature_importances_}, \n",
    "                                                   index=X_val.columns).sort_index()\n",
    "\n",
    "                if perm_df_.shape[0] == 0:\n",
    "                    perm_df_ = perm_importance_df.copy()\n",
    "                else:\n",
    "                    perm_df_ += perm_importance_df\n",
    "\n",
    "            # tree feature importance\n",
    "            f_i = pd.DataFrame(sorted(zip(clf.feature_importances_, X.columns), \n",
    "                                              reverse=True, key=lambda x: x[1]), \n",
    "                               columns=['Value','Feature'])\n",
    "\n",
    "            if feature_importances_.shape[0] == 0:\n",
    "                feature_importances_ = f_i.copy()\n",
    "            else:\n",
    "\n",
    "                feature_importances_['Value'] += f_i['Value']\n",
    "\n",
    "            # Boruta SHAP importance\n",
    "            if boruta:\n",
    "                model = BoostBoruta(clf, importance_type='shap_importances', train_importance=False)\n",
    "                model.fit(X_train, y_train, eval_set=[(X_val, y_val)], \n",
    "                          eval_metric=bll_metric, early_stopping_rounds=300, verbose=-1)\n",
    "\n",
    "                boruta_importance_df = pd.DataFrame({'importance': model.ranking_}, \n",
    "                                                     index=X_train.columns).sort_index()\n",
    "                if boruta_df_.shape[0] == 0:\n",
    "                    boruta_df_ = boruta_importance_df.copy()\n",
    "                else:\n",
    "                    boruta_df_ += boruta_importance_df\n",
    "\n",
    "        fold_cv_score = metric(y_re, oof)\n",
    "        print(f'{red} CV score: {res} {metric.__name__}: {red}{fold_cv_score:.5f}{res}')\n",
    "        print(f'{\"*\" * 50}\\n')\n",
    "        cv_scores.append(fold_cv_score)\n",
    "\n",
    "\n",
    "    print(f'{red} Avg score {CFG.n_feature_sel_folds}-fold: {res} {metric.__name__}: {red}{np.mean(cv_scores):.5f}{res}')\n",
    "    print(f'{\"*\" * 50}\\n')\n",
    "    \n",
    "    if permut:\n",
    "        perm_df_ = perm_df_.sort_values('importance', ascending=False)\n",
    "        \n",
    "    if boruta:\n",
    "        boruta_df_ = boruta_df_.sort_values('importance')\n",
    "                                    \n",
    "    feature_importances_ = feature_importances_.sort_values('Value', ascending=False)\n",
    "    \n",
    "    return perm_df_, feature_importances_, boruta_df_, np.mean(cv_scores)\n",
    "\n",
    "if CFG.feature_sel:\n",
    "    perm_df_, feature_importances_, boruta_df_, cv_scores = lgbm_tuning(features, permut=False, boruta=False)"
   ]
  },
  {
   "cell_type": "markdown",
   "metadata": {},
   "source": [
    "# Check features correlation"
   ]
  },
  {
   "cell_type": "code",
   "execution_count": 13,
   "metadata": {
    "scrolled": false
   },
   "outputs": [],
   "source": [
    "if CFG.feature_sel:\n",
    "    col = 'BZ'\n",
    "    x = train_df[train_df[col] <= train_df[col].quantile(0.99)]\n",
    "    cm = x[[c for c in train_df.columns if c not in ['Id', 'Class']]].corr()\n",
    "    display(np.abs(cm[col]).sort_values(ascending=False)[1:])"
   ]
  },
  {
   "cell_type": "markdown",
   "metadata": {},
   "source": [
    "# Analyze permutation feature importance"
   ]
  },
  {
   "cell_type": "code",
   "execution_count": 14,
   "metadata": {
    "execution": {
     "iopub.execute_input": "2023-06-08T15:32:11.619184Z",
     "iopub.status.busy": "2023-06-08T15:32:11.618864Z",
     "iopub.status.idle": "2023-06-08T15:32:11.652915Z",
     "shell.execute_reply": "2023-06-08T15:32:11.652069Z",
     "shell.execute_reply.started": "2023-06-08T15:32:11.619157Z"
    },
    "scrolled": false
   },
   "outputs": [],
   "source": [
    "if CFG.feature_sel:\n",
    "    perm_df_.to_csv('perm_df.csv')\n",
    "    perm_df_\n",
    "    perm_cols = set(perm_df_.index[-35:])\n",
    "    display(perm_cols)"
   ]
  },
  {
   "cell_type": "markdown",
   "metadata": {},
   "source": [
    "# Analyze tree gain feature importance"
   ]
  },
  {
   "cell_type": "code",
   "execution_count": 15,
   "metadata": {
    "execution": {
     "iopub.execute_input": "2023-06-08T15:32:11.654626Z",
     "iopub.status.busy": "2023-06-08T15:32:11.654102Z",
     "iopub.status.idle": "2023-06-08T15:32:11.669674Z",
     "shell.execute_reply": "2023-06-08T15:32:11.668840Z",
     "shell.execute_reply.started": "2023-06-08T15:32:11.654583Z"
    },
    "scrolled": false
   },
   "outputs": [],
   "source": [
    "if CFG.feature_sel:\n",
    "    feature_importances_.to_csv('feature_importances.csv')\n",
    "    feature_importances_\n",
    "    fi_cols = set(feature_importances_['Feature'].values[-23:])\n",
    "    display(fi_cols)"
   ]
  },
  {
   "cell_type": "markdown",
   "metadata": {},
   "source": [
    "# Analyze BORUTA importance"
   ]
  },
  {
   "cell_type": "code",
   "execution_count": 16,
   "metadata": {},
   "outputs": [],
   "source": [
    "if CFG.feature_sel:\n",
    "    boruta_df_.to_csv('boruta_df_.csv')\n",
    "    boruta_df_\n",
    "    boruta_cols = set(boruta_df_.index[-35:])\n",
    "    display(boruta_cols)"
   ]
  },
  {
   "cell_type": "markdown",
   "metadata": {},
   "source": [
    "# LGBM Optuna optimization"
   ]
  },
  {
   "cell_type": "code",
   "execution_count": 17,
   "metadata": {
    "scrolled": true
   },
   "outputs": [
    {
     "name": "stderr",
     "output_type": "stream",
     "text": [
      "[I 2023-06-16 09:42:34,178] A new study created in memory with name: no-name-bf963fae-2813-4bcb-9e54-898a5651b05c\n"
     ]
    },
    {
     "name": "stdout",
     "output_type": "stream",
     "text": [
      "Repeat \u001b[1m\u001b[34m#1\n",
      "Repeat \u001b[1m\u001b[34m#2\n",
      "Repeat \u001b[1m\u001b[34m#3\n"
     ]
    },
    {
     "name": "stderr",
     "output_type": "stream",
     "text": [
      "[I 2023-06-16 09:42:34,616] Trial 0 finished with value: 0.6973915667428459 and parameters: {'boosting_type': 'goss', 'learning_rate': 0.016343975972220183, 'lambda_l1': 0.0001066445544001815, 'lambda_l2': 1.061058705298364, 'max_depth': 7, 'num_leaves': 54, 'feature_fraction': 0.4373470433289137, 'min_data_in_leaf': 87, 'max_bin': 54, 'bagging_freq': 3}. Best is trial 0 with value: 0.6973915667428459.\n"
     ]
    },
    {
     "name": "stdout",
     "output_type": "stream",
     "text": [
      "Repeat \u001b[1m\u001b[34m#4\n",
      "Repeat \u001b[1m\u001b[34m#5\n",
      "Repeat \u001b[1m\u001b[34m#1\n",
      "Repeat \u001b[1m\u001b[34m#2\n",
      "Repeat \u001b[1m\u001b[34m#3\n",
      "Repeat \u001b[1m\u001b[34m#4\n",
      "Repeat \u001b[1m\u001b[34m#5\n"
     ]
    },
    {
     "name": "stderr",
     "output_type": "stream",
     "text": [
      "[I 2023-06-16 09:42:55,163] Trial 1 finished with value: 0.3727764748832287 and parameters: {'boosting_type': 'dart', 'learning_rate': 0.009900901513458201, 'lambda_l1': 1.1688378371650871e-07, 'lambda_l2': 0.4056215208407351, 'max_depth': 9, 'num_leaves': 30, 'feature_fraction': 0.5223310452863178, 'min_data_in_leaf': 31, 'max_bin': 77, 'bagging_freq': 7, 'bagging_fraction': 0.6570930244023336}. Best is trial 1 with value: 0.3727764748832287.\n"
     ]
    },
    {
     "name": "stdout",
     "output_type": "stream",
     "text": [
      "Repeat \u001b[1m\u001b[34m#1\n",
      "Repeat \u001b[1m\u001b[34m#2\n",
      "Repeat \u001b[1m\u001b[34m#3\n",
      "Repeat \u001b[1m\u001b[34m#4\n",
      "Repeat \u001b[1m\u001b[34m#5\n"
     ]
    },
    {
     "name": "stderr",
     "output_type": "stream",
     "text": [
      "[I 2023-06-16 09:43:01,112] Trial 2 finished with value: 0.5254147242466545 and parameters: {'boosting_type': 'goss', 'learning_rate': 0.0008023181973415206, 'lambda_l1': 1.2585901103517747, 'lambda_l2': 0.007589626311606965, 'max_depth': 4, 'num_leaves': 73, 'feature_fraction': 0.4733394221552888, 'min_data_in_leaf': 40, 'max_bin': 132, 'bagging_freq': 1}. Best is trial 1 with value: 0.3727764748832287.\n"
     ]
    },
    {
     "name": "stdout",
     "output_type": "stream",
     "text": [
      "Repeat \u001b[1m\u001b[34m#1\n",
      "Repeat \u001b[1m\u001b[34m#2\n",
      "Repeat \u001b[1m\u001b[34m#3\n",
      "Repeat \u001b[1m\u001b[34m#4\n",
      "Repeat \u001b[1m\u001b[34m#5\n"
     ]
    },
    {
     "name": "stderr",
     "output_type": "stream",
     "text": [
      "[I 2023-06-16 09:43:03,638] Trial 3 finished with value: 0.6202240890286068 and parameters: {'boosting_type': 'goss', 'learning_rate': 0.0018304741717795167, 'lambda_l1': 0.004984085968404032, 'lambda_l2': 1.5085688048703835e-08, 'max_depth': 10, 'num_leaves': 64, 'feature_fraction': 0.5587763934832545, 'min_data_in_leaf': 83, 'max_bin': 145, 'bagging_freq': 2}. Best is trial 1 with value: 0.3727764748832287.\n"
     ]
    },
    {
     "name": "stdout",
     "output_type": "stream",
     "text": [
      "Repeat \u001b[1m\u001b[34m#1\n",
      "Repeat \u001b[1m\u001b[34m#2\n",
      "Repeat \u001b[1m\u001b[34m#3\n",
      "Repeat \u001b[1m\u001b[34m#4\n",
      "Repeat \u001b[1m\u001b[34m#5\n"
     ]
    },
    {
     "name": "stderr",
     "output_type": "stream",
     "text": [
      "[I 2023-06-16 09:43:06,618] Trial 4 finished with value: 0.6973915667428459 and parameters: {'boosting_type': 'dart', 'learning_rate': 0.00022675233591355743, 'lambda_l1': 3.188875185852854e-08, 'lambda_l2': 0.867317368337019, 'max_depth': 4, 'num_leaves': 30, 'feature_fraction': 0.5365839260934888, 'min_data_in_leaf': 94, 'max_bin': 195, 'bagging_freq': 6, 'bagging_fraction': 0.4565882911017741}. Best is trial 1 with value: 0.3727764748832287.\n"
     ]
    },
    {
     "name": "stdout",
     "output_type": "stream",
     "text": [
      "Repeat \u001b[1m\u001b[34m#1\n",
      "Repeat \u001b[1m\u001b[34m#2\n",
      "Repeat \u001b[1m\u001b[34m#3\n",
      "Repeat \u001b[1m\u001b[34m#4\n",
      "Repeat \u001b[1m\u001b[34m#5\n"
     ]
    },
    {
     "name": "stderr",
     "output_type": "stream",
     "text": [
      "[I 2023-06-16 09:43:07,174] Trial 5 finished with value: 0.6973915667428459 and parameters: {'boosting_type': 'gbdt', 'learning_rate': 0.1321920875317897, 'lambda_l1': 8.422382159360818e-07, 'lambda_l2': 8.259065604154428e-08, 'max_depth': 5, 'num_leaves': 25, 'feature_fraction': 0.5820514067105909, 'min_data_in_leaf': 68, 'max_bin': 84, 'bagging_freq': 4, 'bagging_fraction': 0.3397430319879775}. Best is trial 1 with value: 0.3727764748832287.\n"
     ]
    },
    {
     "name": "stdout",
     "output_type": "stream",
     "text": [
      "Repeat \u001b[1m\u001b[34m#1\n",
      "Repeat \u001b[1m\u001b[34m#2\n",
      "Repeat \u001b[1m\u001b[34m#3\n",
      "Repeat \u001b[1m\u001b[34m#4\n"
     ]
    },
    {
     "name": "stderr",
     "output_type": "stream",
     "text": [
      "[I 2023-06-16 09:43:07,909] Trial 6 finished with value: 0.6973915667428459 and parameters: {'boosting_type': 'gbdt', 'learning_rate': 0.002964305108062661, 'lambda_l1': 8.658266574098342, 'lambda_l2': 0.06860139361744591, 'max_depth': 5, 'num_leaves': 74, 'feature_fraction': 0.3893639828363212, 'min_data_in_leaf': 84, 'max_bin': 201, 'bagging_freq': 1, 'bagging_fraction': 0.5946541464856541}. Best is trial 1 with value: 0.3727764748832287.\n"
     ]
    },
    {
     "name": "stdout",
     "output_type": "stream",
     "text": [
      "Repeat \u001b[1m\u001b[34m#5\n",
      "Repeat \u001b[1m\u001b[34m#1\n",
      "Repeat \u001b[1m\u001b[34m#2\n",
      "Repeat \u001b[1m\u001b[34m#3\n",
      "Repeat \u001b[1m\u001b[34m#4\n",
      "Repeat \u001b[1m\u001b[34m#5\n"
     ]
    },
    {
     "name": "stderr",
     "output_type": "stream",
     "text": [
      "[I 2023-06-16 09:43:10,106] Trial 7 finished with value: 0.1971104513877476 and parameters: {'boosting_type': 'gbdt', 'learning_rate': 0.0579774397335478, 'lambda_l1': 0.09474217461092808, 'lambda_l2': 1.3247059323081397e-06, 'max_depth': 5, 'num_leaves': 85, 'feature_fraction': 0.4926144332776724, 'min_data_in_leaf': 13, 'max_bin': 53, 'bagging_freq': 3, 'bagging_fraction': 0.3322001208687982}. Best is trial 7 with value: 0.1971104513877476.\n"
     ]
    },
    {
     "name": "stdout",
     "output_type": "stream",
     "text": [
      "Repeat \u001b[1m\u001b[34m#1\n",
      "Repeat \u001b[1m\u001b[34m#2\n",
      "Repeat \u001b[1m\u001b[34m#3\n",
      "Repeat \u001b[1m\u001b[34m#4\n"
     ]
    },
    {
     "name": "stderr",
     "output_type": "stream",
     "text": [
      "[I 2023-06-16 09:43:10,796] Trial 8 finished with value: 0.5247101902077335 and parameters: {'boosting_type': 'goss', 'learning_rate': 0.0433113856537613, 'lambda_l1': 0.7074023731469192, 'lambda_l2': 0.00021760968620771577, 'max_depth': 5, 'num_leaves': 119, 'feature_fraction': 0.3291848875454608, 'min_data_in_leaf': 47, 'max_bin': 108, 'bagging_freq': 6}. Best is trial 7 with value: 0.1971104513877476.\n"
     ]
    },
    {
     "name": "stdout",
     "output_type": "stream",
     "text": [
      "Repeat \u001b[1m\u001b[34m#5\n",
      "Repeat \u001b[1m\u001b[34m#1\n",
      "Repeat \u001b[1m\u001b[34m#2\n",
      "Repeat \u001b[1m\u001b[34m#3\n",
      "Repeat \u001b[1m\u001b[34m#4\n",
      "Repeat \u001b[1m\u001b[34m#5\n"
     ]
    },
    {
     "name": "stderr",
     "output_type": "stream",
     "text": [
      "[I 2023-06-16 09:43:23,590] Trial 9 finished with value: 0.6693398086770082 and parameters: {'boosting_type': 'dart', 'learning_rate': 0.002531393993687182, 'lambda_l1': 0.000181062818777168, 'lambda_l2': 0.0011275225297403672, 'max_depth': 5, 'num_leaves': 114, 'feature_fraction': 0.46543978472873926, 'min_data_in_leaf': 34, 'max_bin': 170, 'bagging_freq': 3, 'bagging_fraction': 0.40569806772357686}. Best is trial 7 with value: 0.1971104513877476.\n"
     ]
    },
    {
     "name": "stdout",
     "output_type": "stream",
     "text": [
      "Repeat \u001b[1m\u001b[34m#1\n",
      "Repeat \u001b[1m\u001b[34m#2\n",
      "Repeat \u001b[1m\u001b[34m#3\n",
      "Repeat \u001b[1m\u001b[34m#4\n",
      "Repeat \u001b[1m\u001b[34m#5\n"
     ]
    },
    {
     "name": "stderr",
     "output_type": "stream",
     "text": [
      "[I 2023-06-16 09:43:25,049] Trial 10 finished with value: 0.20074258413598853 and parameters: {'boosting_type': 'gbdt', 'learning_rate': 0.18937696867538817, 'lambda_l1': 0.02453847395605894, 'lambda_l2': 3.060264194753544e-06, 'max_depth': 7, 'num_leaves': 96, 'feature_fraction': 0.6738235533309642, 'min_data_in_leaf': 5, 'max_bin': 247, 'bagging_freq': 5, 'bagging_fraction': 0.3074775412798939}. Best is trial 7 with value: 0.1971104513877476.\n"
     ]
    },
    {
     "name": "stdout",
     "output_type": "stream",
     "text": [
      "Repeat \u001b[1m\u001b[34m#1\n",
      "Repeat \u001b[1m\u001b[34m#2\n",
      "Repeat \u001b[1m\u001b[34m#3\n",
      "Repeat \u001b[1m\u001b[34m#4\n",
      "Repeat \u001b[1m\u001b[34m#5\n"
     ]
    },
    {
     "name": "stderr",
     "output_type": "stream",
     "text": [
      "[I 2023-06-16 09:43:26,359] Trial 11 finished with value: 0.19537087000397885 and parameters: {'boosting_type': 'gbdt', 'learning_rate': 0.28616771250497225, 'lambda_l1': 0.023685975483296293, 'lambda_l2': 2.6028499497566292e-06, 'max_depth': 7, 'num_leaves': 96, 'feature_fraction': 0.6909472256140113, 'min_data_in_leaf': 10, 'max_bin': 239, 'bagging_freq': 5, 'bagging_fraction': 0.3075790805918943}. Best is trial 11 with value: 0.19537087000397885.\n"
     ]
    },
    {
     "name": "stdout",
     "output_type": "stream",
     "text": [
      "Repeat \u001b[1m\u001b[34m#1\n",
      "Repeat \u001b[1m\u001b[34m#2\n",
      "Repeat \u001b[1m\u001b[34m#3\n",
      "Repeat \u001b[1m\u001b[34m#4\n",
      "Repeat \u001b[1m\u001b[34m#5\n"
     ]
    },
    {
     "name": "stderr",
     "output_type": "stream",
     "text": [
      "[I 2023-06-16 09:43:27,764] Trial 12 finished with value: 0.1915301349215331 and parameters: {'boosting_type': 'gbdt', 'learning_rate': 0.23988304077516093, 'lambda_l1': 0.021728932050531013, 'lambda_l2': 2.757842162583949e-06, 'max_depth': 8, 'num_leaves': 94, 'feature_fraction': 0.691791681733114, 'min_data_in_leaf': 11, 'max_bin': 32, 'bagging_freq': 4, 'bagging_fraction': 0.3033037936012845}. Best is trial 12 with value: 0.1915301349215331.\n"
     ]
    },
    {
     "name": "stdout",
     "output_type": "stream",
     "text": [
      "Repeat \u001b[1m\u001b[34m#1\n",
      "Repeat \u001b[1m\u001b[34m#2\n",
      "Repeat \u001b[1m\u001b[34m#3\n",
      "Repeat \u001b[1m\u001b[34m#4\n",
      "Repeat \u001b[1m\u001b[34m#5\n"
     ]
    },
    {
     "name": "stderr",
     "output_type": "stream",
     "text": [
      "[I 2023-06-16 09:43:28,906] Trial 13 finished with value: 0.2156900712084009 and parameters: {'boosting_type': 'gbdt', 'learning_rate': 0.2950448009761416, 'lambda_l1': 0.0017339778468395731, 'lambda_l2': 2.741076262042022e-05, 'max_depth': 8, 'num_leaves': 101, 'feature_fraction': 0.6982039891600758, 'min_data_in_leaf': 20, 'max_bin': 249, 'bagging_freq': 5, 'bagging_fraction': 0.41682814612080915}. Best is trial 12 with value: 0.1915301349215331.\n"
     ]
    },
    {
     "name": "stdout",
     "output_type": "stream",
     "text": [
      "Repeat \u001b[1m\u001b[34m#1\n",
      "Repeat \u001b[1m\u001b[34m#2\n",
      "Repeat \u001b[1m\u001b[34m#3\n",
      "Repeat \u001b[1m\u001b[34m#4\n"
     ]
    },
    {
     "name": "stderr",
     "output_type": "stream",
     "text": [
      "[I 2023-06-16 09:43:29,648] Trial 14 finished with value: 0.6973915667428459 and parameters: {'boosting_type': 'gbdt', 'learning_rate': 0.291612780345034, 'lambda_l1': 0.06169598279592154, 'lambda_l2': 1.2295758503465965e-06, 'max_depth': 8, 'num_leaves': 128, 'feature_fraction': 0.6338863651725358, 'min_data_in_leaf': 59, 'max_bin': 214, 'bagging_freq': 4, 'bagging_fraction': 0.3063386379116409}. Best is trial 12 with value: 0.1915301349215331.\n"
     ]
    },
    {
     "name": "stdout",
     "output_type": "stream",
     "text": [
      "Repeat \u001b[1m\u001b[34m#5\n",
      "Repeat \u001b[1m\u001b[34m#1\n",
      "Repeat \u001b[1m\u001b[34m#2\n",
      "Repeat \u001b[1m\u001b[34m#3\n",
      "Repeat \u001b[1m\u001b[34m#4\n",
      "Repeat \u001b[1m\u001b[34m#5\n"
     ]
    },
    {
     "name": "stderr",
     "output_type": "stream",
     "text": [
      "[I 2023-06-16 09:43:31,849] Trial 15 finished with value: 0.19047826333060305 and parameters: {'boosting_type': 'gbdt', 'learning_rate': 0.07247299295090821, 'lambda_l1': 0.0012728183733932725, 'lambda_l2': 8.32208293826422e-05, 'max_depth': 8, 'num_leaves': 101, 'feature_fraction': 0.624983049572618, 'min_data_in_leaf': 23, 'max_bin': 33, 'bagging_freq': 5, 'bagging_fraction': 0.5271402135739491}. Best is trial 15 with value: 0.19047826333060305.\n"
     ]
    },
    {
     "name": "stdout",
     "output_type": "stream",
     "text": [
      "Repeat \u001b[1m\u001b[34m#1\n",
      "Repeat \u001b[1m\u001b[34m#2\n",
      "Repeat \u001b[1m\u001b[34m#3\n",
      "Repeat \u001b[1m\u001b[34m#4\n",
      "Repeat \u001b[1m\u001b[34m#5\n"
     ]
    },
    {
     "name": "stderr",
     "output_type": "stream",
     "text": [
      "[I 2023-06-16 09:43:33,927] Trial 16 finished with value: 0.18758706662468544 and parameters: {'boosting_type': 'gbdt', 'learning_rate': 0.05337621759461066, 'lambda_l1': 1.781267239546095e-05, 'lambda_l2': 0.00013637713101995132, 'max_depth': 9, 'num_leaves': 53, 'feature_fraction': 0.6150950142865904, 'min_data_in_leaf': 20, 'max_bin': 33, 'bagging_freq': 7, 'bagging_fraction': 0.5090950282066605}. Best is trial 16 with value: 0.18758706662468544.\n"
     ]
    },
    {
     "name": "stdout",
     "output_type": "stream",
     "text": [
      "Repeat \u001b[1m\u001b[34m#1\n",
      "Repeat \u001b[1m\u001b[34m#2\n",
      "Repeat \u001b[1m\u001b[34m#3\n",
      "Repeat \u001b[1m\u001b[34m#4\n",
      "Repeat \u001b[1m\u001b[34m#5\n"
     ]
    },
    {
     "name": "stderr",
     "output_type": "stream",
     "text": [
      "[I 2023-06-16 09:43:37,615] Trial 17 finished with value: 0.20105292599264363 and parameters: {'boosting_type': 'gbdt', 'learning_rate': 0.027141808041706194, 'lambda_l1': 9.939572560876999e-06, 'lambda_l2': 0.00015935639531272587, 'max_depth': 10, 'num_leaves': 51, 'feature_fraction': 0.6065799632006306, 'min_data_in_leaf': 24, 'max_bin': 35, 'bagging_freq': 7, 'bagging_fraction': 0.5161854134142604}. Best is trial 16 with value: 0.18758706662468544.\n"
     ]
    },
    {
     "name": "stdout",
     "output_type": "stream",
     "text": [
      "Repeat \u001b[1m\u001b[34m#1\n",
      "Repeat \u001b[1m\u001b[34m#2\n",
      "Repeat \u001b[1m\u001b[34m#3\n",
      "Repeat \u001b[1m\u001b[34m#4\n",
      "Repeat \u001b[1m\u001b[34m#5\n"
     ]
    },
    {
     "name": "stderr",
     "output_type": "stream",
     "text": [
      "[I 2023-06-16 09:43:38,774] Trial 18 finished with value: 0.6609740782779592 and parameters: {'boosting_type': 'gbdt', 'learning_rate': 0.08138425529662335, 'lambda_l1': 2.0293538747676642e-05, 'lambda_l2': 0.005480970718947126, 'max_depth': 9, 'num_leaves': 4, 'feature_fraction': 0.6180884848141922, 'min_data_in_leaf': 54, 'max_bin': 91, 'bagging_freq': 6, 'bagging_fraction': 0.5290423139130218}. Best is trial 16 with value: 0.18758706662468544.\n"
     ]
    },
    {
     "name": "stdout",
     "output_type": "stream",
     "text": [
      "Repeat \u001b[1m\u001b[34m#1\n",
      "Repeat \u001b[1m\u001b[34m#2\n",
      "Repeat \u001b[1m\u001b[34m#3\n",
      "Repeat \u001b[1m\u001b[34m#4\n",
      "Repeat \u001b[1m\u001b[34m#5\n"
     ]
    },
    {
     "name": "stderr",
     "output_type": "stream",
     "text": [
      "[I 2023-06-16 09:43:56,956] Trial 19 finished with value: 0.34693084143297553 and parameters: {'boosting_type': 'dart', 'learning_rate': 0.02628340170236971, 'lambda_l1': 0.0009399297164314802, 'lambda_l2': 8.809028248465156, 'max_depth': 9, 'num_leaves': 46, 'feature_fraction': 0.6460747032760498, 'min_data_in_leaf': 23, 'max_bin': 65, 'bagging_freq': 7, 'bagging_fraction': 0.5578652381042666}. Best is trial 16 with value: 0.18758706662468544.\n"
     ]
    },
    {
     "name": "stdout",
     "output_type": "stream",
     "text": [
      "Repeat \u001b[1m\u001b[34m#1\n",
      "Repeat \u001b[1m\u001b[34m#2\n",
      "Repeat \u001b[1m\u001b[34m#3\n",
      "Repeat \u001b[1m\u001b[34m#4\n",
      "Repeat \u001b[1m\u001b[34m#5\n"
     ]
    },
    {
     "name": "stderr",
     "output_type": "stream",
     "text": [
      "[I 2023-06-16 09:43:59,456] Trial 20 finished with value: 0.3043058499721232 and parameters: {'boosting_type': 'gbdt', 'learning_rate': 0.07602154194048592, 'lambda_l1': 3.051126556887141e-06, 'lambda_l2': 2.0047572681393026e-05, 'max_depth': 6, 'num_leaves': 64, 'feature_fraction': 0.5758377655858016, 'min_data_in_leaf': 41, 'max_bin': 112, 'bagging_freq': 6, 'bagging_fraction': 0.48028858220540177}. Best is trial 16 with value: 0.18758706662468544.\n"
     ]
    },
    {
     "name": "stdout",
     "output_type": "stream",
     "text": [
      "Repeat \u001b[1m\u001b[34m#1\n",
      "Repeat \u001b[1m\u001b[34m#2\n",
      "Repeat \u001b[1m\u001b[34m#3\n",
      "Repeat \u001b[1m\u001b[34m#4\n",
      "Repeat \u001b[1m\u001b[34m#5\n"
     ]
    },
    {
     "name": "stderr",
     "output_type": "stream",
     "text": [
      "[I 2023-06-16 09:44:01,309] Trial 21 finished with value: 0.18384775224676408 and parameters: {'boosting_type': 'gbdt', 'learning_rate': 0.12145212559274751, 'lambda_l1': 4.532607420999843e-05, 'lambda_l2': 1.6834089728401475e-05, 'max_depth': 8, 'num_leaves': 86, 'feature_fraction': 0.6504798384898649, 'min_data_in_leaf': 17, 'max_bin': 37, 'bagging_freq': 4, 'bagging_fraction': 0.4661541680654805}. Best is trial 21 with value: 0.18384775224676408.\n"
     ]
    },
    {
     "name": "stdout",
     "output_type": "stream",
     "text": [
      "Repeat \u001b[1m\u001b[34m#1\n",
      "Repeat \u001b[1m\u001b[34m#2\n",
      "Repeat \u001b[1m\u001b[34m#3\n",
      "Repeat \u001b[1m\u001b[34m#4\n",
      "Repeat \u001b[1m\u001b[34m#5\n"
     ]
    },
    {
     "name": "stderr",
     "output_type": "stream",
     "text": [
      "[I 2023-06-16 09:44:04,354] Trial 22 finished with value: 0.23028377664825234 and parameters: {'boosting_type': 'gbdt', 'learning_rate': 0.03864460069012332, 'lambda_l1': 0.00012194807973568269, 'lambda_l2': 5.236077184363375e-05, 'max_depth': 8, 'num_leaves': 82, 'feature_fraction': 0.6458782907949348, 'min_data_in_leaf': 29, 'max_bin': 32, 'bagging_freq': 5, 'bagging_fraction': 0.49676454055048663}. Best is trial 21 with value: 0.18384775224676408.\n"
     ]
    },
    {
     "name": "stdout",
     "output_type": "stream",
     "text": [
      "Repeat \u001b[1m\u001b[34m#1\n",
      "Repeat \u001b[1m\u001b[34m#2\n",
      "Repeat \u001b[1m\u001b[34m#3\n",
      "Repeat \u001b[1m\u001b[34m#4\n",
      "Repeat \u001b[1m\u001b[34m#5\n"
     ]
    },
    {
     "name": "stderr",
     "output_type": "stream",
     "text": [
      "[I 2023-06-16 09:44:06,790] Trial 23 finished with value: 0.18069758337150615 and parameters: {'boosting_type': 'gbdt', 'learning_rate': 0.10016685520723964, 'lambda_l1': 2.6187188174477335e-05, 'lambda_l2': 0.0007960247297502389, 'max_depth': 9, 'num_leaves': 104, 'feature_fraction': 0.6001521974629775, 'min_data_in_leaf': 17, 'max_bin': 55, 'bagging_freq': 4, 'bagging_fraction': 0.5692206608926972}. Best is trial 23 with value: 0.18069758337150615.\n"
     ]
    },
    {
     "name": "stdout",
     "output_type": "stream",
     "text": [
      "Repeat \u001b[1m\u001b[34m#1\n",
      "Repeat \u001b[1m\u001b[34m#2\n",
      "Repeat \u001b[1m\u001b[34m#3\n",
      "Repeat \u001b[1m\u001b[34m#4\n",
      "Repeat \u001b[1m\u001b[34m#5\n"
     ]
    },
    {
     "name": "stderr",
     "output_type": "stream",
     "text": [
      "[I 2023-06-16 09:44:08,407] Trial 24 finished with value: 0.18103510567946887 and parameters: {'boosting_type': 'gbdt', 'learning_rate': 0.12752611312253614, 'lambda_l1': 2.6594704394100685e-05, 'lambda_l2': 0.0008057325661722977, 'max_depth': 9, 'num_leaves': 110, 'feature_fraction': 0.5981928696337371, 'min_data_in_leaf': 15, 'max_bin': 59, 'bagging_freq': 4, 'bagging_fraction': 0.5835880237791191}. Best is trial 23 with value: 0.18069758337150615.\n"
     ]
    },
    {
     "name": "stdout",
     "output_type": "stream",
     "text": [
      "Repeat \u001b[1m\u001b[34m#1\n",
      "Repeat \u001b[1m\u001b[34m#2\n",
      "Repeat \u001b[1m\u001b[34m#3\n",
      "Repeat \u001b[1m\u001b[34m#4\n",
      "Repeat \u001b[1m\u001b[34m#5\n"
     ]
    },
    {
     "name": "stderr",
     "output_type": "stream",
     "text": [
      "[I 2023-06-16 09:44:10,569] Trial 25 finished with value: 0.17124929027278177 and parameters: {'boosting_type': 'gbdt', 'learning_rate': 0.12102686461428425, 'lambda_l1': 7.873835326065504e-07, 'lambda_l2': 0.0022950938276290783, 'max_depth': 10, 'num_leaves': 106, 'feature_fraction': 0.5777307411561525, 'min_data_in_leaf': 14, 'max_bin': 62, 'bagging_freq': 4, 'bagging_fraction': 0.5948950110234019}. Best is trial 25 with value: 0.17124929027278177.\n"
     ]
    },
    {
     "name": "stdout",
     "output_type": "stream",
     "text": [
      "Repeat \u001b[1m\u001b[34m#1\n",
      "Repeat \u001b[1m\u001b[34m#2\n",
      "Repeat \u001b[1m\u001b[34m#3\n",
      "Repeat \u001b[1m\u001b[34m#4\n",
      "Repeat \u001b[1m\u001b[34m#5\n"
     ]
    },
    {
     "name": "stderr",
     "output_type": "stream",
     "text": [
      "[I 2023-06-16 09:44:12,457] Trial 26 finished with value: 0.15524819967296416 and parameters: {'boosting_type': 'gbdt', 'learning_rate': 0.14878141622666324, 'lambda_l1': 1.5275293348134327e-06, 'lambda_l2': 0.001402867909315094, 'max_depth': 10, 'num_leaves': 110, 'feature_fraction': 0.581170031322097, 'min_data_in_leaf': 6, 'max_bin': 102, 'bagging_freq': 2, 'bagging_fraction': 0.6068267329401877}. Best is trial 26 with value: 0.15524819967296416.\n"
     ]
    },
    {
     "name": "stdout",
     "output_type": "stream",
     "text": [
      "Repeat \u001b[1m\u001b[34m#1\n",
      "Repeat \u001b[1m\u001b[34m#2\n",
      "Repeat \u001b[1m\u001b[34m#3\n",
      "Repeat \u001b[1m\u001b[34m#4\n",
      "Repeat \u001b[1m\u001b[34m#5\n"
     ]
    },
    {
     "name": "stderr",
     "output_type": "stream",
     "text": [
      "[I 2023-06-16 09:44:40,597] Trial 27 finished with value: 0.22469524460101545 and parameters: {'boosting_type': 'dart', 'learning_rate': 0.011144190945799074, 'lambda_l1': 1.0168199423206448e-06, 'lambda_l2': 0.005528080677011709, 'max_depth': 10, 'num_leaves': 119, 'feature_fraction': 0.5578903031717068, 'min_data_in_leaf': 6, 'max_bin': 105, 'bagging_freq': 2, 'bagging_fraction': 0.6351772112097438}. Best is trial 26 with value: 0.15524819967296416.\n"
     ]
    },
    {
     "name": "stdout",
     "output_type": "stream",
     "text": [
      "Repeat \u001b[1m\u001b[34m#1\n",
      "Repeat \u001b[1m\u001b[34m#2\n",
      "Repeat \u001b[1m\u001b[34m#3\n",
      "Repeat \u001b[1m\u001b[34m#4\n",
      "Repeat \u001b[1m\u001b[34m#5\n"
     ]
    },
    {
     "name": "stderr",
     "output_type": "stream",
     "text": [
      "[I 2023-06-16 09:44:42,259] Trial 28 finished with value: 0.6053406643113552 and parameters: {'boosting_type': 'goss', 'learning_rate': 0.1054354539630966, 'lambda_l1': 2.819619239489631e-07, 'lambda_l2': 0.0011686149768834293, 'max_depth': 10, 'num_leaves': 107, 'feature_fraction': 0.5402380326519013, 'min_data_in_leaf': 71, 'max_bin': 129, 'bagging_freq': 2}. Best is trial 26 with value: 0.15524819967296416.\n"
     ]
    },
    {
     "name": "stdout",
     "output_type": "stream",
     "text": [
      "Repeat \u001b[1m\u001b[34m#1\n",
      "Repeat \u001b[1m\u001b[34m#2\n",
      "Repeat \u001b[1m\u001b[34m#3\n",
      "Repeat \u001b[1m\u001b[34m#4\n",
      "Repeat \u001b[1m\u001b[34m#5\n"
     ]
    },
    {
     "name": "stderr",
     "output_type": "stream",
     "text": [
      "[I 2023-06-16 09:44:47,720] Trial 29 finished with value: 0.2343421679035833 and parameters: {'boosting_type': 'gbdt', 'learning_rate': 0.015882406924746014, 'lambda_l1': 4.5943482174784916e-06, 'lambda_l2': 0.07038503407733247, 'max_depth': 10, 'num_leaves': 122, 'feature_fraction': 0.585410810998995, 'min_data_in_leaf': 37, 'max_bin': 73, 'bagging_freq': 3, 'bagging_fraction': 0.6906489191241098}. Best is trial 26 with value: 0.15524819967296416.\n"
     ]
    },
    {
     "name": "stdout",
     "output_type": "stream",
     "text": [
      "Repeat \u001b[1m\u001b[34m#1\n",
      "Repeat \u001b[1m\u001b[34m#2\n",
      "Repeat \u001b[1m\u001b[34m#3\n",
      "Repeat \u001b[1m\u001b[34m#4\n"
     ]
    },
    {
     "name": "stderr",
     "output_type": "stream",
     "text": [
      "[I 2023-06-16 09:44:48,406] Trial 30 finished with value: 0.4667582714468862 and parameters: {'boosting_type': 'goss', 'learning_rate': 0.16150864133478252, 'lambda_l1': 1.790317745393809e-08, 'lambda_l2': 0.0006755364910689272, 'max_depth': 10, 'num_leaves': 107, 'feature_fraction': 0.5144814108543914, 'min_data_in_leaf': 29, 'max_bin': 97, 'bagging_freq': 2}. Best is trial 26 with value: 0.15524819967296416.\n"
     ]
    },
    {
     "name": "stdout",
     "output_type": "stream",
     "text": [
      "Repeat \u001b[1m\u001b[34m#5\n",
      "Repeat \u001b[1m\u001b[34m#1\n",
      "Repeat \u001b[1m\u001b[34m#2\n",
      "Repeat \u001b[1m\u001b[34m#3\n",
      "Repeat \u001b[1m\u001b[34m#4\n",
      "Repeat \u001b[1m\u001b[34m#5\n"
     ]
    },
    {
     "name": "stderr",
     "output_type": "stream",
     "text": [
      "[I 2023-06-16 09:44:50,394] Trial 31 finished with value: 0.172110444282848 and parameters: {'boosting_type': 'gbdt', 'learning_rate': 0.1499698055840844, 'lambda_l1': 4.082849225158107e-05, 'lambda_l2': 0.000830196731171277, 'max_depth': 9, 'num_leaves': 107, 'feature_fraction': 0.5963947317645679, 'min_data_in_leaf': 14, 'max_bin': 63, 'bagging_freq': 4, 'bagging_fraction': 0.5808063646633603}. Best is trial 26 with value: 0.15524819967296416.\n"
     ]
    },
    {
     "name": "stdout",
     "output_type": "stream",
     "text": [
      "Repeat \u001b[1m\u001b[34m#1\n",
      "Repeat \u001b[1m\u001b[34m#2\n",
      "Repeat \u001b[1m\u001b[34m#3\n",
      "Repeat \u001b[1m\u001b[34m#4\n",
      "Repeat \u001b[1m\u001b[34m#5\n"
     ]
    },
    {
     "name": "stderr",
     "output_type": "stream",
     "text": [
      "[I 2023-06-16 09:44:52,448] Trial 32 finished with value: 0.14540191776657313 and parameters: {'boosting_type': 'gbdt', 'learning_rate': 0.16478269680093288, 'lambda_l1': 2.8870529514095395e-06, 'lambda_l2': 0.002083201095195633, 'max_depth': 9, 'num_leaves': 128, 'feature_fraction': 0.5645076709815077, 'min_data_in_leaf': 5, 'max_bin': 53, 'bagging_freq': 3, 'bagging_fraction': 0.5989111888819133}. Best is trial 32 with value: 0.14540191776657313.\n"
     ]
    },
    {
     "name": "stdout",
     "output_type": "stream",
     "text": [
      "Repeat \u001b[1m\u001b[34m#1\n",
      "Repeat \u001b[1m\u001b[34m#2\n",
      "Repeat \u001b[1m\u001b[34m#3\n",
      "Repeat \u001b[1m\u001b[34m#4\n",
      "Repeat \u001b[1m\u001b[34m#5\n"
     ]
    },
    {
     "name": "stderr",
     "output_type": "stream",
     "text": [
      "[I 2023-06-16 09:44:55,820] Trial 33 finished with value: 0.164384290449837 and parameters: {'boosting_type': 'gbdt', 'learning_rate': 0.16476985221524723, 'lambda_l1': 1.642761682898781e-07, 'lambda_l2': 0.011730352215865523, 'max_depth': 9, 'num_leaves': 128, 'feature_fraction': 0.5617968984590179, 'min_data_in_leaf': 7, 'max_bin': 79, 'bagging_freq': 3, 'bagging_fraction': 0.6269382416541786}. Best is trial 32 with value: 0.14540191776657313.\n"
     ]
    },
    {
     "name": "stdout",
     "output_type": "stream",
     "text": [
      "Repeat \u001b[1m\u001b[34m#1\n",
      "Repeat \u001b[1m\u001b[34m#2\n",
      "Repeat \u001b[1m\u001b[34m#3\n",
      "Repeat \u001b[1m\u001b[34m#4\n",
      "Repeat \u001b[1m\u001b[34m#5\n"
     ]
    },
    {
     "name": "stderr",
     "output_type": "stream",
     "text": [
      "[I 2023-06-16 09:44:57,892] Trial 34 finished with value: 0.173831686355689 and parameters: {'boosting_type': 'gbdt', 'learning_rate': 0.18794324114846983, 'lambda_l1': 1.0236058537116231e-07, 'lambda_l2': 0.011554699687968316, 'max_depth': 10, 'num_leaves': 128, 'feature_fraction': 0.5545830758325944, 'min_data_in_leaf': 5, 'max_bin': 82, 'bagging_freq': 3, 'bagging_fraction': 0.6199135300530417}. Best is trial 32 with value: 0.14540191776657313.\n"
     ]
    },
    {
     "name": "stdout",
     "output_type": "stream",
     "text": [
      "Repeat \u001b[1m\u001b[34m#1\n",
      "Repeat \u001b[1m\u001b[34m#2\n",
      "Repeat \u001b[1m\u001b[34m#3\n",
      "Repeat \u001b[1m\u001b[34m#4\n",
      "Repeat \u001b[1m\u001b[34m#5\n"
     ]
    },
    {
     "name": "stderr",
     "output_type": "stream",
     "text": [
      "[I 2023-06-16 09:45:25,703] Trial 35 finished with value: 0.1800101300816073 and parameters: {'boosting_type': 'dart', 'learning_rate': 0.027851776264910737, 'lambda_l1': 1.107952594484098e-07, 'lambda_l2': 0.02411543141381706, 'max_depth': 9, 'num_leaves': 118, 'feature_fraction': 0.523436339121981, 'min_data_in_leaf': 9, 'max_bin': 121, 'bagging_freq': 1, 'bagging_fraction': 0.6245810059119111}. Best is trial 32 with value: 0.14540191776657313.\n"
     ]
    },
    {
     "name": "stdout",
     "output_type": "stream",
     "text": [
      "Repeat \u001b[1m\u001b[34m#1\n",
      "Repeat \u001b[1m\u001b[34m#2\n",
      "Repeat \u001b[1m\u001b[34m#3\n",
      "Repeat \u001b[1m\u001b[34m#4\n",
      "Repeat \u001b[1m\u001b[34m#5\n"
     ]
    },
    {
     "name": "stderr",
     "output_type": "stream",
     "text": [
      "[I 2023-06-16 09:45:27,872] Trial 36 finished with value: 0.17856156978852727 and parameters: {'boosting_type': 'goss', 'learning_rate': 0.07416876850638665, 'lambda_l1': 6.095572649397423e-07, 'lambda_l2': 0.0031235960952936243, 'max_depth': 10, 'num_leaves': 127, 'feature_fraction': 0.5570703901099794, 'min_data_in_leaf': 10, 'max_bin': 163, 'bagging_freq': 2}. Best is trial 32 with value: 0.14540191776657313.\n"
     ]
    },
    {
     "name": "stdout",
     "output_type": "stream",
     "text": [
      "Repeat \u001b[1m\u001b[34m#1\n",
      "Repeat \u001b[1m\u001b[34m#2\n",
      "Repeat \u001b[1m\u001b[34m#3\n",
      "Repeat \u001b[1m\u001b[34m#4\n",
      "Repeat \u001b[1m\u001b[34m#5\n"
     ]
    },
    {
     "name": "stderr",
     "output_type": "stream",
     "text": [
      "[I 2023-06-16 09:45:28,456] Trial 37 finished with value: 0.6973915667428459 and parameters: {'boosting_type': 'gbdt', 'learning_rate': 0.005951147910225116, 'lambda_l1': 4.904437187218184e-08, 'lambda_l2': 0.029036017888154884, 'max_depth': 10, 'num_leaves': 114, 'feature_fraction': 0.5767130971219487, 'min_data_in_leaf': 100, 'max_bin': 76, 'bagging_freq': 3, 'bagging_fraction': 0.6622335681098063}. Best is trial 32 with value: 0.14540191776657313.\n"
     ]
    },
    {
     "name": "stdout",
     "output_type": "stream",
     "text": [
      "Repeat \u001b[1m\u001b[34m#1\n",
      "Repeat \u001b[1m\u001b[34m#2\n",
      "Repeat \u001b[1m\u001b[34m#3\n",
      "Repeat \u001b[1m\u001b[34m#4\n",
      "Repeat \u001b[1m\u001b[34m#5\n"
     ]
    },
    {
     "name": "stderr",
     "output_type": "stream",
     "text": [
      "[I 2023-06-16 09:45:29,779] Trial 38 finished with value: 0.19446184856401838 and parameters: {'boosting_type': 'gbdt', 'learning_rate': 0.19241263002510142, 'lambda_l1': 1.1217786418265326e-08, 'lambda_l2': 0.002677197719917638, 'max_depth': 9, 'num_leaves': 122, 'feature_fraction': 0.5393721936171882, 'min_data_in_leaf': 26, 'max_bin': 143, 'bagging_freq': 2, 'bagging_fraction': 0.6082427287322878}. Best is trial 32 with value: 0.14540191776657313.\n"
     ]
    },
    {
     "name": "stdout",
     "output_type": "stream",
     "text": [
      "Repeat \u001b[1m\u001b[34m#1\n",
      "Repeat \u001b[1m\u001b[34m#2\n",
      "Repeat \u001b[1m\u001b[34m#3\n",
      "Repeat \u001b[1m\u001b[34m#4\n",
      "Repeat \u001b[1m\u001b[34m#5\n"
     ]
    },
    {
     "name": "stderr",
     "output_type": "stream",
     "text": [
      "[I 2023-06-16 09:45:32,470] Trial 39 finished with value: 0.15728726258978284 and parameters: {'boosting_type': 'gbdt', 'learning_rate': 0.10948337097872445, 'lambda_l1': 2.5016740197456973e-06, 'lambda_l2': 0.10685956281441882, 'max_depth': 10, 'num_leaves': 113, 'feature_fraction': 0.49675999901809353, 'min_data_in_leaf': 5, 'max_bin': 86, 'bagging_freq': 1, 'bagging_fraction': 0.6450365980033849}. Best is trial 32 with value: 0.14540191776657313.\n"
     ]
    },
    {
     "name": "stdout",
     "output_type": "stream",
     "text": [
      "Repeat \u001b[1m\u001b[34m#1\n",
      "Repeat \u001b[1m\u001b[34m#2\n",
      "Repeat \u001b[1m\u001b[34m#3\n",
      "Repeat \u001b[1m\u001b[34m#4\n",
      "Repeat \u001b[1m\u001b[34m#5\n"
     ]
    },
    {
     "name": "stderr",
     "output_type": "stream",
     "text": [
      "[I 2023-06-16 09:45:36,162] Trial 40 finished with value: 0.16926896986621834 and parameters: {'boosting_type': 'goss', 'learning_rate': 0.04639784377905732, 'lambda_l1': 1.8064411645944621e-06, 'lambda_l2': 0.42264569340432045, 'max_depth': 6, 'num_leaves': 90, 'feature_fraction': 0.49592801098872125, 'min_data_in_leaf': 5, 'max_bin': 95, 'bagging_freq': 1}. Best is trial 32 with value: 0.14540191776657313.\n"
     ]
    },
    {
     "name": "stdout",
     "output_type": "stream",
     "text": [
      "Repeat \u001b[1m\u001b[34m#1\n",
      "Repeat \u001b[1m\u001b[34m#2\n",
      "Repeat \u001b[1m\u001b[34m#3\n",
      "Repeat \u001b[1m\u001b[34m#4\n",
      "Repeat \u001b[1m\u001b[34m#5\n"
     ]
    },
    {
     "name": "stderr",
     "output_type": "stream",
     "text": [
      "[I 2023-06-16 09:45:39,580] Trial 41 finished with value: 0.16325402799100813 and parameters: {'boosting_type': 'goss', 'learning_rate': 0.050027534908453325, 'lambda_l1': 2.3727822013180563e-06, 'lambda_l2': 0.3918729909082339, 'max_depth': 6, 'num_leaves': 114, 'feature_fraction': 0.49911871437992394, 'min_data_in_leaf': 5, 'max_bin': 95, 'bagging_freq': 1}. Best is trial 32 with value: 0.14540191776657313.\n"
     ]
    },
    {
     "name": "stdout",
     "output_type": "stream",
     "text": [
      "Repeat \u001b[1m\u001b[34m#1\n",
      "Repeat \u001b[1m\u001b[34m#2\n",
      "Repeat \u001b[1m\u001b[34m#3\n",
      "Repeat \u001b[1m\u001b[34m#4\n",
      "Repeat \u001b[1m\u001b[34m#5\n"
     ]
    },
    {
     "name": "stderr",
     "output_type": "stream",
     "text": [
      "[I 2023-06-16 09:45:41,333] Trial 42 finished with value: 0.1721494175307745 and parameters: {'boosting_type': 'goss', 'learning_rate': 0.17876659908751105, 'lambda_l1': 2.472015072791025e-07, 'lambda_l2': 0.12456265494898877, 'max_depth': 6, 'num_leaves': 112, 'feature_fraction': 0.4723312030980349, 'min_data_in_leaf': 8, 'max_bin': 49, 'bagging_freq': 1}. Best is trial 32 with value: 0.14540191776657313.\n"
     ]
    },
    {
     "name": "stdout",
     "output_type": "stream",
     "text": [
      "Repeat \u001b[1m\u001b[34m#1\n",
      "Repeat \u001b[1m\u001b[34m#2\n",
      "Repeat \u001b[1m\u001b[34m#3\n",
      "Repeat \u001b[1m\u001b[34m#4\n",
      "Repeat \u001b[1m\u001b[34m#5\n"
     ]
    },
    {
     "name": "stderr",
     "output_type": "stream",
     "text": [
      "[I 2023-06-16 09:45:43,710] Trial 43 finished with value: 0.19554325146888796 and parameters: {'boosting_type': 'goss', 'learning_rate': 0.08612401527748237, 'lambda_l1': 4.71390868984213e-06, 'lambda_l2': 0.18472726897815508, 'max_depth': 7, 'num_leaves': 122, 'feature_fraction': 0.5043651254173611, 'min_data_in_leaf': 18, 'max_bin': 88, 'bagging_freq': 1}. Best is trial 32 with value: 0.14540191776657313.\n"
     ]
    },
    {
     "name": "stdout",
     "output_type": "stream",
     "text": [
      "Repeat \u001b[1m\u001b[34m#1\n",
      "Repeat \u001b[1m\u001b[34m#2\n",
      "Repeat \u001b[1m\u001b[34m#3\n",
      "Repeat \u001b[1m\u001b[34m#4\n",
      "Repeat \u001b[1m\u001b[34m#5\n"
     ]
    },
    {
     "name": "stderr",
     "output_type": "stream",
     "text": [
      "[I 2023-06-16 09:45:46,287] Trial 44 finished with value: 0.17784955838428357 and parameters: {'boosting_type': 'goss', 'learning_rate': 0.06269169550278042, 'lambda_l1': 1.8840819958681127e-06, 'lambda_l2': 0.023769162636971642, 'max_depth': 6, 'num_leaves': 73, 'feature_fraction': 0.45362637547795576, 'min_data_in_leaf': 12, 'max_bin': 74, 'bagging_freq': 2}. Best is trial 32 with value: 0.14540191776657313.\n"
     ]
    },
    {
     "name": "stdout",
     "output_type": "stream",
     "text": [
      "Repeat \u001b[1m\u001b[34m#1\n",
      "Repeat \u001b[1m\u001b[34m#2\n",
      "Repeat \u001b[1m\u001b[34m#3\n",
      "Repeat \u001b[1m\u001b[34m#4\n",
      "Repeat \u001b[1m\u001b[34m#5\n"
     ]
    },
    {
     "name": "stderr",
     "output_type": "stream",
     "text": [
      "[I 2023-06-16 09:46:13,889] Trial 45 finished with value: 0.22523293467326266 and parameters: {'boosting_type': 'dart', 'learning_rate': 0.22076678817227305, 'lambda_l1': 6.65611003295585e-06, 'lambda_l2': 0.012363049894858693, 'max_depth': 7, 'num_leaves': 115, 'feature_fraction': 0.48513200367567566, 'min_data_in_leaf': 5, 'max_bin': 118, 'bagging_freq': 1, 'bagging_fraction': 0.6589450908741756}. Best is trial 32 with value: 0.14540191776657313.\n"
     ]
    },
    {
     "name": "stdout",
     "output_type": "stream",
     "text": [
      "Repeat \u001b[1m\u001b[34m#1\n",
      "Repeat \u001b[1m\u001b[34m#2\n",
      "Repeat \u001b[1m\u001b[34m#3\n",
      "Repeat \u001b[1m\u001b[34m#4\n",
      "Repeat \u001b[1m\u001b[34m#5\n"
     ]
    },
    {
     "name": "stderr",
     "output_type": "stream",
     "text": [
      "[I 2023-06-16 09:46:16,842] Trial 46 finished with value: 0.176346050797819 and parameters: {'boosting_type': 'goss', 'learning_rate': 0.11005693992987226, 'lambda_l1': 3.0996780028605174e-07, 'lambda_l2': 0.9412212866753256, 'max_depth': 4, 'num_leaves': 125, 'feature_fraction': 0.5189753594214066, 'min_data_in_leaf': 10, 'max_bin': 47, 'bagging_freq': 2}. Best is trial 32 with value: 0.14540191776657313.\n"
     ]
    },
    {
     "name": "stdout",
     "output_type": "stream",
     "text": [
      "Repeat \u001b[1m\u001b[34m#1\n",
      "Repeat \u001b[1m\u001b[34m#2\n",
      "Repeat \u001b[1m\u001b[34m#3\n",
      "Repeat \u001b[1m\u001b[34m#4\n",
      "Repeat \u001b[1m\u001b[34m#5\n"
     ]
    },
    {
     "name": "stderr",
     "output_type": "stream",
     "text": [
      "[I 2023-06-16 09:46:19,511] Trial 47 finished with value: 0.19531177017703777 and parameters: {'boosting_type': 'gbdt', 'learning_rate': 0.14888321386434206, 'lambda_l1': 1.8553990160070872e-06, 'lambda_l2': 0.05300649400483011, 'max_depth': 10, 'num_leaves': 97, 'feature_fraction': 0.5383971137107484, 'min_data_in_leaf': 33, 'max_bin': 103, 'bagging_freq': 3, 'bagging_fraction': 0.6422566128702486}. Best is trial 32 with value: 0.14540191776657313.\n"
     ]
    },
    {
     "name": "stdout",
     "output_type": "stream",
     "text": [
      "Repeat \u001b[1m\u001b[34m#1\n",
      "Repeat \u001b[1m\u001b[34m#2\n",
      "Repeat \u001b[1m\u001b[34m#3\n",
      "Repeat \u001b[1m\u001b[34m#4\n",
      "Repeat \u001b[1m\u001b[34m#5\n"
     ]
    },
    {
     "name": "stderr",
     "output_type": "stream",
     "text": [
      "[I 2023-06-16 09:46:20,186] Trial 48 finished with value: 0.6973915667428459 and parameters: {'boosting_type': 'gbdt', 'learning_rate': 0.2350851733853391, 'lambda_l1': 4.8732932718290426e-08, 'lambda_l2': 0.34860252670572467, 'max_depth': 6, 'num_leaves': 116, 'feature_fraction': 0.4300339816267153, 'min_data_in_leaf': 75, 'max_bin': 135, 'bagging_freq': 1, 'bagging_fraction': 0.6779196290539851}. Best is trial 32 with value: 0.14540191776657313.\n"
     ]
    },
    {
     "name": "stdout",
     "output_type": "stream",
     "text": [
      "Repeat \u001b[1m\u001b[34m#1\n",
      "Repeat \u001b[1m\u001b[34m#2\n",
      "Repeat \u001b[1m\u001b[34m#3\n",
      "Repeat \u001b[1m\u001b[34m#4\n",
      "Repeat \u001b[1m\u001b[34m#5\n"
     ]
    },
    {
     "name": "stderr",
     "output_type": "stream",
     "text": [
      "[I 2023-06-16 09:46:25,153] Trial 49 finished with value: 0.18904942741327344 and parameters: {'boosting_type': 'gbdt', 'learning_rate': 0.037896226769522284, 'lambda_l1': 8.521339663710576e-06, 'lambda_l2': 1.9096469608827666, 'max_depth': 5, 'num_leaves': 100, 'feature_fraction': 0.5085555394086593, 'min_data_in_leaf': 19, 'max_bin': 82, 'bagging_freq': 3, 'bagging_fraction': 0.647826272031763}. Best is trial 32 with value: 0.14540191776657313.\n"
     ]
    },
    {
     "name": "stdout",
     "output_type": "stream",
     "text": [
      "Repeat \u001b[1m\u001b[34m#1\n",
      "Repeat \u001b[1m\u001b[34m#2\n",
      "Repeat \u001b[1m\u001b[34m#3\n",
      "Repeat \u001b[1m\u001b[34m#4\n"
     ]
    },
    {
     "name": "stderr",
     "output_type": "stream",
     "text": [
      "[I 2023-06-16 09:46:25,773] Trial 50 finished with value: 0.5286795183538318 and parameters: {'boosting_type': 'goss', 'learning_rate': 0.29623034356540745, 'lambda_l1': 3.2077401581639284e-07, 'lambda_l2': 0.00037947581554998903, 'max_depth': 7, 'num_leaves': 112, 'feature_fraction': 0.5275845701665592, 'min_data_in_leaf': 47, 'max_bin': 70, 'bagging_freq': 2}. Best is trial 32 with value: 0.14540191776657313.\n"
     ]
    },
    {
     "name": "stdout",
     "output_type": "stream",
     "text": [
      "Repeat \u001b[1m\u001b[34m#5\n",
      "Repeat \u001b[1m\u001b[34m#1\n",
      "Repeat \u001b[1m\u001b[34m#2\n",
      "Repeat \u001b[1m\u001b[34m#3\n",
      "Repeat \u001b[1m\u001b[34m#4\n",
      "Repeat \u001b[1m\u001b[34m#5\n"
     ]
    },
    {
     "name": "stderr",
     "output_type": "stream",
     "text": [
      "[I 2023-06-16 09:46:30,851] Trial 51 finished with value: 0.17045094774815217 and parameters: {'boosting_type': 'goss', 'learning_rate': 0.04673627835791843, 'lambda_l1': 2.267674312818922e-06, 'lambda_l2': 0.32884816826447405, 'max_depth': 6, 'num_leaves': 90, 'feature_fraction': 0.49650163017867227, 'min_data_in_leaf': 5, 'max_bin': 95, 'bagging_freq': 1}. Best is trial 32 with value: 0.14540191776657313.\n"
     ]
    },
    {
     "name": "stdout",
     "output_type": "stream",
     "text": [
      "Repeat \u001b[1m\u001b[34m#1\n",
      "Repeat \u001b[1m\u001b[34m#2\n",
      "Repeat \u001b[1m\u001b[34m#3\n",
      "Repeat \u001b[1m\u001b[34m#4\n",
      "Repeat \u001b[1m\u001b[34m#5\n"
     ]
    },
    {
     "name": "stderr",
     "output_type": "stream",
     "text": [
      "[I 2023-06-16 09:46:34,459] Trial 52 finished with value: 0.18249607724590577 and parameters: {'boosting_type': 'goss', 'learning_rate': 0.06252028769344428, 'lambda_l1': 1.2708457955271365e-06, 'lambda_l2': 0.13123317087968978, 'max_depth': 6, 'num_leaves': 92, 'feature_fraction': 0.4892984732184623, 'min_data_in_leaf': 12, 'max_bin': 99, 'bagging_freq': 1}. Best is trial 32 with value: 0.14540191776657313.\n"
     ]
    },
    {
     "name": "stdout",
     "output_type": "stream",
     "text": [
      "Repeat \u001b[1m\u001b[34m#1\n",
      "Repeat \u001b[1m\u001b[34m#2\n",
      "Repeat \u001b[1m\u001b[34m#3\n",
      "Repeat \u001b[1m\u001b[34m#4\n",
      "Repeat \u001b[1m\u001b[34m#5\n"
     ]
    },
    {
     "name": "stderr",
     "output_type": "stream",
     "text": [
      "[I 2023-06-16 09:46:37,197] Trial 53 finished with value: 0.1722711035844105 and parameters: {'boosting_type': 'goss', 'learning_rate': 0.09085508651857735, 'lambda_l1': 5.140709380932723e-07, 'lambda_l2': 0.5237987499622924, 'max_depth': 5, 'num_leaves': 122, 'feature_fraction': 0.5026178247473427, 'min_data_in_leaf': 8, 'max_bin': 112, 'bagging_freq': 1}. Best is trial 32 with value: 0.14540191776657313.\n"
     ]
    },
    {
     "name": "stdout",
     "output_type": "stream",
     "text": [
      "Repeat \u001b[1m\u001b[34m#1\n",
      "Repeat \u001b[1m\u001b[34m#2\n",
      "Repeat \u001b[1m\u001b[34m#3\n",
      "Repeat \u001b[1m\u001b[34m#4\n",
      "Repeat \u001b[1m\u001b[34m#5\n"
     ]
    },
    {
     "name": "stderr",
     "output_type": "stream",
     "text": [
      "[I 2023-06-16 09:46:40,443] Trial 54 finished with value: 0.1594886496805914 and parameters: {'boosting_type': 'goss', 'learning_rate': 0.053270852433698335, 'lambda_l1': 3.403836089170034e-06, 'lambda_l2': 0.05330237608856786, 'max_depth': 7, 'num_leaves': 81, 'feature_fraction': 0.4833916860148367, 'min_data_in_leaf': 8, 'max_bin': 87, 'bagging_freq': 2}. Best is trial 32 with value: 0.14540191776657313.\n"
     ]
    },
    {
     "name": "stdout",
     "output_type": "stream",
     "text": [
      "Repeat \u001b[1m\u001b[34m#1\n",
      "Repeat \u001b[1m\u001b[34m#2\n",
      "Repeat \u001b[1m\u001b[34m#3\n",
      "Repeat \u001b[1m\u001b[34m#4\n",
      "Repeat \u001b[1m\u001b[34m#5\n"
     ]
    },
    {
     "name": "stderr",
     "output_type": "stream",
     "text": [
      "[I 2023-06-16 09:46:42,533] Trial 55 finished with value: 0.1728487133729339 and parameters: {'boosting_type': 'gbdt', 'learning_rate': 0.1560028512924924, 'lambda_l1': 9.882304185307877e-06, 'lambda_l2': 0.0076865370609175395, 'max_depth': 8, 'num_leaves': 31, 'feature_fraction': 0.47779719606937965, 'min_data_in_leaf': 22, 'max_bin': 83, 'bagging_freq': 3, 'bagging_fraction': 0.612694010146206}. Best is trial 32 with value: 0.14540191776657313.\n"
     ]
    },
    {
     "name": "stdout",
     "output_type": "stream",
     "text": [
      "Repeat \u001b[1m\u001b[34m#1\n",
      "Repeat \u001b[1m\u001b[34m#2\n",
      "Repeat \u001b[1m\u001b[34m#3\n",
      "Repeat \u001b[1m\u001b[34m#4\n",
      "Repeat \u001b[1m\u001b[34m#5\n"
     ]
    },
    {
     "name": "stderr",
     "output_type": "stream",
     "text": [
      "[I 2023-06-16 09:46:45,350] Trial 56 finished with value: 0.16914363078060496 and parameters: {'boosting_type': 'gbdt', 'learning_rate': 0.05799108941185725, 'lambda_l1': 7.950501209945049e-05, 'lambda_l2': 0.06841381349473524, 'max_depth': 7, 'num_leaves': 80, 'feature_fraction': 0.46006725610198285, 'min_data_in_leaf': 14, 'max_bin': 43, 'bagging_freq': 2, 'bagging_fraction': 0.6958030282839445}. Best is trial 32 with value: 0.14540191776657313.\n"
     ]
    },
    {
     "name": "stdout",
     "output_type": "stream",
     "text": [
      "Repeat \u001b[1m\u001b[34m#1\n",
      "Repeat \u001b[1m\u001b[34m#2\n",
      "Repeat \u001b[1m\u001b[34m#3\n",
      "Repeat \u001b[1m\u001b[34m#4\n",
      "Repeat \u001b[1m\u001b[34m#5\n"
     ]
    },
    {
     "name": "stderr",
     "output_type": "stream",
     "text": [
      "[I 2023-06-16 09:47:12,146] Trial 57 finished with value: 0.20861226268091157 and parameters: {'boosting_type': 'dart', 'learning_rate': 0.09200775193825907, 'lambda_l1': 3.840909872484978e-06, 'lambda_l2': 0.016765337524879118, 'max_depth': 8, 'num_leaves': 74, 'feature_fraction': 0.5311519598762119, 'min_data_in_leaf': 9, 'max_bin': 68, 'bagging_freq': 2, 'bagging_fraction': 0.5557433952397266}. Best is trial 32 with value: 0.14540191776657313.\n"
     ]
    },
    {
     "name": "stdout",
     "output_type": "stream",
     "text": [
      "Repeat \u001b[1m\u001b[34m#1\n",
      "Repeat \u001b[1m\u001b[34m#2\n",
      "Repeat \u001b[1m\u001b[34m#3\n",
      "Repeat \u001b[1m\u001b[34m#4\n",
      "Repeat \u001b[1m\u001b[34m#5\n"
     ]
    },
    {
     "name": "stderr",
     "output_type": "stream",
     "text": [
      "[I 2023-06-16 09:47:14,105] Trial 58 finished with value: 0.19432727910655814 and parameters: {'boosting_type': 'goss', 'learning_rate': 0.22023681618628027, 'lambda_l1': 1.2645059747584552e-05, 'lambda_l2': 0.0069312130549728295, 'max_depth': 9, 'num_leaves': 58, 'feature_fraction': 0.565231709756866, 'min_data_in_leaf': 17, 'max_bin': 123, 'bagging_freq': 3}. Best is trial 32 with value: 0.14540191776657313.\n"
     ]
    },
    {
     "name": "stdout",
     "output_type": "stream",
     "text": [
      "Repeat \u001b[1m\u001b[34m#1\n",
      "Repeat \u001b[1m\u001b[34m#2\n",
      "Repeat \u001b[1m\u001b[34m#3\n",
      "Repeat \u001b[1m\u001b[34m#4\n",
      "Repeat \u001b[1m\u001b[34m#5\n"
     ]
    },
    {
     "name": "stderr",
     "output_type": "stream",
     "text": [
      "[I 2023-06-16 09:47:16,370] Trial 59 finished with value: 0.1621447448499055 and parameters: {'boosting_type': 'gbdt', 'learning_rate': 0.10794955343972086, 'lambda_l1': 9.756537162853477e-07, 'lambda_l2': 0.02688213791346224, 'max_depth': 9, 'num_leaves': 118, 'feature_fraction': 0.4415153275994912, 'min_data_in_leaf': 11, 'max_bin': 88, 'bagging_freq': 2, 'bagging_fraction': 0.6012892158957811}. Best is trial 32 with value: 0.14540191776657313.\n"
     ]
    },
    {
     "name": "stdout",
     "output_type": "stream",
     "text": [
      "Repeat \u001b[1m\u001b[34m#1\n",
      "Repeat \u001b[1m\u001b[34m#2\n",
      "Repeat \u001b[1m\u001b[34m#3\n",
      "Repeat \u001b[1m\u001b[34m#4\n",
      "Repeat \u001b[1m\u001b[34m#5\n"
     ]
    },
    {
     "name": "stderr",
     "output_type": "stream",
     "text": [
      "[I 2023-06-16 09:47:18,025] Trial 60 finished with value: 0.1648105341383866 and parameters: {'boosting_type': 'gbdt', 'learning_rate': 0.12244085421279464, 'lambda_l1': 8.535294017864498e-07, 'lambda_l2': 0.032918226634708614, 'max_depth': 7, 'num_leaves': 101, 'feature_fraction': 0.43936929597843943, 'min_data_in_leaf': 15, 'max_bin': 161, 'bagging_freq': 2, 'bagging_fraction': 0.6010282649515775}. Best is trial 32 with value: 0.14540191776657313.\n"
     ]
    },
    {
     "name": "stdout",
     "output_type": "stream",
     "text": [
      "Repeat \u001b[1m\u001b[34m#1\n",
      "Repeat \u001b[1m\u001b[34m#2\n",
      "Repeat \u001b[1m\u001b[34m#3\n",
      "Repeat \u001b[1m\u001b[34m#4\n",
      "Repeat \u001b[1m\u001b[34m#5\n"
     ]
    },
    {
     "name": "stderr",
     "output_type": "stream",
     "text": [
      "[I 2023-06-16 09:47:20,409] Trial 61 finished with value: 0.16242767502528926 and parameters: {'boosting_type': 'gbdt', 'learning_rate': 0.07425104324184517, 'lambda_l1': 1.789891659510697e-07, 'lambda_l2': 0.045468839090880855, 'max_depth': 9, 'num_leaves': 68, 'feature_fraction': 0.4815876959739882, 'min_data_in_leaf': 8, 'max_bin': 85, 'bagging_freq': 2, 'bagging_fraction': 0.6240906166674562}. Best is trial 32 with value: 0.14540191776657313.\n"
     ]
    },
    {
     "name": "stdout",
     "output_type": "stream",
     "text": [
      "Repeat \u001b[1m\u001b[34m#1\n",
      "Repeat \u001b[1m\u001b[34m#2\n",
      "Repeat \u001b[1m\u001b[34m#3\n",
      "Repeat \u001b[1m\u001b[34m#4\n",
      "Repeat \u001b[1m\u001b[34m#5\n"
     ]
    },
    {
     "name": "stderr",
     "output_type": "stream",
     "text": [
      "[I 2023-06-16 09:47:22,675] Trial 62 finished with value: 0.16082669316528078 and parameters: {'boosting_type': 'gbdt', 'learning_rate': 0.07772152029187179, 'lambda_l1': 2.7479651478012907e-06, 'lambda_l2': 0.04745484132730012, 'max_depth': 8, 'num_leaves': 43, 'feature_fraction': 0.47766895725870434, 'min_data_in_leaf': 10, 'max_bin': 90, 'bagging_freq': 2, 'bagging_fraction': 0.667563716140624}. Best is trial 32 with value: 0.14540191776657313.\n"
     ]
    },
    {
     "name": "stdout",
     "output_type": "stream",
     "text": [
      "Repeat \u001b[1m\u001b[34m#1\n",
      "Repeat \u001b[1m\u001b[34m#2\n",
      "Repeat \u001b[1m\u001b[34m#3\n",
      "Repeat \u001b[1m\u001b[34m#4\n",
      "Repeat \u001b[1m\u001b[34m#5\n"
     ]
    },
    {
     "name": "stderr",
     "output_type": "stream",
     "text": [
      "[I 2023-06-16 09:47:24,750] Trial 63 finished with value: 0.18899694431764077 and parameters: {'boosting_type': 'gbdt', 'learning_rate': 0.0741118328851659, 'lambda_l1': 6.672271854866635e-07, 'lambda_l2': 0.07022107755035803, 'max_depth': 8, 'num_leaves': 38, 'feature_fraction': 0.47736810776233557, 'min_data_in_leaf': 26, 'max_bin': 89, 'bagging_freq': 2, 'bagging_fraction': 0.6692481447022411}. Best is trial 32 with value: 0.14540191776657313.\n"
     ]
    },
    {
     "name": "stdout",
     "output_type": "stream",
     "text": [
      "Repeat \u001b[1m\u001b[34m#1\n",
      "Repeat \u001b[1m\u001b[34m#2\n",
      "Repeat \u001b[1m\u001b[34m#3\n",
      "Repeat \u001b[1m\u001b[34m#4\n",
      "Repeat \u001b[1m\u001b[34m#5\n"
     ]
    },
    {
     "name": "stderr",
     "output_type": "stream",
     "text": [
      "[I 2023-06-16 09:47:27,080] Trial 64 finished with value: 0.16545249995333072 and parameters: {'boosting_type': 'gbdt', 'learning_rate': 0.1053105026341677, 'lambda_l1': 4.7644847664129505e-06, 'lambda_l2': 0.045369793665920574, 'max_depth': 9, 'num_leaves': 68, 'feature_fraction': 0.4509620230670962, 'min_data_in_leaf': 12, 'max_bin': 109, 'bagging_freq': 2, 'bagging_fraction': 0.6370044863582552}. Best is trial 32 with value: 0.14540191776657313.\n"
     ]
    },
    {
     "name": "stdout",
     "output_type": "stream",
     "text": [
      "Repeat \u001b[1m\u001b[34m#1\n",
      "Repeat \u001b[1m\u001b[34m#2\n",
      "Repeat \u001b[1m\u001b[34m#3\n",
      "Repeat \u001b[1m\u001b[34m#4\n",
      "Repeat \u001b[1m\u001b[34m#5\n"
     ]
    },
    {
     "name": "stderr",
     "output_type": "stream",
     "text": [
      "[I 2023-06-16 09:47:30,145] Trial 65 finished with value: 0.18286742053623325 and parameters: {'boosting_type': 'gbdt', 'learning_rate': 0.03417759779702623, 'lambda_l1': 4.802261934756103e-07, 'lambda_l2': 0.0045149968869341315, 'max_depth': 9, 'num_leaves': 11, 'feature_fraction': 0.42180455732959554, 'min_data_in_leaf': 21, 'max_bin': 102, 'bagging_freq': 2, 'bagging_fraction': 0.647857781327152}. Best is trial 32 with value: 0.14540191776657313.\n"
     ]
    },
    {
     "name": "stdout",
     "output_type": "stream",
     "text": [
      "Repeat \u001b[1m\u001b[34m#1\n",
      "Repeat \u001b[1m\u001b[34m#2\n",
      "Repeat \u001b[1m\u001b[34m#3\n",
      "Repeat \u001b[1m\u001b[34m#4\n",
      "Repeat \u001b[1m\u001b[34m#5\n"
     ]
    },
    {
     "name": "stderr",
     "output_type": "stream",
     "text": [
      "[I 2023-06-16 09:47:32,254] Trial 66 finished with value: 0.36919795959272206 and parameters: {'boosting_type': 'gbdt', 'learning_rate': 0.1375093678541152, 'lambda_l1': 1.4151133120510057e-07, 'lambda_l2': 0.0020346140575814254, 'max_depth': 8, 'num_leaves': 59, 'feature_fraction': 0.4746287520972178, 'min_data_in_leaf': 63, 'max_bin': 57, 'bagging_freq': 3, 'bagging_fraction': 0.6757008450963092}. Best is trial 32 with value: 0.14540191776657313.\n"
     ]
    },
    {
     "name": "stdout",
     "output_type": "stream",
     "text": [
      "Repeat \u001b[1m\u001b[34m#1\n",
      "Repeat \u001b[1m\u001b[34m#2\n",
      "Repeat \u001b[1m\u001b[34m#3\n",
      "Repeat \u001b[1m\u001b[34m#4\n",
      "Repeat \u001b[1m\u001b[34m#5\n"
     ]
    },
    {
     "name": "stderr",
     "output_type": "stream",
     "text": [
      "[I 2023-06-16 09:47:34,584] Trial 67 finished with value: 0.16756100638944965 and parameters: {'boosting_type': 'gbdt', 'learning_rate': 0.06278888494566347, 'lambda_l1': 1.1076026521544491e-06, 'lambda_l2': 0.016986513610848547, 'max_depth': 9, 'num_leaves': 47, 'feature_fraction': 0.4606410872209445, 'min_data_in_leaf': 10, 'max_bin': 89, 'bagging_freq': 2, 'bagging_fraction': 0.613989421516833}. Best is trial 32 with value: 0.14540191776657313.\n"
     ]
    },
    {
     "name": "stdout",
     "output_type": "stream",
     "text": [
      "Repeat \u001b[1m\u001b[34m#1\n",
      "Repeat \u001b[1m\u001b[34m#2\n",
      "Repeat \u001b[1m\u001b[34m#3\n",
      "Repeat \u001b[1m\u001b[34m#4\n",
      "Repeat \u001b[1m\u001b[34m#5\n"
     ]
    },
    {
     "name": "stderr",
     "output_type": "stream",
     "text": [
      "[I 2023-06-16 09:47:36,513] Trial 68 finished with value: 0.17345531286267715 and parameters: {'boosting_type': 'gbdt', 'learning_rate': 0.08987222891087202, 'lambda_l1': 1.135494239465631e-05, 'lambda_l2': 0.13268685542968944, 'max_depth': 10, 'num_leaves': 77, 'feature_fraction': 0.5131396673834947, 'min_data_in_leaf': 16, 'max_bin': 67, 'bagging_freq': 2, 'bagging_fraction': 0.6531406847427098}. Best is trial 32 with value: 0.14540191776657313.\n"
     ]
    },
    {
     "name": "stdout",
     "output_type": "stream",
     "text": [
      "Repeat \u001b[1m\u001b[34m#1\n",
      "Repeat \u001b[1m\u001b[34m#2\n",
      "Repeat \u001b[1m\u001b[34m#3\n",
      "Repeat \u001b[1m\u001b[34m#4\n",
      "Repeat \u001b[1m\u001b[34m#5\n"
     ]
    },
    {
     "name": "stderr",
     "output_type": "stream",
     "text": [
      "[I 2023-06-16 09:47:38,216] Trial 69 finished with value: 0.16789999172145148 and parameters: {'boosting_type': 'gbdt', 'learning_rate': 0.11638991831319145, 'lambda_l1': 2.941603157712219e-06, 'lambda_l2': 0.032496989939465426, 'max_depth': 8, 'num_leaves': 69, 'feature_fraction': 0.48900762365439643, 'min_data_in_leaf': 12, 'max_bin': 77, 'bagging_freq': 3, 'bagging_fraction': 0.5971112407919069}. Best is trial 32 with value: 0.14540191776657313.\n"
     ]
    },
    {
     "name": "stdout",
     "output_type": "stream",
     "text": [
      "Repeat \u001b[1m\u001b[34m#1\n",
      "Repeat \u001b[1m\u001b[34m#2\n",
      "Repeat \u001b[1m\u001b[34m#3\n",
      "Repeat \u001b[1m\u001b[34m#4\n",
      "Repeat \u001b[1m\u001b[34m#5\n"
     ]
    },
    {
     "name": "stderr",
     "output_type": "stream",
     "text": [
      "[I 2023-06-16 09:47:42,172] Trial 70 finished with value: 0.17686886341443042 and parameters: {'boosting_type': 'gbdt', 'learning_rate': 0.023249762177637977, 'lambda_l1': 1.761996850068323e-05, 'lambda_l2': 0.01046242407719466, 'max_depth': 10, 'num_leaves': 61, 'feature_fraction': 0.40918539611480675, 'min_data_in_leaf': 19, 'max_bin': 114, 'bagging_freq': 2, 'bagging_fraction': 0.6401808450221679}. Best is trial 32 with value: 0.14540191776657313.\n"
     ]
    },
    {
     "name": "stdout",
     "output_type": "stream",
     "text": [
      "Repeat \u001b[1m\u001b[34m#1\n",
      "Repeat \u001b[1m\u001b[34m#2\n",
      "Repeat \u001b[1m\u001b[34m#3\n",
      "Repeat \u001b[1m\u001b[34m#4\n",
      "Repeat \u001b[1m\u001b[34m#5\n"
     ]
    },
    {
     "name": "stderr",
     "output_type": "stream",
     "text": [
      "[I 2023-06-16 09:47:45,085] Trial 71 finished with value: 0.169317791822589 and parameters: {'boosting_type': 'gbdt', 'learning_rate': 0.05105882880918164, 'lambda_l1': 1.3158418756257667e-06, 'lambda_l2': 0.08748811186187917, 'max_depth': 8, 'num_leaves': 20, 'feature_fraction': 0.46345996754316604, 'min_data_in_leaf': 8, 'max_bin': 91, 'bagging_freq': 1, 'bagging_fraction': 0.6177960532886484}. Best is trial 32 with value: 0.14540191776657313.\n"
     ]
    },
    {
     "name": "stdout",
     "output_type": "stream",
     "text": [
      "Repeat \u001b[1m\u001b[34m#1\n",
      "Repeat \u001b[1m\u001b[34m#2\n",
      "Repeat \u001b[1m\u001b[34m#3\n",
      "Repeat \u001b[1m\u001b[34m#4\n",
      "Repeat \u001b[1m\u001b[34m#5\n"
     ]
    },
    {
     "name": "stderr",
     "output_type": "stream",
     "text": [
      "[I 2023-06-16 09:47:47,506] Trial 72 finished with value: 0.15920594275238284 and parameters: {'boosting_type': 'gbdt', 'learning_rate': 0.0708730833101848, 'lambda_l1': 2.7374960607802966e-06, 'lambda_l2': 0.004989169803456052, 'max_depth': 9, 'num_leaves': 119, 'feature_fraction': 0.4863159363534526, 'min_data_in_leaf': 7, 'max_bin': 102, 'bagging_freq': 1, 'bagging_fraction': 0.5842059888448787}. Best is trial 32 with value: 0.14540191776657313.\n"
     ]
    },
    {
     "name": "stdout",
     "output_type": "stream",
     "text": [
      "Repeat \u001b[1m\u001b[34m#1\n",
      "Repeat \u001b[1m\u001b[34m#2\n",
      "Repeat \u001b[1m\u001b[34m#3\n",
      "Repeat \u001b[1m\u001b[34m#4\n",
      "Repeat \u001b[1m\u001b[34m#5\n"
     ]
    },
    {
     "name": "stderr",
     "output_type": "stream",
     "text": [
      "[I 2023-06-16 09:47:49,831] Trial 73 finished with value: 0.17516397659643723 and parameters: {'boosting_type': 'gbdt', 'learning_rate': 0.07366602695415445, 'lambda_l1': 3.276695408562103e-06, 'lambda_l2': 0.004033558165558617, 'max_depth': 9, 'num_leaves': 119, 'feature_fraction': 0.44782684516853477, 'min_data_in_leaf': 13, 'max_bin': 128, 'bagging_freq': 1, 'bagging_fraction': 0.5799746260853702}. Best is trial 32 with value: 0.14540191776657313.\n"
     ]
    },
    {
     "name": "stdout",
     "output_type": "stream",
     "text": [
      "Repeat \u001b[1m\u001b[34m#1\n",
      "Repeat \u001b[1m\u001b[34m#2\n",
      "Repeat \u001b[1m\u001b[34m#3\n",
      "Repeat \u001b[1m\u001b[34m#4\n",
      "Repeat \u001b[1m\u001b[34m#5\n"
     ]
    },
    {
     "name": "stderr",
     "output_type": "stream",
     "text": [
      "[I 2023-06-16 09:47:51,538] Trial 74 finished with value: 0.16298890524633047 and parameters: {'boosting_type': 'gbdt', 'learning_rate': 0.13820031462277801, 'lambda_l1': 5.052554122979087e-07, 'lambda_l2': 0.0019223042676626352, 'max_depth': 9, 'num_leaves': 40, 'feature_fraction': 0.4824979431089366, 'min_data_in_leaf': 7, 'max_bin': 102, 'bagging_freq': 2, 'bagging_fraction': 0.6015501532577939}. Best is trial 32 with value: 0.14540191776657313.\n"
     ]
    },
    {
     "name": "stdout",
     "output_type": "stream",
     "text": [
      "Repeat \u001b[1m\u001b[34m#1\n",
      "Repeat \u001b[1m\u001b[34m#2\n",
      "Repeat \u001b[1m\u001b[34m#3\n",
      "Repeat \u001b[1m\u001b[34m#4\n",
      "Repeat \u001b[1m\u001b[34m#5\n"
     ]
    },
    {
     "name": "stderr",
     "output_type": "stream",
     "text": [
      "[I 2023-06-16 09:47:52,977] Trial 75 finished with value: 0.16142002491653118 and parameters: {'boosting_type': 'gbdt', 'learning_rate': 0.1952108009662895, 'lambda_l1': 4.60445753361808e-06, 'lambda_l2': 0.005860591719847842, 'max_depth': 10, 'num_leaves': 109, 'feature_fraction': 0.4689996300659832, 'min_data_in_leaf': 10, 'max_bin': 225, 'bagging_freq': 1, 'bagging_fraction': 0.5658350805199551}. Best is trial 32 with value: 0.14540191776657313.\n"
     ]
    },
    {
     "name": "stdout",
     "output_type": "stream",
     "text": [
      "Repeat \u001b[1m\u001b[34m#1\n",
      "Repeat \u001b[1m\u001b[34m#2\n",
      "Repeat \u001b[1m\u001b[34m#3\n"
     ]
    },
    {
     "name": "stderr",
     "output_type": "stream",
     "text": [
      "[I 2023-06-16 09:47:53,443] Trial 76 finished with value: 0.6973915667428459 and parameters: {'boosting_type': 'gbdt', 'learning_rate': 0.22881123996808303, 'lambda_l1': 7.198924492990582e-06, 'lambda_l2': 0.0052927868436554, 'max_depth': 10, 'num_leaves': 110, 'feature_fraction': 0.47008576183395157, 'min_data_in_leaf': 88, 'max_bin': 206, 'bagging_freq': 1, 'bagging_fraction': 0.5578162428673971}. Best is trial 32 with value: 0.14540191776657313.\n"
     ]
    },
    {
     "name": "stdout",
     "output_type": "stream",
     "text": [
      "Repeat \u001b[1m\u001b[34m#4\n",
      "Repeat \u001b[1m\u001b[34m#5\n",
      "Repeat \u001b[1m\u001b[34m#1\n",
      "Repeat \u001b[1m\u001b[34m#2\n",
      "Repeat \u001b[1m\u001b[34m#3\n",
      "Repeat \u001b[1m\u001b[34m#4\n",
      "Repeat \u001b[1m\u001b[34m#5\n"
     ]
    },
    {
     "name": "stderr",
     "output_type": "stream",
     "text": [
      "[I 2023-06-16 09:47:54,805] Trial 77 finished with value: 0.17037608344172142 and parameters: {'boosting_type': 'gbdt', 'learning_rate': 0.18039414499222164, 'lambda_l1': 3.0465567333772437e-05, 'lambda_l2': 0.0013783271825661496, 'max_depth': 10, 'num_leaves': 118, 'feature_fraction': 0.4398286555984353, 'min_data_in_leaf': 15, 'max_bin': 184, 'bagging_freq': 1, 'bagging_fraction': 0.5886376527265142}. Best is trial 32 with value: 0.14540191776657313.\n"
     ]
    },
    {
     "name": "stdout",
     "output_type": "stream",
     "text": [
      "Repeat \u001b[1m\u001b[34m#1\n",
      "Repeat \u001b[1m\u001b[34m#2\n",
      "Repeat \u001b[1m\u001b[34m#3\n",
      "Repeat \u001b[1m\u001b[34m#4\n",
      "Repeat \u001b[1m\u001b[34m#5\n"
     ]
    },
    {
     "name": "stderr",
     "output_type": "stream",
     "text": [
      "[I 2023-06-16 09:47:56,162] Trial 78 finished with value: 0.16494327313621304 and parameters: {'boosting_type': 'gbdt', 'learning_rate': 0.24967541265843443, 'lambda_l1': 5.270421800513551e-06, 'lambda_l2': 0.003088615461095542, 'max_depth': 10, 'num_leaves': 103, 'feature_fraction': 0.5093670192680219, 'min_data_in_leaf': 10, 'max_bin': 232, 'bagging_freq': 1, 'bagging_fraction': 0.5414650748399982}. Best is trial 32 with value: 0.14540191776657313.\n"
     ]
    },
    {
     "name": "stdout",
     "output_type": "stream",
     "text": [
      "Repeat \u001b[1m\u001b[34m#1\n",
      "Repeat \u001b[1m\u001b[34m#2\n",
      "Repeat \u001b[1m\u001b[34m#3\n",
      "Repeat \u001b[1m\u001b[34m#4\n",
      "Repeat \u001b[1m\u001b[34m#5\n"
     ]
    },
    {
     "name": "stderr",
     "output_type": "stream",
     "text": [
      "[I 2023-06-16 09:48:22,173] Trial 79 finished with value: 0.2628322432517306 and parameters: {'boosting_type': 'dart', 'learning_rate': 0.11420739780627166, 'lambda_l1': 1.5695067305131674e-05, 'lambda_l2': 0.00038907058817286327, 'max_depth': 10, 'num_leaves': 125, 'feature_fraction': 0.46453189338524514, 'min_data_in_leaf': 11, 'max_bin': 221, 'bagging_freq': 1, 'bagging_fraction': 0.5698053146629589}. Best is trial 32 with value: 0.14540191776657313.\n"
     ]
    },
    {
     "name": "stdout",
     "output_type": "stream",
     "text": [
      "Repeat \u001b[1m\u001b[34m#1\n",
      "Repeat \u001b[1m\u001b[34m#2\n",
      "Repeat \u001b[1m\u001b[34m#3\n",
      "Repeat \u001b[1m\u001b[34m#4\n",
      "Repeat \u001b[1m\u001b[34m#5\n"
     ]
    },
    {
     "name": "stderr",
     "output_type": "stream",
     "text": [
      "[I 2023-06-16 09:48:24,196] Trial 80 finished with value: 0.18603356253966077 and parameters: {'boosting_type': 'gbdt', 'learning_rate': 0.09900225992586048, 'lambda_l1': 1.26040922641109e-06, 'lambda_l2': 0.011602284940466556, 'max_depth': 9, 'num_leaves': 108, 'feature_fraction': 0.5185536588250266, 'min_data_in_leaf': 25, 'max_bin': 146, 'bagging_freq': 1, 'bagging_fraction': 0.5955679982516888}. Best is trial 32 with value: 0.14540191776657313.\n"
     ]
    },
    {
     "name": "stdout",
     "output_type": "stream",
     "text": [
      "Repeat \u001b[1m\u001b[34m#1\n",
      "Repeat \u001b[1m\u001b[34m#2\n",
      "Repeat \u001b[1m\u001b[34m#3\n",
      "Repeat \u001b[1m\u001b[34m#4\n",
      "Repeat \u001b[1m\u001b[34m#5\n"
     ]
    },
    {
     "name": "stderr",
     "output_type": "stream",
     "text": [
      "[I 2023-06-16 09:48:26,828] Trial 81 finished with value: 0.1609098937339367 and parameters: {'boosting_type': 'gbdt', 'learning_rate': 0.07750133296880572, 'lambda_l1': 2.592284610140389e-06, 'lambda_l2': 0.04108265473102471, 'max_depth': 9, 'num_leaves': 124, 'feature_fraction': 0.4912130452601715, 'min_data_in_leaf': 7, 'max_bin': 87, 'bagging_freq': 2, 'bagging_fraction': 0.6295639066431707}. Best is trial 32 with value: 0.14540191776657313.\n"
     ]
    },
    {
     "name": "stdout",
     "output_type": "stream",
     "text": [
      "Repeat \u001b[1m\u001b[34m#1\n",
      "Repeat \u001b[1m\u001b[34m#2\n",
      "Repeat \u001b[1m\u001b[34m#3\n",
      "Repeat \u001b[1m\u001b[34m#4\n",
      "Repeat \u001b[1m\u001b[34m#5\n"
     ]
    },
    {
     "name": "stderr",
     "output_type": "stream",
     "text": [
      "[I 2023-06-16 09:48:29,413] Trial 82 finished with value: 0.1656180128160497 and parameters: {'boosting_type': 'gbdt', 'learning_rate': 0.1428643496132212, 'lambda_l1': 2.3889761331893217e-06, 'lambda_l2': 0.020606470442865097, 'max_depth': 9, 'num_leaves': 124, 'feature_fraction': 0.49670448693286207, 'min_data_in_leaf': 7, 'max_bin': 106, 'bagging_freq': 2, 'bagging_fraction': 0.6308619519587898}. Best is trial 32 with value: 0.14540191776657313.\n"
     ]
    },
    {
     "name": "stdout",
     "output_type": "stream",
     "text": [
      "Repeat \u001b[1m\u001b[34m#1\n",
      "Repeat \u001b[1m\u001b[34m#2\n",
      "Repeat \u001b[1m\u001b[34m#3\n",
      "Repeat \u001b[1m\u001b[34m#4\n",
      "Repeat \u001b[1m\u001b[34m#5\n"
     ]
    },
    {
     "name": "stderr",
     "output_type": "stream",
     "text": [
      "[I 2023-06-16 09:48:31,015] Trial 83 finished with value: 0.18112429447927889 and parameters: {'boosting_type': 'gbdt', 'learning_rate': 0.17702395278429958, 'lambda_l1': 6.166186920035041e-06, 'lambda_l2': 0.008788401857088056, 'max_depth': 10, 'num_leaves': 119, 'feature_fraction': 0.5460213201870104, 'min_data_in_leaf': 17, 'max_bin': 79, 'bagging_freq': 2, 'bagging_fraction': 0.6076727937052582}. Best is trial 32 with value: 0.14540191776657313.\n"
     ]
    },
    {
     "name": "stdout",
     "output_type": "stream",
     "text": [
      "Repeat \u001b[1m\u001b[34m#1\n",
      "Repeat \u001b[1m\u001b[34m#2\n",
      "Repeat \u001b[1m\u001b[34m#3\n",
      "Repeat \u001b[1m\u001b[34m#4\n",
      "Repeat \u001b[1m\u001b[34m#5\n"
     ]
    },
    {
     "name": "stderr",
     "output_type": "stream",
     "text": [
      "[I 2023-06-16 09:48:33,410] Trial 84 finished with value: 0.15884789068999405 and parameters: {'boosting_type': 'gbdt', 'learning_rate': 0.08792283792507119, 'lambda_l1': 8.818403568880755e-07, 'lambda_l2': 0.03567734074369375, 'max_depth': 9, 'num_leaves': 111, 'feature_fraction': 0.4884298272405079, 'min_data_in_leaf': 5, 'max_bin': 190, 'bagging_freq': 3, 'bagging_fraction': 0.571697309683884}. Best is trial 32 with value: 0.14540191776657313.\n"
     ]
    },
    {
     "name": "stdout",
     "output_type": "stream",
     "text": [
      "Repeat \u001b[1m\u001b[34m#1\n",
      "Repeat \u001b[1m\u001b[34m#2\n",
      "Repeat \u001b[1m\u001b[34m#3\n",
      "Repeat \u001b[1m\u001b[34m#4\n",
      "Repeat \u001b[1m\u001b[34m#5\n"
     ]
    },
    {
     "name": "stderr",
     "output_type": "stream",
     "text": [
      "[I 2023-06-16 09:48:36,207] Trial 85 finished with value: 0.1554415372256393 and parameters: {'boosting_type': 'gbdt', 'learning_rate': 0.06327122322586941, 'lambda_l1': 3.3471300002438084e-06, 'lambda_l2': 0.001654925030877043, 'max_depth': 8, 'num_leaves': 110, 'feature_fraction': 0.48637379319452595, 'min_data_in_leaf': 5, 'max_bin': 204, 'bagging_freq': 3, 'bagging_fraction': 0.5707985563904362}. Best is trial 32 with value: 0.14540191776657313.\n"
     ]
    },
    {
     "name": "stdout",
     "output_type": "stream",
     "text": [
      "Repeat \u001b[1m\u001b[34m#1\n",
      "Repeat \u001b[1m\u001b[34m#2\n",
      "Repeat \u001b[1m\u001b[34m#3\n",
      "Repeat \u001b[1m\u001b[34m#4\n",
      "Repeat \u001b[1m\u001b[34m#5\n"
     ]
    },
    {
     "name": "stderr",
     "output_type": "stream",
     "text": [
      "[I 2023-06-16 09:48:39,654] Trial 86 finished with value: 0.16008002032814123 and parameters: {'boosting_type': 'gbdt', 'learning_rate': 0.042115832591179354, 'lambda_l1': 1.8303126468178635e-06, 'lambda_l2': 0.0014594566298696487, 'max_depth': 8, 'num_leaves': 98, 'feature_fraction': 0.48603960172264044, 'min_data_in_leaf': 5, 'max_bin': 190, 'bagging_freq': 3, 'bagging_fraction': 0.5812670929905053}. Best is trial 32 with value: 0.14540191776657313.\n"
     ]
    },
    {
     "name": "stdout",
     "output_type": "stream",
     "text": [
      "Repeat \u001b[1m\u001b[34m#1\n",
      "Repeat \u001b[1m\u001b[34m#2\n",
      "Repeat \u001b[1m\u001b[34m#3\n",
      "Repeat \u001b[1m\u001b[34m#4\n",
      "Repeat \u001b[1m\u001b[34m#5\n"
     ]
    },
    {
     "name": "stderr",
     "output_type": "stream",
     "text": [
      "[I 2023-06-16 09:48:43,343] Trial 87 finished with value: 0.1576092081381891 and parameters: {'boosting_type': 'gbdt', 'learning_rate': 0.04021144024963164, 'lambda_l1': 1.6181720171937391e-06, 'lambda_l2': 0.0005782363059533072, 'max_depth': 8, 'num_leaves': 98, 'feature_fraction': 0.5257723013753682, 'min_data_in_leaf': 5, 'max_bin': 190, 'bagging_freq': 3, 'bagging_fraction': 0.579454109219517}. Best is trial 32 with value: 0.14540191776657313.\n"
     ]
    },
    {
     "name": "stdout",
     "output_type": "stream",
     "text": [
      "Repeat \u001b[1m\u001b[34m#1\n",
      "Repeat \u001b[1m\u001b[34m#2\n",
      "Repeat \u001b[1m\u001b[34m#3\n",
      "Repeat \u001b[1m\u001b[34m#4\n",
      "Repeat \u001b[1m\u001b[34m#5\n"
     ]
    },
    {
     "name": "stderr",
     "output_type": "stream",
     "text": [
      "[I 2023-06-16 09:48:47,177] Trial 88 finished with value: 0.15684211300522172 and parameters: {'boosting_type': 'gbdt', 'learning_rate': 0.03705027745760947, 'lambda_l1': 1.4722244556247647e-06, 'lambda_l2': 0.000619467939601744, 'max_depth': 7, 'num_leaves': 104, 'feature_fraction': 0.5324243873327202, 'min_data_in_leaf': 5, 'max_bin': 188, 'bagging_freq': 4, 'bagging_fraction': 0.5782485292523323}. Best is trial 32 with value: 0.14540191776657313.\n"
     ]
    },
    {
     "name": "stdout",
     "output_type": "stream",
     "text": [
      "Repeat \u001b[1m\u001b[34m#1\n",
      "Repeat \u001b[1m\u001b[34m#2\n",
      "Repeat \u001b[1m\u001b[34m#3\n",
      "Repeat \u001b[1m\u001b[34m#4\n",
      "Repeat \u001b[1m\u001b[34m#5\n"
     ]
    },
    {
     "name": "stderr",
     "output_type": "stream",
     "text": [
      "[I 2023-06-16 09:48:51,055] Trial 89 finished with value: 0.15942732076082863 and parameters: {'boosting_type': 'gbdt', 'learning_rate': 0.03512983615319262, 'lambda_l1': 3.8495475855106097e-07, 'lambda_l2': 0.0006525692489005617, 'max_depth': 7, 'num_leaves': 104, 'feature_fraction': 0.528360632712088, 'min_data_in_leaf': 5, 'max_bin': 176, 'bagging_freq': 4, 'bagging_fraction': 0.5479185483036145}. Best is trial 32 with value: 0.14540191776657313.\n"
     ]
    },
    {
     "name": "stdout",
     "output_type": "stream",
     "text": [
      "Repeat \u001b[1m\u001b[34m#1\n",
      "Repeat \u001b[1m\u001b[34m#2\n",
      "Repeat \u001b[1m\u001b[34m#3\n",
      "Repeat \u001b[1m\u001b[34m#4\n",
      "Repeat \u001b[1m\u001b[34m#5\n"
     ]
    },
    {
     "name": "stderr",
     "output_type": "stream",
     "text": [
      "[I 2023-06-16 09:48:55,359] Trial 90 finished with value: 0.160798547549784 and parameters: {'boosting_type': 'gbdt', 'learning_rate': 0.03858060769886354, 'lambda_l1': 3.835155332988627e-07, 'lambda_l2': 0.0005850547861487919, 'max_depth': 7, 'num_leaves': 103, 'feature_fraction': 0.5284219675027317, 'min_data_in_leaf': 5, 'max_bin': 174, 'bagging_freq': 4, 'bagging_fraction': 0.5449551035435672}. Best is trial 32 with value: 0.14540191776657313.\n"
     ]
    },
    {
     "name": "stdout",
     "output_type": "stream",
     "text": [
      "Repeat \u001b[1m\u001b[34m#1\n",
      "Repeat \u001b[1m\u001b[34m#2\n",
      "Repeat \u001b[1m\u001b[34m#3\n",
      "Repeat \u001b[1m\u001b[34m#4\n",
      "Repeat \u001b[1m\u001b[34m#5\n"
     ]
    },
    {
     "name": "stderr",
     "output_type": "stream",
     "text": [
      "[I 2023-06-16 09:48:58,230] Trial 91 finished with value: 0.16067316629850784 and parameters: {'boosting_type': 'gbdt', 'learning_rate': 0.056227032713065846, 'lambda_l1': 7.264593985029782e-07, 'lambda_l2': 0.0001939159015055238, 'max_depth': 7, 'num_leaves': 94, 'feature_fraction': 0.519738874040585, 'min_data_in_leaf': 7, 'max_bin': 200, 'bagging_freq': 4, 'bagging_fraction': 0.5439232481132275}. Best is trial 32 with value: 0.14540191776657313.\n"
     ]
    },
    {
     "name": "stdout",
     "output_type": "stream",
     "text": [
      "Repeat \u001b[1m\u001b[34m#1\n",
      "Repeat \u001b[1m\u001b[34m#2\n",
      "Repeat \u001b[1m\u001b[34m#3\n",
      "Repeat \u001b[1m\u001b[34m#4\n",
      "Repeat \u001b[1m\u001b[34m#5\n"
     ]
    },
    {
     "name": "stderr",
     "output_type": "stream",
     "text": [
      "[I 2023-06-16 09:49:02,500] Trial 92 finished with value: 0.1569885013394149 and parameters: {'boosting_type': 'gbdt', 'learning_rate': 0.030983746617808824, 'lambda_l1': 1.4444427499918155e-06, 'lambda_l2': 0.000846999316901968, 'max_depth': 7, 'num_leaves': 112, 'feature_fraction': 0.5056133264779659, 'min_data_in_leaf': 5, 'max_bin': 181, 'bagging_freq': 4, 'bagging_fraction': 0.5718348176942775}. Best is trial 32 with value: 0.14540191776657313.\n"
     ]
    },
    {
     "name": "stdout",
     "output_type": "stream",
     "text": [
      "Repeat \u001b[1m\u001b[34m#1\n",
      "Repeat \u001b[1m\u001b[34m#2\n",
      "Repeat \u001b[1m\u001b[34m#3\n",
      "Repeat \u001b[1m\u001b[34m#4\n",
      "Repeat \u001b[1m\u001b[34m#5\n"
     ]
    },
    {
     "name": "stderr",
     "output_type": "stream",
     "text": [
      "[I 2023-06-16 09:49:05,773] Trial 93 finished with value: 0.1672554905219375 and parameters: {'boosting_type': 'gbdt', 'learning_rate': 0.03262164509199349, 'lambda_l1': 2.2891382900113044e-07, 'lambda_l2': 0.0002799450909987063, 'max_depth': 7, 'num_leaves': 105, 'feature_fraction': 0.5479072434436602, 'min_data_in_leaf': 13, 'max_bin': 183, 'bagging_freq': 4, 'bagging_fraction': 0.5737613823680066}. Best is trial 32 with value: 0.14540191776657313.\n"
     ]
    },
    {
     "name": "stdout",
     "output_type": "stream",
     "text": [
      "Repeat \u001b[1m\u001b[34m#1\n",
      "Repeat \u001b[1m\u001b[34m#2\n",
      "Repeat \u001b[1m\u001b[34m#3\n",
      "Repeat \u001b[1m\u001b[34m#4\n",
      "Repeat \u001b[1m\u001b[34m#5\n"
     ]
    },
    {
     "name": "stderr",
     "output_type": "stream",
     "text": [
      "[I 2023-06-16 09:49:10,969] Trial 94 finished with value: 0.15466622870160435 and parameters: {'boosting_type': 'gbdt', 'learning_rate': 0.02286582049177494, 'lambda_l1': 1.4488669379700715e-06, 'lambda_l2': 0.0008922530715833928, 'max_depth': 7, 'num_leaves': 111, 'feature_fraction': 0.5303342311793973, 'min_data_in_leaf': 5, 'max_bin': 208, 'bagging_freq': 5, 'bagging_fraction': 0.5809706382425376}. Best is trial 32 with value: 0.14540191776657313.\n"
     ]
    },
    {
     "name": "stdout",
     "output_type": "stream",
     "text": [
      "Repeat \u001b[1m\u001b[34m#1\n",
      "Repeat \u001b[1m\u001b[34m#2\n",
      "Repeat \u001b[1m\u001b[34m#3\n",
      "Repeat \u001b[1m\u001b[34m#4\n",
      "Repeat \u001b[1m\u001b[34m#5\n"
     ]
    },
    {
     "name": "stderr",
     "output_type": "stream",
     "text": [
      "[I 2023-06-16 09:49:15,957] Trial 95 finished with value: 0.1614986094536754 and parameters: {'boosting_type': 'gbdt', 'learning_rate': 0.02093945418587873, 'lambda_l1': 1.5330661787715105e-06, 'lambda_l2': 0.0011601212111963892, 'max_depth': 7, 'num_leaves': 111, 'feature_fraction': 0.507856388541547, 'min_data_in_leaf': 7, 'max_bin': 206, 'bagging_freq': 5, 'bagging_fraction': 0.5826499947861509}. Best is trial 32 with value: 0.14540191776657313.\n"
     ]
    },
    {
     "name": "stdout",
     "output_type": "stream",
     "text": [
      "Repeat \u001b[1m\u001b[34m#1\n",
      "Repeat \u001b[1m\u001b[34m#2\n",
      "Repeat \u001b[1m\u001b[34m#3\n",
      "Repeat \u001b[1m\u001b[34m#4\n",
      "Repeat \u001b[1m\u001b[34m#5\n"
     ]
    },
    {
     "name": "stderr",
     "output_type": "stream",
     "text": [
      "[I 2023-06-16 09:49:19,171] Trial 96 finished with value: 0.16997412219623706 and parameters: {'boosting_type': 'gbdt', 'learning_rate': 0.04571972296876473, 'lambda_l1': 8.346039304067318e-07, 'lambda_l2': 0.00012735897981976528, 'max_depth': 7, 'num_leaves': 114, 'feature_fraction': 0.5328362634236901, 'min_data_in_leaf': 14, 'max_bin': 194, 'bagging_freq': 6, 'bagging_fraction': 0.5909104736523645}. Best is trial 32 with value: 0.14540191776657313.\n"
     ]
    },
    {
     "name": "stdout",
     "output_type": "stream",
     "text": [
      "Repeat \u001b[1m\u001b[34m#1\n",
      "Repeat \u001b[1m\u001b[34m#2\n",
      "Repeat \u001b[1m\u001b[34m#3\n",
      "Repeat \u001b[1m\u001b[34m#4\n",
      "Repeat \u001b[1m\u001b[34m#5\n"
     ]
    },
    {
     "name": "stderr",
     "output_type": "stream",
     "text": [
      "[I 2023-06-16 09:49:22,907] Trial 97 finished with value: 0.31072425526514363 and parameters: {'boosting_type': 'gbdt', 'learning_rate': 0.029780515141460177, 'lambda_l1': 7.061230825815121e-06, 'lambda_l2': 0.000462175387802953, 'max_depth': 8, 'num_leaves': 115, 'feature_fraction': 0.5661832221225317, 'min_data_in_leaf': 44, 'max_bin': 206, 'bagging_freq': 4, 'bagging_fraction': 0.5644039894560321}. Best is trial 32 with value: 0.14540191776657313.\n"
     ]
    },
    {
     "name": "stdout",
     "output_type": "stream",
     "text": [
      "Repeat \u001b[1m\u001b[34m#1\n",
      "Repeat \u001b[1m\u001b[34m#2\n",
      "Repeat \u001b[1m\u001b[34m#3\n",
      "Repeat \u001b[1m\u001b[34m#4\n",
      "Repeat \u001b[1m\u001b[34m#5\n"
     ]
    },
    {
     "name": "stderr",
     "output_type": "stream",
     "text": [
      "[I 2023-06-16 09:49:54,672] Trial 98 finished with value: 0.18313361812139434 and parameters: {'boosting_type': 'dart', 'learning_rate': 0.018313634388246815, 'lambda_l1': 1.4946017988884217e-06, 'lambda_l2': 0.0009094130938989505, 'max_depth': 8, 'num_leaves': 112, 'feature_fraction': 0.5452973123249575, 'min_data_in_leaf': 5, 'max_bin': 213, 'bagging_freq': 5, 'bagging_fraction': 0.5723233807001674}. Best is trial 32 with value: 0.14540191776657313.\n"
     ]
    },
    {
     "name": "stdout",
     "output_type": "stream",
     "text": [
      "Repeat \u001b[1m\u001b[34m#1\n",
      "Repeat \u001b[1m\u001b[34m#2\n",
      "Repeat \u001b[1m\u001b[34m#3\n",
      "Repeat \u001b[1m\u001b[34m#4\n",
      "Repeat \u001b[1m\u001b[34m#5\n"
     ]
    },
    {
     "name": "stderr",
     "output_type": "stream",
     "text": [
      "[I 2023-06-16 09:49:57,749] Trial 99 finished with value: 0.1712011397738631 and parameters: {'boosting_type': 'gbdt', 'learning_rate': 0.06300504801125145, 'lambda_l1': 6.936970936583332e-07, 'lambda_l2': 0.0024259010144831606, 'max_depth': 7, 'num_leaves': 108, 'feature_fraction': 0.5159988885928987, 'min_data_in_leaf': 9, 'max_bin': 188, 'bagging_freq': 5, 'bagging_fraction': 0.5891687588119471}. Best is trial 32 with value: 0.14540191776657313.\n"
     ]
    },
    {
     "name": "stdout",
     "output_type": "stream",
     "text": [
      "Repeat \u001b[1m\u001b[34m#1\n",
      "Repeat \u001b[1m\u001b[34m#2\n",
      "Repeat \u001b[1m\u001b[34m#3\n",
      "Repeat \u001b[1m\u001b[34m#4\n",
      "Repeat \u001b[1m\u001b[34m#5\n"
     ]
    },
    {
     "name": "stderr",
     "output_type": "stream",
     "text": [
      "[I 2023-06-16 09:50:01,405] Trial 100 finished with value: 0.16289237969342754 and parameters: {'boosting_type': 'gbdt', 'learning_rate': 0.045087523538482, 'lambda_l1': 8.589385351227243e-06, 'lambda_l2': 0.00023845208034159308, 'max_depth': 7, 'num_leaves': 122, 'feature_fraction': 0.5035900850115335, 'min_data_in_leaf': 9, 'max_bin': 196, 'bagging_freq': 3, 'bagging_fraction': 0.6080261435019849}. Best is trial 32 with value: 0.14540191776657313.\n"
     ]
    },
    {
     "name": "stdout",
     "output_type": "stream",
     "text": [
      "Repeat \u001b[1m\u001b[34m#1\n",
      "Repeat \u001b[1m\u001b[34m#2\n",
      "Repeat \u001b[1m\u001b[34m#3\n",
      "Repeat \u001b[1m\u001b[34m#4\n",
      "Repeat \u001b[1m\u001b[34m#5\n"
     ]
    },
    {
     "name": "stderr",
     "output_type": "stream",
     "text": [
      "[I 2023-06-16 09:50:06,467] Trial 101 finished with value: 0.15772364520478577 and parameters: {'boosting_type': 'gbdt', 'learning_rate': 0.03582480775494437, 'lambda_l1': 3.442825340816668e-07, 'lambda_l2': 0.0006750284528048073, 'max_depth': 7, 'num_leaves': 99, 'feature_fraction': 0.5231302655557899, 'min_data_in_leaf': 5, 'max_bin': 175, 'bagging_freq': 4, 'bagging_fraction': 0.5549278157524928}. Best is trial 32 with value: 0.14540191776657313.\n"
     ]
    },
    {
     "name": "stdout",
     "output_type": "stream",
     "text": [
      "Repeat \u001b[1m\u001b[34m#1\n",
      "Repeat \u001b[1m\u001b[34m#2\n",
      "Repeat \u001b[1m\u001b[34m#3\n",
      "Repeat \u001b[1m\u001b[34m#4\n",
      "Repeat \u001b[1m\u001b[34m#5\n"
     ]
    },
    {
     "name": "stderr",
     "output_type": "stream",
     "text": [
      "[I 2023-06-16 09:50:10,745] Trial 102 finished with value: 0.1633137343531906 and parameters: {'boosting_type': 'gbdt', 'learning_rate': 0.03294791795982112, 'lambda_l1': 1.0357399486774702e-06, 'lambda_l2': 0.0005137492364041076, 'max_depth': 7, 'num_leaves': 99, 'feature_fraction': 0.5376503738727172, 'min_data_in_leaf': 12, 'max_bin': 162, 'bagging_freq': 4, 'bagging_fraction': 0.5790727904753055}. Best is trial 32 with value: 0.14540191776657313.\n"
     ]
    },
    {
     "name": "stdout",
     "output_type": "stream",
     "text": [
      "Repeat \u001b[1m\u001b[34m#1\n",
      "Repeat \u001b[1m\u001b[34m#2\n",
      "Repeat \u001b[1m\u001b[34m#3\n",
      "Repeat \u001b[1m\u001b[34m#4\n",
      "Repeat \u001b[1m\u001b[34m#5\n"
     ]
    },
    {
     "name": "stderr",
     "output_type": "stream",
     "text": [
      "[I 2023-06-16 09:50:15,658] Trial 103 finished with value: 0.16144144159054488 and parameters: {'boosting_type': 'gbdt', 'learning_rate': 0.029778980891505602, 'lambda_l1': 2.5670855161851813e-07, 'lambda_l2': 0.0015816734311756271, 'max_depth': 7, 'num_leaves': 87, 'feature_fraction': 0.521843252193622, 'min_data_in_leaf': 7, 'max_bin': 181, 'bagging_freq': 4, 'bagging_fraction': 0.5631754908595717}. Best is trial 32 with value: 0.14540191776657313.\n"
     ]
    },
    {
     "name": "stdout",
     "output_type": "stream",
     "text": [
      "Repeat \u001b[1m\u001b[34m#1\n",
      "Repeat \u001b[1m\u001b[34m#2\n",
      "Repeat \u001b[1m\u001b[34m#3\n",
      "Repeat \u001b[1m\u001b[34m#4\n",
      "Repeat \u001b[1m\u001b[34m#5\n"
     ]
    },
    {
     "name": "stderr",
     "output_type": "stream",
     "text": [
      "[I 2023-06-16 09:50:21,362] Trial 104 finished with value: 0.1619705305571658 and parameters: {'boosting_type': 'gbdt', 'learning_rate': 0.024979009495359104, 'lambda_l1': 5.49622052391011e-07, 'lambda_l2': 0.0007755392030073386, 'max_depth': 7, 'num_leaves': 106, 'feature_fraction': 0.5516458851161046, 'min_data_in_leaf': 5, 'max_bin': 155, 'bagging_freq': 3, 'bagging_fraction': 0.5888479963316127}. Best is trial 32 with value: 0.14540191776657313.\n"
     ]
    },
    {
     "name": "stdout",
     "output_type": "stream",
     "text": [
      "Repeat \u001b[1m\u001b[34m#1\n",
      "Repeat \u001b[1m\u001b[34m#2\n",
      "Repeat \u001b[1m\u001b[34m#3\n",
      "Repeat \u001b[1m\u001b[34m#4\n",
      "Repeat \u001b[1m\u001b[34m#5\n"
     ]
    },
    {
     "name": "stderr",
     "output_type": "stream",
     "text": [
      "[I 2023-06-16 09:50:25,283] Trial 105 finished with value: 0.16467480894798547 and parameters: {'boosting_type': 'gbdt', 'learning_rate': 0.039224330905667314, 'lambda_l1': 9.738390075474667e-08, 'lambda_l2': 0.0003188286271740194, 'max_depth': 8, 'num_leaves': 116, 'feature_fraction': 0.5011474032288458, 'min_data_in_leaf': 8, 'max_bin': 170, 'bagging_freq': 3, 'bagging_fraction': 0.5563923909807169}. Best is trial 32 with value: 0.14540191776657313.\n"
     ]
    },
    {
     "name": "stdout",
     "output_type": "stream",
     "text": [
      "Repeat \u001b[1m\u001b[34m#1\n",
      "Repeat \u001b[1m\u001b[34m#2\n",
      "Repeat \u001b[1m\u001b[34m#3\n",
      "Repeat \u001b[1m\u001b[34m#4\n",
      "Repeat \u001b[1m\u001b[34m#5\n"
     ]
    },
    {
     "name": "stderr",
     "output_type": "stream",
     "text": [
      "[I 2023-06-16 09:50:27,882] Trial 106 finished with value: 0.3462184800383526 and parameters: {'boosting_type': 'gbdt', 'learning_rate': 0.051682275338322425, 'lambda_l1': 3.6368654931099546e-06, 'lambda_l2': 0.0009655237227805544, 'max_depth': 8, 'num_leaves': 95, 'feature_fraction': 0.5343129089458061, 'min_data_in_leaf': 52, 'max_bin': 189, 'bagging_freq': 3, 'bagging_fraction': 0.5754528643028607}. Best is trial 32 with value: 0.14540191776657313.\n"
     ]
    },
    {
     "name": "stdout",
     "output_type": "stream",
     "text": [
      "Repeat \u001b[1m\u001b[34m#1\n",
      "Repeat \u001b[1m\u001b[34m#2\n",
      "Repeat \u001b[1m\u001b[34m#3\n",
      "Repeat \u001b[1m\u001b[34m#4\n",
      "Repeat \u001b[1m\u001b[34m#5\n"
     ]
    },
    {
     "name": "stderr",
     "output_type": "stream",
     "text": [
      "[I 2023-06-16 09:50:30,207] Trial 107 finished with value: 0.16760262323977765 and parameters: {'boosting_type': 'gbdt', 'learning_rate': 0.06631569014411248, 'lambda_l1': 1.7509068810670307e-06, 'lambda_l2': 0.0037119476844018023, 'max_depth': 6, 'num_leaves': 112, 'feature_fraction': 0.49530699767609465, 'min_data_in_leaf': 11, 'max_bin': 213, 'bagging_freq': 5, 'bagging_fraction': 0.5273713957845028}. Best is trial 32 with value: 0.14540191776657313.\n"
     ]
    },
    {
     "name": "stdout",
     "output_type": "stream",
     "text": [
      "Repeat \u001b[1m\u001b[34m#1\n",
      "Repeat \u001b[1m\u001b[34m#2\n",
      "Repeat \u001b[1m\u001b[34m#3\n",
      "Repeat \u001b[1m\u001b[34m#4\n",
      "Repeat \u001b[1m\u001b[34m#5\n"
     ]
    },
    {
     "name": "stderr",
     "output_type": "stream",
     "text": [
      "[I 2023-06-16 09:50:33,770] Trial 108 finished with value: 0.1726430965265975 and parameters: {'boosting_type': 'gbdt', 'learning_rate': 0.027703146991725564, 'lambda_l1': 4.286963018983567e-07, 'lambda_l2': 0.0024835810823718493, 'max_depth': 7, 'num_leaves': 101, 'feature_fraction': 0.5134109778676651, 'min_data_in_leaf': 15, 'max_bin': 198, 'bagging_freq': 4, 'bagging_fraction': 0.6008916319909867}. Best is trial 32 with value: 0.14540191776657313.\n"
     ]
    },
    {
     "name": "stdout",
     "output_type": "stream",
     "text": [
      "Repeat \u001b[1m\u001b[34m#1\n",
      "Repeat \u001b[1m\u001b[34m#2\n",
      "Repeat \u001b[1m\u001b[34m#3\n",
      "Repeat \u001b[1m\u001b[34m#4\n",
      "Repeat \u001b[1m\u001b[34m#5\n"
     ]
    },
    {
     "name": "stderr",
     "output_type": "stream",
     "text": [
      "[I 2023-06-16 09:50:42,917] Trial 109 finished with value: 0.16655544679288475 and parameters: {'boosting_type': 'gbdt', 'learning_rate': 0.013418643372426434, 'lambda_l1': 1.03592328768842e-06, 'lambda_l2': 0.0011112014650545808, 'max_depth': 9, 'num_leaves': 121, 'feature_fraction': 0.5685090226231165, 'min_data_in_leaf': 7, 'max_bin': 177, 'bagging_freq': 4, 'bagging_fraction': 0.5709343221850206}. Best is trial 32 with value: 0.14540191776657313.\n"
     ]
    },
    {
     "name": "stdout",
     "output_type": "stream",
     "text": [
      "Repeat \u001b[1m\u001b[34m#1\n",
      "Repeat \u001b[1m\u001b[34m#2\n",
      "Repeat \u001b[1m\u001b[34m#3\n",
      "Repeat \u001b[1m\u001b[34m#4\n",
      "Repeat \u001b[1m\u001b[34m#5\n"
     ]
    },
    {
     "name": "stderr",
     "output_type": "stream",
     "text": [
      "[I 2023-06-16 09:50:46,290] Trial 110 finished with value: 0.16512763292184718 and parameters: {'boosting_type': 'gbdt', 'learning_rate': 0.04276352982308625, 'lambda_l1': 2.2460873546555413e-06, 'lambda_l2': 0.0004495135207253733, 'max_depth': 7, 'num_leaves': 110, 'feature_fraction': 0.5561722929688072, 'min_data_in_leaf': 13, 'max_bin': 219, 'bagging_freq': 6, 'bagging_fraction': 0.6130854106033001}. Best is trial 32 with value: 0.14540191776657313.\n"
     ]
    },
    {
     "name": "stdout",
     "output_type": "stream",
     "text": [
      "Repeat \u001b[1m\u001b[34m#1\n",
      "Repeat \u001b[1m\u001b[34m#2\n",
      "Repeat \u001b[1m\u001b[34m#3\n",
      "Repeat \u001b[1m\u001b[34m#4\n",
      "Repeat \u001b[1m\u001b[34m#5\n"
     ]
    },
    {
     "name": "stderr",
     "output_type": "stream",
     "text": [
      "[I 2023-06-16 09:50:52,154] Trial 111 finished with value: 0.15871080967240186 and parameters: {'boosting_type': 'gbdt', 'learning_rate': 0.0372109603667925, 'lambda_l1': 3.528840338150768e-07, 'lambda_l2': 0.0006083720046405419, 'max_depth': 7, 'num_leaves': 106, 'feature_fraction': 0.5225937160638734, 'min_data_in_leaf': 5, 'max_bin': 167, 'bagging_freq': 4, 'bagging_fraction': 0.5505672816291822}. Best is trial 32 with value: 0.14540191776657313.\n"
     ]
    },
    {
     "name": "stdout",
     "output_type": "stream",
     "text": [
      "Repeat \u001b[1m\u001b[34m#1\n",
      "Repeat \u001b[1m\u001b[34m#2\n",
      "Repeat \u001b[1m\u001b[34m#3\n",
      "Repeat \u001b[1m\u001b[34m#4\n",
      "Repeat \u001b[1m\u001b[34m#5\n"
     ]
    },
    {
     "name": "stderr",
     "output_type": "stream",
     "text": [
      "[I 2023-06-16 09:50:55,389] Trial 112 finished with value: 0.16207741642144416 and parameters: {'boosting_type': 'gbdt', 'learning_rate': 0.05438405627166406, 'lambda_l1': 3.416432290843991e-07, 'lambda_l2': 0.0018558435620905037, 'max_depth': 7, 'num_leaves': 105, 'feature_fraction': 0.5074788444499416, 'min_data_in_leaf': 9, 'max_bin': 193, 'bagging_freq': 4, 'bagging_fraction': 0.5361233504085873}. Best is trial 32 with value: 0.14540191776657313.\n"
     ]
    },
    {
     "name": "stdout",
     "output_type": "stream",
     "text": [
      "Repeat \u001b[1m\u001b[34m#1\n",
      "Repeat \u001b[1m\u001b[34m#2\n",
      "Repeat \u001b[1m\u001b[34m#3\n",
      "Repeat \u001b[1m\u001b[34m#4\n",
      "Repeat \u001b[1m\u001b[34m#5\n"
     ]
    },
    {
     "name": "stderr",
     "output_type": "stream",
     "text": [
      "[I 2023-06-16 09:50:58,578] Trial 113 finished with value: 0.1663013930455462 and parameters: {'boosting_type': 'gbdt', 'learning_rate': 0.08525012828841069, 'lambda_l1': 8.437925108817606e-07, 'lambda_l2': 0.000622456302394281, 'max_depth': 7, 'num_leaves': 117, 'feature_fraction': 0.5247659155908027, 'min_data_in_leaf': 6, 'max_bin': 155, 'bagging_freq': 4, 'bagging_fraction': 0.551916892413588}. Best is trial 32 with value: 0.14540191776657313.\n"
     ]
    },
    {
     "name": "stdout",
     "output_type": "stream",
     "text": [
      "Repeat \u001b[1m\u001b[34m#1\n",
      "Repeat \u001b[1m\u001b[34m#2\n",
      "Repeat \u001b[1m\u001b[34m#3\n",
      "Repeat \u001b[1m\u001b[34m#4\n",
      "Repeat \u001b[1m\u001b[34m#5\n"
     ]
    },
    {
     "name": "stderr",
     "output_type": "stream",
     "text": [
      "[I 2023-06-16 09:51:04,102] Trial 114 finished with value: 0.16500890113189684 and parameters: {'boosting_type': 'gbdt', 'learning_rate': 0.024377676098381543, 'lambda_l1': 2.0460921483759286e-07, 'lambda_l2': 0.0031129804591533247, 'max_depth': 7, 'num_leaves': 102, 'feature_fraction': 0.5870017917439204, 'min_data_in_leaf': 5, 'max_bin': 165, 'bagging_freq': 3, 'bagging_fraction': 0.557717251939504}. Best is trial 32 with value: 0.14540191776657313.\n"
     ]
    },
    {
     "name": "stdout",
     "output_type": "stream",
     "text": [
      "Repeat \u001b[1m\u001b[34m#1\n",
      "Repeat \u001b[1m\u001b[34m#2\n",
      "Repeat \u001b[1m\u001b[34m#3\n",
      "Repeat \u001b[1m\u001b[34m#4\n",
      "Repeat \u001b[1m\u001b[34m#5\n"
     ]
    },
    {
     "name": "stderr",
     "output_type": "stream",
     "text": [
      "[I 2023-06-16 09:51:11,541] Trial 115 finished with value: 0.16936991404019666 and parameters: {'boosting_type': 'gbdt', 'learning_rate': 0.01961177864134885, 'lambda_l1': 6.243710929835676e-07, 'lambda_l2': 0.0002808851959564307, 'max_depth': 8, 'num_leaves': 114, 'feature_fraction': 0.5400499863039188, 'min_data_in_leaf': 9, 'max_bin': 171, 'bagging_freq': 5, 'bagging_fraction': 0.591696075209774}. Best is trial 32 with value: 0.14540191776657313.\n"
     ]
    },
    {
     "name": "stdout",
     "output_type": "stream",
     "text": [
      "Repeat \u001b[1m\u001b[34m#1\n",
      "Repeat \u001b[1m\u001b[34m#2\n",
      "Repeat \u001b[1m\u001b[34m#3\n",
      "Repeat \u001b[1m\u001b[34m#4\n",
      "Repeat \u001b[1m\u001b[34m#5\n"
     ]
    },
    {
     "name": "stderr",
     "output_type": "stream",
     "text": [
      "[I 2023-06-16 09:51:12,245] Trial 116 finished with value: 0.6973915667428459 and parameters: {'boosting_type': 'gbdt', 'learning_rate': 0.09517128749988497, 'lambda_l1': 3.87428153131045e-06, 'lambda_l2': 0.00011693215956515426, 'max_depth': 6, 'num_leaves': 107, 'feature_fraction': 0.5225480648648505, 'min_data_in_leaf': 77, 'max_bin': 203, 'bagging_freq': 3, 'bagging_fraction': 0.5658752564425926}. Best is trial 32 with value: 0.14540191776657313.\n"
     ]
    },
    {
     "name": "stdout",
     "output_type": "stream",
     "text": [
      "Repeat \u001b[1m\u001b[34m#1\n",
      "Repeat \u001b[1m\u001b[34m#2\n",
      "Repeat \u001b[1m\u001b[34m#3\n",
      "Repeat \u001b[1m\u001b[34m#4\n",
      "Repeat \u001b[1m\u001b[34m#5\n"
     ]
    },
    {
     "name": "stderr",
     "output_type": "stream",
     "text": [
      "[I 2023-06-16 09:51:36,415] Trial 117 finished with value: 0.18087235716185554 and parameters: {'boosting_type': 'dart', 'learning_rate': 0.036307631245010866, 'lambda_l1': 1.3891959516389782e-06, 'lambda_l2': 0.0014552820611999872, 'max_depth': 7, 'num_leaves': 98, 'feature_fraction': 0.4914952655031672, 'min_data_in_leaf': 11, 'max_bin': 181, 'bagging_freq': 4, 'bagging_fraction': 0.5850253879890212}. Best is trial 32 with value: 0.14540191776657313.\n"
     ]
    },
    {
     "name": "stdout",
     "output_type": "stream",
     "text": [
      "Repeat \u001b[1m\u001b[34m#1\n",
      "Repeat \u001b[1m\u001b[34m#2\n",
      "Repeat \u001b[1m\u001b[34m#3\n",
      "Repeat \u001b[1m\u001b[34m#4\n",
      "Repeat \u001b[1m\u001b[34m#5\n"
     ]
    },
    {
     "name": "stderr",
     "output_type": "stream",
     "text": [
      "[I 2023-06-16 09:51:39,869] Trial 118 finished with value: 0.15913342434602787 and parameters: {'boosting_type': 'gbdt', 'learning_rate': 0.06041358621159377, 'lambda_l1': 1.36622790178422e-07, 'lambda_l2': 0.0009677666451139618, 'max_depth': 8, 'num_leaves': 127, 'feature_fraction': 0.5125748350326178, 'min_data_in_leaf': 7, 'max_bin': 187, 'bagging_freq': 4, 'bagging_fraction': 0.5331511526333914}. Best is trial 32 with value: 0.14540191776657313.\n"
     ]
    },
    {
     "name": "stdout",
     "output_type": "stream",
     "text": [
      "Repeat \u001b[1m\u001b[34m#1\n",
      "Repeat \u001b[1m\u001b[34m#2\n",
      "Repeat \u001b[1m\u001b[34m#3\n",
      "Repeat \u001b[1m\u001b[34m#4\n",
      "Repeat \u001b[1m\u001b[34m#5\n"
     ]
    },
    {
     "name": "stderr",
     "output_type": "stream",
     "text": [
      "[I 2023-06-16 09:51:42,477] Trial 119 finished with value: 0.16518375576049737 and parameters: {'boosting_type': 'gbdt', 'learning_rate': 0.06185841974316112, 'lambda_l1': 1.333917424954633e-07, 'lambda_l2': 0.00021860409852417066, 'max_depth': 8, 'num_leaves': 109, 'feature_fraction': 0.5128365265242689, 'min_data_in_leaf': 9, 'max_bin': 184, 'bagging_freq': 4, 'bagging_fraction': 0.5311189576222359}. Best is trial 32 with value: 0.14540191776657313.\n"
     ]
    },
    {
     "name": "stdout",
     "output_type": "stream",
     "text": [
      "Repeat \u001b[1m\u001b[34m#1\n",
      "Repeat \u001b[1m\u001b[34m#2\n",
      "Repeat \u001b[1m\u001b[34m#3\n",
      "Repeat \u001b[1m\u001b[34m#4\n",
      "Repeat \u001b[1m\u001b[34m#5\n"
     ]
    },
    {
     "name": "stderr",
     "output_type": "stream",
     "text": [
      "[I 2023-06-16 09:51:47,574] Trial 120 finished with value: 0.15882508024604083 and parameters: {'boosting_type': 'gbdt', 'learning_rate': 0.02990177519177247, 'lambda_l1': 8.548583141421723e-08, 'lambda_l2': 0.0003942207716925333, 'max_depth': 8, 'num_leaves': 126, 'feature_fraction': 0.5450825742731854, 'min_data_in_leaf': 5, 'max_bin': 168, 'bagging_freq': 4, 'bagging_fraction': 0.538224693625156}. Best is trial 32 with value: 0.14540191776657313.\n"
     ]
    },
    {
     "name": "stdout",
     "output_type": "stream",
     "text": [
      "Repeat \u001b[1m\u001b[34m#1\n",
      "Repeat \u001b[1m\u001b[34m#2\n",
      "Repeat \u001b[1m\u001b[34m#3\n",
      "Repeat \u001b[1m\u001b[34m#4\n",
      "Repeat \u001b[1m\u001b[34m#5\n"
     ]
    },
    {
     "name": "stderr",
     "output_type": "stream",
     "text": [
      "[I 2023-06-16 09:51:54,520] Trial 121 finished with value: 0.16148706634957297 and parameters: {'boosting_type': 'gbdt', 'learning_rate': 0.021425407764719028, 'lambda_l1': 6.821170480396543e-08, 'lambda_l2': 0.0008660581378045696, 'max_depth': 8, 'num_leaves': 127, 'feature_fraction': 0.5327008186897279, 'min_data_in_leaf': 5, 'max_bin': 188, 'bagging_freq': 4, 'bagging_fraction': 0.5474632423014898}. Best is trial 32 with value: 0.14540191776657313.\n"
     ]
    },
    {
     "name": "stdout",
     "output_type": "stream",
     "text": [
      "Repeat \u001b[1m\u001b[34m#1\n",
      "Repeat \u001b[1m\u001b[34m#2\n",
      "Repeat \u001b[1m\u001b[34m#3\n",
      "Repeat \u001b[1m\u001b[34m#4\n",
      "Repeat \u001b[1m\u001b[34m#5\n"
     ]
    },
    {
     "name": "stderr",
     "output_type": "stream",
     "text": [
      "[I 2023-06-16 09:51:58,437] Trial 122 finished with value: 0.16040635983074497 and parameters: {'boosting_type': 'gbdt', 'learning_rate': 0.046373651087951745, 'lambda_l1': 2.755469018011005e-08, 'lambda_l2': 0.0003545863711430186, 'max_depth': 8, 'num_leaves': 126, 'feature_fraction': 0.5430051785988599, 'min_data_in_leaf': 7, 'max_bin': 166, 'bagging_freq': 4, 'bagging_fraction': 0.5182511565059476}. Best is trial 32 with value: 0.14540191776657313.\n"
     ]
    },
    {
     "name": "stdout",
     "output_type": "stream",
     "text": [
      "Repeat \u001b[1m\u001b[34m#1\n",
      "Repeat \u001b[1m\u001b[34m#2\n",
      "Repeat \u001b[1m\u001b[34m#3\n",
      "Repeat \u001b[1m\u001b[34m#4\n",
      "Repeat \u001b[1m\u001b[34m#5\n"
     ]
    },
    {
     "name": "stderr",
     "output_type": "stream",
     "text": [
      "[I 2023-06-16 09:52:03,032] Trial 123 finished with value: 0.16921509805961424 and parameters: {'boosting_type': 'gbdt', 'learning_rate': 0.027256172499706334, 'lambda_l1': 2.1175517668091045e-07, 'lambda_l2': 0.000160833294886706, 'max_depth': 8, 'num_leaves': 128, 'feature_fraction': 0.5583887225099454, 'min_data_in_leaf': 11, 'max_bin': 152, 'bagging_freq': 4, 'bagging_fraction': 0.5615889426208317}. Best is trial 32 with value: 0.14540191776657313.\n"
     ]
    },
    {
     "name": "stdout",
     "output_type": "stream",
     "text": [
      "Repeat \u001b[1m\u001b[34m#1\n",
      "Repeat \u001b[1m\u001b[34m#2\n",
      "Repeat \u001b[1m\u001b[34m#3\n",
      "Repeat \u001b[1m\u001b[34m#4\n",
      "Repeat \u001b[1m\u001b[34m#5\n"
     ]
    },
    {
     "name": "stderr",
     "output_type": "stream",
     "text": [
      "[I 2023-06-16 09:52:07,243] Trial 124 finished with value: 0.16359661124829666 and parameters: {'boosting_type': 'gbdt', 'learning_rate': 0.03084017576144175, 'lambda_l1': 8.480318174970335e-08, 'lambda_l2': 0.0005041277392322875, 'max_depth': 8, 'num_leaves': 91, 'feature_fraction': 0.5020402184991054, 'min_data_in_leaf': 7, 'max_bin': 178, 'bagging_freq': 4, 'bagging_fraction': 0.5564309623146804}. Best is trial 32 with value: 0.14540191776657313.\n"
     ]
    },
    {
     "name": "stdout",
     "output_type": "stream",
     "text": [
      "Repeat \u001b[1m\u001b[34m#1\n",
      "Repeat \u001b[1m\u001b[34m#2\n",
      "Repeat \u001b[1m\u001b[34m#3\n",
      "Repeat \u001b[1m\u001b[34m#4\n",
      "Repeat \u001b[1m\u001b[34m#5\n"
     ]
    },
    {
     "name": "stderr",
     "output_type": "stream",
     "text": [
      "[I 2023-06-16 09:52:15,243] Trial 125 finished with value: 0.16256784220916765 and parameters: {'boosting_type': 'gbdt', 'learning_rate': 0.015513806023183644, 'lambda_l1': 1.3651181479186573e-07, 'lambda_l2': 0.0013986593641244693, 'max_depth': 7, 'num_leaves': 121, 'feature_fraction': 0.5243482129140229, 'min_data_in_leaf': 5, 'max_bin': 202, 'bagging_freq': 3, 'bagging_fraction': 0.5393392848802048}. Best is trial 32 with value: 0.14540191776657313.\n"
     ]
    },
    {
     "name": "stdout",
     "output_type": "stream",
     "text": [
      "Repeat \u001b[1m\u001b[34m#1\n",
      "Repeat \u001b[1m\u001b[34m#2\n",
      "Repeat \u001b[1m\u001b[34m#3\n",
      "Repeat \u001b[1m\u001b[34m#4\n",
      "Repeat \u001b[1m\u001b[34m#5\n"
     ]
    },
    {
     "name": "stderr",
     "output_type": "stream",
     "text": [
      "[I 2023-06-16 09:52:18,355] Trial 126 finished with value: 0.16763966564482566 and parameters: {'boosting_type': 'gbdt', 'learning_rate': 0.0387963666121569, 'lambda_l1': 3.1146173014127513e-07, 'lambda_l2': 0.0007009687753964771, 'max_depth': 8, 'num_leaves': 124, 'feature_fraction': 0.5447999624488807, 'min_data_in_leaf': 13, 'max_bin': 171, 'bagging_freq': 4, 'bagging_fraction': 0.5740913390586184}. Best is trial 32 with value: 0.14540191776657313.\n"
     ]
    },
    {
     "name": "stdout",
     "output_type": "stream",
     "text": [
      "Repeat \u001b[1m\u001b[34m#1\n",
      "Repeat \u001b[1m\u001b[34m#2\n",
      "Repeat \u001b[1m\u001b[34m#3\n",
      "Repeat \u001b[1m\u001b[34m#4\n",
      "Repeat \u001b[1m\u001b[34m#5\n"
     ]
    },
    {
     "name": "stderr",
     "output_type": "stream",
     "text": [
      "[I 2023-06-16 09:52:21,021] Trial 127 finished with value: 0.1673387729719587 and parameters: {'boosting_type': 'gbdt', 'learning_rate': 0.05443694416418102, 'lambda_l1': 4.974877893527483e-07, 'lambda_l2': 8.28979331485006e-05, 'max_depth': 7, 'num_leaves': 112, 'feature_fraction': 0.5521449967365463, 'min_data_in_leaf': 9, 'max_bin': 192, 'bagging_freq': 4, 'bagging_fraction': 0.5503097678682508}. Best is trial 32 with value: 0.14540191776657313.\n"
     ]
    },
    {
     "name": "stdout",
     "output_type": "stream",
     "text": [
      "Repeat \u001b[1m\u001b[34m#1\n",
      "Repeat \u001b[1m\u001b[34m#2\n",
      "Repeat \u001b[1m\u001b[34m#3\n",
      "Repeat \u001b[1m\u001b[34m#4\n",
      "Repeat \u001b[1m\u001b[34m#5\n"
     ]
    },
    {
     "name": "stderr",
     "output_type": "stream",
     "text": [
      "[I 2023-06-16 09:52:23,262] Trial 128 finished with value: 0.16054000850591574 and parameters: {'boosting_type': 'gbdt', 'learning_rate': 0.08158752910813885, 'lambda_l1': 4.519748701590599e-08, 'lambda_l2': 0.001995338954509368, 'max_depth': 8, 'num_leaves': 105, 'feature_fraction': 0.5753337082645654, 'min_data_in_leaf': 11, 'max_bin': 186, 'bagging_freq': 3, 'bagging_fraction': 0.5380824345489968}. Best is trial 32 with value: 0.14540191776657313.\n"
     ]
    },
    {
     "name": "stdout",
     "output_type": "stream",
     "text": [
      "Repeat \u001b[1m\u001b[34m#1\n",
      "Repeat \u001b[1m\u001b[34m#2\n",
      "Repeat \u001b[1m\u001b[34m#3\n",
      "Repeat \u001b[1m\u001b[34m#4\n",
      "Repeat \u001b[1m\u001b[34m#5\n"
     ]
    },
    {
     "name": "stderr",
     "output_type": "stream",
     "text": [
      "[I 2023-06-16 09:52:28,194] Trial 129 finished with value: 0.16120706336300672 and parameters: {'boosting_type': 'gbdt', 'learning_rate': 0.023497182745757596, 'lambda_l1': 1.8235239669724488e-07, 'lambda_l2': 0.00038644667672839037, 'max_depth': 10, 'num_leaves': 116, 'feature_fraction': 0.514770192386477, 'min_data_in_leaf': 7, 'max_bin': 198, 'bagging_freq': 5, 'bagging_fraction': 0.5669183952387243}. Best is trial 32 with value: 0.14540191776657313.\n"
     ]
    },
    {
     "name": "stdout",
     "output_type": "stream",
     "text": [
      "Repeat \u001b[1m\u001b[34m#1\n",
      "Repeat \u001b[1m\u001b[34m#2\n",
      "Repeat \u001b[1m\u001b[34m#3\n",
      "Repeat \u001b[1m\u001b[34m#4\n",
      "Repeat \u001b[1m\u001b[34m#5\n"
     ]
    },
    {
     "name": "stderr",
     "output_type": "stream",
     "text": [
      "[I 2023-06-16 09:52:30,251] Trial 130 finished with value: 0.15638027522248005 and parameters: {'boosting_type': 'gbdt', 'learning_rate': 0.12367015078305438, 'lambda_l1': 7.712556684250513e-08, 'lambda_l2': 0.0009544882459035863, 'max_depth': 7, 'num_leaves': 96, 'feature_fraction': 0.5347094924735378, 'min_data_in_leaf': 5, 'max_bin': 141, 'bagging_freq': 3, 'bagging_fraction': 0.5975908439740611}. Best is trial 32 with value: 0.14540191776657313.\n"
     ]
    },
    {
     "name": "stdout",
     "output_type": "stream",
     "text": [
      "Repeat \u001b[1m\u001b[34m#1\n",
      "Repeat \u001b[1m\u001b[34m#2\n",
      "Repeat \u001b[1m\u001b[34m#3\n",
      "Repeat \u001b[1m\u001b[34m#4\n",
      "Repeat \u001b[1m\u001b[34m#5\n"
     ]
    },
    {
     "name": "stderr",
     "output_type": "stream",
     "text": [
      "[I 2023-06-16 09:52:32,172] Trial 131 finished with value: 0.15139299294336453 and parameters: {'boosting_type': 'gbdt', 'learning_rate': 0.13392008766877742, 'lambda_l1': 9.723100289116526e-08, 'lambda_l2': 0.0010126154503661588, 'max_depth': 7, 'num_leaves': 98, 'feature_fraction': 0.5343776393322998, 'min_data_in_leaf': 5, 'max_bin': 134, 'bagging_freq': 3, 'bagging_fraction': 0.5769376316313236}. Best is trial 32 with value: 0.14540191776657313.\n"
     ]
    },
    {
     "name": "stdout",
     "output_type": "stream",
     "text": [
      "Repeat \u001b[1m\u001b[34m#1\n",
      "Repeat \u001b[1m\u001b[34m#2\n",
      "Repeat \u001b[1m\u001b[34m#3\n",
      "Repeat \u001b[1m\u001b[34m#4\n",
      "Repeat \u001b[1m\u001b[34m#5\n"
     ]
    },
    {
     "name": "stderr",
     "output_type": "stream",
     "text": [
      "[I 2023-06-16 09:52:34,222] Trial 132 finished with value: 0.15225106859648413 and parameters: {'boosting_type': 'gbdt', 'learning_rate': 0.12862424087379132, 'lambda_l1': 6.37011886724263e-08, 'lambda_l2': 0.0006517101627889042, 'max_depth': 7, 'num_leaves': 95, 'feature_fraction': 0.5342522451333495, 'min_data_in_leaf': 5, 'max_bin': 139, 'bagging_freq': 3, 'bagging_fraction': 0.5954580396788867}. Best is trial 32 with value: 0.14540191776657313.\n"
     ]
    },
    {
     "name": "stdout",
     "output_type": "stream",
     "text": [
      "Repeat \u001b[1m\u001b[34m#1\n",
      "Repeat \u001b[1m\u001b[34m#2\n",
      "Repeat \u001b[1m\u001b[34m#3\n",
      "Repeat \u001b[1m\u001b[34m#4\n",
      "Repeat \u001b[1m\u001b[34m#5\n"
     ]
    },
    {
     "name": "stderr",
     "output_type": "stream",
     "text": [
      "[I 2023-06-16 09:52:36,099] Trial 133 finished with value: 0.16688599180078567 and parameters: {'boosting_type': 'gbdt', 'learning_rate': 0.12609935449309093, 'lambda_l1': 5.072274943680798e-08, 'lambda_l2': 0.0005946387872049821, 'max_depth': 7, 'num_leaves': 96, 'feature_fraction': 0.5339098958927848, 'min_data_in_leaf': 9, 'max_bin': 139, 'bagging_freq': 3, 'bagging_fraction': 0.5969984851081866}. Best is trial 32 with value: 0.14540191776657313.\n"
     ]
    },
    {
     "name": "stdout",
     "output_type": "stream",
     "text": [
      "Repeat \u001b[1m\u001b[34m#1\n",
      "Repeat \u001b[1m\u001b[34m#2\n",
      "Repeat \u001b[1m\u001b[34m#3\n",
      "Repeat \u001b[1m\u001b[34m#4\n",
      "Repeat \u001b[1m\u001b[34m#5\n"
     ]
    },
    {
     "name": "stderr",
     "output_type": "stream",
     "text": [
      "[I 2023-06-16 09:52:38,040] Trial 134 finished with value: 0.1594374115936569 and parameters: {'boosting_type': 'gbdt', 'learning_rate': 0.11761701256162224, 'lambda_l1': 8.43370096610109e-08, 'lambda_l2': 0.0029999167940710407, 'max_depth': 7, 'num_leaves': 84, 'feature_fraction': 0.5503891411303358, 'min_data_in_leaf': 5, 'max_bin': 146, 'bagging_freq': 3, 'bagging_fraction': 0.6224214994568306}. Best is trial 32 with value: 0.14540191776657313.\n"
     ]
    },
    {
     "name": "stdout",
     "output_type": "stream",
     "text": [
      "Repeat \u001b[1m\u001b[34m#1\n",
      "Repeat \u001b[1m\u001b[34m#2\n",
      "Repeat \u001b[1m\u001b[34m#3\n",
      "Repeat \u001b[1m\u001b[34m#4\n",
      "Repeat \u001b[1m\u001b[34m#5\n"
     ]
    },
    {
     "name": "stderr",
     "output_type": "stream",
     "text": [
      "[I 2023-06-16 09:52:39,615] Trial 135 finished with value: 0.16143669412560543 and parameters: {'boosting_type': 'gbdt', 'learning_rate': 0.15546269253912806, 'lambda_l1': 3.4916775251187957e-08, 'lambda_l2': 0.0002403711813308314, 'max_depth': 7, 'num_leaves': 92, 'feature_fraction': 0.5385967058360462, 'min_data_in_leaf': 10, 'max_bin': 126, 'bagging_freq': 3, 'bagging_fraction': 0.6028945441718936}. Best is trial 32 with value: 0.14540191776657313.\n"
     ]
    },
    {
     "name": "stdout",
     "output_type": "stream",
     "text": [
      "Repeat \u001b[1m\u001b[34m#1\n",
      "Repeat \u001b[1m\u001b[34m#2\n",
      "Repeat \u001b[1m\u001b[34m#3\n",
      "Repeat \u001b[1m\u001b[34m#4\n",
      "Repeat \u001b[1m\u001b[34m#5\n"
     ]
    },
    {
     "name": "stderr",
     "output_type": "stream",
     "text": [
      "[I 2023-06-16 09:52:41,359] Trial 136 finished with value: 0.1636278711752554 and parameters: {'boosting_type': 'gbdt', 'learning_rate': 0.14204880122137856, 'lambda_l1': 2.85559886484401e-08, 'lambda_l2': 0.0012739293789029585, 'max_depth': 7, 'num_leaves': 87, 'feature_fraction': 0.5610622027165101, 'min_data_in_leaf': 8, 'max_bin': 137, 'bagging_freq': 3, 'bagging_fraction': 0.5830813896580593}. Best is trial 32 with value: 0.14540191776657313.\n"
     ]
    },
    {
     "name": "stdout",
     "output_type": "stream",
     "text": [
      "Repeat \u001b[1m\u001b[34m#1\n",
      "Repeat \u001b[1m\u001b[34m#2\n",
      "Repeat \u001b[1m\u001b[34m#3\n",
      "Repeat \u001b[1m\u001b[34m#4\n",
      "Repeat \u001b[1m\u001b[34m#5\n"
     ]
    },
    {
     "name": "stderr",
     "output_type": "stream",
     "text": [
      "[I 2023-06-16 09:52:42,908] Trial 137 finished with value: 0.17010775237747755 and parameters: {'boosting_type': 'gbdt', 'learning_rate': 0.2025061323914344, 'lambda_l1': 6.568076300887703e-08, 'lambda_l2': 0.00034452798542874475, 'max_depth': 7, 'num_leaves': 100, 'feature_fraction': 0.5305812576079633, 'min_data_in_leaf': 5, 'max_bin': 141, 'bagging_freq': 3, 'bagging_fraction': 0.5932930959354829}. Best is trial 32 with value: 0.14540191776657313.\n"
     ]
    },
    {
     "name": "stdout",
     "output_type": "stream",
     "text": [
      "Repeat \u001b[1m\u001b[34m#1\n",
      "Repeat \u001b[1m\u001b[34m#2\n",
      "Repeat \u001b[1m\u001b[34m#3\n",
      "Repeat \u001b[1m\u001b[34m#4\n",
      "Repeat \u001b[1m\u001b[34m#5\n"
     ]
    },
    {
     "name": "stderr",
     "output_type": "stream",
     "text": [
      "[I 2023-06-16 09:53:07,251] Trial 138 finished with value: 0.2585410731569826 and parameters: {'boosting_type': 'dart', 'learning_rate': 0.1638230484922936, 'lambda_l1': 3.0770898837979346e-07, 'lambda_l2': 0.0020863306454973465, 'max_depth': 7, 'num_leaves': 94, 'feature_fraction': 0.5271192531357056, 'min_data_in_leaf': 12, 'max_bin': 121, 'bagging_freq': 3, 'bagging_fraction': 0.6161354529547293}. Best is trial 32 with value: 0.14540191776657313.\n"
     ]
    },
    {
     "name": "stdout",
     "output_type": "stream",
     "text": [
      "Repeat \u001b[1m\u001b[34m#1\n",
      "Repeat \u001b[1m\u001b[34m#2\n",
      "Repeat \u001b[1m\u001b[34m#3\n",
      "Repeat \u001b[1m\u001b[34m#4\n",
      "Repeat \u001b[1m\u001b[34m#5\n"
     ]
    },
    {
     "name": "stderr",
     "output_type": "stream",
     "text": [
      "[I 2023-06-16 09:53:09,123] Trial 139 finished with value: 0.1705417354520085 and parameters: {'boosting_type': 'gbdt', 'learning_rate': 0.10129390273801311, 'lambda_l1': 1.751025132253561e-08, 'lambda_l2': 0.0008016607024214832, 'max_depth': 6, 'num_leaves': 97, 'feature_fraction': 0.5426533622578884, 'min_data_in_leaf': 16, 'max_bin': 134, 'bagging_freq': 3, 'bagging_fraction': 0.6057703013684009}. Best is trial 32 with value: 0.14540191776657313.\n"
     ]
    },
    {
     "name": "stdout",
     "output_type": "stream",
     "text": [
      "Repeat \u001b[1m\u001b[34m#1\n",
      "Repeat \u001b[1m\u001b[34m#2\n",
      "Repeat \u001b[1m\u001b[34m#3\n",
      "Repeat \u001b[1m\u001b[34m#4\n",
      "Repeat \u001b[1m\u001b[34m#5\n"
     ]
    },
    {
     "name": "stderr",
     "output_type": "stream",
     "text": [
      "[I 2023-06-16 09:53:11,052] Trial 140 finished with value: 0.16460375492181253 and parameters: {'boosting_type': 'gbdt', 'learning_rate': 0.1336875949518643, 'lambda_l1': 8.859401549751079e-08, 'lambda_l2': 0.0005363781074340483, 'max_depth': 7, 'num_leaves': 102, 'feature_fraction': 0.5680864922746575, 'min_data_in_leaf': 7, 'max_bin': 152, 'bagging_freq': 3, 'bagging_fraction': 0.5779669411351261}. Best is trial 32 with value: 0.14540191776657313.\n"
     ]
    },
    {
     "name": "stdout",
     "output_type": "stream",
     "text": [
      "Repeat \u001b[1m\u001b[34m#1\n",
      "Repeat \u001b[1m\u001b[34m#2\n",
      "Repeat \u001b[1m\u001b[34m#3\n",
      "Repeat \u001b[1m\u001b[34m#4\n",
      "Repeat \u001b[1m\u001b[34m#5\n"
     ]
    },
    {
     "name": "stderr",
     "output_type": "stream",
     "text": [
      "[I 2023-06-16 09:53:13,532] Trial 141 finished with value: 0.16005772886389275 and parameters: {'boosting_type': 'gbdt', 'learning_rate': 0.08981476394253547, 'lambda_l1': 1.595745110414269e-06, 'lambda_l2': 0.0010993329772221762, 'max_depth': 7, 'num_leaves': 107, 'feature_fraction': 0.518412303774109, 'min_data_in_leaf': 5, 'max_bin': 158, 'bagging_freq': 3, 'bagging_fraction': 0.5741432429041262}. Best is trial 32 with value: 0.14540191776657313.\n"
     ]
    },
    {
     "name": "stdout",
     "output_type": "stream",
     "text": [
      "Repeat \u001b[1m\u001b[34m#1\n",
      "Repeat \u001b[1m\u001b[34m#2\n",
      "Repeat \u001b[1m\u001b[34m#3\n",
      "Repeat \u001b[1m\u001b[34m#4\n",
      "Repeat \u001b[1m\u001b[34m#5\n"
     ]
    },
    {
     "name": "stderr",
     "output_type": "stream",
     "text": [
      "[I 2023-06-16 09:53:17,649] Trial 142 finished with value: 0.16343378324087712 and parameters: {'boosting_type': 'gbdt', 'learning_rate': 0.034103115819071425, 'lambda_l1': 1.0038698096775547e-06, 'lambda_l2': 0.004408148329327165, 'max_depth': 7, 'num_leaves': 99, 'feature_fraction': 0.5539629461901923, 'min_data_in_leaf': 9, 'max_bin': 131, 'bagging_freq': 3, 'bagging_fraction': 0.5891604707706589}. Best is trial 32 with value: 0.14540191776657313.\n"
     ]
    },
    {
     "name": "stdout",
     "output_type": "stream",
     "text": [
      "Repeat \u001b[1m\u001b[34m#1\n",
      "Repeat \u001b[1m\u001b[34m#2\n",
      "Repeat \u001b[1m\u001b[34m#3\n",
      "Repeat \u001b[1m\u001b[34m#4\n",
      "Repeat \u001b[1m\u001b[34m#5\n"
     ]
    },
    {
     "name": "stderr",
     "output_type": "stream",
     "text": [
      "[I 2023-06-16 09:53:20,058] Trial 143 finished with value: 0.15791838211775017 and parameters: {'boosting_type': 'gbdt', 'learning_rate': 0.11726854501624884, 'lambda_l1': 6.945533483985926e-07, 'lambda_l2': 0.0016457626731763964, 'max_depth': 7, 'num_leaves': 104, 'feature_fraction': 0.49991200383870055, 'min_data_in_leaf': 5, 'max_bin': 173, 'bagging_freq': 3, 'bagging_fraction': 0.5968972651638123}. Best is trial 32 with value: 0.14540191776657313.\n"
     ]
    },
    {
     "name": "stdout",
     "output_type": "stream",
     "text": [
      "Repeat \u001b[1m\u001b[34m#1\n",
      "Repeat \u001b[1m\u001b[34m#2\n",
      "Repeat \u001b[1m\u001b[34m#3\n",
      "Repeat \u001b[1m\u001b[34m#4\n",
      "Repeat \u001b[1m\u001b[34m#5\n"
     ]
    },
    {
     "name": "stderr",
     "output_type": "stream",
     "text": [
      "[I 2023-06-16 09:53:21,879] Trial 144 finished with value: 0.16528597214546759 and parameters: {'boosting_type': 'gbdt', 'learning_rate': 0.1720202204078528, 'lambda_l1': 4.535636840218018e-07, 'lambda_l2': 0.0013971946843444316, 'max_depth': 7, 'num_leaves': 104, 'feature_fraction': 0.5047911174906075, 'min_data_in_leaf': 8, 'max_bin': 167, 'bagging_freq': 4, 'bagging_fraction': 0.6089718521845939}. Best is trial 32 with value: 0.14540191776657313.\n"
     ]
    },
    {
     "name": "stdout",
     "output_type": "stream",
     "text": [
      "Repeat \u001b[1m\u001b[34m#1\n",
      "Repeat \u001b[1m\u001b[34m#2\n",
      "Repeat \u001b[1m\u001b[34m#3\n",
      "Repeat \u001b[1m\u001b[34m#4\n",
      "Repeat \u001b[1m\u001b[34m#5\n"
     ]
    },
    {
     "name": "stderr",
     "output_type": "stream",
     "text": [
      "[I 2023-06-16 09:53:24,091] Trial 145 finished with value: 0.1600629946381688 and parameters: {'boosting_type': 'gbdt', 'learning_rate': 0.11011492463375333, 'lambda_l1': 1.8113017277385652e-07, 'lambda_l2': 0.00017345885594204977, 'max_depth': 7, 'num_leaves': 89, 'feature_fraction': 0.524888877596336, 'min_data_in_leaf': 6, 'max_bin': 179, 'bagging_freq': 3, 'bagging_fraction': 0.5968838813524276}. Best is trial 32 with value: 0.14540191776657313.\n"
     ]
    },
    {
     "name": "stdout",
     "output_type": "stream",
     "text": [
      "Repeat \u001b[1m\u001b[34m#1\n",
      "Repeat \u001b[1m\u001b[34m#2\n",
      "Repeat \u001b[1m\u001b[34m#3\n",
      "Repeat \u001b[1m\u001b[34m#4\n",
      "Repeat \u001b[1m\u001b[34m#5\n"
     ]
    },
    {
     "name": "stderr",
     "output_type": "stream",
     "text": [
      "[I 2023-06-16 09:53:25,936] Trial 146 finished with value: 0.17034589334786254 and parameters: {'boosting_type': 'gbdt', 'learning_rate': 0.12727731082236768, 'lambda_l1': 2.269378448841888e-06, 'lambda_l2': 0.0025772717303624636, 'max_depth': 7, 'num_leaves': 93, 'feature_fraction': 0.5349298581226785, 'min_data_in_leaf': 10, 'max_bin': 41, 'bagging_freq': 3, 'bagging_fraction': 0.5624300096999469}. Best is trial 32 with value: 0.14540191776657313.\n"
     ]
    },
    {
     "name": "stdout",
     "output_type": "stream",
     "text": [
      "Repeat \u001b[1m\u001b[34m#1\n",
      "Repeat \u001b[1m\u001b[34m#2\n",
      "Repeat \u001b[1m\u001b[34m#3\n",
      "Repeat \u001b[1m\u001b[34m#4\n",
      "Repeat \u001b[1m\u001b[34m#5\n"
     ]
    },
    {
     "name": "stderr",
     "output_type": "stream",
     "text": [
      "[I 2023-06-16 09:53:27,454] Trial 147 finished with value: 0.17337290278544945 and parameters: {'boosting_type': 'gbdt', 'learning_rate': 0.21138454970791673, 'lambda_l1': 4.863185403262127e-06, 'lambda_l2': 0.0006765840237355919, 'max_depth': 7, 'num_leaves': 102, 'feature_fraction': 0.5084556027462608, 'min_data_in_leaf': 7, 'max_bin': 52, 'bagging_freq': 4, 'bagging_fraction': 0.5820066120284025}. Best is trial 32 with value: 0.14540191776657313.\n"
     ]
    },
    {
     "name": "stdout",
     "output_type": "stream",
     "text": [
      "Repeat \u001b[1m\u001b[34m#1\n",
      "Repeat \u001b[1m\u001b[34m#2\n",
      "Repeat \u001b[1m\u001b[34m#3\n",
      "Repeat \u001b[1m\u001b[34m#4\n",
      "Repeat \u001b[1m\u001b[34m#5\n"
     ]
    },
    {
     "name": "stderr",
     "output_type": "stream",
     "text": [
      "[I 2023-06-16 09:53:30,537] Trial 148 finished with value: 0.1580618425112414 and parameters: {'boosting_type': 'gbdt', 'learning_rate': 0.07008703666097074, 'lambda_l1': 1.1768665689941243e-07, 'lambda_l2': 0.00038815370518100964, 'max_depth': 7, 'num_leaves': 98, 'feature_fraction': 0.49735908873906504, 'min_data_in_leaf': 5, 'max_bin': 173, 'bagging_freq': 5, 'bagging_fraction': 0.6195205447858145}. Best is trial 32 with value: 0.14540191776657313.\n"
     ]
    },
    {
     "name": "stdout",
     "output_type": "stream",
     "text": [
      "Repeat \u001b[1m\u001b[34m#1\n",
      "Repeat \u001b[1m\u001b[34m#2\n",
      "Repeat \u001b[1m\u001b[34m#3\n",
      "Repeat \u001b[1m\u001b[34m#4\n",
      "Repeat \u001b[1m\u001b[34m#5\n"
     ]
    },
    {
     "name": "stderr",
     "output_type": "stream",
     "text": [
      "[I 2023-06-16 09:53:32,653] Trial 149 finished with value: 0.17357335378126204 and parameters: {'boosting_type': 'gbdt', 'learning_rate': 0.07891136742817893, 'lambda_l1': 2.7231545599835747e-07, 'lambda_l2': 0.006158930029740448, 'max_depth': 7, 'num_leaves': 97, 'feature_fraction': 0.5019577881390674, 'min_data_in_leaf': 14, 'max_bin': 149, 'bagging_freq': 5, 'bagging_fraction': 0.620404659301135}. Best is trial 32 with value: 0.14540191776657313.\n"
     ]
    },
    {
     "name": "stdout",
     "output_type": "stream",
     "text": [
      "Repeat \u001b[1m\u001b[34m#1\n",
      "Repeat \u001b[1m\u001b[34m#2\n",
      "Repeat \u001b[1m\u001b[34m#3\n",
      "Repeat \u001b[1m\u001b[34m#4\n",
      "Repeat \u001b[1m\u001b[34m#5\n"
     ]
    },
    {
     "name": "stderr",
     "output_type": "stream",
     "text": [
      "[I 2023-06-16 09:53:34,327] Trial 150 finished with value: 0.18396596645421356 and parameters: {'boosting_type': 'gbdt', 'learning_rate': 0.25758442795236863, 'lambda_l1': 6.736704961098916e-07, 'lambda_l2': 0.001961221684316779, 'max_depth': 7, 'num_leaves': 100, 'feature_fraction': 0.4948401084032243, 'min_data_in_leaf': 11, 'max_bin': 174, 'bagging_freq': 6, 'bagging_fraction': 0.6336682743701618}. Best is trial 32 with value: 0.14540191776657313.\n"
     ]
    },
    {
     "name": "stdout",
     "output_type": "stream",
     "text": [
      "Repeat \u001b[1m\u001b[34m#1\n",
      "Repeat \u001b[1m\u001b[34m#2\n",
      "Repeat \u001b[1m\u001b[34m#3\n",
      "Repeat \u001b[1m\u001b[34m#4\n",
      "Repeat \u001b[1m\u001b[34m#5\n"
     ]
    },
    {
     "name": "stderr",
     "output_type": "stream",
     "text": [
      "[I 2023-06-16 09:53:37,718] Trial 151 finished with value: 0.1620356636756853 and parameters: {'boosting_type': 'gbdt', 'learning_rate': 0.04607576997295566, 'lambda_l1': 1.1084730966550345e-07, 'lambda_l2': 0.00042038729725609147, 'max_depth': 6, 'num_leaves': 108, 'feature_fraction': 0.5219401683872801, 'min_data_in_leaf': 5, 'max_bin': 160, 'bagging_freq': 7, 'bagging_fraction': 0.6011745556269398}. Best is trial 32 with value: 0.14540191776657313.\n"
     ]
    },
    {
     "name": "stdout",
     "output_type": "stream",
     "text": [
      "Repeat \u001b[1m\u001b[34m#1\n",
      "Repeat \u001b[1m\u001b[34m#2\n",
      "Repeat \u001b[1m\u001b[34m#3\n",
      "Repeat \u001b[1m\u001b[34m#4\n",
      "Repeat \u001b[1m\u001b[34m#5\n"
     ]
    },
    {
     "name": "stderr",
     "output_type": "stream",
     "text": [
      "[I 2023-06-16 09:53:39,715] Trial 152 finished with value: 0.2430993669466579 and parameters: {'boosting_type': 'gbdt', 'learning_rate': 0.10781071043634255, 'lambda_l1': 6.211121222909497e-08, 'lambda_l2': 0.00027562932003021966, 'max_depth': 7, 'num_leaves': 96, 'feature_fraction': 0.5480005486450412, 'min_data_in_leaf': 39, 'max_bin': 168, 'bagging_freq': 5, 'bagging_fraction': 0.6094333929209456}. Best is trial 32 with value: 0.14540191776657313.\n"
     ]
    },
    {
     "name": "stdout",
     "output_type": "stream",
     "text": [
      "Repeat \u001b[1m\u001b[34m#1\n",
      "Repeat \u001b[1m\u001b[34m#2\n",
      "Repeat \u001b[1m\u001b[34m#3\n",
      "Repeat \u001b[1m\u001b[34m#4\n",
      "Repeat \u001b[1m\u001b[34m#5\n"
     ]
    },
    {
     "name": "stderr",
     "output_type": "stream",
     "text": [
      "[I 2023-06-16 09:53:42,255] Trial 153 finished with value: 0.1641499471711112 and parameters: {'boosting_type': 'gbdt', 'learning_rate': 0.06889791414079287, 'lambda_l1': 1.3320276313815465e-06, 'lambda_l2': 0.000912766040198335, 'max_depth': 7, 'num_leaves': 104, 'feature_fraction': 0.5165127818361266, 'min_data_in_leaf': 7, 'max_bin': 210, 'bagging_freq': 5, 'bagging_fraction': 0.6262684843706429}. Best is trial 32 with value: 0.14540191776657313.\n"
     ]
    },
    {
     "name": "stdout",
     "output_type": "stream",
     "text": [
      "Repeat \u001b[1m\u001b[34m#1\n",
      "Repeat \u001b[1m\u001b[34m#2\n",
      "Repeat \u001b[1m\u001b[34m#3\n",
      "Repeat \u001b[1m\u001b[34m#4\n",
      "Repeat \u001b[1m\u001b[34m#5\n"
     ]
    },
    {
     "name": "stderr",
     "output_type": "stream",
     "text": [
      "[I 2023-06-16 09:53:46,099] Trial 154 finished with value: 0.15684034985742473 and parameters: {'boosting_type': 'gbdt', 'learning_rate': 0.03880146377677779, 'lambda_l1': 1.3505975618767e-07, 'lambda_l2': 0.0004928517448924314, 'max_depth': 7, 'num_leaves': 113, 'feature_fraction': 0.5414483956699574, 'min_data_in_leaf': 5, 'max_bin': 143, 'bagging_freq': 4, 'bagging_fraction': 0.5882080298394451}. Best is trial 32 with value: 0.14540191776657313.\n"
     ]
    },
    {
     "name": "stdout",
     "output_type": "stream",
     "text": [
      "Repeat \u001b[1m\u001b[34m#1\n",
      "Repeat \u001b[1m\u001b[34m#2\n",
      "Repeat \u001b[1m\u001b[34m#3\n",
      "Repeat \u001b[1m\u001b[34m#4\n",
      "Repeat \u001b[1m\u001b[34m#5\n"
     ]
    },
    {
     "name": "stderr",
     "output_type": "stream",
     "text": [
      "[I 2023-06-16 09:53:49,168] Trial 155 finished with value: 0.16262336448846235 and parameters: {'boosting_type': 'gbdt', 'learning_rate': 0.04221373571792946, 'lambda_l1': 1.5232074293349624e-07, 'lambda_l2': 0.0010900530806007966, 'max_depth': 7, 'num_leaves': 110, 'feature_fraction': 0.5380655151103833, 'min_data_in_leaf': 8, 'max_bin': 174, 'bagging_freq': 3, 'bagging_fraction': 0.5902004486538612}. Best is trial 32 with value: 0.14540191776657313.\n"
     ]
    },
    {
     "name": "stdout",
     "output_type": "stream",
     "text": [
      "Repeat \u001b[1m\u001b[34m#1\n",
      "Repeat \u001b[1m\u001b[34m#2\n",
      "Repeat \u001b[1m\u001b[34m#3\n",
      "Repeat \u001b[1m\u001b[34m#4\n",
      "Repeat \u001b[1m\u001b[34m#5\n"
     ]
    },
    {
     "name": "stderr",
     "output_type": "stream",
     "text": [
      "[I 2023-06-16 09:53:50,987] Trial 156 finished with value: 0.16352655942881927 and parameters: {'boosting_type': 'gbdt', 'learning_rate': 0.14785458368661725, 'lambda_l1': 4.157036329192671e-07, 'lambda_l2': 0.0006117154747702297, 'max_depth': 7, 'num_leaves': 113, 'feature_fraction': 0.4959199151466437, 'min_data_in_leaf': 5, 'max_bin': 144, 'bagging_freq': 5, 'bagging_fraction': 0.5959464274160855}. Best is trial 32 with value: 0.14540191776657313.\n"
     ]
    },
    {
     "name": "stdout",
     "output_type": "stream",
     "text": [
      "Repeat \u001b[1m\u001b[34m#1\n",
      "Repeat \u001b[1m\u001b[34m#2\n",
      "Repeat \u001b[1m\u001b[34m#3\n"
     ]
    },
    {
     "name": "stderr",
     "output_type": "stream",
     "text": [
      "[I 2023-06-16 09:53:51,550] Trial 157 finished with value: 0.6973915667428459 and parameters: {'boosting_type': 'gbdt', 'learning_rate': 0.051701337485613105, 'lambda_l1': 3.556567077488112e-06, 'lambda_l2': 0.0017682967005181456, 'max_depth': 7, 'num_leaves': 106, 'feature_fraction': 0.5292065373008703, 'min_data_in_leaf': 61, 'max_bin': 61, 'bagging_freq': 4, 'bagging_fraction': 0.5762896440197446}. Best is trial 32 with value: 0.14540191776657313.\n"
     ]
    },
    {
     "name": "stdout",
     "output_type": "stream",
     "text": [
      "Repeat \u001b[1m\u001b[34m#4\n",
      "Repeat \u001b[1m\u001b[34m#5\n",
      "Repeat \u001b[1m\u001b[34m#1\n",
      "Repeat \u001b[1m\u001b[34m#2\n",
      "Repeat \u001b[1m\u001b[34m#3\n",
      "Repeat \u001b[1m\u001b[34m#4\n",
      "Repeat \u001b[1m\u001b[34m#5\n"
     ]
    },
    {
     "name": "stderr",
     "output_type": "stream",
     "text": [
      "[I 2023-06-16 09:53:55,227] Trial 158 finished with value: 0.1570931396591246 and parameters: {'boosting_type': 'gbdt', 'learning_rate': 0.03642540550668013, 'lambda_l1': 1.8523005041525635e-06, 'lambda_l2': 0.00022613041317475586, 'max_depth': 7, 'num_leaves': 100, 'feature_fraction': 0.5118770029579993, 'min_data_in_leaf': 9, 'max_bin': 133, 'bagging_freq': 3, 'bagging_fraction': 0.6147550464566962}. Best is trial 32 with value: 0.14540191776657313.\n"
     ]
    },
    {
     "name": "stdout",
     "output_type": "stream",
     "text": [
      "Repeat \u001b[1m\u001b[34m#1\n",
      "Repeat \u001b[1m\u001b[34m#2\n",
      "Repeat \u001b[1m\u001b[34m#3\n",
      "Repeat \u001b[1m\u001b[34m#4\n",
      "Repeat \u001b[1m\u001b[34m#5\n"
     ]
    },
    {
     "name": "stderr",
     "output_type": "stream",
     "text": [
      "[I 2023-06-16 09:54:04,625] Trial 159 finished with value: 0.1762533738688791 and parameters: {'boosting_type': 'gbdt', 'learning_rate': 0.007959491323430627, 'lambda_l1': 2.5922212816041055e-06, 'lambda_l2': 9.789619277672964e-05, 'max_depth': 4, 'num_leaves': 99, 'feature_fraction': 0.5098635342290961, 'min_data_in_leaf': 9, 'max_bin': 134, 'bagging_freq': 3, 'bagging_fraction': 0.6185882395205086}. Best is trial 32 with value: 0.14540191776657313.\n"
     ]
    },
    {
     "name": "stdout",
     "output_type": "stream",
     "text": [
      "Repeat \u001b[1m\u001b[34m#1\n",
      "Repeat \u001b[1m\u001b[34m#2\n",
      "Repeat \u001b[1m\u001b[34m#3\n",
      "Repeat \u001b[1m\u001b[34m#4\n",
      "Repeat \u001b[1m\u001b[34m#5\n"
     ]
    },
    {
     "name": "stderr",
     "output_type": "stream",
     "text": [
      "[I 2023-06-16 09:54:07,210] Trial 160 finished with value: 0.15737706492237297 and parameters: {'boosting_type': 'gbdt', 'learning_rate': 0.09613890293811922, 'lambda_l1': 1.7140049059863086e-06, 'lambda_l2': 6.461752789440651e-05, 'max_depth': 6, 'num_leaves': 102, 'feature_fraction': 0.48336642842878436, 'min_data_in_leaf': 7, 'max_bin': 118, 'bagging_freq': 3, 'bagging_fraction': 0.6140425647265909}. Best is trial 32 with value: 0.14540191776657313.\n"
     ]
    },
    {
     "name": "stdout",
     "output_type": "stream",
     "text": [
      "Repeat \u001b[1m\u001b[34m#1\n",
      "Repeat \u001b[1m\u001b[34m#2\n",
      "Repeat \u001b[1m\u001b[34m#3\n",
      "Repeat \u001b[1m\u001b[34m#4\n",
      "Repeat \u001b[1m\u001b[34m#5\n"
     ]
    },
    {
     "name": "stderr",
     "output_type": "stream",
     "text": [
      "[I 2023-06-16 09:54:09,544] Trial 161 finished with value: 0.16816101492521573 and parameters: {'boosting_type': 'gbdt', 'learning_rate': 0.10160796683126078, 'lambda_l1': 1.6734049851841275e-06, 'lambda_l2': 0.00018598277303362188, 'max_depth': 5, 'num_leaves': 101, 'feature_fraction': 0.4836364518438535, 'min_data_in_leaf': 7, 'max_bin': 129, 'bagging_freq': 3, 'bagging_fraction': 0.6127981832273232}. Best is trial 32 with value: 0.14540191776657313.\n"
     ]
    },
    {
     "name": "stdout",
     "output_type": "stream",
     "text": [
      "Repeat \u001b[1m\u001b[34m#1\n",
      "Repeat \u001b[1m\u001b[34m#2\n",
      "Repeat \u001b[1m\u001b[34m#3\n",
      "Repeat \u001b[1m\u001b[34m#4\n",
      "Repeat \u001b[1m\u001b[34m#5\n"
     ]
    },
    {
     "name": "stderr",
     "output_type": "stream",
     "text": [
      "[I 2023-06-16 09:54:11,750] Trial 162 finished with value: 0.15919241849689683 and parameters: {'boosting_type': 'gbdt', 'learning_rate': 0.13251648424354442, 'lambda_l1': 1.170359723219425e-06, 'lambda_l2': 6.79575198319884e-05, 'max_depth': 6, 'num_leaves': 94, 'feature_fraction': 0.47713443967002983, 'min_data_in_leaf': 10, 'max_bin': 116, 'bagging_freq': 3, 'bagging_fraction': 0.6043626622238286}. Best is trial 32 with value: 0.14540191776657313.\n"
     ]
    },
    {
     "name": "stdout",
     "output_type": "stream",
     "text": [
      "Repeat \u001b[1m\u001b[34m#1\n",
      "Repeat \u001b[1m\u001b[34m#2\n",
      "Repeat \u001b[1m\u001b[34m#3\n",
      "Repeat \u001b[1m\u001b[34m#4\n",
      "Repeat \u001b[1m\u001b[34m#5\n"
     ]
    },
    {
     "name": "stderr",
     "output_type": "stream",
     "text": [
      "[I 2023-06-16 09:54:14,066] Trial 163 finished with value: 0.17850309154920949 and parameters: {'boosting_type': 'gbdt', 'learning_rate': 0.16832999466460563, 'lambda_l1': 5.831885771498458e-06, 'lambda_l2': 0.0001243756317786928, 'max_depth': 6, 'num_leaves': 103, 'feature_fraction': 0.49364398967231243, 'min_data_in_leaf': 7, 'max_bin': 137, 'bagging_freq': 3, 'bagging_fraction': 0.6427873885653507}. Best is trial 32 with value: 0.14540191776657313.\n"
     ]
    },
    {
     "name": "stdout",
     "output_type": "stream",
     "text": [
      "Repeat \u001b[1m\u001b[34m#1\n",
      "Repeat \u001b[1m\u001b[34m#2\n",
      "Repeat \u001b[1m\u001b[34m#3\n",
      "Repeat \u001b[1m\u001b[34m#4\n",
      "Repeat \u001b[1m\u001b[34m#5\n"
     ]
    },
    {
     "name": "stderr",
     "output_type": "stream",
     "text": [
      "[I 2023-06-16 09:54:16,676] Trial 164 finished with value: 0.15950485952922358 and parameters: {'boosting_type': 'gbdt', 'learning_rate': 0.06662521115093184, 'lambda_l1': 2.161647655403442e-06, 'lambda_l2': 0.000298409577813957, 'max_depth': 6, 'num_leaves': 109, 'feature_fraction': 0.5018415857573025, 'min_data_in_leaf': 9, 'max_bin': 142, 'bagging_freq': 3, 'bagging_fraction': 0.5866102987565359}. Best is trial 32 with value: 0.14540191776657313.\n"
     ]
    },
    {
     "name": "stdout",
     "output_type": "stream",
     "text": [
      "Repeat \u001b[1m\u001b[34m#1\n",
      "Repeat \u001b[1m\u001b[34m#2\n",
      "Repeat \u001b[1m\u001b[34m#3\n",
      "Repeat \u001b[1m\u001b[34m#4\n",
      "Repeat \u001b[1m\u001b[34m#5\n"
     ]
    },
    {
     "name": "stderr",
     "output_type": "stream",
     "text": [
      "[I 2023-06-16 09:54:18,481] Trial 165 finished with value: 0.1655199973455708 and parameters: {'boosting_type': 'gbdt', 'learning_rate': 0.11047868237575348, 'lambda_l1': 1.0452314098120401e-05, 'lambda_l2': 5.914612551446483e-05, 'max_depth': 7, 'num_leaves': 98, 'feature_fraction': 0.5860965867850486, 'min_data_in_leaf': 12, 'max_bin': 123, 'bagging_freq': 3, 'bagging_fraction': 0.6291296285326917}. Best is trial 32 with value: 0.14540191776657313.\n"
     ]
    },
    {
     "name": "stdout",
     "output_type": "stream",
     "text": [
      "Repeat \u001b[1m\u001b[34m#1\n",
      "Repeat \u001b[1m\u001b[34m#2\n",
      "Repeat \u001b[1m\u001b[34m#3\n",
      "Repeat \u001b[1m\u001b[34m#4\n",
      "Repeat \u001b[1m\u001b[34m#5\n"
     ]
    },
    {
     "name": "stderr",
     "output_type": "stream",
     "text": [
      "[I 2023-06-16 09:54:21,491] Trial 166 finished with value: 0.16216451870979567 and parameters: {'boosting_type': 'gbdt', 'learning_rate': 0.08432889624451886, 'lambda_l1': 7.755069574819896e-07, 'lambda_l2': 4.617871656654955e-05, 'max_depth': 5, 'num_leaves': 89, 'feature_fraction': 0.5133864098272701, 'min_data_in_leaf': 5, 'max_bin': 108, 'bagging_freq': 3, 'bagging_fraction': 0.6000121751180268}. Best is trial 32 with value: 0.14540191776657313.\n"
     ]
    },
    {
     "name": "stdout",
     "output_type": "stream",
     "text": [
      "Repeat \u001b[1m\u001b[34m#1\n",
      "Repeat \u001b[1m\u001b[34m#2\n",
      "Repeat \u001b[1m\u001b[34m#3\n",
      "Repeat \u001b[1m\u001b[34m#4\n",
      "Repeat \u001b[1m\u001b[34m#5\n"
     ]
    },
    {
     "name": "stderr",
     "output_type": "stream",
     "text": [
      "[I 2023-06-16 09:54:52,651] Trial 167 finished with value: 0.17593335371908864 and parameters: {'boosting_type': 'dart', 'learning_rate': 0.02684380656953563, 'lambda_l1': 3.3355597934894796e-06, 'lambda_l2': 0.00017067167709389707, 'max_depth': 10, 'num_leaves': 96, 'feature_fraction': 0.4726227463941688, 'min_data_in_leaf': 7, 'max_bin': 131, 'bagging_freq': 3, 'bagging_fraction': 0.6131433314511068}. Best is trial 32 with value: 0.14540191776657313.\n"
     ]
    },
    {
     "name": "stdout",
     "output_type": "stream",
     "text": [
      "Repeat \u001b[1m\u001b[34m#1\n",
      "Repeat \u001b[1m\u001b[34m#2\n",
      "Repeat \u001b[1m\u001b[34m#3\n",
      "Repeat \u001b[1m\u001b[34m#4\n",
      "Repeat \u001b[1m\u001b[34m#5\n"
     ]
    },
    {
     "name": "stderr",
     "output_type": "stream",
     "text": [
      "[I 2023-06-16 09:54:56,547] Trial 168 finished with value: 0.1542838094163011 and parameters: {'boosting_type': 'gbdt', 'learning_rate': 0.03398765125851758, 'lambda_l1': 6.144552660062851e-07, 'lambda_l2': 0.001068353743033511, 'max_depth': 7, 'num_leaves': 103, 'feature_fraction': 0.4875825355055139, 'min_data_in_leaf': 9, 'max_bin': 141, 'bagging_freq': 3, 'bagging_fraction': 0.5841727919713782}. Best is trial 32 with value: 0.14540191776657313.\n"
     ]
    },
    {
     "name": "stdout",
     "output_type": "stream",
     "text": [
      "Repeat \u001b[1m\u001b[34m#1\n",
      "Repeat \u001b[1m\u001b[34m#2\n",
      "Repeat \u001b[1m\u001b[34m#3\n",
      "Repeat \u001b[1m\u001b[34m#4\n",
      "Repeat \u001b[1m\u001b[34m#5\n"
     ]
    },
    {
     "name": "stderr",
     "output_type": "stream",
     "text": [
      "[I 2023-06-16 09:54:59,863] Trial 169 finished with value: 0.16570095838264862 and parameters: {'boosting_type': 'gbdt', 'learning_rate': 0.035669015084872614, 'lambda_l1': 7.356653453185905e-07, 'lambda_l2': 0.003201829255914817, 'max_depth': 7, 'num_leaves': 114, 'feature_fraction': 0.5333478228343452, 'min_data_in_leaf': 11, 'max_bin': 126, 'bagging_freq': 3, 'bagging_fraction': 0.5834077058723615}. Best is trial 32 with value: 0.14540191776657313.\n"
     ]
    },
    {
     "name": "stdout",
     "output_type": "stream",
     "text": [
      "Repeat \u001b[1m\u001b[34m#1\n",
      "Repeat \u001b[1m\u001b[34m#2\n",
      "Repeat \u001b[1m\u001b[34m#3\n",
      "Repeat \u001b[1m\u001b[34m#4\n",
      "Repeat \u001b[1m\u001b[34m#5\n"
     ]
    },
    {
     "name": "stderr",
     "output_type": "stream",
     "text": [
      "[I 2023-06-16 09:55:06,797] Trial 170 finished with value: 0.16715189728717034 and parameters: {'boosting_type': 'gbdt', 'learning_rate': 0.018374532699886925, 'lambda_l1': 2.0210910767998247e-06, 'lambda_l2': 0.0010522273955348952, 'max_depth': 6, 'num_leaves': 103, 'feature_fraction': 0.4849425063867925, 'min_data_in_leaf': 9, 'max_bin': 149, 'bagging_freq': 3, 'bagging_fraction': 0.5928964573299149}. Best is trial 32 with value: 0.14540191776657313.\n"
     ]
    },
    {
     "name": "stdout",
     "output_type": "stream",
     "text": [
      "Repeat \u001b[1m\u001b[34m#1\n",
      "Repeat \u001b[1m\u001b[34m#2\n",
      "Repeat \u001b[1m\u001b[34m#3\n",
      "Repeat \u001b[1m\u001b[34m#4\n",
      "Repeat \u001b[1m\u001b[34m#5\n"
     ]
    },
    {
     "name": "stderr",
     "output_type": "stream",
     "text": [
      "[I 2023-06-16 09:55:11,976] Trial 171 finished with value: 0.1623441903222622 and parameters: {'boosting_type': 'gbdt', 'learning_rate': 0.03136952810499004, 'lambda_l1': 1.1646489771164485e-06, 'lambda_l2': 0.0004951954384046243, 'max_depth': 7, 'num_leaves': 100, 'feature_fraction': 0.4966465673982894, 'min_data_in_leaf': 7, 'max_bin': 118, 'bagging_freq': 3, 'bagging_fraction': 0.604065396297988}. Best is trial 32 with value: 0.14540191776657313.\n"
     ]
    },
    {
     "name": "stdout",
     "output_type": "stream",
     "text": [
      "Repeat \u001b[1m\u001b[34m#1\n",
      "Repeat \u001b[1m\u001b[34m#2\n",
      "Repeat \u001b[1m\u001b[34m#3\n",
      "Repeat \u001b[1m\u001b[34m#4\n",
      "Repeat \u001b[1m\u001b[34m#5\n"
     ]
    },
    {
     "name": "stderr",
     "output_type": "stream",
     "text": [
      "[I 2023-06-16 09:55:15,893] Trial 172 finished with value: 0.15693153456793568 and parameters: {'boosting_type': 'gbdt', 'learning_rate': 0.04265045572112138, 'lambda_l1': 5.390808834049908e-07, 'lambda_l2': 0.0008553621662612982, 'max_depth': 7, 'num_leaves': 106, 'feature_fraction': 0.48957801369587517, 'min_data_in_leaf': 5, 'max_bin': 139, 'bagging_freq': 3, 'bagging_fraction': 0.5795480291116818}. Best is trial 32 with value: 0.14540191776657313.\n"
     ]
    },
    {
     "name": "stdout",
     "output_type": "stream",
     "text": [
      "Repeat \u001b[1m\u001b[34m#1\n",
      "Repeat \u001b[1m\u001b[34m#2\n",
      "Repeat \u001b[1m\u001b[34m#3\n",
      "Repeat \u001b[1m\u001b[34m#4\n",
      "Repeat \u001b[1m\u001b[34m#5\n"
     ]
    },
    {
     "name": "stderr",
     "output_type": "stream",
     "text": [
      "[I 2023-06-16 09:55:19,234] Trial 173 finished with value: 0.156793816315247 and parameters: {'boosting_type': 'gbdt', 'learning_rate': 0.04097963405354482, 'lambda_l1': 4.846654712898951e-07, 'lambda_l2': 0.0013560857898482757, 'max_depth': 7, 'num_leaves': 108, 'feature_fraction': 0.4784118926776211, 'min_data_in_leaf': 8, 'max_bin': 146, 'bagging_freq': 3, 'bagging_fraction': 0.570234160317259}. Best is trial 32 with value: 0.14540191776657313.\n"
     ]
    },
    {
     "name": "stdout",
     "output_type": "stream",
     "text": [
      "Repeat \u001b[1m\u001b[34m#1\n",
      "Repeat \u001b[1m\u001b[34m#2\n",
      "Repeat \u001b[1m\u001b[34m#3\n",
      "Repeat \u001b[1m\u001b[34m#4\n",
      "Repeat \u001b[1m\u001b[34m#5\n"
     ]
    },
    {
     "name": "stderr",
     "output_type": "stream",
     "text": [
      "[I 2023-06-16 09:55:22,683] Trial 174 finished with value: 0.1592779185798485 and parameters: {'boosting_type': 'gbdt', 'learning_rate': 0.04109417552222232, 'lambda_l1': 5.28071197643956e-07, 'lambda_l2': 0.0008271790448604508, 'max_depth': 7, 'num_leaves': 110, 'feature_fraction': 0.4665490312522735, 'min_data_in_leaf': 8, 'max_bin': 140, 'bagging_freq': 3, 'bagging_fraction': 0.5725634142817455}. Best is trial 32 with value: 0.14540191776657313.\n"
     ]
    },
    {
     "name": "stdout",
     "output_type": "stream",
     "text": [
      "Repeat \u001b[1m\u001b[34m#1\n",
      "Repeat \u001b[1m\u001b[34m#2\n",
      "Repeat \u001b[1m\u001b[34m#3\n",
      "Repeat \u001b[1m\u001b[34m#4\n",
      "Repeat \u001b[1m\u001b[34m#5\n"
     ]
    },
    {
     "name": "stderr",
     "output_type": "stream",
     "text": [
      "[I 2023-06-16 09:55:25,585] Trial 175 finished with value: 0.16022949336621053 and parameters: {'boosting_type': 'gbdt', 'learning_rate': 0.04926476658142652, 'lambda_l1': 1.4912850707993122e-06, 'lambda_l2': 0.0012824064885592302, 'max_depth': 7, 'num_leaves': 108, 'feature_fraction': 0.47716159126039087, 'min_data_in_leaf': 13, 'max_bin': 146, 'bagging_freq': 3, 'bagging_fraction': 0.5806867219908838}. Best is trial 32 with value: 0.14540191776657313.\n"
     ]
    },
    {
     "name": "stdout",
     "output_type": "stream",
     "text": [
      "Repeat \u001b[1m\u001b[34m#1\n",
      "Repeat \u001b[1m\u001b[34m#2\n",
      "Repeat \u001b[1m\u001b[34m#3\n",
      "Repeat \u001b[1m\u001b[34m#4\n",
      "Repeat \u001b[1m\u001b[34m#5\n"
     ]
    },
    {
     "name": "stderr",
     "output_type": "stream",
     "text": [
      "[I 2023-06-16 09:55:30,080] Trial 176 finished with value: 0.1650788542952662 and parameters: {'boosting_type': 'gbdt', 'learning_rate': 0.025718794600912233, 'lambda_l1': 2.0442366075630043e-07, 'lambda_l2': 0.0007983772886430341, 'max_depth': 7, 'num_leaves': 106, 'feature_fraction': 0.4851696590893859, 'min_data_in_leaf': 9, 'max_bin': 138, 'bagging_freq': 3, 'bagging_fraction': 0.5683725782293996}. Best is trial 32 with value: 0.14540191776657313.\n"
     ]
    },
    {
     "name": "stdout",
     "output_type": "stream",
     "text": [
      "Repeat \u001b[1m\u001b[34m#1\n",
      "Repeat \u001b[1m\u001b[34m#2\n",
      "Repeat \u001b[1m\u001b[34m#3\n",
      "Repeat \u001b[1m\u001b[34m#4\n",
      "Repeat \u001b[1m\u001b[34m#5\n"
     ]
    },
    {
     "name": "stderr",
     "output_type": "stream",
     "text": [
      "[I 2023-06-16 09:55:34,466] Trial 177 finished with value: 0.15985081681321475 and parameters: {'boosting_type': 'gbdt', 'learning_rate': 0.034077065730493024, 'lambda_l1': 0.0005409110301604058, 'lambda_l2': 0.004151067366221299, 'max_depth': 10, 'num_leaves': 112, 'feature_fraction': 0.47153859523428815, 'min_data_in_leaf': 7, 'max_bin': 136, 'bagging_freq': 3, 'bagging_fraction': 0.5858805328361009}. Best is trial 32 with value: 0.14540191776657313.\n"
     ]
    },
    {
     "name": "stdout",
     "output_type": "stream",
     "text": [
      "Repeat \u001b[1m\u001b[34m#1\n",
      "Repeat \u001b[1m\u001b[34m#2\n",
      "Repeat \u001b[1m\u001b[34m#3\n",
      "Repeat \u001b[1m\u001b[34m#4\n",
      "Repeat \u001b[1m\u001b[34m#5\n"
     ]
    },
    {
     "name": "stderr",
     "output_type": "stream",
     "text": [
      "[I 2023-06-16 09:55:38,147] Trial 178 finished with value: 0.16386025738492122 and parameters: {'boosting_type': 'gbdt', 'learning_rate': 0.040982812383784394, 'lambda_l1': 3.0232101311685203e-06, 'lambda_l2': 0.0024140520543547424, 'max_depth': 7, 'num_leaves': 117, 'feature_fraction': 0.5207142225396663, 'min_data_in_leaf': 11, 'max_bin': 111, 'bagging_freq': 3, 'bagging_fraction': 0.5605879638607792}. Best is trial 32 with value: 0.14540191776657313.\n"
     ]
    },
    {
     "name": "stdout",
     "output_type": "stream",
     "text": [
      "Repeat \u001b[1m\u001b[34m#1\n",
      "Repeat \u001b[1m\u001b[34m#2\n",
      "Repeat \u001b[1m\u001b[34m#3\n",
      "Repeat \u001b[1m\u001b[34m#4\n",
      "Repeat \u001b[1m\u001b[34m#5\n"
     ]
    },
    {
     "name": "stderr",
     "output_type": "stream",
     "text": [
      "[I 2023-06-16 09:55:42,560] Trial 179 finished with value: 0.1599034377856935 and parameters: {'boosting_type': 'goss', 'learning_rate': 0.029831469244596186, 'lambda_l1': 1.1383059924170425e-06, 'lambda_l2': 0.00029001087394815874, 'max_depth': 7, 'num_leaves': 108, 'feature_fraction': 0.45758645864809083, 'min_data_in_leaf': 7, 'max_bin': 149, 'bagging_freq': 3}. Best is trial 32 with value: 0.14540191776657313.\n"
     ]
    },
    {
     "name": "stdout",
     "output_type": "stream",
     "text": [
      "Repeat \u001b[1m\u001b[34m#1\n",
      "Repeat \u001b[1m\u001b[34m#2\n",
      "Repeat \u001b[1m\u001b[34m#3\n",
      "Repeat \u001b[1m\u001b[34m#4\n",
      "Repeat \u001b[1m\u001b[34m#5\n"
     ]
    },
    {
     "name": "stderr",
     "output_type": "stream",
     "text": [
      "[I 2023-06-16 09:55:46,002] Trial 180 finished with value: 0.1600533411608815 and parameters: {'boosting_type': 'gbdt', 'learning_rate': 0.05253985534528085, 'lambda_l1': 6.413715527365562e-06, 'lambda_l2': 0.001556839097816774, 'max_depth': 7, 'num_leaves': 101, 'feature_fraction': 0.561443617697962, 'min_data_in_leaf': 5, 'max_bin': 127, 'bagging_freq': 3, 'bagging_fraction': 0.5778162009353208}. Best is trial 32 with value: 0.14540191776657313.\n"
     ]
    },
    {
     "name": "stdout",
     "output_type": "stream",
     "text": [
      "Repeat \u001b[1m\u001b[34m#1\n",
      "Repeat \u001b[1m\u001b[34m#2\n",
      "Repeat \u001b[1m\u001b[34m#3\n",
      "Repeat \u001b[1m\u001b[34m#4\n",
      "Repeat \u001b[1m\u001b[34m#5\n"
     ]
    },
    {
     "name": "stderr",
     "output_type": "stream",
     "text": [
      "[I 2023-06-16 09:55:50,287] Trial 181 finished with value: 0.16330050891706566 and parameters: {'boosting_type': 'gbdt', 'learning_rate': 0.038308415937107335, 'lambda_l1': 5.924038043805486e-07, 'lambda_l2': 0.001716076050540745, 'max_depth': 7, 'num_leaves': 105, 'feature_fraction': 0.48870016867087734, 'min_data_in_leaf': 5, 'max_bin': 142, 'bagging_freq': 3, 'bagging_fraction': 0.5934712672664896}. Best is trial 32 with value: 0.14540191776657313.\n"
     ]
    },
    {
     "name": "stdout",
     "output_type": "stream",
     "text": [
      "Repeat \u001b[1m\u001b[34m#1\n",
      "Repeat \u001b[1m\u001b[34m#2\n",
      "Repeat \u001b[1m\u001b[34m#3\n",
      "Repeat \u001b[1m\u001b[34m#4\n",
      "Repeat \u001b[1m\u001b[34m#5\n"
     ]
    },
    {
     "name": "stderr",
     "output_type": "stream",
     "text": [
      "[I 2023-06-16 09:55:52,143] Trial 182 finished with value: 0.16474471853909411 and parameters: {'boosting_type': 'gbdt', 'learning_rate': 0.12865538381382316, 'lambda_l1': 8.781588695701304e-07, 'lambda_l2': 0.0005681720506468975, 'max_depth': 7, 'num_leaves': 103, 'feature_fraction': 0.5065531224063435, 'min_data_in_leaf': 9, 'max_bin': 123, 'bagging_freq': 3, 'bagging_fraction': 0.5716432427190034}. Best is trial 32 with value: 0.14540191776657313.\n"
     ]
    },
    {
     "name": "stdout",
     "output_type": "stream",
     "text": [
      "Repeat \u001b[1m\u001b[34m#1\n",
      "Repeat \u001b[1m\u001b[34m#2\n",
      "Repeat \u001b[1m\u001b[34m#3\n",
      "Repeat \u001b[1m\u001b[34m#4\n",
      "Repeat \u001b[1m\u001b[34m#5\n"
     ]
    },
    {
     "name": "stderr",
     "output_type": "stream",
     "text": [
      "[I 2023-06-16 09:55:58,471] Trial 183 finished with value: 0.15867990193727616 and parameters: {'boosting_type': 'gbdt', 'learning_rate': 0.022287890977139888, 'lambda_l1': 3.3290665546413067e-07, 'lambda_l2': 0.00099292767302881, 'max_depth': 7, 'num_leaves': 110, 'feature_fraction': 0.48179320109639656, 'min_data_in_leaf': 5, 'max_bin': 134, 'bagging_freq': 3, 'bagging_fraction': 0.5913278486822264}. Best is trial 32 with value: 0.14540191776657313.\n"
     ]
    },
    {
     "name": "stdout",
     "output_type": "stream",
     "text": [
      "Repeat \u001b[1m\u001b[34m#1\n",
      "Repeat \u001b[1m\u001b[34m#2\n",
      "Repeat \u001b[1m\u001b[34m#3\n",
      "Repeat \u001b[1m\u001b[34m#4\n",
      "Repeat \u001b[1m\u001b[34m#5\n"
     ]
    },
    {
     "name": "stderr",
     "output_type": "stream",
     "text": [
      "[I 2023-06-16 09:55:59,117] Trial 184 finished with value: 0.6973915667428459 and parameters: {'boosting_type': 'gbdt', 'learning_rate': 0.18756940350464676, 'lambda_l1': 1.8917918220835132e-06, 'lambda_l2': 0.0012648743081492965, 'max_depth': 7, 'num_leaves': 105, 'feature_fraction': 0.5959263980143719, 'min_data_in_leaf': 97, 'max_bin': 217, 'bagging_freq': 3, 'bagging_fraction': 0.5841483385190492}. Best is trial 32 with value: 0.14540191776657313.\n"
     ]
    },
    {
     "name": "stdout",
     "output_type": "stream",
     "text": [
      "Repeat \u001b[1m\u001b[34m#1\n",
      "Repeat \u001b[1m\u001b[34m#2\n",
      "Repeat \u001b[1m\u001b[34m#3\n",
      "Repeat \u001b[1m\u001b[34m#4\n",
      "Repeat \u001b[1m\u001b[34m#5\n"
     ]
    },
    {
     "name": "stderr",
     "output_type": "stream",
     "text": [
      "[I 2023-06-16 09:56:03,298] Trial 185 finished with value: 0.15512900044980282 and parameters: {'boosting_type': 'gbdt', 'learning_rate': 0.04603276751432592, 'lambda_l1': 5.905918505299442e-07, 'lambda_l2': 3.176873706052523e-05, 'max_depth': 7, 'num_leaves': 115, 'feature_fraction': 0.5394518658123177, 'min_data_in_leaf': 7, 'max_bin': 131, 'bagging_freq': 3, 'bagging_fraction': 0.5674663229031699}. Best is trial 32 with value: 0.14540191776657313.\n"
     ]
    },
    {
     "name": "stdout",
     "output_type": "stream",
     "text": [
      "Repeat \u001b[1m\u001b[34m#1\n",
      "Repeat \u001b[1m\u001b[34m#2\n",
      "Repeat \u001b[1m\u001b[34m#3\n",
      "Repeat \u001b[1m\u001b[34m#4\n",
      "Repeat \u001b[1m\u001b[34m#5\n"
     ]
    },
    {
     "name": "stderr",
     "output_type": "stream",
     "text": [
      "[I 2023-06-16 09:56:06,741] Trial 186 finished with value: 0.4576522502417717 and parameters: {'boosting_type': 'gbdt', 'learning_rate': 0.04612593328954541, 'lambda_l1': 2.558423317130901e-07, 'lambda_l2': 2.2992962618723085e-05, 'max_depth': 7, 'num_leaves': 113, 'feature_fraction': 0.5438067630854203, 'min_data_in_leaf': 55, 'max_bin': 131, 'bagging_freq': 3, 'bagging_fraction': 0.5685840123437381}. Best is trial 32 with value: 0.14540191776657313.\n"
     ]
    },
    {
     "name": "stdout",
     "output_type": "stream",
     "text": [
      "Repeat \u001b[1m\u001b[34m#1\n",
      "Repeat \u001b[1m\u001b[34m#2\n",
      "Repeat \u001b[1m\u001b[34m#3\n",
      "Repeat \u001b[1m\u001b[34m#4\n",
      "Repeat \u001b[1m\u001b[34m#5\n"
     ]
    },
    {
     "name": "stderr",
     "output_type": "stream",
     "text": [
      "[I 2023-06-16 09:56:09,514] Trial 187 finished with value: 0.16948255723312525 and parameters: {'boosting_type': 'gbdt', 'learning_rate': 0.06002421153951684, 'lambda_l1': 4.686372314408397e-07, 'lambda_l2': 1.29162850140753e-05, 'max_depth': 7, 'num_leaves': 118, 'feature_fraction': 0.5291868407284683, 'min_data_in_leaf': 7, 'max_bin': 141, 'bagging_freq': 4, 'bagging_fraction': 0.5609705648870934}. Best is trial 32 with value: 0.14540191776657313.\n"
     ]
    },
    {
     "name": "stdout",
     "output_type": "stream",
     "text": [
      "Repeat \u001b[1m\u001b[34m#1\n",
      "Repeat \u001b[1m\u001b[34m#2\n",
      "Repeat \u001b[1m\u001b[34m#3\n",
      "Repeat \u001b[1m\u001b[34m#4\n",
      "Repeat \u001b[1m\u001b[34m#5\n"
     ]
    },
    {
     "name": "stderr",
     "output_type": "stream",
     "text": [
      "[I 2023-06-16 09:56:13,356] Trial 188 finished with value: 0.16703058040296423 and parameters: {'boosting_type': 'gbdt', 'learning_rate': 0.03521743616433228, 'lambda_l1': 1.2637601409877026e-06, 'lambda_l2': 3.358198937656089e-05, 'max_depth': 7, 'num_leaves': 115, 'feature_fraction': 0.554468842929815, 'min_data_in_leaf': 10, 'max_bin': 208, 'bagging_freq': 3, 'bagging_fraction': 0.576637112280607}. Best is trial 32 with value: 0.14540191776657313.\n"
     ]
    },
    {
     "name": "stdout",
     "output_type": "stream",
     "text": [
      "Repeat \u001b[1m\u001b[34m#1\n",
      "Repeat \u001b[1m\u001b[34m#2\n",
      "Repeat \u001b[1m\u001b[34m#3\n",
      "Repeat \u001b[1m\u001b[34m#4\n",
      "Repeat \u001b[1m\u001b[34m#5\n"
     ]
    },
    {
     "name": "stderr",
     "output_type": "stream",
     "text": [
      "[I 2023-06-16 09:56:17,031] Trial 189 finished with value: 0.15989746568710136 and parameters: {'boosting_type': 'gbdt', 'learning_rate': 0.046472497600987484, 'lambda_l1': 3.833455168978331e-06, 'lambda_l2': 0.0006879533329736816, 'max_depth': 7, 'num_leaves': 111, 'feature_fraction': 0.5388927326868255, 'min_data_in_leaf': 8, 'max_bin': 226, 'bagging_freq': 3, 'bagging_fraction': 0.5561849073617541}. Best is trial 32 with value: 0.14540191776657313.\n"
     ]
    },
    {
     "name": "stdout",
     "output_type": "stream",
     "text": [
      "Repeat \u001b[1m\u001b[34m#1\n",
      "Repeat \u001b[1m\u001b[34m#2\n",
      "Repeat \u001b[1m\u001b[34m#3\n",
      "Repeat \u001b[1m\u001b[34m#4\n",
      "Repeat \u001b[1m\u001b[34m#5\n"
     ]
    },
    {
     "name": "stderr",
     "output_type": "stream",
     "text": [
      "[I 2023-06-16 09:56:22,975] Trial 190 finished with value: 0.1769031825072594 and parameters: {'boosting_type': 'gbdt', 'learning_rate': 0.028241553779369086, 'lambda_l1': 2.1976760418066743e-06, 'lambda_l2': 1.5586238449878118, 'max_depth': 10, 'num_leaves': 120, 'feature_fraction': 0.5179523888942612, 'min_data_in_leaf': 12, 'max_bin': 145, 'bagging_freq': 4, 'bagging_fraction': 0.6505341877767057}. Best is trial 32 with value: 0.14540191776657313.\n"
     ]
    },
    {
     "name": "stdout",
     "output_type": "stream",
     "text": [
      "Repeat \u001b[1m\u001b[34m#1\n",
      "Repeat \u001b[1m\u001b[34m#2\n",
      "Repeat \u001b[1m\u001b[34m#3\n",
      "Repeat \u001b[1m\u001b[34m#4\n",
      "Repeat \u001b[1m\u001b[34m#5\n"
     ]
    },
    {
     "name": "stderr",
     "output_type": "stream",
     "text": [
      "[I 2023-06-16 09:56:27,539] Trial 191 finished with value: 0.15948901028510903 and parameters: {'boosting_type': 'gbdt', 'learning_rate': 0.03219665981157707, 'lambda_l1': 5.247838325392979e-07, 'lambda_l2': 0.0021659328627727016, 'max_depth': 7, 'num_leaves': 108, 'feature_fraction': 0.506094324829967, 'min_data_in_leaf': 5, 'max_bin': 134, 'bagging_freq': 3, 'bagging_fraction': 0.5975591790772352}. Best is trial 32 with value: 0.14540191776657313.\n"
     ]
    },
    {
     "name": "stdout",
     "output_type": "stream",
     "text": [
      "Repeat \u001b[1m\u001b[34m#1\n",
      "Repeat \u001b[1m\u001b[34m#2\n",
      "Repeat \u001b[1m\u001b[34m#3\n",
      "Repeat \u001b[1m\u001b[34m#4\n",
      "Repeat \u001b[1m\u001b[34m#5\n"
     ]
    },
    {
     "name": "stderr",
     "output_type": "stream",
     "text": [
      "[I 2023-06-16 09:56:31,056] Trial 192 finished with value: 0.16237055057135805 and parameters: {'boosting_type': 'gbdt', 'learning_rate': 0.0399756441998137, 'lambda_l1': 8.738075371010592e-07, 'lambda_l2': 0.007047377007211956, 'max_depth': 7, 'num_leaves': 101, 'feature_fraction': 0.527163566176977, 'min_data_in_leaf': 7, 'max_bin': 120, 'bagging_freq': 3, 'bagging_fraction': 0.6087052883050302}. Best is trial 32 with value: 0.14540191776657313.\n"
     ]
    },
    {
     "name": "stdout",
     "output_type": "stream",
     "text": [
      "Repeat \u001b[1m\u001b[34m#1\n",
      "Repeat \u001b[1m\u001b[34m#2\n",
      "Repeat \u001b[1m\u001b[34m#3\n",
      "Repeat \u001b[1m\u001b[34m#4\n",
      "Repeat \u001b[1m\u001b[34m#5\n"
     ]
    },
    {
     "name": "stderr",
     "output_type": "stream",
     "text": [
      "[I 2023-06-16 09:56:33,343] Trial 193 finished with value: 0.15866810855892918 and parameters: {'boosting_type': 'gbdt', 'learning_rate': 0.10087023065110735, 'lambda_l1': 6.296828193790912e-07, 'lambda_l2': 0.00045736906583946176, 'max_depth': 7, 'num_leaves': 105, 'feature_fraction': 0.5700747756292129, 'min_data_in_leaf': 5, 'max_bin': 156, 'bagging_freq': 3, 'bagging_fraction': 0.5835050955637514}. Best is trial 32 with value: 0.14540191776657313.\n"
     ]
    },
    {
     "name": "stdout",
     "output_type": "stream",
     "text": [
      "Repeat \u001b[1m\u001b[34m#1\n",
      "Repeat \u001b[1m\u001b[34m#2\n",
      "Repeat \u001b[1m\u001b[34m#3\n",
      "Repeat \u001b[1m\u001b[34m#4\n",
      "Repeat \u001b[1m\u001b[34m#5\n"
     ]
    },
    {
     "name": "stderr",
     "output_type": "stream",
     "text": [
      "[I 2023-06-16 09:56:35,203] Trial 194 finished with value: 0.16226374875245445 and parameters: {'boosting_type': 'gbdt', 'learning_rate': 0.14568919520971516, 'lambda_l1': 1.7004931808239918e-06, 'lambda_l2': 0.0008171715825147879, 'max_depth': 7, 'num_leaves': 115, 'feature_fraction': 0.4931035516259369, 'min_data_in_leaf': 7, 'max_bin': 194, 'bagging_freq': 3, 'bagging_fraction': 0.5667064578803378}. Best is trial 32 with value: 0.14540191776657313.\n"
     ]
    },
    {
     "name": "stdout",
     "output_type": "stream",
     "text": [
      "Repeat \u001b[1m\u001b[34m#1\n",
      "Repeat \u001b[1m\u001b[34m#2\n",
      "Repeat \u001b[1m\u001b[34m#3\n",
      "Repeat \u001b[1m\u001b[34m#4\n",
      "Repeat \u001b[1m\u001b[34m#5\n"
     ]
    },
    {
     "name": "stderr",
     "output_type": "stream",
     "text": [
      "[I 2023-06-16 09:56:38,522] Trial 195 finished with value: 0.1654572293887114 and parameters: {'boosting_type': 'gbdt', 'learning_rate': 0.05602354115835437, 'lambda_l1': 9.51042708139193e-05, 'lambda_l2': 0.27212650618729545, 'max_depth': 7, 'num_leaves': 107, 'feature_fraction': 0.5364927561204591, 'min_data_in_leaf': 9, 'max_bin': 152, 'bagging_freq': 3, 'bagging_fraction': 0.598638257945841}. Best is trial 32 with value: 0.14540191776657313.\n"
     ]
    },
    {
     "name": "stdout",
     "output_type": "stream",
     "text": [
      "Repeat \u001b[1m\u001b[34m#1\n",
      "Repeat \u001b[1m\u001b[34m#2\n",
      "Repeat \u001b[1m\u001b[34m#3\n",
      "Repeat \u001b[1m\u001b[34m#4\n",
      "Repeat \u001b[1m\u001b[34m#5\n"
     ]
    },
    {
     "name": "stderr",
     "output_type": "stream",
     "text": [
      "[I 2023-06-16 09:56:43,329] Trial 196 finished with value: 0.16008632983374285 and parameters: {'boosting_type': 'gbdt', 'learning_rate': 0.024484756093009503, 'lambda_l1': 8.957174039904465e-07, 'lambda_l2': 0.002963915288816495, 'max_depth': 7, 'num_leaves': 112, 'feature_fraction': 0.5168262540220994, 'min_data_in_leaf': 6, 'max_bin': 201, 'bagging_freq': 3, 'bagging_fraction': 0.5888489367890695}. Best is trial 32 with value: 0.14540191776657313.\n"
     ]
    },
    {
     "name": "stdout",
     "output_type": "stream",
     "text": [
      "Repeat \u001b[1m\u001b[34m#1\n",
      "Repeat \u001b[1m\u001b[34m#2\n",
      "Repeat \u001b[1m\u001b[34m#3\n",
      "Repeat \u001b[1m\u001b[34m#4\n",
      "Repeat \u001b[1m\u001b[34m#5\n"
     ]
    },
    {
     "name": "stderr",
     "output_type": "stream",
     "text": [
      "[I 2023-06-16 09:56:46,519] Trial 197 finished with value: 0.16653367136319389 and parameters: {'boosting_type': 'gbdt', 'learning_rate': 0.045814390718431824, 'lambda_l1': 2.190238303687676e-07, 'lambda_l2': 0.001493921665572421, 'max_depth': 7, 'num_leaves': 93, 'feature_fraction': 0.5483228940767128, 'min_data_in_leaf': 10, 'max_bin': 138, 'bagging_freq': 3, 'bagging_fraction': 0.5779833757390658}. Best is trial 32 with value: 0.14540191776657313.\n"
     ]
    },
    {
     "name": "stdout",
     "output_type": "stream",
     "text": [
      "Repeat \u001b[1m\u001b[34m#1\n",
      "Repeat \u001b[1m\u001b[34m#2\n",
      "Repeat \u001b[1m\u001b[34m#3\n",
      "Repeat \u001b[1m\u001b[34m#4\n",
      "Repeat \u001b[1m\u001b[34m#5\n"
     ]
    },
    {
     "name": "stderr",
     "output_type": "stream",
     "text": [
      "[I 2023-06-16 09:57:03,633] Trial 198 finished with value: 0.21044896911122932 and parameters: {'boosting_type': 'gbdt', 'learning_rate': 0.003364764629233115, 'lambda_l1': 4.437212078084935e-08, 'lambda_l2': 0.0001006569588418023, 'max_depth': 7, 'num_leaves': 96, 'feature_fraction': 0.5021322199743381, 'min_data_in_leaf': 5, 'max_bin': 181, 'bagging_freq': 4, 'bagging_fraction': 0.6578169832744308}. Best is trial 32 with value: 0.14540191776657313.\n"
     ]
    },
    {
     "name": "stdout",
     "output_type": "stream",
     "text": [
      "Repeat \u001b[1m\u001b[34m#1\n",
      "Repeat \u001b[1m\u001b[34m#2\n",
      "Repeat \u001b[1m\u001b[34m#3\n",
      "Repeat \u001b[1m\u001b[34m#4\n",
      "Repeat \u001b[1m\u001b[34m#5\n"
     ]
    },
    {
     "name": "stderr",
     "output_type": "stream",
     "text": [
      "[I 2023-06-16 09:57:07,841] Trial 199 finished with value: 0.6973915667428459 and parameters: {'boosting_type': 'dart', 'learning_rate': 0.12474928482469769, 'lambda_l1': 3.9221754240322096e-07, 'lambda_l2': 0.00046767538216358775, 'max_depth': 7, 'num_leaves': 99, 'feature_fraction': 0.5254189839848106, 'min_data_in_leaf': 89, 'max_bin': 128, 'bagging_freq': 2, 'bagging_fraction': 0.6044726942992698}. Best is trial 32 with value: 0.14540191776657313.\n"
     ]
    },
    {
     "name": "stdout",
     "output_type": "stream",
     "text": [
      "Repeat \u001b[1m\u001b[34m#1\n",
      "Repeat \u001b[1m\u001b[34m#2\n",
      "Repeat \u001b[1m\u001b[34m#3\n",
      "Repeat \u001b[1m\u001b[34m#4\n",
      "Repeat \u001b[1m\u001b[34m#5\n"
     ]
    },
    {
     "name": "stderr",
     "output_type": "stream",
     "text": [
      "[I 2023-06-16 09:57:09,587] Trial 200 finished with value: 0.16731710964773888 and parameters: {'boosting_type': 'gbdt', 'learning_rate': 0.16127545912338667, 'lambda_l1': 1.3401389166131068e-06, 'lambda_l2': 1.278108873617764e-05, 'max_depth': 7, 'num_leaves': 103, 'feature_fraction': 0.5106791293118533, 'min_data_in_leaf': 8, 'max_bin': 114, 'bagging_freq': 3, 'bagging_fraction': 0.5704413138778414}. Best is trial 32 with value: 0.14540191776657313.\n"
     ]
    },
    {
     "name": "stdout",
     "output_type": "stream",
     "text": [
      "Repeat \u001b[1m\u001b[34m#1\n",
      "Repeat \u001b[1m\u001b[34m#2\n",
      "Repeat \u001b[1m\u001b[34m#3\n",
      "Repeat \u001b[1m\u001b[34m#4\n",
      "Repeat \u001b[1m\u001b[34m#5\n"
     ]
    },
    {
     "name": "stderr",
     "output_type": "stream",
     "text": [
      "[I 2023-06-16 09:57:12,859] Trial 201 finished with value: 0.1593878161618228 and parameters: {'boosting_type': 'gbdt', 'learning_rate': 0.07640467329065867, 'lambda_l1': 1.371678036495561e-07, 'lambda_l2': 0.0003514716953769826, 'max_depth': 7, 'num_leaves': 98, 'feature_fraction': 0.4953051570002865, 'min_data_in_leaf': 5, 'max_bin': 72, 'bagging_freq': 5, 'bagging_fraction': 0.618265572431088}. Best is trial 32 with value: 0.14540191776657313.\n"
     ]
    },
    {
     "name": "stdout",
     "output_type": "stream",
     "text": [
      "Repeat \u001b[1m\u001b[34m#1\n",
      "Repeat \u001b[1m\u001b[34m#2\n",
      "Repeat \u001b[1m\u001b[34m#3\n",
      "Repeat \u001b[1m\u001b[34m#4\n",
      "Repeat \u001b[1m\u001b[34m#5\n"
     ]
    },
    {
     "name": "stderr",
     "output_type": "stream",
     "text": [
      "[I 2023-06-16 09:57:16,164] Trial 202 finished with value: 0.15913669839800082 and parameters: {'boosting_type': 'gbdt', 'learning_rate': 0.06838588191271425, 'lambda_l1': 8.023524612616993e-08, 'lambda_l2': 0.0002110400666033162, 'max_depth': 7, 'num_leaves': 95, 'feature_fraction': 0.47908156199474317, 'min_data_in_leaf': 7, 'max_bin': 176, 'bagging_freq': 3, 'bagging_fraction': 0.6120402682424603}. Best is trial 32 with value: 0.14540191776657313.\n"
     ]
    },
    {
     "name": "stdout",
     "output_type": "stream",
     "text": [
      "Repeat \u001b[1m\u001b[34m#1\n",
      "Repeat \u001b[1m\u001b[34m#2\n",
      "Repeat \u001b[1m\u001b[34m#3\n",
      "Repeat \u001b[1m\u001b[34m#4\n",
      "Repeat \u001b[1m\u001b[34m#5\n"
     ]
    },
    {
     "name": "stderr",
     "output_type": "stream",
     "text": [
      "[I 2023-06-16 09:57:19,008] Trial 203 finished with value: 0.15733088966406322 and parameters: {'boosting_type': 'gbdt', 'learning_rate': 0.09429859591775093, 'lambda_l1': 0.0001919772044974222, 'lambda_l2': 0.0010232109840453512, 'max_depth': 7, 'num_leaves': 100, 'feature_fraction': 0.48751109703813056, 'min_data_in_leaf': 5, 'max_bin': 185, 'bagging_freq': 4, 'bagging_fraction': 0.5935684927151736}. Best is trial 32 with value: 0.14540191776657313.\n"
     ]
    },
    {
     "name": "stdout",
     "output_type": "stream",
     "text": [
      "Repeat \u001b[1m\u001b[34m#1\n",
      "Repeat \u001b[1m\u001b[34m#2\n",
      "Repeat \u001b[1m\u001b[34m#3\n",
      "Repeat \u001b[1m\u001b[34m#4\n",
      "Repeat \u001b[1m\u001b[34m#5\n"
     ]
    },
    {
     "name": "stderr",
     "output_type": "stream",
     "text": [
      "[I 2023-06-16 09:57:21,284] Trial 204 finished with value: 0.16576151960011049 and parameters: {'boosting_type': 'gbdt', 'learning_rate': 0.09388777238425856, 'lambda_l1': 2.7088181301019884e-05, 'lambda_l2': 0.0010100688488465656, 'max_depth': 7, 'num_leaves': 102, 'feature_fraction': 0.4882869411108608, 'min_data_in_leaf': 7, 'max_bin': 182, 'bagging_freq': 4, 'bagging_fraction': 0.590891451056968}. Best is trial 32 with value: 0.14540191776657313.\n"
     ]
    },
    {
     "name": "stdout",
     "output_type": "stream",
     "text": [
      "Repeat \u001b[1m\u001b[34m#1\n",
      "Repeat \u001b[1m\u001b[34m#2\n",
      "Repeat \u001b[1m\u001b[34m#3\n",
      "Repeat \u001b[1m\u001b[34m#4\n",
      "Repeat \u001b[1m\u001b[34m#5\n"
     ]
    },
    {
     "name": "stderr",
     "output_type": "stream",
     "text": [
      "[I 2023-06-16 09:57:23,205] Trial 205 finished with value: 0.16143005462024793 and parameters: {'boosting_type': 'gbdt', 'learning_rate': 0.11217087656310523, 'lambda_l1': 0.002835452050647448, 'lambda_l2': 0.0016604740374717626, 'max_depth': 7, 'num_leaves': 110, 'feature_fraction': 0.47092883622890963, 'min_data_in_leaf': 9, 'max_bin': 190, 'bagging_freq': 4, 'bagging_fraction': 0.5986118274510843}. Best is trial 32 with value: 0.14540191776657313.\n"
     ]
    },
    {
     "name": "stdout",
     "output_type": "stream",
     "text": [
      "Repeat \u001b[1m\u001b[34m#1\n",
      "Repeat \u001b[1m\u001b[34m#2\n",
      "Repeat \u001b[1m\u001b[34m#3\n",
      "Repeat \u001b[1m\u001b[34m#4\n",
      "Repeat \u001b[1m\u001b[34m#5\n"
     ]
    },
    {
     "name": "stderr",
     "output_type": "stream",
     "text": [
      "[I 2023-06-16 09:57:28,072] Trial 206 finished with value: 0.16273611340208255 and parameters: {'boosting_type': 'gbdt', 'learning_rate': 0.036138593849121645, 'lambda_l1': 2.978227385680403e-06, 'lambda_l2': 0.6583916042523348, 'max_depth': 7, 'num_leaves': 106, 'feature_fraction': 0.5824885807050936, 'min_data_in_leaf': 5, 'max_bin': 98, 'bagging_freq': 4, 'bagging_fraction': 0.579329904558301}. Best is trial 32 with value: 0.14540191776657313.\n"
     ]
    },
    {
     "name": "stdout",
     "output_type": "stream",
     "text": [
      "Repeat \u001b[1m\u001b[34m#1\n",
      "Repeat \u001b[1m\u001b[34m#2\n",
      "Repeat \u001b[1m\u001b[34m#3\n",
      "Repeat \u001b[1m\u001b[34m#4\n",
      "Repeat \u001b[1m\u001b[34m#5\n"
     ]
    },
    {
     "name": "stderr",
     "output_type": "stream",
     "text": [
      "[I 2023-06-16 09:57:30,928] Trial 207 finished with value: 0.16206830773345093 and parameters: {'boosting_type': 'gbdt', 'learning_rate': 0.05578933046556639, 'lambda_l1': 1.7314160964841778e-05, 'lambda_l2': 0.0008743354463630025, 'max_depth': 10, 'num_leaves': 100, 'feature_fraction': 0.5323750856464534, 'min_data_in_leaf': 7, 'max_bin': 186, 'bagging_freq': 4, 'bagging_fraction': 0.5884208291150844}. Best is trial 32 with value: 0.14540191776657313.\n"
     ]
    },
    {
     "name": "stdout",
     "output_type": "stream",
     "text": [
      "Repeat \u001b[1m\u001b[34m#1\n",
      "Repeat \u001b[1m\u001b[34m#2\n",
      "Repeat \u001b[1m\u001b[34m#3\n",
      "Repeat \u001b[1m\u001b[34m#4\n",
      "Repeat \u001b[1m\u001b[34m#5\n"
     ]
    },
    {
     "name": "stderr",
     "output_type": "stream",
     "text": [
      "[I 2023-06-16 09:57:34,437] Trial 208 finished with value: 0.16323536502202968 and parameters: {'boosting_type': 'gbdt', 'learning_rate': 0.03186404701141162, 'lambda_l1': 5.049158438859523e-05, 'lambda_l2': 0.0007324787158519969, 'max_depth': 7, 'num_leaves': 108, 'feature_fraction': 0.5018108869755251, 'min_data_in_leaf': 10, 'max_bin': 138, 'bagging_freq': 4, 'bagging_fraction': 0.5658884699850614}. Best is trial 32 with value: 0.14540191776657313.\n"
     ]
    },
    {
     "name": "stdout",
     "output_type": "stream",
     "text": [
      "Repeat \u001b[1m\u001b[34m#1\n",
      "Repeat \u001b[1m\u001b[34m#2\n",
      "Repeat \u001b[1m\u001b[34m#3\n",
      "Repeat \u001b[1m\u001b[34m#4\n",
      "Repeat \u001b[1m\u001b[34m#5\n"
     ]
    },
    {
     "name": "stderr",
     "output_type": "stream",
     "text": [
      "[I 2023-06-16 09:57:36,872] Trial 209 finished with value: 0.15217556423379236 and parameters: {'boosting_type': 'gbdt', 'learning_rate': 0.08346613757102136, 'lambda_l1': 0.00016458386977847932, 'lambda_l2': 0.003414700975195465, 'max_depth': 7, 'num_leaves': 105, 'feature_fraction': 0.4792886910696395, 'min_data_in_leaf': 5, 'max_bin': 145, 'bagging_freq': 3, 'bagging_fraction': 0.6301834099166}. Best is trial 32 with value: 0.14540191776657313.\n"
     ]
    },
    {
     "name": "stdout",
     "output_type": "stream",
     "text": [
      "Repeat \u001b[1m\u001b[34m#1\n",
      "Repeat \u001b[1m\u001b[34m#2\n",
      "Repeat \u001b[1m\u001b[34m#3\n",
      "Repeat \u001b[1m\u001b[34m#4\n",
      "Repeat \u001b[1m\u001b[34m#5\n"
     ]
    },
    {
     "name": "stderr",
     "output_type": "stream",
     "text": [
      "[I 2023-06-16 09:57:39,020] Trial 210 finished with value: 0.1602963498581915 and parameters: {'boosting_type': 'gbdt', 'learning_rate': 0.09034260840202782, 'lambda_l1': 0.00021162090736495263, 'lambda_l2': 0.002333065046395189, 'max_depth': 7, 'num_leaves': 114, 'feature_fraction': 0.4595882900887901, 'min_data_in_leaf': 8, 'max_bin': 150, 'bagging_freq': 3, 'bagging_fraction': 0.6381416307874572}. Best is trial 32 with value: 0.14540191776657313.\n"
     ]
    },
    {
     "name": "stdout",
     "output_type": "stream",
     "text": [
      "Repeat \u001b[1m\u001b[34m#1\n",
      "Repeat \u001b[1m\u001b[34m#2\n",
      "Repeat \u001b[1m\u001b[34m#3\n",
      "Repeat \u001b[1m\u001b[34m#4\n",
      "Repeat \u001b[1m\u001b[34m#5\n"
     ]
    },
    {
     "name": "stderr",
     "output_type": "stream",
     "text": [
      "[I 2023-06-16 09:57:41,090] Trial 211 finished with value: 0.16233626269460905 and parameters: {'boosting_type': 'gbdt', 'learning_rate': 0.11379899299338443, 'lambda_l1': 7.336481622322273e-05, 'lambda_l2': 0.0013222396942099244, 'max_depth': 7, 'num_leaves': 103, 'feature_fraction': 0.4858073900381328, 'min_data_in_leaf': 5, 'max_bin': 144, 'bagging_freq': 3, 'bagging_fraction': 0.6285529316491486}. Best is trial 32 with value: 0.14540191776657313.\n"
     ]
    },
    {
     "name": "stdout",
     "output_type": "stream",
     "text": [
      "Repeat \u001b[1m\u001b[34m#1\n",
      "Repeat \u001b[1m\u001b[34m#2\n",
      "Repeat \u001b[1m\u001b[34m#3\n",
      "Repeat \u001b[1m\u001b[34m#4\n",
      "Repeat \u001b[1m\u001b[34m#5\n"
     ]
    },
    {
     "name": "stderr",
     "output_type": "stream",
     "text": [
      "[I 2023-06-16 09:57:43,480] Trial 212 finished with value: 0.1577171370226542 and parameters: {'boosting_type': 'gbdt', 'learning_rate': 0.08223129189590075, 'lambda_l1': 0.00014646227058175024, 'lambda_l2': 0.014532986227682985, 'max_depth': 7, 'num_leaves': 105, 'feature_fraction': 0.4702449634494905, 'min_data_in_leaf': 5, 'max_bin': 131, 'bagging_freq': 3, 'bagging_fraction': 0.6060204076486683}. Best is trial 32 with value: 0.14540191776657313.\n"
     ]
    },
    {
     "name": "stdout",
     "output_type": "stream",
     "text": [
      "Repeat \u001b[1m\u001b[34m#1\n",
      "Repeat \u001b[1m\u001b[34m#2\n",
      "Repeat \u001b[1m\u001b[34m#3\n",
      "Repeat \u001b[1m\u001b[34m#4\n",
      "Repeat \u001b[1m\u001b[34m#5\n"
     ]
    },
    {
     "name": "stderr",
     "output_type": "stream",
     "text": [
      "[I 2023-06-16 09:57:45,493] Trial 213 finished with value: 0.2151712280249542 and parameters: {'boosting_type': 'gbdt', 'learning_rate': 0.08544877205435707, 'lambda_l1': 0.00015585294732096063, 'lambda_l2': 0.011420098025951522, 'max_depth': 7, 'num_leaves': 111, 'feature_fraction': 0.48117670672119445, 'min_data_in_leaf': 34, 'max_bin': 131, 'bagging_freq': 3, 'bagging_fraction': 0.6069472289088033}. Best is trial 32 with value: 0.14540191776657313.\n"
     ]
    },
    {
     "name": "stdout",
     "output_type": "stream",
     "text": [
      "Repeat \u001b[1m\u001b[34m#1\n",
      "Repeat \u001b[1m\u001b[34m#2\n",
      "Repeat \u001b[1m\u001b[34m#3\n",
      "Repeat \u001b[1m\u001b[34m#4\n",
      "Repeat \u001b[1m\u001b[34m#5\n"
     ]
    },
    {
     "name": "stderr",
     "output_type": "stream",
     "text": [
      "[I 2023-06-16 09:57:48,927] Trial 214 finished with value: 0.15859839425898062 and parameters: {'boosting_type': 'gbdt', 'learning_rate': 0.041754305214454356, 'lambda_l1': 0.00020715924079873252, 'lambda_l2': 0.0043899840864339195, 'max_depth': 7, 'num_leaves': 106, 'feature_fraction': 0.46826642759779596, 'min_data_in_leaf': 7, 'max_bin': 135, 'bagging_freq': 3, 'bagging_fraction': 0.6241949943119862}. Best is trial 32 with value: 0.14540191776657313.\n"
     ]
    },
    {
     "name": "stdout",
     "output_type": "stream",
     "text": [
      "Repeat \u001b[1m\u001b[34m#1\n",
      "Repeat \u001b[1m\u001b[34m#2\n",
      "Repeat \u001b[1m\u001b[34m#3\n",
      "Repeat \u001b[1m\u001b[34m#4\n",
      "Repeat \u001b[1m\u001b[34m#5\n"
     ]
    },
    {
     "name": "stderr",
     "output_type": "stream",
     "text": [
      "[I 2023-06-16 09:57:51,751] Trial 215 finished with value: 0.15965496050178138 and parameters: {'boosting_type': 'gbdt', 'learning_rate': 0.06451403996363321, 'lambda_l1': 0.0003109749519396777, 'lambda_l2': 0.01818549022927715, 'max_depth': 7, 'num_leaves': 109, 'feature_fraction': 0.47316008774523444, 'min_data_in_leaf': 5, 'max_bin': 125, 'bagging_freq': 3, 'bagging_fraction': 0.5766448231703247}. Best is trial 32 with value: 0.14540191776657313.\n"
     ]
    },
    {
     "name": "stdout",
     "output_type": "stream",
     "text": [
      "Repeat \u001b[1m\u001b[34m#1\n",
      "Repeat \u001b[1m\u001b[34m#2\n",
      "Repeat \u001b[1m\u001b[34m#3\n",
      "Repeat \u001b[1m\u001b[34m#4\n",
      "Repeat \u001b[1m\u001b[34m#5\n"
     ]
    },
    {
     "name": "stderr",
     "output_type": "stream",
     "text": [
      "[I 2023-06-16 09:57:54,887] Trial 216 finished with value: 0.1662925935807417 and parameters: {'boosting_type': 'gbdt', 'learning_rate': 0.04964076575383974, 'lambda_l1': 4.53198882456991e-06, 'lambda_l2': 0.08711711743229228, 'max_depth': 7, 'num_leaves': 100, 'feature_fraction': 0.575924812235146, 'min_data_in_leaf': 7, 'max_bin': 146, 'bagging_freq': 3, 'bagging_fraction': 0.5844380617497718}. Best is trial 32 with value: 0.14540191776657313.\n"
     ]
    },
    {
     "name": "stdout",
     "output_type": "stream",
     "text": [
      "Repeat \u001b[1m\u001b[34m#1\n",
      "Repeat \u001b[1m\u001b[34m#2\n",
      "Repeat \u001b[1m\u001b[34m#3\n",
      "Repeat \u001b[1m\u001b[34m#4\n",
      "Repeat \u001b[1m\u001b[34m#5\n"
     ]
    },
    {
     "name": "stderr",
     "output_type": "stream",
     "text": [
      "[I 2023-06-16 09:57:57,067] Trial 217 finished with value: 0.16244144595003407 and parameters: {'boosting_type': 'gbdt', 'learning_rate': 0.0809205852852751, 'lambda_l1': 0.00010949843625863663, 'lambda_l2': 0.0006212435209431875, 'max_depth': 5, 'num_leaves': 97, 'feature_fraction': 0.44896782535712737, 'min_data_in_leaf': 9, 'max_bin': 140, 'bagging_freq': 4, 'bagging_fraction': 0.6410983313111528}. Best is trial 32 with value: 0.14540191776657313.\n"
     ]
    },
    {
     "name": "stdout",
     "output_type": "stream",
     "text": [
      "Repeat \u001b[1m\u001b[34m#1\n",
      "Repeat \u001b[1m\u001b[34m#2\n",
      "Repeat \u001b[1m\u001b[34m#3\n",
      "Repeat \u001b[1m\u001b[34m#4\n",
      "Repeat \u001b[1m\u001b[34m#5\n"
     ]
    },
    {
     "name": "stderr",
     "output_type": "stream",
     "text": [
      "[I 2023-06-16 09:58:07,143] Trial 218 finished with value: 0.5212286187680493 and parameters: {'boosting_type': 'gbdt', 'learning_rate': 0.0004798715838083464, 'lambda_l1': 0.0005212962904283284, 'lambda_l2': 0.007987827568345136, 'max_depth': 7, 'num_leaves': 104, 'feature_fraction': 0.4610306881684225, 'min_data_in_leaf': 5, 'max_bin': 132, 'bagging_freq': 3, 'bagging_fraction': 0.5507909760117348}. Best is trial 32 with value: 0.14540191776657313.\n"
     ]
    },
    {
     "name": "stdout",
     "output_type": "stream",
     "text": [
      "Repeat \u001b[1m\u001b[34m#1\n",
      "Repeat \u001b[1m\u001b[34m#2\n",
      "Repeat \u001b[1m\u001b[34m#3\n",
      "Repeat \u001b[1m\u001b[34m#4\n",
      "Repeat \u001b[1m\u001b[34m#5\n"
     ]
    },
    {
     "name": "stderr",
     "output_type": "stream",
     "text": [
      "[I 2023-06-16 09:58:09,117] Trial 219 finished with value: 0.17436636387822269 and parameters: {'boosting_type': 'goss', 'learning_rate': 0.09966210450833038, 'lambda_l1': 1.9957563022648076e-06, 'lambda_l2': 0.002832552009149488, 'max_depth': 7, 'num_leaves': 102, 'feature_fraction': 0.5392426653313366, 'min_data_in_leaf': 7, 'max_bin': 130, 'bagging_freq': 3}. Best is trial 32 with value: 0.14540191776657313.\n"
     ]
    },
    {
     "name": "stdout",
     "output_type": "stream",
     "text": [
      "Repeat \u001b[1m\u001b[34m#1\n",
      "Repeat \u001b[1m\u001b[34m#2\n",
      "Repeat \u001b[1m\u001b[34m#3\n",
      "Repeat \u001b[1m\u001b[34m#4\n",
      "Repeat \u001b[1m\u001b[34m#5\n"
     ]
    },
    {
     "name": "stderr",
     "output_type": "stream",
     "text": [
      "[I 2023-06-16 09:58:12,156] Trial 220 finished with value: 0.16532350053783348 and parameters: {'boosting_type': 'gbdt', 'learning_rate': 0.04030937834025367, 'lambda_l1': 0.00014379296907747827, 'lambda_l2': 0.0011055213134139315, 'max_depth': 6, 'num_leaves': 113, 'feature_fraction': 0.49110525825336715, 'min_data_in_leaf': 11, 'max_bin': 143, 'bagging_freq': 4, 'bagging_fraction': 0.6169209450973233}. Best is trial 32 with value: 0.14540191776657313.\n"
     ]
    },
    {
     "name": "stdout",
     "output_type": "stream",
     "text": [
      "Repeat \u001b[1m\u001b[34m#1\n",
      "Repeat \u001b[1m\u001b[34m#2\n",
      "Repeat \u001b[1m\u001b[34m#3\n",
      "Repeat \u001b[1m\u001b[34m#4\n",
      "Repeat \u001b[1m\u001b[34m#5\n"
     ]
    },
    {
     "name": "stderr",
     "output_type": "stream",
     "text": [
      "[I 2023-06-16 09:58:13,979] Trial 221 finished with value: 0.163895408950652 and parameters: {'boosting_type': 'gbdt', 'learning_rate': 0.14661874191140364, 'lambda_l1': 7.090305849915801e-07, 'lambda_l2': 0.0017975699487084225, 'max_depth': 7, 'num_leaves': 106, 'feature_fraction': 0.4748571747136644, 'min_data_in_leaf': 5, 'max_bin': 137, 'bagging_freq': 3, 'bagging_fraction': 0.5956340962800933}. Best is trial 32 with value: 0.14540191776657313.\n"
     ]
    },
    {
     "name": "stdout",
     "output_type": "stream",
     "text": [
      "Repeat \u001b[1m\u001b[34m#1\n",
      "Repeat \u001b[1m\u001b[34m#2\n",
      "Repeat \u001b[1m\u001b[34m#3\n"
     ]
    },
    {
     "name": "stderr",
     "output_type": "stream",
     "text": [
      "[I 2023-06-16 09:58:14,528] Trial 222 finished with value: 0.6973915667428459 and parameters: {'boosting_type': 'gbdt', 'learning_rate': 0.14164427586503706, 'lambda_l1': 0.0011689169117507193, 'lambda_l2': 0.0012255603831849116, 'max_depth': 7, 'num_leaves': 104, 'feature_fraction': 0.3591117459625773, 'min_data_in_leaf': 67, 'max_bin': 195, 'bagging_freq': 3, 'bagging_fraction': 0.6015710393710989}. Best is trial 32 with value: 0.14540191776657313.\n"
     ]
    },
    {
     "name": "stdout",
     "output_type": "stream",
     "text": [
      "Repeat \u001b[1m\u001b[34m#4\n",
      "Repeat \u001b[1m\u001b[34m#5\n",
      "Repeat \u001b[1m\u001b[34m#1\n",
      "Repeat \u001b[1m\u001b[34m#2\n",
      "Repeat \u001b[1m\u001b[34m#3\n",
      "Repeat \u001b[1m\u001b[34m#4\n",
      "Repeat \u001b[1m\u001b[34m#5\n"
     ]
    },
    {
     "name": "stderr",
     "output_type": "stream",
     "text": [
      "[I 2023-06-16 09:58:16,502] Trial 223 finished with value: 0.16041450528679743 and parameters: {'boosting_type': 'gbdt', 'learning_rate': 0.1194724152732925, 'lambda_l1': 1.1753657344458322e-06, 'lambda_l2': 0.0005604331970621804, 'max_depth': 7, 'num_leaves': 110, 'feature_fraction': 0.4802994772843871, 'min_data_in_leaf': 7, 'max_bin': 184, 'bagging_freq': 3, 'bagging_fraction': 0.59076585123763}. Best is trial 32 with value: 0.14540191776657313.\n"
     ]
    },
    {
     "name": "stdout",
     "output_type": "stream",
     "text": [
      "Repeat \u001b[1m\u001b[34m#1\n",
      "Repeat \u001b[1m\u001b[34m#2\n",
      "Repeat \u001b[1m\u001b[34m#3\n",
      "Repeat \u001b[1m\u001b[34m#4\n",
      "Repeat \u001b[1m\u001b[34m#5\n"
     ]
    },
    {
     "name": "stderr",
     "output_type": "stream",
     "text": [
      "[I 2023-06-16 09:58:18,008] Trial 224 finished with value: 0.16915946820401453 and parameters: {'boosting_type': 'gbdt', 'learning_rate': 0.19344549239650832, 'lambda_l1': 0.006575345149522063, 'lambda_l2': 0.003388255381219319, 'max_depth': 7, 'num_leaves': 101, 'feature_fraction': 0.4894089229836269, 'min_data_in_leaf': 5, 'max_bin': 145, 'bagging_freq': 3, 'bagging_fraction': 0.6090495780106587}. Best is trial 32 with value: 0.14540191776657313.\n"
     ]
    },
    {
     "name": "stdout",
     "output_type": "stream",
     "text": [
      "Repeat \u001b[1m\u001b[34m#1\n",
      "Repeat \u001b[1m\u001b[34m#2\n",
      "Repeat \u001b[1m\u001b[34m#3\n",
      "Repeat \u001b[1m\u001b[34m#4\n",
      "Repeat \u001b[1m\u001b[34m#5\n"
     ]
    },
    {
     "name": "stderr",
     "output_type": "stream",
     "text": [
      "[I 2023-06-16 09:58:19,941] Trial 225 finished with value: 0.18943932118911314 and parameters: {'boosting_type': 'gbdt', 'learning_rate': 0.09607260564630161, 'lambda_l1': 3.726674252760858e-05, 'lambda_l2': 0.0008115242981165703, 'max_depth': 7, 'num_leaves': 108, 'feature_fraction': 0.5086990824523416, 'min_data_in_leaf': 28, 'max_bin': 211, 'bagging_freq': 3, 'bagging_fraction': 0.5742889069673353}. Best is trial 32 with value: 0.14540191776657313.\n"
     ]
    },
    {
     "name": "stdout",
     "output_type": "stream",
     "text": [
      "Repeat \u001b[1m\u001b[34m#1\n",
      "Repeat \u001b[1m\u001b[34m#2\n",
      "Repeat \u001b[1m\u001b[34m#3\n",
      "Repeat \u001b[1m\u001b[34m#4\n",
      "Repeat \u001b[1m\u001b[34m#5\n"
     ]
    },
    {
     "name": "stderr",
     "output_type": "stream",
     "text": [
      "[I 2023-06-16 09:58:27,279] Trial 226 finished with value: 0.1695778613755401 and parameters: {'boosting_type': 'gbdt', 'learning_rate': 0.012012159786346493, 'lambda_l1': 1.2046979624139565e-05, 'lambda_l2': 0.0015076467046899785, 'max_depth': 7, 'num_leaves': 116, 'feature_fraction': 0.5585030527440645, 'min_data_in_leaf': 9, 'max_bin': 141, 'bagging_freq': 3, 'bagging_fraction': 0.6325226592248105}. Best is trial 32 with value: 0.14540191776657313.\n"
     ]
    },
    {
     "name": "stdout",
     "output_type": "stream",
     "text": [
      "Repeat \u001b[1m\u001b[34m#1\n",
      "Repeat \u001b[1m\u001b[34m#2\n",
      "Repeat \u001b[1m\u001b[34m#3\n",
      "Repeat \u001b[1m\u001b[34m#4\n",
      "Repeat \u001b[1m\u001b[34m#5\n"
     ]
    },
    {
     "name": "stderr",
     "output_type": "stream",
     "text": [
      "[I 2023-06-16 09:58:30,160] Trial 227 finished with value: 0.16239298406709785 and parameters: {'boosting_type': 'gbdt', 'learning_rate': 0.07636455742606342, 'lambda_l1': 2.5079280405103897e-06, 'lambda_l2': 0.1749188848012347, 'max_depth': 10, 'num_leaves': 98, 'feature_fraction': 0.5204599920204588, 'min_data_in_leaf': 7, 'max_bin': 205, 'bagging_freq': 3, 'bagging_fraction': 0.5799375003725972}. Best is trial 32 with value: 0.14540191776657313.\n"
     ]
    },
    {
     "name": "stdout",
     "output_type": "stream",
     "text": [
      "Repeat \u001b[1m\u001b[34m#1\n",
      "Repeat \u001b[1m\u001b[34m#2\n",
      "Repeat \u001b[1m\u001b[34m#3\n",
      "Repeat \u001b[1m\u001b[34m#4\n",
      "Repeat \u001b[1m\u001b[34m#5\n"
     ]
    },
    {
     "name": "stderr",
     "output_type": "stream",
     "text": [
      "[I 2023-06-16 09:58:34,252] Trial 228 finished with value: 0.1622469988501815 and parameters: {'boosting_type': 'gbdt', 'learning_rate': 0.031463224020734204, 'lambda_l1': 9.426063238193404e-07, 'lambda_l2': 0.0021071822513551875, 'max_depth': 9, 'num_leaves': 104, 'feature_fraction': 0.4987163505247406, 'min_data_in_leaf': 5, 'max_bin': 179, 'bagging_freq': 3, 'bagging_fraction': 0.5627435860027915}. Best is trial 32 with value: 0.14540191776657313.\n"
     ]
    },
    {
     "name": "stdout",
     "output_type": "stream",
     "text": [
      "Repeat \u001b[1m\u001b[34m#1\n",
      "Repeat \u001b[1m\u001b[34m#2\n",
      "Repeat \u001b[1m\u001b[34m#3\n",
      "Repeat \u001b[1m\u001b[34m#4\n",
      "Repeat \u001b[1m\u001b[34m#5\n"
     ]
    },
    {
     "name": "stderr",
     "output_type": "stream",
     "text": [
      "[I 2023-06-16 09:58:36,019] Trial 229 finished with value: 0.16763544353590132 and parameters: {'boosting_type': 'gbdt', 'learning_rate': 0.12373695829823991, 'lambda_l1': 0.00025528069490193063, 'lambda_l2': 0.00039856376732508455, 'max_depth': 7, 'num_leaves': 95, 'feature_fraction': 0.5305094588748317, 'min_data_in_leaf': 9, 'max_bin': 134, 'bagging_freq': 2, 'bagging_fraction': 0.5969034029047472}. Best is trial 32 with value: 0.14540191776657313.\n"
     ]
    },
    {
     "name": "stdout",
     "output_type": "stream",
     "text": [
      "Repeat \u001b[1m\u001b[34m#1\n",
      "Repeat \u001b[1m\u001b[34m#2\n",
      "Repeat \u001b[1m\u001b[34m#3\n",
      "Repeat \u001b[1m\u001b[34m#4\n",
      "Repeat \u001b[1m\u001b[34m#5\n"
     ]
    },
    {
     "name": "stderr",
     "output_type": "stream",
     "text": [
      "[I 2023-06-16 09:58:40,365] Trial 230 finished with value: 0.15962459279143532 and parameters: {'boosting_type': 'gbdt', 'learning_rate': 0.02861190550386358, 'lambda_l1': 6.272061909883414e-05, 'lambda_l2': 0.0006752223388531912, 'max_depth': 7, 'num_leaves': 100, 'feature_fraction': 0.54259244277004, 'min_data_in_leaf': 7, 'max_bin': 198, 'bagging_freq': 3, 'bagging_fraction': 0.5860663371255459}. Best is trial 32 with value: 0.14540191776657313.\n"
     ]
    },
    {
     "name": "stdout",
     "output_type": "stream",
     "text": [
      "Repeat \u001b[1m\u001b[34m#1\n",
      "Repeat \u001b[1m\u001b[34m#2\n",
      "Repeat \u001b[1m\u001b[34m#3\n",
      "Repeat \u001b[1m\u001b[34m#4\n",
      "Repeat \u001b[1m\u001b[34m#5\n"
     ]
    },
    {
     "name": "stderr",
     "output_type": "stream",
     "text": [
      "[I 2023-06-16 09:58:43,446] Trial 231 finished with value: 0.15716986028539642 and parameters: {'boosting_type': 'gbdt', 'learning_rate': 0.05992053152833932, 'lambda_l1': 1.1112139453405014e-07, 'lambda_l2': 0.0004187264370362899, 'max_depth': 7, 'num_leaves': 98, 'feature_fraction': 0.48881927998800684, 'min_data_in_leaf': 5, 'max_bin': 241, 'bagging_freq': 4, 'bagging_fraction': 0.6239597777209853}. Best is trial 32 with value: 0.14540191776657313.\n"
     ]
    },
    {
     "name": "stdout",
     "output_type": "stream",
     "text": [
      "Repeat \u001b[1m\u001b[34m#1\n",
      "Repeat \u001b[1m\u001b[34m#2\n",
      "Repeat \u001b[1m\u001b[34m#3\n",
      "Repeat \u001b[1m\u001b[34m#4\n",
      "Repeat \u001b[1m\u001b[34m#5\n"
     ]
    },
    {
     "name": "stderr",
     "output_type": "stream",
     "text": [
      "[I 2023-06-16 09:58:46,374] Trial 232 finished with value: 0.15720231798396242 and parameters: {'boosting_type': 'gbdt', 'learning_rate': 0.05633077586327242, 'lambda_l1': 0.0001152880728313578, 'lambda_l2': 0.00029200822738166353, 'max_depth': 7, 'num_leaves': 102, 'feature_fraction': 0.480756219689062, 'min_data_in_leaf': 5, 'max_bin': 243, 'bagging_freq': 4, 'bagging_fraction': 0.4955432485634668}. Best is trial 32 with value: 0.14540191776657313.\n"
     ]
    },
    {
     "name": "stdout",
     "output_type": "stream",
     "text": [
      "Repeat \u001b[1m\u001b[34m#1\n",
      "Repeat \u001b[1m\u001b[34m#2\n",
      "Repeat \u001b[1m\u001b[34m#3\n",
      "Repeat \u001b[1m\u001b[34m#4\n",
      "Repeat \u001b[1m\u001b[34m#5\n"
     ]
    },
    {
     "name": "stderr",
     "output_type": "stream",
     "text": [
      "[I 2023-06-16 09:58:49,236] Trial 233 finished with value: 0.15782962227962286 and parameters: {'boosting_type': 'gbdt', 'learning_rate': 0.059241098107930934, 'lambda_l1': 0.00016434897932489687, 'lambda_l2': 0.0002880434322211211, 'max_depth': 7, 'num_leaves': 92, 'feature_fraction': 0.46763440590908123, 'min_data_in_leaf': 5, 'max_bin': 248, 'bagging_freq': 4, 'bagging_fraction': 0.505977841384214}. Best is trial 32 with value: 0.14540191776657313.\n"
     ]
    },
    {
     "name": "stdout",
     "output_type": "stream",
     "text": [
      "Repeat \u001b[1m\u001b[34m#1\n",
      "Repeat \u001b[1m\u001b[34m#2\n",
      "Repeat \u001b[1m\u001b[34m#3\n",
      "Repeat \u001b[1m\u001b[34m#4\n",
      "Repeat \u001b[1m\u001b[34m#5\n"
     ]
    },
    {
     "name": "stderr",
     "output_type": "stream",
     "text": [
      "[I 2023-06-16 09:58:52,195] Trial 234 finished with value: 0.15956911358201292 and parameters: {'boosting_type': 'gbdt', 'learning_rate': 0.050191388541569494, 'lambda_l1': 0.00011042552591540418, 'lambda_l2': 0.000490041228440599, 'max_depth': 7, 'num_leaves': 98, 'feature_fraction': 0.4799931980805522, 'min_data_in_leaf': 7, 'max_bin': 227, 'bagging_freq': 4, 'bagging_fraction': 0.49596011429982406}. Best is trial 32 with value: 0.14540191776657313.\n"
     ]
    },
    {
     "name": "stdout",
     "output_type": "stream",
     "text": [
      "Repeat \u001b[1m\u001b[34m#1\n",
      "Repeat \u001b[1m\u001b[34m#2\n",
      "Repeat \u001b[1m\u001b[34m#3\n",
      "Repeat \u001b[1m\u001b[34m#4\n",
      "Repeat \u001b[1m\u001b[34m#5\n"
     ]
    },
    {
     "name": "stderr",
     "output_type": "stream",
     "text": [
      "[I 2023-06-16 09:58:54,909] Trial 235 finished with value: 0.16057572936236314 and parameters: {'boosting_type': 'gbdt', 'learning_rate': 0.06138213168893148, 'lambda_l1': 5.7386706492954324e-08, 'lambda_l2': 0.00025286513924197316, 'max_depth': 7, 'num_leaves': 101, 'feature_fraction': 0.4892619279407039, 'min_data_in_leaf': 8, 'max_bin': 240, 'bagging_freq': 4, 'bagging_fraction': 0.6195952058958035}. Best is trial 32 with value: 0.14540191776657313.\n"
     ]
    },
    {
     "name": "stdout",
     "output_type": "stream",
     "text": [
      "Repeat \u001b[1m\u001b[34m#1\n",
      "Repeat \u001b[1m\u001b[34m#2\n",
      "Repeat \u001b[1m\u001b[34m#3\n",
      "Repeat \u001b[1m\u001b[34m#4\n",
      "Repeat \u001b[1m\u001b[34m#5\n"
     ]
    },
    {
     "name": "stderr",
     "output_type": "stream",
     "text": [
      "[I 2023-06-16 09:58:58,260] Trial 236 finished with value: 0.1613987264656323 and parameters: {'boosting_type': 'gbdt', 'learning_rate': 0.04361947199713028, 'lambda_l1': 6.714465581453063e-05, 'lambda_l2': 0.03106174239488886, 'max_depth': 7, 'num_leaves': 95, 'feature_fraction': 0.6080226625836107, 'min_data_in_leaf': 6, 'max_bin': 150, 'bagging_freq': 4, 'bagging_fraction': 0.4909991198781327}. Best is trial 32 with value: 0.14540191776657313.\n"
     ]
    },
    {
     "name": "stdout",
     "output_type": "stream",
     "text": [
      "Repeat \u001b[1m\u001b[34m#1\n",
      "Repeat \u001b[1m\u001b[34m#2\n",
      "Repeat \u001b[1m\u001b[34m#3\n",
      "Repeat \u001b[1m\u001b[34m#4\n",
      "Repeat \u001b[1m\u001b[34m#5\n"
     ]
    },
    {
     "name": "stderr",
     "output_type": "stream",
     "text": [
      "[I 2023-06-16 09:59:02,273] Trial 237 finished with value: 0.15473644093034272 and parameters: {'boosting_type': 'gbdt', 'learning_rate': 0.03799356940378729, 'lambda_l1': 0.00030593831666103004, 'lambda_l2': 0.00014512130103075009, 'max_depth': 7, 'num_leaves': 107, 'feature_fraction': 0.48109891656444503, 'min_data_in_leaf': 5, 'max_bin': 92, 'bagging_freq': 4, 'bagging_fraction': 0.5144174372228674}. Best is trial 32 with value: 0.14540191776657313.\n"
     ]
    },
    {
     "name": "stdout",
     "output_type": "stream",
     "text": [
      "Repeat \u001b[1m\u001b[34m#1\n",
      "Repeat \u001b[1m\u001b[34m#2\n",
      "Repeat \u001b[1m\u001b[34m#3\n",
      "Repeat \u001b[1m\u001b[34m#4\n",
      "Repeat \u001b[1m\u001b[34m#5\n"
     ]
    },
    {
     "name": "stderr",
     "output_type": "stream",
     "text": [
      "[I 2023-06-16 09:59:05,010] Trial 238 finished with value: 0.15854308317018742 and parameters: {'boosting_type': 'gbdt', 'learning_rate': 0.05256450938510611, 'lambda_l1': 0.00046080202876497327, 'lambda_l2': 0.00012426033284265936, 'max_depth': 7, 'num_leaves': 107, 'feature_fraction': 0.47742395541729304, 'min_data_in_leaf': 9, 'max_bin': 242, 'bagging_freq': 4, 'bagging_fraction': 0.5129196482323584}. Best is trial 32 with value: 0.14540191776657313.\n"
     ]
    },
    {
     "name": "stdout",
     "output_type": "stream",
     "text": [
      "Repeat \u001b[1m\u001b[34m#1\n",
      "Repeat \u001b[1m\u001b[34m#2\n",
      "Repeat \u001b[1m\u001b[34m#3\n",
      "Repeat \u001b[1m\u001b[34m#4\n",
      "Repeat \u001b[1m\u001b[34m#5\n"
     ]
    },
    {
     "name": "stderr",
     "output_type": "stream",
     "text": [
      "[I 2023-06-16 09:59:35,585] Trial 239 finished with value: 0.20880841188618385 and parameters: {'boosting_type': 'dart', 'learning_rate': 0.06916840105488117, 'lambda_l1': 0.00020848679864426132, 'lambda_l2': 0.00015903441582015084, 'max_depth': 7, 'num_leaves': 112, 'feature_fraction': 0.4635837750267826, 'min_data_in_leaf': 5, 'max_bin': 247, 'bagging_freq': 4, 'bagging_fraction': 0.6267183990094051}. Best is trial 32 with value: 0.14540191776657313.\n"
     ]
    },
    {
     "name": "stdout",
     "output_type": "stream",
     "text": [
      "Repeat \u001b[1m\u001b[34m#1\n",
      "Repeat \u001b[1m\u001b[34m#2\n",
      "Repeat \u001b[1m\u001b[34m#3\n",
      "Repeat \u001b[1m\u001b[34m#4\n",
      "Repeat \u001b[1m\u001b[34m#5\n"
     ]
    },
    {
     "name": "stderr",
     "output_type": "stream",
     "text": [
      "[I 2023-06-16 09:59:40,248] Trial 240 finished with value: 0.165502690095752 and parameters: {'boosting_type': 'gbdt', 'learning_rate': 0.03666277537716324, 'lambda_l1': 0.0003899539136045749, 'lambda_l2': 0.00020810659050941966, 'max_depth': 7, 'num_leaves': 109, 'feature_fraction': 0.4853223014284947, 'min_data_in_leaf': 7, 'max_bin': 82, 'bagging_freq': 6, 'bagging_fraction': 0.47857926714308285}. Best is trial 32 with value: 0.14540191776657313.\n"
     ]
    },
    {
     "name": "stdout",
     "output_type": "stream",
     "text": [
      "Repeat \u001b[1m\u001b[34m#1\n",
      "Repeat \u001b[1m\u001b[34m#2\n",
      "Repeat \u001b[1m\u001b[34m#3\n",
      "Repeat \u001b[1m\u001b[34m#4\n",
      "Repeat \u001b[1m\u001b[34m#5\n"
     ]
    },
    {
     "name": "stderr",
     "output_type": "stream",
     "text": [
      "[I 2023-06-16 09:59:44,603] Trial 241 finished with value: 0.15585813715920432 and parameters: {'boosting_type': 'gbdt', 'learning_rate': 0.03603788247640767, 'lambda_l1': 0.00036421090623040936, 'lambda_l2': 0.00037890348851055713, 'max_depth': 7, 'num_leaves': 102, 'feature_fraction': 0.4747144411372943, 'min_data_in_leaf': 5, 'max_bin': 241, 'bagging_freq': 4, 'bagging_fraction': 0.5694591801948735}. Best is trial 32 with value: 0.14540191776657313.\n"
     ]
    },
    {
     "name": "stdout",
     "output_type": "stream",
     "text": [
      "Repeat \u001b[1m\u001b[34m#1\n",
      "Repeat \u001b[1m\u001b[34m#2\n",
      "Repeat \u001b[1m\u001b[34m#3\n",
      "Repeat \u001b[1m\u001b[34m#4\n",
      "Repeat \u001b[1m\u001b[34m#5\n"
     ]
    },
    {
     "name": "stderr",
     "output_type": "stream",
     "text": [
      "[I 2023-06-16 09:59:48,202] Trial 242 finished with value: 0.15343223660095712 and parameters: {'boosting_type': 'gbdt', 'learning_rate': 0.039799391370074946, 'lambda_l1': 0.0003312543638944505, 'lambda_l2': 0.0003747305727070989, 'max_depth': 7, 'num_leaves': 106, 'feature_fraction': 0.4736121727285105, 'min_data_in_leaf': 5, 'max_bin': 237, 'bagging_freq': 4, 'bagging_fraction': 0.5205830119546853}. Best is trial 32 with value: 0.14540191776657313.\n"
     ]
    },
    {
     "name": "stdout",
     "output_type": "stream",
     "text": [
      "Repeat \u001b[1m\u001b[34m#1\n",
      "Repeat \u001b[1m\u001b[34m#2\n",
      "Repeat \u001b[1m\u001b[34m#3\n",
      "Repeat \u001b[1m\u001b[34m#4\n",
      "Repeat \u001b[1m\u001b[34m#5\n"
     ]
    },
    {
     "name": "stderr",
     "output_type": "stream",
     "text": [
      "[I 2023-06-16 09:59:51,214] Trial 243 finished with value: 0.1544211731339753 and parameters: {'boosting_type': 'gbdt', 'learning_rate': 0.04375205953919937, 'lambda_l1': 0.0007344908794404205, 'lambda_l2': 0.00038504758386956274, 'max_depth': 7, 'num_leaves': 102, 'feature_fraction': 0.47742729784542187, 'min_data_in_leaf': 7, 'max_bin': 253, 'bagging_freq': 4, 'bagging_fraction': 0.5128093435831873}. Best is trial 32 with value: 0.14540191776657313.\n"
     ]
    },
    {
     "name": "stdout",
     "output_type": "stream",
     "text": [
      "Repeat \u001b[1m\u001b[34m#1\n",
      "Repeat \u001b[1m\u001b[34m#2\n",
      "Repeat \u001b[1m\u001b[34m#3\n",
      "Repeat \u001b[1m\u001b[34m#4\n",
      "Repeat \u001b[1m\u001b[34m#5\n"
     ]
    },
    {
     "name": "stderr",
     "output_type": "stream",
     "text": [
      "[I 2023-06-16 09:59:54,639] Trial 244 finished with value: 0.15073023732936494 and parameters: {'boosting_type': 'gbdt', 'learning_rate': 0.045365583958428636, 'lambda_l1': 0.0002537830518552895, 'lambda_l2': 0.00030374416623405305, 'max_depth': 7, 'num_leaves': 103, 'feature_fraction': 0.47564969104213195, 'min_data_in_leaf': 7, 'max_bin': 232, 'bagging_freq': 4, 'bagging_fraction': 0.5186380938158172}. Best is trial 32 with value: 0.14540191776657313.\n"
     ]
    },
    {
     "name": "stdout",
     "output_type": "stream",
     "text": [
      "Repeat \u001b[1m\u001b[34m#1\n",
      "Repeat \u001b[1m\u001b[34m#2\n",
      "Repeat \u001b[1m\u001b[34m#3\n",
      "Repeat \u001b[1m\u001b[34m#4\n",
      "Repeat \u001b[1m\u001b[34m#5\n"
     ]
    },
    {
     "name": "stderr",
     "output_type": "stream",
     "text": [
      "[I 2023-06-16 09:59:57,778] Trial 245 finished with value: 0.16392481054950028 and parameters: {'boosting_type': 'gbdt', 'learning_rate': 0.04380184074699595, 'lambda_l1': 0.0007644986964123057, 'lambda_l2': 0.00032989822718586356, 'max_depth': 7, 'num_leaves': 107, 'feature_fraction': 0.47662120443120315, 'min_data_in_leaf': 8, 'max_bin': 253, 'bagging_freq': 4, 'bagging_fraction': 0.5097302086899649}. Best is trial 32 with value: 0.14540191776657313.\n"
     ]
    },
    {
     "name": "stdout",
     "output_type": "stream",
     "text": [
      "Repeat \u001b[1m\u001b[34m#1\n",
      "Repeat \u001b[1m\u001b[34m#2\n",
      "Repeat \u001b[1m\u001b[34m#3\n",
      "Repeat \u001b[1m\u001b[34m#4\n",
      "Repeat \u001b[1m\u001b[34m#5\n"
     ]
    },
    {
     "name": "stderr",
     "output_type": "stream",
     "text": [
      "[I 2023-06-16 10:00:01,350] Trial 246 finished with value: 0.16972990131064214 and parameters: {'boosting_type': 'gbdt', 'learning_rate': 0.03720181611511164, 'lambda_l1': 0.0003357405835984682, 'lambda_l2': 0.00025884869536201834, 'max_depth': 7, 'num_leaves': 103, 'feature_fraction': 0.4749523246799636, 'min_data_in_leaf': 10, 'max_bin': 235, 'bagging_freq': 4, 'bagging_fraction': 0.5062953110809392}. Best is trial 32 with value: 0.14540191776657313.\n"
     ]
    },
    {
     "name": "stdout",
     "output_type": "stream",
     "text": [
      "Repeat \u001b[1m\u001b[34m#1\n",
      "Repeat \u001b[1m\u001b[34m#2\n",
      "Repeat \u001b[1m\u001b[34m#3\n",
      "Repeat \u001b[1m\u001b[34m#4\n",
      "Repeat \u001b[1m\u001b[34m#5\n"
     ]
    },
    {
     "name": "stderr",
     "output_type": "stream",
     "text": [
      "[I 2023-06-16 10:00:04,776] Trial 247 finished with value: 0.16045848973984325 and parameters: {'boosting_type': 'gbdt', 'learning_rate': 0.04916310833453156, 'lambda_l1': 0.00026093371438633094, 'lambda_l2': 0.0004488625447233952, 'max_depth': 7, 'num_leaves': 111, 'feature_fraction': 0.4894114427333456, 'min_data_in_leaf': 7, 'max_bin': 252, 'bagging_freq': 4, 'bagging_fraction': 0.49744215087605353}. Best is trial 32 with value: 0.14540191776657313.\n"
     ]
    },
    {
     "name": "stdout",
     "output_type": "stream",
     "text": [
      "Repeat \u001b[1m\u001b[34m#1\n",
      "Repeat \u001b[1m\u001b[34m#2\n",
      "Repeat \u001b[1m\u001b[34m#3\n",
      "Repeat \u001b[1m\u001b[34m#4\n",
      "Repeat \u001b[1m\u001b[34m#5\n"
     ]
    },
    {
     "name": "stderr",
     "output_type": "stream",
     "text": [
      "[I 2023-06-16 10:00:09,283] Trial 248 finished with value: 0.155719429453332 and parameters: {'boosting_type': 'gbdt', 'learning_rate': 0.032276979285360885, 'lambda_l1': 0.00031241629825749486, 'lambda_l2': 0.00015160553646556739, 'max_depth': 7, 'num_leaves': 106, 'feature_fraction': 0.4648450402389936, 'min_data_in_leaf': 5, 'max_bin': 235, 'bagging_freq': 4, 'bagging_fraction': 0.5247850846575886}. Best is trial 32 with value: 0.14540191776657313.\n"
     ]
    },
    {
     "name": "stdout",
     "output_type": "stream",
     "text": [
      "Repeat \u001b[1m\u001b[34m#1\n",
      "Repeat \u001b[1m\u001b[34m#2\n",
      "Repeat \u001b[1m\u001b[34m#3\n",
      "Repeat \u001b[1m\u001b[34m#4\n",
      "Repeat \u001b[1m\u001b[34m#5\n"
     ]
    },
    {
     "name": "stderr",
     "output_type": "stream",
     "text": [
      "[I 2023-06-16 10:00:13,534] Trial 249 finished with value: 0.16239150157392074 and parameters: {'boosting_type': 'gbdt', 'learning_rate': 0.03279521044637426, 'lambda_l1': 0.0007046501439468602, 'lambda_l2': 0.0001503030290492327, 'max_depth': 7, 'num_leaves': 107, 'feature_fraction': 0.45748188151318014, 'min_data_in_leaf': 9, 'max_bin': 244, 'bagging_freq': 4, 'bagging_fraction': 0.5129738047205472}. Best is trial 32 with value: 0.14540191776657313.\n"
     ]
    },
    {
     "name": "stdout",
     "output_type": "stream",
     "text": [
      "Repeat \u001b[1m\u001b[34m#1\n",
      "Repeat \u001b[1m\u001b[34m#2\n",
      "Repeat \u001b[1m\u001b[34m#3\n",
      "Repeat \u001b[1m\u001b[34m#4\n",
      "Repeat \u001b[1m\u001b[34m#5\n"
     ]
    },
    {
     "name": "stderr",
     "output_type": "stream",
     "text": [
      "[I 2023-06-16 10:00:17,411] Trial 250 finished with value: 0.1559059256489343 and parameters: {'boosting_type': 'gbdt', 'learning_rate': 0.03998293409302671, 'lambda_l1': 0.00030352024463056965, 'lambda_l2': 0.0002431683511916827, 'max_depth': 7, 'num_leaves': 110, 'feature_fraction': 0.4639388136248873, 'min_data_in_leaf': 7, 'max_bin': 233, 'bagging_freq': 4, 'bagging_fraction': 0.5266115891607073}. Best is trial 32 with value: 0.14540191776657313.\n"
     ]
    },
    {
     "name": "stdout",
     "output_type": "stream",
     "text": [
      "Repeat \u001b[1m\u001b[34m#1\n",
      "Repeat \u001b[1m\u001b[34m#2\n",
      "Repeat \u001b[1m\u001b[34m#3\n",
      "Repeat \u001b[1m\u001b[34m#4\n",
      "Repeat \u001b[1m\u001b[34m#5\n"
     ]
    },
    {
     "name": "stderr",
     "output_type": "stream",
     "text": [
      "[I 2023-06-16 10:00:21,756] Trial 251 finished with value: 0.15592034154685833 and parameters: {'boosting_type': 'gbdt', 'learning_rate': 0.040940548936135496, 'lambda_l1': 0.00036297097153281633, 'lambda_l2': 0.0001979703738628782, 'max_depth': 7, 'num_leaves': 109, 'feature_fraction': 0.46593056459719323, 'min_data_in_leaf': 7, 'max_bin': 236, 'bagging_freq': 4, 'bagging_fraction': 0.5201283801948233}. Best is trial 32 with value: 0.14540191776657313.\n"
     ]
    },
    {
     "name": "stdout",
     "output_type": "stream",
     "text": [
      "Repeat \u001b[1m\u001b[34m#1\n",
      "Repeat \u001b[1m\u001b[34m#2\n",
      "Repeat \u001b[1m\u001b[34m#3\n",
      "Repeat \u001b[1m\u001b[34m#4\n",
      "Repeat \u001b[1m\u001b[34m#5\n"
     ]
    },
    {
     "name": "stderr",
     "output_type": "stream",
     "text": [
      "[I 2023-06-16 10:00:24,761] Trial 252 finished with value: 0.1640729750479947 and parameters: {'boosting_type': 'gbdt', 'learning_rate': 0.03978060111130392, 'lambda_l1': 0.0003675820477020088, 'lambda_l2': 0.00018494940179305353, 'max_depth': 7, 'num_leaves': 110, 'feature_fraction': 0.4544064179516052, 'min_data_in_leaf': 11, 'max_bin': 234, 'bagging_freq': 4, 'bagging_fraction': 0.5204509677746545}. Best is trial 32 with value: 0.14540191776657313.\n"
     ]
    },
    {
     "name": "stdout",
     "output_type": "stream",
     "text": [
      "Repeat \u001b[1m\u001b[34m#1\n",
      "Repeat \u001b[1m\u001b[34m#2\n",
      "Repeat \u001b[1m\u001b[34m#3\n",
      "Repeat \u001b[1m\u001b[34m#4\n",
      "Repeat \u001b[1m\u001b[34m#5\n"
     ]
    },
    {
     "name": "stderr",
     "output_type": "stream",
     "text": [
      "[I 2023-06-16 10:00:29,606] Trial 253 finished with value: 0.15923678104472128 and parameters: {'boosting_type': 'gbdt', 'learning_rate': 0.026796169766511568, 'lambda_l1': 0.0006484021981086659, 'lambda_l2': 0.00014534474161458078, 'max_depth': 7, 'num_leaves': 109, 'feature_fraction': 0.46543217550165966, 'min_data_in_leaf': 8, 'max_bin': 231, 'bagging_freq': 4, 'bagging_fraction': 0.5183511629695191}. Best is trial 32 with value: 0.14540191776657313.\n"
     ]
    },
    {
     "name": "stdout",
     "output_type": "stream",
     "text": [
      "Repeat \u001b[1m\u001b[34m#1\n",
      "Repeat \u001b[1m\u001b[34m#2\n",
      "Repeat \u001b[1m\u001b[34m#3\n",
      "Repeat \u001b[1m\u001b[34m#4\n",
      "Repeat \u001b[1m\u001b[34m#5\n"
     ]
    },
    {
     "name": "stderr",
     "output_type": "stream",
     "text": [
      "[I 2023-06-16 10:00:33,603] Trial 254 finished with value: 0.15756450809629657 and parameters: {'boosting_type': 'gbdt', 'learning_rate': 0.03459641434431732, 'lambda_l1': 0.0009199777737274083, 'lambda_l2': 0.0004039580486058295, 'max_depth': 7, 'num_leaves': 113, 'feature_fraction': 0.4617726979920263, 'min_data_in_leaf': 7, 'max_bin': 237, 'bagging_freq': 4, 'bagging_fraction': 0.5403452793946703}. Best is trial 32 with value: 0.14540191776657313.\n"
     ]
    },
    {
     "name": "stdout",
     "output_type": "stream",
     "text": [
      "Repeat \u001b[1m\u001b[34m#1\n",
      "Repeat \u001b[1m\u001b[34m#2\n",
      "Repeat \u001b[1m\u001b[34m#3\n",
      "Repeat \u001b[1m\u001b[34m#4\n",
      "Repeat \u001b[1m\u001b[34m#5\n"
     ]
    },
    {
     "name": "stderr",
     "output_type": "stream",
     "text": [
      "[I 2023-06-16 10:00:37,161] Trial 255 finished with value: 0.16637833509328132 and parameters: {'boosting_type': 'goss', 'learning_rate': 0.04377382407393689, 'lambda_l1': 0.0004296491935704869, 'lambda_l2': 0.00023917507382334636, 'max_depth': 7, 'num_leaves': 105, 'feature_fraction': 0.46764144469177327, 'min_data_in_leaf': 9, 'max_bin': 229, 'bagging_freq': 4}. Best is trial 32 with value: 0.14540191776657313.\n"
     ]
    },
    {
     "name": "stdout",
     "output_type": "stream",
     "text": [
      "Repeat \u001b[1m\u001b[34m#1\n",
      "Repeat \u001b[1m\u001b[34m#2\n",
      "Repeat \u001b[1m\u001b[34m#3\n",
      "Repeat \u001b[1m\u001b[34m#4\n",
      "Repeat \u001b[1m\u001b[34m#5\n"
     ]
    },
    {
     "name": "stderr",
     "output_type": "stream",
     "text": [
      "[I 2023-06-16 10:00:41,362] Trial 256 finished with value: 0.15979035394994673 and parameters: {'boosting_type': 'gbdt', 'learning_rate': 0.02989267865206693, 'lambda_l1': 0.0003027211562833172, 'lambda_l2': 0.00010767099599943145, 'max_depth': 7, 'num_leaves': 107, 'feature_fraction': 0.4530681731516181, 'min_data_in_leaf': 7, 'max_bin': 222, 'bagging_freq': 4, 'bagging_fraction': 0.5270549458486744}. Best is trial 32 with value: 0.14540191776657313.\n"
     ]
    },
    {
     "name": "stdout",
     "output_type": "stream",
     "text": [
      "Repeat \u001b[1m\u001b[34m#1\n",
      "Repeat \u001b[1m\u001b[34m#2\n",
      "Repeat \u001b[1m\u001b[34m#3\n",
      "Repeat \u001b[1m\u001b[34m#4\n",
      "Repeat \u001b[1m\u001b[34m#5\n"
     ]
    },
    {
     "name": "stderr",
     "output_type": "stream",
     "text": [
      "[I 2023-06-16 10:00:44,956] Trial 257 finished with value: 0.16420636798706506 and parameters: {'boosting_type': 'gbdt', 'learning_rate': 0.035563605916942305, 'lambda_l1': 0.00043978508852139686, 'lambda_l2': 0.00010076311015453497, 'max_depth': 7, 'num_leaves': 109, 'feature_fraction': 0.44602162504703957, 'min_data_in_leaf': 11, 'max_bin': 233, 'bagging_freq': 4, 'bagging_fraction': 0.5301297568311718}. Best is trial 32 with value: 0.14540191776657313.\n"
     ]
    },
    {
     "name": "stdout",
     "output_type": "stream",
     "text": [
      "Repeat \u001b[1m\u001b[34m#1\n",
      "Repeat \u001b[1m\u001b[34m#2\n",
      "Repeat \u001b[1m\u001b[34m#3\n",
      "Repeat \u001b[1m\u001b[34m#4\n",
      "Repeat \u001b[1m\u001b[34m#5\n"
     ]
    },
    {
     "name": "stderr",
     "output_type": "stream",
     "text": [
      "[I 2023-06-16 10:00:50,583] Trial 258 finished with value: 0.15571713978616694 and parameters: {'boosting_type': 'gbdt', 'learning_rate': 0.023342652157761972, 'lambda_l1': 0.0006099444504260318, 'lambda_l2': 0.0003957893932226827, 'max_depth': 7, 'num_leaves': 106, 'feature_fraction': 0.4734575572706153, 'min_data_in_leaf': 6, 'max_bin': 241, 'bagging_freq': 4, 'bagging_fraction': 0.5195263208528256}. Best is trial 32 with value: 0.14540191776657313.\n"
     ]
    },
    {
     "name": "stdout",
     "output_type": "stream",
     "text": [
      "Repeat \u001b[1m\u001b[34m#1\n",
      "Repeat \u001b[1m\u001b[34m#2\n",
      "Repeat \u001b[1m\u001b[34m#3\n",
      "Repeat \u001b[1m\u001b[34m#4\n",
      "Repeat \u001b[1m\u001b[34m#5\n"
     ]
    },
    {
     "name": "stderr",
     "output_type": "stream",
     "text": [
      "[I 2023-06-16 10:00:56,761] Trial 259 finished with value: 0.16427502096793076 and parameters: {'boosting_type': 'gbdt', 'learning_rate': 0.021035528504387394, 'lambda_l1': 0.0006286491413291035, 'lambda_l2': 0.00020732680434731082, 'max_depth': 7, 'num_leaves': 106, 'feature_fraction': 0.4693494098139681, 'min_data_in_leaf': 9, 'max_bin': 237, 'bagging_freq': 4, 'bagging_fraction': 0.5190144839217589}. Best is trial 32 with value: 0.14540191776657313.\n"
     ]
    },
    {
     "name": "stdout",
     "output_type": "stream",
     "text": [
      "Repeat \u001b[1m\u001b[34m#1\n",
      "Repeat \u001b[1m\u001b[34m#2\n",
      "Repeat \u001b[1m\u001b[34m#3\n",
      "Repeat \u001b[1m\u001b[34m#4\n",
      "Repeat \u001b[1m\u001b[34m#5\n"
     ]
    },
    {
     "name": "stderr",
     "output_type": "stream",
     "text": [
      "[I 2023-06-16 10:01:03,583] Trial 260 finished with value: 0.16027950988200296 and parameters: {'boosting_type': 'gbdt', 'learning_rate': 0.02440504423549875, 'lambda_l1': 0.0008195790312824371, 'lambda_l2': 0.0003338513725619477, 'max_depth': 7, 'num_leaves': 111, 'feature_fraction': 0.46074708400376563, 'min_data_in_leaf': 7, 'max_bin': 238, 'bagging_freq': 4, 'bagging_fraction': 0.524760265058234}. Best is trial 32 with value: 0.14540191776657313.\n"
     ]
    },
    {
     "name": "stdout",
     "output_type": "stream",
     "text": [
      "Repeat \u001b[1m\u001b[34m#1\n",
      "Repeat \u001b[1m\u001b[34m#2\n",
      "Repeat \u001b[1m\u001b[34m#3\n",
      "Repeat \u001b[1m\u001b[34m#4\n",
      "Repeat \u001b[1m\u001b[34m#5\n"
     ]
    },
    {
     "name": "stderr",
     "output_type": "stream",
     "text": [
      "[I 2023-06-16 10:01:07,889] Trial 261 finished with value: 0.16843741649274008 and parameters: {'boosting_type': 'gbdt', 'learning_rate': 0.030880604398495753, 'lambda_l1': 0.000278390869134693, 'lambda_l2': 0.000548835746917697, 'max_depth': 7, 'num_leaves': 115, 'feature_fraction': 0.4674977781734664, 'min_data_in_leaf': 13, 'max_bin': 224, 'bagging_freq': 4, 'bagging_fraction': 0.520141945540863}. Best is trial 32 with value: 0.14540191776657313.\n"
     ]
    },
    {
     "name": "stdout",
     "output_type": "stream",
     "text": [
      "Repeat \u001b[1m\u001b[34m#1\n",
      "Repeat \u001b[1m\u001b[34m#2\n",
      "Repeat \u001b[1m\u001b[34m#3\n",
      "Repeat \u001b[1m\u001b[34m#4\n",
      "Repeat \u001b[1m\u001b[34m#5\n"
     ]
    },
    {
     "name": "stderr",
     "output_type": "stream",
     "text": [
      "[I 2023-06-16 10:01:11,438] Trial 262 finished with value: 0.15883042320111956 and parameters: {'boosting_type': 'gbdt', 'learning_rate': 0.04084521492585393, 'lambda_l1': 0.0015921807102459644, 'lambda_l2': 7.087724321461783e-05, 'max_depth': 7, 'num_leaves': 105, 'feature_fraction': 0.4756105309200762, 'min_data_in_leaf': 10, 'max_bin': 245, 'bagging_freq': 4, 'bagging_fraction': 0.5303338806347866}. Best is trial 32 with value: 0.14540191776657313.\n"
     ]
    },
    {
     "name": "stdout",
     "output_type": "stream",
     "text": [
      "Repeat \u001b[1m\u001b[34m#1\n",
      "Repeat \u001b[1m\u001b[34m#2\n",
      "Repeat \u001b[1m\u001b[34m#3\n",
      "Repeat \u001b[1m\u001b[34m#4\n",
      "Repeat \u001b[1m\u001b[34m#5\n"
     ]
    },
    {
     "name": "stderr",
     "output_type": "stream",
     "text": [
      "[I 2023-06-16 10:01:17,683] Trial 263 finished with value: 0.15956829566818947 and parameters: {'boosting_type': 'gbdt', 'learning_rate': 0.01823475584317103, 'lambda_l1': 0.001138949905710036, 'lambda_l2': 4.896233638233726e-05, 'max_depth': 7, 'num_leaves': 109, 'feature_fraction': 0.4555313159725815, 'min_data_in_leaf': 7, 'max_bin': 230, 'bagging_freq': 4, 'bagging_fraction': 0.5120477119664425}. Best is trial 32 with value: 0.14540191776657313.\n"
     ]
    },
    {
     "name": "stdout",
     "output_type": "stream",
     "text": [
      "Repeat \u001b[1m\u001b[34m#1\n",
      "Repeat \u001b[1m\u001b[34m#2\n",
      "Repeat \u001b[1m\u001b[34m#3\n",
      "Repeat \u001b[1m\u001b[34m#4\n",
      "Repeat \u001b[1m\u001b[34m#5\n"
     ]
    },
    {
     "name": "stderr",
     "output_type": "stream",
     "text": [
      "[I 2023-06-16 10:01:22,697] Trial 264 finished with value: 0.15964547486910333 and parameters: {'boosting_type': 'gbdt', 'learning_rate': 0.025658844642402517, 'lambda_l1': 0.0007645493761828013, 'lambda_l2': 0.00021828941175050127, 'max_depth': 7, 'num_leaves': 112, 'feature_fraction': 0.5505702869572282, 'min_data_in_leaf': 6, 'max_bin': 249, 'bagging_freq': 4, 'bagging_fraction': 0.5265946779331357}. Best is trial 32 with value: 0.14540191776657313.\n"
     ]
    },
    {
     "name": "stdout",
     "output_type": "stream",
     "text": [
      "Repeat \u001b[1m\u001b[34m#1\n",
      "Repeat \u001b[1m\u001b[34m#2\n",
      "Repeat \u001b[1m\u001b[34m#3\n",
      "Repeat \u001b[1m\u001b[34m#4\n",
      "Repeat \u001b[1m\u001b[34m#5\n"
     ]
    },
    {
     "name": "stderr",
     "output_type": "stream",
     "text": [
      "[I 2023-06-16 10:01:25,756] Trial 265 finished with value: 0.167298382537277 and parameters: {'boosting_type': 'gbdt', 'learning_rate': 0.04560949646995624, 'lambda_l1': 0.00047955630947828584, 'lambda_l2': 0.0007049832023196028, 'max_depth': 7, 'num_leaves': 78, 'feature_fraction': 0.5701055038593724, 'min_data_in_leaf': 9, 'max_bin': 241, 'bagging_freq': 4, 'bagging_fraction': 0.506725146917332}. Best is trial 32 with value: 0.14540191776657313.\n"
     ]
    },
    {
     "name": "stdout",
     "output_type": "stream",
     "text": [
      "Repeat \u001b[1m\u001b[34m#1\n",
      "Repeat \u001b[1m\u001b[34m#2\n",
      "Repeat \u001b[1m\u001b[34m#3\n",
      "Repeat \u001b[1m\u001b[34m#4\n"
     ]
    },
    {
     "name": "stderr",
     "output_type": "stream",
     "text": [
      "[I 2023-06-16 10:01:26,396] Trial 266 finished with value: 0.6973915667428459 and parameters: {'boosting_type': 'gbdt', 'learning_rate': 0.0355472342015166, 'lambda_l1': 0.0003096579153002352, 'lambda_l2': 6.0300758515794254e-06, 'max_depth': 7, 'num_leaves': 107, 'feature_fraction': 0.5930870362482363, 'min_data_in_leaf': 82, 'max_bin': 254, 'bagging_freq': 4, 'bagging_fraction': 0.5219551824915915}. Best is trial 32 with value: 0.14540191776657313.\n"
     ]
    },
    {
     "name": "stdout",
     "output_type": "stream",
     "text": [
      "Repeat \u001b[1m\u001b[34m#5\n",
      "Repeat \u001b[1m\u001b[34m#1\n",
      "Repeat \u001b[1m\u001b[34m#2\n",
      "Repeat \u001b[1m\u001b[34m#3\n",
      "Repeat \u001b[1m\u001b[34m#4\n",
      "Repeat \u001b[1m\u001b[34m#5\n"
     ]
    },
    {
     "name": "stderr",
     "output_type": "stream",
     "text": [
      "[I 2023-06-16 10:01:29,782] Trial 267 finished with value: 0.35527844077027265 and parameters: {'boosting_type': 'gbdt', 'learning_rate': 0.028498604692997937, 'lambda_l1': 0.00020987641778259845, 'lambda_l2': 3.521740151735081e-05, 'max_depth': 7, 'num_leaves': 105, 'feature_fraction': 0.4745480231429462, 'min_data_in_leaf': 48, 'max_bin': 234, 'bagging_freq': 4, 'bagging_fraction': 0.5373971303556302}. Best is trial 32 with value: 0.14540191776657313.\n"
     ]
    },
    {
     "name": "stdout",
     "output_type": "stream",
     "text": [
      "Repeat \u001b[1m\u001b[34m#1\n",
      "Repeat \u001b[1m\u001b[34m#2\n",
      "Repeat \u001b[1m\u001b[34m#3\n",
      "Repeat \u001b[1m\u001b[34m#4\n",
      "Repeat \u001b[1m\u001b[34m#5\n"
     ]
    },
    {
     "name": "stderr",
     "output_type": "stream",
     "text": [
      "[I 2023-06-16 10:02:02,328] Trial 268 finished with value: 0.1743794163278189 and parameters: {'boosting_type': 'dart', 'learning_rate': 0.02232663494767453, 'lambda_l1': 0.00047618143491106463, 'lambda_l2': 0.00012501076033922336, 'max_depth': 7, 'num_leaves': 103, 'feature_fraction': 0.43430147135062325, 'min_data_in_leaf': 5, 'max_bin': 219, 'bagging_freq': 4, 'bagging_fraction': 0.546610008531563}. Best is trial 32 with value: 0.14540191776657313.\n"
     ]
    },
    {
     "name": "stdout",
     "output_type": "stream",
     "text": [
      "Repeat \u001b[1m\u001b[34m#1\n",
      "Repeat \u001b[1m\u001b[34m#2\n",
      "Repeat \u001b[1m\u001b[34m#3\n",
      "Repeat \u001b[1m\u001b[34m#4\n",
      "Repeat \u001b[1m\u001b[34m#5\n"
     ]
    },
    {
     "name": "stderr",
     "output_type": "stream",
     "text": [
      "[I 2023-06-16 10:02:06,269] Trial 269 finished with value: 0.1536088809874106 and parameters: {'boosting_type': 'gbdt', 'learning_rate': 0.04711107574384003, 'lambda_l1': 0.001458815686153683, 'lambda_l2': 0.0003391013148021464, 'max_depth': 7, 'num_leaves': 117, 'feature_fraction': 0.46410092612045456, 'min_data_in_leaf': 7, 'max_bin': 238, 'bagging_freq': 4, 'bagging_fraction': 0.5131610158437598}. Best is trial 32 with value: 0.14540191776657313.\n"
     ]
    },
    {
     "name": "stdout",
     "output_type": "stream",
     "text": [
      "Repeat \u001b[1m\u001b[34m#1\n",
      "Repeat \u001b[1m\u001b[34m#2\n",
      "Repeat \u001b[1m\u001b[34m#3\n",
      "Repeat \u001b[1m\u001b[34m#4\n",
      "Repeat \u001b[1m\u001b[34m#5\n"
     ]
    },
    {
     "name": "stderr",
     "output_type": "stream",
     "text": [
      "[I 2023-06-16 10:02:09,906] Trial 270 finished with value: 0.16155439945432837 and parameters: {'boosting_type': 'gbdt', 'learning_rate': 0.045438991402476814, 'lambda_l1': 0.0015615162951106518, 'lambda_l2': 0.0007931326359421527, 'max_depth': 7, 'num_leaves': 117, 'feature_fraction': 0.4504071099560315, 'min_data_in_leaf': 7, 'max_bin': 236, 'bagging_freq': 4, 'bagging_fraction': 0.5128008008586096}. Best is trial 32 with value: 0.14540191776657313.\n"
     ]
    },
    {
     "name": "stdout",
     "output_type": "stream",
     "text": [
      "Repeat \u001b[1m\u001b[34m#1\n",
      "Repeat \u001b[1m\u001b[34m#2\n",
      "Repeat \u001b[1m\u001b[34m#3\n",
      "Repeat \u001b[1m\u001b[34m#4\n",
      "Repeat \u001b[1m\u001b[34m#5\n"
     ]
    },
    {
     "name": "stderr",
     "output_type": "stream",
     "text": [
      "[I 2023-06-16 10:02:15,212] Trial 271 finished with value: 0.15565822484394085 and parameters: {'boosting_type': 'gbdt', 'learning_rate': 0.05007853458480938, 'lambda_l1': 0.0019943540765675265, 'lambda_l2': 0.0003576768779950933, 'max_depth': 7, 'num_leaves': 119, 'feature_fraction': 0.46413697845975205, 'min_data_in_leaf': 5, 'max_bin': 230, 'bagging_freq': 4, 'bagging_fraction': 0.5028788056320735}. Best is trial 32 with value: 0.14540191776657313.\n"
     ]
    },
    {
     "name": "stdout",
     "output_type": "stream",
     "text": [
      "Repeat \u001b[1m\u001b[34m#1\n",
      "Repeat \u001b[1m\u001b[34m#2\n",
      "Repeat \u001b[1m\u001b[34m#3\n",
      "Repeat \u001b[1m\u001b[34m#4\n",
      "Repeat \u001b[1m\u001b[34m#5\n"
     ]
    },
    {
     "name": "stderr",
     "output_type": "stream",
     "text": [
      "[I 2023-06-16 10:02:18,785] Trial 272 finished with value: 0.1591056162937042 and parameters: {'boosting_type': 'gbdt', 'learning_rate': 0.052438042247050745, 'lambda_l1': 0.002606192822088273, 'lambda_l2': 0.00034724585261265386, 'max_depth': 7, 'num_leaves': 121, 'feature_fraction': 0.4630805269487835, 'min_data_in_leaf': 5, 'max_bin': 238, 'bagging_freq': 4, 'bagging_fraction': 0.5025108544176671}. Best is trial 32 with value: 0.14540191776657313.\n"
     ]
    },
    {
     "name": "stdout",
     "output_type": "stream",
     "text": [
      "Repeat \u001b[1m\u001b[34m#1\n",
      "Repeat \u001b[1m\u001b[34m#2\n",
      "Repeat \u001b[1m\u001b[34m#3\n",
      "Repeat \u001b[1m\u001b[34m#4\n",
      "Repeat \u001b[1m\u001b[34m#5\n"
     ]
    },
    {
     "name": "stderr",
     "output_type": "stream",
     "text": [
      "[I 2023-06-16 10:02:29,168] Trial 273 finished with value: 0.17053879606583067 and parameters: {'boosting_type': 'gbdt', 'learning_rate': 0.009505089682952607, 'lambda_l1': 0.0010246108870364853, 'lambda_l2': 0.0004602938923386567, 'max_depth': 7, 'num_leaves': 119, 'feature_fraction': 0.4449663778438792, 'min_data_in_leaf': 7, 'max_bin': 230, 'bagging_freq': 4, 'bagging_fraction': 0.5134694559960842}. Best is trial 32 with value: 0.14540191776657313.\n"
     ]
    },
    {
     "name": "stdout",
     "output_type": "stream",
     "text": [
      "Repeat \u001b[1m\u001b[34m#1\n",
      "Repeat \u001b[1m\u001b[34m#2\n",
      "Repeat \u001b[1m\u001b[34m#3\n",
      "Repeat \u001b[1m\u001b[34m#4\n",
      "Repeat \u001b[1m\u001b[34m#5\n"
     ]
    },
    {
     "name": "stderr",
     "output_type": "stream",
     "text": [
      "[I 2023-06-16 10:02:31,774] Trial 274 finished with value: 0.16590340626488023 and parameters: {'boosting_type': 'gbdt', 'learning_rate': 0.05040756078407772, 'lambda_l1': 0.002122615499069343, 'lambda_l2': 1.7378844097387656e-07, 'max_depth': 7, 'num_leaves': 124, 'feature_fraction': 0.47041440393922324, 'min_data_in_leaf': 11, 'max_bin': 228, 'bagging_freq': 4, 'bagging_fraction': 0.5234316696325334}. Best is trial 32 with value: 0.14540191776657313.\n"
     ]
    },
    {
     "name": "stdout",
     "output_type": "stream",
     "text": [
      "Repeat \u001b[1m\u001b[34m#1\n",
      "Repeat \u001b[1m\u001b[34m#2\n",
      "Repeat \u001b[1m\u001b[34m#3\n",
      "Repeat \u001b[1m\u001b[34m#4\n",
      "Repeat \u001b[1m\u001b[34m#5\n"
     ]
    },
    {
     "name": "stderr",
     "output_type": "stream",
     "text": [
      "[I 2023-06-16 10:02:37,581] Trial 275 finished with value: 0.16573104890900253 and parameters: {'boosting_type': 'gbdt', 'learning_rate': 0.01637973981106627, 'lambda_l1': 0.001328633278289928, 'lambda_l2': 9.19858536531256e-05, 'max_depth': 7, 'num_leaves': 115, 'feature_fraction': 0.4553360280135087, 'min_data_in_leaf': 8, 'max_bin': 240, 'bagging_freq': 4, 'bagging_fraction': 0.5011655797321012}. Best is trial 32 with value: 0.14540191776657313.\n"
     ]
    },
    {
     "name": "stdout",
     "output_type": "stream",
     "text": [
      "Repeat \u001b[1m\u001b[34m#1\n",
      "Repeat \u001b[1m\u001b[34m#2\n",
      "Repeat \u001b[1m\u001b[34m#3\n",
      "Repeat \u001b[1m\u001b[34m#4\n",
      "Repeat \u001b[1m\u001b[34m#5\n"
     ]
    },
    {
     "name": "stderr",
     "output_type": "stream",
     "text": [
      "[I 2023-06-16 10:02:40,862] Trial 276 finished with value: 0.15614912003548415 and parameters: {'boosting_type': 'gbdt', 'learning_rate': 0.03999095715080012, 'lambda_l1': 0.003751443232958316, 'lambda_l2': 0.00034283372150953345, 'max_depth': 7, 'num_leaves': 118, 'feature_fraction': 0.563105214810914, 'min_data_in_leaf': 5, 'max_bin': 232, 'bagging_freq': 4, 'bagging_fraction': 0.5157496575543556}. Best is trial 32 with value: 0.14540191776657313.\n"
     ]
    },
    {
     "name": "stdout",
     "output_type": "stream",
     "text": [
      "Repeat \u001b[1m\u001b[34m#1\n",
      "Repeat \u001b[1m\u001b[34m#2\n",
      "Repeat \u001b[1m\u001b[34m#3\n",
      "Repeat \u001b[1m\u001b[34m#4\n",
      "Repeat \u001b[1m\u001b[34m#5\n"
     ]
    },
    {
     "name": "stderr",
     "output_type": "stream",
     "text": [
      "[I 2023-06-16 10:02:44,561] Trial 277 finished with value: 0.16475297139668893 and parameters: {'boosting_type': 'gbdt', 'learning_rate': 0.04027033674427909, 'lambda_l1': 0.003012177361478058, 'lambda_l2': 0.0003167526354475, 'max_depth': 7, 'num_leaves': 118, 'feature_fraction': 0.5552250663764363, 'min_data_in_leaf': 7, 'max_bin': 248, 'bagging_freq': 4, 'bagging_fraction': 0.5301004452452405}. Best is trial 32 with value: 0.14540191776657313.\n"
     ]
    },
    {
     "name": "stdout",
     "output_type": "stream",
     "text": [
      "Repeat \u001b[1m\u001b[34m#1\n",
      "Repeat \u001b[1m\u001b[34m#2\n",
      "Repeat \u001b[1m\u001b[34m#3\n",
      "Repeat \u001b[1m\u001b[34m#4\n",
      "Repeat \u001b[1m\u001b[34m#5\n"
     ]
    },
    {
     "name": "stderr",
     "output_type": "stream",
     "text": [
      "[I 2023-06-16 10:02:48,300] Trial 278 finished with value: 0.15823185915347443 and parameters: {'boosting_type': 'gbdt', 'learning_rate': 0.05027194432672113, 'lambda_l1': 0.003569442937802861, 'lambda_l2': 0.00015323136464642317, 'max_depth': 7, 'num_leaves': 121, 'feature_fraction': 0.5634497836723925, 'min_data_in_leaf': 5, 'max_bin': 233, 'bagging_freq': 4, 'bagging_fraction': 0.514667625767179}. Best is trial 32 with value: 0.14540191776657313.\n"
     ]
    },
    {
     "name": "stdout",
     "output_type": "stream",
     "text": [
      "Repeat \u001b[1m\u001b[34m#1\n",
      "Repeat \u001b[1m\u001b[34m#2\n",
      "Repeat \u001b[1m\u001b[34m#3\n",
      "Repeat \u001b[1m\u001b[34m#4\n",
      "Repeat \u001b[1m\u001b[34m#5\n"
     ]
    },
    {
     "name": "stderr",
     "output_type": "stream",
     "text": [
      "[I 2023-06-16 10:02:52,808] Trial 279 finished with value: 0.1685530050380009 and parameters: {'boosting_type': 'goss', 'learning_rate': 0.03435209113049722, 'lambda_l1': 0.001840529122178642, 'lambda_l2': 0.0002295725930154377, 'max_depth': 7, 'num_leaves': 117, 'feature_fraction': 0.5753647478743672, 'min_data_in_leaf': 8, 'max_bin': 233, 'bagging_freq': 4}. Best is trial 32 with value: 0.14540191776657313.\n"
     ]
    },
    {
     "name": "stdout",
     "output_type": "stream",
     "text": [
      "Repeat \u001b[1m\u001b[34m#1\n",
      "Repeat \u001b[1m\u001b[34m#2\n",
      "Repeat \u001b[1m\u001b[34m#3\n",
      "Repeat \u001b[1m\u001b[34m#4\n",
      "Repeat \u001b[1m\u001b[34m#5\n"
     ]
    },
    {
     "name": "stderr",
     "output_type": "stream",
     "text": [
      "[I 2023-06-16 10:02:54,565] Trial 280 finished with value: 0.18760827453183757 and parameters: {'boosting_type': 'gbdt', 'learning_rate': 0.22934067252655657, 'lambda_l1': 0.0006264180853232163, 'lambda_l2': 0.0004963059287948336, 'max_depth': 7, 'num_leaves': 123, 'feature_fraction': 0.5638708101325767, 'min_data_in_leaf': 10, 'max_bin': 224, 'bagging_freq': 4, 'bagging_fraction': 0.5183437034250148}. Best is trial 32 with value: 0.14540191776657313.\n"
     ]
    },
    {
     "name": "stdout",
     "output_type": "stream",
     "text": [
      "Repeat \u001b[1m\u001b[34m#1\n",
      "Repeat \u001b[1m\u001b[34m#2\n",
      "Repeat \u001b[1m\u001b[34m#3\n",
      "Repeat \u001b[1m\u001b[34m#4\n",
      "Repeat \u001b[1m\u001b[34m#5\n"
     ]
    },
    {
     "name": "stderr",
     "output_type": "stream",
     "text": [
      "[I 2023-06-16 10:02:59,093] Trial 281 finished with value: 0.15478840942181046 and parameters: {'boosting_type': 'gbdt', 'learning_rate': 0.039227994229860855, 'lambda_l1': 0.00035727046531296326, 'lambda_l2': 0.0003106791962583089, 'max_depth': 7, 'num_leaves': 114, 'feature_fraction': 0.46351095750905946, 'min_data_in_leaf': 5, 'max_bin': 228, 'bagging_freq': 4, 'bagging_fraction': 0.5069664675355093}. Best is trial 32 with value: 0.14540191776657313.\n"
     ]
    },
    {
     "name": "stdout",
     "output_type": "stream",
     "text": [
      "Repeat \u001b[1m\u001b[34m#1\n",
      "Repeat \u001b[1m\u001b[34m#2\n",
      "Repeat \u001b[1m\u001b[34m#3\n",
      "Repeat \u001b[1m\u001b[34m#4\n",
      "Repeat \u001b[1m\u001b[34m#5\n"
     ]
    },
    {
     "name": "stderr",
     "output_type": "stream",
     "text": [
      "[I 2023-06-16 10:03:01,177] Trial 282 finished with value: 0.17424627264644435 and parameters: {'boosting_type': 'gbdt', 'learning_rate': 0.1770636998924274, 'lambda_l1': 0.00031580213642195024, 'lambda_l2': 0.00027589302665053457, 'max_depth': 7, 'num_leaves': 114, 'feature_fraction': 0.4615022422847912, 'min_data_in_leaf': 6, 'max_bin': 228, 'bagging_freq': 4, 'bagging_fraction': 0.5049615681862866}. Best is trial 32 with value: 0.14540191776657313.\n"
     ]
    },
    {
     "name": "stdout",
     "output_type": "stream",
     "text": [
      "Repeat \u001b[1m\u001b[34m#1\n",
      "Repeat \u001b[1m\u001b[34m#2\n",
      "Repeat \u001b[1m\u001b[34m#3\n",
      "Repeat \u001b[1m\u001b[34m#4\n",
      "Repeat \u001b[1m\u001b[34m#5\n"
     ]
    },
    {
     "name": "stderr",
     "output_type": "stream",
     "text": [
      "[I 2023-06-16 10:03:04,469] Trial 283 finished with value: 0.16892811565952026 and parameters: {'boosting_type': 'gbdt', 'learning_rate': 0.04805973375435598, 'lambda_l1': 0.0010300046907033465, 'lambda_l2': 0.0001624980149737553, 'max_depth': 7, 'num_leaves': 114, 'feature_fraction': 0.4677248534743379, 'min_data_in_leaf': 12, 'max_bin': 235, 'bagging_freq': 4, 'bagging_fraction': 0.48761620369904274}. Best is trial 32 with value: 0.14540191776657313.\n"
     ]
    },
    {
     "name": "stdout",
     "output_type": "stream",
     "text": [
      "Repeat \u001b[1m\u001b[34m#1\n",
      "Repeat \u001b[1m\u001b[34m#2\n",
      "Repeat \u001b[1m\u001b[34m#3\n",
      "Repeat \u001b[1m\u001b[34m#4\n",
      "Repeat \u001b[1m\u001b[34m#5\n"
     ]
    },
    {
     "name": "stderr",
     "output_type": "stream",
     "text": [
      "[I 2023-06-16 10:03:08,392] Trial 284 finished with value: 0.1645823838668175 and parameters: {'boosting_type': 'gbdt', 'learning_rate': 0.04101149729436933, 'lambda_l1': 0.007641339899997163, 'lambda_l2': 7.080546045721756e-05, 'max_depth': 7, 'num_leaves': 116, 'feature_fraction': 0.4785947031344059, 'min_data_in_leaf': 9, 'max_bin': 244, 'bagging_freq': 4, 'bagging_fraction': 0.5020961096984368}. Best is trial 32 with value: 0.14540191776657313.\n"
     ]
    },
    {
     "name": "stdout",
     "output_type": "stream",
     "text": [
      "Repeat \u001b[1m\u001b[34m#1\n",
      "Repeat \u001b[1m\u001b[34m#2\n",
      "Repeat \u001b[1m\u001b[34m#3\n",
      "Repeat \u001b[1m\u001b[34m#4\n",
      "Repeat \u001b[1m\u001b[34m#5\n"
     ]
    },
    {
     "name": "stderr",
     "output_type": "stream",
     "text": [
      "[I 2023-06-16 10:03:24,130] Trial 285 finished with value: 0.1784282675051712 and parameters: {'boosting_type': 'gbdt', 'learning_rate': 0.005887242254634092, 'lambda_l1': 0.00018907638636828588, 'lambda_l2': 0.000291598684097851, 'max_depth': 7, 'num_leaves': 120, 'feature_fraction': 0.4553728327368994, 'min_data_in_leaf': 5, 'max_bin': 240, 'bagging_freq': 4, 'bagging_fraction': 0.535102355337908}. Best is trial 32 with value: 0.14540191776657313.\n"
     ]
    },
    {
     "name": "stdout",
     "output_type": "stream",
     "text": [
      "Repeat \u001b[1m\u001b[34m#1\n",
      "Repeat \u001b[1m\u001b[34m#2\n",
      "Repeat \u001b[1m\u001b[34m#3\n",
      "Repeat \u001b[1m\u001b[34m#4\n",
      "Repeat \u001b[1m\u001b[34m#5\n"
     ]
    },
    {
     "name": "stderr",
     "output_type": "stream",
     "text": [
      "[I 2023-06-16 10:03:37,885] Trial 286 finished with value: 0.20559008687548488 and parameters: {'boosting_type': 'gbdt', 'learning_rate': 0.00452047889487707, 'lambda_l1': 0.0004380731501752859, 'lambda_l2': 0.0003894256865609998, 'max_depth': 7, 'num_leaves': 118, 'feature_fraction': 0.5810802510296258, 'min_data_in_leaf': 7, 'max_bin': 225, 'bagging_freq': 4, 'bagging_fraction': 0.5117516875225983}. Best is trial 32 with value: 0.14540191776657313.\n"
     ]
    },
    {
     "name": "stdout",
     "output_type": "stream",
     "text": [
      "Repeat \u001b[1m\u001b[34m#1\n",
      "Repeat \u001b[1m\u001b[34m#2\n",
      "Repeat \u001b[1m\u001b[34m#3\n",
      "Repeat \u001b[1m\u001b[34m#4\n",
      "Repeat \u001b[1m\u001b[34m#5\n"
     ]
    },
    {
     "name": "stderr",
     "output_type": "stream",
     "text": [
      "[I 2023-06-16 10:03:40,933] Trial 287 finished with value: 0.162356484118306 and parameters: {'boosting_type': 'gbdt', 'learning_rate': 0.05629817609606601, 'lambda_l1': 3.898938699278868e-08, 'lambda_l2': 0.00019403466103279585, 'max_depth': 7, 'num_leaves': 112, 'feature_fraction': 0.4727772980638576, 'min_data_in_leaf': 8, 'max_bin': 231, 'bagging_freq': 4, 'bagging_fraction': 0.5226765354720754}. Best is trial 32 with value: 0.14540191776657313.\n"
     ]
    },
    {
     "name": "stdout",
     "output_type": "stream",
     "text": [
      "Repeat \u001b[1m\u001b[34m#1\n",
      "Repeat \u001b[1m\u001b[34m#2\n",
      "Repeat \u001b[1m\u001b[34m#3\n",
      "Repeat \u001b[1m\u001b[34m#4\n",
      "Repeat \u001b[1m\u001b[34m#5\n"
     ]
    },
    {
     "name": "stderr",
     "output_type": "stream",
     "text": [
      "[I 2023-06-16 10:03:45,753] Trial 288 finished with value: 0.16037427550158218 and parameters: {'boosting_type': 'gbdt', 'learning_rate': 0.031601720887421296, 'lambda_l1': 0.000620899206733098, 'lambda_l2': 0.0005031014449410602, 'max_depth': 7, 'num_leaves': 15, 'feature_fraction': 0.46215801307758286, 'min_data_in_leaf': 5, 'max_bin': 218, 'bagging_freq': 4, 'bagging_fraction': 0.5087797447310612}. Best is trial 32 with value: 0.14540191776657313.\n"
     ]
    },
    {
     "name": "stdout",
     "output_type": "stream",
     "text": [
      "Repeat \u001b[1m\u001b[34m#1\n",
      "Repeat \u001b[1m\u001b[34m#2\n",
      "Repeat \u001b[1m\u001b[34m#3\n",
      "Repeat \u001b[1m\u001b[34m#4\n",
      "Repeat \u001b[1m\u001b[34m#5\n"
     ]
    },
    {
     "name": "stderr",
     "output_type": "stream",
     "text": [
      "[I 2023-06-16 10:03:49,516] Trial 289 finished with value: 0.1596151731715126 and parameters: {'boosting_type': 'gbdt', 'learning_rate': 0.04004504659157254, 'lambda_l1': 0.0002862616420114474, 'lambda_l2': 0.0010764724506821424, 'max_depth': 7, 'num_leaves': 114, 'feature_fraction': 0.439042317080394, 'min_data_in_leaf': 7, 'max_bin': 246, 'bagging_freq': 4, 'bagging_fraction': 0.5002604191381338}. Best is trial 32 with value: 0.14540191776657313.\n"
     ]
    },
    {
     "name": "stdout",
     "output_type": "stream",
     "text": [
      "Repeat \u001b[1m\u001b[34m#1\n",
      "Repeat \u001b[1m\u001b[34m#2\n",
      "Repeat \u001b[1m\u001b[34m#3\n",
      "Repeat \u001b[1m\u001b[34m#4\n",
      "Repeat \u001b[1m\u001b[34m#5\n"
     ]
    },
    {
     "name": "stderr",
     "output_type": "stream",
     "text": [
      "[I 2023-06-16 10:03:52,438] Trial 290 finished with value: 0.16334722471953214 and parameters: {'boosting_type': 'gbdt', 'learning_rate': 0.04706748841380714, 'lambda_l1': 2.293018974439631e-08, 'lambda_l2': 0.00011491693605865207, 'max_depth': 7, 'num_leaves': 110, 'feature_fraction': 0.47217649111608406, 'min_data_in_leaf': 10, 'max_bin': 235, 'bagging_freq': 4, 'bagging_fraction': 0.5323151120350437}. Best is trial 32 with value: 0.14540191776657313.\n"
     ]
    },
    {
     "name": "stdout",
     "output_type": "stream",
     "text": [
      "Repeat \u001b[1m\u001b[34m#1\n",
      "Repeat \u001b[1m\u001b[34m#2\n",
      "Repeat \u001b[1m\u001b[34m#3\n",
      "Repeat \u001b[1m\u001b[34m#4\n",
      "Repeat \u001b[1m\u001b[34m#5\n"
     ]
    },
    {
     "name": "stderr",
     "output_type": "stream",
     "text": [
      "[I 2023-06-16 10:03:55,428] Trial 291 finished with value: 0.15908846635884463 and parameters: {'boosting_type': 'gbdt', 'learning_rate': 0.06435047229554385, 'lambda_l1': 0.005057994800766704, 'lambda_l2': 0.0006225073527027972, 'max_depth': 9, 'num_leaves': 116, 'feature_fraction': 0.46390703797287297, 'min_data_in_leaf': 5, 'max_bin': 240, 'bagging_freq': 4, 'bagging_fraction': 0.5445939652131706}. Best is trial 32 with value: 0.14540191776657313.\n"
     ]
    },
    {
     "name": "stdout",
     "output_type": "stream",
     "text": [
      "Repeat \u001b[1m\u001b[34m#1\n",
      "Repeat \u001b[1m\u001b[34m#2\n",
      "Repeat \u001b[1m\u001b[34m#3\n",
      "Repeat \u001b[1m\u001b[34m#4\n",
      "Repeat \u001b[1m\u001b[34m#5\n"
     ]
    },
    {
     "name": "stderr",
     "output_type": "stream",
     "text": [
      "[I 2023-06-16 10:04:00,257] Trial 292 finished with value: 0.1611140084091178 and parameters: {'boosting_type': 'gbdt', 'learning_rate': 0.026165621764987927, 'lambda_l1': 0.00013704442463203167, 'lambda_l2': 0.000293971852307638, 'max_depth': 7, 'num_leaves': 113, 'feature_fraction': 0.5492913737177237, 'min_data_in_leaf': 7, 'max_bin': 228, 'bagging_freq': 4, 'bagging_fraction': 0.5210606685409496}. Best is trial 32 with value: 0.14540191776657313.\n"
     ]
    },
    {
     "name": "stdout",
     "output_type": "stream",
     "text": [
      "Repeat \u001b[1m\u001b[34m#1\n",
      "Repeat \u001b[1m\u001b[34m#2\n",
      "Repeat \u001b[1m\u001b[34m#3\n",
      "Repeat \u001b[1m\u001b[34m#4\n",
      "Repeat \u001b[1m\u001b[34m#5\n"
     ]
    },
    {
     "name": "stderr",
     "output_type": "stream",
     "text": [
      "[I 2023-06-16 10:04:04,212] Trial 293 finished with value: 0.16522336342500937 and parameters: {'boosting_type': 'gbdt', 'learning_rate': 0.03721882467166625, 'lambda_l1': 0.0015160059838757432, 'lambda_l2': 0.00016335897053502076, 'max_depth': 7, 'num_leaves': 110, 'feature_fraction': 0.4500596785357298, 'min_data_in_leaf': 9, 'max_bin': 237, 'bagging_freq': 4, 'bagging_fraction': 0.5096198238034948}. Best is trial 32 with value: 0.14540191776657313.\n"
     ]
    },
    {
     "name": "stdout",
     "output_type": "stream",
     "text": [
      "Repeat \u001b[1m\u001b[34m#1\n",
      "Repeat \u001b[1m\u001b[34m#2\n",
      "Repeat \u001b[1m\u001b[34m#3\n",
      "Repeat \u001b[1m\u001b[34m#4\n",
      "Repeat \u001b[1m\u001b[34m#5\n"
     ]
    },
    {
     "name": "stderr",
     "output_type": "stream",
     "text": [
      "[I 2023-06-16 10:04:35,790] Trial 294 finished with value: 0.19936945456592284 and parameters: {'boosting_type': 'dart', 'learning_rate': 0.05579364146601582, 'lambda_l1': 5.867974935022549e-08, 'lambda_l2': 2.311837458630762e-05, 'max_depth': 7, 'num_leaves': 119, 'feature_fraction': 0.48079739326648757, 'min_data_in_leaf': 5, 'max_bin': 250, 'bagging_freq': 4, 'bagging_fraction': 0.5260834935108885}. Best is trial 32 with value: 0.14540191776657313.\n"
     ]
    },
    {
     "name": "stdout",
     "output_type": "stream",
     "text": [
      "Repeat \u001b[1m\u001b[34m#1\n",
      "Repeat \u001b[1m\u001b[34m#2\n",
      "Repeat \u001b[1m\u001b[34m#3\n",
      "Repeat \u001b[1m\u001b[34m#4\n",
      "Repeat \u001b[1m\u001b[34m#5\n"
     ]
    },
    {
     "name": "stderr",
     "output_type": "stream",
     "text": [
      "[I 2023-06-16 10:04:37,492] Trial 295 finished with value: 0.17993708943320713 and parameters: {'boosting_type': 'gbdt', 'learning_rate': 0.16969899872830654, 'lambda_l1': 0.0003616911960549882, 'lambda_l2': 4.9467323454705e-05, 'max_depth': 7, 'num_leaves': 52, 'feature_fraction': 0.5850924992322292, 'min_data_in_leaf': 12, 'max_bin': 222, 'bagging_freq': 4, 'bagging_fraction': 0.48640271093341664}. Best is trial 32 with value: 0.14540191776657313.\n"
     ]
    },
    {
     "name": "stdout",
     "output_type": "stream",
     "text": [
      "Repeat \u001b[1m\u001b[34m#1\n",
      "Repeat \u001b[1m\u001b[34m#2\n",
      "Repeat \u001b[1m\u001b[34m#3\n",
      "Repeat \u001b[1m\u001b[34m#4\n",
      "Repeat \u001b[1m\u001b[34m#5\n"
     ]
    },
    {
     "name": "stderr",
     "output_type": "stream",
     "text": [
      "[I 2023-06-16 10:04:45,988] Trial 296 finished with value: 0.16606022640634938 and parameters: {'boosting_type': 'gbdt', 'learning_rate': 0.01462135547267606, 'lambda_l1': 0.00020790226966117687, 'lambda_l2': 0.0011867228708923622, 'max_depth': 7, 'num_leaves': 72, 'feature_fraction': 0.567719676659486, 'min_data_in_leaf': 7, 'max_bin': 255, 'bagging_freq': 4, 'bagging_fraction': 0.5185156817808051}. Best is trial 32 with value: 0.14540191776657313.\n"
     ]
    },
    {
     "name": "stdout",
     "output_type": "stream",
     "text": [
      "Repeat \u001b[1m\u001b[34m#1\n",
      "Repeat \u001b[1m\u001b[34m#2\n",
      "Repeat \u001b[1m\u001b[34m#3\n",
      "Repeat \u001b[1m\u001b[34m#4\n",
      "Repeat \u001b[1m\u001b[34m#5\n"
     ]
    },
    {
     "name": "stderr",
     "output_type": "stream",
     "text": [
      "[I 2023-06-16 10:04:54,844] Trial 297 finished with value: 0.6271567173258139 and parameters: {'boosting_type': 'gbdt', 'learning_rate': 0.00018315136153542822, 'lambda_l1': 0.0010351467003150714, 'lambda_l2': 0.0003954658964939384, 'max_depth': 7, 'num_leaves': 108, 'feature_fraction': 0.48070342549900213, 'min_data_in_leaf': 9, 'max_bin': 231, 'bagging_freq': 4, 'bagging_fraction': 0.4974081377117984}. Best is trial 32 with value: 0.14540191776657313.\n"
     ]
    },
    {
     "name": "stdout",
     "output_type": "stream",
     "text": [
      "Repeat \u001b[1m\u001b[34m#1\n",
      "Repeat \u001b[1m\u001b[34m#2\n",
      "Repeat \u001b[1m\u001b[34m#3\n",
      "Repeat \u001b[1m\u001b[34m#4\n",
      "Repeat \u001b[1m\u001b[34m#5\n"
     ]
    },
    {
     "name": "stderr",
     "output_type": "stream",
     "text": [
      "[I 2023-06-16 10:05:01,872] Trial 298 finished with value: 0.16406950099653253 and parameters: {'boosting_type': 'gbdt', 'learning_rate': 0.01841807011669667, 'lambda_l1': 0.0005212021498358182, 'lambda_l2': 0.000629888854959948, 'max_depth': 7, 'num_leaves': 34, 'feature_fraction': 0.544270431445496, 'min_data_in_leaf': 5, 'max_bin': 65, 'bagging_freq': 7, 'bagging_fraction': 0.5536985141941543}. Best is trial 32 with value: 0.14540191776657313.\n"
     ]
    },
    {
     "name": "stdout",
     "output_type": "stream",
     "text": [
      "Repeat \u001b[1m\u001b[34m#1\n",
      "Repeat \u001b[1m\u001b[34m#2\n",
      "Repeat \u001b[1m\u001b[34m#3\n",
      "Repeat \u001b[1m\u001b[34m#4\n",
      "Repeat \u001b[1m\u001b[34m#5\n"
     ]
    },
    {
     "name": "stderr",
     "output_type": "stream",
     "text": [
      "[I 2023-06-16 10:05:06,422] Trial 299 finished with value: 0.22477336569655332 and parameters: {'boosting_type': 'gbdt', 'learning_rate': 0.044433689125698096, 'lambda_l1': 1.7875102953007038, 'lambda_l2': 0.0025104308261836286, 'max_depth': 7, 'num_leaves': 112, 'feature_fraction': 0.5569215729626675, 'min_data_in_leaf': 7, 'max_bin': 245, 'bagging_freq': 4, 'bagging_fraction': 0.5050604932888922}. Best is trial 32 with value: 0.14540191776657313.\n"
     ]
    },
    {
     "name": "stdout",
     "output_type": "stream",
     "text": [
      "Repeat \u001b[1m\u001b[34m#1\n",
      "Repeat \u001b[1m\u001b[34m#2\n",
      "Repeat \u001b[1m\u001b[34m#3\n",
      "Repeat \u001b[1m\u001b[34m#4\n",
      "Repeat \u001b[1m\u001b[34m#5\n"
     ]
    },
    {
     "name": "stderr",
     "output_type": "stream",
     "text": [
      "[I 2023-06-16 10:05:09,893] Trial 300 finished with value: 0.16625751033015762 and parameters: {'boosting_type': 'gbdt', 'learning_rate': 0.031885555686643786, 'lambda_l1': 2.5597854558745204e-05, 'lambda_l2': 0.00022743748168148011, 'max_depth': 8, 'num_leaves': 116, 'feature_fraction': 0.4697758291092494, 'min_data_in_leaf': 11, 'max_bin': 95, 'bagging_freq': 4, 'bagging_fraction': 0.5337171024724815}. Best is trial 32 with value: 0.14540191776657313.\n"
     ]
    },
    {
     "name": "stdout",
     "output_type": "stream",
     "text": [
      "Repeat \u001b[1m\u001b[34m#1\n",
      "Repeat \u001b[1m\u001b[34m#2\n",
      "Repeat \u001b[1m\u001b[34m#3\n",
      "Repeat \u001b[1m\u001b[34m#4\n",
      "Repeat \u001b[1m\u001b[34m#5\n"
     ]
    },
    {
     "name": "stderr",
     "output_type": "stream",
     "text": [
      "[I 2023-06-16 10:05:11,679] Trial 301 finished with value: 0.16080002539613622 and parameters: {'boosting_type': 'goss', 'learning_rate': 0.15210895514014136, 'lambda_l1': 8.842472507587812e-08, 'lambda_l2': 0.005008835806648314, 'max_depth': 7, 'num_leaves': 63, 'feature_fraction': 0.45587196146886866, 'min_data_in_leaf': 8, 'max_bin': 237, 'bagging_freq': 5}. Best is trial 32 with value: 0.14540191776657313.\n"
     ]
    },
    {
     "name": "stdout",
     "output_type": "stream",
     "text": [
      "Repeat \u001b[1m\u001b[34m#1\n",
      "Repeat \u001b[1m\u001b[34m#2\n",
      "Repeat \u001b[1m\u001b[34m#3\n",
      "Repeat \u001b[1m\u001b[34m#4\n",
      "Repeat \u001b[1m\u001b[34m#5\n"
     ]
    },
    {
     "name": "stderr",
     "output_type": "stream",
     "text": [
      "[I 2023-06-16 10:05:17,644] Trial 302 finished with value: 0.15592983474668184 and parameters: {'boosting_type': 'gbdt', 'learning_rate': 0.020763132187286325, 'lambda_l1': 7.440185308201137e-05, 'lambda_l2': 9.411746070240779e-05, 'max_depth': 7, 'num_leaves': 109, 'feature_fraction': 0.4765365034356382, 'min_data_in_leaf': 5, 'max_bin': 242, 'bagging_freq': 4, 'bagging_fraction': 0.5159263910331299}. Best is trial 32 with value: 0.14540191776657313.\n"
     ]
    },
    {
     "name": "stdout",
     "output_type": "stream",
     "text": [
      "Repeat \u001b[1m\u001b[34m#1\n",
      "Repeat \u001b[1m\u001b[34m#2\n",
      "Repeat \u001b[1m\u001b[34m#3\n",
      "Repeat \u001b[1m\u001b[34m#4\n",
      "Repeat \u001b[1m\u001b[34m#5\n"
     ]
    },
    {
     "name": "stderr",
     "output_type": "stream",
     "text": [
      "[I 2023-06-16 10:05:22,739] Trial 303 finished with value: 0.16135023312298027 and parameters: {'boosting_type': 'gbdt', 'learning_rate': 0.021369746972096745, 'lambda_l1': 7.769984817163647e-05, 'lambda_l2': 3.588873567740112e-05, 'max_depth': 7, 'num_leaves': 108, 'feature_fraction': 0.47423329414933174, 'min_data_in_leaf': 7, 'max_bin': 241, 'bagging_freq': 4, 'bagging_fraction': 0.5168077816311105}. Best is trial 32 with value: 0.14540191776657313.\n"
     ]
    },
    {
     "name": "stdout",
     "output_type": "stream",
     "text": [
      "Repeat \u001b[1m\u001b[34m#1\n",
      "Repeat \u001b[1m\u001b[34m#2\n",
      "Repeat \u001b[1m\u001b[34m#3\n",
      "Repeat \u001b[1m\u001b[34m#4\n",
      "Repeat \u001b[1m\u001b[34m#5\n"
     ]
    },
    {
     "name": "stderr",
     "output_type": "stream",
     "text": [
      "[I 2023-06-16 10:05:27,146] Trial 304 finished with value: 0.1638376858279787 and parameters: {'boosting_type': 'gbdt', 'learning_rate': 0.022807012469475477, 'lambda_l1': 0.00011174895387637563, 'lambda_l2': 9.041130939620675e-05, 'max_depth': 7, 'num_leaves': 110, 'feature_fraction': 0.48037681692800954, 'min_data_in_leaf': 9, 'max_bin': 53, 'bagging_freq': 4, 'bagging_fraction': 0.5143282462074876}. Best is trial 32 with value: 0.14540191776657313.\n"
     ]
    },
    {
     "name": "stdout",
     "output_type": "stream",
     "text": [
      "Repeat \u001b[1m\u001b[34m#1\n",
      "Repeat \u001b[1m\u001b[34m#2\n",
      "Repeat \u001b[1m\u001b[34m#3\n",
      "Repeat \u001b[1m\u001b[34m#4\n",
      "Repeat \u001b[1m\u001b[34m#5\n"
     ]
    },
    {
     "name": "stderr",
     "output_type": "stream",
     "text": [
      "[I 2023-06-16 10:05:31,807] Trial 305 finished with value: 0.15533292556875686 and parameters: {'boosting_type': 'gbdt', 'learning_rate': 0.027271169437563657, 'lambda_l1': 0.00025974577586249705, 'lambda_l2': 6.712198380355664e-05, 'max_depth': 7, 'num_leaves': 104, 'feature_fraction': 0.31486166125092496, 'min_data_in_leaf': 5, 'max_bin': 35, 'bagging_freq': 4, 'bagging_fraction': 0.5258024546447267}. Best is trial 32 with value: 0.14540191776657313.\n"
     ]
    },
    {
     "name": "stdout",
     "output_type": "stream",
     "text": [
      "Repeat \u001b[1m\u001b[34m#1\n",
      "Repeat \u001b[1m\u001b[34m#2\n",
      "Repeat \u001b[1m\u001b[34m#3\n",
      "Repeat \u001b[1m\u001b[34m#4\n",
      "Repeat \u001b[1m\u001b[34m#5\n"
     ]
    },
    {
     "name": "stderr",
     "output_type": "stream",
     "text": [
      "[I 2023-06-16 10:05:36,718] Trial 306 finished with value: 0.1561750633454455 and parameters: {'boosting_type': 'gbdt', 'learning_rate': 0.02614219646011313, 'lambda_l1': 0.00021018223806625448, 'lambda_l2': 9.377677100455937e-05, 'max_depth': 9, 'num_leaves': 103, 'feature_fraction': 0.43777219177307874, 'min_data_in_leaf': 5, 'max_bin': 42, 'bagging_freq': 4, 'bagging_fraction': 0.5293299664265712}. Best is trial 32 with value: 0.14540191776657313.\n"
     ]
    },
    {
     "name": "stdout",
     "output_type": "stream",
     "text": [
      "Repeat \u001b[1m\u001b[34m#1\n",
      "Repeat \u001b[1m\u001b[34m#2\n",
      "Repeat \u001b[1m\u001b[34m#3\n",
      "Repeat \u001b[1m\u001b[34m#4\n",
      "Repeat \u001b[1m\u001b[34m#5\n"
     ]
    },
    {
     "name": "stderr",
     "output_type": "stream",
     "text": [
      "[I 2023-06-16 10:05:42,747] Trial 307 finished with value: 0.15495732281849203 and parameters: {'boosting_type': 'gbdt', 'learning_rate': 0.023901150253345334, 'lambda_l1': 0.00023064202834215193, 'lambda_l2': 6.539560591363519e-05, 'max_depth': 9, 'num_leaves': 102, 'feature_fraction': 0.4388121231193445, 'min_data_in_leaf': 5, 'max_bin': 41, 'bagging_freq': 4, 'bagging_fraction': 0.527357504036708}. Best is trial 32 with value: 0.14540191776657313.\n"
     ]
    },
    {
     "name": "stdout",
     "output_type": "stream",
     "text": [
      "Repeat \u001b[1m\u001b[34m#1\n",
      "Repeat \u001b[1m\u001b[34m#2\n",
      "Repeat \u001b[1m\u001b[34m#3\n",
      "Repeat \u001b[1m\u001b[34m#4\n",
      "Repeat \u001b[1m\u001b[34m#5\n"
     ]
    },
    {
     "name": "stderr",
     "output_type": "stream",
     "text": [
      "[I 2023-06-16 10:05:48,614] Trial 308 finished with value: 0.16003767702572294 and parameters: {'boosting_type': 'gbdt', 'learning_rate': 0.020005273077083673, 'lambda_l1': 0.0002831111072103783, 'lambda_l2': 4.5257652711168985e-05, 'max_depth': 9, 'num_leaves': 105, 'feature_fraction': 0.4478481813751675, 'min_data_in_leaf': 6, 'max_bin': 45, 'bagging_freq': 4, 'bagging_fraction': 0.54027764664356}. Best is trial 32 with value: 0.14540191776657313.\n"
     ]
    },
    {
     "name": "stdout",
     "output_type": "stream",
     "text": [
      "Repeat \u001b[1m\u001b[34m#1\n",
      "Repeat \u001b[1m\u001b[34m#2\n",
      "Repeat \u001b[1m\u001b[34m#3\n",
      "Repeat \u001b[1m\u001b[34m#4\n",
      "Repeat \u001b[1m\u001b[34m#5\n"
     ]
    },
    {
     "name": "stderr",
     "output_type": "stream",
     "text": [
      "[I 2023-06-16 10:05:56,912] Trial 309 finished with value: 0.22815964802017463 and parameters: {'boosting_type': 'gbdt', 'learning_rate': 0.01710946997650724, 'lambda_l1': 0.00015391127062398612, 'lambda_l2': 9.845355215082998, 'max_depth': 8, 'num_leaves': 104, 'feature_fraction': 0.4178685158730908, 'min_data_in_leaf': 5, 'max_bin': 35, 'bagging_freq': 4, 'bagging_fraction': 0.5233449138424136}. Best is trial 32 with value: 0.14540191776657313.\n"
     ]
    },
    {
     "name": "stdout",
     "output_type": "stream",
     "text": [
      "Repeat \u001b[1m\u001b[34m#1\n",
      "Repeat \u001b[1m\u001b[34m#2\n",
      "Repeat \u001b[1m\u001b[34m#3\n",
      "Repeat \u001b[1m\u001b[34m#4\n",
      "Repeat \u001b[1m\u001b[34m#5\n"
     ]
    },
    {
     "name": "stderr",
     "output_type": "stream",
     "text": [
      "[I 2023-06-16 10:06:01,465] Trial 310 finished with value: 0.15495994954557732 and parameters: {'boosting_type': 'gbdt', 'learning_rate': 0.024846780900280988, 'lambda_l1': 0.0004393119533316527, 'lambda_l2': 5.576103611949445e-05, 'max_depth': 9, 'num_leaves': 102, 'feature_fraction': 0.31958277318783557, 'min_data_in_leaf': 7, 'max_bin': 56, 'bagging_freq': 4, 'bagging_fraction': 0.5288021972682895}. Best is trial 32 with value: 0.14540191776657313.\n"
     ]
    },
    {
     "name": "stdout",
     "output_type": "stream",
     "text": [
      "Repeat \u001b[1m\u001b[34m#1\n",
      "Repeat \u001b[1m\u001b[34m#2\n",
      "Repeat \u001b[1m\u001b[34m#3\n",
      "Repeat \u001b[1m\u001b[34m#4\n",
      "Repeat \u001b[1m\u001b[34m#5\n"
     ]
    },
    {
     "name": "stderr",
     "output_type": "stream",
     "text": [
      "[I 2023-06-16 10:06:05,620] Trial 311 finished with value: 0.16676168086905077 and parameters: {'boosting_type': 'gbdt', 'learning_rate': 0.023247845094030307, 'lambda_l1': 0.00038424449322803464, 'lambda_l2': 5.1718932624823996e-05, 'max_depth': 9, 'num_leaves': 103, 'feature_fraction': 0.32090315868873814, 'min_data_in_leaf': 10, 'max_bin': 50, 'bagging_freq': 4, 'bagging_fraction': 0.5326515955100752}. Best is trial 32 with value: 0.14540191776657313.\n"
     ]
    },
    {
     "name": "stdout",
     "output_type": "stream",
     "text": [
      "Repeat \u001b[1m\u001b[34m#1\n",
      "Repeat \u001b[1m\u001b[34m#2\n",
      "Repeat \u001b[1m\u001b[34m#3\n",
      "Repeat \u001b[1m\u001b[34m#4\n",
      "Repeat \u001b[1m\u001b[34m#5\n"
     ]
    },
    {
     "name": "stderr",
     "output_type": "stream",
     "text": [
      "[I 2023-06-16 10:06:10,874] Trial 312 finished with value: 0.15739424414738698 and parameters: {'boosting_type': 'gbdt', 'learning_rate': 0.020614209608365457, 'lambda_l1': 0.0006841318309325027, 'lambda_l2': 3.929300936000403e-05, 'max_depth': 9, 'num_leaves': 106, 'feature_fraction': 0.32482548914055087, 'min_data_in_leaf': 7, 'max_bin': 35, 'bagging_freq': 4, 'bagging_fraction': 0.5299166381180742}. Best is trial 32 with value: 0.14540191776657313.\n"
     ]
    },
    {
     "name": "stdout",
     "output_type": "stream",
     "text": [
      "Repeat \u001b[1m\u001b[34m#1\n",
      "Repeat \u001b[1m\u001b[34m#2\n",
      "Repeat \u001b[1m\u001b[34m#3\n",
      "Repeat \u001b[1m\u001b[34m#4\n",
      "Repeat \u001b[1m\u001b[34m#5\n"
     ]
    },
    {
     "name": "stderr",
     "output_type": "stream",
     "text": [
      "[I 2023-06-16 10:06:15,155] Trial 313 finished with value: 0.1601219366185313 and parameters: {'boosting_type': 'gbdt', 'learning_rate': 0.027394080351603088, 'lambda_l1': 0.00025748980745100896, 'lambda_l2': 6.498645007244802e-05, 'max_depth': 8, 'num_leaves': 101, 'feature_fraction': 0.30528686449779296, 'min_data_in_leaf': 8, 'max_bin': 60, 'bagging_freq': 4, 'bagging_fraction': 0.5416533430100153}. Best is trial 32 with value: 0.14540191776657313.\n"
     ]
    },
    {
     "name": "stdout",
     "output_type": "stream",
     "text": [
      "Repeat \u001b[1m\u001b[34m#1\n",
      "Repeat \u001b[1m\u001b[34m#2\n",
      "Repeat \u001b[1m\u001b[34m#3\n",
      "Repeat \u001b[1m\u001b[34m#4\n",
      "Repeat \u001b[1m\u001b[34m#5\n"
     ]
    },
    {
     "name": "stderr",
     "output_type": "stream",
     "text": [
      "[I 2023-06-16 10:06:22,770] Trial 314 finished with value: 0.32273586769821894 and parameters: {'boosting_type': 'gbdt', 'learning_rate': 0.002242543932985373, 'lambda_l1': 0.00016049987339976184, 'lambda_l2': 8.589368499868265e-05, 'max_depth': 9, 'num_leaves': 107, 'feature_fraction': 0.4358895549518409, 'min_data_in_leaf': 11, 'max_bin': 48, 'bagging_freq': 4, 'bagging_fraction': 0.5073149439530118}. Best is trial 32 with value: 0.14540191776657313.\n"
     ]
    },
    {
     "name": "stdout",
     "output_type": "stream",
     "text": [
      "Repeat \u001b[1m\u001b[34m#1\n",
      "Repeat \u001b[1m\u001b[34m#2\n",
      "Repeat \u001b[1m\u001b[34m#3\n",
      "Repeat \u001b[1m\u001b[34m#4\n",
      "Repeat \u001b[1m\u001b[34m#5\n"
     ]
    },
    {
     "name": "stderr",
     "output_type": "stream",
     "text": [
      "[I 2023-06-16 10:06:47,148] Trial 315 finished with value: 0.17469973890432638 and parameters: {'boosting_type': 'dart', 'learning_rate': 0.025055643719274316, 'lambda_l1': 4.701814927435282e-05, 'lambda_l2': 2.492212474900126e-05, 'max_depth': 10, 'num_leaves': 103, 'feature_fraction': 0.3704218948337878, 'min_data_in_leaf': 7, 'max_bin': 57, 'bagging_freq': 4, 'bagging_fraction': 0.5249704690071215}. Best is trial 32 with value: 0.14540191776657313.\n"
     ]
    },
    {
     "name": "stdout",
     "output_type": "stream",
     "text": [
      "Repeat \u001b[1m\u001b[34m#1\n",
      "Repeat \u001b[1m\u001b[34m#2\n",
      "Repeat \u001b[1m\u001b[34m#3\n",
      "Repeat \u001b[1m\u001b[34m#4\n",
      "Repeat \u001b[1m\u001b[34m#5\n"
     ]
    },
    {
     "name": "stderr",
     "output_type": "stream",
     "text": [
      "[I 2023-06-16 10:06:52,673] Trial 316 finished with value: 0.2128871501726247 and parameters: {'boosting_type': 'gbdt', 'learning_rate': 0.02764059236971078, 'lambda_l1': 0.00047873633629118105, 'lambda_l2': 5.638803510130553, 'max_depth': 9, 'num_leaves': 56, 'feature_fraction': 0.38223835896530256, 'min_data_in_leaf': 14, 'max_bin': 40, 'bagging_freq': 4, 'bagging_fraction': 0.4944987404467426}. Best is trial 32 with value: 0.14540191776657313.\n"
     ]
    },
    {
     "name": "stdout",
     "output_type": "stream",
     "text": [
      "Repeat \u001b[1m\u001b[34m#1\n",
      "Repeat \u001b[1m\u001b[34m#2\n",
      "Repeat \u001b[1m\u001b[34m#3\n",
      "Repeat \u001b[1m\u001b[34m#4\n",
      "Repeat \u001b[1m\u001b[34m#5\n"
     ]
    },
    {
     "name": "stderr",
     "output_type": "stream",
     "text": [
      "[I 2023-06-16 10:06:56,501] Trial 317 finished with value: 0.15779212447181118 and parameters: {'boosting_type': 'gbdt', 'learning_rate': 0.031459426136273144, 'lambda_l1': 0.00033162687670540056, 'lambda_l2': 7.882206825833059e-05, 'max_depth': 9, 'num_leaves': 102, 'feature_fraction': 0.3492266670232749, 'min_data_in_leaf': 9, 'max_bin': 40, 'bagging_freq': 6, 'bagging_fraction': 0.5232365297515593}. Best is trial 32 with value: 0.14540191776657313.\n"
     ]
    },
    {
     "name": "stdout",
     "output_type": "stream",
     "text": [
      "Repeat \u001b[1m\u001b[34m#1\n",
      "Repeat \u001b[1m\u001b[34m#2\n",
      "Repeat \u001b[1m\u001b[34m#3\n",
      "Repeat \u001b[1m\u001b[34m#4\n",
      "Repeat \u001b[1m\u001b[34m#5\n"
     ]
    },
    {
     "name": "stderr",
     "output_type": "stream",
     "text": [
      "[I 2023-06-16 10:07:05,273] Trial 318 finished with value: 0.16564900419014944 and parameters: {'boosting_type': 'gbdt', 'learning_rate': 0.012162091964270308, 'lambda_l1': 8.861302255868842e-05, 'lambda_l2': 0.0001354705302636917, 'max_depth': 9, 'num_leaves': 108, 'feature_fraction': 0.40608484693625935, 'min_data_in_leaf': 7, 'max_bin': 38, 'bagging_freq': 4, 'bagging_fraction': 0.5389324640375351}. Best is trial 32 with value: 0.14540191776657313.\n"
     ]
    },
    {
     "name": "stdout",
     "output_type": "stream",
     "text": [
      "Repeat \u001b[1m\u001b[34m#1\n",
      "Repeat \u001b[1m\u001b[34m#2\n",
      "Repeat \u001b[1m\u001b[34m#3\n",
      "Repeat \u001b[1m\u001b[34m#4\n",
      "Repeat \u001b[1m\u001b[34m#5\n"
     ]
    },
    {
     "name": "stderr",
     "output_type": "stream",
     "text": [
      "[I 2023-06-16 10:07:13,315] Trial 319 finished with value: 0.15725502868249283 and parameters: {'boosting_type': 'gbdt', 'learning_rate': 0.016297481048703478, 'lambda_l1': 1.1530438543103567e-08, 'lambda_l2': 5.5576153155735115e-05, 'max_depth': 9, 'num_leaves': 105, 'feature_fraction': 0.30707753352858114, 'min_data_in_leaf': 5, 'max_bin': 34, 'bagging_freq': 5, 'bagging_fraction': 0.5143285889954606}. Best is trial 32 with value: 0.14540191776657313.\n"
     ]
    },
    {
     "name": "stdout",
     "output_type": "stream",
     "text": [
      "Repeat \u001b[1m\u001b[34m#1\n",
      "Repeat \u001b[1m\u001b[34m#2\n",
      "Repeat \u001b[1m\u001b[34m#3\n",
      "Repeat \u001b[1m\u001b[34m#4\n",
      "Repeat \u001b[1m\u001b[34m#5\n"
     ]
    },
    {
     "name": "stderr",
     "output_type": "stream",
     "text": [
      "[I 2023-06-16 10:07:21,968] Trial 320 finished with value: 0.3567396314663489 and parameters: {'boosting_type': 'gbdt', 'learning_rate': 0.0016874342625019972, 'lambda_l1': 0.0008817807252499125, 'lambda_l2': 2.6990162060902974e-05, 'max_depth': 8, 'num_leaves': 111, 'feature_fraction': 0.3204475541364875, 'min_data_in_leaf': 9, 'max_bin': 245, 'bagging_freq': 4, 'bagging_fraction': 0.5498487961768672}. Best is trial 32 with value: 0.14540191776657313.\n"
     ]
    },
    {
     "name": "stdout",
     "output_type": "stream",
     "text": [
      "Repeat \u001b[1m\u001b[34m#1\n",
      "Repeat \u001b[1m\u001b[34m#2\n",
      "Repeat \u001b[1m\u001b[34m#3\n",
      "Repeat \u001b[1m\u001b[34m#4\n"
     ]
    },
    {
     "name": "stderr",
     "output_type": "stream",
     "text": [
      "[I 2023-06-16 10:07:22,577] Trial 321 finished with value: 0.6973915667428459 and parameters: {'boosting_type': 'gbdt', 'learning_rate': 0.020634371019355256, 'lambda_l1': 0.00024455098586974354, 'lambda_l2': 0.0001268395185157774, 'max_depth': 7, 'num_leaves': 128, 'feature_fraction': 0.33572357630861305, 'min_data_in_leaf': 42, 'max_bin': 70, 'bagging_freq': 4, 'bagging_fraction': 0.32546302879149946}. Best is trial 32 with value: 0.14540191776657313.\n"
     ]
    },
    {
     "name": "stdout",
     "output_type": "stream",
     "text": [
      "Repeat \u001b[1m\u001b[34m#5\n",
      "Repeat \u001b[1m\u001b[34m#1\n",
      "Repeat \u001b[1m\u001b[34m#2\n",
      "Repeat \u001b[1m\u001b[34m#3\n",
      "Repeat \u001b[1m\u001b[34m#4\n",
      "Repeat \u001b[1m\u001b[34m#5\n"
     ]
    },
    {
     "name": "stderr",
     "output_type": "stream",
     "text": [
      "[I 2023-06-16 10:07:29,335] Trial 322 finished with value: 0.16396899338404397 and parameters: {'boosting_type': 'gbdt', 'learning_rate': 0.014584802772543268, 'lambda_l1': 0.0005753583300981423, 'lambda_l2': 6.148423401387407e-05, 'max_depth': 7, 'num_leaves': 100, 'feature_fraction': 0.40436859785652773, 'min_data_in_leaf': 7, 'max_bin': 33, 'bagging_freq': 4, 'bagging_fraction': 0.5040322519788106}. Best is trial 32 with value: 0.14540191776657313.\n"
     ]
    },
    {
     "name": "stdout",
     "output_type": "stream",
     "text": [
      "Repeat \u001b[1m\u001b[34m#1\n",
      "Repeat \u001b[1m\u001b[34m#2\n",
      "Repeat \u001b[1m\u001b[34m#3\n",
      "Repeat \u001b[1m\u001b[34m#4\n",
      "Repeat \u001b[1m\u001b[34m#5\n"
     ]
    },
    {
     "name": "stderr",
     "output_type": "stream",
     "text": [
      "[I 2023-06-16 10:07:30,747] Trial 323 finished with value: 0.17609851210039065 and parameters: {'boosting_type': 'gbdt', 'learning_rate': 0.2679639091561059, 'lambda_l1': 0.00015043113494952367, 'lambda_l2': 0.0001082650672066427, 'max_depth': 7, 'num_leaves': 106, 'feature_fraction': 0.30287763435495363, 'min_data_in_leaf': 5, 'max_bin': 45, 'bagging_freq': 2, 'bagging_fraction': 0.5199932825420766}. Best is trial 32 with value: 0.14540191776657313.\n"
     ]
    },
    {
     "name": "stdout",
     "output_type": "stream",
     "text": [
      "Repeat \u001b[1m\u001b[34m#1\n",
      "Repeat \u001b[1m\u001b[34m#2\n",
      "Repeat \u001b[1m\u001b[34m#3\n",
      "Repeat \u001b[1m\u001b[34m#4\n",
      "Repeat \u001b[1m\u001b[34m#5\n"
     ]
    },
    {
     "name": "stderr",
     "output_type": "stream",
     "text": [
      "[I 2023-06-16 10:07:34,650] Trial 324 finished with value: 0.17571823170006684 and parameters: {'boosting_type': 'gbdt', 'learning_rate': 0.023764530096330238, 'lambda_l1': 0.00027463007506715615, 'lambda_l2': 0.00016416298308876418, 'max_depth': 9, 'num_leaves': 108, 'feature_fraction': 0.31578491477165527, 'min_data_in_leaf': 11, 'max_bin': 250, 'bagging_freq': 4, 'bagging_fraction': 0.4617312493224379}. Best is trial 32 with value: 0.14540191776657313.\n"
     ]
    },
    {
     "name": "stdout",
     "output_type": "stream",
     "text": [
      "Repeat \u001b[1m\u001b[34m#1\n",
      "Repeat \u001b[1m\u001b[34m#2\n",
      "Repeat \u001b[1m\u001b[34m#3\n",
      "Repeat \u001b[1m\u001b[34m#4\n",
      "Repeat \u001b[1m\u001b[34m#5\n"
     ]
    },
    {
     "name": "stderr",
     "output_type": "stream",
     "text": [
      "[I 2023-06-16 10:07:38,781] Trial 325 finished with value: 0.15649956611026464 and parameters: {'boosting_type': 'goss', 'learning_rate': 0.030711896073893855, 'lambda_l1': 0.0004341473334072907, 'lambda_l2': 3.714225989012843e-05, 'max_depth': 7, 'num_leaves': 102, 'feature_fraction': 0.33682453061649004, 'min_data_in_leaf': 7, 'max_bin': 242, 'bagging_freq': 4}. Best is trial 32 with value: 0.14540191776657313.\n"
     ]
    },
    {
     "name": "stdout",
     "output_type": "stream",
     "text": [
      "Repeat \u001b[1m\u001b[34m#1\n",
      "Repeat \u001b[1m\u001b[34m#2\n",
      "Repeat \u001b[1m\u001b[34m#3\n",
      "Repeat \u001b[1m\u001b[34m#4\n",
      "Repeat \u001b[1m\u001b[34m#5\n"
     ]
    },
    {
     "name": "stderr",
     "output_type": "stream",
     "text": [
      "[I 2023-06-16 10:07:42,178] Trial 326 finished with value: 0.27551387303767416 and parameters: {'boosting_type': 'gbdt', 'learning_rate': 0.0271107699589117, 'lambda_l1': 1.0146053159808994e-05, 'lambda_l2': 1.6534422349089554e-05, 'max_depth': 7, 'num_leaves': 110, 'feature_fraction': 0.3819102998249473, 'min_data_in_leaf': 31, 'max_bin': 239, 'bagging_freq': 4, 'bagging_fraction': 0.438991033528667}. Best is trial 32 with value: 0.14540191776657313.\n"
     ]
    },
    {
     "name": "stdout",
     "output_type": "stream",
     "text": [
      "Repeat \u001b[1m\u001b[34m#1\n",
      "Repeat \u001b[1m\u001b[34m#2\n",
      "Repeat \u001b[1m\u001b[34m#3\n",
      "Repeat \u001b[1m\u001b[34m#4\n",
      "Repeat \u001b[1m\u001b[34m#5\n"
     ]
    },
    {
     "name": "stderr",
     "output_type": "stream",
     "text": [
      "[I 2023-06-16 10:07:44,454] Trial 327 finished with value: 0.17213671131893382 and parameters: {'boosting_type': 'gbdt', 'learning_rate': 0.0701934918427067, 'lambda_l1': 6.115260877241052e-06, 'lambda_l2': 7.501960549453957e-05, 'max_depth': 7, 'num_leaves': 105, 'feature_fraction': 0.4281170802297968, 'min_data_in_leaf': 9, 'max_bin': 55, 'bagging_freq': 4, 'bagging_fraction': 0.5346610649833943}. Best is trial 32 with value: 0.14540191776657313.\n"
     ]
    },
    {
     "name": "stdout",
     "output_type": "stream",
     "text": [
      "Repeat \u001b[1m\u001b[34m#1\n",
      "Repeat \u001b[1m\u001b[34m#2\n",
      "Repeat \u001b[1m\u001b[34m#3\n",
      "Repeat \u001b[1m\u001b[34m#4\n",
      "Repeat \u001b[1m\u001b[34m#5\n"
     ]
    },
    {
     "name": "stderr",
     "output_type": "stream",
     "text": [
      "[I 2023-06-16 10:07:51,216] Trial 328 finished with value: 0.15736366206394875 and parameters: {'boosting_type': 'gbdt', 'learning_rate': 0.018400408230148452, 'lambda_l1': 0.00010831889452478592, 'lambda_l2': 0.00015503234609650894, 'max_depth': 9, 'num_leaves': 112, 'feature_fraction': 0.31654994300977113, 'min_data_in_leaf': 5, 'max_bin': 78, 'bagging_freq': 4, 'bagging_fraction': 0.4791424778157129}. Best is trial 32 with value: 0.14540191776657313.\n"
     ]
    },
    {
     "name": "stdout",
     "output_type": "stream",
     "text": [
      "Repeat \u001b[1m\u001b[34m#1\n",
      "Repeat \u001b[1m\u001b[34m#2\n",
      "Repeat \u001b[1m\u001b[34m#3\n",
      "Repeat \u001b[1m\u001b[34m#4\n",
      "Repeat \u001b[1m\u001b[34m#5\n"
     ]
    },
    {
     "name": "stderr",
     "output_type": "stream",
     "text": [
      "[I 2023-06-16 10:07:52,624] Trial 329 finished with value: 0.1733056624914348 and parameters: {'boosting_type': 'gbdt', 'learning_rate': 0.22261034107365227, 'lambda_l1': 0.00039246913678339304, 'lambda_l2': 0.00023536480965140696, 'max_depth': 7, 'num_leaves': 100, 'feature_fraction': 0.6025538723242754, 'min_data_in_leaf': 7, 'max_bin': 106, 'bagging_freq': 4, 'bagging_fraction': 0.5110933051223074}. Best is trial 32 with value: 0.14540191776657313.\n"
     ]
    },
    {
     "name": "stdout",
     "output_type": "stream",
     "text": [
      "Repeat \u001b[1m\u001b[34m#1\n",
      "Repeat \u001b[1m\u001b[34m#2\n",
      "Repeat \u001b[1m\u001b[34m#3\n",
      "Repeat \u001b[1m\u001b[34m#4\n"
     ]
    },
    {
     "name": "stderr",
     "output_type": "stream",
     "text": [
      "[I 2023-06-16 10:07:53,258] Trial 330 finished with value: 0.6973915667428459 and parameters: {'boosting_type': 'gbdt', 'learning_rate': 0.03259864822761295, 'lambda_l1': 0.0007464347484444101, 'lambda_l2': 0.0036520954209692987, 'max_depth': 7, 'num_leaves': 104, 'feature_fraction': 0.31037599703127156, 'min_data_in_leaf': 71, 'max_bin': 235, 'bagging_freq': 4, 'bagging_fraction': 0.5264347967898617}. Best is trial 32 with value: 0.14540191776657313.\n"
     ]
    },
    {
     "name": "stdout",
     "output_type": "stream",
     "text": [
      "Repeat \u001b[1m\u001b[34m#5\n",
      "Repeat \u001b[1m\u001b[34m#1\n",
      "Repeat \u001b[1m\u001b[34m#2\n",
      "Repeat \u001b[1m\u001b[34m#3\n",
      "Repeat \u001b[1m\u001b[34m#4\n",
      "Repeat \u001b[1m\u001b[34m#5\n"
     ]
    },
    {
     "name": "stderr",
     "output_type": "stream",
     "text": [
      "[I 2023-06-16 10:07:54,831] Trial 331 finished with value: 0.16171194939346062 and parameters: {'boosting_type': 'gbdt', 'learning_rate': 0.19836826378341801, 'lambda_l1': 0.00020675535792812047, 'lambda_l2': 0.0001967405407781458, 'max_depth': 10, 'num_leaves': 109, 'feature_fraction': 0.44671383972762735, 'min_data_in_leaf': 5, 'max_bin': 227, 'bagging_freq': 4, 'bagging_fraction': 0.37885766612147287}. Best is trial 32 with value: 0.14540191776657313.\n"
     ]
    },
    {
     "name": "stdout",
     "output_type": "stream",
     "text": [
      "Repeat \u001b[1m\u001b[34m#1\n",
      "Repeat \u001b[1m\u001b[34m#2\n",
      "Repeat \u001b[1m\u001b[34m#3\n",
      "Repeat \u001b[1m\u001b[34m#4\n",
      "Repeat \u001b[1m\u001b[34m#5\n"
     ]
    },
    {
     "name": "stderr",
     "output_type": "stream",
     "text": [
      "[I 2023-06-16 10:08:01,130] Trial 332 finished with value: 0.19829150008205523 and parameters: {'boosting_type': 'gbdt', 'learning_rate': 0.007903901058815306, 'lambda_l1': 4.715667290289501e-05, 'lambda_l2': 9.863380728732708e-05, 'max_depth': 7, 'num_leaves': 107, 'feature_fraction': 0.329947556207869, 'min_data_in_leaf': 13, 'max_bin': 215, 'bagging_freq': 4, 'bagging_fraction': 0.49842548396697217}. Best is trial 32 with value: 0.14540191776657313.\n"
     ]
    },
    {
     "name": "stdout",
     "output_type": "stream",
     "text": [
      "Repeat \u001b[1m\u001b[34m#1\n",
      "Repeat \u001b[1m\u001b[34m#2\n",
      "Repeat \u001b[1m\u001b[34m#3\n",
      "Repeat \u001b[1m\u001b[34m#4\n",
      "Repeat \u001b[1m\u001b[34m#5\n"
     ]
    },
    {
     "name": "stderr",
     "output_type": "stream",
     "text": [
      "[I 2023-06-16 10:08:03,769] Trial 333 finished with value: 0.1667148783123221 and parameters: {'boosting_type': 'gbdt', 'learning_rate': 0.05829695794977841, 'lambda_l1': 2.4454630813786775e-05, 'lambda_l2': 0.0003081034430586388, 'max_depth': 7, 'num_leaves': 102, 'feature_fraction': 0.3577853714759603, 'min_data_in_leaf': 9, 'max_bin': 244, 'bagging_freq': 4, 'bagging_fraction': 0.5605711196221749}. Best is trial 32 with value: 0.14540191776657313.\n"
     ]
    },
    {
     "name": "stdout",
     "output_type": "stream",
     "text": [
      "Repeat \u001b[1m\u001b[34m#1\n",
      "Repeat \u001b[1m\u001b[34m#2\n",
      "Repeat \u001b[1m\u001b[34m#3\n",
      "Repeat \u001b[1m\u001b[34m#4\n",
      "Repeat \u001b[1m\u001b[34m#5\n"
     ]
    },
    {
     "name": "stderr",
     "output_type": "stream",
     "text": [
      "[I 2023-06-16 10:08:07,504] Trial 334 finished with value: 0.1538701237088867 and parameters: {'boosting_type': 'gbdt', 'learning_rate': 0.037469912927742356, 'lambda_l1': 0.0010903845045200208, 'lambda_l2': 2.7344499660458365e-05, 'max_depth': 7, 'num_leaves': 24, 'feature_fraction': 0.4611438351386166, 'min_data_in_leaf': 6, 'max_bin': 231, 'bagging_freq': 4, 'bagging_fraction': 0.546142387346864}. Best is trial 32 with value: 0.14540191776657313.\n"
     ]
    },
    {
     "name": "stdout",
     "output_type": "stream",
     "text": [
      "Repeat \u001b[1m\u001b[34m#1\n",
      "Repeat \u001b[1m\u001b[34m#2\n",
      "Repeat \u001b[1m\u001b[34m#3\n",
      "Repeat \u001b[1m\u001b[34m#4\n",
      "Repeat \u001b[1m\u001b[34m#5\n"
     ]
    },
    {
     "name": "stderr",
     "output_type": "stream",
     "text": [
      "[I 2023-06-16 10:08:11,073] Trial 335 finished with value: 0.15892462011889866 and parameters: {'boosting_type': 'gbdt', 'learning_rate': 0.036088645695266264, 'lambda_l1': 0.0015503915752828874, 'lambda_l2': 1.2993371746523053e-05, 'max_depth': 7, 'num_leaves': 125, 'feature_fraction': 0.44358193280900227, 'min_data_in_leaf': 7, 'max_bin': 231, 'bagging_freq': 5, 'bagging_fraction': 0.5438234122022807}. Best is trial 32 with value: 0.14540191776657313.\n"
     ]
    },
    {
     "name": "stdout",
     "output_type": "stream",
     "text": [
      "Repeat \u001b[1m\u001b[34m#1\n",
      "Repeat \u001b[1m\u001b[34m#2\n",
      "Repeat \u001b[1m\u001b[34m#3\n",
      "Repeat \u001b[1m\u001b[34m#4\n",
      "Repeat \u001b[1m\u001b[34m#5\n"
     ]
    },
    {
     "name": "stderr",
     "output_type": "stream",
     "text": [
      "[I 2023-06-16 10:08:13,860] Trial 336 finished with value: 0.2567758229092098 and parameters: {'boosting_type': 'gbdt', 'learning_rate': 0.04821037487832755, 'lambda_l1': 0.0022084046900703327, 'lambda_l2': 4.990204437218039e-05, 'max_depth': 7, 'num_leaves': 98, 'feature_fraction': 0.4146658270843658, 'min_data_in_leaf': 36, 'max_bin': 227, 'bagging_freq': 4, 'bagging_fraction': 0.5347454775089957}. Best is trial 32 with value: 0.14540191776657313.\n"
     ]
    },
    {
     "name": "stdout",
     "output_type": "stream",
     "text": [
      "Repeat \u001b[1m\u001b[34m#1\n",
      "Repeat \u001b[1m\u001b[34m#2\n",
      "Repeat \u001b[1m\u001b[34m#3\n",
      "Repeat \u001b[1m\u001b[34m#4\n",
      "Repeat \u001b[1m\u001b[34m#5\n"
     ]
    },
    {
     "name": "stderr",
     "output_type": "stream",
     "text": [
      "[I 2023-06-16 10:08:16,298] Trial 337 finished with value: 0.16598069558387235 and parameters: {'boosting_type': 'gbdt', 'learning_rate': 0.05456097174153217, 'lambda_l1': 0.0009745066269956177, 'lambda_l2': 2.1898884490710602e-05, 'max_depth': 7, 'num_leaves': 23, 'feature_fraction': 0.45174423386629997, 'min_data_in_leaf': 11, 'max_bin': 222, 'bagging_freq': 4, 'bagging_fraction': 0.5538292300907748}. Best is trial 32 with value: 0.14540191776657313.\n"
     ]
    },
    {
     "name": "stdout",
     "output_type": "stream",
     "text": [
      "Repeat \u001b[1m\u001b[34m#1\n",
      "Repeat \u001b[1m\u001b[34m#2\n",
      "Repeat \u001b[1m\u001b[34m#3\n",
      "Repeat \u001b[1m\u001b[34m#4\n",
      "Repeat \u001b[1m\u001b[34m#5\n"
     ]
    },
    {
     "name": "stderr",
     "output_type": "stream",
     "text": [
      "[I 2023-06-16 10:08:19,616] Trial 338 finished with value: 0.16627428285446705 and parameters: {'boosting_type': 'gbdt', 'learning_rate': 0.03521751905389667, 'lambda_l1': 0.0014429191590948321, 'lambda_l2': 8.314384283701123e-06, 'max_depth': 7, 'num_leaves': 31, 'feature_fraction': 0.42227361731019075, 'min_data_in_leaf': 9, 'max_bin': 236, 'bagging_freq': 4, 'bagging_fraction': 0.5665013884720118}. Best is trial 32 with value: 0.14540191776657313.\n"
     ]
    },
    {
     "name": "stdout",
     "output_type": "stream",
     "text": [
      "Repeat \u001b[1m\u001b[34m#1\n",
      "Repeat \u001b[1m\u001b[34m#2\n",
      "Repeat \u001b[1m\u001b[34m#3\n",
      "Repeat \u001b[1m\u001b[34m#4\n",
      "Repeat \u001b[1m\u001b[34m#5\n"
     ]
    },
    {
     "name": "stderr",
     "output_type": "stream",
     "text": [
      "[I 2023-06-16 10:08:22,557] Trial 339 finished with value: 0.15884394867055382 and parameters: {'boosting_type': 'gbdt', 'learning_rate': 0.04454032204839239, 'lambda_l1': 0.0007047609296091747, 'lambda_l2': 2.8527127646868366e-05, 'max_depth': 4, 'num_leaves': 114, 'feature_fraction': 0.4631775536435132, 'min_data_in_leaf': 7, 'max_bin': 232, 'bagging_freq': 4, 'bagging_fraction': 0.6991305873214956}. Best is trial 32 with value: 0.14540191776657313.\n"
     ]
    },
    {
     "name": "stdout",
     "output_type": "stream",
     "text": [
      "Repeat \u001b[1m\u001b[34m#1\n",
      "Repeat \u001b[1m\u001b[34m#2\n",
      "Repeat \u001b[1m\u001b[34m#3\n",
      "Repeat \u001b[1m\u001b[34m#4\n",
      "Repeat \u001b[1m\u001b[34m#5\n"
     ]
    },
    {
     "name": "stderr",
     "output_type": "stream",
     "text": [
      "[I 2023-06-16 10:08:48,479] Trial 340 finished with value: 0.22859212440275964 and parameters: {'boosting_type': 'dart', 'learning_rate': 0.06673013556216358, 'lambda_l1': 2.7492357069399097e-08, 'lambda_l2': 1.9111561681817336e-05, 'max_depth': 8, 'num_leaves': 123, 'feature_fraction': 0.4578693774852608, 'min_data_in_leaf': 7, 'max_bin': 45, 'bagging_freq': 4, 'bagging_fraction': 0.6524074012854422}. Best is trial 32 with value: 0.14540191776657313.\n"
     ]
    },
    {
     "name": "stdout",
     "output_type": "stream",
     "text": [
      "Repeat \u001b[1m\u001b[34m#1\n",
      "Repeat \u001b[1m\u001b[34m#2\n",
      "Repeat \u001b[1m\u001b[34m#3\n",
      "Repeat \u001b[1m\u001b[34m#4\n",
      "Repeat \u001b[1m\u001b[34m#5\n"
     ]
    },
    {
     "name": "stderr",
     "output_type": "stream",
     "text": [
      "[I 2023-06-16 10:08:52,029] Trial 341 finished with value: 0.17069822756047454 and parameters: {'boosting_type': 'gbdt', 'learning_rate': 0.030079890828944772, 'lambda_l1': 0.0006506598236126483, 'lambda_l2': 0.0004096178565417114, 'max_depth': 7, 'num_leaves': 6, 'feature_fraction': 0.38859207022576486, 'min_data_in_leaf': 10, 'max_bin': 221, 'bagging_freq': 2, 'bagging_fraction': 0.5274161688223988}. Best is trial 32 with value: 0.14540191776657313.\n"
     ]
    },
    {
     "name": "stdout",
     "output_type": "stream",
     "text": [
      "Repeat \u001b[1m\u001b[34m#1\n",
      "Repeat \u001b[1m\u001b[34m#2\n",
      "Repeat \u001b[1m\u001b[34m#3\n",
      "Repeat \u001b[1m\u001b[34m#4\n",
      "Repeat \u001b[1m\u001b[34m#5\n"
     ]
    },
    {
     "name": "stderr",
     "output_type": "stream",
     "text": [
      "[I 2023-06-16 10:09:01,731] Trial 342 finished with value: 0.5788526187899808 and parameters: {'boosting_type': 'gbdt', 'learning_rate': 0.000285665470345475, 'lambda_l1': 0.001241387972619421, 'lambda_l2': 3.511295431025925e-05, 'max_depth': 7, 'num_leaves': 100, 'feature_fraction': 0.6671437134075947, 'min_data_in_leaf': 6, 'max_bin': 226, 'bagging_freq': 4, 'bagging_fraction': 0.538578264869106}. Best is trial 32 with value: 0.14540191776657313.\n"
     ]
    },
    {
     "name": "stdout",
     "output_type": "stream",
     "text": [
      "Repeat \u001b[1m\u001b[34m#1\n",
      "Repeat \u001b[1m\u001b[34m#2\n",
      "Repeat \u001b[1m\u001b[34m#3\n",
      "Repeat \u001b[1m\u001b[34m#4\n",
      "Repeat \u001b[1m\u001b[34m#5\n"
     ]
    },
    {
     "name": "stderr",
     "output_type": "stream",
     "text": [
      "[I 2023-06-16 10:09:05,639] Trial 343 finished with value: 0.16089440532652885 and parameters: {'boosting_type': 'gbdt', 'learning_rate': 0.037282335993288236, 'lambda_l1': 0.00035383246279137434, 'lambda_l2': 0.0017896707577713853, 'max_depth': 7, 'num_leaves': 48, 'feature_fraction': 0.59364330170615, 'min_data_in_leaf': 5, 'max_bin': 236, 'bagging_freq': 4, 'bagging_fraction': 0.5595988086316704}. Best is trial 32 with value: 0.14540191776657313.\n"
     ]
    },
    {
     "name": "stdout",
     "output_type": "stream",
     "text": [
      "Repeat \u001b[1m\u001b[34m#1\n",
      "Repeat \u001b[1m\u001b[34m#2\n",
      "Repeat \u001b[1m\u001b[34m#3\n",
      "Repeat \u001b[1m\u001b[34m#4\n",
      "Repeat \u001b[1m\u001b[34m#5\n"
     ]
    },
    {
     "name": "stderr",
     "output_type": "stream",
     "text": [
      "[I 2023-06-16 10:09:08,786] Trial 344 finished with value: 0.16274538513702702 and parameters: {'boosting_type': 'gbdt', 'learning_rate': 0.04498183253071022, 'lambda_l1': 0.0020712988855098634, 'lambda_l2': 0.0007801852554675313, 'max_depth': 7, 'num_leaves': 104, 'feature_fraction': 0.34260497745951873, 'min_data_in_leaf': 8, 'max_bin': 231, 'bagging_freq': 4, 'bagging_fraction': 0.5461426538191843}. Best is trial 32 with value: 0.14540191776657313.\n"
     ]
    },
    {
     "name": "stdout",
     "output_type": "stream",
     "text": [
      "Repeat \u001b[1m\u001b[34m#1\n",
      "Repeat \u001b[1m\u001b[34m#2\n",
      "Repeat \u001b[1m\u001b[34m#3\n",
      "Repeat \u001b[1m\u001b[34m#4\n",
      "Repeat \u001b[1m\u001b[34m#5\n"
     ]
    },
    {
     "name": "stderr",
     "output_type": "stream",
     "text": [
      "[I 2023-06-16 10:09:12,654] Trial 345 finished with value: 0.16177487173461977 and parameters: {'boosting_type': 'gbdt', 'learning_rate': 0.028546320107278745, 'lambda_l1': 4.3239542291061225e-06, 'lambda_l2': 0.0005126816361081378, 'max_depth': 9, 'num_leaves': 106, 'feature_fraction': 0.31329709956021895, 'min_data_in_leaf': 9, 'max_bin': 66, 'bagging_freq': 5, 'bagging_fraction': 0.5205265627445692}. Best is trial 32 with value: 0.14540191776657313.\n"
     ]
    },
    {
     "name": "stdout",
     "output_type": "stream",
     "text": [
      "Repeat \u001b[1m\u001b[34m#1\n",
      "Repeat \u001b[1m\u001b[34m#2\n",
      "Repeat \u001b[1m\u001b[34m#3\n",
      "Repeat \u001b[1m\u001b[34m#4\n",
      "Repeat \u001b[1m\u001b[34m#5\n"
     ]
    },
    {
     "name": "stderr",
     "output_type": "stream",
     "text": [
      "[I 2023-06-16 10:09:15,539] Trial 346 finished with value: 0.15616197193394604 and parameters: {'boosting_type': 'gbdt', 'learning_rate': 0.050851471762791665, 'lambda_l1': 0.07145640032050161, 'lambda_l2': 0.0055825894000341315, 'max_depth': 7, 'num_leaves': 42, 'feature_fraction': 0.3001138070164969, 'min_data_in_leaf': 5, 'max_bin': 100, 'bagging_freq': 4, 'bagging_fraction': 0.6604041581810459}. Best is trial 32 with value: 0.14540191776657313.\n"
     ]
    },
    {
     "name": "stdout",
     "output_type": "stream",
     "text": [
      "Repeat \u001b[1m\u001b[34m#1\n",
      "Repeat \u001b[1m\u001b[34m#2\n",
      "Repeat \u001b[1m\u001b[34m#3\n",
      "Repeat \u001b[1m\u001b[34m#4\n",
      "Repeat \u001b[1m\u001b[34m#5\n"
     ]
    },
    {
     "name": "stderr",
     "output_type": "stream",
     "text": [
      "[I 2023-06-16 10:09:17,177] Trial 347 finished with value: 0.16255507207277992 and parameters: {'boosting_type': 'gbdt', 'learning_rate': 0.15367313268674593, 'lambda_l1': 7.3163611973393575e-06, 'lambda_l2': 0.00023415770397417686, 'max_depth': 7, 'num_leaves': 111, 'feature_fraction': 0.46769860768434257, 'min_data_in_leaf': 7, 'max_bin': 237, 'bagging_freq': 4, 'bagging_fraction': 0.5090279726348181}. Best is trial 32 with value: 0.14540191776657313.\n"
     ]
    },
    {
     "name": "stdout",
     "output_type": "stream",
     "text": [
      "Repeat \u001b[1m\u001b[34m#1\n",
      "Repeat \u001b[1m\u001b[34m#2\n",
      "Repeat \u001b[1m\u001b[34m#3\n",
      "Repeat \u001b[1m\u001b[34m#4\n",
      "Repeat \u001b[1m\u001b[34m#5\n"
     ]
    },
    {
     "name": "stderr",
     "output_type": "stream",
     "text": [
      "[I 2023-06-16 10:09:20,731] Trial 348 finished with value: 0.17621050894340132 and parameters: {'boosting_type': 'goss', 'learning_rate': 0.034808884513159326, 'lambda_l1': 0.0004401602614903058, 'lambda_l2': 0.001933437936713235, 'max_depth': 6, 'num_leaves': 103, 'feature_fraction': 0.4315768870886505, 'min_data_in_leaf': 12, 'max_bin': 249, 'bagging_freq': 4}. Best is trial 32 with value: 0.14540191776657313.\n"
     ]
    },
    {
     "name": "stdout",
     "output_type": "stream",
     "text": [
      "Repeat \u001b[1m\u001b[34m#1\n",
      "Repeat \u001b[1m\u001b[34m#2\n",
      "Repeat \u001b[1m\u001b[34m#3\n",
      "Repeat \u001b[1m\u001b[34m#4\n",
      "Repeat \u001b[1m\u001b[34m#5\n"
     ]
    },
    {
     "name": "stderr",
     "output_type": "stream",
     "text": [
      "[I 2023-06-16 10:09:30,630] Trial 349 finished with value: 0.642584006412301 and parameters: {'boosting_type': 'gbdt', 'learning_rate': 0.00012197319563507944, 'lambda_l1': 0.0008808194707796444, 'lambda_l2': 0.00016273312969745482, 'max_depth': 9, 'num_leaves': 115, 'feature_fraction': 0.46148681758055, 'min_data_in_leaf': 5, 'max_bin': 52, 'bagging_freq': 4, 'bagging_fraction': 0.5302907086254911}. Best is trial 32 with value: 0.14540191776657313.\n"
     ]
    },
    {
     "name": "stdout",
     "output_type": "stream",
     "text": [
      "Repeat \u001b[1m\u001b[34m#1\n",
      "Repeat \u001b[1m\u001b[34m#2\n",
      "Repeat \u001b[1m\u001b[34m#3\n",
      "Repeat \u001b[1m\u001b[34m#4\n",
      "Repeat \u001b[1m\u001b[34m#5\n"
     ]
    },
    {
     "name": "stderr",
     "output_type": "stream",
     "text": [
      "[I 2023-06-16 10:09:33,981] Trial 350 finished with value: 0.1724364240704799 and parameters: {'boosting_type': 'gbdt', 'learning_rate': 0.06118611032671111, 'lambda_l1': 0.03519712339611263, 'lambda_l2': 0.5753551087062986, 'max_depth': 8, 'num_leaves': 101, 'feature_fraction': 0.6124234099376733, 'min_data_in_leaf': 8, 'max_bin': 229, 'bagging_freq': 2, 'bagging_fraction': 0.6440176528194214}. Best is trial 32 with value: 0.14540191776657313.\n"
     ]
    },
    {
     "name": "stdout",
     "output_type": "stream",
     "text": [
      "Repeat \u001b[1m\u001b[34m#1\n",
      "Repeat \u001b[1m\u001b[34m#2\n",
      "Repeat \u001b[1m\u001b[34m#3\n",
      "Repeat \u001b[1m\u001b[34m#4\n",
      "Repeat \u001b[1m\u001b[34m#5\n"
     ]
    },
    {
     "name": "stderr",
     "output_type": "stream",
     "text": [
      "[I 2023-06-16 10:09:35,216] Trial 351 finished with value: 0.14973870112941937 and parameters: {'boosting_type': 'gbdt', 'learning_rate': 0.2998963103012901, 'lambda_l1': 0.00019475948735851815, 'lambda_l2': 0.0003410361359124279, 'max_depth': 7, 'num_leaves': 107, 'feature_fraction': 0.48525905982361617, 'min_data_in_leaf': 10, 'max_bin': 32, 'bagging_freq': 6, 'bagging_fraction': 0.5711137106474875}. Best is trial 32 with value: 0.14540191776657313.\n"
     ]
    },
    {
     "name": "stdout",
     "output_type": "stream",
     "text": [
      "Repeat \u001b[1m\u001b[34m#1\n",
      "Repeat \u001b[1m\u001b[34m#2\n",
      "Repeat \u001b[1m\u001b[34m#3\n",
      "Repeat \u001b[1m\u001b[34m#4\n",
      "Repeat \u001b[1m\u001b[34m#5\n"
     ]
    },
    {
     "name": "stderr",
     "output_type": "stream",
     "text": [
      "[I 2023-06-16 10:09:36,582] Trial 352 finished with value: 0.1751134000371855 and parameters: {'boosting_type': 'gbdt', 'learning_rate': 0.18908497422983914, 'lambda_l1': 0.00016109745816181328, 'lambda_l2': 0.0009581052047939781, 'max_depth': 7, 'num_leaves': 106, 'feature_fraction': 0.3304343530419404, 'min_data_in_leaf': 15, 'max_bin': 32, 'bagging_freq': 6, 'bagging_fraction': 0.5708796074153106}. Best is trial 32 with value: 0.14540191776657313.\n"
     ]
    },
    {
     "name": "stdout",
     "output_type": "stream",
     "text": [
      "Repeat \u001b[1m\u001b[34m#1\n",
      "Repeat \u001b[1m\u001b[34m#2\n",
      "Repeat \u001b[1m\u001b[34m#3\n",
      "Repeat \u001b[1m\u001b[34m#4\n",
      "Repeat \u001b[1m\u001b[34m#5\n"
     ]
    },
    {
     "name": "stderr",
     "output_type": "stream",
     "text": [
      "[I 2023-06-16 10:09:38,189] Trial 353 finished with value: 0.16726382703633202 and parameters: {'boosting_type': 'gbdt', 'learning_rate': 0.13290114834687364, 'lambda_l1': 3.7938743319919514e-08, 'lambda_l2': 0.00040884660923273103, 'max_depth': 7, 'num_leaves': 18, 'feature_fraction': 0.4015102126848062, 'min_data_in_leaf': 11, 'max_bin': 40, 'bagging_freq': 6, 'bagging_fraction': 0.5741997109149227}. Best is trial 32 with value: 0.14540191776657313.\n"
     ]
    },
    {
     "name": "stdout",
     "output_type": "stream",
     "text": [
      "Repeat \u001b[1m\u001b[34m#1\n",
      "Repeat \u001b[1m\u001b[34m#2\n",
      "Repeat \u001b[1m\u001b[34m#3\n",
      "Repeat \u001b[1m\u001b[34m#4\n",
      "Repeat \u001b[1m\u001b[34m#5\n"
     ]
    },
    {
     "name": "stderr",
     "output_type": "stream",
     "text": [
      "[I 2023-06-16 10:09:39,715] Trial 354 finished with value: 0.17955813149006672 and parameters: {'boosting_type': 'gbdt', 'learning_rate': 0.19288540808409613, 'lambda_l1': 0.0002565733592952597, 'lambda_l2': 3.079192152274392e-06, 'max_depth': 10, 'num_leaves': 97, 'feature_fraction': 0.4870788442837305, 'min_data_in_leaf': 10, 'max_bin': 36, 'bagging_freq': 7, 'bagging_fraction': 0.5686271901771769}. Best is trial 32 with value: 0.14540191776657313.\n"
     ]
    },
    {
     "name": "stdout",
     "output_type": "stream",
     "text": [
      "Repeat \u001b[1m\u001b[34m#1\n",
      "Repeat \u001b[1m\u001b[34m#2\n",
      "Repeat \u001b[1m\u001b[34m#3\n",
      "Repeat \u001b[1m\u001b[34m#4\n",
      "Repeat \u001b[1m\u001b[34m#5\n"
     ]
    },
    {
     "name": "stderr",
     "output_type": "stream",
     "text": [
      "[I 2023-06-16 10:09:41,171] Trial 355 finished with value: 0.1751922823336587 and parameters: {'boosting_type': 'gbdt', 'learning_rate': 0.21064771989860864, 'lambda_l1': 1.1888328016211734e-05, 'lambda_l2': 1.781598362144479e-08, 'max_depth': 7, 'num_leaves': 104, 'feature_fraction': 0.4985933770452544, 'min_data_in_leaf': 9, 'max_bin': 38, 'bagging_freq': 6, 'bagging_fraction': 0.667177310998214}. Best is trial 32 with value: 0.14540191776657313.\n"
     ]
    },
    {
     "name": "stdout",
     "output_type": "stream",
     "text": [
      "Repeat \u001b[1m\u001b[34m#1\n",
      "Repeat \u001b[1m\u001b[34m#2\n",
      "Repeat \u001b[1m\u001b[34m#3\n",
      "Repeat \u001b[1m\u001b[34m#4\n",
      "Repeat \u001b[1m\u001b[34m#5\n"
     ]
    },
    {
     "name": "stderr",
     "output_type": "stream",
     "text": [
      "[I 2023-06-16 10:09:42,600] Trial 356 finished with value: 0.18250616725131277 and parameters: {'boosting_type': 'gbdt', 'learning_rate': 0.2529670410130568, 'lambda_l1': 0.0001936419782834193, 'lambda_l2': 0.003029210225103224, 'max_depth': 7, 'num_leaves': 99, 'feature_fraction': 0.3930940849668841, 'min_data_in_leaf': 5, 'max_bin': 50, 'bagging_freq': 7, 'bagging_fraction': 0.5586769932360007}. Best is trial 32 with value: 0.14540191776657313.\n"
     ]
    },
    {
     "name": "stdout",
     "output_type": "stream",
     "text": [
      "Repeat \u001b[1m\u001b[34m#1\n",
      "Repeat \u001b[1m\u001b[34m#2\n",
      "Repeat \u001b[1m\u001b[34m#3\n",
      "Repeat \u001b[1m\u001b[34m#4\n",
      "Repeat \u001b[1m\u001b[34m#5\n"
     ]
    },
    {
     "name": "stderr",
     "output_type": "stream",
     "text": [
      "[I 2023-06-16 10:09:44,016] Trial 357 finished with value: 0.18049319607132044 and parameters: {'boosting_type': 'gbdt', 'learning_rate': 0.22175353469475242, 'lambda_l1': 9.730429507205197e-05, 'lambda_l2': 0.0006386896782592095, 'max_depth': 7, 'num_leaves': 121, 'feature_fraction': 0.49031396692929685, 'min_data_in_leaf': 7, 'max_bin': 92, 'bagging_freq': 5, 'bagging_fraction': 0.49025834555958414}. Best is trial 32 with value: 0.14540191776657313.\n"
     ]
    },
    {
     "name": "stdout",
     "output_type": "stream",
     "text": [
      "Repeat \u001b[1m\u001b[34m#1\n",
      "Repeat \u001b[1m\u001b[34m#2\n",
      "Repeat \u001b[1m\u001b[34m#3\n",
      "Repeat \u001b[1m\u001b[34m#4\n",
      "Repeat \u001b[1m\u001b[34m#5\n"
     ]
    },
    {
     "name": "stderr",
     "output_type": "stream",
     "text": [
      "[I 2023-06-16 10:09:46,332] Trial 358 finished with value: 0.15754418898633527 and parameters: {'boosting_type': 'gbdt', 'learning_rate': 0.07795429547811815, 'lambda_l1': 0.0005201486992524883, 'lambda_l2': 0.0012939882715924916, 'max_depth': 7, 'num_leaves': 112, 'feature_fraction': 0.4804315187488897, 'min_data_in_leaf': 7, 'max_bin': 60, 'bagging_freq': 6, 'bagging_fraction': 0.5824512555967446}. Best is trial 32 with value: 0.14540191776657313.\n"
     ]
    },
    {
     "name": "stdout",
     "output_type": "stream",
     "text": [
      "Repeat \u001b[1m\u001b[34m#1\n",
      "Repeat \u001b[1m\u001b[34m#2\n",
      "Repeat \u001b[1m\u001b[34m#3\n",
      "Repeat \u001b[1m\u001b[34m#4\n",
      "Repeat \u001b[1m\u001b[34m#5\n"
     ]
    },
    {
     "name": "stderr",
     "output_type": "stream",
     "text": [
      "[I 2023-06-16 10:09:47,909] Trial 359 finished with value: 0.17373738831855637 and parameters: {'boosting_type': 'gbdt', 'learning_rate': 0.14254028094200027, 'lambda_l1': 1.5066333557223852e-07, 'lambda_l2': 0.00032445946343781837, 'max_depth': 7, 'num_leaves': 107, 'feature_fraction': 0.41032101467353677, 'min_data_in_leaf': 12, 'max_bin': 33, 'bagging_freq': 4, 'bagging_fraction': 0.5504664071793421}. Best is trial 32 with value: 0.14540191776657313.\n"
     ]
    },
    {
     "name": "stdout",
     "output_type": "stream",
     "text": [
      "Repeat \u001b[1m\u001b[34m#1\n",
      "Repeat \u001b[1m\u001b[34m#2\n",
      "Repeat \u001b[1m\u001b[34m#3\n",
      "Repeat \u001b[1m\u001b[34m#4\n",
      "Repeat \u001b[1m\u001b[34m#5\n"
     ]
    },
    {
     "name": "stderr",
     "output_type": "stream",
     "text": [
      "[I 2023-06-16 10:10:10,881] Trial 360 finished with value: 0.21974207389920317 and parameters: {'boosting_type': 'dart', 'learning_rate': 0.013622450471670072, 'lambda_l1': 0.170762696770384, 'lambda_l2': 0.009290935696225272, 'max_depth': 7, 'num_leaves': 102, 'feature_fraction': 0.4420877979507422, 'min_data_in_leaf': 5, 'max_bin': 32, 'bagging_freq': 3, 'bagging_fraction': 0.5629123368144826}. Best is trial 32 with value: 0.14540191776657313.\n"
     ]
    },
    {
     "name": "stdout",
     "output_type": "stream",
     "text": [
      "Repeat \u001b[1m\u001b[34m#1\n",
      "Repeat \u001b[1m\u001b[34m#2\n",
      "Repeat \u001b[1m\u001b[34m#3\n",
      "Repeat \u001b[1m\u001b[34m#4\n",
      "Repeat \u001b[1m\u001b[34m#5\n"
     ]
    },
    {
     "name": "stderr",
     "output_type": "stream",
     "text": [
      "[I 2023-06-16 10:10:12,386] Trial 361 finished with value: 0.1745781638116452 and parameters: {'boosting_type': 'gbdt', 'learning_rate': 0.17768525314648306, 'lambda_l1': 3.0600988622930313e-07, 'lambda_l2': 0.0006881469337532742, 'max_depth': 8, 'num_leaves': 83, 'feature_fraction': 0.4953802948750996, 'min_data_in_leaf': 10, 'max_bin': 41, 'bagging_freq': 5, 'bagging_fraction': 0.5055059234473055}. Best is trial 32 with value: 0.14540191776657313.\n"
     ]
    },
    {
     "name": "stdout",
     "output_type": "stream",
     "text": [
      "Repeat \u001b[1m\u001b[34m#1\n",
      "Repeat \u001b[1m\u001b[34m#2\n",
      "Repeat \u001b[1m\u001b[34m#3\n",
      "Repeat \u001b[1m\u001b[34m#4\n",
      "Repeat \u001b[1m\u001b[34m#5\n"
     ]
    },
    {
     "name": "stderr",
     "output_type": "stream",
     "text": [
      "[I 2023-06-16 10:10:13,591] Trial 362 finished with value: 0.19286965360941127 and parameters: {'boosting_type': 'gbdt', 'learning_rate': 0.29859331447664467, 'lambda_l1': 3.0017575771854e-06, 'lambda_l2': 3.153268897412115e-05, 'max_depth': 7, 'num_leaves': 105, 'feature_fraction': 0.5791758588971252, 'min_data_in_leaf': 8, 'max_bin': 215, 'bagging_freq': 4, 'bagging_fraction': 0.5782308323191498}. Best is trial 32 with value: 0.14540191776657313.\n"
     ]
    },
    {
     "name": "stdout",
     "output_type": "stream",
     "text": [
      "Repeat \u001b[1m\u001b[34m#1\n",
      "Repeat \u001b[1m\u001b[34m#2\n",
      "Repeat \u001b[1m\u001b[34m#3\n",
      "Repeat \u001b[1m\u001b[34m#4\n",
      "Repeat \u001b[1m\u001b[34m#5\n"
     ]
    },
    {
     "name": "stderr",
     "output_type": "stream",
     "text": [
      "[I 2023-06-16 10:10:16,758] Trial 363 finished with value: 0.3903397955603737 and parameters: {'boosting_type': 'gbdt', 'learning_rate': 0.023713917044240584, 'lambda_l1': 0.010444716800446377, 'lambda_l2': 0.00028204699067294444, 'max_depth': 7, 'num_leaves': 109, 'feature_fraction': 0.3443287366240358, 'min_data_in_leaf': 50, 'max_bin': 45, 'bagging_freq': 4, 'bagging_fraction': 0.546279943139504}. Best is trial 32 with value: 0.14540191776657313.\n"
     ]
    },
    {
     "name": "stdout",
     "output_type": "stream",
     "text": [
      "Repeat \u001b[1m\u001b[34m#1\n",
      "Repeat \u001b[1m\u001b[34m#2\n",
      "Repeat \u001b[1m\u001b[34m#3\n",
      "Repeat \u001b[1m\u001b[34m#4\n",
      "Repeat \u001b[1m\u001b[34m#5\n"
     ]
    },
    {
     "name": "stderr",
     "output_type": "stream",
     "text": [
      "[I 2023-06-16 10:10:19,068] Trial 364 finished with value: 0.1624865823285398 and parameters: {'boosting_type': 'gbdt', 'learning_rate': 0.10949967564921285, 'lambda_l1': 1.9034609773156043e-08, 'lambda_l2': 6.50170418191683e-05, 'max_depth': 9, 'num_leaves': 116, 'feature_fraction': 0.30952037048512737, 'min_data_in_leaf': 5, 'max_bin': 255, 'bagging_freq': 4, 'bagging_fraction': 0.5850526178416627}. Best is trial 32 with value: 0.14540191776657313.\n"
     ]
    },
    {
     "name": "stdout",
     "output_type": "stream",
     "text": [
      "Repeat \u001b[1m\u001b[34m#1\n",
      "Repeat \u001b[1m\u001b[34m#2\n",
      "Repeat \u001b[1m\u001b[34m#3\n",
      "Repeat \u001b[1m\u001b[34m#4\n",
      "Repeat \u001b[1m\u001b[34m#5\n"
     ]
    },
    {
     "name": "stderr",
     "output_type": "stream",
     "text": [
      "[I 2023-06-16 10:10:20,780] Trial 365 finished with value: 0.16670272869061115 and parameters: {'boosting_type': 'gbdt', 'learning_rate': 0.14622528373829272, 'lambda_l1': 2.1521676749289623e-05, 'lambda_l2': 0.000478189968400964, 'max_depth': 7, 'num_leaves': 101, 'feature_fraction': 0.398265278213393, 'min_data_in_leaf': 7, 'max_bin': 37, 'bagging_freq': 3, 'bagging_fraction': 0.5339212485163479}. Best is trial 32 with value: 0.14540191776657313.\n"
     ]
    },
    {
     "name": "stdout",
     "output_type": "stream",
     "text": [
      "Repeat \u001b[1m\u001b[34m#1\n",
      "Repeat \u001b[1m\u001b[34m#2\n",
      "Repeat \u001b[1m\u001b[34m#3\n",
      "Repeat \u001b[1m\u001b[34m#4\n",
      "Repeat \u001b[1m\u001b[34m#5\n"
     ]
    },
    {
     "name": "stderr",
     "output_type": "stream",
     "text": [
      "[I 2023-06-16 10:10:22,077] Trial 366 finished with value: 0.18129831098678803 and parameters: {'boosting_type': 'gbdt', 'learning_rate': 0.24494755462077797, 'lambda_l1': 0.0024112412260820504, 'lambda_l2': 0.0011726650528249814, 'max_depth': 7, 'num_leaves': 113, 'feature_fraction': 0.4715754037297681, 'min_data_in_leaf': 9, 'max_bin': 224, 'bagging_freq': 4, 'bagging_fraction': 0.5147437315623267}. Best is trial 32 with value: 0.14540191776657313.\n"
     ]
    },
    {
     "name": "stdout",
     "output_type": "stream",
     "text": [
      "Repeat \u001b[1m\u001b[34m#1\n",
      "Repeat \u001b[1m\u001b[34m#2\n",
      "Repeat \u001b[1m\u001b[34m#3\n",
      "Repeat \u001b[1m\u001b[34m#4\n",
      "Repeat \u001b[1m\u001b[34m#5\n"
     ]
    },
    {
     "name": "stderr",
     "output_type": "stream",
     "text": [
      "[I 2023-06-16 10:10:23,531] Trial 367 finished with value: 0.1580456094643538 and parameters: {'boosting_type': 'gbdt', 'learning_rate': 0.25405766507426003, 'lambda_l1': 0.00013872782507953974, 'lambda_l2': 0.002145293941544262, 'max_depth': 7, 'num_leaves': 107, 'feature_fraction': 0.4549209779387475, 'min_data_in_leaf': 5, 'max_bin': 85, 'bagging_freq': 3, 'bagging_fraction': 0.499750699576898}. Best is trial 32 with value: 0.14540191776657313.\n"
     ]
    },
    {
     "name": "stdout",
     "output_type": "stream",
     "text": [
      "Repeat \u001b[1m\u001b[34m#1\n",
      "Repeat \u001b[1m\u001b[34m#2\n",
      "Repeat \u001b[1m\u001b[34m#3\n",
      "Repeat \u001b[1m\u001b[34m#4\n",
      "Repeat \u001b[1m\u001b[34m#5\n"
     ]
    },
    {
     "name": "stderr",
     "output_type": "stream",
     "text": [
      "[I 2023-06-16 10:10:25,771] Trial 368 finished with value: 0.16659659096321272 and parameters: {'boosting_type': 'gbdt', 'learning_rate': 0.07422699510913122, 'lambda_l1': 1.6781719344295777e-05, 'lambda_l2': 0.00014158670219656093, 'max_depth': 7, 'num_leaves': 103, 'feature_fraction': 0.485189560120859, 'min_data_in_leaf': 13, 'max_bin': 247, 'bagging_freq': 4, 'bagging_fraction': 0.5234300007174445}. Best is trial 32 with value: 0.14540191776657313.\n"
     ]
    },
    {
     "name": "stdout",
     "output_type": "stream",
     "text": [
      "Repeat \u001b[1m\u001b[34m#1\n",
      "Repeat \u001b[1m\u001b[34m#2\n",
      "Repeat \u001b[1m\u001b[34m#3\n",
      "Repeat \u001b[1m\u001b[34m#4\n",
      "Repeat \u001b[1m\u001b[34m#5\n"
     ]
    },
    {
     "name": "stderr",
     "output_type": "stream",
     "text": [
      "[I 2023-06-16 10:10:27,337] Trial 369 finished with value: 0.18100590808727268 and parameters: {'boosting_type': 'gbdt', 'learning_rate': 0.16621281683086572, 'lambda_l1': 0.0010083720605888733, 'lambda_l2': 4.9571000941119365e-05, 'max_depth': 9, 'num_leaves': 111, 'feature_fraction': 0.4733069611022848, 'min_data_in_leaf': 8, 'max_bin': 75, 'bagging_freq': 4, 'bagging_fraction': 0.5702453134305197}. Best is trial 32 with value: 0.14540191776657313.\n"
     ]
    },
    {
     "name": "stdout",
     "output_type": "stream",
     "text": [
      "Repeat \u001b[1m\u001b[34m#1\n",
      "Repeat \u001b[1m\u001b[34m#2\n",
      "Repeat \u001b[1m\u001b[34m#3\n",
      "Repeat \u001b[1m\u001b[34m#4\n",
      "Repeat \u001b[1m\u001b[34m#5\n"
     ]
    },
    {
     "name": "stderr",
     "output_type": "stream",
     "text": [
      "[I 2023-06-16 10:10:30,914] Trial 370 finished with value: 0.15220898372770725 and parameters: {'boosting_type': 'goss', 'learning_rate': 0.12535844633491242, 'lambda_l1': 3.743105570869328e-05, 'lambda_l2': 0.004017819014386233, 'max_depth': 7, 'num_leaves': 99, 'feature_fraction': 0.46624897554371075, 'min_data_in_leaf': 7, 'max_bin': 240, 'bagging_freq': 2}. Best is trial 32 with value: 0.14540191776657313.\n"
     ]
    },
    {
     "name": "stdout",
     "output_type": "stream",
     "text": [
      "Repeat \u001b[1m\u001b[34m#1\n",
      "Repeat \u001b[1m\u001b[34m#2\n",
      "Repeat \u001b[1m\u001b[34m#3\n",
      "Repeat \u001b[1m\u001b[34m#4\n",
      "Repeat \u001b[1m\u001b[34m#5\n"
     ]
    },
    {
     "name": "stderr",
     "output_type": "stream",
     "text": [
      "[I 2023-06-16 10:10:32,765] Trial 371 finished with value: 0.16776740015524588 and parameters: {'boosting_type': 'goss', 'learning_rate': 0.1252194096300738, 'lambda_l1': 4.363133189210869e-06, 'lambda_l2': 0.004409865262928296, 'max_depth': 7, 'num_leaves': 96, 'feature_fraction': 0.3276867564460441, 'min_data_in_leaf': 10, 'max_bin': 242, 'bagging_freq': 2}. Best is trial 32 with value: 0.14540191776657313.\n"
     ]
    },
    {
     "name": "stdout",
     "output_type": "stream",
     "text": [
      "Repeat \u001b[1m\u001b[34m#1\n",
      "Repeat \u001b[1m\u001b[34m#2\n",
      "Repeat \u001b[1m\u001b[34m#3\n",
      "Repeat \u001b[1m\u001b[34m#4\n",
      "Repeat \u001b[1m\u001b[34m#5\n"
     ]
    },
    {
     "name": "stderr",
     "output_type": "stream",
     "text": [
      "[I 2023-06-16 10:10:34,978] Trial 372 finished with value: 0.16632469563772595 and parameters: {'boosting_type': 'goss', 'learning_rate': 0.08710658508973039, 'lambda_l1': 3.63656059569678e-05, 'lambda_l2': 0.0038899748298094677, 'max_depth': 10, 'num_leaves': 99, 'feature_fraction': 0.5733356153090309, 'min_data_in_leaf': 6, 'max_bin': 110, 'bagging_freq': 2}. Best is trial 32 with value: 0.14540191776657313.\n"
     ]
    },
    {
     "name": "stdout",
     "output_type": "stream",
     "text": [
      "Repeat \u001b[1m\u001b[34m#1\n",
      "Repeat \u001b[1m\u001b[34m#2\n",
      "Repeat \u001b[1m\u001b[34m#3\n",
      "Repeat \u001b[1m\u001b[34m#4\n",
      "Repeat \u001b[1m\u001b[34m#5\n"
     ]
    },
    {
     "name": "stderr",
     "output_type": "stream",
     "text": [
      "[I 2023-06-16 10:10:36,383] Trial 373 finished with value: 0.17257764879880422 and parameters: {'boosting_type': 'goss', 'learning_rate': 0.29852554325429675, 'lambda_l1': 0.0001259895411733913, 'lambda_l2': 0.0017112661848647643, 'max_depth': 6, 'num_leaves': 97, 'feature_fraction': 0.4262529685044313, 'min_data_in_leaf': 5, 'max_bin': 240, 'bagging_freq': 2}. Best is trial 32 with value: 0.14540191776657313.\n"
     ]
    },
    {
     "name": "stdout",
     "output_type": "stream",
     "text": [
      "Repeat \u001b[1m\u001b[34m#1\n",
      "Repeat \u001b[1m\u001b[34m#2\n",
      "Repeat \u001b[1m\u001b[34m#3\n",
      "Repeat \u001b[1m\u001b[34m#4\n",
      "Repeat \u001b[1m\u001b[34m#5\n"
     ]
    },
    {
     "name": "stderr",
     "output_type": "stream",
     "text": [
      "[I 2023-06-16 10:10:38,456] Trial 374 finished with value: 0.21760191993407166 and parameters: {'boosting_type': 'goss', 'learning_rate': 0.10324720745112317, 'lambda_l1': 4.80309944972914e-05, 'lambda_l2': 0.00253800036400428, 'max_depth': 7, 'num_leaves': 66, 'feature_fraction': 0.4838859993060582, 'min_data_in_leaf': 22, 'max_bin': 243, 'bagging_freq': 2}. Best is trial 32 with value: 0.14540191776657313.\n"
     ]
    },
    {
     "name": "stdout",
     "output_type": "stream",
     "text": [
      "Repeat \u001b[1m\u001b[34m#1\n",
      "Repeat \u001b[1m\u001b[34m#2\n",
      "Repeat \u001b[1m\u001b[34m#3\n",
      "Repeat \u001b[1m\u001b[34m#4\n"
     ]
    },
    {
     "name": "stderr",
     "output_type": "stream",
     "text": [
      "[I 2023-06-16 10:10:39,060] Trial 375 finished with value: 0.5905304832611178 and parameters: {'boosting_type': 'goss', 'learning_rate': 0.160314629083159, 'lambda_l1': 7.453756140756321e-05, 'lambda_l2': 0.006098421802837562, 'max_depth': 7, 'num_leaves': 92, 'feature_fraction': 0.4127773240923636, 'min_data_in_leaf': 59, 'max_bin': 48, 'bagging_freq': 2}. Best is trial 32 with value: 0.14540191776657313.\n"
     ]
    },
    {
     "name": "stdout",
     "output_type": "stream",
     "text": [
      "Repeat \u001b[1m\u001b[34m#5\n",
      "Repeat \u001b[1m\u001b[34m#1\n",
      "Repeat \u001b[1m\u001b[34m#2\n",
      "Repeat \u001b[1m\u001b[34m#3\n",
      "Repeat \u001b[1m\u001b[34m#4\n",
      "Repeat \u001b[1m\u001b[34m#5\n"
     ]
    },
    {
     "name": "stderr",
     "output_type": "stream",
     "text": [
      "[I 2023-06-16 10:10:41,146] Trial 376 finished with value: 0.161017287712996 and parameters: {'boosting_type': 'gbdt', 'learning_rate': 0.11998919047900083, 'lambda_l1': 0.0005902027389551316, 'lambda_l2': 0.018093202492672884, 'max_depth': 7, 'num_leaves': 100, 'feature_fraction': 0.37719068298138375, 'min_data_in_leaf': 7, 'max_bin': 42, 'bagging_freq': 2, 'bagging_fraction': 0.5908900622915474}. Best is trial 32 with value: 0.14540191776657313.\n"
     ]
    },
    {
     "name": "stdout",
     "output_type": "stream",
     "text": [
      "Repeat \u001b[1m\u001b[34m#1\n",
      "Repeat \u001b[1m\u001b[34m#2\n",
      "Repeat \u001b[1m\u001b[34m#3\n",
      "Repeat \u001b[1m\u001b[34m#4\n",
      "Repeat \u001b[1m\u001b[34m#5\n"
     ]
    },
    {
     "name": "stderr",
     "output_type": "stream",
     "text": [
      "[I 2023-06-16 10:10:42,967] Trial 377 finished with value: 0.165005690968061 and parameters: {'boosting_type': 'goss', 'learning_rate': 0.13741088013627442, 'lambda_l1': 3.262410630690028e-05, 'lambda_l2': 0.0009746528324959734, 'max_depth': 7, 'num_leaves': 94, 'feature_fraction': 0.5855075140889465, 'min_data_in_leaf': 9, 'max_bin': 249, 'bagging_freq': 2}. Best is trial 32 with value: 0.14540191776657313.\n"
     ]
    },
    {
     "name": "stdout",
     "output_type": "stream",
     "text": [
      "Repeat \u001b[1m\u001b[34m#1\n",
      "Repeat \u001b[1m\u001b[34m#2\n",
      "Repeat \u001b[1m\u001b[34m#3\n",
      "Repeat \u001b[1m\u001b[34m#4\n",
      "Repeat \u001b[1m\u001b[34m#5\n"
     ]
    },
    {
     "name": "stderr",
     "output_type": "stream",
     "text": [
      "[I 2023-06-16 10:10:55,385] Trial 378 finished with value: 0.35377116814416176 and parameters: {'boosting_type': 'goss', 'learning_rate': 0.00135467157985511, 'lambda_l1': 0.0002770631469105518, 'lambda_l2': 0.003177743247490426, 'max_depth': 7, 'num_leaves': 102, 'feature_fraction': 0.32212662830956607, 'min_data_in_leaf': 5, 'max_bin': 237, 'bagging_freq': 1}. Best is trial 32 with value: 0.14540191776657313.\n"
     ]
    },
    {
     "name": "stdout",
     "output_type": "stream",
     "text": [
      "Repeat \u001b[1m\u001b[34m#1\n",
      "Repeat \u001b[1m\u001b[34m#2\n",
      "Repeat \u001b[1m\u001b[34m#3\n",
      "Repeat \u001b[1m\u001b[34m#4\n",
      "Repeat \u001b[1m\u001b[34m#5\n"
     ]
    },
    {
     "name": "stderr",
     "output_type": "stream",
     "text": [
      "[I 2023-06-16 10:11:01,942] Trial 379 finished with value: 0.20969888923752836 and parameters: {'boosting_type': 'goss', 'learning_rate': 0.008483093757108495, 'lambda_l1': 0.0001859162457331168, 'lambda_l2': 1.7612550805129168e-05, 'max_depth': 9, 'num_leaves': 104, 'feature_fraction': 0.36613702161912554, 'min_data_in_leaf': 11, 'max_bin': 245, 'bagging_freq': 3}. Best is trial 32 with value: 0.14540191776657313.\n"
     ]
    },
    {
     "name": "stdout",
     "output_type": "stream",
     "text": [
      "Repeat \u001b[1m\u001b[34m#1\n",
      "Repeat \u001b[1m\u001b[34m#2\n",
      "Repeat \u001b[1m\u001b[34m#3\n",
      "Repeat \u001b[1m\u001b[34m#4\n",
      "Repeat \u001b[1m\u001b[34m#5\n"
     ]
    },
    {
     "name": "stderr",
     "output_type": "stream",
     "text": [
      "[I 2023-06-16 10:11:09,745] Trial 380 finished with value: 0.16624294163451214 and parameters: {'boosting_type': 'gbdt', 'learning_rate': 0.012066443672319236, 'lambda_l1': 7.424376408634002e-06, 'lambda_l2': 0.011104063122411221, 'max_depth': 7, 'num_leaves': 119, 'feature_fraction': 0.3562298901000853, 'min_data_in_leaf': 7, 'max_bin': 63, 'bagging_freq': 2, 'bagging_fraction': 0.5525507060877274}. Best is trial 32 with value: 0.14540191776657313.\n"
     ]
    },
    {
     "name": "stdout",
     "output_type": "stream",
     "text": [
      "Repeat \u001b[1m\u001b[34m#1\n",
      "Repeat \u001b[1m\u001b[34m#2\n",
      "Repeat \u001b[1m\u001b[34m#3\n",
      "Repeat \u001b[1m\u001b[34m#4\n",
      "Repeat \u001b[1m\u001b[34m#5\n"
     ]
    },
    {
     "name": "stderr",
     "output_type": "stream",
     "text": [
      "[I 2023-06-16 10:11:12,348] Trial 381 finished with value: 0.16202314579052068 and parameters: {'boosting_type': 'gbdt', 'learning_rate': 0.06265458734001421, 'lambda_l1': 0.0004730830035671327, 'lambda_l2': 0.0007033611504162337, 'max_depth': 7, 'num_leaves': 98, 'feature_fraction': 0.4241972383966435, 'min_data_in_leaf': 9, 'max_bin': 123, 'bagging_freq': 5, 'bagging_fraction': 0.48554379657611524}. Best is trial 32 with value: 0.14540191776657313.\n"
     ]
    },
    {
     "name": "stdout",
     "output_type": "stream",
     "text": [
      "Repeat \u001b[1m\u001b[34m#1\n",
      "Repeat \u001b[1m\u001b[34m#2\n",
      "Repeat \u001b[1m\u001b[34m#3\n",
      "Repeat \u001b[1m\u001b[34m#4\n",
      "Repeat \u001b[1m\u001b[34m#5\n"
     ]
    },
    {
     "name": "stderr",
     "output_type": "stream",
     "text": [
      "[I 2023-06-16 10:11:16,741] Trial 382 finished with value: 0.1572190676414402 and parameters: {'boosting_type': 'gbdt', 'learning_rate': 0.025838586624244996, 'lambda_l1': 0.0013452914736285584, 'lambda_l2': 0.0014999912981121302, 'max_depth': 8, 'num_leaves': 105, 'feature_fraction': 0.3651913509380585, 'min_data_in_leaf': 7, 'max_bin': 240, 'bagging_freq': 3, 'bagging_fraction': 0.5775844162842318}. Best is trial 32 with value: 0.14540191776657313.\n"
     ]
    },
    {
     "name": "stdout",
     "output_type": "stream",
     "text": [
      "Repeat \u001b[1m\u001b[34m#1\n",
      "Repeat \u001b[1m\u001b[34m#2\n",
      "Repeat \u001b[1m\u001b[34m#3\n",
      "Repeat \u001b[1m\u001b[34m#4\n",
      "Repeat \u001b[1m\u001b[34m#5\n"
     ]
    },
    {
     "name": "stderr",
     "output_type": "stream",
     "text": [
      "[I 2023-06-16 10:11:37,548] Trial 383 finished with value: 0.2988606467884929 and parameters: {'boosting_type': 'dart', 'learning_rate': 0.21047469668630803, 'lambda_l1': 1.7277456654388007e-05, 'lambda_l2': 3.058256256709731e-05, 'max_depth': 8, 'num_leaves': 101, 'feature_fraction': 0.4949480122729399, 'min_data_in_leaf': 5, 'max_bin': 55, 'bagging_freq': 6, 'bagging_fraction': 0.5617517759332733}. Best is trial 32 with value: 0.14540191776657313.\n"
     ]
    },
    {
     "name": "stdout",
     "output_type": "stream",
     "text": [
      "Repeat \u001b[1m\u001b[34m#1\n",
      "Repeat \u001b[1m\u001b[34m#2\n",
      "Repeat \u001b[1m\u001b[34m#3\n",
      "Repeat \u001b[1m\u001b[34m#4\n",
      "Repeat \u001b[1m\u001b[34m#5\n"
     ]
    },
    {
     "name": "stderr",
     "output_type": "stream",
     "text": [
      "[I 2023-06-16 10:11:43,350] Trial 384 finished with value: 0.16626528983280695 and parameters: {'boosting_type': 'gbdt', 'learning_rate': 0.01764040443690261, 'lambda_l1': 0.0008194109655956938, 'lambda_l2': 0.00042029046837509677, 'max_depth': 7, 'num_leaves': 26, 'feature_fraction': 0.6019671581363851, 'min_data_in_leaf': 8, 'max_bin': 211, 'bagging_freq': 3, 'bagging_fraction': 0.6393708496687681}. Best is trial 32 with value: 0.14540191776657313.\n"
     ]
    },
    {
     "name": "stdout",
     "output_type": "stream",
     "text": [
      "Repeat \u001b[1m\u001b[34m#1\n",
      "Repeat \u001b[1m\u001b[34m#2\n",
      "Repeat \u001b[1m\u001b[34m#3\n",
      "Repeat \u001b[1m\u001b[34m#4\n",
      "Repeat \u001b[1m\u001b[34m#5\n"
     ]
    },
    {
     "name": "stderr",
     "output_type": "stream",
     "text": [
      "[I 2023-06-16 10:11:45,314] Trial 385 finished with value: 0.15529325744357841 and parameters: {'boosting_type': 'gbdt', 'learning_rate': 0.10712666160231242, 'lambda_l1': 6.069044961445966e-05, 'lambda_l2': 0.00769923985594486, 'max_depth': 7, 'num_leaves': 107, 'feature_fraction': 0.6222107016594137, 'min_data_in_leaf': 5, 'max_bin': 115, 'bagging_freq': 3, 'bagging_fraction': 0.6001428739817415}. Best is trial 32 with value: 0.14540191776657313.\n"
     ]
    },
    {
     "name": "stdout",
     "output_type": "stream",
     "text": [
      "Repeat \u001b[1m\u001b[34m#1\n",
      "Repeat \u001b[1m\u001b[34m#2\n",
      "Repeat \u001b[1m\u001b[34m#3\n",
      "Repeat \u001b[1m\u001b[34m#4\n",
      "Repeat \u001b[1m\u001b[34m#5\n"
     ]
    },
    {
     "name": "stderr",
     "output_type": "stream",
     "text": [
      "[I 2023-06-16 10:11:47,256] Trial 386 finished with value: 0.16503948502765425 and parameters: {'boosting_type': 'gbdt', 'learning_rate': 0.10180849588513274, 'lambda_l1': 6.223790676388817e-05, 'lambda_l2': 0.007185920198905214, 'max_depth': 7, 'num_leaves': 107, 'feature_fraction': 0.6230144892010064, 'min_data_in_leaf': 11, 'max_bin': 102, 'bagging_freq': 3, 'bagging_fraction': 0.6012156732541342}. Best is trial 32 with value: 0.14540191776657313.\n"
     ]
    },
    {
     "name": "stdout",
     "output_type": "stream",
     "text": [
      "Repeat \u001b[1m\u001b[34m#1\n",
      "Repeat \u001b[1m\u001b[34m#2\n",
      "Repeat \u001b[1m\u001b[34m#3\n",
      "Repeat \u001b[1m\u001b[34m#4\n",
      "Repeat \u001b[1m\u001b[34m#5\n"
     ]
    },
    {
     "name": "stderr",
     "output_type": "stream",
     "text": [
      "[I 2023-06-16 10:11:49,511] Trial 387 finished with value: 0.1653919599581645 and parameters: {'boosting_type': 'gbdt', 'learning_rate': 0.08557500937063985, 'lambda_l1': 0.00010514672604405245, 'lambda_l2': 0.005169587083410025, 'max_depth': 7, 'num_leaves': 108, 'feature_fraction': 0.554105165948546, 'min_data_in_leaf': 7, 'max_bin': 98, 'bagging_freq': 3, 'bagging_fraction': 0.6109303505384345}. Best is trial 32 with value: 0.14540191776657313.\n"
     ]
    },
    {
     "name": "stdout",
     "output_type": "stream",
     "text": [
      "Repeat \u001b[1m\u001b[34m#1\n",
      "Repeat \u001b[1m\u001b[34m#2\n",
      "Repeat \u001b[1m\u001b[34m#3\n",
      "Repeat \u001b[1m\u001b[34m#4\n",
      "Repeat \u001b[1m\u001b[34m#5\n"
     ]
    },
    {
     "name": "stderr",
     "output_type": "stream",
     "text": [
      "[I 2023-06-16 10:11:55,660] Trial 388 finished with value: 0.2639017335482213 and parameters: {'boosting_type': 'gbdt', 'learning_rate': 0.004550111426760126, 'lambda_l1': 1.8208227115770216e-07, 'lambda_l2': 0.011319155893582096, 'max_depth': 10, 'num_leaves': 38, 'feature_fraction': 0.6063580780617976, 'min_data_in_leaf': 9, 'max_bin': 117, 'bagging_freq': 3, 'bagging_fraction': 0.30045653347372636}. Best is trial 32 with value: 0.14540191776657313.\n"
     ]
    },
    {
     "name": "stdout",
     "output_type": "stream",
     "text": [
      "Repeat \u001b[1m\u001b[34m#1\n",
      "Repeat \u001b[1m\u001b[34m#2\n",
      "Repeat \u001b[1m\u001b[34m#3\n",
      "Repeat \u001b[1m\u001b[34m#4\n",
      "Repeat \u001b[1m\u001b[34m#5\n"
     ]
    },
    {
     "name": "stderr",
     "output_type": "stream",
     "text": [
      "[I 2023-06-16 10:11:57,804] Trial 389 finished with value: 0.15907392128612172 and parameters: {'boosting_type': 'gbdt', 'learning_rate': 0.11689076794538483, 'lambda_l1': 5.857132747715333e-08, 'lambda_l2': 0.00642279961153673, 'max_depth': 7, 'num_leaves': 114, 'feature_fraction': 0.6267698745463584, 'min_data_in_leaf': 5, 'max_bin': 115, 'bagging_freq': 3, 'bagging_fraction': 0.6721703416882612}. Best is trial 32 with value: 0.14540191776657313.\n"
     ]
    },
    {
     "name": "stdout",
     "output_type": "stream",
     "text": [
      "Repeat \u001b[1m\u001b[34m#1\n",
      "Repeat \u001b[1m\u001b[34m#2\n",
      "Repeat \u001b[1m\u001b[34m#3\n",
      "Repeat \u001b[1m\u001b[34m#4\n",
      "Repeat \u001b[1m\u001b[34m#5\n"
     ]
    },
    {
     "name": "stderr",
     "output_type": "stream",
     "text": [
      "[I 2023-06-16 10:11:58,387] Trial 390 finished with value: 0.6973915667428459 and parameters: {'boosting_type': 'gbdt', 'learning_rate': 0.13626443304695413, 'lambda_l1': 2.49903816095718e-06, 'lambda_l2': 1.402384360515656e-06, 'max_depth': 6, 'num_leaves': 105, 'feature_fraction': 0.5479494012441982, 'min_data_in_leaf': 65, 'max_bin': 107, 'bagging_freq': 3, 'bagging_fraction': 0.5913950716197627}. Best is trial 32 with value: 0.14540191776657313.\n"
     ]
    },
    {
     "name": "stdout",
     "output_type": "stream",
     "text": [
      "Repeat \u001b[1m\u001b[34m#1\n",
      "Repeat \u001b[1m\u001b[34m#2\n",
      "Repeat \u001b[1m\u001b[34m#3\n",
      "Repeat \u001b[1m\u001b[34m#4\n",
      "Repeat \u001b[1m\u001b[34m#5\n"
     ]
    },
    {
     "name": "stderr",
     "output_type": "stream",
     "text": [
      "[I 2023-06-16 10:12:05,812] Trial 391 finished with value: 0.16308751519602188 and parameters: {'boosting_type': 'gbdt', 'learning_rate': 0.10139014641660644, 'lambda_l1': 3.856321371819077e-05, 'lambda_l2': 0.0034249674092685567, 'max_depth': 7, 'num_leaves': 122, 'feature_fraction': 0.6147596603537557, 'min_data_in_leaf': 7, 'max_bin': 105, 'bagging_freq': 3, 'bagging_fraction': 0.5991696636848416}. Best is trial 32 with value: 0.14540191776657313.\n"
     ]
    },
    {
     "name": "stdout",
     "output_type": "stream",
     "text": [
      "Repeat \u001b[1m\u001b[34m#1\n",
      "Repeat \u001b[1m\u001b[34m#2\n",
      "Repeat \u001b[1m\u001b[34m#3\n",
      "Repeat \u001b[1m\u001b[34m#4\n",
      "Repeat \u001b[1m\u001b[34m#5\n"
     ]
    },
    {
     "name": "stderr",
     "output_type": "stream",
     "text": [
      "[I 2023-06-16 10:12:18,046] Trial 392 finished with value: 0.2508043871644253 and parameters: {'boosting_type': 'gbdt', 'learning_rate': 0.0031289712596054525, 'lambda_l1': 0.00019786423770695125, 'lambda_l2': 0.1312789217985328, 'max_depth': 7, 'num_leaves': 109, 'feature_fraction': 0.6410990853014645, 'min_data_in_leaf': 9, 'max_bin': 137, 'bagging_freq': 2, 'bagging_fraction': 0.6058047112609415}. Best is trial 32 with value: 0.14540191776657313.\n"
     ]
    },
    {
     "name": "stdout",
     "output_type": "stream",
     "text": [
      "Repeat \u001b[1m\u001b[34m#1\n",
      "Repeat \u001b[1m\u001b[34m#2\n",
      "Repeat \u001b[1m\u001b[34m#3\n",
      "Repeat \u001b[1m\u001b[34m#4\n",
      "Repeat \u001b[1m\u001b[34m#5\n"
     ]
    },
    {
     "name": "stderr",
     "output_type": "stream",
     "text": [
      "[I 2023-06-16 10:12:20,021] Trial 393 finished with value: 0.17200907733354304 and parameters: {'boosting_type': 'gbdt', 'learning_rate': 0.07196477181742668, 'lambda_l1': 6.191988546047609e-05, 'lambda_l2': 0.002052441699647776, 'max_depth': 7, 'num_leaves': 4, 'feature_fraction': 0.6571876376187137, 'min_data_in_leaf': 5, 'max_bin': 220, 'bagging_freq': 3, 'bagging_fraction': 0.49250451381246774}. Best is trial 32 with value: 0.14540191776657313.\n"
     ]
    },
    {
     "name": "stdout",
     "output_type": "stream",
     "text": [
      "Repeat \u001b[1m\u001b[34m#1\n",
      "Repeat \u001b[1m\u001b[34m#2\n",
      "Repeat \u001b[1m\u001b[34m#3\n",
      "Repeat \u001b[1m\u001b[34m#4\n",
      "Repeat \u001b[1m\u001b[34m#5\n"
     ]
    },
    {
     "name": "stderr",
     "output_type": "stream",
     "text": [
      "[I 2023-06-16 10:12:22,245] Trial 394 finished with value: 0.18951846370484873 and parameters: {'boosting_type': 'gbdt', 'learning_rate': 0.0887426419375211, 'lambda_l1': 1.158115594674048e-06, 'lambda_l2': 0.44598610201755834, 'max_depth': 7, 'num_leaves': 106, 'feature_fraction': 0.6274068334194165, 'min_data_in_leaf': 18, 'max_bin': 95, 'bagging_freq': 3, 'bagging_fraction': 0.47037180537042633}. Best is trial 32 with value: 0.14540191776657313.\n"
     ]
    },
    {
     "name": "stdout",
     "output_type": "stream",
     "text": [
      "Repeat \u001b[1m\u001b[34m#1\n",
      "Repeat \u001b[1m\u001b[34m#2\n",
      "Repeat \u001b[1m\u001b[34m#3\n",
      "Repeat \u001b[1m\u001b[34m#4\n",
      "Repeat \u001b[1m\u001b[34m#5\n"
     ]
    },
    {
     "name": "stderr",
     "output_type": "stream",
     "text": [
      "[I 2023-06-16 10:12:32,291] Trial 395 finished with value: 0.45267069393203113 and parameters: {'boosting_type': 'goss', 'learning_rate': 0.000740809476384203, 'lambda_l1': 2.2676139088256462e-07, 'lambda_l2': 7.725641990885234e-05, 'max_depth': 7, 'num_leaves': 117, 'feature_fraction': 0.5371517128169914, 'min_data_in_leaf': 13, 'max_bin': 37, 'bagging_freq': 3}. Best is trial 32 with value: 0.14540191776657313.\n"
     ]
    },
    {
     "name": "stdout",
     "output_type": "stream",
     "text": [
      "Repeat \u001b[1m\u001b[34m#1\n",
      "Repeat \u001b[1m\u001b[34m#2\n",
      "Repeat \u001b[1m\u001b[34m#3\n",
      "Repeat \u001b[1m\u001b[34m#4\n",
      "Repeat \u001b[1m\u001b[34m#5\n"
     ]
    },
    {
     "name": "stderr",
     "output_type": "stream",
     "text": [
      "[I 2023-06-16 10:12:40,167] Trial 396 finished with value: 0.2324737470008853 and parameters: {'boosting_type': 'gbdt', 'learning_rate': 0.009384611273030745, 'lambda_l1': 9.891015206747734e-06, 'lambda_l2': 3.406511918138131, 'max_depth': 9, 'num_leaves': 126, 'feature_fraction': 0.3499761187251038, 'min_data_in_leaf': 7, 'max_bin': 126, 'bagging_freq': 3, 'bagging_fraction': 0.5065362808256538}. Best is trial 32 with value: 0.14540191776657313.\n"
     ]
    },
    {
     "name": "stdout",
     "output_type": "stream",
     "text": [
      "Repeat \u001b[1m\u001b[34m#1\n",
      "Repeat \u001b[1m\u001b[34m#2\n",
      "Repeat \u001b[1m\u001b[34m#3\n",
      "Repeat \u001b[1m\u001b[34m#4\n",
      "Repeat \u001b[1m\u001b[34m#5\n"
     ]
    },
    {
     "name": "stderr",
     "output_type": "stream",
     "text": [
      "[I 2023-06-16 10:12:41,733] Trial 397 finished with value: 0.1742263667655036 and parameters: {'boosting_type': 'gbdt', 'learning_rate': 0.16643741732419706, 'lambda_l1': 0.00011623724767709942, 'lambda_l2': 0.0011666825583619175, 'max_depth': 7, 'num_leaves': 111, 'feature_fraction': 0.6191602068111327, 'min_data_in_leaf': 10, 'max_bin': 122, 'bagging_freq': 3, 'bagging_fraction': 0.5402392756153994}. Best is trial 32 with value: 0.14540191776657313.\n"
     ]
    },
    {
     "name": "stdout",
     "output_type": "stream",
     "text": [
      "Repeat \u001b[1m\u001b[34m#1\n",
      "Repeat \u001b[1m\u001b[34m#2\n",
      "Repeat \u001b[1m\u001b[34m#3\n",
      "Repeat \u001b[1m\u001b[34m#4\n",
      "Repeat \u001b[1m\u001b[34m#5\n"
     ]
    },
    {
     "name": "stderr",
     "output_type": "stream",
     "text": [
      "[I 2023-06-16 10:12:44,784] Trial 398 finished with value: 0.16108414320421183 and parameters: {'boosting_type': 'gbdt', 'learning_rate': 0.0535804467870264, 'lambda_l1': 7.504701055181728e-07, 'lambda_l2': 0.01832242889746727, 'max_depth': 7, 'num_leaves': 103, 'feature_fraction': 0.6394309662541928, 'min_data_in_leaf': 5, 'max_bin': 227, 'bagging_freq': 3, 'bagging_fraction': 0.6870575939738509}. Best is trial 32 with value: 0.14540191776657313.\n"
     ]
    },
    {
     "name": "stdout",
     "output_type": "stream",
     "text": [
      "Repeat \u001b[1m\u001b[34m#1\n",
      "Repeat \u001b[1m\u001b[34m#2\n",
      "Repeat \u001b[1m\u001b[34m#3\n",
      "Repeat \u001b[1m\u001b[34m#4\n",
      "Repeat \u001b[1m\u001b[34m#5\n"
     ]
    },
    {
     "name": "stderr",
     "output_type": "stream",
     "text": [
      "[I 2023-06-16 10:12:46,200] Trial 399 finished with value: 0.17693745474456773 and parameters: {'boosting_type': 'gbdt', 'learning_rate': 0.2723894489117152, 'lambda_l1': 1.1195791611381775e-08, 'lambda_l2': 0.008822799873430376, 'max_depth': 7, 'num_leaves': 60, 'feature_fraction': 0.5687060258193584, 'min_data_in_leaf': 7, 'max_bin': 32, 'bagging_freq': 2, 'bagging_fraction': 0.5130645849776758}. Best is trial 32 with value: 0.14540191776657313.\n"
     ]
    },
    {
     "name": "stdout",
     "output_type": "stream",
     "text": [
      "Repeat \u001b[1m\u001b[34m#1\n",
      "Repeat \u001b[1m\u001b[34m#2\n",
      "Repeat \u001b[1m\u001b[34m#3\n",
      "Repeat \u001b[1m\u001b[34m#4\n",
      "Repeat \u001b[1m\u001b[34m#5\n"
     ]
    },
    {
     "name": "stderr",
     "output_type": "stream",
     "text": [
      "[I 2023-06-16 10:12:51,051] Trial 400 finished with value: 0.16189300929654835 and parameters: {'boosting_type': 'gbdt', 'learning_rate': 0.020611150820845768, 'lambda_l1': 0.0038204994006052527, 'lambda_l2': 3.527572630474954e-05, 'max_depth': 7, 'num_leaves': 108, 'feature_fraction': 0.6081906947411437, 'min_data_in_leaf': 8, 'max_bin': 112, 'bagging_freq': 5, 'bagging_fraction': 0.6816212507937142}. Best is trial 32 with value: 0.14540191776657313.\n"
     ]
    },
    {
     "name": "stdout",
     "output_type": "stream",
     "text": [
      "Repeat \u001b[1m\u001b[34m#1\n",
      "Repeat \u001b[1m\u001b[34m#2\n",
      "Repeat \u001b[1m\u001b[34m#3\n",
      "Repeat \u001b[1m\u001b[34m#4\n",
      "Repeat \u001b[1m\u001b[34m#5\n"
     ]
    },
    {
     "name": "stderr",
     "output_type": "stream",
     "text": [
      "[I 2023-06-16 10:12:55,518] Trial 401 finished with value: 0.16283983052252027 and parameters: {'boosting_type': 'gbdt', 'learning_rate': 0.029243083793776395, 'lambda_l1': 3.432283039134081e-06, 'lambda_l2': 0.002571693589765276, 'max_depth': 7, 'num_leaves': 113, 'feature_fraction': 0.5870489556089413, 'min_data_in_leaf': 5, 'max_bin': 91, 'bagging_freq': 4, 'bagging_fraction': 0.6315898515135484}. Best is trial 32 with value: 0.14540191776657313.\n"
     ]
    },
    {
     "name": "stdout",
     "output_type": "stream",
     "text": [
      "Repeat \u001b[1m\u001b[34m#1\n",
      "Repeat \u001b[1m\u001b[34m#2\n",
      "Repeat \u001b[1m\u001b[34m#3\n",
      "Repeat \u001b[1m\u001b[34m#4\n",
      "Repeat \u001b[1m\u001b[34m#5\n"
     ]
    },
    {
     "name": "stderr",
     "output_type": "stream",
     "text": [
      "[I 2023-06-16 10:12:57,319] Trial 402 finished with value: 0.17103461262401826 and parameters: {'boosting_type': 'gbdt', 'learning_rate': 0.116096835924027, 'lambda_l1': 5.87391374674292e-06, 'lambda_l2': 2.284760880163473e-07, 'max_depth': 7, 'num_leaves': 99, 'feature_fraction': 0.5976125063137719, 'min_data_in_leaf': 11, 'max_bin': 233, 'bagging_freq': 5, 'bagging_fraction': 0.4000339213227386}. Best is trial 32 with value: 0.14540191776657313.\n"
     ]
    },
    {
     "name": "stdout",
     "output_type": "stream",
     "text": [
      "Repeat \u001b[1m\u001b[34m#1\n",
      "Repeat \u001b[1m\u001b[34m#2\n",
      "Repeat \u001b[1m\u001b[34m#3\n",
      "Repeat \u001b[1m\u001b[34m#4\n",
      "Repeat \u001b[1m\u001b[34m#5\n"
     ]
    },
    {
     "name": "stderr",
     "output_type": "stream",
     "text": [
      "[I 2023-06-16 10:13:06,526] Trial 403 finished with value: 0.16603833656074524 and parameters: {'boosting_type': 'gbdt', 'learning_rate': 0.011067751582122459, 'lambda_l1': 1.7621262222243404e-06, 'lambda_l2': 1.3165180448288138e-05, 'max_depth': 7, 'num_leaves': 105, 'feature_fraction': 0.431668718270734, 'min_data_in_leaf': 7, 'max_bin': 130, 'bagging_freq': 7, 'bagging_fraction': 0.5892722531762558}. Best is trial 32 with value: 0.14540191776657313.\n"
     ]
    },
    {
     "name": "stdout",
     "output_type": "stream",
     "text": [
      "Repeat \u001b[1m\u001b[34m#1\n",
      "Repeat \u001b[1m\u001b[34m#2\n",
      "Repeat \u001b[1m\u001b[34m#3\n"
     ]
    },
    {
     "name": "stderr",
     "output_type": "stream",
     "text": [
      "[I 2023-06-16 10:13:07,067] Trial 404 finished with value: 0.6973915667428459 and parameters: {'boosting_type': 'gbdt', 'learning_rate': 0.04782587342751424, 'lambda_l1': 3.688623926010581e-07, 'lambda_l2': 0.0008465232284498199, 'max_depth': 7, 'num_leaves': 110, 'feature_fraction': 0.31521272920135945, 'min_data_in_leaf': 92, 'max_bin': 230, 'bagging_freq': 4, 'bagging_fraction': 0.49952539497411863}. Best is trial 32 with value: 0.14540191776657313.\n"
     ]
    },
    {
     "name": "stdout",
     "output_type": "stream",
     "text": [
      "Repeat \u001b[1m\u001b[34m#4\n",
      "Repeat \u001b[1m\u001b[34m#5\n",
      "Repeat \u001b[1m\u001b[34m#1\n",
      "Repeat \u001b[1m\u001b[34m#2\n",
      "Repeat \u001b[1m\u001b[34m#3\n",
      "Repeat \u001b[1m\u001b[34m#4\n",
      "Repeat \u001b[1m\u001b[34m#5\n"
     ]
    },
    {
     "name": "stderr",
     "output_type": "stream",
     "text": [
      "[I 2023-06-16 10:13:28,841] Trial 405 finished with value: 0.18596983515443632 and parameters: {'boosting_type': 'dart', 'learning_rate': 0.024586859178963732, 'lambda_l1': 0.0017438788528259164, 'lambda_l2': 0.00010645449884023707, 'max_depth': 9, 'num_leaves': 102, 'feature_fraction': 0.30057247961608724, 'min_data_in_leaf': 9, 'max_bin': 135, 'bagging_freq': 3, 'bagging_fraction': 0.5160338454009445}. Best is trial 32 with value: 0.14540191776657313.\n"
     ]
    },
    {
     "name": "stdout",
     "output_type": "stream",
     "text": [
      "Repeat \u001b[1m\u001b[34m#1\n",
      "Repeat \u001b[1m\u001b[34m#2\n",
      "Repeat \u001b[1m\u001b[34m#3\n",
      "Repeat \u001b[1m\u001b[34m#4\n",
      "Repeat \u001b[1m\u001b[34m#5\n"
     ]
    },
    {
     "name": "stderr",
     "output_type": "stream",
     "text": [
      "[I 2023-06-16 10:13:31,309] Trial 406 finished with value: 0.16115914012473848 and parameters: {'boosting_type': 'gbdt', 'learning_rate': 0.07319300462671076, 'lambda_l1': 0.00027356401437370997, 'lambda_l2': 5.240762632888779e-05, 'max_depth': 8, 'num_leaves': 49, 'feature_fraction': 0.6788841575100126, 'min_data_in_leaf': 5, 'max_bin': 40, 'bagging_freq': 4, 'bagging_fraction': 0.31107319073833445}. Best is trial 32 with value: 0.14540191776657313.\n"
     ]
    },
    {
     "name": "stdout",
     "output_type": "stream",
     "text": [
      "Repeat \u001b[1m\u001b[34m#1\n",
      "Repeat \u001b[1m\u001b[34m#2\n",
      "Repeat \u001b[1m\u001b[34m#3\n",
      "Repeat \u001b[1m\u001b[34m#4\n",
      "Repeat \u001b[1m\u001b[34m#5\n"
     ]
    },
    {
     "name": "stderr",
     "output_type": "stream",
     "text": [
      "[I 2023-06-16 10:13:41,290] Trial 407 finished with value: 0.17850370693332213 and parameters: {'boosting_type': 'gbdt', 'learning_rate': 0.007478573817806851, 'lambda_l1': 0.0001586337569949181, 'lambda_l2': 0.0005951611440537712, 'max_depth': 7, 'num_leaves': 116, 'feature_fraction': 0.6363697767334221, 'min_data_in_leaf': 7, 'max_bin': 252, 'bagging_freq': 4, 'bagging_fraction': 0.5293447318265222}. Best is trial 32 with value: 0.14540191776657313.\n"
     ]
    },
    {
     "name": "stdout",
     "output_type": "stream",
     "text": [
      "Repeat \u001b[1m\u001b[34m#1\n",
      "Repeat \u001b[1m\u001b[34m#2\n",
      "Repeat \u001b[1m\u001b[34m#3\n",
      "Repeat \u001b[1m\u001b[34m#4\n",
      "Repeat \u001b[1m\u001b[34m#5\n"
     ]
    },
    {
     "name": "stderr",
     "output_type": "stream",
     "text": [
      "[I 2023-06-16 10:13:42,938] Trial 408 finished with value: 0.16453936659198584 and parameters: {'boosting_type': 'gbdt', 'learning_rate': 0.1875723928877583, 'lambda_l1': 1.0243366077353812e-07, 'lambda_l2': 0.005007728593557577, 'max_depth': 7, 'num_leaves': 107, 'feature_fraction': 0.451024360728517, 'min_data_in_leaf': 9, 'max_bin': 232, 'bagging_freq': 3, 'bagging_fraction': 0.6171695056741594}. Best is trial 32 with value: 0.14540191776657313.\n"
     ]
    },
    {
     "name": "stdout",
     "output_type": "stream",
     "text": [
      "Repeat \u001b[1m\u001b[34m#1\n",
      "Repeat \u001b[1m\u001b[34m#2\n",
      "Repeat \u001b[1m\u001b[34m#3\n",
      "Repeat \u001b[1m\u001b[34m#4\n",
      "Repeat \u001b[1m\u001b[34m#5\n"
     ]
    },
    {
     "name": "stderr",
     "output_type": "stream",
     "text": [
      "[I 2023-06-16 10:13:47,659] Trial 409 finished with value: 0.16427933006094653 and parameters: {'boosting_type': 'goss', 'learning_rate': 0.03146345469951185, 'lambda_l1': 5.090912721425749e-07, 'lambda_l2': 0.029382382386226723, 'max_depth': 7, 'num_leaves': 104, 'feature_fraction': 0.6460197584925809, 'min_data_in_leaf': 6, 'max_bin': 224, 'bagging_freq': 4}. Best is trial 32 with value: 0.14540191776657313.\n"
     ]
    },
    {
     "name": "stdout",
     "output_type": "stream",
     "text": [
      "Repeat \u001b[1m\u001b[34m#1\n",
      "Repeat \u001b[1m\u001b[34m#2\n",
      "Repeat \u001b[1m\u001b[34m#3\n",
      "Repeat \u001b[1m\u001b[34m#4\n",
      "Repeat \u001b[1m\u001b[34m#5\n"
     ]
    },
    {
     "name": "stderr",
     "output_type": "stream",
     "text": [
      "[I 2023-06-16 10:13:49,943] Trial 410 finished with value: 0.16556871932706746 and parameters: {'boosting_type': 'gbdt', 'learning_rate': 0.1587517856300618, 'lambda_l1': 3.9538838733767876e-08, 'lambda_l2': 0.0017078573887252266, 'max_depth': 7, 'num_leaves': 119, 'feature_fraction': 0.45986936300788017, 'min_data_in_leaf': 12, 'max_bin': 141, 'bagging_freq': 4, 'bagging_fraction': 0.6499149246022189}. Best is trial 32 with value: 0.14540191776657313.\n"
     ]
    },
    {
     "name": "stdout",
     "output_type": "stream",
     "text": [
      "Repeat \u001b[1m\u001b[34m#1\n",
      "Repeat \u001b[1m\u001b[34m#2\n",
      "Repeat \u001b[1m\u001b[34m#3\n",
      "Repeat \u001b[1m\u001b[34m#4\n",
      "Repeat \u001b[1m\u001b[34m#5\n"
     ]
    },
    {
     "name": "stderr",
     "output_type": "stream",
     "text": [
      "[I 2023-06-16 10:13:53,992] Trial 411 finished with value: 0.15437677846581335 and parameters: {'boosting_type': 'gbdt', 'learning_rate': 0.058601826976084376, 'lambda_l1': 2.551443408894098e-05, 'lambda_l2': 0.00017028844509774755, 'max_depth': 7, 'num_leaves': 112, 'feature_fraction': 0.4416904012037675, 'min_data_in_leaf': 5, 'max_bin': 82, 'bagging_freq': 2, 'bagging_fraction': 0.5850973531045238}. Best is trial 32 with value: 0.14540191776657313.\n"
     ]
    },
    {
     "name": "stdout",
     "output_type": "stream",
     "text": [
      "Repeat \u001b[1m\u001b[34m#1\n",
      "Repeat \u001b[1m\u001b[34m#2\n",
      "Repeat \u001b[1m\u001b[34m#3\n",
      "Repeat \u001b[1m\u001b[34m#4\n",
      "Repeat \u001b[1m\u001b[34m#5\n"
     ]
    },
    {
     "name": "stderr",
     "output_type": "stream",
     "text": [
      "[I 2023-06-16 10:13:57,549] Trial 412 finished with value: 0.16322706868773112 and parameters: {'boosting_type': 'gbdt', 'learning_rate': 0.06126909038727129, 'lambda_l1': 2.764503050958908e-05, 'lambda_l2': 0.00022521515886420967, 'max_depth': 10, 'num_leaves': 111, 'feature_fraction': 0.445460553361714, 'min_data_in_leaf': 7, 'max_bin': 57, 'bagging_freq': 2, 'bagging_fraction': 0.584041354547451}. Best is trial 32 with value: 0.14540191776657313.\n"
     ]
    },
    {
     "name": "stdout",
     "output_type": "stream",
     "text": [
      "Repeat \u001b[1m\u001b[34m#1\n",
      "Repeat \u001b[1m\u001b[34m#2\n",
      "Repeat \u001b[1m\u001b[34m#3\n",
      "Repeat \u001b[1m\u001b[34m#4\n",
      "Repeat \u001b[1m\u001b[34m#5\n"
     ]
    },
    {
     "name": "stderr",
     "output_type": "stream",
     "text": [
      "[I 2023-06-16 10:14:00,768] Trial 413 finished with value: 0.16110553430521551 and parameters: {'boosting_type': 'gbdt', 'learning_rate': 0.07783054741375672, 'lambda_l1': 2.1285131921419254e-05, 'lambda_l2': 0.0003345611077475009, 'max_depth': 7, 'num_leaves': 114, 'feature_fraction': 0.4373173544255568, 'min_data_in_leaf': 9, 'max_bin': 79, 'bagging_freq': 2, 'bagging_fraction': 0.5948782583139121}. Best is trial 32 with value: 0.14540191776657313.\n"
     ]
    },
    {
     "name": "stdout",
     "output_type": "stream",
     "text": [
      "Repeat \u001b[1m\u001b[34m#1\n",
      "Repeat \u001b[1m\u001b[34m#2\n",
      "Repeat \u001b[1m\u001b[34m#3\n",
      "Repeat \u001b[1m\u001b[34m#4\n"
     ]
    },
    {
     "name": "stderr",
     "output_type": "stream",
     "text": [
      "[I 2023-06-16 10:14:01,526] Trial 414 finished with value: 0.6973915667428459 and parameters: {'boosting_type': 'gbdt', 'learning_rate': 0.05471578618196597, 'lambda_l1': 5.7702203674794394e-05, 'lambda_l2': 0.003196800599840055, 'max_depth': 7, 'num_leaves': 73, 'feature_fraction': 0.4192502501500474, 'min_data_in_leaf': 85, 'max_bin': 87, 'bagging_freq': 2, 'bagging_fraction': 0.6045339735097461}. Best is trial 32 with value: 0.14540191776657313.\n"
     ]
    },
    {
     "name": "stdout",
     "output_type": "stream",
     "text": [
      "Repeat \u001b[1m\u001b[34m#5\n",
      "Repeat \u001b[1m\u001b[34m#1\n",
      "Repeat \u001b[1m\u001b[34m#2\n",
      "Repeat \u001b[1m\u001b[34m#3\n",
      "Repeat \u001b[1m\u001b[34m#4\n",
      "Repeat \u001b[1m\u001b[34m#5\n"
     ]
    },
    {
     "name": "stderr",
     "output_type": "stream",
     "text": [
      "[I 2023-06-16 10:14:04,507] Trial 415 finished with value: 0.1659630271482963 and parameters: {'boosting_type': 'gbdt', 'learning_rate': 0.13220509555581145, 'lambda_l1': 7.654203080848737e-05, 'lambda_l2': 2.4955368003823443e-05, 'max_depth': 7, 'num_leaves': 128, 'feature_fraction': 0.5259861854318398, 'min_data_in_leaf': 5, 'max_bin': 46, 'bagging_freq': 2, 'bagging_fraction': 0.5827713725661117}. Best is trial 32 with value: 0.14540191776657313.\n"
     ]
    },
    {
     "name": "stdout",
     "output_type": "stream",
     "text": [
      "Repeat \u001b[1m\u001b[34m#1\n",
      "Repeat \u001b[1m\u001b[34m#2\n",
      "Repeat \u001b[1m\u001b[34m#3\n",
      "Repeat \u001b[1m\u001b[34m#4\n",
      "Repeat \u001b[1m\u001b[34m#5\n"
     ]
    },
    {
     "name": "stderr",
     "output_type": "stream",
     "text": [
      "[I 2023-06-16 10:14:07,880] Trial 416 finished with value: 0.16679156390931538 and parameters: {'boosting_type': 'gbdt', 'learning_rate': 0.06484042635241374, 'lambda_l1': 1.6249015773968692e-05, 'lambda_l2': 1.0134466331304567e-05, 'max_depth': 7, 'num_leaves': 117, 'feature_fraction': 0.339215207980003, 'min_data_in_leaf': 15, 'max_bin': 96, 'bagging_freq': 2, 'bagging_fraction': 0.5754348951757566}. Best is trial 32 with value: 0.14540191776657313.\n"
     ]
    },
    {
     "name": "stdout",
     "output_type": "stream",
     "text": [
      "Repeat \u001b[1m\u001b[34m#1\n",
      "Repeat \u001b[1m\u001b[34m#2\n",
      "Repeat \u001b[1m\u001b[34m#3\n",
      "Repeat \u001b[1m\u001b[34m#4\n",
      "Repeat \u001b[1m\u001b[34m#5\n"
     ]
    },
    {
     "name": "stderr",
     "output_type": "stream",
     "text": [
      "[I 2023-06-16 10:14:10,572] Trial 417 finished with value: 0.1596320757251484 and parameters: {'boosting_type': 'gbdt', 'learning_rate': 0.10220737143955841, 'lambda_l1': 8.678862744953048e-06, 'lambda_l2': 0.0008310722951295968, 'max_depth': 9, 'num_leaves': 86, 'feature_fraction': 0.3694050666517833, 'min_data_in_leaf': 7, 'max_bin': 92, 'bagging_freq': 2, 'bagging_fraction': 0.5932221025998187}. Best is trial 32 with value: 0.14540191776657313.\n"
     ]
    },
    {
     "name": "stdout",
     "output_type": "stream",
     "text": [
      "Repeat \u001b[1m\u001b[34m#1\n",
      "Repeat \u001b[1m\u001b[34m#2\n",
      "Repeat \u001b[1m\u001b[34m#3\n",
      "Repeat \u001b[1m\u001b[34m#4\n",
      "Repeat \u001b[1m\u001b[34m#5\n"
     ]
    },
    {
     "name": "stderr",
     "output_type": "stream",
     "text": [
      "[I 2023-06-16 10:14:14,401] Trial 418 finished with value: 0.16467707875143195 and parameters: {'boosting_type': 'gbdt', 'learning_rate': 0.0478613957211414, 'lambda_l1': 1.1544003897344235e-06, 'lambda_l2': 1.7727331889216984e-05, 'max_depth': 8, 'num_leaves': 111, 'feature_fraction': 0.3331720950910585, 'min_data_in_leaf': 11, 'max_bin': 103, 'bagging_freq': 2, 'bagging_fraction': 0.5847046417666207}. Best is trial 32 with value: 0.14540191776657313.\n"
     ]
    },
    {
     "name": "stdout",
     "output_type": "stream",
     "text": [
      "Repeat \u001b[1m\u001b[34m#1\n",
      "Repeat \u001b[1m\u001b[34m#2\n",
      "Repeat \u001b[1m\u001b[34m#3\n",
      "Repeat \u001b[1m\u001b[34m#4\n",
      "Repeat \u001b[1m\u001b[34m#5\n"
     ]
    },
    {
     "name": "stderr",
     "output_type": "stream",
     "text": [
      "[I 2023-06-16 10:14:18,104] Trial 419 finished with value: 0.5590462839577046 and parameters: {'boosting_type': 'gbdt', 'learning_rate': 0.01597845223578423, 'lambda_l1': 2.543951745405811e-08, 'lambda_l2': 0.0004856361660941834, 'max_depth': 7, 'num_leaves': 114, 'feature_fraction': 0.3923215745065456, 'min_data_in_leaf': 55, 'max_bin': 68, 'bagging_freq': 3, 'bagging_fraction': 0.566865200403545}. Best is trial 32 with value: 0.14540191776657313.\n"
     ]
    },
    {
     "name": "stdout",
     "output_type": "stream",
     "text": [
      "Repeat \u001b[1m\u001b[34m#1\n",
      "Repeat \u001b[1m\u001b[34m#2\n",
      "Repeat \u001b[1m\u001b[34m#3\n",
      "Repeat \u001b[1m\u001b[34m#4\n",
      "Repeat \u001b[1m\u001b[34m#5\n"
     ]
    },
    {
     "name": "stderr",
     "output_type": "stream",
     "text": [
      "[I 2023-06-16 10:14:20,419] Trial 420 finished with value: 0.16034478085098436 and parameters: {'boosting_type': 'gbdt', 'learning_rate': 0.08338606860064114, 'lambda_l1': 3.7342254810399556e-05, 'lambda_l2': 0.0014015150323408792, 'max_depth': 7, 'num_leaves': 34, 'feature_fraction': 0.5633068836196993, 'min_data_in_leaf': 8, 'max_bin': 87, 'bagging_freq': 2, 'bagging_fraction': 0.6038692192002325}. Best is trial 32 with value: 0.14540191776657313.\n"
     ]
    },
    {
     "name": "stdout",
     "output_type": "stream",
     "text": [
      "Repeat \u001b[1m\u001b[34m#1\n",
      "Repeat \u001b[1m\u001b[34m#2\n",
      "Repeat \u001b[1m\u001b[34m#3\n",
      "Repeat \u001b[1m\u001b[34m#4\n",
      "Repeat \u001b[1m\u001b[34m#5\n"
     ]
    },
    {
     "name": "stderr",
     "output_type": "stream",
     "text": [
      "[I 2023-06-16 10:14:22,361] Trial 421 finished with value: 0.18019472034055833 and parameters: {'boosting_type': 'gbdt', 'learning_rate': 0.2947654146658095, 'lambda_l1': 1.3294246415539783e-05, 'lambda_l2': 0.00012365821234651474, 'max_depth': 7, 'num_leaves': 76, 'feature_fraction': 0.6304717958543777, 'min_data_in_leaf': 5, 'max_bin': 81, 'bagging_freq': 1, 'bagging_fraction': 0.3475436605632881}. Best is trial 32 with value: 0.14540191776657313.\n"
     ]
    },
    {
     "name": "stdout",
     "output_type": "stream",
     "text": [
      "Repeat \u001b[1m\u001b[34m#1\n",
      "Repeat \u001b[1m\u001b[34m#2\n",
      "Repeat \u001b[1m\u001b[34m#3\n",
      "Repeat \u001b[1m\u001b[34m#4\n",
      "Repeat \u001b[1m\u001b[34m#5\n"
     ]
    },
    {
     "name": "stderr",
     "output_type": "stream",
     "text": [
      "[I 2023-06-16 10:14:25,494] Trial 422 finished with value: 0.16861813550180738 and parameters: {'boosting_type': 'gbdt', 'learning_rate': 0.04236278993948306, 'lambda_l1': 4.133262539974984e-06, 'lambda_l2': 7.019361040834263e-05, 'max_depth': 7, 'num_leaves': 9, 'feature_fraction': 0.6167735945940349, 'min_data_in_leaf': 10, 'max_bin': 38, 'bagging_freq': 3, 'bagging_fraction': 0.556488925765033}. Best is trial 32 with value: 0.14540191776657313.\n"
     ]
    },
    {
     "name": "stdout",
     "output_type": "stream",
     "text": [
      "Repeat \u001b[1m\u001b[34m#1\n",
      "Repeat \u001b[1m\u001b[34m#2\n",
      "Repeat \u001b[1m\u001b[34m#3\n",
      "Repeat \u001b[1m\u001b[34m#4\n",
      "Repeat \u001b[1m\u001b[34m#5\n"
     ]
    },
    {
     "name": "stderr",
     "output_type": "stream",
     "text": [
      "[I 2023-06-16 10:14:27,027] Trial 423 finished with value: 0.16894015166183465 and parameters: {'boosting_type': 'goss', 'learning_rate': 0.24713873110785456, 'lambda_l1': 2.122863976011863e-06, 'lambda_l2': 4.3247173342097296e-05, 'max_depth': 7, 'num_leaves': 121, 'feature_fraction': 0.4059544995407662, 'min_data_in_leaf': 7, 'max_bin': 100, 'bagging_freq': 6}. Best is trial 32 with value: 0.14540191776657313.\n"
     ]
    },
    {
     "name": "stdout",
     "output_type": "stream",
     "text": [
      "Repeat \u001b[1m\u001b[34m#1\n",
      "Repeat \u001b[1m\u001b[34m#2\n",
      "Repeat \u001b[1m\u001b[34m#3\n",
      "Repeat \u001b[1m\u001b[34m#4\n",
      "Repeat \u001b[1m\u001b[34m#5\n"
     ]
    },
    {
     "name": "stderr",
     "output_type": "stream",
     "text": [
      "[I 2023-06-16 10:14:40,376] Trial 424 finished with value: 0.20371925690803389 and parameters: {'boosting_type': 'gbdt', 'learning_rate': 0.0037264822321624465, 'lambda_l1': 8.807915901720763e-05, 'lambda_l2': 0.00020481683440648545, 'max_depth': 7, 'num_leaves': 109, 'feature_fraction': 0.5368784403888001, 'min_data_in_leaf': 5, 'max_bin': 120, 'bagging_freq': 3, 'bagging_fraction': 0.611959293604087}. Best is trial 32 with value: 0.14540191776657313.\n"
     ]
    },
    {
     "name": "stdout",
     "output_type": "stream",
     "text": [
      "Repeat \u001b[1m\u001b[34m#1\n",
      "Repeat \u001b[1m\u001b[34m#2\n",
      "Repeat \u001b[1m\u001b[34m#3\n"
     ]
    },
    {
     "name": "stderr",
     "output_type": "stream",
     "text": [
      "[I 2023-06-16 10:14:40,948] Trial 425 finished with value: 0.6973915667428459 and parameters: {'boosting_type': 'gbdt', 'learning_rate': 0.054663155669425756, 'lambda_l1': 4.6125484274177335e-05, 'lambda_l2': 0.000686966437531801, 'max_depth': 9, 'num_leaves': 98, 'feature_fraction': 0.5056672021640417, 'min_data_in_leaf': 78, 'max_bin': 153, 'bagging_freq': 2, 'bagging_fraction': 0.5747545283090781}. Best is trial 32 with value: 0.14540191776657313.\n"
     ]
    },
    {
     "name": "stdout",
     "output_type": "stream",
     "text": [
      "Repeat \u001b[1m\u001b[34m#4\n",
      "Repeat \u001b[1m\u001b[34m#5\n",
      "Repeat \u001b[1m\u001b[34m#1\n",
      "Repeat \u001b[1m\u001b[34m#2\n",
      "Repeat \u001b[1m\u001b[34m#3\n",
      "Repeat \u001b[1m\u001b[34m#4\n",
      "Repeat \u001b[1m\u001b[34m#5\n"
     ]
    },
    {
     "name": "stderr",
     "output_type": "stream",
     "text": [
      "[I 2023-06-16 10:14:49,776] Trial 426 finished with value: 0.20456991782446887 and parameters: {'boosting_type': 'gbdt', 'learning_rate': 0.0052575193148436455, 'lambda_l1': 0.0006221357102571604, 'lambda_l2': 0.0011813126612106653, 'max_depth': 8, 'num_leaves': 95, 'feature_fraction': 0.592465991375188, 'min_data_in_leaf': 9, 'max_bin': 208, 'bagging_freq': 2, 'bagging_fraction': 0.5021228628610522}. Best is trial 32 with value: 0.14540191776657313.\n"
     ]
    },
    {
     "name": "stdout",
     "output_type": "stream",
     "text": [
      "Repeat \u001b[1m\u001b[34m#1\n",
      "Repeat \u001b[1m\u001b[34m#2\n",
      "Repeat \u001b[1m\u001b[34m#3\n",
      "Repeat \u001b[1m\u001b[34m#4\n",
      "Repeat \u001b[1m\u001b[34m#5\n"
     ]
    },
    {
     "name": "stderr",
     "output_type": "stream",
     "text": [
      "[I 2023-06-16 10:14:52,839] Trial 427 finished with value: 0.16767342605401256 and parameters: {'boosting_type': 'gbdt', 'learning_rate': 0.14296600484385974, 'lambda_l1': 7.513264248053092e-07, 'lambda_l2': 2.3712291619970554, 'max_depth': 7, 'num_leaves': 113, 'feature_fraction': 0.3864321135883876, 'min_data_in_leaf': 7, 'max_bin': 148, 'bagging_freq': 3, 'bagging_fraction': 0.5884540581627787}. Best is trial 32 with value: 0.14540191776657313.\n"
     ]
    },
    {
     "name": "stdout",
     "output_type": "stream",
     "text": [
      "Repeat \u001b[1m\u001b[34m#1\n",
      "Repeat \u001b[1m\u001b[34m#2\n",
      "Repeat \u001b[1m\u001b[34m#3\n",
      "Repeat \u001b[1m\u001b[34m#4\n",
      "Repeat \u001b[1m\u001b[34m#5\n"
     ]
    },
    {
     "name": "stderr",
     "output_type": "stream",
     "text": [
      "[I 2023-06-16 10:15:14,298] Trial 428 finished with value: 0.22326095951428973 and parameters: {'boosting_type': 'dart', 'learning_rate': 0.21860785714732575, 'lambda_l1': 0.0026391671901162483, 'lambda_l2': 6.031132728991074e-06, 'max_depth': 7, 'num_leaves': 90, 'feature_fraction': 0.5780144121416446, 'min_data_in_leaf': 5, 'max_bin': 161, 'bagging_freq': 3, 'bagging_fraction': 0.5415338758946542}. Best is trial 32 with value: 0.14540191776657313.\n"
     ]
    },
    {
     "name": "stdout",
     "output_type": "stream",
     "text": [
      "Repeat \u001b[1m\u001b[34m#1\n",
      "Repeat \u001b[1m\u001b[34m#2\n",
      "Repeat \u001b[1m\u001b[34m#3\n",
      "Repeat \u001b[1m\u001b[34m#4\n",
      "Repeat \u001b[1m\u001b[34m#5\n"
     ]
    },
    {
     "name": "stderr",
     "output_type": "stream",
     "text": [
      "[I 2023-06-16 10:15:21,981] Trial 429 finished with value: 0.3165745373650936 and parameters: {'boosting_type': 'gbdt', 'learning_rate': 0.0022630555123130504, 'lambda_l1': 7.071563163243777e-08, 'lambda_l2': 0.0003227738966790694, 'max_depth': 7, 'num_leaves': 80, 'feature_fraction': 0.4845633631647899, 'min_data_in_leaf': 13, 'max_bin': 32, 'bagging_freq': 4, 'bagging_fraction': 0.5983959308541029}. Best is trial 32 with value: 0.14540191776657313.\n"
     ]
    },
    {
     "name": "stdout",
     "output_type": "stream",
     "text": [
      "Repeat \u001b[1m\u001b[34m#1\n",
      "Repeat \u001b[1m\u001b[34m#2\n",
      "Repeat \u001b[1m\u001b[34m#3\n",
      "Repeat \u001b[1m\u001b[34m#4\n",
      "Repeat \u001b[1m\u001b[34m#5\n"
     ]
    },
    {
     "name": "stderr",
     "output_type": "stream",
     "text": [
      "[I 2023-06-16 10:15:24,553] Trial 430 finished with value: 0.16260911266873018 and parameters: {'boosting_type': 'gbdt', 'learning_rate': 0.06545410021214376, 'lambda_l1': 0.0012947464392312515, 'lambda_l2': 0.002516940081432834, 'max_depth': 6, 'num_leaves': 116, 'feature_fraction': 0.32665078037721706, 'min_data_in_leaf': 8, 'max_bin': 110, 'bagging_freq': 3, 'bagging_fraction': 0.6281232656333534}. Best is trial 32 with value: 0.14540191776657313.\n"
     ]
    },
    {
     "name": "stdout",
     "output_type": "stream",
     "text": [
      "Repeat \u001b[1m\u001b[34m#1\n",
      "Repeat \u001b[1m\u001b[34m#2\n",
      "Repeat \u001b[1m\u001b[34m#3\n",
      "Repeat \u001b[1m\u001b[34m#4\n",
      "Repeat \u001b[1m\u001b[34m#5\n"
     ]
    },
    {
     "name": "stderr",
     "output_type": "stream",
     "text": [
      "[I 2023-06-16 10:15:27,510] Trial 431 finished with value: 0.16772393420171347 and parameters: {'boosting_type': 'gbdt', 'learning_rate': 0.041477180861105876, 'lambda_l1': 0.00019989467804815058, 'lambda_l2': 1.0327893447797256e-08, 'max_depth': 10, 'num_leaves': 108, 'feature_fraction': 0.49596797162196143, 'min_data_in_leaf': 10, 'max_bin': 43, 'bagging_freq': 4, 'bagging_fraction': 0.49239305988533055}. Best is trial 32 with value: 0.14540191776657313.\n"
     ]
    },
    {
     "name": "stdout",
     "output_type": "stream",
     "text": [
      "Repeat \u001b[1m\u001b[34m#1\n",
      "Repeat \u001b[1m\u001b[34m#2\n",
      "Repeat \u001b[1m\u001b[34m#3\n",
      "Repeat \u001b[1m\u001b[34m#4\n",
      "Repeat \u001b[1m\u001b[34m#5\n"
     ]
    },
    {
     "name": "stderr",
     "output_type": "stream",
     "text": [
      "[I 2023-06-16 10:15:30,056] Trial 432 finished with value: 0.3085490176522474 and parameters: {'boosting_type': 'gbdt', 'learning_rate': 0.0928781461570767, 'lambda_l1': 4.095412926903501, 'lambda_l2': 0.008902668285168131, 'max_depth': 7, 'num_leaves': 101, 'feature_fraction': 0.4404598976816739, 'min_data_in_leaf': 7, 'max_bin': 91, 'bagging_freq': 3, 'bagging_fraction': 0.5119980102369024}. Best is trial 32 with value: 0.14540191776657313.\n"
     ]
    },
    {
     "name": "stdout",
     "output_type": "stream",
     "text": [
      "Repeat \u001b[1m\u001b[34m#1\n",
      "Repeat \u001b[1m\u001b[34m#2\n",
      "Repeat \u001b[1m\u001b[34m#3\n",
      "Repeat \u001b[1m\u001b[34m#4\n",
      "Repeat \u001b[1m\u001b[34m#5\n"
     ]
    },
    {
     "name": "stderr",
     "output_type": "stream",
     "text": [
      "[I 2023-06-16 10:15:32,045] Trial 433 finished with value: 0.16760772502932655 and parameters: {'boosting_type': 'gbdt', 'learning_rate': 0.11498958249018768, 'lambda_l1': 2.8234397492061526e-06, 'lambda_l2': 0.00044376596161966155, 'max_depth': 7, 'num_leaves': 104, 'feature_fraction': 0.5171981917286946, 'min_data_in_leaf': 5, 'max_bin': 219, 'bagging_freq': 4, 'bagging_fraction': 0.4823050370284338}. Best is trial 32 with value: 0.14540191776657313.\n"
     ]
    },
    {
     "name": "stdout",
     "output_type": "stream",
     "text": [
      "Repeat \u001b[1m\u001b[34m#1\n",
      "Repeat \u001b[1m\u001b[34m#2\n",
      "Repeat \u001b[1m\u001b[34m#3\n",
      "Repeat \u001b[1m\u001b[34m#4\n",
      "Repeat \u001b[1m\u001b[34m#5\n"
     ]
    },
    {
     "name": "stderr",
     "output_type": "stream",
     "text": [
      "[I 2023-06-16 10:15:36,834] Trial 434 finished with value: 0.1702416371585136 and parameters: {'boosting_type': 'goss', 'learning_rate': 0.022233354419980773, 'lambda_l1': 2.4449093333891864e-05, 'lambda_l2': 0.0035974442667361045, 'max_depth': 9, 'num_leaves': 112, 'feature_fraction': 0.5460146574027243, 'min_data_in_leaf': 7, 'max_bin': 75, 'bagging_freq': 4}. Best is trial 32 with value: 0.14540191776657313.\n"
     ]
    },
    {
     "name": "stdout",
     "output_type": "stream",
     "text": [
      "Repeat \u001b[1m\u001b[34m#1\n",
      "Repeat \u001b[1m\u001b[34m#2\n",
      "Repeat \u001b[1m\u001b[34m#3\n",
      "Repeat \u001b[1m\u001b[34m#4\n",
      "Repeat \u001b[1m\u001b[34m#5\n"
     ]
    },
    {
     "name": "stderr",
     "output_type": "stream",
     "text": [
      "[I 2023-06-16 10:15:42,084] Trial 435 finished with value: 0.17323117101997978 and parameters: {'boosting_type': 'gbdt', 'learning_rate': 0.018355856842493776, 'lambda_l1': 0.16593465295033005, 'lambda_l2': 0.03940454150716515, 'max_depth': 7, 'num_leaves': 124, 'feature_fraction': 0.3939408296960304, 'min_data_in_leaf': 9, 'max_bin': 128, 'bagging_freq': 5, 'bagging_fraction': 0.563744608131466}. Best is trial 32 with value: 0.14540191776657313.\n"
     ]
    },
    {
     "name": "stdout",
     "output_type": "stream",
     "text": [
      "Repeat \u001b[1m\u001b[34m#1\n",
      "Repeat \u001b[1m\u001b[34m#2\n",
      "Repeat \u001b[1m\u001b[34m#3\n",
      "Repeat \u001b[1m\u001b[34m#4\n",
      "Repeat \u001b[1m\u001b[34m#5\n"
     ]
    },
    {
     "name": "stderr",
     "output_type": "stream",
     "text": [
      "[I 2023-06-16 10:15:45,303] Trial 436 finished with value: 0.16059908508211881 and parameters: {'boosting_type': 'gbdt', 'learning_rate': 0.04991918030996184, 'lambda_l1': 0.0009539857250291342, 'lambda_l2': 0.00019152205512524474, 'max_depth': 7, 'num_leaves': 100, 'feature_fraction': 0.4734979618356176, 'min_data_in_leaf': 5, 'max_bin': 50, 'bagging_freq': 3, 'bagging_fraction': 0.5520089887408655}. Best is trial 32 with value: 0.14540191776657313.\n"
     ]
    },
    {
     "name": "stdout",
     "output_type": "stream",
     "text": [
      "Repeat \u001b[1m\u001b[34m#1\n",
      "Repeat \u001b[1m\u001b[34m#2\n",
      "Repeat \u001b[1m\u001b[34m#3\n",
      "Repeat \u001b[1m\u001b[34m#4\n",
      "Repeat \u001b[1m\u001b[34m#5\n"
     ]
    },
    {
     "name": "stderr",
     "output_type": "stream",
     "text": [
      "[I 2023-06-16 10:15:48,809] Trial 437 finished with value: 0.16952234123170942 and parameters: {'boosting_type': 'gbdt', 'learning_rate': 0.03520438457847528, 'lambda_l1': 2.741500437505791e-07, 'lambda_l2': 0.0008787676483623945, 'max_depth': 7, 'num_leaves': 106, 'feature_fraction': 0.45367240312015755, 'min_data_in_leaf': 11, 'max_bin': 255, 'bagging_freq': 2, 'bagging_fraction': 0.5762259980317845}. Best is trial 32 with value: 0.14540191776657313.\n"
     ]
    },
    {
     "name": "stdout",
     "output_type": "stream",
     "text": [
      "Repeat \u001b[1m\u001b[34m#1\n",
      "Repeat \u001b[1m\u001b[34m#2\n",
      "Repeat \u001b[1m\u001b[34m#3\n",
      "Repeat \u001b[1m\u001b[34m#4\n",
      "Repeat \u001b[1m\u001b[34m#5\n"
     ]
    },
    {
     "name": "stderr",
     "output_type": "stream",
     "text": [
      "[I 2023-06-16 10:15:50,524] Trial 438 finished with value: 0.16569527604535575 and parameters: {'boosting_type': 'gbdt', 'learning_rate': 0.18501668884832953, 'lambda_l1': 0.00011644192544321507, 'lambda_l2': 0.051049759195191, 'max_depth': 7, 'num_leaves': 96, 'feature_fraction': 0.42700820656594274, 'min_data_in_leaf': 7, 'max_bin': 246, 'bagging_freq': 4, 'bagging_fraction': 0.5191440865888839}. Best is trial 32 with value: 0.14540191776657313.\n"
     ]
    },
    {
     "name": "stdout",
     "output_type": "stream",
     "text": [
      "Repeat \u001b[1m\u001b[34m#1\n",
      "Repeat \u001b[1m\u001b[34m#2\n",
      "Repeat \u001b[1m\u001b[34m#3\n",
      "Repeat \u001b[1m\u001b[34m#4\n",
      "Repeat \u001b[1m\u001b[34m#5\n"
     ]
    },
    {
     "name": "stderr",
     "output_type": "stream",
     "text": [
      "[I 2023-06-16 10:15:53,557] Trial 439 finished with value: 0.15620505454959846 and parameters: {'boosting_type': 'gbdt', 'learning_rate': 0.05874433335980106, 'lambda_l1': 1.105396100330823e-06, 'lambda_l2': 0.0001203444144554211, 'max_depth': 7, 'num_leaves': 109, 'feature_fraction': 0.37159891867332034, 'min_data_in_leaf': 5, 'max_bin': 84, 'bagging_freq': 4, 'bagging_fraction': 0.5057565582212455}. Best is trial 32 with value: 0.14540191776657313.\n"
     ]
    },
    {
     "name": "stdout",
     "output_type": "stream",
     "text": [
      "Repeat \u001b[1m\u001b[34m#1\n",
      "Repeat \u001b[1m\u001b[34m#2\n",
      "Repeat \u001b[1m\u001b[34m#3\n",
      "Repeat \u001b[1m\u001b[34m#4\n",
      "Repeat \u001b[1m\u001b[34m#5\n"
     ]
    },
    {
     "name": "stderr",
     "output_type": "stream",
     "text": [
      "[I 2023-06-16 10:16:01,384] Trial 440 finished with value: 0.17094802200494855 and parameters: {'boosting_type': 'gbdt', 'learning_rate': 0.010744948542173302, 'lambda_l1': 0.00048059473052114633, 'lambda_l2': 0.0017583830005484238, 'max_depth': 7, 'num_leaves': 118, 'feature_fraction': 0.5587758594882017, 'min_data_in_leaf': 9, 'max_bin': 215, 'bagging_freq': 3, 'bagging_fraction': 0.6229389471215517}. Best is trial 32 with value: 0.14540191776657313.\n"
     ]
    },
    {
     "name": "stdout",
     "output_type": "stream",
     "text": [
      "Repeat \u001b[1m\u001b[34m#1\n",
      "Repeat \u001b[1m\u001b[34m#2\n",
      "Repeat \u001b[1m\u001b[34m#3\n",
      "Repeat \u001b[1m\u001b[34m#4\n",
      "Repeat \u001b[1m\u001b[34m#5\n"
     ]
    },
    {
     "name": "stderr",
     "output_type": "stream",
     "text": [
      "[I 2023-06-16 10:16:05,369] Trial 441 finished with value: 0.32310390432442676 and parameters: {'boosting_type': 'gbdt', 'learning_rate': 0.015330066021877845, 'lambda_l1': 5.1029982944822235e-06, 'lambda_l2': 0.3144583327890559, 'max_depth': 6, 'num_leaves': 103, 'feature_fraction': 0.46753873415477554, 'min_data_in_leaf': 44, 'max_bin': 138, 'bagging_freq': 1, 'bagging_fraction': 0.6339776045522043}. Best is trial 32 with value: 0.14540191776657313.\n"
     ]
    },
    {
     "name": "stdout",
     "output_type": "stream",
     "text": [
      "Repeat \u001b[1m\u001b[34m#1\n",
      "Repeat \u001b[1m\u001b[34m#2\n",
      "Repeat \u001b[1m\u001b[34m#3\n",
      "Repeat \u001b[1m\u001b[34m#4\n",
      "Repeat \u001b[1m\u001b[34m#5\n"
     ]
    },
    {
     "name": "stderr",
     "output_type": "stream",
     "text": [
      "[I 2023-06-16 10:16:07,404] Trial 442 finished with value: 0.15784094728089476 and parameters: {'boosting_type': 'gbdt', 'learning_rate': 0.12403467300460085, 'lambda_l1': 1.431663440952763e-07, 'lambda_l2': 0.06266077327486635, 'max_depth': 8, 'num_leaves': 115, 'feature_fraction': 0.3996525448387397, 'min_data_in_leaf': 7, 'max_bin': 37, 'bagging_freq': 3, 'bagging_fraction': 0.5357460155370688}. Best is trial 32 with value: 0.14540191776657313.\n"
     ]
    },
    {
     "name": "stdout",
     "output_type": "stream",
     "text": [
      "Repeat \u001b[1m\u001b[34m#1\n",
      "Repeat \u001b[1m\u001b[34m#2\n",
      "Repeat \u001b[1m\u001b[34m#3\n",
      "Repeat \u001b[1m\u001b[34m#4\n",
      "Repeat \u001b[1m\u001b[34m#5\n"
     ]
    },
    {
     "name": "stderr",
     "output_type": "stream",
     "text": [
      "[I 2023-06-16 10:16:10,254] Trial 443 finished with value: 0.15808136818740123 and parameters: {'boosting_type': 'gbdt', 'learning_rate': 0.07149319330037866, 'lambda_l1': 4.15412879683187e-07, 'lambda_l2': 0.0002621719217495345, 'max_depth': 7, 'num_leaves': 45, 'feature_fraction': 0.3810857131574117, 'min_data_in_leaf': 5, 'max_bin': 144, 'bagging_freq': 4, 'bagging_fraction': 0.5822639174222308}. Best is trial 32 with value: 0.14540191776657313.\n"
     ]
    },
    {
     "name": "stdout",
     "output_type": "stream",
     "text": [
      "Repeat \u001b[1m\u001b[34m#1\n",
      "Repeat \u001b[1m\u001b[34m#2\n",
      "Repeat \u001b[1m\u001b[34m#3\n",
      "Repeat \u001b[1m\u001b[34m#4\n",
      "Repeat \u001b[1m\u001b[34m#5\n"
     ]
    },
    {
     "name": "stderr",
     "output_type": "stream",
     "text": [
      "[I 2023-06-16 10:16:21,855] Trial 444 finished with value: 0.17917781538986835 and parameters: {'boosting_type': 'gbdt', 'learning_rate': 0.007107178637363384, 'lambda_l1': 1.6847882836372768e-06, 'lambda_l2': 0.0005576325948500272, 'max_depth': 5, 'num_leaves': 107, 'feature_fraction': 0.48187619707683943, 'min_data_in_leaf': 8, 'max_bin': 62, 'bagging_freq': 4, 'bagging_fraction': 0.5951238100480841}. Best is trial 32 with value: 0.14540191776657313.\n"
     ]
    },
    {
     "name": "stdout",
     "output_type": "stream",
     "text": [
      "Repeat \u001b[1m\u001b[34m#1\n",
      "Repeat \u001b[1m\u001b[34m#2\n",
      "Repeat \u001b[1m\u001b[34m#3\n",
      "Repeat \u001b[1m\u001b[34m#4\n",
      "Repeat \u001b[1m\u001b[34m#5\n"
     ]
    },
    {
     "name": "stderr",
     "output_type": "stream",
     "text": [
      "[I 2023-06-16 10:16:25,912] Trial 445 finished with value: 0.16975168297164514 and parameters: {'boosting_type': 'gbdt', 'learning_rate': 0.028217363189035453, 'lambda_l1': 0.00031136294209155167, 'lambda_l2': 3.375521018536459e-07, 'max_depth': 7, 'num_leaves': 111, 'feature_fraction': 0.6557633251261774, 'min_data_in_leaf': 10, 'max_bin': 134, 'bagging_freq': 4, 'bagging_fraction': 0.5230851851245546}. Best is trial 32 with value: 0.14540191776657313.\n"
     ]
    },
    {
     "name": "stdout",
     "output_type": "stream",
     "text": [
      "Repeat \u001b[1m\u001b[34m#1\n",
      "Repeat \u001b[1m\u001b[34m#2\n",
      "Repeat \u001b[1m\u001b[34m#3\n",
      "Repeat \u001b[1m\u001b[34m#4\n",
      "Repeat \u001b[1m\u001b[34m#5\n"
     ]
    },
    {
     "name": "stderr",
     "output_type": "stream",
     "text": [
      "[I 2023-06-16 10:16:30,621] Trial 446 finished with value: 0.15374307446266305 and parameters: {'boosting_type': 'goss', 'learning_rate': 0.04508829143340723, 'lambda_l1': 0.00014696150318593764, 'lambda_l2': 7.803264241709851e-05, 'max_depth': 9, 'num_leaves': 101, 'feature_fraction': 0.4582615210644073, 'min_data_in_leaf': 7, 'max_bin': 228, 'bagging_freq': 6}. Best is trial 32 with value: 0.14540191776657313.\n"
     ]
    },
    {
     "name": "stdout",
     "output_type": "stream",
     "text": [
      "Repeat \u001b[1m\u001b[34m#1\n",
      "Repeat \u001b[1m\u001b[34m#2\n",
      "Repeat \u001b[1m\u001b[34m#3\n",
      "Repeat \u001b[1m\u001b[34m#4\n",
      "Repeat \u001b[1m\u001b[34m#5\n"
     ]
    },
    {
     "name": "stderr",
     "output_type": "stream",
     "text": [
      "[I 2023-06-16 10:16:34,043] Trial 447 finished with value: 0.1773042757757882 and parameters: {'boosting_type': 'goss', 'learning_rate': 0.046894828127433924, 'lambda_l1': 0.00014230254140905693, 'lambda_l2': 8.66097711677573e-05, 'max_depth': 9, 'num_leaves': 97, 'feature_fraction': 0.44814656846830425, 'min_data_in_leaf': 13, 'max_bin': 227, 'bagging_freq': 6}. Best is trial 32 with value: 0.14540191776657313.\n"
     ]
    },
    {
     "name": "stdout",
     "output_type": "stream",
     "text": [
      "Repeat \u001b[1m\u001b[34m#1\n",
      "Repeat \u001b[1m\u001b[34m#2\n",
      "Repeat \u001b[1m\u001b[34m#3\n",
      "Repeat \u001b[1m\u001b[34m#4\n",
      "Repeat \u001b[1m\u001b[34m#5\n"
     ]
    },
    {
     "name": "stderr",
     "output_type": "stream",
     "text": [
      "[I 2023-06-16 10:16:39,203] Trial 448 finished with value: 0.15953614341041755 and parameters: {'boosting_type': 'goss', 'learning_rate': 0.038713846183356916, 'lambda_l1': 8.405844519062657e-05, 'lambda_l2': 4.5917874515535116e-08, 'max_depth': 9, 'num_leaves': 100, 'feature_fraction': 0.34738322902892943, 'min_data_in_leaf': 8, 'max_bin': 114, 'bagging_freq': 6}. Best is trial 32 with value: 0.14540191776657313.\n"
     ]
    },
    {
     "name": "stdout",
     "output_type": "stream",
     "text": [
      "Repeat \u001b[1m\u001b[34m#1\n",
      "Repeat \u001b[1m\u001b[34m#2\n",
      "Repeat \u001b[1m\u001b[34m#3\n",
      "Repeat \u001b[1m\u001b[34m#4\n",
      "Repeat \u001b[1m\u001b[34m#5\n"
     ]
    },
    {
     "name": "stderr",
     "output_type": "stream",
     "text": [
      "[I 2023-06-16 10:16:42,465] Trial 449 finished with value: 0.16542456343753953 and parameters: {'boosting_type': 'goss', 'learning_rate': 0.049623345226607, 'lambda_l1': 0.00022709673299052828, 'lambda_l2': 4.893575141233525e-05, 'max_depth': 9, 'num_leaves': 94, 'feature_fraction': 0.46112997261858846, 'min_data_in_leaf': 7, 'max_bin': 225, 'bagging_freq': 6}. Best is trial 32 with value: 0.14540191776657313.\n"
     ]
    },
    {
     "name": "stdout",
     "output_type": "stream",
     "text": [
      "Repeat \u001b[1m\u001b[34m#1\n",
      "Repeat \u001b[1m\u001b[34m#2\n",
      "Repeat \u001b[1m\u001b[34m#3\n",
      "Repeat \u001b[1m\u001b[34m#4\n",
      "Repeat \u001b[1m\u001b[34m#5\n"
     ]
    },
    {
     "name": "stderr",
     "output_type": "stream",
     "text": [
      "[I 2023-06-16 10:16:46,996] Trial 450 finished with value: 0.15569068961998403 and parameters: {'boosting_type': 'goss', 'learning_rate': 0.056562940401723216, 'lambda_l1': 5.3803180466176806e-05, 'lambda_l2': 2.6955165519620198e-05, 'max_depth': 9, 'num_leaves': 99, 'feature_fraction': 0.5131672289668205, 'min_data_in_leaf': 5, 'max_bin': 219, 'bagging_freq': 6}. Best is trial 32 with value: 0.14540191776657313.\n"
     ]
    },
    {
     "name": "stdout",
     "output_type": "stream",
     "text": [
      "Repeat \u001b[1m\u001b[34m#1\n",
      "Repeat \u001b[1m\u001b[34m#2\n",
      "Repeat \u001b[1m\u001b[34m#3\n",
      "Repeat \u001b[1m\u001b[34m#4\n",
      "Repeat \u001b[1m\u001b[34m#5\n"
     ]
    },
    {
     "name": "stderr",
     "output_type": "stream",
     "text": [
      "[I 2023-06-16 10:16:50,976] Trial 451 finished with value: 0.17008641648841272 and parameters: {'boosting_type': 'goss', 'learning_rate': 0.042152896203515595, 'lambda_l1': 0.00012922305179199572, 'lambda_l2': 8.318020895007358e-05, 'max_depth': 9, 'num_leaves': 103, 'feature_fraction': 0.4575511039346087, 'min_data_in_leaf': 11, 'max_bin': 204, 'bagging_freq': 2}. Best is trial 32 with value: 0.14540191776657313.\n"
     ]
    },
    {
     "name": "stdout",
     "output_type": "stream",
     "text": [
      "Repeat \u001b[1m\u001b[34m#1\n",
      "Repeat \u001b[1m\u001b[34m#2\n",
      "Repeat \u001b[1m\u001b[34m#3\n",
      "Repeat \u001b[1m\u001b[34m#4\n",
      "Repeat \u001b[1m\u001b[34m#5\n"
     ]
    },
    {
     "name": "stderr",
     "output_type": "stream",
     "text": [
      "[I 2023-06-16 10:16:53,035] Trial 452 finished with value: 0.16761225755593054 and parameters: {'boosting_type': 'goss', 'learning_rate': 0.16562076979491314, 'lambda_l1': 5.742626149375502e-07, 'lambda_l2': 5.209713341748831e-05, 'max_depth': 9, 'num_leaves': 101, 'feature_fraction': 0.5302995062107623, 'min_data_in_leaf': 9, 'max_bin': 229, 'bagging_freq': 6}. Best is trial 32 with value: 0.14540191776657313.\n"
     ]
    },
    {
     "name": "stdout",
     "output_type": "stream",
     "text": [
      "Repeat \u001b[1m\u001b[34m#1\n",
      "Repeat \u001b[1m\u001b[34m#2\n",
      "Repeat \u001b[1m\u001b[34m#3\n",
      "Repeat \u001b[1m\u001b[34m#4\n",
      "Repeat \u001b[1m\u001b[34m#5\n"
     ]
    },
    {
     "name": "stderr",
     "output_type": "stream",
     "text": [
      "[I 2023-06-16 10:16:55,540] Trial 453 finished with value: 0.15516122291950268 and parameters: {'boosting_type': 'goss', 'learning_rate': 0.10641125292638345, 'lambda_l1': 1.3803565320627875e-05, 'lambda_l2': 0.000138463139236508, 'max_depth': 9, 'num_leaves': 119, 'feature_fraction': 0.4186274781509833, 'min_data_in_leaf': 7, 'max_bin': 106, 'bagging_freq': 6}. Best is trial 32 with value: 0.14540191776657313.\n"
     ]
    },
    {
     "name": "stdout",
     "output_type": "stream",
     "text": [
      "Repeat \u001b[1m\u001b[34m#1\n",
      "Repeat \u001b[1m\u001b[34m#2\n",
      "Repeat \u001b[1m\u001b[34m#3\n",
      "Repeat \u001b[1m\u001b[34m#4\n",
      "Repeat \u001b[1m\u001b[34m#5\n"
     ]
    },
    {
     "name": "stderr",
     "output_type": "stream",
     "text": [
      "[I 2023-06-16 10:16:58,405] Trial 454 finished with value: 0.22062118802604994 and parameters: {'boosting_type': 'goss', 'learning_rate': 0.1042340028070819, 'lambda_l1': 1.1968950938685033e-05, 'lambda_l2': 6.351129188991859e-05, 'max_depth': 9, 'num_leaves': 98, 'feature_fraction': 0.43684544198119757, 'min_data_in_leaf': 24, 'max_bin': 105, 'bagging_freq': 6}. Best is trial 32 with value: 0.14540191776657313.\n"
     ]
    },
    {
     "name": "stdout",
     "output_type": "stream",
     "text": [
      "Repeat \u001b[1m\u001b[34m#1\n",
      "Repeat \u001b[1m\u001b[34m#2\n",
      "Repeat \u001b[1m\u001b[34m#3\n",
      "Repeat \u001b[1m\u001b[34m#4\n",
      "Repeat \u001b[1m\u001b[34m#5\n"
     ]
    },
    {
     "name": "stderr",
     "output_type": "stream",
     "text": [
      "[I 2023-06-16 10:17:00,899] Trial 455 finished with value: 0.1694586542923513 and parameters: {'boosting_type': 'goss', 'learning_rate': 0.08718227446560216, 'lambda_l1': 2.7575757308625687e-05, 'lambda_l2': 0.00012554035945490995, 'max_depth': 9, 'num_leaves': 104, 'feature_fraction': 0.4148613834867571, 'min_data_in_leaf': 11, 'max_bin': 106, 'bagging_freq': 6}. Best is trial 32 with value: 0.14540191776657313.\n"
     ]
    },
    {
     "name": "stdout",
     "output_type": "stream",
     "text": [
      "Repeat \u001b[1m\u001b[34m#1\n",
      "Repeat \u001b[1m\u001b[34m#2\n",
      "Repeat \u001b[1m\u001b[34m#3\n",
      "Repeat \u001b[1m\u001b[34m#4\n",
      "Repeat \u001b[1m\u001b[34m#5\n"
     ]
    },
    {
     "name": "stderr",
     "output_type": "stream",
     "text": [
      "[I 2023-06-16 10:17:08,928] Trial 456 finished with value: 0.21162857775642116 and parameters: {'boosting_type': 'goss', 'learning_rate': 0.006621418531235948, 'lambda_l1': 4.22767356679111e-05, 'lambda_l2': 3.647755519408451e-05, 'max_depth': 9, 'num_leaves': 113, 'feature_fraction': 0.43083091934980705, 'min_data_in_leaf': 9, 'max_bin': 94, 'bagging_freq': 6}. Best is trial 32 with value: 0.14540191776657313.\n"
     ]
    },
    {
     "name": "stdout",
     "output_type": "stream",
     "text": [
      "Repeat \u001b[1m\u001b[34m#1\n",
      "Repeat \u001b[1m\u001b[34m#2\n",
      "Repeat \u001b[1m\u001b[34m#3\n",
      "Repeat \u001b[1m\u001b[34m#4\n",
      "Repeat \u001b[1m\u001b[34m#5\n"
     ]
    },
    {
     "name": "stderr",
     "output_type": "stream",
     "text": [
      "[I 2023-06-16 10:17:11,239] Trial 457 finished with value: 0.16355103721583555 and parameters: {'boosting_type': 'goss', 'learning_rate': 0.13135667586668662, 'lambda_l1': 1.7455904290058743e-05, 'lambda_l2': 0.005608934431080165, 'max_depth': 9, 'num_leaves': 54, 'feature_fraction': 0.3515548132925872, 'min_data_in_leaf': 7, 'max_bin': 110, 'bagging_freq': 3}. Best is trial 32 with value: 0.14540191776657313.\n"
     ]
    },
    {
     "name": "stdout",
     "output_type": "stream",
     "text": [
      "Repeat \u001b[1m\u001b[34m#1\n",
      "Repeat \u001b[1m\u001b[34m#2\n",
      "Repeat \u001b[1m\u001b[34m#3\n",
      "Repeat \u001b[1m\u001b[34m#4\n",
      "Repeat \u001b[1m\u001b[34m#5\n"
     ]
    },
    {
     "name": "stderr",
     "output_type": "stream",
     "text": [
      "[I 2023-06-16 10:17:13,589] Trial 458 finished with value: 0.20098614675158516 and parameters: {'boosting_type': 'goss', 'learning_rate': 0.144635536681167, 'lambda_l1': 0.7399229612033033, 'lambda_l2': 0.6393367697390746, 'max_depth': 9, 'num_leaves': 101, 'feature_fraction': 0.3167424250073218, 'min_data_in_leaf': 14, 'max_bin': 116, 'bagging_freq': 6}. Best is trial 32 with value: 0.14540191776657313.\n"
     ]
    },
    {
     "name": "stdout",
     "output_type": "stream",
     "text": [
      "Repeat \u001b[1m\u001b[34m#1\n",
      "Repeat \u001b[1m\u001b[34m#2\n",
      "Repeat \u001b[1m\u001b[34m#3\n",
      "Repeat \u001b[1m\u001b[34m#4\n",
      "Repeat \u001b[1m\u001b[34m#5\n"
     ]
    },
    {
     "name": "stderr",
     "output_type": "stream",
     "text": [
      "[I 2023-06-16 10:17:16,780] Trial 459 finished with value: 0.15639321152686592 and parameters: {'boosting_type': 'goss', 'learning_rate': 0.10393477899119033, 'lambda_l1': 1.9375329546059634e-08, 'lambda_l2': 0.012894139058957954, 'max_depth': 9, 'num_leaves': 109, 'feature_fraction': 0.4213711770652475, 'min_data_in_leaf': 7, 'max_bin': 106, 'bagging_freq': 6}. Best is trial 32 with value: 0.14540191776657313.\n"
     ]
    },
    {
     "name": "stdout",
     "output_type": "stream",
     "text": [
      "Repeat \u001b[1m\u001b[34m#1\n",
      "Repeat \u001b[1m\u001b[34m#2\n",
      "Repeat \u001b[1m\u001b[34m#3\n",
      "Repeat \u001b[1m\u001b[34m#4\n",
      "Repeat \u001b[1m\u001b[34m#5\n"
     ]
    },
    {
     "name": "stderr",
     "output_type": "stream",
     "text": [
      "[I 2023-06-16 10:17:19,772] Trial 460 finished with value: 0.17100692974861648 and parameters: {'boosting_type': 'goss', 'learning_rate': 0.0913830519278041, 'lambda_l1': 7.106733211675751e-06, 'lambda_l2': 0.2048521863138438, 'max_depth': 9, 'num_leaves': 121, 'feature_fraction': 0.3620859006906232, 'min_data_in_leaf': 9, 'max_bin': 101, 'bagging_freq': 6}. Best is trial 32 with value: 0.14540191776657313.\n"
     ]
    },
    {
     "name": "stdout",
     "output_type": "stream",
     "text": [
      "Repeat \u001b[1m\u001b[34m#1\n",
      "Repeat \u001b[1m\u001b[34m#2\n",
      "Repeat \u001b[1m\u001b[34m#3\n",
      "Repeat \u001b[1m\u001b[34m#4\n",
      "Repeat \u001b[1m\u001b[34m#5\n"
     ]
    },
    {
     "name": "stderr",
     "output_type": "stream",
     "text": [
      "[I 2023-06-16 10:17:22,114] Trial 461 finished with value: 0.17826751691565929 and parameters: {'boosting_type': 'goss', 'learning_rate': 0.11285191666207339, 'lambda_l1': 2.6581103965091714e-06, 'lambda_l2': 7.881283593377879e-05, 'max_depth': 9, 'num_leaves': 14, 'feature_fraction': 0.4423090135804962, 'min_data_in_leaf': 12, 'max_bin': 46, 'bagging_freq': 6}. Best is trial 32 with value: 0.14540191776657313.\n"
     ]
    },
    {
     "name": "stdout",
     "output_type": "stream",
     "text": [
      "Repeat \u001b[1m\u001b[34m#1\n",
      "Repeat \u001b[1m\u001b[34m#2\n",
      "Repeat \u001b[1m\u001b[34m#3\n",
      "Repeat \u001b[1m\u001b[34m#4\n",
      "Repeat \u001b[1m\u001b[34m#5\n"
     ]
    },
    {
     "name": "stderr",
     "output_type": "stream",
     "text": [
      "[I 2023-06-16 10:17:30,784] Trial 462 finished with value: 0.17548191633545673 and parameters: {'boosting_type': 'goss', 'learning_rate': 0.01022633305984318, 'lambda_l1': 1.4271300535291937e-06, 'lambda_l2': 0.00015731861196408988, 'max_depth': 9, 'num_leaves': 105, 'feature_fraction': 0.540619287373135, 'min_data_in_leaf': 6, 'max_bin': 97, 'bagging_freq': 6}. Best is trial 32 with value: 0.14540191776657313.\n"
     ]
    },
    {
     "name": "stdout",
     "output_type": "stream",
     "text": [
      "Repeat \u001b[1m\u001b[34m#1\n",
      "Repeat \u001b[1m\u001b[34m#2\n",
      "Repeat \u001b[1m\u001b[34m#3\n",
      "Repeat \u001b[1m\u001b[34m#4\n",
      "Repeat \u001b[1m\u001b[34m#5\n"
     ]
    },
    {
     "name": "stderr",
     "output_type": "stream",
     "text": [
      "[I 2023-06-16 10:17:32,297] Trial 463 finished with value: 0.15187650679031447 and parameters: {'boosting_type': 'goss', 'learning_rate': 0.2256218363003397, 'lambda_l1': 3.240299481659777e-08, 'lambda_l2': 2.140886155018446e-05, 'max_depth': 9, 'num_leaves': 116, 'feature_fraction': 0.3555154092965354, 'min_data_in_leaf': 5, 'max_bin': 101, 'bagging_freq': 6}. Best is trial 32 with value: 0.14540191776657313.\n"
     ]
    },
    {
     "name": "stdout",
     "output_type": "stream",
     "text": [
      "Repeat \u001b[1m\u001b[34m#1\n",
      "Repeat \u001b[1m\u001b[34m#2\n",
      "Repeat \u001b[1m\u001b[34m#3\n",
      "Repeat \u001b[1m\u001b[34m#4\n",
      "Repeat \u001b[1m\u001b[34m#5\n"
     ]
    },
    {
     "name": "stderr",
     "output_type": "stream",
     "text": [
      "[I 2023-06-16 10:17:33,779] Trial 464 finished with value: 0.16893361813083135 and parameters: {'boosting_type': 'goss', 'learning_rate': 0.19293148255067194, 'lambda_l1': 4.731557547580426e-08, 'lambda_l2': 1.8629861992056957e-05, 'max_depth': 9, 'num_leaves': 118, 'feature_fraction': 0.33928737719392277, 'min_data_in_leaf': 8, 'max_bin': 101, 'bagging_freq': 6}. Best is trial 32 with value: 0.14540191776657313.\n"
     ]
    },
    {
     "name": "stdout",
     "output_type": "stream",
     "text": [
      "Repeat \u001b[1m\u001b[34m#1\n",
      "Repeat \u001b[1m\u001b[34m#2\n",
      "Repeat \u001b[1m\u001b[34m#3\n",
      "Repeat \u001b[1m\u001b[34m#4\n",
      "Repeat \u001b[1m\u001b[34m#5\n"
     ]
    },
    {
     "name": "stderr",
     "output_type": "stream",
     "text": [
      "[I 2023-06-16 10:17:35,238] Trial 465 finished with value: 0.17410881190326313 and parameters: {'boosting_type': 'goss', 'learning_rate': 0.2791823564457362, 'lambda_l1': 2.6163683742621495e-08, 'lambda_l2': 9.058409366407353e-06, 'max_depth': 9, 'num_leaves': 116, 'feature_fraction': 0.3534279957161154, 'min_data_in_leaf': 5, 'max_bin': 97, 'bagging_freq': 6}. Best is trial 32 with value: 0.14540191776657313.\n"
     ]
    },
    {
     "name": "stdout",
     "output_type": "stream",
     "text": [
      "Repeat \u001b[1m\u001b[34m#1\n",
      "Repeat \u001b[1m\u001b[34m#2\n",
      "Repeat \u001b[1m\u001b[34m#3\n",
      "Repeat \u001b[1m\u001b[34m#4\n",
      "Repeat \u001b[1m\u001b[34m#5\n"
     ]
    },
    {
     "name": "stderr",
     "output_type": "stream",
     "text": [
      "[I 2023-06-16 10:17:41,764] Trial 466 finished with value: 0.2297411044259336 and parameters: {'boosting_type': 'goss', 'learning_rate': 0.00630791675206337, 'lambda_l1': 1.52079593903536e-08, 'lambda_l2': 1.885323396625967e-05, 'max_depth': 9, 'num_leaves': 119, 'feature_fraction': 0.30986809691838624, 'min_data_in_leaf': 10, 'max_bin': 103, 'bagging_freq': 6}. Best is trial 32 with value: 0.14540191776657313.\n"
     ]
    },
    {
     "name": "stdout",
     "output_type": "stream",
     "text": [
      "Repeat \u001b[1m\u001b[34m#1\n",
      "Repeat \u001b[1m\u001b[34m#2\n",
      "Repeat \u001b[1m\u001b[34m#3\n",
      "Repeat \u001b[1m\u001b[34m#4\n",
      "Repeat \u001b[1m\u001b[34m#5\n"
     ]
    },
    {
     "name": "stderr",
     "output_type": "stream",
     "text": [
      "[I 2023-06-16 10:17:45,266] Trial 467 finished with value: 0.15804109359665747 and parameters: {'boosting_type': 'goss', 'learning_rate': 0.03629470957119877, 'lambda_l1': 6.644766361300293e-08, 'lambda_l2': 2.9152814310411532e-05, 'max_depth': 9, 'num_leaves': 125, 'feature_fraction': 0.3360196728470891, 'min_data_in_leaf': 7, 'max_bin': 107, 'bagging_freq': 6}. Best is trial 32 with value: 0.14540191776657313.\n"
     ]
    },
    {
     "name": "stdout",
     "output_type": "stream",
     "text": [
      "Repeat \u001b[1m\u001b[34m#1\n",
      "Repeat \u001b[1m\u001b[34m#2\n",
      "Repeat \u001b[1m\u001b[34m#3\n",
      "Repeat \u001b[1m\u001b[34m#4\n",
      "Repeat \u001b[1m\u001b[34m#5\n"
     ]
    },
    {
     "name": "stderr",
     "output_type": "stream",
     "text": [
      "[I 2023-06-16 10:17:46,754] Trial 468 finished with value: 0.17159314488676072 and parameters: {'boosting_type': 'goss', 'learning_rate': 0.2211640654708854, 'lambda_l1': 8.864157150627283e-05, 'lambda_l2': 3.6112725412068145e-05, 'max_depth': 10, 'num_leaves': 114, 'feature_fraction': 0.6956294879596344, 'min_data_in_leaf': 5, 'max_bin': 99, 'bagging_freq': 6}. Best is trial 32 with value: 0.14540191776657313.\n"
     ]
    },
    {
     "name": "stdout",
     "output_type": "stream",
     "text": [
      "Repeat \u001b[1m\u001b[34m#1\n",
      "Repeat \u001b[1m\u001b[34m#2\n",
      "Repeat \u001b[1m\u001b[34m#3\n",
      "Repeat \u001b[1m\u001b[34m#4\n",
      "Repeat \u001b[1m\u001b[34m#5\n"
     ]
    },
    {
     "name": "stderr",
     "output_type": "stream",
     "text": [
      "[I 2023-06-16 10:17:48,111] Trial 469 finished with value: 0.1841350353174474 and parameters: {'boosting_type': 'goss', 'learning_rate': 0.24173354896366578, 'lambda_l1': 4.354966716974506e-08, 'lambda_l2': 1.2969774081449443e-05, 'max_depth': 9, 'num_leaves': 116, 'feature_fraction': 0.6821242587433807, 'min_data_in_leaf': 9, 'max_bin': 112, 'bagging_freq': 6}. Best is trial 32 with value: 0.14540191776657313.\n"
     ]
    },
    {
     "name": "stdout",
     "output_type": "stream",
     "text": [
      "Repeat \u001b[1m\u001b[34m#1\n",
      "Repeat \u001b[1m\u001b[34m#2\n",
      "Repeat \u001b[1m\u001b[34m#3\n",
      "Repeat \u001b[1m\u001b[34m#4\n",
      "Repeat \u001b[1m\u001b[34m#5\n"
     ]
    },
    {
     "name": "stderr",
     "output_type": "stream",
     "text": [
      "[I 2023-06-16 10:17:55,353] Trial 470 finished with value: 0.16631849046293326 and parameters: {'boosting_type': 'goss', 'learning_rate': 0.03147921669335195, 'lambda_l1': 3.287314306460239e-08, 'lambda_l2': 6.740356329660022e-05, 'max_depth': 9, 'num_leaves': 121, 'feature_fraction': 0.5727036052468485, 'min_data_in_leaf': 7, 'max_bin': 89, 'bagging_freq': 6}. Best is trial 32 with value: 0.14540191776657313.\n"
     ]
    },
    {
     "name": "stdout",
     "output_type": "stream",
     "text": [
      "Repeat \u001b[1m\u001b[34m#1\n",
      "Repeat \u001b[1m\u001b[34m#2\n",
      "Repeat \u001b[1m\u001b[34m#3\n",
      "Repeat \u001b[1m\u001b[34m#4\n",
      "Repeat \u001b[1m\u001b[34m#5\n"
     ]
    },
    {
     "name": "stderr",
     "output_type": "stream",
     "text": [
      "[I 2023-06-16 10:18:03,217] Trial 471 finished with value: 0.2621625243296397 and parameters: {'boosting_type': 'goss', 'learning_rate': 0.004751241896576749, 'lambda_l1': 1.9030452789702728e-07, 'lambda_l2': 2.1482152134423147e-05, 'max_depth': 9, 'num_leaves': 96, 'feature_fraction': 0.332156121124827, 'min_data_in_leaf': 11, 'max_bin': 93, 'bagging_freq': 6}. Best is trial 32 with value: 0.14540191776657313.\n"
     ]
    },
    {
     "name": "stdout",
     "output_type": "stream",
     "text": [
      "Repeat \u001b[1m\u001b[34m#1\n",
      "Repeat \u001b[1m\u001b[34m#2\n",
      "Repeat \u001b[1m\u001b[34m#3\n",
      "Repeat \u001b[1m\u001b[34m#4\n",
      "Repeat \u001b[1m\u001b[34m#5\n"
     ]
    },
    {
     "name": "stderr",
     "output_type": "stream",
     "text": [
      "[I 2023-06-16 10:18:29,620] Trial 472 finished with value: 0.27493705451630646 and parameters: {'boosting_type': 'dart', 'learning_rate': 0.008307512225259201, 'lambda_l1': 0.00019276502887607754, 'lambda_l2': 0.022032616240952378, 'max_depth': 9, 'num_leaves': 102, 'feature_fraction': 0.3208419653799957, 'min_data_in_leaf': 5, 'max_bin': 71, 'bagging_freq': 6, 'bagging_fraction': 0.5483743335364654}. Best is trial 32 with value: 0.14540191776657313.\n"
     ]
    },
    {
     "name": "stdout",
     "output_type": "stream",
     "text": [
      "Repeat \u001b[1m\u001b[34m#1\n",
      "Repeat \u001b[1m\u001b[34m#2\n",
      "Repeat \u001b[1m\u001b[34m#3\n",
      "Repeat \u001b[1m\u001b[34m#4\n",
      "Repeat \u001b[1m\u001b[34m#5\n"
     ]
    },
    {
     "name": "stderr",
     "output_type": "stream",
     "text": [
      "[I 2023-06-16 10:18:31,492] Trial 473 finished with value: 0.15527063658853552 and parameters: {'boosting_type': 'goss', 'learning_rate': 0.16966334795442317, 'lambda_l1': 1.0300780680904589e-07, 'lambda_l2': 4.585123062055344e-05, 'max_depth': 9, 'num_leaves': 99, 'feature_fraction': 0.32600440547451914, 'min_data_in_leaf': 7, 'max_bin': 99, 'bagging_freq': 6}. Best is trial 32 with value: 0.14540191776657313.\n"
     ]
    },
    {
     "name": "stdout",
     "output_type": "stream",
     "text": [
      "Repeat \u001b[1m\u001b[34m#1\n",
      "Repeat \u001b[1m\u001b[34m#2\n",
      "Repeat \u001b[1m\u001b[34m#3\n",
      "Repeat \u001b[1m\u001b[34m#4\n",
      "Repeat \u001b[1m\u001b[34m#5\n"
     ]
    },
    {
     "name": "stderr",
     "output_type": "stream",
     "text": [
      "[I 2023-06-16 10:18:33,077] Trial 474 finished with value: 0.16623433040863828 and parameters: {'boosting_type': 'goss', 'learning_rate': 0.16887890043503145, 'lambda_l1': 9.789236233128707e-08, 'lambda_l2': 4.533512786065683e-07, 'max_depth': 9, 'num_leaves': 92, 'feature_fraction': 0.36001731250077446, 'min_data_in_leaf': 12, 'max_bin': 102, 'bagging_freq': 6}. Best is trial 32 with value: 0.14540191776657313.\n"
     ]
    },
    {
     "name": "stdout",
     "output_type": "stream",
     "text": [
      "Repeat \u001b[1m\u001b[34m#1\n",
      "Repeat \u001b[1m\u001b[34m#2\n",
      "Repeat \u001b[1m\u001b[34m#3\n",
      "Repeat \u001b[1m\u001b[34m#4\n",
      "Repeat \u001b[1m\u001b[34m#5\n"
     ]
    },
    {
     "name": "stderr",
     "output_type": "stream",
     "text": [
      "[I 2023-06-16 10:18:34,597] Trial 475 finished with value: 0.16822621563720297 and parameters: {'boosting_type': 'goss', 'learning_rate': 0.2113370946718446, 'lambda_l1': 1.0295872686181619e-07, 'lambda_l2': 3.920048508263872e-05, 'max_depth': 9, 'num_leaves': 98, 'feature_fraction': 0.552165570129971, 'min_data_in_leaf': 9, 'max_bin': 104, 'bagging_freq': 6}. Best is trial 32 with value: 0.14540191776657313.\n"
     ]
    },
    {
     "name": "stdout",
     "output_type": "stream",
     "text": [
      "Repeat \u001b[1m\u001b[34m#1\n",
      "Repeat \u001b[1m\u001b[34m#2\n",
      "Repeat \u001b[1m\u001b[34m#3\n",
      "Repeat \u001b[1m\u001b[34m#4\n",
      "Repeat \u001b[1m\u001b[34m#5\n"
     ]
    },
    {
     "name": "stderr",
     "output_type": "stream",
     "text": [
      "[I 2023-06-16 10:18:36,715] Trial 476 finished with value: 0.1650699587590893 and parameters: {'boosting_type': 'goss', 'learning_rate': 0.14858218904686538, 'lambda_l1': 6.442836535768891e-08, 'lambda_l2': 6.0203008318857414e-06, 'max_depth': 9, 'num_leaves': 93, 'feature_fraction': 0.3714705356454181, 'min_data_in_leaf': 8, 'max_bin': 96, 'bagging_freq': 6}. Best is trial 32 with value: 0.14540191776657313.\n"
     ]
    },
    {
     "name": "stdout",
     "output_type": "stream",
     "text": [
      "Repeat \u001b[1m\u001b[34m#1\n",
      "Repeat \u001b[1m\u001b[34m#2\n",
      "Repeat \u001b[1m\u001b[34m#3\n",
      "Repeat \u001b[1m\u001b[34m#4\n",
      "Repeat \u001b[1m\u001b[34m#5\n"
     ]
    },
    {
     "name": "stderr",
     "output_type": "stream",
     "text": [
      "[I 2023-06-16 10:18:39,146] Trial 477 finished with value: 0.1542004319996971 and parameters: {'boosting_type': 'goss', 'learning_rate': 0.12792795622768866, 'lambda_l1': 3.151373041490306e-05, 'lambda_l2': 9.873327355640767e-08, 'max_depth': 4, 'num_leaves': 96, 'feature_fraction': 0.4518890764843728, 'min_data_in_leaf': 7, 'max_bin': 108, 'bagging_freq': 7}. Best is trial 32 with value: 0.14540191776657313.\n"
     ]
    },
    {
     "name": "stdout",
     "output_type": "stream",
     "text": [
      "Repeat \u001b[1m\u001b[34m#1\n",
      "Repeat \u001b[1m\u001b[34m#2\n",
      "Repeat \u001b[1m\u001b[34m#3\n",
      "Repeat \u001b[1m\u001b[34m#4\n"
     ]
    },
    {
     "name": "stderr",
     "output_type": "stream",
     "text": [
      "[I 2023-06-16 10:18:39,887] Trial 478 finished with value: 0.6973915667428459 and parameters: {'boosting_type': 'goss', 'learning_rate': 0.002688454887287769, 'lambda_l1': 1.4207697010041609e-05, 'lambda_l2': 8.927156558849563e-07, 'max_depth': 4, 'num_leaves': 94, 'feature_fraction': 0.44922681004334153, 'min_data_in_leaf': 100, 'max_bin': 88, 'bagging_freq': 7}. Best is trial 32 with value: 0.14540191776657313.\n"
     ]
    },
    {
     "name": "stdout",
     "output_type": "stream",
     "text": [
      "Repeat \u001b[1m\u001b[34m#5\n",
      "Repeat \u001b[1m\u001b[34m#1\n",
      "Repeat \u001b[1m\u001b[34m#2\n",
      "Repeat \u001b[1m\u001b[34m#3\n",
      "Repeat \u001b[1m\u001b[34m#4\n",
      "Repeat \u001b[1m\u001b[34m#5\n"
     ]
    },
    {
     "name": "stderr",
     "output_type": "stream",
     "text": [
      "[I 2023-06-16 10:18:41,799] Trial 479 finished with value: 0.15486497600333182 and parameters: {'boosting_type': 'goss', 'learning_rate': 0.18706568841535612, 'lambda_l1': 3.5085946529671096e-05, 'lambda_l2': 1.6680704473933093e-07, 'max_depth': 5, 'num_leaves': 96, 'feature_fraction': 0.45378844935270984, 'min_data_in_leaf': 10, 'max_bin': 99, 'bagging_freq': 5}. Best is trial 32 with value: 0.14540191776657313.\n"
     ]
    },
    {
     "name": "stdout",
     "output_type": "stream",
     "text": [
      "Repeat \u001b[1m\u001b[34m#1\n",
      "Repeat \u001b[1m\u001b[34m#2\n",
      "Repeat \u001b[1m\u001b[34m#3\n",
      "Repeat \u001b[1m\u001b[34m#4\n",
      "Repeat \u001b[1m\u001b[34m#5\n"
     ]
    },
    {
     "name": "stderr",
     "output_type": "stream",
     "text": [
      "[I 2023-06-16 10:18:43,463] Trial 480 finished with value: 0.18605062884733434 and parameters: {'boosting_type': 'goss', 'learning_rate': 0.1871755447308168, 'lambda_l1': 4.2682091626087437e-05, 'lambda_l2': 9.596356221932095e-08, 'max_depth': 4, 'num_leaves': 94, 'feature_fraction': 0.45545432815222375, 'min_data_in_leaf': 14, 'max_bin': 108, 'bagging_freq': 5}. Best is trial 32 with value: 0.14540191776657313.\n"
     ]
    },
    {
     "name": "stdout",
     "output_type": "stream",
     "text": [
      "Repeat \u001b[1m\u001b[34m#1\n",
      "Repeat \u001b[1m\u001b[34m#2\n",
      "Repeat \u001b[1m\u001b[34m#3\n",
      "Repeat \u001b[1m\u001b[34m#4\n",
      "Repeat \u001b[1m\u001b[34m#5\n"
     ]
    },
    {
     "name": "stderr",
     "output_type": "stream",
     "text": [
      "[I 2023-06-16 10:18:45,742] Trial 481 finished with value: 0.17165404770192957 and parameters: {'boosting_type': 'goss', 'learning_rate': 0.13652893165793445, 'lambda_l1': 1.6953995178228638e-05, 'lambda_l2': 0.0001492364709564273, 'max_depth': 5, 'num_leaves': 89, 'feature_fraction': 0.444419790028109, 'min_data_in_leaf': 12, 'max_bin': 97, 'bagging_freq': 5}. Best is trial 32 with value: 0.14540191776657313.\n"
     ]
    },
    {
     "name": "stdout",
     "output_type": "stream",
     "text": [
      "Repeat \u001b[1m\u001b[34m#1\n",
      "Repeat \u001b[1m\u001b[34m#2\n",
      "Repeat \u001b[1m\u001b[34m#3\n",
      "Repeat \u001b[1m\u001b[34m#4\n",
      "Repeat \u001b[1m\u001b[34m#5\n"
     ]
    },
    {
     "name": "stderr",
     "output_type": "stream",
     "text": [
      "[I 2023-06-16 10:18:47,164] Trial 482 finished with value: 0.17914810361135886 and parameters: {'boosting_type': 'goss', 'learning_rate': 0.20982060429353894, 'lambda_l1': 3.246272583954735e-05, 'lambda_l2': 2.9564112031112515e-08, 'max_depth': 4, 'num_leaves': 97, 'feature_fraction': 0.45121285899612895, 'min_data_in_leaf': 11, 'max_bin': 103, 'bagging_freq': 7}. Best is trial 32 with value: 0.14540191776657313.\n"
     ]
    },
    {
     "name": "stdout",
     "output_type": "stream",
     "text": [
      "Repeat \u001b[1m\u001b[34m#1\n",
      "Repeat \u001b[1m\u001b[34m#2\n",
      "Repeat \u001b[1m\u001b[34m#3\n",
      "Repeat \u001b[1m\u001b[34m#4\n",
      "Repeat \u001b[1m\u001b[34m#5\n"
     ]
    },
    {
     "name": "stderr",
     "output_type": "stream",
     "text": [
      "[I 2023-06-16 10:18:49,027] Trial 483 finished with value: 0.1667303191360562 and parameters: {'boosting_type': 'goss', 'learning_rate': 0.23723249487706868, 'lambda_l1': 8.907480531139495e-06, 'lambda_l2': 8.073242533662772e-08, 'max_depth': 6, 'num_leaves': 90, 'feature_fraction': 0.458989974746285, 'min_data_in_leaf': 10, 'max_bin': 157, 'bagging_freq': 5}. Best is trial 32 with value: 0.14540191776657313.\n"
     ]
    },
    {
     "name": "stdout",
     "output_type": "stream",
     "text": [
      "Repeat \u001b[1m\u001b[34m#1\n",
      "Repeat \u001b[1m\u001b[34m#2\n",
      "Repeat \u001b[1m\u001b[34m#3\n",
      "Repeat \u001b[1m\u001b[34m#4\n",
      "Repeat \u001b[1m\u001b[34m#5\n"
     ]
    },
    {
     "name": "stderr",
     "output_type": "stream",
     "text": [
      "[I 2023-06-16 10:18:51,388] Trial 484 finished with value: 0.1723476980136494 and parameters: {'boosting_type': 'goss', 'learning_rate': 0.1261570969990829, 'lambda_l1': 2.025208086121718e-05, 'lambda_l2': 1.2594851921271429e-06, 'max_depth': 5, 'num_leaves': 96, 'feature_fraction': 0.4432546229566985, 'min_data_in_leaf': 10, 'max_bin': 93, 'bagging_freq': 7}. Best is trial 32 with value: 0.14540191776657313.\n"
     ]
    },
    {
     "name": "stdout",
     "output_type": "stream",
     "text": [
      "Repeat \u001b[1m\u001b[34m#1\n",
      "Repeat \u001b[1m\u001b[34m#2\n",
      "Repeat \u001b[1m\u001b[34m#3\n",
      "Repeat \u001b[1m\u001b[34m#4\n",
      "Repeat \u001b[1m\u001b[34m#5\n"
     ]
    },
    {
     "name": "stderr",
     "output_type": "stream",
     "text": [
      "[I 2023-06-16 10:18:59,357] Trial 485 finished with value: 0.45678710267954453 and parameters: {'boosting_type': 'goss', 'learning_rate': 0.0007829485068325478, 'lambda_l1': 1.154912829329753e-05, 'lambda_l2': 1.2683890464515478e-07, 'max_depth': 4, 'num_leaves': 95, 'feature_fraction': 0.37695928511380705, 'min_data_in_leaf': 13, 'max_bin': 103, 'bagging_freq': 7}. Best is trial 32 with value: 0.14540191776657313.\n"
     ]
    },
    {
     "name": "stdout",
     "output_type": "stream",
     "text": [
      "Repeat \u001b[1m\u001b[34m#1\n",
      "Repeat \u001b[1m\u001b[34m#2\n",
      "Repeat \u001b[1m\u001b[34m#3\n",
      "Repeat \u001b[1m\u001b[34m#4\n",
      "Repeat \u001b[1m\u001b[34m#5\n"
     ]
    },
    {
     "name": "stderr",
     "output_type": "stream",
     "text": [
      "[I 2023-06-16 10:19:10,488] Trial 486 finished with value: 0.5467495203654459 and parameters: {'boosting_type': 'goss', 'learning_rate': 0.0003797649057391036, 'lambda_l1': 2.9154110522541432e-05, 'lambda_l2': 1.368353284926063e-07, 'max_depth': 5, 'num_leaves': 97, 'feature_fraction': 0.3443605996071694, 'min_data_in_leaf': 9, 'max_bin': 109, 'bagging_freq': 7}. Best is trial 32 with value: 0.14540191776657313.\n"
     ]
    },
    {
     "name": "stdout",
     "output_type": "stream",
     "text": [
      "Repeat \u001b[1m\u001b[34m#1\n",
      "Repeat \u001b[1m\u001b[34m#2\n",
      "Repeat \u001b[1m\u001b[34m#3\n",
      "Repeat \u001b[1m\u001b[34m#4\n",
      "Repeat \u001b[1m\u001b[34m#5\n"
     ]
    },
    {
     "name": "stderr",
     "output_type": "stream",
     "text": [
      "[I 2023-06-16 10:19:12,063] Trial 487 finished with value: 0.16317407408936885 and parameters: {'boosting_type': 'goss', 'learning_rate': 0.2620456491973871, 'lambda_l1': 2.7190373741844736e-05, 'lambda_l2': 1.8610012568615197e-06, 'max_depth': 5, 'num_leaves': 93, 'feature_fraction': 0.42914984258100286, 'min_data_in_leaf': 8, 'max_bin': 55, 'bagging_freq': 7}. Best is trial 32 with value: 0.14540191776657313.\n"
     ]
    },
    {
     "name": "stdout",
     "output_type": "stream",
     "text": [
      "Repeat \u001b[1m\u001b[34m#1\n",
      "Repeat \u001b[1m\u001b[34m#2\n",
      "Repeat \u001b[1m\u001b[34m#3\n",
      "Repeat \u001b[1m\u001b[34m#4\n",
      "Repeat \u001b[1m\u001b[34m#5\n"
     ]
    },
    {
     "name": "stderr",
     "output_type": "stream",
     "text": [
      "[I 2023-06-16 10:19:19,033] Trial 488 finished with value: 0.21159111207983416 and parameters: {'boosting_type': 'goss', 'learning_rate': 0.012847211814844817, 'lambda_l1': 8.652874561429165e-07, 'lambda_l2': 0.00019673445258876812, 'max_depth': 4, 'num_leaves': 100, 'feature_fraction': 0.4679310172261159, 'min_data_in_leaf': 15, 'max_bin': 141, 'bagging_freq': 5}. Best is trial 32 with value: 0.14540191776657313.\n"
     ]
    },
    {
     "name": "stdout",
     "output_type": "stream",
     "text": [
      "Repeat \u001b[1m\u001b[34m#1\n",
      "Repeat \u001b[1m\u001b[34m#2\n",
      "Repeat \u001b[1m\u001b[34m#3\n",
      "Repeat \u001b[1m\u001b[34m#4\n",
      "Repeat \u001b[1m\u001b[34m#5\n"
     ]
    },
    {
     "name": "stderr",
     "output_type": "stream",
     "text": [
      "[I 2023-06-16 10:19:21,233] Trial 489 finished with value: 0.16996533024130478 and parameters: {'boosting_type': 'goss', 'learning_rate': 0.15522230861315908, 'lambda_l1': 3.7028294320187984e-05, 'lambda_l2': 5.885303422701995e-07, 'max_depth': 5, 'num_leaves': 99, 'feature_fraction': 0.4369814578519054, 'min_data_in_leaf': 7, 'max_bin': 97, 'bagging_freq': 5}. Best is trial 32 with value: 0.14540191776657313.\n"
     ]
    },
    {
     "name": "stdout",
     "output_type": "stream",
     "text": [
      "Repeat \u001b[1m\u001b[34m#1\n",
      "Repeat \u001b[1m\u001b[34m#2\n",
      "Repeat \u001b[1m\u001b[34m#3\n",
      "Repeat \u001b[1m\u001b[34m#4\n",
      "Repeat \u001b[1m\u001b[34m#5\n"
     ]
    },
    {
     "name": "stderr",
     "output_type": "stream",
     "text": [
      "[I 2023-06-16 10:19:25,279] Trial 490 finished with value: 0.1710141031071834 and parameters: {'boosting_type': 'goss', 'learning_rate': 0.03627732397630854, 'lambda_l1': 2.2273850024903816e-05, 'lambda_l2': 5.632754361087669e-07, 'max_depth': 10, 'num_leaves': 124, 'feature_fraction': 0.45363219611558, 'min_data_in_leaf': 10, 'max_bin': 80, 'bagging_freq': 7}. Best is trial 32 with value: 0.14540191776657313.\n"
     ]
    },
    {
     "name": "stdout",
     "output_type": "stream",
     "text": [
      "Repeat \u001b[1m\u001b[34m#1\n",
      "Repeat \u001b[1m\u001b[34m#2\n",
      "Repeat \u001b[1m\u001b[34m#3\n",
      "Repeat \u001b[1m\u001b[34m#4\n",
      "Repeat \u001b[1m\u001b[34m#5\n"
     ]
    },
    {
     "name": "stderr",
     "output_type": "stream",
     "text": [
      "[I 2023-06-16 10:19:28,614] Trial 491 finished with value: 0.19401811782102957 and parameters: {'boosting_type': 'goss', 'learning_rate': 0.04276956545147255, 'lambda_l1': 1.2433981269906942e-08, 'lambda_l2': 8.533998796771088e-08, 'max_depth': 4, 'num_leaves': 91, 'feature_fraction': 0.47015991566086773, 'min_data_in_leaf': 17, 'max_bin': 126, 'bagging_freq': 5}. Best is trial 32 with value: 0.14540191776657313.\n"
     ]
    },
    {
     "name": "stdout",
     "output_type": "stream",
     "text": [
      "Repeat \u001b[1m\u001b[34m#1\n",
      "Repeat \u001b[1m\u001b[34m#2\n",
      "Repeat \u001b[1m\u001b[34m#3\n",
      "Repeat \u001b[1m\u001b[34m#4\n",
      "Repeat \u001b[1m\u001b[34m#5\n"
     ]
    },
    {
     "name": "stderr",
     "output_type": "stream",
     "text": [
      "[I 2023-06-16 10:19:37,110] Trial 492 finished with value: 0.16823977144207333 and parameters: {'boosting_type': 'goss', 'learning_rate': 0.014044479370686395, 'lambda_l1': 6.474239300635235e-05, 'lambda_l2': 5.520886400977004e-07, 'max_depth': 5, 'num_leaves': 117, 'feature_fraction': 0.46141910778309764, 'min_data_in_leaf': 7, 'max_bin': 148, 'bagging_freq': 7}. Best is trial 32 with value: 0.14540191776657313.\n"
     ]
    },
    {
     "name": "stdout",
     "output_type": "stream",
     "text": [
      "Repeat \u001b[1m\u001b[34m#1\n",
      "Repeat \u001b[1m\u001b[34m#2\n",
      "Repeat \u001b[1m\u001b[34m#3\n",
      "Repeat \u001b[1m\u001b[34m#4\n",
      "Repeat \u001b[1m\u001b[34m#5\n"
     ]
    },
    {
     "name": "stderr",
     "output_type": "stream",
     "text": [
      "[I 2023-06-16 10:19:49,202] Trial 493 finished with value: 0.6129634537822426 and parameters: {'boosting_type': 'goss', 'learning_rate': 0.00018631275355824163, 'lambda_l1': 3.0356808150332006e-08, 'lambda_l2': 5.0633961906128735e-08, 'max_depth': 4, 'num_leaves': 120, 'feature_fraction': 0.3903537113321171, 'min_data_in_leaf': 8, 'max_bin': 110, 'bagging_freq': 2}. Best is trial 32 with value: 0.14540191776657313.\n"
     ]
    },
    {
     "name": "stdout",
     "output_type": "stream",
     "text": [
      "Repeat \u001b[1m\u001b[34m#1\n",
      "Repeat \u001b[1m\u001b[34m#2\n",
      "Repeat \u001b[1m\u001b[34m#3\n",
      "Repeat \u001b[1m\u001b[34m#4\n",
      "Repeat \u001b[1m\u001b[34m#5\n"
     ]
    },
    {
     "name": "stderr",
     "output_type": "stream",
     "text": [
      "[I 2023-06-16 10:19:50,784] Trial 494 finished with value: 0.15875969189111797 and parameters: {'boosting_type': 'goss', 'learning_rate': 0.19402586656700133, 'lambda_l1': 0.0004233434142751126, 'lambda_l2': 1.9620356210360928e-07, 'max_depth': 6, 'num_leaves': 96, 'feature_fraction': 0.41671855347475967, 'min_data_in_leaf': 11, 'max_bin': 132, 'bagging_freq': 6}. Best is trial 32 with value: 0.14540191776657313.\n"
     ]
    },
    {
     "name": "stdout",
     "output_type": "stream",
     "text": [
      "Repeat \u001b[1m\u001b[34m#1\n",
      "Repeat \u001b[1m\u001b[34m#2\n",
      "Repeat \u001b[1m\u001b[34m#3\n",
      "Repeat \u001b[1m\u001b[34m#4\n",
      "Repeat \u001b[1m\u001b[34m#5\n"
     ]
    },
    {
     "name": "stderr",
     "output_type": "stream",
     "text": [
      "[I 2023-06-16 10:20:13,173] Trial 495 finished with value: 0.27966937006010817 and parameters: {'boosting_type': 'dart', 'learning_rate': 0.15571612338910634, 'lambda_l1': 6.890994772283669e-06, 'lambda_l2': 1.9645691954639034e-08, 'max_depth': 6, 'num_leaves': 114, 'feature_fraction': 0.4765359327788944, 'min_data_in_leaf': 6, 'max_bin': 90, 'bagging_freq': 5, 'bagging_fraction': 0.5544596091623211}. Best is trial 32 with value: 0.14540191776657313.\n"
     ]
    },
    {
     "name": "stdout",
     "output_type": "stream",
     "text": [
      "Repeat \u001b[1m\u001b[34m#1\n",
      "Repeat \u001b[1m\u001b[34m#2\n",
      "Repeat \u001b[1m\u001b[34m#3\n",
      "Repeat \u001b[1m\u001b[34m#4\n",
      "Repeat \u001b[1m\u001b[34m#5\n"
     ]
    },
    {
     "name": "stderr",
     "output_type": "stream",
     "text": [
      "[I 2023-06-16 10:20:17,962] Trial 496 finished with value: 0.4812486843603228 and parameters: {'boosting_type': 'goss', 'learning_rate': 0.0010240847263004703, 'lambda_l1': 4.0980729644556524e-07, 'lambda_l2': 1.0705929384134708e-06, 'max_depth': 4, 'num_leaves': 102, 'feature_fraction': 0.4476080473278451, 'min_data_in_leaf': 38, 'max_bin': 84, 'bagging_freq': 2}. Best is trial 32 with value: 0.14540191776657313.\n"
     ]
    },
    {
     "name": "stdout",
     "output_type": "stream",
     "text": [
      "Repeat \u001b[1m\u001b[34m#1\n",
      "Repeat \u001b[1m\u001b[34m#2\n",
      "Repeat \u001b[1m\u001b[34m#3\n",
      "Repeat \u001b[1m\u001b[34m#4\n"
     ]
    },
    {
     "name": "stderr",
     "output_type": "stream",
     "text": [
      "[I 2023-06-16 10:20:18,601] Trial 497 finished with value: 0.49167727252047333 and parameters: {'boosting_type': 'goss', 'learning_rate': 0.29888722589790556, 'lambda_l1': 5.5168736563072556e-05, 'lambda_l2': 6.994718571484992e-07, 'max_depth': 5, 'num_leaves': 99, 'feature_fraction': 0.4357837507575651, 'min_data_in_leaf': 32, 'max_bin': 236, 'bagging_freq': 6}. Best is trial 32 with value: 0.14540191776657313.\n"
     ]
    },
    {
     "name": "stdout",
     "output_type": "stream",
     "text": [
      "Repeat \u001b[1m\u001b[34m#5\n",
      "Repeat \u001b[1m\u001b[34m#1\n",
      "Repeat \u001b[1m\u001b[34m#2\n",
      "Repeat \u001b[1m\u001b[34m#3\n",
      "Repeat \u001b[1m\u001b[34m#4\n",
      "Repeat \u001b[1m\u001b[34m#5\n"
     ]
    },
    {
     "name": "stderr",
     "output_type": "stream",
     "text": [
      "[I 2023-06-16 10:20:21,936] Trial 498 finished with value: 0.16911199934291926 and parameters: {'boosting_type': 'goss', 'learning_rate': 0.044936156143575046, 'lambda_l1': 2.70643643605035e-07, 'lambda_l2': 1.1273415060188839e-07, 'max_depth': 9, 'num_leaves': 111, 'feature_fraction': 0.4566255924658675, 'min_data_in_leaf': 9, 'max_bin': 138, 'bagging_freq': 5}. Best is trial 32 with value: 0.14540191776657313.\n"
     ]
    },
    {
     "name": "stdout",
     "output_type": "stream",
     "text": [
      "Repeat \u001b[1m\u001b[34m#1\n",
      "Repeat \u001b[1m\u001b[34m#2\n",
      "Repeat \u001b[1m\u001b[34m#3\n",
      "Repeat \u001b[1m\u001b[34m#4\n",
      "Repeat \u001b[1m\u001b[34m#5\n"
     ]
    },
    {
     "name": "stderr",
     "output_type": "stream",
     "text": [
      "[I 2023-06-16 10:20:30,080] Trial 499 finished with value: 0.18136900594516106 and parameters: {'boosting_type': 'goss', 'learning_rate': 0.008868411486456665, 'lambda_l1': 1.2998317580221662e-05, 'lambda_l2': 4.608930032940645e-08, 'max_depth': 6, 'num_leaves': 123, 'feature_fraction': 0.4666473086635843, 'min_data_in_leaf': 7, 'max_bin': 99, 'bagging_freq': 7}. Best is trial 32 with value: 0.14540191776657313.\n"
     ]
    },
    {
     "name": "stdout",
     "output_type": "stream",
     "text": [
      "Number of finished trials: 500\n",
      "Best trial:\n",
      "  Value: 0.14540191776657313\n",
      "  Params: \n",
      "    boosting_type: gbdt\n",
      "    learning_rate: 0.16478269680093288\n",
      "    lambda_l1: 2.8870529514095395e-06\n",
      "    lambda_l2: 0.002083201095195633\n",
      "    max_depth: 9\n",
      "    num_leaves: 128\n",
      "    feature_fraction: 0.5645076709815077\n",
      "    min_data_in_leaf: 5\n",
      "    max_bin: 53\n",
      "    bagging_freq: 3\n",
      "    bagging_fraction: 0.5989111888819133\n"
     ]
    }
   ],
   "source": [
    "def balanced_log_loss(y_true, y_pred):\n",
    "    # Nc is the number of observations\n",
    "    N_1 = np.sum(y_true == 1, axis=0)\n",
    "    N_0 = np.sum(y_true == 0, axis=0)\n",
    "\n",
    "    # In order to avoid the extremes of the log function, each predicted probability 𝑝 is replaced with max(min(𝑝,1−10−15),10−15)\n",
    "    y_pred = np.clip(y_pred, 1e-15, 1 - 1e-15)\n",
    "\n",
    "    # balanced logarithmic loss\n",
    "    loss_numerator = - (1/N_0) * np.sum((1 - y_true) * np.log(1 - y_pred)) - (1/N_1) * np.sum(y_true * np.log(y_pred))\n",
    "\n",
    "    return loss_numerator / 2\n",
    "\n",
    "def bll_metric(y_pred, y_true):\n",
    "    y_true = y_true.get_label()\n",
    "    return 'balanced_log_loss', balanced_log_loss(y_true, y_pred), False\n",
    "\n",
    "def calc_log_loss_weight(y_true): \n",
    "    '''w0, w1 assign different weights to individual data points during training.'''\n",
    "    nc = np.bincount(y_true)\n",
    "    w0, w1 = 1/(nc[0]/y_true.shape[0]), 1/(nc[1]/y_true.shape[0])\n",
    "    return w0, w1\n",
    "\n",
    "X, y = train_df[features], train_df['Class'] \n",
    "    \n",
    "def objective(trial):\n",
    "    param = {\n",
    "        # Main parameters\n",
    "#                     'device': 'gpu',\n",
    "#                     'gpu_platform_id': 0,\n",
    "#                     'gpu_device_id': 0,\n",
    "        'objective': 'binary',\n",
    "        'metric': 'none',\n",
    "#         'is_unbalance': True,\n",
    "        'boosting_type': trial.suggest_categorical('boosting_type', ['goss', 'gbdt', 'dart']),   \n",
    "        # Hyperparamters (in order of importance decreasing)\n",
    "        'n_estimators': 3000, # trial.suggest_int('n_estimators', 500, 1500),  # max number of trees in model\n",
    "        'learning_rate': trial.suggest_loguniform('learning_rate', 1e-4, 3e-1),\n",
    "        'lambda_l1': trial.suggest_float('lambda_l1', 1e-8, 10.0, log=True), # L1,  alias: reg_alpha\n",
    "        'lambda_l2': trial.suggest_float('lambda_l2', 1e-8, 10.0, log=True), # L2, alias: reg_lambda\n",
    "         # decrease to deal with overfit\n",
    "        'max_depth': trial.suggest_int('max_depth', 4, 10),   # tree max depth \n",
    "         # decrease to deal with overfit\n",
    "        'num_leaves': trial.suggest_int('num_leaves', 4, 128),  # Max number of leaves in one tree\n",
    "                                                               # should be ~ 2**(max_depth-1)\n",
    "        'bagging_fraction': None, # Randomly select part of data without \n",
    "                                  # resampling if bagging_fraction < 1.0\n",
    "                                  # alias: subsample\n",
    "        'feature_fraction': trial.suggest_float('feature_fraction', 0.3, 0.7), # Randomly select a subset of features \n",
    "                                                                   # if feature_fraction < 1.0\n",
    "                                                                   # alias: colsample_bytree\n",
    "        # decrease to deal with overfit\n",
    "        'min_data_in_leaf': trial.suggest_int('min_data_in_leaf', 5, 100), # Minimal number of data in one leaf\n",
    "                                                                           # aliases: min_child_samples, \n",
    "        # increase for accuracy, decrease to deal with overfit\n",
    "        'max_bin': trial.suggest_int('max_bin', 32, 255), # Max number of bins that feature values will be bucketed in\n",
    "        # increase to deal with overfit\n",
    "        'bagging_freq': trial.suggest_int('bagging_freq', 1, 7), # Perform bagging at every k iteration\n",
    "        'early_stopping_round': 100, \n",
    "\n",
    "#           'subsample_for_bin': 200000, # Number of data that sampled to construct feature discrete bins; setting this \n",
    "                                     # to larger value will give better training result but may increase train time \n",
    "#           'cat_smooth': trial.suggest_float('cat_smooth', 10.0, 100.0),  # this can reduce the effect of noises in \n",
    "                                                                       # categorical features, especially for \n",
    "                                                                       # categories with few data\n",
    "        'verbose': -1\n",
    "    }\n",
    "\n",
    "    if param['boosting_type'] != 'goss':\n",
    "        param['bagging_fraction'] = trial.suggest_float('bagging_fraction', 0.3, 0.7)\n",
    "\n",
    "    bll_list = list()\n",
    "    \n",
    "    for i in range(CFG.n_optimize_repeats):\n",
    "        print(f'Repeat {blu}#{i+1}')\n",
    "\n",
    "        # Make random under-sampling to balance classes\n",
    "        positive_count_train = train_df['Class'].value_counts()[1]\n",
    "        sampler = RandomUnderSampler(sampling_strategy={0: positive_count_train, \n",
    "                                                        1: positive_count_train}, \n",
    "                                     random_state=15062023+i, \n",
    "                                     replacement=True)\n",
    "\n",
    "        X_re, y_re = pd.concat([train_df[features], greeks.iloc[:,1:4]], axis=1), train_df['Class']\n",
    "        \n",
    "        if CFG.undersample:\n",
    "            X_re, y_re = sampler.fit_resample(X_re, y_re)\n",
    "        \n",
    "        # Create Stratified Multilabel k-Fold scheme\n",
    "        kf = MultilabelStratifiedKFold(n_splits=CFG.n_feature_sel_folds, shuffle=True, random_state=10062023+i)\n",
    "\n",
    "        # Create an oof array for inner loop\n",
    "        oof = np.zeros(X_re.shape[0])\n",
    "\n",
    "        # Stratify based on Class and Alpha (3 types of conditions)\n",
    "        for fold, (train_idx, val_idx) in enumerate(kf.split(X=X_re[features], y=X_re.iloc[:,-3:]), start=1): \n",
    "            X, y = X_re[features], y_re\n",
    "            \n",
    "            # Split the dataset according to the fold indexes.\n",
    "            X_train = X.iloc[train_idx]\n",
    "            X_val = X.iloc[val_idx]\n",
    "            y_train = y.iloc[train_idx]\n",
    "            y_val = y.iloc[val_idx]\n",
    "\n",
    "            dtrain = lgb.Dataset(X_train, label=y_train)\n",
    "            dvalid = lgb.Dataset(X_val, label=y_val)\n",
    "\n",
    "            # Add a callback for pruning\n",
    "#             pruning_callback = optuna.integration.LightGBMPruningCallback(trial, 'balanced_log_loss')\n",
    "\n",
    "            gbm = lgb.train(\n",
    "                param, dtrain, valid_sets=[dvalid], # callbacks=[pruning_callback], \n",
    "                feval=bll_metric, verbose_eval=0\n",
    "            )\n",
    "\n",
    "            val_preds = gbm.predict(X_val)\n",
    "            oof[val_idx] = val_preds\n",
    "        bll_list.append(balanced_log_loss(y_re, oof))\n",
    "\n",
    "    return np.mean(bll_list)\n",
    "            \n",
    "\n",
    "if CFG.lgbm_optimize:\n",
    "#     study = optuna.create_study(pruner=optuna.pruners.MedianPruner(n_warmup_steps=100), direction=\"minimize\")\n",
    "    study = optuna.create_study(direction=\"minimize\")\n",
    "    study.optimize(objective, n_trials=CFG.n_trials*2)\n",
    "\n",
    "    print(\"Number of finished trials: {}\".format(len(study.trials)))\n",
    "\n",
    "    print(\"Best trial:\")\n",
    "    trial = study.best_trial\n",
    "\n",
    "    print(\"  Value: {}\".format(trial.value))\n",
    "\n",
    "    print(\"  Params: \")\n",
    "    for key, value in trial.params.items():\n",
    "        print(\"    {}: {}\".format(key, value))\n",
    "\n",
    "    df = study.trials_dataframe().sort_values('value')\n",
    "    df.to_csv(f'optuna_lgbm.csv')"
   ]
  },
  {
   "cell_type": "markdown",
   "metadata": {},
   "source": [
    "# Load LGBM parameters"
   ]
  },
  {
   "cell_type": "code",
   "execution_count": 19,
   "metadata": {},
   "outputs": [],
   "source": [
    "import glob\n",
    "\n",
    "param_list = glob.glob(\"optuna_lgbm*.csv\")\n",
    "models = list()\n",
    "best_lgbm_params = list()\n",
    "\n",
    "lgbm_params = pd.DataFrame()\n",
    "\n",
    "for f in param_list:\n",
    "    tmp = pd.read_csv(f, index_col='Unnamed: 0')\n",
    "    if lgbm_params.shape[0] == 0:\n",
    "        lgbm_params = tmp\n",
    "    else:\n",
    "        lgbm_params = pd.concat([lgbm_params, tmp])\n",
    "        \n",
    "lgbm_params = lgbm_params.sort_values('value').head(20)\n",
    "param_cols = [c for c in lgbm_params.columns if c.startswith('params_')]\n",
    "lgbm_params = lgbm_params[param_cols]\n",
    "\n",
    "for idx, row in lgbm_params.iterrows():\n",
    "    row_dict = {k[7:]: v for k, v in row.items()}\n",
    "    row_dict['objective'] = 'binary'\n",
    "    row_dict['metric'] = 'none'\n",
    "#     row_dict['subsample_for_bin'] = 300000\n",
    "    row_dict['force_col_wise'] = False\n",
    "    row_dict['early_stopping_rounds'] = 50\n",
    "    row_dict['verbose'] = -1\n",
    "    row_dict['max_bin'] = 255\n",
    "    row_dict['bagging_freq'] = int(row_dict['bagging_freq'])\n",
    "#     if row_dict['bagging_fraction'] != row_dict['bagging_fraction']:\n",
    "#         row_dict['bagging_fraction'] = None\n",
    "    row_dict['min_data_in_leaf'] = int(row_dict['min_data_in_leaf'])\n",
    "    row_dict['n_estimators'] = 3000 # int(row_dict['n_estimators'])\n",
    "    \n",
    "    row_dict['learning_rate'] = 0.06433232950390658 # float(row_dict['learning_rate'])\n",
    "    row_dict['num_leaves'] = int(row_dict['num_leaves'])\n",
    "    row_dict['max_depth'] = int(row_dict['max_depth'])\n",
    "    row_dict['is_unbalance'] = True\n",
    "    row_dict['class_weight'] = 'balanced'\n",
    "    row_dict['verbose'] = -1\n",
    "    \n",
    "    best_lgbm_params.append(row_dict)"
   ]
  },
  {
   "cell_type": "markdown",
   "metadata": {},
   "source": [
    "# LGBM train"
   ]
  },
  {
   "cell_type": "code",
   "execution_count": null,
   "metadata": {
    "execution": {
     "iopub.execute_input": "2023-06-08T15:32:11.672883Z",
     "iopub.status.busy": "2023-06-08T15:32:11.672350Z",
     "iopub.status.idle": "2023-06-08T15:32:38.349383Z",
     "shell.execute_reply": "2023-06-08T15:32:38.347823Z",
     "shell.execute_reply.started": "2023-06-08T15:32:11.672854Z"
    },
    "scrolled": true
   },
   "outputs": [],
   "source": [
    "def bll_metric(y_true, y_pred):\n",
    "    return 'balanced_log_loss', balanced_log_loss(y_true, y_pred), False\n",
    "\n",
    "def lgbm_training():\n",
    "    # Make random under-sampling to balance classes\n",
    "    positive_count_train = train_df['Class'].value_counts()[1]\n",
    "    sampler = RandomUnderSampler(sampling_strategy={0: positive_count_train, \n",
    "                                                    1: positive_count_train}, \n",
    "                                 random_state=15062023+i, \n",
    "                                 replacement=True)\n",
    "\n",
    "    X_re, y_re = pd.concat([train_df[features], greeks.iloc[:,1:4]], axis=1), train_df['Class']\n",
    "\n",
    "    if CFG.undersample:\n",
    "        X_re, y_re = sampler.fit_resample(X_re, y_re)\n",
    "    \n",
    "    kf = MultilabelStratifiedKFold(n_splits=CFG.n_stacking_folds, shuffle=True, random_state=8062023+20)\n",
    "\n",
    "    oof_level2 = np.zeros([y.shape[0], len(best_lgbm_params) + 1])\n",
    "    oof_level2[:, len(best_lgbm_params)] = y\n",
    "    oof_level2_test = np.zeros([test_df.shape[0], len(best_lgbm_params)])\n",
    "\n",
    "    print(f\"Training with {blu}{X.shape[1]}{res} features\")\n",
    "\n",
    "    for fold, (fit_idx, val_idx) in tqdm(enumerate(kf.split(X=train_df, y=X_re.iloc[:,-3:]), start = 1),\n",
    "                                         total=CFG.n_stacking_folds):\n",
    "        X, y = X_re[features], y_re, test_df[features]\n",
    "        \n",
    "        # Split the dataset according to the fold indexes.\n",
    "        X_train = X.iloc[fit_idx]\n",
    "        X_val = X.iloc[val_idx]\n",
    "        y_train = y.iloc[fit_idx]\n",
    "        y_val = y.iloc[val_idx]\n",
    "\n",
    "        for i, params in enumerate(best_lgbm_params):\n",
    "            \n",
    "            clf = lgb.LGBMClassifier(**params)\n",
    "            clf.fit(X_train, y_train, eval_set=[(X_val, y_val)], \n",
    "                    eval_metric=bll_metric, verbose=-1)\n",
    "\n",
    "            val_preds = clf.predict_proba(X_val)[:,1]\n",
    "            oof_level2[val_idx, i] = val_preds\n",
    "\n",
    "            val_score = balanced_log_loss(y_val, val_preds)\n",
    "            best_iter = clf.best_iteration_\n",
    "\n",
    "            print(clf.best_iteration_)\n",
    "            \n",
    "            print(f'Fold: {blu}{fold:>3}{res}| bll_metric: {blu}{val_score:.5f}{res}'\n",
    "                  f' | Best iteration: {blu}{best_iter:>4}{res}')\n",
    "            \n",
    "            oof_level2_test[:, i] += clf.predict_proba(test)[:,1]\n",
    "        \n",
    "    return oof_level2, oof_level2_test / CFG.n_stacking_folds\n",
    "\n",
    "if CFG.stacking:\n",
    "    oof_level2_lgbm, oof_level2_test_lgbm = lgbm_training()"
   ]
  },
  {
   "cell_type": "markdown",
   "metadata": {},
   "source": [
    "# XGBoost Optuna optimization"
   ]
  },
  {
   "cell_type": "code",
   "execution_count": null,
   "metadata": {
    "scrolled": true
   },
   "outputs": [
    {
     "name": "stderr",
     "output_type": "stream",
     "text": [
      "[I 2023-06-16 10:25:33,032] A new study created in memory with name: no-name-ae008448-0d96-423d-b677-8b904aa8db1d\n"
     ]
    },
    {
     "name": "stdout",
     "output_type": "stream",
     "text": [
      "Repeat \u001b[1m\u001b[34m#1\n",
      "[0]\tvalidation_0-logloss:0.69264\n",
      "[1000]\tvalidation_0-logloss:0.48533\n",
      "[2000]\tvalidation_0-logloss:0.39508\n",
      "[2999]\tvalidation_0-logloss:0.34683\n",
      "[0]\tvalidation_0-logloss:0.69269\n",
      "[1000]\tvalidation_0-logloss:0.45309\n",
      "[2000]\tvalidation_0-logloss:0.34933\n",
      "[2999]\tvalidation_0-logloss:0.29918\n",
      "[0]\tvalidation_0-logloss:0.69277\n",
      "[1000]\tvalidation_0-logloss:0.49261\n",
      "[2000]\tvalidation_0-logloss:0.40871\n",
      "[2999]\tvalidation_0-logloss:0.36475\n",
      "[0]\tvalidation_0-logloss:0.69274\n",
      "[1000]\tvalidation_0-logloss:0.47252\n",
      "[2000]\tvalidation_0-logloss:0.37878\n",
      "[2999]\tvalidation_0-logloss:0.33458\n",
      "[0]\tvalidation_0-logloss:0.69275\n",
      "[1000]\tvalidation_0-logloss:0.50653\n",
      "[2000]\tvalidation_0-logloss:0.42187\n",
      "[2999]\tvalidation_0-logloss:0.38302\n",
      "Repeat \u001b[1m\u001b[34m#2\n",
      "[0]\tvalidation_0-logloss:0.69262\n",
      "[1000]\tvalidation_0-logloss:0.43491\n",
      "[2000]\tvalidation_0-logloss:0.31105\n",
      "[2999]\tvalidation_0-logloss:0.24568\n",
      "[0]\tvalidation_0-logloss:0.69264\n",
      "[1000]\tvalidation_0-logloss:0.43153\n",
      "[2000]\tvalidation_0-logloss:0.31113\n",
      "[2999]\tvalidation_0-logloss:0.24595\n",
      "[0]\tvalidation_0-logloss:0.69262\n",
      "[1000]\tvalidation_0-logloss:0.45700\n",
      "[2000]\tvalidation_0-logloss:0.35599\n",
      "[2999]\tvalidation_0-logloss:0.30591\n",
      "[0]\tvalidation_0-logloss:0.69270\n",
      "[1000]\tvalidation_0-logloss:0.48701\n",
      "[2000]\tvalidation_0-logloss:0.40113\n",
      "[2999]\tvalidation_0-logloss:0.35997\n",
      "[0]\tvalidation_0-logloss:0.69271\n",
      "[1000]\tvalidation_0-logloss:0.44250\n",
      "[2000]\tvalidation_0-logloss:0.32794\n",
      "[2999]\tvalidation_0-logloss:0.27152\n",
      "Repeat \u001b[1m\u001b[34m#3\n",
      "[0]\tvalidation_0-logloss:0.69264\n",
      "[1000]\tvalidation_0-logloss:0.48050\n",
      "[2000]\tvalidation_0-logloss:0.38859\n",
      "[2999]\tvalidation_0-logloss:0.34687\n",
      "[0]\tvalidation_0-logloss:0.69285\n",
      "[1000]\tvalidation_0-logloss:0.50538\n",
      "[2000]\tvalidation_0-logloss:0.40930\n",
      "[2999]\tvalidation_0-logloss:0.34595\n",
      "[0]\tvalidation_0-logloss:0.69275\n",
      "[1000]\tvalidation_0-logloss:0.46142\n",
      "[2000]\tvalidation_0-logloss:0.34973\n",
      "[2999]\tvalidation_0-logloss:0.28705\n",
      "[0]\tvalidation_0-logloss:0.69294\n",
      "[1000]\tvalidation_0-logloss:0.47963\n",
      "[2000]\tvalidation_0-logloss:0.38017\n",
      "[2999]\tvalidation_0-logloss:0.32663\n",
      "[0]\tvalidation_0-logloss:0.69286\n",
      "[1000]\tvalidation_0-logloss:0.48994\n",
      "[2000]\tvalidation_0-logloss:0.38816\n",
      "[2999]\tvalidation_0-logloss:0.33095\n",
      "Repeat \u001b[1m\u001b[34m#4\n",
      "[0]\tvalidation_0-logloss:0.69269\n",
      "[1000]\tvalidation_0-logloss:0.43528\n",
      "[2000]\tvalidation_0-logloss:0.31386\n",
      "[2999]\tvalidation_0-logloss:0.25104\n",
      "[0]\tvalidation_0-logloss:0.69287\n",
      "[1000]\tvalidation_0-logloss:0.49397\n",
      "[2000]\tvalidation_0-logloss:0.39915\n",
      "[2999]\tvalidation_0-logloss:0.35626\n",
      "[0]\tvalidation_0-logloss:0.69277\n",
      "[1000]\tvalidation_0-logloss:0.47979\n",
      "[2000]\tvalidation_0-logloss:0.38578\n",
      "[2999]\tvalidation_0-logloss:0.33068\n",
      "[0]\tvalidation_0-logloss:0.69274\n",
      "[1000]\tvalidation_0-logloss:0.49208\n",
      "[2000]\tvalidation_0-logloss:0.41436\n",
      "[2999]\tvalidation_0-logloss:0.37707\n",
      "[0]\tvalidation_0-logloss:0.69274\n",
      "[1000]\tvalidation_0-logloss:0.48281\n",
      "[2000]\tvalidation_0-logloss:0.39168\n",
      "[2999]\tvalidation_0-logloss:0.34807\n",
      "Repeat \u001b[1m\u001b[34m#5\n",
      "[0]\tvalidation_0-logloss:0.69272\n",
      "[1000]\tvalidation_0-logloss:0.45753\n",
      "[2000]\tvalidation_0-logloss:0.36742\n",
      "[2999]\tvalidation_0-logloss:0.32501\n",
      "[0]\tvalidation_0-logloss:0.69265\n",
      "[1000]\tvalidation_0-logloss:0.45061\n",
      "[2000]\tvalidation_0-logloss:0.34492\n",
      "[2999]\tvalidation_0-logloss:0.29109\n",
      "[0]\tvalidation_0-logloss:0.69267\n",
      "[1000]\tvalidation_0-logloss:0.41907\n",
      "[2000]\tvalidation_0-logloss:0.30028\n",
      "[2999]\tvalidation_0-logloss:0.24183\n",
      "[0]\tvalidation_0-logloss:0.69277\n",
      "[1000]\tvalidation_0-logloss:0.45835\n",
      "[2000]\tvalidation_0-logloss:0.36020\n",
      "[2999]\tvalidation_0-logloss:0.31156\n",
      "[0]\tvalidation_0-logloss:0.69273\n",
      "[1000]\tvalidation_0-logloss:0.44430\n",
      "[2000]\tvalidation_0-logloss:0.33946\n",
      "[2999]\tvalidation_0-logloss:0.29027\n"
     ]
    },
    {
     "name": "stderr",
     "output_type": "stream",
     "text": [
      "[I 2023-06-16 10:26:16,600] Trial 0 finished with value: 0.31673095676924834 and parameters: {'booster': 'gbtree', 'alpha': 0.007070760477974115, 'lambda': 0.8773863787406758, 'subsample': 0.8759433084361905, 'colsample_bytree': 0.45736498465811026, 'learning_rate': 0.0009074597955876426, 'max_depth': 3, 'min_child_weight': 4, 'gamma': 0.00036649683771699973, 'grow_policy': 'depthwise'}. Best is trial 0 with value: 0.31673095676924834.\n"
     ]
    },
    {
     "name": "stdout",
     "output_type": "stream",
     "text": [
      "Repeat \u001b[1m\u001b[34m#1\n",
      "[0]\tvalidation_0-logloss:0.66133\n",
      "[515]\tvalidation_0-logloss:0.22739\n",
      "[0]\tvalidation_0-logloss:0.66907\n",
      "[728]\tvalidation_0-logloss:0.16725\n",
      "[0]\tvalidation_0-logloss:0.67045\n",
      "[729]\tvalidation_0-logloss:0.27256\n",
      "[0]\tvalidation_0-logloss:0.66377\n",
      "[416]\tvalidation_0-logloss:0.22956\n",
      "[0]\tvalidation_0-logloss:0.67019\n",
      "[426]\tvalidation_0-logloss:0.30498\n",
      "Repeat \u001b[1m\u001b[34m#2\n",
      "[0]\tvalidation_0-logloss:0.66071\n",
      "[818]\tvalidation_0-logloss:0.11009\n",
      "[0]\tvalidation_0-logloss:0.65953\n",
      "[901]\tvalidation_0-logloss:0.11657\n",
      "[0]\tvalidation_0-logloss:0.66406\n",
      "[1000]\tvalidation_0-logloss:0.19759\n",
      "[1962]\tvalidation_0-logloss:0.19477\n",
      "[0]\tvalidation_0-logloss:0.66615\n",
      "[242]\tvalidation_0-logloss:0.30016\n",
      "[0]\tvalidation_0-logloss:0.66471\n",
      "[430]\tvalidation_0-logloss:0.16698\n",
      "Repeat \u001b[1m\u001b[34m#3\n",
      "[0]\tvalidation_0-logloss:0.66862\n",
      "[282]\tvalidation_0-logloss:0.28873\n",
      "[0]\tvalidation_0-logloss:0.67008\n",
      "[1000]\tvalidation_0-logloss:0.18235\n",
      "[2000]\tvalidation_0-logloss:0.17737\n",
      "[2999]\tvalidation_0-logloss:0.17475\n",
      "[0]\tvalidation_0-logloss:0.66034\n",
      "[1000]\tvalidation_0-logloss:0.12986\n",
      "[2000]\tvalidation_0-logloss:0.12487\n",
      "[2999]\tvalidation_0-logloss:0.12245\n",
      "[0]\tvalidation_0-logloss:0.66530\n",
      "[646]\tvalidation_0-logloss:0.20814\n",
      "[0]\tvalidation_0-logloss:0.66750\n",
      "[1000]\tvalidation_0-logloss:0.21293\n",
      "[1330]\tvalidation_0-logloss:0.21166\n",
      "Repeat \u001b[1m\u001b[34m#4\n",
      "[0]\tvalidation_0-logloss:0.66582\n",
      "[1000]\tvalidation_0-logloss:0.07132\n",
      "[2000]\tvalidation_0-logloss:0.06946\n",
      "[2383]\tvalidation_0-logloss:0.06905\n",
      "[0]\tvalidation_0-logloss:0.67441\n",
      "[286]\tvalidation_0-logloss:0.24647\n",
      "[0]\tvalidation_0-logloss:0.66998\n",
      "[1000]\tvalidation_0-logloss:0.16030\n",
      "[1110]\tvalidation_0-logloss:0.16044\n",
      "[0]\tvalidation_0-logloss:0.66912\n",
      "[318]\tvalidation_0-logloss:0.28090\n",
      "[0]\tvalidation_0-logloss:0.67248\n",
      "[179]\tvalidation_0-logloss:0.30188\n",
      "Repeat \u001b[1m\u001b[34m#5\n",
      "[0]\tvalidation_0-logloss:0.67330\n",
      "[250]\tvalidation_0-logloss:0.25105\n",
      "[0]\tvalidation_0-logloss:0.66428\n",
      "[253]\tvalidation_0-logloss:0.23349\n",
      "[0]\tvalidation_0-logloss:0.66697\n",
      "[1000]\tvalidation_0-logloss:0.10143\n",
      "[1314]\tvalidation_0-logloss:0.10092\n",
      "[0]\tvalidation_0-logloss:0.66749\n",
      "[252]\tvalidation_0-logloss:0.22846\n",
      "[0]\tvalidation_0-logloss:0.66423\n",
      "[254]\tvalidation_0-logloss:0.21477\n"
     ]
    },
    {
     "name": "stderr",
     "output_type": "stream",
     "text": [
      "[I 2023-06-16 10:26:28,661] Trial 1 finished with value: 0.20530412258322212 and parameters: {'booster': 'gbtree', 'alpha': 0.9573818910368576, 'lambda': 3.189416060207396e-08, 'subsample': 0.9133616465937595, 'colsample_bytree': 0.7963150826267051, 'learning_rate': 0.048558002565127927, 'max_depth': 6, 'min_child_weight': 2, 'gamma': 3.206153998847656e-05, 'grow_policy': 'depthwise'}. Best is trial 1 with value: 0.20530412258322212.\n"
     ]
    },
    {
     "name": "stdout",
     "output_type": "stream",
     "text": [
      "Repeat \u001b[1m\u001b[34m#1\n",
      "[0]\tvalidation_0-logloss:0.69293\n",
      "[1000]\tvalidation_0-logloss:0.52121\n",
      "[2000]\tvalidation_0-logloss:0.43212\n",
      "[2999]\tvalidation_0-logloss:0.37945\n",
      "[0]\tvalidation_0-logloss:0.69278\n",
      "[1000]\tvalidation_0-logloss:0.49109\n",
      "[2000]\tvalidation_0-logloss:0.38318\n",
      "[2999]\tvalidation_0-logloss:0.32293\n",
      "[0]\tvalidation_0-logloss:0.69294\n",
      "[1000]\tvalidation_0-logloss:0.51536\n",
      "[2000]\tvalidation_0-logloss:0.43169\n",
      "[2999]\tvalidation_0-logloss:0.38557\n",
      "[0]\tvalidation_0-logloss:0.69287\n",
      "[1000]\tvalidation_0-logloss:0.50567\n",
      "[2000]\tvalidation_0-logloss:0.41061\n",
      "[2999]\tvalidation_0-logloss:0.35820\n",
      "[0]\tvalidation_0-logloss:0.69272\n",
      "[1000]\tvalidation_0-logloss:0.52973\n",
      "[2000]\tvalidation_0-logloss:0.44837\n",
      "[2999]\tvalidation_0-logloss:0.40540\n",
      "Repeat \u001b[1m\u001b[34m#2\n",
      "[0]\tvalidation_0-logloss:0.69272\n",
      "[1000]\tvalidation_0-logloss:0.46069\n",
      "[2000]\tvalidation_0-logloss:0.34595\n",
      "[2999]\tvalidation_0-logloss:0.28214\n",
      "[0]\tvalidation_0-logloss:0.69265\n",
      "[1000]\tvalidation_0-logloss:0.45612\n",
      "[2000]\tvalidation_0-logloss:0.33890\n",
      "[2999]\tvalidation_0-logloss:0.27585\n",
      "[0]\tvalidation_0-logloss:0.69287\n",
      "[1000]\tvalidation_0-logloss:0.47513\n",
      "[2000]\tvalidation_0-logloss:0.37622\n",
      "[2999]\tvalidation_0-logloss:0.32483\n",
      "[0]\tvalidation_0-logloss:0.69289\n",
      "[1000]\tvalidation_0-logloss:0.50526\n",
      "[2000]\tvalidation_0-logloss:0.42089\n",
      "[2999]\tvalidation_0-logloss:0.37843\n",
      "[0]\tvalidation_0-logloss:0.69280\n",
      "[1000]\tvalidation_0-logloss:0.46360\n",
      "[2000]\tvalidation_0-logloss:0.35525\n",
      "[2999]\tvalidation_0-logloss:0.29787\n",
      "Repeat \u001b[1m\u001b[34m#3\n",
      "[0]\tvalidation_0-logloss:0.69279\n",
      "[1000]\tvalidation_0-logloss:0.50400\n",
      "[2000]\tvalidation_0-logloss:0.40920\n",
      "[2999]\tvalidation_0-logloss:0.35988\n",
      "[0]\tvalidation_0-logloss:0.69291\n",
      "[1000]\tvalidation_0-logloss:0.52559\n",
      "[2000]\tvalidation_0-logloss:0.42997\n",
      "[2999]\tvalidation_0-logloss:0.36369\n",
      "[0]\tvalidation_0-logloss:0.69291\n",
      "[1000]\tvalidation_0-logloss:0.48969\n",
      "[2000]\tvalidation_0-logloss:0.37962\n",
      "[2999]\tvalidation_0-logloss:0.31457\n",
      "[0]\tvalidation_0-logloss:0.69299\n",
      "[1000]\tvalidation_0-logloss:0.50884\n",
      "[2000]\tvalidation_0-logloss:0.41342\n",
      "[2999]\tvalidation_0-logloss:0.35622\n",
      "[0]\tvalidation_0-logloss:0.69280\n",
      "[1000]\tvalidation_0-logloss:0.50808\n",
      "[2000]\tvalidation_0-logloss:0.40615\n",
      "[2999]\tvalidation_0-logloss:0.34396\n",
      "Repeat \u001b[1m\u001b[34m#4\n",
      "[0]\tvalidation_0-logloss:0.69280\n",
      "[1000]\tvalidation_0-logloss:0.46086\n",
      "[2000]\tvalidation_0-logloss:0.34561\n",
      "[2999]\tvalidation_0-logloss:0.27963\n",
      "[0]\tvalidation_0-logloss:0.69293\n",
      "[1000]\tvalidation_0-logloss:0.51788\n",
      "[2000]\tvalidation_0-logloss:0.43145\n",
      "[2999]\tvalidation_0-logloss:0.38388\n",
      "[0]\tvalidation_0-logloss:0.69286\n",
      "[1000]\tvalidation_0-logloss:0.50053\n",
      "[2000]\tvalidation_0-logloss:0.40614\n",
      "[2999]\tvalidation_0-logloss:0.35054\n",
      "[0]\tvalidation_0-logloss:0.69295\n",
      "[1000]\tvalidation_0-logloss:0.51116\n",
      "[2000]\tvalidation_0-logloss:0.42892\n",
      "[2999]\tvalidation_0-logloss:0.38691\n",
      "[0]\tvalidation_0-logloss:0.69292\n",
      "[1000]\tvalidation_0-logloss:0.50126\n",
      "[2000]\tvalidation_0-logloss:0.40953\n",
      "[2999]\tvalidation_0-logloss:0.36277\n",
      "Repeat \u001b[1m\u001b[34m#5\n",
      "[0]\tvalidation_0-logloss:0.69276\n",
      "[1000]\tvalidation_0-logloss:0.48545\n",
      "[2000]\tvalidation_0-logloss:0.39196\n",
      "[2999]\tvalidation_0-logloss:0.34476\n",
      "[0]\tvalidation_0-logloss:0.69273\n",
      "[1000]\tvalidation_0-logloss:0.47879\n",
      "[2000]\tvalidation_0-logloss:0.37387\n",
      "[2999]\tvalidation_0-logloss:0.31560\n",
      "[0]\tvalidation_0-logloss:0.69269\n",
      "[1000]\tvalidation_0-logloss:0.45680\n",
      "[2000]\tvalidation_0-logloss:0.33597\n",
      "[2999]\tvalidation_0-logloss:0.26877\n",
      "[0]\tvalidation_0-logloss:0.69288\n",
      "[1000]\tvalidation_0-logloss:0.48330\n",
      "[2000]\tvalidation_0-logloss:0.38381\n",
      "[2999]\tvalidation_0-logloss:0.33003\n",
      "[0]\tvalidation_0-logloss:0.69295\n",
      "[1000]\tvalidation_0-logloss:0.47765\n",
      "[2000]\tvalidation_0-logloss:0.37079\n",
      "[2999]\tvalidation_0-logloss:0.31374\n"
     ]
    },
    {
     "name": "stderr",
     "output_type": "stream",
     "text": [
      "[I 2023-06-16 10:27:15,174] Trial 2 finished with value: 0.3394389029067985 and parameters: {'booster': 'gbtree', 'alpha': 0.0019338956060202053, 'lambda': 0.0017756562039253207, 'subsample': 0.5776488636674136, 'colsample_bytree': 0.6607531561139797, 'learning_rate': 0.0006774061114628679, 'max_depth': 5, 'min_child_weight': 3, 'gamma': 2.359029135571088e-08, 'grow_policy': 'lossguide'}. Best is trial 1 with value: 0.20530412258322212.\n"
     ]
    },
    {
     "name": "stdout",
     "output_type": "stream",
     "text": [
      "Repeat \u001b[1m\u001b[34m#1\n",
      "[0]\tvalidation_0-logloss:0.69063\n",
      "[1000]\tvalidation_0-logloss:0.24915\n",
      "[1910]\tvalidation_0-logloss:0.23424\n",
      "[0]\tvalidation_0-logloss:0.69026\n",
      "[1000]\tvalidation_0-logloss:0.18626\n",
      "[1840]\tvalidation_0-logloss:0.17021\n",
      "[0]\tvalidation_0-logloss:0.69057\n",
      "[1000]\tvalidation_0-logloss:0.31738\n",
      "[1130]\tvalidation_0-logloss:0.31739\n",
      "[0]\tvalidation_0-logloss:0.68933\n",
      "[1000]\tvalidation_0-logloss:0.22894\n",
      "[1525]\tvalidation_0-logloss:0.22248\n",
      "[0]\tvalidation_0-logloss:0.69035\n",
      "[1000]\tvalidation_0-logloss:0.31011\n",
      "[1198]\tvalidation_0-logloss:0.30775\n",
      "Repeat \u001b[1m\u001b[34m#2\n",
      "[0]\tvalidation_0-logloss:0.68988\n",
      "[1000]\tvalidation_0-logloss:0.14527\n",
      "[2000]\tvalidation_0-logloss:0.11356\n",
      "[2874]\tvalidation_0-logloss:0.10603\n",
      "[0]\tvalidation_0-logloss:0.68962\n",
      "[1000]\tvalidation_0-logloss:0.11137\n",
      "[2000]\tvalidation_0-logloss:0.09737\n",
      "[2053]\tvalidation_0-logloss:0.09768\n",
      "[0]\tvalidation_0-logloss:0.69000\n",
      "[1000]\tvalidation_0-logloss:0.21312\n",
      "[1280]\tvalidation_0-logloss:0.20829\n",
      "[0]\tvalidation_0-logloss:0.69079\n",
      "[949]\tvalidation_0-logloss:0.29453\n",
      "[0]\tvalidation_0-logloss:0.69016\n",
      "[1000]\tvalidation_0-logloss:0.17958\n",
      "[2000]\tvalidation_0-logloss:0.16002\n",
      "[2999]\tvalidation_0-logloss:0.15445\n",
      "Repeat \u001b[1m\u001b[34m#3\n",
      "[0]\tvalidation_0-logloss:0.69055\n",
      "[1000]\tvalidation_0-logloss:0.31576\n",
      "[1350]\tvalidation_0-logloss:0.31398\n",
      "[0]\tvalidation_0-logloss:0.69128\n",
      "[1000]\tvalidation_0-logloss:0.21780\n",
      "[2000]\tvalidation_0-logloss:0.17201\n",
      "[2999]\tvalidation_0-logloss:0.14374\n",
      "[0]\tvalidation_0-logloss:0.69004\n",
      "[1000]\tvalidation_0-logloss:0.18283\n",
      "[2000]\tvalidation_0-logloss:0.13011\n",
      "[2999]\tvalidation_0-logloss:0.10865\n",
      "[0]\tvalidation_0-logloss:0.69074\n",
      "[1000]\tvalidation_0-logloss:0.22823\n",
      "[1657]\tvalidation_0-logloss:0.20304\n",
      "[0]\tvalidation_0-logloss:0.69122\n",
      "[1000]\tvalidation_0-logloss:0.26635\n",
      "[2000]\tvalidation_0-logloss:0.22138\n",
      "[2999]\tvalidation_0-logloss:0.20178\n",
      "Repeat \u001b[1m\u001b[34m#4\n",
      "[0]\tvalidation_0-logloss:0.68960\n",
      "[1000]\tvalidation_0-logloss:0.10449\n",
      "[2000]\tvalidation_0-logloss:0.06855\n",
      "[2999]\tvalidation_0-logloss:0.06093\n",
      "[0]\tvalidation_0-logloss:0.69087\n",
      "[1000]\tvalidation_0-logloss:0.24261\n",
      "[1123]\tvalidation_0-logloss:0.24219\n",
      "[0]\tvalidation_0-logloss:0.69052\n",
      "[1000]\tvalidation_0-logloss:0.22305\n",
      "[1905]\tvalidation_0-logloss:0.19200\n",
      "[0]\tvalidation_0-logloss:0.69033\n",
      "[1000]\tvalidation_0-logloss:0.29655\n",
      "[1528]\tvalidation_0-logloss:0.28683\n",
      "[0]\tvalidation_0-logloss:0.69021\n",
      "[739]\tvalidation_0-logloss:0.31139\n",
      "Repeat \u001b[1m\u001b[34m#5\n",
      "[0]\tvalidation_0-logloss:0.69038\n",
      "[1000]\tvalidation_0-logloss:0.26849\n",
      "[1333]\tvalidation_0-logloss:0.26683\n",
      "[0]\tvalidation_0-logloss:0.69008\n",
      "[1000]\tvalidation_0-logloss:0.26042\n",
      "[1328]\tvalidation_0-logloss:0.25106\n",
      "[0]\tvalidation_0-logloss:0.69059\n",
      "[1000]\tvalidation_0-logloss:0.13714\n",
      "[2000]\tvalidation_0-logloss:0.11102\n",
      "[2999]\tvalidation_0-logloss:0.10002\n",
      "[0]\tvalidation_0-logloss:0.69020\n",
      "[1000]\tvalidation_0-logloss:0.22824\n",
      "[1299]\tvalidation_0-logloss:0.22554\n",
      "[0]\tvalidation_0-logloss:0.69067\n",
      "[1000]\tvalidation_0-logloss:0.20573\n",
      "[1177]\tvalidation_0-logloss:0.20294\n"
     ]
    },
    {
     "name": "stderr",
     "output_type": "stream",
     "text": [
      "[I 2023-06-16 10:27:41,600] Trial 3 finished with value: 0.20817982670211657 and parameters: {'booster': 'gbtree', 'alpha': 0.00473694781917886, 'lambda': 1.0882491081304086e-08, 'subsample': 0.972470931643837, 'colsample_bytree': 0.9780044517744675, 'learning_rate': 0.004852541571922609, 'max_depth': 3, 'min_child_weight': 2, 'gamma': 3.179816833152596e-07, 'grow_policy': 'lossguide'}. Best is trial 1 with value: 0.20530412258322212.\n"
     ]
    },
    {
     "name": "stdout",
     "output_type": "stream",
     "text": [
      "Repeat \u001b[1m\u001b[34m#1\n",
      "[0]\tvalidation_0-logloss:0.69310\n",
      "[1000]\tvalidation_0-logloss:0.58863\n",
      "[2000]\tvalidation_0-logloss:0.52354\n",
      "[2999]\tvalidation_0-logloss:0.48258\n",
      "[0]\tvalidation_0-logloss:0.69299\n",
      "[1000]\tvalidation_0-logloss:0.55281\n",
      "[2000]\tvalidation_0-logloss:0.46493\n",
      "[2999]\tvalidation_0-logloss:0.41506\n",
      "[0]\tvalidation_0-logloss:0.69302\n",
      "[1000]\tvalidation_0-logloss:0.58667\n",
      "[2000]\tvalidation_0-logloss:0.52714\n",
      "[2999]\tvalidation_0-logloss:0.49434\n",
      "[0]\tvalidation_0-logloss:0.69309\n",
      "[1000]\tvalidation_0-logloss:0.57609\n",
      "[2000]\tvalidation_0-logloss:0.50546\n",
      "[2999]\tvalidation_0-logloss:0.46349\n",
      "[0]\tvalidation_0-logloss:0.69284\n",
      "[1000]\tvalidation_0-logloss:0.58112\n",
      "[2000]\tvalidation_0-logloss:0.52393\n",
      "[2999]\tvalidation_0-logloss:0.49655\n",
      "Repeat \u001b[1m\u001b[34m#2\n",
      "[0]\tvalidation_0-logloss:0.69278\n",
      "[1000]\tvalidation_0-logloss:0.51009\n",
      "[2000]\tvalidation_0-logloss:0.41802\n",
      "[2999]\tvalidation_0-logloss:0.37156\n",
      "[0]\tvalidation_0-logloss:0.69285\n",
      "[1000]\tvalidation_0-logloss:0.51465\n",
      "[2000]\tvalidation_0-logloss:0.42112\n",
      "[2999]\tvalidation_0-logloss:0.37486\n",
      "[0]\tvalidation_0-logloss:0.69285\n",
      "[1000]\tvalidation_0-logloss:0.52842\n",
      "[2000]\tvalidation_0-logloss:0.45175\n",
      "[2999]\tvalidation_0-logloss:0.41274\n",
      "[0]\tvalidation_0-logloss:0.69298\n",
      "[1000]\tvalidation_0-logloss:0.54356\n",
      "[2000]\tvalidation_0-logloss:0.47793\n",
      "[2999]\tvalidation_0-logloss:0.45170\n",
      "[0]\tvalidation_0-logloss:0.69289\n",
      "[1000]\tvalidation_0-logloss:0.51330\n",
      "[2000]\tvalidation_0-logloss:0.42610\n",
      "[2999]\tvalidation_0-logloss:0.38059\n",
      "Repeat \u001b[1m\u001b[34m#3\n",
      "[0]\tvalidation_0-logloss:0.69286\n",
      "[1000]\tvalidation_0-logloss:0.54603\n",
      "[2000]\tvalidation_0-logloss:0.46731\n",
      "[2999]\tvalidation_0-logloss:0.42175\n",
      "[0]\tvalidation_0-logloss:0.69292\n",
      "[1000]\tvalidation_0-logloss:0.57481\n",
      "[2000]\tvalidation_0-logloss:0.50551\n",
      "[2999]\tvalidation_0-logloss:0.45805\n",
      "[0]\tvalidation_0-logloss:0.69289\n",
      "[1000]\tvalidation_0-logloss:0.54734\n",
      "[2000]\tvalidation_0-logloss:0.46286\n",
      "[2999]\tvalidation_0-logloss:0.40592\n",
      "[0]\tvalidation_0-logloss:0.69316\n",
      "[1000]\tvalidation_0-logloss:0.57193\n",
      "[2000]\tvalidation_0-logloss:0.49673\n",
      "[2999]\tvalidation_0-logloss:0.45031\n",
      "[0]\tvalidation_0-logloss:0.69289\n",
      "[1000]\tvalidation_0-logloss:0.56492\n",
      "[2000]\tvalidation_0-logloss:0.49046\n",
      "[2999]\tvalidation_0-logloss:0.44060\n",
      "Repeat \u001b[1m\u001b[34m#4\n",
      "[0]\tvalidation_0-logloss:0.69306\n",
      "[1000]\tvalidation_0-logloss:0.52384\n",
      "[2000]\tvalidation_0-logloss:0.43151\n",
      "[2999]\tvalidation_0-logloss:0.38096\n",
      "[0]\tvalidation_0-logloss:0.69288\n",
      "[1000]\tvalidation_0-logloss:0.57159\n",
      "[2000]\tvalidation_0-logloss:0.49384\n",
      "[2999]\tvalidation_0-logloss:0.45914\n",
      "[0]\tvalidation_0-logloss:0.69290\n",
      "[1000]\tvalidation_0-logloss:0.56432\n",
      "[2000]\tvalidation_0-logloss:0.50108\n",
      "[2999]\tvalidation_0-logloss:0.46864\n",
      "[0]\tvalidation_0-logloss:0.69302\n",
      "[1000]\tvalidation_0-logloss:0.56471\n",
      "[2000]\tvalidation_0-logloss:0.49957\n",
      "[2999]\tvalidation_0-logloss:0.46464\n",
      "[0]\tvalidation_0-logloss:0.69300\n",
      "[1000]\tvalidation_0-logloss:0.54528\n",
      "[2000]\tvalidation_0-logloss:0.46921\n",
      "[2999]\tvalidation_0-logloss:0.42907\n",
      "Repeat \u001b[1m\u001b[34m#5\n",
      "[0]\tvalidation_0-logloss:0.69291\n",
      "[1000]\tvalidation_0-logloss:0.54457\n",
      "[2000]\tvalidation_0-logloss:0.46738\n",
      "[2999]\tvalidation_0-logloss:0.42885\n",
      "[0]\tvalidation_0-logloss:0.69290\n",
      "[1000]\tvalidation_0-logloss:0.54033\n",
      "[2000]\tvalidation_0-logloss:0.45638\n",
      "[2999]\tvalidation_0-logloss:0.41074\n",
      "[0]\tvalidation_0-logloss:0.69299\n",
      "[1000]\tvalidation_0-logloss:0.53765\n",
      "[2000]\tvalidation_0-logloss:0.44079\n",
      "[2999]\tvalidation_0-logloss:0.38003\n",
      "[0]\tvalidation_0-logloss:0.69300\n",
      "[1000]\tvalidation_0-logloss:0.54860\n",
      "[2000]\tvalidation_0-logloss:0.46774\n",
      "[2999]\tvalidation_0-logloss:0.42264\n",
      "[0]\tvalidation_0-logloss:0.69301\n",
      "[1000]\tvalidation_0-logloss:0.54300\n",
      "[2000]\tvalidation_0-logloss:0.45966\n",
      "[2999]\tvalidation_0-logloss:0.41104\n"
     ]
    },
    {
     "name": "stderr",
     "output_type": "stream",
     "text": [
      "[I 2023-06-16 10:28:24,571] Trial 4 finished with value: 0.43105179786090797 and parameters: {'booster': 'gbtree', 'alpha': 0.31374653784015244, 'lambda': 0.16852989304621083, 'subsample': 0.658431273681026, 'colsample_bytree': 0.7583993138168224, 'learning_rate': 0.0005851573699714245, 'max_depth': 6, 'min_child_weight': 7, 'gamma': 8.022624161125714e-05, 'grow_policy': 'lossguide'}. Best is trial 1 with value: 0.20530412258322212.\n"
     ]
    },
    {
     "name": "stdout",
     "output_type": "stream",
     "text": [
      "Repeat \u001b[1m\u001b[34m#1\n",
      "[0]\tvalidation_0-logloss:0.69324\n",
      "[1000]\tvalidation_0-logloss:0.55266\n",
      "[2000]\tvalidation_0-logloss:0.49894\n",
      "[2999]\tvalidation_0-logloss:0.46387\n",
      "[0]\tvalidation_0-logloss:0.69292\n",
      "[1000]\tvalidation_0-logloss:0.50013\n",
      "[2000]\tvalidation_0-logloss:0.42627\n",
      "[2999]\tvalidation_0-logloss:0.38356\n",
      "[0]\tvalidation_0-logloss:0.69295\n",
      "[1000]\tvalidation_0-logloss:0.55697\n",
      "[2000]\tvalidation_0-logloss:0.51332\n",
      "[2999]\tvalidation_0-logloss:0.48201\n",
      "[0]\tvalidation_0-logloss:0.69288\n",
      "[1000]\tvalidation_0-logloss:0.53288\n",
      "[2000]\tvalidation_0-logloss:0.48193\n",
      "[2999]\tvalidation_0-logloss:0.45580\n",
      "[0]\tvalidation_0-logloss:0.69308\n",
      "[1000]\tvalidation_0-logloss:0.55995\n",
      "[2000]\tvalidation_0-logloss:0.52115\n",
      "[2999]\tvalidation_0-logloss:0.49483\n",
      "Repeat \u001b[1m\u001b[34m#2\n",
      "[0]\tvalidation_0-logloss:0.69274\n",
      "[1000]\tvalidation_0-logloss:0.45643\n",
      "[2000]\tvalidation_0-logloss:0.37668\n",
      "[2999]\tvalidation_0-logloss:0.33106\n",
      "[0]\tvalidation_0-logloss:0.69258\n",
      "[1000]\tvalidation_0-logloss:0.45241\n",
      "[2000]\tvalidation_0-logloss:0.38017\n",
      "[2999]\tvalidation_0-logloss:0.34118\n",
      "[0]\tvalidation_0-logloss:0.69270\n",
      "[1000]\tvalidation_0-logloss:0.47332\n",
      "[2000]\tvalidation_0-logloss:0.40834\n",
      "[2999]\tvalidation_0-logloss:0.37234\n",
      "[0]\tvalidation_0-logloss:0.69302\n",
      "[1000]\tvalidation_0-logloss:0.51696\n",
      "[2000]\tvalidation_0-logloss:0.48401\n",
      "[2999]\tvalidation_0-logloss:0.46798\n",
      "[0]\tvalidation_0-logloss:0.69273\n",
      "[1000]\tvalidation_0-logloss:0.44874\n",
      "[2000]\tvalidation_0-logloss:0.37378\n",
      "[2999]\tvalidation_0-logloss:0.33179\n",
      "Repeat \u001b[1m\u001b[34m#3\n",
      "[0]\tvalidation_0-logloss:0.69294\n",
      "[1000]\tvalidation_0-logloss:0.48811\n",
      "[2000]\tvalidation_0-logloss:0.41711\n",
      "[2999]\tvalidation_0-logloss:0.38324\n",
      "[0]\tvalidation_0-logloss:0.69303\n",
      "[1000]\tvalidation_0-logloss:0.52951\n",
      "[2000]\tvalidation_0-logloss:0.44828\n",
      "[2999]\tvalidation_0-logloss:0.39229\n",
      "[0]\tvalidation_0-logloss:0.69316\n",
      "[1000]\tvalidation_0-logloss:0.49653\n",
      "[2000]\tvalidation_0-logloss:0.41109\n",
      "[2999]\tvalidation_0-logloss:0.35476\n",
      "[0]\tvalidation_0-logloss:0.69317\n",
      "[1000]\tvalidation_0-logloss:0.53206\n",
      "[2000]\tvalidation_0-logloss:0.46778\n",
      "[2999]\tvalidation_0-logloss:0.42663\n",
      "[0]\tvalidation_0-logloss:0.69319\n",
      "[1000]\tvalidation_0-logloss:0.50969\n",
      "[2000]\tvalidation_0-logloss:0.43046\n",
      "[2999]\tvalidation_0-logloss:0.38393\n",
      "Repeat \u001b[1m\u001b[34m#4\n",
      "[0]\tvalidation_0-logloss:0.69286\n",
      "[1000]\tvalidation_0-logloss:0.46239\n",
      "[2000]\tvalidation_0-logloss:0.39288\n",
      "[2999]\tvalidation_0-logloss:0.35590\n",
      "[0]\tvalidation_0-logloss:0.69305\n",
      "[1000]\tvalidation_0-logloss:0.53665\n",
      "[2000]\tvalidation_0-logloss:0.49616\n",
      "[2999]\tvalidation_0-logloss:0.48188\n",
      "[0]\tvalidation_0-logloss:0.69275\n",
      "[1000]\tvalidation_0-logloss:0.53305\n",
      "[2000]\tvalidation_0-logloss:0.48572\n",
      "[2999]\tvalidation_0-logloss:0.45443\n",
      "[0]\tvalidation_0-logloss:0.69296\n",
      "[1000]\tvalidation_0-logloss:0.52831\n",
      "[2000]\tvalidation_0-logloss:0.47670\n",
      "[2999]\tvalidation_0-logloss:0.44561\n",
      "[0]\tvalidation_0-logloss:0.69295\n",
      "[1000]\tvalidation_0-logloss:0.50625\n",
      "[2000]\tvalidation_0-logloss:0.45127\n",
      "[2999]\tvalidation_0-logloss:0.42488\n",
      "Repeat \u001b[1m\u001b[34m#5\n",
      "[0]\tvalidation_0-logloss:0.69285\n",
      "[1000]\tvalidation_0-logloss:0.49935\n",
      "[2000]\tvalidation_0-logloss:0.44077\n",
      "[2999]\tvalidation_0-logloss:0.41690\n",
      "[0]\tvalidation_0-logloss:0.69296\n",
      "[1000]\tvalidation_0-logloss:0.49789\n",
      "[2000]\tvalidation_0-logloss:0.42412\n",
      "[2999]\tvalidation_0-logloss:0.38132\n",
      "[0]\tvalidation_0-logloss:0.69267\n",
      "[1000]\tvalidation_0-logloss:0.47424\n",
      "[2000]\tvalidation_0-logloss:0.38304\n",
      "[2999]\tvalidation_0-logloss:0.33170\n",
      "[0]\tvalidation_0-logloss:0.69285\n",
      "[1000]\tvalidation_0-logloss:0.49678\n",
      "[2000]\tvalidation_0-logloss:0.42746\n",
      "[2999]\tvalidation_0-logloss:0.38954\n",
      "[0]\tvalidation_0-logloss:0.69306\n",
      "[1000]\tvalidation_0-logloss:0.49017\n",
      "[2000]\tvalidation_0-logloss:0.41193\n",
      "[2999]\tvalidation_0-logloss:0.37180\n"
     ]
    },
    {
     "name": "stderr",
     "output_type": "stream",
     "text": [
      "[I 2023-06-16 10:29:03,376] Trial 5 finished with value: 0.40474307857853686 and parameters: {'booster': 'gbtree', 'alpha': 2.7928032195239913e-07, 'lambda': 0.00048073105945447566, 'subsample': 0.5333217462902404, 'colsample_bytree': 0.894445841398681, 'learning_rate': 0.0012475149978638659, 'max_depth': 10, 'min_child_weight': 7, 'gamma': 8.982189262881747e-08, 'grow_policy': 'lossguide'}. Best is trial 1 with value: 0.20530412258322212.\n"
     ]
    },
    {
     "name": "stdout",
     "output_type": "stream",
     "text": [
      "Repeat \u001b[1m\u001b[34m#1\n",
      "[0]\tvalidation_0-logloss:0.69325\n",
      "[1000]\tvalidation_0-logloss:0.62099\n",
      "[2000]\tvalidation_0-logloss:0.58850\n",
      "[2999]\tvalidation_0-logloss:0.56946\n",
      "[0]\tvalidation_0-logloss:0.69291\n",
      "[1000]\tvalidation_0-logloss:0.56019\n",
      "[2000]\tvalidation_0-logloss:0.50027\n",
      "[2999]\tvalidation_0-logloss:0.47036\n",
      "[0]\tvalidation_0-logloss:0.69296\n",
      "[1000]\tvalidation_0-logloss:0.60769\n",
      "[2000]\tvalidation_0-logloss:0.57760\n",
      "[2999]\tvalidation_0-logloss:0.56413\n",
      "[0]\tvalidation_0-logloss:0.69289\n",
      "[1000]\tvalidation_0-logloss:0.60143\n",
      "[2000]\tvalidation_0-logloss:0.56534\n",
      "[2999]\tvalidation_0-logloss:0.54849\n",
      "[0]\tvalidation_0-logloss:0.69307\n",
      "[1000]\tvalidation_0-logloss:0.60676\n",
      "[2000]\tvalidation_0-logloss:0.57496\n",
      "[2999]\tvalidation_0-logloss:0.55697\n",
      "Repeat \u001b[1m\u001b[34m#2\n",
      "[0]\tvalidation_0-logloss:0.69272\n",
      "[1000]\tvalidation_0-logloss:0.56150\n",
      "[2000]\tvalidation_0-logloss:0.50231\n",
      "[2999]\tvalidation_0-logloss:0.47559\n",
      "[0]\tvalidation_0-logloss:0.69289\n",
      "[1000]\tvalidation_0-logloss:0.53851\n",
      "[2000]\tvalidation_0-logloss:0.48122\n",
      "[2999]\tvalidation_0-logloss:0.45570\n",
      "[0]\tvalidation_0-logloss:0.69281\n",
      "[1000]\tvalidation_0-logloss:0.55339\n",
      "[2000]\tvalidation_0-logloss:0.50551\n",
      "[2999]\tvalidation_0-logloss:0.48291\n",
      "[0]\tvalidation_0-logloss:0.69305\n",
      "[1000]\tvalidation_0-logloss:0.59591\n",
      "[2000]\tvalidation_0-logloss:0.56576\n",
      "[2999]\tvalidation_0-logloss:0.55329\n",
      "[0]\tvalidation_0-logloss:0.69291\n",
      "[1000]\tvalidation_0-logloss:0.54751\n",
      "[2000]\tvalidation_0-logloss:0.48680\n",
      "[2999]\tvalidation_0-logloss:0.46053\n",
      "Repeat \u001b[1m\u001b[34m#3\n",
      "[0]\tvalidation_0-logloss:0.69294\n",
      "[1000]\tvalidation_0-logloss:0.57084\n",
      "[2000]\tvalidation_0-logloss:0.51367\n",
      "[2999]\tvalidation_0-logloss:0.48859\n",
      "[0]\tvalidation_0-logloss:0.69306\n",
      "[1000]\tvalidation_0-logloss:0.58447\n",
      "[2000]\tvalidation_0-logloss:0.52799\n",
      "[2999]\tvalidation_0-logloss:0.49576\n",
      "[0]\tvalidation_0-logloss:0.69317\n",
      "[1000]\tvalidation_0-logloss:0.57833\n",
      "[2000]\tvalidation_0-logloss:0.51494\n",
      "[2999]\tvalidation_0-logloss:0.48165\n",
      "[0]\tvalidation_0-logloss:0.69317\n",
      "[1000]\tvalidation_0-logloss:0.61127\n",
      "[2000]\tvalidation_0-logloss:0.56760\n",
      "[2999]\tvalidation_0-logloss:0.54444\n",
      "[0]\tvalidation_0-logloss:0.69292\n",
      "[1000]\tvalidation_0-logloss:0.58918\n",
      "[2000]\tvalidation_0-logloss:0.53651\n",
      "[2999]\tvalidation_0-logloss:0.50916\n",
      "Repeat \u001b[1m\u001b[34m#4\n",
      "[0]\tvalidation_0-logloss:0.69287\n",
      "[1000]\tvalidation_0-logloss:0.56858\n",
      "[2000]\tvalidation_0-logloss:0.51967\n",
      "[2999]\tvalidation_0-logloss:0.49494\n",
      "[0]\tvalidation_0-logloss:0.69298\n",
      "[1000]\tvalidation_0-logloss:0.62983\n",
      "[2000]\tvalidation_0-logloss:0.60173\n",
      "[2999]\tvalidation_0-logloss:0.58830\n",
      "[0]\tvalidation_0-logloss:0.69290\n",
      "[1000]\tvalidation_0-logloss:0.59917\n",
      "[2000]\tvalidation_0-logloss:0.56003\n",
      "[2999]\tvalidation_0-logloss:0.54050\n",
      "[0]\tvalidation_0-logloss:0.69292\n",
      "[1000]\tvalidation_0-logloss:0.60303\n",
      "[2000]\tvalidation_0-logloss:0.56981\n",
      "[2999]\tvalidation_0-logloss:0.55492\n",
      "[0]\tvalidation_0-logloss:0.69290\n",
      "[1000]\tvalidation_0-logloss:0.58742\n",
      "[2000]\tvalidation_0-logloss:0.54210\n",
      "[2999]\tvalidation_0-logloss:0.51900\n",
      "Repeat \u001b[1m\u001b[34m#5\n",
      "[0]\tvalidation_0-logloss:0.69280\n",
      "[1000]\tvalidation_0-logloss:0.57245\n",
      "[2000]\tvalidation_0-logloss:0.53212\n",
      "[2999]\tvalidation_0-logloss:0.51492\n",
      "[0]\tvalidation_0-logloss:0.69296\n",
      "[1000]\tvalidation_0-logloss:0.56440\n",
      "[2000]\tvalidation_0-logloss:0.51285\n",
      "[2999]\tvalidation_0-logloss:0.48893\n",
      "[0]\tvalidation_0-logloss:0.69286\n",
      "[1000]\tvalidation_0-logloss:0.53844\n",
      "[2000]\tvalidation_0-logloss:0.47431\n",
      "[2999]\tvalidation_0-logloss:0.44541\n",
      "[0]\tvalidation_0-logloss:0.69280\n",
      "[1000]\tvalidation_0-logloss:0.56659\n",
      "[2000]\tvalidation_0-logloss:0.51656\n",
      "[2999]\tvalidation_0-logloss:0.49399\n",
      "[0]\tvalidation_0-logloss:0.69298\n",
      "[1000]\tvalidation_0-logloss:0.56453\n",
      "[2000]\tvalidation_0-logloss:0.51599\n",
      "[2999]\tvalidation_0-logloss:0.49500\n"
     ]
    },
    {
     "name": "stderr",
     "output_type": "stream",
     "text": [
      "[I 2023-06-16 10:29:33,107] Trial 6 finished with value: 0.5117420307578204 and parameters: {'booster': 'gbtree', 'alpha': 0.00024239882270791428, 'lambda': 0.0001840905492085702, 'subsample': 0.4647461807273462, 'colsample_bytree': 0.5196833140135158, 'learning_rate': 0.0014444088683992912, 'max_depth': 10, 'min_child_weight': 9, 'gamma': 0.00017239207752044484, 'grow_policy': 'depthwise'}. Best is trial 1 with value: 0.20530412258322212.\n"
     ]
    },
    {
     "name": "stdout",
     "output_type": "stream",
     "text": [
      "Repeat \u001b[1m\u001b[34m#1\n",
      "[0]\tvalidation_0-logloss:0.69312\n",
      "[1000]\tvalidation_0-logloss:0.65141\n",
      "[2000]\tvalidation_0-logloss:0.61238\n",
      "[2999]\tvalidation_0-logloss:0.57888\n",
      "[0]\tvalidation_0-logloss:0.69308\n",
      "[1000]\tvalidation_0-logloss:0.63242\n",
      "[2000]\tvalidation_0-logloss:0.57947\n",
      "[2999]\tvalidation_0-logloss:0.53516\n",
      "[0]\tvalidation_0-logloss:0.69312\n",
      "[1000]\tvalidation_0-logloss:0.64544\n",
      "[2000]\tvalidation_0-logloss:0.60563\n",
      "[2999]\tvalidation_0-logloss:0.57528\n",
      "[0]\tvalidation_0-logloss:0.69313\n",
      "[1000]\tvalidation_0-logloss:0.64327\n",
      "[2000]\tvalidation_0-logloss:0.60062\n",
      "[2999]\tvalidation_0-logloss:0.56524\n",
      "[0]\tvalidation_0-logloss:0.69304\n",
      "[1000]\tvalidation_0-logloss:0.64348\n",
      "[2000]\tvalidation_0-logloss:0.60342\n",
      "[2999]\tvalidation_0-logloss:0.57187\n",
      "Repeat \u001b[1m\u001b[34m#2\n",
      "[0]\tvalidation_0-logloss:0.69301\n",
      "[1000]\tvalidation_0-logloss:0.61284\n",
      "[2000]\tvalidation_0-logloss:0.54912\n",
      "[2999]\tvalidation_0-logloss:0.49957\n",
      "[0]\tvalidation_0-logloss:0.69304\n",
      "[1000]\tvalidation_0-logloss:0.61247\n",
      "[2000]\tvalidation_0-logloss:0.54959\n",
      "[2999]\tvalidation_0-logloss:0.50060\n",
      "[0]\tvalidation_0-logloss:0.69303\n",
      "[1000]\tvalidation_0-logloss:0.61893\n",
      "[2000]\tvalidation_0-logloss:0.56305\n",
      "[2999]\tvalidation_0-logloss:0.52099\n",
      "[0]\tvalidation_0-logloss:0.69304\n",
      "[1000]\tvalidation_0-logloss:0.62646\n",
      "[2000]\tvalidation_0-logloss:0.57592\n",
      "[2999]\tvalidation_0-logloss:0.53938\n",
      "[0]\tvalidation_0-logloss:0.69302\n",
      "[1000]\tvalidation_0-logloss:0.61310\n",
      "[2000]\tvalidation_0-logloss:0.55145\n",
      "[2999]\tvalidation_0-logloss:0.50378\n",
      "Repeat \u001b[1m\u001b[34m#3\n",
      "[0]\tvalidation_0-logloss:0.69304\n",
      "[1000]\tvalidation_0-logloss:0.62779\n",
      "[2000]\tvalidation_0-logloss:0.57596\n",
      "[2999]\tvalidation_0-logloss:0.53582\n",
      "[0]\tvalidation_0-logloss:0.69310\n",
      "[1000]\tvalidation_0-logloss:0.64043\n",
      "[2000]\tvalidation_0-logloss:0.59968\n",
      "[2999]\tvalidation_0-logloss:0.56758\n",
      "[0]\tvalidation_0-logloss:0.69305\n",
      "[1000]\tvalidation_0-logloss:0.62862\n",
      "[2000]\tvalidation_0-logloss:0.57719\n",
      "[2999]\tvalidation_0-logloss:0.53590\n",
      "[0]\tvalidation_0-logloss:0.69302\n",
      "[1000]\tvalidation_0-logloss:0.63990\n",
      "[2000]\tvalidation_0-logloss:0.59507\n",
      "[2999]\tvalidation_0-logloss:0.55820\n",
      "[0]\tvalidation_0-logloss:0.69305\n",
      "[1000]\tvalidation_0-logloss:0.63601\n",
      "[2000]\tvalidation_0-logloss:0.59179\n",
      "[2999]\tvalidation_0-logloss:0.55456\n",
      "Repeat \u001b[1m\u001b[34m#4\n",
      "[0]\tvalidation_0-logloss:0.69302\n",
      "[1000]\tvalidation_0-logloss:0.62045\n",
      "[2000]\tvalidation_0-logloss:0.55969\n",
      "[2999]\tvalidation_0-logloss:0.51190\n",
      "[0]\tvalidation_0-logloss:0.69313\n",
      "[1000]\tvalidation_0-logloss:0.64597\n",
      "[2000]\tvalidation_0-logloss:0.59869\n",
      "[2999]\tvalidation_0-logloss:0.56121\n",
      "[0]\tvalidation_0-logloss:0.69305\n",
      "[1000]\tvalidation_0-logloss:0.63527\n",
      "[2000]\tvalidation_0-logloss:0.59121\n",
      "[2999]\tvalidation_0-logloss:0.55886\n",
      "[0]\tvalidation_0-logloss:0.69306\n",
      "[1000]\tvalidation_0-logloss:0.63547\n",
      "[2000]\tvalidation_0-logloss:0.59101\n",
      "[2999]\tvalidation_0-logloss:0.55722\n",
      "[0]\tvalidation_0-logloss:0.69309\n",
      "[1000]\tvalidation_0-logloss:0.62812\n",
      "[2000]\tvalidation_0-logloss:0.57679\n",
      "[2999]\tvalidation_0-logloss:0.53703\n",
      "Repeat \u001b[1m\u001b[34m#5\n",
      "[0]\tvalidation_0-logloss:0.69305\n",
      "[1000]\tvalidation_0-logloss:0.62601\n",
      "[2000]\tvalidation_0-logloss:0.57309\n",
      "[2999]\tvalidation_0-logloss:0.53282\n",
      "[0]\tvalidation_0-logloss:0.69305\n",
      "[1000]\tvalidation_0-logloss:0.62512\n",
      "[2000]\tvalidation_0-logloss:0.57154\n",
      "[2999]\tvalidation_0-logloss:0.52892\n",
      "[0]\tvalidation_0-logloss:0.69308\n",
      "[1000]\tvalidation_0-logloss:0.62741\n",
      "[2000]\tvalidation_0-logloss:0.57033\n",
      "[2999]\tvalidation_0-logloss:0.52384\n",
      "[0]\tvalidation_0-logloss:0.69310\n",
      "[1000]\tvalidation_0-logloss:0.62830\n",
      "[2000]\tvalidation_0-logloss:0.57645\n",
      "[2999]\tvalidation_0-logloss:0.53534\n",
      "[0]\tvalidation_0-logloss:0.69305\n",
      "[1000]\tvalidation_0-logloss:0.62749\n",
      "[2000]\tvalidation_0-logloss:0.57410\n",
      "[2999]\tvalidation_0-logloss:0.53221\n"
     ]
    },
    {
     "name": "stderr",
     "output_type": "stream",
     "text": [
      "[I 2023-06-16 10:30:06,693] Trial 7 finished with value: 0.5408992485880046 and parameters: {'booster': 'gbtree', 'alpha': 3.3140102849626246e-06, 'lambda': 0.04802080917363523, 'subsample': 0.8037178972101938, 'colsample_bytree': 0.5589038842618649, 'learning_rate': 0.00022442116320397793, 'max_depth': 10, 'min_child_weight': 9, 'gamma': 0.001259244736623912, 'grow_policy': 'lossguide'}. Best is trial 1 with value: 0.20530412258322212.\n"
     ]
    },
    {
     "name": "stdout",
     "output_type": "stream",
     "text": [
      "Repeat \u001b[1m\u001b[34m#1\n",
      "[0]\tvalidation_0-logloss:0.69302\n",
      "[1000]\tvalidation_0-logloss:0.54258\n",
      "[2000]\tvalidation_0-logloss:0.48248\n",
      "[2999]\tvalidation_0-logloss:0.45313\n",
      "[0]\tvalidation_0-logloss:0.69290\n",
      "[1000]\tvalidation_0-logloss:0.49184\n",
      "[2000]\tvalidation_0-logloss:0.41166\n",
      "[2999]\tvalidation_0-logloss:0.37422\n",
      "[0]\tvalidation_0-logloss:0.69291\n",
      "[1000]\tvalidation_0-logloss:0.54562\n",
      "[2000]\tvalidation_0-logloss:0.49817\n",
      "[2999]\tvalidation_0-logloss:0.47383\n",
      "[0]\tvalidation_0-logloss:0.69292\n",
      "[1000]\tvalidation_0-logloss:0.52669\n",
      "[2000]\tvalidation_0-logloss:0.46537\n",
      "[2999]\tvalidation_0-logloss:0.43850\n",
      "[0]\tvalidation_0-logloss:0.69264\n",
      "[1000]\tvalidation_0-logloss:0.54260\n",
      "[2000]\tvalidation_0-logloss:0.50229\n",
      "[2999]\tvalidation_0-logloss:0.48362\n",
      "Repeat \u001b[1m\u001b[34m#2\n",
      "[0]\tvalidation_0-logloss:0.69250\n",
      "[1000]\tvalidation_0-logloss:0.44026\n",
      "[2000]\tvalidation_0-logloss:0.36795\n",
      "[2999]\tvalidation_0-logloss:0.32698\n",
      "[0]\tvalidation_0-logloss:0.69261\n",
      "[1000]\tvalidation_0-logloss:0.44668\n",
      "[2000]\tvalidation_0-logloss:0.37558\n",
      "[2999]\tvalidation_0-logloss:0.33761\n",
      "[0]\tvalidation_0-logloss:0.69266\n",
      "[1000]\tvalidation_0-logloss:0.46798\n",
      "[2000]\tvalidation_0-logloss:0.40793\n",
      "[2999]\tvalidation_0-logloss:0.37275\n",
      "[0]\tvalidation_0-logloss:0.69292\n",
      "[1000]\tvalidation_0-logloss:0.49771\n",
      "[2000]\tvalidation_0-logloss:0.46005\n",
      "[2999]\tvalidation_0-logloss:0.44405\n",
      "[0]\tvalidation_0-logloss:0.69267\n",
      "[1000]\tvalidation_0-logloss:0.44383\n",
      "[2000]\tvalidation_0-logloss:0.37220\n",
      "[2999]\tvalidation_0-logloss:0.33226\n",
      "Repeat \u001b[1m\u001b[34m#3\n",
      "[0]\tvalidation_0-logloss:0.69266\n",
      "[1000]\tvalidation_0-logloss:0.48560\n",
      "[2000]\tvalidation_0-logloss:0.41305\n",
      "[2999]\tvalidation_0-logloss:0.38061\n",
      "[0]\tvalidation_0-logloss:0.69275\n",
      "[1000]\tvalidation_0-logloss:0.52812\n",
      "[2000]\tvalidation_0-logloss:0.45245\n",
      "[2999]\tvalidation_0-logloss:0.40244\n",
      "[0]\tvalidation_0-logloss:0.69270\n",
      "[1000]\tvalidation_0-logloss:0.48665\n",
      "[2000]\tvalidation_0-logloss:0.40100\n",
      "[2999]\tvalidation_0-logloss:0.35209\n",
      "[0]\tvalidation_0-logloss:0.69316\n",
      "[1000]\tvalidation_0-logloss:0.51930\n",
      "[2000]\tvalidation_0-logloss:0.45220\n",
      "[2999]\tvalidation_0-logloss:0.41413\n",
      "[0]\tvalidation_0-logloss:0.69271\n",
      "[1000]\tvalidation_0-logloss:0.50783\n",
      "[2000]\tvalidation_0-logloss:0.42995\n",
      "[2999]\tvalidation_0-logloss:0.38651\n",
      "Repeat \u001b[1m\u001b[34m#4\n",
      "[0]\tvalidation_0-logloss:0.69258\n",
      "[1000]\tvalidation_0-logloss:0.45508\n",
      "[2000]\tvalidation_0-logloss:0.37777\n",
      "[2999]\tvalidation_0-logloss:0.34247\n",
      "[0]\tvalidation_0-logloss:0.69298\n",
      "[1000]\tvalidation_0-logloss:0.51719\n",
      "[2000]\tvalidation_0-logloss:0.46744\n",
      "[2999]\tvalidation_0-logloss:0.45402\n",
      "[0]\tvalidation_0-logloss:0.69271\n",
      "[1000]\tvalidation_0-logloss:0.52166\n",
      "[2000]\tvalidation_0-logloss:0.47335\n",
      "[2999]\tvalidation_0-logloss:0.44827\n",
      "[0]\tvalidation_0-logloss:0.69272\n",
      "[1000]\tvalidation_0-logloss:0.51819\n",
      "[2000]\tvalidation_0-logloss:0.46345\n",
      "[2999]\tvalidation_0-logloss:0.43554\n",
      "[0]\tvalidation_0-logloss:0.69291\n",
      "[1000]\tvalidation_0-logloss:0.49004\n",
      "[2000]\tvalidation_0-logloss:0.43036\n",
      "[2999]\tvalidation_0-logloss:0.40636\n",
      "Repeat \u001b[1m\u001b[34m#5\n",
      "[0]\tvalidation_0-logloss:0.69272\n",
      "[1000]\tvalidation_0-logloss:0.49106\n",
      "[2000]\tvalidation_0-logloss:0.43186\n",
      "[2999]\tvalidation_0-logloss:0.40459\n",
      "[0]\tvalidation_0-logloss:0.69271\n",
      "[1000]\tvalidation_0-logloss:0.48675\n",
      "[2000]\tvalidation_0-logloss:0.41456\n",
      "[2999]\tvalidation_0-logloss:0.37571\n",
      "[0]\tvalidation_0-logloss:0.69258\n",
      "[1000]\tvalidation_0-logloss:0.47479\n",
      "[2000]\tvalidation_0-logloss:0.37905\n",
      "[2999]\tvalidation_0-logloss:0.33252\n",
      "[0]\tvalidation_0-logloss:0.69291\n",
      "[1000]\tvalidation_0-logloss:0.48982\n",
      "[2000]\tvalidation_0-logloss:0.41817\n",
      "[2999]\tvalidation_0-logloss:0.38411\n",
      "[0]\tvalidation_0-logloss:0.69303\n",
      "[1000]\tvalidation_0-logloss:0.48920\n",
      "[2000]\tvalidation_0-logloss:0.40795\n",
      "[2999]\tvalidation_0-logloss:0.36768\n"
     ]
    },
    {
     "name": "stderr",
     "output_type": "stream",
     "text": [
      "[I 2023-06-16 10:30:38,897] Trial 8 finished with value: 0.39694630701263955 and parameters: {'booster': 'gbtree', 'alpha': 1.2998650527053548e-08, 'lambda': 0.0002683962448559657, 'subsample': 0.5984008771772565, 'colsample_bytree': 0.9010385862448455, 'learning_rate': 0.000999881377139432, 'max_depth': 10, 'min_child_weight': 7, 'gamma': 0.19710783836062895, 'grow_policy': 'lossguide'}. Best is trial 1 with value: 0.20530412258322212.\n"
     ]
    },
    {
     "name": "stdout",
     "output_type": "stream",
     "text": [
      "Repeat \u001b[1m\u001b[34m#1\n",
      "[0]\tvalidation_0-logloss:0.69179\n",
      "[1000]\tvalidation_0-logloss:0.28068\n",
      "[2000]\tvalidation_0-logloss:0.24082\n",
      "[2597]\tvalidation_0-logloss:0.23340\n",
      "[0]\tvalidation_0-logloss:0.69132\n",
      "[1000]\tvalidation_0-logloss:0.23523\n",
      "[2000]\tvalidation_0-logloss:0.18340\n",
      "[2999]\tvalidation_0-logloss:0.16849\n",
      "[0]\tvalidation_0-logloss:0.69154\n",
      "[1000]\tvalidation_0-logloss:0.30562\n",
      "[2000]\tvalidation_0-logloss:0.26970\n",
      "[2406]\tvalidation_0-logloss:0.26622\n",
      "[0]\tvalidation_0-logloss:0.69153\n",
      "[1000]\tvalidation_0-logloss:0.26972\n",
      "[1876]\tvalidation_0-logloss:0.24922\n",
      "[0]\tvalidation_0-logloss:0.69099\n",
      "[1000]\tvalidation_0-logloss:0.32566\n",
      "[2000]\tvalidation_0-logloss:0.29786\n",
      "[2137]\tvalidation_0-logloss:0.29688\n",
      "Repeat \u001b[1m\u001b[34m#2\n",
      "[0]\tvalidation_0-logloss:0.69082\n",
      "[1000]\tvalidation_0-logloss:0.19416\n",
      "[2000]\tvalidation_0-logloss:0.14941\n",
      "[2999]\tvalidation_0-logloss:0.13261\n",
      "[0]\tvalidation_0-logloss:0.69026\n",
      "[1000]\tvalidation_0-logloss:0.19142\n",
      "[2000]\tvalidation_0-logloss:0.15011\n",
      "[2330]\tvalidation_0-logloss:0.14815\n",
      "[0]\tvalidation_0-logloss:0.69149\n",
      "[1000]\tvalidation_0-logloss:0.25341\n",
      "[2000]\tvalidation_0-logloss:0.22281\n",
      "[2938]\tvalidation_0-logloss:0.21025\n",
      "[0]\tvalidation_0-logloss:0.69153\n",
      "[1000]\tvalidation_0-logloss:0.31797\n",
      "[1543]\tvalidation_0-logloss:0.30604\n",
      "[0]\tvalidation_0-logloss:0.69111\n",
      "[1000]\tvalidation_0-logloss:0.21839\n",
      "[2000]\tvalidation_0-logloss:0.17894\n",
      "[2999]\tvalidation_0-logloss:0.16758\n",
      "Repeat \u001b[1m\u001b[34m#3\n",
      "[0]\tvalidation_0-logloss:0.69124\n",
      "[1000]\tvalidation_0-logloss:0.30035\n",
      "[1859]\tvalidation_0-logloss:0.27620\n",
      "[0]\tvalidation_0-logloss:0.69140\n",
      "[1000]\tvalidation_0-logloss:0.25901\n",
      "[2000]\tvalidation_0-logloss:0.18418\n",
      "[2999]\tvalidation_0-logloss:0.15370\n",
      "[0]\tvalidation_0-logloss:0.69187\n",
      "[1000]\tvalidation_0-logloss:0.21304\n",
      "[2000]\tvalidation_0-logloss:0.14830\n",
      "[2999]\tvalidation_0-logloss:0.12376\n",
      "[0]\tvalidation_0-logloss:0.69222\n",
      "[1000]\tvalidation_0-logloss:0.27521\n",
      "[2000]\tvalidation_0-logloss:0.23267\n",
      "[2999]\tvalidation_0-logloss:0.21869\n",
      "[0]\tvalidation_0-logloss:0.69113\n",
      "[1000]\tvalidation_0-logloss:0.24703\n",
      "[2000]\tvalidation_0-logloss:0.18938\n",
      "[2999]\tvalidation_0-logloss:0.16254\n",
      "Repeat \u001b[1m\u001b[34m#4\n",
      "[0]\tvalidation_0-logloss:0.69146\n",
      "[1000]\tvalidation_0-logloss:0.17382\n",
      "[2000]\tvalidation_0-logloss:0.11686\n",
      "[2999]\tvalidation_0-logloss:0.10006\n",
      "[0]\tvalidation_0-logloss:0.69200\n",
      "[1000]\tvalidation_0-logloss:0.31588\n",
      "[1772]\tvalidation_0-logloss:0.29438\n",
      "[0]\tvalidation_0-logloss:0.69145\n",
      "[1000]\tvalidation_0-logloss:0.24842\n",
      "[2000]\tvalidation_0-logloss:0.19649\n",
      "[2553]\tvalidation_0-logloss:0.18938\n",
      "[0]\tvalidation_0-logloss:0.69154\n",
      "[1000]\tvalidation_0-logloss:0.31953\n",
      "[2000]\tvalidation_0-logloss:0.28304\n",
      "[2828]\tvalidation_0-logloss:0.27180\n",
      "[0]\tvalidation_0-logloss:0.69179\n",
      "[1000]\tvalidation_0-logloss:0.31323\n",
      "[1439]\tvalidation_0-logloss:0.30726\n",
      "Repeat \u001b[1m\u001b[34m#5\n",
      "[0]\tvalidation_0-logloss:0.69150\n",
      "[1000]\tvalidation_0-logloss:0.28289\n",
      "[1708]\tvalidation_0-logloss:0.26731\n",
      "[0]\tvalidation_0-logloss:0.69093\n",
      "[1000]\tvalidation_0-logloss:0.23732\n",
      "[2000]\tvalidation_0-logloss:0.21162\n",
      "[2289]\tvalidation_0-logloss:0.21125\n",
      "[0]\tvalidation_0-logloss:0.69069\n",
      "[1000]\tvalidation_0-logloss:0.18255\n",
      "[2000]\tvalidation_0-logloss:0.13212\n",
      "[2999]\tvalidation_0-logloss:0.11473\n",
      "[0]\tvalidation_0-logloss:0.69189\n",
      "[1000]\tvalidation_0-logloss:0.26214\n",
      "[2000]\tvalidation_0-logloss:0.24663\n",
      "[2337]\tvalidation_0-logloss:0.24667\n",
      "[0]\tvalidation_0-logloss:0.69217\n",
      "[1000]\tvalidation_0-logloss:0.23891\n",
      "[2000]\tvalidation_0-logloss:0.21118\n",
      "[2178]\tvalidation_0-logloss:0.21056\n"
     ]
    },
    {
     "name": "stderr",
     "output_type": "stream",
     "text": [
      "[I 2023-06-16 10:31:13,320] Trial 9 finished with value: 0.21260467577589592 and parameters: {'booster': 'gbtree', 'alpha': 6.419303611098351e-08, 'lambda': 0.0006936942932176341, 'subsample': 0.5637648214062534, 'colsample_bytree': 0.6266508791944839, 'learning_rate': 0.0034853581586580637, 'max_depth': 7, 'min_child_weight': 2, 'gamma': 0.0011185691434928047, 'grow_policy': 'depthwise'}. Best is trial 1 with value: 0.20530412258322212.\n"
     ]
    },
    {
     "name": "stdout",
     "output_type": "stream",
     "text": [
      "Repeat \u001b[1m\u001b[34m#1\n",
      "[0]\tvalidation_0-logloss:0.67063\n",
      "[444]\tvalidation_0-logloss:0.30051\n",
      "[0]\tvalidation_0-logloss:0.67140\n",
      "[554]\tvalidation_0-logloss:0.20605\n",
      "[0]\tvalidation_0-logloss:0.67093\n",
      "[545]\tvalidation_0-logloss:0.29140\n",
      "[0]\tvalidation_0-logloss:0.67439\n",
      "[313]\tvalidation_0-logloss:0.32633\n",
      "[0]\tvalidation_0-logloss:0.67280\n",
      "[443]\tvalidation_0-logloss:0.36942\n",
      "Repeat \u001b[1m\u001b[34m#2\n",
      "[0]\tvalidation_0-logloss:0.65451\n",
      "[418]\tvalidation_0-logloss:0.15531\n",
      "[0]\tvalidation_0-logloss:0.65468\n",
      "[231]\tvalidation_0-logloss:0.21764\n",
      "[0]\tvalidation_0-logloss:0.65897\n",
      "[1000]\tvalidation_0-logloss:0.23363\n",
      "[1313]\tvalidation_0-logloss:0.23192\n",
      "[0]\tvalidation_0-logloss:0.66118\n",
      "[227]\tvalidation_0-logloss:0.35294\n",
      "[0]\tvalidation_0-logloss:0.65908\n",
      "[759]\tvalidation_0-logloss:0.20061\n",
      "Repeat \u001b[1m\u001b[34m#3\n",
      "[0]\tvalidation_0-logloss:0.66178\n",
      "[922]\tvalidation_0-logloss:0.29265\n",
      "[0]\tvalidation_0-logloss:0.66636\n",
      "[1000]\tvalidation_0-logloss:0.17472\n",
      "[1456]\tvalidation_0-logloss:0.17332\n",
      "[0]\tvalidation_0-logloss:0.66758\n",
      "[1000]\tvalidation_0-logloss:0.13298\n",
      "[1659]\tvalidation_0-logloss:0.13097\n",
      "[0]\tvalidation_0-logloss:0.68819\n",
      "[1000]\tvalidation_0-logloss:0.23933\n",
      "[1195]\tvalidation_0-logloss:0.23863\n",
      "[0]\tvalidation_0-logloss:0.67529\n",
      "[862]\tvalidation_0-logloss:0.19084\n",
      "Repeat \u001b[1m\u001b[34m#4\n",
      "[0]\tvalidation_0-logloss:0.66544\n",
      "[1000]\tvalidation_0-logloss:0.13490\n",
      "[1431]\tvalidation_0-logloss:0.13382\n",
      "[0]\tvalidation_0-logloss:0.67736\n",
      "[175]\tvalidation_0-logloss:0.37296\n",
      "[0]\tvalidation_0-logloss:0.66248\n",
      "[873]\tvalidation_0-logloss:0.24264\n",
      "[0]\tvalidation_0-logloss:0.67004\n",
      "[469]\tvalidation_0-logloss:0.30247\n",
      "[0]\tvalidation_0-logloss:0.67648\n",
      "[366]\tvalidation_0-logloss:0.29644\n",
      "Repeat \u001b[1m\u001b[34m#5\n",
      "[0]\tvalidation_0-logloss:0.65648\n",
      "[561]\tvalidation_0-logloss:0.31343\n",
      "[0]\tvalidation_0-logloss:0.68056\n",
      "[263]\tvalidation_0-logloss:0.26662\n",
      "[0]\tvalidation_0-logloss:0.66317\n",
      "[743]\tvalidation_0-logloss:0.13075\n",
      "[0]\tvalidation_0-logloss:0.67352\n",
      "[355]\tvalidation_0-logloss:0.29119\n",
      "[0]\tvalidation_0-logloss:0.66485\n",
      "[223]\tvalidation_0-logloss:0.27458\n"
     ]
    },
    {
     "name": "stderr",
     "output_type": "stream",
     "text": [
      "[I 2023-06-16 10:31:22,210] Trial 10 finished with value: 0.2489737716221864 and parameters: {'booster': 'gbtree', 'alpha': 0.8777870724460038, 'lambda': 7.750021618479562e-08, 'subsample': 0.7400513819624008, 'colsample_bytree': 0.7647213354600015, 'learning_rate': 0.07203114714978813, 'max_depth': 8, 'min_child_weight': 5, 'gamma': 2.341163055957483e-06, 'grow_policy': 'depthwise'}. Best is trial 1 with value: 0.20530412258322212.\n"
     ]
    },
    {
     "name": "stdout",
     "output_type": "stream",
     "text": [
      "Repeat \u001b[1m\u001b[34m#1\n",
      "[0]\tvalidation_0-logloss:0.68370\n",
      "[612]\tvalidation_0-logloss:0.23590\n",
      "[0]\tvalidation_0-logloss:0.68221\n",
      "[1000]\tvalidation_0-logloss:0.16158\n"
     ]
    }
   ],
   "source": [
    "X, y = train_df[features], train_df['Class']\n",
    "\n",
    "def objective(trial):\n",
    "    bll_list = list()\n",
    "\n",
    "    params = {\n",
    "        \"n_estimators\": 3000, # trial.suggest_int('n_estimators', 100, 1000, step=100),\n",
    "        \"random_state\": 14062023,\n",
    "        \"early_stopping_rounds\": 100,\n",
    "        \"verbosity\": 0,\n",
    "#         \"scale_pos_weight\": class_imbalance,\n",
    "        \"objective\": \"binary:logistic\",\n",
    "        \"eval_metric\": \"logloss\",\n",
    "        # use exact for small dataset.\n",
    "        \"tree_method\": \"exact\",\n",
    "        # defines booster, gblinear for linear functions.\n",
    "        \"booster\": trial.suggest_categorical(\"booster\", [\"gbtree\"]),# \"dart\", \"gblinear\"]), \n",
    "        # L1 regularization weight.\n",
    "        \"alpha\": trial.suggest_float(\"alpha\", 1e-8, 1.0, log=True),\n",
    "        # L2 regularization weight.\n",
    "        \"lambda\": trial.suggest_float(\"lambda\", 1e-8, 1.0, log=True),\n",
    "        # sampling ratio for training data.\n",
    "        \"subsample\": trial.suggest_float(\"subsample\", 0.4, 1.0),\n",
    "        # sampling according to each tree.\n",
    "        \"colsample_bytree\": trial.suggest_float(\"colsample_bytree\", 0.4, 1.0),\n",
    "    }\n",
    "\n",
    "    if params[\"booster\"] in [\"gbtree\", \"dart\"]:\n",
    "        params[\"learning_rate\"] = trial.suggest_float(\"learning_rate\", 1e-4, 0.1, log=True) # alias eta\n",
    "        # maximum depth of the tree, signifies complexity of the tree.\n",
    "        params[\"max_depth\"] = trial.suggest_int(\"max_depth\", 3, 10)\n",
    "        # minimum child weight, larger the term more conservative the tree.\n",
    "        params[\"min_child_weight\"] = trial.suggest_int(\"min_child_weight\", 2, 10)\n",
    "        # defines how selective algorithm is.\n",
    "        params[\"gamma\"] = trial.suggest_float(\"gamma\", 1e-8, 1.0, log=True)\n",
    "        params[\"grow_policy\"] = trial.suggest_categorical(\"grow_policy\", [\"depthwise\", \"lossguide\"])\n",
    "\n",
    "    if params[\"booster\"] == \"dart\":\n",
    "        params[\"sample_type\"] = trial.suggest_categorical(\"sample_type\", [\"uniform\", \"weighted\"])\n",
    "        params[\"normalize_type\"] = trial.suggest_categorical(\"normalize_type\", [\"tree\", \"forest\"])\n",
    "        params[\"rate_drop\"] = trial.suggest_float(\"rate_drop\", 1e-8, 1.0, log=True)\n",
    "        params[\"skip_drop\"] = trial.suggest_float(\"skip_drop\", 1e-8, 1.0, log=True)\n",
    "\n",
    "    for i in range(CFG.n_optimize_repeats):\n",
    "        print(f'Repeat {blu}#{i+1}')\n",
    "\n",
    "        # Make random under-sampling to balance classes\n",
    "        positive_count_train = train_df['Class'].value_counts()[1]\n",
    "        sampler = RandomUnderSampler(sampling_strategy={0: positive_count_train, \n",
    "                                                        1: positive_count_train}, \n",
    "                                     random_state=15062023+i, \n",
    "                                     replacement=True)\n",
    "\n",
    "        X_re, y_re = pd.concat([train_df[features], greeks.iloc[:,1:4]], axis=1), train_df['Class']\n",
    "        \n",
    "        if CFG.undersample:\n",
    "            X_re, y_re = sampler.fit_resample(X_re, y_re)\n",
    "        \n",
    "        # Create Stratified Multilabel k-Fold scheme\n",
    "        kf = MultilabelStratifiedKFold(n_splits=CFG.n_feature_sel_folds, shuffle=True, random_state=10062023+i)\n",
    "\n",
    "        # Create an oof array for inner loop\n",
    "        oof = np.zeros(X_re.shape[0])\n",
    "\n",
    "        # Stratify based on Class and Alpha (3 types of conditions)\n",
    "        for fold, (train_idx, val_idx) in enumerate(kf.split(X=X_re[features], y=X_re.iloc[:,-3:]), start=1): \n",
    "            X, y = X_re[features], y_re\n",
    "            \n",
    "            # Split the dataset according to the fold indexes.\n",
    "            X_train = X.iloc[train_idx]\n",
    "            X_val = X.iloc[val_idx]\n",
    "            y_train = y.iloc[train_idx]\n",
    "            y_val = y.iloc[val_idx]\n",
    "\n",
    "            # Learning\n",
    "            model = xgb.XGBClassifier(**params)\n",
    "            model.fit(X_train, y_train, eval_set=[(X_val, y_val)], verbose=1000)\n",
    "            # Predict\n",
    "            val_preds = model.predict_proba(X_val)[:,1]\n",
    "            oof[val_idx] = val_preds\n",
    "        \n",
    "        bll_list.append(balanced_log_loss(y_re, oof))    \n",
    "    \n",
    "    return np.mean(bll_list)\n",
    "\n",
    "if CFG.xgb_optimize:\n",
    "    study = optuna.create_study(direction=\"minimize\")\n",
    "    study.optimize(objective, n_trials=CFG.n_trials, )\n",
    "\n",
    "    print(\"Number of finished trials: {}\".format(len(study.trials)))\n",
    "\n",
    "    print(\"Best trial:\")\n",
    "    trial = study.best_trial\n",
    "\n",
    "    print(\"  Value: {}\".format(trial.value))\n",
    "\n",
    "    print(\"  Params: \")\n",
    "    for key, value in trial.params.items():\n",
    "        print(\"    {}: {}\".format(key, value))\n",
    "\n",
    "    df = study.trials_dataframe()\n",
    "    df.sort_values('value').iloc[:, [1] + list(range(5, 14))]\n",
    "    df.to_csv(f'optuna_xgb.csv')"
   ]
  },
  {
   "cell_type": "markdown",
   "metadata": {},
   "source": [
    "# Load XGBoost parameters"
   ]
  },
  {
   "cell_type": "code",
   "execution_count": null,
   "metadata": {},
   "outputs": [],
   "source": [
    "import glob\n",
    "\n",
    "param_list = glob.glob(\"optuna_xgb.csv\")\n",
    "models = list()\n",
    "best_xb_params = list()\n",
    "\n",
    "xb_params = pd.DataFrame()\n",
    "\n",
    "for f in param_list:\n",
    "    tmp = pd.read_csv(f, index_col='Unnamed: 0')\n",
    "    if xb_params.shape[0] == 0:\n",
    "        xb_params = tmp\n",
    "    else:\n",
    "        xb_params = pd.concat([cb_params, tmp])\n",
    "        \n",
    "xb_params = xb_params.sort_values('value').head(10)\n",
    "param_cols = [c for c in xb_params.columns if c.startswith('params_')]\n",
    "xb_params = xb_params[param_cols]\n",
    "\n",
    "for idx, row in xb_params.iterrows():\n",
    "    row_dict = {k[7:]: v for k, v in row.items()}\n",
    "    row_dict['n_estimators'] = 3000\n",
    "    row_dict['random_state'] = 14062023\n",
    "    row_dict['early_stopping_rounds'] = 100\n",
    "    row_dict['verbosity'] = 0\n",
    "    row_dict['scale_pos_weight'] = 4.71\n",
    "    row_dict['objective'] = \"binary:logistic\"\n",
    "    row_dict['eval_metric'] = \"logloss\"\n",
    "    row_dict['tree_method'] = \"exact\"\n",
    "    row_dict['booster'] = \"gbtree\"\n",
    "\n",
    "    if row_dict[\"booster\"] in [\"gbtree\", \"dart\"]:\n",
    "        row_dict[\"learning_rate\"] = float(row_dict['learning_rate'])\n",
    "        row_dict[\"max_depth\"] = int(row_dict['max_depth'])\n",
    "        row_dict[\"min_child_weight\"] = float(row_dict['min_child_weight'])\n",
    "        row_dict[\"gamma\"] = float(row_dict['gamma'])\n",
    "    else:\n",
    "        row_dict[\"learning_rate\"] = None\n",
    "        row_dict[\"max_depth\"] = None\n",
    "        row_dict[\"min_child_weight\"] = None\n",
    "        row_dict[\"gamma\"] = None\n",
    "        row_dict[\"grow_policy\"] = None     \n",
    "\n",
    "    if row_dict[\"booster\"] == \"dart\":\n",
    "        row_dict[\"rate_drop\"] = float(row_dict['rate_drop'])\n",
    "        row_dict[\"skip_drop\"] = float(row_dict['skip_drop'])\n",
    "    else:\n",
    "        row_dict[\"sample_type\"] = None\n",
    "        row_dict[\"normalize_type\"] = None\n",
    "        row_dict[\"rate_drop\"] = None\n",
    "        row_dict[\"skip_drop\"] = None\n",
    "\n",
    "    best_xb_params.append(row_dict)"
   ]
  },
  {
   "cell_type": "markdown",
   "metadata": {},
   "source": [
    "# XGBoost train"
   ]
  },
  {
   "cell_type": "code",
   "execution_count": null,
   "metadata": {},
   "outputs": [],
   "source": [
    "def bll_metric(y_true, y_pred):\n",
    "    return 'balanced_log_loss', balanced_log_loss(y_true, y_pred), False\n",
    "\n",
    "def xgboost_training():\n",
    "    # Make random under-sampling to balance classes\n",
    "    positive_count_train = train_df['Class'].value_counts()[1]\n",
    "    sampler = RandomUnderSampler(sampling_strategy={0: positive_count_train, \n",
    "                                                    1: positive_count_train}, \n",
    "                                 random_state=15062023+i, \n",
    "                                 replacement=True)\n",
    "\n",
    "    X_re, y_re = pd.concat([train_df[features], greeks.iloc[:,1:4]], axis=1), train_df['Class']\n",
    "\n",
    "    if CFG.undersample:\n",
    "        X_re, y_re = sampler.fit_resample(X_re, y_re)\n",
    "    \n",
    "    kf = MultilabelStratifiedKFold(n_splits=CFG.n_stacking_folds, shuffle=True, random_state=16062023)\n",
    "    metric = balanced_log_loss\n",
    "\n",
    "    oof_level2 = np.zeros([y.shape[0], len(best_lgbm_params) + 1])\n",
    "    oof_level2[:, len(best_lgbm_params)] = y\n",
    "    oof_level2_test = np.zeros([test_df.shape[0], len(best_lgbm_params)])\n",
    "\n",
    "    print(f\"Training with {blu}{X.shape[1]}{res} features\")\n",
    "\n",
    "    for fold, (fit_idx, val_idx) in tqdm(enumerate(kf.split(X=train_df, y=X_re.iloc[:,-3:]), start = 1),\n",
    "                                         total=CFG.n_stacking_folds):\n",
    "        X, y = X_re[features], y_re, test_df[features]\n",
    "        \n",
    "        # Split the dataset according to the fold indexes.\n",
    "        X_train = X.iloc[fit_idx]\n",
    "        X_val = X.iloc[val_idx]\n",
    "        y_train = y.iloc[fit_idx]\n",
    "        y_val = y.iloc[val_idx]\n",
    "\n",
    "        for i, params in enumerate(best_xb_params):\n",
    "            clf = xgb.XGBClassifier(**params)\n",
    "            \n",
    "            clf.fit(X_train, y_train, eval_set=[(X_val, y_val)], verbose=500)\n",
    "\n",
    "            val_preds = clf.predict_proba(X_val)[:,1]\n",
    "            oof_level2[val_idx, i] = val_preds\n",
    "\n",
    "            val_score = balanced_log_loss(y_val, val_preds)\n",
    "            best_iter = 0\n",
    "\n",
    "#             print(clf.best_iteration_)\n",
    "            \n",
    "            print(f'Fold: {blu}{fold:>3}{res}| bll_metric: {blu}{val_score:.5f}{res}'\n",
    "                  f' | Best iteration: {blu}{best_iter:>4}{res}')\n",
    "        \n",
    "            oof_level2_test[:, i] += clf.predict_proba(test)[:,1]\n",
    "        \n",
    "    return oof_level2, oof_level2_test / CFG.n_stacking_folds\n",
    "\n",
    "if CFG.stacking:\n",
    "    oof_level2_xgb, oof_level2_test_xgb = xgboost_training()"
   ]
  },
  {
   "cell_type": "markdown",
   "metadata": {},
   "source": [
    "# CatBoost Optuna optimization"
   ]
  },
  {
   "cell_type": "code",
   "execution_count": null,
   "metadata": {
    "scrolled": true
   },
   "outputs": [],
   "source": [
    "from optuna.integration import CatBoostPruningCallback\n",
    "\n",
    "X, y = train_df[features], train_df['Class']\n",
    "\n",
    "def objective(trial):\n",
    "    \n",
    "    bll_list = list()\n",
    "\n",
    "    # Parameters\n",
    "    params = {\n",
    "        'task_type': 'CPU', # GPU\n",
    "#         'scale_pos_weight': class_imbalance,\n",
    "        'eval_metric': 'Logloss',\n",
    "        'loss_function': 'Logloss', \n",
    "        'random_seed': 10062023,\n",
    "        'od_type': 'Iter', # Type of overfitting detector - stop after k iteraions\n",
    "        'od_wait': 100, # Overfitting detector - stop training after k iterations without metric improvement\n",
    "#             'metric_period': 100, # Show metric each k iterations\n",
    "        # Hyperparamters (in order of importance decreasing)\n",
    "        'bootstrap_type': trial.suggest_categorical('bootstrap_type', ['Bayesian', 'Bernoulli', 'MVS']),\n",
    "        'grow_policy': trial.suggest_categorical('grow_policy', ['SymmetricTree', 'Depthwise', 'Lossguide']),\n",
    "        'iterations' : 3000, # trial.suggest_int('iterations', 300, 1200),        \n",
    "        'learning_rate' : trial.suggest_loguniform('learning_rate', 1e-4, 3e-1),    \n",
    "        'l2_leaf_reg': trial.suggest_loguniform(\"l2_leaf_reg\", 1e-8, 100),\n",
    "        'depth' : trial.suggest_int('depth', 4, 10),  # Max tree depth                                                   \n",
    "         # increase to deal with overfit\n",
    "        'random_strength': trial.suggest_float('random_strength', 0, 100), # The amount of randomness to use \n",
    "                                                                           # for scoring splits when the tree structure\n",
    "                                                                           # is selected. Helps to avoid overfitting\n",
    "                                                                           # CPU only\n",
    "        # per_float_feature_quantization='0:border_count=1024'\n",
    "        'border_count': 254, # trial.suggest_categorical('border_count', [128, 254]), # The number of splits for numerical features\n",
    "                                                                                      # bigger is better but slowly\n",
    "                                                                                      # alias: max_bin\n",
    "        'min_data_in_leaf': trial.suggest_int('min_data_in_leaf', 5, 100), # Minimal number of data in one leaf\n",
    "                                                                           # aliases: min_child_samples, \n",
    "\n",
    "    }\n",
    "\n",
    "    if params[\"bootstrap_type\"] == \"Bayesian\":\n",
    "        params[\"bagging_temperature\"] = trial.suggest_float(\"bagging_temperature\", 0, 100) # Assigns random \n",
    "                                                                                           # weights to objects\n",
    "                                                                                           # works only with \n",
    "                                                                                           # Bayesian bootstrap\n",
    "    if params[\"bootstrap_type\"] == \"Bernoulli\":\n",
    "        params[\"subsample\"] = trial.suggest_float(\"subsample\", 0.3, 1) # Percentage of features to use \n",
    "                                                                        # at each split\n",
    "\n",
    "    if params['grow_policy'] == 'Lossguide': \n",
    "        params['max_leaves'] = trial.suggest_int('max_leaves', 4, 128) # Max number of leaves in one tree \n",
    "                                                                       # decrease to deal with the overfit\n",
    "\n",
    "    if params['grow_policy'] == 'SymmetricTree': \n",
    "        params['boosting_type'] = trial.suggest_categorical('boosting_type', ['Ordered', 'Plain'])\n",
    "    else:\n",
    "        params['boosting_type'] = 'Plain'\n",
    "    \n",
    "    for i in range(CFG.n_optimize_repeats):\n",
    "        print(f'Repeat {blu}#{i+1}')\n",
    "\n",
    "        # Make random under-sampling to balance classes\n",
    "        positive_count_train = train_df['Class'].value_counts()[1]\n",
    "        sampler = RandomUnderSampler(sampling_strategy={0: positive_count_train, \n",
    "                                                        1: positive_count_train}, \n",
    "                                     random_state=15062023+i, \n",
    "                                     replacement=True)\n",
    "\n",
    "        X_re, y_re = pd.concat([train_df[features], greeks.iloc[:,1:4]], axis=1), train_df['Class']\n",
    "        \n",
    "        if CFG.undersample:\n",
    "            X_re, y_re = sampler.fit_resample(X_re, y_re)\n",
    "        \n",
    "        # Create Stratified Multilabel k-Fold scheme\n",
    "        kf = MultilabelStratifiedKFold(n_splits=CFG.n_feature_sel_folds, shuffle=True, random_state=10062023+i)\n",
    "\n",
    "        # Create an oof array for inner loop\n",
    "        oof = np.zeros(X_re.shape[0])\n",
    "\n",
    "        # Stratify based on Class and Alpha (3 types of conditions)\n",
    "        for fold, (train_idx, val_idx) in enumerate(kf.split(X=X_re[features], y=X_re.iloc[:,-3:]), start=1): \n",
    "            X, y = X_re[features], y_re\n",
    "            \n",
    "            # Split the dataset according to the fold indexes.\n",
    "            X_train = X.iloc[train_idx]\n",
    "            X_val = X.iloc[val_idx]\n",
    "            y_train = y.iloc[train_idx]\n",
    "            y_val = y.iloc[val_idx]\n",
    "\n",
    "            train_pool = Pool(X_train, y_train, cat_features=['EJ'])\n",
    "            val_pool = Pool(X_val, y_val, cat_features=['EJ'])\n",
    "\n",
    "            # Learning\n",
    "            model = cat.CatBoostClassifier(**params)     \n",
    "            # Add a callback for pruning\n",
    "#             pruning_callback = optuna.integration.CatBoostPruningCallback(trial, \"Logloss\")\n",
    "            model.fit(train_pool, eval_set=val_pool, verbose=0)#, callbacks=[pruning_callback])\n",
    "            # Evoke pruning manually\n",
    "#                 pruning_callback.check_pruned()\n",
    "            # Predict\n",
    "            val_preds = model.predict_proba(val_pool)[:,1]\n",
    "            oof[val_idx] = val_preds\n",
    "        \n",
    "        bll_list.append(balanced_log_loss(y_re, oof))    \n",
    "    \n",
    "    return np.mean(bll_list)\n",
    "\n",
    "if CFG.cb_optimize:\n",
    "#     study = optuna.create_study(pruner=optuna.pruners.MedianPruner(n_warmup_steps=100), direction=\"minimize\")\n",
    "    study = optuna.create_study(direction=\"minimize\")\n",
    "    study.optimize(objective, n_trials=CFG.n_trials)\n",
    "\n",
    "    print(\"Number of finished trials: {}\".format(len(study.trials)))\n",
    "\n",
    "    print(\"Best trial:\")\n",
    "    trial = study.best_trial\n",
    "\n",
    "    print(\"  Value: {}\".format(trial.value))\n",
    "\n",
    "    print(\"  Params: \")\n",
    "    for key, value in trial.params.items():\n",
    "        print(\"    {}: {}\".format(key, value))\n",
    "\n",
    "    df = study.trials_dataframe()\n",
    "    df.sort_values('value').iloc[:, [1] + list(range(5, 14))]\n",
    "    df.to_csv(f'optuna_catboost_fold_.csv')"
   ]
  },
  {
   "cell_type": "markdown",
   "metadata": {},
   "source": [
    "# Load CatBoost parameters"
   ]
  },
  {
   "cell_type": "code",
   "execution_count": null,
   "metadata": {},
   "outputs": [],
   "source": [
    "import glob\n",
    "\n",
    "param_list = glob.glob(\"optuna_catboost*.csv\")\n",
    "models = list()\n",
    "best_cb_params = list()\n",
    "\n",
    "cb_params = pd.DataFrame()\n",
    "\n",
    "for f in param_list:\n",
    "    tmp = pd.read_csv(f, index_col='Unnamed: 0')\n",
    "    if cb_params.shape[0] == 0:\n",
    "        cb_params = tmp\n",
    "    else:\n",
    "        cb_params = pd.concat([cb_params, tmp])\n",
    "        \n",
    "cb_params = cb_params.sort_values('value').head(10)\n",
    "param_cols = [c for c in cb_params.columns if c.startswith('params_')]\n",
    "cb_params = cb_params[param_cols]\n",
    "\n",
    "\n",
    "for idx, row in cb_params.iterrows():\n",
    "    row_dict = {k[7:]: v for k, v in row.items()}\n",
    "    row_dict['task_type'] = 'CPU'\n",
    "    row_dict['auto_class_weights'] = 'Balanced'\n",
    "    row_dict['eval_metric'] = 'Logloss'\n",
    "    row_dict['loss_function'] = 'Logloss'\n",
    "    row_dict['random_seed'] = 13062023\n",
    "    row_dict['verbose'] = 0\n",
    "    row_dict['od_type'] = 'Iter'\n",
    "    row_dict['od_wait'] = 100\n",
    "    row_dict['border_count'] = 254\n",
    "    row_dict['iterations'] = 3000\n",
    "    row_dict['bagging_temperature'] = float(row_dict['bagging_temperature'])\n",
    "    row_dict['subsample'] = 0.7 # float(row_dict['subsample'])\n",
    "    row_dict['learning_rate'] = float(row_dict['learning_rate'])\n",
    "    row_dict['l2_leaf_reg'] = float(row_dict['l2_leaf_reg'])\n",
    "    row_dict['depth'] = int(row_dict['depth'])\n",
    "    row_dict['random_strength'] = float(row_dict['random_strength'])\n",
    "    row_dict['min_data_in_leaf'] = int(row_dict['min_data_in_leaf'])\n",
    "    \n",
    "    if row_dict['grow_policy'] == 'Lossguide':\n",
    "        row_dict['max_leaves'] = int(row_dict['max_leaves'])\n",
    "    else:\n",
    "        del row_dict['max_leaves']\n",
    "    \n",
    "    if row_dict['grow_policy'] == 'SymmetricTree':\n",
    "        row_dict['boosting_type'] = 'Plain'\n",
    "    else:\n",
    "        del row_dict['boosting_type']\n",
    "        \n",
    "    if row_dict['task_type'] == 'CPU':\n",
    "        row_dict['colsample_bylevel'] = 0.6 # float(row_dict['colsample_bylevel'])\n",
    "    else:\n",
    "        del row_dict['colsample_bylevel']\n",
    "    \n",
    "    best_cb_params.append(row_dict)"
   ]
  },
  {
   "cell_type": "markdown",
   "metadata": {},
   "source": [
    "# CatBoost train"
   ]
  },
  {
   "cell_type": "code",
   "execution_count": null,
   "metadata": {
    "scrolled": true
   },
   "outputs": [],
   "source": [
    "def bll_metric(y_true, y_pred):\n",
    "    return 'balanced_log_loss', balanced_log_loss(y_true, y_pred), False\n",
    "\n",
    "def cb_training():\n",
    "    # Make random under-sampling to balance classes\n",
    "    positive_count_train = train_df['Class'].value_counts()[1]\n",
    "    sampler = RandomUnderSampler(sampling_strategy={0: positive_count_train, \n",
    "                                                    1: positive_count_train}, \n",
    "                                 random_state=15062023+i, \n",
    "                                 replacement=True)\n",
    "\n",
    "    X_re, y_re = pd.concat([train_df[features], greeks.iloc[:,1:4]], axis=1), train_df['Class']\n",
    "\n",
    "    if CFG.undersample:\n",
    "        X_re, y_re = sampler.fit_resample(X_re, y_re)\n",
    "    \n",
    "    kf = MultilabelStratifiedKFold(n_splits=CFG.n_stacking_folds, shuffle=True, random_state=16062023)\n",
    "\n",
    "    oof_level2 = np.zeros([y.shape[0], len(best_lgbm_params) + 1])\n",
    "    oof_level2[:, len(best_lgbm_params)] = y\n",
    "    oof_level2_test = np.zeros([test_df.shape[0], len(best_lgbm_params)])\n",
    "\n",
    "    print(f\"Training with {blu}{X.shape[1]}{res} features\")\n",
    "\n",
    "    for fold, (fit_idx, val_idx) in tqdm(enumerate(kf.split(X=train_df, y=X_re.iloc[:,-3:]), start = 1),\n",
    "                                         total=CFG.n_stacking_folds):\n",
    "        X, y = X_re[features], y_re, test_df[features]\n",
    "        \n",
    "        # Split the dataset according to the fold indexes.\n",
    "        X_train = X.iloc[fit_idx]\n",
    "        X_val = X.iloc[val_idx]\n",
    "        y_train = y.iloc[fit_idx]\n",
    "        y_val = y.iloc[val_idx]\n",
    "\n",
    "        train_pool = Pool(X_train, y_train, cat_features=['EJ'])\n",
    "        val_pool = Pool(X_val, y_val, cat_features=['EJ'])\n",
    "        \n",
    "        for i, params in enumerate(best_cb_params):\n",
    "            \n",
    "            model = cat.CatBoostClassifier(**params)\n",
    "            model.fit(train_pool, eval_set=val_pool, verbose=0)\n",
    "            models_.append(model)\n",
    "\n",
    "            val_preds = model.predict_proba(val_pool)[:,1]\n",
    "            oof_level2[val_idx, i] = val_preds\n",
    "\n",
    "            val_score = balanced_log_loss(y_val, val_preds)\n",
    "            best_iter = model.best_iteration_\n",
    "\n",
    "            print(model.best_iteration_)\n",
    "            \n",
    "            print(f'Fold: {blu}{fold:>3}{res}| bll_metric: {blu}{val_score:.5f}{res}'\n",
    "                  f' | Best iteration: {blu}{best_iter:>4}{res}')\n",
    "        \n",
    "            oof_level2_test[:, i] += model.predict_proba(test)[:,1]\n",
    "        \n",
    "    return oof_level2, oof_level2_test / CFG.n_stacking_folds\n",
    "\n",
    "if CFG.stacking:\n",
    "    oof_level2_cb, oof_level2_test_cb = cb_training()"
   ]
  },
  {
   "cell_type": "markdown",
   "metadata": {},
   "source": [
    "# Stacking with Logistic Regression"
   ]
  },
  {
   "cell_type": "code",
   "execution_count": null,
   "metadata": {
    "scrolled": true
   },
   "outputs": [],
   "source": [
    "from sklearn.linear_model import LogisticRegression\n",
    "\n",
    "oof_level2 = np.concatenate([oof_level2_lgbm[:,:-1] , oof_level2_cb[:,:-1], oof_level2_xgb[:,:-1]], axis=1)\n",
    "oof_level2_test = np.concatenate([oof_level2_test_lgbm , oof_level2_test_cb, oof_level2_test_xgb], axis=1)\n",
    "\n",
    "X = oof_level2\n",
    "y = oof_level2_lgbm[:,-1]\n",
    "\n",
    "# mean bll\n",
    "print(balanced_log_loss(y, np.mean(X, axis=1)))\n",
    "\n",
    "lr = LogisticRegression(class_weight='balanced')\n",
    "lr.fit(X, y)\n",
    "\n",
    "pred = lr.predict_proba(X)[:,1]\n",
    "\n",
    "# lr bll\n",
    "print(balanced_log_loss(y, pred))\n",
    "\n",
    "weights = lr.coef_[0]"
   ]
  },
  {
   "cell_type": "markdown",
   "metadata": {},
   "source": [
    "# Models evaluation"
   ]
  },
  {
   "cell_type": "code",
   "execution_count": null,
   "metadata": {
    "execution": {
     "iopub.status.busy": "2023-06-08T15:32:38.350522Z",
     "iopub.status.idle": "2023-06-08T15:32:38.351460Z",
     "shell.execute_reply": "2023-06-08T15:32:38.351239Z",
     "shell.execute_reply.started": "2023-06-08T15:32:38.351217Z"
    }
   },
   "outputs": [],
   "source": [
    "# ## Model Evaluation\n",
    "# metric_score_folds = pd.DataFrame.from_dict(all_eval_results_)\n",
    "# fit_logloss = []\n",
    "# val_logloss = []\n",
    "\n",
    "# for seed in CFG.seeds:\n",
    "#     for fold in range(1,CFG.n_folds+1):\n",
    "#         fit_logloss.append(metric_score_folds[seed][fold]['training']['balanced_log_loss'])\n",
    "#         val_logloss.append(metric_score_folds[seed][fold]['valid_1']['balanced_log_loss'])\n",
    "\n",
    "# fig, axes = plt.subplots(math.ceil(CFG.n_folds*len(CFG.seeds)/CFG.n_folds), CFG.n_folds, figsize=(20, 20), dpi=150)\n",
    "# ax = axes.flatten()\n",
    "# for i, (f, v, m) in enumerate(zip(fit_logloss, val_logloss, models_), start = 1): \n",
    "#     sns.lineplot(f, color='#B90000', ax=ax[i-1], label='fit')\n",
    "#     sns.lineplot(v, color='#048BA8', ax=ax[i-1], label='val')\n",
    "#     ax[i-1].legend()\n",
    "#     ax[i-1].spines['top'].set_visible(False);\n",
    "#     ax[i-1].spines['right'].set_visible(False)\n",
    "#     ax[i-1].set_title(f'Seed {CFG.seeds[(i-1)//CFG.n_folds]} Fold {CFG.n_folds if i%CFG.n_folds==0 else i%CFG.n_folds}', fontdict={'fontweight': 'bold'})\n",
    "\n",
    "#     color =  ['#048BA8', palette[-3]]\n",
    "#     best_iter = m.best_iteration_\n",
    "#     span_range = [[0, best_iter], [best_iter + 10, best_iter + CFG.num_boost_round]]\n",
    "\n",
    "#     for idx, sub_title in enumerate([f'Best\\nIteration: {best_iter}', f'Early\\n Stopping: 2000']):\n",
    "#         ax[i-1].annotate(sub_title,\n",
    "#                     xy=(sum(span_range[idx])/2 , 0.5),\n",
    "#                     xytext=(0,0), textcoords='offset points',\n",
    "#                     va=\"center\", ha=\"center\",\n",
    "#                     color=\"w\", fontsize=16, fontweight='bold',\n",
    "#                     bbox=dict(boxstyle='round4', pad=0.4, color=color[idx], alpha=0.6))\n",
    "#         ax[i-1].axvspan(span_range[idx][0]-0.4,span_range[idx][1]+0.4,  color=color[idx], alpha=0.07)\n",
    "\n",
    "#     ax[i-1].set_xlim(0, best_iter + 20 + 2000)\n",
    "#     ax[i-1].legend(bbox_to_anchor=(0.95, 1), loc='upper right', title='logloss')\n",
    "\n",
    "# plt.tight_layout();"
   ]
  },
  {
   "cell_type": "markdown",
   "metadata": {},
   "source": [
    "# Predict test"
   ]
  },
  {
   "cell_type": "code",
   "execution_count": null,
   "metadata": {
    "execution": {
     "iopub.status.busy": "2023-06-08T15:32:38.352845Z",
     "iopub.status.idle": "2023-06-08T15:32:38.353222Z",
     "shell.execute_reply": "2023-06-08T15:32:38.353059Z",
     "shell.execute_reply.started": "2023-06-08T15:32:38.353042Z"
    },
    "scrolled": false
   },
   "outputs": [],
   "source": [
    "def predict(X):\n",
    "    y = np.zeros(len(X))\n",
    "    for i in range(oof_level2_test.shape[1]):\n",
    "        y += weights[i] * oof_level2_test[:,i]\n",
    "#         y += oof_level2_test[:,i]\n",
    "    return y / sum(weights)\n",
    "#     return y / len(models)\n",
    "\n",
    "predictions = predict(test_df[features])\n",
    "# predictions = predict(generated_features_test)\n",
    "\n",
    "test_df['class_1'] = predictions\n",
    "test_df['class_0'] = 1 - predictions\n",
    "\n",
    "sample_submission[['class_0', 'class_1']] = test_df[['class_0', 'class_1']]\n",
    "sample_submission.to_csv(r\"submission.csv\", index=False)\n",
    "sample_submission"
   ]
  },
  {
   "cell_type": "markdown",
   "metadata": {},
   "source": [
    "You have a lot of resulting features. I have already identified a few important once. "
   ]
  }
 ],
 "metadata": {
  "kernelspec": {
   "display_name": "Python 3 (ipykernel)",
   "language": "python",
   "name": "python3"
  },
  "language_info": {
   "codemirror_mode": {
    "name": "ipython",
    "version": 3
   },
   "file_extension": ".py",
   "mimetype": "text/x-python",
   "name": "python",
   "nbconvert_exporter": "python",
   "pygments_lexer": "ipython3",
   "version": "3.10.6"
  }
 },
 "nbformat": 4,
 "nbformat_minor": 4
}
