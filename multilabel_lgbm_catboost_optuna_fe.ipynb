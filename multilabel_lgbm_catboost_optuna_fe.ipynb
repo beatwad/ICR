{
 "cells": [
  {
   "cell_type": "code",
   "execution_count": 1,
   "metadata": {},
   "outputs": [],
   "source": [
    "# !pip install tabpfn --no-index --find-links=file:///kaggle/input/tab-pfn-dataset\n",
    "# !mkdir -p /opt/conda/lib/python3.10/site-packages/tabpfn/models_diff\n",
    "# !cp /kaggle/input/tab-pfn-dataset/prior_diff_real_checkpoint_n_0_epoch_100.cpkt /opt/conda/lib/python3.10/site-packages/tabpfn/models_diff/"
   ]
  },
  {
   "cell_type": "code",
   "execution_count": 2,
   "metadata": {
    "_kg_hide-input": true,
    "_kg_hide-output": true,
    "execution": {
     "iopub.execute_input": "2023-06-08T15:31:23.665663Z",
     "iopub.status.busy": "2023-06-08T15:31:23.665223Z",
     "iopub.status.idle": "2023-06-08T15:31:35.997437Z",
     "shell.execute_reply": "2023-06-08T15:31:35.996163Z",
     "shell.execute_reply.started": "2023-06-08T15:31:23.665630Z"
    }
   },
   "outputs": [],
   "source": [
    "import sys\n",
    "sys.path.append('/kaggle/input/iter-strat/iter_strat')\n",
    "\n",
    "import math\n",
    "\n",
    "import numpy as np\n",
    "import pandas as pd\n",
    "\n",
    "import lightgbm as lgb\n",
    "import catboost as cat\n",
    "from catboost import Pool\n",
    "import xgboost as xgb\n",
    "from tabpfn import TabPFNClassifier\n",
    "\n",
    "import itertools\n",
    "from imblearn.under_sampling import RandomUnderSampler\n",
    "from imblearn.over_sampling import RandomOverSampler\n",
    "from iterstrat.ml_stratifiers import MultilabelStratifiedKFold\n",
    "from sklearn.model_selection import StratifiedKFold\n",
    "from sklearn.model_selection._split import _BaseKFold, _RepeatedSplits, BaseShuffleSplit, _validate_shuffle_split\n",
    "from sklearn.preprocessing import StandardScaler\n",
    "from sklearn.feature_selection import RFE\n",
    "from sklearn.metrics import log_loss\n",
    "from sklearn.impute import SimpleImputer\n",
    "from sklearn.preprocessing import StandardScaler\n",
    "\n",
    "from sklearn.utils import check_random_state\n",
    "from sklearn.utils.validation import _num_samples, check_array\n",
    "from sklearn.utils.multiclass import type_of_target\n",
    "\n",
    "from scipy import stats\n",
    "\n",
    "import eli5\n",
    "from IPython.display import display\n",
    "from eli5.permutation_importance import get_score_importances\n",
    "from eli5.sklearn import PermutationImportance\n",
    "\n",
    "import matplotlib.pyplot as plt\n",
    "from tqdm.auto import tqdm\n",
    "import seaborn as sns\n",
    "\n",
    "import optuna\n",
    "\n",
    "import warnings\n",
    "warnings.filterwarnings('ignore')\n",
    "\n",
    "pd.set_option('display.max_rows', 100)\n",
    "pd.set_option('display.max_columns', 100)\n",
    "\n",
    "\n",
    "from colorama import Style, Fore\n",
    "\n",
    "palette = ['#302c36', '#037d97', '#E4591E', '#C09741',\n",
    "           '#EC5B6D', '#90A6B1', '#6ca957', '#D8E3E2']\n",
    "\n",
    "blk = Style.BRIGHT + Fore.BLACK\n",
    "red = Style.BRIGHT + Fore.RED\n",
    "blu = Style.BRIGHT + Fore.BLUE\n",
    "res = Style.RESET_ALL\n",
    "\n",
    "\n",
    "class CFG:\n",
    "    # main\n",
    "    kaggle = False\n",
    "    test = False\n",
    "    \n",
    "    # features\n",
    "    fe_drop = True\n",
    "    \n",
    "    del_errs = False\n",
    "    del_outliers = True\n",
    "    del_outliers_adj = False\n",
    "    \n",
    "    feature_sel = False\n",
    "    n_feature_sel_repeats = 5\n",
    "    n_feature_sel_folds = 5\n",
    "    \n",
    "    undersample = False\n",
    "    oversample = False\n",
    "    \n",
    "    nan_impute = False\n",
    "    standard_scale = False\n",
    "    log = False\n",
    "    \n",
    "    # optimization\n",
    "    n_estimators = 3000\n",
    "    early_stopping_rounds = 100\n",
    "    \n",
    "    lgbm_optimize = True\n",
    "    xgb_optimize = False\n",
    "    cb_optimize = False\n",
    "    \n",
    "    n_trials = 500\n",
    "    n_optimize_folds = 5\n",
    "    n_optimize_repeats = 2\n",
    "    \n",
    "    # train\n",
    "    lgbm_train = True\n",
    "    xgb_train = False\n",
    "    cb_train = False\n",
    "    tabpfn_train = False\n",
    "\n",
    "    # inference\n",
    "    n_stacking_folds = 5\n",
    "    n_stacking_models_lgbm = 40\n",
    "    n_stacking_models_xgb = 10\n",
    "    n_stacking_models_cb = 20\n",
    "    n_stacking_models_tabpfn = 20\n",
    "\n",
    "    adjust_class_threshold = False\n",
    "    "
   ]
  },
  {
   "attachments": {},
   "cell_type": "markdown",
   "metadata": {},
   "source": [
    "# Load Data"
   ]
  },
  {
   "cell_type": "code",
   "execution_count": 3,
   "metadata": {
    "execution": {
     "iopub.execute_input": "2023-06-08T15:31:36.001085Z",
     "iopub.status.busy": "2023-06-08T15:31:35.999808Z",
     "iopub.status.idle": "2023-06-08T15:31:36.066222Z",
     "shell.execute_reply": "2023-06-08T15:31:36.064862Z",
     "shell.execute_reply.started": "2023-06-08T15:31:36.001050Z"
    }
   },
   "outputs": [],
   "source": [
    "if CFG.kaggle:\n",
    "    COMP_PATH = \"/kaggle/input/icr-identify-age-related-conditions\"\n",
    "else:\n",
    "    COMP_PATH = \"icr-identify-age-related-conditions\"\n",
    "\n",
    "train_df = pd.read_csv(f'{COMP_PATH}//train.csv')\n",
    "test_df = pd.read_csv(f'{COMP_PATH}/test.csv')\n",
    "greeks = pd.read_csv(f\"{COMP_PATH}/greeks.csv\")\n",
    "sample_submission = pd.read_csv(f\"{COMP_PATH}/sample_submission.csv\")\n",
    "\n",
    "train_df['EJ'] = train_df['EJ'].replace({'A': 0, 'B': 1})\n",
    "test_df['EJ'] = test_df['EJ'].replace({'A': 0, 'B': 1})\n",
    "\n",
    "train_df.columns = train_df.columns.str.replace(' ', '')\n",
    "test_df.columns = test_df.columns.str.replace(' ', '')"
   ]
  },
  {
   "attachments": {},
   "cell_type": "markdown",
   "metadata": {},
   "source": [
    "# Delete erroneus objects"
   ]
  },
  {
   "cell_type": "code",
   "execution_count": 4,
   "metadata": {},
   "outputs": [],
   "source": [
    "if CFG.del_errs:\n",
    "    err_objs = [292, 102, 509, 367, 313, 462, 556]\n",
    "    train_df = train_df.loc[[i for i in train_df.index if i not in err_objs], :].reset_index(drop=True)\n",
    "    greeks = greeks.loc[[i for i in greeks.index if i not in err_objs], :].reset_index(drop=True)\n",
    "\n",
    "class_imbalance = 3 # train_df[train_df['Class'] == 0].shape[0] / train_df[train_df['Class'] == 1].shape[0]"
   ]
  },
  {
   "attachments": {},
   "cell_type": "markdown",
   "metadata": {},
   "source": [
    "# Add distance features"
   ]
  },
  {
   "cell_type": "code",
   "execution_count": 5,
   "metadata": {},
   "outputs": [],
   "source": [
    "# from sklearn.neighbors import NearestNeighbors, KNeighborsClassifier\n",
    "\n",
    "# features = train_df.drop(['Class', 'Id'], axis=1).columns\n",
    "\n",
    "# # average label of 20 Nearest Neighbours (colsine distance)\n",
    "# knn = NearestNeighbors(n_neighbors=10, metric='cosine', n_jobs=-1)\n",
    "# knn.fit(train_df[features].fillna(0))\n",
    "\n",
    "# # train\n",
    "# dists, nears = knn.kneighbors(train_df[features].fillna(0), return_distance=True)\n",
    "# dists, nears = dists[:,1:], nears[:,1:]\n",
    "\n",
    "# classes = np.array([train_df.loc[n, 'Class'] for n in nears])\n",
    "# train_df['class_cos'] = np.array(classes[i].mean() for i in range(len(nears)))\n",
    "# train_df['class_cos'] = train_df['class_cos'].astype(float)\n",
    "\n",
    "# # test\n",
    "# dists, nears = knn.kneighbors(test_df[features].fillna(0), return_distance=True)\n",
    "# dists, nears = dists[:,1:], nears[:,1:]\n",
    "\n",
    "# classes = np.array([train_df.loc[n, 'Class'] for n in nears])\n",
    "# test_df['class_cos'] = np.array(classes[i].mean() for i in range(len(nears)))\n",
    "# test_df['class_cos'] = test_df['class_cos'].astype(float)"
   ]
  },
  {
   "attachments": {},
   "cell_type": "markdown",
   "metadata": {},
   "source": [
    "# Drop not necessary features"
   ]
  },
  {
   "cell_type": "code",
   "execution_count": 6,
   "metadata": {},
   "outputs": [
    {
     "data": {
      "text/plain": [
       "(58, 38, 55)"
      ]
     },
     "execution_count": 6,
     "metadata": {},
     "output_type": "execute_result"
    }
   ],
   "source": [
    "if CFG.fe_drop:\n",
    "    features = [fe for fe in train_df.columns if fe not in ['CF', 'CB', 'DV', 'BR', 'DF', 'GB', 'AH',\n",
    "                                                            'CW', 'CL', 'BP', 'BD', 'FC', 'GE', 'GF',\n",
    "                                                            'AR', 'GI', 'Id', 'Class', 'AX', 'DA']]\n",
    "else:\n",
    "    features = [fe for fe in train_df.columns if fe not in ['Id', 'Class', 'EJ']]\n",
    "\n",
    "num_cols = train_df.select_dtypes(include=['float64']).columns\n",
    "\n",
    "len(train_df.columns), len(features), len(num_cols)"
   ]
  },
  {
   "attachments": {},
   "cell_type": "markdown",
   "metadata": {},
   "source": [
    "# NaN impute"
   ]
  },
  {
   "cell_type": "code",
   "execution_count": 7,
   "metadata": {},
   "outputs": [],
   "source": [
    "from datetime import datetime\n",
    "\n",
    "imp = SimpleImputer(missing_values=np.nan, strategy='median')\n",
    "\n",
    "train_df_tabpfn = train_df.copy()\n",
    "test_df_tabpfn = test_df.copy()\n",
    "\n",
    "train_df_tabpfn[num_cols] = imp.fit_transform(train_df_tabpfn[num_cols])\n",
    "test_df_tabpfn[num_cols] = imp.transform(test_df_tabpfn[num_cols])\n",
    "\n",
    "if CFG.nan_impute:\n",
    "    train_df[num_cols] = train_df_tabpfn[num_cols]\n",
    "    test_df[num_cols] = test_df_tabpfn[num_cols]"
   ]
  },
  {
   "attachments": {},
   "cell_type": "markdown",
   "metadata": {},
   "source": [
    "# Delete outliers"
   ]
  },
  {
   "cell_type": "code",
   "execution_count": 8,
   "metadata": {},
   "outputs": [],
   "source": [
    "features_with_outliers = [fe for fe in train_df.columns if fe not in ['BN', 'BQ', 'CW', 'EL', 'GH', \n",
    "                                                                      'GI', 'GL', 'Id', 'Class', 'EJ']]\n",
    "\n",
    "if CFG.del_outliers:\n",
    "    for f in features_with_outliers:\n",
    "        train_df[f] = train_df[f].clip(upper=train_df[f].quantile(0.99))\n",
    "        test_df[f] = test_df[f].clip(upper=test_df[f].quantile(0.99))\n",
    "\n",
    "if CFG.del_outliers_adj:\n",
    "    from adjdatatools.preprocessing import AdjustedScaler\n",
    "\n",
    "    adj_scaler = AdjustedScaler(with_centering=True)\n",
    "    adj_scaler.fit(train_df[features])\n",
    "    train_df[features] = adj_scaler.transform(train_df[features])\n",
    "    test_df[features] = adj_scaler.transform(test_df[features])"
   ]
  },
  {
   "attachments": {},
   "cell_type": "markdown",
   "metadata": {},
   "source": [
    "# Standard Scale"
   ]
  },
  {
   "cell_type": "code",
   "execution_count": 33,
   "metadata": {},
   "outputs": [],
   "source": [
    "sc = StandardScaler()\n",
    "train_df_tabpfn[num_cols] = sc.fit_transform(train_df_tabpfn[num_cols])\n",
    "test_df_tabpfn[num_cols] = sc.transform(test_df_tabpfn[num_cols])\n",
    "train_df_tabpfn['EJ'] = train_df['EJ']\n",
    "test_df_tabpfn['EJ'] = test_df['EJ']\n",
    "\n",
    "if CFG.standard_scale:\n",
    "    train_df[num_cols] = train_df_tabpfn[num_cols]\n",
    "    test_df[num_cols] = test_df_tabpfn[num_cols]"
   ]
  },
  {
   "attachments": {},
   "cell_type": "markdown",
   "metadata": {},
   "source": [
    "# Log features"
   ]
  },
  {
   "cell_type": "code",
   "execution_count": 10,
   "metadata": {},
   "outputs": [],
   "source": [
    "if CFG.log:\n",
    "    train_df[num_cols] = np.log1p(train_df[num_cols])\n",
    "    test_df[num_cols] = np.log1p(test_df[num_cols])\n",
    "\n",
    "# for f in features:\n",
    "#     train_df[f] = np.sign(train_df[f]) * np.log1p(np.abs(train_df[f])) # no significant result for LGBM"
   ]
  },
  {
   "attachments": {},
   "cell_type": "markdown",
   "metadata": {},
   "source": [
    "# LGBM feature selection"
   ]
  },
  {
   "cell_type": "code",
   "execution_count": 11,
   "metadata": {
    "execution": {
     "iopub.execute_input": "2023-06-08T15:32:41.223344Z",
     "iopub.status.busy": "2023-06-08T15:32:41.222954Z"
    },
    "scrolled": true
   },
   "outputs": [],
   "source": [
    "def balanced_log_loss(y_true, y_pred):\n",
    "\n",
    "    # Nc is the number of observations\n",
    "    N_1 = np.sum(y_true == 1, axis=0)\n",
    "    N_0 = np.sum(y_true == 0, axis=0)\n",
    "\n",
    "    N_inv_0 = 1/N_0 if N_0 > 0 else 0\n",
    "    N_inv_1 = 1/N_1 if N_1 > 0 else 0\n",
    "\n",
    "    # In order to avoid the extremes of the log function, each predicted probability 𝑝 is replaced with max(min(𝑝,1−10−15),10−15)\n",
    "    y_pred = np.clip(y_pred, 1e-15, 1 - 1e-15)\n",
    "\n",
    "    # balanced logarithmic loss\n",
    "    loss_numerator = - N_inv_0 * np.sum((1 - y_true) * np.log(1 - y_pred)) - N_inv_1 * np.sum(y_true * np.log(y_pred))\n",
    "\n",
    "    return loss_numerator / 2\n",
    "\n",
    "if not CFG.kaggle:\n",
    "\n",
    "    from shaphypetune import BoostBoruta\n",
    "\n",
    "    params = {\n",
    "                'n_estimators': CFG.n_estimators,\n",
    "                'early_stopping_round': CFG.early_stopping_rounds,\n",
    "                'objective': 'binary',\n",
    "                'metric': 'logloss', \n",
    "                'n_jobs': -1,\n",
    "                'is_unbalance':True, \n",
    "                'class_weight':'balanced', \n",
    "                'verbose': -1,\n",
    "                'seed': 19062023,\n",
    "            }\n",
    "\n",
    "    def bll_metric(y_true, y_pred):\n",
    "        return 'balanced_log_loss', balanced_log_loss(y_true, y_pred), False\n",
    "\n",
    "    def lgbm_tuning(features, permut=False, boruta=False):\n",
    "        metric = balanced_log_loss\n",
    "        eval_results_ = {}\n",
    "\n",
    "        cv_scores = [] # store all cv scores of outer loop inference\n",
    "\n",
    "        perm_df_ = pd.DataFrame()\n",
    "        feature_importances_ = pd.DataFrame()\n",
    "        boruta_df_ = pd.DataFrame()\n",
    "        \n",
    "        for i in range(CFG.n_feature_sel_repeats):\n",
    "            print(f'Repeat {blu}#{i+1}')\n",
    "            \n",
    "            # Make random under-sampling to balance classes\n",
    "            positive_count_train = train_df['Class'].value_counts()[1]\n",
    "            sampler = RandomUnderSampler(sampling_strategy={0: positive_count_train * 3, \n",
    "                                                            1: positive_count_train}, \n",
    "                                        random_state=15062023+i, \n",
    "                                        replacement=True)\n",
    "\n",
    "            X_re, y_re = pd.concat([train_df[features], greeks.iloc[:,1:4]], axis=1), train_df['Class']\n",
    "            \n",
    "            if CFG.undersample:\n",
    "                X_re, y_re = sampler.fit_resample(X_re, y_re)\n",
    "            \n",
    "            # Create Stratified Multilabel k-Fold scheme\n",
    "            kf = MultilabelStratifiedKFold(n_splits=CFG.n_feature_sel_folds, shuffle=True, random_state=8062023+i)\n",
    "\n",
    "            # Create an oof array for inner loop\n",
    "            oof = np.zeros(X_re.shape[0])\n",
    "            \n",
    "            # Stratify based on Class and Alpha (3 types of conditions)\n",
    "            for fold, (train_idx, val_idx) in enumerate(kf.split(X=X_re[features], y=X_re.iloc[:,-3:]), start = 1): \n",
    "                X, y = X_re[features], y_re\n",
    "\n",
    "                # Split the dataset according to the fold indexes.\n",
    "                X_train = X.iloc[train_idx]\n",
    "                X_val = X.iloc[val_idx]\n",
    "                y_train = y.iloc[train_idx]\n",
    "                y_val = y.iloc[val_idx]\n",
    "\n",
    "\n",
    "                X_train = X_train.reset_index(drop=True)\n",
    "                y_train = y_train.reset_index(drop=True)\n",
    "\n",
    "                # Store models here\n",
    "                models_ = [] \n",
    "\n",
    "                eval_results_[fold]= {}\n",
    "\n",
    "                clf = lgb.LGBMClassifier(**params)\n",
    "                clf.fit(X_train, y_train, eval_set=[(X_val, y_val)], eval_metric=bll_metric, verbose=0)\n",
    "\n",
    "                models_.append(clf)\n",
    "\n",
    "                val_preds = clf.predict_proba(X_val)[:,1]\n",
    "                oof[val_idx] = val_preds\n",
    "\n",
    "                val_score = metric(y_val, val_preds)\n",
    "                best_iter = clf.best_iteration_\n",
    "\n",
    "                print(f'Fold: {blu}{fold:>3}{res}| {metric.__name__}: {blu}{val_score:.5f}{res}'\n",
    "                    f' | Best iteration: {blu}{best_iter:>4}{res}')\n",
    "\n",
    "                # permutation importance\n",
    "                if permut:\n",
    "                    perm = PermutationImportance(clf, scoring=None, n_iter=1, \n",
    "                                                random_state=42, cv=None, refit=False).fit(X_val, y_val)\n",
    "\n",
    "                    perm_importance_df = pd.DataFrame({'importance': perm.feature_importances_}, \n",
    "                                                    index=X_val.columns).sort_index()\n",
    "\n",
    "                    if perm_df_.shape[0] == 0:\n",
    "                        perm_df_ = perm_importance_df.copy()\n",
    "                    else:\n",
    "                        perm_df_ += perm_importance_df\n",
    "\n",
    "                # tree feature importance\n",
    "                f_i = pd.DataFrame(sorted(zip(clf.feature_importances_, X.columns), \n",
    "                                                reverse=True, key=lambda x: x[1]), \n",
    "                                columns=['Value','Feature'])\n",
    "\n",
    "                if feature_importances_.shape[0] == 0:\n",
    "                    feature_importances_ = f_i.copy()\n",
    "                else:\n",
    "\n",
    "                    feature_importances_['Value'] += f_i['Value']\n",
    "\n",
    "                # Boruta SHAP importance\n",
    "                if boruta:\n",
    "                    model = BoostBoruta(clf, importance_type='shap_importances', train_importance=False)\n",
    "                    model.fit(X_train, y_train, eval_set=[(X_val, y_val)], eval_metric=bll_metric, verbose=0)\n",
    "\n",
    "                    boruta_importance_df = pd.DataFrame({'importance': model.ranking_}, index=X_train.columns).sort_index()\n",
    "                    if boruta_df_.shape[0] == 0:\n",
    "                        boruta_df_ = boruta_importance_df.copy()\n",
    "                    else:\n",
    "                        boruta_df_ += boruta_importance_df\n",
    "\n",
    "            fold_cv_score = metric(y_re, oof)\n",
    "            print(f'{red} CV score: {res} {metric.__name__}: {red}{fold_cv_score:.5f}{res}')\n",
    "            print(f'{\"*\" * 50}\\n')\n",
    "            cv_scores.append(fold_cv_score)\n",
    "\n",
    "\n",
    "        print(f'{red} Avg score {CFG.n_feature_sel_folds}-fold: {res} {metric.__name__}: {red}{np.mean(cv_scores):.5f}{res}')\n",
    "        print(f'{\"*\" * 50}\\n')\n",
    "        \n",
    "        if permut:\n",
    "            perm_df_ = perm_df_.sort_values('importance', ascending=False)\n",
    "            \n",
    "        if boruta:\n",
    "            boruta_df_ = boruta_df_.sort_values('importance')\n",
    "                                        \n",
    "        feature_importances_ = feature_importances_.sort_values('Value', ascending=False)\n",
    "        \n",
    "        return perm_df_, feature_importances_, boruta_df_, np.mean(cv_scores)\n",
    "\n",
    "    if CFG.feature_sel:\n",
    "        perm_df_, feature_importances_, boruta_df_, cv_scores = lgbm_tuning(features, permut=True, boruta=True)"
   ]
  },
  {
   "attachments": {},
   "cell_type": "markdown",
   "metadata": {},
   "source": [
    "# Check features correlation"
   ]
  },
  {
   "cell_type": "code",
   "execution_count": 12,
   "metadata": {
    "scrolled": false
   },
   "outputs": [],
   "source": [
    "if CFG.feature_sel:\n",
    "    col = 'DA'\n",
    "    x = train_df[train_df[col] <= train_df[col].quantile(0.99)]\n",
    "    cm = x[[c for c in train_df.columns if c not in ['Id', 'Class']]].corr()\n",
    "    display(np.abs(cm[col]).sort_values(ascending=False)[1:])"
   ]
  },
  {
   "attachments": {},
   "cell_type": "markdown",
   "metadata": {},
   "source": [
    "# Analyze permutation feature importance"
   ]
  },
  {
   "cell_type": "code",
   "execution_count": 13,
   "metadata": {
    "execution": {
     "iopub.execute_input": "2023-06-08T15:32:11.619184Z",
     "iopub.status.busy": "2023-06-08T15:32:11.618864Z",
     "iopub.status.idle": "2023-06-08T15:32:11.652915Z",
     "shell.execute_reply": "2023-06-08T15:32:11.652069Z",
     "shell.execute_reply.started": "2023-06-08T15:32:11.619157Z"
    },
    "scrolled": false
   },
   "outputs": [],
   "source": [
    "if CFG.feature_sel:\n",
    "    perm_df_.to_csv('perm_df.csv')\n",
    "    perm_df_\n",
    "    perm_cols = set(perm_df_.index[-35:])\n",
    "    display(perm_cols)"
   ]
  },
  {
   "cell_type": "code",
   "execution_count": 14,
   "metadata": {},
   "outputs": [],
   "source": [
    "# x = pd.read_csv('perm_df.csv', index_col='Unnamed: 0')\n",
    "# x['feature'] = x.index.copy()\n",
    "# x = x.reset_index(drop=True)\n",
    "# x['rank'] = x['importance'].rank()\n",
    "# x = x[['feature', 'rank']]"
   ]
  },
  {
   "attachments": {},
   "cell_type": "markdown",
   "metadata": {},
   "source": [
    "# Analyze tree gain feature importance"
   ]
  },
  {
   "cell_type": "code",
   "execution_count": 15,
   "metadata": {
    "execution": {
     "iopub.execute_input": "2023-06-08T15:32:11.654626Z",
     "iopub.status.busy": "2023-06-08T15:32:11.654102Z",
     "iopub.status.idle": "2023-06-08T15:32:11.669674Z",
     "shell.execute_reply": "2023-06-08T15:32:11.668840Z",
     "shell.execute_reply.started": "2023-06-08T15:32:11.654583Z"
    },
    "scrolled": false
   },
   "outputs": [],
   "source": [
    "if CFG.feature_sel:\n",
    "    feature_importances_.to_csv('feature_importances.csv')\n",
    "    feature_importances_\n",
    "    fi_cols = set(feature_importances_['Feature'].values[-23:])\n",
    "    display(fi_cols)"
   ]
  },
  {
   "cell_type": "code",
   "execution_count": 16,
   "metadata": {},
   "outputs": [],
   "source": [
    "# y = pd.read_csv('feature_importances.csv')\n",
    "# y['feature'] = y['Feature']\n",
    "# y = y.reset_index(drop=True)\n",
    "# y['rank'] = y['Value'].rank()\n",
    "# y = y[['feature', 'rank']]"
   ]
  },
  {
   "attachments": {},
   "cell_type": "markdown",
   "metadata": {},
   "source": [
    "# Analyze BORUTA importance"
   ]
  },
  {
   "cell_type": "code",
   "execution_count": 17,
   "metadata": {},
   "outputs": [],
   "source": [
    "if CFG.feature_sel:\n",
    "    boruta_df_.to_csv('boruta_df_.csv')\n",
    "    boruta_df_\n",
    "    boruta_cols = set(boruta_df_.index[-35:])\n",
    "    display(boruta_cols)"
   ]
  },
  {
   "cell_type": "code",
   "execution_count": 18,
   "metadata": {},
   "outputs": [],
   "source": [
    "# z = pd.read_csv('boruta_df_.csv', index_col='Unnamed: 0')\n",
    "# z['feature'] = z.index.copy()\n",
    "# z = z.reset_index(drop=True)\n",
    "# z['rank'] = z['importance'].rank(ascending=False)\n",
    "# z = z[['feature', 'rank']]"
   ]
  },
  {
   "attachments": {},
   "cell_type": "markdown",
   "metadata": {},
   "source": [
    "# Sort all features according to their importance"
   ]
  },
  {
   "cell_type": "code",
   "execution_count": 19,
   "metadata": {},
   "outputs": [],
   "source": [
    "# a = pd.concat([x, y, z])\n",
    "# a = a[['feature', 'rank']]\n",
    "# res = a.groupby('feature')['rank'].sum().sort_values(ascending=False)#.index.to_list()\n",
    "# res"
   ]
  },
  {
   "attachments": {},
   "cell_type": "markdown",
   "metadata": {},
   "source": [
    "# LGBM Optuna optimization"
   ]
  },
  {
   "cell_type": "code",
   "execution_count": 20,
   "metadata": {
    "scrolled": true
   },
   "outputs": [
    {
     "name": "stderr",
     "output_type": "stream",
     "text": [
      "[I 2023-06-29 13:14:06,334] A new study created in memory with name: no-name-0ee9eb82-519a-475e-8d2c-a48f7fe6d195\n"
     ]
    },
    {
     "name": "stdout",
     "output_type": "stream",
     "text": [
      "Repeat \u001b[1m\u001b[34m#1\n",
      "Repeat \u001b[1m\u001b[34m#2\n"
     ]
    },
    {
     "name": "stderr",
     "output_type": "stream",
     "text": [
      "[I 2023-06-29 13:14:09,851] Trial 0 finished with value: 0.4071582514538665 and parameters: {'boosting_type': 'goss', 'learning_rate': 0.005048082013483599, 'reg_alpha': 2.818307318482172e-08, 'reg_lambda': 0.00020034812743883923, 'max_depth': 8, 'num_leaves': 91, 'colsample_bytree': 0.6576461630527592, 'min_child_samples': 51, 'max_bin': 252, 'subsample_freq': 4}. Best is trial 0 with value: 0.4071582514538665.\n"
     ]
    },
    {
     "name": "stdout",
     "output_type": "stream",
     "text": [
      "Repeat \u001b[1m\u001b[34m#1\n",
      "Repeat \u001b[1m\u001b[34m#2\n"
     ]
    },
    {
     "name": "stderr",
     "output_type": "stream",
     "text": [
      "[I 2023-06-29 13:14:24,817] Trial 1 finished with value: 0.21017460085268774 and parameters: {'boosting_type': 'goss', 'learning_rate': 0.00394783907043978, 'reg_alpha': 0.00011752654746514142, 'reg_lambda': 2.2379888407845533e-05, 'max_depth': 6, 'num_leaves': 112, 'colsample_bytree': 0.5375863359991689, 'min_child_samples': 22, 'max_bin': 149, 'subsample_freq': 4}. Best is trial 1 with value: 0.21017460085268774.\n"
     ]
    },
    {
     "name": "stdout",
     "output_type": "stream",
     "text": [
      "Repeat \u001b[1m\u001b[34m#1\n",
      "Repeat \u001b[1m\u001b[34m#2\n"
     ]
    },
    {
     "name": "stderr",
     "output_type": "stream",
     "text": [
      "[I 2023-06-29 13:14:26,579] Trial 2 finished with value: 0.4333434843020717 and parameters: {'boosting_type': 'goss', 'learning_rate': 0.012398978036784301, 'reg_alpha': 1.9307131915563372e-07, 'reg_lambda': 0.003062411675046637, 'max_depth': 9, 'num_leaves': 24, 'colsample_bytree': 0.637297333332486, 'min_child_samples': 60, 'max_bin': 32, 'subsample_freq': 4}. Best is trial 1 with value: 0.21017460085268774.\n"
     ]
    },
    {
     "name": "stdout",
     "output_type": "stream",
     "text": [
      "Repeat \u001b[1m\u001b[34m#1\n",
      "Repeat \u001b[1m\u001b[34m#2\n"
     ]
    },
    {
     "name": "stderr",
     "output_type": "stream",
     "text": [
      "[I 2023-06-29 13:14:27,161] Trial 3 finished with value: 0.49248767436974006 and parameters: {'boosting_type': 'goss', 'learning_rate': 0.028572280833925212, 'reg_alpha': 2.183733127818353e-06, 'reg_lambda': 7.721431767428818e-07, 'max_depth': 8, 'num_leaves': 14, 'colsample_bytree': 0.5254322251199846, 'min_child_samples': 83, 'max_bin': 88, 'subsample_freq': 7}. Best is trial 1 with value: 0.21017460085268774.\n"
     ]
    },
    {
     "name": "stdout",
     "output_type": "stream",
     "text": [
      "Repeat \u001b[1m\u001b[34m#1\n",
      "Repeat \u001b[1m\u001b[34m#2\n"
     ]
    },
    {
     "name": "stderr",
     "output_type": "stream",
     "text": [
      "[I 2023-06-29 13:14:38,467] Trial 4 finished with value: 0.2550168207529927 and parameters: {'boosting_type': 'goss', 'learning_rate': 0.0033310172562776843, 'reg_alpha': 1.0991934889541415, 'reg_lambda': 0.10214282561807103, 'max_depth': 6, 'num_leaves': 54, 'colsample_bytree': 0.43499703755122987, 'min_child_samples': 35, 'max_bin': 91, 'subsample_freq': 4}. Best is trial 1 with value: 0.21017460085268774.\n"
     ]
    },
    {
     "name": "stdout",
     "output_type": "stream",
     "text": [
      "Repeat \u001b[1m\u001b[34m#1\n",
      "Repeat \u001b[1m\u001b[34m#2\n"
     ]
    },
    {
     "name": "stderr",
     "output_type": "stream",
     "text": [
      "[I 2023-06-29 13:14:44,254] Trial 5 finished with value: 0.19871605750046137 and parameters: {'boosting_type': 'goss', 'learning_rate': 0.01212012955456143, 'reg_alpha': 4.843986415562873e-06, 'reg_lambda': 7.755794719835908e-07, 'max_depth': 6, 'num_leaves': 64, 'colsample_bytree': 0.4164942327927124, 'min_child_samples': 16, 'max_bin': 62, 'subsample_freq': 3}. Best is trial 5 with value: 0.19871605750046137.\n"
     ]
    },
    {
     "name": "stdout",
     "output_type": "stream",
     "text": [
      "Repeat \u001b[1m\u001b[34m#1\n"
     ]
    },
    {
     "name": "stderr",
     "output_type": "stream",
     "text": [
      "[I 2023-06-29 13:14:44,759] Trial 6 finished with value: 0.49195698962932494 and parameters: {'boosting_type': 'goss', 'learning_rate': 0.05690609813801143, 'reg_alpha': 0.006441748584988748, 'reg_lambda': 0.0007351548612854903, 'max_depth': 8, 'num_leaves': 56, 'colsample_bytree': 0.5106738578260506, 'min_child_samples': 98, 'max_bin': 244, 'subsample_freq': 2}. Best is trial 5 with value: 0.19871605750046137.\n"
     ]
    },
    {
     "name": "stdout",
     "output_type": "stream",
     "text": [
      "Repeat \u001b[1m\u001b[34m#2\n",
      "Repeat \u001b[1m\u001b[34m#1\n",
      "Repeat \u001b[1m\u001b[34m#2\n"
     ]
    },
    {
     "name": "stderr",
     "output_type": "stream",
     "text": [
      "[I 2023-06-29 13:14:50,949] Trial 7 finished with value: 0.347375552208789 and parameters: {'boosting_type': 'goss', 'learning_rate': 0.004174332221156138, 'reg_alpha': 2.2093378705388096e-06, 'reg_lambda': 2.783493846393305e-05, 'max_depth': 8, 'num_leaves': 82, 'colsample_bytree': 0.6802489911110248, 'min_child_samples': 48, 'max_bin': 136, 'subsample_freq': 5}. Best is trial 5 with value: 0.19871605750046137.\n"
     ]
    },
    {
     "name": "stdout",
     "output_type": "stream",
     "text": [
      "Repeat \u001b[1m\u001b[34m#1\n",
      "Repeat \u001b[1m\u001b[34m#2\n"
     ]
    },
    {
     "name": "stderr",
     "output_type": "stream",
     "text": [
      "[I 2023-06-29 13:14:52,152] Trial 8 finished with value: 0.49960375503137433 and parameters: {'boosting_type': 'goss', 'learning_rate': 0.005886435910050269, 'reg_alpha': 1.2631703381893597e-06, 'reg_lambda': 0.015295095943145006, 'max_depth': 5, 'num_leaves': 49, 'colsample_bytree': 0.30318560218161844, 'min_child_samples': 67, 'max_bin': 187, 'subsample_freq': 6}. Best is trial 5 with value: 0.19871605750046137.\n"
     ]
    },
    {
     "name": "stdout",
     "output_type": "stream",
     "text": [
      "Repeat \u001b[1m\u001b[34m#1\n",
      "Repeat \u001b[1m\u001b[34m#2\n"
     ]
    },
    {
     "name": "stderr",
     "output_type": "stream",
     "text": [
      "[I 2023-06-29 13:14:55,190] Trial 9 finished with value: 0.21100891659591484 and parameters: {'boosting_type': 'goss', 'learning_rate': 0.0448858283002462, 'reg_alpha': 2.8753284179625025, 'reg_lambda': 5.873483245974122e-08, 'max_depth': 8, 'num_leaves': 12, 'colsample_bytree': 0.5263941078087334, 'min_child_samples': 19, 'max_bin': 161, 'subsample_freq': 3}. Best is trial 5 with value: 0.19871605750046137.\n"
     ]
    },
    {
     "name": "stdout",
     "output_type": "stream",
     "text": [
      "Repeat \u001b[1m\u001b[34m#1\n",
      "Repeat \u001b[1m\u001b[34m#2\n"
     ]
    },
    {
     "name": "stderr",
     "output_type": "stream",
     "text": [
      "[I 2023-06-29 13:15:09,419] Trial 10 finished with value: 0.29046251849677707 and parameters: {'boosting_type': 'goss', 'learning_rate': 0.0014775918896964616, 'reg_alpha': 7.647084297906049e-05, 'reg_lambda': 7.0653015329028195, 'max_depth': 5, 'num_leaves': 127, 'colsample_bytree': 0.40205982229821546, 'min_child_samples': 9, 'max_bin': 32, 'subsample_freq': 1}. Best is trial 5 with value: 0.19871605750046137.\n"
     ]
    },
    {
     "name": "stdout",
     "output_type": "stream",
     "text": [
      "Repeat \u001b[1m\u001b[34m#1\n",
      "Repeat \u001b[1m\u001b[34m#2\n"
     ]
    },
    {
     "name": "stderr",
     "output_type": "stream",
     "text": [
      "[I 2023-06-29 13:15:14,275] Trial 11 finished with value: 0.20539534558332204 and parameters: {'boosting_type': 'goss', 'learning_rate': 0.013549685956728808, 'reg_alpha': 0.00025483741433786236, 'reg_lambda': 2.4979154420899813e-06, 'max_depth': 6, 'num_leaves': 118, 'colsample_bytree': 0.5872766335062607, 'min_child_samples': 26, 'max_bin': 111, 'subsample_freq': 2}. Best is trial 5 with value: 0.19871605750046137.\n"
     ]
    },
    {
     "name": "stdout",
     "output_type": "stream",
     "text": [
      "Repeat \u001b[1m\u001b[34m#1\n",
      "Repeat \u001b[1m\u001b[34m#2\n"
     ]
    },
    {
     "name": "stderr",
     "output_type": "stream",
     "text": [
      "[I 2023-06-29 13:15:19,105] Trial 12 finished with value: 0.2131503471960483 and parameters: {'boosting_type': 'goss', 'learning_rate': 0.016866437532596264, 'reg_alpha': 0.0023726205050948654, 'reg_lambda': 2.4397362229513046e-08, 'max_depth': 6, 'num_leaves': 80, 'colsample_bytree': 0.5789474196320897, 'min_child_samples': 32, 'max_bin': 94, 'subsample_freq': 2}. Best is trial 5 with value: 0.19871605750046137.\n"
     ]
    },
    {
     "name": "stdout",
     "output_type": "stream",
     "text": [
      "Repeat \u001b[1m\u001b[34m#1\n",
      "Repeat \u001b[1m\u001b[34m#2\n"
     ]
    },
    {
     "name": "stderr",
     "output_type": "stream",
     "text": [
      "[I 2023-06-29 13:15:23,255] Trial 13 finished with value: 0.19503047898622417 and parameters: {'boosting_type': 'goss', 'learning_rate': 0.021327278152905034, 'reg_alpha': 3.072120803554554e-05, 'reg_lambda': 8.360003344213001e-07, 'max_depth': 7, 'num_leaves': 103, 'colsample_bytree': 0.6106340783718567, 'min_child_samples': 6, 'max_bin': 68, 'subsample_freq': 1}. Best is trial 13 with value: 0.19503047898622417.\n"
     ]
    },
    {
     "name": "stdout",
     "output_type": "stream",
     "text": [
      "Repeat \u001b[1m\u001b[34m#1\n",
      "Repeat \u001b[1m\u001b[34m#2\n"
     ]
    },
    {
     "name": "stderr",
     "output_type": "stream",
     "text": [
      "[I 2023-06-29 13:15:25,007] Trial 14 finished with value: 0.19600037562095488 and parameters: {'boosting_type': 'goss', 'learning_rate': 0.08734896012123032, 'reg_alpha': 1.1648906891066156e-05, 'reg_lambda': 3.9649686895987913e-07, 'max_depth': 7, 'num_leaves': 99, 'colsample_bytree': 0.4494914380641644, 'min_child_samples': 9, 'max_bin': 66, 'subsample_freq': 1}. Best is trial 13 with value: 0.19503047898622417.\n"
     ]
    },
    {
     "name": "stdout",
     "output_type": "stream",
     "text": [
      "Repeat \u001b[1m\u001b[34m#1\n",
      "Repeat \u001b[1m\u001b[34m#2\n"
     ]
    },
    {
     "name": "stderr",
     "output_type": "stream",
     "text": [
      "[I 2023-06-29 13:15:26,600] Trial 15 finished with value: 0.19918070391056336 and parameters: {'boosting_type': 'goss', 'learning_rate': 0.08682079842012617, 'reg_alpha': 1.1743749000991823e-08, 'reg_lambda': 1.2189647002733606e-08, 'max_depth': 7, 'num_leaves': 98, 'colsample_bytree': 0.45990990365486534, 'min_child_samples': 9, 'max_bin': 61, 'subsample_freq': 1}. Best is trial 13 with value: 0.19503047898622417.\n"
     ]
    },
    {
     "name": "stdout",
     "output_type": "stream",
     "text": [
      "Repeat \u001b[1m\u001b[34m#1\n",
      "Repeat \u001b[1m\u001b[34m#2\n"
     ]
    },
    {
     "name": "stderr",
     "output_type": "stream",
     "text": [
      "[I 2023-06-29 13:15:30,204] Trial 16 finished with value: 0.1975400129591115 and parameters: {'boosting_type': 'goss', 'learning_rate': 0.027177455352334214, 'reg_alpha': 2.036819661618607e-05, 'reg_lambda': 2.407821616132449e-07, 'max_depth': 7, 'num_leaves': 107, 'colsample_bytree': 0.6019383185891292, 'min_child_samples': 5, 'max_bin': 61, 'subsample_freq': 1}. Best is trial 13 with value: 0.19503047898622417.\n"
     ]
    },
    {
     "name": "stdout",
     "output_type": "stream",
     "text": [
      "Repeat \u001b[1m\u001b[34m#1\n",
      "Repeat \u001b[1m\u001b[34m#2\n"
     ]
    },
    {
     "name": "stderr",
     "output_type": "stream",
     "text": [
      "[I 2023-06-29 13:15:31,575] Trial 17 finished with value: 0.21204932729870962 and parameters: {'boosting_type': 'goss', 'learning_rate': 0.09949284975420154, 'reg_alpha': 0.0014912444721373963, 'reg_lambda': 4.397321520494342e-06, 'max_depth': 7, 'num_leaves': 78, 'colsample_bytree': 0.4668860723722651, 'min_child_samples': 39, 'max_bin': 200, 'subsample_freq': 2}. Best is trial 13 with value: 0.19503047898622417.\n"
     ]
    },
    {
     "name": "stdout",
     "output_type": "stream",
     "text": [
      "Repeat \u001b[1m\u001b[34m#1\n",
      "Repeat \u001b[1m\u001b[34m#2\n"
     ]
    },
    {
     "name": "stderr",
     "output_type": "stream",
     "text": [
      "[I 2023-06-29 13:15:33,363] Trial 18 finished with value: 0.39170869446819623 and parameters: {'boosting_type': 'goss', 'learning_rate': 0.04801137345467017, 'reg_alpha': 0.022452261477676098, 'reg_lambda': 1.2300256410403186e-07, 'max_depth': 7, 'num_leaves': 97, 'colsample_bytree': 0.6865218810330245, 'min_child_samples': 72, 'max_bin': 122, 'subsample_freq': 1}. Best is trial 13 with value: 0.19503047898622417.\n"
     ]
    },
    {
     "name": "stdout",
     "output_type": "stream",
     "text": [
      "Repeat \u001b[1m\u001b[34m#1\n",
      "Repeat \u001b[1m\u001b[34m#2\n"
     ]
    },
    {
     "name": "stderr",
     "output_type": "stream",
     "text": [
      "[I 2023-06-29 13:15:36,574] Trial 19 finished with value: 0.21201375203035597 and parameters: {'boosting_type': 'goss', 'learning_rate': 0.026734815754460906, 'reg_alpha': 2.2565106226407944e-05, 'reg_lambda': 1.9281281580902193e-07, 'max_depth': 9, 'num_leaves': 37, 'colsample_bytree': 0.6230420227498941, 'min_child_samples': 43, 'max_bin': 71, 'subsample_freq': 3}. Best is trial 13 with value: 0.19503047898622417.\n"
     ]
    },
    {
     "name": "stdout",
     "output_type": "stream",
     "text": [
      "Repeat \u001b[1m\u001b[34m#1\n",
      "Repeat \u001b[1m\u001b[34m#2\n"
     ]
    },
    {
     "name": "stderr",
     "output_type": "stream",
     "text": [
      "[I 2023-06-29 13:15:38,252] Trial 20 finished with value: 0.19333450874751132 and parameters: {'boosting_type': 'goss', 'learning_rate': 0.06576877327390576, 'reg_alpha': 2.8422708395840016e-07, 'reg_lambda': 1.0032094276302424e-05, 'max_depth': 7, 'num_leaves': 125, 'colsample_bytree': 0.5730066756653489, 'min_child_samples': 28, 'max_bin': 44, 'subsample_freq': 5}. Best is trial 20 with value: 0.19333450874751132.\n"
     ]
    },
    {
     "name": "stdout",
     "output_type": "stream",
     "text": [
      "Repeat \u001b[1m\u001b[34m#1\n",
      "Repeat \u001b[1m\u001b[34m#2\n"
     ]
    },
    {
     "name": "stderr",
     "output_type": "stream",
     "text": [
      "[I 2023-06-29 13:15:39,895] Trial 21 finished with value: 0.19561963019056114 and parameters: {'boosting_type': 'goss', 'learning_rate': 0.06689070096442852, 'reg_alpha': 2.2233477605233858e-07, 'reg_lambda': 8.344243822644825e-06, 'max_depth': 7, 'num_leaves': 128, 'colsample_bytree': 0.5898410523818907, 'min_child_samples': 15, 'max_bin': 43, 'subsample_freq': 5}. Best is trial 20 with value: 0.19333450874751132.\n"
     ]
    },
    {
     "name": "stdout",
     "output_type": "stream",
     "text": [
      "Repeat \u001b[1m\u001b[34m#1\n",
      "Repeat \u001b[1m\u001b[34m#2\n"
     ]
    },
    {
     "name": "stderr",
     "output_type": "stream",
     "text": [
      "[I 2023-06-29 13:15:41,843] Trial 22 finished with value: 0.20084786237508584 and parameters: {'boosting_type': 'goss', 'learning_rate': 0.059988801625237134, 'reg_alpha': 2.2278277808294764e-07, 'reg_lambda': 7.822475221363597e-06, 'max_depth': 7, 'num_leaves': 128, 'colsample_bytree': 0.5653774293567408, 'min_child_samples': 26, 'max_bin': 44, 'subsample_freq': 5}. Best is trial 20 with value: 0.19333450874751132.\n"
     ]
    },
    {
     "name": "stdout",
     "output_type": "stream",
     "text": [
      "Repeat \u001b[1m\u001b[34m#1\n",
      "Repeat \u001b[1m\u001b[34m#2\n"
     ]
    },
    {
     "name": "stderr",
     "output_type": "stream",
     "text": [
      "[I 2023-06-29 13:15:44,509] Trial 23 finished with value: 0.198945065893227 and parameters: {'boosting_type': 'goss', 'learning_rate': 0.03129801439521874, 'reg_alpha': 2.0558386659968425e-07, 'reg_lambda': 5.365496483617179e-05, 'max_depth': 7, 'num_leaves': 114, 'colsample_bytree': 0.6201292911258277, 'min_child_samples': 14, 'max_bin': 47, 'subsample_freq': 5}. Best is trial 20 with value: 0.19333450874751132.\n"
     ]
    },
    {
     "name": "stdout",
     "output_type": "stream",
     "text": [
      "Repeat \u001b[1m\u001b[34m#1\n",
      "Repeat \u001b[1m\u001b[34m#2\n"
     ]
    },
    {
     "name": "stderr",
     "output_type": "stream",
     "text": [
      "[I 2023-06-29 13:15:48,981] Trial 24 finished with value: 0.20266198889604525 and parameters: {'boosting_type': 'goss', 'learning_rate': 0.018500138664958334, 'reg_alpha': 7.398176292387441e-07, 'reg_lambda': 4.409371669436007e-06, 'max_depth': 7, 'num_leaves': 121, 'colsample_bytree': 0.5656506130379865, 'min_child_samples': 29, 'max_bin': 82, 'subsample_freq': 6}. Best is trial 20 with value: 0.19333450874751132.\n"
     ]
    },
    {
     "name": "stdout",
     "output_type": "stream",
     "text": [
      "Repeat \u001b[1m\u001b[34m#1\n",
      "Repeat \u001b[1m\u001b[34m#2\n"
     ]
    },
    {
     "name": "stderr",
     "output_type": "stream",
     "text": [
      "[I 2023-06-29 13:15:51,396] Trial 25 finished with value: 0.20358983458390417 and parameters: {'boosting_type': 'goss', 'learning_rate': 0.03933854576360853, 'reg_alpha': 5.1489077445991355e-08, 'reg_lambda': 3.952044423882072e-05, 'max_depth': 8, 'num_leaves': 108, 'colsample_bytree': 0.662086486847816, 'min_child_samples': 17, 'max_bin': 108, 'subsample_freq': 6}. Best is trial 20 with value: 0.19333450874751132.\n"
     ]
    },
    {
     "name": "stdout",
     "output_type": "stream",
     "text": [
      "Repeat \u001b[1m\u001b[34m#1\n",
      "Repeat \u001b[1m\u001b[34m#2\n"
     ]
    },
    {
     "name": "stderr",
     "output_type": "stream",
     "text": [
      "[I 2023-06-29 13:15:52,772] Trial 26 finished with value: 0.20418696076403842 and parameters: {'boosting_type': 'goss', 'learning_rate': 0.07126024420474654, 'reg_alpha': 4.703164460504294e-07, 'reg_lambda': 1.0836000723514386e-06, 'max_depth': 6, 'num_leaves': 127, 'colsample_bytree': 0.6042422766635052, 'min_child_samples': 24, 'max_bin': 45, 'subsample_freq': 7}. Best is trial 20 with value: 0.19333450874751132.\n"
     ]
    },
    {
     "name": "stdout",
     "output_type": "stream",
     "text": [
      "Repeat \u001b[1m\u001b[34m#1\n",
      "Repeat \u001b[1m\u001b[34m#2\n"
     ]
    },
    {
     "name": "stderr",
     "output_type": "stream",
     "text": [
      "[I 2023-06-29 13:15:54,919] Trial 27 finished with value: 0.1996592337444499 and parameters: {'boosting_type': 'goss', 'learning_rate': 0.06601387918477684, 'reg_alpha': 6.158377832859314e-08, 'reg_lambda': 5.823278775256187e-06, 'max_depth': 7, 'num_leaves': 105, 'colsample_bytree': 0.6408098738446546, 'min_child_samples': 5, 'max_bin': 75, 'subsample_freq': 5}. Best is trial 20 with value: 0.19333450874751132.\n"
     ]
    },
    {
     "name": "stdout",
     "output_type": "stream",
     "text": [
      "Repeat \u001b[1m\u001b[34m#1\n",
      "Repeat \u001b[1m\u001b[34m#2\n"
     ]
    },
    {
     "name": "stderr",
     "output_type": "stream",
     "text": [
      "[I 2023-06-29 13:15:57,346] Trial 28 finished with value: 0.21698174332431763 and parameters: {'boosting_type': 'goss', 'learning_rate': 0.03845590076577683, 'reg_alpha': 8.195059968439743e-06, 'reg_lambda': 0.0001250433188304095, 'max_depth': 6, 'num_leaves': 90, 'colsample_bytree': 0.5554974143848275, 'min_child_samples': 38, 'max_bin': 51, 'subsample_freq': 6}. Best is trial 20 with value: 0.19333450874751132.\n"
     ]
    },
    {
     "name": "stdout",
     "output_type": "stream",
     "text": [
      "Repeat \u001b[1m\u001b[34m#1\n",
      "Repeat \u001b[1m\u001b[34m#2\n"
     ]
    },
    {
     "name": "stderr",
     "output_type": "stream",
     "text": [
      "[I 2023-06-29 13:16:00,259] Trial 29 finished with value: 0.3354534143496934 and parameters: {'boosting_type': 'goss', 'learning_rate': 0.022302627454803055, 'reg_alpha': 1.7492191638983034e-08, 'reg_lambda': 0.0005027974468831771, 'max_depth': 9, 'num_leaves': 118, 'colsample_bytree': 0.6569268989168482, 'min_child_samples': 52, 'max_bin': 108, 'subsample_freq': 5}. Best is trial 20 with value: 0.19333450874751132.\n"
     ]
    },
    {
     "name": "stdout",
     "output_type": "stream",
     "text": [
      "Repeat \u001b[1m\u001b[34m#1\n",
      "Repeat \u001b[1m\u001b[34m#2\n"
     ]
    },
    {
     "name": "stderr",
     "output_type": "stream",
     "text": [
      "[I 2023-06-29 13:16:02,831] Trial 30 finished with value: 0.1931345291518407 and parameters: {'boosting_type': 'goss', 'learning_rate': 0.049882720615839586, 'reg_alpha': 6.443341362367477e-08, 'reg_lambda': 6.272424099925687e-08, 'max_depth': 8, 'num_leaves': 89, 'colsample_bytree': 0.5968898017304837, 'min_child_samples': 13, 'max_bin': 243, 'subsample_freq': 3}. Best is trial 30 with value: 0.1931345291518407.\n"
     ]
    },
    {
     "name": "stdout",
     "output_type": "stream",
     "text": [
      "Repeat \u001b[1m\u001b[34m#1\n",
      "Repeat \u001b[1m\u001b[34m#2\n"
     ]
    },
    {
     "name": "stderr",
     "output_type": "stream",
     "text": [
      "[I 2023-06-29 13:16:05,199] Trial 31 finished with value: 0.2003513731369435 and parameters: {'boosting_type': 'goss', 'learning_rate': 0.05135519653194853, 'reg_alpha': 6.350278305275562e-08, 'reg_lambda': 5.3269164264489345e-08, 'max_depth': 8, 'num_leaves': 89, 'colsample_bytree': 0.6109848261057684, 'min_child_samples': 14, 'max_bin': 252, 'subsample_freq': 3}. Best is trial 30 with value: 0.1931345291518407.\n"
     ]
    },
    {
     "name": "stdout",
     "output_type": "stream",
     "text": [
      "Repeat \u001b[1m\u001b[34m#1\n",
      "Repeat \u001b[1m\u001b[34m#2\n"
     ]
    },
    {
     "name": "stderr",
     "output_type": "stream",
     "text": [
      "[I 2023-06-29 13:16:07,695] Trial 32 finished with value: 0.20316166234070554 and parameters: {'boosting_type': 'goss', 'learning_rate': 0.0356424189266933, 'reg_alpha': 5.072499248138908e-07, 'reg_lambda': 1.4771394527450978e-06, 'max_depth': 7, 'num_leaves': 68, 'colsample_bytree': 0.5465394965277337, 'min_child_samples': 21, 'max_bin': 229, 'subsample_freq': 4}. Best is trial 30 with value: 0.1931345291518407.\n"
     ]
    },
    {
     "name": "stdout",
     "output_type": "stream",
     "text": [
      "Repeat \u001b[1m\u001b[34m#1\n",
      "Repeat \u001b[1m\u001b[34m#2\n"
     ]
    },
    {
     "name": "stderr",
     "output_type": "stream",
     "text": [
      "[I 2023-06-29 13:16:09,701] Trial 33 finished with value: 0.1920727805841457 and parameters: {'boosting_type': 'goss', 'learning_rate': 0.0642707689042181, 'reg_alpha': 1.0524163312908906e-08, 'reg_lambda': 1.6107654449750886e-05, 'max_depth': 8, 'num_leaves': 111, 'colsample_bytree': 0.5891516099925509, 'min_child_samples': 12, 'max_bin': 185, 'subsample_freq': 4}. Best is trial 33 with value: 0.1920727805841457.\n"
     ]
    },
    {
     "name": "stdout",
     "output_type": "stream",
     "text": [
      "Repeat \u001b[1m\u001b[34m#1\n",
      "Repeat \u001b[1m\u001b[34m#2\n"
     ]
    },
    {
     "name": "stderr",
     "output_type": "stream",
     "text": [
      "[I 2023-06-29 13:16:12,348] Trial 34 finished with value: 0.20479333179789372 and parameters: {'boosting_type': 'goss', 'learning_rate': 0.039809909709914396, 'reg_alpha': 1.4188250723256441e-08, 'reg_lambda': 3.3070163561930863e-07, 'max_depth': 9, 'num_leaves': 103, 'colsample_bytree': 0.6340919822336442, 'min_child_samples': 10, 'max_bin': 205, 'subsample_freq': 4}. Best is trial 33 with value: 0.1920727805841457.\n"
     ]
    },
    {
     "name": "stdout",
     "output_type": "stream",
     "text": [
      "Repeat \u001b[1m\u001b[34m#1\n",
      "Repeat \u001b[1m\u001b[34m#2\n"
     ]
    },
    {
     "name": "stderr",
     "output_type": "stream",
     "text": [
      "[I 2023-06-29 13:16:14,881] Trial 35 finished with value: 0.20776641351131803 and parameters: {'boosting_type': 'goss', 'learning_rate': 0.05105785874177744, 'reg_alpha': 5.991742676458333e-08, 'reg_lambda': 1.9324592363869836e-05, 'max_depth': 8, 'num_leaves': 112, 'colsample_bytree': 0.578701795735938, 'min_child_samples': 21, 'max_bin': 173, 'subsample_freq': 4}. Best is trial 33 with value: 0.1920727805841457.\n"
     ]
    },
    {
     "name": "stdout",
     "output_type": "stream",
     "text": [
      "Repeat \u001b[1m\u001b[34m#1\n",
      "Repeat \u001b[1m\u001b[34m#2\n"
     ]
    },
    {
     "name": "stderr",
     "output_type": "stream",
     "text": [
      "[I 2023-06-29 13:16:16,839] Trial 36 finished with value: 0.21260450100645661 and parameters: {'boosting_type': 'goss', 'learning_rate': 0.07419179019029469, 'reg_alpha': 3.5328645861045924e-08, 'reg_lambda': 1.1488184803531963e-06, 'max_depth': 8, 'num_leaves': 92, 'colsample_bytree': 0.5395144907536908, 'min_child_samples': 31, 'max_bin': 208, 'subsample_freq': 3}. Best is trial 33 with value: 0.1920727805841457.\n"
     ]
    },
    {
     "name": "stdout",
     "output_type": "stream",
     "text": [
      "Repeat \u001b[1m\u001b[34m#1\n",
      "Repeat \u001b[1m\u001b[34m#2\n"
     ]
    },
    {
     "name": "stderr",
     "output_type": "stream",
     "text": [
      "[I 2023-06-29 13:16:21,515] Trial 37 finished with value: 0.20639209407993728 and parameters: {'boosting_type': 'goss', 'learning_rate': 0.03132408930969267, 'reg_alpha': 3.074403423583541e-06, 'reg_lambda': 8.400565019223295e-08, 'max_depth': 9, 'num_leaves': 111, 'colsample_bytree': 0.606986348030239, 'min_child_samples': 5, 'max_bin': 225, 'subsample_freq': 4}. Best is trial 33 with value: 0.1920727805841457.\n"
     ]
    },
    {
     "name": "stdout",
     "output_type": "stream",
     "text": [
      "Repeat \u001b[1m\u001b[34m#1\n",
      "Repeat \u001b[1m\u001b[34m#2\n"
     ]
    },
    {
     "name": "stderr",
     "output_type": "stream",
     "text": [
      "[I 2023-06-29 13:16:25,993] Trial 38 finished with value: 0.19329758388174137 and parameters: {'boosting_type': 'goss', 'learning_rate': 0.02208666595834726, 'reg_alpha': 1.5637272619058239e-06, 'reg_lambda': 0.00015998060556760108, 'max_depth': 8, 'num_leaves': 68, 'colsample_bytree': 0.6444766364471191, 'min_child_samples': 13, 'max_bin': 150, 'subsample_freq': 4}. Best is trial 33 with value: 0.1920727805841457.\n"
     ]
    },
    {
     "name": "stdout",
     "output_type": "stream",
     "text": [
      "Repeat \u001b[1m\u001b[34m#1\n",
      "Repeat \u001b[1m\u001b[34m#2\n"
     ]
    },
    {
     "name": "stderr",
     "output_type": "stream",
     "text": [
      "[I 2023-06-29 13:16:28,940] Trial 39 finished with value: 0.2231916841909966 and parameters: {'boosting_type': 'goss', 'learning_rate': 0.05739717062249085, 'reg_alpha': 1.865261599133029e-06, 'reg_lambda': 0.00017843325654999168, 'max_depth': 8, 'num_leaves': 71, 'colsample_bytree': 0.698820212838271, 'min_child_samples': 46, 'max_bin': 144, 'subsample_freq': 4}. Best is trial 33 with value: 0.1920727805841457.\n"
     ]
    },
    {
     "name": "stdout",
     "output_type": "stream",
     "text": [
      "Repeat \u001b[1m\u001b[34m#1\n",
      "Repeat \u001b[1m\u001b[34m#2\n"
     ]
    },
    {
     "name": "stderr",
     "output_type": "stream",
     "text": [
      "[I 2023-06-29 13:16:31,318] Trial 40 finished with value: 0.30672582450122365 and parameters: {'boosting_type': 'goss', 'learning_rate': 0.04542974216392442, 'reg_alpha': 1.4537961396858016e-07, 'reg_lambda': 0.001527056280754276, 'max_depth': 9, 'num_leaves': 42, 'colsample_bytree': 0.6483002133662679, 'min_child_samples': 59, 'max_bin': 162, 'subsample_freq': 3}. Best is trial 33 with value: 0.1920727805841457.\n"
     ]
    },
    {
     "name": "stdout",
     "output_type": "stream",
     "text": [
      "Repeat \u001b[1m\u001b[34m#1\n",
      "Repeat \u001b[1m\u001b[34m#2\n"
     ]
    },
    {
     "name": "stderr",
     "output_type": "stream",
     "text": [
      "[I 2023-06-29 13:16:35,251] Trial 41 finished with value: 0.19859790203260597 and parameters: {'boosting_type': 'goss', 'learning_rate': 0.023519056119413004, 'reg_alpha': 1.2219042582831945e-08, 'reg_lambda': 0.00010834098574940494, 'max_depth': 8, 'num_leaves': 60, 'colsample_bytree': 0.6243739272243335, 'min_child_samples': 13, 'max_bin': 187, 'subsample_freq': 4}. Best is trial 33 with value: 0.1920727805841457.\n"
     ]
    },
    {
     "name": "stdout",
     "output_type": "stream",
     "text": [
      "Repeat \u001b[1m\u001b[34m#1\n",
      "Repeat \u001b[1m\u001b[34m#2\n"
     ]
    },
    {
     "name": "stderr",
     "output_type": "stream",
     "text": [
      "[I 2023-06-29 13:16:43,139] Trial 42 finished with value: 0.19816443972446487 and parameters: {'boosting_type': 'goss', 'learning_rate': 0.009833934568708555, 'reg_alpha': 1.1375753499902922e-06, 'reg_lambda': 1.874386875255327e-05, 'max_depth': 8, 'num_leaves': 85, 'colsample_bytree': 0.6581803208598392, 'min_child_samples': 19, 'max_bin': 133, 'subsample_freq': 2}. Best is trial 33 with value: 0.1920727805841457.\n"
     ]
    },
    {
     "name": "stdout",
     "output_type": "stream",
     "text": [
      "Repeat \u001b[1m\u001b[34m#1\n",
      "Repeat \u001b[1m\u001b[34m#2\n"
     ]
    },
    {
     "name": "stderr",
     "output_type": "stream",
     "text": [
      "[I 2023-06-29 13:16:45,844] Trial 43 finished with value: 0.2053380644365343 and parameters: {'boosting_type': 'goss', 'learning_rate': 0.033230744059937214, 'reg_alpha': 3.6717834379029885e-06, 'reg_lambda': 4.459423148099203e-07, 'max_depth': 8, 'num_leaves': 77, 'colsample_bytree': 0.5914042438726878, 'min_child_samples': 12, 'max_bin': 167, 'subsample_freq': 3}. Best is trial 33 with value: 0.1920727805841457.\n"
     ]
    },
    {
     "name": "stdout",
     "output_type": "stream",
     "text": [
      "Repeat \u001b[1m\u001b[34m#1\n",
      "Repeat \u001b[1m\u001b[34m#2\n"
     ]
    },
    {
     "name": "stderr",
     "output_type": "stream",
     "text": [
      "[I 2023-06-29 13:16:46,482] Trial 44 finished with value: 0.4882323766129379 and parameters: {'boosting_type': 'goss', 'learning_rate': 0.02053643720581955, 'reg_alpha': 1.124114981845838e-07, 'reg_lambda': 2.539772752292711e-06, 'max_depth': 8, 'num_leaves': 73, 'colsample_bytree': 0.566769404143795, 'min_child_samples': 90, 'max_bin': 231, 'subsample_freq': 5}. Best is trial 33 with value: 0.1920727805841457.\n"
     ]
    },
    {
     "name": "stdout",
     "output_type": "stream",
     "text": [
      "Repeat \u001b[1m\u001b[34m#1\n",
      "Repeat \u001b[1m\u001b[34m#2\n"
     ]
    },
    {
     "name": "stderr",
     "output_type": "stream",
     "text": [
      "[I 2023-06-29 13:16:49,594] Trial 45 finished with value: 0.20055198062922305 and parameters: {'boosting_type': 'goss', 'learning_rate': 0.025750981997371622, 'reg_alpha': 4.959807397092804e-07, 'reg_lambda': 0.00042722732436835636, 'max_depth': 8, 'num_leaves': 23, 'colsample_bytree': 0.6301708779646527, 'min_child_samples': 19, 'max_bin': 181, 'subsample_freq': 4}. Best is trial 33 with value: 0.1920727805841457.\n"
     ]
    },
    {
     "name": "stdout",
     "output_type": "stream",
     "text": [
      "Repeat \u001b[1m\u001b[34m#1\n",
      "Repeat \u001b[1m\u001b[34m#2\n"
     ]
    },
    {
     "name": "stderr",
     "output_type": "stream",
     "text": [
      "[I 2023-06-29 13:16:51,504] Trial 46 finished with value: 0.1968937567036818 and parameters: {'boosting_type': 'goss', 'learning_rate': 0.07950369244817486, 'reg_alpha': 4.37774875889165e-08, 'reg_lambda': 1.24082075786504e-05, 'max_depth': 7, 'num_leaves': 119, 'colsample_bytree': 0.6688579479491997, 'min_child_samples': 26, 'max_bin': 152, 'subsample_freq': 4}. Best is trial 33 with value: 0.1920727805841457.\n"
     ]
    },
    {
     "name": "stdout",
     "output_type": "stream",
     "text": [
      "Repeat \u001b[1m\u001b[34m#1\n",
      "Repeat \u001b[1m\u001b[34m#2\n"
     ]
    },
    {
     "name": "stderr",
     "output_type": "stream",
     "text": [
      "[I 2023-06-29 13:16:53,714] Trial 47 finished with value: 0.21400951300852372 and parameters: {'boosting_type': 'goss', 'learning_rate': 0.04378994669408775, 'reg_alpha': 9.7698979654284e-07, 'reg_lambda': 4.7237563942116646e-05, 'max_depth': 9, 'num_leaves': 96, 'colsample_bytree': 0.5156949304778549, 'min_child_samples': 35, 'max_bin': 126, 'subsample_freq': 3}. Best is trial 33 with value: 0.1920727805841457.\n"
     ]
    },
    {
     "name": "stdout",
     "output_type": "stream",
     "text": [
      "Repeat \u001b[1m\u001b[34m#1\n",
      "Repeat \u001b[1m\u001b[34m#2\n"
     ]
    },
    {
     "name": "stderr",
     "output_type": "stream",
     "text": [
      "[I 2023-06-29 13:16:56,065] Trial 48 finished with value: 0.1962843684240213 and parameters: {'boosting_type': 'goss', 'learning_rate': 0.055743565330605274, 'reg_alpha': 2.571160625978213e-08, 'reg_lambda': 1.994264748476719e-06, 'max_depth': 8, 'num_leaves': 102, 'colsample_bytree': 0.6418189548312323, 'min_child_samples': 9, 'max_bin': 152, 'subsample_freq': 2}. Best is trial 33 with value: 0.1920727805841457.\n"
     ]
    },
    {
     "name": "stdout",
     "output_type": "stream",
     "text": [
      "Repeat \u001b[1m\u001b[34m#1\n",
      "Repeat \u001b[1m\u001b[34m#2\n"
     ]
    },
    {
     "name": "stderr",
     "output_type": "stream",
     "text": [
      "[I 2023-06-29 13:17:00,736] Trial 49 finished with value: 0.1995666621126288 and parameters: {'boosting_type': 'goss', 'learning_rate': 0.01538086625639501, 'reg_alpha': 6.676830732703725e-06, 'reg_lambda': 6.156899922260442e-07, 'max_depth': 6, 'num_leaves': 122, 'colsample_bytree': 0.5319528679106402, 'min_child_samples': 23, 'max_bin': 96, 'subsample_freq': 5}. Best is trial 33 with value: 0.1920727805841457.\n"
     ]
    },
    {
     "name": "stdout",
     "output_type": "stream",
     "text": [
      "Repeat \u001b[1m\u001b[34m#1\n",
      "Repeat \u001b[1m\u001b[34m#2\n"
     ]
    },
    {
     "name": "stderr",
     "output_type": "stream",
     "text": [
      "[I 2023-06-29 13:17:02,402] Trial 50 finished with value: 0.1938834077288857 and parameters: {'boosting_type': 'goss', 'learning_rate': 0.09128072446735948, 'reg_alpha': 5.518361200350188e-05, 'reg_lambda': 3.2812513566632673e-08, 'max_depth': 7, 'num_leaves': 83, 'colsample_bytree': 0.5943041965111492, 'min_child_samples': 8, 'max_bin': 32, 'subsample_freq': 6}. Best is trial 33 with value: 0.1920727805841457.\n"
     ]
    },
    {
     "name": "stdout",
     "output_type": "stream",
     "text": [
      "Repeat \u001b[1m\u001b[34m#1\n",
      "Repeat \u001b[1m\u001b[34m#2\n"
     ]
    },
    {
     "name": "stderr",
     "output_type": "stream",
     "text": [
      "[I 2023-06-29 13:17:03,981] Trial 51 finished with value: 0.19416335141018423 and parameters: {'boosting_type': 'goss', 'learning_rate': 0.09379409478296706, 'reg_alpha': 0.0001359445144212052, 'reg_lambda': 3.4102858852845286e-08, 'max_depth': 7, 'num_leaves': 84, 'colsample_bytree': 0.5980155574792371, 'min_child_samples': 7, 'max_bin': 32, 'subsample_freq': 7}. Best is trial 33 with value: 0.1920727805841457.\n"
     ]
    },
    {
     "name": "stdout",
     "output_type": "stream",
     "text": [
      "Repeat \u001b[1m\u001b[34m#1\n",
      "Repeat \u001b[1m\u001b[34m#2\n"
     ]
    },
    {
     "name": "stderr",
     "output_type": "stream",
     "text": [
      "[I 2023-06-29 13:17:05,364] Trial 52 finished with value: 0.2028613844436401 and parameters: {'boosting_type': 'goss', 'learning_rate': 0.08686146110817838, 'reg_alpha': 0.00013024746934279873, 'reg_lambda': 1.2164966487876296e-08, 'max_depth': 7, 'num_leaves': 62, 'colsample_bytree': 0.5933376844839813, 'min_child_samples': 16, 'max_bin': 32, 'subsample_freq': 7}. Best is trial 33 with value: 0.1920727805841457.\n"
     ]
    },
    {
     "name": "stdout",
     "output_type": "stream",
     "text": [
      "Repeat \u001b[1m\u001b[34m#1\n",
      "Repeat \u001b[1m\u001b[34m#2\n"
     ]
    },
    {
     "name": "stderr",
     "output_type": "stream",
     "text": [
      "[I 2023-06-29 13:17:06,881] Trial 53 finished with value: 0.18894511178203624 and parameters: {'boosting_type': 'goss', 'learning_rate': 0.09352449679301159, 'reg_alpha': 3.678784863370473e-05, 'reg_lambda': 3.5882617420584997e-08, 'max_depth': 7, 'num_leaves': 86, 'colsample_bytree': 0.5775638352725387, 'min_child_samples': 10, 'max_bin': 38, 'subsample_freq': 7}. Best is trial 53 with value: 0.18894511178203624.\n"
     ]
    },
    {
     "name": "stdout",
     "output_type": "stream",
     "text": [
      "Repeat \u001b[1m\u001b[34m#1\n",
      "Repeat \u001b[1m\u001b[34m#2\n"
     ]
    },
    {
     "name": "stderr",
     "output_type": "stream",
     "text": [
      "[I 2023-06-29 13:17:08,611] Trial 54 finished with value: 0.19010966146728292 and parameters: {'boosting_type': 'goss', 'learning_rate': 0.06860284758348371, 'reg_alpha': 1.3487514508981682e-05, 'reg_lambda': 1.1022245260552963e-07, 'max_depth': 7, 'num_leaves': 67, 'colsample_bytree': 0.5761381057467662, 'min_child_samples': 12, 'max_bin': 56, 'subsample_freq': 6}. Best is trial 53 with value: 0.18894511178203624.\n"
     ]
    },
    {
     "name": "stdout",
     "output_type": "stream",
     "text": [
      "Repeat \u001b[1m\u001b[34m#1\n",
      "Repeat \u001b[1m\u001b[34m#2\n"
     ]
    },
    {
     "name": "stderr",
     "output_type": "stream",
     "text": [
      "[I 2023-06-29 13:17:10,238] Trial 55 finished with value: 0.19284586291832384 and parameters: {'boosting_type': 'goss', 'learning_rate': 0.07310091768547339, 'reg_alpha': 1.2894960429828489e-05, 'reg_lambda': 1.417893058244178e-07, 'max_depth': 5, 'num_leaves': 46, 'colsample_bytree': 0.576303386246177, 'min_child_samples': 17, 'max_bin': 54, 'subsample_freq': 6}. Best is trial 53 with value: 0.18894511178203624.\n"
     ]
    },
    {
     "name": "stdout",
     "output_type": "stream",
     "text": [
      "Repeat \u001b[1m\u001b[34m#1\n",
      "Repeat \u001b[1m\u001b[34m#2\n"
     ]
    },
    {
     "name": "stderr",
     "output_type": "stream",
     "text": [
      "[I 2023-06-29 13:17:11,794] Trial 56 finished with value: 0.1872984356999448 and parameters: {'boosting_type': 'goss', 'learning_rate': 0.0768201158372033, 'reg_alpha': 1.735455451329038e-05, 'reg_lambda': 6.500612497258633e-08, 'max_depth': 5, 'num_leaves': 52, 'colsample_bytree': 0.5495529560218072, 'min_child_samples': 11, 'max_bin': 56, 'subsample_freq': 7}. Best is trial 56 with value: 0.1872984356999448.\n"
     ]
    },
    {
     "name": "stdout",
     "output_type": "stream",
     "text": [
      "Repeat \u001b[1m\u001b[34m#1\n",
      "Repeat \u001b[1m\u001b[34m#2\n"
     ]
    },
    {
     "name": "stderr",
     "output_type": "stream",
     "text": [
      "[I 2023-06-29 13:17:13,026] Trial 57 finished with value: 0.20367794821808516 and parameters: {'boosting_type': 'goss', 'learning_rate': 0.09962734275957283, 'reg_alpha': 1.4125442271950867e-05, 'reg_lambda': 1.291195217021919e-07, 'max_depth': 5, 'num_leaves': 49, 'colsample_bytree': 0.5531036431209737, 'min_child_samples': 17, 'max_bin': 55, 'subsample_freq': 7}. Best is trial 56 with value: 0.1872984356999448.\n"
     ]
    },
    {
     "name": "stdout",
     "output_type": "stream",
     "text": [
      "Repeat \u001b[1m\u001b[34m#1\n",
      "Repeat \u001b[1m\u001b[34m#2\n"
     ]
    },
    {
     "name": "stderr",
     "output_type": "stream",
     "text": [
      "[I 2023-06-29 13:17:14,730] Trial 58 finished with value: 0.19044063485998014 and parameters: {'boosting_type': 'goss', 'learning_rate': 0.07283551817666489, 'reg_alpha': 5.099046785891822e-05, 'reg_lambda': 1.7705052618109775e-07, 'max_depth': 5, 'num_leaves': 41, 'colsample_bytree': 0.579904021765565, 'min_child_samples': 12, 'max_bin': 79, 'subsample_freq': 7}. Best is trial 56 with value: 0.1872984356999448.\n"
     ]
    },
    {
     "name": "stdout",
     "output_type": "stream",
     "text": [
      "Repeat \u001b[1m\u001b[34m#1\n",
      "Repeat \u001b[1m\u001b[34m#2\n"
     ]
    },
    {
     "name": "stderr",
     "output_type": "stream",
     "text": [
      "[I 2023-06-29 13:17:15,182] Trial 59 finished with value: 0.5093804464081968 and parameters: {'boosting_type': 'goss', 'learning_rate': 0.07703068798491212, 'reg_alpha': 4.136485664482195e-05, 'reg_lambda': 2.1030411762825695e-08, 'max_depth': 5, 'num_leaves': 35, 'colsample_bytree': 0.5784983726198325, 'min_child_samples': 79, 'max_bin': 81, 'subsample_freq': 7}. Best is trial 56 with value: 0.1872984356999448.\n"
     ]
    },
    {
     "name": "stdout",
     "output_type": "stream",
     "text": [
      "Repeat \u001b[1m\u001b[34m#1\n",
      "Repeat \u001b[1m\u001b[34m#2\n"
     ]
    },
    {
     "name": "stderr",
     "output_type": "stream",
     "text": [
      "[I 2023-06-29 13:17:16,934] Trial 60 finished with value: 0.2010604176760402 and parameters: {'boosting_type': 'goss', 'learning_rate': 0.06294144458254271, 'reg_alpha': 2.4084250986535807e-05, 'reg_lambda': 1.9898090631002761e-07, 'max_depth': 5, 'num_leaves': 52, 'colsample_bytree': 0.5331635070222583, 'min_child_samples': 11, 'max_bin': 57, 'subsample_freq': 6}. Best is trial 56 with value: 0.1872984356999448.\n"
     ]
    },
    {
     "name": "stdout",
     "output_type": "stream",
     "text": [
      "Repeat \u001b[1m\u001b[34m#1\n",
      "Repeat \u001b[1m\u001b[34m#2\n"
     ]
    },
    {
     "name": "stderr",
     "output_type": "stream",
     "text": [
      "[I 2023-06-29 13:17:18,472] Trial 61 finished with value: 0.19308590066112946 and parameters: {'boosting_type': 'goss', 'learning_rate': 0.07522565817552168, 'reg_alpha': 4.8643317184848665e-06, 'reg_lambda': 7.661467617463189e-08, 'max_depth': 5, 'num_leaves': 41, 'colsample_bytree': 0.5556576679762423, 'min_child_samples': 18, 'max_bin': 68, 'subsample_freq': 7}. Best is trial 56 with value: 0.1872984356999448.\n"
     ]
    },
    {
     "name": "stdout",
     "output_type": "stream",
     "text": [
      "Repeat \u001b[1m\u001b[34m#1\n",
      "Repeat \u001b[1m\u001b[34m#2\n"
     ]
    },
    {
     "name": "stderr",
     "output_type": "stream",
     "text": [
      "[I 2023-06-29 13:17:19,936] Trial 62 finished with value: 0.19502119546729876 and parameters: {'boosting_type': 'goss', 'learning_rate': 0.07769465976880295, 'reg_alpha': 9.719558487725372e-06, 'reg_lambda': 1.1500542783829513e-07, 'max_depth': 5, 'num_leaves': 37, 'colsample_bytree': 0.5512482387643479, 'min_child_samples': 18, 'max_bin': 68, 'subsample_freq': 7}. Best is trial 56 with value: 0.1872984356999448.\n"
     ]
    },
    {
     "name": "stdout",
     "output_type": "stream",
     "text": [
      "Repeat \u001b[1m\u001b[34m#1\n",
      "Repeat \u001b[1m\u001b[34m#2\n"
     ]
    },
    {
     "name": "stderr",
     "output_type": "stream",
     "text": [
      "[I 2023-06-29 13:17:21,393] Trial 63 finished with value: 0.19564704979732364 and parameters: {'boosting_type': 'goss', 'learning_rate': 0.06897981293032225, 'reg_alpha': 4.842225918852497e-06, 'reg_lambda': 2.1078553786037412e-07, 'max_depth': 5, 'num_leaves': 25, 'colsample_bytree': 0.5633411185538778, 'min_child_samples': 21, 'max_bin': 86, 'subsample_freq': 7}. Best is trial 56 with value: 0.1872984356999448.\n"
     ]
    },
    {
     "name": "stdout",
     "output_type": "stream",
     "text": [
      "Repeat \u001b[1m\u001b[34m#1\n",
      "Repeat \u001b[1m\u001b[34m#2\n"
     ]
    },
    {
     "name": "stderr",
     "output_type": "stream",
     "text": [
      "[I 2023-06-29 13:17:23,445] Trial 64 finished with value: 0.1870895030694471 and parameters: {'boosting_type': 'goss', 'learning_rate': 0.059719100094886596, 'reg_alpha': 4.9484316420402496e-05, 'reg_lambda': 5.861646680684124e-08, 'max_depth': 5, 'num_leaves': 46, 'colsample_bytree': 0.5828211110556235, 'min_child_samples': 10, 'max_bin': 41, 'subsample_freq': 6}. Best is trial 64 with value: 0.1870895030694471.\n"
     ]
    },
    {
     "name": "stdout",
     "output_type": "stream",
     "text": [
      "Repeat \u001b[1m\u001b[34m#1\n",
      "Repeat \u001b[1m\u001b[34m#2\n"
     ]
    },
    {
     "name": "stderr",
     "output_type": "stream",
     "text": [
      "[I 2023-06-29 13:17:25,404] Trial 65 finished with value: 0.18624815036615744 and parameters: {'boosting_type': 'goss', 'learning_rate': 0.05951425881116356, 'reg_alpha': 6.787123565276985e-05, 'reg_lambda': 2.2514382104401713e-08, 'max_depth': 5, 'num_leaves': 56, 'colsample_bytree': 0.5760403535804475, 'min_child_samples': 10, 'max_bin': 41, 'subsample_freq': 6}. Best is trial 65 with value: 0.18624815036615744.\n"
     ]
    },
    {
     "name": "stdout",
     "output_type": "stream",
     "text": [
      "Repeat \u001b[1m\u001b[34m#1\n",
      "Repeat \u001b[1m\u001b[34m#2\n"
     ]
    },
    {
     "name": "stderr",
     "output_type": "stream",
     "text": [
      "[I 2023-06-29 13:17:27,785] Trial 66 finished with value: 0.17795615393808062 and parameters: {'boosting_type': 'goss', 'learning_rate': 0.058125765626154784, 'reg_alpha': 0.00034682974370903456, 'reg_lambda': 1.677650869981609e-08, 'max_depth': 6, 'num_leaves': 56, 'colsample_bytree': 0.5855606363576956, 'min_child_samples': 10, 'max_bin': 40, 'subsample_freq': 6}. Best is trial 66 with value: 0.17795615393808062.\n"
     ]
    },
    {
     "name": "stdout",
     "output_type": "stream",
     "text": [
      "Repeat \u001b[1m\u001b[34m#1\n",
      "Repeat \u001b[1m\u001b[34m#2\n"
     ]
    },
    {
     "name": "stderr",
     "output_type": "stream",
     "text": [
      "[I 2023-06-29 13:17:30,479] Trial 67 finished with value: 0.18876998715785465 and parameters: {'boosting_type': 'goss', 'learning_rate': 0.05572435104548625, 'reg_alpha': 0.0002713804595875503, 'reg_lambda': 1.2211252777658057e-08, 'max_depth': 6, 'num_leaves': 55, 'colsample_bytree': 0.5221255434874651, 'min_child_samples': 7, 'max_bin': 40, 'subsample_freq': 6}. Best is trial 66 with value: 0.17795615393808062.\n"
     ]
    },
    {
     "name": "stdout",
     "output_type": "stream",
     "text": [
      "Repeat \u001b[1m\u001b[34m#1\n",
      "Repeat \u001b[1m\u001b[34m#2\n"
     ]
    },
    {
     "name": "stderr",
     "output_type": "stream",
     "text": [
      "[I 2023-06-29 13:17:32,502] Trial 68 finished with value: 0.1905551736965192 and parameters: {'boosting_type': 'goss', 'learning_rate': 0.05898559750849149, 'reg_alpha': 0.0003211341350555328, 'reg_lambda': 1.315640533464159e-08, 'max_depth': 6, 'num_leaves': 57, 'colsample_bytree': 0.5159759855527782, 'min_child_samples': 5, 'max_bin': 41, 'subsample_freq': 6}. Best is trial 66 with value: 0.17795615393808062.\n"
     ]
    },
    {
     "name": "stdout",
     "output_type": "stream",
     "text": [
      "Repeat \u001b[1m\u001b[34m#1\n",
      "Repeat \u001b[1m\u001b[34m#2\n"
     ]
    },
    {
     "name": "stderr",
     "output_type": "stream",
     "text": [
      "[I 2023-06-29 13:17:34,778] Trial 69 finished with value: 0.19047950661965685 and parameters: {'boosting_type': 'goss', 'learning_rate': 0.044250009502147206, 'reg_alpha': 0.0003118378534033095, 'reg_lambda': 1.0184713724555202e-08, 'max_depth': 6, 'num_leaves': 56, 'colsample_bytree': 0.5026191226653132, 'min_child_samples': 8, 'max_bin': 41, 'subsample_freq': 6}. Best is trial 66 with value: 0.17795615393808062.\n"
     ]
    },
    {
     "name": "stdout",
     "output_type": "stream",
     "text": [
      "Repeat \u001b[1m\u001b[34m#1\n",
      "Repeat \u001b[1m\u001b[34m#2\n"
     ]
    },
    {
     "name": "stderr",
     "output_type": "stream",
     "text": [
      "[I 2023-06-29 13:17:37,042] Trial 70 finished with value: 0.2769827905129202 and parameters: {'boosting_type': 'goss', 'learning_rate': 0.054871504709436435, 'reg_alpha': 0.00010411113269221828, 'reg_lambda': 4.0487560112117937e-08, 'max_depth': 6, 'num_leaves': 64, 'colsample_bytree': 0.5415827394691938, 'min_child_samples': 56, 'max_bin': 62, 'subsample_freq': 6}. Best is trial 66 with value: 0.17795615393808062.\n"
     ]
    },
    {
     "name": "stdout",
     "output_type": "stream",
     "text": [
      "Repeat \u001b[1m\u001b[34m#1\n",
      "Repeat \u001b[1m\u001b[34m#2\n"
     ]
    },
    {
     "name": "stderr",
     "output_type": "stream",
     "text": [
      "[I 2023-06-29 13:17:38,658] Trial 71 finished with value: 0.190969852721258 and parameters: {'boosting_type': 'goss', 'learning_rate': 0.0826205173242002, 'reg_alpha': 3.666217274110624e-05, 'reg_lambda': 2.0029736706977955e-08, 'max_depth': 5, 'num_leaves': 52, 'colsample_bytree': 0.5820925039340608, 'min_child_samples': 10, 'max_bin': 39, 'subsample_freq': 7}. Best is trial 66 with value: 0.17795615393808062.\n"
     ]
    },
    {
     "name": "stdout",
     "output_type": "stream",
     "text": [
      "Repeat \u001b[1m\u001b[34m#1\n",
      "Repeat \u001b[1m\u001b[34m#2\n"
     ]
    },
    {
     "name": "stderr",
     "output_type": "stream",
     "text": [
      "[I 2023-06-29 13:17:40,427] Trial 72 finished with value: 0.19386991311887364 and parameters: {'boosting_type': 'goss', 'learning_rate': 0.060980698120819514, 'reg_alpha': 6.50787126049511e-05, 'reg_lambda': 5.267878548751635e-08, 'max_depth': 5, 'num_leaves': 31, 'colsample_bytree': 0.5698444322238305, 'min_child_samples': 7, 'max_bin': 50, 'subsample_freq': 6}. Best is trial 66 with value: 0.17795615393808062.\n"
     ]
    },
    {
     "name": "stdout",
     "output_type": "stream",
     "text": [
      "Repeat \u001b[1m\u001b[34m#1\n",
      "Repeat \u001b[1m\u001b[34m#2\n"
     ]
    },
    {
     "name": "stderr",
     "output_type": "stream",
     "text": [
      "[I 2023-06-29 13:17:41,854] Trial 73 finished with value: 0.19887519581990498 and parameters: {'boosting_type': 'goss', 'learning_rate': 0.08834622975265882, 'reg_alpha': 0.00020835773144363924, 'reg_lambda': 2.7018848063032165e-08, 'max_depth': 5, 'num_leaves': 46, 'colsample_bytree': 0.5295979147604808, 'min_child_samples': 15, 'max_bin': 75, 'subsample_freq': 6}. Best is trial 66 with value: 0.17795615393808062.\n"
     ]
    },
    {
     "name": "stdout",
     "output_type": "stream",
     "text": [
      "Repeat \u001b[1m\u001b[34m#1\n",
      "Repeat \u001b[1m\u001b[34m#2\n"
     ]
    },
    {
     "name": "stderr",
     "output_type": "stream",
     "text": [
      "[I 2023-06-29 13:17:43,666] Trial 74 finished with value: 0.19799105471248823 and parameters: {'boosting_type': 'goss', 'learning_rate': 0.05102411882465321, 'reg_alpha': 2.2341725075008103e-05, 'reg_lambda': 1.827170333161935e-08, 'max_depth': 5, 'num_leaves': 59, 'colsample_bytree': 0.6188293513412743, 'min_child_samples': 11, 'max_bin': 37, 'subsample_freq': 7}. Best is trial 66 with value: 0.17795615393808062.\n"
     ]
    },
    {
     "name": "stdout",
     "output_type": "stream",
     "text": [
      "Repeat \u001b[1m\u001b[34m#1\n",
      "Repeat \u001b[1m\u001b[34m#2\n"
     ]
    },
    {
     "name": "stderr",
     "output_type": "stream",
     "text": [
      "[I 2023-06-29 13:17:46,010] Trial 75 finished with value: 0.3268465876104526 and parameters: {'boosting_type': 'goss', 'learning_rate': 0.06644305295977873, 'reg_alpha': 0.0004928234646678674, 'reg_lambda': 7.653112584383294e-08, 'max_depth': 6, 'num_leaves': 49, 'colsample_bytree': 0.5618008559953933, 'min_child_samples': 66, 'max_bin': 47, 'subsample_freq': 7}. Best is trial 66 with value: 0.17795615393808062.\n"
     ]
    },
    {
     "name": "stdout",
     "output_type": "stream",
     "text": [
      "Repeat \u001b[1m\u001b[34m#1\n",
      "Repeat \u001b[1m\u001b[34m#2\n"
     ]
    },
    {
     "name": "stderr",
     "output_type": "stream",
     "text": [
      "[I 2023-06-29 13:17:47,280] Trial 76 finished with value: 0.210828113654692 and parameters: {'boosting_type': 'goss', 'learning_rate': 0.09762341756224109, 'reg_alpha': 5.773876150765048e-05, 'reg_lambda': 4.082181268630188e-08, 'max_depth': 5, 'num_leaves': 45, 'colsample_bytree': 0.5430427376530145, 'min_child_samples': 24, 'max_bin': 61, 'subsample_freq': 6}. Best is trial 66 with value: 0.17795615393808062.\n"
     ]
    },
    {
     "name": "stdout",
     "output_type": "stream",
     "text": [
      "Repeat \u001b[1m\u001b[34m#1\n",
      "Repeat \u001b[1m\u001b[34m#2\n"
     ]
    },
    {
     "name": "stderr",
     "output_type": "stream",
     "text": [
      "[I 2023-06-29 13:17:49,378] Trial 77 finished with value: 0.192023623184592 and parameters: {'boosting_type': 'goss', 'learning_rate': 0.047661458025904414, 'reg_alpha': 3.838456125749058e-05, 'reg_lambda': 3.694497270981155e-07, 'max_depth': 6, 'num_leaves': 54, 'colsample_bytree': 0.6124722075474361, 'min_child_samples': 15, 'max_bin': 51, 'subsample_freq': 6}. Best is trial 66 with value: 0.17795615393808062.\n"
     ]
    },
    {
     "name": "stdout",
     "output_type": "stream",
     "text": [
      "Repeat \u001b[1m\u001b[34m#1\n",
      "Repeat \u001b[1m\u001b[34m#2\n"
     ]
    },
    {
     "name": "stderr",
     "output_type": "stream",
     "text": [
      "[I 2023-06-29 13:17:51,519] Trial 78 finished with value: 0.1920047160293571 and parameters: {'boosting_type': 'goss', 'learning_rate': 0.040898049290090915, 'reg_alpha': 0.0006628419811215421, 'reg_lambda': 2.0049383714169063e-08, 'max_depth': 5, 'num_leaves': 66, 'colsample_bytree': 0.5846344690302672, 'min_child_samples': 10, 'max_bin': 56, 'subsample_freq': 7}. Best is trial 66 with value: 0.17795615393808062.\n"
     ]
    },
    {
     "name": "stdout",
     "output_type": "stream",
     "text": [
      "Repeat \u001b[1m\u001b[34m#1\n",
      "Repeat \u001b[1m\u001b[34m#2\n"
     ]
    },
    {
     "name": "stderr",
     "output_type": "stream",
     "text": [
      "[I 2023-06-29 13:17:53,994] Trial 79 finished with value: 0.20597831512438902 and parameters: {'boosting_type': 'goss', 'learning_rate': 0.055597966310058027, 'reg_alpha': 8.068524314277159e-05, 'reg_lambda': 9.733544224838356e-08, 'max_depth': 6, 'num_leaves': 40, 'colsample_bytree': 0.6032644304414448, 'min_child_samples': 5, 'max_bin': 37, 'subsample_freq': 6}. Best is trial 66 with value: 0.17795615393808062.\n"
     ]
    },
    {
     "name": "stdout",
     "output_type": "stream",
     "text": [
      "Repeat \u001b[1m\u001b[34m#1\n",
      "Repeat \u001b[1m\u001b[34m#2\n"
     ]
    },
    {
     "name": "stderr",
     "output_type": "stream",
     "text": [
      "[I 2023-06-29 13:17:57,191] Trial 80 finished with value: 0.19802697359835653 and parameters: {'boosting_type': 'goss', 'learning_rate': 0.03545143335081407, 'reg_alpha': 1.4698683429348887e-05, 'reg_lambda': 5.0429573795408184e-08, 'max_depth': 5, 'num_leaves': 61, 'colsample_bytree': 0.571865029246931, 'min_child_samples': 13, 'max_bin': 74, 'subsample_freq': 7}. Best is trial 66 with value: 0.17795615393808062.\n"
     ]
    },
    {
     "name": "stdout",
     "output_type": "stream",
     "text": [
      "Repeat \u001b[1m\u001b[34m#1\n",
      "Repeat \u001b[1m\u001b[34m#2\n"
     ]
    },
    {
     "name": "stderr",
     "output_type": "stream",
     "text": [
      "[I 2023-06-29 13:17:59,418] Trial 81 finished with value: 0.18574515062596994 and parameters: {'boosting_type': 'goss', 'learning_rate': 0.04442168550161875, 'reg_alpha': 0.00012636635918964698, 'reg_lambda': 1.0999899449064506e-08, 'max_depth': 6, 'num_leaves': 57, 'colsample_bytree': 0.49050670503771165, 'min_child_samples': 8, 'max_bin': 42, 'subsample_freq': 6}. Best is trial 66 with value: 0.17795615393808062.\n"
     ]
    },
    {
     "name": "stdout",
     "output_type": "stream",
     "text": [
      "Repeat \u001b[1m\u001b[34m#1\n",
      "Repeat \u001b[1m\u001b[34m#2\n"
     ]
    },
    {
     "name": "stderr",
     "output_type": "stream",
     "text": [
      "[I 2023-06-29 13:18:01,143] Trial 82 finished with value: 0.19580517929185032 and parameters: {'boosting_type': 'goss', 'learning_rate': 0.06750080874088944, 'reg_alpha': 0.00013347576606371336, 'reg_lambda': 1.0674401540313157e-08, 'max_depth': 6, 'num_leaves': 51, 'colsample_bytree': 0.48128287274696885, 'min_child_samples': 8, 'max_bin': 47, 'subsample_freq': 6}. Best is trial 66 with value: 0.17795615393808062.\n"
     ]
    },
    {
     "name": "stdout",
     "output_type": "stream",
     "text": [
      "Repeat \u001b[1m\u001b[34m#1\n",
      "Repeat \u001b[1m\u001b[34m#2\n"
     ]
    },
    {
     "name": "stderr",
     "output_type": "stream",
     "text": [
      "[I 2023-06-29 13:18:03,383] Trial 83 finished with value: 0.18273750920207504 and parameters: {'boosting_type': 'goss', 'learning_rate': 0.07973923790237154, 'reg_alpha': 2.6488313897442352e-05, 'reg_lambda': 3.025369609309787e-08, 'max_depth': 6, 'num_leaves': 32, 'colsample_bytree': 0.5230573602090287, 'min_child_samples': 11, 'max_bin': 38, 'subsample_freq': 5}. Best is trial 66 with value: 0.17795615393808062.\n"
     ]
    },
    {
     "name": "stdout",
     "output_type": "stream",
     "text": [
      "Repeat \u001b[1m\u001b[34m#1\n",
      "Repeat \u001b[1m\u001b[34m#2\n"
     ]
    },
    {
     "name": "stderr",
     "output_type": "stream",
     "text": [
      "[I 2023-06-29 13:18:04,863] Trial 84 finished with value: 0.1998050993895119 and parameters: {'boosting_type': 'goss', 'learning_rate': 0.08441741568959006, 'reg_alpha': 2.6546266013575825e-05, 'reg_lambda': 2.9370502090471548e-08, 'max_depth': 6, 'num_leaves': 18, 'colsample_bytree': 0.5175116687078942, 'min_child_samples': 7, 'max_bin': 39, 'subsample_freq': 5}. Best is trial 66 with value: 0.17795615393808062.\n"
     ]
    },
    {
     "name": "stdout",
     "output_type": "stream",
     "text": [
      "Repeat \u001b[1m\u001b[34m#1\n",
      "Repeat \u001b[1m\u001b[34m#2\n"
     ]
    },
    {
     "name": "stderr",
     "output_type": "stream",
     "text": [
      "[I 2023-06-29 13:18:06,728] Trial 85 finished with value: 0.19269131488316904 and parameters: {'boosting_type': 'goss', 'learning_rate': 0.06173661311183369, 'reg_alpha': 1.759586995707056e-05, 'reg_lambda': 1.786464757597289e-08, 'max_depth': 6, 'num_leaves': 73, 'colsample_bytree': 0.5222998923903528, 'min_child_samples': 15, 'max_bin': 63, 'subsample_freq': 5}. Best is trial 66 with value: 0.17795615393808062.\n"
     ]
    },
    {
     "name": "stdout",
     "output_type": "stream",
     "text": [
      "Repeat \u001b[1m\u001b[34m#1\n",
      "Repeat \u001b[1m\u001b[34m#2\n"
     ]
    },
    {
     "name": "stderr",
     "output_type": "stream",
     "text": [
      "[I 2023-06-29 13:18:08,727] Trial 86 finished with value: 0.19689169119557953 and parameters: {'boosting_type': 'goss', 'learning_rate': 0.048971958565679256, 'reg_alpha': 0.00018190194724274645, 'reg_lambda': 6.395036680769634e-08, 'max_depth': 6, 'num_leaves': 56, 'colsample_bytree': 0.5062928724849389, 'min_child_samples': 20, 'max_bin': 51, 'subsample_freq': 6}. Best is trial 66 with value: 0.17795615393808062.\n"
     ]
    },
    {
     "name": "stdout",
     "output_type": "stream",
     "text": [
      "Repeat \u001b[1m\u001b[34m#1\n",
      "Repeat \u001b[1m\u001b[34m#2\n"
     ]
    },
    {
     "name": "stderr",
     "output_type": "stream",
     "text": [
      "[I 2023-06-29 13:18:10,303] Trial 87 finished with value: 0.18720360992740406 and parameters: {'boosting_type': 'goss', 'learning_rate': 0.08050464636608158, 'reg_alpha': 6.95088769926828e-05, 'reg_lambda': 1.0104444646400966e-08, 'max_depth': 6, 'num_leaves': 34, 'colsample_bytree': 0.48851511816537546, 'min_child_samples': 10, 'max_bin': 45, 'subsample_freq': 5}. Best is trial 66 with value: 0.17795615393808062.\n"
     ]
    },
    {
     "name": "stdout",
     "output_type": "stream",
     "text": [
      "Repeat \u001b[1m\u001b[34m#1\n",
      "Repeat \u001b[1m\u001b[34m#2\n"
     ]
    },
    {
     "name": "stderr",
     "output_type": "stream",
     "text": [
      "[I 2023-06-29 13:18:11,820] Trial 88 finished with value: 0.19040553310564773 and parameters: {'boosting_type': 'goss', 'learning_rate': 0.08249681144267258, 'reg_alpha': 7.839175709460652e-05, 'reg_lambda': 2.9693952882641106e-08, 'max_depth': 6, 'num_leaves': 32, 'colsample_bytree': 0.5282224598790175, 'min_child_samples': 9, 'max_bin': 45, 'subsample_freq': 5}. Best is trial 66 with value: 0.17795615393808062.\n"
     ]
    },
    {
     "name": "stdout",
     "output_type": "stream",
     "text": [
      "Repeat \u001b[1m\u001b[34m#1\n",
      "Repeat \u001b[1m\u001b[34m#2\n"
     ]
    },
    {
     "name": "stderr",
     "output_type": "stream",
     "text": [
      "[I 2023-06-29 13:18:13,964] Trial 89 finished with value: 0.1952736071891053 and parameters: {'boosting_type': 'goss', 'learning_rate': 0.05570783216012361, 'reg_alpha': 0.00010163596414462805, 'reg_lambda': 1.476269110455491e-08, 'max_depth': 6, 'num_leaves': 28, 'colsample_bytree': 0.4871629124408882, 'min_child_samples': 5, 'max_bin': 35, 'subsample_freq': 5}. Best is trial 66 with value: 0.17795615393808062.\n"
     ]
    },
    {
     "name": "stdout",
     "output_type": "stream",
     "text": [
      "Repeat \u001b[1m\u001b[34m#1\n",
      "Repeat \u001b[1m\u001b[34m#2\n"
     ]
    },
    {
     "name": "stderr",
     "output_type": "stream",
     "text": [
      "[I 2023-06-29 13:18:16,279] Trial 90 finished with value: 0.1901344203949138 and parameters: {'boosting_type': 'goss', 'learning_rate': 0.0426335049997273, 'reg_alpha': 0.0007166905664025311, 'reg_lambda': 4.108152521909332e-08, 'max_depth': 6, 'num_leaves': 7, 'colsample_bytree': 0.4919123485954899, 'min_child_samples': 10, 'max_bin': 44, 'subsample_freq': 5}. Best is trial 66 with value: 0.17795615393808062.\n"
     ]
    },
    {
     "name": "stdout",
     "output_type": "stream",
     "text": [
      "Repeat \u001b[1m\u001b[34m#1\n",
      "Repeat \u001b[1m\u001b[34m#2\n"
     ]
    },
    {
     "name": "stderr",
     "output_type": "stream",
     "text": [
      "[I 2023-06-29 13:18:16,718] Trial 91 finished with value: 0.494737728922196 and parameters: {'boosting_type': 'goss', 'learning_rate': 0.09947348007906713, 'reg_alpha': 3.191416270067053e-05, 'reg_lambda': 2.3512685812807035e-08, 'max_depth': 6, 'num_leaves': 44, 'colsample_bytree': 0.5466514828628413, 'min_child_samples': 100, 'max_bin': 56, 'subsample_freq': 6}. Best is trial 66 with value: 0.17795615393808062.\n"
     ]
    },
    {
     "name": "stdout",
     "output_type": "stream",
     "text": [
      "Repeat \u001b[1m\u001b[34m#1\n",
      "Repeat \u001b[1m\u001b[34m#2\n"
     ]
    },
    {
     "name": "stderr",
     "output_type": "stream",
     "text": [
      "[I 2023-06-29 13:18:18,375] Trial 92 finished with value: 0.19255296033954905 and parameters: {'boosting_type': 'goss', 'learning_rate': 0.06821108068911225, 'reg_alpha': 0.00019822709078957978, 'reg_lambda': 1.0630217717329334e-08, 'max_depth': 7, 'num_leaves': 36, 'colsample_bytree': 0.538145402470814, 'min_child_samples': 13, 'max_bin': 50, 'subsample_freq': 6}. Best is trial 66 with value: 0.17795615393808062.\n"
     ]
    },
    {
     "name": "stdout",
     "output_type": "stream",
     "text": [
      "Repeat \u001b[1m\u001b[34m#1\n",
      "Repeat \u001b[1m\u001b[34m#2\n"
     ]
    },
    {
     "name": "stderr",
     "output_type": "stream",
     "text": [
      "[I 2023-06-29 13:18:20,113] Trial 93 finished with value: 0.19583350089997784 and parameters: {'boosting_type': 'goss', 'learning_rate': 0.0821486396841678, 'reg_alpha': 9.13579312527929e-06, 'reg_lambda': 7.340526589882023e-08, 'max_depth': 6, 'num_leaves': 49, 'colsample_bytree': 0.55912250920442, 'min_child_samples': 7, 'max_bin': 36, 'subsample_freq': 6}. Best is trial 66 with value: 0.17795615393808062.\n"
     ]
    },
    {
     "name": "stdout",
     "output_type": "stream",
     "text": [
      "Repeat \u001b[1m\u001b[34m#1\n",
      "Repeat \u001b[1m\u001b[34m#2\n"
     ]
    },
    {
     "name": "stderr",
     "output_type": "stream",
     "text": [
      "[I 2023-06-29 13:18:22,147] Trial 94 finished with value: 0.18669415558390728 and parameters: {'boosting_type': 'goss', 'learning_rate': 0.06258710977040564, 'reg_alpha': 7.606727539776082e-05, 'reg_lambda': 1.0718473707773698e-07, 'max_depth': 6, 'num_leaves': 64, 'colsample_bytree': 0.49570793850946054, 'min_child_samples': 11, 'max_bin': 42, 'subsample_freq': 6}. Best is trial 66 with value: 0.17795615393808062.\n"
     ]
    },
    {
     "name": "stdout",
     "output_type": "stream",
     "text": [
      "Repeat \u001b[1m\u001b[34m#1\n",
      "Repeat \u001b[1m\u001b[34m#2\n"
     ]
    },
    {
     "name": "stderr",
     "output_type": "stream",
     "text": [
      "[I 2023-06-29 13:18:24,168] Trial 95 finished with value: 0.19431229257118907 and parameters: {'boosting_type': 'goss', 'learning_rate': 0.05319575006368796, 'reg_alpha': 8.246536602157446e-05, 'reg_lambda': 1.003899312879916e-08, 'max_depth': 6, 'num_leaves': 64, 'colsample_bytree': 0.508231849939972, 'min_child_samples': 15, 'max_bin': 42, 'subsample_freq': 5}. Best is trial 66 with value: 0.17795615393808062.\n"
     ]
    },
    {
     "name": "stdout",
     "output_type": "stream",
     "text": [
      "Repeat \u001b[1m\u001b[34m#1\n",
      "Repeat \u001b[1m\u001b[34m#2\n"
     ]
    },
    {
     "name": "stderr",
     "output_type": "stream",
     "text": [
      "[I 2023-06-29 13:18:26,108] Trial 96 finished with value: 0.19557661313435054 and parameters: {'boosting_type': 'goss', 'learning_rate': 0.06014557894260169, 'reg_alpha': 4.947785316723488e-05, 'reg_lambda': 4.619944521093617e-08, 'max_depth': 6, 'num_leaves': 59, 'colsample_bytree': 0.4965668098397658, 'min_child_samples': 11, 'max_bin': 32, 'subsample_freq': 6}. Best is trial 66 with value: 0.17795615393808062.\n"
     ]
    },
    {
     "name": "stdout",
     "output_type": "stream",
     "text": [
      "Repeat \u001b[1m\u001b[34m#1\n",
      "Repeat \u001b[1m\u001b[34m#2\n"
     ]
    },
    {
     "name": "stderr",
     "output_type": "stream",
     "text": [
      "[I 2023-06-29 13:18:27,782] Trial 97 finished with value: 0.21989276265916463 and parameters: {'boosting_type': 'goss', 'learning_rate': 0.07521795595638346, 'reg_alpha': 0.0003869077655443805, 'reg_lambda': 1.8545814312061036e-08, 'max_depth': 6, 'num_leaves': 54, 'colsample_bytree': 0.4736813810522508, 'min_child_samples': 17, 'max_bin': 48, 'subsample_freq': 6}. Best is trial 66 with value: 0.17795615393808062.\n"
     ]
    },
    {
     "name": "stdout",
     "output_type": "stream",
     "text": [
      "Repeat \u001b[1m\u001b[34m#1\n",
      "Repeat \u001b[1m\u001b[34m#2\n"
     ]
    },
    {
     "name": "stderr",
     "output_type": "stream",
     "text": [
      "[I 2023-06-29 13:18:29,250] Trial 98 finished with value: 0.20393511092437624 and parameters: {'boosting_type': 'goss', 'learning_rate': 0.09126130716640271, 'reg_alpha': 0.00016266582252532616, 'reg_lambda': 2.3322219095079276e-07, 'max_depth': 6, 'num_leaves': 70, 'colsample_bytree': 0.5015888423126659, 'min_child_samples': 22, 'max_bin': 41, 'subsample_freq': 6}. Best is trial 66 with value: 0.17795615393808062.\n"
     ]
    },
    {
     "name": "stdout",
     "output_type": "stream",
     "text": [
      "Repeat \u001b[1m\u001b[34m#1\n",
      "Repeat \u001b[1m\u001b[34m#2\n"
     ]
    },
    {
     "name": "stderr",
     "output_type": "stream",
     "text": [
      "[I 2023-06-29 13:18:31,269] Trial 99 finished with value: 0.20190707684710202 and parameters: {'boosting_type': 'goss', 'learning_rate': 0.046997171738739275, 'reg_alpha': 0.00023496751101430058, 'reg_lambda': 3.218120500896297e-08, 'max_depth': 5, 'num_leaves': 20, 'colsample_bytree': 0.5121852479551947, 'min_child_samples': 7, 'max_bin': 59, 'subsample_freq': 6}. Best is trial 66 with value: 0.17795615393808062.\n"
     ]
    },
    {
     "name": "stdout",
     "output_type": "stream",
     "text": [
      "Repeat \u001b[1m\u001b[34m#1\n",
      "Repeat \u001b[1m\u001b[34m#2\n"
     ]
    },
    {
     "name": "stderr",
     "output_type": "stream",
     "text": [
      "[I 2023-06-29 13:18:33,551] Trial 100 finished with value: 0.19742227356964767 and parameters: {'boosting_type': 'goss', 'learning_rate': 0.03910945352999806, 'reg_alpha': 2.798424206468282e-05, 'reg_lambda': 1.4787485579536812e-07, 'max_depth': 6, 'num_leaves': 77, 'colsample_bytree': 0.5220501540823482, 'min_child_samples': 9, 'max_bin': 67, 'subsample_freq': 5}. Best is trial 66 with value: 0.17795615393808062.\n"
     ]
    },
    {
     "name": "stdout",
     "output_type": "stream",
     "text": [
      "Repeat \u001b[1m\u001b[34m#1\n",
      "Repeat \u001b[1m\u001b[34m#2\n"
     ]
    },
    {
     "name": "stderr",
     "output_type": "stream",
     "text": [
      "[I 2023-06-29 13:18:35,219] Trial 101 finished with value: 0.17881541898385944 and parameters: {'boosting_type': 'goss', 'learning_rate': 0.0701564565795463, 'reg_alpha': 1.3575007887072708e-05, 'reg_lambda': 9.223996649419104e-08, 'max_depth': 7, 'num_leaves': 65, 'colsample_bytree': 0.5688936747358242, 'min_child_samples': 12, 'max_bin': 52, 'subsample_freq': 6}. Best is trial 66 with value: 0.17795615393808062.\n"
     ]
    },
    {
     "name": "stdout",
     "output_type": "stream",
     "text": [
      "Repeat \u001b[1m\u001b[34m#1\n",
      "Repeat \u001b[1m\u001b[34m#2\n"
     ]
    },
    {
     "name": "stderr",
     "output_type": "stream",
     "text": [
      "[I 2023-06-29 13:18:37,233] Trial 102 finished with value: 0.19374465631962962 and parameters: {'boosting_type': 'goss', 'learning_rate': 0.06347521389808354, 'reg_alpha': 0.0001175410821072235, 'reg_lambda': 9.115542245078614e-08, 'max_depth': 7, 'num_leaves': 62, 'colsample_bytree': 0.5513627795094262, 'min_child_samples': 13, 'max_bin': 36, 'subsample_freq': 6}. Best is trial 66 with value: 0.17795615393808062.\n"
     ]
    },
    {
     "name": "stdout",
     "output_type": "stream",
     "text": [
      "Repeat \u001b[1m\u001b[34m#1\n",
      "Repeat \u001b[1m\u001b[34m#2\n"
     ]
    },
    {
     "name": "stderr",
     "output_type": "stream",
     "text": [
      "[I 2023-06-29 13:18:38,933] Trial 103 finished with value: 0.18859868791462014 and parameters: {'boosting_type': 'goss', 'learning_rate': 0.07749711835969736, 'reg_alpha': 5.2302243709043345e-05, 'reg_lambda': 1.5615802313219766e-08, 'max_depth': 7, 'num_leaves': 57, 'colsample_bytree': 0.5880499747754164, 'min_child_samples': 11, 'max_bin': 45, 'subsample_freq': 6}. Best is trial 66 with value: 0.17795615393808062.\n"
     ]
    },
    {
     "name": "stdout",
     "output_type": "stream",
     "text": [
      "Repeat \u001b[1m\u001b[34m#1\n",
      "Repeat \u001b[1m\u001b[34m#2\n"
     ]
    },
    {
     "name": "stderr",
     "output_type": "stream",
     "text": [
      "[I 2023-06-29 13:18:40,609] Trial 104 finished with value: 0.19169465306855477 and parameters: {'boosting_type': 'goss', 'learning_rate': 0.07171633291741719, 'reg_alpha': 6.394785162454937e-05, 'reg_lambda': 1.5460536842640383e-08, 'max_depth': 6, 'num_leaves': 57, 'colsample_bytree': 0.5878911184675908, 'min_child_samples': 14, 'max_bin': 45, 'subsample_freq': 6}. Best is trial 66 with value: 0.17795615393808062.\n"
     ]
    },
    {
     "name": "stdout",
     "output_type": "stream",
     "text": [
      "Repeat \u001b[1m\u001b[34m#1\n",
      "Repeat \u001b[1m\u001b[34m#2\n"
     ]
    },
    {
     "name": "stderr",
     "output_type": "stream",
     "text": [
      "[I 2023-06-29 13:18:42,133] Trial 105 finished with value: 0.20894325456957985 and parameters: {'boosting_type': 'goss', 'learning_rate': 0.07784035000897731, 'reg_alpha': 1.8698318040490004e-05, 'reg_lambda': 5.848269496543947e-08, 'max_depth': 6, 'num_leaves': 64, 'colsample_bytree': 0.5672488808436167, 'min_child_samples': 19, 'max_bin': 53, 'subsample_freq': 6}. Best is trial 66 with value: 0.17795615393808062.\n"
     ]
    },
    {
     "name": "stdout",
     "output_type": "stream",
     "text": [
      "Repeat \u001b[1m\u001b[34m#1\n",
      "Repeat \u001b[1m\u001b[34m#2\n"
     ]
    },
    {
     "name": "stderr",
     "output_type": "stream",
     "text": [
      "[I 2023-06-29 13:18:44,168] Trial 106 finished with value: 0.1885053454957624 and parameters: {'boosting_type': 'goss', 'learning_rate': 0.05241798216325707, 'reg_alpha': 6.517175907731611e-06, 'reg_lambda': 2.5555535021399875e-08, 'max_depth': 5, 'num_leaves': 53, 'colsample_bytree': 0.5338604413609654, 'min_child_samples': 5, 'max_bin': 64, 'subsample_freq': 5}. Best is trial 66 with value: 0.17795615393808062.\n"
     ]
    },
    {
     "name": "stdout",
     "output_type": "stream",
     "text": [
      "Repeat \u001b[1m\u001b[34m#1\n",
      "Repeat \u001b[1m\u001b[34m#2\n"
     ]
    },
    {
     "name": "stderr",
     "output_type": "stream",
     "text": [
      "[I 2023-06-29 13:18:46,359] Trial 107 finished with value: 0.18415122336607753 and parameters: {'boosting_type': 'goss', 'learning_rate': 0.05149668442442101, 'reg_alpha': 7.837983106825265e-06, 'reg_lambda': 2.3842606665293456e-08, 'max_depth': 5, 'num_leaves': 47, 'colsample_bytree': 0.5381620135504446, 'min_child_samples': 16, 'max_bin': 71, 'subsample_freq': 5}. Best is trial 66 with value: 0.17795615393808062.\n"
     ]
    },
    {
     "name": "stdout",
     "output_type": "stream",
     "text": [
      "Repeat \u001b[1m\u001b[34m#1\n",
      "Repeat \u001b[1m\u001b[34m#2\n"
     ]
    },
    {
     "name": "stderr",
     "output_type": "stream",
     "text": [
      "[I 2023-06-29 13:18:48,729] Trial 108 finished with value: 0.19093475276001745 and parameters: {'boosting_type': 'goss', 'learning_rate': 0.051066294385955995, 'reg_alpha': 7.597714680106499e-06, 'reg_lambda': 2.638259601284405e-08, 'max_depth': 5, 'num_leaves': 47, 'colsample_bytree': 0.5336093498995722, 'min_child_samples': 16, 'max_bin': 62, 'subsample_freq': 5}. Best is trial 66 with value: 0.17795615393808062.\n"
     ]
    },
    {
     "name": "stdout",
     "output_type": "stream",
     "text": [
      "Repeat \u001b[1m\u001b[34m#1\n",
      "Repeat \u001b[1m\u001b[34m#2\n"
     ]
    },
    {
     "name": "stderr",
     "output_type": "stream",
     "text": [
      "[I 2023-06-29 13:18:50,690] Trial 109 finished with value: 0.2062268197700614 and parameters: {'boosting_type': 'goss', 'learning_rate': 0.059911934069782354, 'reg_alpha': 3.097174707600709e-06, 'reg_lambda': 5.774179994646281e-07, 'max_depth': 5, 'num_leaves': 38, 'colsample_bytree': 0.5440796854377179, 'min_child_samples': 5, 'max_bin': 72, 'subsample_freq': 5}. Best is trial 66 with value: 0.17795615393808062.\n"
     ]
    },
    {
     "name": "stdout",
     "output_type": "stream",
     "text": [
      "Repeat \u001b[1m\u001b[34m#1\n",
      "Repeat \u001b[1m\u001b[34m#2\n"
     ]
    },
    {
     "name": "stderr",
     "output_type": "stream",
     "text": [
      "[I 2023-06-29 13:18:53,023] Trial 110 finished with value: 0.1916799042706897 and parameters: {'boosting_type': 'goss', 'learning_rate': 0.04496876934871245, 'reg_alpha': 1.2285808157456261e-05, 'reg_lambda': 2.5137268559096865e-07, 'max_depth': 5, 'num_leaves': 43, 'colsample_bytree': 0.535118922491395, 'min_child_samples': 9, 'max_bin': 101, 'subsample_freq': 5}. Best is trial 66 with value: 0.17795615393808062.\n"
     ]
    },
    {
     "name": "stdout",
     "output_type": "stream",
     "text": [
      "Repeat \u001b[1m\u001b[34m#1\n",
      "Repeat \u001b[1m\u001b[34m#2\n"
     ]
    },
    {
     "name": "stderr",
     "output_type": "stream",
     "text": [
      "[I 2023-06-29 13:18:55,032] Trial 111 finished with value: 0.18866986597141197 and parameters: {'boosting_type': 'goss', 'learning_rate': 0.07112695099310944, 'reg_alpha': 6.587176788114528e-06, 'reg_lambda': 1.7781550917907948e-08, 'max_depth': 5, 'num_leaves': 52, 'colsample_bytree': 0.5605483058374566, 'min_child_samples': 11, 'max_bin': 53, 'subsample_freq': 5}. Best is trial 66 with value: 0.17795615393808062.\n"
     ]
    },
    {
     "name": "stdout",
     "output_type": "stream",
     "text": [
      "Repeat \u001b[1m\u001b[34m#1\n",
      "Repeat \u001b[1m\u001b[34m#2\n"
     ]
    },
    {
     "name": "stderr",
     "output_type": "stream",
     "text": [
      "[I 2023-06-29 13:18:56,739] Trial 112 finished with value: 0.18833877119985376 and parameters: {'boosting_type': 'goss', 'learning_rate': 0.061258718502874995, 'reg_alpha': 2.1525610450702433e-05, 'reg_lambda': 5.054261679884921e-08, 'max_depth': 5, 'num_leaves': 59, 'colsample_bytree': 0.5505236890293458, 'min_child_samples': 12, 'max_bin': 48, 'subsample_freq': 5}. Best is trial 66 with value: 0.17795615393808062.\n"
     ]
    },
    {
     "name": "stdout",
     "output_type": "stream",
     "text": [
      "Repeat \u001b[1m\u001b[34m#1\n",
      "Repeat \u001b[1m\u001b[34m#2\n"
     ]
    },
    {
     "name": "stderr",
     "output_type": "stream",
     "text": [
      "[I 2023-06-29 13:18:58,632] Trial 113 finished with value: 0.19842094095539276 and parameters: {'boosting_type': 'goss', 'learning_rate': 0.05222703469450343, 'reg_alpha': 1.697405859908677e-05, 'reg_lambda': 1.126873664351266e-07, 'max_depth': 5, 'num_leaves': 59, 'colsample_bytree': 0.5503561738406277, 'min_child_samples': 14, 'max_bin': 58, 'subsample_freq': 5}. Best is trial 66 with value: 0.17795615393808062.\n"
     ]
    },
    {
     "name": "stdout",
     "output_type": "stream",
     "text": [
      "Repeat \u001b[1m\u001b[34m#1\n",
      "Repeat \u001b[1m\u001b[34m#2\n"
     ]
    },
    {
     "name": "stderr",
     "output_type": "stream",
     "text": [
      "[I 2023-06-29 13:19:01,128] Trial 114 finished with value: 0.1930183714928988 and parameters: {'boosting_type': 'goss', 'learning_rate': 0.03683040471997602, 'reg_alpha': 2.1780681927294545e-05, 'reg_lambda': 5.1317735345392145e-08, 'max_depth': 5, 'num_leaves': 33, 'colsample_bytree': 0.4968409568944891, 'min_child_samples': 7, 'max_bin': 64, 'subsample_freq': 5}. Best is trial 66 with value: 0.17795615393808062.\n"
     ]
    },
    {
     "name": "stdout",
     "output_type": "stream",
     "text": [
      "Repeat \u001b[1m\u001b[34m#1\n",
      "Repeat \u001b[1m\u001b[34m#2\n"
     ]
    },
    {
     "name": "stderr",
     "output_type": "stream",
     "text": [
      "[I 2023-06-29 13:19:02,935] Trial 115 finished with value: 0.19761155859537946 and parameters: {'boosting_type': 'goss', 'learning_rate': 0.06509763892941471, 'reg_alpha': 2.0719371263798085e-06, 'reg_lambda': 2.7080709421183896e-08, 'max_depth': 5, 'num_leaves': 48, 'colsample_bytree': 0.5101797017259746, 'min_child_samples': 17, 'max_bin': 48, 'subsample_freq': 5}. Best is trial 66 with value: 0.17795615393808062.\n"
     ]
    },
    {
     "name": "stdout",
     "output_type": "stream",
     "text": [
      "Repeat \u001b[1m\u001b[34m#1\n",
      "Repeat \u001b[1m\u001b[34m#2\n"
     ]
    },
    {
     "name": "stderr",
     "output_type": "stream",
     "text": [
      "[I 2023-06-29 13:19:04,785] Trial 116 finished with value: 0.17989637287233542 and parameters: {'boosting_type': 'goss', 'learning_rate': 0.058662054214158765, 'reg_alpha': 3.21129279748068e-05, 'reg_lambda': 7.565219679471666e-08, 'max_depth': 5, 'num_leaves': 53, 'colsample_bytree': 0.5260953795198187, 'min_child_samples': 12, 'max_bin': 68, 'subsample_freq': 5}. Best is trial 66 with value: 0.17795615393808062.\n"
     ]
    },
    {
     "name": "stdout",
     "output_type": "stream",
     "text": [
      "Repeat \u001b[1m\u001b[34m#1\n",
      "Repeat \u001b[1m\u001b[34m#2\n"
     ]
    },
    {
     "name": "stderr",
     "output_type": "stream",
     "text": [
      "[I 2023-06-29 13:19:06,171] Trial 117 finished with value: 0.1949051410852385 and parameters: {'boosting_type': 'goss', 'learning_rate': 0.08799283553112765, 'reg_alpha': 3.276416652215246e-05, 'reg_lambda': 7.258920367065995e-08, 'max_depth': 5, 'num_leaves': 29, 'colsample_bytree': 0.556651646010335, 'min_child_samples': 12, 'max_bin': 71, 'subsample_freq': 5}. Best is trial 66 with value: 0.17795615393808062.\n"
     ]
    },
    {
     "name": "stdout",
     "output_type": "stream",
     "text": [
      "Repeat \u001b[1m\u001b[34m#1\n",
      "Repeat \u001b[1m\u001b[34m#2\n"
     ]
    },
    {
     "name": "stderr",
     "output_type": "stream",
     "text": [
      "[I 2023-06-29 13:19:07,791] Trial 118 finished with value: 0.2059195700828949 and parameters: {'boosting_type': 'goss', 'learning_rate': 0.059239992582476725, 'reg_alpha': 9.600843574075813e-05, 'reg_lambda': 1.5398322410171407e-07, 'max_depth': 5, 'num_leaves': 69, 'colsample_bytree': 0.5252217837442917, 'min_child_samples': 25, 'max_bin': 51, 'subsample_freq': 5}. Best is trial 66 with value: 0.17795615393808062.\n"
     ]
    },
    {
     "name": "stdout",
     "output_type": "stream",
     "text": [
      "Repeat \u001b[1m\u001b[34m#1\n",
      "Repeat \u001b[1m\u001b[34m#2\n"
     ]
    },
    {
     "name": "stderr",
     "output_type": "stream",
     "text": [
      "[I 2023-06-29 13:19:10,262] Trial 119 finished with value: 0.21916221764106392 and parameters: {'boosting_type': 'goss', 'learning_rate': 0.04159674191648091, 'reg_alpha': 1.0580203112767999e-05, 'reg_lambda': 3.371801723662054e-07, 'max_depth': 5, 'num_leaves': 50, 'colsample_bytree': 0.48569922822066486, 'min_child_samples': 43, 'max_bin': 78, 'subsample_freq': 4}. Best is trial 66 with value: 0.17795615393808062.\n"
     ]
    },
    {
     "name": "stdout",
     "output_type": "stream",
     "text": [
      "Repeat \u001b[1m\u001b[34m#1\n",
      "Repeat \u001b[1m\u001b[34m#2\n"
     ]
    },
    {
     "name": "stderr",
     "output_type": "stream",
     "text": [
      "[I 2023-06-29 13:19:12,263] Trial 120 finished with value: 0.49194029584376764 and parameters: {'boosting_type': 'goss', 'learning_rate': 0.06653423313850639, 'reg_alpha': 3.949059670115455e-05, 'reg_lambda': 1.1664631290464028e-07, 'max_depth': 5, 'num_leaves': 66, 'colsample_bytree': 0.5698696540799225, 'min_child_samples': 94, 'max_bin': 59, 'subsample_freq': 5}. Best is trial 66 with value: 0.17795615393808062.\n"
     ]
    },
    {
     "name": "stdout",
     "output_type": "stream",
     "text": [
      "Repeat \u001b[1m\u001b[34m#1\n",
      "Repeat \u001b[1m\u001b[34m#2\n"
     ]
    },
    {
     "name": "stderr",
     "output_type": "stream",
     "text": [
      "[I 2023-06-29 13:19:14,496] Trial 121 finished with value: 0.19348961320417105 and parameters: {'boosting_type': 'goss', 'learning_rate': 0.04760264279633153, 'reg_alpha': 4.770331426510352e-06, 'reg_lambda': 4.157254240439729e-08, 'max_depth': 5, 'num_leaves': 53, 'colsample_bytree': 0.5413064274822914, 'min_child_samples': 9, 'max_bin': 89, 'subsample_freq': 5}. Best is trial 66 with value: 0.17795615393808062.\n"
     ]
    },
    {
     "name": "stdout",
     "output_type": "stream",
     "text": [
      "Repeat \u001b[1m\u001b[34m#1\n",
      "Repeat \u001b[1m\u001b[34m#2\n"
     ]
    },
    {
     "name": "stderr",
     "output_type": "stream",
     "text": [
      "[I 2023-06-29 13:19:16,336] Trial 122 finished with value: 0.19206816266603932 and parameters: {'boosting_type': 'goss', 'learning_rate': 0.056780372200623236, 'reg_alpha': 2.2064802632436294e-05, 'reg_lambda': 2.9205381727091717e-08, 'max_depth': 5, 'num_leaves': 39, 'colsample_bytree': 0.5164049173279143, 'min_child_samples': 14, 'max_bin': 67, 'subsample_freq': 5}. Best is trial 66 with value: 0.17795615393808062.\n"
     ]
    },
    {
     "name": "stdout",
     "output_type": "stream",
     "text": [
      "Repeat \u001b[1m\u001b[34m#1\n",
      "Repeat \u001b[1m\u001b[34m#2\n"
     ]
    },
    {
     "name": "stderr",
     "output_type": "stream",
     "text": [
      "[I 2023-06-29 13:19:18,626] Trial 123 finished with value: 0.19820680322525358 and parameters: {'boosting_type': 'goss', 'learning_rate': 0.05246193258289849, 'reg_alpha': 7.797246194852101e-06, 'reg_lambda': 8.389180356151553e-08, 'max_depth': 5, 'num_leaves': 60, 'colsample_bytree': 0.5313208308411871, 'min_child_samples': 6, 'max_bin': 43, 'subsample_freq': 4}. Best is trial 66 with value: 0.17795615393808062.\n"
     ]
    },
    {
     "name": "stdout",
     "output_type": "stream",
     "text": [
      "Repeat \u001b[1m\u001b[34m#1\n",
      "Repeat \u001b[1m\u001b[34m#2\n"
     ]
    },
    {
     "name": "stderr",
     "output_type": "stream",
     "text": [
      "[I 2023-06-29 13:19:20,497] Trial 124 finished with value: 0.1936488062991536 and parameters: {'boosting_type': 'goss', 'learning_rate': 0.06440019696177811, 'reg_alpha': 7.245757954568328e-05, 'reg_lambda': 5.5214419604187376e-08, 'max_depth': 5, 'num_leaves': 72, 'colsample_bytree': 0.5035704270053506, 'min_child_samples': 11, 'max_bin': 85, 'subsample_freq': 5}. Best is trial 66 with value: 0.17795615393808062.\n"
     ]
    },
    {
     "name": "stdout",
     "output_type": "stream",
     "text": [
      "Repeat \u001b[1m\u001b[34m#1\n",
      "Repeat \u001b[1m\u001b[34m#2\n"
     ]
    },
    {
     "name": "stderr",
     "output_type": "stream",
     "text": [
      "[I 2023-06-29 13:19:22,872] Trial 125 finished with value: 0.19268971507418609 and parameters: {'boosting_type': 'goss', 'learning_rate': 0.046815882784546896, 'reg_alpha': 1.2854494864236341e-05, 'reg_lambda': 2.2398999021069035e-08, 'max_depth': 5, 'num_leaves': 63, 'colsample_bytree': 0.548871475569996, 'min_child_samples': 8, 'max_bin': 54, 'subsample_freq': 6}. Best is trial 66 with value: 0.17795615393808062.\n"
     ]
    },
    {
     "name": "stdout",
     "output_type": "stream",
     "text": [
      "Repeat \u001b[1m\u001b[34m#1\n",
      "Repeat \u001b[1m\u001b[34m#2\n"
     ]
    },
    {
     "name": "stderr",
     "output_type": "stream",
     "text": [
      "[I 2023-06-29 13:19:24,477] Trial 126 finished with value: 0.20159587540182874 and parameters: {'boosting_type': 'goss', 'learning_rate': 0.07252597582093571, 'reg_alpha': 4.218386319022628e-05, 'reg_lambda': 4.028905207996987e-08, 'max_depth': 5, 'num_leaves': 54, 'colsample_bytree': 0.5614074555548282, 'min_child_samples': 16, 'max_bin': 36, 'subsample_freq': 6}. Best is trial 66 with value: 0.17795615393808062.\n"
     ]
    },
    {
     "name": "stdout",
     "output_type": "stream",
     "text": [
      "Repeat \u001b[1m\u001b[34m#1\n",
      "Repeat \u001b[1m\u001b[34m#2\n"
     ]
    },
    {
     "name": "stderr",
     "output_type": "stream",
     "text": [
      "[I 2023-06-29 13:19:26,083] Trial 127 finished with value: 0.18919958263982156 and parameters: {'boosting_type': 'goss', 'learning_rate': 0.08264579323530179, 'reg_alpha': 0.00014206795030105232, 'reg_lambda': 1.495961645949545e-08, 'max_depth': 5, 'num_leaves': 43, 'colsample_bytree': 0.462495545555859, 'min_child_samples': 12, 'max_bin': 48, 'subsample_freq': 5}. Best is trial 66 with value: 0.17795615393808062.\n"
     ]
    },
    {
     "name": "stdout",
     "output_type": "stream",
     "text": [
      "Repeat \u001b[1m\u001b[34m#1\n",
      "Repeat \u001b[1m\u001b[34m#2\n"
     ]
    },
    {
     "name": "stderr",
     "output_type": "stream",
     "text": [
      "[I 2023-06-29 13:19:28,102] Trial 128 finished with value: 0.19435771187484385 and parameters: {'boosting_type': 'goss', 'learning_rate': 0.05886386343210078, 'reg_alpha': 2.4874584214505348e-05, 'reg_lambda': 1.0181592894709143e-08, 'max_depth': 5, 'num_leaves': 58, 'colsample_bytree': 0.5362301449457334, 'min_child_samples': 20, 'max_bin': 116, 'subsample_freq': 5}. Best is trial 66 with value: 0.17795615393808062.\n"
     ]
    },
    {
     "name": "stdout",
     "output_type": "stream",
     "text": [
      "Repeat \u001b[1m\u001b[34m#1\n",
      "Repeat \u001b[1m\u001b[34m#2\n"
     ]
    },
    {
     "name": "stderr",
     "output_type": "stream",
     "text": [
      "[I 2023-06-29 13:19:31,038] Trial 129 finished with value: 0.19548407228538064 and parameters: {'boosting_type': 'goss', 'learning_rate': 0.029668382913276746, 'reg_alpha': 4.513621642541744e-06, 'reg_lambda': 1.5924268088679023e-07, 'max_depth': 5, 'num_leaves': 51, 'colsample_bytree': 0.5974535604600523, 'min_child_samples': 5, 'max_bin': 32, 'subsample_freq': 6}. Best is trial 66 with value: 0.17795615393808062.\n"
     ]
    },
    {
     "name": "stdout",
     "output_type": "stream",
     "text": [
      "Repeat \u001b[1m\u001b[34m#1\n",
      "Repeat \u001b[1m\u001b[34m#2\n"
     ]
    },
    {
     "name": "stderr",
     "output_type": "stream",
     "text": [
      "[I 2023-06-29 13:19:33,741] Trial 130 finished with value: 0.18588554999268814 and parameters: {'boosting_type': 'goss', 'learning_rate': 0.034533960164714356, 'reg_alpha': 6.240443006659314e-06, 'reg_lambda': 7.397457541992708e-08, 'max_depth': 5, 'num_leaves': 46, 'colsample_bytree': 0.4742246193194355, 'min_child_samples': 9, 'max_bin': 41, 'subsample_freq': 5}. Best is trial 66 with value: 0.17795615393808062.\n"
     ]
    },
    {
     "name": "stdout",
     "output_type": "stream",
     "text": [
      "Repeat \u001b[1m\u001b[34m#1\n",
      "Repeat \u001b[1m\u001b[34m#2\n"
     ]
    },
    {
     "name": "stderr",
     "output_type": "stream",
     "text": [
      "[I 2023-06-29 13:19:35,962] Trial 131 finished with value: 0.19012936016137724 and parameters: {'boosting_type': 'goss', 'learning_rate': 0.04349946635754858, 'reg_alpha': 6.436800112979846e-06, 'reg_lambda': 6.343219892816016e-08, 'max_depth': 5, 'num_leaves': 46, 'colsample_bytree': 0.4966396704543873, 'min_child_samples': 9, 'max_bin': 40, 'subsample_freq': 5}. Best is trial 66 with value: 0.17795615393808062.\n"
     ]
    },
    {
     "name": "stdout",
     "output_type": "stream",
     "text": [
      "Repeat \u001b[1m\u001b[34m#1\n",
      "Repeat \u001b[1m\u001b[34m#2\n"
     ]
    },
    {
     "name": "stderr",
     "output_type": "stream",
     "text": [
      "[I 2023-06-29 13:19:38,832] Trial 132 finished with value: 0.1838933944252982 and parameters: {'boosting_type': 'goss', 'learning_rate': 0.03347959101339065, 'reg_alpha': 1.7793291320468187e-05, 'reg_lambda': 2.701767273148998e-08, 'max_depth': 5, 'num_leaves': 61, 'colsample_bytree': 0.4789381784898451, 'min_child_samples': 10, 'max_bin': 43, 'subsample_freq': 5}. Best is trial 66 with value: 0.17795615393808062.\n"
     ]
    },
    {
     "name": "stdout",
     "output_type": "stream",
     "text": [
      "Repeat \u001b[1m\u001b[34m#1\n",
      "Repeat \u001b[1m\u001b[34m#2\n"
     ]
    },
    {
     "name": "stderr",
     "output_type": "stream",
     "text": [
      "[I 2023-06-29 13:19:41,776] Trial 133 finished with value: 0.19582627248320694 and parameters: {'boosting_type': 'goss', 'learning_rate': 0.027070127031046217, 'reg_alpha': 1.7176141771992735e-05, 'reg_lambda': 9.107678917660706e-08, 'max_depth': 5, 'num_leaves': 61, 'colsample_bytree': 0.4552900469826186, 'min_child_samples': 15, 'max_bin': 43, 'subsample_freq': 5}. Best is trial 66 with value: 0.17795615393808062.\n"
     ]
    },
    {
     "name": "stdout",
     "output_type": "stream",
     "text": [
      "Repeat \u001b[1m\u001b[34m#1\n",
      "Repeat \u001b[1m\u001b[34m#2\n"
     ]
    },
    {
     "name": "stderr",
     "output_type": "stream",
     "text": [
      "[I 2023-06-29 13:19:44,092] Trial 134 finished with value: 0.19134377121285084 and parameters: {'boosting_type': 'goss', 'learning_rate': 0.03816380212570314, 'reg_alpha': 3.094878983849251e-06, 'reg_lambda': 2.829212503663496e-07, 'max_depth': 5, 'num_leaves': 65, 'colsample_bytree': 0.4718003803261504, 'min_child_samples': 13, 'max_bin': 38, 'subsample_freq': 6}. Best is trial 66 with value: 0.17795615393808062.\n"
     ]
    },
    {
     "name": "stdout",
     "output_type": "stream",
     "text": [
      "Repeat \u001b[1m\u001b[34m#1\n",
      "Repeat \u001b[1m\u001b[34m#2\n"
     ]
    },
    {
     "name": "stderr",
     "output_type": "stream",
     "text": [
      "[I 2023-06-29 13:19:47,578] Trial 135 finished with value: 0.24811232858376614 and parameters: {'boosting_type': 'goss', 'learning_rate': 0.03564838107123248, 'reg_alpha': 5.941187385040129e-05, 'reg_lambda': 3.6787190330810794e-08, 'max_depth': 6, 'num_leaves': 55, 'colsample_bytree': 0.48224223030547786, 'min_child_samples': 49, 'max_bin': 50, 'subsample_freq': 5}. Best is trial 66 with value: 0.17795615393808062.\n"
     ]
    },
    {
     "name": "stdout",
     "output_type": "stream",
     "text": [
      "Repeat \u001b[1m\u001b[34m#1\n",
      "Repeat \u001b[1m\u001b[34m#2\n"
     ]
    },
    {
     "name": "stderr",
     "output_type": "stream",
     "text": [
      "[I 2023-06-29 13:19:50,159] Trial 136 finished with value: 0.1951057469047857 and parameters: {'boosting_type': 'goss', 'learning_rate': 0.03166734589516689, 'reg_alpha': 3.3430610938439666e-05, 'reg_lambda': 4.6290474992811604e-07, 'max_depth': 5, 'num_leaves': 34, 'colsample_bytree': 0.47589757706464036, 'min_child_samples': 18, 'max_bin': 46, 'subsample_freq': 6}. Best is trial 66 with value: 0.17795615393808062.\n"
     ]
    },
    {
     "name": "stdout",
     "output_type": "stream",
     "text": [
      "Repeat \u001b[1m\u001b[34m#1\n",
      "Repeat \u001b[1m\u001b[34m#2\n"
     ]
    },
    {
     "name": "stderr",
     "output_type": "stream",
     "text": [
      "[I 2023-06-29 13:19:52,208] Trial 137 finished with value: 0.17512873362467118 and parameters: {'boosting_type': 'goss', 'learning_rate': 0.06287717371179619, 'reg_alpha': 1.1716387435032611e-05, 'reg_lambda': 2.0320606087186432e-08, 'max_depth': 5, 'num_leaves': 49, 'colsample_bytree': 0.4901701605114531, 'min_child_samples': 10, 'max_bin': 41, 'subsample_freq': 4}. Best is trial 137 with value: 0.17512873362467118.\n"
     ]
    },
    {
     "name": "stdout",
     "output_type": "stream",
     "text": [
      "Repeat \u001b[1m\u001b[34m#1\n",
      "Repeat \u001b[1m\u001b[34m#2\n"
     ]
    },
    {
     "name": "stderr",
     "output_type": "stream",
     "text": [
      "[I 2023-06-29 13:19:53,889] Trial 138 finished with value: 0.19570119449237855 and parameters: {'boosting_type': 'goss', 'learning_rate': 0.07099751822319363, 'reg_alpha': 1.2751858545509914e-05, 'reg_lambda': 1.6496197876264244e-08, 'max_depth': 6, 'num_leaves': 48, 'colsample_bytree': 0.4891702618696357, 'min_child_samples': 10, 'max_bin': 35, 'subsample_freq': 4}. Best is trial 137 with value: 0.17512873362467118.\n"
     ]
    },
    {
     "name": "stdout",
     "output_type": "stream",
     "text": [
      "Repeat \u001b[1m\u001b[34m#1\n",
      "Repeat \u001b[1m\u001b[34m#2\n"
     ]
    },
    {
     "name": "stderr",
     "output_type": "stream",
     "text": [
      "[I 2023-06-29 13:19:56,367] Trial 139 finished with value: 0.1943411548358142 and parameters: {'boosting_type': 'goss', 'learning_rate': 0.047550137437973455, 'reg_alpha': 9.853123166698428e-05, 'reg_lambda': 2.6404875768443183e-08, 'max_depth': 5, 'num_leaves': 41, 'colsample_bytree': 0.46319735118888933, 'min_child_samples': 7, 'max_bin': 42, 'subsample_freq': 4}. Best is trial 137 with value: 0.17512873362467118.\n"
     ]
    },
    {
     "name": "stdout",
     "output_type": "stream",
     "text": [
      "Repeat \u001b[1m\u001b[34m#1\n",
      "Repeat \u001b[1m\u001b[34m#2\n"
     ]
    },
    {
     "name": "stderr",
     "output_type": "stream",
     "text": [
      "[I 2023-06-29 13:19:58,843] Trial 140 finished with value: 0.18831895964063827 and parameters: {'boosting_type': 'goss', 'learning_rate': 0.04103992020948262, 'reg_alpha': 1.008714211539866e-05, 'reg_lambda': 2.031225513895663e-07, 'max_depth': 6, 'num_leaves': 46, 'colsample_bytree': 0.4786978929081046, 'min_child_samples': 9, 'max_bin': 32, 'subsample_freq': 4}. Best is trial 137 with value: 0.17512873362467118.\n"
     ]
    },
    {
     "name": "stdout",
     "output_type": "stream",
     "text": [
      "Repeat \u001b[1m\u001b[34m#1\n",
      "Repeat \u001b[1m\u001b[34m#2\n"
     ]
    },
    {
     "name": "stderr",
     "output_type": "stream",
     "text": [
      "[I 2023-06-29 13:20:01,472] Trial 141 finished with value: 0.1936299744474449 and parameters: {'boosting_type': 'goss', 'learning_rate': 0.034120964054642273, 'reg_alpha': 9.220860868802806e-06, 'reg_lambda': 2.078648124765708e-07, 'max_depth': 6, 'num_leaves': 45, 'colsample_bytree': 0.4763350040603283, 'min_child_samples': 9, 'max_bin': 33, 'subsample_freq': 4}. Best is trial 137 with value: 0.17512873362467118.\n"
     ]
    },
    {
     "name": "stdout",
     "output_type": "stream",
     "text": [
      "Repeat \u001b[1m\u001b[34m#1\n",
      "Repeat \u001b[1m\u001b[34m#2\n"
     ]
    },
    {
     "name": "stderr",
     "output_type": "stream",
     "text": [
      "[I 2023-06-29 13:20:04,064] Trial 142 finished with value: 0.19425779065694973 and parameters: {'boosting_type': 'goss', 'learning_rate': 0.040901347721845255, 'reg_alpha': 2.3356860892082847e-06, 'reg_lambda': 1.0461903266974394e-07, 'max_depth': 6, 'num_leaves': 51, 'colsample_bytree': 0.49319748948548664, 'min_child_samples': 11, 'max_bin': 38, 'subsample_freq': 4}. Best is trial 137 with value: 0.17512873362467118.\n"
     ]
    },
    {
     "name": "stdout",
     "output_type": "stream",
     "text": [
      "Repeat \u001b[1m\u001b[34m#1\n",
      "Repeat \u001b[1m\u001b[34m#2\n"
     ]
    },
    {
     "name": "stderr",
     "output_type": "stream",
     "text": [
      "[I 2023-06-29 13:20:06,205] Trial 143 finished with value: 0.19155818479589176 and parameters: {'boosting_type': 'goss', 'learning_rate': 0.05575892152537158, 'reg_alpha': 5.122361670167894e-05, 'reg_lambda': 2.1587642177122702e-08, 'max_depth': 6, 'num_leaves': 26, 'colsample_bytree': 0.4863009083490834, 'min_child_samples': 14, 'max_bin': 54, 'subsample_freq': 4}. Best is trial 137 with value: 0.17512873362467118.\n"
     ]
    },
    {
     "name": "stdout",
     "output_type": "stream",
     "text": [
      "Repeat \u001b[1m\u001b[34m#1\n",
      "Repeat \u001b[1m\u001b[34m#2\n"
     ]
    },
    {
     "name": "stderr",
     "output_type": "stream",
     "text": [
      "[I 2023-06-29 13:20:07,886] Trial 144 finished with value: 0.2014669136377441 and parameters: {'boosting_type': 'goss', 'learning_rate': 0.0770517846478798, 'reg_alpha': 1.0146101004548516e-05, 'reg_lambda': 7.701701266345456e-07, 'max_depth': 6, 'num_leaves': 48, 'colsample_bytree': 0.467828140188499, 'min_child_samples': 8, 'max_bin': 39, 'subsample_freq': 4}. Best is trial 137 with value: 0.17512873362467118.\n"
     ]
    },
    {
     "name": "stdout",
     "output_type": "stream",
     "text": [
      "Repeat \u001b[1m\u001b[34m#1\n",
      "Repeat \u001b[1m\u001b[34m#2\n"
     ]
    },
    {
     "name": "stderr",
     "output_type": "stream",
     "text": [
      "[I 2023-06-29 13:20:10,928] Trial 145 finished with value: 0.18178208318011285 and parameters: {'boosting_type': 'goss', 'learning_rate': 0.032633230200634675, 'reg_alpha': 3.484551762329174e-05, 'reg_lambda': 3.905710117520663e-08, 'max_depth': 6, 'num_leaves': 43, 'colsample_bytree': 0.47809696044000655, 'min_child_samples': 10, 'max_bin': 44, 'subsample_freq': 4}. Best is trial 137 with value: 0.17512873362467118.\n"
     ]
    },
    {
     "name": "stdout",
     "output_type": "stream",
     "text": [
      "Repeat \u001b[1m\u001b[34m#1\n",
      "Repeat \u001b[1m\u001b[34m#2\n"
     ]
    },
    {
     "name": "stderr",
     "output_type": "stream",
     "text": [
      "[I 2023-06-29 13:20:14,492] Trial 146 finished with value: 0.1919026246284633 and parameters: {'boosting_type': 'goss', 'learning_rate': 0.0254033098240896, 'reg_alpha': 3.5232846813503085e-05, 'reg_lambda': 1.3201343976742378e-08, 'max_depth': 5, 'num_leaves': 56, 'colsample_bytree': 0.44441757039703694, 'min_child_samples': 13, 'max_bin': 58, 'subsample_freq': 6}. Best is trial 137 with value: 0.17512873362467118.\n"
     ]
    },
    {
     "name": "stdout",
     "output_type": "stream",
     "text": [
      "Repeat \u001b[1m\u001b[34m#1\n",
      "Repeat \u001b[1m\u001b[34m#2\n"
     ]
    },
    {
     "name": "stderr",
     "output_type": "stream",
     "text": [
      "[I 2023-06-29 13:20:17,303] Trial 147 finished with value: 0.19368885867479496 and parameters: {'boosting_type': 'goss', 'learning_rate': 0.032928499731964336, 'reg_alpha': 8.188172195892982e-05, 'reg_lambda': 3.686125162463839e-08, 'max_depth': 6, 'num_leaves': 37, 'colsample_bytree': 0.5019927523416147, 'min_child_samples': 16, 'max_bin': 44, 'subsample_freq': 4}. Best is trial 137 with value: 0.17512873362467118.\n"
     ]
    },
    {
     "name": "stdout",
     "output_type": "stream",
     "text": [
      "Repeat \u001b[1m\u001b[34m#1\n",
      "Repeat \u001b[1m\u001b[34m#2\n"
     ]
    },
    {
     "name": "stderr",
     "output_type": "stream",
     "text": [
      "[I 2023-06-29 13:20:18,887] Trial 148 finished with value: 0.18508355154806694 and parameters: {'boosting_type': 'goss', 'learning_rate': 0.06495714827999263, 'reg_alpha': 0.00018105492694482883, 'reg_lambda': 7.093642116010896e-08, 'max_depth': 5, 'num_leaves': 42, 'colsample_bytree': 0.4920552179038469, 'min_child_samples': 11, 'max_bin': 53, 'subsample_freq': 6}. Best is trial 137 with value: 0.17512873362467118.\n"
     ]
    },
    {
     "name": "stdout",
     "output_type": "stream",
     "text": [
      "Repeat \u001b[1m\u001b[34m#1\n",
      "Repeat \u001b[1m\u001b[34m#2\n"
     ]
    },
    {
     "name": "stderr",
     "output_type": "stream",
     "text": [
      "[I 2023-06-29 13:20:20,998] Trial 149 finished with value: 0.18580433444427685 and parameters: {'boosting_type': 'goss', 'learning_rate': 0.05074684101567617, 'reg_alpha': 0.0001813375232456029, 'reg_lambda': 2.0518363969560034e-08, 'max_depth': 5, 'num_leaves': 43, 'colsample_bytree': 0.46811690689987934, 'min_child_samples': 7, 'max_bin': 51, 'subsample_freq': 6}. Best is trial 137 with value: 0.17512873362467118.\n"
     ]
    },
    {
     "name": "stdout",
     "output_type": "stream",
     "text": [
      "Repeat \u001b[1m\u001b[34m#1\n",
      "Repeat \u001b[1m\u001b[34m#2\n"
     ]
    },
    {
     "name": "stderr",
     "output_type": "stream",
     "text": [
      "[I 2023-06-29 13:20:23,166] Trial 150 finished with value: 0.18793323760728364 and parameters: {'boosting_type': 'goss', 'learning_rate': 0.050615246318947274, 'reg_alpha': 0.00024963624098805896, 'reg_lambda': 7.066775803605751e-08, 'max_depth': 5, 'num_leaves': 42, 'colsample_bytree': 0.46721105377161665, 'min_child_samples': 8, 'max_bin': 52, 'subsample_freq': 6}. Best is trial 137 with value: 0.17512873362467118.\n"
     ]
    },
    {
     "name": "stdout",
     "output_type": "stream",
     "text": [
      "Repeat \u001b[1m\u001b[34m#1\n",
      "Repeat \u001b[1m\u001b[34m#2\n"
     ]
    },
    {
     "name": "stderr",
     "output_type": "stream",
     "text": [
      "[I 2023-06-29 13:20:25,007] Trial 151 finished with value: 0.18427829713430027 and parameters: {'boosting_type': 'goss', 'learning_rate': 0.0632531360433965, 'reg_alpha': 0.0001722372110928709, 'reg_lambda': 1.8049797772063157e-08, 'max_depth': 5, 'num_leaves': 39, 'colsample_bytree': 0.4912841454588605, 'min_child_samples': 6, 'max_bin': 46, 'subsample_freq': 6}. Best is trial 137 with value: 0.17512873362467118.\n"
     ]
    },
    {
     "name": "stdout",
     "output_type": "stream",
     "text": [
      "Repeat \u001b[1m\u001b[34m#1\n",
      "Repeat \u001b[1m\u001b[34m#2\n"
     ]
    },
    {
     "name": "stderr",
     "output_type": "stream",
     "text": [
      "[I 2023-06-29 13:20:27,690] Trial 152 finished with value: 0.19816970618860044 and parameters: {'boosting_type': 'goss', 'learning_rate': 0.029578891157314123, 'reg_alpha': 0.00017287947517132812, 'reg_lambda': 3.672604640763295e-08, 'max_depth': 5, 'num_leaves': 39, 'colsample_bytree': 0.48322597836830783, 'min_child_samples': 6, 'max_bin': 47, 'subsample_freq': 6}. Best is trial 137 with value: 0.17512873362467118.\n"
     ]
    },
    {
     "name": "stdout",
     "output_type": "stream",
     "text": [
      "Repeat \u001b[1m\u001b[34m#1\n",
      "Repeat \u001b[1m\u001b[34m#2\n"
     ]
    },
    {
     "name": "stderr",
     "output_type": "stream",
     "text": [
      "[I 2023-06-29 13:20:29,493] Trial 153 finished with value: 0.1897443364602418 and parameters: {'boosting_type': 'goss', 'learning_rate': 0.06504270087245345, 'reg_alpha': 0.0003910244833299792, 'reg_lambda': 1.994283700262862e-08, 'max_depth': 5, 'num_leaves': 44, 'colsample_bytree': 0.49332689860603324, 'min_child_samples': 7, 'max_bin': 42, 'subsample_freq': 6}. Best is trial 137 with value: 0.17512873362467118.\n"
     ]
    },
    {
     "name": "stdout",
     "output_type": "stream",
     "text": [
      "Repeat \u001b[1m\u001b[34m#1\n",
      "Repeat \u001b[1m\u001b[34m#2\n"
     ]
    },
    {
     "name": "stderr",
     "output_type": "stream",
     "text": [
      "[I 2023-06-29 13:20:31,620] Trial 154 finished with value: 0.18958572196651094 and parameters: {'boosting_type': 'goss', 'learning_rate': 0.05478269039232444, 'reg_alpha': 0.00013384718303292143, 'reg_lambda': 4.733143848864973e-08, 'max_depth': 5, 'num_leaves': 40, 'colsample_bytree': 0.5074540460910535, 'min_child_samples': 11, 'max_bin': 51, 'subsample_freq': 6}. Best is trial 137 with value: 0.17512873362467118.\n"
     ]
    },
    {
     "name": "stdout",
     "output_type": "stream",
     "text": [
      "Repeat \u001b[1m\u001b[34m#1\n",
      "Repeat \u001b[1m\u001b[34m#2\n"
     ]
    },
    {
     "name": "stderr",
     "output_type": "stream",
     "text": [
      "[I 2023-06-29 13:20:33,970] Trial 155 finished with value: 0.1980320737774351 and parameters: {'boosting_type': 'goss', 'learning_rate': 0.04532878404879204, 'reg_alpha': 0.0006630459244749335, 'reg_lambda': 2.5584762611248966e-08, 'max_depth': 5, 'num_leaves': 44, 'colsample_bytree': 0.4595564556893569, 'min_child_samples': 5, 'max_bin': 39, 'subsample_freq': 6}. Best is trial 137 with value: 0.17512873362467118.\n"
     ]
    },
    {
     "name": "stdout",
     "output_type": "stream",
     "text": [
      "Repeat \u001b[1m\u001b[34m#1\n",
      "Repeat \u001b[1m\u001b[34m#2\n"
     ]
    },
    {
     "name": "stderr",
     "output_type": "stream",
     "text": [
      "[I 2023-06-29 13:20:35,725] Trial 156 finished with value: 0.1936672657034707 and parameters: {'boosting_type': 'goss', 'learning_rate': 0.05952094262965896, 'reg_alpha': 0.00024263972439783537, 'reg_lambda': 1.4845676508578462e-08, 'max_depth': 5, 'num_leaves': 50, 'colsample_bytree': 0.47488632350143056, 'min_child_samples': 12, 'max_bin': 60, 'subsample_freq': 6}. Best is trial 137 with value: 0.17512873362467118.\n"
     ]
    },
    {
     "name": "stdout",
     "output_type": "stream",
     "text": [
      "Repeat \u001b[1m\u001b[34m#1\n",
      "Repeat \u001b[1m\u001b[34m#2\n"
     ]
    },
    {
     "name": "stderr",
     "output_type": "stream",
     "text": [
      "[I 2023-06-29 13:20:37,842] Trial 157 finished with value: 0.18930555074114536 and parameters: {'boosting_type': 'goss', 'learning_rate': 0.04936192244492285, 'reg_alpha': 0.00013644342768023723, 'reg_lambda': 1.1819930756677337e-07, 'max_depth': 5, 'num_leaves': 36, 'colsample_bytree': 0.49904640390912747, 'min_child_samples': 7, 'max_bin': 47, 'subsample_freq': 6}. Best is trial 137 with value: 0.17512873362467118.\n"
     ]
    },
    {
     "name": "stdout",
     "output_type": "stream",
     "text": [
      "Repeat \u001b[1m\u001b[34m#1\n",
      "Repeat \u001b[1m\u001b[34m#2\n"
     ]
    },
    {
     "name": "stderr",
     "output_type": "stream",
     "text": [
      "[I 2023-06-29 13:20:39,692] Trial 158 finished with value: 0.19444923230007233 and parameters: {'boosting_type': 'goss', 'learning_rate': 0.06674620390247102, 'reg_alpha': 0.0011084037914608623, 'reg_lambda': 5.5745232774152845e-08, 'max_depth': 5, 'num_leaves': 30, 'colsample_bytree': 0.4795259108884272, 'min_child_samples': 10, 'max_bin': 36, 'subsample_freq': 6}. Best is trial 137 with value: 0.17512873362467118.\n"
     ]
    },
    {
     "name": "stdout",
     "output_type": "stream",
     "text": [
      "Repeat \u001b[1m\u001b[34m#1\n",
      "Repeat \u001b[1m\u001b[34m#2\n"
     ]
    },
    {
     "name": "stderr",
     "output_type": "stream",
     "text": [
      "[I 2023-06-29 13:20:40,249] Trial 159 finished with value: 0.5013640821587471 and parameters: {'boosting_type': 'goss', 'learning_rate': 0.037707805775353154, 'reg_alpha': 0.0003290597133745341, 'reg_lambda': 3.239685348676955e-08, 'max_depth': 5, 'num_leaves': 47, 'colsample_bytree': 0.45154751774142377, 'min_child_samples': 83, 'max_bin': 55, 'subsample_freq': 6}. Best is trial 137 with value: 0.17512873362467118.\n"
     ]
    },
    {
     "name": "stdout",
     "output_type": "stream",
     "text": [
      "Repeat \u001b[1m\u001b[34m#1\n",
      "Repeat \u001b[1m\u001b[34m#2\n"
     ]
    },
    {
     "name": "stderr",
     "output_type": "stream",
     "text": [
      "[I 2023-06-29 13:20:42,049] Trial 160 finished with value: 0.1833598849816015 and parameters: {'boosting_type': 'goss', 'learning_rate': 0.05626192835868898, 'reg_alpha': 2.918125872562492e-05, 'reg_lambda': 8.254042986900258e-08, 'max_depth': 5, 'num_leaves': 42, 'colsample_bytree': 0.4892930337045621, 'min_child_samples': 13, 'max_bin': 50, 'subsample_freq': 3}. Best is trial 137 with value: 0.17512873362467118.\n"
     ]
    },
    {
     "name": "stdout",
     "output_type": "stream",
     "text": [
      "Repeat \u001b[1m\u001b[34m#1\n",
      "Repeat \u001b[1m\u001b[34m#2\n"
     ]
    },
    {
     "name": "stderr",
     "output_type": "stream",
     "text": [
      "[I 2023-06-29 13:20:43,986] Trial 161 finished with value: 0.1950242088061915 and parameters: {'boosting_type': 'goss', 'learning_rate': 0.05530985653546012, 'reg_alpha': 2.615252345388439e-05, 'reg_lambda': 7.953982255067928e-08, 'max_depth': 5, 'num_leaves': 40, 'colsample_bytree': 0.4915416924749972, 'min_child_samples': 14, 'max_bin': 43, 'subsample_freq': 3}. Best is trial 137 with value: 0.17512873362467118.\n"
     ]
    },
    {
     "name": "stdout",
     "output_type": "stream",
     "text": [
      "Repeat \u001b[1m\u001b[34m#1\n",
      "Repeat \u001b[1m\u001b[34m#2\n"
     ]
    },
    {
     "name": "stderr",
     "output_type": "stream",
     "text": [
      "[I 2023-06-29 13:20:45,861] Trial 162 finished with value: 0.18737625495771382 and parameters: {'boosting_type': 'goss', 'learning_rate': 0.061835400773265395, 'reg_alpha': 5.141497254977319e-05, 'reg_lambda': 2.0139629211149724e-08, 'max_depth': 5, 'num_leaves': 42, 'colsample_bytree': 0.5120912358880347, 'min_child_samples': 13, 'max_bin': 50, 'subsample_freq': 3}. Best is trial 137 with value: 0.17512873362467118.\n"
     ]
    },
    {
     "name": "stdout",
     "output_type": "stream",
     "text": [
      "Repeat \u001b[1m\u001b[34m#1\n",
      "Repeat \u001b[1m\u001b[34m#2\n"
     ]
    },
    {
     "name": "stderr",
     "output_type": "stream",
     "text": [
      "[I 2023-06-29 13:20:47,933] Trial 163 finished with value: 0.18774647972482128 and parameters: {'boosting_type': 'goss', 'learning_rate': 0.05067763204364898, 'reg_alpha': 9.813459074858996e-05, 'reg_lambda': 1.4059518443164392e-07, 'max_depth': 5, 'num_leaves': 49, 'colsample_bytree': 0.4724177098938005, 'min_child_samples': 10, 'max_bin': 41, 'subsample_freq': 2}. Best is trial 137 with value: 0.17512873362467118.\n"
     ]
    },
    {
     "name": "stdout",
     "output_type": "stream",
     "text": [
      "Repeat \u001b[1m\u001b[34m#1\n",
      "Repeat \u001b[1m\u001b[34m#2\n"
     ]
    },
    {
     "name": "stderr",
     "output_type": "stream",
     "text": [
      "[I 2023-06-29 13:20:50,103] Trial 164 finished with value: 0.18955487018169365 and parameters: {'boosting_type': 'goss', 'learning_rate': 0.04355588498433505, 'reg_alpha': 0.00022250413193283583, 'reg_lambda': 4.622639040676547e-08, 'max_depth': 5, 'num_leaves': 45, 'colsample_bytree': 0.5023656127021817, 'min_child_samples': 8, 'max_bin': 46, 'subsample_freq': 6}. Best is trial 137 with value: 0.17512873362467118.\n"
     ]
    },
    {
     "name": "stdout",
     "output_type": "stream",
     "text": [
      "Repeat \u001b[1m\u001b[34m#1\n",
      "Repeat \u001b[1m\u001b[34m#2\n"
     ]
    },
    {
     "name": "stderr",
     "output_type": "stream",
     "text": [
      "[I 2023-06-29 13:20:52,259] Trial 165 finished with value: 0.315767330287157 and parameters: {'boosting_type': 'goss', 'learning_rate': 0.07086532056146856, 'reg_alpha': 1.7038894719252844e-05, 'reg_lambda': 1.4314770303784542e-08, 'max_depth': 5, 'num_leaves': 38, 'colsample_bytree': 0.48457875623000213, 'min_child_samples': 64, 'max_bin': 55, 'subsample_freq': 2}. Best is trial 137 with value: 0.17512873362467118.\n"
     ]
    },
    {
     "name": "stdout",
     "output_type": "stream",
     "text": [
      "Repeat \u001b[1m\u001b[34m#1\n",
      "Repeat \u001b[1m\u001b[34m#2\n"
     ]
    },
    {
     "name": "stderr",
     "output_type": "stream",
     "text": [
      "[I 2023-06-29 13:20:54,196] Trial 166 finished with value: 0.20058226731408862 and parameters: {'boosting_type': 'goss', 'learning_rate': 0.05709831329646658, 'reg_alpha': 4.2379584224046286e-05, 'reg_lambda': 2.9501508917950273e-05, 'max_depth': 5, 'num_leaves': 62, 'colsample_bytree': 0.520505235264732, 'min_child_samples': 16, 'max_bin': 36, 'subsample_freq': 6}. Best is trial 137 with value: 0.17512873362467118.\n"
     ]
    },
    {
     "name": "stdout",
     "output_type": "stream",
     "text": [
      "Repeat \u001b[1m\u001b[34m#1\n",
      "Repeat \u001b[1m\u001b[34m#2\n"
     ]
    },
    {
     "name": "stderr",
     "output_type": "stream",
     "text": [
      "[I 2023-06-29 13:20:55,728] Trial 167 finished with value: 0.19742995459691096 and parameters: {'boosting_type': 'goss', 'learning_rate': 0.06441376583767358, 'reg_alpha': 0.0004448739213616193, 'reg_lambda': 2.7288566780423293e-08, 'max_depth': 5, 'num_leaves': 53, 'colsample_bytree': 0.4684186772416228, 'min_child_samples': 12, 'max_bin': 50, 'subsample_freq': 6}. Best is trial 137 with value: 0.17512873362467118.\n"
     ]
    },
    {
     "name": "stdout",
     "output_type": "stream",
     "text": [
      "Repeat \u001b[1m\u001b[34m#1\n",
      "Repeat \u001b[1m\u001b[34m#2\n"
     ]
    },
    {
     "name": "stderr",
     "output_type": "stream",
     "text": [
      "[I 2023-06-29 13:20:57,954] Trial 168 finished with value: 0.19028820423898213 and parameters: {'boosting_type': 'goss', 'learning_rate': 0.04652293752616968, 'reg_alpha': 6.64959783380536e-05, 'reg_lambda': 7.595808363074283e-08, 'max_depth': 5, 'num_leaves': 67, 'colsample_bytree': 0.49480040853267726, 'min_child_samples': 9, 'max_bin': 40, 'subsample_freq': 6}. Best is trial 137 with value: 0.17512873362467118.\n"
     ]
    },
    {
     "name": "stdout",
     "output_type": "stream",
     "text": [
      "Repeat \u001b[1m\u001b[34m#1\n",
      "Repeat \u001b[1m\u001b[34m#2\n"
     ]
    },
    {
     "name": "stderr",
     "output_type": "stream",
     "text": [
      "[I 2023-06-29 13:20:59,600] Trial 169 finished with value: 0.19428883624174081 and parameters: {'boosting_type': 'goss', 'learning_rate': 0.060084773161005085, 'reg_alpha': 2.8852429399848707e-05, 'reg_lambda': 1.048138537546565e-08, 'max_depth': 5, 'num_leaves': 44, 'colsample_bytree': 0.5079911066409241, 'min_child_samples': 15, 'max_bin': 60, 'subsample_freq': 6}. Best is trial 137 with value: 0.17512873362467118.\n"
     ]
    },
    {
     "name": "stdout",
     "output_type": "stream",
     "text": [
      "Repeat \u001b[1m\u001b[34m#1\n",
      "Repeat \u001b[1m\u001b[34m#2\n"
     ]
    },
    {
     "name": "stderr",
     "output_type": "stream",
     "text": [
      "[I 2023-06-29 13:21:01,922] Trial 170 finished with value: 0.19080856275141522 and parameters: {'boosting_type': 'goss', 'learning_rate': 0.05301163365851026, 'reg_alpha': 0.00016434079048444652, 'reg_lambda': 3.350320145688964e-06, 'max_depth': 5, 'num_leaves': 42, 'colsample_bytree': 0.48427714913516834, 'min_child_samples': 5, 'max_bin': 136, 'subsample_freq': 3}. Best is trial 137 with value: 0.17512873362467118.\n"
     ]
    },
    {
     "name": "stdout",
     "output_type": "stream",
     "text": [
      "Repeat \u001b[1m\u001b[34m#1\n",
      "Repeat \u001b[1m\u001b[34m#2\n"
     ]
    },
    {
     "name": "stderr",
     "output_type": "stream",
     "text": [
      "[I 2023-06-29 13:21:03,484] Trial 171 finished with value: 0.38964348895279205 and parameters: {'boosting_type': 'goss', 'learning_rate': 0.08111962390021445, 'reg_alpha': 9.080825604067006e-05, 'reg_lambda': 1.038878498758344e-08, 'max_depth': 6, 'num_leaves': 35, 'colsample_bytree': 0.48935096629681113, 'min_child_samples': 73, 'max_bin': 46, 'subsample_freq': 5}. Best is trial 137 with value: 0.17512873362467118.\n"
     ]
    },
    {
     "name": "stdout",
     "output_type": "stream",
     "text": [
      "Repeat \u001b[1m\u001b[34m#1\n",
      "Repeat \u001b[1m\u001b[34m#2\n"
     ]
    },
    {
     "name": "stderr",
     "output_type": "stream",
     "text": [
      "[I 2023-06-29 13:21:05,275] Trial 172 finished with value: 0.18840208964120994 and parameters: {'boosting_type': 'goss', 'learning_rate': 0.06739453650571765, 'reg_alpha': 4.3278713368091386e-05, 'reg_lambda': 2.2297286299678926e-08, 'max_depth': 6, 'num_leaves': 33, 'colsample_bytree': 0.5843102957712025, 'min_child_samples': 10, 'max_bin': 44, 'subsample_freq': 6}. Best is trial 137 with value: 0.17512873362467118.\n"
     ]
    },
    {
     "name": "stdout",
     "output_type": "stream",
     "text": [
      "Repeat \u001b[1m\u001b[34m#1\n",
      "Repeat \u001b[1m\u001b[34m#2\n"
     ]
    },
    {
     "name": "stderr",
     "output_type": "stream",
     "text": [
      "[I 2023-06-29 13:21:06,939] Trial 173 finished with value: 0.20475129160177616 and parameters: {'boosting_type': 'goss', 'learning_rate': 0.0769267209455758, 'reg_alpha': 5.823030069150142e-05, 'reg_lambda': 3.7352240578672885e-08, 'max_depth': 6, 'num_leaves': 37, 'colsample_bytree': 0.47944165695040897, 'min_child_samples': 11, 'max_bin': 52, 'subsample_freq': 5}. Best is trial 137 with value: 0.17512873362467118.\n"
     ]
    },
    {
     "name": "stdout",
     "output_type": "stream",
     "text": [
      "Repeat \u001b[1m\u001b[34m#1\n",
      "Repeat \u001b[1m\u001b[34m#2\n"
     ]
    },
    {
     "name": "stderr",
     "output_type": "stream",
     "text": [
      "[I 2023-06-29 13:21:08,647] Trial 174 finished with value: 0.19636960685677213 and parameters: {'boosting_type': 'goss', 'learning_rate': 0.0899336920669207, 'reg_alpha': 0.0001066455222928454, 'reg_lambda': 1.584740703926118e-08, 'max_depth': 5, 'num_leaves': 57, 'colsample_bytree': 0.4977971390167562, 'min_child_samples': 7, 'max_bin': 32, 'subsample_freq': 6}. Best is trial 137 with value: 0.17512873362467118.\n"
     ]
    },
    {
     "name": "stdout",
     "output_type": "stream",
     "text": [
      "Repeat \u001b[1m\u001b[34m#1\n",
      "Repeat \u001b[1m\u001b[34m#2\n"
     ]
    },
    {
     "name": "stderr",
     "output_type": "stream",
     "text": [
      "[I 2023-06-29 13:21:10,384] Trial 175 finished with value: 0.1915078694327967 and parameters: {'boosting_type': 'goss', 'learning_rate': 0.06969188984266181, 'reg_alpha': 1.66068903365123e-05, 'reg_lambda': 5.432566588950948e-08, 'max_depth': 6, 'num_leaves': 31, 'colsample_bytree': 0.45921747254946726, 'min_child_samples': 13, 'max_bin': 39, 'subsample_freq': 5}. Best is trial 137 with value: 0.17512873362467118.\n"
     ]
    },
    {
     "name": "stdout",
     "output_type": "stream",
     "text": [
      "Repeat \u001b[1m\u001b[34m#1\n",
      "Repeat \u001b[1m\u001b[34m#2\n"
     ]
    },
    {
     "name": "stderr",
     "output_type": "stream",
     "text": [
      "[I 2023-06-29 13:21:13,148] Trial 176 finished with value: 0.1885436831343095 and parameters: {'boosting_type': 'goss', 'learning_rate': 0.03416570900042808, 'reg_alpha': 2.715820510048207e-05, 'reg_lambda': 1.58318989182989e-06, 'max_depth': 5, 'num_leaves': 47, 'colsample_bytree': 0.514502468292745, 'min_child_samples': 9, 'max_bin': 44, 'subsample_freq': 6}. Best is trial 137 with value: 0.17512873362467118.\n"
     ]
    },
    {
     "name": "stdout",
     "output_type": "stream",
     "text": [
      "Repeat \u001b[1m\u001b[34m#1\n",
      "Repeat \u001b[1m\u001b[34m#2\n"
     ]
    },
    {
     "name": "stderr",
     "output_type": "stream",
     "text": [
      "[I 2023-06-29 13:21:15,247] Trial 177 finished with value: 0.19516193174670415 and parameters: {'boosting_type': 'goss', 'learning_rate': 0.058473311148601666, 'reg_alpha': 7.644794089160144e-05, 'reg_lambda': 9.044579637461278e-06, 'max_depth': 5, 'num_leaves': 50, 'colsample_bytree': 0.490471544568838, 'min_child_samples': 11, 'max_bin': 48, 'subsample_freq': 5}. Best is trial 137 with value: 0.17512873362467118.\n"
     ]
    },
    {
     "name": "stdout",
     "output_type": "stream",
     "text": [
      "Repeat \u001b[1m\u001b[34m#1\n",
      "Repeat \u001b[1m\u001b[34m#2\n"
     ]
    },
    {
     "name": "stderr",
     "output_type": "stream",
     "text": [
      "[I 2023-06-29 13:21:19,150] Trial 178 finished with value: 0.20036954561553338 and parameters: {'boosting_type': 'goss', 'learning_rate': 0.018033037252165842, 'reg_alpha': 0.00018331975190924378, 'reg_lambda': 3.1294177091482055e-08, 'max_depth': 6, 'num_leaves': 55, 'colsample_bytree': 0.5748383141442696, 'min_child_samples': 18, 'max_bin': 56, 'subsample_freq': 6}. Best is trial 137 with value: 0.17512873362467118.\n"
     ]
    },
    {
     "name": "stdout",
     "output_type": "stream",
     "text": [
      "Repeat \u001b[1m\u001b[34m#1\n",
      "Repeat \u001b[1m\u001b[34m#2\n"
     ]
    },
    {
     "name": "stderr",
     "output_type": "stream",
     "text": [
      "[I 2023-06-29 13:21:22,010] Trial 179 finished with value: 0.21257575994059064 and parameters: {'boosting_type': 'goss', 'learning_rate': 0.038695253874409835, 'reg_alpha': 5.722334307245037e-06, 'reg_lambda': 9.321602385670505e-08, 'max_depth': 5, 'num_leaves': 27, 'colsample_bytree': 0.46953086968695074, 'min_child_samples': 36, 'max_bin': 65, 'subsample_freq': 5}. Best is trial 137 with value: 0.17512873362467118.\n"
     ]
    },
    {
     "name": "stdout",
     "output_type": "stream",
     "text": [
      "Repeat \u001b[1m\u001b[34m#1\n",
      "Repeat \u001b[1m\u001b[34m#2\n"
     ]
    },
    {
     "name": "stderr",
     "output_type": "stream",
     "text": [
      "[I 2023-06-29 13:21:29,069] Trial 180 finished with value: 0.19034332436450507 and parameters: {'boosting_type': 'goss', 'learning_rate': 0.010335173351581841, 'reg_alpha': 1.3670278313969535e-05, 'reg_lambda': 2.026024101537695e-08, 'max_depth': 6, 'num_leaves': 60, 'colsample_bytree': 0.5033202439528903, 'min_child_samples': 7, 'max_bin': 39, 'subsample_freq': 6}. Best is trial 137 with value: 0.17512873362467118.\n"
     ]
    },
    {
     "name": "stdout",
     "output_type": "stream",
     "text": [
      "Repeat \u001b[1m\u001b[34m#1\n",
      "Repeat \u001b[1m\u001b[34m#2\n"
     ]
    },
    {
     "name": "stderr",
     "output_type": "stream",
     "text": [
      "[I 2023-06-29 13:21:30,604] Trial 181 finished with value: 0.19874603548797107 and parameters: {'boosting_type': 'goss', 'learning_rate': 0.08460495783630376, 'reg_alpha': 2.1121146309752033e-05, 'reg_lambda': 5.158181165588372e-08, 'max_depth': 5, 'num_leaves': 52, 'colsample_bytree': 0.47863418826034193, 'min_child_samples': 12, 'max_bin': 57, 'subsample_freq': 7}. Best is trial 137 with value: 0.17512873362467118.\n"
     ]
    },
    {
     "name": "stdout",
     "output_type": "stream",
     "text": [
      "Repeat \u001b[1m\u001b[34m#1\n",
      "Repeat \u001b[1m\u001b[34m#2\n"
     ]
    },
    {
     "name": "stderr",
     "output_type": "stream",
     "text": [
      "[I 2023-06-29 13:21:32,162] Trial 182 finished with value: 0.19068113618534743 and parameters: {'boosting_type': 'goss', 'learning_rate': 0.0739833366431274, 'reg_alpha': 3.559069697077409e-05, 'reg_lambda': 1.5322889740276607e-07, 'max_depth': 5, 'num_leaves': 40, 'colsample_bytree': 0.5694554292104773, 'min_child_samples': 10, 'max_bin': 53, 'subsample_freq': 7}. Best is trial 137 with value: 0.17512873362467118.\n"
     ]
    },
    {
     "name": "stdout",
     "output_type": "stream",
     "text": [
      "Repeat \u001b[1m\u001b[34m#1\n",
      "Repeat \u001b[1m\u001b[34m#2\n"
     ]
    },
    {
     "name": "stderr",
     "output_type": "stream",
     "text": [
      "[I 2023-06-29 13:21:34,178] Trial 183 finished with value: 0.19169653897647673 and parameters: {'boosting_type': 'goss', 'learning_rate': 0.06482295341978911, 'reg_alpha': 7.836824404738578e-06, 'reg_lambda': 6.233003512728603e-08, 'max_depth': 5, 'num_leaves': 47, 'colsample_bytree': 0.5219069285353556, 'min_child_samples': 14, 'max_bin': 49, 'subsample_freq': 5}. Best is trial 137 with value: 0.17512873362467118.\n"
     ]
    },
    {
     "name": "stdout",
     "output_type": "stream",
     "text": [
      "Repeat \u001b[1m\u001b[34m#1\n",
      "Repeat \u001b[1m\u001b[34m#2\n"
     ]
    },
    {
     "name": "stderr",
     "output_type": "stream",
     "text": [
      "[I 2023-06-29 13:21:35,911] Trial 184 finished with value: 0.20243625681934882 and parameters: {'boosting_type': 'goss', 'learning_rate': 0.07668657898221029, 'reg_alpha': 3.7338249301960675e-06, 'reg_lambda': 3.2512508146885654e-08, 'max_depth': 5, 'num_leaves': 54, 'colsample_bytree': 0.48593673206627974, 'min_child_samples': 8, 'max_bin': 43, 'subsample_freq': 6}. Best is trial 137 with value: 0.17512873362467118.\n"
     ]
    },
    {
     "name": "stdout",
     "output_type": "stream",
     "text": [
      "Repeat \u001b[1m\u001b[34m#1\n",
      "Repeat \u001b[1m\u001b[34m#2\n"
     ]
    },
    {
     "name": "stderr",
     "output_type": "stream",
     "text": [
      "[I 2023-06-29 13:21:38,004] Trial 185 finished with value: 0.18814659832149222 and parameters: {'boosting_type': 'goss', 'learning_rate': 0.051934295988226735, 'reg_alpha': 5.853519019792814e-05, 'reg_lambda': 1.7062670674189197e-08, 'max_depth': 5, 'num_leaves': 50, 'colsample_bytree': 0.4668819183878292, 'min_child_samples': 11, 'max_bin': 35, 'subsample_freq': 5}. Best is trial 137 with value: 0.17512873362467118.\n"
     ]
    },
    {
     "name": "stdout",
     "output_type": "stream",
     "text": [
      "Repeat \u001b[1m\u001b[34m#1\n",
      "Repeat \u001b[1m\u001b[34m#2\n"
     ]
    },
    {
     "name": "stderr",
     "output_type": "stream",
     "text": [
      "[I 2023-06-29 13:21:39,943] Trial 186 finished with value: 0.19678648227126794 and parameters: {'boosting_type': 'goss', 'learning_rate': 0.06223340176242487, 'reg_alpha': 1.5789850337134843e-05, 'reg_lambda': 2.8573862825341475e-07, 'max_depth': 5, 'num_leaves': 43, 'colsample_bytree': 0.4937657265301757, 'min_child_samples': 9, 'max_bin': 62, 'subsample_freq': 3}. Best is trial 137 with value: 0.17512873362467118.\n"
     ]
    },
    {
     "name": "stdout",
     "output_type": "stream",
     "text": [
      "Repeat \u001b[1m\u001b[34m#1\n",
      "Repeat \u001b[1m\u001b[34m#2\n"
     ]
    },
    {
     "name": "stderr",
     "output_type": "stream",
     "text": [
      "[I 2023-06-29 13:21:41,539] Trial 187 finished with value: 0.19568333205287136 and parameters: {'boosting_type': 'goss', 'learning_rate': 0.09281716291932059, 'reg_alpha': 0.0001335494945235131, 'reg_lambda': 1.0458102788457718e-08, 'max_depth': 6, 'num_leaves': 34, 'colsample_bytree': 0.5266868061231874, 'min_child_samples': 6, 'max_bin': 46, 'subsample_freq': 6}. Best is trial 137 with value: 0.17512873362467118.\n"
     ]
    },
    {
     "name": "stdout",
     "output_type": "stream",
     "text": [
      "Repeat \u001b[1m\u001b[34m#1\n",
      "Repeat \u001b[1m\u001b[34m#2\n"
     ]
    },
    {
     "name": "stderr",
     "output_type": "stream",
     "text": [
      "[I 2023-06-29 13:21:43,147] Trial 188 finished with value: 0.19359841296894542 and parameters: {'boosting_type': 'goss', 'learning_rate': 0.07119701408966599, 'reg_alpha': 2.733842034125759e-05, 'reg_lambda': 9.720245627823895e-08, 'max_depth': 5, 'num_leaves': 57, 'colsample_bytree': 0.44361940678403144, 'min_child_samples': 14, 'max_bin': 42, 'subsample_freq': 7}. Best is trial 137 with value: 0.17512873362467118.\n"
     ]
    },
    {
     "name": "stdout",
     "output_type": "stream",
     "text": [
      "Repeat \u001b[1m\u001b[34m#1\n",
      "Repeat \u001b[1m\u001b[34m#2\n"
     ]
    },
    {
     "name": "stderr",
     "output_type": "stream",
     "text": [
      "[I 2023-06-29 13:21:45,384] Trial 189 finished with value: 0.19847324916761153 and parameters: {'boosting_type': 'goss', 'learning_rate': 0.048718384249192836, 'reg_alpha': 0.0003283697600372341, 'reg_lambda': 2.4558149500276216e-08, 'max_depth': 5, 'num_leaves': 62, 'colsample_bytree': 0.5096772862473377, 'min_child_samples': 12, 'max_bin': 69, 'subsample_freq': 4}. Best is trial 137 with value: 0.17512873362467118.\n"
     ]
    },
    {
     "name": "stdout",
     "output_type": "stream",
     "text": [
      "Repeat \u001b[1m\u001b[34m#1\n",
      "Repeat \u001b[1m\u001b[34m#2\n"
     ]
    },
    {
     "name": "stderr",
     "output_type": "stream",
     "text": [
      "[I 2023-06-29 13:21:47,500] Trial 190 finished with value: 0.19515336528354882 and parameters: {'boosting_type': 'goss', 'learning_rate': 0.056051407906772634, 'reg_alpha': 1.0828266696139625e-05, 'reg_lambda': 4.257014540032085e-08, 'max_depth': 5, 'num_leaves': 23, 'colsample_bytree': 0.5947213485606778, 'min_child_samples': 10, 'max_bin': 52, 'subsample_freq': 1}. Best is trial 137 with value: 0.17512873362467118.\n"
     ]
    },
    {
     "name": "stdout",
     "output_type": "stream",
     "text": [
      "Repeat \u001b[1m\u001b[34m#1\n",
      "Repeat \u001b[1m\u001b[34m#2\n"
     ]
    },
    {
     "name": "stderr",
     "output_type": "stream",
     "text": [
      "[I 2023-06-29 13:21:49,319] Trial 191 finished with value: 0.18888889510827744 and parameters: {'boosting_type': 'goss', 'learning_rate': 0.061906589016620196, 'reg_alpha': 4.6581798601952105e-05, 'reg_lambda': 1.864702501940024e-08, 'max_depth': 5, 'num_leaves': 44, 'colsample_bytree': 0.5014049094984817, 'min_child_samples': 13, 'max_bin': 50, 'subsample_freq': 3}. Best is trial 137 with value: 0.17512873362467118.\n"
     ]
    },
    {
     "name": "stdout",
     "output_type": "stream",
     "text": [
      "Repeat \u001b[1m\u001b[34m#1\n",
      "Repeat \u001b[1m\u001b[34m#2\n"
     ]
    },
    {
     "name": "stderr",
     "output_type": "stream",
     "text": [
      "[I 2023-06-29 13:21:50,880] Trial 192 finished with value: 0.1894987310026482 and parameters: {'boosting_type': 'goss', 'learning_rate': 0.06426876517414924, 'reg_alpha': 8.063296332205225e-05, 'reg_lambda': 1.5034967711777943e-08, 'max_depth': 5, 'num_leaves': 41, 'colsample_bytree': 0.5121912376058342, 'min_child_samples': 16, 'max_bin': 48, 'subsample_freq': 3}. Best is trial 137 with value: 0.17512873362467118.\n"
     ]
    },
    {
     "name": "stdout",
     "output_type": "stream",
     "text": [
      "Repeat \u001b[1m\u001b[34m#1\n",
      "Repeat \u001b[1m\u001b[34m#2\n"
     ]
    },
    {
     "name": "stderr",
     "output_type": "stream",
     "text": [
      "[I 2023-06-29 13:21:52,472] Trial 193 finished with value: 0.18869705607672926 and parameters: {'boosting_type': 'goss', 'learning_rate': 0.0824649436471853, 'reg_alpha': 4.496161770633951e-05, 'reg_lambda': 2.6984623515611264e-08, 'max_depth': 5, 'num_leaves': 42, 'colsample_bytree': 0.5830357052892927, 'min_child_samples': 13, 'max_bin': 37, 'subsample_freq': 3}. Best is trial 137 with value: 0.17512873362467118.\n"
     ]
    },
    {
     "name": "stdout",
     "output_type": "stream",
     "text": [
      "Repeat \u001b[1m\u001b[34m#1\n",
      "Repeat \u001b[1m\u001b[34m#2\n"
     ]
    },
    {
     "name": "stderr",
     "output_type": "stream",
     "text": [
      "[I 2023-06-29 13:21:55,690] Trial 194 finished with value: 0.19312286124260652 and parameters: {'boosting_type': 'goss', 'learning_rate': 0.024604487337338034, 'reg_alpha': 6.176671358718853e-05, 'reg_lambda': 6.656848857941378e-08, 'max_depth': 5, 'num_leaves': 48, 'colsample_bytree': 0.478887870129369, 'min_child_samples': 8, 'max_bin': 58, 'subsample_freq': 3}. Best is trial 137 with value: 0.17512873362467118.\n"
     ]
    },
    {
     "name": "stdout",
     "output_type": "stream",
     "text": [
      "Repeat \u001b[1m\u001b[34m#1\n",
      "Repeat \u001b[1m\u001b[34m#2\n"
     ]
    },
    {
     "name": "stderr",
     "output_type": "stream",
     "text": [
      "[I 2023-06-29 13:21:57,426] Trial 195 finished with value: 0.18767241079176872 and parameters: {'boosting_type': 'goss', 'learning_rate': 0.05831542168351458, 'reg_alpha': 3.285387792942168e-05, 'reg_lambda': 1.1563243011610216e-06, 'max_depth': 5, 'num_leaves': 39, 'colsample_bytree': 0.5131502479012766, 'min_child_samples': 11, 'max_bin': 42, 'subsample_freq': 3}. Best is trial 137 with value: 0.17512873362467118.\n"
     ]
    },
    {
     "name": "stdout",
     "output_type": "stream",
     "text": [
      "Repeat \u001b[1m\u001b[34m#1\n",
      "Repeat \u001b[1m\u001b[34m#2\n"
     ]
    },
    {
     "name": "stderr",
     "output_type": "stream",
     "text": [
      "[I 2023-06-29 13:21:59,898] Trial 196 finished with value: 0.19860430537824886 and parameters: {'boosting_type': 'goss', 'learning_rate': 0.042944611225502825, 'reg_alpha': 1.830457636296269e-05, 'reg_lambda': 2.141700654193762e-08, 'max_depth': 6, 'num_leaves': 46, 'colsample_bytree': 0.4936535689392929, 'min_child_samples': 5, 'max_bin': 50, 'subsample_freq': 5}. Best is trial 137 with value: 0.17512873362467118.\n"
     ]
    },
    {
     "name": "stdout",
     "output_type": "stream",
     "text": [
      "Repeat \u001b[1m\u001b[34m#1\n",
      "Repeat \u001b[1m\u001b[34m#2\n"
     ]
    },
    {
     "name": "stderr",
     "output_type": "stream",
     "text": [
      "[I 2023-06-29 13:22:02,637] Trial 197 finished with value: 0.18801243782113788 and parameters: {'boosting_type': 'goss', 'learning_rate': 0.031832689662484134, 'reg_alpha': 0.00013399851825246856, 'reg_lambda': 3.628764989303592e-08, 'max_depth': 5, 'num_leaves': 37, 'colsample_bytree': 0.47310262804970793, 'min_child_samples': 9, 'max_bin': 45, 'subsample_freq': 6}. Best is trial 137 with value: 0.17512873362467118.\n"
     ]
    },
    {
     "name": "stdout",
     "output_type": "stream",
     "text": [
      "Repeat \u001b[1m\u001b[34m#1\n",
      "Repeat \u001b[1m\u001b[34m#2\n"
     ]
    },
    {
     "name": "stderr",
     "output_type": "stream",
     "text": [
      "[I 2023-06-29 13:22:06,008] Trial 198 finished with value: 0.2045384065323322 and parameters: {'boosting_type': 'goss', 'learning_rate': 0.02224403836853739, 'reg_alpha': 0.00022456368980432412, 'reg_lambda': 0.0003136972182928244, 'max_depth': 5, 'num_leaves': 52, 'colsample_bytree': 0.5424073338132906, 'min_child_samples': 29, 'max_bin': 55, 'subsample_freq': 5}. Best is trial 137 with value: 0.17512873362467118.\n"
     ]
    },
    {
     "name": "stdout",
     "output_type": "stream",
     "text": [
      "Repeat \u001b[1m\u001b[34m#1\n",
      "Repeat \u001b[1m\u001b[34m#2\n"
     ]
    },
    {
     "name": "stderr",
     "output_type": "stream",
     "text": [
      "[I 2023-06-29 13:22:07,947] Trial 199 finished with value: 0.2043068573495708 and parameters: {'boosting_type': 'goss', 'learning_rate': 0.06956423807470608, 'reg_alpha': 2.3152150405622227e-05, 'reg_lambda': 1.2200946320589365e-07, 'max_depth': 6, 'num_leaves': 64, 'colsample_bytree': 0.48637199595747027, 'min_child_samples': 15, 'max_bin': 198, 'subsample_freq': 6}. Best is trial 137 with value: 0.17512873362467118.\n"
     ]
    },
    {
     "name": "stdout",
     "output_type": "stream",
     "text": [
      "Repeat \u001b[1m\u001b[34m#1\n",
      "Repeat \u001b[1m\u001b[34m#2\n"
     ]
    },
    {
     "name": "stderr",
     "output_type": "stream",
     "text": [
      "[I 2023-06-29 13:22:10,193] Trial 200 finished with value: 0.1985732643294507 and parameters: {'boosting_type': 'goss', 'learning_rate': 0.05329589188808258, 'reg_alpha': 6.105574894585777e-06, 'reg_lambda': 1.4078358022001598e-08, 'max_depth': 7, 'num_leaves': 59, 'colsample_bytree': 0.5563183594424959, 'min_child_samples': 7, 'max_bin': 36, 'subsample_freq': 4}. Best is trial 137 with value: 0.17512873362467118.\n"
     ]
    },
    {
     "name": "stdout",
     "output_type": "stream",
     "text": [
      "Repeat \u001b[1m\u001b[34m#1\n",
      "Repeat \u001b[1m\u001b[34m#2\n"
     ]
    },
    {
     "name": "stderr",
     "output_type": "stream",
     "text": [
      "[I 2023-06-29 13:22:12,006] Trial 201 finished with value: 0.18815831536889477 and parameters: {'boosting_type': 'goss', 'learning_rate': 0.056779170759057515, 'reg_alpha': 3.2476340324923264e-05, 'reg_lambda': 1.001046303752898e-08, 'max_depth': 5, 'num_leaves': 40, 'colsample_bytree': 0.5216683762265494, 'min_child_samples': 11, 'max_bin': 41, 'subsample_freq': 3}. Best is trial 137 with value: 0.17512873362467118.\n"
     ]
    },
    {
     "name": "stdout",
     "output_type": "stream",
     "text": [
      "Repeat \u001b[1m\u001b[34m#1\n",
      "Repeat \u001b[1m\u001b[34m#2\n"
     ]
    },
    {
     "name": "stderr",
     "output_type": "stream",
     "text": [
      "[I 2023-06-29 13:22:15,424] Trial 202 finished with value: 0.19170808510938342 and parameters: {'boosting_type': 'goss', 'learning_rate': 0.02914104562334287, 'reg_alpha': 4.7208331706294776e-05, 'reg_lambda': 5.3858873469458e-07, 'max_depth': 5, 'num_leaves': 38, 'colsample_bytree': 0.5137797927881419, 'min_child_samples': 12, 'max_bin': 42, 'subsample_freq': 3}. Best is trial 137 with value: 0.17512873362467118.\n"
     ]
    },
    {
     "name": "stdout",
     "output_type": "stream",
     "text": [
      "Repeat \u001b[1m\u001b[34m#1\n",
      "Repeat \u001b[1m\u001b[34m#2\n"
     ]
    },
    {
     "name": "stderr",
     "output_type": "stream",
     "text": [
      "[I 2023-06-29 13:22:17,644] Trial 203 finished with value: 0.18535371238811515 and parameters: {'boosting_type': 'goss', 'learning_rate': 0.062211256111394685, 'reg_alpha': 7.901182786560018e-05, 'reg_lambda': 7.493875057092845e-08, 'max_depth': 5, 'num_leaves': 43, 'colsample_bytree': 0.49844076573558793, 'min_child_samples': 9, 'max_bin': 47, 'subsample_freq': 3}. Best is trial 137 with value: 0.17512873362467118.\n"
     ]
    },
    {
     "name": "stdout",
     "output_type": "stream",
     "text": [
      "Repeat \u001b[1m\u001b[34m#1\n",
      "Repeat \u001b[1m\u001b[34m#2\n"
     ]
    },
    {
     "name": "stderr",
     "output_type": "stream",
     "text": [
      "[I 2023-06-29 13:22:19,679] Trial 204 finished with value: 0.19782206749716708 and parameters: {'boosting_type': 'goss', 'learning_rate': 0.06120363182664269, 'reg_alpha': 7.958622062682353e-05, 'reg_lambda': 6.817428285452623e-08, 'max_depth': 5, 'num_leaves': 44, 'colsample_bytree': 0.503476967082739, 'min_child_samples': 9, 'max_bin': 48, 'subsample_freq': 3}. Best is trial 137 with value: 0.17512873362467118.\n"
     ]
    },
    {
     "name": "stdout",
     "output_type": "stream",
     "text": [
      "Repeat \u001b[1m\u001b[34m#1\n",
      "Repeat \u001b[1m\u001b[34m#2\n"
     ]
    },
    {
     "name": "stderr",
     "output_type": "stream",
     "text": [
      "[I 2023-06-29 13:22:21,435] Trial 205 finished with value: 0.18224355222429775 and parameters: {'boosting_type': 'goss', 'learning_rate': 0.07671917111205405, 'reg_alpha': 0.00012498796171148024, 'reg_lambda': 4.496056342556283e-08, 'max_depth': 5, 'num_leaves': 42, 'colsample_bytree': 0.4956607768885186, 'min_child_samples': 13, 'max_bin': 53, 'subsample_freq': 3}. Best is trial 137 with value: 0.17512873362467118.\n"
     ]
    },
    {
     "name": "stdout",
     "output_type": "stream",
     "text": [
      "Repeat \u001b[1m\u001b[34m#1\n",
      "Repeat \u001b[1m\u001b[34m#2\n"
     ]
    },
    {
     "name": "stderr",
     "output_type": "stream",
     "text": [
      "[I 2023-06-29 13:22:23,103] Trial 206 finished with value: 0.1913172364888414 and parameters: {'boosting_type': 'goss', 'learning_rate': 0.07330550868072103, 'reg_alpha': 0.0001207754076315781, 'reg_lambda': 8.933092749172549e-08, 'max_depth': 5, 'num_leaves': 49, 'colsample_bytree': 0.4876154309975083, 'min_child_samples': 7, 'max_bin': 60, 'subsample_freq': 6}. Best is trial 137 with value: 0.17512873362467118.\n"
     ]
    },
    {
     "name": "stdout",
     "output_type": "stream",
     "text": [
      "Repeat \u001b[1m\u001b[34m#1\n",
      "Repeat \u001b[1m\u001b[34m#2\n"
     ]
    },
    {
     "name": "stderr",
     "output_type": "stream",
     "text": [
      "[I 2023-06-29 13:22:24,704] Trial 207 finished with value: 0.19288210395563668 and parameters: {'boosting_type': 'goss', 'learning_rate': 0.08073202091085585, 'reg_alpha': 0.00029537203442299686, 'reg_lambda': 4.5608098833424687e-08, 'max_depth': 5, 'num_leaves': 46, 'colsample_bytree': 0.4958916760929381, 'min_child_samples': 10, 'max_bin': 54, 'subsample_freq': 2}. Best is trial 137 with value: 0.17512873362467118.\n"
     ]
    },
    {
     "name": "stdout",
     "output_type": "stream",
     "text": [
      "Repeat \u001b[1m\u001b[34m#1\n",
      "Repeat \u001b[1m\u001b[34m#2\n"
     ]
    },
    {
     "name": "stderr",
     "output_type": "stream",
     "text": [
      "[I 2023-06-29 13:22:26,861] Trial 208 finished with value: 0.19150110317221714 and parameters: {'boosting_type': 'goss', 'learning_rate': 0.05009475463346937, 'reg_alpha': 0.0004704259643609595, 'reg_lambda': 0.0032439996058047822, 'max_depth': 5, 'num_leaves': 35, 'colsample_bytree': 0.5659193869680028, 'min_child_samples': 14, 'max_bin': 46, 'subsample_freq': 6}. Best is trial 137 with value: 0.17512873362467118.\n"
     ]
    },
    {
     "name": "stdout",
     "output_type": "stream",
     "text": [
      "Repeat \u001b[1m\u001b[34m#1\n",
      "Repeat \u001b[1m\u001b[34m#2\n"
     ]
    },
    {
     "name": "stderr",
     "output_type": "stream",
     "text": [
      "[I 2023-06-29 13:22:28,930] Trial 209 finished with value: 0.19076669227449827 and parameters: {'boosting_type': 'goss', 'learning_rate': 0.06784240350271056, 'reg_alpha': 0.0001681280139971877, 'reg_lambda': 1.488784940002949e-07, 'max_depth': 6, 'num_leaves': 56, 'colsample_bytree': 0.48058621038442556, 'min_child_samples': 8, 'max_bin': 38, 'subsample_freq': 4}. Best is trial 137 with value: 0.17512873362467118.\n"
     ]
    },
    {
     "name": "stdout",
     "output_type": "stream",
     "text": [
      "Repeat \u001b[1m\u001b[34m#1\n",
      "Repeat \u001b[1m\u001b[34m#2\n"
     ]
    },
    {
     "name": "stderr",
     "output_type": "stream",
     "text": [
      "[I 2023-06-29 13:22:30,683] Trial 210 finished with value: 0.20235970685416504 and parameters: {'boosting_type': 'goss', 'learning_rate': 0.07751689665689243, 'reg_alpha': 8.007851868815187e-05, 'reg_lambda': 3.594721720055339e-08, 'max_depth': 5, 'num_leaves': 42, 'colsample_bytree': 0.46313755279900665, 'min_child_samples': 5, 'max_bin': 53, 'subsample_freq': 5}. Best is trial 137 with value: 0.17512873362467118.\n"
     ]
    },
    {
     "name": "stdout",
     "output_type": "stream",
     "text": [
      "Repeat \u001b[1m\u001b[34m#1\n",
      "Repeat \u001b[1m\u001b[34m#2\n"
     ]
    },
    {
     "name": "stderr",
     "output_type": "stream",
     "text": [
      "[I 2023-06-29 13:22:32,454] Trial 211 finished with value: 0.19482584233629827 and parameters: {'boosting_type': 'goss', 'learning_rate': 0.06293783105761333, 'reg_alpha': 5.649586389554521e-05, 'reg_lambda': 0.0001062982930208858, 'max_depth': 5, 'num_leaves': 44, 'colsample_bytree': 0.5045633819704678, 'min_child_samples': 13, 'max_bin': 49, 'subsample_freq': 3}. Best is trial 137 with value: 0.17512873362467118.\n"
     ]
    },
    {
     "name": "stdout",
     "output_type": "stream",
     "text": [
      "Repeat \u001b[1m\u001b[34m#1\n",
      "Repeat \u001b[1m\u001b[34m#2\n"
     ]
    },
    {
     "name": "stderr",
     "output_type": "stream",
     "text": [
      "[I 2023-06-29 13:22:34,621] Trial 212 finished with value: 0.18917989703278487 and parameters: {'boosting_type': 'goss', 'learning_rate': 0.05423854443570942, 'reg_alpha': 0.00010810525574443691, 'reg_lambda': 2.2881924451204242e-08, 'max_depth': 5, 'num_leaves': 41, 'colsample_bytree': 0.5756865383772879, 'min_child_samples': 12, 'max_bin': 45, 'subsample_freq': 3}. Best is trial 137 with value: 0.17512873362467118.\n"
     ]
    },
    {
     "name": "stdout",
     "output_type": "stream",
     "text": [
      "Repeat \u001b[1m\u001b[34m#1\n",
      "Repeat \u001b[1m\u001b[34m#2\n"
     ]
    },
    {
     "name": "stderr",
     "output_type": "stream",
     "text": [
      "[I 2023-06-29 13:22:38,616] Trial 213 finished with value: 0.1887859569661859 and parameters: {'boosting_type': 'goss', 'learning_rate': 0.019938432868984137, 'reg_alpha': 1.0467072465002238e-05, 'reg_lambda': 5.282996186737101e-08, 'max_depth': 5, 'num_leaves': 46, 'colsample_bytree': 0.4988959461748259, 'min_child_samples': 10, 'max_bin': 51, 'subsample_freq': 3}. Best is trial 137 with value: 0.17512873362467118.\n"
     ]
    },
    {
     "name": "stdout",
     "output_type": "stream",
     "text": [
      "Repeat \u001b[1m\u001b[34m#1\n",
      "Repeat \u001b[1m\u001b[34m#2\n"
     ]
    },
    {
     "name": "stderr",
     "output_type": "stream",
     "text": [
      "[I 2023-06-29 13:22:47,383] Trial 214 finished with value: 0.19166026791453505 and parameters: {'boosting_type': 'goss', 'learning_rate': 0.006666322156996624, 'reg_alpha': 0.00016986523536605008, 'reg_lambda': 2.867126965538122e-08, 'max_depth': 5, 'num_leaves': 52, 'colsample_bytree': 0.5305884673133197, 'min_child_samples': 17, 'max_bin': 40, 'subsample_freq': 3}. Best is trial 137 with value: 0.17512873362467118.\n"
     ]
    },
    {
     "name": "stdout",
     "output_type": "stream",
     "text": [
      "Repeat \u001b[1m\u001b[34m#1\n",
      "Repeat \u001b[1m\u001b[34m#2\n"
     ]
    },
    {
     "name": "stderr",
     "output_type": "stream",
     "text": [
      "[I 2023-06-29 13:22:51,992] Trial 215 finished with value: 0.19171658320552043 and parameters: {'boosting_type': 'goss', 'learning_rate': 0.014793819792922847, 'reg_alpha': 2.1348782123080123e-05, 'reg_lambda': 6.3674756322570314e-06, 'max_depth': 5, 'num_leaves': 42, 'colsample_bytree': 0.48958178290397375, 'min_child_samples': 15, 'max_bin': 57, 'subsample_freq': 3}. Best is trial 137 with value: 0.17512873362467118.\n"
     ]
    },
    {
     "name": "stdout",
     "output_type": "stream",
     "text": [
      "Repeat \u001b[1m\u001b[34m#1\n",
      "Repeat \u001b[1m\u001b[34m#2\n"
     ]
    },
    {
     "name": "stderr",
     "output_type": "stream",
     "text": [
      "[I 2023-06-29 13:22:53,865] Trial 216 finished with value: 0.20832357692383327 and parameters: {'boosting_type': 'goss', 'learning_rate': 0.08816590316023701, 'reg_alpha': 6.36754359618611e-05, 'reg_lambda': 7.537205367116809e-08, 'max_depth': 5, 'num_leaves': 48, 'colsample_bytree': 0.475163538260293, 'min_child_samples': 12, 'max_bin': 64, 'subsample_freq': 3}. Best is trial 137 with value: 0.17512873362467118.\n"
     ]
    },
    {
     "name": "stdout",
     "output_type": "stream",
     "text": [
      "Repeat \u001b[1m\u001b[34m#1\n",
      "Repeat \u001b[1m\u001b[34m#2\n"
     ]
    },
    {
     "name": "stderr",
     "output_type": "stream",
     "text": [
      "[I 2023-06-29 13:22:55,995] Trial 217 finished with value: 0.21955699763097455 and parameters: {'boosting_type': 'goss', 'learning_rate': 0.07053260995455755, 'reg_alpha': 6.796451348149846, 'reg_lambda': 1.503071103518239e-08, 'max_depth': 5, 'num_leaves': 39, 'colsample_bytree': 0.6006364678113739, 'min_child_samples': 9, 'max_bin': 32, 'subsample_freq': 6}. Best is trial 137 with value: 0.17512873362467118.\n"
     ]
    },
    {
     "name": "stdout",
     "output_type": "stream",
     "text": [
      "Repeat \u001b[1m\u001b[34m#1\n",
      "Repeat \u001b[1m\u001b[34m#2\n"
     ]
    },
    {
     "name": "stderr",
     "output_type": "stream",
     "text": [
      "[I 2023-06-29 13:22:59,452] Trial 218 finished with value: 0.19616897701383668 and parameters: {'boosting_type': 'goss', 'learning_rate': 0.027349370825490462, 'reg_alpha': 1.3153954119338293e-05, 'reg_lambda': 4.852313455097198e-08, 'max_depth': 7, 'num_leaves': 54, 'colsample_bytree': 0.5913312569718491, 'min_child_samples': 7, 'max_bin': 45, 'subsample_freq': 6}. Best is trial 137 with value: 0.17512873362467118.\n"
     ]
    },
    {
     "name": "stdout",
     "output_type": "stream",
     "text": [
      "Repeat \u001b[1m\u001b[34m#1\n",
      "Repeat \u001b[1m\u001b[34m#2\n"
     ]
    },
    {
     "name": "stderr",
     "output_type": "stream",
     "text": [
      "[I 2023-06-29 13:23:01,565] Trial 219 finished with value: 0.19259272365938415 and parameters: {'boosting_type': 'goss', 'learning_rate': 0.045387863720394335, 'reg_alpha': 3.7096088409054666e-05, 'reg_lambda': 1.7708897789983142e-07, 'max_depth': 5, 'num_leaves': 44, 'colsample_bytree': 0.4861253371393878, 'min_child_samples': 11, 'max_bin': 36, 'subsample_freq': 5}. Best is trial 137 with value: 0.17512873362467118.\n"
     ]
    },
    {
     "name": "stdout",
     "output_type": "stream",
     "text": [
      "Repeat \u001b[1m\u001b[34m#1\n",
      "Repeat \u001b[1m\u001b[34m#2\n"
     ]
    },
    {
     "name": "stderr",
     "output_type": "stream",
     "text": [
      "[I 2023-06-29 13:23:02,935] Trial 220 finished with value: 0.1983017333998118 and parameters: {'boosting_type': 'goss', 'learning_rate': 0.09922113208759872, 'reg_alpha': 0.000102649306116319, 'reg_lambda': 1.9971752675340354e-08, 'max_depth': 6, 'num_leaves': 69, 'colsample_bytree': 0.50871058090024, 'min_child_samples': 14, 'max_bin': 50, 'subsample_freq': 6}. Best is trial 137 with value: 0.17512873362467118.\n"
     ]
    },
    {
     "name": "stdout",
     "output_type": "stream",
     "text": [
      "Repeat \u001b[1m\u001b[34m#1\n",
      "Repeat \u001b[1m\u001b[34m#2\n"
     ]
    },
    {
     "name": "stderr",
     "output_type": "stream",
     "text": [
      "[I 2023-06-29 13:23:04,784] Trial 221 finished with value: 0.1920422270567098 and parameters: {'boosting_type': 'goss', 'learning_rate': 0.05830172873736112, 'reg_alpha': 2.8653212393899213e-05, 'reg_lambda': 2.363853335289824e-06, 'max_depth': 5, 'num_leaves': 38, 'colsample_bytree': 0.512955067106842, 'min_child_samples': 11, 'max_bin': 43, 'subsample_freq': 3}. Best is trial 137 with value: 0.17512873362467118.\n"
     ]
    },
    {
     "name": "stdout",
     "output_type": "stream",
     "text": [
      "Repeat \u001b[1m\u001b[34m#1\n",
      "Repeat \u001b[1m\u001b[34m#2\n"
     ]
    },
    {
     "name": "stderr",
     "output_type": "stream",
     "text": [
      "[I 2023-06-29 13:23:06,659] Trial 222 finished with value: 0.18312103833731755 and parameters: {'boosting_type': 'goss', 'learning_rate': 0.060000625669020854, 'reg_alpha': 0.04733984181686046, 'reg_lambda': 1.0120598021820332e-07, 'max_depth': 5, 'num_leaves': 35, 'colsample_bytree': 0.5207596748967553, 'min_child_samples': 10, 'max_bin': 41, 'subsample_freq': 3}. Best is trial 137 with value: 0.17512873362467118.\n"
     ]
    },
    {
     "name": "stdout",
     "output_type": "stream",
     "text": [
      "Repeat \u001b[1m\u001b[34m#1\n",
      "Repeat \u001b[1m\u001b[34m#2\n"
     ]
    },
    {
     "name": "stderr",
     "output_type": "stream",
     "text": [
      "[I 2023-06-29 13:23:08,423] Trial 223 finished with value: 0.18386362918382645 and parameters: {'boosting_type': 'goss', 'learning_rate': 0.06587608086970222, 'reg_alpha': 0.021063572634928023, 'reg_lambda': 1.0678830497694315e-07, 'max_depth': 5, 'num_leaves': 34, 'colsample_bytree': 0.5263781582932999, 'min_child_samples': 9, 'max_bin': 38, 'subsample_freq': 3}. Best is trial 137 with value: 0.17512873362467118.\n"
     ]
    },
    {
     "name": "stdout",
     "output_type": "stream",
     "text": [
      "Repeat \u001b[1m\u001b[34m#1\n",
      "Repeat \u001b[1m\u001b[34m#2\n"
     ]
    },
    {
     "name": "stderr",
     "output_type": "stream",
     "text": [
      "[I 2023-06-29 13:23:10,164] Trial 224 finished with value: 0.19301016036841298 and parameters: {'boosting_type': 'goss', 'learning_rate': 0.06729370165473463, 'reg_alpha': 0.046148530258233976, 'reg_lambda': 1.1119361605682937e-07, 'max_depth': 5, 'num_leaves': 35, 'colsample_bytree': 0.5253696864963185, 'min_child_samples': 9, 'max_bin': 37, 'subsample_freq': 3}. Best is trial 137 with value: 0.17512873362467118.\n"
     ]
    },
    {
     "name": "stdout",
     "output_type": "stream",
     "text": [
      "Repeat \u001b[1m\u001b[34m#1\n",
      "Repeat \u001b[1m\u001b[34m#2\n"
     ]
    },
    {
     "name": "stderr",
     "output_type": "stream",
     "text": [
      "[I 2023-06-29 13:23:11,738] Trial 225 finished with value: 0.19030317397571425 and parameters: {'boosting_type': 'goss', 'learning_rate': 0.07460533833347335, 'reg_alpha': 0.049260673052123054, 'reg_lambda': 2.53948609576844e-07, 'max_depth': 5, 'num_leaves': 30, 'colsample_bytree': 0.5396796901747332, 'min_child_samples': 7, 'max_bin': 40, 'subsample_freq': 3}. Best is trial 137 with value: 0.17512873362467118.\n"
     ]
    },
    {
     "name": "stdout",
     "output_type": "stream",
     "text": [
      "Repeat \u001b[1m\u001b[34m#1\n",
      "Repeat \u001b[1m\u001b[34m#2\n"
     ]
    },
    {
     "name": "stderr",
     "output_type": "stream",
     "text": [
      "[I 2023-06-29 13:23:14,536] Trial 226 finished with value: 0.18230140219335325 and parameters: {'boosting_type': 'goss', 'learning_rate': 0.035857082722951454, 'reg_alpha': 0.011166180873108512, 'reg_lambda': 1.0887935648447153e-07, 'max_depth': 5, 'num_leaves': 29, 'colsample_bytree': 0.5292575117732741, 'min_child_samples': 9, 'max_bin': 41, 'subsample_freq': 3}. Best is trial 137 with value: 0.17512873362467118.\n"
     ]
    },
    {
     "name": "stdout",
     "output_type": "stream",
     "text": [
      "Repeat \u001b[1m\u001b[34m#1\n",
      "Repeat \u001b[1m\u001b[34m#2\n"
     ]
    },
    {
     "name": "stderr",
     "output_type": "stream",
     "text": [
      "[I 2023-06-29 13:23:17,404] Trial 227 finished with value: 0.19040182042005166 and parameters: {'boosting_type': 'goss', 'learning_rate': 0.03662145670970762, 'reg_alpha': 0.017614902406805126, 'reg_lambda': 1.7595600428316598e-07, 'max_depth': 5, 'num_leaves': 32, 'colsample_bytree': 0.5224445640752017, 'min_child_samples': 9, 'max_bin': 94, 'subsample_freq': 3}. Best is trial 137 with value: 0.17512873362467118.\n"
     ]
    },
    {
     "name": "stdout",
     "output_type": "stream",
     "text": [
      "Repeat \u001b[1m\u001b[34m#1\n",
      "Repeat \u001b[1m\u001b[34m#2\n"
     ]
    },
    {
     "name": "stderr",
     "output_type": "stream",
     "text": [
      "[I 2023-06-29 13:23:19,801] Trial 228 finished with value: 0.19503958779557135 and parameters: {'boosting_type': 'goss', 'learning_rate': 0.03889829733636278, 'reg_alpha': 0.003334173986111401, 'reg_lambda': 1.640101575445703e-05, 'max_depth': 5, 'num_leaves': 32, 'colsample_bytree': 0.5321080554117817, 'min_child_samples': 6, 'max_bin': 35, 'subsample_freq': 3}. Best is trial 137 with value: 0.17512873362467118.\n"
     ]
    },
    {
     "name": "stdout",
     "output_type": "stream",
     "text": [
      "Repeat \u001b[1m\u001b[34m#1\n",
      "Repeat \u001b[1m\u001b[34m#2\n"
     ]
    },
    {
     "name": "stderr",
     "output_type": "stream",
     "text": [
      "[I 2023-06-29 13:23:22,809] Trial 229 finished with value: 0.18477617592533502 and parameters: {'boosting_type': 'goss', 'learning_rate': 0.031566571171367235, 'reg_alpha': 0.015727754225301174, 'reg_lambda': 1.0266746686142664e-07, 'max_depth': 6, 'num_leaves': 27, 'colsample_bytree': 0.4976445389112414, 'min_child_samples': 8, 'max_bin': 42, 'subsample_freq': 3}. Best is trial 137 with value: 0.17512873362467118.\n"
     ]
    },
    {
     "name": "stdout",
     "output_type": "stream",
     "text": [
      "Repeat \u001b[1m\u001b[34m#1\n",
      "Repeat \u001b[1m\u001b[34m#2\n"
     ]
    },
    {
     "name": "stderr",
     "output_type": "stream",
     "text": [
      "[I 2023-06-29 13:23:25,313] Trial 230 finished with value: 0.19046269746943645 and parameters: {'boosting_type': 'goss', 'learning_rate': 0.033055843456194146, 'reg_alpha': 0.009312614756384924, 'reg_lambda': 1.0714076610321547e-07, 'max_depth': 5, 'num_leaves': 24, 'colsample_bytree': 0.5189518381783423, 'min_child_samples': 8, 'max_bin': 32, 'subsample_freq': 3}. Best is trial 137 with value: 0.17512873362467118.\n"
     ]
    },
    {
     "name": "stdout",
     "output_type": "stream",
     "text": [
      "Repeat \u001b[1m\u001b[34m#1\n",
      "Repeat \u001b[1m\u001b[34m#2\n"
     ]
    },
    {
     "name": "stderr",
     "output_type": "stream",
     "text": [
      "[I 2023-06-29 13:23:28,130] Trial 231 finished with value: 0.18786955605274805 and parameters: {'boosting_type': 'goss', 'learning_rate': 0.030172417319744595, 'reg_alpha': 0.028398023939962342, 'reg_lambda': 7.73231162971595e-08, 'max_depth': 6, 'num_leaves': 31, 'colsample_bytree': 0.4959938762050034, 'min_child_samples': 10, 'max_bin': 40, 'subsample_freq': 3}. Best is trial 137 with value: 0.17512873362467118.\n"
     ]
    },
    {
     "name": "stdout",
     "output_type": "stream",
     "text": [
      "Repeat \u001b[1m\u001b[34m#1\n",
      "Repeat \u001b[1m\u001b[34m#2\n"
     ]
    },
    {
     "name": "stderr",
     "output_type": "stream",
     "text": [
      "[I 2023-06-29 13:23:31,088] Trial 232 finished with value: 0.19282716968897787 and parameters: {'boosting_type': 'goss', 'learning_rate': 0.026866136284316607, 'reg_alpha': 0.07575396925337444, 'reg_lambda': 1.2920722503485593e-07, 'max_depth': 6, 'num_leaves': 29, 'colsample_bytree': 0.5012342349123652, 'min_child_samples': 8, 'max_bin': 45, 'subsample_freq': 3}. Best is trial 137 with value: 0.17512873362467118.\n"
     ]
    },
    {
     "name": "stdout",
     "output_type": "stream",
     "text": [
      "Repeat \u001b[1m\u001b[34m#1\n",
      "Repeat \u001b[1m\u001b[34m#2\n"
     ]
    },
    {
     "name": "stderr",
     "output_type": "stream",
     "text": [
      "[I 2023-06-29 13:23:33,767] Trial 233 finished with value: 0.1927285187975811 and parameters: {'boosting_type': 'goss', 'learning_rate': 0.03579946559068098, 'reg_alpha': 0.010655357816917661, 'reg_lambda': 8.445857130321687e-08, 'max_depth': 6, 'num_leaves': 25, 'colsample_bytree': 0.49121358708922513, 'min_child_samples': 5, 'max_bin': 41, 'subsample_freq': 3}. Best is trial 137 with value: 0.17512873362467118.\n"
     ]
    },
    {
     "name": "stdout",
     "output_type": "stream",
     "text": [
      "Repeat \u001b[1m\u001b[34m#1\n",
      "Repeat \u001b[1m\u001b[34m#2\n"
     ]
    },
    {
     "name": "stderr",
     "output_type": "stream",
     "text": [
      "[I 2023-06-29 13:23:36,146] Trial 234 finished with value: 0.18432755656209676 and parameters: {'boosting_type': 'goss', 'learning_rate': 0.041736018009226376, 'reg_alpha': 0.017849382532573885, 'reg_lambda': 3.243280547802942e-07, 'max_depth': 6, 'num_leaves': 28, 'colsample_bytree': 0.5828337127417789, 'min_child_samples': 10, 'max_bin': 38, 'subsample_freq': 3}. Best is trial 137 with value: 0.17512873362467118.\n"
     ]
    },
    {
     "name": "stdout",
     "output_type": "stream",
     "text": [
      "Repeat \u001b[1m\u001b[34m#1\n",
      "Repeat \u001b[1m\u001b[34m#2\n"
     ]
    },
    {
     "name": "stderr",
     "output_type": "stream",
     "text": [
      "[I 2023-06-29 13:23:38,698] Trial 235 finished with value: 0.19068275586304562 and parameters: {'boosting_type': 'goss', 'learning_rate': 0.033467121965461706, 'reg_alpha': 0.017565173524281243, 'reg_lambda': 1.5943496138283482e-07, 'max_depth': 6, 'num_leaves': 30, 'colsample_bytree': 0.5807502170191459, 'min_child_samples': 11, 'max_bin': 37, 'subsample_freq': 3}. Best is trial 137 with value: 0.17512873362467118.\n"
     ]
    },
    {
     "name": "stdout",
     "output_type": "stream",
     "text": [
      "Repeat \u001b[1m\u001b[34m#1\n",
      "Repeat \u001b[1m\u001b[34m#2\n"
     ]
    },
    {
     "name": "stderr",
     "output_type": "stream",
     "text": [
      "[I 2023-06-29 13:23:41,068] Trial 236 finished with value: 0.18502980269171027 and parameters: {'boosting_type': 'goss', 'learning_rate': 0.04142744264589171, 'reg_alpha': 0.027228814261609533, 'reg_lambda': 4.961463172983989e-08, 'max_depth': 6, 'num_leaves': 27, 'colsample_bytree': 0.576485350461688, 'min_child_samples': 8, 'max_bin': 40, 'subsample_freq': 3}. Best is trial 137 with value: 0.17512873362467118.\n"
     ]
    },
    {
     "name": "stdout",
     "output_type": "stream",
     "text": [
      "Repeat \u001b[1m\u001b[34m#1\n",
      "Repeat \u001b[1m\u001b[34m#2\n"
     ]
    },
    {
     "name": "stderr",
     "output_type": "stream",
     "text": [
      "[I 2023-06-29 13:23:43,680] Trial 237 finished with value: 0.3030190657402966 and parameters: {'boosting_type': 'goss', 'learning_rate': 0.04173434704782828, 'reg_alpha': 0.022238322556430955, 'reg_lambda': 3.206894160555533e-07, 'max_depth': 6, 'num_leaves': 27, 'colsample_bytree': 0.5879785984087889, 'min_child_samples': 54, 'max_bin': 36, 'subsample_freq': 3}. Best is trial 137 with value: 0.17512873362467118.\n"
     ]
    },
    {
     "name": "stdout",
     "output_type": "stream",
     "text": [
      "Repeat \u001b[1m\u001b[34m#1\n",
      "Repeat \u001b[1m\u001b[34m#2\n"
     ]
    },
    {
     "name": "stderr",
     "output_type": "stream",
     "text": [
      "[I 2023-06-29 13:23:46,239] Trial 238 finished with value: 0.19650122843890327 and parameters: {'boosting_type': 'goss', 'learning_rate': 0.038118808019106686, 'reg_alpha': 0.03597188911462461, 'reg_lambda': 5.409348552100557e-08, 'max_depth': 6, 'num_leaves': 27, 'colsample_bytree': 0.5383316264772816, 'min_child_samples': 8, 'max_bin': 43, 'subsample_freq': 3}. Best is trial 137 with value: 0.17512873362467118.\n"
     ]
    },
    {
     "name": "stdout",
     "output_type": "stream",
     "text": [
      "Repeat \u001b[1m\u001b[34m#1\n",
      "Repeat \u001b[1m\u001b[34m#2\n"
     ]
    },
    {
     "name": "stderr",
     "output_type": "stream",
     "text": [
      "[I 2023-06-29 13:23:48,498] Trial 239 finished with value: 0.1906426001268148 and parameters: {'boosting_type': 'goss', 'learning_rate': 0.04440370603243627, 'reg_alpha': 0.06169735603486402, 'reg_lambda': 2.483668181655795e-07, 'max_depth': 6, 'num_leaves': 18, 'colsample_bytree': 0.52490481497174, 'min_child_samples': 6, 'max_bin': 32, 'subsample_freq': 3}. Best is trial 137 with value: 0.17512873362467118.\n"
     ]
    },
    {
     "name": "stdout",
     "output_type": "stream",
     "text": [
      "Repeat \u001b[1m\u001b[34m#1\n",
      "Repeat \u001b[1m\u001b[34m#2\n"
     ]
    },
    {
     "name": "stderr",
     "output_type": "stream",
     "text": [
      "[I 2023-06-29 13:23:50,563] Trial 240 finished with value: 0.19465951451716743 and parameters: {'boosting_type': 'goss', 'learning_rate': 0.04791755010864883, 'reg_alpha': 0.11558048238086295, 'reg_lambda': 9.597543631655825e-08, 'max_depth': 6, 'num_leaves': 23, 'colsample_bytree': 0.6045754585830856, 'min_child_samples': 10, 'max_bin': 39, 'subsample_freq': 3}. Best is trial 137 with value: 0.17512873362467118.\n"
     ]
    },
    {
     "name": "stdout",
     "output_type": "stream",
     "text": [
      "Repeat \u001b[1m\u001b[34m#1\n",
      "Repeat \u001b[1m\u001b[34m#2\n"
     ]
    },
    {
     "name": "stderr",
     "output_type": "stream",
     "text": [
      "[I 2023-06-29 13:23:52,460] Trial 241 finished with value: 0.19014953995050848 and parameters: {'boosting_type': 'goss', 'learning_rate': 0.0527437785987121, 'reg_alpha': 0.014009777555815353, 'reg_lambda': 6.176454274724481e-08, 'max_depth': 6, 'num_leaves': 28, 'colsample_bytree': 0.5771283727278982, 'min_child_samples': 12, 'max_bin': 46, 'subsample_freq': 3}. Best is trial 137 with value: 0.17512873362467118.\n"
     ]
    },
    {
     "name": "stdout",
     "output_type": "stream",
     "text": [
      "Repeat \u001b[1m\u001b[34m#1\n",
      "Repeat \u001b[1m\u001b[34m#2\n"
     ]
    },
    {
     "name": "stderr",
     "output_type": "stream",
     "text": [
      "[I 2023-06-29 13:23:55,158] Trial 242 finished with value: 0.19000611408238016 and parameters: {'boosting_type': 'goss', 'learning_rate': 0.04134069089967627, 'reg_alpha': 0.03613568443581399, 'reg_lambda': 4.253294774185113e-06, 'max_depth': 6, 'num_leaves': 33, 'colsample_bytree': 0.5811315157447243, 'min_child_samples': 9, 'max_bin': 42, 'subsample_freq': 3}. Best is trial 137 with value: 0.17512873362467118.\n"
     ]
    },
    {
     "name": "stdout",
     "output_type": "stream",
     "text": [
      "Repeat \u001b[1m\u001b[34m#1\n",
      "Repeat \u001b[1m\u001b[34m#2\n"
     ]
    },
    {
     "name": "stderr",
     "output_type": "stream",
     "text": [
      "[I 2023-06-29 13:23:57,745] Trial 243 finished with value: 0.1935491446933328 and parameters: {'boosting_type': 'goss', 'learning_rate': 0.03508548278713153, 'reg_alpha': 0.009210732630606747, 'reg_lambda': 4.572330040847083e-08, 'max_depth': 5, 'num_leaves': 26, 'colsample_bytree': 0.566385330754756, 'min_child_samples': 7, 'max_bin': 39, 'subsample_freq': 3}. Best is trial 137 with value: 0.17512873362467118.\n"
     ]
    },
    {
     "name": "stdout",
     "output_type": "stream",
     "text": [
      "Repeat \u001b[1m\u001b[34m#1\n",
      "Repeat \u001b[1m\u001b[34m#2\n"
     ]
    },
    {
     "name": "stderr",
     "output_type": "stream",
     "text": [
      "[I 2023-06-29 13:23:59,544] Trial 244 finished with value: 0.19041363747360174 and parameters: {'boosting_type': 'goss', 'learning_rate': 0.05895281474010738, 'reg_alpha': 0.02289405717187812, 'reg_lambda': 3.694895677242402e-08, 'max_depth': 5, 'num_leaves': 29, 'colsample_bytree': 0.5776524914333697, 'min_child_samples': 10, 'max_bin': 44, 'subsample_freq': 3}. Best is trial 137 with value: 0.17512873362467118.\n"
     ]
    },
    {
     "name": "stdout",
     "output_type": "stream",
     "text": [
      "Repeat \u001b[1m\u001b[34m#1\n",
      "Repeat \u001b[1m\u001b[34m#2\n"
     ]
    },
    {
     "name": "stderr",
     "output_type": "stream",
     "text": [
      "[I 2023-06-29 13:24:01,938] Trial 245 finished with value: 0.18802859519476997 and parameters: {'boosting_type': 'goss', 'learning_rate': 0.04808915137204069, 'reg_alpha': 0.013700595444024653, 'reg_lambda': 1.128551477147813e-07, 'max_depth': 6, 'num_leaves': 35, 'colsample_bytree': 0.5905142165714425, 'min_child_samples': 13, 'max_bin': 48, 'subsample_freq': 3}. Best is trial 137 with value: 0.17512873362467118.\n"
     ]
    },
    {
     "name": "stdout",
     "output_type": "stream",
     "text": [
      "Repeat \u001b[1m\u001b[34m#1\n",
      "Repeat \u001b[1m\u001b[34m#2\n"
     ]
    },
    {
     "name": "stderr",
     "output_type": "stream",
     "text": [
      "[I 2023-06-29 13:24:04,977] Trial 246 finished with value: 0.1962909361444872 and parameters: {'boosting_type': 'goss', 'learning_rate': 0.030868731698792253, 'reg_alpha': 0.004996820954967334, 'reg_lambda': 7.015863838854624e-08, 'max_depth': 5, 'num_leaves': 61, 'colsample_bytree': 0.6103020057607024, 'min_child_samples': 8, 'max_bin': 36, 'subsample_freq': 3}. Best is trial 137 with value: 0.17512873362467118.\n"
     ]
    },
    {
     "name": "stdout",
     "output_type": "stream",
     "text": [
      "Repeat \u001b[1m\u001b[34m#1\n",
      "Repeat \u001b[1m\u001b[34m#2\n"
     ]
    },
    {
     "name": "stderr",
     "output_type": "stream",
     "text": [
      "[I 2023-06-29 13:24:21,020] Trial 247 finished with value: 0.20530688498286345 and parameters: {'boosting_type': 'goss', 'learning_rate': 0.002635251285944289, 'reg_alpha': 0.03368963437657861, 'reg_lambda': 3.4442914838536855e-08, 'max_depth': 5, 'num_leaves': 32, 'colsample_bytree': 0.3701562470487707, 'min_child_samples': 11, 'max_bin': 46, 'subsample_freq': 6}. Best is trial 137 with value: 0.17512873362467118.\n"
     ]
    },
    {
     "name": "stdout",
     "output_type": "stream",
     "text": [
      "Repeat \u001b[1m\u001b[34m#1\n",
      "Repeat \u001b[1m\u001b[34m#2\n"
     ]
    },
    {
     "name": "stderr",
     "output_type": "stream",
     "text": [
      "[I 2023-06-29 13:24:22,775] Trial 248 finished with value: 0.19769328009976356 and parameters: {'boosting_type': 'goss', 'learning_rate': 0.06280707261489561, 'reg_alpha': 0.026125897352859126, 'reg_lambda': 3.782497902943079e-07, 'max_depth': 5, 'num_leaves': 64, 'colsample_bytree': 0.5730448462947463, 'min_child_samples': 13, 'max_bin': 42, 'subsample_freq': 2}. Best is trial 137 with value: 0.17512873362467118.\n"
     ]
    },
    {
     "name": "stdout",
     "output_type": "stream",
     "text": [
      "Repeat \u001b[1m\u001b[34m#1\n",
      "Repeat \u001b[1m\u001b[34m#2\n"
     ]
    },
    {
     "name": "stderr",
     "output_type": "stream",
     "text": [
      "[I 2023-06-29 13:24:24,855] Trial 249 finished with value: 0.18993996726858484 and parameters: {'boosting_type': 'goss', 'learning_rate': 0.054548345545070036, 'reg_alpha': 0.018929485621992863, 'reg_lambda': 8.716215558578933e-07, 'max_depth': 6, 'num_leaves': 23, 'colsample_bytree': 0.5291733038825933, 'min_child_samples': 7, 'max_bin': 40, 'subsample_freq': 6}. Best is trial 137 with value: 0.17512873362467118.\n"
     ]
    },
    {
     "name": "stdout",
     "output_type": "stream",
     "text": [
      "Repeat \u001b[1m\u001b[34m#1\n",
      "Repeat \u001b[1m\u001b[34m#2\n"
     ]
    },
    {
     "name": "stderr",
     "output_type": "stream",
     "text": [
      "[I 2023-06-29 13:24:26,979] Trial 250 finished with value: 0.18869922235976816 and parameters: {'boosting_type': 'goss', 'learning_rate': 0.03810977725853748, 'reg_alpha': 0.008620073041852111, 'reg_lambda': 1.8786106424121276e-07, 'max_depth': 5, 'num_leaves': 37, 'colsample_bytree': 0.5477360126366131, 'min_child_samples': 9, 'max_bin': 49, 'subsample_freq': 3}. Best is trial 137 with value: 0.17512873362467118.\n"
     ]
    },
    {
     "name": "stdout",
     "output_type": "stream",
     "text": [
      "Repeat \u001b[1m\u001b[34m#1\n",
      "Repeat \u001b[1m\u001b[34m#2\n"
     ]
    },
    {
     "name": "stderr",
     "output_type": "stream",
     "text": [
      "[I 2023-06-29 13:24:29,312] Trial 251 finished with value: 0.19597464108539603 and parameters: {'boosting_type': 'goss', 'learning_rate': 0.05053867759752699, 'reg_alpha': 0.0071918150925551925, 'reg_lambda': 1.5548771954064904, 'max_depth': 6, 'num_leaves': 58, 'colsample_bytree': 0.4787661516456868, 'min_child_samples': 11, 'max_bin': 146, 'subsample_freq': 6}. Best is trial 137 with value: 0.17512873362467118.\n"
     ]
    },
    {
     "name": "stdout",
     "output_type": "stream",
     "text": [
      "Repeat \u001b[1m\u001b[34m#1\n",
      "Repeat \u001b[1m\u001b[34m#2\n"
     ]
    },
    {
     "name": "stderr",
     "output_type": "stream",
     "text": [
      "[I 2023-06-29 13:24:30,871] Trial 252 finished with value: 0.2080710606433685 and parameters: {'boosting_type': 'goss', 'learning_rate': 0.06419133647988567, 'reg_alpha': 0.015509829107860187, 'reg_lambda': 5.6615846663015436e-08, 'max_depth': 5, 'num_leaves': 45, 'colsample_bytree': 0.561058039718874, 'min_child_samples': 5, 'max_bin': 35, 'subsample_freq': 3}. Best is trial 137 with value: 0.17512873362467118.\n"
     ]
    },
    {
     "name": "stdout",
     "output_type": "stream",
     "text": [
      "Repeat \u001b[1m\u001b[34m#1\n",
      "Repeat \u001b[1m\u001b[34m#2\n"
     ]
    },
    {
     "name": "stderr",
     "output_type": "stream",
     "text": [
      "[I 2023-06-29 13:24:33,082] Trial 253 finished with value: 0.18713008784271698 and parameters: {'boosting_type': 'goss', 'learning_rate': 0.04450213715284378, 'reg_alpha': 0.0008343427928973303, 'reg_lambda': 3.1327310925179584e-08, 'max_depth': 5, 'num_leaves': 40, 'colsample_bytree': 0.504234456463632, 'min_child_samples': 9, 'max_bin': 52, 'subsample_freq': 4}. Best is trial 137 with value: 0.17512873362467118.\n"
     ]
    },
    {
     "name": "stdout",
     "output_type": "stream",
     "text": [
      "Repeat \u001b[1m\u001b[34m#1\n",
      "Repeat \u001b[1m\u001b[34m#2\n"
     ]
    },
    {
     "name": "stderr",
     "output_type": "stream",
     "text": [
      "[I 2023-06-29 13:24:34,773] Trial 254 finished with value: 0.1917743720626086 and parameters: {'boosting_type': 'goss', 'learning_rate': 0.057344858369490194, 'reg_alpha': 0.004670358056928249, 'reg_lambda': 5.338566097720213e-05, 'max_depth': 6, 'num_leaves': 20, 'colsample_bytree': 0.5844897445462013, 'min_child_samples': 12, 'max_bin': 39, 'subsample_freq': 6}. Best is trial 137 with value: 0.17512873362467118.\n"
     ]
    },
    {
     "name": "stdout",
     "output_type": "stream",
     "text": [
      "Repeat \u001b[1m\u001b[34m#1\n",
      "Repeat \u001b[1m\u001b[34m#2\n"
     ]
    },
    {
     "name": "stderr",
     "output_type": "stream",
     "text": [
      "[I 2023-06-29 13:24:36,757] Trial 255 finished with value: 0.19275776098632533 and parameters: {'boosting_type': 'goss', 'learning_rate': 0.040985939525286584, 'reg_alpha': 0.0015685200059466747, 'reg_lambda': 9.800748104656869e-08, 'max_depth': 5, 'num_leaves': 67, 'colsample_bytree': 0.600175863777935, 'min_child_samples': 15, 'max_bin': 46, 'subsample_freq': 6}. Best is trial 137 with value: 0.17512873362467118.\n"
     ]
    },
    {
     "name": "stdout",
     "output_type": "stream",
     "text": [
      "Repeat \u001b[1m\u001b[34m#1\n",
      "Repeat \u001b[1m\u001b[34m#2\n"
     ]
    },
    {
     "name": "stderr",
     "output_type": "stream",
     "text": [
      "[I 2023-06-29 13:24:40,082] Trial 256 finished with value: 0.1920508366168717 and parameters: {'boosting_type': 'goss', 'learning_rate': 0.024459285075045016, 'reg_alpha': 0.11517463638333356, 'reg_lambda': 3.967600737008483e-08, 'max_depth': 5, 'num_leaves': 50, 'colsample_bytree': 0.5170038456522973, 'min_child_samples': 7, 'max_bin': 42, 'subsample_freq': 3}. Best is trial 137 with value: 0.17512873362467118.\n"
     ]
    },
    {
     "name": "stdout",
     "output_type": "stream",
     "text": [
      "Repeat \u001b[1m\u001b[34m#1\n",
      "Repeat \u001b[1m\u001b[34m#2\n"
     ]
    },
    {
     "name": "stderr",
     "output_type": "stream",
     "text": [
      "[I 2023-06-29 13:24:42,832] Trial 257 finished with value: 0.21652893945586846 and parameters: {'boosting_type': 'goss', 'learning_rate': 0.03530320139915459, 'reg_alpha': 0.0026694343776186157, 'reg_lambda': 1.3602977616818595e-07, 'max_depth': 7, 'num_leaves': 42, 'colsample_bytree': 0.4954504608108748, 'min_child_samples': 32, 'max_bin': 36, 'subsample_freq': 3}. Best is trial 137 with value: 0.17512873362467118.\n"
     ]
    },
    {
     "name": "stdout",
     "output_type": "stream",
     "text": [
      "Repeat \u001b[1m\u001b[34m#1\n",
      "Repeat \u001b[1m\u001b[34m#2\n"
     ]
    },
    {
     "name": "stderr",
     "output_type": "stream",
     "text": [
      "[I 2023-06-29 13:24:45,489] Trial 258 finished with value: 0.19212618948788007 and parameters: {'boosting_type': 'goss', 'learning_rate': 0.028826376381123623, 'reg_alpha': 0.0002085866663226433, 'reg_lambda': 2.4878767369303072e-08, 'max_depth': 5, 'num_leaves': 28, 'colsample_bytree': 0.48313970949559876, 'min_child_samples': 10, 'max_bin': 47, 'subsample_freq': 6}. Best is trial 137 with value: 0.17512873362467118.\n"
     ]
    },
    {
     "name": "stdout",
     "output_type": "stream",
     "text": [
      "Repeat \u001b[1m\u001b[34m#1\n",
      "Repeat \u001b[1m\u001b[34m#2\n"
     ]
    },
    {
     "name": "stderr",
     "output_type": "stream",
     "text": [
      "[I 2023-06-29 13:24:47,132] Trial 259 finished with value: 0.192434407525852 and parameters: {'boosting_type': 'goss', 'learning_rate': 0.06886141085001556, 'reg_alpha': 0.0003012308818225076, 'reg_lambda': 7.089580223939118e-08, 'max_depth': 9, 'num_leaves': 46, 'colsample_bytree': 0.5678502165748145, 'min_child_samples': 13, 'max_bin': 53, 'subsample_freq': 3}. Best is trial 137 with value: 0.17512873362467118.\n"
     ]
    },
    {
     "name": "stdout",
     "output_type": "stream",
     "text": [
      "Repeat \u001b[1m\u001b[34m#1\n",
      "Repeat \u001b[1m\u001b[34m#2\n"
     ]
    },
    {
     "name": "stderr",
     "output_type": "stream",
     "text": [
      "[I 2023-06-29 13:24:51,585] Trial 260 finished with value: 0.19398697493333306 and parameters: {'boosting_type': 'goss', 'learning_rate': 0.016573579652860448, 'reg_alpha': 0.026927978924393442, 'reg_lambda': 2.0604591962733048e-07, 'max_depth': 5, 'num_leaves': 60, 'colsample_bytree': 0.472127743791038, 'min_child_samples': 10, 'max_bin': 43, 'subsample_freq': 4}. Best is trial 137 with value: 0.17512873362467118.\n"
     ]
    },
    {
     "name": "stdout",
     "output_type": "stream",
     "text": [
      "Repeat \u001b[1m\u001b[34m#1\n",
      "Repeat \u001b[1m\u001b[34m#2\n"
     ]
    },
    {
     "name": "stderr",
     "output_type": "stream",
     "text": [
      "[I 2023-06-29 13:24:53,524] Trial 261 finished with value: 0.19518846305136112 and parameters: {'boosting_type': 'goss', 'learning_rate': 0.05360623338692492, 'reg_alpha': 3.717119771874153e-06, 'reg_lambda': 4.569036137446444e-08, 'max_depth': 5, 'num_leaves': 34, 'colsample_bytree': 0.5383306972542652, 'min_child_samples': 7, 'max_bin': 39, 'subsample_freq': 6}. Best is trial 137 with value: 0.17512873362467118.\n"
     ]
    },
    {
     "name": "stdout",
     "output_type": "stream",
     "text": [
      "Repeat \u001b[1m\u001b[34m#1\n",
      "Repeat \u001b[1m\u001b[34m#2\n"
     ]
    },
    {
     "name": "stderr",
     "output_type": "stream",
     "text": [
      "[I 2023-06-29 13:24:55,318] Trial 262 finished with value: 0.2007041466809883 and parameters: {'boosting_type': 'goss', 'learning_rate': 0.060453678984077476, 'reg_alpha': 0.28774801542319167, 'reg_lambda': 1.6376589234832458e-06, 'max_depth': 6, 'num_leaves': 48, 'colsample_bytree': 0.5555509872914408, 'min_child_samples': 13, 'max_bin': 105, 'subsample_freq': 6}. Best is trial 137 with value: 0.17512873362467118.\n"
     ]
    },
    {
     "name": "stdout",
     "output_type": "stream",
     "text": [
      "Repeat \u001b[1m\u001b[34m#1\n",
      "Repeat \u001b[1m\u001b[34m#2\n"
     ]
    },
    {
     "name": "stderr",
     "output_type": "stream",
     "text": [
      "[I 2023-06-29 13:24:58,145] Trial 263 finished with value: 0.19903165941318382 and parameters: {'boosting_type': 'goss', 'learning_rate': 0.032530378218013085, 'reg_alpha': 8.340602989643971e-06, 'reg_lambda': 2.6424365768456245e-08, 'max_depth': 5, 'num_leaves': 38, 'colsample_bytree': 0.594285568593276, 'min_child_samples': 9, 'max_bin': 156, 'subsample_freq': 6}. Best is trial 137 with value: 0.17512873362467118.\n"
     ]
    },
    {
     "name": "stdout",
     "output_type": "stream",
     "text": [
      "Repeat \u001b[1m\u001b[34m#1\n",
      "Repeat \u001b[1m\u001b[34m#2\n"
     ]
    },
    {
     "name": "stderr",
     "output_type": "stream",
     "text": [
      "[I 2023-06-29 13:25:00,309] Trial 264 finished with value: 0.19117911984759434 and parameters: {'boosting_type': 'goss', 'learning_rate': 0.04959215755231125, 'reg_alpha': 0.0005501483409646185, 'reg_lambda': 8.097947548741707e-08, 'max_depth': 5, 'num_leaves': 43, 'colsample_bytree': 0.5077237570248501, 'min_child_samples': 5, 'max_bin': 49, 'subsample_freq': 2}. Best is trial 137 with value: 0.17512873362467118.\n"
     ]
    },
    {
     "name": "stdout",
     "output_type": "stream",
     "text": [
      "Repeat \u001b[1m\u001b[34m#1\n",
      "Repeat \u001b[1m\u001b[34m#2\n"
     ]
    },
    {
     "name": "stderr",
     "output_type": "stream",
     "text": [
      "[I 2023-06-29 13:25:06,502] Trial 265 finished with value: 0.2193139058797527 and parameters: {'boosting_type': 'goss', 'learning_rate': 0.011783171428674992, 'reg_alpha': 0.011852057368307155, 'reg_lambda': 1.7953474185611697e-08, 'max_depth': 6, 'num_leaves': 56, 'colsample_bytree': 0.5306482909109618, 'min_child_samples': 40, 'max_bin': 32, 'subsample_freq': 4}. Best is trial 137 with value: 0.17512873362467118.\n"
     ]
    },
    {
     "name": "stdout",
     "output_type": "stream",
     "text": [
      "Repeat \u001b[1m\u001b[34m#1\n",
      "Repeat \u001b[1m\u001b[34m#2\n"
     ]
    },
    {
     "name": "stderr",
     "output_type": "stream",
     "text": [
      "[I 2023-06-29 13:25:08,266] Trial 266 finished with value: 0.18614187561853857 and parameters: {'boosting_type': 'goss', 'learning_rate': 0.06627363181218092, 'reg_alpha': 0.0001238671958741916, 'reg_lambda': 1.340629783453554e-07, 'max_depth': 5, 'num_leaves': 63, 'colsample_bytree': 0.49012660319142654, 'min_child_samples': 12, 'max_bin': 44, 'subsample_freq': 3}. Best is trial 137 with value: 0.17512873362467118.\n"
     ]
    },
    {
     "name": "stdout",
     "output_type": "stream",
     "text": [
      "Repeat \u001b[1m\u001b[34m#1\n",
      "Repeat \u001b[1m\u001b[34m#2\n"
     ]
    },
    {
     "name": "stderr",
     "output_type": "stream",
     "text": [
      "[I 2023-06-29 13:25:09,844] Trial 267 finished with value: 0.1964483132704813 and parameters: {'boosting_type': 'goss', 'learning_rate': 0.0651466907762474, 'reg_alpha': 0.00013982124987252901, 'reg_lambda': 1.7575922738013463e-07, 'max_depth': 5, 'num_leaves': 63, 'colsample_bytree': 0.4906637419996044, 'min_child_samples': 15, 'max_bin': 55, 'subsample_freq': 3}. Best is trial 137 with value: 0.17512873362467118.\n"
     ]
    },
    {
     "name": "stdout",
     "output_type": "stream",
     "text": [
      "Repeat \u001b[1m\u001b[34m#1\n",
      "Repeat \u001b[1m\u001b[34m#2\n"
     ]
    },
    {
     "name": "stderr",
     "output_type": "stream",
     "text": [
      "[I 2023-06-29 13:25:11,495] Trial 268 finished with value: 0.18818211493642473 and parameters: {'boosting_type': 'goss', 'learning_rate': 0.07186364841196581, 'reg_alpha': 0.00026019559005846727, 'reg_lambda': 3.124498502758958e-05, 'max_depth': 6, 'num_leaves': 20, 'colsample_bytree': 0.48293327590383484, 'min_child_samples': 12, 'max_bin': 44, 'subsample_freq': 3}. Best is trial 137 with value: 0.17512873362467118.\n"
     ]
    },
    {
     "name": "stdout",
     "output_type": "stream",
     "text": [
      "Repeat \u001b[1m\u001b[34m#1\n",
      "Repeat \u001b[1m\u001b[34m#2\n"
     ]
    },
    {
     "name": "stderr",
     "output_type": "stream",
     "text": [
      "[I 2023-06-29 13:25:13,636] Trial 269 finished with value: 0.18332348553812394 and parameters: {'boosting_type': 'goss', 'learning_rate': 0.04615263639291836, 'reg_alpha': 0.013367129370712693, 'reg_lambda': 1.083859741040403e-07, 'max_depth': 5, 'num_leaves': 59, 'colsample_bytree': 0.49882256045545736, 'min_child_samples': 11, 'max_bin': 49, 'subsample_freq': 3}. Best is trial 137 with value: 0.17512873362467118.\n"
     ]
    },
    {
     "name": "stdout",
     "output_type": "stream",
     "text": [
      "Repeat \u001b[1m\u001b[34m#1\n",
      "Repeat \u001b[1m\u001b[34m#2\n"
     ]
    },
    {
     "name": "stderr",
     "output_type": "stream",
     "text": [
      "[I 2023-06-29 13:25:15,697] Trial 270 finished with value: 0.18220680709953968 and parameters: {'boosting_type': 'goss', 'learning_rate': 0.04479544218892382, 'reg_alpha': 0.0018364682491132515, 'reg_lambda': 1.2654190400005783e-07, 'max_depth': 5, 'num_leaves': 60, 'colsample_bytree': 0.49980862688810473, 'min_child_samples': 8, 'max_bin': 51, 'subsample_freq': 3}. Best is trial 137 with value: 0.17512873362467118.\n"
     ]
    },
    {
     "name": "stdout",
     "output_type": "stream",
     "text": [
      "Repeat \u001b[1m\u001b[34m#1\n",
      "Repeat \u001b[1m\u001b[34m#2\n"
     ]
    },
    {
     "name": "stderr",
     "output_type": "stream",
     "text": [
      "[I 2023-06-29 13:25:17,788] Trial 271 finished with value: 0.1932015996820091 and parameters: {'boosting_type': 'goss', 'learning_rate': 0.04488601971977124, 'reg_alpha': 0.005573605086070826, 'reg_lambda': 1.204502688904466e-07, 'max_depth': 5, 'num_leaves': 61, 'colsample_bytree': 0.5004151812943953, 'min_child_samples': 7, 'max_bin': 52, 'subsample_freq': 3}. Best is trial 137 with value: 0.17512873362467118.\n"
     ]
    },
    {
     "name": "stdout",
     "output_type": "stream",
     "text": [
      "Repeat \u001b[1m\u001b[34m#1\n",
      "Repeat \u001b[1m\u001b[34m#2\n"
     ]
    },
    {
     "name": "stderr",
     "output_type": "stream",
     "text": [
      "[I 2023-06-29 13:25:20,044] Trial 272 finished with value: 0.19485069302233693 and parameters: {'boosting_type': 'goss', 'learning_rate': 0.03978559184585387, 'reg_alpha': 0.013384094306423424, 'reg_lambda': 5.290890613746426e-07, 'max_depth': 5, 'num_leaves': 59, 'colsample_bytree': 0.5172948440455227, 'min_child_samples': 8, 'max_bin': 58, 'subsample_freq': 3}. Best is trial 137 with value: 0.17512873362467118.\n"
     ]
    },
    {
     "name": "stdout",
     "output_type": "stream",
     "text": [
      "Repeat \u001b[1m\u001b[34m#1\n",
      "Repeat \u001b[1m\u001b[34m#2\n"
     ]
    },
    {
     "name": "stderr",
     "output_type": "stream",
     "text": [
      "[I 2023-06-29 13:25:22,359] Trial 273 finished with value: 0.18788492568770745 and parameters: {'boosting_type': 'goss', 'learning_rate': 0.042301689595132794, 'reg_alpha': 0.002036081634011896, 'reg_lambda': 2.1946416866271158e-07, 'max_depth': 5, 'num_leaves': 36, 'colsample_bytree': 0.5064771699415836, 'min_child_samples': 11, 'max_bin': 49, 'subsample_freq': 3}. Best is trial 137 with value: 0.17512873362467118.\n"
     ]
    },
    {
     "name": "stdout",
     "output_type": "stream",
     "text": [
      "Repeat \u001b[1m\u001b[34m#1\n",
      "Repeat \u001b[1m\u001b[34m#2\n"
     ]
    },
    {
     "name": "stderr",
     "output_type": "stream",
     "text": [
      "[I 2023-06-29 13:25:24,323] Trial 274 finished with value: 0.19288187815190927 and parameters: {'boosting_type': 'goss', 'learning_rate': 0.04670759886243492, 'reg_alpha': 0.006931119483294035, 'reg_lambda': 3.1569907790973254e-07, 'max_depth': 8, 'num_leaves': 31, 'colsample_bytree': 0.49409540905986726, 'min_child_samples': 14, 'max_bin': 54, 'subsample_freq': 3}. Best is trial 137 with value: 0.17512873362467118.\n"
     ]
    },
    {
     "name": "stdout",
     "output_type": "stream",
     "text": [
      "Repeat \u001b[1m\u001b[34m#1\n",
      "Repeat \u001b[1m\u001b[34m#2\n"
     ]
    },
    {
     "name": "stderr",
     "output_type": "stream",
     "text": [
      "[I 2023-06-29 13:25:26,901] Trial 275 finished with value: 0.1981295773473783 and parameters: {'boosting_type': 'goss', 'learning_rate': 0.038400844238813694, 'reg_alpha': 0.0009077569868584378, 'reg_lambda': 1.4760281738424448e-07, 'max_depth': 5, 'num_leaves': 58, 'colsample_bytree': 0.4850286231698478, 'min_child_samples': 5, 'max_bin': 255, 'subsample_freq': 3}. Best is trial 137 with value: 0.17512873362467118.\n"
     ]
    },
    {
     "name": "stdout",
     "output_type": "stream",
     "text": [
      "Repeat \u001b[1m\u001b[34m#1\n",
      "Repeat \u001b[1m\u001b[34m#2\n"
     ]
    },
    {
     "name": "stderr",
     "output_type": "stream",
     "text": [
      "[I 2023-06-29 13:25:29,851] Trial 276 finished with value: 0.18694050982899085 and parameters: {'boosting_type': 'goss', 'learning_rate': 0.035296687380304614, 'reg_alpha': 0.0010654809395574012, 'reg_lambda': 7.6067762525780115e-06, 'max_depth': 5, 'num_leaves': 63, 'colsample_bytree': 0.4719250106698455, 'min_child_samples': 8, 'max_bin': 75, 'subsample_freq': 3}. Best is trial 137 with value: 0.17512873362467118.\n"
     ]
    },
    {
     "name": "stdout",
     "output_type": "stream",
     "text": [
      "Repeat \u001b[1m\u001b[34m#1\n",
      "Repeat \u001b[1m\u001b[34m#2\n"
     ]
    },
    {
     "name": "stderr",
     "output_type": "stream",
     "text": [
      "[I 2023-06-29 13:25:31,813] Trial 277 finished with value: 0.20239016163083018 and parameters: {'boosting_type': 'goss', 'learning_rate': 0.04858119991472659, 'reg_alpha': 0.010077120778090812, 'reg_lambda': 8.429577086356067e-08, 'max_depth': 5, 'num_leaves': 25, 'colsample_bytree': 0.500166890268867, 'min_child_samples': 16, 'max_bin': 47, 'subsample_freq': 3}. Best is trial 137 with value: 0.17512873362467118.\n"
     ]
    },
    {
     "name": "stdout",
     "output_type": "stream",
     "text": [
      "Repeat \u001b[1m\u001b[34m#1\n",
      "Repeat \u001b[1m\u001b[34m#2\n"
     ]
    },
    {
     "name": "stderr",
     "output_type": "stream",
     "text": [
      "[I 2023-06-29 13:25:35,051] Trial 278 finished with value: 0.20187088649507362 and parameters: {'boosting_type': 'goss', 'learning_rate': 0.022871780685054733, 'reg_alpha': 0.025063897227896, 'reg_lambda': 5.974841911882121e-08, 'max_depth': 5, 'num_leaves': 65, 'colsample_bytree': 0.5135108411971833, 'min_child_samples': 10, 'max_bin': 59, 'subsample_freq': 3}. Best is trial 137 with value: 0.17512873362467118.\n"
     ]
    },
    {
     "name": "stdout",
     "output_type": "stream",
     "text": [
      "Repeat \u001b[1m\u001b[34m#1\n",
      "Repeat \u001b[1m\u001b[34m#2\n"
     ]
    },
    {
     "name": "stderr",
     "output_type": "stream",
     "text": [
      "[I 2023-06-29 13:25:37,435] Trial 279 finished with value: 0.1947291689241393 and parameters: {'boosting_type': 'goss', 'learning_rate': 0.042593252037528395, 'reg_alpha': 0.00043360344477160834, 'reg_lambda': 1.0698746957097045e-07, 'max_depth': 5, 'num_leaves': 54, 'colsample_bytree': 0.4894270350712766, 'min_child_samples': 12, 'max_bin': 170, 'subsample_freq': 3}. Best is trial 137 with value: 0.17512873362467118.\n"
     ]
    },
    {
     "name": "stdout",
     "output_type": "stream",
     "text": [
      "Repeat \u001b[1m\u001b[34m#1\n",
      "Repeat \u001b[1m\u001b[34m#2\n"
     ]
    },
    {
     "name": "stderr",
     "output_type": "stream",
     "text": [
      "[I 2023-06-29 13:25:40,364] Trial 280 finished with value: 0.18685109283845436 and parameters: {'boosting_type': 'goss', 'learning_rate': 0.0313147530270009, 'reg_alpha': 0.001768231374774559, 'reg_lambda': 4.650114836911364e-08, 'max_depth': 5, 'num_leaves': 40, 'colsample_bytree': 0.4794555788502767, 'min_child_samples': 9, 'max_bin': 51, 'subsample_freq': 3}. Best is trial 137 with value: 0.17512873362467118.\n"
     ]
    },
    {
     "name": "stdout",
     "output_type": "stream",
     "text": [
      "Repeat \u001b[1m\u001b[34m#1\n",
      "Repeat \u001b[1m\u001b[34m#2\n"
     ]
    },
    {
     "name": "stderr",
     "output_type": "stream",
     "text": [
      "[I 2023-06-29 13:25:42,364] Trial 281 finished with value: 0.19900639719992985 and parameters: {'boosting_type': 'goss', 'learning_rate': 0.05114798136960991, 'reg_alpha': 0.01686150490674522, 'reg_lambda': 1.433422640925578e-07, 'max_depth': 7, 'num_leaves': 30, 'colsample_bytree': 0.5262881701204346, 'min_child_samples': 6, 'max_bin': 46, 'subsample_freq': 3}. Best is trial 137 with value: 0.17512873362467118.\n"
     ]
    },
    {
     "name": "stdout",
     "output_type": "stream",
     "text": [
      "Repeat \u001b[1m\u001b[34m#1\n",
      "Repeat \u001b[1m\u001b[34m#2\n"
     ]
    },
    {
     "name": "stderr",
     "output_type": "stream",
     "text": [
      "[I 2023-06-29 13:25:44,066] Trial 282 finished with value: 0.19209185148328867 and parameters: {'boosting_type': 'goss', 'learning_rate': 0.055195209069929536, 'reg_alpha': 0.0012146329738817992, 'reg_lambda': 7.164709858725004e-08, 'max_depth': 5, 'num_leaves': 67, 'colsample_bytree': 0.5072419988469903, 'min_child_samples': 12, 'max_bin': 38, 'subsample_freq': 3}. Best is trial 137 with value: 0.17512873362467118.\n"
     ]
    },
    {
     "name": "stdout",
     "output_type": "stream",
     "text": [
      "Repeat \u001b[1m\u001b[34m#1\n",
      "Repeat \u001b[1m\u001b[34m#2\n"
     ]
    },
    {
     "name": "stderr",
     "output_type": "stream",
     "text": [
      "[I 2023-06-29 13:25:46,834] Trial 283 finished with value: 0.1938126771919552 and parameters: {'boosting_type': 'goss', 'learning_rate': 0.03772820934331577, 'reg_alpha': 0.0007641106254556952, 'reg_lambda': 4.6152415342387445e-07, 'max_depth': 5, 'num_leaves': 33, 'colsample_bytree': 0.496824884933207, 'min_child_samples': 8, 'max_bin': 236, 'subsample_freq': 3}. Best is trial 137 with value: 0.17512873362467118.\n"
     ]
    },
    {
     "name": "stdout",
     "output_type": "stream",
     "text": [
      "Repeat \u001b[1m\u001b[34m#1\n",
      "Repeat \u001b[1m\u001b[34m#2\n"
     ]
    },
    {
     "name": "stderr",
     "output_type": "stream",
     "text": [
      "[I 2023-06-29 13:25:48,983] Trial 284 finished with value: 0.3766117845176338 and parameters: {'boosting_type': 'goss', 'learning_rate': 0.026753483697801953, 'reg_alpha': 0.004433808355224584, 'reg_lambda': 2.713958897114441e-07, 'max_depth': 5, 'num_leaves': 61, 'colsample_bytree': 0.6261365470731729, 'min_child_samples': 60, 'max_bin': 43, 'subsample_freq': 3}. Best is trial 137 with value: 0.17512873362467118.\n"
     ]
    },
    {
     "name": "stdout",
     "output_type": "stream",
     "text": [
      "Repeat \u001b[1m\u001b[34m#1\n",
      "Repeat \u001b[1m\u001b[34m#2\n"
     ]
    },
    {
     "name": "stderr",
     "output_type": "stream",
     "text": [
      "[I 2023-06-29 13:25:51,295] Trial 285 finished with value: 0.19446571704560217 and parameters: {'boosting_type': 'goss', 'learning_rate': 0.046506926586142625, 'reg_alpha': 0.04174312687801333, 'reg_lambda': 4.700828111822358e-06, 'max_depth': 5, 'num_leaves': 27, 'colsample_bytree': 0.4652139669344689, 'min_child_samples': 14, 'max_bin': 84, 'subsample_freq': 3}. Best is trial 137 with value: 0.17512873362467118.\n"
     ]
    },
    {
     "name": "stdout",
     "output_type": "stream",
     "text": [
      "Repeat \u001b[1m\u001b[34m#1\n",
      "Repeat \u001b[1m\u001b[34m#2\n"
     ]
    },
    {
     "name": "stderr",
     "output_type": "stream",
     "text": [
      "[I 2023-06-29 13:25:52,723] Trial 286 finished with value: 0.20494191605349132 and parameters: {'boosting_type': 'goss', 'learning_rate': 0.08513672096413435, 'reg_alpha': 0.006865864907012421, 'reg_lambda': 3.0947611584769536e-08, 'max_depth': 5, 'num_leaves': 58, 'colsample_bytree': 0.6722745486526641, 'min_child_samples': 10, 'max_bin': 55, 'subsample_freq': 3}. Best is trial 137 with value: 0.17512873362467118.\n"
     ]
    },
    {
     "name": "stdout",
     "output_type": "stream",
     "text": [
      "Repeat \u001b[1m\u001b[34m#1\n",
      "Repeat \u001b[1m\u001b[34m#2\n"
     ]
    },
    {
     "name": "stderr",
     "output_type": "stream",
     "text": [
      "[I 2023-06-29 13:25:55,110] Trial 287 finished with value: 0.1883186711298177 and parameters: {'boosting_type': 'goss', 'learning_rate': 0.04061590410875031, 'reg_alpha': 0.019413458683342905, 'reg_lambda': 1.148241946476349e-07, 'max_depth': 5, 'num_leaves': 37, 'colsample_bytree': 0.5456282483168486, 'min_child_samples': 7, 'max_bin': 49, 'subsample_freq': 4}. Best is trial 137 with value: 0.17512873362467118.\n"
     ]
    },
    {
     "name": "stdout",
     "output_type": "stream",
     "text": [
      "Repeat \u001b[1m\u001b[34m#1\n",
      "Repeat \u001b[1m\u001b[34m#2\n"
     ]
    },
    {
     "name": "stderr",
     "output_type": "stream",
     "text": [
      "[I 2023-06-29 13:26:00,044] Trial 288 finished with value: 0.19378972144503792 and parameters: {'boosting_type': 'goss', 'learning_rate': 0.01337067717284662, 'reg_alpha': 0.0005658457698824646, 'reg_lambda': 0.005583889980103765, 'max_depth': 5, 'num_leaves': 43, 'colsample_bytree': 0.490385188778466, 'min_child_samples': 17, 'max_bin': 63, 'subsample_freq': 3}. Best is trial 137 with value: 0.17512873362467118.\n"
     ]
    },
    {
     "name": "stdout",
     "output_type": "stream",
     "text": [
      "Repeat \u001b[1m\u001b[34m#1\n",
      "Repeat \u001b[1m\u001b[34m#2\n"
     ]
    },
    {
     "name": "stderr",
     "output_type": "stream",
     "text": [
      "[I 2023-06-29 13:26:02,767] Trial 289 finished with value: 0.18266754511560462 and parameters: {'boosting_type': 'goss', 'learning_rate': 0.033536440575428456, 'reg_alpha': 0.0023902655853165374, 'reg_lambda': 1.5796971162754634e-08, 'max_depth': 5, 'num_leaves': 51, 'colsample_bytree': 0.47646481368059007, 'min_child_samples': 11, 'max_bin': 123, 'subsample_freq': 5}. Best is trial 137 with value: 0.17512873362467118.\n"
     ]
    },
    {
     "name": "stdout",
     "output_type": "stream",
     "text": [
      "Repeat \u001b[1m\u001b[34m#1\n",
      "Repeat \u001b[1m\u001b[34m#2\n"
     ]
    },
    {
     "name": "stderr",
     "output_type": "stream",
     "text": [
      "[I 2023-06-29 13:26:05,451] Trial 290 finished with value: 0.18883277201916976 and parameters: {'boosting_type': 'goss', 'learning_rate': 0.03363692853859246, 'reg_alpha': 0.002797241183336695, 'reg_lambda': 1.423029204475874e-08, 'max_depth': 5, 'num_leaves': 51, 'colsample_bytree': 0.4761484040179531, 'min_child_samples': 9, 'max_bin': 120, 'subsample_freq': 5}. Best is trial 137 with value: 0.17512873362467118.\n"
     ]
    },
    {
     "name": "stdout",
     "output_type": "stream",
     "text": [
      "Repeat \u001b[1m\u001b[34m#1\n",
      "Repeat \u001b[1m\u001b[34m#2\n"
     ]
    },
    {
     "name": "stderr",
     "output_type": "stream",
     "text": [
      "[I 2023-06-29 13:26:08,439] Trial 291 finished with value: 0.19560967596600476 and parameters: {'boosting_type': 'goss', 'learning_rate': 0.027916267692952166, 'reg_alpha': 0.01267426834535421, 'reg_lambda': 2.008123081391711e-08, 'max_depth': 5, 'num_leaves': 49, 'colsample_bytree': 0.46165557805361385, 'min_child_samples': 11, 'max_bin': 193, 'subsample_freq': 5}. Best is trial 137 with value: 0.17512873362467118.\n"
     ]
    },
    {
     "name": "stdout",
     "output_type": "stream",
     "text": [
      "Repeat \u001b[1m\u001b[34m#1\n",
      "Repeat \u001b[1m\u001b[34m#2\n"
     ]
    },
    {
     "name": "stderr",
     "output_type": "stream",
     "text": [
      "[I 2023-06-29 13:26:11,212] Trial 292 finished with value: 0.19426484770341684 and parameters: {'boosting_type': 'goss', 'learning_rate': 0.029747816873316457, 'reg_alpha': 0.0039108437169665415, 'reg_lambda': 0.0012048349677503509, 'max_depth': 5, 'num_leaves': 55, 'colsample_bytree': 0.653161950317228, 'min_child_samples': 6, 'max_bin': 35, 'subsample_freq': 5}. Best is trial 137 with value: 0.17512873362467118.\n"
     ]
    },
    {
     "name": "stdout",
     "output_type": "stream",
     "text": [
      "Repeat \u001b[1m\u001b[34m#1\n",
      "Repeat \u001b[1m\u001b[34m#2\n"
     ]
    },
    {
     "name": "stderr",
     "output_type": "stream",
     "text": [
      "[I 2023-06-29 13:26:14,466] Trial 293 finished with value: 0.19506447229968954 and parameters: {'boosting_type': 'goss', 'learning_rate': 0.03356745774365544, 'reg_alpha': 0.003043534143450319, 'reg_lambda': 3.7789980700025836e-08, 'max_depth': 6, 'num_leaves': 46, 'colsample_bytree': 0.5328324586929527, 'min_child_samples': 9, 'max_bin': 127, 'subsample_freq': 5}. Best is trial 137 with value: 0.17512873362467118.\n"
     ]
    },
    {
     "name": "stdout",
     "output_type": "stream",
     "text": [
      "Repeat \u001b[1m\u001b[34m#1\n",
      "Repeat \u001b[1m\u001b[34m#2\n"
     ]
    },
    {
     "name": "stderr",
     "output_type": "stream",
     "text": [
      "[I 2023-06-29 13:26:16,681] Trial 294 finished with value: 0.1912033968672182 and parameters: {'boosting_type': 'goss', 'learning_rate': 0.03870382882821424, 'reg_alpha': 0.006464222129146653, 'reg_lambda': 1.0044398705402696e-08, 'max_depth': 5, 'num_leaves': 53, 'colsample_bytree': 0.5196020939224824, 'min_child_samples': 14, 'max_bin': 80, 'subsample_freq': 5}. Best is trial 137 with value: 0.17512873362467118.\n"
     ]
    },
    {
     "name": "stdout",
     "output_type": "stream",
     "text": [
      "Repeat \u001b[1m\u001b[34m#1\n",
      "Repeat \u001b[1m\u001b[34m#2\n"
     ]
    },
    {
     "name": "stderr",
     "output_type": "stream",
     "text": [
      "[I 2023-06-29 13:26:33,488] Trial 295 finished with value: 0.27039218941788806 and parameters: {'boosting_type': 'goss', 'learning_rate': 0.0011418309255691466, 'reg_alpha': 0.002330054898916981, 'reg_lambda': 1.6045558006182422e-08, 'max_depth': 5, 'num_leaves': 40, 'colsample_bytree': 0.4750824958311386, 'min_child_samples': 11, 'max_bin': 39, 'subsample_freq': 5}. Best is trial 137 with value: 0.17512873362467118.\n"
     ]
    },
    {
     "name": "stdout",
     "output_type": "stream",
     "text": [
      "Repeat \u001b[1m\u001b[34m#1\n",
      "Repeat \u001b[1m\u001b[34m#2\n"
     ]
    },
    {
     "name": "stderr",
     "output_type": "stream",
     "text": [
      "[I 2023-06-29 13:26:42,737] Trial 296 finished with value: 0.19607322099013413 and parameters: {'boosting_type': 'goss', 'learning_rate': 0.008056862553854925, 'reg_alpha': 1.3696191807433718e-05, 'reg_lambda': 1.1505082090307097e-05, 'max_depth': 6, 'num_leaves': 45, 'colsample_bytree': 0.4581514577979581, 'min_child_samples': 7, 'max_bin': 182, 'subsample_freq': 5}. Best is trial 137 with value: 0.17512873362467118.\n"
     ]
    },
    {
     "name": "stdout",
     "output_type": "stream",
     "text": [
      "Repeat \u001b[1m\u001b[34m#1\n",
      "Repeat \u001b[1m\u001b[34m#2\n"
     ]
    },
    {
     "name": "stderr",
     "output_type": "stream",
     "text": [
      "[I 2023-06-29 13:26:45,410] Trial 297 finished with value: 0.18689103082341013 and parameters: {'boosting_type': 'goss', 'learning_rate': 0.031351151228216405, 'reg_alpha': 0.009304923344840696, 'reg_lambda': 2.6804288011965997e-08, 'max_depth': 5, 'num_leaves': 51, 'colsample_bytree': 0.5070861297328155, 'min_child_samples': 10, 'max_bin': 52, 'subsample_freq': 4}. Best is trial 137 with value: 0.17512873362467118.\n"
     ]
    },
    {
     "name": "stdout",
     "output_type": "stream",
     "text": [
      "Repeat \u001b[1m\u001b[34m#1\n",
      "Repeat \u001b[1m\u001b[34m#2\n"
     ]
    },
    {
     "name": "stderr",
     "output_type": "stream",
     "text": [
      "[I 2023-06-29 13:26:48,036] Trial 298 finished with value: 0.19088910257210281 and parameters: {'boosting_type': 'goss', 'learning_rate': 0.036145834865129595, 'reg_alpha': 0.02898072669089081, 'reg_lambda': 0.00023190218882838254, 'max_depth': 5, 'num_leaves': 29, 'colsample_bytree': 0.49903801909329787, 'min_child_samples': 5, 'max_bin': 134, 'subsample_freq': 5}. Best is trial 137 with value: 0.17512873362467118.\n"
     ]
    },
    {
     "name": "stdout",
     "output_type": "stream",
     "text": [
      "Repeat \u001b[1m\u001b[34m#1\n",
      "Repeat \u001b[1m\u001b[34m#2\n"
     ]
    },
    {
     "name": "stderr",
     "output_type": "stream",
     "text": [
      "[I 2023-06-29 13:26:50,366] Trial 299 finished with value: 0.19879880063787342 and parameters: {'boosting_type': 'goss', 'learning_rate': 0.04480998097242804, 'reg_alpha': 0.0004003117016161119, 'reg_lambda': 5.499386242760842e-08, 'max_depth': 7, 'num_leaves': 36, 'colsample_bytree': 0.481620879686227, 'min_child_samples': 8, 'max_bin': 70, 'subsample_freq': 5}. Best is trial 137 with value: 0.17512873362467118.\n"
     ]
    },
    {
     "name": "stdout",
     "output_type": "stream",
     "text": [
      "Repeat \u001b[1m\u001b[34m#1\n",
      "Repeat \u001b[1m\u001b[34m#2\n"
     ]
    },
    {
     "name": "stderr",
     "output_type": "stream",
     "text": [
      "[I 2023-06-29 13:26:52,212] Trial 300 finished with value: 0.1929787158740267 and parameters: {'boosting_type': 'goss', 'learning_rate': 0.053095124462873684, 'reg_alpha': 0.00018913973015560317, 'reg_lambda': 3.7771115942067974e-08, 'max_depth': 5, 'num_leaves': 41, 'colsample_bytree': 0.5194673428516643, 'min_child_samples': 13, 'max_bin': 59, 'subsample_freq': 3}. Best is trial 137 with value: 0.17512873362467118.\n"
     ]
    },
    {
     "name": "stdout",
     "output_type": "stream",
     "text": [
      "Repeat \u001b[1m\u001b[34m#1\n",
      "Repeat \u001b[1m\u001b[34m#2\n"
     ]
    },
    {
     "name": "stderr",
     "output_type": "stream",
     "text": [
      "[I 2023-06-29 13:26:54,366] Trial 301 finished with value: 0.19156190366304743 and parameters: {'boosting_type': 'goss', 'learning_rate': 0.04232256629354634, 'reg_alpha': 0.05007498197100858, 'reg_lambda': 1.182719058010171e-06, 'max_depth': 6, 'num_leaves': 48, 'colsample_bytree': 0.5384263050724589, 'min_child_samples': 11, 'max_bin': 99, 'subsample_freq': 3}. Best is trial 137 with value: 0.17512873362467118.\n"
     ]
    },
    {
     "name": "stdout",
     "output_type": "stream",
     "text": [
      "Repeat \u001b[1m\u001b[34m#1\n",
      "Repeat \u001b[1m\u001b[34m#2\n"
     ]
    },
    {
     "name": "stderr",
     "output_type": "stream",
     "text": [
      "[I 2023-06-29 13:26:56,131] Trial 302 finished with value: 0.19537729416840593 and parameters: {'boosting_type': 'goss', 'learning_rate': 0.057221176835862926, 'reg_alpha': 5.844563673653911e-06, 'reg_lambda': 6.041951035303209e-05, 'max_depth': 5, 'num_leaves': 33, 'colsample_bytree': 0.6879024577829236, 'min_child_samples': 9, 'max_bin': 47, 'subsample_freq': 5}. Best is trial 137 with value: 0.17512873362467118.\n"
     ]
    },
    {
     "name": "stdout",
     "output_type": "stream",
     "text": [
      "Repeat \u001b[1m\u001b[34m#1\n",
      "Repeat \u001b[1m\u001b[34m#2\n"
     ]
    },
    {
     "name": "stderr",
     "output_type": "stream",
     "text": [
      "[I 2023-06-29 13:27:05,900] Trial 303 finished with value: 0.19451784025237362 and parameters: {'boosting_type': 'goss', 'learning_rate': 0.00533470910220012, 'reg_alpha': 1.169816986564445e-06, 'reg_lambda': 0.07619092663757321, 'max_depth': 5, 'num_leaves': 56, 'colsample_bytree': 0.4700382466127796, 'min_child_samples': 13, 'max_bin': 32, 'subsample_freq': 4}. Best is trial 137 with value: 0.17512873362467118.\n"
     ]
    },
    {
     "name": "stdout",
     "output_type": "stream",
     "text": [
      "Repeat \u001b[1m\u001b[34m#1\n",
      "Repeat \u001b[1m\u001b[34m#2\n"
     ]
    },
    {
     "name": "stderr",
     "output_type": "stream",
     "text": [
      "[I 2023-06-29 13:27:07,441] Trial 304 finished with value: 0.19114913683131546 and parameters: {'boosting_type': 'goss', 'learning_rate': 0.07641421472182963, 'reg_alpha': 0.017568486822105964, 'reg_lambda': 1.5306080624589066e-08, 'max_depth': 6, 'num_leaves': 44, 'colsample_bytree': 0.5120333408221579, 'min_child_samples': 7, 'max_bin': 41, 'subsample_freq': 3}. Best is trial 137 with value: 0.17512873362467118.\n"
     ]
    },
    {
     "name": "stdout",
     "output_type": "stream",
     "text": [
      "Repeat \u001b[1m\u001b[34m#1\n",
      "Repeat \u001b[1m\u001b[34m#2\n"
     ]
    },
    {
     "name": "stderr",
     "output_type": "stream",
     "text": [
      "[I 2023-06-29 13:27:09,700] Trial 305 finished with value: 0.18569733019130996 and parameters: {'boosting_type': 'goss', 'learning_rate': 0.048027091132029846, 'reg_alpha': 0.003529155955754133, 'reg_lambda': 2.165067033380643e-08, 'max_depth': 5, 'num_leaves': 26, 'colsample_bytree': 0.4841100772792256, 'min_child_samples': 15, 'max_bin': 110, 'subsample_freq': 5}. Best is trial 137 with value: 0.17512873362467118.\n"
     ]
    },
    {
     "name": "stdout",
     "output_type": "stream",
     "text": [
      "Repeat \u001b[1m\u001b[34m#1\n",
      "Repeat \u001b[1m\u001b[34m#2\n"
     ]
    },
    {
     "name": "stderr",
     "output_type": "stream",
     "text": [
      "[I 2023-06-29 13:27:11,737] Trial 306 finished with value: 0.19288421608357775 and parameters: {'boosting_type': 'goss', 'learning_rate': 0.04868253436272152, 'reg_alpha': 0.0013319759398614304, 'reg_lambda': 2.314813454903256e-08, 'max_depth': 5, 'num_leaves': 22, 'colsample_bytree': 0.4854707711012626, 'min_child_samples': 16, 'max_bin': 94, 'subsample_freq': 3}. Best is trial 137 with value: 0.17512873362467118.\n"
     ]
    },
    {
     "name": "stdout",
     "output_type": "stream",
     "text": [
      "Repeat \u001b[1m\u001b[34m#1\n",
      "Repeat \u001b[1m\u001b[34m#2\n"
     ]
    },
    {
     "name": "stderr",
     "output_type": "stream",
     "text": [
      "[I 2023-06-29 13:27:13,573] Trial 307 finished with value: 0.19591688210786562 and parameters: {'boosting_type': 'goss', 'learning_rate': 0.05178549984029318, 'reg_alpha': 0.0015104988483726736, 'reg_lambda': 2.0761498316717917e-08, 'max_depth': 6, 'num_leaves': 26, 'colsample_bytree': 0.5013308281696417, 'min_child_samples': 15, 'max_bin': 114, 'subsample_freq': 3}. Best is trial 137 with value: 0.17512873362467118.\n"
     ]
    },
    {
     "name": "stdout",
     "output_type": "stream",
     "text": [
      "Repeat \u001b[1m\u001b[34m#1\n",
      "Repeat \u001b[1m\u001b[34m#2\n"
     ]
    },
    {
     "name": "stderr",
     "output_type": "stream",
     "text": [
      "[I 2023-06-29 13:27:15,726] Trial 308 finished with value: 0.1962058394066553 and parameters: {'boosting_type': 'goss', 'learning_rate': 0.04577727727214106, 'reg_alpha': 0.003370870435918543, 'reg_lambda': 1.4876543803397803e-08, 'max_depth': 5, 'num_leaves': 29, 'colsample_bytree': 0.5248326611091809, 'min_child_samples': 19, 'max_bin': 131, 'subsample_freq': 5}. Best is trial 137 with value: 0.17512873362467118.\n"
     ]
    },
    {
     "name": "stdout",
     "output_type": "stream",
     "text": [
      "Repeat \u001b[1m\u001b[34m#1\n",
      "Repeat \u001b[1m\u001b[34m#2\n"
     ]
    },
    {
     "name": "stderr",
     "output_type": "stream",
     "text": [
      "[I 2023-06-29 13:27:17,439] Trial 309 finished with value: 0.18569984481964824 and parameters: {'boosting_type': 'goss', 'learning_rate': 0.058798345591903174, 'reg_alpha': 0.00230871590530812, 'reg_lambda': 1.0046540946997874e-08, 'max_depth': 5, 'num_leaves': 25, 'colsample_bytree': 0.49419078132573, 'min_child_samples': 14, 'max_bin': 110, 'subsample_freq': 4}. Best is trial 137 with value: 0.17512873362467118.\n"
     ]
    },
    {
     "name": "stdout",
     "output_type": "stream",
     "text": [
      "Repeat \u001b[1m\u001b[34m#1\n",
      "Repeat \u001b[1m\u001b[34m#2\n"
     ]
    },
    {
     "name": "stderr",
     "output_type": "stream",
     "text": [
      "[I 2023-06-29 13:27:19,232] Trial 310 finished with value: 0.19166425554675665 and parameters: {'boosting_type': 'goss', 'learning_rate': 0.05978436938908322, 'reg_alpha': 0.0061326900760845255, 'reg_lambda': 7.436326952389038e-07, 'max_depth': 5, 'num_leaves': 15, 'colsample_bytree': 0.49695040843422933, 'min_child_samples': 18, 'max_bin': 106, 'subsample_freq': 4}. Best is trial 137 with value: 0.17512873362467118.\n"
     ]
    },
    {
     "name": "stdout",
     "output_type": "stream",
     "text": [
      "Repeat \u001b[1m\u001b[34m#1\n",
      "Repeat \u001b[1m\u001b[34m#2\n"
     ]
    },
    {
     "name": "stderr",
     "output_type": "stream",
     "text": [
      "[I 2023-06-29 13:27:30,164] Trial 311 finished with value: 0.19903641884506357 and parameters: {'boosting_type': 'goss', 'learning_rate': 0.004351689511094551, 'reg_alpha': 0.0015263679092092331, 'reg_lambda': 1.0742709902184413e-08, 'max_depth': 5, 'num_leaves': 21, 'colsample_bytree': 0.491334068832375, 'min_child_samples': 16, 'max_bin': 88, 'subsample_freq': 4}. Best is trial 137 with value: 0.17512873362467118.\n"
     ]
    },
    {
     "name": "stdout",
     "output_type": "stream",
     "text": [
      "Repeat \u001b[1m\u001b[34m#1\n",
      "Repeat \u001b[1m\u001b[34m#2\n"
     ]
    },
    {
     "name": "stderr",
     "output_type": "stream",
     "text": [
      "[I 2023-06-29 13:27:31,736] Trial 312 finished with value: 0.18785414875349166 and parameters: {'boosting_type': 'goss', 'learning_rate': 0.07005872003982484, 'reg_alpha': 0.003935097496121235, 'reg_lambda': 2.7554122774547678e-08, 'max_depth': 6, 'num_leaves': 25, 'colsample_bytree': 0.6387028606027824, 'min_child_samples': 14, 'max_bin': 119, 'subsample_freq': 2}. Best is trial 137 with value: 0.17512873362467118.\n"
     ]
    },
    {
     "name": "stdout",
     "output_type": "stream",
     "text": [
      "Repeat \u001b[1m\u001b[34m#1\n",
      "Repeat \u001b[1m\u001b[34m#2\n"
     ]
    },
    {
     "name": "stderr",
     "output_type": "stream",
     "text": [
      "[I 2023-06-29 13:27:32,157] Trial 313 finished with value: 0.49845923817958526 and parameters: {'boosting_type': 'goss', 'learning_rate': 0.06266680967295896, 'reg_alpha': 0.003663900462903951, 'reg_lambda': 4.4769602038674785e-08, 'max_depth': 5, 'num_leaves': 26, 'colsample_bytree': 0.5100215888133791, 'min_child_samples': 76, 'max_bin': 105, 'subsample_freq': 5}. Best is trial 137 with value: 0.17512873362467118.\n"
     ]
    },
    {
     "name": "stdout",
     "output_type": "stream",
     "text": [
      "Repeat \u001b[1m\u001b[34m#1\n",
      "Repeat \u001b[1m\u001b[34m#2\n"
     ]
    },
    {
     "name": "stderr",
     "output_type": "stream",
     "text": [
      "[I 2023-06-29 13:27:34,214] Trial 314 finished with value: 0.19855138526577676 and parameters: {'boosting_type': 'goss', 'learning_rate': 0.055871343397244345, 'reg_alpha': 0.002404920434389126, 'reg_lambda': 1.373105944932349e-08, 'max_depth': 6, 'num_leaves': 28, 'colsample_bytree': 0.5018956855517401, 'min_child_samples': 13, 'max_bin': 99, 'subsample_freq': 4}. Best is trial 137 with value: 0.17512873362467118.\n"
     ]
    },
    {
     "name": "stdout",
     "output_type": "stream",
     "text": [
      "Repeat \u001b[1m\u001b[34m#1\n",
      "Repeat \u001b[1m\u001b[34m#2\n"
     ]
    },
    {
     "name": "stderr",
     "output_type": "stream",
     "text": [
      "[I 2023-06-29 13:27:38,527] Trial 315 finished with value: 0.20269569893267536 and parameters: {'boosting_type': 'goss', 'learning_rate': 0.016667767753006078, 'reg_alpha': 0.005400476284650765, 'reg_lambda': 7.580883790772166e-08, 'max_depth': 5, 'num_leaves': 25, 'colsample_bytree': 0.5494768492980274, 'min_child_samples': 17, 'max_bin': 214, 'subsample_freq': 3}. Best is trial 137 with value: 0.17512873362467118.\n"
     ]
    },
    {
     "name": "stdout",
     "output_type": "stream",
     "text": [
      "Repeat \u001b[1m\u001b[34m#1\n",
      "Repeat \u001b[1m\u001b[34m#2\n"
     ]
    },
    {
     "name": "stderr",
     "output_type": "stream",
     "text": [
      "[I 2023-06-29 13:27:40,172] Trial 316 finished with value: 0.19658141087185196 and parameters: {'boosting_type': 'goss', 'learning_rate': 0.07441652170834383, 'reg_alpha': 0.0025895078133957076, 'reg_lambda': 1.0574851758773432e-08, 'max_depth': 8, 'num_leaves': 31, 'colsample_bytree': 0.4877768490604012, 'min_child_samples': 12, 'max_bin': 127, 'subsample_freq': 3}. Best is trial 137 with value: 0.17512873362467118.\n"
     ]
    },
    {
     "name": "stdout",
     "output_type": "stream",
     "text": [
      "Repeat \u001b[1m\u001b[34m#1\n",
      "Repeat \u001b[1m\u001b[34m#2\n"
     ]
    },
    {
     "name": "stderr",
     "output_type": "stream",
     "text": [
      "[I 2023-06-29 13:27:41,778] Trial 317 finished with value: 0.19415154844480806 and parameters: {'boosting_type': 'goss', 'learning_rate': 0.0670540840857581, 'reg_alpha': 0.011509130639677137, 'reg_lambda': 3.3197214776610004e-08, 'max_depth': 7, 'num_leaves': 23, 'colsample_bytree': 0.5283785991010451, 'min_child_samples': 20, 'max_bin': 36, 'subsample_freq': 5}. Best is trial 137 with value: 0.17512873362467118.\n"
     ]
    },
    {
     "name": "stdout",
     "output_type": "stream",
     "text": [
      "Repeat \u001b[1m\u001b[34m#1\n",
      "Repeat \u001b[1m\u001b[34m#2\n"
     ]
    },
    {
     "name": "stderr",
     "output_type": "stream",
     "text": [
      "[I 2023-06-29 13:27:43,147] Trial 318 finished with value: 0.19348495098567398 and parameters: {'boosting_type': 'goss', 'learning_rate': 0.08557607693293413, 'reg_alpha': 0.002001218701197763, 'reg_lambda': 2.0417395116001037e-07, 'max_depth': 5, 'num_leaves': 31, 'colsample_bytree': 0.6119809679318643, 'min_child_samples': 15, 'max_bin': 45, 'subsample_freq': 3}. Best is trial 137 with value: 0.17512873362467118.\n"
     ]
    },
    {
     "name": "stdout",
     "output_type": "stream",
     "text": [
      "Repeat \u001b[1m\u001b[34m#1\n",
      "Repeat \u001b[1m\u001b[34m#2\n"
     ]
    },
    {
     "name": "stderr",
     "output_type": "stream",
     "text": [
      "[I 2023-06-29 13:27:46,187] Trial 319 finished with value: 0.189505498706616 and parameters: {'boosting_type': 'goss', 'learning_rate': 0.025655445719444635, 'reg_alpha': 0.03226208931743004, 'reg_lambda': 5.6206332311841414e-08, 'max_depth': 5, 'num_leaves': 18, 'colsample_bytree': 0.517025065073219, 'min_child_samples': 11, 'max_bin': 142, 'subsample_freq': 3}. Best is trial 137 with value: 0.17512873362467118.\n"
     ]
    },
    {
     "name": "stdout",
     "output_type": "stream",
     "text": [
      "Repeat \u001b[1m\u001b[34m#1\n",
      "Repeat \u001b[1m\u001b[34m#2\n"
     ]
    },
    {
     "name": "stderr",
     "output_type": "stream",
     "text": [
      "[I 2023-06-29 13:27:48,435] Trial 320 finished with value: 0.22353652385535208 and parameters: {'boosting_type': 'goss', 'learning_rate': 0.05639551995961123, 'reg_alpha': 2.3235369754413835e-05, 'reg_lambda': 8.928542464251275e-08, 'max_depth': 5, 'num_leaves': 34, 'colsample_bytree': 0.48153790916410516, 'min_child_samples': 47, 'max_bin': 114, 'subsample_freq': 3}. Best is trial 137 with value: 0.17512873362467118.\n"
     ]
    },
    {
     "name": "stdout",
     "output_type": "stream",
     "text": [
      "Repeat \u001b[1m\u001b[34m#1\n",
      "Repeat \u001b[1m\u001b[34m#2\n"
     ]
    },
    {
     "name": "stderr",
     "output_type": "stream",
     "text": [
      "[I 2023-06-29 13:27:52,104] Trial 321 finished with value: 0.1950801487949499 and parameters: {'boosting_type': 'goss', 'learning_rate': 0.01871684524549595, 'reg_alpha': 0.0011951605985374536, 'reg_lambda': 8.54576130035502e-05, 'max_depth': 6, 'num_leaves': 27, 'colsample_bytree': 0.496271480880541, 'min_child_samples': 14, 'max_bin': 55, 'subsample_freq': 4}. Best is trial 137 with value: 0.17512873362467118.\n"
     ]
    },
    {
     "name": "stdout",
     "output_type": "stream",
     "text": [
      "Repeat \u001b[1m\u001b[34m#1\n",
      "Repeat \u001b[1m\u001b[34m#2\n"
     ]
    },
    {
     "name": "stderr",
     "output_type": "stream",
     "text": [
      "[I 2023-06-29 13:27:54,082] Trial 322 finished with value: 0.20238377342804859 and parameters: {'boosting_type': 'goss', 'learning_rate': 0.040858950657177116, 'reg_alpha': 0.021071761173323416, 'reg_lambda': 0.0004479428039985362, 'max_depth': 5, 'num_leaves': 4, 'colsample_bytree': 0.5606736028298657, 'min_child_samples': 12, 'max_bin': 162, 'subsample_freq': 5}. Best is trial 137 with value: 0.17512873362467118.\n"
     ]
    },
    {
     "name": "stdout",
     "output_type": "stream",
     "text": [
      "Repeat \u001b[1m\u001b[34m#1\n",
      "Repeat \u001b[1m\u001b[34m#2\n"
     ]
    },
    {
     "name": "stderr",
     "output_type": "stream",
     "text": [
      "[I 2023-06-29 13:27:55,747] Trial 323 finished with value: 0.18525479772098385 and parameters: {'boosting_type': 'goss', 'learning_rate': 0.06210436642050111, 'reg_alpha': 0.00835367139219906, 'reg_lambda': 2.061943402627662e-08, 'max_depth': 5, 'num_leaves': 58, 'colsample_bytree': 0.6203197053252112, 'min_child_samples': 10, 'max_bin': 38, 'subsample_freq': 3}. Best is trial 137 with value: 0.17512873362467118.\n"
     ]
    },
    {
     "name": "stdout",
     "output_type": "stream",
     "text": [
      "Repeat \u001b[1m\u001b[34m#1\n",
      "Repeat \u001b[1m\u001b[34m#2\n"
     ]
    },
    {
     "name": "stderr",
     "output_type": "stream",
     "text": [
      "[I 2023-06-29 13:27:57,497] Trial 324 finished with value: 0.18017677777757563 and parameters: {'boosting_type': 'goss', 'learning_rate': 0.06277554367972647, 'reg_alpha': 0.008490544045110043, 'reg_lambda': 2.248460810680114e-06, 'max_depth': 5, 'num_leaves': 29, 'colsample_bytree': 0.5996066931181105, 'min_child_samples': 10, 'max_bin': 66, 'subsample_freq': 3}. Best is trial 137 with value: 0.17512873362467118.\n"
     ]
    },
    {
     "name": "stdout",
     "output_type": "stream",
     "text": [
      "Repeat \u001b[1m\u001b[34m#1\n",
      "Repeat \u001b[1m\u001b[34m#2\n"
     ]
    },
    {
     "name": "stderr",
     "output_type": "stream",
     "text": [
      "[I 2023-06-29 13:27:58,975] Trial 325 finished with value: 0.1967443888617215 and parameters: {'boosting_type': 'goss', 'learning_rate': 0.06447871823943939, 'reg_alpha': 0.006404517282310235, 'reg_lambda': 1.601165327199728e-05, 'max_depth': 5, 'num_leaves': 29, 'colsample_bytree': 0.6016578061983493, 'min_child_samples': 10, 'max_bin': 66, 'subsample_freq': 3}. Best is trial 137 with value: 0.17512873362467118.\n"
     ]
    },
    {
     "name": "stdout",
     "output_type": "stream",
     "text": [
      "Repeat \u001b[1m\u001b[34m#1\n",
      "Repeat \u001b[1m\u001b[34m#2\n"
     ]
    },
    {
     "name": "stderr",
     "output_type": "stream",
     "text": [
      "[I 2023-06-29 13:27:59,401] Trial 326 finished with value: 0.5004787610653934 and parameters: {'boosting_type': 'goss', 'learning_rate': 0.07279320886729684, 'reg_alpha': 0.010916866941237684, 'reg_lambda': 4.2558813949450807e-07, 'max_depth': 5, 'num_leaves': 59, 'colsample_bytree': 0.6240969612804945, 'min_child_samples': 88, 'max_bin': 75, 'subsample_freq': 3}. Best is trial 137 with value: 0.17512873362467118.\n"
     ]
    },
    {
     "name": "stdout",
     "output_type": "stream",
     "text": [
      "Repeat \u001b[1m\u001b[34m#1\n",
      "Repeat \u001b[1m\u001b[34m#2\n"
     ]
    },
    {
     "name": "stderr",
     "output_type": "stream",
     "text": [
      "[I 2023-06-29 13:28:00,852] Trial 327 finished with value: 0.2041886965054912 and parameters: {'boosting_type': 'goss', 'learning_rate': 0.0790734197358215, 'reg_alpha': 0.009768517723267646, 'reg_lambda': 1.7608348970295873e-06, 'max_depth': 5, 'num_leaves': 33, 'colsample_bytree': 0.6208418393209896, 'min_child_samples': 10, 'max_bin': 59, 'subsample_freq': 3}. Best is trial 137 with value: 0.17512873362467118.\n"
     ]
    },
    {
     "name": "stdout",
     "output_type": "stream",
     "text": [
      "Repeat \u001b[1m\u001b[34m#1\n",
      "Repeat \u001b[1m\u001b[34m#2\n"
     ]
    },
    {
     "name": "stderr",
     "output_type": "stream",
     "text": [
      "[I 2023-06-29 13:28:02,478] Trial 328 finished with value: 0.19823442659489704 and parameters: {'boosting_type': 'goss', 'learning_rate': 0.06697907956687045, 'reg_alpha': 0.015223024163219186, 'reg_lambda': 2.370807877213856e-07, 'max_depth': 5, 'num_leaves': 35, 'colsample_bytree': 0.5986471436444931, 'min_child_samples': 12, 'max_bin': 71, 'subsample_freq': 3}. Best is trial 137 with value: 0.17512873362467118.\n"
     ]
    },
    {
     "name": "stdout",
     "output_type": "stream",
     "text": [
      "Repeat \u001b[1m\u001b[34m#1\n",
      "Repeat \u001b[1m\u001b[34m#2\n"
     ]
    },
    {
     "name": "stderr",
     "output_type": "stream",
     "text": [
      "[I 2023-06-29 13:28:05,949] Trial 329 finished with value: 0.19094119230012707 and parameters: {'boosting_type': 'goss', 'learning_rate': 0.02262550230216185, 'reg_alpha': 0.007833051754103404, 'reg_lambda': 7.715939733503618e-07, 'max_depth': 5, 'num_leaves': 37, 'colsample_bytree': 0.6283466279020231, 'min_child_samples': 9, 'max_bin': 68, 'subsample_freq': 3}. Best is trial 137 with value: 0.17512873362467118.\n"
     ]
    },
    {
     "name": "stdout",
     "output_type": "stream",
     "text": [
      "Repeat \u001b[1m\u001b[34m#1\n",
      "Repeat \u001b[1m\u001b[34m#2\n"
     ]
    },
    {
     "name": "stderr",
     "output_type": "stream",
     "text": [
      "[I 2023-06-29 13:28:07,599] Trial 330 finished with value: 0.1903972908756042 and parameters: {'boosting_type': 'goss', 'learning_rate': 0.05964885790598144, 'reg_alpha': 1.654876648131047e-05, 'reg_lambda': 3.712706308532763e-07, 'max_depth': 5, 'num_leaves': 55, 'colsample_bytree': 0.6155726186289661, 'min_child_samples': 11, 'max_bin': 63, 'subsample_freq': 3}. Best is trial 137 with value: 0.17512873362467118.\n"
     ]
    },
    {
     "name": "stdout",
     "output_type": "stream",
     "text": [
      "Repeat \u001b[1m\u001b[34m#1\n",
      "Repeat \u001b[1m\u001b[34m#2\n"
     ]
    },
    {
     "name": "stderr",
     "output_type": "stream",
     "text": [
      "[I 2023-06-29 13:28:09,343] Trial 331 finished with value: 0.1879808180612557 and parameters: {'boosting_type': 'goss', 'learning_rate': 0.06271781975078118, 'reg_alpha': 6.584515233263069e-07, 'reg_lambda': 5.936909376227433e-08, 'max_depth': 5, 'num_leaves': 115, 'colsample_bytree': 0.6061549127703988, 'min_child_samples': 9, 'max_bin': 37, 'subsample_freq': 3}. Best is trial 137 with value: 0.17512873362467118.\n"
     ]
    },
    {
     "name": "stdout",
     "output_type": "stream",
     "text": [
      "Repeat \u001b[1m\u001b[34m#1\n",
      "Repeat \u001b[1m\u001b[34m#2\n"
     ]
    },
    {
     "name": "stderr",
     "output_type": "stream",
     "text": [
      "[I 2023-06-29 13:28:10,711] Trial 332 finished with value: 0.18641465168015256 and parameters: {'boosting_type': 'goss', 'learning_rate': 0.09227417203750499, 'reg_alpha': 0.00485284293787079, 'reg_lambda': 1.618451208745038e-07, 'max_depth': 5, 'num_leaves': 31, 'colsample_bytree': 0.6332392992263528, 'min_child_samples': 12, 'max_bin': 32, 'subsample_freq': 3}. Best is trial 137 with value: 0.17512873362467118.\n"
     ]
    },
    {
     "name": "stdout",
     "output_type": "stream",
     "text": [
      "Repeat \u001b[1m\u001b[34m#1\n",
      "Repeat \u001b[1m\u001b[34m#2\n"
     ]
    },
    {
     "name": "stderr",
     "output_type": "stream",
     "text": [
      "[I 2023-06-29 13:28:12,519] Trial 333 finished with value: 0.19583357684548058 and parameters: {'boosting_type': 'goss', 'learning_rate': 0.05120700995994461, 'reg_alpha': 0.014374941128320093, 'reg_lambda': 1.0706296463965106e-07, 'max_depth': 5, 'num_leaves': 53, 'colsample_bytree': 0.6437094236011608, 'min_child_samples': 7, 'max_bin': 48, 'subsample_freq': 3}. Best is trial 137 with value: 0.17512873362467118.\n"
     ]
    },
    {
     "name": "stdout",
     "output_type": "stream",
     "text": [
      "Repeat \u001b[1m\u001b[34m#1\n",
      "Repeat \u001b[1m\u001b[34m#2\n"
     ]
    },
    {
     "name": "stderr",
     "output_type": "stream",
     "text": [
      "[I 2023-06-29 13:28:14,064] Trial 334 finished with value: 0.1967647377260341 and parameters: {'boosting_type': 'goss', 'learning_rate': 0.07193087817858113, 'reg_alpha': 0.023961721332671222, 'reg_lambda': 3.8448773972476204e-08, 'max_depth': 5, 'num_leaves': 39, 'colsample_bytree': 0.5717132607861322, 'min_child_samples': 10, 'max_bin': 138, 'subsample_freq': 3}. Best is trial 137 with value: 0.17512873362467118.\n"
     ]
    },
    {
     "name": "stdout",
     "output_type": "stream",
     "text": [
      "Repeat \u001b[1m\u001b[34m#1\n",
      "Repeat \u001b[1m\u001b[34m#2\n"
     ]
    },
    {
     "name": "stderr",
     "output_type": "stream",
     "text": [
      "[I 2023-06-29 13:28:16,013] Trial 335 finished with value: 0.1900248560866882 and parameters: {'boosting_type': 'goss', 'learning_rate': 0.0538425669409361, 'reg_alpha': 0.008065645571951326, 'reg_lambda': 6.474604969568289e-08, 'max_depth': 5, 'num_leaves': 61, 'colsample_bytree': 0.5895816554948845, 'min_child_samples': 13, 'max_bin': 77, 'subsample_freq': 3}. Best is trial 137 with value: 0.17512873362467118.\n"
     ]
    },
    {
     "name": "stdout",
     "output_type": "stream",
     "text": [
      "Repeat \u001b[1m\u001b[34m#1\n",
      "Repeat \u001b[1m\u001b[34m#2\n"
     ]
    },
    {
     "name": "stderr",
     "output_type": "stream",
     "text": [
      "[I 2023-06-29 13:28:22,269] Trial 336 finished with value: 0.18898463200871843 and parameters: {'boosting_type': 'goss', 'learning_rate': 0.009367148636665098, 'reg_alpha': 1.1397075470975756e-05, 'reg_lambda': 2.8208032329462045e-08, 'max_depth': 5, 'num_leaves': 57, 'colsample_bytree': 0.6111742890622797, 'min_child_samples': 9, 'max_bin': 39, 'subsample_freq': 3}. Best is trial 137 with value: 0.17512873362467118.\n"
     ]
    },
    {
     "name": "stdout",
     "output_type": "stream",
     "text": [
      "Repeat \u001b[1m\u001b[34m#1\n",
      "Repeat \u001b[1m\u001b[34m#2\n"
     ]
    },
    {
     "name": "stderr",
     "output_type": "stream",
     "text": [
      "[I 2023-06-29 13:28:25,838] Trial 337 finished with value: 0.18927465343922587 and parameters: {'boosting_type': 'goss', 'learning_rate': 0.01981187465039861, 'reg_alpha': 2.5413034745206096e-07, 'reg_lambda': 8.85410121121317e-08, 'max_depth': 5, 'num_leaves': 28, 'colsample_bytree': 0.5885677843824786, 'min_child_samples': 6, 'max_bin': 44, 'subsample_freq': 3}. Best is trial 137 with value: 0.17512873362467118.\n"
     ]
    },
    {
     "name": "stdout",
     "output_type": "stream",
     "text": [
      "Repeat \u001b[1m\u001b[34m#1\n",
      "Repeat \u001b[1m\u001b[34m#2\n"
     ]
    },
    {
     "name": "stderr",
     "output_type": "stream",
     "text": [
      "[I 2023-06-29 13:28:39,401] Trial 338 finished with value: 0.19459397243245513 and parameters: {'boosting_type': 'goss', 'learning_rate': 0.0032915109100399493, 'reg_alpha': 0.04164711602306654, 'reg_lambda': 2.5042627669927973e-06, 'max_depth': 5, 'num_leaves': 51, 'colsample_bytree': 0.5445225040912484, 'min_child_samples': 11, 'max_bin': 54, 'subsample_freq': 3}. Best is trial 137 with value: 0.17512873362467118.\n"
     ]
    },
    {
     "name": "stdout",
     "output_type": "stream",
     "text": [
      "Repeat \u001b[1m\u001b[34m#1\n",
      "Repeat \u001b[1m\u001b[34m#2\n"
     ]
    },
    {
     "name": "stderr",
     "output_type": "stream",
     "text": [
      "[I 2023-06-29 13:28:41,893] Trial 339 finished with value: 0.18892574534306578 and parameters: {'boosting_type': 'goss', 'learning_rate': 0.030563113236062246, 'reg_alpha': 0.08021082688044953, 'reg_lambda': 2.4123427751173436e-05, 'max_depth': 5, 'num_leaves': 32, 'colsample_bytree': 0.617695599545391, 'min_child_samples': 15, 'max_bin': 51, 'subsample_freq': 5}. Best is trial 137 with value: 0.17512873362467118.\n"
     ]
    },
    {
     "name": "stdout",
     "output_type": "stream",
     "text": [
      "Repeat \u001b[1m\u001b[34m#1\n",
      "Repeat \u001b[1m\u001b[34m#2\n"
     ]
    },
    {
     "name": "stderr",
     "output_type": "stream",
     "text": [
      "[I 2023-06-29 13:28:43,445] Trial 340 finished with value: 0.18985118031244996 and parameters: {'boosting_type': 'goss', 'learning_rate': 0.07971599710178973, 'reg_alpha': 2.1152805325256988e-05, 'reg_lambda': 4.2360206423247034e-08, 'max_depth': 5, 'num_leaves': 59, 'colsample_bytree': 0.5826511926817859, 'min_child_samples': 7, 'max_bin': 41, 'subsample_freq': 3}. Best is trial 137 with value: 0.17512873362467118.\n"
     ]
    },
    {
     "name": "stdout",
     "output_type": "stream",
     "text": [
      "Repeat \u001b[1m\u001b[34m#1\n",
      "Repeat \u001b[1m\u001b[34m#2\n"
     ]
    },
    {
     "name": "stderr",
     "output_type": "stream",
     "text": [
      "[I 2023-06-29 13:28:48,328] Trial 341 finished with value: 0.20174802531150976 and parameters: {'boosting_type': 'goss', 'learning_rate': 0.01438744523662138, 'reg_alpha': 1.5216023545465858, 'reg_lambda': 1.6288831219099448e-07, 'max_depth': 7, 'num_leaves': 38, 'colsample_bytree': 0.5364771694560242, 'min_child_samples': 5, 'max_bin': 35, 'subsample_freq': 3}. Best is trial 137 with value: 0.17512873362467118.\n"
     ]
    },
    {
     "name": "stdout",
     "output_type": "stream",
     "text": [
      "Repeat \u001b[1m\u001b[34m#1\n",
      "Repeat \u001b[1m\u001b[34m#2\n"
     ]
    },
    {
     "name": "stderr",
     "output_type": "stream",
     "text": [
      "[I 2023-06-29 13:28:50,785] Trial 342 finished with value: 0.19157424283809701 and parameters: {'boosting_type': 'goss', 'learning_rate': 0.03703879682905, 'reg_alpha': 3.5221785746188034e-08, 'reg_lambda': 0.00028095057569795233, 'max_depth': 5, 'num_leaves': 42, 'colsample_bytree': 0.5757028025970118, 'min_child_samples': 13, 'max_bin': 62, 'subsample_freq': 3}. Best is trial 137 with value: 0.17512873362467118.\n"
     ]
    },
    {
     "name": "stdout",
     "output_type": "stream",
     "text": [
      "Repeat \u001b[1m\u001b[34m#1\n",
      "Repeat \u001b[1m\u001b[34m#2\n"
     ]
    },
    {
     "name": "stderr",
     "output_type": "stream",
     "text": [
      "[I 2023-06-29 13:28:52,453] Trial 343 finished with value: 0.2049904065869121 and parameters: {'boosting_type': 'goss', 'learning_rate': 0.06552788429958455, 'reg_alpha': 0.021186639218138608, 'reg_lambda': 9.789361785947012e-07, 'max_depth': 5, 'num_leaves': 34, 'colsample_bytree': 0.5566212761431417, 'min_child_samples': 8, 'max_bin': 47, 'subsample_freq': 5}. Best is trial 137 with value: 0.17512873362467118.\n"
     ]
    },
    {
     "name": "stdout",
     "output_type": "stream",
     "text": [
      "Repeat \u001b[1m\u001b[34m#1\n",
      "Repeat \u001b[1m\u001b[34m#2\n"
     ]
    },
    {
     "name": "stderr",
     "output_type": "stream",
     "text": [
      "[I 2023-06-29 13:28:54,461] Trial 344 finished with value: 0.18629637580203978 and parameters: {'boosting_type': 'goss', 'learning_rate': 0.04781477966383488, 'reg_alpha': 3.6780404961476364e-05, 'reg_lambda': 2.4680256439124835e-06, 'max_depth': 5, 'num_leaves': 75, 'colsample_bytree': 0.5955017083142466, 'min_child_samples': 11, 'max_bin': 42, 'subsample_freq': 3}. Best is trial 137 with value: 0.17512873362467118.\n"
     ]
    },
    {
     "name": "stdout",
     "output_type": "stream",
     "text": [
      "Repeat \u001b[1m\u001b[34m#1\n",
      "Repeat \u001b[1m\u001b[34m#2\n"
     ]
    },
    {
     "name": "stderr",
     "output_type": "stream",
     "text": [
      "[I 2023-06-29 13:28:56,087] Trial 345 finished with value: 0.19440162411715173 and parameters: {'boosting_type': 'goss', 'learning_rate': 0.06074014323474408, 'reg_alpha': 0.011046017237956186, 'reg_lambda': 7.20017188470138e-06, 'max_depth': 5, 'num_leaves': 29, 'colsample_bytree': 0.42300456513768236, 'min_child_samples': 17, 'max_bin': 49, 'subsample_freq': 2}. Best is trial 137 with value: 0.17512873362467118.\n"
     ]
    },
    {
     "name": "stdout",
     "output_type": "stream",
     "text": [
      "Repeat \u001b[1m\u001b[34m#1\n",
      "Repeat \u001b[1m\u001b[34m#2\n"
     ]
    },
    {
     "name": "stderr",
     "output_type": "stream",
     "text": [
      "[I 2023-06-29 13:29:00,475] Trial 346 finished with value: 0.1934586472587272 and parameters: {'boosting_type': 'goss', 'learning_rate': 0.015494475534941944, 'reg_alpha': 0.0006869438285679564, 'reg_lambda': 2.207466438969238e-08, 'max_depth': 5, 'num_leaves': 66, 'colsample_bytree': 0.5209013678742374, 'min_child_samples': 9, 'max_bin': 56, 'subsample_freq': 3}. Best is trial 137 with value: 0.17512873362467118.\n"
     ]
    },
    {
     "name": "stdout",
     "output_type": "stream",
     "text": [
      "Repeat \u001b[1m\u001b[34m#1\n",
      "Repeat \u001b[1m\u001b[34m#2\n"
     ]
    },
    {
     "name": "stderr",
     "output_type": "stream",
     "text": [
      "[I 2023-06-29 13:29:02,101] Trial 347 finished with value: 0.19211726310861232 and parameters: {'boosting_type': 'goss', 'learning_rate': 0.054686335971618406, 'reg_alpha': 7.376380888569352e-06, 'reg_lambda': 1.0509300485411062e-07, 'max_depth': 5, 'num_leaves': 23, 'colsample_bytree': 0.5059438915179338, 'min_child_samples': 13, 'max_bin': 38, 'subsample_freq': 5}. Best is trial 137 with value: 0.17512873362467118.\n"
     ]
    },
    {
     "name": "stdout",
     "output_type": "stream",
     "text": [
      "Repeat \u001b[1m\u001b[34m#1\n",
      "Repeat \u001b[1m\u001b[34m#2\n"
     ]
    },
    {
     "name": "stderr",
     "output_type": "stream",
     "text": [
      "[I 2023-06-29 13:29:04,842] Trial 348 finished with value: 0.1916436209081076 and parameters: {'boosting_type': 'goss', 'learning_rate': 0.028215327068168095, 'reg_alpha': 1.5201609310009534e-05, 'reg_lambda': 2.859417644697312e-07, 'max_depth': 5, 'num_leaves': 49, 'colsample_bytree': 0.6342928429169512, 'min_child_samples': 11, 'max_bin': 44, 'subsample_freq': 3}. Best is trial 137 with value: 0.17512873362467118.\n"
     ]
    },
    {
     "name": "stdout",
     "output_type": "stream",
     "text": [
      "Repeat \u001b[1m\u001b[34m#1\n",
      "Repeat \u001b[1m\u001b[34m#2\n"
     ]
    },
    {
     "name": "stderr",
     "output_type": "stream",
     "text": [
      "[I 2023-06-29 13:29:07,022] Trial 349 finished with value: 0.1894474592048656 and parameters: {'boosting_type': 'goss', 'learning_rate': 0.042984956986010535, 'reg_alpha': 0.004678291134606047, 'reg_lambda': 4.997900114869167e-08, 'max_depth': 5, 'num_leaves': 94, 'colsample_bytree': 0.6073968725253934, 'min_child_samples': 9, 'max_bin': 37, 'subsample_freq': 5}. Best is trial 137 with value: 0.17512873362467118.\n"
     ]
    },
    {
     "name": "stdout",
     "output_type": "stream",
     "text": [
      "Repeat \u001b[1m\u001b[34m#1\n",
      "Repeat \u001b[1m\u001b[34m#2\n"
     ]
    },
    {
     "name": "stderr",
     "output_type": "stream",
     "text": [
      "[I 2023-06-29 13:29:08,235] Trial 350 finished with value: 0.2000097356654128 and parameters: {'boosting_type': 'goss', 'learning_rate': 0.07079128300132193, 'reg_alpha': 0.01507346986729941, 'reg_lambda': 3.714991927602779e-06, 'max_depth': 5, 'num_leaves': 36, 'colsample_bytree': 0.6520625652728974, 'min_child_samples': 14, 'max_bin': 67, 'subsample_freq': 3}. Best is trial 137 with value: 0.17512873362467118.\n"
     ]
    },
    {
     "name": "stdout",
     "output_type": "stream",
     "text": [
      "Repeat \u001b[1m\u001b[34m#1\n",
      "Repeat \u001b[1m\u001b[34m#2\n"
     ]
    },
    {
     "name": "stderr",
     "output_type": "stream",
     "text": [
      "[I 2023-06-29 13:29:10,366] Trial 351 finished with value: 0.18741853743478726 and parameters: {'boosting_type': 'goss', 'learning_rate': 0.03423279603916901, 'reg_alpha': 0.038885780203413205, 'reg_lambda': 3.550703975495905e-05, 'max_depth': 5, 'num_leaves': 70, 'colsample_bytree': 0.3036144355070678, 'min_child_samples': 8, 'max_bin': 50, 'subsample_freq': 3}. Best is trial 137 with value: 0.17512873362467118.\n"
     ]
    },
    {
     "name": "stdout",
     "output_type": "stream",
     "text": [
      "Repeat \u001b[1m\u001b[34m#1\n",
      "Repeat \u001b[1m\u001b[34m#2\n"
     ]
    },
    {
     "name": "stderr",
     "output_type": "stream",
     "text": [
      "[I 2023-06-29 13:29:13,343] Trial 352 finished with value: 0.18506497227765523 and parameters: {'boosting_type': 'goss', 'learning_rate': 0.04845495459258195, 'reg_alpha': 2.683778451292071e-05, 'reg_lambda': 5.624246617069475e-07, 'max_depth': 6, 'num_leaves': 61, 'colsample_bytree': 0.5647751657539745, 'min_child_samples': 11, 'max_bin': 45, 'subsample_freq': 3}. Best is trial 137 with value: 0.17512873362467118.\n"
     ]
    },
    {
     "name": "stdout",
     "output_type": "stream",
     "text": [
      "Repeat \u001b[1m\u001b[34m#1\n",
      "Repeat \u001b[1m\u001b[34m#2\n"
     ]
    },
    {
     "name": "stderr",
     "output_type": "stream",
     "text": [
      "[I 2023-06-29 13:29:14,556] Trial 353 finished with value: 0.18710722940233432 and parameters: {'boosting_type': 'goss', 'learning_rate': 0.0812191169471437, 'reg_alpha': 3.3557699694100894e-05, 'reg_lambda': 3.7332651456637846e-07, 'max_depth': 6, 'num_leaves': 63, 'colsample_bytree': 0.5730983310756756, 'min_child_samples': 10, 'max_bin': 45, 'subsample_freq': 3}. Best is trial 137 with value: 0.17512873362467118.\n"
     ]
    },
    {
     "name": "stdout",
     "output_type": "stream",
     "text": [
      "Repeat \u001b[1m\u001b[34m#1\n",
      "Repeat \u001b[1m\u001b[34m#2\n"
     ]
    },
    {
     "name": "stderr",
     "output_type": "stream",
     "text": [
      "[I 2023-06-29 13:29:16,116] Trial 354 finished with value: 0.18795709469538677 and parameters: {'boosting_type': 'goss', 'learning_rate': 0.059692872718887006, 'reg_alpha': 2.4035760654311832e-05, 'reg_lambda': 5.185807951451381e-07, 'max_depth': 6, 'num_leaves': 61, 'colsample_bytree': 0.5537841451343648, 'min_child_samples': 7, 'max_bin': 41, 'subsample_freq': 3}. Best is trial 137 with value: 0.17512873362467118.\n"
     ]
    },
    {
     "name": "stdout",
     "output_type": "stream",
     "text": [
      "Repeat \u001b[1m\u001b[34m#1\n",
      "Repeat \u001b[1m\u001b[34m#2\n"
     ]
    },
    {
     "name": "stderr",
     "output_type": "stream",
     "text": [
      "[I 2023-06-29 13:29:35,400] Trial 355 finished with value: 0.20833113404309955 and parameters: {'boosting_type': 'goss', 'learning_rate': 0.001756156797824551, 'reg_alpha': 1.0720349185708545e-05, 'reg_lambda': 2.42120500016206e-07, 'max_depth': 6, 'num_leaves': 56, 'colsample_bytree': 0.663375312450743, 'min_child_samples': 5, 'max_bin': 53, 'subsample_freq': 3}. Best is trial 137 with value: 0.17512873362467118.\n"
     ]
    },
    {
     "name": "stdout",
     "output_type": "stream",
     "text": [
      "Repeat \u001b[1m\u001b[34m#1\n",
      "Repeat \u001b[1m\u001b[34m#2\n"
     ]
    },
    {
     "name": "stderr",
     "output_type": "stream",
     "text": [
      "[I 2023-06-29 13:29:36,796] Trial 356 finished with value: 0.20004353277415754 and parameters: {'boosting_type': 'goss', 'learning_rate': 0.06836549609850529, 'reg_alpha': 1.8867511794181202e-06, 'reg_lambda': 7.757176896574755e-07, 'max_depth': 6, 'num_leaves': 60, 'colsample_bytree': 0.5806700334605761, 'min_child_samples': 11, 'max_bin': 32, 'subsample_freq': 3}. Best is trial 137 with value: 0.17512873362467118.\n"
     ]
    },
    {
     "name": "stdout",
     "output_type": "stream",
     "text": [
      "Repeat \u001b[1m\u001b[34m#1\n",
      "Repeat \u001b[1m\u001b[34m#2\n"
     ]
    },
    {
     "name": "stderr",
     "output_type": "stream",
     "text": [
      "[I 2023-06-29 13:29:38,351] Trial 357 finished with value: 0.1932783006614865 and parameters: {'boosting_type': 'goss', 'learning_rate': 0.052831534251398124, 'reg_alpha': 0.06177311556714785, 'reg_lambda': 1.5669522909910187e-07, 'max_depth': 6, 'num_leaves': 64, 'colsample_bytree': 0.5617091486176692, 'min_child_samples': 12, 'max_bin': 47, 'subsample_freq': 3}. Best is trial 137 with value: 0.17512873362467118.\n"
     ]
    },
    {
     "name": "stdout",
     "output_type": "stream",
     "text": [
      "Repeat \u001b[1m\u001b[34m#1\n",
      "Repeat \u001b[1m\u001b[34m#2\n"
     ]
    },
    {
     "name": "stderr",
     "output_type": "stream",
     "text": [
      "[I 2023-06-29 13:29:39,569] Trial 358 finished with value: 0.20378792421274977 and parameters: {'boosting_type': 'goss', 'learning_rate': 0.09909490618332605, 'reg_alpha': 4.415930887962511e-05, 'reg_lambda': 6.196478770336058e-07, 'max_depth': 6, 'num_leaves': 54, 'colsample_bytree': 0.5698354707469728, 'min_child_samples': 8, 'max_bin': 177, 'subsample_freq': 3}. Best is trial 137 with value: 0.17512873362467118.\n"
     ]
    },
    {
     "name": "stdout",
     "output_type": "stream",
     "text": [
      "Repeat \u001b[1m\u001b[34m#1\n",
      "Repeat \u001b[1m\u001b[34m#2\n"
     ]
    },
    {
     "name": "stderr",
     "output_type": "stream",
     "text": [
      "[I 2023-06-29 13:29:42,116] Trial 359 finished with value: 0.19860394997737332 and parameters: {'boosting_type': 'goss', 'learning_rate': 0.02168469503049352, 'reg_alpha': 0.029829455221365615, 'reg_lambda': 7.503856970327387e-08, 'max_depth': 6, 'num_leaves': 59, 'colsample_bytree': 0.5328423702598467, 'min_child_samples': 10, 'max_bin': 58, 'subsample_freq': 3}. Best is trial 137 with value: 0.17512873362467118.\n"
     ]
    },
    {
     "name": "stdout",
     "output_type": "stream",
     "text": [
      "Repeat \u001b[1m\u001b[34m#1\n",
      "Repeat \u001b[1m\u001b[34m#2\n"
     ]
    },
    {
     "name": "stderr",
     "output_type": "stream",
     "text": [
      "[I 2023-06-29 13:29:49,315] Trial 360 finished with value: 0.18674032798570595 and parameters: {'boosting_type': 'goss', 'learning_rate': 0.006726591782797981, 'reg_alpha': 0.00035519625073055037, 'reg_lambda': 1.1900495118008942e-07, 'max_depth': 7, 'num_leaves': 57, 'colsample_bytree': 0.5429690989549741, 'min_child_samples': 12, 'max_bin': 41, 'subsample_freq': 3}. Best is trial 137 with value: 0.17512873362467118.\n"
     ]
    },
    {
     "name": "stdout",
     "output_type": "stream",
     "text": [
      "Repeat \u001b[1m\u001b[34m#1\n",
      "Repeat \u001b[1m\u001b[34m#2\n"
     ]
    },
    {
     "name": "stderr",
     "output_type": "stream",
     "text": [
      "[I 2023-06-29 13:29:51,174] Trial 361 finished with value: 0.2192024984024229 and parameters: {'boosting_type': 'goss', 'learning_rate': 0.03951655579980175, 'reg_alpha': 1.931858576858232e-05, 'reg_lambda': 1.3670470404090802e-06, 'max_depth': 6, 'num_leaves': 47, 'colsample_bytree': 0.5122479371590235, 'min_child_samples': 42, 'max_bin': 38, 'subsample_freq': 4}. Best is trial 137 with value: 0.17512873362467118.\n"
     ]
    },
    {
     "name": "stdout",
     "output_type": "stream",
     "text": [
      "Repeat \u001b[1m\u001b[34m#1\n",
      "Repeat \u001b[1m\u001b[34m#2\n"
     ]
    },
    {
     "name": "stderr",
     "output_type": "stream",
     "text": [
      "[I 2023-06-29 13:29:53,752] Trial 362 finished with value: 0.18648755099977748 and parameters: {'boosting_type': 'goss', 'learning_rate': 0.03242008796250712, 'reg_alpha': 7.735260020045616e-05, 'reg_lambda': 1.9688579864793252e-07, 'max_depth': 9, 'num_leaves': 40, 'colsample_bytree': 0.5635122067058893, 'min_child_samples': 8, 'max_bin': 51, 'subsample_freq': 3}. Best is trial 137 with value: 0.17512873362467118.\n"
     ]
    },
    {
     "name": "stdout",
     "output_type": "stream",
     "text": [
      "Repeat \u001b[1m\u001b[34m#1\n",
      "Repeat \u001b[1m\u001b[34m#2\n"
     ]
    },
    {
     "name": "stderr",
     "output_type": "stream",
     "text": [
      "[I 2023-06-29 13:29:55,017] Trial 363 finished with value: 0.1956762370807154 and parameters: {'boosting_type': 'goss', 'learning_rate': 0.07502778100827381, 'reg_alpha': 0.0005552858536513875, 'reg_lambda': 5.628398743194278e-08, 'max_depth': 6, 'num_leaves': 44, 'colsample_bytree': 0.5257499334687733, 'min_child_samples': 10, 'max_bin': 47, 'subsample_freq': 3}. Best is trial 137 with value: 0.17512873362467118.\n"
     ]
    },
    {
     "name": "stdout",
     "output_type": "stream",
     "text": [
      "Repeat \u001b[1m\u001b[34m#1\n",
      "Repeat \u001b[1m\u001b[34m#2\n"
     ]
    },
    {
     "name": "stderr",
     "output_type": "stream",
     "text": [
      "[I 2023-06-29 13:29:56,510] Trial 364 finished with value: 0.1932239835011372 and parameters: {'boosting_type': 'goss', 'learning_rate': 0.06372497295327506, 'reg_alpha': 2.7795874064233983e-05, 'reg_lambda': 1.1234995334055928e-05, 'max_depth': 6, 'num_leaves': 52, 'colsample_bytree': 0.5864149504161814, 'min_child_samples': 5, 'max_bin': 44, 'subsample_freq': 2}. Best is trial 137 with value: 0.17512873362467118.\n"
     ]
    },
    {
     "name": "stdout",
     "output_type": "stream",
     "text": [
      "Repeat \u001b[1m\u001b[34m#1\n",
      "Repeat \u001b[1m\u001b[34m#2\n"
     ]
    },
    {
     "name": "stderr",
     "output_type": "stream",
     "text": [
      "[I 2023-06-29 13:29:58,068] Trial 365 finished with value: 0.1962440717400023 and parameters: {'boosting_type': 'goss', 'learning_rate': 0.04596907755122017, 'reg_alpha': 0.0009238002038534047, 'reg_lambda': 3.220409427450985e-08, 'max_depth': 8, 'num_leaves': 65, 'colsample_bytree': 0.5936837230571813, 'min_child_samples': 13, 'max_bin': 35, 'subsample_freq': 3}. Best is trial 137 with value: 0.17512873362467118.\n"
     ]
    },
    {
     "name": "stdout",
     "output_type": "stream",
     "text": [
      "Repeat \u001b[1m\u001b[34m#1\n",
      "Repeat \u001b[1m\u001b[34m#2\n"
     ]
    },
    {
     "name": "stderr",
     "output_type": "stream",
     "text": [
      "[I 2023-06-29 13:29:59,606] Trial 366 finished with value: 0.19552184012134816 and parameters: {'boosting_type': 'goss', 'learning_rate': 0.05748060626602115, 'reg_alpha': 9.254672049856229e-06, 'reg_lambda': 8.9701924698026e-08, 'max_depth': 6, 'num_leaves': 62, 'colsample_bytree': 0.5147073151841053, 'min_child_samples': 7, 'max_bin': 55, 'subsample_freq': 3}. Best is trial 137 with value: 0.17512873362467118.\n"
     ]
    },
    {
     "name": "stdout",
     "output_type": "stream",
     "text": [
      "Repeat \u001b[1m\u001b[34m#1\n",
      "Repeat \u001b[1m\u001b[34m#2\n"
     ]
    },
    {
     "name": "stderr",
     "output_type": "stream",
     "text": [
      "[I 2023-06-29 13:30:01,465] Trial 367 finished with value: 0.2673885387975714 and parameters: {'boosting_type': 'goss', 'learning_rate': 0.05012093137817831, 'reg_alpha': 0.016517662126361254, 'reg_lambda': 4.358021610470195e-06, 'max_depth': 5, 'num_leaves': 42, 'colsample_bytree': 0.5490626445422127, 'min_child_samples': 51, 'max_bin': 61, 'subsample_freq': 4}. Best is trial 137 with value: 0.17512873362467118.\n"
     ]
    },
    {
     "name": "stdout",
     "output_type": "stream",
     "text": [
      "Repeat \u001b[1m\u001b[34m#1\n",
      "Repeat \u001b[1m\u001b[34m#2\n"
     ]
    },
    {
     "name": "stderr",
     "output_type": "stream",
     "text": [
      "[I 2023-06-29 13:30:02,545] Trial 368 finished with value: 0.19237957484228813 and parameters: {'boosting_type': 'goss', 'learning_rate': 0.0889948076625884, 'reg_alpha': 3.757027733169354e-06, 'reg_lambda': 0.00037211328888430063, 'max_depth': 5, 'num_leaves': 50, 'colsample_bytree': 0.5042432628643606, 'min_child_samples': 10, 'max_bin': 40, 'subsample_freq': 3}. Best is trial 137 with value: 0.17512873362467118.\n"
     ]
    },
    {
     "name": "stdout",
     "output_type": "stream",
     "text": [
      "Repeat \u001b[1m\u001b[34m#1\n",
      "Repeat \u001b[1m\u001b[34m#2\n"
     ]
    },
    {
     "name": "stderr",
     "output_type": "stream",
     "text": [
      "[I 2023-06-29 13:30:04,324] Trial 369 finished with value: 0.3660537600190261 and parameters: {'boosting_type': 'goss', 'learning_rate': 0.03719218613320016, 'reg_alpha': 1.0861018087450517e-07, 'reg_lambda': 3.925921291878565e-08, 'max_depth': 6, 'num_leaves': 54, 'colsample_bytree': 0.5333513622189641, 'min_child_samples': 64, 'max_bin': 50, 'subsample_freq': 3}. Best is trial 137 with value: 0.17512873362467118.\n"
     ]
    },
    {
     "name": "stdout",
     "output_type": "stream",
     "text": [
      "Repeat \u001b[1m\u001b[34m#1\n",
      "Repeat \u001b[1m\u001b[34m#2\n"
     ]
    },
    {
     "name": "stderr",
     "output_type": "stream",
     "text": [
      "[I 2023-06-29 13:30:05,682] Trial 370 finished with value: 0.19657541873674939 and parameters: {'boosting_type': 'goss', 'learning_rate': 0.06758921691791221, 'reg_alpha': 0.00024246923717742203, 'reg_lambda': 1.907517222223503e-05, 'max_depth': 5, 'num_leaves': 58, 'colsample_bytree': 0.6016498958153643, 'min_child_samples': 12, 'max_bin': 44, 'subsample_freq': 3}. Best is trial 137 with value: 0.17512873362467118.\n"
     ]
    },
    {
     "name": "stdout",
     "output_type": "stream",
     "text": [
      "Repeat \u001b[1m\u001b[34m#1\n",
      "Repeat \u001b[1m\u001b[34m#2\n"
     ]
    },
    {
     "name": "stderr",
     "output_type": "stream",
     "text": [
      "[I 2023-06-29 13:30:08,160] Trial 371 finished with value: 0.19402639860461962 and parameters: {'boosting_type': 'goss', 'learning_rate': 0.024571219766148927, 'reg_alpha': 0.007190127247253042, 'reg_lambda': 0.0005918414651732986, 'max_depth': 5, 'num_leaves': 39, 'colsample_bytree': 0.5231450283299256, 'min_child_samples': 8, 'max_bin': 36, 'subsample_freq': 3}. Best is trial 137 with value: 0.17512873362467118.\n"
     ]
    },
    {
     "name": "stdout",
     "output_type": "stream",
     "text": [
      "Repeat \u001b[1m\u001b[34m#1\n",
      "Repeat \u001b[1m\u001b[34m#2\n"
     ]
    },
    {
     "name": "stderr",
     "output_type": "stream",
     "text": [
      "[I 2023-06-29 13:30:09,829] Trial 372 finished with value: 0.41398908307586846 and parameters: {'boosting_type': 'goss', 'learning_rate': 0.010527269423565268, 'reg_alpha': 4.414348951102011e-05, 'reg_lambda': 3.172705351380766e-07, 'max_depth': 5, 'num_leaves': 31, 'colsample_bytree': 0.5728614566938268, 'min_child_samples': 57, 'max_bin': 73, 'subsample_freq': 3}. Best is trial 137 with value: 0.17512873362467118.\n"
     ]
    },
    {
     "name": "stdout",
     "output_type": "stream",
     "text": [
      "Repeat \u001b[1m\u001b[34m#1\n",
      "Repeat \u001b[1m\u001b[34m#2\n"
     ]
    },
    {
     "name": "stderr",
     "output_type": "stream",
     "text": [
      "[I 2023-06-29 13:30:11,246] Trial 373 finished with value: 0.1955310557820313 and parameters: {'boosting_type': 'goss', 'learning_rate': 0.05590269986455143, 'reg_alpha': 1.4362471076856465e-05, 'reg_lambda': 1.2291819048240635e-07, 'max_depth': 5, 'num_leaves': 47, 'colsample_bytree': 0.5406373718111621, 'min_child_samples': 15, 'max_bin': 46, 'subsample_freq': 3}. Best is trial 137 with value: 0.17512873362467118.\n"
     ]
    },
    {
     "name": "stdout",
     "output_type": "stream",
     "text": [
      "Repeat \u001b[1m\u001b[34m#1\n",
      "Repeat \u001b[1m\u001b[34m#2\n"
     ]
    },
    {
     "name": "stderr",
     "output_type": "stream",
     "text": [
      "[I 2023-06-29 13:30:12,941] Trial 374 finished with value: 0.19069545920063874 and parameters: {'boosting_type': 'goss', 'learning_rate': 0.04406659617257037, 'reg_alpha': 0.02260436562852315, 'reg_lambda': 8.133112371532901e-08, 'max_depth': 6, 'num_leaves': 37, 'colsample_bytree': 0.5652813524834016, 'min_child_samples': 10, 'max_bin': 40, 'subsample_freq': 3}. Best is trial 137 with value: 0.17512873362467118.\n"
     ]
    },
    {
     "name": "stdout",
     "output_type": "stream",
     "text": [
      "Repeat \u001b[1m\u001b[34m#1\n",
      "Repeat \u001b[1m\u001b[34m#2\n"
     ]
    },
    {
     "name": "stderr",
     "output_type": "stream",
     "text": [
      "[I 2023-06-29 13:30:14,329] Trial 375 finished with value: 0.34616866466321033 and parameters: {'boosting_type': 'goss', 'learning_rate': 0.07697415339006783, 'reg_alpha': 0.008096178399610644, 'reg_lambda': 2.0782706262267315e-07, 'max_depth': 5, 'num_leaves': 35, 'colsample_bytree': 0.5803925940973869, 'min_child_samples': 70, 'max_bin': 53, 'subsample_freq': 4}. Best is trial 137 with value: 0.17512873362467118.\n"
     ]
    },
    {
     "name": "stdout",
     "output_type": "stream",
     "text": [
      "Repeat \u001b[1m\u001b[34m#1\n",
      "Repeat \u001b[1m\u001b[34m#2\n"
     ]
    },
    {
     "name": "stderr",
     "output_type": "stream",
     "text": [
      "[I 2023-06-29 13:30:15,664] Trial 376 finished with value: 0.21245000942202152 and parameters: {'boosting_type': 'goss', 'learning_rate': 0.0622063031548862, 'reg_alpha': 9.625701697073998e-05, 'reg_lambda': 1.114927589720806e-06, 'max_depth': 5, 'num_leaves': 68, 'colsample_bytree': 0.49996827411384637, 'min_child_samples': 27, 'max_bin': 32, 'subsample_freq': 3}. Best is trial 137 with value: 0.17512873362467118.\n"
     ]
    },
    {
     "name": "stdout",
     "output_type": "stream",
     "text": [
      "Repeat \u001b[1m\u001b[34m#1\n",
      "Repeat \u001b[1m\u001b[34m#2\n"
     ]
    },
    {
     "name": "stderr",
     "output_type": "stream",
     "text": [
      "[I 2023-06-29 13:30:20,915] Trial 377 finished with value: 0.18953222612305543 and parameters: {'boosting_type': 'goss', 'learning_rate': 0.012096684493522079, 'reg_alpha': 2.6936670910079877e-05, 'reg_lambda': 4.644872018253736e-05, 'max_depth': 7, 'num_leaves': 45, 'colsample_bytree': 0.4506265583913041, 'min_child_samples': 7, 'max_bin': 48, 'subsample_freq': 3}. Best is trial 137 with value: 0.17512873362467118.\n"
     ]
    },
    {
     "name": "stdout",
     "output_type": "stream",
     "text": [
      "Repeat \u001b[1m\u001b[34m#1\n",
      "Repeat \u001b[1m\u001b[34m#2\n"
     ]
    },
    {
     "name": "stderr",
     "output_type": "stream",
     "text": [
      "[I 2023-06-29 13:30:22,919] Trial 378 finished with value: 0.19255511174068454 and parameters: {'boosting_type': 'goss', 'learning_rate': 0.02967095661659981, 'reg_alpha': 0.011081820700930967, 'reg_lambda': 5.0496084084165235e-08, 'max_depth': 5, 'num_leaves': 61, 'colsample_bytree': 0.5095536607058735, 'min_child_samples': 13, 'max_bin': 58, 'subsample_freq': 3}. Best is trial 137 with value: 0.17512873362467118.\n"
     ]
    },
    {
     "name": "stdout",
     "output_type": "stream",
     "text": [
      "Repeat \u001b[1m\u001b[34m#1\n",
      "Repeat \u001b[1m\u001b[34m#2\n"
     ]
    },
    {
     "name": "stderr",
     "output_type": "stream",
     "text": [
      "[I 2023-06-29 13:30:24,817] Trial 379 finished with value: 0.19707658511670229 and parameters: {'boosting_type': 'goss', 'learning_rate': 0.034627487195002034, 'reg_alpha': 5.6190510145768466e-05, 'reg_lambda': 0.0013672602681074663, 'max_depth': 6, 'num_leaves': 100, 'colsample_bytree': 0.6188862427495555, 'min_child_samples': 9, 'max_bin': 43, 'subsample_freq': 3}. Best is trial 137 with value: 0.17512873362467118.\n"
     ]
    },
    {
     "name": "stdout",
     "output_type": "stream",
     "text": [
      "Repeat \u001b[1m\u001b[34m#1\n",
      "Repeat \u001b[1m\u001b[34m#2\n"
     ]
    },
    {
     "name": "stderr",
     "output_type": "stream",
     "text": [
      "[I 2023-06-29 13:30:27,740] Trial 380 finished with value: 0.18891477860838507 and parameters: {'boosting_type': 'goss', 'learning_rate': 0.019563882317657624, 'reg_alpha': 0.05128769258737411, 'reg_lambda': 2.9166295186069338e-08, 'max_depth': 5, 'num_leaves': 42, 'colsample_bytree': 0.48008276544347445, 'min_child_samples': 11, 'max_bin': 65, 'subsample_freq': 4}. Best is trial 137 with value: 0.17512873362467118.\n"
     ]
    },
    {
     "name": "stdout",
     "output_type": "stream",
     "text": [
      "Repeat \u001b[1m\u001b[34m#1\n",
      "Repeat \u001b[1m\u001b[34m#2\n"
     ]
    },
    {
     "name": "stderr",
     "output_type": "stream",
     "text": [
      "[I 2023-06-29 13:30:29,118] Trial 381 finished with value: 0.18977905149128751 and parameters: {'boosting_type': 'goss', 'learning_rate': 0.05287953264278811, 'reg_alpha': 0.029805967208934803, 'reg_lambda': 1.8371018732387535e-06, 'max_depth': 5, 'num_leaves': 56, 'colsample_bytree': 0.6410319108640371, 'min_child_samples': 6, 'max_bin': 37, 'subsample_freq': 3}. Best is trial 137 with value: 0.17512873362467118.\n"
     ]
    },
    {
     "name": "stdout",
     "output_type": "stream",
     "text": [
      "Repeat \u001b[1m\u001b[34m#1\n",
      "Repeat \u001b[1m\u001b[34m#2\n"
     ]
    },
    {
     "name": "stderr",
     "output_type": "stream",
     "text": [
      "[I 2023-06-29 13:30:30,464] Trial 382 finished with value: 0.19253871274592244 and parameters: {'boosting_type': 'goss', 'learning_rate': 0.0701479051514067, 'reg_alpha': 4.711273747690638e-06, 'reg_lambda': 1.4050566903008785e-07, 'max_depth': 5, 'num_leaves': 33, 'colsample_bytree': 0.5167576398378965, 'min_child_samples': 14, 'max_bin': 50, 'subsample_freq': 1}. Best is trial 137 with value: 0.17512873362467118.\n"
     ]
    },
    {
     "name": "stdout",
     "output_type": "stream",
     "text": [
      "Repeat \u001b[1m\u001b[34m#1\n",
      "Repeat \u001b[1m\u001b[34m#2\n"
     ]
    },
    {
     "name": "stderr",
     "output_type": "stream",
     "text": [
      "[I 2023-06-29 13:30:32,255] Trial 383 finished with value: 0.18644044497268827 and parameters: {'boosting_type': 'goss', 'learning_rate': 0.04000728321789737, 'reg_alpha': 1.8002290597789824e-05, 'reg_lambda': 6.946903929545451e-08, 'max_depth': 5, 'num_leaves': 51, 'colsample_bytree': 0.49071350306642353, 'min_child_samples': 9, 'max_bin': 41, 'subsample_freq': 3}. Best is trial 137 with value: 0.17512873362467118.\n"
     ]
    },
    {
     "name": "stdout",
     "output_type": "stream",
     "text": [
      "Repeat \u001b[1m\u001b[34m#1\n",
      "Repeat \u001b[1m\u001b[34m#2\n"
     ]
    },
    {
     "name": "stderr",
     "output_type": "stream",
     "text": [
      "[I 2023-06-29 13:30:33,604] Trial 384 finished with value: 0.19735750197896998 and parameters: {'boosting_type': 'goss', 'learning_rate': 0.06000807431006753, 'reg_alpha': 0.10441263885777692, 'reg_lambda': 1.8095332918418112e-08, 'max_depth': 8, 'num_leaves': 28, 'colsample_bytree': 0.5884943976843121, 'min_child_samples': 12, 'max_bin': 55, 'subsample_freq': 5}. Best is trial 137 with value: 0.17512873362467118.\n"
     ]
    },
    {
     "name": "stdout",
     "output_type": "stream",
     "text": [
      "Repeat \u001b[1m\u001b[34m#1\n",
      "Repeat \u001b[1m\u001b[34m#2\n"
     ]
    },
    {
     "name": "stderr",
     "output_type": "stream",
     "text": [
      "[I 2023-06-29 13:30:35,297] Trial 385 finished with value: 0.1932549224965546 and parameters: {'boosting_type': 'goss', 'learning_rate': 0.04935928488814153, 'reg_alpha': 0.00030265124841388476, 'reg_lambda': 0.00017394836307847963, 'max_depth': 5, 'num_leaves': 40, 'colsample_bytree': 0.5282193360573018, 'min_child_samples': 11, 'max_bin': 81, 'subsample_freq': 3}. Best is trial 137 with value: 0.17512873362467118.\n"
     ]
    },
    {
     "name": "stdout",
     "output_type": "stream",
     "text": [
      "Repeat \u001b[1m\u001b[34m#1\n",
      "Repeat \u001b[1m\u001b[34m#2\n"
     ]
    },
    {
     "name": "stderr",
     "output_type": "stream",
     "text": [
      "[I 2023-06-29 13:30:36,493] Trial 386 finished with value: 0.18645039277116537 and parameters: {'boosting_type': 'goss', 'learning_rate': 0.08591305486910665, 'reg_alpha': 0.00014133627330601984, 'reg_lambda': 9.664818681149897e-05, 'max_depth': 6, 'num_leaves': 48, 'colsample_bytree': 0.4967498952222267, 'min_child_samples': 8, 'max_bin': 47, 'subsample_freq': 2}. Best is trial 137 with value: 0.17512873362467118.\n"
     ]
    },
    {
     "name": "stdout",
     "output_type": "stream",
     "text": [
      "Repeat \u001b[1m\u001b[34m#1\n",
      "Repeat \u001b[1m\u001b[34m#2\n"
     ]
    },
    {
     "name": "stderr",
     "output_type": "stream",
     "text": [
      "[I 2023-06-29 13:30:39,720] Trial 387 finished with value: 0.19137289019508386 and parameters: {'boosting_type': 'goss', 'learning_rate': 0.017877751604811098, 'reg_alpha': 0.16786170393622735, 'reg_lambda': 4.0566542941230525e-07, 'max_depth': 5, 'num_leaves': 30, 'colsample_bytree': 0.5549522934136263, 'min_child_samples': 16, 'max_bin': 37, 'subsample_freq': 3}. Best is trial 137 with value: 0.17512873362467118.\n"
     ]
    },
    {
     "name": "stdout",
     "output_type": "stream",
     "text": [
      "Repeat \u001b[1m\u001b[34m#1\n",
      "Repeat \u001b[1m\u001b[34m#2\n"
     ]
    },
    {
     "name": "stderr",
     "output_type": "stream",
     "text": [
      "[I 2023-06-29 13:30:41,508] Trial 388 finished with value: 0.20210708394597987 and parameters: {'boosting_type': 'goss', 'learning_rate': 0.042457750183791866, 'reg_alpha': 0.01430929102592269, 'reg_lambda': 3.2711390773084814e-06, 'max_depth': 6, 'num_leaves': 53, 'colsample_bytree': 0.4764628814984798, 'min_child_samples': 5, 'max_bin': 43, 'subsample_freq': 3}. Best is trial 137 with value: 0.17512873362467118.\n"
     ]
    },
    {
     "name": "stdout",
     "output_type": "stream",
     "text": [
      "Repeat \u001b[1m\u001b[34m#1\n",
      "Repeat \u001b[1m\u001b[34m#2\n"
     ]
    },
    {
     "name": "stderr",
     "output_type": "stream",
     "text": [
      "[I 2023-06-29 13:30:43,817] Trial 389 finished with value: 0.19956606325336712 and parameters: {'boosting_type': 'goss', 'learning_rate': 0.027746659499083726, 'reg_alpha': 8.12160393134275e-06, 'reg_lambda': 2.9997239374458404e-08, 'max_depth': 5, 'num_leaves': 107, 'colsample_bytree': 0.50349482326171, 'min_child_samples': 23, 'max_bin': 51, 'subsample_freq': 4}. Best is trial 137 with value: 0.17512873362467118.\n"
     ]
    },
    {
     "name": "stdout",
     "output_type": "stream",
     "text": [
      "Repeat \u001b[1m\u001b[34m#1\n",
      "Repeat \u001b[1m\u001b[34m#2\n"
     ]
    },
    {
     "name": "stderr",
     "output_type": "stream",
     "text": [
      "[I 2023-06-29 13:30:45,107] Trial 390 finished with value: 0.18948143923525357 and parameters: {'boosting_type': 'goss', 'learning_rate': 0.06478331831647707, 'reg_alpha': 3.740768816112722e-05, 'reg_lambda': 4.748081563402582e-08, 'max_depth': 5, 'num_leaves': 59, 'colsample_bytree': 0.48522822812809174, 'min_child_samples': 10, 'max_bin': 40, 'subsample_freq': 3}. Best is trial 137 with value: 0.17512873362467118.\n"
     ]
    },
    {
     "name": "stdout",
     "output_type": "stream",
     "text": [
      "Repeat \u001b[1m\u001b[34m#1\n",
      "Repeat \u001b[1m\u001b[34m#2\n"
     ]
    },
    {
     "name": "stderr",
     "output_type": "stream",
     "text": [
      "[I 2023-06-29 13:30:46,459] Trial 391 finished with value: 0.19435385295015556 and parameters: {'boosting_type': 'goss', 'learning_rate': 0.0560333982204727, 'reg_alpha': 0.02253230446129093, 'reg_lambda': 1.1508214920668163e-07, 'max_depth': 6, 'num_leaves': 65, 'colsample_bytree': 0.695360245501135, 'min_child_samples': 13, 'max_bin': 32, 'subsample_freq': 5}. Best is trial 137 with value: 0.17512873362467118.\n"
     ]
    },
    {
     "name": "stdout",
     "output_type": "stream",
     "text": [
      "Repeat \u001b[1m\u001b[34m#1\n",
      "Repeat \u001b[1m\u001b[34m#2\n"
     ]
    },
    {
     "name": "stderr",
     "output_type": "stream",
     "text": [
      "[I 2023-06-29 13:30:48,382] Trial 392 finished with value: 0.19054611075535866 and parameters: {'boosting_type': 'goss', 'learning_rate': 0.03576359458558589, 'reg_alpha': 1.2144754162934028e-05, 'reg_lambda': 0.015475197581865137, 'max_depth': 5, 'num_leaves': 36, 'colsample_bytree': 0.6069646292153431, 'min_child_samples': 7, 'max_bin': 46, 'subsample_freq': 6}. Best is trial 137 with value: 0.17512873362467118.\n"
     ]
    },
    {
     "name": "stdout",
     "output_type": "stream",
     "text": [
      "Repeat \u001b[1m\u001b[34m#1\n",
      "Repeat \u001b[1m\u001b[34m#2\n"
     ]
    },
    {
     "name": "stderr",
     "output_type": "stream",
     "text": [
      "[I 2023-06-29 13:30:49,528] Trial 393 finished with value: 0.19398944379715383 and parameters: {'boosting_type': 'goss', 'learning_rate': 0.07697482262358875, 'reg_alpha': 0.03782847187950226, 'reg_lambda': 1.887516418168031e-08, 'max_depth': 5, 'num_leaves': 45, 'colsample_bytree': 0.4684154735811817, 'min_child_samples': 9, 'max_bin': 155, 'subsample_freq': 3}. Best is trial 137 with value: 0.17512873362467118.\n"
     ]
    },
    {
     "name": "stdout",
     "output_type": "stream",
     "text": [
      "Repeat \u001b[1m\u001b[34m#1\n",
      "Repeat \u001b[1m\u001b[34m#2\n"
     ]
    },
    {
     "name": "stderr",
     "output_type": "stream",
     "text": [
      "[I 2023-06-29 13:30:51,633] Trial 394 finished with value: 0.19370479405068997 and parameters: {'boosting_type': 'goss', 'learning_rate': 0.03240242321615739, 'reg_alpha': 0.0008022027688949115, 'reg_lambda': 2.3525981708596238e-07, 'max_depth': 5, 'num_leaves': 62, 'colsample_bytree': 0.5165639204010727, 'min_child_samples': 11, 'max_bin': 56, 'subsample_freq': 3}. Best is trial 137 with value: 0.17512873362467118.\n"
     ]
    },
    {
     "name": "stdout",
     "output_type": "stream",
     "text": [
      "Repeat \u001b[1m\u001b[34m#1\n",
      "Repeat \u001b[1m\u001b[34m#2\n"
     ]
    },
    {
     "name": "stderr",
     "output_type": "stream",
     "text": [
      "[I 2023-06-29 13:30:53,348] Trial 395 finished with value: 0.19295718463074615 and parameters: {'boosting_type': 'goss', 'learning_rate': 0.04718178230342366, 'reg_alpha': 0.004795263278148378, 'reg_lambda': 6.572595476697797e-08, 'max_depth': 6, 'num_leaves': 57, 'colsample_bytree': 0.5355951569604755, 'min_child_samples': 14, 'max_bin': 44, 'subsample_freq': 5}. Best is trial 137 with value: 0.17512873362467118.\n"
     ]
    },
    {
     "name": "stdout",
     "output_type": "stream",
     "text": [
      "Repeat \u001b[1m\u001b[34m#1\n",
      "Repeat \u001b[1m\u001b[34m#2\n"
     ]
    },
    {
     "name": "stderr",
     "output_type": "stream",
     "text": [
      "[I 2023-06-29 13:30:54,656] Trial 396 finished with value: 0.20544340598912164 and parameters: {'boosting_type': 'goss', 'learning_rate': 0.06791490426750435, 'reg_alpha': 7.745224391621657e-05, 'reg_lambda': 6.915116596512191e-07, 'max_depth': 5, 'num_leaves': 32, 'colsample_bytree': 0.6317960536047036, 'min_child_samples': 8, 'max_bin': 37, 'subsample_freq': 6}. Best is trial 137 with value: 0.17512873362467118.\n"
     ]
    },
    {
     "name": "stdout",
     "output_type": "stream",
     "text": [
      "Repeat \u001b[1m\u001b[34m#1\n",
      "Repeat \u001b[1m\u001b[34m#2\n"
     ]
    },
    {
     "name": "stderr",
     "output_type": "stream",
     "text": [
      "[I 2023-06-29 13:30:55,990] Trial 397 finished with value: 0.19210272881587787 and parameters: {'boosting_type': 'goss', 'learning_rate': 0.059519151902223864, 'reg_alpha': 0.0017057227886305571, 'reg_lambda': 3.997442793706044e-08, 'max_depth': 5, 'num_leaves': 38, 'colsample_bytree': 0.59295358631815, 'min_child_samples': 12, 'max_bin': 61, 'subsample_freq': 4}. Best is trial 137 with value: 0.17512873362467118.\n"
     ]
    },
    {
     "name": "stdout",
     "output_type": "stream",
     "text": [
      "Repeat \u001b[1m\u001b[34m#1\n",
      "Repeat \u001b[1m\u001b[34m#2\n"
     ]
    },
    {
     "name": "stderr",
     "output_type": "stream",
     "text": [
      "[I 2023-06-29 13:30:58,570] Trial 398 finished with value: 0.1897081833773695 and parameters: {'boosting_type': 'goss', 'learning_rate': 0.023638540407600574, 'reg_alpha': 2.4261518209186008e-06, 'reg_lambda': 9.227217593567004e-08, 'max_depth': 5, 'num_leaves': 44, 'colsample_bytree': 0.5790470888902837, 'min_child_samples': 6, 'max_bin': 51, 'subsample_freq': 3}. Best is trial 137 with value: 0.17512873362467118.\n"
     ]
    },
    {
     "name": "stdout",
     "output_type": "stream",
     "text": [
      "Repeat \u001b[1m\u001b[34m#1\n",
      "Repeat \u001b[1m\u001b[34m#2\n"
     ]
    },
    {
     "name": "stderr",
     "output_type": "stream",
     "text": [
      "[I 2023-06-29 13:31:00,235] Trial 399 finished with value: 0.1958159002124844 and parameters: {'boosting_type': 'goss', 'learning_rate': 0.039092654891174854, 'reg_alpha': 0.00020050156161410658, 'reg_lambda': 1.826453943359254e-07, 'max_depth': 6, 'num_leaves': 34, 'colsample_bytree': 0.4905894936999526, 'min_child_samples': 17, 'max_bin': 41, 'subsample_freq': 3}. Best is trial 137 with value: 0.17512873362467118.\n"
     ]
    },
    {
     "name": "stdout",
     "output_type": "stream",
     "text": [
      "Repeat \u001b[1m\u001b[34m#1\n",
      "Repeat \u001b[1m\u001b[34m#2\n"
     ]
    },
    {
     "name": "stderr",
     "output_type": "stream",
     "text": [
      "[I 2023-06-29 13:31:01,724] Trial 400 finished with value: 0.1933325373278086 and parameters: {'boosting_type': 'goss', 'learning_rate': 0.05329678726002484, 'reg_alpha': 0.0005024165759334774, 'reg_lambda': 0.0006675320895908322, 'max_depth': 5, 'num_leaves': 49, 'colsample_bytree': 0.5663138845896056, 'min_child_samples': 10, 'max_bin': 46, 'subsample_freq': 3}. Best is trial 137 with value: 0.17512873362467118.\n"
     ]
    },
    {
     "name": "stdout",
     "output_type": "stream",
     "text": [
      "Repeat \u001b[1m\u001b[34m#1\n",
      "Repeat \u001b[1m\u001b[34m#2\n"
     ]
    },
    {
     "name": "stderr",
     "output_type": "stream",
     "text": [
      "[I 2023-06-29 13:31:07,470] Trial 401 finished with value: 0.19811494038520733 and parameters: {'boosting_type': 'goss', 'learning_rate': 0.008574083886667026, 'reg_alpha': 2.1922655446813627e-05, 'reg_lambda': 2.6081070594488353e-08, 'max_depth': 5, 'num_leaves': 41, 'colsample_bytree': 0.5466584209960043, 'min_child_samples': 15, 'max_bin': 219, 'subsample_freq': 5}. Best is trial 137 with value: 0.17512873362467118.\n"
     ]
    },
    {
     "name": "stdout",
     "output_type": "stream",
     "text": [
      "Repeat \u001b[1m\u001b[34m#1\n",
      "Repeat \u001b[1m\u001b[34m#2\n"
     ]
    },
    {
     "name": "stderr",
     "output_type": "stream",
     "text": [
      "[I 2023-06-29 13:31:08,692] Trial 402 finished with value: 0.18948934874370582 and parameters: {'boosting_type': 'goss', 'learning_rate': 0.08316999337274665, 'reg_alpha': 0.009367051214139763, 'reg_lambda': 1.8690085131223686, 'max_depth': 5, 'num_leaves': 55, 'colsample_bytree': 0.5257396950984526, 'min_child_samples': 12, 'max_bin': 36, 'subsample_freq': 7}. Best is trial 137 with value: 0.17512873362467118.\n"
     ]
    },
    {
     "name": "stdout",
     "output_type": "stream",
     "text": [
      "Repeat \u001b[1m\u001b[34m#1\n",
      "Repeat \u001b[1m\u001b[34m#2\n"
     ]
    },
    {
     "name": "stderr",
     "output_type": "stream",
     "text": [
      "[I 2023-06-29 13:31:12,580] Trial 403 finished with value: 0.19016866844190383 and parameters: {'boosting_type': 'goss', 'learning_rate': 0.011509425743339746, 'reg_alpha': 4.854891734740616e-05, 'reg_lambda': 1.6356543738160562e-08, 'max_depth': 7, 'num_leaves': 28, 'colsample_bytree': 0.5079796988709007, 'min_child_samples': 9, 'max_bin': 53, 'subsample_freq': 3}. Best is trial 137 with value: 0.17512873362467118.\n"
     ]
    },
    {
     "name": "stdout",
     "output_type": "stream",
     "text": [
      "Repeat \u001b[1m\u001b[34m#1\n",
      "Repeat \u001b[1m\u001b[34m#2\n"
     ]
    },
    {
     "name": "stderr",
     "output_type": "stream",
     "text": [
      "[I 2023-06-29 13:31:13,683] Trial 404 finished with value: 0.2034078687743176 and parameters: {'boosting_type': 'goss', 'learning_rate': 0.07271808224133586, 'reg_alpha': 0.05878944877023455, 'reg_lambda': 5.233533380430991e-08, 'max_depth': 6, 'num_leaves': 125, 'colsample_bytree': 0.499433503217694, 'min_child_samples': 7, 'max_bin': 68, 'subsample_freq': 6}. Best is trial 137 with value: 0.17512873362467118.\n"
     ]
    },
    {
     "name": "stdout",
     "output_type": "stream",
     "text": [
      "Repeat \u001b[1m\u001b[34m#1\n",
      "Repeat \u001b[1m\u001b[34m#2\n"
     ]
    },
    {
     "name": "stderr",
     "output_type": "stream",
     "text": [
      "[I 2023-06-29 13:31:15,759] Trial 405 finished with value: 0.19237943885492792 and parameters: {'boosting_type': 'goss', 'learning_rate': 0.02581759441619138, 'reg_alpha': 1.047764660343277e-06, 'reg_lambda': 1.4516444420996034e-07, 'max_depth': 5, 'num_leaves': 60, 'colsample_bytree': 0.646135377405952, 'min_child_samples': 11, 'max_bin': 43, 'subsample_freq': 3}. Best is trial 137 with value: 0.17512873362467118.\n"
     ]
    },
    {
     "name": "stdout",
     "output_type": "stream",
     "text": [
      "Repeat \u001b[1m\u001b[34m#1\n",
      "Repeat \u001b[1m\u001b[34m#2\n"
     ]
    },
    {
     "name": "stderr",
     "output_type": "stream",
     "text": [
      "[I 2023-06-29 13:31:17,143] Trial 406 finished with value: 0.19277705285430638 and parameters: {'boosting_type': 'goss', 'learning_rate': 0.04518860347970458, 'reg_alpha': 0.017704980220530016, 'reg_lambda': 1.0043866502006933e-07, 'max_depth': 5, 'num_leaves': 24, 'colsample_bytree': 0.4757117530519335, 'min_child_samples': 14, 'max_bin': 48, 'subsample_freq': 3}. Best is trial 137 with value: 0.17512873362467118.\n"
     ]
    },
    {
     "name": "stdout",
     "output_type": "stream",
     "text": [
      "Repeat \u001b[1m\u001b[34m#1\n",
      "Repeat \u001b[1m\u001b[34m#2\n"
     ]
    },
    {
     "name": "stderr",
     "output_type": "stream",
     "text": [
      "[I 2023-06-29 13:31:25,574] Trial 407 finished with value: 0.18985689024547747 and parameters: {'boosting_type': 'goss', 'learning_rate': 0.004859357266906153, 'reg_alpha': 2.9732103349198912e-05, 'reg_lambda': 4.3568539039235917e-07, 'max_depth': 6, 'num_leaves': 30, 'colsample_bytree': 0.5987818161444526, 'min_child_samples': 9, 'max_bin': 39, 'subsample_freq': 4}. Best is trial 137 with value: 0.17512873362467118.\n"
     ]
    },
    {
     "name": "stdout",
     "output_type": "stream",
     "text": [
      "Repeat \u001b[1m\u001b[34m#1\n",
      "Repeat \u001b[1m\u001b[34m#2\n"
     ]
    },
    {
     "name": "stderr",
     "output_type": "stream",
     "text": [
      "[I 2023-06-29 13:31:26,912] Trial 408 finished with value: 0.20176798367079748 and parameters: {'boosting_type': 'goss', 'learning_rate': 0.05070219377770871, 'reg_alpha': 6.519709002936391e-08, 'reg_lambda': 6.6891011280494175e-06, 'max_depth': 5, 'num_leaves': 42, 'colsample_bytree': 0.5570209000283138, 'min_child_samples': 5, 'max_bin': 35, 'subsample_freq': 3}. Best is trial 137 with value: 0.17512873362467118.\n"
     ]
    },
    {
     "name": "stdout",
     "output_type": "stream",
     "text": [
      "Repeat \u001b[1m\u001b[34m#1\n",
      "Repeat \u001b[1m\u001b[34m#2\n"
     ]
    },
    {
     "name": "stderr",
     "output_type": "stream",
     "text": [
      "[I 2023-06-29 13:31:29,559] Trial 409 finished with value: 0.19174145295886902 and parameters: {'boosting_type': 'goss', 'learning_rate': 0.01732868464150053, 'reg_alpha': 0.006332449445613484, 'reg_lambda': 2.8158304444623188e-05, 'max_depth': 5, 'num_leaves': 47, 'colsample_bytree': 0.6254925425301944, 'min_child_samples': 12, 'max_bin': 59, 'subsample_freq': 5}. Best is trial 137 with value: 0.17512873362467118.\n"
     ]
    },
    {
     "name": "stdout",
     "output_type": "stream",
     "text": [
      "Repeat \u001b[1m\u001b[34m#1\n",
      "Repeat \u001b[1m\u001b[34m#2\n"
     ]
    },
    {
     "name": "stderr",
     "output_type": "stream",
     "text": [
      "[I 2023-06-29 13:31:30,662] Trial 410 finished with value: 0.21261219977453416 and parameters: {'boosting_type': 'goss', 'learning_rate': 0.06302089408060452, 'reg_alpha': 1.5254868947141341e-05, 'reg_lambda': 3.787883790905744e-08, 'max_depth': 6, 'num_leaves': 66, 'colsample_bytree': 0.48553410290881277, 'min_child_samples': 31, 'max_bin': 50, 'subsample_freq': 3}. Best is trial 137 with value: 0.17512873362467118.\n"
     ]
    },
    {
     "name": "stdout",
     "output_type": "stream",
     "text": [
      "Repeat \u001b[1m\u001b[34m#1\n",
      "Repeat \u001b[1m\u001b[34m#2\n"
     ]
    },
    {
     "name": "stderr",
     "output_type": "stream",
     "text": [
      "[I 2023-06-29 13:31:33,076] Trial 411 finished with value: 0.20597750474580287 and parameters: {'boosting_type': 'goss', 'learning_rate': 0.03195675470401687, 'reg_alpha': 6.126420310811754, 'reg_lambda': 6.856294755389215e-08, 'max_depth': 5, 'num_leaves': 39, 'colsample_bytree': 0.614091051081855, 'min_child_samples': 8, 'max_bin': 44, 'subsample_freq': 6}. Best is trial 137 with value: 0.17512873362467118.\n"
     ]
    },
    {
     "name": "stdout",
     "output_type": "stream",
     "text": [
      "Repeat \u001b[1m\u001b[34m#1\n",
      "Repeat \u001b[1m\u001b[34m#2\n"
     ]
    },
    {
     "name": "stderr",
     "output_type": "stream",
     "text": [
      "[I 2023-06-29 13:31:34,213] Trial 412 finished with value: 0.18976062202478788 and parameters: {'boosting_type': 'goss', 'learning_rate': 0.05737471777399796, 'reg_alpha': 0.012148824174876754, 'reg_lambda': 2.8007488962555076e-07, 'max_depth': 5, 'num_leaves': 51, 'colsample_bytree': 0.5382404782050538, 'min_child_samples': 10, 'max_bin': 55, 'subsample_freq': 3}. Best is trial 137 with value: 0.17512873362467118.\n"
     ]
    },
    {
     "name": "stdout",
     "output_type": "stream",
     "text": [
      "Repeat \u001b[1m\u001b[34m#1\n",
      "Repeat \u001b[1m\u001b[34m#2\n"
     ]
    },
    {
     "name": "stderr",
     "output_type": "stream",
     "text": [
      "[I 2023-06-29 13:31:37,636] Trial 413 finished with value: 0.19579213482323388 and parameters: {'boosting_type': 'goss', 'learning_rate': 0.01467041283508698, 'reg_alpha': 0.0001379211255591316, 'reg_lambda': 2.239411629295424e-08, 'max_depth': 6, 'num_leaves': 63, 'colsample_bytree': 0.5192515287752231, 'min_child_samples': 13, 'max_bin': 64, 'subsample_freq': 3}. Best is trial 137 with value: 0.17512873362467118.\n"
     ]
    },
    {
     "name": "stdout",
     "output_type": "stream",
     "text": [
      "Repeat \u001b[1m\u001b[34m#1\n",
      "Repeat \u001b[1m\u001b[34m#2\n"
     ]
    },
    {
     "name": "stderr",
     "output_type": "stream",
     "text": [
      "[I 2023-06-29 13:31:39,071] Trial 414 finished with value: 0.19837240381591834 and parameters: {'boosting_type': 'goss', 'learning_rate': 0.04198889243618371, 'reg_alpha': 0.029898519826758813, 'reg_lambda': 1.3028208777660501e-06, 'max_depth': 5, 'num_leaves': 54, 'colsample_bytree': 0.5841839534199637, 'min_child_samples': 7, 'max_bin': 72, 'subsample_freq': 5}. Best is trial 137 with value: 0.17512873362467118.\n"
     ]
    },
    {
     "name": "stdout",
     "output_type": "stream",
     "text": [
      "Repeat \u001b[1m\u001b[34m#1\n",
      "Repeat \u001b[1m\u001b[34m#2\n"
     ]
    },
    {
     "name": "stderr",
     "output_type": "stream",
     "text": [
      "[I 2023-06-29 13:31:40,758] Trial 415 finished with value: 0.18400184032585248 and parameters: {'boosting_type': 'goss', 'learning_rate': 0.03635661688309271, 'reg_alpha': 6.022183292736124e-06, 'reg_lambda': 3.360702504461935e-08, 'max_depth': 5, 'num_leaves': 26, 'colsample_bytree': 0.4950436580821556, 'min_child_samples': 11, 'max_bin': 41, 'subsample_freq': 3}. Best is trial 137 with value: 0.17512873362467118.\n"
     ]
    },
    {
     "name": "stdout",
     "output_type": "stream",
     "text": [
      "Repeat \u001b[1m\u001b[34m#1\n",
      "Repeat \u001b[1m\u001b[34m#2\n"
     ]
    },
    {
     "name": "stderr",
     "output_type": "stream",
     "text": [
      "[I 2023-06-29 13:31:42,613] Trial 416 finished with value: 0.21595039838053853 and parameters: {'boosting_type': 'goss', 'learning_rate': 0.03422401858339154, 'reg_alpha': 5.727354385941919e-06, 'reg_lambda': 1.4177871958611525e-08, 'max_depth': 5, 'num_leaves': 27, 'colsample_bytree': 0.6611093106901768, 'min_child_samples': 34, 'max_bin': 39, 'subsample_freq': 6}. Best is trial 137 with value: 0.17512873362467118.\n"
     ]
    },
    {
     "name": "stdout",
     "output_type": "stream",
     "text": [
      "Repeat \u001b[1m\u001b[34m#1\n",
      "Repeat \u001b[1m\u001b[34m#2\n"
     ]
    },
    {
     "name": "stderr",
     "output_type": "stream",
     "text": [
      "[I 2023-06-29 13:31:44,140] Trial 417 finished with value: 0.19170637243828886 and parameters: {'boosting_type': 'goss', 'learning_rate': 0.03664828779945672, 'reg_alpha': 1.1431477681870724e-08, 'reg_lambda': 2.752971871616369e-08, 'max_depth': 5, 'num_leaves': 27, 'colsample_bytree': 0.6746498885555204, 'min_child_samples': 16, 'max_bin': 35, 'subsample_freq': 4}. Best is trial 137 with value: 0.17512873362467118.\n"
     ]
    },
    {
     "name": "stdout",
     "output_type": "stream",
     "text": [
      "Repeat \u001b[1m\u001b[34m#1\n",
      "Repeat \u001b[1m\u001b[34m#2\n"
     ]
    },
    {
     "name": "stderr",
     "output_type": "stream",
     "text": [
      "[I 2023-06-29 13:31:45,876] Trial 418 finished with value: 0.19307932600688665 and parameters: {'boosting_type': 'goss', 'learning_rate': 0.03013103879642401, 'reg_alpha': 7.681522715770102e-06, 'reg_lambda': 3.709253251628629e-08, 'max_depth': 6, 'num_leaves': 23, 'colsample_bytree': 0.5721919410382394, 'min_child_samples': 19, 'max_bin': 41, 'subsample_freq': 3}. Best is trial 137 with value: 0.17512873362467118.\n"
     ]
    },
    {
     "name": "stdout",
     "output_type": "stream",
     "text": [
      "Repeat \u001b[1m\u001b[34m#1\n",
      "Repeat \u001b[1m\u001b[34m#2\n"
     ]
    },
    {
     "name": "stderr",
     "output_type": "stream",
     "text": [
      "[I 2023-06-29 13:31:47,539] Trial 419 finished with value: 0.19153115750540387 and parameters: {'boosting_type': 'goss', 'learning_rate': 0.03824434292705781, 'reg_alpha': 2.7658697135860983e-06, 'reg_lambda': 0.00011971847636286443, 'max_depth': 5, 'num_leaves': 20, 'colsample_bytree': 0.49257329786459525, 'min_child_samples': 11, 'max_bin': 32, 'subsample_freq': 3}. Best is trial 137 with value: 0.17512873362467118.\n"
     ]
    },
    {
     "name": "stdout",
     "output_type": "stream",
     "text": [
      "Repeat \u001b[1m\u001b[34m#1\n",
      "Repeat \u001b[1m\u001b[34m#2\n"
     ]
    },
    {
     "name": "stderr",
     "output_type": "stream",
     "text": [
      "[I 2023-06-29 13:31:49,066] Trial 420 finished with value: 0.18497364061339566 and parameters: {'boosting_type': 'goss', 'learning_rate': 0.043266428050770536, 'reg_alpha': 9.701971576619682e-06, 'reg_lambda': 1.8755926101110504e-08, 'max_depth': 7, 'num_leaves': 29, 'colsample_bytree': 0.4655903468902499, 'min_child_samples': 14, 'max_bin': 44, 'subsample_freq': 6}. Best is trial 137 with value: 0.17512873362467118.\n"
     ]
    },
    {
     "name": "stdout",
     "output_type": "stream",
     "text": [
      "Repeat \u001b[1m\u001b[34m#1\n",
      "Repeat \u001b[1m\u001b[34m#2\n"
     ]
    },
    {
     "name": "stderr",
     "output_type": "stream",
     "text": [
      "[I 2023-06-29 13:31:50,478] Trial 421 finished with value: 0.19616154037868241 and parameters: {'boosting_type': 'goss', 'learning_rate': 0.04349533543441457, 'reg_alpha': 9.785941399605016e-06, 'reg_lambda': 1.4287025461150118e-08, 'max_depth': 6, 'num_leaves': 25, 'colsample_bytree': 0.4618625035266034, 'min_child_samples': 17, 'max_bin': 47, 'subsample_freq': 6}. Best is trial 137 with value: 0.17512873362467118.\n"
     ]
    },
    {
     "name": "stdout",
     "output_type": "stream",
     "text": [
      "Repeat \u001b[1m\u001b[34m#1\n",
      "Repeat \u001b[1m\u001b[34m#2\n"
     ]
    },
    {
     "name": "stderr",
     "output_type": "stream",
     "text": [
      "[I 2023-06-29 13:31:52,052] Trial 422 finished with value: 0.1950253535305555 and parameters: {'boosting_type': 'goss', 'learning_rate': 0.04069688956361552, 'reg_alpha': 2.2683665981396714e-08, 'reg_lambda': 9.010985104382624e-06, 'max_depth': 7, 'num_leaves': 30, 'colsample_bytree': 0.4490832925082446, 'min_child_samples': 15, 'max_bin': 52, 'subsample_freq': 6}. Best is trial 137 with value: 0.17512873362467118.\n"
     ]
    },
    {
     "name": "stdout",
     "output_type": "stream",
     "text": [
      "Repeat \u001b[1m\u001b[34m#1\n",
      "Repeat \u001b[1m\u001b[34m#2\n"
     ]
    },
    {
     "name": "stderr",
     "output_type": "stream",
     "text": [
      "[I 2023-06-29 13:31:53,715] Trial 423 finished with value: 0.19369112512905629 and parameters: {'boosting_type': 'goss', 'learning_rate': 0.03751887938667255, 'reg_alpha': 1.7011546687236232e-05, 'reg_lambda': 5.4392205689972774e-08, 'max_depth': 7, 'num_leaves': 32, 'colsample_bytree': 0.4682407694840287, 'min_child_samples': 14, 'max_bin': 45, 'subsample_freq': 6}. Best is trial 137 with value: 0.17512873362467118.\n"
     ]
    },
    {
     "name": "stdout",
     "output_type": "stream",
     "text": [
      "Repeat \u001b[1m\u001b[34m#1\n",
      "Repeat \u001b[1m\u001b[34m#2\n"
     ]
    },
    {
     "name": "stderr",
     "output_type": "stream",
     "text": [
      "[I 2023-06-29 13:31:56,138] Trial 424 finished with value: 0.19033577465892312 and parameters: {'boosting_type': 'goss', 'learning_rate': 0.021794234928393833, 'reg_alpha': 7.940862033320692e-06, 'reg_lambda': 2.956459149719958e-08, 'max_depth': 6, 'num_leaves': 29, 'colsample_bytree': 0.47925255370582015, 'min_child_samples': 13, 'max_bin': 41, 'subsample_freq': 6}. Best is trial 137 with value: 0.17512873362467118.\n"
     ]
    },
    {
     "name": "stdout",
     "output_type": "stream",
     "text": [
      "Repeat \u001b[1m\u001b[34m#1\n",
      "Repeat \u001b[1m\u001b[34m#2\n"
     ]
    },
    {
     "name": "stderr",
     "output_type": "stream",
     "text": [
      "[I 2023-06-29 13:31:57,496] Trial 425 finished with value: 0.1908472465447455 and parameters: {'boosting_type': 'goss', 'learning_rate': 0.04552295693384541, 'reg_alpha': 3.830125117322328e-06, 'reg_lambda': 2.993750199186414e-06, 'max_depth': 7, 'num_leaves': 26, 'colsample_bytree': 0.47167686087586913, 'min_child_samples': 15, 'max_bin': 50, 'subsample_freq': 6}. Best is trial 137 with value: 0.17512873362467118.\n"
     ]
    },
    {
     "name": "stdout",
     "output_type": "stream",
     "text": [
      "Repeat \u001b[1m\u001b[34m#1\n",
      "Repeat \u001b[1m\u001b[34m#2\n"
     ]
    },
    {
     "name": "stderr",
     "output_type": "stream",
     "text": [
      "[I 2023-06-29 13:31:58,169] Trial 426 finished with value: 0.4902672212887673 and parameters: {'boosting_type': 'goss', 'learning_rate': 0.006512687036730127, 'reg_alpha': 6.1759448140302126e-06, 'reg_lambda': 1.518092198048016e-07, 'max_depth': 7, 'num_leaves': 33, 'colsample_bytree': 0.4540391510292627, 'min_child_samples': 82, 'max_bin': 58, 'subsample_freq': 6}. Best is trial 137 with value: 0.17512873362467118.\n"
     ]
    },
    {
     "name": "stdout",
     "output_type": "stream",
     "text": [
      "Repeat \u001b[1m\u001b[34m#1\n",
      "Repeat \u001b[1m\u001b[34m#2\n"
     ]
    },
    {
     "name": "stderr",
     "output_type": "stream",
     "text": [
      "[I 2023-06-29 13:31:59,908] Trial 427 finished with value: 0.1858351042379453 and parameters: {'boosting_type': 'goss', 'learning_rate': 0.035542129865297485, 'reg_alpha': 1.0746993049897848e-05, 'reg_lambda': 9.085940570995471e-08, 'max_depth': 7, 'num_leaves': 21, 'colsample_bytree': 0.45994988244857055, 'min_child_samples': 12, 'max_bin': 43, 'subsample_freq': 6}. Best is trial 137 with value: 0.17512873362467118.\n"
     ]
    },
    {
     "name": "stdout",
     "output_type": "stream",
     "text": [
      "Repeat \u001b[1m\u001b[34m#1\n",
      "Repeat \u001b[1m\u001b[34m#2\n"
     ]
    },
    {
     "name": "stderr",
     "output_type": "stream",
     "text": [
      "[I 2023-06-29 13:32:01,408] Trial 428 finished with value: 0.19065280142452665 and parameters: {'boosting_type': 'goss', 'learning_rate': 0.048092039241569275, 'reg_alpha': 3.645659343648328e-07, 'reg_lambda': 4.4183237695204646e-08, 'max_depth': 7, 'num_leaves': 24, 'colsample_bytree': 0.5107179333569545, 'min_child_samples': 13, 'max_bin': 244, 'subsample_freq': 5}. Best is trial 137 with value: 0.17512873362467118.\n"
     ]
    },
    {
     "name": "stdout",
     "output_type": "stream",
     "text": [
      "Repeat \u001b[1m\u001b[34m#1\n",
      "Repeat \u001b[1m\u001b[34m#2\n"
     ]
    },
    {
     "name": "stderr",
     "output_type": "stream",
     "text": [
      "[I 2023-06-29 13:32:02,867] Trial 429 finished with value: 0.18833915560558856 and parameters: {'boosting_type': 'goss', 'learning_rate': 0.04130235158046666, 'reg_alpha': 0.0011078875080322629, 'reg_lambda': 1.8433411475071282e-08, 'max_depth': 6, 'num_leaves': 30, 'colsample_bytree': 0.5312720743119329, 'min_child_samples': 18, 'max_bin': 50, 'subsample_freq': 6}. Best is trial 137 with value: 0.17512873362467118.\n"
     ]
    },
    {
     "name": "stdout",
     "output_type": "stream",
     "text": [
      "Repeat \u001b[1m\u001b[34m#1\n",
      "Repeat \u001b[1m\u001b[34m#2\n"
     ]
    },
    {
     "name": "stderr",
     "output_type": "stream",
     "text": [
      "[I 2023-06-29 13:32:04,759] Trial 430 finished with value: 0.18751650120593238 and parameters: {'boosting_type': 'goss', 'learning_rate': 0.028570672546222194, 'reg_alpha': 1.24538618120649e-05, 'reg_lambda': 7.959061046834837e-07, 'max_depth': 7, 'num_leaves': 36, 'colsample_bytree': 0.4822089404816222, 'min_child_samples': 11, 'max_bin': 45, 'subsample_freq': 4}. Best is trial 137 with value: 0.17512873362467118.\n"
     ]
    },
    {
     "name": "stdout",
     "output_type": "stream",
     "text": [
      "Repeat \u001b[1m\u001b[34m#1\n",
      "Repeat \u001b[1m\u001b[34m#2\n"
     ]
    },
    {
     "name": "stderr",
     "output_type": "stream",
     "text": [
      "[I 2023-06-29 13:32:05,688] Trial 431 finished with value: 0.18852201006057934 and parameters: {'boosting_type': 'goss', 'learning_rate': 0.09451960645436631, 'reg_alpha': 0.0003113550192895595, 'reg_lambda': 2.973122404425111e-07, 'max_depth': 7, 'num_leaves': 32, 'colsample_bytree': 0.49459992493616184, 'min_child_samples': 9, 'max_bin': 40, 'subsample_freq': 6}. Best is trial 137 with value: 0.17512873362467118.\n"
     ]
    },
    {
     "name": "stdout",
     "output_type": "stream",
     "text": [
      "Repeat \u001b[1m\u001b[34m#1\n",
      "Repeat \u001b[1m\u001b[34m#2\n"
     ]
    },
    {
     "name": "stderr",
     "output_type": "stream",
     "text": [
      "[I 2023-06-29 13:32:07,566] Trial 432 finished with value: 0.1984622652732268 and parameters: {'boosting_type': 'goss', 'learning_rate': 0.03285818051926639, 'reg_alpha': 1.6954370663722228e-06, 'reg_lambda': 6.442916323872624e-08, 'max_depth': 7, 'num_leaves': 28, 'colsample_bytree': 0.5073924496588935, 'min_child_samples': 16, 'max_bin': 35, 'subsample_freq': 7}. Best is trial 137 with value: 0.17512873362467118.\n"
     ]
    },
    {
     "name": "stdout",
     "output_type": "stream",
     "text": [
      "Repeat \u001b[1m\u001b[34m#1\n",
      "Repeat \u001b[1m\u001b[34m#2\n"
     ]
    },
    {
     "name": "stderr",
     "output_type": "stream",
     "text": [
      "[I 2023-06-29 13:32:10,662] Trial 433 finished with value: 0.1931589309083101 and parameters: {'boosting_type': 'goss', 'learning_rate': 0.01606131927122135, 'reg_alpha': 2.4530532990136676e-05, 'reg_lambda': 2.7457475949694745e-08, 'max_depth': 7, 'num_leaves': 26, 'colsample_bytree': 0.46524038142974766, 'min_child_samples': 13, 'max_bin': 55, 'subsample_freq': 5}. Best is trial 137 with value: 0.17512873362467118.\n"
     ]
    },
    {
     "name": "stdout",
     "output_type": "stream",
     "text": [
      "Repeat \u001b[1m\u001b[34m#1\n",
      "Repeat \u001b[1m\u001b[34m#2\n"
     ]
    },
    {
     "name": "stderr",
     "output_type": "stream",
     "text": [
      "[I 2023-06-29 13:32:11,957] Trial 434 finished with value: 0.19522822658574077 and parameters: {'boosting_type': 'goss', 'learning_rate': 0.04913300062134829, 'reg_alpha': 3.941428686334807e-06, 'reg_lambda': 5.5830959381701455e-05, 'max_depth': 6, 'num_leaves': 35, 'colsample_bytree': 0.49039577801367845, 'min_child_samples': 11, 'max_bin': 47, 'subsample_freq': 5}. Best is trial 137 with value: 0.17512873362467118.\n"
     ]
    },
    {
     "name": "stdout",
     "output_type": "stream",
     "text": [
      "Repeat \u001b[1m\u001b[34m#1\n",
      "Repeat \u001b[1m\u001b[34m#2\n"
     ]
    },
    {
     "name": "stderr",
     "output_type": "stream",
     "text": [
      "[I 2023-06-29 13:32:13,604] Trial 435 finished with value: 0.1893860090094433 and parameters: {'boosting_type': 'goss', 'learning_rate': 0.04018105316795397, 'reg_alpha': 5.041713073405534e-06, 'reg_lambda': 1.0561001067607867e-07, 'max_depth': 5, 'num_leaves': 29, 'colsample_bytree': 0.4404852357459466, 'min_child_samples': 7, 'max_bin': 63, 'subsample_freq': 6}. Best is trial 137 with value: 0.17512873362467118.\n"
     ]
    },
    {
     "name": "stdout",
     "output_type": "stream",
     "text": [
      "Repeat \u001b[1m\u001b[34m#1\n",
      "Repeat \u001b[1m\u001b[34m#2\n"
     ]
    },
    {
     "name": "stderr",
     "output_type": "stream",
     "text": [
      "[I 2023-06-29 13:32:15,142] Trial 436 finished with value: 0.18545431508252072 and parameters: {'boosting_type': 'goss', 'learning_rate': 0.045731743322645374, 'reg_alpha': 2.1419837283742602e-05, 'reg_lambda': 5.324567709100099e-07, 'max_depth': 5, 'num_leaves': 34, 'colsample_bytree': 0.5471921065089302, 'min_child_samples': 9, 'max_bin': 78, 'subsample_freq': 5}. Best is trial 137 with value: 0.17512873362467118.\n"
     ]
    },
    {
     "name": "stdout",
     "output_type": "stream",
     "text": [
      "Repeat \u001b[1m\u001b[34m#1\n",
      "Repeat \u001b[1m\u001b[34m#2\n"
     ]
    },
    {
     "name": "stderr",
     "output_type": "stream",
     "text": [
      "[I 2023-06-29 13:32:17,146] Trial 437 finished with value: 0.18794264261508137 and parameters: {'boosting_type': 'goss', 'learning_rate': 0.030746016204295356, 'reg_alpha': 0.0003636627650139115, 'reg_lambda': 2.0924775100140228e-07, 'max_depth': 5, 'num_leaves': 31, 'colsample_bytree': 0.475880518810432, 'min_child_samples': 11, 'max_bin': 42, 'subsample_freq': 6}. Best is trial 137 with value: 0.17512873362467118.\n"
     ]
    },
    {
     "name": "stdout",
     "output_type": "stream",
     "text": [
      "Repeat \u001b[1m\u001b[34m#1\n",
      "Repeat \u001b[1m\u001b[34m#2\n"
     ]
    },
    {
     "name": "stderr",
     "output_type": "stream",
     "text": [
      "[I 2023-06-29 13:32:18,519] Trial 438 finished with value: 0.19523955147850441 and parameters: {'boosting_type': 'goss', 'learning_rate': 0.05233112376666998, 'reg_alpha': 1.3958751582958198e-05, 'reg_lambda': 3.8059764166887026e-08, 'max_depth': 5, 'num_leaves': 26, 'colsample_bytree': 0.5229856907091719, 'min_child_samples': 5, 'max_bin': 37, 'subsample_freq': 3}. Best is trial 137 with value: 0.17512873362467118.\n"
     ]
    },
    {
     "name": "stdout",
     "output_type": "stream",
     "text": [
      "Repeat \u001b[1m\u001b[34m#1\n",
      "Repeat \u001b[1m\u001b[34m#2\n"
     ]
    },
    {
     "name": "stderr",
     "output_type": "stream",
     "text": [
      "[I 2023-06-29 13:32:23,701] Trial 439 finished with value: 0.19311985079435978 and parameters: {'boosting_type': 'goss', 'learning_rate': 0.008283358945312281, 'reg_alpha': 0.662021746346382, 'reg_lambda': 0.0033499152403856838, 'max_depth': 6, 'num_leaves': 24, 'colsample_bytree': 0.5037244174946794, 'min_child_samples': 14, 'max_bin': 52, 'subsample_freq': 4}. Best is trial 137 with value: 0.17512873362467118.\n"
     ]
    },
    {
     "name": "stdout",
     "output_type": "stream",
     "text": [
      "Repeat \u001b[1m\u001b[34m#1\n",
      "Repeat \u001b[1m\u001b[34m#2\n"
     ]
    },
    {
     "name": "stderr",
     "output_type": "stream",
     "text": [
      "[I 2023-06-29 13:32:25,330] Trial 440 finished with value: 0.18054648187588887 and parameters: {'boosting_type': 'goss', 'learning_rate': 0.036756102044632165, 'reg_alpha': 3.488446028126917e-05, 'reg_lambda': 1.546536945827656e-08, 'max_depth': 5, 'num_leaves': 28, 'colsample_bytree': 0.48384067535563674, 'min_child_samples': 8, 'max_bin': 49, 'subsample_freq': 3}. Best is trial 137 with value: 0.17512873362467118.\n"
     ]
    },
    {
     "name": "stdout",
     "output_type": "stream",
     "text": [
      "Repeat \u001b[1m\u001b[34m#1\n",
      "Repeat \u001b[1m\u001b[34m#2\n"
     ]
    },
    {
     "name": "stderr",
     "output_type": "stream",
     "text": [
      "[I 2023-06-29 13:32:27,008] Trial 441 finished with value: 0.18516036100374883 and parameters: {'boosting_type': 'goss', 'learning_rate': 0.03560780075659677, 'reg_alpha': 1.8631861896320917e-05, 'reg_lambda': 1.4506964213029665e-08, 'max_depth': 5, 'num_leaves': 28, 'colsample_bytree': 0.43241319355881613, 'min_child_samples': 7, 'max_bin': 46, 'subsample_freq': 2}. Best is trial 137 with value: 0.17512873362467118.\n"
     ]
    },
    {
     "name": "stdout",
     "output_type": "stream",
     "text": [
      "Repeat \u001b[1m\u001b[34m#1\n",
      "Repeat \u001b[1m\u001b[34m#2\n"
     ]
    },
    {
     "name": "stderr",
     "output_type": "stream",
     "text": [
      "[I 2023-06-29 13:32:28,801] Trial 442 finished with value: 0.18661359021061294 and parameters: {'boosting_type': 'goss', 'learning_rate': 0.03752155694027015, 'reg_alpha': 3.755911603750494e-05, 'reg_lambda': 0.0009952342009807201, 'max_depth': 6, 'num_leaves': 30, 'colsample_bytree': 0.5618458865622449, 'min_child_samples': 8, 'max_bin': 40, 'subsample_freq': 3}. Best is trial 137 with value: 0.17512873362467118.\n"
     ]
    },
    {
     "name": "stdout",
     "output_type": "stream",
     "text": [
      "Repeat \u001b[1m\u001b[34m#1\n",
      "Repeat \u001b[1m\u001b[34m#2\n"
     ]
    },
    {
     "name": "stderr",
     "output_type": "stream",
     "text": [
      "[I 2023-06-29 13:32:30,282] Trial 443 finished with value: 0.19315122263115136 and parameters: {'boosting_type': 'goss', 'learning_rate': 0.04096607946737278, 'reg_alpha': 0.07405486541501387, 'reg_lambda': 2.0940569387347853e-08, 'max_depth': 5, 'num_leaves': 23, 'colsample_bytree': 0.4844779656392322, 'min_child_samples': 6, 'max_bin': 44, 'subsample_freq': 3}. Best is trial 137 with value: 0.17512873362467118.\n"
     ]
    },
    {
     "name": "stdout",
     "output_type": "stream",
     "text": [
      "Repeat \u001b[1m\u001b[34m#1\n",
      "Repeat \u001b[1m\u001b[34m#2\n"
     ]
    },
    {
     "name": "stderr",
     "output_type": "stream",
     "text": [
      "[I 2023-06-29 13:32:30,618] Trial 444 finished with value: 0.49119020164574106 and parameters: {'boosting_type': 'goss', 'learning_rate': 0.04377741441974651, 'reg_alpha': 3.113666456333695e-05, 'reg_lambda': 1.1483477467074168e-08, 'max_depth': 5, 'num_leaves': 27, 'colsample_bytree': 0.5389930984835144, 'min_child_samples': 96, 'max_bin': 48, 'subsample_freq': 3}. Best is trial 137 with value: 0.17512873362467118.\n"
     ]
    },
    {
     "name": "stdout",
     "output_type": "stream",
     "text": [
      "Repeat \u001b[1m\u001b[34m#1\n",
      "Repeat \u001b[1m\u001b[34m#2\n"
     ]
    },
    {
     "name": "stderr",
     "output_type": "stream",
     "text": [
      "[I 2023-06-29 13:32:32,768] Trial 445 finished with value: 0.22563217782259698 and parameters: {'boosting_type': 'goss', 'learning_rate': 0.0327986106520164, 'reg_alpha': 9.175238814022451e-06, 'reg_lambda': 2.2111310731680673e-08, 'max_depth': 5, 'num_leaves': 32, 'colsample_bytree': 0.4717178615174411, 'min_child_samples': 45, 'max_bin': 32, 'subsample_freq': 3}. Best is trial 137 with value: 0.17512873362467118.\n"
     ]
    },
    {
     "name": "stdout",
     "output_type": "stream",
     "text": [
      "Repeat \u001b[1m\u001b[34m#1\n",
      "Repeat \u001b[1m\u001b[34m#2\n"
     ]
    },
    {
     "name": "stderr",
     "output_type": "stream",
     "text": [
      "[I 2023-06-29 13:32:35,788] Trial 446 finished with value: 0.19075486245956047 and parameters: {'boosting_type': 'goss', 'learning_rate': 0.01953832217561713, 'reg_alpha': 4.7387374713966526e-05, 'reg_lambda': 0.0003837881695292255, 'max_depth': 7, 'num_leaves': 26, 'colsample_bytree': 0.4557104949639854, 'min_child_samples': 9, 'max_bin': 37, 'subsample_freq': 3}. Best is trial 137 with value: 0.17512873362467118.\n"
     ]
    },
    {
     "name": "stdout",
     "output_type": "stream",
     "text": [
      "Repeat \u001b[1m\u001b[34m#1\n",
      "Repeat \u001b[1m\u001b[34m#2\n"
     ]
    },
    {
     "name": "stderr",
     "output_type": "stream",
     "text": [
      "[I 2023-06-29 13:32:37,852] Trial 447 finished with value: 0.19488264841286002 and parameters: {'boosting_type': 'goss', 'learning_rate': 0.03556937493825394, 'reg_alpha': 0.001606288211017329, 'reg_lambda': 1.0174890116003246e-08, 'max_depth': 8, 'num_leaves': 71, 'colsample_bytree': 0.5162766197058481, 'min_child_samples': 5, 'max_bin': 43, 'subsample_freq': 3}. Best is trial 137 with value: 0.17512873362467118.\n"
     ]
    },
    {
     "name": "stdout",
     "output_type": "stream",
     "text": [
      "Repeat \u001b[1m\u001b[34m#1\n",
      "Repeat \u001b[1m\u001b[34m#2\n"
     ]
    },
    {
     "name": "stderr",
     "output_type": "stream",
     "text": [
      "[I 2023-06-29 13:32:39,975] Trial 448 finished with value: 0.1865582947166359 and parameters: {'boosting_type': 'goss', 'learning_rate': 0.026914966097530732, 'reg_alpha': 0.0029234733989190716, 'reg_lambda': 3.270803042878615e-08, 'max_depth': 5, 'num_leaves': 21, 'colsample_bytree': 0.531445021767667, 'min_child_samples': 10, 'max_bin': 49, 'subsample_freq': 3}. Best is trial 137 with value: 0.17512873362467118.\n"
     ]
    },
    {
     "name": "stdout",
     "output_type": "stream",
     "text": [
      "Repeat \u001b[1m\u001b[34m#1\n",
      "Repeat \u001b[1m\u001b[34m#2\n"
     ]
    },
    {
     "name": "stderr",
     "output_type": "stream",
     "text": [
      "[I 2023-06-29 13:32:43,765] Trial 449 finished with value: 0.19167570993778027 and parameters: {'boosting_type': 'goss', 'learning_rate': 0.012975103646429054, 'reg_alpha': 6.078970329077069e-05, 'reg_lambda': 1.7027298789676782e-06, 'max_depth': 6, 'num_leaves': 30, 'colsample_bytree': 0.5509300588859026, 'min_child_samples': 8, 'max_bin': 56, 'subsample_freq': 3}. Best is trial 137 with value: 0.17512873362467118.\n"
     ]
    },
    {
     "name": "stdout",
     "output_type": "stream",
     "text": [
      "Repeat \u001b[1m\u001b[34m#1\n",
      "Repeat \u001b[1m\u001b[34m#2\n"
     ]
    },
    {
     "name": "stderr",
     "output_type": "stream",
     "text": [
      "[I 2023-06-29 13:32:45,229] Trial 450 finished with value: 0.19433499578846514 and parameters: {'boosting_type': 'goss', 'learning_rate': 0.03891455529709726, 'reg_alpha': 0.04141477609242857, 'reg_lambda': 1.802357182671218e-08, 'max_depth': 5, 'num_leaves': 52, 'colsample_bytree': 0.5761817399383125, 'min_child_samples': 12, 'max_bin': 89, 'subsample_freq': 3}. Best is trial 137 with value: 0.17512873362467118.\n"
     ]
    },
    {
     "name": "stdout",
     "output_type": "stream",
     "text": [
      "Repeat \u001b[1m\u001b[34m#1\n",
      "Repeat \u001b[1m\u001b[34m#2\n"
     ]
    },
    {
     "name": "stderr",
     "output_type": "stream",
     "text": [
      "[I 2023-06-29 13:32:58,467] Trial 451 finished with value: 0.2138422080287823 and parameters: {'boosting_type': 'goss', 'learning_rate': 0.0019423040899692828, 'reg_alpha': 6.352186430914002e-06, 'reg_lambda': 5.320583906863748e-08, 'max_depth': 9, 'num_leaves': 33, 'colsample_bytree': 0.38811394188294374, 'min_child_samples': 10, 'max_bin': 39, 'subsample_freq': 5}. Best is trial 137 with value: 0.17512873362467118.\n"
     ]
    },
    {
     "name": "stdout",
     "output_type": "stream",
     "text": [
      "Repeat \u001b[1m\u001b[34m#1\n",
      "Repeat \u001b[1m\u001b[34m#2\n"
     ]
    },
    {
     "name": "stderr",
     "output_type": "stream",
     "text": [
      "[I 2023-06-29 13:33:10,904] Trial 452 finished with value: 0.19196837169804717 and parameters: {'boosting_type': 'goss', 'learning_rate': 0.032450395081984856, 'reg_alpha': 1.3947089256443818e-05, 'reg_lambda': 0.00013486289467605635, 'max_depth': 6, 'num_leaves': 28, 'colsample_bytree': 0.48109156132384345, 'min_child_samples': 7, 'max_bin': 70, 'subsample_freq': 3}. Best is trial 137 with value: 0.17512873362467118.\n"
     ]
    },
    {
     "name": "stdout",
     "output_type": "stream",
     "text": [
      "Repeat \u001b[1m\u001b[34m#1\n",
      "Repeat \u001b[1m\u001b[34m#2\n"
     ]
    },
    {
     "name": "stderr",
     "output_type": "stream",
     "text": [
      "[I 2023-06-29 13:33:13,792] Trial 453 finished with value: 0.19326883673977446 and parameters: {'boosting_type': 'goss', 'learning_rate': 0.05006546295107776, 'reg_alpha': 0.022686705513199634, 'reg_lambda': 1.6791689972194747e-08, 'max_depth': 5, 'num_leaves': 24, 'colsample_bytree': 0.49994858726630825, 'min_child_samples': 14, 'max_bin': 44, 'subsample_freq': 3}. Best is trial 137 with value: 0.17512873362467118.\n"
     ]
    },
    {
     "name": "stdout",
     "output_type": "stream",
     "text": [
      "Repeat \u001b[1m\u001b[34m#1\n",
      "Repeat \u001b[1m\u001b[34m#2\n"
     ]
    },
    {
     "name": "stderr",
     "output_type": "stream",
     "text": [
      "[I 2023-06-29 13:33:16,780] Trial 454 finished with value: 0.20090349793599435 and parameters: {'boosting_type': 'goss', 'learning_rate': 0.043255614667923624, 'reg_alpha': 2.8724074939267887e-05, 'reg_lambda': 1.4958784404023993e-07, 'max_depth': 5, 'num_leaves': 37, 'colsample_bytree': 0.5862017804475319, 'min_child_samples': 12, 'max_bin': 36, 'subsample_freq': 3}. Best is trial 137 with value: 0.17512873362467118.\n"
     ]
    },
    {
     "name": "stdout",
     "output_type": "stream",
     "text": [
      "Repeat \u001b[1m\u001b[34m#1\n",
      "Repeat \u001b[1m\u001b[34m#2\n"
     ]
    },
    {
     "name": "stderr",
     "output_type": "stream",
     "text": [
      "[I 2023-06-29 13:33:20,383] Trial 455 finished with value: 0.19121332463222251 and parameters: {'boosting_type': 'goss', 'learning_rate': 0.029196586381155337, 'reg_alpha': 2.2134894602914268e-05, 'reg_lambda': 2.5454770411788053e-08, 'max_depth': 5, 'num_leaves': 68, 'colsample_bytree': 0.5236228209394542, 'min_child_samples': 9, 'max_bin': 51, 'subsample_freq': 4}. Best is trial 137 with value: 0.17512873362467118.\n"
     ]
    },
    {
     "name": "stdout",
     "output_type": "stream",
     "text": [
      "Repeat \u001b[1m\u001b[34m#1\n",
      "Repeat \u001b[1m\u001b[34m#2\n"
     ]
    },
    {
     "name": "stderr",
     "output_type": "stream",
     "text": [
      "[I 2023-06-29 13:33:35,981] Trial 456 finished with value: 0.18909608117925653 and parameters: {'boosting_type': 'goss', 'learning_rate': 0.004287207529335972, 'reg_alpha': 0.0006563640282711813, 'reg_lambda': 3.766276241851423e-08, 'max_depth': 6, 'num_leaves': 60, 'colsample_bytree': 0.6838130259221, 'min_child_samples': 7, 'max_bin': 42, 'subsample_freq': 2}. Best is trial 137 with value: 0.17512873362467118.\n"
     ]
    },
    {
     "name": "stdout",
     "output_type": "stream",
     "text": [
      "Repeat \u001b[1m\u001b[34m#1\n",
      "Repeat \u001b[1m\u001b[34m#2\n"
     ]
    },
    {
     "name": "stderr",
     "output_type": "stream",
     "text": [
      "[I 2023-06-29 13:33:43,820] Trial 457 finished with value: 0.19711050626723609 and parameters: {'boosting_type': 'goss', 'learning_rate': 0.0073785740069100365, 'reg_alpha': 0.01693398055188888, 'reg_lambda': 3.510577851658902e-07, 'max_depth': 5, 'num_leaves': 63, 'colsample_bytree': 0.5693759297580919, 'min_child_samples': 16, 'max_bin': 190, 'subsample_freq': 5}. Best is trial 137 with value: 0.17512873362467118.\n"
     ]
    },
    {
     "name": "stdout",
     "output_type": "stream",
     "text": [
      "Repeat \u001b[1m\u001b[34m#1\n",
      "Repeat \u001b[1m\u001b[34m#2\n"
     ]
    },
    {
     "name": "stderr",
     "output_type": "stream",
     "text": [
      "[I 2023-06-29 13:33:52,892] Trial 458 finished with value: 0.19077773360420075 and parameters: {'boosting_type': 'goss', 'learning_rate': 0.006034061618957589, 'reg_alpha': 1.0754405941690706e-05, 'reg_lambda': 0.010308905578513232, 'max_depth': 5, 'num_leaves': 35, 'colsample_bytree': 0.48794558535154287, 'min_child_samples': 10, 'max_bin': 60, 'subsample_freq': 3}. Best is trial 137 with value: 0.17512873362467118.\n"
     ]
    },
    {
     "name": "stdout",
     "output_type": "stream",
     "text": [
      "Repeat \u001b[1m\u001b[34m#1\n",
      "Repeat \u001b[1m\u001b[34m#2\n"
     ]
    },
    {
     "name": "stderr",
     "output_type": "stream",
     "text": [
      "[I 2023-06-29 13:33:57,623] Trial 459 finished with value: 0.1876384392211179 and parameters: {'boosting_type': 'goss', 'learning_rate': 0.015315137597851525, 'reg_alpha': 2.9826129198019335e-06, 'reg_lambda': 0.0008851452959884957, 'max_depth': 5, 'num_leaves': 31, 'colsample_bytree': 0.4653473831041569, 'min_child_samples': 13, 'max_bin': 32, 'subsample_freq': 3}. Best is trial 137 with value: 0.17512873362467118.\n"
     ]
    },
    {
     "name": "stdout",
     "output_type": "stream",
     "text": [
      "Repeat \u001b[1m\u001b[34m#1\n",
      "Repeat \u001b[1m\u001b[34m#2\n"
     ]
    },
    {
     "name": "stderr",
     "output_type": "stream",
     "text": [
      "[I 2023-06-29 13:34:03,696] Trial 460 finished with value: 0.1939607395283811 and parameters: {'boosting_type': 'goss', 'learning_rate': 0.009613865842317496, 'reg_alpha': 3.777099630871955e-05, 'reg_lambda': 9.3564236226907e-07, 'max_depth': 6, 'num_leaves': 49, 'colsample_bytree': 0.5953809855423526, 'min_child_samples': 11, 'max_bin': 47, 'subsample_freq': 3}. Best is trial 137 with value: 0.17512873362467118.\n"
     ]
    },
    {
     "name": "stdout",
     "output_type": "stream",
     "text": [
      "Repeat \u001b[1m\u001b[34m#1\n",
      "Repeat \u001b[1m\u001b[34m#2\n"
     ]
    },
    {
     "name": "stderr",
     "output_type": "stream",
     "text": [
      "[I 2023-06-29 13:34:05,044] Trial 461 finished with value: 0.20097696721251299 and parameters: {'boosting_type': 'goss', 'learning_rate': 0.08525978328002133, 'reg_alpha': 0.04386491887687555, 'reg_lambda': 2.4703545207169718e-06, 'max_depth': 5, 'num_leaves': 57, 'colsample_bytree': 0.5131873225996915, 'min_child_samples': 5, 'max_bin': 40, 'subsample_freq': 4}. Best is trial 137 with value: 0.17512873362467118.\n"
     ]
    },
    {
     "name": "stdout",
     "output_type": "stream",
     "text": [
      "Repeat \u001b[1m\u001b[34m#1\n",
      "Repeat \u001b[1m\u001b[34m#2\n"
     ]
    },
    {
     "name": "stderr",
     "output_type": "stream",
     "text": [
      "[I 2023-06-29 13:34:06,877] Trial 462 finished with value: 0.1899447718517548 and parameters: {'boosting_type': 'goss', 'learning_rate': 0.05543242210754831, 'reg_alpha': 0.0008588542692622559, 'reg_lambda': 4.929196158415473e-06, 'max_depth': 5, 'num_leaves': 27, 'colsample_bytree': 0.4766267348377207, 'min_child_samples': 8, 'max_bin': 54, 'subsample_freq': 5}. Best is trial 137 with value: 0.17512873362467118.\n"
     ]
    },
    {
     "name": "stdout",
     "output_type": "stream",
     "text": [
      "Repeat \u001b[1m\u001b[34m#1\n",
      "Repeat \u001b[1m\u001b[34m#2\n"
     ]
    },
    {
     "name": "stderr",
     "output_type": "stream",
     "text": [
      "[I 2023-06-29 13:34:10,397] Trial 463 finished with value: 0.20236626706414443 and parameters: {'boosting_type': 'goss', 'learning_rate': 0.020396976743702385, 'reg_alpha': 9.496360343720696e-05, 'reg_lambda': 0.00014800466751472497, 'max_depth': 6, 'num_leaves': 22, 'colsample_bytree': 0.4947036801048368, 'min_child_samples': 21, 'max_bin': 49, 'subsample_freq': 3}. Best is trial 137 with value: 0.17512873362467118.\n"
     ]
    },
    {
     "name": "stdout",
     "output_type": "stream",
     "text": [
      "Repeat \u001b[1m\u001b[34m#1\n",
      "Repeat \u001b[1m\u001b[34m#2\n"
     ]
    },
    {
     "name": "stderr",
     "output_type": "stream",
     "text": [
      "[I 2023-06-29 13:34:13,222] Trial 464 finished with value: 0.1908003349005848 and parameters: {'boosting_type': 'goss', 'learning_rate': 0.07376216981675789, 'reg_alpha': 0.001958233414053346, 'reg_lambda': 0.00191408481237385, 'max_depth': 5, 'num_leaves': 15, 'colsample_bytree': 0.5417508984541882, 'min_child_samples': 15, 'max_bin': 38, 'subsample_freq': 3}. Best is trial 137 with value: 0.17512873362467118.\n"
     ]
    },
    {
     "name": "stdout",
     "output_type": "stream",
     "text": [
      "Repeat \u001b[1m\u001b[34m#1\n",
      "Repeat \u001b[1m\u001b[34m#2\n"
     ]
    },
    {
     "name": "stderr",
     "output_type": "stream",
     "text": [
      "[I 2023-06-29 13:34:13,722] Trial 465 finished with value: 0.490737722189416 and parameters: {'boosting_type': 'goss', 'learning_rate': 0.025161850744203577, 'reg_alpha': 1.721793712937385e-05, 'reg_lambda': 7.842909890305768e-08, 'max_depth': 6, 'num_leaves': 54, 'colsample_bytree': 0.5585466047813886, 'min_child_samples': 91, 'max_bin': 43, 'subsample_freq': 3}. Best is trial 137 with value: 0.17512873362467118.\n"
     ]
    },
    {
     "name": "stdout",
     "output_type": "stream",
     "text": [
      "Repeat \u001b[1m\u001b[34m#1\n",
      "Repeat \u001b[1m\u001b[34m#2\n"
     ]
    },
    {
     "name": "stderr",
     "output_type": "stream",
     "text": [
      "[I 2023-06-29 13:34:15,768] Trial 466 finished with value: 0.19901064611633124 and parameters: {'boosting_type': 'goss', 'learning_rate': 0.0464596869755607, 'reg_alpha': 0.0036533325910588343, 'reg_lambda': 1.527059662428163e-05, 'max_depth': 7, 'num_leaves': 29, 'colsample_bytree': 0.5035911082132142, 'min_child_samples': 12, 'max_bin': 47, 'subsample_freq': 3}. Best is trial 137 with value: 0.17512873362467118.\n"
     ]
    },
    {
     "name": "stdout",
     "output_type": "stream",
     "text": [
      "Repeat \u001b[1m\u001b[34m#1\n",
      "Repeat \u001b[1m\u001b[34m#2\n"
     ]
    },
    {
     "name": "stderr",
     "output_type": "stream",
     "text": [
      "[I 2023-06-29 13:34:31,355] Trial 467 finished with value: 0.19486597657662408 and parameters: {'boosting_type': 'goss', 'learning_rate': 0.0031415400508627736, 'reg_alpha': 6.158758834220264e-07, 'reg_lambda': 1.0092659759485705e-08, 'max_depth': 5, 'num_leaves': 65, 'colsample_bytree': 0.4861693724999389, 'min_child_samples': 10, 'max_bin': 53, 'subsample_freq': 5}. Best is trial 137 with value: 0.17512873362467118.\n"
     ]
    },
    {
     "name": "stdout",
     "output_type": "stream",
     "text": [
      "Repeat \u001b[1m\u001b[34m#1\n",
      "Repeat \u001b[1m\u001b[34m#2\n"
     ]
    },
    {
     "name": "stderr",
     "output_type": "stream",
     "text": [
      "[I 2023-06-29 13:34:33,511] Trial 468 finished with value: 0.20249098206364208 and parameters: {'boosting_type': 'goss', 'learning_rate': 0.03813079601828979, 'reg_alpha': 7.836318906103416e-06, 'reg_lambda': 1.1543191805199906e-05, 'max_depth': 5, 'num_leaves': 33, 'colsample_bytree': 0.5109971010895806, 'min_child_samples': 18, 'max_bin': 37, 'subsample_freq': 3}. Best is trial 137 with value: 0.17512873362467118.\n"
     ]
    },
    {
     "name": "stdout",
     "output_type": "stream",
     "text": [
      "Repeat \u001b[1m\u001b[34m#1\n",
      "Repeat \u001b[1m\u001b[34m#2\n"
     ]
    },
    {
     "name": "stderr",
     "output_type": "stream",
     "text": [
      "[I 2023-06-29 13:34:35,872] Trial 469 finished with value: 0.18855025753854704 and parameters: {'boosting_type': 'goss', 'learning_rate': 0.03346890954205145, 'reg_alpha': 0.02881027018826178, 'reg_lambda': 2.098799223948727e-07, 'max_depth': 5, 'num_leaves': 25, 'colsample_bytree': 0.5795042959966508, 'min_child_samples': 8, 'max_bin': 44, 'subsample_freq': 4}. Best is trial 137 with value: 0.17512873362467118.\n"
     ]
    },
    {
     "name": "stdout",
     "output_type": "stream",
     "text": [
      "Repeat \u001b[1m\u001b[34m#1\n",
      "Repeat \u001b[1m\u001b[34m#2\n"
     ]
    },
    {
     "name": "stderr",
     "output_type": "stream",
     "text": [
      "[I 2023-06-29 13:34:41,858] Trial 470 finished with value: 0.21724426786204565 and parameters: {'boosting_type': 'goss', 'learning_rate': 0.01040394359528103, 'reg_alpha': 0.01229401338827831, 'reg_lambda': 4.9675283045145474e-08, 'max_depth': 5, 'num_leaves': 38, 'colsample_bytree': 0.5294955621505645, 'min_child_samples': 37, 'max_bin': 58, 'subsample_freq': 3}. Best is trial 137 with value: 0.17512873362467118.\n"
     ]
    },
    {
     "name": "stdout",
     "output_type": "stream",
     "text": [
      "Repeat \u001b[1m\u001b[34m#1\n",
      "Repeat \u001b[1m\u001b[34m#2\n"
     ]
    },
    {
     "name": "stderr",
     "output_type": "stream",
     "text": [
      "[I 2023-06-29 13:34:44,078] Trial 471 finished with value: 0.19274462551330507 and parameters: {'boosting_type': 'goss', 'learning_rate': 0.04166004028609516, 'reg_alpha': 0.0004741876655285558, 'reg_lambda': 1.5709614611437462e-08, 'max_depth': 6, 'num_leaves': 51, 'colsample_bytree': 0.40449294318789847, 'min_child_samples': 14, 'max_bin': 40, 'subsample_freq': 5}. Best is trial 137 with value: 0.17512873362467118.\n"
     ]
    },
    {
     "name": "stdout",
     "output_type": "stream",
     "text": [
      "Repeat \u001b[1m\u001b[34m#1\n",
      "Repeat \u001b[1m\u001b[34m#2\n"
     ]
    },
    {
     "name": "stderr",
     "output_type": "stream",
     "text": [
      "[I 2023-06-29 13:34:50,170] Trial 472 finished with value: 0.19102592735000795 and parameters: {'boosting_type': 'goss', 'learning_rate': 0.010790172098778219, 'reg_alpha': 4.901832690790413e-06, 'reg_lambda': 7.956515529116003e-05, 'max_depth': 7, 'num_leaves': 47, 'colsample_bytree': 0.47253139375691916, 'min_child_samples': 11, 'max_bin': 49, 'subsample_freq': 3}. Best is trial 137 with value: 0.17512873362467118.\n"
     ]
    },
    {
     "name": "stdout",
     "output_type": "stream",
     "text": [
      "Repeat \u001b[1m\u001b[34m#1\n",
      "Repeat \u001b[1m\u001b[34m#2\n"
     ]
    },
    {
     "name": "stderr",
     "output_type": "stream",
     "text": [
      "[I 2023-06-29 13:35:12,259] Trial 473 finished with value: 0.24286096950436484 and parameters: {'boosting_type': 'goss', 'learning_rate': 0.001303265526279651, 'reg_alpha': 5.683169388222854e-05, 'reg_lambda': 5.447369310089257e-07, 'max_depth': 5, 'num_leaves': 30, 'colsample_bytree': 0.5670825202033958, 'min_child_samples': 6, 'max_bin': 63, 'subsample_freq': 3}. Best is trial 137 with value: 0.17512873362467118.\n"
     ]
    },
    {
     "name": "stdout",
     "output_type": "stream",
     "text": [
      "Repeat \u001b[1m\u001b[34m#1\n",
      "Repeat \u001b[1m\u001b[34m#2\n"
     ]
    },
    {
     "name": "stderr",
     "output_type": "stream",
     "text": [
      "[I 2023-06-29 13:35:13,722] Trial 474 finished with value: 0.19540725279858173 and parameters: {'boosting_type': 'goss', 'learning_rate': 0.07941390958694619, 'reg_alpha': 0.0012115424571389507, 'reg_lambda': 1.1954257244771015e-07, 'max_depth': 5, 'num_leaves': 18, 'colsample_bytree': 0.4960804116582348, 'min_child_samples': 9, 'max_bin': 36, 'subsample_freq': 3}. Best is trial 137 with value: 0.17512873362467118.\n"
     ]
    },
    {
     "name": "stdout",
     "output_type": "stream",
     "text": [
      "Repeat \u001b[1m\u001b[34m#1\n",
      "Repeat \u001b[1m\u001b[34m#2\n"
     ]
    },
    {
     "name": "stderr",
     "output_type": "stream",
     "text": [
      "[I 2023-06-29 13:35:24,906] Trial 475 finished with value: 0.19885697533229021 and parameters: {'boosting_type': 'goss', 'learning_rate': 0.005477839131621728, 'reg_alpha': 0.006528226780745217, 'reg_lambda': 3.217082286251338e-05, 'max_depth': 6, 'num_leaves': 61, 'colsample_bytree': 0.5235178539476593, 'min_child_samples': 13, 'max_bin': 167, 'subsample_freq': 5}. Best is trial 137 with value: 0.17512873362467118.\n"
     ]
    },
    {
     "name": "stdout",
     "output_type": "stream",
     "text": [
      "Repeat \u001b[1m\u001b[34m#1\n",
      "Repeat \u001b[1m\u001b[34m#2\n"
     ]
    },
    {
     "name": "stderr",
     "output_type": "stream",
     "text": [
      "[I 2023-06-29 13:35:29,910] Trial 476 finished with value: 0.1907990864622516 and parameters: {'boosting_type': 'goss', 'learning_rate': 0.01377058363449837, 'reg_alpha': 0.018927170873825103, 'reg_lambda': 2.977526506483794e-08, 'max_depth': 5, 'num_leaves': 56, 'colsample_bytree': 0.6655383285339609, 'min_child_samples': 7, 'max_bin': 45, 'subsample_freq': 3}. Best is trial 137 with value: 0.17512873362467118.\n"
     ]
    },
    {
     "name": "stdout",
     "output_type": "stream",
     "text": [
      "Repeat \u001b[1m\u001b[34m#1\n",
      "Repeat \u001b[1m\u001b[34m#2\n"
     ]
    },
    {
     "name": "stderr",
     "output_type": "stream",
     "text": [
      "[I 2023-06-29 13:35:31,605] Trial 477 finished with value: 0.19147636648233818 and parameters: {'boosting_type': 'goss', 'learning_rate': 0.05430787751299461, 'reg_alpha': 0.07867886857022217, 'reg_lambda': 7.026173037210631e-08, 'max_depth': 5, 'num_leaves': 32, 'colsample_bytree': 0.5528652635657161, 'min_child_samples': 11, 'max_bin': 54, 'subsample_freq': 2}. Best is trial 137 with value: 0.17512873362467118.\n"
     ]
    },
    {
     "name": "stdout",
     "output_type": "stream",
     "text": [
      "Repeat \u001b[1m\u001b[34m#1\n",
      "Repeat \u001b[1m\u001b[34m#2\n"
     ]
    },
    {
     "name": "stderr",
     "output_type": "stream",
     "text": [
      "[I 2023-06-29 13:35:46,091] Trial 478 finished with value: 0.18765306354278968 and parameters: {'boosting_type': 'goss', 'learning_rate': 0.00872315253357869, 'reg_alpha': 1.4918925532902657e-06, 'reg_lambda': 2.292473581773131e-08, 'max_depth': 5, 'num_leaves': 28, 'colsample_bytree': 0.4810315580553819, 'min_child_samples': 9, 'max_bin': 40, 'subsample_freq': 1}. Best is trial 137 with value: 0.17512873362467118.\n"
     ]
    },
    {
     "name": "stdout",
     "output_type": "stream",
     "text": [
      "Repeat \u001b[1m\u001b[34m#1\n",
      "Repeat \u001b[1m\u001b[34m#2\n"
     ]
    },
    {
     "name": "stderr",
     "output_type": "stream",
     "text": [
      "[I 2023-06-29 13:35:47,946] Trial 479 finished with value: 0.19488792100105976 and parameters: {'boosting_type': 'goss', 'learning_rate': 0.047685125737654904, 'reg_alpha': 2.865839890039891e-05, 'reg_lambda': 4.293196833043791e-08, 'max_depth': 6, 'num_leaves': 80, 'colsample_bytree': 0.589528515729415, 'min_child_samples': 16, 'max_bin': 67, 'subsample_freq': 3}. Best is trial 137 with value: 0.17512873362467118.\n"
     ]
    },
    {
     "name": "stdout",
     "output_type": "stream",
     "text": [
      "Repeat \u001b[1m\u001b[34m#1\n",
      "Repeat \u001b[1m\u001b[34m#2\n"
     ]
    },
    {
     "name": "stderr",
     "output_type": "stream",
     "text": [
      "[I 2023-06-29 13:35:50,557] Trial 480 finished with value: 0.18748209468431976 and parameters: {'boosting_type': 'goss', 'learning_rate': 0.03594298822645923, 'reg_alpha': 1.8845526777400238e-05, 'reg_lambda': 0.027812629980235357, 'max_depth': 5, 'num_leaves': 59, 'colsample_bytree': 0.49107605546360683, 'min_child_samples': 12, 'max_bin': 49, 'subsample_freq': 7}. Best is trial 137 with value: 0.17512873362467118.\n"
     ]
    },
    {
     "name": "stdout",
     "output_type": "stream",
     "text": [
      "Repeat \u001b[1m\u001b[34m#1\n",
      "Repeat \u001b[1m\u001b[34m#2\n"
     ]
    },
    {
     "name": "stderr",
     "output_type": "stream",
     "text": [
      "[I 2023-06-29 13:35:53,373] Trial 481 finished with value: 0.20054893586930644 and parameters: {'boosting_type': 'goss', 'learning_rate': 0.02968235088767841, 'reg_alpha': 0.1907688143871929, 'reg_lambda': 1.070072851235423e-07, 'max_depth': 7, 'num_leaves': 36, 'colsample_bytree': 0.5361822031407915, 'min_child_samples': 5, 'max_bin': 35, 'subsample_freq': 4}. Best is trial 137 with value: 0.17512873362467118.\n"
     ]
    },
    {
     "name": "stdout",
     "output_type": "stream",
     "text": [
      "Repeat \u001b[1m\u001b[34m#1\n",
      "Repeat \u001b[1m\u001b[34m#2\n"
     ]
    },
    {
     "name": "stderr",
     "output_type": "stream",
     "text": [
      "[I 2023-06-29 13:35:58,997] Trial 482 finished with value: 0.18920695860839953 and parameters: {'boosting_type': 'goss', 'learning_rate': 0.013380074513004964, 'reg_alpha': 1.0481728777049955e-05, 'reg_lambda': 0.6333626831310759, 'max_depth': 6, 'num_leaves': 25, 'colsample_bytree': 0.5049767459797607, 'min_child_samples': 9, 'max_bin': 44, 'subsample_freq': 3}. Best is trial 137 with value: 0.17512873362467118.\n"
     ]
    },
    {
     "name": "stdout",
     "output_type": "stream",
     "text": [
      "Repeat \u001b[1m\u001b[34m#1\n",
      "Repeat \u001b[1m\u001b[34m#2\n"
     ]
    },
    {
     "name": "stderr",
     "output_type": "stream",
     "text": [
      "[I 2023-06-29 13:36:06,814] Trial 483 finished with value: 0.18932674795428833 and parameters: {'boosting_type': 'goss', 'learning_rate': 0.007730773094839339, 'reg_alpha': 1.00705525039989e-07, 'reg_lambda': 1.4844264407870723e-08, 'max_depth': 5, 'num_leaves': 34, 'colsample_bytree': 0.4641290814434538, 'min_child_samples': 14, 'max_bin': 52, 'subsample_freq': 5}. Best is trial 137 with value: 0.17512873362467118.\n"
     ]
    },
    {
     "name": "stdout",
     "output_type": "stream",
     "text": [
      "Repeat \u001b[1m\u001b[34m#1\n",
      "Repeat \u001b[1m\u001b[34m#2\n"
     ]
    },
    {
     "name": "stderr",
     "output_type": "stream",
     "text": [
      "[I 2023-06-29 13:36:08,161] Trial 484 finished with value: 0.1846876768514677 and parameters: {'boosting_type': 'goss', 'learning_rate': 0.09036902939077297, 'reg_alpha': 0.004879204301684479, 'reg_lambda': 0.0007137916112340106, 'max_depth': 5, 'num_leaves': 45, 'colsample_bytree': 0.5158020066140709, 'min_child_samples': 7, 'max_bin': 32, 'subsample_freq': 3}. Best is trial 137 with value: 0.17512873362467118.\n"
     ]
    },
    {
     "name": "stdout",
     "output_type": "stream",
     "text": [
      "Repeat \u001b[1m\u001b[34m#1\n",
      "Repeat \u001b[1m\u001b[34m#2\n"
     ]
    },
    {
     "name": "stderr",
     "output_type": "stream",
     "text": [
      "[I 2023-06-29 13:36:09,619] Trial 485 finished with value: 0.20285588736684435 and parameters: {'boosting_type': 'goss', 'learning_rate': 0.08428504681301166, 'reg_alpha': 0.0030882517515893864, 'reg_lambda': 0.00022646674719990672, 'max_depth': 5, 'num_leaves': 44, 'colsample_bytree': 0.5179065807750419, 'min_child_samples': 7, 'max_bin': 35, 'subsample_freq': 3}. Best is trial 137 with value: 0.17512873362467118.\n"
     ]
    },
    {
     "name": "stdout",
     "output_type": "stream",
     "text": [
      "Repeat \u001b[1m\u001b[34m#1\n",
      "Repeat \u001b[1m\u001b[34m#2\n"
     ]
    },
    {
     "name": "stderr",
     "output_type": "stream",
     "text": [
      "[I 2023-06-29 13:36:10,945] Trial 486 finished with value: 0.18883688666356693 and parameters: {'boosting_type': 'goss', 'learning_rate': 0.09068788592188523, 'reg_alpha': 0.005670715875960979, 'reg_lambda': 0.0007094183666463032, 'max_depth': 5, 'num_leaves': 47, 'colsample_bytree': 0.5130136424140499, 'min_child_samples': 8, 'max_bin': 32, 'subsample_freq': 3}. Best is trial 137 with value: 0.17512873362467118.\n"
     ]
    },
    {
     "name": "stdout",
     "output_type": "stream",
     "text": [
      "Repeat \u001b[1m\u001b[34m#1\n",
      "Repeat \u001b[1m\u001b[34m#2\n"
     ]
    },
    {
     "name": "stderr",
     "output_type": "stream",
     "text": [
      "[I 2023-06-29 13:36:30,996] Trial 487 finished with value: 0.26734682526726994 and parameters: {'boosting_type': 'goss', 'learning_rate': 0.0010494446457665336, 'reg_alpha': 0.009599103175482734, 'reg_lambda': 0.0009385944737991243, 'max_depth': 5, 'num_leaves': 45, 'colsample_bytree': 0.5202803365305304, 'min_child_samples': 5, 'max_bin': 84, 'subsample_freq': 4}. Best is trial 137 with value: 0.17512873362467118.\n"
     ]
    },
    {
     "name": "stdout",
     "output_type": "stream",
     "text": [
      "Repeat \u001b[1m\u001b[34m#1\n",
      "Repeat \u001b[1m\u001b[34m#2\n"
     ]
    },
    {
     "name": "stderr",
     "output_type": "stream",
     "text": [
      "[I 2023-06-29 13:36:32,371] Trial 488 finished with value: 0.19355108745192615 and parameters: {'boosting_type': 'goss', 'learning_rate': 0.09002345919545193, 'reg_alpha': 0.004133952792123508, 'reg_lambda': 2.671059103759378e-08, 'max_depth': 5, 'num_leaves': 50, 'colsample_bytree': 0.49857368860361095, 'min_child_samples': 7, 'max_bin': 34, 'subsample_freq': 3}. Best is trial 137 with value: 0.17512873362467118.\n"
     ]
    },
    {
     "name": "stdout",
     "output_type": "stream",
     "text": [
      "Repeat \u001b[1m\u001b[34m#1\n",
      "Repeat \u001b[1m\u001b[34m#2\n"
     ]
    },
    {
     "name": "stderr",
     "output_type": "stream",
     "text": [
      "[I 2023-06-29 13:36:33,736] Trial 489 finished with value: 0.19433978469287633 and parameters: {'boosting_type': 'goss', 'learning_rate': 0.09962956569991693, 'reg_alpha': 0.0002413022286631133, 'reg_lambda': 5.338122550246749e-08, 'max_depth': 5, 'num_leaves': 49, 'colsample_bytree': 0.5068501646424116, 'min_child_samples': 10, 'max_bin': 74, 'subsample_freq': 5}. Best is trial 137 with value: 0.17512873362467118.\n"
     ]
    },
    {
     "name": "stdout",
     "output_type": "stream",
     "text": [
      "Repeat \u001b[1m\u001b[34m#1\n",
      "Repeat \u001b[1m\u001b[34m#2\n"
     ]
    },
    {
     "name": "stderr",
     "output_type": "stream",
     "text": [
      "[I 2023-06-29 13:36:35,383] Trial 490 finished with value: 0.19735792950732794 and parameters: {'boosting_type': 'goss', 'learning_rate': 0.0733656152480978, 'reg_alpha': 4.3926596615223406e-08, 'reg_lambda': 3.607480671706313e-08, 'max_depth': 5, 'num_leaves': 40, 'colsample_bytree': 0.5284918030548407, 'min_child_samples': 6, 'max_bin': 32, 'subsample_freq': 3}. Best is trial 137 with value: 0.17512873362467118.\n"
     ]
    },
    {
     "name": "stdout",
     "output_type": "stream",
     "text": [
      "Repeat \u001b[1m\u001b[34m#1\n",
      "Repeat \u001b[1m\u001b[34m#2\n"
     ]
    },
    {
     "name": "stderr",
     "output_type": "stream",
     "text": [
      "[I 2023-06-29 13:36:52,490] Trial 491 finished with value: 0.19190861336053977 and parameters: {'boosting_type': 'goss', 'learning_rate': 0.002507750272749553, 'reg_alpha': 0.007178686360923461, 'reg_lambda': 7.508222036975552e-08, 'max_depth': 5, 'num_leaves': 42, 'colsample_bytree': 0.6948463276082936, 'min_child_samples': 8, 'max_bin': 38, 'subsample_freq': 3}. Best is trial 137 with value: 0.17512873362467118.\n"
     ]
    },
    {
     "name": "stdout",
     "output_type": "stream",
     "text": [
      "Repeat \u001b[1m\u001b[34m#1\n",
      "Repeat \u001b[1m\u001b[34m#2\n"
     ]
    },
    {
     "name": "stderr",
     "output_type": "stream",
     "text": [
      "[I 2023-06-29 13:36:54,167] Trial 492 finished with value: 0.19430410962271763 and parameters: {'boosting_type': 'goss', 'learning_rate': 0.06606838643223989, 'reg_alpha': 0.014003328494489216, 'reg_lambda': 0.002227149054067309, 'max_depth': 5, 'num_leaves': 46, 'colsample_bytree': 0.48650374639895044, 'min_child_samples': 10, 'max_bin': 148, 'subsample_freq': 6}. Best is trial 137 with value: 0.17512873362467118.\n"
     ]
    },
    {
     "name": "stdout",
     "output_type": "stream",
     "text": [
      "Repeat \u001b[1m\u001b[34m#1\n",
      "Repeat \u001b[1m\u001b[34m#2\n"
     ]
    },
    {
     "name": "stderr",
     "output_type": "stream",
     "text": [
      "[I 2023-06-29 13:36:55,481] Trial 493 finished with value: 0.19337127427459944 and parameters: {'boosting_type': 'goss', 'learning_rate': 0.09547057458985679, 'reg_alpha': 5.539901518355275e-06, 'reg_lambda': 0.0009010125429043059, 'max_depth': 5, 'num_leaves': 44, 'colsample_bytree': 0.5176848184464697, 'min_child_samples': 13, 'max_bin': 40, 'subsample_freq': 5}. Best is trial 137 with value: 0.17512873362467118.\n"
     ]
    },
    {
     "name": "stdout",
     "output_type": "stream",
     "text": [
      "Repeat \u001b[1m\u001b[34m#1\n",
      "Repeat \u001b[1m\u001b[34m#2\n"
     ]
    },
    {
     "name": "stderr",
     "output_type": "stream",
     "text": [
      "[I 2023-06-29 13:36:57,275] Trial 494 finished with value: 0.24450244168671892 and parameters: {'boosting_type': 'goss', 'learning_rate': 0.08113784262270876, 'reg_alpha': 0.0022911899609256896, 'reg_lambda': 1.834711960128451e-08, 'max_depth': 5, 'num_leaves': 53, 'colsample_bytree': 0.4729090006570437, 'min_child_samples': 49, 'max_bin': 40, 'subsample_freq': 3}. Best is trial 137 with value: 0.17512873362467118.\n"
     ]
    },
    {
     "name": "stdout",
     "output_type": "stream",
     "text": [
      "Repeat \u001b[1m\u001b[34m#1\n",
      "Repeat \u001b[1m\u001b[34m#2\n"
     ]
    },
    {
     "name": "stderr",
     "output_type": "stream",
     "text": [
      "[I 2023-06-29 13:37:01,644] Trial 495 finished with value: 0.19614301748917748 and parameters: {'boosting_type': 'goss', 'learning_rate': 0.0166704640287868, 'reg_alpha': 0.00010174247283561554, 'reg_lambda': 0.00487021230913702, 'max_depth': 5, 'num_leaves': 38, 'colsample_bytree': 0.6075479005153497, 'min_child_samples': 5, 'max_bin': 37, 'subsample_freq': 4}. Best is trial 137 with value: 0.17512873362467118.\n"
     ]
    },
    {
     "name": "stdout",
     "output_type": "stream",
     "text": [
      "Repeat \u001b[1m\u001b[34m#1\n",
      "Repeat \u001b[1m\u001b[34m#2\n"
     ]
    },
    {
     "name": "stderr",
     "output_type": "stream",
     "text": [
      "[I 2023-06-29 13:37:03,299] Trial 496 finished with value: 0.18905109881329474 and parameters: {'boosting_type': 'goss', 'learning_rate': 0.06954828876632534, 'reg_alpha': 0.026894022213178142, 'reg_lambda': 1.506604335113935e-07, 'max_depth': 5, 'num_leaves': 31, 'colsample_bytree': 0.5000214914411308, 'min_child_samples': 9, 'max_bin': 32, 'subsample_freq': 3}. Best is trial 137 with value: 0.17512873362467118.\n"
     ]
    },
    {
     "name": "stdout",
     "output_type": "stream",
     "text": [
      "Repeat \u001b[1m\u001b[34m#1\n",
      "Repeat \u001b[1m\u001b[34m#2\n"
     ]
    },
    {
     "name": "stderr",
     "output_type": "stream",
     "text": [
      "[I 2023-06-29 13:37:12,594] Trial 497 finished with value: 0.1955572984782874 and parameters: {'boosting_type': 'goss', 'learning_rate': 0.007353610502262417, 'reg_alpha': 2.6138486101329065e-06, 'reg_lambda': 0.0005900592428428943, 'max_depth': 5, 'num_leaves': 27, 'colsample_bytree': 0.5323206902769214, 'min_child_samples': 12, 'max_bin': 205, 'subsample_freq': 3}. Best is trial 137 with value: 0.17512873362467118.\n"
     ]
    },
    {
     "name": "stdout",
     "output_type": "stream",
     "text": [
      "Repeat \u001b[1m\u001b[34m#1\n",
      "Repeat \u001b[1m\u001b[34m#2\n"
     ]
    },
    {
     "name": "stderr",
     "output_type": "stream",
     "text": [
      "[I 2023-06-29 13:37:15,539] Trial 498 finished with value: 0.19269169244652112 and parameters: {'boosting_type': 'goss', 'learning_rate': 0.02717355989626348, 'reg_alpha': 0.056913410057037234, 'reg_lambda': 4.070858943965395e-06, 'max_depth': 5, 'num_leaves': 88, 'colsample_bytree': 0.6568513714531111, 'min_child_samples': 7, 'max_bin': 42, 'subsample_freq': 5}. Best is trial 137 with value: 0.17512873362467118.\n"
     ]
    },
    {
     "name": "stdout",
     "output_type": "stream",
     "text": [
      "Repeat \u001b[1m\u001b[34m#1\n",
      "Repeat \u001b[1m\u001b[34m#2\n"
     ]
    },
    {
     "name": "stderr",
     "output_type": "stream",
     "text": [
      "[I 2023-06-29 13:37:18,671] Trial 499 finished with value: 0.18865804930038893 and parameters: {'boosting_type': 'goss', 'learning_rate': 0.024003758901467036, 'reg_alpha': 5.961365914213668e-05, 'reg_lambda': 0.00153438405928476, 'max_depth': 5, 'num_leaves': 41, 'colsample_bytree': 0.34448550325088634, 'min_child_samples': 10, 'max_bin': 57, 'subsample_freq': 6}. Best is trial 137 with value: 0.17512873362467118.\n"
     ]
    },
    {
     "name": "stdout",
     "output_type": "stream",
     "text": [
      "Repeat \u001b[1m\u001b[34m#1\n",
      "Repeat \u001b[1m\u001b[34m#2\n"
     ]
    },
    {
     "name": "stderr",
     "output_type": "stream",
     "text": [
      "[I 2023-06-29 13:37:21,332] Trial 500 finished with value: 0.1962505773583314 and parameters: {'boosting_type': 'goss', 'learning_rate': 0.03157093934028059, 'reg_alpha': 1.2149985761625541e-08, 'reg_lambda': 6.282505098156173e-06, 'max_depth': 5, 'num_leaves': 47, 'colsample_bytree': 0.4560470501006958, 'min_child_samples': 15, 'max_bin': 47, 'subsample_freq': 3}. Best is trial 137 with value: 0.17512873362467118.\n"
     ]
    },
    {
     "name": "stdout",
     "output_type": "stream",
     "text": [
      "Repeat \u001b[1m\u001b[34m#1\n",
      "Repeat \u001b[1m\u001b[34m#2\n"
     ]
    },
    {
     "name": "stderr",
     "output_type": "stream",
     "text": [
      "[I 2023-06-29 13:37:24,949] Trial 501 finished with value: 0.18775801846883855 and parameters: {'boosting_type': 'goss', 'learning_rate': 0.02129412374013098, 'reg_alpha': 0.004599605379099399, 'reg_lambda': 0.0005414850283264577, 'max_depth': 5, 'num_leaves': 34, 'colsample_bytree': 0.4812455336534922, 'min_child_samples': 8, 'max_bin': 42, 'subsample_freq': 3}. Best is trial 137 with value: 0.17512873362467118.\n"
     ]
    },
    {
     "name": "stdout",
     "output_type": "stream",
     "text": [
      "Repeat \u001b[1m\u001b[34m#1\n",
      "Repeat \u001b[1m\u001b[34m#2\n"
     ]
    },
    {
     "name": "stderr",
     "output_type": "stream",
     "text": [
      "[I 2023-06-29 13:37:27,205] Trial 502 finished with value: 0.18592785620982855 and parameters: {'boosting_type': 'goss', 'learning_rate': 0.05924742894914142, 'reg_alpha': 1.3906247718621932e-05, 'reg_lambda': 1.3952965883500471e-08, 'max_depth': 7, 'num_leaves': 50, 'colsample_bytree': 0.44242894190326976, 'min_child_samples': 12, 'max_bin': 36, 'subsample_freq': 5}. Best is trial 137 with value: 0.17512873362467118.\n"
     ]
    },
    {
     "name": "stdout",
     "output_type": "stream",
     "text": [
      "Repeat \u001b[1m\u001b[34m#1\n",
      "Repeat \u001b[1m\u001b[34m#2\n"
     ]
    },
    {
     "name": "stderr",
     "output_type": "stream",
     "text": [
      "[I 2023-06-29 13:37:29,803] Trial 503 finished with value: 0.19517653921784484 and parameters: {'boosting_type': 'goss', 'learning_rate': 0.03866421878366206, 'reg_alpha': 7.523168955881958e-06, 'reg_lambda': 3.210684112807963e-08, 'max_depth': 5, 'num_leaves': 23, 'colsample_bytree': 0.5070792633494484, 'min_child_samples': 10, 'max_bin': 60, 'subsample_freq': 6}. Best is trial 137 with value: 0.17512873362467118.\n"
     ]
    },
    {
     "name": "stdout",
     "output_type": "stream",
     "text": [
      "Repeat \u001b[1m\u001b[34m#1\n",
      "Repeat \u001b[1m\u001b[34m#2\n"
     ]
    },
    {
     "name": "stderr",
     "output_type": "stream",
     "text": [
      "[I 2023-06-29 13:37:31,457] Trial 504 finished with value: 0.1930338984258388 and parameters: {'boosting_type': 'goss', 'learning_rate': 0.08025566554265372, 'reg_alpha': 1.8424452307492844e-08, 'reg_lambda': 5.489612398987288e-08, 'max_depth': 5, 'num_leaves': 30, 'colsample_bytree': 0.4923542463613801, 'min_child_samples': 7, 'max_bin': 47, 'subsample_freq': 3}. Best is trial 137 with value: 0.17512873362467118.\n"
     ]
    },
    {
     "name": "stdout",
     "output_type": "stream",
     "text": [
      "Repeat \u001b[1m\u001b[34m#1\n",
      "Repeat \u001b[1m\u001b[34m#2\n"
     ]
    },
    {
     "name": "stderr",
     "output_type": "stream",
     "text": [
      "[I 2023-06-29 13:37:35,442] Trial 505 finished with value: 0.18918892422006345 and parameters: {'boosting_type': 'goss', 'learning_rate': 0.07002770200589677, 'reg_alpha': 0.012430403746765321, 'reg_lambda': 9.964834712000683e-08, 'max_depth': 5, 'num_leaves': 38, 'colsample_bytree': 0.4649016133635644, 'min_child_samples': 13, 'max_bin': 52, 'subsample_freq': 4}. Best is trial 137 with value: 0.17512873362467118.\n"
     ]
    },
    {
     "name": "stdout",
     "output_type": "stream",
     "text": [
      "Repeat \u001b[1m\u001b[34m#1\n",
      "Repeat \u001b[1m\u001b[34m#2\n"
     ]
    },
    {
     "name": "stderr",
     "output_type": "stream",
     "text": [
      "[I 2023-06-29 13:37:39,132] Trial 506 finished with value: 0.1899227015962313 and parameters: {'boosting_type': 'goss', 'learning_rate': 0.03474190943922195, 'reg_alpha': 0.00016039180387256844, 'reg_lambda': 2.332343525388193e-08, 'max_depth': 5, 'num_leaves': 43, 'colsample_bytree': 0.5943384069834657, 'min_child_samples': 17, 'max_bin': 40, 'subsample_freq': 3}. Best is trial 137 with value: 0.17512873362467118.\n"
     ]
    },
    {
     "name": "stdout",
     "output_type": "stream",
     "text": [
      "Repeat \u001b[1m\u001b[34m#1\n",
      "Repeat \u001b[1m\u001b[34m#2\n"
     ]
    },
    {
     "name": "stderr",
     "output_type": "stream",
     "text": [
      "[I 2023-06-29 13:37:48,688] Trial 507 finished with value: 0.1926104396697881 and parameters: {'boosting_type': 'goss', 'learning_rate': 0.009562911294559965, 'reg_alpha': 0.018275081065831606, 'reg_lambda': 0.00034592286028274307, 'max_depth': 8, 'num_leaves': 52, 'colsample_bytree': 0.5232888145534109, 'min_child_samples': 11, 'max_bin': 124, 'subsample_freq': 3}. Best is trial 137 with value: 0.17512873362467118.\n"
     ]
    },
    {
     "name": "stdout",
     "output_type": "stream",
     "text": [
      "Repeat \u001b[1m\u001b[34m#1\n",
      "Repeat \u001b[1m\u001b[34m#2\n"
     ]
    },
    {
     "name": "stderr",
     "output_type": "stream",
     "text": [
      "[I 2023-06-29 13:38:02,435] Trial 508 finished with value: 0.1924549145392479 and parameters: {'boosting_type': 'goss', 'learning_rate': 0.004494801039866846, 'reg_alpha': 0.008536491806519678, 'reg_lambda': 0.0015431323096821712, 'max_depth': 5, 'num_leaves': 28, 'colsample_bytree': 0.5108667515286027, 'min_child_samples': 9, 'max_bin': 66, 'subsample_freq': 3}. Best is trial 137 with value: 0.17512873362467118.\n"
     ]
    },
    {
     "name": "stdout",
     "output_type": "stream",
     "text": [
      "Repeat \u001b[1m\u001b[34m#1\n",
      "Repeat \u001b[1m\u001b[34m#2\n"
     ]
    },
    {
     "name": "stderr",
     "output_type": "stream",
     "text": [
      "[I 2023-06-29 13:38:08,136] Trial 509 finished with value: 0.18650954174650114 and parameters: {'boosting_type': 'goss', 'learning_rate': 0.012319009145627832, 'reg_alpha': 7.048797353942658e-07, 'reg_lambda': 4.328632287800626e-08, 'max_depth': 5, 'num_leaves': 21, 'colsample_bytree': 0.6038292045596388, 'min_child_samples': 5, 'max_bin': 32, 'subsample_freq': 3}. Best is trial 137 with value: 0.17512873362467118.\n"
     ]
    },
    {
     "name": "stdout",
     "output_type": "stream",
     "text": [
      "Repeat \u001b[1m\u001b[34m#1\n",
      "Repeat \u001b[1m\u001b[34m#2\n"
     ]
    },
    {
     "name": "stderr",
     "output_type": "stream",
     "text": [
      "[I 2023-06-29 13:38:10,026] Trial 510 finished with value: 0.19182186199113055 and parameters: {'boosting_type': 'goss', 'learning_rate': 0.044267777316166636, 'reg_alpha': 0.0016602614466656829, 'reg_lambda': 1.005287683227409e-08, 'max_depth': 5, 'num_leaves': 25, 'colsample_bytree': 0.4770203691164597, 'min_child_samples': 15, 'max_bin': 45, 'subsample_freq': 5}. Best is trial 137 with value: 0.17512873362467118.\n"
     ]
    },
    {
     "name": "stdout",
     "output_type": "stream",
     "text": [
      "Repeat \u001b[1m\u001b[34m#1\n",
      "Repeat \u001b[1m\u001b[34m#2\n"
     ]
    },
    {
     "name": "stderr",
     "output_type": "stream",
     "text": [
      "[I 2023-06-29 13:38:23,927] Trial 511 finished with value: 0.18722271788915484 and parameters: {'boosting_type': 'goss', 'learning_rate': 0.004078792074491476, 'reg_alpha': 1.391464323079654e-07, 'reg_lambda': 2.3026530182787734e-05, 'max_depth': 5, 'num_leaves': 32, 'colsample_bytree': 0.5414092949729679, 'min_child_samples': 8, 'max_bin': 38, 'subsample_freq': 6}. Best is trial 137 with value: 0.17512873362467118.\n"
     ]
    },
    {
     "name": "stdout",
     "output_type": "stream",
     "text": [
      "Repeat \u001b[1m\u001b[34m#1\n",
      "Repeat \u001b[1m\u001b[34m#2\n"
     ]
    },
    {
     "name": "stderr",
     "output_type": "stream",
     "text": [
      "[I 2023-06-29 13:38:25,551] Trial 512 finished with value: 0.1817963236579664 and parameters: {'boosting_type': 'goss', 'learning_rate': 0.07569044997855724, 'reg_alpha': 4.618456271368883e-05, 'reg_lambda': 0.00021703810743784846, 'max_depth': 7, 'num_leaves': 35, 'colsample_bytree': 0.4487488291219833, 'min_child_samples': 11, 'max_bin': 50, 'subsample_freq': 3}. Best is trial 137 with value: 0.17512873362467118.\n"
     ]
    },
    {
     "name": "stdout",
     "output_type": "stream",
     "text": [
      "Repeat \u001b[1m\u001b[34m#1\n",
      "Repeat \u001b[1m\u001b[34m#2\n"
     ]
    },
    {
     "name": "stderr",
     "output_type": "stream",
     "text": [
      "[I 2023-06-29 13:38:40,018] Trial 513 finished with value: 0.19766219755232084 and parameters: {'boosting_type': 'goss', 'learning_rate': 0.003622071106567065, 'reg_alpha': 4.255423430203347e-05, 'reg_lambda': 0.0007513946120479107, 'max_depth': 7, 'num_leaves': 36, 'colsample_bytree': 0.4527560738347769, 'min_child_samples': 13, 'max_bin': 57, 'subsample_freq': 3}. Best is trial 137 with value: 0.17512873362467118.\n"
     ]
    },
    {
     "name": "stdout",
     "output_type": "stream",
     "text": [
      "Repeat \u001b[1m\u001b[34m#1\n",
      "Repeat \u001b[1m\u001b[34m#2\n"
     ]
    },
    {
     "name": "stderr",
     "output_type": "stream",
     "text": [
      "[I 2023-06-29 13:38:41,471] Trial 514 finished with value: 0.203220606818298 and parameters: {'boosting_type': 'goss', 'learning_rate': 0.09132900136775957, 'reg_alpha': 8.615625717673236e-05, 'reg_lambda': 2.5071369662418743e-07, 'max_depth': 7, 'num_leaves': 40, 'colsample_bytree': 0.43748827413584473, 'min_child_samples': 11, 'max_bin': 55, 'subsample_freq': 4}. Best is trial 137 with value: 0.17512873362467118.\n"
     ]
    },
    {
     "name": "stdout",
     "output_type": "stream",
     "text": [
      "Repeat \u001b[1m\u001b[34m#1\n",
      "Repeat \u001b[1m\u001b[34m#2\n"
     ]
    },
    {
     "name": "stderr",
     "output_type": "stream",
     "text": [
      "[I 2023-06-29 13:38:43,336] Trial 515 finished with value: 0.20649048376157703 and parameters: {'boosting_type': 'goss', 'learning_rate': 0.0805396537170171, 'reg_alpha': 4.46086753292963, 'reg_lambda': 2.9681892129184726e-06, 'max_depth': 7, 'num_leaves': 34, 'colsample_bytree': 0.4557035729650785, 'min_child_samples': 14, 'max_bin': 141, 'subsample_freq': 3}. Best is trial 137 with value: 0.17512873362467118.\n"
     ]
    },
    {
     "name": "stdout",
     "output_type": "stream",
     "text": [
      "Repeat \u001b[1m\u001b[34m#1\n",
      "Repeat \u001b[1m\u001b[34m#2\n"
     ]
    },
    {
     "name": "stderr",
     "output_type": "stream",
     "text": [
      "[I 2023-06-29 13:38:44,843] Trial 516 finished with value: 0.19146933986533676 and parameters: {'boosting_type': 'goss', 'learning_rate': 0.07336298332888826, 'reg_alpha': 5.732757115351491e-05, 'reg_lambda': 0.00029212409411345867, 'max_depth': 7, 'num_leaves': 39, 'colsample_bytree': 0.4300936709831093, 'min_child_samples': 18, 'max_bin': 50, 'subsample_freq': 6}. Best is trial 137 with value: 0.17512873362467118.\n"
     ]
    },
    {
     "name": "stdout",
     "output_type": "stream",
     "text": [
      "Repeat \u001b[1m\u001b[34m#1\n",
      "Repeat \u001b[1m\u001b[34m#2\n"
     ]
    },
    {
     "name": "stderr",
     "output_type": "stream",
     "text": [
      "[I 2023-06-29 13:38:46,332] Trial 517 finished with value: 0.19549459081648943 and parameters: {'boosting_type': 'goss', 'learning_rate': 0.0759848526435507, 'reg_alpha': 3.599498431296476e-05, 'reg_lambda': 7.090610551340699e-05, 'max_depth': 7, 'num_leaves': 35, 'colsample_bytree': 0.4664856472460278, 'min_child_samples': 12, 'max_bin': 62, 'subsample_freq': 5}. Best is trial 137 with value: 0.17512873362467118.\n"
     ]
    },
    {
     "name": "stdout",
     "output_type": "stream",
     "text": [
      "Repeat \u001b[1m\u001b[34m#1\n",
      "Repeat \u001b[1m\u001b[34m#2\n"
     ]
    },
    {
     "name": "stderr",
     "output_type": "stream",
     "text": [
      "[I 2023-06-29 13:38:48,076] Trial 518 finished with value: 0.18587822676320434 and parameters: {'boosting_type': 'goss', 'learning_rate': 0.065882441526734, 'reg_alpha': 2.765728024090127e-05, 'reg_lambda': 7.437425166454634e-05, 'max_depth': 7, 'num_leaves': 37, 'colsample_bytree': 0.44875116429570194, 'min_child_samples': 10, 'max_bin': 52, 'subsample_freq': 7}. Best is trial 137 with value: 0.17512873362467118.\n"
     ]
    },
    {
     "name": "stdout",
     "output_type": "stream",
     "text": [
      "Repeat \u001b[1m\u001b[34m#1\n",
      "Repeat \u001b[1m\u001b[34m#2\n"
     ]
    },
    {
     "name": "stderr",
     "output_type": "stream",
     "text": [
      "[I 2023-06-29 13:38:49,376] Trial 519 finished with value: 0.2031131113092589 and parameters: {'boosting_type': 'goss', 'learning_rate': 0.08897186498000915, 'reg_alpha': 1.5795496507463125e-05, 'reg_lambda': 1.1207070363016852e-05, 'max_depth': 7, 'num_leaves': 48, 'colsample_bytree': 0.4287936233313092, 'min_child_samples': 16, 'max_bin': 49, 'subsample_freq': 3}. Best is trial 137 with value: 0.17512873362467118.\n"
     ]
    },
    {
     "name": "stdout",
     "output_type": "stream",
     "text": [
      "Repeat \u001b[1m\u001b[34m#1\n",
      "Repeat \u001b[1m\u001b[34m#2\n"
     ]
    },
    {
     "name": "stderr",
     "output_type": "stream",
     "text": [
      "[I 2023-06-29 13:38:51,579] Trial 520 finished with value: 0.2689597132958471 and parameters: {'boosting_type': 'goss', 'learning_rate': 0.06038208132294013, 'reg_alpha': 0.002887928780772673, 'reg_lambda': 4.336337941930632e-05, 'max_depth': 7, 'num_leaves': 55, 'colsample_bytree': 0.4440704959291785, 'min_child_samples': 53, 'max_bin': 78, 'subsample_freq': 3}. Best is trial 137 with value: 0.17512873362467118.\n"
     ]
    },
    {
     "name": "stdout",
     "output_type": "stream",
     "text": [
      "Repeat \u001b[1m\u001b[34m#1\n",
      "Repeat \u001b[1m\u001b[34m#2\n"
     ]
    },
    {
     "name": "stderr",
     "output_type": "stream",
     "text": [
      "[I 2023-06-29 13:38:53,306] Trial 521 finished with value: 0.1913469717586565 and parameters: {'boosting_type': 'goss', 'learning_rate': 0.0564156736875248, 'reg_alpha': 2.1300122103528974e-05, 'reg_lambda': 0.0004945068589078689, 'max_depth': 7, 'num_leaves': 43, 'colsample_bytree': 0.44492334049044435, 'min_child_samples': 12, 'max_bin': 71, 'subsample_freq': 2}. Best is trial 137 with value: 0.17512873362467118.\n"
     ]
    },
    {
     "name": "stdout",
     "output_type": "stream",
     "text": [
      "Repeat \u001b[1m\u001b[34m#1\n",
      "Repeat \u001b[1m\u001b[34m#2\n"
     ]
    },
    {
     "name": "stderr",
     "output_type": "stream",
     "text": [
      "[I 2023-06-29 13:38:54,843] Trial 522 finished with value: 0.19768497929023499 and parameters: {'boosting_type': 'goss', 'learning_rate': 0.06655616417716045, 'reg_alpha': 0.00012193584513347037, 'reg_lambda': 2.132503807590262e-06, 'max_depth': 7, 'num_leaves': 45, 'colsample_bytree': 0.4859204828722048, 'min_child_samples': 14, 'max_bin': 45, 'subsample_freq': 5}. Best is trial 137 with value: 0.17512873362467118.\n"
     ]
    },
    {
     "name": "stdout",
     "output_type": "stream",
     "text": [
      "Repeat \u001b[1m\u001b[34m#1\n",
      "Repeat \u001b[1m\u001b[34m#2\n"
     ]
    },
    {
     "name": "stderr",
     "output_type": "stream",
     "text": [
      "[I 2023-06-29 13:39:06,980] Trial 523 finished with value: 0.19279641475897288 and parameters: {'boosting_type': 'goss', 'learning_rate': 0.004624768086313306, 'reg_alpha': 0.005241417333358637, 'reg_lambda': 8.606877467964143e-05, 'max_depth': 8, 'num_leaves': 40, 'colsample_bytree': 0.49647744381272346, 'min_child_samples': 10, 'max_bin': 56, 'subsample_freq': 3}. Best is trial 137 with value: 0.17512873362467118.\n"
     ]
    },
    {
     "name": "stdout",
     "output_type": "stream",
     "text": [
      "Repeat \u001b[1m\u001b[34m#1\n",
      "Repeat \u001b[1m\u001b[34m#2\n"
     ]
    },
    {
     "name": "stderr",
     "output_type": "stream",
     "text": [
      "[I 2023-06-29 13:39:18,518] Trial 524 finished with value: 0.18763847458034266 and parameters: {'boosting_type': 'goss', 'learning_rate': 0.005655866386762755, 'reg_alpha': 4.1242460113114515e-05, 'reg_lambda': 7.168583266517971e-06, 'max_depth': 5, 'num_leaves': 32, 'colsample_bytree': 0.5186359705575634, 'min_child_samples': 9, 'max_bin': 50, 'subsample_freq': 3}. Best is trial 137 with value: 0.17512873362467118.\n"
     ]
    },
    {
     "name": "stdout",
     "output_type": "stream",
     "text": [
      "Repeat \u001b[1m\u001b[34m#1\n",
      "Repeat \u001b[1m\u001b[34m#2\n"
     ]
    },
    {
     "name": "stderr",
     "output_type": "stream",
     "text": [
      "[I 2023-06-29 13:39:20,244] Trial 525 finished with value: 0.18383246543262544 and parameters: {'boosting_type': 'goss', 'learning_rate': 0.07840986020185774, 'reg_alpha': 1.1338794682394673e-05, 'reg_lambda': 1.4794088434102261e-05, 'max_depth': 5, 'num_leaves': 36, 'colsample_bytree': 0.4713651673094536, 'min_child_samples': 12, 'max_bin': 43, 'subsample_freq': 3}. Best is trial 137 with value: 0.17512873362467118.\n"
     ]
    },
    {
     "name": "stdout",
     "output_type": "stream",
     "text": [
      "Repeat \u001b[1m\u001b[34m#1\n",
      "Repeat \u001b[1m\u001b[34m#2\n"
     ]
    },
    {
     "name": "stderr",
     "output_type": "stream",
     "text": [
      "[I 2023-06-29 13:39:21,706] Trial 526 finished with value: 0.19456052852024333 and parameters: {'boosting_type': 'goss', 'learning_rate': 0.08467306304243563, 'reg_alpha': 3.173591504892051e-08, 'reg_lambda': 0.0002046240982723354, 'max_depth': 5, 'num_leaves': 37, 'colsample_bytree': 0.47816517630839117, 'min_child_samples': 12, 'max_bin': 42, 'subsample_freq': 3}. Best is trial 137 with value: 0.17512873362467118.\n"
     ]
    },
    {
     "name": "stdout",
     "output_type": "stream",
     "text": [
      "Repeat \u001b[1m\u001b[34m#1\n",
      "Repeat \u001b[1m\u001b[34m#2\n"
     ]
    },
    {
     "name": "stderr",
     "output_type": "stream",
     "text": [
      "[I 2023-06-29 13:39:23,368] Trial 527 finished with value: 0.19574254957415393 and parameters: {'boosting_type': 'goss', 'learning_rate': 0.07747934315629146, 'reg_alpha': 1.323482305754918e-05, 'reg_lambda': 0.0001685508708596028, 'max_depth': 5, 'num_leaves': 36, 'colsample_bytree': 0.43707470589511654, 'min_child_samples': 7, 'max_bin': 46, 'subsample_freq': 3}. Best is trial 137 with value: 0.17512873362467118.\n"
     ]
    },
    {
     "name": "stdout",
     "output_type": "stream",
     "text": [
      "Repeat \u001b[1m\u001b[34m#1\n",
      "Repeat \u001b[1m\u001b[34m#2\n"
     ]
    },
    {
     "name": "stderr",
     "output_type": "stream",
     "text": [
      "[I 2023-06-29 13:39:24,700] Trial 528 finished with value: 0.19766784084607458 and parameters: {'boosting_type': 'goss', 'learning_rate': 0.09787673509871035, 'reg_alpha': 3.8162117365709826e-06, 'reg_lambda': 7.370531926505745e-06, 'max_depth': 5, 'num_leaves': 41, 'colsample_bytree': 0.48873530173843865, 'min_child_samples': 10, 'max_bin': 61, 'subsample_freq': 3}. Best is trial 137 with value: 0.17512873362467118.\n"
     ]
    },
    {
     "name": "stdout",
     "output_type": "stream",
     "text": [
      "Repeat \u001b[1m\u001b[34m#1\n",
      "Repeat \u001b[1m\u001b[34m#2\n"
     ]
    },
    {
     "name": "stderr",
     "output_type": "stream",
     "text": [
      "[I 2023-06-29 13:39:26,155] Trial 529 finished with value: 0.20223014793799418 and parameters: {'boosting_type': 'goss', 'learning_rate': 0.07571711248903377, 'reg_alpha': 6.365458393177606e-05, 'reg_lambda': 2.1768816567200266e-05, 'max_depth': 5, 'num_leaves': 35, 'colsample_bytree': 0.50169814560818, 'min_child_samples': 11, 'max_bin': 36, 'subsample_freq': 3}. Best is trial 137 with value: 0.17512873362467118.\n"
     ]
    },
    {
     "name": "stdout",
     "output_type": "stream",
     "text": [
      "Repeat \u001b[1m\u001b[34m#1\n",
      "Repeat \u001b[1m\u001b[34m#2\n"
     ]
    },
    {
     "name": "stderr",
     "output_type": "stream",
     "text": [
      "[I 2023-06-29 13:39:27,725] Trial 530 finished with value: 0.19222482187795356 and parameters: {'boosting_type': 'goss', 'learning_rate': 0.07023950646488493, 'reg_alpha': 0.00044309170988598523, 'reg_lambda': 1.5944396955264223e-06, 'max_depth': 5, 'num_leaves': 39, 'colsample_bytree': 0.4186973414616784, 'min_child_samples': 7, 'max_bin': 54, 'subsample_freq': 3}. Best is trial 137 with value: 0.17512873362467118.\n"
     ]
    },
    {
     "name": "stdout",
     "output_type": "stream",
     "text": [
      "Repeat \u001b[1m\u001b[34m#1\n",
      "Repeat \u001b[1m\u001b[34m#2\n"
     ]
    },
    {
     "name": "stderr",
     "output_type": "stream",
     "text": [
      "[I 2023-06-29 13:39:29,436] Trial 531 finished with value: 0.18880084922805968 and parameters: {'boosting_type': 'goss', 'learning_rate': 0.08959650166440636, 'reg_alpha': 5.005488658051403e-07, 'reg_lambda': 2.6223685234361253e-05, 'max_depth': 5, 'num_leaves': 46, 'colsample_bytree': 0.5292754423095828, 'min_child_samples': 9, 'max_bin': 47, 'subsample_freq': 3}. Best is trial 137 with value: 0.17512873362467118.\n"
     ]
    },
    {
     "name": "stdout",
     "output_type": "stream",
     "text": [
      "Repeat \u001b[1m\u001b[34m#1\n",
      "Repeat \u001b[1m\u001b[34m#2\n"
     ]
    },
    {
     "name": "stderr",
     "output_type": "stream",
     "text": [
      "[I 2023-06-29 13:39:31,058] Trial 532 finished with value: 0.1852207245282161 and parameters: {'boosting_type': 'goss', 'learning_rate': 0.06313203697431671, 'reg_alpha': 0.0002686282872326279, 'reg_lambda': 0.00030963689488932, 'max_depth': 5, 'num_leaves': 53, 'colsample_bytree': 0.47215017120184744, 'min_child_samples': 12, 'max_bin': 41, 'subsample_freq': 3}. Best is trial 137 with value: 0.17512873362467118.\n"
     ]
    },
    {
     "name": "stdout",
     "output_type": "stream",
     "text": [
      "Repeat \u001b[1m\u001b[34m#1\n",
      "Repeat \u001b[1m\u001b[34m#2\n"
     ]
    },
    {
     "name": "stderr",
     "output_type": "stream",
     "text": [
      "[I 2023-06-29 13:39:32,579] Trial 533 finished with value: 0.2103825410291143 and parameters: {'boosting_type': 'goss', 'learning_rate': 0.08134594337472278, 'reg_alpha': 1.261063485037065, 'reg_lambda': 4.287591835610367e-06, 'max_depth': 5, 'num_leaves': 38, 'colsample_bytree': 0.4947384697994212, 'min_child_samples': 9, 'max_bin': 49, 'subsample_freq': 3}. Best is trial 137 with value: 0.17512873362467118.\n"
     ]
    },
    {
     "name": "stdout",
     "output_type": "stream",
     "text": [
      "Repeat \u001b[1m\u001b[34m#1\n",
      "Repeat \u001b[1m\u001b[34m#2\n"
     ]
    },
    {
     "name": "stderr",
     "output_type": "stream",
     "text": [
      "[I 2023-06-29 13:39:34,283] Trial 534 finished with value: 0.18649320387361634 and parameters: {'boosting_type': 'goss', 'learning_rate': 0.06978277222668737, 'reg_alpha': 2.7616282454810125e-05, 'reg_lambda': 5.756573526884397e-05, 'max_depth': 5, 'num_leaves': 42, 'colsample_bytree': 0.51090966428469, 'min_child_samples': 7, 'max_bin': 38, 'subsample_freq': 4}. Best is trial 137 with value: 0.17512873362467118.\n"
     ]
    },
    {
     "name": "stdout",
     "output_type": "stream",
     "text": [
      "Repeat \u001b[1m\u001b[34m#1\n",
      "Repeat \u001b[1m\u001b[34m#2\n"
     ]
    },
    {
     "name": "stderr",
     "output_type": "stream",
     "text": [
      "[I 2023-06-29 13:39:36,129] Trial 535 finished with value: 0.19182547727483673 and parameters: {'boosting_type': 'goss', 'learning_rate': 0.06453708205990762, 'reg_alpha': 0.0009236868844369059, 'reg_lambda': 1.7518988131764154e-05, 'max_depth': 5, 'num_leaves': 34, 'colsample_bytree': 0.4857884086209516, 'min_child_samples': 12, 'max_bin': 52, 'subsample_freq': 3}. Best is trial 137 with value: 0.17512873362467118.\n"
     ]
    },
    {
     "name": "stdout",
     "output_type": "stream",
     "text": [
      "Repeat \u001b[1m\u001b[34m#1\n",
      "Repeat \u001b[1m\u001b[34m#2\n"
     ]
    },
    {
     "name": "stderr",
     "output_type": "stream",
     "text": [
      "[I 2023-06-29 13:39:37,870] Trial 536 finished with value: 0.19367584352858425 and parameters: {'boosting_type': 'goss', 'learning_rate': 0.058053468833688684, 'reg_alpha': 3.436126903771114e-07, 'reg_lambda': 1.6821623257121498e-05, 'max_depth': 5, 'num_leaves': 51, 'colsample_bytree': 0.5039078643758392, 'min_child_samples': 10, 'max_bin': 66, 'subsample_freq': 3}. Best is trial 137 with value: 0.17512873362467118.\n"
     ]
    },
    {
     "name": "stdout",
     "output_type": "stream",
     "text": [
      "Repeat \u001b[1m\u001b[34m#1\n",
      "Repeat \u001b[1m\u001b[34m#2\n"
     ]
    },
    {
     "name": "stderr",
     "output_type": "stream",
     "text": [
      "[I 2023-06-29 13:39:40,989] Trial 537 finished with value: 0.19718677173964916 and parameters: {'boosting_type': 'goss', 'learning_rate': 0.029287528225713694, 'reg_alpha': 9.651940688442728e-05, 'reg_lambda': 0.005143797045690364, 'max_depth': 5, 'num_leaves': 73, 'colsample_bytree': 0.46054057842611995, 'min_child_samples': 5, 'max_bin': 43, 'subsample_freq': 3}. Best is trial 137 with value: 0.17512873362467118.\n"
     ]
    },
    {
     "name": "stdout",
     "output_type": "stream",
     "text": [
      "Repeat \u001b[1m\u001b[34m#1\n",
      "Repeat \u001b[1m\u001b[34m#2\n"
     ]
    },
    {
     "name": "stderr",
     "output_type": "stream",
     "text": [
      "[I 2023-06-29 13:39:42,255] Trial 538 finished with value: 0.21633910757313085 and parameters: {'boosting_type': 'goss', 'learning_rate': 0.07887223347976609, 'reg_alpha': 6.126715320060321e-08, 'reg_lambda': 0.00010102758979559465, 'max_depth': 5, 'num_leaves': 58, 'colsample_bytree': 0.5352424636203879, 'min_child_samples': 29, 'max_bin': 58, 'subsample_freq': 2}. Best is trial 137 with value: 0.17512873362467118.\n"
     ]
    },
    {
     "name": "stdout",
     "output_type": "stream",
     "text": [
      "Repeat \u001b[1m\u001b[34m#1\n",
      "Repeat \u001b[1m\u001b[34m#2\n"
     ]
    },
    {
     "name": "stderr",
     "output_type": "stream",
     "text": [
      "[I 2023-06-29 13:39:44,045] Trial 539 finished with value: 0.1871495877433053 and parameters: {'boosting_type': 'goss', 'learning_rate': 0.051819006854713336, 'reg_alpha': 0.1146276915801614, 'reg_lambda': 0.00015944507391888127, 'max_depth': 5, 'num_leaves': 49, 'colsample_bytree': 0.5259256062854377, 'min_child_samples': 14, 'max_bin': 35, 'subsample_freq': 3}. Best is trial 137 with value: 0.17512873362467118.\n"
     ]
    },
    {
     "name": "stdout",
     "output_type": "stream",
     "text": [
      "Repeat \u001b[1m\u001b[34m#1\n",
      "Repeat \u001b[1m\u001b[34m#2\n"
     ]
    },
    {
     "name": "stderr",
     "output_type": "stream",
     "text": [
      "[I 2023-06-29 13:39:45,928] Trial 540 finished with value: 0.4255458103624119 and parameters: {'boosting_type': 'goss', 'learning_rate': 0.012474780387382336, 'reg_alpha': 1.039970090567726e-06, 'reg_lambda': 1.1620613801124846e-06, 'max_depth': 5, 'num_leaves': 44, 'colsample_bytree': 0.4937142560887296, 'min_child_samples': 61, 'max_bin': 43, 'subsample_freq': 5}. Best is trial 137 with value: 0.17512873362467118.\n"
     ]
    },
    {
     "name": "stdout",
     "output_type": "stream",
     "text": [
      "Repeat \u001b[1m\u001b[34m#1\n",
      "Repeat \u001b[1m\u001b[34m#2\n"
     ]
    },
    {
     "name": "stderr",
     "output_type": "stream",
     "text": [
      "[I 2023-06-29 13:39:56,614] Trial 541 finished with value: 0.19353872726093463 and parameters: {'boosting_type': 'goss', 'learning_rate': 0.005067934696488478, 'reg_alpha': 0.011299654044022653, 'reg_lambda': 3.9080256954965916e-05, 'max_depth': 5, 'num_leaves': 56, 'colsample_bytree': 0.4112574022208681, 'min_child_samples': 11, 'max_bin': 32, 'subsample_freq': 3}. Best is trial 137 with value: 0.17512873362467118.\n"
     ]
    },
    {
     "name": "stdout",
     "output_type": "stream",
     "text": [
      "Repeat \u001b[1m\u001b[34m#1\n",
      "Repeat \u001b[1m\u001b[34m#2\n"
     ]
    },
    {
     "name": "stderr",
     "output_type": "stream",
     "text": [
      "[I 2023-06-29 13:39:57,995] Trial 542 finished with value: 0.1942224623127489 and parameters: {'boosting_type': 'goss', 'learning_rate': 0.07422868857101213, 'reg_alpha': 1.966046342665915e-05, 'reg_lambda': 0.1354844716598579, 'max_depth': 5, 'num_leaves': 32, 'colsample_bytree': 0.4827788114083487, 'min_child_samples': 8, 'max_bin': 93, 'subsample_freq': 3}. Best is trial 137 with value: 0.17512873362467118.\n"
     ]
    },
    {
     "name": "stdout",
     "output_type": "stream",
     "text": [
      "Repeat \u001b[1m\u001b[34m#1\n",
      "Repeat \u001b[1m\u001b[34m#2\n"
     ]
    },
    {
     "name": "stderr",
     "output_type": "stream",
     "text": [
      "[I 2023-06-29 13:40:08,218] Trial 543 finished with value: 0.25444877477335753 and parameters: {'boosting_type': 'goss', 'learning_rate': 0.0035701751309301327, 'reg_alpha': 4.0217378152098744e-05, 'reg_lambda': 0.0010518025466124768, 'max_depth': 5, 'num_leaves': 67, 'colsample_bytree': 0.5137482185160016, 'min_child_samples': 40, 'max_bin': 49, 'subsample_freq': 4}. Best is trial 137 with value: 0.17512873362467118.\n"
     ]
    },
    {
     "name": "stdout",
     "output_type": "stream",
     "text": [
      "Repeat \u001b[1m\u001b[34m#1\n",
      "Repeat \u001b[1m\u001b[34m#2\n"
     ]
    },
    {
     "name": "stderr",
     "output_type": "stream",
     "text": [
      "[I 2023-06-29 13:40:10,911] Trial 544 finished with value: 0.19479406239970792 and parameters: {'boosting_type': 'goss', 'learning_rate': 0.03194851349416613, 'reg_alpha': 0.9081923280721467, 'reg_lambda': 1.0670185568407221e-05, 'max_depth': 5, 'num_leaves': 37, 'colsample_bytree': 0.4732488322812443, 'min_child_samples': 13, 'max_bin': 39, 'subsample_freq': 3}. Best is trial 137 with value: 0.17512873362467118.\n"
     ]
    },
    {
     "name": "stdout",
     "output_type": "stream",
     "text": [
      "Repeat \u001b[1m\u001b[34m#1\n",
      "Repeat \u001b[1m\u001b[34m#2\n"
     ]
    },
    {
     "name": "stderr",
     "output_type": "stream",
     "text": [
      "[I 2023-06-29 13:40:12,355] Trial 545 finished with value: 0.1977024110809018 and parameters: {'boosting_type': 'goss', 'learning_rate': 0.08648227854295691, 'reg_alpha': 7.1971284091071684e-06, 'reg_lambda': 0.0027057067500708973, 'max_depth': 5, 'num_leaves': 40, 'colsample_bytree': 0.4207449654186314, 'min_child_samples': 6, 'max_bin': 54, 'subsample_freq': 5}. Best is trial 137 with value: 0.17512873362467118.\n"
     ]
    },
    {
     "name": "stdout",
     "output_type": "stream",
     "text": [
      "Repeat \u001b[1m\u001b[34m#1\n",
      "Repeat \u001b[1m\u001b[34m#2\n"
     ]
    },
    {
     "name": "stderr",
     "output_type": "stream",
     "text": [
      "[I 2023-06-29 13:40:15,656] Trial 546 finished with value: 0.19300799551116463 and parameters: {'boosting_type': 'goss', 'learning_rate': 0.02322345170282278, 'reg_alpha': 0.2280278034364166, 'reg_lambda': 0.00045689535539668953, 'max_depth': 5, 'num_leaves': 35, 'colsample_bytree': 0.5020410202882077, 'min_child_samples': 9, 'max_bin': 46, 'subsample_freq': 3}. Best is trial 137 with value: 0.17512873362467118.\n"
     ]
    },
    {
     "name": "stdout",
     "output_type": "stream",
     "text": [
      "Repeat \u001b[1m\u001b[34m#1\n",
      "Repeat \u001b[1m\u001b[34m#2\n"
     ]
    },
    {
     "name": "stderr",
     "output_type": "stream",
     "text": [
      "[I 2023-06-29 13:40:17,238] Trial 547 finished with value: 0.1926517792859365 and parameters: {'boosting_type': 'goss', 'learning_rate': 0.06136708696044353, 'reg_alpha': 0.00226021650126199, 'reg_lambda': 1.3844094585800282e-07, 'max_depth': 5, 'num_leaves': 47, 'colsample_bytree': 0.5981850317216246, 'min_child_samples': 15, 'max_bin': 41, 'subsample_freq': 3}. Best is trial 137 with value: 0.17512873362467118.\n"
     ]
    },
    {
     "name": "stdout",
     "output_type": "stream",
     "text": [
      "Repeat \u001b[1m\u001b[34m#1\n",
      "Repeat \u001b[1m\u001b[34m#2\n"
     ]
    },
    {
     "name": "stderr",
     "output_type": "stream",
     "text": [
      "[I 2023-06-29 13:40:18,867] Trial 548 finished with value: 0.18510997601343057 and parameters: {'boosting_type': 'goss', 'learning_rate': 0.06915991149849096, 'reg_alpha': 0.006882029567132411, 'reg_lambda': 4.6700349293267024e-06, 'max_depth': 5, 'num_leaves': 33, 'colsample_bytree': 0.4247267036691558, 'min_child_samples': 11, 'max_bin': 37, 'subsample_freq': 3}. Best is trial 137 with value: 0.17512873362467118.\n"
     ]
    },
    {
     "name": "stdout",
     "output_type": "stream",
     "text": [
      "Repeat \u001b[1m\u001b[34m#1\n",
      "Repeat \u001b[1m\u001b[34m#2\n"
     ]
    },
    {
     "name": "stderr",
     "output_type": "stream",
     "text": [
      "[I 2023-06-29 13:40:36,402] Trial 549 finished with value: 0.24617432938234618 and parameters: {'boosting_type': 'goss', 'learning_rate': 0.0013462041247907263, 'reg_alpha': 0.00017561017112812858, 'reg_lambda': 0.00027825632296151186, 'max_depth': 5, 'num_leaves': 53, 'colsample_bytree': 0.4506491227792183, 'min_child_samples': 8, 'max_bin': 46, 'subsample_freq': 5}. Best is trial 137 with value: 0.17512873362467118.\n"
     ]
    },
    {
     "name": "stdout",
     "output_type": "stream",
     "text": [
      "Repeat \u001b[1m\u001b[34m#1\n",
      "Repeat \u001b[1m\u001b[34m#2\n"
     ]
    },
    {
     "name": "stderr",
     "output_type": "stream",
     "text": [
      "[I 2023-06-29 13:40:38,027] Trial 550 finished with value: 0.19906989030191335 and parameters: {'boosting_type': 'goss', 'learning_rate': 0.055072326615188016, 'reg_alpha': 0.0006645516077222691, 'reg_lambda': 1.9554755509810833e-07, 'max_depth': 5, 'num_leaves': 42, 'colsample_bytree': 0.5451281834513207, 'min_child_samples': 13, 'max_bin': 59, 'subsample_freq': 4}. Best is trial 137 with value: 0.17512873362467118.\n"
     ]
    },
    {
     "name": "stdout",
     "output_type": "stream",
     "text": [
      "Repeat \u001b[1m\u001b[34m#1\n",
      "Repeat \u001b[1m\u001b[34m#2\n"
     ]
    },
    {
     "name": "stderr",
     "output_type": "stream",
     "text": [
      "[I 2023-06-29 13:40:41,504] Trial 551 finished with value: 0.18504975978502508 and parameters: {'boosting_type': 'goss', 'learning_rate': 0.026786776191037927, 'reg_alpha': 0.00404332718911366, 'reg_lambda': 1.8285363587906855e-06, 'max_depth': 5, 'num_leaves': 63, 'colsample_bytree': 0.5212671144049649, 'min_child_samples': 10, 'max_bin': 51, 'subsample_freq': 3}. Best is trial 137 with value: 0.17512873362467118.\n"
     ]
    },
    {
     "name": "stdout",
     "output_type": "stream",
     "text": [
      "Repeat \u001b[1m\u001b[34m#1\n",
      "Repeat \u001b[1m\u001b[34m#2\n"
     ]
    },
    {
     "name": "stderr",
     "output_type": "stream",
     "text": [
      "[I 2023-06-29 13:40:50,169] Trial 552 finished with value: 0.22227831845205115 and parameters: {'boosting_type': 'goss', 'learning_rate': 0.01078009461322329, 'reg_alpha': 9.913665271920912, 'reg_lambda': 1.494039320201236e-05, 'max_depth': 5, 'num_leaves': 38, 'colsample_bytree': 0.48952897591581884, 'min_child_samples': 6, 'max_bin': 43, 'subsample_freq': 3}. Best is trial 137 with value: 0.17512873362467118.\n"
     ]
    },
    {
     "name": "stdout",
     "output_type": "stream",
     "text": [
      "Repeat \u001b[1m\u001b[34m#1\n",
      "Repeat \u001b[1m\u001b[34m#2\n"
     ]
    },
    {
     "name": "stderr",
     "output_type": "stream",
     "text": [
      "[I 2023-06-29 13:40:52,528] Trial 553 finished with value: 0.19258300866313927 and parameters: {'boosting_type': 'goss', 'learning_rate': 0.03643240053686002, 'reg_alpha': 7.000073914017388e-05, 'reg_lambda': 3.008520967208573e-06, 'max_depth': 5, 'num_leaves': 30, 'colsample_bytree': 0.4118118268671201, 'min_child_samples': 11, 'max_bin': 32, 'subsample_freq': 3}. Best is trial 137 with value: 0.17512873362467118.\n"
     ]
    },
    {
     "name": "stdout",
     "output_type": "stream",
     "text": [
      "Repeat \u001b[1m\u001b[34m#1\n",
      "Repeat \u001b[1m\u001b[34m#2\n"
     ]
    },
    {
     "name": "stderr",
     "output_type": "stream",
     "text": [
      "[I 2023-06-29 13:41:01,268] Trial 554 finished with value: 0.1939939975158647 and parameters: {'boosting_type': 'goss', 'learning_rate': 0.005732976286579754, 'reg_alpha': 1.0050682782508907e-05, 'reg_lambda': 0.0027550363609926613, 'max_depth': 5, 'num_leaves': 45, 'colsample_bytree': 0.6996203919993851, 'min_child_samples': 16, 'max_bin': 70, 'subsample_freq': 4}. Best is trial 137 with value: 0.17512873362467118.\n"
     ]
    },
    {
     "name": "stdout",
     "output_type": "stream",
     "text": [
      "Repeat \u001b[1m\u001b[34m#1\n",
      "Repeat \u001b[1m\u001b[34m#2\n"
     ]
    },
    {
     "name": "stderr",
     "output_type": "stream",
     "text": [
      "[I 2023-06-29 13:41:02,941] Trial 555 finished with value: 0.19834128287159247 and parameters: {'boosting_type': 'goss', 'learning_rate': 0.06271371922532709, 'reg_alpha': 1.9745864348806214e-05, 'reg_lambda': 8.805694101548604e-08, 'max_depth': 5, 'num_leaves': 50, 'colsample_bytree': 0.4370450472489426, 'min_child_samples': 8, 'max_bin': 37, 'subsample_freq': 3}. Best is trial 137 with value: 0.17512873362467118.\n"
     ]
    },
    {
     "name": "stdout",
     "output_type": "stream",
     "text": [
      "Repeat \u001b[1m\u001b[34m#1\n",
      "Repeat \u001b[1m\u001b[34m#2\n"
     ]
    },
    {
     "name": "stderr",
     "output_type": "stream",
     "text": [
      "[I 2023-06-29 13:41:03,371] Trial 556 finished with value: 0.4925250234392341 and parameters: {'boosting_type': 'goss', 'learning_rate': 0.05176070236952008, 'reg_alpha': 4.942351256679851e-06, 'reg_lambda': 3.5732084795326875e-07, 'max_depth': 5, 'num_leaves': 56, 'colsample_bytree': 0.4815599942638235, 'min_child_samples': 100, 'max_bin': 48, 'subsample_freq': 5}. Best is trial 137 with value: 0.17512873362467118.\n"
     ]
    },
    {
     "name": "stdout",
     "output_type": "stream",
     "text": [
      "Repeat \u001b[1m\u001b[34m#1\n",
      "Repeat \u001b[1m\u001b[34m#2\n"
     ]
    },
    {
     "name": "stderr",
     "output_type": "stream",
     "text": [
      "[I 2023-06-29 13:41:07,612] Trial 557 finished with value: 0.1986286563986287 and parameters: {'boosting_type': 'goss', 'learning_rate': 0.014769067599706216, 'reg_alpha': 0.00898193003212891, 'reg_lambda': 1.0784720646343508e-06, 'max_depth': 5, 'num_leaves': 34, 'colsample_bytree': 0.5091665984916112, 'min_child_samples': 20, 'max_bin': 64, 'subsample_freq': 3}. Best is trial 137 with value: 0.17512873362467118.\n"
     ]
    },
    {
     "name": "stdout",
     "output_type": "stream",
     "text": [
      "Repeat \u001b[1m\u001b[34m#1\n",
      "Repeat \u001b[1m\u001b[34m#2\n"
     ]
    },
    {
     "name": "stderr",
     "output_type": "stream",
     "text": [
      "[I 2023-06-29 13:41:09,187] Trial 558 finished with value: 0.179964677525975 and parameters: {'boosting_type': 'goss', 'learning_rate': 0.07331837205616773, 'reg_alpha': 1.7819256579548198e-06, 'reg_lambda': 5.227461908684624e-06, 'max_depth': 5, 'num_leaves': 59, 'colsample_bytree': 0.49874018751037985, 'min_child_samples': 9, 'max_bin': 54, 'subsample_freq': 3}. Best is trial 137 with value: 0.17512873362467118.\n"
     ]
    },
    {
     "name": "stdout",
     "output_type": "stream",
     "text": [
      "Repeat \u001b[1m\u001b[34m#1\n",
      "Repeat \u001b[1m\u001b[34m#2\n"
     ]
    },
    {
     "name": "stderr",
     "output_type": "stream",
     "text": [
      "[I 2023-06-29 13:41:10,624] Trial 559 finished with value: 0.19479730282415053 and parameters: {'boosting_type': 'goss', 'learning_rate': 0.07421918073164722, 'reg_alpha': 2.7822555876943523e-06, 'reg_lambda': 3.526434838287153e-05, 'max_depth': 5, 'num_leaves': 60, 'colsample_bytree': 0.38579330884081436, 'min_child_samples': 13, 'max_bin': 57, 'subsample_freq': 3}. Best is trial 137 with value: 0.17512873362467118.\n"
     ]
    },
    {
     "name": "stdout",
     "output_type": "stream",
     "text": [
      "Repeat \u001b[1m\u001b[34m#1\n",
      "Repeat \u001b[1m\u001b[34m#2\n"
     ]
    },
    {
     "name": "stderr",
     "output_type": "stream",
     "text": [
      "[I 2023-06-29 13:41:12,206] Trial 560 finished with value: 0.1962588428823135 and parameters: {'boosting_type': 'goss', 'learning_rate': 0.08367395863505739, 'reg_alpha': 1.6980974152799937e-06, 'reg_lambda': 7.000187799052136e-06, 'max_depth': 5, 'num_leaves': 58, 'colsample_bytree': 0.5354036972800165, 'min_child_samples': 11, 'max_bin': 54, 'subsample_freq': 5}. Best is trial 137 with value: 0.17512873362467118.\n"
     ]
    },
    {
     "name": "stdout",
     "output_type": "stream",
     "text": [
      "Repeat \u001b[1m\u001b[34m#1\n",
      "Repeat \u001b[1m\u001b[34m#2\n"
     ]
    },
    {
     "name": "stderr",
     "output_type": "stream",
     "text": [
      "[I 2023-06-29 13:41:21,366] Trial 561 finished with value: 0.22400042125830102 and parameters: {'boosting_type': 'goss', 'learning_rate': 0.004962772038129179, 'reg_alpha': 1.4572829294034198e-06, 'reg_lambda': 9.44027446634918e-06, 'max_depth': 5, 'num_leaves': 62, 'colsample_bytree': 0.5167713417143502, 'min_child_samples': 34, 'max_bin': 59, 'subsample_freq': 3}. Best is trial 137 with value: 0.17512873362467118.\n"
     ]
    },
    {
     "name": "stdout",
     "output_type": "stream",
     "text": [
      "Repeat \u001b[1m\u001b[34m#1\n",
      "Repeat \u001b[1m\u001b[34m#2\n"
     ]
    },
    {
     "name": "stderr",
     "output_type": "stream",
     "text": [
      "[I 2023-06-29 13:41:22,840] Trial 562 finished with value: 0.20206168970375893 and parameters: {'boosting_type': 'goss', 'learning_rate': 0.07530344274349605, 'reg_alpha': 0.39568583242054434, 'reg_lambda': 0.0016783777176038075, 'max_depth': 5, 'num_leaves': 59, 'colsample_bytree': 0.4741602573084293, 'min_child_samples': 15, 'max_bin': 54, 'subsample_freq': 3}. Best is trial 137 with value: 0.17512873362467118.\n"
     ]
    },
    {
     "name": "stdout",
     "output_type": "stream",
     "text": [
      "Repeat \u001b[1m\u001b[34m#1\n",
      "Repeat \u001b[1m\u001b[34m#2\n"
     ]
    },
    {
     "name": "stderr",
     "output_type": "stream",
     "text": [
      "[I 2023-06-29 13:41:24,282] Trial 563 finished with value: 0.19653890066824495 and parameters: {'boosting_type': 'goss', 'learning_rate': 0.0996256630132749, 'reg_alpha': 1.4532676621417763e-06, 'reg_lambda': 1.8766620618037854e-06, 'max_depth': 9, 'num_leaves': 55, 'colsample_bytree': 0.4982640907364216, 'min_child_samples': 9, 'max_bin': 62, 'subsample_freq': 3}. Best is trial 137 with value: 0.17512873362467118.\n"
     ]
    },
    {
     "name": "stdout",
     "output_type": "stream",
     "text": [
      "Repeat \u001b[1m\u001b[34m#1\n",
      "Repeat \u001b[1m\u001b[34m#2\n"
     ]
    },
    {
     "name": "stderr",
     "output_type": "stream",
     "text": [
      "[I 2023-06-29 13:41:24,718] Trial 564 finished with value: 0.4935860144730675 and parameters: {'boosting_type': 'goss', 'learning_rate': 0.06794487816732596, 'reg_alpha': 2.801373948438539e-06, 'reg_lambda': 3.897184484794982e-06, 'max_depth': 5, 'num_leaves': 63, 'colsample_bytree': 0.5856698562068006, 'min_child_samples': 76, 'max_bin': 76, 'subsample_freq': 5}. Best is trial 137 with value: 0.17512873362467118.\n"
     ]
    },
    {
     "name": "stdout",
     "output_type": "stream",
     "text": [
      "Repeat \u001b[1m\u001b[34m#1\n",
      "Repeat \u001b[1m\u001b[34m#2\n"
     ]
    },
    {
     "name": "stderr",
     "output_type": "stream",
     "text": [
      "[I 2023-06-29 13:41:26,339] Trial 565 finished with value: 0.18863393626953878 and parameters: {'boosting_type': 'goss', 'learning_rate': 0.05777237759491073, 'reg_alpha': 2.741274465998496e-07, 'reg_lambda': 6.402690452902606e-06, 'max_depth': 5, 'num_leaves': 66, 'colsample_bytree': 0.5252654984371178, 'min_child_samples': 13, 'max_bin': 51, 'subsample_freq': 4}. Best is trial 137 with value: 0.17512873362467118.\n"
     ]
    },
    {
     "name": "stdout",
     "output_type": "stream",
     "text": [
      "Repeat \u001b[1m\u001b[34m#1\n",
      "Repeat \u001b[1m\u001b[34m#2\n"
     ]
    },
    {
     "name": "stderr",
     "output_type": "stream",
     "text": [
      "[I 2023-06-29 13:41:28,005] Trial 566 finished with value: 0.19196706149000575 and parameters: {'boosting_type': 'goss', 'learning_rate': 0.06752295855280893, 'reg_alpha': 2.2152572431335765e-06, 'reg_lambda': 9.232493366985892e-06, 'max_depth': 5, 'num_leaves': 57, 'colsample_bytree': 0.49081671809746175, 'min_child_samples': 11, 'max_bin': 57, 'subsample_freq': 3}. Best is trial 137 with value: 0.17512873362467118.\n"
     ]
    },
    {
     "name": "stdout",
     "output_type": "stream",
     "text": [
      "Repeat \u001b[1m\u001b[34m#1\n",
      "Repeat \u001b[1m\u001b[34m#2\n"
     ]
    },
    {
     "name": "stderr",
     "output_type": "stream",
     "text": [
      "[I 2023-06-29 13:41:29,602] Trial 567 finished with value: 0.19043626555847518 and parameters: {'boosting_type': 'goss', 'learning_rate': 0.08895151642690771, 'reg_alpha': 1.0697851079035751e-06, 'reg_lambda': 4.0445168421514816e-06, 'max_depth': 5, 'num_leaves': 54, 'colsample_bytree': 0.5063093247290484, 'min_child_samples': 7, 'max_bin': 66, 'subsample_freq': 3}. Best is trial 137 with value: 0.17512873362467118.\n"
     ]
    },
    {
     "name": "stdout",
     "output_type": "stream",
     "text": [
      "Repeat \u001b[1m\u001b[34m#1\n",
      "Repeat \u001b[1m\u001b[34m#2\n"
     ]
    },
    {
     "name": "stderr",
     "output_type": "stream",
     "text": [
      "[I 2023-06-29 13:41:31,163] Trial 568 finished with value: 0.2115751674127846 and parameters: {'boosting_type': 'goss', 'learning_rate': 0.08050295020119369, 'reg_alpha': 3.694807595885967, 'reg_lambda': 0.0013383472259382338, 'max_depth': 5, 'num_leaves': 10, 'colsample_bytree': 0.33349734787337143, 'min_child_samples': 10, 'max_bin': 49, 'subsample_freq': 3}. Best is trial 137 with value: 0.17512873362467118.\n"
     ]
    },
    {
     "name": "stdout",
     "output_type": "stream",
     "text": [
      "Repeat \u001b[1m\u001b[34m#1\n",
      "Repeat \u001b[1m\u001b[34m#2\n"
     ]
    },
    {
     "name": "stderr",
     "output_type": "stream",
     "text": [
      "[I 2023-06-29 13:41:32,961] Trial 569 finished with value: 0.20209312295571202 and parameters: {'boosting_type': 'goss', 'learning_rate': 0.06022376361302422, 'reg_alpha': 3.269843081335208e-05, 'reg_lambda': 2.22903583980653e-06, 'max_depth': 5, 'num_leaves': 61, 'colsample_bytree': 0.6114384243216027, 'min_child_samples': 5, 'max_bin': 131, 'subsample_freq': 5}. Best is trial 137 with value: 0.17512873362467118.\n"
     ]
    },
    {
     "name": "stdout",
     "output_type": "stream",
     "text": [
      "Repeat \u001b[1m\u001b[34m#1\n",
      "Repeat \u001b[1m\u001b[34m#2\n"
     ]
    },
    {
     "name": "stderr",
     "output_type": "stream",
     "text": [
      "[I 2023-06-29 13:41:42,745] Trial 570 finished with value: 0.19957664740071382 and parameters: {'boosting_type': 'goss', 'learning_rate': 0.00620009449941497, 'reg_alpha': 2.849149065480906, 'reg_lambda': 2.2456844787514322e-05, 'max_depth': 5, 'num_leaves': 52, 'colsample_bytree': 0.46594750559226084, 'min_child_samples': 13, 'max_bin': 53, 'subsample_freq': 3}. Best is trial 137 with value: 0.17512873362467118.\n"
     ]
    },
    {
     "name": "stdout",
     "output_type": "stream",
     "text": [
      "Repeat \u001b[1m\u001b[34m#1\n",
      "Repeat \u001b[1m\u001b[34m#2\n"
     ]
    },
    {
     "name": "stderr",
     "output_type": "stream",
     "text": [
      "[I 2023-06-29 13:41:44,128] Trial 571 finished with value: 0.20730891079938882 and parameters: {'boosting_type': 'goss', 'learning_rate': 0.07341069712561207, 'reg_alpha': 1.310417327781067e-05, 'reg_lambda': 0.00013704759796762437, 'max_depth': 5, 'num_leaves': 48, 'colsample_bytree': 0.6709857422979146, 'min_child_samples': 17, 'max_bin': 45, 'subsample_freq': 3}. Best is trial 137 with value: 0.17512873362467118.\n"
     ]
    },
    {
     "name": "stdout",
     "output_type": "stream",
     "text": [
      "Repeat \u001b[1m\u001b[34m#1\n",
      "Repeat \u001b[1m\u001b[34m#2\n"
     ]
    },
    {
     "name": "stderr",
     "output_type": "stream",
     "text": [
      "[I 2023-06-29 13:41:48,058] Trial 572 finished with value: 0.1909566495189158 and parameters: {'boosting_type': 'goss', 'learning_rate': 0.01799380527761551, 'reg_alpha': 2.2209717830007715e-05, 'reg_lambda': 0.0006401053697758872, 'max_depth': 5, 'num_leaves': 65, 'colsample_bytree': 0.4615303769901975, 'min_child_samples': 9, 'max_bin': 47, 'subsample_freq': 3}. Best is trial 137 with value: 0.17512873362467118.\n"
     ]
    },
    {
     "name": "stdout",
     "output_type": "stream",
     "text": [
      "Repeat \u001b[1m\u001b[34m#1\n",
      "Repeat \u001b[1m\u001b[34m#2\n"
     ]
    },
    {
     "name": "stderr",
     "output_type": "stream",
     "text": [
      "[I 2023-06-29 13:41:52,282] Trial 573 finished with value: 0.18686572634141116 and parameters: {'boosting_type': 'goss', 'learning_rate': 0.018768612100050618, 'reg_alpha': 4.132222836240552e-06, 'reg_lambda': 1.077490504014836e-06, 'max_depth': 5, 'num_leaves': 69, 'colsample_bytree': 0.4804377865271403, 'min_child_samples': 12, 'max_bin': 82, 'subsample_freq': 4}. Best is trial 137 with value: 0.17512873362467118.\n"
     ]
    },
    {
     "name": "stdout",
     "output_type": "stream",
     "text": [
      "Repeat \u001b[1m\u001b[34m#1\n",
      "Repeat \u001b[1m\u001b[34m#2\n"
     ]
    },
    {
     "name": "stderr",
     "output_type": "stream",
     "text": [
      "[I 2023-06-29 13:42:00,839] Trial 574 finished with value: 0.18827579563946056 and parameters: {'boosting_type': 'goss', 'learning_rate': 0.007171868711205944, 'reg_alpha': 8.607314571134469e-07, 'reg_lambda': 4.525128579594086e-05, 'max_depth': 5, 'num_leaves': 41, 'colsample_bytree': 0.5489717673941595, 'min_child_samples': 7, 'max_bin': 40, 'subsample_freq': 3}. Best is trial 137 with value: 0.17512873362467118.\n"
     ]
    },
    {
     "name": "stdout",
     "output_type": "stream",
     "text": [
      "Repeat \u001b[1m\u001b[34m#1\n",
      "Repeat \u001b[1m\u001b[34m#2\n"
     ]
    },
    {
     "name": "stderr",
     "output_type": "stream",
     "text": [
      "[I 2023-06-29 13:42:07,297] Trial 575 finished with value: 0.1928110905505261 and parameters: {'boosting_type': 'goss', 'learning_rate': 0.008857689528058318, 'reg_alpha': 6.709984599596958e-06, 'reg_lambda': 2.968943994967375e-08, 'max_depth': 5, 'num_leaves': 59, 'colsample_bytree': 0.6513356821436562, 'min_child_samples': 15, 'max_bin': 52, 'subsample_freq': 5}. Best is trial 137 with value: 0.17512873362467118.\n"
     ]
    },
    {
     "name": "stdout",
     "output_type": "stream",
     "text": [
      "Repeat \u001b[1m\u001b[34m#1\n",
      "Repeat \u001b[1m\u001b[34m#2\n"
     ]
    },
    {
     "name": "stderr",
     "output_type": "stream",
     "text": [
      "[I 2023-06-29 13:42:11,461] Trial 576 finished with value: 0.19074582764593606 and parameters: {'boosting_type': 'goss', 'learning_rate': 0.015842289101644078, 'reg_alpha': 4.832984579860744e-05, 'reg_lambda': 1.3380354333704382e-05, 'max_depth': 5, 'num_leaves': 43, 'colsample_bytree': 0.531115946770517, 'min_child_samples': 10, 'max_bin': 61, 'subsample_freq': 7}. Best is trial 137 with value: 0.17512873362467118.\n"
     ]
    },
    {
     "name": "stdout",
     "output_type": "stream",
     "text": [
      "Repeat \u001b[1m\u001b[34m#1\n",
      "Repeat \u001b[1m\u001b[34m#2\n"
     ]
    },
    {
     "name": "stderr",
     "output_type": "stream",
     "text": [
      "[I 2023-06-29 13:42:13,119] Trial 577 finished with value: 0.18539230468657475 and parameters: {'boosting_type': 'goss', 'learning_rate': 0.06613115543183096, 'reg_alpha': 0.1415001563290656, 'reg_lambda': 6.5599645168599e-08, 'max_depth': 5, 'num_leaves': 36, 'colsample_bytree': 0.5139789908434549, 'min_child_samples': 9, 'max_bin': 43, 'subsample_freq': 3}. Best is trial 137 with value: 0.17512873362467118.\n"
     ]
    },
    {
     "name": "stdout",
     "output_type": "stream",
     "text": [
      "Repeat \u001b[1m\u001b[34m#1\n",
      "Repeat \u001b[1m\u001b[34m#2\n"
     ]
    },
    {
     "name": "stderr",
     "output_type": "stream",
     "text": [
      "[I 2023-06-29 13:42:21,536] Trial 578 finished with value: 0.1985538264830105 and parameters: {'boosting_type': 'goss', 'learning_rate': 0.007724058998718101, 'reg_alpha': 1.9879864086502161, 'reg_lambda': 0.00041508551539753686, 'max_depth': 5, 'num_leaves': 40, 'colsample_bytree': 0.4330800993639436, 'min_child_samples': 11, 'max_bin': 48, 'subsample_freq': 3}. Best is trial 137 with value: 0.17512873362467118.\n"
     ]
    },
    {
     "name": "stdout",
     "output_type": "stream",
     "text": [
      "Repeat \u001b[1m\u001b[34m#1\n",
      "Repeat \u001b[1m\u001b[34m#2\n"
     ]
    },
    {
     "name": "stderr",
     "output_type": "stream",
     "text": [
      "[I 2023-06-29 13:42:23,230] Trial 579 finished with value: 0.19566319705225407 and parameters: {'boosting_type': 'goss', 'learning_rate': 0.05578717138694942, 'reg_alpha': 0.00010072698441470672, 'reg_lambda': 6.492566200408345e-07, 'max_depth': 5, 'num_leaves': 46, 'colsample_bytree': 0.4471760301251005, 'min_child_samples': 14, 'max_bin': 36, 'subsample_freq': 3}. Best is trial 137 with value: 0.17512873362467118.\n"
     ]
    },
    {
     "name": "stdout",
     "output_type": "stream",
     "text": [
      "Repeat \u001b[1m\u001b[34m#1\n",
      "Repeat \u001b[1m\u001b[34m#2\n"
     ]
    },
    {
     "name": "stderr",
     "output_type": "stream",
     "text": [
      "[I 2023-06-29 13:42:24,688] Trial 580 finished with value: 0.1950775231186621 and parameters: {'boosting_type': 'goss', 'learning_rate': 0.08091254033175063, 'reg_alpha': 1.6682269360246802e-05, 'reg_lambda': 2.6974655171587956e-06, 'max_depth': 5, 'num_leaves': 56, 'colsample_bytree': 0.49769265572191806, 'min_child_samples': 7, 'max_bin': 55, 'subsample_freq': 5}. Best is trial 137 with value: 0.17512873362467118.\n"
     ]
    },
    {
     "name": "stdout",
     "output_type": "stream",
     "text": [
      "Repeat \u001b[1m\u001b[34m#1\n",
      "Repeat \u001b[1m\u001b[34m#2\n"
     ]
    },
    {
     "name": "stderr",
     "output_type": "stream",
     "text": [
      "[I 2023-06-29 13:42:39,753] Trial 581 finished with value: 0.20385822292641304 and parameters: {'boosting_type': 'goss', 'learning_rate': 0.00237430227541012, 'reg_alpha': 6.247020653495611e-07, 'reg_lambda': 0.003838742191010703, 'max_depth': 5, 'num_leaves': 50, 'colsample_bytree': 0.6357351087619538, 'min_child_samples': 12, 'max_bin': 70, 'subsample_freq': 3}. Best is trial 137 with value: 0.17512873362467118.\n"
     ]
    },
    {
     "name": "stdout",
     "output_type": "stream",
     "text": [
      "Repeat \u001b[1m\u001b[34m#1\n",
      "Repeat \u001b[1m\u001b[34m#2\n"
     ]
    },
    {
     "name": "stderr",
     "output_type": "stream",
     "text": [
      "[I 2023-06-29 13:42:41,564] Trial 582 finished with value: 0.19129884380879503 and parameters: {'boosting_type': 'goss', 'learning_rate': 0.05111972471380398, 'reg_alpha': 0.00024429496443171465, 'reg_lambda': 1.563020649941354e-08, 'max_depth': 5, 'num_leaves': 39, 'colsample_bytree': 0.3989234876971248, 'min_child_samples': 9, 'max_bin': 40, 'subsample_freq': 2}. Best is trial 137 with value: 0.17512873362467118.\n"
     ]
    },
    {
     "name": "stdout",
     "output_type": "stream",
     "text": [
      "Repeat \u001b[1m\u001b[34m#1\n",
      "Repeat \u001b[1m\u001b[34m#2\n"
     ]
    },
    {
     "name": "stderr",
     "output_type": "stream",
     "text": [
      "[I 2023-06-29 13:42:50,978] Trial 583 finished with value: 0.1973308513199134 and parameters: {'boosting_type': 'goss', 'learning_rate': 0.00631982023828808, 'reg_alpha': 0.09052533334619738, 'reg_lambda': 2.4268950471141342e-08, 'max_depth': 8, 'num_leaves': 62, 'colsample_bytree': 0.47195829277372814, 'min_child_samples': 5, 'max_bin': 44, 'subsample_freq': 4}. Best is trial 137 with value: 0.17512873362467118.\n"
     ]
    },
    {
     "name": "stdout",
     "output_type": "stream",
     "text": [
      "Repeat \u001b[1m\u001b[34m#1\n",
      "Repeat \u001b[1m\u001b[34m#2\n"
     ]
    },
    {
     "name": "stderr",
     "output_type": "stream",
     "text": [
      "[I 2023-06-29 13:42:52,447] Trial 584 finished with value: 0.197686648819809 and parameters: {'boosting_type': 'goss', 'learning_rate': 0.08968409058198432, 'reg_alpha': 1.2313292926524495e-05, 'reg_lambda': 3.886991627915269e-08, 'max_depth': 5, 'num_leaves': 32, 'colsample_bytree': 0.5401949518108652, 'min_child_samples': 11, 'max_bin': 49, 'subsample_freq': 3}. Best is trial 137 with value: 0.17512873362467118.\n"
     ]
    },
    {
     "name": "stdout",
     "output_type": "stream",
     "text": [
      "Repeat \u001b[1m\u001b[34m#1\n",
      "Repeat \u001b[1m\u001b[34m#2\n"
     ]
    },
    {
     "name": "stderr",
     "output_type": "stream",
     "text": [
      "[I 2023-06-29 13:42:53,888] Trial 585 finished with value: 0.21417452735454845 and parameters: {'boosting_type': 'goss', 'learning_rate': 0.07158003182070931, 'reg_alpha': 0.3384800803656655, 'reg_lambda': 0.00025274840718708625, 'max_depth': 5, 'num_leaves': 36, 'colsample_bytree': 0.5999750143870539, 'min_child_samples': 25, 'max_bin': 32, 'subsample_freq': 5}. Best is trial 137 with value: 0.17512873362467118.\n"
     ]
    },
    {
     "name": "stdout",
     "output_type": "stream",
     "text": [
      "Repeat \u001b[1m\u001b[34m#1\n",
      "Repeat \u001b[1m\u001b[34m#2\n"
     ]
    },
    {
     "name": "stderr",
     "output_type": "stream",
     "text": [
      "[I 2023-06-29 13:43:06,726] Trial 586 finished with value: 0.19038478626968774 and parameters: {'boosting_type': 'goss', 'learning_rate': 0.004084851741744823, 'reg_alpha': 3.343060590423251e-05, 'reg_lambda': 1.4082520668036518e-07, 'max_depth': 5, 'num_leaves': 45, 'colsample_bytree': 0.4898087947565945, 'min_child_samples': 8, 'max_bin': 38, 'subsample_freq': 3}. Best is trial 137 with value: 0.17512873362467118.\n"
     ]
    },
    {
     "name": "stdout",
     "output_type": "stream",
     "text": [
      "Repeat \u001b[1m\u001b[34m#1\n",
      "Repeat \u001b[1m\u001b[34m#2\n"
     ]
    },
    {
     "name": "stderr",
     "output_type": "stream",
     "text": [
      "[I 2023-06-29 13:43:08,796] Trial 587 finished with value: 0.32602075319190155 and parameters: {'boosting_type': 'goss', 'learning_rate': 0.06160436520355226, 'reg_alpha': 0.0017219382185138636, 'reg_lambda': 4.959915811291726e-06, 'max_depth': 5, 'num_leaves': 59, 'colsample_bytree': 0.5022835691662699, 'min_child_samples': 68, 'max_bin': 102, 'subsample_freq': 3}. Best is trial 137 with value: 0.17512873362467118.\n"
     ]
    },
    {
     "name": "stdout",
     "output_type": "stream",
     "text": [
      "Repeat \u001b[1m\u001b[34m#1\n",
      "Repeat \u001b[1m\u001b[34m#2\n"
     ]
    },
    {
     "name": "stderr",
     "output_type": "stream",
     "text": [
      "[I 2023-06-29 13:43:11,050] Trial 588 finished with value: 0.18702963208960646 and parameters: {'boosting_type': 'goss', 'learning_rate': 0.04821552797655481, 'reg_alpha': 6.247151073329106e-05, 'reg_lambda': 6.551616253846434e-08, 'max_depth': 5, 'num_leaves': 53, 'colsample_bytree': 0.48223129088848854, 'min_child_samples': 13, 'max_bin': 44, 'subsample_freq': 1}. Best is trial 137 with value: 0.17512873362467118.\n"
     ]
    },
    {
     "name": "stdout",
     "output_type": "stream",
     "text": [
      "Repeat \u001b[1m\u001b[34m#1\n",
      "Repeat \u001b[1m\u001b[34m#2\n"
     ]
    },
    {
     "name": "stderr",
     "output_type": "stream",
     "text": [
      "[I 2023-06-29 13:43:17,028] Trial 589 finished with value: 0.20216226445630509 and parameters: {'boosting_type': 'goss', 'learning_rate': 0.011108476549016139, 'reg_alpha': 8.901357096535432e-06, 'reg_lambda': 5.9020047902671746e-05, 'max_depth': 5, 'num_leaves': 43, 'colsample_bytree': 0.5201110977488661, 'min_child_samples': 15, 'max_bin': 174, 'subsample_freq': 3}. Best is trial 137 with value: 0.17512873362467118.\n"
     ]
    },
    {
     "name": "stdout",
     "output_type": "stream",
     "text": [
      "Repeat \u001b[1m\u001b[34m#1\n",
      "Repeat \u001b[1m\u001b[34m#2\n"
     ]
    },
    {
     "name": "stderr",
     "output_type": "stream",
     "text": [
      "[I 2023-06-29 13:43:18,671] Trial 590 finished with value: 0.1954751063364106 and parameters: {'boosting_type': 'goss', 'learning_rate': 0.0663939581798248, 'reg_alpha': 0.00015449373175673337, 'reg_lambda': 2.56765179823364e-07, 'max_depth': 5, 'num_leaves': 49, 'colsample_bytree': 0.5818832213141985, 'min_child_samples': 10, 'max_bin': 57, 'subsample_freq': 3}. Best is trial 137 with value: 0.17512873362467118.\n"
     ]
    },
    {
     "name": "stdout",
     "output_type": "stream",
     "text": [
      "Repeat \u001b[1m\u001b[34m#1\n",
      "Repeat \u001b[1m\u001b[34m#2\n"
     ]
    },
    {
     "name": "stderr",
     "output_type": "stream",
     "text": [
      "[I 2023-06-29 13:43:20,708] Trial 591 finished with value: 0.19043610615581608 and parameters: {'boosting_type': 'goss', 'learning_rate': 0.054123201595332106, 'reg_alpha': 0.003286025156654283, 'reg_lambda': 0.0019143216659330208, 'max_depth': 5, 'num_leaves': 37, 'colsample_bytree': 0.4572945854420347, 'min_child_samples': 7, 'max_bin': 36, 'subsample_freq': 5}. Best is trial 137 with value: 0.17512873362467118.\n"
     ]
    },
    {
     "name": "stdout",
     "output_type": "stream",
     "text": [
      "Repeat \u001b[1m\u001b[34m#1\n",
      "Repeat \u001b[1m\u001b[34m#2\n"
     ]
    },
    {
     "name": "stderr",
     "output_type": "stream",
     "text": [
      "[I 2023-06-29 13:43:22,254] Trial 592 finished with value: 0.18755975322072116 and parameters: {'boosting_type': 'goss', 'learning_rate': 0.07943396654347566, 'reg_alpha': 2.223611713558044e-06, 'reg_lambda': 0.00010253916983487941, 'max_depth': 5, 'num_leaves': 64, 'colsample_bytree': 0.5089510138091313, 'min_child_samples': 12, 'max_bin': 51, 'subsample_freq': 4}. Best is trial 137 with value: 0.17512873362467118.\n"
     ]
    },
    {
     "name": "stdout",
     "output_type": "stream",
     "text": [
      "Repeat \u001b[1m\u001b[34m#1\n",
      "Repeat \u001b[1m\u001b[34m#2\n"
     ]
    },
    {
     "name": "stderr",
     "output_type": "stream",
     "text": [
      "[I 2023-06-29 13:43:23,946] Trial 593 finished with value: 0.19457229363837442 and parameters: {'boosting_type': 'goss', 'learning_rate': 0.06006201156145408, 'reg_alpha': 0.00038952130217964913, 'reg_lambda': 0.032215942016597686, 'max_depth': 5, 'num_leaves': 57, 'colsample_bytree': 0.5934729293347918, 'min_child_samples': 9, 'max_bin': 64, 'subsample_freq': 3}. Best is trial 137 with value: 0.17512873362467118.\n"
     ]
    },
    {
     "name": "stdout",
     "output_type": "stream",
     "text": [
      "Repeat \u001b[1m\u001b[34m#1\n",
      "Repeat \u001b[1m\u001b[34m#2\n"
     ]
    },
    {
     "name": "stderr",
     "output_type": "stream",
     "text": [
      "[I 2023-06-29 13:43:28,194] Trial 594 finished with value: 0.19167149325248845 and parameters: {'boosting_type': 'goss', 'learning_rate': 0.01699750803458436, 'reg_alpha': 0.0012588749593930456, 'reg_lambda': 0.0009936539123076382, 'max_depth': 5, 'num_leaves': 30, 'colsample_bytree': 0.5281281390267638, 'min_child_samples': 18, 'max_bin': 41, 'subsample_freq': 3}. Best is trial 137 with value: 0.17512873362467118.\n"
     ]
    },
    {
     "name": "stdout",
     "output_type": "stream",
     "text": [
      "Repeat \u001b[1m\u001b[34m#1\n",
      "Repeat \u001b[1m\u001b[34m#2\n"
     ]
    },
    {
     "name": "stderr",
     "output_type": "stream",
     "text": [
      "[I 2023-06-29 13:43:32,838] Trial 595 finished with value: 0.19518033563165993 and parameters: {'boosting_type': 'goss', 'learning_rate': 0.012883596351357503, 'reg_alpha': 0.05688448905402681, 'reg_lambda': 1.4442620672912138e-08, 'max_depth': 5, 'num_leaves': 34, 'colsample_bytree': 0.49263223724435673, 'min_child_samples': 14, 'max_bin': 46, 'subsample_freq': 3}. Best is trial 137 with value: 0.17512873362467118.\n"
     ]
    },
    {
     "name": "stdout",
     "output_type": "stream",
     "text": [
      "Repeat \u001b[1m\u001b[34m#1\n",
      "Repeat \u001b[1m\u001b[34m#2\n"
     ]
    },
    {
     "name": "stderr",
     "output_type": "stream",
     "text": [
      "[I 2023-06-29 13:43:42,836] Trial 596 finished with value: 0.19049493299062317 and parameters: {'boosting_type': 'goss', 'learning_rate': 0.0053323540990419084, 'reg_alpha': 2.435939015599187e-07, 'reg_lambda': 2.9254044166358797e-05, 'max_depth': 5, 'num_leaves': 47, 'colsample_bytree': 0.48473949037916375, 'min_child_samples': 11, 'max_bin': 53, 'subsample_freq': 4}. Best is trial 137 with value: 0.17512873362467118.\n"
     ]
    },
    {
     "name": "stdout",
     "output_type": "stream",
     "text": [
      "Repeat \u001b[1m\u001b[34m#1\n",
      "Repeat \u001b[1m\u001b[34m#2\n"
     ]
    },
    {
     "name": "stderr",
     "output_type": "stream",
     "text": [
      "[I 2023-06-29 13:43:45,046] Trial 597 finished with value: 0.19080673534559822 and parameters: {'boosting_type': 'goss', 'learning_rate': 0.03992451129794426, 'reg_alpha': 2.4817571967644234e-05, 'reg_lambda': 2.3725067838119392e-08, 'max_depth': 5, 'num_leaves': 55, 'colsample_bytree': 0.4767101548780703, 'min_child_samples': 6, 'max_bin': 40, 'subsample_freq': 5}. Best is trial 137 with value: 0.17512873362467118.\n"
     ]
    },
    {
     "name": "stdout",
     "output_type": "stream",
     "text": [
      "Repeat \u001b[1m\u001b[34m#1\n",
      "Repeat \u001b[1m\u001b[34m#2\n"
     ]
    },
    {
     "name": "stderr",
     "output_type": "stream",
     "text": [
      "[I 2023-06-29 13:44:00,659] Trial 598 finished with value: 0.26171441528030337 and parameters: {'boosting_type': 'goss', 'learning_rate': 0.0012084907360889055, 'reg_alpha': 0.7819601345131324, 'reg_lambda': 1.2701625768269428e-05, 'max_depth': 5, 'num_leaves': 39, 'colsample_bytree': 0.5026523314155256, 'min_child_samples': 8, 'max_bin': 48, 'subsample_freq': 3}. Best is trial 137 with value: 0.17512873362467118.\n"
     ]
    },
    {
     "name": "stdout",
     "output_type": "stream",
     "text": [
      "Repeat \u001b[1m\u001b[34m#1\n",
      "Repeat \u001b[1m\u001b[34m#2\n"
     ]
    },
    {
     "name": "stderr",
     "output_type": "stream",
     "text": [
      "[I 2023-06-29 13:44:02,329] Trial 599 finished with value: 0.19713468143031732 and parameters: {'boosting_type': 'goss', 'learning_rate': 0.09215894505203223, 'reg_alpha': 5.055531750320384e-07, 'reg_lambda': 8.971952873767457e-08, 'max_depth': 5, 'num_leaves': 32, 'colsample_bytree': 0.5155718505517243, 'min_child_samples': 10, 'max_bin': 60, 'subsample_freq': 3}. Best is trial 137 with value: 0.17512873362467118.\n"
     ]
    },
    {
     "name": "stdout",
     "output_type": "stream",
     "text": [
      "Repeat \u001b[1m\u001b[34m#1\n",
      "Repeat \u001b[1m\u001b[34m#2\n"
     ]
    },
    {
     "name": "stderr",
     "output_type": "stream",
     "text": [
      "[I 2023-06-29 13:44:03,831] Trial 600 finished with value: 0.20076875128118415 and parameters: {'boosting_type': 'goss', 'learning_rate': 0.07181146205552272, 'reg_alpha': 4.831002875570898e-06, 'reg_lambda': 0.009263011664810037, 'max_depth': 5, 'num_leaves': 53, 'colsample_bytree': 0.5591635989411631, 'min_child_samples': 16, 'max_bin': 36, 'subsample_freq': 3}. Best is trial 137 with value: 0.17512873362467118.\n"
     ]
    },
    {
     "name": "stdout",
     "output_type": "stream",
     "text": [
      "Repeat \u001b[1m\u001b[34m#1\n",
      "Repeat \u001b[1m\u001b[34m#2\n"
     ]
    },
    {
     "name": "stderr",
     "output_type": "stream",
     "text": [
      "[I 2023-06-29 13:44:06,420] Trial 601 finished with value: 0.18759096635518768 and parameters: {'boosting_type': 'goss', 'learning_rate': 0.034241012508620994, 'reg_alpha': 4.7039531816938884e-05, 'reg_lambda': 5.2873446014043584e-08, 'max_depth': 5, 'num_leaves': 61, 'colsample_bytree': 0.5384971615650446, 'min_child_samples': 13, 'max_bin': 44, 'subsample_freq': 3}. Best is trial 137 with value: 0.17512873362467118.\n"
     ]
    },
    {
     "name": "stdout",
     "output_type": "stream",
     "text": [
      "Repeat \u001b[1m\u001b[34m#1\n",
      "Repeat \u001b[1m\u001b[34m#2\n"
     ]
    },
    {
     "name": "stderr",
     "output_type": "stream",
     "text": [
      "[I 2023-06-29 13:44:10,806] Trial 602 finished with value: 0.2017666255475121 and parameters: {'boosting_type': 'goss', 'learning_rate': 0.02245731695211969, 'reg_alpha': 0.005077740181888109, 'reg_lambda': 3.6889110725421173, 'max_depth': 5, 'num_leaves': 42, 'colsample_bytree': 0.4287714794851001, 'min_child_samples': 5, 'max_bin': 73, 'subsample_freq': 5}. Best is trial 137 with value: 0.17512873362467118.\n"
     ]
    },
    {
     "name": "stdout",
     "output_type": "stream",
     "text": [
      "Repeat \u001b[1m\u001b[34m#1\n",
      "Repeat \u001b[1m\u001b[34m#2\n"
     ]
    },
    {
     "name": "stderr",
     "output_type": "stream",
     "text": [
      "[I 2023-06-29 13:44:14,199] Trial 603 finished with value: 0.1960443947307857 and parameters: {'boosting_type': 'goss', 'learning_rate': 0.04469665498975392, 'reg_alpha': 1.7382470041131126e-07, 'reg_lambda': 0.00019366554019659195, 'max_depth': 5, 'num_leaves': 120, 'colsample_bytree': 0.5463570717628242, 'min_child_samples': 8, 'max_bin': 55, 'subsample_freq': 6}. Best is trial 137 with value: 0.17512873362467118.\n"
     ]
    },
    {
     "name": "stdout",
     "output_type": "stream",
     "text": [
      "Repeat \u001b[1m\u001b[34m#1\n",
      "Repeat \u001b[1m\u001b[34m#2\n"
     ]
    },
    {
     "name": "stderr",
     "output_type": "stream",
     "text": [
      "[I 2023-06-29 13:44:16,000] Trial 604 finished with value: 0.20428155754124905 and parameters: {'boosting_type': 'goss', 'learning_rate': 0.05587285773655347, 'reg_alpha': 1.72364642230645e-05, 'reg_lambda': 3.9120548366995435e-07, 'max_depth': 5, 'num_leaves': 51, 'colsample_bytree': 0.6193506436831476, 'min_child_samples': 12, 'max_bin': 158, 'subsample_freq': 3}. Best is trial 137 with value: 0.17512873362467118.\n"
     ]
    },
    {
     "name": "stdout",
     "output_type": "stream",
     "text": [
      "Repeat \u001b[1m\u001b[34m#1\n",
      "Repeat \u001b[1m\u001b[34m#2\n"
     ]
    },
    {
     "name": "stderr",
     "output_type": "stream",
     "text": [
      "[I 2023-06-29 13:44:17,596] Trial 605 finished with value: 0.18864345143094224 and parameters: {'boosting_type': 'goss', 'learning_rate': 0.06460783885720242, 'reg_alpha': 4.0183495537300633e-07, 'reg_lambda': 1.4932475881109444e-06, 'max_depth': 5, 'num_leaves': 45, 'colsample_bytree': 0.46902359874337957, 'min_child_samples': 10, 'max_bin': 50, 'subsample_freq': 3}. Best is trial 137 with value: 0.17512873362467118.\n"
     ]
    },
    {
     "name": "stdout",
     "output_type": "stream",
     "text": [
      "Repeat \u001b[1m\u001b[34m#1\n",
      "Repeat \u001b[1m\u001b[34m#2\n"
     ]
    },
    {
     "name": "stderr",
     "output_type": "stream",
     "text": [
      "[I 2023-06-29 13:44:33,186] Trial 606 finished with value: 0.19606474360310172 and parameters: {'boosting_type': 'goss', 'learning_rate': 0.0029535966275276515, 'reg_alpha': 8.215186662565022e-05, 'reg_lambda': 3.6484792452018966e-08, 'max_depth': 5, 'num_leaves': 37, 'colsample_bytree': 0.49569170816958774, 'min_child_samples': 7, 'max_bin': 42, 'subsample_freq': 4}. Best is trial 137 with value: 0.17512873362467118.\n"
     ]
    },
    {
     "name": "stdout",
     "output_type": "stream",
     "text": [
      "Repeat \u001b[1m\u001b[34m#1\n",
      "Repeat \u001b[1m\u001b[34m#2\n"
     ]
    },
    {
     "name": "stderr",
     "output_type": "stream",
     "text": [
      "[I 2023-06-29 13:44:34,471] Trial 607 finished with value: 0.19406738782347996 and parameters: {'boosting_type': 'goss', 'learning_rate': 0.0855922779252895, 'reg_alpha': 8.474656637582552e-06, 'reg_lambda': 1.6924163866146082e-07, 'max_depth': 5, 'num_leaves': 35, 'colsample_bytree': 0.5216080552534186, 'min_child_samples': 11, 'max_bin': 32, 'subsample_freq': 5}. Best is trial 137 with value: 0.17512873362467118.\n"
     ]
    },
    {
     "name": "stdout",
     "output_type": "stream",
     "text": [
      "Repeat \u001b[1m\u001b[34m#1\n",
      "Repeat \u001b[1m\u001b[34m#2\n"
     ]
    },
    {
     "name": "stderr",
     "output_type": "stream",
     "text": [
      "[I 2023-06-29 13:44:35,774] Trial 608 finished with value: 0.2008687947998193 and parameters: {'boosting_type': 'goss', 'learning_rate': 0.07523079613962695, 'reg_alpha': 2.0702964004091724e-08, 'reg_lambda': 8.110792212652917e-07, 'max_depth': 5, 'num_leaves': 58, 'colsample_bytree': 0.6054640544046537, 'min_child_samples': 14, 'max_bin': 47, 'subsample_freq': 2}. Best is trial 137 with value: 0.17512873362467118.\n"
     ]
    },
    {
     "name": "stdout",
     "output_type": "stream",
     "text": [
      "Repeat \u001b[1m\u001b[34m#1\n",
      "Repeat \u001b[1m\u001b[34m#2\n"
     ]
    },
    {
     "name": "stderr",
     "output_type": "stream",
     "text": [
      "[I 2023-06-29 13:44:37,631] Trial 609 finished with value: 0.1880956373875825 and parameters: {'boosting_type': 'goss', 'learning_rate': 0.050890156625094544, 'reg_alpha': 2.8835127405762387e-05, 'reg_lambda': 2.0899269132997878e-08, 'max_depth': 5, 'num_leaves': 41, 'colsample_bytree': 0.48797358230637927, 'min_child_samples': 9, 'max_bin': 38, 'subsample_freq': 3}. Best is trial 137 with value: 0.17512873362467118.\n"
     ]
    },
    {
     "name": "stdout",
     "output_type": "stream",
     "text": [
      "Repeat \u001b[1m\u001b[34m#1\n",
      "Repeat \u001b[1m\u001b[34m#2\n"
     ]
    },
    {
     "name": "stderr",
     "output_type": "stream",
     "text": [
      "[I 2023-06-29 13:44:40,592] Trial 610 finished with value: 0.19690870611221883 and parameters: {'boosting_type': 'goss', 'learning_rate': 0.025290401424406958, 'reg_alpha': 0.00013040453432754684, 'reg_lambda': 9.838187415350874e-08, 'max_depth': 5, 'num_leaves': 48, 'colsample_bytree': 0.6805218532471446, 'min_child_samples': 12, 'max_bin': 58, 'subsample_freq': 3}. Best is trial 137 with value: 0.17512873362467118.\n"
     ]
    },
    {
     "name": "stdout",
     "output_type": "stream",
     "text": [
      "Repeat \u001b[1m\u001b[34m#1\n",
      "Repeat \u001b[1m\u001b[34m#2\n"
     ]
    },
    {
     "name": "stderr",
     "output_type": "stream",
     "text": [
      "[I 2023-06-29 13:44:42,992] Trial 611 finished with value: 0.19402315718481739 and parameters: {'boosting_type': 'goss', 'learning_rate': 0.0389216006413711, 'reg_alpha': 1.2028400318004549e-05, 'reg_lambda': 0.6066054842705498, 'max_depth': 5, 'num_leaves': 32, 'colsample_bytree': 0.5721879678883055, 'min_child_samples': 9, 'max_bin': 52, 'subsample_freq': 7}. Best is trial 137 with value: 0.17512873362467118.\n"
     ]
    },
    {
     "name": "stdout",
     "output_type": "stream",
     "text": [
      "Repeat \u001b[1m\u001b[34m#1\n",
      "Repeat \u001b[1m\u001b[34m#2\n"
     ]
    },
    {
     "name": "stderr",
     "output_type": "stream",
     "text": [
      "[I 2023-06-29 13:44:48,931] Trial 612 finished with value: 0.19516837431546155 and parameters: {'boosting_type': 'goss', 'learning_rate': 0.011943610369547624, 'reg_alpha': 0.0004764821831969413, 'reg_lambda': 4.487837134433161e-08, 'max_depth': 5, 'num_leaves': 30, 'colsample_bytree': 0.45617569983087963, 'min_child_samples': 7, 'max_bin': 66, 'subsample_freq': 3}. Best is trial 137 with value: 0.17512873362467118.\n"
     ]
    },
    {
     "name": "stdout",
     "output_type": "stream",
     "text": [
      "Repeat \u001b[1m\u001b[34m#1\n",
      "Repeat \u001b[1m\u001b[34m#2\n"
     ]
    },
    {
     "name": "stderr",
     "output_type": "stream",
     "text": [
      "[I 2023-06-29 13:44:54,255] Trial 613 finished with value: 0.19613443718213155 and parameters: {'boosting_type': 'goss', 'learning_rate': 0.06071183853573119, 'reg_alpha': 0.038757638031019795, 'reg_lambda': 5.164728965833984e-06, 'max_depth': 5, 'num_leaves': 43, 'colsample_bytree': 0.5088030108315352, 'min_child_samples': 16, 'max_bin': 42, 'subsample_freq': 6}. Best is trial 137 with value: 0.17512873362467118.\n"
     ]
    },
    {
     "name": "stdout",
     "output_type": "stream",
     "text": [
      "Repeat \u001b[1m\u001b[34m#1\n",
      "Repeat \u001b[1m\u001b[34m#2\n"
     ]
    },
    {
     "name": "stderr",
     "output_type": "stream",
     "text": [
      "[I 2023-06-29 13:44:59,069] Trial 614 finished with value: 0.1928540581270345 and parameters: {'boosting_type': 'goss', 'learning_rate': 0.02973257143042822, 'reg_alpha': 4.160638384436422e-06, 'reg_lambda': 1.019013114485363e-08, 'max_depth': 5, 'num_leaves': 39, 'colsample_bytree': 0.4777579914170404, 'min_child_samples': 13, 'max_bin': 47, 'subsample_freq': 3}. Best is trial 137 with value: 0.17512873362467118.\n"
     ]
    },
    {
     "name": "stdout",
     "output_type": "stream",
     "text": [
      "Repeat \u001b[1m\u001b[34m#1\n",
      "Repeat \u001b[1m\u001b[34m#2\n"
     ]
    },
    {
     "name": "stderr",
     "output_type": "stream",
     "text": [
      "[I 2023-06-29 13:45:00,875] Trial 615 finished with value: 0.2016146533462017 and parameters: {'boosting_type': 'goss', 'learning_rate': 0.06942125113759899, 'reg_alpha': 9.358204102791534e-07, 'reg_lambda': 2.9251794615978535e-06, 'max_depth': 5, 'num_leaves': 64, 'colsample_bytree': 0.5872901168532125, 'min_child_samples': 10, 'max_bin': 36, 'subsample_freq': 5}. Best is trial 137 with value: 0.17512873362467118.\n"
     ]
    },
    {
     "name": "stdout",
     "output_type": "stream",
     "text": [
      "Repeat \u001b[1m\u001b[34m#1\n",
      "Repeat \u001b[1m\u001b[34m#2\n"
     ]
    },
    {
     "name": "stderr",
     "output_type": "stream",
     "text": [
      "[I 2023-06-29 13:45:02,607] Trial 616 finished with value: 0.19363445292347434 and parameters: {'boosting_type': 'goss', 'learning_rate': 0.03632188800044305, 'reg_alpha': 5.550530290798545e-05, 'reg_lambda': 0.0023779232855757216, 'max_depth': 5, 'num_leaves': 34, 'colsample_bytree': 0.5257801400364196, 'min_child_samples': 5, 'max_bin': 44, 'subsample_freq': 3}. Best is trial 137 with value: 0.17512873362467118.\n"
     ]
    },
    {
     "name": "stdout",
     "output_type": "stream",
     "text": [
      "Repeat \u001b[1m\u001b[34m#1\n",
      "Repeat \u001b[1m\u001b[34m#2\n"
     ]
    },
    {
     "name": "stderr",
     "output_type": "stream",
     "text": [
      "[I 2023-06-29 13:45:03,644] Trial 617 finished with value: 0.2009283164548718 and parameters: {'boosting_type': 'goss', 'learning_rate': 0.099610901095304, 'reg_alpha': 0.002142221891948779, 'reg_lambda': 3.224685800239857e-08, 'max_depth': 5, 'num_leaves': 67, 'colsample_bytree': 0.49821654886966915, 'min_child_samples': 11, 'max_bin': 40, 'subsample_freq': 3}. Best is trial 137 with value: 0.17512873362467118.\n"
     ]
    },
    {
     "name": "stdout",
     "output_type": "stream",
     "text": [
      "Repeat \u001b[1m\u001b[34m#1\n",
      "Repeat \u001b[1m\u001b[34m#2\n"
     ]
    },
    {
     "name": "stderr",
     "output_type": "stream",
     "text": [
      "[I 2023-06-29 13:45:08,279] Trial 618 finished with value: 0.18966785655102208 and parameters: {'boosting_type': 'goss', 'learning_rate': 0.009516909463142832, 'reg_alpha': 9.051135451218271e-08, 'reg_lambda': 5.065720288423396e-07, 'max_depth': 5, 'num_leaves': 28, 'colsample_bytree': 0.4866056525124165, 'min_child_samples': 8, 'max_bin': 51, 'subsample_freq': 5}. Best is trial 137 with value: 0.17512873362467118.\n"
     ]
    },
    {
     "name": "stdout",
     "output_type": "stream",
     "text": [
      "Repeat \u001b[1m\u001b[34m#1\n",
      "Repeat \u001b[1m\u001b[34m#2\n"
     ]
    },
    {
     "name": "stderr",
     "output_type": "stream",
     "text": [
      "[I 2023-06-29 13:45:11,487] Trial 619 finished with value: 0.43770661437855385 and parameters: {'boosting_type': 'goss', 'learning_rate': 0.0015168590114826692, 'reg_alpha': 0.0010089972799186722, 'reg_lambda': 6.638872643871122e-08, 'max_depth': 5, 'num_leaves': 57, 'colsample_bytree': 0.5527164036569036, 'min_child_samples': 56, 'max_bin': 62, 'subsample_freq': 4}. Best is trial 137 with value: 0.17512873362467118.\n"
     ]
    },
    {
     "name": "stdout",
     "output_type": "stream",
     "text": [
      "Repeat \u001b[1m\u001b[34m#1\n",
      "Repeat \u001b[1m\u001b[34m#2\n"
     ]
    },
    {
     "name": "stderr",
     "output_type": "stream",
     "text": [
      "[I 2023-06-29 13:45:14,109] Trial 620 finished with value: 0.192812649658612 and parameters: {'boosting_type': 'goss', 'learning_rate': 0.019992874561828917, 'reg_alpha': 0.1572606026704121, 'reg_lambda': 1.3044887594651567e-07, 'max_depth': 5, 'num_leaves': 61, 'colsample_bytree': 0.5329083975467983, 'min_child_samples': 14, 'max_bin': 116, 'subsample_freq': 3}. Best is trial 137 with value: 0.17512873362467118.\n"
     ]
    },
    {
     "name": "stdout",
     "output_type": "stream",
     "text": [
      "Repeat \u001b[1m\u001b[34m#1\n",
      "Repeat \u001b[1m\u001b[34m#2\n"
     ]
    },
    {
     "name": "stderr",
     "output_type": "stream",
     "text": [
      "[I 2023-06-29 13:45:15,441] Trial 621 finished with value: 0.1940145679334537 and parameters: {'boosting_type': 'goss', 'learning_rate': 0.04572617870959057, 'reg_alpha': 0.005712571605036073, 'reg_lambda': 2.241185215277787e-05, 'max_depth': 5, 'num_leaves': 54, 'colsample_bytree': 0.35988022833211075, 'min_child_samples': 12, 'max_bin': 55, 'subsample_freq': 3}. Best is trial 137 with value: 0.17512873362467118.\n"
     ]
    },
    {
     "name": "stdout",
     "output_type": "stream",
     "text": [
      "Repeat \u001b[1m\u001b[34m#1\n",
      "Repeat \u001b[1m\u001b[34m#2\n"
     ]
    },
    {
     "name": "stderr",
     "output_type": "stream",
     "text": [
      "[I 2023-06-29 13:45:20,740] Trial 622 finished with value: 0.19150650204937752 and parameters: {'boosting_type': 'goss', 'learning_rate': 0.008466515298547533, 'reg_alpha': 0.0006845178636602754, 'reg_lambda': 2.2019113382102435e-07, 'max_depth': 5, 'num_leaves': 45, 'colsample_bytree': 0.6417994592977041, 'min_child_samples': 9, 'max_bin': 47, 'subsample_freq': 3}. Best is trial 137 with value: 0.17512873362467118.\n"
     ]
    },
    {
     "name": "stdout",
     "output_type": "stream",
     "text": [
      "Repeat \u001b[1m\u001b[34m#1\n",
      "Repeat \u001b[1m\u001b[34m#2\n"
     ]
    },
    {
     "name": "stderr",
     "output_type": "stream",
     "text": [
      "[I 2023-06-29 13:45:21,794] Trial 623 finished with value: 0.20015888553999922 and parameters: {'boosting_type': 'goss', 'learning_rate': 0.08097350977082106, 'reg_alpha': 3.7103577775450605e-05, 'reg_lambda': 1.5015482921599717e-08, 'max_depth': 5, 'num_leaves': 50, 'colsample_bytree': 0.513454588074672, 'min_child_samples': 7, 'max_bin': 35, 'subsample_freq': 3}. Best is trial 137 with value: 0.17512873362467118.\n"
     ]
    },
    {
     "name": "stdout",
     "output_type": "stream",
     "text": [
      "Repeat \u001b[1m\u001b[34m#1\n",
      "Repeat \u001b[1m\u001b[34m#2\n"
     ]
    },
    {
     "name": "stderr",
     "output_type": "stream",
     "text": [
      "[I 2023-06-29 13:45:23,029] Trial 624 finished with value: 0.194932581150782 and parameters: {'boosting_type': 'goss', 'learning_rate': 0.05732051410702665, 'reg_alpha': 0.020072309965786968, 'reg_lambda': 9.015942068299834e-06, 'max_depth': 5, 'num_leaves': 37, 'colsample_bytree': 0.44603248737067275, 'min_child_samples': 19, 'max_bin': 39, 'subsample_freq': 6}. Best is trial 137 with value: 0.17512873362467118.\n"
     ]
    },
    {
     "name": "stdout",
     "output_type": "stream",
     "text": [
      "Repeat \u001b[1m\u001b[34m#1\n",
      "Repeat \u001b[1m\u001b[34m#2\n"
     ]
    },
    {
     "name": "stderr",
     "output_type": "stream",
     "text": [
      "[I 2023-06-29 13:45:24,298] Trial 625 finished with value: 0.19340947069493697 and parameters: {'boosting_type': 'goss', 'learning_rate': 0.0649646355573196, 'reg_alpha': 0.0002260441295720766, 'reg_lambda': 2.3998127695684953e-08, 'max_depth': 5, 'num_leaves': 31, 'colsample_bytree': 0.46962815664943625, 'min_child_samples': 11, 'max_bin': 199, 'subsample_freq': 5}. Best is trial 137 with value: 0.17512873362467118.\n"
     ]
    },
    {
     "name": "stdout",
     "output_type": "stream",
     "text": [
      "Repeat \u001b[1m\u001b[34m#1\n",
      "Repeat \u001b[1m\u001b[34m#2\n"
     ]
    },
    {
     "name": "stderr",
     "output_type": "stream",
     "text": [
      "[I 2023-06-29 13:45:29,798] Trial 626 finished with value: 0.19944670960539418 and parameters: {'boosting_type': 'goss', 'learning_rate': 0.009973184586347602, 'reg_alpha': 1.9651529397341532, 'reg_lambda': 0.0012458214158149194, 'max_depth': 5, 'num_leaves': 40, 'colsample_bytree': 0.4388375834540201, 'min_child_samples': 16, 'max_bin': 152, 'subsample_freq': 4}. Best is trial 137 with value: 0.17512873362467118.\n"
     ]
    },
    {
     "name": "stdout",
     "output_type": "stream",
     "text": [
      "Repeat \u001b[1m\u001b[34m#1\n",
      "Repeat \u001b[1m\u001b[34m#2\n"
     ]
    },
    {
     "name": "stderr",
     "output_type": "stream",
     "text": [
      "[I 2023-06-29 13:45:35,291] Trial 627 finished with value: 0.19315977018214292 and parameters: {'boosting_type': 'goss', 'learning_rate': 0.014840216815355528, 'reg_alpha': 1.7785239338393593e-05, 'reg_lambda': 6.207010525895675e-05, 'max_depth': 5, 'num_leaves': 48, 'colsample_bytree': 0.5056271038295684, 'min_child_samples': 14, 'max_bin': 32, 'subsample_freq': 3}. Best is trial 137 with value: 0.17512873362467118.\n"
     ]
    },
    {
     "name": "stdout",
     "output_type": "stream",
     "text": [
      "Repeat \u001b[1m\u001b[34m#1\n",
      "Repeat \u001b[1m\u001b[34m#2\n"
     ]
    },
    {
     "name": "stderr",
     "output_type": "stream",
     "text": [
      "[I 2023-06-29 13:45:38,702] Trial 628 finished with value: 0.18704540158007565 and parameters: {'boosting_type': 'goss', 'learning_rate': 0.050325413114632477, 'reg_alpha': 0.008913874375974394, 'reg_lambda': 0.0005414497018150132, 'max_depth': 5, 'num_leaves': 59, 'colsample_bytree': 0.6297081361012754, 'min_child_samples': 9, 'max_bin': 224, 'subsample_freq': 3}. Best is trial 137 with value: 0.17512873362467118.\n"
     ]
    },
    {
     "name": "stdout",
     "output_type": "stream",
     "text": [
      "Repeat \u001b[1m\u001b[34m#1\n",
      "Repeat \u001b[1m\u001b[34m#2\n"
     ]
    },
    {
     "name": "stderr",
     "output_type": "stream",
     "text": [
      "[I 2023-06-29 13:45:41,225] Trial 629 finished with value: 0.19435801132919625 and parameters: {'boosting_type': 'goss', 'learning_rate': 0.03448434833691309, 'reg_alpha': 2.3702361074792818e-05, 'reg_lambda': 6.099252917707905e-08, 'max_depth': 5, 'num_leaves': 70, 'colsample_bytree': 0.5768348541948165, 'min_child_samples': 6, 'max_bin': 44, 'subsample_freq': 3}. Best is trial 137 with value: 0.17512873362467118.\n"
     ]
    },
    {
     "name": "stdout",
     "output_type": "stream",
     "text": [
      "Repeat \u001b[1m\u001b[34m#1\n",
      "Repeat \u001b[1m\u001b[34m#2\n"
     ]
    },
    {
     "name": "stderr",
     "output_type": "stream",
     "text": [
      "[I 2023-06-29 13:46:00,729] Trial 630 finished with value: 0.2248153986082822 and parameters: {'boosting_type': 'goss', 'learning_rate': 0.001706213769277086, 'reg_alpha': 6.088861075254399e-06, 'reg_lambda': 9.967597354592134e-08, 'max_depth': 9, 'num_leaves': 52, 'colsample_bytree': 0.4923508671934662, 'min_child_samples': 12, 'max_bin': 51, 'subsample_freq': 5}. Best is trial 137 with value: 0.17512873362467118.\n"
     ]
    },
    {
     "name": "stdout",
     "output_type": "stream",
     "text": [
      "Repeat \u001b[1m\u001b[34m#1\n",
      "Repeat \u001b[1m\u001b[34m#2\n"
     ]
    },
    {
     "name": "stderr",
     "output_type": "stream",
     "text": [
      "[I 2023-06-29 13:46:03,487] Trial 631 finished with value: 0.18739913611431275 and parameters: {'boosting_type': 'goss', 'learning_rate': 0.040589282889693046, 'reg_alpha': 0.0033201326605045178, 'reg_lambda': 3.821725269914562e-08, 'max_depth': 8, 'num_leaves': 34, 'colsample_bytree': 0.4789473749971845, 'min_child_samples': 10, 'max_bin': 58, 'subsample_freq': 2}. Best is trial 137 with value: 0.17512873362467118.\n"
     ]
    },
    {
     "name": "stdout",
     "output_type": "stream",
     "text": [
      "Repeat \u001b[1m\u001b[34m#1\n",
      "Repeat \u001b[1m\u001b[34m#2\n"
     ]
    },
    {
     "name": "stderr",
     "output_type": "stream",
     "text": [
      "[I 2023-06-29 13:46:05,029] Trial 632 finished with value: 0.18729224113668436 and parameters: {'boosting_type': 'goss', 'learning_rate': 0.08487053954212251, 'reg_alpha': 1.072105603075797e-05, 'reg_lambda': 1.6343079886987036e-05, 'max_depth': 5, 'num_leaves': 27, 'colsample_bytree': 0.6896624083044184, 'min_child_samples': 8, 'max_bin': 40, 'subsample_freq': 6}. Best is trial 137 with value: 0.17512873362467118.\n"
     ]
    },
    {
     "name": "stdout",
     "output_type": "stream",
     "text": [
      "Repeat \u001b[1m\u001b[34m#1\n",
      "Repeat \u001b[1m\u001b[34m#2\n"
     ]
    },
    {
     "name": "stderr",
     "output_type": "stream",
     "text": [
      "[I 2023-06-29 13:46:25,270] Trial 633 finished with value: 0.21433676195125612 and parameters: {'boosting_type': 'goss', 'learning_rate': 0.0026233420802347137, 'reg_alpha': 8.621395486297e-05, 'reg_lambda': 5.541523100951455e-06, 'max_depth': 5, 'num_leaves': 55, 'colsample_bytree': 0.32382262949074986, 'min_child_samples': 13, 'max_bin': 167, 'subsample_freq': 3}. Best is trial 137 with value: 0.17512873362467118.\n"
     ]
    },
    {
     "name": "stdout",
     "output_type": "stream",
     "text": [
      "Repeat \u001b[1m\u001b[34m#1\n",
      "Repeat \u001b[1m\u001b[34m#2\n"
     ]
    },
    {
     "name": "stderr",
     "output_type": "stream",
     "text": [
      "[I 2023-06-29 13:46:27,057] Trial 634 finished with value: 0.21026192916697617 and parameters: {'boosting_type': 'goss', 'learning_rate': 0.07693468584839346, 'reg_alpha': 0.013485295330942766, 'reg_lambda': 3.071323103479979e-07, 'max_depth': 5, 'num_leaves': 44, 'colsample_bytree': 0.5948753815092057, 'min_child_samples': 5, 'max_bin': 236, 'subsample_freq': 3}. Best is trial 137 with value: 0.17512873362467118.\n"
     ]
    },
    {
     "name": "stdout",
     "output_type": "stream",
     "text": [
      "Repeat \u001b[1m\u001b[34m#1\n",
      "Repeat \u001b[1m\u001b[34m#2\n"
     ]
    },
    {
     "name": "stderr",
     "output_type": "stream",
     "text": [
      "[I 2023-06-29 13:46:28,814] Trial 635 finished with value: 0.18906907510638898 and parameters: {'boosting_type': 'goss', 'learning_rate': 0.07037036017257145, 'reg_alpha': 0.0003517586177106607, 'reg_lambda': 4.138632907727001e-05, 'max_depth': 7, 'num_leaves': 29, 'colsample_bytree': 0.42560183872759183, 'min_child_samples': 10, 'max_bin': 47, 'subsample_freq': 3}. Best is trial 137 with value: 0.17512873362467118.\n"
     ]
    },
    {
     "name": "stdout",
     "output_type": "stream",
     "text": [
      "Repeat \u001b[1m\u001b[34m#1\n",
      "Repeat \u001b[1m\u001b[34m#2\n"
     ]
    },
    {
     "name": "stderr",
     "output_type": "stream",
     "text": [
      "[I 2023-06-29 13:46:49,004] Trial 636 finished with value: 0.21239746621905892 and parameters: {'boosting_type': 'goss', 'learning_rate': 0.0019749576350441495, 'reg_alpha': 0.08288561790931033, 'reg_lambda': 0.0039644819405684675, 'max_depth': 5, 'num_leaves': 25, 'colsample_bytree': 0.502152909801403, 'min_child_samples': 7, 'max_bin': 36, 'subsample_freq': 4}. Best is trial 137 with value: 0.17512873362467118.\n"
     ]
    },
    {
     "name": "stdout",
     "output_type": "stream",
     "text": [
      "Repeat \u001b[1m\u001b[34m#1\n",
      "Repeat \u001b[1m\u001b[34m#2\n"
     ]
    },
    {
     "name": "stderr",
     "output_type": "stream",
     "text": [
      "[I 2023-06-29 13:46:50,699] Trial 637 finished with value: 0.19540749277129138 and parameters: {'boosting_type': 'goss', 'learning_rate': 0.05523752140665609, 'reg_alpha': 3.312750036979999e-06, 'reg_lambda': 1.6918096290856424e-08, 'max_depth': 5, 'num_leaves': 63, 'colsample_bytree': 0.41833820960634793, 'min_child_samples': 15, 'max_bin': 43, 'subsample_freq': 3}. Best is trial 137 with value: 0.17512873362467118.\n"
     ]
    },
    {
     "name": "stdout",
     "output_type": "stream",
     "text": [
      "Repeat \u001b[1m\u001b[34m#1\n",
      "Repeat \u001b[1m\u001b[34m#2\n"
     ]
    },
    {
     "name": "stderr",
     "output_type": "stream",
     "text": [
      "[I 2023-06-29 13:47:00,458] Trial 638 finished with value: 0.19271543526952062 and parameters: {'boosting_type': 'goss', 'learning_rate': 0.0066466433732898095, 'reg_alpha': 2.1100473769833625e-06, 'reg_lambda': 0.00012170156982324702, 'max_depth': 5, 'num_leaves': 38, 'colsample_bytree': 0.3199912595583, 'min_child_samples': 11, 'max_bin': 53, 'subsample_freq': 6}. Best is trial 137 with value: 0.17512873362467118.\n"
     ]
    },
    {
     "name": "stdout",
     "output_type": "stream",
     "text": [
      "Repeat \u001b[1m\u001b[34m#1\n",
      "Repeat \u001b[1m\u001b[34m#2\n"
     ]
    },
    {
     "name": "stderr",
     "output_type": "stream",
     "text": [
      "[I 2023-06-29 13:47:14,956] Trial 639 finished with value: 0.19249300839837158 and parameters: {'boosting_type': 'goss', 'learning_rate': 0.0036965540851790187, 'reg_alpha': 0.0013823498836994055, 'reg_lambda': 1.5895241419909827e-07, 'max_depth': 7, 'num_leaves': 41, 'colsample_bytree': 0.5412325838188031, 'min_child_samples': 9, 'max_bin': 49, 'subsample_freq': 5}. Best is trial 137 with value: 0.17512873362467118.\n"
     ]
    },
    {
     "name": "stdout",
     "output_type": "stream",
     "text": [
      "Repeat \u001b[1m\u001b[34m#1\n",
      "Repeat \u001b[1m\u001b[34m#2\n"
     ]
    },
    {
     "name": "stderr",
     "output_type": "stream",
     "text": [
      "[I 2023-06-29 13:47:16,521] Trial 640 finished with value: 0.48572109456164797 and parameters: {'boosting_type': 'goss', 'learning_rate': 0.0028688676559971804, 'reg_alpha': 1.3100456611290289e-08, 'reg_lambda': 8.00196090498763e-07, 'max_depth': 5, 'num_leaves': 32, 'colsample_bytree': 0.5185979848599126, 'min_child_samples': 88, 'max_bin': 69, 'subsample_freq': 3}. Best is trial 137 with value: 0.17512873362467118.\n"
     ]
    },
    {
     "name": "stdout",
     "output_type": "stream",
     "text": [
      "Repeat \u001b[1m\u001b[34m#1\n",
      "Repeat \u001b[1m\u001b[34m#2\n"
     ]
    },
    {
     "name": "stderr",
     "output_type": "stream",
     "text": [
      "[I 2023-06-29 13:47:18,541] Trial 641 finished with value: 0.19507342148785925 and parameters: {'boosting_type': 'goss', 'learning_rate': 0.045642423137319615, 'reg_alpha': 4.5655009374664174e-05, 'reg_lambda': 2.3176077014862256e-06, 'max_depth': 5, 'num_leaves': 47, 'colsample_bytree': 0.49412015718404506, 'min_child_samples': 13, 'max_bin': 77, 'subsample_freq': 3}. Best is trial 137 with value: 0.17512873362467118.\n"
     ]
    },
    {
     "name": "stdout",
     "output_type": "stream",
     "text": [
      "Repeat \u001b[1m\u001b[34m#1\n",
      "Repeat \u001b[1m\u001b[34m#2\n"
     ]
    },
    {
     "name": "stderr",
     "output_type": "stream",
     "text": [
      "[I 2023-06-29 13:47:20,669] Trial 642 finished with value: 0.19429215721621218 and parameters: {'boosting_type': 'goss', 'learning_rate': 0.06156633120149583, 'reg_alpha': 0.0001229061357514929, 'reg_lambda': 2.8295809583739614e-08, 'max_depth': 5, 'num_leaves': 35, 'colsample_bytree': 0.5260996251788836, 'min_child_samples': 7, 'max_bin': 86, 'subsample_freq': 3}. Best is trial 137 with value: 0.17512873362467118.\n"
     ]
    },
    {
     "name": "stdout",
     "output_type": "stream",
     "text": [
      "Repeat \u001b[1m\u001b[34m#1\n",
      "Repeat \u001b[1m\u001b[34m#2\n"
     ]
    },
    {
     "name": "stderr",
     "output_type": "stream",
     "text": [
      "[I 2023-06-29 13:47:37,011] Trial 643 finished with value: 0.20494706498105536 and parameters: {'boosting_type': 'goss', 'learning_rate': 0.0023090963746842143, 'reg_alpha': 1.6868253021181543e-05, 'reg_lambda': 7.435009247575804e-08, 'max_depth': 5, 'num_leaves': 51, 'colsample_bytree': 0.4609929076041636, 'min_child_samples': 11, 'max_bin': 40, 'subsample_freq': 5}. Best is trial 137 with value: 0.17512873362467118.\n"
     ]
    },
    {
     "name": "stdout",
     "output_type": "stream",
     "text": [
      "Repeat \u001b[1m\u001b[34m#1\n",
      "Repeat \u001b[1m\u001b[34m#2\n"
     ]
    },
    {
     "name": "stderr",
     "output_type": "stream",
     "text": [
      "[I 2023-06-29 13:47:40,172] Trial 644 finished with value: 0.23157722736093983 and parameters: {'boosting_type': 'goss', 'learning_rate': 0.030545311578999937, 'reg_alpha': 3.9492402418455355e-08, 'reg_lambda': 4.0638848891541824e-08, 'max_depth': 5, 'num_leaves': 60, 'colsample_bytree': 0.3465532744077787, 'min_child_samples': 45, 'max_bin': 56, 'subsample_freq': 3}. Best is trial 137 with value: 0.17512873362467118.\n"
     ]
    },
    {
     "name": "stdout",
     "output_type": "stream",
     "text": [
      "Repeat \u001b[1m\u001b[34m#1\n",
      "Repeat \u001b[1m\u001b[34m#2\n"
     ]
    },
    {
     "name": "stderr",
     "output_type": "stream",
     "text": [
      "[I 2023-06-29 13:47:41,540] Trial 645 finished with value: 0.2019884056859647 and parameters: {'boosting_type': 'goss', 'learning_rate': 0.09154662384302813, 'reg_alpha': 0.026244899368260386, 'reg_lambda': 0.006659425139537578, 'max_depth': 5, 'num_leaves': 29, 'colsample_bytree': 0.4842149648038314, 'min_child_samples': 9, 'max_bin': 45, 'subsample_freq': 3}. Best is trial 137 with value: 0.17512873362467118.\n"
     ]
    },
    {
     "name": "stdout",
     "output_type": "stream",
     "text": [
      "Repeat \u001b[1m\u001b[34m#1\n",
      "Repeat \u001b[1m\u001b[34m#2\n"
     ]
    },
    {
     "name": "stderr",
     "output_type": "stream",
     "text": [
      "[I 2023-06-29 13:47:44,497] Trial 646 finished with value: 0.20425466226531497 and parameters: {'boosting_type': 'goss', 'learning_rate': 0.02682162204581399, 'reg_alpha': 6.824828863832615e-06, 'reg_lambda': 0.20354360205272692, 'max_depth': 5, 'num_leaves': 56, 'colsample_bytree': 0.5647689253367036, 'min_child_samples': 17, 'max_bin': 63, 'subsample_freq': 6}. Best is trial 137 with value: 0.17512873362467118.\n"
     ]
    },
    {
     "name": "stdout",
     "output_type": "stream",
     "text": [
      "Repeat \u001b[1m\u001b[34m#1\n",
      "Repeat \u001b[1m\u001b[34m#2\n"
     ]
    },
    {
     "name": "stderr",
     "output_type": "stream",
     "text": [
      "[I 2023-06-29 13:47:46,975] Trial 647 finished with value: 0.1930513038273396 and parameters: {'boosting_type': 'goss', 'learning_rate': 0.03246053448544669, 'reg_alpha': 2.7114210788528828e-05, 'reg_lambda': 1.2812397454533072e-08, 'max_depth': 5, 'num_leaves': 43, 'colsample_bytree': 0.5109805544417569, 'min_child_samples': 12, 'max_bin': 36, 'subsample_freq': 4}. Best is trial 137 with value: 0.17512873362467118.\n"
     ]
    },
    {
     "name": "stdout",
     "output_type": "stream",
     "text": [
      "Repeat \u001b[1m\u001b[34m#1\n",
      "Repeat \u001b[1m\u001b[34m#2\n"
     ]
    },
    {
     "name": "stderr",
     "output_type": "stream",
     "text": [
      "[I 2023-06-29 13:47:51,640] Trial 648 finished with value: 0.1869820002717153 and parameters: {'boosting_type': 'goss', 'learning_rate': 0.013386586057647342, 'reg_alpha': 2.3290892870665964e-07, 'reg_lambda': 0.00034880015952229763, 'max_depth': 5, 'num_leaves': 36, 'colsample_bytree': 0.6032809990292992, 'min_child_samples': 14, 'max_bin': 50, 'subsample_freq': 3}. Best is trial 137 with value: 0.17512873362467118.\n"
     ]
    },
    {
     "name": "stdout",
     "output_type": "stream",
     "text": [
      "Repeat \u001b[1m\u001b[34m#1\n",
      "Repeat \u001b[1m\u001b[34m#2\n"
     ]
    },
    {
     "name": "stderr",
     "output_type": "stream",
     "text": [
      "[I 2023-06-29 13:47:53,753] Trial 649 finished with value: 0.19747556785954318 and parameters: {'boosting_type': 'goss', 'learning_rate': 0.05162849058598052, 'reg_alpha': 0.0025992743397906244, 'reg_lambda': 1.2170954756362452e-06, 'max_depth': 5, 'num_leaves': 33, 'colsample_bytree': 0.5342690471614222, 'min_child_samples': 8, 'max_bin': 43, 'subsample_freq': 3}. Best is trial 137 with value: 0.17512873362467118.\n"
     ]
    },
    {
     "name": "stdout",
     "output_type": "stream",
     "text": [
      "Repeat \u001b[1m\u001b[34m#1\n",
      "Repeat \u001b[1m\u001b[34m#2\n"
     ]
    },
    {
     "name": "stderr",
     "output_type": "stream",
     "text": [
      "[I 2023-06-29 13:47:56,244] Trial 650 finished with value: 0.1895729470588339 and parameters: {'boosting_type': 'goss', 'learning_rate': 0.037270100080722575, 'reg_alpha': 0.03593854003374343, 'reg_lambda': 2.2888161430257722e-08, 'max_depth': 7, 'num_leaves': 39, 'colsample_bytree': 0.6741737420003697, 'min_child_samples': 10, 'max_bin': 39, 'subsample_freq': 5}. Best is trial 137 with value: 0.17512873362467118.\n"
     ]
    },
    {
     "name": "stdout",
     "output_type": "stream",
     "text": [
      "Repeat \u001b[1m\u001b[34m#1\n",
      "Repeat \u001b[1m\u001b[34m#2\n"
     ]
    },
    {
     "name": "stderr",
     "output_type": "stream",
     "text": [
      "[I 2023-06-29 13:47:57,939] Trial 651 finished with value: 0.19150279943967113 and parameters: {'boosting_type': 'goss', 'learning_rate': 0.06607614374350786, 'reg_alpha': 0.0057404093357587916, 'reg_lambda': 0.0008083657538160273, 'max_depth': 5, 'num_leaves': 58, 'colsample_bytree': 0.39597699859875024, 'min_child_samples': 12, 'max_bin': 46, 'subsample_freq': 6}. Best is trial 137 with value: 0.17512873362467118.\n"
     ]
    },
    {
     "name": "stdout",
     "output_type": "stream",
     "text": [
      "Repeat \u001b[1m\u001b[34m#1\n",
      "Repeat \u001b[1m\u001b[34m#2\n"
     ]
    },
    {
     "name": "stderr",
     "output_type": "stream",
     "text": [
      "[I 2023-06-29 13:48:00,091] Trial 652 finished with value: 0.18947446419934896 and parameters: {'boosting_type': 'goss', 'learning_rate': 0.04183405539238671, 'reg_alpha': 1.1824786189941362e-05, 'reg_lambda': 0.023997754360671596, 'max_depth': 5, 'num_leaves': 65, 'colsample_bytree': 0.6115348079697566, 'min_child_samples': 22, 'max_bin': 54, 'subsample_freq': 3}. Best is trial 137 with value: 0.17512873362467118.\n"
     ]
    },
    {
     "name": "stdout",
     "output_type": "stream",
     "text": [
      "Repeat \u001b[1m\u001b[34m#1\n",
      "Repeat \u001b[1m\u001b[34m#2\n"
     ]
    },
    {
     "name": "stderr",
     "output_type": "stream",
     "text": [
      "[I 2023-06-29 13:48:13,814] Trial 653 finished with value: 0.19912573957765062 and parameters: {'boosting_type': 'goss', 'learning_rate': 0.004234662156596813, 'reg_alpha': 0.009811488734154708, 'reg_lambda': 1.1620474917839994e-07, 'max_depth': 5, 'num_leaves': 46, 'colsample_bytree': 0.5880613285298083, 'min_child_samples': 6, 'max_bin': 185, 'subsample_freq': 3}. Best is trial 137 with value: 0.17512873362467118.\n"
     ]
    },
    {
     "name": "stdout",
     "output_type": "stream",
     "text": [
      "Repeat \u001b[1m\u001b[34m#1\n",
      "Repeat \u001b[1m\u001b[34m#2\n"
     ]
    },
    {
     "name": "stderr",
     "output_type": "stream",
     "text": [
      "[I 2023-06-29 13:48:15,485] Trial 654 finished with value: 0.19790120140227063 and parameters: {'boosting_type': 'goss', 'learning_rate': 0.07361281080668708, 'reg_alpha': 6.824217248467071e-05, 'reg_lambda': 5.114857685303822e-08, 'max_depth': 5, 'num_leaves': 49, 'colsample_bytree': 0.47798572747316137, 'min_child_samples': 15, 'max_bin': 32, 'subsample_freq': 5}. Best is trial 137 with value: 0.17512873362467118.\n"
     ]
    },
    {
     "name": "stdout",
     "output_type": "stream",
     "text": [
      "Repeat \u001b[1m\u001b[34m#1\n",
      "Repeat \u001b[1m\u001b[34m#2\n"
     ]
    },
    {
     "name": "stderr",
     "output_type": "stream",
     "text": [
      "[I 2023-06-29 13:48:26,464] Trial 655 finished with value: 0.1969896064885084 and parameters: {'boosting_type': 'goss', 'learning_rate': 0.0047312970379098295, 'reg_alpha': 0.00017627801031006265, 'reg_lambda': 0.08614688298464089, 'max_depth': 5, 'num_leaves': 31, 'colsample_bytree': 0.41469688090685497, 'min_child_samples': 10, 'max_bin': 58, 'subsample_freq': 3}. Best is trial 137 with value: 0.17512873362467118.\n"
     ]
    },
    {
     "name": "stdout",
     "output_type": "stream",
     "text": [
      "Repeat \u001b[1m\u001b[34m#1\n",
      "Repeat \u001b[1m\u001b[34m#2\n"
     ]
    },
    {
     "name": "stderr",
     "output_type": "stream",
     "text": [
      "[I 2023-06-29 13:48:28,387] Trial 656 finished with value: 0.2000777722925825 and parameters: {'boosting_type': 'goss', 'learning_rate': 0.04762404887418649, 'reg_alpha': 0.0615821660226392, 'reg_lambda': 0.006793788820646947, 'max_depth': 5, 'num_leaves': 54, 'colsample_bytree': 0.49828876134260525, 'min_child_samples': 5, 'max_bin': 48, 'subsample_freq': 4}. Best is trial 137 with value: 0.17512873362467118.\n"
     ]
    },
    {
     "name": "stdout",
     "output_type": "stream",
     "text": [
      "Repeat \u001b[1m\u001b[34m#1\n",
      "Repeat \u001b[1m\u001b[34m#2\n"
     ]
    },
    {
     "name": "stderr",
     "output_type": "stream",
     "text": [
      "[I 2023-06-29 13:48:30,467] Trial 657 finished with value: 0.19045909758816149 and parameters: {'boosting_type': 'goss', 'learning_rate': 0.056706339406319216, 'reg_alpha': 3.684602696165843e-05, 'reg_lambda': 3.382260188328462e-06, 'max_depth': 6, 'num_leaves': 25, 'colsample_bytree': 0.4697186117309887, 'min_child_samples': 8, 'max_bin': 42, 'subsample_freq': 2}. Best is trial 137 with value: 0.17512873362467118.\n"
     ]
    },
    {
     "name": "stdout",
     "output_type": "stream",
     "text": [
      "Repeat \u001b[1m\u001b[34m#1\n",
      "Repeat \u001b[1m\u001b[34m#2\n"
     ]
    },
    {
     "name": "stderr",
     "output_type": "stream",
     "text": [
      "[I 2023-06-29 13:48:45,503] Trial 658 finished with value: 0.28315334109396856 and parameters: {'boosting_type': 'goss', 'learning_rate': 0.0010645627540838876, 'reg_alpha': 0.013611630478142366, 'reg_lambda': 2.1200879293447572e-07, 'max_depth': 5, 'num_leaves': 43, 'colsample_bytree': 0.5169607921991768, 'min_child_samples': 13, 'max_bin': 37, 'subsample_freq': 3}. Best is trial 137 with value: 0.17512873362467118.\n"
     ]
    },
    {
     "name": "stdout",
     "output_type": "stream",
     "text": [
      "Repeat \u001b[1m\u001b[34m#1\n",
      "Repeat \u001b[1m\u001b[34m#2\n"
     ]
    },
    {
     "name": "stderr",
     "output_type": "stream",
     "text": [
      "[I 2023-06-29 13:48:47,792] Trial 659 finished with value: 0.20207055868632634 and parameters: {'boosting_type': 'goss', 'learning_rate': 0.07740237885684355, 'reg_alpha': 2.2126561034769902e-05, 'reg_lambda': 9.69550781254494, 'max_depth': 5, 'num_leaves': 27, 'colsample_bytree': 0.5547906906956482, 'min_child_samples': 11, 'max_bin': 53, 'subsample_freq': 3}. Best is trial 137 with value: 0.17512873362467118.\n"
     ]
    },
    {
     "name": "stdout",
     "output_type": "stream",
     "text": [
      "Repeat \u001b[1m\u001b[34m#1\n",
      "Repeat \u001b[1m\u001b[34m#2\n"
     ]
    },
    {
     "name": "stderr",
     "output_type": "stream",
     "text": [
      "[I 2023-06-29 13:49:04,906] Trial 660 finished with value: 0.19238599864260833 and parameters: {'boosting_type': 'goss', 'learning_rate': 0.003126288944812188, 'reg_alpha': 1.3898681286676984e-05, 'reg_lambda': 8.211103997491916e-08, 'max_depth': 7, 'num_leaves': 61, 'colsample_bytree': 0.45258391654341606, 'min_child_samples': 8, 'max_bin': 44, 'subsample_freq': 5}. Best is trial 137 with value: 0.17512873362467118.\n"
     ]
    },
    {
     "name": "stdout",
     "output_type": "stream",
     "text": [
      "Repeat \u001b[1m\u001b[34m#1\n",
      "Repeat \u001b[1m\u001b[34m#2\n"
     ]
    },
    {
     "name": "stderr",
     "output_type": "stream",
     "text": [
      "[I 2023-06-29 13:49:09,012] Trial 661 finished with value: 0.19957605227120562 and parameters: {'boosting_type': 'goss', 'learning_rate': 0.01780521124743068, 'reg_alpha': 9.460483110218897e-07, 'reg_lambda': 7.155204893254314e-06, 'max_depth': 5, 'num_leaves': 36, 'colsample_bytree': 0.304820784764525, 'min_child_samples': 17, 'max_bin': 73, 'subsample_freq': 3}. Best is trial 137 with value: 0.17512873362467118.\n"
     ]
    },
    {
     "name": "stdout",
     "output_type": "stream",
     "text": [
      "Repeat \u001b[1m\u001b[34m#1\n",
      "Repeat \u001b[1m\u001b[34m#2\n"
     ]
    },
    {
     "name": "stderr",
     "output_type": "stream",
     "text": [
      "[I 2023-06-29 13:49:10,673] Trial 662 finished with value: 0.19041633685762532 and parameters: {'boosting_type': 'goss', 'learning_rate': 0.06252397345823962, 'reg_alpha': 8.495027369838972e-06, 'reg_lambda': 4.6185365618101247e-07, 'max_depth': 5, 'num_leaves': 103, 'colsample_bytree': 0.4883924451334166, 'min_child_samples': 10, 'max_bin': 61, 'subsample_freq': 3}. Best is trial 137 with value: 0.17512873362467118.\n"
     ]
    },
    {
     "name": "stdout",
     "output_type": "stream",
     "text": [
      "Repeat \u001b[1m\u001b[34m#1\n",
      "Repeat \u001b[1m\u001b[34m#2\n"
     ]
    },
    {
     "name": "stderr",
     "output_type": "stream",
     "text": [
      "[I 2023-06-29 13:49:13,787] Trial 663 finished with value: 0.19107740780135685 and parameters: {'boosting_type': 'goss', 'learning_rate': 0.06913790053701054, 'reg_alpha': 0.000607129214956018, 'reg_lambda': 1.9500124605261963e-08, 'max_depth': 5, 'num_leaves': 33, 'colsample_bytree': 0.5807623582746182, 'min_child_samples': 13, 'max_bin': 49, 'subsample_freq': 3}. Best is trial 137 with value: 0.17512873362467118.\n"
     ]
    },
    {
     "name": "stdout",
     "output_type": "stream",
     "text": [
      "Repeat \u001b[1m\u001b[34m#1\n",
      "Repeat \u001b[1m\u001b[34m#2\n"
     ]
    },
    {
     "name": "stderr",
     "output_type": "stream",
     "text": [
      "[I 2023-06-29 13:49:17,719] Trial 664 finished with value: 0.18598399117870182 and parameters: {'boosting_type': 'goss', 'learning_rate': 0.028347786331573928, 'reg_alpha': 0.00029325433790749475, 'reg_lambda': 0.00020068940428125758, 'max_depth': 8, 'num_leaves': 41, 'colsample_bytree': 0.5042016213062587, 'min_child_samples': 7, 'max_bin': 39, 'subsample_freq': 6}. Best is trial 137 with value: 0.17512873362467118.\n"
     ]
    },
    {
     "name": "stdout",
     "output_type": "stream",
     "text": [
      "Repeat \u001b[1m\u001b[34m#1\n",
      "Repeat \u001b[1m\u001b[34m#2\n"
     ]
    },
    {
     "name": "stderr",
     "output_type": "stream",
     "text": [
      "[I 2023-06-29 13:49:31,941] Trial 665 finished with value: 0.1995035870525294 and parameters: {'boosting_type': 'goss', 'learning_rate': 0.0036780996281986804, 'reg_alpha': 5.041689539163124e-05, 'reg_lambda': 3.514364758420153e-08, 'max_depth': 5, 'num_leaves': 22, 'colsample_bytree': 0.5299005861274116, 'min_child_samples': 15, 'max_bin': 67, 'subsample_freq': 4}. Best is trial 137 with value: 0.17512873362467118.\n"
     ]
    },
    {
     "name": "stdout",
     "output_type": "stream",
     "text": [
      "Repeat \u001b[1m\u001b[34m#1\n",
      "Repeat \u001b[1m\u001b[34m#2\n"
     ]
    },
    {
     "name": "stderr",
     "output_type": "stream",
     "text": [
      "[I 2023-06-29 13:49:34,413] Trial 666 finished with value: 0.19142959610397695 and parameters: {'boosting_type': 'goss', 'learning_rate': 0.034177756846914153, 'reg_alpha': 0.3209748854995498, 'reg_lambda': 5.145226680597454e-08, 'max_depth': 6, 'num_leaves': 110, 'colsample_bytree': 0.49354698227933086, 'min_child_samples': 11, 'max_bin': 45, 'subsample_freq': 3}. Best is trial 137 with value: 0.17512873362467118.\n"
     ]
    },
    {
     "name": "stdout",
     "output_type": "stream",
     "text": [
      "Repeat \u001b[1m\u001b[34m#1\n",
      "Repeat \u001b[1m\u001b[34m#2\n"
     ]
    },
    {
     "name": "stderr",
     "output_type": "stream",
     "text": [
      "[I 2023-06-29 13:49:45,133] Trial 667 finished with value: 0.2237285516110189 and parameters: {'boosting_type': 'goss', 'learning_rate': 0.008291061376808918, 'reg_alpha': 9.753346029723483, 'reg_lambda': 1.916678395890983e-06, 'max_depth': 5, 'num_leaves': 30, 'colsample_bytree': 0.3796267911483016, 'min_child_samples': 9, 'max_bin': 40, 'subsample_freq': 7}. Best is trial 137 with value: 0.17512873362467118.\n"
     ]
    },
    {
     "name": "stdout",
     "output_type": "stream",
     "text": [
      "Repeat \u001b[1m\u001b[34m#1\n",
      "Repeat \u001b[1m\u001b[34m#2\n"
     ]
    },
    {
     "name": "stderr",
     "output_type": "stream",
     "text": [
      "[I 2023-06-29 13:49:47,222] Trial 668 finished with value: 0.1903854081989436 and parameters: {'boosting_type': 'goss', 'learning_rate': 0.04242949389670016, 'reg_alpha': 5.09700508462265e-06, 'reg_lambda': 2.9094823592894522e-05, 'max_depth': 5, 'num_leaves': 52, 'colsample_bytree': 0.3618869238298067, 'min_child_samples': 12, 'max_bin': 32, 'subsample_freq': 3}. Best is trial 137 with value: 0.17512873362467118.\n"
     ]
    },
    {
     "name": "stdout",
     "output_type": "stream",
     "text": [
      "Repeat \u001b[1m\u001b[34m#1\n",
      "Repeat \u001b[1m\u001b[34m#2\n"
     ]
    },
    {
     "name": "stderr",
     "output_type": "stream",
     "text": [
      "[I 2023-06-29 13:49:49,183] Trial 669 finished with value: 0.19169089549727944 and parameters: {'boosting_type': 'goss', 'learning_rate': 0.05276379386527643, 'reg_alpha': 1.524727384811598e-06, 'reg_lambda': 0.0021750969290626754, 'max_depth': 5, 'num_leaves': 45, 'colsample_bytree': 0.5458397124144111, 'min_child_samples': 5, 'max_bin': 96, 'subsample_freq': 5}. Best is trial 137 with value: 0.17512873362467118.\n"
     ]
    },
    {
     "name": "stdout",
     "output_type": "stream",
     "text": [
      "Repeat \u001b[1m\u001b[34m#1\n",
      "Repeat \u001b[1m\u001b[34m#2\n"
     ]
    },
    {
     "name": "stderr",
     "output_type": "stream",
     "text": [
      "[I 2023-06-29 13:49:50,549] Trial 670 finished with value: 0.1974490527052117 and parameters: {'boosting_type': 'goss', 'learning_rate': 0.09013746272700318, 'reg_alpha': 0.0044455888144071965, 'reg_lambda': 0.04775825487851508, 'max_depth': 5, 'num_leaves': 58, 'colsample_bytree': 0.47618116599300075, 'min_child_samples': 7, 'max_bin': 50, 'subsample_freq': 3}. Best is trial 137 with value: 0.17512873362467118.\n"
     ]
    },
    {
     "name": "stdout",
     "output_type": "stream",
     "text": [
      "Repeat \u001b[1m\u001b[34m#1\n",
      "Repeat \u001b[1m\u001b[34m#2\n"
     ]
    },
    {
     "name": "stderr",
     "output_type": "stream",
     "text": [
      "[I 2023-06-29 13:49:52,940] Trial 671 finished with value: 0.18411647511738646 and parameters: {'boosting_type': 'goss', 'learning_rate': 0.037791984148044896, 'reg_alpha': 0.0010436269035211457, 'reg_lambda': 0.009388325610125654, 'max_depth': 5, 'num_leaves': 38, 'colsample_bytree': 0.46226067126005255, 'min_child_samples': 9, 'max_bin': 37, 'subsample_freq': 3}. Best is trial 137 with value: 0.17512873362467118.\n"
     ]
    },
    {
     "name": "stdout",
     "output_type": "stream",
     "text": [
      "Repeat \u001b[1m\u001b[34m#1\n",
      "Repeat \u001b[1m\u001b[34m#2\n"
     ]
    },
    {
     "name": "stderr",
     "output_type": "stream",
     "text": [
      "[I 2023-06-29 13:49:55,470] Trial 672 finished with value: 0.2009573850450297 and parameters: {'boosting_type': 'goss', 'learning_rate': 0.03893196991750896, 'reg_alpha': 0.0008123446561757171, 'reg_lambda': 0.13150950067517297, 'max_depth': 7, 'num_leaves': 38, 'colsample_bytree': 0.467027837382131, 'min_child_samples': 14, 'max_bin': 55, 'subsample_freq': 6}. Best is trial 137 with value: 0.17512873362467118.\n"
     ]
    },
    {
     "name": "stdout",
     "output_type": "stream",
     "text": [
      "Repeat \u001b[1m\u001b[34m#1\n",
      "Repeat \u001b[1m\u001b[34m#2\n"
     ]
    },
    {
     "name": "stderr",
     "output_type": "stream",
     "text": [
      "[I 2023-06-29 13:49:57,952] Trial 673 finished with value: 0.19273516277392577 and parameters: {'boosting_type': 'goss', 'learning_rate': 0.03437475839794222, 'reg_alpha': 0.4427311248971174, 'reg_lambda': 0.008177507151683309, 'max_depth': 6, 'num_leaves': 36, 'colsample_bytree': 0.4585160218119145, 'min_child_samples': 11, 'max_bin': 46, 'subsample_freq': 5}. Best is trial 137 with value: 0.17512873362467118.\n"
     ]
    },
    {
     "name": "stdout",
     "output_type": "stream",
     "text": [
      "Repeat \u001b[1m\u001b[34m#1\n",
      "Repeat \u001b[1m\u001b[34m#2\n"
     ]
    },
    {
     "name": "stderr",
     "output_type": "stream",
     "text": [
      "[I 2023-06-29 13:50:00,582] Trial 674 finished with value: 0.1945473838711121 and parameters: {'boosting_type': 'goss', 'learning_rate': 0.037966690750534264, 'reg_alpha': 0.0011673066739706253, 'reg_lambda': 2.50618928769733, 'max_depth': 5, 'num_leaves': 34, 'colsample_bytree': 0.4628559484609485, 'min_child_samples': 13, 'max_bin': 42, 'subsample_freq': 3}. Best is trial 137 with value: 0.17512873362467118.\n"
     ]
    },
    {
     "name": "stdout",
     "output_type": "stream",
     "text": [
      "Repeat \u001b[1m\u001b[34m#1\n",
      "Repeat \u001b[1m\u001b[34m#2\n"
     ]
    },
    {
     "name": "stderr",
     "output_type": "stream",
     "text": [
      "[I 2023-06-29 13:50:03,150] Trial 675 finished with value: 0.19998248371988597 and parameters: {'boosting_type': 'goss', 'learning_rate': 0.04446805431420501, 'reg_alpha': 0.0015569195571298103, 'reg_lambda': 5.8817141053878625, 'max_depth': 5, 'num_leaves': 39, 'colsample_bytree': 0.686922663253885, 'min_child_samples': 10, 'max_bin': 50, 'subsample_freq': 3}. Best is trial 137 with value: 0.17512873362467118.\n"
     ]
    },
    {
     "name": "stdout",
     "output_type": "stream",
     "text": [
      "Repeat \u001b[1m\u001b[34m#1\n",
      "Repeat \u001b[1m\u001b[34m#2\n"
     ]
    },
    {
     "name": "stderr",
     "output_type": "stream",
     "text": [
      "[I 2023-06-29 13:50:06,065] Trial 676 finished with value: 0.19017273188462797 and parameters: {'boosting_type': 'goss', 'learning_rate': 0.031599046015129875, 'reg_alpha': 0.00041272934570190354, 'reg_lambda': 0.0024937089589499475, 'max_depth': 5, 'num_leaves': 37, 'colsample_bytree': 0.4715075064329836, 'min_child_samples': 9, 'max_bin': 58, 'subsample_freq': 4}. Best is trial 137 with value: 0.17512873362467118.\n"
     ]
    },
    {
     "name": "stdout",
     "output_type": "stream",
     "text": [
      "Repeat \u001b[1m\u001b[34m#1\n",
      "Repeat \u001b[1m\u001b[34m#2\n"
     ]
    },
    {
     "name": "stderr",
     "output_type": "stream",
     "text": [
      "[I 2023-06-29 13:50:08,455] Trial 677 finished with value: 0.19356496858395036 and parameters: {'boosting_type': 'goss', 'learning_rate': 0.040910853479495995, 'reg_alpha': 0.0009305895031735332, 'reg_lambda': 1.6118509096860407e-07, 'max_depth': 5, 'num_leaves': 34, 'colsample_bytree': 0.5712107660003731, 'min_child_samples': 12, 'max_bin': 45, 'subsample_freq': 3}. Best is trial 137 with value: 0.17512873362467118.\n"
     ]
    },
    {
     "name": "stdout",
     "output_type": "stream",
     "text": [
      "Repeat \u001b[1m\u001b[34m#1\n",
      "Repeat \u001b[1m\u001b[34m#2\n"
     ]
    },
    {
     "name": "stderr",
     "output_type": "stream",
     "text": [
      "[I 2023-06-29 13:50:10,721] Trial 678 finished with value: 0.19608351381535907 and parameters: {'boosting_type': 'goss', 'learning_rate': 0.04856837212919144, 'reg_alpha': 0.1972737492869962, 'reg_lambda': 0.008194714306185992, 'max_depth': 5, 'num_leaves': 31, 'colsample_bytree': 0.4494584823142349, 'min_child_samples': 16, 'max_bin': 39, 'subsample_freq': 5}. Best is trial 137 with value: 0.17512873362467118.\n"
     ]
    },
    {
     "name": "stdout",
     "output_type": "stream",
     "text": [
      "Repeat \u001b[1m\u001b[34m#1\n",
      "Repeat \u001b[1m\u001b[34m#2\n"
     ]
    },
    {
     "name": "stderr",
     "output_type": "stream",
     "text": [
      "[I 2023-06-29 13:50:13,052] Trial 679 finished with value: 0.1918657849400233 and parameters: {'boosting_type': 'goss', 'learning_rate': 0.03664297901821288, 'reg_alpha': 0.0005201300980388743, 'reg_lambda': 0.14075645834559494, 'max_depth': 5, 'num_leaves': 68, 'colsample_bytree': 0.48024768572707155, 'min_child_samples': 14, 'max_bin': 52, 'subsample_freq': 3}. Best is trial 137 with value: 0.17512873362467118.\n"
     ]
    },
    {
     "name": "stdout",
     "output_type": "stream",
     "text": [
      "Repeat \u001b[1m\u001b[34m#1\n",
      "Repeat \u001b[1m\u001b[34m#2\n"
     ]
    },
    {
     "name": "stderr",
     "output_type": "stream",
     "text": [
      "[I 2023-06-29 13:50:19,828] Trial 680 finished with value: 0.19289363383833585 and parameters: {'boosting_type': 'goss', 'learning_rate': 0.011496776790324289, 'reg_alpha': 0.001915718997978932, 'reg_lambda': 0.00011621931394161902, 'max_depth': 6, 'num_leaves': 63, 'colsample_bytree': 0.5594036554696575, 'min_child_samples': 10, 'max_bin': 42, 'subsample_freq': 3}. Best is trial 137 with value: 0.17512873362467118.\n"
     ]
    },
    {
     "name": "stdout",
     "output_type": "stream",
     "text": [
      "Repeat \u001b[1m\u001b[34m#1\n",
      "Repeat \u001b[1m\u001b[34m#2\n"
     ]
    },
    {
     "name": "stderr",
     "output_type": "stream",
     "text": [
      "[I 2023-06-29 13:50:21,479] Trial 681 finished with value: 0.19474607730148336 and parameters: {'boosting_type': 'goss', 'learning_rate': 0.05845838473059148, 'reg_alpha': 0.09973430536113466, 'reg_lambda': 1.4281015219168603e-08, 'max_depth': 5, 'num_leaves': 40, 'colsample_bytree': 0.6144690663895637, 'min_child_samples': 9, 'max_bin': 80, 'subsample_freq': 6}. Best is trial 137 with value: 0.17512873362467118.\n"
     ]
    },
    {
     "name": "stdout",
     "output_type": "stream",
     "text": [
      "Repeat \u001b[1m\u001b[34m#1\n",
      "Repeat \u001b[1m\u001b[34m#2\n"
     ]
    },
    {
     "name": "stderr",
     "output_type": "stream",
     "text": [
      "[I 2023-06-29 13:50:23,167] Trial 682 finished with value: 0.19811100083935845 and parameters: {'boosting_type': 'goss', 'learning_rate': 0.06295319059221077, 'reg_alpha': 2.8896235350499314e-08, 'reg_lambda': 8.208913145278821e-08, 'max_depth': 7, 'num_leaves': 28, 'colsample_bytree': 0.5964483920252732, 'min_child_samples': 19, 'max_bin': 48, 'subsample_freq': 3}. Best is trial 137 with value: 0.17512873362467118.\n"
     ]
    },
    {
     "name": "stdout",
     "output_type": "stream",
     "text": [
      "Repeat \u001b[1m\u001b[34m#1\n",
      "Repeat \u001b[1m\u001b[34m#2\n"
     ]
    },
    {
     "name": "stderr",
     "output_type": "stream",
     "text": [
      "[I 2023-06-29 13:50:27,234] Trial 683 finished with value: 0.19206826289863477 and parameters: {'boosting_type': 'goss', 'learning_rate': 0.02413830553094114, 'reg_alpha': 0.5768237101764294, 'reg_lambda': 0.008649112984204878, 'max_depth': 5, 'num_leaves': 37, 'colsample_bytree': 0.4843700075689908, 'min_child_samples': 12, 'max_bin': 61, 'subsample_freq': 5}. Best is trial 137 with value: 0.17512873362467118.\n"
     ]
    },
    {
     "name": "stdout",
     "output_type": "stream",
     "text": [
      "Repeat \u001b[1m\u001b[34m#1\n",
      "Repeat \u001b[1m\u001b[34m#2\n"
     ]
    },
    {
     "name": "stderr",
     "output_type": "stream",
     "text": [
      "[I 2023-06-29 13:50:39,965] Trial 684 finished with value: 0.18720720456433332 and parameters: {'boosting_type': 'goss', 'learning_rate': 0.005200108797528746, 'reg_alpha': 3.842906936953294e-07, 'reg_lambda': 1.209348847831395, 'max_depth': 5, 'num_leaves': 33, 'colsample_bytree': 0.6691061971431227, 'min_child_samples': 11, 'max_bin': 38, 'subsample_freq': 3}. Best is trial 137 with value: 0.17512873362467118.\n"
     ]
    },
    {
     "name": "stdout",
     "output_type": "stream",
     "text": [
      "Repeat \u001b[1m\u001b[34m#1\n",
      "Repeat \u001b[1m\u001b[34m#2\n"
     ]
    },
    {
     "name": "stderr",
     "output_type": "stream",
     "text": [
      "[I 2023-06-29 13:50:42,224] Trial 685 finished with value: 0.18956714532625243 and parameters: {'boosting_type': 'goss', 'learning_rate': 0.0487344866525382, 'reg_alpha': 0.023779107022345956, 'reg_lambda': 0.002953947787327801, 'max_depth': 5, 'num_leaves': 55, 'colsample_bytree': 0.40445894827418055, 'min_child_samples': 8, 'max_bin': 53, 'subsample_freq': 4}. Best is trial 137 with value: 0.17512873362467118.\n"
     ]
    },
    {
     "name": "stdout",
     "output_type": "stream",
     "text": [
      "Repeat \u001b[1m\u001b[34m#1\n",
      "Repeat \u001b[1m\u001b[34m#2\n"
     ]
    },
    {
     "name": "stderr",
     "output_type": "stream",
     "text": [
      "[I 2023-06-29 13:50:47,910] Trial 686 finished with value: 0.19769342697719938 and parameters: {'boosting_type': 'goss', 'learning_rate': 0.01626164975904405, 'reg_alpha': 5.6360111467807015e-08, 'reg_lambda': 0.0507581838965144, 'max_depth': 5, 'num_leaves': 60, 'colsample_bytree': 0.4625075631732231, 'min_child_samples': 15, 'max_bin': 46, 'subsample_freq': 3}. Best is trial 137 with value: 0.17512873362467118.\n"
     ]
    },
    {
     "name": "stdout",
     "output_type": "stream",
     "text": [
      "Repeat \u001b[1m\u001b[34m#1\n",
      "Repeat \u001b[1m\u001b[34m#2\n"
     ]
    },
    {
     "name": "stderr",
     "output_type": "stream",
     "text": [
      "[I 2023-06-29 13:50:50,877] Trial 687 finished with value: 0.18991213273494667 and parameters: {'boosting_type': 'goss', 'learning_rate': 0.032470080671980615, 'reg_alpha': 0.0001967608741419334, 'reg_lambda': 0.05067607564761557, 'max_depth': 6, 'num_leaves': 35, 'colsample_bytree': 0.44147669006563656, 'min_child_samples': 12, 'max_bin': 36, 'subsample_freq': 6}. Best is trial 137 with value: 0.17512873362467118.\n"
     ]
    },
    {
     "name": "stdout",
     "output_type": "stream",
     "text": [
      "Repeat \u001b[1m\u001b[34m#1\n",
      "Repeat \u001b[1m\u001b[34m#2\n"
     ]
    },
    {
     "name": "stderr",
     "output_type": "stream",
     "text": [
      "[I 2023-06-29 13:51:02,042] Trial 688 finished with value: 0.18949618955981562 and parameters: {'boosting_type': 'goss', 'learning_rate': 0.0061067768188072325, 'reg_alpha': 3.6033135058537034e-06, 'reg_lambda': 8.251439532070695e-05, 'max_depth': 5, 'num_leaves': 26, 'colsample_bytree': 0.545997421508075, 'min_child_samples': 9, 'max_bin': 42, 'subsample_freq': 3}. Best is trial 137 with value: 0.17512873362467118.\n"
     ]
    },
    {
     "name": "stdout",
     "output_type": "stream",
     "text": [
      "Repeat \u001b[1m\u001b[34m#1\n",
      "Repeat \u001b[1m\u001b[34m#2\n"
     ]
    },
    {
     "name": "stderr",
     "output_type": "stream",
     "text": [
      "[I 2023-06-29 13:51:10,829] Trial 689 finished with value: 0.19183816801787335 and parameters: {'boosting_type': 'goss', 'learning_rate': 0.007263773386327105, 'reg_alpha': 2.76802582995024e-05, 'reg_lambda': 0.022734997146791038, 'max_depth': 5, 'num_leaves': 29, 'colsample_bytree': 0.47370219412823433, 'min_child_samples': 14, 'max_bin': 50, 'subsample_freq': 3}. Best is trial 137 with value: 0.17512873362467118.\n"
     ]
    },
    {
     "name": "stdout",
     "output_type": "stream",
     "text": [
      "Repeat \u001b[1m\u001b[34m#1\n",
      "Repeat \u001b[1m\u001b[34m#2\n"
     ]
    },
    {
     "name": "stderr",
     "output_type": "stream",
     "text": [
      "[I 2023-06-29 13:51:14,289] Trial 690 finished with value: 0.19092313972176705 and parameters: {'boosting_type': 'goss', 'learning_rate': 0.02078955781347302, 'reg_alpha': 0.04402527274406695, 'reg_lambda': 0.0861656635694779, 'max_depth': 5, 'num_leaves': 41, 'colsample_bytree': 0.5854228790656306, 'min_child_samples': 10, 'max_bin': 65, 'subsample_freq': 3}. Best is trial 137 with value: 0.17512873362467118.\n"
     ]
    },
    {
     "name": "stdout",
     "output_type": "stream",
     "text": [
      "Repeat \u001b[1m\u001b[34m#1\n",
      "Repeat \u001b[1m\u001b[34m#2\n"
     ]
    },
    {
     "name": "stderr",
     "output_type": "stream",
     "text": [
      "[I 2023-06-29 13:51:39,023] Trial 691 finished with value: 0.2637473807597092 and parameters: {'boosting_type': 'goss', 'learning_rate': 0.0011158680915056497, 'reg_alpha': 0.0011077791969665198, 'reg_lambda': 5.516180504411709e-05, 'max_depth': 6, 'num_leaves': 38, 'colsample_bytree': 0.49051524295114485, 'min_child_samples': 8, 'max_bin': 251, 'subsample_freq': 5}. Best is trial 137 with value: 0.17512873362467118.\n"
     ]
    },
    {
     "name": "stdout",
     "output_type": "stream",
     "text": [
      "Repeat \u001b[1m\u001b[34m#1\n",
      "Repeat \u001b[1m\u001b[34m#2\n"
     ]
    },
    {
     "name": "stderr",
     "output_type": "stream",
     "text": [
      "[I 2023-06-29 13:51:41,091] Trial 692 finished with value: 0.2002930043959234 and parameters: {'boosting_type': 'goss', 'learning_rate': 0.055020992131674176, 'reg_alpha': 1.517998077778658e-05, 'reg_lambda': 0.5291263353137232, 'max_depth': 5, 'num_leaves': 64, 'colsample_bytree': 0.4996945774003604, 'min_child_samples': 12, 'max_bin': 57, 'subsample_freq': 4}. Best is trial 137 with value: 0.17512873362467118.\n"
     ]
    },
    {
     "name": "stdout",
     "output_type": "stream",
     "text": [
      "Repeat \u001b[1m\u001b[34m#1\n",
      "Repeat \u001b[1m\u001b[34m#2\n"
     ]
    },
    {
     "name": "stderr",
     "output_type": "stream",
     "text": [
      "[I 2023-06-29 13:51:51,181] Trial 693 finished with value: 0.3140278599588572 and parameters: {'boosting_type': 'goss', 'learning_rate': 0.002063740455229202, 'reg_alpha': 0.020008104658603185, 'reg_lambda': 1.1886673932480622e-05, 'max_depth': 5, 'num_leaves': 31, 'colsample_bytree': 0.5383598219718324, 'min_child_samples': 42, 'max_bin': 44, 'subsample_freq': 3}. Best is trial 137 with value: 0.17512873362467118.\n"
     ]
    },
    {
     "name": "stdout",
     "output_type": "stream",
     "text": [
      "Repeat \u001b[1m\u001b[34m#1\n",
      "Repeat \u001b[1m\u001b[34m#2\n"
     ]
    },
    {
     "name": "stderr",
     "output_type": "stream",
     "text": [
      "[I 2023-06-29 13:52:05,625] Trial 694 finished with value: 0.30644187869404743 and parameters: {'boosting_type': 'goss', 'learning_rate': 0.0010303885882941408, 'reg_alpha': 0.0006823285872704593, 'reg_lambda': 0.01184110233038685, 'max_depth': 5, 'num_leaves': 57, 'colsample_bytree': 0.45384382299527004, 'min_child_samples': 17, 'max_bin': 36, 'subsample_freq': 3}. Best is trial 137 with value: 0.17512873362467118.\n"
     ]
    },
    {
     "name": "stdout",
     "output_type": "stream",
     "text": [
      "Repeat \u001b[1m\u001b[34m#1\n",
      "Repeat \u001b[1m\u001b[34m#2\n"
     ]
    },
    {
     "name": "stderr",
     "output_type": "stream",
     "text": [
      "[I 2023-06-29 13:52:12,379] Trial 695 finished with value: 0.20156242059280174 and parameters: {'boosting_type': 'goss', 'learning_rate': 0.00925061791093385, 'reg_alpha': 1.1251241066816995, 'reg_lambda': 0.004301229940481866, 'max_depth': 5, 'num_leaves': 61, 'colsample_bytree': 0.6215938459262039, 'min_child_samples': 6, 'max_bin': 47, 'subsample_freq': 6}. Best is trial 137 with value: 0.17512873362467118.\n"
     ]
    },
    {
     "name": "stdout",
     "output_type": "stream",
     "text": [
      "Repeat \u001b[1m\u001b[34m#1\n",
      "Repeat \u001b[1m\u001b[34m#2\n"
     ]
    },
    {
     "name": "stderr",
     "output_type": "stream",
     "text": [
      "[I 2023-06-29 13:52:14,685] Trial 696 finished with value: 0.1903520720032204 and parameters: {'boosting_type': 'goss', 'learning_rate': 0.043547263768444415, 'reg_alpha': 7.975836807666074e-06, 'reg_lambda': 2.922457932621078e-07, 'max_depth': 7, 'num_leaves': 66, 'colsample_bytree': 0.4836661334560297, 'min_child_samples': 10, 'max_bin': 40, 'subsample_freq': 5}. Best is trial 137 with value: 0.17512873362467118.\n"
     ]
    },
    {
     "name": "stdout",
     "output_type": "stream",
     "text": [
      "Repeat \u001b[1m\u001b[34m#1\n",
      "Repeat \u001b[1m\u001b[34m#2\n"
     ]
    },
    {
     "name": "stderr",
     "output_type": "stream",
     "text": [
      "[I 2023-06-29 13:52:19,609] Trial 697 finished with value: 0.18854116398798332 and parameters: {'boosting_type': 'goss', 'learning_rate': 0.014220528881484382, 'reg_alpha': 7.617355196634652e-05, 'reg_lambda': 0.39827258706070234, 'max_depth': 5, 'num_leaves': 23, 'colsample_bytree': 0.6593496066659318, 'min_child_samples': 13, 'max_bin': 120, 'subsample_freq': 3}. Best is trial 137 with value: 0.17512873362467118.\n"
     ]
    },
    {
     "name": "stdout",
     "output_type": "stream",
     "text": [
      "Repeat \u001b[1m\u001b[34m#1\n",
      "Repeat \u001b[1m\u001b[34m#2\n"
     ]
    },
    {
     "name": "stderr",
     "output_type": "stream",
     "text": [
      "[I 2023-06-29 13:52:21,883] Trial 698 finished with value: 0.1890651990317421 and parameters: {'boosting_type': 'goss', 'learning_rate': 0.035358153442638166, 'reg_alpha': 0.0002985001145335789, 'reg_lambda': 0.0048498022526495335, 'max_depth': 5, 'num_leaves': 36, 'colsample_bytree': 0.3602807023058038, 'min_child_samples': 11, 'max_bin': 54, 'subsample_freq': 3}. Best is trial 137 with value: 0.17512873362467118.\n"
     ]
    },
    {
     "name": "stdout",
     "output_type": "stream",
     "text": [
      "Repeat \u001b[1m\u001b[34m#1\n",
      "Repeat \u001b[1m\u001b[34m#2\n"
     ]
    },
    {
     "name": "stderr",
     "output_type": "stream",
     "text": [
      "[I 2023-06-29 13:52:23,561] Trial 699 finished with value: 0.1874731663642702 and parameters: {'boosting_type': 'goss', 'learning_rate': 0.06779539578933225, 'reg_alpha': 0.00010486973162707322, 'reg_lambda': 0.03798487615769547, 'max_depth': 5, 'num_leaves': 32, 'colsample_bytree': 0.374600764065794, 'min_child_samples': 7, 'max_bin': 44, 'subsample_freq': 3}. Best is trial 137 with value: 0.17512873362467118.\n"
     ]
    },
    {
     "name": "stdout",
     "output_type": "stream",
     "text": [
      "Repeat \u001b[1m\u001b[34m#1\n",
      "Repeat \u001b[1m\u001b[34m#2\n"
     ]
    },
    {
     "name": "stderr",
     "output_type": "stream",
     "text": [
      "[I 2023-06-29 13:52:39,472] Trial 700 finished with value: 0.19170236744456243 and parameters: {'boosting_type': 'goss', 'learning_rate': 0.0038104793300222043, 'reg_alpha': 1.893823177037521e-06, 'reg_lambda': 0.01549570528175533, 'max_depth': 6, 'num_leaves': 40, 'colsample_bytree': 0.5730362407104298, 'min_child_samples': 8, 'max_bin': 48, 'subsample_freq': 2}. Best is trial 137 with value: 0.17512873362467118.\n"
     ]
    },
    {
     "name": "stdout",
     "output_type": "stream",
     "text": [
      "Repeat \u001b[1m\u001b[34m#1\n",
      "Repeat \u001b[1m\u001b[34m#2\n"
     ]
    },
    {
     "name": "stderr",
     "output_type": "stream",
     "text": [
      "[I 2023-06-29 13:52:42,119] Trial 701 finished with value: 0.20779615451547856 and parameters: {'boosting_type': 'goss', 'learning_rate': 0.040007672462391106, 'reg_alpha': 0.25735621278090814, 'reg_lambda': 1.3318272089059302, 'max_depth': 5, 'num_leaves': 54, 'colsample_bytree': 0.4891571954866677, 'min_child_samples': 14, 'max_bin': 36, 'subsample_freq': 7}. Best is trial 137 with value: 0.17512873362467118.\n"
     ]
    },
    {
     "name": "stdout",
     "output_type": "stream",
     "text": [
      "Repeat \u001b[1m\u001b[34m#1\n",
      "Repeat \u001b[1m\u001b[34m#2\n"
     ]
    },
    {
     "name": "stderr",
     "output_type": "stream",
     "text": [
      "[I 2023-06-29 13:52:45,204] Trial 702 finished with value: 0.19479266815415353 and parameters: {'boosting_type': 'goss', 'learning_rate': 0.0292262326951197, 'reg_alpha': 0.002194746758573056, 'reg_lambda': 0.262568248600684, 'max_depth': 5, 'num_leaves': 29, 'colsample_bytree': 0.603405207600707, 'min_child_samples': 10, 'max_bin': 60, 'subsample_freq': 5}. Best is trial 137 with value: 0.17512873362467118.\n"
     ]
    },
    {
     "name": "stdout",
     "output_type": "stream",
     "text": [
      "Repeat \u001b[1m\u001b[34m#1\n",
      "Repeat \u001b[1m\u001b[34m#2\n"
     ]
    },
    {
     "name": "stderr",
     "output_type": "stream",
     "text": [
      "[I 2023-06-29 13:52:47,113] Trial 703 finished with value: 0.1844583858185506 and parameters: {'boosting_type': 'goss', 'learning_rate': 0.06236149911628383, 'reg_alpha': 0.037401706810581095, 'reg_lambda': 0.06510821566981316, 'max_depth': 5, 'num_leaves': 42, 'colsample_bytree': 0.5549608726449093, 'min_child_samples': 12, 'max_bin': 71, 'subsample_freq': 3}. Best is trial 137 with value: 0.17512873362467118.\n"
     ]
    },
    {
     "name": "stdout",
     "output_type": "stream",
     "text": [
      "Repeat \u001b[1m\u001b[34m#1\n",
      "Repeat \u001b[1m\u001b[34m#2\n"
     ]
    },
    {
     "name": "stderr",
     "output_type": "stream",
     "text": [
      "[I 2023-06-29 13:52:49,480] Trial 704 finished with value: 0.18500286904671492 and parameters: {'boosting_type': 'goss', 'learning_rate': 0.05361523008247734, 'reg_alpha': 2.0307414418451386e-05, 'reg_lambda': 1.7978876591099034e-05, 'max_depth': 5, 'num_leaves': 51, 'colsample_bytree': 0.4679046272045171, 'min_child_samples': 9, 'max_bin': 41, 'subsample_freq': 4}. Best is trial 137 with value: 0.17512873362467118.\n"
     ]
    },
    {
     "name": "stdout",
     "output_type": "stream",
     "text": [
      "Repeat \u001b[1m\u001b[34m#1\n",
      "Repeat \u001b[1m\u001b[34m#2\n"
     ]
    },
    {
     "name": "stderr",
     "output_type": "stream",
     "text": [
      "[I 2023-06-29 13:52:49,932] Trial 705 finished with value: 0.5070989035931899 and parameters: {'boosting_type': 'goss', 'learning_rate': 0.07181928037333654, 'reg_alpha': 3.0402556242361285e-05, 'reg_lambda': 0.006345673197991399, 'max_depth': 5, 'num_leaves': 34, 'colsample_bytree': 0.5058939435726071, 'min_child_samples': 81, 'max_bin': 51, 'subsample_freq': 3}. Best is trial 137 with value: 0.17512873362467118.\n"
     ]
    },
    {
     "name": "stdout",
     "output_type": "stream",
     "text": [
      "Repeat \u001b[1m\u001b[34m#1\n",
      "Repeat \u001b[1m\u001b[34m#2\n"
     ]
    },
    {
     "name": "stderr",
     "output_type": "stream",
     "text": [
      "[I 2023-06-29 13:52:54,220] Trial 706 finished with value: 0.20387874315824173 and parameters: {'boosting_type': 'goss', 'learning_rate': 0.021964485248219374, 'reg_alpha': 6.321519372933856e-06, 'reg_lambda': 0.07440252201526609, 'max_depth': 6, 'num_leaves': 58, 'colsample_bytree': 0.5271843115414476, 'min_child_samples': 5, 'max_bin': 55, 'subsample_freq': 6}. Best is trial 137 with value: 0.17512873362467118.\n"
     ]
    },
    {
     "name": "stdout",
     "output_type": "stream",
     "text": [
      "Repeat \u001b[1m\u001b[34m#1\n",
      "Repeat \u001b[1m\u001b[34m#2\n"
     ]
    },
    {
     "name": "stderr",
     "output_type": "stream",
     "text": [
      "[I 2023-06-29 13:52:58,798] Trial 707 finished with value: 0.21034101214162942 and parameters: {'boosting_type': 'goss', 'learning_rate': 0.026066114601154867, 'reg_alpha': 4.4642442290024205, 'reg_lambda': 0.015545873014445453, 'max_depth': 7, 'num_leaves': 26, 'colsample_bytree': 0.591607093294922, 'min_child_samples': 16, 'max_bin': 43, 'subsample_freq': 3}. Best is trial 137 with value: 0.17512873362467118.\n"
     ]
    },
    {
     "name": "stdout",
     "output_type": "stream",
     "text": [
      "Repeat \u001b[1m\u001b[34m#1\n"
     ]
    },
    {
     "name": "stderr",
     "output_type": "stream",
     "text": [
      "[I 2023-06-29 13:52:59,301] Trial 708 finished with value: 0.49514230472826226 and parameters: {'boosting_type': 'goss', 'learning_rate': 0.04775885679128111, 'reg_alpha': 5.769924592030817e-07, 'reg_lambda': 1.4040540340734576e-06, 'max_depth': 5, 'num_leaves': 39, 'colsample_bytree': 0.4772126970993513, 'min_child_samples': 74, 'max_bin': 36, 'subsample_freq': 3}. Best is trial 137 with value: 0.17512873362467118.\n"
     ]
    },
    {
     "name": "stdout",
     "output_type": "stream",
     "text": [
      "Repeat \u001b[1m\u001b[34m#2\n",
      "Repeat \u001b[1m\u001b[34m#1\n",
      "Repeat \u001b[1m\u001b[34m#2\n"
     ]
    },
    {
     "name": "stderr",
     "output_type": "stream",
     "text": [
      "[I 2023-06-29 13:53:01,570] Trial 709 finished with value: 0.19095873940251193 and parameters: {'boosting_type': 'goss', 'learning_rate': 0.06036675681255437, 'reg_alpha': 1.320752537396141e-05, 'reg_lambda': 2.6968346284119254e-08, 'max_depth': 5, 'num_leaves': 49, 'colsample_bytree': 0.49693675264725645, 'min_child_samples': 7, 'max_bin': 47, 'subsample_freq': 5}. Best is trial 137 with value: 0.17512873362467118.\n"
     ]
    },
    {
     "name": "stdout",
     "output_type": "stream",
     "text": [
      "Repeat \u001b[1m\u001b[34m#1\n",
      "Repeat \u001b[1m\u001b[34m#2\n"
     ]
    },
    {
     "name": "stderr",
     "output_type": "stream",
     "text": [
      "[I 2023-06-29 13:53:03,807] Trial 710 finished with value: 0.19385221897581184 and parameters: {'boosting_type': 'goss', 'learning_rate': 0.04333970244305136, 'reg_alpha': 0.00018743443489987934, 'reg_lambda': 0.22316372988198688, 'max_depth': 8, 'num_leaves': 76, 'colsample_bytree': 0.5622084790475005, 'min_child_samples': 13, 'max_bin': 40, 'subsample_freq': 3}. Best is trial 137 with value: 0.17512873362467118.\n"
     ]
    },
    {
     "name": "stdout",
     "output_type": "stream",
     "text": [
      "Repeat \u001b[1m\u001b[34m#1\n",
      "Repeat \u001b[1m\u001b[34m#2\n"
     ]
    },
    {
     "name": "stderr",
     "output_type": "stream",
     "text": [
      "[I 2023-06-29 13:53:06,078] Trial 711 finished with value: 0.19248292652497667 and parameters: {'boosting_type': 'goss', 'learning_rate': 0.03738213110899476, 'reg_alpha': 0.015110305200341288, 'reg_lambda': 1.0156729381556851e-08, 'max_depth': 5, 'num_leaves': 62, 'colsample_bytree': 0.5802351270277095, 'min_child_samples': 11, 'max_bin': 52, 'subsample_freq': 6}. Best is trial 137 with value: 0.17512873362467118.\n"
     ]
    },
    {
     "name": "stdout",
     "output_type": "stream",
     "text": [
      "Repeat \u001b[1m\u001b[34m#1\n",
      "Repeat \u001b[1m\u001b[34m#2\n"
     ]
    },
    {
     "name": "stderr",
     "output_type": "stream",
     "text": [
      "[I 2023-06-29 13:53:07,639] Trial 712 finished with value: 0.1950552741995864 and parameters: {'boosting_type': 'goss', 'learning_rate': 0.0785458609530465, 'reg_alpha': 4.147014933561204e-05, 'reg_lambda': 5.400995141926715e-08, 'max_depth': 5, 'num_leaves': 19, 'colsample_bytree': 0.6355896199687918, 'min_child_samples': 9, 'max_bin': 64, 'subsample_freq': 3}. Best is trial 137 with value: 0.17512873362467118.\n"
     ]
    },
    {
     "name": "stdout",
     "output_type": "stream",
     "text": [
      "Repeat \u001b[1m\u001b[34m#1\n",
      "Repeat \u001b[1m\u001b[34m#2\n"
     ]
    },
    {
     "name": "stderr",
     "output_type": "stream",
     "text": [
      "[I 2023-06-29 13:53:10,068] Trial 713 finished with value: 0.1956225246804969 and parameters: {'boosting_type': 'goss', 'learning_rate': 0.03154997828158344, 'reg_alpha': 0.060201549739351934, 'reg_lambda': 1.3763247159498295e-07, 'max_depth': 6, 'num_leaves': 36, 'colsample_bytree': 0.3733708876292251, 'min_child_samples': 15, 'max_bin': 47, 'subsample_freq': 1}. Best is trial 137 with value: 0.17512873362467118.\n"
     ]
    },
    {
     "name": "stdout",
     "output_type": "stream",
     "text": [
      "Repeat \u001b[1m\u001b[34m#1\n",
      "Repeat \u001b[1m\u001b[34m#2\n"
     ]
    },
    {
     "name": "stderr",
     "output_type": "stream",
     "text": [
      "[I 2023-06-29 13:53:11,807] Trial 714 finished with value: 0.19073251874559186 and parameters: {'boosting_type': 'goss', 'learning_rate': 0.0579199424999841, 'reg_alpha': 2.9105940687141803e-06, 'reg_lambda': 0.026395606921719175, 'max_depth': 5, 'num_leaves': 56, 'colsample_bytree': 0.5357658288410211, 'min_child_samples': 11, 'max_bin': 57, 'subsample_freq': 5}. Best is trial 137 with value: 0.17512873362467118.\n"
     ]
    },
    {
     "name": "stdout",
     "output_type": "stream",
     "text": [
      "Repeat \u001b[1m\u001b[34m#1\n",
      "Repeat \u001b[1m\u001b[34m#2\n"
     ]
    },
    {
     "name": "stderr",
     "output_type": "stream",
     "text": [
      "[I 2023-06-29 13:53:13,530] Trial 715 finished with value: 0.18763299810235043 and parameters: {'boosting_type': 'goss', 'learning_rate': 0.06738383027964541, 'reg_alpha': 1.0553375556807944e-05, 'reg_lambda': 2.0853867970157928e-08, 'max_depth': 5, 'num_leaves': 31, 'colsample_bytree': 0.5091296828236985, 'min_child_samples': 7, 'max_bin': 36, 'subsample_freq': 3}. Best is trial 137 with value: 0.17512873362467118.\n"
     ]
    },
    {
     "name": "stdout",
     "output_type": "stream",
     "text": [
      "Repeat \u001b[1m\u001b[34m#1\n",
      "Repeat \u001b[1m\u001b[34m#2\n"
     ]
    },
    {
     "name": "stderr",
     "output_type": "stream",
     "text": [
      "[I 2023-06-29 13:53:48,059] Trial 716 finished with value: 0.24661011575894498 and parameters: {'boosting_type': 'goss', 'learning_rate': 0.001495834121968233, 'reg_alpha': 6.31153377598446e-05, 'reg_lambda': 0.03915015006221686, 'max_depth': 5, 'num_leaves': 38, 'colsample_bytree': 0.46190593355569676, 'min_child_samples': 13, 'max_bin': 89, 'subsample_freq': 4}. Best is trial 137 with value: 0.17512873362467118.\n"
     ]
    },
    {
     "name": "stdout",
     "output_type": "stream",
     "text": [
      "Repeat \u001b[1m\u001b[34m#1\n",
      "Repeat \u001b[1m\u001b[34m#2\n"
     ]
    },
    {
     "name": "stderr",
     "output_type": "stream",
     "text": [
      "[I 2023-06-29 13:53:51,510] Trial 717 finished with value: 0.1884553628142885 and parameters: {'boosting_type': 'goss', 'learning_rate': 0.05194543131167235, 'reg_alpha': 0.030175674481377774, 'reg_lambda': 3.948394856377249e-05, 'max_depth': 5, 'num_leaves': 24, 'colsample_bytree': 0.4859943801573409, 'min_child_samples': 9, 'max_bin': 42, 'subsample_freq': 3}. Best is trial 137 with value: 0.17512873362467118.\n"
     ]
    },
    {
     "name": "stdout",
     "output_type": "stream",
     "text": [
      "Repeat \u001b[1m\u001b[34m#1\n",
      "Repeat \u001b[1m\u001b[34m#2\n"
     ]
    },
    {
     "name": "stderr",
     "output_type": "stream",
     "text": [
      "[I 2023-06-29 13:53:55,679] Trial 718 finished with value: 0.1918513936151352 and parameters: {'boosting_type': 'goss', 'learning_rate': 0.03528894221763632, 'reg_alpha': 0.0015847585609224978, 'reg_lambda': 0.00020576927164945422, 'max_depth': 5, 'num_leaves': 28, 'colsample_bytree': 0.44711823980172943, 'min_child_samples': 11, 'max_bin': 50, 'subsample_freq': 3}. Best is trial 137 with value: 0.17512873362467118.\n"
     ]
    },
    {
     "name": "stdout",
     "output_type": "stream",
     "text": [
      "Repeat \u001b[1m\u001b[34m#1\n",
      "Repeat \u001b[1m\u001b[34m#2\n"
     ]
    },
    {
     "name": "stderr",
     "output_type": "stream",
     "text": [
      "[I 2023-06-29 13:53:58,012] Trial 719 finished with value: 0.19565451145571736 and parameters: {'boosting_type': 'goss', 'learning_rate': 0.07505145494073594, 'reg_alpha': 1.879220034192031e-05, 'reg_lambda': 3.316210823234506e-08, 'max_depth': 7, 'num_leaves': 33, 'colsample_bytree': 0.47183644007684833, 'min_child_samples': 18, 'max_bin': 44, 'subsample_freq': 3}. Best is trial 137 with value: 0.17512873362467118.\n"
     ]
    },
    {
     "name": "stdout",
     "output_type": "stream",
     "text": [
      "Repeat \u001b[1m\u001b[34m#1\n",
      "Repeat \u001b[1m\u001b[34m#2\n"
     ]
    },
    {
     "name": "stderr",
     "output_type": "stream",
     "text": [
      "[I 2023-06-29 13:54:01,416] Trial 720 finished with value: 0.19776947151446367 and parameters: {'boosting_type': 'goss', 'learning_rate': 0.03937859079468383, 'reg_alpha': 0.0005396508759055447, 'reg_lambda': 9.414869065148892e-08, 'max_depth': 5, 'num_leaves': 53, 'colsample_bytree': 0.6782948161298268, 'min_child_samples': 6, 'max_bin': 68, 'subsample_freq': 5}. Best is trial 137 with value: 0.17512873362467118.\n"
     ]
    },
    {
     "name": "stdout",
     "output_type": "stream",
     "text": [
      "Repeat \u001b[1m\u001b[34m#1\n",
      "Repeat \u001b[1m\u001b[34m#2\n"
     ]
    },
    {
     "name": "stderr",
     "output_type": "stream",
     "text": [
      "[I 2023-06-29 13:54:03,579] Trial 721 finished with value: 0.3585670039987877 and parameters: {'boosting_type': 'goss', 'learning_rate': 0.04596320240868613, 'reg_alpha': 0.002902519262475187, 'reg_lambda': 6.232023844176487e-06, 'max_depth': 5, 'num_leaves': 44, 'colsample_bytree': 0.3888689121099663, 'min_child_samples': 64, 'max_bin': 39, 'subsample_freq': 3}. Best is trial 137 with value: 0.17512873362467118.\n"
     ]
    },
    {
     "name": "stdout",
     "output_type": "stream",
     "text": [
      "Repeat \u001b[1m\u001b[34m#1\n",
      "Repeat \u001b[1m\u001b[34m#2\n"
     ]
    },
    {
     "name": "stderr",
     "output_type": "stream",
     "text": [
      "[I 2023-06-29 13:54:18,202] Trial 722 finished with value: 0.2075020609113422 and parameters: {'boosting_type': 'goss', 'learning_rate': 0.005687757605074062, 'reg_alpha': 7.468559549151925e-08, 'reg_lambda': 4.921645820494332, 'max_depth': 6, 'num_leaves': 59, 'colsample_bytree': 0.3977486843396265, 'min_child_samples': 9, 'max_bin': 163, 'subsample_freq': 3}. Best is trial 137 with value: 0.17512873362467118.\n"
     ]
    },
    {
     "name": "stdout",
     "output_type": "stream",
     "text": [
      "Repeat \u001b[1m\u001b[34m#1\n",
      "Repeat \u001b[1m\u001b[34m#2\n"
     ]
    },
    {
     "name": "stderr",
     "output_type": "stream",
     "text": [
      "[I 2023-06-29 13:54:23,190] Trial 723 finished with value: 0.19228498347305373 and parameters: {'boosting_type': 'goss', 'learning_rate': 0.028956798113520293, 'reg_alpha': 0.00013040648223503726, 'reg_lambda': 5.879885858125145e-08, 'max_depth': 5, 'num_leaves': 42, 'colsample_bytree': 0.5239213932759897, 'min_child_samples': 13, 'max_bin': 54, 'subsample_freq': 6}. Best is trial 137 with value: 0.17512873362467118.\n"
     ]
    },
    {
     "name": "stdout",
     "output_type": "stream",
     "text": [
      "Repeat \u001b[1m\u001b[34m#1\n",
      "Repeat \u001b[1m\u001b[34m#2\n"
     ]
    },
    {
     "name": "stderr",
     "output_type": "stream",
     "text": [
      "[I 2023-06-29 13:54:26,743] Trial 724 finished with value: 0.18971705984025883 and parameters: {'boosting_type': 'goss', 'learning_rate': 0.0655373193093047, 'reg_alpha': 8.170933778803336e-07, 'reg_lambda': 3.2096381621308034e-06, 'max_depth': 5, 'num_leaves': 35, 'colsample_bytree': 0.5422617467495964, 'min_child_samples': 8, 'max_bin': 46, 'subsample_freq': 3}. Best is trial 137 with value: 0.17512873362467118.\n"
     ]
    },
    {
     "name": "stdout",
     "output_type": "stream",
     "text": [
      "Repeat \u001b[1m\u001b[34m#1\n",
      "Repeat \u001b[1m\u001b[34m#2\n"
     ]
    },
    {
     "name": "stderr",
     "output_type": "stream",
     "text": [
      "[I 2023-06-29 13:54:28,872] Trial 725 finished with value: 0.19334558782573152 and parameters: {'boosting_type': 'goss', 'learning_rate': 0.05785663990867526, 'reg_alpha': 2.2523584358105334e-08, 'reg_lambda': 1.0077158447316859, 'max_depth': 5, 'num_leaves': 72, 'colsample_bytree': 0.49564078261396116, 'min_child_samples': 11, 'max_bin': 36, 'subsample_freq': 5}. Best is trial 137 with value: 0.17512873362467118.\n"
     ]
    },
    {
     "name": "stdout",
     "output_type": "stream",
     "text": [
      "Repeat \u001b[1m\u001b[34m#1\n",
      "Repeat \u001b[1m\u001b[34m#2\n"
     ]
    },
    {
     "name": "stderr",
     "output_type": "stream",
     "text": [
      "[I 2023-06-29 13:54:31,274] Trial 726 finished with value: 0.1999046595648718 and parameters: {'boosting_type': 'goss', 'learning_rate': 0.07363754491031098, 'reg_alpha': 2.8544290426897327e-05, 'reg_lambda': 0.014742846050361396, 'max_depth': 5, 'num_leaves': 47, 'colsample_bytree': 0.6952749842723713, 'min_child_samples': 15, 'max_bin': 138, 'subsample_freq': 4}. Best is trial 137 with value: 0.17512873362467118.\n"
     ]
    },
    {
     "name": "stdout",
     "output_type": "stream",
     "text": [
      "Repeat \u001b[1m\u001b[34m#1\n",
      "Repeat \u001b[1m\u001b[34m#2\n"
     ]
    },
    {
     "name": "stderr",
     "output_type": "stream",
     "text": [
      "[I 2023-06-29 13:54:34,557] Trial 727 finished with value: 0.19411100512733132 and parameters: {'boosting_type': 'goss', 'learning_rate': 0.03283707504968919, 'reg_alpha': 0.01866129113279213, 'reg_lambda': 1.9579827096199333e-07, 'max_depth': 6, 'num_leaves': 30, 'colsample_bytree': 0.43548738522980396, 'min_child_samples': 10, 'max_bin': 61, 'subsample_freq': 2}. Best is trial 137 with value: 0.17512873362467118.\n"
     ]
    },
    {
     "name": "stdout",
     "output_type": "stream",
     "text": [
      "Repeat \u001b[1m\u001b[34m#1\n",
      "Repeat \u001b[1m\u001b[34m#2\n"
     ]
    },
    {
     "name": "stderr",
     "output_type": "stream",
     "text": [
      "[I 2023-06-29 13:54:50,584] Trial 728 finished with value: 0.206575798914915 and parameters: {'boosting_type': 'goss', 'learning_rate': 0.0032086026747015235, 'reg_alpha': 2.064402106505403, 'reg_lambda': 0.325418549900708, 'max_depth': 9, 'num_leaves': 38, 'colsample_bytree': 0.48014783265701716, 'min_child_samples': 13, 'max_bin': 75, 'subsample_freq': 3}. Best is trial 137 with value: 0.17512873362467118.\n"
     ]
    },
    {
     "name": "stdout",
     "output_type": "stream",
     "text": [
      "Repeat \u001b[1m\u001b[34m#1\n",
      "Repeat \u001b[1m\u001b[34m#2\n"
     ]
    },
    {
     "name": "stderr",
     "output_type": "stream",
     "text": [
      "[I 2023-06-29 13:55:16,197] Trial 729 finished with value: 0.22822276266165537 and parameters: {'boosting_type': 'goss', 'learning_rate': 0.0015694075526897918, 'reg_alpha': 0.007710933147759356, 'reg_lambda': 6.332187289505682e-07, 'max_depth': 5, 'num_leaves': 56, 'colsample_bytree': 0.5158333929430005, 'min_child_samples': 5, 'max_bin': 180, 'subsample_freq': 3}. Best is trial 137 with value: 0.17512873362467118.\n"
     ]
    },
    {
     "name": "stdout",
     "output_type": "stream",
     "text": [
      "Repeat \u001b[1m\u001b[34m#1\n",
      "Repeat \u001b[1m\u001b[34m#2\n"
     ]
    },
    {
     "name": "stderr",
     "output_type": "stream",
     "text": [
      "[I 2023-06-29 13:55:38,091] Trial 730 finished with value: 0.2117809096437207 and parameters: {'boosting_type': 'goss', 'learning_rate': 0.0017944954308058772, 'reg_alpha': 4.4448313934979174e-05, 'reg_lambda': 1.0938741907776271e-05, 'max_depth': 7, 'num_leaves': 65, 'colsample_bytree': 0.5485557957522266, 'min_child_samples': 8, 'max_bin': 49, 'subsample_freq': 4}. Best is trial 137 with value: 0.17512873362467118.\n"
     ]
    },
    {
     "name": "stdout",
     "output_type": "stream",
     "text": [
      "Repeat \u001b[1m\u001b[34m#1\n",
      "Repeat \u001b[1m\u001b[34m#2\n"
     ]
    },
    {
     "name": "stderr",
     "output_type": "stream",
     "text": [
      "[I 2023-06-29 13:55:38,553] Trial 731 finished with value: 0.4904518604853364 and parameters: {'boosting_type': 'goss', 'learning_rate': 0.05101556172065305, 'reg_alpha': 0.0003229723043241928, 'reg_lambda': 0.0032135981016145018, 'max_depth': 5, 'num_leaves': 27, 'colsample_bytree': 0.5679321745729421, 'min_child_samples': 85, 'max_bin': 109, 'subsample_freq': 6}. Best is trial 137 with value: 0.17512873362467118.\n"
     ]
    },
    {
     "name": "stdout",
     "output_type": "stream",
     "text": [
      "Repeat \u001b[1m\u001b[34m#1\n",
      "Repeat \u001b[1m\u001b[34m#2\n"
     ]
    },
    {
     "name": "stderr",
     "output_type": "stream",
     "text": [
      "[I 2023-06-29 13:55:41,908] Trial 732 finished with value: 0.19386766672307731 and parameters: {'boosting_type': 'goss', 'learning_rate': 0.02421523308187414, 'reg_alpha': 1.2625921804822802e-06, 'reg_lambda': 0.02001305305905587, 'max_depth': 5, 'num_leaves': 33, 'colsample_bytree': 0.5044107041772724, 'min_child_samples': 11, 'max_bin': 194, 'subsample_freq': 3}. Best is trial 137 with value: 0.17512873362467118.\n"
     ]
    },
    {
     "name": "stdout",
     "output_type": "stream",
     "text": [
      "Repeat \u001b[1m\u001b[34m#1\n",
      "Repeat \u001b[1m\u001b[34m#2\n"
     ]
    },
    {
     "name": "stderr",
     "output_type": "stream",
     "text": [
      "[I 2023-06-29 13:55:47,049] Trial 733 finished with value: 0.18713666102451829 and parameters: {'boosting_type': 'goss', 'learning_rate': 0.011517118039799091, 'reg_alpha': 5.084492533434428e-06, 'reg_lambda': 1.4882600923844583e-08, 'max_depth': 5, 'num_leaves': 52, 'colsample_bytree': 0.48995664591922505, 'min_child_samples': 14, 'max_bin': 41, 'subsample_freq': 5}. Best is trial 137 with value: 0.17512873362467118.\n"
     ]
    },
    {
     "name": "stdout",
     "output_type": "stream",
     "text": [
      "Repeat \u001b[1m\u001b[34m#1\n",
      "Repeat \u001b[1m\u001b[34m#2\n"
     ]
    },
    {
     "name": "stderr",
     "output_type": "stream",
     "text": [
      "[I 2023-06-29 13:55:55,219] Trial 734 finished with value: 0.19194494131322715 and parameters: {'boosting_type': 'goss', 'learning_rate': 0.007894688847823518, 'reg_alpha': 0.0008738827918441882, 'reg_lambda': 4.071567046358281e-08, 'max_depth': 5, 'num_leaves': 62, 'colsample_bytree': 0.4559037879757499, 'min_child_samples': 7, 'max_bin': 32, 'subsample_freq': 3}. Best is trial 137 with value: 0.17512873362467118.\n"
     ]
    },
    {
     "name": "stdout",
     "output_type": "stream",
     "text": [
      "Repeat \u001b[1m\u001b[34m#1\n",
      "Repeat \u001b[1m\u001b[34m#2\n"
     ]
    },
    {
     "name": "stderr",
     "output_type": "stream",
     "text": [
      "[I 2023-06-29 13:56:04,042] Trial 735 finished with value: 0.18830605994341743 and parameters: {'boosting_type': 'goss', 'learning_rate': 0.006745999398799736, 'reg_alpha': 8.825516739826809e-06, 'reg_lambda': 0.0016571934457804696, 'max_depth': 5, 'num_leaves': 40, 'colsample_bytree': 0.6601408706437929, 'min_child_samples': 9, 'max_bin': 45, 'subsample_freq': 3}. Best is trial 137 with value: 0.17512873362467118.\n"
     ]
    },
    {
     "name": "stdout",
     "output_type": "stream",
     "text": [
      "Repeat \u001b[1m\u001b[34m#1\n",
      "Repeat \u001b[1m\u001b[34m#2\n"
     ]
    },
    {
     "name": "stderr",
     "output_type": "stream",
     "text": [
      "[I 2023-06-29 13:56:17,197] Trial 736 finished with value: 0.194690289720838 and parameters: {'boosting_type': 'goss', 'learning_rate': 0.0034063969324326627, 'reg_alpha': 0.011743295752977636, 'reg_lambda': 1.0779903234118164e-07, 'max_depth': 5, 'num_leaves': 60, 'colsample_bytree': 0.592324756590451, 'min_child_samples': 12, 'max_bin': 52, 'subsample_freq': 3}. Best is trial 137 with value: 0.17512873362467118.\n"
     ]
    },
    {
     "name": "stdout",
     "output_type": "stream",
     "text": [
      "Repeat \u001b[1m\u001b[34m#1\n",
      "Repeat \u001b[1m\u001b[34m#2\n"
     ]
    },
    {
     "name": "stderr",
     "output_type": "stream",
     "text": [
      "[I 2023-06-29 13:56:19,331] Trial 737 finished with value: 0.19592986157359613 and parameters: {'boosting_type': 'goss', 'learning_rate': 0.041503338976969374, 'reg_alpha': 1.4624514729778629e-05, 'reg_lambda': 2.6284856512577432e-08, 'max_depth': 6, 'num_leaves': 50, 'colsample_bytree': 0.5331645376853199, 'min_child_samples': 16, 'max_bin': 57, 'subsample_freq': 3}. Best is trial 137 with value: 0.17512873362467118.\n"
     ]
    },
    {
     "name": "stdout",
     "output_type": "stream",
     "text": [
      "Repeat \u001b[1m\u001b[34m#1\n",
      "Repeat \u001b[1m\u001b[34m#2\n"
     ]
    },
    {
     "name": "stderr",
     "output_type": "stream",
     "text": [
      "[I 2023-06-29 13:56:20,775] Trial 738 finished with value: 0.19085138654259698 and parameters: {'boosting_type': 'goss', 'learning_rate': 0.06576761172018014, 'reg_alpha': 2.570338368402382e-05, 'reg_lambda': 3.897352708745126e-07, 'max_depth': 5, 'num_leaves': 35, 'colsample_bytree': 0.5791673623832846, 'min_child_samples': 10, 'max_bin': 39, 'subsample_freq': 5}. Best is trial 137 with value: 0.17512873362467118.\n"
     ]
    },
    {
     "name": "stdout",
     "output_type": "stream",
     "text": [
      "Repeat \u001b[1m\u001b[34m#1\n",
      "Repeat \u001b[1m\u001b[34m#2\n"
     ]
    },
    {
     "name": "stderr",
     "output_type": "stream",
     "text": [
      "[I 2023-06-29 13:56:36,068] Trial 739 finished with value: 0.18909078841472476 and parameters: {'boosting_type': 'goss', 'learning_rate': 0.003971599815472117, 'reg_alpha': 1.3308524346675635e-07, 'reg_lambda': 2.5672937657374377e-05, 'max_depth': 5, 'num_leaves': 21, 'colsample_bytree': 0.6072197344464816, 'min_child_samples': 12, 'max_bin': 49, 'subsample_freq': 4}. Best is trial 137 with value: 0.17512873362467118.\n"
     ]
    },
    {
     "name": "stdout",
     "output_type": "stream",
     "text": [
      "Repeat \u001b[1m\u001b[34m#1\n",
      "Repeat \u001b[1m\u001b[34m#2\n"
     ]
    },
    {
     "name": "stderr",
     "output_type": "stream",
     "text": [
      "[I 2023-06-29 13:56:37,832] Trial 740 finished with value: 0.20359799724173447 and parameters: {'boosting_type': 'goss', 'learning_rate': 0.08314707511600541, 'reg_alpha': 0.028995680933156708, 'reg_lambda': 6.958639081133278e-08, 'max_depth': 5, 'num_leaves': 42, 'colsample_bytree': 0.3390357189273513, 'min_child_samples': 31, 'max_bin': 42, 'subsample_freq': 6}. Best is trial 137 with value: 0.17512873362467118.\n"
     ]
    },
    {
     "name": "stdout",
     "output_type": "stream",
     "text": [
      "Repeat \u001b[1m\u001b[34m#1\n",
      "Repeat \u001b[1m\u001b[34m#2\n"
     ]
    },
    {
     "name": "stderr",
     "output_type": "stream",
     "text": [
      "[I 2023-06-29 13:56:40,815] Trial 741 finished with value: 0.1853824626241608 and parameters: {'boosting_type': 'goss', 'learning_rate': 0.04643897795624114, 'reg_alpha': 1.1868360031414096e-08, 'reg_lambda': 0.1119842868238812, 'max_depth': 5, 'num_leaves': 31, 'colsample_bytree': 0.4727985675452602, 'min_child_samples': 7, 'max_bin': 36, 'subsample_freq': 3}. Best is trial 137 with value: 0.17512873362467118.\n"
     ]
    },
    {
     "name": "stdout",
     "output_type": "stream",
     "text": [
      "Repeat \u001b[1m\u001b[34m#1\n",
      "Repeat \u001b[1m\u001b[34m#2\n"
     ]
    },
    {
     "name": "stderr",
     "output_type": "stream",
     "text": [
      "[I 2023-06-29 13:56:44,368] Trial 742 finished with value: 0.19198311886844344 and parameters: {'boosting_type': 'goss', 'learning_rate': 0.03722229509243906, 'reg_alpha': 0.0013197081764942248, 'reg_lambda': 0.9326070902313464, 'max_depth': 5, 'num_leaves': 25, 'colsample_bytree': 0.4989716051228534, 'min_child_samples': 9, 'max_bin': 45, 'subsample_freq': 3}. Best is trial 137 with value: 0.17512873362467118.\n"
     ]
    },
    {
     "name": "stdout",
     "output_type": "stream",
     "text": [
      "Repeat \u001b[1m\u001b[34m#1\n",
      "Repeat \u001b[1m\u001b[34m#2\n"
     ]
    },
    {
     "name": "stderr",
     "output_type": "stream",
     "text": [
      "[I 2023-06-29 13:56:51,739] Trial 743 finished with value: 0.19321791749592673 and parameters: {'boosting_type': 'goss', 'learning_rate': 0.009529614736979919, 'reg_alpha': 1.0006613279649389e-08, 'reg_lambda': 1.924643946013321e-08, 'max_depth': 7, 'num_leaves': 47, 'colsample_bytree': 0.521335396692811, 'min_child_samples': 14, 'max_bin': 55, 'subsample_freq': 3}. Best is trial 137 with value: 0.17512873362467118.\n"
     ]
    },
    {
     "name": "stdout",
     "output_type": "stream",
     "text": [
      "Repeat \u001b[1m\u001b[34m#1\n",
      "Repeat \u001b[1m\u001b[34m#2\n"
     ]
    },
    {
     "name": "stderr",
     "output_type": "stream",
     "text": [
      "[I 2023-06-29 13:57:16,818] Trial 744 finished with value: 0.2287290090824628 and parameters: {'boosting_type': 'goss', 'learning_rate': 0.0013891143804924027, 'reg_alpha': 1.0131920832330785e-07, 'reg_lambda': 1.0094829835611708e-08, 'max_depth': 6, 'num_leaves': 37, 'colsample_bytree': 0.48286681036557433, 'min_child_samples': 5, 'max_bin': 40, 'subsample_freq': 5}. Best is trial 137 with value: 0.17512873362467118.\n"
     ]
    },
    {
     "name": "stdout",
     "output_type": "stream",
     "text": [
      "Repeat \u001b[1m\u001b[34m#1\n",
      "Repeat \u001b[1m\u001b[34m#2\n"
     ]
    },
    {
     "name": "stderr",
     "output_type": "stream",
     "text": [
      "[I 2023-06-29 13:57:18,512] Trial 745 finished with value: 0.20196310391349526 and parameters: {'boosting_type': 'goss', 'learning_rate': 0.05485984914237444, 'reg_alpha': 6.313639164636829e-05, 'reg_lambda': 3.5541681191610694e-08, 'max_depth': 5, 'num_leaves': 67, 'colsample_bytree': 0.35500975125203305, 'min_child_samples': 11, 'max_bin': 51, 'subsample_freq': 3}. Best is trial 137 with value: 0.17512873362467118.\n"
     ]
    },
    {
     "name": "stdout",
     "output_type": "stream",
     "text": [
      "Repeat \u001b[1m\u001b[34m#1\n",
      "Repeat \u001b[1m\u001b[34m#2\n"
     ]
    },
    {
     "name": "stderr",
     "output_type": "stream",
     "text": [
      "[I 2023-06-29 13:57:22,103] Trial 746 finished with value: 0.34331914892809723 and parameters: {'boosting_type': 'goss', 'learning_rate': 0.014339108703940076, 'reg_alpha': 0.08793557092666313, 'reg_lambda': 0.000150770957573398, 'max_depth': 5, 'num_leaves': 55, 'colsample_bytree': 0.5098033565339334, 'min_child_samples': 49, 'max_bin': 62, 'subsample_freq': 3}. Best is trial 137 with value: 0.17512873362467118.\n"
     ]
    },
    {
     "name": "stdout",
     "output_type": "stream",
     "text": [
      "Repeat \u001b[1m\u001b[34m#1\n",
      "Repeat \u001b[1m\u001b[34m#2\n"
     ]
    },
    {
     "name": "stderr",
     "output_type": "stream",
     "text": [
      "[I 2023-06-29 13:57:25,781] Trial 747 finished with value: 0.19250392457713875 and parameters: {'boosting_type': 'goss', 'learning_rate': 0.019921461770037473, 'reg_alpha': 0.0030235406418614996, 'reg_lambda': 0.005114138931310626, 'max_depth': 8, 'num_leaves': 29, 'colsample_bytree': 0.4642984316417211, 'min_child_samples': 8, 'max_bin': 46, 'subsample_freq': 6}. Best is trial 137 with value: 0.17512873362467118.\n"
     ]
    },
    {
     "name": "stdout",
     "output_type": "stream",
     "text": [
      "Repeat \u001b[1m\u001b[34m#1\n",
      "Repeat \u001b[1m\u001b[34m#2\n"
     ]
    },
    {
     "name": "stderr",
     "output_type": "stream",
     "text": [
      "[I 2023-06-29 13:57:38,629] Trial 748 finished with value: 0.2158018680331003 and parameters: {'boosting_type': 'goss', 'learning_rate': 0.002581986553511834, 'reg_alpha': 0.00021253352373837325, 'reg_lambda': 1.5540355318588956, 'max_depth': 5, 'num_leaves': 58, 'colsample_bytree': 0.49438806528316187, 'min_child_samples': 13, 'max_bin': 36, 'subsample_freq': 5}. Best is trial 137 with value: 0.17512873362467118.\n"
     ]
    },
    {
     "name": "stdout",
     "output_type": "stream",
     "text": [
      "Repeat \u001b[1m\u001b[34m#1\n",
      "Repeat \u001b[1m\u001b[34m#2\n"
     ]
    },
    {
     "name": "stderr",
     "output_type": "stream",
     "text": [
      "[I 2023-06-29 13:57:55,962] Trial 749 finished with value: 0.23161198260700816 and parameters: {'boosting_type': 'goss', 'learning_rate': 0.0016298367937562295, 'reg_alpha': 1.460083204859328e-07, 'reg_lambda': 0.012605086098841227, 'max_depth': 5, 'num_leaves': 32, 'colsample_bytree': 0.47826137461944995, 'min_child_samples': 10, 'max_bin': 42, 'subsample_freq': 3}. Best is trial 137 with value: 0.17512873362467118.\n"
     ]
    },
    {
     "name": "stdout",
     "output_type": "stream",
     "text": [
      "Repeat \u001b[1m\u001b[34m#1\n",
      "Repeat \u001b[1m\u001b[34m#2\n"
     ]
    },
    {
     "name": "stderr",
     "output_type": "stream",
     "text": [
      "[I 2023-06-29 13:57:57,627] Trial 750 finished with value: 0.1945157719456963 and parameters: {'boosting_type': 'goss', 'learning_rate': 0.06903451809983588, 'reg_alpha': 0.00011292939567130693, 'reg_lambda': 0.028569654045005537, 'max_depth': 5, 'num_leaves': 44, 'colsample_bytree': 0.6246937003786699, 'min_child_samples': 17, 'max_bin': 49, 'subsample_freq': 4}. Best is trial 137 with value: 0.17512873362467118.\n"
     ]
    },
    {
     "name": "stdout",
     "output_type": "stream",
     "text": [
      "Repeat \u001b[1m\u001b[34m#1\n",
      "Repeat \u001b[1m\u001b[34m#2\n"
     ]
    },
    {
     "name": "stderr",
     "output_type": "stream",
     "text": [
      "[I 2023-06-29 13:58:01,969] Trial 751 finished with value: 0.18781164203072206 and parameters: {'boosting_type': 'goss', 'learning_rate': 0.01861173521382471, 'reg_alpha': 3.275875922071079e-07, 'reg_lambda': 0.000333544290208984, 'max_depth': 6, 'num_leaves': 39, 'colsample_bytree': 0.5288964624263915, 'min_child_samples': 7, 'max_bin': 32, 'subsample_freq': 7}. Best is trial 137 with value: 0.17512873362467118.\n"
     ]
    },
    {
     "name": "stdout",
     "output_type": "stream",
     "text": [
      "Repeat \u001b[1m\u001b[34m#1\n",
      "Repeat \u001b[1m\u001b[34m#2\n"
     ]
    },
    {
     "name": "stderr",
     "output_type": "stream",
     "text": [
      "[I 2023-06-29 13:58:03,732] Trial 752 finished with value: 0.20066784968584972 and parameters: {'boosting_type': 'goss', 'learning_rate': 0.06127040293455848, 'reg_alpha': 1.023278879300836e-05, 'reg_lambda': 0.3631980702379733, 'max_depth': 5, 'num_leaves': 93, 'colsample_bytree': 0.5986531672814618, 'min_child_samples': 12, 'max_bin': 54, 'subsample_freq': 3}. Best is trial 137 with value: 0.17512873362467118.\n"
     ]
    },
    {
     "name": "stdout",
     "output_type": "stream",
     "text": [
      "Repeat \u001b[1m\u001b[34m#1\n",
      "Repeat \u001b[1m\u001b[34m#2\n"
     ]
    },
    {
     "name": "stderr",
     "output_type": "stream",
     "text": [
      "[I 2023-06-29 13:58:05,224] Trial 753 finished with value: 0.19488560624852763 and parameters: {'boosting_type': 'goss', 'learning_rate': 0.08111137542086178, 'reg_alpha': 0.12228176801123311, 'reg_lambda': 1.2990384162604073e-07, 'max_depth': 5, 'num_leaves': 49, 'colsample_bytree': 0.5022937775960423, 'min_child_samples': 10, 'max_bin': 67, 'subsample_freq': 3}. Best is trial 137 with value: 0.17512873362467118.\n"
     ]
    },
    {
     "name": "stdout",
     "output_type": "stream",
     "text": [
      "Repeat \u001b[1m\u001b[34m#1\n",
      "Repeat \u001b[1m\u001b[34m#2\n"
     ]
    },
    {
     "name": "stderr",
     "output_type": "stream",
     "text": [
      "[I 2023-06-29 13:58:18,963] Trial 754 finished with value: 0.2128715925315556 and parameters: {'boosting_type': 'goss', 'learning_rate': 0.002769729381398523, 'reg_alpha': 3.860664371037363e-06, 'reg_lambda': 4.638908100155527e-08, 'max_depth': 5, 'num_leaves': 35, 'colsample_bytree': 0.3258051153348941, 'min_child_samples': 15, 'max_bin': 59, 'subsample_freq': 6}. Best is trial 137 with value: 0.17512873362467118.\n"
     ]
    },
    {
     "name": "stdout",
     "output_type": "stream",
     "text": [
      "Repeat \u001b[1m\u001b[34m#1\n",
      "Repeat \u001b[1m\u001b[34m#2\n"
     ]
    },
    {
     "name": "stderr",
     "output_type": "stream",
     "text": [
      "[I 2023-06-29 13:58:21,306] Trial 755 finished with value: 0.2017812826642928 and parameters: {'boosting_type': 'goss', 'learning_rate': 0.042979147775403806, 'reg_alpha': 3.5539372751083424e-05, 'reg_lambda': 0.748212258574075, 'max_depth': 5, 'num_leaves': 28, 'colsample_bytree': 0.5558214168465375, 'min_child_samples': 8, 'max_bin': 43, 'subsample_freq': 5}. Best is trial 137 with value: 0.17512873362467118.\n"
     ]
    },
    {
     "name": "stdout",
     "output_type": "stream",
     "text": [
      "Repeat \u001b[1m\u001b[34m#1\n",
      "Repeat \u001b[1m\u001b[34m#2\n"
     ]
    },
    {
     "name": "stderr",
     "output_type": "stream",
     "text": [
      "[I 2023-06-29 13:58:23,979] Trial 756 finished with value: 0.18132968198444255 and parameters: {'boosting_type': 'goss', 'learning_rate': 0.0345766917354798, 'reg_alpha': 2.0089120830257767e-05, 'reg_lambda': 7.907178643354655e-08, 'max_depth': 6, 'num_leaves': 63, 'colsample_bytree': 0.48728282665621564, 'min_child_samples': 12, 'max_bin': 38, 'subsample_freq': 2}. Best is trial 137 with value: 0.17512873362467118.\n"
     ]
    },
    {
     "name": "stdout",
     "output_type": "stream",
     "text": [
      "Repeat \u001b[1m\u001b[34m#1\n",
      "Repeat \u001b[1m\u001b[34m#2\n"
     ]
    },
    {
     "name": "stderr",
     "output_type": "stream",
     "text": [
      "[I 2023-06-29 13:58:26,259] Trial 757 finished with value: 0.197413578689919 and parameters: {'boosting_type': 'goss', 'learning_rate': 0.03385365951060232, 'reg_alpha': 1.8930158852422732e-05, 'reg_lambda': 5.943424683663022e-05, 'max_depth': 6, 'num_leaves': 64, 'colsample_bytree': 0.4882678156764402, 'min_child_samples': 15, 'max_bin': 47, 'subsample_freq': 2}. Best is trial 137 with value: 0.17512873362467118.\n"
     ]
    },
    {
     "name": "stdout",
     "output_type": "stream",
     "text": [
      "Repeat \u001b[1m\u001b[34m#1\n",
      "Repeat \u001b[1m\u001b[34m#2\n"
     ]
    },
    {
     "name": "stderr",
     "output_type": "stream",
     "text": [
      "[I 2023-06-29 13:58:28,893] Trial 758 finished with value: 0.19542810334212585 and parameters: {'boosting_type': 'goss', 'learning_rate': 0.0290004111244994, 'reg_alpha': 1.567768649483358e-05, 'reg_lambda': 7.174226740394494e-08, 'max_depth': 5, 'num_leaves': 63, 'colsample_bytree': 0.48469766516211327, 'min_child_samples': 21, 'max_bin': 39, 'subsample_freq': 2}. Best is trial 137 with value: 0.17512873362467118.\n"
     ]
    },
    {
     "name": "stdout",
     "output_type": "stream",
     "text": [
      "Repeat \u001b[1m\u001b[34m#1\n",
      "Repeat \u001b[1m\u001b[34m#2\n"
     ]
    },
    {
     "name": "stderr",
     "output_type": "stream",
     "text": [
      "[I 2023-06-29 13:58:31,654] Trial 759 finished with value: 0.19412975346540354 and parameters: {'boosting_type': 'goss', 'learning_rate': 0.030388682372507147, 'reg_alpha': 0.661233798590367, 'reg_lambda': 9.754451177270317e-05, 'max_depth': 5, 'num_leaves': 65, 'colsample_bytree': 0.4697510236395203, 'min_child_samples': 14, 'max_bin': 127, 'subsample_freq': 1}. Best is trial 137 with value: 0.17512873362467118.\n"
     ]
    },
    {
     "name": "stdout",
     "output_type": "stream",
     "text": [
      "Repeat \u001b[1m\u001b[34m#1\n",
      "Repeat \u001b[1m\u001b[34m#2\n"
     ]
    },
    {
     "name": "stderr",
     "output_type": "stream",
     "text": [
      "[I 2023-06-29 13:58:34,764] Trial 760 finished with value: 0.19493090190404502 and parameters: {'boosting_type': 'goss', 'learning_rate': 0.026695476523048958, 'reg_alpha': 3.4732114207333944e-05, 'reg_lambda': 4.6685005688393756e-06, 'max_depth': 7, 'num_leaves': 68, 'colsample_bytree': 0.4771627365225949, 'min_child_samples': 18, 'max_bin': 81, 'subsample_freq': 2}. Best is trial 137 with value: 0.17512873362467118.\n"
     ]
    },
    {
     "name": "stdout",
     "output_type": "stream",
     "text": [
      "Repeat \u001b[1m\u001b[34m#1\n",
      "Repeat \u001b[1m\u001b[34m#2\n"
     ]
    },
    {
     "name": "stderr",
     "output_type": "stream",
     "text": [
      "[I 2023-06-29 13:58:37,407] Trial 761 finished with value: 0.1876139079005209 and parameters: {'boosting_type': 'goss', 'learning_rate': 0.03237596969912881, 'reg_alpha': 6.821961576104941e-06, 'reg_lambda': 1.9585234103068317e-08, 'max_depth': 5, 'num_leaves': 69, 'colsample_bytree': 0.49421871003337137, 'min_child_samples': 12, 'max_bin': 52, 'subsample_freq': 2}. Best is trial 137 with value: 0.17512873362467118.\n"
     ]
    },
    {
     "name": "stdout",
     "output_type": "stream",
     "text": [
      "Repeat \u001b[1m\u001b[34m#1\n",
      "Repeat \u001b[1m\u001b[34m#2\n"
     ]
    },
    {
     "name": "stderr",
     "output_type": "stream",
     "text": [
      "[I 2023-06-29 13:58:40,959] Trial 762 finished with value: 0.18857825302094236 and parameters: {'boosting_type': 'goss', 'learning_rate': 0.036023244771759826, 'reg_alpha': 2.676014115152407e-05, 'reg_lambda': 4.598360073951998, 'max_depth': 5, 'num_leaves': 61, 'colsample_bytree': 0.5070312735197825, 'min_child_samples': 13, 'max_bin': 44, 'subsample_freq': 2}. Best is trial 137 with value: 0.17512873362467118.\n"
     ]
    },
    {
     "name": "stdout",
     "output_type": "stream",
     "text": [
      "Repeat \u001b[1m\u001b[34m#1\n",
      "Repeat \u001b[1m\u001b[34m#2\n"
     ]
    },
    {
     "name": "stderr",
     "output_type": "stream",
     "text": [
      "[I 2023-06-29 13:58:42,327] Trial 763 finished with value: 0.20151106695404364 and parameters: {'boosting_type': 'goss', 'learning_rate': 0.07333702277837847, 'reg_alpha': 1.0417426505360765e-05, 'reg_lambda': 9.483524896591165e-07, 'max_depth': 5, 'num_leaves': 61, 'colsample_bytree': 0.4539005045821975, 'min_child_samples': 16, 'max_bin': 102, 'subsample_freq': 1}. Best is trial 137 with value: 0.17512873362467118.\n"
     ]
    },
    {
     "name": "stdout",
     "output_type": "stream",
     "text": [
      "Repeat \u001b[1m\u001b[34m#1\n",
      "Repeat \u001b[1m\u001b[34m#2\n"
     ]
    },
    {
     "name": "stderr",
     "output_type": "stream",
     "text": [
      "[I 2023-06-29 13:58:44,339] Trial 764 finished with value: 0.19361907218587487 and parameters: {'boosting_type': 'goss', 'learning_rate': 0.05853273449531369, 'reg_alpha': 1.859019360812833e-05, 'reg_lambda': 1.5218431936663766e-05, 'max_depth': 5, 'num_leaves': 60, 'colsample_bytree': 0.4906281033256359, 'min_child_samples': 11, 'max_bin': 144, 'subsample_freq': 4}. Best is trial 137 with value: 0.17512873362467118.\n"
     ]
    },
    {
     "name": "stdout",
     "output_type": "stream",
     "text": [
      "Repeat \u001b[1m\u001b[34m#1\n",
      "Repeat \u001b[1m\u001b[34m#2\n"
     ]
    },
    {
     "name": "stderr",
     "output_type": "stream",
     "text": [
      "[I 2023-06-29 13:58:52,589] Trial 765 finished with value: 0.19287265969415285 and parameters: {'boosting_type': 'goss', 'learning_rate': 0.008652092862778389, 'reg_alpha': 4.720419500275726e-05, 'reg_lambda': 2.895133597419476e-08, 'max_depth': 5, 'num_leaves': 65, 'colsample_bytree': 0.5141651957880862, 'min_child_samples': 9, 'max_bin': 35, 'subsample_freq': 2}. Best is trial 137 with value: 0.17512873362467118.\n"
     ]
    },
    {
     "name": "stdout",
     "output_type": "stream",
     "text": [
      "Repeat \u001b[1m\u001b[34m#1\n",
      "Repeat \u001b[1m\u001b[34m#2\n"
     ]
    },
    {
     "name": "stderr",
     "output_type": "stream",
     "text": [
      "[I 2023-06-29 13:59:04,448] Trial 766 finished with value: 0.20050916770548158 and parameters: {'boosting_type': 'goss', 'learning_rate': 0.004678674971715825, 'reg_alpha': 9.080763808774237e-05, 'reg_lambda': 1.4222211250766676e-08, 'max_depth': 6, 'num_leaves': 57, 'colsample_bytree': 0.49959395980494686, 'min_child_samples': 13, 'max_bin': 216, 'subsample_freq': 1}. Best is trial 137 with value: 0.17512873362467118.\n"
     ]
    },
    {
     "name": "stdout",
     "output_type": "stream",
     "text": [
      "Repeat \u001b[1m\u001b[34m#1\n",
      "Repeat \u001b[1m\u001b[34m#2\n"
     ]
    },
    {
     "name": "stderr",
     "output_type": "stream",
     "text": [
      "[I 2023-06-29 13:59:08,506] Trial 767 finished with value: 0.19083802890709542 and parameters: {'boosting_type': 'goss', 'learning_rate': 0.015405362241448024, 'reg_alpha': 0.0006448507991276758, 'reg_lambda': 4.987467284721674e-08, 'max_depth': 5, 'num_leaves': 115, 'colsample_bytree': 0.411007665151758, 'min_child_samples': 11, 'max_bin': 49, 'subsample_freq': 4}. Best is trial 137 with value: 0.17512873362467118.\n"
     ]
    },
    {
     "name": "stdout",
     "output_type": "stream",
     "text": [
      "Repeat \u001b[1m\u001b[34m#1\n",
      "Repeat \u001b[1m\u001b[34m#2\n"
     ]
    },
    {
     "name": "stderr",
     "output_type": "stream",
     "text": [
      "[I 2023-06-29 13:59:09,994] Trial 768 finished with value: 0.2168691433188477 and parameters: {'boosting_type': 'goss', 'learning_rate': 0.06668478734256379, 'reg_alpha': 1.2791004870937053e-05, 'reg_lambda': 0.0004799156384728396, 'max_depth': 7, 'num_leaves': 63, 'colsample_bytree': 0.48215559954784765, 'min_child_samples': 38, 'max_bin': 57, 'subsample_freq': 2}. Best is trial 137 with value: 0.17512873362467118.\n"
     ]
    },
    {
     "name": "stdout",
     "output_type": "stream",
     "text": [
      "Repeat \u001b[1m\u001b[34m#1\n",
      "Repeat \u001b[1m\u001b[34m#2\n"
     ]
    },
    {
     "name": "stderr",
     "output_type": "stream",
     "text": [
      "[I 2023-06-29 13:59:30,783] Trial 769 finished with value: 0.20628723601531354 and parameters: {'boosting_type': 'goss', 'learning_rate': 0.00198103438810252, 'reg_alpha': 2.2964961541129474e-06, 'reg_lambda': 9.251306726022716e-08, 'max_depth': 5, 'num_leaves': 67, 'colsample_bytree': 0.5369923957555769, 'min_child_samples': 6, 'max_bin': 40, 'subsample_freq': 2}. Best is trial 137 with value: 0.17512873362467118.\n"
     ]
    },
    {
     "name": "stdout",
     "output_type": "stream",
     "text": [
      "Repeat \u001b[1m\u001b[34m#1\n",
      "Repeat \u001b[1m\u001b[34m#2\n"
     ]
    },
    {
     "name": "stderr",
     "output_type": "stream",
     "text": [
      "[I 2023-06-29 13:59:33,955] Trial 770 finished with value: 0.18675677720289696 and parameters: {'boosting_type': 'goss', 'learning_rate': 0.027774066889658278, 'reg_alpha': 2.0076753826313263e-05, 'reg_lambda': 2.4522766970115446e-08, 'max_depth': 5, 'num_leaves': 54, 'colsample_bytree': 0.4661776434191882, 'min_child_samples': 9, 'max_bin': 46, 'subsample_freq': 4}. Best is trial 137 with value: 0.17512873362467118.\n"
     ]
    },
    {
     "name": "stdout",
     "output_type": "stream",
     "text": [
      "Repeat \u001b[1m\u001b[34m#1\n",
      "Repeat \u001b[1m\u001b[34m#2\n"
     ]
    },
    {
     "name": "stderr",
     "output_type": "stream",
     "text": [
      "[I 2023-06-29 13:59:38,861] Trial 771 finished with value: 0.18909124391264281 and parameters: {'boosting_type': 'goss', 'learning_rate': 0.012488341914667673, 'reg_alpha': 5.372567375010814e-06, 'reg_lambda': 2.0899153934206606e-06, 'max_depth': 5, 'num_leaves': 59, 'colsample_bytree': 0.5216664819886605, 'min_child_samples': 14, 'max_bin': 35, 'subsample_freq': 2}. Best is trial 137 with value: 0.17512873362467118.\n"
     ]
    },
    {
     "name": "stdout",
     "output_type": "stream",
     "text": [
      "Repeat \u001b[1m\u001b[34m#1\n",
      "Repeat \u001b[1m\u001b[34m#2\n"
     ]
    },
    {
     "name": "stderr",
     "output_type": "stream",
     "text": [
      "[I 2023-06-29 13:59:52,954] Trial 772 finished with value: 0.20746374276624752 and parameters: {'boosting_type': 'goss', 'learning_rate': 0.0031576198933722975, 'reg_alpha': 2.8327523614064978, 'reg_lambda': 6.485665411861471e-08, 'max_depth': 5, 'num_leaves': 41, 'colsample_bytree': 0.6865443089468382, 'min_child_samples': 11, 'max_bin': 42, 'subsample_freq': 4}. Best is trial 137 with value: 0.17512873362467118.\n"
     ]
    },
    {
     "name": "stdout",
     "output_type": "stream",
     "text": [
      "Repeat \u001b[1m\u001b[34m#1\n",
      "Repeat \u001b[1m\u001b[34m#2\n"
     ]
    },
    {
     "name": "stderr",
     "output_type": "stream",
     "text": [
      "[I 2023-06-29 13:59:55,461] Trial 773 finished with value: 0.19012902356537537 and parameters: {'boosting_type': 'goss', 'learning_rate': 0.034910916135996506, 'reg_alpha': 0.0003565930773302142, 'reg_lambda': 1.0666280522860155e-05, 'max_depth': 6, 'num_leaves': 52, 'colsample_bytree': 0.6477165486307604, 'min_child_samples': 7, 'max_bin': 53, 'subsample_freq': 1}. Best is trial 137 with value: 0.17512873362467118.\n"
     ]
    },
    {
     "name": "stdout",
     "output_type": "stream",
     "text": [
      "Repeat \u001b[1m\u001b[34m#1\n",
      "Repeat \u001b[1m\u001b[34m#2\n"
     ]
    },
    {
     "name": "stderr",
     "output_type": "stream",
     "text": [
      "[I 2023-06-29 13:59:59,619] Trial 774 finished with value: 0.19161994427202644 and parameters: {'boosting_type': 'goss', 'learning_rate': 0.016697561709252382, 'reg_alpha': 4.7061506788227996e-05, 'reg_lambda': 0.0011735062926183774, 'max_depth': 5, 'num_leaves': 62, 'colsample_bytree': 0.6166909380154916, 'min_child_samples': 5, 'max_bin': 70, 'subsample_freq': 5}. Best is trial 137 with value: 0.17512873362467118.\n"
     ]
    },
    {
     "name": "stdout",
     "output_type": "stream",
     "text": [
      "Repeat \u001b[1m\u001b[34m#1\n",
      "Repeat \u001b[1m\u001b[34m#2\n"
     ]
    },
    {
     "name": "stderr",
     "output_type": "stream",
     "text": [
      "[I 2023-06-29 14:00:15,218] Trial 775 finished with value: 0.19880485355235722 and parameters: {'boosting_type': 'goss', 'learning_rate': 0.0029566205548162113, 'reg_alpha': 2.7335600203993323e-05, 'reg_lambda': 3.37418549578821e-08, 'max_depth': 5, 'num_leaves': 59, 'colsample_bytree': 0.4890089500245123, 'min_child_samples': 12, 'max_bin': 63, 'subsample_freq': 5}. Best is trial 137 with value: 0.17512873362467118.\n"
     ]
    },
    {
     "name": "stdout",
     "output_type": "stream",
     "text": [
      "Repeat \u001b[1m\u001b[34m#1\n",
      "Repeat \u001b[1m\u001b[34m#2\n"
     ]
    },
    {
     "name": "stderr",
     "output_type": "stream",
     "text": [
      "[I 2023-06-29 14:00:17,260] Trial 776 finished with value: 0.1926825477749774 and parameters: {'boosting_type': 'goss', 'learning_rate': 0.07784580942867629, 'reg_alpha': 0.001931950680729433, 'reg_lambda': 1.5112393541439417e-07, 'max_depth': 5, 'num_leaves': 57, 'colsample_bytree': 0.500237695488829, 'min_child_samples': 9, 'max_bin': 48, 'subsample_freq': 6}. Best is trial 137 with value: 0.17512873362467118.\n"
     ]
    },
    {
     "name": "stdout",
     "output_type": "stream",
     "text": [
      "Repeat \u001b[1m\u001b[34m#1\n",
      "Repeat \u001b[1m\u001b[34m#2\n"
     ]
    },
    {
     "name": "stderr",
     "output_type": "stream",
     "text": [
      "[I 2023-06-29 14:00:19,462] Trial 777 finished with value: 0.19824698987791958 and parameters: {'boosting_type': 'goss', 'learning_rate': 0.05254013387254039, 'reg_alpha': 0.0001595928830771885, 'reg_lambda': 0.06268687570686272, 'max_depth': 5, 'num_leaves': 43, 'colsample_bytree': 0.3499008017430236, 'min_child_samples': 16, 'max_bin': 39, 'subsample_freq': 4}. Best is trial 137 with value: 0.17512873362467118.\n"
     ]
    },
    {
     "name": "stdout",
     "output_type": "stream",
     "text": [
      "Repeat \u001b[1m\u001b[34m#1\n",
      "Repeat \u001b[1m\u001b[34m#2\n"
     ]
    },
    {
     "name": "stderr",
     "output_type": "stream",
     "text": [
      "[I 2023-06-29 14:00:23,608] Trial 778 finished with value: 0.20322125674594782 and parameters: {'boosting_type': 'goss', 'learning_rate': 0.03902619890620654, 'reg_alpha': 6.174096799459476e-05, 'reg_lambda': 8.850408196542583, 'max_depth': 5, 'num_leaves': 46, 'colsample_bytree': 0.3904096453028242, 'min_child_samples': 10, 'max_bin': 208, 'subsample_freq': 1}. Best is trial 137 with value: 0.17512873362467118.\n"
     ]
    },
    {
     "name": "stdout",
     "output_type": "stream",
     "text": [
      "Repeat \u001b[1m\u001b[34m#1\n",
      "Repeat \u001b[1m\u001b[34m#2\n"
     ]
    },
    {
     "name": "stderr",
     "output_type": "stream",
     "text": [
      "[I 2023-06-29 14:00:26,164] Trial 779 finished with value: 0.20198290377985784 and parameters: {'boosting_type': 'goss', 'learning_rate': 0.06200899269620503, 'reg_alpha': 6.1572166610791985, 'reg_lambda': 1.9496042887487064e-05, 'max_depth': 5, 'num_leaves': 37, 'colsample_bytree': 0.47600756041963943, 'min_child_samples': 13, 'max_bin': 44, 'subsample_freq': 2}. Best is trial 137 with value: 0.17512873362467118.\n"
     ]
    },
    {
     "name": "stdout",
     "output_type": "stream",
     "text": [
      "Repeat \u001b[1m\u001b[34m#1\n",
      "Repeat \u001b[1m\u001b[34m#2\n"
     ]
    },
    {
     "name": "stderr",
     "output_type": "stream",
     "text": [
      "[I 2023-06-29 14:00:31,484] Trial 780 finished with value: 0.1868832669020667 and parameters: {'boosting_type': 'goss', 'learning_rate': 0.021847346416583636, 'reg_alpha': 0.001172542500298614, 'reg_lambda': 6.007394464361945e-06, 'max_depth': 6, 'num_leaves': 70, 'colsample_bytree': 0.4469967403052222, 'min_child_samples': 8, 'max_bin': 57, 'subsample_freq': 5}. Best is trial 137 with value: 0.17512873362467118.\n"
     ]
    },
    {
     "name": "stdout",
     "output_type": "stream",
     "text": [
      "Repeat \u001b[1m\u001b[34m#1\n",
      "Repeat \u001b[1m\u001b[34m#2\n"
     ]
    },
    {
     "name": "stderr",
     "output_type": "stream",
     "text": [
      "[I 2023-06-29 14:00:37,638] Trial 781 finished with value: 0.19041902364553775 and parameters: {'boosting_type': 'goss', 'learning_rate': 0.011191374594649414, 'reg_alpha': 0.5382330919522216, 'reg_lambda': 2.4835762602594324e-07, 'max_depth': 5, 'num_leaves': 55, 'colsample_bytree': 0.5455854295445445, 'min_child_samples': 11, 'max_bin': 51, 'subsample_freq': 5}. Best is trial 137 with value: 0.17512873362467118.\n"
     ]
    },
    {
     "name": "stdout",
     "output_type": "stream",
     "text": [
      "Repeat \u001b[1m\u001b[34m#1\n",
      "Repeat \u001b[1m\u001b[34m#2\n"
     ]
    },
    {
     "name": "stderr",
     "output_type": "stream",
     "text": [
      "[I 2023-06-29 14:00:39,506] Trial 782 finished with value: 0.19729579823648086 and parameters: {'boosting_type': 'goss', 'learning_rate': 0.07094958374464377, 'reg_alpha': 7.1011562885210774e-06, 'reg_lambda': 7.86521781367102e-05, 'max_depth': 5, 'num_leaves': 49, 'colsample_bytree': 0.4587820896997924, 'min_child_samples': 15, 'max_bin': 36, 'subsample_freq': 4}. Best is trial 137 with value: 0.17512873362467118.\n"
     ]
    },
    {
     "name": "stdout",
     "output_type": "stream",
     "text": [
      "Repeat \u001b[1m\u001b[34m#1\n",
      "Repeat \u001b[1m\u001b[34m#2\n"
     ]
    },
    {
     "name": "stderr",
     "output_type": "stream",
     "text": [
      "[I 2023-06-29 14:00:59,678] Trial 783 finished with value: 0.24006898854645442 and parameters: {'boosting_type': 'goss', 'learning_rate': 0.0014160466745736613, 'reg_alpha': 1.1837105964100864e-05, 'reg_lambda': 1.7029339134518472e-08, 'max_depth': 5, 'num_leaves': 63, 'colsample_bytree': 0.4290792079061974, 'min_child_samples': 7, 'max_bin': 32, 'subsample_freq': 6}. Best is trial 137 with value: 0.17512873362467118.\n"
     ]
    },
    {
     "name": "stdout",
     "output_type": "stream",
     "text": [
      "Repeat \u001b[1m\u001b[34m#1\n",
      "Repeat \u001b[1m\u001b[34m#2\n"
     ]
    },
    {
     "name": "stderr",
     "output_type": "stream",
     "text": [
      "[I 2023-06-29 14:01:02,447] Trial 784 finished with value: 0.18589864401048595 and parameters: {'boosting_type': 'goss', 'learning_rate': 0.03206965687551241, 'reg_alpha': 1.290422489544798e-06, 'reg_lambda': 0.03526120267667966, 'max_depth': 7, 'num_leaves': 41, 'colsample_bytree': 0.5120417260326247, 'min_child_samples': 10, 'max_bin': 75, 'subsample_freq': 6}. Best is trial 137 with value: 0.17512873362467118.\n"
     ]
    },
    {
     "name": "stdout",
     "output_type": "stream",
     "text": [
      "Repeat \u001b[1m\u001b[34m#1\n",
      "Repeat \u001b[1m\u001b[34m#2\n"
     ]
    },
    {
     "name": "stderr",
     "output_type": "stream",
     "text": [
      "[I 2023-06-29 14:01:12,406] Trial 785 finished with value: 0.19816290337796805 and parameters: {'boosting_type': 'goss', 'learning_rate': 0.005887978093198203, 'reg_alpha': 2.1271656480400304e-05, 'reg_lambda': 4.784412486269408e-08, 'max_depth': 6, 'num_leaves': 38, 'colsample_bytree': 0.49287309435006604, 'min_child_samples': 19, 'max_bin': 43, 'subsample_freq': 5}. Best is trial 137 with value: 0.17512873362467118.\n"
     ]
    },
    {
     "name": "stdout",
     "output_type": "stream",
     "text": [
      "Repeat \u001b[1m\u001b[34m#1\n",
      "Repeat \u001b[1m\u001b[34m#2\n"
     ]
    },
    {
     "name": "stderr",
     "output_type": "stream",
     "text": [
      "[I 2023-06-29 14:01:13,936] Trial 786 finished with value: 0.20817219984187432 and parameters: {'boosting_type': 'goss', 'learning_rate': 0.08496780577922536, 'reg_alpha': 0.15554572145986098, 'reg_lambda': 0.5126059232642964, 'max_depth': 5, 'num_leaves': 52, 'colsample_bytree': 0.4833672967245389, 'min_child_samples': 27, 'max_bin': 48, 'subsample_freq': 4}. Best is trial 137 with value: 0.17512873362467118.\n"
     ]
    },
    {
     "name": "stdout",
     "output_type": "stream",
     "text": [
      "Repeat \u001b[1m\u001b[34m#1\n",
      "Repeat \u001b[1m\u001b[34m#2\n"
     ]
    },
    {
     "name": "stderr",
     "output_type": "stream",
     "text": [
      "[I 2023-06-29 14:01:15,713] Trial 787 finished with value: 0.18818159059834336 and parameters: {'boosting_type': 'goss', 'learning_rate': 0.05593770958793118, 'reg_alpha': 1.7999586474063119e-07, 'reg_lambda': 3.989860746964523e-05, 'max_depth': 5, 'num_leaves': 46, 'colsample_bytree': 0.5299686711060441, 'min_child_samples': 13, 'max_bin': 39, 'subsample_freq': 5}. Best is trial 137 with value: 0.17512873362467118.\n"
     ]
    },
    {
     "name": "stdout",
     "output_type": "stream",
     "text": [
      "Repeat \u001b[1m\u001b[34m#1\n",
      "Repeat \u001b[1m\u001b[34m#2\n"
     ]
    },
    {
     "name": "stderr",
     "output_type": "stream",
     "text": [
      "[I 2023-06-29 14:01:17,667] Trial 788 finished with value: 0.18645282758800777 and parameters: {'boosting_type': 'goss', 'learning_rate': 0.04904454938899147, 'reg_alpha': 0.0004406677391115986, 'reg_lambda': 1.0284156802257368e-07, 'max_depth': 5, 'num_leaves': 66, 'colsample_bytree': 0.4713303791859484, 'min_child_samples': 9, 'max_bin': 54, 'subsample_freq': 2}. Best is trial 137 with value: 0.17512873362467118.\n"
     ]
    },
    {
     "name": "stdout",
     "output_type": "stream",
     "text": [
      "Repeat \u001b[1m\u001b[34m#1\n",
      "Repeat \u001b[1m\u001b[34m#2\n"
     ]
    },
    {
     "name": "stderr",
     "output_type": "stream",
     "text": [
      "[I 2023-06-29 14:01:18,997] Trial 789 finished with value: 0.2001801273241966 and parameters: {'boosting_type': 'goss', 'learning_rate': 0.09992722185311523, 'reg_alpha': 4.28852721812134e-08, 'reg_lambda': 1.0060504296051244e-08, 'max_depth': 5, 'num_leaves': 83, 'colsample_bytree': 0.505847856339585, 'min_child_samples': 12, 'max_bin': 46, 'subsample_freq': 4}. Best is trial 137 with value: 0.17512873362467118.\n"
     ]
    },
    {
     "name": "stdout",
     "output_type": "stream",
     "text": [
      "Repeat \u001b[1m\u001b[34m#1\n",
      "Repeat \u001b[1m\u001b[34m#2\n"
     ]
    },
    {
     "name": "stderr",
     "output_type": "stream",
     "text": [
      "[I 2023-06-29 14:01:19,577] Trial 790 finished with value: 0.5004381926915942 and parameters: {'boosting_type': 'goss', 'learning_rate': 0.06416416563753959, 'reg_alpha': 3.580611502776563e-05, 'reg_lambda': 8.131988749656434e-06, 'max_depth': 5, 'num_leaves': 59, 'colsample_bytree': 0.5176942525326708, 'min_child_samples': 94, 'max_bin': 61, 'subsample_freq': 6}. Best is trial 137 with value: 0.17512873362467118.\n"
     ]
    },
    {
     "name": "stdout",
     "output_type": "stream",
     "text": [
      "Repeat \u001b[1m\u001b[34m#1\n",
      "Repeat \u001b[1m\u001b[34m#2\n"
     ]
    },
    {
     "name": "stderr",
     "output_type": "stream",
     "text": [
      "[I 2023-06-29 14:01:21,894] Trial 791 finished with value: 0.19960332187667326 and parameters: {'boosting_type': 'goss', 'learning_rate': 0.039972925834901966, 'reg_alpha': 0.004319673491117684, 'reg_lambda': 2.9984256248763917e-06, 'max_depth': 7, 'num_leaves': 34, 'colsample_bytree': 0.5510627933445305, 'min_child_samples': 5, 'max_bin': 39, 'subsample_freq': 3}. Best is trial 137 with value: 0.17512873362467118.\n"
     ]
    },
    {
     "name": "stdout",
     "output_type": "stream",
     "text": [
      "Repeat \u001b[1m\u001b[34m#1\n",
      "Repeat \u001b[1m\u001b[34m#2\n"
     ]
    },
    {
     "name": "stderr",
     "output_type": "stream",
     "text": [
      "[I 2023-06-29 14:01:24,921] Trial 792 finished with value: 0.19037679253827794 and parameters: {'boosting_type': 'goss', 'learning_rate': 0.024132908116883504, 'reg_alpha': 2.9140538059793317e-06, 'reg_lambda': 2.8371663076958187e-08, 'max_depth': 5, 'num_leaves': 43, 'colsample_bytree': 0.4382223642708382, 'min_child_samples': 7, 'max_bin': 49, 'subsample_freq': 3}. Best is trial 137 with value: 0.17512873362467118.\n"
     ]
    },
    {
     "name": "stdout",
     "output_type": "stream",
     "text": [
      "Repeat \u001b[1m\u001b[34m#1\n",
      "Repeat \u001b[1m\u001b[34m#2\n"
     ]
    },
    {
     "name": "stderr",
     "output_type": "stream",
     "text": [
      "[I 2023-06-29 14:01:26,299] Trial 793 finished with value: 0.19108319345844246 and parameters: {'boosting_type': 'goss', 'learning_rate': 0.07434521291276791, 'reg_alpha': 7.372963001352739e-05, 'reg_lambda': 7.640431512848074e-08, 'max_depth': 5, 'num_leaves': 55, 'colsample_bytree': 0.6436396385300738, 'min_child_samples': 15, 'max_bin': 42, 'subsample_freq': 5}. Best is trial 137 with value: 0.17512873362467118.\n"
     ]
    },
    {
     "name": "stdout",
     "output_type": "stream",
     "text": [
      "Repeat \u001b[1m\u001b[34m#1\n",
      "Repeat \u001b[1m\u001b[34m#2\n"
     ]
    },
    {
     "name": "stderr",
     "output_type": "stream",
     "text": [
      "[I 2023-06-29 14:01:29,277] Trial 794 finished with value: 0.18721928103961202 and parameters: {'boosting_type': 'goss', 'learning_rate': 0.03025126696715341, 'reg_alpha': 8.555670353092214e-06, 'reg_lambda': 4.218360461247212e-08, 'max_depth': 5, 'num_leaves': 61, 'colsample_bytree': 0.5395196822387044, 'min_child_samples': 10, 'max_bin': 52, 'subsample_freq': 3}. Best is trial 137 with value: 0.17512873362467118.\n"
     ]
    },
    {
     "name": "stdout",
     "output_type": "stream",
     "text": [
      "Repeat \u001b[1m\u001b[34m#1\n",
      "Repeat \u001b[1m\u001b[34m#2\n"
     ]
    },
    {
     "name": "stderr",
     "output_type": "stream",
     "text": [
      "[I 2023-06-29 14:01:31,899] Trial 795 finished with value: 0.19162312606435467 and parameters: {'boosting_type': 'goss', 'learning_rate': 0.03600608508754651, 'reg_alpha': 0.00025121925006942026, 'reg_lambda': 1.7334622599581666e-08, 'max_depth': 6, 'num_leaves': 40, 'colsample_bytree': 0.49686358053864094, 'min_child_samples': 12, 'max_bin': 36, 'subsample_freq': 3}. Best is trial 137 with value: 0.17512873362467118.\n"
     ]
    },
    {
     "name": "stdout",
     "output_type": "stream",
     "text": [
      "Repeat \u001b[1m\u001b[34m#1\n",
      "Repeat \u001b[1m\u001b[34m#2\n"
     ]
    },
    {
     "name": "stderr",
     "output_type": "stream",
     "text": [
      "[I 2023-06-29 14:01:39,887] Trial 796 finished with value: 0.19017174518936258 and parameters: {'boosting_type': 'goss', 'learning_rate': 0.007574185377187455, 'reg_alpha': 1.2932584813362764e-05, 'reg_lambda': 0.00019707231305005974, 'max_depth': 5, 'num_leaves': 35, 'colsample_bytree': 0.6795069381862613, 'min_child_samples': 8, 'max_bin': 57, 'subsample_freq': 6}. Best is trial 137 with value: 0.17512873362467118.\n"
     ]
    },
    {
     "name": "stdout",
     "output_type": "stream",
     "text": [
      "Repeat \u001b[1m\u001b[34m#1\n",
      "Repeat \u001b[1m\u001b[34m#2\n"
     ]
    },
    {
     "name": "stderr",
     "output_type": "stream",
     "text": [
      "[I 2023-06-29 14:01:52,335] Trial 797 finished with value: 0.2042722049771284 and parameters: {'boosting_type': 'goss', 'learning_rate': 0.0034241527842019653, 'reg_alpha': 0.0008615034840517406, 'reg_lambda': 1.5050983477165706e-06, 'max_depth': 5, 'num_leaves': 51, 'colsample_bytree': 0.48611645243450863, 'min_child_samples': 17, 'max_bin': 45, 'subsample_freq': 3}. Best is trial 137 with value: 0.17512873362467118.\n"
     ]
    },
    {
     "name": "stdout",
     "output_type": "stream",
     "text": [
      "Repeat \u001b[1m\u001b[34m#1\n",
      "Repeat \u001b[1m\u001b[34m#2\n"
     ]
    },
    {
     "name": "stderr",
     "output_type": "stream",
     "text": [
      "[I 2023-06-29 14:01:58,318] Trial 798 finished with value: 0.1918038018464108 and parameters: {'boosting_type': 'goss', 'learning_rate': 0.010785773257662334, 'reg_alpha': 0.0022295477262455608, 'reg_lambda': 2.1557676337124317e-07, 'max_depth': 5, 'num_leaves': 57, 'colsample_bytree': 0.31769595611336454, 'min_child_samples': 11, 'max_bin': 67, 'subsample_freq': 4}. Best is trial 137 with value: 0.17512873362467118.\n"
     ]
    },
    {
     "name": "stdout",
     "output_type": "stream",
     "text": [
      "Repeat \u001b[1m\u001b[34m#1\n",
      "Repeat \u001b[1m\u001b[34m#2\n"
     ]
    },
    {
     "name": "stderr",
     "output_type": "stream",
     "text": [
      "[I 2023-06-29 14:02:00,546] Trial 799 finished with value: 0.19562747223270058 and parameters: {'boosting_type': 'goss', 'learning_rate': 0.06009261463498348, 'reg_alpha': 0.00013063928365304817, 'reg_lambda': 0.22346336767999597, 'max_depth': 7, 'num_leaves': 128, 'colsample_bytree': 0.47688184445800635, 'min_child_samples': 14, 'max_bin': 133, 'subsample_freq': 3}. Best is trial 137 with value: 0.17512873362467118.\n"
     ]
    },
    {
     "name": "stdout",
     "output_type": "stream",
     "text": [
      "Repeat \u001b[1m\u001b[34m#1\n",
      "Repeat \u001b[1m\u001b[34m#2\n"
     ]
    },
    {
     "name": "stderr",
     "output_type": "stream",
     "text": [
      "[I 2023-06-29 14:02:02,113] Trial 800 finished with value: 0.1862420964171998 and parameters: {'boosting_type': 'goss', 'learning_rate': 0.06982854711047626, 'reg_alpha': 5.994021485283986e-07, 'reg_lambda': 0.018207826592263904, 'max_depth': 5, 'num_leaves': 38, 'colsample_bytree': 0.5245984002026154, 'min_child_samples': 9, 'max_bin': 32, 'subsample_freq': 5}. Best is trial 137 with value: 0.17512873362467118.\n"
     ]
    },
    {
     "name": "stdout",
     "output_type": "stream",
     "text": [
      "Repeat \u001b[1m\u001b[34m#1\n",
      "Repeat \u001b[1m\u001b[34m#2\n"
     ]
    },
    {
     "name": "stderr",
     "output_type": "stream",
     "text": [
      "[I 2023-06-29 14:02:03,887] Trial 801 finished with value: 0.198033613660933 and parameters: {'boosting_type': 'goss', 'learning_rate': 0.054535361235669544, 'reg_alpha': 0.062474644931853326, 'reg_lambda': 0.001456486994961246, 'max_depth': 5, 'num_leaves': 48, 'colsample_bytree': 0.4075800112325561, 'min_child_samples': 6, 'max_bin': 41, 'subsample_freq': 7}. Best is trial 137 with value: 0.17512873362467118.\n"
     ]
    },
    {
     "name": "stdout",
     "output_type": "stream",
     "text": [
      "Repeat \u001b[1m\u001b[34m#1\n",
      "Repeat \u001b[1m\u001b[34m#2\n"
     ]
    },
    {
     "name": "stderr",
     "output_type": "stream",
     "text": [
      "[I 2023-06-29 14:02:05,988] Trial 802 finished with value: 0.1932448014573231 and parameters: {'boosting_type': 'goss', 'learning_rate': 0.045820059850059915, 'reg_alpha': 1.3644154329038884, 'reg_lambda': 4.772594884202743e-07, 'max_depth': 6, 'num_leaves': 33, 'colsample_bytree': 0.3696830127956341, 'min_child_samples': 13, 'max_bin': 50, 'subsample_freq': 3}. Best is trial 137 with value: 0.17512873362467118.\n"
     ]
    },
    {
     "name": "stdout",
     "output_type": "stream",
     "text": [
      "Repeat \u001b[1m\u001b[34m#1\n",
      "Repeat \u001b[1m\u001b[34m#2\n"
     ]
    },
    {
     "name": "stderr",
     "output_type": "stream",
     "text": [
      "[I 2023-06-29 14:02:21,190] Trial 803 finished with value: 0.28029286146394217 and parameters: {'boosting_type': 'goss', 'learning_rate': 0.001274101191057405, 'reg_alpha': 0.007014612224957818, 'reg_lambda': 1.6949846189764044, 'max_depth': 5, 'num_leaves': 64, 'colsample_bytree': 0.34443703747927334, 'min_child_samples': 10, 'max_bin': 45, 'subsample_freq': 2}. Best is trial 137 with value: 0.17512873362467118.\n"
     ]
    },
    {
     "name": "stdout",
     "output_type": "stream",
     "text": [
      "Repeat \u001b[1m\u001b[34m#1\n",
      "Repeat \u001b[1m\u001b[34m#2\n"
     ]
    },
    {
     "name": "stderr",
     "output_type": "stream",
     "text": [
      "[I 2023-06-29 14:02:32,811] Trial 804 finished with value: 0.18585445139051265 and parameters: {'boosting_type': 'goss', 'learning_rate': 0.006694093406836416, 'reg_alpha': 3.2367131152616474e-05, 'reg_lambda': 1.314447362013186e-07, 'max_depth': 8, 'num_leaves': 36, 'colsample_bytree': 0.5038313818923902, 'min_child_samples': 8, 'max_bin': 38, 'subsample_freq': 3}. Best is trial 137 with value: 0.17512873362467118.\n"
     ]
    },
    {
     "name": "stdout",
     "output_type": "stream",
     "text": [
      "Repeat \u001b[1m\u001b[34m#1\n",
      "Repeat \u001b[1m\u001b[34m#2\n"
     ]
    },
    {
     "name": "stderr",
     "output_type": "stream",
     "text": [
      "[I 2023-06-29 14:02:35,423] Trial 805 finished with value: 0.4603899800836425 and parameters: {'boosting_type': 'goss', 'learning_rate': 0.0023892871185015522, 'reg_alpha': 2.0438488141479976e-05, 'reg_lambda': 2.4134780280149202e-08, 'max_depth': 5, 'num_leaves': 45, 'colsample_bytree': 0.4924418161003206, 'min_child_samples': 62, 'max_bin': 59, 'subsample_freq': 5}. Best is trial 137 with value: 0.17512873362467118.\n"
     ]
    },
    {
     "name": "stdout",
     "output_type": "stream",
     "text": [
      "Repeat \u001b[1m\u001b[34m#1\n",
      "Repeat \u001b[1m\u001b[34m#2\n"
     ]
    },
    {
     "name": "stderr",
     "output_type": "stream",
     "text": [
      "[I 2023-06-29 14:02:37,013] Trial 806 finished with value: 0.1904725116746721 and parameters: {'boosting_type': 'goss', 'learning_rate': 0.08135210714563296, 'reg_alpha': 5.3139149892894165e-05, 'reg_lambda': 0.009186592036221112, 'max_depth': 5, 'num_leaves': 53, 'colsample_bytree': 0.4240280414656885, 'min_child_samples': 12, 'max_bin': 54, 'subsample_freq': 3}. Best is trial 137 with value: 0.17512873362467118.\n"
     ]
    },
    {
     "name": "stdout",
     "output_type": "stream",
     "text": [
      "Repeat \u001b[1m\u001b[34m#1\n",
      "Repeat \u001b[1m\u001b[34m#2\n"
     ]
    },
    {
     "name": "stderr",
     "output_type": "stream",
     "text": [
      "[I 2023-06-29 14:02:38,798] Trial 807 finished with value: 0.19629875365235805 and parameters: {'boosting_type': 'goss', 'learning_rate': 0.04930844300413564, 'reg_alpha': 4.285685436255815e-06, 'reg_lambda': 0.10007503128061013, 'max_depth': 5, 'num_leaves': 41, 'colsample_bytree': 0.4645910126287696, 'min_child_samples': 10, 'max_bin': 46, 'subsample_freq': 3}. Best is trial 137 with value: 0.17512873362467118.\n"
     ]
    },
    {
     "name": "stdout",
     "output_type": "stream",
     "text": [
      "Repeat \u001b[1m\u001b[34m#1\n",
      "Repeat \u001b[1m\u001b[34m#2\n"
     ]
    },
    {
     "name": "stderr",
     "output_type": "stream",
     "text": [
      "[I 2023-06-29 14:02:40,429] Trial 808 finished with value: 0.1980538785880943 and parameters: {'boosting_type': 'goss', 'learning_rate': 0.06390301154581496, 'reg_alpha': 9.0554717165933e-05, 'reg_lambda': 0.0003162694932132392, 'max_depth': 6, 'num_leaves': 60, 'colsample_bytree': 0.5127012937829202, 'min_child_samples': 14, 'max_bin': 36, 'subsample_freq': 6}. Best is trial 137 with value: 0.17512873362467118.\n"
     ]
    },
    {
     "name": "stdout",
     "output_type": "stream",
     "text": [
      "Repeat \u001b[1m\u001b[34m#1\n",
      "Repeat \u001b[1m\u001b[34m#2\n"
     ]
    },
    {
     "name": "stderr",
     "output_type": "stream",
     "text": [
      "[I 2023-06-29 14:02:42,876] Trial 809 finished with value: 0.18336813577870845 and parameters: {'boosting_type': 'goss', 'learning_rate': 0.035119227462934284, 'reg_alpha': 7.3941001629098705e-06, 'reg_lambda': 6.254201683284611e-08, 'max_depth': 5, 'num_leaves': 57, 'colsample_bytree': 0.4834775541348277, 'min_child_samples': 7, 'max_bin': 42, 'subsample_freq': 5}. Best is trial 137 with value: 0.17512873362467118.\n"
     ]
    },
    {
     "name": "stdout",
     "output_type": "stream",
     "text": [
      "Repeat \u001b[1m\u001b[34m#1\n",
      "Repeat \u001b[1m\u001b[34m#2\n"
     ]
    },
    {
     "name": "stderr",
     "output_type": "stream",
     "text": [
      "[I 2023-06-29 14:02:45,655] Trial 810 finished with value: 0.17926695176386212 and parameters: {'boosting_type': 'goss', 'learning_rate': 0.03353349903529384, 'reg_alpha': 5.172434839989331e-06, 'reg_lambda': 7.166722201796803e-08, 'max_depth': 5, 'num_leaves': 56, 'colsample_bytree': 0.6267458470876157, 'min_child_samples': 11, 'max_bin': 40, 'subsample_freq': 5}. Best is trial 137 with value: 0.17512873362467118.\n"
     ]
    },
    {
     "name": "stdout",
     "output_type": "stream",
     "text": [
      "Repeat \u001b[1m\u001b[34m#1\n",
      "Repeat \u001b[1m\u001b[34m#2\n"
     ]
    },
    {
     "name": "stderr",
     "output_type": "stream",
     "text": [
      "[I 2023-06-29 14:02:46,611] Trial 811 finished with value: 0.4453616313854354 and parameters: {'boosting_type': 'goss', 'learning_rate': 0.03295985194557455, 'reg_alpha': 5.898117135998243e-06, 'reg_lambda': 8.547498821844698e-08, 'max_depth': 5, 'num_leaves': 56, 'colsample_bytree': 0.6252696274729718, 'min_child_samples': 71, 'max_bin': 32, 'subsample_freq': 5}. Best is trial 137 with value: 0.17512873362467118.\n"
     ]
    },
    {
     "name": "stdout",
     "output_type": "stream",
     "text": [
      "Repeat \u001b[1m\u001b[34m#1\n",
      "Repeat \u001b[1m\u001b[34m#2\n"
     ]
    },
    {
     "name": "stderr",
     "output_type": "stream",
     "text": [
      "[I 2023-06-29 14:02:49,223] Trial 812 finished with value: 0.1875627589327278 and parameters: {'boosting_type': 'goss', 'learning_rate': 0.030721763361462956, 'reg_alpha': 3.567348975276757e-06, 'reg_lambda': 6.620564924711523e-08, 'max_depth': 5, 'num_leaves': 58, 'colsample_bytree': 0.617859628756455, 'min_child_samples': 8, 'max_bin': 39, 'subsample_freq': 5}. Best is trial 137 with value: 0.17512873362467118.\n"
     ]
    },
    {
     "name": "stdout",
     "output_type": "stream",
     "text": [
      "Repeat \u001b[1m\u001b[34m#1\n",
      "Repeat \u001b[1m\u001b[34m#2\n"
     ]
    },
    {
     "name": "stderr",
     "output_type": "stream",
     "text": [
      "[I 2023-06-29 14:02:51,649] Trial 813 finished with value: 0.19060922182194978 and parameters: {'boosting_type': 'goss', 'learning_rate': 0.034635515348262515, 'reg_alpha': 7.3860261258651365e-06, 'reg_lambda': 1.3991809298662388e-07, 'max_depth': 5, 'num_leaves': 57, 'colsample_bytree': 0.604240913560545, 'min_child_samples': 11, 'max_bin': 36, 'subsample_freq': 5}. Best is trial 137 with value: 0.17512873362467118.\n"
     ]
    },
    {
     "name": "stdout",
     "output_type": "stream",
     "text": [
      "Repeat \u001b[1m\u001b[34m#1\n",
      "Repeat \u001b[1m\u001b[34m#2\n"
     ]
    },
    {
     "name": "stderr",
     "output_type": "stream",
     "text": [
      "[I 2023-06-29 14:02:53,989] Trial 814 finished with value: 0.18996020856581985 and parameters: {'boosting_type': 'goss', 'learning_rate': 0.037302721765492, 'reg_alpha': 2.3651959770453467e-06, 'reg_lambda': 1.0963230191069267e-07, 'max_depth': 5, 'num_leaves': 56, 'colsample_bytree': 0.46898757509490685, 'min_child_samples': 10, 'max_bin': 40, 'subsample_freq': 5}. Best is trial 137 with value: 0.17512873362467118.\n"
     ]
    },
    {
     "name": "stdout",
     "output_type": "stream",
     "text": [
      "Repeat \u001b[1m\u001b[34m#1\n",
      "Repeat \u001b[1m\u001b[34m#2\n"
     ]
    },
    {
     "name": "stderr",
     "output_type": "stream",
     "text": [
      "[I 2023-06-29 14:02:57,635] Trial 815 finished with value: 0.1968590145502747 and parameters: {'boosting_type': 'goss', 'learning_rate': 0.02726237114948089, 'reg_alpha': 1.8885153718341468e-06, 'reg_lambda': 6.448235000237668e-08, 'max_depth': 7, 'num_leaves': 54, 'colsample_bytree': 0.5637200071296833, 'min_child_samples': 7, 'max_bin': 42, 'subsample_freq': 5}. Best is trial 137 with value: 0.17512873362467118.\n"
     ]
    },
    {
     "name": "stdout",
     "output_type": "stream",
     "text": [
      "Repeat \u001b[1m\u001b[34m#1\n",
      "Repeat \u001b[1m\u001b[34m#2\n"
     ]
    },
    {
     "name": "stderr",
     "output_type": "stream",
     "text": [
      "[I 2023-06-29 14:03:00,117] Trial 816 finished with value: 0.19506825560111857 and parameters: {'boosting_type': 'goss', 'learning_rate': 0.03304205077851683, 'reg_alpha': 5.6631679235137425e-06, 'reg_lambda': 1.924156046160265e-07, 'max_depth': 5, 'num_leaves': 60, 'colsample_bytree': 0.5990147851579505, 'min_child_samples': 9, 'max_bin': 35, 'subsample_freq': 5}. Best is trial 137 with value: 0.17512873362467118.\n"
     ]
    },
    {
     "name": "stdout",
     "output_type": "stream",
     "text": [
      "Repeat \u001b[1m\u001b[34m#1\n",
      "Repeat \u001b[1m\u001b[34m#2\n"
     ]
    },
    {
     "name": "stderr",
     "output_type": "stream",
     "text": [
      "[I 2023-06-29 14:03:02,564] Trial 817 finished with value: 0.19370747208341266 and parameters: {'boosting_type': 'goss', 'learning_rate': 0.036338116346562865, 'reg_alpha': 0.04735561559390352, 'reg_lambda': 3.458465019602573e-05, 'max_depth': 6, 'num_leaves': 58, 'colsample_bytree': 0.6347194914499167, 'min_child_samples': 12, 'max_bin': 43, 'subsample_freq': 5}. Best is trial 137 with value: 0.17512873362467118.\n"
     ]
    },
    {
     "name": "stdout",
     "output_type": "stream",
     "text": [
      "Repeat \u001b[1m\u001b[34m#1\n",
      "Repeat \u001b[1m\u001b[34m#2\n"
     ]
    },
    {
     "name": "stderr",
     "output_type": "stream",
     "text": [
      "[I 2023-06-29 14:03:05,121] Trial 818 finished with value: 0.18565477266259306 and parameters: {'boosting_type': 'goss', 'learning_rate': 0.02933158399908566, 'reg_alpha': 1.3692692446772568e-05, 'reg_lambda': 6.643459660336342e-07, 'max_depth': 5, 'num_leaves': 62, 'colsample_bytree': 0.6078317933342484, 'min_child_samples': 8, 'max_bin': 38, 'subsample_freq': 5}. Best is trial 137 with value: 0.17512873362467118.\n"
     ]
    },
    {
     "name": "stdout",
     "output_type": "stream",
     "text": [
      "Repeat \u001b[1m\u001b[34m#1\n",
      "Repeat \u001b[1m\u001b[34m#2\n"
     ]
    },
    {
     "name": "stderr",
     "output_type": "stream",
     "text": [
      "[I 2023-06-29 14:03:07,462] Trial 819 finished with value: 0.19267995830293994 and parameters: {'boosting_type': 'goss', 'learning_rate': 0.038025139292250446, 'reg_alpha': 9.746480414034596e-06, 'reg_lambda': 9.605059893322362e-08, 'max_depth': 5, 'num_leaves': 54, 'colsample_bytree': 0.6652767036268026, 'min_child_samples': 11, 'max_bin': 43, 'subsample_freq': 5}. Best is trial 137 with value: 0.17512873362467118.\n"
     ]
    },
    {
     "name": "stdout",
     "output_type": "stream",
     "text": [
      "Repeat \u001b[1m\u001b[34m#1\n",
      "Repeat \u001b[1m\u001b[34m#2\n"
     ]
    },
    {
     "name": "stderr",
     "output_type": "stream",
     "text": [
      "[I 2023-06-29 14:03:09,983] Trial 820 finished with value: 0.18628437779456425 and parameters: {'boosting_type': 'goss', 'learning_rate': 0.03322411051939758, 'reg_alpha': 3.817211189505646e-06, 'reg_lambda': 5.0706086869761904e-08, 'max_depth': 5, 'num_leaves': 57, 'colsample_bytree': 0.5713876801950055, 'min_child_samples': 9, 'max_bin': 46, 'subsample_freq': 5}. Best is trial 137 with value: 0.17512873362467118.\n"
     ]
    },
    {
     "name": "stdout",
     "output_type": "stream",
     "text": [
      "Repeat \u001b[1m\u001b[34m#1\n",
      "Repeat \u001b[1m\u001b[34m#2\n"
     ]
    },
    {
     "name": "stderr",
     "output_type": "stream",
     "text": [
      "[I 2023-06-29 14:03:13,193] Trial 821 finished with value: 0.18954658407006647 and parameters: {'boosting_type': 'goss', 'learning_rate': 0.026143853977370738, 'reg_alpha': 0.0026382623889735822, 'reg_lambda': 0.0001392577508967591, 'max_depth': 6, 'num_leaves': 61, 'colsample_bytree': 0.48165098236550613, 'min_child_samples': 6, 'max_bin': 32, 'subsample_freq': 5}. Best is trial 137 with value: 0.17512873362467118.\n"
     ]
    },
    {
     "name": "stdout",
     "output_type": "stream",
     "text": [
      "Repeat \u001b[1m\u001b[34m#1\n",
      "Repeat \u001b[1m\u001b[34m#2\n"
     ]
    },
    {
     "name": "stderr",
     "output_type": "stream",
     "text": [
      "[I 2023-06-29 14:03:15,224] Trial 822 finished with value: 0.19743806212847778 and parameters: {'boosting_type': 'goss', 'learning_rate': 0.04130340992867555, 'reg_alpha': 0.001388721215389489, 'reg_lambda': 3.182176827068741e-07, 'max_depth': 5, 'num_leaves': 55, 'colsample_bytree': 0.6119664443911557, 'min_child_samples': 13, 'max_bin': 39, 'subsample_freq': 5}. Best is trial 137 with value: 0.17512873362467118.\n"
     ]
    },
    {
     "name": "stdout",
     "output_type": "stream",
     "text": [
      "Repeat \u001b[1m\u001b[34m#1\n",
      "Repeat \u001b[1m\u001b[34m#2\n"
     ]
    },
    {
     "name": "stderr",
     "output_type": "stream",
     "text": [
      "[I 2023-06-29 14:03:18,031] Trial 823 finished with value: 0.19581931005168762 and parameters: {'boosting_type': 'goss', 'learning_rate': 0.03178548474558128, 'reg_alpha': 1.7218797019089687e-05, 'reg_lambda': 3.4638919403089565e-06, 'max_depth': 5, 'num_leaves': 59, 'colsample_bytree': 0.45858672083329527, 'min_child_samples': 11, 'max_bin': 47, 'subsample_freq': 5}. Best is trial 137 with value: 0.17512873362467118.\n"
     ]
    },
    {
     "name": "stdout",
     "output_type": "stream",
     "text": [
      "Repeat \u001b[1m\u001b[34m#1\n",
      "Repeat \u001b[1m\u001b[34m#2\n"
     ]
    },
    {
     "name": "stderr",
     "output_type": "stream",
     "text": [
      "[I 2023-06-29 14:03:20,566] Trial 824 finished with value: 0.19257249293228135 and parameters: {'boosting_type': 'goss', 'learning_rate': 0.03852666040615941, 'reg_alpha': 9.271399340828448e-06, 'reg_lambda': 2.4511288357592065, 'max_depth': 5, 'num_leaves': 64, 'colsample_bytree': 0.5884944661890003, 'min_child_samples': 9, 'max_bin': 41, 'subsample_freq': 4}. Best is trial 137 with value: 0.17512873362467118.\n"
     ]
    },
    {
     "name": "stdout",
     "output_type": "stream",
     "text": [
      "Repeat \u001b[1m\u001b[34m#1\n",
      "Repeat \u001b[1m\u001b[34m#2\n"
     ]
    },
    {
     "name": "stderr",
     "output_type": "stream",
     "text": [
      "[I 2023-06-29 14:03:24,364] Trial 825 finished with value: 0.1917730099862187 and parameters: {'boosting_type': 'goss', 'learning_rate': 0.028339740452825196, 'reg_alpha': 0.003645425586765605, 'reg_lambda': 2.757518365395793, 'max_depth': 5, 'num_leaves': 59, 'colsample_bytree': 0.6366313165122389, 'min_child_samples': 7, 'max_bin': 38, 'subsample_freq': 5}. Best is trial 137 with value: 0.17512873362467118.\n"
     ]
    },
    {
     "name": "stdout",
     "output_type": "stream",
     "text": [
      "Repeat \u001b[1m\u001b[34m#1\n",
      "Repeat \u001b[1m\u001b[34m#2\n"
     ]
    },
    {
     "name": "stderr",
     "output_type": "stream",
     "text": [
      "[I 2023-06-29 14:03:26,783] Trial 826 finished with value: 0.19156934794827096 and parameters: {'boosting_type': 'goss', 'learning_rate': 0.0343965458014525, 'reg_alpha': 0.00851707395365075, 'reg_lambda': 7.270702933803498e-08, 'max_depth': 7, 'num_leaves': 55, 'colsample_bytree': 0.6484361833387903, 'min_child_samples': 14, 'max_bin': 48, 'subsample_freq': 5}. Best is trial 137 with value: 0.17512873362467118.\n"
     ]
    },
    {
     "name": "stdout",
     "output_type": "stream",
     "text": [
      "Repeat \u001b[1m\u001b[34m#1\n",
      "Repeat \u001b[1m\u001b[34m#2\n"
     ]
    },
    {
     "name": "stderr",
     "output_type": "stream",
     "text": [
      "[I 2023-06-29 14:03:28,924] Trial 827 finished with value: 0.19223062126064233 and parameters: {'boosting_type': 'goss', 'learning_rate': 0.036081076931692595, 'reg_alpha': 2.5579921428756758e-05, 'reg_lambda': 1.724961578774006e-07, 'max_depth': 5, 'num_leaves': 62, 'colsample_bytree': 0.6386899377519754, 'min_child_samples': 11, 'max_bin': 35, 'subsample_freq': 3}. Best is trial 137 with value: 0.17512873362467118.\n"
     ]
    },
    {
     "name": "stdout",
     "output_type": "stream",
     "text": [
      "Repeat \u001b[1m\u001b[34m#1\n",
      "Repeat \u001b[1m\u001b[34m#2\n"
     ]
    },
    {
     "name": "stderr",
     "output_type": "stream",
     "text": [
      "[I 2023-06-29 14:03:30,967] Trial 828 finished with value: 0.18807272703389066 and parameters: {'boosting_type': 'goss', 'learning_rate': 0.041205738870377775, 'reg_alpha': 0.015564163254218073, 'reg_lambda': 0.0008409471845795842, 'max_depth': 5, 'num_leaves': 58, 'colsample_bytree': 0.6434751982313313, 'min_child_samples': 12, 'max_bin': 43, 'subsample_freq': 3}. Best is trial 137 with value: 0.17512873362467118.\n"
     ]
    },
    {
     "name": "stdout",
     "output_type": "stream",
     "text": [
      "Repeat \u001b[1m\u001b[34m#1\n",
      "Repeat \u001b[1m\u001b[34m#2\n"
     ]
    },
    {
     "name": "stderr",
     "output_type": "stream",
     "text": [
      "[I 2023-06-29 14:03:34,197] Trial 829 finished with value: 0.18870195843771767 and parameters: {'boosting_type': 'goss', 'learning_rate': 0.029648527882831392, 'reg_alpha': 4.61425686096397e-06, 'reg_lambda': 4.9786873874459275e-08, 'max_depth': 9, 'num_leaves': 53, 'colsample_bytree': 0.6548376506403399, 'min_child_samples': 9, 'max_bin': 51, 'subsample_freq': 4}. Best is trial 137 with value: 0.17512873362467118.\n"
     ]
    },
    {
     "name": "stdout",
     "output_type": "stream",
     "text": [
      "Repeat \u001b[1m\u001b[34m#1\n",
      "Repeat \u001b[1m\u001b[34m#2\n"
     ]
    },
    {
     "name": "stderr",
     "output_type": "stream",
     "text": [
      "[I 2023-06-29 14:03:53,449] Trial 830 finished with value: 0.20493389359143474 and parameters: {'boosting_type': 'goss', 'learning_rate': 0.0021147739163323823, 'reg_alpha': 9.036157862954981e-07, 'reg_lambda': 1.107335410263291e-07, 'max_depth': 5, 'num_leaves': 73, 'colsample_bytree': 0.6293903959973743, 'min_child_samples': 5, 'max_bin': 43, 'subsample_freq': 1}. Best is trial 137 with value: 0.17512873362467118.\n"
     ]
    },
    {
     "name": "stdout",
     "output_type": "stream",
     "text": [
      "Repeat \u001b[1m\u001b[34m#1\n",
      "Repeat \u001b[1m\u001b[34m#2\n"
     ]
    },
    {
     "name": "stderr",
     "output_type": "stream",
     "text": [
      "[I 2023-06-29 14:04:06,202] Trial 831 finished with value: 0.2205388766334906 and parameters: {'boosting_type': 'goss', 'learning_rate': 0.002174839247134669, 'reg_alpha': 0.8786899725617372, 'reg_lambda': 1.0386493970625367e-06, 'max_depth': 6, 'num_leaves': 57, 'colsample_bytree': 0.626625950552972, 'min_child_samples': 15, 'max_bin': 50, 'subsample_freq': 3}. Best is trial 137 with value: 0.17512873362467118.\n"
     ]
    },
    {
     "name": "stdout",
     "output_type": "stream",
     "text": [
      "Repeat \u001b[1m\u001b[34m#1\n",
      "Repeat \u001b[1m\u001b[34m#2\n"
     ]
    },
    {
     "name": "stderr",
     "output_type": "stream",
     "text": [
      "[I 2023-06-29 14:04:07,580] Trial 832 finished with value: 0.19708602343208495 and parameters: {'boosting_type': 'goss', 'learning_rate': 0.09044499633869639, 'reg_alpha': 1.2806312086685905e-05, 'reg_lambda': 2.774316319820697e-05, 'max_depth': 5, 'num_leaves': 61, 'colsample_bytree': 0.6252899186255432, 'min_child_samples': 10, 'max_bin': 36, 'subsample_freq': 5}. Best is trial 137 with value: 0.17512873362467118.\n"
     ]
    },
    {
     "name": "stdout",
     "output_type": "stream",
     "text": [
      "Repeat \u001b[1m\u001b[34m#1\n",
      "Repeat \u001b[1m\u001b[34m#2\n"
     ]
    },
    {
     "name": "stderr",
     "output_type": "stream",
     "text": [
      "[I 2023-06-29 14:04:11,196] Trial 833 finished with value: 0.18958379029950456 and parameters: {'boosting_type': 'goss', 'learning_rate': 0.018501113725012844, 'reg_alpha': 3.5896658693518095e-05, 'reg_lambda': 4.628141505047008e-06, 'max_depth': 5, 'num_leaves': 66, 'colsample_bytree': 0.6140304902291533, 'min_child_samples': 7, 'max_bin': 45, 'subsample_freq': 3}. Best is trial 137 with value: 0.17512873362467118.\n"
     ]
    },
    {
     "name": "stdout",
     "output_type": "stream",
     "text": [
      "Repeat \u001b[1m\u001b[34m#1\n",
      "Repeat \u001b[1m\u001b[34m#2\n"
     ]
    },
    {
     "name": "stderr",
     "output_type": "stream",
     "text": [
      "[I 2023-06-29 14:04:18,977] Trial 834 finished with value: 0.1876111356232356 and parameters: {'boosting_type': 'goss', 'learning_rate': 0.010279264079231186, 'reg_alpha': 1.6176205012371082e-06, 'reg_lambda': 0.0005062955686212993, 'max_depth': 5, 'num_leaves': 56, 'colsample_bytree': 0.620542861287865, 'min_child_samples': 13, 'max_bin': 40, 'subsample_freq': 3}. Best is trial 137 with value: 0.17512873362467118.\n"
     ]
    },
    {
     "name": "stdout",
     "output_type": "stream",
     "text": [
      "Repeat \u001b[1m\u001b[34m#1\n",
      "Repeat \u001b[1m\u001b[34m#2\n"
     ]
    },
    {
     "name": "stderr",
     "output_type": "stream",
     "text": [
      "[I 2023-06-29 14:04:22,216] Trial 835 finished with value: 0.18529179764247994 and parameters: {'boosting_type': 'goss', 'learning_rate': 0.022852206090395132, 'reg_alpha': 0.0006597246721748158, 'reg_lambda': 7.718682420970151e-05, 'max_depth': 6, 'num_leaves': 62, 'colsample_bytree': 0.6529252247891838, 'min_child_samples': 11, 'max_bin': 50, 'subsample_freq': 5}. Best is trial 137 with value: 0.17512873362467118.\n"
     ]
    },
    {
     "name": "stdout",
     "output_type": "stream",
     "text": [
      "Repeat \u001b[1m\u001b[34m#1\n",
      "Repeat \u001b[1m\u001b[34m#2\n"
     ]
    },
    {
     "name": "stderr",
     "output_type": "stream",
     "text": [
      "[I 2023-06-29 14:04:24,969] Trial 836 finished with value: 0.19309851680680007 and parameters: {'boosting_type': 'goss', 'learning_rate': 0.030916447021989774, 'reg_alpha': 2.9508963794655713e-06, 'reg_lambda': 1.2839958275355396e-05, 'max_depth': 5, 'num_leaves': 53, 'colsample_bytree': 0.6474769758645044, 'min_child_samples': 8, 'max_bin': 35, 'subsample_freq': 3}. Best is trial 137 with value: 0.17512873362467118.\n"
     ]
    },
    {
     "name": "stdout",
     "output_type": "stream",
     "text": [
      "Repeat \u001b[1m\u001b[34m#1\n",
      "Repeat \u001b[1m\u001b[34m#2\n"
     ]
    },
    {
     "name": "stderr",
     "output_type": "stream",
     "text": [
      "[I 2023-06-29 14:04:37,391] Trial 837 finished with value: 0.1900248080458336 and parameters: {'boosting_type': 'goss', 'learning_rate': 0.003939992407553468, 'reg_alpha': 2.0736478376687756e-05, 'reg_lambda': 4.067654517036596e-08, 'max_depth': 5, 'num_leaves': 60, 'colsample_bytree': 0.4744300608713931, 'min_child_samples': 10, 'max_bin': 41, 'subsample_freq': 4}. Best is trial 137 with value: 0.17512873362467118.\n"
     ]
    },
    {
     "name": "stdout",
     "output_type": "stream",
     "text": [
      "Repeat \u001b[1m\u001b[34m#1\n",
      "Repeat \u001b[1m\u001b[34m#2\n"
     ]
    },
    {
     "name": "stderr",
     "output_type": "stream",
     "text": [
      "[I 2023-06-29 14:04:51,784] Trial 838 finished with value: 0.20158521487478592 and parameters: {'boosting_type': 'goss', 'learning_rate': 0.0026982944291363492, 'reg_alpha': 7.88650404390949e-06, 'reg_lambda': 0.003407566135931028, 'max_depth': 5, 'num_leaves': 52, 'colsample_bytree': 0.6126668161383217, 'min_child_samples': 13, 'max_bin': 32, 'subsample_freq': 3}. Best is trial 137 with value: 0.17512873362467118.\n"
     ]
    },
    {
     "name": "stdout",
     "output_type": "stream",
     "text": [
      "Repeat \u001b[1m\u001b[34m#1\n",
      "Repeat \u001b[1m\u001b[34m#2\n"
     ]
    },
    {
     "name": "stderr",
     "output_type": "stream",
     "text": [
      "[I 2023-06-29 14:04:54,166] Trial 839 finished with value: 0.1995121954587588 and parameters: {'boosting_type': 'goss', 'learning_rate': 0.038623876743128636, 'reg_alpha': 5.378640896966581e-08, 'reg_lambda': 8.91858167547067e-06, 'max_depth': 5, 'num_leaves': 66, 'colsample_bytree': 0.6359913967757281, 'min_child_samples': 17, 'max_bin': 54, 'subsample_freq': 2}. Best is trial 137 with value: 0.17512873362467118.\n"
     ]
    },
    {
     "name": "stdout",
     "output_type": "stream",
     "text": [
      "Repeat \u001b[1m\u001b[34m#1\n",
      "Repeat \u001b[1m\u001b[34m#2\n"
     ]
    },
    {
     "name": "stderr",
     "output_type": "stream",
     "text": [
      "[I 2023-06-29 14:04:57,356] Trial 840 finished with value: 0.18925809764491752 and parameters: {'boosting_type': 'goss', 'learning_rate': 0.025407333764295225, 'reg_alpha': 0.005821153415246882, 'reg_lambda': 2.126808962751472e-06, 'max_depth': 5, 'num_leaves': 58, 'colsample_bytree': 0.48385299885069744, 'min_child_samples': 7, 'max_bin': 47, 'subsample_freq': 3}. Best is trial 137 with value: 0.17512873362467118.\n"
     ]
    },
    {
     "name": "stdout",
     "output_type": "stream",
     "text": [
      "Repeat \u001b[1m\u001b[34m#1\n",
      "Repeat \u001b[1m\u001b[34m#2\n"
     ]
    },
    {
     "name": "stderr",
     "output_type": "stream",
     "text": [
      "[I 2023-06-29 14:04:59,888] Trial 841 finished with value: 0.1933182251173986 and parameters: {'boosting_type': 'goss', 'learning_rate': 0.034186785022556745, 'reg_alpha': 0.09528166219840951, 'reg_lambda': 0.1590033440887559, 'max_depth': 7, 'num_leaves': 31, 'colsample_bytree': 0.4451885185295193, 'min_child_samples': 9, 'max_bin': 43, 'subsample_freq': 5}. Best is trial 137 with value: 0.17512873362467118.\n"
     ]
    },
    {
     "name": "stdout",
     "output_type": "stream",
     "text": [
      "Repeat \u001b[1m\u001b[34m#1\n",
      "Repeat \u001b[1m\u001b[34m#2\n"
     ]
    },
    {
     "name": "stderr",
     "output_type": "stream",
     "text": [
      "[I 2023-06-29 14:05:01,299] Trial 842 finished with value: 0.19446823011109488 and parameters: {'boosting_type': 'goss', 'learning_rate': 0.08369397803114179, 'reg_alpha': 0.02310436415428168, 'reg_lambda': 0.0002581489174373103, 'max_depth': 5, 'num_leaves': 57, 'colsample_bytree': 0.6617047118072109, 'min_child_samples': 12, 'max_bin': 38, 'subsample_freq': 3}. Best is trial 137 with value: 0.17512873362467118.\n"
     ]
    },
    {
     "name": "stdout",
     "output_type": "stream",
     "text": [
      "Repeat \u001b[1m\u001b[34m#1\n",
      "Repeat \u001b[1m\u001b[34m#2\n"
     ]
    },
    {
     "name": "stderr",
     "output_type": "stream",
     "text": [
      "[I 2023-06-29 14:05:06,260] Trial 843 finished with value: 0.19428156091715737 and parameters: {'boosting_type': 'goss', 'learning_rate': 0.013401234829903746, 'reg_alpha': 3.7028241663518374e-07, 'reg_lambda': 0.00659916855045221, 'max_depth': 5, 'num_leaves': 64, 'colsample_bytree': 0.47659220339477837, 'min_child_samples': 15, 'max_bin': 48, 'subsample_freq': 3}. Best is trial 137 with value: 0.17512873362467118.\n"
     ]
    },
    {
     "name": "stdout",
     "output_type": "stream",
     "text": [
      "Repeat \u001b[1m\u001b[34m#1\n",
      "Repeat \u001b[1m\u001b[34m#2\n"
     ]
    },
    {
     "name": "stderr",
     "output_type": "stream",
     "text": [
      "[I 2023-06-29 14:05:08,765] Trial 844 finished with value: 0.19524219590763353 and parameters: {'boosting_type': 'goss', 'learning_rate': 0.04419796237348589, 'reg_alpha': 0.0017392922384927207, 'reg_lambda': 0.01072402304115494, 'max_depth': 6, 'num_leaves': 55, 'colsample_bytree': 0.49769892285421446, 'min_child_samples': 5, 'max_bin': 53, 'subsample_freq': 5}. Best is trial 137 with value: 0.17512873362467118.\n"
     ]
    },
    {
     "name": "stdout",
     "output_type": "stream",
     "text": [
      "Repeat \u001b[1m\u001b[34m#1\n",
      "Repeat \u001b[1m\u001b[34m#2\n"
     ]
    },
    {
     "name": "stderr",
     "output_type": "stream",
     "text": [
      "[I 2023-06-29 14:05:10,309] Trial 845 finished with value: 0.18796858936379052 and parameters: {'boosting_type': 'goss', 'learning_rate': 0.07897336411411031, 'reg_alpha': 0.009392926720318343, 'reg_lambda': 8.747237166897893e-08, 'max_depth': 5, 'num_leaves': 30, 'colsample_bytree': 0.6666265808639535, 'min_child_samples': 10, 'max_bin': 44, 'subsample_freq': 4}. Best is trial 137 with value: 0.17512873362467118.\n"
     ]
    },
    {
     "name": "stdout",
     "output_type": "stream",
     "text": [
      "Repeat \u001b[1m\u001b[34m#1\n",
      "Repeat \u001b[1m\u001b[34m#2\n"
     ]
    },
    {
     "name": "stderr",
     "output_type": "stream",
     "text": [
      "[I 2023-06-29 14:05:12,124] Trial 846 finished with value: 0.48898009637901035 and parameters: {'boosting_type': 'goss', 'learning_rate': 0.002299132157951441, 'reg_alpha': 1.563174083351097e-05, 'reg_lambda': 0.0023172829969293827, 'max_depth': 5, 'num_leaves': 60, 'colsample_bytree': 0.45369560629779165, 'min_child_samples': 78, 'max_bin': 38, 'subsample_freq': 3}. Best is trial 137 with value: 0.17512873362467118.\n"
     ]
    },
    {
     "name": "stdout",
     "output_type": "stream",
     "text": [
      "Repeat \u001b[1m\u001b[34m#1\n",
      "Repeat \u001b[1m\u001b[34m#2\n"
     ]
    },
    {
     "name": "stderr",
     "output_type": "stream",
     "text": [
      "[I 2023-06-29 14:05:14,752] Trial 847 finished with value: 0.18507663805058358 and parameters: {'boosting_type': 'goss', 'learning_rate': 0.03752366704633883, 'reg_alpha': 1.818932617397272e-08, 'reg_lambda': 2.871202742899179e-07, 'max_depth': 5, 'num_leaves': 32, 'colsample_bytree': 0.48863616942324667, 'min_child_samples': 12, 'max_bin': 50, 'subsample_freq': 3}. Best is trial 137 with value: 0.17512873362467118.\n"
     ]
    },
    {
     "name": "stdout",
     "output_type": "stream",
     "text": [
      "Repeat \u001b[1m\u001b[34m#1\n",
      "Repeat \u001b[1m\u001b[34m#2\n"
     ]
    },
    {
     "name": "stderr",
     "output_type": "stream",
     "text": [
      "[I 2023-06-29 14:05:16,284] Trial 848 finished with value: 0.19409193547914722 and parameters: {'boosting_type': 'goss', 'learning_rate': 0.07220144652290014, 'reg_alpha': 0.2695398138840585, 'reg_lambda': 1.8275697889455637e-05, 'max_depth': 5, 'num_leaves': 68, 'colsample_bytree': 0.581413255343299, 'min_child_samples': 8, 'max_bin': 41, 'subsample_freq': 3}. Best is trial 137 with value: 0.17512873362467118.\n"
     ]
    },
    {
     "name": "stdout",
     "output_type": "stream",
     "text": [
      "Repeat \u001b[1m\u001b[34m#1\n",
      "Repeat \u001b[1m\u001b[34m#2\n"
     ]
    },
    {
     "name": "stderr",
     "output_type": "stream",
     "text": [
      "[I 2023-06-29 14:05:18,327] Trial 849 finished with value: 0.18845328798698988 and parameters: {'boosting_type': 'goss', 'learning_rate': 0.041699479442588304, 'reg_alpha': 4.6570198157301524e-05, 'reg_lambda': 1.4123203644420507e-07, 'max_depth': 7, 'num_leaves': 54, 'colsample_bytree': 0.39161217834314377, 'min_child_samples': 14, 'max_bin': 56, 'subsample_freq': 5}. Best is trial 137 with value: 0.17512873362467118.\n"
     ]
    },
    {
     "name": "stdout",
     "output_type": "stream",
     "text": [
      "Repeat \u001b[1m\u001b[34m#1\n",
      "Repeat \u001b[1m\u001b[34m#2\n"
     ]
    },
    {
     "name": "stderr",
     "output_type": "stream",
     "text": [
      "[I 2023-06-29 14:05:19,737] Trial 850 finished with value: 0.4309090385713027 and parameters: {'boosting_type': 'goss', 'learning_rate': 0.03322293738137956, 'reg_alpha': 0.000883773226038199, 'reg_lambda': 0.7090336510077109, 'max_depth': 5, 'num_leaves': 24, 'colsample_bytree': 0.4674276523384776, 'min_child_samples': 67, 'max_bin': 45, 'subsample_freq': 2}. Best is trial 137 with value: 0.17512873362467118.\n"
     ]
    },
    {
     "name": "stdout",
     "output_type": "stream",
     "text": [
      "Repeat \u001b[1m\u001b[34m#1\n",
      "Repeat \u001b[1m\u001b[34m#2\n"
     ]
    },
    {
     "name": "stderr",
     "output_type": "stream",
     "text": [
      "[I 2023-06-29 14:05:22,360] Trial 851 finished with value: 0.1906879880729007 and parameters: {'boosting_type': 'goss', 'learning_rate': 0.030144154566804096, 'reg_alpha': 5.889605713445251e-06, 'reg_lambda': 3.6594559978942724e-08, 'max_depth': 5, 'num_leaves': 60, 'colsample_bytree': 0.5641870216258424, 'min_child_samples': 10, 'max_bin': 35, 'subsample_freq': 3}. Best is trial 137 with value: 0.17512873362467118.\n"
     ]
    },
    {
     "name": "stdout",
     "output_type": "stream",
     "text": [
      "Repeat \u001b[1m\u001b[34m#1\n",
      "Repeat \u001b[1m\u001b[34m#2\n"
     ]
    },
    {
     "name": "stderr",
     "output_type": "stream",
     "text": [
      "[I 2023-06-29 14:05:43,714] Trial 852 finished with value: 0.22663832956194288 and parameters: {'boosting_type': 'goss', 'learning_rate': 0.0015949260563707015, 'reg_alpha': 2.7288730237482096e-05, 'reg_lambda': 7.881487787518054e-08, 'max_depth': 5, 'num_leaves': 63, 'colsample_bytree': 0.5742081099908354, 'min_child_samples': 7, 'max_bin': 47, 'subsample_freq': 4}. Best is trial 137 with value: 0.17512873362467118.\n"
     ]
    },
    {
     "name": "stdout",
     "output_type": "stream",
     "text": [
      "Repeat \u001b[1m\u001b[34m#1\n",
      "Repeat \u001b[1m\u001b[34m#2\n"
     ]
    },
    {
     "name": "stderr",
     "output_type": "stream",
     "text": [
      "[I 2023-06-29 14:05:48,354] Trial 853 finished with value: 0.18812729958100433 and parameters: {'boosting_type': 'goss', 'learning_rate': 0.01451973564518127, 'reg_alpha': 0.004410976514951966, 'reg_lambda': 5.645988908852941e-08, 'max_depth': 5, 'num_leaves': 50, 'colsample_bytree': 0.6017062060037418, 'min_child_samples': 12, 'max_bin': 40, 'subsample_freq': 5}. Best is trial 137 with value: 0.17512873362467118.\n"
     ]
    },
    {
     "name": "stdout",
     "output_type": "stream",
     "text": [
      "Repeat \u001b[1m\u001b[34m#1\n",
      "Repeat \u001b[1m\u001b[34m#2\n"
     ]
    },
    {
     "name": "stderr",
     "output_type": "stream",
     "text": [
      "[I 2023-06-29 14:05:52,345] Trial 854 finished with value: 0.19866663682947588 and parameters: {'boosting_type': 'goss', 'learning_rate': 0.0200357400442627, 'reg_alpha': 0.035740874601055385, 'reg_lambda': 0.44677533084763343, 'max_depth': 6, 'num_leaves': 34, 'colsample_bytree': 0.3018663533354806, 'min_child_samples': 9, 'max_bin': 51, 'subsample_freq': 3}. Best is trial 137 with value: 0.17512873362467118.\n"
     ]
    },
    {
     "name": "stdout",
     "output_type": "stream",
     "text": [
      "Repeat \u001b[1m\u001b[34m#1\n",
      "Repeat \u001b[1m\u001b[34m#2\n"
     ]
    },
    {
     "name": "stderr",
     "output_type": "stream",
     "text": [
      "[I 2023-06-29 14:06:03,023] Trial 855 finished with value: 0.2018098371900677 and parameters: {'boosting_type': 'goss', 'learning_rate': 0.00441292247981186, 'reg_alpha': 9.07662280465133e-06, 'reg_lambda': 1.6166419140232042e-07, 'max_depth': 5, 'num_leaves': 28, 'colsample_bytree': 0.5021094357851248, 'min_child_samples': 16, 'max_bin': 32, 'subsample_freq': 3}. Best is trial 137 with value: 0.17512873362467118.\n"
     ]
    },
    {
     "name": "stdout",
     "output_type": "stream",
     "text": [
      "Repeat \u001b[1m\u001b[34m#1\n",
      "Repeat \u001b[1m\u001b[34m#2\n"
     ]
    },
    {
     "name": "stderr",
     "output_type": "stream",
     "text": [
      "[I 2023-06-29 14:06:05,565] Trial 856 finished with value: 0.3203896559548456 and parameters: {'boosting_type': 'goss', 'learning_rate': 0.03655229803511247, 'reg_alpha': 0.013061773797260012, 'reg_lambda': 4.3384357716659615e-05, 'max_depth': 6, 'num_leaves': 57, 'colsample_bytree': 0.48027463630983247, 'min_child_samples': 59, 'max_bin': 43, 'subsample_freq': 3}. Best is trial 137 with value: 0.17512873362467118.\n"
     ]
    },
    {
     "name": "stdout",
     "output_type": "stream",
     "text": [
      "Repeat \u001b[1m\u001b[34m#1\n",
      "Repeat \u001b[1m\u001b[34m#2\n"
     ]
    },
    {
     "name": "stderr",
     "output_type": "stream",
     "text": [
      "[I 2023-06-29 14:06:08,059] Trial 857 finished with value: 0.1928611351581697 and parameters: {'boosting_type': 'goss', 'learning_rate': 0.027328493496849685, 'reg_alpha': 0.14291111792837696, 'reg_lambda': 0.018551652474816202, 'max_depth': 8, 'num_leaves': 52, 'colsample_bytree': 0.6729215597413952, 'min_child_samples': 11, 'max_bin': 55, 'subsample_freq': 3}. Best is trial 137 with value: 0.17512873362467118.\n"
     ]
    },
    {
     "name": "stdout",
     "output_type": "stream",
     "text": [
      "Repeat \u001b[1m\u001b[34m#1\n",
      "Repeat \u001b[1m\u001b[34m#2\n"
     ]
    },
    {
     "name": "stderr",
     "output_type": "stream",
     "text": [
      "[I 2023-06-29 14:06:09,523] Trial 858 finished with value: 0.18872480915463175 and parameters: {'boosting_type': 'goss', 'learning_rate': 0.07604824342917908, 'reg_alpha': 0.00047414447064104493, 'reg_lambda': 0.3195505403637349, 'max_depth': 5, 'num_leaves': 26, 'colsample_bytree': 0.6209994405652796, 'min_child_samples': 13, 'max_bin': 38, 'subsample_freq': 5}. Best is trial 137 with value: 0.17512873362467118.\n"
     ]
    },
    {
     "name": "stdout",
     "output_type": "stream",
     "text": [
      "Repeat \u001b[1m\u001b[34m#1\n",
      "Repeat \u001b[1m\u001b[34m#2\n"
     ]
    },
    {
     "name": "stderr",
     "output_type": "stream",
     "text": [
      "[I 2023-06-29 14:06:11,175] Trial 859 finished with value: 0.20997833493970355 and parameters: {'boosting_type': 'goss', 'learning_rate': 0.06637871516767767, 'reg_alpha': 1.5339351364479558e-05, 'reg_lambda': 0.041295871660394154, 'max_depth': 5, 'num_leaves': 33, 'colsample_bytree': 0.3287169493575691, 'min_child_samples': 6, 'max_bin': 47, 'subsample_freq': 3}. Best is trial 137 with value: 0.17512873362467118.\n"
     ]
    },
    {
     "name": "stdout",
     "output_type": "stream",
     "text": [
      "Repeat \u001b[1m\u001b[34m#1\n",
      "Repeat \u001b[1m\u001b[34m#2\n"
     ]
    },
    {
     "name": "stderr",
     "output_type": "stream",
     "text": [
      "[I 2023-06-29 14:06:15,682] Trial 860 finished with value: 0.21265790945403226 and parameters: {'boosting_type': 'goss', 'learning_rate': 0.02142584288651815, 'reg_alpha': 6.794127958203206, 'reg_lambda': 3.551138094901047e-08, 'max_depth': 5, 'num_leaves': 63, 'colsample_bytree': 0.6321223089352388, 'min_child_samples': 8, 'max_bin': 43, 'subsample_freq': 4}. Best is trial 137 with value: 0.17512873362467118.\n"
     ]
    },
    {
     "name": "stdout",
     "output_type": "stream",
     "text": [
      "Repeat \u001b[1m\u001b[34m#1\n",
      "Repeat \u001b[1m\u001b[34m#2\n"
     ]
    },
    {
     "name": "stderr",
     "output_type": "stream",
     "text": [
      "[I 2023-06-29 14:06:20,947] Trial 861 finished with value: 0.18516523922583433 and parameters: {'boosting_type': 'goss', 'learning_rate': 0.01336580032681997, 'reg_alpha': 3.571280817440309e-05, 'reg_lambda': 5.559970911160515e-07, 'max_depth': 5, 'num_leaves': 30, 'colsample_bytree': 0.5915888786481129, 'min_child_samples': 10, 'max_bin': 51, 'subsample_freq': 5}. Best is trial 137 with value: 0.17512873362467118.\n"
     ]
    },
    {
     "name": "stdout",
     "output_type": "stream",
     "text": [
      "Repeat \u001b[1m\u001b[34m#1\n",
      "Repeat \u001b[1m\u001b[34m#2\n"
     ]
    },
    {
     "name": "stderr",
     "output_type": "stream",
     "text": [
      "[I 2023-06-29 14:06:34,210] Trial 862 finished with value: 0.20740115578849316 and parameters: {'boosting_type': 'goss', 'learning_rate': 0.0028949261847365754, 'reg_alpha': 0.001303808497409867, 'reg_lambda': 0.06717602812267891, 'max_depth': 5, 'num_leaves': 55, 'colsample_bytree': 0.4918304785947061, 'min_child_samples': 14, 'max_bin': 36, 'subsample_freq': 3}. Best is trial 137 with value: 0.17512873362467118.\n"
     ]
    },
    {
     "name": "stdout",
     "output_type": "stream",
     "text": [
      "Repeat \u001b[1m\u001b[34m#1\n",
      "Repeat \u001b[1m\u001b[34m#2\n"
     ]
    },
    {
     "name": "stderr",
     "output_type": "stream",
     "text": [
      "[I 2023-06-29 14:06:41,881] Trial 863 finished with value: 0.20311065031655762 and parameters: {'boosting_type': 'goss', 'learning_rate': 0.008681403849316092, 'reg_alpha': 1.7307616616732484, 'reg_lambda': 1.5385737673266172e-06, 'max_depth': 7, 'num_leaves': 36, 'colsample_bytree': 0.3360629078164715, 'min_child_samples': 11, 'max_bin': 46, 'subsample_freq': 3}. Best is trial 137 with value: 0.17512873362467118.\n"
     ]
    },
    {
     "name": "stdout",
     "output_type": "stream",
     "text": [
      "Repeat \u001b[1m\u001b[34m#1\n",
      "Repeat \u001b[1m\u001b[34m#2\n"
     ]
    },
    {
     "name": "stderr",
     "output_type": "stream",
     "text": [
      "[I 2023-06-29 14:06:43,031] Trial 864 finished with value: 0.20904372492988071 and parameters: {'boosting_type': 'goss', 'learning_rate': 0.09126919736974294, 'reg_alpha': 0.05206767277092542, 'reg_lambda': 2.1807785975774844e-07, 'max_depth': 6, 'num_leaves': 59, 'colsample_bytree': 0.46174521677375846, 'min_child_samples': 24, 'max_bin': 93, 'subsample_freq': 3}. Best is trial 137 with value: 0.17512873362467118.\n"
     ]
    },
    {
     "name": "stdout",
     "output_type": "stream",
     "text": [
      "Repeat \u001b[1m\u001b[34m#1\n",
      "Repeat \u001b[1m\u001b[34m#2\n"
     ]
    },
    {
     "name": "stderr",
     "output_type": "stream",
     "text": [
      "[I 2023-06-29 14:06:57,528] Trial 865 finished with value: 0.21339238837965857 and parameters: {'boosting_type': 'goss', 'learning_rate': 0.002520932112708175, 'reg_alpha': 2.4594410533949373, 'reg_lambda': 5.6922913919986236e-08, 'max_depth': 5, 'num_leaves': 51, 'colsample_bytree': 0.6542725167600201, 'min_child_samples': 8, 'max_bin': 40, 'subsample_freq': 3}. Best is trial 137 with value: 0.17512873362467118.\n"
     ]
    },
    {
     "name": "stdout",
     "output_type": "stream",
     "text": [
      "Repeat \u001b[1m\u001b[34m#1\n",
      "Repeat \u001b[1m\u001b[34m#2\n"
     ]
    },
    {
     "name": "stderr",
     "output_type": "stream",
     "text": [
      "[I 2023-06-29 14:06:59,612] Trial 866 finished with value: 0.1924857663961696 and parameters: {'boosting_type': 'goss', 'learning_rate': 0.04366718843393071, 'reg_alpha': 2.213516215489539e-07, 'reg_lambda': 1.079879160692373e-07, 'max_depth': 5, 'num_leaves': 32, 'colsample_bytree': 0.5104993342828857, 'min_child_samples': 12, 'max_bin': 58, 'subsample_freq': 5}. Best is trial 137 with value: 0.17512873362467118.\n"
     ]
    },
    {
     "name": "stdout",
     "output_type": "stream",
     "text": [
      "Repeat \u001b[1m\u001b[34m#1\n",
      "Repeat \u001b[1m\u001b[34m#2\n"
     ]
    },
    {
     "name": "stderr",
     "output_type": "stream",
     "text": [
      "[I 2023-06-29 14:07:01,745] Trial 867 finished with value: 0.19536508663506835 and parameters: {'boosting_type': 'goss', 'learning_rate': 0.03871229865704605, 'reg_alpha': 4.410042442437165e-06, 'reg_lambda': 0.0005863866515388178, 'max_depth': 5, 'num_leaves': 54, 'colsample_bytree': 0.4711813153554019, 'min_child_samples': 5, 'max_bin': 50, 'subsample_freq': 3}. Best is trial 137 with value: 0.17512873362467118.\n"
     ]
    },
    {
     "name": "stdout",
     "output_type": "stream",
     "text": [
      "Repeat \u001b[1m\u001b[34m#1\n",
      "Repeat \u001b[1m\u001b[34m#2\n"
     ]
    },
    {
     "name": "stderr",
     "output_type": "stream",
     "text": [
      "[I 2023-06-29 14:07:05,239] Trial 868 finished with value: 0.20126500339460898 and parameters: {'boosting_type': 'goss', 'learning_rate': 0.031780277436239374, 'reg_alpha': 3.5228374224020977, 'reg_lambda': 0.001889858668718918, 'max_depth': 5, 'num_leaves': 65, 'colsample_bytree': 0.5523832464066629, 'min_child_samples': 10, 'max_bin': 152, 'subsample_freq': 4}. Best is trial 137 with value: 0.17512873362467118.\n"
     ]
    },
    {
     "name": "stdout",
     "output_type": "stream",
     "text": [
      "Repeat \u001b[1m\u001b[34m#1\n",
      "Repeat \u001b[1m\u001b[34m#2\n"
     ]
    },
    {
     "name": "stderr",
     "output_type": "stream",
     "text": [
      "[I 2023-06-29 14:07:06,869] Trial 869 finished with value: 0.18600196787067852 and parameters: {'boosting_type': 'goss', 'learning_rate': 0.07139843839074389, 'reg_alpha': 5.666976394513196e-05, 'reg_lambda': 2.2591944149040807e-05, 'max_depth': 5, 'num_leaves': 58, 'colsample_bytree': 0.48482157629448625, 'min_child_samples': 14, 'max_bin': 39, 'subsample_freq': 3}. Best is trial 137 with value: 0.17512873362467118.\n"
     ]
    },
    {
     "name": "stdout",
     "output_type": "stream",
     "text": [
      "Repeat \u001b[1m\u001b[34m#1\n",
      "Repeat \u001b[1m\u001b[34m#2\n"
     ]
    },
    {
     "name": "stderr",
     "output_type": "stream",
     "text": [
      "[I 2023-06-29 14:07:24,450] Trial 870 finished with value: 0.2662560441484508 and parameters: {'boosting_type': 'goss', 'learning_rate': 0.0010816079913813113, 'reg_alpha': 0.0028263342876826527, 'reg_lambda': 6.428967242836796e-06, 'max_depth': 5, 'num_leaves': 62, 'colsample_bytree': 0.4983402406627162, 'min_child_samples': 7, 'max_bin': 35, 'subsample_freq': 1}. Best is trial 137 with value: 0.17512873362467118.\n"
     ]
    },
    {
     "name": "stdout",
     "output_type": "stream",
     "text": [
      "Repeat \u001b[1m\u001b[34m#1\n",
      "Repeat \u001b[1m\u001b[34m#2\n"
     ]
    },
    {
     "name": "stderr",
     "output_type": "stream",
     "text": [
      "[I 2023-06-29 14:07:25,936] Trial 871 finished with value: 0.18482470829324937 and parameters: {'boosting_type': 'goss', 'learning_rate': 0.08215321147690767, 'reg_alpha': 0.02165716517580617, 'reg_lambda': 0.0011476945385306067, 'max_depth': 5, 'num_leaves': 26, 'colsample_bytree': 0.5058112219932478, 'min_child_samples': 9, 'max_bin': 44, 'subsample_freq': 3}. Best is trial 137 with value: 0.17512873362467118.\n"
     ]
    },
    {
     "name": "stdout",
     "output_type": "stream",
     "text": [
      "Repeat \u001b[1m\u001b[34m#1\n",
      "Repeat \u001b[1m\u001b[34m#2\n"
     ]
    },
    {
     "name": "stderr",
     "output_type": "stream",
     "text": [
      "[I 2023-06-29 14:07:27,524] Trial 872 finished with value: 0.22117987986844778 and parameters: {'boosting_type': 'goss', 'learning_rate': 0.05835343346822737, 'reg_alpha': 2.2568547127222873e-05, 'reg_lambda': 6.811547149289703e-05, 'max_depth': 7, 'num_leaves': 22, 'colsample_bytree': 0.6069239037757217, 'min_child_samples': 35, 'max_bin': 54, 'subsample_freq': 2}. Best is trial 137 with value: 0.17512873362467118.\n"
     ]
    },
    {
     "name": "stdout",
     "output_type": "stream",
     "text": [
      "Repeat \u001b[1m\u001b[34m#1\n",
      "Repeat \u001b[1m\u001b[34m#2\n"
     ]
    },
    {
     "name": "stderr",
     "output_type": "stream",
     "text": [
      "[I 2023-06-29 14:07:41,241] Trial 873 finished with value: 0.2855995563870932 and parameters: {'boosting_type': 'goss', 'learning_rate': 0.0011959789543683837, 'reg_alpha': 8.723209331820515e-08, 'reg_lambda': 0.00012764195469795498, 'max_depth': 5, 'num_leaves': 29, 'colsample_bytree': 0.5207465592181914, 'min_child_samples': 17, 'max_bin': 46, 'subsample_freq': 5}. Best is trial 137 with value: 0.17512873362467118.\n"
     ]
    },
    {
     "name": "stdout",
     "output_type": "stream",
     "text": [
      "Repeat \u001b[1m\u001b[34m#1\n",
      "Repeat \u001b[1m\u001b[34m#2\n"
     ]
    },
    {
     "name": "stderr",
     "output_type": "stream",
     "text": [
      "[I 2023-06-29 14:07:49,834] Trial 874 finished with value: 0.18996267432068475 and parameters: {'boosting_type': 'goss', 'learning_rate': 0.006224346036150395, 'reg_alpha': 1.2561604011056102e-05, 'reg_lambda': 3.333975789885588e-08, 'max_depth': 5, 'num_leaves': 70, 'colsample_bytree': 0.40338046081052836, 'min_child_samples': 12, 'max_bin': 41, 'subsample_freq': 3}. Best is trial 137 with value: 0.17512873362467118.\n"
     ]
    },
    {
     "name": "stdout",
     "output_type": "stream",
     "text": [
      "Repeat \u001b[1m\u001b[34m#1\n",
      "Repeat \u001b[1m\u001b[34m#2\n"
     ]
    },
    {
     "name": "stderr",
     "output_type": "stream",
     "text": [
      "[I 2023-06-29 14:08:09,715] Trial 875 finished with value: 0.24247245520917574 and parameters: {'boosting_type': 'goss', 'learning_rate': 0.0013357715916234728, 'reg_alpha': 1.5190291597257973e-06, 'reg_lambda': 1.0035888896342052e-06, 'max_depth': 6, 'num_leaves': 96, 'colsample_bytree': 0.48910635372749867, 'min_child_samples': 9, 'max_bin': 49, 'subsample_freq': 5}. Best is trial 137 with value: 0.17512873362467118.\n"
     ]
    },
    {
     "name": "stdout",
     "output_type": "stream",
     "text": [
      "Repeat \u001b[1m\u001b[34m#1\n",
      "Repeat \u001b[1m\u001b[34m#2\n"
     ]
    },
    {
     "name": "stderr",
     "output_type": "stream",
     "text": [
      "[I 2023-06-29 14:08:12,191] Trial 876 finished with value: 0.19093167261176947 and parameters: {'boosting_type': 'goss', 'learning_rate': 0.034817162847307744, 'reg_alpha': 0.0066760451917496745, 'reg_lambda': 0.13216182356805914, 'max_depth': 5, 'num_leaves': 36, 'colsample_bytree': 0.35909890229519525, 'min_child_samples': 15, 'max_bin': 37, 'subsample_freq': 3}. Best is trial 137 with value: 0.17512873362467118.\n"
     ]
    },
    {
     "name": "stdout",
     "output_type": "stream",
     "text": [
      "Repeat \u001b[1m\u001b[34m#1\n",
      "Repeat \u001b[1m\u001b[34m#2\n"
     ]
    },
    {
     "name": "stderr",
     "output_type": "stream",
     "text": [
      "[I 2023-06-29 14:08:14,341] Trial 877 finished with value: 0.18114198551208888 and parameters: {'boosting_type': 'goss', 'learning_rate': 0.04186591677687999, 'reg_alpha': 7.790766523523028e-06, 'reg_lambda': 6.822503138283585e-08, 'max_depth': 5, 'num_leaves': 55, 'colsample_bytree': 0.47613034195193754, 'min_child_samples': 11, 'max_bin': 54, 'subsample_freq': 4}. Best is trial 137 with value: 0.17512873362467118.\n"
     ]
    },
    {
     "name": "stdout",
     "output_type": "stream",
     "text": [
      "Repeat \u001b[1m\u001b[34m#1\n",
      "Repeat \u001b[1m\u001b[34m#2\n"
     ]
    },
    {
     "name": "stderr",
     "output_type": "stream",
     "text": [
      "[I 2023-06-29 14:08:26,887] Trial 878 finished with value: 0.24959145003457872 and parameters: {'boosting_type': 'goss', 'learning_rate': 0.0018223826982197333, 'reg_alpha': 7.000992496890502e-06, 'reg_lambda': 6.590402046733478e-08, 'max_depth': 5, 'num_leaves': 52, 'colsample_bytree': 0.47840327418861256, 'min_child_samples': 19, 'max_bin': 58, 'subsample_freq': 4}. Best is trial 137 with value: 0.17512873362467118.\n"
     ]
    },
    {
     "name": "stdout",
     "output_type": "stream",
     "text": [
      "Repeat \u001b[1m\u001b[34m#1\n",
      "Repeat \u001b[1m\u001b[34m#2\n"
     ]
    },
    {
     "name": "stderr",
     "output_type": "stream",
     "text": [
      "[I 2023-06-29 14:08:28,642] Trial 879 finished with value: 0.18661390402228809 and parameters: {'boosting_type': 'goss', 'learning_rate': 0.05138964450033888, 'reg_alpha': 2.936026414327117e-06, 'reg_lambda': 1.1442259615717696e-07, 'max_depth': 5, 'num_leaves': 56, 'colsample_bytree': 0.4955925417812609, 'min_child_samples': 13, 'max_bin': 61, 'subsample_freq': 4}. Best is trial 137 with value: 0.17512873362467118.\n"
     ]
    },
    {
     "name": "stdout",
     "output_type": "stream",
     "text": [
      "Repeat \u001b[1m\u001b[34m#1\n",
      "Repeat \u001b[1m\u001b[34m#2\n"
     ]
    },
    {
     "name": "stderr",
     "output_type": "stream",
     "text": [
      "[I 2023-06-29 14:08:30,513] Trial 880 finished with value: 0.19593904773075313 and parameters: {'boosting_type': 'goss', 'learning_rate': 0.045893322053190994, 'reg_alpha': 5.880535101342207e-06, 'reg_lambda': 4.9242447505739794e-08, 'max_depth': 5, 'num_leaves': 54, 'colsample_bytree': 0.488655814924141, 'min_child_samples': 16, 'max_bin': 56, 'subsample_freq': 4}. Best is trial 137 with value: 0.17512873362467118.\n"
     ]
    },
    {
     "name": "stdout",
     "output_type": "stream",
     "text": [
      "Repeat \u001b[1m\u001b[34m#1\n",
      "Repeat \u001b[1m\u001b[34m#2\n"
     ]
    },
    {
     "name": "stderr",
     "output_type": "stream",
     "text": [
      "[I 2023-06-29 14:08:32,817] Trial 881 finished with value: 0.41897112074662723 and parameters: {'boosting_type': 'goss', 'learning_rate': 0.01002118907765682, 'reg_alpha': 9.391969991845467e-06, 'reg_lambda': 9.646988250944242e-08, 'max_depth': 5, 'num_leaves': 51, 'colsample_bytree': 0.43932283101190445, 'min_child_samples': 54, 'max_bin': 61, 'subsample_freq': 4}. Best is trial 137 with value: 0.17512873362467118.\n"
     ]
    },
    {
     "name": "stdout",
     "output_type": "stream",
     "text": [
      "Repeat \u001b[1m\u001b[34m#1\n",
      "Repeat \u001b[1m\u001b[34m#2\n"
     ]
    },
    {
     "name": "stderr",
     "output_type": "stream",
     "text": [
      "[I 2023-06-29 14:08:35,182] Trial 882 finished with value: 0.1810917969995865 and parameters: {'boosting_type': 'goss', 'learning_rate': 0.04146833672983419, 'reg_alpha': 7.659580859139268e-05, 'reg_lambda': 2.5814216897615185e-08, 'max_depth': 8, 'num_leaves': 56, 'colsample_bytree': 0.3833181972569063, 'min_child_samples': 12, 'max_bin': 54, 'subsample_freq': 4}. Best is trial 137 with value: 0.17512873362467118.\n"
     ]
    },
    {
     "name": "stdout",
     "output_type": "stream",
     "text": [
      "Repeat \u001b[1m\u001b[34m#1\n",
      "Repeat \u001b[1m\u001b[34m#2\n"
     ]
    },
    {
     "name": "stderr",
     "output_type": "stream",
     "text": [
      "[I 2023-06-29 14:08:39,143] Trial 883 finished with value: 0.19113405705415354 and parameters: {'boosting_type': 'goss', 'learning_rate': 0.0177414931189541, 'reg_alpha': 8.426278899876057e-05, 'reg_lambda': 2.3599221167299446e-08, 'max_depth': 9, 'num_leaves': 54, 'colsample_bytree': 0.37099253430094886, 'min_child_samples': 14, 'max_bin': 62, 'subsample_freq': 4}. Best is trial 137 with value: 0.17512873362467118.\n"
     ]
    },
    {
     "name": "stdout",
     "output_type": "stream",
     "text": [
      "Repeat \u001b[1m\u001b[34m#1\n",
      "Repeat \u001b[1m\u001b[34m#2\n"
     ]
    },
    {
     "name": "stderr",
     "output_type": "stream",
     "text": [
      "[I 2023-06-29 14:08:41,489] Trial 884 finished with value: 0.18849573075139414 and parameters: {'boosting_type': 'goss', 'learning_rate': 0.04873709105514229, 'reg_alpha': 6.490268146139362e-05, 'reg_lambda': 7.09958978928567e-08, 'max_depth': 7, 'num_leaves': 56, 'colsample_bytree': 0.3570539141842857, 'min_child_samples': 12, 'max_bin': 57, 'subsample_freq': 4}. Best is trial 137 with value: 0.17512873362467118.\n"
     ]
    },
    {
     "name": "stdout",
     "output_type": "stream",
     "text": [
      "Repeat \u001b[1m\u001b[34m#1\n",
      "Repeat \u001b[1m\u001b[34m#2\n"
     ]
    },
    {
     "name": "stderr",
     "output_type": "stream",
     "text": [
      "[I 2023-06-29 14:08:43,529] Trial 885 finished with value: 0.19010317714373542 and parameters: {'boosting_type': 'goss', 'learning_rate': 0.04302716113769927, 'reg_alpha': 0.00014014298886163486, 'reg_lambda': 1.3867034062367632e-08, 'max_depth': 9, 'num_leaves': 57, 'colsample_bytree': 0.47930472742983304, 'min_child_samples': 14, 'max_bin': 55, 'subsample_freq': 4}. Best is trial 137 with value: 0.17512873362467118.\n"
     ]
    },
    {
     "name": "stdout",
     "output_type": "stream",
     "text": [
      "Repeat \u001b[1m\u001b[34m#1\n",
      "Repeat \u001b[1m\u001b[34m#2\n"
     ]
    },
    {
     "name": "stderr",
     "output_type": "stream",
     "text": [
      "[I 2023-06-29 14:08:55,528] Trial 886 finished with value: 0.19897565370376902 and parameters: {'boosting_type': 'goss', 'learning_rate': 0.004656949719220921, 'reg_alpha': 4.332856150118125e-05, 'reg_lambda': 1.8535735536935692e-07, 'max_depth': 9, 'num_leaves': 59, 'colsample_bytree': 0.3974276224058605, 'min_child_samples': 11, 'max_bin': 55, 'subsample_freq': 4}. Best is trial 137 with value: 0.17512873362467118.\n"
     ]
    },
    {
     "name": "stdout",
     "output_type": "stream",
     "text": [
      "Repeat \u001b[1m\u001b[34m#1\n",
      "Repeat \u001b[1m\u001b[34m#2\n"
     ]
    },
    {
     "name": "stderr",
     "output_type": "stream",
     "text": [
      "[I 2023-06-29 14:09:06,498] Trial 887 finished with value: 0.19738063079736964 and parameters: {'boosting_type': 'goss', 'learning_rate': 0.005387044505418188, 'reg_alpha': 7.235747097263066e-05, 'reg_lambda': 3.7365108567659497e-07, 'max_depth': 8, 'num_leaves': 54, 'colsample_bytree': 0.3913237025171931, 'min_child_samples': 16, 'max_bin': 64, 'subsample_freq': 4}. Best is trial 137 with value: 0.17512873362467118.\n"
     ]
    },
    {
     "name": "stdout",
     "output_type": "stream",
     "text": [
      "Repeat \u001b[1m\u001b[34m#1\n",
      "Repeat \u001b[1m\u001b[34m#2\n"
     ]
    },
    {
     "name": "stderr",
     "output_type": "stream",
     "text": [
      "[I 2023-06-29 14:09:08,566] Trial 888 finished with value: 0.19163203728994666 and parameters: {'boosting_type': 'goss', 'learning_rate': 0.0462081606577653, 'reg_alpha': 0.00010099820900293154, 'reg_lambda': 4.5447963744581906e-08, 'max_depth': 7, 'num_leaves': 51, 'colsample_bytree': 0.31440960168933985, 'min_child_samples': 13, 'max_bin': 53, 'subsample_freq': 5}. Best is trial 137 with value: 0.17512873362467118.\n"
     ]
    },
    {
     "name": "stdout",
     "output_type": "stream",
     "text": [
      "Repeat \u001b[1m\u001b[34m#1\n",
      "Repeat \u001b[1m\u001b[34m#2\n"
     ]
    },
    {
     "name": "stderr",
     "output_type": "stream",
     "text": [
      "[I 2023-06-29 14:09:10,355] Trial 889 finished with value: 0.19768259413303263 and parameters: {'boosting_type': 'goss', 'learning_rate': 0.057895576681875026, 'reg_alpha': 0.010425735808169072, 'reg_lambda': 3.154627882502866e-08, 'max_depth': 8, 'num_leaves': 56, 'colsample_bytree': 0.4380945006561023, 'min_child_samples': 11, 'max_bin': 53, 'subsample_freq': 4}. Best is trial 137 with value: 0.17512873362467118.\n"
     ]
    },
    {
     "name": "stdout",
     "output_type": "stream",
     "text": [
      "Repeat \u001b[1m\u001b[34m#1\n",
      "Repeat \u001b[1m\u001b[34m#2\n"
     ]
    },
    {
     "name": "stderr",
     "output_type": "stream",
     "text": [
      "[I 2023-06-29 14:09:20,659] Trial 890 finished with value: 0.19284880909640448 and parameters: {'boosting_type': 'goss', 'learning_rate': 0.01221468384387698, 'reg_alpha': 5.5595765938680826e-05, 'reg_lambda': 2.1502530239369975e-08, 'max_depth': 8, 'num_leaves': 60, 'colsample_bytree': 0.424191785079192, 'min_child_samples': 15, 'max_bin': 60, 'subsample_freq': 4}. Best is trial 137 with value: 0.17512873362467118.\n"
     ]
    },
    {
     "name": "stdout",
     "output_type": "stream",
     "text": [
      "Repeat \u001b[1m\u001b[34m#1\n",
      "Repeat \u001b[1m\u001b[34m#2\n"
     ]
    },
    {
     "name": "stderr",
     "output_type": "stream",
     "text": [
      "[I 2023-06-29 14:09:24,084] Trial 891 finished with value: 0.18851608293825978 and parameters: {'boosting_type': 'goss', 'learning_rate': 0.06703932277229757, 'reg_alpha': 3.7317050215966234e-05, 'reg_lambda': 1.2019900095262416e-07, 'max_depth': 9, 'num_leaves': 53, 'colsample_bytree': 0.3537384488127914, 'min_child_samples': 12, 'max_bin': 58, 'subsample_freq': 4}. Best is trial 137 with value: 0.17512873362467118.\n"
     ]
    },
    {
     "name": "stdout",
     "output_type": "stream",
     "text": [
      "Repeat \u001b[1m\u001b[34m#1\n",
      "Repeat \u001b[1m\u001b[34m#2\n"
     ]
    },
    {
     "name": "stderr",
     "output_type": "stream",
     "text": [
      "[I 2023-06-29 14:09:32,510] Trial 892 finished with value: 0.19797636031298038 and parameters: {'boosting_type': 'goss', 'learning_rate': 0.007485396188883515, 'reg_alpha': 2.6320256864810125e-05, 'reg_lambda': 3.707995643294109e-06, 'max_depth': 8, 'num_leaves': 58, 'colsample_bytree': 0.3475001983380937, 'min_child_samples': 18, 'max_bin': 51, 'subsample_freq': 4}. Best is trial 137 with value: 0.17512873362467118.\n"
     ]
    },
    {
     "name": "stdout",
     "output_type": "stream",
     "text": [
      "Repeat \u001b[1m\u001b[34m#1\n",
      "Repeat \u001b[1m\u001b[34m#2\n"
     ]
    },
    {
     "name": "stderr",
     "output_type": "stream",
     "text": [
      "[I 2023-06-29 14:09:34,991] Trial 893 finished with value: 0.19319129215712402 and parameters: {'boosting_type': 'goss', 'learning_rate': 0.04158294860914178, 'reg_alpha': 2.0365253180314003e-05, 'reg_lambda': 6.039927529824865e-08, 'max_depth': 8, 'num_leaves': 50, 'colsample_bytree': 0.45083434550973284, 'min_child_samples': 10, 'max_bin': 52, 'subsample_freq': 4}. Best is trial 137 with value: 0.17512873362467118.\n"
     ]
    },
    {
     "name": "stdout",
     "output_type": "stream",
     "text": [
      "Repeat \u001b[1m\u001b[34m#1\n",
      "Repeat \u001b[1m\u001b[34m#2\n"
     ]
    },
    {
     "name": "stderr",
     "output_type": "stream",
     "text": [
      "[I 2023-06-29 14:09:37,307] Trial 894 finished with value: 0.19907471380124248 and parameters: {'boosting_type': 'goss', 'learning_rate': 0.05246044544994945, 'reg_alpha': 0.010414197090801689, 'reg_lambda': 8.859481742083517e-08, 'max_depth': 7, 'num_leaves': 56, 'colsample_bytree': 0.4082948045686885, 'min_child_samples': 7, 'max_bin': 59, 'subsample_freq': 4}. Best is trial 137 with value: 0.17512873362467118.\n"
     ]
    },
    {
     "name": "stdout",
     "output_type": "stream",
     "text": [
      "Repeat \u001b[1m\u001b[34m#1\n",
      "Repeat \u001b[1m\u001b[34m#2\n"
     ]
    },
    {
     "name": "stderr",
     "output_type": "stream",
     "text": [
      "[I 2023-06-29 14:09:38,741] Trial 895 finished with value: 0.21036868381889673 and parameters: {'boosting_type': 'goss', 'learning_rate': 0.07581360982372957, 'reg_alpha': 0.43165821069925936, 'reg_lambda': 2.2167468769881182e-06, 'max_depth': 8, 'num_leaves': 61, 'colsample_bytree': 0.3991246863547127, 'min_child_samples': 10, 'max_bin': 53, 'subsample_freq': 4}. Best is trial 137 with value: 0.17512873362467118.\n"
     ]
    },
    {
     "name": "stdout",
     "output_type": "stream",
     "text": [
      "Repeat \u001b[1m\u001b[34m#1\n",
      "Repeat \u001b[1m\u001b[34m#2\n"
     ]
    },
    {
     "name": "stderr",
     "output_type": "stream",
     "text": [
      "[I 2023-06-29 14:09:40,032] Trial 896 finished with value: 0.19227433072796052 and parameters: {'boosting_type': 'goss', 'learning_rate': 0.08651039044642146, 'reg_alpha': 0.03336569349645103, 'reg_lambda': 2.51532113040527e-07, 'max_depth': 8, 'num_leaves': 53, 'colsample_bytree': 0.37669938152786875, 'min_child_samples': 13, 'max_bin': 49, 'subsample_freq': 4}. Best is trial 137 with value: 0.17512873362467118.\n"
     ]
    },
    {
     "name": "stdout",
     "output_type": "stream",
     "text": [
      "Repeat \u001b[1m\u001b[34m#1\n",
      "Repeat \u001b[1m\u001b[34m#2\n"
     ]
    },
    {
     "name": "stderr",
     "output_type": "stream",
     "text": [
      "[I 2023-06-29 14:10:01,176] Trial 897 finished with value: 0.22995435953138826 and parameters: {'boosting_type': 'goss', 'learning_rate': 0.0015335369801980218, 'reg_alpha': 0.00022936700066553034, 'reg_lambda': 7.890901748099504e-07, 'max_depth': 7, 'num_leaves': 58, 'colsample_bytree': 0.4723523410471468, 'min_child_samples': 9, 'max_bin': 56, 'subsample_freq': 4}. Best is trial 137 with value: 0.17512873362467118.\n"
     ]
    },
    {
     "name": "stdout",
     "output_type": "stream",
     "text": [
      "Repeat \u001b[1m\u001b[34m#1\n",
      "Repeat \u001b[1m\u001b[34m#2\n"
     ]
    },
    {
     "name": "stderr",
     "output_type": "stream",
     "text": [
      "[I 2023-06-29 14:10:02,925] Trial 898 finished with value: 0.18656353210122603 and parameters: {'boosting_type': 'goss', 'learning_rate': 0.06336346899659344, 'reg_alpha': 3.506617551358137e-05, 'reg_lambda': 1.364536664911207e-08, 'max_depth': 9, 'num_leaves': 55, 'colsample_bytree': 0.3730630134115479, 'min_child_samples': 12, 'max_bin': 50, 'subsample_freq': 4}. Best is trial 137 with value: 0.17512873362467118.\n"
     ]
    },
    {
     "name": "stdout",
     "output_type": "stream",
     "text": [
      "Repeat \u001b[1m\u001b[34m#1\n",
      "Repeat \u001b[1m\u001b[34m#2\n"
     ]
    },
    {
     "name": "stderr",
     "output_type": "stream",
     "text": [
      "[I 2023-06-29 14:10:05,370] Trial 899 finished with value: 0.19400641970106747 and parameters: {'boosting_type': 'goss', 'learning_rate': 0.04710928072087761, 'reg_alpha': 0.016832265342051126, 'reg_lambda': 2.6934957519463332e-08, 'max_depth': 6, 'num_leaves': 49, 'colsample_bytree': 0.34051122447381466, 'min_child_samples': 8, 'max_bin': 115, 'subsample_freq': 5}. Best is trial 137 with value: 0.17512873362467118.\n"
     ]
    },
    {
     "name": "stdout",
     "output_type": "stream",
     "text": [
      "Repeat \u001b[1m\u001b[34m#1\n",
      "Repeat \u001b[1m\u001b[34m#2\n"
     ]
    },
    {
     "name": "stderr",
     "output_type": "stream",
     "text": [
      "[I 2023-06-29 14:10:06,859] Trial 900 finished with value: 0.19498965406825622 and parameters: {'boosting_type': 'goss', 'learning_rate': 0.09675837273089326, 'reg_alpha': 8.852886377621859e-05, 'reg_lambda': 4.492972579144077e-08, 'max_depth': 6, 'num_leaves': 60, 'colsample_bytree': 0.41805859359210557, 'min_child_samples': 15, 'max_bin': 64, 'subsample_freq': 4}. Best is trial 137 with value: 0.17512873362467118.\n"
     ]
    },
    {
     "name": "stdout",
     "output_type": "stream",
     "text": [
      "Repeat \u001b[1m\u001b[34m#1\n",
      "Repeat \u001b[1m\u001b[34m#2\n"
     ]
    },
    {
     "name": "stderr",
     "output_type": "stream",
     "text": [
      "[I 2023-06-29 14:10:10,254] Trial 901 finished with value: 0.19611536251394202 and parameters: {'boosting_type': 'goss', 'learning_rate': 0.02509238890570691, 'reg_alpha': 5.08951795673704e-07, 'reg_lambda': 1.96773744228596e-07, 'max_depth': 7, 'num_leaves': 57, 'colsample_bytree': 0.4138306115086611, 'min_child_samples': 11, 'max_bin': 59, 'subsample_freq': 5}. Best is trial 137 with value: 0.17512873362467118.\n"
     ]
    },
    {
     "name": "stdout",
     "output_type": "stream",
     "text": [
      "Repeat \u001b[1m\u001b[34m#1\n",
      "Repeat \u001b[1m\u001b[34m#2\n"
     ]
    },
    {
     "name": "stderr",
     "output_type": "stream",
     "text": [
      "[I 2023-06-29 14:10:12,854] Trial 902 finished with value: 0.19716306461038177 and parameters: {'boosting_type': 'goss', 'learning_rate': 0.05609605315314279, 'reg_alpha': 1.6696582947482076e-05, 'reg_lambda': 1.3710906590817193e-07, 'max_depth': 6, 'num_leaves': 51, 'colsample_bytree': 0.4011057856566799, 'min_child_samples': 6, 'max_bin': 48, 'subsample_freq': 4}. Best is trial 137 with value: 0.17512873362467118.\n"
     ]
    },
    {
     "name": "stdout",
     "output_type": "stream",
     "text": [
      "Repeat \u001b[1m\u001b[34m#1\n",
      "Repeat \u001b[1m\u001b[34m#2\n"
     ]
    },
    {
     "name": "stderr",
     "output_type": "stream",
     "text": [
      "[I 2023-06-29 14:10:15,198] Trial 903 finished with value: 0.19089741270710897 and parameters: {'boosting_type': 'goss', 'learning_rate': 0.04043182851091928, 'reg_alpha': 0.005195349154638945, 'reg_lambda': 7.515506790018404e-08, 'max_depth': 7, 'num_leaves': 63, 'colsample_bytree': 0.4174435223990187, 'min_child_samples': 13, 'max_bin': 124, 'subsample_freq': 5}. Best is trial 137 with value: 0.17512873362467118.\n"
     ]
    },
    {
     "name": "stdout",
     "output_type": "stream",
     "text": [
      "Repeat \u001b[1m\u001b[34m#1\n",
      "Repeat \u001b[1m\u001b[34m#2\n"
     ]
    },
    {
     "name": "stderr",
     "output_type": "stream",
     "text": [
      "[I 2023-06-29 14:10:24,513] Trial 904 finished with value: 0.2059028772259111 and parameters: {'boosting_type': 'goss', 'learning_rate': 0.009525677685359673, 'reg_alpha': 0.06444289603038975, 'reg_lambda': 7.651963340865573, 'max_depth': 8, 'num_leaves': 54, 'colsample_bytree': 0.343022965570615, 'min_child_samples': 10, 'max_bin': 55, 'subsample_freq': 5}. Best is trial 137 with value: 0.17512873362467118.\n"
     ]
    },
    {
     "name": "stdout",
     "output_type": "stream",
     "text": [
      "Repeat \u001b[1m\u001b[34m#1\n",
      "Repeat \u001b[1m\u001b[34m#2\n"
     ]
    },
    {
     "name": "stderr",
     "output_type": "stream",
     "text": [
      "[I 2023-06-29 14:10:37,917] Trial 905 finished with value: 0.19093161467210956 and parameters: {'boosting_type': 'goss', 'learning_rate': 0.00414949937268707, 'reg_alpha': 4.8648490169286886e-05, 'reg_lambda': 7.1709993783077335e-06, 'max_depth': 6, 'num_leaves': 58, 'colsample_bytree': 0.407552130843381, 'min_child_samples': 8, 'max_bin': 51, 'subsample_freq': 5}. Best is trial 137 with value: 0.17512873362467118.\n"
     ]
    },
    {
     "name": "stdout",
     "output_type": "stream",
     "text": [
      "Repeat \u001b[1m\u001b[34m#1\n",
      "Repeat \u001b[1m\u001b[34m#2\n"
     ]
    },
    {
     "name": "stderr",
     "output_type": "stream",
     "text": [
      "[I 2023-06-29 14:10:39,378] Trial 906 finished with value: 0.19405027658984186 and parameters: {'boosting_type': 'goss', 'learning_rate': 0.07135543653185199, 'reg_alpha': 0.02380986022955765, 'reg_lambda': 2.1212306058155793e-08, 'max_depth': 6, 'num_leaves': 67, 'colsample_bytree': 0.5584824830306684, 'min_child_samples': 11, 'max_bin': 65, 'subsample_freq': 7}. Best is trial 137 with value: 0.17512873362467118.\n"
     ]
    },
    {
     "name": "stdout",
     "output_type": "stream",
     "text": [
      "Repeat \u001b[1m\u001b[34m#1\n",
      "Repeat \u001b[1m\u001b[34m#2\n"
     ]
    },
    {
     "name": "stderr",
     "output_type": "stream",
     "text": [
      "[I 2023-06-29 14:10:41,091] Trial 907 finished with value: 0.1940768104155672 and parameters: {'boosting_type': 'goss', 'learning_rate': 0.06064063156770467, 'reg_alpha': 8.068282951997651e-07, 'reg_lambda': 3.9090944104690544e-08, 'max_depth': 7, 'num_leaves': 61, 'colsample_bytree': 0.5432507750664247, 'min_child_samples': 13, 'max_bin': 47, 'subsample_freq': 4}. Best is trial 137 with value: 0.17512873362467118.\n"
     ]
    },
    {
     "name": "stdout",
     "output_type": "stream",
     "text": [
      "Repeat \u001b[1m\u001b[34m#1\n",
      "Repeat \u001b[1m\u001b[34m#2\n"
     ]
    },
    {
     "name": "stderr",
     "output_type": "stream",
     "text": [
      "[I 2023-06-29 14:10:42,921] Trial 908 finished with value: 0.19094269155547364 and parameters: {'boosting_type': 'goss', 'learning_rate': 0.0511157073325717, 'reg_alpha': 0.0001250748126274497, 'reg_lambda': 3.249469769070274e-07, 'max_depth': 5, 'num_leaves': 54, 'colsample_bytree': 0.5332430289199892, 'min_child_samples': 17, 'max_bin': 52, 'subsample_freq': 4}. Best is trial 137 with value: 0.17512873362467118.\n"
     ]
    },
    {
     "name": "stdout",
     "output_type": "stream",
     "text": [
      "Repeat \u001b[1m\u001b[34m#1\n",
      "Repeat \u001b[1m\u001b[34m#2\n"
     ]
    },
    {
     "name": "stderr",
     "output_type": "stream",
     "text": [
      "[I 2023-06-29 14:10:44,618] Trial 909 finished with value: 0.2140887184704315 and parameters: {'boosting_type': 'goss', 'learning_rate': 0.07744858554127908, 'reg_alpha': 2.6552387992531796e-05, 'reg_lambda': 1.0775172892198785e-05, 'max_depth': 5, 'num_leaves': 59, 'colsample_bytree': 0.37879954619023254, 'min_child_samples': 5, 'max_bin': 229, 'subsample_freq': 2}. Best is trial 137 with value: 0.17512873362467118.\n"
     ]
    },
    {
     "name": "stdout",
     "output_type": "stream",
     "text": [
      "Repeat \u001b[1m\u001b[34m#1\n",
      "Repeat \u001b[1m\u001b[34m#2\n"
     ]
    },
    {
     "name": "stderr",
     "output_type": "stream",
     "text": [
      "[I 2023-06-29 14:10:59,088] Trial 910 finished with value: 0.205668113769102 and parameters: {'boosting_type': 'goss', 'learning_rate': 0.0033474510620004026, 'reg_alpha': 1.2264234344686502, 'reg_lambda': 1.258681083291564e-06, 'max_depth': 5, 'num_leaves': 56, 'colsample_bytree': 0.3622551681526782, 'min_child_samples': 7, 'max_bin': 47, 'subsample_freq': 5}. Best is trial 137 with value: 0.17512873362467118.\n"
     ]
    },
    {
     "name": "stdout",
     "output_type": "stream",
     "text": [
      "Repeat \u001b[1m\u001b[34m#1\n",
      "Repeat \u001b[1m\u001b[34m#2\n"
     ]
    },
    {
     "name": "stderr",
     "output_type": "stream",
     "text": [
      "[I 2023-06-29 14:11:02,000] Trial 911 finished with value: 0.20529410195535513 and parameters: {'boosting_type': 'goss', 'learning_rate': 0.04274861255822913, 'reg_alpha': 4.449871984644767, 'reg_lambda': 6.188437598948688e-08, 'max_depth': 6, 'num_leaves': 64, 'colsample_bytree': 0.4706712648096247, 'min_child_samples': 15, 'max_bin': 85, 'subsample_freq': 4}. Best is trial 137 with value: 0.17512873362467118.\n"
     ]
    },
    {
     "name": "stdout",
     "output_type": "stream",
     "text": [
      "Repeat \u001b[1m\u001b[34m#1\n",
      "Repeat \u001b[1m\u001b[34m#2\n"
     ]
    },
    {
     "name": "stderr",
     "output_type": "stream",
     "text": [
      "[I 2023-06-29 14:11:03,663] Trial 912 finished with value: 0.20129598962686324 and parameters: {'boosting_type': 'goss', 'learning_rate': 0.0661615370020702, 'reg_alpha': 1.2962260613876705e-05, 'reg_lambda': 1.510785295734633e-08, 'max_depth': 5, 'num_leaves': 49, 'colsample_bytree': 0.41807125116365457, 'min_child_samples': 9, 'max_bin': 58, 'subsample_freq': 5}. Best is trial 137 with value: 0.17512873362467118.\n"
     ]
    },
    {
     "name": "stdout",
     "output_type": "stream",
     "text": [
      "Repeat \u001b[1m\u001b[34m#1\n",
      "Repeat \u001b[1m\u001b[34m#2\n"
     ]
    },
    {
     "name": "stderr",
     "output_type": "stream",
     "text": [
      "[I 2023-06-29 14:11:06,794] Trial 913 finished with value: 0.1898167436551268 and parameters: {'boosting_type': 'goss', 'learning_rate': 0.0235103524633513, 'reg_alpha': 0.011572057699575781, 'reg_lambda': 1.1391744667797396e-07, 'max_depth': 5, 'num_leaves': 60, 'colsample_bytree': 0.443302709036511, 'min_child_samples': 11, 'max_bin': 46, 'subsample_freq': 2}. Best is trial 137 with value: 0.17512873362467118.\n"
     ]
    },
    {
     "name": "stdout",
     "output_type": "stream",
     "text": [
      "Repeat \u001b[1m\u001b[34m#1\n",
      "Repeat \u001b[1m\u001b[34m#2\n"
     ]
    },
    {
     "name": "stderr",
     "output_type": "stream",
     "text": [
      "[I 2023-06-29 14:11:15,272] Trial 914 finished with value: 0.1909787426023024 and parameters: {'boosting_type': 'goss', 'learning_rate': 0.007160790387940135, 'reg_alpha': 5.5892356507986685e-05, 'reg_lambda': 4.935859256712711e-07, 'max_depth': 5, 'num_leaves': 53, 'colsample_bytree': 0.37264283864777326, 'min_child_samples': 14, 'max_bin': 54, 'subsample_freq': 5}. Best is trial 137 with value: 0.17512873362467118.\n"
     ]
    },
    {
     "name": "stdout",
     "output_type": "stream",
     "text": [
      "Repeat \u001b[1m\u001b[34m#1\n",
      "Repeat \u001b[1m\u001b[34m#2\n"
     ]
    },
    {
     "name": "stderr",
     "output_type": "stream",
     "text": [
      "[I 2023-06-29 14:11:23,640] Trial 915 finished with value: 0.22345066657809615 and parameters: {'boosting_type': 'goss', 'learning_rate': 0.011373612389252738, 'reg_alpha': 9.296291080272544, 'reg_lambda': 2.699475176345624e-06, 'max_depth': 7, 'num_leaves': 62, 'colsample_bytree': 0.3348076797565509, 'min_child_samples': 9, 'max_bin': 61, 'subsample_freq': 4}. Best is trial 137 with value: 0.17512873362467118.\n"
     ]
    },
    {
     "name": "stdout",
     "output_type": "stream",
     "text": [
      "Repeat \u001b[1m\u001b[34m#1\n",
      "Repeat \u001b[1m\u001b[34m#2\n"
     ]
    },
    {
     "name": "stderr",
     "output_type": "stream",
     "text": [
      "[I 2023-06-29 14:11:28,172] Trial 916 finished with value: 0.20026916308976284 and parameters: {'boosting_type': 'goss', 'learning_rate': 0.01766282958911037, 'reg_alpha': 1.9624515082612223e-07, 'reg_lambda': 3.1884651019766105e-08, 'max_depth': 5, 'num_leaves': 52, 'colsample_bytree': 0.51471781663558, 'min_child_samples': 20, 'max_bin': 236, 'subsample_freq': 5}. Best is trial 137 with value: 0.17512873362467118.\n"
     ]
    },
    {
     "name": "stdout",
     "output_type": "stream",
     "text": [
      "Repeat \u001b[1m\u001b[34m#1\n",
      "Repeat \u001b[1m\u001b[34m#2\n"
     ]
    },
    {
     "name": "stderr",
     "output_type": "stream",
     "text": [
      "[I 2023-06-29 14:11:29,488] Trial 917 finished with value: 0.21348912828565933 and parameters: {'boosting_type': 'goss', 'learning_rate': 0.08720334339023525, 'reg_alpha': 3.257414308401602e-05, 'reg_lambda': 1.0469733946213792e-08, 'max_depth': 5, 'num_leaves': 58, 'colsample_bytree': 0.48149959341609094, 'min_child_samples': 29, 'max_bin': 99, 'subsample_freq': 5}. Best is trial 137 with value: 0.17512873362467118.\n"
     ]
    },
    {
     "name": "stdout",
     "output_type": "stream",
     "text": [
      "Repeat \u001b[1m\u001b[34m#1\n",
      "Repeat \u001b[1m\u001b[34m#2\n"
     ]
    },
    {
     "name": "stderr",
     "output_type": "stream",
     "text": [
      "[I 2023-06-29 14:11:31,259] Trial 918 finished with value: 0.19122430013429176 and parameters: {'boosting_type': 'goss', 'learning_rate': 0.05539877385508645, 'reg_alpha': 0.006796371374964612, 'reg_lambda': 4.504797097458832e-06, 'max_depth': 6, 'num_leaves': 87, 'colsample_bytree': 0.525599321212063, 'min_child_samples': 12, 'max_bin': 50, 'subsample_freq': 4}. Best is trial 137 with value: 0.17512873362467118.\n"
     ]
    },
    {
     "name": "stdout",
     "output_type": "stream",
     "text": [
      "Repeat \u001b[1m\u001b[34m#1\n",
      "Repeat \u001b[1m\u001b[34m#2\n"
     ]
    },
    {
     "name": "stderr",
     "output_type": "stream",
     "text": [
      "[I 2023-06-29 14:11:36,835] Trial 919 finished with value: 0.19259968073119677 and parameters: {'boosting_type': 'goss', 'learning_rate': 0.016110215706177714, 'reg_alpha': 1.0708218105788753e-05, 'reg_lambda': 1.6518410821850443e-07, 'max_depth': 8, 'num_leaves': 56, 'colsample_bytree': 0.45807241558786915, 'min_child_samples': 7, 'max_bin': 46, 'subsample_freq': 5}. Best is trial 137 with value: 0.17512873362467118.\n"
     ]
    },
    {
     "name": "stdout",
     "output_type": "stream",
     "text": [
      "Repeat \u001b[1m\u001b[34m#1\n",
      "Repeat \u001b[1m\u001b[34m#2\n"
     ]
    },
    {
     "name": "stderr",
     "output_type": "stream",
     "text": [
      "[I 2023-06-29 14:11:38,647] Trial 920 finished with value: 0.1894970249485661 and parameters: {'boosting_type': 'goss', 'learning_rate': 0.06945435156321966, 'reg_alpha': 7.945841082794615e-05, 'reg_lambda': 8.0061033222555e-08, 'max_depth': 5, 'num_leaves': 65, 'colsample_bytree': 0.39246711172879817, 'min_child_samples': 10, 'max_bin': 43, 'subsample_freq': 4}. Best is trial 137 with value: 0.17512873362467118.\n"
     ]
    },
    {
     "name": "stdout",
     "output_type": "stream",
     "text": [
      "Repeat \u001b[1m\u001b[34m#1\n",
      "Repeat \u001b[1m\u001b[34m#2\n"
     ]
    },
    {
     "name": "stderr",
     "output_type": "stream",
     "text": [
      "[I 2023-06-29 14:11:40,956] Trial 921 finished with value: 0.19735052426612176 and parameters: {'boosting_type': 'goss', 'learning_rate': 0.04816487906074908, 'reg_alpha': 0.00018125015864989808, 'reg_lambda': 1.4814365035964112e-05, 'max_depth': 5, 'num_leaves': 50, 'colsample_bytree': 0.3028633087253463, 'min_child_samples': 13, 'max_bin': 172, 'subsample_freq': 7}. Best is trial 137 with value: 0.17512873362467118.\n"
     ]
    },
    {
     "name": "stdout",
     "output_type": "stream",
     "text": [
      "Repeat \u001b[1m\u001b[34m#1\n",
      "Repeat \u001b[1m\u001b[34m#2\n"
     ]
    },
    {
     "name": "stderr",
     "output_type": "stream",
     "text": [
      "[I 2023-06-29 14:11:44,047] Trial 922 finished with value: 0.1839659352637842 and parameters: {'boosting_type': 'goss', 'learning_rate': 0.027791146548230953, 'reg_alpha': 1.9887749604479947e-05, 'reg_lambda': 4.7371428809197433e-08, 'max_depth': 5, 'num_leaves': 56, 'colsample_bytree': 0.507286948849607, 'min_child_samples': 8, 'max_bin': 52, 'subsample_freq': 5}. Best is trial 137 with value: 0.17512873362467118.\n"
     ]
    },
    {
     "name": "stdout",
     "output_type": "stream",
     "text": [
      "Repeat \u001b[1m\u001b[34m#1\n",
      "Repeat \u001b[1m\u001b[34m#2\n"
     ]
    },
    {
     "name": "stderr",
     "output_type": "stream",
     "text": [
      "[I 2023-06-29 14:11:46,360] Trial 923 finished with value: 0.1925148667966212 and parameters: {'boosting_type': 'goss', 'learning_rate': 0.039127049641087694, 'reg_alpha': 0.04110273913597037, 'reg_lambda': 2.1126167986059757e-08, 'max_depth': 6, 'num_leaves': 60, 'colsample_bytree': 0.5831777000438562, 'min_child_samples': 11, 'max_bin': 56, 'subsample_freq': 4}. Best is trial 137 with value: 0.17512873362467118.\n"
     ]
    },
    {
     "name": "stdout",
     "output_type": "stream",
     "text": [
      "Repeat \u001b[1m\u001b[34m#1\n",
      "Repeat \u001b[1m\u001b[34m#2\n"
     ]
    },
    {
     "name": "stderr",
     "output_type": "stream",
     "text": [
      "[I 2023-06-29 14:11:48,348] Trial 924 finished with value: 0.19672009711069052 and parameters: {'boosting_type': 'goss', 'learning_rate': 0.0612386322662571, 'reg_alpha': 0.0035138658599746667, 'reg_lambda': 2.9034530756579848e-08, 'max_depth': 5, 'num_leaves': 62, 'colsample_bytree': 0.3647409144887228, 'min_child_samples': 16, 'max_bin': 45, 'subsample_freq': 5}. Best is trial 137 with value: 0.17512873362467118.\n"
     ]
    },
    {
     "name": "stdout",
     "output_type": "stream",
     "text": [
      "Repeat \u001b[1m\u001b[34m#1\n",
      "Repeat \u001b[1m\u001b[34m#2\n"
     ]
    },
    {
     "name": "stderr",
     "output_type": "stream",
     "text": [
      "[I 2023-06-29 14:11:49,864] Trial 925 finished with value: 0.20975610813874349 and parameters: {'boosting_type': 'goss', 'learning_rate': 0.07849575106423826, 'reg_alpha': 0.25913296626702315, 'reg_lambda': 4.956815967236472e-05, 'max_depth': 5, 'num_leaves': 52, 'colsample_bytree': 0.43807132882936267, 'min_child_samples': 5, 'max_bin': 50, 'subsample_freq': 2}. Best is trial 137 with value: 0.17512873362467118.\n"
     ]
    },
    {
     "name": "stdout",
     "output_type": "stream",
     "text": [
      "Repeat \u001b[1m\u001b[34m#1\n",
      "Repeat \u001b[1m\u001b[34m#2\n"
     ]
    },
    {
     "name": "stderr",
     "output_type": "stream",
     "text": [
      "[I 2023-06-29 14:11:53,886] Trial 926 finished with value: 0.20350108929399696 and parameters: {'boosting_type': 'goss', 'learning_rate': 0.03382633160978068, 'reg_alpha': 0.08679281969603492, 'reg_lambda': 6.494446956543177, 'max_depth': 5, 'num_leaves': 56, 'colsample_bytree': 0.4857890799118315, 'min_child_samples': 9, 'max_bin': 43, 'subsample_freq': 1}. Best is trial 137 with value: 0.17512873362467118.\n"
     ]
    },
    {
     "name": "stdout",
     "output_type": "stream",
     "text": [
      "Repeat \u001b[1m\u001b[34m#1\n",
      "Repeat \u001b[1m\u001b[34m#2\n"
     ]
    },
    {
     "name": "stderr",
     "output_type": "stream",
     "text": [
      "[I 2023-06-29 14:11:56,149] Trial 927 finished with value: 0.1963502406142263 and parameters: {'boosting_type': 'goss', 'learning_rate': 0.043866283113630285, 'reg_alpha': 3.560944237461166e-08, 'reg_lambda': 1.0010107131239414e-07, 'max_depth': 5, 'num_leaves': 59, 'colsample_bytree': 0.3690561208995748, 'min_child_samples': 14, 'max_bin': 64, 'subsample_freq': 4}. Best is trial 137 with value: 0.17512873362467118.\n"
     ]
    },
    {
     "name": "stdout",
     "output_type": "stream",
     "text": [
      "Repeat \u001b[1m\u001b[34m#1\n",
      "Repeat \u001b[1m\u001b[34m#2\n"
     ]
    },
    {
     "name": "stderr",
     "output_type": "stream",
     "text": [
      "[I 2023-06-29 14:11:59,181] Trial 928 finished with value: 0.1939764997236281 and parameters: {'boosting_type': 'goss', 'learning_rate': 0.029863672505700507, 'reg_alpha': 0.00030510156446667805, 'reg_lambda': 5.1983072101465e-08, 'max_depth': 7, 'num_leaves': 49, 'colsample_bytree': 0.37868533358025624, 'min_child_samples': 12, 'max_bin': 47, 'subsample_freq': 5}. Best is trial 137 with value: 0.17512873362467118.\n"
     ]
    },
    {
     "name": "stdout",
     "output_type": "stream",
     "text": [
      "Repeat \u001b[1m\u001b[34m#1\n",
      "Repeat \u001b[1m\u001b[34m#2\n"
     ]
    },
    {
     "name": "stderr",
     "output_type": "stream",
     "text": [
      "[I 2023-06-29 14:12:00,523] Trial 929 finished with value: 0.1909724526166418 and parameters: {'boosting_type': 'goss', 'learning_rate': 0.09914145664538038, 'reg_alpha': 4.263953148613716e-05, 'reg_lambda': 2.3756039532302178e-07, 'max_depth': 5, 'num_leaves': 65, 'colsample_bytree': 0.4681040147652768, 'min_child_samples': 7, 'max_bin': 55, 'subsample_freq': 5}. Best is trial 137 with value: 0.17512873362467118.\n"
     ]
    },
    {
     "name": "stdout",
     "output_type": "stream",
     "text": [
      "Repeat \u001b[1m\u001b[34m#1\n",
      "Repeat \u001b[1m\u001b[34m#2\n"
     ]
    },
    {
     "name": "stderr",
     "output_type": "stream",
     "text": [
      "[I 2023-06-29 14:12:02,669] Trial 930 finished with value: 0.2152554586872618 and parameters: {'boosting_type': 'goss', 'learning_rate': 0.05410789420457961, 'reg_alpha': 0.014051165238024861, 'reg_lambda': 0.0001778577922784102, 'max_depth': 6, 'num_leaves': 53, 'colsample_bytree': 0.50035006346864, 'min_child_samples': 40, 'max_bin': 159, 'subsample_freq': 4}. Best is trial 137 with value: 0.17512873362467118.\n"
     ]
    },
    {
     "name": "stdout",
     "output_type": "stream",
     "text": [
      "Repeat \u001b[1m\u001b[34m#1\n",
      "Repeat \u001b[1m\u001b[34m#2\n"
     ]
    },
    {
     "name": "stderr",
     "output_type": "stream",
     "text": [
      "[I 2023-06-29 14:12:04,323] Trial 931 finished with value: 0.1964335125466699 and parameters: {'boosting_type': 'goss', 'learning_rate': 0.0705982191786675, 'reg_alpha': 0.2137476763135268, 'reg_lambda': 1.7163338054199664e-08, 'max_depth': 5, 'num_leaves': 68, 'colsample_bytree': 0.4043356792069986, 'min_child_samples': 11, 'max_bin': 43, 'subsample_freq': 2}. Best is trial 137 with value: 0.17512873362467118.\n"
     ]
    },
    {
     "name": "stdout",
     "output_type": "stream",
     "text": [
      "Repeat \u001b[1m\u001b[34m#1\n",
      "Repeat \u001b[1m\u001b[34m#2\n"
     ]
    },
    {
     "name": "stderr",
     "output_type": "stream",
     "text": [
      "[I 2023-06-29 14:12:06,789] Trial 932 finished with value: 0.1853506152711737 and parameters: {'boosting_type': 'goss', 'learning_rate': 0.0361869645075668, 'reg_alpha': 2.5850002619067312e-06, 'reg_lambda': 7.156576492137778e-08, 'max_depth': 5, 'num_leaves': 55, 'colsample_bytree': 0.4062138466338908, 'min_child_samples': 9, 'max_bin': 49, 'subsample_freq': 5}. Best is trial 137 with value: 0.17512873362467118.\n"
     ]
    },
    {
     "name": "stdout",
     "output_type": "stream",
     "text": [
      "Repeat \u001b[1m\u001b[34m#1\n",
      "Repeat \u001b[1m\u001b[34m#2\n"
     ]
    },
    {
     "name": "stderr",
     "output_type": "stream",
     "text": [
      "[I 2023-06-29 14:12:13,906] Trial 933 finished with value: 0.19192006539055567 and parameters: {'boosting_type': 'goss', 'learning_rate': 0.008609670659028602, 'reg_alpha': 1.4855707148783658e-05, 'reg_lambda': 2.387730766737345e-05, 'max_depth': 5, 'num_leaves': 48, 'colsample_bytree': 0.3144831718576786, 'min_child_samples': 14, 'max_bin': 53, 'subsample_freq': 4}. Best is trial 137 with value: 0.17512873362467118.\n"
     ]
    },
    {
     "name": "stdout",
     "output_type": "stream",
     "text": [
      "Repeat \u001b[1m\u001b[34m#1\n",
      "Repeat \u001b[1m\u001b[34m#2\n"
     ]
    },
    {
     "name": "stderr",
     "output_type": "stream",
     "text": [
      "[I 2023-06-29 14:12:15,712] Trial 934 finished with value: 0.19872174530101658 and parameters: {'boosting_type': 'goss', 'learning_rate': 0.06234342002605328, 'reg_alpha': 2.524176566781291e-05, 'reg_lambda': 1.4858326704650215e-07, 'max_depth': 9, 'num_leaves': 58, 'colsample_bytree': 0.4783104123528827, 'min_child_samples': 10, 'max_bin': 42, 'subsample_freq': 3}. Best is trial 137 with value: 0.17512873362467118.\n"
     ]
    },
    {
     "name": "stdout",
     "output_type": "stream",
     "text": [
      "Repeat \u001b[1m\u001b[34m#1\n",
      "Repeat \u001b[1m\u001b[34m#2\n"
     ]
    },
    {
     "name": "stderr",
     "output_type": "stream",
     "text": [
      "[I 2023-06-29 14:12:18,290] Trial 935 finished with value: 0.19150296677332912 and parameters: {'boosting_type': 'goss', 'learning_rate': 0.04012884425879093, 'reg_alpha': 1.1319826318802052e-06, 'reg_lambda': 3.628082143142669e-08, 'max_depth': 6, 'num_leaves': 62, 'colsample_bytree': 0.412715155516793, 'min_child_samples': 12, 'max_bin': 59, 'subsample_freq': 5}. Best is trial 137 with value: 0.17512873362467118.\n"
     ]
    },
    {
     "name": "stdout",
     "output_type": "stream",
     "text": [
      "Repeat \u001b[1m\u001b[34m#1\n",
      "Repeat \u001b[1m\u001b[34m#2\n"
     ]
    },
    {
     "name": "stderr",
     "output_type": "stream",
     "text": [
      "[I 2023-06-29 14:12:26,493] Trial 936 finished with value: 0.18794224053972552 and parameters: {'boosting_type': 'goss', 'learning_rate': 0.0067473206512037595, 'reg_alpha': 8.926615692153191e-06, 'reg_lambda': 6.058796617938538e-07, 'max_depth': 5, 'num_leaves': 10, 'colsample_bytree': 0.5189335406373441, 'min_child_samples': 7, 'max_bin': 48, 'subsample_freq': 3}. Best is trial 137 with value: 0.17512873362467118.\n"
     ]
    },
    {
     "name": "stdout",
     "output_type": "stream",
     "text": [
      "Repeat \u001b[1m\u001b[34m#1\n",
      "Repeat \u001b[1m\u001b[34m#2\n"
     ]
    },
    {
     "name": "stderr",
     "output_type": "stream",
     "text": [
      "[I 2023-06-29 14:12:28,453] Trial 937 finished with value: 0.18705770775988098 and parameters: {'boosting_type': 'goss', 'learning_rate': 0.046626700073541555, 'reg_alpha': 0.007170962973200231, 'reg_lambda': 8.396422370336506e-06, 'max_depth': 5, 'num_leaves': 52, 'colsample_bytree': 0.4190177047476705, 'min_child_samples': 16, 'max_bin': 41, 'subsample_freq': 4}. Best is trial 137 with value: 0.17512873362467118.\n"
     ]
    },
    {
     "name": "stdout",
     "output_type": "stream",
     "text": [
      "Repeat \u001b[1m\u001b[34m#1\n",
      "Repeat \u001b[1m\u001b[34m#2\n"
     ]
    },
    {
     "name": "stderr",
     "output_type": "stream",
     "text": [
      "[I 2023-06-29 14:12:29,898] Trial 938 finished with value: 0.19808928040886603 and parameters: {'boosting_type': 'goss', 'learning_rate': 0.08457640403283131, 'reg_alpha': 0.022367184340021686, 'reg_lambda': 1.7500136450469633e-06, 'max_depth': 8, 'num_leaves': 59, 'colsample_bytree': 0.38476124294634956, 'min_child_samples': 10, 'max_bin': 54, 'subsample_freq': 3}. Best is trial 137 with value: 0.17512873362467118.\n"
     ]
    },
    {
     "name": "stdout",
     "output_type": "stream",
     "text": [
      "Repeat \u001b[1m\u001b[34m#1\n",
      "Repeat \u001b[1m\u001b[34m#2\n"
     ]
    },
    {
     "name": "stderr",
     "output_type": "stream",
     "text": [
      "[I 2023-06-29 14:12:32,617] Trial 939 finished with value: 0.18753694133488297 and parameters: {'boosting_type': 'goss', 'learning_rate': 0.031981906697586694, 'reg_alpha': 0.00012266513533070307, 'reg_lambda': 9.000065165957737e-08, 'max_depth': 5, 'num_leaves': 55, 'colsample_bytree': 0.5686556576454791, 'min_child_samples': 8, 'max_bin': 46, 'subsample_freq': 5}. Best is trial 137 with value: 0.17512873362467118.\n"
     ]
    },
    {
     "name": "stdout",
     "output_type": "stream",
     "text": [
      "Repeat \u001b[1m\u001b[34m#1\n",
      "Repeat \u001b[1m\u001b[34m#2\n"
     ]
    },
    {
     "name": "stderr",
     "output_type": "stream",
     "text": [
      "[I 2023-06-29 14:12:37,537] Trial 940 finished with value: 0.19549617252830992 and parameters: {'boosting_type': 'goss', 'learning_rate': 0.015024011538891761, 'reg_alpha': 3.82740128775411e-06, 'reg_lambda': 5.866449242310264e-06, 'max_depth': 5, 'num_leaves': 33, 'colsample_bytree': 0.3815369492648917, 'min_child_samples': 12, 'max_bin': 112, 'subsample_freq': 3}. Best is trial 137 with value: 0.17512873362467118.\n"
     ]
    },
    {
     "name": "stdout",
     "output_type": "stream",
     "text": [
      "Repeat \u001b[1m\u001b[34m#1\n",
      "Repeat \u001b[1m\u001b[34m#2\n"
     ]
    },
    {
     "name": "stderr",
     "output_type": "stream",
     "text": [
      "[I 2023-06-29 14:12:39,174] Trial 941 finished with value: 0.21157186872413755 and parameters: {'boosting_type': 'goss', 'learning_rate': 0.0750017333520462, 'reg_alpha': 0.5486242402990703, 'reg_lambda': 2.4818077994813534e-08, 'max_depth': 7, 'num_leaves': 63, 'colsample_bytree': 0.395719260198379, 'min_child_samples': 14, 'max_bin': 57, 'subsample_freq': 5}. Best is trial 137 with value: 0.17512873362467118.\n"
     ]
    },
    {
     "name": "stdout",
     "output_type": "stream",
     "text": [
      "Repeat \u001b[1m\u001b[34m#1\n",
      "Repeat \u001b[1m\u001b[34m#2\n"
     ]
    },
    {
     "name": "stderr",
     "output_type": "stream",
     "text": [
      "[I 2023-06-29 14:12:57,288] Trial 942 finished with value: 0.27537543321804303 and parameters: {'boosting_type': 'goss', 'learning_rate': 0.0010477513382037811, 'reg_alpha': 0.0038789201315740087, 'reg_lambda': 5.154222384541827e-08, 'max_depth': 5, 'num_leaves': 47, 'colsample_bytree': 0.43530730649236005, 'min_child_samples': 9, 'max_bin': 67, 'subsample_freq': 4}. Best is trial 137 with value: 0.17512873362467118.\n"
     ]
    },
    {
     "name": "stdout",
     "output_type": "stream",
     "text": [
      "Repeat \u001b[1m\u001b[34m#1\n",
      "Repeat \u001b[1m\u001b[34m#2\n"
     ]
    },
    {
     "name": "stderr",
     "output_type": "stream",
     "text": [
      "[I 2023-06-29 14:13:17,182] Trial 943 finished with value: 0.20804960664836877 and parameters: {'boosting_type': 'goss', 'learning_rate': 0.0020423414600064856, 'reg_alpha': 7.209352831623066e-05, 'reg_lambda': 2.906908549723347e-05, 'max_depth': 5, 'num_leaves': 58, 'colsample_bytree': 0.3488989772562467, 'min_child_samples': 6, 'max_bin': 50, 'subsample_freq': 3}. Best is trial 137 with value: 0.17512873362467118.\n"
     ]
    },
    {
     "name": "stdout",
     "output_type": "stream",
     "text": [
      "Repeat \u001b[1m\u001b[34m#1\n",
      "Repeat \u001b[1m\u001b[34m#2\n"
     ]
    },
    {
     "name": "stderr",
     "output_type": "stream",
     "text": [
      "[I 2023-06-29 14:13:20,671] Trial 944 finished with value: 0.18633977071696975 and parameters: {'boosting_type': 'goss', 'learning_rate': 0.02113287193717717, 'reg_alpha': 0.0005498377361714977, 'reg_lambda': 1.001073865423709e-08, 'max_depth': 5, 'num_leaves': 51, 'colsample_bytree': 0.5911031001682906, 'min_child_samples': 11, 'max_bin': 41, 'subsample_freq': 3}. Best is trial 137 with value: 0.17512873362467118.\n"
     ]
    },
    {
     "name": "stdout",
     "output_type": "stream",
     "text": [
      "Repeat \u001b[1m\u001b[34m#1\n",
      "Repeat \u001b[1m\u001b[34m#2\n"
     ]
    },
    {
     "name": "stderr",
     "output_type": "stream",
     "text": [
      "[I 2023-06-29 14:13:22,471] Trial 945 finished with value: 0.19647494237238375 and parameters: {'boosting_type': 'goss', 'learning_rate': 0.06569082725027485, 'reg_alpha': 3.685421664396635e-05, 'reg_lambda': 3.43861332601197e-07, 'max_depth': 5, 'num_leaves': 30, 'colsample_bytree': 0.43251485200702383, 'min_child_samples': 13, 'max_bin': 47, 'subsample_freq': 5}. Best is trial 137 with value: 0.17512873362467118.\n"
     ]
    },
    {
     "name": "stdout",
     "output_type": "stream",
     "text": [
      "Repeat \u001b[1m\u001b[34m#1\n",
      "Repeat \u001b[1m\u001b[34m#2\n"
     ]
    },
    {
     "name": "stderr",
     "output_type": "stream",
     "text": [
      "[I 2023-06-29 14:13:22,932] Trial 946 finished with value: 0.494652459881106 and parameters: {'boosting_type': 'goss', 'learning_rate': 0.05262835089400752, 'reg_alpha': 2.2099015323440982e-05, 'reg_lambda': 0.00012084718898196779, 'max_depth': 5, 'num_leaves': 55, 'colsample_bytree': 0.3329106864404696, 'min_child_samples': 98, 'max_bin': 61, 'subsample_freq': 3}. Best is trial 137 with value: 0.17512873362467118.\n"
     ]
    },
    {
     "name": "stdout",
     "output_type": "stream",
     "text": [
      "Repeat \u001b[1m\u001b[34m#1\n",
      "Repeat \u001b[1m\u001b[34m#2\n"
     ]
    },
    {
     "name": "stderr",
     "output_type": "stream",
     "text": [
      "[I 2023-06-29 14:13:24,865] Trial 947 finished with value: 0.19338617861018054 and parameters: {'boosting_type': 'goss', 'learning_rate': 0.05789991822670778, 'reg_alpha': 0.001994965900324081, 'reg_lambda': 1.2909721415790946e-07, 'max_depth': 6, 'num_leaves': 32, 'colsample_bytree': 0.49304180133281766, 'min_child_samples': 8, 'max_bin': 32, 'subsample_freq': 3}. Best is trial 137 with value: 0.17512873362467118.\n"
     ]
    },
    {
     "name": "stdout",
     "output_type": "stream",
     "text": [
      "Repeat \u001b[1m\u001b[34m#1\n",
      "Repeat \u001b[1m\u001b[34m#2\n"
     ]
    },
    {
     "name": "stderr",
     "output_type": "stream",
     "text": [
      "[I 2023-06-29 14:13:29,208] Trial 948 finished with value: 0.18984763642901897 and parameters: {'boosting_type': 'goss', 'learning_rate': 0.01874093148255202, 'reg_alpha': 6.215318016834018e-06, 'reg_lambda': 3.820512921686743e-08, 'max_depth': 5, 'num_leaves': 61, 'colsample_bytree': 0.330149903345513, 'min_child_samples': 18, 'max_bin': 38, 'subsample_freq': 4}. Best is trial 137 with value: 0.17512873362467118.\n"
     ]
    },
    {
     "name": "stdout",
     "output_type": "stream",
     "text": [
      "Repeat \u001b[1m\u001b[34m#1\n",
      "Repeat \u001b[1m\u001b[34m#2\n"
     ]
    },
    {
     "name": "stderr",
     "output_type": "stream",
     "text": [
      "[I 2023-06-29 14:13:31,876] Trial 949 finished with value: 0.19487897836336882 and parameters: {'boosting_type': 'goss', 'learning_rate': 0.035509536239106326, 'reg_alpha': 1.2064660935884027e-05, 'reg_lambda': 1.929013589811949e-08, 'max_depth': 5, 'num_leaves': 66, 'colsample_bytree': 0.5397170905982897, 'min_child_samples': 5, 'max_bin': 44, 'subsample_freq': 3}. Best is trial 137 with value: 0.17512873362467118.\n"
     ]
    },
    {
     "name": "stdout",
     "output_type": "stream",
     "text": [
      "Repeat \u001b[1m\u001b[34m#1\n",
      "Repeat \u001b[1m\u001b[34m#2\n"
     ]
    },
    {
     "name": "stderr",
     "output_type": "stream",
     "text": [
      "[I 2023-06-29 14:13:34,059] Trial 950 finished with value: 0.19318402692788894 and parameters: {'boosting_type': 'goss', 'learning_rate': 0.044030553276720216, 'reg_alpha': 0.03727021745701654, 'reg_lambda': 3.68936807843729e-06, 'max_depth': 7, 'num_leaves': 53, 'colsample_bytree': 0.6175224658645951, 'min_child_samples': 10, 'max_bin': 49, 'subsample_freq': 5}. Best is trial 137 with value: 0.17512873362467118.\n"
     ]
    },
    {
     "name": "stdout",
     "output_type": "stream",
     "text": [
      "Repeat \u001b[1m\u001b[34m#1\n",
      "Repeat \u001b[1m\u001b[34m#2\n"
     ]
    },
    {
     "name": "stderr",
     "output_type": "stream",
     "text": [
      "[I 2023-06-29 14:13:36,008] Trial 951 finished with value: 0.19349990985500218 and parameters: {'boosting_type': 'goss', 'learning_rate': 0.04991907008234913, 'reg_alpha': 0.010577667138779593, 'reg_lambda': 1.5905912456061874e-05, 'max_depth': 5, 'num_leaves': 59, 'colsample_bytree': 0.3324003663921581, 'min_child_samples': 15, 'max_bin': 52, 'subsample_freq': 2}. Best is trial 137 with value: 0.17512873362467118.\n"
     ]
    },
    {
     "name": "stdout",
     "output_type": "stream",
     "text": [
      "Repeat \u001b[1m\u001b[34m#1\n",
      "Repeat \u001b[1m\u001b[34m#2\n"
     ]
    },
    {
     "name": "stderr",
     "output_type": "stream",
     "text": [
      "[I 2023-06-29 14:13:39,244] Trial 952 finished with value: 0.18899575668371343 and parameters: {'boosting_type': 'goss', 'learning_rate': 0.0247523779046179, 'reg_alpha': 1.7391426615975403e-06, 'reg_lambda': 8.960951483777405e-05, 'max_depth': 5, 'num_leaves': 56, 'colsample_bytree': 0.42158856145594725, 'min_child_samples': 12, 'max_bin': 39, 'subsample_freq': 3}. Best is trial 137 with value: 0.17512873362467118.\n"
     ]
    },
    {
     "name": "stdout",
     "output_type": "stream",
     "text": [
      "Repeat \u001b[1m\u001b[34m#1\n",
      "Repeat \u001b[1m\u001b[34m#2\n"
     ]
    },
    {
     "name": "stderr",
     "output_type": "stream",
     "text": [
      "[I 2023-06-29 14:13:41,186] Trial 953 finished with value: 0.249970476102239 and parameters: {'boosting_type': 'goss', 'learning_rate': 0.07964301173241603, 'reg_alpha': 5.46094132762803e-05, 'reg_lambda': 6.774949177703625e-08, 'max_depth': 5, 'num_leaves': 63, 'colsample_bytree': 0.5109319274379438, 'min_child_samples': 51, 'max_bin': 44, 'subsample_freq': 4}. Best is trial 137 with value: 0.17512873362467118.\n"
     ]
    },
    {
     "name": "stdout",
     "output_type": "stream",
     "text": [
      "Repeat \u001b[1m\u001b[34m#1\n",
      "Repeat \u001b[1m\u001b[34m#2\n"
     ]
    },
    {
     "name": "stderr",
     "output_type": "stream",
     "text": [
      "[I 2023-06-29 14:13:43,746] Trial 954 finished with value: 0.19270107871478293 and parameters: {'boosting_type': 'goss', 'learning_rate': 0.038297340487329884, 'reg_alpha': 1.8041813536890705e-05, 'reg_lambda': 1.337176158695792e-06, 'max_depth': 5, 'num_leaves': 71, 'colsample_bytree': 0.37992366751291323, 'min_child_samples': 7, 'max_bin': 56, 'subsample_freq': 7}. Best is trial 137 with value: 0.17512873362467118.\n"
     ]
    },
    {
     "name": "stdout",
     "output_type": "stream",
     "text": [
      "Repeat \u001b[1m\u001b[34m#1\n",
      "Repeat \u001b[1m\u001b[34m#2\n"
     ]
    },
    {
     "name": "stderr",
     "output_type": "stream",
     "text": [
      "[I 2023-06-29 14:13:58,581] Trial 955 finished with value: 0.24080165019601948 and parameters: {'boosting_type': 'goss', 'learning_rate': 0.0019419729142806162, 'reg_alpha': 0.00016962723532285505, 'reg_lambda': 3.5429089457560585, 'max_depth': 6, 'num_leaves': 50, 'colsample_bytree': 0.5977441150688737, 'min_child_samples': 10, 'max_bin': 36, 'subsample_freq': 3}. Best is trial 137 with value: 0.17512873362467118.\n"
     ]
    },
    {
     "name": "stdout",
     "output_type": "stream",
     "text": [
      "Repeat \u001b[1m\u001b[34m#1\n",
      "Repeat \u001b[1m\u001b[34m#2\n"
     ]
    },
    {
     "name": "stderr",
     "output_type": "stream",
     "text": [
      "[I 2023-06-29 14:14:15,584] Trial 956 finished with value: 0.2561910795526071 and parameters: {'boosting_type': 'goss', 'learning_rate': 0.0014692324672213057, 'reg_alpha': 2.9481975658327754e-05, 'reg_lambda': 1.8031779676439476e-07, 'max_depth': 5, 'num_leaves': 34, 'colsample_bytree': 0.3405176628811817, 'min_child_samples': 13, 'max_bin': 52, 'subsample_freq': 5}. Best is trial 137 with value: 0.17512873362467118.\n"
     ]
    },
    {
     "name": "stdout",
     "output_type": "stream",
     "text": [
      "Repeat \u001b[1m\u001b[34m#1\n",
      "Repeat \u001b[1m\u001b[34m#2\n"
     ]
    },
    {
     "name": "stderr",
     "output_type": "stream",
     "text": [
      "[I 2023-06-29 14:14:17,351] Trial 957 finished with value: 0.2038548661617311 and parameters: {'boosting_type': 'goss', 'learning_rate': 0.09126694603264733, 'reg_alpha': 2.908462286820841e-08, 'reg_lambda': 0.0003649124499134089, 'max_depth': 5, 'num_leaves': 60, 'colsample_bytree': 0.3549759785074909, 'min_child_samples': 9, 'max_bin': 44, 'subsample_freq': 3}. Best is trial 137 with value: 0.17512873362467118.\n"
     ]
    },
    {
     "name": "stdout",
     "output_type": "stream",
     "text": [
      "Repeat \u001b[1m\u001b[34m#1\n",
      "Repeat \u001b[1m\u001b[34m#2\n"
     ]
    },
    {
     "name": "stderr",
     "output_type": "stream",
     "text": [
      "[I 2023-06-29 14:14:28,270] Trial 958 finished with value: 0.19602898642222916 and parameters: {'boosting_type': 'goss', 'learning_rate': 0.007762684447053429, 'reg_alpha': 4.799007884099357e-06, 'reg_lambda': 2.6486615293570738e-08, 'max_depth': 6, 'num_leaves': 56, 'colsample_bytree': 0.3120836805839813, 'min_child_samples': 11, 'max_bin': 60, 'subsample_freq': 6}. Best is trial 137 with value: 0.17512873362467118.\n"
     ]
    },
    {
     "name": "stdout",
     "output_type": "stream",
     "text": [
      "Repeat \u001b[1m\u001b[34m#1\n",
      "Repeat \u001b[1m\u001b[34m#2\n"
     ]
    },
    {
     "name": "stderr",
     "output_type": "stream",
     "text": [
      "[I 2023-06-29 14:14:30,866] Trial 959 finished with value: 0.19958241708084976 and parameters: {'boosting_type': 'goss', 'learning_rate': 0.06959115954059236, 'reg_alpha': 0.018173510190113325, 'reg_lambda': 5.926901611816799e-05, 'max_depth': 7, 'num_leaves': 47, 'colsample_bytree': 0.3681487605656168, 'min_child_samples': 7, 'max_bin': 40, 'subsample_freq': 5}. Best is trial 137 with value: 0.17512873362467118.\n"
     ]
    },
    {
     "name": "stdout",
     "output_type": "stream",
     "text": [
      "Repeat \u001b[1m\u001b[34m#1\n",
      "Repeat \u001b[1m\u001b[34m#2\n"
     ]
    },
    {
     "name": "stderr",
     "output_type": "stream",
     "text": [
      "[I 2023-06-29 14:14:34,587] Trial 960 finished with value: 0.19350684695410653 and parameters: {'boosting_type': 'goss', 'learning_rate': 0.027103889653096264, 'reg_alpha': 9.951011143830279e-05, 'reg_lambda': 1.4177215613652692e-08, 'max_depth': 5, 'num_leaves': 53, 'colsample_bytree': 0.3870660013541196, 'min_child_samples': 15, 'max_bin': 49, 'subsample_freq': 3}. Best is trial 137 with value: 0.17512873362467118.\n"
     ]
    },
    {
     "name": "stdout",
     "output_type": "stream",
     "text": [
      "Repeat \u001b[1m\u001b[34m#1\n",
      "Repeat \u001b[1m\u001b[34m#2\n"
     ]
    },
    {
     "name": "stderr",
     "output_type": "stream",
     "text": [
      "[I 2023-06-29 14:14:45,936] Trial 961 finished with value: 0.19523086370909976 and parameters: {'boosting_type': 'goss', 'learning_rate': 0.03152129652265773, 'reg_alpha': 0.0052002307245499115, 'reg_lambda': 1.1662808308289858, 'max_depth': 5, 'num_leaves': 29, 'colsample_bytree': 0.3528244010280146, 'min_child_samples': 13, 'max_bin': 146, 'subsample_freq': 4}. Best is trial 137 with value: 0.17512873362467118.\n"
     ]
    },
    {
     "name": "stdout",
     "output_type": "stream",
     "text": [
      "Repeat \u001b[1m\u001b[34m#1\n",
      "Repeat \u001b[1m\u001b[34m#2\n"
     ]
    },
    {
     "name": "stderr",
     "output_type": "stream",
     "text": [
      "[I 2023-06-29 14:14:52,882] Trial 962 finished with value: 0.18875327578113313 and parameters: {'boosting_type': 'goss', 'learning_rate': 0.00928544622997432, 'reg_alpha': 0.10744141285248562, 'reg_lambda': 9.713776860942285e-08, 'max_depth': 5, 'num_leaves': 58, 'colsample_bytree': 0.6280732393984824, 'min_child_samples': 9, 'max_bin': 32, 'subsample_freq': 3}. Best is trial 137 with value: 0.17512873362467118.\n"
     ]
    },
    {
     "name": "stdout",
     "output_type": "stream",
     "text": [
      "Repeat \u001b[1m\u001b[34m#1\n",
      "Repeat \u001b[1m\u001b[34m#2\n"
     ]
    },
    {
     "name": "stderr",
     "output_type": "stream",
     "text": [
      "[I 2023-06-29 14:15:03,871] Trial 963 finished with value: 0.19520817101625984 and parameters: {'boosting_type': 'goss', 'learning_rate': 0.0050906390339536, 'reg_alpha': 2.2312390688836882e-08, 'reg_lambda': 4.752030664551243e-08, 'max_depth': 5, 'num_leaves': 32, 'colsample_bytree': 0.32762014264052763, 'min_child_samples': 11, 'max_bin': 46, 'subsample_freq': 5}. Best is trial 137 with value: 0.17512873362467118.\n"
     ]
    },
    {
     "name": "stdout",
     "output_type": "stream",
     "text": [
      "Repeat \u001b[1m\u001b[34m#1\n",
      "Repeat \u001b[1m\u001b[34m#2\n"
     ]
    },
    {
     "name": "stderr",
     "output_type": "stream",
     "text": [
      "[I 2023-06-29 14:15:17,792] Trial 964 finished with value: 0.19576134583662969 and parameters: {'boosting_type': 'goss', 'learning_rate': 0.004447311532741097, 'reg_alpha': 8.650883849006365e-06, 'reg_lambda': 3.4797847968901625e-05, 'max_depth': 5, 'num_leaves': 35, 'colsample_bytree': 0.55142843407982, 'min_child_samples': 5, 'max_bin': 63, 'subsample_freq': 2}. Best is trial 137 with value: 0.17512873362467118.\n"
     ]
    },
    {
     "name": "stdout",
     "output_type": "stream",
     "text": [
      "Repeat \u001b[1m\u001b[34m#1\n",
      "Repeat \u001b[1m\u001b[34m#2\n"
     ]
    },
    {
     "name": "stderr",
     "output_type": "stream",
     "text": [
      "[I 2023-06-29 14:15:32,448] Trial 965 finished with value: 0.19613477852155098 and parameters: {'boosting_type': 'goss', 'learning_rate': 0.0038657490909245556, 'reg_alpha': 1.330780403482178e-07, 'reg_lambda': 2.2196098155631427e-06, 'max_depth': 5, 'num_leaves': 64, 'colsample_bytree': 0.42964563348985474, 'min_child_samples': 8, 'max_bin': 139, 'subsample_freq': 1}. Best is trial 137 with value: 0.17512873362467118.\n"
     ]
    },
    {
     "name": "stdout",
     "output_type": "stream",
     "text": [
      "Repeat \u001b[1m\u001b[34m#1\n",
      "Repeat \u001b[1m\u001b[34m#2\n"
     ]
    },
    {
     "name": "stderr",
     "output_type": "stream",
     "text": [
      "[I 2023-06-29 14:15:46,919] Trial 966 finished with value: 0.2062541977577788 and parameters: {'boosting_type': 'goss', 'learning_rate': 0.0025185581625062773, 'reg_alpha': 1.7771283719637238e-05, 'reg_lambda': 6.295836491933999e-08, 'max_depth': 6, 'num_leaves': 61, 'colsample_bytree': 0.6949362160521045, 'min_child_samples': 16, 'max_bin': 54, 'subsample_freq': 3}. Best is trial 137 with value: 0.17512873362467118.\n"
     ]
    },
    {
     "name": "stdout",
     "output_type": "stream",
     "text": [
      "Repeat \u001b[1m\u001b[34m#1\n",
      "Repeat \u001b[1m\u001b[34m#2\n"
     ]
    },
    {
     "name": "stderr",
     "output_type": "stream",
     "text": [
      "[I 2023-06-29 14:16:03,124] Trial 967 finished with value: 0.2106052188288114 and parameters: {'boosting_type': 'goss', 'learning_rate': 0.002193073661198926, 'reg_alpha': 0.00033942698214916455, 'reg_lambda': 2.6936469250392753e-07, 'max_depth': 5, 'num_leaves': 57, 'colsample_bytree': 0.4263496447514561, 'min_child_samples': 11, 'max_bin': 40, 'subsample_freq': 3}. Best is trial 137 with value: 0.17512873362467118.\n"
     ]
    },
    {
     "name": "stdout",
     "output_type": "stream",
     "text": [
      "Repeat \u001b[1m\u001b[34m#1\n",
      "Repeat \u001b[1m\u001b[34m#2\n"
     ]
    },
    {
     "name": "stderr",
     "output_type": "stream",
     "text": [
      "[I 2023-06-29 14:16:05,380] Trial 968 finished with value: 0.18668314653731577 and parameters: {'boosting_type': 'goss', 'learning_rate': 0.059342641763691355, 'reg_alpha': 0.06538209303584067, 'reg_lambda': 1.1736164168787365e-07, 'max_depth': 5, 'num_leaves': 50, 'colsample_bytree': 0.32310156406418133, 'min_child_samples': 13, 'max_bin': 36, 'subsample_freq': 5}. Best is trial 137 with value: 0.17512873362467118.\n"
     ]
    },
    {
     "name": "stdout",
     "output_type": "stream",
     "text": [
      "Repeat \u001b[1m\u001b[34m#1\n",
      "Repeat \u001b[1m\u001b[34m#2\n"
     ]
    },
    {
     "name": "stderr",
     "output_type": "stream",
     "text": [
      "[I 2023-06-29 14:16:08,008] Trial 969 finished with value: 0.19212034879199896 and parameters: {'boosting_type': 'goss', 'learning_rate': 0.034626516457251656, 'reg_alpha': 4.396560105331848e-07, 'reg_lambda': 3.500196070916807e-08, 'max_depth': 5, 'num_leaves': 66, 'colsample_bytree': 0.5319815806704383, 'min_child_samples': 9, 'max_bin': 44, 'subsample_freq': 4}. Best is trial 137 with value: 0.17512873362467118.\n"
     ]
    },
    {
     "name": "stdout",
     "output_type": "stream",
     "text": [
      "Repeat \u001b[1m\u001b[34m#1\n",
      "Repeat \u001b[1m\u001b[34m#2\n"
     ]
    },
    {
     "name": "stderr",
     "output_type": "stream",
     "text": [
      "[I 2023-06-29 14:16:25,831] Trial 970 finished with value: 0.19822415602677607 and parameters: {'boosting_type': 'goss', 'learning_rate': 0.0031799787565393004, 'reg_alpha': 0.007952058040636497, 'reg_lambda': 1.9380905991791966e-08, 'max_depth': 8, 'num_leaves': 54, 'colsample_bytree': 0.3851749681935788, 'min_child_samples': 7, 'max_bin': 71, 'subsample_freq': 4}. Best is trial 137 with value: 0.17512873362467118.\n"
     ]
    },
    {
     "name": "stdout",
     "output_type": "stream",
     "text": [
      "Repeat \u001b[1m\u001b[34m#1\n",
      "Repeat \u001b[1m\u001b[34m#2\n"
     ]
    },
    {
     "name": "stderr",
     "output_type": "stream",
     "text": [
      "[I 2023-06-29 14:16:28,909] Trial 971 finished with value: 0.22547393200972965 and parameters: {'boosting_type': 'goss', 'learning_rate': 0.04119037767456351, 'reg_alpha': 4.265872707528131e-05, 'reg_lambda': 9.162774641264971e-07, 'max_depth': 7, 'num_leaves': 31, 'colsample_bytree': 0.48730821317875656, 'min_child_samples': 46, 'max_bin': 50, 'subsample_freq': 3}. Best is trial 137 with value: 0.17512873362467118.\n"
     ]
    },
    {
     "name": "stdout",
     "output_type": "stream",
     "text": [
      "Repeat \u001b[1m\u001b[34m#1\n",
      "Repeat \u001b[1m\u001b[34m#2\n"
     ]
    },
    {
     "name": "stderr",
     "output_type": "stream",
     "text": [
      "[I 2023-06-29 14:16:30,556] Trial 972 finished with value: 0.1967566041486678 and parameters: {'boosting_type': 'goss', 'learning_rate': 0.07463523983477101, 'reg_alpha': 0.026702370744578607, 'reg_lambda': 4.123345158315089e-07, 'max_depth': 6, 'num_leaves': 47, 'colsample_bytree': 0.39523880439773434, 'min_child_samples': 11, 'max_bin': 58, 'subsample_freq': 3}. Best is trial 137 with value: 0.17512873362467118.\n"
     ]
    },
    {
     "name": "stdout",
     "output_type": "stream",
     "text": [
      "Repeat \u001b[1m\u001b[34m#1\n",
      "Repeat \u001b[1m\u001b[34m#2\n"
     ]
    },
    {
     "name": "stderr",
     "output_type": "stream",
     "text": [
      "[I 2023-06-29 14:16:38,184] Trial 973 finished with value: 0.19918025709060266 and parameters: {'boosting_type': 'goss', 'learning_rate': 0.012135300298402962, 'reg_alpha': 0.0007154991092071186, 'reg_lambda': 4.421163957847826, 'max_depth': 5, 'num_leaves': 37, 'colsample_bytree': 0.640296961176575, 'min_child_samples': 14, 'max_bin': 40, 'subsample_freq': 3}. Best is trial 137 with value: 0.17512873362467118.\n"
     ]
    },
    {
     "name": "stdout",
     "output_type": "stream",
     "text": [
      "Repeat \u001b[1m\u001b[34m#1\n",
      "Repeat \u001b[1m\u001b[34m#2\n"
     ]
    },
    {
     "name": "stderr",
     "output_type": "stream",
     "text": [
      "[I 2023-06-29 14:16:40,074] Trial 974 finished with value: 0.1957177346069903 and parameters: {'boosting_type': 'goss', 'learning_rate': 0.06429557186089813, 'reg_alpha': 0.002958333130037418, 'reg_lambda': 1.802913174717985e-07, 'max_depth': 5, 'num_leaves': 61, 'colsample_bytree': 0.3144512269551496, 'min_child_samples': 10, 'max_bin': 104, 'subsample_freq': 6}. Best is trial 137 with value: 0.17512873362467118.\n"
     ]
    },
    {
     "name": "stdout",
     "output_type": "stream",
     "text": [
      "Repeat \u001b[1m\u001b[34m#1\n",
      "Repeat \u001b[1m\u001b[34m#2\n"
     ]
    },
    {
     "name": "stderr",
     "output_type": "stream",
     "text": [
      "[I 2023-06-29 14:16:42,311] Trial 975 finished with value: 0.5078570313094023 and parameters: {'boosting_type': 'goss', 'learning_rate': 0.002871728556738263, 'reg_alpha': 1.0891876662094798e-05, 'reg_lambda': 0.00025787923639142334, 'max_depth': 5, 'num_leaves': 57, 'colsample_bytree': 0.3004472330507876, 'min_child_samples': 69, 'max_bin': 206, 'subsample_freq': 5}. Best is trial 137 with value: 0.17512873362467118.\n"
     ]
    },
    {
     "name": "stdout",
     "output_type": "stream",
     "text": [
      "Repeat \u001b[1m\u001b[34m#1\n",
      "Repeat \u001b[1m\u001b[34m#2\n"
     ]
    },
    {
     "name": "stderr",
     "output_type": "stream",
     "text": [
      "[I 2023-06-29 14:16:44,493] Trial 976 finished with value: 0.1932593563830382 and parameters: {'boosting_type': 'goss', 'learning_rate': 0.04792497810957406, 'reg_alpha': 2.731940022120464e-07, 'reg_lambda': 8.101770696283635e-08, 'max_depth': 5, 'num_leaves': 68, 'colsample_bytree': 0.3598503567296439, 'min_child_samples': 17, 'max_bin': 47, 'subsample_freq': 3}. Best is trial 137 with value: 0.17512873362467118.\n"
     ]
    },
    {
     "name": "stdout",
     "output_type": "stream",
     "text": [
      "Repeat \u001b[1m\u001b[34m#1\n",
      "Repeat \u001b[1m\u001b[34m#2\n"
     ]
    },
    {
     "name": "stderr",
     "output_type": "stream",
     "text": [
      "[I 2023-06-29 14:16:46,008] Trial 977 finished with value: 0.20060981133384442 and parameters: {'boosting_type': 'goss', 'learning_rate': 0.0874622874857776, 'reg_alpha': 0.015890365442227564, 'reg_lambda': 6.678408531380627e-07, 'max_depth': 5, 'num_leaves': 44, 'colsample_bytree': 0.47479867689413174, 'min_child_samples': 12, 'max_bin': 130, 'subsample_freq': 3}. Best is trial 137 with value: 0.17512873362467118.\n"
     ]
    },
    {
     "name": "stdout",
     "output_type": "stream",
     "text": [
      "Repeat \u001b[1m\u001b[34m#1\n",
      "Repeat \u001b[1m\u001b[34m#2\n"
     ]
    },
    {
     "name": "stderr",
     "output_type": "stream",
     "text": [
      "[I 2023-06-29 14:16:49,537] Trial 978 finished with value: 0.19106161067044325 and parameters: {'boosting_type': 'goss', 'learning_rate': 0.030127483936452582, 'reg_alpha': 6.165567016159526e-05, 'reg_lambda': 9.147279156891973e-06, 'max_depth': 7, 'num_leaves': 34, 'colsample_bytree': 0.5011076386952378, 'min_child_samples': 8, 'max_bin': 90, 'subsample_freq': 2}. Best is trial 137 with value: 0.17512873362467118.\n"
     ]
    },
    {
     "name": "stdout",
     "output_type": "stream",
     "text": [
      "Repeat \u001b[1m\u001b[34m#1\n",
      "Repeat \u001b[1m\u001b[34m#2\n"
     ]
    },
    {
     "name": "stderr",
     "output_type": "stream",
     "text": [
      "[I 2023-06-29 14:16:54,013] Trial 979 finished with value: 0.19113595143723994 and parameters: {'boosting_type': 'goss', 'learning_rate': 0.019489645652258372, 'reg_alpha': 1.005004343501664e-08, 'reg_lambda': 3.076382162216885e-06, 'max_depth': 5, 'num_leaves': 52, 'colsample_bytree': 0.45890816881661983, 'min_child_samples': 6, 'max_bin': 53, 'subsample_freq': 4}. Best is trial 137 with value: 0.17512873362467118.\n"
     ]
    },
    {
     "name": "stdout",
     "output_type": "stream",
     "text": [
      "Repeat \u001b[1m\u001b[34m#1\n",
      "Repeat \u001b[1m\u001b[34m#2\n"
     ]
    },
    {
     "name": "stderr",
     "output_type": "stream",
     "text": [
      "[I 2023-06-29 14:17:29,638] Trial 980 finished with value: 0.20086966279335433 and parameters: {'boosting_type': 'goss', 'learning_rate': 0.003647051710264686, 'reg_alpha': 0.15116784362794272, 'reg_lambda': 2.8707137246889174e-08, 'max_depth': 5, 'num_leaves': 28, 'colsample_bytree': 0.4492020570030307, 'min_child_samples': 13, 'max_bin': 43, 'subsample_freq': 5}. Best is trial 137 with value: 0.17512873362467118.\n"
     ]
    },
    {
     "name": "stdout",
     "output_type": "stream",
     "text": [
      "Repeat \u001b[1m\u001b[34m#1\n",
      "Repeat \u001b[1m\u001b[34m#2\n"
     ]
    },
    {
     "name": "stderr",
     "output_type": "stream",
     "text": [
      "[I 2023-06-29 14:17:32,946] Trial 981 finished with value: 0.18169618323784284 and parameters: {'boosting_type': 'goss', 'learning_rate': 0.05472572676143733, 'reg_alpha': 3.2849294978441186e-05, 'reg_lambda': 0.0007425153358427888, 'max_depth': 6, 'num_leaves': 54, 'colsample_bytree': 0.5253145442989973, 'min_child_samples': 10, 'max_bin': 35, 'subsample_freq': 3}. Best is trial 137 with value: 0.17512873362467118.\n"
     ]
    },
    {
     "name": "stdout",
     "output_type": "stream",
     "text": [
      "Repeat \u001b[1m\u001b[34m#1\n",
      "Repeat \u001b[1m\u001b[34m#2\n"
     ]
    },
    {
     "name": "stderr",
     "output_type": "stream",
     "text": [
      "[I 2023-06-29 14:17:43,576] Trial 982 finished with value: 0.1915514713882277 and parameters: {'boosting_type': 'goss', 'learning_rate': 0.05360067278450315, 'reg_alpha': 4.5512431651920764e-05, 'reg_lambda': 0.000167095637224979, 'max_depth': 6, 'num_leaves': 51, 'colsample_bytree': 0.5266875912739677, 'min_child_samples': 10, 'max_bin': 34, 'subsample_freq': 3}. Best is trial 137 with value: 0.17512873362467118.\n"
     ]
    },
    {
     "name": "stdout",
     "output_type": "stream",
     "text": [
      "Repeat \u001b[1m\u001b[34m#1\n",
      "Repeat \u001b[1m\u001b[34m#2\n"
     ]
    },
    {
     "name": "stderr",
     "output_type": "stream",
     "text": [
      "[I 2023-06-29 14:17:45,797] Trial 983 finished with value: 0.1959471211409487 and parameters: {'boosting_type': 'goss', 'learning_rate': 0.05703302065034811, 'reg_alpha': 7.827319813611373e-05, 'reg_lambda': 0.00045999481270668166, 'max_depth': 6, 'num_leaves': 49, 'colsample_bytree': 0.5198256715647556, 'min_child_samples': 15, 'max_bin': 32, 'subsample_freq': 3}. Best is trial 137 with value: 0.17512873362467118.\n"
     ]
    },
    {
     "name": "stdout",
     "output_type": "stream",
     "text": [
      "Repeat \u001b[1m\u001b[34m#1\n",
      "Repeat \u001b[1m\u001b[34m#2\n"
     ]
    },
    {
     "name": "stderr",
     "output_type": "stream",
     "text": [
      "[I 2023-06-29 14:17:48,323] Trial 984 finished with value: 0.18217208273299274 and parameters: {'boosting_type': 'goss', 'learning_rate': 0.049795901679178474, 'reg_alpha': 3.219035789728768e-05, 'reg_lambda': 0.0009220550552315107, 'max_depth': 6, 'num_leaves': 53, 'colsample_bytree': 0.5215646678608004, 'min_child_samples': 8, 'max_bin': 32, 'subsample_freq': 3}. Best is trial 137 with value: 0.17512873362467118.\n"
     ]
    },
    {
     "name": "stdout",
     "output_type": "stream",
     "text": [
      "Repeat \u001b[1m\u001b[34m#1\n",
      "Repeat \u001b[1m\u001b[34m#2\n"
     ]
    },
    {
     "name": "stderr",
     "output_type": "stream",
     "text": [
      "[I 2023-06-29 14:17:50,541] Trial 985 finished with value: 0.19421053737078686 and parameters: {'boosting_type': 'goss', 'learning_rate': 0.05060687448698304, 'reg_alpha': 3.15705522666803e-05, 'reg_lambda': 0.0006949367545482871, 'max_depth': 6, 'num_leaves': 52, 'colsample_bytree': 0.5096969227958514, 'min_child_samples': 5, 'max_bin': 33, 'subsample_freq': 4}. Best is trial 137 with value: 0.17512873362467118.\n"
     ]
    },
    {
     "name": "stdout",
     "output_type": "stream",
     "text": [
      "Repeat \u001b[1m\u001b[34m#1\n",
      "Repeat \u001b[1m\u001b[34m#2\n"
     ]
    },
    {
     "name": "stderr",
     "output_type": "stream",
     "text": [
      "[I 2023-06-29 14:17:52,764] Trial 986 finished with value: 0.18977724822946573 and parameters: {'boosting_type': 'goss', 'learning_rate': 0.04475967798382259, 'reg_alpha': 2.8748503008862942e-05, 'reg_lambda': 0.000783865119562078, 'max_depth': 6, 'num_leaves': 53, 'colsample_bytree': 0.5183552180551654, 'min_child_samples': 9, 'max_bin': 36, 'subsample_freq': 4}. Best is trial 137 with value: 0.17512873362467118.\n"
     ]
    },
    {
     "name": "stdout",
     "output_type": "stream",
     "text": [
      "Repeat \u001b[1m\u001b[34m#1\n",
      "Repeat \u001b[1m\u001b[34m#2\n"
     ]
    },
    {
     "name": "stderr",
     "output_type": "stream",
     "text": [
      "[I 2023-06-29 14:17:55,128] Trial 987 finished with value: 0.1889159543914778 and parameters: {'boosting_type': 'goss', 'learning_rate': 0.04900813255673495, 'reg_alpha': 5.806254530763953e-05, 'reg_lambda': 0.0005740929678774085, 'max_depth': 6, 'num_leaves': 50, 'colsample_bytree': 0.5770334106409191, 'min_child_samples': 7, 'max_bin': 32, 'subsample_freq': 4}. Best is trial 137 with value: 0.17512873362467118.\n"
     ]
    },
    {
     "name": "stdout",
     "output_type": "stream",
     "text": [
      "Repeat \u001b[1m\u001b[34m#1\n",
      "Repeat \u001b[1m\u001b[34m#2\n"
     ]
    },
    {
     "name": "stderr",
     "output_type": "stream",
     "text": [
      "[I 2023-06-29 14:17:57,204] Trial 988 finished with value: 0.191374922982239 and parameters: {'boosting_type': 'goss', 'learning_rate': 0.05265074941433665, 'reg_alpha': 3.581088231051436e-05, 'reg_lambda': 0.001466353496739651, 'max_depth': 6, 'num_leaves': 54, 'colsample_bytree': 0.5251736849567901, 'min_child_samples': 7, 'max_bin': 36, 'subsample_freq': 4}. Best is trial 137 with value: 0.17512873362467118.\n"
     ]
    },
    {
     "name": "stdout",
     "output_type": "stream",
     "text": [
      "Repeat \u001b[1m\u001b[34m#1\n",
      "Repeat \u001b[1m\u001b[34m#2\n"
     ]
    },
    {
     "name": "stderr",
     "output_type": "stream",
     "text": [
      "[I 2023-06-29 14:17:59,148] Trial 989 finished with value: 0.19143791062717586 and parameters: {'boosting_type': 'goss', 'learning_rate': 0.0451944745892853, 'reg_alpha': 2.273801900221606e-05, 'reg_lambda': 0.0010813885841253793, 'max_depth': 6, 'num_leaves': 54, 'colsample_bytree': 0.5358828657312891, 'min_child_samples': 12, 'max_bin': 35, 'subsample_freq': 4}. Best is trial 137 with value: 0.17512873362467118.\n"
     ]
    },
    {
     "name": "stdout",
     "output_type": "stream",
     "text": [
      "Repeat \u001b[1m\u001b[34m#1\n",
      "Repeat \u001b[1m\u001b[34m#2\n"
     ]
    },
    {
     "name": "stderr",
     "output_type": "stream",
     "text": [
      "[I 2023-06-29 14:18:04,226] Trial 990 finished with value: 0.18546052451516343 and parameters: {'boosting_type': 'goss', 'learning_rate': 0.013397002795013909, 'reg_alpha': 9.916898770954355e-05, 'reg_lambda': 0.0031071712366558877, 'max_depth': 6, 'num_leaves': 48, 'colsample_bytree': 0.5580759056628282, 'min_child_samples': 9, 'max_bin': 32, 'subsample_freq': 4}. Best is trial 137 with value: 0.17512873362467118.\n"
     ]
    },
    {
     "name": "stdout",
     "output_type": "stream",
     "text": [
      "Repeat \u001b[1m\u001b[34m#1\n",
      "Repeat \u001b[1m\u001b[34m#2\n"
     ]
    },
    {
     "name": "stderr",
     "output_type": "stream",
     "text": [
      "[I 2023-06-29 14:18:06,717] Trial 991 finished with value: 0.188678160460388 and parameters: {'boosting_type': 'goss', 'learning_rate': 0.05360401489234032, 'reg_alpha': 5.024053447907016e-05, 'reg_lambda': 0.0016147085293499333, 'max_depth': 6, 'num_leaves': 51, 'colsample_bytree': 0.385376719031035, 'min_child_samples': 5, 'max_bin': 38, 'subsample_freq': 3}. Best is trial 137 with value: 0.17512873362467118.\n"
     ]
    },
    {
     "name": "stdout",
     "output_type": "stream",
     "text": [
      "Repeat \u001b[1m\u001b[34m#1\n",
      "Repeat \u001b[1m\u001b[34m#2\n"
     ]
    },
    {
     "name": "stderr",
     "output_type": "stream",
     "text": [
      "[I 2023-06-29 14:18:09,391] Trial 992 finished with value: 0.18810426905544045 and parameters: {'boosting_type': 'goss', 'learning_rate': 0.0478180191204649, 'reg_alpha': 0.28704168156676546, 'reg_lambda': 0.0003773454035350134, 'max_depth': 6, 'num_leaves': 123, 'colsample_bytree': 0.3634666385687661, 'min_child_samples': 11, 'max_bin': 38, 'subsample_freq': 3}. Best is trial 137 with value: 0.17512873362467118.\n"
     ]
    },
    {
     "name": "stdout",
     "output_type": "stream",
     "text": [
      "Repeat \u001b[1m\u001b[34m#1\n",
      "Repeat \u001b[1m\u001b[34m#2\n"
     ]
    },
    {
     "name": "stderr",
     "output_type": "stream",
     "text": [
      "[I 2023-06-29 14:18:09,877] Trial 993 finished with value: 0.4991975084389475 and parameters: {'boosting_type': 'goss', 'learning_rate': 0.05864528656913974, 'reg_alpha': 2.188540728205758e-06, 'reg_lambda': 0.0021793276669272374, 'max_depth': 6, 'num_leaves': 55, 'colsample_bytree': 0.5147203310224301, 'min_child_samples': 85, 'max_bin': 32, 'subsample_freq': 4}. Best is trial 137 with value: 0.17512873362467118.\n"
     ]
    },
    {
     "name": "stdout",
     "output_type": "stream",
     "text": [
      "Repeat \u001b[1m\u001b[34m#1\n",
      "Repeat \u001b[1m\u001b[34m#2\n"
     ]
    },
    {
     "name": "stderr",
     "output_type": "stream",
     "text": [
      "[I 2023-06-29 14:18:12,215] Trial 994 finished with value: 0.18261194612139797 and parameters: {'boosting_type': 'goss', 'learning_rate': 0.042071213228491625, 'reg_alpha': 0.004156427108468245, 'reg_lambda': 0.0006600386508075693, 'max_depth': 6, 'num_leaves': 53, 'colsample_bytree': 0.5049860852499062, 'min_child_samples': 14, 'max_bin': 38, 'subsample_freq': 3}. Best is trial 137 with value: 0.17512873362467118.\n"
     ]
    },
    {
     "name": "stdout",
     "output_type": "stream",
     "text": [
      "Repeat \u001b[1m\u001b[34m#1\n",
      "Repeat \u001b[1m\u001b[34m#2\n"
     ]
    },
    {
     "name": "stderr",
     "output_type": "stream",
     "text": [
      "[I 2023-06-29 14:18:14,309] Trial 995 finished with value: 0.19467415391239656 and parameters: {'boosting_type': 'goss', 'learning_rate': 0.04178671910886081, 'reg_alpha': 0.0026032139469843647, 'reg_lambda': 0.0007062602440218421, 'max_depth': 6, 'num_leaves': 52, 'colsample_bytree': 0.5067930551139279, 'min_child_samples': 17, 'max_bin': 36, 'subsample_freq': 3}. Best is trial 137 with value: 0.17512873362467118.\n"
     ]
    },
    {
     "name": "stdout",
     "output_type": "stream",
     "text": [
      "Repeat \u001b[1m\u001b[34m#1\n",
      "Repeat \u001b[1m\u001b[34m#2\n"
     ]
    },
    {
     "name": "stderr",
     "output_type": "stream",
     "text": [
      "[I 2023-06-29 14:18:16,549] Trial 996 finished with value: 0.19763299710608323 and parameters: {'boosting_type': 'goss', 'learning_rate': 0.04335306093773697, 'reg_alpha': 0.006050754720804843, 'reg_lambda': 0.00043905302020346803, 'max_depth': 6, 'num_leaves': 49, 'colsample_bytree': 0.5118691990146755, 'min_child_samples': 19, 'max_bin': 35, 'subsample_freq': 3}. Best is trial 137 with value: 0.17512873362467118.\n"
     ]
    },
    {
     "name": "stdout",
     "output_type": "stream",
     "text": [
      "Repeat \u001b[1m\u001b[34m#1\n",
      "Repeat \u001b[1m\u001b[34m#2\n"
     ]
    },
    {
     "name": "stderr",
     "output_type": "stream",
     "text": [
      "[I 2023-06-29 14:18:18,708] Trial 997 finished with value: 0.18534463603368623 and parameters: {'boosting_type': 'goss', 'learning_rate': 0.047868994563282495, 'reg_alpha': 0.002042902240737533, 'reg_lambda': 0.00028303440426165365, 'max_depth': 6, 'num_leaves': 53, 'colsample_bytree': 0.528529460239079, 'min_child_samples': 15, 'max_bin': 38, 'subsample_freq': 4}. Best is trial 137 with value: 0.17512873362467118.\n"
     ]
    },
    {
     "name": "stdout",
     "output_type": "stream",
     "text": [
      "Repeat \u001b[1m\u001b[34m#1\n",
      "Repeat \u001b[1m\u001b[34m#2\n"
     ]
    },
    {
     "name": "stderr",
     "output_type": "stream",
     "text": [
      "[I 2023-06-29 14:18:20,980] Trial 998 finished with value: 0.19072650100618382 and parameters: {'boosting_type': 'goss', 'learning_rate': 0.04107925905241445, 'reg_alpha': 0.005156228268959003, 'reg_lambda': 0.0013040762474023804, 'max_depth': 6, 'num_leaves': 55, 'colsample_bytree': 0.5028987713235127, 'min_child_samples': 14, 'max_bin': 40, 'subsample_freq': 3}. Best is trial 137 with value: 0.17512873362467118.\n"
     ]
    },
    {
     "name": "stdout",
     "output_type": "stream",
     "text": [
      "Repeat \u001b[1m\u001b[34m#1\n",
      "Repeat \u001b[1m\u001b[34m#2\n"
     ]
    },
    {
     "name": "stderr",
     "output_type": "stream",
     "text": [
      "[I 2023-06-29 14:18:25,994] Trial 999 finished with value: 0.1981879372849703 and parameters: {'boosting_type': 'goss', 'learning_rate': 0.016025808128231952, 'reg_alpha': 0.0037014689646844533, 'reg_lambda': 0.00047990875584815883, 'max_depth': 6, 'num_leaves': 54, 'colsample_bytree': 0.5184867228820171, 'min_child_samples': 8, 'max_bin': 191, 'subsample_freq': 3}. Best is trial 137 with value: 0.17512873362467118.\n"
     ]
    },
    {
     "name": "stdout",
     "output_type": "stream",
     "text": [
      "Number of finished trials: 1000\n",
      "Best trial:\n",
      "  Value: 0.17512873362467118\n",
      "  Params: \n",
      "    boosting_type: goss\n",
      "    learning_rate: 0.06287717371179619\n",
      "    reg_alpha: 1.1716387435032611e-05\n",
      "    reg_lambda: 2.0320606087186432e-08\n",
      "    max_depth: 5\n",
      "    num_leaves: 49\n",
      "    colsample_bytree: 0.4901701605114531\n",
      "    min_child_samples: 10\n",
      "    max_bin: 41\n",
      "    subsample_freq: 4\n"
     ]
    },
    {
     "data": {
      "text/html": [
       "<div>\n",
       "<style scoped>\n",
       "    .dataframe tbody tr th:only-of-type {\n",
       "        vertical-align: middle;\n",
       "    }\n",
       "\n",
       "    .dataframe tbody tr th {\n",
       "        vertical-align: top;\n",
       "    }\n",
       "\n",
       "    .dataframe thead th {\n",
       "        text-align: right;\n",
       "    }\n",
       "</style>\n",
       "<table border=\"1\" class=\"dataframe\">\n",
       "  <thead>\n",
       "    <tr style=\"text-align: right;\">\n",
       "      <th></th>\n",
       "      <th>number</th>\n",
       "      <th>value</th>\n",
       "      <th>datetime_start</th>\n",
       "      <th>datetime_complete</th>\n",
       "      <th>duration</th>\n",
       "      <th>params_boosting_type</th>\n",
       "      <th>params_colsample_bytree</th>\n",
       "      <th>params_learning_rate</th>\n",
       "      <th>params_max_bin</th>\n",
       "      <th>params_max_depth</th>\n",
       "      <th>params_min_child_samples</th>\n",
       "      <th>params_num_leaves</th>\n",
       "      <th>params_reg_alpha</th>\n",
       "      <th>params_reg_lambda</th>\n",
       "      <th>params_subsample_freq</th>\n",
       "      <th>state</th>\n",
       "      <th>n_estimators</th>\n",
       "    </tr>\n",
       "  </thead>\n",
       "  <tbody>\n",
       "    <tr>\n",
       "      <th>137</th>\n",
       "      <td>137</td>\n",
       "      <td>0.175129</td>\n",
       "      <td>2023-06-29 13:19:50.160085</td>\n",
       "      <td>2023-06-29 13:19:52.208376</td>\n",
       "      <td>0 days 00:00:02.048291</td>\n",
       "      <td>goss</td>\n",
       "      <td>0.490170</td>\n",
       "      <td>0.062877</td>\n",
       "      <td>41</td>\n",
       "      <td>5</td>\n",
       "      <td>10</td>\n",
       "      <td>49</td>\n",
       "      <td>0.000012</td>\n",
       "      <td>2.032061e-08</td>\n",
       "      <td>4</td>\n",
       "      <td>COMPLETE</td>\n",
       "      <td>213</td>\n",
       "    </tr>\n",
       "    <tr>\n",
       "      <th>66</th>\n",
       "      <td>66</td>\n",
       "      <td>0.177956</td>\n",
       "      <td>2023-06-29 13:17:25.404702</td>\n",
       "      <td>2023-06-29 13:17:27.783037</td>\n",
       "      <td>0 days 00:00:02.378335</td>\n",
       "      <td>goss</td>\n",
       "      <td>0.585561</td>\n",
       "      <td>0.058126</td>\n",
       "      <td>40</td>\n",
       "      <td>6</td>\n",
       "      <td>10</td>\n",
       "      <td>56</td>\n",
       "      <td>0.000347</td>\n",
       "      <td>1.677651e-08</td>\n",
       "      <td>6</td>\n",
       "      <td>COMPLETE</td>\n",
       "      <td>292</td>\n",
       "    </tr>\n",
       "    <tr>\n",
       "      <th>101</th>\n",
       "      <td>101</td>\n",
       "      <td>0.178815</td>\n",
       "      <td>2023-06-29 13:18:33.552236</td>\n",
       "      <td>2023-06-29 13:18:35.218942</td>\n",
       "      <td>0 days 00:00:01.666706</td>\n",
       "      <td>goss</td>\n",
       "      <td>0.568894</td>\n",
       "      <td>0.070156</td>\n",
       "      <td>52</td>\n",
       "      <td>7</td>\n",
       "      <td>12</td>\n",
       "      <td>65</td>\n",
       "      <td>0.000014</td>\n",
       "      <td>9.223997e-08</td>\n",
       "      <td>6</td>\n",
       "      <td>COMPLETE</td>\n",
       "      <td>147</td>\n",
       "    </tr>\n",
       "    <tr>\n",
       "      <th>810</th>\n",
       "      <td>810</td>\n",
       "      <td>0.179267</td>\n",
       "      <td>2023-06-29 14:02:42.877305</td>\n",
       "      <td>2023-06-29 14:02:45.655523</td>\n",
       "      <td>0 days 00:00:02.778218</td>\n",
       "      <td>goss</td>\n",
       "      <td>0.626746</td>\n",
       "      <td>0.033533</td>\n",
       "      <td>40</td>\n",
       "      <td>5</td>\n",
       "      <td>11</td>\n",
       "      <td>56</td>\n",
       "      <td>0.000005</td>\n",
       "      <td>7.166722e-08</td>\n",
       "      <td>5</td>\n",
       "      <td>COMPLETE</td>\n",
       "      <td>392</td>\n",
       "    </tr>\n",
       "    <tr>\n",
       "      <th>116</th>\n",
       "      <td>116</td>\n",
       "      <td>0.179896</td>\n",
       "      <td>2023-06-29 13:19:02.935716</td>\n",
       "      <td>2023-06-29 13:19:04.785193</td>\n",
       "      <td>0 days 00:00:01.849477</td>\n",
       "      <td>goss</td>\n",
       "      <td>0.526095</td>\n",
       "      <td>0.058662</td>\n",
       "      <td>68</td>\n",
       "      <td>5</td>\n",
       "      <td>12</td>\n",
       "      <td>53</td>\n",
       "      <td>0.000032</td>\n",
       "      <td>7.565220e-08</td>\n",
       "      <td>5</td>\n",
       "      <td>COMPLETE</td>\n",
       "      <td>232</td>\n",
       "    </tr>\n",
       "    <tr>\n",
       "      <th>558</th>\n",
       "      <td>558</td>\n",
       "      <td>0.179965</td>\n",
       "      <td>2023-06-29 13:41:07.612988</td>\n",
       "      <td>2023-06-29 13:41:09.186893</td>\n",
       "      <td>0 days 00:00:01.573905</td>\n",
       "      <td>goss</td>\n",
       "      <td>0.498740</td>\n",
       "      <td>0.073318</td>\n",
       "      <td>54</td>\n",
       "      <td>5</td>\n",
       "      <td>9</td>\n",
       "      <td>59</td>\n",
       "      <td>0.000002</td>\n",
       "      <td>5.227462e-06</td>\n",
       "      <td>3</td>\n",
       "      <td>COMPLETE</td>\n",
       "      <td>163</td>\n",
       "    </tr>\n",
       "    <tr>\n",
       "      <th>324</th>\n",
       "      <td>324</td>\n",
       "      <td>0.180177</td>\n",
       "      <td>2023-06-29 13:27:55.749903</td>\n",
       "      <td>2023-06-29 13:27:57.497696</td>\n",
       "      <td>0 days 00:00:01.747793</td>\n",
       "      <td>goss</td>\n",
       "      <td>0.599607</td>\n",
       "      <td>0.062776</td>\n",
       "      <td>66</td>\n",
       "      <td>5</td>\n",
       "      <td>10</td>\n",
       "      <td>29</td>\n",
       "      <td>0.008491</td>\n",
       "      <td>2.248461e-06</td>\n",
       "      <td>3</td>\n",
       "      <td>COMPLETE</td>\n",
       "      <td>198</td>\n",
       "    </tr>\n",
       "    <tr>\n",
       "      <th>440</th>\n",
       "      <td>440</td>\n",
       "      <td>0.180546</td>\n",
       "      <td>2023-06-29 13:32:23.702855</td>\n",
       "      <td>2023-06-29 13:32:25.330168</td>\n",
       "      <td>0 days 00:00:01.627313</td>\n",
       "      <td>goss</td>\n",
       "      <td>0.483841</td>\n",
       "      <td>0.036756</td>\n",
       "      <td>49</td>\n",
       "      <td>5</td>\n",
       "      <td>8</td>\n",
       "      <td>28</td>\n",
       "      <td>0.000035</td>\n",
       "      <td>1.546537e-08</td>\n",
       "      <td>3</td>\n",
       "      <td>COMPLETE</td>\n",
       "      <td>321</td>\n",
       "    </tr>\n",
       "    <tr>\n",
       "      <th>882</th>\n",
       "      <td>882</td>\n",
       "      <td>0.181092</td>\n",
       "      <td>2023-06-29 14:08:32.818637</td>\n",
       "      <td>2023-06-29 14:08:35.182129</td>\n",
       "      <td>0 days 00:00:02.363492</td>\n",
       "      <td>goss</td>\n",
       "      <td>0.383318</td>\n",
       "      <td>0.041468</td>\n",
       "      <td>54</td>\n",
       "      <td>8</td>\n",
       "      <td>12</td>\n",
       "      <td>56</td>\n",
       "      <td>0.000077</td>\n",
       "      <td>2.581422e-08</td>\n",
       "      <td>4</td>\n",
       "      <td>COMPLETE</td>\n",
       "      <td>300</td>\n",
       "    </tr>\n",
       "    <tr>\n",
       "      <th>877</th>\n",
       "      <td>877</td>\n",
       "      <td>0.181142</td>\n",
       "      <td>2023-06-29 14:08:12.192405</td>\n",
       "      <td>2023-06-29 14:08:14.340726</td>\n",
       "      <td>0 days 00:00:02.148321</td>\n",
       "      <td>goss</td>\n",
       "      <td>0.476130</td>\n",
       "      <td>0.041866</td>\n",
       "      <td>54</td>\n",
       "      <td>5</td>\n",
       "      <td>11</td>\n",
       "      <td>55</td>\n",
       "      <td>0.000008</td>\n",
       "      <td>6.822503e-08</td>\n",
       "      <td>4</td>\n",
       "      <td>COMPLETE</td>\n",
       "      <td>244</td>\n",
       "    </tr>\n",
       "  </tbody>\n",
       "</table>\n",
       "</div>"
      ],
      "text/plain": [
       "     number     value             datetime_start          datetime_complete  \\\n",
       "137     137  0.175129 2023-06-29 13:19:50.160085 2023-06-29 13:19:52.208376   \n",
       "66       66  0.177956 2023-06-29 13:17:25.404702 2023-06-29 13:17:27.783037   \n",
       "101     101  0.178815 2023-06-29 13:18:33.552236 2023-06-29 13:18:35.218942   \n",
       "810     810  0.179267 2023-06-29 14:02:42.877305 2023-06-29 14:02:45.655523   \n",
       "116     116  0.179896 2023-06-29 13:19:02.935716 2023-06-29 13:19:04.785193   \n",
       "558     558  0.179965 2023-06-29 13:41:07.612988 2023-06-29 13:41:09.186893   \n",
       "324     324  0.180177 2023-06-29 13:27:55.749903 2023-06-29 13:27:57.497696   \n",
       "440     440  0.180546 2023-06-29 13:32:23.702855 2023-06-29 13:32:25.330168   \n",
       "882     882  0.181092 2023-06-29 14:08:32.818637 2023-06-29 14:08:35.182129   \n",
       "877     877  0.181142 2023-06-29 14:08:12.192405 2023-06-29 14:08:14.340726   \n",
       "\n",
       "                  duration params_boosting_type  params_colsample_bytree  \\\n",
       "137 0 days 00:00:02.048291                 goss                 0.490170   \n",
       "66  0 days 00:00:02.378335                 goss                 0.585561   \n",
       "101 0 days 00:00:01.666706                 goss                 0.568894   \n",
       "810 0 days 00:00:02.778218                 goss                 0.626746   \n",
       "116 0 days 00:00:01.849477                 goss                 0.526095   \n",
       "558 0 days 00:00:01.573905                 goss                 0.498740   \n",
       "324 0 days 00:00:01.747793                 goss                 0.599607   \n",
       "440 0 days 00:00:01.627313                 goss                 0.483841   \n",
       "882 0 days 00:00:02.363492                 goss                 0.383318   \n",
       "877 0 days 00:00:02.148321                 goss                 0.476130   \n",
       "\n",
       "     params_learning_rate  params_max_bin  params_max_depth  \\\n",
       "137              0.062877              41                 5   \n",
       "66               0.058126              40                 6   \n",
       "101              0.070156              52                 7   \n",
       "810              0.033533              40                 5   \n",
       "116              0.058662              68                 5   \n",
       "558              0.073318              54                 5   \n",
       "324              0.062776              66                 5   \n",
       "440              0.036756              49                 5   \n",
       "882              0.041468              54                 8   \n",
       "877              0.041866              54                 5   \n",
       "\n",
       "     params_min_child_samples  params_num_leaves  params_reg_alpha  \\\n",
       "137                        10                 49          0.000012   \n",
       "66                         10                 56          0.000347   \n",
       "101                        12                 65          0.000014   \n",
       "810                        11                 56          0.000005   \n",
       "116                        12                 53          0.000032   \n",
       "558                         9                 59          0.000002   \n",
       "324                        10                 29          0.008491   \n",
       "440                         8                 28          0.000035   \n",
       "882                        12                 56          0.000077   \n",
       "877                        11                 55          0.000008   \n",
       "\n",
       "     params_reg_lambda  params_subsample_freq     state  n_estimators  \n",
       "137       2.032061e-08                      4  COMPLETE           213  \n",
       "66        1.677651e-08                      6  COMPLETE           292  \n",
       "101       9.223997e-08                      6  COMPLETE           147  \n",
       "810       7.166722e-08                      5  COMPLETE           392  \n",
       "116       7.565220e-08                      5  COMPLETE           232  \n",
       "558       5.227462e-06                      3  COMPLETE           163  \n",
       "324       2.248461e-06                      3  COMPLETE           198  \n",
       "440       1.546537e-08                      3  COMPLETE           321  \n",
       "882       2.581422e-08                      4  COMPLETE           300  \n",
       "877       6.822503e-08                      4  COMPLETE           244  "
      ]
     },
     "metadata": {},
     "output_type": "display_data"
    }
   ],
   "source": [
    "def bll_metric(y_true, y_pred):\n",
    "    return 'balanced_log_loss', balanced_log_loss(y_true, y_pred), False\n",
    "\n",
    "X, y = train_df[features], train_df['Class'] \n",
    "best_iterations = list()\n",
    "    \n",
    "def optimize_model(params, how):\n",
    "    bll_list = list()\n",
    "    best_trial_iterations = list()\n",
    "    \n",
    "    for i in range(CFG.n_optimize_repeats):\n",
    "        print(f'Repeat {blu}#{i+1}')\n",
    "\n",
    "        # Make random under- or oversampling to balance classes\n",
    "        if CFG.undersample:\n",
    "            positive_count_train = train_df['Class'].value_counts()[1]\n",
    "            sampler = RandomUnderSampler(sampling_strategy={0: positive_count_train * class_imbalance, \n",
    "                                                            1: positive_count_train}, \n",
    "                                        random_state=15062023+i, \n",
    "                                        replacement=True)\n",
    "        elif CFG.oversample:\n",
    "            negative_count_train = train_df['Class'].value_counts()[0]\n",
    "            sampler = RandomOverSampler(sampling_strategy={0: negative_count_train, \n",
    "                                                        1: negative_count_train // class_imbalance}, \n",
    "                                        random_state=2306020231)\n",
    "\n",
    "\n",
    "        X_re, y_re = pd.concat([train_df[features], greeks.iloc[:,1:4]], axis=1), train_df['Class']\n",
    "        \n",
    "        if CFG.undersample:\n",
    "            X_re, y_re = sampler.fit_resample(X_re, y_re)\n",
    "        \n",
    "        # Create Stratified Multilabel k-Fold scheme\n",
    "        kf = MultilabelStratifiedKFold(n_splits=CFG.n_optimize_folds, shuffle=True, random_state=10062023+i)\n",
    "\n",
    "        # Create an oof array for inner loop\n",
    "        oof = np.zeros(X_re.shape[0])\n",
    "\n",
    "        # Stratify based on Class and Alpha (3 types of conditions)\n",
    "        for fold, (train_idx, val_idx) in enumerate(kf.split(X=X_re[features], y=X_re.iloc[:,-3:]), start=1): \n",
    "            X, y = X_re[features], y_re\n",
    "            \n",
    "            # Split the dataset according to the fold indexes.\n",
    "            X_train = X.iloc[train_idx]\n",
    "            X_val = X.iloc[val_idx]\n",
    "            y_train = y.iloc[train_idx]\n",
    "            y_val = y.iloc[val_idx]\n",
    "\n",
    "            # oversample\n",
    "            if CFG.oversample:\n",
    "                X_train, y_train = sampler.fit_resample(X_train, y_train)\n",
    "\n",
    "            if how == 'lgbm':\n",
    "                model = lgb.LGBMClassifier(**params)\n",
    "                model.fit(X_train, y_train, eval_set=[(X_val, y_val)], eval_metric=bll_metric, verbose=0)\n",
    "                best_iter = model.best_iteration_\n",
    "            elif how == 'xgboost':\n",
    "                model = xgb.XGBClassifier(**params)\n",
    "                model.fit(X_train, y_train, eval_set=[(X_val, y_val)], verbose=0)\n",
    "                best_iter = model.get_booster().best_iteration\n",
    "            elif how == 'catboost':\n",
    "                train_pool = Pool(X_train, y_train, cat_features=['EJ'])\n",
    "                val_pool = Pool(X_val, y_val, cat_features=['EJ']) \n",
    "                model = cat.CatBoostClassifier(**params)\n",
    "                model.fit(train_pool, eval_set=val_pool, verbose=0)\n",
    "                best_iter = model.best_iteration_\n",
    "            else:\n",
    "                return 0\n",
    "\n",
    "            val_preds = model.predict_proba(X_val)[:,1]\n",
    "            oof[val_idx] = val_preds\n",
    "        \n",
    "        bll_list.append(balanced_log_loss(y_re, oof))\n",
    "        best_trial_iterations.append(best_iter)\n",
    "    \n",
    "    best_iterations.append(int(np.mean(best_trial_iterations)))\n",
    "\n",
    "    return np.mean(bll_list)\n",
    "\n",
    "def objective(trial):\n",
    "    params = {\n",
    "        # Main parameters\n",
    "#                     'device': 'gpu',\n",
    "#                     'gpu_platform_id': 0,\n",
    "#                     'gpu_device_id': 0,\n",
    "        'objective': 'binary',\n",
    "        'metric': 'none',\n",
    "        'boosting_type': trial.suggest_categorical('boosting_type', ['goss']), # 'gbdt', 'dart']),   \n",
    "        # Hyperparamters (in order of importance decreasing)\n",
    "        'n_estimators': CFG.n_estimators, # trial.suggest_int('n_estimators', 500, 1500),  # max number of trees in model\n",
    "        'early_stopping_round': CFG.early_stopping_rounds, \n",
    "        'learning_rate': trial.suggest_loguniform('learning_rate', 1e-3, 1e-1),\n",
    "        'reg_alpha': trial.suggest_float('reg_alpha', 1e-8, 10.0, log=True), # L1,  alias: lambda_l1\n",
    "        'reg_lambda': trial.suggest_float('reg_lambda', 1e-8, 10.0, log=True), # L2, alias: lambda_l2\n",
    "         # decrease to deal with overfit\n",
    "        'max_depth': trial.suggest_int('max_depth', 5, 9),   # tree max depth \n",
    "         # decrease to deal with overfit\n",
    "        'num_leaves': trial.suggest_int('num_leaves', 4, 128),  # Max number of leaves in one tree\n",
    "                                                                # should be ~ 2**(max_depth-1)\n",
    "        'subsample': None, # Randomly select part of data without \n",
    "                                  # resampling if subsample < 1.0\n",
    "                                  # alias: bagging_fraction\n",
    "        'colsample_bytree': trial.suggest_float('colsample_bytree', 0.3, 0.7), # Randomly select a subset of features \n",
    "                                                                   # if colsample_bytree < 1.0\n",
    "                                                                   # alias:feature_fraction\n",
    "        # decrease to deal with overfit\n",
    "        'min_child_samples': trial.suggest_int('min_child_samples', 5, 100), # Minimal number of data in one leaf\n",
    "                                                                             # aliases: min_data_in_leaf, \n",
    "        # increase for accuracy, decrease to deal with overfit\n",
    "        'max_bin': trial.suggest_int('max_bin', 32, 255), # Max number of bins that feature values will be bucketed in\n",
    "        # increase to deal with overfit\n",
    "        'subsample_freq': trial.suggest_int('subsample_freq', 1, 7), # Perform bagging at every k iteration, alias: bagging_freq\n",
    "\n",
    "#           'subsample_for_bin': 200000, # Number of data that sampled to construct feature discrete bins; setting this \n",
    "                                     # to larger value will give better training result but may increase train time \n",
    "#           'cat_smooth': trial.suggest_float('cat_smooth', 10.0, 100.0),  # this can reduce the effect of noises in \n",
    "                                                                       # categorical features, especially for \n",
    "                                                                       # categories with few data\n",
    "        'verbose': -1\n",
    "    }\n",
    "\n",
    "    if not CFG.oversample and not CFG.undersample:\n",
    "        params['is_unbalance'] = True\n",
    "        params['class_weight'] = 'balanced'\n",
    "    else:\n",
    "        params['scale_pos_weight'] = class_imbalance\n",
    "    \n",
    "    if params['boosting_type'] != 'goss':\n",
    "        params['subsample'] = trial.suggest_float('subsample', 0.3, 0.7)\n",
    "    \n",
    "    return optimize_model(params, how='lgbm')\n",
    "            \n",
    "\n",
    "if CFG.lgbm_optimize:\n",
    "#     study = optuna.create_study(pruner=optuna.pruners.MedianPruner(n_warmup_steps=100), direction=\"minimize\")\n",
    "    study = optuna.create_study(direction=\"minimize\")\n",
    "    study.optimize(objective, n_trials=CFG.n_trials * 2) \n",
    "\n",
    "    print(\"Number of finished trials: {}\".format(len(study.trials)))\n",
    "\n",
    "    print(\"Best trial:\")\n",
    "    trial = study.best_trial\n",
    "\n",
    "    print(\"  Value: {}\".format(trial.value))\n",
    "\n",
    "    print(\"  Params: \")\n",
    "    for key, value in trial.params.items():\n",
    "        print(\"    {}: {}\".format(key, value))\n",
    "\n",
    "    df = study.trials_dataframe()\n",
    "    df['n_estimators'] = best_iterations\n",
    "    df = df.sort_values('value')\n",
    "    df.to_csv(f'optuna_lgbm.csv')\n",
    "\n",
    "    display(df.head(10))"
   ]
  },
  {
   "attachments": {},
   "cell_type": "markdown",
   "metadata": {},
   "source": [
    "# Load LGBM parameters"
   ]
  },
  {
   "cell_type": "code",
   "execution_count": 21,
   "metadata": {},
   "outputs": [],
   "source": [
    "import glob\n",
    "\n",
    "if CFG.kaggle:\n",
    "    param_list = glob.glob(\"/kaggle/input/icr-optuna-no-da/optuna_lgbm.csv\")\n",
    "else:\n",
    "    param_list = glob.glob(\"optuna_lgbm.csv\")\n",
    "\n",
    "models = list()\n",
    "best_lgbm_params = list()\n",
    "\n",
    "lgbm_params = pd.DataFrame()\n",
    "\n",
    "for f in param_list:\n",
    "    tmp = pd.read_csv(f, index_col='Unnamed: 0')\n",
    "    if lgbm_params.shape[0] == 0:\n",
    "        lgbm_params = tmp\n",
    "    else:\n",
    "        lgbm_params = pd.concat([lgbm_params, tmp])\n",
    "        \n",
    "lgbm_params = lgbm_params.sort_values('value').head(CFG.n_stacking_models_lgbm)\n",
    "param_cols = [c for c in lgbm_params.columns if c.startswith('params_')]\n",
    "lgbm_params = lgbm_params[param_cols]\n",
    "\n",
    "for idx, row in lgbm_params.iterrows():\n",
    "    row_dict = {k[7:]: v for k, v in row.items()}\n",
    "    row_dict['objective'] = 'binary'\n",
    "    row_dict['metric'] = 'none'\n",
    "#     row_dict['subsample_for_bin'] = 300000\n",
    "    row_dict['force_col_wise'] = False\n",
    "    row_dict['early_stopping_round'] = CFG.early_stopping_rounds\n",
    "    row_dict['verbose'] = -1\n",
    "    row_dict['max_bin'] = 255\n",
    "    \n",
    "    row_dict['n_estimators'] = CFG.n_estimators# int(row_dict['n_estimators'])\n",
    "    row_dict['num_leaves'] = int(row_dict['num_leaves'])\n",
    "    row_dict['max_depth'] = int(row_dict['max_depth'])\n",
    "    row_dict['min_child_samples'] = int(row_dict['min_child_samples'])\n",
    "    row_dict['subsample_freq'] = int(row_dict['subsample_freq'])\n",
    "    row_dict['learning_rate'] = float(row_dict['learning_rate'])\n",
    "    \n",
    "    if not CFG.oversample and not CFG.undersample:\n",
    "        row_dict['is_unbalance'] = True\n",
    "        row_dict['class_weight'] = 'balanced'\n",
    "    else:\n",
    "        row_dict['scale_pos_weight'] = class_imbalance\n",
    "    \n",
    "    if row_dict['boosting_type'] == 'goss':\n",
    "        row_dict['subsample'] = None\n",
    "        \n",
    "    best_lgbm_params.append(row_dict)\n",
    "\n",
    "if CFG.test:\n",
    "    best_lgbm_params = [{\n",
    "            'boosting_type': 'goss',\n",
    "            'n_estimators': 50000,\n",
    "            'early_stopping_round': 300,\n",
    "            'max_depth': 8,\n",
    "            'learning_rate': 0.06733232950390658,\n",
    "            'subsample': 0.6970532011679706,\n",
    "            'colsample_bytree': 0.6055755840633003,\n",
    "            'is_unbalance': True, \n",
    "            'class_weight': 'balanced',\n",
    "            'metric':'none',\n",
    "            'verbose': -1,\n",
    "            'random_state': 42,\n",
    "        }\n",
    "    ]\n",
    "\n",
    "                         "
   ]
  },
  {
   "attachments": {},
   "cell_type": "markdown",
   "metadata": {},
   "source": [
    "# XGBoost Optuna optimization"
   ]
  },
  {
   "cell_type": "code",
   "execution_count": 22,
   "metadata": {
    "scrolled": true
   },
   "outputs": [],
   "source": [
    "X, y = train_df[features], train_df['Class']\n",
    "\n",
    "def objective(trial):\n",
    "    bll_list = list()\n",
    "\n",
    "    params = {\n",
    "        \"n_estimators\": CFG.n_estimators, # trial.suggest_int('n_estimators', 100, 1000, step=100),\n",
    "        \"early_stopping_rounds\": CFG.early_stopping_rounds,\n",
    "        \"verbosity\": 0,\n",
    "        \"random_state\": 14062023,\n",
    "        \"objective\": \"binary:logistic\",\n",
    "        \"eval_metric\": \"logloss\",\n",
    "        # use exact for small dataset.\n",
    "        \"tree_method\": \"exact\",\n",
    "        # defines booster, gblinear for linear functions.\n",
    "        \"booster\": trial.suggest_categorical(\"booster\", [\"gbtree\"]),# \"dart\", \"gblinear\"]), \n",
    "        # L1 regularization weight.\n",
    "        \"alpha\": trial.suggest_float(\"alpha\", 1e-8, 1.0, log=True),\n",
    "        # L2 regularization weight.\n",
    "        \"lambda\": trial.suggest_float(\"lambda\", 1e-8, 1.0, log=True),\n",
    "        # sampling ratio for training data.\n",
    "        \"subsample\": trial.suggest_float(\"subsample\", 0.4, 1.0),\n",
    "        # sampling according to each tree.\n",
    "        \"colsample_bytree\": trial.suggest_float(\"colsample_bytree\", 0.4, 1.0),\n",
    "    }\n",
    "\n",
    "    # if not CFG.oversample and not CFG.undersample:\n",
    "    params[\"scale_pos_weight\"] = class_imbalance\n",
    "    \n",
    "    if params[\"booster\"] in [\"gbtree\", \"dart\"]:\n",
    "        params[\"learning_rate\"] = trial.suggest_float(\"learning_rate\", 1e-4, 0.1, log=True) # alias eta\n",
    "        # maximum depth of the tree, signifies complexity of the tree.\n",
    "        params[\"max_depth\"] = trial.suggest_int(\"max_depth\", 3, 10)\n",
    "        # minimum child weight, larger the term more conservative the tree.\n",
    "        params[\"min_child_weight\"] = trial.suggest_int(\"min_child_weight\", 2, 10)\n",
    "        # defines how selective algorithm is.\n",
    "        params[\"gamma\"] = trial.suggest_float(\"gamma\", 1e-8, 1.0, log=True)\n",
    "        params[\"grow_policy\"] = trial.suggest_categorical(\"grow_policy\", [\"depthwise\", \"lossguide\"])\n",
    "\n",
    "    if params[\"booster\"] == \"dart\":\n",
    "        params[\"sample_type\"] = trial.suggest_categorical(\"sample_type\", [\"uniform\", \"weighted\"])\n",
    "        params[\"normalize_type\"] = trial.suggest_categorical(\"normalize_type\", [\"tree\", \"forest\"])\n",
    "        params[\"rate_drop\"] = trial.suggest_float(\"rate_drop\", 1e-8, 1.0, log=True)\n",
    "        params[\"skip_drop\"] = trial.suggest_float(\"skip_drop\", 1e-8, 1.0, log=True)\n",
    "\n",
    "    return optimize_model(params, how='xgboost')\n",
    "\n",
    "if CFG.xgb_optimize:\n",
    "    study = optuna.create_study(direction=\"minimize\")\n",
    "    study.optimize(objective, n_trials=CFG.n_trials * 2)\n",
    "\n",
    "    print(\"Number of finished trials: {}\".format(len(study.trials)))\n",
    "\n",
    "    print(\"Best trial:\")\n",
    "    trial = study.best_trial\n",
    "\n",
    "    print(\"  Value: {}\".format(trial.value))\n",
    "\n",
    "    print(\"  Params: \")\n",
    "    for key, value in trial.params.items():\n",
    "        print(\"    {}: {}\".format(key, value))\n",
    "\n",
    "    df = study.trials_dataframe().sort_values('value')\n",
    "    df.to_csv(f'optuna_xgb.csv')\n",
    "\n",
    "    display(df.head(10))"
   ]
  },
  {
   "attachments": {},
   "cell_type": "markdown",
   "metadata": {},
   "source": [
    "# Load XGBoost parameters"
   ]
  },
  {
   "cell_type": "code",
   "execution_count": 23,
   "metadata": {},
   "outputs": [],
   "source": [
    "import glob\n",
    "\n",
    "if CFG.kaggle:\n",
    "    param_list = glob.glob(\"/kaggle/input/icr-optuna-no-da/optuna_xgb.csv\")\n",
    "else:\n",
    "    param_list = glob.glob(\"optuna_xgb.csv\")\n",
    "\n",
    "models = list()\n",
    "best_xgb_params = list()\n",
    "\n",
    "xgb_params = pd.DataFrame()\n",
    "\n",
    "for f in param_list:\n",
    "    tmp = pd.read_csv(f, index_col='Unnamed: 0')\n",
    "    if xgb_params.shape[0] == 0:\n",
    "        xgb_params = tmp\n",
    "    else:\n",
    "        xgb_params = pd.concat([xgb_params, tmp])\n",
    "        \n",
    "xgb_params = xgb_params.sort_values('value').head(CFG.n_stacking_models_xgb)\n",
    "param_cols = [c for c in xgb_params.columns if c.startswith('params_')]\n",
    "xgb_params = xgb_params[param_cols]\n",
    "\n",
    "for idx, row in xgb_params.iterrows():\n",
    "    row_dict = {k[7:]: v for k, v in row.items()}\n",
    "    row_dict['n_estimators'] = CFG.n_estimators\n",
    "    row_dict['early_stopping_rounds'] = CFG.early_stopping_rounds\n",
    "    row_dict['random_state'] = 14062023\n",
    "    row_dict['verbosity'] = 0\n",
    "    row_dict['objective'] = \"binary:logistic\"\n",
    "    row_dict['eval_metric'] = \"logloss\"\n",
    "    row_dict['tree_method'] = \"exact\"\n",
    "    row_dict['booster'] = \"gbtree\"\n",
    "\n",
    "    # if not CFG.oversample and not CFG.undersample:\n",
    "    row_dict['scale_pos_weight'] = class_imbalance\n",
    "\n",
    "    if row_dict[\"booster\"] in [\"gbtree\", \"dart\"]:\n",
    "        row_dict[\"max_depth\"] = int(row_dict[\"max_depth\"])\n",
    "        row_dict[\"min_child_weight\"] = int(row_dict[\"min_child_weight\"])\n",
    "    else:\n",
    "        row_dict[\"learning_rate\"] = None\n",
    "        row_dict[\"max_depth\"] = None\n",
    "        row_dict[\"min_child_weight\"] = None\n",
    "        row_dict[\"gamma\"] = None\n",
    "        row_dict[\"grow_policy\"] = None     \n",
    "\n",
    "    if row_dict[\"booster\"] != \"dart\":\n",
    "        row_dict[\"sample_type\"] = None\n",
    "        row_dict[\"normalize_type\"] = None\n",
    "        row_dict[\"rate_drop\"] = None\n",
    "        row_dict[\"skip_drop\"] = None\n",
    "\n",
    "    best_xgb_params.append(row_dict)\n",
    "\n",
    "if CFG.test:\n",
    "    best_xgb_params = [{\n",
    "            'n_estimators': CFG.n_estimators,\n",
    "            'early_stopping_rounds': CFG.early_stopping_rounds,\n",
    "            'objective': \"binary:logistic\",\n",
    "            'scale_pos_weight': class_imbalance, \n",
    "            'verbosity': 0,\n",
    "            'random_state': 19062023,\n",
    "        }\n",
    "    ]"
   ]
  },
  {
   "attachments": {},
   "cell_type": "markdown",
   "metadata": {},
   "source": [
    "# CatBoost Optuna optimization"
   ]
  },
  {
   "cell_type": "code",
   "execution_count": 24,
   "metadata": {
    "scrolled": true
   },
   "outputs": [],
   "source": [
    "X, y = train_df[features], train_df['Class']\n",
    "\n",
    "def objective(trial):\n",
    "    \n",
    "    bll_list = list()\n",
    "\n",
    "    # Parameters\n",
    "    params = {\n",
    "        'task_type': 'CPU', # GPU\n",
    "        'eval_metric': 'Logloss',\n",
    "        'loss_function': 'Logloss', \n",
    "        'random_seed': 19062023,\n",
    "        'od_type': 'Iter', # Type of overfitting detector - stop after k iteraions\n",
    "        'iterations' : CFG.n_estimators, # trial.suggest_int('iterations', 300, 1200),        \n",
    "        'od_wait': CFG.early_stopping_rounds, # Overfitting detector - stop training after k iterations without metric improvement\n",
    "        # 'metric_period': 100, # Show metric each k iterations\n",
    "        # Hyperparamters (in order of importance decreasing)\n",
    "        'bootstrap_type': trial.suggest_categorical('bootstrap_type', ['Bayesian', 'Bernoulli', 'MVS', 'No']),\n",
    "        'grow_policy': trial.suggest_categorical('grow_policy', ['SymmetricTree', 'Depthwise', 'Lossguide']),\n",
    "        'learning_rate' : trial.suggest_loguniform('learning_rate', 1e-3, 3e-1), \n",
    "        'l2_leaf_reg': trial.suggest_loguniform(\"l2_leaf_reg\", 1e-8, 100),\n",
    "        'depth' : trial.suggest_int('depth', 4, 10),  # Max tree depth                                          \n",
    "         # increase to deal with overfit\n",
    "        'random_strength': trial.suggest_float('random_strength', 0, 100), # The amount of randomness to use\n",
    "                                                                           # for scoring splits when the tree structure\n",
    "                                                                           # is selected. Helps to avoid overfitting\n",
    "                                                                           # CPU only\n",
    "        # per_float_feature_quantization='0:border_count=1024'\n",
    "        'border_count': 254, # trial.suggest_categorical('border_count', [128, 254]), # The number of splits for numerical features\n",
    "                                                                                      # bigger is better but slowly\n",
    "                                                                                      # alias: max_bin\n",
    "        'min_data_in_leaf': trial.suggest_int('min_data_in_leaf', 5, 100), # Minimal number of data in one leaf\n",
    "                                                                           # aliases: min_child_samples, \n",
    "\n",
    "    }\n",
    "\n",
    "    if not CFG.oversample and not CFG.undersample:\n",
    "        params['scale_pos_weight'] = class_imbalance\n",
    "    else:\n",
    "        params['auto_class_weights'] = 'Balanced'\n",
    "        \n",
    "    if params[\"bootstrap_type\"] == \"Bayesian\":\n",
    "        params[\"bagging_temperature\"] = trial.suggest_float(\"bagging_temperature\", 0, 100) # Assigns random \n",
    "                                                                                           # weights to objects\n",
    "                                                                                           # works only with \n",
    "                                                                                           # Bayesian bootstrap\n",
    "    if params[\"bootstrap_type\"] in [\"Poisson\", \"Bernoulli\", \"MVS\"]:\n",
    "        params[\"subsample\"] = trial.suggest_float(\"subsample\", 0.3, 1) # Percentage of objects to use \n",
    "                                                                        # at each split\n",
    "\n",
    "    if params['task_type'] == 'CPU' and params['bootstrap_type'] != 'Bayesian':\n",
    "        params[\"colsample_bylevel\"] = trial.suggest_float(\"colsample_bylevel\", 0.3, 1)  # Percentage of features to use \n",
    "                                                                                        # at each split;\n",
    "                                                                                        # with Bayesian bootstrap and Lossguide grop policy\n",
    "                                                                                        # leads to error (CatBoost bug)\n",
    "    else:\n",
    "        params[\"colsample_bylevel\"] = None                                                     \n",
    "\n",
    "    if params['grow_policy'] == 'Lossguide': \n",
    "        params['max_leaves'] = trial.suggest_int('max_leaves', 4, 128) # Max number of leaves in one tree \n",
    "                                                                       # decrease to deal with the overfit\n",
    "\n",
    "    if params['grow_policy'] == 'SymmetricTree': \n",
    "        params['boosting_type'] = trial.suggest_categorical('boosting_type', ['Ordered', 'Plain'])\n",
    "    else:\n",
    "        params['boosting_type'] = 'Plain'\n",
    "    \n",
    "    return optimize_model(params, how='catboost')\n",
    "\n",
    "if CFG.cb_optimize:\n",
    "    study = optuna.create_study(direction=\"minimize\")\n",
    "    study.optimize(objective, n_trials=CFG.n_trials)\n",
    "\n",
    "    print(\"Number of finished trials: {}\".format(len(study.trials)))\n",
    "\n",
    "    print(\"Best trial:\")\n",
    "    trial = study.best_trial\n",
    "\n",
    "    print(\"  Value: {}\".format(trial.value))\n",
    "\n",
    "    print(\"  Params: \")\n",
    "    for key, value in trial.params.items():\n",
    "        print(\"    {}: {}\".format(key, value))\n",
    "\n",
    "    df = study.trials_dataframe().sort_values('value')\n",
    "    df.to_csv(f'optuna_catboost.csv')\n",
    "\n",
    "    display(df.head(10))"
   ]
  },
  {
   "attachments": {},
   "cell_type": "markdown",
   "metadata": {},
   "source": [
    "# Load CatBoost parameters"
   ]
  },
  {
   "cell_type": "code",
   "execution_count": 25,
   "metadata": {},
   "outputs": [],
   "source": [
    "import glob\n",
    "\n",
    "if CFG.kaggle:\n",
    "    param_list = glob.glob(\"/kaggle/input/icr-optuna-no-da/optuna_catboost.csv\")\n",
    "else:\n",
    "    param_list = glob.glob(\"optuna_catboost.csv\")\n",
    "\n",
    "models = list()\n",
    "best_cb_params = list()\n",
    "\n",
    "cb_params = pd.DataFrame()\n",
    "\n",
    "for f in param_list:\n",
    "    tmp = pd.read_csv(f, index_col='Unnamed: 0')\n",
    "    if cb_params.shape[0] == 0:\n",
    "        cb_params = tmp\n",
    "    else:\n",
    "        cb_params = pd.concat([cb_params, tmp])\n",
    "        \n",
    "cb_params = cb_params.sort_values('value').head(CFG.n_stacking_models_cb)\n",
    "param_cols = [c for c in cb_params.columns if c.startswith('params_')]\n",
    "cb_params = cb_params[param_cols]\n",
    "\n",
    "\n",
    "for idx, row in cb_params.iterrows():\n",
    "    row_dict = {k[7:]: v for k, v in row.items()}\n",
    "    row_dict['task_type'] = 'CPU'\n",
    "    row_dict['eval_metric'] = 'Logloss'\n",
    "    row_dict['loss_function'] = 'Logloss'\n",
    "    row_dict['random_seed'] = 13062023\n",
    "    row_dict['verbose'] = 0\n",
    "    row_dict['od_type'] = 'Iter'\n",
    "    row_dict['iterations'] = CFG.n_estimators * 4\n",
    "    row_dict['od_wait'] = CFG.early_stopping_rounds\n",
    "    row_dict['border_count'] = 254\n",
    "    \n",
    "    if not CFG.oversample and not CFG.undersample:\n",
    "        row_dict['scale_pos_weight'] = class_imbalance\n",
    "    else:\n",
    "        row_dict['auto_class_weights'] = 'Balanced'\n",
    "        \n",
    "    if row_dict[\"task_type\"] != \"GPU\":\n",
    "        row_dict['colsample_bylevel'] = None\n",
    "    \n",
    "    if row_dict[\"bootstrap_type\"] != \"Bayesian\":\n",
    "        row_dict['bagging_temperature'] = None\n",
    "        \n",
    "    if row_dict[\"bootstrap_type\"] not in [\"Poisson\", \"Bernoulli\", \"MVS\"]:\n",
    "        row_dict['subsample'] = None\n",
    "    \n",
    "    if row_dict['grow_policy'] == 'Lossguide':\n",
    "        row_dict['max_leaves'] = int(row_dict['max_leaves'])\n",
    "    else:\n",
    "        row_dict['max_leaves'] = None\n",
    "    \n",
    "    if row_dict['grow_policy'] != 'SymmetricTree':\n",
    "        row_dict['boosting_type'] = 'Plain'\n",
    "    \n",
    "    best_cb_params.append(row_dict)\n",
    "\n",
    "if CFG.test:\n",
    "    best_cb_params = [{\n",
    "            'iterations': CFG.n_estimators,\n",
    "            'od_type': 'Iter',\n",
    "            'od_wait': CFG.early_stopping_rounds,\n",
    "            'eval_metric': \"Logloss\",\n",
    "            'loss_function': \"Logloss\",\n",
    "            'auto_class_weights': 'Balanced', \n",
    "            'verbose': 0,\n",
    "            'random_seed': 19062023,\n",
    "        }\n",
    "    ]"
   ]
  },
  {
   "attachments": {},
   "cell_type": "markdown",
   "metadata": {},
   "source": [
    "# Train models"
   ]
  },
  {
   "cell_type": "code",
   "execution_count": 34,
   "metadata": {},
   "outputs": [
    {
     "data": {
      "application/vnd.jupyter.widget-view+json": {
       "model_id": "86f9b6724d1346f384aac9d345c67c98",
       "version_major": 2,
       "version_minor": 0
      },
      "text/plain": [
       "  0%|          | 0/40 [00:00<?, ?it/s]"
      ]
     },
     "metadata": {},
     "output_type": "display_data"
    },
    {
     "name": "stdout",
     "output_type": "stream",
     "text": [
      "Training with \u001b[1m\u001b[34m38\u001b[0m features\n",
      "Fold: \u001b[1m\u001b[34m  1\u001b[0m| bll_metric: \u001b[1m\u001b[34m0.16397\u001b[0m | Best iteration: \u001b[1m\u001b[34m 181\u001b[0m\n",
      "Fold: \u001b[1m\u001b[34m  2\u001b[0m| bll_metric: \u001b[1m\u001b[34m0.24840\u001b[0m | Best iteration: \u001b[1m\u001b[34m  90\u001b[0m\n",
      "Fold: \u001b[1m\u001b[34m  3\u001b[0m| bll_metric: \u001b[1m\u001b[34m0.07244\u001b[0m | Best iteration: \u001b[1m\u001b[34m 496\u001b[0m\n",
      "Fold: \u001b[1m\u001b[34m  4\u001b[0m| bll_metric: \u001b[1m\u001b[34m0.25533\u001b[0m | Best iteration: \u001b[1m\u001b[34m 151\u001b[0m\n",
      "Fold: \u001b[1m\u001b[34m  5\u001b[0m| bll_metric: \u001b[1m\u001b[34m0.32206\u001b[0m | Best iteration: \u001b[1m\u001b[34m  86\u001b[0m\n",
      "Training with \u001b[1m\u001b[34m38\u001b[0m features\n",
      "Fold: \u001b[1m\u001b[34m  1\u001b[0m| bll_metric: \u001b[1m\u001b[34m0.28925\u001b[0m | Best iteration: \u001b[1m\u001b[34m  82\u001b[0m\n",
      "Fold: \u001b[1m\u001b[34m  2\u001b[0m| bll_metric: \u001b[1m\u001b[34m0.22941\u001b[0m | Best iteration: \u001b[1m\u001b[34m 199\u001b[0m\n",
      "Fold: \u001b[1m\u001b[34m  3\u001b[0m| bll_metric: \u001b[1m\u001b[34m0.18174\u001b[0m | Best iteration: \u001b[1m\u001b[34m 160\u001b[0m\n",
      "Fold: \u001b[1m\u001b[34m  4\u001b[0m| bll_metric: \u001b[1m\u001b[34m0.08665\u001b[0m | Best iteration: \u001b[1m\u001b[34m 588\u001b[0m\n",
      "Fold: \u001b[1m\u001b[34m  5\u001b[0m| bll_metric: \u001b[1m\u001b[34m0.16644\u001b[0m | Best iteration: \u001b[1m\u001b[34m 164\u001b[0m\n",
      "Training with \u001b[1m\u001b[34m38\u001b[0m features\n",
      "Fold: \u001b[1m\u001b[34m  1\u001b[0m| bll_metric: \u001b[1m\u001b[34m0.13258\u001b[0m | Best iteration: \u001b[1m\u001b[34m 106\u001b[0m\n",
      "Fold: \u001b[1m\u001b[34m  2\u001b[0m| bll_metric: \u001b[1m\u001b[34m0.22311\u001b[0m | Best iteration: \u001b[1m\u001b[34m 136\u001b[0m\n",
      "Fold: \u001b[1m\u001b[34m  3\u001b[0m| bll_metric: \u001b[1m\u001b[34m0.14743\u001b[0m | Best iteration: \u001b[1m\u001b[34m 311\u001b[0m\n",
      "Fold: \u001b[1m\u001b[34m  4\u001b[0m| bll_metric: \u001b[1m\u001b[34m0.23914\u001b[0m | Best iteration: \u001b[1m\u001b[34m 102\u001b[0m\n",
      "Fold: \u001b[1m\u001b[34m  5\u001b[0m| bll_metric: \u001b[1m\u001b[34m0.11555\u001b[0m | Best iteration: \u001b[1m\u001b[34m 183\u001b[0m\n",
      "Training with \u001b[1m\u001b[34m38\u001b[0m features\n",
      "Fold: \u001b[1m\u001b[34m  1\u001b[0m| bll_metric: \u001b[1m\u001b[34m0.14749\u001b[0m | Best iteration: \u001b[1m\u001b[34m 338\u001b[0m\n",
      "Fold: \u001b[1m\u001b[34m  2\u001b[0m| bll_metric: \u001b[1m\u001b[34m0.14627\u001b[0m | Best iteration: \u001b[1m\u001b[34m 659\u001b[0m\n",
      "Fold: \u001b[1m\u001b[34m  3\u001b[0m| bll_metric: \u001b[1m\u001b[34m0.34145\u001b[0m | Best iteration: \u001b[1m\u001b[34m 112\u001b[0m\n",
      "Fold: \u001b[1m\u001b[34m  4\u001b[0m| bll_metric: \u001b[1m\u001b[34m0.20393\u001b[0m | Best iteration: \u001b[1m\u001b[34m 205\u001b[0m\n",
      "Fold: \u001b[1m\u001b[34m  5\u001b[0m| bll_metric: \u001b[1m\u001b[34m0.15833\u001b[0m | Best iteration: \u001b[1m\u001b[34m 259\u001b[0m\n",
      "Training with \u001b[1m\u001b[34m38\u001b[0m features\n",
      "Fold: \u001b[1m\u001b[34m  1\u001b[0m| bll_metric: \u001b[1m\u001b[34m0.14651\u001b[0m | Best iteration: \u001b[1m\u001b[34m 166\u001b[0m\n",
      "Fold: \u001b[1m\u001b[34m  2\u001b[0m| bll_metric: \u001b[1m\u001b[34m0.19211\u001b[0m | Best iteration: \u001b[1m\u001b[34m 102\u001b[0m\n",
      "Fold: \u001b[1m\u001b[34m  3\u001b[0m| bll_metric: \u001b[1m\u001b[34m0.12673\u001b[0m | Best iteration: \u001b[1m\u001b[34m 249\u001b[0m\n",
      "Fold: \u001b[1m\u001b[34m  4\u001b[0m| bll_metric: \u001b[1m\u001b[34m0.26976\u001b[0m | Best iteration: \u001b[1m\u001b[34m 123\u001b[0m\n",
      "Fold: \u001b[1m\u001b[34m  5\u001b[0m| bll_metric: \u001b[1m\u001b[34m0.19236\u001b[0m | Best iteration: \u001b[1m\u001b[34m 205\u001b[0m\n",
      "Training with \u001b[1m\u001b[34m38\u001b[0m features\n",
      "Fold: \u001b[1m\u001b[34m  1\u001b[0m| bll_metric: \u001b[1m\u001b[34m0.10338\u001b[0m | Best iteration: \u001b[1m\u001b[34m 284\u001b[0m\n",
      "Fold: \u001b[1m\u001b[34m  2\u001b[0m| bll_metric: \u001b[1m\u001b[34m0.09806\u001b[0m | Best iteration: \u001b[1m\u001b[34m 204\u001b[0m\n",
      "Fold: \u001b[1m\u001b[34m  3\u001b[0m| bll_metric: \u001b[1m\u001b[34m0.36135\u001b[0m | Best iteration: \u001b[1m\u001b[34m  57\u001b[0m\n",
      "Fold: \u001b[1m\u001b[34m  4\u001b[0m| bll_metric: \u001b[1m\u001b[34m0.09531\u001b[0m | Best iteration: \u001b[1m\u001b[34m 237\u001b[0m\n",
      "Fold: \u001b[1m\u001b[34m  5\u001b[0m| bll_metric: \u001b[1m\u001b[34m0.21467\u001b[0m | Best iteration: \u001b[1m\u001b[34m  75\u001b[0m\n",
      "Training with \u001b[1m\u001b[34m38\u001b[0m features\n",
      "Fold: \u001b[1m\u001b[34m  1\u001b[0m| bll_metric: \u001b[1m\u001b[34m0.07932\u001b[0m | Best iteration: \u001b[1m\u001b[34m 355\u001b[0m\n",
      "Fold: \u001b[1m\u001b[34m  2\u001b[0m| bll_metric: \u001b[1m\u001b[34m0.26328\u001b[0m | Best iteration: \u001b[1m\u001b[34m 119\u001b[0m\n",
      "Fold: \u001b[1m\u001b[34m  3\u001b[0m| bll_metric: \u001b[1m\u001b[34m0.12152\u001b[0m | Best iteration: \u001b[1m\u001b[34m 188\u001b[0m\n",
      "Fold: \u001b[1m\u001b[34m  4\u001b[0m| bll_metric: \u001b[1m\u001b[34m0.12700\u001b[0m | Best iteration: \u001b[1m\u001b[34m 221\u001b[0m\n",
      "Fold: \u001b[1m\u001b[34m  5\u001b[0m| bll_metric: \u001b[1m\u001b[34m0.30538\u001b[0m | Best iteration: \u001b[1m\u001b[34m  86\u001b[0m\n",
      "Training with \u001b[1m\u001b[34m38\u001b[0m features\n",
      "Fold: \u001b[1m\u001b[34m  1\u001b[0m| bll_metric: \u001b[1m\u001b[34m0.17491\u001b[0m | Best iteration: \u001b[1m\u001b[34m 372\u001b[0m\n",
      "Fold: \u001b[1m\u001b[34m  2\u001b[0m| bll_metric: \u001b[1m\u001b[34m0.29296\u001b[0m | Best iteration: \u001b[1m\u001b[34m 194\u001b[0m\n",
      "Fold: \u001b[1m\u001b[34m  3\u001b[0m| bll_metric: \u001b[1m\u001b[34m0.12189\u001b[0m | Best iteration: \u001b[1m\u001b[34m 251\u001b[0m\n",
      "Fold: \u001b[1m\u001b[34m  4\u001b[0m| bll_metric: \u001b[1m\u001b[34m0.19749\u001b[0m | Best iteration: \u001b[1m\u001b[34m 171\u001b[0m\n",
      "Fold: \u001b[1m\u001b[34m  5\u001b[0m| bll_metric: \u001b[1m\u001b[34m0.28072\u001b[0m | Best iteration: \u001b[1m\u001b[34m 142\u001b[0m\n",
      "Training with \u001b[1m\u001b[34m38\u001b[0m features\n",
      "Fold: \u001b[1m\u001b[34m  1\u001b[0m| bll_metric: \u001b[1m\u001b[34m0.17526\u001b[0m | Best iteration: \u001b[1m\u001b[34m 136\u001b[0m\n",
      "Fold: \u001b[1m\u001b[34m  2\u001b[0m| bll_metric: \u001b[1m\u001b[34m0.10591\u001b[0m | Best iteration: \u001b[1m\u001b[34m 362\u001b[0m\n",
      "Fold: \u001b[1m\u001b[34m  3\u001b[0m| bll_metric: \u001b[1m\u001b[34m0.11631\u001b[0m | Best iteration: \u001b[1m\u001b[34m 396\u001b[0m\n",
      "Fold: \u001b[1m\u001b[34m  4\u001b[0m| bll_metric: \u001b[1m\u001b[34m0.47571\u001b[0m | Best iteration: \u001b[1m\u001b[34m  77\u001b[0m\n",
      "Fold: \u001b[1m\u001b[34m  5\u001b[0m| bll_metric: \u001b[1m\u001b[34m0.10969\u001b[0m | Best iteration: \u001b[1m\u001b[34m 322\u001b[0m\n",
      "Training with \u001b[1m\u001b[34m38\u001b[0m features\n",
      "Fold: \u001b[1m\u001b[34m  1\u001b[0m| bll_metric: \u001b[1m\u001b[34m0.13101\u001b[0m | Best iteration: \u001b[1m\u001b[34m 353\u001b[0m\n",
      "Fold: \u001b[1m\u001b[34m  2\u001b[0m| bll_metric: \u001b[1m\u001b[34m0.23424\u001b[0m | Best iteration: \u001b[1m\u001b[34m 215\u001b[0m\n",
      "Fold: \u001b[1m\u001b[34m  3\u001b[0m| bll_metric: \u001b[1m\u001b[34m0.21907\u001b[0m | Best iteration: \u001b[1m\u001b[34m 170\u001b[0m\n",
      "Fold: \u001b[1m\u001b[34m  4\u001b[0m| bll_metric: \u001b[1m\u001b[34m0.17838\u001b[0m | Best iteration: \u001b[1m\u001b[34m 184\u001b[0m\n",
      "Fold: \u001b[1m\u001b[34m  5\u001b[0m| bll_metric: \u001b[1m\u001b[34m0.11775\u001b[0m | Best iteration: \u001b[1m\u001b[34m 340\u001b[0m\n",
      "Training with \u001b[1m\u001b[34m38\u001b[0m features\n",
      "Fold: \u001b[1m\u001b[34m  1\u001b[0m| bll_metric: \u001b[1m\u001b[34m0.08159\u001b[0m | Best iteration: \u001b[1m\u001b[34m 559\u001b[0m\n",
      "Fold: \u001b[1m\u001b[34m  2\u001b[0m| bll_metric: \u001b[1m\u001b[34m0.31422\u001b[0m | Best iteration: \u001b[1m\u001b[34m 205\u001b[0m\n",
      "Fold: \u001b[1m\u001b[34m  3\u001b[0m| bll_metric: \u001b[1m\u001b[34m0.28372\u001b[0m | Best iteration: \u001b[1m\u001b[34m 231\u001b[0m\n",
      "Fold: \u001b[1m\u001b[34m  4\u001b[0m| bll_metric: \u001b[1m\u001b[34m0.07958\u001b[0m | Best iteration: \u001b[1m\u001b[34m 424\u001b[0m\n",
      "Fold: \u001b[1m\u001b[34m  5\u001b[0m| bll_metric: \u001b[1m\u001b[34m0.26411\u001b[0m | Best iteration: \u001b[1m\u001b[34m 167\u001b[0m\n",
      "Training with \u001b[1m\u001b[34m38\u001b[0m features\n",
      "Fold: \u001b[1m\u001b[34m  1\u001b[0m| bll_metric: \u001b[1m\u001b[34m0.26301\u001b[0m | Best iteration: \u001b[1m\u001b[34m 119\u001b[0m\n",
      "Fold: \u001b[1m\u001b[34m  2\u001b[0m| bll_metric: \u001b[1m\u001b[34m0.11217\u001b[0m | Best iteration: \u001b[1m\u001b[34m 261\u001b[0m\n",
      "Fold: \u001b[1m\u001b[34m  3\u001b[0m| bll_metric: \u001b[1m\u001b[34m0.13553\u001b[0m | Best iteration: \u001b[1m\u001b[34m 218\u001b[0m\n",
      "Fold: \u001b[1m\u001b[34m  4\u001b[0m| bll_metric: \u001b[1m\u001b[34m0.35327\u001b[0m | Best iteration: \u001b[1m\u001b[34m  73\u001b[0m\n",
      "Fold: \u001b[1m\u001b[34m  5\u001b[0m| bll_metric: \u001b[1m\u001b[34m0.17265\u001b[0m | Best iteration: \u001b[1m\u001b[34m 106\u001b[0m\n",
      "Training with \u001b[1m\u001b[34m38\u001b[0m features\n",
      "Fold: \u001b[1m\u001b[34m  1\u001b[0m| bll_metric: \u001b[1m\u001b[34m0.11356\u001b[0m | Best iteration: \u001b[1m\u001b[34m 858\u001b[0m\n",
      "Fold: \u001b[1m\u001b[34m  2\u001b[0m| bll_metric: \u001b[1m\u001b[34m0.12311\u001b[0m | Best iteration: \u001b[1m\u001b[34m 423\u001b[0m\n",
      "Fold: \u001b[1m\u001b[34m  3\u001b[0m| bll_metric: \u001b[1m\u001b[34m0.30354\u001b[0m | Best iteration: \u001b[1m\u001b[34m 178\u001b[0m\n",
      "Fold: \u001b[1m\u001b[34m  4\u001b[0m| bll_metric: \u001b[1m\u001b[34m0.19596\u001b[0m | Best iteration: \u001b[1m\u001b[34m 247\u001b[0m\n",
      "Fold: \u001b[1m\u001b[34m  5\u001b[0m| bll_metric: \u001b[1m\u001b[34m0.24176\u001b[0m | Best iteration: \u001b[1m\u001b[34m 204\u001b[0m\n",
      "Training with \u001b[1m\u001b[34m38\u001b[0m features\n",
      "Fold: \u001b[1m\u001b[34m  1\u001b[0m| bll_metric: \u001b[1m\u001b[34m0.14444\u001b[0m | Best iteration: \u001b[1m\u001b[34m 183\u001b[0m\n",
      "Fold: \u001b[1m\u001b[34m  2\u001b[0m| bll_metric: \u001b[1m\u001b[34m0.24777\u001b[0m | Best iteration: \u001b[1m\u001b[34m  89\u001b[0m\n",
      "Fold: \u001b[1m\u001b[34m  3\u001b[0m| bll_metric: \u001b[1m\u001b[34m0.23040\u001b[0m | Best iteration: \u001b[1m\u001b[34m  88\u001b[0m\n",
      "Fold: \u001b[1m\u001b[34m  4\u001b[0m| bll_metric: \u001b[1m\u001b[34m0.07370\u001b[0m | Best iteration: \u001b[1m\u001b[34m 204\u001b[0m\n",
      "Fold: \u001b[1m\u001b[34m  5\u001b[0m| bll_metric: \u001b[1m\u001b[34m0.21328\u001b[0m | Best iteration: \u001b[1m\u001b[34m 100\u001b[0m\n",
      "Training with \u001b[1m\u001b[34m38\u001b[0m features\n",
      "Fold: \u001b[1m\u001b[34m  1\u001b[0m| bll_metric: \u001b[1m\u001b[34m0.14805\u001b[0m | Best iteration: \u001b[1m\u001b[34m 192\u001b[0m\n",
      "Fold: \u001b[1m\u001b[34m  2\u001b[0m| bll_metric: \u001b[1m\u001b[34m0.15978\u001b[0m | Best iteration: \u001b[1m\u001b[34m 170\u001b[0m\n",
      "Fold: \u001b[1m\u001b[34m  3\u001b[0m| bll_metric: \u001b[1m\u001b[34m0.15223\u001b[0m | Best iteration: \u001b[1m\u001b[34m 320\u001b[0m\n",
      "Fold: \u001b[1m\u001b[34m  4\u001b[0m| bll_metric: \u001b[1m\u001b[34m0.17303\u001b[0m | Best iteration: \u001b[1m\u001b[34m 188\u001b[0m\n",
      "Fold: \u001b[1m\u001b[34m  5\u001b[0m| bll_metric: \u001b[1m\u001b[34m0.32122\u001b[0m | Best iteration: \u001b[1m\u001b[34m 132\u001b[0m\n",
      "Training with \u001b[1m\u001b[34m38\u001b[0m features\n",
      "Fold: \u001b[1m\u001b[34m  1\u001b[0m| bll_metric: \u001b[1m\u001b[34m0.32983\u001b[0m | Best iteration: \u001b[1m\u001b[34m 123\u001b[0m\n",
      "Fold: \u001b[1m\u001b[34m  2\u001b[0m| bll_metric: \u001b[1m\u001b[34m0.19141\u001b[0m | Best iteration: \u001b[1m\u001b[34m 163\u001b[0m\n",
      "Fold: \u001b[1m\u001b[34m  3\u001b[0m| bll_metric: \u001b[1m\u001b[34m0.12711\u001b[0m | Best iteration: \u001b[1m\u001b[34m 307\u001b[0m\n",
      "Fold: \u001b[1m\u001b[34m  4\u001b[0m| bll_metric: \u001b[1m\u001b[34m0.08983\u001b[0m | Best iteration: \u001b[1m\u001b[34m 404\u001b[0m\n",
      "Fold: \u001b[1m\u001b[34m  5\u001b[0m| bll_metric: \u001b[1m\u001b[34m0.09644\u001b[0m | Best iteration: \u001b[1m\u001b[34m 398\u001b[0m\n",
      "Training with \u001b[1m\u001b[34m38\u001b[0m features\n",
      "Fold: \u001b[1m\u001b[34m  1\u001b[0m| bll_metric: \u001b[1m\u001b[34m0.25502\u001b[0m | Best iteration: \u001b[1m\u001b[34m  65\u001b[0m\n",
      "Fold: \u001b[1m\u001b[34m  2\u001b[0m| bll_metric: \u001b[1m\u001b[34m0.18112\u001b[0m | Best iteration: \u001b[1m\u001b[34m  97\u001b[0m\n",
      "Fold: \u001b[1m\u001b[34m  3\u001b[0m| bll_metric: \u001b[1m\u001b[34m0.19825\u001b[0m | Best iteration: \u001b[1m\u001b[34m  85\u001b[0m\n",
      "Fold: \u001b[1m\u001b[34m  4\u001b[0m| bll_metric: \u001b[1m\u001b[34m0.16610\u001b[0m | Best iteration: \u001b[1m\u001b[34m 196\u001b[0m\n",
      "Fold: \u001b[1m\u001b[34m  5\u001b[0m| bll_metric: \u001b[1m\u001b[34m0.31393\u001b[0m | Best iteration: \u001b[1m\u001b[34m 106\u001b[0m\n",
      "Training with \u001b[1m\u001b[34m38\u001b[0m features\n",
      "Fold: \u001b[1m\u001b[34m  1\u001b[0m| bll_metric: \u001b[1m\u001b[34m0.22448\u001b[0m | Best iteration: \u001b[1m\u001b[34m 207\u001b[0m\n",
      "Fold: \u001b[1m\u001b[34m  2\u001b[0m| bll_metric: \u001b[1m\u001b[34m0.19638\u001b[0m | Best iteration: \u001b[1m\u001b[34m 174\u001b[0m\n",
      "Fold: \u001b[1m\u001b[34m  3\u001b[0m| bll_metric: \u001b[1m\u001b[34m0.21012\u001b[0m | Best iteration: \u001b[1m\u001b[34m 286\u001b[0m\n",
      "Fold: \u001b[1m\u001b[34m  4\u001b[0m| bll_metric: \u001b[1m\u001b[34m0.16705\u001b[0m | Best iteration: \u001b[1m\u001b[34m 258\u001b[0m\n",
      "Fold: \u001b[1m\u001b[34m  5\u001b[0m| bll_metric: \u001b[1m\u001b[34m0.30511\u001b[0m | Best iteration: \u001b[1m\u001b[34m 187\u001b[0m\n",
      "Training with \u001b[1m\u001b[34m38\u001b[0m features\n",
      "Fold: \u001b[1m\u001b[34m  1\u001b[0m| bll_metric: \u001b[1m\u001b[34m0.19681\u001b[0m | Best iteration: \u001b[1m\u001b[34m 216\u001b[0m\n",
      "Fold: \u001b[1m\u001b[34m  2\u001b[0m| bll_metric: \u001b[1m\u001b[34m0.12005\u001b[0m | Best iteration: \u001b[1m\u001b[34m 427\u001b[0m\n",
      "Fold: \u001b[1m\u001b[34m  3\u001b[0m| bll_metric: \u001b[1m\u001b[34m0.20951\u001b[0m | Best iteration: \u001b[1m\u001b[34m 213\u001b[0m\n",
      "Fold: \u001b[1m\u001b[34m  4\u001b[0m| bll_metric: \u001b[1m\u001b[34m0.16618\u001b[0m | Best iteration: \u001b[1m\u001b[34m 184\u001b[0m\n",
      "Fold: \u001b[1m\u001b[34m  5\u001b[0m| bll_metric: \u001b[1m\u001b[34m0.24816\u001b[0m | Best iteration: \u001b[1m\u001b[34m 232\u001b[0m\n",
      "Training with \u001b[1m\u001b[34m38\u001b[0m features\n",
      "Fold: \u001b[1m\u001b[34m  1\u001b[0m| bll_metric: \u001b[1m\u001b[34m0.19742\u001b[0m | Best iteration: \u001b[1m\u001b[34m 261\u001b[0m\n",
      "Fold: \u001b[1m\u001b[34m  2\u001b[0m| bll_metric: \u001b[1m\u001b[34m0.17577\u001b[0m | Best iteration: \u001b[1m\u001b[34m 199\u001b[0m\n",
      "Fold: \u001b[1m\u001b[34m  3\u001b[0m| bll_metric: \u001b[1m\u001b[34m0.26957\u001b[0m | Best iteration: \u001b[1m\u001b[34m 256\u001b[0m\n",
      "Fold: \u001b[1m\u001b[34m  4\u001b[0m| bll_metric: \u001b[1m\u001b[34m0.10216\u001b[0m | Best iteration: \u001b[1m\u001b[34m 536\u001b[0m\n",
      "Fold: \u001b[1m\u001b[34m  5\u001b[0m| bll_metric: \u001b[1m\u001b[34m0.16451\u001b[0m | Best iteration: \u001b[1m\u001b[34m 382\u001b[0m\n",
      "Training with \u001b[1m\u001b[34m38\u001b[0m features\n",
      "Fold: \u001b[1m\u001b[34m  1\u001b[0m| bll_metric: \u001b[1m\u001b[34m0.17020\u001b[0m | Best iteration: \u001b[1m\u001b[34m 147\u001b[0m\n",
      "Fold: \u001b[1m\u001b[34m  2\u001b[0m| bll_metric: \u001b[1m\u001b[34m0.11870\u001b[0m | Best iteration: \u001b[1m\u001b[34m 109\u001b[0m\n",
      "Fold: \u001b[1m\u001b[34m  3\u001b[0m| bll_metric: \u001b[1m\u001b[34m0.24925\u001b[0m | Best iteration: \u001b[1m\u001b[34m 100\u001b[0m\n",
      "Fold: \u001b[1m\u001b[34m  4\u001b[0m| bll_metric: \u001b[1m\u001b[34m0.16316\u001b[0m | Best iteration: \u001b[1m\u001b[34m 115\u001b[0m\n",
      "Fold: \u001b[1m\u001b[34m  5\u001b[0m| bll_metric: \u001b[1m\u001b[34m0.13448\u001b[0m | Best iteration: \u001b[1m\u001b[34m 249\u001b[0m\n",
      "Training with \u001b[1m\u001b[34m38\u001b[0m features\n",
      "Fold: \u001b[1m\u001b[34m  1\u001b[0m| bll_metric: \u001b[1m\u001b[34m0.27644\u001b[0m | Best iteration: \u001b[1m\u001b[34m 184\u001b[0m\n",
      "Fold: \u001b[1m\u001b[34m  2\u001b[0m| bll_metric: \u001b[1m\u001b[34m0.21875\u001b[0m | Best iteration: \u001b[1m\u001b[34m 141\u001b[0m\n",
      "Fold: \u001b[1m\u001b[34m  3\u001b[0m| bll_metric: \u001b[1m\u001b[34m0.08917\u001b[0m | Best iteration: \u001b[1m\u001b[34m 495\u001b[0m\n",
      "Fold: \u001b[1m\u001b[34m  4\u001b[0m| bll_metric: \u001b[1m\u001b[34m0.13196\u001b[0m | Best iteration: \u001b[1m\u001b[34m 177\u001b[0m\n",
      "Fold: \u001b[1m\u001b[34m  5\u001b[0m| bll_metric: \u001b[1m\u001b[34m0.25487\u001b[0m | Best iteration: \u001b[1m\u001b[34m  87\u001b[0m\n",
      "Training with \u001b[1m\u001b[34m38\u001b[0m features\n",
      "Fold: \u001b[1m\u001b[34m  1\u001b[0m| bll_metric: \u001b[1m\u001b[34m0.12161\u001b[0m | Best iteration: \u001b[1m\u001b[34m 324\u001b[0m\n",
      "Fold: \u001b[1m\u001b[34m  2\u001b[0m| bll_metric: \u001b[1m\u001b[34m0.18533\u001b[0m | Best iteration: \u001b[1m\u001b[34m 168\u001b[0m\n",
      "Fold: \u001b[1m\u001b[34m  3\u001b[0m| bll_metric: \u001b[1m\u001b[34m0.13882\u001b[0m | Best iteration: \u001b[1m\u001b[34m 218\u001b[0m\n",
      "Fold: \u001b[1m\u001b[34m  4\u001b[0m| bll_metric: \u001b[1m\u001b[34m0.15673\u001b[0m | Best iteration: \u001b[1m\u001b[34m 187\u001b[0m\n",
      "Fold: \u001b[1m\u001b[34m  5\u001b[0m| bll_metric: \u001b[1m\u001b[34m0.36786\u001b[0m | Best iteration: \u001b[1m\u001b[34m 105\u001b[0m\n",
      "Training with \u001b[1m\u001b[34m38\u001b[0m features\n",
      "Fold: \u001b[1m\u001b[34m  1\u001b[0m| bll_metric: \u001b[1m\u001b[34m0.06272\u001b[0m | Best iteration: \u001b[1m\u001b[34m 537\u001b[0m\n",
      "Fold: \u001b[1m\u001b[34m  2\u001b[0m| bll_metric: \u001b[1m\u001b[34m0.16747\u001b[0m | Best iteration: \u001b[1m\u001b[34m 320\u001b[0m\n",
      "Fold: \u001b[1m\u001b[34m  3\u001b[0m| bll_metric: \u001b[1m\u001b[34m0.26496\u001b[0m | Best iteration: \u001b[1m\u001b[34m 148\u001b[0m\n",
      "Fold: \u001b[1m\u001b[34m  4\u001b[0m| bll_metric: \u001b[1m\u001b[34m0.16541\u001b[0m | Best iteration: \u001b[1m\u001b[34m 203\u001b[0m\n",
      "Fold: \u001b[1m\u001b[34m  5\u001b[0m| bll_metric: \u001b[1m\u001b[34m0.22394\u001b[0m | Best iteration: \u001b[1m\u001b[34m 154\u001b[0m\n",
      "Training with \u001b[1m\u001b[34m38\u001b[0m features\n",
      "Fold: \u001b[1m\u001b[34m  1\u001b[0m| bll_metric: \u001b[1m\u001b[34m0.12994\u001b[0m | Best iteration: \u001b[1m\u001b[34m 397\u001b[0m\n",
      "Fold: \u001b[1m\u001b[34m  2\u001b[0m| bll_metric: \u001b[1m\u001b[34m0.16990\u001b[0m | Best iteration: \u001b[1m\u001b[34m 230\u001b[0m\n",
      "Fold: \u001b[1m\u001b[34m  3\u001b[0m| bll_metric: \u001b[1m\u001b[34m0.27309\u001b[0m | Best iteration: \u001b[1m\u001b[34m 168\u001b[0m\n",
      "Fold: \u001b[1m\u001b[34m  4\u001b[0m| bll_metric: \u001b[1m\u001b[34m0.28494\u001b[0m | Best iteration: \u001b[1m\u001b[34m 232\u001b[0m\n",
      "Fold: \u001b[1m\u001b[34m  5\u001b[0m| bll_metric: \u001b[1m\u001b[34m0.13662\u001b[0m | Best iteration: \u001b[1m\u001b[34m 297\u001b[0m\n",
      "Training with \u001b[1m\u001b[34m38\u001b[0m features\n",
      "Fold: \u001b[1m\u001b[34m  1\u001b[0m| bll_metric: \u001b[1m\u001b[34m0.24574\u001b[0m | Best iteration: \u001b[1m\u001b[34m  83\u001b[0m\n",
      "Fold: \u001b[1m\u001b[34m  2\u001b[0m| bll_metric: \u001b[1m\u001b[34m0.25104\u001b[0m | Best iteration: \u001b[1m\u001b[34m  98\u001b[0m\n",
      "Fold: \u001b[1m\u001b[34m  3\u001b[0m| bll_metric: \u001b[1m\u001b[34m0.24811\u001b[0m | Best iteration: \u001b[1m\u001b[34m  62\u001b[0m\n",
      "Fold: \u001b[1m\u001b[34m  4\u001b[0m| bll_metric: \u001b[1m\u001b[34m0.13607\u001b[0m | Best iteration: \u001b[1m\u001b[34m 211\u001b[0m\n",
      "Fold: \u001b[1m\u001b[34m  5\u001b[0m| bll_metric: \u001b[1m\u001b[34m0.16458\u001b[0m | Best iteration: \u001b[1m\u001b[34m 170\u001b[0m\n",
      "Training with \u001b[1m\u001b[34m38\u001b[0m features\n",
      "Fold: \u001b[1m\u001b[34m  1\u001b[0m| bll_metric: \u001b[1m\u001b[34m0.13398\u001b[0m | Best iteration: \u001b[1m\u001b[34m 245\u001b[0m\n",
      "Fold: \u001b[1m\u001b[34m  2\u001b[0m| bll_metric: \u001b[1m\u001b[34m0.26857\u001b[0m | Best iteration: \u001b[1m\u001b[34m 122\u001b[0m\n",
      "Fold: \u001b[1m\u001b[34m  3\u001b[0m| bll_metric: \u001b[1m\u001b[34m0.09215\u001b[0m | Best iteration: \u001b[1m\u001b[34m 407\u001b[0m\n",
      "Fold: \u001b[1m\u001b[34m  4\u001b[0m| bll_metric: \u001b[1m\u001b[34m0.17181\u001b[0m | Best iteration: \u001b[1m\u001b[34m 146\u001b[0m\n",
      "Fold: \u001b[1m\u001b[34m  5\u001b[0m| bll_metric: \u001b[1m\u001b[34m0.24290\u001b[0m | Best iteration: \u001b[1m\u001b[34m 102\u001b[0m\n",
      "Training with \u001b[1m\u001b[34m38\u001b[0m features\n",
      "Fold: \u001b[1m\u001b[34m  1\u001b[0m| bll_metric: \u001b[1m\u001b[34m0.11689\u001b[0m | Best iteration: \u001b[1m\u001b[34m 509\u001b[0m\n",
      "Fold: \u001b[1m\u001b[34m  2\u001b[0m| bll_metric: \u001b[1m\u001b[34m0.03311\u001b[0m | Best iteration: \u001b[1m\u001b[34m1096\u001b[0m\n",
      "Fold: \u001b[1m\u001b[34m  3\u001b[0m| bll_metric: \u001b[1m\u001b[34m0.30597\u001b[0m | Best iteration: \u001b[1m\u001b[34m 199\u001b[0m\n",
      "Fold: \u001b[1m\u001b[34m  4\u001b[0m| bll_metric: \u001b[1m\u001b[34m0.19322\u001b[0m | Best iteration: \u001b[1m\u001b[34m 290\u001b[0m\n",
      "Fold: \u001b[1m\u001b[34m  5\u001b[0m| bll_metric: \u001b[1m\u001b[34m0.19610\u001b[0m | Best iteration: \u001b[1m\u001b[34m 274\u001b[0m\n",
      "Training with \u001b[1m\u001b[34m38\u001b[0m features\n",
      "Fold: \u001b[1m\u001b[34m  1\u001b[0m| bll_metric: \u001b[1m\u001b[34m0.26023\u001b[0m | Best iteration: \u001b[1m\u001b[34m 211\u001b[0m\n",
      "Fold: \u001b[1m\u001b[34m  2\u001b[0m| bll_metric: \u001b[1m\u001b[34m0.18984\u001b[0m | Best iteration: \u001b[1m\u001b[34m 253\u001b[0m\n",
      "Fold: \u001b[1m\u001b[34m  3\u001b[0m| bll_metric: \u001b[1m\u001b[34m0.07380\u001b[0m | Best iteration: \u001b[1m\u001b[34m 517\u001b[0m\n",
      "Fold: \u001b[1m\u001b[34m  4\u001b[0m| bll_metric: \u001b[1m\u001b[34m0.27085\u001b[0m | Best iteration: \u001b[1m\u001b[34m 183\u001b[0m\n",
      "Fold: \u001b[1m\u001b[34m  5\u001b[0m| bll_metric: \u001b[1m\u001b[34m0.10206\u001b[0m | Best iteration: \u001b[1m\u001b[34m 396\u001b[0m\n",
      "Training with \u001b[1m\u001b[34m38\u001b[0m features\n",
      "Fold: \u001b[1m\u001b[34m  1\u001b[0m| bll_metric: \u001b[1m\u001b[34m0.21631\u001b[0m | Best iteration: \u001b[1m\u001b[34m 205\u001b[0m\n",
      "Fold: \u001b[1m\u001b[34m  2\u001b[0m| bll_metric: \u001b[1m\u001b[34m0.20298\u001b[0m | Best iteration: \u001b[1m\u001b[34m 182\u001b[0m\n",
      "Fold: \u001b[1m\u001b[34m  3\u001b[0m| bll_metric: \u001b[1m\u001b[34m0.20767\u001b[0m | Best iteration: \u001b[1m\u001b[34m 246\u001b[0m\n",
      "Fold: \u001b[1m\u001b[34m  4\u001b[0m| bll_metric: \u001b[1m\u001b[34m0.24620\u001b[0m | Best iteration: \u001b[1m\u001b[34m 180\u001b[0m\n",
      "Fold: \u001b[1m\u001b[34m  5\u001b[0m| bll_metric: \u001b[1m\u001b[34m0.18292\u001b[0m | Best iteration: \u001b[1m\u001b[34m 271\u001b[0m\n",
      "Training with \u001b[1m\u001b[34m38\u001b[0m features\n",
      "Fold: \u001b[1m\u001b[34m  1\u001b[0m| bll_metric: \u001b[1m\u001b[34m0.03421\u001b[0m | Best iteration: \u001b[1m\u001b[34m1063\u001b[0m\n",
      "Fold: \u001b[1m\u001b[34m  2\u001b[0m| bll_metric: \u001b[1m\u001b[34m0.15609\u001b[0m | Best iteration: \u001b[1m\u001b[34m 255\u001b[0m\n",
      "Fold: \u001b[1m\u001b[34m  3\u001b[0m| bll_metric: \u001b[1m\u001b[34m0.26235\u001b[0m | Best iteration: \u001b[1m\u001b[34m 136\u001b[0m\n",
      "Fold: \u001b[1m\u001b[34m  4\u001b[0m| bll_metric: \u001b[1m\u001b[34m0.27321\u001b[0m | Best iteration: \u001b[1m\u001b[34m 274\u001b[0m\n",
      "Fold: \u001b[1m\u001b[34m  5\u001b[0m| bll_metric: \u001b[1m\u001b[34m0.22146\u001b[0m | Best iteration: \u001b[1m\u001b[34m 215\u001b[0m\n",
      "Training with \u001b[1m\u001b[34m38\u001b[0m features\n",
      "Fold: \u001b[1m\u001b[34m  1\u001b[0m| bll_metric: \u001b[1m\u001b[34m0.23920\u001b[0m | Best iteration: \u001b[1m\u001b[34m 196\u001b[0m\n",
      "Fold: \u001b[1m\u001b[34m  2\u001b[0m| bll_metric: \u001b[1m\u001b[34m0.19183\u001b[0m | Best iteration: \u001b[1m\u001b[34m 154\u001b[0m\n",
      "Fold: \u001b[1m\u001b[34m  3\u001b[0m| bll_metric: \u001b[1m\u001b[34m0.14955\u001b[0m | Best iteration: \u001b[1m\u001b[34m 247\u001b[0m\n",
      "Fold: \u001b[1m\u001b[34m  4\u001b[0m| bll_metric: \u001b[1m\u001b[34m0.16126\u001b[0m | Best iteration: \u001b[1m\u001b[34m 147\u001b[0m\n",
      "Fold: \u001b[1m\u001b[34m  5\u001b[0m| bll_metric: \u001b[1m\u001b[34m0.27855\u001b[0m | Best iteration: \u001b[1m\u001b[34m 200\u001b[0m\n",
      "Training with \u001b[1m\u001b[34m38\u001b[0m features\n",
      "Fold: \u001b[1m\u001b[34m  1\u001b[0m| bll_metric: \u001b[1m\u001b[34m0.15965\u001b[0m | Best iteration: \u001b[1m\u001b[34m 221\u001b[0m\n",
      "Fold: \u001b[1m\u001b[34m  2\u001b[0m| bll_metric: \u001b[1m\u001b[34m0.15551\u001b[0m | Best iteration: \u001b[1m\u001b[34m 203\u001b[0m\n",
      "Fold: \u001b[1m\u001b[34m  3\u001b[0m| bll_metric: \u001b[1m\u001b[34m0.19420\u001b[0m | Best iteration: \u001b[1m\u001b[34m 141\u001b[0m\n",
      "Fold: \u001b[1m\u001b[34m  4\u001b[0m| bll_metric: \u001b[1m\u001b[34m0.25442\u001b[0m | Best iteration: \u001b[1m\u001b[34m 111\u001b[0m\n",
      "Fold: \u001b[1m\u001b[34m  5\u001b[0m| bll_metric: \u001b[1m\u001b[34m0.22843\u001b[0m | Best iteration: \u001b[1m\u001b[34m 133\u001b[0m\n",
      "Training with \u001b[1m\u001b[34m38\u001b[0m features\n",
      "Fold: \u001b[1m\u001b[34m  1\u001b[0m| bll_metric: \u001b[1m\u001b[34m0.09449\u001b[0m | Best iteration: \u001b[1m\u001b[34m 527\u001b[0m\n",
      "Fold: \u001b[1m\u001b[34m  2\u001b[0m| bll_metric: \u001b[1m\u001b[34m0.19167\u001b[0m | Best iteration: \u001b[1m\u001b[34m 188\u001b[0m\n",
      "Fold: \u001b[1m\u001b[34m  3\u001b[0m| bll_metric: \u001b[1m\u001b[34m0.18399\u001b[0m | Best iteration: \u001b[1m\u001b[34m 238\u001b[0m\n",
      "Fold: \u001b[1m\u001b[34m  4\u001b[0m| bll_metric: \u001b[1m\u001b[34m0.18933\u001b[0m | Best iteration: \u001b[1m\u001b[34m 145\u001b[0m\n",
      "Fold: \u001b[1m\u001b[34m  5\u001b[0m| bll_metric: \u001b[1m\u001b[34m0.36351\u001b[0m | Best iteration: \u001b[1m\u001b[34m 140\u001b[0m\n",
      "Training with \u001b[1m\u001b[34m38\u001b[0m features\n",
      "Fold: \u001b[1m\u001b[34m  1\u001b[0m| bll_metric: \u001b[1m\u001b[34m0.13776\u001b[0m | Best iteration: \u001b[1m\u001b[34m 256\u001b[0m\n",
      "Fold: \u001b[1m\u001b[34m  2\u001b[0m| bll_metric: \u001b[1m\u001b[34m0.15927\u001b[0m | Best iteration: \u001b[1m\u001b[34m 123\u001b[0m\n",
      "Fold: \u001b[1m\u001b[34m  3\u001b[0m| bll_metric: \u001b[1m\u001b[34m0.29386\u001b[0m | Best iteration: \u001b[1m\u001b[34m 145\u001b[0m\n",
      "Fold: \u001b[1m\u001b[34m  4\u001b[0m| bll_metric: \u001b[1m\u001b[34m0.30622\u001b[0m | Best iteration: \u001b[1m\u001b[34m  96\u001b[0m\n",
      "Fold: \u001b[1m\u001b[34m  5\u001b[0m| bll_metric: \u001b[1m\u001b[34m0.14009\u001b[0m | Best iteration: \u001b[1m\u001b[34m 189\u001b[0m\n",
      "Training with \u001b[1m\u001b[34m38\u001b[0m features\n",
      "Fold: \u001b[1m\u001b[34m  1\u001b[0m| bll_metric: \u001b[1m\u001b[34m0.06599\u001b[0m | Best iteration: \u001b[1m\u001b[34m 177\u001b[0m\n",
      "Fold: \u001b[1m\u001b[34m  2\u001b[0m| bll_metric: \u001b[1m\u001b[34m0.25316\u001b[0m | Best iteration: \u001b[1m\u001b[34m  63\u001b[0m\n",
      "Fold: \u001b[1m\u001b[34m  3\u001b[0m| bll_metric: \u001b[1m\u001b[34m0.21903\u001b[0m | Best iteration: \u001b[1m\u001b[34m  72\u001b[0m\n",
      "Fold: \u001b[1m\u001b[34m  4\u001b[0m| bll_metric: \u001b[1m\u001b[34m0.17807\u001b[0m | Best iteration: \u001b[1m\u001b[34m 115\u001b[0m\n",
      "Fold: \u001b[1m\u001b[34m  5\u001b[0m| bll_metric: \u001b[1m\u001b[34m0.26874\u001b[0m | Best iteration: \u001b[1m\u001b[34m  52\u001b[0m\n",
      "Training with \u001b[1m\u001b[34m38\u001b[0m features\n",
      "Fold: \u001b[1m\u001b[34m  1\u001b[0m| bll_metric: \u001b[1m\u001b[34m0.21789\u001b[0m | Best iteration: \u001b[1m\u001b[34m 293\u001b[0m\n",
      "Fold: \u001b[1m\u001b[34m  2\u001b[0m| bll_metric: \u001b[1m\u001b[34m0.22191\u001b[0m | Best iteration: \u001b[1m\u001b[34m 202\u001b[0m\n",
      "Fold: \u001b[1m\u001b[34m  3\u001b[0m| bll_metric: \u001b[1m\u001b[34m0.29339\u001b[0m | Best iteration: \u001b[1m\u001b[34m 200\u001b[0m\n",
      "Fold: \u001b[1m\u001b[34m  4\u001b[0m| bll_metric: \u001b[1m\u001b[34m0.11006\u001b[0m | Best iteration: \u001b[1m\u001b[34m 307\u001b[0m\n",
      "Fold: \u001b[1m\u001b[34m  5\u001b[0m| bll_metric: \u001b[1m\u001b[34m0.13874\u001b[0m | Best iteration: \u001b[1m\u001b[34m 271\u001b[0m\n",
      "Training with \u001b[1m\u001b[34m38\u001b[0m features\n",
      "Fold: \u001b[1m\u001b[34m  1\u001b[0m| bll_metric: \u001b[1m\u001b[34m0.09618\u001b[0m | Best iteration: \u001b[1m\u001b[34m 171\u001b[0m\n",
      "Fold: \u001b[1m\u001b[34m  2\u001b[0m| bll_metric: \u001b[1m\u001b[34m0.33919\u001b[0m | Best iteration: \u001b[1m\u001b[34m  63\u001b[0m\n",
      "Fold: \u001b[1m\u001b[34m  3\u001b[0m| bll_metric: \u001b[1m\u001b[34m0.18618\u001b[0m | Best iteration: \u001b[1m\u001b[34m 148\u001b[0m\n",
      "Fold: \u001b[1m\u001b[34m  4\u001b[0m| bll_metric: \u001b[1m\u001b[34m0.19327\u001b[0m | Best iteration: \u001b[1m\u001b[34m 144\u001b[0m\n",
      "Fold: \u001b[1m\u001b[34m  5\u001b[0m| bll_metric: \u001b[1m\u001b[34m0.16465\u001b[0m | Best iteration: \u001b[1m\u001b[34m  80\u001b[0m\n",
      "Training with \u001b[1m\u001b[34m38\u001b[0m features\n",
      "Fold: \u001b[1m\u001b[34m  1\u001b[0m| bll_metric: \u001b[1m\u001b[34m0.11645\u001b[0m | Best iteration: \u001b[1m\u001b[34m 451\u001b[0m\n",
      "Fold: \u001b[1m\u001b[34m  2\u001b[0m| bll_metric: \u001b[1m\u001b[34m0.30773\u001b[0m | Best iteration: \u001b[1m\u001b[34m 158\u001b[0m\n",
      "Fold: \u001b[1m\u001b[34m  3\u001b[0m| bll_metric: \u001b[1m\u001b[34m0.23884\u001b[0m | Best iteration: \u001b[1m\u001b[34m 139\u001b[0m\n",
      "Fold: \u001b[1m\u001b[34m  4\u001b[0m| bll_metric: \u001b[1m\u001b[34m0.21267\u001b[0m | Best iteration: \u001b[1m\u001b[34m 230\u001b[0m\n",
      "Fold: \u001b[1m\u001b[34m  5\u001b[0m| bll_metric: \u001b[1m\u001b[34m0.07610\u001b[0m | Best iteration: \u001b[1m\u001b[34m 408\u001b[0m\n",
      "Training with \u001b[1m\u001b[34m38\u001b[0m features\n",
      "Fold: \u001b[1m\u001b[34m  1\u001b[0m| bll_metric: \u001b[1m\u001b[34m0.13886\u001b[0m | Best iteration: \u001b[1m\u001b[34m 204\u001b[0m\n",
      "Fold: \u001b[1m\u001b[34m  2\u001b[0m| bll_metric: \u001b[1m\u001b[34m0.23720\u001b[0m | Best iteration: \u001b[1m\u001b[34m 164\u001b[0m\n",
      "Fold: \u001b[1m\u001b[34m  3\u001b[0m| bll_metric: \u001b[1m\u001b[34m0.14927\u001b[0m | Best iteration: \u001b[1m\u001b[34m 133\u001b[0m\n",
      "Fold: \u001b[1m\u001b[34m  4\u001b[0m| bll_metric: \u001b[1m\u001b[34m0.19353\u001b[0m | Best iteration: \u001b[1m\u001b[34m 199\u001b[0m\n",
      "Fold: \u001b[1m\u001b[34m  5\u001b[0m| bll_metric: \u001b[1m\u001b[34m0.19385\u001b[0m | Best iteration: \u001b[1m\u001b[34m 242\u001b[0m\n"
     ]
    }
   ],
   "source": [
    "def bll_metric(y_true, y_pred):\n",
    "    return 'balanced_log_loss', balanced_log_loss(y_true, y_pred), False\n",
    "\n",
    "def pp_prob(p):\n",
    "    c0 = p[:,0].sum()\n",
    "    c1 = p[:,1:].sum()\n",
    "    new_p = p * np.array([[1/(c0 if i==0 else c1) for i in range(p.shape[1])]])\n",
    "    new_p = new_p / np.sum(new_p,axis=1,keepdims=1)\n",
    "    return np.sum(new_p[:,1:],1,keepdims=False)\n",
    "\n",
    "def model_train(how, best_params):\n",
    "\n",
    "    oof_level2 = np.zeros([train_df['Class'].shape[0], len(best_params) + 1])\n",
    "    oof_level2[:, len(best_params)] = train_df['Class']\n",
    "    oof_level2_test = np.zeros([test_df.shape[0], len(best_params)])\n",
    "    \n",
    "    for i, params in tqdm(enumerate(best_params), total=len(best_params)):\n",
    "        \n",
    "        if how == 'tabpfn':\n",
    "            X, y, test = train_df_tabpfn[num_cols], train_df['Class'], test_df_tabpfn[num_cols]\n",
    "        else:\n",
    "            X, y, test = train_df[features], train_df['Class'], test_df[features]\n",
    "    \n",
    "        kf = MultilabelStratifiedKFold(n_splits=CFG.n_stacking_folds, shuffle=True, random_state=80620231+i)\n",
    "\n",
    "        print(f\"Training with {blu}{len(features)}{res} features\")\n",
    "\n",
    "        for fold, (fit_idx, val_idx) in enumerate(kf.split(X=X, y=greeks.iloc[:,1:4]), start=1):\n",
    "            # Split the dataset according to the fold indexes.\n",
    "            X_train = X.iloc[fit_idx]\n",
    "            X_val = X.iloc[val_idx]\n",
    "            y_train = y.iloc[fit_idx]\n",
    "            y_val = y.iloc[val_idx]\n",
    "\n",
    "            # Make random under- or oversampling to balance classes\n",
    "            if CFG.undersample or CFG.oversample:\n",
    "                if CFG.undersample:\n",
    "                    positive_count_train = y_train.value_counts()[1]\n",
    "                    sampler = RandomUnderSampler(sampling_strategy={0: positive_count_train * class_imbalance, \n",
    "                                                                    1: positive_count_train}, \n",
    "                                                random_state=15062023+i, \n",
    "                                                replacement=True)\n",
    "                elif CFG.oversample:\n",
    "                    negative_count_train = y_train.value_counts()[0]\n",
    "                    sampler = RandomOverSampler(sampling_strategy={0: negative_count_train, \n",
    "                                                                   1: negative_count_train // class_imbalance}, \n",
    "                                                random_state=2306020231+i)\n",
    "\n",
    "                X_train, y_train = sampler.fit_resample(X_train, y_train)\n",
    "            \n",
    "            if how == 'lgbm':\n",
    "                model = lgb.LGBMClassifier(**params)\n",
    "                model.fit(X_train, y_train, eval_set=[(X_val, y_val)], eval_metric=bll_metric, verbose=0)\n",
    "                best_iter = model.best_iteration_\n",
    "            elif how == 'xgboost':\n",
    "                model = xgb.XGBClassifier(**params)\n",
    "                model.fit(X_train, y_train, eval_set=[(X_val, y_val)], verbose=0)\n",
    "                best_iter = model.get_booster().best_iteration\n",
    "            elif how == 'catboost':\n",
    "                train_pool = Pool(X_train, y_train, cat_features=['EJ'])\n",
    "                val_pool = Pool(X_val, y_val, cat_features=['EJ'])   \n",
    "                model = cat.CatBoostClassifier(**params)\n",
    "                model.fit(train_pool, eval_set=val_pool, verbose=0)\n",
    "                best_iter = model.best_iteration_\n",
    "            elif how == 'tabpfn':\n",
    "                model = TabPFNClassifier(N_ensemble_configurations=64, device='cuda:0')\n",
    "                model.fit(X_train, y_train, overwrite_warning=True)\n",
    "                best_iter = 0\n",
    "            else:\n",
    "                return None, None\n",
    "                \n",
    "            if how == 'tabpfn':\n",
    "                val_preds = pp_prob(model.predict_proba(X_val))\n",
    "                oof_level2_test[:, i] += pp_prob(model.predict_proba(test))\n",
    "            else:\n",
    "                val_preds = model.predict_proba(X_val)[:,1]\n",
    "                oof_level2_test[:, i] += model.predict_proba(test)[:,1]\n",
    "            \n",
    "            oof_level2[val_idx, i] = val_preds\n",
    "\n",
    "            val_score = balanced_log_loss(y_val, val_preds)\n",
    "            \n",
    "            print(f'Fold: {blu}{fold:>3}{res}| bll_metric: {blu}{val_score:.5f}{res}'\n",
    "                    f' | Best iteration: {blu}{best_iter:>4}{res}') \n",
    "        \n",
    "    return oof_level2, oof_level2_test / CFG.n_stacking_folds\n",
    "\n",
    "oof_train_list = list()\n",
    "oof_test_list = list()\n",
    "\n",
    "if CFG.lgbm_train:\n",
    "    oof_level2_lgbm, oof_level2_test_lgbm = model_train('lgbm', best_lgbm_params)\n",
    "    oof_train_list.append(oof_level2_lgbm[:,:-1])\n",
    "    oof_test_list.append(oof_level2_test_lgbm)\n",
    "    y = oof_level2_lgbm[:,-1]\n",
    "\n",
    "if CFG.xgb_train:\n",
    "    oof_level2_xgb, oof_level2_test_xgb = model_train('xgboost', best_xgb_params)\n",
    "    oof_train_list.append(oof_level2_xgb[:,:-1])\n",
    "    oof_test_list.append(oof_level2_test_xgb)\n",
    "    y = oof_level2_xgb[:,-1]\n",
    "\n",
    "if CFG.cb_train:\n",
    "    oof_level2_cb, oof_level2_test_cb = model_train('catboost', best_cb_params)\n",
    "    oof_train_list.append(oof_level2_cb[:,:-1])\n",
    "    oof_test_list.append(oof_level2_test_cb)\n",
    "    y = oof_level2_cb[:,-1]\n",
    "\n",
    "if CFG.tabpfn_train:\n",
    "    oof_level2_tabpfn, oof_level2_test_tabpfn = model_train('tabpfn', [i for i in range(CFG.n_stacking_models_tabpfn)])\n",
    "    oof_train_list.append(oof_level2_tabpfn[:,:-1])\n",
    "    oof_test_list.append(oof_level2_test_tabpfn)\n",
    "    y = oof_level2_tabpfn[:,-1]"
   ]
  },
  {
   "attachments": {},
   "cell_type": "markdown",
   "metadata": {},
   "source": [
    "# Blending and Stacking with Logistic Regression"
   ]
  },
  {
   "cell_type": "code",
   "execution_count": 35,
   "metadata": {
    "scrolled": true
   },
   "outputs": [
    {
     "name": "stdout",
     "output_type": "stream",
     "text": [
      "0.17796230631747223\n",
      "0.1391273380256587\n"
     ]
    }
   ],
   "source": [
    "from sklearn.linear_model import LogisticRegression\n",
    "\n",
    "oof_level2 = np.concatenate(oof_train_list, axis=1)\n",
    "oof_level2_test = np.concatenate(oof_test_list, axis=1)\n",
    "\n",
    "X = oof_level2\n",
    "\n",
    "# mean bll\n",
    "print(balanced_log_loss(y, np.mean(X, axis=1)))\n",
    "\n",
    "lr = LogisticRegression(class_weight='balanced')\n",
    "lr.fit(X, y)\n",
    "\n",
    "pred = lr.predict_proba(X)[:,1]\n",
    "\n",
    "# lr bll\n",
    "print(balanced_log_loss(y, pred))\n",
    "\n",
    "weights = lr.coef_[0]"
   ]
  },
  {
   "cell_type": "code",
   "execution_count": 28,
   "metadata": {},
   "outputs": [],
   "source": [
    "# LGBM full dataset\n",
    "# 0.13372873188516746\n",
    "# 0.09363332625161021\n",
    "\n",
    "# LGBM full dataset with adjusted scaling\n",
    "# 0.13467176782918622\n",
    "# 0.09374656290880284\n",
    "\n",
    "# full dataset with class balance 3\n",
    "# 0.18130449603081458\n",
    "# 0.13249114243596113\n",
    "\n",
    "# undersample with class balance 3\n",
    "# 0.11174849200860162\n",
    "# 0.09973545010826133\n",
    "\n",
    "# undersample with class balance 3 and different undersamping for every model (validatidation was not undersampled)\n",
    "# 0.19671222032350008 / CV ~ 0.21\n",
    "# 0.12812153512778934\n",
    "\n",
    "# oversample with class balance 3\n",
    "# 0.17393849284307183\n",
    "# 0.11238039356223456\n",
    "\n",
    "# oversample with class balance 3 and different undersamping for every model (validatidation was not undersampled)\n",
    "# 0.17459339388826078\n",
    "# 0.11296531409464912\n"
   ]
  },
  {
   "cell_type": "code",
   "execution_count": 29,
   "metadata": {},
   "outputs": [],
   "source": [
    "# LGBM + CatBoost + XGBoost + TabPFN\n",
    "# 0.17472710249039772\n",
    "# 0.09683636947851168\n",
    "\n",
    "# LGBM oversampled 10 folds\n",
    "# 0.1899300127485599\n",
    "# 0.1321074079639491\n",
    "\n",
    "# LGBM + CatBoost + XGBoost + TabPFN + different k-fold for every model\n",
    "# 0.17616782811158316\n",
    "# 0.09637187593530008\n",
    "\n",
    "# LGBM + CatBoost + XGBoost + TabPFN + different k-fold for every model + 20 folds\n",
    "# 0.16113327662498975\n",
    "# 0.08182251667662065\n",
    "\n",
    "# LGBM 20 folds\n",
    "# 0.13372873188516746\n",
    "# 0.09363332625161021"
   ]
  },
  {
   "attachments": {},
   "cell_type": "markdown",
   "metadata": {},
   "source": [
    "# Which objects are the most erroneus?"
   ]
  },
  {
   "cell_type": "code",
   "execution_count": 30,
   "metadata": {},
   "outputs": [
    {
     "data": {
      "text/plain": [
       "[292, 102, 509, 313, 380, 337, 367]"
      ]
     },
     "execution_count": 30,
     "metadata": {},
     "output_type": "execute_result"
    }
   ],
   "source": [
    "preds = np.mean(X, axis=1)\n",
    "errors = pd.Series(np.abs(y - preds))\n",
    "errors = errors.sort_values(ascending=False) \n",
    "errors[errors >= errors.quantile(0.99)].index.to_list()\n"
   ]
  },
  {
   "attachments": {},
   "cell_type": "markdown",
   "metadata": {},
   "source": [
    "# Find the best class threshold"
   ]
  },
  {
   "cell_type": "code",
   "execution_count": 31,
   "metadata": {},
   "outputs": [],
   "source": [
    "def pp_prob3(_oof, _p, num=1.5):\n",
    "    # increase (num > 1) or decrease (num < 1) binary prediction value\n",
    "    oof = num * _oof / ((num - 1) * _oof + 1)\n",
    "    p = num * _p / ((num - 1) * _p + 1)\n",
    "    return oof, p\n",
    "\n",
    "def inflate_preds(_y, _oof, _p):\n",
    "    # find the best num multiplier for binary prediction\n",
    "    best_score = np.inf\n",
    "    best_num = None\n",
    "    best_oof = None\n",
    "    best_p = None\n",
    "    \n",
    "    candidates = np.linspace(0.05,5,100)\n",
    "    for num in candidates:\n",
    "        curr_oof, curr_p = pp_prob3(_oof, _p, num)\n",
    "        curr_score = balanced_log_loss(_y, curr_oof)\n",
    "        if curr_score < best_score:\n",
    "            best_num = num\n",
    "            best_score = curr_score\n",
    "            best_p = curr_p\n",
    "            best_oof = curr_oof\n",
    "    print('best num:', round(best_num, 2), '/ best score:', best_score)\n",
    "    return best_oof, best_p"
   ]
  },
  {
   "attachments": {},
   "cell_type": "markdown",
   "metadata": {},
   "source": [
    "# Predict test"
   ]
  },
  {
   "cell_type": "code",
   "execution_count": 32,
   "metadata": {
    "execution": {
     "iopub.status.busy": "2023-06-08T15:32:38.352845Z",
     "iopub.status.idle": "2023-06-08T15:32:38.353222Z",
     "shell.execute_reply": "2023-06-08T15:32:38.353059Z",
     "shell.execute_reply.started": "2023-06-08T15:32:38.353042Z"
    },
    "scrolled": false
   },
   "outputs": [
    {
     "data": {
      "text/html": [
       "<div>\n",
       "<style scoped>\n",
       "    .dataframe tbody tr th:only-of-type {\n",
       "        vertical-align: middle;\n",
       "    }\n",
       "\n",
       "    .dataframe tbody tr th {\n",
       "        vertical-align: top;\n",
       "    }\n",
       "\n",
       "    .dataframe thead th {\n",
       "        text-align: right;\n",
       "    }\n",
       "</style>\n",
       "<table border=\"1\" class=\"dataframe\">\n",
       "  <thead>\n",
       "    <tr style=\"text-align: right;\">\n",
       "      <th></th>\n",
       "      <th>Id</th>\n",
       "      <th>class_0</th>\n",
       "      <th>class_1</th>\n",
       "    </tr>\n",
       "  </thead>\n",
       "  <tbody>\n",
       "    <tr>\n",
       "      <th>0</th>\n",
       "      <td>00eed32682bb</td>\n",
       "      <td>0.7518</td>\n",
       "      <td>0.2482</td>\n",
       "    </tr>\n",
       "    <tr>\n",
       "      <th>1</th>\n",
       "      <td>010ebe33f668</td>\n",
       "      <td>0.7518</td>\n",
       "      <td>0.2482</td>\n",
       "    </tr>\n",
       "    <tr>\n",
       "      <th>2</th>\n",
       "      <td>02fa521e1838</td>\n",
       "      <td>0.7518</td>\n",
       "      <td>0.2482</td>\n",
       "    </tr>\n",
       "    <tr>\n",
       "      <th>3</th>\n",
       "      <td>040e15f562a2</td>\n",
       "      <td>0.7518</td>\n",
       "      <td>0.2482</td>\n",
       "    </tr>\n",
       "    <tr>\n",
       "      <th>4</th>\n",
       "      <td>046e85c7cc7f</td>\n",
       "      <td>0.7518</td>\n",
       "      <td>0.2482</td>\n",
       "    </tr>\n",
       "  </tbody>\n",
       "</table>\n",
       "</div>"
      ],
      "text/plain": [
       "             Id  class_0  class_1\n",
       "0  00eed32682bb   0.7518   0.2482\n",
       "1  010ebe33f668   0.7518   0.2482\n",
       "2  02fa521e1838   0.7518   0.2482\n",
       "3  040e15f562a2   0.7518   0.2482\n",
       "4  046e85c7cc7f   0.7518   0.2482"
      ]
     },
     "execution_count": 32,
     "metadata": {},
     "output_type": "execute_result"
    }
   ],
   "source": [
    "def predict(X):\n",
    "    y = np.zeros(len(X))\n",
    "    for i in range(oof_level2_test.shape[1]):\n",
    "        # y += weights[i] * oof_level2_test[:,i]\n",
    "        y += oof_level2_test[:,i]\n",
    "    # return y / sum(weights)\n",
    "    return y / oof_level2_test.shape[1]\n",
    "\n",
    "predictions = predict(test_df[features])\n",
    "\n",
    "if CFG.adjust_class_threshold:\n",
    "    _, predictions = inflate_preds(y, np.mean(X, axis=1), predictions)\n",
    "\n",
    "test_df['class_1'] = predictions\n",
    "test_df['class_0'] = 1 - predictions\n",
    "\n",
    "sample_submission[['class_0', 'class_1']] = test_df[['class_0', 'class_1']]\n",
    "sample_submission.to_csv(r\"submission.csv\", index=False)\n",
    "sample_submission"
   ]
  }
 ],
 "metadata": {
  "kernelspec": {
   "display_name": "Python 3 (ipykernel)",
   "language": "python",
   "name": "python3"
  },
  "language_info": {
   "codemirror_mode": {
    "name": "ipython",
    "version": 3
   },
   "file_extension": ".py",
   "mimetype": "text/x-python",
   "name": "python",
   "nbconvert_exporter": "python",
   "pygments_lexer": "ipython3",
   "version": "3.11.4"
  }
 },
 "nbformat": 4,
 "nbformat_minor": 4
}
