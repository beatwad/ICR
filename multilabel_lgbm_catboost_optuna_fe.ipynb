{
 "cells": [
  {
   "cell_type": "code",
   "execution_count": 1,
   "metadata": {
    "_kg_hide-input": true,
    "_kg_hide-output": true,
    "execution": {
     "iopub.execute_input": "2023-06-08T15:31:23.665663Z",
     "iopub.status.busy": "2023-06-08T15:31:23.665223Z",
     "iopub.status.idle": "2023-06-08T15:31:35.997437Z",
     "shell.execute_reply": "2023-06-08T15:31:35.996163Z",
     "shell.execute_reply.started": "2023-06-08T15:31:23.665630Z"
    }
   },
   "outputs": [],
   "source": [
    "import math\n",
    "\n",
    "import numpy as np\n",
    "import pandas as pd\n",
    "\n",
    "import lightgbm as lgb\n",
    "import catboost as cat\n",
    "from catboost import Pool\n",
    "import xgboost as xgb\n",
    "\n",
    "import itertools\n",
    "from imblearn.under_sampling import RandomUnderSampler\n",
    "from sklearn.model_selection import StratifiedKFold\n",
    "from sklearn.model_selection._split import _BaseKFold, _RepeatedSplits, BaseShuffleSplit, _validate_shuffle_split\n",
    "from sklearn.preprocessing import StandardScaler\n",
    "from sklearn.feature_selection import RFE\n",
    "from sklearn.metrics import log_loss\n",
    "\n",
    "from sklearn.utils import check_random_state\n",
    "from sklearn.utils.validation import _num_samples, check_array\n",
    "from sklearn.utils.multiclass import type_of_target\n",
    "\n",
    "from scipy import stats\n",
    "\n",
    "import eli5\n",
    "from IPython.display import display\n",
    "from eli5.permutation_importance import get_score_importances\n",
    "from eli5.sklearn import PermutationImportance\n",
    "\n",
    "import matplotlib.pyplot as plt\n",
    "from tqdm.auto import tqdm\n",
    "import seaborn as sns\n",
    "\n",
    "import optuna\n",
    "\n",
    "import warnings\n",
    "warnings.filterwarnings('ignore')\n",
    "\n",
    "pd.set_option('display.max_rows', 100)\n",
    "pd.set_option('display.max_columns', 100)\n",
    "\n",
    "\n",
    "from colorama import Style, Fore\n",
    "\n",
    "palette = ['#302c36', '#037d97', '#E4591E', '#C09741',\n",
    "           '#EC5B6D', '#90A6B1', '#6ca957', '#D8E3E2']\n",
    "\n",
    "blk = Style.BRIGHT + Fore.BLACK\n",
    "red = Style.BRIGHT + Fore.RED\n",
    "blu = Style.BRIGHT + Fore.BLUE\n",
    "res = Style.RESET_ALL\n",
    "\n",
    "\n",
    "class CFG:\n",
    "    kaggle = False\n",
    "    undersample = False\n",
    "    test = False\n",
    "    fe_drop = True\n",
    "    del_errs = False\n",
    "    del_outliers = True\n",
    "    \n",
    "    feature_sel = False\n",
    "    n_feature_sel_folds = 5\n",
    "    \n",
    "    n_estimators = 3000\n",
    "    early_stopping_rounds = 100\n",
    "    \n",
    "    lgbm_optimize = True\n",
    "    xgb_optimize = True\n",
    "    cb_optimize = True\n",
    "    \n",
    "    n_trials = 500\n",
    "    n_optimize_folds = 10\n",
    "    n_optimize_repeats = 1\n",
    "    \n",
    "    lgbm_train = True\n",
    "    xgb_train = True\n",
    "    cb_train = True\n",
    "\n",
    "    n_stacking_folds = 10\n",
    "    n_stacking_models = 20\n",
    "    "
   ]
  },
  {
   "attachments": {},
   "cell_type": "markdown",
   "metadata": {},
   "source": [
    "# Load Data"
   ]
  },
  {
   "cell_type": "code",
   "execution_count": 2,
   "metadata": {
    "execution": {
     "iopub.execute_input": "2023-06-08T15:31:36.001085Z",
     "iopub.status.busy": "2023-06-08T15:31:35.999808Z",
     "iopub.status.idle": "2023-06-08T15:31:36.066222Z",
     "shell.execute_reply": "2023-06-08T15:31:36.064862Z",
     "shell.execute_reply.started": "2023-06-08T15:31:36.001050Z"
    }
   },
   "outputs": [],
   "source": [
    "if CFG.kaggle:\n",
    "    COMP_PATH = \"/kaggle/input/icr-identify-age-related-conditions\"\n",
    "else:\n",
    "    COMP_PATH = \"icr-identify-age-related-conditions\"\n",
    "\n",
    "train_df = pd.read_csv(f'{COMP_PATH}//train.csv')\n",
    "test_df = pd.read_csv(f'{COMP_PATH}/test.csv')\n",
    "greeks = pd.read_csv(f\"{COMP_PATH}/greeks.csv\")\n",
    "sample_submission = pd.read_csv(f\"{COMP_PATH}/sample_submission.csv\")\n",
    "\n",
    "train_df['EJ'] = train_df['EJ'].replace({'A': 0, 'B': 1})\n",
    "test_df['EJ'] = test_df['EJ'].replace({'A': 0, 'B': 1})\n",
    "\n",
    "train_df.columns = train_df.columns.str.replace(' ', '')\n",
    "test_df.columns = test_df.columns.str.replace(' ', '')\n",
    "\n",
    "# train_df.drop('Id',axis=1, inplace=True)\n",
    "# train_df.fillna(train_df.median(), inplace=True)"
   ]
  },
  {
   "attachments": {},
   "cell_type": "markdown",
   "metadata": {},
   "source": [
    "# Standard Scaler"
   ]
  },
  {
   "cell_type": "code",
   "execution_count": 3,
   "metadata": {
    "execution": {
     "iopub.execute_input": "2023-06-08T15:31:36.069293Z",
     "iopub.status.busy": "2023-06-08T15:31:36.068506Z",
     "iopub.status.idle": "2023-06-08T15:31:36.075275Z",
     "shell.execute_reply": "2023-06-08T15:31:36.074052Z",
     "shell.execute_reply.started": "2023-06-08T15:31:36.069253Z"
    }
   },
   "outputs": [],
   "source": [
    "# scaler = StandardScaler()\n",
    "# new_num_cols = train_df.select_dtypes(include=['float64']).columns\n",
    "\n",
    "# train_df[new_num_cols] = scaler.fit_transform(train_df[new_num_cols])\n",
    "# test_df[new_num_cols] = scaler.transform(test_df[new_num_cols])"
   ]
  },
  {
   "attachments": {},
   "cell_type": "markdown",
   "metadata": {},
   "source": [
    "# Log features (preserve sign)"
   ]
  },
  {
   "cell_type": "code",
   "execution_count": 4,
   "metadata": {},
   "outputs": [],
   "source": [
    "# for f in features:\n",
    "#     train_df[f] = np.sign(train_df[f]) * np.log1p(np.abs(train_df[f])) # no significant result for LGBM"
   ]
  },
  {
   "attachments": {},
   "cell_type": "markdown",
   "metadata": {},
   "source": [
    "# Delete outliers"
   ]
  },
  {
   "cell_type": "code",
   "execution_count": 5,
   "metadata": {},
   "outputs": [],
   "source": [
    "features_with_outliers = [fe for fe in train_df.columns if fe not in ['BN', 'BQ', 'CW', 'EL', 'GH', \n",
    "                                                                      'GI', 'GL', 'Id', 'Class', 'EJ']]\n",
    "\n",
    "if CFG.del_outliers:\n",
    "    for f in features_with_outliers:\n",
    "        train_df[f] = train_df[f].clip(upper=train_df[f].quantile(0.99))"
   ]
  },
  {
   "attachments": {},
   "cell_type": "markdown",
   "metadata": {},
   "source": [
    "# Delete erroneus objects"
   ]
  },
  {
   "cell_type": "code",
   "execution_count": 6,
   "metadata": {},
   "outputs": [],
   "source": [
    "if CFG.del_errs:\n",
    "    err_objs = [292, 102, 509, 367, 313, 462, 556]\n",
    "    train_df = train_df.loc[[i for i in train_df.index if i not in err_objs], :].reset_index(drop=True)\n",
    "    greeks = greeks.loc[[i for i in greeks.index if i not in err_objs], :].reset_index(drop=True)\n",
    "\n",
    "class_imbalance = train_df[train_df['Class'] == 0].shape[0] / train_df[train_df['Class'] == 1].shape[0]"
   ]
  },
  {
   "attachments": {},
   "cell_type": "markdown",
   "metadata": {},
   "source": [
    "# NaN imputing"
   ]
  },
  {
   "cell_type": "code",
   "execution_count": 7,
   "metadata": {},
   "outputs": [],
   "source": [
    "# from sklearn.impute import KNNImputer\n",
    "# from sklearn.metrics import pairwise_distances\n",
    "\n",
    "\n",
    "# train_df['BQ'] = train_df['BQ'].fillna(train_df['BQ'].min())\n",
    "# train_df['EL'] = train_df['EL'].fillna(train_df['EL'].mode()[0])\n",
    "\n",
    "\n",
    "# features = [fe for fe in train_df.columns if fe not in ['Id','Class']]\n",
    "\n",
    "# def cosine_dist(X, Y, metric='cosine', missing_values=np.nan, **kwargs):\n",
    "#     X[np.isnan(X)]=0\n",
    "#     Y[np.isnan(Y)]=0\n",
    "#     return pairwise_distances(X=X.reshape(-1, 1), \n",
    "#                               Y=Y.reshape(-1, 1), \n",
    "#                               metric='cosine').sum()\n",
    "\n",
    "# imputer = KNNImputer(n_neighbors=5, metric=cosine_dist)\n",
    "# imputer.fit_transform(train_df[features])"
   ]
  },
  {
   "attachments": {},
   "cell_type": "markdown",
   "metadata": {},
   "source": [
    "# Feature generation"
   ]
  },
  {
   "cell_type": "code",
   "execution_count": 8,
   "metadata": {
    "execution": {
     "iopub.execute_input": "2023-06-08T15:31:36.080972Z",
     "iopub.status.busy": "2023-06-08T15:31:36.079281Z",
     "iopub.status.idle": "2023-06-08T15:31:44.412385Z",
     "shell.execute_reply": "2023-06-08T15:31:44.411508Z",
     "shell.execute_reply.started": "2023-06-08T15:31:36.080912Z"
    }
   },
   "outputs": [],
   "source": [
    "# features = train_df.drop(['Class', 'Id'], axis=1).columns\n",
    "\n",
    "# features = [fe for fe in train_df.columns if fe not in ['CF', 'CB', 'DV', 'BR', 'DF', 'GB', 'AH', \n",
    "#                                                         'CW', 'CL', 'BP', 'BD', 'FC', 'GE', 'GF',\n",
    "#                                                         'AR', 'GI', 'Id', 'Class', 'AX']]\n",
    "\n",
    "# def gen_features(features, df):\n",
    "#     generated_features = pd.DataFrame()\n",
    "\n",
    "#     for fe_a, fe_b in tqdm(itertools.combinations(features, 2), total=sum([1 for i in itertools.combinations(features, 2)])):\n",
    "\n",
    "# #         generated_features[f'{fe_a}_2']        = df[fe_a].pow(2)\n",
    "# #         generated_features[f'{fe_b}_2']        = df[fe_b].pow(2)\n",
    "# #         generated_features[f'{fe_a}*{fe_b}_2'] = df[fe_a] * df[fe_b].pow(2)\n",
    "# #         generated_features[f'{fe_a}_2*{fe_b}'] = df[fe_a].pow(2) * df[fe_b]\n",
    "\n",
    "# #         generated_features[f'{fe_a}_05'] = df[fe_a].pow(0.5)\n",
    "# #         generated_features[f'{fe_b}_05'] = df[fe_b].pow(0.5)\n",
    "# #         generated_features[f'{fe_a}*{fe_b}_05'] = df[fe_a] * df[fe_b].pow(0.5)\n",
    "# #         generated_features[f'{fe_a}_05*{fe_b}'] = df[fe_a].pow(0.5) * df[fe_b]\n",
    "\n",
    "# #         generated_features[f'{fe_a}_log'] = np.log(df[fe_a])\n",
    "# #         generated_features[f'{fe_b}_log'] = np.log(df[fe_b])\n",
    "# #         generated_features[f'{fe_a}*{fe_b}_log'] = df[fe_a] * np.log(df[fe_b])\n",
    "# #         generated_features[f'{fe_a}_log*{fe_b}'] = np.log(df[fe_a]) * df[fe_b]\n",
    "        \n",
    "#     generated_features = generated_features[selected]\n",
    "#     generated_features = pd.concat([generated_features, df[features]], axis=1)\n",
    "    \n",
    "#     # prevent inf\n",
    "#     for g in generated_features.columns:\n",
    "#         generated_features[g] = np.minimum(np.maximum(generated_features[g], -1e9), 1e9)\n",
    "    \n",
    "#     return generated_features\n",
    "\n",
    "# generated_features_train = gen_features(features, train_df)\n",
    "# generated_features_test = gen_features(features, test_df)\n",
    "\n",
    "# features = generated_features_train.columns"
   ]
  },
  {
   "attachments": {},
   "cell_type": "markdown",
   "metadata": {},
   "source": [
    "# Add distance features"
   ]
  },
  {
   "cell_type": "code",
   "execution_count": 9,
   "metadata": {},
   "outputs": [],
   "source": [
    "# from sklearn.neighbors import NearestNeighbors, KNeighborsClassifier\n",
    "\n",
    "# features = train_df.drop(['Class', 'Id'], axis=1).columns\n",
    "\n",
    "# # average label of 20 Nearest Neighbours (colsine distance)\n",
    "# knn = NearestNeighbors(n_neighbors=10, metric='cosine', n_jobs=-1)\n",
    "# knn.fit(train_df[features].fillna(0))\n",
    "\n",
    "# # train\n",
    "# dists, nears = knn.kneighbors(train_df[features].fillna(0), return_distance=True)\n",
    "# dists, nears = dists[:,1:], nears[:,1:]\n",
    "\n",
    "# classes = np.array([train_df.loc[n, 'Class'] for n in nears])\n",
    "# train_df['class_cos'] = np.array(classes[i].mean() for i in range(len(nears)))\n",
    "# train_df['class_cos'] = train_df['class_cos'].astype(float)\n",
    "\n",
    "# # test\n",
    "# dists, nears = knn.kneighbors(test_df[features].fillna(0), return_distance=True)\n",
    "# dists, nears = dists[:,1:], nears[:,1:]\n",
    "\n",
    "# classes = np.array([train_df.loc[n, 'Class'] for n in nears])\n",
    "# test_df['class_cos'] = np.array(classes[i].mean() for i in range(len(nears)))\n",
    "# test_df['class_cos'] = test_df['class_cos'].astype(float)"
   ]
  },
  {
   "attachments": {},
   "cell_type": "markdown",
   "metadata": {},
   "source": [
    "# Drop not necessary features"
   ]
  },
  {
   "cell_type": "code",
   "execution_count": 10,
   "metadata": {},
   "outputs": [
    {
     "data": {
      "text/plain": [
       "39"
      ]
     },
     "execution_count": 10,
     "metadata": {},
     "output_type": "execute_result"
    }
   ],
   "source": [
    "if CFG.fe_drop:\n",
    "    features = [fe for fe in train_df.columns if fe not in ['CF', 'CB', 'DV', 'BR', 'DF', 'GB', 'AH',\n",
    "                                                            'CW', 'CL', 'BP', 'BD', 'FC', 'GE', 'GF',\n",
    "                                                            'AR', 'GI', 'Id', 'Class', 'AX']]  # drop DA and CD, add AH\n",
    "else:\n",
    "    features = [fe for fe in train_df.columns if fe not in ['Id', 'Class']]\n",
    "\n",
    "len(features)"
   ]
  },
  {
   "attachments": {},
   "cell_type": "markdown",
   "metadata": {},
   "source": [
    "# Multilabel Stratification"
   ]
  },
  {
   "cell_type": "code",
   "execution_count": 11,
   "metadata": {
    "execution": {
     "iopub.execute_input": "2023-06-08T15:31:44.414098Z",
     "iopub.status.busy": "2023-06-08T15:31:44.413784Z",
     "iopub.status.idle": "2023-06-08T15:31:44.461531Z",
     "shell.execute_reply": "2023-06-08T15:31:44.460184Z",
     "shell.execute_reply.started": "2023-06-08T15:31:44.414071Z"
    }
   },
   "outputs": [],
   "source": [
    "def IterativeStratification(labels, r, random_state):\n",
    "    \"\"\"This function implements the Iterative Stratification algorithm described\n",
    "    in the following paper:\n",
    "    Sechidis K., Tsoumakas G., Vlahavas I. (2011) On the Stratification of\n",
    "    Multi-Label Data. In: Gunopulos D., Hofmann T., Malerba D., Vazirgiannis M.\n",
    "    (eds) Machine Learning and Knowledge Discovery in Databases. ECML PKDD\n",
    "    2011. Lecture Notes in Computer Science, vol 6913. Springer, Berlin,\n",
    "    Heidelberg.\n",
    "    \"\"\"\n",
    "\n",
    "    n_samples = labels.shape[0]\n",
    "    test_folds = np.zeros(n_samples, dtype=int)\n",
    "\n",
    "    # Calculate the desired number of examples at each subset\n",
    "    c_folds = r * n_samples\n",
    "\n",
    "    # Calculate the desired number of examples of each label at each subset\n",
    "    c_folds_labels = np.outer(r, labels.sum(axis=0))\n",
    "\n",
    "    labels_not_processed_mask = np.ones(n_samples, dtype=bool)\n",
    "\n",
    "    while np.any(labels_not_processed_mask):\n",
    "        # Find the label with the fewest (but at least one) remaining examples,\n",
    "        # breaking ties randomly\n",
    "        num_labels = labels[labels_not_processed_mask].sum(axis=0)\n",
    "\n",
    "        # Handle case where only all-zero labels are left by distributing\n",
    "        # across all folds as evenly as possible (not in original algorithm but\n",
    "        # mentioned in the text). (By handling this case separately, some\n",
    "        # code redundancy is introduced; however, this approach allows for\n",
    "        # decreased execution time when there are a relatively large number\n",
    "        # of all-zero labels.)\n",
    "        if num_labels.sum() == 0:\n",
    "            sample_idxs = np.where(labels_not_processed_mask)[0]\n",
    "\n",
    "            for sample_idx in sample_idxs:\n",
    "                fold_idx = np.where(c_folds == c_folds.max())[0]\n",
    "\n",
    "                if fold_idx.shape[0] > 1:\n",
    "                    fold_idx = fold_idx[random_state.choice(fold_idx.shape[0])]\n",
    "\n",
    "                test_folds[sample_idx] = fold_idx\n",
    "                c_folds[fold_idx] -= 1\n",
    "\n",
    "            break\n",
    "\n",
    "        label_idx = np.where(num_labels == num_labels[np.nonzero(num_labels)].min())[0]\n",
    "        if label_idx.shape[0] > 1:\n",
    "            label_idx = label_idx[random_state.choice(label_idx.shape[0])]\n",
    "\n",
    "        sample_idxs = np.where(np.logical_and(labels[:, label_idx].flatten(), labels_not_processed_mask))[0]\n",
    "\n",
    "        for sample_idx in sample_idxs:\n",
    "            # Find the subset(s) with the largest number of desired examples\n",
    "            # for this label, breaking ties by considering the largest number\n",
    "            # of desired examples, breaking further ties randomly\n",
    "            label_folds = c_folds_labels[:, label_idx]\n",
    "            fold_idx = np.where(label_folds == label_folds.max())[0]\n",
    "\n",
    "            if fold_idx.shape[0] > 1:\n",
    "                temp_fold_idx = np.where(c_folds[fold_idx] ==\n",
    "                                         c_folds[fold_idx].max())[0]\n",
    "                fold_idx = fold_idx[temp_fold_idx]\n",
    "\n",
    "                if temp_fold_idx.shape[0] > 1:\n",
    "                    fold_idx = fold_idx[random_state.choice(temp_fold_idx.shape[0])]\n",
    "\n",
    "            test_folds[sample_idx] = fold_idx\n",
    "            labels_not_processed_mask[sample_idx] = False\n",
    "\n",
    "            # Update desired number of examples\n",
    "            c_folds_labels[fold_idx, labels[sample_idx]] -= 1\n",
    "            c_folds[fold_idx] -= 1\n",
    "\n",
    "    return test_folds\n",
    "\n",
    "\n",
    "class MultilabelStratifiedKFold(_BaseKFold):\n",
    "    \"\"\"Multilabel stratified K-Folds cross-validator\n",
    "    Provides train/test indices to split multilabel data into train/test sets.\n",
    "    This cross-validation object is a variation of KFold that returns\n",
    "    stratified folds for multilabel data. The folds are made by preserving\n",
    "    the percentage of samples for each label.\n",
    "    Parameters\n",
    "    ----------\n",
    "    n_splits : int, default=3\n",
    "        Number of folds. Must be at least 2.\n",
    "    shuffle : boolean, optional\n",
    "        Whether to shuffle each stratification of the data before splitting\n",
    "        into batches.\n",
    "    random_state : int, RandomState instance or None, optional, default=None\n",
    "        If int, random_state is the seed used by the random number generator;\n",
    "        If RandomState instance, random_state is the random number generator;\n",
    "        If None, the random number generator is the RandomState instance used\n",
    "        by `np.random`. Unlike StratifiedKFold that only uses random_state\n",
    "        when ``shuffle`` == True, this multilabel implementation\n",
    "        always uses the random_state since the iterative stratification\n",
    "        algorithm breaks ties randomly.\n",
    "    Examples\n",
    "    --------\n",
    "    >>> from iterstrat.ml_stratifiers import MultilabelStratifiedKFold\n",
    "    >>> import numpy as np\n",
    "    >>> X = np.array([[1,2], [3,4], [1,2], [3,4], [1,2], [3,4], [1,2], [3,4]])\n",
    "    >>> y = np.array([[0,0], [0,0], [0,1], [0,1], [1,1], [1,1], [1,0], [1,0]])\n",
    "    >>> mskf = MultilabelStratifiedKFold(n_splits=2, random_state=0)\n",
    "    >>> mskf.get_n_splits(X, y)\n",
    "    2\n",
    "    >>> print(mskf)  # doctest: +NORMALIZE_WHITESPACE\n",
    "    MultilabelStratifiedKFold(n_splits=2, random_state=0, shuffle=False)\n",
    "    >>> for train_index, test_index in mskf.split(X, y):\n",
    "    ...    print(\"TRAIN:\", train_index, \"TEST:\", test_index)\n",
    "    ...    X_train, X_test = X[train_index], X[test_index]\n",
    "    ...    y_train, y_test = y[train_index], y[test_index]\n",
    "    TRAIN: [0 3 4 6] TEST: [1 2 5 7]\n",
    "    TRAIN: [1 2 5 7] TEST: [0 3 4 6]\n",
    "    Notes\n",
    "    -----\n",
    "    Train and test sizes may be slightly different in each fold.\n",
    "    See also\n",
    "    --------\n",
    "    RepeatedMultilabelStratifiedKFold: Repeats Multilabel Stratified K-Fold\n",
    "    n times.\n",
    "    \"\"\"\n",
    "\n",
    "    def __init__(self, n_splits=3, *, shuffle=False, random_state=None):\n",
    "        super(MultilabelStratifiedKFold, self).__init__(n_splits=n_splits, shuffle=shuffle, random_state=random_state)\n",
    "\n",
    "    def _make_test_folds(self, X, y):\n",
    "        y = np.asarray(y, dtype=bool)\n",
    "        type_of_target_y = type_of_target(y)\n",
    "\n",
    "        if type_of_target_y != 'multilabel-indicator':\n",
    "            raise ValueError(\n",
    "                'Supported target type is: multilabel-indicator. Got {!r} instead.'.format(type_of_target_y))\n",
    "\n",
    "        num_samples = y.shape[0]\n",
    "\n",
    "        rng = check_random_state(self.random_state)\n",
    "        indices = np.arange(num_samples)\n",
    "\n",
    "        if self.shuffle:\n",
    "            rng.shuffle(indices)\n",
    "            y = y[indices]\n",
    "\n",
    "        r = np.asarray([1 / self.n_splits] * self.n_splits)\n",
    "\n",
    "        test_folds = IterativeStratification(labels=y, r=r, random_state=rng)\n",
    "\n",
    "        return test_folds[np.argsort(indices)]\n",
    "\n",
    "    def _iter_test_masks(self, X=None, y=None, groups=None):\n",
    "        test_folds = self._make_test_folds(X, y)\n",
    "        for i in range(self.n_splits):\n",
    "            yield test_folds == i\n",
    "\n",
    "    def split(self, X, y, groups=None):\n",
    "        \"\"\"Generate indices to split data into training and test set.\n",
    "        Parameters\n",
    "        ----------\n",
    "        X : array-like, shape (n_samples, n_features)\n",
    "            Training data, where n_samples is the number of samples\n",
    "            and n_features is the number of features.\n",
    "            Note that providing ``y`` is sufficient to generate the splits and\n",
    "            hence ``np.zeros(n_samples)`` may be used as a placeholder for\n",
    "            ``X`` instead of actual training data.\n",
    "        y : array-like, shape (n_samples, n_labels)\n",
    "            The target variable for supervised learning problems.\n",
    "            Multilabel stratification is done based on the y labels.\n",
    "        groups : object\n",
    "            Always ignored, exists for compatibility.\n",
    "        Returns\n",
    "        -------\n",
    "        train : ndarray\n",
    "            The training set indices for that split.\n",
    "        test : ndarray\n",
    "            The testing set indices for that split.\n",
    "        Notes\n",
    "        -----\n",
    "        Randomized CV splitters may return different results for each call of\n",
    "        split. You can make the results identical by setting ``random_state``\n",
    "        to an integer.\n",
    "        \"\"\"\n",
    "        y = check_array(y, ensure_2d=False, dtype=None)\n",
    "        return super(MultilabelStratifiedKFold, self).split(X, y, groups)\n",
    "\n",
    "\n",
    "class RepeatedMultilabelStratifiedKFold(_RepeatedSplits):\n",
    "    \"\"\"Repeated Multilabel Stratified K-Fold cross validator.\n",
    "    Repeats Mulilabel Stratified K-Fold n times with different randomization\n",
    "    in each repetition.\n",
    "    Parameters\n",
    "    ----------\n",
    "    n_splits : int, default=5\n",
    "        Number of folds. Must be at least 2.\n",
    "    n_repeats : int, default=10\n",
    "        Number of times cross-validator needs to be repeated.\n",
    "    random_state : None, int or RandomState, default=None\n",
    "        Random state to be used to generate random state for each\n",
    "        repetition as well as randomly breaking ties within the iterative\n",
    "        stratification algorithm.\n",
    "    Examples\n",
    "    --------\n",
    "    >>> from iterstrat.ml_stratifiers import RepeatedMultilabelStratifiedKFold\n",
    "    >>> import numpy as np\n",
    "    >>> X = np.array([[1,2], [3,4], [1,2], [3,4], [1,2], [3,4], [1,2], [3,4]])\n",
    "    >>> y = np.array([[0,0], [0,0], [0,1], [0,1], [1,1], [1,1], [1,0], [1,0]])\n",
    "    >>> rmskf = RepeatedMultilabelStratifiedKFold(n_splits=2, n_repeats=2,\n",
    "    ...     random_state=0)\n",
    "    >>> for train_index, test_index in rmskf.split(X, y):\n",
    "    ...     print(\"TRAIN:\", train_index, \"TEST:\", test_index)\n",
    "    ...     X_train, X_test = X[train_index], X[test_index]\n",
    "    ...     y_train, y_test = y[train_index], y[test_index]\n",
    "    ...\n",
    "    TRAIN: [0 3 4 6] TEST: [1 2 5 7]\n",
    "    TRAIN: [1 2 5 7] TEST: [0 3 4 6]\n",
    "    TRAIN: [0 1 4 5] TEST: [2 3 6 7]\n",
    "    TRAIN: [2 3 6 7] TEST: [0 1 4 5]\n",
    "    See also\n",
    "    --------\n",
    "    RepeatedStratifiedKFold: Repeats (Non-multilabel) Stratified K-Fold\n",
    "    n times.\n",
    "    \"\"\"\n",
    "    def __init__(self, n_splits=5, *, n_repeats=10, random_state=None):\n",
    "        super(RepeatedMultilabelStratifiedKFold, self).__init__(\n",
    "            MultilabelStratifiedKFold, n_repeats=n_repeats, random_state=random_state,\n",
    "            n_splits=n_splits)\n",
    "\n",
    "\n",
    "class MultilabelStratifiedShuffleSplit(BaseShuffleSplit):\n",
    "    \"\"\"Multilabel Stratified ShuffleSplit cross-validator\n",
    "    Provides train/test indices to split data into train/test sets.\n",
    "    This cross-validation object is a merge of MultilabelStratifiedKFold and\n",
    "    ShuffleSplit, which returns stratified randomized folds for multilabel\n",
    "    data. The folds are made by preserving the percentage of each label.\n",
    "    Note: like the ShuffleSplit strategy, multilabel stratified random splits\n",
    "    do not guarantee that all folds will be different, although this is\n",
    "    still very likely for sizeable datasets.\n",
    "    Parameters\n",
    "    ----------\n",
    "    n_splits : int, default 10\n",
    "        Number of re-shuffling & splitting iterations.\n",
    "    test_size : float, int, None, optional\n",
    "        If float, should be between 0.0 and 1.0 and represent the proportion\n",
    "        of the dataset to include in the test split. If int, represents the\n",
    "        absolute number of test samples. If None, the value is set to the\n",
    "        complement of the train size. By default, the value is set to 0.1.\n",
    "        The default will change in version 0.21. It will remain 0.1 only\n",
    "        if ``train_size`` is unspecified, otherwise it will complement\n",
    "        the specified ``train_size``.\n",
    "    train_size : float, int, or None, default is None\n",
    "        If float, should be between 0.0 and 1.0 and represent the\n",
    "        proportion of the dataset to include in the train split. If\n",
    "        int, represents the absolute number of train samples. If None,\n",
    "        the value is automatically set to the complement of the test size.\n",
    "    random_state : int, RandomState instance or None, optional (default=None)\n",
    "        If int, random_state is the seed used by the random number generator;\n",
    "        If RandomState instance, random_state is the random number generator;\n",
    "        If None, the random number generator is the RandomState instance used\n",
    "        by `np.random`. Unlike StratifiedShuffleSplit that only uses\n",
    "        random_state when ``shuffle`` == True, this multilabel implementation\n",
    "        always uses the random_state since the iterative stratification\n",
    "        algorithm breaks ties randomly.\n",
    "    Examples\n",
    "    --------\n",
    "    >>> from iterstrat.ml_stratifiers import MultilabelStratifiedShuffleSplit\n",
    "    >>> import numpy as np\n",
    "    >>> X = np.array([[1,2], [3,4], [1,2], [3,4], [1,2], [3,4], [1,2], [3,4]])\n",
    "    >>> y = np.array([[0,0], [0,0], [0,1], [0,1], [1,1], [1,1], [1,0], [1,0]])\n",
    "    >>> msss = MultilabelStratifiedShuffleSplit(n_splits=3, test_size=0.5,\n",
    "    ...    random_state=0)\n",
    "    >>> msss.get_n_splits(X, y)\n",
    "    3\n",
    "    >>> print(mss)       # doctest: +ELLIPSIS\n",
    "    MultilabelStratifiedShuffleSplit(n_splits=3, random_state=0, test_size=0.5,\n",
    "                                     train_size=None)\n",
    "    >>> for train_index, test_index in msss.split(X, y):\n",
    "    ...    print(\"TRAIN:\", train_index, \"TEST:\", test_index)\n",
    "    ...    X_train, X_test = X[train_index], X[test_index]\n",
    "    ...    y_train, y_test = y[train_index], y[test_index]\n",
    "    TRAIN: [1 2 5 7] TEST: [0 3 4 6]\n",
    "    TRAIN: [2 3 6 7] TEST: [0 1 4 5]\n",
    "    TRAIN: [1 2 5 6] TEST: [0 3 4 7]\n",
    "    Notes\n",
    "    -----\n",
    "    Train and test sizes may be slightly different from desired due to the\n",
    "    preference of stratification over perfectly sized folds.\n",
    "    \"\"\"\n",
    "\n",
    "    def __init__(self, n_splits=10, *, test_size=\"default\", train_size=None,\n",
    "                 random_state=None):\n",
    "        super(MultilabelStratifiedShuffleSplit, self).__init__(\n",
    "            n_splits=n_splits, test_size=test_size, train_size=train_size, random_state=random_state)\n",
    "\n",
    "    def _iter_indices(self, X, y, groups=None):\n",
    "        n_samples = _num_samples(X)\n",
    "        y = check_array(y, ensure_2d=False, dtype=None)\n",
    "        y = np.asarray(y, dtype=bool)\n",
    "        type_of_target_y = type_of_target(y)\n",
    "\n",
    "        if type_of_target_y != 'multilabel-indicator':\n",
    "            raise ValueError(\n",
    "                'Supported target type is: multilabel-indicator. Got {!r} instead.'.format(\n",
    "                    type_of_target_y))\n",
    "\n",
    "        n_train, n_test = _validate_shuffle_split(n_samples, self.test_size,\n",
    "                                                  self.train_size)\n",
    "\n",
    "        n_samples = y.shape[0]\n",
    "        rng = check_random_state(self.random_state)\n",
    "        y_orig = y.copy()\n",
    "\n",
    "        r = np.array([n_train, n_test]) / (n_train + n_test)\n",
    "\n",
    "        for _ in range(self.n_splits):\n",
    "            indices = np.arange(n_samples)\n",
    "            rng.shuffle(indices)\n",
    "            y = y_orig[indices]\n",
    "\n",
    "            test_folds = IterativeStratification(labels=y, r=r, random_state=rng)\n",
    "\n",
    "            test_idx = test_folds[np.argsort(indices)] == 1\n",
    "            test = np.where(test_idx)[0]\n",
    "            train = np.where(~test_idx)[0]\n",
    "\n",
    "            yield train, test\n",
    "\n",
    "    def split(self, X, y, groups=None):\n",
    "        \"\"\"Generate indices to split data into training and test set.\n",
    "        Parameters\n",
    "        ----------\n",
    "        X : array-like, shape (n_samples, n_features)\n",
    "            Training data, where n_samples is the number of samples\n",
    "            and n_features is the number of features.\n",
    "            Note that providing ``y`` is sufficient to generate the splits and\n",
    "            hence ``np.zeros(n_samples)`` may be used as a placeholder for\n",
    "            ``X`` instead of actual training data.\n",
    "        y : array-like, shape (n_samples, n_labels)\n",
    "            The target variable for supervised learning problems.\n",
    "            Multilabel stratification is done based on the y labels.\n",
    "        groups : object\n",
    "            Always ignored, exists for compatibility.\n",
    "        Returns\n",
    "        -------\n",
    "        train : ndarray\n",
    "            The training set indices for that split.\n",
    "        test : ndarray\n",
    "            The testing set indices for that split.\n",
    "        Notes\n",
    "        -----\n",
    "        Randomized CV splitters may return different results for each call of\n",
    "        split. You can make the results identical by setting ``random_state``\n",
    "        to an integer.\n",
    "        \"\"\"\n",
    "        y = check_array(y, ensure_2d=False, dtype=None)\n",
    "        return super(MultilabelStratifiedShuffleSplit, self).split(X, y, groups)"
   ]
  },
  {
   "attachments": {},
   "cell_type": "markdown",
   "metadata": {},
   "source": [
    "# LGBM feature selection"
   ]
  },
  {
   "cell_type": "code",
   "execution_count": 12,
   "metadata": {
    "execution": {
     "iopub.execute_input": "2023-06-08T15:32:41.223344Z",
     "iopub.status.busy": "2023-06-08T15:32:41.222954Z"
    },
    "scrolled": true
   },
   "outputs": [],
   "source": [
    "if not CFG.kaggle:\n",
    "\n",
    "    from shaphypetune import BoostBoruta\n",
    "\n",
    "    params = {\n",
    "                'n_estimators': CFG.n_estimators,\n",
    "                'early_stopping_round': CFG.early_stopping_rounds,\n",
    "                'objective': 'binary',\n",
    "                'metric': 'logloss', \n",
    "                'n_jobs': -1,\n",
    "                'is_unbalance':True, \n",
    "                'verbose': -1,\n",
    "                'seed': 19062023,\n",
    "            }\n",
    "\n",
    "    def balanced_log_loss(y_true, y_pred):\n",
    "\n",
    "        # Nc is the number of observations\n",
    "        N_1 = np.sum(y_true == 1, axis=0)\n",
    "        N_0 = np.sum(y_true == 0, axis=0)\n",
    "\n",
    "        # In order to avoid the extremes of the log function, each predicted probability 𝑝 is replaced with max(min(𝑝,1−10−15),10−15)\n",
    "        y_pred = np.clip(y_pred, 1e-15, 1 - 1e-15)\n",
    "\n",
    "        # balanced logarithmic loss\n",
    "        loss_numerator = - (1/N_0) * np.sum((1 - y_true) * np.log(1 - y_pred)) - (1/N_1) * np.sum(y_true * np.log(y_pred))\n",
    "\n",
    "        return loss_numerator / 2\n",
    "\n",
    "    def bll_metric(y_true, y_pred):\n",
    "        return 'balanced_log_loss', balanced_log_loss(y_true, y_pred), False\n",
    "\n",
    "    def calc_log_loss_weight(y_true): \n",
    "        '''w0, w1 assign different weights to individual data points during training.'''\n",
    "        nc = np.bincount(y_true)\n",
    "        w0, w1 = 1/(nc[0]/y_true.shape[0]), 1/(nc[1]/y_true.shape[0])\n",
    "        return w0, w1\n",
    "\n",
    "    def lgbm_tuning(features, permut=False, boruta=False):\n",
    "        metric = balanced_log_loss\n",
    "        eval_results_ = {}\n",
    "\n",
    "        cv_scores = [] # store all cv scores of outer loop inference\n",
    "\n",
    "        perm_df_ = pd.DataFrame()\n",
    "        feature_importances_ = pd.DataFrame()\n",
    "        boruta_df_ = pd.DataFrame()\n",
    "        \n",
    "        for i in range(CFG.n_optimize_repeats):\n",
    "            print(f'Repeat {blu}#{i+1}')\n",
    "            \n",
    "            # Make random under-sampling to balance classes\n",
    "            positive_count_train = train_df['Class'].value_counts()[1]\n",
    "            sampler = RandomUnderSampler(sampling_strategy={0: positive_count_train, \n",
    "                                                            1: positive_count_train}, \n",
    "                                        random_state=15062023+i, \n",
    "                                        replacement=True)\n",
    "\n",
    "            X_re, y_re = pd.concat([train_df[features], greeks.iloc[:,1:4]], axis=1), train_df['Class']\n",
    "            \n",
    "            if CFG.undersample:\n",
    "                X_re, y_re = sampler.fit_resample(X_re, y_re)\n",
    "            \n",
    "            # Create Stratified Multilabel k-Fold scheme\n",
    "            kf = MultilabelStratifiedKFold(n_splits=CFG.n_feature_sel_folds, shuffle=True, random_state=8062023+i)\n",
    "\n",
    "            # Create an oof array for inner loop\n",
    "            oof = np.zeros(X_re.shape[0])\n",
    "            \n",
    "            # Stratify based on Class and Alpha (3 types of conditions)\n",
    "            for fold, (train_idx, val_idx) in enumerate(kf.split(X=X_re[features], y=X_re.iloc[:,-3:]), start = 1): \n",
    "                X, y = X_re[features], y_re\n",
    "\n",
    "                # Split the dataset according to the fold indexes.\n",
    "                X_train = X.iloc[train_idx]\n",
    "                X_val = X.iloc[val_idx]\n",
    "                y_train = y.iloc[train_idx]\n",
    "                y_val = y.iloc[val_idx]\n",
    "\n",
    "\n",
    "                X_train = X_train.reset_index(drop=True)\n",
    "                y_train = y_train.reset_index(drop=True)\n",
    "\n",
    "                # Store models here\n",
    "                models_ = [] \n",
    "\n",
    "                eval_results_[fold]= {}\n",
    "\n",
    "                clf = lgb.LGBMClassifier(**params)\n",
    "                clf.fit(X_train, y_train, eval_set=[(X_val, y_val)], \n",
    "                        eval_metric=bll_metric, # eval_sample_weight=w_val, \n",
    "                        verbose=1)\n",
    "\n",
    "                models_.append(clf)\n",
    "\n",
    "                val_preds = clf.predict_proba(X_val)[:,1]\n",
    "                oof[val_idx] = val_preds\n",
    "\n",
    "                val_score = metric(y_val, val_preds)\n",
    "                best_iter = clf.best_iteration_\n",
    "\n",
    "                print(f'Fold: {blu}{fold:>3}{res}| {metric.__name__}: {blu}{val_score:.5f}{res}'\n",
    "                    f' | Best iteration: {blu}{best_iter:>4}{res}')\n",
    "\n",
    "                # permutation importance\n",
    "                if permut:\n",
    "                    perm = PermutationImportance(clf, scoring=None, n_iter=1, \n",
    "                                                random_state=42, cv=None, refit=False).fit(X_val, y_val)\n",
    "\n",
    "                    perm_importance_df = pd.DataFrame({'importance': perm.feature_importances_}, \n",
    "                                                    index=X_val.columns).sort_index()\n",
    "\n",
    "                    if perm_df_.shape[0] == 0:\n",
    "                        perm_df_ = perm_importance_df.copy()\n",
    "                    else:\n",
    "                        perm_df_ += perm_importance_df\n",
    "\n",
    "                # tree feature importance\n",
    "                f_i = pd.DataFrame(sorted(zip(clf.feature_importances_, X.columns), \n",
    "                                                reverse=True, key=lambda x: x[1]), \n",
    "                                columns=['Value','Feature'])\n",
    "\n",
    "                if feature_importances_.shape[0] == 0:\n",
    "                    feature_importances_ = f_i.copy()\n",
    "                else:\n",
    "\n",
    "                    feature_importances_['Value'] += f_i['Value']\n",
    "\n",
    "                # Boruta SHAP importance\n",
    "                if boruta:\n",
    "                    model = BoostBoruta(clf, importance_type='shap_importances', train_importance=False)\n",
    "                    model.fit(X_train, y_train, eval_set=[(X_val, y_val)], \n",
    "                            eval_metric=bll_metric, early_stopping_rounds=300, verbose=-1)\n",
    "\n",
    "                    boruta_importance_df = pd.DataFrame({'importance': model.ranking_}, \n",
    "                                                        index=X_train.columns).sort_index()\n",
    "                    if boruta_df_.shape[0] == 0:\n",
    "                        boruta_df_ = boruta_importance_df.copy()\n",
    "                    else:\n",
    "                        boruta_df_ += boruta_importance_df\n",
    "\n",
    "            fold_cv_score = metric(y_re, oof)\n",
    "            print(f'{red} CV score: {res} {metric.__name__}: {red}{fold_cv_score:.5f}{res}')\n",
    "            print(f'{\"*\" * 50}\\n')\n",
    "            cv_scores.append(fold_cv_score)\n",
    "\n",
    "\n",
    "        print(f'{red} Avg score {CFG.n_feature_sel_folds}-fold: {res} {metric.__name__}: {red}{np.mean(cv_scores):.5f}{res}')\n",
    "        print(f'{\"*\" * 50}\\n')\n",
    "        \n",
    "        if permut:\n",
    "            perm_df_ = perm_df_.sort_values('importance', ascending=False)\n",
    "            \n",
    "        if boruta:\n",
    "            boruta_df_ = boruta_df_.sort_values('importance')\n",
    "                                        \n",
    "        feature_importances_ = feature_importances_.sort_values('Value', ascending=False)\n",
    "        \n",
    "        return perm_df_, feature_importances_, boruta_df_, np.mean(cv_scores)\n",
    "\n",
    "    if CFG.feature_sel:\n",
    "        perm_df_, feature_importances_, boruta_df_, cv_scores = lgbm_tuning(features, permut=False, boruta=False)"
   ]
  },
  {
   "attachments": {},
   "cell_type": "markdown",
   "metadata": {},
   "source": [
    "# Check features correlation"
   ]
  },
  {
   "cell_type": "code",
   "execution_count": 13,
   "metadata": {
    "scrolled": false
   },
   "outputs": [],
   "source": [
    "if CFG.feature_sel:\n",
    "    col = 'DA'\n",
    "    x = train_df[train_df[col] <= train_df[col].quantile(0.99)]\n",
    "    cm = x[[c for c in train_df.columns if c not in ['Id', 'Class']]].corr()\n",
    "    display(np.abs(cm[col]).sort_values(ascending=False)[1:])"
   ]
  },
  {
   "attachments": {},
   "cell_type": "markdown",
   "metadata": {},
   "source": [
    "# Analyze permutation feature importance"
   ]
  },
  {
   "cell_type": "code",
   "execution_count": 14,
   "metadata": {
    "execution": {
     "iopub.execute_input": "2023-06-08T15:32:11.619184Z",
     "iopub.status.busy": "2023-06-08T15:32:11.618864Z",
     "iopub.status.idle": "2023-06-08T15:32:11.652915Z",
     "shell.execute_reply": "2023-06-08T15:32:11.652069Z",
     "shell.execute_reply.started": "2023-06-08T15:32:11.619157Z"
    },
    "scrolled": false
   },
   "outputs": [],
   "source": [
    "if CFG.feature_sel:\n",
    "    perm_df_.to_csv('perm_df.csv')\n",
    "    perm_df_\n",
    "    perm_cols = set(perm_df_.index[-35:])\n",
    "    display(perm_cols)"
   ]
  },
  {
   "attachments": {},
   "cell_type": "markdown",
   "metadata": {},
   "source": [
    "# Analyze tree gain feature importance"
   ]
  },
  {
   "cell_type": "code",
   "execution_count": 15,
   "metadata": {
    "execution": {
     "iopub.execute_input": "2023-06-08T15:32:11.654626Z",
     "iopub.status.busy": "2023-06-08T15:32:11.654102Z",
     "iopub.status.idle": "2023-06-08T15:32:11.669674Z",
     "shell.execute_reply": "2023-06-08T15:32:11.668840Z",
     "shell.execute_reply.started": "2023-06-08T15:32:11.654583Z"
    },
    "scrolled": false
   },
   "outputs": [],
   "source": [
    "if CFG.feature_sel:\n",
    "    feature_importances_.to_csv('feature_importances.csv')\n",
    "    feature_importances_\n",
    "    fi_cols = set(feature_importances_['Feature'].values[-23:])\n",
    "    display(fi_cols)"
   ]
  },
  {
   "attachments": {},
   "cell_type": "markdown",
   "metadata": {},
   "source": [
    "# Analyze BORUTA importance"
   ]
  },
  {
   "cell_type": "code",
   "execution_count": 16,
   "metadata": {},
   "outputs": [],
   "source": [
    "if CFG.feature_sel:\n",
    "    boruta_df_.to_csv('boruta_df_.csv')\n",
    "    boruta_df_\n",
    "    boruta_cols = set(boruta_df_.index[-35:])\n",
    "    display(boruta_cols)"
   ]
  },
  {
   "attachments": {},
   "cell_type": "markdown",
   "metadata": {},
   "source": [
    "# LGBM Optuna optimization"
   ]
  },
  {
   "cell_type": "code",
   "execution_count": 17,
   "metadata": {
    "scrolled": true
   },
   "outputs": [
    {
     "name": "stderr",
     "output_type": "stream",
     "text": [
      "[I 2023-06-22 16:40:58,099] A new study created in memory with name: no-name-b79e6526-34b0-4656-a98f-ad7c57e7ddd3\n"
     ]
    },
    {
     "name": "stdout",
     "output_type": "stream",
     "text": [
      "Repeat \u001b[1m\u001b[34m#1\n"
     ]
    },
    {
     "name": "stderr",
     "output_type": "stream",
     "text": [
      "[I 2023-06-22 16:41:09,787] Trial 0 finished with value: 0.3186319038605169 and parameters: {'boosting_type': 'gbdt', 'learning_rate': 0.001821505760555391, 'reg_alpha': 3.904715831550278e-08, 'reg_lambda': 1.0324178823180345e-08, 'max_depth': 9, 'num_leaves': 103, 'colsample_bytree': 0.6497764437890301, 'min_child_samples': 98, 'max_bin': 38, 'subsample_freq': 2, 'subsample': 0.576775192550405}. Best is trial 0 with value: 0.3186319038605169.\n"
     ]
    },
    {
     "name": "stdout",
     "output_type": "stream",
     "text": [
      "Repeat \u001b[1m\u001b[34m#1\n"
     ]
    },
    {
     "name": "stderr",
     "output_type": "stream",
     "text": [
      "[I 2023-06-22 16:41:12,964] Trial 1 finished with value: 0.2568783744561685 and parameters: {'boosting_type': 'goss', 'learning_rate': 0.041341701943880274, 'reg_alpha': 0.09879626445306941, 'reg_lambda': 2.2679056018059923e-06, 'max_depth': 7, 'num_leaves': 9, 'colsample_bytree': 0.5869281474940897, 'min_child_samples': 65, 'max_bin': 219, 'subsample_freq': 6}. Best is trial 1 with value: 0.2568783744561685.\n"
     ]
    },
    {
     "name": "stdout",
     "output_type": "stream",
     "text": [
      "Repeat \u001b[1m\u001b[34m#1\n"
     ]
    },
    {
     "name": "stderr",
     "output_type": "stream",
     "text": [
      "[I 2023-06-22 16:41:28,437] Trial 2 finished with value: 0.28396769980501185 and parameters: {'boosting_type': 'gbdt', 'learning_rate': 0.0016202445500377437, 'reg_alpha': 2.6051191358907335e-07, 'reg_lambda': 0.01628197893078698, 'max_depth': 10, 'num_leaves': 76, 'colsample_bytree': 0.3892638517618457, 'min_child_samples': 39, 'max_bin': 169, 'subsample_freq': 3, 'subsample': 0.4997878564721717}. Best is trial 1 with value: 0.2568783744561685.\n"
     ]
    },
    {
     "name": "stdout",
     "output_type": "stream",
     "text": [
      "Repeat \u001b[1m\u001b[34m#1\n"
     ]
    },
    {
     "name": "stderr",
     "output_type": "stream",
     "text": [
      "[I 2023-06-22 16:41:29,649] Trial 3 finished with value: 0.22299064973023458 and parameters: {'boosting_type': 'gbdt', 'learning_rate': 0.2413685854069597, 'reg_alpha': 0.0006699501238233984, 'reg_lambda': 0.09045947954183339, 'max_depth': 4, 'num_leaves': 85, 'colsample_bytree': 0.31930923085259094, 'min_child_samples': 25, 'max_bin': 142, 'subsample_freq': 1, 'subsample': 0.6217776150096721}. Best is trial 3 with value: 0.22299064973023458.\n"
     ]
    },
    {
     "name": "stdout",
     "output_type": "stream",
     "text": [
      "Repeat \u001b[1m\u001b[34m#1\n"
     ]
    },
    {
     "name": "stderr",
     "output_type": "stream",
     "text": [
      "[I 2023-06-22 16:41:54,889] Trial 4 finished with value: 0.2845579503586092 and parameters: {'boosting_type': 'gbdt', 'learning_rate': 0.0018409297721524109, 'reg_alpha': 7.82769108361893e-05, 'reg_lambda': 1.1488833219429471e-08, 'max_depth': 10, 'num_leaves': 127, 'colsample_bytree': 0.4424393022092785, 'min_child_samples': 14, 'max_bin': 127, 'subsample_freq': 3, 'subsample': 0.5135332630831397}. Best is trial 3 with value: 0.22299064973023458.\n"
     ]
    },
    {
     "name": "stdout",
     "output_type": "stream",
     "text": [
      "Repeat \u001b[1m\u001b[34m#1\n"
     ]
    },
    {
     "name": "stderr",
     "output_type": "stream",
     "text": [
      "[I 2023-06-22 16:41:55,423] Trial 5 finished with value: 0.4918017829454837 and parameters: {'boosting_type': 'goss', 'learning_rate': 0.10300501679888846, 'reg_alpha': 0.00015474677644079654, 'reg_lambda': 2.5604350504191155e-08, 'max_depth': 8, 'num_leaves': 112, 'colsample_bytree': 0.5119519261490526, 'min_child_samples': 84, 'max_bin': 37, 'subsample_freq': 1}. Best is trial 3 with value: 0.22299064973023458.\n"
     ]
    },
    {
     "name": "stdout",
     "output_type": "stream",
     "text": [
      "Repeat \u001b[1m\u001b[34m#1\n"
     ]
    },
    {
     "name": "stderr",
     "output_type": "stream",
     "text": [
      "[I 2023-06-22 16:41:58,682] Trial 6 finished with value: 0.28961207079290163 and parameters: {'boosting_type': 'goss', 'learning_rate': 0.0344350914649467, 'reg_alpha': 0.0005028383198157064, 'reg_lambda': 0.007187676353361791, 'max_depth': 10, 'num_leaves': 33, 'colsample_bytree': 0.3990644020034128, 'min_child_samples': 70, 'max_bin': 154, 'subsample_freq': 1}. Best is trial 3 with value: 0.22299064973023458.\n"
     ]
    },
    {
     "name": "stdout",
     "output_type": "stream",
     "text": [
      "Repeat \u001b[1m\u001b[34m#1\n"
     ]
    },
    {
     "name": "stderr",
     "output_type": "stream",
     "text": [
      "[I 2023-06-22 16:42:00,027] Trial 7 finished with value: 0.2293088598541665 and parameters: {'boosting_type': 'gbdt', 'learning_rate': 0.23696846932555243, 'reg_alpha': 2.066653692185669e-06, 'reg_lambda': 1.5554688425184235, 'max_depth': 4, 'num_leaves': 34, 'colsample_bytree': 0.3695674700294891, 'min_child_samples': 43, 'max_bin': 147, 'subsample_freq': 1, 'subsample': 0.4633767789112247}. Best is trial 3 with value: 0.22299064973023458.\n"
     ]
    },
    {
     "name": "stdout",
     "output_type": "stream",
     "text": [
      "Repeat \u001b[1m\u001b[34m#1\n"
     ]
    },
    {
     "name": "stderr",
     "output_type": "stream",
     "text": [
      "[I 2023-06-22 16:42:02,473] Trial 8 finished with value: 0.2894766693763556 and parameters: {'boosting_type': 'gbdt', 'learning_rate': 0.0472430366850248, 'reg_alpha': 9.381768501243558, 'reg_lambda': 1.1332812667799795e-05, 'max_depth': 7, 'num_leaves': 42, 'colsample_bytree': 0.591790184344177, 'min_child_samples': 48, 'max_bin': 195, 'subsample_freq': 4, 'subsample': 0.38298095359641965}. Best is trial 3 with value: 0.22299064973023458.\n"
     ]
    },
    {
     "name": "stdout",
     "output_type": "stream",
     "text": [
      "Repeat \u001b[1m\u001b[34m#1\n"
     ]
    },
    {
     "name": "stderr",
     "output_type": "stream",
     "text": [
      "[I 2023-06-22 16:42:16,374] Trial 9 finished with value: 0.3363221820080495 and parameters: {'boosting_type': 'gbdt', 'learning_rate': 0.0009245923677324027, 'reg_alpha': 0.0010951739943006735, 'reg_lambda': 4.748036502245393e-08, 'max_depth': 7, 'num_leaves': 56, 'colsample_bytree': 0.6160234574001178, 'min_child_samples': 39, 'max_bin': 236, 'subsample_freq': 6, 'subsample': 0.46730699482981486}. Best is trial 3 with value: 0.22299064973023458.\n"
     ]
    },
    {
     "name": "stdout",
     "output_type": "stream",
     "text": [
      "Repeat \u001b[1m\u001b[34m#1\n"
     ]
    },
    {
     "name": "stderr",
     "output_type": "stream",
     "text": [
      "[I 2023-06-22 16:42:34,226] Trial 10 finished with value: 0.6162142241408517 and parameters: {'boosting_type': 'goss', 'learning_rate': 0.00018650850604326146, 'reg_alpha': 1.2167712845006882e-08, 'reg_lambda': 1.6983317877930098, 'max_depth': 4, 'num_leaves': 80, 'colsample_bytree': 0.3096695855836379, 'min_child_samples': 8, 'max_bin': 89, 'subsample_freq': 5}. Best is trial 3 with value: 0.22299064973023458.\n"
     ]
    },
    {
     "name": "stdout",
     "output_type": "stream",
     "text": [
      "Repeat \u001b[1m\u001b[34m#1\n"
     ]
    },
    {
     "name": "stderr",
     "output_type": "stream",
     "text": [
      "[I 2023-06-22 16:42:36,284] Trial 11 finished with value: 0.22027796404035066 and parameters: {'boosting_type': 'gbdt', 'learning_rate': 0.19600980326650808, 'reg_alpha': 1.95040905950036e-06, 'reg_lambda': 7.582150114312222, 'max_depth': 4, 'num_leaves': 11, 'colsample_bytree': 0.33410636419282297, 'min_child_samples': 26, 'max_bin': 101, 'subsample_freq': 1, 'subsample': 0.6651082138816523}. Best is trial 11 with value: 0.22027796404035066.\n"
     ]
    },
    {
     "name": "stdout",
     "output_type": "stream",
     "text": [
      "Repeat \u001b[1m\u001b[34m#1\n"
     ]
    },
    {
     "name": "stderr",
     "output_type": "stream",
     "text": [
      "[I 2023-06-22 16:42:37,918] Trial 12 finished with value: 0.21662746063942948 and parameters: {'boosting_type': 'gbdt', 'learning_rate': 0.2385290755080711, 'reg_alpha': 4.268020440093656e-06, 'reg_lambda': 3.3389556129018603, 'max_depth': 5, 'num_leaves': 6, 'colsample_bytree': 0.30555271967545994, 'min_child_samples': 25, 'max_bin': 99, 'subsample_freq': 2, 'subsample': 0.6780579243054323}. Best is trial 12 with value: 0.21662746063942948.\n"
     ]
    },
    {
     "name": "stdout",
     "output_type": "stream",
     "text": [
      "Repeat \u001b[1m\u001b[34m#1\n"
     ]
    },
    {
     "name": "stderr",
     "output_type": "stream",
     "text": [
      "[I 2023-06-22 16:42:39,811] Trial 13 finished with value: 0.21702592995956563 and parameters: {'boosting_type': 'gbdt', 'learning_rate': 0.2952983852027023, 'reg_alpha': 3.662280179012083e-06, 'reg_lambda': 7.303598337797588, 'max_depth': 5, 'num_leaves': 9, 'colsample_bytree': 0.3060432320564125, 'min_child_samples': 23, 'max_bin': 92, 'subsample_freq': 3, 'subsample': 0.6996070333921754}. Best is trial 12 with value: 0.21662746063942948.\n"
     ]
    },
    {
     "name": "stdout",
     "output_type": "stream",
     "text": [
      "Repeat \u001b[1m\u001b[34m#1\n"
     ]
    },
    {
     "name": "stderr",
     "output_type": "stream",
     "text": [
      "[I 2023-06-22 16:42:48,252] Trial 14 finished with value: 0.2281524846738318 and parameters: {'boosting_type': 'gbdt', 'learning_rate': 0.01117928783567176, 'reg_alpha': 5.211747312822325e-06, 'reg_lambda': 8.669835451558123, 'max_depth': 6, 'num_leaves': 4, 'colsample_bytree': 0.31255456574878504, 'min_child_samples': 24, 'max_bin': 74, 'subsample_freq': 3, 'subsample': 0.6917870790809152}. Best is trial 12 with value: 0.21662746063942948.\n"
     ]
    },
    {
     "name": "stdout",
     "output_type": "stream",
     "text": [
      "Repeat \u001b[1m\u001b[34m#1\n"
     ]
    },
    {
     "name": "stderr",
     "output_type": "stream",
     "text": [
      "[I 2023-06-22 16:42:49,447] Trial 15 finished with value: 0.2349786994998663 and parameters: {'boosting_type': 'gbdt', 'learning_rate': 0.29659188835610484, 'reg_alpha': 2.109330983167558e-05, 'reg_lambda': 0.21532971227504505, 'max_depth': 5, 'num_leaves': 24, 'colsample_bytree': 0.4482593058461525, 'min_child_samples': 58, 'max_bin': 68, 'subsample_freq': 4, 'subsample': 0.6989566807353835}. Best is trial 12 with value: 0.21662746063942948.\n"
     ]
    },
    {
     "name": "stdout",
     "output_type": "stream",
     "text": [
      "Repeat \u001b[1m\u001b[34m#1\n"
     ]
    },
    {
     "name": "stderr",
     "output_type": "stream",
     "text": [
      "[I 2023-06-22 16:42:52,018] Trial 16 finished with value: 0.2608219500270137 and parameters: {'boosting_type': 'gbdt', 'learning_rate': 0.08856390457385975, 'reg_alpha': 2.5263310818073476e-07, 'reg_lambda': 0.0037938243212474114, 'max_depth': 6, 'num_leaves': 54, 'colsample_bytree': 0.35163342119259716, 'min_child_samples': 6, 'max_bin': 115, 'subsample_freq': 2, 'subsample': 0.614244115138657}. Best is trial 12 with value: 0.21662746063942948.\n"
     ]
    },
    {
     "name": "stdout",
     "output_type": "stream",
     "text": [
      "Repeat \u001b[1m\u001b[34m#1\n"
     ]
    },
    {
     "name": "stderr",
     "output_type": "stream",
     "text": [
      "[I 2023-06-22 16:42:57,087] Trial 17 finished with value: 0.223935738082169 and parameters: {'boosting_type': 'gbdt', 'learning_rate': 0.01711118393285548, 'reg_alpha': 2.4304211952909054e-05, 'reg_lambda': 0.2934758044725958, 'max_depth': 5, 'num_leaves': 22, 'colsample_bytree': 0.3613770141426905, 'min_child_samples': 20, 'max_bin': 60, 'subsample_freq': 7, 'subsample': 0.6390719813514444}. Best is trial 12 with value: 0.21662746063942948.\n"
     ]
    },
    {
     "name": "stdout",
     "output_type": "stream",
     "text": [
      "Repeat \u001b[1m\u001b[34m#1\n"
     ]
    },
    {
     "name": "stderr",
     "output_type": "stream",
     "text": [
      "[I 2023-06-22 16:42:58,893] Trial 18 finished with value: 0.21646410394293078 and parameters: {'boosting_type': 'goss', 'learning_rate': 0.09566178477887007, 'reg_alpha': 3.034220549007772e-07, 'reg_lambda': 0.0014513826027567661, 'max_depth': 5, 'num_leaves': 21, 'colsample_bytree': 0.30671426007142993, 'min_child_samples': 33, 'max_bin': 104, 'subsample_freq': 2}. Best is trial 18 with value: 0.21646410394293078.\n"
     ]
    },
    {
     "name": "stdout",
     "output_type": "stream",
     "text": [
      "Repeat \u001b[1m\u001b[34m#1\n"
     ]
    },
    {
     "name": "stderr",
     "output_type": "stream",
     "text": [
      "[I 2023-06-22 16:43:01,321] Trial 19 finished with value: 0.20677227877449994 and parameters: {'boosting_type': 'goss', 'learning_rate': 0.082153276919436, 'reg_alpha': 2.0524145747048725e-07, 'reg_lambda': 0.0005204704474835736, 'max_depth': 6, 'num_leaves': 50, 'colsample_bytree': 0.4221495928576279, 'min_child_samples': 35, 'max_bin': 184, 'subsample_freq': 2}. Best is trial 19 with value: 0.20677227877449994.\n"
     ]
    },
    {
     "name": "stdout",
     "output_type": "stream",
     "text": [
      "Repeat \u001b[1m\u001b[34m#1\n"
     ]
    },
    {
     "name": "stderr",
     "output_type": "stream",
     "text": [
      "[I 2023-06-22 16:43:09,574] Trial 20 finished with value: 0.21448773124896203 and parameters: {'boosting_type': 'goss', 'learning_rate': 0.00963477888033067, 'reg_alpha': 9.086999084249508e-08, 'reg_lambda': 0.0004998003782050612, 'max_depth': 6, 'num_leaves': 51, 'colsample_bytree': 0.41412556560714053, 'min_child_samples': 33, 'max_bin': 183, 'subsample_freq': 4}. Best is trial 19 with value: 0.20677227877449994.\n"
     ]
    },
    {
     "name": "stdout",
     "output_type": "stream",
     "text": [
      "Repeat \u001b[1m\u001b[34m#1\n"
     ]
    },
    {
     "name": "stderr",
     "output_type": "stream",
     "text": [
      "[I 2023-06-22 16:43:18,829] Trial 21 finished with value: 0.21917400336817883 and parameters: {'boosting_type': 'goss', 'learning_rate': 0.007733966898891876, 'reg_alpha': 1.2819426853225923e-07, 'reg_lambda': 0.00025373373076034716, 'max_depth': 6, 'num_leaves': 52, 'colsample_bytree': 0.4304922745039298, 'min_child_samples': 34, 'max_bin': 187, 'subsample_freq': 4}. Best is trial 19 with value: 0.20677227877449994.\n"
     ]
    },
    {
     "name": "stdout",
     "output_type": "stream",
     "text": [
      "Repeat \u001b[1m\u001b[34m#1\n"
     ]
    },
    {
     "name": "stderr",
     "output_type": "stream",
     "text": [
      "[I 2023-06-22 16:43:23,662] Trial 22 finished with value: 0.23612275973820313 and parameters: {'boosting_type': 'goss', 'learning_rate': 0.022423387292247035, 'reg_alpha': 1.0021232476898163e-08, 'reg_lambda': 0.0004664682282843027, 'max_depth': 6, 'num_leaves': 67, 'colsample_bytree': 0.48042683341931663, 'min_child_samples': 52, 'max_bin': 202, 'subsample_freq': 2}. Best is trial 19 with value: 0.20677227877449994.\n"
     ]
    },
    {
     "name": "stdout",
     "output_type": "stream",
     "text": [
      "Repeat \u001b[1m\u001b[34m#1\n"
     ]
    },
    {
     "name": "stderr",
     "output_type": "stream",
     "text": [
      "[I 2023-06-22 16:43:25,926] Trial 23 finished with value: 0.21267066297585308 and parameters: {'boosting_type': 'goss', 'learning_rate': 0.07033007763196977, 'reg_alpha': 3.9945101637365516e-07, 'reg_lambda': 0.000396282852000697, 'max_depth': 8, 'num_leaves': 40, 'colsample_bytree': 0.4043088441584802, 'min_child_samples': 36, 'max_bin': 170, 'subsample_freq': 5}. Best is trial 19 with value: 0.20677227877449994.\n"
     ]
    },
    {
     "name": "stdout",
     "output_type": "stream",
     "text": [
      "Repeat \u001b[1m\u001b[34m#1\n"
     ]
    },
    {
     "name": "stderr",
     "output_type": "stream",
     "text": [
      "[I 2023-06-22 16:43:35,083] Trial 24 finished with value: 0.30027014321406365 and parameters: {'boosting_type': 'goss', 'learning_rate': 0.004709647795328551, 'reg_alpha': 6.932595492675521e-08, 'reg_lambda': 7.229303413662419e-05, 'max_depth': 8, 'num_leaves': 42, 'colsample_bytree': 0.4094649530336363, 'min_child_samples': 59, 'max_bin': 174, 'subsample_freq': 5}. Best is trial 19 with value: 0.20677227877449994.\n"
     ]
    },
    {
     "name": "stdout",
     "output_type": "stream",
     "text": [
      "Repeat \u001b[1m\u001b[34m#1\n"
     ]
    },
    {
     "name": "stderr",
     "output_type": "stream",
     "text": [
      "[I 2023-06-22 16:43:37,738] Trial 25 finished with value: 0.22511713006248585 and parameters: {'boosting_type': 'goss', 'learning_rate': 0.059099837077296144, 'reg_alpha': 6.823541107153407e-07, 'reg_lambda': 6.920465754547812e-05, 'max_depth': 8, 'num_leaves': 59, 'colsample_bytree': 0.47750337863214315, 'min_child_samples': 44, 'max_bin': 247, 'subsample_freq': 5}. Best is trial 19 with value: 0.20677227877449994.\n"
     ]
    },
    {
     "name": "stdout",
     "output_type": "stream",
     "text": [
      "Repeat \u001b[1m\u001b[34m#1\n"
     ]
    },
    {
     "name": "stderr",
     "output_type": "stream",
     "text": [
      "[I 2023-06-22 16:43:43,588] Trial 26 finished with value: 0.21192146847298682 and parameters: {'boosting_type': 'goss', 'learning_rate': 0.020578643495953942, 'reg_alpha': 3.943760835099782e-08, 'reg_lambda': 0.0008686825976816645, 'max_depth': 9, 'num_leaves': 69, 'colsample_bytree': 0.3875465604676992, 'min_child_samples': 33, 'max_bin': 212, 'subsample_freq': 6}. Best is trial 19 with value: 0.20677227877449994.\n"
     ]
    },
    {
     "name": "stdout",
     "output_type": "stream",
     "text": [
      "Repeat \u001b[1m\u001b[34m#1\n"
     ]
    },
    {
     "name": "stderr",
     "output_type": "stream",
     "text": [
      "[I 2023-06-22 16:43:48,048] Trial 27 finished with value: 0.1876225384540634 and parameters: {'boosting_type': 'goss', 'learning_rate': 0.02738073793767539, 'reg_alpha': 2.1938314423726176e-08, 'reg_lambda': 0.00226090764803932, 'max_depth': 9, 'num_leaves': 64, 'colsample_bytree': 0.37683433497115926, 'min_child_samples': 17, 'max_bin': 214, 'subsample_freq': 6}. Best is trial 27 with value: 0.1876225384540634.\n"
     ]
    },
    {
     "name": "stdout",
     "output_type": "stream",
     "text": [
      "Repeat \u001b[1m\u001b[34m#1\n"
     ]
    },
    {
     "name": "stderr",
     "output_type": "stream",
     "text": [
      "[I 2023-06-22 16:43:52,043] Trial 28 finished with value: 0.20041322865673877 and parameters: {'boosting_type': 'goss', 'learning_rate': 0.02957935929423253, 'reg_alpha': 2.8846721326149508e-08, 'reg_lambda': 0.01156243379027031, 'max_depth': 9, 'num_leaves': 68, 'colsample_bytree': 0.36691068399583326, 'min_child_samples': 18, 'max_bin': 213, 'subsample_freq': 7}. Best is trial 27 with value: 0.1876225384540634.\n"
     ]
    },
    {
     "name": "stdout",
     "output_type": "stream",
     "text": [
      "Repeat \u001b[1m\u001b[34m#1\n"
     ]
    },
    {
     "name": "stderr",
     "output_type": "stream",
     "text": [
      "[I 2023-06-22 16:43:55,990] Trial 29 finished with value: 0.19546382701206233 and parameters: {'boosting_type': 'goss', 'learning_rate': 0.03306417875898979, 'reg_alpha': 2.0710243627246247e-08, 'reg_lambda': 0.01960427737076754, 'max_depth': 9, 'num_leaves': 91, 'colsample_bytree': 0.35315629955863265, 'min_child_samples': 16, 'max_bin': 228, 'subsample_freq': 7}. Best is trial 27 with value: 0.1876225384540634.\n"
     ]
    },
    {
     "name": "stdout",
     "output_type": "stream",
     "text": [
      "Repeat \u001b[1m\u001b[34m#1\n"
     ]
    },
    {
     "name": "stderr",
     "output_type": "stream",
     "text": [
      "[I 2023-06-22 16:44:00,040] Trial 30 finished with value: 0.19345271464028574 and parameters: {'boosting_type': 'goss', 'learning_rate': 0.03195622823300203, 'reg_alpha': 2.325460020188531e-08, 'reg_lambda': 0.04880444329753201, 'max_depth': 9, 'num_leaves': 95, 'colsample_bytree': 0.34910971421550135, 'min_child_samples': 14, 'max_bin': 230, 'subsample_freq': 7}. Best is trial 27 with value: 0.1876225384540634.\n"
     ]
    },
    {
     "name": "stdout",
     "output_type": "stream",
     "text": [
      "Repeat \u001b[1m\u001b[34m#1\n"
     ]
    },
    {
     "name": "stderr",
     "output_type": "stream",
     "text": [
      "[I 2023-06-22 16:44:04,583] Trial 31 finished with value: 0.20633421927803658 and parameters: {'boosting_type': 'goss', 'learning_rate': 0.031110893896092107, 'reg_alpha': 2.036430246643104e-08, 'reg_lambda': 0.03894640592472816, 'max_depth': 9, 'num_leaves': 98, 'colsample_bytree': 0.34531940140917405, 'min_child_samples': 11, 'max_bin': 229, 'subsample_freq': 7}. Best is trial 27 with value: 0.1876225384540634.\n"
     ]
    },
    {
     "name": "stdout",
     "output_type": "stream",
     "text": [
      "Repeat \u001b[1m\u001b[34m#1\n"
     ]
    },
    {
     "name": "stderr",
     "output_type": "stream",
     "text": [
      "[I 2023-06-22 16:44:09,348] Trial 32 finished with value: 0.20856968463892536 and parameters: {'boosting_type': 'goss', 'learning_rate': 0.030778157700320632, 'reg_alpha': 2.6501329729417697e-08, 'reg_lambda': 0.013383179989179142, 'max_depth': 9, 'num_leaves': 93, 'colsample_bytree': 0.3404316456390395, 'min_child_samples': 16, 'max_bin': 247, 'subsample_freq': 7}. Best is trial 27 with value: 0.1876225384540634.\n"
     ]
    },
    {
     "name": "stdout",
     "output_type": "stream",
     "text": [
      "Repeat \u001b[1m\u001b[34m#1\n"
     ]
    },
    {
     "name": "stderr",
     "output_type": "stream",
     "text": [
      "[I 2023-06-22 16:44:16,133] Trial 33 finished with value: 0.19309616928852055 and parameters: {'boosting_type': 'goss', 'learning_rate': 0.016001945760382632, 'reg_alpha': 1.0892222289697018e-08, 'reg_lambda': 0.003138930610463785, 'max_depth': 9, 'num_leaves': 106, 'colsample_bytree': 0.3750456440618465, 'min_child_samples': 18, 'max_bin': 219, 'subsample_freq': 7}. Best is trial 27 with value: 0.1876225384540634.\n"
     ]
    },
    {
     "name": "stdout",
     "output_type": "stream",
     "text": [
      "Repeat \u001b[1m\u001b[34m#1\n"
     ]
    },
    {
     "name": "stderr",
     "output_type": "stream",
     "text": [
      "[I 2023-06-22 16:44:16,865] Trial 34 finished with value: 0.49750977321409096 and parameters: {'boosting_type': 'goss', 'learning_rate': 0.01537325364687841, 'reg_alpha': 5.720253541332287e-08, 'reg_lambda': 0.003382456620440928, 'max_depth': 10, 'num_leaves': 108, 'colsample_bytree': 0.37835987809599636, 'min_child_samples': 98, 'max_bin': 228, 'subsample_freq': 6}. Best is trial 27 with value: 0.1876225384540634.\n"
     ]
    },
    {
     "name": "stdout",
     "output_type": "stream",
     "text": [
      "Repeat \u001b[1m\u001b[34m#1\n"
     ]
    },
    {
     "name": "stderr",
     "output_type": "stream",
     "text": [
      "[I 2023-06-22 16:44:20,544] Trial 35 finished with value: 0.2377331712086064 and parameters: {'boosting_type': 'goss', 'learning_rate': 0.050484174225893, 'reg_alpha': 1.2369259483615663e-08, 'reg_lambda': 0.03909760853211178, 'max_depth': 10, 'num_leaves': 120, 'colsample_bytree': 0.3315903155960969, 'min_child_samples': 5, 'max_bin': 253, 'subsample_freq': 6}. Best is trial 27 with value: 0.1876225384540634.\n"
     ]
    },
    {
     "name": "stdout",
     "output_type": "stream",
     "text": [
      "Repeat \u001b[1m\u001b[34m#1\n"
     ]
    },
    {
     "name": "stderr",
     "output_type": "stream",
     "text": [
      "[I 2023-06-22 16:44:28,515] Trial 36 finished with value: 0.20955789859627968 and parameters: {'boosting_type': 'goss', 'learning_rate': 0.013018611926999194, 'reg_alpha': 6.45218249110086e-08, 'reg_lambda': 0.002742258552160718, 'max_depth': 9, 'num_leaves': 91, 'colsample_bytree': 0.3825835318660902, 'min_child_samples': 13, 'max_bin': 204, 'subsample_freq': 7}. Best is trial 27 with value: 0.1876225384540634.\n"
     ]
    },
    {
     "name": "stdout",
     "output_type": "stream",
     "text": [
      "Repeat \u001b[1m\u001b[34m#1\n"
     ]
    },
    {
     "name": "stderr",
     "output_type": "stream",
     "text": [
      "[I 2023-06-22 16:44:33,276] Trial 37 finished with value: 0.197280281966627 and parameters: {'boosting_type': 'goss', 'learning_rate': 0.022390342179471945, 'reg_alpha': 6.615057596170393e-07, 'reg_lambda': 0.032039848220395996, 'max_depth': 8, 'num_leaves': 104, 'colsample_bytree': 0.3487524654635035, 'min_child_samples': 18, 'max_bin': 223, 'subsample_freq': 7}. Best is trial 27 with value: 0.1876225384540634.\n"
     ]
    },
    {
     "name": "stdout",
     "output_type": "stream",
     "text": [
      "Repeat \u001b[1m\u001b[34m#1\n"
     ]
    },
    {
     "name": "stderr",
     "output_type": "stream",
     "text": [
      "[I 2023-06-22 16:44:35,909] Trial 38 finished with value: 0.20694833574332155 and parameters: {'boosting_type': 'goss', 'learning_rate': 0.039891027400659446, 'reg_alpha': 1.0263772707505005e-08, 'reg_lambda': 0.15298103857671733, 'max_depth': 10, 'num_leaves': 117, 'colsample_bytree': 0.3920527036139728, 'min_child_samples': 28, 'max_bin': 236, 'subsample_freq': 6}. Best is trial 27 with value: 0.1876225384540634.\n"
     ]
    },
    {
     "name": "stdout",
     "output_type": "stream",
     "text": [
      "Repeat \u001b[1m\u001b[34m#1\n"
     ]
    },
    {
     "name": "stderr",
     "output_type": "stream",
     "text": [
      "[I 2023-06-22 16:44:37,926] Trial 39 finished with value: 0.19300241670279328 and parameters: {'boosting_type': 'goss', 'learning_rate': 0.13676452858237367, 'reg_alpha': 1.2387941585756603e-07, 'reg_lambda': 0.008710430946334956, 'max_depth': 9, 'num_leaves': 77, 'colsample_bytree': 0.36291620977691147, 'min_child_samples': 11, 'max_bin': 155, 'subsample_freq': 7}. Best is trial 27 with value: 0.1876225384540634.\n"
     ]
    },
    {
     "name": "stdout",
     "output_type": "stream",
     "text": [
      "Repeat \u001b[1m\u001b[34m#1\n"
     ]
    },
    {
     "name": "stderr",
     "output_type": "stream",
     "text": [
      "[I 2023-06-22 16:44:39,595] Trial 40 finished with value: 0.233184329031691 and parameters: {'boosting_type': 'goss', 'learning_rate': 0.15175494770078138, 'reg_alpha': 1.3194425909342196e-07, 'reg_lambda': 0.0064416273365912975, 'max_depth': 8, 'num_leaves': 75, 'colsample_bytree': 0.33019984495074745, 'min_child_samples': 10, 'max_bin': 155, 'subsample_freq': 6}. Best is trial 27 with value: 0.1876225384540634.\n"
     ]
    },
    {
     "name": "stdout",
     "output_type": "stream",
     "text": [
      "Repeat \u001b[1m\u001b[34m#1\n"
     ]
    },
    {
     "name": "stderr",
     "output_type": "stream",
     "text": [
      "[I 2023-06-22 16:44:42,044] Trial 41 finished with value: 0.2023846217450187 and parameters: {'boosting_type': 'goss', 'learning_rate': 0.06403473527414505, 'reg_alpha': 3.852926834076316e-08, 'reg_lambda': 0.022076709650436125, 'max_depth': 9, 'num_leaves': 84, 'colsample_bytree': 0.3778074017640607, 'min_child_samples': 14, 'max_bin': 216, 'subsample_freq': 7}. Best is trial 27 with value: 0.1876225384540634.\n"
     ]
    },
    {
     "name": "stdout",
     "output_type": "stream",
     "text": [
      "Repeat \u001b[1m\u001b[34m#1\n"
     ]
    },
    {
     "name": "stderr",
     "output_type": "stream",
     "text": [
      "[I 2023-06-22 16:44:43,534] Trial 42 finished with value: 0.28360746294407213 and parameters: {'boosting_type': 'goss', 'learning_rate': 0.1428147761758161, 'reg_alpha': 3.8998844224121616e-08, 'reg_lambda': 0.07501014192874743, 'max_depth': 9, 'num_leaves': 91, 'colsample_bytree': 0.35772139002013703, 'min_child_samples': 73, 'max_bin': 133, 'subsample_freq': 7}. Best is trial 27 with value: 0.1876225384540634.\n"
     ]
    },
    {
     "name": "stdout",
     "output_type": "stream",
     "text": [
      "Repeat \u001b[1m\u001b[34m#1\n"
     ]
    },
    {
     "name": "stderr",
     "output_type": "stream",
     "text": [
      "[I 2023-06-22 16:44:46,998] Trial 43 finished with value: 0.1994836757586461 and parameters: {'boosting_type': 'goss', 'learning_rate': 0.046792806772549246, 'reg_alpha': 1.0297362291754993e-07, 'reg_lambda': 0.007107293523347472, 'max_depth': 10, 'num_leaves': 100, 'colsample_bytree': 0.37254568824232603, 'min_child_samples': 19, 'max_bin': 239, 'subsample_freq': 7}. Best is trial 27 with value: 0.1876225384540634.\n"
     ]
    },
    {
     "name": "stdout",
     "output_type": "stream",
     "text": [
      "Repeat \u001b[1m\u001b[34m#1\n"
     ]
    },
    {
     "name": "stderr",
     "output_type": "stream",
     "text": [
      "[I 2023-06-22 16:44:48,609] Trial 44 finished with value: 0.20337879761887415 and parameters: {'boosting_type': 'goss', 'learning_rate': 0.10728305410960569, 'reg_alpha': 2.406592618806303e-08, 'reg_lambda': 0.002278503103025743, 'max_depth': 9, 'num_leaves': 75, 'colsample_bytree': 0.3969769963658801, 'min_child_samples': 28, 'max_bin': 197, 'subsample_freq': 6}. Best is trial 27 with value: 0.1876225384540634.\n"
     ]
    },
    {
     "name": "stdout",
     "output_type": "stream",
     "text": [
      "Repeat \u001b[1m\u001b[34m#1\n"
     ]
    },
    {
     "name": "stderr",
     "output_type": "stream",
     "text": [
      "[I 2023-06-22 16:44:54,760] Trial 45 finished with value: 0.21208565030791154 and parameters: {'boosting_type': 'goss', 'learning_rate': 0.036508583119576325, 'reg_alpha': 5.982428683425307e-07, 'reg_lambda': 0.4569826552971225, 'max_depth': 10, 'num_leaves': 85, 'colsample_bytree': 0.3324769360689078, 'min_child_samples': 10, 'max_bin': 207, 'subsample_freq': 7}. Best is trial 27 with value: 0.1876225384540634.\n"
     ]
    },
    {
     "name": "stdout",
     "output_type": "stream",
     "text": [
      "Repeat \u001b[1m\u001b[34m#1\n"
     ]
    },
    {
     "name": "stderr",
     "output_type": "stream",
     "text": [
      "[I 2023-06-22 16:44:59,054] Trial 46 finished with value: 0.19965166822358948 and parameters: {'boosting_type': 'goss', 'learning_rate': 0.02375702490103225, 'reg_alpha': 1.628665151647768e-07, 'reg_lambda': 0.0609323560459119, 'max_depth': 7, 'num_leaves': 61, 'colsample_bytree': 0.35683425437141403, 'min_child_samples': 22, 'max_bin': 158, 'subsample_freq': 6}. Best is trial 27 with value: 0.1876225384540634.\n"
     ]
    },
    {
     "name": "stdout",
     "output_type": "stream",
     "text": [
      "Repeat \u001b[1m\u001b[34m#1\n"
     ]
    },
    {
     "name": "stderr",
     "output_type": "stream",
     "text": [
      "[I 2023-06-22 16:45:02,149] Trial 47 finished with value: 0.19891565401251549 and parameters: {'boosting_type': 'goss', 'learning_rate': 0.051678463933232374, 'reg_alpha': 1.1123929943469005e-08, 'reg_lambda': 0.014877503754818661, 'max_depth': 8, 'num_leaves': 80, 'colsample_bytree': 0.3211996310668771, 'min_child_samples': 14, 'max_bin': 222, 'subsample_freq': 7}. Best is trial 27 with value: 0.1876225384540634.\n"
     ]
    },
    {
     "name": "stdout",
     "output_type": "stream",
     "text": [
      "Repeat \u001b[1m\u001b[34m#1\n"
     ]
    },
    {
     "name": "stderr",
     "output_type": "stream",
     "text": [
      "[I 2023-06-22 16:45:10,541] Trial 48 finished with value: 0.2212084096365756 and parameters: {'boosting_type': 'goss', 'learning_rate': 0.014355119463934207, 'reg_alpha': 1.348560250672538e-06, 'reg_lambda': 0.11122340470671255, 'max_depth': 9, 'num_leaves': 111, 'colsample_bytree': 0.3219705015396792, 'min_child_samples': 6, 'max_bin': 193, 'subsample_freq': 6}. Best is trial 27 with value: 0.1876225384540634.\n"
     ]
    },
    {
     "name": "stdout",
     "output_type": "stream",
     "text": [
      "Repeat \u001b[1m\u001b[34m#1\n"
     ]
    },
    {
     "name": "stderr",
     "output_type": "stream",
     "text": [
      "[I 2023-06-22 16:45:12,084] Trial 49 finished with value: 0.21659803029437552 and parameters: {'boosting_type': 'goss', 'learning_rate': 0.13327695779884227, 'reg_alpha': 5.5796125913948804e-08, 'reg_lambda': 0.005703460344323815, 'max_depth': 10, 'num_leaves': 96, 'colsample_bytree': 0.4374987644902044, 'min_child_samples': 28, 'max_bin': 254, 'subsample_freq': 7}. Best is trial 27 with value: 0.1876225384540634.\n"
     ]
    },
    {
     "name": "stdout",
     "output_type": "stream",
     "text": [
      "Repeat \u001b[1m\u001b[34m#1\n"
     ]
    },
    {
     "name": "stderr",
     "output_type": "stream",
     "text": [
      "[I 2023-06-22 16:45:14,648] Trial 50 finished with value: 0.20599004433488344 and parameters: {'boosting_type': 'goss', 'learning_rate': 0.07106132223525737, 'reg_alpha': 2.41108927364795e-07, 'reg_lambda': 0.0012383725956348847, 'max_depth': 7, 'num_leaves': 128, 'colsample_bytree': 0.3698648542399455, 'min_child_samples': 22, 'max_bin': 235, 'subsample_freq': 6}. Best is trial 27 with value: 0.1876225384540634.\n"
     ]
    },
    {
     "name": "stdout",
     "output_type": "stream",
     "text": [
      "Repeat \u001b[1m\u001b[34m#1\n"
     ]
    },
    {
     "name": "stderr",
     "output_type": "stream",
     "text": [
      "[I 2023-06-22 16:45:21,063] Trial 51 finished with value: 0.20133225809833624 and parameters: {'boosting_type': 'goss', 'learning_rate': 0.022166831278040734, 'reg_alpha': 7.113129848985662e-07, 'reg_lambda': 0.02235058827018583, 'max_depth': 8, 'num_leaves': 104, 'colsample_bytree': 0.35532886624946936, 'min_child_samples': 18, 'max_bin': 221, 'subsample_freq': 7}. Best is trial 27 with value: 0.1876225384540634.\n"
     ]
    },
    {
     "name": "stdout",
     "output_type": "stream",
     "text": [
      "Repeat \u001b[1m\u001b[34m#1\n"
     ]
    },
    {
     "name": "stderr",
     "output_type": "stream",
     "text": [
      "[I 2023-06-22 16:45:24,052] Trial 52 finished with value: 0.2058344080292898 and parameters: {'boosting_type': 'goss', 'learning_rate': 0.038176170842211525, 'reg_alpha': 9.100834141125646e-08, 'reg_lambda': 0.03330809472802564, 'max_depth': 8, 'num_leaves': 105, 'colsample_bytree': 0.3420833371593429, 'min_child_samples': 16, 'max_bin': 226, 'subsample_freq': 7}. Best is trial 27 with value: 0.1876225384540634.\n"
     ]
    },
    {
     "name": "stdout",
     "output_type": "stream",
     "text": [
      "Repeat \u001b[1m\u001b[34m#1\n"
     ]
    },
    {
     "name": "stderr",
     "output_type": "stream",
     "text": [
      "[I 2023-06-22 16:45:31,164] Trial 53 finished with value: 0.21511633263643495 and parameters: {'boosting_type': 'goss', 'learning_rate': 0.018047662208981064, 'reg_alpha': 2.358189506487269e-08, 'reg_lambda': 0.008830574926001082, 'max_depth': 9, 'num_leaves': 117, 'colsample_bytree': 0.3988856120349497, 'min_child_samples': 8, 'max_bin': 244, 'subsample_freq': 7}. Best is trial 27 with value: 0.1876225384540634.\n"
     ]
    },
    {
     "name": "stdout",
     "output_type": "stream",
     "text": [
      "Repeat \u001b[1m\u001b[34m#1\n"
     ]
    },
    {
     "name": "stderr",
     "output_type": "stream",
     "text": [
      "[I 2023-06-22 16:45:35,442] Trial 54 finished with value: 0.2157815460457227 and parameters: {'boosting_type': 'goss', 'learning_rate': 0.026567504316853608, 'reg_alpha': 3.2452996661146757e-07, 'reg_lambda': 0.4211086006409127, 'max_depth': 9, 'num_leaves': 86, 'colsample_bytree': 0.30139138860951653, 'min_child_samples': 11, 'max_bin': 212, 'subsample_freq': 7}. Best is trial 27 with value: 0.1876225384540634.\n"
     ]
    },
    {
     "name": "stdout",
     "output_type": "stream",
     "text": [
      "Repeat \u001b[1m\u001b[34m#1\n"
     ]
    },
    {
     "name": "stderr",
     "output_type": "stream",
     "text": [
      "[I 2023-06-22 16:45:45,513] Trial 55 finished with value: 0.2072770035577737 and parameters: {'boosting_type': 'goss', 'learning_rate': 0.007918313662418304, 'reg_alpha': 1.1148261416599864e-06, 'reg_lambda': 0.06976201152316924, 'max_depth': 8, 'num_leaves': 102, 'colsample_bytree': 0.34864226424631106, 'min_child_samples': 25, 'max_bin': 140, 'subsample_freq': 7}. Best is trial 27 with value: 0.1876225384540634.\n"
     ]
    },
    {
     "name": "stdout",
     "output_type": "stream",
     "text": [
      "Repeat \u001b[1m\u001b[34m#1\n"
     ]
    },
    {
     "name": "stderr",
     "output_type": "stream",
     "text": [
      "[I 2023-06-22 16:45:53,419] Trial 56 finished with value: 0.1984534034206969 and parameters: {'boosting_type': 'goss', 'learning_rate': 0.011078492052361784, 'reg_alpha': 2.0135650189284272e-08, 'reg_lambda': 0.00223318862038881, 'max_depth': 8, 'num_leaves': 79, 'colsample_bytree': 0.32064860749683455, 'min_child_samples': 21, 'max_bin': 119, 'subsample_freq': 6}. Best is trial 27 with value: 0.1876225384540634.\n"
     ]
    },
    {
     "name": "stdout",
     "output_type": "stream",
     "text": [
      "Repeat \u001b[1m\u001b[34m#1\n"
     ]
    },
    {
     "name": "stderr",
     "output_type": "stream",
     "text": [
      "[I 2023-06-22 16:45:55,791] Trial 57 finished with value: 0.24184857768320772 and parameters: {'boosting_type': 'gbdt', 'learning_rate': 0.04319474206288167, 'reg_alpha': 1.55079721099626e-07, 'reg_lambda': 0.019827173517315423, 'max_depth': 9, 'num_leaves': 89, 'colsample_bytree': 0.41401638350061004, 'min_child_samples': 16, 'max_bin': 177, 'subsample_freq': 7, 'subsample': 0.3128075435982972}. Best is trial 27 with value: 0.1876225384540634.\n"
     ]
    },
    {
     "name": "stdout",
     "output_type": "stream",
     "text": [
      "Repeat \u001b[1m\u001b[34m#1\n"
     ]
    },
    {
     "name": "stderr",
     "output_type": "stream",
     "text": [
      "[I 2023-06-22 16:46:02,269] Trial 58 finished with value: 0.21092890397946482 and parameters: {'boosting_type': 'goss', 'learning_rate': 0.016536393395114916, 'reg_alpha': 5.82562198416119e-08, 'reg_lambda': 0.0050777360512892274, 'max_depth': 9, 'num_leaves': 72, 'colsample_bytree': 0.38356946663656144, 'min_child_samples': 31, 'max_bin': 164, 'subsample_freq': 6}. Best is trial 27 with value: 0.1876225384540634.\n"
     ]
    },
    {
     "name": "stdout",
     "output_type": "stream",
     "text": [
      "Repeat \u001b[1m\u001b[34m#1\n"
     ]
    },
    {
     "name": "stderr",
     "output_type": "stream",
     "text": [
      "[I 2023-06-22 16:46:03,605] Trial 59 finished with value: 0.21970671989669174 and parameters: {'boosting_type': 'goss', 'learning_rate': 0.18504453151937908, 'reg_alpha': 4.626473789959683e-07, 'reg_lambda': 0.14072700703613258, 'max_depth': 10, 'num_leaves': 96, 'colsample_bytree': 0.367619240869581, 'min_child_samples': 42, 'max_bin': 191, 'subsample_freq': 5}. Best is trial 27 with value: 0.1876225384540634.\n"
     ]
    },
    {
     "name": "stdout",
     "output_type": "stream",
     "text": [
      "Repeat \u001b[1m\u001b[34m#1\n"
     ]
    },
    {
     "name": "stderr",
     "output_type": "stream",
     "text": [
      "[I 2023-06-22 16:46:06,746] Trial 60 finished with value: 0.22410591462845658 and parameters: {'boosting_type': 'goss', 'learning_rate': 0.08247151162269861, 'reg_alpha': 2.935738687352789e-06, 'reg_lambda': 0.010127137312068317, 'max_depth': 8, 'num_leaves': 64, 'colsample_bytree': 0.3470895012040762, 'min_child_samples': 8, 'max_bin': 200, 'subsample_freq': 7}. Best is trial 27 with value: 0.1876225384540634.\n"
     ]
    },
    {
     "name": "stdout",
     "output_type": "stream",
     "text": [
      "Repeat \u001b[1m\u001b[34m#1\n"
     ]
    },
    {
     "name": "stderr",
     "output_type": "stream",
     "text": [
      "[I 2023-06-22 16:46:14,405] Trial 61 finished with value: 0.20243291944966602 and parameters: {'boosting_type': 'goss', 'learning_rate': 0.011775943902560648, 'reg_alpha': 2.3757996490276876e-08, 'reg_lambda': 0.0018821247812696301, 'max_depth': 7, 'num_leaves': 80, 'colsample_bytree': 0.3189272766188104, 'min_child_samples': 21, 'max_bin': 117, 'subsample_freq': 6}. Best is trial 27 with value: 0.1876225384540634.\n"
     ]
    },
    {
     "name": "stdout",
     "output_type": "stream",
     "text": [
      "Repeat \u001b[1m\u001b[34m#1\n"
     ]
    },
    {
     "name": "stderr",
     "output_type": "stream",
     "text": [
      "[I 2023-06-22 16:46:18,618] Trial 62 finished with value: 0.19918991887652854 and parameters: {'boosting_type': 'goss', 'learning_rate': 0.02558640912356488, 'reg_alpha': 1.7180595693614594e-08, 'reg_lambda': 0.0033352673408888677, 'max_depth': 8, 'num_leaves': 110, 'colsample_bytree': 0.33008636936378355, 'min_child_samples': 19, 'max_bin': 116, 'subsample_freq': 6}. Best is trial 27 with value: 0.1876225384540634.\n"
     ]
    },
    {
     "name": "stdout",
     "output_type": "stream",
     "text": [
      "Repeat \u001b[1m\u001b[34m#1\n"
     ]
    },
    {
     "name": "stderr",
     "output_type": "stream",
     "text": [
      "[I 2023-06-22 16:46:25,014] Trial 63 finished with value: 0.1957502725808924 and parameters: {'boosting_type': 'goss', 'learning_rate': 0.020041869118220926, 'reg_alpha': 1.8185884446445656e-08, 'reg_lambda': 0.0008996346140044725, 'max_depth': 9, 'num_leaves': 81, 'colsample_bytree': 0.3615445643739577, 'min_child_samples': 13, 'max_bin': 86, 'subsample_freq': 5}. Best is trial 27 with value: 0.1876225384540634.\n"
     ]
    },
    {
     "name": "stdout",
     "output_type": "stream",
     "text": [
      "Repeat \u001b[1m\u001b[34m#1\n"
     ]
    },
    {
     "name": "stderr",
     "output_type": "stream",
     "text": [
      "[I 2023-06-22 16:46:31,529] Trial 64 finished with value: 0.19877803437768174 and parameters: {'boosting_type': 'goss', 'learning_rate': 0.018035748989969617, 'reg_alpha': 4.3240125654625356e-08, 'reg_lambda': 0.0011166789689267057, 'max_depth': 9, 'num_leaves': 87, 'colsample_bytree': 0.362553703209244, 'min_child_samples': 13, 'max_bin': 42, 'subsample_freq': 5}. Best is trial 27 with value: 0.1876225384540634.\n"
     ]
    },
    {
     "name": "stdout",
     "output_type": "stream",
     "text": [
      "Repeat \u001b[1m\u001b[34m#1\n"
     ]
    },
    {
     "name": "stderr",
     "output_type": "stream",
     "text": [
      "[I 2023-06-22 16:46:35,273] Trial 65 finished with value: 0.2444809551735257 and parameters: {'boosting_type': 'gbdt', 'learning_rate': 0.030747788039331342, 'reg_alpha': 1.029595180502506e-07, 'reg_lambda': 0.03634469228539417, 'max_depth': 9, 'num_leaves': 96, 'colsample_bytree': 0.391257150240553, 'min_child_samples': 16, 'max_bin': 228, 'subsample_freq': 5, 'subsample': 0.5673012272908968}. Best is trial 27 with value: 0.1876225384540634.\n"
     ]
    },
    {
     "name": "stdout",
     "output_type": "stream",
     "text": [
      "Repeat \u001b[1m\u001b[34m#1\n"
     ]
    },
    {
     "name": "stderr",
     "output_type": "stream",
     "text": [
      "[I 2023-06-22 16:46:38,377] Trial 66 finished with value: 0.20601886528978466 and parameters: {'boosting_type': 'goss', 'learning_rate': 0.05649025848965947, 'reg_alpha': 1.0242325274900805e-08, 'reg_lambda': 0.0007781763596095952, 'max_depth': 9, 'num_leaves': 122, 'colsample_bytree': 0.42272461081994855, 'min_child_samples': 25, 'max_bin': 87, 'subsample_freq': 4}. Best is trial 27 with value: 0.1876225384540634.\n"
     ]
    },
    {
     "name": "stdout",
     "output_type": "stream",
     "text": [
      "Repeat \u001b[1m\u001b[34m#1\n"
     ]
    },
    {
     "name": "stderr",
     "output_type": "stream",
     "text": [
      "[I 2023-06-22 16:46:45,699] Trial 67 finished with value: 0.22236439751955675 and parameters: {'boosting_type': 'goss', 'learning_rate': 0.02089725836109172, 'reg_alpha': 2.230165384180391e-07, 'reg_lambda': 0.0001861844030259065, 'max_depth': 10, 'num_leaves': 83, 'colsample_bytree': 0.3431761047893135, 'min_child_samples': 5, 'max_bin': 210, 'subsample_freq': 7}. Best is trial 27 with value: 0.1876225384540634.\n"
     ]
    },
    {
     "name": "stdout",
     "output_type": "stream",
     "text": [
      "Repeat \u001b[1m\u001b[34m#1\n"
     ]
    },
    {
     "name": "stderr",
     "output_type": "stream",
     "text": [
      "[I 2023-06-22 16:46:47,177] Trial 68 finished with value: 0.49858179191953966 and parameters: {'boosting_type': 'goss', 'learning_rate': 0.00534677200287962, 'reg_alpha': 3.940937761893956e-08, 'reg_lambda': 0.011809418663849346, 'max_depth': 9, 'num_leaves': 72, 'colsample_bytree': 0.40505340314346633, 'min_child_samples': 94, 'max_bin': 242, 'subsample_freq': 5}. Best is trial 27 with value: 0.1876225384540634.\n"
     ]
    },
    {
     "name": "stdout",
     "output_type": "stream",
     "text": [
      "Repeat \u001b[1m\u001b[34m#1\n"
     ]
    },
    {
     "name": "stderr",
     "output_type": "stream",
     "text": [
      "[I 2023-06-22 16:46:50,571] Trial 69 finished with value: 0.21925059830715732 and parameters: {'boosting_type': 'goss', 'learning_rate': 0.042295136716020025, 'reg_alpha': 7.546581336151945e-08, 'reg_lambda': 0.0037649843568285557, 'max_depth': 9, 'num_leaves': 105, 'colsample_bytree': 0.3775662890210828, 'min_child_samples': 38, 'max_bin': 232, 'subsample_freq': 7}. Best is trial 27 with value: 0.1876225384540634.\n"
     ]
    },
    {
     "name": "stdout",
     "output_type": "stream",
     "text": [
      "Repeat \u001b[1m\u001b[34m#1\n"
     ]
    },
    {
     "name": "stderr",
     "output_type": "stream",
     "text": [
      "[I 2023-06-22 16:46:53,599] Trial 70 finished with value: 0.2688527499380578 and parameters: {'boosting_type': 'gbdt', 'learning_rate': 0.03220680051381691, 'reg_alpha': 1.927515882839188e-08, 'reg_lambda': 0.0013158473725021758, 'max_depth': 10, 'num_leaves': 94, 'colsample_bytree': 0.3565326537467061, 'min_child_samples': 11, 'max_bin': 220, 'subsample_freq': 7, 'subsample': 0.30611141971087874}. Best is trial 27 with value: 0.1876225384540634.\n"
     ]
    },
    {
     "name": "stdout",
     "output_type": "stream",
     "text": [
      "Repeat \u001b[1m\u001b[34m#1\n"
     ]
    },
    {
     "name": "stderr",
     "output_type": "stream",
     "text": [
      "[I 2023-06-22 16:47:00,025] Trial 71 finished with value: 0.1982396279937915 and parameters: {'boosting_type': 'goss', 'learning_rate': 0.014557193732495907, 'reg_alpha': 1.75908691542801e-08, 'reg_lambda': 0.001779906527060729, 'max_depth': 8, 'num_leaves': 77, 'colsample_bytree': 0.3106128292416569, 'min_child_samples': 20, 'max_bin': 79, 'subsample_freq': 6}. Best is trial 27 with value: 0.1876225384540634.\n"
     ]
    },
    {
     "name": "stdout",
     "output_type": "stream",
     "text": [
      "Repeat \u001b[1m\u001b[34m#1\n"
     ]
    },
    {
     "name": "stderr",
     "output_type": "stream",
     "text": [
      "[I 2023-06-22 16:47:04,309] Trial 72 finished with value: 0.19322045336120697 and parameters: {'boosting_type': 'goss', 'learning_rate': 0.025429976830871278, 'reg_alpha': 1.537303883819587e-08, 'reg_lambda': 0.0055686080315666105, 'max_depth': 7, 'num_leaves': 63, 'colsample_bytree': 0.3031358574389905, 'min_child_samples': 17, 'max_bin': 85, 'subsample_freq': 6}. Best is trial 27 with value: 0.1876225384540634.\n"
     ]
    },
    {
     "name": "stdout",
     "output_type": "stream",
     "text": [
      "Repeat \u001b[1m\u001b[34m#1\n"
     ]
    },
    {
     "name": "stderr",
     "output_type": "stream",
     "text": [
      "[I 2023-06-22 16:47:08,843] Trial 73 finished with value: 0.19650561428819396 and parameters: {'boosting_type': 'goss', 'learning_rate': 0.025482025564828092, 'reg_alpha': 3.15001780607913e-08, 'reg_lambda': 0.014633850866512395, 'max_depth': 7, 'num_leaves': 58, 'colsample_bytree': 0.30044210461309584, 'min_child_samples': 13, 'max_bin': 64, 'subsample_freq': 5}. Best is trial 27 with value: 0.1876225384540634.\n"
     ]
    },
    {
     "name": "stdout",
     "output_type": "stream",
     "text": [
      "Repeat \u001b[1m\u001b[34m#1\n"
     ]
    },
    {
     "name": "stderr",
     "output_type": "stream",
     "text": [
      "[I 2023-06-22 16:47:13,430] Trial 74 finished with value: 0.20420318897170314 and parameters: {'boosting_type': 'goss', 'learning_rate': 0.027099366667936033, 'reg_alpha': 3.395114564536785e-08, 'reg_lambda': 0.005663717698500844, 'max_depth': 7, 'num_leaves': 47, 'colsample_bytree': 0.305961028408504, 'min_child_samples': 8, 'max_bin': 57, 'subsample_freq': 5}. Best is trial 27 with value: 0.1876225384540634.\n"
     ]
    },
    {
     "name": "stdout",
     "output_type": "stream",
     "text": [
      "Repeat \u001b[1m\u001b[34m#1\n"
     ]
    },
    {
     "name": "stderr",
     "output_type": "stream",
     "text": [
      "[I 2023-06-22 16:47:16,804] Trial 75 finished with value: 0.19584156243854436 and parameters: {'boosting_type': 'goss', 'learning_rate': 0.07029660540938212, 'reg_alpha': 1.0786116247935979e-08, 'reg_lambda': 0.01677302031117528, 'max_depth': 7, 'num_leaves': 57, 'colsample_bytree': 0.33613101509539994, 'min_child_samples': 12, 'max_bin': 61, 'subsample_freq': 4}. Best is trial 27 with value: 0.1876225384540634.\n"
     ]
    },
    {
     "name": "stdout",
     "output_type": "stream",
     "text": [
      "Repeat \u001b[1m\u001b[34m#1\n"
     ]
    },
    {
     "name": "stderr",
     "output_type": "stream",
     "text": [
      "[I 2023-06-22 16:47:19,074] Trial 76 finished with value: 0.3063778008875344 and parameters: {'boosting_type': 'goss', 'learning_rate': 0.058505425010793706, 'reg_alpha': 1.3635730750351371e-08, 'reg_lambda': 0.003910799911292725, 'max_depth': 7, 'num_leaves': 62, 'colsample_bytree': 0.3374288872641143, 'min_child_samples': 75, 'max_bin': 105, 'subsample_freq': 3}. Best is trial 27 with value: 0.1876225384540634.\n"
     ]
    },
    {
     "name": "stdout",
     "output_type": "stream",
     "text": [
      "Repeat \u001b[1m\u001b[34m#1\n"
     ]
    },
    {
     "name": "stderr",
     "output_type": "stream",
     "text": [
      "[I 2023-06-22 16:47:21,202] Trial 77 finished with value: 0.19846909628393894 and parameters: {'boosting_type': 'goss', 'learning_rate': 0.10326856145113249, 'reg_alpha': 6.334762202580165e-08, 'reg_lambda': 0.0006747586473918548, 'max_depth': 7, 'num_leaves': 55, 'colsample_bytree': 0.36600692494231213, 'min_child_samples': 15, 'max_bin': 42, 'subsample_freq': 4}. Best is trial 27 with value: 0.1876225384540634.\n"
     ]
    },
    {
     "name": "stdout",
     "output_type": "stream",
     "text": [
      "Repeat \u001b[1m\u001b[34m#1\n"
     ]
    },
    {
     "name": "stderr",
     "output_type": "stream",
     "text": [
      "[I 2023-06-22 16:47:25,414] Trial 78 finished with value: 0.20725876486492803 and parameters: {'boosting_type': 'goss', 'learning_rate': 0.03695957632704381, 'reg_alpha': 1.0409239612741764e-08, 'reg_lambda': 0.0068094986582018045, 'max_depth': 6, 'num_leaves': 71, 'colsample_bytree': 0.3287006174460404, 'min_child_samples': 10, 'max_bin': 77, 'subsample_freq': 4}. Best is trial 27 with value: 0.1876225384540634.\n"
     ]
    },
    {
     "name": "stdout",
     "output_type": "stream",
     "text": [
      "Repeat \u001b[1m\u001b[34m#1\n"
     ]
    },
    {
     "name": "stderr",
     "output_type": "stream",
     "text": [
      "[I 2023-06-22 16:47:28,791] Trial 79 finished with value: 0.20975815462814965 and parameters: {'boosting_type': 'goss', 'learning_rate': 0.07144133611518756, 'reg_alpha': 1.5221284212090678e-07, 'reg_lambda': 0.00919588638339333, 'max_depth': 9, 'num_leaves': 35, 'colsample_bytree': 0.38607832440241274, 'min_child_samples': 28, 'max_bin': 51, 'subsample_freq': 4}. Best is trial 27 with value: 0.1876225384540634.\n"
     ]
    },
    {
     "name": "stdout",
     "output_type": "stream",
     "text": [
      "Repeat \u001b[1m\u001b[34m#1\n"
     ]
    },
    {
     "name": "stderr",
     "output_type": "stream",
     "text": [
      "[I 2023-06-22 16:47:32,073] Trial 80 finished with value: 0.20235704905114055 and parameters: {'boosting_type': 'goss', 'learning_rate': 0.04976440232118051, 'reg_alpha': 9.971161787193041e-08, 'reg_lambda': 0.017278793757090835, 'max_depth': 9, 'num_leaves': 66, 'colsample_bytree': 0.33975138603510696, 'min_child_samples': 24, 'max_bin': 83, 'subsample_freq': 6}. Best is trial 27 with value: 0.1876225384540634.\n"
     ]
    },
    {
     "name": "stdout",
     "output_type": "stream",
     "text": [
      "Repeat \u001b[1m\u001b[34m#1\n"
     ]
    },
    {
     "name": "stderr",
     "output_type": "stream",
     "text": [
      "[I 2023-06-22 16:47:36,296] Trial 81 finished with value: 0.19217486368294617 and parameters: {'boosting_type': 'goss', 'learning_rate': 0.03257494722839795, 'reg_alpha': 3.1767378191915746e-08, 'reg_lambda': 0.002378692145553816, 'max_depth': 7, 'num_leaves': 57, 'colsample_bytree': 0.3140743211716292, 'min_child_samples': 12, 'max_bin': 69, 'subsample_freq': 5}. Best is trial 27 with value: 0.1876225384540634.\n"
     ]
    },
    {
     "name": "stdout",
     "output_type": "stream",
     "text": [
      "Repeat \u001b[1m\u001b[34m#1\n"
     ]
    },
    {
     "name": "stderr",
     "output_type": "stream",
     "text": [
      "[I 2023-06-22 16:47:40,212] Trial 82 finished with value: 0.18880409822706556 and parameters: {'boosting_type': 'goss', 'learning_rate': 0.03430989101543842, 'reg_alpha': 1.845152131440815e-08, 'reg_lambda': 0.0025994445708443794, 'max_depth': 7, 'num_leaves': 47, 'colsample_bytree': 0.3185752307757804, 'min_child_samples': 17, 'max_bin': 49, 'subsample_freq': 4}. Best is trial 27 with value: 0.1876225384540634.\n"
     ]
    },
    {
     "name": "stdout",
     "output_type": "stream",
     "text": [
      "Repeat \u001b[1m\u001b[34m#1\n"
     ]
    },
    {
     "name": "stderr",
     "output_type": "stream",
     "text": [
      "[I 2023-06-22 16:47:43,123] Trial 83 finished with value: 0.18999322989708287 and parameters: {'boosting_type': 'goss', 'learning_rate': 0.034125421753119396, 'reg_alpha': 3.9547147689079633e-08, 'reg_lambda': 0.0027625449826681457, 'max_depth': 6, 'num_leaves': 47, 'colsample_bytree': 0.315536025386, 'min_child_samples': 17, 'max_bin': 69, 'subsample_freq': 3}. Best is trial 27 with value: 0.1876225384540634.\n"
     ]
    },
    {
     "name": "stdout",
     "output_type": "stream",
     "text": [
      "Repeat \u001b[1m\u001b[34m#1\n"
     ]
    },
    {
     "name": "stderr",
     "output_type": "stream",
     "text": [
      "[I 2023-06-22 16:47:46,608] Trial 84 finished with value: 0.18054410391774867 and parameters: {'boosting_type': 'goss', 'learning_rate': 0.033594847390222594, 'reg_alpha': 4.2449169166186815e-08, 'reg_lambda': 0.002762974026191818, 'max_depth': 6, 'num_leaves': 48, 'colsample_bytree': 0.32223349404350043, 'min_child_samples': 16, 'max_bin': 72, 'subsample_freq': 3}. Best is trial 84 with value: 0.18054410391774867.\n"
     ]
    },
    {
     "name": "stdout",
     "output_type": "stream",
     "text": [
      "Repeat \u001b[1m\u001b[34m#1\n"
     ]
    },
    {
     "name": "stderr",
     "output_type": "stream",
     "text": [
      "[I 2023-06-22 16:47:48,837] Trial 85 finished with value: 0.20497996738321222 and parameters: {'boosting_type': 'goss', 'learning_rate': 0.045787760064490104, 'reg_alpha': 4.230086711004389e-08, 'reg_lambda': 0.0019942465879942374, 'max_depth': 6, 'num_leaves': 47, 'colsample_bytree': 0.31946453577881956, 'min_child_samples': 18, 'max_bin': 54, 'subsample_freq': 3}. Best is trial 84 with value: 0.18054410391774867.\n"
     ]
    },
    {
     "name": "stdout",
     "output_type": "stream",
     "text": [
      "Repeat \u001b[1m\u001b[34m#1\n"
     ]
    },
    {
     "name": "stderr",
     "output_type": "stream",
     "text": [
      "[I 2023-06-22 16:47:52,344] Trial 86 finished with value: 0.20959691228635516 and parameters: {'boosting_type': 'goss', 'learning_rate': 0.03445235059750671, 'reg_alpha': 6.447769834794899e-08, 'reg_lambda': 0.002905639741760087, 'max_depth': 5, 'num_leaves': 37, 'colsample_bytree': 0.3127457660683181, 'min_child_samples': 8, 'max_bin': 70, 'subsample_freq': 3}. Best is trial 84 with value: 0.18054410391774867.\n"
     ]
    },
    {
     "name": "stdout",
     "output_type": "stream",
     "text": [
      "Repeat \u001b[1m\u001b[34m#1\n"
     ]
    },
    {
     "name": "stderr",
     "output_type": "stream",
     "text": [
      "[I 2023-06-22 16:47:55,403] Trial 87 finished with value: 0.20728625897385256 and parameters: {'boosting_type': 'goss', 'learning_rate': 0.0282737311391576, 'reg_alpha': 2.663685454743598e-07, 'reg_lambda': 0.00027324216431910377, 'max_depth': 6, 'num_leaves': 28, 'colsample_bytree': 0.3148996086021159, 'min_child_samples': 30, 'max_bin': 97, 'subsample_freq': 3}. Best is trial 84 with value: 0.18054410391774867.\n"
     ]
    },
    {
     "name": "stdout",
     "output_type": "stream",
     "text": [
      "Repeat \u001b[1m\u001b[34m#1\n"
     ]
    },
    {
     "name": "stderr",
     "output_type": "stream",
     "text": [
      "[I 2023-06-22 16:47:58,998] Trial 88 finished with value: 0.23081386035141882 and parameters: {'boosting_type': 'gbdt', 'learning_rate': 0.01827960045712377, 'reg_alpha': 2.6967810841832078e-08, 'reg_lambda': 0.0005631305264532188, 'max_depth': 6, 'num_leaves': 45, 'colsample_bytree': 0.32586697330433034, 'min_child_samples': 23, 'max_bin': 71, 'subsample_freq': 3, 'subsample': 0.4267068526201291}. Best is trial 84 with value: 0.18054410391774867.\n"
     ]
    },
    {
     "name": "stdout",
     "output_type": "stream",
     "text": [
      "Repeat \u001b[1m\u001b[34m#1\n"
     ]
    },
    {
     "name": "stderr",
     "output_type": "stream",
     "text": [
      "[I 2023-06-22 16:48:01,227] Trial 89 finished with value: 0.2538914510658252 and parameters: {'boosting_type': 'goss', 'learning_rate': 0.054747666347409976, 'reg_alpha': 1.357649990543392e-07, 'reg_lambda': 0.001315275665671105, 'max_depth': 6, 'num_leaves': 52, 'colsample_bytree': 0.3097914084848875, 'min_child_samples': 58, 'max_bin': 34, 'subsample_freq': 2}. Best is trial 84 with value: 0.18054410391774867.\n"
     ]
    },
    {
     "name": "stdout",
     "output_type": "stream",
     "text": [
      "Repeat \u001b[1m\u001b[34m#1\n"
     ]
    },
    {
     "name": "stderr",
     "output_type": "stream",
     "text": [
      "[I 2023-06-22 16:48:03,848] Trial 90 finished with value: 0.20292608737115173 and parameters: {'boosting_type': 'goss', 'learning_rate': 0.03942224704582863, 'reg_alpha': 4.4622384665547924e-08, 'reg_lambda': 0.0044968455303006334, 'max_depth': 7, 'num_leaves': 42, 'colsample_bytree': 0.32621293299423365, 'min_child_samples': 18, 'max_bin': 49, 'subsample_freq': 3}. Best is trial 84 with value: 0.18054410391774867.\n"
     ]
    },
    {
     "name": "stdout",
     "output_type": "stream",
     "text": [
      "Repeat \u001b[1m\u001b[34m#1\n"
     ]
    },
    {
     "name": "stderr",
     "output_type": "stream",
     "text": [
      "[I 2023-06-22 16:48:06,246] Trial 91 finished with value: 0.18814763015205663 and parameters: {'boosting_type': 'goss', 'learning_rate': 0.03576113286675847, 'reg_alpha': 2.8440784749074848e-08, 'reg_lambda': 0.007170272746845577, 'max_depth': 5, 'num_leaves': 48, 'colsample_bytree': 0.3495334165353688, 'min_child_samples': 16, 'max_bin': 65, 'subsample_freq': 3}. Best is trial 84 with value: 0.18054410391774867.\n"
     ]
    },
    {
     "name": "stdout",
     "output_type": "stream",
     "text": [
      "Repeat \u001b[1m\u001b[34m#1\n"
     ]
    },
    {
     "name": "stderr",
     "output_type": "stream",
     "text": [
      "[I 2023-06-22 16:48:09,680] Trial 92 finished with value: 0.19906514901752828 and parameters: {'boosting_type': 'goss', 'learning_rate': 0.02197161136753985, 'reg_alpha': 7.803659509696916e-08, 'reg_lambda': 0.0025134140097587444, 'max_depth': 4, 'num_leaves': 49, 'colsample_bytree': 0.34907012228555173, 'min_child_samples': 17, 'max_bin': 43, 'subsample_freq': 3}. Best is trial 84 with value: 0.18054410391774867.\n"
     ]
    },
    {
     "name": "stdout",
     "output_type": "stream",
     "text": [
      "Repeat \u001b[1m\u001b[34m#1\n"
     ]
    },
    {
     "name": "stderr",
     "output_type": "stream",
     "text": [
      "[I 2023-06-22 16:48:12,324] Trial 93 finished with value: 0.26948354678438813 and parameters: {'boosting_type': 'goss', 'learning_rate': 0.03795170275677351, 'reg_alpha': 2.9547536490228456e-08, 'reg_lambda': 0.007825490836184007, 'max_depth': 5, 'num_leaves': 53, 'colsample_bytree': 0.33293859467596887, 'min_child_samples': 62, 'max_bin': 65, 'subsample_freq': 3}. Best is trial 84 with value: 0.18054410391774867.\n"
     ]
    },
    {
     "name": "stdout",
     "output_type": "stream",
     "text": [
      "Repeat \u001b[1m\u001b[34m#1\n"
     ]
    },
    {
     "name": "stderr",
     "output_type": "stream",
     "text": [
      "[I 2023-06-22 16:48:15,658] Trial 94 finished with value: 0.24145978172878368 and parameters: {'boosting_type': 'goss', 'learning_rate': 0.03079992016787953, 'reg_alpha': 1.623363992414667e-08, 'reg_lambda': 0.005332977126881231, 'max_depth': 6, 'num_leaves': 61, 'colsample_bytree': 0.3012481909407276, 'min_child_samples': 52, 'max_bin': 73, 'subsample_freq': 3}. Best is trial 84 with value: 0.18054410391774867.\n"
     ]
    },
    {
     "name": "stdout",
     "output_type": "stream",
     "text": [
      "Repeat \u001b[1m\u001b[34m#1\n"
     ]
    },
    {
     "name": "stderr",
     "output_type": "stream",
     "text": [
      "[I 2023-06-22 16:48:21,123] Trial 95 finished with value: 0.1979392383960379 and parameters: {'boosting_type': 'goss', 'learning_rate': 0.014740397912151157, 'reg_alpha': 4.5283042236676844e-08, 'reg_lambda': 0.0031963765349894177, 'max_depth': 5, 'num_leaves': 39, 'colsample_bytree': 0.31842063476693494, 'min_child_samples': 15, 'max_bin': 92, 'subsample_freq': 2}. Best is trial 84 with value: 0.18054410391774867.\n"
     ]
    },
    {
     "name": "stdout",
     "output_type": "stream",
     "text": [
      "Repeat \u001b[1m\u001b[34m#1\n"
     ]
    },
    {
     "name": "stderr",
     "output_type": "stream",
     "text": [
      "[I 2023-06-22 16:48:24,640] Trial 96 finished with value: 0.1982424063509307 and parameters: {'boosting_type': 'goss', 'learning_rate': 0.024701465240962468, 'reg_alpha': 1.6970627224912132e-07, 'reg_lambda': 0.0015040585627254237, 'max_depth': 7, 'num_leaves': 44, 'colsample_bytree': 0.339724831171765, 'min_child_samples': 21, 'max_bin': 66, 'subsample_freq': 2}. Best is trial 84 with value: 0.18054410391774867.\n"
     ]
    },
    {
     "name": "stdout",
     "output_type": "stream",
     "text": [
      "Repeat \u001b[1m\u001b[34m#1\n"
     ]
    },
    {
     "name": "stderr",
     "output_type": "stream",
     "text": [
      "[I 2023-06-22 16:48:26,973] Trial 97 finished with value: 0.21430415300317243 and parameters: {'boosting_type': 'goss', 'learning_rate': 0.04521431998221639, 'reg_alpha': 2.7392189760197262e-08, 'reg_lambda': 0.009711830236038705, 'max_depth': 5, 'num_leaves': 49, 'colsample_bytree': 0.31231281369620356, 'min_child_samples': 6, 'max_bin': 78, 'subsample_freq': 4}. Best is trial 84 with value: 0.18054410391774867.\n"
     ]
    },
    {
     "name": "stdout",
     "output_type": "stream",
     "text": [
      "Repeat \u001b[1m\u001b[34m#1\n"
     ]
    },
    {
     "name": "stderr",
     "output_type": "stream",
     "text": [
      "[I 2023-06-22 16:48:29,180] Trial 98 finished with value: 0.19666097728669527 and parameters: {'boosting_type': 'goss', 'learning_rate': 0.06154132081632755, 'reg_alpha': 1.6409650103009917e-08, 'reg_lambda': 0.04962255503647503, 'max_depth': 4, 'num_leaves': 32, 'colsample_bytree': 0.37262232494577985, 'min_child_samples': 9, 'max_bin': 49, 'subsample_freq': 4}. Best is trial 84 with value: 0.18054410391774867.\n"
     ]
    },
    {
     "name": "stdout",
     "output_type": "stream",
     "text": [
      "Repeat \u001b[1m\u001b[34m#1\n"
     ]
    },
    {
     "name": "stderr",
     "output_type": "stream",
     "text": [
      "[I 2023-06-22 16:48:30,888] Trial 99 finished with value: 0.19522256568796698 and parameters: {'boosting_type': 'goss', 'learning_rate': 0.0908541808140415, 'reg_alpha': 8.389443548909454e-08, 'reg_lambda': 0.0007805369710567897, 'max_depth': 6, 'num_leaves': 55, 'colsample_bytree': 0.35238937767520434, 'min_child_samples': 26, 'max_bin': 60, 'subsample_freq': 3}. Best is trial 84 with value: 0.18054410391774867.\n"
     ]
    },
    {
     "name": "stdout",
     "output_type": "stream",
     "text": [
      "Repeat \u001b[1m\u001b[34m#1\n"
     ]
    },
    {
     "name": "stderr",
     "output_type": "stream",
     "text": [
      "[I 2023-06-22 16:48:36,701] Trial 100 finished with value: 0.1977864716457951 and parameters: {'boosting_type': 'goss', 'learning_rate': 0.01685629159071103, 'reg_alpha': 5.3627527298071146e-08, 'reg_lambda': 0.030192469496784575, 'max_depth': 7, 'num_leaves': 63, 'colsample_bytree': 0.3248610435881786, 'min_child_samples': 13, 'max_bin': 125, 'subsample_freq': 3}. Best is trial 84 with value: 0.18054410391774867.\n"
     ]
    },
    {
     "name": "stdout",
     "output_type": "stream",
     "text": [
      "Repeat \u001b[1m\u001b[34m#1\n"
     ]
    },
    {
     "name": "stderr",
     "output_type": "stream",
     "text": [
      "[I 2023-06-22 16:48:38,795] Trial 101 finished with value: 0.1903688709820874 and parameters: {'boosting_type': 'goss', 'learning_rate': 0.08809441975133812, 'reg_alpha': 9.175439958815924e-08, 'reg_lambda': 0.0009151905792117859, 'max_depth': 6, 'num_leaves': 56, 'colsample_bytree': 0.35121136647452034, 'min_child_samples': 20, 'max_bin': 60, 'subsample_freq': 3}. Best is trial 84 with value: 0.18054410391774867.\n"
     ]
    },
    {
     "name": "stdout",
     "output_type": "stream",
     "text": [
      "Repeat \u001b[1m\u001b[34m#1\n"
     ]
    },
    {
     "name": "stderr",
     "output_type": "stream",
     "text": [
      "[I 2023-06-22 16:48:41,214] Trial 102 finished with value: 0.194536708307407 and parameters: {'boosting_type': 'goss', 'learning_rate': 0.03378510527636805, 'reg_alpha': 1.1501245698876517e-07, 'reg_lambda': 0.0024884123647706887, 'max_depth': 5, 'num_leaves': 57, 'colsample_bytree': 0.34598971613339863, 'min_child_samples': 22, 'max_bin': 53, 'subsample_freq': 3}. Best is trial 84 with value: 0.18054410391774867.\n"
     ]
    },
    {
     "name": "stdout",
     "output_type": "stream",
     "text": [
      "Repeat \u001b[1m\u001b[34m#1\n"
     ]
    },
    {
     "name": "stderr",
     "output_type": "stream",
     "text": [
      "[I 2023-06-22 16:48:42,620] Trial 103 finished with value: 0.18567655128069394 and parameters: {'boosting_type': 'goss', 'learning_rate': 0.11498376832226272, 'reg_alpha': 3.8571765018234665e-07, 'reg_lambda': 0.0011545317868730848, 'max_depth': 6, 'num_leaves': 60, 'colsample_bytree': 0.3348812304887654, 'min_child_samples': 19, 'max_bin': 83, 'subsample_freq': 3}. Best is trial 84 with value: 0.18054410391774867.\n"
     ]
    },
    {
     "name": "stdout",
     "output_type": "stream",
     "text": [
      "Repeat \u001b[1m\u001b[34m#1\n"
     ]
    },
    {
     "name": "stderr",
     "output_type": "stream",
     "text": [
      "[I 2023-06-22 16:48:44,073] Trial 104 finished with value: 0.18743224434169317 and parameters: {'boosting_type': 'goss', 'learning_rate': 0.11927331807926737, 'reg_alpha': 1.6667994109426217e-07, 'reg_lambda': 0.000345800442927143, 'max_depth': 6, 'num_leaves': 59, 'colsample_bytree': 0.3350847010321334, 'min_child_samples': 20, 'max_bin': 82, 'subsample_freq': 3}. Best is trial 84 with value: 0.18054410391774867.\n"
     ]
    },
    {
     "name": "stdout",
     "output_type": "stream",
     "text": [
      "Repeat \u001b[1m\u001b[34m#1\n"
     ]
    },
    {
     "name": "stderr",
     "output_type": "stream",
     "text": [
      "[I 2023-06-22 16:48:46,092] Trial 105 finished with value: 0.19046331829871382 and parameters: {'boosting_type': 'goss', 'learning_rate': 0.08146276185087077, 'reg_alpha': 2.9455589820611086e-07, 'reg_lambda': 0.0004959811769000483, 'max_depth': 6, 'num_leaves': 60, 'colsample_bytree': 0.32942229931144495, 'min_child_samples': 20, 'max_bin': 74, 'subsample_freq': 3}. Best is trial 84 with value: 0.18054410391774867.\n"
     ]
    },
    {
     "name": "stdout",
     "output_type": "stream",
     "text": [
      "Repeat \u001b[1m\u001b[34m#1\n"
     ]
    },
    {
     "name": "stderr",
     "output_type": "stream",
     "text": [
      "[I 2023-06-22 16:48:47,584] Trial 106 finished with value: 0.20044059596859998 and parameters: {'boosting_type': 'goss', 'learning_rate': 0.12091177122287672, 'reg_alpha': 3.726821209095816e-07, 'reg_lambda': 0.00031134728269716875, 'max_depth': 6, 'num_leaves': 59, 'colsample_bytree': 0.3371667894367813, 'min_child_samples': 23, 'max_bin': 80, 'subsample_freq': 3}. Best is trial 84 with value: 0.18054410391774867.\n"
     ]
    },
    {
     "name": "stdout",
     "output_type": "stream",
     "text": [
      "Repeat \u001b[1m\u001b[34m#1\n"
     ]
    },
    {
     "name": "stderr",
     "output_type": "stream",
     "text": [
      "[I 2023-06-22 16:48:49,152] Trial 107 finished with value: 0.18568997220122962 and parameters: {'boosting_type': 'goss', 'learning_rate': 0.11636708201643715, 'reg_alpha': 1.9879180081089194e-07, 'reg_lambda': 0.00046441153267612974, 'max_depth': 6, 'num_leaves': 66, 'colsample_bytree': 0.33129445030412885, 'min_child_samples': 20, 'max_bin': 96, 'subsample_freq': 3}. Best is trial 84 with value: 0.18054410391774867.\n"
     ]
    },
    {
     "name": "stdout",
     "output_type": "stream",
     "text": [
      "Repeat \u001b[1m\u001b[34m#1\n"
     ]
    },
    {
     "name": "stderr",
     "output_type": "stream",
     "text": [
      "[I 2023-06-22 16:48:50,579] Trial 108 finished with value: 0.22632122796400167 and parameters: {'boosting_type': 'gbdt', 'learning_rate': 0.08206967613086302, 'reg_alpha': 2.0101105763614545e-07, 'reg_lambda': 0.0004103425016462907, 'max_depth': 6, 'num_leaves': 51, 'colsample_bytree': 0.3277777804910978, 'min_child_samples': 20, 'max_bin': 95, 'subsample_freq': 3, 'subsample': 0.3647253770099171}. Best is trial 84 with value: 0.18054410391774867.\n"
     ]
    },
    {
     "name": "stdout",
     "output_type": "stream",
     "text": [
      "Repeat \u001b[1m\u001b[34m#1\n"
     ]
    },
    {
     "name": "stderr",
     "output_type": "stream",
     "text": [
      "[I 2023-06-22 16:48:52,132] Trial 109 finished with value: 0.20998424933527818 and parameters: {'boosting_type': 'goss', 'learning_rate': 0.10729739535284159, 'reg_alpha': 4.499843483905524e-07, 'reg_lambda': 0.0001873529201117228, 'max_depth': 6, 'num_leaves': 66, 'colsample_bytree': 0.31475065624011594, 'min_child_samples': 26, 'max_bin': 102, 'subsample_freq': 3}. Best is trial 84 with value: 0.18054410391774867.\n"
     ]
    },
    {
     "name": "stdout",
     "output_type": "stream",
     "text": [
      "Repeat \u001b[1m\u001b[34m#1\n"
     ]
    },
    {
     "name": "stderr",
     "output_type": "stream",
     "text": [
      "[I 2023-06-22 16:48:54,150] Trial 110 finished with value: 0.20167055912783452 and parameters: {'boosting_type': 'goss', 'learning_rate': 0.08506982851883202, 'reg_alpha': 3.0228712057823554e-07, 'reg_lambda': 0.00048579634309227294, 'max_depth': 6, 'num_leaves': 59, 'colsample_bytree': 0.33593356792713885, 'min_child_samples': 31, 'max_bin': 68, 'subsample_freq': 2}. Best is trial 84 with value: 0.18054410391774867.\n"
     ]
    },
    {
     "name": "stdout",
     "output_type": "stream",
     "text": [
      "Repeat \u001b[1m\u001b[34m#1\n"
     ]
    },
    {
     "name": "stderr",
     "output_type": "stream",
     "text": [
      "[I 2023-06-22 16:48:55,308] Trial 111 finished with value: 0.18836832742118703 and parameters: {'boosting_type': 'goss', 'learning_rate': 0.16642317696482384, 'reg_alpha': 2.2204129135844967e-07, 'reg_lambda': 0.0011485264247137977, 'max_depth': 6, 'num_leaves': 68, 'colsample_bytree': 0.3536762563476131, 'min_child_samples': 20, 'max_bin': 75, 'subsample_freq': 3}. Best is trial 84 with value: 0.18054410391774867.\n"
     ]
    },
    {
     "name": "stdout",
     "output_type": "stream",
     "text": [
      "Repeat \u001b[1m\u001b[34m#1\n"
     ]
    },
    {
     "name": "stderr",
     "output_type": "stream",
     "text": [
      "[I 2023-06-22 16:48:56,343] Trial 112 finished with value: 0.17808824486924335 and parameters: {'boosting_type': 'goss', 'learning_rate': 0.1778328724726352, 'reg_alpha': 2.3524569448037286e-07, 'reg_lambda': 0.000997478857287863, 'max_depth': 6, 'num_leaves': 69, 'colsample_bytree': 0.3560539037697029, 'min_child_samples': 15, 'max_bin': 74, 'subsample_freq': 3}. Best is trial 112 with value: 0.17808824486924335.\n"
     ]
    },
    {
     "name": "stdout",
     "output_type": "stream",
     "text": [
      "Repeat \u001b[1m\u001b[34m#1\n"
     ]
    },
    {
     "name": "stderr",
     "output_type": "stream",
     "text": [
      "[I 2023-06-22 16:48:57,431] Trial 113 finished with value: 0.1756134789667903 and parameters: {'boosting_type': 'goss', 'learning_rate': 0.17612849618467064, 'reg_alpha': 2.0512431639181204e-07, 'reg_lambda': 0.001097517951733408, 'max_depth': 6, 'num_leaves': 67, 'colsample_bytree': 0.35390004268620273, 'min_child_samples': 20, 'max_bin': 75, 'subsample_freq': 3}. Best is trial 113 with value: 0.1756134789667903.\n"
     ]
    },
    {
     "name": "stdout",
     "output_type": "stream",
     "text": [
      "Repeat \u001b[1m\u001b[34m#1\n"
     ]
    },
    {
     "name": "stderr",
     "output_type": "stream",
     "text": [
      "[I 2023-06-22 16:48:58,589] Trial 114 finished with value: 0.19043008154959903 and parameters: {'boosting_type': 'goss', 'learning_rate': 0.18447839191784682, 'reg_alpha': 5.333268813569513e-07, 'reg_lambda': 0.0009354491914306233, 'max_depth': 6, 'num_leaves': 69, 'colsample_bytree': 0.36182027289539515, 'min_child_samples': 24, 'max_bin': 83, 'subsample_freq': 3}. Best is trial 113 with value: 0.1756134789667903.\n"
     ]
    },
    {
     "name": "stdout",
     "output_type": "stream",
     "text": [
      "Repeat \u001b[1m\u001b[34m#1\n"
     ]
    },
    {
     "name": "stderr",
     "output_type": "stream",
     "text": [
      "[I 2023-06-22 16:48:59,827] Trial 115 finished with value: 0.18882581867925102 and parameters: {'boosting_type': 'goss', 'learning_rate': 0.16495989904556696, 'reg_alpha': 9.93609596852934e-07, 'reg_lambda': 0.0011915253809791327, 'max_depth': 6, 'num_leaves': 66, 'colsample_bytree': 0.3547507029915324, 'min_child_samples': 15, 'max_bin': 110, 'subsample_freq': 3}. Best is trial 113 with value: 0.1756134789667903.\n"
     ]
    },
    {
     "name": "stdout",
     "output_type": "stream",
     "text": [
      "Repeat \u001b[1m\u001b[34m#1\n"
     ]
    },
    {
     "name": "stderr",
     "output_type": "stream",
     "text": [
      "[I 2023-06-22 16:49:00,806] Trial 116 finished with value: 0.20108942151668138 and parameters: {'boosting_type': 'goss', 'learning_rate': 0.27716201626080217, 'reg_alpha': 7.668772329313236e-07, 'reg_lambda': 0.0010225454044714042, 'max_depth': 6, 'num_leaves': 74, 'colsample_bytree': 0.36049899027398297, 'min_child_samples': 15, 'max_bin': 88, 'subsample_freq': 2}. Best is trial 113 with value: 0.1756134789667903.\n"
     ]
    },
    {
     "name": "stdout",
     "output_type": "stream",
     "text": [
      "Repeat \u001b[1m\u001b[34m#1\n"
     ]
    },
    {
     "name": "stderr",
     "output_type": "stream",
     "text": [
      "[I 2023-06-22 16:49:02,025] Trial 117 finished with value: 0.19548405157392548 and parameters: {'boosting_type': 'goss', 'learning_rate': 0.17547149586049693, 'reg_alpha': 1.0166038960760348e-06, 'reg_lambda': 0.0016819442736358333, 'max_depth': 5, 'num_leaves': 66, 'colsample_bytree': 0.34364824218632534, 'min_child_samples': 16, 'max_bin': 109, 'subsample_freq': 3}. Best is trial 113 with value: 0.1756134789667903.\n"
     ]
    },
    {
     "name": "stdout",
     "output_type": "stream",
     "text": [
      "Repeat \u001b[1m\u001b[34m#1\n"
     ]
    },
    {
     "name": "stderr",
     "output_type": "stream",
     "text": [
      "[I 2023-06-22 16:49:03,179] Trial 118 finished with value: 0.16815430219467542 and parameters: {'boosting_type': 'goss', 'learning_rate': 0.21596531378766737, 'reg_alpha': 2.343524450942364e-07, 'reg_lambda': 0.00019513690085002231, 'max_depth': 6, 'num_leaves': 70, 'colsample_bytree': 0.355272662458314, 'min_child_samples': 18, 'max_bin': 77, 'subsample_freq': 3}. Best is trial 118 with value: 0.16815430219467542.\n"
     ]
    },
    {
     "name": "stdout",
     "output_type": "stream",
     "text": [
      "Repeat \u001b[1m\u001b[34m#1\n"
     ]
    },
    {
     "name": "stderr",
     "output_type": "stream",
     "text": [
      "[I 2023-06-22 16:49:04,118] Trial 119 finished with value: 0.1833476221081821 and parameters: {'boosting_type': 'goss', 'learning_rate': 0.221970115792797, 'reg_alpha': 1.6828941036032184e-06, 'reg_lambda': 0.00011091707344806478, 'max_depth': 6, 'num_leaves': 70, 'colsample_bytree': 0.37774346554821886, 'min_child_samples': 19, 'max_bin': 92, 'subsample_freq': 3}. Best is trial 118 with value: 0.16815430219467542.\n"
     ]
    },
    {
     "name": "stdout",
     "output_type": "stream",
     "text": [
      "Repeat \u001b[1m\u001b[34m#1\n"
     ]
    },
    {
     "name": "stderr",
     "output_type": "stream",
     "text": [
      "[I 2023-06-22 16:49:05,007] Trial 120 finished with value: 0.18891927696588776 and parameters: {'boosting_type': 'goss', 'learning_rate': 0.2226109497409532, 'reg_alpha': 1.9767436991394192e-07, 'reg_lambda': 0.0001080363647895879, 'max_depth': 6, 'num_leaves': 70, 'colsample_bytree': 0.3790183151190027, 'min_child_samples': 27, 'max_bin': 90, 'subsample_freq': 3}. Best is trial 118 with value: 0.16815430219467542.\n"
     ]
    },
    {
     "name": "stdout",
     "output_type": "stream",
     "text": [
      "Repeat \u001b[1m\u001b[34m#1\n"
     ]
    },
    {
     "name": "stderr",
     "output_type": "stream",
     "text": [
      "[I 2023-06-22 16:49:06,358] Trial 121 finished with value: 0.19889866212813345 and parameters: {'boosting_type': 'goss', 'learning_rate': 0.150179011547236, 'reg_alpha': 1.7710705727797464e-06, 'reg_lambda': 0.00022363289664907655, 'max_depth': 6, 'num_leaves': 68, 'colsample_bytree': 0.3569976777610919, 'min_child_samples': 19, 'max_bin': 95, 'subsample_freq': 3}. Best is trial 118 with value: 0.16815430219467542.\n"
     ]
    },
    {
     "name": "stdout",
     "output_type": "stream",
     "text": [
      "Repeat \u001b[1m\u001b[34m#1\n"
     ]
    },
    {
     "name": "stderr",
     "output_type": "stream",
     "text": [
      "[I 2023-06-22 16:49:07,428] Trial 122 finished with value: 0.17207180392070162 and parameters: {'boosting_type': 'goss', 'learning_rate': 0.16272958076939412, 'reg_alpha': 3.908546221734868e-07, 'reg_lambda': 0.0003479009743066256, 'max_depth': 6, 'num_leaves': 74, 'colsample_bytree': 0.36811345617229596, 'min_child_samples': 22, 'max_bin': 75, 'subsample_freq': 3}. Best is trial 118 with value: 0.16815430219467542.\n"
     ]
    },
    {
     "name": "stdout",
     "output_type": "stream",
     "text": [
      "Repeat \u001b[1m\u001b[34m#1\n"
     ]
    },
    {
     "name": "stderr",
     "output_type": "stream",
     "text": [
      "[I 2023-06-22 16:49:08,556] Trial 123 finished with value: 0.19100345740746294 and parameters: {'boosting_type': 'goss', 'learning_rate': 0.21419925894443617, 'reg_alpha': 3.199017105096674e-07, 'reg_lambda': 0.0001300420642644794, 'max_depth': 6, 'num_leaves': 70, 'colsample_bytree': 0.3696052808462502, 'min_child_samples': 23, 'max_bin': 76, 'subsample_freq': 3}. Best is trial 118 with value: 0.16815430219467542.\n"
     ]
    },
    {
     "name": "stdout",
     "output_type": "stream",
     "text": [
      "Repeat \u001b[1m\u001b[34m#1\n"
     ]
    },
    {
     "name": "stderr",
     "output_type": "stream",
     "text": [
      "[I 2023-06-22 16:49:10,067] Trial 124 finished with value: 0.19698097806601275 and parameters: {'boosting_type': 'goss', 'learning_rate': 0.12664681062109157, 'reg_alpha': 4.884491724779746e-07, 'reg_lambda': 0.00035233721867761924, 'max_depth': 6, 'num_leaves': 73, 'colsample_bytree': 0.39340726107374957, 'min_child_samples': 22, 'max_bin': 81, 'subsample_freq': 3}. Best is trial 118 with value: 0.16815430219467542.\n"
     ]
    },
    {
     "name": "stdout",
     "output_type": "stream",
     "text": [
      "Repeat \u001b[1m\u001b[34m#1\n"
     ]
    },
    {
     "name": "stderr",
     "output_type": "stream",
     "text": [
      "[I 2023-06-22 16:49:11,051] Trial 125 finished with value: 0.19680460405141914 and parameters: {'boosting_type': 'goss', 'learning_rate': 0.25876769741231415, 'reg_alpha': 1.985702564354305e-07, 'reg_lambda': 7.594464982421334e-05, 'max_depth': 5, 'num_leaves': 76, 'colsample_bytree': 0.37020005234717884, 'min_child_samples': 19, 'max_bin': 75, 'subsample_freq': 3}. Best is trial 118 with value: 0.16815430219467542.\n"
     ]
    },
    {
     "name": "stdout",
     "output_type": "stream",
     "text": [
      "Repeat \u001b[1m\u001b[34m#1\n"
     ]
    },
    {
     "name": "stderr",
     "output_type": "stream",
     "text": [
      "[I 2023-06-22 16:49:11,985] Trial 126 finished with value: 0.2016455982730033 and parameters: {'boosting_type': 'goss', 'learning_rate': 0.22847455750291504, 'reg_alpha': 6.701783977164851e-07, 'reg_lambda': 0.00037979264133380204, 'max_depth': 6, 'num_leaves': 64, 'colsample_bytree': 0.3847409627946986, 'min_child_samples': 25, 'max_bin': 91, 'subsample_freq': 1}. Best is trial 118 with value: 0.16815430219467542.\n"
     ]
    },
    {
     "name": "stdout",
     "output_type": "stream",
     "text": [
      "Repeat \u001b[1m\u001b[34m#1\n"
     ]
    },
    {
     "name": "stderr",
     "output_type": "stream",
     "text": [
      "[I 2023-06-22 16:49:13,080] Trial 127 finished with value: 0.20276454024748505 and parameters: {'boosting_type': 'goss', 'learning_rate': 0.19974125281823912, 'reg_alpha': 1.3291978056074508e-06, 'reg_lambda': 0.0006358348963313849, 'max_depth': 6, 'num_leaves': 78, 'colsample_bytree': 0.34359256271026745, 'min_child_samples': 46, 'max_bin': 57, 'subsample_freq': 4}. Best is trial 118 with value: 0.16815430219467542.\n"
     ]
    },
    {
     "name": "stdout",
     "output_type": "stream",
     "text": [
      "Repeat \u001b[1m\u001b[34m#1\n"
     ]
    },
    {
     "name": "stderr",
     "output_type": "stream",
     "text": [
      "[I 2023-06-22 16:49:14,295] Trial 128 finished with value: 0.23259207121180736 and parameters: {'boosting_type': 'gbdt', 'learning_rate': 0.15766137356746607, 'reg_alpha': 1.374341281601411e-07, 'reg_lambda': 4.690204193445004e-05, 'max_depth': 6, 'num_leaves': 72, 'colsample_bytree': 0.3741316478142762, 'min_child_samples': 17, 'max_bin': 85, 'subsample_freq': 3, 'subsample': 0.5471156513980522}. Best is trial 118 with value: 0.16815430219467542.\n"
     ]
    },
    {
     "name": "stdout",
     "output_type": "stream",
     "text": [
      "Repeat \u001b[1m\u001b[34m#1\n"
     ]
    },
    {
     "name": "stderr",
     "output_type": "stream",
     "text": [
      "[I 2023-06-22 16:49:15,614] Trial 129 finished with value: 0.18434080857831464 and parameters: {'boosting_type': 'goss', 'learning_rate': 0.12102818238785884, 'reg_alpha': 4.72975959158824e-07, 'reg_lambda': 0.00026382948933974167, 'max_depth': 5, 'num_leaves': 64, 'colsample_bytree': 0.36606190571515657, 'min_child_samples': 29, 'max_bin': 64, 'subsample_freq': 3}. Best is trial 118 with value: 0.16815430219467542.\n"
     ]
    },
    {
     "name": "stdout",
     "output_type": "stream",
     "text": [
      "Repeat \u001b[1m\u001b[34m#1\n"
     ]
    },
    {
     "name": "stderr",
     "output_type": "stream",
     "text": [
      "[I 2023-06-22 16:49:17,071] Trial 130 finished with value: 0.18936270829370727 and parameters: {'boosting_type': 'goss', 'learning_rate': 0.1172729787780233, 'reg_alpha': 4.924509347811381e-07, 'reg_lambda': 0.00027857681752259655, 'max_depth': 5, 'num_leaves': 64, 'colsample_bytree': 0.39161460066880016, 'min_child_samples': 30, 'max_bin': 65, 'subsample_freq': 3}. Best is trial 118 with value: 0.16815430219467542.\n"
     ]
    },
    {
     "name": "stdout",
     "output_type": "stream",
     "text": [
      "Repeat \u001b[1m\u001b[34m#1\n"
     ]
    },
    {
     "name": "stderr",
     "output_type": "stream",
     "text": [
      "[I 2023-06-22 16:49:18,628] Trial 131 finished with value: 0.17884501945920803 and parameters: {'boosting_type': 'goss', 'learning_rate': 0.13773363768970823, 'reg_alpha': 2.3942083182442824e-07, 'reg_lambda': 0.0006064492883084633, 'max_depth': 5, 'num_leaves': 68, 'colsample_bytree': 0.36504414717341166, 'min_child_samples': 21, 'max_bin': 73, 'subsample_freq': 3}. Best is trial 118 with value: 0.16815430219467542.\n"
     ]
    },
    {
     "name": "stdout",
     "output_type": "stream",
     "text": [
      "Repeat \u001b[1m\u001b[34m#1\n"
     ]
    },
    {
     "name": "stderr",
     "output_type": "stream",
     "text": [
      "[I 2023-06-22 16:49:20,027] Trial 132 finished with value: 0.18484837687124242 and parameters: {'boosting_type': 'goss', 'learning_rate': 0.1376395987674536, 'reg_alpha': 2.421036202320845e-07, 'reg_lambda': 0.0006077833718870735, 'max_depth': 5, 'num_leaves': 67, 'colsample_bytree': 0.36608258947294076, 'min_child_samples': 21, 'max_bin': 73, 'subsample_freq': 3}. Best is trial 118 with value: 0.16815430219467542.\n"
     ]
    },
    {
     "name": "stdout",
     "output_type": "stream",
     "text": [
      "Repeat \u001b[1m\u001b[34m#1\n"
     ]
    },
    {
     "name": "stderr",
     "output_type": "stream",
     "text": [
      "[I 2023-06-22 16:49:20,946] Trial 133 finished with value: 0.19483606715679105 and parameters: {'boosting_type': 'goss', 'learning_rate': 0.24296025809101973, 'reg_alpha': 2.5373707755085624e-06, 'reg_lambda': 0.0001646543968037521, 'max_depth': 5, 'num_leaves': 75, 'colsample_bytree': 0.36292495550438986, 'min_child_samples': 23, 'max_bin': 81, 'subsample_freq': 3}. Best is trial 118 with value: 0.16815430219467542.\n"
     ]
    },
    {
     "name": "stdout",
     "output_type": "stream",
     "text": [
      "Repeat \u001b[1m\u001b[34m#1\n"
     ]
    },
    {
     "name": "stderr",
     "output_type": "stream",
     "text": [
      "[I 2023-06-22 16:49:22,316] Trial 134 finished with value: 0.19286683450637412 and parameters: {'boosting_type': 'goss', 'learning_rate': 0.1401457930073301, 'reg_alpha': 3.7480838201626077e-07, 'reg_lambda': 0.0006602137642262975, 'max_depth': 5, 'num_leaves': 61, 'colsample_bytree': 0.38244272010686237, 'min_child_samples': 14, 'max_bin': 72, 'subsample_freq': 3}. Best is trial 118 with value: 0.16815430219467542.\n"
     ]
    },
    {
     "name": "stdout",
     "output_type": "stream",
     "text": [
      "Repeat \u001b[1m\u001b[34m#1\n"
     ]
    },
    {
     "name": "stderr",
     "output_type": "stream",
     "text": [
      "[I 2023-06-22 16:49:23,887] Trial 135 finished with value: 0.20277257479622648 and parameters: {'boosting_type': 'goss', 'learning_rate': 0.12810047917183848, 'reg_alpha': 6.865921983271854e-07, 'reg_lambda': 0.00023275589073257677, 'max_depth': 5, 'num_leaves': 67, 'colsample_bytree': 0.36848393703885624, 'min_child_samples': 28, 'max_bin': 147, 'subsample_freq': 3}. Best is trial 118 with value: 0.16815430219467542.\n"
     ]
    },
    {
     "name": "stdout",
     "output_type": "stream",
     "text": [
      "Repeat \u001b[1m\u001b[34m#1\n"
     ]
    },
    {
     "name": "stderr",
     "output_type": "stream",
     "text": [
      "[I 2023-06-22 16:49:25,002] Trial 136 finished with value: 0.18132159830858482 and parameters: {'boosting_type': 'goss', 'learning_rate': 0.1924940682646023, 'reg_alpha': 1.6976611567178325e-06, 'reg_lambda': 0.00038323532734300405, 'max_depth': 5, 'num_leaves': 69, 'colsample_bytree': 0.40160067081402256, 'min_child_samples': 21, 'max_bin': 63, 'subsample_freq': 3}. Best is trial 118 with value: 0.16815430219467542.\n"
     ]
    },
    {
     "name": "stdout",
     "output_type": "stream",
     "text": [
      "Repeat \u001b[1m\u001b[34m#1\n"
     ]
    },
    {
     "name": "stderr",
     "output_type": "stream",
     "text": [
      "[I 2023-06-22 16:49:26,624] Trial 137 finished with value: 0.18324141590101165 and parameters: {'boosting_type': 'goss', 'learning_rate': 0.10648268966571243, 'reg_alpha': 1.7468209325148847e-06, 'reg_lambda': 0.0003501364723055617, 'max_depth': 4, 'num_leaves': 72, 'colsample_bytree': 0.4021905460745547, 'min_child_samples': 21, 'max_bin': 99, 'subsample_freq': 3}. Best is trial 118 with value: 0.16815430219467542.\n"
     ]
    },
    {
     "name": "stdout",
     "output_type": "stream",
     "text": [
      "Repeat \u001b[1m\u001b[34m#1\n"
     ]
    },
    {
     "name": "stderr",
     "output_type": "stream",
     "text": [
      "[I 2023-06-22 16:49:27,401] Trial 138 finished with value: 0.20948909775870575 and parameters: {'boosting_type': 'goss', 'learning_rate': 0.29611029548534534, 'reg_alpha': 4.267590413876793e-06, 'reg_lambda': 0.00041896067547413877, 'max_depth': 4, 'num_leaves': 70, 'colsample_bytree': 0.40300129620237224, 'min_child_samples': 21, 'max_bin': 92, 'subsample_freq': 3}. Best is trial 118 with value: 0.16815430219467542.\n"
     ]
    },
    {
     "name": "stdout",
     "output_type": "stream",
     "text": [
      "Repeat \u001b[1m\u001b[34m#1\n"
     ]
    },
    {
     "name": "stderr",
     "output_type": "stream",
     "text": [
      "[I 2023-06-22 16:49:28,323] Trial 139 finished with value: 0.18927984609821208 and parameters: {'boosting_type': 'goss', 'learning_rate': 0.20094144369337594, 'reg_alpha': 1.8508820140862982e-06, 'reg_lambda': 0.00013101860266111217, 'max_depth': 5, 'num_leaves': 74, 'colsample_bytree': 0.38575039196592537, 'min_child_samples': 25, 'max_bin': 87, 'subsample_freq': 2}. Best is trial 118 with value: 0.16815430219467542.\n"
     ]
    },
    {
     "name": "stdout",
     "output_type": "stream",
     "text": [
      "Repeat \u001b[1m\u001b[34m#1\n"
     ]
    },
    {
     "name": "stderr",
     "output_type": "stream",
     "text": [
      "[I 2023-06-22 16:49:29,774] Trial 140 finished with value: 0.18708236000399708 and parameters: {'boosting_type': 'goss', 'learning_rate': 0.10467914788258369, 'reg_alpha': 1.3149879384605343e-06, 'reg_lambda': 0.0005718910785576239, 'max_depth': 4, 'num_leaves': 64, 'colsample_bytree': 0.39754273485030617, 'min_child_samples': 22, 'max_bin': 80, 'subsample_freq': 3}. Best is trial 118 with value: 0.16815430219467542.\n"
     ]
    },
    {
     "name": "stdout",
     "output_type": "stream",
     "text": [
      "Repeat \u001b[1m\u001b[34m#1\n"
     ]
    },
    {
     "name": "stderr",
     "output_type": "stream",
     "text": [
      "[I 2023-06-22 16:49:30,899] Trial 141 finished with value: 0.20787699292143447 and parameters: {'boosting_type': 'goss', 'learning_rate': 0.10630368895277349, 'reg_alpha': 8.798759712054094e-07, 'reg_lambda': 0.0003638053155308484, 'max_depth': 4, 'num_leaves': 66, 'colsample_bytree': 0.4126254203958149, 'min_child_samples': 22, 'max_bin': 78, 'subsample_freq': 3}. Best is trial 118 with value: 0.16815430219467542.\n"
     ]
    },
    {
     "name": "stdout",
     "output_type": "stream",
     "text": [
      "Repeat \u001b[1m\u001b[34m#1\n"
     ]
    },
    {
     "name": "stderr",
     "output_type": "stream",
     "text": [
      "[I 2023-06-22 16:49:32,036] Trial 142 finished with value: 0.19014795398535742 and parameters: {'boosting_type': 'goss', 'learning_rate': 0.14485845050658624, 'reg_alpha': 7.347269410581299e-06, 'reg_lambda': 0.000540201563986221, 'max_depth': 4, 'num_leaves': 63, 'colsample_bytree': 0.3975877012458774, 'min_child_samples': 19, 'max_bin': 83, 'subsample_freq': 3}. Best is trial 118 with value: 0.16815430219467542.\n"
     ]
    },
    {
     "name": "stdout",
     "output_type": "stream",
     "text": [
      "Repeat \u001b[1m\u001b[34m#1\n"
     ]
    },
    {
     "name": "stderr",
     "output_type": "stream",
     "text": [
      "[I 2023-06-22 16:49:32,965] Trial 143 finished with value: 0.21154004401146254 and parameters: {'boosting_type': 'goss', 'learning_rate': 0.1799348775987135, 'reg_alpha': 1.683138373315193e-06, 'reg_lambda': 0.0002084600108031443, 'max_depth': 4, 'num_leaves': 82, 'colsample_bytree': 0.3766862625071399, 'min_child_samples': 27, 'max_bin': 62, 'subsample_freq': 3}. Best is trial 118 with value: 0.16815430219467542.\n"
     ]
    },
    {
     "name": "stdout",
     "output_type": "stream",
     "text": [
      "Repeat \u001b[1m\u001b[34m#1\n"
     ]
    },
    {
     "name": "stderr",
     "output_type": "stream",
     "text": [
      "[I 2023-06-22 16:49:34,351] Trial 144 finished with value: 0.19339139004699812 and parameters: {'boosting_type': 'goss', 'learning_rate': 0.11499853203005762, 'reg_alpha': 1.1762541276239111e-06, 'reg_lambda': 0.00028327638938923733, 'max_depth': 4, 'num_leaves': 72, 'colsample_bytree': 0.40920489101393087, 'min_child_samples': 24, 'max_bin': 97, 'subsample_freq': 3}. Best is trial 118 with value: 0.16815430219467542.\n"
     ]
    },
    {
     "name": "stdout",
     "output_type": "stream",
     "text": [
      "Repeat \u001b[1m\u001b[34m#1\n"
     ]
    },
    {
     "name": "stderr",
     "output_type": "stream",
     "text": [
      "[I 2023-06-22 16:49:35,832] Trial 145 finished with value: 0.18813513692635517 and parameters: {'boosting_type': 'goss', 'learning_rate': 0.0999130105155565, 'reg_alpha': 2.975528058739396e-07, 'reg_lambda': 0.0007405121508434257, 'max_depth': 4, 'num_leaves': 68, 'colsample_bytree': 0.39889248541764655, 'min_child_samples': 21, 'max_bin': 70, 'subsample_freq': 3}. Best is trial 118 with value: 0.16815430219467542.\n"
     ]
    },
    {
     "name": "stdout",
     "output_type": "stream",
     "text": [
      "Repeat \u001b[1m\u001b[34m#1\n"
     ]
    },
    {
     "name": "stderr",
     "output_type": "stream",
     "text": [
      "[I 2023-06-22 16:49:37,112] Trial 146 finished with value: 0.18774359355668027 and parameters: {'boosting_type': 'goss', 'learning_rate': 0.13655059559335828, 'reg_alpha': 2.7966413778560192e-06, 'reg_lambda': 0.00012036407200461726, 'max_depth': 5, 'num_leaves': 78, 'colsample_bytree': 0.3641087598314814, 'min_child_samples': 18, 'max_bin': 73, 'subsample_freq': 3}. Best is trial 118 with value: 0.16815430219467542.\n"
     ]
    },
    {
     "name": "stdout",
     "output_type": "stream",
     "text": [
      "Repeat \u001b[1m\u001b[34m#1\n"
     ]
    },
    {
     "name": "stderr",
     "output_type": "stream",
     "text": [
      "[I 2023-06-22 16:49:38,057] Trial 147 finished with value: 0.21477113398998465 and parameters: {'boosting_type': 'goss', 'learning_rate': 0.1590853032481231, 'reg_alpha': 4.726146622129427e-07, 'reg_lambda': 0.0005562103359578296, 'max_depth': 5, 'num_leaves': 64, 'colsample_bytree': 0.42429690514875, 'min_child_samples': 36, 'max_bin': 79, 'subsample_freq': 3}. Best is trial 118 with value: 0.16815430219467542.\n"
     ]
    },
    {
     "name": "stdout",
     "output_type": "stream",
     "text": [
      "Repeat \u001b[1m\u001b[34m#1\n"
     ]
    },
    {
     "name": "stderr",
     "output_type": "stream",
     "text": [
      "[I 2023-06-22 16:49:38,961] Trial 148 finished with value: 0.1987468206020918 and parameters: {'boosting_type': 'goss', 'learning_rate': 0.19912910664815736, 'reg_alpha': 9.70933899204853e-07, 'reg_lambda': 7.331815809121207e-05, 'max_depth': 6, 'num_leaves': 71, 'colsample_bytree': 0.39067050418167676, 'min_child_samples': 22, 'max_bin': 99, 'subsample_freq': 3}. Best is trial 118 with value: 0.16815430219467542.\n"
     ]
    },
    {
     "name": "stdout",
     "output_type": "stream",
     "text": [
      "Repeat \u001b[1m\u001b[34m#1\n"
     ]
    },
    {
     "name": "stderr",
     "output_type": "stream",
     "text": [
      "[I 2023-06-22 16:49:39,798] Trial 149 finished with value: 0.20970696128075852 and parameters: {'boosting_type': 'goss', 'learning_rate': 0.24894721689019328, 'reg_alpha': 6.006076174233415e-07, 'reg_lambda': 0.000178042080144623, 'max_depth': 5, 'num_leaves': 61, 'colsample_bytree': 0.37615464685951827, 'min_child_samples': 30, 'max_bin': 57, 'subsample_freq': 3}. Best is trial 118 with value: 0.16815430219467542.\n"
     ]
    },
    {
     "name": "stdout",
     "output_type": "stream",
     "text": [
      "Repeat \u001b[1m\u001b[34m#1\n"
     ]
    },
    {
     "name": "stderr",
     "output_type": "stream",
     "text": [
      "[I 2023-06-22 16:49:41,274] Trial 150 finished with value: 0.20609358638006847 and parameters: {'boosting_type': 'goss', 'learning_rate': 0.12457446942936513, 'reg_alpha': 1.7503062135811362e-07, 'reg_lambda': 0.0003484083398886985, 'max_depth': 4, 'num_leaves': 74, 'colsample_bytree': 0.35784598110305804, 'min_child_samples': 26, 'max_bin': 107, 'subsample_freq': 3}. Best is trial 118 with value: 0.16815430219467542.\n"
     ]
    },
    {
     "name": "stdout",
     "output_type": "stream",
     "text": [
      "Repeat \u001b[1m\u001b[34m#1\n"
     ]
    },
    {
     "name": "stderr",
     "output_type": "stream",
     "text": [
      "[I 2023-06-22 16:49:42,966] Trial 151 finished with value: 0.1824744691516503 and parameters: {'boosting_type': 'goss', 'learning_rate': 0.10019383433058708, 'reg_alpha': 2.5942374339684304e-07, 'reg_lambda': 0.0013333533067979811, 'max_depth': 6, 'num_leaves': 69, 'colsample_bytree': 0.38365717032435825, 'min_child_samples': 18, 'max_bin': 68, 'subsample_freq': 3}. Best is trial 118 with value: 0.16815430219467542.\n"
     ]
    },
    {
     "name": "stdout",
     "output_type": "stream",
     "text": [
      "Repeat \u001b[1m\u001b[34m#1\n"
     ]
    },
    {
     "name": "stderr",
     "output_type": "stream",
     "text": [
      "[I 2023-06-22 16:49:44,311] Trial 152 finished with value: 0.196764187701685 and parameters: {'boosting_type': 'goss', 'learning_rate': 0.10595761386517363, 'reg_alpha': 4.049325842186725e-07, 'reg_lambda': 0.000799203847723764, 'max_depth': 6, 'num_leaves': 68, 'colsample_bytree': 0.38345189797581697, 'min_child_samples': 19, 'max_bin': 68, 'subsample_freq': 3}. Best is trial 118 with value: 0.16815430219467542.\n"
     ]
    },
    {
     "name": "stdout",
     "output_type": "stream",
     "text": [
      "Repeat \u001b[1m\u001b[34m#1\n"
     ]
    },
    {
     "name": "stderr",
     "output_type": "stream",
     "text": [
      "[I 2023-06-22 16:49:45,508] Trial 153 finished with value: 0.1697298831420178 and parameters: {'boosting_type': 'goss', 'learning_rate': 0.16878600723829978, 'reg_alpha': 2.520601378046832e-07, 'reg_lambda': 0.0014722631350401576, 'max_depth': 6, 'num_leaves': 64, 'colsample_bytree': 0.40718045336364544, 'min_child_samples': 14, 'max_bin': 76, 'subsample_freq': 3}. Best is trial 118 with value: 0.16815430219467542.\n"
     ]
    },
    {
     "name": "stdout",
     "output_type": "stream",
     "text": [
      "Repeat \u001b[1m\u001b[34m#1\n"
     ]
    },
    {
     "name": "stderr",
     "output_type": "stream",
     "text": [
      "[I 2023-06-22 16:49:46,667] Trial 154 finished with value: 0.17160956440962266 and parameters: {'boosting_type': 'goss', 'learning_rate': 0.17620287251871808, 'reg_alpha': 2.8961524812636613e-07, 'reg_lambda': 0.001485988437378346, 'max_depth': 6, 'num_leaves': 70, 'colsample_bytree': 0.4001807244879787, 'min_child_samples': 11, 'max_bin': 75, 'subsample_freq': 3}. Best is trial 118 with value: 0.16815430219467542.\n"
     ]
    },
    {
     "name": "stdout",
     "output_type": "stream",
     "text": [
      "Repeat \u001b[1m\u001b[34m#1\n"
     ]
    },
    {
     "name": "stderr",
     "output_type": "stream",
     "text": [
      "[I 2023-06-22 16:49:47,879] Trial 155 finished with value: 0.18861975381478965 and parameters: {'boosting_type': 'goss', 'learning_rate': 0.17941897398320447, 'reg_alpha': 2.3810228501576815e-07, 'reg_lambda': 0.0012971524559840578, 'max_depth': 6, 'num_leaves': 70, 'colsample_bytree': 0.4174682726813664, 'min_child_samples': 12, 'max_bin': 73, 'subsample_freq': 3}. Best is trial 118 with value: 0.16815430219467542.\n"
     ]
    },
    {
     "name": "stdout",
     "output_type": "stream",
     "text": [
      "Repeat \u001b[1m\u001b[34m#1\n"
     ]
    },
    {
     "name": "stderr",
     "output_type": "stream",
     "text": [
      "[I 2023-06-22 16:49:48,959] Trial 156 finished with value: 0.26412637021971563 and parameters: {'boosting_type': 'gbdt', 'learning_rate': 0.22995654782499433, 'reg_alpha': 1.1795732674930745e-07, 'reg_lambda': 0.0015479315676021669, 'max_depth': 6, 'num_leaves': 76, 'colsample_bytree': 0.4074872851038539, 'min_child_samples': 10, 'max_bin': 64, 'subsample_freq': 3, 'subsample': 0.5952069760511988}. Best is trial 118 with value: 0.16815430219467542.\n"
     ]
    },
    {
     "name": "stdout",
     "output_type": "stream",
     "text": [
      "Repeat \u001b[1m\u001b[34m#1\n"
     ]
    },
    {
     "name": "stderr",
     "output_type": "stream",
     "text": [
      "[I 2023-06-22 16:49:50,582] Trial 157 finished with value: 0.20716393706816094 and parameters: {'boosting_type': 'goss', 'learning_rate': 0.19665577872966367, 'reg_alpha': 3.1988911106650537e-07, 'reg_lambda': 0.0016845682015327196, 'max_depth': 6, 'num_leaves': 72, 'colsample_bytree': 0.4324458717601097, 'min_child_samples': 14, 'max_bin': 60, 'subsample_freq': 2}. Best is trial 118 with value: 0.16815430219467542.\n"
     ]
    },
    {
     "name": "stdout",
     "output_type": "stream",
     "text": [
      "Repeat \u001b[1m\u001b[34m#1\n"
     ]
    },
    {
     "name": "stderr",
     "output_type": "stream",
     "text": [
      "[I 2023-06-22 16:49:51,829] Trial 158 finished with value: 0.18582769547132993 and parameters: {'boosting_type': 'goss', 'learning_rate': 0.14442319113974508, 'reg_alpha': 2.6426426314105043e-07, 'reg_lambda': 0.0009182257074686053, 'max_depth': 6, 'num_leaves': 65, 'colsample_bytree': 0.390245766787413, 'min_child_samples': 14, 'max_bin': 69, 'subsample_freq': 3}. Best is trial 118 with value: 0.16815430219467542.\n"
     ]
    },
    {
     "name": "stdout",
     "output_type": "stream",
     "text": [
      "Repeat \u001b[1m\u001b[34m#1\n"
     ]
    },
    {
     "name": "stderr",
     "output_type": "stream",
     "text": [
      "[I 2023-06-22 16:49:52,920] Trial 159 finished with value: 0.2021168968971841 and parameters: {'boosting_type': 'goss', 'learning_rate': 0.15883220047220087, 'reg_alpha': 8.082498785610062e-07, 'reg_lambda': 0.001821237306879562, 'max_depth': 6, 'num_leaves': 14, 'colsample_bytree': 0.4505346484465776, 'min_child_samples': 17, 'max_bin': 76, 'subsample_freq': 3}. Best is trial 118 with value: 0.16815430219467542.\n"
     ]
    },
    {
     "name": "stdout",
     "output_type": "stream",
     "text": [
      "Repeat \u001b[1m\u001b[34m#1\n"
     ]
    },
    {
     "name": "stderr",
     "output_type": "stream",
     "text": [
      "[I 2023-06-22 16:49:53,920] Trial 160 finished with value: 0.18565121868269854 and parameters: {'boosting_type': 'goss', 'learning_rate': 0.26823683490708067, 'reg_alpha': 1.2499493513613396e-07, 'reg_lambda': 0.0009755501095789855, 'max_depth': 6, 'num_leaves': 69, 'colsample_bytree': 0.3725535937844762, 'min_child_samples': 15, 'max_bin': 87, 'subsample_freq': 3}. Best is trial 118 with value: 0.16815430219467542.\n"
     ]
    },
    {
     "name": "stdout",
     "output_type": "stream",
     "text": [
      "Repeat \u001b[1m\u001b[34m#1\n"
     ]
    },
    {
     "name": "stderr",
     "output_type": "stream",
     "text": [
      "[I 2023-06-22 16:49:55,119] Trial 161 finished with value: 0.20072417515508778 and parameters: {'boosting_type': 'goss', 'learning_rate': 0.22955253326636815, 'reg_alpha': 1.128308471984704e-07, 'reg_lambda': 0.0008192428515915238, 'max_depth': 6, 'num_leaves': 69, 'colsample_bytree': 0.3663074743403829, 'min_child_samples': 11, 'max_bin': 88, 'subsample_freq': 3}. Best is trial 118 with value: 0.16815430219467542.\n"
     ]
    },
    {
     "name": "stdout",
     "output_type": "stream",
     "text": [
      "Repeat \u001b[1m\u001b[34m#1\n"
     ]
    },
    {
     "name": "stderr",
     "output_type": "stream",
     "text": [
      "[I 2023-06-22 16:49:56,204] Trial 162 finished with value: 0.19018166298761793 and parameters: {'boosting_type': 'goss', 'learning_rate': 0.17876775212582371, 'reg_alpha': 4.502229728557038e-07, 'reg_lambda': 0.0005447058910489576, 'max_depth': 6, 'num_leaves': 73, 'colsample_bytree': 0.3775314164006337, 'min_child_samples': 15, 'max_bin': 77, 'subsample_freq': 3}. Best is trial 118 with value: 0.16815430219467542.\n"
     ]
    },
    {
     "name": "stdout",
     "output_type": "stream",
     "text": [
      "Repeat \u001b[1m\u001b[34m#1\n"
     ]
    },
    {
     "name": "stderr",
     "output_type": "stream",
     "text": [
      "[I 2023-06-22 16:49:57,134] Trial 163 finished with value: 0.20333496466199769 and parameters: {'boosting_type': 'goss', 'learning_rate': 0.2935033237429907, 'reg_alpha': 1.6955271170236768e-07, 'reg_lambda': 0.0011755398876622052, 'max_depth': 6, 'num_leaves': 67, 'colsample_bytree': 0.37109537798838743, 'min_child_samples': 18, 'max_bin': 93, 'subsample_freq': 3}. Best is trial 118 with value: 0.16815430219467542.\n"
     ]
    },
    {
     "name": "stdout",
     "output_type": "stream",
     "text": [
      "Repeat \u001b[1m\u001b[34m#1\n"
     ]
    },
    {
     "name": "stderr",
     "output_type": "stream",
     "text": [
      "[I 2023-06-22 16:49:58,507] Trial 164 finished with value: 0.19604652263048444 and parameters: {'boosting_type': 'goss', 'learning_rate': 0.1354616538189071, 'reg_alpha': 7.703672488921125e-08, 'reg_lambda': 0.00022346779913110337, 'max_depth': 6, 'num_leaves': 70, 'colsample_bytree': 0.40496699982542916, 'min_child_samples': 12, 'max_bin': 87, 'subsample_freq': 3}. Best is trial 118 with value: 0.16815430219467542.\n"
     ]
    },
    {
     "name": "stdout",
     "output_type": "stream",
     "text": [
      "Repeat \u001b[1m\u001b[34m#1\n"
     ]
    },
    {
     "name": "stderr",
     "output_type": "stream",
     "text": [
      "[I 2023-06-22 16:49:58,886] Trial 165 finished with value: 0.48979540752541717 and parameters: {'boosting_type': 'goss', 'learning_rate': 0.21352008528885352, 'reg_alpha': 2.3640154083830014e-07, 'reg_lambda': 0.00047226123002182464, 'max_depth': 6, 'num_leaves': 77, 'colsample_bytree': 0.3460157099512088, 'min_child_samples': 84, 'max_bin': 71, 'subsample_freq': 3}. Best is trial 118 with value: 0.16815430219467542.\n"
     ]
    },
    {
     "name": "stdout",
     "output_type": "stream",
     "text": [
      "Repeat \u001b[1m\u001b[34m#1\n"
     ]
    },
    {
     "name": "stderr",
     "output_type": "stream",
     "text": [
      "[I 2023-06-22 16:49:59,738] Trial 166 finished with value: 0.1838996493482689 and parameters: {'boosting_type': 'goss', 'learning_rate': 0.2588038687654553, 'reg_alpha': 6.8009531228951e-07, 'reg_lambda': 0.0009467554832618098, 'max_depth': 5, 'num_leaves': 62, 'colsample_bytree': 0.3880111376289063, 'min_child_samples': 16, 'max_bin': 67, 'subsample_freq': 3}. Best is trial 118 with value: 0.16815430219467542.\n"
     ]
    },
    {
     "name": "stdout",
     "output_type": "stream",
     "text": [
      "Repeat \u001b[1m\u001b[34m#1\n"
     ]
    },
    {
     "name": "stderr",
     "output_type": "stream",
     "text": [
      "[I 2023-06-22 16:50:00,778] Trial 167 finished with value: 0.1897746260441553 and parameters: {'boosting_type': 'goss', 'learning_rate': 0.2594427054414722, 'reg_alpha': 5.666894598677332e-07, 'reg_lambda': 0.0018804981694262974, 'max_depth': 5, 'num_leaves': 61, 'colsample_bytree': 0.3861903226433583, 'min_child_samples': 16, 'max_bin': 64, 'subsample_freq': 3}. Best is trial 118 with value: 0.16815430219467542.\n"
     ]
    },
    {
     "name": "stdout",
     "output_type": "stream",
     "text": [
      "Repeat \u001b[1m\u001b[34m#1\n"
     ]
    },
    {
     "name": "stderr",
     "output_type": "stream",
     "text": [
      "[I 2023-06-22 16:50:02,031] Trial 168 finished with value: 0.17949986744805257 and parameters: {'boosting_type': 'goss', 'learning_rate': 0.16666668468443996, 'reg_alpha': 8.195304346827187e-07, 'reg_lambda': 0.0037072888313486835, 'max_depth': 5, 'num_leaves': 74, 'colsample_bytree': 0.39650055209651874, 'min_child_samples': 13, 'max_bin': 67, 'subsample_freq': 4}. Best is trial 118 with value: 0.16815430219467542.\n"
     ]
    },
    {
     "name": "stdout",
     "output_type": "stream",
     "text": [
      "Repeat \u001b[1m\u001b[34m#1\n"
     ]
    },
    {
     "name": "stderr",
     "output_type": "stream",
     "text": [
      "[I 2023-06-22 16:50:02,909] Trial 169 finished with value: 0.1699969904960045 and parameters: {'boosting_type': 'goss', 'learning_rate': 0.2613013843840675, 'reg_alpha': 1.8585679478648505e-06, 'reg_lambda': 0.002810494539985825, 'max_depth': 5, 'num_leaves': 74, 'colsample_bytree': 0.39771030335753876, 'min_child_samples': 13, 'max_bin': 57, 'subsample_freq': 4}. Best is trial 118 with value: 0.16815430219467542.\n"
     ]
    },
    {
     "name": "stdout",
     "output_type": "stream",
     "text": [
      "Repeat \u001b[1m\u001b[34m#1\n"
     ]
    },
    {
     "name": "stderr",
     "output_type": "stream",
     "text": [
      "[I 2023-06-22 16:50:04,150] Trial 170 finished with value: 0.18619398790236824 and parameters: {'boosting_type': 'goss', 'learning_rate': 0.1645621872913551, 'reg_alpha': 1.687744952438973e-06, 'reg_lambda': 0.004587699740014604, 'max_depth': 5, 'num_leaves': 75, 'colsample_bytree': 0.3956319180500682, 'min_child_samples': 8, 'max_bin': 55, 'subsample_freq': 4}. Best is trial 118 with value: 0.16815430219467542.\n"
     ]
    },
    {
     "name": "stdout",
     "output_type": "stream",
     "text": [
      "Repeat \u001b[1m\u001b[34m#1\n"
     ]
    },
    {
     "name": "stderr",
     "output_type": "stream",
     "text": [
      "[I 2023-06-22 16:50:05,084] Trial 171 finished with value: 0.17666912462488332 and parameters: {'boosting_type': 'goss', 'learning_rate': 0.25859614651964263, 'reg_alpha': 2.4666463892592944e-06, 'reg_lambda': 0.0038474016181854346, 'max_depth': 5, 'num_leaves': 79, 'colsample_bytree': 0.40073344090728835, 'min_child_samples': 13, 'max_bin': 67, 'subsample_freq': 4}. Best is trial 118 with value: 0.16815430219467542.\n"
     ]
    },
    {
     "name": "stdout",
     "output_type": "stream",
     "text": [
      "Repeat \u001b[1m\u001b[34m#1\n"
     ]
    },
    {
     "name": "stderr",
     "output_type": "stream",
     "text": [
      "[I 2023-06-22 16:50:06,192] Trial 172 finished with value: 0.18085972727879396 and parameters: {'boosting_type': 'goss', 'learning_rate': 0.22003597763469873, 'reg_alpha': 2.378090744838275e-06, 'reg_lambda': 0.002941380934145773, 'max_depth': 5, 'num_leaves': 80, 'colsample_bytree': 0.40428123165307545, 'min_child_samples': 13, 'max_bin': 60, 'subsample_freq': 4}. Best is trial 118 with value: 0.16815430219467542.\n"
     ]
    },
    {
     "name": "stdout",
     "output_type": "stream",
     "text": [
      "Repeat \u001b[1m\u001b[34m#1\n"
     ]
    },
    {
     "name": "stderr",
     "output_type": "stream",
     "text": [
      "[I 2023-06-22 16:50:07,341] Trial 173 finished with value: 0.19102711963381602 and parameters: {'boosting_type': 'goss', 'learning_rate': 0.215655937671993, 'reg_alpha': 6.943540481382076e-06, 'reg_lambda': 0.003153037655561591, 'max_depth': 5, 'num_leaves': 80, 'colsample_bytree': 0.40319565925049833, 'min_child_samples': 10, 'max_bin': 63, 'subsample_freq': 4}. Best is trial 118 with value: 0.16815430219467542.\n"
     ]
    },
    {
     "name": "stdout",
     "output_type": "stream",
     "text": [
      "Repeat \u001b[1m\u001b[34m#1\n"
     ]
    },
    {
     "name": "stderr",
     "output_type": "stream",
     "text": [
      "[I 2023-06-22 16:50:08,399] Trial 174 finished with value: 0.1732068773594195 and parameters: {'boosting_type': 'goss', 'learning_rate': 0.29620757838182676, 'reg_alpha': 2.587984831144996e-06, 'reg_lambda': 0.004316532159913991, 'max_depth': 5, 'num_leaves': 84, 'colsample_bytree': 0.4113755548346513, 'min_child_samples': 13, 'max_bin': 57, 'subsample_freq': 4}. Best is trial 118 with value: 0.16815430219467542.\n"
     ]
    },
    {
     "name": "stdout",
     "output_type": "stream",
     "text": [
      "Repeat \u001b[1m\u001b[34m#1\n"
     ]
    },
    {
     "name": "stderr",
     "output_type": "stream",
     "text": [
      "[I 2023-06-22 16:50:09,423] Trial 175 finished with value: 0.19322932810850463 and parameters: {'boosting_type': 'goss', 'learning_rate': 0.255453899020699, 'reg_alpha': 3.7850280657320718e-06, 'reg_lambda': 0.0036985209130029743, 'max_depth': 5, 'num_leaves': 83, 'colsample_bytree': 0.4147103333280766, 'min_child_samples': 7, 'max_bin': 46, 'subsample_freq': 4}. Best is trial 118 with value: 0.16815430219467542.\n"
     ]
    },
    {
     "name": "stdout",
     "output_type": "stream",
     "text": [
      "Repeat \u001b[1m\u001b[34m#1\n"
     ]
    },
    {
     "name": "stderr",
     "output_type": "stream",
     "text": [
      "[I 2023-06-22 16:50:10,508] Trial 176 finished with value: 0.1991221498288407 and parameters: {'boosting_type': 'goss', 'learning_rate': 0.2983950516683509, 'reg_alpha': 2.5669144016265126e-06, 'reg_lambda': 0.004025034501248226, 'max_depth': 5, 'num_leaves': 87, 'colsample_bytree': 0.42002797228397865, 'min_child_samples': 12, 'max_bin': 56, 'subsample_freq': 4}. Best is trial 118 with value: 0.16815430219467542.\n"
     ]
    },
    {
     "name": "stdout",
     "output_type": "stream",
     "text": [
      "Repeat \u001b[1m\u001b[34m#1\n"
     ]
    },
    {
     "name": "stderr",
     "output_type": "stream",
     "text": [
      "[I 2023-06-22 16:50:11,536] Trial 177 finished with value: 0.192420051356815 and parameters: {'boosting_type': 'goss', 'learning_rate': 0.2197547012074067, 'reg_alpha': 2.576411990210811e-06, 'reg_lambda': 0.0020363656870240614, 'max_depth': 5, 'num_leaves': 80, 'colsample_bytree': 0.4093454520451737, 'min_child_samples': 13, 'max_bin': 59, 'subsample_freq': 4}. Best is trial 118 with value: 0.16815430219467542.\n"
     ]
    },
    {
     "name": "stdout",
     "output_type": "stream",
     "text": [
      "Repeat \u001b[1m\u001b[34m#1\n"
     ]
    },
    {
     "name": "stderr",
     "output_type": "stream",
     "text": [
      "[I 2023-06-22 16:50:12,669] Trial 178 finished with value: 0.18765806333742704 and parameters: {'boosting_type': 'goss', 'learning_rate': 0.19242523104572976, 'reg_alpha': 5.30232927665152e-06, 'reg_lambda': 0.0026322957144072033, 'max_depth': 5, 'num_leaves': 84, 'colsample_bytree': 0.399312049941264, 'min_child_samples': 10, 'max_bin': 51, 'subsample_freq': 4}. Best is trial 118 with value: 0.16815430219467542.\n"
     ]
    },
    {
     "name": "stdout",
     "output_type": "stream",
     "text": [
      "Repeat \u001b[1m\u001b[34m#1\n"
     ]
    },
    {
     "name": "stderr",
     "output_type": "stream",
     "text": [
      "[I 2023-06-22 16:50:13,704] Trial 179 finished with value: 0.1604359273319732 and parameters: {'boosting_type': 'goss', 'learning_rate': 0.24643057974515253, 'reg_alpha': 1.2188010944943515e-06, 'reg_lambda': 0.005898828360367344, 'max_depth': 5, 'num_leaves': 78, 'colsample_bytree': 0.389314946123876, 'min_child_samples': 13, 'max_bin': 67, 'subsample_freq': 4}. Best is trial 179 with value: 0.1604359273319732.\n"
     ]
    },
    {
     "name": "stdout",
     "output_type": "stream",
     "text": [
      "Repeat \u001b[1m\u001b[34m#1\n"
     ]
    },
    {
     "name": "stderr",
     "output_type": "stream",
     "text": [
      "[I 2023-06-22 16:50:15,065] Trial 180 finished with value: 0.179486754273762 and parameters: {'boosting_type': 'goss', 'learning_rate': 0.1898763868023014, 'reg_alpha': 1.4074484234219527e-06, 'reg_lambda': 0.004497402430595365, 'max_depth': 5, 'num_leaves': 77, 'colsample_bytree': 0.4063348255310245, 'min_child_samples': 13, 'max_bin': 60, 'subsample_freq': 4}. Best is trial 179 with value: 0.1604359273319732.\n"
     ]
    },
    {
     "name": "stdout",
     "output_type": "stream",
     "text": [
      "Repeat \u001b[1m\u001b[34m#1\n"
     ]
    },
    {
     "name": "stderr",
     "output_type": "stream",
     "text": [
      "[I 2023-06-22 16:50:16,153] Trial 181 finished with value: 0.20339795945434064 and parameters: {'boosting_type': 'goss', 'learning_rate': 0.19415418192841113, 'reg_alpha': 1.8022167975997422e-06, 'reg_lambda': 0.006054489586013379, 'max_depth': 5, 'num_leaves': 78, 'colsample_bytree': 0.40393579683999575, 'min_child_samples': 13, 'max_bin': 54, 'subsample_freq': 4}. Best is trial 179 with value: 0.1604359273319732.\n"
     ]
    },
    {
     "name": "stdout",
     "output_type": "stream",
     "text": [
      "Repeat \u001b[1m\u001b[34m#1\n"
     ]
    },
    {
     "name": "stderr",
     "output_type": "stream",
     "text": [
      "[I 2023-06-22 16:50:17,260] Trial 182 finished with value: 0.19399925459569303 and parameters: {'boosting_type': 'goss', 'learning_rate': 0.2361378913128306, 'reg_alpha': 1.2413476286415894e-06, 'reg_lambda': 0.004351106650357976, 'max_depth': 5, 'num_leaves': 80, 'colsample_bytree': 0.4140108679900117, 'min_child_samples': 9, 'max_bin': 61, 'subsample_freq': 4}. Best is trial 179 with value: 0.1604359273319732.\n"
     ]
    },
    {
     "name": "stdout",
     "output_type": "stream",
     "text": [
      "Repeat \u001b[1m\u001b[34m#1\n"
     ]
    },
    {
     "name": "stderr",
     "output_type": "stream",
     "text": [
      "[I 2023-06-22 16:50:19,924] Trial 183 finished with value: 0.19052081046058644 and parameters: {'boosting_type': 'goss', 'learning_rate': 0.1638328526108994, 'reg_alpha': 3.204793368863742e-06, 'reg_lambda': 0.009018028090107218, 'max_depth': 5, 'num_leaves': 76, 'colsample_bytree': 0.395259255959074, 'min_child_samples': 12, 'max_bin': 68, 'subsample_freq': 4}. Best is trial 179 with value: 0.1604359273319732.\n"
     ]
    },
    {
     "name": "stdout",
     "output_type": "stream",
     "text": [
      "Repeat \u001b[1m\u001b[34m#1\n"
     ]
    },
    {
     "name": "stderr",
     "output_type": "stream",
     "text": [
      "[I 2023-06-22 16:50:20,929] Trial 184 finished with value: 0.20049227146143847 and parameters: {'boosting_type': 'goss', 'learning_rate': 0.19704914128424492, 'reg_alpha': 2.092147046993556e-06, 'reg_lambda': 0.005444296330135842, 'max_depth': 5, 'num_leaves': 73, 'colsample_bytree': 0.40899681027146395, 'min_child_samples': 15, 'max_bin': 47, 'subsample_freq': 4}. Best is trial 179 with value: 0.1604359273319732.\n"
     ]
    },
    {
     "name": "stdout",
     "output_type": "stream",
     "text": [
      "Repeat \u001b[1m\u001b[34m#1\n"
     ]
    },
    {
     "name": "stderr",
     "output_type": "stream",
     "text": [
      "[I 2023-06-22 16:50:21,878] Trial 185 finished with value: 0.22354378506292044 and parameters: {'boosting_type': 'goss', 'learning_rate': 0.24649744329339385, 'reg_alpha': 1.0171484240360648e-06, 'reg_lambda': 0.0030109340780567688, 'max_depth': 5, 'num_leaves': 84, 'colsample_bytree': 0.42328626063272556, 'min_child_samples': 11, 'max_bin': 59, 'subsample_freq': 4}. Best is trial 179 with value: 0.1604359273319732.\n"
     ]
    },
    {
     "name": "stdout",
     "output_type": "stream",
     "text": [
      "Repeat \u001b[1m\u001b[34m#1\n"
     ]
    },
    {
     "name": "stderr",
     "output_type": "stream",
     "text": [
      "[I 2023-06-22 16:50:22,876] Trial 186 finished with value: 0.2621611440116822 and parameters: {'boosting_type': 'goss', 'learning_rate': 0.290367918559336, 'reg_alpha': 1.4138479782987639e-06, 'reg_lambda': 0.0025844437583391923, 'max_depth': 5, 'num_leaves': 88, 'colsample_bytree': 0.3921965700663795, 'min_child_samples': 5, 'max_bin': 71, 'subsample_freq': 4}. Best is trial 179 with value: 0.1604359273319732.\n"
     ]
    },
    {
     "name": "stdout",
     "output_type": "stream",
     "text": [
      "Repeat \u001b[1m\u001b[34m#1\n"
     ]
    },
    {
     "name": "stderr",
     "output_type": "stream",
     "text": [
      "[I 2023-06-22 16:50:23,888] Trial 187 finished with value: 0.2400407488329665 and parameters: {'boosting_type': 'gbdt', 'learning_rate': 0.17220142635648655, 'reg_alpha': 5.353816575399145e-06, 'reg_lambda': 0.0016541306882608155, 'max_depth': 5, 'num_leaves': 78, 'colsample_bytree': 0.3851351264940416, 'min_child_samples': 14, 'max_bin': 65, 'subsample_freq': 4, 'subsample': 0.6478090326899735}. Best is trial 179 with value: 0.1604359273319732.\n"
     ]
    },
    {
     "name": "stdout",
     "output_type": "stream",
     "text": [
      "Repeat \u001b[1m\u001b[34m#1\n"
     ]
    },
    {
     "name": "stderr",
     "output_type": "stream",
     "text": [
      "[I 2023-06-22 16:50:24,967] Trial 188 finished with value: 0.17137397336576976 and parameters: {'boosting_type': 'goss', 'learning_rate': 0.21904982620103042, 'reg_alpha': 9.125235545318732e-06, 'reg_lambda': 0.003944835703439196, 'max_depth': 5, 'num_leaves': 72, 'colsample_bytree': 0.4006100375619598, 'min_child_samples': 17, 'max_bin': 75, 'subsample_freq': 4}. Best is trial 179 with value: 0.1604359273319732.\n"
     ]
    },
    {
     "name": "stdout",
     "output_type": "stream",
     "text": [
      "Repeat \u001b[1m\u001b[34m#1\n"
     ]
    },
    {
     "name": "stderr",
     "output_type": "stream",
     "text": [
      "[I 2023-06-22 16:50:26,193] Trial 189 finished with value: 0.1849644105534448 and parameters: {'boosting_type': 'goss', 'learning_rate': 0.16283783636006596, 'reg_alpha': 1.0256326243320565e-05, 'reg_lambda': 0.012220282745645808, 'max_depth': 5, 'num_leaves': 82, 'colsample_bytree': 0.40127008468901443, 'min_child_samples': 9, 'max_bin': 39, 'subsample_freq': 4}. Best is trial 179 with value: 0.1604359273319732.\n"
     ]
    },
    {
     "name": "stdout",
     "output_type": "stream",
     "text": [
      "Repeat \u001b[1m\u001b[34m#1\n"
     ]
    },
    {
     "name": "stderr",
     "output_type": "stream",
     "text": [
      "[I 2023-06-22 16:50:27,527] Trial 190 finished with value: 0.1677204165258496 and parameters: {'boosting_type': 'goss', 'learning_rate': 0.1975262969289202, 'reg_alpha': 3.927967667173257e-06, 'reg_lambda': 0.006660116719713786, 'max_depth': 5, 'num_leaves': 75, 'colsample_bytree': 0.41511893479822026, 'min_child_samples': 17, 'max_bin': 76, 'subsample_freq': 4}. Best is trial 179 with value: 0.1604359273319732.\n"
     ]
    },
    {
     "name": "stdout",
     "output_type": "stream",
     "text": [
      "Repeat \u001b[1m\u001b[34m#1\n"
     ]
    },
    {
     "name": "stderr",
     "output_type": "stream",
     "text": [
      "[I 2023-06-22 16:50:29,235] Trial 191 finished with value: 0.17139497538855747 and parameters: {'boosting_type': 'goss', 'learning_rate': 0.1991690450942938, 'reg_alpha': 3.881541963858268e-06, 'reg_lambda': 0.007156575416893178, 'max_depth': 5, 'num_leaves': 75, 'colsample_bytree': 0.42591374089625855, 'min_child_samples': 17, 'max_bin': 76, 'subsample_freq': 4}. Best is trial 179 with value: 0.1604359273319732.\n"
     ]
    },
    {
     "name": "stdout",
     "output_type": "stream",
     "text": [
      "Repeat \u001b[1m\u001b[34m#1\n"
     ]
    },
    {
     "name": "stderr",
     "output_type": "stream",
     "text": [
      "[I 2023-06-22 16:50:30,211] Trial 192 finished with value: 0.1832618647130644 and parameters: {'boosting_type': 'goss', 'learning_rate': 0.20112203160398726, 'reg_alpha': 3.365491401601685e-06, 'reg_lambda': 0.005374768196294514, 'max_depth': 5, 'num_leaves': 75, 'colsample_bytree': 0.42862487711444447, 'min_child_samples': 17, 'max_bin': 75, 'subsample_freq': 4}. Best is trial 179 with value: 0.1604359273319732.\n"
     ]
    },
    {
     "name": "stdout",
     "output_type": "stream",
     "text": [
      "Repeat \u001b[1m\u001b[34m#1\n"
     ]
    },
    {
     "name": "stderr",
     "output_type": "stream",
     "text": [
      "[I 2023-06-22 16:50:31,162] Trial 193 finished with value: 0.18805961539956134 and parameters: {'boosting_type': 'goss', 'learning_rate': 0.23308697469121284, 'reg_alpha': 1.1089705689384925e-05, 'reg_lambda': 0.009051629287746095, 'max_depth': 5, 'num_leaves': 78, 'colsample_bytree': 0.4179067393363076, 'min_child_samples': 14, 'max_bin': 68, 'subsample_freq': 4}. Best is trial 179 with value: 0.1604359273319732.\n"
     ]
    },
    {
     "name": "stdout",
     "output_type": "stream",
     "text": [
      "Repeat \u001b[1m\u001b[34m#1\n"
     ]
    },
    {
     "name": "stderr",
     "output_type": "stream",
     "text": [
      "[I 2023-06-22 16:50:32,168] Trial 194 finished with value: 0.1884718705174595 and parameters: {'boosting_type': 'goss', 'learning_rate': 0.2983043574325324, 'reg_alpha': 4.118116811191624e-06, 'reg_lambda': 0.006964667283559235, 'max_depth': 5, 'num_leaves': 75, 'colsample_bytree': 0.41869591467005923, 'min_child_samples': 13, 'max_bin': 75, 'subsample_freq': 4}. Best is trial 179 with value: 0.1604359273319732.\n"
     ]
    },
    {
     "name": "stdout",
     "output_type": "stream",
     "text": [
      "Repeat \u001b[1m\u001b[34m#1\n"
     ]
    },
    {
     "name": "stderr",
     "output_type": "stream",
     "text": [
      "[I 2023-06-22 16:50:33,298] Trial 195 finished with value: 0.16684714112188231 and parameters: {'boosting_type': 'goss', 'learning_rate': 0.18293666729165414, 'reg_alpha': 2.2883494489650314e-06, 'reg_lambda': 0.0039585254105496395, 'max_depth': 5, 'num_leaves': 73, 'colsample_bytree': 0.4109665000564495, 'min_child_samples': 17, 'max_bin': 79, 'subsample_freq': 4}. Best is trial 179 with value: 0.1604359273319732.\n"
     ]
    },
    {
     "name": "stdout",
     "output_type": "stream",
     "text": [
      "Repeat \u001b[1m\u001b[34m#1\n"
     ]
    },
    {
     "name": "stderr",
     "output_type": "stream",
     "text": [
      "[I 2023-06-22 16:50:34,345] Trial 196 finished with value: 0.19840269807237804 and parameters: {'boosting_type': 'goss', 'learning_rate': 0.18356195294477992, 'reg_alpha': 2.5599760885911576e-06, 'reg_lambda': 0.003977761002330252, 'max_depth': 5, 'num_leaves': 80, 'colsample_bytree': 0.41396503115117617, 'min_child_samples': 16, 'max_bin': 78, 'subsample_freq': 4}. Best is trial 179 with value: 0.1604359273319732.\n"
     ]
    },
    {
     "name": "stdout",
     "output_type": "stream",
     "text": [
      "Repeat \u001b[1m\u001b[34m#1\n"
     ]
    },
    {
     "name": "stderr",
     "output_type": "stream",
     "text": [
      "[I 2023-06-22 16:50:35,853] Trial 197 finished with value: 0.2157316558163483 and parameters: {'boosting_type': 'goss', 'learning_rate': 0.14611871440584795, 'reg_alpha': 4.717830893971151e-06, 'reg_lambda': 0.012292390219942726, 'max_depth': 5, 'num_leaves': 73, 'colsample_bytree': 0.42968815347606243, 'min_child_samples': 11, 'max_bin': 72, 'subsample_freq': 4}. Best is trial 179 with value: 0.1604359273319732.\n"
     ]
    },
    {
     "name": "stdout",
     "output_type": "stream",
     "text": [
      "Repeat \u001b[1m\u001b[34m#1\n"
     ]
    },
    {
     "name": "stderr",
     "output_type": "stream",
     "text": [
      "[I 2023-06-22 16:50:37,037] Trial 198 finished with value: 0.1701963788431946 and parameters: {'boosting_type': 'goss', 'learning_rate': 0.21432195351582561, 'reg_alpha': 9.990718412184154e-07, 'reg_lambda': 0.003635944749325575, 'max_depth': 5, 'num_leaves': 76, 'colsample_bytree': 0.40893475702507537, 'min_child_samples': 14, 'max_bin': 81, 'subsample_freq': 4}. Best is trial 179 with value: 0.1604359273319732.\n"
     ]
    },
    {
     "name": "stdout",
     "output_type": "stream",
     "text": [
      "Repeat \u001b[1m\u001b[34m#1\n"
     ]
    },
    {
     "name": "stderr",
     "output_type": "stream",
     "text": [
      "[I 2023-06-22 16:50:38,016] Trial 199 finished with value: 0.2015268151308425 and parameters: {'boosting_type': 'goss', 'learning_rate': 0.25444529407706173, 'reg_alpha': 9.754544310736228e-07, 'reg_lambda': 0.006620680806501228, 'max_depth': 5, 'num_leaves': 77, 'colsample_bytree': 0.4132485585200203, 'min_child_samples': 14, 'max_bin': 81, 'subsample_freq': 4}. Best is trial 179 with value: 0.1604359273319732.\n"
     ]
    },
    {
     "name": "stdout",
     "output_type": "stream",
     "text": [
      "Repeat \u001b[1m\u001b[34m#1\n"
     ]
    },
    {
     "name": "stderr",
     "output_type": "stream",
     "text": [
      "[I 2023-06-22 16:50:39,032] Trial 200 finished with value: 0.2091289662999788 and parameters: {'boosting_type': 'goss', 'learning_rate': 0.22278073748356664, 'reg_alpha': 2.5486331482633692e-06, 'reg_lambda': 0.0035710978668897597, 'max_depth': 5, 'num_leaves': 81, 'colsample_bytree': 0.4428904541739731, 'min_child_samples': 7, 'max_bin': 77, 'subsample_freq': 4}. Best is trial 179 with value: 0.1604359273319732.\n"
     ]
    },
    {
     "name": "stdout",
     "output_type": "stream",
     "text": [
      "Repeat \u001b[1m\u001b[34m#1\n"
     ]
    },
    {
     "name": "stderr",
     "output_type": "stream",
     "text": [
      "[I 2023-06-22 16:50:40,549] Trial 201 finished with value: 0.1704929172667556 and parameters: {'boosting_type': 'goss', 'learning_rate': 0.18483037378046863, 'reg_alpha': 8.470360482440252e-07, 'reg_lambda': 0.0026279372623733634, 'max_depth': 5, 'num_leaves': 74, 'colsample_bytree': 0.40013495894189455, 'min_child_samples': 16, 'max_bin': 72, 'subsample_freq': 4}. Best is trial 179 with value: 0.1604359273319732.\n"
     ]
    },
    {
     "name": "stdout",
     "output_type": "stream",
     "text": [
      "Repeat \u001b[1m\u001b[34m#1\n"
     ]
    },
    {
     "name": "stderr",
     "output_type": "stream",
     "text": [
      "[I 2023-06-22 16:50:41,798] Trial 202 finished with value: 0.1804097329628297 and parameters: {'boosting_type': 'goss', 'learning_rate': 0.17022996721513475, 'reg_alpha': 8.813311174552948e-07, 'reg_lambda': 0.0025266315111550108, 'max_depth': 5, 'num_leaves': 75, 'colsample_bytree': 0.4083824006595351, 'min_child_samples': 16, 'max_bin': 72, 'subsample_freq': 4}. Best is trial 179 with value: 0.1604359273319732.\n"
     ]
    },
    {
     "name": "stdout",
     "output_type": "stream",
     "text": [
      "Repeat \u001b[1m\u001b[34m#1\n"
     ]
    },
    {
     "name": "stderr",
     "output_type": "stream",
     "text": [
      "[I 2023-06-22 16:50:43,027] Trial 203 finished with value: 0.17351271816887598 and parameters: {'boosting_type': 'goss', 'learning_rate': 0.15666011408857555, 'reg_alpha': 8.018831114407558e-07, 'reg_lambda': 0.004462263204218906, 'max_depth': 5, 'num_leaves': 74, 'colsample_bytree': 0.40779489035730804, 'min_child_samples': 17, 'max_bin': 72, 'subsample_freq': 4}. Best is trial 179 with value: 0.1604359273319732.\n"
     ]
    },
    {
     "name": "stdout",
     "output_type": "stream",
     "text": [
      "Repeat \u001b[1m\u001b[34m#1\n"
     ]
    },
    {
     "name": "stderr",
     "output_type": "stream",
     "text": [
      "[I 2023-06-22 16:50:44,110] Trial 204 finished with value: 0.19023506463701972 and parameters: {'boosting_type': 'goss', 'learning_rate': 0.16313185472499248, 'reg_alpha': 8.316854630223545e-07, 'reg_lambda': 0.004812854200852748, 'max_depth': 5, 'num_leaves': 74, 'colsample_bytree': 0.409398116902545, 'min_child_samples': 16, 'max_bin': 82, 'subsample_freq': 4}. Best is trial 179 with value: 0.1604359273319732.\n"
     ]
    },
    {
     "name": "stdout",
     "output_type": "stream",
     "text": [
      "Repeat \u001b[1m\u001b[34m#1\n"
     ]
    },
    {
     "name": "stderr",
     "output_type": "stream",
     "text": [
      "[I 2023-06-22 16:50:45,364] Trial 205 finished with value: 0.1871946064027324 and parameters: {'boosting_type': 'goss', 'learning_rate': 0.1526643341887681, 'reg_alpha': 7.13905395221302e-07, 'reg_lambda': 0.007438397195301443, 'max_depth': 5, 'num_leaves': 76, 'colsample_bytree': 0.4206360688545015, 'min_child_samples': 17, 'max_bin': 74, 'subsample_freq': 4}. Best is trial 179 with value: 0.1604359273319732.\n"
     ]
    },
    {
     "name": "stdout",
     "output_type": "stream",
     "text": [
      "Repeat \u001b[1m\u001b[34m#1\n"
     ]
    },
    {
     "name": "stderr",
     "output_type": "stream",
     "text": [
      "[I 2023-06-22 16:50:46,379] Trial 206 finished with value: 0.19048257558060286 and parameters: {'boosting_type': 'goss', 'learning_rate': 0.18388206372827598, 'reg_alpha': 9.86479179521041e-07, 'reg_lambda': 0.002037001663050019, 'max_depth': 5, 'num_leaves': 73, 'colsample_bytree': 0.39452783529489016, 'min_child_samples': 15, 'max_bin': 79, 'subsample_freq': 4}. Best is trial 179 with value: 0.1604359273319732.\n"
     ]
    },
    {
     "name": "stdout",
     "output_type": "stream",
     "text": [
      "Repeat \u001b[1m\u001b[34m#1\n"
     ]
    },
    {
     "name": "stderr",
     "output_type": "stream",
     "text": [
      "[I 2023-06-22 16:50:47,396] Trial 207 finished with value: 0.20621472591386888 and parameters: {'boosting_type': 'goss', 'learning_rate': 0.19525062966485546, 'reg_alpha': 0.00030404589846525084, 'reg_lambda': 0.014822149330678425, 'max_depth': 5, 'num_leaves': 72, 'colsample_bytree': 0.42578207555950875, 'min_child_samples': 11, 'max_bin': 69, 'subsample_freq': 4}. Best is trial 179 with value: 0.1604359273319732.\n"
     ]
    },
    {
     "name": "stdout",
     "output_type": "stream",
     "text": [
      "Repeat \u001b[1m\u001b[34m#1\n"
     ]
    },
    {
     "name": "stderr",
     "output_type": "stream",
     "text": [
      "[I 2023-06-22 16:50:48,428] Trial 208 finished with value: 0.1915496342029112 and parameters: {'boosting_type': 'goss', 'learning_rate': 0.13929122757966836, 'reg_alpha': 1.2290960486854276e-06, 'reg_lambda': 0.00432551170473009, 'max_depth': 5, 'num_leaves': 77, 'colsample_bytree': 0.40649699867603356, 'min_child_samples': 17, 'max_bin': 73, 'subsample_freq': 4}. Best is trial 179 with value: 0.1604359273319732.\n"
     ]
    },
    {
     "name": "stdout",
     "output_type": "stream",
     "text": [
      "Repeat \u001b[1m\u001b[34m#1\n"
     ]
    },
    {
     "name": "stderr",
     "output_type": "stream",
     "text": [
      "[I 2023-06-22 16:50:49,510] Trial 209 finished with value: 0.1644317486431602 and parameters: {'boosting_type': 'goss', 'learning_rate': 0.2662181623908036, 'reg_alpha': 5.404577320859388e-07, 'reg_lambda': 0.0022826861627834897, 'max_depth': 5, 'num_leaves': 75, 'colsample_bytree': 0.39326779661565625, 'min_child_samples': 18, 'max_bin': 84, 'subsample_freq': 4}. Best is trial 179 with value: 0.1604359273319732.\n"
     ]
    },
    {
     "name": "stdout",
     "output_type": "stream",
     "text": [
      "Repeat \u001b[1m\u001b[34m#1\n"
     ]
    },
    {
     "name": "stderr",
     "output_type": "stream",
     "text": [
      "[I 2023-06-22 16:50:50,984] Trial 210 finished with value: 0.18043195946140136 and parameters: {'boosting_type': 'goss', 'learning_rate': 0.2631016196194739, 'reg_alpha': 6.269715575305558e-07, 'reg_lambda': 0.009811704463562483, 'max_depth': 5, 'num_leaves': 71, 'colsample_bytree': 0.3935168643142089, 'min_child_samples': 12, 'max_bin': 84, 'subsample_freq': 4}. Best is trial 179 with value: 0.1604359273319732.\n"
     ]
    },
    {
     "name": "stdout",
     "output_type": "stream",
     "text": [
      "Repeat \u001b[1m\u001b[34m#1\n"
     ]
    },
    {
     "name": "stderr",
     "output_type": "stream",
     "text": [
      "[I 2023-06-22 16:50:52,505] Trial 211 finished with value: 0.1787504765046612 and parameters: {'boosting_type': 'goss', 'learning_rate': 0.21774079212099354, 'reg_alpha': 4.177165315080188e-07, 'reg_lambda': 0.002500399486522142, 'max_depth': 5, 'num_leaves': 75, 'colsample_bytree': 0.4132579718291473, 'min_child_samples': 18, 'max_bin': 77, 'subsample_freq': 4}. Best is trial 179 with value: 0.1604359273319732.\n"
     ]
    },
    {
     "name": "stdout",
     "output_type": "stream",
     "text": [
      "Repeat \u001b[1m\u001b[34m#1\n"
     ]
    },
    {
     "name": "stderr",
     "output_type": "stream",
     "text": [
      "[I 2023-06-22 16:50:53,485] Trial 212 finished with value: 0.19853281236705597 and parameters: {'boosting_type': 'goss', 'learning_rate': 0.24853820382191724, 'reg_alpha': 6.157545750326872e-07, 'reg_lambda': 0.005262618759953235, 'max_depth': 5, 'num_leaves': 78, 'colsample_bytree': 0.3965636448265412, 'min_child_samples': 18, 'max_bin': 79, 'subsample_freq': 4}. Best is trial 179 with value: 0.1604359273319732.\n"
     ]
    },
    {
     "name": "stdout",
     "output_type": "stream",
     "text": [
      "Repeat \u001b[1m\u001b[34m#1\n"
     ]
    },
    {
     "name": "stderr",
     "output_type": "stream",
     "text": [
      "[I 2023-06-22 16:50:54,513] Trial 213 finished with value: 0.18864531868229556 and parameters: {'boosting_type': 'goss', 'learning_rate': 0.2944816561177612, 'reg_alpha': 3.784621705734721e-07, 'reg_lambda': 0.001960717014696157, 'max_depth': 5, 'num_leaves': 74, 'colsample_bytree': 0.43352809431192596, 'min_child_samples': 14, 'max_bin': 77, 'subsample_freq': 4}. Best is trial 179 with value: 0.1604359273319732.\n"
     ]
    },
    {
     "name": "stdout",
     "output_type": "stream",
     "text": [
      "Repeat \u001b[1m\u001b[34m#1\n"
     ]
    },
    {
     "name": "stderr",
     "output_type": "stream",
     "text": [
      "[I 2023-06-22 16:50:55,505] Trial 214 finished with value: 0.19364922723410868 and parameters: {'boosting_type': 'goss', 'learning_rate': 0.21783102470053614, 'reg_alpha': 1.3557753518491135e-06, 'reg_lambda': 0.003463555061547216, 'max_depth': 5, 'num_leaves': 71, 'colsample_bytree': 0.4173746292462748, 'min_child_samples': 19, 'max_bin': 83, 'subsample_freq': 4}. Best is trial 179 with value: 0.1604359273319732.\n"
     ]
    },
    {
     "name": "stdout",
     "output_type": "stream",
     "text": [
      "Repeat \u001b[1m\u001b[34m#1\n"
     ]
    },
    {
     "name": "stderr",
     "output_type": "stream",
     "text": [
      "[I 2023-06-22 16:50:56,678] Trial 215 finished with value: 0.1919595202201387 and parameters: {'boosting_type': 'goss', 'learning_rate': 0.2036129811068006, 'reg_alpha': 3.751904222717609e-07, 'reg_lambda': 0.006833042095565121, 'max_depth': 5, 'num_leaves': 77, 'colsample_bytree': 0.40103681447564554, 'min_child_samples': 18, 'max_bin': 68, 'subsample_freq': 4}. Best is trial 179 with value: 0.1604359273319732.\n"
     ]
    },
    {
     "name": "stdout",
     "output_type": "stream",
     "text": [
      "Repeat \u001b[1m\u001b[34m#1\n"
     ]
    },
    {
     "name": "stderr",
     "output_type": "stream",
     "text": [
      "[I 2023-06-22 16:50:57,656] Trial 216 finished with value: 0.20283018811686818 and parameters: {'boosting_type': 'goss', 'learning_rate': 0.2503465973133545, 'reg_alpha': 3.363638453926548e-06, 'reg_lambda': 0.001658190881386795, 'max_depth': 5, 'num_leaves': 72, 'colsample_bytree': 0.40884903561374547, 'min_child_samples': 15, 'max_bin': 76, 'subsample_freq': 4}. Best is trial 179 with value: 0.1604359273319732.\n"
     ]
    },
    {
     "name": "stdout",
     "output_type": "stream",
     "text": [
      "Repeat \u001b[1m\u001b[34m#1\n"
     ]
    },
    {
     "name": "stderr",
     "output_type": "stream",
     "text": [
      "[I 2023-06-22 16:50:59,219] Trial 217 finished with value: 0.2160288684758202 and parameters: {'boosting_type': 'goss', 'learning_rate': 0.1750145541507703, 'reg_alpha': 7.506386191266056e-05, 'reg_lambda': 0.0035005379659325394, 'max_depth': 5, 'num_leaves': 75, 'colsample_bytree': 0.42439878634552386, 'min_child_samples': 49, 'max_bin': 66, 'subsample_freq': 4}. Best is trial 179 with value: 0.1604359273319732.\n"
     ]
    },
    {
     "name": "stdout",
     "output_type": "stream",
     "text": [
      "Repeat \u001b[1m\u001b[34m#1\n"
     ]
    },
    {
     "name": "stderr",
     "output_type": "stream",
     "text": [
      "[I 2023-06-22 16:51:00,309] Trial 218 finished with value: 0.19969162125087242 and parameters: {'boosting_type': 'goss', 'learning_rate': 0.22171752534753564, 'reg_alpha': 5.075884687610272e-07, 'reg_lambda': 0.0025248508219703264, 'max_depth': 5, 'num_leaves': 83, 'colsample_bytree': 0.38959945416581426, 'min_child_samples': 13, 'max_bin': 71, 'subsample_freq': 4}. Best is trial 179 with value: 0.1604359273319732.\n"
     ]
    },
    {
     "name": "stdout",
     "output_type": "stream",
     "text": [
      "Repeat \u001b[1m\u001b[34m#1\n"
     ]
    },
    {
     "name": "stderr",
     "output_type": "stream",
     "text": [
      "[I 2023-06-22 16:51:01,726] Trial 219 finished with value: 0.18896282448767646 and parameters: {'boosting_type': 'goss', 'learning_rate': 0.14077169327390018, 'reg_alpha': 2.0060446669743958e-06, 'reg_lambda': 0.0047028420373314075, 'max_depth': 5, 'num_leaves': 79, 'colsample_bytree': 0.41480312794962754, 'min_child_samples': 10, 'max_bin': 84, 'subsample_freq': 4}. Best is trial 179 with value: 0.1604359273319732.\n"
     ]
    },
    {
     "name": "stdout",
     "output_type": "stream",
     "text": [
      "Repeat \u001b[1m\u001b[34m#1\n"
     ]
    },
    {
     "name": "stderr",
     "output_type": "stream",
     "text": [
      "[I 2023-06-22 16:51:14,043] Trial 220 finished with value: 0.2072590260855058 and parameters: {'boosting_type': 'goss', 'learning_rate': 0.004001689968939835, 'reg_alpha': 1.2056013473821326e-06, 'reg_lambda': 0.0015596659898931761, 'max_depth': 5, 'num_leaves': 71, 'colsample_bytree': 0.5214519302591828, 'min_child_samples': 18, 'max_bin': 79, 'subsample_freq': 4}. Best is trial 179 with value: 0.1604359273319732.\n"
     ]
    },
    {
     "name": "stdout",
     "output_type": "stream",
     "text": [
      "Repeat \u001b[1m\u001b[34m#1\n"
     ]
    },
    {
     "name": "stderr",
     "output_type": "stream",
     "text": [
      "[I 2023-06-22 16:51:15,734] Trial 221 finished with value: 0.17257586107967587 and parameters: {'boosting_type': 'goss', 'learning_rate': 0.16933611194638395, 'reg_alpha': 7.96596567819273e-07, 'reg_lambda': 0.0024594992904043876, 'max_depth': 5, 'num_leaves': 74, 'colsample_bytree': 0.4101377375850801, 'min_child_samples': 15, 'max_bin': 72, 'subsample_freq': 4}. Best is trial 179 with value: 0.1604359273319732.\n"
     ]
    },
    {
     "name": "stdout",
     "output_type": "stream",
     "text": [
      "Repeat \u001b[1m\u001b[34m#1\n"
     ]
    },
    {
     "name": "stderr",
     "output_type": "stream",
     "text": [
      "[I 2023-06-22 16:51:16,947] Trial 222 finished with value: 0.16587294585980544 and parameters: {'boosting_type': 'goss', 'learning_rate': 0.1830462298517073, 'reg_alpha': 6.71263456202088e-07, 'reg_lambda': 0.00232147706179683, 'max_depth': 5, 'num_leaves': 74, 'colsample_bytree': 0.40177633657304906, 'min_child_samples': 15, 'max_bin': 75, 'subsample_freq': 4}. Best is trial 179 with value: 0.1604359273319732.\n"
     ]
    },
    {
     "name": "stdout",
     "output_type": "stream",
     "text": [
      "Repeat \u001b[1m\u001b[34m#1\n"
     ]
    },
    {
     "name": "stderr",
     "output_type": "stream",
     "text": [
      "[I 2023-06-22 16:51:18,045] Trial 223 finished with value: 0.1768733940125503 and parameters: {'boosting_type': 'goss', 'learning_rate': 0.19511967704513508, 'reg_alpha': 5.133715217051319e-07, 'reg_lambda': 0.002306431389956556, 'max_depth': 5, 'num_leaves': 76, 'colsample_bytree': 0.403929030328066, 'min_child_samples': 15, 'max_bin': 75, 'subsample_freq': 4}. Best is trial 179 with value: 0.1604359273319732.\n"
     ]
    },
    {
     "name": "stdout",
     "output_type": "stream",
     "text": [
      "Repeat \u001b[1m\u001b[34m#1\n"
     ]
    },
    {
     "name": "stderr",
     "output_type": "stream",
     "text": [
      "[I 2023-06-22 16:51:19,083] Trial 224 finished with value: 0.2130051975206385 and parameters: {'boosting_type': 'goss', 'learning_rate': 0.2599031879143954, 'reg_alpha': 3.311824650885936e-07, 'reg_lambda': 0.0020874787086705153, 'max_depth': 5, 'num_leaves': 68, 'colsample_bytree': 0.40165678267140303, 'min_child_samples': 15, 'max_bin': 75, 'subsample_freq': 4}. Best is trial 179 with value: 0.1604359273319732.\n"
     ]
    },
    {
     "name": "stdout",
     "output_type": "stream",
     "text": [
      "Repeat \u001b[1m\u001b[34m#1\n"
     ]
    },
    {
     "name": "stderr",
     "output_type": "stream",
     "text": [
      "[I 2023-06-22 16:51:20,087] Trial 225 finished with value: 0.2015563062626171 and parameters: {'boosting_type': 'goss', 'learning_rate': 0.2214795922076929, 'reg_alpha': 5.4266452206495e-07, 'reg_lambda': 0.0013269581878505075, 'max_depth': 5, 'num_leaves': 73, 'colsample_bytree': 0.4120176459622358, 'min_child_samples': 17, 'max_bin': 80, 'subsample_freq': 4}. Best is trial 179 with value: 0.1604359273319732.\n"
     ]
    },
    {
     "name": "stdout",
     "output_type": "stream",
     "text": [
      "Repeat \u001b[1m\u001b[34m#1\n"
     ]
    },
    {
     "name": "stderr",
     "output_type": "stream",
     "text": [
      "[I 2023-06-22 16:51:21,143] Trial 226 finished with value: 0.24642814113945594 and parameters: {'boosting_type': 'gbdt', 'learning_rate': 0.1558012861214897, 'reg_alpha': 4.1653760102704547e-07, 'reg_lambda': 0.002659944173333013, 'max_depth': 5, 'num_leaves': 70, 'colsample_bytree': 0.39081542792517193, 'min_child_samples': 19, 'max_bin': 74, 'subsample_freq': 4, 'subsample': 0.5397341152581633}. Best is trial 179 with value: 0.1604359273319732.\n"
     ]
    },
    {
     "name": "stdout",
     "output_type": "stream",
     "text": [
      "Repeat \u001b[1m\u001b[34m#1\n"
     ]
    },
    {
     "name": "stderr",
     "output_type": "stream",
     "text": [
      "[I 2023-06-22 16:51:22,681] Trial 227 finished with value: 0.18433865659362103 and parameters: {'boosting_type': 'goss', 'learning_rate': 0.18929273339584216, 'reg_alpha': 2.8546469193853436e-07, 'reg_lambda': 0.0013119225609768245, 'max_depth': 5, 'num_leaves': 76, 'colsample_bytree': 0.42157861648403927, 'min_child_samples': 16, 'max_bin': 86, 'subsample_freq': 4}. Best is trial 179 with value: 0.1604359273319732.\n"
     ]
    },
    {
     "name": "stdout",
     "output_type": "stream",
     "text": [
      "Repeat \u001b[1m\u001b[34m#1\n"
     ]
    },
    {
     "name": "stderr",
     "output_type": "stream",
     "text": [
      "[I 2023-06-22 16:51:23,631] Trial 228 finished with value: 0.2069856519732378 and parameters: {'boosting_type': 'goss', 'learning_rate': 0.2990830982804106, 'reg_alpha': 6.639784887453394e-07, 'reg_lambda': 0.0020934558862797073, 'max_depth': 5, 'num_leaves': 74, 'colsample_bytree': 0.3813934063690022, 'min_child_samples': 20, 'max_bin': 71, 'subsample_freq': 4}. Best is trial 179 with value: 0.1604359273319732.\n"
     ]
    },
    {
     "name": "stdout",
     "output_type": "stream",
     "text": [
      "Repeat \u001b[1m\u001b[34m#1\n"
     ]
    },
    {
     "name": "stderr",
     "output_type": "stream",
     "text": [
      "[I 2023-06-22 16:51:25,386] Trial 229 finished with value: 0.1930140690454749 and parameters: {'boosting_type': 'goss', 'learning_rate': 0.24359861670905114, 'reg_alpha': 6.985154992557339e-06, 'reg_lambda': 0.007508749078832702, 'max_depth': 5, 'num_leaves': 81, 'colsample_bytree': 0.399792215130564, 'min_child_samples': 15, 'max_bin': 78, 'subsample_freq': 4}. Best is trial 179 with value: 0.1604359273319732.\n"
     ]
    },
    {
     "name": "stdout",
     "output_type": "stream",
     "text": [
      "Repeat \u001b[1m\u001b[34m#1\n"
     ]
    },
    {
     "name": "stderr",
     "output_type": "stream",
     "text": [
      "[I 2023-06-22 16:51:26,570] Trial 230 finished with value: 0.19384259580391192 and parameters: {'boosting_type': 'goss', 'learning_rate': 0.20759229319190486, 'reg_alpha': 1.894596284232083e-07, 'reg_lambda': 0.003034547290704222, 'max_depth': 5, 'num_leaves': 71, 'colsample_bytree': 0.41112735274896045, 'min_child_samples': 17, 'max_bin': 82, 'subsample_freq': 4}. Best is trial 179 with value: 0.1604359273319732.\n"
     ]
    },
    {
     "name": "stdout",
     "output_type": "stream",
     "text": [
      "Repeat \u001b[1m\u001b[34m#1\n"
     ]
    },
    {
     "name": "stderr",
     "output_type": "stream",
     "text": [
      "[I 2023-06-22 16:51:27,718] Trial 231 finished with value: 0.19383463298659445 and parameters: {'boosting_type': 'goss', 'learning_rate': 0.19434370904344014, 'reg_alpha': 1.6840082224844233e-06, 'reg_lambda': 0.005092318213122278, 'max_depth': 5, 'num_leaves': 78, 'colsample_bytree': 0.401289354243446, 'min_child_samples': 12, 'max_bin': 72, 'subsample_freq': 4}. Best is trial 179 with value: 0.1604359273319732.\n"
     ]
    },
    {
     "name": "stdout",
     "output_type": "stream",
     "text": [
      "Repeat \u001b[1m\u001b[34m#1\n"
     ]
    },
    {
     "name": "stderr",
     "output_type": "stream",
     "text": [
      "[I 2023-06-22 16:51:28,940] Trial 232 finished with value: 0.1908500040753084 and parameters: {'boosting_type': 'goss', 'learning_rate': 0.17799824484811452, 'reg_alpha': 1.0293765978681825e-06, 'reg_lambda': 0.00427810160128837, 'max_depth': 5, 'num_leaves': 76, 'colsample_bytree': 0.41136407099802963, 'min_child_samples': 14, 'max_bin': 63, 'subsample_freq': 4}. Best is trial 179 with value: 0.1604359273319732.\n"
     ]
    },
    {
     "name": "stdout",
     "output_type": "stream",
     "text": [
      "Repeat \u001b[1m\u001b[34m#1\n"
     ]
    },
    {
     "name": "stderr",
     "output_type": "stream",
     "text": [
      "[I 2023-06-22 16:51:30,142] Trial 233 finished with value: 0.16716313063393382 and parameters: {'boosting_type': 'goss', 'learning_rate': 0.14794005049034822, 'reg_alpha': 0.0012455245889186075, 'reg_lambda': 0.010167960232332914, 'max_depth': 5, 'num_leaves': 85, 'colsample_bytree': 0.40602998006458224, 'min_child_samples': 14, 'max_bin': 77, 'subsample_freq': 4}. Best is trial 179 with value: 0.1604359273319732.\n"
     ]
    },
    {
     "name": "stdout",
     "output_type": "stream",
     "text": [
      "Repeat \u001b[1m\u001b[34m#1\n"
     ]
    },
    {
     "name": "stderr",
     "output_type": "stream",
     "text": [
      "[I 2023-06-22 16:51:31,303] Trial 234 finished with value: 0.2661027516552041 and parameters: {'boosting_type': 'goss', 'learning_rate': 0.14320513819316716, 'reg_alpha': 3.726671949589439e-07, 'reg_lambda': 0.0078492742803518, 'max_depth': 5, 'num_leaves': 91, 'colsample_bytree': 0.3911666995433339, 'min_child_samples': 68, 'max_bin': 77, 'subsample_freq': 4}. Best is trial 179 with value: 0.1604359273319732.\n"
     ]
    },
    {
     "name": "stdout",
     "output_type": "stream",
     "text": [
      "Repeat \u001b[1m\u001b[34m#1\n"
     ]
    },
    {
     "name": "stderr",
     "output_type": "stream",
     "text": [
      "[I 2023-06-22 16:51:32,486] Trial 235 finished with value: 0.18162328438563657 and parameters: {'boosting_type': 'goss', 'learning_rate': 0.15456134272025135, 'reg_alpha': 0.004616683801180208, 'reg_lambda': 0.021304467151826448, 'max_depth': 5, 'num_leaves': 67, 'colsample_bytree': 0.41960840924521814, 'min_child_samples': 18, 'max_bin': 74, 'subsample_freq': 4}. Best is trial 179 with value: 0.1604359273319732.\n"
     ]
    },
    {
     "name": "stdout",
     "output_type": "stream",
     "text": [
      "Repeat \u001b[1m\u001b[34m#1\n"
     ]
    },
    {
     "name": "stderr",
     "output_type": "stream",
     "text": [
      "[I 2023-06-22 16:51:33,899] Trial 236 finished with value: 0.19044448390372598 and parameters: {'boosting_type': 'goss', 'learning_rate': 0.12831746441512853, 'reg_alpha': 0.0008243786215833317, 'reg_lambda': 0.01027173294302106, 'max_depth': 5, 'num_leaves': 84, 'colsample_bytree': 0.4050246038420821, 'min_child_samples': 15, 'max_bin': 80, 'subsample_freq': 4}. Best is trial 179 with value: 0.1604359273319732.\n"
     ]
    },
    {
     "name": "stdout",
     "output_type": "stream",
     "text": [
      "Repeat \u001b[1m\u001b[34m#1\n"
     ]
    },
    {
     "name": "stderr",
     "output_type": "stream",
     "text": [
      "[I 2023-06-22 16:51:34,859] Trial 237 finished with value: 0.19299361662617529 and parameters: {'boosting_type': 'goss', 'learning_rate': 0.23039358160505555, 'reg_alpha': 5.717936818585738e-07, 'reg_lambda': 0.002054086277690914, 'max_depth': 5, 'num_leaves': 73, 'colsample_bytree': 0.4370540154618895, 'min_child_samples': 20, 'max_bin': 69, 'subsample_freq': 4}. Best is trial 179 with value: 0.1604359273319732.\n"
     ]
    },
    {
     "name": "stdout",
     "output_type": "stream",
     "text": [
      "Repeat \u001b[1m\u001b[34m#1\n"
     ]
    },
    {
     "name": "stderr",
     "output_type": "stream",
     "text": [
      "[I 2023-06-22 16:51:35,858] Trial 238 finished with value: 0.17158698026795904 and parameters: {'boosting_type': 'goss', 'learning_rate': 0.25991751337609004, 'reg_alpha': 0.0022165604977214012, 'reg_lambda': 1.1394981402912907e-06, 'max_depth': 5, 'num_leaves': 79, 'colsample_bytree': 0.3816385311135138, 'min_child_samples': 16, 'max_bin': 85, 'subsample_freq': 4}. Best is trial 179 with value: 0.1604359273319732.\n"
     ]
    },
    {
     "name": "stdout",
     "output_type": "stream",
     "text": [
      "Repeat \u001b[1m\u001b[34m#1\n"
     ]
    },
    {
     "name": "stderr",
     "output_type": "stream",
     "text": [
      "[I 2023-06-22 16:51:36,735] Trial 239 finished with value: 0.2154027496141847 and parameters: {'boosting_type': 'goss', 'learning_rate': 0.2983617126731207, 'reg_alpha': 0.003034489329786079, 'reg_lambda': 7.114431844440714e-06, 'max_depth': 5, 'num_leaves': 80, 'colsample_bytree': 0.38302516169889744, 'min_child_samples': 12, 'max_bin': 87, 'subsample_freq': 4}. Best is trial 179 with value: 0.1604359273319732.\n"
     ]
    },
    {
     "name": "stdout",
     "output_type": "stream",
     "text": [
      "Repeat \u001b[1m\u001b[34m#1\n"
     ]
    },
    {
     "name": "stderr",
     "output_type": "stream",
     "text": [
      "[I 2023-06-22 16:51:37,696] Trial 240 finished with value: 0.19410910521575686 and parameters: {'boosting_type': 'goss', 'learning_rate': 0.25150670192791563, 'reg_alpha': 0.001412172323039699, 'reg_lambda': 6.703436516203877e-07, 'max_depth': 5, 'num_leaves': 87, 'colsample_bytree': 0.3964174744355035, 'min_child_samples': 16, 'max_bin': 80, 'subsample_freq': 4}. Best is trial 179 with value: 0.1604359273319732.\n"
     ]
    },
    {
     "name": "stdout",
     "output_type": "stream",
     "text": [
      "Repeat \u001b[1m\u001b[34m#1\n"
     ]
    },
    {
     "name": "stderr",
     "output_type": "stream",
     "text": [
      "[I 2023-06-22 16:51:38,725] Trial 241 finished with value: 0.21796975462607843 and parameters: {'boosting_type': 'goss', 'learning_rate': 0.2135249220973743, 'reg_alpha': 3.55666608968195e-06, 'reg_lambda': 0.015730982809485098, 'max_depth': 5, 'num_leaves': 85, 'colsample_bytree': 0.3888733323693577, 'min_child_samples': 17, 'max_bin': 76, 'subsample_freq': 4}. Best is trial 179 with value: 0.1604359273319732.\n"
     ]
    },
    {
     "name": "stdout",
     "output_type": "stream",
     "text": [
      "Repeat \u001b[1m\u001b[34m#1\n"
     ]
    },
    {
     "name": "stderr",
     "output_type": "stream",
     "text": [
      "[I 2023-06-22 16:51:39,926] Trial 242 finished with value: 0.1945812961667727 and parameters: {'boosting_type': 'goss', 'learning_rate': 0.1752459750312626, 'reg_alpha': 3.17401596121662e-07, 'reg_lambda': 6.588857265612694e-08, 'max_depth': 5, 'num_leaves': 75, 'colsample_bytree': 0.35680426375285695, 'min_child_samples': 15, 'max_bin': 83, 'subsample_freq': 4}. Best is trial 179 with value: 0.1604359273319732.\n"
     ]
    },
    {
     "name": "stdout",
     "output_type": "stream",
     "text": [
      "Repeat \u001b[1m\u001b[34m#1\n"
     ]
    },
    {
     "name": "stderr",
     "output_type": "stream",
     "text": [
      "[I 2023-06-22 16:51:56,920] Trial 243 finished with value: 0.4041862737318077 and parameters: {'boosting_type': 'goss', 'learning_rate': 0.0004660535675898454, 'reg_alpha': 1.680331572236576e-07, 'reg_lambda': 0.001441751627917798, 'max_depth': 5, 'num_leaves': 82, 'colsample_bytree': 0.40615537294832055, 'min_child_samples': 19, 'max_bin': 72, 'subsample_freq': 4}. Best is trial 179 with value: 0.1604359273319732.\n"
     ]
    },
    {
     "name": "stdout",
     "output_type": "stream",
     "text": [
      "Repeat \u001b[1m\u001b[34m#1\n"
     ]
    },
    {
     "name": "stderr",
     "output_type": "stream",
     "text": [
      "[I 2023-06-22 16:51:58,077] Trial 244 finished with value: 0.15220364691183436 and parameters: {'boosting_type': 'goss', 'learning_rate': 0.2106028960812532, 'reg_alpha': 1.7461360543677475e-05, 'reg_lambda': 0.0009330100402472434, 'max_depth': 5, 'num_leaves': 79, 'colsample_bytree': 0.41659118026936676, 'min_child_samples': 14, 'max_bin': 76, 'subsample_freq': 4}. Best is trial 244 with value: 0.15220364691183436.\n"
     ]
    },
    {
     "name": "stdout",
     "output_type": "stream",
     "text": [
      "Repeat \u001b[1m\u001b[34m#1\n"
     ]
    },
    {
     "name": "stderr",
     "output_type": "stream",
     "text": [
      "[I 2023-06-22 16:51:59,099] Trial 245 finished with value: 0.19417075553612606 and parameters: {'boosting_type': 'goss', 'learning_rate': 0.2647793783726361, 'reg_alpha': 1.952690062252937e-05, 'reg_lambda': 0.0011444111197570028, 'max_depth': 5, 'num_leaves': 79, 'colsample_bytree': 0.4192920914928616, 'min_child_samples': 14, 'max_bin': 76, 'subsample_freq': 4}. Best is trial 244 with value: 0.15220364691183436.\n"
     ]
    },
    {
     "name": "stdout",
     "output_type": "stream",
     "text": [
      "Repeat \u001b[1m\u001b[34m#1\n"
     ]
    },
    {
     "name": "stderr",
     "output_type": "stream",
     "text": [
      "[I 2023-06-22 16:52:00,150] Trial 246 finished with value: 0.19513603812452182 and parameters: {'boosting_type': 'goss', 'learning_rate': 0.21160745643613937, 'reg_alpha': 5.618837488346976e-06, 'reg_lambda': 2.1647027119264226e-05, 'max_depth': 5, 'num_leaves': 77, 'colsample_bytree': 0.42532267035090976, 'min_child_samples': 11, 'max_bin': 84, 'subsample_freq': 4}. Best is trial 244 with value: 0.15220364691183436.\n"
     ]
    },
    {
     "name": "stdout",
     "output_type": "stream",
     "text": [
      "Repeat \u001b[1m\u001b[34m#1\n"
     ]
    },
    {
     "name": "stderr",
     "output_type": "stream",
     "text": [
      "[I 2023-06-22 16:52:01,191] Trial 247 finished with value: 0.17893997525777416 and parameters: {'boosting_type': 'goss', 'learning_rate': 0.24200811458933655, 'reg_alpha': 9.504930496707045e-06, 'reg_lambda': 0.002822052551759933, 'max_depth': 5, 'num_leaves': 81, 'colsample_bytree': 0.4119030897599416, 'min_child_samples': 14, 'max_bin': 67, 'subsample_freq': 4}. Best is trial 244 with value: 0.15220364691183436.\n"
     ]
    },
    {
     "name": "stdout",
     "output_type": "stream",
     "text": [
      "Repeat \u001b[1m\u001b[34m#1\n"
     ]
    },
    {
     "name": "stderr",
     "output_type": "stream",
     "text": [
      "[I 2023-06-22 16:52:02,284] Trial 248 finished with value: 0.18345619388821394 and parameters: {'boosting_type': 'goss', 'learning_rate': 0.18291866276049934, 'reg_alpha': 4.298204400648932e-06, 'reg_lambda': 0.0009490722073492002, 'max_depth': 5, 'num_leaves': 73, 'colsample_bytree': 0.6890924225377433, 'min_child_samples': 9, 'max_bin': 80, 'subsample_freq': 4}. Best is trial 244 with value: 0.15220364691183436.\n"
     ]
    },
    {
     "name": "stdout",
     "output_type": "stream",
     "text": [
      "Repeat \u001b[1m\u001b[34m#1\n"
     ]
    },
    {
     "name": "stderr",
     "output_type": "stream",
     "text": [
      "[I 2023-06-22 16:52:03,398] Trial 249 finished with value: 0.16867408368809583 and parameters: {'boosting_type': 'goss', 'learning_rate': 0.21492713749686176, 'reg_alpha': 2.5599364325450334e-06, 'reg_lambda': 0.006267093605080166, 'max_depth': 5, 'num_leaves': 78, 'colsample_bytree': 0.3985310249218481, 'min_child_samples': 17, 'max_bin': 88, 'subsample_freq': 4}. Best is trial 244 with value: 0.15220364691183436.\n"
     ]
    },
    {
     "name": "stdout",
     "output_type": "stream",
     "text": [
      "Repeat \u001b[1m\u001b[34m#1\n"
     ]
    },
    {
     "name": "stderr",
     "output_type": "stream",
     "text": [
      "[I 2023-06-22 16:52:04,567] Trial 250 finished with value: 0.1922076248349585 and parameters: {'boosting_type': 'goss', 'learning_rate': 0.1554552855924307, 'reg_alpha': 2.521382030434281e-06, 'reg_lambda': 0.010833939971705925, 'max_depth': 5, 'num_leaves': 79, 'colsample_bytree': 0.3967315736705633, 'min_child_samples': 12, 'max_bin': 88, 'subsample_freq': 4}. Best is trial 244 with value: 0.15220364691183436.\n"
     ]
    },
    {
     "name": "stdout",
     "output_type": "stream",
     "text": [
      "Repeat \u001b[1m\u001b[34m#1\n"
     ]
    },
    {
     "name": "stderr",
     "output_type": "stream",
     "text": [
      "[I 2023-06-22 16:52:05,732] Trial 251 finished with value: 0.19169957569692764 and parameters: {'boosting_type': 'goss', 'learning_rate': 0.19585819786306446, 'reg_alpha': 2.2632815807275887e-06, 'reg_lambda': 0.006250327331016315, 'max_depth': 5, 'num_leaves': 83, 'colsample_bytree': 0.4015741474276473, 'min_child_samples': 16, 'max_bin': 139, 'subsample_freq': 4}. Best is trial 244 with value: 0.15220364691183436.\n"
     ]
    },
    {
     "name": "stdout",
     "output_type": "stream",
     "text": [
      "Repeat \u001b[1m\u001b[34m#1\n"
     ]
    },
    {
     "name": "stderr",
     "output_type": "stream",
     "text": [
      "[I 2023-06-22 16:52:06,733] Trial 252 finished with value: 0.1989079582786885 and parameters: {'boosting_type': 'goss', 'learning_rate': 0.29959991798240665, 'reg_alpha': 4.104385738187999e-06, 'reg_lambda': 0.02233359643510062, 'max_depth': 5, 'num_leaves': 78, 'colsample_bytree': 0.3783416368508544, 'min_child_samples': 13, 'max_bin': 90, 'subsample_freq': 4}. Best is trial 244 with value: 0.15220364691183436.\n"
     ]
    },
    {
     "name": "stdout",
     "output_type": "stream",
     "text": [
      "Repeat \u001b[1m\u001b[34m#1\n"
     ]
    },
    {
     "name": "stderr",
     "output_type": "stream",
     "text": [
      "[I 2023-06-22 16:52:07,740] Trial 253 finished with value: 0.19596030454116536 and parameters: {'boosting_type': 'goss', 'learning_rate': 0.256449705622374, 'reg_alpha': 1.4705962187801518e-05, 'reg_lambda': 0.00688553755069135, 'max_depth': 5, 'num_leaves': 71, 'colsample_bytree': 0.38997913001810347, 'min_child_samples': 16, 'max_bin': 84, 'subsample_freq': 4}. Best is trial 244 with value: 0.15220364691183436.\n"
     ]
    },
    {
     "name": "stdout",
     "output_type": "stream",
     "text": [
      "Repeat \u001b[1m\u001b[34m#1\n"
     ]
    },
    {
     "name": "stderr",
     "output_type": "stream",
     "text": [
      "[I 2023-06-22 16:52:08,917] Trial 254 finished with value: 0.1747362317506436 and parameters: {'boosting_type': 'goss', 'learning_rate': 0.17070762285984203, 'reg_alpha': 8.916654499606768e-06, 'reg_lambda': 0.0034933461694724977, 'max_depth': 5, 'num_leaves': 76, 'colsample_bytree': 0.4050418137079004, 'min_child_samples': 14, 'max_bin': 70, 'subsample_freq': 5}. Best is trial 244 with value: 0.15220364691183436.\n"
     ]
    },
    {
     "name": "stdout",
     "output_type": "stream",
     "text": [
      "Repeat \u001b[1m\u001b[34m#1\n"
     ]
    },
    {
     "name": "stderr",
     "output_type": "stream",
     "text": [
      "[I 2023-06-22 16:52:10,381] Trial 255 finished with value: 0.25024917275170455 and parameters: {'boosting_type': 'gbdt', 'learning_rate': 0.16370365430761163, 'reg_alpha': 5.879525359611527e-06, 'reg_lambda': 0.0037527426794804523, 'max_depth': 5, 'num_leaves': 76, 'colsample_bytree': 0.4046938136487194, 'min_child_samples': 10, 'max_bin': 69, 'subsample_freq': 4, 'subsample': 0.5995149658986387}. Best is trial 244 with value: 0.15220364691183436.\n"
     ]
    },
    {
     "name": "stdout",
     "output_type": "stream",
     "text": [
      "Repeat \u001b[1m\u001b[34m#1\n"
     ]
    },
    {
     "name": "stderr",
     "output_type": "stream",
     "text": [
      "[I 2023-06-22 16:52:18,338] Trial 256 finished with value: 0.1892398210898545 and parameters: {'boosting_type': 'goss', 'learning_rate': 0.009792236744066284, 'reg_alpha': 7.763830504099131e-06, 'reg_lambda': 1.0744166825522329e-06, 'max_depth': 5, 'num_leaves': 81, 'colsample_bytree': 0.39961083845496936, 'min_child_samples': 13, 'max_bin': 64, 'subsample_freq': 5}. Best is trial 244 with value: 0.15220364691183436.\n"
     ]
    },
    {
     "name": "stdout",
     "output_type": "stream",
     "text": [
      "Repeat \u001b[1m\u001b[34m#1\n"
     ]
    },
    {
     "name": "stderr",
     "output_type": "stream",
     "text": [
      "[I 2023-06-22 16:52:19,382] Trial 257 finished with value: 0.21237512324824234 and parameters: {'boosting_type': 'goss', 'learning_rate': 0.21698850484675117, 'reg_alpha': 1.0402548851354422e-05, 'reg_lambda': 0.01295523337342947, 'max_depth': 5, 'num_leaves': 78, 'colsample_bytree': 0.42995762000713683, 'min_child_samples': 17, 'max_bin': 70, 'subsample_freq': 5}. Best is trial 244 with value: 0.15220364691183436.\n"
     ]
    },
    {
     "name": "stdout",
     "output_type": "stream",
     "text": [
      "Repeat \u001b[1m\u001b[34m#1\n"
     ]
    },
    {
     "name": "stderr",
     "output_type": "stream",
     "text": [
      "[I 2023-06-22 16:52:20,439] Trial 258 finished with value: 0.18333387141743776 and parameters: {'boosting_type': 'goss', 'learning_rate': 0.25608140397621565, 'reg_alpha': 2.9705628268480874e-05, 'reg_lambda': 0.005371190948466381, 'max_depth': 5, 'num_leaves': 75, 'colsample_bytree': 0.4080299915683967, 'min_child_samples': 14, 'max_bin': 75, 'subsample_freq': 4}. Best is trial 244 with value: 0.15220364691183436.\n"
     ]
    },
    {
     "name": "stdout",
     "output_type": "stream",
     "text": [
      "Repeat \u001b[1m\u001b[34m#1\n"
     ]
    },
    {
     "name": "stderr",
     "output_type": "stream",
     "text": [
      "[I 2023-06-22 16:52:21,592] Trial 259 finished with value: 0.22137946799373262 and parameters: {'boosting_type': 'goss', 'learning_rate': 0.12896347015985604, 'reg_alpha': 3.2112652597576705e-06, 'reg_lambda': 0.0033068256389595864, 'max_depth': 5, 'num_leaves': 86, 'colsample_bytree': 0.39449932888328965, 'min_child_samples': 11, 'max_bin': 79, 'subsample_freq': 4}. Best is trial 244 with value: 0.15220364691183436.\n"
     ]
    },
    {
     "name": "stdout",
     "output_type": "stream",
     "text": [
      "Repeat \u001b[1m\u001b[34m#1\n"
     ]
    },
    {
     "name": "stderr",
     "output_type": "stream",
     "text": [
      "[I 2023-06-22 16:52:22,795] Trial 260 finished with value: 0.16525624815334372 and parameters: {'boosting_type': 'goss', 'learning_rate': 0.19677613135997202, 'reg_alpha': 1.744306859194113e-06, 'reg_lambda': 0.255458158414888, 'max_depth': 5, 'num_leaves': 73, 'colsample_bytree': 0.3839869330929891, 'min_child_samples': 18, 'max_bin': 67, 'subsample_freq': 4}. Best is trial 244 with value: 0.15220364691183436.\n"
     ]
    },
    {
     "name": "stdout",
     "output_type": "stream",
     "text": [
      "Repeat \u001b[1m\u001b[34m#1\n"
     ]
    },
    {
     "name": "stderr",
     "output_type": "stream",
     "text": [
      "[I 2023-06-22 16:52:23,986] Trial 261 finished with value: 0.192340454520814 and parameters: {'boosting_type': 'goss', 'learning_rate': 0.15634813086021743, 'reg_alpha': 1.941320327993622e-06, 'reg_lambda': 0.6186515439264152, 'max_depth': 5, 'num_leaves': 73, 'colsample_bytree': 0.38363098067066287, 'min_child_samples': 19, 'max_bin': 64, 'subsample_freq': 5}. Best is trial 244 with value: 0.15220364691183436.\n"
     ]
    },
    {
     "name": "stdout",
     "output_type": "stream",
     "text": [
      "Repeat \u001b[1m\u001b[34m#1\n"
     ]
    },
    {
     "name": "stderr",
     "output_type": "stream",
     "text": [
      "[I 2023-06-22 16:52:25,141] Trial 262 finished with value: 0.18247213612166047 and parameters: {'boosting_type': 'goss', 'learning_rate': 0.22846267140671056, 'reg_alpha': 5.7592660480548815e-06, 'reg_lambda': 0.07790196052489178, 'max_depth': 5, 'num_leaves': 72, 'colsample_bytree': 0.3888685399058271, 'min_child_samples': 17, 'max_bin': 68, 'subsample_freq': 4}. Best is trial 244 with value: 0.15220364691183436.\n"
     ]
    },
    {
     "name": "stdout",
     "output_type": "stream",
     "text": [
      "Repeat \u001b[1m\u001b[34m#1\n"
     ]
    },
    {
     "name": "stderr",
     "output_type": "stream",
     "text": [
      "[I 2023-06-22 16:52:26,737] Trial 263 finished with value: 0.1815268831818714 and parameters: {'boosting_type': 'goss', 'learning_rate': 0.1786241713315624, 'reg_alpha': 1.1749169314297473e-06, 'reg_lambda': 0.008040456011365852, 'max_depth': 5, 'num_leaves': 80, 'colsample_bytree': 0.4201075712439898, 'min_child_samples': 19, 'max_bin': 83, 'subsample_freq': 4}. Best is trial 244 with value: 0.15220364691183436.\n"
     ]
    },
    {
     "name": "stdout",
     "output_type": "stream",
     "text": [
      "Repeat \u001b[1m\u001b[34m#1\n"
     ]
    },
    {
     "name": "stderr",
     "output_type": "stream",
     "text": [
      "[I 2023-06-22 16:52:33,911] Trial 264 finished with value: 0.19874873585924335 and parameters: {'boosting_type': 'goss', 'learning_rate': 0.013373902487011497, 'reg_alpha': 3.2734752236511994e-06, 'reg_lambda': 0.09986123071220451, 'max_depth': 5, 'num_leaves': 70, 'colsample_bytree': 0.3823250945862264, 'min_child_samples': 17, 'max_bin': 57, 'subsample_freq': 4}. Best is trial 244 with value: 0.15220364691183436.\n"
     ]
    },
    {
     "name": "stdout",
     "output_type": "stream",
     "text": [
      "Repeat \u001b[1m\u001b[34m#1\n"
     ]
    },
    {
     "name": "stderr",
     "output_type": "stream",
     "text": [
      "[I 2023-06-22 16:52:36,476] Trial 265 finished with value: 0.18492885762174335 and parameters: {'boosting_type': 'goss', 'learning_rate': 0.2609546025953852, 'reg_alpha': 1.7184034845978006e-06, 'reg_lambda': 8.763808672250216, 'max_depth': 5, 'num_leaves': 74, 'colsample_bytree': 0.39406028827579226, 'min_child_samples': 13, 'max_bin': 71, 'subsample_freq': 4}. Best is trial 244 with value: 0.15220364691183436.\n"
     ]
    },
    {
     "name": "stdout",
     "output_type": "stream",
     "text": [
      "Repeat \u001b[1m\u001b[34m#1\n"
     ]
    },
    {
     "name": "stderr",
     "output_type": "stream",
     "text": [
      "[I 2023-06-22 16:52:39,027] Trial 266 finished with value: 0.20344475364869666 and parameters: {'boosting_type': 'goss', 'learning_rate': 0.20505567242322592, 'reg_alpha': 7.766397441850836e-06, 'reg_lambda': 0.6643980708545779, 'max_depth': 5, 'num_leaves': 78, 'colsample_bytree': 0.37473374546963656, 'min_child_samples': 9, 'max_bin': 65, 'subsample_freq': 4}. Best is trial 244 with value: 0.15220364691183436.\n"
     ]
    },
    {
     "name": "stdout",
     "output_type": "stream",
     "text": [
      "Repeat \u001b[1m\u001b[34m#1\n"
     ]
    },
    {
     "name": "stderr",
     "output_type": "stream",
     "text": [
      "[I 2023-06-22 16:52:40,700] Trial 267 finished with value: 0.17976907415232968 and parameters: {'boosting_type': 'goss', 'learning_rate': 0.1302910730038539, 'reg_alpha': 2.2266702933410658e-06, 'reg_lambda': 0.19242297354497448, 'max_depth': 5, 'num_leaves': 83, 'colsample_bytree': 0.4152378449109429, 'min_child_samples': 15, 'max_bin': 90, 'subsample_freq': 4}. Best is trial 244 with value: 0.15220364691183436.\n"
     ]
    },
    {
     "name": "stdout",
     "output_type": "stream",
     "text": [
      "Repeat \u001b[1m\u001b[34m#1\n"
     ]
    },
    {
     "name": "stderr",
     "output_type": "stream",
     "text": [
      "[I 2023-06-22 16:52:53,391] Trial 268 finished with value: 0.20281499902458971 and parameters: {'boosting_type': 'goss', 'learning_rate': 0.006177171929609871, 'reg_alpha': 9.09744717630019e-07, 'reg_lambda': 0.01386065069558812, 'max_depth': 5, 'num_leaves': 76, 'colsample_bytree': 0.399384188634913, 'min_child_samples': 20, 'max_bin': 79, 'subsample_freq': 4}. Best is trial 244 with value: 0.15220364691183436.\n"
     ]
    },
    {
     "name": "stdout",
     "output_type": "stream",
     "text": [
      "Repeat \u001b[1m\u001b[34m#1\n"
     ]
    },
    {
     "name": "stderr",
     "output_type": "stream",
     "text": [
      "[I 2023-06-22 16:52:54,333] Trial 269 finished with value: 0.18394403245898022 and parameters: {'boosting_type': 'goss', 'learning_rate': 0.15602914385014727, 'reg_alpha': 3.86518975647663e-06, 'reg_lambda': 0.0356505895674913, 'max_depth': 5, 'num_leaves': 72, 'colsample_bytree': 0.41085484140360923, 'min_child_samples': 12, 'max_bin': 72, 'subsample_freq': 4}. Best is trial 244 with value: 0.15220364691183436.\n"
     ]
    },
    {
     "name": "stdout",
     "output_type": "stream",
     "text": [
      "Repeat \u001b[1m\u001b[34m#1\n"
     ]
    },
    {
     "name": "stderr",
     "output_type": "stream",
     "text": [
      "[I 2023-06-22 16:52:54,980] Trial 270 finished with value: 0.21825478427801195 and parameters: {'boosting_type': 'goss', 'learning_rate': 0.23804783151351017, 'reg_alpha': 1.3298440252099902e-06, 'reg_lambda': 0.0760788380587379, 'max_depth': 5, 'num_leaves': 79, 'colsample_bytree': 0.42915189550904626, 'min_child_samples': 17, 'max_bin': 67, 'subsample_freq': 4}. Best is trial 244 with value: 0.15220364691183436.\n"
     ]
    },
    {
     "name": "stdout",
     "output_type": "stream",
     "text": [
      "Repeat \u001b[1m\u001b[34m#1\n"
     ]
    },
    {
     "name": "stderr",
     "output_type": "stream",
     "text": [
      "[I 2023-06-22 16:52:55,762] Trial 271 finished with value: 0.17831706582122 and parameters: {'boosting_type': 'goss', 'learning_rate': 0.18339267364946255, 'reg_alpha': 1.5212080730056266e-05, 'reg_lambda': 0.0017590587888179903, 'max_depth': 5, 'num_leaves': 89, 'colsample_bytree': 0.3878731670345377, 'min_child_samples': 14, 'max_bin': 85, 'subsample_freq': 4}. Best is trial 244 with value: 0.15220364691183436.\n"
     ]
    },
    {
     "name": "stdout",
     "output_type": "stream",
     "text": [
      "Repeat \u001b[1m\u001b[34m#1\n"
     ]
    },
    {
     "name": "stderr",
     "output_type": "stream",
     "text": [
      "[I 2023-06-22 16:52:56,510] Trial 272 finished with value: 0.2061252590863511 and parameters: {'boosting_type': 'goss', 'learning_rate': 0.2964939693407566, 'reg_alpha': 0.0020894586212937064, 'reg_lambda': 1.3301398004670968, 'max_depth': 5, 'num_leaves': 69, 'colsample_bytree': 0.3961346791252726, 'min_child_samples': 18, 'max_bin': 60, 'subsample_freq': 4}. Best is trial 244 with value: 0.15220364691183436.\n"
     ]
    },
    {
     "name": "stdout",
     "output_type": "stream",
     "text": [
      "Repeat \u001b[1m\u001b[34m#1\n"
     ]
    },
    {
     "name": "stderr",
     "output_type": "stream",
     "text": [
      "[I 2023-06-22 16:52:57,051] Trial 273 finished with value: 0.22913111254952184 and parameters: {'boosting_type': 'gbdt', 'learning_rate': 0.21317294082187985, 'reg_alpha': 0.006015383316122509, 'reg_lambda': 0.004818046129281741, 'max_depth': 5, 'num_leaves': 74, 'colsample_bytree': 0.40566337453360135, 'min_child_samples': 81, 'max_bin': 76, 'subsample_freq': 4, 'subsample': 0.6530002649171243}. Best is trial 244 with value: 0.15220364691183436.\n"
     ]
    },
    {
     "name": "stdout",
     "output_type": "stream",
     "text": [
      "Repeat \u001b[1m\u001b[34m#1\n"
     ]
    },
    {
     "name": "stderr",
     "output_type": "stream",
     "text": [
      "[I 2023-06-22 16:52:57,824] Trial 274 finished with value: 0.19792378933559157 and parameters: {'boosting_type': 'goss', 'learning_rate': 0.17570853018711222, 'reg_alpha': 8.126017674572225e-07, 'reg_lambda': 0.0034385453814283805, 'max_depth': 5, 'num_leaves': 82, 'colsample_bytree': 0.4466802161677992, 'min_child_samples': 11, 'max_bin': 71, 'subsample_freq': 4}. Best is trial 244 with value: 0.15220364691183436.\n"
     ]
    },
    {
     "name": "stdout",
     "output_type": "stream",
     "text": [
      "Repeat \u001b[1m\u001b[34m#1\n"
     ]
    },
    {
     "name": "stderr",
     "output_type": "stream",
     "text": [
      "[I 2023-06-22 16:52:58,874] Trial 275 finished with value: 0.20015595891538754 and parameters: {'boosting_type': 'goss', 'learning_rate': 0.15246320472519548, 'reg_alpha': 0.0005365927595379081, 'reg_lambda': 0.024315233847189078, 'max_depth': 5, 'num_leaves': 85, 'colsample_bytree': 0.3755956319785587, 'min_child_samples': 16, 'max_bin': 80, 'subsample_freq': 5}. Best is trial 244 with value: 0.15220364691183436.\n"
     ]
    },
    {
     "name": "stdout",
     "output_type": "stream",
     "text": [
      "Repeat \u001b[1m\u001b[34m#1\n"
     ]
    },
    {
     "name": "stderr",
     "output_type": "stream",
     "text": [
      "[I 2023-06-22 16:52:59,760] Trial 276 finished with value: 0.21341799669121822 and parameters: {'boosting_type': 'goss', 'learning_rate': 0.1239735089277903, 'reg_alpha': 1.3603143799543291, 'reg_lambda': 0.3272205354691598, 'max_depth': 5, 'num_leaves': 76, 'colsample_bytree': 0.46990332587493644, 'min_child_samples': 21, 'max_bin': 54, 'subsample_freq': 4}. Best is trial 244 with value: 0.15220364691183436.\n"
     ]
    },
    {
     "name": "stdout",
     "output_type": "stream",
     "text": [
      "Repeat \u001b[1m\u001b[34m#1\n"
     ]
    },
    {
     "name": "stderr",
     "output_type": "stream",
     "text": [
      "[I 2023-06-22 16:53:00,413] Trial 277 finished with value: 0.2063171873083394 and parameters: {'boosting_type': 'goss', 'learning_rate': 0.2528323867166385, 'reg_alpha': 3.125112891453861e-05, 'reg_lambda': 3.9126883562148898, 'max_depth': 5, 'num_leaves': 71, 'colsample_bytree': 0.41681190862661055, 'min_child_samples': 42, 'max_bin': 75, 'subsample_freq': 4}. Best is trial 244 with value: 0.15220364691183436.\n"
     ]
    },
    {
     "name": "stdout",
     "output_type": "stream",
     "text": [
      "Repeat \u001b[1m\u001b[34m#1\n"
     ]
    },
    {
     "name": "stderr",
     "output_type": "stream",
     "text": [
      "[I 2023-06-22 16:53:01,487] Trial 278 finished with value: 0.23743294376927204 and parameters: {'boosting_type': 'goss', 'learning_rate': 0.09435617285942134, 'reg_alpha': 5.441410451207903e-06, 'reg_lambda': 0.10429205053725463, 'max_depth': 5, 'num_leaves': 77, 'colsample_bytree': 0.4244265837106024, 'min_child_samples': 55, 'max_bin': 63, 'subsample_freq': 4}. Best is trial 244 with value: 0.15220364691183436.\n"
     ]
    },
    {
     "name": "stdout",
     "output_type": "stream",
     "text": [
      "Repeat \u001b[1m\u001b[34m#1\n"
     ]
    },
    {
     "name": "stderr",
     "output_type": "stream",
     "text": [
      "[I 2023-06-22 16:53:01,748] Trial 279 finished with value: 0.49479771572653874 and parameters: {'boosting_type': 'goss', 'learning_rate': 0.20690197150850664, 'reg_alpha': 2.719012988036944e-06, 'reg_lambda': 0.00874834629273655, 'max_depth': 5, 'num_leaves': 66, 'colsample_bytree': 0.4094301249217348, 'min_child_samples': 94, 'max_bin': 87, 'subsample_freq': 4}. Best is trial 244 with value: 0.15220364691183436.\n"
     ]
    },
    {
     "name": "stdout",
     "output_type": "stream",
     "text": [
      "Repeat \u001b[1m\u001b[34m#1\n"
     ]
    },
    {
     "name": "stderr",
     "output_type": "stream",
     "text": [
      "[I 2023-06-22 16:53:11,001] Trial 280 finished with value: 0.23388194019509037 and parameters: {'boosting_type': 'goss', 'learning_rate': 0.002097857171595142, 'reg_alpha': 0.00035445149009632944, 'reg_lambda': 0.04036826320436186, 'max_depth': 5, 'num_leaves': 73, 'colsample_bytree': 0.4348166755750554, 'min_child_samples': 14, 'max_bin': 82, 'subsample_freq': 4}. Best is trial 244 with value: 0.15220364691183436.\n"
     ]
    },
    {
     "name": "stdout",
     "output_type": "stream",
     "text": [
      "Repeat \u001b[1m\u001b[34m#1\n"
     ]
    },
    {
     "name": "stderr",
     "output_type": "stream",
     "text": [
      "[I 2023-06-22 16:53:11,680] Trial 281 finished with value: 0.17767966640533606 and parameters: {'boosting_type': 'goss', 'learning_rate': 0.23013334567906188, 'reg_alpha': 1.305668777668896e-06, 'reg_lambda': 4.146509083868646e-05, 'max_depth': 5, 'num_leaves': 80, 'colsample_bytree': 0.3864847880323503, 'min_child_samples': 19, 'max_bin': 70, 'subsample_freq': 4}. Best is trial 244 with value: 0.15220364691183436.\n"
     ]
    },
    {
     "name": "stdout",
     "output_type": "stream",
     "text": [
      "Repeat \u001b[1m\u001b[34m#1\n"
     ]
    },
    {
     "name": "stderr",
     "output_type": "stream",
     "text": [
      "[I 2023-06-22 16:53:12,480] Trial 282 finished with value: 0.204269309312825 and parameters: {'boosting_type': 'goss', 'learning_rate': 0.17466385010246516, 'reg_alpha': 1.1965017111639588e-05, 'reg_lambda': 0.12722588495431675, 'max_depth': 5, 'num_leaves': 75, 'colsample_bytree': 0.40059435644525315, 'min_child_samples': 8, 'max_bin': 77, 'subsample_freq': 4}. Best is trial 244 with value: 0.15220364691183436.\n"
     ]
    },
    {
     "name": "stdout",
     "output_type": "stream",
     "text": [
      "Repeat \u001b[1m\u001b[34m#1\n"
     ]
    },
    {
     "name": "stderr",
     "output_type": "stream",
     "text": [
      "[I 2023-06-22 16:53:13,373] Trial 283 finished with value: 0.1807734915027095 and parameters: {'boosting_type': 'goss', 'learning_rate': 0.14155283564070253, 'reg_alpha': 1.793899209308374e-06, 'reg_lambda': 0.0007690504941101605, 'max_depth': 5, 'num_leaves': 68, 'colsample_bytree': 0.5127980924571864, 'min_child_samples': 16, 'max_bin': 66, 'subsample_freq': 4}. Best is trial 244 with value: 0.15220364691183436.\n"
     ]
    },
    {
     "name": "stdout",
     "output_type": "stream",
     "text": [
      "Repeat \u001b[1m\u001b[34m#1\n"
     ]
    },
    {
     "name": "stderr",
     "output_type": "stream",
     "text": [
      "[I 2023-06-22 16:53:14,141] Trial 284 finished with value: 0.1631490026122342 and parameters: {'boosting_type': 'goss', 'learning_rate': 0.29687529610859437, 'reg_alpha': 7.75210784458687e-06, 'reg_lambda': 0.0015901054898923893, 'max_depth': 5, 'num_leaves': 71, 'colsample_bytree': 0.3937274579896393, 'min_child_samples': 13, 'max_bin': 73, 'subsample_freq': 4}. Best is trial 244 with value: 0.15220364691183436.\n"
     ]
    },
    {
     "name": "stdout",
     "output_type": "stream",
     "text": [
      "Repeat \u001b[1m\u001b[34m#1\n"
     ]
    },
    {
     "name": "stderr",
     "output_type": "stream",
     "text": [
      "[I 2023-06-22 16:53:15,839] Trial 285 finished with value: 0.1926946025059638 and parameters: {'boosting_type': 'goss', 'learning_rate': 0.0523217106002487, 'reg_alpha': 1.0000623700649742e-05, 'reg_lambda': 0.0017899943364610106, 'max_depth': 5, 'num_leaves': 71, 'colsample_bytree': 0.3791014748818979, 'min_child_samples': 23, 'max_bin': 81, 'subsample_freq': 4}. Best is trial 244 with value: 0.15220364691183436.\n"
     ]
    },
    {
     "name": "stdout",
     "output_type": "stream",
     "text": [
      "Repeat \u001b[1m\u001b[34m#1\n"
     ]
    },
    {
     "name": "stderr",
     "output_type": "stream",
     "text": [
      "[I 2023-06-22 16:53:16,505] Trial 286 finished with value: 0.204089333733589 and parameters: {'boosting_type': 'goss', 'learning_rate': 0.295505586280862, 'reg_alpha': 1.641360840327228e-05, 'reg_lambda': 0.20797066215417748, 'max_depth': 5, 'num_leaves': 69, 'colsample_bytree': 0.39205225634912083, 'min_child_samples': 11, 'max_bin': 74, 'subsample_freq': 4}. Best is trial 244 with value: 0.15220364691183436.\n"
     ]
    },
    {
     "name": "stdout",
     "output_type": "stream",
     "text": [
      "Repeat \u001b[1m\u001b[34m#1\n"
     ]
    },
    {
     "name": "stderr",
     "output_type": "stream",
     "text": [
      "[I 2023-06-22 16:53:17,213] Trial 287 finished with value: 0.19266687173075603 and parameters: {'boosting_type': 'goss', 'learning_rate': 0.20181852372659806, 'reg_alpha': 6.145376790658969e-06, 'reg_lambda': 5.00197898362437e-06, 'max_depth': 5, 'num_leaves': 72, 'colsample_bytree': 0.4166039295793361, 'min_child_samples': 18, 'max_bin': 91, 'subsample_freq': 4}. Best is trial 244 with value: 0.15220364691183436.\n"
     ]
    },
    {
     "name": "stdout",
     "output_type": "stream",
     "text": [
      "Repeat \u001b[1m\u001b[34m#1\n"
     ]
    },
    {
     "name": "stderr",
     "output_type": "stream",
     "text": [
      "[I 2023-06-22 16:53:17,896] Trial 288 finished with value: 0.178803797872267 and parameters: {'boosting_type': 'goss', 'learning_rate': 0.26243259430435467, 'reg_alpha': 7.577457462356088e-07, 'reg_lambda': 0.0011849185524162615, 'max_depth': 6, 'num_leaves': 65, 'colsample_bytree': 0.37106903439476785, 'min_child_samples': 15, 'max_bin': 72, 'subsample_freq': 4}. Best is trial 244 with value: 0.15220364691183436.\n"
     ]
    },
    {
     "name": "stdout",
     "output_type": "stream",
     "text": [
      "Repeat \u001b[1m\u001b[34m#1\n"
     ]
    },
    {
     "name": "stderr",
     "output_type": "stream",
     "text": [
      "[I 2023-06-22 16:53:21,046] Trial 289 finished with value: 0.19558023822508025 and parameters: {'boosting_type': 'goss', 'learning_rate': 0.018517405372310912, 'reg_alpha': 7.94466529779385e-06, 'reg_lambda': 0.26633449594700015, 'max_depth': 5, 'num_leaves': 73, 'colsample_bytree': 0.4073928333862538, 'min_child_samples': 13, 'max_bin': 84, 'subsample_freq': 4}. Best is trial 244 with value: 0.15220364691183436.\n"
     ]
    },
    {
     "name": "stdout",
     "output_type": "stream",
     "text": [
      "Repeat \u001b[1m\u001b[34m#1\n"
     ]
    },
    {
     "name": "stderr",
     "output_type": "stream",
     "text": [
      "[I 2023-06-22 16:53:23,707] Trial 290 finished with value: 0.19101410619104467 and parameters: {'boosting_type': 'goss', 'learning_rate': 0.021395812413834172, 'reg_alpha': 2.640221825566406e-05, 'reg_lambda': 0.002266536093271557, 'max_depth': 5, 'num_leaves': 70, 'colsample_bytree': 0.39426577257321066, 'min_child_samples': 20, 'max_bin': 125, 'subsample_freq': 4}. Best is trial 244 with value: 0.15220364691183436.\n"
     ]
    },
    {
     "name": "stdout",
     "output_type": "stream",
     "text": [
      "Repeat \u001b[1m\u001b[34m#1\n"
     ]
    },
    {
     "name": "stderr",
     "output_type": "stream",
     "text": [
      "[I 2023-06-22 16:53:24,452] Trial 291 finished with value: 0.18331918985483223 and parameters: {'boosting_type': 'goss', 'learning_rate': 0.17143851451154601, 'reg_alpha': 8.1736271570304e-07, 'reg_lambda': 0.005633233920012327, 'max_depth': 5, 'num_leaves': 75, 'colsample_bytree': 0.3825780392170291, 'min_child_samples': 16, 'max_bin': 78, 'subsample_freq': 4}. Best is trial 244 with value: 0.15220364691183436.\n"
     ]
    },
    {
     "name": "stdout",
     "output_type": "stream",
     "text": [
      "Repeat \u001b[1m\u001b[34m#1\n"
     ]
    },
    {
     "name": "stderr",
     "output_type": "stream",
     "text": [
      "[I 2023-06-22 16:53:25,163] Trial 292 finished with value: 0.18331946427812104 and parameters: {'boosting_type': 'goss', 'learning_rate': 0.22559861822641772, 'reg_alpha': 0.0012933460937991769, 'reg_lambda': 0.01967658123490663, 'max_depth': 5, 'num_leaves': 68, 'colsample_bytree': 0.41842453067418256, 'min_child_samples': 18, 'max_bin': 74, 'subsample_freq': 5}. Best is trial 244 with value: 0.15220364691183436.\n"
     ]
    },
    {
     "name": "stdout",
     "output_type": "stream",
     "text": [
      "Repeat \u001b[1m\u001b[34m#1\n"
     ]
    },
    {
     "name": "stderr",
     "output_type": "stream",
     "text": [
      "[I 2023-06-22 16:53:26,293] Trial 293 finished with value: 0.25236832420397703 and parameters: {'boosting_type': 'gbdt', 'learning_rate': 0.07361017005693625, 'reg_alpha': 4.6782269407868796e-05, 'reg_lambda': 0.055919163023032264, 'max_depth': 6, 'num_leaves': 77, 'colsample_bytree': 0.5884641676115163, 'min_child_samples': 14, 'max_bin': 79, 'subsample_freq': 4, 'subsample': 0.39653142280372505}. Best is trial 244 with value: 0.15220364691183436.\n"
     ]
    },
    {
     "name": "stdout",
     "output_type": "stream",
     "text": [
      "Repeat \u001b[1m\u001b[34m#1\n"
     ]
    },
    {
     "name": "stderr",
     "output_type": "stream",
     "text": [
      "[I 2023-06-22 16:53:27,523] Trial 294 finished with value: 0.1998435198413755 and parameters: {'boosting_type': 'goss', 'learning_rate': 0.0659129186126738, 'reg_alpha': 1.3211356066712716e-05, 'reg_lambda': 0.0014100016432081004, 'max_depth': 5, 'num_leaves': 74, 'colsample_bytree': 0.40304720718786463, 'min_child_samples': 10, 'max_bin': 86, 'subsample_freq': 4}. Best is trial 244 with value: 0.15220364691183436.\n"
     ]
    },
    {
     "name": "stdout",
     "output_type": "stream",
     "text": [
      "Repeat \u001b[1m\u001b[34m#1\n"
     ]
    },
    {
     "name": "stderr",
     "output_type": "stream",
     "text": [
      "[I 2023-06-22 16:53:38,790] Trial 295 finished with value: 0.6955738427284259 and parameters: {'boosting_type': 'goss', 'learning_rate': 0.00010545251060848048, 'reg_alpha': 4.40323179086116e-06, 'reg_lambda': 0.0008958042645320675, 'max_depth': 5, 'num_leaves': 71, 'colsample_bytree': 0.3637832983773568, 'min_child_samples': 22, 'max_bin': 69, 'subsample_freq': 4}. Best is trial 244 with value: 0.15220364691183436.\n"
     ]
    },
    {
     "name": "stdout",
     "output_type": "stream",
     "text": [
      "Repeat \u001b[1m\u001b[34m#1\n"
     ]
    },
    {
     "name": "stderr",
     "output_type": "stream",
     "text": [
      "[I 2023-06-22 16:53:39,756] Trial 296 finished with value: 0.19602961343427877 and parameters: {'boosting_type': 'goss', 'learning_rate': 0.12062418163820084, 'reg_alpha': 1.8420547240241444e-05, 'reg_lambda': 1.5672553185168607e-05, 'max_depth': 5, 'num_leaves': 78, 'colsample_bytree': 0.3889898093455044, 'min_child_samples': 12, 'max_bin': 61, 'subsample_freq': 4}. Best is trial 244 with value: 0.15220364691183436.\n"
     ]
    },
    {
     "name": "stdout",
     "output_type": "stream",
     "text": [
      "Repeat \u001b[1m\u001b[34m#1\n"
     ]
    },
    {
     "name": "stderr",
     "output_type": "stream",
     "text": [
      "[I 2023-06-22 16:53:40,663] Trial 297 finished with value: 0.17695914991345962 and parameters: {'boosting_type': 'goss', 'learning_rate': 0.15045501286346402, 'reg_alpha': 7.757450620384586e-06, 'reg_lambda': 0.028849110027513954, 'max_depth': 5, 'num_leaves': 67, 'colsample_bytree': 0.4115892899965373, 'min_child_samples': 16, 'max_bin': 51, 'subsample_freq': 4}. Best is trial 244 with value: 0.15220364691183436.\n"
     ]
    },
    {
     "name": "stdout",
     "output_type": "stream",
     "text": [
      "Repeat \u001b[1m\u001b[34m#1\n"
     ]
    },
    {
     "name": "stderr",
     "output_type": "stream",
     "text": [
      "[I 2023-06-22 16:53:41,369] Trial 298 finished with value: 0.1817712685902601 and parameters: {'boosting_type': 'goss', 'learning_rate': 0.20045916508317785, 'reg_alpha': 1.3847216600371181e-06, 'reg_lambda': 0.002660691259123502, 'max_depth': 5, 'num_leaves': 74, 'colsample_bytree': 0.5475515462931453, 'min_child_samples': 18, 'max_bin': 32, 'subsample_freq': 4}. Best is trial 244 with value: 0.15220364691183436.\n"
     ]
    },
    {
     "name": "stdout",
     "output_type": "stream",
     "text": [
      "Repeat \u001b[1m\u001b[34m#1\n"
     ]
    },
    {
     "name": "stderr",
     "output_type": "stream",
     "text": [
      "[I 2023-06-22 16:53:41,972] Trial 299 finished with value: 0.2166704002457458 and parameters: {'boosting_type': 'goss', 'learning_rate': 0.2950958416035921, 'reg_alpha': 3.489454539560009e-06, 'reg_lambda': 4.2039922416968276e-05, 'max_depth': 6, 'num_leaves': 82, 'colsample_bytree': 0.440104689837189, 'min_child_samples': 15, 'max_bin': 76, 'subsample_freq': 1}. Best is trial 244 with value: 0.15220364691183436.\n"
     ]
    },
    {
     "name": "stdout",
     "output_type": "stream",
     "text": [
      "Repeat \u001b[1m\u001b[34m#1\n"
     ]
    },
    {
     "name": "stderr",
     "output_type": "stream",
     "text": [
      "[I 2023-06-22 16:53:43,804] Trial 300 finished with value: 0.18587897886851476 and parameters: {'boosting_type': 'goss', 'learning_rate': 0.04557782343592448, 'reg_alpha': 0.00022924539486973106, 'reg_lambda': 0.011004517545408708, 'max_depth': 5, 'num_leaves': 76, 'colsample_bytree': 0.42778219672752116, 'min_child_samples': 20, 'max_bin': 82, 'subsample_freq': 4}. Best is trial 244 with value: 0.15220364691183436.\n"
     ]
    },
    {
     "name": "stdout",
     "output_type": "stream",
     "text": [
      "Repeat \u001b[1m\u001b[34m#1\n"
     ]
    },
    {
     "name": "stderr",
     "output_type": "stream",
     "text": [
      "[I 2023-06-22 16:53:44,932] Trial 301 finished with value: 0.19860781454773954 and parameters: {'boosting_type': 'goss', 'learning_rate': 0.2348635406875082, 'reg_alpha': 5.560675150684934e-07, 'reg_lambda': 0.0038313744792033517, 'max_depth': 5, 'num_leaves': 71, 'colsample_bytree': 0.3964656421891378, 'min_child_samples': 12, 'max_bin': 71, 'subsample_freq': 4}. Best is trial 244 with value: 0.15220364691183436.\n"
     ]
    },
    {
     "name": "stdout",
     "output_type": "stream",
     "text": [
      "Repeat \u001b[1m\u001b[34m#1\n"
     ]
    },
    {
     "name": "stderr",
     "output_type": "stream",
     "text": [
      "[I 2023-06-22 16:53:46,098] Trial 302 finished with value: 0.18563320906492464 and parameters: {'boosting_type': 'goss', 'learning_rate': 0.1830249753927111, 'reg_alpha': 0.0006159061798873439, 'reg_lambda': 0.0006797047494999873, 'max_depth': 5, 'num_leaves': 79, 'colsample_bytree': 0.37485185323300585, 'min_child_samples': 17, 'max_bin': 65, 'subsample_freq': 4}. Best is trial 244 with value: 0.15220364691183436.\n"
     ]
    },
    {
     "name": "stdout",
     "output_type": "stream",
     "text": [
      "Repeat \u001b[1m\u001b[34m#1\n"
     ]
    },
    {
     "name": "stderr",
     "output_type": "stream",
     "text": [
      "[I 2023-06-22 16:53:55,285] Trial 303 finished with value: 0.18580309748895843 and parameters: {'boosting_type': 'goss', 'learning_rate': 0.14376638976348607, 'reg_alpha': 0.0008863535411380687, 'reg_lambda': 0.0063426361620704365, 'max_depth': 6, 'num_leaves': 90, 'colsample_bytree': 0.4554414847009328, 'min_child_samples': 14, 'max_bin': 74, 'subsample_freq': 4}. Best is trial 244 with value: 0.15220364691183436.\n"
     ]
    },
    {
     "name": "stdout",
     "output_type": "stream",
     "text": [
      "Repeat \u001b[1m\u001b[34m#1\n"
     ]
    },
    {
     "name": "stderr",
     "output_type": "stream",
     "text": [
      "[I 2023-06-22 16:53:57,424] Trial 304 finished with value: 0.2063857107780507 and parameters: {'boosting_type': 'goss', 'learning_rate': 0.19591776808060982, 'reg_alpha': 0.00778493898071988, 'reg_lambda': 0.0017544358690737402, 'max_depth': 5, 'num_leaves': 73, 'colsample_bytree': 0.4051503196947493, 'min_child_samples': 7, 'max_bin': 79, 'subsample_freq': 4}. Best is trial 244 with value: 0.15220364691183436.\n"
     ]
    },
    {
     "name": "stdout",
     "output_type": "stream",
     "text": [
      "Repeat \u001b[1m\u001b[34m#1\n"
     ]
    },
    {
     "name": "stderr",
     "output_type": "stream",
     "text": [
      "[I 2023-06-22 16:53:58,255] Trial 305 finished with value: 0.21834229169743263 and parameters: {'boosting_type': 'goss', 'learning_rate': 0.25833279071755244, 'reg_alpha': 0.0016384151340987805, 'reg_lambda': 0.0029481532926126206, 'max_depth': 5, 'num_leaves': 69, 'colsample_bytree': 0.4223884428227567, 'min_child_samples': 39, 'max_bin': 89, 'subsample_freq': 4}. Best is trial 244 with value: 0.15220364691183436.\n"
     ]
    },
    {
     "name": "stdout",
     "output_type": "stream",
     "text": [
      "Repeat \u001b[1m\u001b[34m#1\n"
     ]
    },
    {
     "name": "stderr",
     "output_type": "stream",
     "text": [
      "[I 2023-06-22 16:53:59,270] Trial 306 finished with value: 0.19633031431940243 and parameters: {'boosting_type': 'goss', 'learning_rate': 0.16698375973675894, 'reg_alpha': 2.2345471203544513e-06, 'reg_lambda': 0.001237585858119332, 'max_depth': 6, 'num_leaves': 85, 'colsample_bytree': 0.3503713232805808, 'min_child_samples': 10, 'max_bin': 69, 'subsample_freq': 4}. Best is trial 244 with value: 0.15220364691183436.\n"
     ]
    },
    {
     "name": "stdout",
     "output_type": "stream",
     "text": [
      "Repeat \u001b[1m\u001b[34m#1\n"
     ]
    },
    {
     "name": "stderr",
     "output_type": "stream",
     "text": [
      "[I 2023-06-22 16:54:07,135] Trial 307 finished with value: 0.19368242496126467 and parameters: {'boosting_type': 'goss', 'learning_rate': 0.009133558450067901, 'reg_alpha': 5.142265999737735e-06, 'reg_lambda': 7.570430186702234e-05, 'max_depth': 5, 'num_leaves': 76, 'colsample_bytree': 0.4138602162389819, 'min_child_samples': 16, 'max_bin': 82, 'subsample_freq': 4}. Best is trial 244 with value: 0.15220364691183436.\n"
     ]
    },
    {
     "name": "stdout",
     "output_type": "stream",
     "text": [
      "Repeat \u001b[1m\u001b[34m#1\n"
     ]
    },
    {
     "name": "stderr",
     "output_type": "stream",
     "text": [
      "[I 2023-06-22 16:54:08,145] Trial 308 finished with value: 0.18086096749812441 and parameters: {'boosting_type': 'goss', 'learning_rate': 0.2246610788280909, 'reg_alpha': 1.0470906830627131e-06, 'reg_lambda': 0.017326364615130135, 'max_depth': 5, 'num_leaves': 65, 'colsample_bytree': 0.3845421291762839, 'min_child_samples': 19, 'max_bin': 58, 'subsample_freq': 5}. Best is trial 244 with value: 0.15220364691183436.\n"
     ]
    },
    {
     "name": "stdout",
     "output_type": "stream",
     "text": [
      "Repeat \u001b[1m\u001b[34m#1\n"
     ]
    },
    {
     "name": "stderr",
     "output_type": "stream",
     "text": [
      "[I 2023-06-22 16:54:10,796] Trial 309 finished with value: 0.20260097836007795 and parameters: {'boosting_type': 'goss', 'learning_rate': 0.057883300178491, 'reg_alpha': 0.0027665629978523365, 'reg_lambda': 5.023758144917239, 'max_depth': 5, 'num_leaves': 73, 'colsample_bytree': 0.3966626482810181, 'min_child_samples': 13, 'max_bin': 76, 'subsample_freq': 4}. Best is trial 244 with value: 0.15220364691183436.\n"
     ]
    },
    {
     "name": "stdout",
     "output_type": "stream",
     "text": [
      "Repeat \u001b[1m\u001b[34m#1\n"
     ]
    },
    {
     "name": "stderr",
     "output_type": "stream",
     "text": [
      "[I 2023-06-22 16:54:11,791] Trial 310 finished with value: 0.18366632930808607 and parameters: {'boosting_type': 'goss', 'learning_rate': 0.10089231689249699, 'reg_alpha': 1.6644103818758485e-06, 'reg_lambda': 2.7072777900599605e-05, 'max_depth': 5, 'num_leaves': 82, 'colsample_bytree': 0.48261915474195816, 'min_child_samples': 21, 'max_bin': 94, 'subsample_freq': 4}. Best is trial 244 with value: 0.15220364691183436.\n"
     ]
    },
    {
     "name": "stdout",
     "output_type": "stream",
     "text": [
      "Repeat \u001b[1m\u001b[34m#1\n"
     ]
    },
    {
     "name": "stderr",
     "output_type": "stream",
     "text": [
      "[I 2023-06-22 16:54:12,832] Trial 311 finished with value: 0.20198389700412728 and parameters: {'boosting_type': 'goss', 'learning_rate': 0.11207812560897375, 'reg_alpha': 5.892114101995811e-07, 'reg_lambda': 0.15390163637193793, 'max_depth': 6, 'num_leaves': 76, 'colsample_bytree': 0.4077230282542986, 'min_child_samples': 15, 'max_bin': 163, 'subsample_freq': 4}. Best is trial 244 with value: 0.15220364691183436.\n"
     ]
    },
    {
     "name": "stdout",
     "output_type": "stream",
     "text": [
      "Repeat \u001b[1m\u001b[34m#1\n"
     ]
    },
    {
     "name": "stderr",
     "output_type": "stream",
     "text": [
      "[I 2023-06-22 16:54:13,569] Trial 312 finished with value: 0.24324883308374923 and parameters: {'boosting_type': 'gbdt', 'learning_rate': 0.19837594039661852, 'reg_alpha': 4.989560467649593e-05, 'reg_lambda': 2.4614967743412734e-06, 'max_depth': 5, 'num_leaves': 78, 'colsample_bytree': 0.3902615388184051, 'min_child_samples': 12, 'max_bin': 72, 'subsample_freq': 4, 'subsample': 0.5836077582898354}. Best is trial 244 with value: 0.15220364691183436.\n"
     ]
    },
    {
     "name": "stdout",
     "output_type": "stream",
     "text": [
      "Repeat \u001b[1m\u001b[34m#1\n"
     ]
    },
    {
     "name": "stderr",
     "output_type": "stream",
     "text": [
      "[I 2023-06-22 16:54:14,462] Trial 313 finished with value: 0.1861461374259623 and parameters: {'boosting_type': 'goss', 'learning_rate': 0.13526821712599463, 'reg_alpha': 9.963344347928428e-06, 'reg_lambda': 0.00011711830682395849, 'max_depth': 5, 'num_leaves': 70, 'colsample_bytree': 0.43390208450741935, 'min_child_samples': 17, 'max_bin': 65, 'subsample_freq': 4}. Best is trial 244 with value: 0.15220364691183436.\n"
     ]
    },
    {
     "name": "stdout",
     "output_type": "stream",
     "text": [
      "Repeat \u001b[1m\u001b[34m#1\n"
     ]
    },
    {
     "name": "stderr",
     "output_type": "stream",
     "text": [
      "[I 2023-06-22 16:54:15,319] Trial 314 finished with value: 0.19129371296713904 and parameters: {'boosting_type': 'goss', 'learning_rate': 0.2576782284653941, 'reg_alpha': 3.132567552197264e-07, 'reg_lambda': 1.170294167047241, 'max_depth': 5, 'num_leaves': 74, 'colsample_bytree': 0.36967192792390097, 'min_child_samples': 14, 'max_bin': 86, 'subsample_freq': 4}. Best is trial 244 with value: 0.15220364691183436.\n"
     ]
    },
    {
     "name": "stdout",
     "output_type": "stream",
     "text": [
      "Repeat \u001b[1m\u001b[34m#1\n"
     ]
    },
    {
     "name": "stderr",
     "output_type": "stream",
     "text": [
      "[I 2023-06-22 16:54:16,355] Trial 315 finished with value: 0.18158565120916056 and parameters: {'boosting_type': 'goss', 'learning_rate': 0.1647474549395066, 'reg_alpha': 3.3128002099894277e-06, 'reg_lambda': 2.3929059544977678, 'max_depth': 5, 'num_leaves': 67, 'colsample_bytree': 0.4006320260909945, 'min_child_samples': 19, 'max_bin': 78, 'subsample_freq': 4}. Best is trial 244 with value: 0.15220364691183436.\n"
     ]
    },
    {
     "name": "stdout",
     "output_type": "stream",
     "text": [
      "Repeat \u001b[1m\u001b[34m#1\n"
     ]
    },
    {
     "name": "stderr",
     "output_type": "stream",
     "text": [
      "[I 2023-06-22 16:54:18,201] Trial 316 finished with value: 0.1749865787961391 and parameters: {'boosting_type': 'goss', 'learning_rate': 0.21984368796789924, 'reg_alpha': 1.4773529255349537e-07, 'reg_lambda': 0.005000410168397699, 'max_depth': 4, 'num_leaves': 80, 'colsample_bytree': 0.35832971450916445, 'min_child_samples': 10, 'max_bin': 71, 'subsample_freq': 4}. Best is trial 244 with value: 0.15220364691183436.\n"
     ]
    },
    {
     "name": "stdout",
     "output_type": "stream",
     "text": [
      "Repeat \u001b[1m\u001b[34m#1\n"
     ]
    },
    {
     "name": "stderr",
     "output_type": "stream",
     "text": [
      "[I 2023-06-22 16:54:19,144] Trial 317 finished with value: 0.20277781243307524 and parameters: {'boosting_type': 'goss', 'learning_rate': 0.23439755340296917, 'reg_alpha': 1.355258643354638e-07, 'reg_lambda': 0.005122329763616862, 'max_depth': 7, 'num_leaves': 80, 'colsample_bytree': 0.37996550725890804, 'min_child_samples': 8, 'max_bin': 68, 'subsample_freq': 4}. Best is trial 244 with value: 0.15220364691183436.\n"
     ]
    },
    {
     "name": "stdout",
     "output_type": "stream",
     "text": [
      "Repeat \u001b[1m\u001b[34m#1\n"
     ]
    },
    {
     "name": "stderr",
     "output_type": "stream",
     "text": [
      "[I 2023-06-22 16:54:19,959] Trial 318 finished with value: 0.1898334248050612 and parameters: {'boosting_type': 'goss', 'learning_rate': 0.2725398022731236, 'reg_alpha': 1.1917173593471778e-06, 'reg_lambda': 0.010858705243952946, 'max_depth': 4, 'num_leaves': 82, 'colsample_bytree': 0.6391943001954232, 'min_child_samples': 9, 'max_bin': 61, 'subsample_freq': 4}. Best is trial 244 with value: 0.15220364691183436.\n"
     ]
    },
    {
     "name": "stdout",
     "output_type": "stream",
     "text": [
      "Repeat \u001b[1m\u001b[34m#1\n"
     ]
    },
    {
     "name": "stderr",
     "output_type": "stream",
     "text": [
      "[I 2023-06-22 16:54:25,175] Trial 319 finished with value: 0.19114608170335362 and parameters: {'boosting_type': 'goss', 'learning_rate': 0.014091223145044674, 'reg_alpha': 0.0011827427529444354, 'reg_lambda': 0.05497120583153403, 'max_depth': 4, 'num_leaves': 79, 'colsample_bytree': 0.42022006939412737, 'min_child_samples': 11, 'max_bin': 72, 'subsample_freq': 4}. Best is trial 244 with value: 0.15220364691183436.\n"
     ]
    },
    {
     "name": "stdout",
     "output_type": "stream",
     "text": [
      "Repeat \u001b[1m\u001b[34m#1\n"
     ]
    },
    {
     "name": "stderr",
     "output_type": "stream",
     "text": [
      "[I 2023-06-22 16:54:25,826] Trial 320 finished with value: 0.20963430869137184 and parameters: {'boosting_type': 'goss', 'learning_rate': 0.29719655810286805, 'reg_alpha': 0.010728086217218024, 'reg_lambda': 0.003947947941358843, 'max_depth': 4, 'num_leaves': 77, 'colsample_bytree': 0.41226042525506357, 'min_child_samples': 10, 'max_bin': 180, 'subsample_freq': 4}. Best is trial 244 with value: 0.15220364691183436.\n"
     ]
    },
    {
     "name": "stdout",
     "output_type": "stream",
     "text": [
      "Repeat \u001b[1m\u001b[34m#1\n"
     ]
    },
    {
     "name": "stderr",
     "output_type": "stream",
     "text": [
      "[I 2023-06-22 16:54:26,786] Trial 321 finished with value: 0.1983940906275301 and parameters: {'boosting_type': 'goss', 'learning_rate': 0.21756458249254865, 'reg_alpha': 0.0001704118675605515, 'reg_lambda': 0.0070172395631865215, 'max_depth': 4, 'num_leaves': 85, 'colsample_bytree': 0.3942795206238986, 'min_child_samples': 13, 'max_bin': 56, 'subsample_freq': 4}. Best is trial 244 with value: 0.15220364691183436.\n"
     ]
    },
    {
     "name": "stdout",
     "output_type": "stream",
     "text": [
      "Repeat \u001b[1m\u001b[34m#1\n"
     ]
    },
    {
     "name": "stderr",
     "output_type": "stream",
     "text": [
      "[I 2023-06-22 16:54:27,487] Trial 322 finished with value: 0.21850326912629806 and parameters: {'boosting_type': 'goss', 'learning_rate': 0.1972273702500911, 'reg_alpha': 0.00012989162680634696, 'reg_lambda': 2.2715746620497856e-07, 'max_depth': 4, 'num_leaves': 80, 'colsample_bytree': 0.3626400953757851, 'min_child_samples': 5, 'max_bin': 82, 'subsample_freq': 4}. Best is trial 244 with value: 0.15220364691183436.\n"
     ]
    },
    {
     "name": "stdout",
     "output_type": "stream",
     "text": [
      "Repeat \u001b[1m\u001b[34m#1\n"
     ]
    },
    {
     "name": "stderr",
     "output_type": "stream",
     "text": [
      "[I 2023-06-22 16:54:28,248] Trial 323 finished with value: 0.1916429318429254 and parameters: {'boosting_type': 'goss', 'learning_rate': 0.2373985323958355, 'reg_alpha': 8.278764303434753e-07, 'reg_lambda': 0.0026186200668091024, 'max_depth': 5, 'num_leaves': 75, 'colsample_bytree': 0.4286789955774088, 'min_child_samples': 15, 'max_bin': 65, 'subsample_freq': 4}. Best is trial 244 with value: 0.15220364691183436.\n"
     ]
    },
    {
     "name": "stdout",
     "output_type": "stream",
     "text": [
      "Repeat \u001b[1m\u001b[34m#1\n"
     ]
    },
    {
     "name": "stderr",
     "output_type": "stream",
     "text": [
      "[I 2023-06-22 16:54:34,996] Trial 324 finished with value: 0.18684037560055655 and parameters: {'boosting_type': 'goss', 'learning_rate': 0.016572077532376116, 'reg_alpha': 2.1889643106318993e-06, 'reg_lambda': 0.00909694690517351, 'max_depth': 5, 'num_leaves': 72, 'colsample_bytree': 0.4028961780243781, 'min_child_samples': 13, 'max_bin': 76, 'subsample_freq': 4}. Best is trial 244 with value: 0.15220364691183436.\n"
     ]
    },
    {
     "name": "stdout",
     "output_type": "stream",
     "text": [
      "Repeat \u001b[1m\u001b[34m#1\n"
     ]
    },
    {
     "name": "stderr",
     "output_type": "stream",
     "text": [
      "[I 2023-06-22 16:54:37,173] Trial 325 finished with value: 0.19681247522479905 and parameters: {'boosting_type': 'goss', 'learning_rate': 0.08414022035272174, 'reg_alpha': 5.311576948329826e-06, 'reg_lambda': 0.004822510988248097, 'max_depth': 5, 'num_leaves': 86, 'colsample_bytree': 0.3888795929788932, 'min_child_samples': 11, 'max_bin': 45, 'subsample_freq': 4}. Best is trial 244 with value: 0.15220364691183436.\n"
     ]
    },
    {
     "name": "stdout",
     "output_type": "stream",
     "text": [
      "Repeat \u001b[1m\u001b[34m#1\n"
     ]
    },
    {
     "name": "stderr",
     "output_type": "stream",
     "text": [
      "[I 2023-06-22 16:54:46,907] Trial 326 finished with value: 0.21237399472390509 and parameters: {'boosting_type': 'goss', 'learning_rate': 0.003573417357218557, 'reg_alpha': 1.4340917996161026e-05, 'reg_lambda': 0.001985848664397371, 'max_depth': 4, 'num_leaves': 77, 'colsample_bytree': 0.41506096502999984, 'min_child_samples': 17, 'max_bin': 70, 'subsample_freq': 4}. Best is trial 244 with value: 0.15220364691183436.\n"
     ]
    },
    {
     "name": "stdout",
     "output_type": "stream",
     "text": [
      "Repeat \u001b[1m\u001b[34m#1\n"
     ]
    },
    {
     "name": "stderr",
     "output_type": "stream",
     "text": [
      "[I 2023-06-22 16:54:47,724] Trial 327 finished with value: 0.26207912930349864 and parameters: {'boosting_type': 'goss', 'learning_rate': 0.16500463569489426, 'reg_alpha': 4.4123363588981837e-07, 'reg_lambda': 3.7148825781761996e-08, 'max_depth': 5, 'num_leaves': 82, 'colsample_bytree': 0.38130074074900094, 'min_child_samples': 63, 'max_bin': 79, 'subsample_freq': 5}. Best is trial 244 with value: 0.15220364691183436.\n"
     ]
    },
    {
     "name": "stdout",
     "output_type": "stream",
     "text": [
      "Repeat \u001b[1m\u001b[34m#1\n"
     ]
    },
    {
     "name": "stderr",
     "output_type": "stream",
     "text": [
      "[I 2023-06-22 16:54:48,504] Trial 328 finished with value: 0.19244472292981557 and parameters: {'boosting_type': 'goss', 'learning_rate': 0.19582408019414282, 'reg_alpha': 2.295999729594422e-05, 'reg_lambda': 0.0001427300006557282, 'max_depth': 5, 'num_leaves': 74, 'colsample_bytree': 0.39942828469547326, 'min_child_samples': 15, 'max_bin': 73, 'subsample_freq': 4}. Best is trial 244 with value: 0.15220364691183436.\n"
     ]
    },
    {
     "name": "stdout",
     "output_type": "stream",
     "text": [
      "Repeat \u001b[1m\u001b[34m#1\n"
     ]
    },
    {
     "name": "stderr",
     "output_type": "stream",
     "text": [
      "[I 2023-06-22 16:54:51,313] Trial 329 finished with value: 0.2125131433123456 and parameters: {'boosting_type': 'goss', 'learning_rate': 0.02506642362358768, 'reg_alpha': 2.9255310495789445e-06, 'reg_lambda': 6.496138558823577e-06, 'max_depth': 7, 'num_leaves': 79, 'colsample_bytree': 0.40969286721638376, 'min_child_samples': 8, 'max_bin': 86, 'subsample_freq': 4}. Best is trial 244 with value: 0.15220364691183436.\n"
     ]
    },
    {
     "name": "stdout",
     "output_type": "stream",
     "text": [
      "Repeat \u001b[1m\u001b[34m#1\n"
     ]
    },
    {
     "name": "stderr",
     "output_type": "stream",
     "text": [
      "[I 2023-06-22 16:54:52,259] Trial 330 finished with value: 0.21610588040231327 and parameters: {'boosting_type': 'goss', 'learning_rate': 0.29949031685993943, 'reg_alpha': 1.6049039814898756e-06, 'reg_lambda': 0.4174599474398728, 'max_depth': 5, 'num_leaves': 72, 'colsample_bytree': 0.37137181140828496, 'min_child_samples': 12, 'max_bin': 62, 'subsample_freq': 4}. Best is trial 244 with value: 0.15220364691183436.\n"
     ]
    },
    {
     "name": "stdout",
     "output_type": "stream",
     "text": [
      "Repeat \u001b[1m\u001b[34m#1\n"
     ]
    },
    {
     "name": "stderr",
     "output_type": "stream",
     "text": [
      "[I 2023-06-22 16:55:04,136] Trial 331 finished with value: 0.2928812814601404 and parameters: {'boosting_type': 'goss', 'learning_rate': 0.0009524170485579261, 'reg_alpha': 9.885000865583903e-08, 'reg_lambda': 2.090459717149572e-08, 'max_depth': 5, 'num_leaves': 76, 'colsample_bytree': 0.4237366718916621, 'min_child_samples': 17, 'max_bin': 67, 'subsample_freq': 4}. Best is trial 244 with value: 0.15220364691183436.\n"
     ]
    },
    {
     "name": "stdout",
     "output_type": "stream",
     "text": [
      "Repeat \u001b[1m\u001b[34m#1\n"
     ]
    },
    {
     "name": "stderr",
     "output_type": "stream",
     "text": [
      "[I 2023-06-22 16:55:04,851] Trial 332 finished with value: 0.26400188481653153 and parameters: {'boosting_type': 'gbdt', 'learning_rate': 0.13751944438668615, 'reg_alpha': 0.0001195665623791406, 'reg_lambda': 0.0033145439255553616, 'max_depth': 5, 'num_leaves': 84, 'colsample_bytree': 0.39460883245413, 'min_child_samples': 15, 'max_bin': 82, 'subsample_freq': 4, 'subsample': 0.3352238113582361}. Best is trial 244 with value: 0.15220364691183436.\n"
     ]
    },
    {
     "name": "stdout",
     "output_type": "stream",
     "text": [
      "Repeat \u001b[1m\u001b[34m#1\n"
     ]
    },
    {
     "name": "stderr",
     "output_type": "stream",
     "text": [
      "[I 2023-06-22 16:55:05,753] Trial 333 finished with value: 0.21692925850093808 and parameters: {'boosting_type': 'goss', 'learning_rate': 0.23003385489436134, 'reg_alpha': 0.0004140151732907037, 'reg_lambda': 0.006890806555577644, 'max_depth': 5, 'num_leaves': 71, 'colsample_bytree': 0.5633536627978573, 'min_child_samples': 10, 'max_bin': 75, 'subsample_freq': 2}. Best is trial 244 with value: 0.15220364691183436.\n"
     ]
    },
    {
     "name": "stdout",
     "output_type": "stream",
     "text": [
      "Repeat \u001b[1m\u001b[34m#1\n"
     ]
    },
    {
     "name": "stderr",
     "output_type": "stream",
     "text": [
      "[I 2023-06-22 16:55:06,685] Trial 334 finished with value: 0.19256262075892458 and parameters: {'boosting_type': 'goss', 'learning_rate': 0.17457042364123695, 'reg_alpha': 7.381776198036735e-06, 'reg_lambda': 1.3702648193670577e-08, 'max_depth': 5, 'num_leaves': 78, 'colsample_bytree': 0.40828257924687605, 'min_child_samples': 13, 'max_bin': 53, 'subsample_freq': 4}. Best is trial 244 with value: 0.15220364691183436.\n"
     ]
    },
    {
     "name": "stdout",
     "output_type": "stream",
     "text": [
      "Repeat \u001b[1m\u001b[34m#1\n"
     ]
    },
    {
     "name": "stderr",
     "output_type": "stream",
     "text": [
      "[I 2023-06-22 16:55:09,943] Trial 335 finished with value: 0.19636712897869557 and parameters: {'boosting_type': 'goss', 'learning_rate': 0.029023666418559076, 'reg_alpha': 2.1548177319443228e-07, 'reg_lambda': 0.0016933983560061866, 'max_depth': 5, 'num_leaves': 81, 'colsample_bytree': 0.35840019321598454, 'min_child_samples': 18, 'max_bin': 70, 'subsample_freq': 4}. Best is trial 244 with value: 0.15220364691183436.\n"
     ]
    },
    {
     "name": "stdout",
     "output_type": "stream",
     "text": [
      "Repeat \u001b[1m\u001b[34m#1\n"
     ]
    },
    {
     "name": "stderr",
     "output_type": "stream",
     "text": [
      "[I 2023-06-22 16:55:11,154] Trial 336 finished with value: 0.20551451308259389 and parameters: {'boosting_type': 'goss', 'learning_rate': 0.25745980730687235, 'reg_alpha': 6.918441053145195e-07, 'reg_lambda': 1.3490578213459807e-07, 'max_depth': 5, 'num_leaves': 88, 'colsample_bytree': 0.44177326208229867, 'min_child_samples': 15, 'max_bin': 78, 'subsample_freq': 4}. Best is trial 244 with value: 0.15220364691183436.\n"
     ]
    },
    {
     "name": "stdout",
     "output_type": "stream",
     "text": [
      "Repeat \u001b[1m\u001b[34m#1\n"
     ]
    },
    {
     "name": "stderr",
     "output_type": "stream",
     "text": [
      "[I 2023-06-22 16:55:12,224] Trial 337 finished with value: 0.19780847761719117 and parameters: {'boosting_type': 'goss', 'learning_rate': 0.15062294021108244, 'reg_alpha': 4.383628786859064e-06, 'reg_lambda': 0.015967315117724507, 'max_depth': 5, 'num_leaves': 74, 'colsample_bytree': 0.3823732447531242, 'min_child_samples': 17, 'max_bin': 73, 'subsample_freq': 4}. Best is trial 244 with value: 0.15220364691183436.\n"
     ]
    },
    {
     "name": "stdout",
     "output_type": "stream",
     "text": [
      "Repeat \u001b[1m\u001b[34m#1\n"
     ]
    },
    {
     "name": "stderr",
     "output_type": "stream",
     "text": [
      "[I 2023-06-22 16:55:13,917] Trial 338 finished with value: 0.20784684189747776 and parameters: {'boosting_type': 'goss', 'learning_rate': 0.21404023465935393, 'reg_alpha': 1.0964151779028944e-06, 'reg_lambda': 1.7757705255009126e-05, 'max_depth': 5, 'num_leaves': 70, 'colsample_bytree': 0.4031972979612219, 'min_child_samples': 12, 'max_bin': 91, 'subsample_freq': 4}. Best is trial 244 with value: 0.15220364691183436.\n"
     ]
    },
    {
     "name": "stdout",
     "output_type": "stream",
     "text": [
      "Repeat \u001b[1m\u001b[34m#1\n"
     ]
    },
    {
     "name": "stderr",
     "output_type": "stream",
     "text": [
      "[I 2023-06-22 16:55:16,350] Trial 339 finished with value: 0.16617598083795 and parameters: {'boosting_type': 'goss', 'learning_rate': 0.11572113931221507, 'reg_alpha': 0.0007135784258609469, 'reg_lambda': 0.0001967436316892779, 'max_depth': 5, 'num_leaves': 77, 'colsample_bytree': 0.4562743849157113, 'min_child_samples': 15, 'max_bin': 84, 'subsample_freq': 4}. Best is trial 244 with value: 0.15220364691183436.\n"
     ]
    },
    {
     "name": "stdout",
     "output_type": "stream",
     "text": [
      "Repeat \u001b[1m\u001b[34m#1\n"
     ]
    },
    {
     "name": "stderr",
     "output_type": "stream",
     "text": [
      "[I 2023-06-22 16:55:17,999] Trial 340 finished with value: 0.21523544205771666 and parameters: {'boosting_type': 'goss', 'learning_rate': 0.1287165655408704, 'reg_alpha': 0.001021848050682521, 'reg_lambda': 0.00023641524166632185, 'max_depth': 5, 'num_leaves': 75, 'colsample_bytree': 0.42935510960462303, 'min_child_samples': 19, 'max_bin': 88, 'subsample_freq': 4}. Best is trial 244 with value: 0.15220364691183436.\n"
     ]
    },
    {
     "name": "stdout",
     "output_type": "stream",
     "text": [
      "Repeat \u001b[1m\u001b[34m#1\n"
     ]
    },
    {
     "name": "stderr",
     "output_type": "stream",
     "text": [
      "[I 2023-06-22 16:55:20,810] Trial 341 finished with value: 0.18931856752494913 and parameters: {'boosting_type': 'goss', 'learning_rate': 0.12062739703708447, 'reg_alpha': 0.000698515536635698, 'reg_lambda': 0.00026966283082187706, 'max_depth': 5, 'num_leaves': 93, 'colsample_bytree': 0.4521652478436037, 'min_child_samples': 16, 'max_bin': 95, 'subsample_freq': 4}. Best is trial 244 with value: 0.15220364691183436.\n"
     ]
    },
    {
     "name": "stdout",
     "output_type": "stream",
     "text": [
      "Repeat \u001b[1m\u001b[34m#1\n"
     ]
    },
    {
     "name": "stderr",
     "output_type": "stream",
     "text": [
      "[I 2023-06-22 16:55:22,175] Trial 342 finished with value: 0.17592710022385424 and parameters: {'boosting_type': 'goss', 'learning_rate': 0.1553453281415796, 'reg_alpha': 0.0004698659919006141, 'reg_lambda': 0.00020809744646701188, 'max_depth': 5, 'num_leaves': 73, 'colsample_bytree': 0.4925669020642598, 'min_child_samples': 15, 'max_bin': 84, 'subsample_freq': 4}. Best is trial 244 with value: 0.15220364691183436.\n"
     ]
    },
    {
     "name": "stdout",
     "output_type": "stream",
     "text": [
      "Repeat \u001b[1m\u001b[34m#1\n"
     ]
    },
    {
     "name": "stderr",
     "output_type": "stream",
     "text": [
      "[I 2023-06-22 16:55:23,272] Trial 343 finished with value: 0.20240800066457904 and parameters: {'boosting_type': 'goss', 'learning_rate': 0.18257753474681895, 'reg_alpha': 0.0008338183136194228, 'reg_lambda': 9.72498993106668e-05, 'max_depth': 5, 'num_leaves': 76, 'colsample_bytree': 0.4385448292311686, 'min_child_samples': 14, 'max_bin': 81, 'subsample_freq': 4}. Best is trial 244 with value: 0.15220364691183436.\n"
     ]
    },
    {
     "name": "stdout",
     "output_type": "stream",
     "text": [
      "Repeat \u001b[1m\u001b[34m#1\n"
     ]
    },
    {
     "name": "stderr",
     "output_type": "stream",
     "text": [
      "[I 2023-06-22 16:55:28,772] Trial 344 finished with value: 0.19478019503746322 and parameters: {'boosting_type': 'goss', 'learning_rate': 0.10477895110810721, 'reg_alpha': 0.0019799081737020773, 'reg_lambda': 1.3417757625503235e-05, 'max_depth': 5, 'num_leaves': 4, 'colsample_bytree': 0.41828912232217974, 'min_child_samples': 17, 'max_bin': 86, 'subsample_freq': 5}. Best is trial 244 with value: 0.15220364691183436.\n"
     ]
    },
    {
     "name": "stdout",
     "output_type": "stream",
     "text": [
      "Repeat \u001b[1m\u001b[34m#1\n"
     ]
    },
    {
     "name": "stderr",
     "output_type": "stream",
     "text": [
      "[I 2023-06-22 16:55:29,720] Trial 345 finished with value: 0.19877992477350775 and parameters: {'boosting_type': 'goss', 'learning_rate': 0.14490076064929422, 'reg_alpha': 2.00019950976382e-06, 'reg_lambda': 0.0005981082096816153, 'max_depth': 5, 'num_leaves': 69, 'colsample_bytree': 0.4748973061726839, 'min_child_samples': 22, 'max_bin': 80, 'subsample_freq': 4}. Best is trial 244 with value: 0.15220364691183436.\n"
     ]
    },
    {
     "name": "stdout",
     "output_type": "stream",
     "text": [
      "Repeat \u001b[1m\u001b[34m#1\n"
     ]
    },
    {
     "name": "stderr",
     "output_type": "stream",
     "text": [
      "[I 2023-06-22 16:55:32,319] Trial 346 finished with value: 0.1941937630340211 and parameters: {'boosting_type': 'goss', 'learning_rate': 0.04514682513158265, 'reg_alpha': 3.8991625363192496e-07, 'reg_lambda': 0.00015051547120381597, 'max_depth': 5, 'num_leaves': 72, 'colsample_bytree': 0.4150401872380208, 'min_child_samples': 20, 'max_bin': 78, 'subsample_freq': 4}. Best is trial 244 with value: 0.15220364691183436.\n"
     ]
    },
    {
     "name": "stdout",
     "output_type": "stream",
     "text": [
      "Repeat \u001b[1m\u001b[34m#1\n"
     ]
    },
    {
     "name": "stderr",
     "output_type": "stream",
     "text": [
      "[I 2023-06-22 16:55:33,450] Trial 347 finished with value: 0.19491481004641445 and parameters: {'boosting_type': 'goss', 'learning_rate': 0.1847162843267784, 'reg_alpha': 3.449348958353234e-06, 'reg_lambda': 0.000411287200340289, 'max_depth': 5, 'num_leaves': 77, 'colsample_bytree': 0.4595236099527369, 'min_child_samples': 14, 'max_bin': 92, 'subsample_freq': 4}. Best is trial 244 with value: 0.15220364691183436.\n"
     ]
    },
    {
     "name": "stdout",
     "output_type": "stream",
     "text": [
      "Repeat \u001b[1m\u001b[34m#1\n"
     ]
    },
    {
     "name": "stderr",
     "output_type": "stream",
     "text": [
      "[I 2023-06-22 16:55:34,560] Trial 348 finished with value: 0.19470959328110438 and parameters: {'boosting_type': 'goss', 'learning_rate': 0.2592095341375162, 'reg_alpha': 1.1232876342822103e-05, 'reg_lambda': 0.03383473256899185, 'max_depth': 5, 'num_leaves': 17, 'colsample_bytree': 0.3977785553231938, 'min_child_samples': 18, 'max_bin': 76, 'subsample_freq': 4}. Best is trial 244 with value: 0.15220364691183436.\n"
     ]
    },
    {
     "name": "stdout",
     "output_type": "stream",
     "text": [
      "Repeat \u001b[1m\u001b[34m#1\n"
     ]
    },
    {
     "name": "stderr",
     "output_type": "stream",
     "text": [
      "[I 2023-06-22 16:55:41,021] Trial 349 finished with value: 0.1885189172652584 and parameters: {'boosting_type': 'goss', 'learning_rate': 0.011707041990712892, 'reg_alpha': 8.767057039759155e-07, 'reg_lambda': 6.80548632956336e-05, 'max_depth': 5, 'num_leaves': 74, 'colsample_bytree': 0.4382056968285029, 'min_child_samples': 13, 'max_bin': 63, 'subsample_freq': 4}. Best is trial 244 with value: 0.15220364691183436.\n"
     ]
    },
    {
     "name": "stdout",
     "output_type": "stream",
     "text": [
      "Repeat \u001b[1m\u001b[34m#1\n"
     ]
    },
    {
     "name": "stderr",
     "output_type": "stream",
     "text": [
      "[I 2023-06-22 16:55:50,598] Trial 350 finished with value: 0.1960855709472984 and parameters: {'boosting_type': 'goss', 'learning_rate': 0.00754368272563487, 'reg_alpha': 0.0014999928724015012, 'reg_lambda': 0.0024175409389630273, 'max_depth': 5, 'num_leaves': 78, 'colsample_bytree': 0.44934179784058526, 'min_child_samples': 16, 'max_bin': 83, 'subsample_freq': 4}. Best is trial 244 with value: 0.15220364691183436.\n"
     ]
    },
    {
     "name": "stdout",
     "output_type": "stream",
     "text": [
      "Repeat \u001b[1m\u001b[34m#1\n"
     ]
    },
    {
     "name": "stderr",
     "output_type": "stream",
     "text": [
      "[I 2023-06-22 16:55:52,255] Trial 351 finished with value: 0.24578744567728966 and parameters: {'boosting_type': 'gbdt', 'learning_rate': 0.07920447988946996, 'reg_alpha': 1.6858525830102066e-06, 'reg_lambda': 0.0009499432822058945, 'max_depth': 5, 'num_leaves': 71, 'colsample_bytree': 0.4247376485035767, 'min_child_samples': 18, 'max_bin': 68, 'subsample_freq': 4, 'subsample': 0.4311593058820219}. Best is trial 244 with value: 0.15220364691183436.\n"
     ]
    },
    {
     "name": "stdout",
     "output_type": "stream",
     "text": [
      "Repeat \u001b[1m\u001b[34m#1\n"
     ]
    },
    {
     "name": "stderr",
     "output_type": "stream",
     "text": [
      "[I 2023-06-22 16:55:54,606] Trial 352 finished with value: 0.1809508440204909 and parameters: {'boosting_type': 'goss', 'learning_rate': 0.2006417711274374, 'reg_alpha': 5.135084300940273e-07, 'reg_lambda': 0.7001334593856373, 'max_depth': 5, 'num_leaves': 69, 'colsample_bytree': 0.39019280707474385, 'min_child_samples': 14, 'max_bin': 88, 'subsample_freq': 4}. Best is trial 244 with value: 0.15220364691183436.\n"
     ]
    },
    {
     "name": "stdout",
     "output_type": "stream",
     "text": [
      "Repeat \u001b[1m\u001b[34m#1\n"
     ]
    },
    {
     "name": "stderr",
     "output_type": "stream",
     "text": [
      "[I 2023-06-22 16:55:56,093] Trial 353 finished with value: 0.1889436021152231 and parameters: {'boosting_type': 'goss', 'learning_rate': 0.11848699558725898, 'reg_alpha': 0.0032929482246086316, 'reg_lambda': 7.418042026299649e-07, 'max_depth': 5, 'num_leaves': 75, 'colsample_bytree': 0.40831226079354505, 'min_child_samples': 20, 'max_bin': 74, 'subsample_freq': 4}. Best is trial 244 with value: 0.15220364691183436.\n"
     ]
    },
    {
     "name": "stdout",
     "output_type": "stream",
     "text": [
      "Repeat \u001b[1m\u001b[34m#1\n"
     ]
    },
    {
     "name": "stderr",
     "output_type": "stream",
     "text": [
      "[I 2023-06-22 16:55:58,495] Trial 354 finished with value: 0.1913736398005803 and parameters: {'boosting_type': 'goss', 'learning_rate': 0.08833468962449463, 'reg_alpha': 2.5769416920147726e-06, 'reg_lambda': 0.26323317678188685, 'max_depth': 5, 'num_leaves': 73, 'colsample_bytree': 0.46714981316157345, 'min_child_samples': 16, 'max_bin': 57, 'subsample_freq': 1}. Best is trial 244 with value: 0.15220364691183436.\n"
     ]
    },
    {
     "name": "stdout",
     "output_type": "stream",
     "text": [
      "Repeat \u001b[1m\u001b[34m#1\n"
     ]
    },
    {
     "name": "stderr",
     "output_type": "stream",
     "text": [
      "[I 2023-06-22 16:56:02,522] Trial 355 finished with value: 0.19182352366861152 and parameters: {'boosting_type': 'goss', 'learning_rate': 0.03777243389576003, 'reg_alpha': 6.069975265407134e-06, 'reg_lambda': 0.0033337571701658464, 'max_depth': 5, 'num_leaves': 66, 'colsample_bytree': 0.4579311150455192, 'min_child_samples': 12, 'max_bin': 79, 'subsample_freq': 4}. Best is trial 244 with value: 0.15220364691183436.\n"
     ]
    },
    {
     "name": "stdout",
     "output_type": "stream",
     "text": [
      "Repeat \u001b[1m\u001b[34m#1\n"
     ]
    },
    {
     "name": "stderr",
     "output_type": "stream",
     "text": [
      "[I 2023-06-22 16:56:03,562] Trial 356 finished with value: 0.19540776156746947 and parameters: {'boosting_type': 'goss', 'learning_rate': 0.16607457626869696, 'reg_alpha': 1.1033649024248144e-06, 'reg_lambda': 3.302678550011763e-05, 'max_depth': 5, 'num_leaves': 78, 'colsample_bytree': 0.462967419392596, 'min_child_samples': 23, 'max_bin': 66, 'subsample_freq': 4}. Best is trial 244 with value: 0.15220364691183436.\n"
     ]
    },
    {
     "name": "stdout",
     "output_type": "stream",
     "text": [
      "Repeat \u001b[1m\u001b[34m#1\n"
     ]
    },
    {
     "name": "stderr",
     "output_type": "stream",
     "text": [
      "[I 2023-06-22 16:56:04,209] Trial 357 finished with value: 0.1937830156322836 and parameters: {'boosting_type': 'goss', 'learning_rate': 0.25849507962058405, 'reg_alpha': 4.166772654967374e-06, 'reg_lambda': 0.001526357595985265, 'max_depth': 5, 'num_leaves': 81, 'colsample_bytree': 0.40452966922525946, 'min_child_samples': 16, 'max_bin': 83, 'subsample_freq': 4}. Best is trial 244 with value: 0.15220364691183436.\n"
     ]
    },
    {
     "name": "stdout",
     "output_type": "stream",
     "text": [
      "Repeat \u001b[1m\u001b[34m#1\n"
     ]
    },
    {
     "name": "stderr",
     "output_type": "stream",
     "text": [
      "[I 2023-06-22 16:56:17,852] Trial 358 finished with value: 0.4574151511594913 and parameters: {'boosting_type': 'goss', 'learning_rate': 0.0003550990730824937, 'reg_alpha': 6.006144955114938e-07, 'reg_lambda': 8.83404773607906e-06, 'max_depth': 5, 'num_leaves': 76, 'colsample_bytree': 0.44452357286619554, 'min_child_samples': 14, 'max_bin': 73, 'subsample_freq': 4}. Best is trial 244 with value: 0.15220364691183436.\n"
     ]
    },
    {
     "name": "stdout",
     "output_type": "stream",
     "text": [
      "Repeat \u001b[1m\u001b[34m#1\n"
     ]
    },
    {
     "name": "stderr",
     "output_type": "stream",
     "text": [
      "[I 2023-06-22 16:56:18,634] Trial 359 finished with value: 0.17997125408570006 and parameters: {'boosting_type': 'goss', 'learning_rate': 0.21898063584656088, 'reg_alpha': 0.0002587666096165882, 'reg_lambda': 3.879298534561602e-06, 'max_depth': 5, 'num_leaves': 72, 'colsample_bytree': 0.41966390092821443, 'min_child_samples': 18, 'max_bin': 77, 'subsample_freq': 6}. Best is trial 244 with value: 0.15220364691183436.\n"
     ]
    },
    {
     "name": "stdout",
     "output_type": "stream",
     "text": [
      "Repeat \u001b[1m\u001b[34m#1\n"
     ]
    },
    {
     "name": "stderr",
     "output_type": "stream",
     "text": [
      "[I 2023-06-22 16:56:19,571] Trial 360 finished with value: 0.18813560806631516 and parameters: {'boosting_type': 'goss', 'learning_rate': 0.15035386041650367, 'reg_alpha': 1.734386074839542e-05, 'reg_lambda': 1.3527113632526807e-06, 'max_depth': 6, 'num_leaves': 69, 'colsample_bytree': 0.3886427078259574, 'min_child_samples': 11, 'max_bin': 71, 'subsample_freq': 5}. Best is trial 244 with value: 0.15220364691183436.\n"
     ]
    },
    {
     "name": "stdout",
     "output_type": "stream",
     "text": [
      "Repeat \u001b[1m\u001b[34m#1\n"
     ]
    },
    {
     "name": "stderr",
     "output_type": "stream",
     "text": [
      "[I 2023-06-22 16:56:22,193] Trial 361 finished with value: 0.19207080059169357 and parameters: {'boosting_type': 'goss', 'learning_rate': 0.022213747556984426, 'reg_alpha': 0.0005412420096417958, 'reg_lambda': 0.010678149470003933, 'max_depth': 5, 'num_leaves': 63, 'colsample_bytree': 0.3978449592129244, 'min_child_samples': 21, 'max_bin': 62, 'subsample_freq': 4}. Best is trial 244 with value: 0.15220364691183436.\n"
     ]
    },
    {
     "name": "stdout",
     "output_type": "stream",
     "text": [
      "Repeat \u001b[1m\u001b[34m#1\n"
     ]
    },
    {
     "name": "stderr",
     "output_type": "stream",
     "text": [
      "[I 2023-06-22 16:56:22,983] Trial 362 finished with value: 0.1805792833438093 and parameters: {'boosting_type': 'goss', 'learning_rate': 0.1854357640209736, 'reg_alpha': 2.897430782006997e-07, 'reg_lambda': 0.00235728090534351, 'max_depth': 5, 'num_leaves': 83, 'colsample_bytree': 0.4127027505877778, 'min_child_samples': 13, 'max_bin': 84, 'subsample_freq': 4}. Best is trial 244 with value: 0.15220364691183436.\n"
     ]
    },
    {
     "name": "stdout",
     "output_type": "stream",
     "text": [
      "Repeat \u001b[1m\u001b[34m#1\n"
     ]
    },
    {
     "name": "stderr",
     "output_type": "stream",
     "text": [
      "[I 2023-06-22 16:56:28,778] Trial 363 finished with value: 0.19828015541907731 and parameters: {'boosting_type': 'goss', 'learning_rate': 0.011946790356862342, 'reg_alpha': 1.3458515270333722e-06, 'reg_lambda': 4.9113171834411245e-05, 'max_depth': 5, 'num_leaves': 75, 'colsample_bytree': 0.4263545026275387, 'min_child_samples': 16, 'max_bin': 99, 'subsample_freq': 4}. Best is trial 244 with value: 0.15220364691183436.\n"
     ]
    },
    {
     "name": "stdout",
     "output_type": "stream",
     "text": [
      "Repeat \u001b[1m\u001b[34m#1\n"
     ]
    },
    {
     "name": "stderr",
     "output_type": "stream",
     "text": [
      "[I 2023-06-22 16:56:29,556] Trial 364 finished with value: 0.21722071949159 and parameters: {'boosting_type': 'goss', 'learning_rate': 0.26039317526700484, 'reg_alpha': 3.417506533968499e-05, 'reg_lambda': 0.0007186847157541812, 'max_depth': 5, 'num_leaves': 79, 'colsample_bytree': 0.43338448670569235, 'min_child_samples': 19, 'max_bin': 69, 'subsample_freq': 4}. Best is trial 244 with value: 0.15220364691183436.\n"
     ]
    },
    {
     "name": "stdout",
     "output_type": "stream",
     "text": [
      "Repeat \u001b[1m\u001b[34m#1\n"
     ]
    },
    {
     "name": "stderr",
     "output_type": "stream",
     "text": [
      "[I 2023-06-22 16:56:30,448] Trial 365 finished with value: 0.21529381293642405 and parameters: {'boosting_type': 'goss', 'learning_rate': 0.29868299117682323, 'reg_alpha': 2.6745154048389814e-06, 'reg_lambda': 1.6953970799407716, 'max_depth': 5, 'num_leaves': 72, 'colsample_bytree': 0.4031723146470541, 'min_child_samples': 14, 'max_bin': 50, 'subsample_freq': 4}. Best is trial 244 with value: 0.15220364691183436.\n"
     ]
    },
    {
     "name": "stdout",
     "output_type": "stream",
     "text": [
      "Repeat \u001b[1m\u001b[34m#1\n"
     ]
    },
    {
     "name": "stderr",
     "output_type": "stream",
     "text": [
      "[I 2023-06-22 16:56:31,278] Trial 366 finished with value: 0.19939374447184988 and parameters: {'boosting_type': 'goss', 'learning_rate': 0.21859744983045024, 'reg_alpha': 0.0011817724625435828, 'reg_lambda': 0.1295043295384087, 'max_depth': 5, 'num_leaves': 77, 'colsample_bytree': 0.3847676530151775, 'min_child_samples': 17, 'max_bin': 78, 'subsample_freq': 2}. Best is trial 244 with value: 0.15220364691183436.\n"
     ]
    },
    {
     "name": "stdout",
     "output_type": "stream",
     "text": [
      "Repeat \u001b[1m\u001b[34m#1\n"
     ]
    },
    {
     "name": "stderr",
     "output_type": "stream",
     "text": [
      "[I 2023-06-22 16:56:32,331] Trial 367 finished with value: 0.20908359011781513 and parameters: {'boosting_type': 'goss', 'learning_rate': 0.13690420658031657, 'reg_alpha': 7.509287426313516e-05, 'reg_lambda': 1.1517975450653153e-05, 'max_depth': 5, 'num_leaves': 74, 'colsample_bytree': 0.4910739760899414, 'min_child_samples': 12, 'max_bin': 90, 'subsample_freq': 3}. Best is trial 244 with value: 0.15220364691183436.\n"
     ]
    },
    {
     "name": "stdout",
     "output_type": "stream",
     "text": [
      "Repeat \u001b[1m\u001b[34m#1\n"
     ]
    },
    {
     "name": "stderr",
     "output_type": "stream",
     "text": [
      "[I 2023-06-22 16:56:33,467] Trial 368 finished with value: 0.2024628904967875 and parameters: {'boosting_type': 'goss', 'learning_rate': 0.17460894697040114, 'reg_alpha': 8.447740140503455e-06, 'reg_lambda': 0.0750375171003469, 'max_depth': 6, 'num_leaves': 67, 'colsample_bytree': 0.3945570510990628, 'min_child_samples': 9, 'max_bin': 74, 'subsample_freq': 4}. Best is trial 244 with value: 0.15220364691183436.\n"
     ]
    },
    {
     "name": "stdout",
     "output_type": "stream",
     "text": [
      "Repeat \u001b[1m\u001b[34m#1\n"
     ]
    },
    {
     "name": "stderr",
     "output_type": "stream",
     "text": [
      "[I 2023-06-22 16:56:34,226] Trial 369 finished with value: 0.1847130548631917 and parameters: {'boosting_type': 'goss', 'learning_rate': 0.2328591422374972, 'reg_alpha': 8.320278830123034e-07, 'reg_lambda': 0.005893272800287615, 'max_depth': 5, 'num_leaves': 70, 'colsample_bytree': 0.41038198501503514, 'min_child_samples': 15, 'max_bin': 67, 'subsample_freq': 3}. Best is trial 244 with value: 0.15220364691183436.\n"
     ]
    },
    {
     "name": "stdout",
     "output_type": "stream",
     "text": [
      "Repeat \u001b[1m\u001b[34m#1\n"
     ]
    },
    {
     "name": "stderr",
     "output_type": "stream",
     "text": [
      "[I 2023-06-22 16:56:34,944] Trial 370 finished with value: 0.2484994712935808 and parameters: {'boosting_type': 'gbdt', 'learning_rate': 0.19709114788604173, 'reg_alpha': 3.977005927383562e-07, 'reg_lambda': 0.0038919334508010065, 'max_depth': 5, 'num_leaves': 80, 'colsample_bytree': 0.4821733977409239, 'min_child_samples': 18, 'max_bin': 81, 'subsample_freq': 5, 'subsample': 0.5021156667715597}. Best is trial 244 with value: 0.15220364691183436.\n"
     ]
    },
    {
     "name": "stdout",
     "output_type": "stream",
     "text": [
      "Repeat \u001b[1m\u001b[34m#1\n"
     ]
    },
    {
     "name": "stderr",
     "output_type": "stream",
     "text": [
      "[I 2023-06-22 16:56:35,602] Trial 371 finished with value: 0.22680252492777933 and parameters: {'boosting_type': 'goss', 'learning_rate': 0.15652568424155308, 'reg_alpha': 1.8443078813810125e-06, 'reg_lambda': 0.0013324982651950973, 'max_depth': 5, 'num_leaves': 77, 'colsample_bytree': 0.3758232137195603, 'min_child_samples': 34, 'max_bin': 60, 'subsample_freq': 4}. Best is trial 244 with value: 0.15220364691183436.\n"
     ]
    },
    {
     "name": "stdout",
     "output_type": "stream",
     "text": [
      "Repeat \u001b[1m\u001b[34m#1\n"
     ]
    },
    {
     "name": "stderr",
     "output_type": "stream",
     "text": [
      "[I 2023-06-22 16:56:36,750] Trial 372 finished with value: 0.28898951818954755 and parameters: {'boosting_type': 'goss', 'learning_rate': 0.05804715108795881, 'reg_alpha': 0.03873322886176202, 'reg_lambda': 4.7448921789562884e-07, 'max_depth': 5, 'num_leaves': 74, 'colsample_bytree': 0.4663266629996887, 'min_child_samples': 72, 'max_bin': 76, 'subsample_freq': 4}. Best is trial 244 with value: 0.15220364691183436.\n"
     ]
    },
    {
     "name": "stdout",
     "output_type": "stream",
     "text": [
      "Repeat \u001b[1m\u001b[34m#1\n"
     ]
    },
    {
     "name": "stderr",
     "output_type": "stream",
     "text": [
      "[I 2023-06-22 16:56:37,794] Trial 373 finished with value: 0.18707604738143574 and parameters: {'boosting_type': 'goss', 'learning_rate': 0.10158018781197083, 'reg_alpha': 0.0002748649842939465, 'reg_lambda': 2.684080687364574e-05, 'max_depth': 7, 'num_leaves': 71, 'colsample_bytree': 0.4213303827368677, 'min_child_samples': 11, 'max_bin': 85, 'subsample_freq': 4}. Best is trial 244 with value: 0.15220364691183436.\n"
     ]
    },
    {
     "name": "stdout",
     "output_type": "stream",
     "text": [
      "Repeat \u001b[1m\u001b[34m#1\n"
     ]
    },
    {
     "name": "stderr",
     "output_type": "stream",
     "text": [
      "[I 2023-06-22 16:56:38,733] Trial 374 finished with value: 0.22083084154659005 and parameters: {'boosting_type': 'goss', 'learning_rate': 0.1208241376134885, 'reg_alpha': 5.399848212673053e-06, 'reg_lambda': 0.022711030137737745, 'max_depth': 5, 'num_leaves': 84, 'colsample_bytree': 0.40329844175454643, 'min_child_samples': 45, 'max_bin': 72, 'subsample_freq': 4}. Best is trial 244 with value: 0.15220364691183436.\n"
     ]
    },
    {
     "name": "stdout",
     "output_type": "stream",
     "text": [
      "Repeat \u001b[1m\u001b[34m#1\n"
     ]
    },
    {
     "name": "stderr",
     "output_type": "stream",
     "text": [
      "[I 2023-06-22 16:56:39,381] Trial 375 finished with value: 0.17904327882145 and parameters: {'boosting_type': 'goss', 'learning_rate': 0.2584811153638841, 'reg_alpha': 0.002194756106332038, 'reg_lambda': 7.4408117014933e-08, 'max_depth': 5, 'num_leaves': 88, 'colsample_bytree': 0.3915119426988831, 'min_child_samples': 20, 'max_bin': 65, 'subsample_freq': 4}. Best is trial 244 with value: 0.15220364691183436.\n"
     ]
    },
    {
     "name": "stdout",
     "output_type": "stream",
     "text": [
      "Repeat \u001b[1m\u001b[34m#1\n"
     ]
    },
    {
     "name": "stderr",
     "output_type": "stream",
     "text": [
      "[I 2023-06-22 16:56:40,076] Trial 376 finished with value: 0.178773002296446 and parameters: {'boosting_type': 'goss', 'learning_rate': 0.19329873140607212, 'reg_alpha': 1.082421833005053e-05, 'reg_lambda': 0.00879122342150643, 'max_depth': 6, 'num_leaves': 81, 'colsample_bytree': 0.41433843740494214, 'min_child_samples': 15, 'max_bin': 80, 'subsample_freq': 4}. Best is trial 244 with value: 0.15220364691183436.\n"
     ]
    },
    {
     "name": "stdout",
     "output_type": "stream",
     "text": [
      "Repeat \u001b[1m\u001b[34m#1\n"
     ]
    },
    {
     "name": "stderr",
     "output_type": "stream",
     "text": [
      "[I 2023-06-22 16:56:40,907] Trial 377 finished with value: 0.20355255709007009 and parameters: {'boosting_type': 'goss', 'learning_rate': 0.1600487928926538, 'reg_alpha': 6.115982075912534e-07, 'reg_lambda': 0.00047349840303528227, 'max_depth': 5, 'num_leaves': 76, 'colsample_bytree': 0.44814989043931525, 'min_child_samples': 13, 'max_bin': 70, 'subsample_freq': 4}. Best is trial 244 with value: 0.15220364691183436.\n"
     ]
    },
    {
     "name": "stdout",
     "output_type": "stream",
     "text": [
      "Repeat \u001b[1m\u001b[34m#1\n"
     ]
    },
    {
     "name": "stderr",
     "output_type": "stream",
     "text": [
      "[I 2023-06-22 16:56:48,319] Trial 378 finished with value: 0.22139712874416795 and parameters: {'boosting_type': 'goss', 'learning_rate': 0.003945597889406864, 'reg_alpha': 2.0129761938381017, 'reg_lambda': 3.769155045440482e-06, 'max_depth': 5, 'num_leaves': 68, 'colsample_bytree': 0.474870678215399, 'min_child_samples': 16, 'max_bin': 76, 'subsample_freq': 3}. Best is trial 244 with value: 0.15220364691183436.\n"
     ]
    },
    {
     "name": "stdout",
     "output_type": "stream",
     "text": [
      "Repeat \u001b[1m\u001b[34m#1\n"
     ]
    },
    {
     "name": "stderr",
     "output_type": "stream",
     "text": [
      "[I 2023-06-22 16:57:01,030] Trial 379 finished with value: 0.24289400466997874 and parameters: {'boosting_type': 'goss', 'learning_rate': 0.002164971504290799, 'reg_alpha': 0.0007420430670121691, 'reg_lambda': 1.9861530857056618e-05, 'max_depth': 5, 'num_leaves': 73, 'colsample_bytree': 0.3987964251840888, 'min_child_samples': 19, 'max_bin': 40, 'subsample_freq': 4}. Best is trial 244 with value: 0.15220364691183436.\n"
     ]
    },
    {
     "name": "stdout",
     "output_type": "stream",
     "text": [
      "Repeat \u001b[1m\u001b[34m#1\n"
     ]
    },
    {
     "name": "stderr",
     "output_type": "stream",
     "text": [
      "[I 2023-06-22 16:57:03,818] Trial 380 finished with value: 0.1933587145784193 and parameters: {'boosting_type': 'goss', 'learning_rate': 0.07158164292120385, 'reg_alpha': 1.3661220074925304e-06, 'reg_lambda': 1.8221802555680128e-06, 'max_depth': 6, 'num_leaves': 78, 'colsample_bytree': 0.38057118653895106, 'min_child_samples': 17, 'max_bin': 87, 'subsample_freq': 4}. Best is trial 244 with value: 0.15220364691183436.\n"
     ]
    },
    {
     "name": "stdout",
     "output_type": "stream",
     "text": [
      "Repeat \u001b[1m\u001b[34m#1\n"
     ]
    },
    {
     "name": "stderr",
     "output_type": "stream",
     "text": [
      "[I 2023-06-22 16:57:07,813] Trial 381 finished with value: 0.18279863011960154 and parameters: {'boosting_type': 'goss', 'learning_rate': 0.223974021822059, 'reg_alpha': 2.71898584386854e-07, 'reg_lambda': 0.002005003515299764, 'max_depth': 5, 'num_leaves': 75, 'colsample_bytree': 0.4064706245200131, 'min_child_samples': 14, 'max_bin': 56, 'subsample_freq': 4}. Best is trial 244 with value: 0.15220364691183436.\n"
     ]
    },
    {
     "name": "stdout",
     "output_type": "stream",
     "text": [
      "Repeat \u001b[1m\u001b[34m#1\n"
     ]
    },
    {
     "name": "stderr",
     "output_type": "stream",
     "text": [
      "[I 2023-06-22 16:57:10,240] Trial 382 finished with value: 0.22398444724076202 and parameters: {'boosting_type': 'goss', 'learning_rate': 0.14025689442900988, 'reg_alpha': 2.2751212056004154e-05, 'reg_lambda': 0.0031615257570293386, 'max_depth': 5, 'num_leaves': 71, 'colsample_bytree': 0.6073072237941157, 'min_child_samples': 7, 'max_bin': 80, 'subsample_freq': 4}. Best is trial 244 with value: 0.15220364691183436.\n"
     ]
    },
    {
     "name": "stdout",
     "output_type": "stream",
     "text": [
      "Repeat \u001b[1m\u001b[34m#1\n"
     ]
    },
    {
     "name": "stderr",
     "output_type": "stream",
     "text": [
      "[I 2023-06-22 16:57:13,202] Trial 383 finished with value: 0.18724295087951207 and parameters: {'boosting_type': 'goss', 'learning_rate': 0.18884107271104617, 'reg_alpha': 3.3015979847397716e-06, 'reg_lambda': 0.014229918209292218, 'max_depth': 5, 'num_leaves': 65, 'colsample_bytree': 0.4183280765795143, 'min_child_samples': 11, 'max_bin': 68, 'subsample_freq': 3}. Best is trial 244 with value: 0.15220364691183436.\n"
     ]
    },
    {
     "name": "stdout",
     "output_type": "stream",
     "text": [
      "Repeat \u001b[1m\u001b[34m#1\n"
     ]
    },
    {
     "name": "stderr",
     "output_type": "stream",
     "text": [
      "[I 2023-06-22 16:57:15,187] Trial 384 finished with value: 0.21195321804616915 and parameters: {'boosting_type': 'goss', 'learning_rate': 0.26943990398717826, 'reg_alpha': 8.352686331070782e-07, 'reg_lambda': 0.00016604825356214396, 'max_depth': 5, 'num_leaves': 8, 'colsample_bytree': 0.38791933001369433, 'min_child_samples': 24, 'max_bin': 73, 'subsample_freq': 4}. Best is trial 244 with value: 0.15220364691183436.\n"
     ]
    },
    {
     "name": "stdout",
     "output_type": "stream",
     "text": [
      "Repeat \u001b[1m\u001b[34m#1\n"
     ]
    },
    {
     "name": "stderr",
     "output_type": "stream",
     "text": [
      "[I 2023-06-22 16:57:16,856] Trial 385 finished with value: 0.15612103332220065 and parameters: {'boosting_type': 'goss', 'learning_rate': 0.2298699019821754, 'reg_alpha': 4.37985823093499e-05, 'reg_lambda': 0.000999899815743739, 'max_depth': 5, 'num_leaves': 78, 'colsample_bytree': 0.39724091427401675, 'min_child_samples': 21, 'max_bin': 94, 'subsample_freq': 4}. Best is trial 244 with value: 0.15220364691183436.\n"
     ]
    },
    {
     "name": "stdout",
     "output_type": "stream",
     "text": [
      "Repeat \u001b[1m\u001b[34m#1\n"
     ]
    },
    {
     "name": "stderr",
     "output_type": "stream",
     "text": [
      "[I 2023-06-22 16:57:18,763] Trial 386 finished with value: 0.19907741774916143 and parameters: {'boosting_type': 'goss', 'learning_rate': 0.29185107287211315, 'reg_alpha': 4.878206061461919e-05, 'reg_lambda': 0.0009724730578390018, 'max_depth': 5, 'num_leaves': 83, 'colsample_bytree': 0.3955115410686432, 'min_child_samples': 22, 'max_bin': 101, 'subsample_freq': 4}. Best is trial 244 with value: 0.15220364691183436.\n"
     ]
    },
    {
     "name": "stdout",
     "output_type": "stream",
     "text": [
      "Repeat \u001b[1m\u001b[34m#1\n"
     ]
    },
    {
     "name": "stderr",
     "output_type": "stream",
     "text": [
      "[I 2023-06-22 16:57:20,760] Trial 387 finished with value: 0.17853188362131933 and parameters: {'boosting_type': 'goss', 'learning_rate': 0.22655701467634298, 'reg_alpha': 2.083784016017594e-06, 'reg_lambda': 0.0007828389687766583, 'max_depth': 6, 'num_leaves': 80, 'colsample_bytree': 0.4327804192993813, 'min_child_samples': 21, 'max_bin': 93, 'subsample_freq': 4}. Best is trial 244 with value: 0.15220364691183436.\n"
     ]
    },
    {
     "name": "stdout",
     "output_type": "stream",
     "text": [
      "Repeat \u001b[1m\u001b[34m#1\n"
     ]
    },
    {
     "name": "stderr",
     "output_type": "stream",
     "text": [
      "[I 2023-06-22 16:57:22,595] Trial 388 finished with value: 0.20070772768138473 and parameters: {'boosting_type': 'goss', 'learning_rate': 0.2995379285437937, 'reg_alpha': 7.867191159466257e-05, 'reg_lambda': 0.00124743321782587, 'max_depth': 5, 'num_leaves': 79, 'colsample_bytree': 0.499172655292411, 'min_child_samples': 24, 'max_bin': 90, 'subsample_freq': 4}. Best is trial 244 with value: 0.15220364691183436.\n"
     ]
    },
    {
     "name": "stdout",
     "output_type": "stream",
     "text": [
      "Repeat \u001b[1m\u001b[34m#1\n"
     ]
    },
    {
     "name": "stderr",
     "output_type": "stream",
     "text": [
      "[I 2023-06-22 16:57:34,425] Trial 389 finished with value: 0.19314977565730876 and parameters: {'boosting_type': 'goss', 'learning_rate': 0.01054757985313024, 'reg_alpha': 0.0003867795902054118, 'reg_lambda': 0.0003708762089678031, 'max_depth': 5, 'num_leaves': 86, 'colsample_bytree': 0.3729559515039937, 'min_child_samples': 19, 'max_bin': 84, 'subsample_freq': 4}. Best is trial 244 with value: 0.15220364691183436.\n"
     ]
    },
    {
     "name": "stdout",
     "output_type": "stream",
     "text": [
      "Repeat \u001b[1m\u001b[34m#1\n"
     ]
    },
    {
     "name": "stderr",
     "output_type": "stream",
     "text": [
      "[I 2023-06-22 16:57:50,468] Trial 390 finished with value: 0.2322265680230167 and parameters: {'boosting_type': 'gbdt', 'learning_rate': 0.005611719459072439, 'reg_alpha': 2.0664985890636874e-05, 'reg_lambda': 0.0002900189038503458, 'max_depth': 5, 'num_leaves': 73, 'colsample_bytree': 0.38567776518679536, 'min_child_samples': 21, 'max_bin': 87, 'subsample_freq': 4, 'subsample': 0.6280851171659481}. Best is trial 244 with value: 0.15220364691183436.\n"
     ]
    },
    {
     "name": "stdout",
     "output_type": "stream",
     "text": [
      "Repeat \u001b[1m\u001b[34m#1\n"
     ]
    },
    {
     "name": "stderr",
     "output_type": "stream",
     "text": [
      "[I 2023-06-22 16:57:52,425] Trial 391 finished with value: 0.18189142999253066 and parameters: {'boosting_type': 'goss', 'learning_rate': 0.22891613649138495, 'reg_alpha': 3.494196635734828e-05, 'reg_lambda': 0.001732567122049776, 'max_depth': 5, 'num_leaves': 77, 'colsample_bytree': 0.39788711212466654, 'min_child_samples': 18, 'max_bin': 80, 'subsample_freq': 4}. Best is trial 244 with value: 0.15220364691183436.\n"
     ]
    },
    {
     "name": "stdout",
     "output_type": "stream",
     "text": [
      "Repeat \u001b[1m\u001b[34m#1\n"
     ]
    },
    {
     "name": "stderr",
     "output_type": "stream",
     "text": [
      "[I 2023-06-22 16:57:57,286] Trial 392 finished with value: 0.19335624694147013 and parameters: {'boosting_type': 'goss', 'learning_rate': 0.04063875989539373, 'reg_alpha': 4.945390921898758e-07, 'reg_lambda': 1.1920917638606094e-05, 'max_depth': 5, 'num_leaves': 69, 'colsample_bytree': 0.4101915136095938, 'min_child_samples': 17, 'max_bin': 92, 'subsample_freq': 4}. Best is trial 244 with value: 0.15220364691183436.\n"
     ]
    },
    {
     "name": "stdout",
     "output_type": "stream",
     "text": [
      "Repeat \u001b[1m\u001b[34m#1\n"
     ]
    },
    {
     "name": "stderr",
     "output_type": "stream",
     "text": [
      "[I 2023-06-22 16:57:59,470] Trial 393 finished with value: 0.1887029593118124 and parameters: {'boosting_type': 'goss', 'learning_rate': 0.2012241833277621, 'reg_alpha': 0.001031286066529307, 'reg_lambda': 0.9851674642061747, 'max_depth': 5, 'num_leaves': 82, 'colsample_bytree': 0.38035231313467754, 'min_child_samples': 20, 'max_bin': 97, 'subsample_freq': 4}. Best is trial 244 with value: 0.15220364691183436.\n"
     ]
    },
    {
     "name": "stdout",
     "output_type": "stream",
     "text": [
      "Repeat \u001b[1m\u001b[34m#1\n"
     ]
    },
    {
     "name": "stderr",
     "output_type": "stream",
     "text": [
      "[I 2023-06-22 16:58:01,444] Trial 394 finished with value: 0.18131747037290524 and parameters: {'boosting_type': 'goss', 'learning_rate': 0.2487470366474087, 'reg_alpha': 1.1585495439303258e-06, 'reg_lambda': 0.0058195271994592145, 'max_depth': 5, 'num_leaves': 74, 'colsample_bytree': 0.455019894329609, 'min_child_samples': 16, 'max_bin': 77, 'subsample_freq': 4}. Best is trial 244 with value: 0.15220364691183436.\n"
     ]
    },
    {
     "name": "stdout",
     "output_type": "stream",
     "text": [
      "Repeat \u001b[1m\u001b[34m#1\n"
     ]
    },
    {
     "name": "stderr",
     "output_type": "stream",
     "text": [
      "[I 2023-06-22 16:58:03,573] Trial 395 finished with value: 0.1933993143228158 and parameters: {'boosting_type': 'goss', 'learning_rate': 0.1734682614259767, 'reg_alpha': 1.579321817964526e-05, 'reg_lambda': 0.0004965410132061809, 'max_depth': 6, 'num_leaves': 79, 'colsample_bytree': 0.42707617786670743, 'min_child_samples': 22, 'max_bin': 118, 'subsample_freq': 4}. Best is trial 244 with value: 0.15220364691183436.\n"
     ]
    },
    {
     "name": "stdout",
     "output_type": "stream",
     "text": [
      "Repeat \u001b[1m\u001b[34m#1\n"
     ]
    },
    {
     "name": "stderr",
     "output_type": "stream",
     "text": [
      "[I 2023-06-22 16:58:08,947] Trial 396 finished with value: 0.19972073715765354 and parameters: {'boosting_type': 'goss', 'learning_rate': 0.06446486569216253, 'reg_alpha': 2.0877990478167897e-07, 'reg_lambda': 0.03494567995783581, 'max_depth': 5, 'num_leaves': 71, 'colsample_bytree': 0.3927634842418256, 'min_child_samples': 18, 'max_bin': 84, 'subsample_freq': 3}. Best is trial 244 with value: 0.15220364691183436.\n"
     ]
    },
    {
     "name": "stdout",
     "output_type": "stream",
     "text": [
      "Repeat \u001b[1m\u001b[34m#1\n"
     ]
    },
    {
     "name": "stderr",
     "output_type": "stream",
     "text": [
      "[I 2023-06-22 16:58:11,115] Trial 397 finished with value: 0.18086211948823416 and parameters: {'boosting_type': 'goss', 'learning_rate': 0.20980113490502383, 'reg_alpha': 0.0001954251446942547, 'reg_lambda': 0.0021699334022153025, 'max_depth': 5, 'num_leaves': 75, 'colsample_bytree': 0.41411502447301574, 'min_child_samples': 13, 'max_bin': 88, 'subsample_freq': 4}. Best is trial 244 with value: 0.15220364691183436.\n"
     ]
    },
    {
     "name": "stdout",
     "output_type": "stream",
     "text": [
      "Repeat \u001b[1m\u001b[34m#1\n"
     ]
    },
    {
     "name": "stderr",
     "output_type": "stream",
     "text": [
      "[I 2023-06-22 16:58:18,341] Trial 398 finished with value: 0.1894403658576886 and parameters: {'boosting_type': 'goss', 'learning_rate': 0.025608979459075618, 'reg_alpha': 0.0029760363991224005, 'reg_lambda': 0.000737760333286015, 'max_depth': 5, 'num_leaves': 67, 'colsample_bytree': 0.4022209293987943, 'min_child_samples': 15, 'max_bin': 82, 'subsample_freq': 4}. Best is trial 244 with value: 0.15220364691183436.\n"
     ]
    },
    {
     "name": "stdout",
     "output_type": "stream",
     "text": [
      "Repeat \u001b[1m\u001b[34m#1\n"
     ]
    },
    {
     "name": "stderr",
     "output_type": "stream",
     "text": [
      "[I 2023-06-22 16:58:22,337] Trial 399 finished with value: 0.1967544393925465 and parameters: {'boosting_type': 'goss', 'learning_rate': 0.09238776187891665, 'reg_alpha': 7.561430755404603e-07, 'reg_lambda': 0.28123219279451356, 'max_depth': 5, 'num_leaves': 72, 'colsample_bytree': 0.3689330146113457, 'min_child_samples': 12, 'max_bin': 77, 'subsample_freq': 4}. Best is trial 244 with value: 0.15220364691183436.\n"
     ]
    },
    {
     "name": "stdout",
     "output_type": "stream",
     "text": [
      "Repeat \u001b[1m\u001b[34m#1\n"
     ]
    },
    {
     "name": "stderr",
     "output_type": "stream",
     "text": [
      "[I 2023-06-22 16:58:24,119] Trial 400 finished with value: 0.20292287562840067 and parameters: {'boosting_type': 'goss', 'learning_rate': 0.2464891243406025, 'reg_alpha': 2.9419839993040895e-06, 'reg_lambda': 0.004705662987665268, 'max_depth': 5, 'num_leaves': 78, 'colsample_bytree': 0.4388712051447975, 'min_child_samples': 9, 'max_bin': 74, 'subsample_freq': 4}. Best is trial 244 with value: 0.15220364691183436.\n"
     ]
    },
    {
     "name": "stdout",
     "output_type": "stream",
     "text": [
      "Repeat \u001b[1m\u001b[34m#1\n"
     ]
    },
    {
     "name": "stderr",
     "output_type": "stream",
     "text": [
      "[I 2023-06-22 16:58:43,849] Trial 401 finished with value: 0.21604845230621908 and parameters: {'boosting_type': 'goss', 'learning_rate': 0.0028942058241714285, 'reg_alpha': 0.00010783045150974122, 'reg_lambda': 8.23377922635535e-05, 'max_depth': 6, 'num_leaves': 76, 'colsample_bytree': 0.4193765028737578, 'min_child_samples': 16, 'max_bin': 65, 'subsample_freq': 4}. Best is trial 244 with value: 0.15220364691183436.\n"
     ]
    },
    {
     "name": "stdout",
     "output_type": "stream",
     "text": [
      "Repeat \u001b[1m\u001b[34m#1\n"
     ]
    },
    {
     "name": "stderr",
     "output_type": "stream",
     "text": [
      "[I 2023-06-22 16:58:58,397] Trial 402 finished with value: 0.2070451707814716 and parameters: {'boosting_type': 'goss', 'learning_rate': 0.015807236615204317, 'reg_alpha': 4.7150372370702555e-06, 'reg_lambda': 5.78002948460528, 'max_depth': 5, 'num_leaves': 124, 'colsample_bytree': 0.3878396080389605, 'min_child_samples': 19, 'max_bin': 81, 'subsample_freq': 4}. Best is trial 244 with value: 0.15220364691183436.\n"
     ]
    },
    {
     "name": "stdout",
     "output_type": "stream",
     "text": [
      "Repeat \u001b[1m\u001b[34m#1\n"
     ]
    },
    {
     "name": "stderr",
     "output_type": "stream",
     "text": [
      "[I 2023-06-22 16:59:14,625] Trial 403 finished with value: 0.20082302505850852 and parameters: {'boosting_type': 'goss', 'learning_rate': 0.008762758334714758, 'reg_alpha': 0.0014118125505893054, 'reg_lambda': 0.46964570803696404, 'max_depth': 7, 'num_leaves': 63, 'colsample_bytree': 0.406176421341849, 'min_child_samples': 14, 'max_bin': 61, 'subsample_freq': 3}. Best is trial 244 with value: 0.15220364691183436.\n"
     ]
    },
    {
     "name": "stdout",
     "output_type": "stream",
     "text": [
      "Repeat \u001b[1m\u001b[34m#1\n"
     ]
    },
    {
     "name": "stderr",
     "output_type": "stream",
     "text": [
      "[I 2023-06-22 16:59:17,487] Trial 404 finished with value: 0.18730030952712545 and parameters: {'boosting_type': 'goss', 'learning_rate': 0.13693918156631832, 'reg_alpha': 3.6191785262483486e-07, 'reg_lambda': 4.05041097400749e-07, 'max_depth': 5, 'num_leaves': 81, 'colsample_bytree': 0.3970354116638227, 'min_child_samples': 18, 'max_bin': 74, 'subsample_freq': 4}. Best is trial 244 with value: 0.15220364691183436.\n"
     ]
    },
    {
     "name": "stdout",
     "output_type": "stream",
     "text": [
      "Repeat \u001b[1m\u001b[34m#1\n"
     ]
    },
    {
     "name": "stderr",
     "output_type": "stream",
     "text": [
      "[I 2023-06-22 16:59:23,553] Trial 405 finished with value: 0.19629751406241736 and parameters: {'boosting_type': 'goss', 'learning_rate': 0.032291881015929114, 'reg_alpha': 1.3969635267524289e-06, 'reg_lambda': 0.04672905412848641, 'max_depth': 5, 'num_leaves': 69, 'colsample_bytree': 0.6893521268975804, 'min_child_samples': 16, 'max_bin': 87, 'subsample_freq': 4}. Best is trial 244 with value: 0.15220364691183436.\n"
     ]
    },
    {
     "name": "stdout",
     "output_type": "stream",
     "text": [
      "Repeat \u001b[1m\u001b[34m#1\n"
     ]
    },
    {
     "name": "stderr",
     "output_type": "stream",
     "text": [
      "[I 2023-06-22 16:59:25,957] Trial 406 finished with value: 0.21290968505012892 and parameters: {'boosting_type': 'goss', 'learning_rate': 0.16962654047697764, 'reg_alpha': 6.865358549863489e-06, 'reg_lambda': 0.00799188189397535, 'max_depth': 5, 'num_leaves': 73, 'colsample_bytree': 0.3423595238429622, 'min_child_samples': 11, 'max_bin': 94, 'subsample_freq': 3}. Best is trial 244 with value: 0.15220364691183436.\n"
     ]
    },
    {
     "name": "stdout",
     "output_type": "stream",
     "text": [
      "Repeat \u001b[1m\u001b[34m#1\n"
     ]
    },
    {
     "name": "stderr",
     "output_type": "stream",
     "text": [
      "[I 2023-06-22 16:59:29,085] Trial 407 finished with value: 0.18730331785794355 and parameters: {'boosting_type': 'goss', 'learning_rate': 0.2009630394190345, 'reg_alpha': 2.1373315735839758e-06, 'reg_lambda': 2.641383063061376, 'max_depth': 5, 'num_leaves': 116, 'colsample_bytree': 0.5385414343051054, 'min_child_samples': 21, 'max_bin': 136, 'subsample_freq': 4}. Best is trial 244 with value: 0.15220364691183436.\n"
     ]
    },
    {
     "name": "stdout",
     "output_type": "stream",
     "text": [
      "Repeat \u001b[1m\u001b[34m#1\n"
     ]
    },
    {
     "name": "stderr",
     "output_type": "stream",
     "text": [
      "[I 2023-06-22 17:00:09,540] Trial 408 finished with value: 0.2715313793989872 and parameters: {'boosting_type': 'goss', 'learning_rate': 0.0011654155321284558, 'reg_alpha': 5.814864390398087e-07, 'reg_lambda': 0.0015608631224707258, 'max_depth': 5, 'num_leaves': 77, 'colsample_bytree': 0.5079415007473326, 'min_child_samples': 14, 'max_bin': 189, 'subsample_freq': 4}. Best is trial 244 with value: 0.15220364691183436.\n"
     ]
    },
    {
     "name": "stdout",
     "output_type": "stream",
     "text": [
      "Repeat \u001b[1m\u001b[34m#1\n"
     ]
    },
    {
     "name": "stderr",
     "output_type": "stream",
     "text": [
      "[I 2023-06-22 17:00:12,564] Trial 409 finished with value: 0.2630532240223638 and parameters: {'boosting_type': 'gbdt', 'learning_rate': 0.11457564317813601, 'reg_alpha': 0.004132142878702581, 'reg_lambda': 0.0026587076639154367, 'max_depth': 6, 'num_leaves': 74, 'colsample_bytree': 0.4142170824025621, 'min_child_samples': 17, 'max_bin': 48, 'subsample_freq': 4, 'subsample': 0.5612000234144429}. Best is trial 244 with value: 0.15220364691183436.\n"
     ]
    },
    {
     "name": "stdout",
     "output_type": "stream",
     "text": [
      "Repeat \u001b[1m\u001b[34m#1\n"
     ]
    },
    {
     "name": "stderr",
     "output_type": "stream",
     "text": [
      "[I 2023-06-22 17:00:37,641] Trial 410 finished with value: 0.2122037472453855 and parameters: {'boosting_type': 'goss', 'learning_rate': 0.007997917342899969, 'reg_alpha': 0.0018623484942591906, 'reg_lambda': 7.7162822683961, 'max_depth': 5, 'num_leaves': 84, 'colsample_bytree': 0.3793392566967463, 'min_child_samples': 13, 'max_bin': 130, 'subsample_freq': 4}. Best is trial 244 with value: 0.15220364691183436.\n"
     ]
    },
    {
     "name": "stdout",
     "output_type": "stream",
     "text": [
      "Repeat \u001b[1m\u001b[34m#1\n"
     ]
    },
    {
     "name": "stderr",
     "output_type": "stream",
     "text": [
      "[I 2023-06-22 17:00:40,411] Trial 411 finished with value: 0.19838290570763095 and parameters: {'boosting_type': 'goss', 'learning_rate': 0.258405313719778, 'reg_alpha': 1.0587633441499311e-06, 'reg_lambda': 0.0010004816304456231, 'max_depth': 8, 'num_leaves': 71, 'colsample_bytree': 0.4245624953018139, 'min_child_samples': 19, 'max_bin': 78, 'subsample_freq': 4}. Best is trial 244 with value: 0.15220364691183436.\n"
     ]
    },
    {
     "name": "stdout",
     "output_type": "stream",
     "text": [
      "Repeat \u001b[1m\u001b[34m#1\n"
     ]
    },
    {
     "name": "stderr",
     "output_type": "stream",
     "text": [
      "[I 2023-06-22 17:00:42,582] Trial 412 finished with value: 0.24611423855887873 and parameters: {'boosting_type': 'goss', 'learning_rate': 0.2950092064580575, 'reg_alpha': 8.211315920994495e-08, 'reg_lambda': 5.7034495609682125e-06, 'max_depth': 5, 'num_leaves': 78, 'colsample_bytree': 0.40670094310127514, 'min_child_samples': 59, 'max_bin': 153, 'subsample_freq': 4}. Best is trial 244 with value: 0.15220364691183436.\n"
     ]
    },
    {
     "name": "stdout",
     "output_type": "stream",
     "text": [
      "Repeat \u001b[1m\u001b[34m#1\n"
     ]
    },
    {
     "name": "stderr",
     "output_type": "stream",
     "text": [
      "[I 2023-06-22 17:01:05,867] Trial 413 finished with value: 0.19868014085064314 and parameters: {'boosting_type': 'goss', 'learning_rate': 0.006079586726365459, 'reg_alpha': 5.640413788263724e-05, 'reg_lambda': 1.7996708349649937e-07, 'max_depth': 5, 'num_leaves': 81, 'colsample_bytree': 0.4627644481524699, 'min_child_samples': 15, 'max_bin': 113, 'subsample_freq': 3}. Best is trial 244 with value: 0.15220364691183436.\n"
     ]
    },
    {
     "name": "stdout",
     "output_type": "stream",
     "text": [
      "Repeat \u001b[1m\u001b[34m#1\n"
     ]
    },
    {
     "name": "stderr",
     "output_type": "stream",
     "text": [
      "[I 2023-06-22 17:01:08,504] Trial 414 finished with value: 0.18418696153668465 and parameters: {'boosting_type': 'goss', 'learning_rate': 0.15458521887772725, 'reg_alpha': 0.0006628390706535763, 'reg_lambda': 5.640450949573379e-05, 'max_depth': 5, 'num_leaves': 66, 'colsample_bytree': 0.390556252683815, 'min_child_samples': 23, 'max_bin': 69, 'subsample_freq': 4}. Best is trial 244 with value: 0.15220364691183436.\n"
     ]
    },
    {
     "name": "stdout",
     "output_type": "stream",
     "text": [
      "Repeat \u001b[1m\u001b[34m#1\n"
     ]
    },
    {
     "name": "stderr",
     "output_type": "stream",
     "text": [
      "[I 2023-06-22 17:01:32,935] Trial 415 finished with value: 0.35116983413671815 and parameters: {'boosting_type': 'goss', 'learning_rate': 0.0025980395025888264, 'reg_alpha': 2.9959456301654107e-05, 'reg_lambda': 0.004319774937964848, 'max_depth': 6, 'num_leaves': 75, 'colsample_bytree': 0.4000696923792269, 'min_child_samples': 76, 'max_bin': 84, 'subsample_freq': 4}. Best is trial 244 with value: 0.15220364691183436.\n"
     ]
    },
    {
     "name": "stdout",
     "output_type": "stream",
     "text": [
      "Repeat \u001b[1m\u001b[34m#1\n"
     ]
    },
    {
     "name": "stderr",
     "output_type": "stream",
     "text": [
      "[I 2023-06-22 17:01:36,258] Trial 416 finished with value: 0.192318552928453 and parameters: {'boosting_type': 'goss', 'learning_rate': 0.22138476336674529, 'reg_alpha': 3.156792210450846e-07, 'reg_lambda': 0.012101065966728716, 'max_depth': 5, 'num_leaves': 70, 'colsample_bytree': 0.41143614361899505, 'min_child_samples': 11, 'max_bin': 74, 'subsample_freq': 4}. Best is trial 244 with value: 0.15220364691183436.\n"
     ]
    },
    {
     "name": "stdout",
     "output_type": "stream",
     "text": [
      "Repeat \u001b[1m\u001b[34m#1\n"
     ]
    },
    {
     "name": "stderr",
     "output_type": "stream",
     "text": [
      "[I 2023-06-22 17:02:16,597] Trial 417 finished with value: 0.2439122983244208 and parameters: {'boosting_type': 'goss', 'learning_rate': 0.001558946783680633, 'reg_alpha': 1.6385260050042242e-07, 'reg_lambda': 8.73732123075827e-06, 'max_depth': 5, 'num_leaves': 87, 'colsample_bytree': 0.6051518245707153, 'min_child_samples': 17, 'max_bin': 65, 'subsample_freq': 4}. Best is trial 244 with value: 0.15220364691183436.\n"
     ]
    },
    {
     "name": "stdout",
     "output_type": "stream",
     "text": [
      "Repeat \u001b[1m\u001b[34m#1\n"
     ]
    },
    {
     "name": "stderr",
     "output_type": "stream",
     "text": [
      "[I 2023-06-22 17:02:20,409] Trial 418 finished with value: 0.18756858855440997 and parameters: {'boosting_type': 'goss', 'learning_rate': 0.18351153408131107, 'reg_alpha': 1.2878807997423776e-05, 'reg_lambda': 1.0077475265398007e-08, 'max_depth': 5, 'num_leaves': 73, 'colsample_bytree': 0.3943234621840673, 'min_child_samples': 9, 'max_bin': 55, 'subsample_freq': 3}. Best is trial 244 with value: 0.15220364691183436.\n"
     ]
    },
    {
     "name": "stdout",
     "output_type": "stream",
     "text": [
      "Repeat \u001b[1m\u001b[34m#1\n"
     ]
    },
    {
     "name": "stderr",
     "output_type": "stream",
     "text": [
      "[I 2023-06-22 17:02:22,590] Trial 419 finished with value: 0.18074356546042908 and parameters: {'boosting_type': 'goss', 'learning_rate': 0.24290068299116113, 'reg_alpha': 4.217397032719423e-06, 'reg_lambda': 0.00018862328079239206, 'max_depth': 5, 'num_leaves': 79, 'colsample_bytree': 0.3005962855178522, 'min_child_samples': 20, 'max_bin': 80, 'subsample_freq': 4}. Best is trial 244 with value: 0.15220364691183436.\n"
     ]
    },
    {
     "name": "stdout",
     "output_type": "stream",
     "text": [
      "Repeat \u001b[1m\u001b[34m#1\n"
     ]
    },
    {
     "name": "stderr",
     "output_type": "stream",
     "text": [
      "[I 2023-06-22 17:02:26,899] Trial 420 finished with value: 0.2028134763479755 and parameters: {'boosting_type': 'goss', 'learning_rate': 0.2995232085165231, 'reg_alpha': 1.7501435190437609e-06, 'reg_lambda': 2.912486514202766, 'max_depth': 5, 'num_leaves': 76, 'colsample_bytree': 0.4812160358289241, 'min_child_samples': 15, 'max_bin': 69, 'subsample_freq': 4}. Best is trial 244 with value: 0.15220364691183436.\n"
     ]
    },
    {
     "name": "stdout",
     "output_type": "stream",
     "text": [
      "Repeat \u001b[1m\u001b[34m#1\n"
     ]
    },
    {
     "name": "stderr",
     "output_type": "stream",
     "text": [
      "[I 2023-06-22 17:02:38,546] Trial 421 finished with value: 0.19475120739977414 and parameters: {'boosting_type': 'goss', 'learning_rate': 0.012718574096729387, 'reg_alpha': 7.358827828571136e-07, 'reg_lambda': 0.00012066267805859087, 'max_depth': 5, 'num_leaves': 68, 'colsample_bytree': 0.37339849272988507, 'min_child_samples': 13, 'max_bin': 75, 'subsample_freq': 4}. Best is trial 244 with value: 0.15220364691183436.\n"
     ]
    },
    {
     "name": "stdout",
     "output_type": "stream",
     "text": [
      "Repeat \u001b[1m\u001b[34m#1\n"
     ]
    },
    {
     "name": "stderr",
     "output_type": "stream",
     "text": [
      "[I 2023-06-22 17:03:47,646] Trial 422 finished with value: 0.4036715663146968 and parameters: {'boosting_type': 'goss', 'learning_rate': 0.000467172642478521, 'reg_alpha': 2.8340054614107645e-06, 'reg_lambda': 0.019981232525062405, 'max_depth': 5, 'num_leaves': 92, 'colsample_bytree': 0.43136749848731903, 'min_child_samples': 17, 'max_bin': 90, 'subsample_freq': 4}. Best is trial 244 with value: 0.15220364691183436.\n"
     ]
    },
    {
     "name": "stdout",
     "output_type": "stream",
     "text": [
      "Repeat \u001b[1m\u001b[34m#1\n"
     ]
    },
    {
     "name": "stderr",
     "output_type": "stream",
     "text": [
      "[I 2023-06-22 17:03:48,961] Trial 423 finished with value: 0.20523916312688648 and parameters: {'boosting_type': 'goss', 'learning_rate': 0.12786155576629882, 'reg_alpha': 4.013050597925156e-07, 'reg_lambda': 0.18429429678244708, 'max_depth': 6, 'num_leaves': 72, 'colsample_bytree': 0.4482581091801605, 'min_child_samples': 12, 'max_bin': 83, 'subsample_freq': 4}. Best is trial 244 with value: 0.15220364691183436.\n"
     ]
    },
    {
     "name": "stdout",
     "output_type": "stream",
     "text": [
      "Repeat \u001b[1m\u001b[34m#1\n"
     ]
    },
    {
     "name": "stderr",
     "output_type": "stream",
     "text": [
      "[I 2023-06-22 17:03:50,169] Trial 424 finished with value: 0.17559550521779996 and parameters: {'boosting_type': 'goss', 'learning_rate': 0.20603356154794586, 'reg_alpha': 7.101383036882485e-06, 'reg_lambda': 0.001276967370866511, 'max_depth': 5, 'num_leaves': 83, 'colsample_bytree': 0.36487439703586105, 'min_child_samples': 15, 'max_bin': 60, 'subsample_freq': 3}. Best is trial 244 with value: 0.15220364691183436.\n"
     ]
    },
    {
     "name": "stdout",
     "output_type": "stream",
     "text": [
      "Repeat \u001b[1m\u001b[34m#1\n"
     ]
    },
    {
     "name": "stderr",
     "output_type": "stream",
     "text": [
      "[I 2023-06-22 17:03:51,909] Trial 425 finished with value: 0.2123832497319138 and parameters: {'boosting_type': 'goss', 'learning_rate': 0.15894664179973794, 'reg_alpha': 0.00035261111587495787, 'reg_lambda': 0.0030439016451671162, 'max_depth': 5, 'num_leaves': 75, 'colsample_bytree': 0.38483305375214766, 'min_child_samples': 49, 'max_bin': 104, 'subsample_freq': 4}. Best is trial 244 with value: 0.15220364691183436.\n"
     ]
    },
    {
     "name": "stdout",
     "output_type": "stream",
     "text": [
      "Repeat \u001b[1m\u001b[34m#1\n"
     ]
    },
    {
     "name": "stderr",
     "output_type": "stream",
     "text": [
      "[I 2023-06-22 17:03:53,327] Trial 426 finished with value: 0.18372457270469225 and parameters: {'boosting_type': 'goss', 'learning_rate': 0.18146281986271262, 'reg_alpha': 1.0139079531985114e-06, 'reg_lambda': 1.361483430101093e-06, 'max_depth': 5, 'num_leaves': 79, 'colsample_bytree': 0.4046972961842961, 'min_child_samples': 19, 'max_bin': 72, 'subsample_freq': 4}. Best is trial 244 with value: 0.15220364691183436.\n"
     ]
    },
    {
     "name": "stdout",
     "output_type": "stream",
     "text": [
      "Repeat \u001b[1m\u001b[34m#1\n"
     ]
    },
    {
     "name": "stderr",
     "output_type": "stream",
     "text": [
      "[I 2023-06-22 17:03:53,951] Trial 427 finished with value: 0.18761430756245967 and parameters: {'boosting_type': 'goss', 'learning_rate': 0.24113611577341787, 'reg_alpha': 2.403660983641565e-07, 'reg_lambda': 0.007903208310236191, 'max_depth': 5, 'num_leaves': 70, 'colsample_bytree': 0.4216985452145132, 'min_child_samples': 17, 'max_bin': 78, 'subsample_freq': 4}. Best is trial 244 with value: 0.15220364691183436.\n"
     ]
    },
    {
     "name": "stdout",
     "output_type": "stream",
     "text": [
      "Repeat \u001b[1m\u001b[34m#1\n"
     ]
    },
    {
     "name": "stderr",
     "output_type": "stream",
     "text": [
      "[I 2023-06-22 17:03:55,454] Trial 428 finished with value: 0.2510127107224806 and parameters: {'boosting_type': 'gbdt', 'learning_rate': 0.14268258027244968, 'reg_alpha': 1.7012887000271214e-06, 'reg_lambda': 0.0022761194503967104, 'max_depth': 5, 'num_leaves': 77, 'colsample_bytree': 0.5854543918340918, 'min_child_samples': 14, 'max_bin': 85, 'subsample_freq': 4, 'subsample': 0.5210522491466987}. Best is trial 244 with value: 0.15220364691183436.\n"
     ]
    },
    {
     "name": "stdout",
     "output_type": "stream",
     "text": [
      "Repeat \u001b[1m\u001b[34m#1\n"
     ]
    },
    {
     "name": "stderr",
     "output_type": "stream",
     "text": [
      "[I 2023-06-22 17:03:56,441] Trial 429 finished with value: 0.19057907628897064 and parameters: {'boosting_type': 'goss', 'learning_rate': 0.2033784880525408, 'reg_alpha': 9.927912075550338e-05, 'reg_lambda': 0.0005740672906668762, 'max_depth': 7, 'num_leaves': 73, 'colsample_bytree': 0.39880121519858913, 'min_child_samples': 10, 'max_bin': 66, 'subsample_freq': 4}. Best is trial 244 with value: 0.15220364691183436.\n"
     ]
    },
    {
     "name": "stdout",
     "output_type": "stream",
     "text": [
      "Repeat \u001b[1m\u001b[34m#1\n"
     ]
    },
    {
     "name": "stderr",
     "output_type": "stream",
     "text": [
      "[I 2023-06-22 17:04:08,694] Trial 430 finished with value: 0.21421465251330946 and parameters: {'boosting_type': 'goss', 'learning_rate': 0.003252725872106268, 'reg_alpha': 0.0005213523353193853, 'reg_lambda': 5.273877334976475e-08, 'max_depth': 5, 'num_leaves': 81, 'colsample_bytree': 0.6971663762096808, 'min_child_samples': 21, 'max_bin': 71, 'subsample_freq': 3}. Best is trial 244 with value: 0.15220364691183436.\n"
     ]
    },
    {
     "name": "stdout",
     "output_type": "stream",
     "text": [
      "Repeat \u001b[1m\u001b[34m#1\n"
     ]
    },
    {
     "name": "stderr",
     "output_type": "stream",
     "text": [
      "[I 2023-06-22 17:04:10,517] Trial 431 finished with value: 0.19773734766932077 and parameters: {'boosting_type': 'goss', 'learning_rate': 0.059669798626826684, 'reg_alpha': 0.00018156082406509214, 'reg_lambda': 0.005000019402188377, 'max_depth': 6, 'num_leaves': 85, 'colsample_bytree': 0.4119378055559891, 'min_child_samples': 16, 'max_bin': 77, 'subsample_freq': 4}. Best is trial 244 with value: 0.15220364691183436.\n"
     ]
    },
    {
     "name": "stdout",
     "output_type": "stream",
     "text": [
      "Repeat \u001b[1m\u001b[34m#1\n"
     ]
    },
    {
     "name": "stderr",
     "output_type": "stream",
     "text": [
      "[I 2023-06-22 17:04:17,021] Trial 432 finished with value: 0.20449774216016742 and parameters: {'boosting_type': 'goss', 'learning_rate': 0.013487978113939664, 'reg_alpha': 2.2192263690368992e-05, 'reg_lambda': 2.856917765371944e-05, 'max_depth': 5, 'num_leaves': 65, 'colsample_bytree': 0.3517280435942808, 'min_child_samples': 25, 'max_bin': 81, 'subsample_freq': 4}. Best is trial 244 with value: 0.15220364691183436.\n"
     ]
    },
    {
     "name": "stdout",
     "output_type": "stream",
     "text": [
      "Repeat \u001b[1m\u001b[34m#1\n"
     ]
    },
    {
     "name": "stderr",
     "output_type": "stream",
     "text": [
      "[I 2023-06-22 17:04:18,827] Trial 433 finished with value: 0.21239978671892407 and parameters: {'boosting_type': 'goss', 'learning_rate': 0.2567447991439751, 'reg_alpha': 3.97862587034716e-06, 'reg_lambda': 0.00026372567469134953, 'max_depth': 5, 'num_leaves': 75, 'colsample_bytree': 0.3908297973532635, 'min_child_samples': 12, 'max_bin': 89, 'subsample_freq': 4}. Best is trial 244 with value: 0.15220364691183436.\n"
     ]
    },
    {
     "name": "stdout",
     "output_type": "stream",
     "text": [
      "Repeat \u001b[1m\u001b[34m#1\n"
     ]
    },
    {
     "name": "stderr",
     "output_type": "stream",
     "text": [
      "[I 2023-06-22 17:04:20,113] Trial 434 finished with value: 0.17857976525733016 and parameters: {'boosting_type': 'goss', 'learning_rate': 0.17946032593754893, 'reg_alpha': 5.192784256695908e-07, 'reg_lambda': 3.3573100234905e-06, 'max_depth': 5, 'num_leaves': 71, 'colsample_bytree': 0.4414187480775329, 'min_child_samples': 18, 'max_bin': 63, 'subsample_freq': 3}. Best is trial 244 with value: 0.15220364691183436.\n"
     ]
    },
    {
     "name": "stdout",
     "output_type": "stream",
     "text": [
      "Repeat \u001b[1m\u001b[34m#1\n"
     ]
    },
    {
     "name": "stderr",
     "output_type": "stream",
     "text": [
      "[I 2023-06-22 17:04:27,316] Trial 435 finished with value: 0.19369150315953887 and parameters: {'boosting_type': 'goss', 'learning_rate': 0.007199151580011775, 'reg_alpha': 1.2982123594662857e-05, 'reg_lambda': 6.47756989269082e-05, 'max_depth': 6, 'num_leaves': 77, 'colsample_bytree': 0.3801159466735938, 'min_child_samples': 15, 'max_bin': 72, 'subsample_freq': 4}. Best is trial 244 with value: 0.15220364691183436.\n"
     ]
    },
    {
     "name": "stdout",
     "output_type": "stream",
     "text": [
      "Repeat \u001b[1m\u001b[34m#1\n"
     ]
    },
    {
     "name": "stderr",
     "output_type": "stream",
     "text": [
      "[I 2023-06-22 17:04:30,607] Trial 436 finished with value: 0.1924924188909144 and parameters: {'boosting_type': 'goss', 'learning_rate': 0.015404483009854789, 'reg_alpha': 0.002271822067190016, 'reg_lambda': 0.0016692167223622376, 'max_depth': 5, 'num_leaves': 73, 'colsample_bytree': 0.417795867159292, 'min_child_samples': 19, 'max_bin': 76, 'subsample_freq': 4}. Best is trial 244 with value: 0.15220364691183436.\n"
     ]
    },
    {
     "name": "stdout",
     "output_type": "stream",
     "text": [
      "Repeat \u001b[1m\u001b[34m#1\n"
     ]
    },
    {
     "name": "stderr",
     "output_type": "stream",
     "text": [
      "[I 2023-06-22 17:04:32,438] Trial 437 finished with value: 0.21379586075746493 and parameters: {'boosting_type': 'goss', 'learning_rate': 0.04979703536916183, 'reg_alpha': 0.17410077684753852, 'reg_lambda': 3.611264151788273e-08, 'max_depth': 5, 'num_leaves': 30, 'colsample_bytree': 0.4059672205384288, 'min_child_samples': 8, 'max_bin': 81, 'subsample_freq': 4}. Best is trial 244 with value: 0.15220364691183436.\n"
     ]
    },
    {
     "name": "stdout",
     "output_type": "stream",
     "text": [
      "Repeat \u001b[1m\u001b[34m#1\n"
     ]
    },
    {
     "name": "stderr",
     "output_type": "stream",
     "text": [
      "[I 2023-06-22 17:04:33,513] Trial 438 finished with value: 0.1936065409558928 and parameters: {'boosting_type': 'goss', 'learning_rate': 0.10962359794739585, 'reg_alpha': 1.2577342222684357e-07, 'reg_lambda': 0.05537885977820147, 'max_depth': 5, 'num_leaves': 68, 'colsample_bytree': 0.6687711915129553, 'min_child_samples': 13, 'max_bin': 69, 'subsample_freq': 2}. Best is trial 244 with value: 0.15220364691183436.\n"
     ]
    },
    {
     "name": "stdout",
     "output_type": "stream",
     "text": [
      "Repeat \u001b[1m\u001b[34m#1\n"
     ]
    },
    {
     "name": "stderr",
     "output_type": "stream",
     "text": [
      "[I 2023-06-22 17:04:33,812] Trial 439 finished with value: 0.4927281936933196 and parameters: {'boosting_type': 'goss', 'learning_rate': 0.21542815816924274, 'reg_alpha': 1.2357096994263723e-06, 'reg_lambda': 0.006159357614068098, 'max_depth': 5, 'num_leaves': 89, 'colsample_bytree': 0.39995830959645845, 'min_child_samples': 92, 'max_bin': 170, 'subsample_freq': 4}. Best is trial 244 with value: 0.15220364691183436.\n"
     ]
    },
    {
     "name": "stdout",
     "output_type": "stream",
     "text": [
      "Repeat \u001b[1m\u001b[34m#1\n"
     ]
    },
    {
     "name": "stderr",
     "output_type": "stream",
     "text": [
      "[I 2023-06-22 17:04:34,651] Trial 440 finished with value: 0.17951951776771352 and parameters: {'boosting_type': 'goss', 'learning_rate': 0.15694459636194996, 'reg_alpha': 2.6022928733585824e-06, 'reg_lambda': 0.0034083280808387597, 'max_depth': 5, 'num_leaves': 80, 'colsample_bytree': 0.6421088528639896, 'min_child_samples': 16, 'max_bin': 51, 'subsample_freq': 4}. Best is trial 244 with value: 0.15220364691183436.\n"
     ]
    },
    {
     "name": "stdout",
     "output_type": "stream",
     "text": [
      "Repeat \u001b[1m\u001b[34m#1\n"
     ]
    },
    {
     "name": "stderr",
     "output_type": "stream",
     "text": [
      "[I 2023-06-22 17:04:36,997] Trial 441 finished with value: 0.24956524634488741 and parameters: {'boosting_type': 'goss', 'learning_rate': 0.027889574397808294, 'reg_alpha': 7.3682273638467e-07, 'reg_lambda': 0.0008842194554213587, 'max_depth': 5, 'num_leaves': 75, 'colsample_bytree': 0.47473827001711766, 'min_child_samples': 54, 'max_bin': 86, 'subsample_freq': 3}. Best is trial 244 with value: 0.15220364691183436.\n"
     ]
    },
    {
     "name": "stdout",
     "output_type": "stream",
     "text": [
      "Repeat \u001b[1m\u001b[34m#1\n"
     ]
    },
    {
     "name": "stderr",
     "output_type": "stream",
     "text": [
      "[I 2023-06-22 17:04:44,254] Trial 442 finished with value: 0.21504905368400776 and parameters: {'boosting_type': 'goss', 'learning_rate': 0.004864568987843145, 'reg_alpha': 3.92928328179506e-05, 'reg_lambda': 2.43146465463795e-08, 'max_depth': 6, 'num_leaves': 78, 'colsample_bytree': 0.38672945774372675, 'min_child_samples': 22, 'max_bin': 59, 'subsample_freq': 4}. Best is trial 244 with value: 0.15220364691183436.\n"
     ]
    },
    {
     "name": "stdout",
     "output_type": "stream",
     "text": [
      "Repeat \u001b[1m\u001b[34m#1\n"
     ]
    },
    {
     "name": "stderr",
     "output_type": "stream",
     "text": [
      "[I 2023-06-22 17:04:45,709] Trial 443 finished with value: 0.1987613419729001 and parameters: {'boosting_type': 'goss', 'learning_rate': 0.07345452005026741, 'reg_alpha': 0.0009682877596869383, 'reg_lambda': 1.6099260480414612, 'max_depth': 5, 'num_leaves': 70, 'colsample_bytree': 0.4260965292799966, 'min_child_samples': 11, 'max_bin': 74, 'subsample_freq': 4}. Best is trial 244 with value: 0.15220364691183436.\n"
     ]
    },
    {
     "name": "stdout",
     "output_type": "stream",
     "text": [
      "Repeat \u001b[1m\u001b[34m#1\n"
     ]
    },
    {
     "name": "stderr",
     "output_type": "stream",
     "text": [
      "[I 2023-06-22 17:04:46,566] Trial 444 finished with value: 0.207101559996978 and parameters: {'boosting_type': 'goss', 'learning_rate': 0.2557688400277885, 'reg_alpha': 6.345521246492704e-06, 'reg_lambda': 0.010783165169919055, 'max_depth': 5, 'num_leaves': 83, 'colsample_bytree': 0.41104810685673604, 'min_child_samples': 6, 'max_bin': 196, 'subsample_freq': 4}. Best is trial 244 with value: 0.15220364691183436.\n"
     ]
    },
    {
     "name": "stdout",
     "output_type": "stream",
     "text": [
      "Repeat \u001b[1m\u001b[34m#1\n"
     ]
    },
    {
     "name": "stderr",
     "output_type": "stream",
     "text": [
      "[I 2023-06-22 17:04:48,608] Trial 445 finished with value: 0.19903923200784127 and parameters: {'boosting_type': 'goss', 'learning_rate': 0.1276182999474223, 'reg_alpha': 5.030818589342821e-05, 'reg_lambda': 1.2402208390367617e-07, 'max_depth': 5, 'num_leaves': 73, 'colsample_bytree': 0.39464085430153323, 'min_child_samples': 18, 'max_bin': 79, 'subsample_freq': 4}. Best is trial 244 with value: 0.15220364691183436.\n"
     ]
    },
    {
     "name": "stdout",
     "output_type": "stream",
     "text": [
      "Repeat \u001b[1m\u001b[34m#1\n"
     ]
    },
    {
     "name": "stderr",
     "output_type": "stream",
     "text": [
      "[I 2023-06-22 17:04:56,508] Trial 446 finished with value: 0.18326384346732935 and parameters: {'boosting_type': 'goss', 'learning_rate': 0.01973791386737112, 'reg_alpha': 4.835499482828219e-07, 'reg_lambda': 9.411604455653826e-07, 'max_depth': 5, 'num_leaves': 76, 'colsample_bytree': 0.37233206775506095, 'min_child_samples': 14, 'max_bin': 67, 'subsample_freq': 4}. Best is trial 244 with value: 0.15220364691183436.\n"
     ]
    },
    {
     "name": "stdout",
     "output_type": "stream",
     "text": [
      "Repeat \u001b[1m\u001b[34m#1\n"
     ]
    },
    {
     "name": "stderr",
     "output_type": "stream",
     "text": [
      "[I 2023-06-22 17:04:59,332] Trial 447 finished with value: 0.23479059303028038 and parameters: {'boosting_type': 'gbdt', 'learning_rate': 0.29941499538978084, 'reg_alpha': 1.8795643863030124e-06, 'reg_lambda': 0.11418059834200854, 'max_depth': 5, 'num_leaves': 80, 'colsample_bytree': 0.486141961087598, 'min_child_samples': 16, 'max_bin': 96, 'subsample_freq': 3, 'subsample': 0.4832984054228644}. Best is trial 244 with value: 0.15220364691183436.\n"
     ]
    },
    {
     "name": "stdout",
     "output_type": "stream",
     "text": [
      "Repeat \u001b[1m\u001b[34m#1\n"
     ]
    },
    {
     "name": "stderr",
     "output_type": "stream",
     "text": [
      "[I 2023-06-22 17:05:16,931] Trial 448 finished with value: 0.20737259688809545 and parameters: {'boosting_type': 'goss', 'learning_rate': 0.004393713156497987, 'reg_alpha': 6.606732805088388e-08, 'reg_lambda': 0.9761904990992971, 'max_depth': 5, 'num_leaves': 63, 'colsample_bytree': 0.6263863607695538, 'min_child_samples': 13, 'max_bin': 83, 'subsample_freq': 4}. Best is trial 244 with value: 0.15220364691183436.\n"
     ]
    },
    {
     "name": "stdout",
     "output_type": "stream",
     "text": [
      "Repeat \u001b[1m\u001b[34m#1\n"
     ]
    },
    {
     "name": "stderr",
     "output_type": "stream",
     "text": [
      "[I 2023-06-22 17:05:18,331] Trial 449 finished with value: 0.17411227652979824 and parameters: {'boosting_type': 'goss', 'learning_rate': 0.19225773117991551, 'reg_alpha': 0.00015063927381135845, 'reg_lambda': 2.602383204432626e-07, 'max_depth': 6, 'num_leaves': 68, 'colsample_bytree': 0.41649832919499946, 'min_child_samples': 20, 'max_bin': 75, 'subsample_freq': 4}. Best is trial 244 with value: 0.15220364691183436.\n"
     ]
    },
    {
     "name": "stdout",
     "output_type": "stream",
     "text": [
      "Repeat \u001b[1m\u001b[34m#1\n"
     ]
    },
    {
     "name": "stderr",
     "output_type": "stream",
     "text": [
      "[I 2023-06-22 17:05:32,043] Trial 450 finished with value: 0.20580721969429083 and parameters: {'boosting_type': 'goss', 'learning_rate': 0.005481526715327594, 'reg_alpha': 8.82642056508837e-06, 'reg_lambda': 0.00041758867778869413, 'max_depth': 5, 'num_leaves': 72, 'colsample_bytree': 0.40226186819357557, 'min_child_samples': 10, 'max_bin': 71, 'subsample_freq': 4}. Best is trial 244 with value: 0.15220364691183436.\n"
     ]
    },
    {
     "name": "stdout",
     "output_type": "stream",
     "text": [
      "Repeat \u001b[1m\u001b[34m#1\n"
     ]
    },
    {
     "name": "stderr",
     "output_type": "stream",
     "text": [
      "[I 2023-06-22 17:05:33,232] Trial 451 finished with value: 0.17992399619385002 and parameters: {'boosting_type': 'goss', 'learning_rate': 0.2238172987213995, 'reg_alpha': 9.912454867904249e-07, 'reg_lambda': 9.019172823356474e-05, 'max_depth': 5, 'num_leaves': 77, 'colsample_bytree': 0.38618101141393024, 'min_child_samples': 17, 'max_bin': 63, 'subsample_freq': 4}. Best is trial 244 with value: 0.15220364691183436.\n"
     ]
    },
    {
     "name": "stdout",
     "output_type": "stream",
     "text": [
      "Repeat \u001b[1m\u001b[34m#1\n"
     ]
    },
    {
     "name": "stderr",
     "output_type": "stream",
     "text": [
      "[I 2023-06-22 17:05:34,405] Trial 452 finished with value: 0.21888897866347806 and parameters: {'boosting_type': 'goss', 'learning_rate': 0.1698908254435211, 'reg_alpha': 2.888256181524378e-07, 'reg_lambda': 0.0022054085006612957, 'max_depth': 5, 'num_leaves': 74, 'colsample_bytree': 0.4984455500777108, 'min_child_samples': 42, 'max_bin': 79, 'subsample_freq': 4}. Best is trial 244 with value: 0.15220364691183436.\n"
     ]
    },
    {
     "name": "stdout",
     "output_type": "stream",
     "text": [
      "Repeat \u001b[1m\u001b[34m#1\n"
     ]
    },
    {
     "name": "stderr",
     "output_type": "stream",
     "text": [
      "[I 2023-06-22 17:05:35,674] Trial 453 finished with value: 0.20814867755552582 and parameters: {'boosting_type': 'goss', 'learning_rate': 0.14324663063483467, 'reg_alpha': 0.001591160748902376, 'reg_lambda': 0.0012846986427193015, 'max_depth': 5, 'num_leaves': 82, 'colsample_bytree': 0.5070711609610433, 'min_child_samples': 14, 'max_bin': 88, 'subsample_freq': 4}. Best is trial 244 with value: 0.15220364691183436.\n"
     ]
    },
    {
     "name": "stdout",
     "output_type": "stream",
     "text": [
      "Repeat \u001b[1m\u001b[34m#1\n"
     ]
    },
    {
     "name": "stderr",
     "output_type": "stream",
     "text": [
      "[I 2023-06-22 17:05:43,899] Trial 454 finished with value: 0.19659674599900212 and parameters: {'boosting_type': 'goss', 'learning_rate': 0.01061101208200363, 'reg_alpha': 6.721696440211608e-05, 'reg_lambda': 2.716900312055721e-06, 'max_depth': 5, 'num_leaves': 71, 'colsample_bytree': 0.4890766844439079, 'min_child_samples': 19, 'max_bin': 93, 'subsample_freq': 4}. Best is trial 244 with value: 0.15220364691183436.\n"
     ]
    },
    {
     "name": "stdout",
     "output_type": "stream",
     "text": [
      "Repeat \u001b[1m\u001b[34m#1\n"
     ]
    },
    {
     "name": "stderr",
     "output_type": "stream",
     "text": [
      "[I 2023-06-22 17:05:44,922] Trial 455 finished with value: 0.18802255638668516 and parameters: {'boosting_type': 'goss', 'learning_rate': 0.2318602372161519, 'reg_alpha': 3.290309918422115e-06, 'reg_lambda': 0.004108168074244945, 'max_depth': 4, 'num_leaves': 86, 'colsample_bytree': 0.43550681691935456, 'min_child_samples': 12, 'max_bin': 67, 'subsample_freq': 3}. Best is trial 244 with value: 0.15220364691183436.\n"
     ]
    },
    {
     "name": "stdout",
     "output_type": "stream",
     "text": [
      "Repeat \u001b[1m\u001b[34m#1\n"
     ]
    },
    {
     "name": "stderr",
     "output_type": "stream",
     "text": [
      "[I 2023-06-22 17:05:49,668] Trial 456 finished with value: 0.19643419463283823 and parameters: {'boosting_type': 'goss', 'learning_rate': 0.020301214540791458, 'reg_alpha': 1.4620934019958323e-06, 'reg_lambda': 1.9053603556575597e-05, 'max_depth': 6, 'num_leaves': 75, 'colsample_bytree': 0.4063408163363138, 'min_child_samples': 23, 'max_bin': 44, 'subsample_freq': 4}. Best is trial 244 with value: 0.15220364691183436.\n"
     ]
    },
    {
     "name": "stdout",
     "output_type": "stream",
     "text": [
      "Repeat \u001b[1m\u001b[34m#1\n"
     ]
    },
    {
     "name": "stderr",
     "output_type": "stream",
     "text": [
      "[I 2023-06-22 17:06:05,990] Trial 457 finished with value: 0.2420559284749117 and parameters: {'boosting_type': 'goss', 'learning_rate': 0.0016937920329693874, 'reg_alpha': 0.0045122169951964395, 'reg_lambda': 4.3286830093639856e-06, 'max_depth': 5, 'num_leaves': 101, 'colsample_bytree': 0.5229294687601548, 'min_child_samples': 15, 'max_bin': 76, 'subsample_freq': 4}. Best is trial 244 with value: 0.15220364691183436.\n"
     ]
    },
    {
     "name": "stdout",
     "output_type": "stream",
     "text": [
      "Repeat \u001b[1m\u001b[34m#1\n"
     ]
    },
    {
     "name": "stderr",
     "output_type": "stream",
     "text": [
      "[I 2023-06-22 17:06:08,425] Trial 458 finished with value: 0.19514712681478466 and parameters: {'boosting_type': 'goss', 'learning_rate': 0.09237771874999193, 'reg_alpha': 7.911321496549239e-07, 'reg_lambda': 4.055229779541915, 'max_depth': 5, 'num_leaves': 79, 'colsample_bytree': 0.47030393394882836, 'min_child_samples': 17, 'max_bin': 83, 'subsample_freq': 3}. Best is trial 244 with value: 0.15220364691183436.\n"
     ]
    },
    {
     "name": "stdout",
     "output_type": "stream",
     "text": [
      "Repeat \u001b[1m\u001b[34m#1\n"
     ]
    },
    {
     "name": "stderr",
     "output_type": "stream",
     "text": [
      "[I 2023-06-22 17:06:10,437] Trial 459 finished with value: 0.1836965382776764 and parameters: {'boosting_type': 'goss', 'learning_rate': 0.19382498746558874, 'reg_alpha': 3.725681910071712e-07, 'reg_lambda': 0.017588226165785006, 'max_depth': 5, 'num_leaves': 66, 'colsample_bytree': 0.3922826516986955, 'min_child_samples': 20, 'max_bin': 71, 'subsample_freq': 4}. Best is trial 244 with value: 0.15220364691183436.\n"
     ]
    },
    {
     "name": "stdout",
     "output_type": "stream",
     "text": [
      "Repeat \u001b[1m\u001b[34m#1\n"
     ]
    },
    {
     "name": "stderr",
     "output_type": "stream",
     "text": [
      "[I 2023-06-22 17:06:13,446] Trial 460 finished with value: 0.19729484574406034 and parameters: {'boosting_type': 'goss', 'learning_rate': 0.03740711171418688, 'reg_alpha': 1.9493406641894013e-07, 'reg_lambda': 0.007172721950630696, 'max_depth': 5, 'num_leaves': 77, 'colsample_bytree': 0.36135635512788594, 'min_child_samples': 15, 'max_bin': 80, 'subsample_freq': 4}. Best is trial 244 with value: 0.15220364691183436.\n"
     ]
    },
    {
     "name": "stdout",
     "output_type": "stream",
     "text": [
      "Repeat \u001b[1m\u001b[34m#1\n"
     ]
    },
    {
     "name": "stderr",
     "output_type": "stream",
     "text": [
      "[I 2023-06-22 17:06:14,655] Trial 461 finished with value: 0.20605756258524593 and parameters: {'boosting_type': 'goss', 'learning_rate': 0.25937049742183277, 'reg_alpha': 4.804912599030254e-06, 'reg_lambda': 0.4370333553780305, 'max_depth': 5, 'num_leaves': 69, 'colsample_bytree': 0.37831025504282606, 'min_child_samples': 12, 'max_bin': 75, 'subsample_freq': 4}. Best is trial 244 with value: 0.15220364691183436.\n"
     ]
    },
    {
     "name": "stdout",
     "output_type": "stream",
     "text": [
      "Repeat \u001b[1m\u001b[34m#1\n"
     ]
    },
    {
     "name": "stderr",
     "output_type": "stream",
     "text": [
      "[I 2023-06-22 17:06:15,892] Trial 462 finished with value: 0.19705778854474032 and parameters: {'boosting_type': 'goss', 'learning_rate': 0.160963219788051, 'reg_alpha': 1.360540345936095e-06, 'reg_lambda': 2.270359540800783e-06, 'max_depth': 6, 'num_leaves': 73, 'colsample_bytree': 0.42310617441789655, 'min_child_samples': 38, 'max_bin': 53, 'subsample_freq': 4}. Best is trial 244 with value: 0.15220364691183436.\n"
     ]
    },
    {
     "name": "stdout",
     "output_type": "stream",
     "text": [
      "Repeat \u001b[1m\u001b[34m#1\n"
     ]
    },
    {
     "name": "stderr",
     "output_type": "stream",
     "text": [
      "[I 2023-06-22 17:06:24,857] Trial 463 finished with value: 0.19874911571781598 and parameters: {'boosting_type': 'goss', 'learning_rate': 0.010014351198844378, 'reg_alpha': 1.9205819570814585e-05, 'reg_lambda': 0.0001623949334695917, 'max_depth': 7, 'num_leaves': 79, 'colsample_bytree': 0.4000157334984972, 'min_child_samples': 18, 'max_bin': 86, 'subsample_freq': 4}. Best is trial 244 with value: 0.15220364691183436.\n"
     ]
    },
    {
     "name": "stdout",
     "output_type": "stream",
     "text": [
      "Repeat \u001b[1m\u001b[34m#1\n"
     ]
    },
    {
     "name": "stderr",
     "output_type": "stream",
     "text": [
      "[I 2023-06-22 17:06:26,261] Trial 464 finished with value: 0.22154253748816166 and parameters: {'boosting_type': 'goss', 'learning_rate': 0.20881396852365655, 'reg_alpha': 6.672037932833243, 'reg_lambda': 0.002694633535062176, 'max_depth': 5, 'num_leaves': 75, 'colsample_bytree': 0.4123780975512752, 'min_child_samples': 9, 'max_bin': 57, 'subsample_freq': 4}. Best is trial 244 with value: 0.15220364691183436.\n"
     ]
    },
    {
     "name": "stdout",
     "output_type": "stream",
     "text": [
      "Repeat \u001b[1m\u001b[34m#1\n"
     ]
    },
    {
     "name": "stderr",
     "output_type": "stream",
     "text": [
      "[I 2023-06-22 17:06:27,947] Trial 465 finished with value: 0.1990781017411194 and parameters: {'boosting_type': 'goss', 'learning_rate': 0.11379177852080255, 'reg_alpha': 2.4516120880276008e-06, 'reg_lambda': 4.3377424083072817e-07, 'max_depth': 5, 'num_leaves': 71, 'colsample_bytree': 0.45285495346949106, 'min_child_samples': 16, 'max_bin': 64, 'subsample_freq': 4}. Best is trial 244 with value: 0.15220364691183436.\n"
     ]
    },
    {
     "name": "stdout",
     "output_type": "stream",
     "text": [
      "Repeat \u001b[1m\u001b[34m#1\n"
     ]
    },
    {
     "name": "stderr",
     "output_type": "stream",
     "text": [
      "[I 2023-06-22 17:06:30,934] Trial 466 finished with value: 0.2208258154397013 and parameters: {'boosting_type': 'gbdt', 'learning_rate': 0.041632151746987714, 'reg_alpha': 5.995237753349811e-07, 'reg_lambda': 1.709890849986905e-06, 'max_depth': 5, 'num_leaves': 60, 'colsample_bytree': 0.3958868209292563, 'min_child_samples': 13, 'max_bin': 71, 'subsample_freq': 3, 'subsample': 0.5214884504429235}. Best is trial 244 with value: 0.15220364691183436.\n"
     ]
    },
    {
     "name": "stdout",
     "output_type": "stream",
     "text": [
      "Repeat \u001b[1m\u001b[34m#1\n"
     ]
    },
    {
     "name": "stderr",
     "output_type": "stream",
     "text": [
      "[I 2023-06-22 17:06:31,877] Trial 467 finished with value: 0.19363248965410046 and parameters: {'boosting_type': 'goss', 'learning_rate': 0.26094990631624254, 'reg_alpha': 0.0003034677560918246, 'reg_lambda': 6.549744650084711e-07, 'max_depth': 5, 'num_leaves': 81, 'colsample_bytree': 0.4064640180085887, 'min_child_samples': 21, 'max_bin': 78, 'subsample_freq': 5}. Best is trial 244 with value: 0.15220364691183436.\n"
     ]
    },
    {
     "name": "stdout",
     "output_type": "stream",
     "text": [
      "Repeat \u001b[1m\u001b[34m#1\n"
     ]
    },
    {
     "name": "stderr",
     "output_type": "stream",
     "text": [
      "[I 2023-06-22 17:06:43,583] Trial 468 finished with value: 0.2089364255443804 and parameters: {'boosting_type': 'goss', 'learning_rate': 0.004983387747200696, 'reg_alpha': 9.838497461628722e-06, 'reg_lambda': 7.472627819762077e-06, 'max_depth': 5, 'num_leaves': 77, 'colsample_bytree': 0.43051914106938777, 'min_child_samples': 18, 'max_bin': 83, 'subsample_freq': 4}. Best is trial 244 with value: 0.15220364691183436.\n"
     ]
    },
    {
     "name": "stdout",
     "output_type": "stream",
     "text": [
      "Repeat \u001b[1m\u001b[34m#1\n"
     ]
    },
    {
     "name": "stderr",
     "output_type": "stream",
     "text": [
      "[I 2023-06-22 17:06:45,045] Trial 469 finished with value: 0.1823429092446484 and parameters: {'boosting_type': 'goss', 'learning_rate': 0.16882752981200289, 'reg_alpha': 2.7343959001289156e-05, 'reg_lambda': 0.0015730612149566412, 'max_depth': 5, 'num_leaves': 73, 'colsample_bytree': 0.38302463163656514, 'min_child_samples': 14, 'max_bin': 90, 'subsample_freq': 4}. Best is trial 244 with value: 0.15220364691183436.\n"
     ]
    },
    {
     "name": "stdout",
     "output_type": "stream",
     "text": [
      "Repeat \u001b[1m\u001b[34m#1\n"
     ]
    },
    {
     "name": "stderr",
     "output_type": "stream",
     "text": [
      "[I 2023-06-22 17:06:46,603] Trial 470 finished with value: 0.21596739689629568 and parameters: {'boosting_type': 'goss', 'learning_rate': 0.2180310938677304, 'reg_alpha': 0.0008334094990428154, 'reg_lambda': 0.0006558957302315954, 'max_depth': 6, 'num_leaves': 67, 'colsample_bytree': 0.4586227947757637, 'min_child_samples': 11, 'max_bin': 67, 'subsample_freq': 4}. Best is trial 244 with value: 0.15220364691183436.\n"
     ]
    },
    {
     "name": "stdout",
     "output_type": "stream",
     "text": [
      "Repeat \u001b[1m\u001b[34m#1\n"
     ]
    },
    {
     "name": "stderr",
     "output_type": "stream",
     "text": [
      "[I 2023-06-22 17:06:48,011] Trial 471 finished with value: 0.19350659647366822 and parameters: {'boosting_type': 'goss', 'learning_rate': 0.14029494550411112, 'reg_alpha': 3.7069568696113227e-06, 'reg_lambda': 0.02655022789505548, 'max_depth': 5, 'num_leaves': 70, 'colsample_bytree': 0.5742282247976487, 'min_child_samples': 16, 'max_bin': 73, 'subsample_freq': 3}. Best is trial 244 with value: 0.15220364691183436.\n"
     ]
    },
    {
     "name": "stdout",
     "output_type": "stream",
     "text": [
      "Repeat \u001b[1m\u001b[34m#1\n"
     ]
    },
    {
     "name": "stderr",
     "output_type": "stream",
     "text": [
      "[I 2023-06-22 17:06:49,239] Trial 472 finished with value: 0.16001281193560893 and parameters: {'boosting_type': 'goss', 'learning_rate': 0.18605399389591273, 'reg_alpha': 0.002492478316753131, 'reg_lambda': 0.004438525303015518, 'max_depth': 5, 'num_leaves': 84, 'colsample_bytree': 0.41982889167418935, 'min_child_samples': 14, 'max_bin': 79, 'subsample_freq': 4}. Best is trial 244 with value: 0.15220364691183436.\n"
     ]
    },
    {
     "name": "stdout",
     "output_type": "stream",
     "text": [
      "Repeat \u001b[1m\u001b[34m#1\n"
     ]
    },
    {
     "name": "stderr",
     "output_type": "stream",
     "text": [
      "[I 2023-06-22 17:06:50,827] Trial 473 finished with value: 0.19030284970483588 and parameters: {'boosting_type': 'goss', 'learning_rate': 0.1861260487518498, 'reg_alpha': 0.00255547724629424, 'reg_lambda': 0.00031723000487480547, 'max_depth': 5, 'num_leaves': 81, 'colsample_bytree': 0.41879664360255714, 'min_child_samples': 11, 'max_bin': 86, 'subsample_freq': 4}. Best is trial 244 with value: 0.15220364691183436.\n"
     ]
    },
    {
     "name": "stdout",
     "output_type": "stream",
     "text": [
      "Repeat \u001b[1m\u001b[34m#1\n"
     ]
    },
    {
     "name": "stderr",
     "output_type": "stream",
     "text": [
      "[I 2023-06-22 17:06:52,090] Trial 474 finished with value: 0.2135138505803694 and parameters: {'boosting_type': 'goss', 'learning_rate': 0.2345141564591063, 'reg_alpha': 0.006159363504074492, 'reg_lambda': 0.16307915122061822, 'max_depth': 5, 'num_leaves': 87, 'colsample_bytree': 0.36789171434886647, 'min_child_samples': 7, 'max_bin': 80, 'subsample_freq': 4}. Best is trial 244 with value: 0.15220364691183436.\n"
     ]
    },
    {
     "name": "stdout",
     "output_type": "stream",
     "text": [
      "Repeat \u001b[1m\u001b[34m#1\n"
     ]
    },
    {
     "name": "stderr",
     "output_type": "stream",
     "text": [
      "[I 2023-06-22 17:06:55,088] Trial 475 finished with value: 0.19426900779672734 and parameters: {'boosting_type': 'goss', 'learning_rate': 0.04833538100244803, 'reg_alpha': 0.003512299578925216, 'reg_lambda': 0.09909514243711388, 'max_depth': 5, 'num_leaves': 24, 'colsample_bytree': 0.4344425840724127, 'min_child_samples': 13, 'max_bin': 77, 'subsample_freq': 4}. Best is trial 244 with value: 0.15220364691183436.\n"
     ]
    },
    {
     "name": "stdout",
     "output_type": "stream",
     "text": [
      "Repeat \u001b[1m\u001b[34m#1\n"
     ]
    },
    {
     "name": "stderr",
     "output_type": "stream",
     "text": [
      "[I 2023-06-22 17:06:56,071] Trial 476 finished with value: 0.22746118830318005 and parameters: {'boosting_type': 'goss', 'learning_rate': 0.26517382282202756, 'reg_alpha': 0.0013797560069281018, 'reg_lambda': 3.995406350559378e-05, 'max_depth': 5, 'num_leaves': 82, 'colsample_bytree': 0.4266019775065007, 'min_child_samples': 10, 'max_bin': 91, 'subsample_freq': 4}. Best is trial 244 with value: 0.15220364691183436.\n"
     ]
    },
    {
     "name": "stdout",
     "output_type": "stream",
     "text": [
      "Repeat \u001b[1m\u001b[34m#1\n"
     ]
    },
    {
     "name": "stderr",
     "output_type": "stream",
     "text": [
      "[I 2023-06-22 17:08:02,663] Trial 477 finished with value: 0.585522203586471 and parameters: {'boosting_type': 'goss', 'learning_rate': 0.00019904959534617616, 'reg_alpha': 0.0020107696433871794, 'reg_lambda': 0.001018140092129292, 'max_depth': 6, 'num_leaves': 86, 'colsample_bytree': 0.349703193916167, 'min_child_samples': 13, 'max_bin': 82, 'subsample_freq': 4}. Best is trial 244 with value: 0.15220364691183436.\n"
     ]
    },
    {
     "name": "stdout",
     "output_type": "stream",
     "text": [
      "Repeat \u001b[1m\u001b[34m#1\n"
     ]
    },
    {
     "name": "stderr",
     "output_type": "stream",
     "text": [
      "[I 2023-06-22 17:08:04,501] Trial 478 finished with value: 0.19700797536095666 and parameters: {'boosting_type': 'goss', 'learning_rate': 0.19346291766326554, 'reg_alpha': 0.0028481394554165946, 'reg_lambda': 0.013290084916554982, 'max_depth': 5, 'num_leaves': 84, 'colsample_bytree': 0.44100390801433553, 'min_child_samples': 15, 'max_bin': 251, 'subsample_freq': 3}. Best is trial 244 with value: 0.15220364691183436.\n"
     ]
    },
    {
     "name": "stdout",
     "output_type": "stream",
     "text": [
      "Repeat \u001b[1m\u001b[34m#1\n"
     ]
    },
    {
     "name": "stderr",
     "output_type": "stream",
     "text": [
      "[I 2023-06-22 17:08:50,153] Trial 479 finished with value: 0.21341340536855186 and parameters: {'boosting_type': 'goss', 'learning_rate': 0.003764682355085246, 'reg_alpha': 1.0527014939206638e-07, 'reg_lambda': 0.003325696885142392, 'max_depth': 5, 'num_leaves': 84, 'colsample_bytree': 0.41381471234094336, 'min_child_samples': 15, 'max_bin': 85, 'subsample_freq': 4}. Best is trial 244 with value: 0.15220364691183436.\n"
     ]
    },
    {
     "name": "stdout",
     "output_type": "stream",
     "text": [
      "Repeat \u001b[1m\u001b[34m#1\n"
     ]
    },
    {
     "name": "stderr",
     "output_type": "stream",
     "text": [
      "[I 2023-06-22 17:08:51,372] Trial 480 finished with value: 0.20937070754567247 and parameters: {'boosting_type': 'goss', 'learning_rate': 0.29648147219756416, 'reg_alpha': 0.00046301685683977563, 'reg_lambda': 0.005454601110158146, 'max_depth': 5, 'num_leaves': 89, 'colsample_bytree': 0.6705555783354065, 'min_child_samples': 9, 'max_bin': 97, 'subsample_freq': 4}. Best is trial 244 with value: 0.15220364691183436.\n"
     ]
    },
    {
     "name": "stdout",
     "output_type": "stream",
     "text": [
      "Repeat \u001b[1m\u001b[34m#1\n"
     ]
    },
    {
     "name": "stderr",
     "output_type": "stream",
     "text": [
      "[I 2023-06-22 17:09:06,462] Trial 481 finished with value: 0.19475814758625515 and parameters: {'boosting_type': 'goss', 'learning_rate': 0.008020680282601077, 'reg_alpha': 0.0011091681245484902, 'reg_lambda': 0.0020035617236477976, 'max_depth': 5, 'num_leaves': 85, 'colsample_bytree': 0.38985085255973423, 'min_child_samples': 17, 'max_bin': 75, 'subsample_freq': 4}. Best is trial 244 with value: 0.15220364691183436.\n"
     ]
    },
    {
     "name": "stdout",
     "output_type": "stream",
     "text": [
      "Repeat \u001b[1m\u001b[34m#1\n"
     ]
    },
    {
     "name": "stderr",
     "output_type": "stream",
     "text": [
      "[I 2023-06-22 17:09:08,754] Trial 482 finished with value: 0.18609015654541097 and parameters: {'boosting_type': 'goss', 'learning_rate': 0.08043740507193617, 'reg_alpha': 6.043104652824183e-06, 'reg_lambda': 0.007165392377395534, 'max_depth': 4, 'num_leaves': 91, 'colsample_bytree': 0.37535967203724396, 'min_child_samples': 13, 'max_bin': 146, 'subsample_freq': 4}. Best is trial 244 with value: 0.15220364691183436.\n"
     ]
    },
    {
     "name": "stdout",
     "output_type": "stream",
     "text": [
      "Repeat \u001b[1m\u001b[34m#1\n"
     ]
    },
    {
     "name": "stderr",
     "output_type": "stream",
     "text": [
      "[I 2023-06-22 17:09:10,193] Trial 483 finished with value: 0.19096778371322115 and parameters: {'boosting_type': 'goss', 'learning_rate': 0.22010342408949285, 'reg_alpha': 0.011822140297727596, 'reg_lambda': 0.0029634453121664124, 'max_depth': 10, 'num_leaves': 79, 'colsample_bytree': 0.4215260799906724, 'min_child_samples': 19, 'max_bin': 79, 'subsample_freq': 4}. Best is trial 244 with value: 0.15220364691183436.\n"
     ]
    },
    {
     "name": "stdout",
     "output_type": "stream",
     "text": [
      "Repeat \u001b[1m\u001b[34m#1\n"
     ]
    },
    {
     "name": "stderr",
     "output_type": "stream",
     "text": [
      "[I 2023-06-22 17:09:11,612] Trial 484 finished with value: 0.18643251456366278 and parameters: {'boosting_type': 'goss', 'learning_rate': 0.17816177247592876, 'reg_alpha': 3.906375304741726e-05, 'reg_lambda': 0.0005569763204022109, 'max_depth': 5, 'num_leaves': 82, 'colsample_bytree': 0.33265568678507573, 'min_child_samples': 11, 'max_bin': 71, 'subsample_freq': 3}. Best is trial 244 with value: 0.15220364691183436.\n"
     ]
    },
    {
     "name": "stdout",
     "output_type": "stream",
     "text": [
      "Repeat \u001b[1m\u001b[34m#1\n"
     ]
    },
    {
     "name": "stderr",
     "output_type": "stream",
     "text": [
      "[I 2023-06-22 17:09:12,986] Trial 485 finished with value: 0.2169315119842543 and parameters: {'boosting_type': 'goss', 'learning_rate': 0.24058546208452392, 'reg_alpha': 2.0919136992686438e-06, 'reg_lambda': 0.0711246081951156, 'max_depth': 6, 'num_leaves': 77, 'colsample_bytree': 0.3990823773646198, 'min_child_samples': 14, 'max_bin': 60, 'subsample_freq': 2}. Best is trial 244 with value: 0.15220364691183436.\n"
     ]
    },
    {
     "name": "stdout",
     "output_type": "stream",
     "text": [
      "Repeat \u001b[1m\u001b[34m#1\n"
     ]
    },
    {
     "name": "stderr",
     "output_type": "stream",
     "text": [
      "[I 2023-06-22 17:09:14,546] Trial 486 finished with value: 0.1942092312686717 and parameters: {'boosting_type': 'goss', 'learning_rate': 0.1277507162330568, 'reg_alpha': 1.2522013452821984e-05, 'reg_lambda': 0.0012612930940101704, 'max_depth': 5, 'num_leaves': 79, 'colsample_bytree': 0.3406205671181127, 'min_child_samples': 16, 'max_bin': 88, 'subsample_freq': 4}. Best is trial 244 with value: 0.15220364691183436.\n"
     ]
    },
    {
     "name": "stdout",
     "output_type": "stream",
     "text": [
      "Repeat \u001b[1m\u001b[34m#1\n"
     ]
    },
    {
     "name": "stderr",
     "output_type": "stream",
     "text": [
      "[I 2023-06-22 17:10:22,209] Trial 487 finished with value: 0.34195200392776615 and parameters: {'boosting_type': 'goss', 'learning_rate': 0.0007616680035972312, 'reg_alpha': 2.6155467526627135e-07, 'reg_lambda': 2.023081447877201, 'max_depth': 5, 'num_leaves': 75, 'colsample_bytree': 0.4076706675447221, 'min_child_samples': 21, 'max_bin': 82, 'subsample_freq': 4}. Best is trial 244 with value: 0.15220364691183436.\n"
     ]
    },
    {
     "name": "stdout",
     "output_type": "stream",
     "text": [
      "Repeat \u001b[1m\u001b[34m#1\n"
     ]
    },
    {
     "name": "stderr",
     "output_type": "stream",
     "text": [
      "[I 2023-06-22 17:10:23,141] Trial 488 finished with value: 0.24279853749526342 and parameters: {'boosting_type': 'gbdt', 'learning_rate': 0.29890042772955333, 'reg_alpha': 0.0017074599292266604, 'reg_lambda': 0.00011468964229524836, 'max_depth': 7, 'num_leaves': 72, 'colsample_bytree': 0.4178927003653804, 'min_child_samples': 18, 'max_bin': 77, 'subsample_freq': 3, 'subsample': 0.6135215139232642}. Best is trial 244 with value: 0.15220364691183436.\n"
     ]
    },
    {
     "name": "stdout",
     "output_type": "stream",
     "text": [
      "Repeat \u001b[1m\u001b[34m#1\n"
     ]
    },
    {
     "name": "stderr",
     "output_type": "stream",
     "text": [
      "[I 2023-06-22 17:11:09,986] Trial 489 finished with value: 0.19294849577366144 and parameters: {'boosting_type': 'goss', 'learning_rate': 0.007004254018643727, 'reg_alpha': 0.000662707629172433, 'reg_lambda': 0.009209468064285306, 'max_depth': 5, 'num_leaves': 83, 'colsample_bytree': 0.5442994457848945, 'min_child_samples': 15, 'max_bin': 69, 'subsample_freq': 4}. Best is trial 244 with value: 0.15220364691183436.\n"
     ]
    },
    {
     "name": "stdout",
     "output_type": "stream",
     "text": [
      "Repeat \u001b[1m\u001b[34m#1\n"
     ]
    },
    {
     "name": "stderr",
     "output_type": "stream",
     "text": [
      "[I 2023-06-22 17:11:11,579] Trial 490 finished with value: 0.1851520560138275 and parameters: {'boosting_type': 'goss', 'learning_rate': 0.20590003956030942, 'reg_alpha': 4.274528114060695e-06, 'reg_lambda': 0.004639964721640266, 'max_depth': 5, 'num_leaves': 77, 'colsample_bytree': 0.46476982351307045, 'min_child_samples': 25, 'max_bin': 76, 'subsample_freq': 4}. Best is trial 244 with value: 0.15220364691183436.\n"
     ]
    },
    {
     "name": "stdout",
     "output_type": "stream",
     "text": [
      "Repeat \u001b[1m\u001b[34m#1\n"
     ]
    },
    {
     "name": "stderr",
     "output_type": "stream",
     "text": [
      "[I 2023-06-22 17:11:17,270] Trial 491 finished with value: 0.19702348516399532 and parameters: {'boosting_type': 'goss', 'learning_rate': 0.0228540026445177, 'reg_alpha': 8.276180135882846e-05, 'reg_lambda': 7.500982030678554e-08, 'max_depth': 5, 'num_leaves': 65, 'colsample_bytree': 0.389632421441237, 'min_child_samples': 12, 'max_bin': 85, 'subsample_freq': 4}. Best is trial 244 with value: 0.15220364691183436.\n"
     ]
    },
    {
     "name": "stdout",
     "output_type": "stream",
     "text": [
      "Repeat \u001b[1m\u001b[34m#1\n"
     ]
    },
    {
     "name": "stderr",
     "output_type": "stream",
     "text": [
      "[I 2023-06-22 17:11:18,853] Trial 492 finished with value: 0.1762974193803872 and parameters: {'boosting_type': 'goss', 'learning_rate': 0.1579046321951677, 'reg_alpha': 1.6586277036558148e-07, 'reg_lambda': 0.0019813127293143024, 'max_depth': 5, 'num_leaves': 69, 'colsample_bytree': 0.40075811860752425, 'min_child_samples': 17, 'max_bin': 63, 'subsample_freq': 4}. Best is trial 244 with value: 0.15220364691183436.\n"
     ]
    },
    {
     "name": "stdout",
     "output_type": "stream",
     "text": [
      "Repeat \u001b[1m\u001b[34m#1\n"
     ]
    },
    {
     "name": "stderr",
     "output_type": "stream",
     "text": [
      "[I 2023-06-22 17:11:32,019] Trial 493 finished with value: 0.2044156938003819 and parameters: {'boosting_type': 'goss', 'learning_rate': 0.0044922169808942185, 'reg_alpha': 2.5901051748016747e-06, 'reg_lambda': 0.0008512897255185293, 'max_depth': 5, 'num_leaves': 74, 'colsample_bytree': 0.38332007149310704, 'min_child_samples': 14, 'max_bin': 73, 'subsample_freq': 4}. Best is trial 244 with value: 0.15220364691183436.\n"
     ]
    },
    {
     "name": "stdout",
     "output_type": "stream",
     "text": [
      "Repeat \u001b[1m\u001b[34m#1\n"
     ]
    },
    {
     "name": "stderr",
     "output_type": "stream",
     "text": [
      "[I 2023-06-22 17:11:33,548] Trial 494 finished with value: 0.1836775847972266 and parameters: {'boosting_type': 'goss', 'learning_rate': 0.2505739123518253, 'reg_alpha': 5.231452873791231e-08, 'reg_lambda': 0.030508749171472564, 'max_depth': 6, 'num_leaves': 80, 'colsample_bytree': 0.3597903314310405, 'min_child_samples': 20, 'max_bin': 80, 'subsample_freq': 4}. Best is trial 244 with value: 0.15220364691183436.\n"
     ]
    },
    {
     "name": "stdout",
     "output_type": "stream",
     "text": [
      "Repeat \u001b[1m\u001b[34m#1\n"
     ]
    },
    {
     "name": "stderr",
     "output_type": "stream",
     "text": [
      "[I 2023-06-22 17:11:34,726] Trial 495 finished with value: 0.16506251519182064 and parameters: {'boosting_type': 'goss', 'learning_rate': 0.18655888678970317, 'reg_alpha': 0.004099984568807867, 'reg_lambda': 1.1685811895771e-05, 'max_depth': 5, 'num_leaves': 76, 'colsample_bytree': 0.4117201621655353, 'min_child_samples': 23, 'max_bin': 67, 'subsample_freq': 4}. Best is trial 244 with value: 0.15220364691183436.\n"
     ]
    },
    {
     "name": "stdout",
     "output_type": "stream",
     "text": [
      "Repeat \u001b[1m\u001b[34m#1\n"
     ]
    },
    {
     "name": "stderr",
     "output_type": "stream",
     "text": [
      "[I 2023-06-22 17:11:35,932] Trial 496 finished with value: 0.2037173292575359 and parameters: {'boosting_type': 'goss', 'learning_rate': 0.15032728066642673, 'reg_alpha': 0.005422080001060568, 'reg_lambda': 1.1414797165896508e-05, 'max_depth': 5, 'num_leaves': 75, 'colsample_bytree': 0.4285077560110272, 'min_child_samples': 26, 'max_bin': 68, 'subsample_freq': 4}. Best is trial 244 with value: 0.15220364691183436.\n"
     ]
    },
    {
     "name": "stdout",
     "output_type": "stream",
     "text": [
      "Repeat \u001b[1m\u001b[34m#1\n"
     ]
    },
    {
     "name": "stderr",
     "output_type": "stream",
     "text": [
      "[I 2023-06-22 17:11:37,684] Trial 497 finished with value: 0.18920470205125675 and parameters: {'boosting_type': 'goss', 'learning_rate': 0.1754446495286217, 'reg_alpha': 0.0034749817591882897, 'reg_lambda': 2.7625826832263468e-05, 'max_depth': 5, 'num_leaves': 71, 'colsample_bytree': 0.47485734632552384, 'min_child_samples': 22, 'max_bin': 73, 'subsample_freq': 3}. Best is trial 244 with value: 0.15220364691183436.\n"
     ]
    },
    {
     "name": "stdout",
     "output_type": "stream",
     "text": [
      "Repeat \u001b[1m\u001b[34m#1\n"
     ]
    },
    {
     "name": "stderr",
     "output_type": "stream",
     "text": [
      "[I 2023-06-22 17:11:40,049] Trial 498 finished with value: 0.18614170621636417 and parameters: {'boosting_type': 'goss', 'learning_rate': 0.13735059028496943, 'reg_alpha': 0.0070826436686385556, 'reg_lambda': 6.944049071024534e-06, 'max_depth': 5, 'num_leaves': 77, 'colsample_bytree': 0.39340362064278545, 'min_child_samples': 24, 'max_bin': 67, 'subsample_freq': 4}. Best is trial 244 with value: 0.15220364691183436.\n"
     ]
    },
    {
     "name": "stdout",
     "output_type": "stream",
     "text": [
      "Repeat \u001b[1m\u001b[34m#1\n"
     ]
    },
    {
     "name": "stderr",
     "output_type": "stream",
     "text": [
      "[I 2023-06-22 17:12:14,946] Trial 499 finished with value: 0.21024525660123533 and parameters: {'boosting_type': 'goss', 'learning_rate': 0.006590359467696514, 'reg_alpha': 0.00410106964949827, 'reg_lambda': 1.329053847340986e-06, 'max_depth': 5, 'num_leaves': 74, 'colsample_bytree': 0.4102195919636003, 'min_child_samples': 22, 'max_bin': 93, 'subsample_freq': 4}. Best is trial 244 with value: 0.15220364691183436.\n"
     ]
    },
    {
     "name": "stdout",
     "output_type": "stream",
     "text": [
      "Repeat \u001b[1m\u001b[34m#1\n"
     ]
    },
    {
     "name": "stderr",
     "output_type": "stream",
     "text": [
      "[I 2023-06-22 17:12:16,199] Trial 500 finished with value: 0.17663030037394414 and parameters: {'boosting_type': 'goss', 'learning_rate': 0.18649783459291291, 'reg_alpha': 0.009219644241091849, 'reg_lambda': 5.778534085347605e-05, 'max_depth': 5, 'num_leaves': 72, 'colsample_bytree': 0.3750955416527521, 'min_child_samples': 24, 'max_bin': 78, 'subsample_freq': 4}. Best is trial 244 with value: 0.15220364691183436.\n"
     ]
    },
    {
     "name": "stdout",
     "output_type": "stream",
     "text": [
      "Repeat \u001b[1m\u001b[34m#1\n"
     ]
    },
    {
     "name": "stderr",
     "output_type": "stream",
     "text": [
      "[I 2023-06-22 17:12:17,997] Trial 501 finished with value: 0.18941144604641433 and parameters: {'boosting_type': 'goss', 'learning_rate': 0.10137621675508701, 'reg_alpha': 0.0001736917338693624, 'reg_lambda': 2.586398106953789e-06, 'max_depth': 6, 'num_leaves': 68, 'colsample_bytree': 0.4472175159369059, 'min_child_samples': 20, 'max_bin': 82, 'subsample_freq': 4}. Best is trial 244 with value: 0.15220364691183436.\n"
     ]
    },
    {
     "name": "stdout",
     "output_type": "stream",
     "text": [
      "Repeat \u001b[1m\u001b[34m#1\n"
     ]
    },
    {
     "name": "stderr",
     "output_type": "stream",
     "text": [
      "[I 2023-06-22 17:12:37,415] Trial 502 finished with value: 0.1902955428253305 and parameters: {'boosting_type': 'goss', 'learning_rate': 0.016222939985696367, 'reg_alpha': 0.0021104781479507964, 'reg_lambda': 0.00019996580104482425, 'max_depth': 5, 'num_leaves': 78, 'colsample_bytree': 0.4016724195101583, 'min_child_samples': 19, 'max_bin': 73, 'subsample_freq': 4}. Best is trial 244 with value: 0.15220364691183436.\n"
     ]
    },
    {
     "name": "stdout",
     "output_type": "stream",
     "text": [
      "Repeat \u001b[1m\u001b[34m#1\n"
     ]
    },
    {
     "name": "stderr",
     "output_type": "stream",
     "text": [
      "[I 2023-06-22 17:12:39,871] Trial 503 finished with value: 0.19148105675030577 and parameters: {'boosting_type': 'goss', 'learning_rate': 0.2072109453556496, 'reg_alpha': 5.320575428203851e-07, 'reg_lambda': 1.686313929906113e-05, 'max_depth': 5, 'num_leaves': 76, 'colsample_bytree': 0.5629398651998826, 'min_child_samples': 22, 'max_bin': 69, 'subsample_freq': 3}. Best is trial 244 with value: 0.15220364691183436.\n"
     ]
    },
    {
     "name": "stdout",
     "output_type": "stream",
     "text": [
      "Repeat \u001b[1m\u001b[34m#1\n"
     ]
    },
    {
     "name": "stderr",
     "output_type": "stream",
     "text": [
      "[I 2023-06-22 17:12:53,724] Trial 504 finished with value: 0.2292651943552944 and parameters: {'boosting_type': 'goss', 'learning_rate': 0.0026664219863360527, 'reg_alpha': 0.014786925281827339, 'reg_lambda': 0.0006661380019789125, 'max_depth': 5, 'num_leaves': 73, 'colsample_bytree': 0.4198817322123845, 'min_child_samples': 18, 'max_bin': 88, 'subsample_freq': 4}. Best is trial 244 with value: 0.15220364691183436.\n"
     ]
    },
    {
     "name": "stdout",
     "output_type": "stream",
     "text": [
      "Repeat \u001b[1m\u001b[34m#1\n"
     ]
    },
    {
     "name": "stderr",
     "output_type": "stream",
     "text": [
      "[I 2023-06-22 17:12:55,446] Trial 505 finished with value: 0.17499580751303878 and parameters: {'boosting_type': 'goss', 'learning_rate': 0.1673009204898564, 'reg_alpha': 1.5186258548061853e-05, 'reg_lambda': 0.00027247280630913085, 'max_depth': 4, 'num_leaves': 79, 'colsample_bytree': 0.3971593535955931, 'min_child_samples': 16, 'max_bin': 76, 'subsample_freq': 1}. Best is trial 244 with value: 0.15220364691183436.\n"
     ]
    },
    {
     "name": "stdout",
     "output_type": "stream",
     "text": [
      "Repeat \u001b[1m\u001b[34m#1\n"
     ]
    },
    {
     "name": "stderr",
     "output_type": "stream",
     "text": [
      "[I 2023-06-22 17:12:56,440] Trial 506 finished with value: 0.20894119408268214 and parameters: {'boosting_type': 'gbdt', 'learning_rate': 0.12400080269839252, 'reg_alpha': 0.0010665228036144721, 'reg_lambda': 0.0004556091547831055, 'max_depth': 5, 'num_leaves': 63, 'colsample_bytree': 0.36757376450284523, 'min_child_samples': 67, 'max_bin': 203, 'subsample_freq': 4, 'subsample': 0.4912620180808902}. Best is trial 244 with value: 0.15220364691183436.\n"
     ]
    },
    {
     "name": "stdout",
     "output_type": "stream",
     "text": [
      "Repeat \u001b[1m\u001b[34m#1\n"
     ]
    },
    {
     "name": "stderr",
     "output_type": "stream",
     "text": [
      "[I 2023-06-22 17:12:57,438] Trial 507 finished with value: 0.20733337651657074 and parameters: {'boosting_type': 'goss', 'learning_rate': 0.2030452990327787, 'reg_alpha': 0.002621788120728569, 'reg_lambda': 0.0013814151635002556, 'max_depth': 5, 'num_leaves': 70, 'colsample_bytree': 0.4977725918416103, 'min_child_samples': 19, 'max_bin': 65, 'subsample_freq': 3}. Best is trial 244 with value: 0.15220364691183436.\n"
     ]
    },
    {
     "name": "stdout",
     "output_type": "stream",
     "text": [
      "Repeat \u001b[1m\u001b[34m#1\n"
     ]
    },
    {
     "name": "stderr",
     "output_type": "stream",
     "text": [
      "[I 2023-06-22 17:12:58,940] Trial 508 finished with value: 0.1857149380723353 and parameters: {'boosting_type': 'goss', 'learning_rate': 0.14592983982993915, 'reg_alpha': 0.020619850613338396, 'reg_lambda': 0.0024705892536203465, 'max_depth': 6, 'num_leaves': 75, 'colsample_bytree': 0.41214261245960154, 'min_child_samples': 27, 'max_bin': 80, 'subsample_freq': 5}. Best is trial 244 with value: 0.15220364691183436.\n"
     ]
    },
    {
     "name": "stdout",
     "output_type": "stream",
     "text": [
      "Repeat \u001b[1m\u001b[34m#1\n"
     ]
    },
    {
     "name": "stderr",
     "output_type": "stream",
     "text": [
      "[I 2023-06-22 17:13:00,055] Trial 509 finished with value: 0.18230749835185664 and parameters: {'boosting_type': 'goss', 'learning_rate': 0.22091479193797786, 'reg_alpha': 0.004674337836801233, 'reg_lambda': 8.054336530426442e-07, 'max_depth': 5, 'num_leaves': 72, 'colsample_bytree': 0.3850618504447318, 'min_child_samples': 23, 'max_bin': 83, 'subsample_freq': 4}. Best is trial 244 with value: 0.15220364691183436.\n"
     ]
    },
    {
     "name": "stdout",
     "output_type": "stream",
     "text": [
      "Repeat \u001b[1m\u001b[34m#1\n"
     ]
    },
    {
     "name": "stderr",
     "output_type": "stream",
     "text": [
      "[I 2023-06-22 17:13:12,071] Trial 510 finished with value: 0.2512248591931574 and parameters: {'boosting_type': 'goss', 'learning_rate': 0.0015499992239608948, 'reg_alpha': 0.0036313268178166176, 'reg_lambda': 0.0010256497066946043, 'max_depth': 5, 'num_leaves': 67, 'colsample_bytree': 0.5233816276510005, 'min_child_samples': 17, 'max_bin': 72, 'subsample_freq': 4}. Best is trial 244 with value: 0.15220364691183436.\n"
     ]
    },
    {
     "name": "stdout",
     "output_type": "stream",
     "text": [
      "Repeat \u001b[1m\u001b[34m#1\n"
     ]
    },
    {
     "name": "stderr",
     "output_type": "stream",
     "text": [
      "[I 2023-06-22 17:13:28,567] Trial 511 finished with value: 0.23491777962291988 and parameters: {'boosting_type': 'goss', 'learning_rate': 0.001968759736683081, 'reg_alpha': 9.269526384034223e-07, 'reg_lambda': 0.0034658934143321873, 'max_depth': 5, 'num_leaves': 76, 'colsample_bytree': 0.4350907073860551, 'min_child_samples': 15, 'max_bin': 76, 'subsample_freq': 4}. Best is trial 244 with value: 0.15220364691183436.\n"
     ]
    },
    {
     "name": "stdout",
     "output_type": "stream",
     "text": [
      "Repeat \u001b[1m\u001b[34m#1\n"
     ]
    },
    {
     "name": "stderr",
     "output_type": "stream",
     "text": [
      "[I 2023-06-22 17:13:30,254] Trial 512 finished with value: 0.1807450363150681 and parameters: {'boosting_type': 'goss', 'learning_rate': 0.1762900002098339, 'reg_alpha': 3.677778238577978e-07, 'reg_lambda': 0.0017774676385348812, 'max_depth': 5, 'num_leaves': 80, 'colsample_bytree': 0.4050214338452646, 'min_child_samples': 20, 'max_bin': 85, 'subsample_freq': 4}. Best is trial 244 with value: 0.15220364691183436.\n"
     ]
    },
    {
     "name": "stdout",
     "output_type": "stream",
     "text": [
      "Repeat \u001b[1m\u001b[34m#1\n"
     ]
    },
    {
     "name": "stderr",
     "output_type": "stream",
     "text": [
      "[I 2023-06-22 17:13:31,260] Trial 513 finished with value: 0.19793234223968556 and parameters: {'boosting_type': 'goss', 'learning_rate': 0.23408990111472813, 'reg_alpha': 0.006134155260874179, 'reg_lambda': 0.00015252755818490036, 'max_depth': 5, 'num_leaves': 74, 'colsample_bytree': 0.6212426401498672, 'min_child_samples': 17, 'max_bin': 70, 'subsample_freq': 3}. Best is trial 244 with value: 0.15220364691183436.\n"
     ]
    },
    {
     "name": "stdout",
     "output_type": "stream",
     "text": [
      "Repeat \u001b[1m\u001b[34m#1\n"
     ]
    },
    {
     "name": "stderr",
     "output_type": "stream",
     "text": [
      "[I 2023-06-22 17:13:33,198] Trial 514 finished with value: 0.19967399413984016 and parameters: {'boosting_type': 'goss', 'learning_rate': 0.18829697818920482, 'reg_alpha': 9.034789139920114e-06, 'reg_lambda': 0.6438231618653358, 'max_depth': 5, 'num_leaves': 78, 'colsample_bytree': 0.4238455037379264, 'min_child_samples': 12, 'max_bin': 90, 'subsample_freq': 5}. Best is trial 244 with value: 0.15220364691183436.\n"
     ]
    },
    {
     "name": "stdout",
     "output_type": "stream",
     "text": [
      "Repeat \u001b[1m\u001b[34m#1\n"
     ]
    },
    {
     "name": "stderr",
     "output_type": "stream",
     "text": [
      "[I 2023-06-22 17:13:35,510] Trial 515 finished with value: 0.1963610280319905 and parameters: {'boosting_type': 'goss', 'learning_rate': 0.06528827178512389, 'reg_alpha': 0.00026499286605665345, 'reg_lambda': 3.0000901056539165e-06, 'max_depth': 6, 'num_leaves': 70, 'colsample_bytree': 0.39349360180621473, 'min_child_samples': 14, 'max_bin': 63, 'subsample_freq': 4}. Best is trial 244 with value: 0.15220364691183436.\n"
     ]
    },
    {
     "name": "stdout",
     "output_type": "stream",
     "text": [
      "Repeat \u001b[1m\u001b[34m#1\n"
     ]
    },
    {
     "name": "stderr",
     "output_type": "stream",
     "text": [
      "[I 2023-06-22 17:13:41,287] Trial 516 finished with value: 0.20140970544425693 and parameters: {'boosting_type': 'goss', 'learning_rate': 0.00876304318024022, 'reg_alpha': 0.0025277075200776183, 'reg_lambda': 1.7910287095606758e-06, 'max_depth': 5, 'num_leaves': 72, 'colsample_bytree': 0.3769920923782303, 'min_child_samples': 21, 'max_bin': 78, 'subsample_freq': 4}. Best is trial 244 with value: 0.15220364691183436.\n"
     ]
    },
    {
     "name": "stdout",
     "output_type": "stream",
     "text": [
      "Repeat \u001b[1m\u001b[34m#1\n"
     ]
    },
    {
     "name": "stderr",
     "output_type": "stream",
     "text": [
      "[I 2023-06-22 17:13:42,309] Trial 517 finished with value: 0.17752270833820616 and parameters: {'boosting_type': 'goss', 'learning_rate': 0.15505219003898435, 'reg_alpha': 0.00011222046382995206, 'reg_lambda': 8.465558963152085e-05, 'max_depth': 5, 'num_leaves': 96, 'colsample_bytree': 0.4163746695009072, 'min_child_samples': 10, 'max_bin': 74, 'subsample_freq': 4}. Best is trial 244 with value: 0.15220364691183436.\n"
     ]
    },
    {
     "name": "stdout",
     "output_type": "stream",
     "text": [
      "Repeat \u001b[1m\u001b[34m#1\n"
     ]
    },
    {
     "name": "stderr",
     "output_type": "stream",
     "text": [
      "[I 2023-06-22 17:13:43,682] Trial 518 finished with value: 0.19785744370844238 and parameters: {'boosting_type': 'goss', 'learning_rate': 0.057913076959365976, 'reg_alpha': 2.3019161511063046e-05, 'reg_lambda': 3.902047792745523e-05, 'max_depth': 5, 'num_leaves': 76, 'colsample_bytree': 0.48358626972191593, 'min_child_samples': 18, 'max_bin': 81, 'subsample_freq': 4}. Best is trial 244 with value: 0.15220364691183436.\n"
     ]
    },
    {
     "name": "stdout",
     "output_type": "stream",
     "text": [
      "Repeat \u001b[1m\u001b[34m#1\n"
     ]
    },
    {
     "name": "stderr",
     "output_type": "stream",
     "text": [
      "[I 2023-06-22 17:13:44,171] Trial 519 finished with value: 0.49352651148889237 and parameters: {'boosting_type': 'goss', 'learning_rate': 0.011402495700278327, 'reg_alpha': 2.1428583581667534e-07, 'reg_lambda': 2.942124457578667e-07, 'max_depth': 8, 'num_leaves': 81, 'colsample_bytree': 0.4050217171054115, 'min_child_samples': 84, 'max_bin': 67, 'subsample_freq': 4}. Best is trial 244 with value: 0.15220364691183436.\n"
     ]
    },
    {
     "name": "stdout",
     "output_type": "stream",
     "text": [
      "Repeat \u001b[1m\u001b[34m#1\n"
     ]
    },
    {
     "name": "stderr",
     "output_type": "stream",
     "text": [
      "[I 2023-06-22 17:13:44,478] Trial 520 finished with value: 0.48459373489449664 and parameters: {'boosting_type': 'goss', 'learning_rate': 0.2467254348644254, 'reg_alpha': 0.0012944584059140147, 'reg_lambda': 5.479033082686731, 'max_depth': 5, 'num_leaves': 74, 'colsample_bytree': 0.45566416842611207, 'min_child_samples': 99, 'max_bin': 94, 'subsample_freq': 4}. Best is trial 244 with value: 0.15220364691183436.\n"
     ]
    },
    {
     "name": "stdout",
     "output_type": "stream",
     "text": [
      "Repeat \u001b[1m\u001b[34m#1\n"
     ]
    },
    {
     "name": "stderr",
     "output_type": "stream",
     "text": [
      "[I 2023-06-22 17:13:45,429] Trial 521 finished with value: 0.182602987068276 and parameters: {'boosting_type': 'goss', 'learning_rate': 0.11868850957946148, 'reg_alpha': 6.175569289566258e-05, 'reg_lambda': 0.005816381096074633, 'max_depth': 7, 'num_leaves': 69, 'colsample_bytree': 0.3528529786940303, 'min_child_samples': 16, 'max_bin': 87, 'subsample_freq': 4}. Best is trial 244 with value: 0.15220364691183436.\n"
     ]
    },
    {
     "name": "stdout",
     "output_type": "stream",
     "text": [
      "Repeat \u001b[1m\u001b[34m#1\n"
     ]
    },
    {
     "name": "stderr",
     "output_type": "stream",
     "text": [
      "[I 2023-06-22 17:13:47,663] Trial 522 finished with value: 0.19903778262894622 and parameters: {'boosting_type': 'goss', 'learning_rate': 0.09112957089514409, 'reg_alpha': 1.2890031744740824e-06, 'reg_lambda': 8.48612999264137, 'max_depth': 6, 'num_leaves': 78, 'colsample_bytree': 0.3863737130803791, 'min_child_samples': 14, 'max_bin': 72, 'subsample_freq': 2}. Best is trial 244 with value: 0.15220364691183436.\n"
     ]
    },
    {
     "name": "stdout",
     "output_type": "stream",
     "text": [
      "Repeat \u001b[1m\u001b[34m#1\n"
     ]
    },
    {
     "name": "stderr",
     "output_type": "stream",
     "text": [
      "[I 2023-06-22 17:13:48,568] Trial 523 finished with value: 0.20948089671115122 and parameters: {'boosting_type': 'goss', 'learning_rate': 0.204983653610872, 'reg_alpha': 4.328584726539568e-07, 'reg_lambda': 0.0003041698516571069, 'max_depth': 5, 'num_leaves': 66, 'colsample_bytree': 0.3948146163567058, 'min_child_samples': 8, 'max_bin': 77, 'subsample_freq': 4}. Best is trial 244 with value: 0.15220364691183436.\n"
     ]
    },
    {
     "name": "stdout",
     "output_type": "stream",
     "text": [
      "Repeat \u001b[1m\u001b[34m#1\n"
     ]
    },
    {
     "name": "stderr",
     "output_type": "stream",
     "text": [
      "[I 2023-06-22 17:13:49,400] Trial 524 finished with value: 0.2358267589810657 and parameters: {'boosting_type': 'gbdt', 'learning_rate': 0.16703290679856894, 'reg_alpha': 0.0005702718080579796, 'reg_lambda': 0.013356811583998545, 'max_depth': 5, 'num_leaves': 73, 'colsample_bytree': 0.44311626218875905, 'min_child_samples': 12, 'max_bin': 68, 'subsample_freq': 3, 'subsample': 0.6619358101376406}. Best is trial 244 with value: 0.15220364691183436.\n"
     ]
    },
    {
     "name": "stdout",
     "output_type": "stream",
     "text": [
      "Repeat \u001b[1m\u001b[34m#1\n"
     ]
    },
    {
     "name": "stderr",
     "output_type": "stream",
     "text": [
      "[I 2023-06-22 17:13:52,528] Trial 525 finished with value: 0.20023409598663064 and parameters: {'boosting_type': 'goss', 'learning_rate': 0.020677300597449776, 'reg_alpha': 6.809093464429023e-07, 'reg_lambda': 0.40579002297361283, 'max_depth': 5, 'num_leaves': 76, 'colsample_bytree': 0.323350355359178, 'min_child_samples': 19, 'max_bin': 83, 'subsample_freq': 4}. Best is trial 244 with value: 0.15220364691183436.\n"
     ]
    },
    {
     "name": "stdout",
     "output_type": "stream",
     "text": [
      "Repeat \u001b[1m\u001b[34m#1\n"
     ]
    },
    {
     "name": "stderr",
     "output_type": "stream",
     "text": [
      "[I 2023-06-22 17:13:53,629] Trial 526 finished with value: 0.2094118838374014 and parameters: {'boosting_type': 'goss', 'learning_rate': 0.2551695497786812, 'reg_alpha': 0.1246951921741643, 'reg_lambda': 1.0749811184513343, 'max_depth': 5, 'num_leaves': 58, 'colsample_bytree': 0.4143845944879569, 'min_child_samples': 16, 'max_bin': 101, 'subsample_freq': 4}. Best is trial 244 with value: 0.15220364691183436.\n"
     ]
    },
    {
     "name": "stdout",
     "output_type": "stream",
     "text": [
      "Repeat \u001b[1m\u001b[34m#1\n"
     ]
    },
    {
     "name": "stderr",
     "output_type": "stream",
     "text": [
      "[I 2023-06-22 17:13:54,534] Trial 527 finished with value: 0.17738993150227342 and parameters: {'boosting_type': 'goss', 'learning_rate': 0.13426126110081135, 'reg_alpha': 5.885597984836559e-06, 'reg_lambda': 5.4568672712362855e-06, 'max_depth': 5, 'num_leaves': 71, 'colsample_bytree': 0.5155641878708822, 'min_child_samples': 14, 'max_bin': 60, 'subsample_freq': 4}. Best is trial 244 with value: 0.15220364691183436.\n"
     ]
    },
    {
     "name": "stdout",
     "output_type": "stream",
     "text": [
      "Repeat \u001b[1m\u001b[34m#1\n"
     ]
    },
    {
     "name": "stderr",
     "output_type": "stream",
     "text": [
      "[I 2023-06-22 17:13:55,254] Trial 528 finished with value: 0.18933684484595031 and parameters: {'boosting_type': 'goss', 'learning_rate': 0.20017269916004693, 'reg_alpha': 1.2575700721233454e-07, 'reg_lambda': 0.002645081754248023, 'max_depth': 5, 'num_leaves': 82, 'colsample_bytree': 0.40419253913203645, 'min_child_samples': 18, 'max_bin': 74, 'subsample_freq': 4}. Best is trial 244 with value: 0.15220364691183436.\n"
     ]
    },
    {
     "name": "stdout",
     "output_type": "stream",
     "text": [
      "Repeat \u001b[1m\u001b[34m#1\n"
     ]
    },
    {
     "name": "stderr",
     "output_type": "stream",
     "text": [
      "[I 2023-06-22 17:13:55,918] Trial 529 finished with value: 0.203244381876227 and parameters: {'boosting_type': 'goss', 'learning_rate': 0.22400648537370782, 'reg_alpha': 2.4760726955389737e-08, 'reg_lambda': 1.1411117031546888e-05, 'max_depth': 4, 'num_leaves': 76, 'colsample_bytree': 0.6104603178205802, 'min_child_samples': 20, 'max_bin': 79, 'subsample_freq': 4}. Best is trial 244 with value: 0.15220364691183436.\n"
     ]
    },
    {
     "name": "stdout",
     "output_type": "stream",
     "text": [
      "Repeat \u001b[1m\u001b[34m#1\n"
     ]
    },
    {
     "name": "stderr",
     "output_type": "stream",
     "text": [
      "[I 2023-06-22 17:13:56,852] Trial 530 finished with value: 0.21554870321156708 and parameters: {'boosting_type': 'goss', 'learning_rate': 0.10437917612763707, 'reg_alpha': 0.0016893378628147994, 'reg_lambda': 0.27631527538006334, 'max_depth': 5, 'num_leaves': 79, 'colsample_bytree': 0.3796564477173283, 'min_child_samples': 31, 'max_bin': 125, 'subsample_freq': 3}. Best is trial 244 with value: 0.15220364691183436.\n"
     ]
    },
    {
     "name": "stdout",
     "output_type": "stream",
     "text": [
      "Repeat \u001b[1m\u001b[34m#1\n"
     ]
    },
    {
     "name": "stderr",
     "output_type": "stream",
     "text": [
      "[I 2023-06-22 17:13:57,718] Trial 531 finished with value: 0.21168260455474203 and parameters: {'boosting_type': 'goss', 'learning_rate': 0.1756877354394786, 'reg_alpha': 1.6489181890314347e-06, 'reg_lambda': 0.004213502461299157, 'max_depth': 6, 'num_leaves': 69, 'colsample_bytree': 0.4250112064252482, 'min_child_samples': 12, 'max_bin': 86, 'subsample_freq': 4}. Best is trial 244 with value: 0.15220364691183436.\n"
     ]
    },
    {
     "name": "stdout",
     "output_type": "stream",
     "text": [
      "Repeat \u001b[1m\u001b[34m#1\n"
     ]
    },
    {
     "name": "stderr",
     "output_type": "stream",
     "text": [
      "[I 2023-06-22 17:13:58,607] Trial 532 finished with value: 0.18737926100823593 and parameters: {'boosting_type': 'goss', 'learning_rate': 0.15041138791570569, 'reg_alpha': 2.615110695027202e-07, 'reg_lambda': 0.0013166802524275675, 'max_depth': 5, 'num_leaves': 74, 'colsample_bytree': 0.5067858248655129, 'min_child_samples': 23, 'max_bin': 65, 'subsample_freq': 4}. Best is trial 244 with value: 0.15220364691183436.\n"
     ]
    },
    {
     "name": "stdout",
     "output_type": "stream",
     "text": [
      "Repeat \u001b[1m\u001b[34m#1\n"
     ]
    },
    {
     "name": "stderr",
     "output_type": "stream",
     "text": [
      "[I 2023-06-22 17:14:01,275] Trial 533 finished with value: 0.1805482203994373 and parameters: {'boosting_type': 'goss', 'learning_rate': 0.05119870123623297, 'reg_alpha': 1.038883011999298e-06, 'reg_lambda': 0.008715489213491544, 'max_depth': 5, 'num_leaves': 78, 'colsample_bytree': 0.4091112277718101, 'min_child_samples': 16, 'max_bin': 70, 'subsample_freq': 4}. Best is trial 244 with value: 0.15220364691183436.\n"
     ]
    },
    {
     "name": "stdout",
     "output_type": "stream",
     "text": [
      "Repeat \u001b[1m\u001b[34m#1\n"
     ]
    },
    {
     "name": "stderr",
     "output_type": "stream",
     "text": [
      "[I 2023-06-22 17:14:02,099] Trial 534 finished with value: 0.18452122850900216 and parameters: {'boosting_type': 'goss', 'learning_rate': 0.2682912787230696, 'reg_alpha': 4.179964967661758e-05, 'reg_lambda': 0.0004087867443876045, 'max_depth': 6, 'num_leaves': 61, 'colsample_bytree': 0.5973051098308181, 'min_child_samples': 15, 'max_bin': 81, 'subsample_freq': 4}. Best is trial 244 with value: 0.15220364691183436.\n"
     ]
    },
    {
     "name": "stdout",
     "output_type": "stream",
     "text": [
      "Repeat \u001b[1m\u001b[34m#1\n"
     ]
    },
    {
     "name": "stderr",
     "output_type": "stream",
     "text": [
      "[I 2023-06-22 17:14:03,031] Trial 535 finished with value: 0.1784410355041651 and parameters: {'boosting_type': 'goss', 'learning_rate': 0.22319212235925123, 'reg_alpha': 7.453987640438799e-06, 'reg_lambda': 0.0008986581369438979, 'max_depth': 5, 'num_leaves': 72, 'colsample_bytree': 0.36534236317515845, 'min_child_samples': 10, 'max_bin': 73, 'subsample_freq': 3}. Best is trial 244 with value: 0.15220364691183436.\n"
     ]
    },
    {
     "name": "stdout",
     "output_type": "stream",
     "text": [
      "Repeat \u001b[1m\u001b[34m#1\n"
     ]
    },
    {
     "name": "stderr",
     "output_type": "stream",
     "text": [
      "[I 2023-06-22 17:14:04,113] Trial 536 finished with value: 0.17636828480605604 and parameters: {'boosting_type': 'goss', 'learning_rate': 0.1839947596246932, 'reg_alpha': 0.007911890296684031, 'reg_lambda': 1.2201016944136038e-06, 'max_depth': 5, 'num_leaves': 81, 'colsample_bytree': 0.49270805094166525, 'min_child_samples': 18, 'max_bin': 77, 'subsample_freq': 4}. Best is trial 244 with value: 0.15220364691183436.\n"
     ]
    },
    {
     "name": "stdout",
     "output_type": "stream",
     "text": [
      "Repeat \u001b[1m\u001b[34m#1\n"
     ]
    },
    {
     "name": "stderr",
     "output_type": "stream",
     "text": [
      "[I 2023-06-22 17:14:06,729] Trial 537 finished with value: 0.20569535640447806 and parameters: {'boosting_type': 'goss', 'learning_rate': 0.03669802347728389, 'reg_alpha': 0.0007759075980476874, 'reg_lambda': 4.616156840255967e-07, 'max_depth': 5, 'num_leaves': 64, 'colsample_bytree': 0.3981446746039049, 'min_child_samples': 13, 'max_bin': 92, 'subsample_freq': 4}. Best is trial 244 with value: 0.15220364691183436.\n"
     ]
    },
    {
     "name": "stdout",
     "output_type": "stream",
     "text": [
      "Repeat \u001b[1m\u001b[34m#1\n"
     ]
    },
    {
     "name": "stderr",
     "output_type": "stream",
     "text": [
      "[I 2023-06-22 17:14:08,032] Trial 538 finished with value: 0.20056340851660825 and parameters: {'boosting_type': 'goss', 'learning_rate': 0.08015447816590145, 'reg_alpha': 0.5765497311034401, 'reg_lambda': 5.011836380962267e-06, 'max_depth': 5, 'num_leaves': 76, 'colsample_bytree': 0.4313192267218821, 'min_child_samples': 21, 'max_bin': 82, 'subsample_freq': 4}. Best is trial 244 with value: 0.15220364691183436.\n"
     ]
    },
    {
     "name": "stdout",
     "output_type": "stream",
     "text": [
      "Repeat \u001b[1m\u001b[34m#1\n"
     ]
    },
    {
     "name": "stderr",
     "output_type": "stream",
     "text": [
      "[I 2023-06-22 17:14:10,589] Trial 539 finished with value: 0.1969017220958853 and parameters: {'boosting_type': 'goss', 'learning_rate': 0.03328071291595572, 'reg_alpha': 1.5745541003304095e-05, 'reg_lambda': 0.0019956452450627087, 'max_depth': 5, 'num_leaves': 74, 'colsample_bytree': 0.3887354468744245, 'min_child_samples': 17, 'max_bin': 64, 'subsample_freq': 4}. Best is trial 244 with value: 0.15220364691183436.\n"
     ]
    },
    {
     "name": "stdout",
     "output_type": "stream",
     "text": [
      "Repeat \u001b[1m\u001b[34m#1\n"
     ]
    },
    {
     "name": "stderr",
     "output_type": "stream",
     "text": [
      "[I 2023-06-22 17:14:23,093] Trial 540 finished with value: 0.23199068913695947 and parameters: {'boosting_type': 'goss', 'learning_rate': 0.0021588919864047643, 'reg_alpha': 3.3763290989387104e-06, 'reg_lambda': 0.004357835381308529, 'max_depth': 5, 'num_leaves': 68, 'colsample_bytree': 0.4185819269424683, 'min_child_samples': 14, 'max_bin': 75, 'subsample_freq': 3}. Best is trial 244 with value: 0.15220364691183436.\n"
     ]
    },
    {
     "name": "stdout",
     "output_type": "stream",
     "text": [
      "Repeat \u001b[1m\u001b[34m#1\n"
     ]
    },
    {
     "name": "stderr",
     "output_type": "stream",
     "text": [
      "[I 2023-06-22 17:15:00,859] Trial 541 finished with value: 0.20120813718320468 and parameters: {'boosting_type': 'goss', 'learning_rate': 0.004455922592866294, 'reg_alpha': 0.004328683474847367, 'reg_lambda': 0.017892134108442898, 'max_depth': 5, 'num_leaves': 71, 'colsample_bytree': 0.4699789258770109, 'min_child_samples': 11, 'max_bin': 69, 'subsample_freq': 4}. Best is trial 244 with value: 0.15220364691183436.\n"
     ]
    },
    {
     "name": "stdout",
     "output_type": "stream",
     "text": [
      "Repeat \u001b[1m\u001b[34m#1\n"
     ]
    },
    {
     "name": "stderr",
     "output_type": "stream",
     "text": [
      "[I 2023-06-22 17:15:01,919] Trial 542 finished with value: 0.1924835718235163 and parameters: {'boosting_type': 'goss', 'learning_rate': 0.25992868527419877, 'reg_alpha': 4.2227806607958083e-07, 'reg_lambda': 1.4473033521317352e-07, 'max_depth': 5, 'num_leaves': 79, 'colsample_bytree': 0.4030918252331538, 'min_child_samples': 16, 'max_bin': 88, 'subsample_freq': 4}. Best is trial 244 with value: 0.15220364691183436.\n"
     ]
    },
    {
     "name": "stdout",
     "output_type": "stream",
     "text": [
      "Repeat \u001b[1m\u001b[34m#1\n"
     ]
    },
    {
     "name": "stderr",
     "output_type": "stream",
     "text": [
      "[I 2023-06-22 17:15:03,508] Trial 543 finished with value: 0.18659236527576972 and parameters: {'boosting_type': 'goss', 'learning_rate': 0.13364956181392285, 'reg_alpha': 0.0343338751931207, 'reg_lambda': 0.006469768401077449, 'max_depth': 5, 'num_leaves': 83, 'colsample_bytree': 0.3946692278937131, 'min_child_samples': 19, 'max_bin': 84, 'subsample_freq': 4}. Best is trial 244 with value: 0.15220364691183436.\n"
     ]
    },
    {
     "name": "stdout",
     "output_type": "stream",
     "text": [
      "Repeat \u001b[1m\u001b[34m#1\n"
     ]
    },
    {
     "name": "stderr",
     "output_type": "stream",
     "text": [
      "[I 2023-06-22 17:15:05,483] Trial 544 finished with value: 0.19792422199106663 and parameters: {'boosting_type': 'goss', 'learning_rate': 0.19910102111900085, 'reg_alpha': 0.00037439768715482246, 'reg_lambda': 3.478163851185639, 'max_depth': 5, 'num_leaves': 77, 'colsample_bytree': 0.3451322206951585, 'min_child_samples': 14, 'max_bin': 77, 'subsample_freq': 4}. Best is trial 244 with value: 0.15220364691183436.\n"
     ]
    },
    {
     "name": "stdout",
     "output_type": "stream",
     "text": [
      "Repeat \u001b[1m\u001b[34m#1\n"
     ]
    },
    {
     "name": "stderr",
     "output_type": "stream",
     "text": [
      "[I 2023-06-22 17:15:09,932] Trial 545 finished with value: 0.24645033407725797 and parameters: {'boosting_type': 'gbdt', 'learning_rate': 0.014752900001073122, 'reg_alpha': 6.17218132095053e-07, 'reg_lambda': 0.00010141869328406768, 'max_depth': 6, 'num_leaves': 73, 'colsample_bytree': 0.4122975722560668, 'min_child_samples': 17, 'max_bin': 71, 'subsample_freq': 4, 'subsample': 0.45664180053040665}. Best is trial 244 with value: 0.15220364691183436.\n"
     ]
    },
    {
     "name": "stdout",
     "output_type": "stream",
     "text": [
      "Repeat \u001b[1m\u001b[34m#1\n"
     ]
    },
    {
     "name": "stderr",
     "output_type": "stream",
     "text": [
      "[I 2023-06-22 17:15:14,966] Trial 546 finished with value: 0.19731427462333012 and parameters: {'boosting_type': 'goss', 'learning_rate': 0.017297207205348508, 'reg_alpha': 1.7739333166517048e-06, 'reg_lambda': 0.18949525630675576, 'max_depth': 5, 'num_leaves': 70, 'colsample_bytree': 0.37274582712188215, 'min_child_samples': 25, 'max_bin': 79, 'subsample_freq': 3}. Best is trial 244 with value: 0.15220364691183436.\n"
     ]
    },
    {
     "name": "stdout",
     "output_type": "stream",
     "text": [
      "Repeat \u001b[1m\u001b[34m#1\n"
     ]
    },
    {
     "name": "stderr",
     "output_type": "stream",
     "text": [
      "[I 2023-06-22 17:15:16,368] Trial 547 finished with value: 0.2002415078466392 and parameters: {'boosting_type': 'goss', 'learning_rate': 0.15320678398749626, 'reg_alpha': 2.7287085210010673e-05, 'reg_lambda': 0.003027735844436491, 'max_depth': 5, 'num_leaves': 80, 'colsample_bytree': 0.5295863637368121, 'min_child_samples': 6, 'max_bin': 61, 'subsample_freq': 4}. Best is trial 244 with value: 0.15220364691183436.\n"
     ]
    },
    {
     "name": "stdout",
     "output_type": "stream",
     "text": [
      "Repeat \u001b[1m\u001b[34m#1\n"
     ]
    },
    {
     "name": "stderr",
     "output_type": "stream",
     "text": [
      "[I 2023-06-22 17:15:28,322] Trial 548 finished with value: 0.19671065969818263 and parameters: {'boosting_type': 'goss', 'learning_rate': 0.006278678190162893, 'reg_alpha': 0.0019017202937566644, 'reg_lambda': 0.0015607121968617146, 'max_depth': 5, 'num_leaves': 66, 'colsample_bytree': 0.38260817241294437, 'min_child_samples': 12, 'max_bin': 66, 'subsample_freq': 5}. Best is trial 244 with value: 0.15220364691183436.\n"
     ]
    },
    {
     "name": "stdout",
     "output_type": "stream",
     "text": [
      "Repeat \u001b[1m\u001b[34m#1\n"
     ]
    },
    {
     "name": "stderr",
     "output_type": "stream",
     "text": [
      "[I 2023-06-22 17:15:29,211] Trial 549 finished with value: 0.2087727420169022 and parameters: {'boosting_type': 'goss', 'learning_rate': 0.2998020680848866, 'reg_alpha': 1.639509961450591e-07, 'reg_lambda': 0.0006994209107445009, 'max_depth': 5, 'num_leaves': 75, 'colsample_bytree': 0.5341488585793479, 'min_child_samples': 9, 'max_bin': 74, 'subsample_freq': 4}. Best is trial 244 with value: 0.15220364691183436.\n"
     ]
    },
    {
     "name": "stdout",
     "output_type": "stream",
     "text": [
      "Repeat \u001b[1m\u001b[34m#1\n"
     ]
    },
    {
     "name": "stderr",
     "output_type": "stream",
     "text": [
      "[I 2023-06-22 17:15:30,139] Trial 550 finished with value: 0.23807721863214848 and parameters: {'boosting_type': 'goss', 'learning_rate': 0.2238758151517667, 'reg_alpha': 0.21996847367559252, 'reg_lambda': 0.05370068033066373, 'max_depth': 5, 'num_leaves': 77, 'colsample_bytree': 0.40812642564891577, 'min_child_samples': 56, 'max_bin': 85, 'subsample_freq': 4}. Best is trial 244 with value: 0.15220364691183436.\n"
     ]
    },
    {
     "name": "stdout",
     "output_type": "stream",
     "text": [
      "Repeat \u001b[1m\u001b[34m#1\n"
     ]
    },
    {
     "name": "stderr",
     "output_type": "stream",
     "text": [
      "[I 2023-06-22 17:15:32,321] Trial 551 finished with value: 0.2106027054005297 and parameters: {'boosting_type': 'goss', 'learning_rate': 0.040841301517042954, 'reg_alpha': 6.87398578235029e-08, 'reg_lambda': 0.010087843647498141, 'max_depth': 6, 'num_leaves': 86, 'colsample_bytree': 0.35918733274823433, 'min_child_samples': 21, 'max_bin': 80, 'subsample_freq': 3}. Best is trial 244 with value: 0.15220364691183436.\n"
     ]
    },
    {
     "name": "stdout",
     "output_type": "stream",
     "text": [
      "Repeat \u001b[1m\u001b[34m#1\n"
     ]
    },
    {
     "name": "stderr",
     "output_type": "stream",
     "text": [
      "[I 2023-06-22 17:15:33,718] Trial 552 finished with value: 0.19253666252833868 and parameters: {'boosting_type': 'goss', 'learning_rate': 0.11361342103702245, 'reg_alpha': 9.386408083685232e-07, 'reg_lambda': 4.736496375158916e-05, 'max_depth': 5, 'num_leaves': 107, 'colsample_bytree': 0.3900266634369731, 'min_child_samples': 15, 'max_bin': 91, 'subsample_freq': 4}. Best is trial 244 with value: 0.15220364691183436.\n"
     ]
    },
    {
     "name": "stdout",
     "output_type": "stream",
     "text": [
      "Repeat \u001b[1m\u001b[34m#1\n"
     ]
    },
    {
     "name": "stderr",
     "output_type": "stream",
     "text": [
      "[I 2023-06-22 17:15:34,852] Trial 553 finished with value: 0.18583670756646542 and parameters: {'boosting_type': 'goss', 'learning_rate': 0.17390214926638803, 'reg_alpha': 4.9038854357475264e-06, 'reg_lambda': 0.002854581355416383, 'max_depth': 5, 'num_leaves': 72, 'colsample_bytree': 0.43640391243153837, 'min_child_samples': 17, 'max_bin': 73, 'subsample_freq': 4}. Best is trial 244 with value: 0.15220364691183436.\n"
     ]
    },
    {
     "name": "stdout",
     "output_type": "stream",
     "text": [
      "Repeat \u001b[1m\u001b[34m#1\n"
     ]
    },
    {
     "name": "stderr",
     "output_type": "stream",
     "text": [
      "[I 2023-06-22 17:15:35,978] Trial 554 finished with value: 0.19472581193223762 and parameters: {'boosting_type': 'goss', 'learning_rate': 0.23616107001124156, 'reg_alpha': 1.2452046970838474e-05, 'reg_lambda': 2.27192173109896e-05, 'max_depth': 7, 'num_leaves': 74, 'colsample_bytree': 0.4256679267403416, 'min_child_samples': 12, 'max_bin': 69, 'subsample_freq': 4}. Best is trial 244 with value: 0.15220364691183436.\n"
     ]
    },
    {
     "name": "stdout",
     "output_type": "stream",
     "text": [
      "Repeat \u001b[1m\u001b[34m#1\n"
     ]
    },
    {
     "name": "stderr",
     "output_type": "stream",
     "text": [
      "[I 2023-06-22 17:15:37,548] Trial 555 finished with value: 0.18540827224838835 and parameters: {'boosting_type': 'goss', 'learning_rate': 0.1944981438046211, 'reg_alpha': 0.0002221912057770323, 'reg_lambda': 0.0011226019905307015, 'max_depth': 5, 'num_leaves': 68, 'colsample_bytree': 0.6235366151327684, 'min_child_samples': 19, 'max_bin': 57, 'subsample_freq': 4}. Best is trial 244 with value: 0.15220364691183436.\n"
     ]
    },
    {
     "name": "stdout",
     "output_type": "stream",
     "text": [
      "Repeat \u001b[1m\u001b[34m#1\n"
     ]
    },
    {
     "name": "stderr",
     "output_type": "stream",
     "text": [
      "[I 2023-06-22 17:15:50,437] Trial 556 finished with value: 0.38583192768999525 and parameters: {'boosting_type': 'goss', 'learning_rate': 0.0006012250803373305, 'reg_alpha': 3.2189612402841135e-07, 'reg_lambda': 7.832487961209531e-07, 'max_depth': 5, 'num_leaves': 80, 'colsample_bytree': 0.39850886363349886, 'min_child_samples': 40, 'max_bin': 77, 'subsample_freq': 4}. Best is trial 244 with value: 0.15220364691183436.\n"
     ]
    },
    {
     "name": "stdout",
     "output_type": "stream",
     "text": [
      "Repeat \u001b[1m\u001b[34m#1\n"
     ]
    },
    {
     "name": "stderr",
     "output_type": "stream",
     "text": [
      "[I 2023-06-22 17:16:17,357] Trial 557 finished with value: 0.6602165144544846 and parameters: {'boosting_type': 'goss', 'learning_rate': 0.00012259608800201544, 'reg_alpha': 2.6893546315276307e-06, 'reg_lambda': 0.00022071083362651934, 'max_depth': 4, 'num_leaves': 78, 'colsample_bytree': 0.6616454506781728, 'min_child_samples': 15, 'max_bin': 97, 'subsample_freq': 4}. Best is trial 244 with value: 0.15220364691183436.\n"
     ]
    },
    {
     "name": "stdout",
     "output_type": "stream",
     "text": [
      "Repeat \u001b[1m\u001b[34m#1\n"
     ]
    },
    {
     "name": "stderr",
     "output_type": "stream",
     "text": [
      "[I 2023-06-22 17:16:25,993] Trial 558 finished with value: 0.23491707703206843 and parameters: {'boosting_type': 'goss', 'learning_rate': 0.008044242513018407, 'reg_alpha': 1.898939657050751e-08, 'reg_lambda': 0.005747066320183422, 'max_depth': 6, 'num_leaves': 71, 'colsample_bytree': 0.4471783726536272, 'min_child_samples': 47, 'max_bin': 216, 'subsample_freq': 4}. Best is trial 244 with value: 0.15220364691183436.\n"
     ]
    },
    {
     "name": "stdout",
     "output_type": "stream",
     "text": [
      "Repeat \u001b[1m\u001b[34m#1\n"
     ]
    },
    {
     "name": "stderr",
     "output_type": "stream",
     "text": [
      "[I 2023-06-22 17:16:27,284] Trial 559 finished with value: 0.20303646889613172 and parameters: {'boosting_type': 'goss', 'learning_rate': 0.15982998750692384, 'reg_alpha': 0.005976872561890862, 'reg_lambda': 0.002038408943470649, 'max_depth': 5, 'num_leaves': 83, 'colsample_bytree': 0.4180423081891111, 'min_child_samples': 22, 'max_bin': 163, 'subsample_freq': 3}. Best is trial 244 with value: 0.15220364691183436.\n"
     ]
    },
    {
     "name": "stdout",
     "output_type": "stream",
     "text": [
      "Repeat \u001b[1m\u001b[34m#1\n"
     ]
    },
    {
     "name": "stderr",
     "output_type": "stream",
     "text": [
      "[I 2023-06-22 17:16:29,134] Trial 560 finished with value: 0.1881531150294466 and parameters: {'boosting_type': 'goss', 'learning_rate': 0.2627429780531293, 'reg_alpha': 0.00014111951766784082, 'reg_lambda': 0.000622067053439387, 'max_depth': 5, 'num_leaves': 75, 'colsample_bytree': 0.5122985730623375, 'min_child_samples': 13, 'max_bin': 82, 'subsample_freq': 4}. Best is trial 244 with value: 0.15220364691183436.\n"
     ]
    },
    {
     "name": "stdout",
     "output_type": "stream",
     "text": [
      "Repeat \u001b[1m\u001b[34m#1\n"
     ]
    },
    {
     "name": "stderr",
     "output_type": "stream",
     "text": [
      "[I 2023-06-22 17:17:09,203] Trial 561 finished with value: 0.2639641324582354 and parameters: {'boosting_type': 'goss', 'learning_rate': 0.0014320649324424408, 'reg_alpha': 3.864402726102031e-08, 'reg_lambda': 1.0911472506486064e-07, 'max_depth': 5, 'num_leaves': 76, 'colsample_bytree': 0.4032066848898469, 'min_child_samples': 18, 'max_bin': 88, 'subsample_freq': 4}. Best is trial 244 with value: 0.15220364691183436.\n"
     ]
    },
    {
     "name": "stdout",
     "output_type": "stream",
     "text": [
      "Repeat \u001b[1m\u001b[34m#1\n"
     ]
    },
    {
     "name": "stderr",
     "output_type": "stream",
     "text": [
      "[I 2023-06-22 17:17:16,537] Trial 562 finished with value: 0.18216299394204655 and parameters: {'boosting_type': 'goss', 'learning_rate': 0.13635470994351465, 'reg_alpha': 1.3248464839429848e-06, 'reg_lambda': 2.7165471932903396e-07, 'max_depth': 5, 'num_leaves': 73, 'colsample_bytree': 0.636367165732983, 'min_child_samples': 16, 'max_bin': 65, 'subsample_freq': 5}. Best is trial 244 with value: 0.15220364691183436.\n"
     ]
    },
    {
     "name": "stdout",
     "output_type": "stream",
     "text": [
      "Repeat \u001b[1m\u001b[34m#1\n"
     ]
    },
    {
     "name": "stderr",
     "output_type": "stream",
     "text": [
      "[I 2023-06-22 17:17:22,959] Trial 563 finished with value: 0.24302937215663922 and parameters: {'boosting_type': 'gbdt', 'learning_rate': 0.012312968077885468, 'reg_alpha': 8.786908118215046e-06, 'reg_lambda': 0.034665171256908676, 'max_depth': 6, 'num_leaves': 69, 'colsample_bytree': 0.38218181565649934, 'min_child_samples': 10, 'max_bin': 71, 'subsample_freq': 4, 'subsample': 0.6734748215791742}. Best is trial 244 with value: 0.15220364691183436.\n"
     ]
    },
    {
     "name": "stdout",
     "output_type": "stream",
     "text": [
      "Repeat \u001b[1m\u001b[34m#1\n"
     ]
    },
    {
     "name": "stderr",
     "output_type": "stream",
     "text": [
      "[I 2023-06-22 17:17:25,359] Trial 564 finished with value: 0.1892693803539223 and parameters: {'boosting_type': 'goss', 'learning_rate': 0.0653784748266537, 'reg_alpha': 0.0026002896416804284, 'reg_lambda': 0.0036796778141051307, 'max_depth': 5, 'num_leaves': 78, 'colsample_bytree': 0.4111006742746114, 'min_child_samples': 20, 'max_bin': 77, 'subsample_freq': 3}. Best is trial 244 with value: 0.15220364691183436.\n"
     ]
    },
    {
     "name": "stdout",
     "output_type": "stream",
     "text": [
      "Repeat \u001b[1m\u001b[34m#1\n"
     ]
    },
    {
     "name": "stderr",
     "output_type": "stream",
     "text": [
      "[I 2023-06-22 17:17:38,056] Trial 565 finished with value: 0.20330549350847263 and parameters: {'boosting_type': 'goss', 'learning_rate': 0.005683625298693637, 'reg_alpha': 0.0008959737005082169, 'reg_lambda': 0.0003671531272521406, 'max_depth': 5, 'num_leaves': 81, 'colsample_bytree': 0.3907693924071178, 'min_child_samples': 14, 'max_bin': 109, 'subsample_freq': 4}. Best is trial 244 with value: 0.15220364691183436.\n"
     ]
    },
    {
     "name": "stdout",
     "output_type": "stream",
     "text": [
      "Repeat \u001b[1m\u001b[34m#1\n"
     ]
    },
    {
     "name": "stderr",
     "output_type": "stream",
     "text": [
      "[I 2023-06-22 17:17:57,848] Trial 566 finished with value: 0.28705920065177687 and parameters: {'boosting_type': 'goss', 'learning_rate': 0.0010819726132809294, 'reg_alpha': 6.173288281771777e-07, 'reg_lambda': 0.008024817021691638, 'max_depth': 5, 'num_leaves': 72, 'colsample_bytree': 0.36866070079958807, 'min_child_samples': 16, 'max_bin': 84, 'subsample_freq': 4}. Best is trial 244 with value: 0.15220364691183436.\n"
     ]
    },
    {
     "name": "stdout",
     "output_type": "stream",
     "text": [
      "Repeat \u001b[1m\u001b[34m#1\n"
     ]
    },
    {
     "name": "stderr",
     "output_type": "stream",
     "text": [
      "[I 2023-06-22 17:17:58,876] Trial 567 finished with value: 0.2019888464594841 and parameters: {'boosting_type': 'goss', 'learning_rate': 0.2057821149618466, 'reg_alpha': 0.053105718662344974, 'reg_lambda': 1.557479793291188e-08, 'max_depth': 5, 'num_leaves': 75, 'colsample_bytree': 0.3985724226196831, 'min_child_samples': 23, 'max_bin': 75, 'subsample_freq': 4}. Best is trial 244 with value: 0.15220364691183436.\n"
     ]
    },
    {
     "name": "stdout",
     "output_type": "stream",
     "text": [
      "Repeat \u001b[1m\u001b[34m#1\n"
     ]
    },
    {
     "name": "stderr",
     "output_type": "stream",
     "text": [
      "[I 2023-06-22 17:18:00,694] Trial 568 finished with value: 0.2095141176320522 and parameters: {'boosting_type': 'goss', 'learning_rate': 0.1795027643697459, 'reg_alpha': 1.974586415991463e-06, 'reg_lambda': 1.0184525650820168e-05, 'max_depth': 5, 'num_leaves': 65, 'colsample_bytree': 0.5976695781146382, 'min_child_samples': 18, 'max_bin': 80, 'subsample_freq': 4}. Best is trial 244 with value: 0.15220364691183436.\n"
     ]
    },
    {
     "name": "stdout",
     "output_type": "stream",
     "text": [
      "Repeat \u001b[1m\u001b[34m#1\n"
     ]
    },
    {
     "name": "stderr",
     "output_type": "stream",
     "text": [
      "[I 2023-06-22 17:18:01,977] Trial 569 finished with value: 0.18996745877553423 and parameters: {'boosting_type': 'goss', 'learning_rate': 0.23486670020078287, 'reg_alpha': 2.437425496336081e-07, 'reg_lambda': 0.0018068244952948503, 'max_depth': 5, 'num_leaves': 79, 'colsample_bytree': 0.42104685433898065, 'min_child_samples': 13, 'max_bin': 68, 'subsample_freq': 4}. Best is trial 244 with value: 0.15220364691183436.\n"
     ]
    },
    {
     "name": "stdout",
     "output_type": "stream",
     "text": [
      "Repeat \u001b[1m\u001b[34m#1\n"
     ]
    },
    {
     "name": "stderr",
     "output_type": "stream",
     "text": [
      "[I 2023-06-22 17:18:28,290] Trial 570 finished with value: 0.43815097071374576 and parameters: {'boosting_type': 'goss', 'learning_rate': 0.00041071978110110045, 'reg_alpha': 0.010963667410520404, 'reg_lambda': 0.014897723169628188, 'max_depth': 5, 'num_leaves': 85, 'colsample_bytree': 0.334459279932557, 'min_child_samples': 28, 'max_bin': 61, 'subsample_freq': 4}. Best is trial 244 with value: 0.15220364691183436.\n"
     ]
    },
    {
     "name": "stdout",
     "output_type": "stream",
     "text": [
      "Repeat \u001b[1m\u001b[34m#1\n"
     ]
    },
    {
     "name": "stderr",
     "output_type": "stream",
     "text": [
      "[I 2023-06-22 17:18:29,815] Trial 571 finished with value: 0.23670005522290172 and parameters: {'boosting_type': 'goss', 'learning_rate': 0.1494879480916093, 'reg_alpha': 3.2021860711217373e-06, 'reg_lambda': 0.00014781381728395612, 'max_depth': 5, 'num_leaves': 88, 'colsample_bytree': 0.4288413296313386, 'min_child_samples': 8, 'max_bin': 71, 'subsample_freq': 4}. Best is trial 244 with value: 0.15220364691183436.\n"
     ]
    },
    {
     "name": "stdout",
     "output_type": "stream",
     "text": [
      "Repeat \u001b[1m\u001b[34m#1\n"
     ]
    },
    {
     "name": "stderr",
     "output_type": "stream",
     "text": [
      "[I 2023-06-22 17:18:30,934] Trial 572 finished with value: 0.18433683048474292 and parameters: {'boosting_type': 'goss', 'learning_rate': 0.26348155094387754, 'reg_alpha': 0.0013476083921861429, 'reg_lambda': 3.7282193765198916e-06, 'max_depth': 5, 'num_leaves': 71, 'colsample_bytree': 0.32107757849709995, 'min_child_samples': 11, 'max_bin': 89, 'subsample_freq': 3}. Best is trial 244 with value: 0.15220364691183436.\n"
     ]
    },
    {
     "name": "stdout",
     "output_type": "stream",
     "text": [
      "Repeat \u001b[1m\u001b[34m#1\n"
     ]
    },
    {
     "name": "stderr",
     "output_type": "stream",
     "text": [
      "[I 2023-06-22 17:18:46,728] Trial 573 finished with value: 0.2406519697578487 and parameters: {'boosting_type': 'goss', 'learning_rate': 0.001854801455429716, 'reg_alpha': 9.46291843634629e-07, 'reg_lambda': 0.10155806083035476, 'max_depth': 6, 'num_leaves': 76, 'colsample_bytree': 0.4577832461702924, 'min_child_samples': 15, 'max_bin': 81, 'subsample_freq': 4}. Best is trial 244 with value: 0.15220364691183436.\n"
     ]
    },
    {
     "name": "stdout",
     "output_type": "stream",
     "text": [
      "Repeat \u001b[1m\u001b[34m#1\n"
     ]
    },
    {
     "name": "stderr",
     "output_type": "stream",
     "text": [
      "[I 2023-06-22 17:18:47,955] Trial 574 finished with value: 0.18657940631892717 and parameters: {'boosting_type': 'goss', 'learning_rate': 0.20509141110482965, 'reg_alpha': 4.736752613441287e-06, 'reg_lambda': 0.02350377841661463, 'max_depth': 5, 'num_leaves': 67, 'colsample_bytree': 0.40885825781882756, 'min_child_samples': 20, 'max_bin': 75, 'subsample_freq': 4}. Best is trial 244 with value: 0.15220364691183436.\n"
     ]
    },
    {
     "name": "stdout",
     "output_type": "stream",
     "text": [
      "Repeat \u001b[1m\u001b[34m#1\n"
     ]
    },
    {
     "name": "stderr",
     "output_type": "stream",
     "text": [
      "[I 2023-06-22 17:18:50,034] Trial 575 finished with value: 0.18692728532011355 and parameters: {'boosting_type': 'goss', 'learning_rate': 0.11155123938559004, 'reg_alpha': 8.710537048321846e-05, 'reg_lambda': 3.28000298013972e-05, 'max_depth': 5, 'num_leaves': 74, 'colsample_bytree': 0.3918700871707435, 'min_child_samples': 18, 'max_bin': 85, 'subsample_freq': 2}. Best is trial 244 with value: 0.15220364691183436.\n"
     ]
    },
    {
     "name": "stdout",
     "output_type": "stream",
     "text": [
      "Repeat \u001b[1m\u001b[34m#1\n"
     ]
    },
    {
     "name": "stderr",
     "output_type": "stream",
     "text": [
      "[I 2023-06-22 17:18:51,020] Trial 576 finished with value: 0.18567990853216074 and parameters: {'boosting_type': 'goss', 'learning_rate': 0.2979458053108971, 'reg_alpha': 4.178237910209378e-07, 'reg_lambda': 1.7272579305526418e-05, 'max_depth': 5, 'num_leaves': 83, 'colsample_bytree': 0.3751710300922714, 'min_child_samples': 13, 'max_bin': 65, 'subsample_freq': 4}. Best is trial 244 with value: 0.15220364691183436.\n"
     ]
    },
    {
     "name": "stdout",
     "output_type": "stream",
     "text": [
      "Repeat \u001b[1m\u001b[34m#1\n"
     ]
    },
    {
     "name": "stderr",
     "output_type": "stream",
     "text": [
      "[I 2023-06-22 17:19:11,666] Trial 577 finished with value: 0.321315417929533 and parameters: {'boosting_type': 'goss', 'learning_rate': 0.0007327437338730383, 'reg_alpha': 0.021468102051342024, 'reg_lambda': 0.0011055575483936186, 'max_depth': 5, 'num_leaves': 77, 'colsample_bytree': 0.5563713712183666, 'min_child_samples': 17, 'max_bin': 79, 'subsample_freq': 4}. Best is trial 244 with value: 0.15220364691183436.\n"
     ]
    },
    {
     "name": "stdout",
     "output_type": "stream",
     "text": [
      "Repeat \u001b[1m\u001b[34m#1\n"
     ]
    },
    {
     "name": "stderr",
     "output_type": "stream",
     "text": [
      "[I 2023-06-22 17:19:13,404] Trial 578 finished with value: 0.1847044063241686 and parameters: {'boosting_type': 'goss', 'learning_rate': 0.17230245556822574, 'reg_alpha': 0.0005721924067023446, 'reg_lambda': 0.004310828520833924, 'max_depth': 5, 'num_leaves': 70, 'colsample_bytree': 0.4151179965423239, 'min_child_samples': 15, 'max_bin': 72, 'subsample_freq': 4}. Best is trial 244 with value: 0.15220364691183436.\n"
     ]
    },
    {
     "name": "stdout",
     "output_type": "stream",
     "text": [
      "Repeat \u001b[1m\u001b[34m#1\n"
     ]
    },
    {
     "name": "stderr",
     "output_type": "stream",
     "text": [
      "[I 2023-06-22 17:19:48,483] Trial 579 finished with value: 0.53367843523968 and parameters: {'boosting_type': 'goss', 'learning_rate': 0.0002577219377140893, 'reg_alpha': 1.1823557738775171e-07, 'reg_lambda': 7.786282989364433e-05, 'max_depth': 6, 'num_leaves': 81, 'colsample_bytree': 0.4019349835359387, 'min_child_samples': 11, 'max_bin': 77, 'subsample_freq': 3}. Best is trial 244 with value: 0.15220364691183436.\n"
     ]
    },
    {
     "name": "stdout",
     "output_type": "stream",
     "text": [
      "Repeat \u001b[1m\u001b[34m#1\n"
     ]
    },
    {
     "name": "stderr",
     "output_type": "stream",
     "text": [
      "[I 2023-06-22 17:20:04,616] Trial 580 finished with value: 0.27635080835129305 and parameters: {'boosting_type': 'goss', 'learning_rate': 0.0012222254219186061, 'reg_alpha': 0.003747752880163619, 'reg_lambda': 0.627257823586505, 'max_depth': 5, 'num_leaves': 74, 'colsample_bytree': 0.48736288537158845, 'min_child_samples': 21, 'max_bin': 68, 'subsample_freq': 4}. Best is trial 244 with value: 0.15220364691183436.\n"
     ]
    },
    {
     "name": "stdout",
     "output_type": "stream",
     "text": [
      "Repeat \u001b[1m\u001b[34m#1\n"
     ]
    },
    {
     "name": "stderr",
     "output_type": "stream",
     "text": [
      "[I 2023-06-22 17:20:25,833] Trial 581 finished with value: 0.3000532796147548 and parameters: {'boosting_type': 'gbdt', 'learning_rate': 0.0013269445229493406, 'reg_alpha': 1.852348571260087e-05, 'reg_lambda': 0.0028431468350969204, 'max_depth': 4, 'num_leaves': 78, 'colsample_bytree': 0.5818046340536192, 'min_child_samples': 16, 'max_bin': 53, 'subsample_freq': 3, 'subsample': 0.36279305228379766}. Best is trial 244 with value: 0.15220364691183436.\n"
     ]
    },
    {
     "name": "stdout",
     "output_type": "stream",
     "text": [
      "Repeat \u001b[1m\u001b[34m#1\n"
     ]
    },
    {
     "name": "stderr",
     "output_type": "stream",
     "text": [
      "[I 2023-06-22 17:20:32,233] Trial 582 finished with value: 0.23455153864714393 and parameters: {'boosting_type': 'goss', 'learning_rate': 0.018308603371895302, 'reg_alpha': 1.4688391732484074e-06, 'reg_lambda': 0.0062886380663953224, 'max_depth': 5, 'num_leaves': 38, 'colsample_bytree': 0.44158659982862075, 'min_child_samples': 50, 'max_bin': 83, 'subsample_freq': 4}. Best is trial 244 with value: 0.15220364691183436.\n"
     ]
    },
    {
     "name": "stdout",
     "output_type": "stream",
     "text": [
      "Repeat \u001b[1m\u001b[34m#1\n"
     ]
    },
    {
     "name": "stderr",
     "output_type": "stream",
     "text": [
      "[I 2023-06-22 17:20:56,076] Trial 583 finished with value: 0.19971524983101974 and parameters: {'boosting_type': 'goss', 'learning_rate': 0.009309210190045516, 'reg_alpha': 7.069133075850097e-06, 'reg_lambda': 2.2088917557623895, 'max_depth': 5, 'num_leaves': 72, 'colsample_bytree': 0.4636729534922773, 'min_child_samples': 19, 'max_bin': 73, 'subsample_freq': 4}. Best is trial 244 with value: 0.15220364691183436.\n"
     ]
    },
    {
     "name": "stdout",
     "output_type": "stream",
     "text": [
      "Repeat \u001b[1m\u001b[34m#1\n"
     ]
    },
    {
     "name": "stderr",
     "output_type": "stream",
     "text": [
      "[I 2023-06-22 17:22:17,249] Trial 584 finished with value: 0.21204537347941302 and parameters: {'boosting_type': 'goss', 'learning_rate': 0.003225621398108457, 'reg_alpha': 8.564670692237783e-07, 'reg_lambda': 0.0005646876421914825, 'max_depth': 5, 'num_leaves': 63, 'colsample_bytree': 0.38434229846927154, 'min_child_samples': 13, 'max_bin': 63, 'subsample_freq': 4}. Best is trial 244 with value: 0.15220364691183436.\n"
     ]
    },
    {
     "name": "stdout",
     "output_type": "stream",
     "text": [
      "Repeat \u001b[1m\u001b[34m#1\n"
     ]
    },
    {
     "name": "stderr",
     "output_type": "stream",
     "text": [
      "[I 2023-06-22 17:22:41,151] Trial 585 finished with value: 0.2183791046556792 and parameters: {'boosting_type': 'goss', 'learning_rate': 0.0032193063576537785, 'reg_alpha': 3.3100264959359694e-05, 'reg_lambda': 0.0016891918049156205, 'max_depth': 5, 'num_leaves': 69, 'colsample_bytree': 0.5026925957837391, 'min_child_samples': 15, 'max_bin': 88, 'subsample_freq': 4}. Best is trial 244 with value: 0.15220364691183436.\n"
     ]
    },
    {
     "name": "stdout",
     "output_type": "stream",
     "text": [
      "Repeat \u001b[1m\u001b[34m#1\n"
     ]
    },
    {
     "name": "stderr",
     "output_type": "stream",
     "text": [
      "[I 2023-06-22 17:22:42,900] Trial 586 finished with value: 0.18351219577272096 and parameters: {'boosting_type': 'goss', 'learning_rate': 0.2205689890172915, 'reg_alpha': 2.498294868526183e-06, 'reg_lambda': 0.01028732839984976, 'max_depth': 6, 'num_leaves': 80, 'colsample_bytree': 0.35073516287778844, 'min_child_samples': 17, 'max_bin': 94, 'subsample_freq': 4}. Best is trial 244 with value: 0.15220364691183436.\n"
     ]
    },
    {
     "name": "stdout",
     "output_type": "stream",
     "text": [
      "Repeat \u001b[1m\u001b[34m#1\n"
     ]
    },
    {
     "name": "stderr",
     "output_type": "stream",
     "text": [
      "[I 2023-06-22 17:22:44,503] Trial 587 finished with value: 0.21722072213879715 and parameters: {'boosting_type': 'goss', 'learning_rate': 0.12742125932291776, 'reg_alpha': 5.598612832571426e-07, 'reg_lambda': 0.0027294366797746827, 'max_depth': 5, 'num_leaves': 74, 'colsample_bytree': 0.3962259114028154, 'min_child_samples': 36, 'max_bin': 240, 'subsample_freq': 4}. Best is trial 244 with value: 0.15220364691183436.\n"
     ]
    },
    {
     "name": "stdout",
     "output_type": "stream",
     "text": [
      "Repeat \u001b[1m\u001b[34m#1\n"
     ]
    },
    {
     "name": "stderr",
     "output_type": "stream",
     "text": [
      "[I 2023-06-22 17:23:23,319] Trial 588 finished with value: 0.22605878630781537 and parameters: {'boosting_type': 'goss', 'learning_rate': 0.0025731228846993825, 'reg_alpha': 2.882803256931136e-07, 'reg_lambda': 0.00023016943572627089, 'max_depth': 5, 'num_leaves': 77, 'colsample_bytree': 0.40788140829675845, 'min_child_samples': 9, 'max_bin': 78, 'subsample_freq': 4}. Best is trial 244 with value: 0.15220364691183436.\n"
     ]
    },
    {
     "name": "stdout",
     "output_type": "stream",
     "text": [
      "Repeat \u001b[1m\u001b[34m#1\n"
     ]
    },
    {
     "name": "stderr",
     "output_type": "stream",
     "text": [
      "[I 2023-06-22 17:24:18,026] Trial 589 finished with value: 0.4446625630135464 and parameters: {'boosting_type': 'goss', 'learning_rate': 0.0003457353124278529, 'reg_alpha': 1.1583215568550761e-05, 'reg_lambda': 0.0007609096578123839, 'max_depth': 5, 'num_leaves': 72, 'colsample_bytree': 0.5293903497105635, 'min_child_samples': 24, 'max_bin': 58, 'subsample_freq': 4}. Best is trial 244 with value: 0.15220364691183436.\n"
     ]
    },
    {
     "name": "stdout",
     "output_type": "stream",
     "text": [
      "Repeat \u001b[1m\u001b[34m#1\n"
     ]
    },
    {
     "name": "stderr",
     "output_type": "stream",
     "text": [
      "[I 2023-06-22 17:24:19,817] Trial 590 finished with value: 0.18383612016329287 and parameters: {'boosting_type': 'goss', 'learning_rate': 0.18731752051713382, 'reg_alpha': 1.876555282236669e-07, 'reg_lambda': 0.07096769793227817, 'max_depth': 6, 'num_leaves': 67, 'colsample_bytree': 0.4203668758535659, 'min_child_samples': 14, 'max_bin': 69, 'subsample_freq': 3}. Best is trial 244 with value: 0.15220364691183436.\n"
     ]
    },
    {
     "name": "stdout",
     "output_type": "stream",
     "text": [
      "Repeat \u001b[1m\u001b[34m#1\n"
     ]
    },
    {
     "name": "stderr",
     "output_type": "stream",
     "text": [
      "[I 2023-06-22 17:24:21,230] Trial 591 finished with value: 0.19670296426772182 and parameters: {'boosting_type': 'goss', 'learning_rate': 0.09043820758530341, 'reg_alpha': 3.845482381802076e-06, 'reg_lambda': 2.0725184467444355e-06, 'max_depth': 5, 'num_leaves': 76, 'colsample_bytree': 0.43083871225703885, 'min_child_samples': 20, 'max_bin': 75, 'subsample_freq': 4}. Best is trial 244 with value: 0.15220364691183436.\n"
     ]
    },
    {
     "name": "stdout",
     "output_type": "stream",
     "text": [
      "Repeat \u001b[1m\u001b[34m#1\n"
     ]
    },
    {
     "name": "stderr",
     "output_type": "stream",
     "text": [
      "[I 2023-06-22 17:24:22,310] Trial 592 finished with value: 0.21276612124271546 and parameters: {'boosting_type': 'goss', 'learning_rate': 0.23988521879535527, 'reg_alpha': 8.617725259675667e-08, 'reg_lambda': 0.0011959374320786337, 'max_depth': 5, 'num_leaves': 79, 'colsample_bytree': 0.3873986623922555, 'min_child_samples': 12, 'max_bin': 38, 'subsample_freq': 4}. Best is trial 244 with value: 0.15220364691183436.\n"
     ]
    },
    {
     "name": "stdout",
     "output_type": "stream",
     "text": [
      "Repeat \u001b[1m\u001b[34m#1\n"
     ]
    },
    {
     "name": "stderr",
     "output_type": "stream",
     "text": [
      "[I 2023-06-22 17:25:46,950] Trial 593 finished with value: 0.29347177226508325 and parameters: {'boosting_type': 'goss', 'learning_rate': 0.0011015494919179509, 'reg_alpha': 1.2978917762348237e-06, 'reg_lambda': 1.5486636151601583, 'max_depth': 5, 'num_leaves': 70, 'colsample_bytree': 0.4004332083497215, 'min_child_samples': 18, 'max_bin': 83, 'subsample_freq': 4}. Best is trial 244 with value: 0.15220364691183436.\n"
     ]
    },
    {
     "name": "stdout",
     "output_type": "stream",
     "text": [
      "Repeat \u001b[1m\u001b[34m#1\n"
     ]
    },
    {
     "name": "stderr",
     "output_type": "stream",
     "text": [
      "[I 2023-06-22 17:25:49,275] Trial 594 finished with value: 0.19909785231878108 and parameters: {'boosting_type': 'goss', 'learning_rate': 0.052568277933290136, 'reg_alpha': 2.0131174731256993e-06, 'reg_lambda': 3.357250249296742e-07, 'max_depth': 5, 'num_leaves': 82, 'colsample_bytree': 0.3116276462747104, 'min_child_samples': 16, 'max_bin': 80, 'subsample_freq': 4}. Best is trial 244 with value: 0.15220364691183436.\n"
     ]
    },
    {
     "name": "stdout",
     "output_type": "stream",
     "text": [
      "Repeat \u001b[1m\u001b[34m#1\n"
     ]
    },
    {
     "name": "stderr",
     "output_type": "stream",
     "text": [
      "[I 2023-06-22 17:26:26,427] Trial 595 finished with value: 0.22974548478362186 and parameters: {'boosting_type': 'goss', 'learning_rate': 0.002350125370603803, 'reg_alpha': 5.2166674643404396e-05, 'reg_lambda': 0.23270025017308607, 'max_depth': 7, 'num_leaves': 74, 'colsample_bytree': 0.37910024921908275, 'min_child_samples': 14, 'max_bin': 72, 'subsample_freq': 4}. Best is trial 244 with value: 0.15220364691183436.\n"
     ]
    },
    {
     "name": "stdout",
     "output_type": "stream",
     "text": [
      "Repeat \u001b[1m\u001b[34m#1\n"
     ]
    },
    {
     "name": "stderr",
     "output_type": "stream",
     "text": [
      "[I 2023-06-22 17:26:27,857] Trial 596 finished with value: 0.1951607721631127 and parameters: {'boosting_type': 'goss', 'learning_rate': 0.177000718718853, 'reg_alpha': 1.5880708875758946e-08, 'reg_lambda': 0.004187250162184955, 'max_depth': 5, 'num_leaves': 77, 'colsample_bytree': 0.4139812652561554, 'min_child_samples': 10, 'max_bin': 86, 'subsample_freq': 3}. Best is trial 244 with value: 0.15220364691183436.\n"
     ]
    },
    {
     "name": "stdout",
     "output_type": "stream",
     "text": [
      "Repeat \u001b[1m\u001b[34m#1\n"
     ]
    },
    {
     "name": "stderr",
     "output_type": "stream",
     "text": [
      "[I 2023-06-22 17:26:38,066] Trial 597 finished with value: 0.353716359184408 and parameters: {'boosting_type': 'goss', 'learning_rate': 0.001801540347270058, 'reg_alpha': 0.32787454092598756, 'reg_lambda': 0.0021788756929894426, 'max_depth': 5, 'num_leaves': 72, 'colsample_bytree': 0.36905026995576845, 'min_child_samples': 61, 'max_bin': 67, 'subsample_freq': 4}. Best is trial 244 with value: 0.15220364691183436.\n"
     ]
    },
    {
     "name": "stdout",
     "output_type": "stream",
     "text": [
      "Repeat \u001b[1m\u001b[34m#1\n"
     ]
    },
    {
     "name": "stderr",
     "output_type": "stream",
     "text": [
      "[I 2023-06-22 17:26:39,633] Trial 598 finished with value: 0.1883313335782032 and parameters: {'boosting_type': 'goss', 'learning_rate': 0.14076491244318975, 'reg_alpha': 0.009056041846051697, 'reg_lambda': 0.0003734226159597841, 'max_depth': 5, 'num_leaves': 75, 'colsample_bytree': 0.39440669823070457, 'min_child_samples': 19, 'max_bin': 76, 'subsample_freq': 4}. Best is trial 244 with value: 0.15220364691183436.\n"
     ]
    },
    {
     "name": "stdout",
     "output_type": "stream",
     "text": [
      "Repeat \u001b[1m\u001b[34m#1\n"
     ]
    },
    {
     "name": "stderr",
     "output_type": "stream",
     "text": [
      "[I 2023-06-22 17:26:40,283] Trial 599 finished with value: 0.4943395199082227 and parameters: {'boosting_type': 'goss', 'learning_rate': 0.25880676682852044, 'reg_alpha': 0.0015054822604167728, 'reg_lambda': 1.0459947005947627e-06, 'max_depth': 5, 'num_leaves': 86, 'colsample_bytree': 0.40660992703167775, 'min_child_samples': 91, 'max_bin': 80, 'subsample_freq': 4}. Best is trial 244 with value: 0.15220364691183436.\n"
     ]
    },
    {
     "name": "stdout",
     "output_type": "stream",
     "text": [
      "Repeat \u001b[1m\u001b[34m#1\n"
     ]
    },
    {
     "name": "stderr",
     "output_type": "stream",
     "text": [
      "[I 2023-06-22 17:26:47,138] Trial 600 finished with value: 0.20052400744235496 and parameters: {'boosting_type': 'goss', 'learning_rate': 0.2099001943680342, 'reg_alpha': 0.9490918724682482, 'reg_lambda': 0.04699211580957705, 'max_depth': 6, 'num_leaves': 80, 'colsample_bytree': 0.49290757085236137, 'min_child_samples': 22, 'max_bin': 61, 'subsample_freq': 5}. Best is trial 244 with value: 0.15220364691183436.\n"
     ]
    },
    {
     "name": "stdout",
     "output_type": "stream",
     "text": [
      "Repeat \u001b[1m\u001b[34m#1\n"
     ]
    },
    {
     "name": "stderr",
     "output_type": "stream",
     "text": [
      "[I 2023-06-22 17:27:13,271] Trial 601 finished with value: 0.7091954389964508 and parameters: {'boosting_type': 'gbdt', 'learning_rate': 0.00010121102816517439, 'reg_alpha': 0.002915970120032967, 'reg_lambda': 8.953847247740656e-06, 'max_depth': 5, 'num_leaves': 19, 'colsample_bytree': 0.42369967634726907, 'min_child_samples': 12, 'max_bin': 92, 'subsample_freq': 4, 'subsample': 0.6343937471884321}. Best is trial 244 with value: 0.15220364691183436.\n"
     ]
    },
    {
     "name": "stdout",
     "output_type": "stream",
     "text": [
      "Repeat \u001b[1m\u001b[34m#1\n"
     ]
    },
    {
     "name": "stderr",
     "output_type": "stream",
     "text": [
      "[I 2023-06-22 17:27:36,819] Trial 602 finished with value: 0.2004717527102416 and parameters: {'boosting_type': 'goss', 'learning_rate': 0.0052605363027764225, 'reg_alpha': 4.976882659607813e-07, 'reg_lambda': 0.005948400720234689, 'max_depth': 5, 'num_leaves': 84, 'colsample_bytree': 0.36331752040026466, 'min_child_samples': 16, 'max_bin': 71, 'subsample_freq': 4}. Best is trial 244 with value: 0.15220364691183436.\n"
     ]
    },
    {
     "name": "stdout",
     "output_type": "stream",
     "text": [
      "Repeat \u001b[1m\u001b[34m#1\n"
     ]
    },
    {
     "name": "stderr",
     "output_type": "stream",
     "text": [
      "[I 2023-06-22 17:27:38,314] Trial 603 finished with value: 0.20718940911724365 and parameters: {'boosting_type': 'goss', 'learning_rate': 0.16331067925231657, 'reg_alpha': 5.329845596863238e-06, 'reg_lambda': 0.012608468143708022, 'max_depth': 5, 'num_leaves': 69, 'colsample_bytree': 0.5025710025546388, 'min_child_samples': 26, 'max_bin': 85, 'subsample_freq': 3}. Best is trial 244 with value: 0.15220364691183436.\n"
     ]
    },
    {
     "name": "stdout",
     "output_type": "stream",
     "text": [
      "Repeat \u001b[1m\u001b[34m#1\n"
     ]
    },
    {
     "name": "stderr",
     "output_type": "stream",
     "text": [
      "[I 2023-06-22 17:28:14,152] Trial 604 finished with value: 0.20876423232122637 and parameters: {'boosting_type': 'goss', 'learning_rate': 0.003787300206386547, 'reg_alpha': 3.3320928090067087e-07, 'reg_lambda': 0.14222858068671915, 'max_depth': 5, 'num_leaves': 73, 'colsample_bytree': 0.5201384606572604, 'min_child_samples': 17, 'max_bin': 76, 'subsample_freq': 4}. Best is trial 244 with value: 0.15220364691183436.\n"
     ]
    },
    {
     "name": "stdout",
     "output_type": "stream",
     "text": [
      "Repeat \u001b[1m\u001b[34m#1\n"
     ]
    },
    {
     "name": "stderr",
     "output_type": "stream",
     "text": [
      "[I 2023-06-22 17:28:15,548] Trial 605 finished with value: 0.1987114774940523 and parameters: {'boosting_type': 'goss', 'learning_rate': 0.2225570179565918, 'reg_alpha': 0.0003494116450435373, 'reg_lambda': 5.295791619301565e-07, 'max_depth': 6, 'num_leaves': 90, 'colsample_bytree': 0.43712044937581795, 'min_child_samples': 14, 'max_bin': 66, 'subsample_freq': 4}. Best is trial 244 with value: 0.15220364691183436.\n"
     ]
    },
    {
     "name": "stdout",
     "output_type": "stream",
     "text": [
      "Repeat \u001b[1m\u001b[34m#1\n"
     ]
    },
    {
     "name": "stderr",
     "output_type": "stream",
     "text": [
      "[I 2023-06-22 17:28:16,892] Trial 606 finished with value: 0.19956406408448096 and parameters: {'boosting_type': 'goss', 'learning_rate': 0.1524721207674993, 'reg_alpha': 1.019785001043147e-06, 'reg_lambda': 0.00015071242815134338, 'max_depth': 4, 'num_leaves': 65, 'colsample_bytree': 0.4020713990000409, 'min_child_samples': 7, 'max_bin': 104, 'subsample_freq': 3}. Best is trial 244 with value: 0.15220364691183436.\n"
     ]
    },
    {
     "name": "stdout",
     "output_type": "stream",
     "text": [
      "Repeat \u001b[1m\u001b[34m#1\n"
     ]
    },
    {
     "name": "stderr",
     "output_type": "stream",
     "text": [
      "[I 2023-06-22 17:29:02,217] Trial 607 finished with value: 0.21631287573871458 and parameters: {'boosting_type': 'goss', 'learning_rate': 0.0029378130634529253, 'reg_alpha': 6.93279764360832e-07, 'reg_lambda': 0.0035024087263617835, 'max_depth': 5, 'num_leaves': 77, 'colsample_bytree': 0.6796926511507725, 'min_child_samples': 20, 'max_bin': 81, 'subsample_freq': 4}. Best is trial 244 with value: 0.15220364691183436.\n"
     ]
    },
    {
     "name": "stdout",
     "output_type": "stream",
     "text": [
      "Repeat \u001b[1m\u001b[34m#1\n"
     ]
    },
    {
     "name": "stderr",
     "output_type": "stream",
     "text": [
      "[I 2023-06-22 17:29:03,218] Trial 608 finished with value: 0.18381651882091934 and parameters: {'boosting_type': 'goss', 'learning_rate': 0.2658245162526481, 'reg_alpha': 0.0009461511955687812, 'reg_lambda': 3.478910745211852e-08, 'max_depth': 5, 'num_leaves': 71, 'colsample_bytree': 0.41501137409698563, 'min_child_samples': 12, 'max_bin': 73, 'subsample_freq': 4}. Best is trial 244 with value: 0.15220364691183436.\n"
     ]
    },
    {
     "name": "stdout",
     "output_type": "stream",
     "text": [
      "Repeat \u001b[1m\u001b[34m#1\n"
     ]
    },
    {
     "name": "stderr",
     "output_type": "stream",
     "text": [
      "[I 2023-06-22 17:29:30,307] Trial 609 finished with value: 0.20264333567076268 and parameters: {'boosting_type': 'goss', 'learning_rate': 0.034723485612315426, 'reg_alpha': 0.0852181065260574, 'reg_lambda': 0.0014100736361725176, 'max_depth': 5, 'num_leaves': 55, 'colsample_bytree': 0.3878855509255264, 'min_child_samples': 15, 'max_bin': 97, 'subsample_freq': 2}. Best is trial 244 with value: 0.15220364691183436.\n"
     ]
    },
    {
     "name": "stdout",
     "output_type": "stream",
     "text": [
      "Repeat \u001b[1m\u001b[34m#1\n"
     ]
    },
    {
     "name": "stderr",
     "output_type": "stream",
     "text": [
      "[I 2023-06-22 17:29:31,984] Trial 610 finished with value: 0.184807866870456 and parameters: {'boosting_type': 'goss', 'learning_rate': 0.19576000418652148, 'reg_alpha': 2.4429268469584243e-05, 'reg_lambda': 6.222299755220035e-06, 'max_depth': 5, 'num_leaves': 79, 'colsample_bytree': 0.47454953405911005, 'min_child_samples': 17, 'max_bin': 142, 'subsample_freq': 4}. Best is trial 244 with value: 0.15220364691183436.\n"
     ]
    },
    {
     "name": "stdout",
     "output_type": "stream",
     "text": [
      "Repeat \u001b[1m\u001b[34m#1\n"
     ]
    },
    {
     "name": "stderr",
     "output_type": "stream",
     "text": [
      "[I 2023-06-22 17:29:53,927] Trial 611 finished with value: 0.19885444666713503 and parameters: {'boosting_type': 'goss', 'learning_rate': 0.013679324873800244, 'reg_alpha': 1.0003529250771102e-05, 'reg_lambda': 6.503560210160316e-05, 'max_depth': 5, 'num_leaves': 75, 'colsample_bytree': 0.6637541795629055, 'min_child_samples': 18, 'max_bin': 88, 'subsample_freq': 4}. Best is trial 244 with value: 0.15220364691183436.\n"
     ]
    },
    {
     "name": "stdout",
     "output_type": "stream",
     "text": [
      "Repeat \u001b[1m\u001b[34m#1\n"
     ]
    },
    {
     "name": "stderr",
     "output_type": "stream",
     "text": [
      "[I 2023-06-22 17:29:58,791] Trial 612 finished with value: 0.19056492977402562 and parameters: {'boosting_type': 'goss', 'learning_rate': 0.1185448164399366, 'reg_alpha': 3.0906014370744065e-06, 'reg_lambda': 0.007532938533355604, 'max_depth': 5, 'num_leaves': 68, 'colsample_bytree': 0.4536706064342059, 'min_child_samples': 22, 'max_bin': 78, 'subsample_freq': 3}. Best is trial 244 with value: 0.15220364691183436.\n"
     ]
    },
    {
     "name": "stdout",
     "output_type": "stream",
     "text": [
      "Repeat \u001b[1m\u001b[34m#1\n"
     ]
    },
    {
     "name": "stderr",
     "output_type": "stream",
     "text": [
      "[I 2023-06-22 17:30:01,869] Trial 613 finished with value: 0.21849992541143892 and parameters: {'boosting_type': 'goss', 'learning_rate': 0.29870366636881235, 'reg_alpha': 0.001896231144437502, 'reg_lambda': 0.0008235274706761087, 'max_depth': 5, 'num_leaves': 81, 'colsample_bytree': 0.6369782723142581, 'min_child_samples': 11, 'max_bin': 70, 'subsample_freq': 4}. Best is trial 244 with value: 0.15220364691183436.\n"
     ]
    },
    {
     "name": "stdout",
     "output_type": "stream",
     "text": [
      "Repeat \u001b[1m\u001b[34m#1\n"
     ]
    },
    {
     "name": "stderr",
     "output_type": "stream",
     "text": [
      "[I 2023-06-22 17:30:57,068] Trial 614 finished with value: 0.2527195283473198 and parameters: {'boosting_type': 'goss', 'learning_rate': 0.0015211917665686769, 'reg_alpha': 1.624457684323868e-06, 'reg_lambda': 2.0182647640169402e-07, 'max_depth': 7, 'num_leaves': 73, 'colsample_bytree': 0.40740296987284924, 'min_child_samples': 14, 'max_bin': 75, 'subsample_freq': 4}. Best is trial 244 with value: 0.15220364691183436.\n"
     ]
    },
    {
     "name": "stdout",
     "output_type": "stream",
     "text": [
      "Repeat \u001b[1m\u001b[34m#1\n"
     ]
    },
    {
     "name": "stderr",
     "output_type": "stream",
     "text": [
      "[I 2023-06-22 17:31:28,098] Trial 615 finished with value: 0.4946273369663825 and parameters: {'boosting_type': 'goss', 'learning_rate': 0.0002723727829231235, 'reg_alpha': 0.0001122439329203602, 'reg_lambda': 0.0023898212913824645, 'max_depth': 6, 'num_leaves': 62, 'colsample_bytree': 0.5737795525948084, 'min_child_samples': 19, 'max_bin': 83, 'subsample_freq': 4}. Best is trial 244 with value: 0.15220364691183436.\n"
     ]
    },
    {
     "name": "stdout",
     "output_type": "stream",
     "text": [
      "Repeat \u001b[1m\u001b[34m#1\n"
     ]
    },
    {
     "name": "stderr",
     "output_type": "stream",
     "text": [
      "[I 2023-06-22 17:31:29,228] Trial 616 finished with value: 0.2876774053516213 and parameters: {'boosting_type': 'goss', 'learning_rate': 0.23333443165721016, 'reg_alpha': 0.004611653217586736, 'reg_lambda': 0.00046136349319161267, 'max_depth': 5, 'num_leaves': 76, 'colsample_bytree': 0.3946536448985755, 'min_child_samples': 78, 'max_bin': 63, 'subsample_freq': 4}. Best is trial 244 with value: 0.15220364691183436.\n"
     ]
    },
    {
     "name": "stdout",
     "output_type": "stream",
     "text": [
      "Repeat \u001b[1m\u001b[34m#1\n"
     ]
    },
    {
     "name": "stderr",
     "output_type": "stream",
     "text": [
      "[I 2023-06-22 17:31:31,004] Trial 617 finished with value: 0.20762199886921356 and parameters: {'boosting_type': 'goss', 'learning_rate': 0.16896688559048445, 'reg_alpha': 3.227350503751833, 'reg_lambda': 6.627989871301653e-07, 'max_depth': 5, 'num_leaves': 78, 'colsample_bytree': 0.3794111107960474, 'min_child_samples': 15, 'max_bin': 69, 'subsample_freq': 6}. Best is trial 244 with value: 0.15220364691183436.\n"
     ]
    },
    {
     "name": "stdout",
     "output_type": "stream",
     "text": [
      "Repeat \u001b[1m\u001b[34m#1\n"
     ]
    },
    {
     "name": "stderr",
     "output_type": "stream",
     "text": [
      "[I 2023-06-22 17:31:33,481] Trial 618 finished with value: 0.18984207030183137 and parameters: {'boosting_type': 'goss', 'learning_rate': 0.09710900786954998, 'reg_alpha': 6.101882363095558e-06, 'reg_lambda': 0.00010646161188625444, 'max_depth': 8, 'num_leaves': 71, 'colsample_bytree': 0.415796290970352, 'min_child_samples': 13, 'max_bin': 79, 'subsample_freq': 4}. Best is trial 244 with value: 0.15220364691183436.\n"
     ]
    },
    {
     "name": "stdout",
     "output_type": "stream",
     "text": [
      "Repeat \u001b[1m\u001b[34m#1\n"
     ]
    },
    {
     "name": "stderr",
     "output_type": "stream",
     "text": [
      "[I 2023-06-22 17:31:54,464] Trial 619 finished with value: 0.20574879273301128 and parameters: {'boosting_type': 'goss', 'learning_rate': 0.02564825155867928, 'reg_alpha': 1.7119168263171908e-07, 'reg_lambda': 0.004483559845515648, 'max_depth': 5, 'num_leaves': 84, 'colsample_bytree': 0.4303433517347716, 'min_child_samples': 9, 'max_bin': 90, 'subsample_freq': 4}. Best is trial 244 with value: 0.15220364691183436.\n"
     ]
    },
    {
     "name": "stdout",
     "output_type": "stream",
     "text": [
      "Repeat \u001b[1m\u001b[34m#1\n"
     ]
    },
    {
     "name": "stderr",
     "output_type": "stream",
     "text": [
      "[I 2023-06-22 17:32:01,291] Trial 620 finished with value: 0.21152030837380975 and parameters: {'boosting_type': 'gbdt', 'learning_rate': 0.19505163281236215, 'reg_alpha': 7.273215504809837e-07, 'reg_lambda': 1.4212231444039991e-05, 'max_depth': 5, 'num_leaves': 74, 'colsample_bytree': 0.3532083359519088, 'min_child_samples': 17, 'max_bin': 56, 'subsample_freq': 4, 'subsample': 0.6825007031404848}. Best is trial 244 with value: 0.15220364691183436.\n"
     ]
    },
    {
     "name": "stdout",
     "output_type": "stream",
     "text": [
      "Repeat \u001b[1m\u001b[34m#1\n"
     ]
    },
    {
     "name": "stderr",
     "output_type": "stream",
     "text": [
      "[I 2023-06-22 17:32:02,969] Trial 621 finished with value: 0.19054777083539742 and parameters: {'boosting_type': 'goss', 'learning_rate': 0.14041027494823954, 'reg_alpha': 0.0006398612312245524, 'reg_lambda': 0.018925242822626923, 'max_depth': 5, 'num_leaves': 81, 'colsample_bytree': 0.3435001703276763, 'min_child_samples': 21, 'max_bin': 73, 'subsample_freq': 4}. Best is trial 244 with value: 0.15220364691183436.\n"
     ]
    },
    {
     "name": "stdout",
     "output_type": "stream",
     "text": [
      "Repeat \u001b[1m\u001b[34m#1\n"
     ]
    },
    {
     "name": "stderr",
     "output_type": "stream",
     "text": [
      "[I 2023-06-22 17:32:24,977] Trial 622 finished with value: 0.2568803697473179 and parameters: {'boosting_type': 'goss', 'learning_rate': 0.0019795713431998777, 'reg_alpha': 0.00019142391172513053, 'reg_lambda': 4.143106145433282, 'max_depth': 5, 'num_leaves': 67, 'colsample_bytree': 0.40250487576458194, 'min_child_samples': 16, 'max_bin': 85, 'subsample_freq': 3}. Best is trial 244 with value: 0.15220364691183436.\n"
     ]
    },
    {
     "name": "stdout",
     "output_type": "stream",
     "text": [
      "Repeat \u001b[1m\u001b[34m#1\n"
     ]
    },
    {
     "name": "stderr",
     "output_type": "stream",
     "text": [
      "[I 2023-06-22 17:32:27,691] Trial 623 finished with value: 0.1830400200311919 and parameters: {'boosting_type': 'goss', 'learning_rate': 0.07355970834762378, 'reg_alpha': 1.6213901565097804e-05, 'reg_lambda': 4.245034807768299e-05, 'max_depth': 4, 'num_leaves': 78, 'colsample_bytree': 0.39389694843236306, 'min_child_samples': 13, 'max_bin': 66, 'subsample_freq': 4}. Best is trial 244 with value: 0.15220364691183436.\n"
     ]
    },
    {
     "name": "stdout",
     "output_type": "stream",
     "text": [
      "Repeat \u001b[1m\u001b[34m#1\n"
     ]
    },
    {
     "name": "stderr",
     "output_type": "stream",
     "text": [
      "[I 2023-06-22 17:32:28,968] Trial 624 finished with value: 0.24488895467663183 and parameters: {'boosting_type': 'goss', 'learning_rate': 0.2289033759281709, 'reg_alpha': 1.6067633569153745, 'reg_lambda': 3.7664820966317046e-06, 'max_depth': 6, 'num_leaves': 70, 'colsample_bytree': 0.44601430188737606, 'min_child_samples': 5, 'max_bin': 81, 'subsample_freq': 4}. Best is trial 244 with value: 0.15220364691183436.\n"
     ]
    },
    {
     "name": "stdout",
     "output_type": "stream",
     "text": [
      "Repeat \u001b[1m\u001b[34m#1\n"
     ]
    },
    {
     "name": "stderr",
     "output_type": "stream",
     "text": [
      "[I 2023-06-22 17:32:31,099] Trial 625 finished with value: 0.19139657302090232 and parameters: {'boosting_type': 'goss', 'learning_rate': 0.18212944915492243, 'reg_alpha': 2.3090414740914056e-06, 'reg_lambda': 0.001674792722598158, 'max_depth': 5, 'num_leaves': 74, 'colsample_bytree': 0.3744352744410617, 'min_child_samples': 19, 'max_bin': 151, 'subsample_freq': 1}. Best is trial 244 with value: 0.15220364691183436.\n"
     ]
    },
    {
     "name": "stdout",
     "output_type": "stream",
     "text": [
      "Repeat \u001b[1m\u001b[34m#1\n"
     ]
    },
    {
     "name": "stderr",
     "output_type": "stream",
     "text": [
      "[I 2023-06-22 17:32:33,193] Trial 626 finished with value: 0.19420536642310093 and parameters: {'boosting_type': 'goss', 'learning_rate': 0.25114151787580813, 'reg_alpha': 1.0169563362281387e-08, 'reg_lambda': 0.00026390528316621236, 'max_depth': 5, 'num_leaves': 77, 'colsample_bytree': 0.478115182373863, 'min_child_samples': 11, 'max_bin': 76, 'subsample_freq': 4}. Best is trial 244 with value: 0.15220364691183436.\n"
     ]
    },
    {
     "name": "stdout",
     "output_type": "stream",
     "text": [
      "Repeat \u001b[1m\u001b[34m#1\n"
     ]
    },
    {
     "name": "stderr",
     "output_type": "stream",
     "text": [
      "[I 2023-06-22 17:32:36,644] Trial 627 finished with value: 0.18073579998880257 and parameters: {'boosting_type': 'goss', 'learning_rate': 0.1562372536131237, 'reg_alpha': 4.2712424050991e-07, 'reg_lambda': 0.7077105903597822, 'max_depth': 5, 'num_leaves': 75, 'colsample_bytree': 0.42284543767211935, 'min_child_samples': 24, 'max_bin': 174, 'subsample_freq': 5}. Best is trial 244 with value: 0.15220364691183436.\n"
     ]
    },
    {
     "name": "stdout",
     "output_type": "stream",
     "text": [
      "Repeat \u001b[1m\u001b[34m#1\n"
     ]
    },
    {
     "name": "stderr",
     "output_type": "stream",
     "text": [
      "[I 2023-06-22 17:32:38,310] Trial 628 finished with value: 0.18529296728008798 and parameters: {'boosting_type': 'goss', 'learning_rate': 0.29908220432615185, 'reg_alpha': 1.3404366632074998e-06, 'reg_lambda': 0.0011208027412403603, 'max_depth': 5, 'num_leaves': 72, 'colsample_bytree': 0.6548589310569165, 'min_child_samples': 15, 'max_bin': 71, 'subsample_freq': 4}. Best is trial 244 with value: 0.15220364691183436.\n"
     ]
    },
    {
     "name": "stdout",
     "output_type": "stream",
     "text": [
      "Repeat \u001b[1m\u001b[34m#1\n"
     ]
    },
    {
     "name": "stderr",
     "output_type": "stream",
     "text": [
      "[I 2023-06-22 17:32:49,142] Trial 629 finished with value: 0.1987092978229283 and parameters: {'boosting_type': 'goss', 'learning_rate': 0.009832709588282619, 'reg_alpha': 3.123223883793339e-08, 'reg_lambda': 0.009649624121986661, 'max_depth': 5, 'num_leaves': 83, 'colsample_bytree': 0.409042431326149, 'min_child_samples': 18, 'max_bin': 61, 'subsample_freq': 4}. Best is trial 244 with value: 0.15220364691183436.\n"
     ]
    },
    {
     "name": "stdout",
     "output_type": "stream",
     "text": [
      "Repeat \u001b[1m\u001b[34m#1\n"
     ]
    },
    {
     "name": "stderr",
     "output_type": "stream",
     "text": [
      "[I 2023-06-22 17:32:51,022] Trial 630 finished with value: 0.19517712674618215 and parameters: {'boosting_type': 'goss', 'learning_rate': 0.1997953161675689, 'reg_alpha': 4.086986105820433e-06, 'reg_lambda': 0.003430030071799058, 'max_depth': 6, 'num_leaves': 88, 'colsample_bytree': 0.39783251786074963, 'min_child_samples': 13, 'max_bin': 50, 'subsample_freq': 3}. Best is trial 244 with value: 0.15220364691183436.\n"
     ]
    },
    {
     "name": "stdout",
     "output_type": "stream",
     "text": [
      "Repeat \u001b[1m\u001b[34m#1\n"
     ]
    },
    {
     "name": "stderr",
     "output_type": "stream",
     "text": [
      "[I 2023-06-22 17:33:22,910] Trial 631 finished with value: 0.302827032963657 and parameters: {'boosting_type': 'goss', 'learning_rate': 0.0009395797997414672, 'reg_alpha': 2.614629544125247e-07, 'reg_lambda': 0.42577417506659704, 'max_depth': 5, 'num_leaves': 79, 'colsample_bytree': 0.3850805402756149, 'min_child_samples': 16, 'max_bin': 77, 'subsample_freq': 4}. Best is trial 244 with value: 0.15220364691183436.\n"
     ]
    },
    {
     "name": "stdout",
     "output_type": "stream",
     "text": [
      "Repeat \u001b[1m\u001b[34m#1\n"
     ]
    },
    {
     "name": "stderr",
     "output_type": "stream",
     "text": [
      "[I 2023-06-22 17:33:25,932] Trial 632 finished with value: 0.19913790937031267 and parameters: {'boosting_type': 'goss', 'learning_rate': 0.1252950499678157, 'reg_alpha': 0.00042631616503402636, 'reg_lambda': 0.005764960055927525, 'max_depth': 5, 'num_leaves': 70, 'colsample_bytree': 0.4123620283498206, 'min_child_samples': 10, 'max_bin': 85, 'subsample_freq': 4}. Best is trial 244 with value: 0.15220364691183436.\n"
     ]
    },
    {
     "name": "stdout",
     "output_type": "stream",
     "text": [
      "Repeat \u001b[1m\u001b[34m#1\n"
     ]
    },
    {
     "name": "stderr",
     "output_type": "stream",
     "text": [
      "[I 2023-06-22 17:33:30,323] Trial 633 finished with value: 0.19757645838957838 and parameters: {'boosting_type': 'goss', 'learning_rate': 0.028837838184658883, 'reg_alpha': 6.544975838889386e-05, 'reg_lambda': 0.002085887715943398, 'max_depth': 5, 'num_leaves': 76, 'colsample_bytree': 0.6187703426199789, 'min_child_samples': 33, 'max_bin': 67, 'subsample_freq': 4}. Best is trial 244 with value: 0.15220364691183436.\n"
     ]
    },
    {
     "name": "stdout",
     "output_type": "stream",
     "text": [
      "Repeat \u001b[1m\u001b[34m#1\n"
     ]
    },
    {
     "name": "stderr",
     "output_type": "stream",
     "text": [
      "[I 2023-06-22 17:33:31,471] Trial 634 finished with value: 0.2066217988139806 and parameters: {'boosting_type': 'goss', 'learning_rate': 0.21492211944285022, 'reg_alpha': 2.6283912633772, 'reg_lambda': 1.7296661669475765e-07, 'max_depth': 5, 'num_leaves': 73, 'colsample_bytree': 0.3887183469117346, 'min_child_samples': 20, 'max_bin': 74, 'subsample_freq': 3}. Best is trial 244 with value: 0.15220364691183436.\n"
     ]
    },
    {
     "name": "stdout",
     "output_type": "stream",
     "text": [
      "Repeat \u001b[1m\u001b[34m#1\n"
     ]
    },
    {
     "name": "stderr",
     "output_type": "stream",
     "text": [
      "[I 2023-06-22 17:33:50,983] Trial 635 finished with value: 0.6467846659889991 and parameters: {'boosting_type': 'goss', 'learning_rate': 0.00014205130533836207, 'reg_alpha': 7.680570850747531e-06, 'reg_lambda': 0.024741672454944345, 'max_depth': 5, 'num_leaves': 81, 'colsample_bytree': 0.3609670237154274, 'min_child_samples': 15, 'max_bin': 93, 'subsample_freq': 4}. Best is trial 244 with value: 0.15220364691183436.\n"
     ]
    },
    {
     "name": "stdout",
     "output_type": "stream",
     "text": [
      "Repeat \u001b[1m\u001b[34m#1\n"
     ]
    },
    {
     "name": "stderr",
     "output_type": "stream",
     "text": [
      "[I 2023-06-22 17:33:52,303] Trial 636 finished with value: 0.17686563506547742 and parameters: {'boosting_type': 'goss', 'learning_rate': 0.16580903726683455, 'reg_alpha': 0.002574781655648837, 'reg_lambda': 0.0008560378449488296, 'max_depth': 5, 'num_leaves': 67, 'colsample_bytree': 0.4029792953551816, 'min_child_samples': 17, 'max_bin': 81, 'subsample_freq': 4}. Best is trial 244 with value: 0.15220364691183436.\n"
     ]
    },
    {
     "name": "stdout",
     "output_type": "stream",
     "text": [
      "Repeat \u001b[1m\u001b[34m#1\n"
     ]
    },
    {
     "name": "stderr",
     "output_type": "stream",
     "text": [
      "[I 2023-06-22 17:34:10,845] Trial 637 finished with value: 0.37092407842755526 and parameters: {'boosting_type': 'goss', 'learning_rate': 0.0005146968592862112, 'reg_alpha': 0.0011313111511000611, 'reg_lambda': 1.6328588514164526e-06, 'max_depth': 6, 'num_leaves': 75, 'colsample_bytree': 0.6523021146045359, 'min_child_samples': 23, 'max_bin': 121, 'subsample_freq': 4}. Best is trial 244 with value: 0.15220364691183436.\n"
     ]
    },
    {
     "name": "stdout",
     "output_type": "stream",
     "text": [
      "Repeat \u001b[1m\u001b[34m#1\n"
     ]
    },
    {
     "name": "stderr",
     "output_type": "stream",
     "text": [
      "[I 2023-06-22 17:34:23,418] Trial 638 finished with value: 0.2463196547640007 and parameters: {'boosting_type': 'gbdt', 'learning_rate': 0.0037835312170711767, 'reg_alpha': 9.85849506351482e-07, 'reg_lambda': 0.0025174593723996507, 'max_depth': 5, 'num_leaves': 79, 'colsample_bytree': 0.4812152344316138, 'min_child_samples': 13, 'max_bin': 70, 'subsample_freq': 4, 'subsample': 0.5803783566211317}. Best is trial 244 with value: 0.15220364691183436.\n"
     ]
    },
    {
     "name": "stdout",
     "output_type": "stream",
     "text": [
      "Repeat \u001b[1m\u001b[34m#1\n"
     ]
    },
    {
     "name": "stderr",
     "output_type": "stream",
     "text": [
      "[I 2023-06-22 17:34:28,339] Trial 639 finished with value: 0.19122268017065142 and parameters: {'boosting_type': 'goss', 'learning_rate': 0.0194280927829609, 'reg_alpha': 0.006645948049153987, 'reg_lambda': 0.004480247260475538, 'max_depth': 5, 'num_leaves': 72, 'colsample_bytree': 0.4211741900367688, 'min_child_samples': 18, 'max_bin': 88, 'subsample_freq': 4}. Best is trial 244 with value: 0.15220364691183436.\n"
     ]
    },
    {
     "name": "stdout",
     "output_type": "stream",
     "text": [
      "Repeat \u001b[1m\u001b[34m#1\n"
     ]
    },
    {
     "name": "stderr",
     "output_type": "stream",
     "text": [
      "[I 2023-06-22 17:34:29,311] Trial 640 finished with value: 0.20524152421340994 and parameters: {'boosting_type': 'goss', 'learning_rate': 0.259794931837886, 'reg_alpha': 0.016222823636665253, 'reg_lambda': 2.7830639197623724e-05, 'max_depth': 5, 'num_leaves': 69, 'colsample_bytree': 0.5523004454934548, 'min_child_samples': 15, 'max_bin': 79, 'subsample_freq': 4}. Best is trial 244 with value: 0.15220364691183436.\n"
     ]
    },
    {
     "name": "stdout",
     "output_type": "stream",
     "text": [
      "Repeat \u001b[1m\u001b[34m#1\n"
     ]
    },
    {
     "name": "stderr",
     "output_type": "stream",
     "text": [
      "[I 2023-06-22 17:34:30,350] Trial 641 finished with value: 0.1909961279048335 and parameters: {'boosting_type': 'goss', 'learning_rate': 0.19444435684862948, 'reg_alpha': 1.1733729691437793e-07, 'reg_lambda': 9.968682061179633e-07, 'max_depth': 5, 'num_leaves': 77, 'colsample_bytree': 0.3789888525647977, 'min_child_samples': 11, 'max_bin': 74, 'subsample_freq': 3}. Best is trial 244 with value: 0.15220364691183436.\n"
     ]
    },
    {
     "name": "stdout",
     "output_type": "stream",
     "text": [
      "Repeat \u001b[1m\u001b[34m#1\n"
     ]
    },
    {
     "name": "stderr",
     "output_type": "stream",
     "text": [
      "[I 2023-06-22 17:34:40,630] Trial 642 finished with value: 0.2150932576504723 and parameters: {'boosting_type': 'goss', 'learning_rate': 0.006977065637526096, 'reg_alpha': 3.8500784552843936e-05, 'reg_lambda': 0.0004798688682961825, 'max_depth': 6, 'num_leaves': 64, 'colsample_bytree': 0.5945915113720113, 'min_child_samples': 8, 'max_bin': 83, 'subsample_freq': 4}. Best is trial 244 with value: 0.15220364691183436.\n"
     ]
    },
    {
     "name": "stdout",
     "output_type": "stream",
     "text": [
      "Repeat \u001b[1m\u001b[34m#1\n"
     ]
    },
    {
     "name": "stderr",
     "output_type": "stream",
     "text": [
      "[I 2023-06-22 17:34:46,632] Trial 643 finished with value: 0.19327831630304276 and parameters: {'boosting_type': 'goss', 'learning_rate': 0.012032317468757959, 'reg_alpha': 2.0957199316590493e-06, 'reg_lambda': 0.00018512420016468482, 'max_depth': 5, 'num_leaves': 73, 'colsample_bytree': 0.4096910680249455, 'min_child_samples': 19, 'max_bin': 64, 'subsample_freq': 4}. Best is trial 244 with value: 0.15220364691183436.\n"
     ]
    },
    {
     "name": "stdout",
     "output_type": "stream",
     "text": [
      "Repeat \u001b[1m\u001b[34m#1\n"
     ]
    },
    {
     "name": "stderr",
     "output_type": "stream",
     "text": [
      "[I 2023-06-22 17:34:49,331] Trial 644 finished with value: 0.18772869844746148 and parameters: {'boosting_type': 'goss', 'learning_rate': 0.03958888197416427, 'reg_alpha': 4.318046666028776e-06, 'reg_lambda': 0.0014485550058466045, 'max_depth': 5, 'num_leaves': 82, 'colsample_bytree': 0.6326019220621767, 'min_child_samples': 16, 'max_bin': 76, 'subsample_freq': 4}. Best is trial 244 with value: 0.15220364691183436.\n"
     ]
    },
    {
     "name": "stdout",
     "output_type": "stream",
     "text": [
      "Repeat \u001b[1m\u001b[34m#1\n"
     ]
    },
    {
     "name": "stderr",
     "output_type": "stream",
     "text": [
      "[I 2023-06-22 17:34:50,444] Trial 645 finished with value: 0.21421229708409784 and parameters: {'boosting_type': 'goss', 'learning_rate': 0.1453648778255417, 'reg_alpha': 1.1307209137133951, 'reg_lambda': 5.532677752225212e-08, 'max_depth': 5, 'num_leaves': 76, 'colsample_bytree': 0.3271307802079607, 'min_child_samples': 13, 'max_bin': 58, 'subsample_freq': 3}. Best is trial 244 with value: 0.15220364691183436.\n"
     ]
    },
    {
     "name": "stdout",
     "output_type": "stream",
     "text": [
      "Repeat \u001b[1m\u001b[34m#1\n"
     ]
    },
    {
     "name": "stderr",
     "output_type": "stream",
     "text": [
      "[I 2023-06-22 17:34:51,479] Trial 646 finished with value: 0.1819239709868456 and parameters: {'boosting_type': 'goss', 'learning_rate': 0.23123944396340318, 'reg_alpha': 7.357119882627737e-07, 'reg_lambda': 1.0606156452076053e-07, 'max_depth': 5, 'num_leaves': 70, 'colsample_bytree': 0.6433056133281263, 'min_child_samples': 21, 'max_bin': 71, 'subsample_freq': 4}. Best is trial 244 with value: 0.15220364691183436.\n"
     ]
    },
    {
     "name": "stdout",
     "output_type": "stream",
     "text": [
      "Repeat \u001b[1m\u001b[34m#1\n"
     ]
    },
    {
     "name": "stderr",
     "output_type": "stream",
     "text": [
      "[I 2023-06-22 17:35:06,216] Trial 647 finished with value: 0.2227862804301583 and parameters: {'boosting_type': 'goss', 'learning_rate': 0.002406628146872607, 'reg_alpha': 4.584622184241676e-07, 'reg_lambda': 0.29439373870605956, 'max_depth': 5, 'num_leaves': 79, 'colsample_bytree': 0.6275428939440545, 'min_child_samples': 14, 'max_bin': 82, 'subsample_freq': 4}. Best is trial 244 with value: 0.15220364691183436.\n"
     ]
    },
    {
     "name": "stdout",
     "output_type": "stream",
     "text": [
      "Repeat \u001b[1m\u001b[34m#1\n"
     ]
    },
    {
     "name": "stderr",
     "output_type": "stream",
     "text": [
      "[I 2023-06-22 17:35:17,287] Trial 648 finished with value: 0.20639553726152643 and parameters: {'boosting_type': 'goss', 'learning_rate': 0.004703476958957092, 'reg_alpha': 3.13459869501407e-06, 'reg_lambda': 0.007993014059853714, 'max_depth': 5, 'num_leaves': 85, 'colsample_bytree': 0.3166512608899451, 'min_child_samples': 17, 'max_bin': 67, 'subsample_freq': 4}. Best is trial 244 with value: 0.15220364691183436.\n"
     ]
    },
    {
     "name": "stdout",
     "output_type": "stream",
     "text": [
      "Repeat \u001b[1m\u001b[34m#1\n"
     ]
    },
    {
     "name": "stderr",
     "output_type": "stream",
     "text": [
      "[I 2023-06-22 17:35:19,589] Trial 649 finished with value: 0.20112875074464906 and parameters: {'boosting_type': 'goss', 'learning_rate': 0.10568829040965813, 'reg_alpha': 1.1715483761533035e-05, 'reg_lambda': 0.003146903894841693, 'max_depth': 7, 'num_leaves': 59, 'colsample_bytree': 0.649431360118133, 'min_child_samples': 11, 'max_bin': 89, 'subsample_freq': 4}. Best is trial 244 with value: 0.15220364691183436.\n"
     ]
    },
    {
     "name": "stdout",
     "output_type": "stream",
     "text": [
      "Repeat \u001b[1m\u001b[34m#1\n"
     ]
    },
    {
     "name": "stderr",
     "output_type": "stream",
     "text": [
      "[I 2023-06-22 17:35:24,276] Trial 650 finished with value: 0.2107307794116255 and parameters: {'boosting_type': 'goss', 'learning_rate': 0.04700916528940147, 'reg_alpha': 1.5230722466155265e-06, 'reg_lambda': 6.699727034031278, 'max_depth': 6, 'num_leaves': 74, 'colsample_bytree': 0.43459124767596247, 'min_child_samples': 19, 'max_bin': 78, 'subsample_freq': 4}. Best is trial 244 with value: 0.15220364691183436.\n"
     ]
    },
    {
     "name": "stdout",
     "output_type": "stream",
     "text": [
      "Repeat \u001b[1m\u001b[34m#1\n"
     ]
    },
    {
     "name": "stderr",
     "output_type": "stream",
     "text": [
      "[I 2023-06-22 17:35:39,089] Trial 651 finished with value: 0.24547511103849634 and parameters: {'boosting_type': 'goss', 'learning_rate': 0.0016896545639076184, 'reg_alpha': 0.00025608620318110073, 'reg_lambda': 2.577938428522368e-06, 'max_depth': 5, 'num_leaves': 66, 'colsample_bytree': 0.3986853901079513, 'min_child_samples': 15, 'max_bin': 73, 'subsample_freq': 4}. Best is trial 244 with value: 0.15220364691183436.\n"
     ]
    },
    {
     "name": "stdout",
     "output_type": "stream",
     "text": [
      "Repeat \u001b[1m\u001b[34m#1\n"
     ]
    },
    {
     "name": "stderr",
     "output_type": "stream",
     "text": [
      "[I 2023-06-22 17:35:40,761] Trial 652 finished with value: 0.17831350775255878 and parameters: {'boosting_type': 'goss', 'learning_rate': 0.07507421182984836, 'reg_alpha': 2.2968914905906634e-05, 'reg_lambda': 3.041176975343687e-07, 'max_depth': 5, 'num_leaves': 72, 'colsample_bytree': 0.5143527104155103, 'min_child_samples': 22, 'max_bin': 85, 'subsample_freq': 2}. Best is trial 244 with value: 0.15220364691183436.\n"
     ]
    },
    {
     "name": "stdout",
     "output_type": "stream",
     "text": [
      "Repeat \u001b[1m\u001b[34m#1\n"
     ]
    },
    {
     "name": "stderr",
     "output_type": "stream",
     "text": [
      "[I 2023-06-22 17:36:00,953] Trial 653 finished with value: 0.3162711428538769 and parameters: {'boosting_type': 'goss', 'learning_rate': 0.0008387847341447794, 'reg_alpha': 0.0728850038994184, 'reg_lambda': 0.0159932289851829, 'max_depth': 10, 'num_leaves': 76, 'colsample_bytree': 0.3895526007602729, 'min_child_samples': 12, 'max_bin': 100, 'subsample_freq': 4}. Best is trial 244 with value: 0.15220364691183436.\n"
     ]
    },
    {
     "name": "stdout",
     "output_type": "stream",
     "text": [
      "Repeat \u001b[1m\u001b[34m#1\n"
     ]
    },
    {
     "name": "stderr",
     "output_type": "stream",
     "text": [
      "[I 2023-06-22 17:36:02,520] Trial 654 finished with value: 0.1902986505685842 and parameters: {'boosting_type': 'goss', 'learning_rate': 0.17532109822474973, 'reg_alpha': 2.2748829150448602e-07, 'reg_lambda': 1.0838914536540156, 'max_depth': 4, 'num_leaves': 79, 'colsample_bytree': 0.4177132251907034, 'min_child_samples': 17, 'max_bin': 45, 'subsample_freq': 4}. Best is trial 244 with value: 0.15220364691183436.\n"
     ]
    },
    {
     "name": "stdout",
     "output_type": "stream",
     "text": [
      "Repeat \u001b[1m\u001b[34m#1\n"
     ]
    },
    {
     "name": "stderr",
     "output_type": "stream",
     "text": [
      "[I 2023-06-22 17:36:03,498] Trial 655 finished with value: 0.1957301547567319 and parameters: {'boosting_type': 'goss', 'learning_rate': 0.2581612274665828, 'reg_alpha': 0.0035858660298885054, 'reg_lambda': 0.005465756606526665, 'max_depth': 5, 'num_leaves': 69, 'colsample_bytree': 0.4285392658856669, 'min_child_samples': 14, 'max_bin': 79, 'subsample_freq': 3}. Best is trial 244 with value: 0.15220364691183436.\n"
     ]
    },
    {
     "name": "stdout",
     "output_type": "stream",
     "text": [
      "Repeat \u001b[1m\u001b[34m#1\n"
     ]
    },
    {
     "name": "stderr",
     "output_type": "stream",
     "text": [
      "[I 2023-06-22 17:36:04,869] Trial 656 finished with value: 0.18871359569800544 and parameters: {'boosting_type': 'goss', 'learning_rate': 0.21184696319830282, 'reg_alpha': 0.0018771157105491904, 'reg_lambda': 0.0009092846434349735, 'max_depth': 5, 'num_leaves': 82, 'colsample_bytree': 0.3693433197774273, 'min_child_samples': 20, 'max_bin': 69, 'subsample_freq': 4}. Best is trial 244 with value: 0.15220364691183436.\n"
     ]
    },
    {
     "name": "stdout",
     "output_type": "stream",
     "text": [
      "Repeat \u001b[1m\u001b[34m#1\n"
     ]
    },
    {
     "name": "stderr",
     "output_type": "stream",
     "text": [
      "[I 2023-06-22 17:36:08,871] Trial 657 finished with value: 0.2194042044985475 and parameters: {'boosting_type': 'gbdt', 'learning_rate': 0.016020288572261766, 'reg_alpha': 3.558794561597541e-07, 'reg_lambda': 5.665438534845516e-05, 'max_depth': 5, 'num_leaves': 74, 'colsample_bytree': 0.4625320403618084, 'min_child_samples': 44, 'max_bin': 63, 'subsample_freq': 4, 'subsample': 0.536852955423494}. Best is trial 244 with value: 0.15220364691183436.\n"
     ]
    },
    {
     "name": "stdout",
     "output_type": "stream",
     "text": [
      "Repeat \u001b[1m\u001b[34m#1\n"
     ]
    },
    {
     "name": "stderr",
     "output_type": "stream",
     "text": [
      "[I 2023-06-22 17:36:10,337] Trial 658 finished with value: 0.21221100591502715 and parameters: {'boosting_type': 'goss', 'learning_rate': 0.1267039608908652, 'reg_alpha': 1.0426947933266907e-06, 'reg_lambda': 0.00182545929265599, 'max_depth': 6, 'num_leaves': 77, 'colsample_bytree': 0.302342525650972, 'min_child_samples': 9, 'max_bin': 93, 'subsample_freq': 5}. Best is trial 244 with value: 0.15220364691183436.\n"
     ]
    },
    {
     "name": "stdout",
     "output_type": "stream",
     "text": [
      "Repeat \u001b[1m\u001b[34m#1\n"
     ]
    },
    {
     "name": "stderr",
     "output_type": "stream",
     "text": [
      "[I 2023-06-22 17:36:11,125] Trial 659 finished with value: 0.21281096584513792 and parameters: {'boosting_type': 'goss', 'learning_rate': 0.29822607155030884, 'reg_alpha': 0.3941750003063481, 'reg_lambda': 1.5156381564281603e-08, 'max_depth': 5, 'num_leaves': 71, 'colsample_bytree': 0.4021734899931781, 'min_child_samples': 18, 'max_bin': 74, 'subsample_freq': 4}. Best is trial 244 with value: 0.15220364691183436.\n"
     ]
    },
    {
     "name": "stdout",
     "output_type": "stream",
     "text": [
      "Repeat \u001b[1m\u001b[34m#1\n"
     ]
    },
    {
     "name": "stderr",
     "output_type": "stream",
     "text": [
      "[I 2023-06-22 17:36:12,126] Trial 660 finished with value: 0.1982746652938513 and parameters: {'boosting_type': 'goss', 'learning_rate': 0.16384914055830008, 'reg_alpha': 0.12061182440514194, 'reg_lambda': 2.1391284614511076e-05, 'max_depth': 5, 'num_leaves': 80, 'colsample_bytree': 0.3380872876506482, 'min_child_samples': 16, 'max_bin': 83, 'subsample_freq': 3}. Best is trial 244 with value: 0.15220364691183436.\n"
     ]
    },
    {
     "name": "stdout",
     "output_type": "stream",
     "text": [
      "Repeat \u001b[1m\u001b[34m#1\n"
     ]
    },
    {
     "name": "stderr",
     "output_type": "stream",
     "text": [
      "[I 2023-06-22 17:36:13,225] Trial 661 finished with value: 0.189026043510301 and parameters: {'boosting_type': 'goss', 'learning_rate': 0.19140736150456483, 'reg_alpha': 7.2687795013220155e-06, 'reg_lambda': 0.0003134252548376759, 'max_depth': 5, 'num_leaves': 75, 'colsample_bytree': 0.3848952333238528, 'min_child_samples': 13, 'max_bin': 77, 'subsample_freq': 4}. Best is trial 244 with value: 0.15220364691183436.\n"
     ]
    },
    {
     "name": "stdout",
     "output_type": "stream",
     "text": [
      "Repeat \u001b[1m\u001b[34m#1\n"
     ]
    },
    {
     "name": "stderr",
     "output_type": "stream",
     "text": [
      "[I 2023-06-22 17:36:33,003] Trial 662 finished with value: 0.36105060959684343 and parameters: {'boosting_type': 'goss', 'learning_rate': 0.0006191925579703348, 'reg_alpha': 6.525926993885658e-07, 'reg_lambda': 0.011373226768932957, 'max_depth': 5, 'num_leaves': 12, 'colsample_bytree': 0.41019353134407976, 'min_child_samples': 25, 'max_bin': 69, 'subsample_freq': 4}. Best is trial 244 with value: 0.15220364691183436.\n"
     ]
    },
    {
     "name": "stdout",
     "output_type": "stream",
     "text": [
      "Repeat \u001b[1m\u001b[34m#1\n"
     ]
    },
    {
     "name": "stderr",
     "output_type": "stream",
     "text": [
      "[I 2023-06-22 17:37:42,299] Trial 663 finished with value: 0.30176782036728705 and parameters: {'boosting_type': 'goss', 'learning_rate': 0.0009296983116853075, 'reg_alpha': 0.022456789466706324, 'reg_lambda': 0.00011852321038180776, 'max_depth': 5, 'num_leaves': 43, 'colsample_bytree': 0.3936383355878011, 'min_child_samples': 15, 'max_bin': 87, 'subsample_freq': 4}. Best is trial 244 with value: 0.15220364691183436.\n"
     ]
    },
    {
     "name": "stdout",
     "output_type": "stream",
     "text": [
      "Repeat \u001b[1m\u001b[34m#1\n"
     ]
    },
    {
     "name": "stderr",
     "output_type": "stream",
     "text": [
      "[I 2023-06-22 17:37:44,627] Trial 664 finished with value: 0.20823451216450717 and parameters: {'boosting_type': 'goss', 'learning_rate': 0.23658827070030036, 'reg_alpha': 2.0677269485257703e-06, 'reg_lambda': 2.4693866149796717, 'max_depth': 5, 'num_leaves': 87, 'colsample_bytree': 0.4428245797148443, 'min_child_samples': 11, 'max_bin': 73, 'subsample_freq': 4}. Best is trial 244 with value: 0.15220364691183436.\n"
     ]
    },
    {
     "name": "stdout",
     "output_type": "stream",
     "text": [
      "Repeat \u001b[1m\u001b[34m#1\n"
     ]
    },
    {
     "name": "stderr",
     "output_type": "stream",
     "text": [
      "[I 2023-06-22 17:38:28,404] Trial 665 finished with value: 0.28499383906211856 and parameters: {'boosting_type': 'goss', 'learning_rate': 0.001137639739942099, 'reg_alpha': 6.26892219853763e-08, 'reg_lambda': 0.16401902690924655, 'max_depth': 6, 'num_leaves': 94, 'colsample_bytree': 0.41707856692637385, 'min_child_samples': 20, 'max_bin': 80, 'subsample_freq': 4}. Best is trial 244 with value: 0.15220364691183436.\n"
     ]
    },
    {
     "name": "stdout",
     "output_type": "stream",
     "text": [
      "Repeat \u001b[1m\u001b[34m#1\n"
     ]
    },
    {
     "name": "stderr",
     "output_type": "stream",
     "text": [
      "[I 2023-06-22 17:38:54,099] Trial 666 finished with value: 0.6419244759808571 and parameters: {'boosting_type': 'goss', 'learning_rate': 0.00014906457913914912, 'reg_alpha': 0.000795894562659773, 'reg_lambda': 0.0005951246362259784, 'max_depth': 5, 'num_leaves': 114, 'colsample_bytree': 0.30820906539239923, 'min_child_samples': 17, 'max_bin': 133, 'subsample_freq': 3}. Best is trial 244 with value: 0.15220364691183436.\n"
     ]
    },
    {
     "name": "stdout",
     "output_type": "stream",
     "text": [
      "Repeat \u001b[1m\u001b[34m#1\n"
     ]
    },
    {
     "name": "stderr",
     "output_type": "stream",
     "text": [
      "[I 2023-06-22 17:39:21,515] Trial 667 finished with value: 0.2542805966290449 and parameters: {'boosting_type': 'goss', 'learning_rate': 0.0013872576168974604, 'reg_alpha': 0.005021230549491936, 'reg_lambda': 0.0032283370042204425, 'max_depth': 5, 'num_leaves': 72, 'colsample_bytree': 0.4691692015275871, 'min_child_samples': 14, 'max_bin': 65, 'subsample_freq': 4}. Best is trial 244 with value: 0.15220364691183436.\n"
     ]
    },
    {
     "name": "stdout",
     "output_type": "stream",
     "text": [
      "Repeat \u001b[1m\u001b[34m#1\n"
     ]
    },
    {
     "name": "stderr",
     "output_type": "stream",
     "text": [
      "[I 2023-06-22 17:39:23,118] Trial 668 finished with value: 0.20842185226805804 and parameters: {'boosting_type': 'goss', 'learning_rate': 0.14404088279483207, 'reg_alpha': 3.6557713866473587, 'reg_lambda': 0.04478204078380915, 'max_depth': 5, 'num_leaves': 68, 'colsample_bytree': 0.6071237471588659, 'min_child_samples': 18, 'max_bin': 54, 'subsample_freq': 4}. Best is trial 244 with value: 0.15220364691183436.\n"
     ]
    },
    {
     "name": "stdout",
     "output_type": "stream",
     "text": [
      "Repeat \u001b[1m\u001b[34m#1\n"
     ]
    },
    {
     "name": "stderr",
     "output_type": "stream",
     "text": [
      "[I 2023-06-22 17:39:28,432] Trial 669 finished with value: 0.18666624951596733 and parameters: {'boosting_type': 'goss', 'learning_rate': 0.02276406666768741, 'reg_alpha': 1.8115437180471812e-07, 'reg_lambda': 2.615190666500047e-08, 'max_depth': 5, 'num_leaves': 78, 'colsample_bytree': 0.4032513597045161, 'min_child_samples': 12, 'max_bin': 76, 'subsample_freq': 4}. Best is trial 244 with value: 0.15220364691183436.\n"
     ]
    },
    {
     "name": "stdout",
     "output_type": "stream",
     "text": [
      "Repeat \u001b[1m\u001b[34m#1\n"
     ]
    },
    {
     "name": "stderr",
     "output_type": "stream",
     "text": [
      "[I 2023-06-22 17:39:30,126] Trial 670 finished with value: 0.18933018914418426 and parameters: {'boosting_type': 'goss', 'learning_rate': 0.2085466494990148, 'reg_alpha': 0.0012821253406887383, 'reg_lambda': 7.815826650730611e-08, 'max_depth': 5, 'num_leaves': 84, 'colsample_bytree': 0.5298515482797432, 'min_child_samples': 16, 'max_bin': 82, 'subsample_freq': 4}. Best is trial 244 with value: 0.15220364691183436.\n"
     ]
    },
    {
     "name": "stdout",
     "output_type": "stream",
     "text": [
      "Repeat \u001b[1m\u001b[34m#1\n"
     ]
    },
    {
     "name": "stderr",
     "output_type": "stream",
     "text": [
      "[I 2023-06-22 17:39:31,220] Trial 671 finished with value: 0.2862259425321442 and parameters: {'boosting_type': 'goss', 'learning_rate': 0.17682800268381102, 'reg_alpha': 1.624046471385769e-05, 'reg_lambda': 0.07613165540656788, 'max_depth': 5, 'num_leaves': 75, 'colsample_bytree': 0.3562211506026902, 'min_child_samples': 71, 'max_bin': 71, 'subsample_freq': 3}. Best is trial 244 with value: 0.15220364691183436.\n"
     ]
    },
    {
     "name": "stdout",
     "output_type": "stream",
     "text": [
      "Repeat \u001b[1m\u001b[34m#1\n"
     ]
    },
    {
     "name": "stderr",
     "output_type": "stream",
     "text": [
      "[I 2023-06-22 17:39:32,257] Trial 672 finished with value: 0.20165268692530458 and parameters: {'boosting_type': 'goss', 'learning_rate': 0.25442831517981235, 'reg_alpha': 0.00014102270383709126, 'reg_lambda': 0.0022627732971459975, 'max_depth': 5, 'num_leaves': 73, 'colsample_bytree': 0.37784147627025527, 'min_child_samples': 22, 'max_bin': 61, 'subsample_freq': 5}. Best is trial 244 with value: 0.15220364691183436.\n"
     ]
    },
    {
     "name": "stdout",
     "output_type": "stream",
     "text": [
      "Repeat \u001b[1m\u001b[34m#1\n"
     ]
    },
    {
     "name": "stderr",
     "output_type": "stream",
     "text": [
      "[I 2023-06-22 17:39:50,743] Trial 673 finished with value: 0.22270747365796154 and parameters: {'boosting_type': 'goss', 'learning_rate': 0.0030427602367571736, 'reg_alpha': 0.010551645884883954, 'reg_lambda': 0.0010855006962517445, 'max_depth': 6, 'num_leaves': 81, 'colsample_bytree': 0.39574349516973417, 'min_child_samples': 10, 'max_bin': 88, 'subsample_freq': 4}. Best is trial 244 with value: 0.15220364691183436.\n"
     ]
    },
    {
     "name": "stdout",
     "output_type": "stream",
     "text": [
      "Repeat \u001b[1m\u001b[34m#1\n"
     ]
    },
    {
     "name": "stderr",
     "output_type": "stream",
     "text": [
      "[I 2023-06-22 17:39:52,376] Trial 674 finished with value: 0.18072599118423865 and parameters: {'boosting_type': 'goss', 'learning_rate': 0.15699725710621973, 'reg_alpha': 5.212264117962356e-06, 'reg_lambda': 5.534439518052344e-06, 'max_depth': 5, 'num_leaves': 77, 'colsample_bytree': 0.4251451127524799, 'min_child_samples': 14, 'max_bin': 77, 'subsample_freq': 4}. Best is trial 244 with value: 0.15220364691183436.\n"
     ]
    },
    {
     "name": "stdout",
     "output_type": "stream",
     "text": [
      "Repeat \u001b[1m\u001b[34m#1\n"
     ]
    },
    {
     "name": "stderr",
     "output_type": "stream",
     "text": [
      "[I 2023-06-22 17:39:54,938] Trial 675 finished with value: 0.18588866945937993 and parameters: {'boosting_type': 'goss', 'learning_rate': 0.11792198659317119, 'reg_alpha': 1.3735067152375821e-06, 'reg_lambda': 0.006331153991531616, 'max_depth': 5, 'num_leaves': 65, 'colsample_bytree': 0.41061831591792963, 'min_child_samples': 19, 'max_bin': 67, 'subsample_freq': 4}. Best is trial 244 with value: 0.15220364691183436.\n"
     ]
    },
    {
     "name": "stdout",
     "output_type": "stream",
     "text": [
      "Repeat \u001b[1m\u001b[34m#1\n"
     ]
    },
    {
     "name": "stderr",
     "output_type": "stream",
     "text": [
      "[I 2023-06-22 17:40:00,497] Trial 676 finished with value: 0.196885932443649 and parameters: {'boosting_type': 'goss', 'learning_rate': 0.024029187351819276, 'reg_alpha': 0.02561189759060247, 'reg_lambda': 0.0040099408717730115, 'max_depth': 5, 'num_leaves': 70, 'colsample_bytree': 0.39006020623785975, 'min_child_samples': 16, 'max_bin': 81, 'subsample_freq': 4}. Best is trial 244 with value: 0.15220364691183436.\n"
     ]
    },
    {
     "name": "stdout",
     "output_type": "stream",
     "text": [
      "Repeat \u001b[1m\u001b[34m#1\n"
     ]
    },
    {
     "name": "stderr",
     "output_type": "stream",
     "text": [
      "[I 2023-06-22 17:40:30,590] Trial 677 finished with value: 0.3202570246259562 and parameters: {'boosting_type': 'goss', 'learning_rate': 0.0007885242263550583, 'reg_alpha': 5.184580104403033e-07, 'reg_lambda': 0.0014851271402475004, 'max_depth': 4, 'num_leaves': 61, 'colsample_bytree': 0.49578323338966807, 'min_child_samples': 12, 'max_bin': 95, 'subsample_freq': 4}. Best is trial 244 with value: 0.15220364691183436.\n"
     ]
    },
    {
     "name": "stdout",
     "output_type": "stream",
     "text": [
      "Repeat \u001b[1m\u001b[34m#1\n"
     ]
    },
    {
     "name": "stderr",
     "output_type": "stream",
     "text": [
      "[I 2023-06-22 17:40:32,886] Trial 678 finished with value: 0.25854203018162003 and parameters: {'boosting_type': 'gbdt', 'learning_rate': 0.05840068778089264, 'reg_alpha': 3.001404514732076e-06, 'reg_lambda': 0.00805508414053404, 'max_depth': 6, 'num_leaves': 76, 'colsample_bytree': 0.40502202402815995, 'min_child_samples': 7, 'max_bin': 73, 'subsample_freq': 3, 'subsample': 0.4788972940051708}. Best is trial 244 with value: 0.15220364691183436.\n"
     ]
    },
    {
     "name": "stdout",
     "output_type": "stream",
     "text": [
      "Repeat \u001b[1m\u001b[34m#1\n"
     ]
    },
    {
     "name": "stderr",
     "output_type": "stream",
     "text": [
      "[I 2023-06-22 17:40:36,013] Trial 679 finished with value: 0.192908417538335 and parameters: {'boosting_type': 'goss', 'learning_rate': 0.21423211040057516, 'reg_alpha': 0.01282462608666258, 'reg_lambda': 0.03623974470252539, 'max_depth': 5, 'num_leaves': 73, 'colsample_bytree': 0.36631620115689617, 'min_child_samples': 21, 'max_bin': 86, 'subsample_freq': 4}. Best is trial 244 with value: 0.15220364691183436.\n"
     ]
    },
    {
     "name": "stdout",
     "output_type": "stream",
     "text": [
      "Repeat \u001b[1m\u001b[34m#1\n"
     ]
    }
   ],
   "source": [
    "def balanced_log_loss(y_true, y_pred):\n",
    "    # Nc is the number of observations\n",
    "    N_1 = np.sum(y_true == 1, axis=0)\n",
    "    N_0 = np.sum(y_true == 0, axis=0)\n",
    "\n",
    "    # In order to avoid the extremes of the log function, each predicted probability 𝑝 is replaced with max(min(𝑝,1−10−15),10−15)\n",
    "    y_pred = np.clip(y_pred, 1e-15, 1 - 1e-15)\n",
    "\n",
    "    # balanced logarithmic loss\n",
    "    loss_numerator = - (1/N_0) * np.sum((1 - y_true) * np.log(1 - y_pred)) - (1/N_1) * np.sum(y_true * np.log(y_pred))\n",
    "\n",
    "    return loss_numerator / 2\n",
    "\n",
    "def bll_metric(y_true, y_pred):\n",
    "    return 'balanced_log_loss', balanced_log_loss(y_true, y_pred), False\n",
    "\n",
    "def calc_log_loss_weight(y_true): \n",
    "    '''w0, w1 assign different weights to individual data points during training.'''\n",
    "    nc = np.bincount(y_true)\n",
    "    w0, w1 = 1/(nc[0]/y_true.shape[0]), 1/(nc[1]/y_true.shape[0])\n",
    "    return w0, w1\n",
    "\n",
    "X, y = train_df[features], train_df['Class'] \n",
    "    \n",
    "def objective(trial):\n",
    "    param = {\n",
    "        # Main parameters\n",
    "#                     'device': 'gpu',\n",
    "#                     'gpu_platform_id': 0,\n",
    "#                     'gpu_device_id': 0,\n",
    "        'objective': 'binary',\n",
    "        'metric': 'none',\n",
    "        'boosting_type': trial.suggest_categorical('boosting_type', ['goss', 'gbdt']),#, 'dart']),   \n",
    "        # Hyperparamters (in order of importance decreasing)\n",
    "        'n_estimators': CFG.n_estimators, # trial.suggest_int('n_estimators', 500, 1500),  # max number of trees in model\n",
    "        'early_stopping_round': CFG.early_stopping_rounds, \n",
    "        'learning_rate': trial.suggest_loguniform('learning_rate', 1e-4, 3e-1),\n",
    "        'reg_alpha': trial.suggest_float('reg_alpha', 1e-8, 10.0, log=True), # L1,  alias: lambda_l1\n",
    "        'reg_lambda': trial.suggest_float('reg_lambda', 1e-8, 10.0, log=True), # L2, alias: lambda_l2\n",
    "         # decrease to deal with overfit\n",
    "        'max_depth': trial.suggest_int('max_depth', 4, 10),   # tree max depth \n",
    "         # decrease to deal with overfit\n",
    "        'num_leaves': trial.suggest_int('num_leaves', 4, 128),  # Max number of leaves in one tree\n",
    "                                                                # should be ~ 2**(max_depth-1)\n",
    "        'subsample': None, # Randomly select part of data without \n",
    "                                  # resampling if subsample < 1.0\n",
    "                                  # alias: bagging_fraction\n",
    "        'colsample_bytree': trial.suggest_float('colsample_bytree', 0.3, 0.7), # Randomly select a subset of features \n",
    "                                                                   # if colsample_bytree < 1.0\n",
    "                                                                   # alias:feature_fraction\n",
    "        # decrease to deal with overfit\n",
    "        'min_child_samples': trial.suggest_int('min_child_samples', 5, 100), # Minimal number of data in one leaf\n",
    "                                                                             # aliases: min_data_in_leaf, \n",
    "        # increase for accuracy, decrease to deal with overfit\n",
    "        'max_bin': trial.suggest_int('max_bin', 32, 255), # Max number of bins that feature values will be bucketed in\n",
    "        # increase to deal with overfit\n",
    "        'subsample_freq': trial.suggest_int('subsample_freq', 1, 7), # Perform bagging at every k iteration, alias: bagging_freq\n",
    "\n",
    "#           'subsample_for_bin': 200000, # Number of data that sampled to construct feature discrete bins; setting this \n",
    "                                     # to larger value will give better training result but may increase train time \n",
    "#           'cat_smooth': trial.suggest_float('cat_smooth', 10.0, 100.0),  # this can reduce the effect of noises in \n",
    "                                                                       # categorical features, especially for \n",
    "                                                                       # categories with few data\n",
    "        'verbose': -1\n",
    "    }\n",
    "\n",
    "    if not CFG.undersample:\n",
    "        param['is_unbalance'] = True\n",
    "        # param['class_weight'] = 'balanced'\n",
    "        # row_dict['scale_pos_weight'] = class_imbalance\n",
    "    \n",
    "    if param['boosting_type'] != 'goss':\n",
    "        param['subsample'] = trial.suggest_float('subsample', 0.3, 0.7)\n",
    "\n",
    "    bll_list = list()\n",
    "    \n",
    "    for i in range(CFG.n_optimize_repeats):\n",
    "        print(f'Repeat {blu}#{i+1}')\n",
    "\n",
    "        # Make random under-sampling to balance classes\n",
    "        positive_count_train = train_df['Class'].value_counts()[1]\n",
    "        sampler = RandomUnderSampler(sampling_strategy={0: positive_count_train, \n",
    "                                                        1: positive_count_train}, \n",
    "                                     random_state=15062023+i, \n",
    "                                     replacement=True)\n",
    "\n",
    "        X_re, y_re = pd.concat([train_df[features], greeks.iloc[:,1:4]], axis=1), train_df['Class']\n",
    "        \n",
    "        if CFG.undersample:\n",
    "            X_re, y_re = sampler.fit_resample(X_re, y_re)\n",
    "        \n",
    "        # Create Stratified Multilabel k-Fold scheme\n",
    "        kf = MultilabelStratifiedKFold(n_splits=CFG.n_optimize_folds, shuffle=True, random_state=10062023+i)\n",
    "\n",
    "        # Create an oof array for inner loop\n",
    "        oof = np.zeros(X_re.shape[0])\n",
    "\n",
    "        # Stratify based on Class and Alpha (3 types of conditions)\n",
    "        for fold, (train_idx, val_idx) in enumerate(kf.split(X=X_re[features], y=X_re.iloc[:,-3:]), start=1): \n",
    "            X, y = X_re[features], y_re\n",
    "            \n",
    "            # Split the dataset according to the fold indexes.\n",
    "            X_train = X.iloc[train_idx]\n",
    "            X_val = X.iloc[val_idx]\n",
    "            y_train = y.iloc[train_idx]\n",
    "            y_val = y.iloc[val_idx]\n",
    "\n",
    "            clf = lgb.LGBMClassifier(**param)\n",
    "            clf.fit(X_train, y_train, eval_set=[(X_val, y_val)], \n",
    "                    eval_metric=bll_metric, verbose=0)\n",
    "\n",
    "            val_preds = clf.predict_proba(X_val)[:,1]\n",
    "            oof[val_idx] = val_preds\n",
    "        bll_list.append(balanced_log_loss(y_re, oof))\n",
    "\n",
    "    return np.mean(bll_list)\n",
    "            \n",
    "\n",
    "if CFG.lgbm_optimize:\n",
    "#     study = optuna.create_study(pruner=optuna.pruners.MedianPruner(n_warmup_steps=100), direction=\"minimize\")\n",
    "    study = optuna.create_study(direction=\"minimize\")\n",
    "    study.optimize(objective, n_trials=CFG.n_trials * 2)\n",
    "\n",
    "    print(\"Number of finished trials: {}\".format(len(study.trials)))\n",
    "\n",
    "    print(\"Best trial:\")\n",
    "    trial = study.best_trial\n",
    "\n",
    "    print(\"  Value: {}\".format(trial.value))\n",
    "\n",
    "    print(\"  Params: \")\n",
    "    for key, value in trial.params.items():\n",
    "        print(\"    {}: {}\".format(key, value))\n",
    "\n",
    "    df = study.trials_dataframe().sort_values('value')\n",
    "    df.to_csv(f'optuna_lgbm.csv')\n",
    "\n",
    "    display(df.head(10))"
   ]
  },
  {
   "attachments": {},
   "cell_type": "markdown",
   "metadata": {},
   "source": [
    "# Load LGBM parameters"
   ]
  },
  {
   "cell_type": "code",
   "execution_count": null,
   "metadata": {},
   "outputs": [],
   "source": [
    "import glob\n",
    "\n",
    "if CFG.kaggle:\n",
    "    param_list = glob.glob(\"/kaggle/input/icr-lgbm-optuna/optuna_lgbm.csv\")\n",
    "else:\n",
    "    param_list = glob.glob(\"optuna_lgbm.csv\")\n",
    "\n",
    "models = list()\n",
    "best_lgbm_params = list()\n",
    "\n",
    "lgbm_params = pd.DataFrame()\n",
    "\n",
    "for f in param_list:\n",
    "    tmp = pd.read_csv(f, index_col='Unnamed: 0')\n",
    "    if lgbm_params.shape[0] == 0:\n",
    "        lgbm_params = tmp\n",
    "    else:\n",
    "        lgbm_params = pd.concat([lgbm_params, tmp])\n",
    "        \n",
    "lgbm_params = lgbm_params.sort_values('value').head(CFG.n_stacking_models)\n",
    "param_cols = [c for c in lgbm_params.columns if c.startswith('params_')]\n",
    "lgbm_params = lgbm_params[param_cols]\n",
    "\n",
    "for idx, row in lgbm_params.iterrows():\n",
    "    row_dict = {k[7:]: v for k, v in row.items()}\n",
    "    row_dict['objective'] = 'binary'\n",
    "    row_dict['metric'] = 'none'\n",
    "#     row_dict['subsample_for_bin'] = 300000\n",
    "    row_dict['force_col_wise'] = False\n",
    "    row_dict['n_estimators'] = CFG.n_estimators\n",
    "    row_dict['early_stopping_round'] = CFG.early_stopping_rounds\n",
    "    row_dict['verbose'] = -1\n",
    "    row_dict['max_bin'] = 255\n",
    "    \n",
    "    row_dict['num_leaves'] = int(row_dict['num_leaves'])\n",
    "    row_dict['max_depth'] = int(row_dict['max_depth'])\n",
    "    row_dict['min_child_samples'] = int(row_dict['min_child_samples'])\n",
    "    row_dict['subsample_freq'] = int(row_dict['subsample_freq'])\n",
    "    row_dict['learning_rate'] = float(row_dict['learning_rate'])\n",
    "    \n",
    "    if not CFG.undersample:\n",
    "        row_dict['is_unbalance'] = True\n",
    "        row_dict['class_weight'] = 'balanced'\n",
    "        # row_dict['scale_pos_weight'] = class_imbalance\n",
    "    \n",
    "    if row_dict['boosting_type'] == 'goss':\n",
    "        row_dict['subsample'] = None\n",
    "        \n",
    "    best_lgbm_params.append(row_dict)\n",
    "\n",
    "if CFG.test:\n",
    "    best_lgbm_params = [{\n",
    "            'n_estimators': CFG.n_estimators,\n",
    "            'early_stopping_round': CFG.early_stopping_rounds,\n",
    "            'objective': 'binary',\n",
    "            'metric': 'logloss', \n",
    "            'n_jobs': -1,\n",
    "            'is_unbalance':True, \n",
    "            'verbose': -1,\n",
    "            'seed': 19062023,\n",
    "        }\n",
    "    ]"
   ]
  },
  {
   "attachments": {},
   "cell_type": "markdown",
   "metadata": {},
   "source": [
    "# XGBoost Optuna optimization"
   ]
  },
  {
   "cell_type": "code",
   "execution_count": 72,
   "metadata": {
    "scrolled": true
   },
   "outputs": [
    {
     "name": "stderr",
     "output_type": "stream",
     "text": [
      "[I 2023-06-22 16:25:50,447] A new study created in memory with name: no-name-4d0f490d-b11c-490a-957e-ad02d9cd64e2\n"
     ]
    },
    {
     "name": "stdout",
     "output_type": "stream",
     "text": [
      "Repeat \u001b[1m\u001b[34m#1\n"
     ]
    },
    {
     "name": "stderr",
     "output_type": "stream",
     "text": [
      "[I 2023-06-22 16:26:37,411] Trial 0 finished with value: 0.5248597745467358 and parameters: {'booster': 'gbtree', 'alpha': 0.008413280738614708, 'lambda': 2.3427928850665177e-07, 'subsample': 0.9194345207145443, 'colsample_bytree': 0.7246698858489586, 'learning_rate': 0.00015689742833493298, 'max_depth': 4, 'min_child_weight': 6, 'gamma': 0.10698727003109276, 'grow_policy': 'depthwise'}. Best is trial 0 with value: 0.5248597745467358.\n"
     ]
    },
    {
     "name": "stdout",
     "output_type": "stream",
     "text": [
      "Repeat \u001b[1m\u001b[34m#1\n"
     ]
    },
    {
     "name": "stderr",
     "output_type": "stream",
     "text": [
      "[I 2023-06-22 16:27:38,666] Trial 1 finished with value: 0.34374192755763344 and parameters: {'booster': 'gbtree', 'alpha': 0.002472671635761762, 'lambda': 1.0000970980832768e-08, 'subsample': 0.9959444319661264, 'colsample_bytree': 0.9818239845175485, 'learning_rate': 0.0008235894846653423, 'max_depth': 8, 'min_child_weight': 3, 'gamma': 4.7666196506763554e-08, 'grow_policy': 'lossguide'}. Best is trial 1 with value: 0.34374192755763344.\n"
     ]
    },
    {
     "name": "stdout",
     "output_type": "stream",
     "text": [
      "Repeat \u001b[1m\u001b[34m#1\n"
     ]
    },
    {
     "name": "stderr",
     "output_type": "stream",
     "text": [
      "[I 2023-06-22 16:28:03,938] Trial 2 finished with value: 0.30025985193546034 and parameters: {'booster': 'gbtree', 'alpha': 0.2824575962288781, 'lambda': 7.195529011257106e-06, 'subsample': 0.44544494869976703, 'colsample_bytree': 0.44523234137572765, 'learning_rate': 0.0012877674062467873, 'max_depth': 9, 'min_child_weight': 7, 'gamma': 2.5624647651515013e-05, 'grow_policy': 'depthwise'}. Best is trial 2 with value: 0.30025985193546034.\n"
     ]
    },
    {
     "name": "stdout",
     "output_type": "stream",
     "text": [
      "Repeat \u001b[1m\u001b[34m#1\n"
     ]
    },
    {
     "name": "stderr",
     "output_type": "stream",
     "text": [
      "[I 2023-06-22 16:28:26,537] Trial 3 finished with value: 0.26897247310480726 and parameters: {'booster': 'gbtree', 'alpha': 9.740220017648928e-06, 'lambda': 2.484164946021559e-07, 'subsample': 0.905761426834587, 'colsample_bytree': 0.8732347022173463, 'learning_rate': 0.005292024945567514, 'max_depth': 8, 'min_child_weight': 4, 'gamma': 4.929034816349564e-07, 'grow_policy': 'lossguide'}. Best is trial 3 with value: 0.26897247310480726.\n"
     ]
    },
    {
     "name": "stdout",
     "output_type": "stream",
     "text": [
      "Repeat \u001b[1m\u001b[34m#1\n"
     ]
    },
    {
     "name": "stderr",
     "output_type": "stream",
     "text": [
      "[I 2023-06-22 16:29:07,985] Trial 4 finished with value: 0.26953527192235954 and parameters: {'booster': 'gbtree', 'alpha': 6.941708044874332e-05, 'lambda': 0.021540639086355815, 'subsample': 0.9404003433075357, 'colsample_bytree': 0.6298434797422664, 'learning_rate': 0.0024413475394681346, 'max_depth': 9, 'min_child_weight': 2, 'gamma': 3.5404277293465314e-08, 'grow_policy': 'depthwise'}. Best is trial 3 with value: 0.26897247310480726.\n"
     ]
    },
    {
     "name": "stdout",
     "output_type": "stream",
     "text": [
      "Repeat \u001b[1m\u001b[34m#1\n"
     ]
    },
    {
     "name": "stderr",
     "output_type": "stream",
     "text": [
      "[I 2023-06-22 16:29:51,242] Trial 5 finished with value: 0.42514660822269634 and parameters: {'booster': 'gbtree', 'alpha': 0.0005160902120298885, 'lambda': 5.521983192407934e-08, 'subsample': 0.5185068528775426, 'colsample_bytree': 0.6587530236698537, 'learning_rate': 0.0003433095421755422, 'max_depth': 6, 'min_child_weight': 4, 'gamma': 0.39024495524966096, 'grow_policy': 'depthwise'}. Best is trial 3 with value: 0.26897247310480726.\n"
     ]
    },
    {
     "name": "stdout",
     "output_type": "stream",
     "text": [
      "Repeat \u001b[1m\u001b[34m#1\n"
     ]
    },
    {
     "name": "stderr",
     "output_type": "stream",
     "text": [
      "[I 2023-06-22 16:30:15,540] Trial 6 finished with value: 0.2545810464972954 and parameters: {'booster': 'gbtree', 'alpha': 0.23380233458937763, 'lambda': 0.25192922859823313, 'subsample': 0.7753176348706716, 'colsample_bytree': 0.82038643174681, 'learning_rate': 0.006307632698607261, 'max_depth': 10, 'min_child_weight': 4, 'gamma': 2.9863987510044754e-06, 'grow_policy': 'depthwise'}. Best is trial 6 with value: 0.2545810464972954.\n"
     ]
    },
    {
     "name": "stdout",
     "output_type": "stream",
     "text": [
      "Repeat \u001b[1m\u001b[34m#1\n"
     ]
    },
    {
     "name": "stderr",
     "output_type": "stream",
     "text": [
      "[I 2023-06-22 16:30:46,956] Trial 7 finished with value: 0.41154054262045936 and parameters: {'booster': 'gbtree', 'alpha': 1.0385132563160032e-07, 'lambda': 1.8680878630183144e-06, 'subsample': 0.4638133014019052, 'colsample_bytree': 0.7216598243832318, 'learning_rate': 0.0004238976441000984, 'max_depth': 10, 'min_child_weight': 9, 'gamma': 1.528825948234888e-08, 'grow_policy': 'lossguide'}. Best is trial 6 with value: 0.2545810464972954.\n"
     ]
    },
    {
     "name": "stdout",
     "output_type": "stream",
     "text": [
      "Repeat \u001b[1m\u001b[34m#1\n"
     ]
    },
    {
     "name": "stderr",
     "output_type": "stream",
     "text": [
      "[I 2023-06-22 16:31:16,847] Trial 8 finished with value: 0.31934537256966095 and parameters: {'booster': 'gbtree', 'alpha': 0.0029618913023145036, 'lambda': 1.1286400405799391e-08, 'subsample': 0.7099393393448945, 'colsample_bytree': 0.7091018702925644, 'learning_rate': 0.0008008844078842936, 'max_depth': 5, 'min_child_weight': 8, 'gamma': 2.926664700291671e-06, 'grow_policy': 'depthwise'}. Best is trial 6 with value: 0.2545810464972954.\n"
     ]
    },
    {
     "name": "stdout",
     "output_type": "stream",
     "text": [
      "Repeat \u001b[1m\u001b[34m#1\n"
     ]
    },
    {
     "name": "stderr",
     "output_type": "stream",
     "text": [
      "[I 2023-06-22 16:31:47,303] Trial 9 finished with value: 0.4706364618795068 and parameters: {'booster': 'gbtree', 'alpha': 0.00019230456945992333, 'lambda': 0.00012904240580755843, 'subsample': 0.951571262323656, 'colsample_bytree': 0.8608301865557887, 'learning_rate': 0.0002373295347440512, 'max_depth': 4, 'min_child_weight': 10, 'gamma': 1.4429584425195994e-05, 'grow_policy': 'depthwise'}. Best is trial 6 with value: 0.2545810464972954.\n"
     ]
    },
    {
     "name": "stdout",
     "output_type": "stream",
     "text": [
      "Repeat \u001b[1m\u001b[34m#1\n"
     ]
    },
    {
     "name": "stderr",
     "output_type": "stream",
     "text": [
      "[I 2023-06-22 16:31:53,204] Trial 10 finished with value: 0.24618098971821656 and parameters: {'booster': 'gbtree', 'alpha': 0.3514803060955211, 'lambda': 0.5072186171182583, 'subsample': 0.7567552014366716, 'colsample_bytree': 0.4187406683947937, 'learning_rate': 0.030841688128395297, 'max_depth': 7, 'min_child_weight': 5, 'gamma': 0.0007483142295600056, 'grow_policy': 'lossguide'}. Best is trial 10 with value: 0.24618098971821656.\n"
     ]
    },
    {
     "name": "stdout",
     "output_type": "stream",
     "text": [
      "Repeat \u001b[1m\u001b[34m#1\n"
     ]
    },
    {
     "name": "stderr",
     "output_type": "stream",
     "text": [
      "[I 2023-06-22 16:31:58,767] Trial 11 finished with value: 0.2532888431757791 and parameters: {'booster': 'gbtree', 'alpha': 0.4000461915892779, 'lambda': 0.8406558190818388, 'subsample': 0.7631231786722066, 'colsample_bytree': 0.41860425301091575, 'learning_rate': 0.030042082800093895, 'max_depth': 7, 'min_child_weight': 5, 'gamma': 0.00059524843071856, 'grow_policy': 'lossguide'}. Best is trial 10 with value: 0.24618098971821656.\n"
     ]
    },
    {
     "name": "stdout",
     "output_type": "stream",
     "text": [
      "Repeat \u001b[1m\u001b[34m#1\n"
     ]
    },
    {
     "name": "stderr",
     "output_type": "stream",
     "text": [
      "[I 2023-06-22 16:32:03,388] Trial 12 finished with value: 0.2496764728102793 and parameters: {'booster': 'gbtree', 'alpha': 0.9338610122839167, 'lambda': 0.8990917843329388, 'subsample': 0.7956780939940179, 'colsample_bytree': 0.40575236292075306, 'learning_rate': 0.05132366049127903, 'max_depth': 7, 'min_child_weight': 6, 'gamma': 0.0009015449819385161, 'grow_policy': 'lossguide'}. Best is trial 10 with value: 0.24618098971821656.\n"
     ]
    },
    {
     "name": "stdout",
     "output_type": "stream",
     "text": [
      "Repeat \u001b[1m\u001b[34m#1\n"
     ]
    },
    {
     "name": "stderr",
     "output_type": "stream",
     "text": [
      "[I 2023-06-22 16:32:06,035] Trial 13 finished with value: 0.2732531548176411 and parameters: {'booster': 'gbtree', 'alpha': 0.04109380804379837, 'lambda': 0.023248341075699244, 'subsample': 0.6155101412562931, 'colsample_bytree': 0.5146512914288122, 'learning_rate': 0.09850350247918817, 'max_depth': 6, 'min_child_weight': 6, 'gamma': 0.0007779037114023614, 'grow_policy': 'lossguide'}. Best is trial 10 with value: 0.24618098971821656.\n"
     ]
    },
    {
     "name": "stdout",
     "output_type": "stream",
     "text": [
      "Repeat \u001b[1m\u001b[34m#1\n"
     ]
    },
    {
     "name": "stderr",
     "output_type": "stream",
     "text": [
      "[I 2023-06-22 16:32:13,147] Trial 14 finished with value: 0.24547840258041254 and parameters: {'booster': 'gbtree', 'alpha': 0.6858093237119874, 'lambda': 0.04596758358310025, 'subsample': 0.8475020480598872, 'colsample_bytree': 0.5213897981605456, 'learning_rate': 0.02311758117626669, 'max_depth': 7, 'min_child_weight': 7, 'gamma': 0.006791016497642546, 'grow_policy': 'lossguide'}. Best is trial 14 with value: 0.24547840258041254.\n"
     ]
    },
    {
     "name": "stdout",
     "output_type": "stream",
     "text": [
      "Repeat \u001b[1m\u001b[34m#1\n"
     ]
    },
    {
     "name": "stderr",
     "output_type": "stream",
     "text": [
      "[I 2023-06-22 16:32:20,223] Trial 15 finished with value: 0.2502646466561875 and parameters: {'booster': 'gbtree', 'alpha': 0.02882210082244432, 'lambda': 0.004580411395174049, 'subsample': 0.8471548663741245, 'colsample_bytree': 0.544306520968908, 'learning_rate': 0.01707273935802322, 'max_depth': 5, 'min_child_weight': 8, 'gamma': 0.010031203693263045, 'grow_policy': 'lossguide'}. Best is trial 14 with value: 0.24547840258041254.\n"
     ]
    },
    {
     "name": "stdout",
     "output_type": "stream",
     "text": [
      "Repeat \u001b[1m\u001b[34m#1\n"
     ]
    },
    {
     "name": "stderr",
     "output_type": "stream",
     "text": [
      "[I 2023-06-22 16:32:28,270] Trial 16 finished with value: 0.24175675814712402 and parameters: {'booster': 'gbtree', 'alpha': 0.05305054872536747, 'lambda': 0.001026986833364348, 'subsample': 0.674001050869642, 'colsample_bytree': 0.5003300658424065, 'learning_rate': 0.013849916845922834, 'max_depth': 3, 'min_child_weight': 7, 'gamma': 0.014568363136619012, 'grow_policy': 'lossguide'}. Best is trial 16 with value: 0.24175675814712402.\n"
     ]
    },
    {
     "name": "stdout",
     "output_type": "stream",
     "text": [
      "Repeat \u001b[1m\u001b[34m#1\n"
     ]
    },
    {
     "name": "stderr",
     "output_type": "stream",
     "text": [
      "[I 2023-06-22 16:32:39,524] Trial 17 finished with value: 0.2438405924427009 and parameters: {'booster': 'gbtree', 'alpha': 0.043612779826298416, 'lambda': 0.0005604929706356596, 'subsample': 0.678968229576769, 'colsample_bytree': 0.5507790179142918, 'learning_rate': 0.010696013226252705, 'max_depth': 3, 'min_child_weight': 8, 'gamma': 0.022403289432306475, 'grow_policy': 'lossguide'}. Best is trial 16 with value: 0.24175675814712402.\n"
     ]
    },
    {
     "name": "stdout",
     "output_type": "stream",
     "text": [
      "Repeat \u001b[1m\u001b[34m#1\n"
     ]
    },
    {
     "name": "stderr",
     "output_type": "stream",
     "text": [
      "[I 2023-06-22 16:32:50,705] Trial 18 finished with value: 0.2455561310118649 and parameters: {'booster': 'gbtree', 'alpha': 0.031170106054253466, 'lambda': 0.00037876820630836175, 'subsample': 0.6570992567053089, 'colsample_bytree': 0.5908437963083378, 'learning_rate': 0.01039025688087038, 'max_depth': 3, 'min_child_weight': 10, 'gamma': 0.9839021146303846, 'grow_policy': 'lossguide'}. Best is trial 16 with value: 0.24175675814712402.\n"
     ]
    },
    {
     "name": "stdout",
     "output_type": "stream",
     "text": [
      "Repeat \u001b[1m\u001b[34m#1\n"
     ]
    },
    {
     "name": "stderr",
     "output_type": "stream",
     "text": [
      "[I 2023-06-22 16:33:13,138] Trial 19 finished with value: 0.24786162997447136 and parameters: {'booster': 'gbtree', 'alpha': 0.06841847468416816, 'lambda': 0.0011391672741053527, 'subsample': 0.594545314481195, 'colsample_bytree': 0.4873763379933954, 'learning_rate': 0.003569389711556791, 'max_depth': 3, 'min_child_weight': 8, 'gamma': 0.045263929135076805, 'grow_policy': 'lossguide'}. Best is trial 16 with value: 0.24175675814712402.\n"
     ]
    },
    {
     "name": "stdout",
     "output_type": "stream",
     "text": [
      "Repeat \u001b[1m\u001b[34m#1\n"
     ]
    },
    {
     "name": "stderr",
     "output_type": "stream",
     "text": [
      "[I 2023-06-22 16:33:24,304] Trial 20 finished with value: 0.23996048301528294 and parameters: {'booster': 'gbtree', 'alpha': 0.007754142161310854, 'lambda': 3.4916738036360625e-05, 'subsample': 0.6876596033395617, 'colsample_bytree': 0.5582686187713529, 'learning_rate': 0.010042400451701678, 'max_depth': 4, 'min_child_weight': 9, 'gamma': 0.017529252759040218, 'grow_policy': 'lossguide'}. Best is trial 20 with value: 0.23996048301528294.\n"
     ]
    },
    {
     "name": "stdout",
     "output_type": "stream",
     "text": [
      "Repeat \u001b[1m\u001b[34m#1\n"
     ]
    },
    {
     "name": "stderr",
     "output_type": "stream",
     "text": [
      "[I 2023-06-22 16:33:33,688] Trial 21 finished with value: 0.2457232793106759 and parameters: {'booster': 'gbtree', 'alpha': 0.007226467219029404, 'lambda': 2.8440311764686762e-05, 'subsample': 0.6907736138072318, 'colsample_bytree': 0.5681045802360862, 'learning_rate': 0.010098955291459214, 'max_depth': 4, 'min_child_weight': 9, 'gamma': 0.010501363148203595, 'grow_policy': 'lossguide'}. Best is trial 20 with value: 0.23996048301528294.\n"
     ]
    },
    {
     "name": "stdout",
     "output_type": "stream",
     "text": [
      "Repeat \u001b[1m\u001b[34m#1\n"
     ]
    },
    {
     "name": "stderr",
     "output_type": "stream",
     "text": [
      "[I 2023-06-22 16:33:41,449] Trial 22 finished with value: 0.2401991134544664 and parameters: {'booster': 'gbtree', 'alpha': 0.063622160148883, 'lambda': 9.345039791154518e-05, 'subsample': 0.5987594502102829, 'colsample_bytree': 0.49868243312814564, 'learning_rate': 0.011233636858179425, 'max_depth': 3, 'min_child_weight': 9, 'gamma': 0.10261509231412659, 'grow_policy': 'lossguide'}. Best is trial 20 with value: 0.23996048301528294.\n"
     ]
    },
    {
     "name": "stdout",
     "output_type": "stream",
     "text": [
      "Repeat \u001b[1m\u001b[34m#1\n"
     ]
    },
    {
     "name": "stderr",
     "output_type": "stream",
     "text": [
      "[I 2023-06-22 16:33:47,590] Trial 23 finished with value: 0.24825812980164352 and parameters: {'booster': 'gbtree', 'alpha': 0.0014804124130782974, 'lambda': 4.469101651106924e-05, 'subsample': 0.5492388305120256, 'colsample_bytree': 0.47671504508932294, 'learning_rate': 0.016676596460752844, 'max_depth': 4, 'min_child_weight': 9, 'gamma': 0.1118569494402304, 'grow_policy': 'lossguide'}. Best is trial 20 with value: 0.23996048301528294.\n"
     ]
    },
    {
     "name": "stdout",
     "output_type": "stream",
     "text": [
      "Repeat \u001b[1m\u001b[34m#1\n"
     ]
    },
    {
     "name": "stderr",
     "output_type": "stream",
     "text": [
      "[I 2023-06-22 16:34:00,612] Trial 24 finished with value: 0.2469339942576771 and parameters: {'booster': 'gbtree', 'alpha': 0.007963392689526132, 'lambda': 0.00014709447124800786, 'subsample': 0.6188574202921575, 'colsample_bytree': 0.4967788332261294, 'learning_rate': 0.005484489961962489, 'max_depth': 3, 'min_child_weight': 10, 'gamma': 0.23403362397953484, 'grow_policy': 'lossguide'}. Best is trial 20 with value: 0.23996048301528294.\n"
     ]
    },
    {
     "name": "stdout",
     "output_type": "stream",
     "text": [
      "Repeat \u001b[1m\u001b[34m#1\n"
     ]
    },
    {
     "name": "stderr",
     "output_type": "stream",
     "text": [
      "[I 2023-06-22 16:34:23,230] Trial 25 finished with value: 0.2539343051916507 and parameters: {'booster': 'gbtree', 'alpha': 0.10947499845644725, 'lambda': 0.0019719386878312207, 'subsample': 0.565524801032276, 'colsample_bytree': 0.5962641617711044, 'learning_rate': 0.0027193737632093856, 'max_depth': 5, 'min_child_weight': 7, 'gamma': 0.035285914953858875, 'grow_policy': 'lossguide'}. Best is trial 20 with value: 0.23996048301528294.\n"
     ]
    },
    {
     "name": "stdout",
     "output_type": "stream",
     "text": [
      "Repeat \u001b[1m\u001b[34m#1\n"
     ]
    },
    {
     "name": "stderr",
     "output_type": "stream",
     "text": [
      "[I 2023-06-22 16:34:31,463] Trial 26 finished with value: 0.2429262924657777 and parameters: {'booster': 'gbtree', 'alpha': 0.013198163529481553, 'lambda': 1.6861513583931483e-05, 'subsample': 0.6445419998981511, 'colsample_bytree': 0.48478972849473073, 'learning_rate': 0.011703675652939543, 'max_depth': 3, 'min_child_weight': 9, 'gamma': 0.0032589845029093916, 'grow_policy': 'lossguide'}. Best is trial 20 with value: 0.23996048301528294.\n"
     ]
    },
    {
     "name": "stdout",
     "output_type": "stream",
     "text": [
      "Repeat \u001b[1m\u001b[34m#1\n"
     ]
    },
    {
     "name": "stderr",
     "output_type": "stream",
     "text": [
      "[I 2023-06-22 16:34:34,435] Trial 27 finished with value: 0.25622431341867014 and parameters: {'booster': 'gbtree', 'alpha': 0.0902390436438889, 'lambda': 0.00021858657163533577, 'subsample': 0.7184465998184711, 'colsample_bytree': 0.443199586598099, 'learning_rate': 0.04989966346860115, 'max_depth': 4, 'min_child_weight': 7, 'gamma': 0.7804262235859662, 'grow_policy': 'lossguide'}. Best is trial 20 with value: 0.23996048301528294.\n"
     ]
    },
    {
     "name": "stdout",
     "output_type": "stream",
     "text": [
      "Repeat \u001b[1m\u001b[34m#1\n"
     ]
    },
    {
     "name": "stderr",
     "output_type": "stream",
     "text": [
      "[I 2023-06-22 16:34:45,489] Trial 28 finished with value: 0.244454334598293 and parameters: {'booster': 'gbtree', 'alpha': 0.13289242502953139, 'lambda': 8.246997544986221e-05, 'subsample': 0.649409800766968, 'colsample_bytree': 0.5404957942683034, 'learning_rate': 0.007301943973356281, 'max_depth': 5, 'min_child_weight': 9, 'gamma': 0.09644858274805469, 'grow_policy': 'lossguide'}. Best is trial 20 with value: 0.23996048301528294.\n"
     ]
    },
    {
     "name": "stdout",
     "output_type": "stream",
     "text": [
      "Repeat \u001b[1m\u001b[34m#1\n"
     ]
    },
    {
     "name": "stderr",
     "output_type": "stream",
     "text": [
      "[I 2023-06-22 16:35:09,749] Trial 29 finished with value: 0.5570742407971433 and parameters: {'booster': 'gbtree', 'alpha': 0.010194859342108058, 'lambda': 6.714981413943682e-06, 'subsample': 0.49976970691809003, 'colsample_bytree': 0.6503293736796658, 'learning_rate': 0.00013417245953469174, 'max_depth': 4, 'min_child_weight': 10, 'gamma': 0.16243497396305523, 'grow_policy': 'lossguide'}. Best is trial 20 with value: 0.23996048301528294.\n"
     ]
    },
    {
     "name": "stdout",
     "output_type": "stream",
     "text": [
      "Repeat \u001b[1m\u001b[34m#1\n"
     ]
    },
    {
     "name": "stderr",
     "output_type": "stream",
     "text": [
      "[I 2023-06-22 16:35:29,417] Trial 30 finished with value: 0.24790977215443127 and parameters: {'booster': 'gbtree', 'alpha': 0.0012535927616464245, 'lambda': 0.0030888191450641417, 'subsample': 0.5862740664727694, 'colsample_bytree': 0.5973301712667554, 'learning_rate': 0.003922866582472268, 'max_depth': 3, 'min_child_weight': 8, 'gamma': 0.053031611696242216, 'grow_policy': 'lossguide'}. Best is trial 20 with value: 0.23996048301528294.\n"
     ]
    },
    {
     "name": "stdout",
     "output_type": "stream",
     "text": [
      "Repeat \u001b[1m\u001b[34m#1\n"
     ]
    },
    {
     "name": "stderr",
     "output_type": "stream",
     "text": [
      "[I 2023-06-22 16:35:41,998] Trial 31 finished with value: 0.24508668657183932 and parameters: {'booster': 'gbtree', 'alpha': 0.017892088967016377, 'lambda': 2.0421560932671727e-05, 'subsample': 0.6323904114824022, 'colsample_bytree': 0.46939351080341635, 'learning_rate': 0.014565954394885986, 'max_depth': 3, 'min_child_weight': 9, 'gamma': 0.0033398403055770885, 'grow_policy': 'lossguide'}. Best is trial 20 with value: 0.23996048301528294.\n"
     ]
    },
    {
     "name": "stdout",
     "output_type": "stream",
     "text": [
      "Repeat \u001b[1m\u001b[34m#1\n"
     ]
    },
    {
     "name": "stderr",
     "output_type": "stream",
     "text": [
      "[I 2023-06-22 16:35:57,289] Trial 32 finished with value: 0.24348314131402166 and parameters: {'booster': 'gbtree', 'alpha': 0.00868959376647254, 'lambda': 0.0005520523265189204, 'subsample': 0.6654811464881376, 'colsample_bytree': 0.5092955059284406, 'learning_rate': 0.009221446867099662, 'max_depth': 4, 'min_child_weight': 9, 'gamma': 0.0038833284886497124, 'grow_policy': 'lossguide'}. Best is trial 20 with value: 0.23996048301528294.\n"
     ]
    },
    {
     "name": "stdout",
     "output_type": "stream",
     "text": [
      "Repeat \u001b[1m\u001b[34m#1\n"
     ]
    },
    {
     "name": "stderr",
     "output_type": "stream",
     "text": [
      "[I 2023-06-22 16:36:06,492] Trial 33 finished with value: 0.2459964596748817 and parameters: {'booster': 'gbtree', 'alpha': 0.13548039392760614, 'lambda': 6.820727887742536e-05, 'subsample': 0.7139364828630752, 'colsample_bytree': 0.45398685031624114, 'learning_rate': 0.0153519730169056, 'max_depth': 3, 'min_child_weight': 7, 'gamma': 0.020880796741345454, 'grow_policy': 'lossguide'}. Best is trial 20 with value: 0.23996048301528294.\n"
     ]
    },
    {
     "name": "stdout",
     "output_type": "stream",
     "text": [
      "Repeat \u001b[1m\u001b[34m#1\n"
     ]
    },
    {
     "name": "stderr",
     "output_type": "stream",
     "text": [
      "[I 2023-06-22 16:36:20,436] Trial 34 finished with value: 0.25139031265959993 and parameters: {'booster': 'gbtree', 'alpha': 0.0030084554519332687, 'lambda': 6.06169355418461e-06, 'subsample': 0.40795024252523315, 'colsample_bytree': 0.48631198318599644, 'learning_rate': 0.008011911923157129, 'max_depth': 3, 'min_child_weight': 8, 'gamma': 0.0023807608219759534, 'grow_policy': 'lossguide'}. Best is trial 20 with value: 0.23996048301528294.\n"
     ]
    },
    {
     "name": "stdout",
     "output_type": "stream",
     "text": [
      "Repeat \u001b[1m\u001b[34m#1\n"
     ]
    },
    {
     "name": "stderr",
     "output_type": "stream",
     "text": [
      "[I 2023-06-22 16:36:49,785] Trial 35 finished with value: 0.24813700478399808 and parameters: {'booster': 'gbtree', 'alpha': 0.018829102142773103, 'lambda': 1.47480106036212e-05, 'subsample': 0.6342870689198176, 'colsample_bytree': 0.5296680971008447, 'learning_rate': 0.004831595920440785, 'max_depth': 4, 'min_child_weight': 10, 'gamma': 0.00017684920561767455, 'grow_policy': 'lossguide'}. Best is trial 20 with value: 0.23996048301528294.\n"
     ]
    },
    {
     "name": "stdout",
     "output_type": "stream",
     "text": [
      "Repeat \u001b[1m\u001b[34m#1\n"
     ]
    },
    {
     "name": "stderr",
     "output_type": "stream",
     "text": [
      "[I 2023-06-22 16:37:13,951] Trial 36 finished with value: 0.2728333261090902 and parameters: {'booster': 'gbtree', 'alpha': 0.0042460419634065116, 'lambda': 0.00020165711460712763, 'subsample': 0.5862572358011673, 'colsample_bytree': 0.5645320565054894, 'learning_rate': 0.0017337995221377617, 'max_depth': 3, 'min_child_weight': 5, 'gamma': 0.021256000902260545, 'grow_policy': 'depthwise'}. Best is trial 20 with value: 0.23996048301528294.\n"
     ]
    },
    {
     "name": "stdout",
     "output_type": "stream",
     "text": [
      "Repeat \u001b[1m\u001b[34m#1\n"
     ]
    },
    {
     "name": "stderr",
     "output_type": "stream",
     "text": [
      "[I 2023-06-22 16:37:30,693] Trial 37 finished with value: 0.24736267559270597 and parameters: {'booster': 'gbtree', 'alpha': 0.3060038021290148, 'lambda': 1.5809318725974013e-06, 'subsample': 0.6809962926711738, 'colsample_bytree': 0.44795014507067493, 'learning_rate': 0.005929238199580808, 'max_depth': 5, 'min_child_weight': 9, 'gamma': 0.3672511213386525, 'grow_policy': 'lossguide'}. Best is trial 20 with value: 0.23996048301528294.\n"
     ]
    },
    {
     "name": "stdout",
     "output_type": "stream",
     "text": [
      "Repeat \u001b[1m\u001b[34m#1\n"
     ]
    },
    {
     "name": "stderr",
     "output_type": "stream",
     "text": [
      "[I 2023-06-22 16:37:37,807] Trial 38 finished with value: 0.24236748118181323 and parameters: {'booster': 'gbtree', 'alpha': 0.0006617673576400934, 'lambda': 3.506838651595133e-05, 'subsample': 0.5281353909974147, 'colsample_bytree': 0.6238595313031223, 'learning_rate': 0.012890030665327483, 'max_depth': 4, 'min_child_weight': 7, 'gamma': 0.08310495438112869, 'grow_policy': 'depthwise'}. Best is trial 20 with value: 0.23996048301528294.\n"
     ]
    },
    {
     "name": "stdout",
     "output_type": "stream",
     "text": [
      "Repeat \u001b[1m\u001b[34m#1\n"
     ]
    },
    {
     "name": "stderr",
     "output_type": "stream",
     "text": [
      "[I 2023-06-22 16:37:49,248] Trial 39 finished with value: 0.2406898881769731 and parameters: {'booster': 'gbtree', 'alpha': 0.000697109953201634, 'lambda': 5.8990035616163796e-05, 'subsample': 0.5356070941847548, 'colsample_bytree': 0.6257427152249034, 'learning_rate': 0.0069696141223723794, 'max_depth': 6, 'min_child_weight': 3, 'gamma': 0.07889083712488007, 'grow_policy': 'depthwise'}. Best is trial 20 with value: 0.23996048301528294.\n"
     ]
    },
    {
     "name": "stdout",
     "output_type": "stream",
     "text": [
      "Repeat \u001b[1m\u001b[34m#1\n"
     ]
    },
    {
     "name": "stderr",
     "output_type": "stream",
     "text": [
      "[I 2023-06-22 16:38:09,576] Trial 40 finished with value: 0.24865829290303246 and parameters: {'booster': 'gbtree', 'alpha': 0.00021418761766290996, 'lambda': 7.692471770564848e-05, 'subsample': 0.48698664976920547, 'colsample_bytree': 0.6743121609487304, 'learning_rate': 0.003904586927283286, 'max_depth': 6, 'min_child_weight': 2, 'gamma': 0.15787435006559133, 'grow_policy': 'depthwise'}. Best is trial 20 with value: 0.23996048301528294.\n"
     ]
    },
    {
     "name": "stdout",
     "output_type": "stream",
     "text": [
      "Repeat \u001b[1m\u001b[34m#1\n"
     ]
    },
    {
     "name": "stderr",
     "output_type": "stream",
     "text": [
      "[I 2023-06-22 16:38:21,420] Trial 41 finished with value: 0.24764751734314505 and parameters: {'booster': 'gbtree', 'alpha': 0.0004554947050683487, 'lambda': 3.003246633056301e-05, 'subsample': 0.5302669770093279, 'colsample_bytree': 0.6249389249529049, 'learning_rate': 0.007329700514417611, 'max_depth': 8, 'min_child_weight': 3, 'gamma': 0.10018535356605021, 'grow_policy': 'depthwise'}. Best is trial 20 with value: 0.23996048301528294.\n"
     ]
    },
    {
     "name": "stdout",
     "output_type": "stream",
     "text": [
      "Repeat \u001b[1m\u001b[34m#1\n"
     ]
    },
    {
     "name": "stderr",
     "output_type": "stream",
     "text": [
      "[I 2023-06-22 16:38:26,515] Trial 42 finished with value: 0.24168799564926383 and parameters: {'booster': 'gbtree', 'alpha': 5.987776686742364e-05, 'lambda': 0.0003227912072754134, 'subsample': 0.5258760398352068, 'colsample_bytree': 0.6226695444562298, 'learning_rate': 0.020414838389474825, 'max_depth': 4, 'min_child_weight': 3, 'gamma': 0.26555342124536213, 'grow_policy': 'depthwise'}. Best is trial 20 with value: 0.23996048301528294.\n"
     ]
    },
    {
     "name": "stdout",
     "output_type": "stream",
     "text": [
      "Repeat \u001b[1m\u001b[34m#1\n"
     ]
    },
    {
     "name": "stderr",
     "output_type": "stream",
     "text": [
      "[I 2023-06-22 16:38:31,899] Trial 43 finished with value: 0.2567559364280299 and parameters: {'booster': 'gbtree', 'alpha': 2.9496767036830336e-05, 'lambda': 0.0003106218919529628, 'subsample': 0.5590919726977502, 'colsample_bytree': 0.6886307062474328, 'learning_rate': 0.01867527855442352, 'max_depth': 9, 'min_child_weight': 4, 'gamma': 0.440487954444369, 'grow_policy': 'depthwise'}. Best is trial 20 with value: 0.23996048301528294.\n"
     ]
    },
    {
     "name": "stdout",
     "output_type": "stream",
     "text": [
      "Repeat \u001b[1m\u001b[34m#1\n"
     ]
    },
    {
     "name": "stderr",
     "output_type": "stream",
     "text": [
      "[I 2023-06-22 16:38:36,550] Trial 44 finished with value: 0.24942805400425466 and parameters: {'booster': 'gbtree', 'alpha': 5.967224268858599e-05, 'lambda': 0.0006934839121499893, 'subsample': 0.4708488730206469, 'colsample_bytree': 0.5776870827778865, 'learning_rate': 0.025648898752601054, 'max_depth': 6, 'min_child_weight': 3, 'gamma': 0.2871313522197438, 'grow_policy': 'depthwise'}. Best is trial 20 with value: 0.23996048301528294.\n"
     ]
    },
    {
     "name": "stdout",
     "output_type": "stream",
     "text": [
      "Repeat \u001b[1m\u001b[34m#1\n"
     ]
    },
    {
     "name": "stderr",
     "output_type": "stream",
     "text": [
      "[I 2023-06-22 16:38:47,318] Trial 45 finished with value: 0.24790850900884612 and parameters: {'booster': 'gbtree', 'alpha': 4.3249713996365734e-06, 'lambda': 0.00010867760444875827, 'subsample': 0.5023595042829802, 'colsample_bytree': 0.651744291505461, 'learning_rate': 0.00753565941671468, 'max_depth': 5, 'min_child_weight': 2, 'gamma': 0.03072539973832144, 'grow_policy': 'depthwise'}. Best is trial 20 with value: 0.23996048301528294.\n"
     ]
    },
    {
     "name": "stdout",
     "output_type": "stream",
     "text": [
      "Repeat \u001b[1m\u001b[34m#1\n"
     ]
    },
    {
     "name": "stderr",
     "output_type": "stream",
     "text": [
      "[I 2023-06-22 16:39:01,420] Trial 46 finished with value: 0.246035812139533 and parameters: {'booster': 'gbtree', 'alpha': 0.0016394139689977004, 'lambda': 0.0009146970913456809, 'subsample': 0.607817508934505, 'colsample_bytree': 0.6227418202759679, 'learning_rate': 0.0049895776782202285, 'max_depth': 4, 'min_child_weight': 3, 'gamma': 0.0660753033148273, 'grow_policy': 'depthwise'}. Best is trial 20 with value: 0.23996048301528294.\n"
     ]
    },
    {
     "name": "stdout",
     "output_type": "stream",
     "text": [
      "Repeat \u001b[1m\u001b[34m#1\n"
     ]
    },
    {
     "name": "stderr",
     "output_type": "stream",
     "text": [
      "[I 2023-06-22 16:39:09,034] Trial 47 finished with value: 0.24421397874279874 and parameters: {'booster': 'gbtree', 'alpha': 0.002732397598570068, 'lambda': 0.00024483699066364716, 'subsample': 0.5718941596086137, 'colsample_bytree': 0.5452472665511483, 'learning_rate': 0.01330958772232711, 'max_depth': 8, 'min_child_weight': 4, 'gamma': 0.014489498799402213, 'grow_policy': 'depthwise'}. Best is trial 20 with value: 0.23996048301528294.\n"
     ]
    },
    {
     "name": "stdout",
     "output_type": "stream",
     "text": [
      "Repeat \u001b[1m\u001b[34m#1\n"
     ]
    },
    {
     "name": "stderr",
     "output_type": "stream",
     "text": [
      "[I 2023-06-22 16:39:13,740] Trial 48 finished with value: 0.2500018987453398 and parameters: {'booster': 'gbtree', 'alpha': 0.00406072574922659, 'lambda': 0.006436017626803096, 'subsample': 0.5227592247594527, 'colsample_bytree': 0.7439556468044218, 'learning_rate': 0.020055060479063226, 'max_depth': 5, 'min_child_weight': 6, 'gamma': 0.6629096018374513, 'grow_policy': 'depthwise'}. Best is trial 20 with value: 0.23996048301528294.\n"
     ]
    },
    {
     "name": "stdout",
     "output_type": "stream",
     "text": [
      "Repeat \u001b[1m\u001b[34m#1\n"
     ]
    },
    {
     "name": "stderr",
     "output_type": "stream",
     "text": [
      "[I 2023-06-22 16:39:17,565] Trial 49 finished with value: 0.25041969289713656 and parameters: {'booster': 'gbtree', 'alpha': 0.04513393380514267, 'lambda': 0.00013820413708891995, 'subsample': 0.6040757355086743, 'colsample_bytree': 0.5134363726657099, 'learning_rate': 0.030707478710591, 'max_depth': 6, 'min_child_weight': 4, 'gamma': 0.3108749281355164, 'grow_policy': 'depthwise'}. Best is trial 20 with value: 0.23996048301528294.\n"
     ]
    },
    {
     "name": "stdout",
     "output_type": "stream",
     "text": [
      "Repeat \u001b[1m\u001b[34m#1\n"
     ]
    },
    {
     "name": "stderr",
     "output_type": "stream",
     "text": [
      "[I 2023-06-22 16:39:21,683] Trial 50 finished with value: 0.24790151547890035 and parameters: {'booster': 'gbtree', 'alpha': 0.019781492214320316, 'lambda': 0.0017739800972848092, 'subsample': 0.5443818051956824, 'colsample_bytree': 0.5746285525481564, 'learning_rate': 0.022467838883661877, 'max_depth': 4, 'min_child_weight': 3, 'gamma': 0.006349891009478068, 'grow_policy': 'depthwise'}. Best is trial 20 with value: 0.23996048301528294.\n"
     ]
    },
    {
     "name": "stdout",
     "output_type": "stream",
     "text": [
      "Repeat \u001b[1m\u001b[34m#1\n"
     ]
    },
    {
     "name": "stderr",
     "output_type": "stream",
     "text": [
      "[I 2023-06-22 16:39:30,121] Trial 51 finished with value: 0.24711258198189773 and parameters: {'booster': 'gbtree', 'alpha': 0.0007113735099218931, 'lambda': 6.013852285401985e-05, 'subsample': 0.5066065414924796, 'colsample_bytree': 0.613417689959432, 'learning_rate': 0.01192535662160172, 'max_depth': 4, 'min_child_weight': 6, 'gamma': 0.07309670424920904, 'grow_policy': 'depthwise'}. Best is trial 20 with value: 0.23996048301528294.\n"
     ]
    },
    {
     "name": "stdout",
     "output_type": "stream",
     "text": [
      "Repeat \u001b[1m\u001b[34m#1\n"
     ]
    },
    {
     "name": "stderr",
     "output_type": "stream",
     "text": [
      "[I 2023-06-22 16:39:38,705] Trial 52 finished with value: 0.242908315469579 and parameters: {'booster': 'gbtree', 'alpha': 0.0003027897400288846, 'lambda': 4.4792767421125034e-05, 'subsample': 0.5328144176238571, 'colsample_bytree': 0.6443642587280889, 'learning_rate': 0.008967599172895217, 'max_depth': 4, 'min_child_weight': 5, 'gamma': 0.04972287498119779, 'grow_policy': 'depthwise'}. Best is trial 20 with value: 0.23996048301528294.\n"
     ]
    },
    {
     "name": "stdout",
     "output_type": "stream",
     "text": [
      "Repeat \u001b[1m\u001b[34m#1\n"
     ]
    },
    {
     "name": "stderr",
     "output_type": "stream",
     "text": [
      "[I 2023-06-22 16:39:45,546] Trial 53 finished with value: 0.24614328689008033 and parameters: {'booster': 'gbtree', 'alpha': 0.0007644227822566538, 'lambda': 0.0005044713919439347, 'subsample': 0.5733604460154883, 'colsample_bytree': 0.5562463807745984, 'learning_rate': 0.013311038325612886, 'max_depth': 3, 'min_child_weight': 7, 'gamma': 0.24404933013830807, 'grow_policy': 'depthwise'}. Best is trial 20 with value: 0.23996048301528294.\n"
     ]
    },
    {
     "name": "stdout",
     "output_type": "stream",
     "text": [
      "Repeat \u001b[1m\u001b[34m#1\n"
     ]
    }
   ],
   "source": [
    "X, y = train_df[features], train_df['Class']\n",
    "\n",
    "def objective(trial):\n",
    "    bll_list = list()\n",
    "\n",
    "    params = {\n",
    "        \"n_estimators\": CFG.n_estimators, # trial.suggest_int('n_estimators', 100, 1000, step=100),\n",
    "        \"early_stopping_rounds\": CFG.early_stopping_rounds,\n",
    "        \"verbosity\": 0,\n",
    "        \"random_state\": 14062023,\n",
    "        \"objective\": \"binary:logistic\",\n",
    "        \"eval_metric\": \"logloss\",\n",
    "        # use exact for small dataset.\n",
    "        \"tree_method\": \"exact\",\n",
    "        # defines booster, gblinear for linear functions.\n",
    "        \"booster\": trial.suggest_categorical(\"booster\", [\"gbtree\"]),# \"dart\", \"gblinear\"]), \n",
    "        # L1 regularization weight.\n",
    "        \"alpha\": trial.suggest_float(\"alpha\", 1e-8, 1.0, log=True),\n",
    "        # L2 regularization weight.\n",
    "        \"lambda\": trial.suggest_float(\"lambda\", 1e-8, 1.0, log=True),\n",
    "        # sampling ratio for training data.\n",
    "        \"subsample\": trial.suggest_float(\"subsample\", 0.4, 1.0),\n",
    "        # sampling according to each tree.\n",
    "        \"colsample_bytree\": trial.suggest_float(\"colsample_bytree\", 0.4, 1.0),\n",
    "    }\n",
    "\n",
    "    if not CFG.undersample:\n",
    "        params[\"scale_pos_weight\"] = class_imbalance\n",
    "    \n",
    "    if params[\"booster\"] in [\"gbtree\", \"dart\"]:\n",
    "        params[\"learning_rate\"] = trial.suggest_float(\"learning_rate\", 1e-4, 0.1, log=True) # alias eta\n",
    "        # maximum depth of the tree, signifies complexity of the tree.\n",
    "        params[\"max_depth\"] = trial.suggest_int(\"max_depth\", 3, 10)\n",
    "        # minimum child weight, larger the term more conservative the tree.\n",
    "        params[\"min_child_weight\"] = trial.suggest_int(\"min_child_weight\", 2, 10)\n",
    "        # defines how selective algorithm is.\n",
    "        params[\"gamma\"] = trial.suggest_float(\"gamma\", 1e-8, 1.0, log=True)\n",
    "        params[\"grow_policy\"] = trial.suggest_categorical(\"grow_policy\", [\"depthwise\", \"lossguide\"])\n",
    "\n",
    "    if params[\"booster\"] == \"dart\":\n",
    "        params[\"sample_type\"] = trial.suggest_categorical(\"sample_type\", [\"uniform\", \"weighted\"])\n",
    "        params[\"normalize_type\"] = trial.suggest_categorical(\"normalize_type\", [\"tree\", \"forest\"])\n",
    "        params[\"rate_drop\"] = trial.suggest_float(\"rate_drop\", 1e-8, 1.0, log=True)\n",
    "        params[\"skip_drop\"] = trial.suggest_float(\"skip_drop\", 1e-8, 1.0, log=True)\n",
    "\n",
    "    for i in range(CFG.n_optimize_repeats):\n",
    "        print(f'Repeat {blu}#{i+1}')\n",
    "\n",
    "        # Make random under-sampling to balance classes\n",
    "        positive_count_train = train_df['Class'].value_counts()[1]\n",
    "        sampler = RandomUnderSampler(sampling_strategy={0: positive_count_train, \n",
    "                                                        1: positive_count_train}, \n",
    "                                     random_state=15062023+i, \n",
    "                                     replacement=True)\n",
    "\n",
    "        X_re, y_re = pd.concat([train_df[features], greeks.iloc[:,1:4]], axis=1), train_df['Class']\n",
    "        \n",
    "        if CFG.undersample:\n",
    "            X_re, y_re = sampler.fit_resample(X_re, y_re)\n",
    "        \n",
    "        # Create Stratified Multilabel k-Fold scheme\n",
    "        kf = MultilabelStratifiedKFold(n_splits=CFG.n_optimize_folds, shuffle=True, random_state=10062023+i)\n",
    "\n",
    "        # Create an oof array for inner loop\n",
    "        oof = np.zeros(X_re.shape[0])\n",
    "\n",
    "        # Stratify based on Class and Alpha (3 types of conditions)\n",
    "        for fold, (train_idx, val_idx) in enumerate(kf.split(X=X_re[features], y=X_re.iloc[:,-3:]), start=1): \n",
    "            X, y = X_re[features], y_re\n",
    "            \n",
    "            # Split the dataset according to the fold indexes.\n",
    "            X_train = X.iloc[train_idx]\n",
    "            X_val = X.iloc[val_idx]\n",
    "            y_train = y.iloc[train_idx]\n",
    "            y_val = y.iloc[val_idx]\n",
    "\n",
    "            # Learning\n",
    "            model = xgb.XGBClassifier(**params)\n",
    "            model.fit(X_train, y_train, eval_set=[(X_val, y_val)], verbose=0)\n",
    "            # Predict\n",
    "            val_preds = model.predict_proba(X_val)[:,1]\n",
    "            oof[val_idx] = val_preds\n",
    "        \n",
    "        bll_list.append(balanced_log_loss(y_re, oof))    \n",
    "    \n",
    "    return np.mean(bll_list)\n",
    "\n",
    "if CFG.xgb_optimize:\n",
    "    study = optuna.create_study(direction=\"minimize\")\n",
    "    study.optimize(objective, n_trials=CFG.n_trials * 2)\n",
    "\n",
    "    print(\"Number of finished trials: {}\".format(len(study.trials)))\n",
    "\n",
    "    print(\"Best trial:\")\n",
    "    trial = study.best_trial\n",
    "\n",
    "    print(\"  Value: {}\".format(trial.value))\n",
    "\n",
    "    print(\"  Params: \")\n",
    "    for key, value in trial.params.items():\n",
    "        print(\"    {}: {}\".format(key, value))\n",
    "\n",
    "    df = study.trials_dataframe().sort_values('value')\n",
    "    df.to_csv(f'optuna_xgb.csv')\n",
    "\n",
    "    display(df.head(10))"
   ]
  },
  {
   "attachments": {},
   "cell_type": "markdown",
   "metadata": {},
   "source": [
    "# Load XGBoost parameters"
   ]
  },
  {
   "cell_type": "code",
   "execution_count": null,
   "metadata": {},
   "outputs": [],
   "source": [
    "import glob\n",
    "\n",
    "if CFG.kaggle:\n",
    "    param_list = glob.glob(\"/kaggle/input/icr-lgbm-optuna/optuna_xgb.csv\")\n",
    "else:\n",
    "    param_list = glob.glob(\"optuna_xgb.csv\")\n",
    "\n",
    "models = list()\n",
    "best_xgb_params = list()\n",
    "\n",
    "xb_params = pd.DataFrame()\n",
    "\n",
    "for f in param_list:\n",
    "    tmp = pd.read_csv(f, index_col='Unnamed: 0')\n",
    "    if xb_params.shape[0] == 0:\n",
    "        xb_params = tmp\n",
    "    else:\n",
    "        xb_params = pd.concat([xb_params, tmp])\n",
    "        \n",
    "xb_params = xb_params.sort_values('value').head(10)#CFG.n_stacking_models)\n",
    "param_cols = [c for c in xb_params.columns if c.startswith('params_')]\n",
    "xb_params = xb_params[param_cols]\n",
    "\n",
    "for idx, row in xb_params.iterrows():\n",
    "    row_dict = {k[7:]: v for k, v in row.items()}\n",
    "    row_dict['n_estimators'] = CFG.n_estimators\n",
    "    row_dict['early_stopping_rounds'] = CFG.early_stopping_rounds\n",
    "    row_dict['random_state'] = 14062023\n",
    "    row_dict['verbosity'] = 0\n",
    "    row_dict['objective'] = \"binary:logistic\"\n",
    "    row_dict['eval_metric'] = \"logloss\"\n",
    "    row_dict['tree_method'] = \"exact\"\n",
    "    row_dict['booster'] = \"gbtree\"\n",
    "\n",
    "    if not CFG.undersample:\n",
    "        row_dict['scale_pos_weight'] = class_imbalance\n",
    "\n",
    "    if row_dict[\"booster\"] in [\"gbtree\", \"dart\"]:\n",
    "        row_dict[\"max_depth\"] = int(row_dict[\"max_depth\"])\n",
    "        row_dict[\"min_child_weight\"] = int(row_dict[\"min_child_weight\"])\n",
    "    else:\n",
    "        row_dict[\"learning_rate\"] = None\n",
    "        row_dict[\"max_depth\"] = None\n",
    "        row_dict[\"min_child_weight\"] = None\n",
    "        row_dict[\"gamma\"] = None\n",
    "        row_dict[\"grow_policy\"] = None     \n",
    "\n",
    "    if row_dict[\"booster\"] != \"dart\":\n",
    "        row_dict[\"sample_type\"] = None\n",
    "        row_dict[\"normalize_type\"] = None\n",
    "        row_dict[\"rate_drop\"] = None\n",
    "        row_dict[\"skip_drop\"] = None\n",
    "\n",
    "    best_xgb_params.append(row_dict)\n",
    "\n",
    "if CFG.test:\n",
    "    best_xgb_params = [{\n",
    "            'n_estimators': CFG.n_estimators,\n",
    "            'early_stopping_rounds': CFG.early_stopping_rounds,\n",
    "            'objective': \"binary:logistic\",\n",
    "            'scale_pos_weight': class_imbalance, \n",
    "            'verbosity': 0,\n",
    "            'random_state': 19062023,\n",
    "        }\n",
    "    ]"
   ]
  },
  {
   "attachments": {},
   "cell_type": "markdown",
   "metadata": {},
   "source": [
    "# CatBoost Optuna optimization"
   ]
  },
  {
   "cell_type": "code",
   "execution_count": null,
   "metadata": {
    "scrolled": true
   },
   "outputs": [
    {
     "name": "stderr",
     "output_type": "stream",
     "text": [
      "[I 2023-06-21 23:05:27,868] A new study created in memory with name: no-name-fa14ee03-f8f3-486e-8568-3efd12d0b9cb\n"
     ]
    },
    {
     "name": "stdout",
     "output_type": "stream",
     "text": [
      "Repeat \u001b[1m\u001b[34m#1\n",
      "Repeat \u001b[1m\u001b[34m#2\n",
      "Repeat \u001b[1m\u001b[34m#3\n"
     ]
    },
    {
     "name": "stderr",
     "output_type": "stream",
     "text": [
      "[I 2023-06-21 23:07:37,745] Trial 0 finished with value: 0.36280395473054733 and parameters: {'bootstrap_type': 'MVS', 'grow_policy': 'SymmetricTree', 'learning_rate': 0.08128453613709088, 'l2_leaf_reg': 18.298613815437417, 'depth': 7, 'random_strength': 95.03445372668217, 'min_data_in_leaf': 7, 'subsample': 0.5355942525711597, 'colsample_bylevel': 0.6944737208353085, 'boosting_type': 'Ordered'}. Best is trial 0 with value: 0.36280395473054733.\n"
     ]
    },
    {
     "name": "stdout",
     "output_type": "stream",
     "text": [
      "Repeat \u001b[1m\u001b[34m#1\n",
      "Repeat \u001b[1m\u001b[34m#2\n",
      "Repeat \u001b[1m\u001b[34m#3\n"
     ]
    },
    {
     "name": "stderr",
     "output_type": "stream",
     "text": [
      "[I 2023-06-21 23:09:40,546] Trial 1 finished with value: 0.34056032805512676 and parameters: {'bootstrap_type': 'MVS', 'grow_policy': 'SymmetricTree', 'learning_rate': 0.009765461579990227, 'l2_leaf_reg': 16.992933677714316, 'depth': 4, 'random_strength': 23.777136768562436, 'min_data_in_leaf': 29, 'subsample': 0.41852134890861536, 'colsample_bylevel': 0.3122269898750783, 'boosting_type': 'Ordered'}. Best is trial 1 with value: 0.34056032805512676.\n"
     ]
    },
    {
     "name": "stdout",
     "output_type": "stream",
     "text": [
      "Repeat \u001b[1m\u001b[34m#1\n",
      "Repeat \u001b[1m\u001b[34m#2\n",
      "Repeat \u001b[1m\u001b[34m#3\n"
     ]
    },
    {
     "name": "stderr",
     "output_type": "stream",
     "text": [
      "[I 2023-06-21 23:10:50,691] Trial 2 finished with value: 0.5647922585565682 and parameters: {'bootstrap_type': 'MVS', 'grow_policy': 'Depthwise', 'learning_rate': 0.001496529064583583, 'l2_leaf_reg': 62.01785028573371, 'depth': 7, 'random_strength': 7.0753013790829655, 'min_data_in_leaf': 31, 'subsample': 0.893423847476728, 'colsample_bylevel': 0.4257466553559872}. Best is trial 1 with value: 0.34056032805512676.\n"
     ]
    },
    {
     "name": "stdout",
     "output_type": "stream",
     "text": [
      "Repeat \u001b[1m\u001b[34m#1\n",
      "Repeat \u001b[1m\u001b[34m#2\n",
      "Repeat \u001b[1m\u001b[34m#3\n"
     ]
    },
    {
     "name": "stderr",
     "output_type": "stream",
     "text": [
      "[I 2023-06-21 23:11:11,933] Trial 3 finished with value: 0.668063259430537 and parameters: {'bootstrap_type': 'MVS', 'grow_policy': 'SymmetricTree', 'learning_rate': 0.003029529608425416, 'l2_leaf_reg': 5.491313870600675e-08, 'depth': 5, 'random_strength': 97.13355108533986, 'min_data_in_leaf': 33, 'subsample': 0.5162985209084835, 'colsample_bylevel': 0.7921833765569111, 'boosting_type': 'Plain'}. Best is trial 1 with value: 0.34056032805512676.\n"
     ]
    },
    {
     "name": "stdout",
     "output_type": "stream",
     "text": [
      "Repeat \u001b[1m\u001b[34m#1\n",
      "Repeat \u001b[1m\u001b[34m#2\n",
      "Repeat \u001b[1m\u001b[34m#3\n"
     ]
    },
    {
     "name": "stderr",
     "output_type": "stream",
     "text": [
      "[I 2023-06-21 23:11:38,109] Trial 4 finished with value: 0.569250504336576 and parameters: {'bootstrap_type': 'Bernoulli', 'grow_policy': 'SymmetricTree', 'learning_rate': 0.08480136640239054, 'l2_leaf_reg': 0.20412494801301165, 'depth': 8, 'random_strength': 74.21003959075057, 'min_data_in_leaf': 53, 'subsample': 0.7576437246973717, 'colsample_bylevel': 0.9888656825557796, 'boosting_type': 'Plain'}. Best is trial 1 with value: 0.34056032805512676.\n"
     ]
    },
    {
     "name": "stdout",
     "output_type": "stream",
     "text": [
      "Repeat \u001b[1m\u001b[34m#1\n",
      "Repeat \u001b[1m\u001b[34m#2\n",
      "Repeat \u001b[1m\u001b[34m#3\n"
     ]
    },
    {
     "name": "stderr",
     "output_type": "stream",
     "text": [
      "[I 2023-06-21 23:12:08,880] Trial 5 finished with value: 0.4238705526577437 and parameters: {'bootstrap_type': 'Bernoulli', 'grow_policy': 'Lossguide', 'learning_rate': 0.005137880646929062, 'l2_leaf_reg': 4.893437050967804e-08, 'depth': 10, 'random_strength': 84.38695220887062, 'min_data_in_leaf': 31, 'subsample': 0.3287966291423641, 'colsample_bylevel': 0.39322082397740044, 'max_leaves': 61}. Best is trial 1 with value: 0.34056032805512676.\n"
     ]
    },
    {
     "name": "stdout",
     "output_type": "stream",
     "text": [
      "Repeat \u001b[1m\u001b[34m#1\n",
      "Repeat \u001b[1m\u001b[34m#2\n",
      "Repeat \u001b[1m\u001b[34m#3\n"
     ]
    },
    {
     "name": "stderr",
     "output_type": "stream",
     "text": [
      "[I 2023-06-21 23:14:44,698] Trial 6 finished with value: 0.419673276711527 and parameters: {'bootstrap_type': 'Bernoulli', 'grow_policy': 'SymmetricTree', 'learning_rate': 0.00936271380433839, 'l2_leaf_reg': 20.282104638930186, 'depth': 7, 'random_strength': 89.02480916219784, 'min_data_in_leaf': 87, 'subsample': 0.7215290208584944, 'colsample_bylevel': 0.8134064333892983, 'boosting_type': 'Plain'}. Best is trial 1 with value: 0.34056032805512676.\n"
     ]
    },
    {
     "name": "stdout",
     "output_type": "stream",
     "text": [
      "Repeat \u001b[1m\u001b[34m#1\n",
      "Repeat \u001b[1m\u001b[34m#2\n",
      "Repeat \u001b[1m\u001b[34m#3\n"
     ]
    },
    {
     "name": "stderr",
     "output_type": "stream",
     "text": [
      "[I 2023-06-21 23:15:34,632] Trial 7 finished with value: 0.4882597960125901 and parameters: {'bootstrap_type': 'MVS', 'grow_policy': 'Depthwise', 'learning_rate': 0.003768018016599363, 'l2_leaf_reg': 7.602967172406281e-05, 'depth': 6, 'random_strength': 42.393565206815886, 'min_data_in_leaf': 30, 'subsample': 0.8094956946002327, 'colsample_bylevel': 0.755470500234064}. Best is trial 1 with value: 0.34056032805512676.\n"
     ]
    },
    {
     "name": "stdout",
     "output_type": "stream",
     "text": [
      "Repeat \u001b[1m\u001b[34m#1\n",
      "Repeat \u001b[1m\u001b[34m#2\n",
      "Repeat \u001b[1m\u001b[34m#3\n"
     ]
    },
    {
     "name": "stderr",
     "output_type": "stream",
     "text": [
      "[I 2023-06-21 23:15:36,893] Trial 8 finished with value: 0.4215496290169069 and parameters: {'bootstrap_type': 'Bernoulli', 'grow_policy': 'Depthwise', 'learning_rate': 0.22223213669009395, 'l2_leaf_reg': 0.0007091856249460194, 'depth': 4, 'random_strength': 11.656274089063112, 'min_data_in_leaf': 66, 'subsample': 0.5942762145786593, 'colsample_bylevel': 0.9791571230756717}. Best is trial 1 with value: 0.34056032805512676.\n"
     ]
    },
    {
     "name": "stdout",
     "output_type": "stream",
     "text": [
      "Repeat \u001b[1m\u001b[34m#1\n",
      "Repeat \u001b[1m\u001b[34m#2\n",
      "Repeat \u001b[1m\u001b[34m#3\n"
     ]
    },
    {
     "name": "stderr",
     "output_type": "stream",
     "text": [
      "[I 2023-06-21 23:15:46,947] Trial 9 finished with value: 0.48529208934354995 and parameters: {'bootstrap_type': 'Bernoulli', 'grow_policy': 'SymmetricTree', 'learning_rate': 0.014205633446108224, 'l2_leaf_reg': 1.2672722150494177e-05, 'depth': 4, 'random_strength': 42.179991448494725, 'min_data_in_leaf': 35, 'subsample': 0.8398438821601604, 'colsample_bylevel': 0.8611993828469964, 'boosting_type': 'Plain'}. Best is trial 1 with value: 0.34056032805512676.\n"
     ]
    },
    {
     "name": "stdout",
     "output_type": "stream",
     "text": [
      "Repeat \u001b[1m\u001b[34m#1\n",
      "Repeat \u001b[1m\u001b[34m#2\n",
      "Repeat \u001b[1m\u001b[34m#3\n"
     ]
    },
    {
     "name": "stderr",
     "output_type": "stream",
     "text": [
      "[I 2023-06-21 23:16:51,286] Trial 10 finished with value: 0.5472252900254535 and parameters: {'bootstrap_type': 'Bayesian', 'grow_policy': 'Lossguide', 'learning_rate': 0.02992608704367019, 'l2_leaf_reg': 0.0796203369394405, 'depth': 9, 'random_strength': 24.390895146792527, 'min_data_in_leaf': 6, 'bagging_temperature': 31.31159304757435, 'max_leaves': 127}. Best is trial 1 with value: 0.34056032805512676.\n"
     ]
    },
    {
     "name": "stdout",
     "output_type": "stream",
     "text": [
      "Repeat \u001b[1m\u001b[34m#1\n",
      "Repeat \u001b[1m\u001b[34m#2\n",
      "Repeat \u001b[1m\u001b[34m#3\n"
     ]
    },
    {
     "name": "stderr",
     "output_type": "stream",
     "text": [
      "[I 2023-06-21 23:19:02,374] Trial 11 finished with value: 0.3775987370097886 and parameters: {'bootstrap_type': 'No', 'grow_policy': 'SymmetricTree', 'learning_rate': 0.033174308673372295, 'l2_leaf_reg': 2.687061749018902, 'depth': 6, 'random_strength': 63.6629099892497, 'min_data_in_leaf': 5, 'colsample_bylevel': 0.5680416755577418, 'boosting_type': 'Ordered'}. Best is trial 1 with value: 0.34056032805512676.\n"
     ]
    },
    {
     "name": "stdout",
     "output_type": "stream",
     "text": [
      "Repeat \u001b[1m\u001b[34m#1\n",
      "Repeat \u001b[1m\u001b[34m#2\n",
      "Repeat \u001b[1m\u001b[34m#3\n"
     ]
    },
    {
     "name": "stderr",
     "output_type": "stream",
     "text": [
      "[I 2023-06-21 23:19:59,669] Trial 12 finished with value: 0.38772500938434257 and parameters: {'bootstrap_type': 'MVS', 'grow_policy': 'SymmetricTree', 'learning_rate': 0.041376824147921674, 'l2_leaf_reg': 0.4224175491467152, 'depth': 5, 'random_strength': 59.69728174182295, 'min_data_in_leaf': 16, 'subsample': 0.44716548359158753, 'colsample_bylevel': 0.5854828010057208, 'boosting_type': 'Ordered'}. Best is trial 1 with value: 0.34056032805512676.\n"
     ]
    },
    {
     "name": "stdout",
     "output_type": "stream",
     "text": [
      "Repeat \u001b[1m\u001b[34m#1\n",
      "Repeat \u001b[1m\u001b[34m#2\n",
      "Repeat \u001b[1m\u001b[34m#3\n"
     ]
    },
    {
     "name": "stderr",
     "output_type": "stream",
     "text": [
      "[I 2023-06-21 23:23:38,875] Trial 13 finished with value: 0.3662952940828245 and parameters: {'bootstrap_type': 'MVS', 'grow_policy': 'SymmetricTree', 'learning_rate': 0.15238925503099765, 'l2_leaf_reg': 63.082208384354765, 'depth': 8, 'random_strength': 28.58150377634303, 'min_data_in_leaf': 18, 'subsample': 0.4224833776116708, 'colsample_bylevel': 0.30493294626156614, 'boosting_type': 'Ordered'}. Best is trial 1 with value: 0.34056032805512676.\n"
     ]
    },
    {
     "name": "stdout",
     "output_type": "stream",
     "text": [
      "Repeat \u001b[1m\u001b[34m#1\n",
      "Repeat \u001b[1m\u001b[34m#2\n",
      "Repeat \u001b[1m\u001b[34m#3\n"
     ]
    },
    {
     "name": "stderr",
     "output_type": "stream",
     "text": [
      "[I 2023-06-21 23:23:41,036] Trial 14 finished with value: 0.9058604263195336 and parameters: {'bootstrap_type': 'Bayesian', 'grow_policy': 'SymmetricTree', 'learning_rate': 0.29712237072548575, 'l2_leaf_reg': 0.018264049399168453, 'depth': 10, 'random_strength': 99.1401926640562, 'min_data_in_leaf': 50, 'bagging_temperature': 93.3046568772169, 'boosting_type': 'Ordered'}. Best is trial 1 with value: 0.34056032805512676.\n"
     ]
    },
    {
     "name": "stdout",
     "output_type": "stream",
     "text": [
      "Repeat \u001b[1m\u001b[34m#1\n",
      "Repeat \u001b[1m\u001b[34m#2\n",
      "Repeat \u001b[1m\u001b[34m#3\n"
     ]
    },
    {
     "name": "stderr",
     "output_type": "stream",
     "text": [
      "[I 2023-06-21 23:23:46,762] Trial 15 finished with value: 0.37943203362377337 and parameters: {'bootstrap_type': 'MVS', 'grow_policy': 'Lossguide', 'learning_rate': 0.08022000242254287, 'l2_leaf_reg': 2.2710168732659617, 'depth': 5, 'random_strength': 74.31387249375084, 'min_data_in_leaf': 17, 'subsample': 0.6157118136515126, 'colsample_bylevel': 0.6538468606819249, 'max_leaves': 13}. Best is trial 1 with value: 0.34056032805512676.\n"
     ]
    },
    {
     "name": "stdout",
     "output_type": "stream",
     "text": [
      "Repeat \u001b[1m\u001b[34m#1\n",
      "Repeat \u001b[1m\u001b[34m#2\n",
      "Repeat \u001b[1m\u001b[34m#3\n"
     ]
    },
    {
     "name": "stderr",
     "output_type": "stream",
     "text": [
      "[I 2023-06-21 23:27:11,601] Trial 16 finished with value: 0.3672909396099766 and parameters: {'bootstrap_type': 'No', 'grow_policy': 'SymmetricTree', 'learning_rate': 0.016654689299763954, 'l2_leaf_reg': 6.3442139866278815, 'depth': 6, 'random_strength': 0.28635391451960146, 'min_data_in_leaf': 100, 'colsample_bylevel': 0.5303345572632175, 'boosting_type': 'Ordered'}. Best is trial 1 with value: 0.34056032805512676.\n"
     ]
    },
    {
     "name": "stdout",
     "output_type": "stream",
     "text": [
      "Repeat \u001b[1m\u001b[34m#1\n",
      "Repeat \u001b[1m\u001b[34m#2\n",
      "Repeat \u001b[1m\u001b[34m#3\n"
     ]
    },
    {
     "name": "stderr",
     "output_type": "stream",
     "text": [
      "[I 2023-06-21 23:33:34,698] Trial 17 finished with value: 0.5856487272792729 and parameters: {'bootstrap_type': 'MVS', 'grow_policy': 'SymmetricTree', 'learning_rate': 0.009146949462027175, 'l2_leaf_reg': 0.011260641987159727, 'depth': 8, 'random_strength': 54.78287940989362, 'min_data_in_leaf': 45, 'subsample': 0.5205600514212767, 'colsample_bylevel': 0.4708464896750466, 'boosting_type': 'Ordered'}. Best is trial 1 with value: 0.34056032805512676.\n"
     ]
    },
    {
     "name": "stdout",
     "output_type": "stream",
     "text": [
      "Repeat \u001b[1m\u001b[34m#1\n",
      "Repeat \u001b[1m\u001b[34m#2\n",
      "Repeat \u001b[1m\u001b[34m#3\n"
     ]
    },
    {
     "name": "stderr",
     "output_type": "stream",
     "text": [
      "[I 2023-06-21 23:33:40,542] Trial 18 finished with value: 0.35930450623605786 and parameters: {'bootstrap_type': 'MVS', 'grow_policy': 'Depthwise', 'learning_rate': 0.056019182492878995, 'l2_leaf_reg': 0.9342572608867057, 'depth': 4, 'random_strength': 44.90854199786364, 'min_data_in_leaf': 19, 'subsample': 0.34340877944960824, 'colsample_bylevel': 0.6606630237837701}. Best is trial 1 with value: 0.34056032805512676.\n"
     ]
    },
    {
     "name": "stdout",
     "output_type": "stream",
     "text": [
      "Repeat \u001b[1m\u001b[34m#1\n",
      "Repeat \u001b[1m\u001b[34m#2\n",
      "Repeat \u001b[1m\u001b[34m#3\n"
     ]
    },
    {
     "name": "stderr",
     "output_type": "stream",
     "text": [
      "[I 2023-06-21 23:33:47,393] Trial 19 finished with value: 0.3619526926114891 and parameters: {'bootstrap_type': 'No', 'grow_policy': 'Depthwise', 'learning_rate': 0.030038423904702172, 'l2_leaf_reg': 1.2536393379452402, 'depth': 4, 'random_strength': 30.65164181822192, 'min_data_in_leaf': 66, 'colsample_bylevel': 0.33100903796815273}. Best is trial 1 with value: 0.34056032805512676.\n"
     ]
    },
    {
     "name": "stdout",
     "output_type": "stream",
     "text": [
      "Repeat \u001b[1m\u001b[34m#1\n",
      "Repeat \u001b[1m\u001b[34m#2\n",
      "Repeat \u001b[1m\u001b[34m#3\n"
     ]
    },
    {
     "name": "stderr",
     "output_type": "stream",
     "text": [
      "[I 2023-06-21 23:33:55,277] Trial 20 finished with value: 0.3599897724395782 and parameters: {'bootstrap_type': 'Bayesian', 'grow_policy': 'Depthwise', 'learning_rate': 0.05150526281566206, 'l2_leaf_reg': 0.45500136617896486, 'depth': 4, 'random_strength': 46.21244320412201, 'min_data_in_leaf': 42, 'bagging_temperature': 3.8058681480434373}. Best is trial 1 with value: 0.34056032805512676.\n"
     ]
    },
    {
     "name": "stdout",
     "output_type": "stream",
     "text": [
      "Repeat \u001b[1m\u001b[34m#1\n",
      "Repeat \u001b[1m\u001b[34m#2\n",
      "Repeat \u001b[1m\u001b[34m#3\n"
     ]
    },
    {
     "name": "stderr",
     "output_type": "stream",
     "text": [
      "[I 2023-06-21 23:34:03,642] Trial 21 finished with value: 0.3640463788234665 and parameters: {'bootstrap_type': 'Bayesian', 'grow_policy': 'Depthwise', 'learning_rate': 0.044600679113209765, 'l2_leaf_reg': 0.6182475784405301, 'depth': 4, 'random_strength': 44.10330165555931, 'min_data_in_leaf': 42, 'bagging_temperature': 1.785338105651296}. Best is trial 1 with value: 0.34056032805512676.\n"
     ]
    },
    {
     "name": "stdout",
     "output_type": "stream",
     "text": [
      "Repeat \u001b[1m\u001b[34m#1\n",
      "Repeat \u001b[1m\u001b[34m#2\n",
      "Repeat \u001b[1m\u001b[34m#3\n"
     ]
    },
    {
     "name": "stderr",
     "output_type": "stream",
     "text": [
      "[I 2023-06-21 23:34:22,536] Trial 22 finished with value: 0.3668567332892656 and parameters: {'bootstrap_type': 'Bayesian', 'grow_policy': 'Depthwise', 'learning_rate': 0.021707796992240166, 'l2_leaf_reg': 5.547048100632366, 'depth': 5, 'random_strength': 34.75658669424992, 'min_data_in_leaf': 24, 'bagging_temperature': 1.6917479239546678}. Best is trial 1 with value: 0.34056032805512676.\n"
     ]
    },
    {
     "name": "stdout",
     "output_type": "stream",
     "text": [
      "Repeat \u001b[1m\u001b[34m#1\n",
      "Repeat \u001b[1m\u001b[34m#2\n",
      "Repeat \u001b[1m\u001b[34m#3\n"
     ]
    },
    {
     "name": "stderr",
     "output_type": "stream",
     "text": [
      "[I 2023-06-21 23:34:33,056] Trial 23 finished with value: 0.3212959771884793 and parameters: {'bootstrap_type': 'Bayesian', 'grow_policy': 'Depthwise', 'learning_rate': 0.06319356701902994, 'l2_leaf_reg': 0.06893131056921718, 'depth': 4, 'random_strength': 50.17921593812489, 'min_data_in_leaf': 59, 'bagging_temperature': 41.929645639773156}. Best is trial 23 with value: 0.3212959771884793.\n"
     ]
    },
    {
     "name": "stdout",
     "output_type": "stream",
     "text": [
      "Repeat \u001b[1m\u001b[34m#1\n",
      "Repeat \u001b[1m\u001b[34m#2\n",
      "Repeat \u001b[1m\u001b[34m#3\n"
     ]
    },
    {
     "name": "stderr",
     "output_type": "stream",
     "text": [
      "[I 2023-06-21 23:34:35,365] Trial 24 finished with value: 0.7679357344368368 and parameters: {'bootstrap_type': 'Bayesian', 'grow_policy': 'Depthwise', 'learning_rate': 0.1291061128484853, 'l2_leaf_reg': 0.06160043589391924, 'depth': 5, 'random_strength': 52.462535995960714, 'min_data_in_leaf': 66, 'bagging_temperature': 56.53674888369285}. Best is trial 23 with value: 0.3212959771884793.\n"
     ]
    },
    {
     "name": "stdout",
     "output_type": "stream",
     "text": [
      "Repeat \u001b[1m\u001b[34m#1\n",
      "Repeat \u001b[1m\u001b[34m#2\n",
      "Repeat \u001b[1m\u001b[34m#3\n"
     ]
    },
    {
     "name": "stderr",
     "output_type": "stream",
     "text": [
      "[I 2023-06-21 23:34:39,057] Trial 25 finished with value: 0.3803075343861198 and parameters: {'bootstrap_type': 'MVS', 'grow_policy': 'Depthwise', 'learning_rate': 0.06912045521041064, 'l2_leaf_reg': 0.011781855279828191, 'depth': 4, 'random_strength': 20.71862334852431, 'min_data_in_leaf': 58, 'subsample': 0.3182473010837106, 'colsample_bylevel': 0.519715069563295}. Best is trial 23 with value: 0.3212959771884793.\n"
     ]
    },
    {
     "name": "stdout",
     "output_type": "stream",
     "text": [
      "Repeat \u001b[1m\u001b[34m#1\n",
      "Repeat \u001b[1m\u001b[34m#2\n",
      "Repeat \u001b[1m\u001b[34m#3\n"
     ]
    },
    {
     "name": "stderr",
     "output_type": "stream",
     "text": [
      "[I 2023-06-21 23:34:50,876] Trial 26 finished with value: 0.3711721119446915 and parameters: {'bootstrap_type': 'MVS', 'grow_policy': 'Depthwise', 'learning_rate': 0.021849402651682205, 'l2_leaf_reg': 9.240926156249705, 'depth': 6, 'random_strength': 33.826475557879746, 'min_data_in_leaf': 85, 'subsample': 0.9970110126801751, 'colsample_bylevel': 0.6293038637009165}. Best is trial 23 with value: 0.3212959771884793.\n"
     ]
    },
    {
     "name": "stdout",
     "output_type": "stream",
     "text": [
      "Repeat \u001b[1m\u001b[34m#1\n",
      "Repeat \u001b[1m\u001b[34m#2\n",
      "Repeat \u001b[1m\u001b[34m#3\n"
     ]
    },
    {
     "name": "stderr",
     "output_type": "stream",
     "text": [
      "[I 2023-06-21 23:35:05,010] Trial 27 finished with value: 0.3891970307155687 and parameters: {'bootstrap_type': 'Bayesian', 'grow_policy': 'Lossguide', 'learning_rate': 0.053037952893540734, 'l2_leaf_reg': 2.351674828586333, 'depth': 5, 'random_strength': 37.23425087430185, 'min_data_in_leaf': 76, 'bagging_temperature': 52.913648265292125, 'max_leaves': 127}. Best is trial 23 with value: 0.3212959771884793.\n"
     ]
    },
    {
     "name": "stdout",
     "output_type": "stream",
     "text": [
      "Repeat \u001b[1m\u001b[34m#1\n",
      "Repeat \u001b[1m\u001b[34m#2\n",
      "Repeat \u001b[1m\u001b[34m#3\n"
     ]
    },
    {
     "name": "stderr",
     "output_type": "stream",
     "text": [
      "[I 2023-06-21 23:35:11,083] Trial 28 finished with value: 0.3787711410119509 and parameters: {'bootstrap_type': 'No', 'grow_policy': 'Depthwise', 'learning_rate': 0.13490723049966735, 'l2_leaf_reg': 71.57083013346525, 'depth': 4, 'random_strength': 18.136132268151584, 'min_data_in_leaf': 23, 'colsample_bylevel': 0.3894988241973923}. Best is trial 23 with value: 0.3212959771884793.\n"
     ]
    },
    {
     "name": "stdout",
     "output_type": "stream",
     "text": [
      "Repeat \u001b[1m\u001b[34m#1\n",
      "Repeat \u001b[1m\u001b[34m#2\n",
      "Repeat \u001b[1m\u001b[34m#3\n"
     ]
    },
    {
     "name": "stderr",
     "output_type": "stream",
     "text": [
      "[I 2023-06-21 23:35:17,412] Trial 29 finished with value: 0.36673773283124594 and parameters: {'bootstrap_type': 'MVS', 'grow_policy': 'Depthwise', 'learning_rate': 0.09711034777045481, 'l2_leaf_reg': 12.96333318791343, 'depth': 5, 'random_strength': 47.661268975147635, 'min_data_in_leaf': 13, 'subsample': 0.3896056417775077, 'colsample_bylevel': 0.46555719361206177}. Best is trial 23 with value: 0.3212959771884793.\n"
     ]
    },
    {
     "name": "stdout",
     "output_type": "stream",
     "text": [
      "Repeat \u001b[1m\u001b[34m#1\n",
      "Repeat \u001b[1m\u001b[34m#2\n",
      "Repeat \u001b[1m\u001b[34m#3\n"
     ]
    },
    {
     "name": "stderr",
     "output_type": "stream",
     "text": [
      "[I 2023-06-21 23:35:21,540] Trial 30 finished with value: 0.38569725879045885 and parameters: {'bootstrap_type': 'MVS', 'grow_policy': 'Lossguide', 'learning_rate': 0.06952801309934807, 'l2_leaf_reg': 0.12832392991333288, 'depth': 4, 'random_strength': 38.9576103915152, 'min_data_in_leaf': 58, 'subsample': 0.30068857852691133, 'colsample_bylevel': 0.6941883605966819, 'max_leaves': 10}. Best is trial 23 with value: 0.3212959771884793.\n"
     ]
    },
    {
     "name": "stdout",
     "output_type": "stream",
     "text": [
      "Repeat \u001b[1m\u001b[34m#1\n",
      "Repeat \u001b[1m\u001b[34m#2\n",
      "Repeat \u001b[1m\u001b[34m#3\n"
     ]
    },
    {
     "name": "stderr",
     "output_type": "stream",
     "text": [
      "[I 2023-06-21 23:35:33,063] Trial 31 finished with value: 0.3317737474133969 and parameters: {'bootstrap_type': 'Bayesian', 'grow_policy': 'Depthwise', 'learning_rate': 0.05479563891052806, 'l2_leaf_reg': 0.9717351190674369, 'depth': 4, 'random_strength': 48.680174715337415, 'min_data_in_leaf': 40, 'bagging_temperature': 28.216925367189233}. Best is trial 23 with value: 0.3212959771884793.\n"
     ]
    },
    {
     "name": "stdout",
     "output_type": "stream",
     "text": [
      "Repeat \u001b[1m\u001b[34m#1\n",
      "Repeat \u001b[1m\u001b[34m#2\n",
      "Repeat \u001b[1m\u001b[34m#3\n"
     ]
    },
    {
     "name": "stderr",
     "output_type": "stream",
     "text": [
      "[I 2023-06-21 23:35:45,481] Trial 32 finished with value: 0.333466364357165 and parameters: {'bootstrap_type': 'Bayesian', 'grow_policy': 'Depthwise', 'learning_rate': 0.056132723569534596, 'l2_leaf_reg': 1.5139001257992881, 'depth': 4, 'random_strength': 51.46524178905145, 'min_data_in_leaf': 38, 'bagging_temperature': 39.01068512294312}. Best is trial 23 with value: 0.3212959771884793.\n"
     ]
    },
    {
     "name": "stdout",
     "output_type": "stream",
     "text": [
      "Repeat \u001b[1m\u001b[34m#1\n",
      "Repeat \u001b[1m\u001b[34m#2\n",
      "Repeat \u001b[1m\u001b[34m#3\n"
     ]
    },
    {
     "name": "stderr",
     "output_type": "stream",
     "text": [
      "[I 2023-06-21 23:36:22,939] Trial 33 finished with value: 0.3319741805420143 and parameters: {'bootstrap_type': 'Bayesian', 'grow_policy': 'Depthwise', 'learning_rate': 0.035099403771514034, 'l2_leaf_reg': 25.620330028042588, 'depth': 5, 'random_strength': 59.45073247865349, 'min_data_in_leaf': 39, 'bagging_temperature': 34.7122853980865}. Best is trial 23 with value: 0.3212959771884793.\n"
     ]
    },
    {
     "name": "stdout",
     "output_type": "stream",
     "text": [
      "Repeat \u001b[1m\u001b[34m#1\n",
      "Repeat \u001b[1m\u001b[34m#2\n",
      "Repeat \u001b[1m\u001b[34m#3\n"
     ]
    },
    {
     "name": "stderr",
     "output_type": "stream",
     "text": [
      "[I 2023-06-21 23:36:52,843] Trial 34 finished with value: 0.3336532899974376 and parameters: {'bootstrap_type': 'Bayesian', 'grow_policy': 'Depthwise', 'learning_rate': 0.03716535625506537, 'l2_leaf_reg': 16.5505826763579, 'depth': 5, 'random_strength': 58.33979583837544, 'min_data_in_leaf': 37, 'bagging_temperature': 34.8710012741637}. Best is trial 23 with value: 0.3212959771884793.\n"
     ]
    },
    {
     "name": "stdout",
     "output_type": "stream",
     "text": [
      "Repeat \u001b[1m\u001b[34m#1\n",
      "Repeat \u001b[1m\u001b[34m#2\n",
      "Repeat \u001b[1m\u001b[34m#3\n"
     ]
    },
    {
     "name": "stderr",
     "output_type": "stream",
     "text": [
      "[I 2023-06-21 23:37:02,547] Trial 35 finished with value: 0.36710290272458873 and parameters: {'bootstrap_type': 'Bayesian', 'grow_policy': 'Depthwise', 'learning_rate': 0.0913932522376477, 'l2_leaf_reg': 0.2511883445960697, 'depth': 6, 'random_strength': 51.43536659313771, 'min_data_in_leaf': 53, 'bagging_temperature': 32.14224596787372}. Best is trial 23 with value: 0.3212959771884793.\n"
     ]
    },
    {
     "name": "stdout",
     "output_type": "stream",
     "text": [
      "Repeat \u001b[1m\u001b[34m#1\n",
      "Repeat \u001b[1m\u001b[34m#2\n",
      "Repeat \u001b[1m\u001b[34m#3\n"
     ]
    },
    {
     "name": "stderr",
     "output_type": "stream",
     "text": [
      "[I 2023-06-21 23:37:28,425] Trial 36 finished with value: 0.33727117952027835 and parameters: {'bootstrap_type': 'Bayesian', 'grow_policy': 'Depthwise', 'learning_rate': 0.060030095665705656, 'l2_leaf_reg': 31.427918713247124, 'depth': 5, 'random_strength': 66.42437146381738, 'min_data_in_leaf': 47, 'bagging_temperature': 39.176452853587406}. Best is trial 23 with value: 0.3212959771884793.\n"
     ]
    },
    {
     "name": "stdout",
     "output_type": "stream",
     "text": [
      "Repeat \u001b[1m\u001b[34m#1\n",
      "Repeat \u001b[1m\u001b[34m#2\n",
      "Repeat \u001b[1m\u001b[34m#3\n"
     ]
    },
    {
     "name": "stderr",
     "output_type": "stream",
     "text": [
      "[I 2023-06-21 23:37:49,139] Trial 37 finished with value: 0.3242835602703122 and parameters: {'bootstrap_type': 'Bayesian', 'grow_policy': 'Depthwise', 'learning_rate': 0.027006454437100164, 'l2_leaf_reg': 3.7353107234799885, 'depth': 4, 'random_strength': 50.6748734820113, 'min_data_in_leaf': 41, 'bagging_temperature': 24.14781736883746}. Best is trial 23 with value: 0.3212959771884793.\n"
     ]
    },
    {
     "name": "stdout",
     "output_type": "stream",
     "text": [
      "Repeat \u001b[1m\u001b[34m#1\n",
      "Repeat \u001b[1m\u001b[34m#2\n",
      "Repeat \u001b[1m\u001b[34m#3\n"
     ]
    },
    {
     "name": "stderr",
     "output_type": "stream",
     "text": [
      "[I 2023-06-21 23:38:47,372] Trial 38 finished with value: 0.34573662587248294 and parameters: {'bootstrap_type': 'Bayesian', 'grow_policy': 'Depthwise', 'learning_rate': 0.023309516537592483, 'l2_leaf_reg': 98.77302427701764, 'depth': 5, 'random_strength': 57.45346635068178, 'min_data_in_leaf': 41, 'bagging_temperature': 22.497574175640224}. Best is trial 23 with value: 0.3212959771884793.\n"
     ]
    },
    {
     "name": "stdout",
     "output_type": "stream",
     "text": [
      "Repeat \u001b[1m\u001b[34m#1\n",
      "Repeat \u001b[1m\u001b[34m#2\n",
      "Repeat \u001b[1m\u001b[34m#3\n"
     ]
    },
    {
     "name": "stderr",
     "output_type": "stream",
     "text": [
      "[I 2023-06-21 23:39:22,860] Trial 39 finished with value: 0.33114413571064666 and parameters: {'bootstrap_type': 'Bayesian', 'grow_policy': 'Depthwise', 'learning_rate': 0.01319099731560028, 'l2_leaf_reg': 6.589062608511866, 'depth': 4, 'random_strength': 50.99112906000896, 'min_data_in_leaf': 58, 'bagging_temperature': 22.15645815247983}. Best is trial 23 with value: 0.3212959771884793.\n"
     ]
    },
    {
     "name": "stdout",
     "output_type": "stream",
     "text": [
      "Repeat \u001b[1m\u001b[34m#1\n",
      "Repeat \u001b[1m\u001b[34m#2\n",
      "Repeat \u001b[1m\u001b[34m#3\n"
     ]
    },
    {
     "name": "stderr",
     "output_type": "stream",
     "text": [
      "[I 2023-06-21 23:39:50,023] Trial 40 finished with value: 0.34520461279191395 and parameters: {'bootstrap_type': 'Bayesian', 'grow_policy': 'Depthwise', 'learning_rate': 0.012461684115747922, 'l2_leaf_reg': 0.04695520713290392, 'depth': 4, 'random_strength': 48.76351515049919, 'min_data_in_leaf': 58, 'bagging_temperature': 18.546128841665716}. Best is trial 23 with value: 0.3212959771884793.\n"
     ]
    },
    {
     "name": "stdout",
     "output_type": "stream",
     "text": [
      "Repeat \u001b[1m\u001b[34m#1\n",
      "Repeat \u001b[1m\u001b[34m#2\n",
      "Repeat \u001b[1m\u001b[34m#3\n"
     ]
    },
    {
     "name": "stderr",
     "output_type": "stream",
     "text": [
      "[I 2023-06-21 23:40:04,735] Trial 41 finished with value: 0.33386716966159086 and parameters: {'bootstrap_type': 'Bayesian', 'grow_policy': 'Depthwise', 'learning_rate': 0.03914951672477316, 'l2_leaf_reg': 5.436901378152156, 'depth': 4, 'random_strength': 54.93462710593101, 'min_data_in_leaf': 62, 'bagging_temperature': 17.667884909559046}. Best is trial 23 with value: 0.3212959771884793.\n"
     ]
    },
    {
     "name": "stdout",
     "output_type": "stream",
     "text": [
      "Repeat \u001b[1m\u001b[34m#1\n",
      "Repeat \u001b[1m\u001b[34m#2\n",
      "Repeat \u001b[1m\u001b[34m#3\n"
     ]
    },
    {
     "name": "stderr",
     "output_type": "stream",
     "text": [
      "[I 2023-06-21 23:40:29,598] Trial 42 finished with value: 0.33445844991562074 and parameters: {'bootstrap_type': 'Bayesian', 'grow_policy': 'Depthwise', 'learning_rate': 0.02673288129923307, 'l2_leaf_reg': 20.905374188039072, 'depth': 4, 'random_strength': 40.45853668577146, 'min_data_in_leaf': 72, 'bagging_temperature': 24.8967642602147}. Best is trial 23 with value: 0.3212959771884793.\n"
     ]
    },
    {
     "name": "stdout",
     "output_type": "stream",
     "text": [
      "Repeat \u001b[1m\u001b[34m#1\n",
      "Repeat \u001b[1m\u001b[34m#2\n",
      "Repeat \u001b[1m\u001b[34m#3\n"
     ]
    },
    {
     "name": "stderr",
     "output_type": "stream",
     "text": [
      "[I 2023-06-21 23:41:13,818] Trial 43 finished with value: 0.3412183815924676 and parameters: {'bootstrap_type': 'Bayesian', 'grow_policy': 'Depthwise', 'learning_rate': 0.016283459781269802, 'l2_leaf_reg': 28.84422058740183, 'depth': 5, 'random_strength': 63.328515762081835, 'min_data_in_leaf': 51, 'bagging_temperature': 44.79878725813898}. Best is trial 23 with value: 0.3212959771884793.\n"
     ]
    },
    {
     "name": "stdout",
     "output_type": "stream",
     "text": [
      "Repeat \u001b[1m\u001b[34m#1\n",
      "Repeat \u001b[1m\u001b[34m#2\n",
      "Repeat \u001b[1m\u001b[34m#3\n"
     ]
    },
    {
     "name": "stderr",
     "output_type": "stream",
     "text": [
      "[I 2023-06-21 23:41:35,747] Trial 44 finished with value: 0.3298734339597214 and parameters: {'bootstrap_type': 'Bayesian', 'grow_policy': 'Depthwise', 'learning_rate': 0.031201518464584372, 'l2_leaf_reg': 3.7618935142965744, 'depth': 4, 'random_strength': 46.36460308724862, 'min_data_in_leaf': 27, 'bagging_temperature': 26.377290622305438}. Best is trial 23 with value: 0.3212959771884793.\n"
     ]
    },
    {
     "name": "stdout",
     "output_type": "stream",
     "text": [
      "Repeat \u001b[1m\u001b[34m#1\n",
      "Repeat \u001b[1m\u001b[34m#2\n",
      "Repeat \u001b[1m\u001b[34m#3\n"
     ]
    },
    {
     "name": "stderr",
     "output_type": "stream",
     "text": [
      "[I 2023-06-21 23:41:48,301] Trial 45 finished with value: 0.36729921834972873 and parameters: {'bootstrap_type': 'Bernoulli', 'grow_policy': 'Depthwise', 'learning_rate': 0.0205242507288762, 'l2_leaf_reg': 0.244553299201844, 'depth': 4, 'random_strength': 45.827717651645926, 'min_data_in_leaf': 27, 'subsample': 0.6632616800732573, 'colsample_bylevel': 0.8956498864454935}. Best is trial 23 with value: 0.3212959771884793.\n"
     ]
    },
    {
     "name": "stdout",
     "output_type": "stream",
     "text": [
      "Repeat \u001b[1m\u001b[34m#1\n",
      "Repeat \u001b[1m\u001b[34m#2\n",
      "Repeat \u001b[1m\u001b[34m#3\n"
     ]
    },
    {
     "name": "stderr",
     "output_type": "stream",
     "text": [
      "[I 2023-06-21 23:42:26,073] Trial 46 finished with value: 0.33551130593003914 and parameters: {'bootstrap_type': 'Bayesian', 'grow_policy': 'Depthwise', 'learning_rate': 0.011688432297715497, 'l2_leaf_reg': 3.7661615765300245, 'depth': 4, 'random_strength': 41.04174178947383, 'min_data_in_leaf': 33, 'bagging_temperature': 15.350981217545328}. Best is trial 23 with value: 0.3212959771884793.\n"
     ]
    },
    {
     "name": "stdout",
     "output_type": "stream",
     "text": [
      "Repeat \u001b[1m\u001b[34m#1\n",
      "Repeat \u001b[1m\u001b[34m#2\n",
      "Repeat \u001b[1m\u001b[34m#3\n"
     ]
    },
    {
     "name": "stderr",
     "output_type": "stream",
     "text": [
      "[I 2023-06-21 23:43:21,833] Trial 47 finished with value: 0.3428490376313509 and parameters: {'bootstrap_type': 'Bayesian', 'grow_policy': 'Lossguide', 'learning_rate': 0.00827809877477857, 'l2_leaf_reg': 1.1020296936330352, 'depth': 6, 'random_strength': 50.1995151529275, 'min_data_in_leaf': 47, 'bagging_temperature': 25.05812376620901, 'max_leaves': 76}. Best is trial 23 with value: 0.3212959771884793.\n"
     ]
    },
    {
     "name": "stdout",
     "output_type": "stream",
     "text": [
      "Repeat \u001b[1m\u001b[34m#1\n",
      "Repeat \u001b[1m\u001b[34m#2\n",
      "Repeat \u001b[1m\u001b[34m#3\n"
     ]
    },
    {
     "name": "stderr",
     "output_type": "stream",
     "text": [
      "[I 2023-06-21 23:43:40,698] Trial 48 finished with value: 0.3369389707877155 and parameters: {'bootstrap_type': 'Bayesian', 'grow_policy': 'Depthwise', 'learning_rate': 0.02862468617568443, 'l2_leaf_reg': 0.5833029607494972, 'depth': 7, 'random_strength': 41.51760222981513, 'min_data_in_leaf': 55, 'bagging_temperature': 11.511961902457529}. Best is trial 23 with value: 0.3212959771884793.\n"
     ]
    },
    {
     "name": "stdout",
     "output_type": "stream",
     "text": [
      "Repeat \u001b[1m\u001b[34m#1\n",
      "Repeat \u001b[1m\u001b[34m#2\n",
      "Repeat \u001b[1m\u001b[34m#3\n"
     ]
    },
    {
     "name": "stderr",
     "output_type": "stream",
     "text": [
      "[I 2023-06-21 23:43:56,498] Trial 49 finished with value: 0.3736441337521376 and parameters: {'bootstrap_type': 'Bernoulli', 'grow_policy': 'Depthwise', 'learning_rate': 0.01712265613884966, 'l2_leaf_reg': 2.9872293480949486, 'depth': 9, 'random_strength': 49.606884450345234, 'min_data_in_leaf': 71, 'subsample': 0.6899483077978298, 'colsample_bylevel': 0.7399417980859282}. Best is trial 23 with value: 0.3212959771884793.\n"
     ]
    },
    {
     "name": "stdout",
     "output_type": "stream",
     "text": [
      "Repeat \u001b[1m\u001b[34m#1\n",
      "Repeat \u001b[1m\u001b[34m#2\n",
      "Repeat \u001b[1m\u001b[34m#3\n"
     ]
    },
    {
     "name": "stderr",
     "output_type": "stream",
     "text": [
      "[I 2023-06-21 23:44:08,259] Trial 50 finished with value: 0.3436525376467106 and parameters: {'bootstrap_type': 'Bayesian', 'grow_policy': 'Depthwise', 'learning_rate': 0.04717937487423664, 'l2_leaf_reg': 0.19073873695940322, 'depth': 4, 'random_strength': 54.144902529975035, 'min_data_in_leaf': 33, 'bagging_temperature': 25.93351890299259}. Best is trial 23 with value: 0.3212959771884793.\n"
     ]
    },
    {
     "name": "stdout",
     "output_type": "stream",
     "text": [
      "Repeat \u001b[1m\u001b[34m#1\n",
      "Repeat \u001b[1m\u001b[34m#2\n",
      "Repeat \u001b[1m\u001b[34m#3\n"
     ]
    },
    {
     "name": "stderr",
     "output_type": "stream",
     "text": [
      "[I 2023-06-21 23:44:35,831] Trial 51 finished with value: 0.33932074358137737 and parameters: {'bootstrap_type': 'Bayesian', 'grow_policy': 'Depthwise', 'learning_rate': 0.03597941189730333, 'l2_leaf_reg': 8.437504079216453, 'depth': 5, 'random_strength': 59.54698540709586, 'min_data_in_leaf': 29, 'bagging_temperature': 28.978498873190983}. Best is trial 23 with value: 0.3212959771884793.\n"
     ]
    },
    {
     "name": "stdout",
     "output_type": "stream",
     "text": [
      "Repeat \u001b[1m\u001b[34m#1\n",
      "Repeat \u001b[1m\u001b[34m#2\n",
      "Repeat \u001b[1m\u001b[34m#3\n"
     ]
    },
    {
     "name": "stderr",
     "output_type": "stream",
     "text": [
      "[I 2023-06-21 23:45:11,955] Trial 52 finished with value: 0.3214792339119997 and parameters: {'bootstrap_type': 'Bayesian', 'grow_policy': 'Depthwise', 'learning_rate': 0.03184969275271392, 'l2_leaf_reg': 36.15821118418453, 'depth': 4, 'random_strength': 68.98220171021742, 'min_data_in_leaf': 38, 'bagging_temperature': 35.84539328473985}. Best is trial 23 with value: 0.3212959771884793.\n"
     ]
    },
    {
     "name": "stdout",
     "output_type": "stream",
     "text": [
      "Repeat \u001b[1m\u001b[34m#1\n",
      "Repeat \u001b[1m\u001b[34m#2\n",
      "Repeat \u001b[1m\u001b[34m#3\n"
     ]
    },
    {
     "name": "stderr",
     "output_type": "stream",
     "text": [
      "[I 2023-06-21 23:45:36,293] Trial 53 finished with value: 0.32841162902978027 and parameters: {'bootstrap_type': 'Bayesian', 'grow_policy': 'Depthwise', 'learning_rate': 0.025988791130624706, 'l2_leaf_reg': 2.022218921086182, 'depth': 4, 'random_strength': 71.88262276662051, 'min_data_in_leaf': 44, 'bagging_temperature': 43.37032259482888}. Best is trial 23 with value: 0.3212959771884793.\n"
     ]
    },
    {
     "name": "stdout",
     "output_type": "stream",
     "text": [
      "Repeat \u001b[1m\u001b[34m#1\n",
      "Repeat \u001b[1m\u001b[34m#2\n",
      "Repeat \u001b[1m\u001b[34m#3\n"
     ]
    },
    {
     "name": "stderr",
     "output_type": "stream",
     "text": [
      "[I 2023-06-21 23:46:12,275] Trial 54 finished with value: 0.32521053576733383 and parameters: {'bootstrap_type': 'Bayesian', 'grow_policy': 'Depthwise', 'learning_rate': 0.026148228626886958, 'l2_leaf_reg': 44.52665500084066, 'depth': 4, 'random_strength': 72.63700414289968, 'min_data_in_leaf': 45, 'bagging_temperature': 44.52905252093136}. Best is trial 23 with value: 0.3212959771884793.\n"
     ]
    },
    {
     "name": "stdout",
     "output_type": "stream",
     "text": [
      "Repeat \u001b[1m\u001b[34m#1\n",
      "Repeat \u001b[1m\u001b[34m#2\n",
      "Repeat \u001b[1m\u001b[34m#3\n"
     ]
    },
    {
     "name": "stderr",
     "output_type": "stream",
     "text": [
      "[I 2023-06-21 23:46:25,168] Trial 55 finished with value: 0.3750971305460516 and parameters: {'bootstrap_type': 'No', 'grow_policy': 'Depthwise', 'learning_rate': 0.026911279033045066, 'l2_leaf_reg': 33.13706700641947, 'depth': 4, 'random_strength': 74.78342750317658, 'min_data_in_leaf': 46, 'colsample_bylevel': 0.6008870043933427}. Best is trial 23 with value: 0.3212959771884793.\n"
     ]
    },
    {
     "name": "stdout",
     "output_type": "stream",
     "text": [
      "Repeat \u001b[1m\u001b[34m#1\n",
      "Repeat \u001b[1m\u001b[34m#2\n",
      "Repeat \u001b[1m\u001b[34m#3\n"
     ]
    },
    {
     "name": "stderr",
     "output_type": "stream",
     "text": [
      "[I 2023-06-21 23:46:57,729] Trial 56 finished with value: 0.33596133322982696 and parameters: {'bootstrap_type': 'Bayesian', 'grow_policy': 'Lossguide', 'learning_rate': 0.04283123194467803, 'l2_leaf_reg': 50.35141215385042, 'depth': 4, 'random_strength': 71.32519572211413, 'min_data_in_leaf': 11, 'bagging_temperature': 48.123752553278116, 'max_leaves': 62}. Best is trial 23 with value: 0.3212959771884793.\n"
     ]
    },
    {
     "name": "stdout",
     "output_type": "stream",
     "text": [
      "Repeat \u001b[1m\u001b[34m#1\n",
      "Repeat \u001b[1m\u001b[34m#2\n",
      "Repeat \u001b[1m\u001b[34m#3\n"
     ]
    },
    {
     "name": "stderr",
     "output_type": "stream",
     "text": [
      "[I 2023-06-21 23:47:25,614] Trial 57 finished with value: 0.3205669088239395 and parameters: {'bootstrap_type': 'Bayesian', 'grow_policy': 'Depthwise', 'learning_rate': 0.03076973550603868, 'l2_leaf_reg': 14.651856946032595, 'depth': 4, 'random_strength': 80.2121775857753, 'min_data_in_leaf': 35, 'bagging_temperature': 42.1447702600094}. Best is trial 57 with value: 0.3205669088239395.\n"
     ]
    },
    {
     "name": "stdout",
     "output_type": "stream",
     "text": [
      "Repeat \u001b[1m\u001b[34m#1\n",
      "Repeat \u001b[1m\u001b[34m#2\n",
      "Repeat \u001b[1m\u001b[34m#3\n"
     ]
    },
    {
     "name": "stderr",
     "output_type": "stream",
     "text": [
      "[I 2023-06-21 23:47:45,924] Trial 58 finished with value: 0.38223861642837303 and parameters: {'bootstrap_type': 'Bernoulli', 'grow_policy': 'SymmetricTree', 'learning_rate': 0.019931713677005015, 'l2_leaf_reg': 13.395403089033266, 'depth': 5, 'random_strength': 83.66522600972151, 'min_data_in_leaf': 44, 'subsample': 0.9900468239314353, 'colsample_bylevel': 0.7066310846880572, 'boosting_type': 'Plain'}. Best is trial 57 with value: 0.3205669088239395.\n"
     ]
    },
    {
     "name": "stdout",
     "output_type": "stream",
     "text": [
      "Repeat \u001b[1m\u001b[34m#1\n",
      "Repeat \u001b[1m\u001b[34m#2\n",
      "Repeat \u001b[1m\u001b[34m#3\n"
     ]
    },
    {
     "name": "stderr",
     "output_type": "stream",
     "text": [
      "[I 2023-06-21 23:48:42,248] Trial 59 finished with value: 0.34017319755052905 and parameters: {'bootstrap_type': 'Bayesian', 'grow_policy': 'Depthwise', 'learning_rate': 0.025185994462188097, 'l2_leaf_reg': 56.50731276461628, 'depth': 7, 'random_strength': 77.99563760665905, 'min_data_in_leaf': 49, 'bagging_temperature': 43.383800635353886}. Best is trial 57 with value: 0.3205669088239395.\n"
     ]
    },
    {
     "name": "stdout",
     "output_type": "stream",
     "text": [
      "Repeat \u001b[1m\u001b[34m#1\n",
      "Repeat \u001b[1m\u001b[34m#2\n",
      "Repeat \u001b[1m\u001b[34m#3\n"
     ]
    },
    {
     "name": "stderr",
     "output_type": "stream",
     "text": [
      "[I 2023-06-21 23:49:09,073] Trial 60 finished with value: 0.4226202467135753 and parameters: {'bootstrap_type': 'Bayesian', 'grow_policy': 'Depthwise', 'learning_rate': 0.032353821035848995, 'l2_leaf_reg': 89.79712236104474, 'depth': 5, 'random_strength': 91.01618028766794, 'min_data_in_leaf': 34, 'bagging_temperature': 50.6619275027924}. Best is trial 57 with value: 0.3205669088239395.\n"
     ]
    },
    {
     "name": "stdout",
     "output_type": "stream",
     "text": [
      "Repeat \u001b[1m\u001b[34m#1\n",
      "Repeat \u001b[1m\u001b[34m#2\n",
      "Repeat \u001b[1m\u001b[34m#3\n"
     ]
    },
    {
     "name": "stderr",
     "output_type": "stream",
     "text": [
      "[I 2023-06-21 23:49:32,074] Trial 61 finished with value: 0.3304651638234882 and parameters: {'bootstrap_type': 'Bayesian', 'grow_policy': 'Depthwise', 'learning_rate': 0.03154607306229545, 'l2_leaf_reg': 3.6500243041277285, 'depth': 4, 'random_strength': 67.08695909547022, 'min_data_in_leaf': 28, 'bagging_temperature': 42.2305124752375}. Best is trial 57 with value: 0.3205669088239395.\n"
     ]
    },
    {
     "name": "stdout",
     "output_type": "stream",
     "text": [
      "Repeat \u001b[1m\u001b[34m#1\n",
      "Repeat \u001b[1m\u001b[34m#2\n",
      "Repeat \u001b[1m\u001b[34m#3\n"
     ]
    },
    {
     "name": "stderr",
     "output_type": "stream",
     "text": [
      "[I 2023-06-21 23:50:13,231] Trial 62 finished with value: 0.3326435763559444 and parameters: {'bootstrap_type': 'Bayesian', 'grow_policy': 'Depthwise', 'learning_rate': 0.01861223606155519, 'l2_leaf_reg': 12.729517160450385, 'depth': 4, 'random_strength': 80.52388016715145, 'min_data_in_leaf': 23, 'bagging_temperature': 37.60533621555394}. Best is trial 57 with value: 0.3205669088239395.\n"
     ]
    },
    {
     "name": "stdout",
     "output_type": "stream",
     "text": [
      "Repeat \u001b[1m\u001b[34m#1\n",
      "Repeat \u001b[1m\u001b[34m#2\n",
      "Repeat \u001b[1m\u001b[34m#3\n"
     ]
    },
    {
     "name": "stderr",
     "output_type": "stream",
     "text": [
      "[I 2023-06-21 23:50:28,553] Trial 63 finished with value: 0.3260102235153246 and parameters: {'bootstrap_type': 'Bayesian', 'grow_policy': 'Depthwise', 'learning_rate': 0.04502388062619127, 'l2_leaf_reg': 1.9166874223509094, 'depth': 4, 'random_strength': 71.66801159636664, 'min_data_in_leaf': 36, 'bagging_temperature': 46.733910942503}. Best is trial 57 with value: 0.3205669088239395.\n"
     ]
    },
    {
     "name": "stdout",
     "output_type": "stream",
     "text": [
      "Repeat \u001b[1m\u001b[34m#1\n",
      "Repeat \u001b[1m\u001b[34m#2\n",
      "Repeat \u001b[1m\u001b[34m#3\n"
     ]
    },
    {
     "name": "stderr",
     "output_type": "stream",
     "text": [
      "[I 2023-06-21 23:50:30,091] Trial 64 finished with value: 0.8908570223615953 and parameters: {'bootstrap_type': 'Bayesian', 'grow_policy': 'Depthwise', 'learning_rate': 0.045513646082208724, 'l2_leaf_reg': 1.6990417636502533, 'depth': 4, 'random_strength': 69.91658973786943, 'min_data_in_leaf': 37, 'bagging_temperature': 56.692214189284144}. Best is trial 57 with value: 0.3205669088239395.\n"
     ]
    },
    {
     "name": "stdout",
     "output_type": "stream",
     "text": [
      "Repeat \u001b[1m\u001b[34m#1\n",
      "Repeat \u001b[1m\u001b[34m#2\n",
      "Repeat \u001b[1m\u001b[34m#3\n"
     ]
    },
    {
     "name": "stderr",
     "output_type": "stream",
     "text": [
      "[I 2023-06-21 23:50:40,627] Trial 65 finished with value: 0.361405616791816 and parameters: {'bootstrap_type': 'No', 'grow_policy': 'Depthwise', 'learning_rate': 0.02494506390266424, 'l2_leaf_reg': 0.41077740884596076, 'depth': 4, 'random_strength': 77.32094725399537, 'min_data_in_leaf': 43, 'colsample_bylevel': 0.9110108069488281}. Best is trial 57 with value: 0.3205669088239395.\n"
     ]
    },
    {
     "name": "stdout",
     "output_type": "stream",
     "text": [
      "Repeat \u001b[1m\u001b[34m#1\n",
      "Repeat \u001b[1m\u001b[34m#2\n",
      "Repeat \u001b[1m\u001b[34m#3\n"
     ]
    },
    {
     "name": "stderr",
     "output_type": "stream",
     "text": [
      "[I 2023-06-21 23:50:57,784] Trial 66 finished with value: 0.3426486341137422 and parameters: {'bootstrap_type': 'Bayesian', 'grow_policy': 'SymmetricTree', 'learning_rate': 0.03894460289719424, 'l2_leaf_reg': 9.27930025193469, 'depth': 4, 'random_strength': 71.70035956296717, 'min_data_in_leaf': 53, 'bagging_temperature': 44.9470733755967, 'boosting_type': 'Plain'}. Best is trial 57 with value: 0.3205669088239395.\n"
     ]
    },
    {
     "name": "stdout",
     "output_type": "stream",
     "text": [
      "Repeat \u001b[1m\u001b[34m#1\n",
      "Repeat \u001b[1m\u001b[34m#2\n",
      "Repeat \u001b[1m\u001b[34m#3\n"
     ]
    },
    {
     "name": "stderr",
     "output_type": "stream",
     "text": [
      "[I 2023-06-21 23:51:15,083] Trial 67 finished with value: 0.3339462514769413 and parameters: {'bootstrap_type': 'Bayesian', 'grow_policy': 'Depthwise', 'learning_rate': 0.04519523551516874, 'l2_leaf_reg': 1.4046568136209556, 'depth': 5, 'random_strength': 63.24545030529897, 'min_data_in_leaf': 36, 'bagging_temperature': 47.8535246125596}. Best is trial 57 with value: 0.3205669088239395.\n"
     ]
    },
    {
     "name": "stdout",
     "output_type": "stream",
     "text": [
      "Repeat \u001b[1m\u001b[34m#1\n",
      "Repeat \u001b[1m\u001b[34m#2\n",
      "Repeat \u001b[1m\u001b[34m#3\n"
     ]
    },
    {
     "name": "stderr",
     "output_type": "stream",
     "text": [
      "[I 2023-06-21 23:51:28,700] Trial 68 finished with value: 0.4625196963764508 and parameters: {'bootstrap_type': 'Bayesian', 'grow_policy': 'Lossguide', 'learning_rate': 0.06693400427396085, 'l2_leaf_reg': 40.248799444849986, 'depth': 4, 'random_strength': 86.20746656258562, 'min_data_in_leaf': 32, 'bagging_temperature': 53.95935593189885, 'max_leaves': 92}. Best is trial 57 with value: 0.3205669088239395.\n"
     ]
    },
    {
     "name": "stdout",
     "output_type": "stream",
     "text": [
      "Repeat \u001b[1m\u001b[34m#1\n",
      "Repeat \u001b[1m\u001b[34m#2\n",
      "Repeat \u001b[1m\u001b[34m#3\n"
     ]
    },
    {
     "name": "stderr",
     "output_type": "stream",
     "text": [
      "[I 2023-06-21 23:51:54,686] Trial 69 finished with value: 0.3227050149787087 and parameters: {'bootstrap_type': 'Bayesian', 'grow_policy': 'Depthwise', 'learning_rate': 0.022036223945830307, 'l2_leaf_reg': 2.450117370545333, 'depth': 4, 'random_strength': 73.8806913755966, 'min_data_in_leaf': 49, 'bagging_temperature': 40.52771226940919}. Best is trial 57 with value: 0.3205669088239395.\n"
     ]
    },
    {
     "name": "stdout",
     "output_type": "stream",
     "text": [
      "Repeat \u001b[1m\u001b[34m#1\n",
      "Repeat \u001b[1m\u001b[34m#2\n",
      "Repeat \u001b[1m\u001b[34m#3\n"
     ]
    },
    {
     "name": "stderr",
     "output_type": "stream",
     "text": [
      "[I 2023-06-21 23:52:51,215] Trial 70 finished with value: 0.34309445577990655 and parameters: {'bootstrap_type': 'Bayesian', 'grow_policy': 'Depthwise', 'learning_rate': 0.021880659143336378, 'l2_leaf_reg': 17.113719848346523, 'depth': 9, 'random_strength': 67.78457811094535, 'min_data_in_leaf': 48, 'bagging_temperature': 33.35739359267102}. Best is trial 57 with value: 0.3205669088239395.\n"
     ]
    },
    {
     "name": "stdout",
     "output_type": "stream",
     "text": [
      "Repeat \u001b[1m\u001b[34m#1\n",
      "Repeat \u001b[1m\u001b[34m#2\n",
      "Repeat \u001b[1m\u001b[34m#3\n"
     ]
    },
    {
     "name": "stderr",
     "output_type": "stream",
     "text": [
      "[I 2023-06-21 23:53:16,936] Trial 71 finished with value: 0.32062425462413097 and parameters: {'bootstrap_type': 'Bayesian', 'grow_policy': 'Depthwise', 'learning_rate': 0.027275533436547927, 'l2_leaf_reg': 2.209875224781682, 'depth': 4, 'random_strength': 71.91181635559826, 'min_data_in_leaf': 40, 'bagging_temperature': 39.90044023946674}. Best is trial 57 with value: 0.3205669088239395.\n"
     ]
    },
    {
     "name": "stdout",
     "output_type": "stream",
     "text": [
      "Repeat \u001b[1m\u001b[34m#1\n",
      "Repeat \u001b[1m\u001b[34m#2\n",
      "Repeat \u001b[1m\u001b[34m#3\n"
     ]
    },
    {
     "name": "stderr",
     "output_type": "stream",
     "text": [
      "[I 2023-06-21 23:53:38,445] Trial 72 finished with value: 0.3262876172103533 and parameters: {'bootstrap_type': 'Bayesian', 'grow_policy': 'Depthwise', 'learning_rate': 0.033426752051602636, 'l2_leaf_reg': 4.190467200596318, 'depth': 4, 'random_strength': 75.31465326760026, 'min_data_in_leaf': 42, 'bagging_temperature': 39.01752285454684}. Best is trial 57 with value: 0.3205669088239395.\n"
     ]
    },
    {
     "name": "stdout",
     "output_type": "stream",
     "text": [
      "Repeat \u001b[1m\u001b[34m#1\n",
      "Repeat \u001b[1m\u001b[34m#2\n",
      "Repeat \u001b[1m\u001b[34m#3\n"
     ]
    },
    {
     "name": "stderr",
     "output_type": "stream",
     "text": [
      "[I 2023-06-21 23:53:53,754] Trial 73 finished with value: 0.3265043151932276 and parameters: {'bootstrap_type': 'Bayesian', 'grow_policy': 'Depthwise', 'learning_rate': 0.03942970762961308, 'l2_leaf_reg': 0.8567041103950288, 'depth': 4, 'random_strength': 79.81067239641071, 'min_data_in_leaf': 50, 'bagging_temperature': 37.20403671543943}. Best is trial 57 with value: 0.3205669088239395.\n"
     ]
    },
    {
     "name": "stdout",
     "output_type": "stream",
     "text": [
      "Repeat \u001b[1m\u001b[34m#1\n",
      "Repeat \u001b[1m\u001b[34m#2\n",
      "Repeat \u001b[1m\u001b[34m#3\n"
     ]
    },
    {
     "name": "stderr",
     "output_type": "stream",
     "text": [
      "[I 2023-06-21 23:54:28,242] Trial 74 finished with value: 0.3299496312998838 and parameters: {'bootstrap_type': 'Bayesian', 'grow_policy': 'Depthwise', 'learning_rate': 0.016075076667674836, 'l2_leaf_reg': 5.7779291886676125, 'depth': 4, 'random_strength': 74.08377415342773, 'min_data_in_leaf': 36, 'bagging_temperature': 32.29915868014352}. Best is trial 57 with value: 0.3205669088239395.\n"
     ]
    },
    {
     "name": "stdout",
     "output_type": "stream",
     "text": [
      "Repeat \u001b[1m\u001b[34m#1\n",
      "Repeat \u001b[1m\u001b[34m#2\n",
      "Repeat \u001b[1m\u001b[34m#3\n"
     ]
    },
    {
     "name": "stderr",
     "output_type": "stream",
     "text": [
      "[I 2023-06-21 23:54:45,053] Trial 75 finished with value: 0.3611675400143339 and parameters: {'bootstrap_type': 'Bayesian', 'grow_policy': 'Depthwise', 'learning_rate': 0.04984031430944437, 'l2_leaf_reg': 8.622358331620369, 'depth': 5, 'random_strength': 64.1755639655727, 'min_data_in_leaf': 40, 'bagging_temperature': 51.53487687005752}. Best is trial 57 with value: 0.3205669088239395.\n"
     ]
    },
    {
     "name": "stdout",
     "output_type": "stream",
     "text": [
      "Repeat \u001b[1m\u001b[34m#1\n",
      "Repeat \u001b[1m\u001b[34m#2\n",
      "Repeat \u001b[1m\u001b[34m#3\n"
     ]
    },
    {
     "name": "stderr",
     "output_type": "stream",
     "text": [
      "[I 2023-06-21 23:54:59,390] Trial 76 finished with value: 0.37576740626414445 and parameters: {'bootstrap_type': 'No', 'grow_policy': 'Depthwise', 'learning_rate': 0.02892596056904124, 'l2_leaf_reg': 19.11153340951116, 'depth': 5, 'random_strength': 68.52901141484078, 'min_data_in_leaf': 30, 'colsample_bylevel': 0.8331831626901645}. Best is trial 57 with value: 0.3205669088239395.\n"
     ]
    },
    {
     "name": "stdout",
     "output_type": "stream",
     "text": [
      "Repeat \u001b[1m\u001b[34m#1\n",
      "Repeat \u001b[1m\u001b[34m#2\n",
      "Repeat \u001b[1m\u001b[34m#3\n"
     ]
    },
    {
     "name": "stderr",
     "output_type": "stream",
     "text": [
      "[I 2023-06-21 23:55:20,642] Trial 77 finished with value: 0.3303852218697798 and parameters: {'bootstrap_type': 'Bayesian', 'grow_policy': 'Depthwise', 'learning_rate': 0.024037500151821153, 'l2_leaf_reg': 0.4417968389366702, 'depth': 4, 'random_strength': 82.343258981861, 'min_data_in_leaf': 62, 'bagging_temperature': 40.61968739538902}. Best is trial 57 with value: 0.3205669088239395.\n"
     ]
    },
    {
     "name": "stdout",
     "output_type": "stream",
     "text": [
      "Repeat \u001b[1m\u001b[34m#1\n",
      "Repeat \u001b[1m\u001b[34m#2\n",
      "Repeat \u001b[1m\u001b[34m#3\n"
     ]
    },
    {
     "name": "stderr",
     "output_type": "stream",
     "text": [
      "[I 2023-06-21 23:57:31,007] Trial 78 finished with value: 0.45878150102727494 and parameters: {'bootstrap_type': 'Bernoulli', 'grow_policy': 'SymmetricTree', 'learning_rate': 0.0187692210499477, 'l2_leaf_reg': 2.142993542898519, 'depth': 8, 'random_strength': 64.96994150883057, 'min_data_in_leaf': 38, 'subsample': 0.6294683783265123, 'colsample_bylevel': 0.7583488318691686, 'boosting_type': 'Plain'}. Best is trial 57 with value: 0.3205669088239395.\n"
     ]
    },
    {
     "name": "stdout",
     "output_type": "stream",
     "text": [
      "Repeat \u001b[1m\u001b[34m#1\n",
      "Repeat \u001b[1m\u001b[34m#2\n",
      "Repeat \u001b[1m\u001b[34m#3\n"
     ]
    },
    {
     "name": "stderr",
     "output_type": "stream",
     "text": [
      "[I 2023-06-21 23:57:50,911] Trial 79 finished with value: 0.3299866767886475 and parameters: {'bootstrap_type': 'Bayesian', 'grow_policy': 'Depthwise', 'learning_rate': 0.0796677775669435, 'l2_leaf_reg': 44.263161387577966, 'depth': 4, 'random_strength': 78.24603779352384, 'min_data_in_leaf': 56, 'bagging_temperature': 47.55490197030579}. Best is trial 57 with value: 0.3205669088239395.\n"
     ]
    },
    {
     "name": "stdout",
     "output_type": "stream",
     "text": [
      "Repeat \u001b[1m\u001b[34m#1\n",
      "Repeat \u001b[1m\u001b[34m#2\n",
      "Repeat \u001b[1m\u001b[34m#3\n"
     ]
    },
    {
     "name": "stderr",
     "output_type": "stream",
     "text": [
      "[I 2023-06-21 23:58:53,374] Trial 80 finished with value: 0.33372571128643796 and parameters: {'bootstrap_type': 'Bayesian', 'grow_policy': 'Depthwise', 'learning_rate': 0.035941112014549935, 'l2_leaf_reg': 89.44075727277351, 'depth': 10, 'random_strength': 61.40504514908123, 'min_data_in_leaf': 61, 'bagging_temperature': 35.71935417116357}. Best is trial 57 with value: 0.3205669088239395.\n"
     ]
    },
    {
     "name": "stdout",
     "output_type": "stream",
     "text": [
      "Repeat \u001b[1m\u001b[34m#1\n",
      "Repeat \u001b[1m\u001b[34m#2\n",
      "Repeat \u001b[1m\u001b[34m#3\n"
     ]
    },
    {
     "name": "stderr",
     "output_type": "stream",
     "text": [
      "[I 2023-06-21 23:59:16,271] Trial 81 finished with value: 0.32632829241471567 and parameters: {'bootstrap_type': 'Bayesian', 'grow_policy': 'Depthwise', 'learning_rate': 0.03186989645692701, 'l2_leaf_reg': 3.8893430549676085, 'depth': 4, 'random_strength': 75.47149457326341, 'min_data_in_leaf': 41, 'bagging_temperature': 40.22903340100994}. Best is trial 57 with value: 0.3205669088239395.\n"
     ]
    },
    {
     "name": "stdout",
     "output_type": "stream",
     "text": [
      "Repeat \u001b[1m\u001b[34m#1\n",
      "Repeat \u001b[1m\u001b[34m#2\n",
      "Repeat \u001b[1m\u001b[34m#3\n"
     ]
    },
    {
     "name": "stderr",
     "output_type": "stream",
     "text": [
      "[I 2023-06-21 23:59:32,136] Trial 82 finished with value: 0.3275332445310725 and parameters: {'bootstrap_type': 'Bayesian', 'grow_policy': 'Depthwise', 'learning_rate': 0.03471177597246052, 'l2_leaf_reg': 0.7905011811905216, 'depth': 4, 'random_strength': 72.83010737365771, 'min_data_in_leaf': 45, 'bagging_temperature': 38.75676557725116}. Best is trial 57 with value: 0.3205669088239395.\n"
     ]
    },
    {
     "name": "stdout",
     "output_type": "stream",
     "text": [
      "Repeat \u001b[1m\u001b[34m#1\n",
      "Repeat \u001b[1m\u001b[34m#2\n",
      "Repeat \u001b[1m\u001b[34m#3\n"
     ]
    },
    {
     "name": "stderr",
     "output_type": "stream",
     "text": [
      "[I 2023-06-22 00:00:02,047] Trial 83 finished with value: 0.3234080125606302 and parameters: {'bootstrap_type': 'Bayesian', 'grow_policy': 'Depthwise', 'learning_rate': 0.021576376789526314, 'l2_leaf_reg': 5.728454072663759, 'depth': 4, 'random_strength': 69.6216396267314, 'min_data_in_leaf': 42, 'bagging_temperature': 32.16705200413886}. Best is trial 57 with value: 0.3205669088239395.\n"
     ]
    },
    {
     "name": "stdout",
     "output_type": "stream",
     "text": [
      "Repeat \u001b[1m\u001b[34m#1\n",
      "Repeat \u001b[1m\u001b[34m#2\n",
      "Repeat \u001b[1m\u001b[34m#3\n"
     ]
    },
    {
     "name": "stderr",
     "output_type": "stream",
     "text": [
      "[I 2023-06-22 00:00:34,676] Trial 84 finished with value: 0.3230164040973376 and parameters: {'bootstrap_type': 'Bayesian', 'grow_policy': 'Depthwise', 'learning_rate': 0.02193491377042, 'l2_leaf_reg': 15.175115058059951, 'depth': 4, 'random_strength': 69.95223595554866, 'min_data_in_leaf': 51, 'bagging_temperature': 31.101377628477806}. Best is trial 57 with value: 0.3205669088239395.\n"
     ]
    },
    {
     "name": "stdout",
     "output_type": "stream",
     "text": [
      "Repeat \u001b[1m\u001b[34m#1\n",
      "Repeat \u001b[1m\u001b[34m#2\n",
      "Repeat \u001b[1m\u001b[34m#3\n"
     ]
    },
    {
     "name": "stderr",
     "output_type": "stream",
     "text": [
      "[I 2023-06-22 00:01:15,741] Trial 85 finished with value: 0.33309017588692896 and parameters: {'bootstrap_type': 'Bayesian', 'grow_policy': 'Depthwise', 'learning_rate': 0.015494695831124675, 'l2_leaf_reg': 32.01891661229574, 'depth': 4, 'random_strength': 69.1271540511096, 'min_data_in_leaf': 50, 'bagging_temperature': 30.615038437942005}. Best is trial 57 with value: 0.3205669088239395.\n"
     ]
    },
    {
     "name": "stdout",
     "output_type": "stream",
     "text": [
      "Repeat \u001b[1m\u001b[34m#1\n",
      "Repeat \u001b[1m\u001b[34m#2\n",
      "Repeat \u001b[1m\u001b[34m#3\n"
     ]
    },
    {
     "name": "stderr",
     "output_type": "stream",
     "text": [
      "[I 2023-06-22 00:01:47,996] Trial 86 finished with value: 0.3238445261161324 and parameters: {'bootstrap_type': 'Bayesian', 'grow_policy': 'Depthwise', 'learning_rate': 0.01947980076637357, 'l2_leaf_reg': 9.412747418567841, 'depth': 4, 'random_strength': 66.06646331859847, 'min_data_in_leaf': 55, 'bagging_temperature': 34.090456584549244}. Best is trial 57 with value: 0.3205669088239395.\n"
     ]
    },
    {
     "name": "stdout",
     "output_type": "stream",
     "text": [
      "Repeat \u001b[1m\u001b[34m#1\n",
      "Repeat \u001b[1m\u001b[34m#2\n",
      "Repeat \u001b[1m\u001b[34m#3\n"
     ]
    },
    {
     "name": "stderr",
     "output_type": "stream",
     "text": [
      "[I 2023-06-22 00:02:26,192] Trial 87 finished with value: 0.33405647939836935 and parameters: {'bootstrap_type': 'Bayesian', 'grow_policy': 'Lossguide', 'learning_rate': 0.019658741089208367, 'l2_leaf_reg': 9.319073365155276, 'depth': 5, 'random_strength': 66.21637011644312, 'min_data_in_leaf': 55, 'bagging_temperature': 33.66267242049952, 'max_leaves': 37}. Best is trial 57 with value: 0.3205669088239395.\n"
     ]
    },
    {
     "name": "stdout",
     "output_type": "stream",
     "text": [
      "Repeat \u001b[1m\u001b[34m#1\n",
      "Repeat \u001b[1m\u001b[34m#2\n",
      "Repeat \u001b[1m\u001b[34m#3\n"
     ]
    },
    {
     "name": "stderr",
     "output_type": "stream",
     "text": [
      "[I 2023-06-22 00:02:57,890] Trial 88 finished with value: 0.32377205600787784 and parameters: {'bootstrap_type': 'Bayesian', 'grow_policy': 'Depthwise', 'learning_rate': 0.02174131992887187, 'l2_leaf_reg': 15.18715045880393, 'depth': 4, 'random_strength': 62.700468174935594, 'min_data_in_leaf': 54, 'bagging_temperature': 29.15446070810254}. Best is trial 57 with value: 0.3205669088239395.\n"
     ]
    },
    {
     "name": "stdout",
     "output_type": "stream",
     "text": [
      "Repeat \u001b[1m\u001b[34m#1\n",
      "Repeat \u001b[1m\u001b[34m#2\n",
      "Repeat \u001b[1m\u001b[34m#3\n"
     ]
    },
    {
     "name": "stderr",
     "output_type": "stream",
     "text": [
      "[I 2023-06-22 00:03:17,127] Trial 89 finished with value: 0.3680963175954002 and parameters: {'bootstrap_type': 'MVS', 'grow_policy': 'Depthwise', 'learning_rate': 0.014585859479984477, 'l2_leaf_reg': 20.75348040030712, 'depth': 5, 'random_strength': 68.77987518593287, 'min_data_in_leaf': 60, 'subsample': 0.7635516620880812, 'colsample_bylevel': 0.7824640496394994}. Best is trial 57 with value: 0.3205669088239395.\n"
     ]
    },
    {
     "name": "stdout",
     "output_type": "stream",
     "text": [
      "Repeat \u001b[1m\u001b[34m#1\n",
      "Repeat \u001b[1m\u001b[34m#2\n",
      "Repeat \u001b[1m\u001b[34m#3\n"
     ]
    },
    {
     "name": "stderr",
     "output_type": "stream",
     "text": [
      "[I 2023-06-22 00:03:44,560] Trial 90 finished with value: 0.31689132414374244 and parameters: {'bootstrap_type': 'Bayesian', 'grow_policy': 'Depthwise', 'learning_rate': 0.0221268537743539, 'l2_leaf_reg': 6.467261322682207, 'depth': 4, 'random_strength': 65.46066158250709, 'min_data_in_leaf': 52, 'bagging_temperature': 30.697149881506572}. Best is trial 90 with value: 0.31689132414374244.\n"
     ]
    },
    {
     "name": "stdout",
     "output_type": "stream",
     "text": [
      "Repeat \u001b[1m\u001b[34m#1\n",
      "Repeat \u001b[1m\u001b[34m#2\n",
      "Repeat \u001b[1m\u001b[34m#3\n"
     ]
    },
    {
     "name": "stderr",
     "output_type": "stream",
     "text": [
      "[I 2023-06-22 00:04:11,882] Trial 91 finished with value: 0.3255341203736211 and parameters: {'bootstrap_type': 'Bayesian', 'grow_policy': 'Depthwise', 'learning_rate': 0.02116705390706753, 'l2_leaf_reg': 6.928309853348944, 'depth': 4, 'random_strength': 62.506597548181496, 'min_data_in_leaf': 64, 'bagging_temperature': 31.08717224783538}. Best is trial 90 with value: 0.31689132414374244.\n"
     ]
    },
    {
     "name": "stdout",
     "output_type": "stream",
     "text": [
      "Repeat \u001b[1m\u001b[34m#1\n",
      "Repeat \u001b[1m\u001b[34m#2\n",
      "Repeat \u001b[1m\u001b[34m#3\n"
     ]
    },
    {
     "name": "stderr",
     "output_type": "stream",
     "text": [
      "[I 2023-06-22 00:04:49,633] Trial 92 finished with value: 0.3307240677720819 and parameters: {'bootstrap_type': 'Bayesian', 'grow_policy': 'Depthwise', 'learning_rate': 0.01768176414713864, 'l2_leaf_reg': 15.492156211144827, 'depth': 4, 'random_strength': 65.22633190605379, 'min_data_in_leaf': 51, 'bagging_temperature': 35.445510072713475}. Best is trial 90 with value: 0.31689132414374244.\n"
     ]
    },
    {
     "name": "stdout",
     "output_type": "stream",
     "text": [
      "Repeat \u001b[1m\u001b[34m#1\n",
      "Repeat \u001b[1m\u001b[34m#2\n",
      "Repeat \u001b[1m\u001b[34m#3\n"
     ]
    },
    {
     "name": "stderr",
     "output_type": "stream",
     "text": [
      "[I 2023-06-22 00:05:17,051] Trial 93 finished with value: 0.32760495135412704 and parameters: {'bootstrap_type': 'Bayesian', 'grow_policy': 'Depthwise', 'learning_rate': 0.0218545639006825, 'l2_leaf_reg': 11.86137067505406, 'depth': 4, 'random_strength': 60.33346525489196, 'min_data_in_leaf': 56, 'bagging_temperature': 29.589690624466968}. Best is trial 90 with value: 0.31689132414374244.\n"
     ]
    },
    {
     "name": "stdout",
     "output_type": "stream",
     "text": [
      "Repeat \u001b[1m\u001b[34m#1\n",
      "Repeat \u001b[1m\u001b[34m#2\n",
      "Repeat \u001b[1m\u001b[34m#3\n"
     ]
    },
    {
     "name": "stderr",
     "output_type": "stream",
     "text": [
      "[I 2023-06-22 00:05:42,054] Trial 94 finished with value: 0.32739195946177735 and parameters: {'bootstrap_type': 'Bayesian', 'grow_policy': 'Depthwise', 'learning_rate': 0.023890398671757688, 'l2_leaf_reg': 6.3797775802133145, 'depth': 4, 'random_strength': 69.85034342182801, 'min_data_in_leaf': 53, 'bagging_temperature': 28.320492774898515}. Best is trial 90 with value: 0.31689132414374244.\n"
     ]
    },
    {
     "name": "stdout",
     "output_type": "stream",
     "text": [
      "Repeat \u001b[1m\u001b[34m#1\n",
      "Repeat \u001b[1m\u001b[34m#2\n",
      "Repeat \u001b[1m\u001b[34m#3\n"
     ]
    },
    {
     "name": "stderr",
     "output_type": "stream",
     "text": [
      "[I 2023-06-22 00:06:15,646] Trial 95 finished with value: 0.3283872555798734 and parameters: {'bootstrap_type': 'Bayesian', 'grow_policy': 'Depthwise', 'learning_rate': 0.014415545548103892, 'l2_leaf_reg': 2.5949445711632997, 'depth': 4, 'random_strength': 66.68684226407277, 'min_data_in_leaf': 48, 'bagging_temperature': 33.292801318525136}. Best is trial 90 with value: 0.31689132414374244.\n"
     ]
    },
    {
     "name": "stdout",
     "output_type": "stream",
     "text": [
      "Repeat \u001b[1m\u001b[34m#1\n",
      "Repeat \u001b[1m\u001b[34m#2\n",
      "Repeat \u001b[1m\u001b[34m#3\n"
     ]
    },
    {
     "name": "stderr",
     "output_type": "stream",
     "text": [
      "[I 2023-06-22 00:06:55,615] Trial 96 finished with value: 0.3300862379989041 and parameters: {'bootstrap_type': 'Bayesian', 'grow_policy': 'Depthwise', 'learning_rate': 0.01798268687205065, 'l2_leaf_reg': 23.62561338323293, 'depth': 4, 'random_strength': 56.16303203122099, 'min_data_in_leaf': 52, 'bagging_temperature': 35.877361351416525}. Best is trial 90 with value: 0.31689132414374244.\n"
     ]
    },
    {
     "name": "stdout",
     "output_type": "stream",
     "text": [
      "Repeat \u001b[1m\u001b[34m#1\n",
      "Repeat \u001b[1m\u001b[34m#2\n",
      "Repeat \u001b[1m\u001b[34m#3\n"
     ]
    },
    {
     "name": "stderr",
     "output_type": "stream",
     "text": [
      "[I 2023-06-22 00:07:15,277] Trial 97 finished with value: 0.32633232916845206 and parameters: {'bootstrap_type': 'Bayesian', 'grow_policy': 'Depthwise', 'learning_rate': 0.029808316950122028, 'l2_leaf_reg': 1.2406415133558149, 'depth': 4, 'random_strength': 61.56107756544221, 'min_data_in_leaf': 68, 'bagging_temperature': 41.21190571332785}. Best is trial 90 with value: 0.31689132414374244.\n"
     ]
    },
    {
     "name": "stdout",
     "output_type": "stream",
     "text": [
      "Repeat \u001b[1m\u001b[34m#1\n",
      "Repeat \u001b[1m\u001b[34m#2\n",
      "Repeat \u001b[1m\u001b[34m#3\n"
     ]
    },
    {
     "name": "stderr",
     "output_type": "stream",
     "text": [
      "[I 2023-06-22 00:07:34,867] Trial 98 finished with value: 0.3764647243932546 and parameters: {'bootstrap_type': 'Bernoulli', 'grow_policy': 'Depthwise', 'learning_rate': 0.023566313717113926, 'l2_leaf_reg': 55.98098598771134, 'depth': 4, 'random_strength': 57.99210382026253, 'min_data_in_leaf': 55, 'subsample': 0.8929050969336153, 'colsample_bylevel': 0.9438917704540085}. Best is trial 90 with value: 0.31689132414374244.\n"
     ]
    },
    {
     "name": "stdout",
     "output_type": "stream",
     "text": [
      "Repeat \u001b[1m\u001b[34m#1\n",
      "Repeat \u001b[1m\u001b[34m#2\n",
      "Repeat \u001b[1m\u001b[34m#3\n"
     ]
    },
    {
     "name": "stderr",
     "output_type": "stream",
     "text": [
      "[I 2023-06-22 00:07:55,640] Trial 99 finished with value: 0.366319143383304 and parameters: {'bootstrap_type': 'No', 'grow_policy': 'SymmetricTree', 'learning_rate': 0.010986665540645995, 'l2_leaf_reg': 6.0985002971520075, 'depth': 4, 'random_strength': 64.8247931266298, 'min_data_in_leaf': 58, 'colsample_bylevel': 0.8306063546680889, 'boosting_type': 'Plain'}. Best is trial 90 with value: 0.31689132414374244.\n"
     ]
    },
    {
     "name": "stdout",
     "output_type": "stream",
     "text": [
      "Repeat \u001b[1m\u001b[34m#1\n",
      "Repeat \u001b[1m\u001b[34m#2\n",
      "Repeat \u001b[1m\u001b[34m#3\n"
     ]
    },
    {
     "name": "stderr",
     "output_type": "stream",
     "text": [
      "[I 2023-06-22 00:08:38,064] Trial 100 finished with value: 0.32751508465522666 and parameters: {'bootstrap_type': 'Bayesian', 'grow_policy': 'Depthwise', 'learning_rate': 0.01400613742020275, 'l2_leaf_reg': 12.027877386232147, 'depth': 5, 'random_strength': 76.47593863010407, 'min_data_in_leaf': 64, 'bagging_temperature': 27.663885742265514}. Best is trial 90 with value: 0.31689132414374244.\n"
     ]
    },
    {
     "name": "stdout",
     "output_type": "stream",
     "text": [
      "Repeat \u001b[1m\u001b[34m#1\n",
      "Repeat \u001b[1m\u001b[34m#2\n",
      "Repeat \u001b[1m\u001b[34m#3\n"
     ]
    },
    {
     "name": "stderr",
     "output_type": "stream",
     "text": [
      "[I 2023-06-22 00:08:59,159] Trial 101 finished with value: 0.3299826684021345 and parameters: {'bootstrap_type': 'Bayesian', 'grow_policy': 'Depthwise', 'learning_rate': 0.027923620599595987, 'l2_leaf_reg': 3.67373256005977, 'depth': 4, 'random_strength': 53.17253126087305, 'min_data_in_leaf': 47, 'bagging_temperature': 30.894728356820195}. Best is trial 90 with value: 0.31689132414374244.\n"
     ]
    },
    {
     "name": "stdout",
     "output_type": "stream",
     "text": [
      "Repeat \u001b[1m\u001b[34m#1\n",
      "Repeat \u001b[1m\u001b[34m#2\n",
      "Repeat \u001b[1m\u001b[34m#3\n"
     ]
    },
    {
     "name": "stderr",
     "output_type": "stream",
     "text": [
      "[I 2023-06-22 00:09:36,375] Trial 102 finished with value: 0.3344655700140116 and parameters: {'bootstrap_type': 'Bayesian', 'grow_policy': 'Depthwise', 'learning_rate': 0.020147677797028894, 'l2_leaf_reg': 26.79272484755433, 'depth': 4, 'random_strength': 73.41495141143307, 'min_data_in_leaf': 44, 'bagging_temperature': 36.477182024971555}. Best is trial 90 with value: 0.31689132414374244.\n"
     ]
    },
    {
     "name": "stdout",
     "output_type": "stream",
     "text": [
      "Repeat \u001b[1m\u001b[34m#1\n",
      "Repeat \u001b[1m\u001b[34m#2\n",
      "Repeat \u001b[1m\u001b[34m#3\n"
     ]
    },
    {
     "name": "stderr",
     "output_type": "stream",
     "text": [
      "[I 2023-06-22 00:09:56,168] Trial 103 finished with value: 0.3317554114662774 and parameters: {'bootstrap_type': 'Bayesian', 'grow_policy': 'Depthwise', 'learning_rate': 0.028010443632534444, 'l2_leaf_reg': 2.487223294716852, 'depth': 4, 'random_strength': 56.51659726162631, 'min_data_in_leaf': 39, 'bagging_temperature': 23.33957332717585}. Best is trial 90 with value: 0.31689132414374244.\n"
     ]
    },
    {
     "name": "stdout",
     "output_type": "stream",
     "text": [
      "Repeat \u001b[1m\u001b[34m#1\n",
      "Repeat \u001b[1m\u001b[34m#2\n",
      "Repeat \u001b[1m\u001b[34m#3\n"
     ]
    },
    {
     "name": "stderr",
     "output_type": "stream",
     "text": [
      "[I 2023-06-22 00:10:22,134] Trial 104 finished with value: 0.3248507771626748 and parameters: {'bootstrap_type': 'Bayesian', 'grow_policy': 'Depthwise', 'learning_rate': 0.018403619176979597, 'l2_leaf_reg': 1.3976401861386554, 'depth': 4, 'random_strength': 70.26227774220077, 'min_data_in_leaf': 49, 'bagging_temperature': 26.04936651298663}. Best is trial 90 with value: 0.31689132414374244.\n"
     ]
    },
    {
     "name": "stdout",
     "output_type": "stream",
     "text": [
      "Repeat \u001b[1m\u001b[34m#1\n",
      "Repeat \u001b[1m\u001b[34m#2\n",
      "Repeat \u001b[1m\u001b[34m#3\n"
     ]
    },
    {
     "name": "stderr",
     "output_type": "stream",
     "text": [
      "[I 2023-06-22 00:10:50,221] Trial 105 finished with value: 0.3232109366410199 and parameters: {'bootstrap_type': 'Bayesian', 'grow_policy': 'Depthwise', 'learning_rate': 0.02197566514869551, 'l2_leaf_reg': 5.1097405247081955, 'depth': 4, 'random_strength': 66.91014530025053, 'min_data_in_leaf': 42, 'bagging_temperature': 33.13484901972201}. Best is trial 90 with value: 0.31689132414374244.\n"
     ]
    },
    {
     "name": "stdout",
     "output_type": "stream",
     "text": [
      "Repeat \u001b[1m\u001b[34m#1\n",
      "Repeat \u001b[1m\u001b[34m#2\n",
      "Repeat \u001b[1m\u001b[34m#3\n"
     ]
    },
    {
     "name": "stderr",
     "output_type": "stream",
     "text": [
      "[I 2023-06-22 00:11:03,029] Trial 106 finished with value: 0.3783219014480333 and parameters: {'bootstrap_type': 'MVS', 'grow_policy': 'Depthwise', 'learning_rate': 0.016222035535155638, 'l2_leaf_reg': 11.652014671048319, 'depth': 4, 'random_strength': 67.01008776143705, 'min_data_in_leaf': 99, 'subsample': 0.4736579486118822, 'colsample_bylevel': 0.3588601235074138}. Best is trial 90 with value: 0.31689132414374244.\n"
     ]
    },
    {
     "name": "stdout",
     "output_type": "stream",
     "text": [
      "Repeat \u001b[1m\u001b[34m#1\n",
      "Repeat \u001b[1m\u001b[34m#2\n",
      "Repeat \u001b[1m\u001b[34m#3\n"
     ]
    },
    {
     "name": "stderr",
     "output_type": "stream",
     "text": [
      "[I 2023-06-22 00:11:45,052] Trial 107 finished with value: 0.33982465408716284 and parameters: {'bootstrap_type': 'Bayesian', 'grow_policy': 'Depthwise', 'learning_rate': 0.022308000257815777, 'l2_leaf_reg': 67.22032599774593, 'depth': 4, 'random_strength': 62.83700824770036, 'min_data_in_leaf': 59, 'bagging_temperature': 33.02620077592859}. Best is trial 90 with value: 0.31689132414374244.\n"
     ]
    },
    {
     "name": "stdout",
     "output_type": "stream",
     "text": [
      "Repeat \u001b[1m\u001b[34m#1\n",
      "Repeat \u001b[1m\u001b[34m#2\n",
      "Repeat \u001b[1m\u001b[34m#3\n"
     ]
    },
    {
     "name": "stderr",
     "output_type": "stream",
     "text": [
      "[I 2023-06-22 00:12:15,826] Trial 108 finished with value: 0.32689648759454554 and parameters: {'bootstrap_type': 'Bayesian', 'grow_policy': 'Depthwise', 'learning_rate': 0.024447087198923217, 'l2_leaf_reg': 5.604846417939687, 'depth': 5, 'random_strength': 70.41649462926294, 'min_data_in_leaf': 52, 'bagging_temperature': 37.84900844144231}. Best is trial 90 with value: 0.31689132414374244.\n"
     ]
    },
    {
     "name": "stdout",
     "output_type": "stream",
     "text": [
      "Repeat \u001b[1m\u001b[34m#1\n",
      "Repeat \u001b[1m\u001b[34m#2\n",
      "Repeat \u001b[1m\u001b[34m#3\n"
     ]
    },
    {
     "name": "stderr",
     "output_type": "stream",
     "text": [
      "[I 2023-06-22 00:12:41,338] Trial 109 finished with value: 0.3214120540008293 and parameters: {'bootstrap_type': 'Bayesian', 'grow_policy': 'Lossguide', 'learning_rate': 0.03986483214488281, 'l2_leaf_reg': 17.833845983943043, 'depth': 4, 'random_strength': 73.63360834003117, 'min_data_in_leaf': 46, 'bagging_temperature': 41.44865025624942, 'max_leaves': 105}. Best is trial 90 with value: 0.31689132414374244.\n"
     ]
    },
    {
     "name": "stdout",
     "output_type": "stream",
     "text": [
      "Repeat \u001b[1m\u001b[34m#1\n",
      "Repeat \u001b[1m\u001b[34m#2\n",
      "Repeat \u001b[1m\u001b[34m#3\n"
     ]
    },
    {
     "name": "stderr",
     "output_type": "stream",
     "text": [
      "[I 2023-06-22 00:13:13,234] Trial 110 finished with value: 0.31838384370664125 and parameters: {'bootstrap_type': 'Bayesian', 'grow_policy': 'Lossguide', 'learning_rate': 0.042180468487443064, 'l2_leaf_reg': 18.7426502704769, 'depth': 4, 'random_strength': 73.70740234502578, 'min_data_in_leaf': 34, 'bagging_temperature': 41.91597388739469, 'max_leaves': 102}. Best is trial 90 with value: 0.31689132414374244.\n"
     ]
    },
    {
     "name": "stdout",
     "output_type": "stream",
     "text": [
      "Repeat \u001b[1m\u001b[34m#1\n",
      "Repeat \u001b[1m\u001b[34m#2\n",
      "Repeat \u001b[1m\u001b[34m#3\n"
     ]
    },
    {
     "name": "stderr",
     "output_type": "stream",
     "text": [
      "[I 2023-06-22 00:13:42,572] Trial 111 finished with value: 0.3219410769095748 and parameters: {'bootstrap_type': 'Bayesian', 'grow_policy': 'Lossguide', 'learning_rate': 0.04160690129249083, 'l2_leaf_reg': 19.895727234169854, 'depth': 4, 'random_strength': 75.02543902522967, 'min_data_in_leaf': 34, 'bagging_temperature': 41.55825936434872, 'max_leaves': 102}. Best is trial 90 with value: 0.31689132414374244.\n"
     ]
    },
    {
     "name": "stdout",
     "output_type": "stream",
     "text": [
      "Repeat \u001b[1m\u001b[34m#1\n",
      "Repeat \u001b[1m\u001b[34m#2\n",
      "Repeat \u001b[1m\u001b[34m#3\n"
     ]
    },
    {
     "name": "stderr",
     "output_type": "stream",
     "text": [
      "[I 2023-06-22 00:14:10,086] Trial 112 finished with value: 0.3308735926304092 and parameters: {'bootstrap_type': 'Bayesian', 'grow_policy': 'Lossguide', 'learning_rate': 0.05064643586921064, 'l2_leaf_reg': 31.354410737459112, 'depth': 4, 'random_strength': 74.73677107839674, 'min_data_in_leaf': 33, 'bagging_temperature': 41.99802065805207, 'max_leaves': 100}. Best is trial 90 with value: 0.31689132414374244.\n"
     ]
    },
    {
     "name": "stdout",
     "output_type": "stream",
     "text": [
      "Repeat \u001b[1m\u001b[34m#1\n",
      "Repeat \u001b[1m\u001b[34m#2\n",
      "Repeat \u001b[1m\u001b[34m#3\n"
     ]
    },
    {
     "name": "stderr",
     "output_type": "stream",
     "text": [
      "[I 2023-06-22 00:14:36,897] Trial 113 finished with value: 0.32842107001163334 and parameters: {'bootstrap_type': 'Bayesian', 'grow_policy': 'Lossguide', 'learning_rate': 0.04007916712583333, 'l2_leaf_reg': 18.878880586952146, 'depth': 4, 'random_strength': 79.6226723466375, 'min_data_in_leaf': 35, 'bagging_temperature': 44.02271656648837, 'max_leaves': 105}. Best is trial 90 with value: 0.31689132414374244.\n"
     ]
    },
    {
     "name": "stdout",
     "output_type": "stream",
     "text": [
      "Repeat \u001b[1m\u001b[34m#1\n",
      "Repeat \u001b[1m\u001b[34m#2\n",
      "Repeat \u001b[1m\u001b[34m#3\n"
     ]
    },
    {
     "name": "stderr",
     "output_type": "stream",
     "text": [
      "[I 2023-06-22 00:15:14,974] Trial 114 finished with value: 0.32041324684159816 and parameters: {'bootstrap_type': 'Bayesian', 'grow_policy': 'Lossguide', 'learning_rate': 0.04169804170860602, 'l2_leaf_reg': 42.78933024396269, 'depth': 4, 'random_strength': 77.06787111737003, 'min_data_in_leaf': 26, 'bagging_temperature': 40.3922422651468, 'max_leaves': 109}. Best is trial 90 with value: 0.31689132414374244.\n"
     ]
    },
    {
     "name": "stdout",
     "output_type": "stream",
     "text": [
      "Repeat \u001b[1m\u001b[34m#1\n",
      "Repeat \u001b[1m\u001b[34m#2\n",
      "Repeat \u001b[1m\u001b[34m#3\n"
     ]
    },
    {
     "name": "stderr",
     "output_type": "stream",
     "text": [
      "[I 2023-06-22 00:15:47,686] Trial 115 finished with value: 0.32352309821846575 and parameters: {'bootstrap_type': 'Bayesian', 'grow_policy': 'Lossguide', 'learning_rate': 0.05688916745129367, 'l2_leaf_reg': 41.37406499848298, 'depth': 4, 'random_strength': 76.84264977768802, 'min_data_in_leaf': 26, 'bagging_temperature': 41.30797909172878, 'max_leaves': 108}. Best is trial 90 with value: 0.31689132414374244.\n"
     ]
    },
    {
     "name": "stdout",
     "output_type": "stream",
     "text": [
      "Repeat \u001b[1m\u001b[34m#1\n",
      "Repeat \u001b[1m\u001b[34m#2\n",
      "Repeat \u001b[1m\u001b[34m#3\n"
     ]
    },
    {
     "name": "stderr",
     "output_type": "stream",
     "text": [
      "[I 2023-06-22 00:16:34,506] Trial 116 finished with value: 0.3253317346590782 and parameters: {'bootstrap_type': 'Bayesian', 'grow_policy': 'Lossguide', 'learning_rate': 0.04298440543182832, 'l2_leaf_reg': 74.61400542603249, 'depth': 4, 'random_strength': 81.25345861170203, 'min_data_in_leaf': 22, 'bagging_temperature': 38.888697308159195, 'max_leaves': 86}. Best is trial 90 with value: 0.31689132414374244.\n"
     ]
    },
    {
     "name": "stdout",
     "output_type": "stream",
     "text": [
      "Repeat \u001b[1m\u001b[34m#1\n",
      "Repeat \u001b[1m\u001b[34m#2\n",
      "Repeat \u001b[1m\u001b[34m#3\n"
     ]
    },
    {
     "name": "stderr",
     "output_type": "stream",
     "text": [
      "[I 2023-06-22 00:17:04,853] Trial 117 finished with value: 0.32423468357768076 and parameters: {'bootstrap_type': 'Bayesian', 'grow_policy': 'Lossguide', 'learning_rate': 0.03712003210104102, 'l2_leaf_reg': 25.413359241731936, 'depth': 4, 'random_strength': 73.29247628475152, 'min_data_in_leaf': 25, 'bagging_temperature': 45.99423941833928, 'max_leaves': 112}. Best is trial 90 with value: 0.31689132414374244.\n"
     ]
    },
    {
     "name": "stdout",
     "output_type": "stream",
     "text": [
      "Repeat \u001b[1m\u001b[34m#1\n",
      "Repeat \u001b[1m\u001b[34m#2\n",
      "Repeat \u001b[1m\u001b[34m#3\n"
     ]
    },
    {
     "name": "stderr",
     "output_type": "stream",
     "text": [
      "[I 2023-06-22 00:17:43,017] Trial 118 finished with value: 0.32578162641928055 and parameters: {'bootstrap_type': 'Bayesian', 'grow_policy': 'Lossguide', 'learning_rate': 0.03368161332889479, 'l2_leaf_reg': 40.60933224062338, 'depth': 4, 'random_strength': 78.2770936379694, 'min_data_in_leaf': 29, 'bagging_temperature': 42.741850761939965, 'max_leaves': 114}. Best is trial 90 with value: 0.31689132414374244.\n"
     ]
    },
    {
     "name": "stdout",
     "output_type": "stream",
     "text": [
      "Repeat \u001b[1m\u001b[34m#1\n",
      "Repeat \u001b[1m\u001b[34m#2\n",
      "Repeat \u001b[1m\u001b[34m#3\n"
     ]
    },
    {
     "name": "stderr",
     "output_type": "stream",
     "text": [
      "[I 2023-06-22 00:17:56,603] Trial 119 finished with value: 0.3617522530443302 and parameters: {'bootstrap_type': 'Bernoulli', 'grow_policy': 'Lossguide', 'learning_rate': 0.062126176228268756, 'l2_leaf_reg': 99.5821590268967, 'depth': 4, 'random_strength': 74.94680481688982, 'min_data_in_leaf': 39, 'subsample': 0.5973890117530973, 'colsample_bylevel': 0.44593938261909977, 'max_leaves': 85}. Best is trial 90 with value: 0.31689132414374244.\n"
     ]
    },
    {
     "name": "stdout",
     "output_type": "stream",
     "text": [
      "Repeat \u001b[1m\u001b[34m#1\n",
      "Repeat \u001b[1m\u001b[34m#2\n",
      "Repeat \u001b[1m\u001b[34m#3\n"
     ]
    },
    {
     "name": "stderr",
     "output_type": "stream",
     "text": [
      "[I 2023-06-22 00:18:08,167] Trial 120 finished with value: 0.3859763115030375 and parameters: {'bootstrap_type': 'No', 'grow_policy': 'Lossguide', 'learning_rate': 0.05002943664017417, 'l2_leaf_reg': 19.688407885504166, 'depth': 5, 'random_strength': 72.19597314271986, 'min_data_in_leaf': 20, 'colsample_bylevel': 0.994993458097019, 'max_leaves': 98}. Best is trial 90 with value: 0.31689132414374244.\n"
     ]
    },
    {
     "name": "stdout",
     "output_type": "stream",
     "text": [
      "Repeat \u001b[1m\u001b[34m#1\n",
      "Repeat \u001b[1m\u001b[34m#2\n",
      "Repeat \u001b[1m\u001b[34m#3\n"
     ]
    },
    {
     "name": "stderr",
     "output_type": "stream",
     "text": [
      "[I 2023-06-22 00:18:27,520] Trial 121 finished with value: 0.32025574335709966 and parameters: {'bootstrap_type': 'Bayesian', 'grow_policy': 'Lossguide', 'learning_rate': 0.0398884002843888, 'l2_leaf_reg': 5.154668555886279, 'depth': 4, 'random_strength': 76.7035135742276, 'min_data_in_leaf': 42, 'bagging_temperature': 37.45214932358048, 'max_leaves': 119}. Best is trial 90 with value: 0.31689132414374244.\n"
     ]
    },
    {
     "name": "stdout",
     "output_type": "stream",
     "text": [
      "Repeat \u001b[1m\u001b[34m#1\n",
      "Repeat \u001b[1m\u001b[34m#2\n",
      "Repeat \u001b[1m\u001b[34m#3\n"
     ]
    },
    {
     "name": "stderr",
     "output_type": "stream",
     "text": [
      "[I 2023-06-22 00:18:44,812] Trial 122 finished with value: 0.3349720602835398 and parameters: {'bootstrap_type': 'Bayesian', 'grow_policy': 'Lossguide', 'learning_rate': 0.03892135039913652, 'l2_leaf_reg': 2.563064327858089, 'depth': 4, 'random_strength': 76.50358362555892, 'min_data_in_leaf': 34, 'bagging_temperature': 39.957995935562046, 'max_leaves': 118}. Best is trial 90 with value: 0.31689132414374244.\n"
     ]
    },
    {
     "name": "stdout",
     "output_type": "stream",
     "text": [
      "Repeat \u001b[1m\u001b[34m#1\n",
      "Repeat \u001b[1m\u001b[34m#2\n",
      "Repeat \u001b[1m\u001b[34m#3\n"
     ]
    },
    {
     "name": "stderr",
     "output_type": "stream",
     "text": [
      "[I 2023-06-22 00:19:11,809] Trial 123 finished with value: 0.33100404980137393 and parameters: {'bootstrap_type': 'Bayesian', 'grow_policy': 'Lossguide', 'learning_rate': 0.03049758338424732, 'l2_leaf_reg': 8.254213754988163, 'depth': 4, 'random_strength': 78.72609346945059, 'min_data_in_leaf': 31, 'bagging_temperature': 36.94486259415887, 'max_leaves': 117}. Best is trial 90 with value: 0.31689132414374244.\n"
     ]
    },
    {
     "name": "stdout",
     "output_type": "stream",
     "text": [
      "Repeat \u001b[1m\u001b[34m#1\n",
      "Repeat \u001b[1m\u001b[34m#2\n",
      "Repeat \u001b[1m\u001b[34m#3\n"
     ]
    },
    {
     "name": "stderr",
     "output_type": "stream",
     "text": [
      "[I 2023-06-22 00:19:29,046] Trial 124 finished with value: 0.3352556658353627 and parameters: {'bootstrap_type': 'Bayesian', 'grow_policy': 'Lossguide', 'learning_rate': 0.04514214865786695, 'l2_leaf_reg': 4.183819988922247, 'depth': 4, 'random_strength': 81.89521193261919, 'min_data_in_leaf': 43, 'bagging_temperature': 44.61051691212696, 'max_leaves': 101}. Best is trial 90 with value: 0.31689132414374244.\n"
     ]
    },
    {
     "name": "stdout",
     "output_type": "stream",
     "text": [
      "Repeat \u001b[1m\u001b[34m#1\n",
      "Repeat \u001b[1m\u001b[34m#2\n",
      "Repeat \u001b[1m\u001b[34m#3\n"
     ]
    },
    {
     "name": "stderr",
     "output_type": "stream",
     "text": [
      "[I 2023-06-22 00:20:21,003] Trial 125 finished with value: 0.3460453470597002 and parameters: {'bootstrap_type': 'Bayesian', 'grow_policy': 'Lossguide', 'learning_rate': 0.03237067074162601, 'l2_leaf_reg': 11.589267222012058, 'depth': 8, 'random_strength': 84.79670108831039, 'min_data_in_leaf': 38, 'bagging_temperature': 41.20040811911724, 'max_leaves': 77}. Best is trial 90 with value: 0.31689132414374244.\n"
     ]
    },
    {
     "name": "stdout",
     "output_type": "stream",
     "text": [
      "Repeat \u001b[1m\u001b[34m#1\n",
      "Repeat \u001b[1m\u001b[34m#2\n",
      "Repeat \u001b[1m\u001b[34m#3\n"
     ]
    },
    {
     "name": "stderr",
     "output_type": "stream",
     "text": [
      "[I 2023-06-22 00:20:45,729] Trial 126 finished with value: 0.3503108494390241 and parameters: {'bootstrap_type': 'Bayesian', 'grow_policy': 'Lossguide', 'learning_rate': 0.04007063060330474, 'l2_leaf_reg': 57.137520460158754, 'depth': 4, 'random_strength': 71.68198860724004, 'min_data_in_leaf': 46, 'bagging_temperature': 48.85751643017532, 'max_leaves': 118}. Best is trial 90 with value: 0.31689132414374244.\n"
     ]
    },
    {
     "name": "stdout",
     "output_type": "stream",
     "text": [
      "Repeat \u001b[1m\u001b[34m#1\n",
      "Repeat \u001b[1m\u001b[34m#2\n",
      "Repeat \u001b[1m\u001b[34m#3\n"
     ]
    },
    {
     "name": "stderr",
     "output_type": "stream",
     "text": [
      "[I 2023-06-22 00:21:08,904] Trial 127 finished with value: 0.31282061176940684 and parameters: {'bootstrap_type': 'Bayesian', 'grow_policy': 'Lossguide', 'learning_rate': 0.054496490794280206, 'l2_leaf_reg': 30.259523365737774, 'depth': 4, 'random_strength': 73.94327511021089, 'min_data_in_leaf': 37, 'bagging_temperature': 37.59344101410146, 'max_leaves': 98}. Best is trial 127 with value: 0.31282061176940684.\n"
     ]
    },
    {
     "name": "stdout",
     "output_type": "stream",
     "text": [
      "Repeat \u001b[1m\u001b[34m#1\n",
      "Repeat \u001b[1m\u001b[34m#2\n",
      "Repeat \u001b[1m\u001b[34m#3\n"
     ]
    },
    {
     "name": "stderr",
     "output_type": "stream",
     "text": [
      "[I 2023-06-22 00:21:34,962] Trial 128 finished with value: 0.3282172537320224 and parameters: {'bootstrap_type': 'Bayesian', 'grow_policy': 'Lossguide', 'learning_rate': 0.05384864712402159, 'l2_leaf_reg': 29.86556716333779, 'depth': 4, 'random_strength': 79.59744851506662, 'min_data_in_leaf': 32, 'bagging_temperature': 37.63378046757811, 'max_leaves': 92}. Best is trial 127 with value: 0.31282061176940684.\n"
     ]
    },
    {
     "name": "stdout",
     "output_type": "stream",
     "text": [
      "Repeat \u001b[1m\u001b[34m#1\n",
      "Repeat \u001b[1m\u001b[34m#2\n",
      "Repeat \u001b[1m\u001b[34m#3\n"
     ]
    },
    {
     "name": "stderr",
     "output_type": "stream",
     "text": [
      "[I 2023-06-22 00:21:42,020] Trial 129 finished with value: 0.3655924968885577 and parameters: {'bootstrap_type': 'MVS', 'grow_policy': 'Lossguide', 'learning_rate': 0.05772568644206692, 'l2_leaf_reg': 18.358092605805364, 'depth': 4, 'random_strength': 75.55665096982021, 'min_data_in_leaf': 36, 'subsample': 0.5628336040040297, 'colsample_bylevel': 0.4123998751348994, 'max_leaves': 106}. Best is trial 127 with value: 0.31282061176940684.\n"
     ]
    },
    {
     "name": "stdout",
     "output_type": "stream",
     "text": [
      "Repeat \u001b[1m\u001b[34m#1\n",
      "Repeat \u001b[1m\u001b[34m#2\n",
      "Repeat \u001b[1m\u001b[34m#3\n"
     ]
    },
    {
     "name": "stderr",
     "output_type": "stream",
     "text": [
      "[I 2023-06-22 00:22:13,738] Trial 130 finished with value: 0.32969312606312456 and parameters: {'bootstrap_type': 'Bayesian', 'grow_policy': 'Lossguide', 'learning_rate': 0.048484351448016556, 'l2_leaf_reg': 62.978895575386495, 'depth': 4, 'random_strength': 76.65887268237873, 'min_data_in_leaf': 30, 'bagging_temperature': 45.8940189330244, 'max_leaves': 96}. Best is trial 127 with value: 0.31282061176940684.\n"
     ]
    },
    {
     "name": "stdout",
     "output_type": "stream",
     "text": [
      "Repeat \u001b[1m\u001b[34m#1\n",
      "Repeat \u001b[1m\u001b[34m#2\n",
      "Repeat \u001b[1m\u001b[34m#3\n"
     ]
    },
    {
     "name": "stderr",
     "output_type": "stream",
     "text": [
      "[I 2023-06-22 00:22:37,187] Trial 131 finished with value: 0.3302265200630028 and parameters: {'bootstrap_type': 'Bayesian', 'grow_policy': 'Lossguide', 'learning_rate': 0.03551300085319943, 'l2_leaf_reg': 8.30151541958342, 'depth': 4, 'random_strength': 73.32219948256433, 'min_data_in_leaf': 40, 'bagging_temperature': 35.64976392526422, 'max_leaves': 110}. Best is trial 127 with value: 0.31282061176940684.\n"
     ]
    },
    {
     "name": "stdout",
     "output_type": "stream",
     "text": [
      "Repeat \u001b[1m\u001b[34m#1\n",
      "Repeat \u001b[1m\u001b[34m#2\n",
      "Repeat \u001b[1m\u001b[34m#3\n"
     ]
    },
    {
     "name": "stderr",
     "output_type": "stream",
     "text": [
      "[I 2023-06-22 00:23:00,857] Trial 132 finished with value: 0.3334886011782223 and parameters: {'bootstrap_type': 'Bayesian', 'grow_policy': 'Lossguide', 'learning_rate': 0.027103676703103277, 'l2_leaf_reg': 4.147385898654509, 'depth': 4, 'random_strength': 70.74292620870887, 'min_data_in_leaf': 41, 'bagging_temperature': 40.019322399152244, 'max_leaves': 122}. Best is trial 127 with value: 0.31282061176940684.\n"
     ]
    },
    {
     "name": "stdout",
     "output_type": "stream",
     "text": [
      "Repeat \u001b[1m\u001b[34m#1\n",
      "Repeat \u001b[1m\u001b[34m#2\n",
      "Repeat \u001b[1m\u001b[34m#3\n"
     ]
    },
    {
     "name": "stderr",
     "output_type": "stream",
     "text": [
      "[I 2023-06-22 00:23:29,169] Trial 133 finished with value: 0.34357540246854024 and parameters: {'bootstrap_type': 'Bayesian', 'grow_policy': 'Lossguide', 'learning_rate': 0.06751233151672506, 'l2_leaf_reg': 14.759030752432274, 'depth': 6, 'random_strength': 67.45549802127248, 'min_data_in_leaf': 37, 'bagging_temperature': 38.86820700196741, 'max_leaves': 105}. Best is trial 127 with value: 0.31282061176940684.\n"
     ]
    },
    {
     "name": "stdout",
     "output_type": "stream",
     "text": [
      "Repeat \u001b[1m\u001b[34m#1\n",
      "Repeat \u001b[1m\u001b[34m#2\n",
      "Repeat \u001b[1m\u001b[34m#3\n"
     ]
    },
    {
     "name": "stderr",
     "output_type": "stream",
     "text": [
      "[I 2023-06-22 00:23:45,764] Trial 134 finished with value: 0.3363756629771302 and parameters: {'bootstrap_type': 'Bayesian', 'grow_policy': 'Lossguide', 'learning_rate': 0.04236271609105759, 'l2_leaf_reg': 0.6296317466602284, 'depth': 4, 'random_strength': 68.76084157449057, 'min_data_in_leaf': 45, 'bagging_temperature': 43.228567719203575, 'max_leaves': 128}. Best is trial 127 with value: 0.31282061176940684.\n"
     ]
    },
    {
     "name": "stdout",
     "output_type": "stream",
     "text": [
      "Repeat \u001b[1m\u001b[34m#1\n",
      "Repeat \u001b[1m\u001b[34m#2\n",
      "Repeat \u001b[1m\u001b[34m#3\n"
     ]
    },
    {
     "name": "stderr",
     "output_type": "stream",
     "text": [
      "[I 2023-06-22 00:24:19,472] Trial 135 finished with value: 0.3237895333446639 and parameters: {'bootstrap_type': 'Bayesian', 'grow_policy': 'Lossguide', 'learning_rate': 0.03074573520656394, 'l2_leaf_reg': 32.22594980837477, 'depth': 4, 'random_strength': 73.50850369646254, 'min_data_in_leaf': 43, 'bagging_temperature': 34.625802277581165, 'max_leaves': 86}. Best is trial 127 with value: 0.31282061176940684.\n"
     ]
    },
    {
     "name": "stdout",
     "output_type": "stream",
     "text": [
      "Repeat \u001b[1m\u001b[34m#1\n",
      "Repeat \u001b[1m\u001b[34m#2\n",
      "Repeat \u001b[1m\u001b[34m#3\n"
     ]
    },
    {
     "name": "stderr",
     "output_type": "stream",
     "text": [
      "[I 2023-06-22 00:24:40,352] Trial 136 finished with value: 0.329572554905796 and parameters: {'bootstrap_type': 'Bayesian', 'grow_policy': 'Lossguide', 'learning_rate': 0.034574914187769416, 'l2_leaf_reg': 1.642385897397121, 'depth': 4, 'random_strength': 77.9100498509401, 'min_data_in_leaf': 34, 'bagging_temperature': 42.795143270312906, 'max_leaves': 75}. Best is trial 127 with value: 0.31282061176940684.\n"
     ]
    },
    {
     "name": "stdout",
     "output_type": "stream",
     "text": [
      "Repeat \u001b[1m\u001b[34m#1\n",
      "Repeat \u001b[1m\u001b[34m#2\n",
      "Repeat \u001b[1m\u001b[34m#3\n"
     ]
    },
    {
     "name": "stderr",
     "output_type": "stream",
     "text": [
      "[I 2023-06-22 00:25:05,769] Trial 137 finished with value: 0.32175889479603237 and parameters: {'bootstrap_type': 'Bayesian', 'grow_policy': 'Lossguide', 'learning_rate': 0.02582747301187334, 'l2_leaf_reg': 5.8407552397433635, 'depth': 4, 'random_strength': 80.98955452723014, 'min_data_in_leaf': 48, 'bagging_temperature': 37.51914045014017, 'max_leaves': 36}. Best is trial 127 with value: 0.31282061176940684.\n"
     ]
    },
    {
     "name": "stdout",
     "output_type": "stream",
     "text": [
      "Repeat \u001b[1m\u001b[34m#1\n",
      "Repeat \u001b[1m\u001b[34m#2\n",
      "Repeat \u001b[1m\u001b[34m#3\n"
     ]
    },
    {
     "name": "stderr",
     "output_type": "stream",
     "text": [
      "[I 2023-06-22 00:25:21,663] Trial 138 finished with value: 0.3179715190736703 and parameters: {'bootstrap_type': 'Bayesian', 'grow_policy': 'Lossguide', 'learning_rate': 0.04551699994476755, 'l2_leaf_reg': 2.7475551619328127, 'depth': 4, 'random_strength': 81.46637334612345, 'min_data_in_leaf': 50, 'bagging_temperature': 37.41864556753879, 'max_leaves': 51}. Best is trial 127 with value: 0.31282061176940684.\n"
     ]
    },
    {
     "name": "stdout",
     "output_type": "stream",
     "text": [
      "Repeat \u001b[1m\u001b[34m#1\n",
      "Repeat \u001b[1m\u001b[34m#2\n",
      "Repeat \u001b[1m\u001b[34m#3\n"
     ]
    },
    {
     "name": "stderr",
     "output_type": "stream",
     "text": [
      "[I 2023-06-22 00:25:36,803] Trial 139 finished with value: 0.33124558001668314 and parameters: {'bootstrap_type': 'Bayesian', 'grow_policy': 'Lossguide', 'learning_rate': 0.04564655140093925, 'l2_leaf_reg': 2.6944078079889096, 'depth': 4, 'random_strength': 83.56267021883207, 'min_data_in_leaf': 48, 'bagging_temperature': 37.96447068455433, 'max_leaves': 48}. Best is trial 127 with value: 0.31282061176940684.\n"
     ]
    },
    {
     "name": "stdout",
     "output_type": "stream",
     "text": [
      "Repeat \u001b[1m\u001b[34m#1\n",
      "Repeat \u001b[1m\u001b[34m#2\n",
      "Repeat \u001b[1m\u001b[34m#3\n"
     ]
    },
    {
     "name": "stderr",
     "output_type": "stream",
     "text": [
      "[I 2023-06-22 00:25:48,956] Trial 140 finished with value: 0.34730931098160545 and parameters: {'bootstrap_type': 'Bayesian', 'grow_policy': 'Lossguide', 'learning_rate': 0.0619177038493174, 'l2_leaf_reg': 0.838051980847146, 'depth': 5, 'random_strength': 80.07868711332773, 'min_data_in_leaf': 46, 'bagging_temperature': 45.58707877650102, 'max_leaves': 37}. Best is trial 127 with value: 0.31282061176940684.\n"
     ]
    },
    {
     "name": "stdout",
     "output_type": "stream",
     "text": [
      "Repeat \u001b[1m\u001b[34m#1\n",
      "Repeat \u001b[1m\u001b[34m#2\n",
      "Repeat \u001b[1m\u001b[34m#3\n"
     ]
    },
    {
     "name": "stderr",
     "output_type": "stream",
     "text": [
      "[I 2023-06-22 00:26:10,772] Trial 141 finished with value: 0.32037017517157657 and parameters: {'bootstrap_type': 'Bayesian', 'grow_policy': 'Lossguide', 'learning_rate': 0.039248847007439344, 'l2_leaf_reg': 7.886209079463358, 'depth': 4, 'random_strength': 81.80046438052706, 'min_data_in_leaf': 50, 'bagging_temperature': 40.6180668629189, 'max_leaves': 47}. Best is trial 127 with value: 0.31282061176940684.\n"
     ]
    },
    {
     "name": "stdout",
     "output_type": "stream",
     "text": [
      "Repeat \u001b[1m\u001b[34m#1\n",
      "Repeat \u001b[1m\u001b[34m#2\n",
      "Repeat \u001b[1m\u001b[34m#3\n"
     ]
    },
    {
     "name": "stderr",
     "output_type": "stream",
     "text": [
      "[I 2023-06-22 00:26:27,664] Trial 142 finished with value: 0.3294124705198283 and parameters: {'bootstrap_type': 'Bayesian', 'grow_policy': 'Lossguide', 'learning_rate': 0.05071476043368495, 'l2_leaf_reg': 7.393225393921085, 'depth': 4, 'random_strength': 86.3478449376992, 'min_data_in_leaf': 50, 'bagging_temperature': 40.327255770367124, 'max_leaves': 39}. Best is trial 127 with value: 0.31282061176940684.\n"
     ]
    },
    {
     "name": "stdout",
     "output_type": "stream",
     "text": [
      "Repeat \u001b[1m\u001b[34m#1\n",
      "Repeat \u001b[1m\u001b[34m#2\n",
      "Repeat \u001b[1m\u001b[34m#3\n"
     ]
    },
    {
     "name": "stderr",
     "output_type": "stream",
     "text": [
      "[I 2023-06-22 00:26:43,566] Trial 143 finished with value: 0.3313355488886018 and parameters: {'bootstrap_type': 'Bayesian', 'grow_policy': 'Lossguide', 'learning_rate': 0.03894295333355051, 'l2_leaf_reg': 1.7978503196505276, 'depth': 4, 'random_strength': 81.5720727568722, 'min_data_in_leaf': 48, 'bagging_temperature': 36.662530624370746, 'max_leaves': 51}. Best is trial 127 with value: 0.31282061176940684.\n"
     ]
    },
    {
     "name": "stdout",
     "output_type": "stream",
     "text": [
      "Repeat \u001b[1m\u001b[34m#1\n",
      "Repeat \u001b[1m\u001b[34m#2\n",
      "Repeat \u001b[1m\u001b[34m#3\n"
     ]
    },
    {
     "name": "stderr",
     "output_type": "stream",
     "text": [
      "[I 2023-06-22 00:27:04,545] Trial 144 finished with value: 0.324066822793694 and parameters: {'bootstrap_type': 'Bayesian', 'grow_policy': 'Lossguide', 'learning_rate': 0.04101911458205366, 'l2_leaf_reg': 10.035049720678403, 'depth': 4, 'random_strength': 82.65339186162349, 'min_data_in_leaf': 39, 'bagging_temperature': 42.50243454643509, 'max_leaves': 29}. Best is trial 127 with value: 0.31282061176940684.\n"
     ]
    },
    {
     "name": "stdout",
     "output_type": "stream",
     "text": [
      "Repeat \u001b[1m\u001b[34m#1\n",
      "Repeat \u001b[1m\u001b[34m#2\n",
      "Repeat \u001b[1m\u001b[34m#3\n"
     ]
    },
    {
     "name": "stderr",
     "output_type": "stream",
     "text": [
      "[I 2023-06-22 00:27:14,325] Trial 145 finished with value: 0.38831272470450734 and parameters: {'bootstrap_type': 'Bayesian', 'grow_policy': 'Lossguide', 'learning_rate': 0.07750824835407988, 'l2_leaf_reg': 0.13078399674470514, 'depth': 4, 'random_strength': 80.41925711495517, 'min_data_in_leaf': 16, 'bagging_temperature': 40.12308490622065, 'max_leaves': 56}. Best is trial 127 with value: 0.31282061176940684.\n"
     ]
    },
    {
     "name": "stdout",
     "output_type": "stream",
     "text": [
      "Repeat \u001b[1m\u001b[34m#1\n",
      "Repeat \u001b[1m\u001b[34m#2\n",
      "Repeat \u001b[1m\u001b[34m#3\n"
     ]
    },
    {
     "name": "stderr",
     "output_type": "stream",
     "text": [
      "[I 2023-06-22 00:27:28,833] Trial 146 finished with value: 0.32810706631759184 and parameters: {'bootstrap_type': 'Bayesian', 'grow_policy': 'Lossguide', 'learning_rate': 0.052599258733528935, 'l2_leaf_reg': 2.9621997247522414, 'depth': 4, 'random_strength': 76.64703393437709, 'min_data_in_leaf': 45, 'bagging_temperature': 35.6150593506101, 'max_leaves': 24}. Best is trial 127 with value: 0.31282061176940684.\n"
     ]
    },
    {
     "name": "stdout",
     "output_type": "stream",
     "text": [
      "Repeat \u001b[1m\u001b[34m#1\n",
      "Repeat \u001b[1m\u001b[34m#2\n",
      "Repeat \u001b[1m\u001b[34m#3\n"
     ]
    },
    {
     "name": "stderr",
     "output_type": "stream",
     "text": [
      "[I 2023-06-22 00:27:46,632] Trial 147 finished with value: 0.32519142727233286 and parameters: {'bootstrap_type': 'Bayesian', 'grow_policy': 'Lossguide', 'learning_rate': 0.03459724847336501, 'l2_leaf_reg': 0.35209185084801475, 'depth': 4, 'random_strength': 75.04512614818694, 'min_data_in_leaf': 35, 'bagging_temperature': 44.29536071079026, 'max_leaves': 45}. Best is trial 127 with value: 0.31282061176940684.\n"
     ]
    },
    {
     "name": "stdout",
     "output_type": "stream",
     "text": [
      "Repeat \u001b[1m\u001b[34m#1\n",
      "Repeat \u001b[1m\u001b[34m#2\n",
      "Repeat \u001b[1m\u001b[34m#3\n"
     ]
    },
    {
     "name": "stderr",
     "output_type": "stream",
     "text": [
      "[I 2023-06-22 00:28:02,124] Trial 148 finished with value: 0.36303134507344015 and parameters: {'bootstrap_type': 'Bernoulli', 'grow_policy': 'Lossguide', 'learning_rate': 0.029024464613094166, 'l2_leaf_reg': 45.00947274041032, 'depth': 4, 'random_strength': 78.72245561532895, 'min_data_in_leaf': 51, 'subsample': 0.6533242938757372, 'colsample_bylevel': 0.8739494623573975, 'max_leaves': 58}. Best is trial 127 with value: 0.31282061176940684.\n"
     ]
    },
    {
     "name": "stdout",
     "output_type": "stream",
     "text": [
      "Repeat \u001b[1m\u001b[34m#1\n",
      "Repeat \u001b[1m\u001b[34m#2\n",
      "Repeat \u001b[1m\u001b[34m#3\n"
     ]
    },
    {
     "name": "stderr",
     "output_type": "stream",
     "text": [
      "[I 2023-06-22 00:28:25,305] Trial 149 finished with value: 0.33069204600098784 and parameters: {'bootstrap_type': 'Bayesian', 'grow_policy': 'Lossguide', 'learning_rate': 0.025698726258005147, 'l2_leaf_reg': 1.0306205036481713, 'depth': 4, 'random_strength': 84.23214060155874, 'min_data_in_leaf': 28, 'bagging_temperature': 47.45159668078113, 'max_leaves': 30}. Best is trial 127 with value: 0.31282061176940684.\n"
     ]
    },
    {
     "name": "stdout",
     "output_type": "stream",
     "text": [
      "Repeat \u001b[1m\u001b[34m#1\n",
      "Repeat \u001b[1m\u001b[34m#2\n",
      "Repeat \u001b[1m\u001b[34m#3\n"
     ]
    },
    {
     "name": "stderr",
     "output_type": "stream",
     "text": [
      "[I 2023-06-22 00:28:46,192] Trial 150 finished with value: 0.33090088365178055 and parameters: {'bootstrap_type': 'Bayesian', 'grow_policy': 'Lossguide', 'learning_rate': 0.045473323553315355, 'l2_leaf_reg': 21.10206392377626, 'depth': 4, 'random_strength': 88.28636615905663, 'min_data_in_leaf': 57, 'bagging_temperature': 38.72799230536526, 'max_leaves': 44}. Best is trial 127 with value: 0.31282061176940684.\n"
     ]
    },
    {
     "name": "stdout",
     "output_type": "stream",
     "text": [
      "Repeat \u001b[1m\u001b[34m#1\n",
      "Repeat \u001b[1m\u001b[34m#2\n",
      "Repeat \u001b[1m\u001b[34m#3\n"
     ]
    },
    {
     "name": "stderr",
     "output_type": "stream",
     "text": [
      "[I 2023-06-22 00:30:10,171] Trial 151 finished with value: 0.36451371077423317 and parameters: {'bootstrap_type': 'Bayesian', 'grow_policy': 'SymmetricTree', 'learning_rate': 0.03639067917212417, 'l2_leaf_reg': 13.513095775055845, 'depth': 4, 'random_strength': 71.42521823215723, 'min_data_in_leaf': 52, 'bagging_temperature': 34.62939723656719, 'boosting_type': 'Ordered'}. Best is trial 127 with value: 0.31282061176940684.\n"
     ]
    },
    {
     "name": "stdout",
     "output_type": "stream",
     "text": [
      "Repeat \u001b[1m\u001b[34m#1\n",
      "Repeat \u001b[1m\u001b[34m#2\n",
      "Repeat \u001b[1m\u001b[34m#3\n"
     ]
    },
    {
     "name": "stderr",
     "output_type": "stream",
     "text": [
      "[I 2023-06-22 00:30:34,488] Trial 152 finished with value: 0.3212509855743772 and parameters: {'bootstrap_type': 'Bayesian', 'grow_policy': 'Lossguide', 'learning_rate': 0.03027911889956852, 'l2_leaf_reg': 5.2978552793694655, 'depth': 4, 'random_strength': 73.19026490825723, 'min_data_in_leaf': 49, 'bagging_temperature': 41.63698040822281, 'max_leaves': 122}. Best is trial 127 with value: 0.31282061176940684.\n"
     ]
    },
    {
     "name": "stdout",
     "output_type": "stream",
     "text": [
      "Repeat \u001b[1m\u001b[34m#1\n",
      "Repeat \u001b[1m\u001b[34m#2\n",
      "Repeat \u001b[1m\u001b[34m#3\n"
     ]
    },
    {
     "name": "stderr",
     "output_type": "stream",
     "text": [
      "[I 2023-06-22 00:30:50,735] Trial 153 finished with value: 0.3425516175778469 and parameters: {'bootstrap_type': 'Bayesian', 'grow_policy': 'Lossguide', 'learning_rate': 0.031747370338860034, 'l2_leaf_reg': 0.03152916710403743, 'depth': 4, 'random_strength': 74.15727915371342, 'min_data_in_leaf': 48, 'bagging_temperature': 41.93735719007632, 'max_leaves': 122}. Best is trial 127 with value: 0.31282061176940684.\n"
     ]
    },
    {
     "name": "stdout",
     "output_type": "stream",
     "text": [
      "Repeat \u001b[1m\u001b[34m#1\n",
      "Repeat \u001b[1m\u001b[34m#2\n",
      "Repeat \u001b[1m\u001b[34m#3\n"
     ]
    },
    {
     "name": "stderr",
     "output_type": "stream",
     "text": [
      "[I 2023-06-22 00:31:07,416] Trial 154 finished with value: 0.32757763622821884 and parameters: {'bootstrap_type': 'Bayesian', 'grow_policy': 'Lossguide', 'learning_rate': 0.04299180342215445, 'l2_leaf_reg': 4.617163051156785, 'depth': 4, 'random_strength': 80.77824835225998, 'min_data_in_leaf': 53, 'bagging_temperature': 37.81983319339196, 'max_leaves': 68}. Best is trial 127 with value: 0.31282061176940684.\n"
     ]
    },
    {
     "name": "stdout",
     "output_type": "stream",
     "text": [
      "Repeat \u001b[1m\u001b[34m#1\n",
      "Repeat \u001b[1m\u001b[34m#2\n",
      "Repeat \u001b[1m\u001b[34m#3\n"
     ]
    },
    {
     "name": "stderr",
     "output_type": "stream",
     "text": [
      "[I 2023-06-22 00:31:16,183] Trial 155 finished with value: 0.3598596162904549 and parameters: {'bootstrap_type': 'No', 'grow_policy': 'Lossguide', 'learning_rate': 0.02809150104472002, 'l2_leaf_reg': 6.5752622071973725, 'depth': 4, 'random_strength': 78.05787475710679, 'min_data_in_leaf': 44, 'colsample_bylevel': 0.3574112508271773, 'max_leaves': 103}. Best is trial 127 with value: 0.31282061176940684.\n"
     ]
    },
    {
     "name": "stdout",
     "output_type": "stream",
     "text": [
      "Repeat \u001b[1m\u001b[34m#1\n",
      "Repeat \u001b[1m\u001b[34m#2\n",
      "Repeat \u001b[1m\u001b[34m#3\n"
     ]
    },
    {
     "name": "stderr",
     "output_type": "stream",
     "text": [
      "[I 2023-06-22 00:31:25,822] Trial 156 finished with value: 0.35996856875608946 and parameters: {'bootstrap_type': 'Bayesian', 'grow_policy': 'Lossguide', 'learning_rate': 0.057939784155089116, 'l2_leaf_reg': 0.007252449802999082, 'depth': 4, 'random_strength': 75.894328417724, 'min_data_in_leaf': 49, 'bagging_temperature': 41.263424424394884, 'max_leaves': 112}. Best is trial 127 with value: 0.31282061176940684.\n"
     ]
    },
    {
     "name": "stdout",
     "output_type": "stream",
     "text": [
      "Repeat \u001b[1m\u001b[34m#1\n",
      "Repeat \u001b[1m\u001b[34m#2\n",
      "Repeat \u001b[1m\u001b[34m#3\n"
     ]
    },
    {
     "name": "stderr",
     "output_type": "stream",
     "text": [
      "[I 2023-06-22 00:31:44,180] Trial 157 finished with value: 0.33154741475024974 and parameters: {'bootstrap_type': 'Bayesian', 'grow_policy': 'Lossguide', 'learning_rate': 0.03654683603143533, 'l2_leaf_reg': 2.5424745977779915, 'depth': 4, 'random_strength': 72.80431416158235, 'min_data_in_leaf': 41, 'bagging_temperature': 44.19670300975982, 'max_leaves': 123}. Best is trial 127 with value: 0.31282061176940684.\n"
     ]
    },
    {
     "name": "stdout",
     "output_type": "stream",
     "text": [
      "Repeat \u001b[1m\u001b[34m#1\n",
      "Repeat \u001b[1m\u001b[34m#2\n",
      "Repeat \u001b[1m\u001b[34m#3\n"
     ]
    },
    {
     "name": "stderr",
     "output_type": "stream",
     "text": [
      "[I 2023-06-22 00:32:18,305] Trial 158 finished with value: 0.3305490522393773 and parameters: {'bootstrap_type': 'Bayesian', 'grow_policy': 'Lossguide', 'learning_rate': 0.04799023284053452, 'l2_leaf_reg': 26.342567445655085, 'depth': 4, 'random_strength': 82.99793187716061, 'min_data_in_leaf': 13, 'bagging_temperature': 39.64462883789216, 'max_leaves': 94}. Best is trial 127 with value: 0.31282061176940684.\n"
     ]
    },
    {
     "name": "stdout",
     "output_type": "stream",
     "text": [
      "Repeat \u001b[1m\u001b[34m#1\n",
      "Repeat \u001b[1m\u001b[34m#2\n",
      "Repeat \u001b[1m\u001b[34m#3\n"
     ]
    },
    {
     "name": "stderr",
     "output_type": "stream",
     "text": [
      "[I 2023-06-22 00:32:46,577] Trial 159 finished with value: 0.31454974220360143 and parameters: {'bootstrap_type': 'Bayesian', 'grow_policy': 'Lossguide', 'learning_rate': 0.03192404462024163, 'l2_leaf_reg': 10.495246977614029, 'depth': 4, 'random_strength': 77.33727046711465, 'min_data_in_leaf': 37, 'bagging_temperature': 36.88288664805816, 'max_leaves': 114}. Best is trial 127 with value: 0.31282061176940684.\n"
     ]
    },
    {
     "name": "stdout",
     "output_type": "stream",
     "text": [
      "Repeat \u001b[1m\u001b[34m#1\n",
      "Repeat \u001b[1m\u001b[34m#2\n",
      "Repeat \u001b[1m\u001b[34m#3\n"
     ]
    },
    {
     "name": "stderr",
     "output_type": "stream",
     "text": [
      "[I 2023-06-22 00:32:56,160] Trial 160 finished with value: 0.3603453053281765 and parameters: {'bootstrap_type': 'MVS', 'grow_policy': 'Lossguide', 'learning_rate': 0.032922233638829526, 'l2_leaf_reg': 8.133685889987733, 'depth': 4, 'random_strength': 78.0108527583178, 'min_data_in_leaf': 37, 'subsample': 0.37910729729833637, 'colsample_bylevel': 0.9520757349417379, 'max_leaves': 109}. Best is trial 127 with value: 0.31282061176940684.\n"
     ]
    },
    {
     "name": "stdout",
     "output_type": "stream",
     "text": [
      "Repeat \u001b[1m\u001b[34m#1\n",
      "Repeat \u001b[1m\u001b[34m#2\n",
      "Repeat \u001b[1m\u001b[34m#3\n"
     ]
    },
    {
     "name": "stderr",
     "output_type": "stream",
     "text": [
      "[I 2023-06-22 00:33:24,739] Trial 161 finished with value: 0.3323801958736712 and parameters: {'bootstrap_type': 'Bayesian', 'grow_policy': 'Lossguide', 'learning_rate': 0.024965269489497274, 'l2_leaf_reg': 4.315493826781672, 'depth': 4, 'random_strength': 74.40069189274266, 'min_data_in_leaf': 31, 'bagging_temperature': 37.45656865918644, 'max_leaves': 115}. Best is trial 127 with value: 0.31282061176940684.\n"
     ]
    },
    {
     "name": "stdout",
     "output_type": "stream",
     "text": [
      "Repeat \u001b[1m\u001b[34m#1\n",
      "Repeat \u001b[1m\u001b[34m#2\n",
      "Repeat \u001b[1m\u001b[34m#3\n"
     ]
    },
    {
     "name": "stderr",
     "output_type": "stream",
     "text": [
      "[I 2023-06-22 00:33:53,595] Trial 162 finished with value: 0.3282369032642172 and parameters: {'bootstrap_type': 'Bayesian', 'grow_policy': 'Lossguide', 'learning_rate': 0.02927644498909722, 'l2_leaf_reg': 14.427952393883453, 'depth': 4, 'random_strength': 79.5051899218818, 'min_data_in_leaf': 38, 'bagging_temperature': 34.802086391370956, 'max_leaves': 102}. Best is trial 127 with value: 0.31282061176940684.\n"
     ]
    },
    {
     "name": "stdout",
     "output_type": "stream",
     "text": [
      "Repeat \u001b[1m\u001b[34m#1\n",
      "Repeat \u001b[1m\u001b[34m#2\n",
      "Repeat \u001b[1m\u001b[34m#3\n"
     ]
    },
    {
     "name": "stderr",
     "output_type": "stream",
     "text": [
      "[I 2023-06-22 00:34:16,007] Trial 163 finished with value: 0.3208396363740727 and parameters: {'bootstrap_type': 'Bayesian', 'grow_policy': 'Lossguide', 'learning_rate': 0.03950327875739914, 'l2_leaf_reg': 8.759490224101615, 'depth': 4, 'random_strength': 77.23892422320276, 'min_data_in_leaf': 33, 'bagging_temperature': 42.20743497532043, 'max_leaves': 120}. Best is trial 127 with value: 0.31282061176940684.\n"
     ]
    },
    {
     "name": "stdout",
     "output_type": "stream",
     "text": [
      "Repeat \u001b[1m\u001b[34m#1\n",
      "Repeat \u001b[1m\u001b[34m#2\n",
      "Repeat \u001b[1m\u001b[34m#3\n"
     ]
    },
    {
     "name": "stderr",
     "output_type": "stream",
     "text": [
      "[I 2023-06-22 00:34:36,035] Trial 164 finished with value: 0.3232569568221128 and parameters: {'bootstrap_type': 'Bayesian', 'grow_policy': 'Lossguide', 'learning_rate': 0.03854709223295348, 'l2_leaf_reg': 8.841492388551519, 'depth': 4, 'random_strength': 77.4094187165131, 'min_data_in_leaf': 34, 'bagging_temperature': 46.84700139633026, 'max_leaves': 120}. Best is trial 127 with value: 0.31282061176940684.\n"
     ]
    },
    {
     "name": "stdout",
     "output_type": "stream",
     "text": [
      "Repeat \u001b[1m\u001b[34m#1\n",
      "Repeat \u001b[1m\u001b[34m#2\n",
      "Repeat \u001b[1m\u001b[34m#3\n"
     ]
    },
    {
     "name": "stderr",
     "output_type": "stream",
     "text": [
      "[I 2023-06-22 00:35:03,378] Trial 165 finished with value: 0.3261935017931792 and parameters: {'bootstrap_type': 'Bayesian', 'grow_policy': 'Lossguide', 'learning_rate': 0.04281364156059092, 'l2_leaf_reg': 24.102157284501253, 'depth': 4, 'random_strength': 81.6207382751856, 'min_data_in_leaf': 32, 'bagging_temperature': 43.2297202413994, 'max_leaves': 114}. Best is trial 127 with value: 0.31282061176940684.\n"
     ]
    },
    {
     "name": "stdout",
     "output_type": "stream",
     "text": [
      "Repeat \u001b[1m\u001b[34m#1\n",
      "Repeat \u001b[1m\u001b[34m#2\n",
      "Repeat \u001b[1m\u001b[34m#3\n"
     ]
    },
    {
     "name": "stderr",
     "output_type": "stream",
     "text": [
      "[I 2023-06-22 00:35:26,523] Trial 166 finished with value: 0.32589600549878406 and parameters: {'bootstrap_type': 'Bayesian', 'grow_policy': 'Lossguide', 'learning_rate': 0.03718078707561119, 'l2_leaf_reg': 12.682591400653456, 'depth': 4, 'random_strength': 71.8107768384977, 'min_data_in_leaf': 39, 'bagging_temperature': 39.42641379071269, 'max_leaves': 111}. Best is trial 127 with value: 0.31282061176940684.\n"
     ]
    },
    {
     "name": "stdout",
     "output_type": "stream",
     "text": [
      "Repeat \u001b[1m\u001b[34m#1\n",
      "Repeat \u001b[1m\u001b[34m#2\n",
      "Repeat \u001b[1m\u001b[34m#3\n"
     ]
    },
    {
     "name": "stderr",
     "output_type": "stream",
     "text": [
      "[I 2023-06-22 00:35:43,500] Trial 167 finished with value: 0.3301328694506711 and parameters: {'bootstrap_type': 'Bayesian', 'grow_policy': 'Lossguide', 'learning_rate': 0.05085173025490701, 'l2_leaf_reg': 5.337219798285981, 'depth': 4, 'random_strength': 75.6745402086567, 'min_data_in_leaf': 35, 'bagging_temperature': 36.48091870594245, 'max_leaves': 124}. Best is trial 127 with value: 0.31282061176940684.\n"
     ]
    },
    {
     "name": "stdout",
     "output_type": "stream",
     "text": [
      "Repeat \u001b[1m\u001b[34m#1\n",
      "Repeat \u001b[1m\u001b[34m#2\n",
      "Repeat \u001b[1m\u001b[34m#3\n"
     ]
    },
    {
     "name": "stderr",
     "output_type": "stream",
     "text": [
      "[I 2023-06-22 00:36:18,771] Trial 168 finished with value: 0.32712961541041247 and parameters: {'bootstrap_type': 'Bayesian', 'grow_policy': 'Lossguide', 'learning_rate': 0.032345260288424375, 'l2_leaf_reg': 36.90627560128543, 'depth': 4, 'random_strength': 84.98787972092602, 'min_data_in_leaf': 42, 'bagging_temperature': 32.43551475698038, 'max_leaves': 99}. Best is trial 127 with value: 0.31282061176940684.\n"
     ]
    },
    {
     "name": "stdout",
     "output_type": "stream",
     "text": [
      "Repeat \u001b[1m\u001b[34m#1\n",
      "Repeat \u001b[1m\u001b[34m#2\n",
      "Repeat \u001b[1m\u001b[34m#3\n"
     ]
    },
    {
     "name": "stderr",
     "output_type": "stream",
     "text": [
      "[I 2023-06-22 00:36:46,212] Trial 169 finished with value: 0.3218796225571453 and parameters: {'bootstrap_type': 'Bayesian', 'grow_policy': 'Lossguide', 'learning_rate': 0.04063221241484683, 'l2_leaf_reg': 20.469635508194475, 'depth': 4, 'random_strength': 79.9713119097425, 'min_data_in_leaf': 37, 'bagging_temperature': 40.873407245828496, 'max_leaves': 106}. Best is trial 127 with value: 0.31282061176940684.\n"
     ]
    },
    {
     "name": "stdout",
     "output_type": "stream",
     "text": [
      "Repeat \u001b[1m\u001b[34m#1\n",
      "Repeat \u001b[1m\u001b[34m#2\n",
      "Repeat \u001b[1m\u001b[34m#3\n"
     ]
    },
    {
     "name": "stderr",
     "output_type": "stream",
     "text": [
      "[I 2023-06-22 00:37:13,789] Trial 170 finished with value: 0.3217662481796462 and parameters: {'bootstrap_type': 'Bayesian', 'grow_policy': 'Lossguide', 'learning_rate': 0.05561469189857195, 'l2_leaf_reg': 49.75700317085395, 'depth': 4, 'random_strength': 82.60868847142902, 'min_data_in_leaf': 37, 'bagging_temperature': 45.6351318517763, 'max_leaves': 109}. Best is trial 127 with value: 0.31282061176940684.\n"
     ]
    },
    {
     "name": "stdout",
     "output_type": "stream",
     "text": [
      "Repeat \u001b[1m\u001b[34m#1\n",
      "Repeat \u001b[1m\u001b[34m#2\n",
      "Repeat \u001b[1m\u001b[34m#3\n"
     ]
    },
    {
     "name": "stderr",
     "output_type": "stream",
     "text": [
      "[I 2023-06-22 00:37:36,190] Trial 171 finished with value: 0.33066793091824814 and parameters: {'bootstrap_type': 'Bayesian', 'grow_policy': 'Lossguide', 'learning_rate': 0.05684963695434917, 'l2_leaf_reg': 38.778515607601, 'depth': 4, 'random_strength': 82.33395637736487, 'min_data_in_leaf': 37, 'bagging_temperature': 45.115386551860944, 'max_leaves': 108}. Best is trial 127 with value: 0.31282061176940684.\n"
     ]
    },
    {
     "name": "stdout",
     "output_type": "stream",
     "text": [
      "Repeat \u001b[1m\u001b[34m#1\n",
      "Repeat \u001b[1m\u001b[34m#2\n",
      "Repeat \u001b[1m\u001b[34m#3\n"
     ]
    },
    {
     "name": "stderr",
     "output_type": "stream",
     "text": [
      "[I 2023-06-22 00:37:53,390] Trial 172 finished with value: 0.3254581644155881 and parameters: {'bootstrap_type': 'Bayesian', 'grow_policy': 'Lossguide', 'learning_rate': 0.06604016311953845, 'l2_leaf_reg': 11.241887591694292, 'depth': 4, 'random_strength': 85.92022951335133, 'min_data_in_leaf': 40, 'bagging_temperature': 42.042588479615134, 'max_leaves': 117}. Best is trial 127 with value: 0.31282061176940684.\n"
     ]
    },
    {
     "name": "stdout",
     "output_type": "stream",
     "text": [
      "Repeat \u001b[1m\u001b[34m#1\n",
      "Repeat \u001b[1m\u001b[34m#2\n",
      "Repeat \u001b[1m\u001b[34m#3\n"
     ]
    },
    {
     "name": "stderr",
     "output_type": "stream",
     "text": [
      "[I 2023-06-22 00:38:18,199] Trial 173 finished with value: 0.3323578222394014 and parameters: {'bootstrap_type': 'Bayesian', 'grow_policy': 'Lossguide', 'learning_rate': 0.07443645085703203, 'l2_leaf_reg': 47.88646173362205, 'depth': 4, 'random_strength': 80.02526824931725, 'min_data_in_leaf': 36, 'bagging_temperature': 38.88940511324877, 'max_leaves': 107}. Best is trial 127 with value: 0.31282061176940684.\n"
     ]
    },
    {
     "name": "stdout",
     "output_type": "stream",
     "text": [
      "Repeat \u001b[1m\u001b[34m#1\n",
      "Repeat \u001b[1m\u001b[34m#2\n",
      "Repeat \u001b[1m\u001b[34m#3\n"
     ]
    },
    {
     "name": "stderr",
     "output_type": "stream",
     "text": [
      "[I 2023-06-22 00:38:42,961] Trial 174 finished with value: 0.36421680230815207 and parameters: {'bootstrap_type': 'Bayesian', 'grow_policy': 'Lossguide', 'learning_rate': 0.047012049801758285, 'l2_leaf_reg': 96.07636151479682, 'depth': 4, 'random_strength': 77.4472160436286, 'min_data_in_leaf': 46, 'bagging_temperature': 49.47641326118364, 'max_leaves': 126}. Best is trial 127 with value: 0.31282061176940684.\n"
     ]
    },
    {
     "name": "stdout",
     "output_type": "stream",
     "text": [
      "Repeat \u001b[1m\u001b[34m#1\n",
      "Repeat \u001b[1m\u001b[34m#2\n",
      "Repeat \u001b[1m\u001b[34m#3\n"
     ]
    },
    {
     "name": "stderr",
     "output_type": "stream",
     "text": [
      "[I 2023-06-22 00:39:03,346] Trial 175 finished with value: 0.320467633396551 and parameters: {'bootstrap_type': 'Bayesian', 'grow_policy': 'Lossguide', 'learning_rate': 0.06264272842817556, 'l2_leaf_reg': 23.176451411381155, 'depth': 4, 'random_strength': 83.01925418127936, 'min_data_in_leaf': 43, 'bagging_temperature': 43.82214354615579, 'max_leaves': 115}. Best is trial 127 with value: 0.31282061176940684.\n"
     ]
    },
    {
     "name": "stdout",
     "output_type": "stream",
     "text": [
      "Repeat \u001b[1m\u001b[34m#1\n",
      "Repeat \u001b[1m\u001b[34m#2\n",
      "Repeat \u001b[1m\u001b[34m#3\n"
     ]
    },
    {
     "name": "stderr",
     "output_type": "stream",
     "text": [
      "[I 2023-06-22 00:39:27,316] Trial 176 finished with value: 0.3263181012287128 and parameters: {'bootstrap_type': 'Bayesian', 'grow_policy': 'Lossguide', 'learning_rate': 0.061566642021232035, 'l2_leaf_reg': 59.840740405551685, 'depth': 4, 'random_strength': 88.18920944067857, 'min_data_in_leaf': 43, 'bagging_temperature': 46.89338373242936, 'max_leaves': 118}. Best is trial 127 with value: 0.31282061176940684.\n"
     ]
    },
    {
     "name": "stdout",
     "output_type": "stream",
     "text": [
      "Repeat \u001b[1m\u001b[34m#1\n",
      "Repeat \u001b[1m\u001b[34m#2\n",
      "Repeat \u001b[1m\u001b[34m#3\n"
     ]
    },
    {
     "name": "stderr",
     "output_type": "stream",
     "text": [
      "[I 2023-06-22 00:39:43,121] Trial 177 finished with value: 0.3362275387444407 and parameters: {'bootstrap_type': 'Bayesian', 'grow_policy': 'Lossguide', 'learning_rate': 0.05280543570854629, 'l2_leaf_reg': 6.243289167398214, 'depth': 4, 'random_strength': 90.94426835319581, 'min_data_in_leaf': 40, 'bagging_temperature': 43.65100440504352, 'max_leaves': 113}. Best is trial 127 with value: 0.31282061176940684.\n"
     ]
    },
    {
     "name": "stdout",
     "output_type": "stream",
     "text": [
      "Repeat \u001b[1m\u001b[34m#1\n",
      "Repeat \u001b[1m\u001b[34m#2\n",
      "Repeat \u001b[1m\u001b[34m#3\n"
     ]
    },
    {
     "name": "stderr",
     "output_type": "stream",
     "text": [
      "[I 2023-06-22 00:39:53,272] Trial 178 finished with value: 0.3410619197354546 and parameters: {'bootstrap_type': 'Bayesian', 'grow_policy': 'SymmetricTree', 'learning_rate': 0.06850780551958696, 'l2_leaf_reg': 3.652979396542802, 'depth': 4, 'random_strength': 83.68286666126293, 'min_data_in_leaf': 46, 'bagging_temperature': 36.265828914732964, 'boosting_type': 'Plain'}. Best is trial 127 with value: 0.31282061176940684.\n"
     ]
    },
    {
     "name": "stdout",
     "output_type": "stream",
     "text": [
      "Repeat \u001b[1m\u001b[34m#1\n",
      "Repeat \u001b[1m\u001b[34m#2\n",
      "Repeat \u001b[1m\u001b[34m#3\n"
     ]
    },
    {
     "name": "stderr",
     "output_type": "stream",
     "text": [
      "[I 2023-06-22 00:40:28,535] Trial 179 finished with value: 0.33798074883174234 and parameters: {'bootstrap_type': 'Bayesian', 'grow_policy': 'Lossguide', 'learning_rate': 0.08894911055852842, 'l2_leaf_reg': 28.490376793586304, 'depth': 8, 'random_strength': 82.24930366559585, 'min_data_in_leaf': 44, 'bagging_temperature': 38.58970162122052, 'max_leaves': 120}. Best is trial 127 with value: 0.31282061176940684.\n"
     ]
    },
    {
     "name": "stdout",
     "output_type": "stream",
     "text": [
      "Repeat \u001b[1m\u001b[34m#1\n",
      "Repeat \u001b[1m\u001b[34m#2\n",
      "Repeat \u001b[1m\u001b[34m#3\n"
     ]
    },
    {
     "name": "stderr",
     "output_type": "stream",
     "text": [
      "[I 2023-06-22 00:40:39,191] Trial 180 finished with value: 0.3668999428876112 and parameters: {'bootstrap_type': 'Bernoulli', 'grow_policy': 'Lossguide', 'learning_rate': 0.026739976382547836, 'l2_leaf_reg': 16.265163575602692, 'depth': 4, 'random_strength': 48.26681978147087, 'min_data_in_leaf': 54, 'subsample': 0.47717275218853183, 'colsample_bylevel': 0.8000439470816698, 'max_leaves': 115}. Best is trial 127 with value: 0.31282061176940684.\n"
     ]
    },
    {
     "name": "stdout",
     "output_type": "stream",
     "text": [
      "Repeat \u001b[1m\u001b[34m#1\n",
      "Repeat \u001b[1m\u001b[34m#2\n",
      "Repeat \u001b[1m\u001b[34m#3\n"
     ]
    },
    {
     "name": "stderr",
     "output_type": "stream",
     "text": [
      "[I 2023-06-22 00:41:06,957] Trial 181 finished with value: 0.3222133886508635 and parameters: {'bootstrap_type': 'Bayesian', 'grow_policy': 'Lossguide', 'learning_rate': 0.03976391277079069, 'l2_leaf_reg': 21.696522059046444, 'depth': 4, 'random_strength': 79.90116920204935, 'min_data_in_leaf': 37, 'bagging_temperature': 42.68556642653075, 'max_leaves': 109}. Best is trial 127 with value: 0.31282061176940684.\n"
     ]
    },
    {
     "name": "stdout",
     "output_type": "stream",
     "text": [
      "Repeat \u001b[1m\u001b[34m#1\n",
      "Repeat \u001b[1m\u001b[34m#2\n",
      "Repeat \u001b[1m\u001b[34m#3\n"
     ]
    },
    {
     "name": "stderr",
     "output_type": "stream",
     "text": [
      "[I 2023-06-22 00:41:29,438] Trial 182 finished with value: 0.32436496471797055 and parameters: {'bootstrap_type': 'Bayesian', 'grow_policy': 'Lossguide', 'learning_rate': 0.034282618554336, 'l2_leaf_reg': 10.475716999043755, 'depth': 4, 'random_strength': 86.38378643970243, 'min_data_in_leaf': 39, 'bagging_temperature': 40.41101234586012, 'max_leaves': 97}. Best is trial 127 with value: 0.31282061176940684.\n"
     ]
    },
    {
     "name": "stdout",
     "output_type": "stream",
     "text": [
      "Repeat \u001b[1m\u001b[34m#1\n",
      "Repeat \u001b[1m\u001b[34m#2\n",
      "Repeat \u001b[1m\u001b[34m#3\n"
     ]
    },
    {
     "name": "stderr",
     "output_type": "stream",
     "text": [
      "[I 2023-06-22 00:41:56,864] Trial 183 finished with value: 0.3338039377453925 and parameters: {'bootstrap_type': 'Bayesian', 'grow_policy': 'Lossguide', 'learning_rate': 0.045422989488949655, 'l2_leaf_reg': 34.94919392029438, 'depth': 4, 'random_strength': 44.39013456365913, 'min_data_in_leaf': 41, 'bagging_temperature': 44.80641239743094, 'max_leaves': 104}. Best is trial 127 with value: 0.31282061176940684.\n"
     ]
    },
    {
     "name": "stdout",
     "output_type": "stream",
     "text": [
      "Repeat \u001b[1m\u001b[34m#1\n",
      "Repeat \u001b[1m\u001b[34m#2\n",
      "Repeat \u001b[1m\u001b[34m#3\n"
     ]
    },
    {
     "name": "stderr",
     "output_type": "stream",
     "text": [
      "[I 2023-06-22 00:42:26,378] Trial 184 finished with value: 0.32436133333763095 and parameters: {'bootstrap_type': 'Bayesian', 'grow_policy': 'Lossguide', 'learning_rate': 0.05661638743730223, 'l2_leaf_reg': 57.38180522039556, 'depth': 4, 'random_strength': 78.71609393963352, 'min_data_in_leaf': 32, 'bagging_temperature': 41.01488393621892, 'max_leaves': 106}. Best is trial 127 with value: 0.31282061176940684.\n"
     ]
    },
    {
     "name": "stdout",
     "output_type": "stream",
     "text": [
      "Repeat \u001b[1m\u001b[34m#1\n",
      "Repeat \u001b[1m\u001b[34m#2\n",
      "Repeat \u001b[1m\u001b[34m#3\n"
     ]
    },
    {
     "name": "stderr",
     "output_type": "stream",
     "text": [
      "[I 2023-06-22 00:42:57,846] Trial 185 finished with value: 0.32683786875954773 and parameters: {'bootstrap_type': 'Bayesian', 'grow_policy': 'Lossguide', 'learning_rate': 0.030477464470894416, 'l2_leaf_reg': 17.317273851066286, 'depth': 4, 'random_strength': 80.69082440694025, 'min_data_in_leaf': 35, 'bagging_temperature': 34.10126123295542, 'max_leaves': 19}. Best is trial 127 with value: 0.31282061176940684.\n"
     ]
    },
    {
     "name": "stdout",
     "output_type": "stream",
     "text": [
      "Repeat \u001b[1m\u001b[34m#1\n",
      "Repeat \u001b[1m\u001b[34m#2\n",
      "Repeat \u001b[1m\u001b[34m#3\n"
     ]
    },
    {
     "name": "stderr",
     "output_type": "stream",
     "text": [
      "[I 2023-06-22 00:43:20,833] Trial 186 finished with value: 0.32266317887655815 and parameters: {'bootstrap_type': 'Bayesian', 'grow_policy': 'Lossguide', 'learning_rate': 0.041212445224530325, 'l2_leaf_reg': 8.664396199575124, 'depth': 4, 'random_strength': 76.79414264761509, 'min_data_in_leaf': 38, 'bagging_temperature': 37.627049537485966, 'max_leaves': 53}. Best is trial 127 with value: 0.31282061176940684.\n"
     ]
    },
    {
     "name": "stdout",
     "output_type": "stream",
     "text": [
      "Repeat \u001b[1m\u001b[34m#1\n",
      "Repeat \u001b[1m\u001b[34m#2\n",
      "Repeat \u001b[1m\u001b[34m#3\n"
     ]
    },
    {
     "name": "stderr",
     "output_type": "stream",
     "text": [
      "[I 2023-06-22 00:43:28,608] Trial 187 finished with value: 0.3785132987665036 and parameters: {'bootstrap_type': 'No', 'grow_policy': 'Lossguide', 'learning_rate': 0.04914292929123478, 'l2_leaf_reg': 1.5279060960566635, 'depth': 7, 'random_strength': 69.72962631280578, 'min_data_in_leaf': 51, 'colsample_bylevel': 0.4940197699497252, 'max_leaves': 41}. Best is trial 127 with value: 0.31282061176940684.\n"
     ]
    },
    {
     "name": "stdout",
     "output_type": "stream",
     "text": [
      "Repeat \u001b[1m\u001b[34m#1\n",
      "Repeat \u001b[1m\u001b[34m#2\n",
      "Repeat \u001b[1m\u001b[34m#3\n"
     ]
    },
    {
     "name": "stderr",
     "output_type": "stream",
     "text": [
      "[I 2023-06-22 00:43:49,008] Trial 188 finished with value: 0.3236536364459207 and parameters: {'bootstrap_type': 'Bayesian', 'grow_policy': 'Lossguide', 'learning_rate': 0.03629490926708967, 'l2_leaf_reg': 5.546552917866626, 'depth': 4, 'random_strength': 83.26838681628364, 'min_data_in_leaf': 42, 'bagging_temperature': 49.033540465729146, 'max_leaves': 66}. Best is trial 127 with value: 0.31282061176940684.\n"
     ]
    },
    {
     "name": "stdout",
     "output_type": "stream",
     "text": [
      "Repeat \u001b[1m\u001b[34m#1\n",
      "Repeat \u001b[1m\u001b[34m#2\n",
      "Repeat \u001b[1m\u001b[34m#3\n"
     ]
    },
    {
     "name": "stderr",
     "output_type": "stream",
     "text": [
      "[I 2023-06-22 00:44:44,519] Trial 189 finished with value: 0.3565084429213128 and parameters: {'bootstrap_type': 'Bayesian', 'grow_policy': 'Lossguide', 'learning_rate': 0.060909115262650346, 'l2_leaf_reg': 25.5795842575646, 'depth': 10, 'random_strength': 72.40447615772341, 'min_data_in_leaf': 29, 'bagging_temperature': 45.87351064622584, 'max_leaves': 33}. Best is trial 127 with value: 0.31282061176940684.\n"
     ]
    },
    {
     "name": "stdout",
     "output_type": "stream",
     "text": [
      "Repeat \u001b[1m\u001b[34m#1\n",
      "Repeat \u001b[1m\u001b[34m#2\n",
      "Repeat \u001b[1m\u001b[34m#3\n"
     ]
    },
    {
     "name": "stderr",
     "output_type": "stream",
     "text": [
      "[I 2023-06-22 00:45:13,842] Trial 190 finished with value: 0.3240176036773692 and parameters: {'bootstrap_type': 'Bayesian', 'grow_policy': 'Lossguide', 'learning_rate': 0.028965079001136575, 'l2_leaf_reg': 13.452901633581934, 'depth': 9, 'random_strength': 74.97316137454901, 'min_data_in_leaf': 84, 'bagging_temperature': 41.00387844244446, 'max_leaves': 111}. Best is trial 127 with value: 0.31282061176940684.\n"
     ]
    },
    {
     "name": "stdout",
     "output_type": "stream",
     "text": [
      "Repeat \u001b[1m\u001b[34m#1\n",
      "Repeat \u001b[1m\u001b[34m#2\n",
      "Repeat \u001b[1m\u001b[34m#3\n"
     ]
    },
    {
     "name": "stderr",
     "output_type": "stream",
     "text": [
      "[I 2023-06-22 00:45:38,946] Trial 191 finished with value: 0.3264764043668021 and parameters: {'bootstrap_type': 'Bayesian', 'grow_policy': 'Lossguide', 'learning_rate': 0.04223449995340717, 'l2_leaf_reg': 19.12577714040949, 'depth': 4, 'random_strength': 73.899400435936, 'min_data_in_leaf': 33, 'bagging_temperature': 41.92729112567852, 'max_leaves': 91}. Best is trial 127 with value: 0.31282061176940684.\n"
     ]
    },
    {
     "name": "stdout",
     "output_type": "stream",
     "text": [
      "Repeat \u001b[1m\u001b[34m#1\n",
      "Repeat \u001b[1m\u001b[34m#2\n",
      "Repeat \u001b[1m\u001b[34m#3\n"
     ]
    },
    {
     "name": "stderr",
     "output_type": "stream",
     "text": [
      "[I 2023-06-22 00:46:11,421] Trial 192 finished with value: 0.3249493278736345 and parameters: {'bootstrap_type': 'Bayesian', 'grow_policy': 'Lossguide', 'learning_rate': 0.043711947489964265, 'l2_leaf_reg': 38.316469843879574, 'depth': 4, 'random_strength': 76.79660893678334, 'min_data_in_leaf': 33, 'bagging_temperature': 39.50591120263473, 'max_leaves': 101}. Best is trial 127 with value: 0.31282061176940684.\n"
     ]
    },
    {
     "name": "stdout",
     "output_type": "stream",
     "text": [
      "Repeat \u001b[1m\u001b[34m#1\n",
      "Repeat \u001b[1m\u001b[34m#2\n",
      "Repeat \u001b[1m\u001b[34m#3\n"
     ]
    },
    {
     "name": "stderr",
     "output_type": "stream",
     "text": [
      "[I 2023-06-22 00:46:35,751] Trial 193 finished with value: 0.3270625651217081 and parameters: {'bootstrap_type': 'Bayesian', 'grow_policy': 'Lossguide', 'learning_rate': 0.03419432737143277, 'l2_leaf_reg': 7.55803492163697, 'depth': 4, 'random_strength': 79.01262882949658, 'min_data_in_leaf': 36, 'bagging_temperature': 43.75559398787752, 'max_leaves': 105}. Best is trial 127 with value: 0.31282061176940684.\n"
     ]
    },
    {
     "name": "stdout",
     "output_type": "stream",
     "text": [
      "Repeat \u001b[1m\u001b[34m#1\n",
      "Repeat \u001b[1m\u001b[34m#2\n",
      "Repeat \u001b[1m\u001b[34m#3\n"
     ]
    },
    {
     "name": "stderr",
     "output_type": "stream",
     "text": [
      "[I 2023-06-22 00:47:07,032] Trial 194 finished with value: 0.329273810399376 and parameters: {'bootstrap_type': 'Bayesian', 'grow_policy': 'Lossguide', 'learning_rate': 0.052733921982064696, 'l2_leaf_reg': 66.18000756073897, 'depth': 4, 'random_strength': 68.37988335453512, 'min_data_in_leaf': 47, 'bagging_temperature': 37.35206045245191, 'max_leaves': 116}. Best is trial 127 with value: 0.31282061176940684.\n"
     ]
    },
    {
     "name": "stdout",
     "output_type": "stream",
     "text": [
      "Repeat \u001b[1m\u001b[34m#1\n",
      "Repeat \u001b[1m\u001b[34m#2\n",
      "Repeat \u001b[1m\u001b[34m#3\n"
     ]
    },
    {
     "name": "stderr",
     "output_type": "stream",
     "text": [
      "[I 2023-06-22 00:47:18,404] Trial 195 finished with value: 0.33186043530616516 and parameters: {'bootstrap_type': 'Bayesian', 'grow_policy': 'Lossguide', 'learning_rate': 0.07330599588098795, 'l2_leaf_reg': 3.571800972934358, 'depth': 4, 'random_strength': 81.05335509699754, 'min_data_in_leaf': 34, 'bagging_temperature': 41.83749362525849, 'max_leaves': 126}. Best is trial 127 with value: 0.31282061176940684.\n"
     ]
    },
    {
     "name": "stdout",
     "output_type": "stream",
     "text": [
      "Repeat \u001b[1m\u001b[34m#1\n",
      "Repeat \u001b[1m\u001b[34m#2\n",
      "Repeat \u001b[1m\u001b[34m#3\n"
     ]
    },
    {
     "name": "stderr",
     "output_type": "stream",
     "text": [
      "[I 2023-06-22 00:47:43,382] Trial 196 finished with value: 0.32591887500705896 and parameters: {'bootstrap_type': 'Bayesian', 'grow_policy': 'Lossguide', 'learning_rate': 0.03857121440680067, 'l2_leaf_reg': 22.294233747540982, 'depth': 4, 'random_strength': 75.6363648620349, 'min_data_in_leaf': 38, 'bagging_temperature': 34.9132024568818, 'max_leaves': 100}. Best is trial 127 with value: 0.31282061176940684.\n"
     ]
    },
    {
     "name": "stdout",
     "output_type": "stream",
     "text": [
      "Repeat \u001b[1m\u001b[34m#1\n",
      "Repeat \u001b[1m\u001b[34m#2\n",
      "Repeat \u001b[1m\u001b[34m#3\n"
     ]
    },
    {
     "name": "stderr",
     "output_type": "stream",
     "text": [
      "[I 2023-06-22 00:48:16,644] Trial 197 finished with value: 0.33242838016681336 and parameters: {'bootstrap_type': 'Bayesian', 'grow_policy': 'Lossguide', 'learning_rate': 0.024655898445683264, 'l2_leaf_reg': 11.723616210005066, 'depth': 4, 'random_strength': 84.31713846669766, 'min_data_in_leaf': 31, 'bagging_temperature': 39.72961670363954, 'max_leaves': 120}. Best is trial 127 with value: 0.31282061176940684.\n"
     ]
    },
    {
     "name": "stdout",
     "output_type": "stream",
     "text": [
      "Repeat \u001b[1m\u001b[34m#1\n",
      "Repeat \u001b[1m\u001b[34m#2\n",
      "Repeat \u001b[1m\u001b[34m#3\n"
     ]
    },
    {
     "name": "stderr",
     "output_type": "stream",
     "text": [
      "[I 2023-06-22 00:48:21,500] Trial 198 finished with value: 0.3950248670832473 and parameters: {'bootstrap_type': 'MVS', 'grow_policy': 'SymmetricTree', 'learning_rate': 0.04743316684950797, 'l2_leaf_reg': 0.0683280375451676, 'depth': 4, 'random_strength': 71.5319132947076, 'min_data_in_leaf': 50, 'subsample': 0.5345831494878527, 'colsample_bylevel': 0.5719186770565641, 'boosting_type': 'Plain'}. Best is trial 127 with value: 0.31282061176940684.\n"
     ]
    },
    {
     "name": "stdout",
     "output_type": "stream",
     "text": [
      "Repeat \u001b[1m\u001b[34m#1\n",
      "Repeat \u001b[1m\u001b[34m#2\n",
      "Repeat \u001b[1m\u001b[34m#3\n"
     ]
    },
    {
     "name": "stderr",
     "output_type": "stream",
     "text": [
      "[I 2023-06-22 00:48:45,767] Trial 199 finished with value: 0.3212758485055338 and parameters: {'bootstrap_type': 'Bayesian', 'grow_policy': 'Lossguide', 'learning_rate': 0.032602256145736384, 'l2_leaf_reg': 5.990751325731438, 'depth': 4, 'random_strength': 59.18296079294705, 'min_data_in_leaf': 35, 'bagging_temperature': 36.726061961482316, 'max_leaves': 110}. Best is trial 127 with value: 0.31282061176940684.\n"
     ]
    },
    {
     "name": "stdout",
     "output_type": "stream",
     "text": [
      "Repeat \u001b[1m\u001b[34m#1\n",
      "Repeat \u001b[1m\u001b[34m#2\n",
      "Repeat \u001b[1m\u001b[34m#3\n"
     ]
    },
    {
     "name": "stderr",
     "output_type": "stream",
     "text": [
      "[I 2023-06-22 00:49:09,551] Trial 200 finished with value: 0.3260768903591314 and parameters: {'bootstrap_type': 'Bayesian', 'grow_policy': 'Lossguide', 'learning_rate': 0.02745249545615524, 'l2_leaf_reg': 1.8960721145512702, 'depth': 4, 'random_strength': 70.20195953473771, 'min_data_in_leaf': 40, 'bagging_temperature': 36.02045801894153, 'max_leaves': 113}. Best is trial 127 with value: 0.31282061176940684.\n"
     ]
    },
    {
     "name": "stdout",
     "output_type": "stream",
     "text": [
      "Repeat \u001b[1m\u001b[34m#1\n",
      "Repeat \u001b[1m\u001b[34m#2\n",
      "Repeat \u001b[1m\u001b[34m#3\n"
     ]
    },
    {
     "name": "stderr",
     "output_type": "stream",
     "text": [
      "[I 2023-06-22 00:49:33,130] Trial 201 finished with value: 0.323473657454012 and parameters: {'bootstrap_type': 'Bayesian', 'grow_policy': 'Lossguide', 'learning_rate': 0.031216642301820575, 'l2_leaf_reg': 5.472384972298901, 'depth': 4, 'random_strength': 54.91779462419563, 'min_data_in_leaf': 35, 'bagging_temperature': 31.629705798171294, 'max_leaves': 109}. Best is trial 127 with value: 0.31282061176940684.\n"
     ]
    },
    {
     "name": "stdout",
     "output_type": "stream",
     "text": [
      "Repeat \u001b[1m\u001b[34m#1\n",
      "Repeat \u001b[1m\u001b[34m#2\n",
      "Repeat \u001b[1m\u001b[34m#3\n"
     ]
    },
    {
     "name": "stderr",
     "output_type": "stream",
     "text": [
      "[I 2023-06-22 00:49:52,090] Trial 202 finished with value: 0.31961084872655193 and parameters: {'bootstrap_type': 'Bayesian', 'grow_policy': 'Lossguide', 'learning_rate': 0.03972126663177419, 'l2_leaf_reg': 3.1727457649122734, 'depth': 4, 'random_strength': 51.54968840281903, 'min_data_in_leaf': 37, 'bagging_temperature': 38.22801330962531, 'max_leaves': 61}. Best is trial 127 with value: 0.31282061176940684.\n"
     ]
    },
    {
     "name": "stdout",
     "output_type": "stream",
     "text": [
      "Repeat \u001b[1m\u001b[34m#1\n",
      "Repeat \u001b[1m\u001b[34m#2\n",
      "Repeat \u001b[1m\u001b[34m#3\n"
     ]
    },
    {
     "name": "stderr",
     "output_type": "stream",
     "text": [
      "[I 2023-06-22 00:50:12,761] Trial 203 finished with value: 0.325332274249263 and parameters: {'bootstrap_type': 'Bayesian', 'grow_policy': 'Lossguide', 'learning_rate': 0.03533945537934938, 'l2_leaf_reg': 3.390552392510849, 'depth': 4, 'random_strength': 56.61308532056196, 'min_data_in_leaf': 37, 'bagging_temperature': 36.343760055277585, 'max_leaves': 49}. Best is trial 127 with value: 0.31282061176940684.\n"
     ]
    },
    {
     "name": "stdout",
     "output_type": "stream",
     "text": [
      "Repeat \u001b[1m\u001b[34m#1\n",
      "Repeat \u001b[1m\u001b[34m#2\n",
      "Repeat \u001b[1m\u001b[34m#3\n"
     ]
    },
    {
     "name": "stderr",
     "output_type": "stream",
     "text": [
      "[I 2023-06-22 00:50:33,267] Trial 204 finished with value: 0.3316686435308137 and parameters: {'bootstrap_type': 'Bayesian', 'grow_policy': 'Lossguide', 'learning_rate': 0.031017257637151397, 'l2_leaf_reg': 1.2228040381918137, 'depth': 4, 'random_strength': 51.121984665829764, 'min_data_in_leaf': 43, 'bagging_temperature': 38.253997468737474, 'max_leaves': 61}. Best is trial 127 with value: 0.31282061176940684.\n"
     ]
    },
    {
     "name": "stdout",
     "output_type": "stream",
     "text": [
      "Repeat \u001b[1m\u001b[34m#1\n",
      "Repeat \u001b[1m\u001b[34m#2\n",
      "Repeat \u001b[1m\u001b[34m#3\n"
     ]
    },
    {
     "name": "stderr",
     "output_type": "stream",
     "text": [
      "[I 2023-06-22 00:50:52,044] Trial 205 finished with value: 0.32763056820383635 and parameters: {'bootstrap_type': 'Bayesian', 'grow_policy': 'Lossguide', 'learning_rate': 0.03720782866901609, 'l2_leaf_reg': 2.6659959334933787, 'depth': 4, 'random_strength': 53.38744906591338, 'min_data_in_leaf': 38, 'bagging_temperature': 33.92829151975608, 'max_leaves': 65}. Best is trial 127 with value: 0.31282061176940684.\n"
     ]
    },
    {
     "name": "stdout",
     "output_type": "stream",
     "text": [
      "Repeat \u001b[1m\u001b[34m#1\n",
      "Repeat \u001b[1m\u001b[34m#2\n",
      "Repeat \u001b[1m\u001b[34m#3\n"
     ]
    },
    {
     "name": "stderr",
     "output_type": "stream",
     "text": [
      "[I 2023-06-22 00:51:11,289] Trial 206 finished with value: 0.32501666554483766 and parameters: {'bootstrap_type': 'Bayesian', 'grow_policy': 'Lossguide', 'learning_rate': 0.04259980757537233, 'l2_leaf_reg': 7.789430861302266, 'depth': 4, 'random_strength': 78.63732703411401, 'min_data_in_leaf': 48, 'bagging_temperature': 39.55163553343822, 'max_leaves': 121}. Best is trial 127 with value: 0.31282061176940684.\n"
     ]
    },
    {
     "name": "stdout",
     "output_type": "stream",
     "text": [
      "Repeat \u001b[1m\u001b[34m#1\n",
      "Repeat \u001b[1m\u001b[34m#2\n",
      "Repeat \u001b[1m\u001b[34m#3\n"
     ]
    },
    {
     "name": "stderr",
     "output_type": "stream",
     "text": [
      "[I 2023-06-22 00:51:57,945] Trial 207 finished with value: 0.5092000958196486 and parameters: {'bootstrap_type': 'Bayesian', 'grow_policy': 'Lossguide', 'learning_rate': 0.001713370938500623, 'l2_leaf_reg': 4.999461019164002, 'depth': 4, 'random_strength': 49.724707325544806, 'min_data_in_leaf': 35, 'bagging_temperature': 43.51215360944543, 'max_leaves': 72}. Best is trial 127 with value: 0.31282061176940684.\n"
     ]
    },
    {
     "name": "stdout",
     "output_type": "stream",
     "text": [
      "Repeat \u001b[1m\u001b[34m#1\n",
      "Repeat \u001b[1m\u001b[34m#2\n",
      "Repeat \u001b[1m\u001b[34m#3\n"
     ]
    },
    {
     "name": "stderr",
     "output_type": "stream",
     "text": [
      "[I 2023-06-22 00:52:15,795] Trial 208 finished with value: 0.3371064913073772 and parameters: {'bootstrap_type': 'Bayesian', 'grow_policy': 'Lossguide', 'learning_rate': 0.032963321307594794, 'l2_leaf_reg': 0.8087512794958144, 'depth': 4, 'random_strength': 59.095860111079716, 'min_data_in_leaf': 45, 'bagging_temperature': 37.93623697490372, 'max_leaves': 55}. Best is trial 127 with value: 0.31282061176940684.\n"
     ]
    },
    {
     "name": "stdout",
     "output_type": "stream",
     "text": [
      "Repeat \u001b[1m\u001b[34m#1\n",
      "Repeat \u001b[1m\u001b[34m#2\n",
      "Repeat \u001b[1m\u001b[34m#3\n"
     ]
    },
    {
     "name": "stderr",
     "output_type": "stream",
     "text": [
      "[I 2023-06-22 00:52:26,729] Trial 209 finished with value: 0.34997582148425566 and parameters: {'bootstrap_type': 'Bayesian', 'grow_policy': 'Lossguide', 'learning_rate': 0.05278218055371455, 'l2_leaf_reg': 0.1583392500437698, 'depth': 4, 'random_strength': 65.49598739887514, 'min_data_in_leaf': 39, 'bagging_temperature': 30.06489903375462, 'max_leaves': 44}. Best is trial 127 with value: 0.31282061176940684.\n"
     ]
    },
    {
     "name": "stdout",
     "output_type": "stream",
     "text": [
      "Repeat \u001b[1m\u001b[34m#1\n",
      "Repeat \u001b[1m\u001b[34m#2\n",
      "Repeat \u001b[1m\u001b[34m#3\n"
     ]
    },
    {
     "name": "stderr",
     "output_type": "stream",
     "text": [
      "[I 2023-06-22 00:52:38,437] Trial 210 finished with value: 0.32417820747673315 and parameters: {'bootstrap_type': 'Bayesian', 'grow_policy': 'Lossguide', 'learning_rate': 0.08314194295745188, 'l2_leaf_reg': 11.696344618289736, 'depth': 4, 'random_strength': 45.910981898296484, 'min_data_in_leaf': 41, 'bagging_temperature': 40.81791866748656, 'max_leaves': 5}. Best is trial 127 with value: 0.31282061176940684.\n"
     ]
    },
    {
     "name": "stdout",
     "output_type": "stream",
     "text": [
      "Repeat \u001b[1m\u001b[34m#1\n",
      "Repeat \u001b[1m\u001b[34m#2\n",
      "Repeat \u001b[1m\u001b[34m#3\n"
     ]
    },
    {
     "name": "stderr",
     "output_type": "stream",
     "text": [
      "[I 2023-06-22 00:52:54,888] Trial 211 finished with value: 0.35666158243806745 and parameters: {'bootstrap_type': 'Bayesian', 'grow_policy': 'Lossguide', 'learning_rate': 0.03868821461610829, 'l2_leaf_reg': 0.09158928304454668, 'depth': 4, 'random_strength': 60.926698615027924, 'min_data_in_leaf': 33, 'bagging_temperature': 41.8431330918314, 'max_leaves': 103}. Best is trial 127 with value: 0.31282061176940684.\n"
     ]
    },
    {
     "name": "stdout",
     "output_type": "stream",
     "text": [
      "Repeat \u001b[1m\u001b[34m#1\n",
      "Repeat \u001b[1m\u001b[34m#2\n",
      "Repeat \u001b[1m\u001b[34m#3\n"
     ]
    },
    {
     "name": "stderr",
     "output_type": "stream",
     "text": [
      "[I 2023-06-22 00:53:19,037] Trial 212 finished with value: 0.3238256276258967 and parameters: {'bootstrap_type': 'Bayesian', 'grow_policy': 'Lossguide', 'learning_rate': 0.043150175123635656, 'l2_leaf_reg': 18.142429243220256, 'depth': 4, 'random_strength': 73.8444357699177, 'min_data_in_leaf': 36, 'bagging_temperature': 44.81250134957823, 'max_leaves': 111}. Best is trial 127 with value: 0.31282061176940684.\n"
     ]
    },
    {
     "name": "stdout",
     "output_type": "stream",
     "text": [
      "Repeat \u001b[1m\u001b[34m#1\n",
      "Repeat \u001b[1m\u001b[34m#2\n",
      "Repeat \u001b[1m\u001b[34m#3\n"
     ]
    },
    {
     "name": "stderr",
     "output_type": "stream",
     "text": [
      "[I 2023-06-22 00:53:47,379] Trial 213 finished with value: 0.3220515409762584 and parameters: {'bootstrap_type': 'Bayesian', 'grow_policy': 'Lossguide', 'learning_rate': 0.04829898806161027, 'l2_leaf_reg': 29.240830834356505, 'depth': 4, 'random_strength': 76.0220735649732, 'min_data_in_leaf': 27, 'bagging_temperature': 39.269971521688, 'max_leaves': 106}. Best is trial 127 with value: 0.31282061176940684.\n"
     ]
    },
    {
     "name": "stdout",
     "output_type": "stream",
     "text": [
      "Repeat \u001b[1m\u001b[34m#1\n",
      "Repeat \u001b[1m\u001b[34m#2\n",
      "Repeat \u001b[1m\u001b[34m#3\n"
     ]
    },
    {
     "name": "stderr",
     "output_type": "stream",
     "text": [
      "[I 2023-06-22 00:54:01,347] Trial 214 finished with value: 0.39000521737112986 and parameters: {'bootstrap_type': 'Bayesian', 'grow_policy': 'Lossguide', 'learning_rate': 0.027348039767824243, 'l2_leaf_reg': 0.003600037427794654, 'depth': 4, 'random_strength': 53.19274326334705, 'min_data_in_leaf': 30, 'bagging_temperature': 42.66467001335346, 'max_leaves': 116}. Best is trial 127 with value: 0.31282061176940684.\n"
     ]
    },
    {
     "name": "stdout",
     "output_type": "stream",
     "text": [
      "Repeat \u001b[1m\u001b[34m#1\n",
      "Repeat \u001b[1m\u001b[34m#2\n",
      "Repeat \u001b[1m\u001b[34m#3\n"
     ]
    },
    {
     "name": "stderr",
     "output_type": "stream",
     "text": [
      "[I 2023-06-22 00:54:11,131] Trial 215 finished with value: 0.4293095626769478 and parameters: {'bootstrap_type': 'Bayesian', 'grow_policy': 'Lossguide', 'learning_rate': 0.0401633559285108, 'l2_leaf_reg': 0.00016659465464495378, 'depth': 4, 'random_strength': 72.41775292544374, 'min_data_in_leaf': 34, 'bagging_temperature': 46.17434392388386, 'max_leaves': 95}. Best is trial 127 with value: 0.31282061176940684.\n"
     ]
    },
    {
     "name": "stdout",
     "output_type": "stream",
     "text": [
      "Repeat \u001b[1m\u001b[34m#1\n",
      "Repeat \u001b[1m\u001b[34m#2\n",
      "Repeat \u001b[1m\u001b[34m#3\n"
     ]
    },
    {
     "name": "stderr",
     "output_type": "stream",
     "text": [
      "[I 2023-06-22 00:54:21,785] Trial 216 finished with value: 0.3639739054900973 and parameters: {'bootstrap_type': 'Bayesian', 'grow_policy': 'Lossguide', 'learning_rate': 0.06255294735609752, 'l2_leaf_reg': 0.2808367392827366, 'depth': 4, 'random_strength': 47.92314208744122, 'min_data_in_leaf': 37, 'bagging_temperature': 33.02710620106465, 'max_leaves': 60}. Best is trial 127 with value: 0.31282061176940684.\n"
     ]
    },
    {
     "name": "stdout",
     "output_type": "stream",
     "text": [
      "Repeat \u001b[1m\u001b[34m#1\n",
      "Repeat \u001b[1m\u001b[34m#2\n",
      "Repeat \u001b[1m\u001b[34m#3\n"
     ]
    },
    {
     "name": "stderr",
     "output_type": "stream",
     "text": [
      "[I 2023-06-22 00:54:45,076] Trial 217 finished with value: 0.32391866160858673 and parameters: {'bootstrap_type': 'Bayesian', 'grow_policy': 'Lossguide', 'learning_rate': 0.03292137524511903, 'l2_leaf_reg': 8.142302422682345, 'depth': 4, 'random_strength': 82.33118007235925, 'min_data_in_leaf': 49, 'bagging_temperature': 36.64420578530332, 'max_leaves': 119}. Best is trial 127 with value: 0.31282061176940684.\n"
     ]
    },
    {
     "name": "stdout",
     "output_type": "stream",
     "text": [
      "Repeat \u001b[1m\u001b[34m#1\n",
      "Repeat \u001b[1m\u001b[34m#2\n",
      "Repeat \u001b[1m\u001b[34m#3\n"
     ]
    },
    {
     "name": "stderr",
     "output_type": "stream",
     "text": [
      "[I 2023-06-22 00:55:00,520] Trial 218 finished with value: 0.3356107292464437 and parameters: {'bootstrap_type': 'Bayesian', 'grow_policy': 'Lossguide', 'learning_rate': 0.03628404901544849, 'l2_leaf_reg': 0.4220213667133347, 'depth': 4, 'random_strength': 77.99944538373379, 'min_data_in_leaf': 40, 'bagging_temperature': 40.69589239128784, 'max_leaves': 124}. Best is trial 127 with value: 0.31282061176940684.\n"
     ]
    },
    {
     "name": "stdout",
     "output_type": "stream",
     "text": [
      "Repeat \u001b[1m\u001b[34m#1\n",
      "Repeat \u001b[1m\u001b[34m#2\n",
      "Repeat \u001b[1m\u001b[34m#3\n"
     ]
    },
    {
     "name": "stderr",
     "output_type": "stream",
     "text": [
      "[I 2023-06-22 00:55:08,396] Trial 219 finished with value: 0.361547880641284 and parameters: {'bootstrap_type': 'Bernoulli', 'grow_policy': 'Lossguide', 'learning_rate': 0.046091061448310516, 'l2_leaf_reg': 15.841652178991604, 'depth': 4, 'random_strength': 80.60639530531967, 'min_data_in_leaf': 32, 'subsample': 0.6921739153309838, 'colsample_bylevel': 0.552061880672891, 'max_leaves': 81}. Best is trial 127 with value: 0.31282061176940684.\n"
     ]
    },
    {
     "name": "stdout",
     "output_type": "stream",
     "text": [
      "Repeat \u001b[1m\u001b[34m#1\n",
      "Repeat \u001b[1m\u001b[34m#2\n",
      "Repeat \u001b[1m\u001b[34m#3\n"
     ]
    },
    {
     "name": "stderr",
     "output_type": "stream",
     "text": [
      "[I 2023-06-22 00:55:26,189] Trial 220 finished with value: 0.35706112450887667 and parameters: {'bootstrap_type': 'Bayesian', 'grow_policy': 'Lossguide', 'learning_rate': 0.02955890108386602, 'l2_leaf_reg': 0.02635012930511664, 'depth': 4, 'random_strength': 67.91249939903805, 'min_data_in_leaf': 36, 'bagging_temperature': 38.08261459265784, 'max_leaves': 107}. Best is trial 127 with value: 0.31282061176940684.\n"
     ]
    },
    {
     "name": "stdout",
     "output_type": "stream",
     "text": [
      "Repeat \u001b[1m\u001b[34m#1\n",
      "Repeat \u001b[1m\u001b[34m#2\n",
      "Repeat \u001b[1m\u001b[34m#3\n"
     ]
    },
    {
     "name": "stderr",
     "output_type": "stream",
     "text": [
      "[I 2023-06-22 00:55:55,651] Trial 221 finished with value: 0.3268594232418333 and parameters: {'bootstrap_type': 'Bayesian', 'grow_policy': 'Lossguide', 'learning_rate': 0.04954399570709818, 'l2_leaf_reg': 30.524014412912674, 'depth': 4, 'random_strength': 75.84827544858547, 'min_data_in_leaf': 28, 'bagging_temperature': 39.21481112127553, 'max_leaves': 103}. Best is trial 127 with value: 0.31282061176940684.\n"
     ]
    },
    {
     "name": "stdout",
     "output_type": "stream",
     "text": [
      "Repeat \u001b[1m\u001b[34m#1\n",
      "Repeat \u001b[1m\u001b[34m#2\n",
      "Repeat \u001b[1m\u001b[34m#3\n"
     ]
    },
    {
     "name": "stderr",
     "output_type": "stream",
     "text": [
      "[I 2023-06-22 00:56:25,800] Trial 222 finished with value: 0.31967420283771564 and parameters: {'bootstrap_type': 'Bayesian', 'grow_policy': 'Lossguide', 'learning_rate': 0.057719298084602244, 'l2_leaf_reg': 38.091196381231306, 'depth': 4, 'random_strength': 74.40058464222741, 'min_data_in_leaf': 25, 'bagging_temperature': 35.54524418689693, 'max_leaves': 113}. Best is trial 127 with value: 0.31282061176940684.\n"
     ]
    },
    {
     "name": "stdout",
     "output_type": "stream",
     "text": [
      "Repeat \u001b[1m\u001b[34m#1\n",
      "Repeat \u001b[1m\u001b[34m#2\n",
      "Repeat \u001b[1m\u001b[34m#3\n"
     ]
    },
    {
     "name": "stderr",
     "output_type": "stream",
     "text": [
      "[I 2023-06-22 00:56:59,641] Trial 223 finished with value: 0.3334876599754599 and parameters: {'bootstrap_type': 'Bayesian', 'grow_policy': 'Lossguide', 'learning_rate': 0.0560974138977288, 'l2_leaf_reg': 44.6128006536793, 'depth': 4, 'random_strength': 73.6235807967718, 'min_data_in_leaf': 20, 'bagging_temperature': 34.783547694132935, 'max_leaves': 113}. Best is trial 127 with value: 0.31282061176940684.\n"
     ]
    },
    {
     "name": "stdout",
     "output_type": "stream",
     "text": [
      "Repeat \u001b[1m\u001b[34m#1\n",
      "Repeat \u001b[1m\u001b[34m#2\n",
      "Repeat \u001b[1m\u001b[34m#3\n"
     ]
    },
    {
     "name": "stderr",
     "output_type": "stream",
     "text": [
      "[I 2023-06-22 00:57:37,652] Trial 224 finished with value: 0.3267875153916221 and parameters: {'bootstrap_type': 'Bayesian', 'grow_policy': 'Lossguide', 'learning_rate': 0.07116802031012001, 'l2_leaf_reg': 77.27305541994654, 'depth': 4, 'random_strength': 51.29517325902012, 'min_data_in_leaf': 24, 'bagging_temperature': 35.83915967282302, 'max_leaves': 110}. Best is trial 127 with value: 0.31282061176940684.\n"
     ]
    },
    {
     "name": "stdout",
     "output_type": "stream",
     "text": [
      "Repeat \u001b[1m\u001b[34m#1\n",
      "Repeat \u001b[1m\u001b[34m#2\n",
      "Repeat \u001b[1m\u001b[34m#3\n"
     ]
    },
    {
     "name": "stderr",
     "output_type": "stream",
     "text": [
      "[I 2023-06-22 00:58:09,292] Trial 225 finished with value: 0.32294335793055245 and parameters: {'bootstrap_type': 'Bayesian', 'grow_policy': 'Lossguide', 'learning_rate': 0.04126358098103793, 'l2_leaf_reg': 20.33426789163079, 'depth': 4, 'random_strength': 57.87000019508538, 'min_data_in_leaf': 25, 'bagging_temperature': 42.558574684190255, 'max_leaves': 115}. Best is trial 127 with value: 0.31282061176940684.\n"
     ]
    },
    {
     "name": "stdout",
     "output_type": "stream",
     "text": [
      "Repeat \u001b[1m\u001b[34m#1\n",
      "Repeat \u001b[1m\u001b[34m#2\n",
      "Repeat \u001b[1m\u001b[34m#3\n"
     ]
    },
    {
     "name": "stderr",
     "output_type": "stream",
     "text": [
      "[I 2023-06-22 00:58:32,864] Trial 226 finished with value: 0.3637773235641008 and parameters: {'bootstrap_type': 'Bayesian', 'grow_policy': 'Depthwise', 'learning_rate': 0.059115651909966746, 'l2_leaf_reg': 4.591329988720122, 'depth': 6, 'random_strength': 70.94133728781992, 'min_data_in_leaf': 23, 'bagging_temperature': 37.01022586463339}. Best is trial 127 with value: 0.31282061176940684.\n"
     ]
    },
    {
     "name": "stdout",
     "output_type": "stream",
     "text": [
      "Repeat \u001b[1m\u001b[34m#1\n",
      "Repeat \u001b[1m\u001b[34m#2\n",
      "Repeat \u001b[1m\u001b[34m#3\n"
     ]
    },
    {
     "name": "stderr",
     "output_type": "stream",
     "text": [
      "[I 2023-06-22 00:58:49,157] Trial 227 finished with value: 0.3271320411239176 and parameters: {'bootstrap_type': 'Bayesian', 'grow_policy': 'Lossguide', 'learning_rate': 0.06357565061042114, 'l2_leaf_reg': 11.897995091363423, 'depth': 4, 'random_strength': 77.35403818744663, 'min_data_in_leaf': 38, 'bagging_temperature': 40.825866176439334, 'max_leaves': 99}. Best is trial 127 with value: 0.31282061176940684.\n"
     ]
    },
    {
     "name": "stdout",
     "output_type": "stream",
     "text": [
      "Repeat \u001b[1m\u001b[34m#1\n",
      "Repeat \u001b[1m\u001b[34m#2\n",
      "Repeat \u001b[1m\u001b[34m#3\n"
     ]
    },
    {
     "name": "stderr",
     "output_type": "stream",
     "text": [
      "[I 2023-06-22 00:59:36,542] Trial 228 finished with value: 0.35459700364675295 and parameters: {'bootstrap_type': 'No', 'grow_policy': 'SymmetricTree', 'learning_rate': 0.025702431662426865, 'l2_leaf_reg': 2.4059011259932648, 'depth': 4, 'random_strength': 63.72648071273136, 'min_data_in_leaf': 52, 'colsample_bylevel': 0.6210216517491759, 'boosting_type': 'Ordered'}. Best is trial 127 with value: 0.31282061176940684.\n"
     ]
    },
    {
     "name": "stdout",
     "output_type": "stream",
     "text": [
      "Repeat \u001b[1m\u001b[34m#1\n",
      "Repeat \u001b[1m\u001b[34m#2\n",
      "Repeat \u001b[1m\u001b[34m#3\n"
     ]
    },
    {
     "name": "stderr",
     "output_type": "stream",
     "text": [
      "[I 2023-06-22 00:59:57,841] Trial 229 finished with value: 0.3124486186645064 and parameters: {'bootstrap_type': 'Bayesian', 'grow_policy': 'Lossguide', 'learning_rate': 0.03558208355661328, 'l2_leaf_reg': 7.517885761344571, 'depth': 4, 'random_strength': 74.82130236302429, 'min_data_in_leaf': 47, 'bagging_temperature': 44.55586177946239, 'max_leaves': 117}. Best is trial 229 with value: 0.3124486186645064.\n"
     ]
    },
    {
     "name": "stdout",
     "output_type": "stream",
     "text": [
      "Repeat \u001b[1m\u001b[34m#1\n",
      "Repeat \u001b[1m\u001b[34m#2\n",
      "Repeat \u001b[1m\u001b[34m#3\n"
     ]
    },
    {
     "name": "stderr",
     "output_type": "stream",
     "text": [
      "[I 2023-06-22 01:00:18,510] Trial 230 finished with value: 0.3296347397580281 and parameters: {'bootstrap_type': 'Bayesian', 'grow_policy': 'Lossguide', 'learning_rate': 0.03510960862544831, 'l2_leaf_reg': 7.313982770908617, 'depth': 4, 'random_strength': 80.5408688294628, 'min_data_in_leaf': 46, 'bagging_temperature': 47.47129208324656, 'max_leaves': 128}. Best is trial 229 with value: 0.3124486186645064.\n"
     ]
    },
    {
     "name": "stdout",
     "output_type": "stream",
     "text": [
      "Repeat \u001b[1m\u001b[34m#1\n",
      "Repeat \u001b[1m\u001b[34m#2\n",
      "Repeat \u001b[1m\u001b[34m#3\n"
     ]
    },
    {
     "name": "stderr",
     "output_type": "stream",
     "text": [
      "[I 2023-06-22 01:00:38,414] Trial 231 finished with value: 0.32302628308252995 and parameters: {'bootstrap_type': 'Bayesian', 'grow_policy': 'Lossguide', 'learning_rate': 0.040036133716347, 'l2_leaf_reg': 9.413767586374261, 'depth': 4, 'random_strength': 73.18394901079267, 'min_data_in_leaf': 50, 'bagging_temperature': 44.55461113018626, 'max_leaves': 108}. Best is trial 229 with value: 0.3124486186645064.\n"
     ]
    },
    {
     "name": "stdout",
     "output_type": "stream",
     "text": [
      "Repeat \u001b[1m\u001b[34m#1\n",
      "Repeat \u001b[1m\u001b[34m#2\n",
      "Repeat \u001b[1m\u001b[34m#3\n"
     ]
    },
    {
     "name": "stderr",
     "output_type": "stream",
     "text": [
      "[I 2023-06-22 01:00:58,969] Trial 232 finished with value: 0.3230507128583999 and parameters: {'bootstrap_type': 'Bayesian', 'grow_policy': 'Lossguide', 'learning_rate': 0.03162066218007675, 'l2_leaf_reg': 4.08210699911593, 'depth': 4, 'random_strength': 43.022502960055824, 'min_data_in_leaf': 47, 'bagging_temperature': 43.12596465913908, 'max_leaves': 118}. Best is trial 229 with value: 0.3124486186645064.\n"
     ]
    },
    {
     "name": "stdout",
     "output_type": "stream",
     "text": [
      "Repeat \u001b[1m\u001b[34m#1\n",
      "Repeat \u001b[1m\u001b[34m#2\n",
      "Repeat \u001b[1m\u001b[34m#3\n"
     ]
    },
    {
     "name": "stderr",
     "output_type": "stream",
     "text": [
      "[I 2023-06-22 01:01:32,984] Trial 233 finished with value: 0.3286100457170537 and parameters: {'bootstrap_type': 'Bayesian', 'grow_policy': 'Lossguide', 'learning_rate': 0.03775217010731267, 'l2_leaf_reg': 45.56528244312951, 'depth': 4, 'random_strength': 75.24944710673044, 'min_data_in_leaf': 44, 'bagging_temperature': 40.41770600250289, 'max_leaves': 113}. Best is trial 229 with value: 0.3124486186645064.\n"
     ]
    },
    {
     "name": "stdout",
     "output_type": "stream",
     "text": [
      "Repeat \u001b[1m\u001b[34m#1\n",
      "Repeat \u001b[1m\u001b[34m#2\n",
      "Repeat \u001b[1m\u001b[34m#3\n"
     ]
    },
    {
     "name": "stderr",
     "output_type": "stream",
     "text": [
      "[I 2023-06-22 01:01:55,543] Trial 234 finished with value: 0.3211467741918301 and parameters: {'bootstrap_type': 'Bayesian', 'grow_policy': 'Lossguide', 'learning_rate': 0.04357991498842048, 'l2_leaf_reg': 16.80838744417911, 'depth': 4, 'random_strength': 78.11756308239106, 'min_data_in_leaf': 42, 'bagging_temperature': 38.390058871632945, 'max_leaves': 123}. Best is trial 229 with value: 0.3124486186645064.\n"
     ]
    },
    {
     "name": "stdout",
     "output_type": "stream",
     "text": [
      "Repeat \u001b[1m\u001b[34m#1\n",
      "Repeat \u001b[1m\u001b[34m#2\n",
      "Repeat \u001b[1m\u001b[34m#3\n"
     ]
    },
    {
     "name": "stderr",
     "output_type": "stream",
     "text": [
      "[I 2023-06-22 01:02:09,990] Trial 235 finished with value: 0.33276224089576595 and parameters: {'bootstrap_type': 'Bayesian', 'grow_policy': 'Depthwise', 'learning_rate': 0.05354519089439186, 'l2_leaf_reg': 6.442636458339056, 'depth': 4, 'random_strength': 78.7033408107571, 'min_data_in_leaf': 43, 'bagging_temperature': 32.63953996145202}. Best is trial 229 with value: 0.3124486186645064.\n"
     ]
    },
    {
     "name": "stdout",
     "output_type": "stream",
     "text": [
      "Repeat \u001b[1m\u001b[34m#1\n",
      "Repeat \u001b[1m\u001b[34m#2\n",
      "Repeat \u001b[1m\u001b[34m#3\n"
     ]
    },
    {
     "name": "stderr",
     "output_type": "stream",
     "text": [
      "[I 2023-06-22 01:02:20,528] Trial 236 finished with value: 0.3203795003313812 and parameters: {'bootstrap_type': 'Bayesian', 'grow_policy': 'Lossguide', 'learning_rate': 0.09877724663346513, 'l2_leaf_reg': 12.880221394748082, 'depth': 4, 'random_strength': 77.03774362022331, 'min_data_in_leaf': 42, 'bagging_temperature': 38.33568974076816, 'max_leaves': 125}. Best is trial 229 with value: 0.3124486186645064.\n"
     ]
    },
    {
     "name": "stdout",
     "output_type": "stream",
     "text": [
      "Repeat \u001b[1m\u001b[34m#1\n",
      "Repeat \u001b[1m\u001b[34m#2\n",
      "Repeat \u001b[1m\u001b[34m#3\n"
     ]
    },
    {
     "name": "stderr",
     "output_type": "stream",
     "text": [
      "[I 2023-06-22 01:02:26,428] Trial 237 finished with value: 0.396744774526157 and parameters: {'bootstrap_type': 'Bayesian', 'grow_policy': 'Lossguide', 'learning_rate': 0.08360293683646869, 'l2_leaf_reg': 8.827271485213127e-07, 'depth': 4, 'random_strength': 76.383148519825, 'min_data_in_leaf': 42, 'bagging_temperature': 37.541502651803235, 'max_leaves': 117}. Best is trial 229 with value: 0.3124486186645064.\n"
     ]
    },
    {
     "name": "stdout",
     "output_type": "stream",
     "text": [
      "Repeat \u001b[1m\u001b[34m#1\n",
      "Repeat \u001b[1m\u001b[34m#2\n",
      "Repeat \u001b[1m\u001b[34m#3\n"
     ]
    },
    {
     "name": "stderr",
     "output_type": "stream",
     "text": [
      "[I 2023-06-22 01:02:33,410] Trial 238 finished with value: 0.34534171014522647 and parameters: {'bootstrap_type': 'Bayesian', 'grow_policy': 'Lossguide', 'learning_rate': 0.12748811202540095, 'l2_leaf_reg': 0.2001772604716624, 'depth': 4, 'random_strength': 71.85162656146657, 'min_data_in_leaf': 45, 'bagging_temperature': 34.78645464349608, 'max_leaves': 121}. Best is trial 229 with value: 0.3124486186645064.\n"
     ]
    },
    {
     "name": "stdout",
     "output_type": "stream",
     "text": [
      "Repeat \u001b[1m\u001b[34m#1\n",
      "Repeat \u001b[1m\u001b[34m#2\n",
      "Repeat \u001b[1m\u001b[34m#3\n"
     ]
    },
    {
     "name": "stderr",
     "output_type": "stream",
     "text": [
      "[I 2023-06-22 01:02:41,377] Trial 239 finished with value: 0.33337959940484135 and parameters: {'bootstrap_type': 'Bayesian', 'grow_policy': 'Depthwise', 'learning_rate': 0.11653553041405333, 'l2_leaf_reg': 2.6725757542298982, 'depth': 4, 'random_strength': 74.00970617379961, 'min_data_in_leaf': 43, 'bagging_temperature': 38.39317851739368}. Best is trial 229 with value: 0.3124486186645064.\n"
     ]
    },
    {
     "name": "stdout",
     "output_type": "stream",
     "text": [
      "Repeat \u001b[1m\u001b[34m#1\n",
      "Repeat \u001b[1m\u001b[34m#2\n",
      "Repeat \u001b[1m\u001b[34m#3\n"
     ]
    },
    {
     "name": "stderr",
     "output_type": "stream",
     "text": [
      "[I 2023-06-22 01:02:52,125] Trial 240 finished with value: 0.33127205449552455 and parameters: {'bootstrap_type': 'Bayesian', 'grow_policy': 'Lossguide', 'learning_rate': 0.09861479852538398, 'l2_leaf_reg': 12.338423691842605, 'depth': 4, 'random_strength': 69.16026205614428, 'min_data_in_leaf': 47, 'bagging_temperature': 36.876872572581426, 'max_leaves': 119}. Best is trial 229 with value: 0.3124486186645064.\n"
     ]
    },
    {
     "name": "stdout",
     "output_type": "stream",
     "text": [
      "Repeat \u001b[1m\u001b[34m#1\n",
      "Repeat \u001b[1m\u001b[34m#2\n",
      "Repeat \u001b[1m\u001b[34m#3\n"
     ]
    },
    {
     "name": "stderr",
     "output_type": "stream",
     "text": [
      "[I 2023-06-22 01:03:02,738] Trial 241 finished with value: 0.35483483555798534 and parameters: {'bootstrap_type': 'Bayesian', 'grow_policy': 'Lossguide', 'learning_rate': 0.21708283621535224, 'l2_leaf_reg': 25.810232925784987, 'depth': 4, 'random_strength': 79.01198618378642, 'min_data_in_leaf': 39, 'bagging_temperature': 39.704517592354534, 'max_leaves': 124}. Best is trial 229 with value: 0.3124486186645064.\n"
     ]
    },
    {
     "name": "stdout",
     "output_type": "stream",
     "text": [
      "Repeat \u001b[1m\u001b[34m#1\n",
      "Repeat \u001b[1m\u001b[34m#2\n",
      "Repeat \u001b[1m\u001b[34m#3\n"
     ]
    },
    {
     "name": "stderr",
     "output_type": "stream",
     "text": [
      "[I 2023-06-22 01:03:25,020] Trial 242 finished with value: 0.32427518091858915 and parameters: {'bootstrap_type': 'Bayesian', 'grow_policy': 'Lossguide', 'learning_rate': 0.045943959301730446, 'l2_leaf_reg': 13.394365180360104, 'depth': 4, 'random_strength': 83.6481135575562, 'min_data_in_leaf': 41, 'bagging_temperature': 42.686868770834664, 'max_leaves': 124}. Best is trial 229 with value: 0.3124486186645064.\n"
     ]
    },
    {
     "name": "stdout",
     "output_type": "stream",
     "text": [
      "Repeat \u001b[1m\u001b[34m#1\n",
      "Repeat \u001b[1m\u001b[34m#2\n",
      "Repeat \u001b[1m\u001b[34m#3\n"
     ]
    },
    {
     "name": "stderr",
     "output_type": "stream",
     "text": [
      "[I 2023-06-22 01:03:38,094] Trial 243 finished with value: 0.33010227170590883 and parameters: {'bootstrap_type': 'Bayesian', 'grow_policy': 'Lossguide', 'learning_rate': 0.07226699232963943, 'l2_leaf_reg': 5.4797159923608065, 'depth': 4, 'random_strength': 81.07695545294683, 'min_data_in_leaf': 53, 'bagging_temperature': 38.88110004106044, 'max_leaves': 122}. Best is trial 229 with value: 0.3124486186645064.\n"
     ]
    },
    {
     "name": "stdout",
     "output_type": "stream",
     "text": [
      "Repeat \u001b[1m\u001b[34m#1\n",
      "Repeat \u001b[1m\u001b[34m#2\n",
      "Repeat \u001b[1m\u001b[34m#3\n"
     ]
    },
    {
     "name": "stderr",
     "output_type": "stream",
     "text": [
      "[I 2023-06-22 01:04:03,367] Trial 244 finished with value: 0.3235814801631874 and parameters: {'bootstrap_type': 'Bayesian', 'grow_policy': 'Lossguide', 'learning_rate': 0.034022826189344844, 'l2_leaf_reg': 16.427941294361517, 'depth': 4, 'random_strength': 77.39896211485551, 'min_data_in_leaf': 41, 'bagging_temperature': 44.96942954154351, 'max_leaves': 126}. Best is trial 229 with value: 0.3124486186645064.\n"
     ]
    },
    {
     "name": "stdout",
     "output_type": "stream",
     "text": [
      "Repeat \u001b[1m\u001b[34m#1\n",
      "Repeat \u001b[1m\u001b[34m#2\n",
      "Repeat \u001b[1m\u001b[34m#3\n"
     ]
    },
    {
     "name": "stderr",
     "output_type": "stream",
     "text": [
      "[I 2023-06-22 01:04:13,862] Trial 245 finished with value: 0.3751710586321731 and parameters: {'bootstrap_type': 'MVS', 'grow_policy': 'Lossguide', 'learning_rate': 0.04516987157468459, 'l2_leaf_reg': 35.511585282627436, 'depth': 7, 'random_strength': 79.52478082404446, 'min_data_in_leaf': 49, 'subsample': 0.5660347811358344, 'colsample_bylevel': 0.4322781528373579, 'max_leaves': 34}. Best is trial 229 with value: 0.3124486186645064.\n"
     ]
    },
    {
     "name": "stdout",
     "output_type": "stream",
     "text": [
      "Repeat \u001b[1m\u001b[34m#1\n",
      "Repeat \u001b[1m\u001b[34m#2\n",
      "Repeat \u001b[1m\u001b[34m#3\n"
     ]
    },
    {
     "name": "stderr",
     "output_type": "stream",
     "text": [
      "[I 2023-06-22 01:04:39,130] Trial 246 finished with value: 0.33238992090880415 and parameters: {'bootstrap_type': 'Bayesian', 'grow_policy': 'Lossguide', 'learning_rate': 0.028820276385664093, 'l2_leaf_reg': 8.528663101725204, 'depth': 4, 'random_strength': 55.407588168954376, 'min_data_in_leaf': 39, 'bagging_temperature': 35.61443664345031, 'max_leaves': 115}. Best is trial 229 with value: 0.3124486186645064.\n"
     ]
    },
    {
     "name": "stdout",
     "output_type": "stream",
     "text": [
      "Repeat \u001b[1m\u001b[34m#1\n",
      "Repeat \u001b[1m\u001b[34m#2\n",
      "Repeat \u001b[1m\u001b[34m#3\n"
     ]
    },
    {
     "name": "stderr",
     "output_type": "stream",
     "text": [
      "[I 2023-06-22 01:04:49,386] Trial 247 finished with value: 0.3163299724034779 and parameters: {'bootstrap_type': 'Bayesian', 'grow_policy': 'Lossguide', 'learning_rate': 0.09512255742336555, 'l2_leaf_reg': 3.689124512932749, 'depth': 4, 'random_strength': 75.40667194593856, 'min_data_in_leaf': 37, 'bagging_temperature': 41.845233288802866, 'max_leaves': 47}. Best is trial 229 with value: 0.3124486186645064.\n"
     ]
    },
    {
     "name": "stdout",
     "output_type": "stream",
     "text": [
      "Repeat \u001b[1m\u001b[34m#1\n",
      "Repeat \u001b[1m\u001b[34m#2\n",
      "Repeat \u001b[1m\u001b[34m#3\n"
     ]
    },
    {
     "name": "stderr",
     "output_type": "stream",
     "text": [
      "[I 2023-06-22 01:05:00,387] Trial 248 finished with value: 0.35357805317663854 and parameters: {'bootstrap_type': 'Bayesian', 'grow_policy': 'Lossguide', 'learning_rate': 0.08545781483435438, 'l2_leaf_reg': 3.40899451693072, 'depth': 4, 'random_strength': 75.35982681488939, 'min_data_in_leaf': 45, 'bagging_temperature': 51.88492440344041, 'max_leaves': 46}. Best is trial 229 with value: 0.3124486186645064.\n"
     ]
    },
    {
     "name": "stdout",
     "output_type": "stream",
     "text": [
      "Repeat \u001b[1m\u001b[34m#1\n",
      "Repeat \u001b[1m\u001b[34m#2\n",
      "Repeat \u001b[1m\u001b[34m#3\n"
     ]
    },
    {
     "name": "stderr",
     "output_type": "stream",
     "text": [
      "[I 2023-06-22 01:05:10,870] Trial 249 finished with value: 0.3318519530702617 and parameters: {'bootstrap_type': 'Bayesian', 'grow_policy': 'Depthwise', 'learning_rate': 0.11149110206506214, 'l2_leaf_reg': 5.29762725070449, 'depth': 4, 'random_strength': 72.53121815646138, 'min_data_in_leaf': 50, 'bagging_temperature': 41.569157873565175}. Best is trial 229 with value: 0.3124486186645064.\n"
     ]
    },
    {
     "name": "stdout",
     "output_type": "stream",
     "text": [
      "Repeat \u001b[1m\u001b[34m#1\n",
      "Repeat \u001b[1m\u001b[34m#2\n",
      "Repeat \u001b[1m\u001b[34m#3\n"
     ]
    },
    {
     "name": "stderr",
     "output_type": "stream",
     "text": [
      "[I 2023-06-22 01:05:18,420] Trial 250 finished with value: 0.35077909243500804 and parameters: {'bootstrap_type': 'Bayesian', 'grow_policy': 'Lossguide', 'learning_rate': 0.15335287532213157, 'l2_leaf_reg': 2.072994562746403, 'depth': 4, 'random_strength': 60.9012222763706, 'min_data_in_leaf': 22, 'bagging_temperature': 33.879701696237476, 'max_leaves': 53}. Best is trial 229 with value: 0.3124486186645064.\n"
     ]
    },
    {
     "name": "stdout",
     "output_type": "stream",
     "text": [
      "Repeat \u001b[1m\u001b[34m#1\n",
      "Repeat \u001b[1m\u001b[34m#2\n",
      "Repeat \u001b[1m\u001b[34m#3\n"
     ]
    },
    {
     "name": "stderr",
     "output_type": "stream",
     "text": [
      "[I 2023-06-22 01:05:29,454] Trial 251 finished with value: 0.315919174825966 and parameters: {'bootstrap_type': 'Bayesian', 'grow_policy': 'Lossguide', 'learning_rate': 0.06842724573714051, 'l2_leaf_reg': 1.0542682087722461, 'depth': 4, 'random_strength': 76.79821056010925, 'min_data_in_leaf': 36, 'bagging_temperature': 31.616264575825916, 'max_leaves': 41}. Best is trial 229 with value: 0.3124486186645064.\n"
     ]
    },
    {
     "name": "stdout",
     "output_type": "stream",
     "text": [
      "Repeat \u001b[1m\u001b[34m#1\n",
      "Repeat \u001b[1m\u001b[34m#2\n",
      "Repeat \u001b[1m\u001b[34m#3\n"
     ]
    },
    {
     "name": "stderr",
     "output_type": "stream",
     "text": [
      "[I 2023-06-22 01:05:53,273] Trial 252 finished with value: 0.33659711904868045 and parameters: {'bootstrap_type': 'Bayesian', 'grow_policy': 'Lossguide', 'learning_rate': 0.023541259982265524, 'l2_leaf_reg': 1.688908048228004, 'depth': 4, 'random_strength': 74.36451567097342, 'min_data_in_leaf': 35, 'bagging_temperature': 30.129268378361395, 'max_leaves': 41}. Best is trial 229 with value: 0.3124486186645064.\n"
     ]
    },
    {
     "name": "stdout",
     "output_type": "stream",
     "text": [
      "Repeat \u001b[1m\u001b[34m#1\n",
      "Repeat \u001b[1m\u001b[34m#2\n",
      "Repeat \u001b[1m\u001b[34m#3\n"
     ]
    },
    {
     "name": "stderr",
     "output_type": "stream",
     "text": [
      "[I 2023-06-22 01:06:02,144] Trial 253 finished with value: 0.34537275375998067 and parameters: {'bootstrap_type': 'Bayesian', 'grow_policy': 'Depthwise', 'learning_rate': 0.09446449248687715, 'l2_leaf_reg': 1.1181824709918526, 'depth': 4, 'random_strength': 77.01067837408324, 'min_data_in_leaf': 47, 'bagging_temperature': 27.48582509561515}. Best is trial 229 with value: 0.3124486186645064.\n"
     ]
    },
    {
     "name": "stdout",
     "output_type": "stream",
     "text": [
      "Repeat \u001b[1m\u001b[34m#1\n",
      "Repeat \u001b[1m\u001b[34m#2\n",
      "Repeat \u001b[1m\u001b[34m#3\n"
     ]
    },
    {
     "name": "stderr",
     "output_type": "stream",
     "text": [
      "[I 2023-06-22 01:06:13,175] Trial 254 finished with value: 0.3231634717534852 and parameters: {'bootstrap_type': 'Bayesian', 'grow_policy': 'Lossguide', 'learning_rate': 0.07852438264081582, 'l2_leaf_reg': 3.4754827943748694, 'depth': 4, 'random_strength': 74.87777683455059, 'min_data_in_leaf': 43, 'bagging_temperature': 31.38667994977908, 'max_leaves': 35}. Best is trial 229 with value: 0.3124486186645064.\n"
     ]
    },
    {
     "name": "stdout",
     "output_type": "stream",
     "text": [
      "Repeat \u001b[1m\u001b[34m#1\n",
      "Repeat \u001b[1m\u001b[34m#2\n",
      "Repeat \u001b[1m\u001b[34m#3\n"
     ]
    },
    {
     "name": "stderr",
     "output_type": "stream",
     "text": [
      "[I 2023-06-22 01:06:27,151] Trial 255 finished with value: 0.33926749068312545 and parameters: {'bootstrap_type': 'Bayesian', 'grow_policy': 'Lossguide', 'learning_rate': 0.06936561649940837, 'l2_leaf_reg': 7.662095364567805, 'depth': 4, 'random_strength': 70.54478258835331, 'min_data_in_leaf': 40, 'bagging_temperature': 36.46677599260968, 'max_leaves': 45}. Best is trial 229 with value: 0.3124486186645064.\n"
     ]
    },
    {
     "name": "stdout",
     "output_type": "stream",
     "text": [
      "Repeat \u001b[1m\u001b[34m#1\n",
      "Repeat \u001b[1m\u001b[34m#2\n",
      "Repeat \u001b[1m\u001b[34m#3\n"
     ]
    },
    {
     "name": "stderr",
     "output_type": "stream",
     "text": [
      "[I 2023-06-22 01:06:36,593] Trial 256 finished with value: 0.35058035150443495 and parameters: {'bootstrap_type': 'Bayesian', 'grow_policy': 'Lossguide', 'learning_rate': 0.06459970947032996, 'l2_leaf_reg': 0.10473075172316253, 'depth': 4, 'random_strength': 47.47763795996287, 'min_data_in_leaf': 54, 'bagging_temperature': 32.94335529286397, 'max_leaves': 49}. Best is trial 229 with value: 0.3124486186645064.\n"
     ]
    },
    {
     "name": "stdout",
     "output_type": "stream",
     "text": [
      "Repeat \u001b[1m\u001b[34m#1\n",
      "Repeat \u001b[1m\u001b[34m#2\n",
      "Repeat \u001b[1m\u001b[34m#3\n"
     ]
    },
    {
     "name": "stderr",
     "output_type": "stream",
     "text": [
      "[I 2023-06-22 01:07:01,739] Trial 257 finished with value: 0.3268892869071736 and parameters: {'bootstrap_type': 'Bayesian', 'grow_policy': 'Depthwise', 'learning_rate': 0.02630282075888131, 'l2_leaf_reg': 3.5127074620404333, 'depth': 4, 'random_strength': 37.42428846324468, 'min_data_in_leaf': 36, 'bagging_temperature': 38.499959064416}. Best is trial 229 with value: 0.3124486186645064.\n"
     ]
    },
    {
     "name": "stdout",
     "output_type": "stream",
     "text": [
      "Repeat \u001b[1m\u001b[34m#1\n",
      "Repeat \u001b[1m\u001b[34m#2\n",
      "Repeat \u001b[1m\u001b[34m#3\n"
     ]
    },
    {
     "name": "stderr",
     "output_type": "stream",
     "text": [
      "[I 2023-06-22 01:07:08,341] Trial 258 finished with value: 0.3541582662476614 and parameters: {'bootstrap_type': 'Bayesian', 'grow_policy': 'Lossguide', 'learning_rate': 0.10521558924606403, 'l2_leaf_reg': 0.01344912342954616, 'depth': 4, 'random_strength': 8.63432041520489, 'min_data_in_leaf': 51, 'bagging_temperature': 34.993644573485795, 'max_leaves': 38}. Best is trial 229 with value: 0.3124486186645064.\n"
     ]
    },
    {
     "name": "stdout",
     "output_type": "stream",
     "text": [
      "Repeat \u001b[1m\u001b[34m#1\n",
      "Repeat \u001b[1m\u001b[34m#2\n",
      "Repeat \u001b[1m\u001b[34m#3\n"
     ]
    },
    {
     "name": "stderr",
     "output_type": "stream",
     "text": [
      "[I 2023-06-22 01:07:55,964] Trial 259 finished with value: 0.3562706102407642 and parameters: {'bootstrap_type': 'Bayesian', 'grow_policy': 'Lossguide', 'learning_rate': 0.005069432829060064, 'l2_leaf_reg': 1.8212345461215598, 'depth': 4, 'random_strength': 77.87724252681384, 'min_data_in_leaf': 48, 'bagging_temperature': 39.71208271207454, 'max_leaves': 51}. Best is trial 229 with value: 0.3124486186645064.\n"
     ]
    },
    {
     "name": "stdout",
     "output_type": "stream",
     "text": [
      "Repeat \u001b[1m\u001b[34m#1\n",
      "Repeat \u001b[1m\u001b[34m#2\n",
      "Repeat \u001b[1m\u001b[34m#3\n"
     ]
    },
    {
     "name": "stderr",
     "output_type": "stream",
     "text": [
      "[I 2023-06-22 01:08:00,361] Trial 260 finished with value: 0.36656315989399807 and parameters: {'bootstrap_type': 'Bernoulli', 'grow_policy': 'Lossguide', 'learning_rate': 0.09025362457766525, 'l2_leaf_reg': 4.6216992982721425, 'depth': 4, 'random_strength': 76.4085047458852, 'min_data_in_leaf': 38, 'subsample': 0.48456585404881036, 'colsample_bylevel': 0.5113304044467339, 'max_leaves': 42}. Best is trial 229 with value: 0.3124486186645064.\n"
     ]
    },
    {
     "name": "stdout",
     "output_type": "stream",
     "text": [
      "Repeat \u001b[1m\u001b[34m#1\n",
      "Repeat \u001b[1m\u001b[34m#2\n",
      "Repeat \u001b[1m\u001b[34m#3\n"
     ]
    },
    {
     "name": "stderr",
     "output_type": "stream",
     "text": [
      "[I 2023-06-22 01:09:30,295] Trial 261 finished with value: 0.36873942159235473 and parameters: {'bootstrap_type': 'Bayesian', 'grow_policy': 'SymmetricTree', 'learning_rate': 0.03007512601697623, 'l2_leaf_reg': 10.0028119257896, 'depth': 4, 'random_strength': 72.84373769799984, 'min_data_in_leaf': 34, 'bagging_temperature': 37.403573138263745, 'boosting_type': 'Ordered'}. Best is trial 229 with value: 0.3124486186645064.\n"
     ]
    },
    {
     "name": "stdout",
     "output_type": "stream",
     "text": [
      "Repeat \u001b[1m\u001b[34m#1\n",
      "Repeat \u001b[1m\u001b[34m#2\n",
      "Repeat \u001b[1m\u001b[34m#3\n"
     ]
    },
    {
     "name": "stderr",
     "output_type": "stream",
     "text": [
      "[I 2023-06-22 01:09:37,567] Trial 262 finished with value: 0.36334672361539994 and parameters: {'bootstrap_type': 'No', 'grow_policy': 'Depthwise', 'learning_rate': 0.03663451818565362, 'l2_leaf_reg': 1.1074814333199086, 'depth': 4, 'random_strength': 49.88850640921974, 'min_data_in_leaf': 41, 'colsample_bylevel': 0.679601386575314}. Best is trial 229 with value: 0.3124486186645064.\n"
     ]
    },
    {
     "name": "stdout",
     "output_type": "stream",
     "text": [
      "Repeat \u001b[1m\u001b[34m#1\n",
      "Repeat \u001b[1m\u001b[34m#2\n",
      "Repeat \u001b[1m\u001b[34m#3\n"
     ]
    },
    {
     "name": "stderr",
     "output_type": "stream",
     "text": [
      "[I 2023-06-22 01:09:47,297] Trial 263 finished with value: 0.34819661260768336 and parameters: {'bootstrap_type': 'Bayesian', 'grow_policy': 'Lossguide', 'learning_rate': 0.0774782780817796, 'l2_leaf_reg': 0.43807334287642247, 'depth': 4, 'random_strength': 52.4431630483529, 'min_data_in_leaf': 45, 'bagging_temperature': 28.915599334227306, 'max_leaves': 48}. Best is trial 229 with value: 0.3124486186645064.\n"
     ]
    },
    {
     "name": "stdout",
     "output_type": "stream",
     "text": [
      "Repeat \u001b[1m\u001b[34m#1\n",
      "Repeat \u001b[1m\u001b[34m#2\n",
      "Repeat \u001b[1m\u001b[34m#3\n"
     ]
    },
    {
     "name": "stderr",
     "output_type": "stream",
     "text": [
      "[I 2023-06-22 01:10:01,527] Trial 264 finished with value: 0.32879555108947384 and parameters: {'bootstrap_type': 'Bayesian', 'grow_policy': 'Lossguide', 'learning_rate': 0.05132115990949032, 'l2_leaf_reg': 0.5834788863290199, 'depth': 4, 'random_strength': 31.003253508204853, 'min_data_in_leaf': 32, 'bagging_temperature': 41.6740945565871, 'max_leaves': 40}. Best is trial 229 with value: 0.3124486186645064.\n"
     ]
    },
    {
     "name": "stdout",
     "output_type": "stream",
     "text": [
      "Repeat \u001b[1m\u001b[34m#1\n",
      "Repeat \u001b[1m\u001b[34m#2\n",
      "Repeat \u001b[1m\u001b[34m#3\n"
     ]
    },
    {
     "name": "stderr",
     "output_type": "stream",
     "text": [
      "[I 2023-06-22 01:10:02,781] Trial 265 finished with value: 0.9159560206317127 and parameters: {'bootstrap_type': 'Bayesian', 'grow_policy': 'Lossguide', 'learning_rate': 0.033141968702431156, 'l2_leaf_reg': 0.03599378009816997, 'depth': 4, 'random_strength': 66.39168883452328, 'min_data_in_leaf': 26, 'bagging_temperature': 81.48833176276412, 'max_leaves': 57}. Best is trial 229 with value: 0.3124486186645064.\n"
     ]
    },
    {
     "name": "stdout",
     "output_type": "stream",
     "text": [
      "Repeat \u001b[1m\u001b[34m#1\n",
      "Repeat \u001b[1m\u001b[34m#2\n",
      "Repeat \u001b[1m\u001b[34m#3\n"
     ]
    },
    {
     "name": "stderr",
     "output_type": "stream",
     "text": [
      "[I 2023-06-22 01:10:30,947] Trial 266 finished with value: 0.3306244638446682 and parameters: {'bootstrap_type': 'Bayesian', 'grow_policy': 'Lossguide', 'learning_rate': 0.023367208746261706, 'l2_leaf_reg': 6.2588387592345995, 'depth': 4, 'random_strength': 70.87596925633426, 'min_data_in_leaf': 39, 'bagging_temperature': 31.64355309690168, 'max_leaves': 31}. Best is trial 229 with value: 0.3124486186645064.\n"
     ]
    },
    {
     "name": "stdout",
     "output_type": "stream",
     "text": [
      "Repeat \u001b[1m\u001b[34m#1\n",
      "Repeat \u001b[1m\u001b[34m#2\n",
      "Repeat \u001b[1m\u001b[34m#3\n"
     ]
    },
    {
     "name": "stderr",
     "output_type": "stream",
     "text": [
      "[I 2023-06-22 01:10:44,346] Trial 267 finished with value: 0.3457512288131263 and parameters: {'bootstrap_type': 'Bayesian', 'grow_policy': 'Depthwise', 'learning_rate': 0.04341156156487063, 'l2_leaf_reg': 0.23490286918053127, 'depth': 4, 'random_strength': 74.68137144314575, 'min_data_in_leaf': 36, 'bagging_temperature': 43.80633924132804}. Best is trial 229 with value: 0.3124486186645064.\n"
     ]
    },
    {
     "name": "stdout",
     "output_type": "stream",
     "text": [
      "Repeat \u001b[1m\u001b[34m#1\n",
      "Repeat \u001b[1m\u001b[34m#2\n",
      "Repeat \u001b[1m\u001b[34m#3\n"
     ]
    },
    {
     "name": "stderr",
     "output_type": "stream",
     "text": [
      "[I 2023-06-22 01:10:50,896] Trial 268 finished with value: 0.35068852356265184 and parameters: {'bootstrap_type': 'MVS', 'grow_policy': 'Lossguide', 'learning_rate': 0.03763998201918103, 'l2_leaf_reg': 2.6079773392083943, 'depth': 4, 'random_strength': 64.32096514594187, 'min_data_in_leaf': 43, 'subsample': 0.738272062013668, 'colsample_bylevel': 0.30754881116277916, 'max_leaves': 121}. Best is trial 229 with value: 0.3124486186645064.\n"
     ]
    },
    {
     "name": "stdout",
     "output_type": "stream",
     "text": [
      "Repeat \u001b[1m\u001b[34m#1\n",
      "Repeat \u001b[1m\u001b[34m#2\n",
      "Repeat \u001b[1m\u001b[34m#3\n"
     ]
    },
    {
     "name": "stderr",
     "output_type": "stream",
     "text": [
      "[I 2023-06-22 01:11:09,631] Trial 269 finished with value: 0.33208523200215256 and parameters: {'bootstrap_type': 'Bayesian', 'grow_policy': 'Lossguide', 'learning_rate': 0.06096575827407938, 'l2_leaf_reg': 12.338822467433246, 'depth': 4, 'random_strength': 77.32775317906827, 'min_data_in_leaf': 30, 'bagging_temperature': 39.83487145339039, 'max_leaves': 27}. Best is trial 229 with value: 0.3124486186645064.\n"
     ]
    },
    {
     "name": "stdout",
     "output_type": "stream",
     "text": [
      "Repeat \u001b[1m\u001b[34m#1\n",
      "Repeat \u001b[1m\u001b[34m#2\n",
      "Repeat \u001b[1m\u001b[34m#3\n"
     ]
    },
    {
     "name": "stderr",
     "output_type": "stream",
     "text": [
      "[I 2023-06-22 01:11:31,005] Trial 270 finished with value: 0.3842338886184648 and parameters: {'bootstrap_type': 'Bayesian', 'grow_policy': 'Lossguide', 'learning_rate': 0.029986270075789686, 'l2_leaf_reg': 0.07482829863848295, 'depth': 9, 'random_strength': 68.49953752370686, 'min_data_in_leaf': 48, 'bagging_temperature': 34.42498326210039, 'max_leaves': 117}. Best is trial 229 with value: 0.3124486186645064.\n"
     ]
    },
    {
     "name": "stdout",
     "output_type": "stream",
     "text": [
      "Repeat \u001b[1m\u001b[34m#1\n",
      "Repeat \u001b[1m\u001b[34m#2\n",
      "Repeat \u001b[1m\u001b[34m#3\n"
     ]
    },
    {
     "name": "stderr",
     "output_type": "stream",
     "text": [
      "[I 2023-06-22 01:11:57,288] Trial 271 finished with value: 0.3306461029262924 and parameters: {'bootstrap_type': 'Bayesian', 'grow_policy': 'Depthwise', 'learning_rate': 0.04888218401684897, 'l2_leaf_reg': 20.275324505376023, 'depth': 4, 'random_strength': 73.36549416819615, 'min_data_in_leaf': 18, 'bagging_temperature': 37.4423458356872}. Best is trial 229 with value: 0.3124486186645064.\n"
     ]
    },
    {
     "name": "stdout",
     "output_type": "stream",
     "text": [
      "Repeat \u001b[1m\u001b[34m#1\n",
      "Repeat \u001b[1m\u001b[34m#2\n",
      "Repeat \u001b[1m\u001b[34m#3\n"
     ]
    },
    {
     "name": "stderr",
     "output_type": "stream",
     "text": [
      "[I 2023-06-22 01:12:10,360] Trial 272 finished with value: 0.36095438268028257 and parameters: {'bootstrap_type': 'Bayesian', 'grow_policy': 'Lossguide', 'learning_rate': 0.033989407560842504, 'l2_leaf_reg': 7.461177380262417, 'depth': 4, 'random_strength': 58.049552008431746, 'min_data_in_leaf': 56, 'bagging_temperature': 6.049428651499014, 'max_leaves': 112}. Best is trial 229 with value: 0.3124486186645064.\n"
     ]
    },
    {
     "name": "stdout",
     "output_type": "stream",
     "text": [
      "Repeat \u001b[1m\u001b[34m#1\n",
      "Repeat \u001b[1m\u001b[34m#2\n",
      "Repeat \u001b[1m\u001b[34m#3\n"
     ]
    },
    {
     "name": "stderr",
     "output_type": "stream",
     "text": [
      "[I 2023-06-22 01:12:20,546] Trial 273 finished with value: 0.3379029366514157 and parameters: {'bootstrap_type': 'Bayesian', 'grow_policy': 'Lossguide', 'learning_rate': 0.10026107640745731, 'l2_leaf_reg': 4.314652471327283, 'depth': 4, 'random_strength': 81.44172416317318, 'min_data_in_leaf': 52, 'bagging_temperature': 40.98637575070193, 'max_leaves': 128}. Best is trial 229 with value: 0.3124486186645064.\n"
     ]
    },
    {
     "name": "stdout",
     "output_type": "stream",
     "text": [
      "Repeat \u001b[1m\u001b[34m#1\n",
      "Repeat \u001b[1m\u001b[34m#2\n",
      "Repeat \u001b[1m\u001b[34m#3\n"
     ]
    },
    {
     "name": "stderr",
     "output_type": "stream",
     "text": [
      "[I 2023-06-22 01:12:35,525] Trial 274 finished with value: 0.34254832556441767 and parameters: {'bootstrap_type': 'Bayesian', 'grow_policy': 'Lossguide', 'learning_rate': 0.05535311602842194, 'l2_leaf_reg': 1.7556257961688762, 'depth': 4, 'random_strength': 98.34432910546654, 'min_data_in_leaf': 34, 'bagging_temperature': 35.81313425964137, 'max_leaves': 119}. Best is trial 229 with value: 0.3124486186645064.\n"
     ]
    },
    {
     "name": "stdout",
     "output_type": "stream",
     "text": [
      "Repeat \u001b[1m\u001b[34m#1\n",
      "Repeat \u001b[1m\u001b[34m#2\n",
      "Repeat \u001b[1m\u001b[34m#3\n"
     ]
    },
    {
     "name": "stderr",
     "output_type": "stream",
     "text": [
      "[I 2023-06-22 01:12:48,657] Trial 275 finished with value: 0.3736425448632967 and parameters: {'bootstrap_type': 'Bayesian', 'grow_policy': 'Depthwise', 'learning_rate': 0.027634225103258303, 'l2_leaf_reg': 0.001576904269151131, 'depth': 4, 'random_strength': 78.19707257722419, 'min_data_in_leaf': 70, 'bagging_temperature': 38.81110727514589}. Best is trial 229 with value: 0.3124486186645064.\n"
     ]
    },
    {
     "name": "stdout",
     "output_type": "stream",
     "text": [
      "Repeat \u001b[1m\u001b[34m#1\n",
      "Repeat \u001b[1m\u001b[34m#2\n",
      "Repeat \u001b[1m\u001b[34m#3\n"
     ]
    },
    {
     "name": "stderr",
     "output_type": "stream",
     "text": [
      "[I 2023-06-22 01:13:12,823] Trial 276 finished with value: 0.32151780295770677 and parameters: {'bootstrap_type': 'Bayesian', 'grow_policy': 'Lossguide', 'learning_rate': 0.039095857664148526, 'l2_leaf_reg': 14.761416340764425, 'depth': 4, 'random_strength': 76.20483788637603, 'min_data_in_leaf': 41, 'bagging_temperature': 43.28313192424586, 'max_leaves': 122}. Best is trial 229 with value: 0.3124486186645064.\n"
     ]
    },
    {
     "name": "stdout",
     "output_type": "stream",
     "text": [
      "Repeat \u001b[1m\u001b[34m#1\n",
      "Repeat \u001b[1m\u001b[34m#2\n",
      "Repeat \u001b[1m\u001b[34m#3\n"
     ]
    },
    {
     "name": "stderr",
     "output_type": "stream",
     "text": [
      "[I 2023-06-22 01:13:36,285] Trial 277 finished with value: 0.32154294908245973 and parameters: {'bootstrap_type': 'Bayesian', 'grow_policy': 'Lossguide', 'learning_rate': 0.04040509759666705, 'l2_leaf_reg': 15.78411039843285, 'depth': 4, 'random_strength': 75.77068366563482, 'min_data_in_leaf': 40, 'bagging_temperature': 43.3279139377616, 'max_leaves': 126}. Best is trial 229 with value: 0.3124486186645064.\n"
     ]
    },
    {
     "name": "stdout",
     "output_type": "stream",
     "text": [
      "Repeat \u001b[1m\u001b[34m#1\n",
      "Repeat \u001b[1m\u001b[34m#2\n",
      "Repeat \u001b[1m\u001b[34m#3\n"
     ]
    },
    {
     "name": "stderr",
     "output_type": "stream",
     "text": [
      "[I 2023-06-22 01:14:02,941] Trial 278 finished with value: 0.33198505997122135 and parameters: {'bootstrap_type': 'Bayesian', 'grow_policy': 'Lossguide', 'learning_rate': 0.043377417849804936, 'l2_leaf_reg': 31.09327261838338, 'depth': 4, 'random_strength': 72.3129029773458, 'min_data_in_leaf': 42, 'bagging_temperature': 42.80241749425399, 'max_leaves': 122}. Best is trial 229 with value: 0.3124486186645064.\n"
     ]
    },
    {
     "name": "stdout",
     "output_type": "stream",
     "text": [
      "Repeat \u001b[1m\u001b[34m#1\n",
      "Repeat \u001b[1m\u001b[34m#2\n",
      "Repeat \u001b[1m\u001b[34m#3\n"
     ]
    },
    {
     "name": "stderr",
     "output_type": "stream",
     "text": [
      "[I 2023-06-22 01:14:18,535] Trial 279 finished with value: 0.34341124188616706 and parameters: {'bootstrap_type': 'Bayesian', 'grow_policy': 'Lossguide', 'learning_rate': 0.037078296355654045, 'l2_leaf_reg': 0.045015245672940185, 'depth': 4, 'random_strength': 74.13827026564074, 'min_data_in_leaf': 39, 'bagging_temperature': 44.52743779568462, 'max_leaves': 124}. Best is trial 229 with value: 0.3124486186645064.\n"
     ]
    },
    {
     "name": "stdout",
     "output_type": "stream",
     "text": [
      "Repeat \u001b[1m\u001b[34m#1\n",
      "Repeat \u001b[1m\u001b[34m#2\n",
      "Repeat \u001b[1m\u001b[34m#3\n"
     ]
    },
    {
     "name": "stderr",
     "output_type": "stream",
     "text": [
      "[I 2023-06-22 01:14:38,475] Trial 280 finished with value: 0.33325925826928854 and parameters: {'bootstrap_type': 'Bayesian', 'grow_policy': 'Depthwise', 'learning_rate': 0.04783514088134582, 'l2_leaf_reg': 11.749084570483715, 'depth': 4, 'random_strength': 69.65338039420017, 'min_data_in_leaf': 37, 'bagging_temperature': 41.07393700792259}. Best is trial 229 with value: 0.3124486186645064.\n"
     ]
    },
    {
     "name": "stdout",
     "output_type": "stream",
     "text": [
      "Repeat \u001b[1m\u001b[34m#1\n",
      "Repeat \u001b[1m\u001b[34m#2\n",
      "Repeat \u001b[1m\u001b[34m#3\n"
     ]
    },
    {
     "name": "stderr",
     "output_type": "stream",
     "text": [
      "[I 2023-06-22 01:14:56,482] Trial 281 finished with value: 0.32002395661314037 and parameters: {'bootstrap_type': 'Bayesian', 'grow_policy': 'Lossguide', 'learning_rate': 0.06694652885103483, 'l2_leaf_reg': 22.729672821399532, 'depth': 4, 'random_strength': 1.533019600322291, 'min_data_in_leaf': 41, 'bagging_temperature': 45.54471501666869, 'max_leaves': 115}. Best is trial 229 with value: 0.3124486186645064.\n"
     ]
    },
    {
     "name": "stdout",
     "output_type": "stream",
     "text": [
      "Repeat \u001b[1m\u001b[34m#1\n",
      "Repeat \u001b[1m\u001b[34m#2\n",
      "Repeat \u001b[1m\u001b[34m#3\n"
     ]
    },
    {
     "name": "stderr",
     "output_type": "stream",
     "text": [
      "[I 2023-06-22 01:15:12,823] Trial 282 finished with value: 0.3266140190589469 and parameters: {'bootstrap_type': 'Bayesian', 'grow_policy': 'Lossguide', 'learning_rate': 0.0664786756538281, 'l2_leaf_reg': 28.104495908373377, 'depth': 4, 'random_strength': 48.72551041444979, 'min_data_in_leaf': 64, 'bagging_temperature': 47.48364670056326, 'max_leaves': 114}. Best is trial 229 with value: 0.3124486186645064.\n"
     ]
    },
    {
     "name": "stdout",
     "output_type": "stream",
     "text": [
      "Repeat \u001b[1m\u001b[34m#1\n",
      "Repeat \u001b[1m\u001b[34m#2\n",
      "Repeat \u001b[1m\u001b[34m#3\n"
     ]
    },
    {
     "name": "stderr",
     "output_type": "stream",
     "text": [
      "[I 2023-06-22 01:15:29,776] Trial 283 finished with value: 0.38123819670406484 and parameters: {'bootstrap_type': 'Bernoulli', 'grow_policy': 'SymmetricTree', 'learning_rate': 0.06463381844953528, 'l2_leaf_reg': 60.602455686810465, 'depth': 5, 'random_strength': 5.778684561324675, 'min_data_in_leaf': 38, 'subsample': 0.8197437100153506, 'colsample_bylevel': 0.7269468105487115, 'boosting_type': 'Plain'}. Best is trial 229 with value: 0.3124486186645064.\n"
     ]
    },
    {
     "name": "stdout",
     "output_type": "stream",
     "text": [
      "Repeat \u001b[1m\u001b[34m#1\n",
      "Repeat \u001b[1m\u001b[34m#2\n",
      "Repeat \u001b[1m\u001b[34m#3\n"
     ]
    },
    {
     "name": "stderr",
     "output_type": "stream",
     "text": [
      "[I 2023-06-22 01:15:38,198] Trial 284 finished with value: 0.41804495773830136 and parameters: {'bootstrap_type': 'Bayesian', 'grow_policy': 'Lossguide', 'learning_rate': 0.0705094049997024, 'l2_leaf_reg': 0.005865798704605382, 'depth': 4, 'random_strength': 24.162257100238993, 'min_data_in_leaf': 8, 'bagging_temperature': 39.354479470536944, 'max_leaves': 110}. Best is trial 229 with value: 0.3124486186645064.\n"
     ]
    },
    {
     "name": "stdout",
     "output_type": "stream",
     "text": [
      "Repeat \u001b[1m\u001b[34m#1\n",
      "Repeat \u001b[1m\u001b[34m#2\n",
      "Repeat \u001b[1m\u001b[34m#3\n"
     ]
    },
    {
     "name": "stderr",
     "output_type": "stream",
     "text": [
      "[I 2023-06-22 01:15:53,641] Trial 285 finished with value: 0.3339312359881465 and parameters: {'bootstrap_type': 'Bayesian', 'grow_policy': 'Depthwise', 'learning_rate': 0.08073729870246445, 'l2_leaf_reg': 20.08218674115932, 'depth': 4, 'random_strength': 67.00165109945816, 'min_data_in_leaf': 44, 'bagging_temperature': 33.08004897352428}. Best is trial 229 with value: 0.3124486186645064.\n"
     ]
    },
    {
     "name": "stdout",
     "output_type": "stream",
     "text": [
      "Repeat \u001b[1m\u001b[34m#1\n",
      "Repeat \u001b[1m\u001b[34m#2\n",
      "Repeat \u001b[1m\u001b[34m#3\n"
     ]
    },
    {
     "name": "stderr",
     "output_type": "stream",
     "text": [
      "[I 2023-06-22 01:15:58,785] Trial 286 finished with value: 0.3857650922089224 and parameters: {'bootstrap_type': 'No', 'grow_policy': 'Lossguide', 'learning_rate': 0.05641002875091625, 'l2_leaf_reg': 0.04985271626879767, 'depth': 4, 'random_strength': 42.72834017393314, 'min_data_in_leaf': 35, 'colsample_bylevel': 0.5394273545637551, 'max_leaves': 71}. Best is trial 229 with value: 0.3124486186645064.\n"
     ]
    },
    {
     "name": "stdout",
     "output_type": "stream",
     "text": [
      "Repeat \u001b[1m\u001b[34m#1\n",
      "Repeat \u001b[1m\u001b[34m#2\n",
      "Repeat \u001b[1m\u001b[34m#3\n"
     ]
    },
    {
     "name": "stderr",
     "output_type": "stream",
     "text": [
      "[I 2023-06-22 01:16:28,095] Trial 287 finished with value: 0.3203391932824724 and parameters: {'bootstrap_type': 'Bayesian', 'grow_policy': 'Lossguide', 'learning_rate': 0.0870041351588025, 'l2_leaf_reg': 99.8082626788526, 'depth': 4, 'random_strength': 55.829616121651604, 'min_data_in_leaf': 32, 'bagging_temperature': 45.65444582563174, 'max_leaves': 117}. Best is trial 229 with value: 0.3124486186645064.\n"
     ]
    },
    {
     "name": "stdout",
     "output_type": "stream",
     "text": [
      "Repeat \u001b[1m\u001b[34m#1\n",
      "Repeat \u001b[1m\u001b[34m#2\n",
      "Repeat \u001b[1m\u001b[34m#3\n"
     ]
    },
    {
     "name": "stderr",
     "output_type": "stream",
     "text": [
      "[I 2023-06-22 01:16:50,456] Trial 288 finished with value: 0.34746063319431175 and parameters: {'bootstrap_type': 'Bayesian', 'grow_policy': 'Lossguide', 'learning_rate': 0.08544647857505666, 'l2_leaf_reg': 92.27433845543129, 'depth': 4, 'random_strength': 54.34865882288434, 'min_data_in_leaf': 31, 'bagging_temperature': 49.55086392127902, 'max_leaves': 118}. Best is trial 229 with value: 0.3124486186645064.\n"
     ]
    },
    {
     "name": "stdout",
     "output_type": "stream",
     "text": [
      "Repeat \u001b[1m\u001b[34m#1\n",
      "Repeat \u001b[1m\u001b[34m#2\n",
      "Repeat \u001b[1m\u001b[34m#3\n"
     ]
    },
    {
     "name": "stderr",
     "output_type": "stream",
     "text": [
      "[I 2023-06-22 01:17:00,248] Trial 289 finished with value: 0.33347207575705173 and parameters: {'bootstrap_type': 'Bayesian', 'grow_policy': 'Lossguide', 'learning_rate': 0.09172748528567536, 'l2_leaf_reg': 0.9083108368432601, 'depth': 4, 'random_strength': 59.38891886864374, 'min_data_in_leaf': 32, 'bagging_temperature': 45.610968137556185, 'max_leaves': 116}. Best is trial 229 with value: 0.3124486186645064.\n"
     ]
    },
    {
     "name": "stdout",
     "output_type": "stream",
     "text": [
      "Repeat \u001b[1m\u001b[34m#1\n",
      "Repeat \u001b[1m\u001b[34m#2\n",
      "Repeat \u001b[1m\u001b[34m#3\n"
     ]
    },
    {
     "name": "stderr",
     "output_type": "stream",
     "text": [
      "[I 2023-06-22 01:17:22,606] Trial 290 finished with value: 0.32962334298393925 and parameters: {'bootstrap_type': 'Bayesian', 'grow_policy': 'Lossguide', 'learning_rate': 0.07547634188169403, 'l2_leaf_reg': 53.929683907415146, 'depth': 4, 'random_strength': 55.21512400497673, 'min_data_in_leaf': 30, 'bagging_temperature': 47.392611433938136, 'max_leaves': 112}. Best is trial 229 with value: 0.3124486186645064.\n"
     ]
    },
    {
     "name": "stdout",
     "output_type": "stream",
     "text": [
      "Repeat \u001b[1m\u001b[34m#1\n",
      "Repeat \u001b[1m\u001b[34m#2\n",
      "Repeat \u001b[1m\u001b[34m#3\n"
     ]
    },
    {
     "name": "stderr",
     "output_type": "stream",
     "text": [
      "[I 2023-06-22 01:17:34,028] Trial 291 finished with value: 0.32934938111908446 and parameters: {'bootstrap_type': 'Bayesian', 'grow_policy': 'Lossguide', 'learning_rate': 0.07341532199417797, 'l2_leaf_reg': 2.5900669822237106, 'depth': 4, 'random_strength': 40.613164543883535, 'min_data_in_leaf': 33, 'bagging_temperature': 45.04379558368, 'max_leaves': 115}. Best is trial 229 with value: 0.3124486186645064.\n"
     ]
    },
    {
     "name": "stdout",
     "output_type": "stream",
     "text": [
      "Repeat \u001b[1m\u001b[34m#1\n",
      "Repeat \u001b[1m\u001b[34m#2\n",
      "Repeat \u001b[1m\u001b[34m#3\n"
     ]
    },
    {
     "name": "stderr",
     "output_type": "stream",
     "text": [
      "[I 2023-06-22 01:17:46,953] Trial 292 finished with value: 0.33246975761731573 and parameters: {'bootstrap_type': 'Bayesian', 'grow_policy': 'Lossguide', 'learning_rate': 0.0609089070032089, 'l2_leaf_reg': 0.6382397209938961, 'depth': 4, 'random_strength': 45.50060884248265, 'min_data_in_leaf': 36, 'bagging_temperature': 46.204038669991704, 'max_leaves': 64}. Best is trial 229 with value: 0.3124486186645064.\n"
     ]
    },
    {
     "name": "stdout",
     "output_type": "stream",
     "text": [
      "Repeat \u001b[1m\u001b[34m#1\n",
      "Repeat \u001b[1m\u001b[34m#2\n",
      "Repeat \u001b[1m\u001b[34m#3\n"
     ]
    },
    {
     "name": "stderr",
     "output_type": "stream",
     "text": [
      "[I 2023-06-22 01:18:09,653] Trial 293 finished with value: 0.3204886388313122 and parameters: {'bootstrap_type': 'Bayesian', 'grow_policy': 'Lossguide', 'learning_rate': 0.1064092229524844, 'l2_leaf_reg': 99.68918706361085, 'depth': 4, 'random_strength': 15.733169535290294, 'min_data_in_leaf': 46, 'bagging_temperature': 42.240179281756305, 'max_leaves': 119}. Best is trial 229 with value: 0.3124486186645064.\n"
     ]
    },
    {
     "name": "stdout",
     "output_type": "stream",
     "text": [
      "Repeat \u001b[1m\u001b[34m#1\n",
      "Repeat \u001b[1m\u001b[34m#2\n",
      "Repeat \u001b[1m\u001b[34m#3\n"
     ]
    },
    {
     "name": "stderr",
     "output_type": "stream",
     "text": [
      "[I 2023-06-22 01:18:31,026] Trial 294 finished with value: 0.33151648571640724 and parameters: {'bootstrap_type': 'Bayesian', 'grow_policy': 'Lossguide', 'learning_rate': 0.11538749962837935, 'l2_leaf_reg': 58.26830237858211, 'depth': 4, 'random_strength': 14.782600119951526, 'min_data_in_leaf': 26, 'bagging_temperature': 41.93427393450486, 'max_leaves': 120}. Best is trial 229 with value: 0.3124486186645064.\n"
     ]
    },
    {
     "name": "stdout",
     "output_type": "stream",
     "text": [
      "Repeat \u001b[1m\u001b[34m#1\n",
      "Repeat \u001b[1m\u001b[34m#2\n",
      "Repeat \u001b[1m\u001b[34m#3\n"
     ]
    },
    {
     "name": "stderr",
     "output_type": "stream",
     "text": [
      "[I 2023-06-22 01:18:39,177] Trial 295 finished with value: 0.3865871976245722 and parameters: {'bootstrap_type': 'MVS', 'grow_policy': 'Lossguide', 'learning_rate': 0.10505381237497084, 'l2_leaf_reg': 98.310630785634, 'depth': 4, 'random_strength': 23.201276246721825, 'min_data_in_leaf': 29, 'subsample': 0.9549874114174635, 'colsample_bylevel': 0.6245936457297698, 'max_leaves': 118}. Best is trial 229 with value: 0.3124486186645064.\n"
     ]
    },
    {
     "name": "stdout",
     "output_type": "stream",
     "text": [
      "Repeat \u001b[1m\u001b[34m#1\n",
      "Repeat \u001b[1m\u001b[34m#2\n",
      "Repeat \u001b[1m\u001b[34m#3\n"
     ]
    },
    {
     "name": "stderr",
     "output_type": "stream",
     "text": [
      "[I 2023-06-22 01:18:58,628] Trial 296 finished with value: 0.3311876282906952 and parameters: {'bootstrap_type': 'Bayesian', 'grow_policy': 'Lossguide', 'learning_rate': 0.09787019365208326, 'l2_leaf_reg': 89.6607191380223, 'depth': 4, 'random_strength': 55.008427832335464, 'min_data_in_leaf': 34, 'bagging_temperature': 48.09528798673538, 'max_leaves': 116}. Best is trial 229 with value: 0.3124486186645064.\n"
     ]
    },
    {
     "name": "stdout",
     "output_type": "stream",
     "text": [
      "Repeat \u001b[1m\u001b[34m#1\n",
      "Repeat \u001b[1m\u001b[34m#2\n",
      "Repeat \u001b[1m\u001b[34m#3\n"
     ]
    },
    {
     "name": "stderr",
     "output_type": "stream",
     "text": [
      "[I 2023-06-22 01:19:14,195] Trial 297 finished with value: 0.31831553159689613 and parameters: {'bootstrap_type': 'Bayesian', 'grow_policy': 'Lossguide', 'learning_rate': 0.09151631670785652, 'l2_leaf_reg': 39.74411582547888, 'depth': 4, 'random_strength': 21.20454600665735, 'min_data_in_leaf': 61, 'bagging_temperature': 19.252130625701636, 'max_leaves': 47}. Best is trial 229 with value: 0.3124486186645064.\n"
     ]
    },
    {
     "name": "stdout",
     "output_type": "stream",
     "text": [
      "Repeat \u001b[1m\u001b[34m#1\n",
      "Repeat \u001b[1m\u001b[34m#2\n",
      "Repeat \u001b[1m\u001b[34m#3\n"
     ]
    },
    {
     "name": "stderr",
     "output_type": "stream",
     "text": [
      "[I 2023-06-22 01:19:27,546] Trial 298 finished with value: 0.3443822795495087 and parameters: {'bootstrap_type': 'Bayesian', 'grow_policy': 'Lossguide', 'learning_rate': 0.09258532673312707, 'l2_leaf_reg': 38.184455382488736, 'depth': 4, 'random_strength': 57.74299553537418, 'min_data_in_leaf': 43, 'bagging_temperature': 13.708627029137538, 'max_leaves': 52}. Best is trial 229 with value: 0.3124486186645064.\n"
     ]
    },
    {
     "name": "stdout",
     "output_type": "stream",
     "text": [
      "Repeat \u001b[1m\u001b[34m#1\n",
      "Repeat \u001b[1m\u001b[34m#2\n",
      "Repeat \u001b[1m\u001b[34m#3\n"
     ]
    },
    {
     "name": "stderr",
     "output_type": "stream",
     "text": [
      "[I 2023-06-22 01:19:41,822] Trial 299 finished with value: 0.335567615271852 and parameters: {'bootstrap_type': 'Bayesian', 'grow_policy': 'Lossguide', 'learning_rate': 0.08897135990764837, 'l2_leaf_reg': 55.58558186738549, 'depth': 4, 'random_strength': 3.538381350761883, 'min_data_in_leaf': 81, 'bagging_temperature': 18.066371949389946, 'max_leaves': 47}. Best is trial 229 with value: 0.3124486186645064.\n"
     ]
    },
    {
     "name": "stdout",
     "output_type": "stream",
     "text": [
      "Repeat \u001b[1m\u001b[34m#1\n",
      "Repeat \u001b[1m\u001b[34m#2\n",
      "Repeat \u001b[1m\u001b[34m#3\n"
     ]
    },
    {
     "name": "stderr",
     "output_type": "stream",
     "text": [
      "[I 2023-06-22 01:20:03,192] Trial 300 finished with value: 0.32734516140007747 and parameters: {'bootstrap_type': 'Bayesian', 'grow_policy': 'Lossguide', 'learning_rate': 0.10469412454515727, 'l2_leaf_reg': 93.0541957424174, 'depth': 4, 'random_strength': 26.866762119004164, 'min_data_in_leaf': 46, 'bagging_temperature': 20.765403105161408, 'max_leaves': 44}. Best is trial 229 with value: 0.3124486186645064.\n"
     ]
    },
    {
     "name": "stdout",
     "output_type": "stream",
     "text": [
      "Repeat \u001b[1m\u001b[34m#1\n",
      "Repeat \u001b[1m\u001b[34m#2\n",
      "Repeat \u001b[1m\u001b[34m#3\n"
     ]
    },
    {
     "name": "stderr",
     "output_type": "stream",
     "text": [
      "[I 2023-06-22 01:20:17,653] Trial 301 finished with value: 0.33167345338881493 and parameters: {'bootstrap_type': 'Bayesian', 'grow_policy': 'Lossguide', 'learning_rate': 0.1285539135293201, 'l2_leaf_reg': 34.104834583496505, 'depth': 4, 'random_strength': 16.285202623816314, 'min_data_in_leaf': 41, 'bagging_temperature': 24.133954266977156, 'max_leaves': 124}. Best is trial 229 with value: 0.3124486186645064.\n"
     ]
    },
    {
     "name": "stdout",
     "output_type": "stream",
     "text": [
      "Repeat \u001b[1m\u001b[34m#1\n",
      "Repeat \u001b[1m\u001b[34m#2\n",
      "Repeat \u001b[1m\u001b[34m#3\n"
     ]
    },
    {
     "name": "stderr",
     "output_type": "stream",
     "text": [
      "[I 2023-06-22 01:20:30,049] Trial 302 finished with value: 0.33378069494451185 and parameters: {'bootstrap_type': 'Bayesian', 'grow_policy': 'Lossguide', 'learning_rate': 0.11295785939314115, 'l2_leaf_reg': 9.628010254439584, 'depth': 4, 'random_strength': 18.97171870366988, 'min_data_in_leaf': 37, 'bagging_temperature': 37.68567036247426, 'max_leaves': 55}. Best is trial 229 with value: 0.3124486186645064.\n"
     ]
    },
    {
     "name": "stdout",
     "output_type": "stream",
     "text": [
      "Repeat \u001b[1m\u001b[34m#1\n",
      "Repeat \u001b[1m\u001b[34m#2\n",
      "Repeat \u001b[1m\u001b[34m#3\n"
     ]
    },
    {
     "name": "stderr",
     "output_type": "stream",
     "text": [
      "[I 2023-06-22 01:20:48,275] Trial 303 finished with value: 0.3418333264106326 and parameters: {'bootstrap_type': 'Bayesian', 'grow_policy': 'Lossguide', 'learning_rate': 0.10174514059534903, 'l2_leaf_reg': 56.501505697745, 'depth': 4, 'random_strength': 4.561686085146864, 'min_data_in_leaf': 50, 'bagging_temperature': 26.303830493049585, 'max_leaves': 113}. Best is trial 229 with value: 0.3124486186645064.\n"
     ]
    },
    {
     "name": "stdout",
     "output_type": "stream",
     "text": [
      "Repeat \u001b[1m\u001b[34m#1\n",
      "Repeat \u001b[1m\u001b[34m#2\n",
      "Repeat \u001b[1m\u001b[34m#3\n"
     ]
    },
    {
     "name": "stderr",
     "output_type": "stream",
     "text": [
      "[I 2023-06-22 01:21:25,797] Trial 304 finished with value: 0.35372685995921177 and parameters: {'bootstrap_type': 'Bayesian', 'grow_policy': 'Lossguide', 'learning_rate': 0.07870674813291466, 'l2_leaf_reg': 28.155156512628206, 'depth': 6, 'random_strength': 9.738079365676086, 'min_data_in_leaf': 21, 'bagging_temperature': 21.056099714636275, 'max_leaves': 42}. Best is trial 229 with value: 0.3124486186645064.\n"
     ]
    },
    {
     "name": "stdout",
     "output_type": "stream",
     "text": [
      "Repeat \u001b[1m\u001b[34m#1\n",
      "Repeat \u001b[1m\u001b[34m#2\n",
      "Repeat \u001b[1m\u001b[34m#3\n"
     ]
    },
    {
     "name": "stderr",
     "output_type": "stream",
     "text": [
      "[I 2023-06-22 01:22:14,135] Trial 305 finished with value: 0.33603502713200745 and parameters: {'bootstrap_type': 'Bayesian', 'grow_policy': 'Lossguide', 'learning_rate': 0.007935305413690951, 'l2_leaf_reg': 6.094252332169008, 'depth': 4, 'random_strength': 7.232876538855288, 'min_data_in_leaf': 33, 'bagging_temperature': 23.543955653767487, 'max_leaves': 120}. Best is trial 229 with value: 0.3124486186645064.\n"
     ]
    },
    {
     "name": "stdout",
     "output_type": "stream",
     "text": [
      "Repeat \u001b[1m\u001b[34m#1\n",
      "Repeat \u001b[1m\u001b[34m#2\n",
      "Repeat \u001b[1m\u001b[34m#3\n"
     ]
    },
    {
     "name": "stderr",
     "output_type": "stream",
     "text": [
      "[I 2023-06-22 01:22:20,048] Trial 306 finished with value: 0.35156579367497204 and parameters: {'bootstrap_type': 'Bayesian', 'grow_policy': 'Lossguide', 'learning_rate': 0.12106271710758604, 'l2_leaf_reg': 3.684109308839085, 'depth': 4, 'random_strength': 0.5647965866912307, 'min_data_in_leaf': 39, 'bagging_temperature': 9.940919618369431, 'max_leaves': 48}. Best is trial 229 with value: 0.3124486186645064.\n"
     ]
    },
    {
     "name": "stdout",
     "output_type": "stream",
     "text": [
      "Repeat \u001b[1m\u001b[34m#1\n",
      "Repeat \u001b[1m\u001b[34m#2\n",
      "Repeat \u001b[1m\u001b[34m#3\n"
     ]
    },
    {
     "name": "stderr",
     "output_type": "stream",
     "text": [
      "[I 2023-06-22 01:23:02,592] Trial 307 finished with value: 0.5939020114439679 and parameters: {'bootstrap_type': 'Bayesian', 'grow_policy': 'Lossguide', 'learning_rate': 0.001020558827877984, 'l2_leaf_reg': 42.56288843070955, 'depth': 4, 'random_strength': 12.731615482873012, 'min_data_in_leaf': 75, 'bagging_temperature': 27.89204762708286, 'max_leaves': 117}. Best is trial 229 with value: 0.3124486186645064.\n"
     ]
    },
    {
     "name": "stdout",
     "output_type": "stream",
     "text": [
      "Repeat \u001b[1m\u001b[34m#1\n",
      "Repeat \u001b[1m\u001b[34m#2\n",
      "Repeat \u001b[1m\u001b[34m#3\n"
     ]
    },
    {
     "name": "stderr",
     "output_type": "stream",
     "text": [
      "[I 2023-06-22 01:23:08,467] Trial 308 finished with value: 0.3656929477295961 and parameters: {'bootstrap_type': 'Bayesian', 'grow_policy': 'Lossguide', 'learning_rate': 0.0868237690019619, 'l2_leaf_reg': 5.985889265554885e-05, 'depth': 4, 'random_strength': 9.924846452697626, 'min_data_in_leaf': 91, 'bagging_temperature': 40.610723065938295, 'max_leaves': 115}. Best is trial 229 with value: 0.3124486186645064.\n"
     ]
    },
    {
     "name": "stdout",
     "output_type": "stream",
     "text": [
      "Repeat \u001b[1m\u001b[34m#1\n",
      "Repeat \u001b[1m\u001b[34m#2\n",
      "Repeat \u001b[1m\u001b[34m#3\n"
     ]
    },
    {
     "name": "stderr",
     "output_type": "stream",
     "text": [
      "[I 2023-06-22 01:23:31,839] Trial 309 finished with value: 0.3308134827774643 and parameters: {'bootstrap_type': 'Bayesian', 'grow_policy': 'Lossguide', 'learning_rate': 0.04959838680351557, 'l2_leaf_reg': 22.623662556016946, 'depth': 4, 'random_strength': 1.7085551470742253, 'min_data_in_leaf': 28, 'bagging_temperature': 30.21343987229195, 'max_leaves': 110}. Best is trial 229 with value: 0.3124486186645064.\n"
     ]
    },
    {
     "name": "stdout",
     "output_type": "stream",
     "text": [
      "Repeat \u001b[1m\u001b[34m#1\n",
      "Repeat \u001b[1m\u001b[34m#2\n",
      "Repeat \u001b[1m\u001b[34m#3\n"
     ]
    },
    {
     "name": "stderr",
     "output_type": "stream",
     "text": [
      "[I 2023-06-22 01:23:44,173] Trial 310 finished with value: 0.3746174351708049 and parameters: {'bootstrap_type': 'Bernoulli', 'grow_policy': 'Lossguide', 'learning_rate': 0.020365764172494066, 'l2_leaf_reg': 9.358462158479416, 'depth': 4, 'random_strength': 18.144480498622595, 'min_data_in_leaf': 35, 'subsample': 0.7793309141085774, 'colsample_bylevel': 0.5976096588483119, 'max_leaves': 120}. Best is trial 229 with value: 0.3124486186645064.\n"
     ]
    },
    {
     "name": "stdout",
     "output_type": "stream",
     "text": [
      "Repeat \u001b[1m\u001b[34m#1\n",
      "Repeat \u001b[1m\u001b[34m#2\n",
      "Repeat \u001b[1m\u001b[34m#3\n"
     ]
    },
    {
     "name": "stderr",
     "output_type": "stream",
     "text": [
      "[I 2023-06-22 01:24:25,148] Trial 311 finished with value: 0.33377905618733145 and parameters: {'bootstrap_type': 'Bayesian', 'grow_policy': 'Lossguide', 'learning_rate': 0.03259352996774418, 'l2_leaf_reg': 99.04491919592718, 'depth': 4, 'random_strength': 12.45931370389809, 'min_data_in_leaf': 44, 'bagging_temperature': 20.458406214664024, 'max_leaves': 122}. Best is trial 229 with value: 0.3124486186645064.\n"
     ]
    },
    {
     "name": "stdout",
     "output_type": "stream",
     "text": [
      "Repeat \u001b[1m\u001b[34m#1\n",
      "Repeat \u001b[1m\u001b[34m#2\n",
      "Repeat \u001b[1m\u001b[34m#3\n"
     ]
    },
    {
     "name": "stderr",
     "output_type": "stream",
     "text": [
      "[I 2023-06-22 01:24:36,195] Trial 312 finished with value: 0.3325478305101779 and parameters: {'bootstrap_type': 'Bayesian', 'grow_policy': 'Lossguide', 'learning_rate': 0.09549872724674595, 'l2_leaf_reg': 4.840954227728471, 'depth': 4, 'random_strength': 20.91864141377306, 'min_data_in_leaf': 24, 'bagging_temperature': 25.915126597992028, 'max_leaves': 50}. Best is trial 229 with value: 0.3124486186645064.\n"
     ]
    },
    {
     "name": "stdout",
     "output_type": "stream",
     "text": [
      "Repeat \u001b[1m\u001b[34m#1\n",
      "Repeat \u001b[1m\u001b[34m#2\n",
      "Repeat \u001b[1m\u001b[34m#3\n"
     ]
    },
    {
     "name": "stderr",
     "output_type": "stream",
     "text": [
      "[I 2023-06-22 01:24:49,552] Trial 313 finished with value: 0.33142972461199455 and parameters: {'bootstrap_type': 'Bayesian', 'grow_policy': 'Lossguide', 'learning_rate': 0.044668701879370026, 'l2_leaf_reg': 1.5313764745403624, 'depth': 4, 'random_strength': 8.368492304149555, 'min_data_in_leaf': 42, 'bagging_temperature': 18.13516312702781, 'max_leaves': 59}. Best is trial 229 with value: 0.3124486186645064.\n"
     ]
    },
    {
     "name": "stdout",
     "output_type": "stream",
     "text": [
      "Repeat \u001b[1m\u001b[34m#1\n",
      "Repeat \u001b[1m\u001b[34m#2\n",
      "Repeat \u001b[1m\u001b[34m#3\n"
     ]
    },
    {
     "name": "stderr",
     "output_type": "stream",
     "text": [
      "[I 2023-06-22 01:24:54,833] Trial 314 finished with value: 0.3777572938491553 and parameters: {'bootstrap_type': 'No', 'grow_policy': 'Lossguide', 'learning_rate': 0.07901952584933837, 'l2_leaf_reg': 15.762470518917006, 'depth': 4, 'random_strength': 27.183445760536397, 'min_data_in_leaf': 54, 'colsample_bylevel': 0.4888992772429423, 'max_leaves': 126}. Best is trial 229 with value: 0.3124486186645064.\n"
     ]
    },
    {
     "name": "stdout",
     "output_type": "stream",
     "text": [
      "Repeat \u001b[1m\u001b[34m#1\n",
      "Repeat \u001b[1m\u001b[34m#2\n",
      "Repeat \u001b[1m\u001b[34m#3\n"
     ]
    },
    {
     "name": "stderr",
     "output_type": "stream",
     "text": [
      "[I 2023-06-22 01:25:47,696] Trial 315 finished with value: 0.37913849839436775 and parameters: {'bootstrap_type': 'Bayesian', 'grow_policy': 'SymmetricTree', 'learning_rate': 0.05247985114941972, 'l2_leaf_reg': 7.685949399794861, 'depth': 4, 'random_strength': 6.61704031207036, 'min_data_in_leaf': 37, 'bagging_temperature': 16.013929930108908, 'boosting_type': 'Ordered'}. Best is trial 229 with value: 0.3124486186645064.\n"
     ]
    },
    {
     "name": "stdout",
     "output_type": "stream",
     "text": [
      "Repeat \u001b[1m\u001b[34m#1\n",
      "Repeat \u001b[1m\u001b[34m#2\n",
      "Repeat \u001b[1m\u001b[34m#3\n"
     ]
    },
    {
     "name": "stderr",
     "output_type": "stream",
     "text": [
      "[I 2023-06-22 01:26:37,622] Trial 316 finished with value: 0.40567527150644467 and parameters: {'bootstrap_type': 'Bayesian', 'grow_policy': 'Lossguide', 'learning_rate': 0.002767368251804297, 'l2_leaf_reg': 2.867839573784364, 'depth': 4, 'random_strength': 35.8025396674966, 'min_data_in_leaf': 46, 'bagging_temperature': 35.69202914347343, 'max_leaves': 112}. Best is trial 229 with value: 0.3124486186645064.\n"
     ]
    },
    {
     "name": "stdout",
     "output_type": "stream",
     "text": [
      "Repeat \u001b[1m\u001b[34m#1\n",
      "Repeat \u001b[1m\u001b[34m#2\n",
      "Repeat \u001b[1m\u001b[34m#3\n"
     ]
    },
    {
     "name": "stderr",
     "output_type": "stream",
     "text": [
      "[I 2023-06-22 01:26:59,346] Trial 317 finished with value: 0.3152298101445746 and parameters: {'bootstrap_type': 'Bayesian', 'grow_policy': 'Lossguide', 'learning_rate': 0.06688779145685832, 'l2_leaf_reg': 31.090779048136675, 'depth': 4, 'random_strength': 61.2357038471535, 'min_data_in_leaf': 40, 'bagging_temperature': 43.84262105941892, 'max_leaves': 46}. Best is trial 229 with value: 0.3124486186645064.\n"
     ]
    },
    {
     "name": "stdout",
     "output_type": "stream",
     "text": [
      "Repeat \u001b[1m\u001b[34m#1\n",
      "Repeat \u001b[1m\u001b[34m#2\n",
      "Repeat \u001b[1m\u001b[34m#3\n"
     ]
    },
    {
     "name": "stderr",
     "output_type": "stream",
     "text": [
      "[I 2023-06-22 01:27:19,373] Trial 318 finished with value: 0.3314423518541793 and parameters: {'bootstrap_type': 'Bayesian', 'grow_policy': 'Lossguide', 'learning_rate': 0.06668846535104798, 'l2_leaf_reg': 37.42728540782449, 'depth': 4, 'random_strength': 10.03806769986716, 'min_data_in_leaf': 41, 'bagging_temperature': 44.0782365861218, 'max_leaves': 43}. Best is trial 229 with value: 0.3124486186645064.\n"
     ]
    },
    {
     "name": "stdout",
     "output_type": "stream",
     "text": [
      "Repeat \u001b[1m\u001b[34m#1\n",
      "Repeat \u001b[1m\u001b[34m#2\n",
      "Repeat \u001b[1m\u001b[34m#3\n"
     ]
    },
    {
     "name": "stderr",
     "output_type": "stream",
     "text": [
      "[I 2023-06-22 01:27:55,514] Trial 319 finished with value: 0.3370326475983032 and parameters: {'bootstrap_type': 'Bayesian', 'grow_policy': 'Lossguide', 'learning_rate': 0.06432026977332263, 'l2_leaf_reg': 63.81707270218168, 'depth': 5, 'random_strength': 2.932489549650457, 'min_data_in_leaf': 40, 'bagging_temperature': 45.56506446495844, 'max_leaves': 46}. Best is trial 229 with value: 0.3124486186645064.\n"
     ]
    },
    {
     "name": "stdout",
     "output_type": "stream",
     "text": [
      "Repeat \u001b[1m\u001b[34m#1\n",
      "Repeat \u001b[1m\u001b[34m#2\n",
      "Repeat \u001b[1m\u001b[34m#3\n"
     ]
    },
    {
     "name": "stderr",
     "output_type": "stream",
     "text": [
      "[I 2023-06-22 01:28:18,424] Trial 320 finished with value: 0.32392275664570347 and parameters: {'bootstrap_type': 'Bayesian', 'grow_policy': 'Lossguide', 'learning_rate': 0.055647156687883614, 'l2_leaf_reg': 24.75203847364395, 'depth': 4, 'random_strength': 0.7580706739660803, 'min_data_in_leaf': 44, 'bagging_temperature': 43.1444577773352, 'max_leaves': 91}. Best is trial 229 with value: 0.3124486186645064.\n"
     ]
    },
    {
     "name": "stdout",
     "output_type": "stream",
     "text": [
      "Repeat \u001b[1m\u001b[34m#1\n",
      "Repeat \u001b[1m\u001b[34m#2\n",
      "Repeat \u001b[1m\u001b[34m#3\n"
     ]
    },
    {
     "name": "stderr",
     "output_type": "stream",
     "text": [
      "[I 2023-06-22 01:28:25,264] Trial 321 finished with value: 0.37508240257423114 and parameters: {'bootstrap_type': 'MVS', 'grow_policy': 'Lossguide', 'learning_rate': 0.07182753056650269, 'l2_leaf_reg': 37.463342555810215, 'depth': 4, 'random_strength': 11.107414121108143, 'min_data_in_leaf': 49, 'subsample': 0.8572978579323373, 'colsample_bylevel': 0.6587016984198933, 'max_leaves': 50}. Best is trial 229 with value: 0.3124486186645064.\n"
     ]
    },
    {
     "name": "stdout",
     "output_type": "stream",
     "text": [
      "Repeat \u001b[1m\u001b[34m#1\n",
      "Repeat \u001b[1m\u001b[34m#2\n",
      "Repeat \u001b[1m\u001b[34m#3\n"
     ]
    },
    {
     "name": "stderr",
     "output_type": "stream",
     "text": [
      "[I 2023-06-22 01:28:40,863] Trial 322 finished with value: 0.3904744890443772 and parameters: {'bootstrap_type': 'Bayesian', 'grow_policy': 'Lossguide', 'learning_rate': 0.017374762537743973, 'l2_leaf_reg': 2.5616918082249312e-08, 'depth': 4, 'random_strength': 15.095616534243657, 'min_data_in_leaf': 39, 'bagging_temperature': 46.781100870664964, 'max_leaves': 39}. Best is trial 229 with value: 0.3124486186645064.\n"
     ]
    },
    {
     "name": "stdout",
     "output_type": "stream",
     "text": [
      "Repeat \u001b[1m\u001b[34m#1\n",
      "Repeat \u001b[1m\u001b[34m#2\n",
      "Repeat \u001b[1m\u001b[34m#3\n"
     ]
    },
    {
     "name": "stderr",
     "output_type": "stream",
     "text": [
      "[I 2023-06-22 01:28:47,714] Trial 323 finished with value: 0.47017712857334565 and parameters: {'bootstrap_type': 'Bayesian', 'grow_policy': 'Lossguide', 'learning_rate': 0.08140837770317638, 'l2_leaf_reg': 0.013780241945772294, 'depth': 8, 'random_strength': 62.24814681632561, 'min_data_in_leaf': 52, 'bagging_temperature': 0.40684858668543455, 'max_leaves': 45}. Best is trial 229 with value: 0.3124486186645064.\n"
     ]
    },
    {
     "name": "stdout",
     "output_type": "stream",
     "text": [
      "Repeat \u001b[1m\u001b[34m#1\n",
      "Repeat \u001b[1m\u001b[34m#2\n",
      "Repeat \u001b[1m\u001b[34m#3\n"
     ]
    },
    {
     "name": "stderr",
     "output_type": "stream",
     "text": [
      "[I 2023-06-22 01:28:58,470] Trial 324 finished with value: 0.35241612963078167 and parameters: {'bootstrap_type': 'Bayesian', 'grow_policy': 'Lossguide', 'learning_rate': 0.058633293620431536, 'l2_leaf_reg': 0.027644157388172788, 'depth': 4, 'random_strength': 13.383627062555384, 'min_data_in_leaf': 43, 'bagging_temperature': 41.59628943078199, 'max_leaves': 53}. Best is trial 229 with value: 0.3124486186645064.\n"
     ]
    },
    {
     "name": "stdout",
     "output_type": "stream",
     "text": [
      "Repeat \u001b[1m\u001b[34m#1\n",
      "Repeat \u001b[1m\u001b[34m#2\n",
      "Repeat \u001b[1m\u001b[34m#3\n"
     ]
    },
    {
     "name": "stderr",
     "output_type": "stream",
     "text": [
      "[I 2023-06-22 01:29:09,955] Trial 325 finished with value: 0.3388527839916855 and parameters: {'bootstrap_type': 'Bayesian', 'grow_policy': 'Lossguide', 'learning_rate': 0.10418233329455076, 'l2_leaf_reg': 20.41735423338618, 'depth': 4, 'random_strength': 2.259068520725741, 'min_data_in_leaf': 47, 'bagging_temperature': 40.12237734786036, 'max_leaves': 79}. Best is trial 229 with value: 0.3124486186645064.\n"
     ]
    },
    {
     "name": "stdout",
     "output_type": "stream",
     "text": [
      "Repeat \u001b[1m\u001b[34m#1\n",
      "Repeat \u001b[1m\u001b[34m#2\n",
      "Repeat \u001b[1m\u001b[34m#3\n"
     ]
    },
    {
     "name": "stderr",
     "output_type": "stream",
     "text": [
      "[I 2023-06-22 01:29:20,067] Trial 326 finished with value: 0.341309083845214 and parameters: {'bootstrap_type': 'Bayesian', 'grow_policy': 'Lossguide', 'learning_rate': 0.07015973114787784, 'l2_leaf_reg': 0.11972591542173978, 'depth': 4, 'random_strength': 33.41770753209376, 'min_data_in_leaf': 38, 'bagging_temperature': 42.48118652341644, 'max_leaves': 118}. Best is trial 229 with value: 0.3124486186645064.\n"
     ]
    },
    {
     "name": "stdout",
     "output_type": "stream",
     "text": [
      "Repeat \u001b[1m\u001b[34m#1\n",
      "Repeat \u001b[1m\u001b[34m#2\n",
      "Repeat \u001b[1m\u001b[34m#3\n"
     ]
    },
    {
     "name": "stderr",
     "output_type": "stream",
     "text": [
      "[I 2023-06-22 01:29:39,996] Trial 327 finished with value: 0.37763184068244615 and parameters: {'bootstrap_type': 'Bayesian', 'grow_policy': 'Lossguide', 'learning_rate': 0.0462534352135066, 'l2_leaf_reg': 52.56913401699716, 'depth': 4, 'random_strength': 52.20444563207909, 'min_data_in_leaf': 42, 'bagging_temperature': 51.452906935064654, 'max_leaves': 122}. Best is trial 229 with value: 0.3124486186645064.\n"
     ]
    },
    {
     "name": "stdout",
     "output_type": "stream",
     "text": [
      "Repeat \u001b[1m\u001b[34m#1\n",
      "Repeat \u001b[1m\u001b[34m#2\n",
      "Repeat \u001b[1m\u001b[34m#3\n"
     ]
    },
    {
     "name": "stderr",
     "output_type": "stream",
     "text": [
      "[I 2023-06-22 01:29:48,032] Trial 328 finished with value: 0.3549971120625656 and parameters: {'bootstrap_type': 'Bayesian', 'grow_policy': 'Lossguide', 'learning_rate': 0.14498925316325018, 'l2_leaf_reg': 10.852127016414157, 'depth': 4, 'random_strength': 20.587422073694494, 'min_data_in_leaf': 45, 'bagging_temperature': 48.69163125612545, 'max_leaves': 124}. Best is trial 229 with value: 0.3124486186645064.\n"
     ]
    },
    {
     "name": "stdout",
     "output_type": "stream",
     "text": [
      "Repeat \u001b[1m\u001b[34m#1\n",
      "Repeat \u001b[1m\u001b[34m#2\n",
      "Repeat \u001b[1m\u001b[34m#3\n"
     ]
    },
    {
     "name": "stderr",
     "output_type": "stream",
     "text": [
      "[I 2023-06-22 01:30:31,014] Trial 329 finished with value: 0.3447045241034398 and parameters: {'bootstrap_type': 'Bayesian', 'grow_policy': 'Lossguide', 'learning_rate': 0.052569596327081546, 'l2_leaf_reg': 28.98145557547764, 'depth': 6, 'random_strength': 29.226456558234677, 'min_data_in_leaf': 40, 'bagging_temperature': 39.42509971671957, 'max_leaves': 114}. Best is trial 229 with value: 0.3124486186645064.\n"
     ]
    },
    {
     "name": "stdout",
     "output_type": "stream",
     "text": [
      "Repeat \u001b[1m\u001b[34m#1\n",
      "Repeat \u001b[1m\u001b[34m#2\n",
      "Repeat \u001b[1m\u001b[34m#3\n"
     ]
    },
    {
     "name": "stderr",
     "output_type": "stream",
     "text": [
      "[I 2023-06-22 01:30:36,773] Trial 330 finished with value: 0.3439281248240684 and parameters: {'bootstrap_type': 'Bayesian', 'grow_policy': 'Lossguide', 'learning_rate': 0.2945265229504775, 'l2_leaf_reg': 15.700188664237512, 'depth': 4, 'random_strength': 3.694839409928756, 'min_data_in_leaf': 51, 'bagging_temperature': 22.817288773245004, 'max_leaves': 47}. Best is trial 229 with value: 0.3124486186645064.\n"
     ]
    },
    {
     "name": "stdout",
     "output_type": "stream",
     "text": [
      "Repeat \u001b[1m\u001b[34m#1\n",
      "Repeat \u001b[1m\u001b[34m#2\n",
      "Repeat \u001b[1m\u001b[34m#3\n"
     ]
    },
    {
     "name": "stderr",
     "output_type": "stream",
     "text": [
      "[I 2023-06-22 01:30:42,139] Trial 331 finished with value: 0.4306279498069258 and parameters: {'bootstrap_type': 'Bayesian', 'grow_policy': 'Lossguide', 'learning_rate': 0.0878985353847559, 'l2_leaf_reg': 1.9880263626489263e-06, 'depth': 4, 'random_strength': 24.88079778243399, 'min_data_in_leaf': 61, 'bagging_temperature': 44.74398542633591, 'max_leaves': 120}. Best is trial 229 with value: 0.3124486186645064.\n"
     ]
    },
    {
     "name": "stdout",
     "output_type": "stream",
     "text": [
      "Repeat \u001b[1m\u001b[34m#1\n",
      "Repeat \u001b[1m\u001b[34m#2\n",
      "Repeat \u001b[1m\u001b[34m#3\n"
     ]
    },
    {
     "name": "stderr",
     "output_type": "stream",
     "text": [
      "[I 2023-06-22 01:30:48,320] Trial 332 finished with value: 0.4025936337152163 and parameters: {'bootstrap_type': 'Bayesian', 'grow_policy': 'Lossguide', 'learning_rate': 0.1157362196158856, 'l2_leaf_reg': 0.021132662033808768, 'depth': 4, 'random_strength': 5.023578594946084, 'min_data_in_leaf': 37, 'bagging_temperature': 33.64057592630729, 'max_leaves': 37}. Best is trial 229 with value: 0.3124486186645064.\n"
     ]
    },
    {
     "name": "stdout",
     "output_type": "stream",
     "text": [
      "Repeat \u001b[1m\u001b[34m#1\n",
      "Repeat \u001b[1m\u001b[34m#2\n",
      "Repeat \u001b[1m\u001b[34m#3\n"
     ]
    },
    {
     "name": "stderr",
     "output_type": "stream",
     "text": [
      "[I 2023-06-22 01:31:01,499] Trial 333 finished with value: 0.377744536106738 and parameters: {'bootstrap_type': 'Bayesian', 'grow_policy': 'Lossguide', 'learning_rate': 0.04012199695734966, 'l2_leaf_reg': 0.0014388913557181803, 'depth': 4, 'random_strength': 6.96354175215212, 'min_data_in_leaf': 31, 'bagging_temperature': 38.569078678052264, 'max_leaves': 117}. Best is trial 229 with value: 0.3124486186645064.\n"
     ]
    },
    {
     "name": "stdout",
     "output_type": "stream",
     "text": [
      "Repeat \u001b[1m\u001b[34m#1\n",
      "Repeat \u001b[1m\u001b[34m#2\n",
      "Repeat \u001b[1m\u001b[34m#3\n"
     ]
    },
    {
     "name": "stderr",
     "output_type": "stream",
     "text": [
      "[I 2023-06-22 01:31:11,203] Trial 334 finished with value: 0.3768427705126842 and parameters: {'bootstrap_type': 'Bernoulli', 'grow_policy': 'Lossguide', 'learning_rate': 0.06037021247841143, 'l2_leaf_reg': 65.17433265229407, 'depth': 4, 'random_strength': 17.334317560003605, 'min_data_in_leaf': 41, 'subsample': 0.787340279289669, 'colsample_bylevel': 0.5559442639135115, 'max_leaves': 43}. Best is trial 229 with value: 0.3124486186645064.\n"
     ]
    },
    {
     "name": "stdout",
     "output_type": "stream",
     "text": [
      "Repeat \u001b[1m\u001b[34m#1\n",
      "Repeat \u001b[1m\u001b[34m#2\n",
      "Repeat \u001b[1m\u001b[34m#3\n"
     ]
    },
    {
     "name": "stderr",
     "output_type": "stream",
     "text": [
      "[I 2023-06-22 01:31:29,986] Trial 335 finished with value: 0.4786333245898984 and parameters: {'bootstrap_type': 'Bayesian', 'grow_policy': 'SymmetricTree', 'learning_rate': 0.036240195560532325, 'l2_leaf_reg': 11.42422014035706, 'depth': 4, 'random_strength': 31.778431523954414, 'min_data_in_leaf': 38, 'bagging_temperature': 53.59935723269758, 'boosting_type': 'Plain'}. Best is trial 229 with value: 0.3124486186645064.\n"
     ]
    },
    {
     "name": "stdout",
     "output_type": "stream",
     "text": [
      "Repeat \u001b[1m\u001b[34m#1\n",
      "Repeat \u001b[1m\u001b[34m#2\n",
      "Repeat \u001b[1m\u001b[34m#3\n"
     ]
    },
    {
     "name": "stderr",
     "output_type": "stream",
     "text": [
      "[I 2023-06-22 01:31:53,664] Trial 336 finished with value: 0.3641287054967243 and parameters: {'bootstrap_type': 'Bayesian', 'grow_policy': 'Lossguide', 'learning_rate': 0.024867082585233725, 'l2_leaf_reg': 22.20713824301712, 'depth': 4, 'random_strength': 79.57644754011336, 'min_data_in_leaf': 33, 'bagging_temperature': 50.24807309850147, 'max_leaves': 126}. Best is trial 229 with value: 0.3124486186645064.\n"
     ]
    },
    {
     "name": "stdout",
     "output_type": "stream",
     "text": [
      "Repeat \u001b[1m\u001b[34m#1\n",
      "Repeat \u001b[1m\u001b[34m#2\n",
      "Repeat \u001b[1m\u001b[34m#3\n"
     ]
    },
    {
     "name": "stderr",
     "output_type": "stream",
     "text": [
      "[I 2023-06-22 01:32:22,412] Trial 337 finished with value: 0.324944082059497 and parameters: {'bootstrap_type': 'Bayesian', 'grow_policy': 'Lossguide', 'learning_rate': 0.043072491425407616, 'l2_leaf_reg': 43.10771244496415, 'depth': 4, 'random_strength': 11.384739508124019, 'min_data_in_leaf': 47, 'bagging_temperature': 43.63576586509313, 'max_leaves': 69}. Best is trial 229 with value: 0.3124486186645064.\n"
     ]
    },
    {
     "name": "stdout",
     "output_type": "stream",
     "text": [
      "Repeat \u001b[1m\u001b[34m#1\n",
      "Repeat \u001b[1m\u001b[34m#2\n",
      "Repeat \u001b[1m\u001b[34m#3\n"
     ]
    },
    {
     "name": "stderr",
     "output_type": "stream",
     "text": [
      "[I 2023-06-22 01:32:26,917] Trial 338 finished with value: 0.35037421124639817 and parameters: {'bootstrap_type': 'No', 'grow_policy': 'Lossguide', 'learning_rate': 0.07753355549016787, 'l2_leaf_reg': 1.4451295332740752, 'depth': 4, 'random_strength': 39.19794600349938, 'min_data_in_leaf': 66, 'colsample_bylevel': 0.76017380814362, 'max_leaves': 115}. Best is trial 229 with value: 0.3124486186645064.\n"
     ]
    },
    {
     "name": "stdout",
     "output_type": "stream",
     "text": [
      "Repeat \u001b[1m\u001b[34m#1\n",
      "Repeat \u001b[1m\u001b[34m#2\n",
      "Repeat \u001b[1m\u001b[34m#3\n"
     ]
    },
    {
     "name": "stderr",
     "output_type": "stream",
     "text": [
      "[I 2023-06-22 01:32:52,144] Trial 339 finished with value: 0.34111740023554865 and parameters: {'bootstrap_type': 'Bayesian', 'grow_policy': 'Lossguide', 'learning_rate': 0.019607231548146583, 'l2_leaf_reg': 0.323725270958601, 'depth': 4, 'random_strength': 0.5269592427599525, 'min_data_in_leaf': 49, 'bagging_temperature': 29.310308912115104, 'max_leaves': 62}. Best is trial 229 with value: 0.3124486186645064.\n"
     ]
    },
    {
     "name": "stdout",
     "output_type": "stream",
     "text": [
      "Repeat \u001b[1m\u001b[34m#1\n",
      "Repeat \u001b[1m\u001b[34m#2\n",
      "Repeat \u001b[1m\u001b[34m#3\n"
     ]
    },
    {
     "name": "stderr",
     "output_type": "stream",
     "text": [
      "[I 2023-06-22 01:33:03,630] Trial 340 finished with value: 0.32702032594788477 and parameters: {'bootstrap_type': 'Bayesian', 'grow_policy': 'Lossguide', 'learning_rate': 0.09560228580782922, 'l2_leaf_reg': 3.5625364764892824, 'depth': 4, 'random_strength': 15.842549078576916, 'min_data_in_leaf': 27, 'bagging_temperature': 41.38064508618904, 'max_leaves': 108}. Best is trial 229 with value: 0.3124486186645064.\n"
     ]
    },
    {
     "name": "stdout",
     "output_type": "stream",
     "text": [
      "Repeat \u001b[1m\u001b[34m#1\n",
      "Repeat \u001b[1m\u001b[34m#2\n",
      "Repeat \u001b[1m\u001b[34m#3\n"
     ]
    },
    {
     "name": "stderr",
     "output_type": "stream",
     "text": [
      "[I 2023-06-22 01:33:19,751] Trial 341 finished with value: 0.328243746811876 and parameters: {'bootstrap_type': 'Bayesian', 'grow_policy': 'Lossguide', 'learning_rate': 0.050618328173103855, 'l2_leaf_reg': 7.962475587486342, 'depth': 4, 'random_strength': 61.551549370065466, 'min_data_in_leaf': 45, 'bagging_temperature': 31.836916513518883, 'max_leaves': 88}. Best is trial 229 with value: 0.3124486186645064.\n"
     ]
    },
    {
     "name": "stdout",
     "output_type": "stream",
     "text": [
      "Repeat \u001b[1m\u001b[34m#1\n",
      "Repeat \u001b[1m\u001b[34m#2\n",
      "Repeat \u001b[1m\u001b[34m#3\n"
     ]
    },
    {
     "name": "stderr",
     "output_type": "stream",
     "text": [
      "[I 2023-06-22 01:34:16,598] Trial 342 finished with value: 0.35353014173824465 and parameters: {'bootstrap_type': 'Bayesian', 'grow_policy': 'Lossguide', 'learning_rate': 0.015430587912705015, 'l2_leaf_reg': 15.256707241391318, 'depth': 7, 'random_strength': 4.6310912935714885, 'min_data_in_leaf': 35, 'bagging_temperature': 46.33404734534043, 'max_leaves': 119}. Best is trial 229 with value: 0.3124486186645064.\n"
     ]
    },
    {
     "name": "stdout",
     "output_type": "stream",
     "text": [
      "Repeat \u001b[1m\u001b[34m#1\n",
      "Repeat \u001b[1m\u001b[34m#2\n",
      "Repeat \u001b[1m\u001b[34m#3\n"
     ]
    },
    {
     "name": "stderr",
     "output_type": "stream",
     "text": [
      "[I 2023-06-22 01:34:30,387] Trial 343 finished with value: 0.38600873531537 and parameters: {'bootstrap_type': 'Bayesian', 'grow_policy': 'Lossguide', 'learning_rate': 0.029666812246607655, 'l2_leaf_reg': 0.0002587810543466068, 'depth': 5, 'random_strength': 35.231770104521964, 'min_data_in_leaf': 56, 'bagging_temperature': 37.57492786382775, 'max_leaves': 124}. Best is trial 229 with value: 0.3124486186645064.\n"
     ]
    },
    {
     "name": "stdout",
     "output_type": "stream",
     "text": [
      "Repeat \u001b[1m\u001b[34m#1\n",
      "Repeat \u001b[1m\u001b[34m#2\n",
      "Repeat \u001b[1m\u001b[34m#3\n"
     ]
    },
    {
     "name": "stderr",
     "output_type": "stream",
     "text": [
      "[I 2023-06-22 01:35:03,860] Trial 344 finished with value: 0.3218963433626856 and parameters: {'bootstrap_type': 'Bayesian', 'grow_policy': 'Lossguide', 'learning_rate': 0.06911170873229681, 'l2_leaf_reg': 99.85450823873342, 'depth': 4, 'random_strength': 15.045722442198233, 'min_data_in_leaf': 42, 'bagging_temperature': 35.248465547924624, 'max_leaves': 51}. Best is trial 229 with value: 0.3124486186645064.\n"
     ]
    },
    {
     "name": "stdout",
     "output_type": "stream",
     "text": [
      "Repeat \u001b[1m\u001b[34m#1\n",
      "Repeat \u001b[1m\u001b[34m#2\n",
      "Repeat \u001b[1m\u001b[34m#3\n"
     ]
    },
    {
     "name": "stderr",
     "output_type": "stream",
     "text": [
      "[I 2023-06-22 01:35:09,787] Trial 345 finished with value: 0.3701109534902464 and parameters: {'bootstrap_type': 'MVS', 'grow_policy': 'Lossguide', 'learning_rate': 0.05859239472791928, 'l2_leaf_reg': 5.562280276088858, 'depth': 4, 'random_strength': 20.06975130209367, 'min_data_in_leaf': 36, 'subsample': 0.7264834264056813, 'colsample_bylevel': 0.7117966570746213, 'max_leaves': 128}. Best is trial 229 with value: 0.3124486186645064.\n"
     ]
    },
    {
     "name": "stdout",
     "output_type": "stream",
     "text": [
      "Repeat \u001b[1m\u001b[34m#1\n",
      "Repeat \u001b[1m\u001b[34m#2\n",
      "Repeat \u001b[1m\u001b[34m#3\n"
     ]
    },
    {
     "name": "stderr",
     "output_type": "stream",
     "text": [
      "[I 2023-06-22 01:35:29,415] Trial 346 finished with value: 0.32638854105814735 and parameters: {'bootstrap_type': 'Bayesian', 'grow_policy': 'Lossguide', 'learning_rate': 0.03456163791881159, 'l2_leaf_reg': 2.4211136066934453, 'depth': 4, 'random_strength': 78.86072361796262, 'min_data_in_leaf': 38, 'bagging_temperature': 40.003647691544856, 'max_leaves': 113}. Best is trial 229 with value: 0.3124486186645064.\n"
     ]
    },
    {
     "name": "stdout",
     "output_type": "stream",
     "text": [
      "Repeat \u001b[1m\u001b[34m#1\n",
      "Repeat \u001b[1m\u001b[34m#2\n",
      "Repeat \u001b[1m\u001b[34m#3\n"
     ]
    },
    {
     "name": "stderr",
     "output_type": "stream",
     "text": [
      "[I 2023-06-22 01:36:09,655] Trial 347 finished with value: 0.32421852498145287 and parameters: {'bootstrap_type': 'Bayesian', 'grow_policy': 'Lossguide', 'learning_rate': 0.02282968717184792, 'l2_leaf_reg': 31.125593867454334, 'depth': 4, 'random_strength': 17.276650061612568, 'min_data_in_leaf': 40, 'bagging_temperature': 41.92577604662592, 'max_leaves': 54}. Best is trial 229 with value: 0.3124486186645064.\n"
     ]
    },
    {
     "name": "stdout",
     "output_type": "stream",
     "text": [
      "Repeat \u001b[1m\u001b[34m#1\n",
      "Repeat \u001b[1m\u001b[34m#2\n",
      "Repeat \u001b[1m\u001b[34m#3\n"
     ]
    },
    {
     "name": "stderr",
     "output_type": "stream",
     "text": [
      "[I 2023-06-22 01:36:24,588] Trial 348 finished with value: 0.3363241422922348 and parameters: {'bootstrap_type': 'Bayesian', 'grow_policy': 'Lossguide', 'learning_rate': 0.14278894897533614, 'l2_leaf_reg': 67.27247912072933, 'depth': 4, 'random_strength': 77.2265170569334, 'min_data_in_leaf': 44, 'bagging_temperature': 26.95448722378667, 'max_leaves': 47}. Best is trial 229 with value: 0.3124486186645064.\n"
     ]
    },
    {
     "name": "stdout",
     "output_type": "stream",
     "text": [
      "Repeat \u001b[1m\u001b[34m#1\n",
      "Repeat \u001b[1m\u001b[34m#2\n",
      "Repeat \u001b[1m\u001b[34m#3\n"
     ]
    },
    {
     "name": "stderr",
     "output_type": "stream",
     "text": [
      "[I 2023-06-22 01:36:34,059] Trial 349 finished with value: 0.3330324085586419 and parameters: {'bootstrap_type': 'Bayesian', 'grow_policy': 'Lossguide', 'learning_rate': 0.12760024013822283, 'l2_leaf_reg': 10.695629578179126, 'depth': 4, 'random_strength': 22.66799500200158, 'min_data_in_leaf': 52, 'bagging_temperature': 43.994113834007194, 'max_leaves': 117}. Best is trial 229 with value: 0.3124486186645064.\n"
     ]
    },
    {
     "name": "stdout",
     "output_type": "stream",
     "text": [
      "Repeat \u001b[1m\u001b[34m#1\n",
      "Repeat \u001b[1m\u001b[34m#2\n",
      "Repeat \u001b[1m\u001b[34m#3\n"
     ]
    },
    {
     "name": "stderr",
     "output_type": "stream",
     "text": [
      "[I 2023-06-22 01:36:43,318] Trial 350 finished with value: 0.35720048223267936 and parameters: {'bootstrap_type': 'Bayesian', 'grow_policy': 'Lossguide', 'learning_rate': 0.04474572632145808, 'l2_leaf_reg': 0.010135043017006903, 'depth': 4, 'random_strength': 8.183475218172413, 'min_data_in_leaf': 32, 'bagging_temperature': 19.43919712339495, 'max_leaves': 40}. Best is trial 229 with value: 0.3124486186645064.\n"
     ]
    },
    {
     "name": "stdout",
     "output_type": "stream",
     "text": [
      "Repeat \u001b[1m\u001b[34m#1\n",
      "Repeat \u001b[1m\u001b[34m#2\n",
      "Repeat \u001b[1m\u001b[34m#3\n"
     ]
    },
    {
     "name": "stderr",
     "output_type": "stream",
     "text": [
      "[I 2023-06-22 01:36:56,279] Trial 351 finished with value: 0.36870514392261083 and parameters: {'bootstrap_type': 'Bayesian', 'grow_policy': 'Lossguide', 'learning_rate': 0.038904686944502796, 'l2_leaf_reg': 22.198503172190758, 'depth': 4, 'random_strength': 82.12152665313815, 'min_data_in_leaf': 49, 'bagging_temperature': 3.950388318505132, 'max_leaves': 122}. Best is trial 229 with value: 0.3124486186645064.\n"
     ]
    },
    {
     "name": "stdout",
     "output_type": "stream",
     "text": [
      "Repeat \u001b[1m\u001b[34m#1\n",
      "Repeat \u001b[1m\u001b[34m#2\n",
      "Repeat \u001b[1m\u001b[34m#3\n"
     ]
    },
    {
     "name": "stderr",
     "output_type": "stream",
     "text": [
      "[I 2023-06-22 01:37:06,422] Trial 352 finished with value: 0.333645001506608 and parameters: {'bootstrap_type': 'Bayesian', 'grow_policy': 'Depthwise', 'learning_rate': 0.08641965494339916, 'l2_leaf_reg': 4.9310500178451395, 'depth': 4, 'random_strength': 26.086330357964506, 'min_data_in_leaf': 39, 'bagging_temperature': 38.17666391298536}. Best is trial 229 with value: 0.3124486186645064.\n"
     ]
    },
    {
     "name": "stdout",
     "output_type": "stream",
     "text": [
      "Repeat \u001b[1m\u001b[34m#1\n",
      "Repeat \u001b[1m\u001b[34m#2\n",
      "Repeat \u001b[1m\u001b[34m#3\n"
     ]
    },
    {
     "name": "stderr",
     "output_type": "stream",
     "text": [
      "[I 2023-06-22 01:37:32,524] Trial 353 finished with value: 0.3989117680131939 and parameters: {'bootstrap_type': 'Bayesian', 'grow_policy': 'SymmetricTree', 'learning_rate': 0.10747519459616033, 'l2_leaf_reg': 0.9196306934038038, 'depth': 4, 'random_strength': 32.485329497489516, 'min_data_in_leaf': 42, 'bagging_temperature': 36.537932546748564, 'boosting_type': 'Ordered'}. Best is trial 229 with value: 0.3124486186645064.\n"
     ]
    },
    {
     "name": "stdout",
     "output_type": "stream",
     "text": [
      "Repeat \u001b[1m\u001b[34m#1\n",
      "Repeat \u001b[1m\u001b[34m#2\n",
      "Repeat \u001b[1m\u001b[34m#3\n"
     ]
    },
    {
     "name": "stderr",
     "output_type": "stream",
     "text": [
      "[I 2023-06-22 01:37:42,330] Trial 354 finished with value: 0.3773478625219546 and parameters: {'bootstrap_type': 'Bayesian', 'grow_policy': 'Lossguide', 'learning_rate': 0.0485829357657589, 'l2_leaf_reg': 0.0031934523659346626, 'depth': 4, 'random_strength': 85.06855686389629, 'min_data_in_leaf': 34, 'bagging_temperature': 46.6490629040448, 'max_leaves': 104}. Best is trial 229 with value: 0.3124486186645064.\n"
     ]
    },
    {
     "name": "stdout",
     "output_type": "stream",
     "text": [
      "Repeat \u001b[1m\u001b[34m#1\n",
      "Repeat \u001b[1m\u001b[34m#2\n",
      "Repeat \u001b[1m\u001b[34m#3\n"
     ]
    },
    {
     "name": "stderr",
     "output_type": "stream",
     "text": [
      "[I 2023-06-22 01:38:31,405] Trial 355 finished with value: 0.3481370900410505 and parameters: {'bootstrap_type': 'Bayesian', 'grow_policy': 'Lossguide', 'learning_rate': 0.011777364561134032, 'l2_leaf_reg': 40.615679439800076, 'depth': 4, 'random_strength': 13.78917343572735, 'min_data_in_leaf': 36, 'bagging_temperature': 40.75897513882934, 'max_leaves': 111}. Best is trial 229 with value: 0.3124486186645064.\n"
     ]
    },
    {
     "name": "stdout",
     "output_type": "stream",
     "text": [
      "Repeat \u001b[1m\u001b[34m#1\n",
      "Repeat \u001b[1m\u001b[34m#2\n",
      "Repeat \u001b[1m\u001b[34m#3\n"
     ]
    },
    {
     "name": "stderr",
     "output_type": "stream",
     "text": [
      "[I 2023-06-22 01:39:18,155] Trial 356 finished with value: 0.3461161770605496 and parameters: {'bootstrap_type': 'Bayesian', 'grow_policy': 'Lossguide', 'learning_rate': 0.029305705282557562, 'l2_leaf_reg': 15.903990634401392, 'depth': 10, 'random_strength': 22.97937298124583, 'min_data_in_leaf': 47, 'bagging_temperature': 43.17936222229657, 'max_leaves': 120}. Best is trial 229 with value: 0.3124486186645064.\n"
     ]
    },
    {
     "name": "stdout",
     "output_type": "stream",
     "text": [
      "Repeat \u001b[1m\u001b[34m#1\n",
      "Repeat \u001b[1m\u001b[34m#2\n",
      "Repeat \u001b[1m\u001b[34m#3\n"
     ]
    },
    {
     "name": "stderr",
     "output_type": "stream",
     "text": [
      "[I 2023-06-22 01:39:30,093] Trial 357 finished with value: 0.32483504764682264 and parameters: {'bootstrap_type': 'Bayesian', 'grow_policy': 'Lossguide', 'learning_rate': 0.06542425478524128, 'l2_leaf_reg': 7.4654173640301575, 'depth': 4, 'random_strength': 75.75171374443629, 'min_data_in_leaf': 24, 'bagging_temperature': 15.621547081890228, 'max_leaves': 49}. Best is trial 229 with value: 0.3124486186645064.\n"
     ]
    },
    {
     "name": "stdout",
     "output_type": "stream",
     "text": [
      "Repeat \u001b[1m\u001b[34m#1\n",
      "Repeat \u001b[1m\u001b[34m#2\n",
      "Repeat \u001b[1m\u001b[34m#3\n"
     ]
    },
    {
     "name": "stderr",
     "output_type": "stream",
     "text": [
      "[I 2023-06-22 01:39:59,355] Trial 358 finished with value: 0.3271890597368845 and parameters: {'bootstrap_type': 'Bayesian', 'grow_policy': 'Lossguide', 'learning_rate': 0.035610749354257634, 'l2_leaf_reg': 29.97886617663358, 'depth': 4, 'random_strength': 63.652521826737846, 'min_data_in_leaf': 54, 'bagging_temperature': 38.70348584464972, 'max_leaves': 115}. Best is trial 229 with value: 0.3124486186645064.\n"
     ]
    },
    {
     "name": "stdout",
     "output_type": "stream",
     "text": [
      "Repeat \u001b[1m\u001b[34m#1\n",
      "Repeat \u001b[1m\u001b[34m#2\n",
      "Repeat \u001b[1m\u001b[34m#3\n"
     ]
    },
    {
     "name": "stderr",
     "output_type": "stream",
     "text": [
      "[I 2023-06-22 01:40:04,139] Trial 359 finished with value: 0.36481880382106485 and parameters: {'bootstrap_type': 'Bernoulli', 'grow_policy': 'Depthwise', 'learning_rate': 0.07367973968373308, 'l2_leaf_reg': 1.977113974718149, 'depth': 4, 'random_strength': 18.397810568004115, 'min_data_in_leaf': 44, 'subsample': 0.9123563555436148, 'colsample_bylevel': 0.6857213712452574}. Best is trial 229 with value: 0.3124486186645064.\n"
     ]
    },
    {
     "name": "stdout",
     "output_type": "stream",
     "text": [
      "Repeat \u001b[1m\u001b[34m#1\n",
      "Repeat \u001b[1m\u001b[34m#2\n",
      "Repeat \u001b[1m\u001b[34m#3\n"
     ]
    },
    {
     "name": "stderr",
     "output_type": "stream",
     "text": [
      "[I 2023-06-22 01:40:17,744] Trial 360 finished with value: 0.3319300280820112 and parameters: {'bootstrap_type': 'Bayesian', 'grow_policy': 'Lossguide', 'learning_rate': 0.05388882364863765, 'l2_leaf_reg': 3.9216438544719123, 'depth': 4, 'random_strength': 78.78222425769452, 'min_data_in_leaf': 40, 'bagging_temperature': 24.382680989761717, 'max_leaves': 45}. Best is trial 229 with value: 0.3124486186645064.\n"
     ]
    },
    {
     "name": "stdout",
     "output_type": "stream",
     "text": [
      "Repeat \u001b[1m\u001b[34m#1\n",
      "Repeat \u001b[1m\u001b[34m#2\n",
      "Repeat \u001b[1m\u001b[34m#3\n"
     ]
    },
    {
     "name": "stderr",
     "output_type": "stream",
     "text": [
      "[I 2023-06-22 01:41:03,696] Trial 361 finished with value: 0.33456225936266354 and parameters: {'bootstrap_type': 'Bayesian', 'grow_policy': 'Lossguide', 'learning_rate': 0.013000888860122123, 'l2_leaf_reg': 12.711395703296466, 'depth': 4, 'random_strength': 30.135326171450274, 'min_data_in_leaf': 29, 'bagging_temperature': 33.01426308644501, 'max_leaves': 117}. Best is trial 229 with value: 0.3124486186645064.\n"
     ]
    },
    {
     "name": "stdout",
     "output_type": "stream",
     "text": [
      "Repeat \u001b[1m\u001b[34m#1\n",
      "Repeat \u001b[1m\u001b[34m#2\n",
      "Repeat \u001b[1m\u001b[34m#3\n"
     ]
    },
    {
     "name": "stderr",
     "output_type": "stream",
     "text": [
      "[I 2023-06-22 01:41:16,219] Trial 362 finished with value: 0.3835757332182013 and parameters: {'bootstrap_type': 'No', 'grow_policy': 'Lossguide', 'learning_rate': 0.04173163617572237, 'l2_leaf_reg': 53.41459452732975, 'depth': 4, 'random_strength': 71.85091151334757, 'min_data_in_leaf': 38, 'colsample_bylevel': 0.8612419475713184, 'max_leaves': 57}. Best is trial 229 with value: 0.3124486186645064.\n"
     ]
    },
    {
     "name": "stdout",
     "output_type": "stream",
     "text": [
      "Repeat \u001b[1m\u001b[34m#1\n",
      "Repeat \u001b[1m\u001b[34m#2\n",
      "Repeat \u001b[1m\u001b[34m#3\n"
     ]
    },
    {
     "name": "stderr",
     "output_type": "stream",
     "text": [
      "[I 2023-06-22 01:41:38,150] Trial 363 finished with value: 0.3914570219608649 and parameters: {'bootstrap_type': 'Bayesian', 'grow_policy': 'Lossguide', 'learning_rate': 0.010599801571078881, 'l2_leaf_reg': 1.7837920504361678e-07, 'depth': 4, 'random_strength': 56.86670966919334, 'min_data_in_leaf': 50, 'bagging_temperature': 48.711582600332925, 'max_leaves': 123}. Best is trial 229 with value: 0.3124486186645064.\n"
     ]
    },
    {
     "name": "stdout",
     "output_type": "stream",
     "text": [
      "Repeat \u001b[1m\u001b[34m#1\n",
      "Repeat \u001b[1m\u001b[34m#2\n",
      "Repeat \u001b[1m\u001b[34m#3\n"
     ]
    },
    {
     "name": "stderr",
     "output_type": "stream",
     "text": [
      "[I 2023-06-22 01:42:02,670] Trial 364 finished with value: 0.32651642544170306 and parameters: {'bootstrap_type': 'Bayesian', 'grow_policy': 'Lossguide', 'learning_rate': 0.025972269774983646, 'l2_leaf_reg': 2.9657276903318324, 'depth': 4, 'random_strength': 28.502657931943975, 'min_data_in_leaf': 36, 'bagging_temperature': 35.038136087616714, 'max_leaves': 107}. Best is trial 229 with value: 0.3124486186645064.\n"
     ]
    },
    {
     "name": "stdout",
     "output_type": "stream",
     "text": [
      "Repeat \u001b[1m\u001b[34m#1\n",
      "Repeat \u001b[1m\u001b[34m#2\n",
      "Repeat \u001b[1m\u001b[34m#3\n"
     ]
    },
    {
     "name": "stderr",
     "output_type": "stream",
     "text": [
      "[I 2023-06-22 01:42:17,036] Trial 365 finished with value: 0.336424468464819 and parameters: {'bootstrap_type': 'Bayesian', 'grow_policy': 'Depthwise', 'learning_rate': 0.09067176651020141, 'l2_leaf_reg': 20.21704134402924, 'depth': 4, 'random_strength': 13.569044378373556, 'min_data_in_leaf': 42, 'bagging_temperature': 44.82870952654253}. Best is trial 229 with value: 0.3124486186645064.\n"
     ]
    },
    {
     "name": "stdout",
     "output_type": "stream",
     "text": [
      "Repeat \u001b[1m\u001b[34m#1\n",
      "Repeat \u001b[1m\u001b[34m#2\n",
      "Repeat \u001b[1m\u001b[34m#3\n"
     ]
    },
    {
     "name": "stderr",
     "output_type": "stream",
     "text": [
      "[I 2023-06-22 01:42:43,215] Trial 366 finished with value: 0.3097665662645319 and parameters: {'bootstrap_type': 'Bayesian', 'grow_policy': 'Lossguide', 'learning_rate': 0.03214221882808462, 'l2_leaf_reg': 8.01853103422765, 'depth': 4, 'random_strength': 74.3039569995926, 'min_data_in_leaf': 31, 'bagging_temperature': 41.86701513946563, 'max_leaves': 98}. Best is trial 366 with value: 0.3097665662645319.\n"
     ]
    },
    {
     "name": "stdout",
     "output_type": "stream",
     "text": [
      "Repeat \u001b[1m\u001b[34m#1\n",
      "Repeat \u001b[1m\u001b[34m#2\n",
      "Repeat \u001b[1m\u001b[34m#3\n"
     ]
    },
    {
     "name": "stderr",
     "output_type": "stream",
     "text": [
      "[I 2023-06-22 01:42:59,041] Trial 367 finished with value: 0.34557147542923355 and parameters: {'bootstrap_type': 'Bayesian', 'grow_policy': 'Lossguide', 'learning_rate': 0.045293901208266645, 'l2_leaf_reg': 9.28984593348869, 'depth': 4, 'random_strength': 37.02459071798174, 'min_data_in_leaf': 30, 'bagging_temperature': 9.06009234509699, 'max_leaves': 97}. Best is trial 366 with value: 0.3097665662645319.\n"
     ]
    },
    {
     "name": "stdout",
     "output_type": "stream",
     "text": [
      "Repeat \u001b[1m\u001b[34m#1\n",
      "Repeat \u001b[1m\u001b[34m#2\n",
      "Repeat \u001b[1m\u001b[34m#3\n"
     ]
    },
    {
     "name": "stderr",
     "output_type": "stream",
     "text": [
      "[I 2023-06-22 01:43:44,050] Trial 368 finished with value: 0.325271112852342 and parameters: {'bootstrap_type': 'Bayesian', 'grow_policy': 'Lossguide', 'learning_rate': 0.03313414387934902, 'l2_leaf_reg': 68.92456711675746, 'depth': 4, 'random_strength': 21.89338224029445, 'min_data_in_leaf': 32, 'bagging_temperature': 39.8277463836643, 'max_leaves': 101}. Best is trial 366 with value: 0.3097665662645319.\n"
     ]
    },
    {
     "name": "stdout",
     "output_type": "stream",
     "text": [
      "Repeat \u001b[1m\u001b[34m#1\n",
      "Repeat \u001b[1m\u001b[34m#2\n",
      "Repeat \u001b[1m\u001b[34m#3\n"
     ]
    },
    {
     "name": "stderr",
     "output_type": "stream",
     "text": [
      "[I 2023-06-22 01:44:16,864] Trial 369 finished with value: 0.3262014476317318 and parameters: {'bootstrap_type': 'Bayesian', 'grow_policy': 'Lossguide', 'learning_rate': 0.03845069435873597, 'l2_leaf_reg': 28.007400375690402, 'depth': 4, 'random_strength': 80.49717421243629, 'min_data_in_leaf': 27, 'bagging_temperature': 31.337407609681538, 'max_leaves': 112}. Best is trial 366 with value: 0.3097665662645319.\n"
     ]
    },
    {
     "name": "stdout",
     "output_type": "stream",
     "text": [
      "Repeat \u001b[1m\u001b[34m#1\n",
      "Repeat \u001b[1m\u001b[34m#2\n",
      "Repeat \u001b[1m\u001b[34m#3\n"
     ]
    },
    {
     "name": "stderr",
     "output_type": "stream",
     "text": [
      "[I 2023-06-22 01:44:34,973] Trial 370 finished with value: 0.33255318337998 and parameters: {'bootstrap_type': 'Bayesian', 'grow_policy': 'Lossguide', 'learning_rate': 0.0611466709377169, 'l2_leaf_reg': 14.803313962747628, 'depth': 4, 'random_strength': 12.255972499833547, 'min_data_in_leaf': 31, 'bagging_temperature': 28.417071522855004, 'max_leaves': 99}. Best is trial 366 with value: 0.3097665662645319.\n"
     ]
    },
    {
     "name": "stdout",
     "output_type": "stream",
     "text": [
      "Repeat \u001b[1m\u001b[34m#1\n",
      "Repeat \u001b[1m\u001b[34m#2\n",
      "Repeat \u001b[1m\u001b[34m#3\n"
     ]
    },
    {
     "name": "stderr",
     "output_type": "stream",
     "text": [
      "[I 2023-06-22 01:44:42,775] Trial 371 finished with value: 0.3464878223080658 and parameters: {'bootstrap_type': 'Bayesian', 'grow_policy': 'Depthwise', 'learning_rate': 0.0828594652275733, 'l2_leaf_reg': 0.5225257063354687, 'depth': 4, 'random_strength': 74.8080102274498, 'min_data_in_leaf': 35, 'bagging_temperature': 21.66450136034555}. Best is trial 366 with value: 0.3097665662645319.\n"
     ]
    },
    {
     "name": "stdout",
     "output_type": "stream",
     "text": [
      "Repeat \u001b[1m\u001b[34m#1\n",
      "Repeat \u001b[1m\u001b[34m#2\n",
      "Repeat \u001b[1m\u001b[34m#3\n"
     ]
    },
    {
     "name": "stderr",
     "output_type": "stream",
     "text": [
      "[I 2023-06-22 01:44:49,151] Trial 372 finished with value: 0.3737581426270982 and parameters: {'bootstrap_type': 'MVS', 'grow_policy': 'Lossguide', 'learning_rate': 0.04742798691774251, 'l2_leaf_reg': 0.0007163496944292029, 'depth': 5, 'random_strength': 59.49226097647026, 'min_data_in_leaf': 33, 'subsample': 0.44252905889717853, 'colsample_bylevel': 0.7856858875646682, 'max_leaves': 43}. Best is trial 366 with value: 0.3097665662645319.\n"
     ]
    },
    {
     "name": "stdout",
     "output_type": "stream",
     "text": [
      "Repeat \u001b[1m\u001b[34m#1\n",
      "Repeat \u001b[1m\u001b[34m#2\n",
      "Repeat \u001b[1m\u001b[34m#3\n"
     ]
    },
    {
     "name": "stderr",
     "output_type": "stream",
     "text": [
      "[I 2023-06-22 01:45:08,466] Trial 373 finished with value: 0.32605726774370497 and parameters: {'bootstrap_type': 'Bayesian', 'grow_policy': 'Lossguide', 'learning_rate': 0.10076895539518858, 'l2_leaf_reg': 41.281261138076076, 'depth': 4, 'random_strength': 76.89509904080641, 'min_data_in_leaf': 29, 'bagging_temperature': 42.49326533894689, 'max_leaves': 92}. Best is trial 366 with value: 0.3097665662645319.\n"
     ]
    },
    {
     "name": "stdout",
     "output_type": "stream",
     "text": [
      "Repeat \u001b[1m\u001b[34m#1\n",
      "Repeat \u001b[1m\u001b[34m#2\n",
      "Repeat \u001b[1m\u001b[34m#3\n"
     ]
    },
    {
     "name": "stderr",
     "output_type": "stream",
     "text": [
      "[I 2023-06-22 01:45:19,104] Trial 374 finished with value: 0.5412437744402104 and parameters: {'bootstrap_type': 'Bayesian', 'grow_policy': 'Lossguide', 'learning_rate': 0.05359934145312172, 'l2_leaf_reg': 0.0004276965179745258, 'depth': 8, 'random_strength': 25.3130066978145, 'min_data_in_leaf': 26, 'bagging_temperature': 36.92987642634205, 'max_leaves': 105}. Best is trial 366 with value: 0.3097665662645319.\n"
     ]
    },
    {
     "name": "stdout",
     "output_type": "stream",
     "text": [
      "Repeat \u001b[1m\u001b[34m#1\n",
      "Repeat \u001b[1m\u001b[34m#2\n",
      "Repeat \u001b[1m\u001b[34m#3\n"
     ]
    },
    {
     "name": "stderr",
     "output_type": "stream",
     "text": [
      "[I 2023-06-22 01:45:29,103] Trial 375 finished with value: 0.322747945580454 and parameters: {'bootstrap_type': 'Bayesian', 'grow_policy': 'Lossguide', 'learning_rate': 0.1170722799086751, 'l2_leaf_reg': 8.605502940195958, 'depth': 4, 'random_strength': 50.4935163710063, 'min_data_in_leaf': 34, 'bagging_temperature': 46.24798776151522, 'max_leaves': 95}. Best is trial 366 with value: 0.3097665662645319.\n"
     ]
    },
    {
     "name": "stdout",
     "output_type": "stream",
     "text": [
      "Repeat \u001b[1m\u001b[34m#1\n",
      "Repeat \u001b[1m\u001b[34m#2\n",
      "Repeat \u001b[1m\u001b[34m#3\n"
     ]
    },
    {
     "name": "stderr",
     "output_type": "stream",
     "text": [
      "[I 2023-06-22 01:45:44,717] Trial 376 finished with value: 0.3419483813402487 and parameters: {'bootstrap_type': 'Bayesian', 'grow_policy': 'Lossguide', 'learning_rate': 0.04026711742875173, 'l2_leaf_reg': 5.964500660978091, 'depth': 4, 'random_strength': 8.615775836070165, 'min_data_in_leaf': 37, 'bagging_temperature': 14.625318820088573, 'max_leaves': 114}. Best is trial 366 with value: 0.3097665662645319.\n"
     ]
    },
    {
     "name": "stdout",
     "output_type": "stream",
     "text": [
      "Repeat \u001b[1m\u001b[34m#1\n",
      "Repeat \u001b[1m\u001b[34m#2\n",
      "Repeat \u001b[1m\u001b[34m#3\n"
     ]
    },
    {
     "name": "stderr",
     "output_type": "stream",
     "text": [
      "[I 2023-06-22 01:45:48,363] Trial 377 finished with value: 0.4308785303304203 and parameters: {'bootstrap_type': 'Bayesian', 'grow_policy': 'SymmetricTree', 'learning_rate': 0.16149680856879062, 'l2_leaf_reg': 0.05834827678656727, 'depth': 4, 'random_strength': 34.1939645509388, 'min_data_in_leaf': 40, 'bagging_temperature': 17.27212582748151, 'boosting_type': 'Plain'}. Best is trial 366 with value: 0.3097665662645319.\n"
     ]
    },
    {
     "name": "stdout",
     "output_type": "stream",
     "text": [
      "Repeat \u001b[1m\u001b[34m#1\n",
      "Repeat \u001b[1m\u001b[34m#2\n",
      "Repeat \u001b[1m\u001b[34m#3\n"
     ]
    },
    {
     "name": "stderr",
     "output_type": "stream",
     "text": [
      "[I 2023-06-22 01:46:19,307] Trial 378 finished with value: 0.32925610408018924 and parameters: {'bootstrap_type': 'Bayesian', 'grow_policy': 'Lossguide', 'learning_rate': 0.03519062919914238, 'l2_leaf_reg': 20.58141793664992, 'depth': 4, 'random_strength': 5.287763518933845, 'min_data_in_leaf': 31, 'bagging_temperature': 40.138065984124495, 'max_leaves': 110}. Best is trial 366 with value: 0.3097665662645319.\n"
     ]
    },
    {
     "name": "stdout",
     "output_type": "stream",
     "text": [
      "Repeat \u001b[1m\u001b[34m#1\n",
      "Repeat \u001b[1m\u001b[34m#2\n",
      "Repeat \u001b[1m\u001b[34m#3\n"
     ]
    },
    {
     "name": "stderr",
     "output_type": "stream",
     "text": [
      "[I 2023-06-22 01:46:28,452] Trial 379 finished with value: 0.33095484428744754 and parameters: {'bootstrap_type': 'Bayesian', 'grow_policy': 'Depthwise', 'learning_rate': 0.07802315259235561, 'l2_leaf_reg': 1.3321210181390917, 'depth': 4, 'random_strength': 82.55302851170958, 'min_data_in_leaf': 59, 'bagging_temperature': 34.747447431716495}. Best is trial 366 with value: 0.3097665662645319.\n"
     ]
    },
    {
     "name": "stdout",
     "output_type": "stream",
     "text": [
      "Repeat \u001b[1m\u001b[34m#1\n",
      "Repeat \u001b[1m\u001b[34m#2\n",
      "Repeat \u001b[1m\u001b[34m#3\n"
     ]
    },
    {
     "name": "stderr",
     "output_type": "stream",
     "text": [
      "[I 2023-06-22 01:46:40,440] Trial 380 finished with value: 0.4085336491134946 and parameters: {'bootstrap_type': 'Bayesian', 'grow_policy': 'Lossguide', 'learning_rate': 0.030738563893409378, 'l2_leaf_reg': 5.709372829340291e-06, 'depth': 4, 'random_strength': 86.51566496811635, 'min_data_in_leaf': 34, 'bagging_temperature': 44.18409247465324, 'max_leaves': 119}. Best is trial 366 with value: 0.3097665662645319.\n"
     ]
    },
    {
     "name": "stdout",
     "output_type": "stream",
     "text": [
      "Repeat \u001b[1m\u001b[34m#1\n",
      "Repeat \u001b[1m\u001b[34m#2\n",
      "Repeat \u001b[1m\u001b[34m#3\n"
     ]
    },
    {
     "name": "stderr",
     "output_type": "stream",
     "text": [
      "[I 2023-06-22 01:46:50,095] Trial 381 finished with value: 0.3404958030233331 and parameters: {'bootstrap_type': 'Bayesian', 'grow_policy': 'Lossguide', 'learning_rate': 0.06978706062617133, 'l2_leaf_reg': 0.08783818093555948, 'depth': 4, 'random_strength': 65.51752485109184, 'min_data_in_leaf': 38, 'bagging_temperature': 37.93098100978178, 'max_leaves': 75}. Best is trial 366 with value: 0.3097665662645319.\n"
     ]
    },
    {
     "name": "stdout",
     "output_type": "stream",
     "text": [
      "Repeat \u001b[1m\u001b[34m#1\n",
      "Repeat \u001b[1m\u001b[34m#2\n",
      "Repeat \u001b[1m\u001b[34m#3\n"
     ]
    },
    {
     "name": "stderr",
     "output_type": "stream",
     "text": [
      "[I 2023-06-22 01:47:07,600] Trial 382 finished with value: 0.3252351854869373 and parameters: {'bootstrap_type': 'Bayesian', 'grow_policy': 'Lossguide', 'learning_rate': 0.05890803437118824, 'l2_leaf_reg': 11.922519822789797, 'depth': 4, 'random_strength': 77.90334427011307, 'min_data_in_leaf': 42, 'bagging_temperature': 42.11072179907081, 'max_leaves': 51}. Best is trial 366 with value: 0.3097665662645319.\n"
     ]
    },
    {
     "name": "stdout",
     "output_type": "stream",
     "text": [
      "Repeat \u001b[1m\u001b[34m#1\n",
      "Repeat \u001b[1m\u001b[34m#2\n",
      "Repeat \u001b[1m\u001b[34m#3\n"
     ]
    },
    {
     "name": "stderr",
     "output_type": "stream",
     "text": [
      "[I 2023-06-22 01:47:17,318] Trial 383 finished with value: 0.36498543134154354 and parameters: {'bootstrap_type': 'Bernoulli', 'grow_policy': 'Lossguide', 'learning_rate': 0.04263205143691208, 'l2_leaf_reg': 38.090651973998156, 'depth': 4, 'random_strength': 74.26580211331242, 'min_data_in_leaf': 40, 'subsample': 0.5052754336188389, 'colsample_bylevel': 0.5808903817755842, 'max_leaves': 47}. Best is trial 366 with value: 0.3097665662645319.\n"
     ]
    },
    {
     "name": "stdout",
     "output_type": "stream",
     "text": [
      "Repeat \u001b[1m\u001b[34m#1\n",
      "Repeat \u001b[1m\u001b[34m#2\n",
      "Repeat \u001b[1m\u001b[34m#3\n"
     ]
    },
    {
     "name": "stderr",
     "output_type": "stream",
     "text": [
      "[I 2023-06-22 01:47:42,085] Trial 384 finished with value: 0.47027342297477276 and parameters: {'bootstrap_type': 'Bayesian', 'grow_policy': 'Lossguide', 'learning_rate': 0.021846570576423613, 'l2_leaf_reg': 99.01611808551506, 'depth': 4, 'random_strength': 28.76944726943195, 'min_data_in_leaf': 22, 'bagging_temperature': 50.05656758158616, 'max_leaves': 102}. Best is trial 366 with value: 0.3097665662645319.\n"
     ]
    },
    {
     "name": "stdout",
     "output_type": "stream",
     "text": [
      "Repeat \u001b[1m\u001b[34m#1\n",
      "Repeat \u001b[1m\u001b[34m#2\n",
      "Repeat \u001b[1m\u001b[34m#3\n"
     ]
    },
    {
     "name": "stderr",
     "output_type": "stream",
     "text": [
      "[I 2023-06-22 01:47:46,991] Trial 385 finished with value: 0.41429509183362007 and parameters: {'bootstrap_type': 'Bayesian', 'grow_policy': 'Depthwise', 'learning_rate': 0.09897805962565853, 'l2_leaf_reg': 2.2611590167734324e-05, 'depth': 4, 'random_strength': 79.40720760326174, 'min_data_in_leaf': 45, 'bagging_temperature': 39.14542144669793}. Best is trial 366 with value: 0.3097665662645319.\n"
     ]
    },
    {
     "name": "stdout",
     "output_type": "stream",
     "text": [
      "Repeat \u001b[1m\u001b[34m#1\n",
      "Repeat \u001b[1m\u001b[34m#2\n",
      "Repeat \u001b[1m\u001b[34m#3\n"
     ]
    },
    {
     "name": "stderr",
     "output_type": "stream",
     "text": [
      "[I 2023-06-22 01:47:49,368] Trial 386 finished with value: 0.9125749173383371 and parameters: {'bootstrap_type': 'Bayesian', 'grow_policy': 'Lossguide', 'learning_rate': 0.017352720729551102, 'l2_leaf_reg': 2.8806649411192518, 'depth': 5, 'random_strength': 75.63999765620592, 'min_data_in_leaf': 35, 'bagging_temperature': 58.33664654160009, 'max_leaves': 117}. Best is trial 366 with value: 0.3097665662645319.\n"
     ]
    },
    {
     "name": "stdout",
     "output_type": "stream",
     "text": [
      "Repeat \u001b[1m\u001b[34m#1\n",
      "Repeat \u001b[1m\u001b[34m#2\n",
      "Repeat \u001b[1m\u001b[34m#3\n"
     ]
    },
    {
     "name": "stderr",
     "output_type": "stream",
     "text": [
      "[I 2023-06-22 01:47:59,418] Trial 387 finished with value: 0.37255079783962525 and parameters: {'bootstrap_type': 'No', 'grow_policy': 'Lossguide', 'learning_rate': 0.02592958283817884, 'l2_leaf_reg': 6.526581803506915, 'depth': 4, 'random_strength': 11.198148668938202, 'min_data_in_leaf': 37, 'colsample_bylevel': 0.6445114016881847, 'max_leaves': 41}. Best is trial 366 with value: 0.3097665662645319.\n"
     ]
    },
    {
     "name": "stdout",
     "output_type": "stream",
     "text": [
      "Repeat \u001b[1m\u001b[34m#1\n",
      "Repeat \u001b[1m\u001b[34m#2\n",
      "Repeat \u001b[1m\u001b[34m#3\n"
     ]
    },
    {
     "name": "stderr",
     "output_type": "stream",
     "text": [
      "[I 2023-06-22 01:48:08,620] Trial 388 finished with value: 0.3521132308345016 and parameters: {'bootstrap_type': 'Bayesian', 'grow_policy': 'Lossguide', 'learning_rate': 0.04922462161609571, 'l2_leaf_reg': 0.006578709335457234, 'depth': 4, 'random_strength': 19.06957275195067, 'min_data_in_leaf': 33, 'bagging_temperature': 12.113143502319137, 'max_leaves': 114}. Best is trial 366 with value: 0.3097665662645319.\n"
     ]
    },
    {
     "name": "stdout",
     "output_type": "stream",
     "text": [
      "Repeat \u001b[1m\u001b[34m#1\n",
      "Repeat \u001b[1m\u001b[34m#2\n",
      "Repeat \u001b[1m\u001b[34m#3\n"
     ]
    },
    {
     "name": "stderr",
     "output_type": "stream",
     "text": [
      "[I 2023-06-22 01:49:02,169] Trial 389 finished with value: 0.37862939664434586 and parameters: {'bootstrap_type': 'Bayesian', 'grow_policy': 'Lossguide', 'learning_rate': 0.006019449977970199, 'l2_leaf_reg': 26.016468564876266, 'depth': 4, 'random_strength': 16.683630509870305, 'min_data_in_leaf': 25, 'bagging_temperature': 41.19469519502313, 'max_leaves': 63}. Best is trial 366 with value: 0.3097665662645319.\n"
     ]
    },
    {
     "name": "stdout",
     "output_type": "stream",
     "text": [
      "Repeat \u001b[1m\u001b[34m#1\n",
      "Repeat \u001b[1m\u001b[34m#2\n",
      "Repeat \u001b[1m\u001b[34m#3\n"
     ]
    },
    {
     "name": "stderr",
     "output_type": "stream",
     "text": [
      "[I 2023-06-22 01:49:15,774] Trial 390 finished with value: 0.34836057466364734 and parameters: {'bootstrap_type': 'Bayesian', 'grow_policy': 'Lossguide', 'learning_rate': 0.03548104456514395, 'l2_leaf_reg': 0.03487460484027133, 'depth': 4, 'random_strength': 0.12595730007198291, 'min_data_in_leaf': 44, 'bagging_temperature': 36.3194972330784, 'max_leaves': 45}. Best is trial 366 with value: 0.3097665662645319.\n"
     ]
    },
    {
     "name": "stdout",
     "output_type": "stream",
     "text": [
      "Repeat \u001b[1m\u001b[34m#1\n",
      "Repeat \u001b[1m\u001b[34m#2\n",
      "Repeat \u001b[1m\u001b[34m#3\n"
     ]
    },
    {
     "name": "stderr",
     "output_type": "stream",
     "text": [
      "[I 2023-06-22 01:49:44,245] Trial 391 finished with value: 0.3228269706954343 and parameters: {'bootstrap_type': 'Bayesian', 'grow_policy': 'Lossguide', 'learning_rate': 0.06376104762848392, 'l2_leaf_reg': 57.1795702934754, 'depth': 4, 'random_strength': 70.06797170849515, 'min_data_in_leaf': 28, 'bagging_temperature': 25.482218129913257, 'max_leaves': 82}. Best is trial 366 with value: 0.3097665662645319.\n"
     ]
    },
    {
     "name": "stdout",
     "output_type": "stream",
     "text": [
      "Repeat \u001b[1m\u001b[34m#1\n",
      "Repeat \u001b[1m\u001b[34m#2\n",
      "Repeat \u001b[1m\u001b[34m#3\n"
     ]
    },
    {
     "name": "stderr",
     "output_type": "stream",
     "text": [
      "[I 2023-06-22 01:50:13,505] Trial 392 finished with value: 0.32783369400902684 and parameters: {'bootstrap_type': 'Bayesian', 'grow_policy': 'Depthwise', 'learning_rate': 0.028537798311623664, 'l2_leaf_reg': 15.263253410044591, 'depth': 4, 'random_strength': 42.01916109931595, 'min_data_in_leaf': 39, 'bagging_temperature': 33.61953287138937}. Best is trial 366 with value: 0.3097665662645319.\n"
     ]
    },
    {
     "name": "stdout",
     "output_type": "stream",
     "text": [
      "Repeat \u001b[1m\u001b[34m#1\n",
      "Repeat \u001b[1m\u001b[34m#2\n",
      "Repeat \u001b[1m\u001b[34m#3\n"
     ]
    },
    {
     "name": "stderr",
     "output_type": "stream",
     "text": [
      "[I 2023-06-22 01:50:31,683] Trial 393 finished with value: 0.3265368496200552 and parameters: {'bootstrap_type': 'Bayesian', 'grow_policy': 'Lossguide', 'learning_rate': 0.03895410159058068, 'l2_leaf_reg': 4.797476425133846, 'depth': 4, 'random_strength': 53.38392345222666, 'min_data_in_leaf': 36, 'bagging_temperature': 43.83973590015374, 'max_leaves': 97}. Best is trial 366 with value: 0.3097665662645319.\n"
     ]
    },
    {
     "name": "stdout",
     "output_type": "stream",
     "text": [
      "Repeat \u001b[1m\u001b[34m#1\n",
      "Repeat \u001b[1m\u001b[34m#2\n",
      "Repeat \u001b[1m\u001b[34m#3\n"
     ]
    },
    {
     "name": "stderr",
     "output_type": "stream",
     "text": [
      "[I 2023-06-22 01:50:59,476] Trial 394 finished with value: 0.32229388981131657 and parameters: {'bootstrap_type': 'Bayesian', 'grow_policy': 'Lossguide', 'learning_rate': 0.019383366500700386, 'l2_leaf_reg': 1.9400103914066757, 'depth': 4, 'random_strength': 43.76698776864894, 'min_data_in_leaf': 42, 'bagging_temperature': 30.701092523080444, 'max_leaves': 109}. Best is trial 366 with value: 0.3097665662645319.\n"
     ]
    },
    {
     "name": "stdout",
     "output_type": "stream",
     "text": [
      "Repeat \u001b[1m\u001b[34m#1\n",
      "Repeat \u001b[1m\u001b[34m#2\n",
      "Repeat \u001b[1m\u001b[34m#3\n"
     ]
    },
    {
     "name": "stderr",
     "output_type": "stream",
     "text": [
      "[I 2023-06-22 01:51:03,497] Trial 395 finished with value: 0.363732089637004 and parameters: {'bootstrap_type': 'MVS', 'grow_policy': 'Lossguide', 'learning_rate': 0.08411527901690607, 'l2_leaf_reg': 10.079388952348564, 'depth': 4, 'random_strength': 92.58566645995592, 'min_data_in_leaf': 68, 'subsample': 0.35198457222437934, 'colsample_bylevel': 0.33032189193979994, 'max_leaves': 120}. Best is trial 366 with value: 0.3097665662645319.\n"
     ]
    },
    {
     "name": "stdout",
     "output_type": "stream",
     "text": [
      "Repeat \u001b[1m\u001b[34m#1\n",
      "Repeat \u001b[1m\u001b[34m#2\n",
      "Repeat \u001b[1m\u001b[34m#3\n"
     ]
    },
    {
     "name": "stderr",
     "output_type": "stream",
     "text": [
      "[I 2023-06-22 01:51:21,809] Trial 396 finished with value: 0.3402440950903163 and parameters: {'bootstrap_type': 'Bayesian', 'grow_policy': 'Lossguide', 'learning_rate': 0.031814280671377926, 'l2_leaf_reg': 0.6428510409489542, 'depth': 4, 'random_strength': 6.607650220580309, 'min_data_in_leaf': 32, 'bagging_temperature': 38.489133566431235, 'max_leaves': 49}. Best is trial 366 with value: 0.3097665662645319.\n"
     ]
    },
    {
     "name": "stdout",
     "output_type": "stream",
     "text": [
      "Repeat \u001b[1m\u001b[34m#1\n",
      "Repeat \u001b[1m\u001b[34m#2\n",
      "Repeat \u001b[1m\u001b[34m#3\n"
     ]
    },
    {
     "name": "stderr",
     "output_type": "stream",
     "text": [
      "[I 2023-06-22 01:52:09,782] Trial 397 finished with value: 0.44051791797378653 and parameters: {'bootstrap_type': 'Bayesian', 'grow_policy': 'Lossguide', 'learning_rate': 0.0030123716283655035, 'l2_leaf_reg': 22.267471893734324, 'depth': 4, 'random_strength': 2.4936961349172804, 'min_data_in_leaf': 39, 'bagging_temperature': 42.065139241555414, 'max_leaves': 125}. Best is trial 366 with value: 0.3097665662645319.\n"
     ]
    },
    {
     "name": "stdout",
     "output_type": "stream",
     "text": [
      "Repeat \u001b[1m\u001b[34m#1\n",
      "Repeat \u001b[1m\u001b[34m#2\n",
      "Repeat \u001b[1m\u001b[34m#3\n"
     ]
    },
    {
     "name": "stderr",
     "output_type": "stream",
     "text": [
      "[I 2023-06-22 01:52:38,005] Trial 398 finished with value: 0.32442688345287635 and parameters: {'bootstrap_type': 'Bayesian', 'grow_policy': 'Depthwise', 'learning_rate': 0.055453952079227646, 'l2_leaf_reg': 67.19281348008505, 'depth': 4, 'random_strength': 72.2902545826224, 'min_data_in_leaf': 46, 'bagging_temperature': 45.36056998408841}. Best is trial 366 with value: 0.3097665662645319.\n"
     ]
    },
    {
     "name": "stdout",
     "output_type": "stream",
     "text": [
      "Repeat \u001b[1m\u001b[34m#1\n",
      "Repeat \u001b[1m\u001b[34m#2\n",
      "Repeat \u001b[1m\u001b[34m#3\n"
     ]
    },
    {
     "name": "stderr",
     "output_type": "stream",
     "text": [
      "[I 2023-06-22 01:52:49,360] Trial 399 finished with value: 0.32813092612158057 and parameters: {'bootstrap_type': 'Bayesian', 'grow_policy': 'Lossguide', 'learning_rate': 0.07349988289542547, 'l2_leaf_reg': 3.829318751258799, 'depth': 4, 'random_strength': 83.47372750149198, 'min_data_in_leaf': 43, 'bagging_temperature': 47.80296899668625, 'max_leaves': 67}. Best is trial 366 with value: 0.3097665662645319.\n"
     ]
    },
    {
     "name": "stdout",
     "output_type": "stream",
     "text": [
      "Repeat \u001b[1m\u001b[34m#1\n",
      "Repeat \u001b[1m\u001b[34m#2\n",
      "Repeat \u001b[1m\u001b[34m#3\n"
     ]
    },
    {
     "name": "stderr",
     "output_type": "stream",
     "text": [
      "[I 2023-06-22 01:52:53,516] Trial 400 finished with value: 0.9050219333695546 and parameters: {'bootstrap_type': 'Bayesian', 'grow_policy': 'SymmetricTree', 'learning_rate': 0.045333251616506774, 'l2_leaf_reg': 39.194857161578604, 'depth': 4, 'random_strength': 80.89856256824011, 'min_data_in_leaf': 37, 'bagging_temperature': 99.42773430994208, 'boosting_type': 'Ordered'}. Best is trial 366 with value: 0.3097665662645319.\n"
     ]
    },
    {
     "name": "stdout",
     "output_type": "stream",
     "text": [
      "Repeat \u001b[1m\u001b[34m#1\n",
      "Repeat \u001b[1m\u001b[34m#2\n",
      "Repeat \u001b[1m\u001b[34m#3\n"
     ]
    },
    {
     "name": "stderr",
     "output_type": "stream",
     "text": [
      "[I 2023-06-22 01:53:00,994] Trial 401 finished with value: 0.3770166942259901 and parameters: {'bootstrap_type': 'Bayesian', 'grow_policy': 'Lossguide', 'learning_rate': 0.10596369400290377, 'l2_leaf_reg': 0.016802385171838647, 'depth': 4, 'random_strength': 76.90114719345287, 'min_data_in_leaf': 41, 'bagging_temperature': 40.18299792581338, 'max_leaves': 38}. Best is trial 366 with value: 0.3097665662645319.\n"
     ]
    },
    {
     "name": "stdout",
     "output_type": "stream",
     "text": [
      "Repeat \u001b[1m\u001b[34m#1\n",
      "Repeat \u001b[1m\u001b[34m#2\n",
      "Repeat \u001b[1m\u001b[34m#3\n"
     ]
    },
    {
     "name": "stderr",
     "output_type": "stream",
     "text": [
      "[I 2023-06-22 01:53:11,942] Trial 402 finished with value: 0.3390860133605999 and parameters: {'bootstrap_type': 'Bayesian', 'grow_policy': 'Lossguide', 'learning_rate': 0.09170579773891234, 'l2_leaf_reg': 6.83195998257057, 'depth': 4, 'random_strength': 62.936400577431485, 'min_data_in_leaf': 30, 'bagging_temperature': 36.66236041338629, 'max_leaves': 116}. Best is trial 366 with value: 0.3097665662645319.\n"
     ]
    },
    {
     "name": "stdout",
     "output_type": "stream",
     "text": [
      "Repeat \u001b[1m\u001b[34m#1\n",
      "Repeat \u001b[1m\u001b[34m#2\n",
      "Repeat \u001b[1m\u001b[34m#3\n"
     ]
    },
    {
     "name": "stderr",
     "output_type": "stream",
     "text": [
      "[I 2023-06-22 01:53:24,972] Trial 403 finished with value: 0.3388989094044706 and parameters: {'bootstrap_type': 'Bayesian', 'grow_policy': 'Lossguide', 'learning_rate': 0.051733292592531614, 'l2_leaf_reg': 0.2989321391150596, 'depth': 4, 'random_strength': 67.73373529374948, 'min_data_in_leaf': 34, 'bagging_temperature': 43.383060722266585, 'max_leaves': 121}. Best is trial 366 with value: 0.3097665662645319.\n"
     ]
    },
    {
     "name": "stdout",
     "output_type": "stream",
     "text": [
      "Repeat \u001b[1m\u001b[34m#1\n",
      "Repeat \u001b[1m\u001b[34m#2\n",
      "Repeat \u001b[1m\u001b[34m#3\n"
     ]
    },
    {
     "name": "stderr",
     "output_type": "stream",
     "text": [
      "[I 2023-06-22 01:53:47,662] Trial 404 finished with value: 0.32768650443975567 and parameters: {'bootstrap_type': 'Bayesian', 'grow_policy': 'Lossguide', 'learning_rate': 0.03722699294458372, 'l2_leaf_reg': 15.385715370695118, 'depth': 4, 'random_strength': 24.078907702920958, 'min_data_in_leaf': 46, 'bagging_temperature': 34.41996171696631, 'max_leaves': 118}. Best is trial 366 with value: 0.3097665662645319.\n"
     ]
    },
    {
     "name": "stdout",
     "output_type": "stream",
     "text": [
      "Repeat \u001b[1m\u001b[34m#1\n",
      "Repeat \u001b[1m\u001b[34m#2\n",
      "Repeat \u001b[1m\u001b[34m#3\n"
     ]
    },
    {
     "name": "stderr",
     "output_type": "stream",
     "text": [
      "[I 2023-06-22 01:54:20,287] Trial 405 finished with value: 0.3228947291482002 and parameters: {'bootstrap_type': 'Bayesian', 'grow_policy': 'Lossguide', 'learning_rate': 0.023827465870091605, 'l2_leaf_reg': 9.441682884417768, 'depth': 4, 'random_strength': 47.0875420514446, 'min_data_in_leaf': 36, 'bagging_temperature': 38.65102752869169, 'max_leaves': 113}. Best is trial 366 with value: 0.3097665662645319.\n"
     ]
    },
    {
     "name": "stdout",
     "output_type": "stream",
     "text": [
      "Repeat \u001b[1m\u001b[34m#1\n",
      "Repeat \u001b[1m\u001b[34m#2\n",
      "Repeat \u001b[1m\u001b[34m#3\n"
     ]
    },
    {
     "name": "stderr",
     "output_type": "stream",
     "text": [
      "[I 2023-06-22 01:54:34,980] Trial 406 finished with value: 0.34127704202356224 and parameters: {'bootstrap_type': 'Bayesian', 'grow_policy': 'Depthwise', 'learning_rate': 0.04284179525153136, 'l2_leaf_reg': 1.368360884522738, 'depth': 4, 'random_strength': 60.132812520724805, 'min_data_in_leaf': 53, 'bagging_temperature': 40.929267473407045}. Best is trial 366 with value: 0.3097665662645319.\n"
     ]
    },
    {
     "name": "stdout",
     "output_type": "stream",
     "text": [
      "Repeat \u001b[1m\u001b[34m#1\n",
      "Repeat \u001b[1m\u001b[34m#2\n",
      "Repeat \u001b[1m\u001b[34m#3\n"
     ]
    },
    {
     "name": "stderr",
     "output_type": "stream",
     "text": [
      "[I 2023-06-22 01:54:38,519] Trial 407 finished with value: 0.4337331855851723 and parameters: {'bootstrap_type': 'Bernoulli', 'grow_policy': 'Lossguide', 'learning_rate': 0.12130746385307917, 'l2_leaf_reg': 9.939104542413774e-05, 'depth': 4, 'random_strength': 74.20897354096856, 'min_data_in_leaf': 40, 'subsample': 0.4047037083280167, 'colsample_bylevel': 0.822848044839877, 'max_leaves': 128}. Best is trial 366 with value: 0.3097665662645319.\n"
     ]
    },
    {
     "name": "stdout",
     "output_type": "stream",
     "text": [
      "Repeat \u001b[1m\u001b[34m#1\n",
      "Repeat \u001b[1m\u001b[34m#2\n",
      "Repeat \u001b[1m\u001b[34m#3\n"
     ]
    },
    {
     "name": "stderr",
     "output_type": "stream",
     "text": [
      "[I 2023-06-22 01:55:40,495] Trial 408 finished with value: 0.34612012740445847 and parameters: {'bootstrap_type': 'Bayesian', 'grow_policy': 'Lossguide', 'learning_rate': 0.009311024042953454, 'l2_leaf_reg': 28.476756041989372, 'depth': 5, 'random_strength': 20.145042034707828, 'min_data_in_leaf': 38, 'bagging_temperature': 21.677022529824644, 'max_leaves': 53}. Best is trial 366 with value: 0.3097665662645319.\n"
     ]
    },
    {
     "name": "stdout",
     "output_type": "stream",
     "text": [
      "Repeat \u001b[1m\u001b[34m#1\n",
      "Repeat \u001b[1m\u001b[34m#2\n",
      "Repeat \u001b[1m\u001b[34m#3\n"
     ]
    },
    {
     "name": "stderr",
     "output_type": "stream",
     "text": [
      "[I 2023-06-22 01:56:13,008] Trial 409 finished with value: 0.3357022185761827 and parameters: {'bootstrap_type': 'Bayesian', 'grow_policy': 'Lossguide', 'learning_rate': 0.0136839945316275, 'l2_leaf_reg': 2.990136629891637, 'depth': 4, 'random_strength': 78.11069029488583, 'min_data_in_leaf': 43, 'bagging_temperature': 13.195864046791705, 'max_leaves': 108}. Best is trial 366 with value: 0.3097665662645319.\n"
     ]
    },
    {
     "name": "stdout",
     "output_type": "stream",
     "text": [
      "Repeat \u001b[1m\u001b[34m#1\n",
      "Repeat \u001b[1m\u001b[34m#2\n",
      "Repeat \u001b[1m\u001b[34m#3\n"
     ]
    },
    {
     "name": "stderr",
     "output_type": "stream",
     "text": [
      "[I 2023-06-22 01:56:33,628] Trial 410 finished with value: 0.32738240017801234 and parameters: {'bootstrap_type': 'Bayesian', 'grow_policy': 'Lossguide', 'learning_rate': 0.1369733658536748, 'l2_leaf_reg': 51.52964726402703, 'depth': 4, 'random_strength': 79.85648671252103, 'min_data_in_leaf': 19, 'bagging_temperature': 45.4144003645739, 'max_leaves': 94}. Best is trial 366 with value: 0.3097665662645319.\n"
     ]
    },
    {
     "name": "stdout",
     "output_type": "stream",
     "text": [
      "Repeat \u001b[1m\u001b[34m#1\n",
      "Repeat \u001b[1m\u001b[34m#2\n",
      "Repeat \u001b[1m\u001b[34m#3\n"
     ]
    },
    {
     "name": "stderr",
     "output_type": "stream",
     "text": [
      "[I 2023-06-22 01:56:40,619] Trial 411 finished with value: 0.5158764878991308 and parameters: {'bootstrap_type': 'No', 'grow_policy': 'Lossguide', 'learning_rate': 0.06445846469823109, 'l2_leaf_reg': 0.0007637506274965023, 'depth': 9, 'random_strength': 56.65458187361116, 'min_data_in_leaf': 48, 'colsample_bylevel': 0.9213644250268094, 'max_leaves': 43}. Best is trial 366 with value: 0.3097665662645319.\n"
     ]
    },
    {
     "name": "stdout",
     "output_type": "stream",
     "text": [
      "Repeat \u001b[1m\u001b[34m#1\n",
      "Repeat \u001b[1m\u001b[34m#2\n",
      "Repeat \u001b[1m\u001b[34m#3\n"
     ]
    },
    {
     "name": "stderr",
     "output_type": "stream",
     "text": [
      "[I 2023-06-22 01:56:58,685] Trial 412 finished with value: 0.35761660958118746 and parameters: {'bootstrap_type': 'Bayesian', 'grow_policy': 'Depthwise', 'learning_rate': 0.032321492347894554, 'l2_leaf_reg': 14.885222765087006, 'depth': 4, 'random_strength': 27.46575686234941, 'min_data_in_leaf': 32, 'bagging_temperature': 7.77669708555495}. Best is trial 366 with value: 0.3097665662645319.\n"
     ]
    },
    {
     "name": "stdout",
     "output_type": "stream",
     "text": [
      "Repeat \u001b[1m\u001b[34m#1\n",
      "Repeat \u001b[1m\u001b[34m#2\n",
      "Repeat \u001b[1m\u001b[34m#3\n"
     ]
    },
    {
     "name": "stderr",
     "output_type": "stream",
     "text": [
      "[I 2023-06-22 01:57:09,953] Trial 413 finished with value: 0.34186947535150686 and parameters: {'bootstrap_type': 'Bayesian', 'grow_policy': 'Lossguide', 'learning_rate': 0.07700872557626744, 'l2_leaf_reg': 4.453361972433828, 'depth': 4, 'random_strength': 71.6238442206264, 'min_data_in_leaf': 51, 'bagging_temperature': 36.204142713957296, 'max_leaves': 111}. Best is trial 366 with value: 0.3097665662645319.\n"
     ]
    },
    {
     "name": "stdout",
     "output_type": "stream",
     "text": [
      "Repeat \u001b[1m\u001b[34m#1\n",
      "Repeat \u001b[1m\u001b[34m#2\n",
      "Repeat \u001b[1m\u001b[34m#3\n"
     ]
    },
    {
     "name": "stderr",
     "output_type": "stream",
     "text": [
      "[I 2023-06-22 01:57:23,584] Trial 414 finished with value: 0.379901355668616 and parameters: {'bootstrap_type': 'Bayesian', 'grow_policy': 'Lossguide', 'learning_rate': 0.027113385989294723, 'l2_leaf_reg': 0.0021714379678573602, 'depth': 4, 'random_strength': 76.17190066242048, 'min_data_in_leaf': 23, 'bagging_temperature': 28.764182344347226, 'max_leaves': 123}. Best is trial 366 with value: 0.3097665662645319.\n"
     ]
    },
    {
     "name": "stdout",
     "output_type": "stream",
     "text": [
      "Repeat \u001b[1m\u001b[34m#1\n",
      "Repeat \u001b[1m\u001b[34m#2\n",
      "Repeat \u001b[1m\u001b[34m#3\n"
     ]
    },
    {
     "name": "stderr",
     "output_type": "stream",
     "text": [
      "[I 2023-06-22 01:57:33,220] Trial 415 finished with value: 0.3859256073669503 and parameters: {'bootstrap_type': 'Bayesian', 'grow_policy': 'Lossguide', 'learning_rate': 0.040751241784279406, 'l2_leaf_reg': 4.921250505642739e-05, 'depth': 4, 'random_strength': 38.67120521157504, 'min_data_in_leaf': 35, 'bagging_temperature': 19.05257488326748, 'max_leaves': 116}. Best is trial 366 with value: 0.3097665662645319.\n"
     ]
    },
    {
     "name": "stdout",
     "output_type": "stream",
     "text": [
      "Repeat \u001b[1m\u001b[34m#1\n",
      "Repeat \u001b[1m\u001b[34m#2\n",
      "Repeat \u001b[1m\u001b[34m#3\n"
     ]
    },
    {
     "name": "stderr",
     "output_type": "stream",
     "text": [
      "[I 2023-06-22 01:57:43,173] Trial 416 finished with value: 0.43511502021918735 and parameters: {'bootstrap_type': 'Bayesian', 'grow_policy': 'Lossguide', 'learning_rate': 0.047489896636453, 'l2_leaf_reg': 0.00023296406561009808, 'depth': 7, 'random_strength': 74.25033299889964, 'min_data_in_leaf': 57, 'bagging_temperature': 42.78738810505468, 'max_leaves': 56}. Best is trial 366 with value: 0.3097665662645319.\n"
     ]
    },
    {
     "name": "stdout",
     "output_type": "stream",
     "text": [
      "Repeat \u001b[1m\u001b[34m#1\n",
      "Repeat \u001b[1m\u001b[34m#2\n",
      "Repeat \u001b[1m\u001b[34m#3\n"
     ]
    },
    {
     "name": "stderr",
     "output_type": "stream",
     "text": [
      "[I 2023-06-22 01:57:55,165] Trial 417 finished with value: 0.3619620372314207 and parameters: {'bootstrap_type': 'Bayesian', 'grow_policy': 'Lossguide', 'learning_rate': 0.05727071412009514, 'l2_leaf_reg': 23.53703129541526, 'depth': 4, 'random_strength': 85.48354429275331, 'min_data_in_leaf': 41, 'bagging_temperature': 4.9408154565433335, 'max_leaves': 100}. Best is trial 366 with value: 0.3097665662645319.\n"
     ]
    },
    {
     "name": "stdout",
     "output_type": "stream",
     "text": [
      "Repeat \u001b[1m\u001b[34m#1\n",
      "Repeat \u001b[1m\u001b[34m#2\n",
      "Repeat \u001b[1m\u001b[34m#3\n"
     ]
    },
    {
     "name": "stderr",
     "output_type": "stream",
     "text": [
      "[I 2023-06-22 01:57:59,395] Trial 418 finished with value: 0.3983483031598008 and parameters: {'bootstrap_type': 'Bayesian', 'grow_policy': 'Depthwise', 'learning_rate': 0.17023889708697174, 'l2_leaf_reg': 0.005585201157188506, 'depth': 4, 'random_strength': 32.62663914094048, 'min_data_in_leaf': 44, 'bagging_temperature': 10.647732354166171}. Best is trial 366 with value: 0.3097665662645319.\n"
     ]
    },
    {
     "name": "stdout",
     "output_type": "stream",
     "text": [
      "Repeat \u001b[1m\u001b[34m#1\n",
      "Repeat \u001b[1m\u001b[34m#2\n",
      "Repeat \u001b[1m\u001b[34m#3\n"
     ]
    },
    {
     "name": "stderr",
     "output_type": "stream",
     "text": [
      "[I 2023-06-22 01:58:02,531] Trial 419 finished with value: 0.403397437564037 and parameters: {'bootstrap_type': 'MVS', 'grow_policy': 'Lossguide', 'learning_rate': 0.09212382917193884, 'l2_leaf_reg': 7.73366560979726e-08, 'depth': 4, 'random_strength': 3.8255411415909784, 'min_data_in_leaf': 38, 'subsample': 0.43423845994548793, 'colsample_bylevel': 0.973798165938633, 'max_leaves': 48}. Best is trial 366 with value: 0.3097665662645319.\n"
     ]
    },
    {
     "name": "stdout",
     "output_type": "stream",
     "text": [
      "Repeat \u001b[1m\u001b[34m#1\n",
      "Repeat \u001b[1m\u001b[34m#2\n",
      "Repeat \u001b[1m\u001b[34m#3\n"
     ]
    },
    {
     "name": "stderr",
     "output_type": "stream",
     "text": [
      "[I 2023-06-22 01:58:08,923] Trial 420 finished with value: 0.4196410425586541 and parameters: {'bootstrap_type': 'Bayesian', 'grow_policy': 'Lossguide', 'learning_rate': 0.11086129708844805, 'l2_leaf_reg': 0.0027562832833160386, 'depth': 4, 'random_strength': 14.994099428844683, 'min_data_in_leaf': 28, 'bagging_temperature': 32.54469779611367, 'max_leaves': 120}. Best is trial 366 with value: 0.3097665662645319.\n"
     ]
    },
    {
     "name": "stdout",
     "output_type": "stream",
     "text": [
      "Repeat \u001b[1m\u001b[34m#1\n",
      "Repeat \u001b[1m\u001b[34m#2\n",
      "Repeat \u001b[1m\u001b[34m#3\n"
     ]
    },
    {
     "name": "stderr",
     "output_type": "stream",
     "text": [
      "[I 2023-06-22 01:58:20,967] Trial 421 finished with value: 0.35590623123363 and parameters: {'bootstrap_type': 'Bayesian', 'grow_policy': 'SymmetricTree', 'learning_rate': 0.034819418325497155, 'l2_leaf_reg': 0.970936310130315, 'depth': 4, 'random_strength': 65.37151837356821, 'min_data_in_leaf': 33, 'bagging_temperature': 39.32878854793006, 'boosting_type': 'Plain'}. Best is trial 366 with value: 0.3097665662645319.\n"
     ]
    },
    {
     "name": "stdout",
     "output_type": "stream",
     "text": [
      "Repeat \u001b[1m\u001b[34m#1\n",
      "Repeat \u001b[1m\u001b[34m#2\n",
      "Repeat \u001b[1m\u001b[34m#3\n"
     ]
    },
    {
     "name": "stderr",
     "output_type": "stream",
     "text": [
      "[I 2023-06-22 01:58:34,603] Trial 422 finished with value: 0.33903791325788557 and parameters: {'bootstrap_type': 'Bayesian', 'grow_policy': 'Lossguide', 'learning_rate': 0.06905729181067595, 'l2_leaf_reg': 8.655490934586032, 'depth': 4, 'random_strength': 82.02507682644426, 'min_data_in_leaf': 30, 'bagging_temperature': 47.35828615723353, 'max_leaves': 106}. Best is trial 366 with value: 0.3097665662645319.\n"
     ]
    },
    {
     "name": "stdout",
     "output_type": "stream",
     "text": [
      "Repeat \u001b[1m\u001b[34m#1\n",
      "Repeat \u001b[1m\u001b[34m#2\n",
      "Repeat \u001b[1m\u001b[34m#3\n"
     ]
    },
    {
     "name": "stderr",
     "output_type": "stream",
     "text": [
      "[I 2023-06-22 01:58:48,461] Trial 423 finished with value: 0.3449928564659214 and parameters: {'bootstrap_type': 'Bayesian', 'grow_policy': 'Lossguide', 'learning_rate': 0.03139735339866033, 'l2_leaf_reg': 0.2182653941977898, 'depth': 4, 'random_strength': 52.35346334229132, 'min_data_in_leaf': 74, 'bagging_temperature': 12.689554435338401, 'max_leaves': 18}. Best is trial 366 with value: 0.3097665662645319.\n"
     ]
    },
    {
     "name": "stdout",
     "output_type": "stream",
     "text": [
      "Repeat \u001b[1m\u001b[34m#1\n",
      "Repeat \u001b[1m\u001b[34m#2\n",
      "Repeat \u001b[1m\u001b[34m#3\n"
     ]
    },
    {
     "name": "stderr",
     "output_type": "stream",
     "text": [
      "[I 2023-06-22 01:59:01,520] Trial 424 finished with value: 0.3557923324037966 and parameters: {'bootstrap_type': 'Bayesian', 'grow_policy': 'Lossguide', 'learning_rate': 0.05106042414258221, 'l2_leaf_reg': 0.19171421668699182, 'depth': 4, 'random_strength': 77.37371507015027, 'min_data_in_leaf': 36, 'bagging_temperature': 37.52909280980885, 'max_leaves': 114}. Best is trial 366 with value: 0.3097665662645319.\n"
     ]
    },
    {
     "name": "stdout",
     "output_type": "stream",
     "text": [
      "Repeat \u001b[1m\u001b[34m#1\n",
      "Repeat \u001b[1m\u001b[34m#2\n",
      "Repeat \u001b[1m\u001b[34m#3\n"
     ]
    },
    {
     "name": "stderr",
     "output_type": "stream",
     "text": [
      "[I 2023-06-22 01:59:23,385] Trial 425 finished with value: 0.33322023231780123 and parameters: {'bootstrap_type': 'Bayesian', 'grow_policy': 'Lossguide', 'learning_rate': 0.03714147235690184, 'l2_leaf_reg': 2.323127813852362, 'depth': 4, 'random_strength': 7.954135144633887, 'min_data_in_leaf': 16, 'bagging_temperature': 41.02895946379005, 'max_leaves': 89}. Best is trial 366 with value: 0.3097665662645319.\n"
     ]
    },
    {
     "name": "stdout",
     "output_type": "stream",
     "text": [
      "Repeat \u001b[1m\u001b[34m#1\n",
      "Repeat \u001b[1m\u001b[34m#2\n",
      "Repeat \u001b[1m\u001b[34m#3\n"
     ]
    },
    {
     "name": "stderr",
     "output_type": "stream",
     "text": [
      "[I 2023-06-22 01:59:48,383] Trial 426 finished with value: 0.31957128276486796 and parameters: {'bootstrap_type': 'Bayesian', 'grow_policy': 'Depthwise', 'learning_rate': 0.08075719890731713, 'l2_leaf_reg': 76.93046188996347, 'depth': 4, 'random_strength': 21.843892239202614, 'min_data_in_leaf': 47, 'bagging_temperature': 44.629725907755656}. Best is trial 366 with value: 0.3097665662645319.\n"
     ]
    },
    {
     "name": "stdout",
     "output_type": "stream",
     "text": [
      "Repeat \u001b[1m\u001b[34m#1\n",
      "Repeat \u001b[1m\u001b[34m#2\n",
      "Repeat \u001b[1m\u001b[34m#3\n"
     ]
    },
    {
     "name": "stderr",
     "output_type": "stream",
     "text": [
      "[I 2023-06-22 02:00:02,239] Trial 427 finished with value: 0.38382380078100936 and parameters: {'bootstrap_type': 'Bayesian', 'grow_policy': 'Depthwise', 'learning_rate': 0.08448794303833929, 'l2_leaf_reg': 87.6984828225505, 'depth': 4, 'random_strength': 44.52847234448076, 'min_data_in_leaf': 48, 'bagging_temperature': 3.2524080356119214}. Best is trial 366 with value: 0.3097665662645319.\n"
     ]
    },
    {
     "name": "stdout",
     "output_type": "stream",
     "text": [
      "Repeat \u001b[1m\u001b[34m#1\n",
      "Repeat \u001b[1m\u001b[34m#2\n",
      "Repeat \u001b[1m\u001b[34m#3\n"
     ]
    },
    {
     "name": "stderr",
     "output_type": "stream",
     "text": [
      "[I 2023-06-22 02:00:08,783] Trial 428 finished with value: 0.37985866251732253 and parameters: {'bootstrap_type': 'Bayesian', 'grow_policy': 'Depthwise', 'learning_rate': 0.08205397631775965, 'l2_leaf_reg': 0.0014869443553707738, 'depth': 4, 'random_strength': 26.003015301713052, 'min_data_in_leaf': 51, 'bagging_temperature': 46.09371471735432}. Best is trial 366 with value: 0.3097665662645319.\n"
     ]
    },
    {
     "name": "stdout",
     "output_type": "stream",
     "text": [
      "Repeat \u001b[1m\u001b[34m#1\n",
      "Repeat \u001b[1m\u001b[34m#2\n",
      "Repeat \u001b[1m\u001b[34m#3\n"
     ]
    },
    {
     "name": "stderr",
     "output_type": "stream",
     "text": [
      "[I 2023-06-22 02:00:14,098] Trial 429 finished with value: 0.4174709625680533 and parameters: {'bootstrap_type': 'Bayesian', 'grow_policy': 'Depthwise', 'learning_rate': 0.0940966151518318, 'l2_leaf_reg': 1.4341028145092452e-08, 'depth': 4, 'random_strength': 20.34822752359603, 'min_data_in_leaf': 47, 'bagging_temperature': 44.23487935546486}. Best is trial 366 with value: 0.3097665662645319.\n"
     ]
    },
    {
     "name": "stdout",
     "output_type": "stream",
     "text": [
      "Repeat \u001b[1m\u001b[34m#1\n",
      "Repeat \u001b[1m\u001b[34m#2\n",
      "Repeat \u001b[1m\u001b[34m#3\n"
     ]
    },
    {
     "name": "stderr",
     "output_type": "stream",
     "text": [
      "[I 2023-06-22 02:00:28,011] Trial 430 finished with value: 0.3805332516817339 and parameters: {'bootstrap_type': 'Bayesian', 'grow_policy': 'Depthwise', 'learning_rate': 0.07807267275359617, 'l2_leaf_reg': 97.21133339348252, 'depth': 4, 'random_strength': 40.27566285235778, 'min_data_in_leaf': 49, 'bagging_temperature': 1.87042114885422}. Best is trial 366 with value: 0.3097665662645319.\n"
     ]
    },
    {
     "name": "stdout",
     "output_type": "stream",
     "text": [
      "Repeat \u001b[1m\u001b[34m#1\n",
      "Repeat \u001b[1m\u001b[34m#2\n",
      "Repeat \u001b[1m\u001b[34m#3\n"
     ]
    },
    {
     "name": "stderr",
     "output_type": "stream",
     "text": [
      "[I 2023-06-22 02:00:58,919] Trial 431 finished with value: 0.45009757205482087 and parameters: {'bootstrap_type': 'Bayesian', 'grow_policy': 'Depthwise', 'learning_rate': 0.00795791021055799, 'l2_leaf_reg': 54.994157171289245, 'depth': 4, 'random_strength': 23.674288534299528, 'min_data_in_leaf': 46, 'bagging_temperature': 47.8593035569105}. Best is trial 366 with value: 0.3097665662645319.\n"
     ]
    },
    {
     "name": "stdout",
     "output_type": "stream",
     "text": [
      "Repeat \u001b[1m\u001b[34m#1\n",
      "Repeat \u001b[1m\u001b[34m#2\n",
      "Repeat \u001b[1m\u001b[34m#3\n"
     ]
    },
    {
     "name": "stderr",
     "output_type": "stream",
     "text": [
      "[I 2023-06-22 02:01:19,144] Trial 432 finished with value: 0.31760439539589624 and parameters: {'bootstrap_type': 'Bayesian', 'grow_policy': 'Depthwise', 'learning_rate': 0.06800682917504572, 'l2_leaf_reg': 42.96021429335392, 'depth': 4, 'random_strength': 11.461115596544841, 'min_data_in_leaf': 54, 'bagging_temperature': 44.6560407808837}. Best is trial 366 with value: 0.3097665662645319.\n"
     ]
    },
    {
     "name": "stdout",
     "output_type": "stream",
     "text": [
      "Repeat \u001b[1m\u001b[34m#1\n",
      "Repeat \u001b[1m\u001b[34m#2\n",
      "Repeat \u001b[1m\u001b[34m#3\n"
     ]
    },
    {
     "name": "stderr",
     "output_type": "stream",
     "text": [
      "[I 2023-06-22 02:01:26,140] Trial 433 finished with value: 0.35422930484683546 and parameters: {'bootstrap_type': 'Bernoulli', 'grow_policy': 'Depthwise', 'learning_rate': 0.0712578326782243, 'l2_leaf_reg': 44.265561965648146, 'depth': 4, 'random_strength': 11.198084958381365, 'min_data_in_leaf': 55, 'subsample': 0.3627902327198433, 'colsample_bylevel': 0.3858861651504037}. Best is trial 366 with value: 0.3097665662645319.\n"
     ]
    },
    {
     "name": "stdout",
     "output_type": "stream",
     "text": [
      "Repeat \u001b[1m\u001b[34m#1\n",
      "Repeat \u001b[1m\u001b[34m#2\n",
      "Repeat \u001b[1m\u001b[34m#3\n"
     ]
    },
    {
     "name": "stderr",
     "output_type": "stream",
     "text": [
      "[I 2023-06-22 02:01:50,516] Trial 434 finished with value: 0.3291776114566319 and parameters: {'bootstrap_type': 'Bayesian', 'grow_policy': 'Depthwise', 'learning_rate': 0.06269886455184491, 'l2_leaf_reg': 67.37573763752609, 'depth': 4, 'random_strength': 11.732192097327253, 'min_data_in_leaf': 59, 'bagging_temperature': 43.84751532446189}. Best is trial 366 with value: 0.3097665662645319.\n"
     ]
    },
    {
     "name": "stdout",
     "output_type": "stream",
     "text": [
      "Repeat \u001b[1m\u001b[34m#1\n",
      "Repeat \u001b[1m\u001b[34m#2\n",
      "Repeat \u001b[1m\u001b[34m#3\n"
     ]
    },
    {
     "name": "stderr",
     "output_type": "stream",
     "text": [
      "[I 2023-06-22 02:02:26,189] Trial 435 finished with value: 0.5877090414588021 and parameters: {'bootstrap_type': 'Bayesian', 'grow_policy': 'Depthwise', 'learning_rate': 0.0019277160530680097, 'l2_leaf_reg': 38.21603699301753, 'depth': 4, 'random_strength': 17.233317848981464, 'min_data_in_leaf': 61, 'bagging_temperature': 45.519306807166465}. Best is trial 366 with value: 0.3097665662645319.\n"
     ]
    },
    {
     "name": "stdout",
     "output_type": "stream",
     "text": [
      "Repeat \u001b[1m\u001b[34m#1\n",
      "Repeat \u001b[1m\u001b[34m#2\n",
      "Repeat \u001b[1m\u001b[34m#3\n"
     ]
    },
    {
     "name": "stderr",
     "output_type": "stream",
     "text": [
      "[I 2023-06-22 02:02:46,740] Trial 436 finished with value: 0.35815785818897133 and parameters: {'bootstrap_type': 'Bayesian', 'grow_policy': 'Depthwise', 'learning_rate': 0.07523384660188599, 'l2_leaf_reg': 68.17666673870049, 'depth': 5, 'random_strength': 9.873854625485563, 'min_data_in_leaf': 53, 'bagging_temperature': 50.727146120730964}. Best is trial 366 with value: 0.3097665662645319.\n"
     ]
    },
    {
     "name": "stdout",
     "output_type": "stream",
     "text": [
      "Repeat \u001b[1m\u001b[34m#1\n",
      "Repeat \u001b[1m\u001b[34m#2\n",
      "Repeat \u001b[1m\u001b[34m#3\n"
     ]
    },
    {
     "name": "stderr",
     "output_type": "stream",
     "text": [
      "[I 2023-06-22 02:02:54,000] Trial 437 finished with value: 0.38662245218856306 and parameters: {'bootstrap_type': 'No', 'grow_policy': 'Depthwise', 'learning_rate': 0.06929048413038158, 'l2_leaf_reg': 31.205641912532503, 'depth': 4, 'random_strength': 13.378671922683965, 'min_data_in_leaf': 51, 'colsample_bylevel': 0.8420095159819765}. Best is trial 366 with value: 0.3097665662645319.\n"
     ]
    },
    {
     "name": "stdout",
     "output_type": "stream",
     "text": [
      "Repeat \u001b[1m\u001b[34m#1\n",
      "Repeat \u001b[1m\u001b[34m#2\n",
      "Repeat \u001b[1m\u001b[34m#3\n"
     ]
    },
    {
     "name": "stderr",
     "output_type": "stream",
     "text": [
      "[I 2023-06-22 02:03:13,044] Trial 438 finished with value: 0.347119854481768 and parameters: {'bootstrap_type': 'Bayesian', 'grow_policy': 'Depthwise', 'learning_rate': 0.061259158068742395, 'l2_leaf_reg': 46.826410523025444, 'depth': 4, 'random_strength': 16.472681662606718, 'min_data_in_leaf': 63, 'bagging_temperature': 48.58833387554391}. Best is trial 366 with value: 0.3097665662645319.\n"
     ]
    },
    {
     "name": "stdout",
     "output_type": "stream",
     "text": [
      "Repeat \u001b[1m\u001b[34m#1\n",
      "Repeat \u001b[1m\u001b[34m#2\n",
      "Repeat \u001b[1m\u001b[34m#3\n"
     ]
    },
    {
     "name": "stderr",
     "output_type": "stream",
     "text": [
      "[I 2023-06-22 02:03:36,167] Trial 439 finished with value: 0.3354344876132694 and parameters: {'bootstrap_type': 'Bayesian', 'grow_policy': 'Depthwise', 'learning_rate': 0.09558686988340687, 'l2_leaf_reg': 97.8683328380419, 'depth': 4, 'random_strength': 56.030248902316416, 'min_data_in_leaf': 49, 'bagging_temperature': 17.150619669567696}. Best is trial 366 with value: 0.3097665662645319.\n"
     ]
    },
    {
     "name": "stdout",
     "output_type": "stream",
     "text": [
      "Repeat \u001b[1m\u001b[34m#1\n",
      "Repeat \u001b[1m\u001b[34m#2\n",
      "Repeat \u001b[1m\u001b[34m#3\n"
     ]
    },
    {
     "name": "stderr",
     "output_type": "stream",
     "text": [
      "[I 2023-06-22 02:03:52,806] Trial 440 finished with value: 0.32226161910952356 and parameters: {'bootstrap_type': 'Bayesian', 'grow_policy': 'Depthwise', 'learning_rate': 0.0849835086796552, 'l2_leaf_reg': 30.153696549083463, 'depth': 4, 'random_strength': 19.459244174560794, 'min_data_in_leaf': 56, 'bagging_temperature': 42.14358069570289}. Best is trial 366 with value: 0.3097665662645319.\n"
     ]
    },
    {
     "name": "stdout",
     "output_type": "stream",
     "text": [
      "Repeat \u001b[1m\u001b[34m#1\n",
      "Repeat \u001b[1m\u001b[34m#2\n",
      "Repeat \u001b[1m\u001b[34m#3\n"
     ]
    },
    {
     "name": "stderr",
     "output_type": "stream",
     "text": [
      "[I 2023-06-22 02:03:58,116] Trial 441 finished with value: 0.4279979271453534 and parameters: {'bootstrap_type': 'Bayesian', 'grow_policy': 'Depthwise', 'learning_rate': 0.10449113677868677, 'l2_leaf_reg': 1.6356975411287596e-05, 'depth': 4, 'random_strength': 68.49318606146967, 'min_data_in_leaf': 45, 'bagging_temperature': 26.70657136595242}. Best is trial 366 with value: 0.3097665662645319.\n"
     ]
    },
    {
     "name": "stdout",
     "output_type": "stream",
     "text": [
      "Repeat \u001b[1m\u001b[34m#1\n",
      "Repeat \u001b[1m\u001b[34m#2\n",
      "Repeat \u001b[1m\u001b[34m#3\n"
     ]
    },
    {
     "name": "stderr",
     "output_type": "stream",
     "text": [
      "[I 2023-06-22 02:04:04,571] Trial 442 finished with value: 0.37338827368847566 and parameters: {'bootstrap_type': 'Bayesian', 'grow_policy': 'Depthwise', 'learning_rate': 0.06618542228650108, 'l2_leaf_reg': 0.001206308094929637, 'depth': 4, 'random_strength': 95.94975637854606, 'min_data_in_leaf': 47, 'bagging_temperature': 6.602933346301574}. Best is trial 366 with value: 0.3097665662645319.\n"
     ]
    },
    {
     "name": "stdout",
     "output_type": "stream",
     "text": [
      "Repeat \u001b[1m\u001b[34m#1\n",
      "Repeat \u001b[1m\u001b[34m#2\n",
      "Repeat \u001b[1m\u001b[34m#3\n"
     ]
    },
    {
     "name": "stderr",
     "output_type": "stream",
     "text": [
      "[I 2023-06-22 02:04:21,308] Trial 443 finished with value: 0.35226884296182503 and parameters: {'bootstrap_type': 'Bayesian', 'grow_policy': 'Depthwise', 'learning_rate': 0.022946504937252938, 'l2_leaf_reg': 0.021118890447487812, 'depth': 4, 'random_strength': 21.72528740695612, 'min_data_in_leaf': 53, 'bagging_temperature': 30.78906203602145}. Best is trial 366 with value: 0.3097665662645319.\n"
     ]
    },
    {
     "name": "stdout",
     "output_type": "stream",
     "text": [
      "Repeat \u001b[1m\u001b[34m#1\n",
      "Repeat \u001b[1m\u001b[34m#2\n",
      "Repeat \u001b[1m\u001b[34m#3\n"
     ]
    },
    {
     "name": "stderr",
     "output_type": "stream",
     "text": [
      "[I 2023-06-22 02:04:27,680] Trial 444 finished with value: 0.3797091398650723 and parameters: {'bootstrap_type': 'MVS', 'grow_policy': 'Depthwise', 'learning_rate': 0.05815126779218152, 'l2_leaf_reg': 20.547128228392292, 'depth': 4, 'random_strength': 2.2525251568908082, 'min_data_in_leaf': 39, 'subsample': 0.5673612811887101, 'colsample_bylevel': 0.887401105233745}. Best is trial 366 with value: 0.3097665662645319.\n"
     ]
    },
    {
     "name": "stdout",
     "output_type": "stream",
     "text": [
      "Repeat \u001b[1m\u001b[34m#1\n",
      "Repeat \u001b[1m\u001b[34m#2\n",
      "Repeat \u001b[1m\u001b[34m#3\n"
     ]
    },
    {
     "name": "stderr",
     "output_type": "stream",
     "text": [
      "[I 2023-06-22 02:05:10,071] Trial 445 finished with value: 0.3367055304680357 and parameters: {'bootstrap_type': 'Bayesian', 'grow_policy': 'Depthwise', 'learning_rate': 0.027443565070346218, 'l2_leaf_reg': 53.48171468307204, 'depth': 4, 'random_strength': 71.23217376552189, 'min_data_in_leaf': 25, 'bagging_temperature': 14.97700811879563}. Best is trial 366 with value: 0.3097665662645319.\n"
     ]
    },
    {
     "name": "stdout",
     "output_type": "stream",
     "text": [
      "Repeat \u001b[1m\u001b[34m#1\n",
      "Repeat \u001b[1m\u001b[34m#2\n",
      "Repeat \u001b[1m\u001b[34m#3\n"
     ]
    },
    {
     "name": "stderr",
     "output_type": "stream",
     "text": [
      "[I 2023-06-22 02:05:55,516] Trial 446 finished with value: 0.3697162140476125 and parameters: {'bootstrap_type': 'Bayesian', 'grow_policy': 'SymmetricTree', 'learning_rate': 0.1314574308364698, 'l2_leaf_reg': 36.21276691871172, 'depth': 4, 'random_strength': 61.654174029390035, 'min_data_in_leaf': 50, 'bagging_temperature': 10.769480883042055, 'boosting_type': 'Ordered'}. Best is trial 366 with value: 0.3097665662645319.\n"
     ]
    },
    {
     "name": "stdout",
     "output_type": "stream",
     "text": [
      "Repeat \u001b[1m\u001b[34m#1\n",
      "Repeat \u001b[1m\u001b[34m#2\n",
      "Repeat \u001b[1m\u001b[34m#3\n"
     ]
    },
    {
     "name": "stderr",
     "output_type": "stream",
     "text": [
      "[I 2023-06-22 02:06:06,082] Trial 447 finished with value: 0.3296440501758708 and parameters: {'bootstrap_type': 'Bayesian', 'grow_policy': 'Depthwise', 'learning_rate': 0.07739306977743782, 'l2_leaf_reg': 1.5568799511639648, 'depth': 4, 'random_strength': 87.74382532176014, 'min_data_in_leaf': 44, 'bagging_temperature': 44.03945263089355}. Best is trial 366 with value: 0.3097665662645319.\n"
     ]
    },
    {
     "name": "stdout",
     "output_type": "stream",
     "text": [
      "Repeat \u001b[1m\u001b[34m#1\n",
      "Repeat \u001b[1m\u001b[34m#2\n",
      "Repeat \u001b[1m\u001b[34m#3\n"
     ]
    },
    {
     "name": "stderr",
     "output_type": "stream",
     "text": [
      "[I 2023-06-22 02:06:35,165] Trial 448 finished with value: 0.32560919753654716 and parameters: {'bootstrap_type': 'Bayesian', 'grow_policy': 'Lossguide', 'learning_rate': 0.06623584282318333, 'l2_leaf_reg': 98.24993787647516, 'depth': 4, 'random_strength': 14.721621490399274, 'min_data_in_leaf': 40, 'bagging_temperature': 46.72653789735485, 'max_leaves': 52}. Best is trial 366 with value: 0.3097665662645319.\n"
     ]
    },
    {
     "name": "stdout",
     "output_type": "stream",
     "text": [
      "Repeat \u001b[1m\u001b[34m#1\n",
      "Repeat \u001b[1m\u001b[34m#2\n",
      "Repeat \u001b[1m\u001b[34m#3\n"
     ]
    },
    {
     "name": "stderr",
     "output_type": "stream",
     "text": [
      "[I 2023-06-22 02:06:45,463] Trial 449 finished with value: 0.33209294913940796 and parameters: {'bootstrap_type': 'Bayesian', 'grow_policy': 'Depthwise', 'learning_rate': 0.08704997765299427, 'l2_leaf_reg': 5.051303896012794, 'depth': 4, 'random_strength': 49.38301092123907, 'min_data_in_leaf': 66, 'bagging_temperature': 34.516608912835856}. Best is trial 366 with value: 0.3097665662645319.\n"
     ]
    },
    {
     "name": "stdout",
     "output_type": "stream",
     "text": [
      "Repeat \u001b[1m\u001b[34m#1\n",
      "Repeat \u001b[1m\u001b[34m#2\n",
      "Repeat \u001b[1m\u001b[34m#3\n"
     ]
    },
    {
     "name": "stderr",
     "output_type": "stream",
     "text": [
      "[I 2023-06-22 02:07:19,383] Trial 450 finished with value: 0.3272566579631217 and parameters: {'bootstrap_type': 'Bayesian', 'grow_policy': 'Lossguide', 'learning_rate': 0.020045158841386683, 'l2_leaf_reg': 12.805877973644003, 'depth': 4, 'random_strength': 84.42383779325888, 'min_data_in_leaf': 47, 'bagging_temperature': 40.73045855865455, 'max_leaves': 60}. Best is trial 366 with value: 0.3097665662645319.\n"
     ]
    },
    {
     "name": "stdout",
     "output_type": "stream",
     "text": [
      "Repeat \u001b[1m\u001b[34m#1\n",
      "Repeat \u001b[1m\u001b[34m#2\n",
      "Repeat \u001b[1m\u001b[34m#3\n"
     ]
    },
    {
     "name": "stderr",
     "output_type": "stream",
     "text": [
      "[I 2023-06-22 02:07:30,613] Trial 451 finished with value: 0.34209153540257 and parameters: {'bootstrap_type': 'Bayesian', 'grow_policy': 'Lossguide', 'learning_rate': 0.11405485778854946, 'l2_leaf_reg': 18.488734190697468, 'depth': 4, 'random_strength': 64.17509462821012, 'min_data_in_leaf': 42, 'bagging_temperature': 25.290429522814815, 'max_leaves': 38}. Best is trial 366 with value: 0.3097665662645319.\n"
     ]
    },
    {
     "name": "stdout",
     "output_type": "stream",
     "text": [
      "Repeat \u001b[1m\u001b[34m#1\n",
      "Repeat \u001b[1m\u001b[34m#2\n",
      "Repeat \u001b[1m\u001b[34m#3\n"
     ]
    },
    {
     "name": "stderr",
     "output_type": "stream",
     "text": [
      "[I 2023-06-22 02:08:17,748] Trial 452 finished with value: 0.3614863983884542 and parameters: {'bootstrap_type': 'Bayesian', 'grow_policy': 'Lossguide', 'learning_rate': 0.005387279194922328, 'l2_leaf_reg': 0.7428003351426035, 'depth': 4, 'random_strength': 73.17142849956619, 'min_data_in_leaf': 37, 'bagging_temperature': 42.20858799197453, 'max_leaves': 41}. Best is trial 366 with value: 0.3097665662645319.\n"
     ]
    },
    {
     "name": "stdout",
     "output_type": "stream",
     "text": [
      "Repeat \u001b[1m\u001b[34m#1\n",
      "Repeat \u001b[1m\u001b[34m#2\n",
      "Repeat \u001b[1m\u001b[34m#3\n"
     ]
    },
    {
     "name": "stderr",
     "output_type": "stream",
     "text": [
      "[I 2023-06-22 02:08:30,448] Trial 453 finished with value: 0.3353327227879583 and parameters: {'bootstrap_type': 'Bayesian', 'grow_policy': 'Lossguide', 'learning_rate': 0.05448589748072108, 'l2_leaf_reg': 2.8888070483603783, 'depth': 4, 'random_strength': 29.302868627614814, 'min_data_in_leaf': 58, 'bagging_temperature': 39.666820826444216, 'max_leaves': 46}. Best is trial 366 with value: 0.3097665662645319.\n"
     ]
    },
    {
     "name": "stdout",
     "output_type": "stream",
     "text": [
      "Repeat \u001b[1m\u001b[34m#1\n",
      "Repeat \u001b[1m\u001b[34m#2\n",
      "Repeat \u001b[1m\u001b[34m#3\n"
     ]
    },
    {
     "name": "stderr",
     "output_type": "stream",
     "text": [
      "[I 2023-06-22 02:08:43,245] Trial 454 finished with value: 0.34583157430244277 and parameters: {'bootstrap_type': 'Bayesian', 'grow_policy': 'Depthwise', 'learning_rate': 0.0975606227947353, 'l2_leaf_reg': 29.49763286033622, 'depth': 4, 'random_strength': 58.761765172173384, 'min_data_in_leaf': 35, 'bagging_temperature': 22.19470040441342}. Best is trial 366 with value: 0.3097665662645319.\n"
     ]
    },
    {
     "name": "stdout",
     "output_type": "stream",
     "text": [
      "Repeat \u001b[1m\u001b[34m#1\n",
      "Repeat \u001b[1m\u001b[34m#2\n",
      "Repeat \u001b[1m\u001b[34m#3\n"
     ]
    },
    {
     "name": "stderr",
     "output_type": "stream",
     "text": [
      "[I 2023-06-22 02:09:25,595] Trial 455 finished with value: 0.3311949233417597 and parameters: {'bootstrap_type': 'Bayesian', 'grow_policy': 'Lossguide', 'learning_rate': 0.024892214205274557, 'l2_leaf_reg': 46.46807200961644, 'depth': 4, 'random_strength': 6.727765559133273, 'min_data_in_leaf': 45, 'bagging_temperature': 35.833791515857804, 'max_leaves': 33}. Best is trial 366 with value: 0.3097665662645319.\n"
     ]
    },
    {
     "name": "stdout",
     "output_type": "stream",
     "text": [
      "Repeat \u001b[1m\u001b[34m#1\n",
      "Repeat \u001b[1m\u001b[34m#2\n",
      "Repeat \u001b[1m\u001b[34m#3\n"
     ]
    },
    {
     "name": "stderr",
     "output_type": "stream",
     "text": [
      "[I 2023-06-22 02:09:32,220] Trial 456 finished with value: 0.3316796446897964 and parameters: {'bootstrap_type': 'Bayesian', 'grow_policy': 'Lossguide', 'learning_rate': 0.1776587239856866, 'l2_leaf_reg': 6.966410321471348, 'depth': 4, 'random_strength': 22.065525428509318, 'min_data_in_leaf': 51, 'bagging_temperature': 45.81829822656245, 'max_leaves': 72}. Best is trial 366 with value: 0.3097665662645319.\n"
     ]
    },
    {
     "name": "stdout",
     "output_type": "stream",
     "text": [
      "Repeat \u001b[1m\u001b[34m#1\n",
      "Repeat \u001b[1m\u001b[34m#2\n",
      "Repeat \u001b[1m\u001b[34m#3\n"
     ]
    },
    {
     "name": "stderr",
     "output_type": "stream",
     "text": [
      "[I 2023-06-22 02:09:36,297] Trial 457 finished with value: 0.3682174896358085 and parameters: {'bootstrap_type': 'Bernoulli', 'grow_policy': 'Lossguide', 'learning_rate': 0.12758090024224386, 'l2_leaf_reg': 21.22872837783284, 'depth': 5, 'random_strength': 69.41546681868374, 'min_data_in_leaf': 54, 'subsample': 0.3119402549451082, 'colsample_bylevel': 0.4609336888428232, 'max_leaves': 104}. Best is trial 366 with value: 0.3097665662645319.\n"
     ]
    },
    {
     "name": "stdout",
     "output_type": "stream",
     "text": [
      "Repeat \u001b[1m\u001b[34m#1\n",
      "Repeat \u001b[1m\u001b[34m#2\n",
      "Repeat \u001b[1m\u001b[34m#3\n"
     ]
    },
    {
     "name": "stderr",
     "output_type": "stream",
     "text": [
      "[I 2023-06-22 02:09:46,319] Trial 458 finished with value: 0.34138262441242434 and parameters: {'bootstrap_type': 'Bayesian', 'grow_policy': 'Lossguide', 'learning_rate': 0.07367302348978755, 'l2_leaf_reg': 1.9719153597106676, 'depth': 4, 'random_strength': 17.521928162994783, 'min_data_in_leaf': 49, 'bagging_temperature': 32.447769308211875, 'max_leaves': 110}. Best is trial 366 with value: 0.3097665662645319.\n"
     ]
    },
    {
     "name": "stdout",
     "output_type": "stream",
     "text": [
      "Repeat \u001b[1m\u001b[34m#1\n",
      "Repeat \u001b[1m\u001b[34m#2\n",
      "Repeat \u001b[1m\u001b[34m#3\n"
     ]
    },
    {
     "name": "stderr",
     "output_type": "stream",
     "text": [
      "[I 2023-06-22 02:10:10,152] Trial 459 finished with value: 0.5146416162170634 and parameters: {'bootstrap_type': 'Bayesian', 'grow_policy': 'Depthwise', 'learning_rate': 0.0038947288253055076, 'l2_leaf_reg': 0.16931584087766136, 'depth': 4, 'random_strength': 54.1719881718818, 'min_data_in_leaf': 91, 'bagging_temperature': 49.00156564494519}. Best is trial 366 with value: 0.3097665662645319.\n"
     ]
    },
    {
     "name": "stdout",
     "output_type": "stream",
     "text": [
      "Repeat \u001b[1m\u001b[34m#1\n",
      "Repeat \u001b[1m\u001b[34m#2\n",
      "Repeat \u001b[1m\u001b[34m#3\n"
     ]
    },
    {
     "name": "stderr",
     "output_type": "stream",
     "text": [
      "[I 2023-06-22 02:10:36,493] Trial 460 finished with value: 0.3219160143374728 and parameters: {'bootstrap_type': 'Bayesian', 'grow_policy': 'Lossguide', 'learning_rate': 0.027521147918055988, 'l2_leaf_reg': 10.947800227984505, 'depth': 4, 'random_strength': 74.8175245705134, 'min_data_in_leaf': 39, 'bagging_temperature': 43.00068503780015, 'max_leaves': 107}. Best is trial 366 with value: 0.3097665662645319.\n"
     ]
    },
    {
     "name": "stdout",
     "output_type": "stream",
     "text": [
      "Repeat \u001b[1m\u001b[34m#1\n",
      "Repeat \u001b[1m\u001b[34m#2\n",
      "Repeat \u001b[1m\u001b[34m#3\n"
     ]
    },
    {
     "name": "stderr",
     "output_type": "stream",
     "text": [
      "[I 2023-06-22 02:10:41,224] Trial 461 finished with value: 0.3797119889423186 and parameters: {'bootstrap_type': 'No', 'grow_policy': 'Lossguide', 'learning_rate': 0.05837211507618544, 'l2_leaf_reg': 0.001039105944350536, 'depth': 4, 'random_strength': 4.986674419741673, 'min_data_in_leaf': 41, 'colsample_bylevel': 0.8105469701237873, 'max_leaves': 49}. Best is trial 366 with value: 0.3097665662645319.\n"
     ]
    },
    {
     "name": "stdout",
     "output_type": "stream",
     "text": [
      "Repeat \u001b[1m\u001b[34m#1\n",
      "Repeat \u001b[1m\u001b[34m#2\n",
      "Repeat \u001b[1m\u001b[34m#3\n"
     ]
    },
    {
     "name": "stderr",
     "output_type": "stream",
     "text": [
      "[I 2023-06-22 02:10:59,402] Trial 462 finished with value: 0.3875200235060529 and parameters: {'bootstrap_type': 'Bayesian', 'grow_policy': 'Lossguide', 'learning_rate': 0.01850015185974307, 'l2_leaf_reg': 0.00035790558913831685, 'depth': 4, 'random_strength': 9.667495130947193, 'min_data_in_leaf': 44, 'bagging_temperature': 37.73330900990198, 'max_leaves': 36}. Best is trial 366 with value: 0.3097665662645319.\n"
     ]
    },
    {
     "name": "stdout",
     "output_type": "stream",
     "text": [
      "Repeat \u001b[1m\u001b[34m#1\n",
      "Repeat \u001b[1m\u001b[34m#2\n",
      "Repeat \u001b[1m\u001b[34m#3\n"
     ]
    },
    {
     "name": "stderr",
     "output_type": "stream",
     "text": [
      "[I 2023-06-22 02:11:06,866] Trial 463 finished with value: 0.6851064727686076 and parameters: {'bootstrap_type': 'Bayesian', 'grow_policy': 'Lossguide', 'learning_rate': 0.03032546072438682, 'l2_leaf_reg': 0.056133875924339764, 'depth': 4, 'random_strength': 80.29500933638172, 'min_data_in_leaf': 27, 'bagging_temperature': 54.90775401050707, 'max_leaves': 102}. Best is trial 366 with value: 0.3097665662645319.\n"
     ]
    },
    {
     "name": "stdout",
     "output_type": "stream",
     "text": [
      "Repeat \u001b[1m\u001b[34m#1\n",
      "Repeat \u001b[1m\u001b[34m#2\n",
      "Repeat \u001b[1m\u001b[34m#3\n"
     ]
    },
    {
     "name": "stderr",
     "output_type": "stream",
     "text": [
      "[I 2023-06-22 02:11:21,253] Trial 464 finished with value: 0.46031321367289707 and parameters: {'bootstrap_type': 'Bayesian', 'grow_policy': 'Depthwise', 'learning_rate': 0.021421831889413254, 'l2_leaf_reg': 0.00011135514664920608, 'depth': 6, 'random_strength': 46.38469118933831, 'min_data_in_leaf': 37, 'bagging_temperature': 29.117215843294755}. Best is trial 366 with value: 0.3097665662645319.\n"
     ]
    },
    {
     "name": "stdout",
     "output_type": "stream",
     "text": [
      "Repeat \u001b[1m\u001b[34m#1\n",
      "Repeat \u001b[1m\u001b[34m#2\n",
      "Repeat \u001b[1m\u001b[34m#3\n"
     ]
    },
    {
     "name": "stderr",
     "output_type": "stream",
     "text": [
      "[I 2023-06-22 02:11:30,115] Trial 465 finished with value: 0.3424538831893389 and parameters: {'bootstrap_type': 'Bayesian', 'grow_policy': 'Lossguide', 'learning_rate': 0.06674309054355469, 'l2_leaf_reg': 0.08137104757580052, 'depth': 4, 'random_strength': 51.019917154134774, 'min_data_in_leaf': 43, 'bagging_temperature': 23.98671249340592, 'max_leaves': 55}. Best is trial 366 with value: 0.3097665662645319.\n"
     ]
    },
    {
     "name": "stdout",
     "output_type": "stream",
     "text": [
      "Repeat \u001b[1m\u001b[34m#1\n",
      "Repeat \u001b[1m\u001b[34m#2\n",
      "Repeat \u001b[1m\u001b[34m#3\n"
     ]
    },
    {
     "name": "stderr",
     "output_type": "stream",
     "text": [
      "[I 2023-06-22 02:11:58,682] Trial 466 finished with value: 0.3274118432996081 and parameters: {'bootstrap_type': 'Bayesian', 'grow_policy': 'Lossguide', 'learning_rate': 0.08157360064394503, 'l2_leaf_reg': 65.15013241649955, 'depth': 4, 'random_strength': 73.39157746951689, 'min_data_in_leaf': 34, 'bagging_temperature': 40.672131128791136, 'max_leaves': 112}. Best is trial 366 with value: 0.3097665662645319.\n"
     ]
    },
    {
     "name": "stdout",
     "output_type": "stream",
     "text": [
      "Repeat \u001b[1m\u001b[34m#1\n",
      "Repeat \u001b[1m\u001b[34m#2\n",
      "Repeat \u001b[1m\u001b[34m#3\n"
     ]
    },
    {
     "name": "stderr",
     "output_type": "stream",
     "text": [
      "[I 2023-06-22 02:12:32,114] Trial 467 finished with value: 0.3303209376857772 and parameters: {'bootstrap_type': 'Bayesian', 'grow_policy': 'Lossguide', 'learning_rate': 0.01481792630839146, 'l2_leaf_reg': 4.402467499594626, 'depth': 4, 'random_strength': 60.59226169759273, 'min_data_in_leaf': 47, 'bagging_temperature': 45.05925990552496, 'max_leaves': 45}. Best is trial 366 with value: 0.3097665662645319.\n"
     ]
    },
    {
     "name": "stdout",
     "output_type": "stream",
     "text": [
      "Repeat \u001b[1m\u001b[34m#1\n",
      "Repeat \u001b[1m\u001b[34m#2\n",
      "Repeat \u001b[1m\u001b[34m#3\n"
     ]
    },
    {
     "name": "stderr",
     "output_type": "stream",
     "text": [
      "[I 2023-06-22 02:13:15,289] Trial 468 finished with value: 0.6396132661871433 and parameters: {'bootstrap_type': 'MVS', 'grow_policy': 'Lossguide', 'learning_rate': 0.001307879599893527, 'l2_leaf_reg': 27.93182528535755, 'depth': 4, 'random_strength': 66.94779499839811, 'min_data_in_leaf': 22, 'subsample': 0.4050399331336081, 'colsample_bylevel': 0.773981447931203, 'max_leaves': 115}. Best is trial 366 with value: 0.3097665662645319.\n"
     ]
    },
    {
     "name": "stdout",
     "output_type": "stream",
     "text": [
      "Repeat \u001b[1m\u001b[34m#1\n",
      "Repeat \u001b[1m\u001b[34m#2\n",
      "Repeat \u001b[1m\u001b[34m#3\n"
     ]
    },
    {
     "name": "stderr",
     "output_type": "stream",
     "text": [
      "[I 2023-06-22 02:13:51,438] Trial 469 finished with value: 0.40824842065473227 and parameters: {'bootstrap_type': 'Bayesian', 'grow_policy': 'SymmetricTree', 'learning_rate': 0.04753653073953158, 'l2_leaf_reg': 0.5521923389036435, 'depth': 4, 'random_strength': 18.97011558967453, 'min_data_in_leaf': 38, 'bagging_temperature': 19.006015531188407, 'boosting_type': 'Ordered'}. Best is trial 366 with value: 0.3097665662645319.\n"
     ]
    },
    {
     "name": "stdout",
     "output_type": "stream",
     "text": [
      "Repeat \u001b[1m\u001b[34m#1\n",
      "Repeat \u001b[1m\u001b[34m#2\n",
      "Repeat \u001b[1m\u001b[34m#3\n"
     ]
    },
    {
     "name": "stderr",
     "output_type": "stream",
     "text": [
      "[I 2023-06-22 02:14:01,455] Trial 470 finished with value: 0.3509179671147969 and parameters: {'bootstrap_type': 'Bayesian', 'grow_policy': 'Depthwise', 'learning_rate': 0.1094364605430853, 'l2_leaf_reg': 6.4803966870126635, 'depth': 4, 'random_strength': 13.005820505956356, 'min_data_in_leaf': 41, 'bagging_temperature': 52.07857132972201}. Best is trial 366 with value: 0.3097665662645319.\n"
     ]
    },
    {
     "name": "stdout",
     "output_type": "stream",
     "text": [
      "Repeat \u001b[1m\u001b[34m#1\n",
      "Repeat \u001b[1m\u001b[34m#2\n",
      "Repeat \u001b[1m\u001b[34m#3\n"
     ]
    },
    {
     "name": "stderr",
     "output_type": "stream",
     "text": [
      "[I 2023-06-22 02:14:24,690] Trial 471 finished with value: 0.40987162216084677 and parameters: {'bootstrap_type': 'Bayesian', 'grow_policy': 'Lossguide', 'learning_rate': 0.011055283288947143, 'l2_leaf_reg': 2.9903172582295532e-06, 'depth': 4, 'random_strength': 89.46098596924604, 'min_data_in_leaf': 36, 'bagging_temperature': 38.87910438323692, 'max_leaves': 42}. Best is trial 366 with value: 0.3097665662645319.\n"
     ]
    },
    {
     "name": "stdout",
     "output_type": "stream",
     "text": [
      "Repeat \u001b[1m\u001b[34m#1\n",
      "Repeat \u001b[1m\u001b[34m#2\n",
      "Repeat \u001b[1m\u001b[34m#3\n"
     ]
    },
    {
     "name": "stderr",
     "output_type": "stream",
     "text": [
      "[I 2023-06-22 02:14:34,108] Trial 472 finished with value: 0.4064477776072917 and parameters: {'bootstrap_type': 'Bayesian', 'grow_policy': 'Lossguide', 'learning_rate': 0.03301185586893061, 'l2_leaf_reg': 4.2457440604884e-05, 'depth': 4, 'random_strength': 0.2600730349796301, 'min_data_in_leaf': 31, 'bagging_temperature': 35.965247663440316, 'max_leaves': 98}. Best is trial 366 with value: 0.3097665662645319.\n"
     ]
    },
    {
     "name": "stdout",
     "output_type": "stream",
     "text": [
      "Repeat \u001b[1m\u001b[34m#1\n",
      "Repeat \u001b[1m\u001b[34m#2\n",
      "Repeat \u001b[1m\u001b[34m#3\n"
     ]
    },
    {
     "name": "stderr",
     "output_type": "stream",
     "text": [
      "[I 2023-06-22 02:14:40,834] Trial 473 finished with value: 0.3968770674496385 and parameters: {'bootstrap_type': 'Bayesian', 'grow_policy': 'Lossguide', 'learning_rate': 0.09154280218681891, 'l2_leaf_reg': 0.004343241066695067, 'depth': 4, 'random_strength': 70.72012774087797, 'min_data_in_leaf': 52, 'bagging_temperature': 42.53083561603799, 'max_leaves': 94}. Best is trial 366 with value: 0.3097665662645319.\n"
     ]
    },
    {
     "name": "stdout",
     "output_type": "stream",
     "text": [
      "Repeat \u001b[1m\u001b[34m#1\n",
      "Repeat \u001b[1m\u001b[34m#2\n",
      "Repeat \u001b[1m\u001b[34m#3\n"
     ]
    },
    {
     "name": "stderr",
     "output_type": "stream",
     "text": [
      "[I 2023-06-22 02:14:42,913] Trial 474 finished with value: 0.9160844539076262 and parameters: {'bootstrap_type': 'Bayesian', 'grow_policy': 'Depthwise', 'learning_rate': 0.016559702764859786, 'l2_leaf_reg': 69.00270143439535, 'depth': 4, 'random_strength': 75.8205464949796, 'min_data_in_leaf': 78, 'bagging_temperature': 86.32001957890344}. Best is trial 366 with value: 0.3097665662645319.\n"
     ]
    },
    {
     "name": "stdout",
     "output_type": "stream",
     "text": [
      "Repeat \u001b[1m\u001b[34m#1\n",
      "Repeat \u001b[1m\u001b[34m#2\n",
      "Repeat \u001b[1m\u001b[34m#3\n"
     ]
    },
    {
     "name": "stderr",
     "output_type": "stream",
     "text": [
      "[I 2023-06-22 02:14:49,703] Trial 475 finished with value: 0.4010311702050378 and parameters: {'bootstrap_type': 'Bayesian', 'grow_policy': 'Lossguide', 'learning_rate': 0.05423369125412409, 'l2_leaf_reg': 7.411587180316866e-07, 'depth': 4, 'random_strength': 83.27985454528607, 'min_data_in_leaf': 45, 'bagging_temperature': 33.77231663163468, 'max_leaves': 111}. Best is trial 366 with value: 0.3097665662645319.\n"
     ]
    },
    {
     "name": "stdout",
     "output_type": "stream",
     "text": [
      "Repeat \u001b[1m\u001b[34m#1\n",
      "Repeat \u001b[1m\u001b[34m#2\n",
      "Repeat \u001b[1m\u001b[34m#3\n"
     ]
    },
    {
     "name": "stderr",
     "output_type": "stream",
     "text": [
      "[I 2023-06-22 02:14:58,651] Trial 476 finished with value: 0.3407542111996733 and parameters: {'bootstrap_type': 'Bayesian', 'grow_policy': 'Lossguide', 'learning_rate': 0.07614127571827689, 'l2_leaf_reg': 0.02113714302259405, 'depth': 4, 'random_strength': 79.39622331336925, 'min_data_in_leaf': 48, 'bagging_temperature': 44.31959823610458, 'max_leaves': 117}. Best is trial 366 with value: 0.3097665662645319.\n"
     ]
    },
    {
     "name": "stdout",
     "output_type": "stream",
     "text": [
      "Repeat \u001b[1m\u001b[34m#1\n",
      "Repeat \u001b[1m\u001b[34m#2\n",
      "Repeat \u001b[1m\u001b[34m#3\n"
     ]
    },
    {
     "name": "stderr",
     "output_type": "stream",
     "text": [
      "[I 2023-06-22 02:15:46,713] Trial 477 finished with value: 0.3327382344749586 and parameters: {'bootstrap_type': 'Bayesian', 'grow_policy': 'Lossguide', 'learning_rate': 0.009664683265134116, 'l2_leaf_reg': 14.467105314559394, 'depth': 4, 'random_strength': 16.163659712977417, 'min_data_in_leaf': 39, 'bagging_temperature': 40.24132592817805, 'max_leaves': 51}. Best is trial 366 with value: 0.3097665662645319.\n"
     ]
    },
    {
     "name": "stdout",
     "output_type": "stream",
     "text": [
      "Repeat \u001b[1m\u001b[34m#1\n",
      "Repeat \u001b[1m\u001b[34m#2\n",
      "Repeat \u001b[1m\u001b[34m#3\n"
     ]
    },
    {
     "name": "stderr",
     "output_type": "stream",
     "text": [
      "[I 2023-06-22 02:16:00,795] Trial 478 finished with value: 0.35576504829746897 and parameters: {'bootstrap_type': 'Bayesian', 'grow_policy': 'Lossguide', 'learning_rate': 0.035842736122438455, 'l2_leaf_reg': 0.01094568941680354, 'depth': 4, 'random_strength': 25.144350592029564, 'min_data_in_leaf': 34, 'bagging_temperature': 37.218581422705036, 'max_leaves': 58}. Best is trial 366 with value: 0.3097665662645319.\n"
     ]
    },
    {
     "name": "stdout",
     "output_type": "stream",
     "text": [
      "Repeat \u001b[1m\u001b[34m#1\n",
      "Repeat \u001b[1m\u001b[34m#2\n",
      "Repeat \u001b[1m\u001b[34m#3\n"
     ]
    },
    {
     "name": "stderr",
     "output_type": "stream",
     "text": [
      "[I 2023-06-22 02:16:32,382] Trial 479 finished with value: 0.6097348217429996 and parameters: {'bootstrap_type': 'Bayesian', 'grow_policy': 'Depthwise', 'learning_rate': 0.0020226629410030903, 'l2_leaf_reg': 38.07108010341012, 'depth': 4, 'random_strength': 99.53604111097403, 'min_data_in_leaf': 70, 'bagging_temperature': 46.754253942450056}. Best is trial 366 with value: 0.3097665662645319.\n"
     ]
    },
    {
     "name": "stdout",
     "output_type": "stream",
     "text": [
      "Repeat \u001b[1m\u001b[34m#1\n",
      "Repeat \u001b[1m\u001b[34m#2\n",
      "Repeat \u001b[1m\u001b[34m#3\n"
     ]
    },
    {
     "name": "stderr",
     "output_type": "stream",
     "text": [
      "[I 2023-06-22 02:16:43,581] Trial 480 finished with value: 0.33607275671551706 and parameters: {'bootstrap_type': 'Bayesian', 'grow_policy': 'Lossguide', 'learning_rate': 0.04249392564191022, 'l2_leaf_reg': 0.008517801223303121, 'depth': 4, 'random_strength': 30.9417983421991, 'min_data_in_leaf': 99, 'bagging_temperature': 42.10226579435772, 'max_leaves': 107}. Best is trial 366 with value: 0.3097665662645319.\n"
     ]
    },
    {
     "name": "stdout",
     "output_type": "stream",
     "text": [
      "Repeat \u001b[1m\u001b[34m#1\n",
      "Repeat \u001b[1m\u001b[34m#2\n",
      "Repeat \u001b[1m\u001b[34m#3\n"
     ]
    },
    {
     "name": "stderr",
     "output_type": "stream",
     "text": [
      "[I 2023-06-22 02:16:49,640] Trial 481 finished with value: 0.903845338008814 and parameters: {'bootstrap_type': 'Bayesian', 'grow_policy': 'Lossguide', 'learning_rate': 0.0039004422733198586, 'l2_leaf_reg': 10.466696633929415, 'depth': 4, 'random_strength': 2.6555872818226973, 'min_data_in_leaf': 42, 'bagging_temperature': 57.494055390687336, 'max_leaves': 40}. Best is trial 366 with value: 0.3097665662645319.\n"
     ]
    },
    {
     "name": "stdout",
     "output_type": "stream",
     "text": [
      "Repeat \u001b[1m\u001b[34m#1\n",
      "Repeat \u001b[1m\u001b[34m#2\n",
      "Repeat \u001b[1m\u001b[34m#3\n"
     ]
    },
    {
     "name": "stderr",
     "output_type": "stream",
     "text": [
      "[I 2023-06-22 02:16:55,966] Trial 482 finished with value: 0.37661080978330963 and parameters: {'bootstrap_type': 'Bernoulli', 'grow_policy': 'Lossguide', 'learning_rate': 0.06262046325337071, 'l2_leaf_reg': 1.067639045308501, 'depth': 4, 'random_strength': 35.64626604517797, 'min_data_in_leaf': 40, 'subsample': 0.3298569710065715, 'colsample_bylevel': 0.8554739518208265, 'max_leaves': 47}. Best is trial 366 with value: 0.3097665662645319.\n"
     ]
    },
    {
     "name": "stdout",
     "output_type": "stream",
     "text": [
      "Repeat \u001b[1m\u001b[34m#1\n",
      "Repeat \u001b[1m\u001b[34m#2\n",
      "Repeat \u001b[1m\u001b[34m#3\n"
     ]
    },
    {
     "name": "stderr",
     "output_type": "stream",
     "text": [
      "[I 2023-06-22 02:17:02,177] Trial 483 finished with value: 0.43590214562725543 and parameters: {'bootstrap_type': 'Bayesian', 'grow_policy': 'Depthwise', 'learning_rate': 0.09811429098082494, 'l2_leaf_reg': 0.0036014403322551665, 'depth': 6, 'random_strength': 8.598902184889045, 'min_data_in_leaf': 46, 'bagging_temperature': 40.14033407533747}. Best is trial 366 with value: 0.3097665662645319.\n"
     ]
    },
    {
     "name": "stdout",
     "output_type": "stream",
     "text": [
      "Repeat \u001b[1m\u001b[34m#1\n",
      "Repeat \u001b[1m\u001b[34m#2\n",
      "Repeat \u001b[1m\u001b[34m#3\n"
     ]
    },
    {
     "name": "stderr",
     "output_type": "stream",
     "text": [
      "[I 2023-06-22 02:17:25,088] Trial 484 finished with value: 0.3205827965787331 and parameters: {'bootstrap_type': 'Bayesian', 'grow_policy': 'Lossguide', 'learning_rate': 0.028707534236168397, 'l2_leaf_reg': 3.6152747109102683, 'depth': 4, 'random_strength': 72.70063511359541, 'min_data_in_leaf': 56, 'bagging_temperature': 31.19758797686069, 'max_leaves': 113}. Best is trial 366 with value: 0.3097665662645319.\n"
     ]
    },
    {
     "name": "stdout",
     "output_type": "stream",
     "text": [
      "Repeat \u001b[1m\u001b[34m#1\n",
      "Repeat \u001b[1m\u001b[34m#2\n",
      "Repeat \u001b[1m\u001b[34m#3\n"
     ]
    },
    {
     "name": "stderr",
     "output_type": "stream",
     "text": [
      "[I 2023-06-22 02:17:37,170] Trial 485 finished with value: 0.37215200272155197 and parameters: {'bootstrap_type': 'Bayesian', 'grow_policy': 'Lossguide', 'learning_rate': 0.04970810908445741, 'l2_leaf_reg': 0.034054343992515314, 'depth': 5, 'random_strength': 62.81855745331346, 'min_data_in_leaf': 56, 'bagging_temperature': 30.518480926311714, 'max_leaves': 112}. Best is trial 366 with value: 0.3097665662645319.\n"
     ]
    },
    {
     "name": "stdout",
     "output_type": "stream",
     "text": [
      "Repeat \u001b[1m\u001b[34m#1\n",
      "Repeat \u001b[1m\u001b[34m#2\n",
      "Repeat \u001b[1m\u001b[34m#3\n"
     ]
    },
    {
     "name": "stderr",
     "output_type": "stream",
     "text": [
      "[I 2023-06-22 02:17:59,024] Trial 486 finished with value: 0.3293858578119618 and parameters: {'bootstrap_type': 'Bayesian', 'grow_policy': 'Lossguide', 'learning_rate': 0.029212756274197737, 'l2_leaf_reg': 3.308046299315875, 'depth': 4, 'random_strength': 56.83198890351243, 'min_data_in_leaf': 55, 'bagging_temperature': 31.793537950377456, 'max_leaves': 114}. Best is trial 366 with value: 0.3097665662645319.\n"
     ]
    },
    {
     "name": "stdout",
     "output_type": "stream",
     "text": [
      "Repeat \u001b[1m\u001b[34m#1\n",
      "Repeat \u001b[1m\u001b[34m#2\n",
      "Repeat \u001b[1m\u001b[34m#3\n"
     ]
    },
    {
     "name": "stderr",
     "output_type": "stream",
     "text": [
      "[I 2023-06-22 02:18:10,168] Trial 487 finished with value: 0.35164169902326536 and parameters: {'bootstrap_type': 'No', 'grow_policy': 'Lossguide', 'learning_rate': 0.03729984477729822, 'l2_leaf_reg': 6.1642678766902845, 'depth': 8, 'random_strength': 76.30918632612041, 'min_data_in_leaf': 59, 'colsample_bylevel': 0.7378350095066295, 'max_leaves': 109}. Best is trial 366 with value: 0.3097665662645319.\n"
     ]
    },
    {
     "name": "stdout",
     "output_type": "stream",
     "text": [
      "Repeat \u001b[1m\u001b[34m#1\n",
      "Repeat \u001b[1m\u001b[34m#2\n",
      "Repeat \u001b[1m\u001b[34m#3\n"
     ]
    },
    {
     "name": "stderr",
     "output_type": "stream",
     "text": [
      "[I 2023-06-22 02:18:24,810] Trial 488 finished with value: 0.3301017213047879 and parameters: {'bootstrap_type': 'Bayesian', 'grow_policy': 'Lossguide', 'learning_rate': 0.06956249287932031, 'l2_leaf_reg': 21.26991362195096, 'depth': 4, 'random_strength': 82.07018013499781, 'min_data_in_leaf': 58, 'bagging_temperature': 27.446409998781625, 'max_leaves': 119}. Best is trial 366 with value: 0.3097665662645319.\n"
     ]
    },
    {
     "name": "stdout",
     "output_type": "stream",
     "text": [
      "Repeat \u001b[1m\u001b[34m#1\n",
      "Repeat \u001b[1m\u001b[34m#2\n",
      "Repeat \u001b[1m\u001b[34m#3\n"
     ]
    },
    {
     "name": "stderr",
     "output_type": "stream",
     "text": [
      "[I 2023-06-22 02:18:26,195] Trial 489 finished with value: 0.9137512411246643 and parameters: {'bootstrap_type': 'Bayesian', 'grow_policy': 'Lossguide', 'learning_rate': 0.03335298659204873, 'l2_leaf_reg': 47.41031290027857, 'depth': 4, 'random_strength': 72.52221860046315, 'min_data_in_leaf': 53, 'bagging_temperature': 62.85463123288759, 'max_leaves': 114}. Best is trial 366 with value: 0.3097665662645319.\n"
     ]
    },
    {
     "name": "stdout",
     "output_type": "stream",
     "text": [
      "Repeat \u001b[1m\u001b[34m#1\n",
      "Repeat \u001b[1m\u001b[34m#2\n",
      "Repeat \u001b[1m\u001b[34m#3\n"
     ]
    },
    {
     "name": "stderr",
     "output_type": "stream",
     "text": [
      "[I 2023-06-22 02:19:13,190] Trial 490 finished with value: 0.33259248914970946 and parameters: {'bootstrap_type': 'Bayesian', 'grow_policy': 'Lossguide', 'learning_rate': 0.013315276406107248, 'l2_leaf_reg': 4.164907048629084, 'depth': 10, 'random_strength': 78.10694726054744, 'min_data_in_leaf': 63, 'bagging_temperature': 35.270129881125904, 'max_leaves': 116}. Best is trial 366 with value: 0.3097665662645319.\n"
     ]
    },
    {
     "name": "stdout",
     "output_type": "stream",
     "text": [
      "Repeat \u001b[1m\u001b[34m#1\n",
      "Repeat \u001b[1m\u001b[34m#2\n",
      "Repeat \u001b[1m\u001b[34m#3\n"
     ]
    },
    {
     "name": "stderr",
     "output_type": "stream",
     "text": [
      "[I 2023-06-22 02:19:51,172] Trial 491 finished with value: 0.32675184799737084 and parameters: {'bootstrap_type': 'Bayesian', 'grow_policy': 'Lossguide', 'learning_rate': 0.04157600438251502, 'l2_leaf_reg': 97.66091754291564, 'depth': 4, 'random_strength': 21.237542535666, 'min_data_in_leaf': 57, 'bagging_temperature': 33.06059634880751, 'max_leaves': 111}. Best is trial 366 with value: 0.3097665662645319.\n"
     ]
    },
    {
     "name": "stdout",
     "output_type": "stream",
     "text": [
      "Repeat \u001b[1m\u001b[34m#1\n",
      "Repeat \u001b[1m\u001b[34m#2\n",
      "Repeat \u001b[1m\u001b[34m#3\n"
     ]
    },
    {
     "name": "stderr",
     "output_type": "stream",
     "text": [
      "[I 2023-06-22 02:20:02,588] Trial 492 finished with value: 0.3373446728315283 and parameters: {'bootstrap_type': 'Bayesian', 'grow_policy': 'Lossguide', 'learning_rate': 0.08438174234058518, 'l2_leaf_reg': 9.94069303900617, 'depth': 4, 'random_strength': 6.214223801097298, 'min_data_in_leaf': 61, 'bagging_temperature': 27.817199799153126, 'max_leaves': 85}. Best is trial 366 with value: 0.3097665662645319.\n"
     ]
    },
    {
     "name": "stdout",
     "output_type": "stream",
     "text": [
      "Repeat \u001b[1m\u001b[34m#1\n",
      "Repeat \u001b[1m\u001b[34m#2\n",
      "Repeat \u001b[1m\u001b[34m#3\n"
     ]
    },
    {
     "name": "stderr",
     "output_type": "stream",
     "text": [
      "[I 2023-06-22 02:20:05,888] Trial 493 finished with value: 0.41247139541353195 and parameters: {'bootstrap_type': 'MVS', 'grow_policy': 'Lossguide', 'learning_rate': 0.11985299333263974, 'l2_leaf_reg': 0.0004828785181446605, 'depth': 4, 'random_strength': 53.988900304764925, 'min_data_in_leaf': 55, 'subsample': 0.6820485299951851, 'colsample_bylevel': 0.8075209982373945, 'max_leaves': 104}. Best is trial 366 with value: 0.3097665662645319.\n"
     ]
    },
    {
     "name": "stdout",
     "output_type": "stream",
     "text": [
      "Repeat \u001b[1m\u001b[34m#1\n",
      "Repeat \u001b[1m\u001b[34m#2\n",
      "Repeat \u001b[1m\u001b[34m#3\n"
     ]
    },
    {
     "name": "stderr",
     "output_type": "stream",
     "text": [
      "[I 2023-06-22 02:20:22,543] Trial 494 finished with value: 0.3244301378211043 and parameters: {'bootstrap_type': 'Bayesian', 'grow_policy': 'Lossguide', 'learning_rate': 0.060551449196153906, 'l2_leaf_reg': 18.32619190030821, 'depth': 4, 'random_strength': 75.16374247326416, 'min_data_in_leaf': 51, 'bagging_temperature': 31.009259509502936, 'max_leaves': 118}. Best is trial 366 with value: 0.3097665662645319.\n"
     ]
    },
    {
     "name": "stdout",
     "output_type": "stream",
     "text": [
      "Repeat \u001b[1m\u001b[34m#1\n",
      "Repeat \u001b[1m\u001b[34m#2\n",
      "Repeat \u001b[1m\u001b[34m#3\n"
     ]
    },
    {
     "name": "stderr",
     "output_type": "stream",
     "text": [
      "[I 2023-06-22 02:20:54,822] Trial 495 finished with value: 0.33903295209491335 and parameters: {'bootstrap_type': 'Bayesian', 'grow_policy': 'Lossguide', 'learning_rate': 0.02398516731422689, 'l2_leaf_reg': 36.82903640231394, 'depth': 4, 'random_strength': 14.229804224573346, 'min_data_in_leaf': 50, 'bagging_temperature': 14.327336139171223, 'max_leaves': 44}. Best is trial 366 with value: 0.3097665662645319.\n"
     ]
    },
    {
     "name": "stdout",
     "output_type": "stream",
     "text": [
      "Repeat \u001b[1m\u001b[34m#1\n",
      "Repeat \u001b[1m\u001b[34m#2\n",
      "Repeat \u001b[1m\u001b[34m#3\n"
     ]
    },
    {
     "name": "stderr",
     "output_type": "stream",
     "text": [
      "[I 2023-06-22 02:20:58,811] Trial 496 finished with value: 0.38669556752540774 and parameters: {'bootstrap_type': 'Bayesian', 'grow_policy': 'Lossguide', 'learning_rate': 0.2622850862024011, 'l2_leaf_reg': 7.213017658529245, 'depth': 4, 'random_strength': 48.238288659584114, 'min_data_in_leaf': 53, 'bagging_temperature': 6.676444291657075, 'max_leaves': 75}. Best is trial 366 with value: 0.3097665662645319.\n"
     ]
    },
    {
     "name": "stdout",
     "output_type": "stream",
     "text": [
      "Repeat \u001b[1m\u001b[34m#1\n",
      "Repeat \u001b[1m\u001b[34m#2\n",
      "Repeat \u001b[1m\u001b[34m#3\n"
     ]
    },
    {
     "name": "stderr",
     "output_type": "stream",
     "text": [
      "[I 2023-06-22 02:21:45,328] Trial 497 finished with value: 0.39735682476058987 and parameters: {'bootstrap_type': 'Bayesian', 'grow_policy': 'Lossguide', 'learning_rate': 0.006230486026391257, 'l2_leaf_reg': 64.19196504598415, 'depth': 4, 'random_strength': 81.25407475067891, 'min_data_in_leaf': 55, 'bagging_temperature': 29.98081659785948, 'max_leaves': 109}. Best is trial 366 with value: 0.3097665662645319.\n"
     ]
    },
    {
     "name": "stdout",
     "output_type": "stream",
     "text": [
      "Repeat \u001b[1m\u001b[34m#1\n",
      "Repeat \u001b[1m\u001b[34m#2\n",
      "Repeat \u001b[1m\u001b[34m#3\n"
     ]
    },
    {
     "name": "stderr",
     "output_type": "stream",
     "text": [
      "[I 2023-06-22 02:21:50,498] Trial 498 finished with value: 0.35453830645880907 and parameters: {'bootstrap_type': 'Bayesian', 'grow_policy': 'SymmetricTree', 'learning_rate': 0.1443617174376473, 'l2_leaf_reg': 2.1310232271558203, 'depth': 4, 'random_strength': 85.18192474016665, 'min_data_in_leaf': 26, 'bagging_temperature': 23.32021081142603, 'boosting_type': 'Plain'}. Best is trial 366 with value: 0.3097665662645319.\n"
     ]
    },
    {
     "name": "stdout",
     "output_type": "stream",
     "text": [
      "Repeat \u001b[1m\u001b[34m#1\n",
      "Repeat \u001b[1m\u001b[34m#2\n",
      "Repeat \u001b[1m\u001b[34m#3\n"
     ]
    },
    {
     "name": "stderr",
     "output_type": "stream",
     "text": [
      "[I 2023-06-22 02:22:08,625] Trial 499 finished with value: 0.34634887487481897 and parameters: {'bootstrap_type': 'Bayesian', 'grow_policy': 'Lossguide', 'learning_rate': 0.048120127779416884, 'l2_leaf_reg': 13.638374356481311, 'depth': 4, 'random_strength': 58.48347901443884, 'min_data_in_leaf': 29, 'bagging_temperature': 49.87018118512262, 'max_leaves': 50}. Best is trial 366 with value: 0.3097665662645319.\n"
     ]
    },
    {
     "name": "stdout",
     "output_type": "stream",
     "text": [
      "Number of finished trials: 500\n",
      "Best trial:\n",
      "  Value: 0.3097665662645319\n",
      "  Params: \n",
      "    bootstrap_type: Bayesian\n",
      "    grow_policy: Lossguide\n",
      "    learning_rate: 0.03214221882808462\n",
      "    l2_leaf_reg: 8.01853103422765\n",
      "    depth: 4\n",
      "    random_strength: 74.3039569995926\n",
      "    min_data_in_leaf: 31\n",
      "    bagging_temperature: 41.86701513946563\n",
      "    max_leaves: 98\n"
     ]
    }
   ],
   "source": [
    "from optuna.integration import CatBoostPruningCallback\n",
    "\n",
    "X, y = train_df[features], train_df['Class']\n",
    "\n",
    "def objective(trial):\n",
    "    \n",
    "    bll_list = list()\n",
    "\n",
    "    # Parameters\n",
    "    params = {\n",
    "        'task_type': 'CPU', # GPU\n",
    "        'eval_metric': 'Logloss',\n",
    "        'loss_function': 'Logloss', \n",
    "        'random_seed': 19062023,\n",
    "        'od_type': 'Iter', # Type of overfitting detector - stop after k iteraions\n",
    "        'iterations' : CFG.n_estimators, # trial.suggest_int('iterations', 300, 1200),        \n",
    "        'od_wait': CFG.early_stopping_rounds, # Overfitting detector - stop training after k iterations without metric improvement\n",
    "        # 'metric_period': 100, # Show metric each k iterations\n",
    "        # Hyperparamters (in order of importance decreasing)\n",
    "        'bootstrap_type': trial.suggest_categorical('bootstrap_type', ['Bayesian', 'Bernoulli', 'MVS', 'No']),\n",
    "        'grow_policy': trial.suggest_categorical('grow_policy', ['SymmetricTree', 'Depthwise', 'Lossguide']),\n",
    "        'learning_rate' : trial.suggest_loguniform('learning_rate', 1e-3, 3e-1), \n",
    "        'l2_leaf_reg': trial.suggest_loguniform(\"l2_leaf_reg\", 1e-8, 100),\n",
    "        'depth' : trial.suggest_int('depth', 4, 10),  # Max tree depth                                          \n",
    "         # increase to deal with overfit\n",
    "        'random_strength': trial.suggest_float('random_strength', 0, 100), # The amount of randomness to use\n",
    "                                                                           # for scoring splits when the tree structure\n",
    "                                                                           # is selected. Helps to avoid overfitting\n",
    "                                                                           # CPU only\n",
    "        # per_float_feature_quantization='0:border_count=1024'\n",
    "        'border_count': 254, # trial.suggest_categorical('border_count', [128, 254]), # The number of splits for numerical features\n",
    "                                                                                      # bigger is better but slowly\n",
    "                                                                                      # alias: max_bin\n",
    "        'min_data_in_leaf': trial.suggest_int('min_data_in_leaf', 5, 100), # Minimal number of data in one leaf\n",
    "                                                                           # aliases: min_child_samples, \n",
    "\n",
    "    }\n",
    "\n",
    "    # if not CFG.undersample:\n",
    "    #     row_dict['auto_class_weights'] = 'Balanced'\n",
    "        # params['scale_pos_weight'] = class_imbalance\n",
    "        \n",
    "    if params[\"bootstrap_type\"] == \"Bayesian\":\n",
    "        params[\"bagging_temperature\"] = trial.suggest_float(\"bagging_temperature\", 0, 100) # Assigns random \n",
    "                                                                                           # weights to objects\n",
    "                                                                                           # works only with \n",
    "                                                                                           # Bayesian bootstrap\n",
    "    if params[\"bootstrap_type\"] in [\"Poisson\", \"Bernoulli\", \"MVS\"]:\n",
    "        params[\"subsample\"] = trial.suggest_float(\"subsample\", 0.3, 1) # Percentage of objects to use \n",
    "                                                                        # at each split\n",
    "\n",
    "    if params['task_type'] == 'CPU' and params['bootstrap_type'] != 'Bayesian':\n",
    "        params[\"colsample_bylevel\"] = trial.suggest_float(\"colsample_bylevel\", 0.3, 1)  # Percentage of features to use \n",
    "                                                                                        # at each split;\n",
    "                                                                                        # with Bayesian bootstrap and Lossguide grop policy\n",
    "                                                                                        # leads to error (CatBoost bug)\n",
    "    else:\n",
    "        params[\"colsample_bylevel\"] = None                                                     \n",
    "\n",
    "    if params['grow_policy'] == 'Lossguide': \n",
    "        params['max_leaves'] = trial.suggest_int('max_leaves', 4, 128) # Max number of leaves in one tree \n",
    "                                                                       # decrease to deal with the overfit\n",
    "\n",
    "    if params['grow_policy'] == 'SymmetricTree': \n",
    "        params['boosting_type'] = trial.suggest_categorical('boosting_type', ['Ordered', 'Plain'])\n",
    "    else:\n",
    "        params['boosting_type'] = 'Plain'\n",
    "    \n",
    "    for i in range(CFG.n_optimize_repeats):\n",
    "        print(f'Repeat {blu}#{i+1}')\n",
    "\n",
    "        # Make random under-sampling to balance classes\n",
    "        positive_count_train = train_df['Class'].value_counts()[1]\n",
    "        sampler = RandomUnderSampler(sampling_strategy={0: positive_count_train, \n",
    "                                                        1: positive_count_train}, \n",
    "                                     random_state=15062023+i, \n",
    "                                     replacement=True)\n",
    "\n",
    "        X_re, y_re = pd.concat([train_df[features], greeks.iloc[:,1:4]], axis=1), train_df['Class']\n",
    "        \n",
    "        if CFG.undersample:\n",
    "            X_re, y_re = sampler.fit_resample(X_re, y_re)\n",
    "        \n",
    "        # Create Stratified Multilabel k-Fold scheme\n",
    "        kf = MultilabelStratifiedKFold(n_splits=CFG.n_optimize_folds, shuffle=True, random_state=10062023+i)\n",
    "\n",
    "        # Create an oof array for inner loop\n",
    "        oof = np.zeros(X_re.shape[0])\n",
    "\n",
    "        # Stratify based on Class and Alpha (3 types of conditions)\n",
    "        for fold, (train_idx, val_idx) in enumerate(kf.split(X=X_re[features], y=X_re.iloc[:,-3:]), start=1): \n",
    "            X, y = X_re[features], y_re\n",
    "            \n",
    "            # Split the dataset according to the fold indexes.\n",
    "            X_train = X.iloc[train_idx]\n",
    "            X_val = X.iloc[val_idx]\n",
    "            y_train = y.iloc[train_idx]\n",
    "            y_val = y.iloc[val_idx]\n",
    "\n",
    "            train_pool = Pool(X_train, y_train, cat_features=['EJ'])\n",
    "            val_pool = Pool(X_val, y_val, cat_features=['EJ'])\n",
    "\n",
    "            # Learning\n",
    "            model = cat.CatBoostClassifier(**params)     \n",
    "            # Add a callback for pruning\n",
    "#             pruning_callback = optuna.integration.CatBoostPruningCallback(trial, \"Logloss\")\n",
    "            model.fit(train_pool, eval_set=val_pool, verbose=0)#, callbacks=[pruning_callback])\n",
    "            # Evoke pruning manually\n",
    "#                 pruning_callback.check_pruned()\n",
    "            # Predict\n",
    "            val_preds = model.predict_proba(val_pool)[:,1]\n",
    "            oof[val_idx] = val_preds\n",
    "        \n",
    "        bll_list.append(balanced_log_loss(y_re, oof))    \n",
    "    \n",
    "    return np.mean(bll_list)\n",
    "\n",
    "if CFG.cb_optimize:\n",
    "#     study = optuna.create_study(pruner=optuna.pruners.MedianPruner(n_warmup_steps=100), direction=\"minimize\")\n",
    "    study = optuna.create_study(direction=\"minimize\")\n",
    "    study.optimize(objective, n_trials=CFG.n_trials)\n",
    "\n",
    "    print(\"Number of finished trials: {}\".format(len(study.trials)))\n",
    "\n",
    "    print(\"Best trial:\")\n",
    "    trial = study.best_trial\n",
    "\n",
    "    print(\"  Value: {}\".format(trial.value))\n",
    "\n",
    "    print(\"  Params: \")\n",
    "    for key, value in trial.params.items():\n",
    "        print(\"    {}: {}\".format(key, value))\n",
    "\n",
    "    df = study.trials_dataframe().sort_values('value')\n",
    "    df.to_csv(f'optuna_catboost.csv')\n",
    "\n",
    "    display(df.head(10))"
   ]
  },
  {
   "attachments": {},
   "cell_type": "markdown",
   "metadata": {},
   "source": [
    "# Load CatBoost parameters"
   ]
  },
  {
   "cell_type": "code",
   "execution_count": null,
   "metadata": {},
   "outputs": [],
   "source": [
    "import glob\n",
    "\n",
    "if CFG.kaggle:\n",
    "    param_list = glob.glob(\"/kaggle/input/icr-lgbm-optuna/optuna_catboost.csv\")\n",
    "else:\n",
    "    param_list = glob.glob(\"optuna_catboost.csv\")\n",
    "\n",
    "models = list()\n",
    "best_cb_params = list()\n",
    "\n",
    "cb_params = pd.DataFrame()\n",
    "\n",
    "for f in param_list:\n",
    "    tmp = pd.read_csv(f, index_col='Unnamed: 0')\n",
    "    if cb_params.shape[0] == 0:\n",
    "        cb_params = tmp\n",
    "    else:\n",
    "        cb_params = pd.concat([cb_params, tmp])\n",
    "        \n",
    "cb_params = cb_params.sort_values('value').head(10)#CFG.n_stacking_models)\n",
    "param_cols = [c for c in cb_params.columns if c.startswith('params_')]\n",
    "cb_params = cb_params[param_cols]\n",
    "\n",
    "\n",
    "for idx, row in cb_params.iterrows():\n",
    "    row_dict = {k[7:]: v for k, v in row.items()}\n",
    "    row_dict['task_type'] = 'CPU'\n",
    "    row_dict['eval_metric'] = 'Logloss'\n",
    "    row_dict['loss_function'] = 'Logloss'\n",
    "    row_dict['random_seed'] = 13062023\n",
    "    row_dict['verbose'] = 0\n",
    "    row_dict['od_type'] = 'Iter'\n",
    "    row_dict['iterations'] = CFG.n_estimators * 4\n",
    "    row_dict['od_wait'] = CFG.early_stopping_rounds\n",
    "    row_dict['border_count'] = 254\n",
    "    \n",
    "    if not CFG.undersample:\n",
    "        row_dict['auto_class_weights'] = 'Balanced'\n",
    "        # row_dict['scale_pos_weight'] = class_imbalance\n",
    "        \n",
    "    if row_dict[\"task_type\"] != \"GPU\":\n",
    "        row_dict['colsample_bylevel'] = None\n",
    "    \n",
    "    if row_dict[\"bootstrap_type\"] != \"Bayesian\":\n",
    "        row_dict['bagging_temperature'] = None\n",
    "        \n",
    "    if row_dict[\"bootstrap_type\"] not in [\"Poisson\", \"Bernoulli\", \"MVS\"]:\n",
    "        row_dict['subsample'] = None\n",
    "    \n",
    "    if row_dict['grow_policy'] == 'Lossguide':\n",
    "        row_dict['max_leaves'] = int(row_dict['max_leaves'])\n",
    "    else:\n",
    "        row_dict['max_leaves'] = None\n",
    "    \n",
    "    if row_dict['grow_policy'] != 'SymmetricTree':\n",
    "        row_dict['boosting_type'] = 'Plain'\n",
    "    \n",
    "    best_cb_params.append(row_dict)\n",
    "\n",
    "if CFG.test:\n",
    "    best_cb_params = [{\n",
    "            'iterations': CFG.n_estimators,\n",
    "            'od_type': 'Iter',\n",
    "            'od_wait': CFG.early_stopping_rounds,\n",
    "            'eval_metric': \"Logloss\",\n",
    "            'loss_function': \"Logloss\",\n",
    "            'auto_class_weights': 'Balanced', \n",
    "            'verbose': 0,\n",
    "            'random_seed': 19062023,\n",
    "        }\n",
    "    ]"
   ]
  },
  {
   "attachments": {},
   "cell_type": "markdown",
   "metadata": {},
   "source": [
    "# Models train"
   ]
  },
  {
   "cell_type": "code",
   "execution_count": null,
   "metadata": {
    "scrolled": true
   },
   "outputs": [],
   "source": [
    "def bll_metric(y_true, y_pred):\n",
    "    return 'balanced_log_loss', balanced_log_loss(y_true, y_pred), False\n",
    "\n",
    "def model_train(how, best_params):\n",
    "    # Make random under-sampling to balance classes\n",
    "    positive_count_train = train_df['Class'].value_counts()[1]\n",
    "    sampler = RandomUnderSampler(sampling_strategy={0: positive_count_train, \n",
    "                                                    1: positive_count_train}, \n",
    "                                 random_state=150620231, \n",
    "                                 replacement=True)\n",
    "\n",
    "    X_re, y_re = pd.concat([train_df[features], greeks.iloc[:,1:4]], axis=1), train_df['Class']\n",
    "\n",
    "    if CFG.undersample:\n",
    "        X_re, y_re = sampler.fit_resample(X_re, y_re)\n",
    "    \n",
    "    kf = MultilabelStratifiedKFold(n_splits=CFG.n_stacking_folds, shuffle=True, random_state=80620231)\n",
    "\n",
    "    oof_level2 = np.zeros([y_re.shape[0], len(best_lgbm_params) + 1])\n",
    "    oof_level2[:, len(best_lgbm_params)] = y_re\n",
    "    oof_level2_test = np.zeros([test_df.shape[0], len(best_lgbm_params)])\n",
    "\n",
    "    print(f\"Training with {blu}{len(features)}{res} features\")\n",
    "\n",
    "    for fold, (fit_idx, val_idx) in tqdm(enumerate(kf.split(X=X_re, y=X_re.iloc[:,-3:]), start = 1),\n",
    "                                         total=CFG.n_stacking_folds):\n",
    "        X, y, test = X_re[features], y_re, test_df[features]\n",
    "        \n",
    "        # Split the dataset according to the fold indexes.\n",
    "        X_train = X.iloc[fit_idx]\n",
    "        X_val = X.iloc[val_idx]\n",
    "        y_train = y.iloc[fit_idx]\n",
    "        y_val = y.iloc[val_idx]\n",
    "\n",
    "        if how == 'catboost':\n",
    "            train_pool = Pool(X_train, y_train, cat_features=['EJ'])\n",
    "            val_pool = Pool(X_val, y_val, cat_features=['EJ'])\n",
    "        \n",
    "        for i, params in enumerate(best_params):\n",
    "            if how == 'lgbm':\n",
    "                model = lgb.LGBMClassifier(**params)\n",
    "                model.fit(X_train, y_train, eval_set=[(X_val, y_val)], eval_metric=bll_metric, verbose=0)\n",
    "                best_iter = model.best_iteration_\n",
    "            elif how == 'xgboost':\n",
    "                model = xgb.XGBClassifier(**params)\n",
    "                model.fit(X_train, y_train, eval_set=[(X_val, y_val)], verbose=0)\n",
    "                best_iter = model.get_booster().best_iteration\n",
    "            elif how == 'catboost':\n",
    "                model = cat.CatBoostClassifier(**params)\n",
    "                model.fit(train_pool, eval_set=val_pool, verbose=0)\n",
    "                best_iter = model.best_iteration_\n",
    "            else:\n",
    "                return None, None\n",
    "                \n",
    "            val_preds = model.predict_proba(X_val)[:,1]\n",
    "            oof_level2[val_idx, i] = val_preds\n",
    "\n",
    "            val_score = balanced_log_loss(y_val, val_preds)\n",
    "            \n",
    "            print(f'Fold: {blu}{fold:>3}{res}| bll_metric: {blu}{val_score:.5f}{res}'\n",
    "                  f' | Best iteration: {blu}{best_iter:>4}{res}')\n",
    "            \n",
    "            oof_level2_test[:, i] += model.predict_proba(test)[:,1]\n",
    "        \n",
    "    return oof_level2, oof_level2_test / CFG.n_stacking_folds\n",
    "\n",
    "\n",
    "if CFG.lgbm_train:\n",
    "    oof_level2_lgbm, oof_level2_test_lgbm = model_train('lgbm', best_lgbm_params)\n",
    "\n",
    "if CFG.xgb_train:\n",
    "    oof_level2_xgb, oof_level2_test_xgb = model_train('xgboost', best_xgb_params)\n",
    "\n",
    "if CFG.cb_train:\n",
    "    oof_level2_cb, oof_level2_test_cb = model_train('catboost', best_cb_params)"
   ]
  },
  {
   "attachments": {},
   "cell_type": "markdown",
   "metadata": {},
   "source": [
    "# Stacking with Logistic Regression"
   ]
  },
  {
   "cell_type": "code",
   "execution_count": 71,
   "metadata": {
    "scrolled": true
   },
   "outputs": [
    {
     "name": "stdout",
     "output_type": "stream",
     "text": [
      "0.16478347902908425\n",
      "0.14778040115820595\n"
     ]
    }
   ],
   "source": [
    "from sklearn.linear_model import LogisticRegression\n",
    "\n",
    "oof_level2 = np.concatenate([oof_level2_lgbm[:,:-1], oof_level2_xgb[:,:-1], oof_level2_cb[:,:-1]], axis=1)\n",
    "oof_level2_test = np.concatenate([oof_level2_test_lgbm, oof_level2_test_xgb, oof_level2_test_cb], axis=1)\n",
    "\n",
    "X = oof_level2\n",
    "y = oof_level2_cb[:,-1]\n",
    "\n",
    "# mean bll\n",
    "print(balanced_log_loss(y, np.mean(X, axis=1)))\n",
    "\n",
    "lr = LogisticRegression(class_weight='balanced')\n",
    "lr.fit(X, y)\n",
    "\n",
    "pred = lr.predict_proba(X)[:,1]\n",
    "\n",
    "# lr bll\n",
    "print(balanced_log_loss(y, pred))\n",
    "\n",
    "weights = lr.coef_[0]"
   ]
  },
  {
   "cell_type": "code",
   "execution_count": 65,
   "metadata": {},
   "outputs": [
    {
     "data": {
      "text/plain": [
       "0.10132898569485785"
      ]
     },
     "execution_count": 65,
     "metadata": {},
     "output_type": "execute_result"
    }
   ],
   "source": [
    "# 10 folds + 20 lgbms + 5 xgb + 10 cb\n",
    "0.18644189855630458\n",
    "0.15105966209005686\n",
    "\n",
    "# 15 folds + 20 lgbms + 5 xgb + 10 cb\n",
    "0.17500717692858106\n",
    "0.13966564052716351\n",
    "\n",
    "# 15 folds + 20 lgbms + 5 xgb + 10 cb + drop err objects\n",
    "0.13200526889584116\n",
    "0.1002285020362512\n",
    "\n",
    "# 10 folds + 20 lgbms + 5 xgb + 10 new cb\n",
    "0.18667614053330772\n",
    "0.15508252648502444\n",
    "\n",
    "# 10 folds + 20 lgbms + 10 xgb + 10 new cb\n",
    "0.18805292825841224\n",
    "0.15827603204818558\n",
    "\n",
    "# 10 folds + 20 lgbms + 10 xgb + 10 new cb, drop DA\n",
    "0.18664215318647787\n",
    "0.15090050007512767\n",
    "\n",
    "# 10 folds + 20 lgbms + 10 xgb + 10 new cb, drop DA and CD and add AH\n",
    "0.18846216824361675\n",
    "0.14921923558826533\n",
    "\n",
    "# 10 folds + 20 lgbms + 10 xgb + 10 new cb + drop err objects\n",
    "0.13988525113689929\n",
    "0.11946893616332013\n",
    "\n",
    "# 15 folds + 20 lgbms + 10 xgb + 10 new cb + drop err objects\n",
    "0.13124431559219873\n",
    "0.10132898569485785"
   ]
  },
  {
   "attachments": {},
   "cell_type": "markdown",
   "metadata": {},
   "source": [
    "# Which objects are the most erroneus?"
   ]
  },
  {
   "cell_type": "code",
   "execution_count": null,
   "metadata": {},
   "outputs": [
    {
     "data": {
      "text/plain": [
       "[102, 292, 509, 367, 556, 462, 498]"
      ]
     },
     "execution_count": 39,
     "metadata": {},
     "output_type": "execute_result"
    }
   ],
   "source": [
    "preds = np.mean(X, axis=1)\n",
    "errors = pd.Series(np.abs(y - preds))\n",
    "errors = errors.sort_values(ascending=False) \n",
    "errors[errors >= errors.quantile(0.99)].index.to_list()\n"
   ]
  },
  {
   "attachments": {},
   "cell_type": "markdown",
   "metadata": {},
   "source": [
    "# Models evaluation"
   ]
  },
  {
   "cell_type": "code",
   "execution_count": null,
   "metadata": {
    "execution": {
     "iopub.status.busy": "2023-06-08T15:32:38.350522Z",
     "iopub.status.idle": "2023-06-08T15:32:38.351460Z",
     "shell.execute_reply": "2023-06-08T15:32:38.351239Z",
     "shell.execute_reply.started": "2023-06-08T15:32:38.351217Z"
    }
   },
   "outputs": [],
   "source": [
    "# ## Model Evaluation\n",
    "# metric_score_folds = pd.DataFrame.from_dict(all_eval_results_)\n",
    "# fit_logloss = []\n",
    "# val_logloss = []\n",
    "\n",
    "# for seed in CFG.seeds:\n",
    "#     for fold in range(1,CFG.n_folds+1):\n",
    "#         fit_logloss.append(metric_score_folds[seed][fold]['training']['balanced_log_loss'])\n",
    "#         val_logloss.append(metric_score_folds[seed][fold]['valid_1']['balanced_log_loss'])\n",
    "\n",
    "# fig, axes = plt.subplots(math.ceil(CFG.n_folds*len(CFG.seeds)/CFG.n_folds), CFG.n_folds, figsize=(20, 20), dpi=150)\n",
    "# ax = axes.flatten()\n",
    "# for i, (f, v, m) in enumerate(zip(fit_logloss, val_logloss, models_), start = 1): \n",
    "#     sns.lineplot(f, color='#B90000', ax=ax[i-1], label='fit')\n",
    "#     sns.lineplot(v, color='#048BA8', ax=ax[i-1], label='val')\n",
    "#     ax[i-1].legend()\n",
    "#     ax[i-1].spines['top'].set_visible(False);\n",
    "#     ax[i-1].spines['right'].set_visible(False)\n",
    "#     ax[i-1].set_title(f'Seed {CFG.seeds[(i-1)//CFG.n_folds]} Fold {CFG.n_folds if i%CFG.n_folds==0 else i%CFG.n_folds}', fontdict={'fontweight': 'bold'})\n",
    "\n",
    "#     color =  ['#048BA8', palette[-3]]\n",
    "#     best_iter = m.best_iteration_\n",
    "#     span_range = [[0, best_iter], [best_iter + 10, best_iter + CFG.num_boost_round]]\n",
    "\n",
    "#     for idx, sub_title in enumerate([f'Best\\nIteration: {best_iter}', f'Early\\n Stopping: 2000']):\n",
    "#         ax[i-1].annotate(sub_title,\n",
    "#                     xy=(sum(span_range[idx])/2 , 0.5),\n",
    "#                     xytext=(0,0), textcoords='offset points',\n",
    "#                     va=\"center\", ha=\"center\",\n",
    "#                     color=\"w\", fontsize=16, fontweight='bold',\n",
    "#                     bbox=dict(boxstyle='round4', pad=0.4, color=color[idx], alpha=0.6))\n",
    "#         ax[i-1].axvspan(span_range[idx][0]-0.4,span_range[idx][1]+0.4,  color=color[idx], alpha=0.07)\n",
    "\n",
    "#     ax[i-1].set_xlim(0, best_iter + 20 + 2000)\n",
    "#     ax[i-1].legend(bbox_to_anchor=(0.95, 1), loc='upper right', title='logloss')\n",
    "\n",
    "# plt.tight_layout();"
   ]
  },
  {
   "attachments": {},
   "cell_type": "markdown",
   "metadata": {},
   "source": [
    "# Predict test"
   ]
  },
  {
   "cell_type": "code",
   "execution_count": null,
   "metadata": {
    "execution": {
     "iopub.status.busy": "2023-06-08T15:32:38.352845Z",
     "iopub.status.idle": "2023-06-08T15:32:38.353222Z",
     "shell.execute_reply": "2023-06-08T15:32:38.353059Z",
     "shell.execute_reply.started": "2023-06-08T15:32:38.353042Z"
    },
    "scrolled": false
   },
   "outputs": [
    {
     "data": {
      "text/html": [
       "<div>\n",
       "<style scoped>\n",
       "    .dataframe tbody tr th:only-of-type {\n",
       "        vertical-align: middle;\n",
       "    }\n",
       "\n",
       "    .dataframe tbody tr th {\n",
       "        vertical-align: top;\n",
       "    }\n",
       "\n",
       "    .dataframe thead th {\n",
       "        text-align: right;\n",
       "    }\n",
       "</style>\n",
       "<table border=\"1\" class=\"dataframe\">\n",
       "  <thead>\n",
       "    <tr style=\"text-align: right;\">\n",
       "      <th></th>\n",
       "      <th>Id</th>\n",
       "      <th>class_0</th>\n",
       "      <th>class_1</th>\n",
       "    </tr>\n",
       "  </thead>\n",
       "  <tbody>\n",
       "    <tr>\n",
       "      <th>0</th>\n",
       "      <td>00eed32682bb</td>\n",
       "      <td>0.730389</td>\n",
       "      <td>0.269611</td>\n",
       "    </tr>\n",
       "    <tr>\n",
       "      <th>1</th>\n",
       "      <td>010ebe33f668</td>\n",
       "      <td>0.730389</td>\n",
       "      <td>0.269611</td>\n",
       "    </tr>\n",
       "    <tr>\n",
       "      <th>2</th>\n",
       "      <td>02fa521e1838</td>\n",
       "      <td>0.730389</td>\n",
       "      <td>0.269611</td>\n",
       "    </tr>\n",
       "    <tr>\n",
       "      <th>3</th>\n",
       "      <td>040e15f562a2</td>\n",
       "      <td>0.730389</td>\n",
       "      <td>0.269611</td>\n",
       "    </tr>\n",
       "    <tr>\n",
       "      <th>4</th>\n",
       "      <td>046e85c7cc7f</td>\n",
       "      <td>0.730389</td>\n",
       "      <td>0.269611</td>\n",
       "    </tr>\n",
       "  </tbody>\n",
       "</table>\n",
       "</div>"
      ],
      "text/plain": [
       "             Id   class_0   class_1\n",
       "0  00eed32682bb  0.730389  0.269611\n",
       "1  010ebe33f668  0.730389  0.269611\n",
       "2  02fa521e1838  0.730389  0.269611\n",
       "3  040e15f562a2  0.730389  0.269611\n",
       "4  046e85c7cc7f  0.730389  0.269611"
      ]
     },
     "execution_count": 41,
     "metadata": {},
     "output_type": "execute_result"
    }
   ],
   "source": [
    "def predict(X):\n",
    "    y = np.zeros(len(X))\n",
    "    for i in range(oof_level2_test.shape[1]):\n",
    "        y += weights[i] * oof_level2_test[:,i]\n",
    "        # y += oof_level2_test[:,i]\n",
    "    return y / sum(weights)\n",
    "    # return y / oof_level2_test.shape[1]\n",
    "\n",
    "predictions = predict(test_df[features])\n",
    "# predictions = predict(generated_features_test)\n",
    "\n",
    "test_df['class_1'] = predictions\n",
    "test_df['class_0'] = 1 - predictions\n",
    "\n",
    "sample_submission[['class_0', 'class_1']] = test_df[['class_0', 'class_1']]\n",
    "sample_submission.to_csv(r\"submission.csv\", index=False)\n",
    "sample_submission"
   ]
  }
 ],
 "metadata": {
  "kernelspec": {
   "display_name": "Python 3 (ipykernel)",
   "language": "python",
   "name": "python3"
  },
  "language_info": {
   "codemirror_mode": {
    "name": "ipython",
    "version": 3
   },
   "file_extension": ".py",
   "mimetype": "text/x-python",
   "name": "python",
   "nbconvert_exporter": "python",
   "pygments_lexer": "ipython3",
   "version": "3.11.4"
  }
 },
 "nbformat": 4,
 "nbformat_minor": 4
}
