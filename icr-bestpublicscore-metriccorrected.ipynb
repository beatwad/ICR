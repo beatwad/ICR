{
 "cells": [
  {
   "attachments": {},
   "cell_type": "markdown",
   "id": "7f5db726",
   "metadata": {
    "execution": {
     "iopub.execute_input": "2023-07-09T19:55:39.042521Z",
     "iopub.status.busy": "2023-07-09T19:55:39.041797Z",
     "iopub.status.idle": "2023-07-09T19:55:57.350434Z",
     "shell.execute_reply": "2023-07-09T19:55:57.34895Z",
     "shell.execute_reply.started": "2023-07-09T19:55:39.042488Z"
    },
    "papermill": {
     "duration": 0.008071,
     "end_time": "2023-07-11T10:15:31.240345",
     "exception": false,
     "start_time": "2023-07-11T10:15:31.232274",
     "status": "completed"
    },
    "tags": []
   },
   "source": [
    "# <div style= \"font-family: Cambria; font-weight:bold; letter-spacing: 0px; color:#ffffff; font-size:120%; text-align:left;padding:3.0px; background: #006bb3; border-bottom: 8px solid #a6a6a6\" > TABLE OF CONTENTS<br><div>  \n",
    "\n",
    "* [IMPORT](#1)\n",
    "* [INTRODUCTION](#2)\n",
    "* [PREPROCESSING](#3)\n",
    "* [MODEL DEFINITION](#4)\n",
    "* [FEATURE ENGINEERING](#5)\n",
    "* [MODEL TRAINING](#6)  \n",
    "* [SUBMISSION](#7)    "
   ]
  },
  {
   "attachments": {},
   "cell_type": "markdown",
   "id": "be83afc5",
   "metadata": {
    "papermill": {
     "duration": 0.007068,
     "end_time": "2023-07-11T10:15:31.255352",
     "exception": false,
     "start_time": "2023-07-11T10:15:31.248284",
     "status": "completed"
    },
    "tags": []
   },
   "source": [
    "<a id=\"1\"></a>\n",
    "# <div style= \"font-family: Cambria; font-weight:bold; letter-spacing: 0px; color:#ffffff; font-size:120%; text-align:left;padding:3.0px; background: #006bb3; border-bottom: 8px solid #a6a6a6\" > IMPORT<br><div> "
   ]
  },
  {
   "cell_type": "code",
   "execution_count": 24,
   "id": "0c904afa",
   "metadata": {
    "_cell_guid": "b1076dfc-b9ad-4769-8c92-a6c4dae69d19",
    "_uuid": "8f2839f25d086af736a60e9eeb907d3b93b6e0e5",
    "execution": {
     "iopub.execute_input": "2023-07-11T10:15:49.570505Z",
     "iopub.status.busy": "2023-07-11T10:15:49.569341Z",
     "iopub.status.idle": "2023-07-11T10:15:57.261398Z",
     "shell.execute_reply": "2023-07-11T10:15:57.259489Z"
    },
    "papermill": {
     "duration": 7.703651,
     "end_time": "2023-07-11T10:15:57.263952",
     "exception": false,
     "start_time": "2023-07-11T10:15:49.560301",
     "status": "completed"
    },
    "tags": []
   },
   "outputs": [
    {
     "name": "stdout",
     "output_type": "stream",
     "text": [
      "\n",
      "CPU times: user 93.2 ms, sys: 4 ms, total: 97.2 ms\n",
      "Wall time: 96.5 ms\n"
     ]
    },
    {
     "name": "stderr",
     "output_type": "stream",
     "text": [
      "<frozen importlib._bootstrap>:241: RuntimeWarning: numpy.ufunc size changed, may indicate binary incompatibility. Expected 216 from C header, got 232 from PyObject\n"
     ]
    }
   ],
   "source": [
    "%%time \n",
    "\n",
    "import numpy as np;\n",
    "import pandas as pd;\n",
    "\n",
    "from sklearn.preprocessing import LabelEncoder,normalize;\n",
    "from sklearn.ensemble import GradientBoostingClassifier,RandomForestClassifier;\n",
    "from sklearn.metrics import accuracy_score, log_loss;\n",
    "from sklearn.impute import SimpleImputer;\n",
    "from adjdatatools.preprocessing import AdjustedScaler\n",
    "\n",
    "import imblearn;\n",
    "from imblearn.over_sampling import RandomOverSampler;\n",
    "from imblearn.under_sampling import RandomUnderSampler;\n",
    "\n",
    "from xgboost import XGBClassifier;\n",
    "from lightgbm import LGBMClassifier;\n",
    "import inspect;\n",
    "from collections import defaultdict;\n",
    "from tabpfn import TabPFNClassifier;\n",
    "from catboost import CatBoostClassifier;\n",
    "\n",
    "from tqdm.notebook import tqdm;\n",
    "from datetime import datetime;\n",
    "from sklearn.model_selection import KFold as KF, GridSearchCV;\n",
    "from colorama import Fore, Style, init;\n",
    "from pprint import pprint;\n",
    "\n",
    "import warnings;\n",
    "warnings.filterwarnings('ignore');\n",
    "\n",
    "from gc import collect;\n",
    "\n",
    "print();\n",
    "collect();"
   ]
  },
  {
   "cell_type": "code",
   "execution_count": 2,
   "id": "0acbbbab",
   "metadata": {
    "execution": {
     "iopub.execute_input": "2023-07-11T10:15:57.281444Z",
     "iopub.status.busy": "2023-07-11T10:15:57.280608Z",
     "iopub.status.idle": "2023-07-11T10:15:57.292500Z",
     "shell.execute_reply": "2023-07-11T10:15:57.291265Z"
    },
    "papermill": {
     "duration": 0.024427,
     "end_time": "2023-07-11T10:15:57.295949",
     "exception": false,
     "start_time": "2023-07-11T10:15:57.271522",
     "status": "completed"
    },
    "tags": []
   },
   "outputs": [
    {
     "name": "stdout",
     "output_type": "stream",
     "text": [
      "\n",
      "CPU times: user 698 µs, sys: 309 µs, total: 1.01 ms\n",
      "Wall time: 636 µs\n"
     ]
    }
   ],
   "source": [
    "%%time \n",
    "\n",
    "from IPython.display import clear_output;\n",
    "\n",
    "# Color printing    \n",
    "def PrintColor(text:str, color = Fore.BLUE, style = Style.BRIGHT):\n",
    "    \"Prints color outputs using colorama using a text F-string\";\n",
    "    print(style + color + text + Style.RESET_ALL); \n",
    "    \n",
    "pd.set_option('display.max_columns', 60);\n",
    "pd.set_option('display.max_rows', 50);\n",
    "\n",
    "from sklearn import set_config; \n",
    "set_config(transform_output = \"pandas\");\n",
    "\n",
    "clear_output();\n",
    "print();"
   ]
  },
  {
   "attachments": {},
   "cell_type": "markdown",
   "id": "5671fd29",
   "metadata": {
    "papermill": {
     "duration": 0.007687,
     "end_time": "2023-07-11T10:15:57.311426",
     "exception": false,
     "start_time": "2023-07-11T10:15:57.303739",
     "status": "completed"
    },
    "tags": []
   },
   "source": [
    "<a id=\"2\"></a>\n",
    "# <div style= \"font-family: Cambria; font-weight:bold; letter-spacing: 0px; color:#ffffff; font-size:120%; text-align:left;padding:3.0px; background: #006bb3; border-bottom: 8px solid #a6a6a6\" > INTRODUCTION<br><div> "
   ]
  },
  {
   "attachments": {},
   "cell_type": "markdown",
   "id": "572c67f4",
   "metadata": {
    "papermill": {
     "duration": 0.007326,
     "end_time": "2023-07-11T10:15:57.326549",
     "exception": false,
     "start_time": "2023-07-11T10:15:57.319223",
     "status": "completed"
    },
    "tags": []
   },
   "source": [
    "**Notebook objective**<br>\n",
    "\n",
    "This notebook is adapted from the best public scoring notebook for the competition- **ICR - Identifying Age-Related Conditions**. References are as below-<br>\n",
    "1. https://www.kaggle.com/code/vadimkamaev/postprocessin-ensemble\n",
    "2. https://www.kaggle.com/code/aikhmelnytskyy/public-krni-pdi-with-two-additional-models\n",
    "3. https://www.kaggle.com/code/opamusora/changed-threshold\n",
    "\n",
    "I also used the explanation from a recent discussion post correcting the metric implementation in the above references as below-\n",
    "https://www.kaggle.com/competitions/icr-identify-age-related-conditions/discussion/422442<br>\n",
    "\n",
    "Many thanks to the contributors of these references and all the best to the participants too!<br>\n",
    "\n",
    "**My contribution**<br>\n",
    "1. Changed the implementation of the metric based on the above discussion post reference<br>\n",
    "2. Added a couple of ML models in addition to the ones present in the reference files<br>\n",
    "3. Made a small configuration class to enable the user to toggle and make simple experiments<br>\n",
    "4. Added comments and organized the code efficiently for effective readibility<br>\n",
    "\n"
   ]
  },
  {
   "cell_type": "code",
   "execution_count": 3,
   "id": "3f689eee",
   "metadata": {
    "execution": {
     "iopub.execute_input": "2023-07-11T10:15:57.343815Z",
     "iopub.status.busy": "2023-07-11T10:15:57.343409Z",
     "iopub.status.idle": "2023-07-11T10:15:57.351064Z",
     "shell.execute_reply": "2023-07-11T10:15:57.349980Z"
    },
    "papermill": {
     "duration": 0.019439,
     "end_time": "2023-07-11T10:15:57.353691",
     "exception": false,
     "start_time": "2023-07-11T10:15:57.334252",
     "status": "completed"
    },
    "tags": []
   },
   "outputs": [
    {
     "name": "stdout",
     "output_type": "stream",
     "text": [
      "\n",
      "CPU times: user 38 µs, sys: 0 ns, total: 38 µs\n",
      "Wall time: 41.2 µs\n"
     ]
    }
   ],
   "source": [
    "%%time \n",
    "\n",
    "# Defining a configuration class with key variables to toggle for simple experiments:-\n",
    "\n",
    "class CFG:\n",
    "    \"\"\"\n",
    "    This class defines several variables to toggle for experiments\n",
    "    \"\"\";\n",
    "    \n",
    "    state          = 42;\n",
    "    n_splits_outer = 10;\n",
    "    n_splits_inner = 5;\n",
    "    \n",
    "    # Defines post-processing cutoffs:-    \n",
    "    postprocess_req= \"Y\";\n",
    "    lw_cutoff      = 0.28;\n",
    "    up_cutoff      = 0.595;\n",
    "    \n",
    "print();"
   ]
  },
  {
   "attachments": {},
   "cell_type": "markdown",
   "id": "f2595b1a",
   "metadata": {
    "papermill": {
     "duration": 0.007477,
     "end_time": "2023-07-11T10:15:57.368848",
     "exception": false,
     "start_time": "2023-07-11T10:15:57.361371",
     "status": "completed"
    },
    "tags": []
   },
   "source": [
    "<a id=\"3\"></a>\n",
    "# <div style= \"font-family: Cambria; font-weight:bold; letter-spacing: 0px; color:#ffffff; font-size:120%; text-align:left;padding:3.0px; background: #006bb3; border-bottom: 8px solid #a6a6a6\" > PREPROCESSING<br><div> \n",
    "    \n",
    "**Key tasks**<br>\n",
    "1. Data import<br>\n",
    "2. Defining the correct competition metric function<br>\n",
    "3. Under-sampling the datasets appropriately<br>"
   ]
  },
  {
   "cell_type": "code",
   "execution_count": 4,
   "id": "e5765344",
   "metadata": {
    "execution": {
     "iopub.execute_input": "2023-07-11T10:15:57.386722Z",
     "iopub.status.busy": "2023-07-11T10:15:57.386090Z",
     "iopub.status.idle": "2023-07-11T10:15:57.625778Z",
     "shell.execute_reply": "2023-07-11T10:15:57.624267Z"
    },
    "papermill": {
     "duration": 0.251937,
     "end_time": "2023-07-11T10:15:57.628620",
     "exception": false,
     "start_time": "2023-07-11T10:15:57.376683",
     "status": "completed"
    },
    "tags": []
   },
   "outputs": [
    {
     "name": "stdout",
     "output_type": "stream",
     "text": [
      "\n",
      "CPU times: user 78.7 ms, sys: 149 µs, total: 78.8 ms\n",
      "Wall time: 78.5 ms\n"
     ]
    }
   ],
   "source": [
    "%%time \n",
    "\n",
    "# Making the undersampled dataset:-\n",
    "def MakeRndUndSmpl(df):\n",
    "    \"\"\"\n",
    "    This function makes a dataset using the provided dataset with undersampling technique. \n",
    "    This is a slightly verbose implementation of the same.\n",
    "    \n",
    "    Input-->   df - pd.DataFrame\n",
    "    Returns--> Modified dataframe\n",
    "    \"\"\";\n",
    "    \n",
    "    # Calculate the number of samples for each label. \n",
    "    neg, pos = np.bincount(df['Class']);\n",
    "\n",
    "    # Choose the samples with class label `1`.\n",
    "    one_df = df.loc[df['Class'] == 1] ;\n",
    "    # Choose the samples with class label `0`.\n",
    "    zero_df = df.loc[df['Class'] == 0];\n",
    "    # Select `pos` number of negative samples.\n",
    "    # This makes sure that we have equal number of samples for each label.\n",
    "    zero_df = zero_df.sample(n=pos);\n",
    "\n",
    "    # Join both label dataframes.\n",
    "    undersampled_df = pd.concat([zero_df, one_df]);\n",
    "\n",
    "    # Shuffle the data and return\n",
    "    return undersampled_df.sample(frac = 1);\n",
    "\n",
    "print();\n",
    "collect();"
   ]
  },
  {
   "cell_type": "code",
   "execution_count": 5,
   "id": "7a9ebe24",
   "metadata": {
    "execution": {
     "iopub.execute_input": "2023-07-11T10:15:57.648781Z",
     "iopub.status.busy": "2023-07-11T10:15:57.647711Z",
     "iopub.status.idle": "2023-07-11T10:15:57.878357Z",
     "shell.execute_reply": "2023-07-11T10:15:57.876992Z"
    },
    "papermill": {
     "duration": 0.243546,
     "end_time": "2023-07-11T10:15:57.881286",
     "exception": false,
     "start_time": "2023-07-11T10:15:57.637740",
     "status": "completed"
    },
    "tags": []
   },
   "outputs": [
    {
     "name": "stdout",
     "output_type": "stream",
     "text": [
      "\n",
      "CPU times: user 93.5 ms, sys: 0 ns, total: 93.5 ms\n",
      "Wall time: 93.1 ms\n"
     ]
    }
   ],
   "source": [
    "%%time \n",
    "\n",
    "# Defining the competition metric as per Chris Deotte's post:-\n",
    "def ScoreMetric(ytrue, ypred):\n",
    "    \"\"\"\n",
    "    This function provides the competition metric- balanced log loss correctly as per Chris Deotte post\n",
    "    \n",
    "    Inputs-->\n",
    "    ytrue, ypred- np.array - true and prediction arrays\n",
    "    Returns--> balanced log loss score\n",
    "    \n",
    "    Note:- The floor value of the returned balanced log loss is defined to prevent a divide-by-0-error\n",
    "    \"\"\";\n",
    "    \n",
    "    nc = np.bincount(ytrue);\n",
    "    return log_loss(ytrue, ypred, sample_weight = 1 / nc[ytrue], eps=1e-15);\n",
    "\n",
    "print();\n",
    "collect();"
   ]
  },
  {
   "cell_type": "code",
   "execution_count": 6,
   "id": "6e1d8496",
   "metadata": {
    "execution": {
     "iopub.execute_input": "2023-07-11T10:15:57.903342Z",
     "iopub.status.busy": "2023-07-11T10:15:57.902810Z",
     "iopub.status.idle": "2023-07-11T10:15:58.211264Z",
     "shell.execute_reply": "2023-07-11T10:15:58.209976Z"
    },
    "papermill": {
     "duration": 0.32145,
     "end_time": "2023-07-11T10:15:58.213671",
     "exception": false,
     "start_time": "2023-07-11T10:15:57.892221",
     "status": "completed"
    },
    "tags": []
   },
   "outputs": [
    {
     "name": "stdout",
     "output_type": "stream",
     "text": [
      "\u001b[1m\u001b[34m\n",
      "Train and test feature predictors\n",
      "\u001b[0m\n"
     ]
    },
    {
     "data": {
      "text/plain": [
       "array(['AB', 'AF', 'AH', 'AM', 'AR', 'AX', 'AY', 'AZ', 'BC', 'BD ', 'BN',\n",
       "       'BP', 'BQ', 'BR', 'BZ', 'CB', 'CC', 'CD ', 'CF', 'CH', 'CL', 'CR',\n",
       "       'CS', 'CU', 'CW ', 'DA', 'DE', 'DF', 'DH', 'DI', 'DL', 'DN', 'DU',\n",
       "       'DV', 'DY', 'EB', 'EE', 'EG', 'EH', 'EJ', 'EL', 'EP', 'EU', 'FC',\n",
       "       'FD ', 'FE', 'FI', 'FL', 'FR', 'FS', 'GB', 'GE', 'GF', 'GH', 'GI',\n",
       "       'GL'], dtype='<U3')"
      ]
     },
     "metadata": {},
     "output_type": "display_data"
    },
    {
     "name": "stdout",
     "output_type": "stream",
     "text": [
      "\u001b[1m\u001b[34m\n",
      "Original and undersampled train data shape = (617, 58) (216, 58)\n",
      "\u001b[0m\n",
      "\n",
      "CPU times: user 90.8 ms, sys: 0 ns, total: 90.8 ms\n",
      "Wall time: 90.2 ms\n"
     ]
    }
   ],
   "source": [
    "%%time \n",
    "\n",
    "# Importing the datasets:-\n",
    "train  = pd.read_csv('icr-identify-age-related-conditions/train.csv')\n",
    "test   = pd.read_csv('icr-identify-age-related-conditions/test.csv')\n",
    "sample = pd.read_csv('icr-identify-age-related-conditions/sample_submission.csv')\n",
    "greeks = pd.read_csv('icr-identify-age-related-conditions/greeks.csv')\n",
    "\n",
    "# Encoding the category column- EJ:-\n",
    "first_category = train.EJ.unique()[0];\n",
    "train.EJ       = train.EJ.eq(first_category).astype('int');\n",
    "test.EJ        = test.EJ.eq(first_category).astype('int');\n",
    "\n",
    "# features = [fe for fe in train.columns if fe not in ['CF', 'CB', 'DV', 'BR', 'DF', 'GB', 'AH', \n",
    "#                                                      'CW', 'CL', 'BP', 'BD', 'FC', 'GE', 'GF', \n",
    "#                                                      'AR', 'GI', 'AX', 'DA', 'Class']]\n",
    "# train = train[features + ['Class']]\n",
    "# test = test[features]\n",
    "\n",
    "# Implementing the under-sampling process:-\n",
    "train_good        = MakeRndUndSmpl(train);\n",
    "predictor_columns = [n for n in train.columns if n not in ['Class','Id']];\n",
    "x                 = train[predictor_columns];\n",
    "y                 = train['Class'];\n",
    "cv_outer          = KF(n_splits = CFG.n_splits_outer,  shuffle = True,   random_state = CFG.state);\n",
    "cv_inner          = KF(n_splits = CFG.n_splits_inner,  shuffle  = True,  random_state = CFG.state);\n",
    "\n",
    "\n",
    "PrintColor(f\"\\nTrain and test feature predictors\\n\");\n",
    "display(np.array(predictor_columns));\n",
    "\n",
    "PrintColor(f\"\\nOriginal and undersampled train data shape = {train.shape} {train_good.shape}\\n\");\n",
    "\n",
    "collect();\n",
    "print();"
   ]
  },
  {
   "attachments": {},
   "cell_type": "markdown",
   "id": "54024092",
   "metadata": {
    "papermill": {
     "duration": 0.008423,
     "end_time": "2023-07-11T10:15:58.231096",
     "exception": false,
     "start_time": "2023-07-11T10:15:58.222673",
     "status": "completed"
    },
    "tags": []
   },
   "source": [
    "<a id=\"4\"></a>\n",
    "# <div style= \"font-family: Cambria; font-weight:bold; letter-spacing: 0px; color:#ffffff; font-size:120%; text-align:left;padding:3.0px; background: #006bb3; border-bottom: 8px solid #a6a6a6\" > MODEL DEFINITION<br><div> "
   ]
  },
  {
   "cell_type": "code",
   "execution_count": 54,
   "id": "4fe5ab77",
   "metadata": {
    "execution": {
     "iopub.execute_input": "2023-07-11T10:15:58.250330Z",
     "iopub.status.busy": "2023-07-11T10:15:58.249927Z",
     "iopub.status.idle": "2023-07-11T10:15:58.477610Z",
     "shell.execute_reply": "2023-07-11T10:15:58.476275Z"
    },
    "papermill": {
     "duration": 0.240602,
     "end_time": "2023-07-11T10:15:58.480292",
     "exception": false,
     "start_time": "2023-07-11T10:15:58.239690",
     "status": "completed"
    },
    "tags": []
   },
   "outputs": [
    {
     "name": "stdout",
     "output_type": "stream",
     "text": [
      "\n"
     ]
    },
    {
     "name": "stderr",
     "output_type": "stream",
     "text": [
      "/home/alex/anaconda3/envs/ICR/lib/python3.11/site-packages/sklearn/base.py:439: UserWarning: X does not have valid feature names, but SimpleImputer was fitted with feature names\n",
      "  warnings.warn(\n"
     ]
    },
    {
     "name": "stdout",
     "output_type": "stream",
     "text": [
      "CPU times: user 2.27 s, sys: 0 ns, total: 2.27 s\n",
      "Wall time: 1.61 s\n"
     ]
    }
   ],
   "source": [
    "%%time \n",
    "\n",
    "class Ensemble():\n",
    "    \"\"\"\n",
    "    This class defines the below process-\n",
    "    1. Enlists the base models for the subsequent ensemble and imputes nulls using a SimpleImputer\n",
    "    2. Creates the fit method to fit them to the training data based on model choice\n",
    "    3. Curates the model probability predictions \n",
    "    \"\"\";\n",
    "    \n",
    "    def __init__(self):\n",
    "        \"\"\"\n",
    "        This method initializes the imputation strategy and the classifier choices for the subsequent models\n",
    "        \"\"\";\n",
    "        \n",
    "        self.imputer = SimpleImputer(missing_values = np.nan, \n",
    "                                     strategy = 'median')\n",
    "        self.scaler = AdjustedScaler(with_centering=True)\n",
    "\n",
    "        self.classifiers = \\\n",
    "        {\n",
    "        \"XGBC\": XGBClassifier( n_estimators     = 200,\n",
    "                               max_depth        = 3,\n",
    "                               learning_rate    = 0.15,\n",
    "                               subsample        = 0.9,\n",
    "                               colsample_bytree = 0.85,\n",
    "                               reg_alpha        = 0.0001,\n",
    "                               reg_lambda       = 0.85,\n",
    "                              ),\n",
    "         \n",
    "        \"LGBMC1\":LGBMClassifier(**{ 'device'            : \"cpu\",\n",
    "                                    'verbose'           : -1,\n",
    "                                    'boosting_type'     : 'gbdt',\n",
    "                                    'random_state'      : 42,\n",
    "                                    'colsample_bytree'  : 0.4,\n",
    "                                    'learning_rate'     : 0.10,\n",
    "                                    'max_depth'         : 3,\n",
    "                                    'min_child_samples' : 5,\n",
    "                                    'n_estimators'      : 150,\n",
    "                                    'num_leaves'        : 40,\n",
    "                                    'reg_alpha'         : 0.0001,\n",
    "                                    'reg_lambda'        : 0.65,\n",
    "                                    'subsample'         : 0.65, \n",
    "                                  }\n",
    "                               ),\n",
    "\n",
    "        \"LGBMC2\":LGBMClassifier(**{ 'boosting_type': 'goss',\n",
    "                                    'colsample_bytree': 0.6204955836777386,\n",
    "                                    'learning_rate': 0.0491626229304876,\n",
    "                                    'max_bin': 255,\n",
    "                                    'max_depth': 10,\n",
    "                                    'min_child_samples': 12,\n",
    "                                    'num_leaves': 61,\n",
    "                                    'reg_alpha': 0.0002196360644948,\n",
    "                                    'reg_lambda': 6.476059262144023e-06,\n",
    "                                    'subsample': None,\n",
    "                                    'subsample_freq': 6,\n",
    "                                    'n_estimators': 229,\n",
    "                                    # 'objective': 'binary',\n",
    "                                    'metric': 'none',\n",
    "                                    'force_col_wise': False,\n",
    "                                    'verbose': -1,\n",
    "                                    'is_unbalance': True,\n",
    "                                    'class_weight': 'balanced'}\n",
    "                                ),\n",
    "\n",
    "        # \"CBC\":CatBoostClassifier(**{'bagging_temperature': None,\n",
    "        #                             'boosting_type': 'Plain',\n",
    "        #                             'bootstrap_type': 'MVS',\n",
    "        #                             'colsample_bylevel': None,\n",
    "        #                             'depth': 10,\n",
    "        #                             'grow_policy': 'Depthwise',\n",
    "        #                             'l2_leaf_reg': 3.267182921204289,\n",
    "        #                             'learning_rate': 0.0346243575278611,\n",
    "        #                             'max_leaves': None,\n",
    "        #                             'min_data_in_leaf': 31,\n",
    "        #                             'random_strength': 66.99954134814993,\n",
    "        #                             'subsample': 0.3659716227495403,\n",
    "        #                             'n_estimators': 5997,\n",
    "        #                             'task_type': 'CPU',\n",
    "        #                             'eval_metric': 'MultiClass',\n",
    "        #                             'loss_function': 'MultiClass',\n",
    "        #                             'random_seed': 13062023,\n",
    "        #                             'verbose': 0,\n",
    "        #                             'od_type': 'Iter',\n",
    "        #                             'od_wait': 100,\n",
    "        #                             'border_count': 254,\n",
    "        #                             'auto_class_weights': 'Balanced'\n",
    "        #                             }),\n",
    "                           \n",
    "        \"TPFN1C\": TabPFNClassifier(N_ensemble_configurations = 24, seed = 42, device='cuda:0'),\n",
    "                           \n",
    "        \"TPFN2C\": TabPFNClassifier(N_ensemble_configurations = 64, seed = 42, device='cuda:0'),\n",
    "        };\n",
    "    \n",
    "    def fit(self,X,y): \n",
    "        \"This method fits the classifier choices to the train dataset\";\n",
    "        \n",
    "        y = y.values;\n",
    "        unique_classes, y = np.unique(y, return_inverse=True);\n",
    "        self.classes_     = unique_classes;\n",
    "        first_category    = X.EJ.unique()[0];\n",
    "        X.EJ              = X.EJ.eq(first_category).astype('int');\n",
    "        X                 = self.imputer.fit_transform(X);\n",
    "        self.scaler.fit(X)\n",
    "        X                 = self.scaler.transform(X);\n",
    "\n",
    "        for method, classifier in tqdm(self.classifiers.items(), \"--Model fit--\"):\n",
    "            if method.upper().startswith(\"TPFN\"):\n",
    "                classifier.fit(X,y,overwrite_warning = True);\n",
    "            else:\n",
    "                classifier.fit(X, y);\n",
    "     \n",
    "    def predict_proba(self, x):\n",
    "        \"This method curates predictions from the individual fitted classifiers\";\n",
    "        \n",
    "        x = self.imputer.transform(x)\n",
    "        x = self.scaler.transform(x)\n",
    "\n",
    "        # ?\n",
    "        \n",
    "        probabilities          = np.stack([classifier.predict_proba(x) for classifier in self.classifiers.values()])\n",
    "\n",
    "        averaged_probabilities = np.mean(probabilities, axis=0)\n",
    "        class_0_est_instances  = averaged_probabilities[:, 0].sum()\n",
    "        others_est_instances   = averaged_probabilities[:, 1:].sum()\n",
    "        \n",
    "        # Calculating weighted probabilities:-\n",
    "        # ?\n",
    "        new_probabilities = averaged_probabilities * np.array([[1/(class_0_est_instances if i==0 else others_est_instances) for i in range(averaged_probabilities.shape[1])]])\n",
    "        return new_probabilities / np.sum(new_probabilities, axis=1, keepdims=1)\n",
    "    \n",
    "print();\n",
    "collect();\n",
    "\n",
    "y_pred        = m.predict_proba(test_pred_and_time)"
   ]
  },
  {
   "cell_type": "code",
   "execution_count": 18,
   "id": "3beb98f4",
   "metadata": {
    "execution": {
     "iopub.execute_input": "2023-07-11T10:15:58.500085Z",
     "iopub.status.busy": "2023-07-11T10:15:58.499635Z",
     "iopub.status.idle": "2023-07-11T10:15:58.724953Z",
     "shell.execute_reply": "2023-07-11T10:15:58.723802Z"
    },
    "papermill": {
     "duration": 0.238102,
     "end_time": "2023-07-11T10:15:58.727179",
     "exception": false,
     "start_time": "2023-07-11T10:15:58.489077",
     "status": "completed"
    },
    "tags": []
   },
   "outputs": [
    {
     "name": "stdout",
     "output_type": "stream",
     "text": [
      "CPU times: user 0 ns, sys: 4 µs, total: 4 µs\n",
      "Wall time: 5.96 µs\n"
     ]
    }
   ],
   "source": [
    "%%time \n",
    "\n",
    "# Defining the training function:-\n",
    "def TrainMdl(model, x, y, y_meta):\n",
    "    \"\"\"\n",
    "    This function aims to do the below-\n",
    "    1. Trains models with a CV split using the inner-outer CV strategy\n",
    "    2. Curates model predictions for OOF score \n",
    "    3. Saves the best model available from the above strategy\n",
    "    \n",
    "    Inputs- \n",
    "    model - model object to be used for fit and prediction\n",
    "    x,y, y_meta - input data to be used to engender predictions and OOF score\n",
    "    \n",
    "    Returns- best model from CV strategy\n",
    "    \"\"\"\n",
    "    \n",
    "    outer_results = list()\n",
    "    best_loss     = np.inf\n",
    "    split         = 0\n",
    "    splits        = 5\n",
    "    \n",
    "    for train_idx,val_idx in tqdm(cv_inner.split(x), total = splits):\n",
    "        split+=1\n",
    "        \n",
    "        x_train, x_val = x.iloc[train_idx], x.iloc[val_idx]\n",
    "        y_train, y_val = y_meta.iloc[train_idx], y.iloc[val_idx]\n",
    "                \n",
    "        model.fit(x_train, y_train)\n",
    "        \n",
    "        y_pred        = model.predict_proba(x_val)\n",
    "        # ?\n",
    "        probabilities = np.concatenate((y_pred[:,:1], np.sum(y_pred[:,1:], 1, keepdims=True)), axis=1)\n",
    "        p0 = probabilities[:,:1]\n",
    "        \n",
    "        y_p = 1 - p0\n",
    "                \n",
    "        loss = ScoreMetric(y_val, y_p)\n",
    "\n",
    "        if loss < best_loss:\n",
    "            best_model = model\n",
    "            best_loss  = loss\n",
    "            PrintColor(f'-----> Best model saved', color = Fore.GREEN)\n",
    "            \n",
    "        outer_results.append(loss)\n",
    "        num_space = 5 if split <= 9 else 4\n",
    "        PrintColor(f\"--> Fold{split}. {'-' * num_space}> CV = {loss:.5f}\")\n",
    "        del num_space\n",
    "    \n",
    "    PrintColor(f\"\\n ----> Mean CV score = {np.mean(outer_results):.5f} <----\\n\", color= Fore.MAGENTA)\n",
    "  \n",
    "    return best_model, outer_results"
   ]
  },
  {
   "attachments": {},
   "cell_type": "markdown",
   "id": "a3ddc486",
   "metadata": {
    "papermill": {
     "duration": 0.008443,
     "end_time": "2023-07-11T10:15:58.744615",
     "exception": false,
     "start_time": "2023-07-11T10:15:58.736172",
     "status": "completed"
    },
    "tags": []
   },
   "source": [
    "<a id=\"5\"></a>\n",
    "# <div style= \"font-family: Cambria; font-weight:bold; letter-spacing: 0px; color:#ffffff; font-size:120%; text-align:left;padding:3.0px; background: #006bb3; border-bottom: 8px solid #a6a6a6\" > FEATURE ENGINEERING<br><div> \n",
    "    \n",
    "1. We append the greeks data to the train data to perhaps extract additional insights<br>\n",
    "2. We over-sample the train data and then prepare the model Xtrain and ytrain data for the training and inference step"
   ]
  },
  {
   "cell_type": "code",
   "execution_count": 9,
   "id": "3cffe457",
   "metadata": {
    "execution": {
     "iopub.execute_input": "2023-07-11T10:15:58.763724Z",
     "iopub.status.busy": "2023-07-11T10:15:58.763236Z",
     "iopub.status.idle": "2023-07-11T10:15:59.013134Z",
     "shell.execute_reply": "2023-07-11T10:15:59.011990Z"
    },
    "papermill": {
     "duration": 0.262411,
     "end_time": "2023-07-11T10:15:59.015634",
     "exception": false,
     "start_time": "2023-07-11T10:15:58.753223",
     "status": "completed"
    },
    "tags": []
   },
   "outputs": [
    {
     "name": "stdout",
     "output_type": "stream",
     "text": [
      "\n",
      "CPU times: user 80.7 ms, sys: 0 ns, total: 80.7 ms\n",
      "Wall time: 80 ms\n"
     ]
    }
   ],
   "source": [
    "%%time \n",
    "\n",
    "# Making use of the greeks dataset for additional information:-\n",
    "times = greeks.Epsilon.copy();\n",
    "times[greeks.Epsilon != 'Unknown'] = \\\n",
    "greeks.Epsilon[greeks.Epsilon != 'Unknown'].\\\n",
    "map(lambda x: datetime.strptime(x,'%m/%d/%Y').toordinal());\n",
    "times[greeks.Epsilon == 'Unknown'] = np.nan;\n",
    "\n",
    "# Appending the greeks data to the train data:-\n",
    "train_pred_and_time = pd.concat((train, times), axis=1);\n",
    "test_predictors     = test[predictor_columns];\n",
    "first_category      = test_predictors.EJ.unique()[0];\n",
    "test_predictors.EJ  = test_predictors.EJ.eq(first_category).astype('int');\n",
    "test_pred_and_time  = np.concatenate((test_predictors, np.zeros((len(test_predictors), 1)) + train_pred_and_time.Epsilon.max() + 1), axis=1);\n",
    "\n",
    "print();\n",
    "collect();"
   ]
  },
  {
   "cell_type": "code",
   "execution_count": 10,
   "id": "9659921c",
   "metadata": {
    "execution": {
     "iopub.execute_input": "2023-07-11T10:15:59.035958Z",
     "iopub.status.busy": "2023-07-11T10:15:59.034754Z",
     "iopub.status.idle": "2023-07-11T10:15:59.290619Z",
     "shell.execute_reply": "2023-07-11T10:15:59.289341Z"
    },
    "papermill": {
     "duration": 0.268596,
     "end_time": "2023-07-11T10:15:59.293149",
     "exception": false,
     "start_time": "2023-07-11T10:15:59.024553",
     "status": "completed"
    },
    "tags": []
   },
   "outputs": [
    {
     "name": "stdout",
     "output_type": "stream",
     "text": [
      "\u001b[1m\u001b[34m\n",
      "Original dataset shape\n",
      "\u001b[0m\n",
      "Alpha\n",
      "A    509\n",
      "B     61\n",
      "G     29\n",
      "D     18\n",
      "Name: count, dtype: int64\n",
      "\u001b[1m\u001b[34m\n",
      "Resample dataset shape\n",
      "\u001b[0m\n",
      "Alpha\n",
      "B    509\n",
      "A    509\n",
      "D    509\n",
      "G    509\n",
      "Name: count, dtype: int64\n",
      "\n",
      "CPU times: user 94.9 ms, sys: 0 ns, total: 94.9 ms\n",
      "Wall time: 94.1 ms\n"
     ]
    }
   ],
   "source": [
    "%%time \n",
    "\n",
    "ros = RandomOverSampler(random_state = CFG.state);\n",
    "\n",
    "train_ros, y_ros = ros.fit_resample(train_pred_and_time, greeks.Alpha);\n",
    "PrintColor('\\nOriginal dataset shape\\n');\n",
    "pprint(greeks.Alpha.value_counts());\n",
    "PrintColor('\\nResample dataset shape\\n');\n",
    "pprint( y_ros.value_counts());\n",
    "\n",
    "x_ros = train_ros.drop(['Class', 'Id'],axis=1);\n",
    "y_    = train_ros.Class;\n",
    "\n",
    "collect();\n",
    "print();"
   ]
  },
  {
   "attachments": {},
   "cell_type": "markdown",
   "id": "57d58e57",
   "metadata": {
    "papermill": {
     "duration": 0.0089,
     "end_time": "2023-07-11T10:15:59.311276",
     "exception": false,
     "start_time": "2023-07-11T10:15:59.302376",
     "status": "completed"
    },
    "tags": []
   },
   "source": [
    "<a id=\"6\"></a>\n",
    "# <div style= \"font-family: Cambria; font-weight:bold; letter-spacing: 0px; color:#ffffff; font-size:120%; text-align:left;padding:3.0px; background: #006bb3; border-bottom: 8px solid #a6a6a6\" > MODEL TRAINING<br><div> "
   ]
  },
  {
   "cell_type": "code",
   "execution_count": 48,
   "id": "22e49530",
   "metadata": {
    "execution": {
     "iopub.execute_input": "2023-07-11T10:15:59.331722Z",
     "iopub.status.busy": "2023-07-11T10:15:59.331318Z",
     "iopub.status.idle": "2023-07-11T10:44:09.456133Z",
     "shell.execute_reply": "2023-07-11T10:44:09.454858Z"
    },
    "papermill": {
     "duration": 1690.149557,
     "end_time": "2023-07-11T10:44:09.469959",
     "exception": false,
     "start_time": "2023-07-11T10:15:59.320402",
     "status": "completed"
    },
    "tags": []
   },
   "outputs": [
    {
     "name": "stdout",
     "output_type": "stream",
     "text": [
      "Loading model that can be used for inference only\n",
      "Using a Transformer with 25.82 M parameters\n",
      "Loading model that can be used for inference only\n",
      "Using a Transformer with 25.82 M parameters\n"
     ]
    },
    {
     "data": {
      "application/vnd.jupyter.widget-view+json": {
       "model_id": "a795505129af42d2b5e51a8518d6d42f",
       "version_major": 2,
       "version_minor": 0
      },
      "text/plain": [
       "  0%|          | 0/5 [00:00<?, ?it/s]"
      ]
     },
     "metadata": {},
     "output_type": "display_data"
    },
    {
     "name": "stderr",
     "output_type": "stream",
     "text": [
      "<timed exec>:101: SettingWithCopyWarning: \n",
      "A value is trying to be set on a copy of a slice from a DataFrame.\n",
      "Try using .loc[row_indexer,col_indexer] = value instead\n",
      "\n",
      "See the caveats in the documentation: https://pandas.pydata.org/pandas-docs/stable/user_guide/indexing.html#returning-a-view-versus-a-copy\n"
     ]
    },
    {
     "data": {
      "application/vnd.jupyter.widget-view+json": {
       "model_id": "a5efae4c9867465bb61f475d5778e9d7",
       "version_major": 2,
       "version_minor": 0
      },
      "text/plain": [
       "--Model fit--:   0%|          | 0/5 [00:00<?, ?it/s]"
      ]
     },
     "metadata": {},
     "output_type": "display_data"
    },
    {
     "name": "stdout",
     "output_type": "stream",
     "text": [
      "\u001b[1m\u001b[32m-----> Best model saved\u001b[0m\n",
      "\u001b[1m\u001b[34m--> Fold1. -----> CV = 0.01704\u001b[0m\n"
     ]
    },
    {
     "name": "stderr",
     "output_type": "stream",
     "text": [
      "<timed exec>:101: SettingWithCopyWarning: \n",
      "A value is trying to be set on a copy of a slice from a DataFrame.\n",
      "Try using .loc[row_indexer,col_indexer] = value instead\n",
      "\n",
      "See the caveats in the documentation: https://pandas.pydata.org/pandas-docs/stable/user_guide/indexing.html#returning-a-view-versus-a-copy\n"
     ]
    },
    {
     "data": {
      "application/vnd.jupyter.widget-view+json": {
       "model_id": "6500d97c35104fbcb7b540901c70a193",
       "version_major": 2,
       "version_minor": 0
      },
      "text/plain": [
       "--Model fit--:   0%|          | 0/5 [00:00<?, ?it/s]"
      ]
     },
     "metadata": {},
     "output_type": "display_data"
    },
    {
     "name": "stdout",
     "output_type": "stream",
     "text": [
      "\u001b[1m\u001b[32m-----> Best model saved\u001b[0m\n",
      "\u001b[1m\u001b[34m--> Fold2. -----> CV = 0.01280\u001b[0m\n"
     ]
    },
    {
     "name": "stderr",
     "output_type": "stream",
     "text": [
      "<timed exec>:101: SettingWithCopyWarning: \n",
      "A value is trying to be set on a copy of a slice from a DataFrame.\n",
      "Try using .loc[row_indexer,col_indexer] = value instead\n",
      "\n",
      "See the caveats in the documentation: https://pandas.pydata.org/pandas-docs/stable/user_guide/indexing.html#returning-a-view-versus-a-copy\n"
     ]
    },
    {
     "data": {
      "application/vnd.jupyter.widget-view+json": {
       "model_id": "e9397a80831a48259b6f64884716a868",
       "version_major": 2,
       "version_minor": 0
      },
      "text/plain": [
       "--Model fit--:   0%|          | 0/5 [00:00<?, ?it/s]"
      ]
     },
     "metadata": {},
     "output_type": "display_data"
    },
    {
     "name": "stdout",
     "output_type": "stream",
     "text": [
      "\u001b[1m\u001b[34m--> Fold3. -----> CV = 0.03071\u001b[0m\n"
     ]
    },
    {
     "name": "stderr",
     "output_type": "stream",
     "text": [
      "<timed exec>:101: SettingWithCopyWarning: \n",
      "A value is trying to be set on a copy of a slice from a DataFrame.\n",
      "Try using .loc[row_indexer,col_indexer] = value instead\n",
      "\n",
      "See the caveats in the documentation: https://pandas.pydata.org/pandas-docs/stable/user_guide/indexing.html#returning-a-view-versus-a-copy\n"
     ]
    },
    {
     "data": {
      "application/vnd.jupyter.widget-view+json": {
       "model_id": "d01e17475f1a44ae9cd85c4470e682d3",
       "version_major": 2,
       "version_minor": 0
      },
      "text/plain": [
       "--Model fit--:   0%|          | 0/5 [00:00<?, ?it/s]"
      ]
     },
     "metadata": {},
     "output_type": "display_data"
    },
    {
     "name": "stdout",
     "output_type": "stream",
     "text": [
      "\u001b[1m\u001b[34m--> Fold4. -----> CV = 0.01523\u001b[0m\n"
     ]
    },
    {
     "name": "stderr",
     "output_type": "stream",
     "text": [
      "<timed exec>:101: SettingWithCopyWarning: \n",
      "A value is trying to be set on a copy of a slice from a DataFrame.\n",
      "Try using .loc[row_indexer,col_indexer] = value instead\n",
      "\n",
      "See the caveats in the documentation: https://pandas.pydata.org/pandas-docs/stable/user_guide/indexing.html#returning-a-view-versus-a-copy\n"
     ]
    },
    {
     "data": {
      "application/vnd.jupyter.widget-view+json": {
       "model_id": "720d3065dc424a459fda3b055498b242",
       "version_major": 2,
       "version_minor": 0
      },
      "text/plain": [
       "--Model fit--:   0%|          | 0/5 [00:00<?, ?it/s]"
      ]
     },
     "metadata": {},
     "output_type": "display_data"
    },
    {
     "name": "stdout",
     "output_type": "stream",
     "text": [
      "\u001b[1m\u001b[34m--> Fold5. -----> CV = 0.01486\u001b[0m\n",
      "\u001b[1m\u001b[35m\n",
      " ----> Mean CV score = 0.01813 <----\n",
      "\u001b[0m\n"
     ]
    },
    {
     "name": "stderr",
     "output_type": "stream",
     "text": [
      "/home/alex/anaconda3/envs/ICR/lib/python3.11/site-packages/sklearn/base.py:439: UserWarning: X does not have valid feature names, but SimpleImputer was fitted with feature names\n",
      "  warnings.warn(\n"
     ]
    },
    {
     "name": "stdout",
     "output_type": "stream",
     "text": [
      "CPU times: user 2min 8s, sys: 746 ms, total: 2min 8s\n",
      "Wall time: 23.3 s\n"
     ]
    }
   ],
   "source": [
    "%%time\n",
    "\n",
    "yt = Ensemble()\n",
    "m, outer_results  = TrainMdl(yt, x_ros, y_, y_ros)\n",
    "y_.value_counts() / y_.shape[0]\n",
    "\n",
    "y_pred        = m.predict_proba(test_pred_and_time)\n",
    "probabilities = np.concatenate((y_pred[:,:1], np.sum(y_pred[:,1:], 1, keepdims=True)), axis=1)\n",
    "p0            = probabilities[:,:1]"
   ]
  },
  {
   "attachments": {},
   "cell_type": "markdown",
   "id": "9337b3b9",
   "metadata": {
    "papermill": {
     "duration": 0.011228,
     "end_time": "2023-07-11T10:44:09.492658",
     "exception": false,
     "start_time": "2023-07-11T10:44:09.481430",
     "status": "completed"
    },
    "tags": []
   },
   "source": [
    "<a id=\"7\"></a>\n",
    "# <div style= \"font-family: Cambria; font-weight:bold; letter-spacing: 0px; color:#ffffff; font-size:120%; text-align:left;padding:3.0px; background: #006bb3; border-bottom: 8px solid #a6a6a6\" > SUBMISSION<br><div> "
   ]
  },
  {
   "cell_type": "code",
   "execution_count": 12,
   "id": "943493db",
   "metadata": {
    "execution": {
     "iopub.execute_input": "2023-07-11T10:44:09.518515Z",
     "iopub.status.busy": "2023-07-11T10:44:09.517718Z",
     "iopub.status.idle": "2023-07-11T10:44:09.780886Z",
     "shell.execute_reply": "2023-07-11T10:44:09.779747Z"
    },
    "papermill": {
     "duration": 0.278799,
     "end_time": "2023-07-11T10:44:09.783548",
     "exception": false,
     "start_time": "2023-07-11T10:44:09.504749",
     "status": "completed"
    },
    "tags": []
   },
   "outputs": [
    {
     "name": "stdout",
     "output_type": "stream",
     "text": [
      "\u001b[1m\u001b[34m\n",
      "Post-processing predictions with cutoffs = 0.28 0.59\n",
      "\u001b[0m\n"
     ]
    },
    {
     "data": {
      "text/html": [
       "<div>\n",
       "<style scoped>\n",
       "    .dataframe tbody tr th:only-of-type {\n",
       "        vertical-align: middle;\n",
       "    }\n",
       "\n",
       "    .dataframe tbody tr th {\n",
       "        vertical-align: top;\n",
       "    }\n",
       "\n",
       "    .dataframe thead th {\n",
       "        text-align: right;\n",
       "    }\n",
       "</style>\n",
       "<table border=\"1\" class=\"dataframe\">\n",
       "  <thead>\n",
       "    <tr style=\"text-align: right;\">\n",
       "      <th></th>\n",
       "      <th>Id</th>\n",
       "      <th>class_0</th>\n",
       "      <th>class_1</th>\n",
       "    </tr>\n",
       "  </thead>\n",
       "  <tbody>\n",
       "    <tr>\n",
       "      <th>0</th>\n",
       "      <td>00eed32682bb</td>\n",
       "      <td>0.5</td>\n",
       "      <td>0.5</td>\n",
       "    </tr>\n",
       "    <tr>\n",
       "      <th>1</th>\n",
       "      <td>010ebe33f668</td>\n",
       "      <td>0.5</td>\n",
       "      <td>0.5</td>\n",
       "    </tr>\n",
       "    <tr>\n",
       "      <th>2</th>\n",
       "      <td>02fa521e1838</td>\n",
       "      <td>0.5</td>\n",
       "      <td>0.5</td>\n",
       "    </tr>\n",
       "    <tr>\n",
       "      <th>3</th>\n",
       "      <td>040e15f562a2</td>\n",
       "      <td>0.5</td>\n",
       "      <td>0.5</td>\n",
       "    </tr>\n",
       "    <tr>\n",
       "      <th>4</th>\n",
       "      <td>046e85c7cc7f</td>\n",
       "      <td>0.5</td>\n",
       "      <td>0.5</td>\n",
       "    </tr>\n",
       "  </tbody>\n",
       "</table>\n",
       "</div>"
      ],
      "text/plain": [
       "             Id  class_0  class_1\n",
       "0  00eed32682bb      0.5      0.5\n",
       "1  010ebe33f668      0.5      0.5\n",
       "2  02fa521e1838      0.5      0.5\n",
       "3  040e15f562a2      0.5      0.5\n",
       "4  046e85c7cc7f      0.5      0.5"
      ]
     },
     "metadata": {},
     "output_type": "display_data"
    },
    {
     "name": "stdout",
     "output_type": "stream",
     "text": [
      "\n",
      "CPU times: user 83.9 ms, sys: 0 ns, total: 83.9 ms\n",
      "Wall time: 82.9 ms\n"
     ]
    }
   ],
   "source": [
    "%%time \n",
    "\n",
    "if CFG.postprocess_req.upper() == \"Y\":\n",
    "    PrintColor(f\"\\nPost-processing predictions with cutoffs = {CFG.lw_cutoff:.2f} {CFG.up_cutoff:.2f}\\n\");\n",
    "    p0[p0 > CFG.up_cutoff] = 1;\n",
    "    p0[p0 < CFG.lw_cutoff] = 0; \n",
    "    \n",
    "else:\n",
    "    PrintColor(f\"Post-processing is not required\", color = Fore.RED);\n",
    "    \n",
    "submission            = pd.DataFrame(test[\"Id\"], columns = [\"Id\"]);\n",
    "submission[\"class_0\"] = p0;\n",
    "submission[\"class_1\"] = 1 - p0;\n",
    "\n",
    "submission.to_csv('submission.csv', index = False);\n",
    "submission_df = pd.read_csv('submission.csv')\n",
    "display(submission_df);\n",
    "\n",
    "collect();\n",
    "print();"
   ]
  }
 ],
 "metadata": {
  "kernelspec": {
   "display_name": "Python 3",
   "language": "python",
   "name": "python3"
  },
  "language_info": {
   "codemirror_mode": {
    "name": "ipython",
    "version": 3
   },
   "file_extension": ".py",
   "mimetype": "text/x-python",
   "name": "python",
   "nbconvert_exporter": "python",
   "pygments_lexer": "ipython3",
   "version": "3.11.4"
  },
  "papermill": {
   "default_parameters": {},
   "duration": 1734.131278,
   "end_time": "2023-07-11T10:44:11.528087",
   "environment_variables": {},
   "exception": null,
   "input_path": "__notebook__.ipynb",
   "output_path": "__notebook__.ipynb",
   "parameters": {},
   "start_time": "2023-07-11T10:15:17.396809",
   "version": "2.4.0"
  },
  "widgets": {
   "application/vnd.jupyter.widget-state+json": {
    "state": {
     "032893c7a3c5412297d5b556dc111818": {
      "model_module": "@jupyter-widgets/controls",
      "model_module_version": "1.5.0",
      "model_name": "DescriptionStyleModel",
      "state": {
       "_model_module": "@jupyter-widgets/controls",
       "_model_module_version": "1.5.0",
       "_model_name": "DescriptionStyleModel",
       "_view_count": null,
       "_view_module": "@jupyter-widgets/base",
       "_view_module_version": "1.2.0",
       "_view_name": "StyleView",
       "description_width": ""
      }
     },
     "05036d3bd60c48a2a8b1ab639376fecc": {
      "model_module": "@jupyter-widgets/base",
      "model_module_version": "1.2.0",
      "model_name": "LayoutModel",
      "state": {
       "_model_module": "@jupyter-widgets/base",
       "_model_module_version": "1.2.0",
       "_model_name": "LayoutModel",
       "_view_count": null,
       "_view_module": "@jupyter-widgets/base",
       "_view_module_version": "1.2.0",
       "_view_name": "LayoutView",
       "align_content": null,
       "align_items": null,
       "align_self": null,
       "border": null,
       "bottom": null,
       "display": null,
       "flex": null,
       "flex_flow": null,
       "grid_area": null,
       "grid_auto_columns": null,
       "grid_auto_flow": null,
       "grid_auto_rows": null,
       "grid_column": null,
       "grid_gap": null,
       "grid_row": null,
       "grid_template_areas": null,
       "grid_template_columns": null,
       "grid_template_rows": null,
       "height": null,
       "justify_content": null,
       "justify_items": null,
       "left": null,
       "margin": null,
       "max_height": null,
       "max_width": null,
       "min_height": null,
       "min_width": null,
       "object_fit": null,
       "object_position": null,
       "order": null,
       "overflow": null,
       "overflow_x": null,
       "overflow_y": null,
       "padding": null,
       "right": null,
       "top": null,
       "visibility": null,
       "width": null
      }
     },
     "0cf8302b479441f4abd6933043ebe8d7": {
      "model_module": "@jupyter-widgets/controls",
      "model_module_version": "1.5.0",
      "model_name": "HTMLModel",
      "state": {
       "_dom_classes": [],
       "_model_module": "@jupyter-widgets/controls",
       "_model_module_version": "1.5.0",
       "_model_name": "HTMLModel",
       "_view_count": null,
       "_view_module": "@jupyter-widgets/controls",
       "_view_module_version": "1.5.0",
       "_view_name": "HTMLView",
       "description": "",
       "description_tooltip": null,
       "layout": "IPY_MODEL_51a52e9f96bf415e84166f797cfb70a0",
       "placeholder": "​",
       "style": "IPY_MODEL_9459e67abbd84bb2b67a39ab21f8e6d2",
       "value": " 4/4 [00:02&lt;00:00,  1.21s/it]"
      }
     },
     "0e450e704138497ebe697fba0f5f6837": {
      "model_module": "@jupyter-widgets/base",
      "model_module_version": "1.2.0",
      "model_name": "LayoutModel",
      "state": {
       "_model_module": "@jupyter-widgets/base",
       "_model_module_version": "1.2.0",
       "_model_name": "LayoutModel",
       "_view_count": null,
       "_view_module": "@jupyter-widgets/base",
       "_view_module_version": "1.2.0",
       "_view_name": "LayoutView",
       "align_content": null,
       "align_items": null,
       "align_self": null,
       "border": null,
       "bottom": null,
       "display": null,
       "flex": null,
       "flex_flow": null,
       "grid_area": null,
       "grid_auto_columns": null,
       "grid_auto_flow": null,
       "grid_auto_rows": null,
       "grid_column": null,
       "grid_gap": null,
       "grid_row": null,
       "grid_template_areas": null,
       "grid_template_columns": null,
       "grid_template_rows": null,
       "height": null,
       "justify_content": null,
       "justify_items": null,
       "left": null,
       "margin": null,
       "max_height": null,
       "max_width": null,
       "min_height": null,
       "min_width": null,
       "object_fit": null,
       "object_position": null,
       "order": null,
       "overflow": null,
       "overflow_x": null,
       "overflow_y": null,
       "padding": null,
       "right": null,
       "top": null,
       "visibility": null,
       "width": null
      }
     },
     "159f6507100a4383a268619a10e2ebb1": {
      "model_module": "@jupyter-widgets/base",
      "model_module_version": "1.2.0",
      "model_name": "LayoutModel",
      "state": {
       "_model_module": "@jupyter-widgets/base",
       "_model_module_version": "1.2.0",
       "_model_name": "LayoutModel",
       "_view_count": null,
       "_view_module": "@jupyter-widgets/base",
       "_view_module_version": "1.2.0",
       "_view_name": "LayoutView",
       "align_content": null,
       "align_items": null,
       "align_self": null,
       "border": null,
       "bottom": null,
       "display": null,
       "flex": null,
       "flex_flow": null,
       "grid_area": null,
       "grid_auto_columns": null,
       "grid_auto_flow": null,
       "grid_auto_rows": null,
       "grid_column": null,
       "grid_gap": null,
       "grid_row": null,
       "grid_template_areas": null,
       "grid_template_columns": null,
       "grid_template_rows": null,
       "height": null,
       "justify_content": null,
       "justify_items": null,
       "left": null,
       "margin": null,
       "max_height": null,
       "max_width": null,
       "min_height": null,
       "min_width": null,
       "object_fit": null,
       "object_position": null,
       "order": null,
       "overflow": null,
       "overflow_x": null,
       "overflow_y": null,
       "padding": null,
       "right": null,
       "top": null,
       "visibility": null,
       "width": null
      }
     },
     "1622739fbb98467e8d477d4389d22602": {
      "model_module": "@jupyter-widgets/controls",
      "model_module_version": "1.5.0",
      "model_name": "FloatProgressModel",
      "state": {
       "_dom_classes": [],
       "_model_module": "@jupyter-widgets/controls",
       "_model_module_version": "1.5.0",
       "_model_name": "FloatProgressModel",
       "_view_count": null,
       "_view_module": "@jupyter-widgets/controls",
       "_view_module_version": "1.5.0",
       "_view_name": "ProgressView",
       "bar_style": "success",
       "description": "",
       "description_tooltip": null,
       "layout": "IPY_MODEL_cf0f3182ec524eb88b0f9ebcf6631a48",
       "max": 4,
       "min": 0,
       "orientation": "horizontal",
       "style": "IPY_MODEL_699b3b2eb61d4520b17634e05c69b181",
       "value": 4
      }
     },
     "16499a1db0224d0982eb721516d565b7": {
      "model_module": "@jupyter-widgets/base",
      "model_module_version": "1.2.0",
      "model_name": "LayoutModel",
      "state": {
       "_model_module": "@jupyter-widgets/base",
       "_model_module_version": "1.2.0",
       "_model_name": "LayoutModel",
       "_view_count": null,
       "_view_module": "@jupyter-widgets/base",
       "_view_module_version": "1.2.0",
       "_view_name": "LayoutView",
       "align_content": null,
       "align_items": null,
       "align_self": null,
       "border": null,
       "bottom": null,
       "display": null,
       "flex": null,
       "flex_flow": null,
       "grid_area": null,
       "grid_auto_columns": null,
       "grid_auto_flow": null,
       "grid_auto_rows": null,
       "grid_column": null,
       "grid_gap": null,
       "grid_row": null,
       "grid_template_areas": null,
       "grid_template_columns": null,
       "grid_template_rows": null,
       "height": null,
       "justify_content": null,
       "justify_items": null,
       "left": null,
       "margin": null,
       "max_height": null,
       "max_width": null,
       "min_height": null,
       "min_width": null,
       "object_fit": null,
       "object_position": null,
       "order": null,
       "overflow": null,
       "overflow_x": null,
       "overflow_y": null,
       "padding": null,
       "right": null,
       "top": null,
       "visibility": null,
       "width": null
      }
     },
     "19bc5e86cd8e4f96a2aa433254dc210b": {
      "model_module": "@jupyter-widgets/base",
      "model_module_version": "1.2.0",
      "model_name": "LayoutModel",
      "state": {
       "_model_module": "@jupyter-widgets/base",
       "_model_module_version": "1.2.0",
       "_model_name": "LayoutModel",
       "_view_count": null,
       "_view_module": "@jupyter-widgets/base",
       "_view_module_version": "1.2.0",
       "_view_name": "LayoutView",
       "align_content": null,
       "align_items": null,
       "align_self": null,
       "border": null,
       "bottom": null,
       "display": null,
       "flex": null,
       "flex_flow": null,
       "grid_area": null,
       "grid_auto_columns": null,
       "grid_auto_flow": null,
       "grid_auto_rows": null,
       "grid_column": null,
       "grid_gap": null,
       "grid_row": null,
       "grid_template_areas": null,
       "grid_template_columns": null,
       "grid_template_rows": null,
       "height": null,
       "justify_content": null,
       "justify_items": null,
       "left": null,
       "margin": null,
       "max_height": null,
       "max_width": null,
       "min_height": null,
       "min_width": null,
       "object_fit": null,
       "object_position": null,
       "order": null,
       "overflow": null,
       "overflow_x": null,
       "overflow_y": null,
       "padding": null,
       "right": null,
       "top": null,
       "visibility": null,
       "width": null
      }
     },
     "28bbbade82514cc4a3a3683a2ee5b3da": {
      "model_module": "@jupyter-widgets/controls",
      "model_module_version": "1.5.0",
      "model_name": "HTMLModel",
      "state": {
       "_dom_classes": [],
       "_model_module": "@jupyter-widgets/controls",
       "_model_module_version": "1.5.0",
       "_model_name": "HTMLModel",
       "_view_count": null,
       "_view_module": "@jupyter-widgets/controls",
       "_view_module_version": "1.5.0",
       "_view_name": "HTMLView",
       "description": "",
       "description_tooltip": null,
       "layout": "IPY_MODEL_af4f34b94d3a4e5485c29dca163ff682",
       "placeholder": "​",
       "style": "IPY_MODEL_315624bf1da04a699ddb5311c7707f70",
       "value": " 5/5 [23:41&lt;00:00, 285.14s/it]"
      }
     },
     "2b888d87ba5c4674be4f1c79135b1808": {
      "model_module": "@jupyter-widgets/base",
      "model_module_version": "1.2.0",
      "model_name": "LayoutModel",
      "state": {
       "_model_module": "@jupyter-widgets/base",
       "_model_module_version": "1.2.0",
       "_model_name": "LayoutModel",
       "_view_count": null,
       "_view_module": "@jupyter-widgets/base",
       "_view_module_version": "1.2.0",
       "_view_name": "LayoutView",
       "align_content": null,
       "align_items": null,
       "align_self": null,
       "border": null,
       "bottom": null,
       "display": null,
       "flex": null,
       "flex_flow": null,
       "grid_area": null,
       "grid_auto_columns": null,
       "grid_auto_flow": null,
       "grid_auto_rows": null,
       "grid_column": null,
       "grid_gap": null,
       "grid_row": null,
       "grid_template_areas": null,
       "grid_template_columns": null,
       "grid_template_rows": null,
       "height": null,
       "justify_content": null,
       "justify_items": null,
       "left": null,
       "margin": null,
       "max_height": null,
       "max_width": null,
       "min_height": null,
       "min_width": null,
       "object_fit": null,
       "object_position": null,
       "order": null,
       "overflow": null,
       "overflow_x": null,
       "overflow_y": null,
       "padding": null,
       "right": null,
       "top": null,
       "visibility": null,
       "width": null
      }
     },
     "30e117aaab12476b9cc7a3a85382701f": {
      "model_module": "@jupyter-widgets/base",
      "model_module_version": "1.2.0",
      "model_name": "LayoutModel",
      "state": {
       "_model_module": "@jupyter-widgets/base",
       "_model_module_version": "1.2.0",
       "_model_name": "LayoutModel",
       "_view_count": null,
       "_view_module": "@jupyter-widgets/base",
       "_view_module_version": "1.2.0",
       "_view_name": "LayoutView",
       "align_content": null,
       "align_items": null,
       "align_self": null,
       "border": null,
       "bottom": null,
       "display": null,
       "flex": null,
       "flex_flow": null,
       "grid_area": null,
       "grid_auto_columns": null,
       "grid_auto_flow": null,
       "grid_auto_rows": null,
       "grid_column": null,
       "grid_gap": null,
       "grid_row": null,
       "grid_template_areas": null,
       "grid_template_columns": null,
       "grid_template_rows": null,
       "height": null,
       "justify_content": null,
       "justify_items": null,
       "left": null,
       "margin": null,
       "max_height": null,
       "max_width": null,
       "min_height": null,
       "min_width": null,
       "object_fit": null,
       "object_position": null,
       "order": null,
       "overflow": null,
       "overflow_x": null,
       "overflow_y": null,
       "padding": null,
       "right": null,
       "top": null,
       "visibility": null,
       "width": null
      }
     },
     "315624bf1da04a699ddb5311c7707f70": {
      "model_module": "@jupyter-widgets/controls",
      "model_module_version": "1.5.0",
      "model_name": "DescriptionStyleModel",
      "state": {
       "_model_module": "@jupyter-widgets/controls",
       "_model_module_version": "1.5.0",
       "_model_name": "DescriptionStyleModel",
       "_view_count": null,
       "_view_module": "@jupyter-widgets/base",
       "_view_module_version": "1.2.0",
       "_view_name": "StyleView",
       "description_width": ""
      }
     },
     "3818deca39f443389ceaa5f06ffa3b60": {
      "model_module": "@jupyter-widgets/controls",
      "model_module_version": "1.5.0",
      "model_name": "FloatProgressModel",
      "state": {
       "_dom_classes": [],
       "_model_module": "@jupyter-widgets/controls",
       "_model_module_version": "1.5.0",
       "_model_name": "FloatProgressModel",
       "_view_count": null,
       "_view_module": "@jupyter-widgets/controls",
       "_view_module_version": "1.5.0",
       "_view_name": "ProgressView",
       "bar_style": "success",
       "description": "",
       "description_tooltip": null,
       "layout": "IPY_MODEL_d51e04bf61774aa2be2b96c94980cfb7",
       "max": 4,
       "min": 0,
       "orientation": "horizontal",
       "style": "IPY_MODEL_6dfbb465bbd544228a43090d74462786",
       "value": 4
      }
     },
     "4367e3b2108a46aba836b54d2cf23401": {
      "model_module": "@jupyter-widgets/base",
      "model_module_version": "1.2.0",
      "model_name": "LayoutModel",
      "state": {
       "_model_module": "@jupyter-widgets/base",
       "_model_module_version": "1.2.0",
       "_model_name": "LayoutModel",
       "_view_count": null,
       "_view_module": "@jupyter-widgets/base",
       "_view_module_version": "1.2.0",
       "_view_name": "LayoutView",
       "align_content": null,
       "align_items": null,
       "align_self": null,
       "border": null,
       "bottom": null,
       "display": null,
       "flex": null,
       "flex_flow": null,
       "grid_area": null,
       "grid_auto_columns": null,
       "grid_auto_flow": null,
       "grid_auto_rows": null,
       "grid_column": null,
       "grid_gap": null,
       "grid_row": null,
       "grid_template_areas": null,
       "grid_template_columns": null,
       "grid_template_rows": null,
       "height": null,
       "justify_content": null,
       "justify_items": null,
       "left": null,
       "margin": null,
       "max_height": null,
       "max_width": null,
       "min_height": null,
       "min_width": null,
       "object_fit": null,
       "object_position": null,
       "order": null,
       "overflow": null,
       "overflow_x": null,
       "overflow_y": null,
       "padding": null,
       "right": null,
       "top": null,
       "visibility": null,
       "width": null
      }
     },
     "46eadc6b7520481ca91899f13e9a1a2f": {
      "model_module": "@jupyter-widgets/controls",
      "model_module_version": "1.5.0",
      "model_name": "DescriptionStyleModel",
      "state": {
       "_model_module": "@jupyter-widgets/controls",
       "_model_module_version": "1.5.0",
       "_model_name": "DescriptionStyleModel",
       "_view_count": null,
       "_view_module": "@jupyter-widgets/base",
       "_view_module_version": "1.2.0",
       "_view_name": "StyleView",
       "description_width": ""
      }
     },
     "478ed8f10af441b287ad6f33b839b8f5": {
      "model_module": "@jupyter-widgets/base",
      "model_module_version": "1.2.0",
      "model_name": "LayoutModel",
      "state": {
       "_model_module": "@jupyter-widgets/base",
       "_model_module_version": "1.2.0",
       "_model_name": "LayoutModel",
       "_view_count": null,
       "_view_module": "@jupyter-widgets/base",
       "_view_module_version": "1.2.0",
       "_view_name": "LayoutView",
       "align_content": null,
       "align_items": null,
       "align_self": null,
       "border": null,
       "bottom": null,
       "display": null,
       "flex": null,
       "flex_flow": null,
       "grid_area": null,
       "grid_auto_columns": null,
       "grid_auto_flow": null,
       "grid_auto_rows": null,
       "grid_column": null,
       "grid_gap": null,
       "grid_row": null,
       "grid_template_areas": null,
       "grid_template_columns": null,
       "grid_template_rows": null,
       "height": null,
       "justify_content": null,
       "justify_items": null,
       "left": null,
       "margin": null,
       "max_height": null,
       "max_width": null,
       "min_height": null,
       "min_width": null,
       "object_fit": null,
       "object_position": null,
       "order": null,
       "overflow": null,
       "overflow_x": null,
       "overflow_y": null,
       "padding": null,
       "right": null,
       "top": null,
       "visibility": null,
       "width": null
      }
     },
     "4e83d40fbc004873b3da99bc2e2d50f4": {
      "model_module": "@jupyter-widgets/controls",
      "model_module_version": "1.5.0",
      "model_name": "HBoxModel",
      "state": {
       "_dom_classes": [],
       "_model_module": "@jupyter-widgets/controls",
       "_model_module_version": "1.5.0",
       "_model_name": "HBoxModel",
       "_view_count": null,
       "_view_module": "@jupyter-widgets/controls",
       "_view_module_version": "1.5.0",
       "_view_name": "HBoxView",
       "box_style": "",
       "children": [
        "IPY_MODEL_9d25c34ee2fc4944a945690868dbbd04",
        "IPY_MODEL_66e6c26250db43b8a65dbf4d7f9fca81",
        "IPY_MODEL_0cf8302b479441f4abd6933043ebe8d7"
       ],
       "layout": "IPY_MODEL_30e117aaab12476b9cc7a3a85382701f"
      }
     },
     "51a52e9f96bf415e84166f797cfb70a0": {
      "model_module": "@jupyter-widgets/base",
      "model_module_version": "1.2.0",
      "model_name": "LayoutModel",
      "state": {
       "_model_module": "@jupyter-widgets/base",
       "_model_module_version": "1.2.0",
       "_model_name": "LayoutModel",
       "_view_count": null,
       "_view_module": "@jupyter-widgets/base",
       "_view_module_version": "1.2.0",
       "_view_name": "LayoutView",
       "align_content": null,
       "align_items": null,
       "align_self": null,
       "border": null,
       "bottom": null,
       "display": null,
       "flex": null,
       "flex_flow": null,
       "grid_area": null,
       "grid_auto_columns": null,
       "grid_auto_flow": null,
       "grid_auto_rows": null,
       "grid_column": null,
       "grid_gap": null,
       "grid_row": null,
       "grid_template_areas": null,
       "grid_template_columns": null,
       "grid_template_rows": null,
       "height": null,
       "justify_content": null,
       "justify_items": null,
       "left": null,
       "margin": null,
       "max_height": null,
       "max_width": null,
       "min_height": null,
       "min_width": null,
       "object_fit": null,
       "object_position": null,
       "order": null,
       "overflow": null,
       "overflow_x": null,
       "overflow_y": null,
       "padding": null,
       "right": null,
       "top": null,
       "visibility": null,
       "width": null
      }
     },
     "6153faf2f71c41868e3488ee05c2a63e": {
      "model_module": "@jupyter-widgets/base",
      "model_module_version": "1.2.0",
      "model_name": "LayoutModel",
      "state": {
       "_model_module": "@jupyter-widgets/base",
       "_model_module_version": "1.2.0",
       "_model_name": "LayoutModel",
       "_view_count": null,
       "_view_module": "@jupyter-widgets/base",
       "_view_module_version": "1.2.0",
       "_view_name": "LayoutView",
       "align_content": null,
       "align_items": null,
       "align_self": null,
       "border": null,
       "bottom": null,
       "display": null,
       "flex": null,
       "flex_flow": null,
       "grid_area": null,
       "grid_auto_columns": null,
       "grid_auto_flow": null,
       "grid_auto_rows": null,
       "grid_column": null,
       "grid_gap": null,
       "grid_row": null,
       "grid_template_areas": null,
       "grid_template_columns": null,
       "grid_template_rows": null,
       "height": null,
       "justify_content": null,
       "justify_items": null,
       "left": null,
       "margin": null,
       "max_height": null,
       "max_width": null,
       "min_height": null,
       "min_width": null,
       "object_fit": null,
       "object_position": null,
       "order": null,
       "overflow": null,
       "overflow_x": null,
       "overflow_y": null,
       "padding": null,
       "right": null,
       "top": null,
       "visibility": null,
       "width": null
      }
     },
     "6165c8f24b5343f1b20031f943594fe3": {
      "model_module": "@jupyter-widgets/base",
      "model_module_version": "1.2.0",
      "model_name": "LayoutModel",
      "state": {
       "_model_module": "@jupyter-widgets/base",
       "_model_module_version": "1.2.0",
       "_model_name": "LayoutModel",
       "_view_count": null,
       "_view_module": "@jupyter-widgets/base",
       "_view_module_version": "1.2.0",
       "_view_name": "LayoutView",
       "align_content": null,
       "align_items": null,
       "align_self": null,
       "border": null,
       "bottom": null,
       "display": null,
       "flex": null,
       "flex_flow": null,
       "grid_area": null,
       "grid_auto_columns": null,
       "grid_auto_flow": null,
       "grid_auto_rows": null,
       "grid_column": null,
       "grid_gap": null,
       "grid_row": null,
       "grid_template_areas": null,
       "grid_template_columns": null,
       "grid_template_rows": null,
       "height": null,
       "justify_content": null,
       "justify_items": null,
       "left": null,
       "margin": null,
       "max_height": null,
       "max_width": null,
       "min_height": null,
       "min_width": null,
       "object_fit": null,
       "object_position": null,
       "order": null,
       "overflow": null,
       "overflow_x": null,
       "overflow_y": null,
       "padding": null,
       "right": null,
       "top": null,
       "visibility": null,
       "width": null
      }
     },
     "62238053b90c4b6c95583991e8694dcc": {
      "model_module": "@jupyter-widgets/controls",
      "model_module_version": "1.5.0",
      "model_name": "HBoxModel",
      "state": {
       "_dom_classes": [],
       "_model_module": "@jupyter-widgets/controls",
       "_model_module_version": "1.5.0",
       "_model_name": "HBoxModel",
       "_view_count": null,
       "_view_module": "@jupyter-widgets/controls",
       "_view_module_version": "1.5.0",
       "_view_name": "HBoxView",
       "box_style": "",
       "children": [
        "IPY_MODEL_ae78c55ef65046039ab615ccf24c4e9b",
        "IPY_MODEL_3818deca39f443389ceaa5f06ffa3b60",
        "IPY_MODEL_67a2305c86b94a27a9124f54d4b313df"
       ],
       "layout": "IPY_MODEL_478ed8f10af441b287ad6f33b839b8f5"
      }
     },
     "656ca23146ba4d7d89cff4da17fd365e": {
      "model_module": "@jupyter-widgets/controls",
      "model_module_version": "1.5.0",
      "model_name": "HBoxModel",
      "state": {
       "_dom_classes": [],
       "_model_module": "@jupyter-widgets/controls",
       "_model_module_version": "1.5.0",
       "_model_name": "HBoxModel",
       "_view_count": null,
       "_view_module": "@jupyter-widgets/controls",
       "_view_module_version": "1.5.0",
       "_view_name": "HBoxView",
       "box_style": "",
       "children": [
        "IPY_MODEL_6695392326f3408086af0079fb597e33",
        "IPY_MODEL_1622739fbb98467e8d477d4389d22602",
        "IPY_MODEL_f3667e7bb7f941d2986cd2725d2976e2"
       ],
       "layout": "IPY_MODEL_d0c6432c4dc34d079d241d74fe72c746"
      }
     },
     "6695392326f3408086af0079fb597e33": {
      "model_module": "@jupyter-widgets/controls",
      "model_module_version": "1.5.0",
      "model_name": "HTMLModel",
      "state": {
       "_dom_classes": [],
       "_model_module": "@jupyter-widgets/controls",
       "_model_module_version": "1.5.0",
       "_model_name": "HTMLModel",
       "_view_count": null,
       "_view_module": "@jupyter-widgets/controls",
       "_view_module_version": "1.5.0",
       "_view_name": "HTMLView",
       "description": "",
       "description_tooltip": null,
       "layout": "IPY_MODEL_f1faa98e16cb4444880a398f40dc21b8",
       "placeholder": "​",
       "style": "IPY_MODEL_84eab8c392bc470e8488c7022a1ba9d4",
       "value": "--Model fit--: 100%"
      }
     },
     "66e6c26250db43b8a65dbf4d7f9fca81": {
      "model_module": "@jupyter-widgets/controls",
      "model_module_version": "1.5.0",
      "model_name": "FloatProgressModel",
      "state": {
       "_dom_classes": [],
       "_model_module": "@jupyter-widgets/controls",
       "_model_module_version": "1.5.0",
       "_model_name": "FloatProgressModel",
       "_view_count": null,
       "_view_module": "@jupyter-widgets/controls",
       "_view_module_version": "1.5.0",
       "_view_name": "ProgressView",
       "bar_style": "success",
       "description": "",
       "description_tooltip": null,
       "layout": "IPY_MODEL_159f6507100a4383a268619a10e2ebb1",
       "max": 4,
       "min": 0,
       "orientation": "horizontal",
       "style": "IPY_MODEL_8ac108a97c1d4fd988dc3b8a5034b2d0",
       "value": 4
      }
     },
     "67a2305c86b94a27a9124f54d4b313df": {
      "model_module": "@jupyter-widgets/controls",
      "model_module_version": "1.5.0",
      "model_name": "HTMLModel",
      "state": {
       "_dom_classes": [],
       "_model_module": "@jupyter-widgets/controls",
       "_model_module_version": "1.5.0",
       "_model_name": "HTMLModel",
       "_view_count": null,
       "_view_module": "@jupyter-widgets/controls",
       "_view_module_version": "1.5.0",
       "_view_name": "HTMLView",
       "description": "",
       "description_tooltip": null,
       "layout": "IPY_MODEL_e71fc51cfa7f4b2b9c9f9954c26611ad",
       "placeholder": "​",
       "style": "IPY_MODEL_cf72ada5ae214f628db4e35a4d8f549a",
       "value": " 4/4 [00:03&lt;00:00,  1.74s/it]"
      }
     },
     "699b3b2eb61d4520b17634e05c69b181": {
      "model_module": "@jupyter-widgets/controls",
      "model_module_version": "1.5.0",
      "model_name": "ProgressStyleModel",
      "state": {
       "_model_module": "@jupyter-widgets/controls",
       "_model_module_version": "1.5.0",
       "_model_name": "ProgressStyleModel",
       "_view_count": null,
       "_view_module": "@jupyter-widgets/base",
       "_view_module_version": "1.2.0",
       "_view_name": "StyleView",
       "bar_color": null,
       "description_width": ""
      }
     },
     "6a2870df8c334b9393a30276b56259ed": {
      "model_module": "@jupyter-widgets/controls",
      "model_module_version": "1.5.0",
      "model_name": "DescriptionStyleModel",
      "state": {
       "_model_module": "@jupyter-widgets/controls",
       "_model_module_version": "1.5.0",
       "_model_name": "DescriptionStyleModel",
       "_view_count": null,
       "_view_module": "@jupyter-widgets/base",
       "_view_module_version": "1.2.0",
       "_view_name": "StyleView",
       "description_width": ""
      }
     },
     "6dce71ced05e46a581f48a290b52e65e": {
      "model_module": "@jupyter-widgets/controls",
      "model_module_version": "1.5.0",
      "model_name": "FloatProgressModel",
      "state": {
       "_dom_classes": [],
       "_model_module": "@jupyter-widgets/controls",
       "_model_module_version": "1.5.0",
       "_model_name": "FloatProgressModel",
       "_view_count": null,
       "_view_module": "@jupyter-widgets/controls",
       "_view_module_version": "1.5.0",
       "_view_name": "ProgressView",
       "bar_style": "success",
       "description": "",
       "description_tooltip": null,
       "layout": "IPY_MODEL_4367e3b2108a46aba836b54d2cf23401",
       "max": 4,
       "min": 0,
       "orientation": "horizontal",
       "style": "IPY_MODEL_ab46fe6f6b58463f862df9071948178e",
       "value": 4
      }
     },
     "6dfbb465bbd544228a43090d74462786": {
      "model_module": "@jupyter-widgets/controls",
      "model_module_version": "1.5.0",
      "model_name": "ProgressStyleModel",
      "state": {
       "_model_module": "@jupyter-widgets/controls",
       "_model_module_version": "1.5.0",
       "_model_name": "ProgressStyleModel",
       "_view_count": null,
       "_view_module": "@jupyter-widgets/base",
       "_view_module_version": "1.2.0",
       "_view_name": "StyleView",
       "bar_color": null,
       "description_width": ""
      }
     },
     "70df85f3e50a4d90b61cbe98aeeda57a": {
      "model_module": "@jupyter-widgets/controls",
      "model_module_version": "1.5.0",
      "model_name": "HTMLModel",
      "state": {
       "_dom_classes": [],
       "_model_module": "@jupyter-widgets/controls",
       "_model_module_version": "1.5.0",
       "_model_name": "HTMLModel",
       "_view_count": null,
       "_view_module": "@jupyter-widgets/controls",
       "_view_module_version": "1.5.0",
       "_view_name": "HTMLView",
       "description": "",
       "description_tooltip": null,
       "layout": "IPY_MODEL_fc0274aec54e4839b465ea517bb6272a",
       "placeholder": "​",
       "style": "IPY_MODEL_d620cdf464d74c57a1af36dc6a73247c",
       "value": " 4/4 [00:03&lt;00:00,  1.67s/it]"
      }
     },
     "71f72dd4f9ab4ec58d407fb8a2810a0f": {
      "model_module": "@jupyter-widgets/controls",
      "model_module_version": "1.5.0",
      "model_name": "DescriptionStyleModel",
      "state": {
       "_model_module": "@jupyter-widgets/controls",
       "_model_module_version": "1.5.0",
       "_model_name": "DescriptionStyleModel",
       "_view_count": null,
       "_view_module": "@jupyter-widgets/base",
       "_view_module_version": "1.2.0",
       "_view_name": "StyleView",
       "description_width": ""
      }
     },
     "760cdf1fdf774254b2960130688bc6f8": {
      "model_module": "@jupyter-widgets/controls",
      "model_module_version": "1.5.0",
      "model_name": "HBoxModel",
      "state": {
       "_dom_classes": [],
       "_model_module": "@jupyter-widgets/controls",
       "_model_module_version": "1.5.0",
       "_model_name": "HBoxModel",
       "_view_count": null,
       "_view_module": "@jupyter-widgets/controls",
       "_view_module_version": "1.5.0",
       "_view_name": "HBoxView",
       "box_style": "",
       "children": [
        "IPY_MODEL_7c42e27ccb4b439591ac2e618998f852",
        "IPY_MODEL_fbca1adf27e042bb9d13a719ce0f53c3",
        "IPY_MODEL_70df85f3e50a4d90b61cbe98aeeda57a"
       ],
       "layout": "IPY_MODEL_ac11a6c6510e49d080d6c17484fb078a"
      }
     },
     "7615a63a5d4046629a5d9d2ec2d41ee5": {
      "model_module": "@jupyter-widgets/controls",
      "model_module_version": "1.5.0",
      "model_name": "HBoxModel",
      "state": {
       "_dom_classes": [],
       "_model_module": "@jupyter-widgets/controls",
       "_model_module_version": "1.5.0",
       "_model_name": "HBoxModel",
       "_view_count": null,
       "_view_module": "@jupyter-widgets/controls",
       "_view_module_version": "1.5.0",
       "_view_name": "HBoxView",
       "box_style": "",
       "children": [
        "IPY_MODEL_95e9b3e51fd649adb36aca673a6a8066",
        "IPY_MODEL_6dce71ced05e46a581f48a290b52e65e",
        "IPY_MODEL_bc2a3e0f1c1243cf81ecb4bdbb2ef298"
       ],
       "layout": "IPY_MODEL_e695240ed1ec49918f012f9c773f8bb1"
      }
     },
     "7c42e27ccb4b439591ac2e618998f852": {
      "model_module": "@jupyter-widgets/controls",
      "model_module_version": "1.5.0",
      "model_name": "HTMLModel",
      "state": {
       "_dom_classes": [],
       "_model_module": "@jupyter-widgets/controls",
       "_model_module_version": "1.5.0",
       "_model_name": "HTMLModel",
       "_view_count": null,
       "_view_module": "@jupyter-widgets/controls",
       "_view_module_version": "1.5.0",
       "_view_name": "HTMLView",
       "description": "",
       "description_tooltip": null,
       "layout": "IPY_MODEL_05036d3bd60c48a2a8b1ab639376fecc",
       "placeholder": "​",
       "style": "IPY_MODEL_dffe4f67da1e40a6a56878695b9bfce6",
       "value": "--Model fit--: 100%"
      }
     },
     "84eab8c392bc470e8488c7022a1ba9d4": {
      "model_module": "@jupyter-widgets/controls",
      "model_module_version": "1.5.0",
      "model_name": "DescriptionStyleModel",
      "state": {
       "_model_module": "@jupyter-widgets/controls",
       "_model_module_version": "1.5.0",
       "_model_name": "DescriptionStyleModel",
       "_view_count": null,
       "_view_module": "@jupyter-widgets/base",
       "_view_module_version": "1.2.0",
       "_view_name": "StyleView",
       "description_width": ""
      }
     },
     "8ac108a97c1d4fd988dc3b8a5034b2d0": {
      "model_module": "@jupyter-widgets/controls",
      "model_module_version": "1.5.0",
      "model_name": "ProgressStyleModel",
      "state": {
       "_model_module": "@jupyter-widgets/controls",
       "_model_module_version": "1.5.0",
       "_model_name": "ProgressStyleModel",
       "_view_count": null,
       "_view_module": "@jupyter-widgets/base",
       "_view_module_version": "1.2.0",
       "_view_name": "StyleView",
       "bar_color": null,
       "description_width": ""
      }
     },
     "8efbb65345a04394b8ad4b9862ae62a0": {
      "model_module": "@jupyter-widgets/controls",
      "model_module_version": "1.5.0",
      "model_name": "DescriptionStyleModel",
      "state": {
       "_model_module": "@jupyter-widgets/controls",
       "_model_module_version": "1.5.0",
       "_model_name": "DescriptionStyleModel",
       "_view_count": null,
       "_view_module": "@jupyter-widgets/base",
       "_view_module_version": "1.2.0",
       "_view_name": "StyleView",
       "description_width": ""
      }
     },
     "92bb5b0506bc4eccae29ff6f064222f7": {
      "model_module": "@jupyter-widgets/controls",
      "model_module_version": "1.5.0",
      "model_name": "ProgressStyleModel",
      "state": {
       "_model_module": "@jupyter-widgets/controls",
       "_model_module_version": "1.5.0",
       "_model_name": "ProgressStyleModel",
       "_view_count": null,
       "_view_module": "@jupyter-widgets/base",
       "_view_module_version": "1.2.0",
       "_view_name": "StyleView",
       "bar_color": null,
       "description_width": ""
      }
     },
     "932e36a416c74de08a89a56afb2d288e": {
      "model_module": "@jupyter-widgets/base",
      "model_module_version": "1.2.0",
      "model_name": "LayoutModel",
      "state": {
       "_model_module": "@jupyter-widgets/base",
       "_model_module_version": "1.2.0",
       "_model_name": "LayoutModel",
       "_view_count": null,
       "_view_module": "@jupyter-widgets/base",
       "_view_module_version": "1.2.0",
       "_view_name": "LayoutView",
       "align_content": null,
       "align_items": null,
       "align_self": null,
       "border": null,
       "bottom": null,
       "display": null,
       "flex": null,
       "flex_flow": null,
       "grid_area": null,
       "grid_auto_columns": null,
       "grid_auto_flow": null,
       "grid_auto_rows": null,
       "grid_column": null,
       "grid_gap": null,
       "grid_row": null,
       "grid_template_areas": null,
       "grid_template_columns": null,
       "grid_template_rows": null,
       "height": null,
       "justify_content": null,
       "justify_items": null,
       "left": null,
       "margin": null,
       "max_height": null,
       "max_width": null,
       "min_height": null,
       "min_width": null,
       "object_fit": null,
       "object_position": null,
       "order": null,
       "overflow": null,
       "overflow_x": null,
       "overflow_y": null,
       "padding": null,
       "right": null,
       "top": null,
       "visibility": null,
       "width": null
      }
     },
     "9459e67abbd84bb2b67a39ab21f8e6d2": {
      "model_module": "@jupyter-widgets/controls",
      "model_module_version": "1.5.0",
      "model_name": "DescriptionStyleModel",
      "state": {
       "_model_module": "@jupyter-widgets/controls",
       "_model_module_version": "1.5.0",
       "_model_name": "DescriptionStyleModel",
       "_view_count": null,
       "_view_module": "@jupyter-widgets/base",
       "_view_module_version": "1.2.0",
       "_view_name": "StyleView",
       "description_width": ""
      }
     },
     "95e9b3e51fd649adb36aca673a6a8066": {
      "model_module": "@jupyter-widgets/controls",
      "model_module_version": "1.5.0",
      "model_name": "HTMLModel",
      "state": {
       "_dom_classes": [],
       "_model_module": "@jupyter-widgets/controls",
       "_model_module_version": "1.5.0",
       "_model_name": "HTMLModel",
       "_view_count": null,
       "_view_module": "@jupyter-widgets/controls",
       "_view_module_version": "1.5.0",
       "_view_name": "HTMLView",
       "description": "",
       "description_tooltip": null,
       "layout": "IPY_MODEL_16499a1db0224d0982eb721516d565b7",
       "placeholder": "​",
       "style": "IPY_MODEL_8efbb65345a04394b8ad4b9862ae62a0",
       "value": "--Model fit--: 100%"
      }
     },
     "9d25c34ee2fc4944a945690868dbbd04": {
      "model_module": "@jupyter-widgets/controls",
      "model_module_version": "1.5.0",
      "model_name": "HTMLModel",
      "state": {
       "_dom_classes": [],
       "_model_module": "@jupyter-widgets/controls",
       "_model_module_version": "1.5.0",
       "_model_name": "HTMLModel",
       "_view_count": null,
       "_view_module": "@jupyter-widgets/controls",
       "_view_module_version": "1.5.0",
       "_view_name": "HTMLView",
       "description": "",
       "description_tooltip": null,
       "layout": "IPY_MODEL_dae1fefad6c74f2496dce219e8ffb1e6",
       "placeholder": "​",
       "style": "IPY_MODEL_032893c7a3c5412297d5b556dc111818",
       "value": "--Model fit--: 100%"
      }
     },
     "9dbe16fa93564d40a102ef587a4b5ea4": {
      "model_module": "@jupyter-widgets/base",
      "model_module_version": "1.2.0",
      "model_name": "LayoutModel",
      "state": {
       "_model_module": "@jupyter-widgets/base",
       "_model_module_version": "1.2.0",
       "_model_name": "LayoutModel",
       "_view_count": null,
       "_view_module": "@jupyter-widgets/base",
       "_view_module_version": "1.2.0",
       "_view_name": "LayoutView",
       "align_content": null,
       "align_items": null,
       "align_self": null,
       "border": null,
       "bottom": null,
       "display": null,
       "flex": null,
       "flex_flow": null,
       "grid_area": null,
       "grid_auto_columns": null,
       "grid_auto_flow": null,
       "grid_auto_rows": null,
       "grid_column": null,
       "grid_gap": null,
       "grid_row": null,
       "grid_template_areas": null,
       "grid_template_columns": null,
       "grid_template_rows": null,
       "height": null,
       "justify_content": null,
       "justify_items": null,
       "left": null,
       "margin": null,
       "max_height": null,
       "max_width": null,
       "min_height": null,
       "min_width": null,
       "object_fit": null,
       "object_position": null,
       "order": null,
       "overflow": null,
       "overflow_x": null,
       "overflow_y": null,
       "padding": null,
       "right": null,
       "top": null,
       "visibility": null,
       "width": null
      }
     },
     "9f358a62d1b44130a8cd6698790c9e9a": {
      "model_module": "@jupyter-widgets/controls",
      "model_module_version": "1.5.0",
      "model_name": "ProgressStyleModel",
      "state": {
       "_model_module": "@jupyter-widgets/controls",
       "_model_module_version": "1.5.0",
       "_model_name": "ProgressStyleModel",
       "_view_count": null,
       "_view_module": "@jupyter-widgets/base",
       "_view_module_version": "1.2.0",
       "_view_name": "StyleView",
       "bar_color": null,
       "description_width": ""
      }
     },
     "aae2bbec1189452ebd1923f677e3db02": {
      "model_module": "@jupyter-widgets/controls",
      "model_module_version": "1.5.0",
      "model_name": "HBoxModel",
      "state": {
       "_dom_classes": [],
       "_model_module": "@jupyter-widgets/controls",
       "_model_module_version": "1.5.0",
       "_model_name": "HBoxModel",
       "_view_count": null,
       "_view_module": "@jupyter-widgets/controls",
       "_view_module_version": "1.5.0",
       "_view_name": "HBoxView",
       "box_style": "",
       "children": [
        "IPY_MODEL_b3fdb1f9e88d4283a2ffbf44c31801e9",
        "IPY_MODEL_eb41db6a42914786b9a06140be76a05e",
        "IPY_MODEL_28bbbade82514cc4a3a3683a2ee5b3da"
       ],
       "layout": "IPY_MODEL_932e36a416c74de08a89a56afb2d288e"
      }
     },
     "ab46fe6f6b58463f862df9071948178e": {
      "model_module": "@jupyter-widgets/controls",
      "model_module_version": "1.5.0",
      "model_name": "ProgressStyleModel",
      "state": {
       "_model_module": "@jupyter-widgets/controls",
       "_model_module_version": "1.5.0",
       "_model_name": "ProgressStyleModel",
       "_view_count": null,
       "_view_module": "@jupyter-widgets/base",
       "_view_module_version": "1.2.0",
       "_view_name": "StyleView",
       "bar_color": null,
       "description_width": ""
      }
     },
     "ac11a6c6510e49d080d6c17484fb078a": {
      "model_module": "@jupyter-widgets/base",
      "model_module_version": "1.2.0",
      "model_name": "LayoutModel",
      "state": {
       "_model_module": "@jupyter-widgets/base",
       "_model_module_version": "1.2.0",
       "_model_name": "LayoutModel",
       "_view_count": null,
       "_view_module": "@jupyter-widgets/base",
       "_view_module_version": "1.2.0",
       "_view_name": "LayoutView",
       "align_content": null,
       "align_items": null,
       "align_self": null,
       "border": null,
       "bottom": null,
       "display": null,
       "flex": null,
       "flex_flow": null,
       "grid_area": null,
       "grid_auto_columns": null,
       "grid_auto_flow": null,
       "grid_auto_rows": null,
       "grid_column": null,
       "grid_gap": null,
       "grid_row": null,
       "grid_template_areas": null,
       "grid_template_columns": null,
       "grid_template_rows": null,
       "height": null,
       "justify_content": null,
       "justify_items": null,
       "left": null,
       "margin": null,
       "max_height": null,
       "max_width": null,
       "min_height": null,
       "min_width": null,
       "object_fit": null,
       "object_position": null,
       "order": null,
       "overflow": null,
       "overflow_x": null,
       "overflow_y": null,
       "padding": null,
       "right": null,
       "top": null,
       "visibility": null,
       "width": null
      }
     },
     "ae78c55ef65046039ab615ccf24c4e9b": {
      "model_module": "@jupyter-widgets/controls",
      "model_module_version": "1.5.0",
      "model_name": "HTMLModel",
      "state": {
       "_dom_classes": [],
       "_model_module": "@jupyter-widgets/controls",
       "_model_module_version": "1.5.0",
       "_model_name": "HTMLModel",
       "_view_count": null,
       "_view_module": "@jupyter-widgets/controls",
       "_view_module_version": "1.5.0",
       "_view_name": "HTMLView",
       "description": "",
       "description_tooltip": null,
       "layout": "IPY_MODEL_6153faf2f71c41868e3488ee05c2a63e",
       "placeholder": "​",
       "style": "IPY_MODEL_46eadc6b7520481ca91899f13e9a1a2f",
       "value": "--Model fit--: 100%"
      }
     },
     "af4f34b94d3a4e5485c29dca163ff682": {
      "model_module": "@jupyter-widgets/base",
      "model_module_version": "1.2.0",
      "model_name": "LayoutModel",
      "state": {
       "_model_module": "@jupyter-widgets/base",
       "_model_module_version": "1.2.0",
       "_model_name": "LayoutModel",
       "_view_count": null,
       "_view_module": "@jupyter-widgets/base",
       "_view_module_version": "1.2.0",
       "_view_name": "LayoutView",
       "align_content": null,
       "align_items": null,
       "align_self": null,
       "border": null,
       "bottom": null,
       "display": null,
       "flex": null,
       "flex_flow": null,
       "grid_area": null,
       "grid_auto_columns": null,
       "grid_auto_flow": null,
       "grid_auto_rows": null,
       "grid_column": null,
       "grid_gap": null,
       "grid_row": null,
       "grid_template_areas": null,
       "grid_template_columns": null,
       "grid_template_rows": null,
       "height": null,
       "justify_content": null,
       "justify_items": null,
       "left": null,
       "margin": null,
       "max_height": null,
       "max_width": null,
       "min_height": null,
       "min_width": null,
       "object_fit": null,
       "object_position": null,
       "order": null,
       "overflow": null,
       "overflow_x": null,
       "overflow_y": null,
       "padding": null,
       "right": null,
       "top": null,
       "visibility": null,
       "width": null
      }
     },
     "b3fdb1f9e88d4283a2ffbf44c31801e9": {
      "model_module": "@jupyter-widgets/controls",
      "model_module_version": "1.5.0",
      "model_name": "HTMLModel",
      "state": {
       "_dom_classes": [],
       "_model_module": "@jupyter-widgets/controls",
       "_model_module_version": "1.5.0",
       "_model_name": "HTMLModel",
       "_view_count": null,
       "_view_module": "@jupyter-widgets/controls",
       "_view_module_version": "1.5.0",
       "_view_name": "HTMLView",
       "description": "",
       "description_tooltip": null,
       "layout": "IPY_MODEL_0e450e704138497ebe697fba0f5f6837",
       "placeholder": "​",
       "style": "IPY_MODEL_71f72dd4f9ab4ec58d407fb8a2810a0f",
       "value": "100%"
      }
     },
     "bc2a3e0f1c1243cf81ecb4bdbb2ef298": {
      "model_module": "@jupyter-widgets/controls",
      "model_module_version": "1.5.0",
      "model_name": "HTMLModel",
      "state": {
       "_dom_classes": [],
       "_model_module": "@jupyter-widgets/controls",
       "_model_module_version": "1.5.0",
       "_model_name": "HTMLModel",
       "_view_count": null,
       "_view_module": "@jupyter-widgets/controls",
       "_view_module_version": "1.5.0",
       "_view_name": "HTMLView",
       "description": "",
       "description_tooltip": null,
       "layout": "IPY_MODEL_2b888d87ba5c4674be4f1c79135b1808",
       "placeholder": "​",
       "style": "IPY_MODEL_e4b9430d9ac145bead3f51f12b23f357",
       "value": " 4/4 [00:04&lt;00:00,  2.15s/it]"
      }
     },
     "cf0f3182ec524eb88b0f9ebcf6631a48": {
      "model_module": "@jupyter-widgets/base",
      "model_module_version": "1.2.0",
      "model_name": "LayoutModel",
      "state": {
       "_model_module": "@jupyter-widgets/base",
       "_model_module_version": "1.2.0",
       "_model_name": "LayoutModel",
       "_view_count": null,
       "_view_module": "@jupyter-widgets/base",
       "_view_module_version": "1.2.0",
       "_view_name": "LayoutView",
       "align_content": null,
       "align_items": null,
       "align_self": null,
       "border": null,
       "bottom": null,
       "display": null,
       "flex": null,
       "flex_flow": null,
       "grid_area": null,
       "grid_auto_columns": null,
       "grid_auto_flow": null,
       "grid_auto_rows": null,
       "grid_column": null,
       "grid_gap": null,
       "grid_row": null,
       "grid_template_areas": null,
       "grid_template_columns": null,
       "grid_template_rows": null,
       "height": null,
       "justify_content": null,
       "justify_items": null,
       "left": null,
       "margin": null,
       "max_height": null,
       "max_width": null,
       "min_height": null,
       "min_width": null,
       "object_fit": null,
       "object_position": null,
       "order": null,
       "overflow": null,
       "overflow_x": null,
       "overflow_y": null,
       "padding": null,
       "right": null,
       "top": null,
       "visibility": null,
       "width": null
      }
     },
     "cf72ada5ae214f628db4e35a4d8f549a": {
      "model_module": "@jupyter-widgets/controls",
      "model_module_version": "1.5.0",
      "model_name": "DescriptionStyleModel",
      "state": {
       "_model_module": "@jupyter-widgets/controls",
       "_model_module_version": "1.5.0",
       "_model_name": "DescriptionStyleModel",
       "_view_count": null,
       "_view_module": "@jupyter-widgets/base",
       "_view_module_version": "1.2.0",
       "_view_name": "StyleView",
       "description_width": ""
      }
     },
     "d0c6432c4dc34d079d241d74fe72c746": {
      "model_module": "@jupyter-widgets/base",
      "model_module_version": "1.2.0",
      "model_name": "LayoutModel",
      "state": {
       "_model_module": "@jupyter-widgets/base",
       "_model_module_version": "1.2.0",
       "_model_name": "LayoutModel",
       "_view_count": null,
       "_view_module": "@jupyter-widgets/base",
       "_view_module_version": "1.2.0",
       "_view_name": "LayoutView",
       "align_content": null,
       "align_items": null,
       "align_self": null,
       "border": null,
       "bottom": null,
       "display": null,
       "flex": null,
       "flex_flow": null,
       "grid_area": null,
       "grid_auto_columns": null,
       "grid_auto_flow": null,
       "grid_auto_rows": null,
       "grid_column": null,
       "grid_gap": null,
       "grid_row": null,
       "grid_template_areas": null,
       "grid_template_columns": null,
       "grid_template_rows": null,
       "height": null,
       "justify_content": null,
       "justify_items": null,
       "left": null,
       "margin": null,
       "max_height": null,
       "max_width": null,
       "min_height": null,
       "min_width": null,
       "object_fit": null,
       "object_position": null,
       "order": null,
       "overflow": null,
       "overflow_x": null,
       "overflow_y": null,
       "padding": null,
       "right": null,
       "top": null,
       "visibility": null,
       "width": null
      }
     },
     "d51e04bf61774aa2be2b96c94980cfb7": {
      "model_module": "@jupyter-widgets/base",
      "model_module_version": "1.2.0",
      "model_name": "LayoutModel",
      "state": {
       "_model_module": "@jupyter-widgets/base",
       "_model_module_version": "1.2.0",
       "_model_name": "LayoutModel",
       "_view_count": null,
       "_view_module": "@jupyter-widgets/base",
       "_view_module_version": "1.2.0",
       "_view_name": "LayoutView",
       "align_content": null,
       "align_items": null,
       "align_self": null,
       "border": null,
       "bottom": null,
       "display": null,
       "flex": null,
       "flex_flow": null,
       "grid_area": null,
       "grid_auto_columns": null,
       "grid_auto_flow": null,
       "grid_auto_rows": null,
       "grid_column": null,
       "grid_gap": null,
       "grid_row": null,
       "grid_template_areas": null,
       "grid_template_columns": null,
       "grid_template_rows": null,
       "height": null,
       "justify_content": null,
       "justify_items": null,
       "left": null,
       "margin": null,
       "max_height": null,
       "max_width": null,
       "min_height": null,
       "min_width": null,
       "object_fit": null,
       "object_position": null,
       "order": null,
       "overflow": null,
       "overflow_x": null,
       "overflow_y": null,
       "padding": null,
       "right": null,
       "top": null,
       "visibility": null,
       "width": null
      }
     },
     "d620cdf464d74c57a1af36dc6a73247c": {
      "model_module": "@jupyter-widgets/controls",
      "model_module_version": "1.5.0",
      "model_name": "DescriptionStyleModel",
      "state": {
       "_model_module": "@jupyter-widgets/controls",
       "_model_module_version": "1.5.0",
       "_model_name": "DescriptionStyleModel",
       "_view_count": null,
       "_view_module": "@jupyter-widgets/base",
       "_view_module_version": "1.2.0",
       "_view_name": "StyleView",
       "description_width": ""
      }
     },
     "dae1fefad6c74f2496dce219e8ffb1e6": {
      "model_module": "@jupyter-widgets/base",
      "model_module_version": "1.2.0",
      "model_name": "LayoutModel",
      "state": {
       "_model_module": "@jupyter-widgets/base",
       "_model_module_version": "1.2.0",
       "_model_name": "LayoutModel",
       "_view_count": null,
       "_view_module": "@jupyter-widgets/base",
       "_view_module_version": "1.2.0",
       "_view_name": "LayoutView",
       "align_content": null,
       "align_items": null,
       "align_self": null,
       "border": null,
       "bottom": null,
       "display": null,
       "flex": null,
       "flex_flow": null,
       "grid_area": null,
       "grid_auto_columns": null,
       "grid_auto_flow": null,
       "grid_auto_rows": null,
       "grid_column": null,
       "grid_gap": null,
       "grid_row": null,
       "grid_template_areas": null,
       "grid_template_columns": null,
       "grid_template_rows": null,
       "height": null,
       "justify_content": null,
       "justify_items": null,
       "left": null,
       "margin": null,
       "max_height": null,
       "max_width": null,
       "min_height": null,
       "min_width": null,
       "object_fit": null,
       "object_position": null,
       "order": null,
       "overflow": null,
       "overflow_x": null,
       "overflow_y": null,
       "padding": null,
       "right": null,
       "top": null,
       "visibility": null,
       "width": null
      }
     },
     "dffe4f67da1e40a6a56878695b9bfce6": {
      "model_module": "@jupyter-widgets/controls",
      "model_module_version": "1.5.0",
      "model_name": "DescriptionStyleModel",
      "state": {
       "_model_module": "@jupyter-widgets/controls",
       "_model_module_version": "1.5.0",
       "_model_name": "DescriptionStyleModel",
       "_view_count": null,
       "_view_module": "@jupyter-widgets/base",
       "_view_module_version": "1.2.0",
       "_view_name": "StyleView",
       "description_width": ""
      }
     },
     "e4b9430d9ac145bead3f51f12b23f357": {
      "model_module": "@jupyter-widgets/controls",
      "model_module_version": "1.5.0",
      "model_name": "DescriptionStyleModel",
      "state": {
       "_model_module": "@jupyter-widgets/controls",
       "_model_module_version": "1.5.0",
       "_model_name": "DescriptionStyleModel",
       "_view_count": null,
       "_view_module": "@jupyter-widgets/base",
       "_view_module_version": "1.2.0",
       "_view_name": "StyleView",
       "description_width": ""
      }
     },
     "e695240ed1ec49918f012f9c773f8bb1": {
      "model_module": "@jupyter-widgets/base",
      "model_module_version": "1.2.0",
      "model_name": "LayoutModel",
      "state": {
       "_model_module": "@jupyter-widgets/base",
       "_model_module_version": "1.2.0",
       "_model_name": "LayoutModel",
       "_view_count": null,
       "_view_module": "@jupyter-widgets/base",
       "_view_module_version": "1.2.0",
       "_view_name": "LayoutView",
       "align_content": null,
       "align_items": null,
       "align_self": null,
       "border": null,
       "bottom": null,
       "display": null,
       "flex": null,
       "flex_flow": null,
       "grid_area": null,
       "grid_auto_columns": null,
       "grid_auto_flow": null,
       "grid_auto_rows": null,
       "grid_column": null,
       "grid_gap": null,
       "grid_row": null,
       "grid_template_areas": null,
       "grid_template_columns": null,
       "grid_template_rows": null,
       "height": null,
       "justify_content": null,
       "justify_items": null,
       "left": null,
       "margin": null,
       "max_height": null,
       "max_width": null,
       "min_height": null,
       "min_width": null,
       "object_fit": null,
       "object_position": null,
       "order": null,
       "overflow": null,
       "overflow_x": null,
       "overflow_y": null,
       "padding": null,
       "right": null,
       "top": null,
       "visibility": null,
       "width": null
      }
     },
     "e71fc51cfa7f4b2b9c9f9954c26611ad": {
      "model_module": "@jupyter-widgets/base",
      "model_module_version": "1.2.0",
      "model_name": "LayoutModel",
      "state": {
       "_model_module": "@jupyter-widgets/base",
       "_model_module_version": "1.2.0",
       "_model_name": "LayoutModel",
       "_view_count": null,
       "_view_module": "@jupyter-widgets/base",
       "_view_module_version": "1.2.0",
       "_view_name": "LayoutView",
       "align_content": null,
       "align_items": null,
       "align_self": null,
       "border": null,
       "bottom": null,
       "display": null,
       "flex": null,
       "flex_flow": null,
       "grid_area": null,
       "grid_auto_columns": null,
       "grid_auto_flow": null,
       "grid_auto_rows": null,
       "grid_column": null,
       "grid_gap": null,
       "grid_row": null,
       "grid_template_areas": null,
       "grid_template_columns": null,
       "grid_template_rows": null,
       "height": null,
       "justify_content": null,
       "justify_items": null,
       "left": null,
       "margin": null,
       "max_height": null,
       "max_width": null,
       "min_height": null,
       "min_width": null,
       "object_fit": null,
       "object_position": null,
       "order": null,
       "overflow": null,
       "overflow_x": null,
       "overflow_y": null,
       "padding": null,
       "right": null,
       "top": null,
       "visibility": null,
       "width": null
      }
     },
     "eb41db6a42914786b9a06140be76a05e": {
      "model_module": "@jupyter-widgets/controls",
      "model_module_version": "1.5.0",
      "model_name": "FloatProgressModel",
      "state": {
       "_dom_classes": [],
       "_model_module": "@jupyter-widgets/controls",
       "_model_module_version": "1.5.0",
       "_model_name": "FloatProgressModel",
       "_view_count": null,
       "_view_module": "@jupyter-widgets/controls",
       "_view_module_version": "1.5.0",
       "_view_name": "ProgressView",
       "bar_style": "success",
       "description": "",
       "description_tooltip": null,
       "layout": "IPY_MODEL_6165c8f24b5343f1b20031f943594fe3",
       "max": 5,
       "min": 0,
       "orientation": "horizontal",
       "style": "IPY_MODEL_9f358a62d1b44130a8cd6698790c9e9a",
       "value": 5
      }
     },
     "f1faa98e16cb4444880a398f40dc21b8": {
      "model_module": "@jupyter-widgets/base",
      "model_module_version": "1.2.0",
      "model_name": "LayoutModel",
      "state": {
       "_model_module": "@jupyter-widgets/base",
       "_model_module_version": "1.2.0",
       "_model_name": "LayoutModel",
       "_view_count": null,
       "_view_module": "@jupyter-widgets/base",
       "_view_module_version": "1.2.0",
       "_view_name": "LayoutView",
       "align_content": null,
       "align_items": null,
       "align_self": null,
       "border": null,
       "bottom": null,
       "display": null,
       "flex": null,
       "flex_flow": null,
       "grid_area": null,
       "grid_auto_columns": null,
       "grid_auto_flow": null,
       "grid_auto_rows": null,
       "grid_column": null,
       "grid_gap": null,
       "grid_row": null,
       "grid_template_areas": null,
       "grid_template_columns": null,
       "grid_template_rows": null,
       "height": null,
       "justify_content": null,
       "justify_items": null,
       "left": null,
       "margin": null,
       "max_height": null,
       "max_width": null,
       "min_height": null,
       "min_width": null,
       "object_fit": null,
       "object_position": null,
       "order": null,
       "overflow": null,
       "overflow_x": null,
       "overflow_y": null,
       "padding": null,
       "right": null,
       "top": null,
       "visibility": null,
       "width": null
      }
     },
     "f3667e7bb7f941d2986cd2725d2976e2": {
      "model_module": "@jupyter-widgets/controls",
      "model_module_version": "1.5.0",
      "model_name": "HTMLModel",
      "state": {
       "_dom_classes": [],
       "_model_module": "@jupyter-widgets/controls",
       "_model_module_version": "1.5.0",
       "_model_name": "HTMLModel",
       "_view_count": null,
       "_view_module": "@jupyter-widgets/controls",
       "_view_module_version": "1.5.0",
       "_view_name": "HTMLView",
       "description": "",
       "description_tooltip": null,
       "layout": "IPY_MODEL_9dbe16fa93564d40a102ef587a4b5ea4",
       "placeholder": "​",
       "style": "IPY_MODEL_6a2870df8c334b9393a30276b56259ed",
       "value": " 4/4 [00:03&lt;00:00,  1.77s/it]"
      }
     },
     "fbca1adf27e042bb9d13a719ce0f53c3": {
      "model_module": "@jupyter-widgets/controls",
      "model_module_version": "1.5.0",
      "model_name": "FloatProgressModel",
      "state": {
       "_dom_classes": [],
       "_model_module": "@jupyter-widgets/controls",
       "_model_module_version": "1.5.0",
       "_model_name": "FloatProgressModel",
       "_view_count": null,
       "_view_module": "@jupyter-widgets/controls",
       "_view_module_version": "1.5.0",
       "_view_name": "ProgressView",
       "bar_style": "success",
       "description": "",
       "description_tooltip": null,
       "layout": "IPY_MODEL_19bc5e86cd8e4f96a2aa433254dc210b",
       "max": 4,
       "min": 0,
       "orientation": "horizontal",
       "style": "IPY_MODEL_92bb5b0506bc4eccae29ff6f064222f7",
       "value": 4
      }
     },
     "fc0274aec54e4839b465ea517bb6272a": {
      "model_module": "@jupyter-widgets/base",
      "model_module_version": "1.2.0",
      "model_name": "LayoutModel",
      "state": {
       "_model_module": "@jupyter-widgets/base",
       "_model_module_version": "1.2.0",
       "_model_name": "LayoutModel",
       "_view_count": null,
       "_view_module": "@jupyter-widgets/base",
       "_view_module_version": "1.2.0",
       "_view_name": "LayoutView",
       "align_content": null,
       "align_items": null,
       "align_self": null,
       "border": null,
       "bottom": null,
       "display": null,
       "flex": null,
       "flex_flow": null,
       "grid_area": null,
       "grid_auto_columns": null,
       "grid_auto_flow": null,
       "grid_auto_rows": null,
       "grid_column": null,
       "grid_gap": null,
       "grid_row": null,
       "grid_template_areas": null,
       "grid_template_columns": null,
       "grid_template_rows": null,
       "height": null,
       "justify_content": null,
       "justify_items": null,
       "left": null,
       "margin": null,
       "max_height": null,
       "max_width": null,
       "min_height": null,
       "min_width": null,
       "object_fit": null,
       "object_position": null,
       "order": null,
       "overflow": null,
       "overflow_x": null,
       "overflow_y": null,
       "padding": null,
       "right": null,
       "top": null,
       "visibility": null,
       "width": null
      }
     }
    },
    "version_major": 2,
    "version_minor": 0
   }
  }
 },
 "nbformat": 4,
 "nbformat_minor": 5
}
